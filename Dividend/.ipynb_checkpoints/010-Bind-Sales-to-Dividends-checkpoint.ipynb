{
 "cells": [
  {
   "cell_type": "code",
   "execution_count": 1,
   "metadata": {},
   "outputs": [],
   "source": [
    "import pandas as pd\n",
    "import numpy as np\n",
    "from datetime import date, timedelta\n",
    "from sqlalchemy import create_engine\n",
    "\n",
    "engine = create_engine('mysql+pymysql://root:@localhost:3306/portfolio_development')\n",
    "conpf = engine.connect()\n",
    "\n",
    "data_path = \"../data/\"\n",
    "csv_path = \"\\\\Users\\\\User\\\\iCloudDrive\\\\\"\n",
    "box_path = \"\\\\Users\\\\User\\\\Dropbox\\\\\"\n",
    "\n",
    "format_dict = {\n",
    "               'price':'{:.2f}','buy_p':'{:.2f}','sell_p':'{:.2f}','diff':'{:.2f}',\n",
    "               'ppu':'{:.4f}',\n",
    "               'net':'{:,.2f}','fee':'{:,.2f}','vat':'{:,.2f}',\n",
    "               'buy_amt':'{:,.2f}','sell_amt':'{:,.2f}','profit':'{:,.2f}',\n",
    "               'div_amt':'{:,.2f}','ttl_amt':'{:,.2f}','pct':'{:,.2f}',\n",
    "               'qty':'{:,}','number':'{:,}','days':'{:,}'\n",
    "              }\n",
    "pd.set_option(\"display.max_rows\", None)"
   ]
  },
  {
   "cell_type": "code",
   "execution_count": 14,
   "metadata": {},
   "outputs": [],
   "source": [
    "kind = 'DOS'\n",
    "div_year = 2021\n",
    "div_quarter = 2\n",
    "sell_year = 2021"
   ]
  },
  {
   "cell_type": "markdown",
   "metadata": {},
   "source": [
    "### Stocks that are sold on specified year"
   ]
  },
  {
   "cell_type": "code",
   "execution_count": 6,
   "metadata": {},
   "outputs": [
    {
     "name": "stdout",
     "output_type": "stream",
     "text": [
      "\n",
      "SELECT T.name, qty, S.price AS sell_p, B.price AS buy_p, S.price - B.price AS diff,\n",
      "S.net AS sell_amt, B.net AS buy_amt, S.net - B.net AS profit, \n",
      "S.date AS sell_date, B.date AS buy_date, DATEDIFF(S.date,B.date) AS days,\n",
      "ROUND((S.net-B.net)/B.net*36500/DATEDIFF(S.date,B.date),2) AS pct, S.id, B.kind\n",
      "FROM sells S\n",
      "JOIN buys B ON S.buy_id = B.id \n",
      "JOIN stocks T ON B.stock_id = T.id \n",
      "WHERE S.dividend_id = 0\n",
      "AND YEAR(s.date) = 2021\n",
      "AND kind = 'DOS'\n",
      "ORDER BY T.name, S.date\n"
     ]
    }
   ],
   "source": [
    "sql = '''\n",
    "SELECT T.name, qty, S.price AS sell_p, B.price AS buy_p, S.price - B.price AS diff,\n",
    "S.net AS sell_amt, B.net AS buy_amt, S.net - B.net AS profit, \n",
    "S.date AS sell_date, B.date AS buy_date, DATEDIFF(S.date,B.date) AS days,\n",
    "ROUND((S.net-B.net)/B.net*36500/DATEDIFF(S.date,B.date),2) AS pct, S.id, B.kind\n",
    "FROM sells S\n",
    "JOIN buys B ON S.buy_id = B.id \n",
    "JOIN stocks T ON B.stock_id = T.id \n",
    "WHERE S.dividend_id = 0\n",
    "AND YEAR(s.date) = %s\n",
    "AND kind = '%s'\n",
    "ORDER BY T.name, S.date'''\n",
    "#WHERE status = \"Sold\" \n",
    "sql = sql % (sell_year, kind)\n",
    "print(sql)"
   ]
  },
  {
   "cell_type": "code",
   "execution_count": 7,
   "metadata": {
    "scrolled": true
   },
   "outputs": [
    {
     "data": {
      "text/html": [
       "<style  type=\"text/css\" >\n",
       "</style><table id=\"T_bfca1ad4_1140_11ec_9068_5cbaef7ebc1c\" ><thead>    <tr>        <th class=\"blank level0\" ></th>        <th class=\"col_heading level0 col0\" >name</th>        <th class=\"col_heading level0 col1\" >qty</th>        <th class=\"col_heading level0 col2\" >sell_p</th>        <th class=\"col_heading level0 col3\" >buy_p</th>        <th class=\"col_heading level0 col4\" >diff</th>        <th class=\"col_heading level0 col5\" >sell_amt</th>        <th class=\"col_heading level0 col6\" >buy_amt</th>        <th class=\"col_heading level0 col7\" >profit</th>        <th class=\"col_heading level0 col8\" >sell_date</th>        <th class=\"col_heading level0 col9\" >buy_date</th>        <th class=\"col_heading level0 col10\" >days</th>        <th class=\"col_heading level0 col11\" >pct</th>        <th class=\"col_heading level0 col12\" >id</th>        <th class=\"col_heading level0 col13\" >kind</th>    </tr></thead><tbody>\n",
       "                <tr>\n",
       "                        <th id=\"T_bfca1ad4_1140_11ec_9068_5cbaef7ebc1clevel0_row0\" class=\"row_heading level0 row0\" >0</th>\n",
       "                        <td id=\"T_bfca1ad4_1140_11ec_9068_5cbaef7ebc1crow0_col0\" class=\"data row0 col0\" >AIMIRT</td>\n",
       "                        <td id=\"T_bfca1ad4_1140_11ec_9068_5cbaef7ebc1crow0_col1\" class=\"data row0 col1\" >10,000</td>\n",
       "                        <td id=\"T_bfca1ad4_1140_11ec_9068_5cbaef7ebc1crow0_col2\" class=\"data row0 col2\" >12.30</td>\n",
       "                        <td id=\"T_bfca1ad4_1140_11ec_9068_5cbaef7ebc1crow0_col3\" class=\"data row0 col3\" >12.00</td>\n",
       "                        <td id=\"T_bfca1ad4_1140_11ec_9068_5cbaef7ebc1crow0_col4\" class=\"data row0 col4\" >0.30</td>\n",
       "                        <td id=\"T_bfca1ad4_1140_11ec_9068_5cbaef7ebc1crow0_col5\" class=\"data row0 col5\" >122,727.57</td>\n",
       "                        <td id=\"T_bfca1ad4_1140_11ec_9068_5cbaef7ebc1crow0_col6\" class=\"data row0 col6\" >120,265.79</td>\n",
       "                        <td id=\"T_bfca1ad4_1140_11ec_9068_5cbaef7ebc1crow0_col7\" class=\"data row0 col7\" >2,461.78</td>\n",
       "                        <td id=\"T_bfca1ad4_1140_11ec_9068_5cbaef7ebc1crow0_col8\" class=\"data row0 col8\" >2021-07-15</td>\n",
       "                        <td id=\"T_bfca1ad4_1140_11ec_9068_5cbaef7ebc1crow0_col9\" class=\"data row0 col9\" >2021-06-24</td>\n",
       "                        <td id=\"T_bfca1ad4_1140_11ec_9068_5cbaef7ebc1crow0_col10\" class=\"data row0 col10\" >21</td>\n",
       "                        <td id=\"T_bfca1ad4_1140_11ec_9068_5cbaef7ebc1crow0_col11\" class=\"data row0 col11\" >35.58</td>\n",
       "                        <td id=\"T_bfca1ad4_1140_11ec_9068_5cbaef7ebc1crow0_col12\" class=\"data row0 col12\" >761</td>\n",
       "                        <td id=\"T_bfca1ad4_1140_11ec_9068_5cbaef7ebc1crow0_col13\" class=\"data row0 col13\" >DOS</td>\n",
       "            </tr>\n",
       "    </tbody></table>"
      ],
      "text/plain": [
       "<pandas.io.formats.style.Styler at 0x241fcc747f0>"
      ]
     },
     "execution_count": 7,
     "metadata": {},
     "output_type": "execute_result"
    }
   ],
   "source": [
    "sells = pd.read_sql(sql, conpf)\n",
    "sells.sort_values(['name','sell_date'],ascending=[True,True]).style.format(format_dict)"
   ]
  },
  {
   "cell_type": "markdown",
   "metadata": {},
   "source": [
    "### Bind sell to dividend record process"
   ]
  },
  {
   "cell_type": "code",
   "execution_count": 5,
   "metadata": {},
   "outputs": [
    {
     "data": {
      "text/plain": [
       "1"
      ]
     },
     "execution_count": 5,
     "metadata": {},
     "output_type": "execute_result"
    }
   ],
   "source": [
    "sql = '''\n",
    "UPDATE sells\n",
    "SET dividend_id = 204\n",
    "WHERE id = 796'''\n",
    "rp = conpf.execute(sql)\n",
    "rp.rowcount"
   ]
  },
  {
   "cell_type": "markdown",
   "metadata": {},
   "source": [
    "### Percent calculation of sells after dividend payment date"
   ]
  },
  {
   "cell_type": "code",
   "execution_count": 8,
   "metadata": {
    "scrolled": true
   },
   "outputs": [
    {
     "data": {
      "text/html": [
       "<style  type=\"text/css\" >\n",
       "</style><table id=\"T_c3461e24_1140_11ec_b474_5cbaef7ebc1c\" ><thead>    <tr>        <th class=\"blank level0\" ></th>        <th class=\"col_heading level0 col0\" >name</th>        <th class=\"col_heading level0 col1\" >number</th>        <th class=\"col_heading level0 col2\" >ppu</th>        <th class=\"col_heading level0 col3\" >div_amt</th>        <th class=\"col_heading level0 col4\" >profit</th>        <th class=\"col_heading level0 col5\" >ttl_amt</th>        <th class=\"col_heading level0 col6\" >buy_amt</th>        <th class=\"col_heading level0 col7\" >x_date</th>        <th class=\"col_heading level0 col8\" >p_date</th>        <th class=\"col_heading level0 col9\" >sell_date</th>        <th class=\"col_heading level0 col10\" >buy_date</th>        <th class=\"col_heading level0 col11\" >days</th>        <th class=\"col_heading level0 col12\" >pct</th>        <th class=\"col_heading level0 col13\" >year</th>        <th class=\"col_heading level0 col14\" >quarter</th>    </tr></thead><tbody>\n",
       "                <tr>\n",
       "                        <th id=\"T_c3461e24_1140_11ec_b474_5cbaef7ebc1clevel0_row0\" class=\"row_heading level0 row0\" >12</th>\n",
       "                        <td id=\"T_c3461e24_1140_11ec_b474_5cbaef7ebc1crow0_col0\" class=\"data row0 col0\" >SUPEREIF</td>\n",
       "                        <td id=\"T_c3461e24_1140_11ec_b474_5cbaef7ebc1crow0_col1\" class=\"data row0 col1\" >10,000</td>\n",
       "                        <td id=\"T_c3461e24_1140_11ec_b474_5cbaef7ebc1crow0_col2\" class=\"data row0 col2\" >0.2520</td>\n",
       "                        <td id=\"T_c3461e24_1140_11ec_b474_5cbaef7ebc1crow0_col3\" class=\"data row0 col3\" >2,520.40</td>\n",
       "                        <td id=\"T_c3461e24_1140_11ec_b474_5cbaef7ebc1crow0_col4\" class=\"data row0 col4\" >488.36</td>\n",
       "                        <td id=\"T_c3461e24_1140_11ec_b474_5cbaef7ebc1crow0_col5\" class=\"data row0 col5\" >3,008.76</td>\n",
       "                        <td id=\"T_c3461e24_1140_11ec_b474_5cbaef7ebc1crow0_col6\" class=\"data row0 col6\" >115,254.71</td>\n",
       "                        <td id=\"T_c3461e24_1140_11ec_b474_5cbaef7ebc1crow0_col7\" class=\"data row0 col7\" >2021-08-19</td>\n",
       "                        <td id=\"T_c3461e24_1140_11ec_b474_5cbaef7ebc1crow0_col8\" class=\"data row0 col8\" >2021-09-07</td>\n",
       "                        <td id=\"T_c3461e24_1140_11ec_b474_5cbaef7ebc1crow0_col9\" class=\"data row0 col9\" >2021-09-02</td>\n",
       "                        <td id=\"T_c3461e24_1140_11ec_b474_5cbaef7ebc1crow0_col10\" class=\"data row0 col10\" >2021-08-18</td>\n",
       "                        <td id=\"T_c3461e24_1140_11ec_b474_5cbaef7ebc1crow0_col11\" class=\"data row0 col11\" >20</td>\n",
       "                        <td id=\"T_c3461e24_1140_11ec_b474_5cbaef7ebc1crow0_col12\" class=\"data row0 col12\" >47.64</td>\n",
       "                        <td id=\"T_c3461e24_1140_11ec_b474_5cbaef7ebc1crow0_col13\" class=\"data row0 col13\" >2021</td>\n",
       "                        <td id=\"T_c3461e24_1140_11ec_b474_5cbaef7ebc1crow0_col14\" class=\"data row0 col14\" >2</td>\n",
       "            </tr>\n",
       "            <tr>\n",
       "                        <th id=\"T_c3461e24_1140_11ec_b474_5cbaef7ebc1clevel0_row1\" class=\"row_heading level0 row1\" >3</th>\n",
       "                        <td id=\"T_c3461e24_1140_11ec_b474_5cbaef7ebc1crow1_col0\" class=\"data row1 col0\" >GVREIT</td>\n",
       "                        <td id=\"T_c3461e24_1140_11ec_b474_5cbaef7ebc1crow1_col1\" class=\"data row1 col1\" >10,000</td>\n",
       "                        <td id=\"T_c3461e24_1140_11ec_b474_5cbaef7ebc1crow1_col2\" class=\"data row1 col2\" >0.1960</td>\n",
       "                        <td id=\"T_c3461e24_1140_11ec_b474_5cbaef7ebc1crow1_col3\" class=\"data row1 col3\" >1,764.00</td>\n",
       "                        <td id=\"T_c3461e24_1140_11ec_b474_5cbaef7ebc1crow1_col4\" class=\"data row1 col4\" >532.66</td>\n",
       "                        <td id=\"T_c3461e24_1140_11ec_b474_5cbaef7ebc1crow1_col5\" class=\"data row1 col5\" >2,296.66</td>\n",
       "                        <td id=\"T_c3461e24_1140_11ec_b474_5cbaef7ebc1crow1_col6\" class=\"data row1 col6\" >105,232.56</td>\n",
       "                        <td id=\"T_c3461e24_1140_11ec_b474_5cbaef7ebc1crow1_col7\" class=\"data row1 col7\" >2021-08-23</td>\n",
       "                        <td id=\"T_c3461e24_1140_11ec_b474_5cbaef7ebc1crow1_col8\" class=\"data row1 col8\" >2021-09-08</td>\n",
       "                        <td id=\"T_c3461e24_1140_11ec_b474_5cbaef7ebc1crow1_col9\" class=\"data row1 col9\" >2021-08-24</td>\n",
       "                        <td id=\"T_c3461e24_1140_11ec_b474_5cbaef7ebc1crow1_col10\" class=\"data row1 col10\" >2021-05-10</td>\n",
       "                        <td id=\"T_c3461e24_1140_11ec_b474_5cbaef7ebc1crow1_col11\" class=\"data row1 col11\" >121</td>\n",
       "                        <td id=\"T_c3461e24_1140_11ec_b474_5cbaef7ebc1crow1_col12\" class=\"data row1 col12\" >6.58</td>\n",
       "                        <td id=\"T_c3461e24_1140_11ec_b474_5cbaef7ebc1crow1_col13\" class=\"data row1 col13\" >2021</td>\n",
       "                        <td id=\"T_c3461e24_1140_11ec_b474_5cbaef7ebc1crow1_col14\" class=\"data row1 col14\" >2</td>\n",
       "            </tr>\n",
       "            <tr>\n",
       "                        <th id=\"T_c3461e24_1140_11ec_b474_5cbaef7ebc1clevel0_row2\" class=\"row_heading level0 row2\" >10</th>\n",
       "                        <td id=\"T_c3461e24_1140_11ec_b474_5cbaef7ebc1crow2_col0\" class=\"data row2 col0\" >SCCC</td>\n",
       "                        <td id=\"T_c3461e24_1140_11ec_b474_5cbaef7ebc1crow2_col1\" class=\"data row2 col1\" >600</td>\n",
       "                        <td id=\"T_c3461e24_1140_11ec_b474_5cbaef7ebc1crow2_col2\" class=\"data row2 col2\" >9.0000</td>\n",
       "                        <td id=\"T_c3461e24_1140_11ec_b474_5cbaef7ebc1crow2_col3\" class=\"data row2 col3\" >4,860.00</td>\n",
       "                        <td id=\"T_c3461e24_1140_11ec_b474_5cbaef7ebc1crow2_col4\" class=\"data row2 col4\" >-4,941.88</td>\n",
       "                        <td id=\"T_c3461e24_1140_11ec_b474_5cbaef7ebc1crow2_col5\" class=\"data row2 col5\" >-81.88</td>\n",
       "                        <td id=\"T_c3461e24_1140_11ec_b474_5cbaef7ebc1crow2_col6\" class=\"data row2 col6\" >102,225.92</td>\n",
       "                        <td id=\"T_c3461e24_1140_11ec_b474_5cbaef7ebc1crow2_col7\" class=\"data row2 col7\" >2021-02-24</td>\n",
       "                        <td id=\"T_c3461e24_1140_11ec_b474_5cbaef7ebc1crow2_col8\" class=\"data row2 col8\" >2021-04-05</td>\n",
       "                        <td id=\"T_c3461e24_1140_11ec_b474_5cbaef7ebc1crow2_col9\" class=\"data row2 col9\" >2021-08-13</td>\n",
       "                        <td id=\"T_c3461e24_1140_11ec_b474_5cbaef7ebc1crow2_col10\" class=\"data row2 col10\" >2021-02-23</td>\n",
       "                        <td id=\"T_c3461e24_1140_11ec_b474_5cbaef7ebc1crow2_col11\" class=\"data row2 col11\" >171</td>\n",
       "                        <td id=\"T_c3461e24_1140_11ec_b474_5cbaef7ebc1crow2_col12\" class=\"data row2 col12\" >-0.17</td>\n",
       "                        <td id=\"T_c3461e24_1140_11ec_b474_5cbaef7ebc1crow2_col13\" class=\"data row2 col13\" >2020</td>\n",
       "                        <td id=\"T_c3461e24_1140_11ec_b474_5cbaef7ebc1crow2_col14\" class=\"data row2 col14\" >4</td>\n",
       "            </tr>\n",
       "            <tr>\n",
       "                        <th id=\"T_c3461e24_1140_11ec_b474_5cbaef7ebc1clevel0_row3\" class=\"row_heading level0 row3\" >9</th>\n",
       "                        <td id=\"T_c3461e24_1140_11ec_b474_5cbaef7ebc1crow3_col0\" class=\"data row3 col0\" >POPF</td>\n",
       "                        <td id=\"T_c3461e24_1140_11ec_b474_5cbaef7ebc1crow3_col1\" class=\"data row3 col1\" >10,000</td>\n",
       "                        <td id=\"T_c3461e24_1140_11ec_b474_5cbaef7ebc1crow3_col2\" class=\"data row3 col2\" >0.2470</td>\n",
       "                        <td id=\"T_c3461e24_1140_11ec_b474_5cbaef7ebc1crow3_col3\" class=\"data row3 col3\" >2,223.00</td>\n",
       "                        <td id=\"T_c3461e24_1140_11ec_b474_5cbaef7ebc1crow3_col4\" class=\"data row3 col4\" >2,506.08</td>\n",
       "                        <td id=\"T_c3461e24_1140_11ec_b474_5cbaef7ebc1crow3_col5\" class=\"data row3 col5\" >4,729.08</td>\n",
       "                        <td id=\"T_c3461e24_1140_11ec_b474_5cbaef7ebc1crow3_col6\" class=\"data row3 col6\" >110,243.64</td>\n",
       "                        <td id=\"T_c3461e24_1140_11ec_b474_5cbaef7ebc1crow3_col7\" class=\"data row3 col7\" >2021-05-12</td>\n",
       "                        <td id=\"T_c3461e24_1140_11ec_b474_5cbaef7ebc1crow3_col8\" class=\"data row3 col8\" >2021-06-04</td>\n",
       "                        <td id=\"T_c3461e24_1140_11ec_b474_5cbaef7ebc1crow3_col9\" class=\"data row3 col9\" >2021-08-04</td>\n",
       "                        <td id=\"T_c3461e24_1140_11ec_b474_5cbaef7ebc1crow3_col10\" class=\"data row3 col10\" >2021-07-30</td>\n",
       "                        <td id=\"T_c3461e24_1140_11ec_b474_5cbaef7ebc1crow3_col11\" class=\"data row3 col11\" >5</td>\n",
       "                        <td id=\"T_c3461e24_1140_11ec_b474_5cbaef7ebc1crow3_col12\" class=\"data row3 col12\" >313.15</td>\n",
       "                        <td id=\"T_c3461e24_1140_11ec_b474_5cbaef7ebc1crow3_col13\" class=\"data row3 col13\" >2021</td>\n",
       "                        <td id=\"T_c3461e24_1140_11ec_b474_5cbaef7ebc1crow3_col14\" class=\"data row3 col14\" >1</td>\n",
       "            </tr>\n",
       "            <tr>\n",
       "                        <th id=\"T_c3461e24_1140_11ec_b474_5cbaef7ebc1clevel0_row4\" class=\"row_heading level0 row4\" >11</th>\n",
       "                        <td id=\"T_c3461e24_1140_11ec_b474_5cbaef7ebc1crow4_col0\" class=\"data row4 col0\" >SUPEREIF</td>\n",
       "                        <td id=\"T_c3461e24_1140_11ec_b474_5cbaef7ebc1crow4_col1\" class=\"data row4 col1\" >10,000</td>\n",
       "                        <td id=\"T_c3461e24_1140_11ec_b474_5cbaef7ebc1crow4_col2\" class=\"data row4 col2\" >0.2670</td>\n",
       "                        <td id=\"T_c3461e24_1140_11ec_b474_5cbaef7ebc1crow4_col3\" class=\"data row4 col3\" >2,670.00</td>\n",
       "                        <td id=\"T_c3461e24_1140_11ec_b474_5cbaef7ebc1crow4_col4\" class=\"data row4 col4\" >514.94</td>\n",
       "                        <td id=\"T_c3461e24_1140_11ec_b474_5cbaef7ebc1crow4_col5\" class=\"data row4 col5\" >3,184.94</td>\n",
       "                        <td id=\"T_c3461e24_1140_11ec_b474_5cbaef7ebc1crow4_col6\" class=\"data row4 col6\" >109,241.42</td>\n",
       "                        <td id=\"T_c3461e24_1140_11ec_b474_5cbaef7ebc1crow4_col7\" class=\"data row4 col7\" >2021-05-21</td>\n",
       "                        <td id=\"T_c3461e24_1140_11ec_b474_5cbaef7ebc1crow4_col8\" class=\"data row4 col8\" >2021-06-09</td>\n",
       "                        <td id=\"T_c3461e24_1140_11ec_b474_5cbaef7ebc1crow4_col9\" class=\"data row4 col9\" >2021-06-08</td>\n",
       "                        <td id=\"T_c3461e24_1140_11ec_b474_5cbaef7ebc1crow4_col10\" class=\"data row4 col10\" >2021-05-12</td>\n",
       "                        <td id=\"T_c3461e24_1140_11ec_b474_5cbaef7ebc1crow4_col11\" class=\"data row4 col11\" >28</td>\n",
       "                        <td id=\"T_c3461e24_1140_11ec_b474_5cbaef7ebc1crow4_col12\" class=\"data row4 col12\" >38.01</td>\n",
       "                        <td id=\"T_c3461e24_1140_11ec_b474_5cbaef7ebc1crow4_col13\" class=\"data row4 col13\" >2021</td>\n",
       "                        <td id=\"T_c3461e24_1140_11ec_b474_5cbaef7ebc1crow4_col14\" class=\"data row4 col14\" >1</td>\n",
       "            </tr>\n",
       "            <tr>\n",
       "                        <th id=\"T_c3461e24_1140_11ec_b474_5cbaef7ebc1clevel0_row5\" class=\"row_heading level0 row5\" >8</th>\n",
       "                        <td id=\"T_c3461e24_1140_11ec_b474_5cbaef7ebc1crow5_col0\" class=\"data row5 col0\" >POPF</td>\n",
       "                        <td id=\"T_c3461e24_1140_11ec_b474_5cbaef7ebc1crow5_col1\" class=\"data row5 col1\" >10,000</td>\n",
       "                        <td id=\"T_c3461e24_1140_11ec_b474_5cbaef7ebc1crow5_col2\" class=\"data row5 col2\" >0.2470</td>\n",
       "                        <td id=\"T_c3461e24_1140_11ec_b474_5cbaef7ebc1crow5_col3\" class=\"data row5 col3\" >2,223.00</td>\n",
       "                        <td id=\"T_c3461e24_1140_11ec_b474_5cbaef7ebc1crow5_col4\" class=\"data row5 col4\" >514.94</td>\n",
       "                        <td id=\"T_c3461e24_1140_11ec_b474_5cbaef7ebc1crow5_col5\" class=\"data row5 col5\" >2,737.94</td>\n",
       "                        <td id=\"T_c3461e24_1140_11ec_b474_5cbaef7ebc1crow5_col6\" class=\"data row5 col6\" >109,241.42</td>\n",
       "                        <td id=\"T_c3461e24_1140_11ec_b474_5cbaef7ebc1crow5_col7\" class=\"data row5 col7\" >2021-05-12</td>\n",
       "                        <td id=\"T_c3461e24_1140_11ec_b474_5cbaef7ebc1crow5_col8\" class=\"data row5 col8\" >2021-06-04</td>\n",
       "                        <td id=\"T_c3461e24_1140_11ec_b474_5cbaef7ebc1crow5_col9\" class=\"data row5 col9\" >2021-06-07</td>\n",
       "                        <td id=\"T_c3461e24_1140_11ec_b474_5cbaef7ebc1crow5_col10\" class=\"data row5 col10\" >2021-05-06</td>\n",
       "                        <td id=\"T_c3461e24_1140_11ec_b474_5cbaef7ebc1crow5_col11\" class=\"data row5 col11\" >32</td>\n",
       "                        <td id=\"T_c3461e24_1140_11ec_b474_5cbaef7ebc1crow5_col12\" class=\"data row5 col12\" >28.59</td>\n",
       "                        <td id=\"T_c3461e24_1140_11ec_b474_5cbaef7ebc1crow5_col13\" class=\"data row5 col13\" >2021</td>\n",
       "                        <td id=\"T_c3461e24_1140_11ec_b474_5cbaef7ebc1crow5_col14\" class=\"data row5 col14\" >1</td>\n",
       "            </tr>\n",
       "            <tr>\n",
       "                        <th id=\"T_c3461e24_1140_11ec_b474_5cbaef7ebc1clevel0_row6\" class=\"row_heading level0 row6\" >16</th>\n",
       "                        <td id=\"T_c3461e24_1140_11ec_b474_5cbaef7ebc1crow6_col0\" class=\"data row6 col0\" >WHART</td>\n",
       "                        <td id=\"T_c3461e24_1140_11ec_b474_5cbaef7ebc1crow6_col1\" class=\"data row6 col1\" >9,000</td>\n",
       "                        <td id=\"T_c3461e24_1140_11ec_b474_5cbaef7ebc1crow6_col2\" class=\"data row6 col2\" >0.1915</td>\n",
       "                        <td id=\"T_c3461e24_1140_11ec_b474_5cbaef7ebc1crow6_col3\" class=\"data row6 col3\" >1,551.15</td>\n",
       "                        <td id=\"T_c3461e24_1140_11ec_b474_5cbaef7ebc1crow6_col4\" class=\"data row6 col4\" >367.77</td>\n",
       "                        <td id=\"T_c3461e24_1140_11ec_b474_5cbaef7ebc1crow6_col5\" class=\"data row6 col5\" >1,918.92</td>\n",
       "                        <td id=\"T_c3461e24_1140_11ec_b474_5cbaef7ebc1crow6_col6\" class=\"data row6 col6\" >119,965.12</td>\n",
       "                        <td id=\"T_c3461e24_1140_11ec_b474_5cbaef7ebc1crow6_col7\" class=\"data row6 col7\" >2021-05-28</td>\n",
       "                        <td id=\"T_c3461e24_1140_11ec_b474_5cbaef7ebc1crow6_col8\" class=\"data row6 col8\" >2021-06-14</td>\n",
       "                        <td id=\"T_c3461e24_1140_11ec_b474_5cbaef7ebc1crow6_col9\" class=\"data row6 col9\" >2021-05-28</td>\n",
       "                        <td id=\"T_c3461e24_1140_11ec_b474_5cbaef7ebc1crow6_col10\" class=\"data row6 col10\" >2021-05-27</td>\n",
       "                        <td id=\"T_c3461e24_1140_11ec_b474_5cbaef7ebc1crow6_col11\" class=\"data row6 col11\" >18</td>\n",
       "                        <td id=\"T_c3461e24_1140_11ec_b474_5cbaef7ebc1crow6_col12\" class=\"data row6 col12\" >32.44</td>\n",
       "                        <td id=\"T_c3461e24_1140_11ec_b474_5cbaef7ebc1crow6_col13\" class=\"data row6 col13\" >2021</td>\n",
       "                        <td id=\"T_c3461e24_1140_11ec_b474_5cbaef7ebc1crow6_col14\" class=\"data row6 col14\" >1</td>\n",
       "            </tr>\n",
       "            <tr>\n",
       "                        <th id=\"T_c3461e24_1140_11ec_b474_5cbaef7ebc1clevel0_row7\" class=\"row_heading level0 row7\" >2</th>\n",
       "                        <td id=\"T_c3461e24_1140_11ec_b474_5cbaef7ebc1crow7_col0\" class=\"data row7 col0\" >EGATIF</td>\n",
       "                        <td id=\"T_c3461e24_1140_11ec_b474_5cbaef7ebc1crow7_col1\" class=\"data row7 col1\" >10,000</td>\n",
       "                        <td id=\"T_c3461e24_1140_11ec_b474_5cbaef7ebc1crow7_col2\" class=\"data row7 col2\" >0.2000</td>\n",
       "                        <td id=\"T_c3461e24_1140_11ec_b474_5cbaef7ebc1crow7_col3\" class=\"data row7 col3\" >2,000.00</td>\n",
       "                        <td id=\"T_c3461e24_1140_11ec_b474_5cbaef7ebc1crow7_col4\" class=\"data row7 col4\" >-1,538.22</td>\n",
       "                        <td id=\"T_c3461e24_1140_11ec_b474_5cbaef7ebc1crow7_col5\" class=\"data row7 col5\" >461.78</td>\n",
       "                        <td id=\"T_c3461e24_1140_11ec_b474_5cbaef7ebc1crow7_col6\" class=\"data row7 col6\" >122,270.22</td>\n",
       "                        <td id=\"T_c3461e24_1140_11ec_b474_5cbaef7ebc1crow7_col7\" class=\"data row7 col7\" >2021-03-01</td>\n",
       "                        <td id=\"T_c3461e24_1140_11ec_b474_5cbaef7ebc1crow7_col8\" class=\"data row7 col8\" >2021-03-17</td>\n",
       "                        <td id=\"T_c3461e24_1140_11ec_b474_5cbaef7ebc1crow7_col9\" class=\"data row7 col9\" >2021-05-13</td>\n",
       "                        <td id=\"T_c3461e24_1140_11ec_b474_5cbaef7ebc1crow7_col10\" class=\"data row7 col10\" >2021-02-25</td>\n",
       "                        <td id=\"T_c3461e24_1140_11ec_b474_5cbaef7ebc1crow7_col11\" class=\"data row7 col11\" >77</td>\n",
       "                        <td id=\"T_c3461e24_1140_11ec_b474_5cbaef7ebc1crow7_col12\" class=\"data row7 col12\" >1.79</td>\n",
       "                        <td id=\"T_c3461e24_1140_11ec_b474_5cbaef7ebc1crow7_col13\" class=\"data row7 col13\" >2020</td>\n",
       "                        <td id=\"T_c3461e24_1140_11ec_b474_5cbaef7ebc1crow7_col14\" class=\"data row7 col14\" >4</td>\n",
       "            </tr>\n",
       "            <tr>\n",
       "                        <th id=\"T_c3461e24_1140_11ec_b474_5cbaef7ebc1clevel0_row8\" class=\"row_heading level0 row8\" >7</th>\n",
       "                        <td id=\"T_c3461e24_1140_11ec_b474_5cbaef7ebc1crow8_col0\" class=\"data row8 col0\" >PDG</td>\n",
       "                        <td id=\"T_c3461e24_1140_11ec_b474_5cbaef7ebc1crow8_col1\" class=\"data row8 col1\" >25,000</td>\n",
       "                        <td id=\"T_c3461e24_1140_11ec_b474_5cbaef7ebc1crow8_col2\" class=\"data row8 col2\" >0.2200</td>\n",
       "                        <td id=\"T_c3461e24_1140_11ec_b474_5cbaef7ebc1crow8_col3\" class=\"data row8 col3\" >4,950.00</td>\n",
       "                        <td id=\"T_c3461e24_1140_11ec_b474_5cbaef7ebc1crow8_col4\" class=\"data row8 col4\" >-431.92</td>\n",
       "                        <td id=\"T_c3461e24_1140_11ec_b474_5cbaef7ebc1crow8_col5\" class=\"data row8 col5\" >4,518.08</td>\n",
       "                        <td id=\"T_c3461e24_1140_11ec_b474_5cbaef7ebc1crow8_col6\" class=\"data row8 col6\" >97,715.96</td>\n",
       "                        <td id=\"T_c3461e24_1140_11ec_b474_5cbaef7ebc1crow8_col7\" class=\"data row8 col7\" >2021-05-15</td>\n",
       "                        <td id=\"T_c3461e24_1140_11ec_b474_5cbaef7ebc1crow8_col8\" class=\"data row8 col8\" >2021-05-20</td>\n",
       "                        <td id=\"T_c3461e24_1140_11ec_b474_5cbaef7ebc1crow8_col9\" class=\"data row8 col9\" >2021-05-12</td>\n",
       "                        <td id=\"T_c3461e24_1140_11ec_b474_5cbaef7ebc1crow8_col10\" class=\"data row8 col10\" >2021-03-12</td>\n",
       "                        <td id=\"T_c3461e24_1140_11ec_b474_5cbaef7ebc1crow8_col11\" class=\"data row8 col11\" >69</td>\n",
       "                        <td id=\"T_c3461e24_1140_11ec_b474_5cbaef7ebc1crow8_col12\" class=\"data row8 col12\" >24.46</td>\n",
       "                        <td id=\"T_c3461e24_1140_11ec_b474_5cbaef7ebc1crow8_col13\" class=\"data row8 col13\" >2020</td>\n",
       "                        <td id=\"T_c3461e24_1140_11ec_b474_5cbaef7ebc1crow8_col14\" class=\"data row8 col14\" >4</td>\n",
       "            </tr>\n",
       "            <tr>\n",
       "                        <th id=\"T_c3461e24_1140_11ec_b474_5cbaef7ebc1clevel0_row9\" class=\"row_heading level0 row9\" >5</th>\n",
       "                        <td id=\"T_c3461e24_1140_11ec_b474_5cbaef7ebc1crow9_col0\" class=\"data row9 col0\" >MBAX</td>\n",
       "                        <td id=\"T_c3461e24_1140_11ec_b474_5cbaef7ebc1crow9_col1\" class=\"data row9 col1\" >12,000</td>\n",
       "                        <td id=\"T_c3461e24_1140_11ec_b474_5cbaef7ebc1crow9_col2\" class=\"data row9 col2\" >0.5600</td>\n",
       "                        <td id=\"T_c3461e24_1140_11ec_b474_5cbaef7ebc1crow9_col3\" class=\"data row9 col3\" >6,048.00</td>\n",
       "                        <td id=\"T_c3461e24_1140_11ec_b474_5cbaef7ebc1crow9_col4\" class=\"data row9 col4\" >-22,633.46</td>\n",
       "                        <td id=\"T_c3461e24_1140_11ec_b474_5cbaef7ebc1crow9_col5\" class=\"data row9 col5\" >-16,585.46</td>\n",
       "                        <td id=\"T_c3461e24_1140_11ec_b474_5cbaef7ebc1crow9_col6\" class=\"data row9 col6\" >154,341.09</td>\n",
       "                        <td id=\"T_c3461e24_1140_11ec_b474_5cbaef7ebc1crow9_col7\" class=\"data row9 col7\" >2021-04-21</td>\n",
       "                        <td id=\"T_c3461e24_1140_11ec_b474_5cbaef7ebc1crow9_col8\" class=\"data row9 col8\" >2021-05-07</td>\n",
       "                        <td id=\"T_c3461e24_1140_11ec_b474_5cbaef7ebc1crow9_col9\" class=\"data row9 col9\" >2021-05-12</td>\n",
       "                        <td id=\"T_c3461e24_1140_11ec_b474_5cbaef7ebc1crow9_col10\" class=\"data row9 col10\" >2021-04-12</td>\n",
       "                        <td id=\"T_c3461e24_1140_11ec_b474_5cbaef7ebc1crow9_col11\" class=\"data row9 col11\" >30</td>\n",
       "                        <td id=\"T_c3461e24_1140_11ec_b474_5cbaef7ebc1crow9_col12\" class=\"data row9 col12\" >-130.74</td>\n",
       "                        <td id=\"T_c3461e24_1140_11ec_b474_5cbaef7ebc1crow9_col13\" class=\"data row9 col13\" >2020</td>\n",
       "                        <td id=\"T_c3461e24_1140_11ec_b474_5cbaef7ebc1crow9_col14\" class=\"data row9 col14\" >4</td>\n",
       "            </tr>\n",
       "            <tr>\n",
       "                        <th id=\"T_c3461e24_1140_11ec_b474_5cbaef7ebc1clevel0_row10\" class=\"row_heading level0 row10\" >13</th>\n",
       "                        <td id=\"T_c3461e24_1140_11ec_b474_5cbaef7ebc1crow10_col0\" class=\"data row10 col0\" >TIPH</td>\n",
       "                        <td id=\"T_c3461e24_1140_11ec_b474_5cbaef7ebc1crow10_col1\" class=\"data row10 col1\" >3,000</td>\n",
       "                        <td id=\"T_c3461e24_1140_11ec_b474_5cbaef7ebc1crow10_col2\" class=\"data row10 col2\" >1.3000</td>\n",
       "                        <td id=\"T_c3461e24_1140_11ec_b474_5cbaef7ebc1crow10_col3\" class=\"data row10 col3\" >3,510.00</td>\n",
       "                        <td id=\"T_c3461e24_1140_11ec_b474_5cbaef7ebc1crow10_col4\" class=\"data row10 col4\" >349.66</td>\n",
       "                        <td id=\"T_c3461e24_1140_11ec_b474_5cbaef7ebc1crow10_col5\" class=\"data row10 col5\" >3,859.66</td>\n",
       "                        <td id=\"T_c3461e24_1140_11ec_b474_5cbaef7ebc1crow10_col6\" class=\"data row10 col6\" >90,199.34</td>\n",
       "                        <td id=\"T_c3461e24_1140_11ec_b474_5cbaef7ebc1crow10_col7\" class=\"data row10 col7\" >2021-03-11</td>\n",
       "                        <td id=\"T_c3461e24_1140_11ec_b474_5cbaef7ebc1crow10_col8\" class=\"data row10 col8\" >2021-05-19</td>\n",
       "                        <td id=\"T_c3461e24_1140_11ec_b474_5cbaef7ebc1crow10_col9\" class=\"data row10 col9\" >2021-05-06</td>\n",
       "                        <td id=\"T_c3461e24_1140_11ec_b474_5cbaef7ebc1crow10_col10\" class=\"data row10 col10\" >2021-03-10</td>\n",
       "                        <td id=\"T_c3461e24_1140_11ec_b474_5cbaef7ebc1crow10_col11\" class=\"data row10 col11\" >70</td>\n",
       "                        <td id=\"T_c3461e24_1140_11ec_b474_5cbaef7ebc1crow10_col12\" class=\"data row10 col12\" >22.31</td>\n",
       "                        <td id=\"T_c3461e24_1140_11ec_b474_5cbaef7ebc1crow10_col13\" class=\"data row10 col13\" >2020</td>\n",
       "                        <td id=\"T_c3461e24_1140_11ec_b474_5cbaef7ebc1crow10_col14\" class=\"data row10 col14\" >4</td>\n",
       "            </tr>\n",
       "            <tr>\n",
       "                        <th id=\"T_c3461e24_1140_11ec_b474_5cbaef7ebc1clevel0_row11\" class=\"row_heading level0 row11\" >1</th>\n",
       "                        <td id=\"T_c3461e24_1140_11ec_b474_5cbaef7ebc1crow11_col0\" class=\"data row11 col0\" >DTAC</td>\n",
       "                        <td id=\"T_c3461e24_1140_11ec_b474_5cbaef7ebc1crow11_col1\" class=\"data row11 col1\" >9,000</td>\n",
       "                        <td id=\"T_c3461e24_1140_11ec_b474_5cbaef7ebc1crow11_col2\" class=\"data row11 col2\" >2.1200</td>\n",
       "                        <td id=\"T_c3461e24_1140_11ec_b474_5cbaef7ebc1crow11_col3\" class=\"data row11 col3\" >17,172.00</td>\n",
       "                        <td id=\"T_c3461e24_1140_11ec_b474_5cbaef7ebc1crow11_col4\" class=\"data row11 col4\" >-5,805.69</td>\n",
       "                        <td id=\"T_c3461e24_1140_11ec_b474_5cbaef7ebc1crow11_col5\" class=\"data row11 col5\" >11,366.31</td>\n",
       "                        <td id=\"T_c3461e24_1140_11ec_b474_5cbaef7ebc1crow11_col6\" class=\"data row11 col6\" >297,657.83</td>\n",
       "                        <td id=\"T_c3461e24_1140_11ec_b474_5cbaef7ebc1crow11_col7\" class=\"data row11 col7\" >2021-02-11</td>\n",
       "                        <td id=\"T_c3461e24_1140_11ec_b474_5cbaef7ebc1crow11_col8\" class=\"data row11 col8\" >2021-04-20</td>\n",
       "                        <td id=\"T_c3461e24_1140_11ec_b474_5cbaef7ebc1crow11_col9\" class=\"data row11 col9\" >2021-05-05</td>\n",
       "                        <td id=\"T_c3461e24_1140_11ec_b474_5cbaef7ebc1crow11_col10\" class=\"data row11 col10\" >2021-02-04</td>\n",
       "                        <td id=\"T_c3461e24_1140_11ec_b474_5cbaef7ebc1crow11_col11\" class=\"data row11 col11\" >90</td>\n",
       "                        <td id=\"T_c3461e24_1140_11ec_b474_5cbaef7ebc1crow11_col12\" class=\"data row11 col12\" >15.49</td>\n",
       "                        <td id=\"T_c3461e24_1140_11ec_b474_5cbaef7ebc1crow11_col13\" class=\"data row11 col13\" >2020</td>\n",
       "                        <td id=\"T_c3461e24_1140_11ec_b474_5cbaef7ebc1crow11_col14\" class=\"data row11 col14\" >4</td>\n",
       "            </tr>\n",
       "            <tr>\n",
       "                        <th id=\"T_c3461e24_1140_11ec_b474_5cbaef7ebc1clevel0_row12\" class=\"row_heading level0 row12\" >14</th>\n",
       "                        <td id=\"T_c3461e24_1140_11ec_b474_5cbaef7ebc1crow12_col0\" class=\"data row12 col0\" >UTP</td>\n",
       "                        <td id=\"T_c3461e24_1140_11ec_b474_5cbaef7ebc1crow12_col1\" class=\"data row12 col1\" >6,000</td>\n",
       "                        <td id=\"T_c3461e24_1140_11ec_b474_5cbaef7ebc1crow12_col2\" class=\"data row12 col2\" >0.3900</td>\n",
       "                        <td id=\"T_c3461e24_1140_11ec_b474_5cbaef7ebc1crow12_col3\" class=\"data row12 col3\" >2,340.00</td>\n",
       "                        <td id=\"T_c3461e24_1140_11ec_b474_5cbaef7ebc1crow12_col4\" class=\"data row12 col4\" >724.23</td>\n",
       "                        <td id=\"T_c3461e24_1140_11ec_b474_5cbaef7ebc1crow12_col5\" class=\"data row12 col5\" >3,064.23</td>\n",
       "                        <td id=\"T_c3461e24_1140_11ec_b474_5cbaef7ebc1crow12_col6\" class=\"data row12 col6\" >107,036.56</td>\n",
       "                        <td id=\"T_c3461e24_1140_11ec_b474_5cbaef7ebc1crow12_col7\" class=\"data row12 col7\" >2021-03-08</td>\n",
       "                        <td id=\"T_c3461e24_1140_11ec_b474_5cbaef7ebc1crow12_col8\" class=\"data row12 col8\" >2021-05-25</td>\n",
       "                        <td id=\"T_c3461e24_1140_11ec_b474_5cbaef7ebc1crow12_col9\" class=\"data row12 col9\" >2021-03-22</td>\n",
       "                        <td id=\"T_c3461e24_1140_11ec_b474_5cbaef7ebc1crow12_col10\" class=\"data row12 col10\" >2021-03-05</td>\n",
       "                        <td id=\"T_c3461e24_1140_11ec_b474_5cbaef7ebc1crow12_col11\" class=\"data row12 col11\" >81</td>\n",
       "                        <td id=\"T_c3461e24_1140_11ec_b474_5cbaef7ebc1crow12_col12\" class=\"data row12 col12\" >12.90</td>\n",
       "                        <td id=\"T_c3461e24_1140_11ec_b474_5cbaef7ebc1crow12_col13\" class=\"data row12 col13\" >2020</td>\n",
       "                        <td id=\"T_c3461e24_1140_11ec_b474_5cbaef7ebc1crow12_col14\" class=\"data row12 col14\" >4</td>\n",
       "            </tr>\n",
       "            <tr>\n",
       "                        <th id=\"T_c3461e24_1140_11ec_b474_5cbaef7ebc1clevel0_row13\" class=\"row_heading level0 row13\" >4</th>\n",
       "                        <td id=\"T_c3461e24_1140_11ec_b474_5cbaef7ebc1crow13_col0\" class=\"data row13 col0\" >GVREIT</td>\n",
       "                        <td id=\"T_c3461e24_1140_11ec_b474_5cbaef7ebc1crow13_col1\" class=\"data row13 col1\" >18,000</td>\n",
       "                        <td id=\"T_c3461e24_1140_11ec_b474_5cbaef7ebc1crow13_col2\" class=\"data row13 col2\" >0.2037</td>\n",
       "                        <td id=\"T_c3461e24_1140_11ec_b474_5cbaef7ebc1crow13_col3\" class=\"data row13 col3\" >3,299.94</td>\n",
       "                        <td id=\"T_c3461e24_1140_11ec_b474_5cbaef7ebc1crow13_col4\" class=\"data row13 col4\" >918.91</td>\n",
       "                        <td id=\"T_c3461e24_1140_11ec_b474_5cbaef7ebc1crow13_col5\" class=\"data row13 col5\" >4,218.85</td>\n",
       "                        <td id=\"T_c3461e24_1140_11ec_b474_5cbaef7ebc1crow13_col6\" class=\"data row13 col6\" >198,438.55</td>\n",
       "                        <td id=\"T_c3461e24_1140_11ec_b474_5cbaef7ebc1crow13_col7\" class=\"data row13 col7\" >2021-02-25</td>\n",
       "                        <td id=\"T_c3461e24_1140_11ec_b474_5cbaef7ebc1crow13_col8\" class=\"data row13 col8\" >2021-03-10</td>\n",
       "                        <td id=\"T_c3461e24_1140_11ec_b474_5cbaef7ebc1crow13_col9\" class=\"data row13 col9\" >2021-03-10</td>\n",
       "                        <td id=\"T_c3461e24_1140_11ec_b474_5cbaef7ebc1crow13_col10\" class=\"data row13 col10\" >2021-02-15</td>\n",
       "                        <td id=\"T_c3461e24_1140_11ec_b474_5cbaef7ebc1crow13_col11\" class=\"data row13 col11\" >23</td>\n",
       "                        <td id=\"T_c3461e24_1140_11ec_b474_5cbaef7ebc1crow13_col12\" class=\"data row13 col12\" >33.74</td>\n",
       "                        <td id=\"T_c3461e24_1140_11ec_b474_5cbaef7ebc1crow13_col13\" class=\"data row13 col13\" >2020</td>\n",
       "                        <td id=\"T_c3461e24_1140_11ec_b474_5cbaef7ebc1crow13_col14\" class=\"data row13 col14\" >4</td>\n",
       "            </tr>\n",
       "            <tr>\n",
       "                        <th id=\"T_c3461e24_1140_11ec_b474_5cbaef7ebc1clevel0_row14\" class=\"row_heading level0 row14\" >15</th>\n",
       "                        <td id=\"T_c3461e24_1140_11ec_b474_5cbaef7ebc1crow14_col0\" class=\"data row14 col0\" >WHART</td>\n",
       "                        <td id=\"T_c3461e24_1140_11ec_b474_5cbaef7ebc1crow14_col1\" class=\"data row14 col1\" >10,000</td>\n",
       "                        <td id=\"T_c3461e24_1140_11ec_b474_5cbaef7ebc1crow14_col2\" class=\"data row14 col2\" >0.1195</td>\n",
       "                        <td id=\"T_c3461e24_1140_11ec_b474_5cbaef7ebc1crow14_col3\" class=\"data row14 col3\" >1,075.50</td>\n",
       "                        <td id=\"T_c3461e24_1140_11ec_b474_5cbaef7ebc1crow14_col4\" class=\"data row14 col4\" >492.79</td>\n",
       "                        <td id=\"T_c3461e24_1140_11ec_b474_5cbaef7ebc1crow14_col5\" class=\"data row14 col5\" >1,568.29</td>\n",
       "                        <td id=\"T_c3461e24_1140_11ec_b474_5cbaef7ebc1crow14_col6\" class=\"data row14 col6\" >114,252.50</td>\n",
       "                        <td id=\"T_c3461e24_1140_11ec_b474_5cbaef7ebc1crow14_col7\" class=\"data row14 col7\" >2021-03-04</td>\n",
       "                        <td id=\"T_c3461e24_1140_11ec_b474_5cbaef7ebc1crow14_col8\" class=\"data row14 col8\" >2021-03-22</td>\n",
       "                        <td id=\"T_c3461e24_1140_11ec_b474_5cbaef7ebc1crow14_col9\" class=\"data row14 col9\" >2021-03-04</td>\n",
       "                        <td id=\"T_c3461e24_1140_11ec_b474_5cbaef7ebc1crow14_col10\" class=\"data row14 col10\" >2021-03-03</td>\n",
       "                        <td id=\"T_c3461e24_1140_11ec_b474_5cbaef7ebc1crow14_col11\" class=\"data row14 col11\" >19</td>\n",
       "                        <td id=\"T_c3461e24_1140_11ec_b474_5cbaef7ebc1crow14_col12\" class=\"data row14 col12\" >26.37</td>\n",
       "                        <td id=\"T_c3461e24_1140_11ec_b474_5cbaef7ebc1crow14_col13\" class=\"data row14 col13\" >2020</td>\n",
       "                        <td id=\"T_c3461e24_1140_11ec_b474_5cbaef7ebc1crow14_col14\" class=\"data row14 col14\" >4</td>\n",
       "            </tr>\n",
       "            <tr>\n",
       "                        <th id=\"T_c3461e24_1140_11ec_b474_5cbaef7ebc1clevel0_row15\" class=\"row_heading level0 row15\" >6</th>\n",
       "                        <td id=\"T_c3461e24_1140_11ec_b474_5cbaef7ebc1crow15_col0\" class=\"data row15 col0\" >MC</td>\n",
       "                        <td id=\"T_c3461e24_1140_11ec_b474_5cbaef7ebc1crow15_col1\" class=\"data row15 col1\" >10,000</td>\n",
       "                        <td id=\"T_c3461e24_1140_11ec_b474_5cbaef7ebc1crow15_col2\" class=\"data row15 col2\" >0.3500</td>\n",
       "                        <td id=\"T_c3461e24_1140_11ec_b474_5cbaef7ebc1crow15_col3\" class=\"data row15 col3\" >3,150.00</td>\n",
       "                        <td id=\"T_c3461e24_1140_11ec_b474_5cbaef7ebc1crow15_col4\" class=\"data row15 col4\" >528.23</td>\n",
       "                        <td id=\"T_c3461e24_1140_11ec_b474_5cbaef7ebc1crow15_col5\" class=\"data row15 col5\" >3,678.23</td>\n",
       "                        <td id=\"T_c3461e24_1140_11ec_b474_5cbaef7ebc1crow15_col6\" class=\"data row15 col6\" >106,234.78</td>\n",
       "                        <td id=\"T_c3461e24_1140_11ec_b474_5cbaef7ebc1crow15_col7\" class=\"data row15 col7\" >2021-02-25</td>\n",
       "                        <td id=\"T_c3461e24_1140_11ec_b474_5cbaef7ebc1crow15_col8\" class=\"data row15 col8\" >2021-03-11</td>\n",
       "                        <td id=\"T_c3461e24_1140_11ec_b474_5cbaef7ebc1crow15_col9\" class=\"data row15 col9\" >2021-03-03</td>\n",
       "                        <td id=\"T_c3461e24_1140_11ec_b474_5cbaef7ebc1crow15_col10\" class=\"data row15 col10\" >2021-02-24</td>\n",
       "                        <td id=\"T_c3461e24_1140_11ec_b474_5cbaef7ebc1crow15_col11\" class=\"data row15 col11\" >15</td>\n",
       "                        <td id=\"T_c3461e24_1140_11ec_b474_5cbaef7ebc1crow15_col12\" class=\"data row15 col12\" >84.25</td>\n",
       "                        <td id=\"T_c3461e24_1140_11ec_b474_5cbaef7ebc1crow15_col13\" class=\"data row15 col13\" >2020</td>\n",
       "                        <td id=\"T_c3461e24_1140_11ec_b474_5cbaef7ebc1crow15_col14\" class=\"data row15 col14\" >2</td>\n",
       "            </tr>\n",
       "            <tr>\n",
       "                        <th id=\"T_c3461e24_1140_11ec_b474_5cbaef7ebc1clevel0_row16\" class=\"row_heading level0 row16\" >0</th>\n",
       "                        <td id=\"T_c3461e24_1140_11ec_b474_5cbaef7ebc1crow16_col0\" class=\"data row16 col0\" >CPTGF</td>\n",
       "                        <td id=\"T_c3461e24_1140_11ec_b474_5cbaef7ebc1crow16_col1\" class=\"data row16 col1\" >10,000</td>\n",
       "                        <td id=\"T_c3461e24_1140_11ec_b474_5cbaef7ebc1crow16_col2\" class=\"data row16 col2\" >0.1800</td>\n",
       "                        <td id=\"T_c3461e24_1140_11ec_b474_5cbaef7ebc1crow16_col3\" class=\"data row16 col3\" >1,620.00</td>\n",
       "                        <td id=\"T_c3461e24_1140_11ec_b474_5cbaef7ebc1crow16_col4\" class=\"data row16 col4\" >104.63</td>\n",
       "                        <td id=\"T_c3461e24_1140_11ec_b474_5cbaef7ebc1crow16_col5\" class=\"data row16 col5\" >1,724.63</td>\n",
       "                        <td id=\"T_c3461e24_1140_11ec_b474_5cbaef7ebc1crow16_col6\" class=\"data row16 col6\" >89,197.13</td>\n",
       "                        <td id=\"T_c3461e24_1140_11ec_b474_5cbaef7ebc1crow16_col7\" class=\"data row16 col7\" >2021-03-01</td>\n",
       "                        <td id=\"T_c3461e24_1140_11ec_b474_5cbaef7ebc1crow16_col8\" class=\"data row16 col8\" >2021-03-17</td>\n",
       "                        <td id=\"T_c3461e24_1140_11ec_b474_5cbaef7ebc1crow16_col9\" class=\"data row16 col9\" >2021-03-03</td>\n",
       "                        <td id=\"T_c3461e24_1140_11ec_b474_5cbaef7ebc1crow16_col10\" class=\"data row16 col10\" >2021-02-11</td>\n",
       "                        <td id=\"T_c3461e24_1140_11ec_b474_5cbaef7ebc1crow16_col11\" class=\"data row16 col11\" >34</td>\n",
       "                        <td id=\"T_c3461e24_1140_11ec_b474_5cbaef7ebc1crow16_col12\" class=\"data row16 col12\" >20.76</td>\n",
       "                        <td id=\"T_c3461e24_1140_11ec_b474_5cbaef7ebc1crow16_col13\" class=\"data row16 col13\" >2020</td>\n",
       "                        <td id=\"T_c3461e24_1140_11ec_b474_5cbaef7ebc1crow16_col14\" class=\"data row16 col14\" >4</td>\n",
       "            </tr>\n",
       "    </tbody></table>"
      ],
      "text/plain": [
       "<pandas.io.formats.style.Styler at 0x241fa58e0a0>"
      ]
     },
     "execution_count": 8,
     "metadata": {},
     "output_type": "execute_result"
    }
   ],
   "source": [
    "sql = \"\"\"\n",
    "SELECT name, number, ppu, D.net AS div_amt, profit, profit + D.net AS ttl_amt, B.net AS buy_amt,  \n",
    "x_date,p_date, S.date AS sell_date, B.date AS buy_date, DATEDIFF(IF(p_date > S.date, p_date, S.date),B.date) AS days,\n",
    "(profit + D.net)/B.net*36500/DATEDIFF(IF(p_date > S.date, p_date, S.date),B.date) AS pct, year, quarter\n",
    "FROM sells S \n",
    "JOIN buys B ON S.buy_id = B.id\n",
    "JOIN dividends D\n",
    "ON dividend_id = D.id\n",
    "WHERE B.kind = '%s'\n",
    "ORDER BY name\n",
    "\"\"\"\n",
    "sql = sql % kind\n",
    "sells_a_div = pd.read_sql(sql, conpf)\n",
    "sells_a_div.sort_values(['sell_date'],ascending=[False]).style.format(format_dict)"
   ]
  },
  {
   "cell_type": "code",
   "execution_count": 9,
   "metadata": {},
   "outputs": [
    {
     "data": {
      "text/plain": [
       "(35669.02, 2148748.75, 11.41)"
      ]
     },
     "execution_count": 9,
     "metadata": {},
     "output_type": "execute_result"
    }
   ],
   "source": [
    "total_profit = round(sells_a_div.ttl_amt.sum(),2)\n",
    "buy_cost = round(sells_a_div.buy_amt.sum(),2)\n",
    "avg_day = sells_a_div.days.mean()\n",
    "sell_pct = round(total_profit/buy_cost*36500/avg_day,2)\n",
    "total_profit,buy_cost,sell_pct"
   ]
  },
  {
   "cell_type": "code",
   "execution_count": 10,
   "metadata": {},
   "outputs": [
    {
     "data": {
      "text/plain": [
       "('../data/div-one-spread.csv',\n",
       " '\\\\Users\\\\User\\\\iCloudDrive\\\\div-one-spread.csv',\n",
       " '\\\\Users\\\\User\\\\Dropbox\\\\div-one-spread.csv')"
      ]
     },
     "execution_count": 10,
     "metadata": {},
     "output_type": "execute_result"
    }
   ],
   "source": [
    "file_name = 'div-one-spread.csv'\n",
    "data_file = data_path + file_name\n",
    "output_file = csv_path + file_name\n",
    "box_file = box_path + file_name\n",
    "data_file, output_file, box_file"
   ]
  },
  {
   "cell_type": "code",
   "execution_count": 11,
   "metadata": {},
   "outputs": [],
   "source": [
    "sells_a_div.sort_values(['sell_date','name'],ascending=[False,True]).to_csv(output_file, header=False, index=False)\n",
    "sells_a_div.sort_values(['sell_date','name'],ascending=[False,True]).to_csv(data_file, header=False, index=False)\n",
    "sells_a_div.sort_values(['sell_date','name'],ascending=[False,True]).to_csv(box_file, header=False, index=False)"
   ]
  },
  {
   "cell_type": "code",
   "execution_count": 12,
   "metadata": {},
   "outputs": [
    {
     "name": "stdout",
     "output_type": "stream",
     "text": [
      "\n",
      "SELECT T.name, qty, S.price AS sell_p, B.price AS buy_p, S.price - B.price AS diff,\n",
      "S.net AS sell_amt, B.net AS buy_amt, S.net - B.net AS profit, \n",
      "S.date AS sell_date, B.date AS buy_date, DATEDIFF(S.date,B.date) AS days,\n",
      "ROUND((S.net-B.net)/B.net*36500/DATEDIFF(S.date,B.date),2) AS pct, S.id, B.kind\n",
      "FROM sells S\n",
      "JOIN buys B ON S.buy_id = B.id \n",
      "JOIN stocks T ON B.stock_id = T.id \n",
      "WHERE S.dividend_id = 999\n",
      "AND YEAR(s.date) = 2021\n",
      "AND kind = 'DOS'\n",
      "ORDER BY T.name, S.date\n"
     ]
    }
   ],
   "source": [
    "sql = '''\n",
    "SELECT T.name, qty, S.price AS sell_p, B.price AS buy_p, S.price - B.price AS diff,\n",
    "S.net AS sell_amt, B.net AS buy_amt, S.net - B.net AS profit, \n",
    "S.date AS sell_date, B.date AS buy_date, DATEDIFF(S.date,B.date) AS days,\n",
    "ROUND((S.net-B.net)/B.net*36500/DATEDIFF(S.date,B.date),2) AS pct, S.id, B.kind\n",
    "FROM sells S\n",
    "JOIN buys B ON S.buy_id = B.id \n",
    "JOIN stocks T ON B.stock_id = T.id \n",
    "WHERE S.dividend_id = 999\n",
    "AND YEAR(s.date) = %s\n",
    "AND kind = '%s'\n",
    "ORDER BY T.name, S.date'''\n",
    "#WHERE status = \"Sold\" \n",
    "sql = sql % (sell_year, kind)\n",
    "print(sql)"
   ]
  },
  {
   "cell_type": "code",
   "execution_count": 13,
   "metadata": {},
   "outputs": [
    {
     "ename": "TypeError",
     "evalue": "not all arguments converted during string formatting",
     "output_type": "error",
     "traceback": [
      "\u001b[1;31m---------------------------------------------------------------------------\u001b[0m",
      "\u001b[1;31mTypeError\u001b[0m                                 Traceback (most recent call last)",
      "\u001b[1;32m<ipython-input-13-659652594190>\u001b[0m in \u001b[0;36m<module>\u001b[1;34m\u001b[0m\n\u001b[1;32m----> 1\u001b[1;33m \u001b[0msql\u001b[0m \u001b[1;33m=\u001b[0m \u001b[0msql\u001b[0m \u001b[1;33m%\u001b[0m \u001b[0mkind\u001b[0m\u001b[1;33m\u001b[0m\u001b[1;33m\u001b[0m\u001b[0m\n\u001b[0m\u001b[0;32m      2\u001b[0m \u001b[0msells_a_div\u001b[0m \u001b[1;33m=\u001b[0m \u001b[0mpd\u001b[0m\u001b[1;33m.\u001b[0m\u001b[0mread_sql\u001b[0m\u001b[1;33m(\u001b[0m\u001b[0msql\u001b[0m\u001b[1;33m,\u001b[0m \u001b[0mconpf\u001b[0m\u001b[1;33m)\u001b[0m\u001b[1;33m\u001b[0m\u001b[1;33m\u001b[0m\u001b[0m\n\u001b[0;32m      3\u001b[0m \u001b[0msells_a_div\u001b[0m\u001b[1;33m.\u001b[0m\u001b[0msort_values\u001b[0m\u001b[1;33m(\u001b[0m\u001b[1;33m[\u001b[0m\u001b[1;34m'sell_date'\u001b[0m\u001b[1;33m]\u001b[0m\u001b[1;33m,\u001b[0m\u001b[0mascending\u001b[0m\u001b[1;33m=\u001b[0m\u001b[1;33m[\u001b[0m\u001b[1;32mFalse\u001b[0m\u001b[1;33m]\u001b[0m\u001b[1;33m)\u001b[0m\u001b[1;33m.\u001b[0m\u001b[0mstyle\u001b[0m\u001b[1;33m.\u001b[0m\u001b[0mformat\u001b[0m\u001b[1;33m(\u001b[0m\u001b[0mformat_dict\u001b[0m\u001b[1;33m)\u001b[0m\u001b[1;33m\u001b[0m\u001b[1;33m\u001b[0m\u001b[0m\n",
      "\u001b[1;31mTypeError\u001b[0m: not all arguments converted during string formatting"
     ]
    }
   ],
   "source": [
    "sql = sql % kind\n",
    "sells_a_div = pd.read_sql(sql, conpf)\n",
    "sells_a_div.sort_values(['sell_date'],ascending=[False]).style.format(format_dict)"
   ]
  },
  {
   "cell_type": "code",
   "execution_count": null,
   "metadata": {},
   "outputs": [],
   "source": []
  }
 ],
 "metadata": {
  "anaconda-cloud": {},
  "kernelspec": {
   "display_name": "Python 3",
   "language": "python",
   "name": "python3"
  },
  "language_info": {
   "codemirror_mode": {
    "name": "ipython",
    "version": 3
   },
   "file_extension": ".py",
   "mimetype": "text/x-python",
   "name": "python",
   "nbconvert_exporter": "python",
   "pygments_lexer": "ipython3",
   "version": "3.8.5"
  }
 },
 "nbformat": 4,
 "nbformat_minor": 1
}
