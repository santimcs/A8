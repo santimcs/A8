{
 "cells": [
  {
   "cell_type": "code",
   "execution_count": 3,
   "metadata": {},
   "outputs": [],
   "source": [
    "import pandas as pd\n",
    "import numpy as np\n",
    "from datetime import date, timedelta\n",
    "from sqlalchemy import create_engine\n",
    "\n",
    "engine = create_engine('mysql+pymysql://root:@localhost:3306/portfolio_development')\n",
    "conpf = engine.connect()\n",
    "\n",
    "data_path = \"../data/\"\n",
    "csv_path = \"\\\\Users\\\\User\\\\iCloudDrive\\\\\"\n",
    "box_path = \"\\\\Users\\\\User\\\\Dropbox\\\\\"\n",
    "\n",
    "format_dict = {\n",
    "               'price':'{:.2f}','buy_p':'{:.2f}','sell_p':'{:.2f}','diff':'{:.2f}',\n",
    "               'ppu':'{:.4f}',\n",
    "               'net':'{:,.2f}','fee':'{:,.2f}','vat':'{:,.2f}',\n",
    "               'buy_amt':'{:,.2f}','sell_amt':'{:,.2f}','profit':'{:,.2f}',\n",
    "               'div_amt':'{:,.2f}','ttl_amt':'{:,.2f}','pct':'{:,.2f}',\n",
    "               'qty':'{:,}','number':'{:,}','days':'{:,}'\n",
    "              }\n",
    "pd.set_option(\"display.max_rows\", None)\n",
    "\n",
    "cols = 'name ttl_qty buy_amt ppu div_amt buy_date x_date p_date days pct year quarter'.split()\n",
    "colt = 'name ttl_qty buy_amt ppu div_amt buy_date x_date p_date days pct year quarter number'.split()"
   ]
  },
  {
   "cell_type": "code",
   "execution_count": 4,
   "metadata": {},
   "outputs": [],
   "source": [
    "name = 'MCS'"
   ]
  },
  {
   "cell_type": "markdown",
   "metadata": {},
   "source": [
    "### 1ST Batch"
   ]
  },
  {
   "cell_type": "code",
   "execution_count": 3,
   "metadata": {},
   "outputs": [],
   "source": [
    "div_year = 2016\n",
    "div_quarter = 4\n",
    "ids = '284,740,286,287,288,289,290'"
   ]
  },
  {
   "cell_type": "code",
   "execution_count": 4,
   "metadata": {},
   "outputs": [
    {
     "data": {
      "text/html": [
       "<div>\n",
       "<style scoped>\n",
       "    .dataframe tbody tr th:only-of-type {\n",
       "        vertical-align: middle;\n",
       "    }\n",
       "\n",
       "    .dataframe tbody tr th {\n",
       "        vertical-align: top;\n",
       "    }\n",
       "\n",
       "    .dataframe thead th {\n",
       "        text-align: right;\n",
       "    }\n",
       "</style>\n",
       "<table border=\"1\" class=\"dataframe\">\n",
       "  <thead>\n",
       "    <tr style=\"text-align: right;\">\n",
       "      <th></th>\n",
       "      <th>name</th>\n",
       "      <th>ttl_qty</th>\n",
       "      <th>buy_amt</th>\n",
       "      <th>buy_date</th>\n",
       "    </tr>\n",
       "  </thead>\n",
       "  <tbody>\n",
       "    <tr>\n",
       "      <th>0</th>\n",
       "      <td>MCS</td>\n",
       "      <td>70000.0</td>\n",
       "      <td>1171589.23</td>\n",
       "      <td>2016-11-11</td>\n",
       "    </tr>\n",
       "  </tbody>\n",
       "</table>\n",
       "</div>"
      ],
      "text/plain": [
       "  name  ttl_qty     buy_amt    buy_date\n",
       "0  MCS  70000.0  1171589.23  2016-11-11"
      ]
     },
     "execution_count": 4,
     "metadata": {},
     "output_type": "execute_result"
    }
   ],
   "source": [
    "sql = '''\n",
    "SELECT T.name, SUM(qty) AS ttl_qty, \n",
    "SUM(B.net) AS buy_amt, MIN(date) AS buy_date\n",
    "FROM buys B\n",
    "JOIN stocks T ON B.stock_id = T.id \n",
    "WHERE B.id IN (%s)\n",
    "GROUP BY T.name'''\n",
    "sql = sql % (ids)\n",
    "buys = pd.read_sql(sql, conpf)\n",
    "buys"
   ]
  },
  {
   "cell_type": "code",
   "execution_count": 5,
   "metadata": {},
   "outputs": [
    {
     "data": {
      "text/html": [
       "<style  type=\"text/css\" >\n",
       "</style><table id=\"T_a2f0e716_bd76_11eb_a227_5ebaef7ebc1b\" ><thead>    <tr>        <th class=\"blank level0\" ></th>        <th class=\"col_heading level0 col0\" >id</th>        <th class=\"col_heading level0 col1\" >name</th>        <th class=\"col_heading level0 col2\" >year</th>        <th class=\"col_heading level0 col3\" >quarter</th>        <th class=\"col_heading level0 col4\" >number</th>        <th class=\"col_heading level0 col5\" >ppu</th>        <th class=\"col_heading level0 col6\" >div_amt</th>        <th class=\"col_heading level0 col7\" >x_date</th>        <th class=\"col_heading level0 col8\" >p_date</th>    </tr></thead><tbody>\n",
       "                <tr>\n",
       "                        <th id=\"T_a2f0e716_bd76_11eb_a227_5ebaef7ebc1blevel0_row0\" class=\"row_heading level0 row0\" >0</th>\n",
       "                        <td id=\"T_a2f0e716_bd76_11eb_a227_5ebaef7ebc1brow0_col0\" class=\"data row0 col0\" >211</td>\n",
       "                        <td id=\"T_a2f0e716_bd76_11eb_a227_5ebaef7ebc1brow0_col1\" class=\"data row0 col1\" >MCS</td>\n",
       "                        <td id=\"T_a2f0e716_bd76_11eb_a227_5ebaef7ebc1brow0_col2\" class=\"data row0 col2\" >2020</td>\n",
       "                        <td id=\"T_a2f0e716_bd76_11eb_a227_5ebaef7ebc1brow0_col3\" class=\"data row0 col3\" >4</td>\n",
       "                        <td id=\"T_a2f0e716_bd76_11eb_a227_5ebaef7ebc1brow0_col4\" class=\"data row0 col4\" >75,000</td>\n",
       "                        <td id=\"T_a2f0e716_bd76_11eb_a227_5ebaef7ebc1brow0_col5\" class=\"data row0 col5\" >0.6000</td>\n",
       "                        <td id=\"T_a2f0e716_bd76_11eb_a227_5ebaef7ebc1brow0_col6\" class=\"data row0 col6\" >43,050.00</td>\n",
       "                        <td id=\"T_a2f0e716_bd76_11eb_a227_5ebaef7ebc1brow0_col7\" class=\"data row0 col7\" >2021-03-15</td>\n",
       "                        <td id=\"T_a2f0e716_bd76_11eb_a227_5ebaef7ebc1brow0_col8\" class=\"data row0 col8\" >2021-04-28</td>\n",
       "            </tr>\n",
       "            <tr>\n",
       "                        <th id=\"T_a2f0e716_bd76_11eb_a227_5ebaef7ebc1blevel0_row1\" class=\"row_heading level0 row1\" >1</th>\n",
       "                        <td id=\"T_a2f0e716_bd76_11eb_a227_5ebaef7ebc1brow1_col0\" class=\"data row1 col0\" >18</td>\n",
       "                        <td id=\"T_a2f0e716_bd76_11eb_a227_5ebaef7ebc1brow1_col1\" class=\"data row1 col1\" >MCS</td>\n",
       "                        <td id=\"T_a2f0e716_bd76_11eb_a227_5ebaef7ebc1brow1_col2\" class=\"data row1 col2\" >2020</td>\n",
       "                        <td id=\"T_a2f0e716_bd76_11eb_a227_5ebaef7ebc1brow1_col3\" class=\"data row1 col3\" >2</td>\n",
       "                        <td id=\"T_a2f0e716_bd76_11eb_a227_5ebaef7ebc1brow1_col4\" class=\"data row1 col4\" >75,000</td>\n",
       "                        <td id=\"T_a2f0e716_bd76_11eb_a227_5ebaef7ebc1brow1_col5\" class=\"data row1 col5\" >0.4000</td>\n",
       "                        <td id=\"T_a2f0e716_bd76_11eb_a227_5ebaef7ebc1brow1_col6\" class=\"data row1 col6\" >29,325.00</td>\n",
       "                        <td id=\"T_a2f0e716_bd76_11eb_a227_5ebaef7ebc1brow1_col7\" class=\"data row1 col7\" >2020-08-27</td>\n",
       "                        <td id=\"T_a2f0e716_bd76_11eb_a227_5ebaef7ebc1brow1_col8\" class=\"data row1 col8\" >2020-09-10</td>\n",
       "            </tr>\n",
       "            <tr>\n",
       "                        <th id=\"T_a2f0e716_bd76_11eb_a227_5ebaef7ebc1blevel0_row2\" class=\"row_heading level0 row2\" >2</th>\n",
       "                        <td id=\"T_a2f0e716_bd76_11eb_a227_5ebaef7ebc1brow2_col0\" class=\"data row2 col0\" >20</td>\n",
       "                        <td id=\"T_a2f0e716_bd76_11eb_a227_5ebaef7ebc1brow2_col1\" class=\"data row2 col1\" >MCS</td>\n",
       "                        <td id=\"T_a2f0e716_bd76_11eb_a227_5ebaef7ebc1brow2_col2\" class=\"data row2 col2\" >2019</td>\n",
       "                        <td id=\"T_a2f0e716_bd76_11eb_a227_5ebaef7ebc1brow2_col3\" class=\"data row2 col3\" >4</td>\n",
       "                        <td id=\"T_a2f0e716_bd76_11eb_a227_5ebaef7ebc1brow2_col4\" class=\"data row2 col4\" >75,000</td>\n",
       "                        <td id=\"T_a2f0e716_bd76_11eb_a227_5ebaef7ebc1brow2_col5\" class=\"data row2 col5\" >0.4000</td>\n",
       "                        <td id=\"T_a2f0e716_bd76_11eb_a227_5ebaef7ebc1brow2_col6\" class=\"data row2 col6\" >29,250.00</td>\n",
       "                        <td id=\"T_a2f0e716_bd76_11eb_a227_5ebaef7ebc1brow2_col7\" class=\"data row2 col7\" >2020-04-29</td>\n",
       "                        <td id=\"T_a2f0e716_bd76_11eb_a227_5ebaef7ebc1brow2_col8\" class=\"data row2 col8\" >2020-04-29</td>\n",
       "            </tr>\n",
       "            <tr>\n",
       "                        <th id=\"T_a2f0e716_bd76_11eb_a227_5ebaef7ebc1blevel0_row3\" class=\"row_heading level0 row3\" >3</th>\n",
       "                        <td id=\"T_a2f0e716_bd76_11eb_a227_5ebaef7ebc1brow3_col0\" class=\"data row3 col0\" >34</td>\n",
       "                        <td id=\"T_a2f0e716_bd76_11eb_a227_5ebaef7ebc1brow3_col1\" class=\"data row3 col1\" >MCS</td>\n",
       "                        <td id=\"T_a2f0e716_bd76_11eb_a227_5ebaef7ebc1brow3_col2\" class=\"data row3 col2\" >2019</td>\n",
       "                        <td id=\"T_a2f0e716_bd76_11eb_a227_5ebaef7ebc1brow3_col3\" class=\"data row3 col3\" >3</td>\n",
       "                        <td id=\"T_a2f0e716_bd76_11eb_a227_5ebaef7ebc1brow3_col4\" class=\"data row3 col4\" >75,000</td>\n",
       "                        <td id=\"T_a2f0e716_bd76_11eb_a227_5ebaef7ebc1brow3_col5\" class=\"data row3 col5\" >0.2500</td>\n",
       "                        <td id=\"T_a2f0e716_bd76_11eb_a227_5ebaef7ebc1brow3_col6\" class=\"data row3 col6\" >18,525.00</td>\n",
       "                        <td id=\"T_a2f0e716_bd76_11eb_a227_5ebaef7ebc1brow3_col7\" class=\"data row3 col7\" >2019-12-04</td>\n",
       "                        <td id=\"T_a2f0e716_bd76_11eb_a227_5ebaef7ebc1brow3_col8\" class=\"data row3 col8\" >2019-12-04</td>\n",
       "            </tr>\n",
       "            <tr>\n",
       "                        <th id=\"T_a2f0e716_bd76_11eb_a227_5ebaef7ebc1blevel0_row4\" class=\"row_heading level0 row4\" >4</th>\n",
       "                        <td id=\"T_a2f0e716_bd76_11eb_a227_5ebaef7ebc1brow4_col0\" class=\"data row4 col0\" >71</td>\n",
       "                        <td id=\"T_a2f0e716_bd76_11eb_a227_5ebaef7ebc1brow4_col1\" class=\"data row4 col1\" >MCS</td>\n",
       "                        <td id=\"T_a2f0e716_bd76_11eb_a227_5ebaef7ebc1brow4_col2\" class=\"data row4 col2\" >2018</td>\n",
       "                        <td id=\"T_a2f0e716_bd76_11eb_a227_5ebaef7ebc1brow4_col3\" class=\"data row4 col3\" >4</td>\n",
       "                        <td id=\"T_a2f0e716_bd76_11eb_a227_5ebaef7ebc1brow4_col4\" class=\"data row4 col4\" >70,000</td>\n",
       "                        <td id=\"T_a2f0e716_bd76_11eb_a227_5ebaef7ebc1brow4_col5\" class=\"data row4 col5\" >0.5000</td>\n",
       "                        <td id=\"T_a2f0e716_bd76_11eb_a227_5ebaef7ebc1brow4_col6\" class=\"data row4 col6\" >34,370.00</td>\n",
       "                        <td id=\"T_a2f0e716_bd76_11eb_a227_5ebaef7ebc1brow4_col7\" class=\"data row4 col7\" >2019-04-30</td>\n",
       "                        <td id=\"T_a2f0e716_bd76_11eb_a227_5ebaef7ebc1brow4_col8\" class=\"data row4 col8\" >2019-04-30</td>\n",
       "            </tr>\n",
       "            <tr>\n",
       "                        <th id=\"T_a2f0e716_bd76_11eb_a227_5ebaef7ebc1blevel0_row5\" class=\"row_heading level0 row5\" >5</th>\n",
       "                        <td id=\"T_a2f0e716_bd76_11eb_a227_5ebaef7ebc1brow5_col0\" class=\"data row5 col0\" >123</td>\n",
       "                        <td id=\"T_a2f0e716_bd76_11eb_a227_5ebaef7ebc1brow5_col1\" class=\"data row5 col1\" >MCS</td>\n",
       "                        <td id=\"T_a2f0e716_bd76_11eb_a227_5ebaef7ebc1brow5_col2\" class=\"data row5 col2\" >2018</td>\n",
       "                        <td id=\"T_a2f0e716_bd76_11eb_a227_5ebaef7ebc1brow5_col3\" class=\"data row5 col3\" >1</td>\n",
       "                        <td id=\"T_a2f0e716_bd76_11eb_a227_5ebaef7ebc1brow5_col4\" class=\"data row5 col4\" >80,000</td>\n",
       "                        <td id=\"T_a2f0e716_bd76_11eb_a227_5ebaef7ebc1brow5_col5\" class=\"data row5 col5\" >0.4000</td>\n",
       "                        <td id=\"T_a2f0e716_bd76_11eb_a227_5ebaef7ebc1brow5_col6\" class=\"data row5 col6\" >29,840.00</td>\n",
       "                        <td id=\"T_a2f0e716_bd76_11eb_a227_5ebaef7ebc1brow5_col7\" class=\"data row5 col7\" >2018-05-07</td>\n",
       "                        <td id=\"T_a2f0e716_bd76_11eb_a227_5ebaef7ebc1brow5_col8\" class=\"data row5 col8\" >2018-05-07</td>\n",
       "            </tr>\n",
       "            <tr>\n",
       "                        <th id=\"T_a2f0e716_bd76_11eb_a227_5ebaef7ebc1blevel0_row6\" class=\"row_heading level0 row6\" >6</th>\n",
       "                        <td id=\"T_a2f0e716_bd76_11eb_a227_5ebaef7ebc1brow6_col0\" class=\"data row6 col0\" >134</td>\n",
       "                        <td id=\"T_a2f0e716_bd76_11eb_a227_5ebaef7ebc1brow6_col1\" class=\"data row6 col1\" >MCS</td>\n",
       "                        <td id=\"T_a2f0e716_bd76_11eb_a227_5ebaef7ebc1brow6_col2\" class=\"data row6 col2\" >2017</td>\n",
       "                        <td id=\"T_a2f0e716_bd76_11eb_a227_5ebaef7ebc1brow6_col3\" class=\"data row6 col3\" >2</td>\n",
       "                        <td id=\"T_a2f0e716_bd76_11eb_a227_5ebaef7ebc1brow6_col4\" class=\"data row6 col4\" >80,000</td>\n",
       "                        <td id=\"T_a2f0e716_bd76_11eb_a227_5ebaef7ebc1brow6_col5\" class=\"data row6 col5\" >0.2000</td>\n",
       "                        <td id=\"T_a2f0e716_bd76_11eb_a227_5ebaef7ebc1brow6_col6\" class=\"data row6 col6\" >14,400.00</td>\n",
       "                        <td id=\"T_a2f0e716_bd76_11eb_a227_5ebaef7ebc1brow6_col7\" class=\"data row6 col7\" >2017-09-11</td>\n",
       "                        <td id=\"T_a2f0e716_bd76_11eb_a227_5ebaef7ebc1brow6_col8\" class=\"data row6 col8\" >2017-09-11</td>\n",
       "            </tr>\n",
       "            <tr>\n",
       "                        <th id=\"T_a2f0e716_bd76_11eb_a227_5ebaef7ebc1blevel0_row7\" class=\"row_heading level0 row7\" >7</th>\n",
       "                        <td id=\"T_a2f0e716_bd76_11eb_a227_5ebaef7ebc1brow7_col0\" class=\"data row7 col0\" >155</td>\n",
       "                        <td id=\"T_a2f0e716_bd76_11eb_a227_5ebaef7ebc1brow7_col1\" class=\"data row7 col1\" >MCS</td>\n",
       "                        <td id=\"T_a2f0e716_bd76_11eb_a227_5ebaef7ebc1brow7_col2\" class=\"data row7 col2\" >2016</td>\n",
       "                        <td id=\"T_a2f0e716_bd76_11eb_a227_5ebaef7ebc1brow7_col3\" class=\"data row7 col3\" >4</td>\n",
       "                        <td id=\"T_a2f0e716_bd76_11eb_a227_5ebaef7ebc1brow7_col4\" class=\"data row7 col4\" >80,000</td>\n",
       "                        <td id=\"T_a2f0e716_bd76_11eb_a227_5ebaef7ebc1brow7_col5\" class=\"data row7 col5\" >0.4800</td>\n",
       "                        <td id=\"T_a2f0e716_bd76_11eb_a227_5ebaef7ebc1brow7_col6\" class=\"data row7 col6\" >37,760.00</td>\n",
       "                        <td id=\"T_a2f0e716_bd76_11eb_a227_5ebaef7ebc1brow7_col7\" class=\"data row7 col7\" >2017-05-09</td>\n",
       "                        <td id=\"T_a2f0e716_bd76_11eb_a227_5ebaef7ebc1brow7_col8\" class=\"data row7 col8\" >2017-05-09</td>\n",
       "            </tr>\n",
       "    </tbody></table>"
      ],
      "text/plain": [
       "<pandas.io.formats.style.Styler at 0x1e6ba2a02e0>"
      ]
     },
     "execution_count": 5,
     "metadata": {},
     "output_type": "execute_result"
    }
   ],
   "source": [
    "sql = \"\"\"\n",
    "SELECT id, name, year, quarter, number, ppu, net AS div_amt, x_date, p_date\n",
    "FROM dividends\n",
    "WHERE name = '%s'\n",
    "AND ((year = %s AND quarter >= %s) \n",
    "OR (year > %s))\n",
    "ORDER BY name, year DESC, quarter DESC\n",
    "\"\"\"\n",
    "sql = sql % (name, div_year, div_quarter, div_year)\n",
    "dividends = pd.read_sql(sql, conpf)\n",
    "dividends.style.format(format_dict)"
   ]
  },
  {
   "cell_type": "code",
   "execution_count": 6,
   "metadata": {
    "scrolled": true
   },
   "outputs": [
    {
     "data": {
      "text/html": [
       "<div>\n",
       "<style scoped>\n",
       "    .dataframe tbody tr th:only-of-type {\n",
       "        vertical-align: middle;\n",
       "    }\n",
       "\n",
       "    .dataframe tbody tr th {\n",
       "        vertical-align: top;\n",
       "    }\n",
       "\n",
       "    .dataframe thead th {\n",
       "        text-align: right;\n",
       "    }\n",
       "</style>\n",
       "<table border=\"1\" class=\"dataframe\">\n",
       "  <thead>\n",
       "    <tr style=\"text-align: right;\">\n",
       "      <th></th>\n",
       "      <th>name</th>\n",
       "      <th>ttl_qty</th>\n",
       "      <th>buy_amt</th>\n",
       "      <th>ppu</th>\n",
       "      <th>div_amt</th>\n",
       "      <th>buy_date</th>\n",
       "      <th>x_date</th>\n",
       "      <th>p_date</th>\n",
       "      <th>days</th>\n",
       "      <th>pct</th>\n",
       "      <th>year</th>\n",
       "      <th>quarter</th>\n",
       "    </tr>\n",
       "  </thead>\n",
       "  <tbody>\n",
       "    <tr>\n",
       "      <th>0</th>\n",
       "      <td>MCS</td>\n",
       "      <td>70000.0</td>\n",
       "      <td>1171589.23</td>\n",
       "      <td>0.60</td>\n",
       "      <td>42000.0</td>\n",
       "      <td>2016-11-11</td>\n",
       "      <td>2021-03-15</td>\n",
       "      <td>2021-04-28</td>\n",
       "      <td>1629</td>\n",
       "      <td>0.80</td>\n",
       "      <td>2020</td>\n",
       "      <td>4</td>\n",
       "    </tr>\n",
       "    <tr>\n",
       "      <th>1</th>\n",
       "      <td>MCS</td>\n",
       "      <td>70000.0</td>\n",
       "      <td>1171589.23</td>\n",
       "      <td>0.40</td>\n",
       "      <td>28000.0</td>\n",
       "      <td>2016-11-11</td>\n",
       "      <td>2020-08-27</td>\n",
       "      <td>2020-09-10</td>\n",
       "      <td>1399</td>\n",
       "      <td>0.62</td>\n",
       "      <td>2020</td>\n",
       "      <td>2</td>\n",
       "    </tr>\n",
       "    <tr>\n",
       "      <th>2</th>\n",
       "      <td>MCS</td>\n",
       "      <td>70000.0</td>\n",
       "      <td>1171589.23</td>\n",
       "      <td>0.40</td>\n",
       "      <td>28000.0</td>\n",
       "      <td>2016-11-11</td>\n",
       "      <td>2020-04-29</td>\n",
       "      <td>2020-04-29</td>\n",
       "      <td>1265</td>\n",
       "      <td>0.69</td>\n",
       "      <td>2019</td>\n",
       "      <td>4</td>\n",
       "    </tr>\n",
       "    <tr>\n",
       "      <th>3</th>\n",
       "      <td>MCS</td>\n",
       "      <td>70000.0</td>\n",
       "      <td>1171589.23</td>\n",
       "      <td>0.25</td>\n",
       "      <td>17500.0</td>\n",
       "      <td>2016-11-11</td>\n",
       "      <td>2019-12-04</td>\n",
       "      <td>2019-12-04</td>\n",
       "      <td>1118</td>\n",
       "      <td>0.49</td>\n",
       "      <td>2019</td>\n",
       "      <td>3</td>\n",
       "    </tr>\n",
       "    <tr>\n",
       "      <th>4</th>\n",
       "      <td>MCS</td>\n",
       "      <td>70000.0</td>\n",
       "      <td>1171589.23</td>\n",
       "      <td>0.50</td>\n",
       "      <td>35000.0</td>\n",
       "      <td>2016-11-11</td>\n",
       "      <td>2019-04-30</td>\n",
       "      <td>2019-04-30</td>\n",
       "      <td>900</td>\n",
       "      <td>1.21</td>\n",
       "      <td>2018</td>\n",
       "      <td>4</td>\n",
       "    </tr>\n",
       "    <tr>\n",
       "      <th>5</th>\n",
       "      <td>MCS</td>\n",
       "      <td>70000.0</td>\n",
       "      <td>1171589.23</td>\n",
       "      <td>0.40</td>\n",
       "      <td>28000.0</td>\n",
       "      <td>2016-11-11</td>\n",
       "      <td>2018-05-07</td>\n",
       "      <td>2018-05-07</td>\n",
       "      <td>542</td>\n",
       "      <td>1.61</td>\n",
       "      <td>2018</td>\n",
       "      <td>1</td>\n",
       "    </tr>\n",
       "    <tr>\n",
       "      <th>6</th>\n",
       "      <td>MCS</td>\n",
       "      <td>70000.0</td>\n",
       "      <td>1171589.23</td>\n",
       "      <td>0.20</td>\n",
       "      <td>14000.0</td>\n",
       "      <td>2016-11-11</td>\n",
       "      <td>2017-09-11</td>\n",
       "      <td>2017-09-11</td>\n",
       "      <td>304</td>\n",
       "      <td>1.43</td>\n",
       "      <td>2017</td>\n",
       "      <td>2</td>\n",
       "    </tr>\n",
       "    <tr>\n",
       "      <th>7</th>\n",
       "      <td>MCS</td>\n",
       "      <td>70000.0</td>\n",
       "      <td>1171589.23</td>\n",
       "      <td>0.48</td>\n",
       "      <td>33600.0</td>\n",
       "      <td>2016-11-11</td>\n",
       "      <td>2017-05-09</td>\n",
       "      <td>2017-05-09</td>\n",
       "      <td>179</td>\n",
       "      <td>5.85</td>\n",
       "      <td>2016</td>\n",
       "      <td>4</td>\n",
       "    </tr>\n",
       "  </tbody>\n",
       "</table>\n",
       "</div>"
      ],
      "text/plain": [
       "  name  ttl_qty     buy_amt   ppu  div_amt    buy_date      x_date  \\\n",
       "0  MCS  70000.0  1171589.23  0.60  42000.0  2016-11-11  2021-03-15   \n",
       "1  MCS  70000.0  1171589.23  0.40  28000.0  2016-11-11  2020-08-27   \n",
       "2  MCS  70000.0  1171589.23  0.40  28000.0  2016-11-11  2020-04-29   \n",
       "3  MCS  70000.0  1171589.23  0.25  17500.0  2016-11-11  2019-12-04   \n",
       "4  MCS  70000.0  1171589.23  0.50  35000.0  2016-11-11  2019-04-30   \n",
       "5  MCS  70000.0  1171589.23  0.40  28000.0  2016-11-11  2018-05-07   \n",
       "6  MCS  70000.0  1171589.23  0.20  14000.0  2016-11-11  2017-09-11   \n",
       "7  MCS  70000.0  1171589.23  0.48  33600.0  2016-11-11  2017-05-09   \n",
       "\n",
       "       p_date  days   pct  year  quarter  \n",
       "0  2021-04-28  1629  0.80  2020        4  \n",
       "1  2020-09-10  1399  0.62  2020        2  \n",
       "2  2020-04-29  1265  0.69  2019        4  \n",
       "3  2019-12-04  1118  0.49  2019        3  \n",
       "4  2019-04-30   900  1.21  2018        4  \n",
       "5  2018-05-07   542  1.61  2018        1  \n",
       "6  2017-09-11   304  1.43  2017        2  \n",
       "7  2017-05-09   179  5.85  2016        4  "
      ]
     },
     "execution_count": 6,
     "metadata": {},
     "output_type": "execute_result"
    }
   ],
   "source": [
    "df_merge = pd.merge(buys, dividends, on='name', how='inner')\n",
    "df_merge['div_amt'] = df_merge.ppu * df_merge.ttl_qty\n",
    "df_merge['days'] = df_merge.p_date - df_merge.buy_date\n",
    "df_merge['days'] = df_merge['days']/np.timedelta64(1,'D')\n",
    "df_merge['days'] = df_merge['days'].astype(int)\n",
    "df_merge['pct'] = round(df_merge['div_amt']/df_merge['buy_amt']*36500/df_merge['days'],2)\n",
    "df_merge[cols]"
   ]
  },
  {
   "cell_type": "code",
   "execution_count": 7,
   "metadata": {},
   "outputs": [
    {
     "data": {
      "text/plain": [
       "name\n",
       "MCS    226100.0\n",
       "Name: div_amt, dtype: float64"
      ]
     },
     "execution_count": 7,
     "metadata": {},
     "output_type": "execute_result"
    }
   ],
   "source": [
    "df_grp =df_merge.groupby(['name'])['div_amt'].sum()\n",
    "div1 = df_grp\n",
    "div1"
   ]
  },
  {
   "cell_type": "code",
   "execution_count": 8,
   "metadata": {},
   "outputs": [
    {
     "data": {
      "text/plain": [
       "('../data/div-MCS.csv',\n",
       " '\\\\Users\\\\User\\\\iCloudDrive\\\\div-MCS.csv',\n",
       " '\\\\Users\\\\User\\\\Dropbox\\\\div-MCS.csv')"
      ]
     },
     "execution_count": 8,
     "metadata": {},
     "output_type": "execute_result"
    }
   ],
   "source": [
    "file_name = 'div-' + name + '.csv'\n",
    "data_file = data_path + file_name\n",
    "output_file = csv_path + file_name\n",
    "box_file = box_path + file_name\n",
    "data_file, output_file, box_file"
   ]
  },
  {
   "cell_type": "code",
   "execution_count": 9,
   "metadata": {},
   "outputs": [],
   "source": [
    "df_merge[colt].to_csv(output_file)\n",
    "df_merge[colt].to_csv(data_file)\n",
    "df_merge[colt].to_csv(box_file)"
   ]
  },
  {
   "cell_type": "markdown",
   "metadata": {},
   "source": [
    "### Second batch of purchase"
   ]
  },
  {
   "cell_type": "code",
   "execution_count": 13,
   "metadata": {},
   "outputs": [],
   "source": [
    "div_year = 2016\n",
    "div_quarter = 4\n",
    "second_div_year = 2017\n",
    "third_div_year = 2018\n",
    "third_div_quarter = 1\n",
    "ids = '901'"
   ]
  },
  {
   "cell_type": "code",
   "execution_count": 14,
   "metadata": {},
   "outputs": [
    {
     "data": {
      "text/html": [
       "<div>\n",
       "<style scoped>\n",
       "    .dataframe tbody tr th:only-of-type {\n",
       "        vertical-align: middle;\n",
       "    }\n",
       "\n",
       "    .dataframe tbody tr th {\n",
       "        vertical-align: top;\n",
       "    }\n",
       "\n",
       "    .dataframe thead th {\n",
       "        text-align: right;\n",
       "    }\n",
       "</style>\n",
       "<table border=\"1\" class=\"dataframe\">\n",
       "  <thead>\n",
       "    <tr style=\"text-align: right;\">\n",
       "      <th></th>\n",
       "      <th>name</th>\n",
       "      <th>ttl_qty</th>\n",
       "      <th>buy_amt</th>\n",
       "      <th>buy_date</th>\n",
       "    </tr>\n",
       "  </thead>\n",
       "  <tbody>\n",
       "    <tr>\n",
       "      <th>0</th>\n",
       "      <td>MCS</td>\n",
       "      <td>10000.0</td>\n",
       "      <td>167369.89</td>\n",
       "      <td>2017-05-01</td>\n",
       "    </tr>\n",
       "  </tbody>\n",
       "</table>\n",
       "</div>"
      ],
      "text/plain": [
       "  name  ttl_qty    buy_amt    buy_date\n",
       "0  MCS  10000.0  167369.89  2017-05-01"
      ]
     },
     "execution_count": 14,
     "metadata": {},
     "output_type": "execute_result"
    }
   ],
   "source": [
    "sql = '''\n",
    "SELECT T.name, SUM(qty) AS ttl_qty, \n",
    "SUM(B.net) AS buy_amt, MIN(date) AS buy_date\n",
    "FROM buys B\n",
    "JOIN stocks T ON B.stock_id = T.id \n",
    "WHERE B.id IN (%s)\n",
    "GROUP BY T.name'''\n",
    "sql = sql % (ids)\n",
    "buys = pd.read_sql(sql, conpf)\n",
    "buys"
   ]
  },
  {
   "cell_type": "code",
   "execution_count": 15,
   "metadata": {},
   "outputs": [
    {
     "data": {
      "text/html": [
       "<style  type=\"text/css\" >\n",
       "</style><table id=\"T_0e75eba5_bd80_11eb_aca8_5ebaef7ebc1b\" ><thead>    <tr>        <th class=\"blank level0\" ></th>        <th class=\"col_heading level0 col0\" >id</th>        <th class=\"col_heading level0 col1\" >name</th>        <th class=\"col_heading level0 col2\" >year</th>        <th class=\"col_heading level0 col3\" >quarter</th>        <th class=\"col_heading level0 col4\" >number</th>        <th class=\"col_heading level0 col5\" >ppu</th>        <th class=\"col_heading level0 col6\" >div_amt</th>        <th class=\"col_heading level0 col7\" >x_date</th>        <th class=\"col_heading level0 col8\" >p_date</th>    </tr></thead><tbody>\n",
       "                <tr>\n",
       "                        <th id=\"T_0e75eba5_bd80_11eb_aca8_5ebaef7ebc1blevel0_row0\" class=\"row_heading level0 row0\" >0</th>\n",
       "                        <td id=\"T_0e75eba5_bd80_11eb_aca8_5ebaef7ebc1brow0_col0\" class=\"data row0 col0\" >123</td>\n",
       "                        <td id=\"T_0e75eba5_bd80_11eb_aca8_5ebaef7ebc1brow0_col1\" class=\"data row0 col1\" >MCS</td>\n",
       "                        <td id=\"T_0e75eba5_bd80_11eb_aca8_5ebaef7ebc1brow0_col2\" class=\"data row0 col2\" >2018</td>\n",
       "                        <td id=\"T_0e75eba5_bd80_11eb_aca8_5ebaef7ebc1brow0_col3\" class=\"data row0 col3\" >1</td>\n",
       "                        <td id=\"T_0e75eba5_bd80_11eb_aca8_5ebaef7ebc1brow0_col4\" class=\"data row0 col4\" >80,000</td>\n",
       "                        <td id=\"T_0e75eba5_bd80_11eb_aca8_5ebaef7ebc1brow0_col5\" class=\"data row0 col5\" >0.4000</td>\n",
       "                        <td id=\"T_0e75eba5_bd80_11eb_aca8_5ebaef7ebc1brow0_col6\" class=\"data row0 col6\" >29,840.00</td>\n",
       "                        <td id=\"T_0e75eba5_bd80_11eb_aca8_5ebaef7ebc1brow0_col7\" class=\"data row0 col7\" >2018-05-07</td>\n",
       "                        <td id=\"T_0e75eba5_bd80_11eb_aca8_5ebaef7ebc1brow0_col8\" class=\"data row0 col8\" >2018-05-07</td>\n",
       "            </tr>\n",
       "            <tr>\n",
       "                        <th id=\"T_0e75eba5_bd80_11eb_aca8_5ebaef7ebc1blevel0_row1\" class=\"row_heading level0 row1\" >1</th>\n",
       "                        <td id=\"T_0e75eba5_bd80_11eb_aca8_5ebaef7ebc1brow1_col0\" class=\"data row1 col0\" >134</td>\n",
       "                        <td id=\"T_0e75eba5_bd80_11eb_aca8_5ebaef7ebc1brow1_col1\" class=\"data row1 col1\" >MCS</td>\n",
       "                        <td id=\"T_0e75eba5_bd80_11eb_aca8_5ebaef7ebc1brow1_col2\" class=\"data row1 col2\" >2017</td>\n",
       "                        <td id=\"T_0e75eba5_bd80_11eb_aca8_5ebaef7ebc1brow1_col3\" class=\"data row1 col3\" >2</td>\n",
       "                        <td id=\"T_0e75eba5_bd80_11eb_aca8_5ebaef7ebc1brow1_col4\" class=\"data row1 col4\" >80,000</td>\n",
       "                        <td id=\"T_0e75eba5_bd80_11eb_aca8_5ebaef7ebc1brow1_col5\" class=\"data row1 col5\" >0.2000</td>\n",
       "                        <td id=\"T_0e75eba5_bd80_11eb_aca8_5ebaef7ebc1brow1_col6\" class=\"data row1 col6\" >14,400.00</td>\n",
       "                        <td id=\"T_0e75eba5_bd80_11eb_aca8_5ebaef7ebc1brow1_col7\" class=\"data row1 col7\" >2017-09-11</td>\n",
       "                        <td id=\"T_0e75eba5_bd80_11eb_aca8_5ebaef7ebc1brow1_col8\" class=\"data row1 col8\" >2017-09-11</td>\n",
       "            </tr>\n",
       "            <tr>\n",
       "                        <th id=\"T_0e75eba5_bd80_11eb_aca8_5ebaef7ebc1blevel0_row2\" class=\"row_heading level0 row2\" >2</th>\n",
       "                        <td id=\"T_0e75eba5_bd80_11eb_aca8_5ebaef7ebc1brow2_col0\" class=\"data row2 col0\" >155</td>\n",
       "                        <td id=\"T_0e75eba5_bd80_11eb_aca8_5ebaef7ebc1brow2_col1\" class=\"data row2 col1\" >MCS</td>\n",
       "                        <td id=\"T_0e75eba5_bd80_11eb_aca8_5ebaef7ebc1brow2_col2\" class=\"data row2 col2\" >2016</td>\n",
       "                        <td id=\"T_0e75eba5_bd80_11eb_aca8_5ebaef7ebc1brow2_col3\" class=\"data row2 col3\" >4</td>\n",
       "                        <td id=\"T_0e75eba5_bd80_11eb_aca8_5ebaef7ebc1brow2_col4\" class=\"data row2 col4\" >80,000</td>\n",
       "                        <td id=\"T_0e75eba5_bd80_11eb_aca8_5ebaef7ebc1brow2_col5\" class=\"data row2 col5\" >0.4800</td>\n",
       "                        <td id=\"T_0e75eba5_bd80_11eb_aca8_5ebaef7ebc1brow2_col6\" class=\"data row2 col6\" >37,760.00</td>\n",
       "                        <td id=\"T_0e75eba5_bd80_11eb_aca8_5ebaef7ebc1brow2_col7\" class=\"data row2 col7\" >2017-05-09</td>\n",
       "                        <td id=\"T_0e75eba5_bd80_11eb_aca8_5ebaef7ebc1brow2_col8\" class=\"data row2 col8\" >2017-05-09</td>\n",
       "            </tr>\n",
       "    </tbody></table>"
      ],
      "text/plain": [
       "<pandas.io.formats.style.Styler at 0x1e6ba292df0>"
      ]
     },
     "execution_count": 15,
     "metadata": {},
     "output_type": "execute_result"
    }
   ],
   "source": [
    "sql = \"\"\"\n",
    "SELECT id, name, year, quarter, number, ppu, net AS div_amt, x_date, p_date\n",
    "FROM dividends\n",
    "WHERE name = '%s'\n",
    "AND ((year = %s AND quarter = %s) \n",
    "OR (year = %s)\n",
    "OR (year = %s AND quarter = %s))\n",
    "ORDER BY name, year DESC, quarter DESC\n",
    "\"\"\"\n",
    "sql = sql % (name, div_year, div_quarter, second_div_year, third_div_year, third_div_quarter)\n",
    "dividends = pd.read_sql(sql, conpf)\n",
    "dividends.style.format(format_dict)"
   ]
  },
  {
   "cell_type": "code",
   "execution_count": 16,
   "metadata": {},
   "outputs": [
    {
     "data": {
      "text/html": [
       "<div>\n",
       "<style scoped>\n",
       "    .dataframe tbody tr th:only-of-type {\n",
       "        vertical-align: middle;\n",
       "    }\n",
       "\n",
       "    .dataframe tbody tr th {\n",
       "        vertical-align: top;\n",
       "    }\n",
       "\n",
       "    .dataframe thead th {\n",
       "        text-align: right;\n",
       "    }\n",
       "</style>\n",
       "<table border=\"1\" class=\"dataframe\">\n",
       "  <thead>\n",
       "    <tr style=\"text-align: right;\">\n",
       "      <th></th>\n",
       "      <th>name</th>\n",
       "      <th>ttl_qty</th>\n",
       "      <th>buy_amt</th>\n",
       "      <th>ppu</th>\n",
       "      <th>div_amt</th>\n",
       "      <th>buy_date</th>\n",
       "      <th>x_date</th>\n",
       "      <th>p_date</th>\n",
       "      <th>days</th>\n",
       "      <th>pct</th>\n",
       "      <th>year</th>\n",
       "      <th>quarter</th>\n",
       "    </tr>\n",
       "  </thead>\n",
       "  <tbody>\n",
       "    <tr>\n",
       "      <th>0</th>\n",
       "      <td>MCS</td>\n",
       "      <td>10000.0</td>\n",
       "      <td>167369.89</td>\n",
       "      <td>0.40</td>\n",
       "      <td>4000.0</td>\n",
       "      <td>2017-05-01</td>\n",
       "      <td>2018-05-07</td>\n",
       "      <td>2018-05-07</td>\n",
       "      <td>371</td>\n",
       "      <td>2.35</td>\n",
       "      <td>2018</td>\n",
       "      <td>1</td>\n",
       "    </tr>\n",
       "    <tr>\n",
       "      <th>1</th>\n",
       "      <td>MCS</td>\n",
       "      <td>10000.0</td>\n",
       "      <td>167369.89</td>\n",
       "      <td>0.20</td>\n",
       "      <td>2000.0</td>\n",
       "      <td>2017-05-01</td>\n",
       "      <td>2017-09-11</td>\n",
       "      <td>2017-09-11</td>\n",
       "      <td>133</td>\n",
       "      <td>3.28</td>\n",
       "      <td>2017</td>\n",
       "      <td>2</td>\n",
       "    </tr>\n",
       "    <tr>\n",
       "      <th>2</th>\n",
       "      <td>MCS</td>\n",
       "      <td>10000.0</td>\n",
       "      <td>167369.89</td>\n",
       "      <td>0.48</td>\n",
       "      <td>4800.0</td>\n",
       "      <td>2017-05-01</td>\n",
       "      <td>2017-05-09</td>\n",
       "      <td>2017-05-09</td>\n",
       "      <td>8</td>\n",
       "      <td>130.85</td>\n",
       "      <td>2016</td>\n",
       "      <td>4</td>\n",
       "    </tr>\n",
       "  </tbody>\n",
       "</table>\n",
       "</div>"
      ],
      "text/plain": [
       "  name  ttl_qty    buy_amt   ppu  div_amt    buy_date      x_date      p_date  \\\n",
       "0  MCS  10000.0  167369.89  0.40   4000.0  2017-05-01  2018-05-07  2018-05-07   \n",
       "1  MCS  10000.0  167369.89  0.20   2000.0  2017-05-01  2017-09-11  2017-09-11   \n",
       "2  MCS  10000.0  167369.89  0.48   4800.0  2017-05-01  2017-05-09  2017-05-09   \n",
       "\n",
       "   days     pct  year  quarter  \n",
       "0   371    2.35  2018        1  \n",
       "1   133    3.28  2017        2  \n",
       "2     8  130.85  2016        4  "
      ]
     },
     "execution_count": 16,
     "metadata": {},
     "output_type": "execute_result"
    }
   ],
   "source": [
    "df_merge = pd.merge(buys, dividends, on='name', how='inner')\n",
    "df_merge['div_amt'] = df_merge.ppu * df_merge.ttl_qty\n",
    "df_merge['days'] = df_merge.p_date - df_merge.buy_date\n",
    "df_merge['days'] = df_merge['days']/np.timedelta64(1,'D')\n",
    "df_merge['days'] = df_merge['days'].astype(int)\n",
    "df_merge['pct'] = round(df_merge['div_amt']/df_merge['buy_amt']*36500/df_merge['days'],2)\n",
    "df_merge[cols]"
   ]
  },
  {
   "cell_type": "code",
   "execution_count": 17,
   "metadata": {},
   "outputs": [
    {
     "data": {
      "text/plain": [
       "name\n",
       "MCS    10800.0\n",
       "Name: div_amt, dtype: float64"
      ]
     },
     "execution_count": 17,
     "metadata": {},
     "output_type": "execute_result"
    }
   ],
   "source": [
    "df_grp =df_merge.groupby(['name'])['div_amt'].sum()\n",
    "div2 = df_grp\n",
    "div2"
   ]
  },
  {
   "cell_type": "code",
   "execution_count": 18,
   "metadata": {},
   "outputs": [],
   "source": [
    "df_merge[colt].to_csv(output_file,mode='a',header=False)\n",
    "df_merge[colt].to_csv(data_file,mode='a',header=False)\n",
    "df_merge[colt].to_csv(box_file,mode='a',header=False)"
   ]
  },
  {
   "cell_type": "markdown",
   "metadata": {},
   "source": [
    "### Third batch of purchase (must change qty of record 901 to zero)"
   ]
  },
  {
   "cell_type": "code",
   "execution_count": 19,
   "metadata": {},
   "outputs": [],
   "source": [
    "div_year = 2019\n",
    "div_quarter = 3\n",
    "ids = '653'"
   ]
  },
  {
   "cell_type": "code",
   "execution_count": 20,
   "metadata": {},
   "outputs": [
    {
     "data": {
      "text/html": [
       "<div>\n",
       "<style scoped>\n",
       "    .dataframe tbody tr th:only-of-type {\n",
       "        vertical-align: middle;\n",
       "    }\n",
       "\n",
       "    .dataframe tbody tr th {\n",
       "        vertical-align: top;\n",
       "    }\n",
       "\n",
       "    .dataframe thead th {\n",
       "        text-align: right;\n",
       "    }\n",
       "</style>\n",
       "<table border=\"1\" class=\"dataframe\">\n",
       "  <thead>\n",
       "    <tr style=\"text-align: right;\">\n",
       "      <th></th>\n",
       "      <th>name</th>\n",
       "      <th>ttl_qty</th>\n",
       "      <th>buy_amt</th>\n",
       "      <th>buy_date</th>\n",
       "    </tr>\n",
       "  </thead>\n",
       "  <tbody>\n",
       "    <tr>\n",
       "      <th>0</th>\n",
       "      <td>MCS</td>\n",
       "      <td>5000.0</td>\n",
       "      <td>83684.95</td>\n",
       "      <td>2019-11-11</td>\n",
       "    </tr>\n",
       "  </tbody>\n",
       "</table>\n",
       "</div>"
      ],
      "text/plain": [
       "  name  ttl_qty   buy_amt    buy_date\n",
       "0  MCS   5000.0  83684.95  2019-11-11"
      ]
     },
     "execution_count": 20,
     "metadata": {},
     "output_type": "execute_result"
    }
   ],
   "source": [
    "sql = '''\n",
    "SELECT T.name, SUM(qty) AS ttl_qty, \n",
    "SUM(B.net) AS buy_amt, MIN(date) AS buy_date\n",
    "FROM buys B\n",
    "JOIN stocks T ON B.stock_id = T.id \n",
    "WHERE B.id IN (%s)\n",
    "GROUP BY T.name'''\n",
    "sql = sql % (ids)\n",
    "buys = pd.read_sql(sql, conpf)\n",
    "buys"
   ]
  },
  {
   "cell_type": "code",
   "execution_count": 21,
   "metadata": {},
   "outputs": [
    {
     "data": {
      "text/html": [
       "<style  type=\"text/css\" >\n",
       "</style><table id=\"T_9e17ab66_bd80_11eb_89f0_5ebaef7ebc1b\" ><thead>    <tr>        <th class=\"blank level0\" ></th>        <th class=\"col_heading level0 col0\" >id</th>        <th class=\"col_heading level0 col1\" >name</th>        <th class=\"col_heading level0 col2\" >year</th>        <th class=\"col_heading level0 col3\" >quarter</th>        <th class=\"col_heading level0 col4\" >number</th>        <th class=\"col_heading level0 col5\" >ppu</th>        <th class=\"col_heading level0 col6\" >div_amt</th>        <th class=\"col_heading level0 col7\" >x_date</th>        <th class=\"col_heading level0 col8\" >p_date</th>    </tr></thead><tbody>\n",
       "                <tr>\n",
       "                        <th id=\"T_9e17ab66_bd80_11eb_89f0_5ebaef7ebc1blevel0_row0\" class=\"row_heading level0 row0\" >0</th>\n",
       "                        <td id=\"T_9e17ab66_bd80_11eb_89f0_5ebaef7ebc1brow0_col0\" class=\"data row0 col0\" >211</td>\n",
       "                        <td id=\"T_9e17ab66_bd80_11eb_89f0_5ebaef7ebc1brow0_col1\" class=\"data row0 col1\" >MCS</td>\n",
       "                        <td id=\"T_9e17ab66_bd80_11eb_89f0_5ebaef7ebc1brow0_col2\" class=\"data row0 col2\" >2020</td>\n",
       "                        <td id=\"T_9e17ab66_bd80_11eb_89f0_5ebaef7ebc1brow0_col3\" class=\"data row0 col3\" >4</td>\n",
       "                        <td id=\"T_9e17ab66_bd80_11eb_89f0_5ebaef7ebc1brow0_col4\" class=\"data row0 col4\" >75,000</td>\n",
       "                        <td id=\"T_9e17ab66_bd80_11eb_89f0_5ebaef7ebc1brow0_col5\" class=\"data row0 col5\" >0.6000</td>\n",
       "                        <td id=\"T_9e17ab66_bd80_11eb_89f0_5ebaef7ebc1brow0_col6\" class=\"data row0 col6\" >43,050.00</td>\n",
       "                        <td id=\"T_9e17ab66_bd80_11eb_89f0_5ebaef7ebc1brow0_col7\" class=\"data row0 col7\" >2021-03-15</td>\n",
       "                        <td id=\"T_9e17ab66_bd80_11eb_89f0_5ebaef7ebc1brow0_col8\" class=\"data row0 col8\" >2021-04-28</td>\n",
       "            </tr>\n",
       "            <tr>\n",
       "                        <th id=\"T_9e17ab66_bd80_11eb_89f0_5ebaef7ebc1blevel0_row1\" class=\"row_heading level0 row1\" >1</th>\n",
       "                        <td id=\"T_9e17ab66_bd80_11eb_89f0_5ebaef7ebc1brow1_col0\" class=\"data row1 col0\" >18</td>\n",
       "                        <td id=\"T_9e17ab66_bd80_11eb_89f0_5ebaef7ebc1brow1_col1\" class=\"data row1 col1\" >MCS</td>\n",
       "                        <td id=\"T_9e17ab66_bd80_11eb_89f0_5ebaef7ebc1brow1_col2\" class=\"data row1 col2\" >2020</td>\n",
       "                        <td id=\"T_9e17ab66_bd80_11eb_89f0_5ebaef7ebc1brow1_col3\" class=\"data row1 col3\" >2</td>\n",
       "                        <td id=\"T_9e17ab66_bd80_11eb_89f0_5ebaef7ebc1brow1_col4\" class=\"data row1 col4\" >75,000</td>\n",
       "                        <td id=\"T_9e17ab66_bd80_11eb_89f0_5ebaef7ebc1brow1_col5\" class=\"data row1 col5\" >0.4000</td>\n",
       "                        <td id=\"T_9e17ab66_bd80_11eb_89f0_5ebaef7ebc1brow1_col6\" class=\"data row1 col6\" >29,325.00</td>\n",
       "                        <td id=\"T_9e17ab66_bd80_11eb_89f0_5ebaef7ebc1brow1_col7\" class=\"data row1 col7\" >2020-08-27</td>\n",
       "                        <td id=\"T_9e17ab66_bd80_11eb_89f0_5ebaef7ebc1brow1_col8\" class=\"data row1 col8\" >2020-09-10</td>\n",
       "            </tr>\n",
       "            <tr>\n",
       "                        <th id=\"T_9e17ab66_bd80_11eb_89f0_5ebaef7ebc1blevel0_row2\" class=\"row_heading level0 row2\" >2</th>\n",
       "                        <td id=\"T_9e17ab66_bd80_11eb_89f0_5ebaef7ebc1brow2_col0\" class=\"data row2 col0\" >20</td>\n",
       "                        <td id=\"T_9e17ab66_bd80_11eb_89f0_5ebaef7ebc1brow2_col1\" class=\"data row2 col1\" >MCS</td>\n",
       "                        <td id=\"T_9e17ab66_bd80_11eb_89f0_5ebaef7ebc1brow2_col2\" class=\"data row2 col2\" >2019</td>\n",
       "                        <td id=\"T_9e17ab66_bd80_11eb_89f0_5ebaef7ebc1brow2_col3\" class=\"data row2 col3\" >4</td>\n",
       "                        <td id=\"T_9e17ab66_bd80_11eb_89f0_5ebaef7ebc1brow2_col4\" class=\"data row2 col4\" >75,000</td>\n",
       "                        <td id=\"T_9e17ab66_bd80_11eb_89f0_5ebaef7ebc1brow2_col5\" class=\"data row2 col5\" >0.4000</td>\n",
       "                        <td id=\"T_9e17ab66_bd80_11eb_89f0_5ebaef7ebc1brow2_col6\" class=\"data row2 col6\" >29,250.00</td>\n",
       "                        <td id=\"T_9e17ab66_bd80_11eb_89f0_5ebaef7ebc1brow2_col7\" class=\"data row2 col7\" >2020-04-29</td>\n",
       "                        <td id=\"T_9e17ab66_bd80_11eb_89f0_5ebaef7ebc1brow2_col8\" class=\"data row2 col8\" >2020-04-29</td>\n",
       "            </tr>\n",
       "            <tr>\n",
       "                        <th id=\"T_9e17ab66_bd80_11eb_89f0_5ebaef7ebc1blevel0_row3\" class=\"row_heading level0 row3\" >3</th>\n",
       "                        <td id=\"T_9e17ab66_bd80_11eb_89f0_5ebaef7ebc1brow3_col0\" class=\"data row3 col0\" >34</td>\n",
       "                        <td id=\"T_9e17ab66_bd80_11eb_89f0_5ebaef7ebc1brow3_col1\" class=\"data row3 col1\" >MCS</td>\n",
       "                        <td id=\"T_9e17ab66_bd80_11eb_89f0_5ebaef7ebc1brow3_col2\" class=\"data row3 col2\" >2019</td>\n",
       "                        <td id=\"T_9e17ab66_bd80_11eb_89f0_5ebaef7ebc1brow3_col3\" class=\"data row3 col3\" >3</td>\n",
       "                        <td id=\"T_9e17ab66_bd80_11eb_89f0_5ebaef7ebc1brow3_col4\" class=\"data row3 col4\" >75,000</td>\n",
       "                        <td id=\"T_9e17ab66_bd80_11eb_89f0_5ebaef7ebc1brow3_col5\" class=\"data row3 col5\" >0.2500</td>\n",
       "                        <td id=\"T_9e17ab66_bd80_11eb_89f0_5ebaef7ebc1brow3_col6\" class=\"data row3 col6\" >18,525.00</td>\n",
       "                        <td id=\"T_9e17ab66_bd80_11eb_89f0_5ebaef7ebc1brow3_col7\" class=\"data row3 col7\" >2019-12-04</td>\n",
       "                        <td id=\"T_9e17ab66_bd80_11eb_89f0_5ebaef7ebc1brow3_col8\" class=\"data row3 col8\" >2019-12-04</td>\n",
       "            </tr>\n",
       "    </tbody></table>"
      ],
      "text/plain": [
       "<pandas.io.formats.style.Styler at 0x1e6bda62460>"
      ]
     },
     "execution_count": 21,
     "metadata": {},
     "output_type": "execute_result"
    }
   ],
   "source": [
    "sql = \"\"\"\n",
    "SELECT id, name, year, quarter, number, ppu, net AS div_amt, x_date, p_date\n",
    "FROM dividends\n",
    "WHERE name = '%s'\n",
    "AND ((year = %s AND quarter >= %s) \n",
    "OR (year > %s))\n",
    "ORDER BY name, year DESC, quarter DESC\n",
    "\"\"\"\n",
    "sql = sql % (name, div_year, div_quarter, div_year)\n",
    "dividends = pd.read_sql(sql, conpf)\n",
    "dividends.style.format(format_dict)"
   ]
  },
  {
   "cell_type": "code",
   "execution_count": 22,
   "metadata": {},
   "outputs": [
    {
     "data": {
      "text/html": [
       "<div>\n",
       "<style scoped>\n",
       "    .dataframe tbody tr th:only-of-type {\n",
       "        vertical-align: middle;\n",
       "    }\n",
       "\n",
       "    .dataframe tbody tr th {\n",
       "        vertical-align: top;\n",
       "    }\n",
       "\n",
       "    .dataframe thead th {\n",
       "        text-align: right;\n",
       "    }\n",
       "</style>\n",
       "<table border=\"1\" class=\"dataframe\">\n",
       "  <thead>\n",
       "    <tr style=\"text-align: right;\">\n",
       "      <th></th>\n",
       "      <th>name</th>\n",
       "      <th>ttl_qty</th>\n",
       "      <th>buy_amt</th>\n",
       "      <th>ppu</th>\n",
       "      <th>div_amt</th>\n",
       "      <th>buy_date</th>\n",
       "      <th>x_date</th>\n",
       "      <th>p_date</th>\n",
       "      <th>days</th>\n",
       "      <th>pct</th>\n",
       "      <th>year</th>\n",
       "      <th>quarter</th>\n",
       "    </tr>\n",
       "  </thead>\n",
       "  <tbody>\n",
       "    <tr>\n",
       "      <th>0</th>\n",
       "      <td>MCS</td>\n",
       "      <td>5000.0</td>\n",
       "      <td>83684.95</td>\n",
       "      <td>0.60</td>\n",
       "      <td>3000.0</td>\n",
       "      <td>2019-11-11</td>\n",
       "      <td>2021-03-15</td>\n",
       "      <td>2021-04-28</td>\n",
       "      <td>534</td>\n",
       "      <td>2.45</td>\n",
       "      <td>2020</td>\n",
       "      <td>4</td>\n",
       "    </tr>\n",
       "    <tr>\n",
       "      <th>1</th>\n",
       "      <td>MCS</td>\n",
       "      <td>5000.0</td>\n",
       "      <td>83684.95</td>\n",
       "      <td>0.40</td>\n",
       "      <td>2000.0</td>\n",
       "      <td>2019-11-11</td>\n",
       "      <td>2020-08-27</td>\n",
       "      <td>2020-09-10</td>\n",
       "      <td>304</td>\n",
       "      <td>2.87</td>\n",
       "      <td>2020</td>\n",
       "      <td>2</td>\n",
       "    </tr>\n",
       "    <tr>\n",
       "      <th>2</th>\n",
       "      <td>MCS</td>\n",
       "      <td>5000.0</td>\n",
       "      <td>83684.95</td>\n",
       "      <td>0.40</td>\n",
       "      <td>2000.0</td>\n",
       "      <td>2019-11-11</td>\n",
       "      <td>2020-04-29</td>\n",
       "      <td>2020-04-29</td>\n",
       "      <td>170</td>\n",
       "      <td>5.13</td>\n",
       "      <td>2019</td>\n",
       "      <td>4</td>\n",
       "    </tr>\n",
       "    <tr>\n",
       "      <th>3</th>\n",
       "      <td>MCS</td>\n",
       "      <td>5000.0</td>\n",
       "      <td>83684.95</td>\n",
       "      <td>0.25</td>\n",
       "      <td>1250.0</td>\n",
       "      <td>2019-11-11</td>\n",
       "      <td>2019-12-04</td>\n",
       "      <td>2019-12-04</td>\n",
       "      <td>23</td>\n",
       "      <td>23.70</td>\n",
       "      <td>2019</td>\n",
       "      <td>3</td>\n",
       "    </tr>\n",
       "  </tbody>\n",
       "</table>\n",
       "</div>"
      ],
      "text/plain": [
       "  name  ttl_qty   buy_amt   ppu  div_amt    buy_date      x_date      p_date  \\\n",
       "0  MCS   5000.0  83684.95  0.60   3000.0  2019-11-11  2021-03-15  2021-04-28   \n",
       "1  MCS   5000.0  83684.95  0.40   2000.0  2019-11-11  2020-08-27  2020-09-10   \n",
       "2  MCS   5000.0  83684.95  0.40   2000.0  2019-11-11  2020-04-29  2020-04-29   \n",
       "3  MCS   5000.0  83684.95  0.25   1250.0  2019-11-11  2019-12-04  2019-12-04   \n",
       "\n",
       "   days    pct  year  quarter  \n",
       "0   534   2.45  2020        4  \n",
       "1   304   2.87  2020        2  \n",
       "2   170   5.13  2019        4  \n",
       "3    23  23.70  2019        3  "
      ]
     },
     "execution_count": 22,
     "metadata": {},
     "output_type": "execute_result"
    }
   ],
   "source": [
    "df_merge = pd.merge(buys, dividends, on='name', how='inner')\n",
    "df_merge['div_amt'] = df_merge.ppu * df_merge.ttl_qty\n",
    "df_merge['days'] = df_merge.p_date - df_merge.buy_date\n",
    "df_merge['days'] = df_merge['days']/np.timedelta64(1,'D')\n",
    "df_merge['days'] = df_merge['days'].astype(int)\n",
    "df_merge['pct'] = round(df_merge['div_amt']/df_merge['buy_amt']*36500/df_merge['days'],2)\n",
    "df_merge[cols]"
   ]
  },
  {
   "cell_type": "code",
   "execution_count": 23,
   "metadata": {},
   "outputs": [
    {
     "data": {
      "text/plain": [
       "name\n",
       "MCS    8250.0\n",
       "Name: div_amt, dtype: float64"
      ]
     },
     "execution_count": 23,
     "metadata": {},
     "output_type": "execute_result"
    }
   ],
   "source": [
    "df_grp =df_merge.groupby(['name'])['div_amt'].sum()\n",
    "div3 = df_grp\n",
    "div3"
   ]
  },
  {
   "cell_type": "code",
   "execution_count": 24,
   "metadata": {},
   "outputs": [],
   "source": [
    "df_merge[colt].to_csv(output_file,mode='a',header=False)\n",
    "df_merge[colt].to_csv(data_file,mode='a',header=False)\n",
    "df_merge[colt].to_csv(box_file,mode='a',header=False)"
   ]
  },
  {
   "cell_type": "markdown",
   "metadata": {},
   "source": [
    "### 4th Batch"
   ]
  },
  {
   "cell_type": "code",
   "execution_count": 27,
   "metadata": {},
   "outputs": [],
   "source": [
    "div_year = 2021\n",
    "div_quarter = 2\n",
    "ids = '841'"
   ]
  },
  {
   "cell_type": "code",
   "execution_count": 28,
   "metadata": {},
   "outputs": [
    {
     "data": {
      "text/html": [
       "<div>\n",
       "<style scoped>\n",
       "    .dataframe tbody tr th:only-of-type {\n",
       "        vertical-align: middle;\n",
       "    }\n",
       "\n",
       "    .dataframe tbody tr th {\n",
       "        vertical-align: top;\n",
       "    }\n",
       "\n",
       "    .dataframe thead th {\n",
       "        text-align: right;\n",
       "    }\n",
       "</style>\n",
       "<table border=\"1\" class=\"dataframe\">\n",
       "  <thead>\n",
       "    <tr style=\"text-align: right;\">\n",
       "      <th></th>\n",
       "      <th>name</th>\n",
       "      <th>ttl_qty</th>\n",
       "      <th>buy_amt</th>\n",
       "      <th>buy_date</th>\n",
       "    </tr>\n",
       "  </thead>\n",
       "  <tbody>\n",
       "    <tr>\n",
       "      <th>0</th>\n",
       "      <td>MCS</td>\n",
       "      <td>5000.0</td>\n",
       "      <td>83684.95</td>\n",
       "      <td>2021-03-16</td>\n",
       "    </tr>\n",
       "  </tbody>\n",
       "</table>\n",
       "</div>"
      ],
      "text/plain": [
       "  name  ttl_qty   buy_amt    buy_date\n",
       "0  MCS   5000.0  83684.95  2021-03-16"
      ]
     },
     "execution_count": 28,
     "metadata": {},
     "output_type": "execute_result"
    }
   ],
   "source": [
    "sql = '''\n",
    "SELECT T.name, SUM(qty) AS ttl_qty, \n",
    "SUM(B.net) AS buy_amt, MIN(date) AS buy_date\n",
    "FROM buys B\n",
    "JOIN stocks T ON B.stock_id = T.id \n",
    "WHERE B.id IN (%s)\n",
    "GROUP BY T.name'''\n",
    "sql = sql % (ids)\n",
    "buys = pd.read_sql(sql, conpf)\n",
    "buys"
   ]
  },
  {
   "cell_type": "code",
   "execution_count": 29,
   "metadata": {},
   "outputs": [
    {
     "data": {
      "text/html": [
       "<style  type=\"text/css\" >\n",
       "</style><table id=\"T_3ade2cb7_bd81_11eb_97dd_5ebaef7ebc1b\" ><thead>    <tr>        <th class=\"blank level0\" ></th>        <th class=\"col_heading level0 col0\" >id</th>        <th class=\"col_heading level0 col1\" >name</th>        <th class=\"col_heading level0 col2\" >year</th>        <th class=\"col_heading level0 col3\" >quarter</th>        <th class=\"col_heading level0 col4\" >number</th>        <th class=\"col_heading level0 col5\" >ppu</th>        <th class=\"col_heading level0 col6\" >div_amt</th>        <th class=\"col_heading level0 col7\" >x_date</th>        <th class=\"col_heading level0 col8\" >p_date</th>    </tr></thead><tbody>\n",
       "        </tbody></table>"
      ],
      "text/plain": [
       "<pandas.io.formats.style.Styler at 0x1e6bd9f6e20>"
      ]
     },
     "execution_count": 29,
     "metadata": {},
     "output_type": "execute_result"
    }
   ],
   "source": [
    "sql = \"\"\"\n",
    "SELECT id, name, year, quarter, number, ppu, net AS div_amt, x_date, p_date\n",
    "FROM dividends\n",
    "WHERE name = '%s'\n",
    "AND ((year = %s AND quarter >= %s) \n",
    "OR (year > %s))\n",
    "ORDER BY name, year DESC, quarter DESC\n",
    "\"\"\"\n",
    "sql = sql % (name, div_year, div_quarter, div_year)\n",
    "dividends = pd.read_sql(sql, conpf)\n",
    "dividends.style.format(format_dict)"
   ]
  },
  {
   "cell_type": "code",
   "execution_count": 30,
   "metadata": {},
   "outputs": [
    {
     "data": {
      "text/html": [
       "<div>\n",
       "<style scoped>\n",
       "    .dataframe tbody tr th:only-of-type {\n",
       "        vertical-align: middle;\n",
       "    }\n",
       "\n",
       "    .dataframe tbody tr th {\n",
       "        vertical-align: top;\n",
       "    }\n",
       "\n",
       "    .dataframe thead th {\n",
       "        text-align: right;\n",
       "    }\n",
       "</style>\n",
       "<table border=\"1\" class=\"dataframe\">\n",
       "  <thead>\n",
       "    <tr style=\"text-align: right;\">\n",
       "      <th></th>\n",
       "      <th>name</th>\n",
       "      <th>ttl_qty</th>\n",
       "      <th>buy_amt</th>\n",
       "      <th>ppu</th>\n",
       "      <th>div_amt</th>\n",
       "      <th>buy_date</th>\n",
       "      <th>x_date</th>\n",
       "      <th>p_date</th>\n",
       "      <th>days</th>\n",
       "      <th>pct</th>\n",
       "      <th>year</th>\n",
       "      <th>quarter</th>\n",
       "    </tr>\n",
       "  </thead>\n",
       "  <tbody>\n",
       "  </tbody>\n",
       "</table>\n",
       "</div>"
      ],
      "text/plain": [
       "Empty DataFrame\n",
       "Columns: [name, ttl_qty, buy_amt, ppu, div_amt, buy_date, x_date, p_date, days, pct, year, quarter]\n",
       "Index: []"
      ]
     },
     "execution_count": 30,
     "metadata": {},
     "output_type": "execute_result"
    }
   ],
   "source": [
    "df_merge = pd.merge(buys, dividends, on='name', how='inner')\n",
    "df_merge['div_amt'] = df_merge.ppu * df_merge.ttl_qty\n",
    "df_merge['days'] = df_merge.p_date - df_merge.buy_date\n",
    "df_merge['days'] = df_merge['days']/np.timedelta64(1,'D')\n",
    "df_merge['days'] = df_merge['days'].astype(int)\n",
    "df_merge['pct'] = round(df_merge['div_amt']/df_merge['buy_amt']*36500/df_merge['days'],2)\n",
    "df_merge[cols]"
   ]
  },
  {
   "cell_type": "code",
   "execution_count": 31,
   "metadata": {},
   "outputs": [
    {
     "data": {
      "text/plain": [
       "Series([], Name: div_amt, dtype: float64)"
      ]
     },
     "execution_count": 31,
     "metadata": {},
     "output_type": "execute_result"
    }
   ],
   "source": [
    "df_grp =df_merge.groupby(['name'])['div_amt'].sum()\n",
    "div4 = df_grp\n",
    "div4"
   ]
  },
  {
   "cell_type": "code",
   "execution_count": null,
   "metadata": {},
   "outputs": [],
   "source": [
    "df_merge[colt].to_csv(output_file,mode='a',header=False)\n",
    "df_merge[colt].to_csv(data_file,mode='a',header=False)\n",
    "df_merge[colt].to_csv(box_file,mode='a',header=False)"
   ]
  },
  {
   "cell_type": "markdown",
   "metadata": {},
   "source": [
    "### End of process"
   ]
  },
  {
   "cell_type": "code",
   "execution_count": 6,
   "metadata": {},
   "outputs": [],
   "source": [
    "div_year = 2016\n",
    "div_quarter = 4"
   ]
  },
  {
   "cell_type": "code",
   "execution_count": 7,
   "metadata": {},
   "outputs": [
    {
     "data": {
      "text/html": [
       "<style  type=\"text/css\" >\n",
       "</style><table id=\"T_0ed6a554_bdec_11eb_bf67_5ebaef7ebc1b\" ><thead>    <tr>        <th class=\"blank level0\" ></th>        <th class=\"col_heading level0 col0\" >id</th>        <th class=\"col_heading level0 col1\" >name</th>        <th class=\"col_heading level0 col2\" >year</th>        <th class=\"col_heading level0 col3\" >quarter</th>        <th class=\"col_heading level0 col4\" >number</th>        <th class=\"col_heading level0 col5\" >ppu</th>        <th class=\"col_heading level0 col6\" >div_amt</th>        <th class=\"col_heading level0 col7\" >x_date</th>        <th class=\"col_heading level0 col8\" >p_date</th>    </tr></thead><tbody>\n",
       "                <tr>\n",
       "                        <th id=\"T_0ed6a554_bdec_11eb_bf67_5ebaef7ebc1blevel0_row0\" class=\"row_heading level0 row0\" >0</th>\n",
       "                        <td id=\"T_0ed6a554_bdec_11eb_bf67_5ebaef7ebc1brow0_col0\" class=\"data row0 col0\" >155</td>\n",
       "                        <td id=\"T_0ed6a554_bdec_11eb_bf67_5ebaef7ebc1brow0_col1\" class=\"data row0 col1\" >MCS</td>\n",
       "                        <td id=\"T_0ed6a554_bdec_11eb_bf67_5ebaef7ebc1brow0_col2\" class=\"data row0 col2\" >2016</td>\n",
       "                        <td id=\"T_0ed6a554_bdec_11eb_bf67_5ebaef7ebc1brow0_col3\" class=\"data row0 col3\" >4</td>\n",
       "                        <td id=\"T_0ed6a554_bdec_11eb_bf67_5ebaef7ebc1brow0_col4\" class=\"data row0 col4\" >80,000</td>\n",
       "                        <td id=\"T_0ed6a554_bdec_11eb_bf67_5ebaef7ebc1brow0_col5\" class=\"data row0 col5\" >0.4800</td>\n",
       "                        <td id=\"T_0ed6a554_bdec_11eb_bf67_5ebaef7ebc1brow0_col6\" class=\"data row0 col6\" >38,400.00</td>\n",
       "                        <td id=\"T_0ed6a554_bdec_11eb_bf67_5ebaef7ebc1brow0_col7\" class=\"data row0 col7\" >2017-05-09</td>\n",
       "                        <td id=\"T_0ed6a554_bdec_11eb_bf67_5ebaef7ebc1brow0_col8\" class=\"data row0 col8\" >2017-05-09</td>\n",
       "            </tr>\n",
       "            <tr>\n",
       "                        <th id=\"T_0ed6a554_bdec_11eb_bf67_5ebaef7ebc1blevel0_row1\" class=\"row_heading level0 row1\" >1</th>\n",
       "                        <td id=\"T_0ed6a554_bdec_11eb_bf67_5ebaef7ebc1brow1_col0\" class=\"data row1 col0\" >134</td>\n",
       "                        <td id=\"T_0ed6a554_bdec_11eb_bf67_5ebaef7ebc1brow1_col1\" class=\"data row1 col1\" >MCS</td>\n",
       "                        <td id=\"T_0ed6a554_bdec_11eb_bf67_5ebaef7ebc1brow1_col2\" class=\"data row1 col2\" >2017</td>\n",
       "                        <td id=\"T_0ed6a554_bdec_11eb_bf67_5ebaef7ebc1brow1_col3\" class=\"data row1 col3\" >2</td>\n",
       "                        <td id=\"T_0ed6a554_bdec_11eb_bf67_5ebaef7ebc1brow1_col4\" class=\"data row1 col4\" >80,000</td>\n",
       "                        <td id=\"T_0ed6a554_bdec_11eb_bf67_5ebaef7ebc1brow1_col5\" class=\"data row1 col5\" >0.2000</td>\n",
       "                        <td id=\"T_0ed6a554_bdec_11eb_bf67_5ebaef7ebc1brow1_col6\" class=\"data row1 col6\" >16,000.00</td>\n",
       "                        <td id=\"T_0ed6a554_bdec_11eb_bf67_5ebaef7ebc1brow1_col7\" class=\"data row1 col7\" >2017-09-11</td>\n",
       "                        <td id=\"T_0ed6a554_bdec_11eb_bf67_5ebaef7ebc1brow1_col8\" class=\"data row1 col8\" >2017-09-11</td>\n",
       "            </tr>\n",
       "            <tr>\n",
       "                        <th id=\"T_0ed6a554_bdec_11eb_bf67_5ebaef7ebc1blevel0_row2\" class=\"row_heading level0 row2\" >2</th>\n",
       "                        <td id=\"T_0ed6a554_bdec_11eb_bf67_5ebaef7ebc1brow2_col0\" class=\"data row2 col0\" >123</td>\n",
       "                        <td id=\"T_0ed6a554_bdec_11eb_bf67_5ebaef7ebc1brow2_col1\" class=\"data row2 col1\" >MCS</td>\n",
       "                        <td id=\"T_0ed6a554_bdec_11eb_bf67_5ebaef7ebc1brow2_col2\" class=\"data row2 col2\" >2018</td>\n",
       "                        <td id=\"T_0ed6a554_bdec_11eb_bf67_5ebaef7ebc1brow2_col3\" class=\"data row2 col3\" >1</td>\n",
       "                        <td id=\"T_0ed6a554_bdec_11eb_bf67_5ebaef7ebc1brow2_col4\" class=\"data row2 col4\" >80,000</td>\n",
       "                        <td id=\"T_0ed6a554_bdec_11eb_bf67_5ebaef7ebc1brow2_col5\" class=\"data row2 col5\" >0.4000</td>\n",
       "                        <td id=\"T_0ed6a554_bdec_11eb_bf67_5ebaef7ebc1brow2_col6\" class=\"data row2 col6\" >32,000.00</td>\n",
       "                        <td id=\"T_0ed6a554_bdec_11eb_bf67_5ebaef7ebc1brow2_col7\" class=\"data row2 col7\" >2018-05-07</td>\n",
       "                        <td id=\"T_0ed6a554_bdec_11eb_bf67_5ebaef7ebc1brow2_col8\" class=\"data row2 col8\" >2018-05-07</td>\n",
       "            </tr>\n",
       "            <tr>\n",
       "                        <th id=\"T_0ed6a554_bdec_11eb_bf67_5ebaef7ebc1blevel0_row3\" class=\"row_heading level0 row3\" >3</th>\n",
       "                        <td id=\"T_0ed6a554_bdec_11eb_bf67_5ebaef7ebc1brow3_col0\" class=\"data row3 col0\" >71</td>\n",
       "                        <td id=\"T_0ed6a554_bdec_11eb_bf67_5ebaef7ebc1brow3_col1\" class=\"data row3 col1\" >MCS</td>\n",
       "                        <td id=\"T_0ed6a554_bdec_11eb_bf67_5ebaef7ebc1brow3_col2\" class=\"data row3 col2\" >2018</td>\n",
       "                        <td id=\"T_0ed6a554_bdec_11eb_bf67_5ebaef7ebc1brow3_col3\" class=\"data row3 col3\" >4</td>\n",
       "                        <td id=\"T_0ed6a554_bdec_11eb_bf67_5ebaef7ebc1brow3_col4\" class=\"data row3 col4\" >70,000</td>\n",
       "                        <td id=\"T_0ed6a554_bdec_11eb_bf67_5ebaef7ebc1brow3_col5\" class=\"data row3 col5\" >0.5000</td>\n",
       "                        <td id=\"T_0ed6a554_bdec_11eb_bf67_5ebaef7ebc1brow3_col6\" class=\"data row3 col6\" >35,000.00</td>\n",
       "                        <td id=\"T_0ed6a554_bdec_11eb_bf67_5ebaef7ebc1brow3_col7\" class=\"data row3 col7\" >2019-04-30</td>\n",
       "                        <td id=\"T_0ed6a554_bdec_11eb_bf67_5ebaef7ebc1brow3_col8\" class=\"data row3 col8\" >2019-04-30</td>\n",
       "            </tr>\n",
       "            <tr>\n",
       "                        <th id=\"T_0ed6a554_bdec_11eb_bf67_5ebaef7ebc1blevel0_row4\" class=\"row_heading level0 row4\" >4</th>\n",
       "                        <td id=\"T_0ed6a554_bdec_11eb_bf67_5ebaef7ebc1brow4_col0\" class=\"data row4 col0\" >34</td>\n",
       "                        <td id=\"T_0ed6a554_bdec_11eb_bf67_5ebaef7ebc1brow4_col1\" class=\"data row4 col1\" >MCS</td>\n",
       "                        <td id=\"T_0ed6a554_bdec_11eb_bf67_5ebaef7ebc1brow4_col2\" class=\"data row4 col2\" >2019</td>\n",
       "                        <td id=\"T_0ed6a554_bdec_11eb_bf67_5ebaef7ebc1brow4_col3\" class=\"data row4 col3\" >3</td>\n",
       "                        <td id=\"T_0ed6a554_bdec_11eb_bf67_5ebaef7ebc1brow4_col4\" class=\"data row4 col4\" >75,000</td>\n",
       "                        <td id=\"T_0ed6a554_bdec_11eb_bf67_5ebaef7ebc1brow4_col5\" class=\"data row4 col5\" >0.2500</td>\n",
       "                        <td id=\"T_0ed6a554_bdec_11eb_bf67_5ebaef7ebc1brow4_col6\" class=\"data row4 col6\" >18,750.00</td>\n",
       "                        <td id=\"T_0ed6a554_bdec_11eb_bf67_5ebaef7ebc1brow4_col7\" class=\"data row4 col7\" >2019-12-04</td>\n",
       "                        <td id=\"T_0ed6a554_bdec_11eb_bf67_5ebaef7ebc1brow4_col8\" class=\"data row4 col8\" >2019-12-04</td>\n",
       "            </tr>\n",
       "            <tr>\n",
       "                        <th id=\"T_0ed6a554_bdec_11eb_bf67_5ebaef7ebc1blevel0_row5\" class=\"row_heading level0 row5\" >5</th>\n",
       "                        <td id=\"T_0ed6a554_bdec_11eb_bf67_5ebaef7ebc1brow5_col0\" class=\"data row5 col0\" >20</td>\n",
       "                        <td id=\"T_0ed6a554_bdec_11eb_bf67_5ebaef7ebc1brow5_col1\" class=\"data row5 col1\" >MCS</td>\n",
       "                        <td id=\"T_0ed6a554_bdec_11eb_bf67_5ebaef7ebc1brow5_col2\" class=\"data row5 col2\" >2019</td>\n",
       "                        <td id=\"T_0ed6a554_bdec_11eb_bf67_5ebaef7ebc1brow5_col3\" class=\"data row5 col3\" >4</td>\n",
       "                        <td id=\"T_0ed6a554_bdec_11eb_bf67_5ebaef7ebc1brow5_col4\" class=\"data row5 col4\" >75,000</td>\n",
       "                        <td id=\"T_0ed6a554_bdec_11eb_bf67_5ebaef7ebc1brow5_col5\" class=\"data row5 col5\" >0.4000</td>\n",
       "                        <td id=\"T_0ed6a554_bdec_11eb_bf67_5ebaef7ebc1brow5_col6\" class=\"data row5 col6\" >30,000.00</td>\n",
       "                        <td id=\"T_0ed6a554_bdec_11eb_bf67_5ebaef7ebc1brow5_col7\" class=\"data row5 col7\" >2020-04-29</td>\n",
       "                        <td id=\"T_0ed6a554_bdec_11eb_bf67_5ebaef7ebc1brow5_col8\" class=\"data row5 col8\" >2020-04-29</td>\n",
       "            </tr>\n",
       "            <tr>\n",
       "                        <th id=\"T_0ed6a554_bdec_11eb_bf67_5ebaef7ebc1blevel0_row6\" class=\"row_heading level0 row6\" >6</th>\n",
       "                        <td id=\"T_0ed6a554_bdec_11eb_bf67_5ebaef7ebc1brow6_col0\" class=\"data row6 col0\" >18</td>\n",
       "                        <td id=\"T_0ed6a554_bdec_11eb_bf67_5ebaef7ebc1brow6_col1\" class=\"data row6 col1\" >MCS</td>\n",
       "                        <td id=\"T_0ed6a554_bdec_11eb_bf67_5ebaef7ebc1brow6_col2\" class=\"data row6 col2\" >2020</td>\n",
       "                        <td id=\"T_0ed6a554_bdec_11eb_bf67_5ebaef7ebc1brow6_col3\" class=\"data row6 col3\" >2</td>\n",
       "                        <td id=\"T_0ed6a554_bdec_11eb_bf67_5ebaef7ebc1brow6_col4\" class=\"data row6 col4\" >75,000</td>\n",
       "                        <td id=\"T_0ed6a554_bdec_11eb_bf67_5ebaef7ebc1brow6_col5\" class=\"data row6 col5\" >0.4000</td>\n",
       "                        <td id=\"T_0ed6a554_bdec_11eb_bf67_5ebaef7ebc1brow6_col6\" class=\"data row6 col6\" >30,000.00</td>\n",
       "                        <td id=\"T_0ed6a554_bdec_11eb_bf67_5ebaef7ebc1brow6_col7\" class=\"data row6 col7\" >2020-08-27</td>\n",
       "                        <td id=\"T_0ed6a554_bdec_11eb_bf67_5ebaef7ebc1brow6_col8\" class=\"data row6 col8\" >2020-09-10</td>\n",
       "            </tr>\n",
       "            <tr>\n",
       "                        <th id=\"T_0ed6a554_bdec_11eb_bf67_5ebaef7ebc1blevel0_row7\" class=\"row_heading level0 row7\" >7</th>\n",
       "                        <td id=\"T_0ed6a554_bdec_11eb_bf67_5ebaef7ebc1brow7_col0\" class=\"data row7 col0\" >211</td>\n",
       "                        <td id=\"T_0ed6a554_bdec_11eb_bf67_5ebaef7ebc1brow7_col1\" class=\"data row7 col1\" >MCS</td>\n",
       "                        <td id=\"T_0ed6a554_bdec_11eb_bf67_5ebaef7ebc1brow7_col2\" class=\"data row7 col2\" >2020</td>\n",
       "                        <td id=\"T_0ed6a554_bdec_11eb_bf67_5ebaef7ebc1brow7_col3\" class=\"data row7 col3\" >4</td>\n",
       "                        <td id=\"T_0ed6a554_bdec_11eb_bf67_5ebaef7ebc1brow7_col4\" class=\"data row7 col4\" >75,000</td>\n",
       "                        <td id=\"T_0ed6a554_bdec_11eb_bf67_5ebaef7ebc1brow7_col5\" class=\"data row7 col5\" >0.6000</td>\n",
       "                        <td id=\"T_0ed6a554_bdec_11eb_bf67_5ebaef7ebc1brow7_col6\" class=\"data row7 col6\" >45,000.00</td>\n",
       "                        <td id=\"T_0ed6a554_bdec_11eb_bf67_5ebaef7ebc1brow7_col7\" class=\"data row7 col7\" >2021-03-15</td>\n",
       "                        <td id=\"T_0ed6a554_bdec_11eb_bf67_5ebaef7ebc1brow7_col8\" class=\"data row7 col8\" >2021-04-28</td>\n",
       "            </tr>\n",
       "    </tbody></table>"
      ],
      "text/plain": [
       "<pandas.io.formats.style.Styler at 0x19070591100>"
      ]
     },
     "execution_count": 7,
     "metadata": {},
     "output_type": "execute_result"
    }
   ],
   "source": [
    "sql = \"\"\"\n",
    "SELECT id, name, year, quarter, number, ppu, number * ppu AS div_amt, x_date, p_date\n",
    "FROM dividends\n",
    "WHERE name = '%s'\n",
    "AND ((year = %s AND quarter >= %s) \n",
    "OR (year > %s))\n",
    "ORDER BY name, year, quarter\n",
    "\"\"\"\n",
    "sql = sql % (name, div_year, div_quarter, div_year)\n",
    "dividends = pd.read_sql(sql, conpf)\n",
    "dividends.style.format(format_dict)"
   ]
  },
  {
   "cell_type": "code",
   "execution_count": 8,
   "metadata": {},
   "outputs": [
    {
     "data": {
      "text/plain": [
       "245150.0"
      ]
     },
     "execution_count": 8,
     "metadata": {},
     "output_type": "execute_result"
    }
   ],
   "source": [
    "dividends.div_amt.sum()"
   ]
  },
  {
   "cell_type": "code",
   "execution_count": null,
   "metadata": {},
   "outputs": [],
   "source": []
  }
 ],
 "metadata": {
  "anaconda-cloud": {},
  "kernelspec": {
   "display_name": "Python 3",
   "language": "python",
   "name": "python3"
  },
  "language_info": {
   "codemirror_mode": {
    "name": "ipython",
    "version": 3
   },
   "file_extension": ".py",
   "mimetype": "text/x-python",
   "name": "python",
   "nbconvert_exporter": "python",
   "pygments_lexer": "ipython3",
   "version": "3.8.5"
  }
 },
 "nbformat": 4,
 "nbformat_minor": 1
}
