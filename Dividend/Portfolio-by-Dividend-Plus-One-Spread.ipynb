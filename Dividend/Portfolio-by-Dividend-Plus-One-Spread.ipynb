{
 "cells": [
  {
   "cell_type": "code",
   "execution_count": 1,
   "metadata": {},
   "outputs": [],
   "source": [
    "import pandas as pd\n",
    "import numpy as np\n",
    "from datetime import date, timedelta\n",
    "from sqlalchemy import create_engine\n",
    "\n",
    "engine = create_engine('mysql+pymysql://root:@localhost:3306/portfolio_development')\n",
    "conpf = engine.connect()"
   ]
  },
  {
   "cell_type": "code",
   "execution_count": 2,
   "metadata": {},
   "outputs": [],
   "source": [
    "format_dict = {\n",
    "               'price':'{:.2f}','buy_price':'{:.2f}','sell_price':'{:.2f}','diff':'{:.2f}',\n",
    "               'ppu':'{:.4f}',\n",
    "               'net':'{:,.2f}','fee':'{:,.2f}','vat':'{:,.2f}',\n",
    "               'buy_amt':'{:,.2f}','sell_amt':'{:,.2f}','profit':'{:,.2f}',\n",
    "               'div_amt':'{:,.2f}','ttl_amt':'{:,.2f}','pct':'{:,.2f}',\n",
    "               'qty':'{:,}','number':'{:,}','days':'{:,}'\n",
    "              }\n",
    "pd.set_option(\"display.max_rows\", None)"
   ]
  },
  {
   "cell_type": "markdown",
   "metadata": {},
   "source": [
    "### Change kind en masse"
   ]
  },
  {
   "cell_type": "code",
   "execution_count": 3,
   "metadata": {},
   "outputs": [],
   "source": [
    "kind = 'DOS'\n",
    "year = 2020\n",
    "quarter = 4"
   ]
  },
  {
   "cell_type": "markdown",
   "metadata": {},
   "source": [
    "### Stocks that cannot be sold yet"
   ]
  },
  {
   "cell_type": "code",
   "execution_count": 4,
   "metadata": {},
   "outputs": [
    {
     "data": {
      "text/html": [
       "<style  type=\"text/css\" >\n",
       "</style><table id=\"T_d0d13f29_b849_11eb_adcb_5ebaef7ebc1b\" ><thead>    <tr>        <th class=\"blank level0\" ></th>        <th class=\"col_heading level0 col0\" >name</th>        <th class=\"col_heading level0 col1\" >buy_date</th>        <th class=\"col_heading level0 col2\" >qty</th>        <th class=\"col_heading level0 col3\" >buy_price</th>        <th class=\"col_heading level0 col4\" >buy_amt</th>    </tr></thead><tbody>\n",
       "                <tr>\n",
       "                        <th id=\"T_d0d13f29_b849_11eb_adcb_5ebaef7ebc1blevel0_row0\" class=\"row_heading level0 row0\" >0</th>\n",
       "                        <td id=\"T_d0d13f29_b849_11eb_adcb_5ebaef7ebc1brow0_col0\" class=\"data row0 col0\" >GVREIT</td>\n",
       "                        <td id=\"T_d0d13f29_b849_11eb_adcb_5ebaef7ebc1brow0_col1\" class=\"data row0 col1\" >2021-05-10</td>\n",
       "                        <td id=\"T_d0d13f29_b849_11eb_adcb_5ebaef7ebc1brow0_col2\" class=\"data row0 col2\" >10,000</td>\n",
       "                        <td id=\"T_d0d13f29_b849_11eb_adcb_5ebaef7ebc1brow0_col3\" class=\"data row0 col3\" >10.50</td>\n",
       "                        <td id=\"T_d0d13f29_b849_11eb_adcb_5ebaef7ebc1brow0_col4\" class=\"data row0 col4\" >105,232.56</td>\n",
       "            </tr>\n",
       "            <tr>\n",
       "                        <th id=\"T_d0d13f29_b849_11eb_adcb_5ebaef7ebc1blevel0_row1\" class=\"row_heading level0 row1\" >1</th>\n",
       "                        <td id=\"T_d0d13f29_b849_11eb_adcb_5ebaef7ebc1brow1_col0\" class=\"data row1 col0\" >SCCC</td>\n",
       "                        <td id=\"T_d0d13f29_b849_11eb_adcb_5ebaef7ebc1brow1_col1\" class=\"data row1 col1\" >2021-02-23</td>\n",
       "                        <td id=\"T_d0d13f29_b849_11eb_adcb_5ebaef7ebc1brow1_col2\" class=\"data row1 col2\" >600</td>\n",
       "                        <td id=\"T_d0d13f29_b849_11eb_adcb_5ebaef7ebc1brow1_col3\" class=\"data row1 col3\" >170.00</td>\n",
       "                        <td id=\"T_d0d13f29_b849_11eb_adcb_5ebaef7ebc1brow1_col4\" class=\"data row1 col4\" >102,225.92</td>\n",
       "            </tr>\n",
       "            <tr>\n",
       "                        <th id=\"T_d0d13f29_b849_11eb_adcb_5ebaef7ebc1blevel0_row2\" class=\"row_heading level0 row2\" >2</th>\n",
       "                        <td id=\"T_d0d13f29_b849_11eb_adcb_5ebaef7ebc1brow2_col0\" class=\"data row2 col0\" >SUPEREIF</td>\n",
       "                        <td id=\"T_d0d13f29_b849_11eb_adcb_5ebaef7ebc1brow2_col1\" class=\"data row2 col1\" >2021-05-12</td>\n",
       "                        <td id=\"T_d0d13f29_b849_11eb_adcb_5ebaef7ebc1brow2_col2\" class=\"data row2 col2\" >10,000</td>\n",
       "                        <td id=\"T_d0d13f29_b849_11eb_adcb_5ebaef7ebc1brow2_col3\" class=\"data row2 col3\" >10.90</td>\n",
       "                        <td id=\"T_d0d13f29_b849_11eb_adcb_5ebaef7ebc1brow2_col4\" class=\"data row2 col4\" >109,241.42</td>\n",
       "            </tr>\n",
       "            <tr>\n",
       "                        <th id=\"T_d0d13f29_b849_11eb_adcb_5ebaef7ebc1blevel0_row3\" class=\"row_heading level0 row3\" >3</th>\n",
       "                        <td id=\"T_d0d13f29_b849_11eb_adcb_5ebaef7ebc1brow3_col0\" class=\"data row3 col0\" >TISCO</td>\n",
       "                        <td id=\"T_d0d13f29_b849_11eb_adcb_5ebaef7ebc1brow3_col1\" class=\"data row3 col1\" >2021-03-22</td>\n",
       "                        <td id=\"T_d0d13f29_b849_11eb_adcb_5ebaef7ebc1brow3_col2\" class=\"data row3 col2\" >1,000</td>\n",
       "                        <td id=\"T_d0d13f29_b849_11eb_adcb_5ebaef7ebc1brow3_col3\" class=\"data row3 col3\" >96.00</td>\n",
       "                        <td id=\"T_d0d13f29_b849_11eb_adcb_5ebaef7ebc1brow3_col4\" class=\"data row3 col4\" >96,212.63</td>\n",
       "            </tr>\n",
       "            <tr>\n",
       "                        <th id=\"T_d0d13f29_b849_11eb_adcb_5ebaef7ebc1blevel0_row4\" class=\"row_heading level0 row4\" >4</th>\n",
       "                        <td id=\"T_d0d13f29_b849_11eb_adcb_5ebaef7ebc1brow4_col0\" class=\"data row4 col0\" >TISCO</td>\n",
       "                        <td id=\"T_d0d13f29_b849_11eb_adcb_5ebaef7ebc1brow4_col1\" class=\"data row4 col1\" >2021-04-08</td>\n",
       "                        <td id=\"T_d0d13f29_b849_11eb_adcb_5ebaef7ebc1brow4_col2\" class=\"data row4 col2\" >1,000</td>\n",
       "                        <td id=\"T_d0d13f29_b849_11eb_adcb_5ebaef7ebc1brow4_col3\" class=\"data row4 col3\" >99.00</td>\n",
       "                        <td id=\"T_d0d13f29_b849_11eb_adcb_5ebaef7ebc1brow4_col4\" class=\"data row4 col4\" >99,219.28</td>\n",
       "            </tr>\n",
       "    </tbody></table>"
      ],
      "text/plain": [
       "<pandas.io.formats.style.Styler at 0x1f07da25a90>"
      ]
     },
     "execution_count": 4,
     "metadata": {},
     "output_type": "execute_result"
    }
   ],
   "source": [
    "sql = '''\n",
    "SELECT T.name, B.date AS buy_date, qty, B.price AS buy_price, B.net AS buy_amt\n",
    "FROM buys B\n",
    "JOIN stocks T ON B.stock_id = T.id \n",
    "WHERE kind = \"%s\"\n",
    "AND status = 'Active'\n",
    "ORDER BY T.name'''\n",
    "sql = sql % kind\n",
    "buys = pd.read_sql(sql, conpf)\n",
    "buys.style.format(format_dict)"
   ]
  },
  {
   "cell_type": "code",
   "execution_count": 5,
   "metadata": {},
   "outputs": [
    {
     "data": {
      "text/plain": [
       "512131.81"
      ]
     },
     "execution_count": 5,
     "metadata": {},
     "output_type": "execute_result"
    }
   ],
   "source": [
    "buy_amt = buys.buy_amt.sum()\n",
    "round(buy_amt,2)"
   ]
  },
  {
   "cell_type": "markdown",
   "metadata": {},
   "source": [
    "### Stocks that are sold before reaching dividend date"
   ]
  },
  {
   "cell_type": "code",
   "execution_count": 9,
   "metadata": {
    "scrolled": true
   },
   "outputs": [
    {
     "data": {
      "text/html": [
       "<style  type=\"text/css\" >\n",
       "</style><table id=\"T_57281033_b84a_11eb_b20f_5ebaef7ebc1b\" ><thead>    <tr>        <th class=\"blank level0\" ></th>        <th class=\"col_heading level0 col0\" >name</th>        <th class=\"col_heading level0 col1\" >qty</th>        <th class=\"col_heading level0 col2\" >sell_price</th>        <th class=\"col_heading level0 col3\" >buy_price</th>        <th class=\"col_heading level0 col4\" >diff</th>        <th class=\"col_heading level0 col5\" >sell_amt</th>        <th class=\"col_heading level0 col6\" >buy_amt</th>        <th class=\"col_heading level0 col7\" >profit</th>        <th class=\"col_heading level0 col8\" >sell_date</th>        <th class=\"col_heading level0 col9\" >buy_date</th>        <th class=\"col_heading level0 col10\" >days</th>        <th class=\"col_heading level0 col11\" >pct</th>        <th class=\"col_heading level0 col12\" >id</th>        <th class=\"col_heading level0 col13\" >kind</th>    </tr></thead><tbody>\n",
       "                <tr>\n",
       "                        <th id=\"T_57281033_b84a_11eb_b20f_5ebaef7ebc1blevel0_row0\" class=\"row_heading level0 row0\" >2</th>\n",
       "                        <td id=\"T_57281033_b84a_11eb_b20f_5ebaef7ebc1brow0_col0\" class=\"data row0 col0\" >UTP</td>\n",
       "                        <td id=\"T_57281033_b84a_11eb_b20f_5ebaef7ebc1brow0_col1\" class=\"data row0 col1\" >6,000</td>\n",
       "                        <td id=\"T_57281033_b84a_11eb_b20f_5ebaef7ebc1brow0_col2\" class=\"data row0 col2\" >18.00</td>\n",
       "                        <td id=\"T_57281033_b84a_11eb_b20f_5ebaef7ebc1brow0_col3\" class=\"data row0 col3\" >17.80</td>\n",
       "                        <td id=\"T_57281033_b84a_11eb_b20f_5ebaef7ebc1brow0_col4\" class=\"data row0 col4\" >0.20</td>\n",
       "                        <td id=\"T_57281033_b84a_11eb_b20f_5ebaef7ebc1brow0_col5\" class=\"data row0 col5\" >107,760.79</td>\n",
       "                        <td id=\"T_57281033_b84a_11eb_b20f_5ebaef7ebc1brow0_col6\" class=\"data row0 col6\" >107,036.56</td>\n",
       "                        <td id=\"T_57281033_b84a_11eb_b20f_5ebaef7ebc1brow0_col7\" class=\"data row0 col7\" >724.23</td>\n",
       "                        <td id=\"T_57281033_b84a_11eb_b20f_5ebaef7ebc1brow0_col8\" class=\"data row0 col8\" >2021-03-22</td>\n",
       "                        <td id=\"T_57281033_b84a_11eb_b20f_5ebaef7ebc1brow0_col9\" class=\"data row0 col9\" >2021-03-05</td>\n",
       "                        <td id=\"T_57281033_b84a_11eb_b20f_5ebaef7ebc1brow0_col10\" class=\"data row0 col10\" >17</td>\n",
       "                        <td id=\"T_57281033_b84a_11eb_b20f_5ebaef7ebc1brow0_col11\" class=\"data row0 col11\" >14.53</td>\n",
       "                        <td id=\"T_57281033_b84a_11eb_b20f_5ebaef7ebc1brow0_col12\" class=\"data row0 col12\" >673</td>\n",
       "                        <td id=\"T_57281033_b84a_11eb_b20f_5ebaef7ebc1brow0_col13\" class=\"data row0 col13\" >DOS</td>\n",
       "            </tr>\n",
       "            <tr>\n",
       "                        <th id=\"T_57281033_b84a_11eb_b20f_5ebaef7ebc1blevel0_row1\" class=\"row_heading level0 row1\" >1</th>\n",
       "                        <td id=\"T_57281033_b84a_11eb_b20f_5ebaef7ebc1brow1_col0\" class=\"data row1 col0\" >SF</td>\n",
       "                        <td id=\"T_57281033_b84a_11eb_b20f_5ebaef7ebc1brow1_col1\" class=\"data row1 col1\" >20,000</td>\n",
       "                        <td id=\"T_57281033_b84a_11eb_b20f_5ebaef7ebc1brow1_col2\" class=\"data row1 col2\" >5.45</td>\n",
       "                        <td id=\"T_57281033_b84a_11eb_b20f_5ebaef7ebc1brow1_col3\" class=\"data row1 col3\" >5.20</td>\n",
       "                        <td id=\"T_57281033_b84a_11eb_b20f_5ebaef7ebc1brow1_col4\" class=\"data row1 col4\" >0.25</td>\n",
       "                        <td id=\"T_57281033_b84a_11eb_b20f_5ebaef7ebc1brow1_col5\" class=\"data row1 col5\" >108,758.58</td>\n",
       "                        <td id=\"T_57281033_b84a_11eb_b20f_5ebaef7ebc1brow1_col6\" class=\"data row1 col6\" >104,230.35</td>\n",
       "                        <td id=\"T_57281033_b84a_11eb_b20f_5ebaef7ebc1brow1_col7\" class=\"data row1 col7\" >4,528.23</td>\n",
       "                        <td id=\"T_57281033_b84a_11eb_b20f_5ebaef7ebc1brow1_col8\" class=\"data row1 col8\" >2021-03-09</td>\n",
       "                        <td id=\"T_57281033_b84a_11eb_b20f_5ebaef7ebc1brow1_col9\" class=\"data row1 col9\" >2021-02-17</td>\n",
       "                        <td id=\"T_57281033_b84a_11eb_b20f_5ebaef7ebc1brow1_col10\" class=\"data row1 col10\" >20</td>\n",
       "                        <td id=\"T_57281033_b84a_11eb_b20f_5ebaef7ebc1brow1_col11\" class=\"data row1 col11\" >79.29</td>\n",
       "                        <td id=\"T_57281033_b84a_11eb_b20f_5ebaef7ebc1brow1_col12\" class=\"data row1 col12\" >659</td>\n",
       "                        <td id=\"T_57281033_b84a_11eb_b20f_5ebaef7ebc1brow1_col13\" class=\"data row1 col13\" >DOS</td>\n",
       "            </tr>\n",
       "            <tr>\n",
       "                        <th id=\"T_57281033_b84a_11eb_b20f_5ebaef7ebc1blevel0_row2\" class=\"row_heading level0 row2\" >0</th>\n",
       "                        <td id=\"T_57281033_b84a_11eb_b20f_5ebaef7ebc1brow2_col0\" class=\"data row2 col0\" >BGC</td>\n",
       "                        <td id=\"T_57281033_b84a_11eb_b20f_5ebaef7ebc1brow2_col1\" class=\"data row2 col1\" >10,000</td>\n",
       "                        <td id=\"T_57281033_b84a_11eb_b20f_5ebaef7ebc1brow2_col2\" class=\"data row2 col2\" >10.40</td>\n",
       "                        <td id=\"T_57281033_b84a_11eb_b20f_5ebaef7ebc1brow2_col3\" class=\"data row2 col3\" >10.20</td>\n",
       "                        <td id=\"T_57281033_b84a_11eb_b20f_5ebaef7ebc1brow2_col4\" class=\"data row2 col4\" >0.20</td>\n",
       "                        <td id=\"T_57281033_b84a_11eb_b20f_5ebaef7ebc1brow2_col5\" class=\"data row2 col5\" >103,769.65</td>\n",
       "                        <td id=\"T_57281033_b84a_11eb_b20f_5ebaef7ebc1brow2_col6\" class=\"data row2 col6\" >102,225.92</td>\n",
       "                        <td id=\"T_57281033_b84a_11eb_b20f_5ebaef7ebc1brow2_col7\" class=\"data row2 col7\" >1,543.73</td>\n",
       "                        <td id=\"T_57281033_b84a_11eb_b20f_5ebaef7ebc1brow2_col8\" class=\"data row2 col8\" >2021-03-08</td>\n",
       "                        <td id=\"T_57281033_b84a_11eb_b20f_5ebaef7ebc1brow2_col9\" class=\"data row2 col9\" >2021-02-19</td>\n",
       "                        <td id=\"T_57281033_b84a_11eb_b20f_5ebaef7ebc1brow2_col10\" class=\"data row2 col10\" >17</td>\n",
       "                        <td id=\"T_57281033_b84a_11eb_b20f_5ebaef7ebc1brow2_col11\" class=\"data row2 col11\" >32.42</td>\n",
       "                        <td id=\"T_57281033_b84a_11eb_b20f_5ebaef7ebc1brow2_col12\" class=\"data row2 col12\" >657</td>\n",
       "                        <td id=\"T_57281033_b84a_11eb_b20f_5ebaef7ebc1brow2_col13\" class=\"data row2 col13\" >DOS</td>\n",
       "            </tr>\n",
       "    </tbody></table>"
      ],
      "text/plain": [
       "<pandas.io.formats.style.Styler at 0x1f07ea19280>"
      ]
     },
     "execution_count": 9,
     "metadata": {},
     "output_type": "execute_result"
    }
   ],
   "source": [
    "sql = '''\n",
    "SELECT T.name, qty, S.price AS sell_price, B.price AS buy_price, S.price - B.price AS diff,\n",
    "S.net AS sell_amt, B.net AS buy_amt, S.net - B.net AS profit, \n",
    "S.date AS sell_date, B.date AS buy_date, DATEDIFF(S.date,B.date) AS days,\n",
    "ROUND((S.net-B.net)/B.net*36500/DATEDIFF(S.date,B.date),2) AS pct, S.id, B.kind\n",
    "FROM sells S\n",
    "JOIN buys B ON S.buy_id = B.id \n",
    "JOIN stocks T ON B.stock_id = T.id \n",
    "WHERE status = \"Sold\" AND kind = \"%s\"\n",
    "AND S.dividend_id = 0\n",
    "ORDER BY T.name'''\n",
    "sql = sql % kind\n",
    "\n",
    "sells_b_div = pd.read_sql(sql, conpf)\n",
    "sells_b_div.sort_values(['sell_date'],ascending=[False]).style.format(format_dict)"
   ]
  },
  {
   "cell_type": "code",
   "execution_count": 7,
   "metadata": {},
   "outputs": [
    {
     "data": {
      "text/plain": [
       "(6796.19, 313492.83, 43.96)"
      ]
     },
     "execution_count": 7,
     "metadata": {},
     "output_type": "execute_result"
    }
   ],
   "source": [
    "profit = round(sells_b_div.profit.sum(),2)\n",
    "cost = round(sells_b_div.buy_amt.sum(),2)\n",
    "avg_day = sells_b_div.days.mean()\n",
    "pct = round(profit/cost*36500/avg_day,2)\n",
    "profit,cost,pct"
   ]
  },
  {
   "cell_type": "markdown",
   "metadata": {},
   "source": [
    "### Bind sell to dividend record process"
   ]
  },
  {
   "cell_type": "code",
   "execution_count": 9,
   "metadata": {},
   "outputs": [
    {
     "data": {
      "text/plain": [
       "\"'BGC', 'PDG', 'SF', 'TIP', 'UTP'\""
      ]
     },
     "execution_count": 9,
     "metadata": {},
     "output_type": "execute_result"
    }
   ],
   "source": [
    "sr = sells_b_div[\"name\"]\n",
    "names = sr.values.tolist()\n",
    "in_p = \", \".join(map(lambda name: \"'%s'\" % name, names))\n",
    "in_p"
   ]
  },
  {
   "cell_type": "code",
   "execution_count": 10,
   "metadata": {},
   "outputs": [
    {
     "data": {
      "text/html": [
       "<style  type=\"text/css\" >\n",
       "</style><table id=\"T_2dd9d9bb_b626_11eb_8699_80e82cf97254\" ><thead>    <tr>        <th class=\"blank level0\" ></th>        <th class=\"col_heading level0 col0\" >id</th>        <th class=\"col_heading level0 col1\" >name</th>        <th class=\"col_heading level0 col2\" >year</th>        <th class=\"col_heading level0 col3\" >quarter</th>        <th class=\"col_heading level0 col4\" >number</th>        <th class=\"col_heading level0 col5\" >ppu</th>        <th class=\"col_heading level0 col6\" >div_amt</th>        <th class=\"col_heading level0 col7\" >p_date</th>    </tr></thead><tbody>\n",
       "                <tr>\n",
       "                        <th id=\"T_2dd9d9bb_b626_11eb_8699_80e82cf97254level0_row0\" class=\"row_heading level0 row0\" >0</th>\n",
       "                        <td id=\"T_2dd9d9bb_b626_11eb_8699_80e82cf97254row0_col0\" class=\"data row0 col0\" >219</td>\n",
       "                        <td id=\"T_2dd9d9bb_b626_11eb_8699_80e82cf97254row0_col1\" class=\"data row0 col1\" >BGC</td>\n",
       "                        <td id=\"T_2dd9d9bb_b626_11eb_8699_80e82cf97254row0_col2\" class=\"data row0 col2\" >2020</td>\n",
       "                        <td id=\"T_2dd9d9bb_b626_11eb_8699_80e82cf97254row0_col3\" class=\"data row0 col3\" >4</td>\n",
       "                        <td id=\"T_2dd9d9bb_b626_11eb_8699_80e82cf97254row0_col4\" class=\"data row0 col4\" >10,000</td>\n",
       "                        <td id=\"T_2dd9d9bb_b626_11eb_8699_80e82cf97254row0_col5\" class=\"data row0 col5\" >0.1200</td>\n",
       "                        <td id=\"T_2dd9d9bb_b626_11eb_8699_80e82cf97254row0_col6\" class=\"data row0 col6\" >1,200.00</td>\n",
       "                        <td id=\"T_2dd9d9bb_b626_11eb_8699_80e82cf97254row0_col7\" class=\"data row0 col7\" >2021-05-07</td>\n",
       "            </tr>\n",
       "            <tr>\n",
       "                        <th id=\"T_2dd9d9bb_b626_11eb_8699_80e82cf97254level0_row1\" class=\"row_heading level0 row1\" >1</th>\n",
       "                        <td id=\"T_2dd9d9bb_b626_11eb_8699_80e82cf97254row1_col0\" class=\"data row1 col0\" >224</td>\n",
       "                        <td id=\"T_2dd9d9bb_b626_11eb_8699_80e82cf97254row1_col1\" class=\"data row1 col1\" >PDG</td>\n",
       "                        <td id=\"T_2dd9d9bb_b626_11eb_8699_80e82cf97254row1_col2\" class=\"data row1 col2\" >2020</td>\n",
       "                        <td id=\"T_2dd9d9bb_b626_11eb_8699_80e82cf97254row1_col3\" class=\"data row1 col3\" >4</td>\n",
       "                        <td id=\"T_2dd9d9bb_b626_11eb_8699_80e82cf97254row1_col4\" class=\"data row1 col4\" >25,000</td>\n",
       "                        <td id=\"T_2dd9d9bb_b626_11eb_8699_80e82cf97254row1_col5\" class=\"data row1 col5\" >0.2200</td>\n",
       "                        <td id=\"T_2dd9d9bb_b626_11eb_8699_80e82cf97254row1_col6\" class=\"data row1 col6\" >4,950.00</td>\n",
       "                        <td id=\"T_2dd9d9bb_b626_11eb_8699_80e82cf97254row1_col7\" class=\"data row1 col7\" >2021-05-20</td>\n",
       "            </tr>\n",
       "            <tr>\n",
       "                        <th id=\"T_2dd9d9bb_b626_11eb_8699_80e82cf97254level0_row2\" class=\"row_heading level0 row2\" >2</th>\n",
       "                        <td id=\"T_2dd9d9bb_b626_11eb_8699_80e82cf97254row2_col0\" class=\"data row2 col0\" >226</td>\n",
       "                        <td id=\"T_2dd9d9bb_b626_11eb_8699_80e82cf97254row2_col1\" class=\"data row2 col1\" >TIP</td>\n",
       "                        <td id=\"T_2dd9d9bb_b626_11eb_8699_80e82cf97254row2_col2\" class=\"data row2 col2\" >2020</td>\n",
       "                        <td id=\"T_2dd9d9bb_b626_11eb_8699_80e82cf97254row2_col3\" class=\"data row2 col3\" >4</td>\n",
       "                        <td id=\"T_2dd9d9bb_b626_11eb_8699_80e82cf97254row2_col4\" class=\"data row2 col4\" >3,000</td>\n",
       "                        <td id=\"T_2dd9d9bb_b626_11eb_8699_80e82cf97254row2_col5\" class=\"data row2 col5\" >1.3000</td>\n",
       "                        <td id=\"T_2dd9d9bb_b626_11eb_8699_80e82cf97254row2_col6\" class=\"data row2 col6\" >3,510.00</td>\n",
       "                        <td id=\"T_2dd9d9bb_b626_11eb_8699_80e82cf97254row2_col7\" class=\"data row2 col7\" >2021-05-19</td>\n",
       "            </tr>\n",
       "    </tbody></table>"
      ],
      "text/plain": [
       "<pandas.io.formats.style.Styler at 0x227cb532280>"
      ]
     },
     "execution_count": 10,
     "metadata": {},
     "output_type": "execute_result"
    }
   ],
   "source": [
    "sql = \"\"\"\n",
    "SELECT id, name, year, quarter, number, ppu, net AS div_amt, p_date\n",
    "FROM dividends\n",
    "WHERE name IN (%s)\n",
    "ORDER BY name\n",
    "\"\"\"\n",
    "#AND year = %s AND quarter = %s\n",
    "\n",
    "sql = sql % (in_p)\n",
    "#sql = sql % (in_p, year, quarter)\n",
    "dividends = pd.read_sql(sql, conpf)\n",
    "#dividends.set_index(['name'],inplace=True)\n",
    "dividends.style.format(format_dict)"
   ]
  },
  {
   "cell_type": "code",
   "execution_count": 11,
   "metadata": {},
   "outputs": [
    {
     "data": {
      "text/html": [
       "<style  type=\"text/css\" >\n",
       "</style><table id=\"T_3633a453_b626_11eb_bc87_80e82cf97254\" ><thead>    <tr>        <th class=\"blank level0\" ></th>        <th class=\"col_heading level0 col0\" >name</th>        <th class=\"col_heading level0 col1\" >qty</th>        <th class=\"col_heading level0 col2\" >sell_price</th>        <th class=\"col_heading level0 col3\" >buy_price</th>        <th class=\"col_heading level0 col4\" >diff</th>        <th class=\"col_heading level0 col5\" >sell_amt</th>        <th class=\"col_heading level0 col6\" >buy_amt</th>        <th class=\"col_heading level0 col7\" >profit</th>        <th class=\"col_heading level0 col8\" >sell_date</th>        <th class=\"col_heading level0 col9\" >buy_date</th>        <th class=\"col_heading level0 col10\" >days</th>        <th class=\"col_heading level0 col11\" >pct</th>        <th class=\"col_heading level0 col12\" >id_x</th>        <th class=\"col_heading level0 col13\" >id_y</th>        <th class=\"col_heading level0 col14\" >year</th>        <th class=\"col_heading level0 col15\" >quarter</th>        <th class=\"col_heading level0 col16\" >number</th>        <th class=\"col_heading level0 col17\" >ppu</th>        <th class=\"col_heading level0 col18\" >div_amt</th>        <th class=\"col_heading level0 col19\" >p_date</th>    </tr></thead><tbody>\n",
       "                <tr>\n",
       "                        <th id=\"T_3633a453_b626_11eb_bc87_80e82cf97254level0_row0\" class=\"row_heading level0 row0\" >0</th>\n",
       "                        <td id=\"T_3633a453_b626_11eb_bc87_80e82cf97254row0_col0\" class=\"data row0 col0\" >BGC</td>\n",
       "                        <td id=\"T_3633a453_b626_11eb_bc87_80e82cf97254row0_col1\" class=\"data row0 col1\" >10,000</td>\n",
       "                        <td id=\"T_3633a453_b626_11eb_bc87_80e82cf97254row0_col2\" class=\"data row0 col2\" >10.40</td>\n",
       "                        <td id=\"T_3633a453_b626_11eb_bc87_80e82cf97254row0_col3\" class=\"data row0 col3\" >10.20</td>\n",
       "                        <td id=\"T_3633a453_b626_11eb_bc87_80e82cf97254row0_col4\" class=\"data row0 col4\" >0.20</td>\n",
       "                        <td id=\"T_3633a453_b626_11eb_bc87_80e82cf97254row0_col5\" class=\"data row0 col5\" >103,769.65</td>\n",
       "                        <td id=\"T_3633a453_b626_11eb_bc87_80e82cf97254row0_col6\" class=\"data row0 col6\" >102,225.92</td>\n",
       "                        <td id=\"T_3633a453_b626_11eb_bc87_80e82cf97254row0_col7\" class=\"data row0 col7\" >1,543.73</td>\n",
       "                        <td id=\"T_3633a453_b626_11eb_bc87_80e82cf97254row0_col8\" class=\"data row0 col8\" >2021-03-08</td>\n",
       "                        <td id=\"T_3633a453_b626_11eb_bc87_80e82cf97254row0_col9\" class=\"data row0 col9\" >2021-02-19</td>\n",
       "                        <td id=\"T_3633a453_b626_11eb_bc87_80e82cf97254row0_col10\" class=\"data row0 col10\" >77</td>\n",
       "                        <td id=\"T_3633a453_b626_11eb_bc87_80e82cf97254row0_col11\" class=\"data row0 col11\" >5.56</td>\n",
       "                        <td id=\"T_3633a453_b626_11eb_bc87_80e82cf97254row0_col12\" class=\"data row0 col12\" >657</td>\n",
       "                        <td id=\"T_3633a453_b626_11eb_bc87_80e82cf97254row0_col13\" class=\"data row0 col13\" >219</td>\n",
       "                        <td id=\"T_3633a453_b626_11eb_bc87_80e82cf97254row0_col14\" class=\"data row0 col14\" >2020</td>\n",
       "                        <td id=\"T_3633a453_b626_11eb_bc87_80e82cf97254row0_col15\" class=\"data row0 col15\" >4</td>\n",
       "                        <td id=\"T_3633a453_b626_11eb_bc87_80e82cf97254row0_col16\" class=\"data row0 col16\" >10,000</td>\n",
       "                        <td id=\"T_3633a453_b626_11eb_bc87_80e82cf97254row0_col17\" class=\"data row0 col17\" >0.1200</td>\n",
       "                        <td id=\"T_3633a453_b626_11eb_bc87_80e82cf97254row0_col18\" class=\"data row0 col18\" >1,200.00</td>\n",
       "                        <td id=\"T_3633a453_b626_11eb_bc87_80e82cf97254row0_col19\" class=\"data row0 col19\" >2021-05-07</td>\n",
       "            </tr>\n",
       "            <tr>\n",
       "                        <th id=\"T_3633a453_b626_11eb_bc87_80e82cf97254level0_row1\" class=\"row_heading level0 row1\" >1</th>\n",
       "                        <td id=\"T_3633a453_b626_11eb_bc87_80e82cf97254row1_col0\" class=\"data row1 col0\" >PDG</td>\n",
       "                        <td id=\"T_3633a453_b626_11eb_bc87_80e82cf97254row1_col1\" class=\"data row1 col1\" >25,000</td>\n",
       "                        <td id=\"T_3633a453_b626_11eb_bc87_80e82cf97254row1_col2\" class=\"data row1 col2\" >3.90</td>\n",
       "                        <td id=\"T_3633a453_b626_11eb_bc87_80e82cf97254row1_col3\" class=\"data row1 col3\" >3.90</td>\n",
       "                        <td id=\"T_3633a453_b626_11eb_bc87_80e82cf97254row1_col4\" class=\"data row1 col4\" >0.00</td>\n",
       "                        <td id=\"T_3633a453_b626_11eb_bc87_80e82cf97254row1_col5\" class=\"data row1 col5\" >97,284.04</td>\n",
       "                        <td id=\"T_3633a453_b626_11eb_bc87_80e82cf97254row1_col6\" class=\"data row1 col6\" >97,715.96</td>\n",
       "                        <td id=\"T_3633a453_b626_11eb_bc87_80e82cf97254row1_col7\" class=\"data row1 col7\" >-431.92</td>\n",
       "                        <td id=\"T_3633a453_b626_11eb_bc87_80e82cf97254row1_col8\" class=\"data row1 col8\" >2021-05-12</td>\n",
       "                        <td id=\"T_3633a453_b626_11eb_bc87_80e82cf97254row1_col9\" class=\"data row1 col9\" >2021-03-12</td>\n",
       "                        <td id=\"T_3633a453_b626_11eb_bc87_80e82cf97254row1_col10\" class=\"data row1 col10\" >69</td>\n",
       "                        <td id=\"T_3633a453_b626_11eb_bc87_80e82cf97254row1_col11\" class=\"data row1 col11\" >26.80</td>\n",
       "                        <td id=\"T_3633a453_b626_11eb_bc87_80e82cf97254row1_col12\" class=\"data row1 col12\" >709</td>\n",
       "                        <td id=\"T_3633a453_b626_11eb_bc87_80e82cf97254row1_col13\" class=\"data row1 col13\" >224</td>\n",
       "                        <td id=\"T_3633a453_b626_11eb_bc87_80e82cf97254row1_col14\" class=\"data row1 col14\" >2020</td>\n",
       "                        <td id=\"T_3633a453_b626_11eb_bc87_80e82cf97254row1_col15\" class=\"data row1 col15\" >4</td>\n",
       "                        <td id=\"T_3633a453_b626_11eb_bc87_80e82cf97254row1_col16\" class=\"data row1 col16\" >25,000</td>\n",
       "                        <td id=\"T_3633a453_b626_11eb_bc87_80e82cf97254row1_col17\" class=\"data row1 col17\" >0.2200</td>\n",
       "                        <td id=\"T_3633a453_b626_11eb_bc87_80e82cf97254row1_col18\" class=\"data row1 col18\" >4,950.00</td>\n",
       "                        <td id=\"T_3633a453_b626_11eb_bc87_80e82cf97254row1_col19\" class=\"data row1 col19\" >2021-05-20</td>\n",
       "            </tr>\n",
       "            <tr>\n",
       "                        <th id=\"T_3633a453_b626_11eb_bc87_80e82cf97254level0_row2\" class=\"row_heading level0 row2\" >2</th>\n",
       "                        <td id=\"T_3633a453_b626_11eb_bc87_80e82cf97254row2_col0\" class=\"data row2 col0\" >TIP</td>\n",
       "                        <td id=\"T_3633a453_b626_11eb_bc87_80e82cf97254row2_col1\" class=\"data row2 col1\" >3,000</td>\n",
       "                        <td id=\"T_3633a453_b626_11eb_bc87_80e82cf97254row2_col2\" class=\"data row2 col2\" >30.25</td>\n",
       "                        <td id=\"T_3633a453_b626_11eb_bc87_80e82cf97254row2_col3\" class=\"data row2 col3\" >30.00</td>\n",
       "                        <td id=\"T_3633a453_b626_11eb_bc87_80e82cf97254row2_col4\" class=\"data row2 col4\" >0.25</td>\n",
       "                        <td id=\"T_3633a453_b626_11eb_bc87_80e82cf97254row2_col5\" class=\"data row2 col5\" >90,549.00</td>\n",
       "                        <td id=\"T_3633a453_b626_11eb_bc87_80e82cf97254row2_col6\" class=\"data row2 col6\" >90,199.34</td>\n",
       "                        <td id=\"T_3633a453_b626_11eb_bc87_80e82cf97254row2_col7\" class=\"data row2 col7\" >349.66</td>\n",
       "                        <td id=\"T_3633a453_b626_11eb_bc87_80e82cf97254row2_col8\" class=\"data row2 col8\" >2021-05-06</td>\n",
       "                        <td id=\"T_3633a453_b626_11eb_bc87_80e82cf97254row2_col9\" class=\"data row2 col9\" >2021-03-10</td>\n",
       "                        <td id=\"T_3633a453_b626_11eb_bc87_80e82cf97254row2_col10\" class=\"data row2 col10\" >70</td>\n",
       "                        <td id=\"T_3633a453_b626_11eb_bc87_80e82cf97254row2_col11\" class=\"data row2 col11\" >20.29</td>\n",
       "                        <td id=\"T_3633a453_b626_11eb_bc87_80e82cf97254row2_col12\" class=\"data row2 col12\" >697</td>\n",
       "                        <td id=\"T_3633a453_b626_11eb_bc87_80e82cf97254row2_col13\" class=\"data row2 col13\" >226</td>\n",
       "                        <td id=\"T_3633a453_b626_11eb_bc87_80e82cf97254row2_col14\" class=\"data row2 col14\" >2020</td>\n",
       "                        <td id=\"T_3633a453_b626_11eb_bc87_80e82cf97254row2_col15\" class=\"data row2 col15\" >4</td>\n",
       "                        <td id=\"T_3633a453_b626_11eb_bc87_80e82cf97254row2_col16\" class=\"data row2 col16\" >3,000</td>\n",
       "                        <td id=\"T_3633a453_b626_11eb_bc87_80e82cf97254row2_col17\" class=\"data row2 col17\" >1.3000</td>\n",
       "                        <td id=\"T_3633a453_b626_11eb_bc87_80e82cf97254row2_col18\" class=\"data row2 col18\" >3,510.00</td>\n",
       "                        <td id=\"T_3633a453_b626_11eb_bc87_80e82cf97254row2_col19\" class=\"data row2 col19\" >2021-05-19</td>\n",
       "            </tr>\n",
       "    </tbody></table>"
      ],
      "text/plain": [
       "<pandas.io.formats.style.Styler at 0x227ca506250>"
      ]
     },
     "execution_count": 11,
     "metadata": {},
     "output_type": "execute_result"
    }
   ],
   "source": [
    "df_merge = pd.merge(sells_b_div, dividends, on='name', how='inner')\n",
    "df_merge['days'] = df_merge.p_date - df_merge.buy_date\n",
    "df_merge['days'] = df_merge['days']/np.timedelta64(1,'D')\n",
    "df_merge['days'] = df_merge['days'].astype(int)\n",
    "df_merge['pct']  = round(df_merge.div_amt / df_merge.buy_amt * 36500 / df_merge.days,2)\n",
    "df_merge.style.format(format_dict)"
   ]
  },
  {
   "cell_type": "markdown",
   "metadata": {},
   "source": [
    "### dividend_id = id_y, id = id_x "
   ]
  },
  {
   "cell_type": "code",
   "execution_count": 13,
   "metadata": {},
   "outputs": [
    {
     "data": {
      "text/plain": [
       "1"
      ]
     },
     "execution_count": 13,
     "metadata": {},
     "output_type": "execute_result"
    }
   ],
   "source": [
    "sql = '''\n",
    "UPDATE sells\n",
    "SET dividend_id = 226\n",
    "WHERE id = 697'''\n",
    "rp = conpf.execute(sql)\n",
    "rp.rowcount"
   ]
  },
  {
   "cell_type": "markdown",
   "metadata": {},
   "source": [
    "### End of Bind sell to dividend record process"
   ]
  },
  {
   "cell_type": "code",
   "execution_count": 14,
   "metadata": {},
   "outputs": [
    {
     "data": {
      "text/html": [
       "<style  type=\"text/css\" >\n",
       "</style><table id=\"T_d86f9583_b626_11eb_a1cc_80e82cf97254\" ><thead>    <tr>        <th class=\"blank level0\" ></th>        <th class=\"col_heading level0 col0\" >name</th>        <th class=\"col_heading level0 col1\" >buy_date</th>        <th class=\"col_heading level0 col2\" >p_date</th>        <th class=\"col_heading level0 col3\" >qty</th>        <th class=\"col_heading level0 col4\" >buy_amt</th>        <th class=\"col_heading level0 col5\" >div_amt</th>        <th class=\"col_heading level0 col6\" >days</th>        <th class=\"col_heading level0 col7\" >pct</th>    </tr></thead><tbody>\n",
       "                <tr>\n",
       "                        <th id=\"T_d86f9583_b626_11eb_a1cc_80e82cf97254level0_row0\" class=\"row_heading level0 row0\" >0</th>\n",
       "                        <td id=\"T_d86f9583_b626_11eb_a1cc_80e82cf97254row0_col0\" class=\"data row0 col0\" >BGC</td>\n",
       "                        <td id=\"T_d86f9583_b626_11eb_a1cc_80e82cf97254row0_col1\" class=\"data row0 col1\" >2021-02-19</td>\n",
       "                        <td id=\"T_d86f9583_b626_11eb_a1cc_80e82cf97254row0_col2\" class=\"data row0 col2\" >2021-05-07</td>\n",
       "                        <td id=\"T_d86f9583_b626_11eb_a1cc_80e82cf97254row0_col3\" class=\"data row0 col3\" >10,000</td>\n",
       "                        <td id=\"T_d86f9583_b626_11eb_a1cc_80e82cf97254row0_col4\" class=\"data row0 col4\" >102,225.92</td>\n",
       "                        <td id=\"T_d86f9583_b626_11eb_a1cc_80e82cf97254row0_col5\" class=\"data row0 col5\" >1,200.00</td>\n",
       "                        <td id=\"T_d86f9583_b626_11eb_a1cc_80e82cf97254row0_col6\" class=\"data row0 col6\" >77</td>\n",
       "                        <td id=\"T_d86f9583_b626_11eb_a1cc_80e82cf97254row0_col7\" class=\"data row0 col7\" >5.56</td>\n",
       "            </tr>\n",
       "            <tr>\n",
       "                        <th id=\"T_d86f9583_b626_11eb_a1cc_80e82cf97254level0_row1\" class=\"row_heading level0 row1\" >1</th>\n",
       "                        <td id=\"T_d86f9583_b626_11eb_a1cc_80e82cf97254row1_col0\" class=\"data row1 col0\" >PDG</td>\n",
       "                        <td id=\"T_d86f9583_b626_11eb_a1cc_80e82cf97254row1_col1\" class=\"data row1 col1\" >2021-03-12</td>\n",
       "                        <td id=\"T_d86f9583_b626_11eb_a1cc_80e82cf97254row1_col2\" class=\"data row1 col2\" >2021-05-20</td>\n",
       "                        <td id=\"T_d86f9583_b626_11eb_a1cc_80e82cf97254row1_col3\" class=\"data row1 col3\" >25,000</td>\n",
       "                        <td id=\"T_d86f9583_b626_11eb_a1cc_80e82cf97254row1_col4\" class=\"data row1 col4\" >97,715.96</td>\n",
       "                        <td id=\"T_d86f9583_b626_11eb_a1cc_80e82cf97254row1_col5\" class=\"data row1 col5\" >4,950.00</td>\n",
       "                        <td id=\"T_d86f9583_b626_11eb_a1cc_80e82cf97254row1_col6\" class=\"data row1 col6\" >69</td>\n",
       "                        <td id=\"T_d86f9583_b626_11eb_a1cc_80e82cf97254row1_col7\" class=\"data row1 col7\" >26.80</td>\n",
       "            </tr>\n",
       "            <tr>\n",
       "                        <th id=\"T_d86f9583_b626_11eb_a1cc_80e82cf97254level0_row2\" class=\"row_heading level0 row2\" >2</th>\n",
       "                        <td id=\"T_d86f9583_b626_11eb_a1cc_80e82cf97254row2_col0\" class=\"data row2 col0\" >TIP</td>\n",
       "                        <td id=\"T_d86f9583_b626_11eb_a1cc_80e82cf97254row2_col1\" class=\"data row2 col1\" >2021-03-10</td>\n",
       "                        <td id=\"T_d86f9583_b626_11eb_a1cc_80e82cf97254row2_col2\" class=\"data row2 col2\" >2021-05-19</td>\n",
       "                        <td id=\"T_d86f9583_b626_11eb_a1cc_80e82cf97254row2_col3\" class=\"data row2 col3\" >3,000</td>\n",
       "                        <td id=\"T_d86f9583_b626_11eb_a1cc_80e82cf97254row2_col4\" class=\"data row2 col4\" >90,199.34</td>\n",
       "                        <td id=\"T_d86f9583_b626_11eb_a1cc_80e82cf97254row2_col5\" class=\"data row2 col5\" >3,510.00</td>\n",
       "                        <td id=\"T_d86f9583_b626_11eb_a1cc_80e82cf97254row2_col6\" class=\"data row2 col6\" >70</td>\n",
       "                        <td id=\"T_d86f9583_b626_11eb_a1cc_80e82cf97254row2_col7\" class=\"data row2 col7\" >20.29</td>\n",
       "            </tr>\n",
       "    </tbody></table>"
      ],
      "text/plain": [
       "<pandas.io.formats.style.Styler at 0x227c7daaee0>"
      ]
     },
     "execution_count": 14,
     "metadata": {},
     "output_type": "execute_result"
    }
   ],
   "source": [
    "cols = 'name buy_date p_date qty buy_amt div_amt days pct'.split()\n",
    "df_merge[cols].style.format(format_dict)"
   ]
  },
  {
   "cell_type": "markdown",
   "metadata": {},
   "source": [
    "### Percent calculation of sells after dividend payment date"
   ]
  },
  {
   "cell_type": "code",
   "execution_count": 15,
   "metadata": {},
   "outputs": [
    {
     "data": {
      "text/html": [
       "<style  type=\"text/css\" >\n",
       "</style><table id=\"T_e308934e_b626_11eb_8627_80e82cf97254\" ><thead>    <tr>        <th class=\"blank level0\" ></th>        <th class=\"col_heading level0 col0\" >name</th>        <th class=\"col_heading level0 col1\" >number</th>        <th class=\"col_heading level0 col2\" >ppu</th>        <th class=\"col_heading level0 col3\" >div_amt</th>        <th class=\"col_heading level0 col4\" >profit</th>        <th class=\"col_heading level0 col5\" >ttl_amt</th>        <th class=\"col_heading level0 col6\" >buy_amt</th>        <th class=\"col_heading level0 col7\" >p_date</th>        <th class=\"col_heading level0 col8\" >sell_date</th>        <th class=\"col_heading level0 col9\" >buy_date</th>        <th class=\"col_heading level0 col10\" >days</th>        <th class=\"col_heading level0 col11\" >pct</th>        <th class=\"col_heading level0 col12\" >year</th>        <th class=\"col_heading level0 col13\" >quarter</th>    </tr></thead><tbody>\n",
       "                <tr>\n",
       "                        <th id=\"T_e308934e_b626_11eb_8627_80e82cf97254level0_row0\" class=\"row_heading level0 row0\" >5</th>\n",
       "                        <td id=\"T_e308934e_b626_11eb_8627_80e82cf97254row0_col0\" class=\"data row0 col0\" >PDG</td>\n",
       "                        <td id=\"T_e308934e_b626_11eb_8627_80e82cf97254row0_col1\" class=\"data row0 col1\" >25,000</td>\n",
       "                        <td id=\"T_e308934e_b626_11eb_8627_80e82cf97254row0_col2\" class=\"data row0 col2\" >0.2200</td>\n",
       "                        <td id=\"T_e308934e_b626_11eb_8627_80e82cf97254row0_col3\" class=\"data row0 col3\" >4,950.00</td>\n",
       "                        <td id=\"T_e308934e_b626_11eb_8627_80e82cf97254row0_col4\" class=\"data row0 col4\" >-431.92</td>\n",
       "                        <td id=\"T_e308934e_b626_11eb_8627_80e82cf97254row0_col5\" class=\"data row0 col5\" >4,518.08</td>\n",
       "                        <td id=\"T_e308934e_b626_11eb_8627_80e82cf97254row0_col6\" class=\"data row0 col6\" >97,715.96</td>\n",
       "                        <td id=\"T_e308934e_b626_11eb_8627_80e82cf97254row0_col7\" class=\"data row0 col7\" >2021-05-20</td>\n",
       "                        <td id=\"T_e308934e_b626_11eb_8627_80e82cf97254row0_col8\" class=\"data row0 col8\" >2021-05-12</td>\n",
       "                        <td id=\"T_e308934e_b626_11eb_8627_80e82cf97254row0_col9\" class=\"data row0 col9\" >2021-03-12</td>\n",
       "                        <td id=\"T_e308934e_b626_11eb_8627_80e82cf97254row0_col10\" class=\"data row0 col10\" >69</td>\n",
       "                        <td id=\"T_e308934e_b626_11eb_8627_80e82cf97254row0_col11\" class=\"data row0 col11\" >24.46</td>\n",
       "                        <td id=\"T_e308934e_b626_11eb_8627_80e82cf97254row0_col12\" class=\"data row0 col12\" >2020</td>\n",
       "                        <td id=\"T_e308934e_b626_11eb_8627_80e82cf97254row0_col13\" class=\"data row0 col13\" >4</td>\n",
       "            </tr>\n",
       "            <tr>\n",
       "                        <th id=\"T_e308934e_b626_11eb_8627_80e82cf97254level0_row1\" class=\"row_heading level0 row1\" >6</th>\n",
       "                        <td id=\"T_e308934e_b626_11eb_8627_80e82cf97254row1_col0\" class=\"data row1 col0\" >TIP</td>\n",
       "                        <td id=\"T_e308934e_b626_11eb_8627_80e82cf97254row1_col1\" class=\"data row1 col1\" >3,000</td>\n",
       "                        <td id=\"T_e308934e_b626_11eb_8627_80e82cf97254row1_col2\" class=\"data row1 col2\" >1.3000</td>\n",
       "                        <td id=\"T_e308934e_b626_11eb_8627_80e82cf97254row1_col3\" class=\"data row1 col3\" >3,510.00</td>\n",
       "                        <td id=\"T_e308934e_b626_11eb_8627_80e82cf97254row1_col4\" class=\"data row1 col4\" >349.66</td>\n",
       "                        <td id=\"T_e308934e_b626_11eb_8627_80e82cf97254row1_col5\" class=\"data row1 col5\" >3,859.66</td>\n",
       "                        <td id=\"T_e308934e_b626_11eb_8627_80e82cf97254row1_col6\" class=\"data row1 col6\" >90,199.34</td>\n",
       "                        <td id=\"T_e308934e_b626_11eb_8627_80e82cf97254row1_col7\" class=\"data row1 col7\" >2021-05-19</td>\n",
       "                        <td id=\"T_e308934e_b626_11eb_8627_80e82cf97254row1_col8\" class=\"data row1 col8\" >2021-05-06</td>\n",
       "                        <td id=\"T_e308934e_b626_11eb_8627_80e82cf97254row1_col9\" class=\"data row1 col9\" >2021-03-10</td>\n",
       "                        <td id=\"T_e308934e_b626_11eb_8627_80e82cf97254row1_col10\" class=\"data row1 col10\" >70</td>\n",
       "                        <td id=\"T_e308934e_b626_11eb_8627_80e82cf97254row1_col11\" class=\"data row1 col11\" >22.31</td>\n",
       "                        <td id=\"T_e308934e_b626_11eb_8627_80e82cf97254row1_col12\" class=\"data row1 col12\" >2020</td>\n",
       "                        <td id=\"T_e308934e_b626_11eb_8627_80e82cf97254row1_col13\" class=\"data row1 col13\" >4</td>\n",
       "            </tr>\n",
       "            <tr>\n",
       "                        <th id=\"T_e308934e_b626_11eb_8627_80e82cf97254level0_row2\" class=\"row_heading level0 row2\" >3</th>\n",
       "                        <td id=\"T_e308934e_b626_11eb_8627_80e82cf97254row2_col0\" class=\"data row2 col0\" >MBAX</td>\n",
       "                        <td id=\"T_e308934e_b626_11eb_8627_80e82cf97254row2_col1\" class=\"data row2 col1\" >12,000</td>\n",
       "                        <td id=\"T_e308934e_b626_11eb_8627_80e82cf97254row2_col2\" class=\"data row2 col2\" >0.5600</td>\n",
       "                        <td id=\"T_e308934e_b626_11eb_8627_80e82cf97254row2_col3\" class=\"data row2 col3\" >6,048.00</td>\n",
       "                        <td id=\"T_e308934e_b626_11eb_8627_80e82cf97254row2_col4\" class=\"data row2 col4\" >-22,633.46</td>\n",
       "                        <td id=\"T_e308934e_b626_11eb_8627_80e82cf97254row2_col5\" class=\"data row2 col5\" >-16,585.46</td>\n",
       "                        <td id=\"T_e308934e_b626_11eb_8627_80e82cf97254row2_col6\" class=\"data row2 col6\" >154,341.09</td>\n",
       "                        <td id=\"T_e308934e_b626_11eb_8627_80e82cf97254row2_col7\" class=\"data row2 col7\" >2021-05-07</td>\n",
       "                        <td id=\"T_e308934e_b626_11eb_8627_80e82cf97254row2_col8\" class=\"data row2 col8\" >2021-05-12</td>\n",
       "                        <td id=\"T_e308934e_b626_11eb_8627_80e82cf97254row2_col9\" class=\"data row2 col9\" >2021-04-12</td>\n",
       "                        <td id=\"T_e308934e_b626_11eb_8627_80e82cf97254row2_col10\" class=\"data row2 col10\" >30</td>\n",
       "                        <td id=\"T_e308934e_b626_11eb_8627_80e82cf97254row2_col11\" class=\"data row2 col11\" >-130.74</td>\n",
       "                        <td id=\"T_e308934e_b626_11eb_8627_80e82cf97254row2_col12\" class=\"data row2 col12\" >2020</td>\n",
       "                        <td id=\"T_e308934e_b626_11eb_8627_80e82cf97254row2_col13\" class=\"data row2 col13\" >4</td>\n",
       "            </tr>\n",
       "            <tr>\n",
       "                        <th id=\"T_e308934e_b626_11eb_8627_80e82cf97254level0_row3\" class=\"row_heading level0 row3\" >0</th>\n",
       "                        <td id=\"T_e308934e_b626_11eb_8627_80e82cf97254row3_col0\" class=\"data row3 col0\" >DTAC</td>\n",
       "                        <td id=\"T_e308934e_b626_11eb_8627_80e82cf97254row3_col1\" class=\"data row3 col1\" >9,000</td>\n",
       "                        <td id=\"T_e308934e_b626_11eb_8627_80e82cf97254row3_col2\" class=\"data row3 col2\" >2.1200</td>\n",
       "                        <td id=\"T_e308934e_b626_11eb_8627_80e82cf97254row3_col3\" class=\"data row3 col3\" >17,172.00</td>\n",
       "                        <td id=\"T_e308934e_b626_11eb_8627_80e82cf97254row3_col4\" class=\"data row3 col4\" >-5,805.69</td>\n",
       "                        <td id=\"T_e308934e_b626_11eb_8627_80e82cf97254row3_col5\" class=\"data row3 col5\" >11,366.31</td>\n",
       "                        <td id=\"T_e308934e_b626_11eb_8627_80e82cf97254row3_col6\" class=\"data row3 col6\" >297,657.83</td>\n",
       "                        <td id=\"T_e308934e_b626_11eb_8627_80e82cf97254row3_col7\" class=\"data row3 col7\" >2021-04-20</td>\n",
       "                        <td id=\"T_e308934e_b626_11eb_8627_80e82cf97254row3_col8\" class=\"data row3 col8\" >2021-05-05</td>\n",
       "                        <td id=\"T_e308934e_b626_11eb_8627_80e82cf97254row3_col9\" class=\"data row3 col9\" >2021-02-04</td>\n",
       "                        <td id=\"T_e308934e_b626_11eb_8627_80e82cf97254row3_col10\" class=\"data row3 col10\" >90</td>\n",
       "                        <td id=\"T_e308934e_b626_11eb_8627_80e82cf97254row3_col11\" class=\"data row3 col11\" >15.49</td>\n",
       "                        <td id=\"T_e308934e_b626_11eb_8627_80e82cf97254row3_col12\" class=\"data row3 col12\" >2020</td>\n",
       "                        <td id=\"T_e308934e_b626_11eb_8627_80e82cf97254row3_col13\" class=\"data row3 col13\" >4</td>\n",
       "            </tr>\n",
       "            <tr>\n",
       "                        <th id=\"T_e308934e_b626_11eb_8627_80e82cf97254level0_row4\" class=\"row_heading level0 row4\" >7</th>\n",
       "                        <td id=\"T_e308934e_b626_11eb_8627_80e82cf97254row4_col0\" class=\"data row4 col0\" >WHART</td>\n",
       "                        <td id=\"T_e308934e_b626_11eb_8627_80e82cf97254row4_col1\" class=\"data row4 col1\" >10,000</td>\n",
       "                        <td id=\"T_e308934e_b626_11eb_8627_80e82cf97254row4_col2\" class=\"data row4 col2\" >0.1195</td>\n",
       "                        <td id=\"T_e308934e_b626_11eb_8627_80e82cf97254row4_col3\" class=\"data row4 col3\" >1,075.50</td>\n",
       "                        <td id=\"T_e308934e_b626_11eb_8627_80e82cf97254row4_col4\" class=\"data row4 col4\" >492.79</td>\n",
       "                        <td id=\"T_e308934e_b626_11eb_8627_80e82cf97254row4_col5\" class=\"data row4 col5\" >1,568.29</td>\n",
       "                        <td id=\"T_e308934e_b626_11eb_8627_80e82cf97254row4_col6\" class=\"data row4 col6\" >114,252.50</td>\n",
       "                        <td id=\"T_e308934e_b626_11eb_8627_80e82cf97254row4_col7\" class=\"data row4 col7\" >2021-03-22</td>\n",
       "                        <td id=\"T_e308934e_b626_11eb_8627_80e82cf97254row4_col8\" class=\"data row4 col8\" >2021-03-04</td>\n",
       "                        <td id=\"T_e308934e_b626_11eb_8627_80e82cf97254row4_col9\" class=\"data row4 col9\" >2021-03-03</td>\n",
       "                        <td id=\"T_e308934e_b626_11eb_8627_80e82cf97254row4_col10\" class=\"data row4 col10\" >19</td>\n",
       "                        <td id=\"T_e308934e_b626_11eb_8627_80e82cf97254row4_col11\" class=\"data row4 col11\" >26.37</td>\n",
       "                        <td id=\"T_e308934e_b626_11eb_8627_80e82cf97254row4_col12\" class=\"data row4 col12\" >2020</td>\n",
       "                        <td id=\"T_e308934e_b626_11eb_8627_80e82cf97254row4_col13\" class=\"data row4 col13\" >4</td>\n",
       "            </tr>\n",
       "            <tr>\n",
       "                        <th id=\"T_e308934e_b626_11eb_8627_80e82cf97254level0_row5\" class=\"row_heading level0 row5\" >1</th>\n",
       "                        <td id=\"T_e308934e_b626_11eb_8627_80e82cf97254row5_col0\" class=\"data row5 col0\" >EGATIF</td>\n",
       "                        <td id=\"T_e308934e_b626_11eb_8627_80e82cf97254row5_col1\" class=\"data row5 col1\" >10,000</td>\n",
       "                        <td id=\"T_e308934e_b626_11eb_8627_80e82cf97254row5_col2\" class=\"data row5 col2\" >0.2000</td>\n",
       "                        <td id=\"T_e308934e_b626_11eb_8627_80e82cf97254row5_col3\" class=\"data row5 col3\" >2,000.00</td>\n",
       "                        <td id=\"T_e308934e_b626_11eb_8627_80e82cf97254row5_col4\" class=\"data row5 col4\" >-1,538.22</td>\n",
       "                        <td id=\"T_e308934e_b626_11eb_8627_80e82cf97254row5_col5\" class=\"data row5 col5\" >461.78</td>\n",
       "                        <td id=\"T_e308934e_b626_11eb_8627_80e82cf97254row5_col6\" class=\"data row5 col6\" >122,270.22</td>\n",
       "                        <td id=\"T_e308934e_b626_11eb_8627_80e82cf97254row5_col7\" class=\"data row5 col7\" >2021-03-17</td>\n",
       "                        <td id=\"T_e308934e_b626_11eb_8627_80e82cf97254row5_col8\" class=\"data row5 col8\" >2021-05-13</td>\n",
       "                        <td id=\"T_e308934e_b626_11eb_8627_80e82cf97254row5_col9\" class=\"data row5 col9\" >2021-02-25</td>\n",
       "                        <td id=\"T_e308934e_b626_11eb_8627_80e82cf97254row5_col10\" class=\"data row5 col10\" >77</td>\n",
       "                        <td id=\"T_e308934e_b626_11eb_8627_80e82cf97254row5_col11\" class=\"data row5 col11\" >1.79</td>\n",
       "                        <td id=\"T_e308934e_b626_11eb_8627_80e82cf97254row5_col12\" class=\"data row5 col12\" >2020</td>\n",
       "                        <td id=\"T_e308934e_b626_11eb_8627_80e82cf97254row5_col13\" class=\"data row5 col13\" >4</td>\n",
       "            </tr>\n",
       "            <tr>\n",
       "                        <th id=\"T_e308934e_b626_11eb_8627_80e82cf97254level0_row6\" class=\"row_heading level0 row6\" >4</th>\n",
       "                        <td id=\"T_e308934e_b626_11eb_8627_80e82cf97254row6_col0\" class=\"data row6 col0\" >MC</td>\n",
       "                        <td id=\"T_e308934e_b626_11eb_8627_80e82cf97254row6_col1\" class=\"data row6 col1\" >10,000</td>\n",
       "                        <td id=\"T_e308934e_b626_11eb_8627_80e82cf97254row6_col2\" class=\"data row6 col2\" >0.3500</td>\n",
       "                        <td id=\"T_e308934e_b626_11eb_8627_80e82cf97254row6_col3\" class=\"data row6 col3\" >3,150.00</td>\n",
       "                        <td id=\"T_e308934e_b626_11eb_8627_80e82cf97254row6_col4\" class=\"data row6 col4\" >528.23</td>\n",
       "                        <td id=\"T_e308934e_b626_11eb_8627_80e82cf97254row6_col5\" class=\"data row6 col5\" >3,678.23</td>\n",
       "                        <td id=\"T_e308934e_b626_11eb_8627_80e82cf97254row6_col6\" class=\"data row6 col6\" >106,234.78</td>\n",
       "                        <td id=\"T_e308934e_b626_11eb_8627_80e82cf97254row6_col7\" class=\"data row6 col7\" >2021-03-11</td>\n",
       "                        <td id=\"T_e308934e_b626_11eb_8627_80e82cf97254row6_col8\" class=\"data row6 col8\" >2021-03-03</td>\n",
       "                        <td id=\"T_e308934e_b626_11eb_8627_80e82cf97254row6_col9\" class=\"data row6 col9\" >2021-02-24</td>\n",
       "                        <td id=\"T_e308934e_b626_11eb_8627_80e82cf97254row6_col10\" class=\"data row6 col10\" >15</td>\n",
       "                        <td id=\"T_e308934e_b626_11eb_8627_80e82cf97254row6_col11\" class=\"data row6 col11\" >84.25</td>\n",
       "                        <td id=\"T_e308934e_b626_11eb_8627_80e82cf97254row6_col12\" class=\"data row6 col12\" >2020</td>\n",
       "                        <td id=\"T_e308934e_b626_11eb_8627_80e82cf97254row6_col13\" class=\"data row6 col13\" >2</td>\n",
       "            </tr>\n",
       "            <tr>\n",
       "                        <th id=\"T_e308934e_b626_11eb_8627_80e82cf97254level0_row7\" class=\"row_heading level0 row7\" >2</th>\n",
       "                        <td id=\"T_e308934e_b626_11eb_8627_80e82cf97254row7_col0\" class=\"data row7 col0\" >GVREIT</td>\n",
       "                        <td id=\"T_e308934e_b626_11eb_8627_80e82cf97254row7_col1\" class=\"data row7 col1\" >18,000</td>\n",
       "                        <td id=\"T_e308934e_b626_11eb_8627_80e82cf97254row7_col2\" class=\"data row7 col2\" >0.2037</td>\n",
       "                        <td id=\"T_e308934e_b626_11eb_8627_80e82cf97254row7_col3\" class=\"data row7 col3\" >3,299.94</td>\n",
       "                        <td id=\"T_e308934e_b626_11eb_8627_80e82cf97254row7_col4\" class=\"data row7 col4\" >918.91</td>\n",
       "                        <td id=\"T_e308934e_b626_11eb_8627_80e82cf97254row7_col5\" class=\"data row7 col5\" >4,218.85</td>\n",
       "                        <td id=\"T_e308934e_b626_11eb_8627_80e82cf97254row7_col6\" class=\"data row7 col6\" >198,438.55</td>\n",
       "                        <td id=\"T_e308934e_b626_11eb_8627_80e82cf97254row7_col7\" class=\"data row7 col7\" >2021-03-10</td>\n",
       "                        <td id=\"T_e308934e_b626_11eb_8627_80e82cf97254row7_col8\" class=\"data row7 col8\" >2021-03-10</td>\n",
       "                        <td id=\"T_e308934e_b626_11eb_8627_80e82cf97254row7_col9\" class=\"data row7 col9\" >2021-02-15</td>\n",
       "                        <td id=\"T_e308934e_b626_11eb_8627_80e82cf97254row7_col10\" class=\"data row7 col10\" >23</td>\n",
       "                        <td id=\"T_e308934e_b626_11eb_8627_80e82cf97254row7_col11\" class=\"data row7 col11\" >33.74</td>\n",
       "                        <td id=\"T_e308934e_b626_11eb_8627_80e82cf97254row7_col12\" class=\"data row7 col12\" >2020</td>\n",
       "                        <td id=\"T_e308934e_b626_11eb_8627_80e82cf97254row7_col13\" class=\"data row7 col13\" >4</td>\n",
       "            </tr>\n",
       "    </tbody></table>"
      ],
      "text/plain": [
       "<pandas.io.formats.style.Styler at 0x227ca506d90>"
      ]
     },
     "execution_count": 15,
     "metadata": {},
     "output_type": "execute_result"
    }
   ],
   "source": [
    "sql = \"\"\"\n",
    "SELECT name, number, ppu, D.net AS div_amt, profit, profit + D.net AS ttl_amt, B.net AS buy_amt,  \n",
    "p_date, S.date AS sell_date, B.date AS buy_date, DATEDIFF(IF(p_date > S.date, p_date, S.date),B.date) AS days,\n",
    "(profit + D.net)/B.net*36500/DATEDIFF(IF(p_date > S.date, p_date, S.date),B.date) AS pct, year, quarter\n",
    "FROM sells S \n",
    "JOIN buys B ON S.buy_id = B.id\n",
    "JOIN dividends D\n",
    "ON dividend_id = D.id\n",
    "ORDER BY name\n",
    "\"\"\"\n",
    "sells_a_div = pd.read_sql(sql, conpf)\n",
    "sells_a_div.sort_values(['p_date'],ascending=[False]).style.format(format_dict)"
   ]
  },
  {
   "cell_type": "code",
   "execution_count": 16,
   "metadata": {},
   "outputs": [
    {
     "data": {
      "text/plain": [
       "(13085.74, 1181110.27, 8.23)"
      ]
     },
     "execution_count": 16,
     "metadata": {},
     "output_type": "execute_result"
    }
   ],
   "source": [
    "total_profit = round(sells_a_div.ttl_amt.sum(),2)\n",
    "buy_cost = round(sells_a_div.buy_amt.sum(),2)\n",
    "avg_day = sells_a_div.days.mean()\n",
    "sell_pct = round(total_profit/buy_cost*36500/avg_day,2)\n",
    "total_profit,buy_cost,sell_pct"
   ]
  },
  {
   "cell_type": "code",
   "execution_count": null,
   "metadata": {},
   "outputs": [],
   "source": []
  }
 ],
 "metadata": {
  "anaconda-cloud": {},
  "kernelspec": {
   "display_name": "Python 3",
   "language": "python",
   "name": "python3"
  },
  "language_info": {
   "codemirror_mode": {
    "name": "ipython",
    "version": 3
   },
   "file_extension": ".py",
   "mimetype": "text/x-python",
   "name": "python",
   "nbconvert_exporter": "python",
   "pygments_lexer": "ipython3",
   "version": "3.8.5"
  }
 },
 "nbformat": 4,
 "nbformat_minor": 1
}
