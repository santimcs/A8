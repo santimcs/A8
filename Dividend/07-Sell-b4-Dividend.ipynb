{
 "cells": [
  {
   "cell_type": "code",
   "execution_count": 1,
   "metadata": {},
   "outputs": [],
   "source": [
    "import pandas as pd\n",
    "import numpy as np\n",
    "from datetime import date, timedelta\n",
    "from sqlalchemy import create_engine\n",
    "\n",
    "engine = create_engine('mysql+pymysql://root:@localhost:3306/portfolio_development')\n",
    "conpf = engine.connect()\n",
    "\n",
    "data_path = \"../data/\"\n",
    "csv_path = \"\\\\Users\\\\User\\\\iCloudDrive\\\\\"\n",
    "box_path = \"\\\\Users\\\\User\\\\Dropbox\\\\\"\n",
    "\n",
    "format_dict = {\n",
    "               'price':'{:.2f}','buy_p':'{:.2f}','sell_p':'{:.2f}','diff':'{:.2f}',\n",
    "               'ppu':'{:.4f}',\n",
    "               'net':'{:,.2f}','fee':'{:,.2f}','vat':'{:,.2f}',\n",
    "               'buy_amt':'{:,.2f}','cost_amt':'{:,.2f}','sell_amt':'{:,.2f}','profit':'{:,.2f}',\n",
    "               'div_amt':'{:,.2f}','ttl_amt':'{:,.2f}','pct':'{:,.2f}',\n",
    "               'sales_prf':'{:,.2f}','dividend':'{:,.2f}','net_div':'{:,.2f}','total_prf':'{:,.2f}',    \n",
    "               'qty':'{:,}','number':'{:,}','days':'{:,}'\n",
    "              }\n",
    "pd.set_option(\"display.max_rows\", None)"
   ]
  },
  {
   "cell_type": "code",
   "execution_count": 2,
   "metadata": {},
   "outputs": [],
   "source": [
    "kind = 'SBD'\n",
    "div_year = 2021\n",
    "div_quarter = 1\n",
    "sell_year = 2021"
   ]
  },
  {
   "cell_type": "markdown",
   "metadata": {},
   "source": [
    "### Stocks that are sold on specified year"
   ]
  },
  {
   "cell_type": "code",
   "execution_count": 3,
   "metadata": {},
   "outputs": [
    {
     "name": "stdout",
     "output_type": "stream",
     "text": [
      "\n",
      "SELECT T.name, qty, S.price AS sell_p, B.price AS buy_p, S.price - B.price AS diff,\n",
      "(S.net - B.net) AS sales_prf, B.net AS cost_amt,\n",
      "ROUND((S.net-B.net)/B.net*36500/DATEDIFF(S.date,B.date),2) AS pct,\n",
      "B.date AS buy_date, S.date AS sell_date,  DATEDIFF(S.date,B.date) AS days,\n",
      "B.id AS bid, S.id AS sid, B.kind\n",
      "FROM sells S\n",
      "JOIN buys B ON S.buy_id = B.id \n",
      "JOIN stocks T ON B.stock_id = T.id \n",
      "WHERE kind = 'SBD'\n",
      "ORDER BY T.name, S.date\n"
     ]
    }
   ],
   "source": [
    "sql = '''\n",
    "SELECT T.name, qty, S.price AS sell_p, B.price AS buy_p, S.price - B.price AS diff,\n",
    "(S.net - B.net) AS sales_prf, B.net AS cost_amt,\n",
    "ROUND((S.net-B.net)/B.net*36500/DATEDIFF(S.date,B.date),2) AS pct,\n",
    "B.date AS buy_date, S.date AS sell_date,  DATEDIFF(S.date,B.date) AS days,\n",
    "B.id AS bid, S.id AS sid, B.kind\n",
    "FROM sells S\n",
    "JOIN buys B ON S.buy_id = B.id \n",
    "JOIN stocks T ON B.stock_id = T.id \n",
    "WHERE kind = '%s'\n",
    "ORDER BY T.name, S.date'''\n",
    "sql = sql % (kind)\n",
    "print(sql)"
   ]
  },
  {
   "cell_type": "code",
   "execution_count": 6,
   "metadata": {
    "scrolled": true
   },
   "outputs": [
    {
     "data": {
      "text/html": [
       "<style  type=\"text/css\" >\n",
       "</style><table id=\"T_9624b1cc_cb4a_11eb_a8c7_5cbaef7ebc1c\" ><thead>    <tr>        <th class=\"blank level0\" ></th>        <th class=\"col_heading level0 col0\" >name</th>        <th class=\"col_heading level0 col1\" >qty</th>        <th class=\"col_heading level0 col2\" >sell_p</th>        <th class=\"col_heading level0 col3\" >buy_p</th>        <th class=\"col_heading level0 col4\" >diff</th>        <th class=\"col_heading level0 col5\" >sales_prf</th>        <th class=\"col_heading level0 col6\" >cost_amt</th>        <th class=\"col_heading level0 col7\" >pct</th>        <th class=\"col_heading level0 col8\" >buy_date</th>        <th class=\"col_heading level0 col9\" >sell_date</th>        <th class=\"col_heading level0 col10\" >days</th>        <th class=\"col_heading level0 col11\" >bid</th>        <th class=\"col_heading level0 col12\" >sid</th>        <th class=\"col_heading level0 col13\" >kind</th>    </tr></thead><tbody>\n",
       "                <tr>\n",
       "                        <th id=\"T_9624b1cc_cb4a_11eb_a8c7_5cbaef7ebc1clevel0_row0\" class=\"row_heading level0 row0\" >1</th>\n",
       "                        <td id=\"T_9624b1cc_cb4a_11eb_a8c7_5cbaef7ebc1crow0_col0\" class=\"data row0 col0\" >BKI</td>\n",
       "                        <td id=\"T_9624b1cc_cb4a_11eb_a8c7_5cbaef7ebc1crow0_col1\" class=\"data row0 col1\" >300</td>\n",
       "                        <td id=\"T_9624b1cc_cb4a_11eb_a8c7_5cbaef7ebc1crow0_col2\" class=\"data row0 col2\" >300.00</td>\n",
       "                        <td id=\"T_9624b1cc_cb4a_11eb_a8c7_5cbaef7ebc1crow0_col3\" class=\"data row0 col3\" >275.00</td>\n",
       "                        <td id=\"T_9624b1cc_cb4a_11eb_a8c7_5cbaef7ebc1crow0_col4\" class=\"data row0 col4\" >25.00</td>\n",
       "                        <td id=\"T_9624b1cc_cb4a_11eb_a8c7_5cbaef7ebc1crow0_col5\" class=\"data row0 col5\" >7,117.93</td>\n",
       "                        <td id=\"T_9624b1cc_cb4a_11eb_a8c7_5cbaef7ebc1crow0_col6\" class=\"data row0 col6\" >82,682.73</td>\n",
       "                        <td id=\"T_9624b1cc_cb4a_11eb_a8c7_5cbaef7ebc1crow0_col7\" class=\"data row0 col7\" >523.70</td>\n",
       "                        <td id=\"T_9624b1cc_cb4a_11eb_a8c7_5cbaef7ebc1crow0_col8\" class=\"data row0 col8\" >2021-05-18</td>\n",
       "                        <td id=\"T_9624b1cc_cb4a_11eb_a8c7_5cbaef7ebc1crow0_col9\" class=\"data row0 col9\" >2021-05-24</td>\n",
       "                        <td id=\"T_9624b1cc_cb4a_11eb_a8c7_5cbaef7ebc1crow0_col10\" class=\"data row0 col10\" >6</td>\n",
       "                        <td id=\"T_9624b1cc_cb4a_11eb_a8c7_5cbaef7ebc1crow0_col11\" class=\"data row0 col11\" >897</td>\n",
       "                        <td id=\"T_9624b1cc_cb4a_11eb_a8c7_5cbaef7ebc1crow0_col12\" class=\"data row0 col12\" >716</td>\n",
       "                        <td id=\"T_9624b1cc_cb4a_11eb_a8c7_5cbaef7ebc1crow0_col13\" class=\"data row0 col13\" >SBD</td>\n",
       "            </tr>\n",
       "            <tr>\n",
       "                        <th id=\"T_9624b1cc_cb4a_11eb_a8c7_5cbaef7ebc1clevel0_row1\" class=\"row_heading level0 row1\" >3</th>\n",
       "                        <td id=\"T_9624b1cc_cb4a_11eb_a8c7_5cbaef7ebc1crow1_col0\" class=\"data row1 col0\" >SF</td>\n",
       "                        <td id=\"T_9624b1cc_cb4a_11eb_a8c7_5cbaef7ebc1crow1_col1\" class=\"data row1 col1\" >20,000</td>\n",
       "                        <td id=\"T_9624b1cc_cb4a_11eb_a8c7_5cbaef7ebc1crow1_col2\" class=\"data row1 col2\" >5.45</td>\n",
       "                        <td id=\"T_9624b1cc_cb4a_11eb_a8c7_5cbaef7ebc1crow1_col3\" class=\"data row1 col3\" >5.20</td>\n",
       "                        <td id=\"T_9624b1cc_cb4a_11eb_a8c7_5cbaef7ebc1crow1_col4\" class=\"data row1 col4\" >0.25</td>\n",
       "                        <td id=\"T_9624b1cc_cb4a_11eb_a8c7_5cbaef7ebc1crow1_col5\" class=\"data row1 col5\" >4,528.23</td>\n",
       "                        <td id=\"T_9624b1cc_cb4a_11eb_a8c7_5cbaef7ebc1crow1_col6\" class=\"data row1 col6\" >104,230.35</td>\n",
       "                        <td id=\"T_9624b1cc_cb4a_11eb_a8c7_5cbaef7ebc1crow1_col7\" class=\"data row1 col7\" >79.29</td>\n",
       "                        <td id=\"T_9624b1cc_cb4a_11eb_a8c7_5cbaef7ebc1crow1_col8\" class=\"data row1 col8\" >2021-02-17</td>\n",
       "                        <td id=\"T_9624b1cc_cb4a_11eb_a8c7_5cbaef7ebc1crow1_col9\" class=\"data row1 col9\" >2021-03-09</td>\n",
       "                        <td id=\"T_9624b1cc_cb4a_11eb_a8c7_5cbaef7ebc1crow1_col10\" class=\"data row1 col10\" >20</td>\n",
       "                        <td id=\"T_9624b1cc_cb4a_11eb_a8c7_5cbaef7ebc1crow1_col11\" class=\"data row1 col11\" >814</td>\n",
       "                        <td id=\"T_9624b1cc_cb4a_11eb_a8c7_5cbaef7ebc1crow1_col12\" class=\"data row1 col12\" >659</td>\n",
       "                        <td id=\"T_9624b1cc_cb4a_11eb_a8c7_5cbaef7ebc1crow1_col13\" class=\"data row1 col13\" >SBD</td>\n",
       "            </tr>\n",
       "            <tr>\n",
       "                        <th id=\"T_9624b1cc_cb4a_11eb_a8c7_5cbaef7ebc1clevel0_row2\" class=\"row_heading level0 row2\" >2</th>\n",
       "                        <td id=\"T_9624b1cc_cb4a_11eb_a8c7_5cbaef7ebc1crow2_col0\" class=\"data row2 col0\" >SF</td>\n",
       "                        <td id=\"T_9624b1cc_cb4a_11eb_a8c7_5cbaef7ebc1crow2_col1\" class=\"data row2 col1\" >20,000</td>\n",
       "                        <td id=\"T_9624b1cc_cb4a_11eb_a8c7_5cbaef7ebc1crow2_col2\" class=\"data row2 col2\" >5.25</td>\n",
       "                        <td id=\"T_9624b1cc_cb4a_11eb_a8c7_5cbaef7ebc1crow2_col3\" class=\"data row2 col3\" >5.00</td>\n",
       "                        <td id=\"T_9624b1cc_cb4a_11eb_a8c7_5cbaef7ebc1crow2_col4\" class=\"data row2 col4\" >0.25</td>\n",
       "                        <td id=\"T_9624b1cc_cb4a_11eb_a8c7_5cbaef7ebc1crow2_col5\" class=\"data row2 col5\" >4,545.95</td>\n",
       "                        <td id=\"T_9624b1cc_cb4a_11eb_a8c7_5cbaef7ebc1crow2_col6\" class=\"data row2 col6\" >100,221.49</td>\n",
       "                        <td id=\"T_9624b1cc_cb4a_11eb_a8c7_5cbaef7ebc1crow2_col7\" class=\"data row2 col7\" >413.90</td>\n",
       "                        <td id=\"T_9624b1cc_cb4a_11eb_a8c7_5cbaef7ebc1crow2_col8\" class=\"data row2 col8\" >2021-02-11</td>\n",
       "                        <td id=\"T_9624b1cc_cb4a_11eb_a8c7_5cbaef7ebc1crow2_col9\" class=\"data row2 col9\" >2021-02-15</td>\n",
       "                        <td id=\"T_9624b1cc_cb4a_11eb_a8c7_5cbaef7ebc1crow2_col10\" class=\"data row2 col10\" >4</td>\n",
       "                        <td id=\"T_9624b1cc_cb4a_11eb_a8c7_5cbaef7ebc1crow2_col11\" class=\"data row2 col11\" >808</td>\n",
       "                        <td id=\"T_9624b1cc_cb4a_11eb_a8c7_5cbaef7ebc1crow2_col12\" class=\"data row2 col12\" >646</td>\n",
       "                        <td id=\"T_9624b1cc_cb4a_11eb_a8c7_5cbaef7ebc1crow2_col13\" class=\"data row2 col13\" >SBD</td>\n",
       "            </tr>\n",
       "            <tr>\n",
       "                        <th id=\"T_9624b1cc_cb4a_11eb_a8c7_5cbaef7ebc1clevel0_row3\" class=\"row_heading level0 row3\" >0</th>\n",
       "                        <td id=\"T_9624b1cc_cb4a_11eb_a8c7_5cbaef7ebc1crow3_col0\" class=\"data row3 col0\" >BGC</td>\n",
       "                        <td id=\"T_9624b1cc_cb4a_11eb_a8c7_5cbaef7ebc1crow3_col1\" class=\"data row3 col1\" >10,000</td>\n",
       "                        <td id=\"T_9624b1cc_cb4a_11eb_a8c7_5cbaef7ebc1crow3_col2\" class=\"data row3 col2\" >10.80</td>\n",
       "                        <td id=\"T_9624b1cc_cb4a_11eb_a8c7_5cbaef7ebc1crow3_col3\" class=\"data row3 col3\" >9.55</td>\n",
       "                        <td id=\"T_9624b1cc_cb4a_11eb_a8c7_5cbaef7ebc1crow3_col4\" class=\"data row3 col4\" >1.25</td>\n",
       "                        <td id=\"T_9624b1cc_cb4a_11eb_a8c7_5cbaef7ebc1crow3_col5\" class=\"data row3 col5\" >12,049.26</td>\n",
       "                        <td id=\"T_9624b1cc_cb4a_11eb_a8c7_5cbaef7ebc1crow3_col6\" class=\"data row3 col6\" >95,711.53</td>\n",
       "                        <td id=\"T_9624b1cc_cb4a_11eb_a8c7_5cbaef7ebc1crow3_col7\" class=\"data row3 col7\" >510.56</td>\n",
       "                        <td id=\"T_9624b1cc_cb4a_11eb_a8c7_5cbaef7ebc1crow3_col8\" class=\"data row3 col8\" >2020-05-13</td>\n",
       "                        <td id=\"T_9624b1cc_cb4a_11eb_a8c7_5cbaef7ebc1crow3_col9\" class=\"data row3 col9\" >2020-05-22</td>\n",
       "                        <td id=\"T_9624b1cc_cb4a_11eb_a8c7_5cbaef7ebc1crow3_col10\" class=\"data row3 col10\" >9</td>\n",
       "                        <td id=\"T_9624b1cc_cb4a_11eb_a8c7_5cbaef7ebc1crow3_col11\" class=\"data row3 col11\" >713</td>\n",
       "                        <td id=\"T_9624b1cc_cb4a_11eb_a8c7_5cbaef7ebc1crow3_col12\" class=\"data row3 col12\" >572</td>\n",
       "                        <td id=\"T_9624b1cc_cb4a_11eb_a8c7_5cbaef7ebc1crow3_col13\" class=\"data row3 col13\" >SBD</td>\n",
       "            </tr>\n",
       "    </tbody></table>"
      ],
      "text/plain": [
       "<pandas.io.formats.style.Styler at 0x154a6ddcb80>"
      ]
     },
     "execution_count": 6,
     "metadata": {},
     "output_type": "execute_result"
    }
   ],
   "source": [
    "sells = pd.read_sql(sql, conpf)\n",
    "sells.sort_values(['sell_date','name'],ascending=[False,True]).style.format(format_dict)"
   ]
  },
  {
   "cell_type": "code",
   "execution_count": 17,
   "metadata": {},
   "outputs": [
    {
     "data": {
      "text/html": [
       "<style  type=\"text/css\" >\n",
       "</style><table id=\"T_59eee532_cacf_11eb_8818_5cbaef7ebc1c\" ><thead>    <tr>        <th class=\"blank level0\" ></th>        <th class=\"col_heading level0 col0\" >name</th>        <th class=\"col_heading level0 col1\" >qty</th>        <th class=\"col_heading level0 col2\" >sell_p</th>        <th class=\"col_heading level0 col3\" >buy_p</th>        <th class=\"col_heading level0 col4\" >diff</th>        <th class=\"col_heading level0 col5\" >sales_prf</th>        <th class=\"col_heading level0 col6\" >cost_amt</th>        <th class=\"col_heading level0 col7\" >pct</th>        <th class=\"col_heading level0 col8\" >buy_date</th>        <th class=\"col_heading level0 col9\" >sell_date</th>        <th class=\"col_heading level0 col10\" >days</th>        <th class=\"col_heading level0 col11\" >bid</th>        <th class=\"col_heading level0 col12\" >sid</th>        <th class=\"col_heading level0 col13\" >kind</th>    </tr></thead><tbody>\n",
       "                <tr>\n",
       "                        <th id=\"T_59eee532_cacf_11eb_8818_5cbaef7ebc1clevel0_row0\" class=\"row_heading level0 row0\" >0</th>\n",
       "                        <td id=\"T_59eee532_cacf_11eb_8818_5cbaef7ebc1crow0_col0\" class=\"data row0 col0\" >BGC</td>\n",
       "                        <td id=\"T_59eee532_cacf_11eb_8818_5cbaef7ebc1crow0_col1\" class=\"data row0 col1\" >10,000</td>\n",
       "                        <td id=\"T_59eee532_cacf_11eb_8818_5cbaef7ebc1crow0_col2\" class=\"data row0 col2\" >10.80</td>\n",
       "                        <td id=\"T_59eee532_cacf_11eb_8818_5cbaef7ebc1crow0_col3\" class=\"data row0 col3\" >9.55</td>\n",
       "                        <td id=\"T_59eee532_cacf_11eb_8818_5cbaef7ebc1crow0_col4\" class=\"data row0 col4\" >1.25</td>\n",
       "                        <td id=\"T_59eee532_cacf_11eb_8818_5cbaef7ebc1crow0_col5\" class=\"data row0 col5\" >12,049.26</td>\n",
       "                        <td id=\"T_59eee532_cacf_11eb_8818_5cbaef7ebc1crow0_col6\" class=\"data row0 col6\" >95,711.53</td>\n",
       "                        <td id=\"T_59eee532_cacf_11eb_8818_5cbaef7ebc1crow0_col7\" class=\"data row0 col7\" >510.56</td>\n",
       "                        <td id=\"T_59eee532_cacf_11eb_8818_5cbaef7ebc1crow0_col8\" class=\"data row0 col8\" >2020-05-13</td>\n",
       "                        <td id=\"T_59eee532_cacf_11eb_8818_5cbaef7ebc1crow0_col9\" class=\"data row0 col9\" >2020-05-22</td>\n",
       "                        <td id=\"T_59eee532_cacf_11eb_8818_5cbaef7ebc1crow0_col10\" class=\"data row0 col10\" >9</td>\n",
       "                        <td id=\"T_59eee532_cacf_11eb_8818_5cbaef7ebc1crow0_col11\" class=\"data row0 col11\" >713</td>\n",
       "                        <td id=\"T_59eee532_cacf_11eb_8818_5cbaef7ebc1crow0_col12\" class=\"data row0 col12\" >572</td>\n",
       "                        <td id=\"T_59eee532_cacf_11eb_8818_5cbaef7ebc1crow0_col13\" class=\"data row0 col13\" >SBD</td>\n",
       "            </tr>\n",
       "    </tbody></table>"
      ],
      "text/plain": [
       "<pandas.io.formats.style.Styler at 0x159b746f370>"
      ]
     },
     "execution_count": 17,
     "metadata": {},
     "output_type": "execute_result"
    }
   ],
   "source": [
    "mask_name = sells.name == 'BGC'\n",
    "filter = sells[mask_name]\n",
    "cols = 'name qty sell_p buy_p diff sales_prf cost_amt pct buy_date sell_date days bid sid kind'.split()\n",
    "filter[cols].style.format(format_dict)"
   ]
  },
  {
   "cell_type": "code",
   "execution_count": 19,
   "metadata": {},
   "outputs": [
    {
     "data": {
      "text/html": [
       "<div>\n",
       "<style scoped>\n",
       "    .dataframe tbody tr th:only-of-type {\n",
       "        vertical-align: middle;\n",
       "    }\n",
       "\n",
       "    .dataframe tbody tr th {\n",
       "        vertical-align: top;\n",
       "    }\n",
       "\n",
       "    .dataframe thead th {\n",
       "        text-align: right;\n",
       "    }\n",
       "</style>\n",
       "<table border=\"1\" class=\"dataframe\">\n",
       "  <thead>\n",
       "    <tr style=\"text-align: right;\">\n",
       "      <th></th>\n",
       "      <th>name</th>\n",
       "      <th>qty</th>\n",
       "      <th>sell_p</th>\n",
       "      <th>buy_p</th>\n",
       "      <th>diff</th>\n",
       "      <th>sales_prf</th>\n",
       "      <th>cost_amt</th>\n",
       "      <th>pct</th>\n",
       "      <th>buy_date</th>\n",
       "      <th>sell_date</th>\n",
       "      <th>days</th>\n",
       "      <th>bid</th>\n",
       "      <th>sid</th>\n",
       "      <th>kind</th>\n",
       "    </tr>\n",
       "  </thead>\n",
       "  <tbody>\n",
       "    <tr>\n",
       "      <th>0</th>\n",
       "      <td>BGC</td>\n",
       "      <td>10000</td>\n",
       "      <td>10.8</td>\n",
       "      <td>9.55</td>\n",
       "      <td>1.25</td>\n",
       "      <td>12049.26</td>\n",
       "      <td>95711.53</td>\n",
       "      <td>510.56</td>\n",
       "      <td>2020-05-13</td>\n",
       "      <td>2020-05-22</td>\n",
       "      <td>9</td>\n",
       "      <td>713</td>\n",
       "      <td>572</td>\n",
       "      <td>SBD</td>\n",
       "    </tr>\n",
       "    <tr>\n",
       "      <th>1</th>\n",
       "      <td>BKI</td>\n",
       "      <td>300</td>\n",
       "      <td>300.0</td>\n",
       "      <td>275.00</td>\n",
       "      <td>25.00</td>\n",
       "      <td>7117.93</td>\n",
       "      <td>82682.73</td>\n",
       "      <td>523.70</td>\n",
       "      <td>2021-05-18</td>\n",
       "      <td>2021-05-24</td>\n",
       "      <td>6</td>\n",
       "      <td>897</td>\n",
       "      <td>716</td>\n",
       "      <td>SBD</td>\n",
       "    </tr>\n",
       "  </tbody>\n",
       "</table>\n",
       "</div>"
      ],
      "text/plain": [
       "  name    qty  sell_p   buy_p   diff  sales_prf  cost_amt     pct    buy_date  \\\n",
       "0  BGC  10000    10.8    9.55   1.25   12049.26  95711.53  510.56  2020-05-13   \n",
       "1  BKI    300   300.0  275.00  25.00    7117.93  82682.73  523.70  2021-05-18   \n",
       "\n",
       "    sell_date  days  bid  sid kind  \n",
       "0  2020-05-22     9  713  572  SBD  \n",
       "1  2021-05-24     6  897  716  SBD  "
      ]
     },
     "execution_count": 19,
     "metadata": {},
     "output_type": "execute_result"
    }
   ],
   "source": [
    "mask_kind = sells.kind == 'SBD'\n",
    "filter = sells[mask_kind]\n",
    "filter[cols]"
   ]
  },
  {
   "cell_type": "code",
   "execution_count": 20,
   "metadata": {},
   "outputs": [
    {
     "data": {
      "text/plain": [
       "('../data/SELL-B4-DIV.csv',\n",
       " '\\\\Users\\\\User\\\\iCloudDrive\\\\SELL-B4-DIV.csv',\n",
       " '\\\\Users\\\\User\\\\Dropbox\\\\SELL-B4-DIV.csv')"
      ]
     },
     "execution_count": 20,
     "metadata": {},
     "output_type": "execute_result"
    }
   ],
   "source": [
    "file_name = 'SELL-B4-DIV.csv'\n",
    "data_file = data_path + file_name\n",
    "output_file = csv_path + file_name\n",
    "box_file = box_path + file_name\n",
    "data_file, output_file, box_file"
   ]
  },
  {
   "cell_type": "code",
   "execution_count": 21,
   "metadata": {},
   "outputs": [
    {
     "data": {
      "text/plain": [
       "name          object\n",
       "qty            int64\n",
       "sell_p       float64\n",
       "buy_p        float64\n",
       "diff         float64\n",
       "sales_prf    float64\n",
       "cost_amt     float64\n",
       "pct          float64\n",
       "buy_date      object\n",
       "sell_date     object\n",
       "days           int64\n",
       "bid            int64\n",
       "sid            int64\n",
       "kind          object\n",
       "dtype: object"
      ]
     },
     "execution_count": 21,
     "metadata": {},
     "output_type": "execute_result"
    }
   ],
   "source": [
    "filter.dtypes"
   ]
  },
  {
   "cell_type": "code",
   "execution_count": 26,
   "metadata": {},
   "outputs": [],
   "source": [
    "colt = 'name qty sell_p buy_p diff sales_prf cost_amt pct buy_date sell_date days'.split()"
   ]
  },
  {
   "cell_type": "code",
   "execution_count": 27,
   "metadata": {},
   "outputs": [],
   "source": [
    "filter[colt].to_csv(output_file)\n",
    "filter[colt].to_csv(data_file)\n",
    "filter[colt].to_csv(box_file)"
   ]
  },
  {
   "cell_type": "code",
   "execution_count": 10,
   "metadata": {},
   "outputs": [],
   "source": [
    "filter[colt].to_csv(output_file,mode='a',header=False)\n",
    "filter[colt].to_csv(data_file,mode='a',header=False)\n",
    "filter[colt].to_csv(box_file,mode='a',header=False)"
   ]
  },
  {
   "cell_type": "code",
   "execution_count": null,
   "metadata": {},
   "outputs": [],
   "source": []
  }
 ],
 "metadata": {
  "anaconda-cloud": {},
  "kernelspec": {
   "display_name": "Python 3",
   "language": "python",
   "name": "python3"
  },
  "language_info": {
   "codemirror_mode": {
    "name": "ipython",
    "version": 3
   },
   "file_extension": ".py",
   "mimetype": "text/x-python",
   "name": "python",
   "nbconvert_exporter": "python",
   "pygments_lexer": "ipython3",
   "version": "3.8.5"
  }
 },
 "nbformat": 4,
 "nbformat_minor": 1
}
