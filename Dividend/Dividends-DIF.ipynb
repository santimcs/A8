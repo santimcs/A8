{
 "cells": [
  {
   "cell_type": "code",
   "execution_count": 1,
   "metadata": {},
   "outputs": [],
   "source": [
    "import pandas as pd\n",
    "import numpy as np\n",
    "from datetime import date, timedelta\n",
    "from sqlalchemy import create_engine\n",
    "\n",
    "engine = create_engine('mysql+pymysql://root:@localhost:3306/portfolio_development')\n",
    "conpf = engine.connect()\n",
    "\n",
    "data_path = \"../data/\"\n",
    "csv_path = \"\\\\Users\\\\User\\\\iCloudDrive\\\\\"\n",
    "box_path = \"\\\\Users\\\\User\\\\Dropbox\\\\\"\n",
    "\n",
    "format_dict = {\n",
    "               'price':'{:.2f}','buy_p':'{:.2f}','sell_p':'{:.2f}','diff':'{:.2f}',\n",
    "               'ppu':'{:.4f}',\n",
    "               'net':'{:,.2f}','fee':'{:,.2f}','vat':'{:,.2f}',\n",
    "               'buy_amt':'{:,.2f}','sell_amt':'{:,.2f}','profit':'{:,.2f}',\n",
    "               'div_amt':'{:,.2f}','ttl_amt':'{:,.2f}','pct':'{:,.2f}',\n",
    "               'qty':'{:,}','ttl_qty':'{:,}','number':'{:,}','days':'{:,}'\n",
    "              }\n",
    "pd.set_option(\"display.max_rows\", None)\n",
    "\n",
    "cols = 'name ttl_qty buy_amt ppu div_amt buy_date x_date p_date days pct year quarter'.split()\n",
    "colt = 'name ttl_qty buy_amt ppu div_amt buy_date x_date p_date days pct year quarter number'.split()\n",
    "\n",
    "name = 'DIF'"
   ]
  },
  {
   "cell_type": "markdown",
   "metadata": {},
   "source": [
    "### 1st Batch"
   ]
  },
  {
   "cell_type": "code",
   "execution_count": 2,
   "metadata": {},
   "outputs": [],
   "source": [
    "div_year = 2019\n",
    "div_quarter = 2\n",
    "ids = '637'"
   ]
  },
  {
   "cell_type": "code",
   "execution_count": 3,
   "metadata": {},
   "outputs": [
    {
     "data": {
      "text/html": [
       "<style  type=\"text/css\" >\n",
       "</style><table id=\"T_cd419ae5_c8f7_11eb_9bf3_5cbaef7ebc1c\" ><thead>    <tr>        <th class=\"blank level0\" ></th>        <th class=\"col_heading level0 col0\" >name</th>        <th class=\"col_heading level0 col1\" >ttl_qty</th>        <th class=\"col_heading level0 col2\" >buy_amt</th>        <th class=\"col_heading level0 col3\" >buy_date</th>    </tr></thead><tbody>\n",
       "                <tr>\n",
       "                        <th id=\"T_cd419ae5_c8f7_11eb_9bf3_5cbaef7ebc1clevel0_row0\" class=\"row_heading level0 row0\" >0</th>\n",
       "                        <td id=\"T_cd419ae5_c8f7_11eb_9bf3_5cbaef7ebc1crow0_col0\" class=\"data row0 col0\" >DIF</td>\n",
       "                        <td id=\"T_cd419ae5_c8f7_11eb_9bf3_5cbaef7ebc1crow0_col1\" class=\"data row0 col1\" >7,000.0</td>\n",
       "                        <td id=\"T_cd419ae5_c8f7_11eb_9bf3_5cbaef7ebc1crow0_col2\" class=\"data row0 col2\" >103,127.91</td>\n",
       "                        <td id=\"T_cd419ae5_c8f7_11eb_9bf3_5cbaef7ebc1crow0_col3\" class=\"data row0 col3\" >2019-07-24</td>\n",
       "            </tr>\n",
       "    </tbody></table>"
      ],
      "text/plain": [
       "<pandas.io.formats.style.Styler at 0x183e7afe850>"
      ]
     },
     "execution_count": 3,
     "metadata": {},
     "output_type": "execute_result"
    }
   ],
   "source": [
    "sql = '''\n",
    "SELECT T.name, SUM(qty) AS ttl_qty, \n",
    "SUM(B.net) AS buy_amt, MIN(date) AS buy_date\n",
    "FROM buys B\n",
    "JOIN stocks T ON B.stock_id = T.id \n",
    "WHERE B.id IN (%s)\n",
    "GROUP BY T.name'''\n",
    "sql = sql % (ids)\n",
    "buys = pd.read_sql(sql, conpf)\n",
    "buys.style.format(format_dict)"
   ]
  },
  {
   "cell_type": "code",
   "execution_count": 4,
   "metadata": {},
   "outputs": [
    {
     "data": {
      "text/html": [
       "<style  type=\"text/css\" >\n",
       "</style><table id=\"T_d0587304_c8f7_11eb_99a9_5cbaef7ebc1c\" ><thead>    <tr>        <th class=\"blank level0\" ></th>        <th class=\"col_heading level0 col0\" >id</th>        <th class=\"col_heading level0 col1\" >name</th>        <th class=\"col_heading level0 col2\" >year</th>        <th class=\"col_heading level0 col3\" >quarter</th>        <th class=\"col_heading level0 col4\" >number</th>        <th class=\"col_heading level0 col5\" >ppu</th>        <th class=\"col_heading level0 col6\" >div_amt</th>        <th class=\"col_heading level0 col7\" >x_date</th>        <th class=\"col_heading level0 col8\" >p_date</th>    </tr></thead><tbody>\n",
       "                <tr>\n",
       "                        <th id=\"T_d0587304_c8f7_11eb_99a9_5cbaef7ebc1clevel0_row0\" class=\"row_heading level0 row0\" >0</th>\n",
       "                        <td id=\"T_d0587304_c8f7_11eb_99a9_5cbaef7ebc1crow0_col0\" class=\"data row0 col0\" >235</td>\n",
       "                        <td id=\"T_d0587304_c8f7_11eb_99a9_5cbaef7ebc1crow0_col1\" class=\"data row0 col1\" >DIF</td>\n",
       "                        <td id=\"T_d0587304_c8f7_11eb_99a9_5cbaef7ebc1crow0_col2\" class=\"data row0 col2\" >2021</td>\n",
       "                        <td id=\"T_d0587304_c8f7_11eb_99a9_5cbaef7ebc1crow0_col3\" class=\"data row0 col3\" >1</td>\n",
       "                        <td id=\"T_d0587304_c8f7_11eb_99a9_5cbaef7ebc1crow0_col4\" class=\"data row0 col4\" >100,000</td>\n",
       "                        <td id=\"T_d0587304_c8f7_11eb_99a9_5cbaef7ebc1crow0_col5\" class=\"data row0 col5\" >0.2610</td>\n",
       "                        <td id=\"T_d0587304_c8f7_11eb_99a9_5cbaef7ebc1crow0_col6\" class=\"data row0 col6\" >26,100.00</td>\n",
       "                        <td id=\"T_d0587304_c8f7_11eb_99a9_5cbaef7ebc1crow0_col7\" class=\"data row0 col7\" >2021-05-12</td>\n",
       "                        <td id=\"T_d0587304_c8f7_11eb_99a9_5cbaef7ebc1crow0_col8\" class=\"data row0 col8\" >2021-06-04</td>\n",
       "            </tr>\n",
       "            <tr>\n",
       "                        <th id=\"T_d0587304_c8f7_11eb_99a9_5cbaef7ebc1clevel0_row1\" class=\"row_heading level0 row1\" >1</th>\n",
       "                        <td id=\"T_d0587304_c8f7_11eb_99a9_5cbaef7ebc1crow1_col0\" class=\"data row1 col0\" >197</td>\n",
       "                        <td id=\"T_d0587304_c8f7_11eb_99a9_5cbaef7ebc1crow1_col1\" class=\"data row1 col1\" >DIF</td>\n",
       "                        <td id=\"T_d0587304_c8f7_11eb_99a9_5cbaef7ebc1crow1_col2\" class=\"data row1 col2\" >2020</td>\n",
       "                        <td id=\"T_d0587304_c8f7_11eb_99a9_5cbaef7ebc1crow1_col3\" class=\"data row1 col3\" >4</td>\n",
       "                        <td id=\"T_d0587304_c8f7_11eb_99a9_5cbaef7ebc1crow1_col4\" class=\"data row1 col4\" >80,000</td>\n",
       "                        <td id=\"T_d0587304_c8f7_11eb_99a9_5cbaef7ebc1crow1_col5\" class=\"data row1 col5\" >0.2610</td>\n",
       "                        <td id=\"T_d0587304_c8f7_11eb_99a9_5cbaef7ebc1crow1_col6\" class=\"data row1 col6\" >20,880.00</td>\n",
       "                        <td id=\"T_d0587304_c8f7_11eb_99a9_5cbaef7ebc1crow1_col7\" class=\"data row1 col7\" >2021-02-23</td>\n",
       "                        <td id=\"T_d0587304_c8f7_11eb_99a9_5cbaef7ebc1crow1_col8\" class=\"data row1 col8\" >2021-03-12</td>\n",
       "            </tr>\n",
       "            <tr>\n",
       "                        <th id=\"T_d0587304_c8f7_11eb_99a9_5cbaef7ebc1clevel0_row2\" class=\"row_heading level0 row2\" >2</th>\n",
       "                        <td id=\"T_d0587304_c8f7_11eb_99a9_5cbaef7ebc1crow2_col0\" class=\"data row2 col0\" >190</td>\n",
       "                        <td id=\"T_d0587304_c8f7_11eb_99a9_5cbaef7ebc1crow2_col1\" class=\"data row2 col1\" >DIF</td>\n",
       "                        <td id=\"T_d0587304_c8f7_11eb_99a9_5cbaef7ebc1crow2_col2\" class=\"data row2 col2\" >2020</td>\n",
       "                        <td id=\"T_d0587304_c8f7_11eb_99a9_5cbaef7ebc1crow2_col3\" class=\"data row2 col3\" >3</td>\n",
       "                        <td id=\"T_d0587304_c8f7_11eb_99a9_5cbaef7ebc1crow2_col4\" class=\"data row2 col4\" >70,000</td>\n",
       "                        <td id=\"T_d0587304_c8f7_11eb_99a9_5cbaef7ebc1crow2_col5\" class=\"data row2 col5\" >0.2610</td>\n",
       "                        <td id=\"T_d0587304_c8f7_11eb_99a9_5cbaef7ebc1crow2_col6\" class=\"data row2 col6\" >18,270.00</td>\n",
       "                        <td id=\"T_d0587304_c8f7_11eb_99a9_5cbaef7ebc1crow2_col7\" class=\"data row2 col7\" >2020-11-11</td>\n",
       "                        <td id=\"T_d0587304_c8f7_11eb_99a9_5cbaef7ebc1crow2_col8\" class=\"data row2 col8\" >2020-12-04</td>\n",
       "            </tr>\n",
       "            <tr>\n",
       "                        <th id=\"T_d0587304_c8f7_11eb_99a9_5cbaef7ebc1clevel0_row3\" class=\"row_heading level0 row3\" >3</th>\n",
       "                        <td id=\"T_d0587304_c8f7_11eb_99a9_5cbaef7ebc1crow3_col0\" class=\"data row3 col0\" >3</td>\n",
       "                        <td id=\"T_d0587304_c8f7_11eb_99a9_5cbaef7ebc1crow3_col1\" class=\"data row3 col1\" >DIF</td>\n",
       "                        <td id=\"T_d0587304_c8f7_11eb_99a9_5cbaef7ebc1crow3_col2\" class=\"data row3 col2\" >2020</td>\n",
       "                        <td id=\"T_d0587304_c8f7_11eb_99a9_5cbaef7ebc1crow3_col3\" class=\"data row3 col3\" >2</td>\n",
       "                        <td id=\"T_d0587304_c8f7_11eb_99a9_5cbaef7ebc1crow3_col4\" class=\"data row3 col4\" >60,000</td>\n",
       "                        <td id=\"T_d0587304_c8f7_11eb_99a9_5cbaef7ebc1crow3_col5\" class=\"data row3 col5\" >0.2610</td>\n",
       "                        <td id=\"T_d0587304_c8f7_11eb_99a9_5cbaef7ebc1crow3_col6\" class=\"data row3 col6\" >15,660.00</td>\n",
       "                        <td id=\"T_d0587304_c8f7_11eb_99a9_5cbaef7ebc1crow3_col7\" class=\"data row3 col7\" >2020-08-13</td>\n",
       "                        <td id=\"T_d0587304_c8f7_11eb_99a9_5cbaef7ebc1crow3_col8\" class=\"data row3 col8\" >2020-09-08</td>\n",
       "            </tr>\n",
       "            <tr>\n",
       "                        <th id=\"T_d0587304_c8f7_11eb_99a9_5cbaef7ebc1clevel0_row4\" class=\"row_heading level0 row4\" >4</th>\n",
       "                        <td id=\"T_d0587304_c8f7_11eb_99a9_5cbaef7ebc1crow4_col0\" class=\"data row4 col0\" >6</td>\n",
       "                        <td id=\"T_d0587304_c8f7_11eb_99a9_5cbaef7ebc1crow4_col1\" class=\"data row4 col1\" >DIF</td>\n",
       "                        <td id=\"T_d0587304_c8f7_11eb_99a9_5cbaef7ebc1crow4_col2\" class=\"data row4 col2\" >2020</td>\n",
       "                        <td id=\"T_d0587304_c8f7_11eb_99a9_5cbaef7ebc1crow4_col3\" class=\"data row4 col3\" >1</td>\n",
       "                        <td id=\"T_d0587304_c8f7_11eb_99a9_5cbaef7ebc1crow4_col4\" class=\"data row4 col4\" >52,000</td>\n",
       "                        <td id=\"T_d0587304_c8f7_11eb_99a9_5cbaef7ebc1crow4_col5\" class=\"data row4 col5\" >0.2610</td>\n",
       "                        <td id=\"T_d0587304_c8f7_11eb_99a9_5cbaef7ebc1crow4_col6\" class=\"data row4 col6\" >13,572.00</td>\n",
       "                        <td id=\"T_d0587304_c8f7_11eb_99a9_5cbaef7ebc1crow4_col7\" class=\"data row4 col7\" >2020-05-26</td>\n",
       "                        <td id=\"T_d0587304_c8f7_11eb_99a9_5cbaef7ebc1crow4_col8\" class=\"data row4 col8\" >2020-06-11</td>\n",
       "            </tr>\n",
       "            <tr>\n",
       "                        <th id=\"T_d0587304_c8f7_11eb_99a9_5cbaef7ebc1clevel0_row5\" class=\"row_heading level0 row5\" >5</th>\n",
       "                        <td id=\"T_d0587304_c8f7_11eb_99a9_5cbaef7ebc1crow5_col0\" class=\"data row5 col0\" >31</td>\n",
       "                        <td id=\"T_d0587304_c8f7_11eb_99a9_5cbaef7ebc1crow5_col1\" class=\"data row5 col1\" >DIF</td>\n",
       "                        <td id=\"T_d0587304_c8f7_11eb_99a9_5cbaef7ebc1crow5_col2\" class=\"data row5 col2\" >2019</td>\n",
       "                        <td id=\"T_d0587304_c8f7_11eb_99a9_5cbaef7ebc1crow5_col3\" class=\"data row5 col3\" >4</td>\n",
       "                        <td id=\"T_d0587304_c8f7_11eb_99a9_5cbaef7ebc1crow5_col4\" class=\"data row5 col4\" >52,000</td>\n",
       "                        <td id=\"T_d0587304_c8f7_11eb_99a9_5cbaef7ebc1crow5_col5\" class=\"data row5 col5\" >0.2610</td>\n",
       "                        <td id=\"T_d0587304_c8f7_11eb_99a9_5cbaef7ebc1crow5_col6\" class=\"data row5 col6\" >13,572.00</td>\n",
       "                        <td id=\"T_d0587304_c8f7_11eb_99a9_5cbaef7ebc1crow5_col7\" class=\"data row5 col7\" >2020-02-12</td>\n",
       "                        <td id=\"T_d0587304_c8f7_11eb_99a9_5cbaef7ebc1crow5_col8\" class=\"data row5 col8\" >2020-03-03</td>\n",
       "            </tr>\n",
       "            <tr>\n",
       "                        <th id=\"T_d0587304_c8f7_11eb_99a9_5cbaef7ebc1clevel0_row6\" class=\"row_heading level0 row6\" >6</th>\n",
       "                        <td id=\"T_d0587304_c8f7_11eb_99a9_5cbaef7ebc1crow6_col0\" class=\"data row6 col0\" >36</td>\n",
       "                        <td id=\"T_d0587304_c8f7_11eb_99a9_5cbaef7ebc1crow6_col1\" class=\"data row6 col1\" >DIF</td>\n",
       "                        <td id=\"T_d0587304_c8f7_11eb_99a9_5cbaef7ebc1crow6_col2\" class=\"data row6 col2\" >2019</td>\n",
       "                        <td id=\"T_d0587304_c8f7_11eb_99a9_5cbaef7ebc1crow6_col3\" class=\"data row6 col3\" >3</td>\n",
       "                        <td id=\"T_d0587304_c8f7_11eb_99a9_5cbaef7ebc1crow6_col4\" class=\"data row6 col4\" >52,000</td>\n",
       "                        <td id=\"T_d0587304_c8f7_11eb_99a9_5cbaef7ebc1crow6_col5\" class=\"data row6 col5\" >0.1656</td>\n",
       "                        <td id=\"T_d0587304_c8f7_11eb_99a9_5cbaef7ebc1crow6_col6\" class=\"data row6 col6\" >8,611.20</td>\n",
       "                        <td id=\"T_d0587304_c8f7_11eb_99a9_5cbaef7ebc1crow6_col7\" class=\"data row6 col7\" >2019-11-18</td>\n",
       "                        <td id=\"T_d0587304_c8f7_11eb_99a9_5cbaef7ebc1crow6_col8\" class=\"data row6 col8\" >2019-12-04</td>\n",
       "            </tr>\n",
       "            <tr>\n",
       "                        <th id=\"T_d0587304_c8f7_11eb_99a9_5cbaef7ebc1clevel0_row7\" class=\"row_heading level0 row7\" >7</th>\n",
       "                        <td id=\"T_d0587304_c8f7_11eb_99a9_5cbaef7ebc1crow7_col0\" class=\"data row7 col0\" >43</td>\n",
       "                        <td id=\"T_d0587304_c8f7_11eb_99a9_5cbaef7ebc1crow7_col1\" class=\"data row7 col1\" >DIF</td>\n",
       "                        <td id=\"T_d0587304_c8f7_11eb_99a9_5cbaef7ebc1crow7_col2\" class=\"data row7 col2\" >2019</td>\n",
       "                        <td id=\"T_d0587304_c8f7_11eb_99a9_5cbaef7ebc1crow7_col3\" class=\"data row7 col3\" >2</td>\n",
       "                        <td id=\"T_d0587304_c8f7_11eb_99a9_5cbaef7ebc1crow7_col4\" class=\"data row7 col4\" >47,000</td>\n",
       "                        <td id=\"T_d0587304_c8f7_11eb_99a9_5cbaef7ebc1crow7_col5\" class=\"data row7 col5\" >0.3469</td>\n",
       "                        <td id=\"T_d0587304_c8f7_11eb_99a9_5cbaef7ebc1crow7_col6\" class=\"data row7 col6\" >16,304.30</td>\n",
       "                        <td id=\"T_d0587304_c8f7_11eb_99a9_5cbaef7ebc1crow7_col7\" class=\"data row7 col7\" >2019-08-26</td>\n",
       "                        <td id=\"T_d0587304_c8f7_11eb_99a9_5cbaef7ebc1crow7_col8\" class=\"data row7 col8\" >2019-09-11</td>\n",
       "            </tr>\n",
       "    </tbody></table>"
      ],
      "text/plain": [
       "<pandas.io.formats.style.Styler at 0x183ea237e50>"
      ]
     },
     "execution_count": 4,
     "metadata": {},
     "output_type": "execute_result"
    }
   ],
   "source": [
    "sql = \"\"\"\n",
    "SELECT id, name, year, quarter, number, ppu, net AS div_amt, x_date, p_date\n",
    "FROM dividends\n",
    "WHERE name = '%s'\n",
    "AND ((year = %s AND quarter >= %s) \n",
    "OR (year > %s))\n",
    "ORDER BY name, year DESC, quarter DESC\n",
    "\"\"\"\n",
    "sql = sql % (name, div_year, div_quarter, div_year)\n",
    "dividends = pd.read_sql(sql, conpf)\n",
    "dividends.style.format(format_dict)"
   ]
  },
  {
   "cell_type": "code",
   "execution_count": 5,
   "metadata": {
    "scrolled": true
   },
   "outputs": [
    {
     "data": {
      "text/html": [
       "<div>\n",
       "<style scoped>\n",
       "    .dataframe tbody tr th:only-of-type {\n",
       "        vertical-align: middle;\n",
       "    }\n",
       "\n",
       "    .dataframe tbody tr th {\n",
       "        vertical-align: top;\n",
       "    }\n",
       "\n",
       "    .dataframe thead th {\n",
       "        text-align: right;\n",
       "    }\n",
       "</style>\n",
       "<table border=\"1\" class=\"dataframe\">\n",
       "  <thead>\n",
       "    <tr style=\"text-align: right;\">\n",
       "      <th></th>\n",
       "      <th>name</th>\n",
       "      <th>ttl_qty</th>\n",
       "      <th>buy_amt</th>\n",
       "      <th>ppu</th>\n",
       "      <th>div_amt</th>\n",
       "      <th>buy_date</th>\n",
       "      <th>x_date</th>\n",
       "      <th>p_date</th>\n",
       "      <th>days</th>\n",
       "      <th>pct</th>\n",
       "      <th>year</th>\n",
       "      <th>quarter</th>\n",
       "    </tr>\n",
       "  </thead>\n",
       "  <tbody>\n",
       "    <tr>\n",
       "      <th>0</th>\n",
       "      <td>DIF</td>\n",
       "      <td>7000.0</td>\n",
       "      <td>103127.91</td>\n",
       "      <td>0.2610</td>\n",
       "      <td>1827.0</td>\n",
       "      <td>2019-07-24</td>\n",
       "      <td>2021-05-12</td>\n",
       "      <td>2021-06-04</td>\n",
       "      <td>681</td>\n",
       "      <td>0.95</td>\n",
       "      <td>2021</td>\n",
       "      <td>1</td>\n",
       "    </tr>\n",
       "    <tr>\n",
       "      <th>1</th>\n",
       "      <td>DIF</td>\n",
       "      <td>7000.0</td>\n",
       "      <td>103127.91</td>\n",
       "      <td>0.2610</td>\n",
       "      <td>1827.0</td>\n",
       "      <td>2019-07-24</td>\n",
       "      <td>2021-02-23</td>\n",
       "      <td>2021-03-12</td>\n",
       "      <td>597</td>\n",
       "      <td>1.08</td>\n",
       "      <td>2020</td>\n",
       "      <td>4</td>\n",
       "    </tr>\n",
       "    <tr>\n",
       "      <th>2</th>\n",
       "      <td>DIF</td>\n",
       "      <td>7000.0</td>\n",
       "      <td>103127.91</td>\n",
       "      <td>0.2610</td>\n",
       "      <td>1827.0</td>\n",
       "      <td>2019-07-24</td>\n",
       "      <td>2020-11-11</td>\n",
       "      <td>2020-12-04</td>\n",
       "      <td>499</td>\n",
       "      <td>1.30</td>\n",
       "      <td>2020</td>\n",
       "      <td>3</td>\n",
       "    </tr>\n",
       "    <tr>\n",
       "      <th>3</th>\n",
       "      <td>DIF</td>\n",
       "      <td>7000.0</td>\n",
       "      <td>103127.91</td>\n",
       "      <td>0.2610</td>\n",
       "      <td>1827.0</td>\n",
       "      <td>2019-07-24</td>\n",
       "      <td>2020-08-13</td>\n",
       "      <td>2020-09-08</td>\n",
       "      <td>412</td>\n",
       "      <td>1.57</td>\n",
       "      <td>2020</td>\n",
       "      <td>2</td>\n",
       "    </tr>\n",
       "    <tr>\n",
       "      <th>4</th>\n",
       "      <td>DIF</td>\n",
       "      <td>7000.0</td>\n",
       "      <td>103127.91</td>\n",
       "      <td>0.2610</td>\n",
       "      <td>1827.0</td>\n",
       "      <td>2019-07-24</td>\n",
       "      <td>2020-05-26</td>\n",
       "      <td>2020-06-11</td>\n",
       "      <td>323</td>\n",
       "      <td>2.00</td>\n",
       "      <td>2020</td>\n",
       "      <td>1</td>\n",
       "    </tr>\n",
       "    <tr>\n",
       "      <th>5</th>\n",
       "      <td>DIF</td>\n",
       "      <td>7000.0</td>\n",
       "      <td>103127.91</td>\n",
       "      <td>0.2610</td>\n",
       "      <td>1827.0</td>\n",
       "      <td>2019-07-24</td>\n",
       "      <td>2020-02-12</td>\n",
       "      <td>2020-03-03</td>\n",
       "      <td>223</td>\n",
       "      <td>2.90</td>\n",
       "      <td>2019</td>\n",
       "      <td>4</td>\n",
       "    </tr>\n",
       "    <tr>\n",
       "      <th>6</th>\n",
       "      <td>DIF</td>\n",
       "      <td>7000.0</td>\n",
       "      <td>103127.91</td>\n",
       "      <td>0.1656</td>\n",
       "      <td>1159.2</td>\n",
       "      <td>2019-07-24</td>\n",
       "      <td>2019-11-18</td>\n",
       "      <td>2019-12-04</td>\n",
       "      <td>133</td>\n",
       "      <td>3.08</td>\n",
       "      <td>2019</td>\n",
       "      <td>3</td>\n",
       "    </tr>\n",
       "    <tr>\n",
       "      <th>7</th>\n",
       "      <td>DIF</td>\n",
       "      <td>7000.0</td>\n",
       "      <td>103127.91</td>\n",
       "      <td>0.3469</td>\n",
       "      <td>2428.3</td>\n",
       "      <td>2019-07-24</td>\n",
       "      <td>2019-08-26</td>\n",
       "      <td>2019-09-11</td>\n",
       "      <td>49</td>\n",
       "      <td>17.54</td>\n",
       "      <td>2019</td>\n",
       "      <td>2</td>\n",
       "    </tr>\n",
       "  </tbody>\n",
       "</table>\n",
       "</div>"
      ],
      "text/plain": [
       "  name  ttl_qty    buy_amt     ppu  div_amt    buy_date      x_date  \\\n",
       "0  DIF   7000.0  103127.91  0.2610   1827.0  2019-07-24  2021-05-12   \n",
       "1  DIF   7000.0  103127.91  0.2610   1827.0  2019-07-24  2021-02-23   \n",
       "2  DIF   7000.0  103127.91  0.2610   1827.0  2019-07-24  2020-11-11   \n",
       "3  DIF   7000.0  103127.91  0.2610   1827.0  2019-07-24  2020-08-13   \n",
       "4  DIF   7000.0  103127.91  0.2610   1827.0  2019-07-24  2020-05-26   \n",
       "5  DIF   7000.0  103127.91  0.2610   1827.0  2019-07-24  2020-02-12   \n",
       "6  DIF   7000.0  103127.91  0.1656   1159.2  2019-07-24  2019-11-18   \n",
       "7  DIF   7000.0  103127.91  0.3469   2428.3  2019-07-24  2019-08-26   \n",
       "\n",
       "       p_date  days    pct  year  quarter  \n",
       "0  2021-06-04   681   0.95  2021        1  \n",
       "1  2021-03-12   597   1.08  2020        4  \n",
       "2  2020-12-04   499   1.30  2020        3  \n",
       "3  2020-09-08   412   1.57  2020        2  \n",
       "4  2020-06-11   323   2.00  2020        1  \n",
       "5  2020-03-03   223   2.90  2019        4  \n",
       "6  2019-12-04   133   3.08  2019        3  \n",
       "7  2019-09-11    49  17.54  2019        2  "
      ]
     },
     "execution_count": 5,
     "metadata": {},
     "output_type": "execute_result"
    }
   ],
   "source": [
    "df_merge = pd.merge(buys, dividends, on='name', how='inner')\n",
    "df_merge['div_amt'] = df_merge.ppu * df_merge.ttl_qty\n",
    "df_merge['days'] = df_merge.p_date - df_merge.buy_date\n",
    "df_merge['days'] = df_merge['days']/np.timedelta64(1,'D')\n",
    "df_merge['days'] = df_merge['days'].astype(int)\n",
    "df_merge['pct'] = round(df_merge['div_amt']/df_merge['buy_amt']*36500/df_merge['days'],2)\n",
    "df_merge[cols]"
   ]
  },
  {
   "cell_type": "code",
   "execution_count": 6,
   "metadata": {},
   "outputs": [
    {
     "data": {
      "text/plain": [
       "name\n",
       "DIF    14549.5\n",
       "Name: div_amt, dtype: float64"
      ]
     },
     "execution_count": 6,
     "metadata": {},
     "output_type": "execute_result"
    }
   ],
   "source": [
    "df_grp =df_merge.groupby(['name'])['div_amt'].sum()\n",
    "div1 = df_grp\n",
    "div1"
   ]
  },
  {
   "cell_type": "code",
   "execution_count": 7,
   "metadata": {},
   "outputs": [
    {
     "data": {
      "text/plain": [
       "('../data/div-DIF.csv',\n",
       " '\\\\Users\\\\User\\\\iCloudDrive\\\\div-DIF.csv',\n",
       " '\\\\Users\\\\User\\\\Dropbox\\\\div-DIF.csv')"
      ]
     },
     "execution_count": 7,
     "metadata": {},
     "output_type": "execute_result"
    }
   ],
   "source": [
    "file_name = 'div-' + name + '.csv'\n",
    "data_file = data_path + file_name\n",
    "output_file = csv_path + file_name\n",
    "box_file = box_path + file_name\n",
    "data_file, output_file, box_file"
   ]
  },
  {
   "cell_type": "code",
   "execution_count": 8,
   "metadata": {},
   "outputs": [],
   "source": [
    "df_merge[colt].to_csv(output_file)\n",
    "df_merge[colt].to_csv(data_file)\n",
    "df_merge[colt].to_csv(box_file)"
   ]
  },
  {
   "cell_type": "markdown",
   "metadata": {},
   "source": [
    "### 2nd batch of purchase"
   ]
  },
  {
   "cell_type": "code",
   "execution_count": 9,
   "metadata": {},
   "outputs": [],
   "source": [
    "div_year = 2019\n",
    "div_quarter = 3\n",
    "ids = '745'"
   ]
  },
  {
   "cell_type": "code",
   "execution_count": 10,
   "metadata": {},
   "outputs": [
    {
     "data": {
      "text/html": [
       "<div>\n",
       "<style scoped>\n",
       "    .dataframe tbody tr th:only-of-type {\n",
       "        vertical-align: middle;\n",
       "    }\n",
       "\n",
       "    .dataframe tbody tr th {\n",
       "        vertical-align: top;\n",
       "    }\n",
       "\n",
       "    .dataframe thead th {\n",
       "        text-align: right;\n",
       "    }\n",
       "</style>\n",
       "<table border=\"1\" class=\"dataframe\">\n",
       "  <thead>\n",
       "    <tr style=\"text-align: right;\">\n",
       "      <th></th>\n",
       "      <th>name</th>\n",
       "      <th>ttl_qty</th>\n",
       "      <th>buy_amt</th>\n",
       "      <th>buy_date</th>\n",
       "    </tr>\n",
       "  </thead>\n",
       "  <tbody>\n",
       "    <tr>\n",
       "      <th>0</th>\n",
       "      <td>DIF</td>\n",
       "      <td>5000.0</td>\n",
       "      <td>73662.8</td>\n",
       "      <td>2019-09-02</td>\n",
       "    </tr>\n",
       "  </tbody>\n",
       "</table>\n",
       "</div>"
      ],
      "text/plain": [
       "  name  ttl_qty  buy_amt    buy_date\n",
       "0  DIF   5000.0  73662.8  2019-09-02"
      ]
     },
     "execution_count": 10,
     "metadata": {},
     "output_type": "execute_result"
    }
   ],
   "source": [
    "sql = '''\n",
    "SELECT T.name, SUM(qty) AS ttl_qty, \n",
    "SUM(B.net) AS buy_amt, MIN(date) AS buy_date\n",
    "FROM buys B\n",
    "JOIN stocks T ON B.stock_id = T.id \n",
    "WHERE B.id IN (%s)\n",
    "GROUP BY T.name'''\n",
    "sql = sql % (ids)\n",
    "buys = pd.read_sql(sql, conpf)\n",
    "buys"
   ]
  },
  {
   "cell_type": "code",
   "execution_count": 11,
   "metadata": {},
   "outputs": [
    {
     "data": {
      "text/html": [
       "<style  type=\"text/css\" >\n",
       "</style><table id=\"T_018d7ec8_c8f8_11eb_a4cf_5cbaef7ebc1c\" ><thead>    <tr>        <th class=\"blank level0\" ></th>        <th class=\"col_heading level0 col0\" >id</th>        <th class=\"col_heading level0 col1\" >name</th>        <th class=\"col_heading level0 col2\" >year</th>        <th class=\"col_heading level0 col3\" >quarter</th>        <th class=\"col_heading level0 col4\" >number</th>        <th class=\"col_heading level0 col5\" >ppu</th>        <th class=\"col_heading level0 col6\" >div_amt</th>        <th class=\"col_heading level0 col7\" >x_date</th>        <th class=\"col_heading level0 col8\" >p_date</th>    </tr></thead><tbody>\n",
       "                <tr>\n",
       "                        <th id=\"T_018d7ec8_c8f8_11eb_a4cf_5cbaef7ebc1clevel0_row0\" class=\"row_heading level0 row0\" >0</th>\n",
       "                        <td id=\"T_018d7ec8_c8f8_11eb_a4cf_5cbaef7ebc1crow0_col0\" class=\"data row0 col0\" >235</td>\n",
       "                        <td id=\"T_018d7ec8_c8f8_11eb_a4cf_5cbaef7ebc1crow0_col1\" class=\"data row0 col1\" >DIF</td>\n",
       "                        <td id=\"T_018d7ec8_c8f8_11eb_a4cf_5cbaef7ebc1crow0_col2\" class=\"data row0 col2\" >2021</td>\n",
       "                        <td id=\"T_018d7ec8_c8f8_11eb_a4cf_5cbaef7ebc1crow0_col3\" class=\"data row0 col3\" >1</td>\n",
       "                        <td id=\"T_018d7ec8_c8f8_11eb_a4cf_5cbaef7ebc1crow0_col4\" class=\"data row0 col4\" >100,000</td>\n",
       "                        <td id=\"T_018d7ec8_c8f8_11eb_a4cf_5cbaef7ebc1crow0_col5\" class=\"data row0 col5\" >0.2610</td>\n",
       "                        <td id=\"T_018d7ec8_c8f8_11eb_a4cf_5cbaef7ebc1crow0_col6\" class=\"data row0 col6\" >26,100.00</td>\n",
       "                        <td id=\"T_018d7ec8_c8f8_11eb_a4cf_5cbaef7ebc1crow0_col7\" class=\"data row0 col7\" >2021-05-12</td>\n",
       "                        <td id=\"T_018d7ec8_c8f8_11eb_a4cf_5cbaef7ebc1crow0_col8\" class=\"data row0 col8\" >2021-06-04</td>\n",
       "            </tr>\n",
       "            <tr>\n",
       "                        <th id=\"T_018d7ec8_c8f8_11eb_a4cf_5cbaef7ebc1clevel0_row1\" class=\"row_heading level0 row1\" >1</th>\n",
       "                        <td id=\"T_018d7ec8_c8f8_11eb_a4cf_5cbaef7ebc1crow1_col0\" class=\"data row1 col0\" >197</td>\n",
       "                        <td id=\"T_018d7ec8_c8f8_11eb_a4cf_5cbaef7ebc1crow1_col1\" class=\"data row1 col1\" >DIF</td>\n",
       "                        <td id=\"T_018d7ec8_c8f8_11eb_a4cf_5cbaef7ebc1crow1_col2\" class=\"data row1 col2\" >2020</td>\n",
       "                        <td id=\"T_018d7ec8_c8f8_11eb_a4cf_5cbaef7ebc1crow1_col3\" class=\"data row1 col3\" >4</td>\n",
       "                        <td id=\"T_018d7ec8_c8f8_11eb_a4cf_5cbaef7ebc1crow1_col4\" class=\"data row1 col4\" >80,000</td>\n",
       "                        <td id=\"T_018d7ec8_c8f8_11eb_a4cf_5cbaef7ebc1crow1_col5\" class=\"data row1 col5\" >0.2610</td>\n",
       "                        <td id=\"T_018d7ec8_c8f8_11eb_a4cf_5cbaef7ebc1crow1_col6\" class=\"data row1 col6\" >20,880.00</td>\n",
       "                        <td id=\"T_018d7ec8_c8f8_11eb_a4cf_5cbaef7ebc1crow1_col7\" class=\"data row1 col7\" >2021-02-23</td>\n",
       "                        <td id=\"T_018d7ec8_c8f8_11eb_a4cf_5cbaef7ebc1crow1_col8\" class=\"data row1 col8\" >2021-03-12</td>\n",
       "            </tr>\n",
       "            <tr>\n",
       "                        <th id=\"T_018d7ec8_c8f8_11eb_a4cf_5cbaef7ebc1clevel0_row2\" class=\"row_heading level0 row2\" >2</th>\n",
       "                        <td id=\"T_018d7ec8_c8f8_11eb_a4cf_5cbaef7ebc1crow2_col0\" class=\"data row2 col0\" >190</td>\n",
       "                        <td id=\"T_018d7ec8_c8f8_11eb_a4cf_5cbaef7ebc1crow2_col1\" class=\"data row2 col1\" >DIF</td>\n",
       "                        <td id=\"T_018d7ec8_c8f8_11eb_a4cf_5cbaef7ebc1crow2_col2\" class=\"data row2 col2\" >2020</td>\n",
       "                        <td id=\"T_018d7ec8_c8f8_11eb_a4cf_5cbaef7ebc1crow2_col3\" class=\"data row2 col3\" >3</td>\n",
       "                        <td id=\"T_018d7ec8_c8f8_11eb_a4cf_5cbaef7ebc1crow2_col4\" class=\"data row2 col4\" >70,000</td>\n",
       "                        <td id=\"T_018d7ec8_c8f8_11eb_a4cf_5cbaef7ebc1crow2_col5\" class=\"data row2 col5\" >0.2610</td>\n",
       "                        <td id=\"T_018d7ec8_c8f8_11eb_a4cf_5cbaef7ebc1crow2_col6\" class=\"data row2 col6\" >18,270.00</td>\n",
       "                        <td id=\"T_018d7ec8_c8f8_11eb_a4cf_5cbaef7ebc1crow2_col7\" class=\"data row2 col7\" >2020-11-11</td>\n",
       "                        <td id=\"T_018d7ec8_c8f8_11eb_a4cf_5cbaef7ebc1crow2_col8\" class=\"data row2 col8\" >2020-12-04</td>\n",
       "            </tr>\n",
       "            <tr>\n",
       "                        <th id=\"T_018d7ec8_c8f8_11eb_a4cf_5cbaef7ebc1clevel0_row3\" class=\"row_heading level0 row3\" >3</th>\n",
       "                        <td id=\"T_018d7ec8_c8f8_11eb_a4cf_5cbaef7ebc1crow3_col0\" class=\"data row3 col0\" >3</td>\n",
       "                        <td id=\"T_018d7ec8_c8f8_11eb_a4cf_5cbaef7ebc1crow3_col1\" class=\"data row3 col1\" >DIF</td>\n",
       "                        <td id=\"T_018d7ec8_c8f8_11eb_a4cf_5cbaef7ebc1crow3_col2\" class=\"data row3 col2\" >2020</td>\n",
       "                        <td id=\"T_018d7ec8_c8f8_11eb_a4cf_5cbaef7ebc1crow3_col3\" class=\"data row3 col3\" >2</td>\n",
       "                        <td id=\"T_018d7ec8_c8f8_11eb_a4cf_5cbaef7ebc1crow3_col4\" class=\"data row3 col4\" >60,000</td>\n",
       "                        <td id=\"T_018d7ec8_c8f8_11eb_a4cf_5cbaef7ebc1crow3_col5\" class=\"data row3 col5\" >0.2610</td>\n",
       "                        <td id=\"T_018d7ec8_c8f8_11eb_a4cf_5cbaef7ebc1crow3_col6\" class=\"data row3 col6\" >15,660.00</td>\n",
       "                        <td id=\"T_018d7ec8_c8f8_11eb_a4cf_5cbaef7ebc1crow3_col7\" class=\"data row3 col7\" >2020-08-13</td>\n",
       "                        <td id=\"T_018d7ec8_c8f8_11eb_a4cf_5cbaef7ebc1crow3_col8\" class=\"data row3 col8\" >2020-09-08</td>\n",
       "            </tr>\n",
       "            <tr>\n",
       "                        <th id=\"T_018d7ec8_c8f8_11eb_a4cf_5cbaef7ebc1clevel0_row4\" class=\"row_heading level0 row4\" >4</th>\n",
       "                        <td id=\"T_018d7ec8_c8f8_11eb_a4cf_5cbaef7ebc1crow4_col0\" class=\"data row4 col0\" >6</td>\n",
       "                        <td id=\"T_018d7ec8_c8f8_11eb_a4cf_5cbaef7ebc1crow4_col1\" class=\"data row4 col1\" >DIF</td>\n",
       "                        <td id=\"T_018d7ec8_c8f8_11eb_a4cf_5cbaef7ebc1crow4_col2\" class=\"data row4 col2\" >2020</td>\n",
       "                        <td id=\"T_018d7ec8_c8f8_11eb_a4cf_5cbaef7ebc1crow4_col3\" class=\"data row4 col3\" >1</td>\n",
       "                        <td id=\"T_018d7ec8_c8f8_11eb_a4cf_5cbaef7ebc1crow4_col4\" class=\"data row4 col4\" >52,000</td>\n",
       "                        <td id=\"T_018d7ec8_c8f8_11eb_a4cf_5cbaef7ebc1crow4_col5\" class=\"data row4 col5\" >0.2610</td>\n",
       "                        <td id=\"T_018d7ec8_c8f8_11eb_a4cf_5cbaef7ebc1crow4_col6\" class=\"data row4 col6\" >13,572.00</td>\n",
       "                        <td id=\"T_018d7ec8_c8f8_11eb_a4cf_5cbaef7ebc1crow4_col7\" class=\"data row4 col7\" >2020-05-26</td>\n",
       "                        <td id=\"T_018d7ec8_c8f8_11eb_a4cf_5cbaef7ebc1crow4_col8\" class=\"data row4 col8\" >2020-06-11</td>\n",
       "            </tr>\n",
       "            <tr>\n",
       "                        <th id=\"T_018d7ec8_c8f8_11eb_a4cf_5cbaef7ebc1clevel0_row5\" class=\"row_heading level0 row5\" >5</th>\n",
       "                        <td id=\"T_018d7ec8_c8f8_11eb_a4cf_5cbaef7ebc1crow5_col0\" class=\"data row5 col0\" >31</td>\n",
       "                        <td id=\"T_018d7ec8_c8f8_11eb_a4cf_5cbaef7ebc1crow5_col1\" class=\"data row5 col1\" >DIF</td>\n",
       "                        <td id=\"T_018d7ec8_c8f8_11eb_a4cf_5cbaef7ebc1crow5_col2\" class=\"data row5 col2\" >2019</td>\n",
       "                        <td id=\"T_018d7ec8_c8f8_11eb_a4cf_5cbaef7ebc1crow5_col3\" class=\"data row5 col3\" >4</td>\n",
       "                        <td id=\"T_018d7ec8_c8f8_11eb_a4cf_5cbaef7ebc1crow5_col4\" class=\"data row5 col4\" >52,000</td>\n",
       "                        <td id=\"T_018d7ec8_c8f8_11eb_a4cf_5cbaef7ebc1crow5_col5\" class=\"data row5 col5\" >0.2610</td>\n",
       "                        <td id=\"T_018d7ec8_c8f8_11eb_a4cf_5cbaef7ebc1crow5_col6\" class=\"data row5 col6\" >13,572.00</td>\n",
       "                        <td id=\"T_018d7ec8_c8f8_11eb_a4cf_5cbaef7ebc1crow5_col7\" class=\"data row5 col7\" >2020-02-12</td>\n",
       "                        <td id=\"T_018d7ec8_c8f8_11eb_a4cf_5cbaef7ebc1crow5_col8\" class=\"data row5 col8\" >2020-03-03</td>\n",
       "            </tr>\n",
       "            <tr>\n",
       "                        <th id=\"T_018d7ec8_c8f8_11eb_a4cf_5cbaef7ebc1clevel0_row6\" class=\"row_heading level0 row6\" >6</th>\n",
       "                        <td id=\"T_018d7ec8_c8f8_11eb_a4cf_5cbaef7ebc1crow6_col0\" class=\"data row6 col0\" >36</td>\n",
       "                        <td id=\"T_018d7ec8_c8f8_11eb_a4cf_5cbaef7ebc1crow6_col1\" class=\"data row6 col1\" >DIF</td>\n",
       "                        <td id=\"T_018d7ec8_c8f8_11eb_a4cf_5cbaef7ebc1crow6_col2\" class=\"data row6 col2\" >2019</td>\n",
       "                        <td id=\"T_018d7ec8_c8f8_11eb_a4cf_5cbaef7ebc1crow6_col3\" class=\"data row6 col3\" >3</td>\n",
       "                        <td id=\"T_018d7ec8_c8f8_11eb_a4cf_5cbaef7ebc1crow6_col4\" class=\"data row6 col4\" >52,000</td>\n",
       "                        <td id=\"T_018d7ec8_c8f8_11eb_a4cf_5cbaef7ebc1crow6_col5\" class=\"data row6 col5\" >0.1656</td>\n",
       "                        <td id=\"T_018d7ec8_c8f8_11eb_a4cf_5cbaef7ebc1crow6_col6\" class=\"data row6 col6\" >8,611.20</td>\n",
       "                        <td id=\"T_018d7ec8_c8f8_11eb_a4cf_5cbaef7ebc1crow6_col7\" class=\"data row6 col7\" >2019-11-18</td>\n",
       "                        <td id=\"T_018d7ec8_c8f8_11eb_a4cf_5cbaef7ebc1crow6_col8\" class=\"data row6 col8\" >2019-12-04</td>\n",
       "            </tr>\n",
       "    </tbody></table>"
      ],
      "text/plain": [
       "<pandas.io.formats.style.Styler at 0x183eb24a1c0>"
      ]
     },
     "execution_count": 11,
     "metadata": {},
     "output_type": "execute_result"
    }
   ],
   "source": [
    "sql = \"\"\"\n",
    "SELECT id, name, year, quarter, number, ppu, net AS div_amt, x_date, p_date\n",
    "FROM dividends\n",
    "WHERE name ='%s'\n",
    "AND ((year = %s AND quarter >= %s) \n",
    "OR (year > %s))\n",
    "ORDER BY name, year DESC, quarter DESC\n",
    "\"\"\"\n",
    "sql = sql % (name, div_year, div_quarter, div_year)\n",
    "dividends = pd.read_sql(sql, conpf)\n",
    "dividends.style.format(format_dict)"
   ]
  },
  {
   "cell_type": "code",
   "execution_count": 12,
   "metadata": {},
   "outputs": [
    {
     "data": {
      "text/html": [
       "<div>\n",
       "<style scoped>\n",
       "    .dataframe tbody tr th:only-of-type {\n",
       "        vertical-align: middle;\n",
       "    }\n",
       "\n",
       "    .dataframe tbody tr th {\n",
       "        vertical-align: top;\n",
       "    }\n",
       "\n",
       "    .dataframe thead th {\n",
       "        text-align: right;\n",
       "    }\n",
       "</style>\n",
       "<table border=\"1\" class=\"dataframe\">\n",
       "  <thead>\n",
       "    <tr style=\"text-align: right;\">\n",
       "      <th></th>\n",
       "      <th>name</th>\n",
       "      <th>ttl_qty</th>\n",
       "      <th>buy_amt</th>\n",
       "      <th>ppu</th>\n",
       "      <th>div_amt</th>\n",
       "      <th>buy_date</th>\n",
       "      <th>x_date</th>\n",
       "      <th>p_date</th>\n",
       "      <th>days</th>\n",
       "      <th>pct</th>\n",
       "      <th>year</th>\n",
       "      <th>quarter</th>\n",
       "    </tr>\n",
       "  </thead>\n",
       "  <tbody>\n",
       "    <tr>\n",
       "      <th>0</th>\n",
       "      <td>DIF</td>\n",
       "      <td>5000.0</td>\n",
       "      <td>73662.8</td>\n",
       "      <td>0.2610</td>\n",
       "      <td>1305.0</td>\n",
       "      <td>2019-09-02</td>\n",
       "      <td>2021-05-12</td>\n",
       "      <td>2021-06-04</td>\n",
       "      <td>641</td>\n",
       "      <td>1.01</td>\n",
       "      <td>2021</td>\n",
       "      <td>1</td>\n",
       "    </tr>\n",
       "    <tr>\n",
       "      <th>1</th>\n",
       "      <td>DIF</td>\n",
       "      <td>5000.0</td>\n",
       "      <td>73662.8</td>\n",
       "      <td>0.2610</td>\n",
       "      <td>1305.0</td>\n",
       "      <td>2019-09-02</td>\n",
       "      <td>2021-02-23</td>\n",
       "      <td>2021-03-12</td>\n",
       "      <td>557</td>\n",
       "      <td>1.16</td>\n",
       "      <td>2020</td>\n",
       "      <td>4</td>\n",
       "    </tr>\n",
       "    <tr>\n",
       "      <th>2</th>\n",
       "      <td>DIF</td>\n",
       "      <td>5000.0</td>\n",
       "      <td>73662.8</td>\n",
       "      <td>0.2610</td>\n",
       "      <td>1305.0</td>\n",
       "      <td>2019-09-02</td>\n",
       "      <td>2020-11-11</td>\n",
       "      <td>2020-12-04</td>\n",
       "      <td>459</td>\n",
       "      <td>1.41</td>\n",
       "      <td>2020</td>\n",
       "      <td>3</td>\n",
       "    </tr>\n",
       "    <tr>\n",
       "      <th>3</th>\n",
       "      <td>DIF</td>\n",
       "      <td>5000.0</td>\n",
       "      <td>73662.8</td>\n",
       "      <td>0.2610</td>\n",
       "      <td>1305.0</td>\n",
       "      <td>2019-09-02</td>\n",
       "      <td>2020-08-13</td>\n",
       "      <td>2020-09-08</td>\n",
       "      <td>372</td>\n",
       "      <td>1.74</td>\n",
       "      <td>2020</td>\n",
       "      <td>2</td>\n",
       "    </tr>\n",
       "    <tr>\n",
       "      <th>4</th>\n",
       "      <td>DIF</td>\n",
       "      <td>5000.0</td>\n",
       "      <td>73662.8</td>\n",
       "      <td>0.2610</td>\n",
       "      <td>1305.0</td>\n",
       "      <td>2019-09-02</td>\n",
       "      <td>2020-05-26</td>\n",
       "      <td>2020-06-11</td>\n",
       "      <td>283</td>\n",
       "      <td>2.28</td>\n",
       "      <td>2020</td>\n",
       "      <td>1</td>\n",
       "    </tr>\n",
       "    <tr>\n",
       "      <th>5</th>\n",
       "      <td>DIF</td>\n",
       "      <td>5000.0</td>\n",
       "      <td>73662.8</td>\n",
       "      <td>0.2610</td>\n",
       "      <td>1305.0</td>\n",
       "      <td>2019-09-02</td>\n",
       "      <td>2020-02-12</td>\n",
       "      <td>2020-03-03</td>\n",
       "      <td>183</td>\n",
       "      <td>3.53</td>\n",
       "      <td>2019</td>\n",
       "      <td>4</td>\n",
       "    </tr>\n",
       "    <tr>\n",
       "      <th>6</th>\n",
       "      <td>DIF</td>\n",
       "      <td>5000.0</td>\n",
       "      <td>73662.8</td>\n",
       "      <td>0.1656</td>\n",
       "      <td>828.0</td>\n",
       "      <td>2019-09-02</td>\n",
       "      <td>2019-11-18</td>\n",
       "      <td>2019-12-04</td>\n",
       "      <td>93</td>\n",
       "      <td>4.41</td>\n",
       "      <td>2019</td>\n",
       "      <td>3</td>\n",
       "    </tr>\n",
       "  </tbody>\n",
       "</table>\n",
       "</div>"
      ],
      "text/plain": [
       "  name  ttl_qty  buy_amt     ppu  div_amt    buy_date      x_date      p_date  \\\n",
       "0  DIF   5000.0  73662.8  0.2610   1305.0  2019-09-02  2021-05-12  2021-06-04   \n",
       "1  DIF   5000.0  73662.8  0.2610   1305.0  2019-09-02  2021-02-23  2021-03-12   \n",
       "2  DIF   5000.0  73662.8  0.2610   1305.0  2019-09-02  2020-11-11  2020-12-04   \n",
       "3  DIF   5000.0  73662.8  0.2610   1305.0  2019-09-02  2020-08-13  2020-09-08   \n",
       "4  DIF   5000.0  73662.8  0.2610   1305.0  2019-09-02  2020-05-26  2020-06-11   \n",
       "5  DIF   5000.0  73662.8  0.2610   1305.0  2019-09-02  2020-02-12  2020-03-03   \n",
       "6  DIF   5000.0  73662.8  0.1656    828.0  2019-09-02  2019-11-18  2019-12-04   \n",
       "\n",
       "   days   pct  year  quarter  \n",
       "0   641  1.01  2021        1  \n",
       "1   557  1.16  2020        4  \n",
       "2   459  1.41  2020        3  \n",
       "3   372  1.74  2020        2  \n",
       "4   283  2.28  2020        1  \n",
       "5   183  3.53  2019        4  \n",
       "6    93  4.41  2019        3  "
      ]
     },
     "execution_count": 12,
     "metadata": {},
     "output_type": "execute_result"
    }
   ],
   "source": [
    "df_merge = pd.merge(buys, dividends, on='name', how='inner')\n",
    "df_merge['div_amt'] = df_merge.ppu * df_merge.ttl_qty\n",
    "df_merge['days'] = df_merge.p_date - df_merge.buy_date\n",
    "df_merge['days'] = df_merge['days']/np.timedelta64(1,'D')\n",
    "df_merge['days'] = df_merge['days'].astype(int)\n",
    "df_merge['pct'] = round(df_merge['div_amt']/df_merge['buy_amt']*36500/df_merge['days'],2)\n",
    "df_merge[cols]"
   ]
  },
  {
   "cell_type": "code",
   "execution_count": 13,
   "metadata": {},
   "outputs": [
    {
     "data": {
      "text/plain": [
       "name\n",
       "DIF    8658.0\n",
       "Name: div_amt, dtype: float64"
      ]
     },
     "execution_count": 13,
     "metadata": {},
     "output_type": "execute_result"
    }
   ],
   "source": [
    "df_grp =df_merge.groupby(['name'])['div_amt'].sum()\n",
    "div3 = df_grp\n",
    "div3"
   ]
  },
  {
   "cell_type": "code",
   "execution_count": 14,
   "metadata": {},
   "outputs": [],
   "source": [
    "df_merge[colt].to_csv(output_file,mode='a',header=False)\n",
    "df_merge[colt].to_csv(data_file,mode='a',header=False)\n",
    "df_merge[colt].to_csv(box_file,mode='a',header=False)"
   ]
  },
  {
   "cell_type": "markdown",
   "metadata": {},
   "source": [
    "### 3rd batch of purchase"
   ]
  },
  {
   "cell_type": "code",
   "execution_count": 15,
   "metadata": {},
   "outputs": [],
   "source": [
    "div_year = 2020\n",
    "div_quarter = 2\n",
    "ids = '781'"
   ]
  },
  {
   "cell_type": "code",
   "execution_count": 16,
   "metadata": {},
   "outputs": [
    {
     "data": {
      "text/html": [
       "<div>\n",
       "<style scoped>\n",
       "    .dataframe tbody tr th:only-of-type {\n",
       "        vertical-align: middle;\n",
       "    }\n",
       "\n",
       "    .dataframe tbody tr th {\n",
       "        vertical-align: top;\n",
       "    }\n",
       "\n",
       "    .dataframe thead th {\n",
       "        text-align: right;\n",
       "    }\n",
       "</style>\n",
       "<table border=\"1\" class=\"dataframe\">\n",
       "  <thead>\n",
       "    <tr style=\"text-align: right;\">\n",
       "      <th></th>\n",
       "      <th>name</th>\n",
       "      <th>ttl_qty</th>\n",
       "      <th>buy_amt</th>\n",
       "      <th>buy_date</th>\n",
       "    </tr>\n",
       "  </thead>\n",
       "  <tbody>\n",
       "    <tr>\n",
       "      <th>0</th>\n",
       "      <td>DIF</td>\n",
       "      <td>8000.0</td>\n",
       "      <td>109860.47</td>\n",
       "      <td>2020-08-01</td>\n",
       "    </tr>\n",
       "  </tbody>\n",
       "</table>\n",
       "</div>"
      ],
      "text/plain": [
       "  name  ttl_qty    buy_amt    buy_date\n",
       "0  DIF   8000.0  109860.47  2020-08-01"
      ]
     },
     "execution_count": 16,
     "metadata": {},
     "output_type": "execute_result"
    }
   ],
   "source": [
    "sql = '''\n",
    "SELECT T.name, SUM(qty) AS ttl_qty, \n",
    "SUM(B.net)-8000 AS buy_amt, MIN(date) AS buy_date\n",
    "FROM buys B\n",
    "JOIN stocks T ON B.stock_id = T.id \n",
    "WHERE B.id IN (%s)\n",
    "GROUP BY T.name'''\n",
    "sql = sql % (ids)\n",
    "buys = pd.read_sql(sql, conpf)\n",
    "buys"
   ]
  },
  {
   "cell_type": "code",
   "execution_count": 17,
   "metadata": {},
   "outputs": [
    {
     "data": {
      "text/html": [
       "<style  type=\"text/css\" >\n",
       "</style><table id=\"T_1dbf12ab_c8f8_11eb_a1de_5cbaef7ebc1c\" ><thead>    <tr>        <th class=\"blank level0\" ></th>        <th class=\"col_heading level0 col0\" >id</th>        <th class=\"col_heading level0 col1\" >name</th>        <th class=\"col_heading level0 col2\" >year</th>        <th class=\"col_heading level0 col3\" >quarter</th>        <th class=\"col_heading level0 col4\" >number</th>        <th class=\"col_heading level0 col5\" >ppu</th>        <th class=\"col_heading level0 col6\" >div_amt</th>        <th class=\"col_heading level0 col7\" >x_date</th>        <th class=\"col_heading level0 col8\" >p_date</th>    </tr></thead><tbody>\n",
       "                <tr>\n",
       "                        <th id=\"T_1dbf12ab_c8f8_11eb_a1de_5cbaef7ebc1clevel0_row0\" class=\"row_heading level0 row0\" >0</th>\n",
       "                        <td id=\"T_1dbf12ab_c8f8_11eb_a1de_5cbaef7ebc1crow0_col0\" class=\"data row0 col0\" >235</td>\n",
       "                        <td id=\"T_1dbf12ab_c8f8_11eb_a1de_5cbaef7ebc1crow0_col1\" class=\"data row0 col1\" >DIF</td>\n",
       "                        <td id=\"T_1dbf12ab_c8f8_11eb_a1de_5cbaef7ebc1crow0_col2\" class=\"data row0 col2\" >2021</td>\n",
       "                        <td id=\"T_1dbf12ab_c8f8_11eb_a1de_5cbaef7ebc1crow0_col3\" class=\"data row0 col3\" >1</td>\n",
       "                        <td id=\"T_1dbf12ab_c8f8_11eb_a1de_5cbaef7ebc1crow0_col4\" class=\"data row0 col4\" >100,000</td>\n",
       "                        <td id=\"T_1dbf12ab_c8f8_11eb_a1de_5cbaef7ebc1crow0_col5\" class=\"data row0 col5\" >0.2610</td>\n",
       "                        <td id=\"T_1dbf12ab_c8f8_11eb_a1de_5cbaef7ebc1crow0_col6\" class=\"data row0 col6\" >26,100.00</td>\n",
       "                        <td id=\"T_1dbf12ab_c8f8_11eb_a1de_5cbaef7ebc1crow0_col7\" class=\"data row0 col7\" >2021-05-12</td>\n",
       "                        <td id=\"T_1dbf12ab_c8f8_11eb_a1de_5cbaef7ebc1crow0_col8\" class=\"data row0 col8\" >2021-06-04</td>\n",
       "            </tr>\n",
       "            <tr>\n",
       "                        <th id=\"T_1dbf12ab_c8f8_11eb_a1de_5cbaef7ebc1clevel0_row1\" class=\"row_heading level0 row1\" >1</th>\n",
       "                        <td id=\"T_1dbf12ab_c8f8_11eb_a1de_5cbaef7ebc1crow1_col0\" class=\"data row1 col0\" >197</td>\n",
       "                        <td id=\"T_1dbf12ab_c8f8_11eb_a1de_5cbaef7ebc1crow1_col1\" class=\"data row1 col1\" >DIF</td>\n",
       "                        <td id=\"T_1dbf12ab_c8f8_11eb_a1de_5cbaef7ebc1crow1_col2\" class=\"data row1 col2\" >2020</td>\n",
       "                        <td id=\"T_1dbf12ab_c8f8_11eb_a1de_5cbaef7ebc1crow1_col3\" class=\"data row1 col3\" >4</td>\n",
       "                        <td id=\"T_1dbf12ab_c8f8_11eb_a1de_5cbaef7ebc1crow1_col4\" class=\"data row1 col4\" >80,000</td>\n",
       "                        <td id=\"T_1dbf12ab_c8f8_11eb_a1de_5cbaef7ebc1crow1_col5\" class=\"data row1 col5\" >0.2610</td>\n",
       "                        <td id=\"T_1dbf12ab_c8f8_11eb_a1de_5cbaef7ebc1crow1_col6\" class=\"data row1 col6\" >20,880.00</td>\n",
       "                        <td id=\"T_1dbf12ab_c8f8_11eb_a1de_5cbaef7ebc1crow1_col7\" class=\"data row1 col7\" >2021-02-23</td>\n",
       "                        <td id=\"T_1dbf12ab_c8f8_11eb_a1de_5cbaef7ebc1crow1_col8\" class=\"data row1 col8\" >2021-03-12</td>\n",
       "            </tr>\n",
       "            <tr>\n",
       "                        <th id=\"T_1dbf12ab_c8f8_11eb_a1de_5cbaef7ebc1clevel0_row2\" class=\"row_heading level0 row2\" >2</th>\n",
       "                        <td id=\"T_1dbf12ab_c8f8_11eb_a1de_5cbaef7ebc1crow2_col0\" class=\"data row2 col0\" >190</td>\n",
       "                        <td id=\"T_1dbf12ab_c8f8_11eb_a1de_5cbaef7ebc1crow2_col1\" class=\"data row2 col1\" >DIF</td>\n",
       "                        <td id=\"T_1dbf12ab_c8f8_11eb_a1de_5cbaef7ebc1crow2_col2\" class=\"data row2 col2\" >2020</td>\n",
       "                        <td id=\"T_1dbf12ab_c8f8_11eb_a1de_5cbaef7ebc1crow2_col3\" class=\"data row2 col3\" >3</td>\n",
       "                        <td id=\"T_1dbf12ab_c8f8_11eb_a1de_5cbaef7ebc1crow2_col4\" class=\"data row2 col4\" >70,000</td>\n",
       "                        <td id=\"T_1dbf12ab_c8f8_11eb_a1de_5cbaef7ebc1crow2_col5\" class=\"data row2 col5\" >0.2610</td>\n",
       "                        <td id=\"T_1dbf12ab_c8f8_11eb_a1de_5cbaef7ebc1crow2_col6\" class=\"data row2 col6\" >18,270.00</td>\n",
       "                        <td id=\"T_1dbf12ab_c8f8_11eb_a1de_5cbaef7ebc1crow2_col7\" class=\"data row2 col7\" >2020-11-11</td>\n",
       "                        <td id=\"T_1dbf12ab_c8f8_11eb_a1de_5cbaef7ebc1crow2_col8\" class=\"data row2 col8\" >2020-12-04</td>\n",
       "            </tr>\n",
       "            <tr>\n",
       "                        <th id=\"T_1dbf12ab_c8f8_11eb_a1de_5cbaef7ebc1clevel0_row3\" class=\"row_heading level0 row3\" >3</th>\n",
       "                        <td id=\"T_1dbf12ab_c8f8_11eb_a1de_5cbaef7ebc1crow3_col0\" class=\"data row3 col0\" >3</td>\n",
       "                        <td id=\"T_1dbf12ab_c8f8_11eb_a1de_5cbaef7ebc1crow3_col1\" class=\"data row3 col1\" >DIF</td>\n",
       "                        <td id=\"T_1dbf12ab_c8f8_11eb_a1de_5cbaef7ebc1crow3_col2\" class=\"data row3 col2\" >2020</td>\n",
       "                        <td id=\"T_1dbf12ab_c8f8_11eb_a1de_5cbaef7ebc1crow3_col3\" class=\"data row3 col3\" >2</td>\n",
       "                        <td id=\"T_1dbf12ab_c8f8_11eb_a1de_5cbaef7ebc1crow3_col4\" class=\"data row3 col4\" >60,000</td>\n",
       "                        <td id=\"T_1dbf12ab_c8f8_11eb_a1de_5cbaef7ebc1crow3_col5\" class=\"data row3 col5\" >0.2610</td>\n",
       "                        <td id=\"T_1dbf12ab_c8f8_11eb_a1de_5cbaef7ebc1crow3_col6\" class=\"data row3 col6\" >15,660.00</td>\n",
       "                        <td id=\"T_1dbf12ab_c8f8_11eb_a1de_5cbaef7ebc1crow3_col7\" class=\"data row3 col7\" >2020-08-13</td>\n",
       "                        <td id=\"T_1dbf12ab_c8f8_11eb_a1de_5cbaef7ebc1crow3_col8\" class=\"data row3 col8\" >2020-09-08</td>\n",
       "            </tr>\n",
       "    </tbody></table>"
      ],
      "text/plain": [
       "<pandas.io.formats.style.Styler at 0x183e7b119a0>"
      ]
     },
     "execution_count": 17,
     "metadata": {},
     "output_type": "execute_result"
    }
   ],
   "source": [
    "sql = \"\"\"\n",
    "SELECT id, name, year, quarter, number, ppu, net AS div_amt, x_date, p_date\n",
    "FROM dividends\n",
    "WHERE name ='%s'\n",
    "AND ((year = %s AND quarter >= %s) \n",
    "OR (year > %s))\n",
    "ORDER BY name, year DESC, quarter DESC\n",
    "\"\"\"\n",
    "sql = sql % (name, div_year, div_quarter, div_year)\n",
    "dividends = pd.read_sql(sql, conpf)\n",
    "dividends.style.format(format_dict)"
   ]
  },
  {
   "cell_type": "code",
   "execution_count": 18,
   "metadata": {},
   "outputs": [
    {
     "data": {
      "text/html": [
       "<div>\n",
       "<style scoped>\n",
       "    .dataframe tbody tr th:only-of-type {\n",
       "        vertical-align: middle;\n",
       "    }\n",
       "\n",
       "    .dataframe tbody tr th {\n",
       "        vertical-align: top;\n",
       "    }\n",
       "\n",
       "    .dataframe thead th {\n",
       "        text-align: right;\n",
       "    }\n",
       "</style>\n",
       "<table border=\"1\" class=\"dataframe\">\n",
       "  <thead>\n",
       "    <tr style=\"text-align: right;\">\n",
       "      <th></th>\n",
       "      <th>name</th>\n",
       "      <th>ttl_qty</th>\n",
       "      <th>buy_amt</th>\n",
       "      <th>ppu</th>\n",
       "      <th>div_amt</th>\n",
       "      <th>buy_date</th>\n",
       "      <th>x_date</th>\n",
       "      <th>p_date</th>\n",
       "      <th>days</th>\n",
       "      <th>pct</th>\n",
       "      <th>year</th>\n",
       "      <th>quarter</th>\n",
       "    </tr>\n",
       "  </thead>\n",
       "  <tbody>\n",
       "    <tr>\n",
       "      <th>0</th>\n",
       "      <td>DIF</td>\n",
       "      <td>8000.0</td>\n",
       "      <td>109860.47</td>\n",
       "      <td>0.261</td>\n",
       "      <td>2088.0</td>\n",
       "      <td>2020-08-01</td>\n",
       "      <td>2021-05-12</td>\n",
       "      <td>2021-06-04</td>\n",
       "      <td>307</td>\n",
       "      <td>2.26</td>\n",
       "      <td>2021</td>\n",
       "      <td>1</td>\n",
       "    </tr>\n",
       "    <tr>\n",
       "      <th>1</th>\n",
       "      <td>DIF</td>\n",
       "      <td>8000.0</td>\n",
       "      <td>109860.47</td>\n",
       "      <td>0.261</td>\n",
       "      <td>2088.0</td>\n",
       "      <td>2020-08-01</td>\n",
       "      <td>2021-02-23</td>\n",
       "      <td>2021-03-12</td>\n",
       "      <td>223</td>\n",
       "      <td>3.11</td>\n",
       "      <td>2020</td>\n",
       "      <td>4</td>\n",
       "    </tr>\n",
       "    <tr>\n",
       "      <th>2</th>\n",
       "      <td>DIF</td>\n",
       "      <td>8000.0</td>\n",
       "      <td>109860.47</td>\n",
       "      <td>0.261</td>\n",
       "      <td>2088.0</td>\n",
       "      <td>2020-08-01</td>\n",
       "      <td>2020-11-11</td>\n",
       "      <td>2020-12-04</td>\n",
       "      <td>125</td>\n",
       "      <td>5.55</td>\n",
       "      <td>2020</td>\n",
       "      <td>3</td>\n",
       "    </tr>\n",
       "    <tr>\n",
       "      <th>3</th>\n",
       "      <td>DIF</td>\n",
       "      <td>8000.0</td>\n",
       "      <td>109860.47</td>\n",
       "      <td>0.261</td>\n",
       "      <td>2088.0</td>\n",
       "      <td>2020-08-01</td>\n",
       "      <td>2020-08-13</td>\n",
       "      <td>2020-09-08</td>\n",
       "      <td>38</td>\n",
       "      <td>18.26</td>\n",
       "      <td>2020</td>\n",
       "      <td>2</td>\n",
       "    </tr>\n",
       "  </tbody>\n",
       "</table>\n",
       "</div>"
      ],
      "text/plain": [
       "  name  ttl_qty    buy_amt    ppu  div_amt    buy_date      x_date  \\\n",
       "0  DIF   8000.0  109860.47  0.261   2088.0  2020-08-01  2021-05-12   \n",
       "1  DIF   8000.0  109860.47  0.261   2088.0  2020-08-01  2021-02-23   \n",
       "2  DIF   8000.0  109860.47  0.261   2088.0  2020-08-01  2020-11-11   \n",
       "3  DIF   8000.0  109860.47  0.261   2088.0  2020-08-01  2020-08-13   \n",
       "\n",
       "       p_date  days    pct  year  quarter  \n",
       "0  2021-06-04   307   2.26  2021        1  \n",
       "1  2021-03-12   223   3.11  2020        4  \n",
       "2  2020-12-04   125   5.55  2020        3  \n",
       "3  2020-09-08    38  18.26  2020        2  "
      ]
     },
     "execution_count": 18,
     "metadata": {},
     "output_type": "execute_result"
    }
   ],
   "source": [
    "df_merge = pd.merge(buys, dividends, on='name', how='inner')\n",
    "df_merge['div_amt'] = df_merge.ppu * df_merge.ttl_qty\n",
    "df_merge['days'] = df_merge.p_date - df_merge.buy_date\n",
    "df_merge['days'] = df_merge['days']/np.timedelta64(1,'D')\n",
    "df_merge['days'] = df_merge['days'].astype(int)\n",
    "df_merge['pct'] = round(df_merge['div_amt']/df_merge['buy_amt']*36500/df_merge['days'],2)\n",
    "df_merge[cols]"
   ]
  },
  {
   "cell_type": "code",
   "execution_count": 19,
   "metadata": {},
   "outputs": [
    {
     "data": {
      "text/plain": [
       "name\n",
       "DIF    8352.0\n",
       "Name: div_amt, dtype: float64"
      ]
     },
     "execution_count": 19,
     "metadata": {},
     "output_type": "execute_result"
    }
   ],
   "source": [
    "df_grp =df_merge.groupby(['name'])['div_amt'].sum()\n",
    "div4 = df_grp\n",
    "div4"
   ]
  },
  {
   "cell_type": "code",
   "execution_count": 20,
   "metadata": {},
   "outputs": [],
   "source": [
    "df_merge[colt].to_csv(output_file,mode='a',header=False)\n",
    "df_merge[colt].to_csv(data_file,mode='a',header=False)\n",
    "df_merge[colt].to_csv(box_file,mode='a',header=False)"
   ]
  },
  {
   "cell_type": "markdown",
   "metadata": {},
   "source": [
    "### 4th batch of purchase"
   ]
  },
  {
   "cell_type": "code",
   "execution_count": 21,
   "metadata": {},
   "outputs": [],
   "source": [
    "div_year = 2020\n",
    "div_quarter = 3\n",
    "ids = '783'"
   ]
  },
  {
   "cell_type": "code",
   "execution_count": 22,
   "metadata": {},
   "outputs": [
    {
     "data": {
      "text/html": [
       "<div>\n",
       "<style scoped>\n",
       "    .dataframe tbody tr th:only-of-type {\n",
       "        vertical-align: middle;\n",
       "    }\n",
       "\n",
       "    .dataframe tbody tr th {\n",
       "        vertical-align: top;\n",
       "    }\n",
       "\n",
       "    .dataframe thead th {\n",
       "        text-align: right;\n",
       "    }\n",
       "</style>\n",
       "<table border=\"1\" class=\"dataframe\">\n",
       "  <thead>\n",
       "    <tr style=\"text-align: right;\">\n",
       "      <th></th>\n",
       "      <th>name</th>\n",
       "      <th>ttl_qty</th>\n",
       "      <th>buy_amt</th>\n",
       "      <th>buy_date</th>\n",
       "    </tr>\n",
       "  </thead>\n",
       "  <tbody>\n",
       "    <tr>\n",
       "      <th>0</th>\n",
       "      <td>DIF</td>\n",
       "      <td>10000.0</td>\n",
       "      <td>147325.59</td>\n",
       "      <td>2020-10-09</td>\n",
       "    </tr>\n",
       "  </tbody>\n",
       "</table>\n",
       "</div>"
      ],
      "text/plain": [
       "  name  ttl_qty    buy_amt    buy_date\n",
       "0  DIF  10000.0  147325.59  2020-10-09"
      ]
     },
     "execution_count": 22,
     "metadata": {},
     "output_type": "execute_result"
    }
   ],
   "source": [
    "sql = '''\n",
    "SELECT T.name, SUM(qty) AS ttl_qty, \n",
    "SUM(B.net) AS buy_amt, MIN(date) AS buy_date\n",
    "FROM buys B\n",
    "JOIN stocks T ON B.stock_id = T.id \n",
    "WHERE B.id IN (%s)\n",
    "GROUP BY T.name'''\n",
    "sql = sql % (ids)\n",
    "buys = pd.read_sql(sql, conpf)\n",
    "buys"
   ]
  },
  {
   "cell_type": "code",
   "execution_count": 23,
   "metadata": {},
   "outputs": [
    {
     "data": {
      "text/html": [
       "<style  type=\"text/css\" >\n",
       "</style><table id=\"T_31eaa446_c8f8_11eb_82dc_5cbaef7ebc1c\" ><thead>    <tr>        <th class=\"blank level0\" ></th>        <th class=\"col_heading level0 col0\" >id</th>        <th class=\"col_heading level0 col1\" >name</th>        <th class=\"col_heading level0 col2\" >year</th>        <th class=\"col_heading level0 col3\" >quarter</th>        <th class=\"col_heading level0 col4\" >number</th>        <th class=\"col_heading level0 col5\" >ppu</th>        <th class=\"col_heading level0 col6\" >div_amt</th>        <th class=\"col_heading level0 col7\" >x_date</th>        <th class=\"col_heading level0 col8\" >p_date</th>    </tr></thead><tbody>\n",
       "                <tr>\n",
       "                        <th id=\"T_31eaa446_c8f8_11eb_82dc_5cbaef7ebc1clevel0_row0\" class=\"row_heading level0 row0\" >0</th>\n",
       "                        <td id=\"T_31eaa446_c8f8_11eb_82dc_5cbaef7ebc1crow0_col0\" class=\"data row0 col0\" >235</td>\n",
       "                        <td id=\"T_31eaa446_c8f8_11eb_82dc_5cbaef7ebc1crow0_col1\" class=\"data row0 col1\" >DIF</td>\n",
       "                        <td id=\"T_31eaa446_c8f8_11eb_82dc_5cbaef7ebc1crow0_col2\" class=\"data row0 col2\" >2021</td>\n",
       "                        <td id=\"T_31eaa446_c8f8_11eb_82dc_5cbaef7ebc1crow0_col3\" class=\"data row0 col3\" >1</td>\n",
       "                        <td id=\"T_31eaa446_c8f8_11eb_82dc_5cbaef7ebc1crow0_col4\" class=\"data row0 col4\" >100,000</td>\n",
       "                        <td id=\"T_31eaa446_c8f8_11eb_82dc_5cbaef7ebc1crow0_col5\" class=\"data row0 col5\" >0.2610</td>\n",
       "                        <td id=\"T_31eaa446_c8f8_11eb_82dc_5cbaef7ebc1crow0_col6\" class=\"data row0 col6\" >26,100.00</td>\n",
       "                        <td id=\"T_31eaa446_c8f8_11eb_82dc_5cbaef7ebc1crow0_col7\" class=\"data row0 col7\" >2021-05-12</td>\n",
       "                        <td id=\"T_31eaa446_c8f8_11eb_82dc_5cbaef7ebc1crow0_col8\" class=\"data row0 col8\" >2021-06-04</td>\n",
       "            </tr>\n",
       "            <tr>\n",
       "                        <th id=\"T_31eaa446_c8f8_11eb_82dc_5cbaef7ebc1clevel0_row1\" class=\"row_heading level0 row1\" >1</th>\n",
       "                        <td id=\"T_31eaa446_c8f8_11eb_82dc_5cbaef7ebc1crow1_col0\" class=\"data row1 col0\" >197</td>\n",
       "                        <td id=\"T_31eaa446_c8f8_11eb_82dc_5cbaef7ebc1crow1_col1\" class=\"data row1 col1\" >DIF</td>\n",
       "                        <td id=\"T_31eaa446_c8f8_11eb_82dc_5cbaef7ebc1crow1_col2\" class=\"data row1 col2\" >2020</td>\n",
       "                        <td id=\"T_31eaa446_c8f8_11eb_82dc_5cbaef7ebc1crow1_col3\" class=\"data row1 col3\" >4</td>\n",
       "                        <td id=\"T_31eaa446_c8f8_11eb_82dc_5cbaef7ebc1crow1_col4\" class=\"data row1 col4\" >80,000</td>\n",
       "                        <td id=\"T_31eaa446_c8f8_11eb_82dc_5cbaef7ebc1crow1_col5\" class=\"data row1 col5\" >0.2610</td>\n",
       "                        <td id=\"T_31eaa446_c8f8_11eb_82dc_5cbaef7ebc1crow1_col6\" class=\"data row1 col6\" >20,880.00</td>\n",
       "                        <td id=\"T_31eaa446_c8f8_11eb_82dc_5cbaef7ebc1crow1_col7\" class=\"data row1 col7\" >2021-02-23</td>\n",
       "                        <td id=\"T_31eaa446_c8f8_11eb_82dc_5cbaef7ebc1crow1_col8\" class=\"data row1 col8\" >2021-03-12</td>\n",
       "            </tr>\n",
       "            <tr>\n",
       "                        <th id=\"T_31eaa446_c8f8_11eb_82dc_5cbaef7ebc1clevel0_row2\" class=\"row_heading level0 row2\" >2</th>\n",
       "                        <td id=\"T_31eaa446_c8f8_11eb_82dc_5cbaef7ebc1crow2_col0\" class=\"data row2 col0\" >190</td>\n",
       "                        <td id=\"T_31eaa446_c8f8_11eb_82dc_5cbaef7ebc1crow2_col1\" class=\"data row2 col1\" >DIF</td>\n",
       "                        <td id=\"T_31eaa446_c8f8_11eb_82dc_5cbaef7ebc1crow2_col2\" class=\"data row2 col2\" >2020</td>\n",
       "                        <td id=\"T_31eaa446_c8f8_11eb_82dc_5cbaef7ebc1crow2_col3\" class=\"data row2 col3\" >3</td>\n",
       "                        <td id=\"T_31eaa446_c8f8_11eb_82dc_5cbaef7ebc1crow2_col4\" class=\"data row2 col4\" >70,000</td>\n",
       "                        <td id=\"T_31eaa446_c8f8_11eb_82dc_5cbaef7ebc1crow2_col5\" class=\"data row2 col5\" >0.2610</td>\n",
       "                        <td id=\"T_31eaa446_c8f8_11eb_82dc_5cbaef7ebc1crow2_col6\" class=\"data row2 col6\" >18,270.00</td>\n",
       "                        <td id=\"T_31eaa446_c8f8_11eb_82dc_5cbaef7ebc1crow2_col7\" class=\"data row2 col7\" >2020-11-11</td>\n",
       "                        <td id=\"T_31eaa446_c8f8_11eb_82dc_5cbaef7ebc1crow2_col8\" class=\"data row2 col8\" >2020-12-04</td>\n",
       "            </tr>\n",
       "    </tbody></table>"
      ],
      "text/plain": [
       "<pandas.io.formats.style.Styler at 0x183eb30aeb0>"
      ]
     },
     "execution_count": 23,
     "metadata": {},
     "output_type": "execute_result"
    }
   ],
   "source": [
    "sql = \"\"\"\n",
    "SELECT id, name, year, quarter, number, ppu, net AS div_amt, x_date, p_date\n",
    "FROM dividends\n",
    "WHERE name ='%s'\n",
    "AND ((year = %s AND quarter >= %s) \n",
    "OR (year > %s))\n",
    "ORDER BY name, year DESC, quarter DESC\n",
    "\"\"\"\n",
    "sql = sql % (name, div_year, div_quarter, div_year)\n",
    "dividends = pd.read_sql(sql, conpf)\n",
    "dividends.style.format(format_dict)"
   ]
  },
  {
   "cell_type": "code",
   "execution_count": 24,
   "metadata": {},
   "outputs": [
    {
     "data": {
      "text/html": [
       "<div>\n",
       "<style scoped>\n",
       "    .dataframe tbody tr th:only-of-type {\n",
       "        vertical-align: middle;\n",
       "    }\n",
       "\n",
       "    .dataframe tbody tr th {\n",
       "        vertical-align: top;\n",
       "    }\n",
       "\n",
       "    .dataframe thead th {\n",
       "        text-align: right;\n",
       "    }\n",
       "</style>\n",
       "<table border=\"1\" class=\"dataframe\">\n",
       "  <thead>\n",
       "    <tr style=\"text-align: right;\">\n",
       "      <th></th>\n",
       "      <th>name</th>\n",
       "      <th>ttl_qty</th>\n",
       "      <th>buy_amt</th>\n",
       "      <th>ppu</th>\n",
       "      <th>div_amt</th>\n",
       "      <th>buy_date</th>\n",
       "      <th>x_date</th>\n",
       "      <th>p_date</th>\n",
       "      <th>days</th>\n",
       "      <th>pct</th>\n",
       "      <th>year</th>\n",
       "      <th>quarter</th>\n",
       "    </tr>\n",
       "  </thead>\n",
       "  <tbody>\n",
       "    <tr>\n",
       "      <th>0</th>\n",
       "      <td>DIF</td>\n",
       "      <td>10000.0</td>\n",
       "      <td>147325.59</td>\n",
       "      <td>0.261</td>\n",
       "      <td>2610.0</td>\n",
       "      <td>2020-10-09</td>\n",
       "      <td>2021-05-12</td>\n",
       "      <td>2021-06-04</td>\n",
       "      <td>238</td>\n",
       "      <td>2.72</td>\n",
       "      <td>2021</td>\n",
       "      <td>1</td>\n",
       "    </tr>\n",
       "    <tr>\n",
       "      <th>1</th>\n",
       "      <td>DIF</td>\n",
       "      <td>10000.0</td>\n",
       "      <td>147325.59</td>\n",
       "      <td>0.261</td>\n",
       "      <td>2610.0</td>\n",
       "      <td>2020-10-09</td>\n",
       "      <td>2021-02-23</td>\n",
       "      <td>2021-03-12</td>\n",
       "      <td>154</td>\n",
       "      <td>4.20</td>\n",
       "      <td>2020</td>\n",
       "      <td>4</td>\n",
       "    </tr>\n",
       "    <tr>\n",
       "      <th>2</th>\n",
       "      <td>DIF</td>\n",
       "      <td>10000.0</td>\n",
       "      <td>147325.59</td>\n",
       "      <td>0.261</td>\n",
       "      <td>2610.0</td>\n",
       "      <td>2020-10-09</td>\n",
       "      <td>2020-11-11</td>\n",
       "      <td>2020-12-04</td>\n",
       "      <td>56</td>\n",
       "      <td>11.55</td>\n",
       "      <td>2020</td>\n",
       "      <td>3</td>\n",
       "    </tr>\n",
       "  </tbody>\n",
       "</table>\n",
       "</div>"
      ],
      "text/plain": [
       "  name  ttl_qty    buy_amt    ppu  div_amt    buy_date      x_date  \\\n",
       "0  DIF  10000.0  147325.59  0.261   2610.0  2020-10-09  2021-05-12   \n",
       "1  DIF  10000.0  147325.59  0.261   2610.0  2020-10-09  2021-02-23   \n",
       "2  DIF  10000.0  147325.59  0.261   2610.0  2020-10-09  2020-11-11   \n",
       "\n",
       "       p_date  days    pct  year  quarter  \n",
       "0  2021-06-04   238   2.72  2021        1  \n",
       "1  2021-03-12   154   4.20  2020        4  \n",
       "2  2020-12-04    56  11.55  2020        3  "
      ]
     },
     "execution_count": 24,
     "metadata": {},
     "output_type": "execute_result"
    }
   ],
   "source": [
    "df_merge = pd.merge(buys, dividends, on='name', how='inner')\n",
    "df_merge['div_amt'] = df_merge.ppu * df_merge.ttl_qty\n",
    "df_merge['days'] = df_merge.p_date - df_merge.buy_date\n",
    "df_merge['days'] = df_merge['days']/np.timedelta64(1,'D')\n",
    "df_merge['days'] = df_merge['days'].astype(int)\n",
    "df_merge['pct'] = round(df_merge['div_amt']/df_merge['buy_amt']*36500/df_merge['days'],2)\n",
    "df_merge[cols]"
   ]
  },
  {
   "cell_type": "code",
   "execution_count": 25,
   "metadata": {},
   "outputs": [
    {
     "data": {
      "text/plain": [
       "name\n",
       "DIF    7830.0\n",
       "Name: div_amt, dtype: float64"
      ]
     },
     "execution_count": 25,
     "metadata": {},
     "output_type": "execute_result"
    }
   ],
   "source": [
    "df_grp =df_merge.groupby(['name'])['div_amt'].sum()\n",
    "div5 = df_grp\n",
    "div5"
   ]
  },
  {
   "cell_type": "code",
   "execution_count": 26,
   "metadata": {},
   "outputs": [],
   "source": [
    "df_merge[colt].to_csv(output_file,mode='a',header=False)\n",
    "df_merge[colt].to_csv(data_file,mode='a',header=False)\n",
    "df_merge[colt].to_csv(box_file,mode='a',header=False)"
   ]
  },
  {
   "cell_type": "markdown",
   "metadata": {},
   "source": [
    "### 5th batch of purchase"
   ]
  },
  {
   "cell_type": "code",
   "execution_count": 27,
   "metadata": {},
   "outputs": [],
   "source": [
    "div_year = 2020\n",
    "div_quarter = 4\n",
    "ids = '813'"
   ]
  },
  {
   "cell_type": "code",
   "execution_count": 28,
   "metadata": {},
   "outputs": [
    {
     "data": {
      "text/html": [
       "<div>\n",
       "<style scoped>\n",
       "    .dataframe tbody tr th:only-of-type {\n",
       "        vertical-align: middle;\n",
       "    }\n",
       "\n",
       "    .dataframe tbody tr th {\n",
       "        vertical-align: top;\n",
       "    }\n",
       "\n",
       "    .dataframe thead th {\n",
       "        text-align: right;\n",
       "    }\n",
       "</style>\n",
       "<table border=\"1\" class=\"dataframe\">\n",
       "  <thead>\n",
       "    <tr style=\"text-align: right;\">\n",
       "      <th></th>\n",
       "      <th>name</th>\n",
       "      <th>ttl_qty</th>\n",
       "      <th>buy_amt</th>\n",
       "      <th>buy_date</th>\n",
       "    </tr>\n",
       "  </thead>\n",
       "  <tbody>\n",
       "    <tr>\n",
       "      <th>0</th>\n",
       "      <td>DIF</td>\n",
       "      <td>10000.0</td>\n",
       "      <td>147325.59</td>\n",
       "      <td>2021-02-17</td>\n",
       "    </tr>\n",
       "  </tbody>\n",
       "</table>\n",
       "</div>"
      ],
      "text/plain": [
       "  name  ttl_qty    buy_amt    buy_date\n",
       "0  DIF  10000.0  147325.59  2021-02-17"
      ]
     },
     "execution_count": 28,
     "metadata": {},
     "output_type": "execute_result"
    }
   ],
   "source": [
    "sql = '''\n",
    "SELECT T.name, SUM(qty) AS ttl_qty, \n",
    "SUM(B.net) AS buy_amt, MIN(date) AS buy_date\n",
    "FROM buys B\n",
    "JOIN stocks T ON B.stock_id = T.id \n",
    "WHERE B.id IN (%s)\n",
    "GROUP BY T.name'''\n",
    "sql = sql % (ids)\n",
    "buys = pd.read_sql(sql, conpf)\n",
    "buys"
   ]
  },
  {
   "cell_type": "code",
   "execution_count": 29,
   "metadata": {},
   "outputs": [
    {
     "data": {
      "text/html": [
       "<style  type=\"text/css\" >\n",
       "</style><table id=\"T_47781b56_c8f8_11eb_9f9a_5cbaef7ebc1c\" ><thead>    <tr>        <th class=\"blank level0\" ></th>        <th class=\"col_heading level0 col0\" >id</th>        <th class=\"col_heading level0 col1\" >name</th>        <th class=\"col_heading level0 col2\" >year</th>        <th class=\"col_heading level0 col3\" >quarter</th>        <th class=\"col_heading level0 col4\" >number</th>        <th class=\"col_heading level0 col5\" >ppu</th>        <th class=\"col_heading level0 col6\" >div_amt</th>        <th class=\"col_heading level0 col7\" >x_date</th>        <th class=\"col_heading level0 col8\" >p_date</th>    </tr></thead><tbody>\n",
       "                <tr>\n",
       "                        <th id=\"T_47781b56_c8f8_11eb_9f9a_5cbaef7ebc1clevel0_row0\" class=\"row_heading level0 row0\" >0</th>\n",
       "                        <td id=\"T_47781b56_c8f8_11eb_9f9a_5cbaef7ebc1crow0_col0\" class=\"data row0 col0\" >235</td>\n",
       "                        <td id=\"T_47781b56_c8f8_11eb_9f9a_5cbaef7ebc1crow0_col1\" class=\"data row0 col1\" >DIF</td>\n",
       "                        <td id=\"T_47781b56_c8f8_11eb_9f9a_5cbaef7ebc1crow0_col2\" class=\"data row0 col2\" >2021</td>\n",
       "                        <td id=\"T_47781b56_c8f8_11eb_9f9a_5cbaef7ebc1crow0_col3\" class=\"data row0 col3\" >1</td>\n",
       "                        <td id=\"T_47781b56_c8f8_11eb_9f9a_5cbaef7ebc1crow0_col4\" class=\"data row0 col4\" >100,000</td>\n",
       "                        <td id=\"T_47781b56_c8f8_11eb_9f9a_5cbaef7ebc1crow0_col5\" class=\"data row0 col5\" >0.2610</td>\n",
       "                        <td id=\"T_47781b56_c8f8_11eb_9f9a_5cbaef7ebc1crow0_col6\" class=\"data row0 col6\" >26,100.00</td>\n",
       "                        <td id=\"T_47781b56_c8f8_11eb_9f9a_5cbaef7ebc1crow0_col7\" class=\"data row0 col7\" >2021-05-12</td>\n",
       "                        <td id=\"T_47781b56_c8f8_11eb_9f9a_5cbaef7ebc1crow0_col8\" class=\"data row0 col8\" >2021-06-04</td>\n",
       "            </tr>\n",
       "            <tr>\n",
       "                        <th id=\"T_47781b56_c8f8_11eb_9f9a_5cbaef7ebc1clevel0_row1\" class=\"row_heading level0 row1\" >1</th>\n",
       "                        <td id=\"T_47781b56_c8f8_11eb_9f9a_5cbaef7ebc1crow1_col0\" class=\"data row1 col0\" >197</td>\n",
       "                        <td id=\"T_47781b56_c8f8_11eb_9f9a_5cbaef7ebc1crow1_col1\" class=\"data row1 col1\" >DIF</td>\n",
       "                        <td id=\"T_47781b56_c8f8_11eb_9f9a_5cbaef7ebc1crow1_col2\" class=\"data row1 col2\" >2020</td>\n",
       "                        <td id=\"T_47781b56_c8f8_11eb_9f9a_5cbaef7ebc1crow1_col3\" class=\"data row1 col3\" >4</td>\n",
       "                        <td id=\"T_47781b56_c8f8_11eb_9f9a_5cbaef7ebc1crow1_col4\" class=\"data row1 col4\" >80,000</td>\n",
       "                        <td id=\"T_47781b56_c8f8_11eb_9f9a_5cbaef7ebc1crow1_col5\" class=\"data row1 col5\" >0.2610</td>\n",
       "                        <td id=\"T_47781b56_c8f8_11eb_9f9a_5cbaef7ebc1crow1_col6\" class=\"data row1 col6\" >20,880.00</td>\n",
       "                        <td id=\"T_47781b56_c8f8_11eb_9f9a_5cbaef7ebc1crow1_col7\" class=\"data row1 col7\" >2021-02-23</td>\n",
       "                        <td id=\"T_47781b56_c8f8_11eb_9f9a_5cbaef7ebc1crow1_col8\" class=\"data row1 col8\" >2021-03-12</td>\n",
       "            </tr>\n",
       "    </tbody></table>"
      ],
      "text/plain": [
       "<pandas.io.formats.style.Styler at 0x183eb312d60>"
      ]
     },
     "execution_count": 29,
     "metadata": {},
     "output_type": "execute_result"
    }
   ],
   "source": [
    "sql = \"\"\"\n",
    "SELECT id, name, year, quarter, number, ppu, net AS div_amt, x_date, p_date\n",
    "FROM dividends\n",
    "WHERE name ='%s'\n",
    "AND ((year = %s AND quarter >= %s) \n",
    "OR (year > %s))\n",
    "ORDER BY name, year DESC, quarter DESC\n",
    "\"\"\"\n",
    "sql = sql % (name, div_year, div_quarter, div_year)\n",
    "dividends = pd.read_sql(sql, conpf)\n",
    "dividends.style.format(format_dict)"
   ]
  },
  {
   "cell_type": "code",
   "execution_count": 30,
   "metadata": {},
   "outputs": [
    {
     "data": {
      "text/html": [
       "<div>\n",
       "<style scoped>\n",
       "    .dataframe tbody tr th:only-of-type {\n",
       "        vertical-align: middle;\n",
       "    }\n",
       "\n",
       "    .dataframe tbody tr th {\n",
       "        vertical-align: top;\n",
       "    }\n",
       "\n",
       "    .dataframe thead th {\n",
       "        text-align: right;\n",
       "    }\n",
       "</style>\n",
       "<table border=\"1\" class=\"dataframe\">\n",
       "  <thead>\n",
       "    <tr style=\"text-align: right;\">\n",
       "      <th></th>\n",
       "      <th>name</th>\n",
       "      <th>ttl_qty</th>\n",
       "      <th>buy_amt</th>\n",
       "      <th>ppu</th>\n",
       "      <th>div_amt</th>\n",
       "      <th>buy_date</th>\n",
       "      <th>x_date</th>\n",
       "      <th>p_date</th>\n",
       "      <th>days</th>\n",
       "      <th>pct</th>\n",
       "      <th>year</th>\n",
       "      <th>quarter</th>\n",
       "    </tr>\n",
       "  </thead>\n",
       "  <tbody>\n",
       "    <tr>\n",
       "      <th>0</th>\n",
       "      <td>DIF</td>\n",
       "      <td>10000.0</td>\n",
       "      <td>147325.59</td>\n",
       "      <td>0.261</td>\n",
       "      <td>2610.0</td>\n",
       "      <td>2021-02-17</td>\n",
       "      <td>2021-05-12</td>\n",
       "      <td>2021-06-04</td>\n",
       "      <td>107</td>\n",
       "      <td>6.04</td>\n",
       "      <td>2021</td>\n",
       "      <td>1</td>\n",
       "    </tr>\n",
       "    <tr>\n",
       "      <th>1</th>\n",
       "      <td>DIF</td>\n",
       "      <td>10000.0</td>\n",
       "      <td>147325.59</td>\n",
       "      <td>0.261</td>\n",
       "      <td>2610.0</td>\n",
       "      <td>2021-02-17</td>\n",
       "      <td>2021-02-23</td>\n",
       "      <td>2021-03-12</td>\n",
       "      <td>23</td>\n",
       "      <td>28.11</td>\n",
       "      <td>2020</td>\n",
       "      <td>4</td>\n",
       "    </tr>\n",
       "  </tbody>\n",
       "</table>\n",
       "</div>"
      ],
      "text/plain": [
       "  name  ttl_qty    buy_amt    ppu  div_amt    buy_date      x_date  \\\n",
       "0  DIF  10000.0  147325.59  0.261   2610.0  2021-02-17  2021-05-12   \n",
       "1  DIF  10000.0  147325.59  0.261   2610.0  2021-02-17  2021-02-23   \n",
       "\n",
       "       p_date  days    pct  year  quarter  \n",
       "0  2021-06-04   107   6.04  2021        1  \n",
       "1  2021-03-12    23  28.11  2020        4  "
      ]
     },
     "execution_count": 30,
     "metadata": {},
     "output_type": "execute_result"
    }
   ],
   "source": [
    "df_merge = pd.merge(buys, dividends, on='name', how='inner')\n",
    "df_merge['div_amt'] = df_merge.ppu * df_merge.ttl_qty\n",
    "df_merge['days'] = df_merge.p_date - df_merge.buy_date\n",
    "df_merge['days'] = df_merge['days']/np.timedelta64(1,'D')\n",
    "df_merge['days'] = df_merge['days'].astype(int)\n",
    "df_merge['pct'] = round(df_merge['div_amt']/df_merge['buy_amt']*36500/df_merge['days'],2)\n",
    "df_merge[cols]"
   ]
  },
  {
   "cell_type": "code",
   "execution_count": 31,
   "metadata": {},
   "outputs": [
    {
     "data": {
      "text/plain": [
       "name\n",
       "DIF    5220.0\n",
       "Name: div_amt, dtype: float64"
      ]
     },
     "execution_count": 31,
     "metadata": {},
     "output_type": "execute_result"
    }
   ],
   "source": [
    "df_grp =df_merge.groupby(['name'])['div_amt'].sum()\n",
    "div6 = df_grp\n",
    "div6"
   ]
  },
  {
   "cell_type": "code",
   "execution_count": 32,
   "metadata": {},
   "outputs": [],
   "source": [
    "df_merge[colt].to_csv(output_file,mode='a',header=False)\n",
    "df_merge[colt].to_csv(data_file,mode='a',header=False)\n",
    "df_merge[colt].to_csv(box_file,mode='a',header=False)"
   ]
  },
  {
   "cell_type": "markdown",
   "metadata": {},
   "source": [
    "### 6th batch of purchase"
   ]
  },
  {
   "cell_type": "code",
   "execution_count": 34,
   "metadata": {},
   "outputs": [],
   "source": [
    "div_year = 2021\n",
    "div_quarter = 1\n",
    "ids = '824'"
   ]
  },
  {
   "cell_type": "code",
   "execution_count": 35,
   "metadata": {},
   "outputs": [
    {
     "data": {
      "text/html": [
       "<div>\n",
       "<style scoped>\n",
       "    .dataframe tbody tr th:only-of-type {\n",
       "        vertical-align: middle;\n",
       "    }\n",
       "\n",
       "    .dataframe tbody tr th {\n",
       "        vertical-align: top;\n",
       "    }\n",
       "\n",
       "    .dataframe thead th {\n",
       "        text-align: right;\n",
       "    }\n",
       "</style>\n",
       "<table border=\"1\" class=\"dataframe\">\n",
       "  <thead>\n",
       "    <tr style=\"text-align: right;\">\n",
       "      <th></th>\n",
       "      <th>name</th>\n",
       "      <th>ttl_qty</th>\n",
       "      <th>buy_amt</th>\n",
       "      <th>buy_date</th>\n",
       "    </tr>\n",
       "  </thead>\n",
       "  <tbody>\n",
       "    <tr>\n",
       "      <th>0</th>\n",
       "      <td>DIF</td>\n",
       "      <td>20000.0</td>\n",
       "      <td>294651.18</td>\n",
       "      <td>2021-03-02</td>\n",
       "    </tr>\n",
       "  </tbody>\n",
       "</table>\n",
       "</div>"
      ],
      "text/plain": [
       "  name  ttl_qty    buy_amt    buy_date\n",
       "0  DIF  20000.0  294651.18  2021-03-02"
      ]
     },
     "execution_count": 35,
     "metadata": {},
     "output_type": "execute_result"
    }
   ],
   "source": [
    "sql = '''\n",
    "SELECT T.name, SUM(qty) AS ttl_qty, \n",
    "SUM(B.net) AS buy_amt, MIN(date) AS buy_date\n",
    "FROM buys B\n",
    "JOIN stocks T ON B.stock_id = T.id \n",
    "WHERE B.id IN (%s)\n",
    "GROUP BY T.name'''\n",
    "sql = sql % (ids)\n",
    "buys = pd.read_sql(sql, conpf)\n",
    "buys"
   ]
  },
  {
   "cell_type": "code",
   "execution_count": 36,
   "metadata": {},
   "outputs": [
    {
     "data": {
      "text/html": [
       "<style  type=\"text/css\" >\n",
       "</style><table id=\"T_60870a43_c8f8_11eb_9d46_5cbaef7ebc1c\" ><thead>    <tr>        <th class=\"blank level0\" ></th>        <th class=\"col_heading level0 col0\" >id</th>        <th class=\"col_heading level0 col1\" >name</th>        <th class=\"col_heading level0 col2\" >year</th>        <th class=\"col_heading level0 col3\" >quarter</th>        <th class=\"col_heading level0 col4\" >number</th>        <th class=\"col_heading level0 col5\" >ppu</th>        <th class=\"col_heading level0 col6\" >div_amt</th>        <th class=\"col_heading level0 col7\" >x_date</th>        <th class=\"col_heading level0 col8\" >p_date</th>    </tr></thead><tbody>\n",
       "                <tr>\n",
       "                        <th id=\"T_60870a43_c8f8_11eb_9d46_5cbaef7ebc1clevel0_row0\" class=\"row_heading level0 row0\" >0</th>\n",
       "                        <td id=\"T_60870a43_c8f8_11eb_9d46_5cbaef7ebc1crow0_col0\" class=\"data row0 col0\" >235</td>\n",
       "                        <td id=\"T_60870a43_c8f8_11eb_9d46_5cbaef7ebc1crow0_col1\" class=\"data row0 col1\" >DIF</td>\n",
       "                        <td id=\"T_60870a43_c8f8_11eb_9d46_5cbaef7ebc1crow0_col2\" class=\"data row0 col2\" >2021</td>\n",
       "                        <td id=\"T_60870a43_c8f8_11eb_9d46_5cbaef7ebc1crow0_col3\" class=\"data row0 col3\" >1</td>\n",
       "                        <td id=\"T_60870a43_c8f8_11eb_9d46_5cbaef7ebc1crow0_col4\" class=\"data row0 col4\" >100,000</td>\n",
       "                        <td id=\"T_60870a43_c8f8_11eb_9d46_5cbaef7ebc1crow0_col5\" class=\"data row0 col5\" >0.2610</td>\n",
       "                        <td id=\"T_60870a43_c8f8_11eb_9d46_5cbaef7ebc1crow0_col6\" class=\"data row0 col6\" >26,100.00</td>\n",
       "                        <td id=\"T_60870a43_c8f8_11eb_9d46_5cbaef7ebc1crow0_col7\" class=\"data row0 col7\" >2021-05-12</td>\n",
       "                        <td id=\"T_60870a43_c8f8_11eb_9d46_5cbaef7ebc1crow0_col8\" class=\"data row0 col8\" >2021-06-04</td>\n",
       "            </tr>\n",
       "    </tbody></table>"
      ],
      "text/plain": [
       "<pandas.io.formats.style.Styler at 0x183eb30ad00>"
      ]
     },
     "execution_count": 36,
     "metadata": {},
     "output_type": "execute_result"
    }
   ],
   "source": [
    "sql = \"\"\"\n",
    "SELECT id, name, year, quarter, number, ppu, net AS div_amt, x_date, p_date\n",
    "FROM dividends\n",
    "WHERE name ='%s'\n",
    "AND ((year = %s AND quarter >= %s) \n",
    "OR (year > %s))\n",
    "ORDER BY name, year DESC, quarter DESC\n",
    "\"\"\"\n",
    "sql = sql % (name, div_year, div_quarter, div_year)\n",
    "dividends = pd.read_sql(sql, conpf)\n",
    "dividends.style.format(format_dict)"
   ]
  },
  {
   "cell_type": "code",
   "execution_count": 37,
   "metadata": {},
   "outputs": [
    {
     "data": {
      "text/html": [
       "<div>\n",
       "<style scoped>\n",
       "    .dataframe tbody tr th:only-of-type {\n",
       "        vertical-align: middle;\n",
       "    }\n",
       "\n",
       "    .dataframe tbody tr th {\n",
       "        vertical-align: top;\n",
       "    }\n",
       "\n",
       "    .dataframe thead th {\n",
       "        text-align: right;\n",
       "    }\n",
       "</style>\n",
       "<table border=\"1\" class=\"dataframe\">\n",
       "  <thead>\n",
       "    <tr style=\"text-align: right;\">\n",
       "      <th></th>\n",
       "      <th>name</th>\n",
       "      <th>ttl_qty</th>\n",
       "      <th>buy_amt</th>\n",
       "      <th>ppu</th>\n",
       "      <th>div_amt</th>\n",
       "      <th>buy_date</th>\n",
       "      <th>x_date</th>\n",
       "      <th>p_date</th>\n",
       "      <th>days</th>\n",
       "      <th>pct</th>\n",
       "      <th>year</th>\n",
       "      <th>quarter</th>\n",
       "    </tr>\n",
       "  </thead>\n",
       "  <tbody>\n",
       "    <tr>\n",
       "      <th>0</th>\n",
       "      <td>DIF</td>\n",
       "      <td>20000.0</td>\n",
       "      <td>294651.18</td>\n",
       "      <td>0.261</td>\n",
       "      <td>5220.0</td>\n",
       "      <td>2021-03-02</td>\n",
       "      <td>2021-05-12</td>\n",
       "      <td>2021-06-04</td>\n",
       "      <td>94</td>\n",
       "      <td>6.88</td>\n",
       "      <td>2021</td>\n",
       "      <td>1</td>\n",
       "    </tr>\n",
       "  </tbody>\n",
       "</table>\n",
       "</div>"
      ],
      "text/plain": [
       "  name  ttl_qty    buy_amt    ppu  div_amt    buy_date      x_date  \\\n",
       "0  DIF  20000.0  294651.18  0.261   5220.0  2021-03-02  2021-05-12   \n",
       "\n",
       "       p_date  days   pct  year  quarter  \n",
       "0  2021-06-04    94  6.88  2021        1  "
      ]
     },
     "execution_count": 37,
     "metadata": {},
     "output_type": "execute_result"
    }
   ],
   "source": [
    "df_merge = pd.merge(buys, dividends, on='name', how='inner')\n",
    "df_merge['div_amt'] = df_merge.ppu * df_merge.ttl_qty\n",
    "df_merge['days'] = df_merge.p_date - df_merge.buy_date\n",
    "df_merge['days'] = df_merge['days']/np.timedelta64(1,'D')\n",
    "df_merge['days'] = df_merge['days'].astype(int)\n",
    "df_merge['pct'] = round(df_merge['div_amt']/df_merge['buy_amt']*36500/df_merge['days'],2)\n",
    "df_merge[cols]"
   ]
  },
  {
   "cell_type": "code",
   "execution_count": 38,
   "metadata": {},
   "outputs": [
    {
     "data": {
      "text/plain": [
       "name\n",
       "DIF    5220.0\n",
       "Name: div_amt, dtype: float64"
      ]
     },
     "execution_count": 38,
     "metadata": {},
     "output_type": "execute_result"
    }
   ],
   "source": [
    "df_grp =df_merge.groupby(['name'])['div_amt'].sum()\n",
    "div7 = df_grp\n",
    "div7"
   ]
  },
  {
   "cell_type": "code",
   "execution_count": 39,
   "metadata": {},
   "outputs": [],
   "source": [
    "df_merge[colt].to_csv(output_file,mode='a',header=False)\n",
    "df_merge[colt].to_csv(data_file,mode='a',header=False)\n",
    "df_merge[colt].to_csv(box_file,mode='a',header=False)"
   ]
  },
  {
   "cell_type": "markdown",
   "metadata": {},
   "source": [
    "### End of process"
   ]
  },
  {
   "cell_type": "code",
   "execution_count": 40,
   "metadata": {},
   "outputs": [],
   "source": [
    "div_year = 2019\n",
    "div_quarter = 2"
   ]
  },
  {
   "cell_type": "code",
   "execution_count": 43,
   "metadata": {},
   "outputs": [
    {
     "data": {
      "text/html": [
       "<style  type=\"text/css\" >\n",
       "</style><table id=\"T_92662c38_c8f8_11eb_8670_5cbaef7ebc1c\" ><thead>    <tr>        <th class=\"blank level0\" ></th>        <th class=\"col_heading level0 col0\" >id</th>        <th class=\"col_heading level0 col1\" >name</th>        <th class=\"col_heading level0 col2\" >year</th>        <th class=\"col_heading level0 col3\" >quarter</th>        <th class=\"col_heading level0 col4\" >number</th>        <th class=\"col_heading level0 col5\" >ppu</th>        <th class=\"col_heading level0 col6\" >div_amt</th>        <th class=\"col_heading level0 col7\" >x_date</th>        <th class=\"col_heading level0 col8\" >p_date</th>    </tr></thead><tbody>\n",
       "                <tr>\n",
       "                        <th id=\"T_92662c38_c8f8_11eb_8670_5cbaef7ebc1clevel0_row0\" class=\"row_heading level0 row0\" >0</th>\n",
       "                        <td id=\"T_92662c38_c8f8_11eb_8670_5cbaef7ebc1crow0_col0\" class=\"data row0 col0\" >43</td>\n",
       "                        <td id=\"T_92662c38_c8f8_11eb_8670_5cbaef7ebc1crow0_col1\" class=\"data row0 col1\" >DIF</td>\n",
       "                        <td id=\"T_92662c38_c8f8_11eb_8670_5cbaef7ebc1crow0_col2\" class=\"data row0 col2\" >2019</td>\n",
       "                        <td id=\"T_92662c38_c8f8_11eb_8670_5cbaef7ebc1crow0_col3\" class=\"data row0 col3\" >2</td>\n",
       "                        <td id=\"T_92662c38_c8f8_11eb_8670_5cbaef7ebc1crow0_col4\" class=\"data row0 col4\" >47,000</td>\n",
       "                        <td id=\"T_92662c38_c8f8_11eb_8670_5cbaef7ebc1crow0_col5\" class=\"data row0 col5\" >0.3469</td>\n",
       "                        <td id=\"T_92662c38_c8f8_11eb_8670_5cbaef7ebc1crow0_col6\" class=\"data row0 col6\" >16,304.30</td>\n",
       "                        <td id=\"T_92662c38_c8f8_11eb_8670_5cbaef7ebc1crow0_col7\" class=\"data row0 col7\" >2019-08-26</td>\n",
       "                        <td id=\"T_92662c38_c8f8_11eb_8670_5cbaef7ebc1crow0_col8\" class=\"data row0 col8\" >2019-09-11</td>\n",
       "            </tr>\n",
       "            <tr>\n",
       "                        <th id=\"T_92662c38_c8f8_11eb_8670_5cbaef7ebc1clevel0_row1\" class=\"row_heading level0 row1\" >1</th>\n",
       "                        <td id=\"T_92662c38_c8f8_11eb_8670_5cbaef7ebc1crow1_col0\" class=\"data row1 col0\" >36</td>\n",
       "                        <td id=\"T_92662c38_c8f8_11eb_8670_5cbaef7ebc1crow1_col1\" class=\"data row1 col1\" >DIF</td>\n",
       "                        <td id=\"T_92662c38_c8f8_11eb_8670_5cbaef7ebc1crow1_col2\" class=\"data row1 col2\" >2019</td>\n",
       "                        <td id=\"T_92662c38_c8f8_11eb_8670_5cbaef7ebc1crow1_col3\" class=\"data row1 col3\" >3</td>\n",
       "                        <td id=\"T_92662c38_c8f8_11eb_8670_5cbaef7ebc1crow1_col4\" class=\"data row1 col4\" >52,000</td>\n",
       "                        <td id=\"T_92662c38_c8f8_11eb_8670_5cbaef7ebc1crow1_col5\" class=\"data row1 col5\" >0.1656</td>\n",
       "                        <td id=\"T_92662c38_c8f8_11eb_8670_5cbaef7ebc1crow1_col6\" class=\"data row1 col6\" >8,611.20</td>\n",
       "                        <td id=\"T_92662c38_c8f8_11eb_8670_5cbaef7ebc1crow1_col7\" class=\"data row1 col7\" >2019-11-18</td>\n",
       "                        <td id=\"T_92662c38_c8f8_11eb_8670_5cbaef7ebc1crow1_col8\" class=\"data row1 col8\" >2019-12-04</td>\n",
       "            </tr>\n",
       "            <tr>\n",
       "                        <th id=\"T_92662c38_c8f8_11eb_8670_5cbaef7ebc1clevel0_row2\" class=\"row_heading level0 row2\" >2</th>\n",
       "                        <td id=\"T_92662c38_c8f8_11eb_8670_5cbaef7ebc1crow2_col0\" class=\"data row2 col0\" >31</td>\n",
       "                        <td id=\"T_92662c38_c8f8_11eb_8670_5cbaef7ebc1crow2_col1\" class=\"data row2 col1\" >DIF</td>\n",
       "                        <td id=\"T_92662c38_c8f8_11eb_8670_5cbaef7ebc1crow2_col2\" class=\"data row2 col2\" >2019</td>\n",
       "                        <td id=\"T_92662c38_c8f8_11eb_8670_5cbaef7ebc1crow2_col3\" class=\"data row2 col3\" >4</td>\n",
       "                        <td id=\"T_92662c38_c8f8_11eb_8670_5cbaef7ebc1crow2_col4\" class=\"data row2 col4\" >52,000</td>\n",
       "                        <td id=\"T_92662c38_c8f8_11eb_8670_5cbaef7ebc1crow2_col5\" class=\"data row2 col5\" >0.2610</td>\n",
       "                        <td id=\"T_92662c38_c8f8_11eb_8670_5cbaef7ebc1crow2_col6\" class=\"data row2 col6\" >13,572.00</td>\n",
       "                        <td id=\"T_92662c38_c8f8_11eb_8670_5cbaef7ebc1crow2_col7\" class=\"data row2 col7\" >2020-02-12</td>\n",
       "                        <td id=\"T_92662c38_c8f8_11eb_8670_5cbaef7ebc1crow2_col8\" class=\"data row2 col8\" >2020-03-03</td>\n",
       "            </tr>\n",
       "            <tr>\n",
       "                        <th id=\"T_92662c38_c8f8_11eb_8670_5cbaef7ebc1clevel0_row3\" class=\"row_heading level0 row3\" >3</th>\n",
       "                        <td id=\"T_92662c38_c8f8_11eb_8670_5cbaef7ebc1crow3_col0\" class=\"data row3 col0\" >6</td>\n",
       "                        <td id=\"T_92662c38_c8f8_11eb_8670_5cbaef7ebc1crow3_col1\" class=\"data row3 col1\" >DIF</td>\n",
       "                        <td id=\"T_92662c38_c8f8_11eb_8670_5cbaef7ebc1crow3_col2\" class=\"data row3 col2\" >2020</td>\n",
       "                        <td id=\"T_92662c38_c8f8_11eb_8670_5cbaef7ebc1crow3_col3\" class=\"data row3 col3\" >1</td>\n",
       "                        <td id=\"T_92662c38_c8f8_11eb_8670_5cbaef7ebc1crow3_col4\" class=\"data row3 col4\" >52,000</td>\n",
       "                        <td id=\"T_92662c38_c8f8_11eb_8670_5cbaef7ebc1crow3_col5\" class=\"data row3 col5\" >0.2610</td>\n",
       "                        <td id=\"T_92662c38_c8f8_11eb_8670_5cbaef7ebc1crow3_col6\" class=\"data row3 col6\" >13,572.00</td>\n",
       "                        <td id=\"T_92662c38_c8f8_11eb_8670_5cbaef7ebc1crow3_col7\" class=\"data row3 col7\" >2020-05-26</td>\n",
       "                        <td id=\"T_92662c38_c8f8_11eb_8670_5cbaef7ebc1crow3_col8\" class=\"data row3 col8\" >2020-06-11</td>\n",
       "            </tr>\n",
       "            <tr>\n",
       "                        <th id=\"T_92662c38_c8f8_11eb_8670_5cbaef7ebc1clevel0_row4\" class=\"row_heading level0 row4\" >4</th>\n",
       "                        <td id=\"T_92662c38_c8f8_11eb_8670_5cbaef7ebc1crow4_col0\" class=\"data row4 col0\" >3</td>\n",
       "                        <td id=\"T_92662c38_c8f8_11eb_8670_5cbaef7ebc1crow4_col1\" class=\"data row4 col1\" >DIF</td>\n",
       "                        <td id=\"T_92662c38_c8f8_11eb_8670_5cbaef7ebc1crow4_col2\" class=\"data row4 col2\" >2020</td>\n",
       "                        <td id=\"T_92662c38_c8f8_11eb_8670_5cbaef7ebc1crow4_col3\" class=\"data row4 col3\" >2</td>\n",
       "                        <td id=\"T_92662c38_c8f8_11eb_8670_5cbaef7ebc1crow4_col4\" class=\"data row4 col4\" >60,000</td>\n",
       "                        <td id=\"T_92662c38_c8f8_11eb_8670_5cbaef7ebc1crow4_col5\" class=\"data row4 col5\" >0.2610</td>\n",
       "                        <td id=\"T_92662c38_c8f8_11eb_8670_5cbaef7ebc1crow4_col6\" class=\"data row4 col6\" >15,660.00</td>\n",
       "                        <td id=\"T_92662c38_c8f8_11eb_8670_5cbaef7ebc1crow4_col7\" class=\"data row4 col7\" >2020-08-13</td>\n",
       "                        <td id=\"T_92662c38_c8f8_11eb_8670_5cbaef7ebc1crow4_col8\" class=\"data row4 col8\" >2020-09-08</td>\n",
       "            </tr>\n",
       "            <tr>\n",
       "                        <th id=\"T_92662c38_c8f8_11eb_8670_5cbaef7ebc1clevel0_row5\" class=\"row_heading level0 row5\" >5</th>\n",
       "                        <td id=\"T_92662c38_c8f8_11eb_8670_5cbaef7ebc1crow5_col0\" class=\"data row5 col0\" >190</td>\n",
       "                        <td id=\"T_92662c38_c8f8_11eb_8670_5cbaef7ebc1crow5_col1\" class=\"data row5 col1\" >DIF</td>\n",
       "                        <td id=\"T_92662c38_c8f8_11eb_8670_5cbaef7ebc1crow5_col2\" class=\"data row5 col2\" >2020</td>\n",
       "                        <td id=\"T_92662c38_c8f8_11eb_8670_5cbaef7ebc1crow5_col3\" class=\"data row5 col3\" >3</td>\n",
       "                        <td id=\"T_92662c38_c8f8_11eb_8670_5cbaef7ebc1crow5_col4\" class=\"data row5 col4\" >70,000</td>\n",
       "                        <td id=\"T_92662c38_c8f8_11eb_8670_5cbaef7ebc1crow5_col5\" class=\"data row5 col5\" >0.2610</td>\n",
       "                        <td id=\"T_92662c38_c8f8_11eb_8670_5cbaef7ebc1crow5_col6\" class=\"data row5 col6\" >18,270.00</td>\n",
       "                        <td id=\"T_92662c38_c8f8_11eb_8670_5cbaef7ebc1crow5_col7\" class=\"data row5 col7\" >2020-11-11</td>\n",
       "                        <td id=\"T_92662c38_c8f8_11eb_8670_5cbaef7ebc1crow5_col8\" class=\"data row5 col8\" >2020-12-04</td>\n",
       "            </tr>\n",
       "            <tr>\n",
       "                        <th id=\"T_92662c38_c8f8_11eb_8670_5cbaef7ebc1clevel0_row6\" class=\"row_heading level0 row6\" >6</th>\n",
       "                        <td id=\"T_92662c38_c8f8_11eb_8670_5cbaef7ebc1crow6_col0\" class=\"data row6 col0\" >197</td>\n",
       "                        <td id=\"T_92662c38_c8f8_11eb_8670_5cbaef7ebc1crow6_col1\" class=\"data row6 col1\" >DIF</td>\n",
       "                        <td id=\"T_92662c38_c8f8_11eb_8670_5cbaef7ebc1crow6_col2\" class=\"data row6 col2\" >2020</td>\n",
       "                        <td id=\"T_92662c38_c8f8_11eb_8670_5cbaef7ebc1crow6_col3\" class=\"data row6 col3\" >4</td>\n",
       "                        <td id=\"T_92662c38_c8f8_11eb_8670_5cbaef7ebc1crow6_col4\" class=\"data row6 col4\" >80,000</td>\n",
       "                        <td id=\"T_92662c38_c8f8_11eb_8670_5cbaef7ebc1crow6_col5\" class=\"data row6 col5\" >0.2610</td>\n",
       "                        <td id=\"T_92662c38_c8f8_11eb_8670_5cbaef7ebc1crow6_col6\" class=\"data row6 col6\" >20,880.00</td>\n",
       "                        <td id=\"T_92662c38_c8f8_11eb_8670_5cbaef7ebc1crow6_col7\" class=\"data row6 col7\" >2021-02-23</td>\n",
       "                        <td id=\"T_92662c38_c8f8_11eb_8670_5cbaef7ebc1crow6_col8\" class=\"data row6 col8\" >2021-03-12</td>\n",
       "            </tr>\n",
       "            <tr>\n",
       "                        <th id=\"T_92662c38_c8f8_11eb_8670_5cbaef7ebc1clevel0_row7\" class=\"row_heading level0 row7\" >7</th>\n",
       "                        <td id=\"T_92662c38_c8f8_11eb_8670_5cbaef7ebc1crow7_col0\" class=\"data row7 col0\" >235</td>\n",
       "                        <td id=\"T_92662c38_c8f8_11eb_8670_5cbaef7ebc1crow7_col1\" class=\"data row7 col1\" >DIF</td>\n",
       "                        <td id=\"T_92662c38_c8f8_11eb_8670_5cbaef7ebc1crow7_col2\" class=\"data row7 col2\" >2021</td>\n",
       "                        <td id=\"T_92662c38_c8f8_11eb_8670_5cbaef7ebc1crow7_col3\" class=\"data row7 col3\" >1</td>\n",
       "                        <td id=\"T_92662c38_c8f8_11eb_8670_5cbaef7ebc1crow7_col4\" class=\"data row7 col4\" >100,000</td>\n",
       "                        <td id=\"T_92662c38_c8f8_11eb_8670_5cbaef7ebc1crow7_col5\" class=\"data row7 col5\" >0.2610</td>\n",
       "                        <td id=\"T_92662c38_c8f8_11eb_8670_5cbaef7ebc1crow7_col6\" class=\"data row7 col6\" >26,100.00</td>\n",
       "                        <td id=\"T_92662c38_c8f8_11eb_8670_5cbaef7ebc1crow7_col7\" class=\"data row7 col7\" >2021-05-12</td>\n",
       "                        <td id=\"T_92662c38_c8f8_11eb_8670_5cbaef7ebc1crow7_col8\" class=\"data row7 col8\" >2021-06-04</td>\n",
       "            </tr>\n",
       "    </tbody></table>"
      ],
      "text/plain": [
       "<pandas.io.formats.style.Styler at 0x183eb24a9a0>"
      ]
     },
     "execution_count": 43,
     "metadata": {},
     "output_type": "execute_result"
    }
   ],
   "source": [
    "sql = \"\"\"\n",
    "SELECT id, name, year, quarter, number, ppu, net AS div_amt, x_date, p_date\n",
    "FROM dividends\n",
    "WHERE name = '%s'\n",
    "AND ((year = %s AND quarter >= %s) \n",
    "OR (year > %s))\n",
    "ORDER BY name, year, quarter\n",
    "\"\"\"\n",
    "sql = sql % (name, div_year, div_quarter, div_year)\n",
    "dividends = pd.read_sql(sql, conpf)\n",
    "dividends.style.format(format_dict)"
   ]
  },
  {
   "cell_type": "code",
   "execution_count": 44,
   "metadata": {},
   "outputs": [
    {
     "data": {
      "text/plain": [
       "132969.5"
      ]
     },
     "execution_count": 44,
     "metadata": {},
     "output_type": "execute_result"
    }
   ],
   "source": [
    "dividends.div_amt.sum()"
   ]
  },
  {
   "cell_type": "code",
   "execution_count": null,
   "metadata": {},
   "outputs": [],
   "source": []
  }
 ],
 "metadata": {
  "anaconda-cloud": {},
  "kernelspec": {
   "display_name": "Python 3",
   "language": "python",
   "name": "python3"
  },
  "language_info": {
   "codemirror_mode": {
    "name": "ipython",
    "version": 3
   },
   "file_extension": ".py",
   "mimetype": "text/x-python",
   "name": "python",
   "nbconvert_exporter": "python",
   "pygments_lexer": "ipython3",
   "version": "3.8.5"
  }
 },
 "nbformat": 4,
 "nbformat_minor": 1
}
