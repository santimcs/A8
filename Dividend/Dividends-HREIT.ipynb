{
 "cells": [
  {
   "cell_type": "code",
   "execution_count": 1,
   "metadata": {},
   "outputs": [],
   "source": [
    "import pandas as pd\n",
    "import numpy as np\n",
    "from datetime import date, timedelta\n",
    "from sqlalchemy import create_engine\n",
    "\n",
    "engine = create_engine('mysql+pymysql://root:@localhost:3306/portfolio_development')\n",
    "conpf = engine.connect()\n",
    "\n",
    "data_path = \"../data/\"\n",
    "csv_path = \"\\\\Users\\\\User\\\\iCloudDrive\\\\\"\n",
    "box_path = \"\\\\Users\\\\User\\\\Dropbox\\\\\"\n",
    "\n",
    "format_dict = {\n",
    "               'price':'{:.2f}','buy_p':'{:.2f}','sell_p':'{:.2f}','diff':'{:.2f}',\n",
    "               'ppu':'{:.4f}',\n",
    "               'net':'{:,.2f}','fee':'{:,.2f}','vat':'{:,.2f}',\n",
    "               'buy_amt':'{:,.2f}','sell_amt':'{:,.2f}','profit':'{:,.2f}',\n",
    "               'div_amt':'{:,.2f}','ttl_amt':'{:,.2f}','pct':'{:,.2f}',\n",
    "               'qty':'{:,}','number':'{:,}','days':'{:,}'\n",
    "              }\n",
    "pd.set_option(\"display.max_rows\", None)\n",
    "\n",
    "cols = 'name ttl_qty buy_amt ppu div_amt buy_date x_date p_date days pct year quarter'.split()\n",
    "colt = 'name ttl_qty buy_amt ppu div_amt buy_date x_date p_date days pct year quarter number'.split()\n",
    "\n",
    "name = 'HREIT'"
   ]
  },
  {
   "cell_type": "markdown",
   "metadata": {},
   "source": [
    "### 1ST Batch"
   ]
  },
  {
   "cell_type": "code",
   "execution_count": 2,
   "metadata": {},
   "outputs": [],
   "source": [
    "div_year = 2020\n",
    "div_quarter = 2\n",
    "ids = '756'"
   ]
  },
  {
   "cell_type": "code",
   "execution_count": 3,
   "metadata": {},
   "outputs": [
    {
     "data": {
      "text/html": [
       "<div>\n",
       "<style scoped>\n",
       "    .dataframe tbody tr th:only-of-type {\n",
       "        vertical-align: middle;\n",
       "    }\n",
       "\n",
       "    .dataframe tbody tr th {\n",
       "        vertical-align: top;\n",
       "    }\n",
       "\n",
       "    .dataframe thead th {\n",
       "        text-align: right;\n",
       "    }\n",
       "</style>\n",
       "<table border=\"1\" class=\"dataframe\">\n",
       "  <thead>\n",
       "    <tr style=\"text-align: right;\">\n",
       "      <th></th>\n",
       "      <th>name</th>\n",
       "      <th>ttl_qty</th>\n",
       "      <th>buy_amt</th>\n",
       "      <th>buy_date</th>\n",
       "    </tr>\n",
       "  </thead>\n",
       "  <tbody>\n",
       "    <tr>\n",
       "      <th>0</th>\n",
       "      <td>HREIT</td>\n",
       "      <td>12000.0</td>\n",
       "      <td>98617.95</td>\n",
       "      <td>2020-08-14</td>\n",
       "    </tr>\n",
       "  </tbody>\n",
       "</table>\n",
       "</div>"
      ],
      "text/plain": [
       "    name  ttl_qty   buy_amt    buy_date\n",
       "0  HREIT  12000.0  98617.95  2020-08-14"
      ]
     },
     "execution_count": 3,
     "metadata": {},
     "output_type": "execute_result"
    }
   ],
   "source": [
    "sql = '''\n",
    "SELECT T.name, SUM(qty) AS ttl_qty, \n",
    "SUM(B.net) AS buy_amt, MIN(date) AS buy_date\n",
    "FROM buys B\n",
    "JOIN stocks T ON B.stock_id = T.id \n",
    "WHERE B.id IN (%s)\n",
    "GROUP BY T.name'''\n",
    "sql = sql % (ids)\n",
    "buys = pd.read_sql(sql, conpf)\n",
    "buys"
   ]
  },
  {
   "cell_type": "code",
   "execution_count": 4,
   "metadata": {},
   "outputs": [
    {
     "data": {
      "text/html": [
       "<style  type=\"text/css\" >\n",
       "</style><table id=\"T_029ba79a_d443_11eb_8ecd_5cbaef7ebc1c\" ><thead>    <tr>        <th class=\"blank level0\" ></th>        <th class=\"col_heading level0 col0\" >id</th>        <th class=\"col_heading level0 col1\" >name</th>        <th class=\"col_heading level0 col2\" >year</th>        <th class=\"col_heading level0 col3\" >quarter</th>        <th class=\"col_heading level0 col4\" >number</th>        <th class=\"col_heading level0 col5\" >ppu</th>        <th class=\"col_heading level0 col6\" >div_amt</th>        <th class=\"col_heading level0 col7\" >x_date</th>        <th class=\"col_heading level0 col8\" >p_date</th>    </tr></thead><tbody>\n",
       "                <tr>\n",
       "                        <th id=\"T_029ba79a_d443_11eb_8ecd_5cbaef7ebc1clevel0_row0\" class=\"row_heading level0 row0\" >0</th>\n",
       "                        <td id=\"T_029ba79a_d443_11eb_8ecd_5cbaef7ebc1crow0_col0\" class=\"data row0 col0\" >203</td>\n",
       "                        <td id=\"T_029ba79a_d443_11eb_8ecd_5cbaef7ebc1crow0_col1\" class=\"data row0 col1\" >HREIT</td>\n",
       "                        <td id=\"T_029ba79a_d443_11eb_8ecd_5cbaef7ebc1crow0_col2\" class=\"data row0 col2\" >2021</td>\n",
       "                        <td id=\"T_029ba79a_d443_11eb_8ecd_5cbaef7ebc1crow0_col3\" class=\"data row0 col3\" >1</td>\n",
       "                        <td id=\"T_029ba79a_d443_11eb_8ecd_5cbaef7ebc1crow0_col4\" class=\"data row0 col4\" >30,000</td>\n",
       "                        <td id=\"T_029ba79a_d443_11eb_8ecd_5cbaef7ebc1crow0_col5\" class=\"data row0 col5\" >0.1738</td>\n",
       "                        <td id=\"T_029ba79a_d443_11eb_8ecd_5cbaef7ebc1crow0_col6\" class=\"data row0 col6\" >4,692.60</td>\n",
       "                        <td id=\"T_029ba79a_d443_11eb_8ecd_5cbaef7ebc1crow0_col7\" class=\"data row0 col7\" >2021-05-25</td>\n",
       "                        <td id=\"T_029ba79a_d443_11eb_8ecd_5cbaef7ebc1crow0_col8\" class=\"data row0 col8\" >2021-06-25</td>\n",
       "            </tr>\n",
       "            <tr>\n",
       "                        <th id=\"T_029ba79a_d443_11eb_8ecd_5cbaef7ebc1clevel0_row1\" class=\"row_heading level0 row1\" >1</th>\n",
       "                        <td id=\"T_029ba79a_d443_11eb_8ecd_5cbaef7ebc1crow1_col0\" class=\"data row1 col0\" >187</td>\n",
       "                        <td id=\"T_029ba79a_d443_11eb_8ecd_5cbaef7ebc1crow1_col1\" class=\"data row1 col1\" >HREIT</td>\n",
       "                        <td id=\"T_029ba79a_d443_11eb_8ecd_5cbaef7ebc1crow1_col2\" class=\"data row1 col2\" >2020</td>\n",
       "                        <td id=\"T_029ba79a_d443_11eb_8ecd_5cbaef7ebc1crow1_col3\" class=\"data row1 col3\" >4</td>\n",
       "                        <td id=\"T_029ba79a_d443_11eb_8ecd_5cbaef7ebc1crow1_col4\" class=\"data row1 col4\" >30,000</td>\n",
       "                        <td id=\"T_029ba79a_d443_11eb_8ecd_5cbaef7ebc1crow1_col5\" class=\"data row1 col5\" >0.1718</td>\n",
       "                        <td id=\"T_029ba79a_d443_11eb_8ecd_5cbaef7ebc1crow1_col6\" class=\"data row1 col6\" >4,638.00</td>\n",
       "                        <td id=\"T_029ba79a_d443_11eb_8ecd_5cbaef7ebc1crow1_col7\" class=\"data row1 col7\" >2020-12-04</td>\n",
       "                        <td id=\"T_029ba79a_d443_11eb_8ecd_5cbaef7ebc1crow1_col8\" class=\"data row1 col8\" >2020-12-24</td>\n",
       "            </tr>\n",
       "            <tr>\n",
       "                        <th id=\"T_029ba79a_d443_11eb_8ecd_5cbaef7ebc1clevel0_row2\" class=\"row_heading level0 row2\" >2</th>\n",
       "                        <td id=\"T_029ba79a_d443_11eb_8ecd_5cbaef7ebc1crow2_col0\" class=\"data row2 col0\" >186</td>\n",
       "                        <td id=\"T_029ba79a_d443_11eb_8ecd_5cbaef7ebc1crow2_col1\" class=\"data row2 col1\" >HREIT</td>\n",
       "                        <td id=\"T_029ba79a_d443_11eb_8ecd_5cbaef7ebc1crow2_col2\" class=\"data row2 col2\" >2020</td>\n",
       "                        <td id=\"T_029ba79a_d443_11eb_8ecd_5cbaef7ebc1crow2_col3\" class=\"data row2 col3\" >3</td>\n",
       "                        <td id=\"T_029ba79a_d443_11eb_8ecd_5cbaef7ebc1crow2_col4\" class=\"data row2 col4\" >30,000</td>\n",
       "                        <td id=\"T_029ba79a_d443_11eb_8ecd_5cbaef7ebc1crow2_col5\" class=\"data row2 col5\" >0.1715</td>\n",
       "                        <td id=\"T_029ba79a_d443_11eb_8ecd_5cbaef7ebc1crow2_col6\" class=\"data row2 col6\" >4,630.50</td>\n",
       "                        <td id=\"T_029ba79a_d443_11eb_8ecd_5cbaef7ebc1crow2_col7\" class=\"data row2 col7\" >2020-11-24</td>\n",
       "                        <td id=\"T_029ba79a_d443_11eb_8ecd_5cbaef7ebc1crow2_col8\" class=\"data row2 col8\" >2020-12-14</td>\n",
       "            </tr>\n",
       "            <tr>\n",
       "                        <th id=\"T_029ba79a_d443_11eb_8ecd_5cbaef7ebc1clevel0_row3\" class=\"row_heading level0 row3\" >3</th>\n",
       "                        <td id=\"T_029ba79a_d443_11eb_8ecd_5cbaef7ebc1crow3_col0\" class=\"data row3 col0\" >173</td>\n",
       "                        <td id=\"T_029ba79a_d443_11eb_8ecd_5cbaef7ebc1crow3_col1\" class=\"data row3 col1\" >HREIT</td>\n",
       "                        <td id=\"T_029ba79a_d443_11eb_8ecd_5cbaef7ebc1crow3_col2\" class=\"data row3 col2\" >2020</td>\n",
       "                        <td id=\"T_029ba79a_d443_11eb_8ecd_5cbaef7ebc1crow3_col3\" class=\"data row3 col3\" >2</td>\n",
       "                        <td id=\"T_029ba79a_d443_11eb_8ecd_5cbaef7ebc1crow3_col4\" class=\"data row3 col4\" >12,000</td>\n",
       "                        <td id=\"T_029ba79a_d443_11eb_8ecd_5cbaef7ebc1crow3_col5\" class=\"data row3 col5\" >0.1715</td>\n",
       "                        <td id=\"T_029ba79a_d443_11eb_8ecd_5cbaef7ebc1crow3_col6\" class=\"data row3 col6\" >1,852.20</td>\n",
       "                        <td id=\"T_029ba79a_d443_11eb_8ecd_5cbaef7ebc1crow3_col7\" class=\"data row3 col7\" >2020-08-18</td>\n",
       "                        <td id=\"T_029ba79a_d443_11eb_8ecd_5cbaef7ebc1crow3_col8\" class=\"data row3 col8\" >2020-09-18</td>\n",
       "            </tr>\n",
       "    </tbody></table>"
      ],
      "text/plain": [
       "<pandas.io.formats.style.Styler at 0x25aa3983520>"
      ]
     },
     "execution_count": 4,
     "metadata": {},
     "output_type": "execute_result"
    }
   ],
   "source": [
    "sql = \"\"\"\n",
    "SELECT id, name, year, quarter, number, ppu, net AS div_amt, x_date, p_date\n",
    "FROM dividends\n",
    "WHERE name = '%s'\n",
    "AND ((year = %s AND quarter >= %s) \n",
    "OR (year > %s))\n",
    "ORDER BY name, year DESC, quarter DESC\n",
    "\"\"\"\n",
    "sql = sql % (name, div_year, div_quarter, div_year)\n",
    "dividends = pd.read_sql(sql, conpf)\n",
    "dividends.style.format(format_dict)"
   ]
  },
  {
   "cell_type": "code",
   "execution_count": 5,
   "metadata": {
    "scrolled": true
   },
   "outputs": [
    {
     "data": {
      "text/html": [
       "<div>\n",
       "<style scoped>\n",
       "    .dataframe tbody tr th:only-of-type {\n",
       "        vertical-align: middle;\n",
       "    }\n",
       "\n",
       "    .dataframe tbody tr th {\n",
       "        vertical-align: top;\n",
       "    }\n",
       "\n",
       "    .dataframe thead th {\n",
       "        text-align: right;\n",
       "    }\n",
       "</style>\n",
       "<table border=\"1\" class=\"dataframe\">\n",
       "  <thead>\n",
       "    <tr style=\"text-align: right;\">\n",
       "      <th></th>\n",
       "      <th>name</th>\n",
       "      <th>ttl_qty</th>\n",
       "      <th>buy_amt</th>\n",
       "      <th>ppu</th>\n",
       "      <th>div_amt</th>\n",
       "      <th>buy_date</th>\n",
       "      <th>x_date</th>\n",
       "      <th>p_date</th>\n",
       "      <th>days</th>\n",
       "      <th>pct</th>\n",
       "      <th>year</th>\n",
       "      <th>quarter</th>\n",
       "    </tr>\n",
       "  </thead>\n",
       "  <tbody>\n",
       "    <tr>\n",
       "      <th>0</th>\n",
       "      <td>HREIT</td>\n",
       "      <td>12000.0</td>\n",
       "      <td>98617.95</td>\n",
       "      <td>0.1738</td>\n",
       "      <td>2085.6</td>\n",
       "      <td>2020-08-14</td>\n",
       "      <td>2021-05-25</td>\n",
       "      <td>2021-06-25</td>\n",
       "      <td>315</td>\n",
       "      <td>2.45</td>\n",
       "      <td>2021</td>\n",
       "      <td>1</td>\n",
       "    </tr>\n",
       "    <tr>\n",
       "      <th>1</th>\n",
       "      <td>HREIT</td>\n",
       "      <td>12000.0</td>\n",
       "      <td>98617.95</td>\n",
       "      <td>0.1718</td>\n",
       "      <td>2061.6</td>\n",
       "      <td>2020-08-14</td>\n",
       "      <td>2020-12-04</td>\n",
       "      <td>2020-12-24</td>\n",
       "      <td>132</td>\n",
       "      <td>5.78</td>\n",
       "      <td>2020</td>\n",
       "      <td>4</td>\n",
       "    </tr>\n",
       "    <tr>\n",
       "      <th>2</th>\n",
       "      <td>HREIT</td>\n",
       "      <td>12000.0</td>\n",
       "      <td>98617.95</td>\n",
       "      <td>0.1715</td>\n",
       "      <td>2058.0</td>\n",
       "      <td>2020-08-14</td>\n",
       "      <td>2020-11-24</td>\n",
       "      <td>2020-12-14</td>\n",
       "      <td>122</td>\n",
       "      <td>6.24</td>\n",
       "      <td>2020</td>\n",
       "      <td>3</td>\n",
       "    </tr>\n",
       "    <tr>\n",
       "      <th>3</th>\n",
       "      <td>HREIT</td>\n",
       "      <td>12000.0</td>\n",
       "      <td>98617.95</td>\n",
       "      <td>0.1715</td>\n",
       "      <td>2058.0</td>\n",
       "      <td>2020-08-14</td>\n",
       "      <td>2020-08-18</td>\n",
       "      <td>2020-09-18</td>\n",
       "      <td>35</td>\n",
       "      <td>21.76</td>\n",
       "      <td>2020</td>\n",
       "      <td>2</td>\n",
       "    </tr>\n",
       "  </tbody>\n",
       "</table>\n",
       "</div>"
      ],
      "text/plain": [
       "    name  ttl_qty   buy_amt     ppu  div_amt    buy_date      x_date  \\\n",
       "0  HREIT  12000.0  98617.95  0.1738   2085.6  2020-08-14  2021-05-25   \n",
       "1  HREIT  12000.0  98617.95  0.1718   2061.6  2020-08-14  2020-12-04   \n",
       "2  HREIT  12000.0  98617.95  0.1715   2058.0  2020-08-14  2020-11-24   \n",
       "3  HREIT  12000.0  98617.95  0.1715   2058.0  2020-08-14  2020-08-18   \n",
       "\n",
       "       p_date  days    pct  year  quarter  \n",
       "0  2021-06-25   315   2.45  2021        1  \n",
       "1  2020-12-24   132   5.78  2020        4  \n",
       "2  2020-12-14   122   6.24  2020        3  \n",
       "3  2020-09-18    35  21.76  2020        2  "
      ]
     },
     "execution_count": 5,
     "metadata": {},
     "output_type": "execute_result"
    }
   ],
   "source": [
    "df_merge = pd.merge(buys, dividends, on='name', how='inner')\n",
    "df_merge['div_amt'] = df_merge.ppu * df_merge.ttl_qty\n",
    "df_merge['days'] = df_merge.p_date - df_merge.buy_date\n",
    "df_merge['days'] = df_merge['days']/np.timedelta64(1,'D')\n",
    "df_merge['days'] = df_merge['days'].astype(int)\n",
    "df_merge['pct'] = round(df_merge['div_amt']/df_merge['buy_amt']*36500/df_merge['days'],2)\n",
    "df_merge[cols]"
   ]
  },
  {
   "cell_type": "code",
   "execution_count": 6,
   "metadata": {},
   "outputs": [
    {
     "data": {
      "text/plain": [
       "name\n",
       "HREIT    8263.2\n",
       "Name: div_amt, dtype: float64"
      ]
     },
     "execution_count": 6,
     "metadata": {},
     "output_type": "execute_result"
    }
   ],
   "source": [
    "df_grp =df_merge.groupby(['name'])['div_amt'].sum()\n",
    "div1 = df_grp\n",
    "div1"
   ]
  },
  {
   "cell_type": "code",
   "execution_count": 7,
   "metadata": {},
   "outputs": [
    {
     "data": {
      "text/plain": [
       "('../data/div-HREIT.csv',\n",
       " '\\\\Users\\\\User\\\\iCloudDrive\\\\div-HREIT.csv',\n",
       " '\\\\Users\\\\User\\\\Dropbox\\\\div-HREIT.csv')"
      ]
     },
     "execution_count": 7,
     "metadata": {},
     "output_type": "execute_result"
    }
   ],
   "source": [
    "file_name = 'div-' + name + '.csv'\n",
    "data_file = data_path + file_name\n",
    "output_file = csv_path + file_name\n",
    "box_file = box_path + file_name\n",
    "data_file, output_file, box_file"
   ]
  },
  {
   "cell_type": "code",
   "execution_count": 8,
   "metadata": {},
   "outputs": [],
   "source": [
    "df_merge[colt].to_csv(output_file)\n",
    "df_merge[colt].to_csv(data_file)\n",
    "df_merge[colt].to_csv(box_file)"
   ]
  },
  {
   "cell_type": "markdown",
   "metadata": {},
   "source": [
    "### Second batch of purchase"
   ]
  },
  {
   "cell_type": "code",
   "execution_count": 9,
   "metadata": {},
   "outputs": [],
   "source": [
    "div_year = 2020\n",
    "div_quarter = 3\n",
    "ids = '764,774,782'"
   ]
  },
  {
   "cell_type": "code",
   "execution_count": 10,
   "metadata": {},
   "outputs": [
    {
     "data": {
      "text/html": [
       "<div>\n",
       "<style scoped>\n",
       "    .dataframe tbody tr th:only-of-type {\n",
       "        vertical-align: middle;\n",
       "    }\n",
       "\n",
       "    .dataframe tbody tr th {\n",
       "        vertical-align: top;\n",
       "    }\n",
       "\n",
       "    .dataframe thead th {\n",
       "        text-align: right;\n",
       "    }\n",
       "</style>\n",
       "<table border=\"1\" class=\"dataframe\">\n",
       "  <thead>\n",
       "    <tr style=\"text-align: right;\">\n",
       "      <th></th>\n",
       "      <th>name</th>\n",
       "      <th>ttl_qty</th>\n",
       "      <th>buy_amt</th>\n",
       "      <th>buy_date</th>\n",
       "    </tr>\n",
       "  </thead>\n",
       "  <tbody>\n",
       "    <tr>\n",
       "      <th>0</th>\n",
       "      <td>HREIT</td>\n",
       "      <td>18000.0</td>\n",
       "      <td>142815.64</td>\n",
       "      <td>2020-09-01</td>\n",
       "    </tr>\n",
       "  </tbody>\n",
       "</table>\n",
       "</div>"
      ],
      "text/plain": [
       "    name  ttl_qty    buy_amt    buy_date\n",
       "0  HREIT  18000.0  142815.64  2020-09-01"
      ]
     },
     "execution_count": 10,
     "metadata": {},
     "output_type": "execute_result"
    }
   ],
   "source": [
    "sql = '''\n",
    "SELECT T.name, SUM(qty) AS ttl_qty, \n",
    "SUM(B.net) AS buy_amt, MIN(date) AS buy_date\n",
    "FROM buys B\n",
    "JOIN stocks T ON B.stock_id = T.id \n",
    "WHERE B.id IN (%s)\n",
    "GROUP BY T.name'''\n",
    "sql = sql % (ids)\n",
    "buys = pd.read_sql(sql, conpf)\n",
    "buys"
   ]
  },
  {
   "cell_type": "code",
   "execution_count": 11,
   "metadata": {},
   "outputs": [
    {
     "data": {
      "text/html": [
       "<style  type=\"text/css\" >\n",
       "</style><table id=\"T_44ce704b_d444_11eb_adb9_5cbaef7ebc1c\" ><thead>    <tr>        <th class=\"blank level0\" ></th>        <th class=\"col_heading level0 col0\" >id</th>        <th class=\"col_heading level0 col1\" >name</th>        <th class=\"col_heading level0 col2\" >year</th>        <th class=\"col_heading level0 col3\" >quarter</th>        <th class=\"col_heading level0 col4\" >number</th>        <th class=\"col_heading level0 col5\" >ppu</th>        <th class=\"col_heading level0 col6\" >div_amt</th>        <th class=\"col_heading level0 col7\" >x_date</th>        <th class=\"col_heading level0 col8\" >p_date</th>    </tr></thead><tbody>\n",
       "                <tr>\n",
       "                        <th id=\"T_44ce704b_d444_11eb_adb9_5cbaef7ebc1clevel0_row0\" class=\"row_heading level0 row0\" >0</th>\n",
       "                        <td id=\"T_44ce704b_d444_11eb_adb9_5cbaef7ebc1crow0_col0\" class=\"data row0 col0\" >203</td>\n",
       "                        <td id=\"T_44ce704b_d444_11eb_adb9_5cbaef7ebc1crow0_col1\" class=\"data row0 col1\" >HREIT</td>\n",
       "                        <td id=\"T_44ce704b_d444_11eb_adb9_5cbaef7ebc1crow0_col2\" class=\"data row0 col2\" >2021</td>\n",
       "                        <td id=\"T_44ce704b_d444_11eb_adb9_5cbaef7ebc1crow0_col3\" class=\"data row0 col3\" >1</td>\n",
       "                        <td id=\"T_44ce704b_d444_11eb_adb9_5cbaef7ebc1crow0_col4\" class=\"data row0 col4\" >30,000</td>\n",
       "                        <td id=\"T_44ce704b_d444_11eb_adb9_5cbaef7ebc1crow0_col5\" class=\"data row0 col5\" >0.1738</td>\n",
       "                        <td id=\"T_44ce704b_d444_11eb_adb9_5cbaef7ebc1crow0_col6\" class=\"data row0 col6\" >4,692.60</td>\n",
       "                        <td id=\"T_44ce704b_d444_11eb_adb9_5cbaef7ebc1crow0_col7\" class=\"data row0 col7\" >2021-05-25</td>\n",
       "                        <td id=\"T_44ce704b_d444_11eb_adb9_5cbaef7ebc1crow0_col8\" class=\"data row0 col8\" >2021-06-25</td>\n",
       "            </tr>\n",
       "            <tr>\n",
       "                        <th id=\"T_44ce704b_d444_11eb_adb9_5cbaef7ebc1clevel0_row1\" class=\"row_heading level0 row1\" >1</th>\n",
       "                        <td id=\"T_44ce704b_d444_11eb_adb9_5cbaef7ebc1crow1_col0\" class=\"data row1 col0\" >187</td>\n",
       "                        <td id=\"T_44ce704b_d444_11eb_adb9_5cbaef7ebc1crow1_col1\" class=\"data row1 col1\" >HREIT</td>\n",
       "                        <td id=\"T_44ce704b_d444_11eb_adb9_5cbaef7ebc1crow1_col2\" class=\"data row1 col2\" >2020</td>\n",
       "                        <td id=\"T_44ce704b_d444_11eb_adb9_5cbaef7ebc1crow1_col3\" class=\"data row1 col3\" >4</td>\n",
       "                        <td id=\"T_44ce704b_d444_11eb_adb9_5cbaef7ebc1crow1_col4\" class=\"data row1 col4\" >30,000</td>\n",
       "                        <td id=\"T_44ce704b_d444_11eb_adb9_5cbaef7ebc1crow1_col5\" class=\"data row1 col5\" >0.1718</td>\n",
       "                        <td id=\"T_44ce704b_d444_11eb_adb9_5cbaef7ebc1crow1_col6\" class=\"data row1 col6\" >4,638.00</td>\n",
       "                        <td id=\"T_44ce704b_d444_11eb_adb9_5cbaef7ebc1crow1_col7\" class=\"data row1 col7\" >2020-12-04</td>\n",
       "                        <td id=\"T_44ce704b_d444_11eb_adb9_5cbaef7ebc1crow1_col8\" class=\"data row1 col8\" >2020-12-24</td>\n",
       "            </tr>\n",
       "            <tr>\n",
       "                        <th id=\"T_44ce704b_d444_11eb_adb9_5cbaef7ebc1clevel0_row2\" class=\"row_heading level0 row2\" >2</th>\n",
       "                        <td id=\"T_44ce704b_d444_11eb_adb9_5cbaef7ebc1crow2_col0\" class=\"data row2 col0\" >186</td>\n",
       "                        <td id=\"T_44ce704b_d444_11eb_adb9_5cbaef7ebc1crow2_col1\" class=\"data row2 col1\" >HREIT</td>\n",
       "                        <td id=\"T_44ce704b_d444_11eb_adb9_5cbaef7ebc1crow2_col2\" class=\"data row2 col2\" >2020</td>\n",
       "                        <td id=\"T_44ce704b_d444_11eb_adb9_5cbaef7ebc1crow2_col3\" class=\"data row2 col3\" >3</td>\n",
       "                        <td id=\"T_44ce704b_d444_11eb_adb9_5cbaef7ebc1crow2_col4\" class=\"data row2 col4\" >30,000</td>\n",
       "                        <td id=\"T_44ce704b_d444_11eb_adb9_5cbaef7ebc1crow2_col5\" class=\"data row2 col5\" >0.1715</td>\n",
       "                        <td id=\"T_44ce704b_d444_11eb_adb9_5cbaef7ebc1crow2_col6\" class=\"data row2 col6\" >4,630.50</td>\n",
       "                        <td id=\"T_44ce704b_d444_11eb_adb9_5cbaef7ebc1crow2_col7\" class=\"data row2 col7\" >2020-11-24</td>\n",
       "                        <td id=\"T_44ce704b_d444_11eb_adb9_5cbaef7ebc1crow2_col8\" class=\"data row2 col8\" >2020-12-14</td>\n",
       "            </tr>\n",
       "    </tbody></table>"
      ],
      "text/plain": [
       "<pandas.io.formats.style.Styler at 0x25aa397ef70>"
      ]
     },
     "execution_count": 11,
     "metadata": {},
     "output_type": "execute_result"
    }
   ],
   "source": [
    "sql = \"\"\"\n",
    "SELECT id, name, year, quarter, number, ppu, net AS div_amt, x_date, p_date\n",
    "FROM dividends\n",
    "WHERE name = '%s'\n",
    "AND ((year = %s AND quarter >= %s) \n",
    "OR (year > %s))\n",
    "ORDER BY name, year DESC, quarter DESC\n",
    "\"\"\"\n",
    "sql = sql % (name, div_year, div_quarter, div_year)\n",
    "dividends = pd.read_sql(sql, conpf)\n",
    "dividends.style.format(format_dict)"
   ]
  },
  {
   "cell_type": "code",
   "execution_count": 12,
   "metadata": {},
   "outputs": [
    {
     "data": {
      "text/html": [
       "<div>\n",
       "<style scoped>\n",
       "    .dataframe tbody tr th:only-of-type {\n",
       "        vertical-align: middle;\n",
       "    }\n",
       "\n",
       "    .dataframe tbody tr th {\n",
       "        vertical-align: top;\n",
       "    }\n",
       "\n",
       "    .dataframe thead th {\n",
       "        text-align: right;\n",
       "    }\n",
       "</style>\n",
       "<table border=\"1\" class=\"dataframe\">\n",
       "  <thead>\n",
       "    <tr style=\"text-align: right;\">\n",
       "      <th></th>\n",
       "      <th>name</th>\n",
       "      <th>ttl_qty</th>\n",
       "      <th>buy_amt</th>\n",
       "      <th>ppu</th>\n",
       "      <th>div_amt</th>\n",
       "      <th>buy_date</th>\n",
       "      <th>x_date</th>\n",
       "      <th>p_date</th>\n",
       "      <th>days</th>\n",
       "      <th>pct</th>\n",
       "      <th>year</th>\n",
       "      <th>quarter</th>\n",
       "    </tr>\n",
       "  </thead>\n",
       "  <tbody>\n",
       "    <tr>\n",
       "      <th>0</th>\n",
       "      <td>HREIT</td>\n",
       "      <td>18000.0</td>\n",
       "      <td>142815.64</td>\n",
       "      <td>0.1738</td>\n",
       "      <td>3128.4</td>\n",
       "      <td>2020-09-01</td>\n",
       "      <td>2021-05-25</td>\n",
       "      <td>2021-06-25</td>\n",
       "      <td>297</td>\n",
       "      <td>2.69</td>\n",
       "      <td>2021</td>\n",
       "      <td>1</td>\n",
       "    </tr>\n",
       "    <tr>\n",
       "      <th>1</th>\n",
       "      <td>HREIT</td>\n",
       "      <td>18000.0</td>\n",
       "      <td>142815.64</td>\n",
       "      <td>0.1718</td>\n",
       "      <td>3092.4</td>\n",
       "      <td>2020-09-01</td>\n",
       "      <td>2020-12-04</td>\n",
       "      <td>2020-12-24</td>\n",
       "      <td>114</td>\n",
       "      <td>6.93</td>\n",
       "      <td>2020</td>\n",
       "      <td>4</td>\n",
       "    </tr>\n",
       "    <tr>\n",
       "      <th>2</th>\n",
       "      <td>HREIT</td>\n",
       "      <td>18000.0</td>\n",
       "      <td>142815.64</td>\n",
       "      <td>0.1715</td>\n",
       "      <td>3087.0</td>\n",
       "      <td>2020-09-01</td>\n",
       "      <td>2020-11-24</td>\n",
       "      <td>2020-12-14</td>\n",
       "      <td>104</td>\n",
       "      <td>7.59</td>\n",
       "      <td>2020</td>\n",
       "      <td>3</td>\n",
       "    </tr>\n",
       "  </tbody>\n",
       "</table>\n",
       "</div>"
      ],
      "text/plain": [
       "    name  ttl_qty    buy_amt     ppu  div_amt    buy_date      x_date  \\\n",
       "0  HREIT  18000.0  142815.64  0.1738   3128.4  2020-09-01  2021-05-25   \n",
       "1  HREIT  18000.0  142815.64  0.1718   3092.4  2020-09-01  2020-12-04   \n",
       "2  HREIT  18000.0  142815.64  0.1715   3087.0  2020-09-01  2020-11-24   \n",
       "\n",
       "       p_date  days   pct  year  quarter  \n",
       "0  2021-06-25   297  2.69  2021        1  \n",
       "1  2020-12-24   114  6.93  2020        4  \n",
       "2  2020-12-14   104  7.59  2020        3  "
      ]
     },
     "execution_count": 12,
     "metadata": {},
     "output_type": "execute_result"
    }
   ],
   "source": [
    "df_merge = pd.merge(buys, dividends, on='name', how='inner')\n",
    "df_merge['div_amt'] = df_merge.ppu * df_merge.ttl_qty\n",
    "df_merge['days'] = df_merge.p_date - df_merge.buy_date\n",
    "df_merge['days'] = df_merge['days']/np.timedelta64(1,'D')\n",
    "df_merge['days'] = df_merge['days'].astype(int)\n",
    "df_merge['pct'] = round(df_merge['div_amt']/df_merge['buy_amt']*36500/df_merge['days'],2)\n",
    "df_merge[cols]"
   ]
  },
  {
   "cell_type": "code",
   "execution_count": 13,
   "metadata": {},
   "outputs": [
    {
     "data": {
      "text/plain": [
       "name\n",
       "HREIT    9307.8\n",
       "Name: div_amt, dtype: float64"
      ]
     },
     "execution_count": 13,
     "metadata": {},
     "output_type": "execute_result"
    }
   ],
   "source": [
    "df_grp =df_merge.groupby(['name'])['div_amt'].sum()\n",
    "div2 = df_grp\n",
    "div2"
   ]
  },
  {
   "cell_type": "code",
   "execution_count": 14,
   "metadata": {},
   "outputs": [],
   "source": [
    "df_merge[colt].to_csv(output_file,mode='a',header=False)\n",
    "df_merge[colt].to_csv(data_file,mode='a',header=False)\n",
    "df_merge[colt].to_csv(box_file,mode='a',header=False)"
   ]
  },
  {
   "cell_type": "markdown",
   "metadata": {},
   "source": [
    "### End of process"
   ]
  },
  {
   "cell_type": "code",
   "execution_count": 15,
   "metadata": {},
   "outputs": [],
   "source": [
    "div_year = 2020\n",
    "div_quarter = 2"
   ]
  },
  {
   "cell_type": "code",
   "execution_count": 16,
   "metadata": {},
   "outputs": [
    {
     "data": {
      "text/html": [
       "<style  type=\"text/css\" >\n",
       "</style><table id=\"T_74080035_d444_11eb_95f6_5cbaef7ebc1c\" ><thead>    <tr>        <th class=\"blank level0\" ></th>        <th class=\"col_heading level0 col0\" >id</th>        <th class=\"col_heading level0 col1\" >name</th>        <th class=\"col_heading level0 col2\" >year</th>        <th class=\"col_heading level0 col3\" >quarter</th>        <th class=\"col_heading level0 col4\" >number</th>        <th class=\"col_heading level0 col5\" >ppu</th>        <th class=\"col_heading level0 col6\" >div_amt</th>        <th class=\"col_heading level0 col7\" >x_date</th>        <th class=\"col_heading level0 col8\" >p_date</th>    </tr></thead><tbody>\n",
       "                <tr>\n",
       "                        <th id=\"T_74080035_d444_11eb_95f6_5cbaef7ebc1clevel0_row0\" class=\"row_heading level0 row0\" >0</th>\n",
       "                        <td id=\"T_74080035_d444_11eb_95f6_5cbaef7ebc1crow0_col0\" class=\"data row0 col0\" >173</td>\n",
       "                        <td id=\"T_74080035_d444_11eb_95f6_5cbaef7ebc1crow0_col1\" class=\"data row0 col1\" >HREIT</td>\n",
       "                        <td id=\"T_74080035_d444_11eb_95f6_5cbaef7ebc1crow0_col2\" class=\"data row0 col2\" >2020</td>\n",
       "                        <td id=\"T_74080035_d444_11eb_95f6_5cbaef7ebc1crow0_col3\" class=\"data row0 col3\" >2</td>\n",
       "                        <td id=\"T_74080035_d444_11eb_95f6_5cbaef7ebc1crow0_col4\" class=\"data row0 col4\" >12,000</td>\n",
       "                        <td id=\"T_74080035_d444_11eb_95f6_5cbaef7ebc1crow0_col5\" class=\"data row0 col5\" >0.1715</td>\n",
       "                        <td id=\"T_74080035_d444_11eb_95f6_5cbaef7ebc1crow0_col6\" class=\"data row0 col6\" >2,058.00</td>\n",
       "                        <td id=\"T_74080035_d444_11eb_95f6_5cbaef7ebc1crow0_col7\" class=\"data row0 col7\" >2020-08-18</td>\n",
       "                        <td id=\"T_74080035_d444_11eb_95f6_5cbaef7ebc1crow0_col8\" class=\"data row0 col8\" >2020-09-18</td>\n",
       "            </tr>\n",
       "            <tr>\n",
       "                        <th id=\"T_74080035_d444_11eb_95f6_5cbaef7ebc1clevel0_row1\" class=\"row_heading level0 row1\" >1</th>\n",
       "                        <td id=\"T_74080035_d444_11eb_95f6_5cbaef7ebc1crow1_col0\" class=\"data row1 col0\" >186</td>\n",
       "                        <td id=\"T_74080035_d444_11eb_95f6_5cbaef7ebc1crow1_col1\" class=\"data row1 col1\" >HREIT</td>\n",
       "                        <td id=\"T_74080035_d444_11eb_95f6_5cbaef7ebc1crow1_col2\" class=\"data row1 col2\" >2020</td>\n",
       "                        <td id=\"T_74080035_d444_11eb_95f6_5cbaef7ebc1crow1_col3\" class=\"data row1 col3\" >3</td>\n",
       "                        <td id=\"T_74080035_d444_11eb_95f6_5cbaef7ebc1crow1_col4\" class=\"data row1 col4\" >30,000</td>\n",
       "                        <td id=\"T_74080035_d444_11eb_95f6_5cbaef7ebc1crow1_col5\" class=\"data row1 col5\" >0.1715</td>\n",
       "                        <td id=\"T_74080035_d444_11eb_95f6_5cbaef7ebc1crow1_col6\" class=\"data row1 col6\" >5,145.00</td>\n",
       "                        <td id=\"T_74080035_d444_11eb_95f6_5cbaef7ebc1crow1_col7\" class=\"data row1 col7\" >2020-11-24</td>\n",
       "                        <td id=\"T_74080035_d444_11eb_95f6_5cbaef7ebc1crow1_col8\" class=\"data row1 col8\" >2020-12-14</td>\n",
       "            </tr>\n",
       "            <tr>\n",
       "                        <th id=\"T_74080035_d444_11eb_95f6_5cbaef7ebc1clevel0_row2\" class=\"row_heading level0 row2\" >2</th>\n",
       "                        <td id=\"T_74080035_d444_11eb_95f6_5cbaef7ebc1crow2_col0\" class=\"data row2 col0\" >187</td>\n",
       "                        <td id=\"T_74080035_d444_11eb_95f6_5cbaef7ebc1crow2_col1\" class=\"data row2 col1\" >HREIT</td>\n",
       "                        <td id=\"T_74080035_d444_11eb_95f6_5cbaef7ebc1crow2_col2\" class=\"data row2 col2\" >2020</td>\n",
       "                        <td id=\"T_74080035_d444_11eb_95f6_5cbaef7ebc1crow2_col3\" class=\"data row2 col3\" >4</td>\n",
       "                        <td id=\"T_74080035_d444_11eb_95f6_5cbaef7ebc1crow2_col4\" class=\"data row2 col4\" >30,000</td>\n",
       "                        <td id=\"T_74080035_d444_11eb_95f6_5cbaef7ebc1crow2_col5\" class=\"data row2 col5\" >0.1718</td>\n",
       "                        <td id=\"T_74080035_d444_11eb_95f6_5cbaef7ebc1crow2_col6\" class=\"data row2 col6\" >5,154.00</td>\n",
       "                        <td id=\"T_74080035_d444_11eb_95f6_5cbaef7ebc1crow2_col7\" class=\"data row2 col7\" >2020-12-04</td>\n",
       "                        <td id=\"T_74080035_d444_11eb_95f6_5cbaef7ebc1crow2_col8\" class=\"data row2 col8\" >2020-12-24</td>\n",
       "            </tr>\n",
       "            <tr>\n",
       "                        <th id=\"T_74080035_d444_11eb_95f6_5cbaef7ebc1clevel0_row3\" class=\"row_heading level0 row3\" >3</th>\n",
       "                        <td id=\"T_74080035_d444_11eb_95f6_5cbaef7ebc1crow3_col0\" class=\"data row3 col0\" >203</td>\n",
       "                        <td id=\"T_74080035_d444_11eb_95f6_5cbaef7ebc1crow3_col1\" class=\"data row3 col1\" >HREIT</td>\n",
       "                        <td id=\"T_74080035_d444_11eb_95f6_5cbaef7ebc1crow3_col2\" class=\"data row3 col2\" >2021</td>\n",
       "                        <td id=\"T_74080035_d444_11eb_95f6_5cbaef7ebc1crow3_col3\" class=\"data row3 col3\" >1</td>\n",
       "                        <td id=\"T_74080035_d444_11eb_95f6_5cbaef7ebc1crow3_col4\" class=\"data row3 col4\" >30,000</td>\n",
       "                        <td id=\"T_74080035_d444_11eb_95f6_5cbaef7ebc1crow3_col5\" class=\"data row3 col5\" >0.1738</td>\n",
       "                        <td id=\"T_74080035_d444_11eb_95f6_5cbaef7ebc1crow3_col6\" class=\"data row3 col6\" >5,214.00</td>\n",
       "                        <td id=\"T_74080035_d444_11eb_95f6_5cbaef7ebc1crow3_col7\" class=\"data row3 col7\" >2021-05-25</td>\n",
       "                        <td id=\"T_74080035_d444_11eb_95f6_5cbaef7ebc1crow3_col8\" class=\"data row3 col8\" >2021-06-25</td>\n",
       "            </tr>\n",
       "    </tbody></table>"
      ],
      "text/plain": [
       "<pandas.io.formats.style.Styler at 0x25aa7174ee0>"
      ]
     },
     "execution_count": 16,
     "metadata": {},
     "output_type": "execute_result"
    }
   ],
   "source": [
    "sql = \"\"\"\n",
    "SELECT id, name, year, quarter, number, ppu, number * ppu AS div_amt, x_date, p_date\n",
    "FROM dividends\n",
    "WHERE name = '%s'\n",
    "AND ((year = %s AND quarter >= %s) \n",
    "OR (year > %s))\n",
    "ORDER BY name, year, quarter\n",
    "\"\"\"\n",
    "sql = sql % (name, div_year, div_quarter, div_year)\n",
    "dividends = pd.read_sql(sql, conpf)\n",
    "dividends.style.format(format_dict)"
   ]
  },
  {
   "cell_type": "code",
   "execution_count": 17,
   "metadata": {},
   "outputs": [
    {
     "data": {
      "text/plain": [
       "17571.0"
      ]
     },
     "execution_count": 17,
     "metadata": {},
     "output_type": "execute_result"
    }
   ],
   "source": [
    "dividends.div_amt.sum()"
   ]
  },
  {
   "cell_type": "code",
   "execution_count": null,
   "metadata": {},
   "outputs": [],
   "source": []
  }
 ],
 "metadata": {
  "anaconda-cloud": {},
  "kernelspec": {
   "display_name": "Python 3",
   "language": "python",
   "name": "python3"
  },
  "language_info": {
   "codemirror_mode": {
    "name": "ipython",
    "version": 3
   },
   "file_extension": ".py",
   "mimetype": "text/x-python",
   "name": "python",
   "nbconvert_exporter": "python",
   "pygments_lexer": "ipython3",
   "version": "3.8.5"
  }
 },
 "nbformat": 4,
 "nbformat_minor": 1
}
