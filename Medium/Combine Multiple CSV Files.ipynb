{
 "cells": [
  {
   "cell_type": "code",
   "execution_count": 1,
   "id": "c32ad9b0",
   "metadata": {},
   "outputs": [
    {
     "data": {
      "text/plain": [
       "['.ipynb_checkpoints',\n",
       " '15 Tips and Tricks.ipynb',\n",
       " 'Combine Multiple CSV Files.ipynb',\n",
       " 'Seaborn Styler.ipynb',\n",
       " 'SQLite-main',\n",
       " 'titanic_pivot.ipynb',\n",
       " 'train.csv',\n",
       " 'Web Scraping.ipynb']"
      ]
     },
     "execution_count": 1,
     "metadata": {},
     "output_type": "execute_result"
    }
   ],
   "source": [
    "import pandas as pd\n",
    "import os\n",
    "os.listdir()"
   ]
  },
  {
   "cell_type": "code",
   "execution_count": 2,
   "id": "fa78b2b9",
   "metadata": {},
   "outputs": [
    {
     "data": {
      "text/plain": [
       "['F45-RAW-0107.csv',\n",
       " 'F45-RAW-0109.csv',\n",
       " 'F45-RAW-0113.csv',\n",
       " 'F45-RAW-0114.csv',\n",
       " 'F45-RAW-0117.csv',\n",
       " 'F45-RAW-0120.csv',\n",
       " 'F45-RAW-0121.csv',\n",
       " 'F45-RAW-0125.csv',\n",
       " 'F45-RAW-0126.csv',\n",
       " 'F45-RAW-0127.csv',\n",
       " 'F45-RAW-0128.csv',\n",
       " 'F45-RAW-0131.csv',\n",
       " 'F45-RAW-0204.csv',\n",
       " 'F45-RAW-0207.csv',\n",
       " 'F45-RAW-0211.csv',\n",
       " 'F45-RAW-0214.csv',\n",
       " 'F45-RAW-0215.csv',\n",
       " 'F45-RAW-0217.csv',\n",
       " 'F45-RAW-0218.csv',\n",
       " 'F45-RAW-0221.csv',\n",
       " 'F45-RAW-0222.csv',\n",
       " 'F45-RAW-0223.csv',\n",
       " 'F45-RAW-0224.csv',\n",
       " 'F45-RAW-0225.csv',\n",
       " 'F45-RAW-0228.csv',\n",
       " 'F45-RAW-0301.csv']"
      ]
     },
     "execution_count": 2,
     "metadata": {},
     "output_type": "execute_result"
    }
   ],
   "source": [
    "# start from Medium Folder\n",
    "os.chdir('../data/raw')\n",
    "os.listdir()"
   ]
  },
  {
   "cell_type": "code",
   "execution_count": 3,
   "id": "46c7b9d2",
   "metadata": {},
   "outputs": [
    {
     "data": {
      "text/plain": [
       "['F45-RAW-0107.csv',\n",
       " 'F45-RAW-0109.csv',\n",
       " 'F45-RAW-0113.csv',\n",
       " 'F45-RAW-0114.csv',\n",
       " 'F45-RAW-0117.csv',\n",
       " 'F45-RAW-0120.csv',\n",
       " 'F45-RAW-0121.csv',\n",
       " 'F45-RAW-0125.csv',\n",
       " 'F45-RAW-0126.csv',\n",
       " 'F45-RAW-0127.csv',\n",
       " 'F45-RAW-0128.csv',\n",
       " 'F45-RAW-0131.csv',\n",
       " 'F45-RAW-0204.csv',\n",
       " 'F45-RAW-0207.csv',\n",
       " 'F45-RAW-0211.csv',\n",
       " 'F45-RAW-0214.csv',\n",
       " 'F45-RAW-0215.csv',\n",
       " 'F45-RAW-0217.csv',\n",
       " 'F45-RAW-0218.csv',\n",
       " 'F45-RAW-0221.csv',\n",
       " 'F45-RAW-0222.csv',\n",
       " 'F45-RAW-0223.csv',\n",
       " 'F45-RAW-0224.csv',\n",
       " 'F45-RAW-0225.csv',\n",
       " 'F45-RAW-0228.csv',\n",
       " 'F45-RAW-0301.csv']"
      ]
     },
     "execution_count": 3,
     "metadata": {},
     "output_type": "execute_result"
    }
   ],
   "source": [
    "files = [file for file in os.listdir()]\n",
    "files"
   ]
  },
  {
   "cell_type": "code",
   "execution_count": 4,
   "id": "2d74aa12",
   "metadata": {},
   "outputs": [
    {
     "data": {
      "text/html": [
       "<div>\n",
       "<style scoped>\n",
       "    .dataframe tbody tr th:only-of-type {\n",
       "        vertical-align: middle;\n",
       "    }\n",
       "\n",
       "    .dataframe tbody tr th {\n",
       "        vertical-align: top;\n",
       "    }\n",
       "\n",
       "    .dataframe thead th {\n",
       "        text-align: right;\n",
       "    }\n",
       "</style>\n",
       "<table border=\"1\" class=\"dataframe\">\n",
       "  <thead>\n",
       "    <tr style=\"text-align: right;\">\n",
       "      <th></th>\n",
       "      <th>name</th>\n",
       "      <th>year</th>\n",
       "      <th>quarter</th>\n",
       "      <th>published</th>\n",
       "    </tr>\n",
       "  </thead>\n",
       "  <tbody>\n",
       "    <tr>\n",
       "      <th>0</th>\n",
       "      <td>AEONTS</td>\n",
       "      <td>2021</td>\n",
       "      <td>3</td>\n",
       "      <td>Fri, 07 Jan 2022 17:21:40 +0700</td>\n",
       "    </tr>\n",
       "    <tr>\n",
       "      <th>1</th>\n",
       "      <td>AEONTS</td>\n",
       "      <td>2021</td>\n",
       "      <td>3</td>\n",
       "      <td>Fri, 07 Jan 2022 17:21:40 +0700</td>\n",
       "    </tr>\n",
       "    <tr>\n",
       "      <th>2</th>\n",
       "      <td>BMSCITH</td>\n",
       "      <td>2021</td>\n",
       "      <td>2</td>\n",
       "      <td>Thu, 13 Jan 2022 18:37:35 +0700</td>\n",
       "    </tr>\n",
       "    <tr>\n",
       "      <th>3</th>\n",
       "      <td>LPF</td>\n",
       "      <td>2021</td>\n",
       "      <td>3</td>\n",
       "      <td>Thu, 13 Jan 2022 17:50:01 +0700</td>\n",
       "    </tr>\n",
       "    <tr>\n",
       "      <th>4</th>\n",
       "      <td>TKC</td>\n",
       "      <td>2021</td>\n",
       "      <td>4</td>\n",
       "      <td>Fri, 14 Jan 2022 08:33:42 +0700</td>\n",
       "    </tr>\n",
       "    <tr>\n",
       "      <th>...</th>\n",
       "      <td>...</td>\n",
       "      <td>...</td>\n",
       "      <td>...</td>\n",
       "      <td>...</td>\n",
       "    </tr>\n",
       "    <tr>\n",
       "      <th>879</th>\n",
       "      <td>NRF</td>\n",
       "      <td>2021</td>\n",
       "      <td>4</td>\n",
       "      <td>Tue, 01 Mar 2022 07:14:12 +0700</td>\n",
       "    </tr>\n",
       "    <tr>\n",
       "      <th>880</th>\n",
       "      <td>TGH</td>\n",
       "      <td>2021</td>\n",
       "      <td>4</td>\n",
       "      <td>Tue, 01 Mar 2022 06:43:53 +0700</td>\n",
       "    </tr>\n",
       "    <tr>\n",
       "      <th>881</th>\n",
       "      <td>JCK</td>\n",
       "      <td>2021</td>\n",
       "      <td>4</td>\n",
       "      <td>Tue, 01 Mar 2022 06:41:30 +0700</td>\n",
       "    </tr>\n",
       "    <tr>\n",
       "      <th>882</th>\n",
       "      <td>EVER</td>\n",
       "      <td>2021</td>\n",
       "      <td>4</td>\n",
       "      <td>Tue, 01 Mar 2022 06:41:28 +0700</td>\n",
       "    </tr>\n",
       "    <tr>\n",
       "      <th>883</th>\n",
       "      <td>ITD</td>\n",
       "      <td>2021</td>\n",
       "      <td>4</td>\n",
       "      <td>Tue, 01 Mar 2022 06:38:18 +0700</td>\n",
       "    </tr>\n",
       "  </tbody>\n",
       "</table>\n",
       "<p>884 rows × 4 columns</p>\n",
       "</div>"
      ],
      "text/plain": [
       "        name  year quarter                        published\n",
       "0     AEONTS  2021       3  Fri, 07 Jan 2022 17:21:40 +0700\n",
       "1     AEONTS  2021       3  Fri, 07 Jan 2022 17:21:40 +0700\n",
       "2    BMSCITH  2021       2  Thu, 13 Jan 2022 18:37:35 +0700\n",
       "3        LPF  2021       3  Thu, 13 Jan 2022 17:50:01 +0700\n",
       "4        TKC  2021       4  Fri, 14 Jan 2022 08:33:42 +0700\n",
       "..       ...   ...     ...                              ...\n",
       "879      NRF  2021       4  Tue, 01 Mar 2022 07:14:12 +0700\n",
       "880      TGH  2021       4  Tue, 01 Mar 2022 06:43:53 +0700\n",
       "881      JCK  2021       4  Tue, 01 Mar 2022 06:41:30 +0700\n",
       "882     EVER  2021       4  Tue, 01 Mar 2022 06:41:28 +0700\n",
       "883      ITD  2021       4  Tue, 01 Mar 2022 06:38:18 +0700\n",
       "\n",
       "[884 rows x 4 columns]"
      ]
     },
     "execution_count": 4,
     "metadata": {},
     "output_type": "execute_result"
    }
   ],
   "source": [
    "df_raw = pd.concat(map(pd.read_csv, files), ignore_index=True)\n",
    "df_raw"
   ]
  },
  {
   "cell_type": "code",
   "execution_count": 5,
   "id": "c1c6a439",
   "metadata": {},
   "outputs": [
    {
     "data": {
      "text/plain": [
       "(828, 4)"
      ]
     },
     "execution_count": 5,
     "metadata": {},
     "output_type": "execute_result"
    }
   ],
   "source": [
    "### First equals to latest published pdf file\n",
    "df_raw = df_raw.drop_duplicates(subset='name', keep='first')\n",
    "df_raw.shape"
   ]
  },
  {
   "cell_type": "code",
   "execution_count": 7,
   "id": "0f1556ea",
   "metadata": {},
   "outputs": [
    {
     "data": {
      "text/plain": [
       "['F45-CLEAN-0107.csv',\n",
       " 'F45-CLEAN-0113.csv',\n",
       " 'F45-CLEAN-0114.csv',\n",
       " 'F45-CLEAN-0117.csv',\n",
       " 'F45-CLEAN-0120.csv',\n",
       " 'F45-CLEAN-0121.csv',\n",
       " 'F45-CLEAN-0125.csv',\n",
       " 'F45-CLEAN-0126.csv',\n",
       " 'F45-CLEAN-0127.csv',\n",
       " 'F45-CLEAN-0128.csv',\n",
       " 'F45-CLEAN-0131.csv',\n",
       " 'F45-CLEAN-0204.csv',\n",
       " 'F45-CLEAN-0207.csv',\n",
       " 'F45-CLEAN-0211.csv',\n",
       " 'F45-CLEAN-0214.csv',\n",
       " 'F45-CLEAN-0215.csv',\n",
       " 'F45-CLEAN-0217.csv',\n",
       " 'F45-CLEAN-0218.csv',\n",
       " 'F45-CLEAN-0221.csv',\n",
       " 'F45-CLEAN-0222.csv',\n",
       " 'F45-CLEAN-0223.csv',\n",
       " 'F45-CLEAN-0224.csv',\n",
       " 'F45-CLEAN-0225.csv',\n",
       " 'F45-CLEAN-0228.csv',\n",
       " 'F45-CLEAN-0301.csv']"
      ]
     },
     "execution_count": 7,
     "metadata": {},
     "output_type": "execute_result"
    }
   ],
   "source": [
    "os.chdir('../clean')\n",
    "os.listdir()"
   ]
  },
  {
   "cell_type": "code",
   "execution_count": 8,
   "id": "2bb414af",
   "metadata": {},
   "outputs": [
    {
     "data": {
      "text/plain": [
       "['F45-CLEAN-0107.csv',\n",
       " 'F45-CLEAN-0113.csv',\n",
       " 'F45-CLEAN-0114.csv',\n",
       " 'F45-CLEAN-0117.csv',\n",
       " 'F45-CLEAN-0120.csv',\n",
       " 'F45-CLEAN-0121.csv',\n",
       " 'F45-CLEAN-0125.csv',\n",
       " 'F45-CLEAN-0126.csv',\n",
       " 'F45-CLEAN-0127.csv',\n",
       " 'F45-CLEAN-0128.csv',\n",
       " 'F45-CLEAN-0131.csv',\n",
       " 'F45-CLEAN-0204.csv',\n",
       " 'F45-CLEAN-0207.csv',\n",
       " 'F45-CLEAN-0211.csv',\n",
       " 'F45-CLEAN-0214.csv',\n",
       " 'F45-CLEAN-0215.csv',\n",
       " 'F45-CLEAN-0217.csv',\n",
       " 'F45-CLEAN-0218.csv',\n",
       " 'F45-CLEAN-0221.csv',\n",
       " 'F45-CLEAN-0222.csv',\n",
       " 'F45-CLEAN-0223.csv',\n",
       " 'F45-CLEAN-0224.csv',\n",
       " 'F45-CLEAN-0225.csv',\n",
       " 'F45-CLEAN-0228.csv',\n",
       " 'F45-CLEAN-0301.csv']"
      ]
     },
     "execution_count": 8,
     "metadata": {},
     "output_type": "execute_result"
    }
   ],
   "source": [
    "files = [file for file in os.listdir()]\n",
    "files"
   ]
  },
  {
   "cell_type": "code",
   "execution_count": 9,
   "id": "3239f621",
   "metadata": {},
   "outputs": [
    {
     "data": {
      "text/html": [
       "<div>\n",
       "<style scoped>\n",
       "    .dataframe tbody tr th:only-of-type {\n",
       "        vertical-align: middle;\n",
       "    }\n",
       "\n",
       "    .dataframe tbody tr th {\n",
       "        vertical-align: top;\n",
       "    }\n",
       "\n",
       "    .dataframe thead th {\n",
       "        text-align: right;\n",
       "    }\n",
       "</style>\n",
       "<table border=\"1\" class=\"dataframe\">\n",
       "  <thead>\n",
       "    <tr style=\"text-align: right;\">\n",
       "      <th></th>\n",
       "      <th>name</th>\n",
       "      <th>year</th>\n",
       "      <th>quarter</th>\n",
       "      <th>published</th>\n",
       "      <th>market</th>\n",
       "    </tr>\n",
       "  </thead>\n",
       "  <tbody>\n",
       "    <tr>\n",
       "      <th>0</th>\n",
       "      <td>AEONTS</td>\n",
       "      <td>2021</td>\n",
       "      <td>3</td>\n",
       "      <td>Fri, 07 Jan 2022 17:21:40 +0700</td>\n",
       "      <td>SET100</td>\n",
       "    </tr>\n",
       "    <tr>\n",
       "      <th>1</th>\n",
       "      <td>LPF</td>\n",
       "      <td>2021</td>\n",
       "      <td>3</td>\n",
       "      <td>Thu, 13 Jan 2022 17:50:01 +0700</td>\n",
       "      <td>SET</td>\n",
       "    </tr>\n",
       "    <tr>\n",
       "      <th>2</th>\n",
       "      <td>TISCO</td>\n",
       "      <td>2021</td>\n",
       "      <td>4</td>\n",
       "      <td>Fri, 14 Jan 2022 08:14:45 +0700</td>\n",
       "      <td>SET50 / SETHD / SETTHSI</td>\n",
       "    </tr>\n",
       "    <tr>\n",
       "      <th>3</th>\n",
       "      <td>LHFG</td>\n",
       "      <td>2021</td>\n",
       "      <td>4</td>\n",
       "      <td>Mon, 17 Jan 2022 17:56:11 +0700</td>\n",
       "      <td>SET</td>\n",
       "    </tr>\n",
       "    <tr>\n",
       "      <th>4</th>\n",
       "      <td>KKP</td>\n",
       "      <td>2021</td>\n",
       "      <td>4</td>\n",
       "      <td>Thu, 20 Jan 2022 18:52:44 +0700</td>\n",
       "      <td>SET100 / SETCLMV / SETHD / SETTHSI</td>\n",
       "    </tr>\n",
       "    <tr>\n",
       "      <th>...</th>\n",
       "      <td>...</td>\n",
       "      <td>...</td>\n",
       "      <td>...</td>\n",
       "      <td>...</td>\n",
       "      <td>...</td>\n",
       "    </tr>\n",
       "    <tr>\n",
       "      <th>351</th>\n",
       "      <td>SIRI</td>\n",
       "      <td>2021</td>\n",
       "      <td>4</td>\n",
       "      <td>Tue, 01 Mar 2022 08:41:55 +0700</td>\n",
       "      <td>SET100 / SETHD / SETTHSI</td>\n",
       "    </tr>\n",
       "    <tr>\n",
       "      <th>352</th>\n",
       "      <td>THE</td>\n",
       "      <td>2021</td>\n",
       "      <td>4</td>\n",
       "      <td>Tue, 01 Mar 2022 08:35:30 +0700</td>\n",
       "      <td>SET</td>\n",
       "    </tr>\n",
       "    <tr>\n",
       "      <th>353</th>\n",
       "      <td>TYCN</td>\n",
       "      <td>2021</td>\n",
       "      <td>4</td>\n",
       "      <td>Tue, 01 Mar 2022 08:11:39 +0700</td>\n",
       "      <td>SET</td>\n",
       "    </tr>\n",
       "    <tr>\n",
       "      <th>354</th>\n",
       "      <td>TNPC</td>\n",
       "      <td>2021</td>\n",
       "      <td>4</td>\n",
       "      <td>Tue, 01 Mar 2022 07:31:29 +0700</td>\n",
       "      <td>SET</td>\n",
       "    </tr>\n",
       "    <tr>\n",
       "      <th>355</th>\n",
       "      <td>NRF</td>\n",
       "      <td>2021</td>\n",
       "      <td>4</td>\n",
       "      <td>Tue, 01 Mar 2022 07:14:12 +0700</td>\n",
       "      <td>SET</td>\n",
       "    </tr>\n",
       "  </tbody>\n",
       "</table>\n",
       "<p>356 rows × 5 columns</p>\n",
       "</div>"
      ],
      "text/plain": [
       "       name  year  quarter                        published  \\\n",
       "0    AEONTS  2021        3  Fri, 07 Jan 2022 17:21:40 +0700   \n",
       "1       LPF  2021        3  Thu, 13 Jan 2022 17:50:01 +0700   \n",
       "2     TISCO  2021        4  Fri, 14 Jan 2022 08:14:45 +0700   \n",
       "3      LHFG  2021        4  Mon, 17 Jan 2022 17:56:11 +0700   \n",
       "4       KKP  2021        4  Thu, 20 Jan 2022 18:52:44 +0700   \n",
       "..      ...   ...      ...                              ...   \n",
       "351    SIRI  2021        4  Tue, 01 Mar 2022 08:41:55 +0700   \n",
       "352     THE  2021        4  Tue, 01 Mar 2022 08:35:30 +0700   \n",
       "353    TYCN  2021        4  Tue, 01 Mar 2022 08:11:39 +0700   \n",
       "354    TNPC  2021        4  Tue, 01 Mar 2022 07:31:29 +0700   \n",
       "355     NRF  2021        4  Tue, 01 Mar 2022 07:14:12 +0700   \n",
       "\n",
       "                                 market  \n",
       "0                                SET100  \n",
       "1                                   SET  \n",
       "2               SET50 / SETHD / SETTHSI  \n",
       "3                                   SET  \n",
       "4    SET100 / SETCLMV / SETHD / SETTHSI  \n",
       "..                                  ...  \n",
       "351            SET100 / SETHD / SETTHSI  \n",
       "352                                 SET  \n",
       "353                                 SET  \n",
       "354                                 SET  \n",
       "355                                 SET  \n",
       "\n",
       "[356 rows x 5 columns]"
      ]
     },
     "execution_count": 9,
     "metadata": {},
     "output_type": "execute_result"
    }
   ],
   "source": [
    "df_clean = pd.concat(map(pd.read_csv, files), ignore_index=True)\n",
    "df_clean"
   ]
  },
  {
   "cell_type": "code",
   "execution_count": 10,
   "id": "7db6bab7",
   "metadata": {},
   "outputs": [
    {
     "data": {
      "text/plain": [
       "(328, 5)"
      ]
     },
     "execution_count": 10,
     "metadata": {},
     "output_type": "execute_result"
    }
   ],
   "source": [
    "### First equals to latest published pdf file\n",
    "df_clean = df_clean.drop_duplicates(subset='name', keep='first')\n",
    "df_clean.shape"
   ]
  },
  {
   "cell_type": "code",
   "execution_count": 11,
   "id": "b3e2c151",
   "metadata": {},
   "outputs": [
    {
     "data": {
      "text/plain": [
       "(828, 9)"
      ]
     },
     "execution_count": 11,
     "metadata": {},
     "output_type": "execute_result"
    }
   ],
   "source": [
    "df_merge = df_raw.merge(df_clean, on='name', how='outer', indicator=True)\n",
    "df_merge.shape"
   ]
  },
  {
   "cell_type": "code",
   "execution_count": 12,
   "id": "8016dd65",
   "metadata": {},
   "outputs": [
    {
     "data": {
      "text/html": [
       "<div>\n",
       "<style scoped>\n",
       "    .dataframe tbody tr th:only-of-type {\n",
       "        vertical-align: middle;\n",
       "    }\n",
       "\n",
       "    .dataframe tbody tr th {\n",
       "        vertical-align: top;\n",
       "    }\n",
       "\n",
       "    .dataframe thead th {\n",
       "        text-align: right;\n",
       "    }\n",
       "</style>\n",
       "<table border=\"1\" class=\"dataframe\">\n",
       "  <thead>\n",
       "    <tr style=\"text-align: right;\">\n",
       "      <th></th>\n",
       "      <th>name</th>\n",
       "      <th>year_x</th>\n",
       "      <th>quarter_x</th>\n",
       "    </tr>\n",
       "  </thead>\n",
       "  <tbody>\n",
       "    <tr>\n",
       "      <th>488</th>\n",
       "      <td>1DIV</td>\n",
       "      <td>2021</td>\n",
       "      <td>4</td>\n",
       "    </tr>\n",
       "    <tr>\n",
       "      <th>734</th>\n",
       "      <td>3K-BAT</td>\n",
       "      <td>2021</td>\n",
       "      <td>4</td>\n",
       "    </tr>\n",
       "    <tr>\n",
       "      <th>493</th>\n",
       "      <td>7UP</td>\n",
       "      <td>2021</td>\n",
       "      <td>4</td>\n",
       "    </tr>\n",
       "    <tr>\n",
       "      <th>816</th>\n",
       "      <td>A</td>\n",
       "      <td>2021</td>\n",
       "      <td>4</td>\n",
       "    </tr>\n",
       "    <tr>\n",
       "      <th>521</th>\n",
       "      <td>A5</td>\n",
       "      <td>2021</td>\n",
       "      <td>4</td>\n",
       "    </tr>\n",
       "    <tr>\n",
       "      <th>...</th>\n",
       "      <td>...</td>\n",
       "      <td>...</td>\n",
       "      <td>...</td>\n",
       "    </tr>\n",
       "    <tr>\n",
       "      <th>506</th>\n",
       "      <td>XPG</td>\n",
       "      <td>2021</td>\n",
       "      <td>4</td>\n",
       "    </tr>\n",
       "    <tr>\n",
       "      <th>607</th>\n",
       "      <td>YGG</td>\n",
       "      <td>2021</td>\n",
       "      <td>4</td>\n",
       "    </tr>\n",
       "    <tr>\n",
       "      <th>329</th>\n",
       "      <td>YUANTA</td>\n",
       "      <td>2021</td>\n",
       "      <td>4</td>\n",
       "    </tr>\n",
       "    <tr>\n",
       "      <th>393</th>\n",
       "      <td>ZEN</td>\n",
       "      <td>2021</td>\n",
       "      <td>4</td>\n",
       "    </tr>\n",
       "    <tr>\n",
       "      <th>114</th>\n",
       "      <td>ZIGA</td>\n",
       "      <td>2021</td>\n",
       "      <td>4</td>\n",
       "    </tr>\n",
       "  </tbody>\n",
       "</table>\n",
       "<p>500 rows × 3 columns</p>\n",
       "</div>"
      ],
      "text/plain": [
       "       name  year_x quarter_x\n",
       "488    1DIV    2021         4\n",
       "734  3K-BAT    2021         4\n",
       "493     7UP    2021         4\n",
       "816       A    2021         4\n",
       "521      A5    2021         4\n",
       "..      ...     ...       ...\n",
       "506     XPG    2021         4\n",
       "607     YGG    2021         4\n",
       "329  YUANTA    2021         4\n",
       "393     ZEN    2021         4\n",
       "114    ZIGA    2021         4\n",
       "\n",
       "[500 rows x 3 columns]"
      ]
     },
     "execution_count": 12,
     "metadata": {},
     "output_type": "execute_result"
    }
   ],
   "source": [
    "not_input = df_merge[df_merge['_merge'] == 'left_only']\n",
    "not_input[['name','year_x','quarter_x']].sort_values('name',ascending=True)"
   ]
  },
  {
   "cell_type": "code",
   "execution_count": 14,
   "id": "e5f4d772",
   "metadata": {},
   "outputs": [
    {
     "data": {
      "text/plain": [
       "['.ipynb_checkpoints',\n",
       " '15 Tips and Tricks.ipynb',\n",
       " 'Combine Multiple CSV Files.ipynb',\n",
       " 'Seaborn Styler.ipynb',\n",
       " 'SQLite-main',\n",
       " 'titanic_pivot.ipynb',\n",
       " 'train.csv',\n",
       " 'Web Scraping.ipynb']"
      ]
     },
     "execution_count": 14,
     "metadata": {},
     "output_type": "execute_result"
    }
   ],
   "source": [
    "# Return to Data then Medium\n",
    "os.chdir('../../Medium')\n",
    "os.listdir()"
   ]
  },
  {
   "cell_type": "code",
   "execution_count": null,
   "id": "db097b9c",
   "metadata": {},
   "outputs": [],
   "source": []
  }
 ],
 "metadata": {
  "kernelspec": {
   "display_name": "Python 3 (ipykernel)",
   "language": "python",
   "name": "python3"
  },
  "language_info": {
   "codemirror_mode": {
    "name": "ipython",
    "version": 3
   },
   "file_extension": ".py",
   "mimetype": "text/x-python",
   "name": "python",
   "nbconvert_exporter": "python",
   "pygments_lexer": "ipython3",
   "version": "3.8.11"
  }
 },
 "nbformat": 4,
 "nbformat_minor": 5
}
