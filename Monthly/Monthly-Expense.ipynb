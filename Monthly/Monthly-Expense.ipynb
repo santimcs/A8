{
 "cells": [
  {
   "cell_type": "code",
   "execution_count": 1,
   "metadata": {},
   "outputs": [],
   "source": [
    "%matplotlib inline\n",
    "import matplotlib.pyplot as plt\n",
    "import pandas as pd\n",
    "from sqlalchemy import create_engine\n",
    "from datetime import date, timedelta\n",
    "import calendar\n",
    "\n",
    "from IPython.core.interactiveshell import InteractiveShell\n",
    "InteractiveShell.ast_node_interactivity = \"all\"\n",
    "\n",
    "from itables import show\n",
    "pd.options.display.max_rows = 31\n",
    "\n",
    "engine = create_engine(\"sqlite:///c:\\\\ruby\\\\expense\\\\db\\\\development.sqlite3\")\n",
    "conn = engine.connect()"
   ]
  },
  {
   "cell_type": "code",
   "execution_count": 2,
   "metadata": {},
   "outputs": [
    {
     "data": {
      "text/html": [
       "<div>\n",
       "<style scoped>\n",
       "    .dataframe tbody tr th:only-of-type {\n",
       "        vertical-align: middle;\n",
       "    }\n",
       "\n",
       "    .dataframe tbody tr th {\n",
       "        vertical-align: top;\n",
       "    }\n",
       "\n",
       "    .dataframe thead th {\n",
       "        text-align: right;\n",
       "    }\n",
       "</style>\n",
       "<table border=\"1\" class=\"dataframe\">\n",
       "  <thead>\n",
       "    <tr style=\"text-align: right;\">\n",
       "      <th></th>\n",
       "      <th>item</th>\n",
       "      <th>kind</th>\n",
       "    </tr>\n",
       "  </thead>\n",
       "  <tbody>\n",
       "    <tr>\n",
       "      <th>0</th>\n",
       "      <td>Books &amp; Software</td>\n",
       "      <td>Edutainment</td>\n",
       "    </tr>\n",
       "    <tr>\n",
       "      <th>1</th>\n",
       "      <td>CCF</td>\n",
       "      <td>Luxury</td>\n",
       "    </tr>\n",
       "    <tr>\n",
       "      <th>2</th>\n",
       "      <td>Cigarette</td>\n",
       "      <td>Luxury</td>\n",
       "    </tr>\n",
       "    <tr>\n",
       "      <th>3</th>\n",
       "      <td>Food</td>\n",
       "      <td>Food</td>\n",
       "    </tr>\n",
       "    <tr>\n",
       "      <th>4</th>\n",
       "      <td>Fuel</td>\n",
       "      <td>Transportation</td>\n",
       "    </tr>\n",
       "  </tbody>\n",
       "</table>\n",
       "</div>"
      ],
      "text/plain": [
       "               item            kind\n",
       "0  Books & Software     Edutainment\n",
       "1               CCF          Luxury\n",
       "2         Cigarette          Luxury\n",
       "3              Food            Food\n",
       "4              Fuel  Transportation"
      ]
     },
     "execution_count": 2,
     "metadata": {},
     "output_type": "execute_result"
    }
   ],
   "source": [
    "sql = \"SELECT C.name AS item, G.name AS kind FROM categories C \\\n",
    "       JOIN groups G ON group_id = G.id\"\n",
    "df_c = pd.read_sql(sql, conn)\n",
    "df_c.head()"
   ]
  },
  {
   "cell_type": "code",
   "execution_count": 5,
   "metadata": {},
   "outputs": [
    {
     "data": {
      "text/plain": [
       "(datetime.date(2022, 5, 1), datetime.date(2022, 5, 31))"
      ]
     },
     "execution_count": 5,
     "metadata": {},
     "output_type": "execute_result"
    }
   ],
   "source": [
    "month = date(2022, 5, 1)\n",
    "bom = month\n",
    "eom = month.replace(day=calendar.monthrange(month.year, month.month)[1])\n",
    "bom, eom"
   ]
  },
  {
   "cell_type": "code",
   "execution_count": 6,
   "metadata": {},
   "outputs": [
    {
     "data": {
      "text/plain": [
       "datetime.date(2022, 5, 1)"
      ]
     },
     "execution_count": 6,
     "metadata": {},
     "output_type": "execute_result"
    },
    {
     "data": {
      "text/plain": [
       "datetime.date(2022, 5, 31)"
      ]
     },
     "execution_count": 6,
     "metadata": {},
     "output_type": "execute_result"
    }
   ],
   "source": [
    "bom\n",
    "eom"
   ]
  },
  {
   "cell_type": "code",
   "execution_count": 7,
   "metadata": {},
   "outputs": [
    {
     "name": "stdout",
     "output_type": "stream",
     "text": [
      "\n",
      "SELECT date,amount,C.name AS item, G.name AS kind FROM transactions T \n",
      "JOIN categories C ON category_id = C.id \n",
      "JOIN groups G ON group_id = G.id \n",
      "WHERE date = \"2022-05-31\" \n",
      "ORDER BY amount DESC\n",
      "\n"
     ]
    }
   ],
   "source": [
    "sql = \"\"\"\n",
    "SELECT date,amount,C.name AS item, G.name AS kind FROM transactions T \n",
    "JOIN categories C ON category_id = C.id \n",
    "JOIN groups G ON group_id = G.id \n",
    "WHERE date = \"%s\" \n",
    "ORDER BY amount DESC\n",
    "\"\"\"\n",
    "sql = sql % eom\n",
    "print(sql)"
   ]
  },
  {
   "cell_type": "code",
   "execution_count": 8,
   "metadata": {
    "scrolled": true
   },
   "outputs": [
    {
     "data": {
      "text/html": [
       "<div>\n",
       "<style scoped>\n",
       "    .dataframe tbody tr th:only-of-type {\n",
       "        vertical-align: middle;\n",
       "    }\n",
       "\n",
       "    .dataframe tbody tr th {\n",
       "        vertical-align: top;\n",
       "    }\n",
       "\n",
       "    .dataframe thead th {\n",
       "        text-align: right;\n",
       "    }\n",
       "</style>\n",
       "<table border=\"1\" class=\"dataframe\">\n",
       "  <thead>\n",
       "    <tr style=\"text-align: right;\">\n",
       "      <th></th>\n",
       "      <th>date</th>\n",
       "      <th>amount</th>\n",
       "      <th>item</th>\n",
       "      <th>kind</th>\n",
       "    </tr>\n",
       "  </thead>\n",
       "  <tbody>\n",
       "    <tr>\n",
       "      <th>0</th>\n",
       "      <td>2022-05-31</td>\n",
       "      <td>10000</td>\n",
       "      <td>Parent</td>\n",
       "      <td>Parent</td>\n",
       "    </tr>\n",
       "    <tr>\n",
       "      <th>1</th>\n",
       "      <td>2022-05-31</td>\n",
       "      <td>640</td>\n",
       "      <td>Internet Home</td>\n",
       "      <td>Communication</td>\n",
       "    </tr>\n",
       "    <tr>\n",
       "      <th>2</th>\n",
       "      <td>2022-05-31</td>\n",
       "      <td>600</td>\n",
       "      <td>CCF</td>\n",
       "      <td>Luxury</td>\n",
       "    </tr>\n",
       "    <tr>\n",
       "      <th>3</th>\n",
       "      <td>2022-05-31</td>\n",
       "      <td>340</td>\n",
       "      <td>Packt</td>\n",
       "      <td>Edutainment</td>\n",
       "    </tr>\n",
       "    <tr>\n",
       "      <th>4</th>\n",
       "      <td>2022-05-31</td>\n",
       "      <td>320</td>\n",
       "      <td>Telephone Dtac</td>\n",
       "      <td>Communication</td>\n",
       "    </tr>\n",
       "    <tr>\n",
       "      <th>5</th>\n",
       "      <td>2022-05-31</td>\n",
       "      <td>190</td>\n",
       "      <td>Food</td>\n",
       "      <td>Food</td>\n",
       "    </tr>\n",
       "    <tr>\n",
       "      <th>6</th>\n",
       "      <td>2022-05-31</td>\n",
       "      <td>190</td>\n",
       "      <td>Monthly Prime</td>\n",
       "      <td>Movies</td>\n",
       "    </tr>\n",
       "    <tr>\n",
       "      <th>7</th>\n",
       "      <td>2022-05-31</td>\n",
       "      <td>170</td>\n",
       "      <td>Google</td>\n",
       "      <td>Edutainment</td>\n",
       "    </tr>\n",
       "    <tr>\n",
       "      <th>8</th>\n",
       "      <td>2022-05-31</td>\n",
       "      <td>100</td>\n",
       "      <td>Apple</td>\n",
       "      <td>Edutainment</td>\n",
       "    </tr>\n",
       "    <tr>\n",
       "      <th>9</th>\n",
       "      <td>2022-05-31</td>\n",
       "      <td>70</td>\n",
       "      <td>Patreon</td>\n",
       "      <td>Edutainment</td>\n",
       "    </tr>\n",
       "    <tr>\n",
       "      <th>10</th>\n",
       "      <td>2022-05-31</td>\n",
       "      <td>40</td>\n",
       "      <td>Apple</td>\n",
       "      <td>Edutainment</td>\n",
       "    </tr>\n",
       "  </tbody>\n",
       "</table>\n",
       "</div>"
      ],
      "text/plain": [
       "          date  amount            item           kind\n",
       "0   2022-05-31   10000          Parent         Parent\n",
       "1   2022-05-31     640   Internet Home  Communication\n",
       "2   2022-05-31     600             CCF         Luxury\n",
       "3   2022-05-31     340           Packt    Edutainment\n",
       "4   2022-05-31     320  Telephone Dtac  Communication\n",
       "5   2022-05-31     190            Food           Food\n",
       "6   2022-05-31     190   Monthly Prime         Movies\n",
       "7   2022-05-31     170          Google    Edutainment\n",
       "8   2022-05-31     100           Apple    Edutainment\n",
       "9   2022-05-31      70         Patreon    Edutainment\n",
       "10  2022-05-31      40           Apple    Edutainment"
      ]
     },
     "execution_count": 8,
     "metadata": {},
     "output_type": "execute_result"
    }
   ],
   "source": [
    "df = pd.read_sql(sql, conn)\n",
    "df"
   ]
  },
  {
   "cell_type": "code",
   "execution_count": 9,
   "metadata": {},
   "outputs": [
    {
     "data": {
      "text/plain": [
       "12660"
      ]
     },
     "execution_count": 9,
     "metadata": {},
     "output_type": "execute_result"
    }
   ],
   "source": [
    "df.amount.sum()"
   ]
  },
  {
   "cell_type": "code",
   "execution_count": 10,
   "metadata": {},
   "outputs": [
    {
     "name": "stdout",
     "output_type": "stream",
     "text": [
      "\n",
      "SELECT date,amount,C.name AS item, G.name AS kind FROM transactions T \n",
      "JOIN categories C ON category_id = C.id \n",
      "JOIN groups G ON group_id = G.id \n",
      "WHERE date = \"2022-05-31\" \n",
      "ORDER BY amount DESC\n",
      "\n"
     ]
    }
   ],
   "source": [
    "sql = \"\"\"\n",
    "SELECT date,amount,C.name AS item, G.name AS kind FROM transactions T \n",
    "JOIN categories C ON category_id = C.id \n",
    "JOIN groups G ON group_id = G.id \n",
    "WHERE date = \"%s\" \n",
    "ORDER BY amount DESC\n",
    "\"\"\"\n",
    "sql = sql % (eom)\n",
    "print(sql)"
   ]
  },
  {
   "cell_type": "code",
   "execution_count": 11,
   "metadata": {},
   "outputs": [
    {
     "data": {
      "text/html": [
       "<div>\n",
       "<style scoped>\n",
       "    .dataframe tbody tr th:only-of-type {\n",
       "        vertical-align: middle;\n",
       "    }\n",
       "\n",
       "    .dataframe tbody tr th {\n",
       "        vertical-align: top;\n",
       "    }\n",
       "\n",
       "    .dataframe thead th {\n",
       "        text-align: right;\n",
       "    }\n",
       "</style>\n",
       "<table border=\"1\" class=\"dataframe\">\n",
       "  <thead>\n",
       "    <tr style=\"text-align: right;\">\n",
       "      <th></th>\n",
       "      <th>date</th>\n",
       "      <th>amount</th>\n",
       "      <th>item</th>\n",
       "      <th>kind</th>\n",
       "    </tr>\n",
       "  </thead>\n",
       "  <tbody>\n",
       "    <tr>\n",
       "      <th>0</th>\n",
       "      <td>2022-05-31</td>\n",
       "      <td>10000</td>\n",
       "      <td>Parent</td>\n",
       "      <td>Parent</td>\n",
       "    </tr>\n",
       "    <tr>\n",
       "      <th>1</th>\n",
       "      <td>2022-05-31</td>\n",
       "      <td>640</td>\n",
       "      <td>Internet Home</td>\n",
       "      <td>Communication</td>\n",
       "    </tr>\n",
       "    <tr>\n",
       "      <th>2</th>\n",
       "      <td>2022-05-31</td>\n",
       "      <td>600</td>\n",
       "      <td>CCF</td>\n",
       "      <td>Luxury</td>\n",
       "    </tr>\n",
       "    <tr>\n",
       "      <th>3</th>\n",
       "      <td>2022-05-31</td>\n",
       "      <td>340</td>\n",
       "      <td>Packt</td>\n",
       "      <td>Edutainment</td>\n",
       "    </tr>\n",
       "    <tr>\n",
       "      <th>4</th>\n",
       "      <td>2022-05-31</td>\n",
       "      <td>320</td>\n",
       "      <td>Telephone Dtac</td>\n",
       "      <td>Communication</td>\n",
       "    </tr>\n",
       "    <tr>\n",
       "      <th>5</th>\n",
       "      <td>2022-05-31</td>\n",
       "      <td>190</td>\n",
       "      <td>Food</td>\n",
       "      <td>Food</td>\n",
       "    </tr>\n",
       "    <tr>\n",
       "      <th>6</th>\n",
       "      <td>2022-05-31</td>\n",
       "      <td>190</td>\n",
       "      <td>Monthly Prime</td>\n",
       "      <td>Movies</td>\n",
       "    </tr>\n",
       "    <tr>\n",
       "      <th>7</th>\n",
       "      <td>2022-05-31</td>\n",
       "      <td>170</td>\n",
       "      <td>Google</td>\n",
       "      <td>Edutainment</td>\n",
       "    </tr>\n",
       "    <tr>\n",
       "      <th>8</th>\n",
       "      <td>2022-05-31</td>\n",
       "      <td>100</td>\n",
       "      <td>Apple</td>\n",
       "      <td>Edutainment</td>\n",
       "    </tr>\n",
       "    <tr>\n",
       "      <th>9</th>\n",
       "      <td>2022-05-31</td>\n",
       "      <td>70</td>\n",
       "      <td>Patreon</td>\n",
       "      <td>Edutainment</td>\n",
       "    </tr>\n",
       "    <tr>\n",
       "      <th>10</th>\n",
       "      <td>2022-05-31</td>\n",
       "      <td>40</td>\n",
       "      <td>Apple</td>\n",
       "      <td>Edutainment</td>\n",
       "    </tr>\n",
       "  </tbody>\n",
       "</table>\n",
       "</div>"
      ],
      "text/plain": [
       "          date  amount            item           kind\n",
       "0   2022-05-31   10000          Parent         Parent\n",
       "1   2022-05-31     640   Internet Home  Communication\n",
       "2   2022-05-31     600             CCF         Luxury\n",
       "3   2022-05-31     340           Packt    Edutainment\n",
       "4   2022-05-31     320  Telephone Dtac  Communication\n",
       "5   2022-05-31     190            Food           Food\n",
       "6   2022-05-31     190   Monthly Prime         Movies\n",
       "7   2022-05-31     170          Google    Edutainment\n",
       "8   2022-05-31     100           Apple    Edutainment\n",
       "9   2022-05-31      70         Patreon    Edutainment\n",
       "10  2022-05-31      40           Apple    Edutainment"
      ]
     },
     "execution_count": 11,
     "metadata": {},
     "output_type": "execute_result"
    }
   ],
   "source": [
    "df_eom = pd.read_sql(sql, conn)\n",
    "df_eom"
   ]
  },
  {
   "cell_type": "code",
   "execution_count": 12,
   "metadata": {},
   "outputs": [
    {
     "name": "stdout",
     "output_type": "stream",
     "text": [
      "\n",
      "SELECT date,amount,C.name AS item, G.name AS kind FROM transactions T \n",
      "JOIN categories C ON category_id = C.id \n",
      "JOIN groups G ON group_id = G.id \n",
      "WHERE date BETWEEN \"2022-05-01\" AND \"2022-05-31\" \n",
      "ORDER BY date\n",
      "\n"
     ]
    }
   ],
   "source": [
    "sql = \"\"\"\n",
    "SELECT date,amount,C.name AS item, G.name AS kind FROM transactions T \n",
    "JOIN categories C ON category_id = C.id \n",
    "JOIN groups G ON group_id = G.id \n",
    "WHERE date BETWEEN \"%s\" AND \"%s\" \n",
    "ORDER BY date\n",
    "\"\"\"\n",
    "sql = sql % (bom, eom)\n",
    "print(sql)"
   ]
  },
  {
   "cell_type": "code",
   "execution_count": 13,
   "metadata": {},
   "outputs": [
    {
     "data": {
      "text/html": [
       "<div>\n",
       "<style scoped>\n",
       "    .dataframe tbody tr th:only-of-type {\n",
       "        vertical-align: middle;\n",
       "    }\n",
       "\n",
       "    .dataframe tbody tr th {\n",
       "        vertical-align: top;\n",
       "    }\n",
       "\n",
       "    .dataframe thead th {\n",
       "        text-align: right;\n",
       "    }\n",
       "</style>\n",
       "<table border=\"1\" class=\"dataframe\">\n",
       "  <thead>\n",
       "    <tr style=\"text-align: right;\">\n",
       "      <th></th>\n",
       "      <th>date</th>\n",
       "      <th>amount</th>\n",
       "      <th>item</th>\n",
       "      <th>kind</th>\n",
       "    </tr>\n",
       "  </thead>\n",
       "  <tbody>\n",
       "    <tr>\n",
       "      <th>0</th>\n",
       "      <td>2022-05-04</td>\n",
       "      <td>670</td>\n",
       "      <td>Food</td>\n",
       "      <td>Food</td>\n",
       "    </tr>\n",
       "    <tr>\n",
       "      <th>1</th>\n",
       "      <td>2022-05-07</td>\n",
       "      <td>180</td>\n",
       "      <td>Food</td>\n",
       "      <td>Food</td>\n",
       "    </tr>\n",
       "    <tr>\n",
       "      <th>2</th>\n",
       "      <td>2022-05-07</td>\n",
       "      <td>1510</td>\n",
       "      <td>Fuel</td>\n",
       "      <td>Transportation</td>\n",
       "    </tr>\n",
       "    <tr>\n",
       "      <th>3</th>\n",
       "      <td>2022-05-07</td>\n",
       "      <td>2570</td>\n",
       "      <td>Pets</td>\n",
       "      <td>Pets</td>\n",
       "    </tr>\n",
       "    <tr>\n",
       "      <th>4</th>\n",
       "      <td>2022-05-10</td>\n",
       "      <td>430</td>\n",
       "      <td>Food</td>\n",
       "      <td>Food</td>\n",
       "    </tr>\n",
       "  </tbody>\n",
       "</table>\n",
       "</div>"
      ],
      "text/plain": [
       "         date  amount  item            kind\n",
       "0  2022-05-04     670  Food            Food\n",
       "1  2022-05-07     180  Food            Food\n",
       "2  2022-05-07    1510  Fuel  Transportation\n",
       "3  2022-05-07    2570  Pets            Pets\n",
       "4  2022-05-10     430  Food            Food"
      ]
     },
     "execution_count": 13,
     "metadata": {},
     "output_type": "execute_result"
    }
   ],
   "source": [
    "df_t = pd.read_sql(sql, conn)\n",
    "df_t.head()"
   ]
  },
  {
   "cell_type": "code",
   "execution_count": 14,
   "metadata": {},
   "outputs": [
    {
     "data": {
      "text/plain": [
       "item\n",
       "Apple                 140\n",
       "Books & Software      610\n",
       "CCF                   600\n",
       "Food                 3340\n",
       "Fuel                 3110\n",
       "Google                170\n",
       "Internet Home         640\n",
       "Monthly Prime         190\n",
       "Mother              17300\n",
       "Packt                 340\n",
       "Parent              10000\n",
       "Patreon                70\n",
       "Pets                19810\n",
       "Telephone Dtac        320\n",
       "Name: amount, dtype: int64"
      ]
     },
     "execution_count": 14,
     "metadata": {},
     "output_type": "execute_result"
    }
   ],
   "source": [
    "grouped = df_t.groupby(\"item\")\n",
    "grouped['amount'].sum()"
   ]
  },
  {
   "cell_type": "code",
   "execution_count": 15,
   "metadata": {
    "scrolled": true
   },
   "outputs": [
    {
     "data": {
      "text/plain": [
       "kind\n",
       "Communication       960\n",
       "Edutainment        1330\n",
       "Food               3340\n",
       "Luxury              600\n",
       "Movies              190\n",
       "Parent            27300\n",
       "Pets              19810\n",
       "Transportation     3110\n",
       "Name: amount, dtype: int64"
      ]
     },
     "execution_count": 15,
     "metadata": {},
     "output_type": "execute_result"
    }
   ],
   "source": [
    "grouped = df_t.groupby(\"kind\")\n",
    "grouped['amount'].sum()"
   ]
  },
  {
   "cell_type": "code",
   "execution_count": 16,
   "metadata": {},
   "outputs": [
    {
     "data": {
      "text/plain": [
       "56640"
      ]
     },
     "execution_count": 16,
     "metadata": {},
     "output_type": "execute_result"
    }
   ],
   "source": [
    "expense = grouped.amount.sum()\n",
    "sum(expense)"
   ]
  },
  {
   "cell_type": "code",
   "execution_count": 17,
   "metadata": {},
   "outputs": [
    {
     "data": {
      "text/plain": [
       "<Figure size 864x864 with 0 Axes>"
      ]
     },
     "execution_count": 17,
     "metadata": {},
     "output_type": "execute_result"
    },
    {
     "data": {
      "image/png": "[encoded data removed]",
      "text/plain": [
       "<Figure size 864x864 with 1 Axes>"
      ]
     },
     "metadata": {},
     "output_type": "display_data"
    }
   ],
   "source": [
    "fig_path = \"../fig/Expense-2205.png\"\n",
    "with plt.style.context(\"my_custom_style\"):\n",
    "    plt.figure(figsize=(12, 12))\n",
    "    ax = expense.plot.pie(\n",
    "        colors=[\"green\", \"red\", \"orange\", \"cyan\", \"yellow\", \"blue\", \"gold\"],\n",
    "        startangle=90,\n",
    "        autopct=\"%1.1f%%\",\n",
    "    )\n",
    "    plt.savefig(fig_path)"
   ]
  },
  {
   "cell_type": "code",
   "execution_count": 18,
   "metadata": {},
   "outputs": [],
   "source": [
    "expense.to_csv(\"../data/expense-2205.csv\")"
   ]
  },
  {
   "cell_type": "code",
   "execution_count": 19,
   "metadata": {},
   "outputs": [
    {
     "name": "stdout",
     "output_type": "stream",
     "text": [
      "\n",
      "SELECT date,amount,C.name AS item, G.name AS kind FROM transactions T \n",
      "JOIN categories C ON category_id = C.id \n",
      "JOIN groups G ON group_id = G.id \n",
      "WHERE date = \"2022-05-31\" \n",
      "ORDER BY date\n",
      "\n"
     ]
    }
   ],
   "source": [
    "sql = \"\"\"\n",
    "SELECT date,amount,C.name AS item, G.name AS kind FROM transactions T \n",
    "JOIN categories C ON category_id = C.id \n",
    "JOIN groups G ON group_id = G.id \n",
    "WHERE date = \"%s\" \n",
    "ORDER BY date\n",
    "\"\"\"\n",
    "sql = sql % (eom)\n",
    "print(sql)"
   ]
  },
  {
   "cell_type": "code",
   "execution_count": 20,
   "metadata": {},
   "outputs": [
    {
     "data": {
      "application/javascript": [
       "require.config({\n",
       "    paths: {\n",
       "        datatables: 'https://cdn.datatables.net/1.10.19/js/jquery.dataTables.min',\n",
       "    }\n",
       "});\n",
       "\n",
       "$('head').append('<link rel=\"stylesheet\" type=\"text/css\" \\\n",
       "                href = \"https://cdn.datatables.net/1.10.19/css/jquery.dataTables.min.css\" > ');\n",
       "\n",
       "$('head').append('<style> table td { text-overflow: ellipsis; overflow: hidden; } </style>');\n",
       "\n",
       "$('head').append(`<script>\n",
       "function eval_functions(map_or_text) {\n",
       "    if (typeof map_or_text === \"string\") {\n",
       "        if (map_or_text.startsWith(\"function\")) {\n",
       "            try {\n",
       "                // Note: parenthesis are required around the whole expression for eval to return a value!\n",
       "                // See https://stackoverflow.com/a/7399078/911298.\n",
       "                //\n",
       "                // eval(\"local_fun = \" + map_or_text) would fail because local_fun is not declared\n",
       "                // (using var, let or const would work, but it would only be declared in the local scope\n",
       "                // and therefore the value could not be retrieved).\n",
       "                const func = eval(\"(\" + map_or_text + \")\");\n",
       "                if (typeof func !== \"function\") {\n",
       "                    // Note: backquotes are super convenient!\n",
       "                    // https://developer.mozilla.org/en-US/docs/Web/JavaScript/Reference/Template_literals\n",
       "                    console.error(\"Evaluated expression \" + map_or_text + \" is not a function (type is \" + typeof func + \")\");\n",
       "                    return map_or_text;\n",
       "                }\n",
       "                // Return the function\n",
       "                return func;\n",
       "            } catch (e) {\n",
       "                // Make sure to print the error with a second argument to console.error().\n",
       "                console.error(\"itables was not able to parse \" + map_or_text, e);\n",
       "            }\n",
       "        }\n",
       "    } else if (typeof map_or_text === \"object\") {\n",
       "        if (map_or_text instanceof Array) {\n",
       "            // Note: \"var\" is now superseded by \"let\" and \"const\".\n",
       "            // https://medium.com/javascript-scene/javascript-es6-var-let-or-const-ba58b8dcde75\n",
       "            const result = [];\n",
       "            // Note: \"for of\" is the best way to iterate through an iterable.\n",
       "            // https://developer.mozilla.org/en-US/docs/Web/JavaScript/Reference/Statements/for...of\n",
       "            for (const item of map_or_text) {\n",
       "                result.push(eval_functions(item));\n",
       "            }\n",
       "            return result;\n",
       "\n",
       "            // Alternatively, more functional approach in one line:\n",
       "            // return map_or_text.map(eval_functions);\n",
       "        } else {\n",
       "            const result = {};\n",
       "            // Object.keys() is safer than \"for in\" because otherwise you might have keys\n",
       "            // that aren't defined in the object itself.\n",
       "            //\n",
       "            // See https://stackoverflow.com/a/684692/911298.\n",
       "            for (const item of Object.keys(map_or_text)) {\n",
       "                result[item] = eval_functions(map_or_text[item]);\n",
       "            }\n",
       "            return result;\n",
       "        }\n",
       "    }\n",
       "\n",
       "    return map_or_text;\n",
       "}\n",
       "\n",
       "</` + 'script>');"
      ],
      "text/plain": [
       "<IPython.core.display.Javascript object>"
      ]
     },
     "metadata": {},
     "output_type": "display_data"
    },
    {
     "data": {
      "text/html": [
       "<div><table id=\"269de211-56a5-4771-a62e-16fe43bd47bf\" class=\"display\"><thead>\n",
       "    <tr style=\"text-align: right;\">\n",
       "      \n",
       "      <th>date</th>\n",
       "      <th>amount</th>\n",
       "      <th>item</th>\n",
       "      <th>kind</th>\n",
       "    </tr>\n",
       "  </thead></table>\n",
       "<script type=\"text/javascript\">\n",
       "require([\"datatables\"], function (datatables) {\n",
       "    $(document).ready(function () {\n",
       "        var dt_args = {\"columnDefs\": [{\"width\": \"70px\", \"targets\": \"_all\"}], \"data\": [[\"2022-05-31\", 190, \"Food\", \"Food\"], [\"2022-05-31\", 10000, \"Parent\", \"Parent\"], [\"2022-05-31\", 640, \"Internet Home\", \"Communication\"], [\"2022-05-31\", 600, \"CCF\", \"Luxury\"], [\"2022-05-31\", 340, \"Packt\", \"Edutainment\"], [\"2022-05-31\", 320, \"Telephone Dtac\", \"Communication\"], [\"2022-05-31\", 190, \"Monthly Prime\", \"Movies\"], [\"2022-05-31\", 170, \"Google\", \"Edutainment\"], [\"2022-05-31\", 100, \"Apple\", \"Edutainment\"], [\"2022-05-31\", 70, \"Patreon\", \"Edutainment\"], [\"2022-05-31\", 40, \"Apple\", \"Edutainment\"]]};\n",
       "        dt_args = eval_functions(dt_args);\n",
       "        table = $('#269de211-56a5-4771-a62e-16fe43bd47bf').DataTable(dt_args);\n",
       "    });\n",
       "})\n",
       "</script>\n",
       "</div>\n"
      ],
      "text/plain": [
       "<IPython.core.display.HTML object>"
      ]
     },
     "metadata": {},
     "output_type": "display_data"
    }
   ],
   "source": [
    "df_tmp = pd.read_sql(sql, conn)\n",
    "show(df_tmp[['date','amount','item','kind']])"
   ]
  },
  {
   "cell_type": "code",
   "execution_count": 21,
   "metadata": {},
   "outputs": [],
   "source": [
    "df_tmp.to_csv(\"../data/expense-eom.csv\")"
   ]
  },
  {
   "cell_type": "code",
   "execution_count": null,
   "metadata": {},
   "outputs": [],
   "source": []
  }
 ],
 "metadata": {
  "anaconda-cloud": {},
  "kernelspec": {
   "display_name": "Python 3 (ipykernel)",
   "language": "python",
   "name": "python3"
  },
  "language_info": {
   "codemirror_mode": {
    "name": "ipython",
    "version": 3
   },
   "file_extension": ".py",
   "mimetype": "text/x-python",
   "name": "python",
   "nbconvert_exporter": "python",
   "pygments_lexer": "ipython3",
   "version": "3.8.11"
  }
 },
 "nbformat": 4,
 "nbformat_minor": 1
}
