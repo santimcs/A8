{
 "cells": [
  {
   "cell_type": "code",
   "execution_count": 1,
   "metadata": {},
   "outputs": [
    {
     "data": {
      "application/javascript": [
       "require.config({\n",
       "    paths: {\n",
       "        datatables: 'https://cdn.datatables.net/1.10.19/js/jquery.dataTables.min',\n",
       "    }\n",
       "});\n",
       "\n",
       "$('head').append('<link rel=\"stylesheet\" type=\"text/css\" \\\n",
       "                href = \"https://cdn.datatables.net/1.10.19/css/jquery.dataTables.min.css\" > ');\n",
       "\n",
       "$('head').append('<style> table td { text-overflow: ellipsis; overflow: hidden; } </style>');\n",
       "\n",
       "$('head').append(`<script>\n",
       "function eval_functions(map_or_text) {\n",
       "    if (typeof map_or_text === \"string\") {\n",
       "        if (map_or_text.startsWith(\"function\")) {\n",
       "            try {\n",
       "                // Note: parenthesis are required around the whole expression for eval to return a value!\n",
       "                // See https://stackoverflow.com/a/7399078/911298.\n",
       "                //\n",
       "                // eval(\"local_fun = \" + map_or_text) would fail because local_fun is not declared\n",
       "                // (using var, let or const would work, but it would only be declared in the local scope\n",
       "                // and therefore the value could not be retrieved).\n",
       "                const func = eval(\"(\" + map_or_text + \")\");\n",
       "                if (typeof func !== \"function\") {\n",
       "                    // Note: backquotes are super convenient!\n",
       "                    // https://developer.mozilla.org/en-US/docs/Web/JavaScript/Reference/Template_literals\n",
       "                    console.error(\"Evaluated expression \" + map_or_text + \" is not a function (type is \" + typeof func + \")\");\n",
       "                    return map_or_text;\n",
       "                }\n",
       "                // Return the function\n",
       "                return func;\n",
       "            } catch (e) {\n",
       "                // Make sure to print the error with a second argument to console.error().\n",
       "                console.error(\"itables was not able to parse \" + map_or_text, e);\n",
       "            }\n",
       "        }\n",
       "    } else if (typeof map_or_text === \"object\") {\n",
       "        if (map_or_text instanceof Array) {\n",
       "            // Note: \"var\" is now superseded by \"let\" and \"const\".\n",
       "            // https://medium.com/javascript-scene/javascript-es6-var-let-or-const-ba58b8dcde75\n",
       "            const result = [];\n",
       "            // Note: \"for of\" is the best way to iterate through an iterable.\n",
       "            // https://developer.mozilla.org/en-US/docs/Web/JavaScript/Reference/Statements/for...of\n",
       "            for (const item of map_or_text) {\n",
       "                result.push(eval_functions(item));\n",
       "            }\n",
       "            return result;\n",
       "\n",
       "            // Alternatively, more functional approach in one line:\n",
       "            // return map_or_text.map(eval_functions);\n",
       "        } else {\n",
       "            const result = {};\n",
       "            // Object.keys() is safer than \"for in\" because otherwise you might have keys\n",
       "            // that aren't defined in the object itself.\n",
       "            //\n",
       "            // See https://stackoverflow.com/a/684692/911298.\n",
       "            for (const item of Object.keys(map_or_text)) {\n",
       "                result[item] = eval_functions(map_or_text[item]);\n",
       "            }\n",
       "            return result;\n",
       "        }\n",
       "    }\n",
       "\n",
       "    return map_or_text;\n",
       "}\n",
       "\n",
       "</` + 'script>');"
      ],
      "text/plain": [
       "<IPython.core.display.Javascript object>"
      ]
     },
     "metadata": {},
     "output_type": "display_data"
    }
   ],
   "source": [
    "%matplotlib inline\n",
    "import matplotlib.pyplot as plt\n",
    "import pandas as pd\n",
    "from sqlalchemy import create_engine\n",
    "from datetime import date, timedelta\n",
    "import calendar\n",
    "\n",
    "from itables import init_notebook_mode\n",
    "init_notebook_mode(all_interactive=True)\n",
    "\n",
    "pd.options.display.max_rows = 38\n",
    "\n",
    "engine = create_engine(\"mysql+pymysql://root:@localhost:3306/stock\")\n",
    "const = engine.connect()"
   ]
  },
  {
   "cell_type": "code",
   "execution_count": 7,
   "metadata": {},
   "outputs": [
    {
     "data": {
      "text/plain": [
       "(datetime.date(2021, 12, 1), datetime.date(2021, 12, 31))"
      ]
     },
     "execution_count": 7,
     "metadata": {},
     "output_type": "execute_result"
    }
   ],
   "source": [
    "bom = date(2021, 12, 1)\n",
    "eom = bom.replace(day=calendar.monthrange(bom.year, bom.month)[1])\n",
    "bom, eom"
   ]
  },
  {
   "cell_type": "code",
   "execution_count": 9,
   "metadata": {},
   "outputs": [],
   "source": [
    "eom = date(2021, 12, 30)"
   ]
  },
  {
   "cell_type": "code",
   "execution_count": 10,
   "metadata": {},
   "outputs": [
    {
     "name": "stdout",
     "output_type": "stream",
     "text": [
      "\n",
      "SELECT B.name, B.date, volbuy, volbuy * B.price AS cost_amount, \n",
      "volbuy * P.price AS market_value, period \n",
      "FROM buy B \n",
      "JOIN price P USING (name) \n",
      "WHERE active=1 AND P.date = \"2021-12-30\" \n",
      "ORDER BY period, B.name\n"
     ]
    }
   ],
   "source": [
    "sql = \"\"\"\n",
    "SELECT B.name, B.date, volbuy, volbuy * B.price AS cost_amount, \n",
    "volbuy * P.price AS market_value, period \n",
    "FROM buy B \n",
    "JOIN price P USING (name) \n",
    "WHERE active=1 AND P.date = \"%s\" \n",
    "ORDER BY period, B.name\"\"\"\n",
    "sql = sql % eom\n",
    "print(sql)"
   ]
  },
  {
   "cell_type": "code",
   "execution_count": 11,
   "metadata": {},
   "outputs": [
    {
     "data": {
      "text/html": [
       "<div><table id=\"56694b10-e7cc-4896-9f27-a633377f9176\" class=\"display\"><thead>\n",
       "    <tr style=\"text-align: right;\">\n",
       "      <th></th>\n",
       "      <th>date</th>\n",
       "      <th>volbuy</th>\n",
       "      <th>cost_amount</th>\n",
       "      <th>market_value</th>\n",
       "      <th>period</th>\n",
       "    </tr>\n",
       "    <tr>\n",
       "      <th>name</th>\n",
       "      <th></th>\n",
       "      <th></th>\n",
       "      <th></th>\n",
       "      <th></th>\n",
       "      <th></th>\n",
       "    </tr>\n",
       "  </thead></table>\n",
       "<script type=\"text/javascript\">\n",
       "require([\"datatables\"], function (datatables) {\n",
       "    $(document).ready(function () {\n",
       "        var dt_args = {\"columnDefs\": [{\"width\": \"70px\", \"targets\": \"_all\"}], \"data\": [[\"PTTGC\", \"2021-03-17\", 4400.0, 293700.0, 258500.0, \"1\"], [\"DIF\", \"2019-07-24\", 60000.0, 882000.0, 834000.0, \"2\"], [\"HREIT\", \"2021-10-11\", 30000.0, 268500.0, 271500.0, \"2\"], [\"JASIF\", \"2018-05-17\", 100000.0, 1000000.0, 1030000.0, \"2\"], [\"MCS\", \"2016-09-20\", 60000.0, 1002000.0, 888000.0, \"2\"], [\"NOBLE\", \"2021-05-05\", 63000.0, 441000.0, 387450.0, \"2\"], [\"RATCH\", \"2021-06-28\", 9000.0, 411750.0, 405000.0, \"2\"], [\"STA\", \"2021-06-15\", 20000.0, 695000.0, 620000.0, \"2\"], [\"TISCO\", \"2021-03-23\", 2000.0, 195000.0, 192000.0, \"2\"], [\"TMT\", \"2021-08-16\", 27000.0, 283500.0, 278100.0, \"2\"], [\"BCH\", \"2021-09-07\", 15000.0, 319500.0, 301500.0, \"3\"], [\"CKP\", \"2021-11-30\", 30000.0, 150000.0, 150000.0, \"3\"], [\"DOHOME\", \"2021-08-20\", 8000.0, 200000.0, 186400.0, \"3\"], [\"EPG\", \"2021-06-23\", 14000.0, 156800.0, 156800.0, \"3\"], [\"GLOBAL\", \"2021-11-25\", 7500.0, 150000.0, 150000.0, \"3\"], [\"IMH\", \"2021-12-08\", 6000.0, 66000.0, 75600.0, \"3\"], [\"IP\", \"2021-11-09\", 7500.0, 154500.0, 146250.0, \"3\"], [\"KCE\", \"2021-08-11\", 4000.0, 348000.0, 352000.0, \"3\"], [\"PTT\", \"2021-09-28\", 9000.0, 346500.0, 342000.0, \"3\"], [\"RCL\", \"2021-11-08\", 4500.0, 193500.0, 221625.0, \"3\"], [\"SIS\", \"2021-05-14\", 1500.0, 56250.0, 66000.0, \"3\"], [\"TSTH\", \"2021-11-30\", 75000.0, 112500.0, 109500.0, \"3\"], [\"TYCN\", \"2021-11-05\", 40000.0, 152000.0, 143200.0, \"3\"], [\"BGRIM\", \"2021-09-17\", 9000.0, 360000.0, 364500.0, \"4\"], [\"DCC\", \"2021-09-14\", 40000.0, 116000.0, 113600.0, \"4\"], [\"IVL\", \"2021-03-18\", 18000.0, 756000.0, 778500.0, \"4\"], [\"KBANK\", \"2021-11-29\", 2400.0, 327600.0, 340800.0, \"4\"], [\"NER\", \"2021-09-01\", 36000.0, 268200.0, 252000.0, \"4\"], [\"RJH\", \"2021-11-09\", 4500.0, 148500.0, 147375.0, \"4\"], [\"SAT\", \"2021-07-20\", 7500.0, 158250.0, 163500.0, \"4\"], [\"SCC\", \"2021-09-20\", 600.0, 243000.0, 231600.0, \"4\"], [\"TOP\", \"2021-11-26\", 3000.0, 150000.0, 148500.0, \"4\"], [\"TU\", \"2021-08-19\", 18000.0, 374400.0, 351000.0, \"4\"]]};\n",
       "        dt_args = eval_functions(dt_args);\n",
       "        table = $('#56694b10-e7cc-4896-9f27-a633377f9176').DataTable(dt_args);\n",
       "    });\n",
       "})\n",
       "</script>\n",
       "</div>\n"
      ],
      "text/plain": [
       "             date    volbuy  cost_amount  market_value period\n",
       "name                                                         \n",
       "PTTGC  2021-03-17    4400.0     293700.0      258500.0      1\n",
       "DIF    2019-07-24   60000.0     882000.0      834000.0      2\n",
       "HREIT  2021-10-11   30000.0     268500.0      271500.0      2\n",
       "JASIF  2018-05-17  100000.0    1000000.0     1030000.0      2\n",
       "MCS    2016-09-20   60000.0    1002000.0      888000.0      2\n",
       "NOBLE  2021-05-05   63000.0     441000.0      387450.0      2\n",
       "RATCH  2021-06-28    9000.0     411750.0      405000.0      2\n",
       "STA    2021-06-15   20000.0     695000.0      620000.0      2\n",
       "TISCO  2021-03-23    2000.0     195000.0      192000.0      2\n",
       "TMT    2021-08-16   27000.0     283500.0      278100.0      2\n",
       "BCH    2021-09-07   15000.0     319500.0      301500.0      3\n",
       "CKP    2021-11-30   30000.0     150000.0      150000.0      3\n",
       "DOHOME 2021-08-20    8000.0     200000.0      186400.0      3\n",
       "EPG    2021-06-23   14000.0     156800.0      156800.0      3\n",
       "GLOBAL 2021-11-25    7500.0     150000.0      150000.0      3\n",
       "IMH    2021-12-08    6000.0      66000.0       75600.0      3\n",
       "IP     2021-11-09    7500.0     154500.0      146250.0      3\n",
       "KCE    2021-08-11    4000.0     348000.0      352000.0      3\n",
       "PTT    2021-09-28    9000.0     346500.0      342000.0      3\n",
       "RCL    2021-11-08    4500.0     193500.0      221625.0      3\n",
       "SIS    2021-05-14    1500.0      56250.0       66000.0      3\n",
       "TSTH   2021-11-30   75000.0     112500.0      109500.0      3\n",
       "TYCN   2021-11-05   40000.0     152000.0      143200.0      3\n",
       "BGRIM  2021-09-17    9000.0     360000.0      364500.0      4\n",
       "DCC    2021-09-14   40000.0     116000.0      113600.0      4\n",
       "IVL    2021-03-18   18000.0     756000.0      778500.0      4\n",
       "KBANK  2021-11-29    2400.0     327600.0      340800.0      4\n",
       "NER    2021-09-01   36000.0     268200.0      252000.0      4\n",
       "RJH    2021-11-09    4500.0     148500.0      147375.0      4\n",
       "SAT    2021-07-20    7500.0     158250.0      163500.0      4\n",
       "SCC    2021-09-20     600.0     243000.0      231600.0      4\n",
       "TOP    2021-11-26    3000.0     150000.0      148500.0      4\n",
       "TU     2021-08-19   18000.0     374400.0      351000.0      4"
      ]
     },
     "execution_count": 11,
     "metadata": {},
     "output_type": "execute_result"
    }
   ],
   "source": [
    "pd.options.display.max_rows = 38\n",
    "df = pd.read_sql(sql, const, parse_dates=[\"date\"], index_col=\"name\")\n",
    "df"
   ]
  },
  {
   "cell_type": "code",
   "execution_count": 12,
   "metadata": {},
   "outputs": [],
   "source": [
    "file_name = \"stock-by-grade.csv\"\n",
    "output_file = \"../data/\" + file_name\n",
    "df_out = df\n",
    "df_out.to_csv(output_file)"
   ]
  },
  {
   "cell_type": "code",
   "execution_count": 15,
   "metadata": {},
   "outputs": [
    {
     "data": {
      "text/html": [
       "<div><table id=\"492f9d12-1160-407a-ab74-f8bcafcc1de9\" class=\"display\"><thead>\n",
       "    <tr style=\"text-align: right;\">\n",
       "      <th></th>\n",
       "      <th>cost_amount</th>\n",
       "      <th>market_value</th>\n",
       "    </tr>\n",
       "    <tr>\n",
       "      <th>period</th>\n",
       "      <th></th>\n",
       "      <th></th>\n",
       "    </tr>\n",
       "  </thead></table>\n",
       "<script type=\"text/javascript\">\n",
       "require([\"datatables\"], function (datatables) {\n",
       "    $(document).ready(function () {\n",
       "        var dt_args = {\"columnDefs\": [{\"width\": \"70px\", \"targets\": \"_all\"}], \"paging\": false, \"data\": [[\"disposal\", 293700.0, 258500.0], [\"high dividend\", 5178750.0, 4906050.0], [\"long term\", 2405550.0, 2400875.0], [\"short term\", 2901950.0, 2891375.0]]};\n",
       "        dt_args = eval_functions(dt_args);\n",
       "        table = $('#492f9d12-1160-407a-ab74-f8bcafcc1de9').DataTable(dt_args);\n",
       "    });\n",
       "})\n",
       "</script>\n",
       "</div>\n"
      ],
      "text/plain": [
       "               cost_amount  market_value\n",
       "period                                  \n",
       "disposal          293700.0      258500.0\n",
       "high dividend    5178750.0     4906050.0\n",
       "long term        2405550.0     2400875.0\n",
       "short term       2901950.0     2891375.0"
      ]
     },
     "execution_count": 15,
     "metadata": {},
     "output_type": "execute_result"
    }
   ],
   "source": [
    "df.period.replace(\n",
    "    [\"1\", \"2\", \"3\", \"4\"],\n",
    "    [\"disposal\", \"high dividend\", \"long term\", \"short term\"],\n",
    "    inplace=True\n",
    ")\n",
    "grouped = df.groupby(by=\"period\")\n",
    "grouped[[\"cost_amount\", \"market_value\"]].sum()"
   ]
  },
  {
   "cell_type": "code",
   "execution_count": 16,
   "metadata": {},
   "outputs": [
    {
     "data": {
      "text/html": [
       "<div><table id=\"a9e33518-c37e-4cce-9368-d15625e1d9cd\" class=\"display\"><thead>\n",
       "    <tr style=\"text-align: right;\">\n",
       "      <th></th>\n",
       "      <th>cost_amount</th>\n",
       "    </tr>\n",
       "    <tr>\n",
       "      <th>period</th>\n",
       "      <th></th>\n",
       "    </tr>\n",
       "  </thead></table>\n",
       "<script type=\"text/javascript\">\n",
       "require([\"datatables\"], function (datatables) {\n",
       "    $(document).ready(function () {\n",
       "        var dt_args = {\"columnDefs\": [{\"width\": \"70px\", \"targets\": \"_all\"}], \"paging\": false, \"data\": [[\"disposal\", 293700.0], [\"high dividend\", 5178750.0], [\"long term\", 2405550.0], [\"short term\", 2901950.0]]};\n",
       "        dt_args = eval_functions(dt_args);\n",
       "        table = $('#a9e33518-c37e-4cce-9368-d15625e1d9cd').DataTable(dt_args);\n",
       "    });\n",
       "})\n",
       "</script>\n",
       "</div>\n"
      ],
      "text/plain": [
       "period\n",
       "disposal          293700.0\n",
       "high dividend    5178750.0\n",
       "long term        2405550.0\n",
       "short term       2901950.0\n",
       "Name: cost_amount, dtype: float64"
      ]
     },
     "execution_count": 16,
     "metadata": {},
     "output_type": "execute_result"
    }
   ],
   "source": [
    "cost_summary = grouped.sum().cost_amount\n",
    "cost_summary"
   ]
  },
  {
   "cell_type": "code",
   "execution_count": 17,
   "metadata": {},
   "outputs": [
    {
     "data": {
      "text/plain": [
       "10779950.0"
      ]
     },
     "execution_count": 17,
     "metadata": {},
     "output_type": "execute_result"
    }
   ],
   "source": [
    "sum(cost_summary)"
   ]
  },
  {
   "cell_type": "code",
   "execution_count": 19,
   "metadata": {
    "scrolled": true
   },
   "outputs": [
    {
     "data": {
      "image/png": "[encoded data removed]",
      "text/plain": [
       "<Figure size 864x864 with 1 Axes>"
      ]
     },
     "metadata": {},
     "output_type": "display_data"
    }
   ],
   "source": [
    "fig_path = \"../fig/Portfolio-at-Cost-2112.png\"\n",
    "with plt.style.context(\"my_custom_style\"):\n",
    "    plt.figure(figsize=(12, 12))\n",
    "    ax = cost_summary.plot.pie(\n",
    "        colors=[\"green\", \"red\", \"orange\", \"cyan\"], startangle=90, autopct=\"%1.1f%%\"\n",
    "    )\n",
    "    plt.savefig(fig_path)"
   ]
  },
  {
   "cell_type": "code",
   "execution_count": 20,
   "metadata": {},
   "outputs": [
    {
     "data": {
      "text/html": [
       "<div><table id=\"efb522d8-0d17-4795-9cf7-c401ececaafd\" class=\"display\"><thead>\n",
       "    <tr style=\"text-align: right;\">\n",
       "      <th></th>\n",
       "      <th>market_value</th>\n",
       "    </tr>\n",
       "    <tr>\n",
       "      <th>period</th>\n",
       "      <th></th>\n",
       "    </tr>\n",
       "  </thead></table>\n",
       "<script type=\"text/javascript\">\n",
       "require([\"datatables\"], function (datatables) {\n",
       "    $(document).ready(function () {\n",
       "        var dt_args = {\"columnDefs\": [{\"width\": \"70px\", \"targets\": \"_all\"}], \"paging\": false, \"data\": [[\"disposal\", 258500.0], [\"high dividend\", 4906050.0], [\"long term\", 2400875.0], [\"short term\", 2891375.0]]};\n",
       "        dt_args = eval_functions(dt_args);\n",
       "        table = $('#efb522d8-0d17-4795-9cf7-c401ececaafd').DataTable(dt_args);\n",
       "    });\n",
       "})\n",
       "</script>\n",
       "</div>\n"
      ],
      "text/plain": [
       "period\n",
       "disposal          258500.0\n",
       "high dividend    4906050.0\n",
       "long term        2400875.0\n",
       "short term       2891375.0\n",
       "Name: market_value, dtype: float64"
      ]
     },
     "execution_count": 20,
     "metadata": {},
     "output_type": "execute_result"
    }
   ],
   "source": [
    "market_summary = grouped.sum().market_value\n",
    "market_summary"
   ]
  },
  {
   "cell_type": "code",
   "execution_count": 21,
   "metadata": {},
   "outputs": [
    {
     "data": {
      "text/plain": [
       "10456800.0"
      ]
     },
     "execution_count": 21,
     "metadata": {},
     "output_type": "execute_result"
    }
   ],
   "source": [
    "sum(market_summary)"
   ]
  },
  {
   "cell_type": "code",
   "execution_count": 22,
   "metadata": {},
   "outputs": [
    {
     "data": {
      "image/png": "[encoded data removed]",
      "text/plain": [
       "<Figure size 864x864 with 1 Axes>"
      ]
     },
     "metadata": {},
     "output_type": "display_data"
    }
   ],
   "source": [
    "fig_path = \"../fig/Portfolio-at-Market-2112.png\"\n",
    "with plt.style.context(\"my_custom_style\"):\n",
    "    plt.figure(figsize=(12, 12))\n",
    "    ax = market_summary.plot.pie(\n",
    "        colors=[\"green\", \"red\", \"orange\", \"cyan\"], startangle=90, autopct=\"%1.1f%%\"\n",
    "    )\n",
    "    plt.savefig(fig_path)"
   ]
  },
  {
   "cell_type": "code",
   "execution_count": null,
   "metadata": {
    "collapsed": true
   },
   "outputs": [],
   "source": []
  }
 ],
 "metadata": {
  "anaconda-cloud": {},
  "kernelspec": {
   "display_name": "Python 3 (ipykernel)",
   "language": "python",
   "name": "python3"
  },
  "language_info": {
   "codemirror_mode": {
    "name": "ipython",
    "version": 3
   },
   "file_extension": ".py",
   "mimetype": "text/x-python",
   "name": "python",
   "nbconvert_exporter": "python",
   "pygments_lexer": "ipython3",
   "version": "3.8.11"
  }
 },
 "nbformat": 4,
 "nbformat_minor": 1
}
