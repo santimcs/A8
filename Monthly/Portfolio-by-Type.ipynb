{
 "cells": [
  {
   "cell_type": "code",
   "execution_count": 1,
   "metadata": {},
   "outputs": [
    {
     "data": {
      "application/javascript": [
       "require.config({\n",
       "    paths: {\n",
       "        datatables: 'https://cdn.datatables.net/1.10.19/js/jquery.dataTables.min',\n",
       "    }\n",
       "});\n",
       "\n",
       "$('head').append('<link rel=\"stylesheet\" type=\"text/css\" \\\n",
       "                href = \"https://cdn.datatables.net/1.10.19/css/jquery.dataTables.min.css\" > ');\n",
       "\n",
       "$('head').append('<style> table td { text-overflow: ellipsis; overflow: hidden; } </style>');\n",
       "\n",
       "$('head').append(`<script>\n",
       "function eval_functions(map_or_text) {\n",
       "    if (typeof map_or_text === \"string\") {\n",
       "        if (map_or_text.startsWith(\"function\")) {\n",
       "            try {\n",
       "                // Note: parenthesis are required around the whole expression for eval to return a value!\n",
       "                // See https://stackoverflow.com/a/7399078/911298.\n",
       "                //\n",
       "                // eval(\"local_fun = \" + map_or_text) would fail because local_fun is not declared\n",
       "                // (using var, let or const would work, but it would only be declared in the local scope\n",
       "                // and therefore the value could not be retrieved).\n",
       "                const func = eval(\"(\" + map_or_text + \")\");\n",
       "                if (typeof func !== \"function\") {\n",
       "                    // Note: backquotes are super convenient!\n",
       "                    // https://developer.mozilla.org/en-US/docs/Web/JavaScript/Reference/Template_literals\n",
       "                    console.error(\"Evaluated expression \" + map_or_text + \" is not a function (type is \" + typeof func + \")\");\n",
       "                    return map_or_text;\n",
       "                }\n",
       "                // Return the function\n",
       "                return func;\n",
       "            } catch (e) {\n",
       "                // Make sure to print the error with a second argument to console.error().\n",
       "                console.error(\"itables was not able to parse \" + map_or_text, e);\n",
       "            }\n",
       "        }\n",
       "    } else if (typeof map_or_text === \"object\") {\n",
       "        if (map_or_text instanceof Array) {\n",
       "            // Note: \"var\" is now superseded by \"let\" and \"const\".\n",
       "            // https://medium.com/javascript-scene/javascript-es6-var-let-or-const-ba58b8dcde75\n",
       "            const result = [];\n",
       "            // Note: \"for of\" is the best way to iterate through an iterable.\n",
       "            // https://developer.mozilla.org/en-US/docs/Web/JavaScript/Reference/Statements/for...of\n",
       "            for (const item of map_or_text) {\n",
       "                result.push(eval_functions(item));\n",
       "            }\n",
       "            return result;\n",
       "\n",
       "            // Alternatively, more functional approach in one line:\n",
       "            // return map_or_text.map(eval_functions);\n",
       "        } else {\n",
       "            const result = {};\n",
       "            // Object.keys() is safer than \"for in\" because otherwise you might have keys\n",
       "            // that aren't defined in the object itself.\n",
       "            //\n",
       "            // See https://stackoverflow.com/a/684692/911298.\n",
       "            for (const item of Object.keys(map_or_text)) {\n",
       "                result[item] = eval_functions(map_or_text[item]);\n",
       "            }\n",
       "            return result;\n",
       "        }\n",
       "    }\n",
       "\n",
       "    return map_or_text;\n",
       "}\n",
       "\n",
       "</` + 'script>');"
      ],
      "text/plain": [
       "<IPython.core.display.Javascript object>"
      ]
     },
     "metadata": {},
     "output_type": "display_data"
    }
   ],
   "source": [
    "%matplotlib inline\n",
    "import matplotlib.pyplot as plt\n",
    "import pandas as pd\n",
    "from sqlalchemy import create_engine\n",
    "from datetime import date, timedelta\n",
    "import calendar\n",
    "\n",
    "from itables import init_notebook_mode\n",
    "init_notebook_mode(all_interactive=True)\n",
    "\n",
    "data_path = \"../data/\"\n",
    "csv_path = \"\\\\Users\\\\User\\\\iCloudDrive\\\\\"\n",
    "box_path = \"\\\\Users\\\\User\\\\Dropbox\\\\\"\n",
    "one_path = \"\\\\Users\\\\User\\\\OneDrive\\\\Documents\\\\Data\\\\\"\n",
    "\n",
    "pd.options.display.max_rows = 38\n",
    "\n",
    "engine = create_engine(\"mysql+pymysql://root:@localhost:3306/stock\")\n",
    "const = engine.connect()"
   ]
  },
  {
   "cell_type": "code",
   "execution_count": 2,
   "metadata": {},
   "outputs": [
    {
     "data": {
      "text/plain": [
       "(datetime.date(2022, 4, 1), datetime.date(2022, 4, 30))"
      ]
     },
     "execution_count": 2,
     "metadata": {},
     "output_type": "execute_result"
    }
   ],
   "source": [
    "bom = date(2022, 4, 1)\n",
    "eom = bom.replace(day=calendar.monthrange(bom.year, bom.month)[1])\n",
    "bom, eom"
   ]
  },
  {
   "cell_type": "code",
   "execution_count": 3,
   "metadata": {},
   "outputs": [],
   "source": [
    "eom = date(2022, 4, 29)"
   ]
  },
  {
   "cell_type": "code",
   "execution_count": 4,
   "metadata": {},
   "outputs": [
    {
     "name": "stdout",
     "output_type": "stream",
     "text": [
      "\n",
      "SELECT B.name, B.date, volbuy, volbuy * B.price AS cost_amount, \n",
      "volbuy * P.price AS market_value, period \n",
      "FROM buy B \n",
      "JOIN price P USING (name) \n",
      "WHERE active=1 AND P.date = \"2022-04-29\" \n",
      "ORDER BY period, B.name\n"
     ]
    }
   ],
   "source": [
    "sql = \"\"\"\n",
    "SELECT B.name, B.date, volbuy, volbuy * B.price AS cost_amount, \n",
    "volbuy * P.price AS market_value, period \n",
    "FROM buy B \n",
    "JOIN price P USING (name) \n",
    "WHERE active=1 AND P.date = \"%s\" \n",
    "ORDER BY period, B.name\"\"\"\n",
    "sql = sql % eom\n",
    "print(sql)"
   ]
  },
  {
   "cell_type": "code",
   "execution_count": 5,
   "metadata": {},
   "outputs": [
    {
     "data": {
      "text/html": [
       "<div><table id=\"849ed0e3-ed5d-43c4-a77c-470758d26c8c\" class=\"display\"><thead>\n",
       "    <tr style=\"text-align: right;\">\n",
       "      <th></th>\n",
       "      <th>date</th>\n",
       "      <th>volbuy</th>\n",
       "      <th>cost_amount</th>\n",
       "      <th>market_value</th>\n",
       "      <th>period</th>\n",
       "    </tr>\n",
       "    <tr>\n",
       "      <th>name</th>\n",
       "      <th></th>\n",
       "      <th></th>\n",
       "      <th></th>\n",
       "      <th></th>\n",
       "      <th></th>\n",
       "    </tr>\n",
       "  </thead></table>\n",
       "<script type=\"text/javascript\">\n",
       "require([\"datatables\"], function (datatables) {\n",
       "    $(document).ready(function () {\n",
       "        var dt_args = {\"columnDefs\": [{\"width\": \"70px\", \"targets\": \"_all\"}], \"data\": [[\"KCE\", \"2021-10-07\", 14000.0, 1015000.0, 861000.0, \"1\"], [\"PTTGC\", \"2021-03-17\", 12000.0, 705000.0, 600000.0, \"1\"], [\"STA\", \"2021-06-15\", 22500.0, 759375.0, 568125.0, \"1\"], [\"ASP\", \"2022-03-07\", 30000.0, 114000.0, 101400.0, \"2\"], [\"DIF\", \"2020-08-01\", 50000.0, 735000.0, 705000.0, \"2\"], [\"HREIT\", \"2021-10-11\", 40100.0, 358895.0, 340850.0, \"2\"], [\"JASIF\", \"2018-05-17\", 100000.0, 1000000.0, 1100000.0, \"2\"], [\"MCS\", \"2016-09-20\", 75000.0, 1155000.0, 922500.0, \"2\"], [\"SCCC\", \"2022-02-23\", 1200.0, 205200.0, 182400.0, \"2\"], [\"SENA\", \"2022-03-29\", 60000.0, 282000.0, 267600.0, \"2\"], [\"TISCO\", \"2021-03-23\", 2000.0, 195000.0, 181500.0, \"2\"], [\"TMT\", \"2021-08-16\", 27000.0, 283500.0, 272700.0, \"2\"], [\"TPIPL\", \"2022-03-07\", 60000.0, 102000.0, 90000.0, \"2\"], [\"BCH\", \"2021-09-07\", 18000.0, 383400.0, 387000.0, \"3\"], [\"IP\", \"2021-11-09\", 7500.0, 151500.0, 147000.0, \"3\"], [\"MAKRO\", \"2022-02-24\", 4500.0, 184500.0, 168750.0, \"3\"], [\"NER\", \"2021-09-01\", 27000.0, 201150.0, 182250.0, \"3\"], [\"ORI\", \"2022-04-07\", 45000.0, 495000.0, 495000.0, \"3\"], [\"RATCH\", \"2021-06-28\", 6000.0, 274500.0, 264000.0, \"3\"], [\"RCL\", \"2021-11-08\", 12000.0, 567000.0, 537000.0, \"3\"], [\"SPALI\", \"2022-02-23\", 9000.0, 198000.0, 197100.0, \"3\"], [\"SYNEX\", \"2022-01-07\", 18000.0, 504000.0, 435600.0, \"3\"], [\"DOHOME\", \"2021-08-20\", 9600.0, 194400.0, 192960.0, \"4\"], [\"PTT\", \"2021-09-28\", 6000.0, 231000.0, 225000.0, \"4\"], [\"RJH\", \"2021-11-09\", 4500.0, 148500.0, 150750.0, \"4\"], [\"SCC\", \"2021-09-20\", 900.0, 358200.0, 333000.0, \"4\"], [\"WHART\", \"2022-01-05\", 20000.0, 246000.0, 218000.0, \"4\"]]};\n",
       "        dt_args = eval_functions(dt_args);\n",
       "        table = $('#849ed0e3-ed5d-43c4-a77c-470758d26c8c').DataTable(dt_args);\n",
       "    });\n",
       "})\n",
       "</script>\n",
       "</div>\n"
      ],
      "text/plain": [
       "             date    volbuy  cost_amount  market_value period\n",
       "name                                                         \n",
       "KCE    2021-10-07   14000.0    1015000.0      861000.0      1\n",
       "PTTGC  2021-03-17   12000.0     705000.0      600000.0      1\n",
       "STA    2021-06-15   22500.0     759375.0      568125.0      1\n",
       "ASP    2022-03-07   30000.0     114000.0      101400.0      2\n",
       "DIF    2020-08-01   50000.0     735000.0      705000.0      2\n",
       "HREIT  2021-10-11   40100.0     358895.0      340850.0      2\n",
       "JASIF  2018-05-17  100000.0    1000000.0     1100000.0      2\n",
       "MCS    2016-09-20   75000.0    1155000.0      922500.0      2\n",
       "SCCC   2022-02-23    1200.0     205200.0      182400.0      2\n",
       "SENA   2022-03-29   60000.0     282000.0      267600.0      2\n",
       "TISCO  2021-03-23    2000.0     195000.0      181500.0      2\n",
       "TMT    2021-08-16   27000.0     283500.0      272700.0      2\n",
       "TPIPL  2022-03-07   60000.0     102000.0       90000.0      2\n",
       "BCH    2021-09-07   18000.0     383400.0      387000.0      3\n",
       "IP     2021-11-09    7500.0     151500.0      147000.0      3\n",
       "MAKRO  2022-02-24    4500.0     184500.0      168750.0      3\n",
       "NER    2021-09-01   27000.0     201150.0      182250.0      3\n",
       "ORI    2022-04-07   45000.0     495000.0      495000.0      3\n",
       "RATCH  2021-06-28    6000.0     274500.0      264000.0      3\n",
       "RCL    2021-11-08   12000.0     567000.0      537000.0      3\n",
       "SPALI  2022-02-23    9000.0     198000.0      197100.0      3\n",
       "SYNEX  2022-01-07   18000.0     504000.0      435600.0      3\n",
       "DOHOME 2021-08-20    9600.0     194400.0      192960.0      4\n",
       "PTT    2021-09-28    6000.0     231000.0      225000.0      4\n",
       "RJH    2021-11-09    4500.0     148500.0      150750.0      4\n",
       "SCC    2021-09-20     900.0     358200.0      333000.0      4\n",
       "WHART  2022-01-05   20000.0     246000.0      218000.0      4"
      ]
     },
     "execution_count": 5,
     "metadata": {},
     "output_type": "execute_result"
    }
   ],
   "source": [
    "pd.options.display.max_rows = 30\n",
    "df = pd.read_sql(sql, const, parse_dates=[\"date\"], index_col=\"name\")\n",
    "df"
   ]
  },
  {
   "cell_type": "code",
   "execution_count": 6,
   "metadata": {},
   "outputs": [],
   "source": [
    "df_out = df"
   ]
  },
  {
   "cell_type": "code",
   "execution_count": 7,
   "metadata": {},
   "outputs": [],
   "source": [
    "file_name = \"stock-by-period.csv\"\n",
    "data_file = data_path + file_name\n",
    "output_file = csv_path + file_name\n",
    "box_file = box_path + file_name\n",
    "one_file = one_path + file_name\n",
    "\n",
    "df_out.sort_values(by=['period','name'],ascending=[True,True]).to_csv(output_file)\n",
    "df_out.sort_values(by=['period','name'],ascending=[True,True]).to_csv(data_file)\n",
    "df_out.sort_values(by=['period','name'],ascending=[True,True]).to_csv(box_file)\n",
    "df_out.sort_values(by=['period','name'],ascending=[True,True]).to_csv(one_file)"
   ]
  },
  {
   "cell_type": "code",
   "execution_count": 8,
   "metadata": {},
   "outputs": [
    {
     "data": {
      "text/html": [
       "<div><table id=\"913cd9ed-93be-4bbd-b1ac-d53a07eb4f3f\" class=\"display\"><thead>\n",
       "    <tr style=\"text-align: right;\">\n",
       "      <th></th>\n",
       "      <th>cost_amount</th>\n",
       "      <th>market_value</th>\n",
       "    </tr>\n",
       "    <tr>\n",
       "      <th>period</th>\n",
       "      <th></th>\n",
       "      <th></th>\n",
       "    </tr>\n",
       "  </thead></table>\n",
       "<script type=\"text/javascript\">\n",
       "require([\"datatables\"], function (datatables) {\n",
       "    $(document).ready(function () {\n",
       "        var dt_args = {\"columnDefs\": [{\"width\": \"70px\", \"targets\": \"_all\"}], \"paging\": false, \"data\": [[\"disposal\", 2479375.0, 2029125.0], [\"high dividend\", 4430595.0, 4163950.0], [\"long term\", 2959050.0, 2813700.0], [\"short term\", 1178100.0, 1119710.0]]};\n",
       "        dt_args = eval_functions(dt_args);\n",
       "        table = $('#913cd9ed-93be-4bbd-b1ac-d53a07eb4f3f').DataTable(dt_args);\n",
       "    });\n",
       "})\n",
       "</script>\n",
       "</div>\n"
      ],
      "text/plain": [
       "               cost_amount  market_value\n",
       "period                                  \n",
       "disposal         2479375.0     2029125.0\n",
       "high dividend    4430595.0     4163950.0\n",
       "long term        2959050.0     2813700.0\n",
       "short term       1178100.0     1119710.0"
      ]
     },
     "execution_count": 8,
     "metadata": {},
     "output_type": "execute_result"
    }
   ],
   "source": [
    "df.period.replace(\n",
    "    [\"1\", \"2\", \"3\", \"4\"],\n",
    "    [\"disposal\", \"high dividend\", \"long term\", \"short term\"],\n",
    "    inplace=True\n",
    ")\n",
    "grouped = df.groupby(by=\"period\")\n",
    "grouped[[\"cost_amount\", \"market_value\"]].sum()"
   ]
  },
  {
   "cell_type": "code",
   "execution_count": 9,
   "metadata": {},
   "outputs": [
    {
     "data": {
      "text/html": [
       "<div><table id=\"e71971fa-db34-45e8-aa1a-75d1806e5e5f\" class=\"display\"><thead>\n",
       "    <tr style=\"text-align: right;\">\n",
       "      <th></th>\n",
       "      <th>cost_amount</th>\n",
       "    </tr>\n",
       "    <tr>\n",
       "      <th>period</th>\n",
       "      <th></th>\n",
       "    </tr>\n",
       "  </thead></table>\n",
       "<script type=\"text/javascript\">\n",
       "require([\"datatables\"], function (datatables) {\n",
       "    $(document).ready(function () {\n",
       "        var dt_args = {\"columnDefs\": [{\"width\": \"70px\", \"targets\": \"_all\"}], \"paging\": false, \"data\": [[\"disposal\", 2479375.0], [\"high dividend\", 4430595.0], [\"long term\", 2959050.0], [\"short term\", 1178100.0]]};\n",
       "        dt_args = eval_functions(dt_args);\n",
       "        table = $('#e71971fa-db34-45e8-aa1a-75d1806e5e5f').DataTable(dt_args);\n",
       "    });\n",
       "})\n",
       "</script>\n",
       "</div>\n"
      ],
      "text/plain": [
       "period\n",
       "disposal         2479375.0\n",
       "high dividend    4430595.0\n",
       "long term        2959050.0\n",
       "short term       1178100.0\n",
       "Name: cost_amount, dtype: float64"
      ]
     },
     "execution_count": 9,
     "metadata": {},
     "output_type": "execute_result"
    }
   ],
   "source": [
    "cost_summary = grouped.sum().cost_amount\n",
    "cost_summary"
   ]
  },
  {
   "cell_type": "code",
   "execution_count": 10,
   "metadata": {},
   "outputs": [
    {
     "data": {
      "text/plain": [
       "11047120.0"
      ]
     },
     "execution_count": 10,
     "metadata": {},
     "output_type": "execute_result"
    }
   ],
   "source": [
    "sum(cost_summary)"
   ]
  },
  {
   "cell_type": "code",
   "execution_count": 11,
   "metadata": {
    "scrolled": true
   },
   "outputs": [
    {
     "data": {
      "image/png": "[encoded data removed]",
      "text/plain": [
       "<Figure size 864x864 with 1 Axes>"
      ]
     },
     "metadata": {},
     "output_type": "display_data"
    }
   ],
   "source": [
    "fig_path = \"../fig/Portfolio-at-Cost-2204.png\"\n",
    "with plt.style.context(\"my_custom_style\"):\n",
    "    plt.figure(figsize=(12, 12))\n",
    "    ax = cost_summary.plot.pie(\n",
    "        colors=[\"green\", \"red\", \"orange\", \"cyan\"], startangle=90, autopct=\"%1.1f%%\"\n",
    "    )\n",
    "    plt.savefig(fig_path)"
   ]
  },
  {
   "cell_type": "code",
   "execution_count": 12,
   "metadata": {},
   "outputs": [
    {
     "data": {
      "text/html": [
       "<div><table id=\"d15147ea-9dee-47cd-a554-b53c36da5e1a\" class=\"display\"><thead>\n",
       "    <tr style=\"text-align: right;\">\n",
       "      <th></th>\n",
       "      <th>market_value</th>\n",
       "    </tr>\n",
       "    <tr>\n",
       "      <th>period</th>\n",
       "      <th></th>\n",
       "    </tr>\n",
       "  </thead></table>\n",
       "<script type=\"text/javascript\">\n",
       "require([\"datatables\"], function (datatables) {\n",
       "    $(document).ready(function () {\n",
       "        var dt_args = {\"columnDefs\": [{\"width\": \"70px\", \"targets\": \"_all\"}], \"paging\": false, \"data\": [[\"disposal\", 2029125.0], [\"high dividend\", 4163950.0], [\"long term\", 2813700.0], [\"short term\", 1119710.0]]};\n",
       "        dt_args = eval_functions(dt_args);\n",
       "        table = $('#d15147ea-9dee-47cd-a554-b53c36da5e1a').DataTable(dt_args);\n",
       "    });\n",
       "})\n",
       "</script>\n",
       "</div>\n"
      ],
      "text/plain": [
       "period\n",
       "disposal         2029125.0\n",
       "high dividend    4163950.0\n",
       "long term        2813700.0\n",
       "short term       1119710.0\n",
       "Name: market_value, dtype: float64"
      ]
     },
     "execution_count": 12,
     "metadata": {},
     "output_type": "execute_result"
    }
   ],
   "source": [
    "market_summary = grouped.sum().market_value\n",
    "market_summary"
   ]
  },
  {
   "cell_type": "code",
   "execution_count": 13,
   "metadata": {},
   "outputs": [
    {
     "data": {
      "text/plain": [
       "10126485.0"
      ]
     },
     "execution_count": 13,
     "metadata": {},
     "output_type": "execute_result"
    }
   ],
   "source": [
    "sum(market_summary)"
   ]
  },
  {
   "cell_type": "code",
   "execution_count": 14,
   "metadata": {},
   "outputs": [
    {
     "data": {
      "image/png": "[encoded data removed]",
      "text/plain": [
       "<Figure size 864x864 with 1 Axes>"
      ]
     },
     "metadata": {},
     "output_type": "display_data"
    }
   ],
   "source": [
    "fig_path = \"../fig/Portfolio-at-Market-2204.png\"\n",
    "with plt.style.context(\"my_custom_style\"):\n",
    "    plt.figure(figsize=(12, 12))\n",
    "    ax = market_summary.plot.pie(\n",
    "        colors=[\"green\", \"red\", \"orange\", \"cyan\"], startangle=90, autopct=\"%1.1f%%\"\n",
    "    )\n",
    "    plt.savefig(fig_path)"
   ]
  },
  {
   "cell_type": "code",
   "execution_count": null,
   "metadata": {
    "collapsed": true
   },
   "outputs": [],
   "source": []
  }
 ],
 "metadata": {
  "anaconda-cloud": {},
  "kernelspec": {
   "display_name": "Python 3 (ipykernel)",
   "language": "python",
   "name": "python3"
  },
  "language_info": {
   "codemirror_mode": {
    "name": "ipython",
    "version": 3
   },
   "file_extension": ".py",
   "mimetype": "text/x-python",
   "name": "python",
   "nbconvert_exporter": "python",
   "pygments_lexer": "ipython3",
   "version": "3.8.11"
  }
 },
 "nbformat": 4,
 "nbformat_minor": 1
}
