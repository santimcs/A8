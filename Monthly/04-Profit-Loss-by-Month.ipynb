{
 "cells": [
  {
   "cell_type": "code",
   "execution_count": 1,
   "metadata": {},
   "outputs": [],
   "source": [
    "import pandas as pd\n",
    "from sqlalchemy import create_engine\n",
    "\n",
    "engine = create_engine('mysql+pymysql://root:@localhost:3306/portfolio_development')\n",
    "conpf = engine.connect()"
   ]
  },
  {
   "cell_type": "code",
   "execution_count": 2,
   "metadata": {},
   "outputs": [
    {
     "data": {
      "text/plain": [
       "(2022, 1)"
      ]
     },
     "execution_count": 2,
     "metadata": {},
     "output_type": "execute_result"
    }
   ],
   "source": [
    "year = 2022\n",
    "month = 1\n",
    "year, month"
   ]
  },
  {
   "cell_type": "markdown",
   "metadata": {},
   "source": [
    "### Calculate profits"
   ]
  },
  {
   "cell_type": "code",
   "execution_count": 3,
   "metadata": {},
   "outputs": [],
   "source": [
    "format_dict = {\n",
    "    'qty':'{:,}',\n",
    "    'buy_price':'{:.2f}','sell_price':'{:.2f}',\n",
    "    'profit':'{:,.2f}','buy_amt':'{:,.2f}','sell_amt':'{:,.2f}',\n",
    "}"
   ]
  },
  {
   "cell_type": "code",
   "execution_count": 4,
   "metadata": {},
   "outputs": [
    {
     "name": "stdout",
     "output_type": "stream",
     "text": [
      "\n",
      "SELECT name, sells.date AS sell_date, qty,\n",
      "buys.price AS buy_price, buys.net AS buy_amt, \n",
      "sells.price AS sell_price, sells.net AS sell_amt, profit \n",
      "FROM sells \n",
      "JOIN buys ON sells.buy_id = buys.id\n",
      "JOIN stocks ON buys.stock_id = stocks.id\n",
      "WHERE YEAR(sells.date) = 2022 AND MONTH(sells.date) = 1\n",
      "ORDER BY sells.date, name\n"
     ]
    }
   ],
   "source": [
    "sql = '''\n",
    "SELECT name, sells.date AS sell_date, qty,\n",
    "buys.price AS buy_price, buys.net AS buy_amt, \n",
    "sells.price AS sell_price, sells.net AS sell_amt, profit \n",
    "FROM sells \n",
    "JOIN buys ON sells.buy_id = buys.id\n",
    "JOIN stocks ON buys.stock_id = stocks.id\n",
    "WHERE YEAR(sells.date) = %s AND MONTH(sells.date) = %s\n",
    "ORDER BY sells.date, name'''\n",
    "sql = sql % (year, month)\n",
    "print(sql)"
   ]
  },
  {
   "cell_type": "code",
   "execution_count": 5,
   "metadata": {},
   "outputs": [
    {
     "data": {
      "text/html": [
       "<style type=\"text/css\">\n",
       "</style>\n",
       "<table id=\"T_0f4bc_\">\n",
       "  <thead>\n",
       "    <tr>\n",
       "      <th class=\"blank level0\" >&nbsp;</th>\n",
       "      <th class=\"col_heading level0 col0\" >name</th>\n",
       "      <th class=\"col_heading level0 col1\" >sell_date</th>\n",
       "      <th class=\"col_heading level0 col2\" >qty</th>\n",
       "      <th class=\"col_heading level0 col3\" >buy_price</th>\n",
       "      <th class=\"col_heading level0 col4\" >buy_amt</th>\n",
       "      <th class=\"col_heading level0 col5\" >sell_price</th>\n",
       "      <th class=\"col_heading level0 col6\" >sell_amt</th>\n",
       "      <th class=\"col_heading level0 col7\" >profit</th>\n",
       "    </tr>\n",
       "  </thead>\n",
       "  <tbody>\n",
       "    <tr>\n",
       "      <th id=\"T_0f4bc_level0_row0\" class=\"row_heading level0 row0\" >0</th>\n",
       "      <td id=\"T_0f4bc_row0_col0\" class=\"data row0 col0\" >IVL</td>\n",
       "      <td id=\"T_0f4bc_row0_col1\" class=\"data row0 col1\" >2022-01-05</td>\n",
       "      <td id=\"T_0f4bc_row0_col2\" class=\"data row0 col2\" >3,000</td>\n",
       "      <td id=\"T_0f4bc_row0_col3\" class=\"data row0 col3\" >42.00</td>\n",
       "      <td id=\"T_0f4bc_row0_col4\" class=\"data row0 col4\" >126,279.08</td>\n",
       "      <td id=\"T_0f4bc_row0_col5\" class=\"data row0 col5\" >44.50</td>\n",
       "      <td id=\"T_0f4bc_row0_col6\" class=\"data row0 col6\" >133,204.31</td>\n",
       "      <td id=\"T_0f4bc_row0_col7\" class=\"data row0 col7\" >6,925.23</td>\n",
       "    </tr>\n",
       "    <tr>\n",
       "      <th id=\"T_0f4bc_level0_row1\" class=\"row_heading level0 row1\" >1</th>\n",
       "      <td id=\"T_0f4bc_row1_col0\" class=\"data row1 col0\" >DCC</td>\n",
       "      <td id=\"T_0f4bc_row1_col1\" class=\"data row1 col1\" >2022-01-06</td>\n",
       "      <td id=\"T_0f4bc_row1_col2\" class=\"data row1 col2\" >40,000</td>\n",
       "      <td id=\"T_0f4bc_row1_col3\" class=\"data row1 col3\" >2.90</td>\n",
       "      <td id=\"T_0f4bc_row1_col4\" class=\"data row1 col4\" >116,256.93</td>\n",
       "      <td id=\"T_0f4bc_row1_col5\" class=\"data row1 col5\" >3.00</td>\n",
       "      <td id=\"T_0f4bc_row1_col6\" class=\"data row1 col6\" >119,734.21</td>\n",
       "      <td id=\"T_0f4bc_row1_col7\" class=\"data row1 col7\" >3,477.28</td>\n",
       "    </tr>\n",
       "    <tr>\n",
       "      <th id=\"T_0f4bc_level0_row2\" class=\"row_heading level0 row2\" >2</th>\n",
       "      <td id=\"T_0f4bc_row2_col0\" class=\"data row2 col0\" >EPG</td>\n",
       "      <td id=\"T_0f4bc_row2_col1\" class=\"data row2 col1\" >2022-01-06</td>\n",
       "      <td id=\"T_0f4bc_row2_col2\" class=\"data row2 col2\" >2,000</td>\n",
       "      <td id=\"T_0f4bc_row2_col3\" class=\"data row2 col3\" >11.20</td>\n",
       "      <td id=\"T_0f4bc_row2_col4\" class=\"data row2 col4\" >22,449.62</td>\n",
       "      <td id=\"T_0f4bc_row2_col5\" class=\"data row2 col5\" >12.30</td>\n",
       "      <td id=\"T_0f4bc_row2_col6\" class=\"data row2 col6\" >24,545.52</td>\n",
       "      <td id=\"T_0f4bc_row2_col7\" class=\"data row2 col7\" >2,095.90</td>\n",
       "    </tr>\n",
       "    <tr>\n",
       "      <th id=\"T_0f4bc_level0_row3\" class=\"row_heading level0 row3\" >3</th>\n",
       "      <td id=\"T_0f4bc_row3_col0\" class=\"data row3 col0\" >IMH</td>\n",
       "      <td id=\"T_0f4bc_row3_col1\" class=\"data row3 col1\" >2022-01-07</td>\n",
       "      <td id=\"T_0f4bc_row3_col2\" class=\"data row3 col2\" >1,500</td>\n",
       "      <td id=\"T_0f4bc_row3_col3\" class=\"data row3 col3\" >11.00</td>\n",
       "      <td id=\"T_0f4bc_row3_col4\" class=\"data row3 col4\" >16,536.55</td>\n",
       "      <td id=\"T_0f4bc_row3_col5\" class=\"data row3 col5\" >16.80</td>\n",
       "      <td id=\"T_0f4bc_row3_col6\" class=\"data row3 col6\" >25,144.19</td>\n",
       "      <td id=\"T_0f4bc_row3_col7\" class=\"data row3 col7\" >8,607.64</td>\n",
       "    </tr>\n",
       "    <tr>\n",
       "      <th id=\"T_0f4bc_level0_row4\" class=\"row_heading level0 row4\" >4</th>\n",
       "      <td id=\"T_0f4bc_row4_col0\" class=\"data row4 col0\" >IMH</td>\n",
       "      <td id=\"T_0f4bc_row4_col1\" class=\"data row4 col1\" >2022-01-10</td>\n",
       "      <td id=\"T_0f4bc_row4_col2\" class=\"data row4 col2\" >1,500</td>\n",
       "      <td id=\"T_0f4bc_row4_col3\" class=\"data row4 col3\" >11.00</td>\n",
       "      <td id=\"T_0f4bc_row4_col4\" class=\"data row4 col4\" >16,536.55</td>\n",
       "      <td id=\"T_0f4bc_row4_col5\" class=\"data row4 col5\" >16.80</td>\n",
       "      <td id=\"T_0f4bc_row4_col6\" class=\"data row4 col6\" >25,144.19</td>\n",
       "      <td id=\"T_0f4bc_row4_col7\" class=\"data row4 col7\" >8,607.64</td>\n",
       "    </tr>\n",
       "    <tr>\n",
       "      <th id=\"T_0f4bc_level0_row5\" class=\"row_heading level0 row5\" >5</th>\n",
       "      <td id=\"T_0f4bc_row5_col0\" class=\"data row5 col0\" >IMH</td>\n",
       "      <td id=\"T_0f4bc_row5_col1\" class=\"data row5 col1\" >2022-01-11</td>\n",
       "      <td id=\"T_0f4bc_row5_col2\" class=\"data row5 col2\" >1,000</td>\n",
       "      <td id=\"T_0f4bc_row5_col3\" class=\"data row5 col3\" >11.00</td>\n",
       "      <td id=\"T_0f4bc_row5_col4\" class=\"data row5 col4\" >11,024.36</td>\n",
       "      <td id=\"T_0f4bc_row5_col5\" class=\"data row5 col5\" >20.10</td>\n",
       "      <td id=\"T_0f4bc_row5_col6\" class=\"data row5 col6\" >20,055.48</td>\n",
       "      <td id=\"T_0f4bc_row5_col7\" class=\"data row5 col7\" >9,031.12</td>\n",
       "    </tr>\n",
       "    <tr>\n",
       "      <th id=\"T_0f4bc_level0_row6\" class=\"row_heading level0 row6\" >6</th>\n",
       "      <td id=\"T_0f4bc_row6_col0\" class=\"data row6 col0\" >IVL</td>\n",
       "      <td id=\"T_0f4bc_row6_col1\" class=\"data row6 col1\" >2022-01-11</td>\n",
       "      <td id=\"T_0f4bc_row6_col2\" class=\"data row6 col2\" >3,000</td>\n",
       "      <td id=\"T_0f4bc_row6_col3\" class=\"data row6 col3\" >42.00</td>\n",
       "      <td id=\"T_0f4bc_row6_col4\" class=\"data row6 col4\" >126,279.08</td>\n",
       "      <td id=\"T_0f4bc_row6_col5\" class=\"data row6 col5\" >46.25</td>\n",
       "      <td id=\"T_0f4bc_row6_col6\" class=\"data row6 col6\" >138,442.69</td>\n",
       "      <td id=\"T_0f4bc_row6_col7\" class=\"data row6 col7\" >12,163.61</td>\n",
       "    </tr>\n",
       "    <tr>\n",
       "      <th id=\"T_0f4bc_level0_row7\" class=\"row_heading level0 row7\" >7</th>\n",
       "      <td id=\"T_0f4bc_row7_col0\" class=\"data row7 col0\" >KBANK</td>\n",
       "      <td id=\"T_0f4bc_row7_col1\" class=\"data row7 col1\" >2022-01-13</td>\n",
       "      <td id=\"T_0f4bc_row7_col2\" class=\"data row7 col2\" >800</td>\n",
       "      <td id=\"T_0f4bc_row7_col3\" class=\"data row7 col3\" >136.88</td>\n",
       "      <td id=\"T_0f4bc_row7_col4\" class=\"data row7 col4\" >109,746.54</td>\n",
       "      <td id=\"T_0f4bc_row7_col5\" class=\"data row7 col5\" >144.50</td>\n",
       "      <td id=\"T_0f4bc_row7_col6\" class=\"data row7 col6\" >115,343.96</td>\n",
       "      <td id=\"T_0f4bc_row7_col7\" class=\"data row7 col7\" >5,597.42</td>\n",
       "    </tr>\n",
       "    <tr>\n",
       "      <th id=\"T_0f4bc_level0_row8\" class=\"row_heading level0 row8\" >8</th>\n",
       "      <td id=\"T_0f4bc_row8_col0\" class=\"data row8 col0\" >SAT</td>\n",
       "      <td id=\"T_0f4bc_row8_col1\" class=\"data row8 col1\" >2022-01-13</td>\n",
       "      <td id=\"T_0f4bc_row8_col2\" class=\"data row8 col2\" >2,500</td>\n",
       "      <td id=\"T_0f4bc_row8_col3\" class=\"data row8 col3\" >21.10</td>\n",
       "      <td id=\"T_0f4bc_row8_col4\" class=\"data row8 col4\" >52,866.83</td>\n",
       "      <td id=\"T_0f4bc_row8_col5\" class=\"data row8 col5\" >24.40</td>\n",
       "      <td id=\"T_0f4bc_row8_col6\" class=\"data row8 col6\" >60,864.89</td>\n",
       "      <td id=\"T_0f4bc_row8_col7\" class=\"data row8 col7\" >7,998.06</td>\n",
       "    </tr>\n",
       "    <tr>\n",
       "      <th id=\"T_0f4bc_level0_row9\" class=\"row_heading level0 row9\" >9</th>\n",
       "      <td id=\"T_0f4bc_row9_col0\" class=\"data row9 col0\" >SYNEX</td>\n",
       "      <td id=\"T_0f4bc_row9_col1\" class=\"data row9 col1\" >2022-01-13</td>\n",
       "      <td id=\"T_0f4bc_row9_col2\" class=\"data row9 col2\" >1,500</td>\n",
       "      <td id=\"T_0f4bc_row9_col3\" class=\"data row9 col3\" >31.50</td>\n",
       "      <td id=\"T_0f4bc_row9_col4\" class=\"data row9 col4\" >47,354.66</td>\n",
       "      <td id=\"T_0f4bc_row9_col5\" class=\"data row9 col5\" >33.00</td>\n",
       "      <td id=\"T_0f4bc_row9_col6\" class=\"data row9 col6\" >49,390.36</td>\n",
       "      <td id=\"T_0f4bc_row9_col7\" class=\"data row9 col7\" >2,035.70</td>\n",
       "    </tr>\n",
       "    <tr>\n",
       "      <th id=\"T_0f4bc_level0_row10\" class=\"row_heading level0 row10\" >10</th>\n",
       "      <td id=\"T_0f4bc_row10_col0\" class=\"data row10 col0\" >KBANK</td>\n",
       "      <td id=\"T_0f4bc_row10_col1\" class=\"data row10 col1\" >2022-01-17</td>\n",
       "      <td id=\"T_0f4bc_row10_col2\" class=\"data row10 col2\" >800</td>\n",
       "      <td id=\"T_0f4bc_row10_col3\" class=\"data row10 col3\" >136.88</td>\n",
       "      <td id=\"T_0f4bc_row10_col4\" class=\"data row10 col4\" >109,746.54</td>\n",
       "      <td id=\"T_0f4bc_row10_col5\" class=\"data row10 col5\" >144.50</td>\n",
       "      <td id=\"T_0f4bc_row10_col6\" class=\"data row10 col6\" >115,343.96</td>\n",
       "      <td id=\"T_0f4bc_row10_col7\" class=\"data row10 col7\" >5,597.42</td>\n",
       "    </tr>\n",
       "    <tr>\n",
       "      <th id=\"T_0f4bc_level0_row11\" class=\"row_heading level0 row11\" >11</th>\n",
       "      <td id=\"T_0f4bc_row11_col0\" class=\"data row11 col0\" >SAT</td>\n",
       "      <td id=\"T_0f4bc_row11_col1\" class=\"data row11 col1\" >2022-01-18</td>\n",
       "      <td id=\"T_0f4bc_row11_col2\" class=\"data row11 col2\" >5,000</td>\n",
       "      <td id=\"T_0f4bc_row11_col3\" class=\"data row11 col3\" >21.10</td>\n",
       "      <td id=\"T_0f4bc_row11_col4\" class=\"data row11 col4\" >105,733.68</td>\n",
       "      <td id=\"T_0f4bc_row11_col5\" class=\"data row11 col5\" >23.20</td>\n",
       "      <td id=\"T_0f4bc_row11_col6\" class=\"data row11 col6\" >115,743.07</td>\n",
       "      <td id=\"T_0f4bc_row11_col7\" class=\"data row11 col7\" >10,009.39</td>\n",
       "    </tr>\n",
       "    <tr>\n",
       "      <th id=\"T_0f4bc_level0_row12\" class=\"row_heading level0 row12\" >12</th>\n",
       "      <td id=\"T_0f4bc_row12_col0\" class=\"data row12 col0\" >RCL</td>\n",
       "      <td id=\"T_0f4bc_row12_col1\" class=\"data row12 col1\" >2022-01-19</td>\n",
       "      <td id=\"T_0f4bc_row12_col2\" class=\"data row12 col2\" >1,500</td>\n",
       "      <td id=\"T_0f4bc_row12_col3\" class=\"data row12 col3\" >44.50</td>\n",
       "      <td id=\"T_0f4bc_row12_col4\" class=\"data row12 col4\" >66,897.84</td>\n",
       "      <td id=\"T_0f4bc_row12_col5\" class=\"data row12 col5\" >49.50</td>\n",
       "      <td id=\"T_0f4bc_row12_col6\" class=\"data row12 col6\" >74,085.54</td>\n",
       "      <td id=\"T_0f4bc_row12_col7\" class=\"data row12 col7\" >7,187.70</td>\n",
       "    </tr>\n",
       "    <tr>\n",
       "      <th id=\"T_0f4bc_level0_row13\" class=\"row_heading level0 row13\" >13</th>\n",
       "      <td id=\"T_0f4bc_row13_col0\" class=\"data row13 col0\" >SIS</td>\n",
       "      <td id=\"T_0f4bc_row13_col1\" class=\"data row13 col1\" >2022-01-19</td>\n",
       "      <td id=\"T_0f4bc_row13_col2\" class=\"data row13 col2\" >1,500</td>\n",
       "      <td id=\"T_0f4bc_row13_col3\" class=\"data row13 col3\" >40.50</td>\n",
       "      <td id=\"T_0f4bc_row13_col4\" class=\"data row13 col4\" >60,884.55</td>\n",
       "      <td id=\"T_0f4bc_row13_col5\" class=\"data row13 col5\" >42.75</td>\n",
       "      <td id=\"T_0f4bc_row13_col6\" class=\"data row13 col6\" >63,982.97</td>\n",
       "      <td id=\"T_0f4bc_row13_col7\" class=\"data row13 col7\" >3,098.42</td>\n",
       "    </tr>\n",
       "    <tr>\n",
       "      <th id=\"T_0f4bc_level0_row14\" class=\"row_heading level0 row14\" >14</th>\n",
       "      <td id=\"T_0f4bc_row14_col0\" class=\"data row14 col0\" >KBANK</td>\n",
       "      <td id=\"T_0f4bc_row14_col1\" class=\"data row14 col1\" >2022-01-21</td>\n",
       "      <td id=\"T_0f4bc_row14_col2\" class=\"data row14 col2\" >800</td>\n",
       "      <td id=\"T_0f4bc_row14_col3\" class=\"data row14 col3\" >136.88</td>\n",
       "      <td id=\"T_0f4bc_row14_col4\" class=\"data row14 col4\" >109,746.54</td>\n",
       "      <td id=\"T_0f4bc_row14_col5\" class=\"data row14 col5\" >140.00</td>\n",
       "      <td id=\"T_0f4bc_row14_col6\" class=\"data row14 col6\" >111,751.93</td>\n",
       "      <td id=\"T_0f4bc_row14_col7\" class=\"data row14 col7\" >2,005.39</td>\n",
       "    </tr>\n",
       "  </tbody>\n",
       "</table>\n"
      ],
      "text/plain": [
       "<pandas.io.formats.style.Styler at 0x1edea88e040>"
      ]
     },
     "execution_count": 5,
     "metadata": {},
     "output_type": "execute_result"
    }
   ],
   "source": [
    "sells_df = pd.read_sql(sql, conpf)\n",
    "sells_df.sort_values(by=['sell_date','name'],ascending=[True,True]).style.format(format_dict)"
   ]
  },
  {
   "cell_type": "code",
   "execution_count": 6,
   "metadata": {},
   "outputs": [
    {
     "data": {
      "text/plain": [
       "'94,437.92'"
      ]
     },
     "execution_count": 6,
     "metadata": {},
     "output_type": "execute_result"
    }
   ],
   "source": [
    "flt_format = '{:,.2f}'\n",
    "flt_format.format(sells_df.profit.sum())"
   ]
  }
 ],
 "metadata": {
  "kernelspec": {
   "display_name": "Python 3 (ipykernel)",
   "language": "python",
   "name": "python3"
  },
  "language_info": {
   "codemirror_mode": {
    "name": "ipython",
    "version": 3
   },
   "file_extension": ".py",
   "mimetype": "text/x-python",
   "name": "python",
   "nbconvert_exporter": "python",
   "pygments_lexer": "ipython3",
   "version": "3.8.11"
  }
 },
 "nbformat": 4,
 "nbformat_minor": 2
}
