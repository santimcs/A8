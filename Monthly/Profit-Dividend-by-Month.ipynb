{
 "cells": [
  {
   "cell_type": "code",
   "execution_count": 1,
   "metadata": {},
   "outputs": [],
   "source": [
    "import pandas as pd\n",
    "from sqlalchemy import create_engine\n",
    "\n",
    "engine = create_engine('mysql+pymysql://root:@localhost:3306/portfolio_development')\n",
    "conpf = engine.connect()"
   ]
  },
  {
   "cell_type": "code",
   "execution_count": 28,
   "metadata": {},
   "outputs": [
    {
     "data": {
      "text/plain": [
       "(2022, 1)"
      ]
     },
     "execution_count": 28,
     "metadata": {},
     "output_type": "execute_result"
    }
   ],
   "source": [
    "year = 2022\n",
    "month = 1\n",
    "year, month"
   ]
  },
  {
   "cell_type": "markdown",
   "metadata": {},
   "source": [
    "### Calculate profits"
   ]
  },
  {
   "cell_type": "code",
   "execution_count": 11,
   "metadata": {},
   "outputs": [],
   "source": [
    "format_dict = {\n",
    "    'qty':'{:,}',\n",
    "    'buy_price':'{:.2f}','sell_price':'{:.2f}',\n",
    "    'profit':'{:,.2f}','buy_amt':'{:,.2f}','sell_amt':'{:,.2f}',\n",
    "    'number':'{:,}',\n",
    "    'amt':'{:,.2f}','net':'{:,.2f}',\n",
    "    'ppu':'{:.4f}',\n",
    "    'x_date':'{:%Y-%m-%d}',    \n",
    "    'p_date':'{:%Y-%m-%d}',  \n",
    "}"
   ]
  },
  {
   "cell_type": "code",
   "execution_count": 4,
   "metadata": {},
   "outputs": [
    {
     "name": "stdout",
     "output_type": "stream",
     "text": [
      "\n",
      "SELECT name, sells.date AS sell_date, qty,\n",
      "buys.price AS buy_price, buys.net AS buy_amt, \n",
      "sells.price AS sell_price, sells.net AS sell_amt, profit \n",
      "FROM sells \n",
      "JOIN buys ON sells.buy_id = buys.id\n",
      "JOIN stocks ON buys.stock_id = stocks.id\n",
      "WHERE YEAR(sells.date) = 2022 AND MONTH(sells.date) = 5\n",
      "ORDER BY sells.date, name\n"
     ]
    }
   ],
   "source": [
    "sql = '''\n",
    "SELECT name, sells.date AS sell_date, qty,\n",
    "buys.price AS buy_price, buys.net AS buy_amt, \n",
    "sells.price AS sell_price, sells.net AS sell_amt, profit \n",
    "FROM sells \n",
    "JOIN buys ON sells.buy_id = buys.id\n",
    "JOIN stocks ON buys.stock_id = stocks.id\n",
    "WHERE YEAR(sells.date) = %s AND MONTH(sells.date) = %s\n",
    "ORDER BY sells.date, name'''\n",
    "sql = sql % (year, month)\n",
    "print(sql)"
   ]
  },
  {
   "cell_type": "code",
   "execution_count": 5,
   "metadata": {},
   "outputs": [
    {
     "data": {
      "text/html": [
       "<style type=\"text/css\">\n",
       "</style>\n",
       "<table id=\"T_2105d_\">\n",
       "  <thead>\n",
       "    <tr>\n",
       "      <th class=\"blank level0\" >&nbsp;</th>\n",
       "      <th class=\"col_heading level0 col0\" >name</th>\n",
       "      <th class=\"col_heading level0 col1\" >sell_date</th>\n",
       "      <th class=\"col_heading level0 col2\" >qty</th>\n",
       "      <th class=\"col_heading level0 col3\" >buy_price</th>\n",
       "      <th class=\"col_heading level0 col4\" >buy_amt</th>\n",
       "      <th class=\"col_heading level0 col5\" >sell_price</th>\n",
       "      <th class=\"col_heading level0 col6\" >sell_amt</th>\n",
       "      <th class=\"col_heading level0 col7\" >profit</th>\n",
       "    </tr>\n",
       "  </thead>\n",
       "  <tbody>\n",
       "    <tr>\n",
       "      <th id=\"T_2105d_level0_row0\" class=\"row_heading level0 row0\" >0</th>\n",
       "      <td id=\"T_2105d_row0_col0\" class=\"data row0 col0\" >SPALI</td>\n",
       "      <td id=\"T_2105d_row0_col1\" class=\"data row0 col1\" >2022-05-03</td>\n",
       "      <td id=\"T_2105d_row0_col2\" class=\"data row0 col2\" >3,000</td>\n",
       "      <td id=\"T_2105d_row0_col3\" class=\"data row0 col3\" >22.00</td>\n",
       "      <td id=\"T_2105d_row0_col4\" class=\"data row0 col4\" >66,146.18</td>\n",
       "      <td id=\"T_2105d_row0_col5\" class=\"data row0 col5\" >22.10</td>\n",
       "      <td id=\"T_2105d_row0_col6\" class=\"data row0 col6\" >66,153.15</td>\n",
       "      <td id=\"T_2105d_row0_col7\" class=\"data row0 col7\" >6.97</td>\n",
       "    </tr>\n",
       "    <tr>\n",
       "      <th id=\"T_2105d_level0_row1\" class=\"row_heading level0 row1\" >1</th>\n",
       "      <td id=\"T_2105d_row1_col0\" class=\"data row1 col0\" >PTT</td>\n",
       "      <td id=\"T_2105d_row1_col1\" class=\"data row1 col1\" >2022-05-06</td>\n",
       "      <td id=\"T_2105d_row1_col2\" class=\"data row1 col2\" >3,000</td>\n",
       "      <td id=\"T_2105d_row1_col3\" class=\"data row1 col3\" >38.50</td>\n",
       "      <td id=\"T_2105d_row1_col4\" class=\"data row1 col4\" >115,755.83</td>\n",
       "      <td id=\"T_2105d_row1_col5\" class=\"data row1 col5\" >37.50</td>\n",
       "      <td id=\"T_2105d_row1_col6\" class=\"data row1 col6\" >112,250.82</td>\n",
       "      <td id=\"T_2105d_row1_col7\" class=\"data row1 col7\" >-3,505.01</td>\n",
       "    </tr>\n",
       "    <tr>\n",
       "      <th id=\"T_2105d_level0_row2\" class=\"row_heading level0 row2\" >2</th>\n",
       "      <td id=\"T_2105d_row2_col0\" class=\"data row2 col0\" >DOHOME</td>\n",
       "      <td id=\"T_2105d_row2_col1\" class=\"data row2 col1\" >2022-05-10</td>\n",
       "      <td id=\"T_2105d_row2_col2\" class=\"data row2 col2\" >2,400</td>\n",
       "      <td id=\"T_2105d_row2_col3\" class=\"data row2 col3\" >20.25</td>\n",
       "      <td id=\"T_2105d_row2_col4\" class=\"data row2 col4\" >48,707.64</td>\n",
       "      <td id=\"T_2105d_row2_col5\" class=\"data row2 col5\" >19.40</td>\n",
       "      <td id=\"T_2105d_row2_col6\" class=\"data row2 col6\" >46,456.87</td>\n",
       "      <td id=\"T_2105d_row2_col7\" class=\"data row2 col7\" >-2,250.77</td>\n",
       "    </tr>\n",
       "    <tr>\n",
       "      <th id=\"T_2105d_level0_row3\" class=\"row_heading level0 row3\" >3</th>\n",
       "      <td id=\"T_2105d_row3_col0\" class=\"data row3 col0\" >SPALI</td>\n",
       "      <td id=\"T_2105d_row3_col1\" class=\"data row3 col1\" >2022-05-11</td>\n",
       "      <td id=\"T_2105d_row3_col2\" class=\"data row3 col2\" >6,000</td>\n",
       "      <td id=\"T_2105d_row3_col3\" class=\"data row3 col3\" >22.00</td>\n",
       "      <td id=\"T_2105d_row3_col4\" class=\"data row3 col4\" >132,292.37</td>\n",
       "      <td id=\"T_2105d_row3_col5\" class=\"data row3 col5\" >21.20</td>\n",
       "      <td id=\"T_2105d_row3_col6\" class=\"data row3 col6\" >126,918.27</td>\n",
       "      <td id=\"T_2105d_row3_col7\" class=\"data row3 col7\" >-5,374.10</td>\n",
       "    </tr>\n",
       "    <tr>\n",
       "      <th id=\"T_2105d_level0_row4\" class=\"row_heading level0 row4\" >4</th>\n",
       "      <td id=\"T_2105d_row4_col0\" class=\"data row4 col0\" >RATCH</td>\n",
       "      <td id=\"T_2105d_row4_col1\" class=\"data row4 col1\" >2022-05-12</td>\n",
       "      <td id=\"T_2105d_row4_col2\" class=\"data row4 col2\" >2,000</td>\n",
       "      <td id=\"T_2105d_row4_col3\" class=\"data row4 col3\" >45.75</td>\n",
       "      <td id=\"T_2105d_row4_col4\" class=\"data row4 col4\" >91,702.67</td>\n",
       "      <td id=\"T_2105d_row4_col5\" class=\"data row4 col5\" >39.75</td>\n",
       "      <td id=\"T_2105d_row4_col6\" class=\"data row4 col6\" >79,323.91</td>\n",
       "      <td id=\"T_2105d_row4_col7\" class=\"data row4 col7\" >-12,378.76</td>\n",
       "    </tr>\n",
       "    <tr>\n",
       "      <th id=\"T_2105d_level0_row5\" class=\"row_heading level0 row5\" >5</th>\n",
       "      <td id=\"T_2105d_row5_col0\" class=\"data row5 col0\" >RATCH</td>\n",
       "      <td id=\"T_2105d_row5_col1\" class=\"data row5 col1\" >2022-05-13</td>\n",
       "      <td id=\"T_2105d_row5_col2\" class=\"data row5 col2\" >2,000</td>\n",
       "      <td id=\"T_2105d_row5_col3\" class=\"data row5 col3\" >45.75</td>\n",
       "      <td id=\"T_2105d_row5_col4\" class=\"data row5 col4\" >91,702.67</td>\n",
       "      <td id=\"T_2105d_row5_col5\" class=\"data row5 col5\" >39.00</td>\n",
       "      <td id=\"T_2105d_row5_col6\" class=\"data row5 col6\" >77,827.24</td>\n",
       "      <td id=\"T_2105d_row5_col7\" class=\"data row5 col7\" >-13,875.43</td>\n",
       "    </tr>\n",
       "    <tr>\n",
       "      <th id=\"T_2105d_level0_row6\" class=\"row_heading level0 row6\" >6</th>\n",
       "      <td id=\"T_2105d_row6_col0\" class=\"data row6 col0\" >PTT</td>\n",
       "      <td id=\"T_2105d_row6_col1\" class=\"data row6 col1\" >2022-05-17</td>\n",
       "      <td id=\"T_2105d_row6_col2\" class=\"data row6 col2\" >3,000</td>\n",
       "      <td id=\"T_2105d_row6_col3\" class=\"data row6 col3\" >38.50</td>\n",
       "      <td id=\"T_2105d_row6_col4\" class=\"data row6 col4\" >115,755.83</td>\n",
       "      <td id=\"T_2105d_row6_col5\" class=\"data row6 col5\" >37.00</td>\n",
       "      <td id=\"T_2105d_row6_col6\" class=\"data row6 col6\" >110,754.15</td>\n",
       "      <td id=\"T_2105d_row6_col7\" class=\"data row6 col7\" >-5,001.68</td>\n",
       "    </tr>\n",
       "    <tr>\n",
       "      <th id=\"T_2105d_level0_row7\" class=\"row_heading level0 row7\" >7</th>\n",
       "      <td id=\"T_2105d_row7_col0\" class=\"data row7 col0\" >RATCH</td>\n",
       "      <td id=\"T_2105d_row7_col1\" class=\"data row7 col1\" >2022-05-17</td>\n",
       "      <td id=\"T_2105d_row7_col2\" class=\"data row7 col2\" >2,000</td>\n",
       "      <td id=\"T_2105d_row7_col3\" class=\"data row7 col3\" >45.75</td>\n",
       "      <td id=\"T_2105d_row7_col4\" class=\"data row7 col4\" >91,702.67</td>\n",
       "      <td id=\"T_2105d_row7_col5\" class=\"data row7 col5\" >38.50</td>\n",
       "      <td id=\"T_2105d_row7_col6\" class=\"data row7 col6\" >76,829.45</td>\n",
       "      <td id=\"T_2105d_row7_col7\" class=\"data row7 col7\" >-14,873.22</td>\n",
       "    </tr>\n",
       "    <tr>\n",
       "      <th id=\"T_2105d_level0_row8\" class=\"row_heading level0 row8\" >8</th>\n",
       "      <td id=\"T_2105d_row8_col0\" class=\"data row8 col0\" >HREIT</td>\n",
       "      <td id=\"T_2105d_row8_col1\" class=\"data row8 col1\" >2022-05-23</td>\n",
       "      <td id=\"T_2105d_row8_col2\" class=\"data row8 col2\" >100</td>\n",
       "      <td id=\"T_2105d_row8_col3\" class=\"data row8 col3\" >8.95</td>\n",
       "      <td id=\"T_2105d_row8_col4\" class=\"data row8 col4\" >896.98</td>\n",
       "      <td id=\"T_2105d_row8_col5\" class=\"data row8 col5\" >8.40</td>\n",
       "      <td id=\"T_2105d_row8_col6\" class=\"data row8 col6\" >838.14</td>\n",
       "      <td id=\"T_2105d_row8_col7\" class=\"data row8 col7\" >-58.84</td>\n",
       "    </tr>\n",
       "    <tr>\n",
       "      <th id=\"T_2105d_level0_row9\" class=\"row_heading level0 row9\" >9</th>\n",
       "      <td id=\"T_2105d_row9_col0\" class=\"data row9 col0\" >RJH</td>\n",
       "      <td id=\"T_2105d_row9_col1\" class=\"data row9 col1\" >2022-05-23</td>\n",
       "      <td id=\"T_2105d_row9_col2\" class=\"data row9 col2\" >4,500</td>\n",
       "      <td id=\"T_2105d_row9_col3\" class=\"data row9 col3\" >33.00</td>\n",
       "      <td id=\"T_2105d_row9_col4\" class=\"data row9 col4\" >148,828.92</td>\n",
       "      <td id=\"T_2105d_row9_col5\" class=\"data row9 col5\" >34.00</td>\n",
       "      <td id=\"T_2105d_row9_col6\" class=\"data row9 col6\" >152,661.12</td>\n",
       "      <td id=\"T_2105d_row9_col7\" class=\"data row9 col7\" >3,832.20</td>\n",
       "    </tr>\n",
       "    <tr>\n",
       "      <th id=\"T_2105d_level0_row10\" class=\"row_heading level0 row10\" >10</th>\n",
       "      <td id=\"T_2105d_row10_col0\" class=\"data row10 col0\" >SIS</td>\n",
       "      <td id=\"T_2105d_row10_col1\" class=\"data row10 col1\" >2022-05-26</td>\n",
       "      <td id=\"T_2105d_row10_col2\" class=\"data row10 col2\" >800</td>\n",
       "      <td id=\"T_2105d_row10_col3\" class=\"data row10 col3\" >28.75</td>\n",
       "      <td id=\"T_2105d_row10_col4\" class=\"data row10 col4\" >23,050.94</td>\n",
       "      <td id=\"T_2105d_row10_col5\" class=\"data row10 col5\" >30.75</td>\n",
       "      <td id=\"T_2105d_row10_col6\" class=\"data row10 col6\" >24,545.52</td>\n",
       "      <td id=\"T_2105d_row10_col7\" class=\"data row10 col7\" >1,494.58</td>\n",
       "    </tr>\n",
       "    <tr>\n",
       "      <th id=\"T_2105d_level0_row11\" class=\"row_heading level0 row11\" >11</th>\n",
       "      <td id=\"T_2105d_row11_col0\" class=\"data row11 col0\" >SIS</td>\n",
       "      <td id=\"T_2105d_row11_col1\" class=\"data row11 col1\" >2022-05-27</td>\n",
       "      <td id=\"T_2105d_row11_col2\" class=\"data row11 col2\" >2,800</td>\n",
       "      <td id=\"T_2105d_row11_col3\" class=\"data row11 col3\" >28.75</td>\n",
       "      <td id=\"T_2105d_row11_col4\" class=\"data row11 col4\" >80,678.30</td>\n",
       "      <td id=\"T_2105d_row11_col5\" class=\"data row11 col5\" >31.00</td>\n",
       "      <td id=\"T_2105d_row11_col6\" class=\"data row11 col6\" >86,607.74</td>\n",
       "      <td id=\"T_2105d_row11_col7\" class=\"data row11 col7\" >5,929.44</td>\n",
       "    </tr>\n",
       "    <tr>\n",
       "      <th id=\"T_2105d_level0_row12\" class=\"row_heading level0 row12\" >12</th>\n",
       "      <td id=\"T_2105d_row12_col0\" class=\"data row12 col0\" >IP</td>\n",
       "      <td id=\"T_2105d_row12_col1\" class=\"data row12 col1\" >2022-05-30</td>\n",
       "      <td id=\"T_2105d_row12_col2\" class=\"data row12 col2\" >7,500</td>\n",
       "      <td id=\"T_2105d_row12_col3\" class=\"data row12 col3\" >20.20</td>\n",
       "      <td id=\"T_2105d_row12_col4\" class=\"data row12 col4\" >151,835.56</td>\n",
       "      <td id=\"T_2105d_row12_col5\" class=\"data row12 col5\" >20.30</td>\n",
       "      <td id=\"T_2105d_row12_col6\" class=\"data row12 col6\" >151,912.78</td>\n",
       "      <td id=\"T_2105d_row12_col7\" class=\"data row12 col7\" >77.22</td>\n",
       "    </tr>\n",
       "  </tbody>\n",
       "</table>\n"
      ],
      "text/plain": [
       "<pandas.io.formats.style.Styler at 0x2bd526415e0>"
      ]
     },
     "execution_count": 5,
     "metadata": {},
     "output_type": "execute_result"
    }
   ],
   "source": [
    "sells_df = pd.read_sql(sql, conpf)\n",
    "sells_df.style.format(format_dict)"
   ]
  },
  {
   "cell_type": "code",
   "execution_count": 6,
   "metadata": {},
   "outputs": [
    {
     "data": {
      "text/plain": [
       "'-45,977.40'"
      ]
     },
     "execution_count": 6,
     "metadata": {},
     "output_type": "execute_result"
    }
   ],
   "source": [
    "flt_format = '{:,.2f}'\n",
    "flt_format.format(sells_df.profit.sum())"
   ]
  },
  {
   "cell_type": "markdown",
   "metadata": {},
   "source": [
    "### Dividend"
   ]
  },
  {
   "cell_type": "code",
   "execution_count": 14,
   "metadata": {},
   "outputs": [
    {
     "data": {
      "text/html": [
       "<style type=\"text/css\">\n",
       "</style>\n",
       "<table id=\"T_819aa_\">\n",
       "  <thead>\n",
       "    <tr>\n",
       "      <th class=\"blank level0\" >&nbsp;</th>\n",
       "      <th class=\"col_heading level0 col0\" >id</th>\n",
       "      <th class=\"col_heading level0 col1\" >stock_id</th>\n",
       "      <th class=\"col_heading level0 col2\" >name</th>\n",
       "      <th class=\"col_heading level0 col3\" >year</th>\n",
       "      <th class=\"col_heading level0 col4\" >quarter</th>\n",
       "      <th class=\"col_heading level0 col5\" >number</th>\n",
       "      <th class=\"col_heading level0 col6\" >ppu</th>\n",
       "      <th class=\"col_heading level0 col7\" >amt</th>\n",
       "      <th class=\"col_heading level0 col8\" >net</th>\n",
       "      <th class=\"col_heading level0 col9\" >x_date</th>\n",
       "      <th class=\"col_heading level0 col10\" >p_date</th>\n",
       "    </tr>\n",
       "  </thead>\n",
       "  <tbody>\n",
       "    <tr>\n",
       "      <th id=\"T_819aa_level0_row0\" class=\"row_heading level0 row0\" >0</th>\n",
       "      <td id=\"T_819aa_row0_col0\" class=\"data row0 col0\" >329</td>\n",
       "      <td id=\"T_819aa_row0_col1\" class=\"data row0 col1\" >166</td>\n",
       "      <td id=\"T_819aa_row0_col2\" class=\"data row0 col2\" >DCC</td>\n",
       "      <td id=\"T_819aa_row0_col3\" class=\"data row0 col3\" >2022</td>\n",
       "      <td id=\"T_819aa_row0_col4\" class=\"data row0 col4\" >1</td>\n",
       "      <td id=\"T_819aa_row0_col5\" class=\"data row0 col5\" >60,000</td>\n",
       "      <td id=\"T_819aa_row0_col6\" class=\"data row0 col6\" >0.0550</td>\n",
       "      <td id=\"T_819aa_row0_col7\" class=\"data row0 col7\" >3,300.00</td>\n",
       "      <td id=\"T_819aa_row0_col8\" class=\"data row0 col8\" >2,970.00</td>\n",
       "      <td id=\"T_819aa_row0_col9\" class=\"data row0 col9\" >2022-05-13</td>\n",
       "      <td id=\"T_819aa_row0_col10\" class=\"data row0 col10\" >2022-05-31</td>\n",
       "    </tr>\n",
       "  </tbody>\n",
       "</table>\n"
      ],
      "text/plain": [
       "<pandas.io.formats.style.Styler at 0x2bd538b3d90>"
      ]
     },
     "execution_count": 14,
     "metadata": {},
     "output_type": "execute_result"
    }
   ],
   "source": [
    "pd.read_sql_query('SELECT * FROM dividends ORDER BY id DESC LIMIT 1', conpf).style.format(format_dict)"
   ]
  },
  {
   "cell_type": "code",
   "execution_count": 29,
   "metadata": {},
   "outputs": [
    {
     "name": "stdout",
     "output_type": "stream",
     "text": [
      "\n",
      "SELECT name, p_date, number,\n",
      "ppu, amt, net \n",
      "FROM dividends\n",
      "WHERE YEAR(p_date) = 2022 AND MONTH(p_date) = 1\n",
      "ORDER BY p_date, name\n"
     ]
    }
   ],
   "source": [
    "sql = \"\"\"\n",
    "SELECT name, p_date, number,\n",
    "ppu, amt, net \n",
    "FROM dividends\n",
    "WHERE YEAR(p_date) = %s AND MONTH(p_date) = %s\n",
    "ORDER BY p_date, name\"\"\"\n",
    "sql = sql % (year, month)\n",
    "print(sql)"
   ]
  },
  {
   "cell_type": "code",
   "execution_count": 30,
   "metadata": {},
   "outputs": [
    {
     "data": {
      "text/html": [
       "<style type=\"text/css\">\n",
       "</style>\n",
       "<table id=\"T_24ef3_\">\n",
       "  <thead>\n",
       "    <tr>\n",
       "      <th class=\"blank level0\" >&nbsp;</th>\n",
       "      <th class=\"col_heading level0 col0\" >name</th>\n",
       "      <th class=\"col_heading level0 col1\" >p_date</th>\n",
       "      <th class=\"col_heading level0 col2\" >number</th>\n",
       "      <th class=\"col_heading level0 col3\" >ppu</th>\n",
       "      <th class=\"col_heading level0 col4\" >amt</th>\n",
       "      <th class=\"col_heading level0 col5\" >net</th>\n",
       "    </tr>\n",
       "  </thead>\n",
       "  <tbody>\n",
       "  </tbody>\n",
       "</table>\n"
      ],
      "text/plain": [
       "<pandas.io.formats.style.Styler at 0x2bd538ca430>"
      ]
     },
     "execution_count": 30,
     "metadata": {},
     "output_type": "execute_result"
    }
   ],
   "source": [
    "div_df = pd.read_sql(sql, conpf)\n",
    "div_df.style.format(format_dict)"
   ]
  },
  {
   "cell_type": "code",
   "execution_count": 31,
   "metadata": {},
   "outputs": [
    {
     "data": {
      "text/plain": [
       "'0.00'"
      ]
     },
     "execution_count": 31,
     "metadata": {},
     "output_type": "execute_result"
    }
   ],
   "source": [
    "flt_format = '{:,.2f}'\n",
    "flt_format.format(div_df.net.sum())"
   ]
  },
  {
   "cell_type": "code",
   "execution_count": null,
   "metadata": {},
   "outputs": [],
   "source": []
  }
 ],
 "metadata": {
  "kernelspec": {
   "display_name": "Python 3 (ipykernel)",
   "language": "python",
   "name": "python3"
  },
  "language_info": {
   "codemirror_mode": {
    "name": "ipython",
    "version": 3
   },
   "file_extension": ".py",
   "mimetype": "text/x-python",
   "name": "python",
   "nbconvert_exporter": "python",
   "pygments_lexer": "ipython3",
   "version": "3.8.11"
  }
 },
 "nbformat": 4,
 "nbformat_minor": 2
}
