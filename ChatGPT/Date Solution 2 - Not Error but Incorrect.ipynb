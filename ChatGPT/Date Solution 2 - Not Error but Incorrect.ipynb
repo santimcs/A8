{
 "cells": [
  {
   "cell_type": "code",
   "execution_count": 1,
   "id": "dd962765",
   "metadata": {},
   "outputs": [
    {
     "name": "stdout",
     "output_type": "stream",
     "text": [
      "    end_date start_date\n",
      "0 2022-01-01 2021-12-27\n",
      "1 2022-01-03 2021-12-29\n",
      "2 2022-01-05 2021-12-31\n"
     ]
    }
   ],
   "source": [
    "import pandas as pd\n",
    "from datetime import timedelta\n",
    "\n",
    "# Create a dataframe with an end date column\n",
    "df = pd.DataFrame({'end_date': ['2022-01-01', '2022-01-03', '2022-01-05']})\n",
    "\n",
    "# Convert the end date column to datetime dtype\n",
    "df['end_date'] = pd.to_datetime(df['end_date'])\n",
    "\n",
    "# Specify the number of business days you want to go back\n",
    "num_days = 5\n",
    "\n",
    "# Create a start date column by subtracting the specified number of business days from the end date\n",
    "df['start_date'] = df['end_date'] - timedelta(num_days)\n",
    "\n",
    "# Display the resulting dataframe\n",
    "print(df)\n"
   ]
  },
  {
   "cell_type": "code",
   "execution_count": null,
   "id": "0229bc05",
   "metadata": {},
   "outputs": [],
   "source": []
  }
 ],
 "metadata": {
  "kernelspec": {
   "display_name": "Python 3 (ipykernel)",
   "language": "python",
   "name": "python3"
  },
  "language_info": {
   "codemirror_mode": {
    "name": "ipython",
    "version": 3
   },
   "file_extension": ".py",
   "mimetype": "text/x-python",
   "name": "python",
   "nbconvert_exporter": "python",
   "pygments_lexer": "ipython3",
   "version": "3.8.11"
  }
 },
 "nbformat": 4,
 "nbformat_minor": 5
}
