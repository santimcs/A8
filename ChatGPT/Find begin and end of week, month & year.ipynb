{
 "cells": [
  {
   "cell_type": "code",
   "execution_count": 1,
   "id": "7e3c365e",
   "metadata": {},
   "outputs": [
    {
     "name": "stdout",
     "output_type": "stream",
     "text": [
      "Month start: 2022-06-01 00:00:00\n",
      "Month end: 2022-06-30 23:59:59.999999999\n"
     ]
    }
   ],
   "source": [
    "import pandas as pd\n",
    "\n",
    "# create a date object\n",
    "date = pd.to_datetime('2022-06-15')\n",
    "\n",
    "# find the beginning of the month for the given date\n",
    "month_start = date.to_period('M').start_time\n",
    "month_end = date.to_period('M').end_time\n",
    "\n",
    "print(f'Month start: {month_start}')\n",
    "print(f'Month end: {month_end}')"
   ]
  },
  {
   "cell_type": "code",
   "execution_count": 2,
   "id": "daf189f4",
   "metadata": {},
   "outputs": [
    {
     "name": "stdout",
     "output_type": "stream",
     "text": [
      "year start: 2022-01-01 00:00:00\n",
      "year end: 2022-12-31 23:59:59.999999999\n"
     ]
    }
   ],
   "source": [
    "# find the beginning of the year for the given date\n",
    "year_start = date.to_period('Y').start_time\n",
    "year_end = date.to_period('Y').end_time\n",
    "\n",
    "print(f'year start: {year_start}')\n",
    "print(f'year end: {year_end}')"
   ]
  },
  {
   "cell_type": "code",
   "execution_count": 3,
   "id": "f31a82dd",
   "metadata": {},
   "outputs": [
    {
     "name": "stdout",
     "output_type": "stream",
     "text": [
      "week start: 2022-06-13 00:00:00\n",
      "week end: 2022-06-19 23:59:59.999999999\n"
     ]
    }
   ],
   "source": [
    "# find the beginning of the week for the given date\n",
    "week_start = date.to_period('W').start_time\n",
    "week_end = date.to_period('W').end_time\n",
    "\n",
    "print(f'week start: {week_start}')\n",
    "print(f'week end: {week_end}')"
   ]
  },
  {
   "cell_type": "code",
   "execution_count": 4,
   "id": "e99a4d57",
   "metadata": {},
   "outputs": [
    {
     "data": {
      "text/plain": [
       "datetime.date(2022, 6, 13)"
      ]
     },
     "execution_count": 4,
     "metadata": {},
     "output_type": "execute_result"
    }
   ],
   "source": [
    "week_start = week_start.date()\n",
    "week_start"
   ]
  },
  {
   "cell_type": "code",
   "execution_count": 5,
   "id": "d6c03577",
   "metadata": {},
   "outputs": [
    {
     "data": {
      "text/plain": [
       "datetime.time(23, 59, 59, 999999)"
      ]
     },
     "execution_count": 5,
     "metadata": {},
     "output_type": "execute_result"
    }
   ],
   "source": [
    "week_end_time = week_end.time()\n",
    "week_end_time"
   ]
  },
  {
   "cell_type": "code",
   "execution_count": null,
   "id": "378f8113",
   "metadata": {},
   "outputs": [],
   "source": []
  }
 ],
 "metadata": {
  "kernelspec": {
   "display_name": "Python 3 (ipykernel)",
   "language": "python",
   "name": "python3"
  },
  "language_info": {
   "codemirror_mode": {
    "name": "ipython",
    "version": 3
   },
   "file_extension": ".py",
   "mimetype": "text/x-python",
   "name": "python",
   "nbconvert_exporter": "python",
   "pygments_lexer": "ipython3",
   "version": "3.8.11"
  }
 },
 "nbformat": 4,
 "nbformat_minor": 5
}
