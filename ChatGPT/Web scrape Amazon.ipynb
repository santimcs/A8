{
 "cells": [
  {
   "cell_type": "code",
   "execution_count": 1,
   "id": "03ed3c2e",
   "metadata": {},
   "outputs": [],
   "source": [
    "from selenium import webdriver\n",
    "from selenium.webdriver.common.by import By\n",
    "from time import sleep"
   ]
  },
  {
   "cell_type": "code",
   "execution_count": 20,
   "id": "f437011a",
   "metadata": {},
   "outputs": [
    {
     "name": "stderr",
     "output_type": "stream",
     "text": [
      "C:\\Users\\User\\AppData\\Local\\Temp/ipykernel_20992/1947799219.py:2: DeprecationWarning: executable_path has been deprecated, please pass in a Service object\n",
      "  driver = webdriver.Chrome(\"C:\\\\Users\\\\User\\\\Documents\\\\chromedriver.exe\")\n"
     ]
    }
   ],
   "source": [
    "#initialize webdriver\n",
    "driver = webdriver.Chrome(\"C:\\\\Users\\\\User\\\\Documents\\\\chromedriver.exe\")\n"
   ]
  },
  {
   "cell_type": "code",
   "execution_count": 21,
   "id": "bf2569d6",
   "metadata": {},
   "outputs": [],
   "source": [
    "#navigate to the website\n",
    "driver.get(\"https://www.amazon.com/s?k=self+help+books&sprefix=self+help+%2Caps%2C158&ref=nb_sb_ss_ts-doa-p_2_10\")\n",
    "\n",
    "#wait 5 seconds to let the page load\n",
    "sleep(5)"
   ]
  },
  {
   "cell_type": "code",
   "execution_count": 22,
   "id": "b055dc18",
   "metadata": {},
   "outputs": [
    {
     "name": "stdout",
     "output_type": "stream",
     "text": [
      "Stop Overthinking: 23 Techniques to Relieve Stress, Stop Negative Spirals, Declutter Your Mind, and Focus on the Present (The Path to Calm)\n",
      "The Gifts of Imperfection: 10th Anniversary Edition: Features a new foreword and brand-new tools\n",
      "How to Listen with Intention: The Foundation of True Connection, Communication, and Relationships (How to be More Likable and Charismatic)\n",
      "The Happiness Recipe: A Powerful Guide to Living What Matters\n",
      "Stop Overthinking: 23 Techniques to Relieve Stress, Stop Negative Spirals, Declutter Your Mind, and Focus on the Present (The Path to Calm)\n",
      "Let That Sh*t Go: A Journal for Leaving Your Bullsh*t Behind and Creating a Happy Life (Zen as F*ck Journals)\n",
      "You Are a Badass: How to Stop Doubting Your Greatness and Start Living an Awesome Life\n",
      "The Subtle Art of Not Giving a F*ck: A Counterintuitive Approach to Living a Good Life\n",
      "The Body Keeps the Score: Brain, Mind, and Body in the Healing of Trauma\n",
      "Don't Believe Everything You Think: Why Your Thinking Is The Beginning & End Of Suffering (Beyond Suffering)\n",
      "Atomic Habits: An Easy & Proven Way to Build Good Habits & Break Bad Ones\n",
      "Self-Love Workbook for Women: Release Self-Doubt, Build Self-Compassion, and Embrace Who You Are (Self-Help Workbooks for Women)\n",
      "Better Small Talk: Talk to Anyone, Avoid Awkwardness, Generate Deep Conversations, and Make Real Friends (How to be More Likable and Charismatic)\n",
      "How to Talk to Anyone: Master Small Talk, Improve your Social Skills, and Build Meaningful Relationships (Communication Mastery Series)\n",
      "Think Like a Psychologist: How to Analyze Emotions, Read Body Language and Behavior, Understand Motivations, and Decipher Intentions (The Psychology of Social Dynamics)\n",
      "Turn Off The Chatter: Build Mental Toughness In A Chaotic World Through Unplugging and Stillness\n",
      "Lighter: Let Go of the Past, Connect with the Present, and Expand the Future\n",
      "Don't Believe Everything You Think: Why Your Thinking Is The Beginning & End Of Suffering (Beyond Suffering Book 1)\n",
      "Why Has Nobody Told Me This Before?\n",
      "Stop Overthinking: 23 Techniques to Relieve Stress, Stop Negative Spirals, Declutter Your Mind, and Focus on the Present (The Path to Calm)\n",
      "\n",
      "\n",
      "\n",
      "\n",
      "\n",
      "A New Earth: Awakening to Your Life's Purpose (Oprah's Book Club, Selection 61)\n",
      "Stop Overthinking: 23 Techniques to Relieve Stress, Stop Negative Spirals, Declutter Your Mind, and Focus on the Present (The Path to Calm)\n",
      "\n",
      "\n",
      "\n",
      "Make Your Bed: Little Things That Can Change Your Life...And Maybe the World\n",
      "The 48 Laws of Power\n",
      "The Alchemist, 25th Anniversary: A Fable About Following Your Dream\n",
      "2023 Great Quotes From Great Leaders Boxed Calendar: 365 Inspirational Quotes From Leaders Who Shaped the World (Daily Calendar, Office Desk Gift for Him or Her)\n",
      "Psychological Triggers: Human Nature, Irrationality, and Why We Do What We Do. The Hidden Influences Behind Our Actions, Thoughts, and Behaviors.\n",
      "The Art of Witty Banter: Be Clever, Quick, & Magnetic (2nd Edition) (How to be More Likable and Charismatic)\n",
      "How to Teach Anything: Break Down Complex Topics and Explain with Clarity, While Keeping Engagement and Motivation (Learning how to Learn)\n",
      "Can't Hurt Me: Master Your Mind and Defy the Odds\n",
      "The Makings of a Powerful Bitch: A Woman's Guide to Embracing Change and Finding Peace and Purpose\n",
      "Ikigai: The Japanese Secret to a Long and Happy Life\n",
      "Daily Rituals: Positive Affirmations to Attract Love, Happiness and Peace\n",
      "It Didn't Start with You: How Inherited Family Trauma Shapes Who We Are and How to End the Cycle\n",
      "The Gifts of Imperfection: 10th Anniversary Edition: Features a new foreword and brand-new tools\n",
      "The Mountain Is You: Transforming Self-Sabotage into Self-Mastery\n",
      "Unfu*k Yourself: Get Out of Your Head and into Your Life\n",
      "Healing Is a Gift: Poems for Those Who Need to Grow\n",
      "Do It For Yourself (Guided Journal): A Motivational Journal (Start Before You’re Ready)\n",
      "How to Win Friends & Influence People\n",
      "The Four Agreements: A Practical Guide to Personal Freedom (A Toltec Wisdom Book)\n",
      "Signs: The Secret Language of the Universe\n",
      "Unfuck Your Brain: Getting Over Anxiety, Depression, Anger, Freak-Outs, and Triggers with science (5-Minute Therapy)\n",
      "Think Like a Monk: Train Your Mind for Peace and Purpose Every Day\n",
      "Set Boundaries, Find Peace: A Guide to Reclaiming Yourself\n",
      "The Mastery of Self: A Toltec Guide to Personal Freedom (Toltec Mastery Series)\n",
      "Good Vibes, Good Life: How Self-Love Is the Key to Unlocking Your Greatness\n",
      "Eliminate Negative Thinking: How to Overcome Negativity, Control Your Thoughts, And Stop Overthinking. Shift Your Focus into Positive Thinking, Self-Acceptance, And Radical Self Love\n",
      "12 Rules for Life: An Antidote to Chaos\n",
      "What Happened to You?: Conversations on Trauma, Resilience, and Healing\n",
      "Becoming the One: Heal Your Past, Transform Your Relationship Patterns, and Come Home to Yourself\n",
      "Read People Like a Book: How to Analyze, Understand, and Predict People’s Emotions, Thoughts, Intentions, and Behaviors (How to be More Likable and Charismatic)\n",
      "Recovery from Narcissistic Abuse, Gaslighting, Codependency and Complex PTSD (4 Books in 1): Workbook and Guide to Overcome Trauma, Toxic ... and Recover from Unhealthy Relationships)\n",
      "Master Your Emotions: A Practical Guide to Overcome Negativity and Better Manage Your Feelings (Mastery Series)\n",
      "The Power of One More: The Ultimate Guide to Happiness and Success\n",
      "I'm Setting Healthy Boundaries, Don't Ask Me for Sh!t: A Guide to Set Boundaries with Friends, Family, at Work, and Everyday Life\n",
      "Soul Therapy: A 365 day journal for self exploration, healing and reflection\n",
      "Forgiving What You Can't Forget: Discover How to Move On, Make Peace with Painful Memories, and Create a Life That’s Beautiful Again\n",
      "Love Yourself First: How to Heal from Toxic People, Create Healthy Relationships & Become a Confident Woman (The Love Yourself Series)\n",
      "Better Small Talk: Talk to Anyone, Avoid Awkwardness, Generate Deep Conversations, and Make Real Friends (How to be More Likable and Charismatic)\n",
      "Tiny Habits: The Small Changes That Change Everything\n",
      "Burn After Writing\n",
      "Get Out of Your Own Way: Overcoming Self-Defeating Behavior\n",
      "The 7 Habits of Highly Effective People: 30th Anniversary Edition\n",
      "How to Talk to Anyone: Master Small Talk, Improve your Social Skills, and Build Meaningful Relationships (Communication Mastery Series)\n"
     ]
    }
   ],
   "source": [
    "#locate all the elements with the following xpath\n",
    "elements = driver.find_elements(By.XPATH, '//span[@class=\"a-size-base-plus a-color-base a-text-normal\"]')\n",
    "\n",
    "#get the text attribute of each element and print it\n",
    "for element in elements:\n",
    "    print(element.text)\n",
    "\n",
    "#close the webdriver\n",
    "driver.close()"
   ]
  },
  {
   "cell_type": "code",
   "execution_count": null,
   "id": "9a311dca",
   "metadata": {},
   "outputs": [],
   "source": []
  }
 ],
 "metadata": {
  "kernelspec": {
   "display_name": "Python 3 (ipykernel)",
   "language": "python",
   "name": "python3"
  },
  "language_info": {
   "codemirror_mode": {
    "name": "ipython",
    "version": 3
   },
   "file_extension": ".py",
   "mimetype": "text/x-python",
   "name": "python",
   "nbconvert_exporter": "python",
   "pygments_lexer": "ipython3",
   "version": "3.8.11"
  }
 },
 "nbformat": 4,
 "nbformat_minor": 5
}
