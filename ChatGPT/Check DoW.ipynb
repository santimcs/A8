{
 "cells": [
  {
   "cell_type": "code",
   "execution_count": 1,
   "id": "fdea82ae",
   "metadata": {},
   "outputs": [
    {
     "name": "stdout",
     "output_type": "stream",
     "text": [
      "False\n",
      "False\n"
     ]
    },
    {
     "name": "stderr",
     "output_type": "stream",
     "text": [
      "C:\\Users\\User\\AppData\\Local\\Temp/ipykernel_27540/469566634.py:7: FutureWarning: onOffset is a deprecated, use is_on_offset instead\n",
      "  is_bday = pd.offsets.BusinessDay().onOffset(date)\n",
      "C:\\Users\\User\\AppData\\Local\\Temp/ipykernel_27540/469566634.py:13: FutureWarning: onOffset is a deprecated, use is_on_offset instead\n",
      "  is_weekend = pd.offsets.Week(weekday=6).onOffset(date) # Only Sunday, Saturday is false\n"
     ]
    }
   ],
   "source": [
    "import pandas as pd\n",
    "\n",
    "# Create a sample date\n",
    "date = pd.to_datetime('2022-12-17')\n",
    "\n",
    "# Check if the date is a business day\n",
    "is_bday = pd.offsets.BusinessDay().onOffset(date)\n",
    "#is_bday = pd.offsets.BusinessDay(calendar='Thailand').onOffset(date)\n",
    "\n",
    "print(is_bday)  # Output: False\n",
    "\n",
    "# Check if the date is not a business day\n",
    "is_weekend = pd.offsets.Week(weekday=6).onOffset(date) # Only Sunday, Saturday is false\n",
    "print(is_weekend)  # Output: True\n"
   ]
  },
  {
   "cell_type": "code",
   "execution_count": 2,
   "id": "747bb2c2",
   "metadata": {},
   "outputs": [
    {
     "name": "stdout",
     "output_type": "stream",
     "text": [
      "False\n",
      "False\n",
      "False\n",
      "True\n"
     ]
    },
    {
     "name": "stderr",
     "output_type": "stream",
     "text": [
      "C:\\Users\\User\\AppData\\Local\\Temp/ipykernel_27540/1727353572.py:7: FutureWarning: onOffset is a deprecated, use is_on_offset instead\n",
      "  is_weekend = pd.offsets.Week(weekday=5).onOffset(date)\n",
      "C:\\Users\\User\\AppData\\Local\\Temp/ipykernel_27540/1727353572.py:11: FutureWarning: onOffset is a deprecated, use is_on_offset instead\n",
      "  is_weekend = pd.offsets.Week(weekday=6).onOffset(date)\n",
      "C:\\Users\\User\\AppData\\Local\\Temp/ipykernel_27540/1727353572.py:15: FutureWarning: onOffset is a deprecated, use is_on_offset instead\n",
      "  is_weekend = pd.offsets.Week(weekday=0).onOffset(date)\n",
      "C:\\Users\\User\\AppData\\Local\\Temp/ipykernel_27540/1727353572.py:19: FutureWarning: onOffset is a deprecated, use is_on_offset instead\n",
      "  is_weekend = pd.offsets.Week(weekday=3).onOffset(date)\n"
     ]
    }
   ],
   "source": [
    "import pandas as pd\n",
    "\n",
    "# Create a sample date\n",
    "date = pd.to_datetime('2022-12-15')\n",
    "\n",
    "# Check if the date is a Saturday\n",
    "is_weekend = pd.offsets.Week(weekday=5).onOffset(date)\n",
    "print(is_weekend)  # Output: False\n",
    "\n",
    "# Check if the date is a Sunday\n",
    "is_weekend = pd.offsets.Week(weekday=6).onOffset(date)\n",
    "print(is_weekend)  # Output: False\n",
    "\n",
    "# Check if the date is a Monday\n",
    "is_weekend = pd.offsets.Week(weekday=0).onOffset(date)\n",
    "print(is_weekend)  # Output: False\n",
    "\n",
    "# Check if the date is a Thursday\n",
    "is_weekend = pd.offsets.Week(weekday=3).onOffset(date)\n",
    "print(is_weekend)  # Output: True"
   ]
  },
  {
   "cell_type": "code",
   "execution_count": 3,
   "id": "57ac89bf",
   "metadata": {},
   "outputs": [
    {
     "name": "stdout",
     "output_type": "stream",
     "text": [
      "False\n",
      "False\n",
      "False\n",
      "True\n"
     ]
    }
   ],
   "source": [
    "import pandas as pd\n",
    "\n",
    "# Create a sample date\n",
    "date = pd.to_datetime('2022-12-15')\n",
    "\n",
    "# Check if the date is a Saturday\n",
    "is_weekend = pd.offsets.Week(weekday=5).is_on_offset(date)\n",
    "print(is_weekend)  # Output: False\n",
    "\n",
    "# Check if the date is a Sunday\n",
    "is_weekend = pd.offsets.Week(weekday=6).is_on_offset(date)\n",
    "print(is_weekend)  # Output: False\n",
    "\n",
    "# Check if the date is a Monday\n",
    "is_weekend = pd.offsets.Week(weekday=0).is_on_offset(date)\n",
    "print(is_weekend)  # Output: False\n",
    "\n",
    "# Check if the date is a Thursday\n",
    "is_weekend = pd.offsets.Week(weekday=3).is_on_offset(date)\n",
    "print(is_weekend)  # Output: True"
   ]
  },
  {
   "cell_type": "code",
   "execution_count": null,
   "id": "13f73d29",
   "metadata": {},
   "outputs": [],
   "source": []
  }
 ],
 "metadata": {
  "kernelspec": {
   "display_name": "Python 3 (ipykernel)",
   "language": "python",
   "name": "python3"
  },
  "language_info": {
   "codemirror_mode": {
    "name": "ipython",
    "version": 3
   },
   "file_extension": ".py",
   "mimetype": "text/x-python",
   "name": "python",
   "nbconvert_exporter": "python",
   "pygments_lexer": "ipython3",
   "version": "3.8.11"
  }
 },
 "nbformat": 4,
 "nbformat_minor": 5
}
