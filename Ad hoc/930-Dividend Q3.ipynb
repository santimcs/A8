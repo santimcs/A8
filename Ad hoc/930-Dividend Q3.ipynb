{
 "cells": [
  {
   "cell_type": "code",
   "execution_count": 1,
   "metadata": {},
   "outputs": [
    {
     "data": {
      "text/plain": [
       "(datetime.date(2022, 11, 30), datetime.date(2022, 11, 29))"
      ]
     },
     "execution_count": 1,
     "metadata": {},
     "output_type": "execute_result"
    }
   ],
   "source": [
    "import pandas as pd\n",
    "from sqlalchemy import create_engine\n",
    "from datetime import date, timedelta\n",
    "import calendar\n",
    "\n",
    "engine = create_engine(\"mysql+pymysql://root:@localhost:3306/stock\")\n",
    "const = engine.connect()\n",
    "engine = create_engine(\"sqlite:///c:\\\\ruby\\\\portlt\\\\db\\\\development.sqlite3\")\n",
    "conlt = engine.connect()\n",
    "\n",
    "data_path = \"../data/\"\n",
    "csv_path = \"\\\\Users\\\\User\\\\iCloudDrive\\\\\"\n",
    "box_path = \"\\\\Users\\\\User\\\\Dropbox\\\\\"\n",
    "one_path = \"\\\\Users\\\\User\\\\OneDrive\\\\Documents\\\\Data\\\\\"\n",
    "year = 2022\n",
    "quarter = 3\n",
    "today = date.today()\n",
    "yesterday = today - timedelta(days=1)\n",
    "today, yesterday"
   ]
  },
  {
   "cell_type": "code",
   "execution_count": 2,
   "metadata": {},
   "outputs": [
    {
     "data": {
      "text/plain": [
       "datetime.date(2022, 11, 29)"
      ]
     },
     "execution_count": 2,
     "metadata": {},
     "output_type": "execute_result"
    }
   ],
   "source": [
    "#yesterday = today - timedelta(days=3)\n",
    "yesterday"
   ]
  },
  {
   "cell_type": "code",
   "execution_count": 3,
   "metadata": {},
   "outputs": [],
   "source": [
    "format_dict = {    \n",
    "    'shares':'{:,}',    \n",
    "    'q4':'{:.4f}','q3':'{:.4f}','q2':'{:.4f}','q1':'{:.4f}','dividend':'{:.4f}','qtrly':'{:.4f}',\n",
    "    'price':'{:.2f}',    \n",
    "    'amount':'{:,.2f}','net':'{:,.2f}','cost_amt':'{:,.2f}',\n",
    "    'yield':'{:,.2f}%','pct':'{:,.2f}%',\n",
    "    'xdate':'{:%Y-%m-%d}','paiddate':'{:%Y-%m-%d}',\n",
    "              }"
   ]
  },
  {
   "cell_type": "markdown",
   "metadata": {},
   "source": [
    "### New dividend stock"
   ]
  },
  {
   "cell_type": "code",
   "execution_count": 4,
   "metadata": {},
   "outputs": [
    {
     "data": {
      "text/html": [
       "<style type=\"text/css\">\n",
       "</style>\n",
       "<table id=\"T_4cd62_\">\n",
       "  <thead>\n",
       "    <tr>\n",
       "      <th class=\"blank level0\" >&nbsp;</th>\n",
       "      <th class=\"col_heading level0 col0\" >name</th>\n",
       "      <th class=\"col_heading level0 col1\" >q4</th>\n",
       "      <th class=\"col_heading level0 col2\" >q3</th>\n",
       "      <th class=\"col_heading level0 col3\" >q2</th>\n",
       "      <th class=\"col_heading level0 col4\" >q1</th>\n",
       "      <th class=\"col_heading level0 col5\" >dividend</th>\n",
       "      <th class=\"col_heading level0 col6\" >shares</th>\n",
       "      <th class=\"col_heading level0 col7\" >xdate</th>\n",
       "      <th class=\"col_heading level0 col8\" >paiddate</th>\n",
       "      <th class=\"col_heading level0 col9\" >kind</th>\n",
       "      <th class=\"col_heading level0 col10\" >actual</th>\n",
       "    </tr>\n",
       "  </thead>\n",
       "  <tbody>\n",
       "  </tbody>\n",
       "</table>\n"
      ],
      "text/plain": [
       "<pandas.io.formats.style.Styler at 0x277a992be50>"
      ]
     },
     "execution_count": 4,
     "metadata": {},
     "output_type": "execute_result"
    }
   ],
   "source": [
    "name = 'LHK'\n",
    "sql = \"\"\"\n",
    "SELECT * \n",
    "FROM DIVIDEND\n",
    "WHERE name = '%s'\n",
    "\"\"\"\n",
    "sql = sql % name\n",
    "dividend = pd.read_sql(sql, const)\n",
    "dividend.drop(['PRICE', 'PERCENT'], axis=1, inplace=True)\n",
    "dividend.columns = dividend.columns.str.lower()\n",
    "dividend['shares'] = dividend['shares'].astype('int64')\n",
    "dividend['xdate'] = pd.to_datetime(dividend['xdate'])\n",
    "dividend['paiddate'] = pd.to_datetime(dividend['paiddate'])\n",
    "dividend.style.format(format_dict)"
   ]
  },
  {
   "cell_type": "code",
   "execution_count": 5,
   "metadata": {},
   "outputs": [
    {
     "data": {
      "text/plain": [
       "1"
      ]
     },
     "execution_count": 5,
     "metadata": {},
     "output_type": "execute_result"
    }
   ],
   "source": [
    "sqlIns = \"\"\"\n",
    "INSERT INTO dividend\n",
    "VALUES('LHK',0,0.20,0,0.45,0.65,0,0,00,'2022-11-25','2022-12-09','',1)\n",
    "\"\"\"\n",
    "rp = const.execute(sqlIns)\n",
    "rp.rowcount"
   ]
  },
  {
   "cell_type": "markdown",
   "metadata": {},
   "source": [
    "### Start of Update dividend"
   ]
  },
  {
   "cell_type": "code",
   "execution_count": 4,
   "metadata": {},
   "outputs": [],
   "source": [
    "def update_dividend1(q3,XDATE,PAIDDATE,actual,name):\n",
    "    sql = \"UPDATE dividend SET q3 = %s, dividend = q1+q2+q3+q4, XDATE = '%s', PAIDDATE = '%s', actual = %s WHERE name = '%s'\"\n",
    "    sql = sql % (q3,XDATE, PAIDDATE, actual,name)\n",
    "    rp = const.execute(sql)\n",
    "    return \"Records updated = \" + str(rp.rowcount)"
   ]
  },
  {
   "cell_type": "code",
   "execution_count": 7,
   "metadata": {
    "scrolled": true
   },
   "outputs": [
    {
     "data": {
      "text/html": [
       "<style type=\"text/css\">\n",
       "</style>\n",
       "<table id=\"T_e0202_\">\n",
       "  <thead>\n",
       "    <tr>\n",
       "      <th class=\"blank level0\" >&nbsp;</th>\n",
       "      <th class=\"col_heading level0 col0\" >name</th>\n",
       "      <th class=\"col_heading level0 col1\" >q4</th>\n",
       "      <th class=\"col_heading level0 col2\" >q3</th>\n",
       "      <th class=\"col_heading level0 col3\" >q2</th>\n",
       "      <th class=\"col_heading level0 col4\" >q1</th>\n",
       "      <th class=\"col_heading level0 col5\" >dividend</th>\n",
       "      <th class=\"col_heading level0 col6\" >shares</th>\n",
       "      <th class=\"col_heading level0 col7\" >xdate</th>\n",
       "      <th class=\"col_heading level0 col8\" >paiddate</th>\n",
       "      <th class=\"col_heading level0 col9\" >kind</th>\n",
       "      <th class=\"col_heading level0 col10\" >actual</th>\n",
       "    </tr>\n",
       "  </thead>\n",
       "  <tbody>\n",
       "    <tr>\n",
       "      <th id=\"T_e0202_level0_row0\" class=\"row_heading level0 row0\" >0</th>\n",
       "      <td id=\"T_e0202_row0_col0\" class=\"data row0 col0\" >TFFIF</td>\n",
       "      <td id=\"T_e0202_row0_col1\" class=\"data row0 col1\" >0.0928</td>\n",
       "      <td id=\"T_e0202_row0_col2\" class=\"data row0 col2\" >0.1003</td>\n",
       "      <td id=\"T_e0202_row0_col3\" class=\"data row0 col3\" >0.0920</td>\n",
       "      <td id=\"T_e0202_row0_col4\" class=\"data row0 col4\" >0.0870</td>\n",
       "      <td id=\"T_e0202_row0_col5\" class=\"data row0 col5\" >0.3721</td>\n",
       "      <td id=\"T_e0202_row0_col6\" class=\"data row0 col6\" >0</td>\n",
       "      <td id=\"T_e0202_row0_col7\" class=\"data row0 col7\" >2022-12-09</td>\n",
       "      <td id=\"T_e0202_row0_col8\" class=\"data row0 col8\" >2022-12-28</td>\n",
       "      <td id=\"T_e0202_row0_col9\" class=\"data row0 col9\" ></td>\n",
       "      <td id=\"T_e0202_row0_col10\" class=\"data row0 col10\" >1</td>\n",
       "    </tr>\n",
       "  </tbody>\n",
       "</table>\n"
      ],
      "text/plain": [
       "<pandas.io.formats.style.Styler at 0x23919781580>"
      ]
     },
     "execution_count": 7,
     "metadata": {},
     "output_type": "execute_result"
    }
   ],
   "source": [
    "name = 'TFFIF'\n",
    "sql = \"\"\"\n",
    "SELECT * FROM DIVIDEND WHERE name = '%s'\"\"\"\n",
    "sql = sql % name\n",
    "dividend = pd.read_sql(sql, const)\n",
    "dividend.drop(['PRICE', 'PERCENT'], axis=1, inplace=True)\n",
    "dividend.columns = dividend.columns.str.lower()\n",
    "dividend['shares'] = dividend['shares'].astype('int64')\n",
    "dividend['xdate'] = pd.to_datetime(dividend['xdate'])\n",
    "dividend['paiddate'] = pd.to_datetime(dividend['paiddate'])\n",
    "dividend.style.format(format_dict)"
   ]
  },
  {
   "cell_type": "code",
   "execution_count": 6,
   "metadata": {},
   "outputs": [
    {
     "data": {
      "text/plain": [
       "'Records updated = 1'"
      ]
     },
     "execution_count": 6,
     "metadata": {},
     "output_type": "execute_result"
    }
   ],
   "source": [
    "q3 = 0.1003\n",
    "XDATE = '2022-12-09'\n",
    "PAIDDATE = '2022-12-28'\n",
    "actual = 1\n",
    "\n",
    "update_dividend1(q3,XDATE,PAIDDATE,actual,name)"
   ]
  },
  {
   "cell_type": "code",
   "execution_count": 4,
   "metadata": {},
   "outputs": [],
   "source": [
    "def update_dividend2(shares,q3,actual,name):\n",
    "    sql = \"UPDATE dividend SET shares = %s, q3 = %s, dividend=q1+q2+q3+q4, actual = %s WHERE name = '%s'\"\n",
    "    sql = sql % (shares, q3, actual, name)\n",
    "    rp = const.execute(sql)\n",
    "    return \"Records updated = \" + str(rp.rowcount)"
   ]
  },
  {
   "cell_type": "code",
   "execution_count": 5,
   "metadata": {},
   "outputs": [
    {
     "data": {
      "text/html": [
       "<style type=\"text/css\">\n",
       "</style>\n",
       "<table id=\"T_26c1a_\">\n",
       "  <thead>\n",
       "    <tr>\n",
       "      <th class=\"blank level0\" >&nbsp;</th>\n",
       "      <th class=\"col_heading level0 col0\" >name</th>\n",
       "      <th class=\"col_heading level0 col1\" >q4</th>\n",
       "      <th class=\"col_heading level0 col2\" >q3</th>\n",
       "      <th class=\"col_heading level0 col3\" >q2</th>\n",
       "      <th class=\"col_heading level0 col4\" >q1</th>\n",
       "      <th class=\"col_heading level0 col5\" >dividend</th>\n",
       "      <th class=\"col_heading level0 col6\" >shares</th>\n",
       "      <th class=\"col_heading level0 col7\" >xdate</th>\n",
       "      <th class=\"col_heading level0 col8\" >paiddate</th>\n",
       "      <th class=\"col_heading level0 col9\" >kind</th>\n",
       "      <th class=\"col_heading level0 col10\" >actual</th>\n",
       "    </tr>\n",
       "  </thead>\n",
       "  <tbody>\n",
       "    <tr>\n",
       "      <th id=\"T_26c1a_level0_row0\" class=\"row_heading level0 row0\" >0</th>\n",
       "      <td id=\"T_26c1a_row0_col0\" class=\"data row0 col0\" >STA</td>\n",
       "      <td id=\"T_26c1a_row0_col1\" class=\"data row0 col1\" >0.6500</td>\n",
       "      <td id=\"T_26c1a_row0_col2\" class=\"data row0 col2\" >1.2500</td>\n",
       "      <td id=\"T_26c1a_row0_col3\" class=\"data row0 col3\" >1.2500</td>\n",
       "      <td id=\"T_26c1a_row0_col4\" class=\"data row0 col4\" >0.0000</td>\n",
       "      <td id=\"T_26c1a_row0_col5\" class=\"data row0 col5\" >3.1500</td>\n",
       "      <td id=\"T_26c1a_row0_col6\" class=\"data row0 col6\" >20,000</td>\n",
       "      <td id=\"T_26c1a_row0_col7\" class=\"data row0 col7\" >2022-04-19</td>\n",
       "      <td id=\"T_26c1a_row0_col8\" class=\"data row0 col8\" >2022-05-06</td>\n",
       "      <td id=\"T_26c1a_row0_col9\" class=\"data row0 col9\" ></td>\n",
       "      <td id=\"T_26c1a_row0_col10\" class=\"data row0 col10\" >0</td>\n",
       "    </tr>\n",
       "  </tbody>\n",
       "</table>\n"
      ],
      "text/plain": [
       "<pandas.io.formats.style.Styler at 0x1e085155dc0>"
      ]
     },
     "execution_count": 5,
     "metadata": {},
     "output_type": "execute_result"
    }
   ],
   "source": [
    "name = 'STA'\n",
    "sql = \"\"\"\n",
    "SELECT * \n",
    "FROM DIVIDEND\n",
    "WHERE name = '%s'\n",
    "\"\"\"\n",
    "sql = sql % name\n",
    "dividend = pd.read_sql(sql, const)\n",
    "dividend.drop(['PRICE', 'PERCENT'], axis=1, inplace=True)\n",
    "dividend.columns = dividend.columns.str.lower()\n",
    "dividend['shares'] = dividend['shares'].astype('int64')\n",
    "dividend['xdate'] = pd.to_datetime(dividend['xdate'])\n",
    "dividend['paiddate'] = pd.to_datetime(dividend['paiddate'])\n",
    "dividend.style.format(format_dict)"
   ]
  },
  {
   "cell_type": "code",
   "execution_count": 6,
   "metadata": {},
   "outputs": [],
   "source": [
    "shares = 20000\n",
    "q3 = 0\n",
    "actual = 1"
   ]
  },
  {
   "cell_type": "code",
   "execution_count": 7,
   "metadata": {},
   "outputs": [
    {
     "data": {
      "text/plain": [
       "'Records updated = 1'"
      ]
     },
     "execution_count": 7,
     "metadata": {},
     "output_type": "execute_result"
    }
   ],
   "source": [
    "update_dividend2(shares,q3,actual,name)"
   ]
  },
  {
   "cell_type": "markdown",
   "metadata": {},
   "source": [
    "### Toggle actual status"
   ]
  },
  {
   "cell_type": "code",
   "execution_count": 6,
   "metadata": {},
   "outputs": [
    {
     "data": {
      "text/plain": [
       "1"
      ]
     },
     "execution_count": 6,
     "metadata": {},
     "output_type": "execute_result"
    }
   ],
   "source": [
    "name = 'EGATIF'\n",
    "actual = 0\n",
    "sqlUpd = \"UPDATE dividend SET actual = %s WHERE name = '%s'\"\n",
    "sqlUpd = sqlUpd % (actual, name)\n",
    "rp = const.execute(sqlUpd)\n",
    "rp.rowcount"
   ]
  },
  {
   "cell_type": "markdown",
   "metadata": {},
   "source": [
    "### Delete dividend record"
   ]
  },
  {
   "cell_type": "code",
   "execution_count": 10,
   "metadata": {},
   "outputs": [
    {
     "data": {
      "text/plain": [
       "1"
      ]
     },
     "execution_count": 10,
     "metadata": {},
     "output_type": "execute_result"
    }
   ],
   "source": [
    "sqlDel = '''\n",
    "DELETE FROM dividend\n",
    "WHERE name IN (\"MC\")\n",
    "'''\n",
    "rp = const.execute(sqlDel)\n",
    "rp.rowcount"
   ]
  },
  {
   "cell_type": "markdown",
   "metadata": {},
   "source": [
    "### Start of output to cloud"
   ]
  },
  {
   "cell_type": "code",
   "execution_count": 4,
   "metadata": {
    "scrolled": true
   },
   "outputs": [
    {
     "name": "stdout",
     "output_type": "stream",
     "text": [
      "\n",
      "SELECT Y.NAME AS name,  Q3 AS qtrly, SHARES, XDATE, PAIDDATE, \n",
      "P.price AS price, Y.DIVIDEND, ACTUAL, B.price * B.volbuy AS cost_amt\n",
      "FROM dividend AS Y, price AS P, buy AS B\n",
      "WHERE Y.name = P.name \n",
      "AND Y.name = B.name \n",
      "AND Q3 > 0 \n",
      "AND P.date = '2022-09-30'\n",
      "ORDER BY name\n",
      "\n"
     ]
    }
   ],
   "source": [
    "sql = \"\"\"\n",
    "SELECT Y.NAME AS name,  Q3 AS qtrly, SHARES, XDATE, PAIDDATE, \n",
    "P.price AS price, Y.DIVIDEND, ACTUAL, B.price * B.volbuy AS cost_amt\n",
    "FROM dividend AS Y, price AS P, buy AS B\n",
    "WHERE Y.name = P.name \n",
    "AND Y.name = B.name \n",
    "AND Q3 > 0 \n",
    "AND P.date = '%s'\n",
    "ORDER BY name\n",
    "\"\"\"\n",
    "sql = sql % yesterday \n",
    "print(sql)"
   ]
  },
  {
   "cell_type": "code",
   "execution_count": 5,
   "metadata": {},
   "outputs": [],
   "source": [
    "cols = 'name qtrly shares amount net xdate paiddate cost_amt pct actual'.split()"
   ]
  },
  {
   "cell_type": "code",
   "execution_count": 6,
   "metadata": {},
   "outputs": [
    {
     "data": {
      "text/html": [
       "<style type=\"text/css\">\n",
       "</style>\n",
       "<table id=\"T_0b8b6_\">\n",
       "  <thead>\n",
       "    <tr>\n",
       "      <th class=\"blank level0\" >&nbsp;</th>\n",
       "      <th class=\"col_heading level0 col0\" >name</th>\n",
       "      <th class=\"col_heading level0 col1\" >qtrly</th>\n",
       "      <th class=\"col_heading level0 col2\" >shares</th>\n",
       "      <th class=\"col_heading level0 col3\" >amount</th>\n",
       "      <th class=\"col_heading level0 col4\" >net</th>\n",
       "      <th class=\"col_heading level0 col5\" >xdate</th>\n",
       "      <th class=\"col_heading level0 col6\" >paiddate</th>\n",
       "      <th class=\"col_heading level0 col7\" >cost_amt</th>\n",
       "      <th class=\"col_heading level0 col8\" >pct</th>\n",
       "      <th class=\"col_heading level0 col9\" >actual</th>\n",
       "    </tr>\n",
       "  </thead>\n",
       "  <tbody>\n",
       "    <tr>\n",
       "      <th id=\"T_0b8b6_level0_row0\" class=\"row_heading level0 row0\" >0</th>\n",
       "      <td id=\"T_0b8b6_row0_col0\" class=\"data row0 col0\" >CPNREIT</td>\n",
       "      <td id=\"T_0b8b6_row0_col1\" class=\"data row0 col1\" >0.1814</td>\n",
       "      <td id=\"T_0b8b6_row0_col2\" class=\"data row0 col2\" >10,000</td>\n",
       "      <td id=\"T_0b8b6_row0_col3\" class=\"data row0 col3\" >1,814.00</td>\n",
       "      <td id=\"T_0b8b6_row0_col4\" class=\"data row0 col4\" >1,632.60</td>\n",
       "      <td id=\"T_0b8b6_row0_col5\" class=\"data row0 col5\" >2022-08-17</td>\n",
       "      <td id=\"T_0b8b6_row0_col6\" class=\"data row0 col6\" >2022-09-02</td>\n",
       "      <td id=\"T_0b8b6_row0_col7\" class=\"data row0 col7\" >192,000.00</td>\n",
       "      <td id=\"T_0b8b6_row0_col8\" class=\"data row0 col8\" >0.85%</td>\n",
       "      <td id=\"T_0b8b6_row0_col9\" class=\"data row0 col9\" >0</td>\n",
       "    </tr>\n",
       "    <tr>\n",
       "      <th id=\"T_0b8b6_level0_row1\" class=\"row_heading level0 row1\" >1</th>\n",
       "      <td id=\"T_0b8b6_row1_col0\" class=\"data row1 col0\" >DCC</td>\n",
       "      <td id=\"T_0b8b6_row1_col1\" class=\"data row1 col1\" >0.0400</td>\n",
       "      <td id=\"T_0b8b6_row1_col2\" class=\"data row1 col2\" >60,000</td>\n",
       "      <td id=\"T_0b8b6_row1_col3\" class=\"data row1 col3\" >2,400.00</td>\n",
       "      <td id=\"T_0b8b6_row1_col4\" class=\"data row1 col4\" >2,160.00</td>\n",
       "      <td id=\"T_0b8b6_row1_col5\" class=\"data row1 col5\" >2022-08-22</td>\n",
       "      <td id=\"T_0b8b6_row1_col6\" class=\"data row1 col6\" >2022-09-06</td>\n",
       "      <td id=\"T_0b8b6_row1_col7\" class=\"data row1 col7\" >177,600.00</td>\n",
       "      <td id=\"T_0b8b6_row1_col8\" class=\"data row1 col8\" >1.22%</td>\n",
       "      <td id=\"T_0b8b6_row1_col9\" class=\"data row1 col9\" >0</td>\n",
       "    </tr>\n",
       "    <tr>\n",
       "      <th id=\"T_0b8b6_level0_row2\" class=\"row_heading level0 row2\" >2</th>\n",
       "      <td id=\"T_0b8b6_row2_col0\" class=\"data row2 col0\" >DIF</td>\n",
       "      <td id=\"T_0b8b6_row2_col1\" class=\"data row2 col1\" >0.2610</td>\n",
       "      <td id=\"T_0b8b6_row2_col2\" class=\"data row2 col2\" >40,000</td>\n",
       "      <td id=\"T_0b8b6_row2_col3\" class=\"data row2 col3\" >10,440.00</td>\n",
       "      <td id=\"T_0b8b6_row2_col4\" class=\"data row2 col4\" >9,396.00</td>\n",
       "      <td id=\"T_0b8b6_row2_col5\" class=\"data row2 col5\" >2022-08-16</td>\n",
       "      <td id=\"T_0b8b6_row2_col6\" class=\"data row2 col6\" >2022-09-05</td>\n",
       "      <td id=\"T_0b8b6_row2_col7\" class=\"data row2 col7\" >588,000.00</td>\n",
       "      <td id=\"T_0b8b6_row2_col8\" class=\"data row2 col8\" >1.60%</td>\n",
       "      <td id=\"T_0b8b6_row2_col9\" class=\"data row2 col9\" >0</td>\n",
       "    </tr>\n",
       "    <tr>\n",
       "      <th id=\"T_0b8b6_level0_row3\" class=\"row_heading level0 row3\" >3</th>\n",
       "      <td id=\"T_0b8b6_row3_col0\" class=\"data row3 col0\" >GVREIT</td>\n",
       "      <td id=\"T_0b8b6_row3_col1\" class=\"data row3 col1\" >0.1765</td>\n",
       "      <td id=\"T_0b8b6_row3_col2\" class=\"data row3 col2\" >10,000</td>\n",
       "      <td id=\"T_0b8b6_row3_col3\" class=\"data row3 col3\" >1,765.00</td>\n",
       "      <td id=\"T_0b8b6_row3_col4\" class=\"data row3 col4\" >1,588.50</td>\n",
       "      <td id=\"T_0b8b6_row3_col5\" class=\"data row3 col5\" >2022-08-26</td>\n",
       "      <td id=\"T_0b8b6_row3_col6\" class=\"data row3 col6\" >2022-09-14</td>\n",
       "      <td id=\"T_0b8b6_row3_col7\" class=\"data row3 col7\" >91,500.00</td>\n",
       "      <td id=\"T_0b8b6_row3_col8\" class=\"data row3 col8\" >1.74%</td>\n",
       "      <td id=\"T_0b8b6_row3_col9\" class=\"data row3 col9\" >0</td>\n",
       "    </tr>\n",
       "    <tr>\n",
       "      <th id=\"T_0b8b6_level0_row4\" class=\"row_heading level0 row4\" >4</th>\n",
       "      <td id=\"T_0b8b6_row4_col0\" class=\"data row4 col0\" >IVL</td>\n",
       "      <td id=\"T_0b8b6_row4_col1\" class=\"data row4 col1\" >0.2500</td>\n",
       "      <td id=\"T_0b8b6_row4_col2\" class=\"data row4 col2\" >2,400</td>\n",
       "      <td id=\"T_0b8b6_row4_col3\" class=\"data row4 col3\" >600.00</td>\n",
       "      <td id=\"T_0b8b6_row4_col4\" class=\"data row4 col4\" >540.00</td>\n",
       "      <td id=\"T_0b8b6_row4_col5\" class=\"data row4 col5\" >2022-08-30</td>\n",
       "      <td id=\"T_0b8b6_row4_col6\" class=\"data row4 col6\" >2022-09-15</td>\n",
       "      <td id=\"T_0b8b6_row4_col7\" class=\"data row4 col7\" >105,600.00</td>\n",
       "      <td id=\"T_0b8b6_row4_col8\" class=\"data row4 col8\" >0.51%</td>\n",
       "      <td id=\"T_0b8b6_row4_col9\" class=\"data row4 col9\" >0</td>\n",
       "    </tr>\n",
       "    <tr>\n",
       "      <th id=\"T_0b8b6_level0_row5\" class=\"row_heading level0 row5\" >5</th>\n",
       "      <td id=\"T_0b8b6_row5_col0\" class=\"data row5 col0\" >JASIF</td>\n",
       "      <td id=\"T_0b8b6_row5_col1\" class=\"data row5 col1\" >0.2200</td>\n",
       "      <td id=\"T_0b8b6_row5_col2\" class=\"data row5 col2\" >130,000</td>\n",
       "      <td id=\"T_0b8b6_row5_col3\" class=\"data row5 col3\" >28,600.00</td>\n",
       "      <td id=\"T_0b8b6_row5_col4\" class=\"data row5 col4\" >25,740.00</td>\n",
       "      <td id=\"T_0b8b6_row5_col5\" class=\"data row5 col5\" >2022-08-19</td>\n",
       "      <td id=\"T_0b8b6_row5_col6\" class=\"data row5 col6\" >2022-09-06</td>\n",
       "      <td id=\"T_0b8b6_row5_col7\" class=\"data row5 col7\" >1,300,000.00</td>\n",
       "      <td id=\"T_0b8b6_row5_col8\" class=\"data row5 col8\" >1.98%</td>\n",
       "      <td id=\"T_0b8b6_row5_col9\" class=\"data row5 col9\" >0</td>\n",
       "    </tr>\n",
       "    <tr>\n",
       "      <th id=\"T_0b8b6_level0_row6\" class=\"row_heading level0 row6\" >6</th>\n",
       "      <td id=\"T_0b8b6_row6_col0\" class=\"data row6 col0\" >MCS</td>\n",
       "      <td id=\"T_0b8b6_row6_col1\" class=\"data row6 col1\" >0.3700</td>\n",
       "      <td id=\"T_0b8b6_row6_col2\" class=\"data row6 col2\" >75,000</td>\n",
       "      <td id=\"T_0b8b6_row6_col3\" class=\"data row6 col3\" >27,750.00</td>\n",
       "      <td id=\"T_0b8b6_row6_col4\" class=\"data row6 col4\" >24,975.00</td>\n",
       "      <td id=\"T_0b8b6_row6_col5\" class=\"data row6 col5\" >2022-09-03</td>\n",
       "      <td id=\"T_0b8b6_row6_col6\" class=\"data row6 col6\" >2022-09-15</td>\n",
       "      <td id=\"T_0b8b6_row6_col7\" class=\"data row6 col7\" >1,155,000.00</td>\n",
       "      <td id=\"T_0b8b6_row6_col8\" class=\"data row6 col8\" >2.16%</td>\n",
       "      <td id=\"T_0b8b6_row6_col9\" class=\"data row6 col9\" >0</td>\n",
       "    </tr>\n",
       "    <tr>\n",
       "      <th id=\"T_0b8b6_level0_row7\" class=\"row_heading level0 row7\" >7</th>\n",
       "      <td id=\"T_0b8b6_row7_col0\" class=\"data row7 col0\" >ORI</td>\n",
       "      <td id=\"T_0b8b6_row7_col1\" class=\"data row7 col1\" >0.1000</td>\n",
       "      <td id=\"T_0b8b6_row7_col2\" class=\"data row7 col2\" >45,000</td>\n",
       "      <td id=\"T_0b8b6_row7_col3\" class=\"data row7 col3\" >4,500.00</td>\n",
       "      <td id=\"T_0b8b6_row7_col4\" class=\"data row7 col4\" >4,050.00</td>\n",
       "      <td id=\"T_0b8b6_row7_col5\" class=\"data row7 col5\" >2022-08-26</td>\n",
       "      <td id=\"T_0b8b6_row7_col6\" class=\"data row7 col6\" >2022-09-13</td>\n",
       "      <td id=\"T_0b8b6_row7_col7\" class=\"data row7 col7\" >495,000.00</td>\n",
       "      <td id=\"T_0b8b6_row7_col8\" class=\"data row7 col8\" >0.82%</td>\n",
       "      <td id=\"T_0b8b6_row7_col9\" class=\"data row7 col9\" >0</td>\n",
       "    </tr>\n",
       "    <tr>\n",
       "      <th id=\"T_0b8b6_level0_row8\" class=\"row_heading level0 row8\" >8</th>\n",
       "      <td id=\"T_0b8b6_row8_col0\" class=\"data row8 col0\" >RCL</td>\n",
       "      <td id=\"T_0b8b6_row8_col1\" class=\"data row8 col1\" >1.5000</td>\n",
       "      <td id=\"T_0b8b6_row8_col2\" class=\"data row8 col2\" >15,000</td>\n",
       "      <td id=\"T_0b8b6_row8_col3\" class=\"data row8 col3\" >22,500.00</td>\n",
       "      <td id=\"T_0b8b6_row8_col4\" class=\"data row8 col4\" >20,250.00</td>\n",
       "      <td id=\"T_0b8b6_row8_col5\" class=\"data row8 col5\" >2022-08-18</td>\n",
       "      <td id=\"T_0b8b6_row8_col6\" class=\"data row8 col6\" >2022-09-02</td>\n",
       "      <td id=\"T_0b8b6_row8_col7\" class=\"data row8 col7\" >686,250.00</td>\n",
       "      <td id=\"T_0b8b6_row8_col8\" class=\"data row8 col8\" >2.95%</td>\n",
       "      <td id=\"T_0b8b6_row8_col9\" class=\"data row8 col9\" >0</td>\n",
       "    </tr>\n",
       "    <tr>\n",
       "      <th id=\"T_0b8b6_level0_row9\" class=\"row_heading level0 row9\" >9</th>\n",
       "      <td id=\"T_0b8b6_row9_col0\" class=\"data row9 col0\" >WHAIR</td>\n",
       "      <td id=\"T_0b8b6_row9_col1\" class=\"data row9 col1\" >0.1738</td>\n",
       "      <td id=\"T_0b8b6_row9_col2\" class=\"data row9 col2\" >40,000</td>\n",
       "      <td id=\"T_0b8b6_row9_col3\" class=\"data row9 col3\" >6,952.00</td>\n",
       "      <td id=\"T_0b8b6_row9_col4\" class=\"data row9 col4\" >6,256.80</td>\n",
       "      <td id=\"T_0b8b6_row9_col5\" class=\"data row9 col5\" >2022-08-18</td>\n",
       "      <td id=\"T_0b8b6_row9_col6\" class=\"data row9 col6\" >2022-09-19</td>\n",
       "      <td id=\"T_0b8b6_row9_col7\" class=\"data row9 col7\" >358,000.00</td>\n",
       "      <td id=\"T_0b8b6_row9_col8\" class=\"data row9 col8\" >1.75%</td>\n",
       "      <td id=\"T_0b8b6_row9_col9\" class=\"data row9 col9\" >0</td>\n",
       "    </tr>\n",
       "    <tr>\n",
       "      <th id=\"T_0b8b6_level0_row10\" class=\"row_heading level0 row10\" >10</th>\n",
       "      <td id=\"T_0b8b6_row10_col0\" class=\"data row10 col0\" >WHART</td>\n",
       "      <td id=\"T_0b8b6_row10_col1\" class=\"data row10 col1\" >0.2553</td>\n",
       "      <td id=\"T_0b8b6_row10_col2\" class=\"data row10 col2\" >30,000</td>\n",
       "      <td id=\"T_0b8b6_row10_col3\" class=\"data row10 col3\" >7,659.00</td>\n",
       "      <td id=\"T_0b8b6_row10_col4\" class=\"data row10 col4\" >6,893.10</td>\n",
       "      <td id=\"T_0b8b6_row10_col5\" class=\"data row10 col5\" >2022-08-18</td>\n",
       "      <td id=\"T_0b8b6_row10_col6\" class=\"data row10 col6\" >2022-09-02</td>\n",
       "      <td id=\"T_0b8b6_row10_col7\" class=\"data row10 col7\" >351,000.00</td>\n",
       "      <td id=\"T_0b8b6_row10_col8\" class=\"data row10 col8\" >1.96%</td>\n",
       "      <td id=\"T_0b8b6_row10_col9\" class=\"data row10 col9\" >0</td>\n",
       "    </tr>\n",
       "  </tbody>\n",
       "</table>\n"
      ],
      "text/plain": [
       "<pandas.io.formats.style.Styler at 0x27c3bcb5ee0>"
      ]
     },
     "execution_count": 6,
     "metadata": {},
     "output_type": "execute_result"
    }
   ],
   "source": [
    "dividend = pd.read_sql(sql, const)\n",
    "dividend.columns = dividend.columns.str.lower()\n",
    "dividend['shares'] = dividend['shares'].astype('int64')\n",
    "dividend['xdate'] = pd.to_datetime(dividend['xdate'])\n",
    "dividend['paiddate'] = pd.to_datetime(dividend['paiddate'])\n",
    "dividend['amount'] = round(dividend['shares'] * dividend['qtrly'], 2)\n",
    "dividend['net'] = round(dividend['amount'] * 0.9, 2)\n",
    "dividend['pct'] = round(dividend['net'] / dividend['cost_amt'] * 100, 2)\n",
    "dividend[cols].style.format(format_dict)"
   ]
  },
  {
   "cell_type": "code",
   "execution_count": 7,
   "metadata": {},
   "outputs": [
    {
     "data": {
      "text/plain": [
       "103482.00000000001"
      ]
     },
     "execution_count": 7,
     "metadata": {},
     "output_type": "execute_result"
    }
   ],
   "source": [
    "dividend.net.sum()"
   ]
  },
  {
   "cell_type": "code",
   "execution_count": 9,
   "metadata": {},
   "outputs": [],
   "source": [
    "file_name = 'dividend-q3.xlsx'\n",
    "data_file = data_path + file_name\n",
    "output_file = csv_path + file_name\n",
    "box_file = box_path + file_name\n",
    "one_file = one_path + file_name\n",
    "\n",
    "dividend[cols].sort_values(['name'],ascending=[True]).to_excel(output_file, index=False)\n",
    "dividend[cols].sort_values(['name'],ascending=[True]).to_excel(data_file, index=False)\n",
    "dividend[cols].sort_values(['name'],ascending=[True]).to_excel(box_file, index=False)\n",
    "dividend[cols].sort_values(['name'],ascending=[True]).to_excel(one_file, index=False)"
   ]
  },
  {
   "cell_type": "markdown",
   "metadata": {},
   "source": [
    "### End of output to cloud"
   ]
  },
  {
   "cell_type": "code",
   "execution_count": 14,
   "metadata": {},
   "outputs": [
    {
     "name": "stdout",
     "output_type": "stream",
     "text": [
      "SELECT name, q_eps, aq_eps, publish_date FROM epss WHERE year = 2022-1 AND quarter = 3 ORDER BY name\n"
     ]
    },
    {
     "data": {
      "text/plain": [
       "name             object\n",
       "q_eps           float64\n",
       "aq_eps          float64\n",
       "publish_date     object\n",
       "dtype: object"
      ]
     },
     "execution_count": 14,
     "metadata": {},
     "output_type": "execute_result"
    }
   ],
   "source": [
    "sql = 'SELECT name, q_eps, aq_eps, publish_date FROM epss WHERE year = %s-1 AND quarter = %s ORDER BY name'\n",
    "sql = sql % (year, quarter)\n",
    "print(sql)\n",
    "eps = pd.read_sql(sql, conlt)\n",
    "eps.dtypes"
   ]
  },
  {
   "cell_type": "code",
   "execution_count": 15,
   "metadata": {},
   "outputs": [
    {
     "data": {
      "text/html": [
       "<div>\n",
       "<style scoped>\n",
       "    .dataframe tbody tr th:only-of-type {\n",
       "        vertical-align: middle;\n",
       "    }\n",
       "\n",
       "    .dataframe tbody tr th {\n",
       "        vertical-align: top;\n",
       "    }\n",
       "\n",
       "    .dataframe thead th {\n",
       "        text-align: right;\n",
       "    }\n",
       "</style>\n",
       "<table border=\"1\" class=\"dataframe\">\n",
       "  <thead>\n",
       "    <tr style=\"text-align: right;\">\n",
       "      <th></th>\n",
       "      <th>name</th>\n",
       "      <th>qtrly</th>\n",
       "      <th>shares</th>\n",
       "      <th>xdate</th>\n",
       "      <th>paiddate</th>\n",
       "      <th>price</th>\n",
       "      <th>dividend</th>\n",
       "      <th>actual</th>\n",
       "      <th>cost_amt</th>\n",
       "      <th>amount</th>\n",
       "      <th>net</th>\n",
       "      <th>pct</th>\n",
       "      <th>q_eps</th>\n",
       "      <th>aq_eps</th>\n",
       "      <th>publish_date</th>\n",
       "    </tr>\n",
       "  </thead>\n",
       "  <tbody>\n",
       "    <tr>\n",
       "      <th>0</th>\n",
       "      <td>CPNREIT</td>\n",
       "      <td>0.1814</td>\n",
       "      <td>10000</td>\n",
       "      <td>2022-08-17</td>\n",
       "      <td>2022-09-02</td>\n",
       "      <td>18.60</td>\n",
       "      <td>0.7873</td>\n",
       "      <td>0</td>\n",
       "      <td>192000.0</td>\n",
       "      <td>1814.0</td>\n",
       "      <td>1632.6</td>\n",
       "      <td>0.85</td>\n",
       "      <td>-0.3294</td>\n",
       "      <td>-0.1099</td>\n",
       "      <td>2021-11-08</td>\n",
       "    </tr>\n",
       "    <tr>\n",
       "      <th>1</th>\n",
       "      <td>DCC</td>\n",
       "      <td>0.0400</td>\n",
       "      <td>60000</td>\n",
       "      <td>2022-08-22</td>\n",
       "      <td>2022-09-06</td>\n",
       "      <td>2.68</td>\n",
       "      <td>0.1750</td>\n",
       "      <td>0</td>\n",
       "      <td>177600.0</td>\n",
       "      <td>2400.0</td>\n",
       "      <td>2160.0</td>\n",
       "      <td>1.22</td>\n",
       "      <td>0.0400</td>\n",
       "      <td>0.1510</td>\n",
       "      <td>2021-11-08</td>\n",
       "    </tr>\n",
       "    <tr>\n",
       "      <th>2</th>\n",
       "      <td>DIF</td>\n",
       "      <td>0.2610</td>\n",
       "      <td>40000</td>\n",
       "      <td>2022-08-16</td>\n",
       "      <td>2022-09-05</td>\n",
       "      <td>13.50</td>\n",
       "      <td>1.0420</td>\n",
       "      <td>0</td>\n",
       "      <td>588000.0</td>\n",
       "      <td>10440.0</td>\n",
       "      <td>9396.0</td>\n",
       "      <td>1.60</td>\n",
       "      <td>0.2769</td>\n",
       "      <td>0.8319</td>\n",
       "      <td>2021-11-12</td>\n",
       "    </tr>\n",
       "    <tr>\n",
       "      <th>3</th>\n",
       "      <td>GVREIT</td>\n",
       "      <td>0.1765</td>\n",
       "      <td>10000</td>\n",
       "      <td>2022-08-26</td>\n",
       "      <td>2022-09-14</td>\n",
       "      <td>9.00</td>\n",
       "      <td>0.7640</td>\n",
       "      <td>0</td>\n",
       "      <td>91500.0</td>\n",
       "      <td>1765.0</td>\n",
       "      <td>1588.5</td>\n",
       "      <td>1.74</td>\n",
       "      <td>0.2459</td>\n",
       "      <td>0.7621</td>\n",
       "      <td>2021-08-09</td>\n",
       "    </tr>\n",
       "    <tr>\n",
       "      <th>4</th>\n",
       "      <td>IVL</td>\n",
       "      <td>0.2500</td>\n",
       "      <td>2400</td>\n",
       "      <td>2022-08-30</td>\n",
       "      <td>2022-09-15</td>\n",
       "      <td>39.00</td>\n",
       "      <td>1.3000</td>\n",
       "      <td>0</td>\n",
       "      <td>105600.0</td>\n",
       "      <td>600.0</td>\n",
       "      <td>540.0</td>\n",
       "      <td>0.51</td>\n",
       "      <td>1.1300</td>\n",
       "      <td>3.6200</td>\n",
       "      <td>2021-11-05</td>\n",
       "    </tr>\n",
       "    <tr>\n",
       "      <th>5</th>\n",
       "      <td>JASIF</td>\n",
       "      <td>0.2200</td>\n",
       "      <td>130000</td>\n",
       "      <td>2022-08-19</td>\n",
       "      <td>2022-09-06</td>\n",
       "      <td>8.15</td>\n",
       "      <td>0.9300</td>\n",
       "      <td>0</td>\n",
       "      <td>1300000.0</td>\n",
       "      <td>28600.0</td>\n",
       "      <td>25740.0</td>\n",
       "      <td>1.98</td>\n",
       "      <td>0.2093</td>\n",
       "      <td>0.6909</td>\n",
       "      <td>2021-11-09</td>\n",
       "    </tr>\n",
       "    <tr>\n",
       "      <th>6</th>\n",
       "      <td>MCS</td>\n",
       "      <td>0.3700</td>\n",
       "      <td>75000</td>\n",
       "      <td>2022-09-03</td>\n",
       "      <td>2022-09-15</td>\n",
       "      <td>10.10</td>\n",
       "      <td>0.8700</td>\n",
       "      <td>0</td>\n",
       "      <td>1155000.0</td>\n",
       "      <td>27750.0</td>\n",
       "      <td>24975.0</td>\n",
       "      <td>2.16</td>\n",
       "      <td>0.8900</td>\n",
       "      <td>2.2300</td>\n",
       "      <td>2021-11-15</td>\n",
       "    </tr>\n",
       "    <tr>\n",
       "      <th>7</th>\n",
       "      <td>ORI</td>\n",
       "      <td>0.1000</td>\n",
       "      <td>45000</td>\n",
       "      <td>2022-08-26</td>\n",
       "      <td>2022-09-13</td>\n",
       "      <td>10.10</td>\n",
       "      <td>0.6700</td>\n",
       "      <td>0</td>\n",
       "      <td>495000.0</td>\n",
       "      <td>4500.0</td>\n",
       "      <td>4050.0</td>\n",
       "      <td>0.82</td>\n",
       "      <td>0.2891</td>\n",
       "      <td>0.9728</td>\n",
       "      <td>2021-11-12</td>\n",
       "    </tr>\n",
       "    <tr>\n",
       "      <th>8</th>\n",
       "      <td>RCL</td>\n",
       "      <td>1.5000</td>\n",
       "      <td>15000</td>\n",
       "      <td>2022-08-18</td>\n",
       "      <td>2022-09-02</td>\n",
       "      <td>29.00</td>\n",
       "      <td>6.2500</td>\n",
       "      <td>0</td>\n",
       "      <td>686250.0</td>\n",
       "      <td>22500.0</td>\n",
       "      <td>20250.0</td>\n",
       "      <td>2.95</td>\n",
       "      <td>4.5020</td>\n",
       "      <td>11.9000</td>\n",
       "      <td>2021-11-05</td>\n",
       "    </tr>\n",
       "    <tr>\n",
       "      <th>9</th>\n",
       "      <td>WHAIR</td>\n",
       "      <td>0.1738</td>\n",
       "      <td>40000</td>\n",
       "      <td>2022-08-18</td>\n",
       "      <td>2022-09-19</td>\n",
       "      <td>7.25</td>\n",
       "      <td>0.6588</td>\n",
       "      <td>0</td>\n",
       "      <td>358000.0</td>\n",
       "      <td>6952.0</td>\n",
       "      <td>6256.8</td>\n",
       "      <td>1.75</td>\n",
       "      <td>0.1684</td>\n",
       "      <td>0.6664</td>\n",
       "      <td>2021-11-11</td>\n",
       "    </tr>\n",
       "    <tr>\n",
       "      <th>10</th>\n",
       "      <td>WHART</td>\n",
       "      <td>0.2553</td>\n",
       "      <td>30000</td>\n",
       "      <td>2022-08-18</td>\n",
       "      <td>2022-09-02</td>\n",
       "      <td>10.10</td>\n",
       "      <td>0.7583</td>\n",
       "      <td>0</td>\n",
       "      <td>351000.0</td>\n",
       "      <td>7659.0</td>\n",
       "      <td>6893.1</td>\n",
       "      <td>1.96</td>\n",
       "      <td>0.1796</td>\n",
       "      <td>0.5478</td>\n",
       "      <td>2021-11-10</td>\n",
       "    </tr>\n",
       "  </tbody>\n",
       "</table>\n",
       "</div>"
      ],
      "text/plain": [
       "       name   qtrly  shares      xdate   paiddate  price  dividend  actual  \\\n",
       "0   CPNREIT  0.1814   10000 2022-08-17 2022-09-02  18.60    0.7873       0   \n",
       "1       DCC  0.0400   60000 2022-08-22 2022-09-06   2.68    0.1750       0   \n",
       "2       DIF  0.2610   40000 2022-08-16 2022-09-05  13.50    1.0420       0   \n",
       "3    GVREIT  0.1765   10000 2022-08-26 2022-09-14   9.00    0.7640       0   \n",
       "4       IVL  0.2500    2400 2022-08-30 2022-09-15  39.00    1.3000       0   \n",
       "5     JASIF  0.2200  130000 2022-08-19 2022-09-06   8.15    0.9300       0   \n",
       "6       MCS  0.3700   75000 2022-09-03 2022-09-15  10.10    0.8700       0   \n",
       "7       ORI  0.1000   45000 2022-08-26 2022-09-13  10.10    0.6700       0   \n",
       "8       RCL  1.5000   15000 2022-08-18 2022-09-02  29.00    6.2500       0   \n",
       "9     WHAIR  0.1738   40000 2022-08-18 2022-09-19   7.25    0.6588       0   \n",
       "10    WHART  0.2553   30000 2022-08-18 2022-09-02  10.10    0.7583       0   \n",
       "\n",
       "     cost_amt   amount      net   pct   q_eps   aq_eps publish_date  \n",
       "0    192000.0   1814.0   1632.6  0.85 -0.3294  -0.1099   2021-11-08  \n",
       "1    177600.0   2400.0   2160.0  1.22  0.0400   0.1510   2021-11-08  \n",
       "2    588000.0  10440.0   9396.0  1.60  0.2769   0.8319   2021-11-12  \n",
       "3     91500.0   1765.0   1588.5  1.74  0.2459   0.7621   2021-08-09  \n",
       "4    105600.0    600.0    540.0  0.51  1.1300   3.6200   2021-11-05  \n",
       "5   1300000.0  28600.0  25740.0  1.98  0.2093   0.6909   2021-11-09  \n",
       "6   1155000.0  27750.0  24975.0  2.16  0.8900   2.2300   2021-11-15  \n",
       "7    495000.0   4500.0   4050.0  0.82  0.2891   0.9728   2021-11-12  \n",
       "8    686250.0  22500.0  20250.0  2.95  4.5020  11.9000   2021-11-05  \n",
       "9    358000.0   6952.0   6256.8  1.75  0.1684   0.6664   2021-11-11  \n",
       "10   351000.0   7659.0   6893.1  1.96  0.1796   0.5478   2021-11-10  "
      ]
     },
     "execution_count": 15,
     "metadata": {},
     "output_type": "execute_result"
    }
   ],
   "source": [
    "df_merge = pd.merge(dividend, eps, on='name', how='inner')\n",
    "df_merge.sort_values('name',ascending=True)"
   ]
  },
  {
   "cell_type": "code",
   "execution_count": 16,
   "metadata": {},
   "outputs": [],
   "source": [
    "colt = 'name qtrly shares amount net publish_date xdate paiddate q_eps aq_eps'.split()"
   ]
  },
  {
   "cell_type": "code",
   "execution_count": 17,
   "metadata": {},
   "outputs": [
    {
     "data": {
      "text/html": [
       "<div>\n",
       "<style scoped>\n",
       "    .dataframe tbody tr th:only-of-type {\n",
       "        vertical-align: middle;\n",
       "    }\n",
       "\n",
       "    .dataframe tbody tr th {\n",
       "        vertical-align: top;\n",
       "    }\n",
       "\n",
       "    .dataframe thead th {\n",
       "        text-align: right;\n",
       "    }\n",
       "</style>\n",
       "<table border=\"1\" class=\"dataframe\">\n",
       "  <thead>\n",
       "    <tr style=\"text-align: right;\">\n",
       "      <th></th>\n",
       "      <th>name</th>\n",
       "      <th>qtrly</th>\n",
       "      <th>shares</th>\n",
       "      <th>amount</th>\n",
       "      <th>net</th>\n",
       "      <th>publish_date</th>\n",
       "      <th>xdate</th>\n",
       "      <th>paiddate</th>\n",
       "      <th>q_eps</th>\n",
       "      <th>aq_eps</th>\n",
       "    </tr>\n",
       "  </thead>\n",
       "  <tbody>\n",
       "    <tr>\n",
       "      <th>3</th>\n",
       "      <td>GVREIT</td>\n",
       "      <td>0.1765</td>\n",
       "      <td>10000</td>\n",
       "      <td>1765.0</td>\n",
       "      <td>1588.5</td>\n",
       "      <td>2021-08-09</td>\n",
       "      <td>2022-08-26</td>\n",
       "      <td>2022-09-14</td>\n",
       "      <td>0.2459</td>\n",
       "      <td>0.7621</td>\n",
       "    </tr>\n",
       "    <tr>\n",
       "      <th>4</th>\n",
       "      <td>IVL</td>\n",
       "      <td>0.2500</td>\n",
       "      <td>2400</td>\n",
       "      <td>600.0</td>\n",
       "      <td>540.0</td>\n",
       "      <td>2021-11-05</td>\n",
       "      <td>2022-08-30</td>\n",
       "      <td>2022-09-15</td>\n",
       "      <td>1.1300</td>\n",
       "      <td>3.6200</td>\n",
       "    </tr>\n",
       "    <tr>\n",
       "      <th>8</th>\n",
       "      <td>RCL</td>\n",
       "      <td>1.5000</td>\n",
       "      <td>15000</td>\n",
       "      <td>22500.0</td>\n",
       "      <td>20250.0</td>\n",
       "      <td>2021-11-05</td>\n",
       "      <td>2022-08-18</td>\n",
       "      <td>2022-09-02</td>\n",
       "      <td>4.5020</td>\n",
       "      <td>11.9000</td>\n",
       "    </tr>\n",
       "    <tr>\n",
       "      <th>0</th>\n",
       "      <td>CPNREIT</td>\n",
       "      <td>0.1814</td>\n",
       "      <td>10000</td>\n",
       "      <td>1814.0</td>\n",
       "      <td>1632.6</td>\n",
       "      <td>2021-11-08</td>\n",
       "      <td>2022-08-17</td>\n",
       "      <td>2022-09-02</td>\n",
       "      <td>-0.3294</td>\n",
       "      <td>-0.1099</td>\n",
       "    </tr>\n",
       "    <tr>\n",
       "      <th>1</th>\n",
       "      <td>DCC</td>\n",
       "      <td>0.0400</td>\n",
       "      <td>60000</td>\n",
       "      <td>2400.0</td>\n",
       "      <td>2160.0</td>\n",
       "      <td>2021-11-08</td>\n",
       "      <td>2022-08-22</td>\n",
       "      <td>2022-09-06</td>\n",
       "      <td>0.0400</td>\n",
       "      <td>0.1510</td>\n",
       "    </tr>\n",
       "    <tr>\n",
       "      <th>5</th>\n",
       "      <td>JASIF</td>\n",
       "      <td>0.2200</td>\n",
       "      <td>130000</td>\n",
       "      <td>28600.0</td>\n",
       "      <td>25740.0</td>\n",
       "      <td>2021-11-09</td>\n",
       "      <td>2022-08-19</td>\n",
       "      <td>2022-09-06</td>\n",
       "      <td>0.2093</td>\n",
       "      <td>0.6909</td>\n",
       "    </tr>\n",
       "    <tr>\n",
       "      <th>10</th>\n",
       "      <td>WHART</td>\n",
       "      <td>0.2553</td>\n",
       "      <td>30000</td>\n",
       "      <td>7659.0</td>\n",
       "      <td>6893.1</td>\n",
       "      <td>2021-11-10</td>\n",
       "      <td>2022-08-18</td>\n",
       "      <td>2022-09-02</td>\n",
       "      <td>0.1796</td>\n",
       "      <td>0.5478</td>\n",
       "    </tr>\n",
       "    <tr>\n",
       "      <th>9</th>\n",
       "      <td>WHAIR</td>\n",
       "      <td>0.1738</td>\n",
       "      <td>40000</td>\n",
       "      <td>6952.0</td>\n",
       "      <td>6256.8</td>\n",
       "      <td>2021-11-11</td>\n",
       "      <td>2022-08-18</td>\n",
       "      <td>2022-09-19</td>\n",
       "      <td>0.1684</td>\n",
       "      <td>0.6664</td>\n",
       "    </tr>\n",
       "    <tr>\n",
       "      <th>2</th>\n",
       "      <td>DIF</td>\n",
       "      <td>0.2610</td>\n",
       "      <td>40000</td>\n",
       "      <td>10440.0</td>\n",
       "      <td>9396.0</td>\n",
       "      <td>2021-11-12</td>\n",
       "      <td>2022-08-16</td>\n",
       "      <td>2022-09-05</td>\n",
       "      <td>0.2769</td>\n",
       "      <td>0.8319</td>\n",
       "    </tr>\n",
       "    <tr>\n",
       "      <th>7</th>\n",
       "      <td>ORI</td>\n",
       "      <td>0.1000</td>\n",
       "      <td>45000</td>\n",
       "      <td>4500.0</td>\n",
       "      <td>4050.0</td>\n",
       "      <td>2021-11-12</td>\n",
       "      <td>2022-08-26</td>\n",
       "      <td>2022-09-13</td>\n",
       "      <td>0.2891</td>\n",
       "      <td>0.9728</td>\n",
       "    </tr>\n",
       "    <tr>\n",
       "      <th>6</th>\n",
       "      <td>MCS</td>\n",
       "      <td>0.3700</td>\n",
       "      <td>75000</td>\n",
       "      <td>27750.0</td>\n",
       "      <td>24975.0</td>\n",
       "      <td>2021-11-15</td>\n",
       "      <td>2022-09-03</td>\n",
       "      <td>2022-09-15</td>\n",
       "      <td>0.8900</td>\n",
       "      <td>2.2300</td>\n",
       "    </tr>\n",
       "  </tbody>\n",
       "</table>\n",
       "</div>"
      ],
      "text/plain": [
       "       name   qtrly  shares   amount      net publish_date      xdate  \\\n",
       "3    GVREIT  0.1765   10000   1765.0   1588.5   2021-08-09 2022-08-26   \n",
       "4       IVL  0.2500    2400    600.0    540.0   2021-11-05 2022-08-30   \n",
       "8       RCL  1.5000   15000  22500.0  20250.0   2021-11-05 2022-08-18   \n",
       "0   CPNREIT  0.1814   10000   1814.0   1632.6   2021-11-08 2022-08-17   \n",
       "1       DCC  0.0400   60000   2400.0   2160.0   2021-11-08 2022-08-22   \n",
       "5     JASIF  0.2200  130000  28600.0  25740.0   2021-11-09 2022-08-19   \n",
       "10    WHART  0.2553   30000   7659.0   6893.1   2021-11-10 2022-08-18   \n",
       "9     WHAIR  0.1738   40000   6952.0   6256.8   2021-11-11 2022-08-18   \n",
       "2       DIF  0.2610   40000  10440.0   9396.0   2021-11-12 2022-08-16   \n",
       "7       ORI  0.1000   45000   4500.0   4050.0   2021-11-12 2022-08-26   \n",
       "6       MCS  0.3700   75000  27750.0  24975.0   2021-11-15 2022-09-03   \n",
       "\n",
       "     paiddate   q_eps   aq_eps  \n",
       "3  2022-09-14  0.2459   0.7621  \n",
       "4  2022-09-15  1.1300   3.6200  \n",
       "8  2022-09-02  4.5020  11.9000  \n",
       "0  2022-09-02 -0.3294  -0.1099  \n",
       "1  2022-09-06  0.0400   0.1510  \n",
       "5  2022-09-06  0.2093   0.6909  \n",
       "10 2022-09-02  0.1796   0.5478  \n",
       "9  2022-09-19  0.1684   0.6664  \n",
       "2  2022-09-05  0.2769   0.8319  \n",
       "7  2022-09-13  0.2891   0.9728  \n",
       "6  2022-09-15  0.8900   2.2300  "
      ]
     },
     "execution_count": 17,
     "metadata": {},
     "output_type": "execute_result"
    }
   ],
   "source": [
    "df_merge[colt].sort_values('publish_date',ascending=True)"
   ]
  },
  {
   "cell_type": "code",
   "execution_count": 18,
   "metadata": {},
   "outputs": [],
   "source": [
    "file_name = 'div-22q3.xlsx'\n",
    "data_file = data_path + file_name\n",
    "output_file = csv_path + file_name\n",
    "box_file = box_path + file_name\n",
    "one_file = one_path + file_name\n",
    "\n",
    "df_merge[colt].sort_values(['name'],ascending=[True]).to_excel(output_file, index=False)\n",
    "df_merge[colt].sort_values(['name'],ascending=[True]).to_excel(data_file, index=False)\n",
    "df_merge[colt].sort_values(['name'],ascending=[True]).to_excel(box_file, index=False)\n",
    "df_merge[colt].sort_values(['name'],ascending=[True]).to_excel(one_file, index=False)"
   ]
  },
  {
   "cell_type": "code",
   "execution_count": null,
   "metadata": {},
   "outputs": [],
   "source": []
  }
 ],
 "metadata": {
  "anaconda-cloud": {},
  "kernelspec": {
   "display_name": "Python 3 (ipykernel)",
   "language": "python",
   "name": "python3"
  },
  "language_info": {
   "codemirror_mode": {
    "name": "ipython",
    "version": 3
   },
   "file_extension": ".py",
   "mimetype": "text/x-python",
   "name": "python",
   "nbconvert_exporter": "python",
   "pygments_lexer": "ipython3",
   "version": "3.8.11"
  }
 },
 "nbformat": 4,
 "nbformat_minor": 1
}
