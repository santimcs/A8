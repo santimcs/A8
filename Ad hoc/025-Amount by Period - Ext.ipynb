{
 "cells": [
  {
   "cell_type": "code",
   "execution_count": 1,
   "metadata": {},
   "outputs": [
    {
     "data": {
      "application/javascript": [
       "\n",
       "(function(root) {\n",
       "  function now() {\n",
       "    return new Date();\n",
       "  }\n",
       "\n",
       "  var force = true;\n",
       "\n",
       "  if (typeof root._bokeh_onload_callbacks === \"undefined\" || force === true) {\n",
       "    root._bokeh_onload_callbacks = [];\n",
       "    root._bokeh_is_loading = undefined;\n",
       "  }\n",
       "\n",
       "  if (typeof (root._bokeh_timeout) === \"undefined\" || force === true) {\n",
       "    root._bokeh_timeout = Date.now() + 5000;\n",
       "    root._bokeh_failed_load = false;\n",
       "  }\n",
       "\n",
       "  function run_callbacks() {\n",
       "    try {\n",
       "      root._bokeh_onload_callbacks.forEach(function(callback) {\n",
       "        if (callback != null)\n",
       "          callback();\n",
       "      });\n",
       "    } finally {\n",
       "      delete root._bokeh_onload_callbacks\n",
       "    }\n",
       "    console.debug(\"Bokeh: all callbacks have finished\");\n",
       "  }\n",
       "\n",
       "  function load_libs(css_urls, js_urls, js_modules, callback) {\n",
       "    if (css_urls == null) css_urls = [];\n",
       "    if (js_urls == null) js_urls = [];\n",
       "    if (js_modules == null) js_modules = [];\n",
       "\n",
       "    root._bokeh_onload_callbacks.push(callback);\n",
       "    if (root._bokeh_is_loading > 0) {\n",
       "      console.debug(\"Bokeh: BokehJS is being loaded, scheduling callback at\", now());\n",
       "      return null;\n",
       "    }\n",
       "    if (js_urls.length === 0 && js_modules.length === 0) {\n",
       "      run_callbacks();\n",
       "      return null;\n",
       "    }\n",
       "    console.debug(\"Bokeh: BokehJS not loaded, scheduling load and callback at\", now());\n",
       "    root._bokeh_is_loading = css_urls.length + js_urls.length + js_modules.length;\n",
       "\n",
       "    function on_load() {\n",
       "      root._bokeh_is_loading--;\n",
       "      if (root._bokeh_is_loading === 0) {\n",
       "        console.debug(\"Bokeh: all BokehJS libraries/stylesheets loaded\");\n",
       "        run_callbacks()\n",
       "      }\n",
       "    }\n",
       "\n",
       "    function on_error() {\n",
       "      console.error(\"failed to load \" + url);\n",
       "    }\n",
       "\n",
       "    for (var i = 0; i < css_urls.length; i++) {\n",
       "      var url = css_urls[i];\n",
       "      const element = document.createElement(\"link\");\n",
       "      element.onload = on_load;\n",
       "      element.onerror = on_error;\n",
       "      element.rel = \"stylesheet\";\n",
       "      element.type = \"text/css\";\n",
       "      element.href = url;\n",
       "      console.debug(\"Bokeh: injecting link tag for BokehJS stylesheet: \", url);\n",
       "      document.body.appendChild(element);\n",
       "    }\n",
       "\n",
       "    var skip = [];\n",
       "    if (window.requirejs) {\n",
       "      window.requirejs.config({'packages': {}, 'paths': {'tabulator': 'https://unpkg.com/tabulator-tables@4.9.3/dist/js/tabulator', 'moment': 'https://unpkg.com/moment@2.27.0/moment'}, 'shim': {}});\n",
       "      \n",
       "      require([\"tabulator\"], function(Tabulator) {\n",
       "\twindow.Tabulator = Tabulator\n",
       "      })\n",
       "      \n",
       "      require([\"moment\"], function(moment) {\n",
       "\twindow.moment = moment\n",
       "      })\n",
       "      \n",
       "    }\n",
       "    if (((window['Tabulator'] !== undefined) && (!(window['Tabulator'] instanceof HTMLElement))) || window.requirejs) {\n",
       "      var urls = ['https://unpkg.com/tabulator-tables@4.9.3/dist/js/tabulator.js'];\n",
       "      for (var i = 0; i < urls.length; i++) {\n",
       "        skip.push(urls[i])\n",
       "      }\n",
       "    }\n",
       "    if (((window['moment'] !== undefined) && (!(window['moment'] instanceof HTMLElement))) || window.requirejs) {\n",
       "      var urls = ['https://unpkg.com/moment@2.27.0/moment.js'];\n",
       "      for (var i = 0; i < urls.length; i++) {\n",
       "        skip.push(urls[i])\n",
       "      }\n",
       "    }\n",
       "    for (var i = 0; i < js_urls.length; i++) {\n",
       "      var url = js_urls[i];\n",
       "      if (skip.indexOf(url) >= 0) { on_load(); continue; }\n",
       "      var element = document.createElement('script');\n",
       "      element.onload = on_load;\n",
       "      element.onerror = on_error;\n",
       "      element.async = false;\n",
       "      element.src = url;\n",
       "      console.debug(\"Bokeh: injecting script tag for BokehJS library: \", url);\n",
       "      document.head.appendChild(element);\n",
       "    }\n",
       "    for (var i = 0; i < js_modules.length; i++) {\n",
       "      var url = js_modules[i];\n",
       "      if (skip.indexOf(url) >= 0) { on_load(); continue; }\n",
       "      var element = document.createElement('script');\n",
       "      element.onload = on_load;\n",
       "      element.onerror = on_error;\n",
       "      element.async = false;\n",
       "      element.src = url;\n",
       "      element.type = \"module\";\n",
       "      console.debug(\"Bokeh: injecting script tag for BokehJS library: \", url);\n",
       "      document.head.appendChild(element);\n",
       "    }\n",
       "    if (!js_urls.length && !js_modules.length) {\n",
       "      on_load()\n",
       "    }\n",
       "  };\n",
       "\n",
       "  function inject_raw_css(css) {\n",
       "    const element = document.createElement(\"style\");\n",
       "    element.appendChild(document.createTextNode(css));\n",
       "    document.body.appendChild(element);\n",
       "  }\n",
       "\n",
       "  var js_urls = [\"https://unpkg.com/tabulator-tables@4.9.3/dist/js/tabulator.js\", \"https://unpkg.com/moment@2.27.0/moment.js\", \"https://cdn.bokeh.org/bokeh/release/bokeh-2.3.3.min.js\", \"https://cdn.bokeh.org/bokeh/release/bokeh-widgets-2.3.3.min.js\", \"https://cdn.bokeh.org/bokeh/release/bokeh-tables-2.3.3.min.js\", \"https://unpkg.com/@holoviz/panel@0.12.1/dist/panel.min.js\"];\n",
       "  var js_modules = [];\n",
       "  var css_urls = [\"https://unpkg.com/tabulator-tables@4.9.3/dist/css/tabulator_simple.min.css\", \"https://unpkg.com/@holoviz/panel@0.12.1/dist/css/alerts.css\", \"https://unpkg.com/@holoviz/panel@0.12.1/dist/css/card.css\", \"https://unpkg.com/@holoviz/panel@0.12.1/dist/css/dataframe.css\", \"https://unpkg.com/@holoviz/panel@0.12.1/dist/css/json.css\", \"https://unpkg.com/@holoviz/panel@0.12.1/dist/css/loading.css\", \"https://unpkg.com/@holoviz/panel@0.12.1/dist/css/markdown.css\", \"https://unpkg.com/@holoviz/panel@0.12.1/dist/css/widgets.css\"];\n",
       "  var inline_js = [\n",
       "    function(Bokeh) {\n",
       "      inject_raw_css(\"\\n    .bk.pn-loading.arcs:before {\\n      background-image: url(\\\"data:image/svg+xml;base64,PHN2ZyB4bWxucz0iaHR0cDovL3d3dy53My5vcmcvMjAwMC9zdmciIHhtbG5zOnhsaW5rPSJodHRwOi8vd3d3LnczLm9yZy8xOTk5L3hsaW5rIiBzdHlsZT0ibWFyZ2luOiBhdXRvOyBiYWNrZ3JvdW5kOiBub25lOyBkaXNwbGF5OiBibG9jazsgc2hhcGUtcmVuZGVyaW5nOiBhdXRvOyIgdmlld0JveD0iMCAwIDEwMCAxMDAiIHByZXNlcnZlQXNwZWN0UmF0aW89InhNaWRZTWlkIj4gIDxjaXJjbGUgY3g9IjUwIiBjeT0iNTAiIHI9IjMyIiBzdHJva2Utd2lkdGg9IjgiIHN0cm9rZT0iI2MzYzNjMyIgc3Ryb2tlLWRhc2hhcnJheT0iNTAuMjY1NDgyNDU3NDM2NjkgNTAuMjY1NDgyNDU3NDM2NjkiIGZpbGw9Im5vbmUiIHN0cm9rZS1saW5lY2FwPSJyb3VuZCI+ICAgIDxhbmltYXRlVHJhbnNmb3JtIGF0dHJpYnV0ZU5hbWU9InRyYW5zZm9ybSIgdHlwZT0icm90YXRlIiByZXBlYXRDb3VudD0iaW5kZWZpbml0ZSIgZHVyPSIxcyIga2V5VGltZXM9IjA7MSIgdmFsdWVzPSIwIDUwIDUwOzM2MCA1MCA1MCI+PC9hbmltYXRlVHJhbnNmb3JtPiAgPC9jaXJjbGU+PC9zdmc+\\\")\\n    }\\n    \");\n",
       "    },\n",
       "    function(Bokeh) {\n",
       "      Bokeh.set_log_level(\"info\");\n",
       "    },\n",
       "    function(Bokeh) {} // ensure no trailing comma for IE\n",
       "  ];\n",
       "\n",
       "  function run_inline_js() {\n",
       "    if ((root.Bokeh !== undefined) || (force === true)) {\n",
       "      for (var i = 0; i < inline_js.length; i++) {\n",
       "        inline_js[i].call(root, root.Bokeh);\n",
       "      }} else if (Date.now() < root._bokeh_timeout) {\n",
       "      setTimeout(run_inline_js, 100);\n",
       "    } else if (!root._bokeh_failed_load) {\n",
       "      console.log(\"Bokeh: BokehJS failed to load within specified timeout.\");\n",
       "      root._bokeh_failed_load = true;\n",
       "    }\n",
       "  }\n",
       "\n",
       "  if (root._bokeh_is_loading === 0) {\n",
       "    console.debug(\"Bokeh: BokehJS loaded, going straight to plotting\");\n",
       "    run_inline_js();\n",
       "  } else {\n",
       "    load_libs(css_urls, js_urls, js_modules, function() {\n",
       "      console.debug(\"Bokeh: BokehJS plotting callback run at\", now());\n",
       "      run_inline_js();\n",
       "    });\n",
       "  }\n",
       "}(window));"
      ],
      "application/vnd.holoviews_load.v0+json": "\n(function(root) {\n  function now() {\n    return new Date();\n  }\n\n  var force = true;\n\n  if (typeof root._bokeh_onload_callbacks === \"undefined\" || force === true) {\n    root._bokeh_onload_callbacks = [];\n    root._bokeh_is_loading = undefined;\n  }\n\n  if (typeof (root._bokeh_timeout) === \"undefined\" || force === true) {\n    root._bokeh_timeout = Date.now() + 5000;\n    root._bokeh_failed_load = false;\n  }\n\n  function run_callbacks() {\n    try {\n      root._bokeh_onload_callbacks.forEach(function(callback) {\n        if (callback != null)\n          callback();\n      });\n    } finally {\n      delete root._bokeh_onload_callbacks\n    }\n    console.debug(\"Bokeh: all callbacks have finished\");\n  }\n\n  function load_libs(css_urls, js_urls, js_modules, callback) {\n    if (css_urls == null) css_urls = [];\n    if (js_urls == null) js_urls = [];\n    if (js_modules == null) js_modules = [];\n\n    root._bokeh_onload_callbacks.push(callback);\n    if (root._bokeh_is_loading > 0) {\n      console.debug(\"Bokeh: BokehJS is being loaded, scheduling callback at\", now());\n      return null;\n    }\n    if (js_urls.length === 0 && js_modules.length === 0) {\n      run_callbacks();\n      return null;\n    }\n    console.debug(\"Bokeh: BokehJS not loaded, scheduling load and callback at\", now());\n    root._bokeh_is_loading = css_urls.length + js_urls.length + js_modules.length;\n\n    function on_load() {\n      root._bokeh_is_loading--;\n      if (root._bokeh_is_loading === 0) {\n        console.debug(\"Bokeh: all BokehJS libraries/stylesheets loaded\");\n        run_callbacks()\n      }\n    }\n\n    function on_error() {\n      console.error(\"failed to load \" + url);\n    }\n\n    for (var i = 0; i < css_urls.length; i++) {\n      var url = css_urls[i];\n      const element = document.createElement(\"link\");\n      element.onload = on_load;\n      element.onerror = on_error;\n      element.rel = \"stylesheet\";\n      element.type = \"text/css\";\n      element.href = url;\n      console.debug(\"Bokeh: injecting link tag for BokehJS stylesheet: \", url);\n      document.body.appendChild(element);\n    }\n\n    var skip = [];\n    if (window.requirejs) {\n      window.requirejs.config({'packages': {}, 'paths': {'tabulator': 'https://unpkg.com/tabulator-tables@4.9.3/dist/js/tabulator', 'moment': 'https://unpkg.com/moment@2.27.0/moment'}, 'shim': {}});\n      \n      require([\"tabulator\"], function(Tabulator) {\n\twindow.Tabulator = Tabulator\n      })\n      \n      require([\"moment\"], function(moment) {\n\twindow.moment = moment\n      })\n      \n    }\n    if (((window['Tabulator'] !== undefined) && (!(window['Tabulator'] instanceof HTMLElement))) || window.requirejs) {\n      var urls = ['https://unpkg.com/tabulator-tables@4.9.3/dist/js/tabulator.js'];\n      for (var i = 0; i < urls.length; i++) {\n        skip.push(urls[i])\n      }\n    }\n    if (((window['moment'] !== undefined) && (!(window['moment'] instanceof HTMLElement))) || window.requirejs) {\n      var urls = ['https://unpkg.com/moment@2.27.0/moment.js'];\n      for (var i = 0; i < urls.length; i++) {\n        skip.push(urls[i])\n      }\n    }\n    for (var i = 0; i < js_urls.length; i++) {\n      var url = js_urls[i];\n      if (skip.indexOf(url) >= 0) { on_load(); continue; }\n      var element = document.createElement('script');\n      element.onload = on_load;\n      element.onerror = on_error;\n      element.async = false;\n      element.src = url;\n      console.debug(\"Bokeh: injecting script tag for BokehJS library: \", url);\n      document.head.appendChild(element);\n    }\n    for (var i = 0; i < js_modules.length; i++) {\n      var url = js_modules[i];\n      if (skip.indexOf(url) >= 0) { on_load(); continue; }\n      var element = document.createElement('script');\n      element.onload = on_load;\n      element.onerror = on_error;\n      element.async = false;\n      element.src = url;\n      element.type = \"module\";\n      console.debug(\"Bokeh: injecting script tag for BokehJS library: \", url);\n      document.head.appendChild(element);\n    }\n    if (!js_urls.length && !js_modules.length) {\n      on_load()\n    }\n  };\n\n  function inject_raw_css(css) {\n    const element = document.createElement(\"style\");\n    element.appendChild(document.createTextNode(css));\n    document.body.appendChild(element);\n  }\n\n  var js_urls = [\"https://unpkg.com/tabulator-tables@4.9.3/dist/js/tabulator.js\", \"https://unpkg.com/moment@2.27.0/moment.js\", \"https://cdn.bokeh.org/bokeh/release/bokeh-2.3.3.min.js\", \"https://cdn.bokeh.org/bokeh/release/bokeh-widgets-2.3.3.min.js\", \"https://cdn.bokeh.org/bokeh/release/bokeh-tables-2.3.3.min.js\", \"https://unpkg.com/@holoviz/panel@0.12.1/dist/panel.min.js\"];\n  var js_modules = [];\n  var css_urls = [\"https://unpkg.com/tabulator-tables@4.9.3/dist/css/tabulator_simple.min.css\", \"https://unpkg.com/@holoviz/panel@0.12.1/dist/css/alerts.css\", \"https://unpkg.com/@holoviz/panel@0.12.1/dist/css/card.css\", \"https://unpkg.com/@holoviz/panel@0.12.1/dist/css/dataframe.css\", \"https://unpkg.com/@holoviz/panel@0.12.1/dist/css/json.css\", \"https://unpkg.com/@holoviz/panel@0.12.1/dist/css/loading.css\", \"https://unpkg.com/@holoviz/panel@0.12.1/dist/css/markdown.css\", \"https://unpkg.com/@holoviz/panel@0.12.1/dist/css/widgets.css\"];\n  var inline_js = [\n    function(Bokeh) {\n      inject_raw_css(\"\\n    .bk.pn-loading.arcs:before {\\n      background-image: url(\\\"data:image/svg+xml;base64,PHN2ZyB4bWxucz0iaHR0cDovL3d3dy53My5vcmcvMjAwMC9zdmciIHhtbG5zOnhsaW5rPSJodHRwOi8vd3d3LnczLm9yZy8xOTk5L3hsaW5rIiBzdHlsZT0ibWFyZ2luOiBhdXRvOyBiYWNrZ3JvdW5kOiBub25lOyBkaXNwbGF5OiBibG9jazsgc2hhcGUtcmVuZGVyaW5nOiBhdXRvOyIgdmlld0JveD0iMCAwIDEwMCAxMDAiIHByZXNlcnZlQXNwZWN0UmF0aW89InhNaWRZTWlkIj4gIDxjaXJjbGUgY3g9IjUwIiBjeT0iNTAiIHI9IjMyIiBzdHJva2Utd2lkdGg9IjgiIHN0cm9rZT0iI2MzYzNjMyIgc3Ryb2tlLWRhc2hhcnJheT0iNTAuMjY1NDgyNDU3NDM2NjkgNTAuMjY1NDgyNDU3NDM2NjkiIGZpbGw9Im5vbmUiIHN0cm9rZS1saW5lY2FwPSJyb3VuZCI+ICAgIDxhbmltYXRlVHJhbnNmb3JtIGF0dHJpYnV0ZU5hbWU9InRyYW5zZm9ybSIgdHlwZT0icm90YXRlIiByZXBlYXRDb3VudD0iaW5kZWZpbml0ZSIgZHVyPSIxcyIga2V5VGltZXM9IjA7MSIgdmFsdWVzPSIwIDUwIDUwOzM2MCA1MCA1MCI+PC9hbmltYXRlVHJhbnNmb3JtPiAgPC9jaXJjbGU+PC9zdmc+\\\")\\n    }\\n    \");\n    },\n    function(Bokeh) {\n      Bokeh.set_log_level(\"info\");\n    },\n    function(Bokeh) {} // ensure no trailing comma for IE\n  ];\n\n  function run_inline_js() {\n    if ((root.Bokeh !== undefined) || (force === true)) {\n      for (var i = 0; i < inline_js.length; i++) {\n        inline_js[i].call(root, root.Bokeh);\n      }} else if (Date.now() < root._bokeh_timeout) {\n      setTimeout(run_inline_js, 100);\n    } else if (!root._bokeh_failed_load) {\n      console.log(\"Bokeh: BokehJS failed to load within specified timeout.\");\n      root._bokeh_failed_load = true;\n    }\n  }\n\n  if (root._bokeh_is_loading === 0) {\n    console.debug(\"Bokeh: BokehJS loaded, going straight to plotting\");\n    run_inline_js();\n  } else {\n    load_libs(css_urls, js_urls, js_modules, function() {\n      console.debug(\"Bokeh: BokehJS plotting callback run at\", now());\n      run_inline_js();\n    });\n  }\n}(window));"
     },
     "metadata": {},
     "output_type": "display_data"
    },
    {
     "data": {
      "application/javascript": [
       "\n",
       "if ((window.PyViz === undefined) || (window.PyViz instanceof HTMLElement)) {\n",
       "  window.PyViz = {comms: {}, comm_status:{}, kernels:{}, receivers: {}, plot_index: []}\n",
       "}\n",
       "\n",
       "\n",
       "    function JupyterCommManager() {\n",
       "    }\n",
       "\n",
       "    JupyterCommManager.prototype.register_target = function(plot_id, comm_id, msg_handler) {\n",
       "      if (window.comm_manager || ((window.Jupyter !== undefined) && (Jupyter.notebook.kernel != null))) {\n",
       "        var comm_manager = window.comm_manager || Jupyter.notebook.kernel.comm_manager;\n",
       "        comm_manager.register_target(comm_id, function(comm) {\n",
       "          comm.on_msg(msg_handler);\n",
       "        });\n",
       "      } else if ((plot_id in window.PyViz.kernels) && (window.PyViz.kernels[plot_id])) {\n",
       "        window.PyViz.kernels[plot_id].registerCommTarget(comm_id, function(comm) {\n",
       "          comm.onMsg = msg_handler;\n",
       "        });\n",
       "      } else if (typeof google != 'undefined' && google.colab.kernel != null) {\n",
       "        google.colab.kernel.comms.registerTarget(comm_id, (comm) => {\n",
       "          var messages = comm.messages[Symbol.asyncIterator]();\n",
       "          function processIteratorResult(result) {\n",
       "            var message = result.value;\n",
       "            console.log(message)\n",
       "            var content = {data: message.data, comm_id};\n",
       "            var buffers = []\n",
       "            for (var buffer of message.buffers || []) {\n",
       "              buffers.push(new DataView(buffer))\n",
       "            }\n",
       "            var metadata = message.metadata || {};\n",
       "            var msg = {content, buffers, metadata}\n",
       "            msg_handler(msg);\n",
       "            return messages.next().then(processIteratorResult);\n",
       "          }\n",
       "          return messages.next().then(processIteratorResult);\n",
       "        })\n",
       "      }\n",
       "    }\n",
       "\n",
       "    JupyterCommManager.prototype.get_client_comm = function(plot_id, comm_id, msg_handler) {\n",
       "      if (comm_id in window.PyViz.comms) {\n",
       "        return window.PyViz.comms[comm_id];\n",
       "      } else if (window.comm_manager || ((window.Jupyter !== undefined) && (Jupyter.notebook.kernel != null))) {\n",
       "        var comm_manager = window.comm_manager || Jupyter.notebook.kernel.comm_manager;\n",
       "        var comm = comm_manager.new_comm(comm_id, {}, {}, {}, comm_id);\n",
       "        if (msg_handler) {\n",
       "          comm.on_msg(msg_handler);\n",
       "        }\n",
       "      } else if ((plot_id in window.PyViz.kernels) && (window.PyViz.kernels[plot_id])) {\n",
       "        var comm = window.PyViz.kernels[plot_id].connectToComm(comm_id);\n",
       "        comm.open();\n",
       "        if (msg_handler) {\n",
       "          comm.onMsg = msg_handler;\n",
       "        }\n",
       "      } else if (typeof google != 'undefined' && google.colab.kernel != null) {\n",
       "        var comm_promise = google.colab.kernel.comms.open(comm_id)\n",
       "        comm_promise.then((comm) => {\n",
       "          window.PyViz.comms[comm_id] = comm;\n",
       "          if (msg_handler) {\n",
       "            var messages = comm.messages[Symbol.asyncIterator]();\n",
       "            function processIteratorResult(result) {\n",
       "              var message = result.value;\n",
       "              var content = {data: message.data};\n",
       "              var metadata = message.metadata || {comm_id};\n",
       "              var msg = {content, metadata}\n",
       "              msg_handler(msg);\n",
       "              return messages.next().then(processIteratorResult);\n",
       "            }\n",
       "            return messages.next().then(processIteratorResult);\n",
       "          }\n",
       "        }) \n",
       "        var sendClosure = (data, metadata, buffers, disposeOnDone) => {\n",
       "          return comm_promise.then((comm) => {\n",
       "            comm.send(data, metadata, buffers, disposeOnDone);\n",
       "          });\n",
       "        };\n",
       "        var comm = {\n",
       "          send: sendClosure\n",
       "        };\n",
       "      }\n",
       "      window.PyViz.comms[comm_id] = comm;\n",
       "      return comm;\n",
       "    }\n",
       "    window.PyViz.comm_manager = new JupyterCommManager();\n",
       "    \n",
       "\n",
       "\n",
       "var JS_MIME_TYPE = 'application/javascript';\n",
       "var HTML_MIME_TYPE = 'text/html';\n",
       "var EXEC_MIME_TYPE = 'application/vnd.holoviews_exec.v0+json';\n",
       "var CLASS_NAME = 'output';\n",
       "\n",
       "/**\n",
       " * Render data to the DOM node\n",
       " */\n",
       "function render(props, node) {\n",
       "  var div = document.createElement(\"div\");\n",
       "  var script = document.createElement(\"script\");\n",
       "  node.appendChild(div);\n",
       "  node.appendChild(script);\n",
       "}\n",
       "\n",
       "/**\n",
       " * Handle when a new output is added\n",
       " */\n",
       "function handle_add_output(event, handle) {\n",
       "  var output_area = handle.output_area;\n",
       "  var output = handle.output;\n",
       "  if ((output.data == undefined) || (!output.data.hasOwnProperty(EXEC_MIME_TYPE))) {\n",
       "    return\n",
       "  }\n",
       "  var id = output.metadata[EXEC_MIME_TYPE][\"id\"];\n",
       "  var toinsert = output_area.element.find(\".\" + CLASS_NAME.split(' ')[0]);\n",
       "  if (id !== undefined) {\n",
       "    var nchildren = toinsert.length;\n",
       "    var html_node = toinsert[nchildren-1].children[0];\n",
       "    html_node.innerHTML = output.data[HTML_MIME_TYPE];\n",
       "    var scripts = [];\n",
       "    var nodelist = html_node.querySelectorAll(\"script\");\n",
       "    for (var i in nodelist) {\n",
       "      if (nodelist.hasOwnProperty(i)) {\n",
       "        scripts.push(nodelist[i])\n",
       "      }\n",
       "    }\n",
       "\n",
       "    scripts.forEach( function (oldScript) {\n",
       "      var newScript = document.createElement(\"script\");\n",
       "      var attrs = [];\n",
       "      var nodemap = oldScript.attributes;\n",
       "      for (var j in nodemap) {\n",
       "        if (nodemap.hasOwnProperty(j)) {\n",
       "          attrs.push(nodemap[j])\n",
       "        }\n",
       "      }\n",
       "      attrs.forEach(function(attr) { newScript.setAttribute(attr.name, attr.value) });\n",
       "      newScript.appendChild(document.createTextNode(oldScript.innerHTML));\n",
       "      oldScript.parentNode.replaceChild(newScript, oldScript);\n",
       "    });\n",
       "    if (JS_MIME_TYPE in output.data) {\n",
       "      toinsert[nchildren-1].children[1].textContent = output.data[JS_MIME_TYPE];\n",
       "    }\n",
       "    output_area._hv_plot_id = id;\n",
       "    if ((window.Bokeh !== undefined) && (id in Bokeh.index)) {\n",
       "      window.PyViz.plot_index[id] = Bokeh.index[id];\n",
       "    } else {\n",
       "      window.PyViz.plot_index[id] = null;\n",
       "    }\n",
       "  } else if (output.metadata[EXEC_MIME_TYPE][\"server_id\"] !== undefined) {\n",
       "    var bk_div = document.createElement(\"div\");\n",
       "    bk_div.innerHTML = output.data[HTML_MIME_TYPE];\n",
       "    var script_attrs = bk_div.children[0].attributes;\n",
       "    for (var i = 0; i < script_attrs.length; i++) {\n",
       "      toinsert[toinsert.length - 1].childNodes[1].setAttribute(script_attrs[i].name, script_attrs[i].value);\n",
       "    }\n",
       "    // store reference to server id on output_area\n",
       "    output_area._bokeh_server_id = output.metadata[EXEC_MIME_TYPE][\"server_id\"];\n",
       "  }\n",
       "}\n",
       "\n",
       "/**\n",
       " * Handle when an output is cleared or removed\n",
       " */\n",
       "function handle_clear_output(event, handle) {\n",
       "  var id = handle.cell.output_area._hv_plot_id;\n",
       "  var server_id = handle.cell.output_area._bokeh_server_id;\n",
       "  if (((id === undefined) || !(id in PyViz.plot_index)) && (server_id !== undefined)) { return; }\n",
       "  var comm = window.PyViz.comm_manager.get_client_comm(\"hv-extension-comm\", \"hv-extension-comm\", function () {});\n",
       "  if (server_id !== null) {\n",
       "    comm.send({event_type: 'server_delete', 'id': server_id});\n",
       "    return;\n",
       "  } else if (comm !== null) {\n",
       "    comm.send({event_type: 'delete', 'id': id});\n",
       "  }\n",
       "  delete PyViz.plot_index[id];\n",
       "  if ((window.Bokeh !== undefined) & (id in window.Bokeh.index)) {\n",
       "    var doc = window.Bokeh.index[id].model.document\n",
       "    doc.clear();\n",
       "    const i = window.Bokeh.documents.indexOf(doc);\n",
       "    if (i > -1) {\n",
       "      window.Bokeh.documents.splice(i, 1);\n",
       "    }\n",
       "  }\n",
       "}\n",
       "\n",
       "/**\n",
       " * Handle kernel restart event\n",
       " */\n",
       "function handle_kernel_cleanup(event, handle) {\n",
       "  delete PyViz.comms[\"hv-extension-comm\"];\n",
       "  window.PyViz.plot_index = {}\n",
       "}\n",
       "\n",
       "/**\n",
       " * Handle update_display_data messages\n",
       " */\n",
       "function handle_update_output(event, handle) {\n",
       "  handle_clear_output(event, {cell: {output_area: handle.output_area}})\n",
       "  handle_add_output(event, handle)\n",
       "}\n",
       "\n",
       "function register_renderer(events, OutputArea) {\n",
       "  function append_mime(data, metadata, element) {\n",
       "    // create a DOM node to render to\n",
       "    var toinsert = this.create_output_subarea(\n",
       "    metadata,\n",
       "    CLASS_NAME,\n",
       "    EXEC_MIME_TYPE\n",
       "    );\n",
       "    this.keyboard_manager.register_events(toinsert);\n",
       "    // Render to node\n",
       "    var props = {data: data, metadata: metadata[EXEC_MIME_TYPE]};\n",
       "    render(props, toinsert[0]);\n",
       "    element.append(toinsert);\n",
       "    return toinsert\n",
       "  }\n",
       "\n",
       "  events.on('output_added.OutputArea', handle_add_output);\n",
       "  events.on('output_updated.OutputArea', handle_update_output);\n",
       "  events.on('clear_output.CodeCell', handle_clear_output);\n",
       "  events.on('delete.Cell', handle_clear_output);\n",
       "  events.on('kernel_ready.Kernel', handle_kernel_cleanup);\n",
       "\n",
       "  OutputArea.prototype.register_mime_type(EXEC_MIME_TYPE, append_mime, {\n",
       "    safe: true,\n",
       "    index: 0\n",
       "  });\n",
       "}\n",
       "\n",
       "if (window.Jupyter !== undefined) {\n",
       "  try {\n",
       "    var events = require('base/js/events');\n",
       "    var OutputArea = require('notebook/js/outputarea').OutputArea;\n",
       "    if (OutputArea.prototype.mime_types().indexOf(EXEC_MIME_TYPE) == -1) {\n",
       "      register_renderer(events, OutputArea);\n",
       "    }\n",
       "  } catch(err) {\n",
       "  }\n",
       "}\n"
      ],
      "application/vnd.holoviews_load.v0+json": "\nif ((window.PyViz === undefined) || (window.PyViz instanceof HTMLElement)) {\n  window.PyViz = {comms: {}, comm_status:{}, kernels:{}, receivers: {}, plot_index: []}\n}\n\n\n    function JupyterCommManager() {\n    }\n\n    JupyterCommManager.prototype.register_target = function(plot_id, comm_id, msg_handler) {\n      if (window.comm_manager || ((window.Jupyter !== undefined) && (Jupyter.notebook.kernel != null))) {\n        var comm_manager = window.comm_manager || Jupyter.notebook.kernel.comm_manager;\n        comm_manager.register_target(comm_id, function(comm) {\n          comm.on_msg(msg_handler);\n        });\n      } else if ((plot_id in window.PyViz.kernels) && (window.PyViz.kernels[plot_id])) {\n        window.PyViz.kernels[plot_id].registerCommTarget(comm_id, function(comm) {\n          comm.onMsg = msg_handler;\n        });\n      } else if (typeof google != 'undefined' && google.colab.kernel != null) {\n        google.colab.kernel.comms.registerTarget(comm_id, (comm) => {\n          var messages = comm.messages[Symbol.asyncIterator]();\n          function processIteratorResult(result) {\n            var message = result.value;\n            console.log(message)\n            var content = {data: message.data, comm_id};\n            var buffers = []\n            for (var buffer of message.buffers || []) {\n              buffers.push(new DataView(buffer))\n            }\n            var metadata = message.metadata || {};\n            var msg = {content, buffers, metadata}\n            msg_handler(msg);\n            return messages.next().then(processIteratorResult);\n          }\n          return messages.next().then(processIteratorResult);\n        })\n      }\n    }\n\n    JupyterCommManager.prototype.get_client_comm = function(plot_id, comm_id, msg_handler) {\n      if (comm_id in window.PyViz.comms) {\n        return window.PyViz.comms[comm_id];\n      } else if (window.comm_manager || ((window.Jupyter !== undefined) && (Jupyter.notebook.kernel != null))) {\n        var comm_manager = window.comm_manager || Jupyter.notebook.kernel.comm_manager;\n        var comm = comm_manager.new_comm(comm_id, {}, {}, {}, comm_id);\n        if (msg_handler) {\n          comm.on_msg(msg_handler);\n        }\n      } else if ((plot_id in window.PyViz.kernels) && (window.PyViz.kernels[plot_id])) {\n        var comm = window.PyViz.kernels[plot_id].connectToComm(comm_id);\n        comm.open();\n        if (msg_handler) {\n          comm.onMsg = msg_handler;\n        }\n      } else if (typeof google != 'undefined' && google.colab.kernel != null) {\n        var comm_promise = google.colab.kernel.comms.open(comm_id)\n        comm_promise.then((comm) => {\n          window.PyViz.comms[comm_id] = comm;\n          if (msg_handler) {\n            var messages = comm.messages[Symbol.asyncIterator]();\n            function processIteratorResult(result) {\n              var message = result.value;\n              var content = {data: message.data};\n              var metadata = message.metadata || {comm_id};\n              var msg = {content, metadata}\n              msg_handler(msg);\n              return messages.next().then(processIteratorResult);\n            }\n            return messages.next().then(processIteratorResult);\n          }\n        }) \n        var sendClosure = (data, metadata, buffers, disposeOnDone) => {\n          return comm_promise.then((comm) => {\n            comm.send(data, metadata, buffers, disposeOnDone);\n          });\n        };\n        var comm = {\n          send: sendClosure\n        };\n      }\n      window.PyViz.comms[comm_id] = comm;\n      return comm;\n    }\n    window.PyViz.comm_manager = new JupyterCommManager();\n    \n\n\nvar JS_MIME_TYPE = 'application/javascript';\nvar HTML_MIME_TYPE = 'text/html';\nvar EXEC_MIME_TYPE = 'application/vnd.holoviews_exec.v0+json';\nvar CLASS_NAME = 'output';\n\n/**\n * Render data to the DOM node\n */\nfunction render(props, node) {\n  var div = document.createElement(\"div\");\n  var script = document.createElement(\"script\");\n  node.appendChild(div);\n  node.appendChild(script);\n}\n\n/**\n * Handle when a new output is added\n */\nfunction handle_add_output(event, handle) {\n  var output_area = handle.output_area;\n  var output = handle.output;\n  if ((output.data == undefined) || (!output.data.hasOwnProperty(EXEC_MIME_TYPE))) {\n    return\n  }\n  var id = output.metadata[EXEC_MIME_TYPE][\"id\"];\n  var toinsert = output_area.element.find(\".\" + CLASS_NAME.split(' ')[0]);\n  if (id !== undefined) {\n    var nchildren = toinsert.length;\n    var html_node = toinsert[nchildren-1].children[0];\n    html_node.innerHTML = output.data[HTML_MIME_TYPE];\n    var scripts = [];\n    var nodelist = html_node.querySelectorAll(\"script\");\n    for (var i in nodelist) {\n      if (nodelist.hasOwnProperty(i)) {\n        scripts.push(nodelist[i])\n      }\n    }\n\n    scripts.forEach( function (oldScript) {\n      var newScript = document.createElement(\"script\");\n      var attrs = [];\n      var nodemap = oldScript.attributes;\n      for (var j in nodemap) {\n        if (nodemap.hasOwnProperty(j)) {\n          attrs.push(nodemap[j])\n        }\n      }\n      attrs.forEach(function(attr) { newScript.setAttribute(attr.name, attr.value) });\n      newScript.appendChild(document.createTextNode(oldScript.innerHTML));\n      oldScript.parentNode.replaceChild(newScript, oldScript);\n    });\n    if (JS_MIME_TYPE in output.data) {\n      toinsert[nchildren-1].children[1].textContent = output.data[JS_MIME_TYPE];\n    }\n    output_area._hv_plot_id = id;\n    if ((window.Bokeh !== undefined) && (id in Bokeh.index)) {\n      window.PyViz.plot_index[id] = Bokeh.index[id];\n    } else {\n      window.PyViz.plot_index[id] = null;\n    }\n  } else if (output.metadata[EXEC_MIME_TYPE][\"server_id\"] !== undefined) {\n    var bk_div = document.createElement(\"div\");\n    bk_div.innerHTML = output.data[HTML_MIME_TYPE];\n    var script_attrs = bk_div.children[0].attributes;\n    for (var i = 0; i < script_attrs.length; i++) {\n      toinsert[toinsert.length - 1].childNodes[1].setAttribute(script_attrs[i].name, script_attrs[i].value);\n    }\n    // store reference to server id on output_area\n    output_area._bokeh_server_id = output.metadata[EXEC_MIME_TYPE][\"server_id\"];\n  }\n}\n\n/**\n * Handle when an output is cleared or removed\n */\nfunction handle_clear_output(event, handle) {\n  var id = handle.cell.output_area._hv_plot_id;\n  var server_id = handle.cell.output_area._bokeh_server_id;\n  if (((id === undefined) || !(id in PyViz.plot_index)) && (server_id !== undefined)) { return; }\n  var comm = window.PyViz.comm_manager.get_client_comm(\"hv-extension-comm\", \"hv-extension-comm\", function () {});\n  if (server_id !== null) {\n    comm.send({event_type: 'server_delete', 'id': server_id});\n    return;\n  } else if (comm !== null) {\n    comm.send({event_type: 'delete', 'id': id});\n  }\n  delete PyViz.plot_index[id];\n  if ((window.Bokeh !== undefined) & (id in window.Bokeh.index)) {\n    var doc = window.Bokeh.index[id].model.document\n    doc.clear();\n    const i = window.Bokeh.documents.indexOf(doc);\n    if (i > -1) {\n      window.Bokeh.documents.splice(i, 1);\n    }\n  }\n}\n\n/**\n * Handle kernel restart event\n */\nfunction handle_kernel_cleanup(event, handle) {\n  delete PyViz.comms[\"hv-extension-comm\"];\n  window.PyViz.plot_index = {}\n}\n\n/**\n * Handle update_display_data messages\n */\nfunction handle_update_output(event, handle) {\n  handle_clear_output(event, {cell: {output_area: handle.output_area}})\n  handle_add_output(event, handle)\n}\n\nfunction register_renderer(events, OutputArea) {\n  function append_mime(data, metadata, element) {\n    // create a DOM node to render to\n    var toinsert = this.create_output_subarea(\n    metadata,\n    CLASS_NAME,\n    EXEC_MIME_TYPE\n    );\n    this.keyboard_manager.register_events(toinsert);\n    // Render to node\n    var props = {data: data, metadata: metadata[EXEC_MIME_TYPE]};\n    render(props, toinsert[0]);\n    element.append(toinsert);\n    return toinsert\n  }\n\n  events.on('output_added.OutputArea', handle_add_output);\n  events.on('output_updated.OutputArea', handle_update_output);\n  events.on('clear_output.CodeCell', handle_clear_output);\n  events.on('delete.Cell', handle_clear_output);\n  events.on('kernel_ready.Kernel', handle_kernel_cleanup);\n\n  OutputArea.prototype.register_mime_type(EXEC_MIME_TYPE, append_mime, {\n    safe: true,\n    index: 0\n  });\n}\n\nif (window.Jupyter !== undefined) {\n  try {\n    var events = require('base/js/events');\n    var OutputArea = require('notebook/js/outputarea').OutputArea;\n    if (OutputArea.prototype.mime_types().indexOf(EXEC_MIME_TYPE) == -1) {\n      register_renderer(events, OutputArea);\n    }\n  } catch(err) {\n  }\n}\n"
     },
     "metadata": {},
     "output_type": "display_data"
    },
    {
     "data": {
      "text/plain": [
       "datetime.date(2022, 1, 20)"
      ]
     },
     "execution_count": 1,
     "metadata": {},
     "output_type": "execute_result"
    }
   ],
   "source": [
    "import pandas as pd\n",
    "import panel as pn\n",
    "import numpy as np\n",
    "from sqlalchemy import create_engine\n",
    "from datetime import date, timedelta\n",
    "import calendar\n",
    "import matplotlib.pyplot as plt\n",
    "import seaborn as sns\n",
    "%matplotlib inline\n",
    "sns.set\n",
    "\n",
    "pn.extension('tabulator')\n",
    "\n",
    "engine = create_engine(\"mysql+pymysql://root:@localhost:3306/stock\")\n",
    "const = engine.connect()\n",
    "engine = create_engine(\"sqlite:///c:\\\\ruby\\\\portmy\\\\db\\\\development.sqlite3\")\n",
    "conmy = engine.connect()\n",
    "\n",
    "data_path = \"../data/\"\n",
    "csv_path = \"\\\\Users\\\\User\\\\iCloudDrive\\\\\"\n",
    "box_path = \"\\\\Users\\\\User\\\\Dropbox\\\\\"\n",
    "\n",
    "today = date.today()\n",
    "today"
   ]
  },
  {
   "cell_type": "markdown",
   "metadata": {},
   "source": [
    "### Set today = last closed business day"
   ]
  },
  {
   "cell_type": "code",
   "execution_count": 2,
   "metadata": {},
   "outputs": [
    {
     "data": {
      "text/plain": [
       "datetime.date(2022, 1, 19)"
      ]
     },
     "execution_count": 2,
     "metadata": {},
     "output_type": "execute_result"
    }
   ],
   "source": [
    "today = today - timedelta(days=1)\n",
    "today"
   ]
  },
  {
   "cell_type": "markdown",
   "metadata": {},
   "source": [
    "### Restart and Run All Cells"
   ]
  },
  {
   "cell_type": "code",
   "execution_count": 51,
   "metadata": {},
   "outputs": [],
   "source": [
    "format_dict = {\n",
    "    'shares':'{:,}','div_rnk':'{:,}','amt_rnk':'{:,}',  \n",
    "    'price':'{:.2f}','unit_cost':'{:.2f}','mkt_price':'{:.2f}',\n",
    "    'cost_amt':'{:,.2f}','div_amt':'{:,.2f}','mkt_amt':'{:,.2f}','profit':'{:,.2f}','base_amt':'{:,.2f}',\n",
    "    'dividend':'{:.4f}',    \n",
    "    'pct':'{:,.2f}%','cost_pct':'{:,.2f}%','mkt_pct':'{:,.2f}%','pft_pct':'{:,.2f}%',\n",
    "}"
   ]
  },
  {
   "cell_type": "markdown",
   "metadata": {},
   "source": [
    "### Change period of stock in table buy"
   ]
  },
  {
   "cell_type": "code",
   "execution_count": 5,
   "metadata": {},
   "outputs": [
    {
     "data": {
      "text/html": [
       "<div>\n",
       "<style scoped>\n",
       "    .dataframe tbody tr th:only-of-type {\n",
       "        vertical-align: middle;\n",
       "    }\n",
       "\n",
       "    .dataframe tbody tr th {\n",
       "        vertical-align: top;\n",
       "    }\n",
       "\n",
       "    .dataframe thead th {\n",
       "        text-align: right;\n",
       "    }\n",
       "</style>\n",
       "<table border=\"1\" class=\"dataframe\">\n",
       "  <thead>\n",
       "    <tr style=\"text-align: right;\">\n",
       "      <th></th>\n",
       "      <th>name</th>\n",
       "      <th>date</th>\n",
       "      <th>volbuy</th>\n",
       "      <th>price</th>\n",
       "      <th>volsell</th>\n",
       "      <th>volbal</th>\n",
       "      <th>active</th>\n",
       "      <th>dividend</th>\n",
       "      <th>period</th>\n",
       "      <th>grade</th>\n",
       "    </tr>\n",
       "  </thead>\n",
       "  <tbody>\n",
       "    <tr>\n",
       "      <th>0</th>\n",
       "      <td>TOP</td>\n",
       "      <td>2021-11-26</td>\n",
       "      <td>3000.0</td>\n",
       "      <td>50.0</td>\n",
       "      <td>0.0</td>\n",
       "      <td>0.0</td>\n",
       "      <td>1</td>\n",
       "      <td>1.3</td>\n",
       "      <td>3</td>\n",
       "      <td>A4</td>\n",
       "    </tr>\n",
       "  </tbody>\n",
       "</table>\n",
       "</div>"
      ],
      "text/plain": [
       "  name        date  volbuy  price  volsell  volbal  active  dividend period  \\\n",
       "0  TOP  2021-11-26  3000.0   50.0      0.0     0.0       1       1.3      3   \n",
       "\n",
       "  grade  \n",
       "0    A4  "
      ]
     },
     "execution_count": 5,
     "metadata": {},
     "output_type": "execute_result"
    }
   ],
   "source": [
    "name = 'TOP'\n",
    "sql = \"\"\"\n",
    "SELECT * \n",
    "FROM buy \n",
    "WHERE name = '%s' \n",
    "\"\"\"\n",
    "sql = sql % name\n",
    "df = pd.read_sql(sql, const)\n",
    "df"
   ]
  },
  {
   "cell_type": "code",
   "execution_count": 6,
   "metadata": {},
   "outputs": [
    {
     "name": "stdout",
     "output_type": "stream",
     "text": [
      "\n",
      "UPDATE buy\n",
      "SET period = '3'\n",
      "WHERE name = 'TOP' \n",
      "\n"
     ]
    }
   ],
   "source": [
    "sqlUpd = \"\"\"\n",
    "UPDATE buy\n",
    "SET period = '3'\n",
    "WHERE name = '%s' \n",
    "\"\"\"\n",
    "sqlUpd = sqlUpd % name\n",
    "print(sqlUpd)"
   ]
  },
  {
   "cell_type": "code",
   "execution_count": 7,
   "metadata": {},
   "outputs": [
    {
     "data": {
      "text/plain": [
       "1"
      ]
     },
     "execution_count": 7,
     "metadata": {},
     "output_type": "execute_result"
    }
   ],
   "source": [
    "rp = const.execute(sqlUpd)\n",
    "rp.rowcount"
   ]
  },
  {
   "cell_type": "markdown",
   "metadata": {},
   "source": [
    "### Discrepancies calculation"
   ]
  },
  {
   "cell_type": "code",
   "execution_count": 8,
   "metadata": {},
   "outputs": [
    {
     "data": {
      "text/plain": [
       "(34, 9)"
      ]
     },
     "execution_count": 8,
     "metadata": {},
     "output_type": "execute_result"
    }
   ],
   "source": [
    "sql = '''\n",
    "SELECT *\n",
    "FROM buy\n",
    "WHERE active = 1'''\n",
    "df = pd.read_sql(sql, const)\n",
    "df.drop(['volsell', 'volbal'], axis=1, inplace=True)\n",
    "df.rename(columns={'volbuy': 'shares','price':'unit_cost'}, inplace=True)\n",
    "df['shares'] = df['shares'].astype('int64')\n",
    "df['cost_amt'] = df.shares * df.unit_cost\n",
    "df.shape"
   ]
  },
  {
   "cell_type": "code",
   "execution_count": 9,
   "metadata": {},
   "outputs": [
    {
     "data": {
      "text/plain": [
       "(359, 2)"
      ]
     },
     "execution_count": 9,
     "metadata": {},
     "output_type": "execute_result"
    }
   ],
   "source": [
    "sql = '''\n",
    "SELECT name, market\n",
    "FROM stocks\n",
    "ORDER BY name'''\n",
    "my_stocks = pd.read_sql(sql, conmy)\n",
    "my_stocks.shape"
   ]
  },
  {
   "cell_type": "code",
   "execution_count": 10,
   "metadata": {},
   "outputs": [],
   "source": [
    "filters = [\n",
    "   (my_stocks.market.str.contains('SET50')),\n",
    "   (my_stocks.market.str.contains('SET100')),\n",
    "   (my_stocks.market.str.contains('mai'))    \n",
    "]\n",
    "values = [450000.0,300000.0,150000.0]"
   ]
  },
  {
   "cell_type": "code",
   "execution_count": 11,
   "metadata": {},
   "outputs": [
    {
     "data": {
      "text/html": [
       "<style type=\"text/css\">\n",
       "</style>\n",
       "<table id=\"T_01126_\">\n",
       "  <thead>\n",
       "    <tr>\n",
       "      <th class=\"blank level0\" >&nbsp;</th>\n",
       "      <th class=\"col_heading level0 col0\" >name</th>\n",
       "      <th class=\"col_heading level0 col1\" >market</th>\n",
       "      <th class=\"col_heading level0 col2\" >base_amt</th>\n",
       "    </tr>\n",
       "  </thead>\n",
       "  <tbody>\n",
       "    <tr>\n",
       "      <th id=\"T_01126_level0_row0\" class=\"row_heading level0 row0\" >0</th>\n",
       "      <td id=\"T_01126_row0_col0\" class=\"data row0 col0\" >2S</td>\n",
       "      <td id=\"T_01126_row0_col1\" class=\"data row0 col1\" >SET    </td>\n",
       "      <td id=\"T_01126_row0_col2\" class=\"data row0 col2\" >150,000.00</td>\n",
       "    </tr>\n",
       "    <tr>\n",
       "      <th id=\"T_01126_level0_row1\" class=\"row_heading level0 row1\" >1</th>\n",
       "      <td id=\"T_01126_row1_col0\" class=\"data row1 col0\" >AAV</td>\n",
       "      <td id=\"T_01126_row1_col1\" class=\"data row1 col1\" >sSET / SETTHSI    </td>\n",
       "      <td id=\"T_01126_row1_col2\" class=\"data row1 col2\" >150,000.00</td>\n",
       "    </tr>\n",
       "    <tr>\n",
       "      <th id=\"T_01126_level0_row2\" class=\"row_heading level0 row2\" >2</th>\n",
       "      <td id=\"T_01126_row2_col0\" class=\"data row2 col0\" >ACE</td>\n",
       "      <td id=\"T_01126_row2_col1\" class=\"data row2 col1\" >SET100    </td>\n",
       "      <td id=\"T_01126_row2_col2\" class=\"data row2 col2\" >300,000.00</td>\n",
       "    </tr>\n",
       "    <tr>\n",
       "      <th id=\"T_01126_level0_row3\" class=\"row_heading level0 row3\" >3</th>\n",
       "      <td id=\"T_01126_row3_col0\" class=\"data row3 col0\" >ADVANC</td>\n",
       "      <td id=\"T_01126_row3_col1\" class=\"data row3 col1\" >SET50 / SETHD / SETTHSI    </td>\n",
       "      <td id=\"T_01126_row3_col2\" class=\"data row3 col2\" >450,000.00</td>\n",
       "    </tr>\n",
       "    <tr>\n",
       "      <th id=\"T_01126_level0_row4\" class=\"row_heading level0 row4\" >4</th>\n",
       "      <td id=\"T_01126_row4_col0\" class=\"data row4 col0\" >AEONTS</td>\n",
       "      <td id=\"T_01126_row4_col1\" class=\"data row4 col1\" >SET100    </td>\n",
       "      <td id=\"T_01126_row4_col2\" class=\"data row4 col2\" >300,000.00</td>\n",
       "    </tr>\n",
       "  </tbody>\n",
       "</table>\n"
      ],
      "text/plain": [
       "<pandas.io.formats.style.Styler at 0x220648cf790>"
      ]
     },
     "execution_count": 11,
     "metadata": {},
     "output_type": "execute_result"
    }
   ],
   "source": [
    "my_stocks[\"base_amt\"] = np.select(filters, values, default=150000)\n",
    "my_stocks.head().style.format(format_dict)"
   ]
  },
  {
   "cell_type": "code",
   "execution_count": 12,
   "metadata": {},
   "outputs": [
    {
     "data": {
      "text/plain": [
       "(34, 11)"
      ]
     },
     "execution_count": 12,
     "metadata": {},
     "output_type": "execute_result"
    }
   ],
   "source": [
    "df_merge = pd.merge(df, my_stocks, on='name', how='inner')\n",
    "df_merge.shape"
   ]
  },
  {
   "cell_type": "code",
   "execution_count": 13,
   "metadata": {},
   "outputs": [
    {
     "data": {
      "text/html": [
       "<style type=\"text/css\">\n",
       "</style>\n",
       "<table id=\"T_d835a_\">\n",
       "  <thead>\n",
       "    <tr>\n",
       "      <th class=\"blank level0\" >&nbsp;</th>\n",
       "      <th class=\"col_heading level0 col0\" >name</th>\n",
       "      <th class=\"col_heading level0 col1\" >period</th>\n",
       "      <th class=\"col_heading level0 col2\" >shares</th>\n",
       "      <th class=\"col_heading level0 col3\" >unit_cost</th>\n",
       "      <th class=\"col_heading level0 col4\" >cost_amt</th>\n",
       "      <th class=\"col_heading level0 col5\" >base_amt</th>\n",
       "      <th class=\"col_heading level0 col6\" >pct</th>\n",
       "    </tr>\n",
       "  </thead>\n",
       "  <tbody>\n",
       "    <tr>\n",
       "      <th id=\"T_d835a_level0_row0\" class=\"row_heading level0 row0\" >2</th>\n",
       "      <td id=\"T_d835a_row0_col0\" class=\"data row0 col0\" >IVL</td>\n",
       "      <td id=\"T_d835a_row0_col1\" class=\"data row0 col1\" >3</td>\n",
       "      <td id=\"T_d835a_row0_col2\" class=\"data row0 col2\" >12,000</td>\n",
       "      <td id=\"T_d835a_row0_col3\" class=\"data row0 col3\" >42.00</td>\n",
       "      <td id=\"T_d835a_row0_col4\" class=\"data row0 col4\" >504,000.00</td>\n",
       "      <td id=\"T_d835a_row0_col5\" class=\"data row0 col5\" >450,000.00</td>\n",
       "      <td id=\"T_d835a_row0_col6\" class=\"data row0 col6\" >112.00%</td>\n",
       "    </tr>\n",
       "    <tr>\n",
       "      <th id=\"T_d835a_level0_row1\" class=\"row_heading level0 row1\" >3</th>\n",
       "      <td id=\"T_d835a_row1_col0\" class=\"data row1 col0\" >KCE</td>\n",
       "      <td id=\"T_d835a_row1_col1\" class=\"data row1 col1\" >3</td>\n",
       "      <td id=\"T_d835a_row1_col2\" class=\"data row1 col2\" >6,000</td>\n",
       "      <td id=\"T_d835a_row1_col3\" class=\"data row1 col3\" >85.00</td>\n",
       "      <td id=\"T_d835a_row1_col4\" class=\"data row1 col4\" >510,000.00</td>\n",
       "      <td id=\"T_d835a_row1_col5\" class=\"data row1 col5\" >450,000.00</td>\n",
       "      <td id=\"T_d835a_row1_col6\" class=\"data row1 col6\" >113.33%</td>\n",
       "    </tr>\n",
       "    <tr>\n",
       "      <th id=\"T_d835a_level0_row2\" class=\"row_heading level0 row2\" >7</th>\n",
       "      <td id=\"T_d835a_row2_col0\" class=\"data row2 col0\" >GLOBAL</td>\n",
       "      <td id=\"T_d835a_row2_col1\" class=\"data row2 col1\" >3</td>\n",
       "      <td id=\"T_d835a_row2_col2\" class=\"data row2 col2\" >7,500</td>\n",
       "      <td id=\"T_d835a_row2_col3\" class=\"data row2 col3\" >20.00</td>\n",
       "      <td id=\"T_d835a_row2_col4\" class=\"data row2 col4\" >150,000.00</td>\n",
       "      <td id=\"T_d835a_row2_col5\" class=\"data row2 col5\" >450,000.00</td>\n",
       "      <td id=\"T_d835a_row2_col6\" class=\"data row2 col6\" >33.33%</td>\n",
       "    </tr>\n",
       "    <tr>\n",
       "      <th id=\"T_d835a_level0_row3\" class=\"row_heading level0 row3\" >8</th>\n",
       "      <td id=\"T_d835a_row3_col0\" class=\"data row3 col0\" >WHART</td>\n",
       "      <td id=\"T_d835a_row3_col1\" class=\"data row3 col1\" >4</td>\n",
       "      <td id=\"T_d835a_row3_col2\" class=\"data row3 col2\" >10,000</td>\n",
       "      <td id=\"T_d835a_row3_col3\" class=\"data row3 col3\" >12.50</td>\n",
       "      <td id=\"T_d835a_row3_col4\" class=\"data row3 col4\" >125,000.00</td>\n",
       "      <td id=\"T_d835a_row3_col5\" class=\"data row3 col5\" >150,000.00</td>\n",
       "      <td id=\"T_d835a_row3_col6\" class=\"data row3 col6\" >83.33%</td>\n",
       "    </tr>\n",
       "    <tr>\n",
       "      <th id=\"T_d835a_level0_row4\" class=\"row_heading level0 row4\" >9</th>\n",
       "      <td id=\"T_d835a_row4_col0\" class=\"data row4 col0\" >BCH</td>\n",
       "      <td id=\"T_d835a_row4_col1\" class=\"data row4 col1\" >3</td>\n",
       "      <td id=\"T_d835a_row4_col2\" class=\"data row4 col2\" >15,000</td>\n",
       "      <td id=\"T_d835a_row4_col3\" class=\"data row4 col3\" >21.30</td>\n",
       "      <td id=\"T_d835a_row4_col4\" class=\"data row4 col4\" >319,500.00</td>\n",
       "      <td id=\"T_d835a_row4_col5\" class=\"data row4 col5\" >300,000.00</td>\n",
       "      <td id=\"T_d835a_row4_col6\" class=\"data row4 col6\" >106.50%</td>\n",
       "    </tr>\n",
       "  </tbody>\n",
       "</table>\n"
      ],
      "text/plain": [
       "<pandas.io.formats.style.Styler at 0x220648cfdf0>"
      ]
     },
     "execution_count": 13,
     "metadata": {},
     "output_type": "execute_result"
    }
   ],
   "source": [
    "df_merge['pct'] = round(df_merge.cost_amt/df_merge.base_amt*100,2)\n",
    "mask = df.period != '2'\n",
    "df_merge[mask][cols].head().style.format(format_dict)"
   ]
  },
  {
   "cell_type": "code",
   "execution_count": 15,
   "metadata": {},
   "outputs": [
    {
     "data": {
      "text/html": [
       "<style type=\"text/css\">\n",
       "</style>\n",
       "<table id=\"T_81cee_\">\n",
       "  <thead>\n",
       "    <tr>\n",
       "      <th class=\"blank level0\" >&nbsp;</th>\n",
       "      <th class=\"col_heading level0 col0\" >name</th>\n",
       "      <th class=\"col_heading level0 col1\" >period</th>\n",
       "      <th class=\"col_heading level0 col2\" >shares</th>\n",
       "      <th class=\"col_heading level0 col3\" >unit_cost</th>\n",
       "      <th class=\"col_heading level0 col4\" >cost_amt</th>\n",
       "      <th class=\"col_heading level0 col5\" >base_amt</th>\n",
       "      <th class=\"col_heading level0 col6\" >pct</th>\n",
       "    </tr>\n",
       "  </thead>\n",
       "  <tbody>\n",
       "    <tr>\n",
       "      <th id=\"T_81cee_level0_row0\" class=\"row_heading level0 row0\" >23</th>\n",
       "      <td id=\"T_81cee_row0_col0\" class=\"data row0 col0\" >NER</td>\n",
       "      <td id=\"T_81cee_row0_col1\" class=\"data row0 col1\" >4</td>\n",
       "      <td id=\"T_81cee_row0_col2\" class=\"data row0 col2\" >36,000</td>\n",
       "      <td id=\"T_81cee_row0_col3\" class=\"data row0 col3\" >7.45</td>\n",
       "      <td id=\"T_81cee_row0_col4\" class=\"data row0 col4\" >268,200.00</td>\n",
       "      <td id=\"T_81cee_row0_col5\" class=\"data row0 col5\" >150,000.00</td>\n",
       "      <td id=\"T_81cee_row0_col6\" class=\"data row0 col6\" >178.80%</td>\n",
       "    </tr>\n",
       "    <tr>\n",
       "      <th id=\"T_81cee_level0_row1\" class=\"row_heading level0 row1\" >33</th>\n",
       "      <td id=\"T_81cee_row1_col0\" class=\"data row1 col0\" >IP</td>\n",
       "      <td id=\"T_81cee_row1_col1\" class=\"data row1 col1\" >3</td>\n",
       "      <td id=\"T_81cee_row1_col2\" class=\"data row1 col2\" >10,500</td>\n",
       "      <td id=\"T_81cee_row1_col3\" class=\"data row1 col3\" >20.20</td>\n",
       "      <td id=\"T_81cee_row1_col4\" class=\"data row1 col4\" >212,100.00</td>\n",
       "      <td id=\"T_81cee_row1_col5\" class=\"data row1 col5\" >150,000.00</td>\n",
       "      <td id=\"T_81cee_row1_col6\" class=\"data row1 col6\" >141.40%</td>\n",
       "    </tr>\n",
       "    <tr>\n",
       "      <th id=\"T_81cee_level0_row2\" class=\"row_heading level0 row2\" >3</th>\n",
       "      <td id=\"T_81cee_row2_col0\" class=\"data row2 col0\" >KCE</td>\n",
       "      <td id=\"T_81cee_row2_col1\" class=\"data row2 col1\" >3</td>\n",
       "      <td id=\"T_81cee_row2_col2\" class=\"data row2 col2\" >6,000</td>\n",
       "      <td id=\"T_81cee_row2_col3\" class=\"data row2 col3\" >85.00</td>\n",
       "      <td id=\"T_81cee_row2_col4\" class=\"data row2 col4\" >510,000.00</td>\n",
       "      <td id=\"T_81cee_row2_col5\" class=\"data row2 col5\" >450,000.00</td>\n",
       "      <td id=\"T_81cee_row2_col6\" class=\"data row2 col6\" >113.33%</td>\n",
       "    </tr>\n",
       "  </tbody>\n",
       "</table>\n"
      ],
      "text/plain": [
       "<pandas.io.formats.style.Styler at 0x2206a5f11f0>"
      ]
     },
     "execution_count": 15,
     "metadata": {},
     "output_type": "execute_result"
    }
   ],
   "source": [
    "df_merge[mask].nlargest(3, 'pct')[cols].style.format(format_dict)"
   ]
  },
  {
   "cell_type": "code",
   "execution_count": 14,
   "metadata": {},
   "outputs": [
    {
     "data": {
      "text/html": [
       "<style type=\"text/css\">\n",
       "</style>\n",
       "<table id=\"T_bdada_\">\n",
       "  <thead>\n",
       "    <tr>\n",
       "      <th class=\"blank level0\" >&nbsp;</th>\n",
       "      <th class=\"col_heading level0 col0\" >name</th>\n",
       "      <th class=\"col_heading level0 col1\" >period</th>\n",
       "      <th class=\"col_heading level0 col2\" >shares</th>\n",
       "      <th class=\"col_heading level0 col3\" >unit_cost</th>\n",
       "      <th class=\"col_heading level0 col4\" >cost_amt</th>\n",
       "      <th class=\"col_heading level0 col5\" >base_amt</th>\n",
       "      <th class=\"col_heading level0 col6\" >pct</th>\n",
       "    </tr>\n",
       "  </thead>\n",
       "  <tbody>\n",
       "    <tr>\n",
       "      <th id=\"T_bdada_level0_row0\" class=\"row_heading level0 row0\" >26</th>\n",
       "      <td id=\"T_bdada_row0_col0\" class=\"data row0 col0\" >KBANK</td>\n",
       "      <td id=\"T_bdada_row0_col1\" class=\"data row0 col1\" >4</td>\n",
       "      <td id=\"T_bdada_row0_col2\" class=\"data row0 col2\" >800</td>\n",
       "      <td id=\"T_bdada_row0_col3\" class=\"data row0 col3\" >136.50</td>\n",
       "      <td id=\"T_bdada_row0_col4\" class=\"data row0 col4\" >109,200.00</td>\n",
       "      <td id=\"T_bdada_row0_col5\" class=\"data row0 col5\" >450,000.00</td>\n",
       "      <td id=\"T_bdada_row0_col6\" class=\"data row0 col6\" >24.27%</td>\n",
       "    </tr>\n",
       "    <tr>\n",
       "      <th id=\"T_bdada_level0_row1\" class=\"row_heading level0 row1\" >7</th>\n",
       "      <td id=\"T_bdada_row1_col0\" class=\"data row1 col0\" >GLOBAL</td>\n",
       "      <td id=\"T_bdada_row1_col1\" class=\"data row1 col1\" >3</td>\n",
       "      <td id=\"T_bdada_row1_col2\" class=\"data row1 col2\" >7,500</td>\n",
       "      <td id=\"T_bdada_row1_col3\" class=\"data row1 col3\" >20.00</td>\n",
       "      <td id=\"T_bdada_row1_col4\" class=\"data row1 col4\" >150,000.00</td>\n",
       "      <td id=\"T_bdada_row1_col5\" class=\"data row1 col5\" >450,000.00</td>\n",
       "      <td id=\"T_bdada_row1_col6\" class=\"data row1 col6\" >33.33%</td>\n",
       "    </tr>\n",
       "    <tr>\n",
       "      <th id=\"T_bdada_level0_row2\" class=\"row_heading level0 row2\" >10</th>\n",
       "      <td id=\"T_bdada_row2_col0\" class=\"data row2 col0\" >TOP</td>\n",
       "      <td id=\"T_bdada_row2_col1\" class=\"data row2 col1\" >3</td>\n",
       "      <td id=\"T_bdada_row2_col2\" class=\"data row2 col2\" >3,000</td>\n",
       "      <td id=\"T_bdada_row2_col3\" class=\"data row2 col3\" >50.00</td>\n",
       "      <td id=\"T_bdada_row2_col4\" class=\"data row2 col4\" >150,000.00</td>\n",
       "      <td id=\"T_bdada_row2_col5\" class=\"data row2 col5\" >450,000.00</td>\n",
       "      <td id=\"T_bdada_row2_col6\" class=\"data row2 col6\" >33.33%</td>\n",
       "    </tr>\n",
       "  </tbody>\n",
       "</table>\n"
      ],
      "text/plain": [
       "<pandas.io.formats.style.Styler at 0x220648cfd90>"
      ]
     },
     "execution_count": 14,
     "metadata": {},
     "output_type": "execute_result"
    }
   ],
   "source": [
    "df_merge[mask].nsmallest(3, 'pct')[cols].style.format(format_dict)"
   ]
  },
  {
   "cell_type": "markdown",
   "metadata": {},
   "source": [
    "### Rank"
   ]
  },
  {
   "cell_type": "code",
   "execution_count": 30,
   "metadata": {},
   "outputs": [
    {
     "name": "stdout",
     "output_type": "stream",
     "text": [
      "\n",
      "SELECT B.name, volbuy, B.price AS unit_cost, \n",
      "dividend, P.price AS mkt_price, period\n",
      "FROM buy B JOIN price P\n",
      "ON B.name = P.name\n",
      "WHERE P.date = \"2022-01-19\"\n",
      "AND active = 1\n"
     ]
    }
   ],
   "source": [
    "sql = '''\n",
    "SELECT B.name, volbuy, B.price AS unit_cost, \n",
    "dividend, P.price AS mkt_price, period\n",
    "FROM buy B \n",
    "JOIN price P\n",
    "ON B.name = P.name\n",
    "WHERE P.date = \"%s\"\n",
    "AND active = 1'''\n",
    "sql = sql % today \n",
    "print(sql)"
   ]
  },
  {
   "cell_type": "code",
   "execution_count": 63,
   "metadata": {},
   "outputs": [],
   "source": [
    "cols = 'name period shares unit_cost cost_amt base_amt pct'.split()\n",
    "colt = 'name shares unit_cost cost_amt mkt_price mkt_amt amt_rnk mkt_pct div_rnk'.split()\n",
    "colu = 'name shares unit_cost cost_amt mkt_price mkt_amt dividend div_amt mkt_pct div_rnk amt_rnk'.split()"
   ]
  },
  {
   "cell_type": "code",
   "execution_count": 64,
   "metadata": {},
   "outputs": [
    {
     "data": {
      "text/html": [
       "<style type=\"text/css\">\n",
       "</style>\n",
       "<table id=\"T_50e9a_\">\n",
       "  <thead>\n",
       "    <tr>\n",
       "      <th class=\"blank level0\" >&nbsp;</th>\n",
       "      <th class=\"col_heading level0 col0\" >name</th>\n",
       "      <th class=\"col_heading level0 col1\" >shares</th>\n",
       "      <th class=\"col_heading level0 col2\" >unit_cost</th>\n",
       "      <th class=\"col_heading level0 col3\" >cost_amt</th>\n",
       "      <th class=\"col_heading level0 col4\" >mkt_price</th>\n",
       "      <th class=\"col_heading level0 col5\" >mkt_amt</th>\n",
       "      <th class=\"col_heading level0 col6\" >dividend</th>\n",
       "      <th class=\"col_heading level0 col7\" >div_amt</th>\n",
       "      <th class=\"col_heading level0 col8\" >mkt_pct</th>\n",
       "      <th class=\"col_heading level0 col9\" >div_rnk</th>\n",
       "      <th class=\"col_heading level0 col10\" >amt_rnk</th>\n",
       "    </tr>\n",
       "  </thead>\n",
       "  <tbody>\n",
       "    <tr>\n",
       "      <th id=\"T_50e9a_level0_row0\" class=\"row_heading level0 row0\" >0</th>\n",
       "      <td id=\"T_50e9a_row0_col0\" class=\"data row0 col0\" >STA</td>\n",
       "      <td id=\"T_50e9a_row0_col1\" class=\"data row0 col1\" >20,000</td>\n",
       "      <td id=\"T_50e9a_row0_col2\" class=\"data row0 col2\" >34.75</td>\n",
       "      <td id=\"T_50e9a_row0_col3\" class=\"data row0 col3\" >695,000.00</td>\n",
       "      <td id=\"T_50e9a_row0_col4\" class=\"data row0 col4\" >29.25</td>\n",
       "      <td id=\"T_50e9a_row0_col5\" class=\"data row0 col5\" >585,000.00</td>\n",
       "      <td id=\"T_50e9a_row0_col6\" class=\"data row0 col6\" >5.2500</td>\n",
       "      <td id=\"T_50e9a_row0_col7\" class=\"data row0 col7\" >105,000.00</td>\n",
       "      <td id=\"T_50e9a_row0_col8\" class=\"data row0 col8\" >17.95%</td>\n",
       "      <td id=\"T_50e9a_row0_col9\" class=\"data row0 col9\" >1.0</td>\n",
       "      <td id=\"T_50e9a_row0_col10\" class=\"data row0 col10\" >4.0</td>\n",
       "    </tr>\n",
       "    <tr>\n",
       "      <th id=\"T_50e9a_level0_row1\" class=\"row_heading level0 row1\" >22</th>\n",
       "      <td id=\"T_50e9a_row1_col0\" class=\"data row1 col0\" >NOBLE</td>\n",
       "      <td id=\"T_50e9a_row1_col1\" class=\"data row1 col1\" >63,000</td>\n",
       "      <td id=\"T_50e9a_row1_col2\" class=\"data row1 col2\" >7.00</td>\n",
       "      <td id=\"T_50e9a_row1_col3\" class=\"data row1 col3\" >441,000.00</td>\n",
       "      <td id=\"T_50e9a_row1_col4\" class=\"data row1 col4\" >6.35</td>\n",
       "      <td id=\"T_50e9a_row1_col5\" class=\"data row1 col5\" >400,050.00</td>\n",
       "      <td id=\"T_50e9a_row1_col6\" class=\"data row1 col6\" >0.8500</td>\n",
       "      <td id=\"T_50e9a_row1_col7\" class=\"data row1 col7\" >53,550.00</td>\n",
       "      <td id=\"T_50e9a_row1_col8\" class=\"data row1 col8\" >13.39%</td>\n",
       "      <td id=\"T_50e9a_row1_col9\" class=\"data row1 col9\" >2.0</td>\n",
       "      <td id=\"T_50e9a_row1_col10\" class=\"data row1 col10\" >8.0</td>\n",
       "    </tr>\n",
       "    <tr>\n",
       "      <th id=\"T_50e9a_level0_row2\" class=\"row_heading level0 row2\" >6</th>\n",
       "      <td id=\"T_50e9a_row2_col0\" class=\"data row2 col0\" >TMT</td>\n",
       "      <td id=\"T_50e9a_row2_col1\" class=\"data row2 col1\" >27,000</td>\n",
       "      <td id=\"T_50e9a_row2_col2\" class=\"data row2 col2\" >10.50</td>\n",
       "      <td id=\"T_50e9a_row2_col3\" class=\"data row2 col3\" >283,500.00</td>\n",
       "      <td id=\"T_50e9a_row2_col4\" class=\"data row2 col4\" >10.30</td>\n",
       "      <td id=\"T_50e9a_row2_col5\" class=\"data row2 col5\" >278,100.00</td>\n",
       "      <td id=\"T_50e9a_row2_col6\" class=\"data row2 col6\" >1.1000</td>\n",
       "      <td id=\"T_50e9a_row2_col7\" class=\"data row2 col7\" >29,700.00</td>\n",
       "      <td id=\"T_50e9a_row2_col8\" class=\"data row2 col8\" >10.68%</td>\n",
       "      <td id=\"T_50e9a_row2_col9\" class=\"data row2 col9\" >3.0</td>\n",
       "      <td id=\"T_50e9a_row2_col10\" class=\"data row2 col10\" >15.0</td>\n",
       "    </tr>\n",
       "    <tr>\n",
       "      <th id=\"T_50e9a_level0_row3\" class=\"row_heading level0 row3\" >4</th>\n",
       "      <td id=\"T_50e9a_row3_col0\" class=\"data row3 col0\" >MCS</td>\n",
       "      <td id=\"T_50e9a_row3_col1\" class=\"data row3 col1\" >60,000</td>\n",
       "      <td id=\"T_50e9a_row3_col2\" class=\"data row3 col2\" >16.70</td>\n",
       "      <td id=\"T_50e9a_row3_col3\" class=\"data row3 col3\" >1,002,000.00</td>\n",
       "      <td id=\"T_50e9a_row3_col4\" class=\"data row3 col4\" >14.50</td>\n",
       "      <td id=\"T_50e9a_row3_col5\" class=\"data row3 col5\" >870,000.00</td>\n",
       "      <td id=\"T_50e9a_row3_col6\" class=\"data row3 col6\" >1.3700</td>\n",
       "      <td id=\"T_50e9a_row3_col7\" class=\"data row3 col7\" >82,200.00</td>\n",
       "      <td id=\"T_50e9a_row3_col8\" class=\"data row3 col8\" >9.45%</td>\n",
       "      <td id=\"T_50e9a_row3_col9\" class=\"data row3 col9\" >4.0</td>\n",
       "      <td id=\"T_50e9a_row3_col10\" class=\"data row3 col10\" >2.0</td>\n",
       "    </tr>\n",
       "    <tr>\n",
       "      <th id=\"T_50e9a_level0_row4\" class=\"row_heading level0 row4\" >12</th>\n",
       "      <td id=\"T_50e9a_row4_col0\" class=\"data row4 col0\" >JASIF</td>\n",
       "      <td id=\"T_50e9a_row4_col1\" class=\"data row4 col1\" >100,000</td>\n",
       "      <td id=\"T_50e9a_row4_col2\" class=\"data row4 col2\" >10.00</td>\n",
       "      <td id=\"T_50e9a_row4_col3\" class=\"data row4 col3\" >1,000,000.00</td>\n",
       "      <td id=\"T_50e9a_row4_col4\" class=\"data row4 col4\" >10.60</td>\n",
       "      <td id=\"T_50e9a_row4_col5\" class=\"data row4 col5\" >1,060,000.00</td>\n",
       "      <td id=\"T_50e9a_row4_col6\" class=\"data row4 col6\" >0.9500</td>\n",
       "      <td id=\"T_50e9a_row4_col7\" class=\"data row4 col7\" >95,000.00</td>\n",
       "      <td id=\"T_50e9a_row4_col8\" class=\"data row4 col8\" >8.96%</td>\n",
       "      <td id=\"T_50e9a_row4_col9\" class=\"data row4 col9\" >5.0</td>\n",
       "      <td id=\"T_50e9a_row4_col10\" class=\"data row4 col10\" >1.0</td>\n",
       "    </tr>\n",
       "  </tbody>\n",
       "</table>\n"
      ],
      "text/plain": [
       "<pandas.io.formats.style.Styler at 0x2206b271520>"
      ]
     },
     "execution_count": 64,
     "metadata": {},
     "output_type": "execute_result"
    }
   ],
   "source": [
    "df = pd.read_sql(sql, const)\n",
    "df.rename(columns={'volbuy': 'shares'}, inplace=True)\n",
    "df['shares'] = df.shares.astype(int)\n",
    "df['cost_amt'] = round(df['shares'] * df['unit_cost'], 2)\n",
    "df['mkt_amt'] = round(df['shares'] * df['mkt_price'], 2)\n",
    "df['div_amt'] = round(df['shares'] * df['dividend'], 2)\n",
    "df['cost_pct'] = round(df['div_amt'] / df['cost_amt'] * 100,2)\n",
    "df['mkt_pct'] = round(df['div_amt'] / df['mkt_amt'] * 100,2)\n",
    "df['pft_pct'] = round((df['mkt_amt'] - df['cost_amt']) / df['cost_amt'] * 100,2)\n",
    "df['div_rnk'] = df.mkt_pct.rank(ascending=False)\n",
    "df['amt_rnk'] = df.mkt_amt.rank(ascending=False)\n",
    "df[colu].sort_values(['div_rnk'],ascending=[True]).head().style.format(format_dict)"
   ]
  },
  {
   "cell_type": "code",
   "execution_count": 65,
   "metadata": {
    "scrolled": false
   },
   "outputs": [
    {
     "data": {},
     "metadata": {},
     "output_type": "display_data"
    },
    {
     "data": {
      "application/vnd.holoviews_exec.v0+json": "",
      "text/html": [
       "<div id='1520'>\n",
       "\n",
       "\n",
       "\n",
       "\n",
       "\n",
       "  <div class=\"bk-root\" id=\"d4c184a6-ed6e-4ffe-a9cb-ae994db9197b\" data-root-id=\"1520\"></div>\n",
       "</div>\n",
       "<script type=\"application/javascript\">(function(root) {\n",
       "  function embed_document(root) {\n",
       "    var docs_json = {\"e57959e9-522d-46bb-8b2d-8c1e314e890b\":{\"defs\":[{\"extends\":null,\"module\":null,\"name\":\"ReactiveHTML1\",\"overrides\":[],\"properties\":[]},{\"extends\":null,\"module\":null,\"name\":\"FlexBox1\",\"overrides\":[],\"properties\":[{\"default\":\"flex-start\",\"kind\":null,\"name\":\"align_content\"},{\"default\":\"flex-start\",\"kind\":null,\"name\":\"align_items\"},{\"default\":\"row\",\"kind\":null,\"name\":\"flex_direction\"},{\"default\":\"wrap\",\"kind\":null,\"name\":\"flex_wrap\"},{\"default\":\"flex-start\",\"kind\":null,\"name\":\"justify_content\"}]},{\"extends\":null,\"module\":null,\"name\":\"TemplateActions1\",\"overrides\":[],\"properties\":[{\"default\":0,\"kind\":null,\"name\":\"open_modal\"},{\"default\":0,\"kind\":null,\"name\":\"close_modal\"}]},{\"extends\":null,\"module\":null,\"name\":\"MaterialTemplateActions1\",\"overrides\":[],\"properties\":[{\"default\":0,\"kind\":null,\"name\":\"open_modal\"},{\"default\":0,\"kind\":null,\"name\":\"close_modal\"}]}],\"roots\":{\"references\":[{\"attributes\":{\"columns\":[{\"id\":\"1472\"},{\"id\":\"1477\"},{\"id\":\"1482\"},{\"id\":\"1487\"},{\"id\":\"1492\"},{\"id\":\"1497\"},{\"id\":\"1502\"},{\"id\":\"1507\"},{\"id\":\"1512\"},{\"id\":\"1517\"}],\"configuration\":{\"columns\":[{\"field\":\"index\"},{\"field\":\"name\"},{\"field\":\"shares\"},{\"field\":\"unit_cost\"},{\"field\":\"cost_amt\"},{\"field\":\"mkt_price\"},{\"field\":\"mkt_amt\"},{\"field\":\"amt_rnk\"},{\"field\":\"mkt_pct\"},{\"field\":\"div_rnk\"}],\"dataTree\":false,\"selectable\":true},\"height\":300,\"indexes\":[\"index\"],\"margin\":[5,10,5,10],\"name\":\"\",\"page\":1,\"page_size\":20,\"selectable_rows\":null,\"source\":{\"id\":\"1467\"},\"width\":900},\"id\":\"1520\",\"type\":\"panel.models.tabulator.DataTabulator\"},{\"attributes\":{\"editor\":{\"id\":\"1471\"},\"field\":\"index\",\"formatter\":{\"id\":\"1469\"},\"title\":\"index\",\"width\":0},\"id\":\"1472\",\"type\":\"TableColumn\"},{\"attributes\":{\"format\":\"0,0.0[00000]\"},\"id\":\"1500\",\"type\":\"NumberFormatter\"},{\"attributes\":{\"format\":\"0,0.0[00000]\"},\"id\":\"1495\",\"type\":\"NumberFormatter\"},{\"attributes\":{},\"id\":\"1469\",\"type\":\"NumberFormatter\"},{\"attributes\":{\"editor\":{\"id\":\"1496\"},\"field\":\"mkt_price\",\"formatter\":{\"id\":\"1495\"},\"title\":\"mkt_price\",\"width\":0},\"id\":\"1497\",\"type\":\"TableColumn\"},{\"attributes\":{\"editor\":{\"id\":\"1481\"},\"field\":\"shares\",\"formatter\":{\"id\":\"1480\"},\"title\":\"shares\",\"width\":0},\"id\":\"1482\",\"type\":\"TableColumn\"},{\"attributes\":{\"indices\":[]},\"id\":\"1468\",\"type\":\"Selection\"},{\"attributes\":{},\"id\":\"1501\",\"type\":\"NumberEditor\"},{\"attributes\":{\"editor\":{\"id\":\"1501\"},\"field\":\"mkt_amt\",\"formatter\":{\"id\":\"1500\"},\"title\":\"mkt_amt\",\"width\":0},\"id\":\"1502\",\"type\":\"TableColumn\"},{\"attributes\":{},\"id\":\"1475\",\"type\":\"StringFormatter\"},{\"attributes\":{\"format\":\"0,0.0[00000]\"},\"id\":\"1505\",\"type\":\"NumberFormatter\"},{\"attributes\":{\"data\":{\"amt_rnk\":{\"__ndarray__\":\"AAAAAAAAEEAAAAAAAAAYQAAAAAAAABxAAAAAAAAAAEAAAAAAAADwPwAAAAAAACBAAAAAAAAACEAAAAAAAAAUQAAAAAAAACJA\",\"dtype\":\"float64\",\"order\":\"little\",\"shape\":[9]},\"cost_amt\":{\"__ndarray__\":\"AAAAALA1JUEAAAAAoOoaQQAAAACwTRFBAAAAACCULkEAAAAAgIQuQQAAAABQYxBBAAAAAKDqKkEAAAAAmCEZQQAAAADAzQdB\",\"dtype\":\"float64\",\"order\":\"little\",\"shape\":[9]},\"div_rnk\":{\"__ndarray__\":\"AAAAAAAA8D8AAAAAAAAAQAAAAAAAAAhAAAAAAAAAEEAAAAAAAAAUQAAAAAAAABhAAAAAAAAAHEAAAAAAAAAgQAAAAAAAACJA\",\"dtype\":\"float64\",\"order\":\"little\",\"shape\":[9]},\"index\":[0,22,6,4,12,16,5,1,14],\"mkt_amt\":{\"__ndarray__\":\"AAAAAFDaIUEAAAAAyGoYQQAAAABQ+RBBAAAAAOCMKkEAAAAAoCwwQQAAAADgSxBBAAAAAGDRKUEAAAAA0HEYQQAAAAAgvgdB\",\"dtype\":\"float64\",\"order\":\"little\",\"shape\":[9]},\"mkt_pct\":{\"__ndarray__\":\"MzMzMzPzMUBI4XoUrscqQFyPwvUoXCVAZmZmZmbmIkDsUbgeheshQClcj8L1KB9AmpmZmZmZHUAzMzMzMzMdQOxRuB6F6xlA\",\"dtype\":\"float64\",\"order\":\"little\",\"shape\":[9]},\"mkt_price\":{\"__ndarray__\":\"AAAAAABAPUBmZmZmZmYZQJqZmZmZmSRAAAAAAAAALUAzMzMzMzMlQM3MzMzMzCFAMzMzMzMzLEAAAAAAAEBGQAAAAAAAUFhA\",\"dtype\":\"float64\",\"order\":\"little\",\"shape\":[9]},\"name\":[\"STA\",\"NOBLE\",\"TMT\",\"MCS\",\"JASIF\",\"HREIT\",\"DIF\",\"RATCH\",\"TISCO\"],\"shares\":{\"__ndarray__\":\"IE4AABj2AAB4aQAAYOoAAKCGAQAwdQAAYOoAACgjAADQBwAA\",\"dtype\":\"int32\",\"order\":\"little\",\"shape\":[9]},\"unit_cost\":{\"__ndarray__\":\"AAAAAABgQUAAAAAAAAAcQAAAAAAAACVAMzMzMzOzMEAAAAAAAAAkQGZmZmZm5iFAZmZmZmZmLUAAAAAAAOBGQAAAAAAAYFhA\",\"dtype\":\"float64\",\"order\":\"little\",\"shape\":[9]}},\"selected\":{\"id\":\"1468\"},\"selection_policy\":{\"id\":\"1522\"}},\"id\":\"1467\",\"type\":\"ColumnDataSource\"},{\"attributes\":{},\"id\":\"1522\",\"type\":\"UnionRenderers\"},{\"attributes\":{\"format\":\"0,0.0[00000]\"},\"id\":\"1485\",\"type\":\"NumberFormatter\"},{\"attributes\":{},\"id\":\"1471\",\"type\":\"CellEditor\"},{\"attributes\":{\"format\":\"0,0.0[00000]\"},\"id\":\"1490\",\"type\":\"NumberFormatter\"},{\"attributes\":{\"editor\":{\"id\":\"1486\"},\"field\":\"unit_cost\",\"formatter\":{\"id\":\"1485\"},\"title\":\"unit_cost\",\"width\":0},\"id\":\"1487\",\"type\":\"TableColumn\"},{\"attributes\":{\"editor\":{\"id\":\"1516\"},\"field\":\"div_rnk\",\"formatter\":{\"id\":\"1515\"},\"title\":\"div_rnk\",\"width\":0},\"id\":\"1517\",\"type\":\"TableColumn\"},{\"attributes\":{},\"id\":\"1506\",\"type\":\"NumberEditor\"},{\"attributes\":{},\"id\":\"1491\",\"type\":\"NumberEditor\"},{\"attributes\":{},\"id\":\"1511\",\"type\":\"NumberEditor\"},{\"attributes\":{},\"id\":\"1496\",\"type\":\"NumberEditor\"},{\"attributes\":{},\"id\":\"1486\",\"type\":\"NumberEditor\"},{\"attributes\":{\"editor\":{\"id\":\"1491\"},\"field\":\"cost_amt\",\"formatter\":{\"id\":\"1490\"},\"title\":\"cost_amt\",\"width\":0},\"id\":\"1492\",\"type\":\"TableColumn\"},{\"attributes\":{},\"id\":\"1476\",\"type\":\"StringEditor\"},{\"attributes\":{\"editor\":{\"id\":\"1506\"},\"field\":\"amt_rnk\",\"formatter\":{\"id\":\"1505\"},\"title\":\"amt_rnk\",\"width\":0},\"id\":\"1507\",\"type\":\"TableColumn\"},{\"attributes\":{\"format\":\"0,0.0[00000]\"},\"id\":\"1510\",\"type\":\"NumberFormatter\"},{\"attributes\":{\"editor\":{\"id\":\"1476\"},\"field\":\"name\",\"formatter\":{\"id\":\"1475\"},\"title\":\"name\",\"width\":0},\"id\":\"1477\",\"type\":\"TableColumn\"},{\"attributes\":{},\"id\":\"1480\",\"type\":\"NumberFormatter\"},{\"attributes\":{\"editor\":{\"id\":\"1511\"},\"field\":\"mkt_pct\",\"formatter\":{\"id\":\"1510\"},\"title\":\"mkt_pct\",\"width\":0},\"id\":\"1512\",\"type\":\"TableColumn\"},{\"attributes\":{\"format\":\"0,0.0[00000]\"},\"id\":\"1515\",\"type\":\"NumberFormatter\"},{\"attributes\":{},\"id\":\"1516\",\"type\":\"NumberEditor\"},{\"attributes\":{\"client_comm_id\":\"494ef0e908ec4ad6986200ccd8c0d560\",\"comm_id\":\"2f22eaee79284cad8ef1ad64219d6ead\",\"plot_id\":\"1520\"},\"id\":\"1528\",\"type\":\"panel.models.comm_manager.CommManager\"},{\"attributes\":{},\"id\":\"1481\",\"type\":\"IntEditor\"}],\"root_ids\":[\"1520\",\"1528\"]},\"title\":\"Bokeh Application\",\"version\":\"2.3.3\"}};\n",
       "    var render_items = [{\"docid\":\"e57959e9-522d-46bb-8b2d-8c1e314e890b\",\"root_ids\":[\"1520\"],\"roots\":{\"1520\":\"d4c184a6-ed6e-4ffe-a9cb-ae994db9197b\"}}];\n",
       "    root.Bokeh.embed.embed_items_notebook(docs_json, render_items);\n",
       "  }\n",
       "  if (root.Bokeh !== undefined && root.Bokeh.Panel !== undefined && ( root['Tabulator'] !== undefined)) {\n",
       "    embed_document(root);\n",
       "  } else {\n",
       "    var attempts = 0;\n",
       "    var timer = setInterval(function(root) {\n",
       "      if (root.Bokeh !== undefined && root.Bokeh.Panel !== undefined && (root['Tabulator'] !== undefined)) {\n",
       "        clearInterval(timer);\n",
       "        embed_document(root);\n",
       "      } else if (document.readyState == \"complete\") {\n",
       "        attempts++;\n",
       "        if (attempts > 200) {\n",
       "          clearInterval(timer);\n",
       "          console.log(\"Bokeh: ERROR: Unable to run BokehJS code because BokehJS library is missing\");\n",
       "        }\n",
       "      }\n",
       "    }, 25, root)\n",
       "  }\n",
       "})(window);</script>"
      ],
      "text/plain": [
       "Tabulator(layout='fit_data', value=     name  shares  ..., width=900)"
      ]
     },
     "execution_count": 65,
     "metadata": {
      "application/vnd.holoviews_exec.v0+json": {
       "id": "1520"
      }
     },
     "output_type": "execute_result"
    }
   ],
   "source": [
    "df2 = df[df['period'] == '2'].copy()\n",
    "df2['div_rnk'] = df2.mkt_pct.rank(ascending=False)\n",
    "df2['amt_rnk'] = df2.mkt_amt.rank(ascending=False)\n",
    "df2_out = df2[colt].sort_values('div_rnk')\n",
    "df2_tab = pn.widgets.Tabulator(df2_out, layout='fit_data', width=900)\n",
    "df2_tab"
   ]
  },
  {
   "cell_type": "code",
   "execution_count": 19,
   "metadata": {},
   "outputs": [
    {
     "data": {
      "text/plain": [
       "490736.0"
      ]
     },
     "execution_count": 19,
     "metadata": {},
     "output_type": "execute_result"
    }
   ],
   "source": [
    "df2_out.div_amt.sum()"
   ]
  },
  {
   "cell_type": "code",
   "execution_count": 20,
   "metadata": {},
   "outputs": [
    {
     "data": {
      "text/plain": [
       "3    17\n",
       "2     9\n",
       "4     7\n",
       "1     1\n",
       "Name: period, dtype: int64"
      ]
     },
     "execution_count": 20,
     "metadata": {},
     "output_type": "execute_result"
    }
   ],
   "source": [
    "df.period.value_counts()"
   ]
  },
  {
   "cell_type": "code",
   "execution_count": 21,
   "metadata": {},
   "outputs": [
    {
     "data": {
      "text/html": [
       "<style type=\"text/css\">\n",
       "</style>\n",
       "<table id=\"T_094d7_\">\n",
       "  <thead>\n",
       "    <tr>\n",
       "      <th class=\"blank level0\" >&nbsp;</th>\n",
       "      <th class=\"col_heading level0 col0\" >period</th>\n",
       "    </tr>\n",
       "  </thead>\n",
       "  <tbody>\n",
       "    <tr>\n",
       "      <th id=\"T_094d7_level0_row0\" class=\"row_heading level0 row0\" >3</th>\n",
       "      <td id=\"T_094d7_row0_col0\" class=\"data row0 col0\" >50.0%</td>\n",
       "    </tr>\n",
       "    <tr>\n",
       "      <th id=\"T_094d7_level0_row1\" class=\"row_heading level0 row1\" >2</th>\n",
       "      <td id=\"T_094d7_row1_col0\" class=\"data row1 col0\" >26.5%</td>\n",
       "    </tr>\n",
       "    <tr>\n",
       "      <th id=\"T_094d7_level0_row2\" class=\"row_heading level0 row2\" >4</th>\n",
       "      <td id=\"T_094d7_row2_col0\" class=\"data row2 col0\" >20.6%</td>\n",
       "    </tr>\n",
       "    <tr>\n",
       "      <th id=\"T_094d7_level0_row3\" class=\"row_heading level0 row3\" >1</th>\n",
       "      <td id=\"T_094d7_row3_col0\" class=\"data row3 col0\" >2.9%</td>\n",
       "    </tr>\n",
       "  </tbody>\n",
       "</table>\n"
      ],
      "text/plain": [
       "<pandas.io.formats.style.Styler at 0x2206a6797f0>"
      ]
     },
     "execution_count": 21,
     "metadata": {},
     "output_type": "execute_result"
    }
   ],
   "source": [
    "df.period.value_counts(normalize=True).to_frame().style.format('{:.1%}')"
   ]
  },
  {
   "cell_type": "code",
   "execution_count": 22,
   "metadata": {},
   "outputs": [
    {
     "name": "stderr",
     "output_type": "stream",
     "text": [
      "C:\\ProgramData\\Anaconda3\\lib\\site-packages\\seaborn\\_decorators.py:36: FutureWarning: Pass the following variables as keyword args: x, y. From version 0.12, the only valid positional argument will be `data`, and passing other arguments without an explicit keyword will result in an error or misinterpretation.\n",
      "  warnings.warn(\n"
     ]
    },
    {
     "data": {
      "image/png": "[encoded data removed]",
      "text/plain": [
       "<Figure size 720x360 with 1 Axes>"
      ]
     },
     "metadata": {
      "needs_background": "light"
     },
     "output_type": "display_data"
    }
   ],
   "source": [
    "Period_Count =\\\n",
    "df.period.value_counts(sort=True).nlargest(3)\n",
    "plt.figure(figsize=(10,5))\n",
    "sns.barplot(Period_Count.index,\n",
    "Period_Count.values, alpha=0.8)\n",
    "plt.show()"
   ]
  },
  {
   "cell_type": "code",
   "execution_count": 66,
   "metadata": {},
   "outputs": [
    {
     "data": {},
     "metadata": {},
     "output_type": "display_data"
    },
    {
     "data": {
      "application/vnd.holoviews_exec.v0+json": "",
      "text/html": [
       "<div id='1592'>\n",
       "\n",
       "\n",
       "\n",
       "\n",
       "\n",
       "  <div class=\"bk-root\" id=\"43468402-9f96-4c79-a532-9bb6f709377e\" data-root-id=\"1592\"></div>\n",
       "</div>\n",
       "<script type=\"application/javascript\">(function(root) {\n",
       "  function embed_document(root) {\n",
       "    var docs_json = {\"b86be9cc-036f-44fb-9756-a814bccc735d\":{\"defs\":[{\"extends\":null,\"module\":null,\"name\":\"ReactiveHTML1\",\"overrides\":[],\"properties\":[]},{\"extends\":null,\"module\":null,\"name\":\"FlexBox1\",\"overrides\":[],\"properties\":[{\"default\":\"flex-start\",\"kind\":null,\"name\":\"align_content\"},{\"default\":\"flex-start\",\"kind\":null,\"name\":\"align_items\"},{\"default\":\"row\",\"kind\":null,\"name\":\"flex_direction\"},{\"default\":\"wrap\",\"kind\":null,\"name\":\"flex_wrap\"},{\"default\":\"flex-start\",\"kind\":null,\"name\":\"justify_content\"}]},{\"extends\":null,\"module\":null,\"name\":\"TemplateActions1\",\"overrides\":[],\"properties\":[{\"default\":0,\"kind\":null,\"name\":\"open_modal\"},{\"default\":0,\"kind\":null,\"name\":\"close_modal\"}]},{\"extends\":null,\"module\":null,\"name\":\"MaterialTemplateActions1\",\"overrides\":[],\"properties\":[{\"default\":0,\"kind\":null,\"name\":\"open_modal\"},{\"default\":0,\"kind\":null,\"name\":\"close_modal\"}]}],\"roots\":{\"references\":[{\"attributes\":{},\"id\":\"1578\",\"type\":\"NumberEditor\"},{\"attributes\":{},\"id\":\"1568\",\"type\":\"NumberEditor\"},{\"attributes\":{\"editor\":{\"id\":\"1553\"},\"field\":\"shares\",\"formatter\":{\"id\":\"1552\"},\"title\":\"shares\",\"width\":0},\"id\":\"1554\",\"type\":\"TableColumn\"},{\"attributes\":{\"editor\":{\"id\":\"1563\"},\"field\":\"cost_amt\",\"formatter\":{\"id\":\"1562\"},\"title\":\"cost_amt\",\"width\":0},\"id\":\"1564\",\"type\":\"TableColumn\"},{\"attributes\":{\"editor\":{\"id\":\"1578\"},\"field\":\"amt_rnk\",\"formatter\":{\"id\":\"1577\"},\"title\":\"amt_rnk\",\"width\":0},\"id\":\"1579\",\"type\":\"TableColumn\"},{\"attributes\":{\"format\":\"0,0.0[00000]\"},\"id\":\"1582\",\"type\":\"NumberFormatter\"},{\"attributes\":{\"format\":\"0,0.0[00000]\"},\"id\":\"1567\",\"type\":\"NumberFormatter\"},{\"attributes\":{\"editor\":{\"id\":\"1548\"},\"field\":\"name\",\"formatter\":{\"id\":\"1547\"},\"title\":\"name\",\"width\":0},\"id\":\"1549\",\"type\":\"TableColumn\"},{\"attributes\":{},\"id\":\"1583\",\"type\":\"NumberEditor\"},{\"attributes\":{},\"id\":\"1563\",\"type\":\"NumberEditor\"},{\"attributes\":{\"data\":{\"amt_rnk\":{\"__ndarray__\":\"AAAAAAAAKEAAAAAAAAA3QAAAAAAAADRAAAAAAAAAMUAAAAAAAAAMQAAAAAAAABRAAAAAAAAADEAAAAAAAAAkQAAAAAAAABpAAAAAAAAALEAAAAAAAAA2QAAAAAAAADlAAAAAAAAANUAAAAAAAAAzQAAAAAAAACBAAAAAAAAA8D8AAAAAAAAAQAAAAAAAABpAAAAAAAAAJkAAAAAAAAAwQAAAAAAAACJAAAAAAAAALkAAAAAAAAAyQAAAAAAAADhAAAAAAAAAKkA=\",\"dtype\":\"float64\",\"order\":\"little\",\"shape\":[25]},\"cost_amt\":{\"__ndarray__\":\"AAAAANBxCEEAAAAAgIT+QAAAAAAAFwFBAAAAAKAgAkEAAAAAECYVQQAAAABQthdBAAAAAADaFkEAAAAAoF4QQQAAAADg3BVBAAAAAIBPAkEAAAAAwKn9QAAAAAAAqfpAAAAAAABoAEEAAAAAsE0BQQAAAAAwgBNBAAAAAADDHkEAAAAAwCAfQQAAAAAA+RVBAAAAACDkCUEAAAAAgE8CQQAAAABAzBFBAAAAAIBPAkEAAAAAAI4CQQAAAABAd/tAAAAAAIDGA0E=\",\"dtype\":\"float64\",\"order\":\"little\",\"shape\":[25]},\"div_rnk\":{\"__ndarray__\":\"AAAAAAAA8D8AAAAAAAAAQAAAAAAAAAhAAAAAAAAAEEAAAAAAAAAUQAAAAAAAABhAAAAAAAAAHEAAAAAAAAAgQAAAAAAAACJAAAAAAAAAJEAAAAAAAAAmQAAAAAAAAChAAAAAAAAAKkAAAAAAAAAsQAAAAAAAAC5AAAAAAAAAMEAAAAAAAAAxQAAAAAAAADJAAAAAAAAAM0AAAAAAAAA0QAAAAAAAADVAAAAAAAAA+H8AAAAAAAD4fwAAAAAAAPh/AAAAAAAA+H8=\",\"dtype\":\"float64\",\"order\":\"little\",\"shape\":[25]},\"index\":[31,8,19,32,21,15,20,23,30,10,17,26,25,28,9,2,3,29,33,18,11,7,13,24,27],\"mkt_amt\":{\"__ndarray__\":\"AAAAAGDRCUEAAAAAgAf+QAAAAACA2ABBAAAAAHj9AUEAAAAAYGwVQQAAAADwVBVBAAAAAGBsFUEAAAAAoF4QQQAAAADA3xRBAAAAAOA5A0EAAAAAYK3/QAAAAAAAivtAAAAAAICNAEEAAAAAYAcBQQAAAABANhFBAAAAAODCIUEAAAAA4AMcQQAAAADA3xRBAAAAADCICkEAAAAAgE8CQQAAAAAAsxBBAAAAAGB+AkEAAAAAAEkBQQAAAADAqf1AAAAAAEBvBEE=\",\"dtype\":\"float64\",\"order\":\"little\",\"shape\":[25]},\"mkt_pct\":{\"__ndarray__\":\"zczMzMzMHUAAAAAAAAAbQOxRuB6F6xVAw/UoXI/CFEC4HoXrUbgUQJqZmZmZmRRAcT0K16NwEUCamZmZmZkHQArXo3A9CgVA16NwPQrXA0B7FK5H4XoCQArXo3A9CgFAUrgehetRAEDsUbgehev9Pylcj8L1KPw/AAAAAAAA/D/2KFyPwvX0P+F6FK5H4fI/exSuR+F67D9mZmZmZmbmPylcj8L1KNw/AAAAAAAA+H8AAAAAAAD4fwAAAAAAAPh/AAAAAAAA+H8=\",\"dtype\":\"float64\",\"order\":\"little\",\"shape\":[25]},\"mkt_price\":{\"__ndarray__\":\"AAAAAACAR0CamZmZmZkoQJqZmZmZmStAAAAAAABgQEAAAAAAAIBDQAAAAAAAIE1AAAAAAACAM0DNzMzMzMwdQAAAAAAAwHdAAAAAAABASkAAAAAAAKBFQAAAAAAAoGFAmpmZmZmZJkAAAAAAAAA/QM3MzMzMzDJAAAAAAABASEAAAAAAACBTQAAAAAAAAENAMzMzMzOzNEAAAAAAAAAUQM3MzMzMzDZAMzMzMzMzNEBSuB6F61EMQOxRuB6F6/k/mpmZmZmZMkA=\",\"dtype\":\"float64\",\"order\":\"little\",\"shape\":[25]},\"name\":[\"RCL\",\"WHART\",\"LPF\",\"RJH\",\"PTT\",\"PTTGC\",\"TU\",\"NER\",\"SCC\",\"TOP\",\"SIS\",\"KBANK\",\"EPG\",\"SYNEX\",\"BCH\",\"IVL\",\"KCE\",\"BGRIM\",\"IP\",\"CKP\",\"DOHOME\",\"GLOBAL\",\"TYCN\",\"TSTH\",\"IMH\"],\"shares\":{\"__ndarray__\":\"lBEAABAnAAAQJwAAlBEAACgjAABwFwAAUEYAAKCMAACEAwAAuAsAALgLAAAgAwAA4C4AAJQRAACYOgAA4C4AAHAXAAAoIwAABCkAADB1AADgLgAATB0AAECcAAD4JAEAKCMAAA==\",\"dtype\":\"int32\",\"order\":\"little\",\"shape\":[25]},\"unit_cost\":{\"__ndarray__\":\"AAAAAABARkAAAAAAAAApQAAAAAAAACxAAAAAAACAQEAAAAAAAEBDQAAAAAAAMFBAzczMzMzMNEDNzMzMzMwdQAAAAAAA4HhAAAAAAAAASUAAAAAAAEBEQAAAAAAAEGFAZmZmZmZmJkAAAAAAAIA/QM3MzMzMTDVAAAAAAAAARUAAAAAAAEBVQAAAAAAAAERAMzMzMzMzNEAAAAAAAAAUQM3MzMzMTDhAAAAAAAAANEBmZmZmZmYOQAAAAAAAAPg/AAAAAAAAMkA=\",\"dtype\":\"float64\",\"order\":\"little\",\"shape\":[25]}},\"selected\":{\"id\":\"1540\"},\"selection_policy\":{\"id\":\"1594\"}},\"id\":\"1539\",\"type\":\"ColumnDataSource\"},{\"attributes\":{\"format\":\"0,0.0[00000]\"},\"id\":\"1562\",\"type\":\"NumberFormatter\"},{\"attributes\":{\"indices\":[]},\"id\":\"1540\",\"type\":\"Selection\"},{\"attributes\":{\"editor\":{\"id\":\"1583\"},\"field\":\"mkt_pct\",\"formatter\":{\"id\":\"1582\"},\"title\":\"mkt_pct\",\"width\":0},\"id\":\"1584\",\"type\":\"TableColumn\"},{\"attributes\":{\"columns\":[{\"id\":\"1544\"},{\"id\":\"1549\"},{\"id\":\"1554\"},{\"id\":\"1559\"},{\"id\":\"1564\"},{\"id\":\"1569\"},{\"id\":\"1574\"},{\"id\":\"1579\"},{\"id\":\"1584\"},{\"id\":\"1589\"}],\"configuration\":{\"columns\":[{\"field\":\"index\"},{\"field\":\"name\"},{\"field\":\"shares\"},{\"field\":\"unit_cost\"},{\"field\":\"cost_amt\"},{\"field\":\"mkt_price\"},{\"field\":\"mkt_amt\"},{\"field\":\"amt_rnk\"},{\"field\":\"mkt_pct\"},{\"field\":\"div_rnk\"}],\"dataTree\":false,\"selectable\":true},\"height\":780,\"indexes\":[\"index\"],\"margin\":[5,10,5,10],\"name\":\"\",\"page\":1,\"page_size\":20,\"selectable_rows\":null,\"source\":{\"id\":\"1539\"},\"width\":900},\"id\":\"1592\",\"type\":\"panel.models.tabulator.DataTabulator\"},{\"attributes\":{\"format\":\"0,0.0[00000]\"},\"id\":\"1587\",\"type\":\"NumberFormatter\"},{\"attributes\":{\"format\":\"0,0.0[00000]\"},\"id\":\"1557\",\"type\":\"NumberFormatter\"},{\"attributes\":{},\"id\":\"1543\",\"type\":\"CellEditor\"},{\"attributes\":{},\"id\":\"1588\",\"type\":\"NumberEditor\"},{\"attributes\":{\"editor\":{\"id\":\"1558\"},\"field\":\"unit_cost\",\"formatter\":{\"id\":\"1557\"},\"title\":\"unit_cost\",\"width\":0},\"id\":\"1559\",\"type\":\"TableColumn\"},{\"attributes\":{\"client_comm_id\":\"c34ffe48c1504c13ab13766e2fceecf0\",\"comm_id\":\"856b84a3147a44f2bb18377ca0e5cfd2\",\"plot_id\":\"1592\"},\"id\":\"1600\",\"type\":\"panel.models.comm_manager.CommManager\"},{\"attributes\":{},\"id\":\"1541\",\"type\":\"NumberFormatter\"},{\"attributes\":{},\"id\":\"1558\",\"type\":\"NumberEditor\"},{\"attributes\":{\"editor\":{\"id\":\"1588\"},\"field\":\"div_rnk\",\"formatter\":{\"id\":\"1587\"},\"title\":\"div_rnk\",\"width\":0},\"id\":\"1589\",\"type\":\"TableColumn\"},{\"attributes\":{\"editor\":{\"id\":\"1568\"},\"field\":\"mkt_price\",\"formatter\":{\"id\":\"1567\"},\"title\":\"mkt_price\",\"width\":0},\"id\":\"1569\",\"type\":\"TableColumn\"},{\"attributes\":{\"format\":\"0,0.0[00000]\"},\"id\":\"1572\",\"type\":\"NumberFormatter\"},{\"attributes\":{},\"id\":\"1573\",\"type\":\"NumberEditor\"},{\"attributes\":{},\"id\":\"1553\",\"type\":\"IntEditor\"},{\"attributes\":{},\"id\":\"1594\",\"type\":\"UnionRenderers\"},{\"attributes\":{},\"id\":\"1552\",\"type\":\"NumberFormatter\"},{\"attributes\":{\"editor\":{\"id\":\"1543\"},\"field\":\"index\",\"formatter\":{\"id\":\"1541\"},\"title\":\"index\",\"width\":0},\"id\":\"1544\",\"type\":\"TableColumn\"},{\"attributes\":{\"editor\":{\"id\":\"1573\"},\"field\":\"mkt_amt\",\"formatter\":{\"id\":\"1572\"},\"title\":\"mkt_amt\",\"width\":0},\"id\":\"1574\",\"type\":\"TableColumn\"},{\"attributes\":{},\"id\":\"1548\",\"type\":\"StringEditor\"},{\"attributes\":{},\"id\":\"1547\",\"type\":\"StringFormatter\"},{\"attributes\":{\"format\":\"0,0.0[00000]\"},\"id\":\"1577\",\"type\":\"NumberFormatter\"}],\"root_ids\":[\"1592\",\"1600\"]},\"title\":\"Bokeh Application\",\"version\":\"2.3.3\"}};\n",
       "    var render_items = [{\"docid\":\"b86be9cc-036f-44fb-9756-a814bccc735d\",\"root_ids\":[\"1592\"],\"roots\":{\"1592\":\"43468402-9f96-4c79-a532-9bb6f709377e\"}}];\n",
       "    root.Bokeh.embed.embed_items_notebook(docs_json, render_items);\n",
       "  }\n",
       "  if (root.Bokeh !== undefined && root.Bokeh.Panel !== undefined && ( root['Tabulator'] !== undefined)) {\n",
       "    embed_document(root);\n",
       "  } else {\n",
       "    var attempts = 0;\n",
       "    var timer = setInterval(function(root) {\n",
       "      if (root.Bokeh !== undefined && root.Bokeh.Panel !== undefined && (root['Tabulator'] !== undefined)) {\n",
       "        clearInterval(timer);\n",
       "        embed_document(root);\n",
       "      } else if (document.readyState == \"complete\") {\n",
       "        attempts++;\n",
       "        if (attempts > 200) {\n",
       "          clearInterval(timer);\n",
       "          console.log(\"Bokeh: ERROR: Unable to run BokehJS code because BokehJS library is missing\");\n",
       "        }\n",
       "      }\n",
       "    }, 25, root)\n",
       "  }\n",
       "})(window);</script>"
      ],
      "text/plain": [
       "Tabulator(layout='fit_data', value=      name  shares  ..., width=900)"
      ]
     },
     "execution_count": 66,
     "metadata": {
      "application/vnd.holoviews_exec.v0+json": {
       "id": "1592"
      }
     },
     "output_type": "execute_result"
    }
   ],
   "source": [
    "df9 = df[df['period'] != '2'].copy()\n",
    "df9['div_rnk'] = df9.mkt_pct.rank(ascending=False)\n",
    "df9['amt_rnk'] = df9.mkt_amt.rank(ascending=False)\n",
    "df9_out = df9[colt].sort_values('div_rnk')\n",
    "df9_tab = pn.widgets.Tabulator(df9_out, layout='fit_data', width=900)\n",
    "df9_tab"
   ]
  },
  {
   "cell_type": "code",
   "execution_count": 24,
   "metadata": {},
   "outputs": [
    {
     "data": {
      "text/html": [
       "<style type=\"text/css\">\n",
       "</style>\n",
       "<table id=\"T_11508_\">\n",
       "  <thead>\n",
       "    <tr>\n",
       "      <th class=\"blank level0\" >&nbsp;</th>\n",
       "      <th class=\"col_heading level0 col0\" >name</th>\n",
       "      <th class=\"col_heading level0 col1\" >shares</th>\n",
       "      <th class=\"col_heading level0 col2\" >unit_cost</th>\n",
       "      <th class=\"col_heading level0 col3\" >dividend</th>\n",
       "      <th class=\"col_heading level0 col4\" >mkt_price</th>\n",
       "      <th class=\"col_heading level0 col5\" >period</th>\n",
       "      <th class=\"col_heading level0 col6\" >cost_amt</th>\n",
       "      <th class=\"col_heading level0 col7\" >mkt_amt</th>\n",
       "      <th class=\"col_heading level0 col8\" >div_amt</th>\n",
       "      <th class=\"col_heading level0 col9\" >mkt_pct</th>\n",
       "      <th class=\"col_heading level0 col10\" >cost_pct</th>\n",
       "      <th class=\"col_heading level0 col11\" >pft_pct</th>\n",
       "    </tr>\n",
       "  </thead>\n",
       "  <tbody>\n",
       "    <tr>\n",
       "      <th id=\"T_11508_level0_row0\" class=\"row_heading level0 row0\" >8</th>\n",
       "      <td id=\"T_11508_row0_col0\" class=\"data row0 col0\" >WHART</td>\n",
       "      <td id=\"T_11508_row0_col1\" class=\"data row0 col1\" >10,000</td>\n",
       "      <td id=\"T_11508_row0_col2\" class=\"data row0 col2\" >12.50</td>\n",
       "      <td id=\"T_11508_row0_col3\" class=\"data row0 col3\" >0.8298</td>\n",
       "      <td id=\"T_11508_row0_col4\" class=\"data row0 col4\" >12.30</td>\n",
       "      <td id=\"T_11508_row0_col5\" class=\"data row0 col5\" >4</td>\n",
       "      <td id=\"T_11508_row0_col6\" class=\"data row0 col6\" >125,000.00</td>\n",
       "      <td id=\"T_11508_row0_col7\" class=\"data row0 col7\" >123,000.00</td>\n",
       "      <td id=\"T_11508_row0_col8\" class=\"data row0 col8\" >8,298.00</td>\n",
       "      <td id=\"T_11508_row0_col9\" class=\"data row0 col9\" >6.75%</td>\n",
       "      <td id=\"T_11508_row0_col10\" class=\"data row0 col10\" >6.64%</td>\n",
       "      <td id=\"T_11508_row0_col11\" class=\"data row0 col11\" >-1.60%</td>\n",
       "    </tr>\n",
       "    <tr>\n",
       "      <th id=\"T_11508_level0_row1\" class=\"row_heading level0 row1\" >19</th>\n",
       "      <td id=\"T_11508_row1_col0\" class=\"data row1 col0\" >LPF</td>\n",
       "      <td id=\"T_11508_row1_col1\" class=\"data row1 col1\" >10,000</td>\n",
       "      <td id=\"T_11508_row1_col2\" class=\"data row1 col2\" >14.00</td>\n",
       "      <td id=\"T_11508_row1_col3\" class=\"data row1 col3\" >0.7565</td>\n",
       "      <td id=\"T_11508_row1_col4\" class=\"data row1 col4\" >13.80</td>\n",
       "      <td id=\"T_11508_row1_col5\" class=\"data row1 col5\" >4</td>\n",
       "      <td id=\"T_11508_row1_col6\" class=\"data row1 col6\" >140,000.00</td>\n",
       "      <td id=\"T_11508_row1_col7\" class=\"data row1 col7\" >138,000.00</td>\n",
       "      <td id=\"T_11508_row1_col8\" class=\"data row1 col8\" >7,565.00</td>\n",
       "      <td id=\"T_11508_row1_col9\" class=\"data row1 col9\" >5.48%</td>\n",
       "      <td id=\"T_11508_row1_col10\" class=\"data row1 col10\" >5.40%</td>\n",
       "      <td id=\"T_11508_row1_col11\" class=\"data row1 col11\" >-1.43%</td>\n",
       "    </tr>\n",
       "    <tr>\n",
       "      <th id=\"T_11508_level0_row2\" class=\"row_heading level0 row2\" >20</th>\n",
       "      <td id=\"T_11508_row2_col0\" class=\"data row2 col0\" >TU</td>\n",
       "      <td id=\"T_11508_row2_col1\" class=\"data row2 col1\" >18,000</td>\n",
       "      <td id=\"T_11508_row2_col2\" class=\"data row2 col2\" >20.80</td>\n",
       "      <td id=\"T_11508_row2_col3\" class=\"data row2 col3\" >0.8500</td>\n",
       "      <td id=\"T_11508_row2_col4\" class=\"data row2 col4\" >19.50</td>\n",
       "      <td id=\"T_11508_row2_col5\" class=\"data row2 col5\" >4</td>\n",
       "      <td id=\"T_11508_row2_col6\" class=\"data row2 col6\" >374,400.00</td>\n",
       "      <td id=\"T_11508_row2_col7\" class=\"data row2 col7\" >351,000.00</td>\n",
       "      <td id=\"T_11508_row2_col8\" class=\"data row2 col8\" >15,300.00</td>\n",
       "      <td id=\"T_11508_row2_col9\" class=\"data row2 col9\" >4.36%</td>\n",
       "      <td id=\"T_11508_row2_col10\" class=\"data row2 col10\" >4.09%</td>\n",
       "      <td id=\"T_11508_row2_col11\" class=\"data row2 col11\" >-6.25%</td>\n",
       "    </tr>\n",
       "    <tr>\n",
       "      <th id=\"T_11508_level0_row3\" class=\"row_heading level0 row3\" >23</th>\n",
       "      <td id=\"T_11508_row3_col0\" class=\"data row3 col0\" >NER</td>\n",
       "      <td id=\"T_11508_row3_col1\" class=\"data row3 col1\" >36,000</td>\n",
       "      <td id=\"T_11508_row3_col2\" class=\"data row3 col2\" >7.45</td>\n",
       "      <td id=\"T_11508_row3_col3\" class=\"data row3 col3\" >0.2200</td>\n",
       "      <td id=\"T_11508_row3_col4\" class=\"data row3 col4\" >7.45</td>\n",
       "      <td id=\"T_11508_row3_col5\" class=\"data row3 col5\" >4</td>\n",
       "      <td id=\"T_11508_row3_col6\" class=\"data row3 col6\" >268,200.00</td>\n",
       "      <td id=\"T_11508_row3_col7\" class=\"data row3 col7\" >268,200.00</td>\n",
       "      <td id=\"T_11508_row3_col8\" class=\"data row3 col8\" >7,920.00</td>\n",
       "      <td id=\"T_11508_row3_col9\" class=\"data row3 col9\" >2.95%</td>\n",
       "      <td id=\"T_11508_row3_col10\" class=\"data row3 col10\" >2.95%</td>\n",
       "      <td id=\"T_11508_row3_col11\" class=\"data row3 col11\" >0.00%</td>\n",
       "    </tr>\n",
       "    <tr>\n",
       "      <th id=\"T_11508_level0_row4\" class=\"row_heading level0 row4\" >26</th>\n",
       "      <td id=\"T_11508_row4_col0\" class=\"data row4 col0\" >KBANK</td>\n",
       "      <td id=\"T_11508_row4_col1\" class=\"data row4 col1\" >800</td>\n",
       "      <td id=\"T_11508_row4_col2\" class=\"data row4 col2\" >136.50</td>\n",
       "      <td id=\"T_11508_row4_col3\" class=\"data row4 col3\" >3.0000</td>\n",
       "      <td id=\"T_11508_row4_col4\" class=\"data row4 col4\" >141.00</td>\n",
       "      <td id=\"T_11508_row4_col5\" class=\"data row4 col5\" >4</td>\n",
       "      <td id=\"T_11508_row4_col6\" class=\"data row4 col6\" >109,200.00</td>\n",
       "      <td id=\"T_11508_row4_col7\" class=\"data row4 col7\" >112,800.00</td>\n",
       "      <td id=\"T_11508_row4_col8\" class=\"data row4 col8\" >2,400.00</td>\n",
       "      <td id=\"T_11508_row4_col9\" class=\"data row4 col9\" >2.13%</td>\n",
       "      <td id=\"T_11508_row4_col10\" class=\"data row4 col10\" >2.20%</td>\n",
       "      <td id=\"T_11508_row4_col11\" class=\"data row4 col11\" >3.30%</td>\n",
       "    </tr>\n",
       "  </tbody>\n",
       "</table>\n"
      ],
      "text/plain": [
       "<pandas.io.formats.style.Styler at 0x2206a5eec70>"
      ]
     },
     "execution_count": 24,
     "metadata": {},
     "output_type": "execute_result"
    }
   ],
   "source": [
    "short_term = (df.period == '4')\n",
    "df.loc[short_term].head().style.format(format_dict)"
   ]
  },
  {
   "cell_type": "code",
   "execution_count": 25,
   "metadata": {},
   "outputs": [
    {
     "data": {
      "text/plain": [
       "\"'WHART', 'LPF', 'TU', 'NER', 'KBANK', 'BGRIM', 'RJH'\""
      ]
     },
     "execution_count": 25,
     "metadata": {},
     "output_type": "execute_result"
    }
   ],
   "source": [
    "data = df.loc[short_term]\n",
    "names = data['name']\n",
    "in_p = \", \".join(map(lambda name: \"'%s'\" % name, names))\n",
    "in_p"
   ]
  },
  {
   "cell_type": "code",
   "execution_count": 26,
   "metadata": {
    "scrolled": true
   },
   "outputs": [
    {
     "name": "stdout",
     "output_type": "stream",
     "text": [
      "\n",
      "SELECT name, min_price AS min, price, max_price AS max\n",
      "FROM stocks\n",
      "WHERE name IN ('WHART', 'LPF', 'TU', 'NER', 'KBANK', 'BGRIM', 'RJH')\n"
     ]
    },
    {
     "data": {
      "text/html": [
       "<div>\n",
       "<style scoped>\n",
       "    .dataframe tbody tr th:only-of-type {\n",
       "        vertical-align: middle;\n",
       "    }\n",
       "\n",
       "    .dataframe tbody tr th {\n",
       "        vertical-align: top;\n",
       "    }\n",
       "\n",
       "    .dataframe thead th {\n",
       "        text-align: right;\n",
       "    }\n",
       "</style>\n",
       "<table border=\"1\" class=\"dataframe\">\n",
       "  <thead>\n",
       "    <tr style=\"text-align: right;\">\n",
       "      <th></th>\n",
       "      <th>min</th>\n",
       "      <th>price</th>\n",
       "      <th>max</th>\n",
       "    </tr>\n",
       "    <tr>\n",
       "      <th>name</th>\n",
       "      <th></th>\n",
       "      <th></th>\n",
       "      <th></th>\n",
       "    </tr>\n",
       "  </thead>\n",
       "  <tbody>\n",
       "    <tr>\n",
       "      <th>BGRIM</th>\n",
       "      <td>38.00</td>\n",
       "      <td>38.00</td>\n",
       "      <td>54.25</td>\n",
       "    </tr>\n",
       "    <tr>\n",
       "      <th>KBANK</th>\n",
       "      <td>101.00</td>\n",
       "      <td>141.00</td>\n",
       "      <td>153.00</td>\n",
       "    </tr>\n",
       "    <tr>\n",
       "      <th>LPF</th>\n",
       "      <td>10.30</td>\n",
       "      <td>13.80</td>\n",
       "      <td>17.10</td>\n",
       "    </tr>\n",
       "    <tr>\n",
       "      <th>NER</th>\n",
       "      <td>4.54</td>\n",
       "      <td>7.45</td>\n",
       "      <td>8.65</td>\n",
       "    </tr>\n",
       "    <tr>\n",
       "      <th>RJH</th>\n",
       "      <td>23.90</td>\n",
       "      <td>32.75</td>\n",
       "      <td>39.00</td>\n",
       "    </tr>\n",
       "    <tr>\n",
       "      <th>TU</th>\n",
       "      <td>13.40</td>\n",
       "      <td>19.50</td>\n",
       "      <td>23.00</td>\n",
       "    </tr>\n",
       "    <tr>\n",
       "      <th>WHART</th>\n",
       "      <td>10.68</td>\n",
       "      <td>12.30</td>\n",
       "      <td>14.08</td>\n",
       "    </tr>\n",
       "  </tbody>\n",
       "</table>\n",
       "</div>"
      ],
      "text/plain": [
       "          min   price     max\n",
       "name                         \n",
       "BGRIM   38.00   38.00   54.25\n",
       "KBANK  101.00  141.00  153.00\n",
       "LPF     10.30   13.80   17.10\n",
       "NER      4.54    7.45    8.65\n",
       "RJH     23.90   32.75   39.00\n",
       "TU      13.40   19.50   23.00\n",
       "WHART   10.68   12.30   14.08"
      ]
     },
     "execution_count": 26,
     "metadata": {},
     "output_type": "execute_result"
    }
   ],
   "source": [
    "sql = '''\n",
    "SELECT name, min_price AS min, price, max_price AS max\n",
    "FROM stocks\n",
    "WHERE name IN (%s)'''\n",
    "sql = sql % in_p\n",
    "print(sql)\n",
    "\n",
    "stocks = pd.read_sql(sql, conmy)\n",
    "stocks.set_index('name',inplace=True)\n",
    "stocks"
   ]
  },
  {
   "cell_type": "code",
   "execution_count": 27,
   "metadata": {},
   "outputs": [],
   "source": [
    "#stocks.drop('SCC',inplace=True)\n",
    "#stocks"
   ]
  },
  {
   "cell_type": "code",
   "execution_count": 28,
   "metadata": {},
   "outputs": [
    {
     "data": {
      "text/plain": [
       "<AxesSubplot:xlabel='name'>"
      ]
     },
     "execution_count": 28,
     "metadata": {},
     "output_type": "execute_result"
    },
    {
     "data": {
      "image/png": "[encoded data removed]",
      "text/plain": [
       "<Figure size 432x288 with 1 Axes>"
      ]
     },
     "metadata": {
      "needs_background": "light"
     },
     "output_type": "display_data"
    }
   ],
   "source": [
    "stocks.plot.bar()"
   ]
  },
  {
   "cell_type": "code",
   "execution_count": 29,
   "metadata": {},
   "outputs": [],
   "source": [
    "#stocks.reset_index('name',inplace=True)\n",
    "#sns.barplot(x='name', y='price', data=stocks)"
   ]
  },
  {
   "cell_type": "code",
   "execution_count": null,
   "metadata": {},
   "outputs": [],
   "source": []
  }
 ],
 "metadata": {
  "anaconda-cloud": {},
  "kernelspec": {
   "display_name": "Python 3 (ipykernel)",
   "language": "python",
   "name": "python3"
  },
  "language_info": {
   "codemirror_mode": {
    "name": "ipython",
    "version": 3
   },
   "file_extension": ".py",
   "mimetype": "text/x-python",
   "name": "python",
   "nbconvert_exporter": "python",
   "pygments_lexer": "ipython3",
   "version": "3.8.11"
  }
 },
 "nbformat": 4,
 "nbformat_minor": 1
}
