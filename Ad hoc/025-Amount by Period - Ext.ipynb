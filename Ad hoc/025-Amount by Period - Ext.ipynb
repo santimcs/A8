{
 "cells": [
  {
   "cell_type": "code",
   "execution_count": 1,
   "metadata": {},
   "outputs": [
    {
     "data": {
      "application/javascript": [
       "\n",
       "(function(root) {\n",
       "  function now() {\n",
       "    return new Date();\n",
       "  }\n",
       "\n",
       "  var force = true;\n",
       "\n",
       "  if (typeof root._bokeh_onload_callbacks === \"undefined\" || force === true) {\n",
       "    root._bokeh_onload_callbacks = [];\n",
       "    root._bokeh_is_loading = undefined;\n",
       "  }\n",
       "\n",
       "  if (typeof (root._bokeh_timeout) === \"undefined\" || force === true) {\n",
       "    root._bokeh_timeout = Date.now() + 5000;\n",
       "    root._bokeh_failed_load = false;\n",
       "  }\n",
       "\n",
       "  function run_callbacks() {\n",
       "    try {\n",
       "      root._bokeh_onload_callbacks.forEach(function(callback) {\n",
       "        if (callback != null)\n",
       "          callback();\n",
       "      });\n",
       "    } finally {\n",
       "      delete root._bokeh_onload_callbacks\n",
       "    }\n",
       "    console.debug(\"Bokeh: all callbacks have finished\");\n",
       "  }\n",
       "\n",
       "  function load_libs(css_urls, js_urls, js_modules, callback) {\n",
       "    if (css_urls == null) css_urls = [];\n",
       "    if (js_urls == null) js_urls = [];\n",
       "    if (js_modules == null) js_modules = [];\n",
       "\n",
       "    root._bokeh_onload_callbacks.push(callback);\n",
       "    if (root._bokeh_is_loading > 0) {\n",
       "      console.debug(\"Bokeh: BokehJS is being loaded, scheduling callback at\", now());\n",
       "      return null;\n",
       "    }\n",
       "    if (js_urls.length === 0 && js_modules.length === 0) {\n",
       "      run_callbacks();\n",
       "      return null;\n",
       "    }\n",
       "    console.debug(\"Bokeh: BokehJS not loaded, scheduling load and callback at\", now());\n",
       "    root._bokeh_is_loading = css_urls.length + js_urls.length + js_modules.length;\n",
       "\n",
       "    function on_load() {\n",
       "      root._bokeh_is_loading--;\n",
       "      if (root._bokeh_is_loading === 0) {\n",
       "        console.debug(\"Bokeh: all BokehJS libraries/stylesheets loaded\");\n",
       "        run_callbacks()\n",
       "      }\n",
       "    }\n",
       "\n",
       "    function on_error() {\n",
       "      console.error(\"failed to load \" + url);\n",
       "    }\n",
       "\n",
       "    for (var i = 0; i < css_urls.length; i++) {\n",
       "      var url = css_urls[i];\n",
       "      const element = document.createElement(\"link\");\n",
       "      element.onload = on_load;\n",
       "      element.onerror = on_error;\n",
       "      element.rel = \"stylesheet\";\n",
       "      element.type = \"text/css\";\n",
       "      element.href = url;\n",
       "      console.debug(\"Bokeh: injecting link tag for BokehJS stylesheet: \", url);\n",
       "      document.body.appendChild(element);\n",
       "    }\n",
       "\n",
       "    var skip = [];\n",
       "    if (window.requirejs) {\n",
       "      window.requirejs.config({'packages': {}, 'paths': {'tabulator': 'https://unpkg.com/tabulator-tables@4.9.3/dist/js/tabulator', 'moment': 'https://unpkg.com/moment@2.27.0/moment'}, 'shim': {}});\n",
       "      \n",
       "      require([\"tabulator\"], function(Tabulator) {\n",
       "\twindow.Tabulator = Tabulator\n",
       "      })\n",
       "      \n",
       "      require([\"moment\"], function(moment) {\n",
       "\twindow.moment = moment\n",
       "      })\n",
       "      \n",
       "    }\n",
       "    if (((window['Tabulator'] !== undefined) && (!(window['Tabulator'] instanceof HTMLElement))) || window.requirejs) {\n",
       "      var urls = ['https://unpkg.com/tabulator-tables@4.9.3/dist/js/tabulator.js'];\n",
       "      for (var i = 0; i < urls.length; i++) {\n",
       "        skip.push(urls[i])\n",
       "      }\n",
       "    }\n",
       "    if (((window['moment'] !== undefined) && (!(window['moment'] instanceof HTMLElement))) || window.requirejs) {\n",
       "      var urls = ['https://unpkg.com/moment@2.27.0/moment.js'];\n",
       "      for (var i = 0; i < urls.length; i++) {\n",
       "        skip.push(urls[i])\n",
       "      }\n",
       "    }\n",
       "    for (var i = 0; i < js_urls.length; i++) {\n",
       "      var url = js_urls[i];\n",
       "      if (skip.indexOf(url) >= 0) { on_load(); continue; }\n",
       "      var element = document.createElement('script');\n",
       "      element.onload = on_load;\n",
       "      element.onerror = on_error;\n",
       "      element.async = false;\n",
       "      element.src = url;\n",
       "      console.debug(\"Bokeh: injecting script tag for BokehJS library: \", url);\n",
       "      document.head.appendChild(element);\n",
       "    }\n",
       "    for (var i = 0; i < js_modules.length; i++) {\n",
       "      var url = js_modules[i];\n",
       "      if (skip.indexOf(url) >= 0) { on_load(); continue; }\n",
       "      var element = document.createElement('script');\n",
       "      element.onload = on_load;\n",
       "      element.onerror = on_error;\n",
       "      element.async = false;\n",
       "      element.src = url;\n",
       "      element.type = \"module\";\n",
       "      console.debug(\"Bokeh: injecting script tag for BokehJS library: \", url);\n",
       "      document.head.appendChild(element);\n",
       "    }\n",
       "    if (!js_urls.length && !js_modules.length) {\n",
       "      on_load()\n",
       "    }\n",
       "  };\n",
       "\n",
       "  function inject_raw_css(css) {\n",
       "    const element = document.createElement(\"style\");\n",
       "    element.appendChild(document.createTextNode(css));\n",
       "    document.body.appendChild(element);\n",
       "  }\n",
       "\n",
       "  var js_urls = [\"https://unpkg.com/tabulator-tables@4.9.3/dist/js/tabulator.js\", \"https://unpkg.com/moment@2.27.0/moment.js\", \"https://cdn.bokeh.org/bokeh/release/bokeh-2.3.3.min.js\", \"https://cdn.bokeh.org/bokeh/release/bokeh-widgets-2.3.3.min.js\", \"https://cdn.bokeh.org/bokeh/release/bokeh-tables-2.3.3.min.js\", \"https://unpkg.com/@holoviz/panel@0.12.1/dist/panel.min.js\"];\n",
       "  var js_modules = [];\n",
       "  var css_urls = [\"https://unpkg.com/tabulator-tables@4.9.3/dist/css/tabulator_simple.min.css\", \"https://unpkg.com/@holoviz/panel@0.12.1/dist/css/alerts.css\", \"https://unpkg.com/@holoviz/panel@0.12.1/dist/css/card.css\", \"https://unpkg.com/@holoviz/panel@0.12.1/dist/css/dataframe.css\", \"https://unpkg.com/@holoviz/panel@0.12.1/dist/css/json.css\", \"https://unpkg.com/@holoviz/panel@0.12.1/dist/css/loading.css\", \"https://unpkg.com/@holoviz/panel@0.12.1/dist/css/markdown.css\", \"https://unpkg.com/@holoviz/panel@0.12.1/dist/css/widgets.css\"];\n",
       "  var inline_js = [\n",
       "    function(Bokeh) {\n",
       "      inject_raw_css(\"\\n    .bk.pn-loading.arcs:before {\\n      background-image: url(\\\"data:image/svg+xml;base64,PHN2ZyB4bWxucz0iaHR0cDovL3d3dy53My5vcmcvMjAwMC9zdmciIHhtbG5zOnhsaW5rPSJodHRwOi8vd3d3LnczLm9yZy8xOTk5L3hsaW5rIiBzdHlsZT0ibWFyZ2luOiBhdXRvOyBiYWNrZ3JvdW5kOiBub25lOyBkaXNwbGF5OiBibG9jazsgc2hhcGUtcmVuZGVyaW5nOiBhdXRvOyIgdmlld0JveD0iMCAwIDEwMCAxMDAiIHByZXNlcnZlQXNwZWN0UmF0aW89InhNaWRZTWlkIj4gIDxjaXJjbGUgY3g9IjUwIiBjeT0iNTAiIHI9IjMyIiBzdHJva2Utd2lkdGg9IjgiIHN0cm9rZT0iI2MzYzNjMyIgc3Ryb2tlLWRhc2hhcnJheT0iNTAuMjY1NDgyNDU3NDM2NjkgNTAuMjY1NDgyNDU3NDM2NjkiIGZpbGw9Im5vbmUiIHN0cm9rZS1saW5lY2FwPSJyb3VuZCI+ICAgIDxhbmltYXRlVHJhbnNmb3JtIGF0dHJpYnV0ZU5hbWU9InRyYW5zZm9ybSIgdHlwZT0icm90YXRlIiByZXBlYXRDb3VudD0iaW5kZWZpbml0ZSIgZHVyPSIxcyIga2V5VGltZXM9IjA7MSIgdmFsdWVzPSIwIDUwIDUwOzM2MCA1MCA1MCI+PC9hbmltYXRlVHJhbnNmb3JtPiAgPC9jaXJjbGU+PC9zdmc+\\\")\\n    }\\n    \");\n",
       "    },\n",
       "    function(Bokeh) {\n",
       "      Bokeh.set_log_level(\"info\");\n",
       "    },\n",
       "    function(Bokeh) {} // ensure no trailing comma for IE\n",
       "  ];\n",
       "\n",
       "  function run_inline_js() {\n",
       "    if ((root.Bokeh !== undefined) || (force === true)) {\n",
       "      for (var i = 0; i < inline_js.length; i++) {\n",
       "        inline_js[i].call(root, root.Bokeh);\n",
       "      }} else if (Date.now() < root._bokeh_timeout) {\n",
       "      setTimeout(run_inline_js, 100);\n",
       "    } else if (!root._bokeh_failed_load) {\n",
       "      console.log(\"Bokeh: BokehJS failed to load within specified timeout.\");\n",
       "      root._bokeh_failed_load = true;\n",
       "    }\n",
       "  }\n",
       "\n",
       "  if (root._bokeh_is_loading === 0) {\n",
       "    console.debug(\"Bokeh: BokehJS loaded, going straight to plotting\");\n",
       "    run_inline_js();\n",
       "  } else {\n",
       "    load_libs(css_urls, js_urls, js_modules, function() {\n",
       "      console.debug(\"Bokeh: BokehJS plotting callback run at\", now());\n",
       "      run_inline_js();\n",
       "    });\n",
       "  }\n",
       "}(window));"
      ],
      "application/vnd.holoviews_load.v0+json": "\n(function(root) {\n  function now() {\n    return new Date();\n  }\n\n  var force = true;\n\n  if (typeof root._bokeh_onload_callbacks === \"undefined\" || force === true) {\n    root._bokeh_onload_callbacks = [];\n    root._bokeh_is_loading = undefined;\n  }\n\n  if (typeof (root._bokeh_timeout) === \"undefined\" || force === true) {\n    root._bokeh_timeout = Date.now() + 5000;\n    root._bokeh_failed_load = false;\n  }\n\n  function run_callbacks() {\n    try {\n      root._bokeh_onload_callbacks.forEach(function(callback) {\n        if (callback != null)\n          callback();\n      });\n    } finally {\n      delete root._bokeh_onload_callbacks\n    }\n    console.debug(\"Bokeh: all callbacks have finished\");\n  }\n\n  function load_libs(css_urls, js_urls, js_modules, callback) {\n    if (css_urls == null) css_urls = [];\n    if (js_urls == null) js_urls = [];\n    if (js_modules == null) js_modules = [];\n\n    root._bokeh_onload_callbacks.push(callback);\n    if (root._bokeh_is_loading > 0) {\n      console.debug(\"Bokeh: BokehJS is being loaded, scheduling callback at\", now());\n      return null;\n    }\n    if (js_urls.length === 0 && js_modules.length === 0) {\n      run_callbacks();\n      return null;\n    }\n    console.debug(\"Bokeh: BokehJS not loaded, scheduling load and callback at\", now());\n    root._bokeh_is_loading = css_urls.length + js_urls.length + js_modules.length;\n\n    function on_load() {\n      root._bokeh_is_loading--;\n      if (root._bokeh_is_loading === 0) {\n        console.debug(\"Bokeh: all BokehJS libraries/stylesheets loaded\");\n        run_callbacks()\n      }\n    }\n\n    function on_error() {\n      console.error(\"failed to load \" + url);\n    }\n\n    for (var i = 0; i < css_urls.length; i++) {\n      var url = css_urls[i];\n      const element = document.createElement(\"link\");\n      element.onload = on_load;\n      element.onerror = on_error;\n      element.rel = \"stylesheet\";\n      element.type = \"text/css\";\n      element.href = url;\n      console.debug(\"Bokeh: injecting link tag for BokehJS stylesheet: \", url);\n      document.body.appendChild(element);\n    }\n\n    var skip = [];\n    if (window.requirejs) {\n      window.requirejs.config({'packages': {}, 'paths': {'tabulator': 'https://unpkg.com/tabulator-tables@4.9.3/dist/js/tabulator', 'moment': 'https://unpkg.com/moment@2.27.0/moment'}, 'shim': {}});\n      \n      require([\"tabulator\"], function(Tabulator) {\n\twindow.Tabulator = Tabulator\n      })\n      \n      require([\"moment\"], function(moment) {\n\twindow.moment = moment\n      })\n      \n    }\n    if (((window['Tabulator'] !== undefined) && (!(window['Tabulator'] instanceof HTMLElement))) || window.requirejs) {\n      var urls = ['https://unpkg.com/tabulator-tables@4.9.3/dist/js/tabulator.js'];\n      for (var i = 0; i < urls.length; i++) {\n        skip.push(urls[i])\n      }\n    }\n    if (((window['moment'] !== undefined) && (!(window['moment'] instanceof HTMLElement))) || window.requirejs) {\n      var urls = ['https://unpkg.com/moment@2.27.0/moment.js'];\n      for (var i = 0; i < urls.length; i++) {\n        skip.push(urls[i])\n      }\n    }\n    for (var i = 0; i < js_urls.length; i++) {\n      var url = js_urls[i];\n      if (skip.indexOf(url) >= 0) { on_load(); continue; }\n      var element = document.createElement('script');\n      element.onload = on_load;\n      element.onerror = on_error;\n      element.async = false;\n      element.src = url;\n      console.debug(\"Bokeh: injecting script tag for BokehJS library: \", url);\n      document.head.appendChild(element);\n    }\n    for (var i = 0; i < js_modules.length; i++) {\n      var url = js_modules[i];\n      if (skip.indexOf(url) >= 0) { on_load(); continue; }\n      var element = document.createElement('script');\n      element.onload = on_load;\n      element.onerror = on_error;\n      element.async = false;\n      element.src = url;\n      element.type = \"module\";\n      console.debug(\"Bokeh: injecting script tag for BokehJS library: \", url);\n      document.head.appendChild(element);\n    }\n    if (!js_urls.length && !js_modules.length) {\n      on_load()\n    }\n  };\n\n  function inject_raw_css(css) {\n    const element = document.createElement(\"style\");\n    element.appendChild(document.createTextNode(css));\n    document.body.appendChild(element);\n  }\n\n  var js_urls = [\"https://unpkg.com/tabulator-tables@4.9.3/dist/js/tabulator.js\", \"https://unpkg.com/moment@2.27.0/moment.js\", \"https://cdn.bokeh.org/bokeh/release/bokeh-2.3.3.min.js\", \"https://cdn.bokeh.org/bokeh/release/bokeh-widgets-2.3.3.min.js\", \"https://cdn.bokeh.org/bokeh/release/bokeh-tables-2.3.3.min.js\", \"https://unpkg.com/@holoviz/panel@0.12.1/dist/panel.min.js\"];\n  var js_modules = [];\n  var css_urls = [\"https://unpkg.com/tabulator-tables@4.9.3/dist/css/tabulator_simple.min.css\", \"https://unpkg.com/@holoviz/panel@0.12.1/dist/css/alerts.css\", \"https://unpkg.com/@holoviz/panel@0.12.1/dist/css/card.css\", \"https://unpkg.com/@holoviz/panel@0.12.1/dist/css/dataframe.css\", \"https://unpkg.com/@holoviz/panel@0.12.1/dist/css/json.css\", \"https://unpkg.com/@holoviz/panel@0.12.1/dist/css/loading.css\", \"https://unpkg.com/@holoviz/panel@0.12.1/dist/css/markdown.css\", \"https://unpkg.com/@holoviz/panel@0.12.1/dist/css/widgets.css\"];\n  var inline_js = [\n    function(Bokeh) {\n      inject_raw_css(\"\\n    .bk.pn-loading.arcs:before {\\n      background-image: url(\\\"data:image/svg+xml;base64,PHN2ZyB4bWxucz0iaHR0cDovL3d3dy53My5vcmcvMjAwMC9zdmciIHhtbG5zOnhsaW5rPSJodHRwOi8vd3d3LnczLm9yZy8xOTk5L3hsaW5rIiBzdHlsZT0ibWFyZ2luOiBhdXRvOyBiYWNrZ3JvdW5kOiBub25lOyBkaXNwbGF5OiBibG9jazsgc2hhcGUtcmVuZGVyaW5nOiBhdXRvOyIgdmlld0JveD0iMCAwIDEwMCAxMDAiIHByZXNlcnZlQXNwZWN0UmF0aW89InhNaWRZTWlkIj4gIDxjaXJjbGUgY3g9IjUwIiBjeT0iNTAiIHI9IjMyIiBzdHJva2Utd2lkdGg9IjgiIHN0cm9rZT0iI2MzYzNjMyIgc3Ryb2tlLWRhc2hhcnJheT0iNTAuMjY1NDgyNDU3NDM2NjkgNTAuMjY1NDgyNDU3NDM2NjkiIGZpbGw9Im5vbmUiIHN0cm9rZS1saW5lY2FwPSJyb3VuZCI+ICAgIDxhbmltYXRlVHJhbnNmb3JtIGF0dHJpYnV0ZU5hbWU9InRyYW5zZm9ybSIgdHlwZT0icm90YXRlIiByZXBlYXRDb3VudD0iaW5kZWZpbml0ZSIgZHVyPSIxcyIga2V5VGltZXM9IjA7MSIgdmFsdWVzPSIwIDUwIDUwOzM2MCA1MCA1MCI+PC9hbmltYXRlVHJhbnNmb3JtPiAgPC9jaXJjbGU+PC9zdmc+\\\")\\n    }\\n    \");\n    },\n    function(Bokeh) {\n      Bokeh.set_log_level(\"info\");\n    },\n    function(Bokeh) {} // ensure no trailing comma for IE\n  ];\n\n  function run_inline_js() {\n    if ((root.Bokeh !== undefined) || (force === true)) {\n      for (var i = 0; i < inline_js.length; i++) {\n        inline_js[i].call(root, root.Bokeh);\n      }} else if (Date.now() < root._bokeh_timeout) {\n      setTimeout(run_inline_js, 100);\n    } else if (!root._bokeh_failed_load) {\n      console.log(\"Bokeh: BokehJS failed to load within specified timeout.\");\n      root._bokeh_failed_load = true;\n    }\n  }\n\n  if (root._bokeh_is_loading === 0) {\n    console.debug(\"Bokeh: BokehJS loaded, going straight to plotting\");\n    run_inline_js();\n  } else {\n    load_libs(css_urls, js_urls, js_modules, function() {\n      console.debug(\"Bokeh: BokehJS plotting callback run at\", now());\n      run_inline_js();\n    });\n  }\n}(window));"
     },
     "metadata": {},
     "output_type": "display_data"
    },
    {
     "data": {
      "application/javascript": [
       "\n",
       "if ((window.PyViz === undefined) || (window.PyViz instanceof HTMLElement)) {\n",
       "  window.PyViz = {comms: {}, comm_status:{}, kernels:{}, receivers: {}, plot_index: []}\n",
       "}\n",
       "\n",
       "\n",
       "    function JupyterCommManager() {\n",
       "    }\n",
       "\n",
       "    JupyterCommManager.prototype.register_target = function(plot_id, comm_id, msg_handler) {\n",
       "      if (window.comm_manager || ((window.Jupyter !== undefined) && (Jupyter.notebook.kernel != null))) {\n",
       "        var comm_manager = window.comm_manager || Jupyter.notebook.kernel.comm_manager;\n",
       "        comm_manager.register_target(comm_id, function(comm) {\n",
       "          comm.on_msg(msg_handler);\n",
       "        });\n",
       "      } else if ((plot_id in window.PyViz.kernels) && (window.PyViz.kernels[plot_id])) {\n",
       "        window.PyViz.kernels[plot_id].registerCommTarget(comm_id, function(comm) {\n",
       "          comm.onMsg = msg_handler;\n",
       "        });\n",
       "      } else if (typeof google != 'undefined' && google.colab.kernel != null) {\n",
       "        google.colab.kernel.comms.registerTarget(comm_id, (comm) => {\n",
       "          var messages = comm.messages[Symbol.asyncIterator]();\n",
       "          function processIteratorResult(result) {\n",
       "            var message = result.value;\n",
       "            console.log(message)\n",
       "            var content = {data: message.data, comm_id};\n",
       "            var buffers = []\n",
       "            for (var buffer of message.buffers || []) {\n",
       "              buffers.push(new DataView(buffer))\n",
       "            }\n",
       "            var metadata = message.metadata || {};\n",
       "            var msg = {content, buffers, metadata}\n",
       "            msg_handler(msg);\n",
       "            return messages.next().then(processIteratorResult);\n",
       "          }\n",
       "          return messages.next().then(processIteratorResult);\n",
       "        })\n",
       "      }\n",
       "    }\n",
       "\n",
       "    JupyterCommManager.prototype.get_client_comm = function(plot_id, comm_id, msg_handler) {\n",
       "      if (comm_id in window.PyViz.comms) {\n",
       "        return window.PyViz.comms[comm_id];\n",
       "      } else if (window.comm_manager || ((window.Jupyter !== undefined) && (Jupyter.notebook.kernel != null))) {\n",
       "        var comm_manager = window.comm_manager || Jupyter.notebook.kernel.comm_manager;\n",
       "        var comm = comm_manager.new_comm(comm_id, {}, {}, {}, comm_id);\n",
       "        if (msg_handler) {\n",
       "          comm.on_msg(msg_handler);\n",
       "        }\n",
       "      } else if ((plot_id in window.PyViz.kernels) && (window.PyViz.kernels[plot_id])) {\n",
       "        var comm = window.PyViz.kernels[plot_id].connectToComm(comm_id);\n",
       "        comm.open();\n",
       "        if (msg_handler) {\n",
       "          comm.onMsg = msg_handler;\n",
       "        }\n",
       "      } else if (typeof google != 'undefined' && google.colab.kernel != null) {\n",
       "        var comm_promise = google.colab.kernel.comms.open(comm_id)\n",
       "        comm_promise.then((comm) => {\n",
       "          window.PyViz.comms[comm_id] = comm;\n",
       "          if (msg_handler) {\n",
       "            var messages = comm.messages[Symbol.asyncIterator]();\n",
       "            function processIteratorResult(result) {\n",
       "              var message = result.value;\n",
       "              var content = {data: message.data};\n",
       "              var metadata = message.metadata || {comm_id};\n",
       "              var msg = {content, metadata}\n",
       "              msg_handler(msg);\n",
       "              return messages.next().then(processIteratorResult);\n",
       "            }\n",
       "            return messages.next().then(processIteratorResult);\n",
       "          }\n",
       "        }) \n",
       "        var sendClosure = (data, metadata, buffers, disposeOnDone) => {\n",
       "          return comm_promise.then((comm) => {\n",
       "            comm.send(data, metadata, buffers, disposeOnDone);\n",
       "          });\n",
       "        };\n",
       "        var comm = {\n",
       "          send: sendClosure\n",
       "        };\n",
       "      }\n",
       "      window.PyViz.comms[comm_id] = comm;\n",
       "      return comm;\n",
       "    }\n",
       "    window.PyViz.comm_manager = new JupyterCommManager();\n",
       "    \n",
       "\n",
       "\n",
       "var JS_MIME_TYPE = 'application/javascript';\n",
       "var HTML_MIME_TYPE = 'text/html';\n",
       "var EXEC_MIME_TYPE = 'application/vnd.holoviews_exec.v0+json';\n",
       "var CLASS_NAME = 'output';\n",
       "\n",
       "/**\n",
       " * Render data to the DOM node\n",
       " */\n",
       "function render(props, node) {\n",
       "  var div = document.createElement(\"div\");\n",
       "  var script = document.createElement(\"script\");\n",
       "  node.appendChild(div);\n",
       "  node.appendChild(script);\n",
       "}\n",
       "\n",
       "/**\n",
       " * Handle when a new output is added\n",
       " */\n",
       "function handle_add_output(event, handle) {\n",
       "  var output_area = handle.output_area;\n",
       "  var output = handle.output;\n",
       "  if ((output.data == undefined) || (!output.data.hasOwnProperty(EXEC_MIME_TYPE))) {\n",
       "    return\n",
       "  }\n",
       "  var id = output.metadata[EXEC_MIME_TYPE][\"id\"];\n",
       "  var toinsert = output_area.element.find(\".\" + CLASS_NAME.split(' ')[0]);\n",
       "  if (id !== undefined) {\n",
       "    var nchildren = toinsert.length;\n",
       "    var html_node = toinsert[nchildren-1].children[0];\n",
       "    html_node.innerHTML = output.data[HTML_MIME_TYPE];\n",
       "    var scripts = [];\n",
       "    var nodelist = html_node.querySelectorAll(\"script\");\n",
       "    for (var i in nodelist) {\n",
       "      if (nodelist.hasOwnProperty(i)) {\n",
       "        scripts.push(nodelist[i])\n",
       "      }\n",
       "    }\n",
       "\n",
       "    scripts.forEach( function (oldScript) {\n",
       "      var newScript = document.createElement(\"script\");\n",
       "      var attrs = [];\n",
       "      var nodemap = oldScript.attributes;\n",
       "      for (var j in nodemap) {\n",
       "        if (nodemap.hasOwnProperty(j)) {\n",
       "          attrs.push(nodemap[j])\n",
       "        }\n",
       "      }\n",
       "      attrs.forEach(function(attr) { newScript.setAttribute(attr.name, attr.value) });\n",
       "      newScript.appendChild(document.createTextNode(oldScript.innerHTML));\n",
       "      oldScript.parentNode.replaceChild(newScript, oldScript);\n",
       "    });\n",
       "    if (JS_MIME_TYPE in output.data) {\n",
       "      toinsert[nchildren-1].children[1].textContent = output.data[JS_MIME_TYPE];\n",
       "    }\n",
       "    output_area._hv_plot_id = id;\n",
       "    if ((window.Bokeh !== undefined) && (id in Bokeh.index)) {\n",
       "      window.PyViz.plot_index[id] = Bokeh.index[id];\n",
       "    } else {\n",
       "      window.PyViz.plot_index[id] = null;\n",
       "    }\n",
       "  } else if (output.metadata[EXEC_MIME_TYPE][\"server_id\"] !== undefined) {\n",
       "    var bk_div = document.createElement(\"div\");\n",
       "    bk_div.innerHTML = output.data[HTML_MIME_TYPE];\n",
       "    var script_attrs = bk_div.children[0].attributes;\n",
       "    for (var i = 0; i < script_attrs.length; i++) {\n",
       "      toinsert[toinsert.length - 1].childNodes[1].setAttribute(script_attrs[i].name, script_attrs[i].value);\n",
       "    }\n",
       "    // store reference to server id on output_area\n",
       "    output_area._bokeh_server_id = output.metadata[EXEC_MIME_TYPE][\"server_id\"];\n",
       "  }\n",
       "}\n",
       "\n",
       "/**\n",
       " * Handle when an output is cleared or removed\n",
       " */\n",
       "function handle_clear_output(event, handle) {\n",
       "  var id = handle.cell.output_area._hv_plot_id;\n",
       "  var server_id = handle.cell.output_area._bokeh_server_id;\n",
       "  if (((id === undefined) || !(id in PyViz.plot_index)) && (server_id !== undefined)) { return; }\n",
       "  var comm = window.PyViz.comm_manager.get_client_comm(\"hv-extension-comm\", \"hv-extension-comm\", function () {});\n",
       "  if (server_id !== null) {\n",
       "    comm.send({event_type: 'server_delete', 'id': server_id});\n",
       "    return;\n",
       "  } else if (comm !== null) {\n",
       "    comm.send({event_type: 'delete', 'id': id});\n",
       "  }\n",
       "  delete PyViz.plot_index[id];\n",
       "  if ((window.Bokeh !== undefined) & (id in window.Bokeh.index)) {\n",
       "    var doc = window.Bokeh.index[id].model.document\n",
       "    doc.clear();\n",
       "    const i = window.Bokeh.documents.indexOf(doc);\n",
       "    if (i > -1) {\n",
       "      window.Bokeh.documents.splice(i, 1);\n",
       "    }\n",
       "  }\n",
       "}\n",
       "\n",
       "/**\n",
       " * Handle kernel restart event\n",
       " */\n",
       "function handle_kernel_cleanup(event, handle) {\n",
       "  delete PyViz.comms[\"hv-extension-comm\"];\n",
       "  window.PyViz.plot_index = {}\n",
       "}\n",
       "\n",
       "/**\n",
       " * Handle update_display_data messages\n",
       " */\n",
       "function handle_update_output(event, handle) {\n",
       "  handle_clear_output(event, {cell: {output_area: handle.output_area}})\n",
       "  handle_add_output(event, handle)\n",
       "}\n",
       "\n",
       "function register_renderer(events, OutputArea) {\n",
       "  function append_mime(data, metadata, element) {\n",
       "    // create a DOM node to render to\n",
       "    var toinsert = this.create_output_subarea(\n",
       "    metadata,\n",
       "    CLASS_NAME,\n",
       "    EXEC_MIME_TYPE\n",
       "    );\n",
       "    this.keyboard_manager.register_events(toinsert);\n",
       "    // Render to node\n",
       "    var props = {data: data, metadata: metadata[EXEC_MIME_TYPE]};\n",
       "    render(props, toinsert[0]);\n",
       "    element.append(toinsert);\n",
       "    return toinsert\n",
       "  }\n",
       "\n",
       "  events.on('output_added.OutputArea', handle_add_output);\n",
       "  events.on('output_updated.OutputArea', handle_update_output);\n",
       "  events.on('clear_output.CodeCell', handle_clear_output);\n",
       "  events.on('delete.Cell', handle_clear_output);\n",
       "  events.on('kernel_ready.Kernel', handle_kernel_cleanup);\n",
       "\n",
       "  OutputArea.prototype.register_mime_type(EXEC_MIME_TYPE, append_mime, {\n",
       "    safe: true,\n",
       "    index: 0\n",
       "  });\n",
       "}\n",
       "\n",
       "if (window.Jupyter !== undefined) {\n",
       "  try {\n",
       "    var events = require('base/js/events');\n",
       "    var OutputArea = require('notebook/js/outputarea').OutputArea;\n",
       "    if (OutputArea.prototype.mime_types().indexOf(EXEC_MIME_TYPE) == -1) {\n",
       "      register_renderer(events, OutputArea);\n",
       "    }\n",
       "  } catch(err) {\n",
       "  }\n",
       "}\n"
      ],
      "application/vnd.holoviews_load.v0+json": "\nif ((window.PyViz === undefined) || (window.PyViz instanceof HTMLElement)) {\n  window.PyViz = {comms: {}, comm_status:{}, kernels:{}, receivers: {}, plot_index: []}\n}\n\n\n    function JupyterCommManager() {\n    }\n\n    JupyterCommManager.prototype.register_target = function(plot_id, comm_id, msg_handler) {\n      if (window.comm_manager || ((window.Jupyter !== undefined) && (Jupyter.notebook.kernel != null))) {\n        var comm_manager = window.comm_manager || Jupyter.notebook.kernel.comm_manager;\n        comm_manager.register_target(comm_id, function(comm) {\n          comm.on_msg(msg_handler);\n        });\n      } else if ((plot_id in window.PyViz.kernels) && (window.PyViz.kernels[plot_id])) {\n        window.PyViz.kernels[plot_id].registerCommTarget(comm_id, function(comm) {\n          comm.onMsg = msg_handler;\n        });\n      } else if (typeof google != 'undefined' && google.colab.kernel != null) {\n        google.colab.kernel.comms.registerTarget(comm_id, (comm) => {\n          var messages = comm.messages[Symbol.asyncIterator]();\n          function processIteratorResult(result) {\n            var message = result.value;\n            console.log(message)\n            var content = {data: message.data, comm_id};\n            var buffers = []\n            for (var buffer of message.buffers || []) {\n              buffers.push(new DataView(buffer))\n            }\n            var metadata = message.metadata || {};\n            var msg = {content, buffers, metadata}\n            msg_handler(msg);\n            return messages.next().then(processIteratorResult);\n          }\n          return messages.next().then(processIteratorResult);\n        })\n      }\n    }\n\n    JupyterCommManager.prototype.get_client_comm = function(plot_id, comm_id, msg_handler) {\n      if (comm_id in window.PyViz.comms) {\n        return window.PyViz.comms[comm_id];\n      } else if (window.comm_manager || ((window.Jupyter !== undefined) && (Jupyter.notebook.kernel != null))) {\n        var comm_manager = window.comm_manager || Jupyter.notebook.kernel.comm_manager;\n        var comm = comm_manager.new_comm(comm_id, {}, {}, {}, comm_id);\n        if (msg_handler) {\n          comm.on_msg(msg_handler);\n        }\n      } else if ((plot_id in window.PyViz.kernels) && (window.PyViz.kernels[plot_id])) {\n        var comm = window.PyViz.kernels[plot_id].connectToComm(comm_id);\n        comm.open();\n        if (msg_handler) {\n          comm.onMsg = msg_handler;\n        }\n      } else if (typeof google != 'undefined' && google.colab.kernel != null) {\n        var comm_promise = google.colab.kernel.comms.open(comm_id)\n        comm_promise.then((comm) => {\n          window.PyViz.comms[comm_id] = comm;\n          if (msg_handler) {\n            var messages = comm.messages[Symbol.asyncIterator]();\n            function processIteratorResult(result) {\n              var message = result.value;\n              var content = {data: message.data};\n              var metadata = message.metadata || {comm_id};\n              var msg = {content, metadata}\n              msg_handler(msg);\n              return messages.next().then(processIteratorResult);\n            }\n            return messages.next().then(processIteratorResult);\n          }\n        }) \n        var sendClosure = (data, metadata, buffers, disposeOnDone) => {\n          return comm_promise.then((comm) => {\n            comm.send(data, metadata, buffers, disposeOnDone);\n          });\n        };\n        var comm = {\n          send: sendClosure\n        };\n      }\n      window.PyViz.comms[comm_id] = comm;\n      return comm;\n    }\n    window.PyViz.comm_manager = new JupyterCommManager();\n    \n\n\nvar JS_MIME_TYPE = 'application/javascript';\nvar HTML_MIME_TYPE = 'text/html';\nvar EXEC_MIME_TYPE = 'application/vnd.holoviews_exec.v0+json';\nvar CLASS_NAME = 'output';\n\n/**\n * Render data to the DOM node\n */\nfunction render(props, node) {\n  var div = document.createElement(\"div\");\n  var script = document.createElement(\"script\");\n  node.appendChild(div);\n  node.appendChild(script);\n}\n\n/**\n * Handle when a new output is added\n */\nfunction handle_add_output(event, handle) {\n  var output_area = handle.output_area;\n  var output = handle.output;\n  if ((output.data == undefined) || (!output.data.hasOwnProperty(EXEC_MIME_TYPE))) {\n    return\n  }\n  var id = output.metadata[EXEC_MIME_TYPE][\"id\"];\n  var toinsert = output_area.element.find(\".\" + CLASS_NAME.split(' ')[0]);\n  if (id !== undefined) {\n    var nchildren = toinsert.length;\n    var html_node = toinsert[nchildren-1].children[0];\n    html_node.innerHTML = output.data[HTML_MIME_TYPE];\n    var scripts = [];\n    var nodelist = html_node.querySelectorAll(\"script\");\n    for (var i in nodelist) {\n      if (nodelist.hasOwnProperty(i)) {\n        scripts.push(nodelist[i])\n      }\n    }\n\n    scripts.forEach( function (oldScript) {\n      var newScript = document.createElement(\"script\");\n      var attrs = [];\n      var nodemap = oldScript.attributes;\n      for (var j in nodemap) {\n        if (nodemap.hasOwnProperty(j)) {\n          attrs.push(nodemap[j])\n        }\n      }\n      attrs.forEach(function(attr) { newScript.setAttribute(attr.name, attr.value) });\n      newScript.appendChild(document.createTextNode(oldScript.innerHTML));\n      oldScript.parentNode.replaceChild(newScript, oldScript);\n    });\n    if (JS_MIME_TYPE in output.data) {\n      toinsert[nchildren-1].children[1].textContent = output.data[JS_MIME_TYPE];\n    }\n    output_area._hv_plot_id = id;\n    if ((window.Bokeh !== undefined) && (id in Bokeh.index)) {\n      window.PyViz.plot_index[id] = Bokeh.index[id];\n    } else {\n      window.PyViz.plot_index[id] = null;\n    }\n  } else if (output.metadata[EXEC_MIME_TYPE][\"server_id\"] !== undefined) {\n    var bk_div = document.createElement(\"div\");\n    bk_div.innerHTML = output.data[HTML_MIME_TYPE];\n    var script_attrs = bk_div.children[0].attributes;\n    for (var i = 0; i < script_attrs.length; i++) {\n      toinsert[toinsert.length - 1].childNodes[1].setAttribute(script_attrs[i].name, script_attrs[i].value);\n    }\n    // store reference to server id on output_area\n    output_area._bokeh_server_id = output.metadata[EXEC_MIME_TYPE][\"server_id\"];\n  }\n}\n\n/**\n * Handle when an output is cleared or removed\n */\nfunction handle_clear_output(event, handle) {\n  var id = handle.cell.output_area._hv_plot_id;\n  var server_id = handle.cell.output_area._bokeh_server_id;\n  if (((id === undefined) || !(id in PyViz.plot_index)) && (server_id !== undefined)) { return; }\n  var comm = window.PyViz.comm_manager.get_client_comm(\"hv-extension-comm\", \"hv-extension-comm\", function () {});\n  if (server_id !== null) {\n    comm.send({event_type: 'server_delete', 'id': server_id});\n    return;\n  } else if (comm !== null) {\n    comm.send({event_type: 'delete', 'id': id});\n  }\n  delete PyViz.plot_index[id];\n  if ((window.Bokeh !== undefined) & (id in window.Bokeh.index)) {\n    var doc = window.Bokeh.index[id].model.document\n    doc.clear();\n    const i = window.Bokeh.documents.indexOf(doc);\n    if (i > -1) {\n      window.Bokeh.documents.splice(i, 1);\n    }\n  }\n}\n\n/**\n * Handle kernel restart event\n */\nfunction handle_kernel_cleanup(event, handle) {\n  delete PyViz.comms[\"hv-extension-comm\"];\n  window.PyViz.plot_index = {}\n}\n\n/**\n * Handle update_display_data messages\n */\nfunction handle_update_output(event, handle) {\n  handle_clear_output(event, {cell: {output_area: handle.output_area}})\n  handle_add_output(event, handle)\n}\n\nfunction register_renderer(events, OutputArea) {\n  function append_mime(data, metadata, element) {\n    // create a DOM node to render to\n    var toinsert = this.create_output_subarea(\n    metadata,\n    CLASS_NAME,\n    EXEC_MIME_TYPE\n    );\n    this.keyboard_manager.register_events(toinsert);\n    // Render to node\n    var props = {data: data, metadata: metadata[EXEC_MIME_TYPE]};\n    render(props, toinsert[0]);\n    element.append(toinsert);\n    return toinsert\n  }\n\n  events.on('output_added.OutputArea', handle_add_output);\n  events.on('output_updated.OutputArea', handle_update_output);\n  events.on('clear_output.CodeCell', handle_clear_output);\n  events.on('delete.Cell', handle_clear_output);\n  events.on('kernel_ready.Kernel', handle_kernel_cleanup);\n\n  OutputArea.prototype.register_mime_type(EXEC_MIME_TYPE, append_mime, {\n    safe: true,\n    index: 0\n  });\n}\n\nif (window.Jupyter !== undefined) {\n  try {\n    var events = require('base/js/events');\n    var OutputArea = require('notebook/js/outputarea').OutputArea;\n    if (OutputArea.prototype.mime_types().indexOf(EXEC_MIME_TYPE) == -1) {\n      register_renderer(events, OutputArea);\n    }\n  } catch(err) {\n  }\n}\n"
     },
     "metadata": {},
     "output_type": "display_data"
    },
    {
     "data": {
      "text/plain": [
       "datetime.date(2022, 1, 25)"
      ]
     },
     "execution_count": 1,
     "metadata": {},
     "output_type": "execute_result"
    }
   ],
   "source": [
    "import pandas as pd\n",
    "import panel as pn\n",
    "import numpy as np\n",
    "from sqlalchemy import create_engine\n",
    "from datetime import date, timedelta\n",
    "import calendar\n",
    "import matplotlib.pyplot as plt\n",
    "import seaborn as sns\n",
    "%matplotlib inline\n",
    "sns.set\n",
    "\n",
    "pn.extension('tabulator')\n",
    "\n",
    "engine = create_engine(\"mysql+pymysql://root:@localhost:3306/stock\")\n",
    "const = engine.connect()\n",
    "engine = create_engine(\"sqlite:///c:\\\\ruby\\\\portmy\\\\db\\\\development.sqlite3\")\n",
    "conmy = engine.connect()\n",
    "\n",
    "data_path = \"../data/\"\n",
    "csv_path = \"\\\\Users\\\\User\\\\iCloudDrive\\\\\"\n",
    "box_path = \"\\\\Users\\\\User\\\\Dropbox\\\\\"\n",
    "\n",
    "today = date.today()\n",
    "today"
   ]
  },
  {
   "cell_type": "markdown",
   "metadata": {},
   "source": [
    "### Set today = last closed business day"
   ]
  },
  {
   "cell_type": "code",
   "execution_count": 2,
   "metadata": {},
   "outputs": [
    {
     "data": {
      "text/plain": [
       "datetime.date(2022, 1, 24)"
      ]
     },
     "execution_count": 2,
     "metadata": {},
     "output_type": "execute_result"
    }
   ],
   "source": [
    "today = today - timedelta(days=1)\n",
    "today"
   ]
  },
  {
   "cell_type": "markdown",
   "metadata": {},
   "source": [
    "### Restart and Run All Cells"
   ]
  },
  {
   "cell_type": "code",
   "execution_count": 3,
   "metadata": {},
   "outputs": [],
   "source": [
    "cols = 'name period shares unit_cost cost_amt base_amt pct'.split()"
   ]
  },
  {
   "cell_type": "code",
   "execution_count": 4,
   "metadata": {},
   "outputs": [],
   "source": [
    "format_dict = {\n",
    "    'shares':'{:,}','div_rnk':'{:,}','amt_rnk':'{:,}',  \n",
    "    'price':'{:.2f}','unit_cost':'{:.2f}','mkt_price':'{:.2f}',\n",
    "    'cost_amt':'{:,.2f}','div_amt':'{:,.2f}','mkt_amt':'{:,.2f}','profit':'{:,.2f}','base_amt':'{:,.2f}',\n",
    "    'dividend':'{:.4f}',    \n",
    "    'pct':'{:,.2f}%','cost_pct':'{:,.2f}%','mkt_pct':'{:,.2f}%','pft_pct':'{:,.2f}%',\n",
    "}"
   ]
  },
  {
   "cell_type": "markdown",
   "metadata": {},
   "source": [
    "### Change period of stock in table buy"
   ]
  },
  {
   "cell_type": "code",
   "execution_count": 5,
   "metadata": {},
   "outputs": [
    {
     "data": {
      "text/html": [
       "<div>\n",
       "<style scoped>\n",
       "    .dataframe tbody tr th:only-of-type {\n",
       "        vertical-align: middle;\n",
       "    }\n",
       "\n",
       "    .dataframe tbody tr th {\n",
       "        vertical-align: top;\n",
       "    }\n",
       "\n",
       "    .dataframe thead th {\n",
       "        text-align: right;\n",
       "    }\n",
       "</style>\n",
       "<table border=\"1\" class=\"dataframe\">\n",
       "  <thead>\n",
       "    <tr style=\"text-align: right;\">\n",
       "      <th></th>\n",
       "      <th>name</th>\n",
       "      <th>date</th>\n",
       "      <th>volbuy</th>\n",
       "      <th>price</th>\n",
       "      <th>volsell</th>\n",
       "      <th>volbal</th>\n",
       "      <th>active</th>\n",
       "      <th>dividend</th>\n",
       "      <th>period</th>\n",
       "      <th>grade</th>\n",
       "    </tr>\n",
       "  </thead>\n",
       "  <tbody>\n",
       "    <tr>\n",
       "      <th>0</th>\n",
       "      <td>TSTH</td>\n",
       "      <td>2021-11-30</td>\n",
       "      <td>75000.0</td>\n",
       "      <td>1.5</td>\n",
       "      <td>0.0</td>\n",
       "      <td>0.0</td>\n",
       "      <td>1</td>\n",
       "      <td>None</td>\n",
       "      <td>3</td>\n",
       "      <td>A2</td>\n",
       "    </tr>\n",
       "  </tbody>\n",
       "</table>\n",
       "</div>"
      ],
      "text/plain": [
       "   name        date   volbuy  price  volsell  volbal  active dividend period  \\\n",
       "0  TSTH  2021-11-30  75000.0    1.5      0.0     0.0       1     None      3   \n",
       "\n",
       "  grade  \n",
       "0    A2  "
      ]
     },
     "execution_count": 5,
     "metadata": {},
     "output_type": "execute_result"
    }
   ],
   "source": [
    "name = 'TSTH'\n",
    "sql = \"\"\"\n",
    "SELECT * \n",
    "FROM buy \n",
    "WHERE name = '%s' \n",
    "\"\"\"\n",
    "sql = sql % name\n",
    "df = pd.read_sql(sql, const)\n",
    "df"
   ]
  },
  {
   "cell_type": "code",
   "execution_count": 6,
   "metadata": {},
   "outputs": [
    {
     "name": "stdout",
     "output_type": "stream",
     "text": [
      "\n",
      "UPDATE buy\n",
      "SET period = '4'\n",
      "WHERE name = 'TSTH' \n",
      "\n"
     ]
    }
   ],
   "source": [
    "sqlUpd = \"\"\"\n",
    "UPDATE buy\n",
    "SET period = '4'\n",
    "WHERE name = '%s' \n",
    "\"\"\"\n",
    "sqlUpd = sqlUpd % name\n",
    "print(sqlUpd)"
   ]
  },
  {
   "cell_type": "code",
   "execution_count": 7,
   "metadata": {},
   "outputs": [
    {
     "data": {
      "text/plain": [
       "1"
      ]
     },
     "execution_count": 7,
     "metadata": {},
     "output_type": "execute_result"
    }
   ],
   "source": [
    "rp = const.execute(sqlUpd)\n",
    "rp.rowcount"
   ]
  },
  {
   "cell_type": "markdown",
   "metadata": {},
   "source": [
    "### Discrepancies calculation"
   ]
  },
  {
   "cell_type": "code",
   "execution_count": 8,
   "metadata": {},
   "outputs": [
    {
     "data": {
      "text/plain": [
       "(34, 9)"
      ]
     },
     "execution_count": 8,
     "metadata": {},
     "output_type": "execute_result"
    }
   ],
   "source": [
    "sql = '''\n",
    "SELECT *\n",
    "FROM buy\n",
    "WHERE active = 1'''\n",
    "df = pd.read_sql(sql, const)\n",
    "df.drop(['volsell', 'volbal'], axis=1, inplace=True)\n",
    "df.rename(columns={'volbuy': 'shares','price':'unit_cost'}, inplace=True)\n",
    "df['shares'] = df['shares'].astype('int64')\n",
    "df['cost_amt'] = df.shares * df.unit_cost\n",
    "df.shape"
   ]
  },
  {
   "cell_type": "code",
   "execution_count": 9,
   "metadata": {},
   "outputs": [
    {
     "data": {
      "text/plain": [
       "(359, 2)"
      ]
     },
     "execution_count": 9,
     "metadata": {},
     "output_type": "execute_result"
    }
   ],
   "source": [
    "sql = '''\n",
    "SELECT name, market\n",
    "FROM stocks\n",
    "ORDER BY name'''\n",
    "my_stocks = pd.read_sql(sql, conmy)\n",
    "my_stocks.shape"
   ]
  },
  {
   "cell_type": "code",
   "execution_count": 10,
   "metadata": {},
   "outputs": [],
   "source": [
    "filters = [\n",
    "   (my_stocks.market.str.contains('SET50')),\n",
    "   (my_stocks.market.str.contains('SET100')),\n",
    "   (my_stocks.market.str.contains('mai'))    \n",
    "]\n",
    "values = [450000.0,300000.0,150000.0]"
   ]
  },
  {
   "cell_type": "code",
   "execution_count": 11,
   "metadata": {},
   "outputs": [
    {
     "data": {
      "text/html": [
       "<style type=\"text/css\">\n",
       "</style>\n",
       "<table id=\"T_577e5_\">\n",
       "  <thead>\n",
       "    <tr>\n",
       "      <th class=\"blank level0\" >&nbsp;</th>\n",
       "      <th class=\"col_heading level0 col0\" >name</th>\n",
       "      <th class=\"col_heading level0 col1\" >market</th>\n",
       "      <th class=\"col_heading level0 col2\" >base_amt</th>\n",
       "    </tr>\n",
       "  </thead>\n",
       "  <tbody>\n",
       "    <tr>\n",
       "      <th id=\"T_577e5_level0_row0\" class=\"row_heading level0 row0\" >0</th>\n",
       "      <td id=\"T_577e5_row0_col0\" class=\"data row0 col0\" >2S</td>\n",
       "      <td id=\"T_577e5_row0_col1\" class=\"data row0 col1\" >SET    </td>\n",
       "      <td id=\"T_577e5_row0_col2\" class=\"data row0 col2\" >150,000.00</td>\n",
       "    </tr>\n",
       "    <tr>\n",
       "      <th id=\"T_577e5_level0_row1\" class=\"row_heading level0 row1\" >1</th>\n",
       "      <td id=\"T_577e5_row1_col0\" class=\"data row1 col0\" >AAV</td>\n",
       "      <td id=\"T_577e5_row1_col1\" class=\"data row1 col1\" >sSET / SETTHSI    </td>\n",
       "      <td id=\"T_577e5_row1_col2\" class=\"data row1 col2\" >150,000.00</td>\n",
       "    </tr>\n",
       "    <tr>\n",
       "      <th id=\"T_577e5_level0_row2\" class=\"row_heading level0 row2\" >2</th>\n",
       "      <td id=\"T_577e5_row2_col0\" class=\"data row2 col0\" >ACE</td>\n",
       "      <td id=\"T_577e5_row2_col1\" class=\"data row2 col1\" >SET100    </td>\n",
       "      <td id=\"T_577e5_row2_col2\" class=\"data row2 col2\" >300,000.00</td>\n",
       "    </tr>\n",
       "    <tr>\n",
       "      <th id=\"T_577e5_level0_row3\" class=\"row_heading level0 row3\" >3</th>\n",
       "      <td id=\"T_577e5_row3_col0\" class=\"data row3 col0\" >ADVANC</td>\n",
       "      <td id=\"T_577e5_row3_col1\" class=\"data row3 col1\" >SET50 / SETHD / SETTHSI    </td>\n",
       "      <td id=\"T_577e5_row3_col2\" class=\"data row3 col2\" >450,000.00</td>\n",
       "    </tr>\n",
       "    <tr>\n",
       "      <th id=\"T_577e5_level0_row4\" class=\"row_heading level0 row4\" >4</th>\n",
       "      <td id=\"T_577e5_row4_col0\" class=\"data row4 col0\" >AEONTS</td>\n",
       "      <td id=\"T_577e5_row4_col1\" class=\"data row4 col1\" >SET100    </td>\n",
       "      <td id=\"T_577e5_row4_col2\" class=\"data row4 col2\" >300,000.00</td>\n",
       "    </tr>\n",
       "  </tbody>\n",
       "</table>\n"
      ],
      "text/plain": [
       "<pandas.io.formats.style.Styler at 0x2b1470ffa00>"
      ]
     },
     "execution_count": 11,
     "metadata": {},
     "output_type": "execute_result"
    }
   ],
   "source": [
    "my_stocks[\"base_amt\"] = np.select(filters, values, default=150000)\n",
    "my_stocks.head().style.format(format_dict)"
   ]
  },
  {
   "cell_type": "code",
   "execution_count": 12,
   "metadata": {},
   "outputs": [
    {
     "data": {
      "text/plain": [
       "(34, 11)"
      ]
     },
     "execution_count": 12,
     "metadata": {},
     "output_type": "execute_result"
    }
   ],
   "source": [
    "df_merge = pd.merge(df, my_stocks, on='name', how='inner')\n",
    "df_merge.shape"
   ]
  },
  {
   "cell_type": "code",
   "execution_count": 13,
   "metadata": {},
   "outputs": [
    {
     "data": {
      "text/html": [
       "<style type=\"text/css\">\n",
       "</style>\n",
       "<table id=\"T_6ba76_\">\n",
       "  <thead>\n",
       "    <tr>\n",
       "      <th class=\"blank level0\" >&nbsp;</th>\n",
       "      <th class=\"col_heading level0 col0\" >name</th>\n",
       "      <th class=\"col_heading level0 col1\" >period</th>\n",
       "      <th class=\"col_heading level0 col2\" >shares</th>\n",
       "      <th class=\"col_heading level0 col3\" >unit_cost</th>\n",
       "      <th class=\"col_heading level0 col4\" >cost_amt</th>\n",
       "      <th class=\"col_heading level0 col5\" >base_amt</th>\n",
       "      <th class=\"col_heading level0 col6\" >pct</th>\n",
       "    </tr>\n",
       "  </thead>\n",
       "  <tbody>\n",
       "    <tr>\n",
       "      <th id=\"T_6ba76_level0_row0\" class=\"row_heading level0 row0\" >2</th>\n",
       "      <td id=\"T_6ba76_row0_col0\" class=\"data row0 col0\" >IVL</td>\n",
       "      <td id=\"T_6ba76_row0_col1\" class=\"data row0 col1\" >3</td>\n",
       "      <td id=\"T_6ba76_row0_col2\" class=\"data row0 col2\" >12,000</td>\n",
       "      <td id=\"T_6ba76_row0_col3\" class=\"data row0 col3\" >42.00</td>\n",
       "      <td id=\"T_6ba76_row0_col4\" class=\"data row0 col4\" >504,000.00</td>\n",
       "      <td id=\"T_6ba76_row0_col5\" class=\"data row0 col5\" >450,000.00</td>\n",
       "      <td id=\"T_6ba76_row0_col6\" class=\"data row0 col6\" >112.00%</td>\n",
       "    </tr>\n",
       "    <tr>\n",
       "      <th id=\"T_6ba76_level0_row1\" class=\"row_heading level0 row1\" >3</th>\n",
       "      <td id=\"T_6ba76_row1_col0\" class=\"data row1 col0\" >KCE</td>\n",
       "      <td id=\"T_6ba76_row1_col1\" class=\"data row1 col1\" >3</td>\n",
       "      <td id=\"T_6ba76_row1_col2\" class=\"data row1 col2\" >6,000</td>\n",
       "      <td id=\"T_6ba76_row1_col3\" class=\"data row1 col3\" >85.00</td>\n",
       "      <td id=\"T_6ba76_row1_col4\" class=\"data row1 col4\" >510,000.00</td>\n",
       "      <td id=\"T_6ba76_row1_col5\" class=\"data row1 col5\" >450,000.00</td>\n",
       "      <td id=\"T_6ba76_row1_col6\" class=\"data row1 col6\" >113.33%</td>\n",
       "    </tr>\n",
       "    <tr>\n",
       "      <th id=\"T_6ba76_level0_row2\" class=\"row_heading level0 row2\" >7</th>\n",
       "      <td id=\"T_6ba76_row2_col0\" class=\"data row2 col0\" >GLOBAL</td>\n",
       "      <td id=\"T_6ba76_row2_col1\" class=\"data row2 col1\" >3</td>\n",
       "      <td id=\"T_6ba76_row2_col2\" class=\"data row2 col2\" >7,500</td>\n",
       "      <td id=\"T_6ba76_row2_col3\" class=\"data row2 col3\" >20.00</td>\n",
       "      <td id=\"T_6ba76_row2_col4\" class=\"data row2 col4\" >150,000.00</td>\n",
       "      <td id=\"T_6ba76_row2_col5\" class=\"data row2 col5\" >450,000.00</td>\n",
       "      <td id=\"T_6ba76_row2_col6\" class=\"data row2 col6\" >33.33%</td>\n",
       "    </tr>\n",
       "    <tr>\n",
       "      <th id=\"T_6ba76_level0_row3\" class=\"row_heading level0 row3\" >8</th>\n",
       "      <td id=\"T_6ba76_row3_col0\" class=\"data row3 col0\" >WHART</td>\n",
       "      <td id=\"T_6ba76_row3_col1\" class=\"data row3 col1\" >4</td>\n",
       "      <td id=\"T_6ba76_row3_col2\" class=\"data row3 col2\" >10,000</td>\n",
       "      <td id=\"T_6ba76_row3_col3\" class=\"data row3 col3\" >12.50</td>\n",
       "      <td id=\"T_6ba76_row3_col4\" class=\"data row3 col4\" >125,000.00</td>\n",
       "      <td id=\"T_6ba76_row3_col5\" class=\"data row3 col5\" >150,000.00</td>\n",
       "      <td id=\"T_6ba76_row3_col6\" class=\"data row3 col6\" >83.33%</td>\n",
       "    </tr>\n",
       "    <tr>\n",
       "      <th id=\"T_6ba76_level0_row4\" class=\"row_heading level0 row4\" >9</th>\n",
       "      <td id=\"T_6ba76_row4_col0\" class=\"data row4 col0\" >BCH</td>\n",
       "      <td id=\"T_6ba76_row4_col1\" class=\"data row4 col1\" >3</td>\n",
       "      <td id=\"T_6ba76_row4_col2\" class=\"data row4 col2\" >15,000</td>\n",
       "      <td id=\"T_6ba76_row4_col3\" class=\"data row4 col3\" >21.30</td>\n",
       "      <td id=\"T_6ba76_row4_col4\" class=\"data row4 col4\" >319,500.00</td>\n",
       "      <td id=\"T_6ba76_row4_col5\" class=\"data row4 col5\" >300,000.00</td>\n",
       "      <td id=\"T_6ba76_row4_col6\" class=\"data row4 col6\" >106.50%</td>\n",
       "    </tr>\n",
       "  </tbody>\n",
       "</table>\n"
      ],
      "text/plain": [
       "<pandas.io.formats.style.Styler at 0x2b1471256a0>"
      ]
     },
     "execution_count": 13,
     "metadata": {},
     "output_type": "execute_result"
    }
   ],
   "source": [
    "df_merge['pct'] = round(df_merge.cost_amt/df_merge.base_amt*100,2)\n",
    "mask = df.period != '2'\n",
    "df_merge[mask][cols].head().style.format(format_dict)"
   ]
  },
  {
   "cell_type": "code",
   "execution_count": 14,
   "metadata": {},
   "outputs": [
    {
     "data": {
      "text/html": [
       "<style type=\"text/css\">\n",
       "</style>\n",
       "<table id=\"T_537a4_\">\n",
       "  <thead>\n",
       "    <tr>\n",
       "      <th class=\"blank level0\" >&nbsp;</th>\n",
       "      <th class=\"col_heading level0 col0\" >name</th>\n",
       "      <th class=\"col_heading level0 col1\" >period</th>\n",
       "      <th class=\"col_heading level0 col2\" >shares</th>\n",
       "      <th class=\"col_heading level0 col3\" >unit_cost</th>\n",
       "      <th class=\"col_heading level0 col4\" >cost_amt</th>\n",
       "      <th class=\"col_heading level0 col5\" >base_amt</th>\n",
       "      <th class=\"col_heading level0 col6\" >pct</th>\n",
       "    </tr>\n",
       "  </thead>\n",
       "  <tbody>\n",
       "    <tr>\n",
       "      <th id=\"T_537a4_level0_row0\" class=\"row_heading level0 row0\" >23</th>\n",
       "      <td id=\"T_537a4_row0_col0\" class=\"data row0 col0\" >NER</td>\n",
       "      <td id=\"T_537a4_row0_col1\" class=\"data row0 col1\" >4</td>\n",
       "      <td id=\"T_537a4_row0_col2\" class=\"data row0 col2\" >36,000</td>\n",
       "      <td id=\"T_537a4_row0_col3\" class=\"data row0 col3\" >7.45</td>\n",
       "      <td id=\"T_537a4_row0_col4\" class=\"data row0 col4\" >268,200.00</td>\n",
       "      <td id=\"T_537a4_row0_col5\" class=\"data row0 col5\" >150,000.00</td>\n",
       "      <td id=\"T_537a4_row0_col6\" class=\"data row0 col6\" >178.80%</td>\n",
       "    </tr>\n",
       "    <tr>\n",
       "      <th id=\"T_537a4_level0_row1\" class=\"row_heading level0 row1\" >33</th>\n",
       "      <td id=\"T_537a4_row1_col0\" class=\"data row1 col0\" >IP</td>\n",
       "      <td id=\"T_537a4_row1_col1\" class=\"data row1 col1\" >3</td>\n",
       "      <td id=\"T_537a4_row1_col2\" class=\"data row1 col2\" >10,500</td>\n",
       "      <td id=\"T_537a4_row1_col3\" class=\"data row1 col3\" >20.20</td>\n",
       "      <td id=\"T_537a4_row1_col4\" class=\"data row1 col4\" >212,100.00</td>\n",
       "      <td id=\"T_537a4_row1_col5\" class=\"data row1 col5\" >150,000.00</td>\n",
       "      <td id=\"T_537a4_row1_col6\" class=\"data row1 col6\" >141.40%</td>\n",
       "    </tr>\n",
       "    <tr>\n",
       "      <th id=\"T_537a4_level0_row2\" class=\"row_heading level0 row2\" >3</th>\n",
       "      <td id=\"T_537a4_row2_col0\" class=\"data row2 col0\" >KCE</td>\n",
       "      <td id=\"T_537a4_row2_col1\" class=\"data row2 col1\" >3</td>\n",
       "      <td id=\"T_537a4_row2_col2\" class=\"data row2 col2\" >6,000</td>\n",
       "      <td id=\"T_537a4_row2_col3\" class=\"data row2 col3\" >85.00</td>\n",
       "      <td id=\"T_537a4_row2_col4\" class=\"data row2 col4\" >510,000.00</td>\n",
       "      <td id=\"T_537a4_row2_col5\" class=\"data row2 col5\" >450,000.00</td>\n",
       "      <td id=\"T_537a4_row2_col6\" class=\"data row2 col6\" >113.33%</td>\n",
       "    </tr>\n",
       "  </tbody>\n",
       "</table>\n"
      ],
      "text/plain": [
       "<pandas.io.formats.style.Styler at 0x2b147114b80>"
      ]
     },
     "execution_count": 14,
     "metadata": {},
     "output_type": "execute_result"
    }
   ],
   "source": [
    "df_merge[mask].nlargest(3, 'pct')[cols].style.format(format_dict)"
   ]
  },
  {
   "cell_type": "code",
   "execution_count": 15,
   "metadata": {},
   "outputs": [
    {
     "data": {
      "text/html": [
       "<style type=\"text/css\">\n",
       "</style>\n",
       "<table id=\"T_fbde9_\">\n",
       "  <thead>\n",
       "    <tr>\n",
       "      <th class=\"blank level0\" >&nbsp;</th>\n",
       "      <th class=\"col_heading level0 col0\" >name</th>\n",
       "      <th class=\"col_heading level0 col1\" >period</th>\n",
       "      <th class=\"col_heading level0 col2\" >shares</th>\n",
       "      <th class=\"col_heading level0 col3\" >unit_cost</th>\n",
       "      <th class=\"col_heading level0 col4\" >cost_amt</th>\n",
       "      <th class=\"col_heading level0 col5\" >base_amt</th>\n",
       "      <th class=\"col_heading level0 col6\" >pct</th>\n",
       "    </tr>\n",
       "  </thead>\n",
       "  <tbody>\n",
       "    <tr>\n",
       "      <th id=\"T_fbde9_level0_row0\" class=\"row_heading level0 row0\" >7</th>\n",
       "      <td id=\"T_fbde9_row0_col0\" class=\"data row0 col0\" >GLOBAL</td>\n",
       "      <td id=\"T_fbde9_row0_col1\" class=\"data row0 col1\" >3</td>\n",
       "      <td id=\"T_fbde9_row0_col2\" class=\"data row0 col2\" >7,500</td>\n",
       "      <td id=\"T_fbde9_row0_col3\" class=\"data row0 col3\" >20.00</td>\n",
       "      <td id=\"T_fbde9_row0_col4\" class=\"data row0 col4\" >150,000.00</td>\n",
       "      <td id=\"T_fbde9_row0_col5\" class=\"data row0 col5\" >450,000.00</td>\n",
       "      <td id=\"T_fbde9_row0_col6\" class=\"data row0 col6\" >33.33%</td>\n",
       "    </tr>\n",
       "    <tr>\n",
       "      <th id=\"T_fbde9_level0_row1\" class=\"row_heading level0 row1\" >10</th>\n",
       "      <td id=\"T_fbde9_row1_col0\" class=\"data row1 col0\" >TOP</td>\n",
       "      <td id=\"T_fbde9_row1_col1\" class=\"data row1 col1\" >3</td>\n",
       "      <td id=\"T_fbde9_row1_col2\" class=\"data row1 col2\" >3,000</td>\n",
       "      <td id=\"T_fbde9_row1_col3\" class=\"data row1 col3\" >50.00</td>\n",
       "      <td id=\"T_fbde9_row1_col4\" class=\"data row1 col4\" >150,000.00</td>\n",
       "      <td id=\"T_fbde9_row1_col5\" class=\"data row1 col5\" >450,000.00</td>\n",
       "      <td id=\"T_fbde9_row1_col6\" class=\"data row1 col6\" >33.33%</td>\n",
       "    </tr>\n",
       "    <tr>\n",
       "      <th id=\"T_fbde9_level0_row2\" class=\"row_heading level0 row2\" >27</th>\n",
       "      <td id=\"T_fbde9_row2_col0\" class=\"data row2 col0\" >SYNEX</td>\n",
       "      <td id=\"T_fbde9_row2_col1\" class=\"data row2 col1\" >3</td>\n",
       "      <td id=\"T_fbde9_row2_col2\" class=\"data row2 col2\" >4,500</td>\n",
       "      <td id=\"T_fbde9_row2_col3\" class=\"data row2 col3\" >31.50</td>\n",
       "      <td id=\"T_fbde9_row2_col4\" class=\"data row2 col4\" >141,750.00</td>\n",
       "      <td id=\"T_fbde9_row2_col5\" class=\"data row2 col5\" >300,000.00</td>\n",
       "      <td id=\"T_fbde9_row2_col6\" class=\"data row2 col6\" >47.25%</td>\n",
       "    </tr>\n",
       "  </tbody>\n",
       "</table>\n"
      ],
      "text/plain": [
       "<pandas.io.formats.style.Styler at 0x2b14be40700>"
      ]
     },
     "execution_count": 15,
     "metadata": {},
     "output_type": "execute_result"
    }
   ],
   "source": [
    "df_merge[mask].nsmallest(3, 'pct')[cols].style.format(format_dict)"
   ]
  },
  {
   "cell_type": "markdown",
   "metadata": {},
   "source": [
    "### Rank"
   ]
  },
  {
   "cell_type": "code",
   "execution_count": 16,
   "metadata": {},
   "outputs": [
    {
     "name": "stdout",
     "output_type": "stream",
     "text": [
      "\n",
      "SELECT B.name, volbuy, B.price AS unit_cost, \n",
      "dividend, P.price AS mkt_price, period\n",
      "FROM buy B \n",
      "JOIN price P\n",
      "ON B.name = P.name\n",
      "WHERE P.date = \"2022-01-21\"\n",
      "AND active = 1\n"
     ]
    }
   ],
   "source": [
    "sql = '''\n",
    "SELECT B.name, volbuy, B.price AS unit_cost, \n",
    "dividend, P.price AS mkt_price, period\n",
    "FROM buy B \n",
    "JOIN price P\n",
    "ON B.name = P.name\n",
    "WHERE P.date = \"%s\"\n",
    "AND active = 1'''\n",
    "sql = sql % today \n",
    "print(sql)"
   ]
  },
  {
   "cell_type": "code",
   "execution_count": 17,
   "metadata": {},
   "outputs": [],
   "source": [
    "cols = 'name period shares unit_cost cost_amt base_amt pct'.split()\n",
    "colt = 'name shares unit_cost cost_amt mkt_price mkt_amt amt_rnk mkt_pct div_rnk'.split()\n",
    "colu = 'name shares unit_cost cost_amt mkt_price mkt_amt dividend div_amt mkt_pct div_rnk amt_rnk'.split()"
   ]
  },
  {
   "cell_type": "code",
   "execution_count": 18,
   "metadata": {},
   "outputs": [
    {
     "data": {
      "text/html": [
       "<style type=\"text/css\">\n",
       "</style>\n",
       "<table id=\"T_7a72f_\">\n",
       "  <thead>\n",
       "    <tr>\n",
       "      <th class=\"blank level0\" >&nbsp;</th>\n",
       "      <th class=\"col_heading level0 col0\" >name</th>\n",
       "      <th class=\"col_heading level0 col1\" >shares</th>\n",
       "      <th class=\"col_heading level0 col2\" >unit_cost</th>\n",
       "      <th class=\"col_heading level0 col3\" >cost_amt</th>\n",
       "      <th class=\"col_heading level0 col4\" >mkt_price</th>\n",
       "      <th class=\"col_heading level0 col5\" >mkt_amt</th>\n",
       "      <th class=\"col_heading level0 col6\" >dividend</th>\n",
       "      <th class=\"col_heading level0 col7\" >div_amt</th>\n",
       "      <th class=\"col_heading level0 col8\" >mkt_pct</th>\n",
       "      <th class=\"col_heading level0 col9\" >div_rnk</th>\n",
       "      <th class=\"col_heading level0 col10\" >amt_rnk</th>\n",
       "    </tr>\n",
       "  </thead>\n",
       "  <tbody>\n",
       "    <tr>\n",
       "      <th id=\"T_7a72f_level0_row0\" class=\"row_heading level0 row0\" >0</th>\n",
       "      <td id=\"T_7a72f_row0_col0\" class=\"data row0 col0\" >STA</td>\n",
       "      <td id=\"T_7a72f_row0_col1\" class=\"data row0 col1\" >20,000</td>\n",
       "      <td id=\"T_7a72f_row0_col2\" class=\"data row0 col2\" >34.75</td>\n",
       "      <td id=\"T_7a72f_row0_col3\" class=\"data row0 col3\" >695,000.00</td>\n",
       "      <td id=\"T_7a72f_row0_col4\" class=\"data row0 col4\" >29.25</td>\n",
       "      <td id=\"T_7a72f_row0_col5\" class=\"data row0 col5\" >585,000.00</td>\n",
       "      <td id=\"T_7a72f_row0_col6\" class=\"data row0 col6\" >5.2500</td>\n",
       "      <td id=\"T_7a72f_row0_col7\" class=\"data row0 col7\" >105,000.00</td>\n",
       "      <td id=\"T_7a72f_row0_col8\" class=\"data row0 col8\" >17.95%</td>\n",
       "      <td id=\"T_7a72f_row0_col9\" class=\"data row0 col9\" >1.0</td>\n",
       "      <td id=\"T_7a72f_row0_col10\" class=\"data row0 col10\" >4.0</td>\n",
       "    </tr>\n",
       "    <tr>\n",
       "      <th id=\"T_7a72f_level0_row1\" class=\"row_heading level0 row1\" >22</th>\n",
       "      <td id=\"T_7a72f_row1_col0\" class=\"data row1 col0\" >NOBLE</td>\n",
       "      <td id=\"T_7a72f_row1_col1\" class=\"data row1 col1\" >63,000</td>\n",
       "      <td id=\"T_7a72f_row1_col2\" class=\"data row1 col2\" >7.00</td>\n",
       "      <td id=\"T_7a72f_row1_col3\" class=\"data row1 col3\" >441,000.00</td>\n",
       "      <td id=\"T_7a72f_row1_col4\" class=\"data row1 col4\" >6.30</td>\n",
       "      <td id=\"T_7a72f_row1_col5\" class=\"data row1 col5\" >396,900.00</td>\n",
       "      <td id=\"T_7a72f_row1_col6\" class=\"data row1 col6\" >0.8500</td>\n",
       "      <td id=\"T_7a72f_row1_col7\" class=\"data row1 col7\" >53,550.00</td>\n",
       "      <td id=\"T_7a72f_row1_col8\" class=\"data row1 col8\" >13.49%</td>\n",
       "      <td id=\"T_7a72f_row1_col9\" class=\"data row1 col9\" >2.0</td>\n",
       "      <td id=\"T_7a72f_row1_col10\" class=\"data row1 col10\" >7.0</td>\n",
       "    </tr>\n",
       "    <tr>\n",
       "      <th id=\"T_7a72f_level0_row2\" class=\"row_heading level0 row2\" >6</th>\n",
       "      <td id=\"T_7a72f_row2_col0\" class=\"data row2 col0\" >TMT</td>\n",
       "      <td id=\"T_7a72f_row2_col1\" class=\"data row2 col1\" >27,000</td>\n",
       "      <td id=\"T_7a72f_row2_col2\" class=\"data row2 col2\" >10.50</td>\n",
       "      <td id=\"T_7a72f_row2_col3\" class=\"data row2 col3\" >283,500.00</td>\n",
       "      <td id=\"T_7a72f_row2_col4\" class=\"data row2 col4\" >10.10</td>\n",
       "      <td id=\"T_7a72f_row2_col5\" class=\"data row2 col5\" >272,700.00</td>\n",
       "      <td id=\"T_7a72f_row2_col6\" class=\"data row2 col6\" >1.1000</td>\n",
       "      <td id=\"T_7a72f_row2_col7\" class=\"data row2 col7\" >29,700.00</td>\n",
       "      <td id=\"T_7a72f_row2_col8\" class=\"data row2 col8\" >10.89%</td>\n",
       "      <td id=\"T_7a72f_row2_col9\" class=\"data row2 col9\" >3.0</td>\n",
       "      <td id=\"T_7a72f_row2_col10\" class=\"data row2 col10\" >15.0</td>\n",
       "    </tr>\n",
       "    <tr>\n",
       "      <th id=\"T_7a72f_level0_row3\" class=\"row_heading level0 row3\" >4</th>\n",
       "      <td id=\"T_7a72f_row3_col0\" class=\"data row3 col0\" >MCS</td>\n",
       "      <td id=\"T_7a72f_row3_col1\" class=\"data row3 col1\" >60,000</td>\n",
       "      <td id=\"T_7a72f_row3_col2\" class=\"data row3 col2\" >16.70</td>\n",
       "      <td id=\"T_7a72f_row3_col3\" class=\"data row3 col3\" >1,002,000.00</td>\n",
       "      <td id=\"T_7a72f_row3_col4\" class=\"data row3 col4\" >14.60</td>\n",
       "      <td id=\"T_7a72f_row3_col5\" class=\"data row3 col5\" >876,000.00</td>\n",
       "      <td id=\"T_7a72f_row3_col6\" class=\"data row3 col6\" >1.3700</td>\n",
       "      <td id=\"T_7a72f_row3_col7\" class=\"data row3 col7\" >82,200.00</td>\n",
       "      <td id=\"T_7a72f_row3_col8\" class=\"data row3 col8\" >9.38%</td>\n",
       "      <td id=\"T_7a72f_row3_col9\" class=\"data row3 col9\" >4.0</td>\n",
       "      <td id=\"T_7a72f_row3_col10\" class=\"data row3 col10\" >2.0</td>\n",
       "    </tr>\n",
       "    <tr>\n",
       "      <th id=\"T_7a72f_level0_row4\" class=\"row_heading level0 row4\" >12</th>\n",
       "      <td id=\"T_7a72f_row4_col0\" class=\"data row4 col0\" >JASIF</td>\n",
       "      <td id=\"T_7a72f_row4_col1\" class=\"data row4 col1\" >100,000</td>\n",
       "      <td id=\"T_7a72f_row4_col2\" class=\"data row4 col2\" >10.00</td>\n",
       "      <td id=\"T_7a72f_row4_col3\" class=\"data row4 col3\" >1,000,000.00</td>\n",
       "      <td id=\"T_7a72f_row4_col4\" class=\"data row4 col4\" >10.60</td>\n",
       "      <td id=\"T_7a72f_row4_col5\" class=\"data row4 col5\" >1,060,000.00</td>\n",
       "      <td id=\"T_7a72f_row4_col6\" class=\"data row4 col6\" >0.9500</td>\n",
       "      <td id=\"T_7a72f_row4_col7\" class=\"data row4 col7\" >95,000.00</td>\n",
       "      <td id=\"T_7a72f_row4_col8\" class=\"data row4 col8\" >8.96%</td>\n",
       "      <td id=\"T_7a72f_row4_col9\" class=\"data row4 col9\" >5.0</td>\n",
       "      <td id=\"T_7a72f_row4_col10\" class=\"data row4 col10\" >1.0</td>\n",
       "    </tr>\n",
       "  </tbody>\n",
       "</table>\n"
      ],
      "text/plain": [
       "<pandas.io.formats.style.Styler at 0x2b1470e33a0>"
      ]
     },
     "execution_count": 18,
     "metadata": {},
     "output_type": "execute_result"
    }
   ],
   "source": [
    "df = pd.read_sql(sql, const)\n",
    "df.rename(columns={'volbuy': 'shares'}, inplace=True)\n",
    "df['shares'] = df.shares.astype(int)\n",
    "df['cost_amt'] = round(df['shares'] * df['unit_cost'], 2)\n",
    "df['mkt_amt'] = round(df['shares'] * df['mkt_price'], 2)\n",
    "df['div_amt'] = round(df['shares'] * df['dividend'], 2)\n",
    "df['cost_pct'] = round(df['div_amt'] / df['cost_amt'] * 100,2)\n",
    "df['mkt_pct'] = round(df['div_amt'] / df['mkt_amt'] * 100,2)\n",
    "df['pft_pct'] = round((df['mkt_amt'] - df['cost_amt']) / df['cost_amt'] * 100,2)\n",
    "df['div_rnk'] = df.mkt_pct.rank(ascending=False)\n",
    "df['amt_rnk'] = df.mkt_amt.rank(ascending=False)\n",
    "df[colu].sort_values(['div_rnk'],ascending=[True]).head().style.format(format_dict)"
   ]
  },
  {
   "cell_type": "code",
   "execution_count": 19,
   "metadata": {
    "scrolled": false
   },
   "outputs": [
    {
     "data": {},
     "metadata": {},
     "output_type": "display_data"
    },
    {
     "data": {
      "application/vnd.holoviews_exec.v0+json": "",
      "text/html": [
       "<div id='1055'>\n",
       "\n",
       "\n",
       "\n",
       "\n",
       "\n",
       "  <div class=\"bk-root\" id=\"13c42771-1e2b-463c-84df-77d538a0b26f\" data-root-id=\"1055\"></div>\n",
       "</div>\n",
       "<script type=\"application/javascript\">(function(root) {\n",
       "  function embed_document(root) {\n",
       "    var docs_json = {\"62ae1aa2-450a-4627-9c72-394e36eab6f3\":{\"defs\":[{\"extends\":null,\"module\":null,\"name\":\"ReactiveHTML1\",\"overrides\":[],\"properties\":[]},{\"extends\":null,\"module\":null,\"name\":\"FlexBox1\",\"overrides\":[],\"properties\":[{\"default\":\"flex-start\",\"kind\":null,\"name\":\"align_content\"},{\"default\":\"flex-start\",\"kind\":null,\"name\":\"align_items\"},{\"default\":\"row\",\"kind\":null,\"name\":\"flex_direction\"},{\"default\":\"wrap\",\"kind\":null,\"name\":\"flex_wrap\"},{\"default\":\"flex-start\",\"kind\":null,\"name\":\"justify_content\"}]},{\"extends\":null,\"module\":null,\"name\":\"TemplateActions1\",\"overrides\":[],\"properties\":[{\"default\":0,\"kind\":null,\"name\":\"open_modal\"},{\"default\":0,\"kind\":null,\"name\":\"close_modal\"}]},{\"extends\":null,\"module\":null,\"name\":\"MaterialTemplateActions1\",\"overrides\":[],\"properties\":[{\"default\":0,\"kind\":null,\"name\":\"open_modal\"},{\"default\":0,\"kind\":null,\"name\":\"close_modal\"}]}],\"roots\":{\"references\":[{\"attributes\":{\"editor\":{\"id\":\"1036\"},\"field\":\"mkt_amt\",\"formatter\":{\"id\":\"1035\"},\"title\":\"mkt_amt\",\"width\":0},\"id\":\"1037\",\"type\":\"TableColumn\"},{\"attributes\":{},\"id\":\"1006\",\"type\":\"CellEditor\"},{\"attributes\":{\"format\":\"0,0.0[00000]\"},\"id\":\"1045\",\"type\":\"NumberFormatter\"},{\"attributes\":{\"format\":\"0,0.0[00000]\"},\"id\":\"1020\",\"type\":\"NumberFormatter\"},{\"attributes\":{},\"id\":\"1031\",\"type\":\"NumberEditor\"},{\"attributes\":{\"editor\":{\"id\":\"1041\"},\"field\":\"amt_rnk\",\"formatter\":{\"id\":\"1040\"},\"title\":\"amt_rnk\",\"width\":0},\"id\":\"1042\",\"type\":\"TableColumn\"},{\"attributes\":{\"format\":\"0,0.0[00000]\"},\"id\":\"1040\",\"type\":\"NumberFormatter\"},{\"attributes\":{\"editor\":{\"id\":\"1016\"},\"field\":\"shares\",\"formatter\":{\"id\":\"1015\"},\"title\":\"shares\",\"width\":0},\"id\":\"1017\",\"type\":\"TableColumn\"},{\"attributes\":{\"editor\":{\"id\":\"1026\"},\"field\":\"cost_amt\",\"formatter\":{\"id\":\"1025\"},\"title\":\"cost_amt\",\"width\":0},\"id\":\"1027\",\"type\":\"TableColumn\"},{\"attributes\":{\"format\":\"0,0.0[00000]\"},\"id\":\"1030\",\"type\":\"NumberFormatter\"},{\"attributes\":{},\"id\":\"1046\",\"type\":\"NumberEditor\"},{\"attributes\":{\"editor\":{\"id\":\"1006\"},\"field\":\"index\",\"formatter\":{\"id\":\"1004\"},\"title\":\"index\",\"width\":0},\"id\":\"1007\",\"type\":\"TableColumn\"},{\"attributes\":{\"format\":\"0,0.0[00000]\"},\"id\":\"1050\",\"type\":\"NumberFormatter\"},{\"attributes\":{\"reload\":false},\"id\":\"1070\",\"type\":\"panel.models.location.Location\"},{\"attributes\":{\"client_comm_id\":\"bc41bfaf2fbd47b5a33a420bac60ad79\",\"comm_id\":\"31cdd5ec375947b0ab3c22a194ca1edb\",\"plot_id\":\"1055\"},\"id\":\"1063\",\"type\":\"panel.models.comm_manager.CommManager\"},{\"attributes\":{},\"id\":\"1057\",\"type\":\"UnionRenderers\"},{\"attributes\":{\"editor\":{\"id\":\"1031\"},\"field\":\"mkt_price\",\"formatter\":{\"id\":\"1030\"},\"title\":\"mkt_price\",\"width\":0},\"id\":\"1032\",\"type\":\"TableColumn\"},{\"attributes\":{\"editor\":{\"id\":\"1051\"},\"field\":\"div_rnk\",\"formatter\":{\"id\":\"1050\"},\"title\":\"div_rnk\",\"width\":0},\"id\":\"1052\",\"type\":\"TableColumn\"},{\"attributes\":{},\"id\":\"1036\",\"type\":\"NumberEditor\"},{\"attributes\":{},\"id\":\"1021\",\"type\":\"NumberEditor\"},{\"attributes\":{},\"id\":\"1026\",\"type\":\"NumberEditor\"},{\"attributes\":{\"format\":\"0,0.0[00000]\"},\"id\":\"1025\",\"type\":\"NumberFormatter\"},{\"attributes\":{},\"id\":\"1004\",\"type\":\"NumberFormatter\"},{\"attributes\":{\"format\":\"0,0.0[00000]\"},\"id\":\"1035\",\"type\":\"NumberFormatter\"},{\"attributes\":{},\"id\":\"1015\",\"type\":\"NumberFormatter\"},{\"attributes\":{},\"id\":\"1051\",\"type\":\"NumberEditor\"},{\"attributes\":{},\"id\":\"1011\",\"type\":\"StringEditor\"},{\"attributes\":{},\"id\":\"1041\",\"type\":\"NumberEditor\"},{\"attributes\":{\"indices\":[]},\"id\":\"1003\",\"type\":\"Selection\"},{\"attributes\":{\"editor\":{\"id\":\"1021\"},\"field\":\"unit_cost\",\"formatter\":{\"id\":\"1020\"},\"title\":\"unit_cost\",\"width\":0},\"id\":\"1022\",\"type\":\"TableColumn\"},{\"attributes\":{\"editor\":{\"id\":\"1011\"},\"field\":\"name\",\"formatter\":{\"id\":\"1010\"},\"title\":\"name\",\"width\":0},\"id\":\"1012\",\"type\":\"TableColumn\"},{\"attributes\":{\"editor\":{\"id\":\"1046\"},\"field\":\"mkt_pct\",\"formatter\":{\"id\":\"1045\"},\"title\":\"mkt_pct\",\"width\":0},\"id\":\"1047\",\"type\":\"TableColumn\"},{\"attributes\":{\"data\":{\"amt_rnk\":{\"__ndarray__\":\"AAAAAAAAEEAAAAAAAAAUQAAAAAAAABxAAAAAAAAAAEAAAAAAAADwPwAAAAAAACBAAAAAAAAAGEAAAAAAAAAIQAAAAAAAACJA\",\"dtype\":\"float64\",\"order\":\"little\",\"shape\":[9]},\"cost_amt\":{\"__ndarray__\":\"AAAAALA1JUEAAAAAoOoaQQAAAACwTRFBAAAAACCULkEAAAAAgIQuQQAAAABQYxBBAAAAAJghGUEAAAAAoOoqQQAAAADAzQdB\",\"dtype\":\"float64\",\"order\":\"little\",\"shape\":[9]},\"div_rnk\":{\"__ndarray__\":\"AAAAAAAA8D8AAAAAAAAAQAAAAAAAAAhAAAAAAAAAEEAAAAAAAAAUQAAAAAAAABhAAAAAAAAAHEAAAAAAAAAgQAAAAAAAACJA\",\"dtype\":\"float64\",\"order\":\"little\",\"shape\":[9]},\"index\":[0,22,6,4,12,16,1,5,14],\"mkt_amt\":{\"__ndarray__\":\"AAAAAFDaIUEAAAAAkDkYQQAAAADwpBBBAAAAAMC7KkEAAAAAoCwwQQAAAAAAHRBBAAAAAIArGEEAAAAAIC8qQQAAAACArgdB\",\"dtype\":\"float64\",\"order\":\"little\",\"shape\":[9]},\"mkt_pct\":{\"__ndarray__\":\"MzMzMzPzMUB7FK5H4foqQEjhehSuxyVAw/UoXI/CIkDsUbgeheshQIXrUbgehR9Aj8L1KFyPHUAzMzMzMzMdQPYoXI/C9RlA\",\"dtype\":\"float64\",\"order\":\"little\",\"shape\":[9]},\"mkt_price\":{\"__ndarray__\":\"AAAAAABAPUAzMzMzMzMZQDMzMzMzMyRAMzMzMzMzLUAzMzMzMzMlQJqZmZmZmSFAAAAAAAAARkCamZmZmZksQAAAAAAAQFhA\",\"dtype\":\"float64\",\"order\":\"little\",\"shape\":[9]},\"name\":[\"STA\",\"NOBLE\",\"TMT\",\"MCS\",\"JASIF\",\"HREIT\",\"RATCH\",\"DIF\",\"TISCO\"],\"shares\":{\"__ndarray__\":\"IE4AABj2AAB4aQAAYOoAAKCGAQAwdQAAKCMAAGDqAADQBwAA\",\"dtype\":\"int32\",\"order\":\"little\",\"shape\":[9]},\"unit_cost\":{\"__ndarray__\":\"AAAAAABgQUAAAAAAAAAcQAAAAAAAACVAMzMzMzOzMEAAAAAAAAAkQGZmZmZm5iFAAAAAAADgRkBmZmZmZmYtQAAAAAAAYFhA\",\"dtype\":\"float64\",\"order\":\"little\",\"shape\":[9]}},\"selected\":{\"id\":\"1003\"},\"selection_policy\":{\"id\":\"1057\"}},\"id\":\"1002\",\"type\":\"ColumnDataSource\"},{\"attributes\":{},\"id\":\"1010\",\"type\":\"StringFormatter\"},{\"attributes\":{},\"id\":\"1016\",\"type\":\"IntEditor\"},{\"attributes\":{\"columns\":[{\"id\":\"1007\"},{\"id\":\"1012\"},{\"id\":\"1017\"},{\"id\":\"1022\"},{\"id\":\"1027\"},{\"id\":\"1032\"},{\"id\":\"1037\"},{\"id\":\"1042\"},{\"id\":\"1047\"},{\"id\":\"1052\"}],\"configuration\":{\"columns\":[{\"field\":\"index\"},{\"field\":\"name\"},{\"field\":\"shares\"},{\"field\":\"unit_cost\"},{\"field\":\"cost_amt\"},{\"field\":\"mkt_price\"},{\"field\":\"mkt_amt\"},{\"field\":\"amt_rnk\"},{\"field\":\"mkt_pct\"},{\"field\":\"div_rnk\"}],\"dataTree\":false,\"selectable\":true},\"height\":300,\"indexes\":[\"index\"],\"margin\":[5,10,5,10],\"name\":\"\",\"page\":1,\"page_size\":20,\"selectable_rows\":null,\"source\":{\"id\":\"1002\"},\"width\":900},\"id\":\"1055\",\"type\":\"panel.models.tabulator.DataTabulator\"}],\"root_ids\":[\"1055\",\"1063\",\"1070\"]},\"title\":\"Bokeh Application\",\"version\":\"2.3.3\"}};\n",
       "    var render_items = [{\"docid\":\"62ae1aa2-450a-4627-9c72-394e36eab6f3\",\"root_ids\":[\"1055\"],\"roots\":{\"1055\":\"13c42771-1e2b-463c-84df-77d538a0b26f\"}}];\n",
       "    root.Bokeh.embed.embed_items_notebook(docs_json, render_items);\n",
       "  }\n",
       "  if (root.Bokeh !== undefined && root.Bokeh.Panel !== undefined && ( root['Tabulator'] !== undefined)) {\n",
       "    embed_document(root);\n",
       "  } else {\n",
       "    var attempts = 0;\n",
       "    var timer = setInterval(function(root) {\n",
       "      if (root.Bokeh !== undefined && root.Bokeh.Panel !== undefined && (root['Tabulator'] !== undefined)) {\n",
       "        clearInterval(timer);\n",
       "        embed_document(root);\n",
       "      } else if (document.readyState == \"complete\") {\n",
       "        attempts++;\n",
       "        if (attempts > 200) {\n",
       "          clearInterval(timer);\n",
       "          console.log(\"Bokeh: ERROR: Unable to run BokehJS code because BokehJS library is missing\");\n",
       "        }\n",
       "      }\n",
       "    }, 25, root)\n",
       "  }\n",
       "})(window);</script>"
      ],
      "text/plain": [
       "Tabulator(layout='fit_data', value=     name  shares  ..., width=900)"
      ]
     },
     "execution_count": 19,
     "metadata": {
      "application/vnd.holoviews_exec.v0+json": {
       "id": "1055"
      }
     },
     "output_type": "execute_result"
    }
   ],
   "source": [
    "df2 = df[df['period'] == '2'].copy()\n",
    "df2['div_rnk'] = df2.mkt_pct.rank(ascending=False)\n",
    "df2['amt_rnk'] = df2.mkt_amt.rank(ascending=False)\n",
    "df2_out = df2[colt].sort_values('div_rnk')\n",
    "df2_tab = pn.widgets.Tabulator(df2_out, layout='fit_data', width=900)\n",
    "df2_tab"
   ]
  },
  {
   "cell_type": "code",
   "execution_count": 20,
   "metadata": {},
   "outputs": [],
   "source": [
    "#df2_out.div_amt.sum()"
   ]
  },
  {
   "cell_type": "code",
   "execution_count": 21,
   "metadata": {},
   "outputs": [
    {
     "data": {
      "text/plain": [
       "3    18\n",
       "2     9\n",
       "4     6\n",
       "1     1\n",
       "Name: period, dtype: int64"
      ]
     },
     "execution_count": 21,
     "metadata": {},
     "output_type": "execute_result"
    }
   ],
   "source": [
    "df.period.value_counts()"
   ]
  },
  {
   "cell_type": "code",
   "execution_count": 22,
   "metadata": {},
   "outputs": [
    {
     "data": {
      "text/html": [
       "<style type=\"text/css\">\n",
       "</style>\n",
       "<table id=\"T_128a5_\">\n",
       "  <thead>\n",
       "    <tr>\n",
       "      <th class=\"blank level0\" >&nbsp;</th>\n",
       "      <th class=\"col_heading level0 col0\" >period</th>\n",
       "    </tr>\n",
       "  </thead>\n",
       "  <tbody>\n",
       "    <tr>\n",
       "      <th id=\"T_128a5_level0_row0\" class=\"row_heading level0 row0\" >3</th>\n",
       "      <td id=\"T_128a5_row0_col0\" class=\"data row0 col0\" >52.9%</td>\n",
       "    </tr>\n",
       "    <tr>\n",
       "      <th id=\"T_128a5_level0_row1\" class=\"row_heading level0 row1\" >2</th>\n",
       "      <td id=\"T_128a5_row1_col0\" class=\"data row1 col0\" >26.5%</td>\n",
       "    </tr>\n",
       "    <tr>\n",
       "      <th id=\"T_128a5_level0_row2\" class=\"row_heading level0 row2\" >4</th>\n",
       "      <td id=\"T_128a5_row2_col0\" class=\"data row2 col0\" >17.6%</td>\n",
       "    </tr>\n",
       "    <tr>\n",
       "      <th id=\"T_128a5_level0_row3\" class=\"row_heading level0 row3\" >1</th>\n",
       "      <td id=\"T_128a5_row3_col0\" class=\"data row3 col0\" >2.9%</td>\n",
       "    </tr>\n",
       "  </tbody>\n",
       "</table>\n"
      ],
      "text/plain": [
       "<pandas.io.formats.style.Styler at 0x2b144c78100>"
      ]
     },
     "execution_count": 22,
     "metadata": {},
     "output_type": "execute_result"
    }
   ],
   "source": [
    "df.period.value_counts(normalize=True).to_frame().style.format('{:.1%}')"
   ]
  },
  {
   "cell_type": "code",
   "execution_count": 23,
   "metadata": {},
   "outputs": [
    {
     "name": "stderr",
     "output_type": "stream",
     "text": [
      "C:\\ProgramData\\Anaconda3\\lib\\site-packages\\seaborn\\_decorators.py:36: FutureWarning: Pass the following variables as keyword args: x, y. From version 0.12, the only valid positional argument will be `data`, and passing other arguments without an explicit keyword will result in an error or misinterpretation.\n",
      "  warnings.warn(\n"
     ]
    },
    {
     "data": {
      "image/png": "[encoded data removed]",
      "text/plain": [
       "<Figure size 720x360 with 1 Axes>"
      ]
     },
     "metadata": {
      "needs_background": "light"
     },
     "output_type": "display_data"
    }
   ],
   "source": [
    "Period_Count =\\\n",
    "df.period.value_counts(sort=True).nlargest(3)\n",
    "plt.figure(figsize=(10,5))\n",
    "sns.barplot(Period_Count.index,\n",
    "Period_Count.values, alpha=0.8)\n",
    "plt.show()"
   ]
  },
  {
   "cell_type": "code",
   "execution_count": 24,
   "metadata": {},
   "outputs": [
    {
     "data": {},
     "metadata": {},
     "output_type": "display_data"
    },
    {
     "data": {
      "application/vnd.holoviews_exec.v0+json": "",
      "text/html": [
       "<div id='1130'>\n",
       "\n",
       "\n",
       "\n",
       "\n",
       "\n",
       "  <div class=\"bk-root\" id=\"3a6240fa-9dbd-4d94-b311-14b9a62be679\" data-root-id=\"1130\"></div>\n",
       "</div>\n",
       "<script type=\"application/javascript\">(function(root) {\n",
       "  function embed_document(root) {\n",
       "    var docs_json = {\"ef20b491-d502-4d49-96e0-0d867c807467\":{\"defs\":[{\"extends\":null,\"module\":null,\"name\":\"ReactiveHTML1\",\"overrides\":[],\"properties\":[]},{\"extends\":null,\"module\":null,\"name\":\"FlexBox1\",\"overrides\":[],\"properties\":[{\"default\":\"flex-start\",\"kind\":null,\"name\":\"align_content\"},{\"default\":\"flex-start\",\"kind\":null,\"name\":\"align_items\"},{\"default\":\"row\",\"kind\":null,\"name\":\"flex_direction\"},{\"default\":\"wrap\",\"kind\":null,\"name\":\"flex_wrap\"},{\"default\":\"flex-start\",\"kind\":null,\"name\":\"justify_content\"}]},{\"extends\":null,\"module\":null,\"name\":\"TemplateActions1\",\"overrides\":[],\"properties\":[{\"default\":0,\"kind\":null,\"name\":\"open_modal\"},{\"default\":0,\"kind\":null,\"name\":\"close_modal\"}]},{\"extends\":null,\"module\":null,\"name\":\"MaterialTemplateActions1\",\"overrides\":[],\"properties\":[{\"default\":0,\"kind\":null,\"name\":\"open_modal\"},{\"default\":0,\"kind\":null,\"name\":\"close_modal\"}]}],\"roots\":{\"references\":[{\"attributes\":{\"format\":\"0,0.0[00000]\"},\"id\":\"1095\",\"type\":\"NumberFormatter\"},{\"attributes\":{\"format\":\"0,0.0[00000]\"},\"id\":\"1110\",\"type\":\"NumberFormatter\"},{\"attributes\":{},\"id\":\"1111\",\"type\":\"NumberEditor\"},{\"attributes\":{\"editor\":{\"id\":\"1091\"},\"field\":\"shares\",\"formatter\":{\"id\":\"1090\"},\"title\":\"shares\",\"width\":0},\"id\":\"1092\",\"type\":\"TableColumn\"},{\"attributes\":{},\"id\":\"1132\",\"type\":\"UnionRenderers\"},{\"attributes\":{\"editor\":{\"id\":\"1111\"},\"field\":\"mkt_amt\",\"formatter\":{\"id\":\"1110\"},\"title\":\"mkt_amt\",\"width\":0},\"id\":\"1112\",\"type\":\"TableColumn\"},{\"attributes\":{\"editor\":{\"id\":\"1101\"},\"field\":\"cost_amt\",\"formatter\":{\"id\":\"1100\"},\"title\":\"cost_amt\",\"width\":0},\"id\":\"1102\",\"type\":\"TableColumn\"},{\"attributes\":{\"format\":\"0,0.0[00000]\"},\"id\":\"1115\",\"type\":\"NumberFormatter\"},{\"attributes\":{},\"id\":\"1106\",\"type\":\"NumberEditor\"},{\"attributes\":{\"columns\":[{\"id\":\"1082\"},{\"id\":\"1087\"},{\"id\":\"1092\"},{\"id\":\"1097\"},{\"id\":\"1102\"},{\"id\":\"1107\"},{\"id\":\"1112\"},{\"id\":\"1117\"},{\"id\":\"1122\"},{\"id\":\"1127\"}],\"configuration\":{\"columns\":[{\"field\":\"index\"},{\"field\":\"name\"},{\"field\":\"shares\"},{\"field\":\"unit_cost\"},{\"field\":\"cost_amt\"},{\"field\":\"mkt_price\"},{\"field\":\"mkt_amt\"},{\"field\":\"amt_rnk\"},{\"field\":\"mkt_pct\"},{\"field\":\"div_rnk\"}],\"dataTree\":false,\"selectable\":true},\"height\":780,\"indexes\":[\"index\"],\"margin\":[5,10,5,10],\"name\":\"\",\"page\":1,\"page_size\":20,\"selectable_rows\":null,\"source\":{\"id\":\"1077\"},\"width\":900},\"id\":\"1130\",\"type\":\"panel.models.tabulator.DataTabulator\"},{\"attributes\":{},\"id\":\"1091\",\"type\":\"IntEditor\"},{\"attributes\":{},\"id\":\"1116\",\"type\":\"NumberEditor\"},{\"attributes\":{\"client_comm_id\":\"f89b363680df48478a9811b12be1acc8\",\"comm_id\":\"d7aa8544f4f640119a2ccf1b7039e5c7\",\"plot_id\":\"1130\"},\"id\":\"1138\",\"type\":\"panel.models.comm_manager.CommManager\"},{\"attributes\":{},\"id\":\"1090\",\"type\":\"NumberFormatter\"},{\"attributes\":{\"editor\":{\"id\":\"1116\"},\"field\":\"amt_rnk\",\"formatter\":{\"id\":\"1115\"},\"title\":\"amt_rnk\",\"width\":0},\"id\":\"1117\",\"type\":\"TableColumn\"},{\"attributes\":{\"indices\":[]},\"id\":\"1078\",\"type\":\"Selection\"},{\"attributes\":{\"format\":\"0,0.0[00000]\"},\"id\":\"1120\",\"type\":\"NumberFormatter\"},{\"attributes\":{},\"id\":\"1121\",\"type\":\"NumberEditor\"},{\"attributes\":{\"editor\":{\"id\":\"1086\"},\"field\":\"name\",\"formatter\":{\"id\":\"1085\"},\"title\":\"name\",\"width\":0},\"id\":\"1087\",\"type\":\"TableColumn\"},{\"attributes\":{\"data\":{\"amt_rnk\":{\"__ndarray__\":\"AAAAAAAAKkAAAAAAAAA2QAAAAAAAgDRAAAAAAAAAFEAAAAAAAAAQQAAAAAAAADJAAAAAAAAACEAAAAAAAAAlQAAAAAAAABhAAAAAAAAALkAAAAAAAAA3QAAAAAAAACVAAAAAAACANEAAAAAAAADwPwAAAAAAACBAAAAAAAAAAEAAAAAAAAAcQAAAAAAAAChAAAAAAACAMEAAAAAAAAAiQAAAAAAAgDBAAAAAAAAAM0AAAAAAAAA4QAAAAAAAACxAAAAAAAAAOUA=\",\"dtype\":\"float64\",\"order\":\"little\",\"shape\":[25]},\"cost_amt\":{\"__ndarray__\":\"AAAAANBxCEEAAAAAgIT+QAAAAAAAFwFBAAAAAFC2F0EAAAAAECYVQQAAAACgIAJBAAAAAADaFkEAAAAAoF4QQQAAAADg3BVBAAAAAIBPAkEAAAAAwKn9QAAAAAAA7w9BAAAAALBNAUEAAAAAAMMeQQAAAAAwgBNBAAAAAMAgH0EAAAAAAPkVQQAAAAAg5AlBAAAAAIBPAkEAAAAAQMwRQQAAAACATwJBAAAAAACOAkEAAAAAQHf7QAAAAACAxgNBAAAAAABk+UA=\",\"dtype\":\"float64\",\"order\":\"little\",\"shape\":[25]},\"div_rnk\":{\"__ndarray__\":\"AAAAAAAA8D8AAAAAAAAAQAAAAAAAAAhAAAAAAAAAEEAAAAAAAAAUQAAAAAAAABhAAAAAAAAAHEAAAAAAAAAgQAAAAAAAACJAAAAAAAAAJEAAAAAAAAAmQAAAAAAAAChAAAAAAAAAKkAAAAAAAAAsQAAAAAAAAC5AAAAAAAAAMEAAAAAAAAAxQAAAAAAAADJAAAAAAAAAM0AAAAAAAAA0QAAAAAAAAPh/AAAAAAAA+H8AAAAAAAD4fwAAAAAAAPh/AAAAAAAA+H8=\",\"dtype\":\"float64\",\"order\":\"little\",\"shape\":[25]},\"index\":[31,8,19,15,21,32,20,23,29,10,17,25,27,2,9,3,28,33,18,11,7,13,24,26,30],\"mkt_amt\":{\"__ndarray__\":\"AAAAAOCeB0EAAAAAgAf+QAAAAADAegBBAAAAADD3FEEAAAAAOEkVQQAAAACgIAJBAAAAAICIFUEAAAAAAKQPQQAAAACgwxRBAAAAAOA5A0EAAAAAwKn9QAAAAAAApA9BAAAAAMB6AEEAAAAA8O8gQQAAAABgBxFBAAAAAEB3G0EAAAAA+C8UQQAAAACg6gpBAAAAAIBPAkEAAAAAwHoQQQAAAACATwJBAAAAAAD+AEEAAAAAwLv6QAAAAADg+wRBAAAAAABk+UA=\",\"dtype\":\"float64\",\"order\":\"little\",\"shape\":[25]},\"mkt_pct\":{\"__ndarray__\":\"SOF6FK5HIEAAAAAAAAAbQGZmZmZmZhZA9ihcj8L1FEDXo3A9CtcUQJqZmZmZmRRAXI/C9ShcEUB7FK5H4XoIQDMzMzMzMwVA16NwPQrXA0DD9Shcj8IDQArXo3A9CgFA4XoUrkfh/j9xPQrXo3D9P1K4HoXrUfw/SOF6FK5H9T+F61G4HoXzPylcj8L1KOw/ZmZmZmZm5j8pXI/C9SjcPwAAAAAAAPh/AAAAAAAA+H8AAAAAAAD4fwAAAAAAAPh/AAAAAAAA+H8=\",\"dtype\":\"float64\",\"order\":\"little\",\"shape\":[25]},\"mkt_price\":{\"__ndarray__\":\"AAAAAACARUCamZmZmZkoQAAAAAAAACtAAAAAAACgTEAAAAAAAGBDQAAAAAAAgEBAmpmZmZmZM0DNzMzMzMwcQAAAAAAAoHdAAAAAAABASkAAAAAAAEBEQJqZmZmZmSVAAAAAAAAAPkAAAAAAACBHQJqZmZmZmTJAAAAAAADAUkAAAAAAAGBCQAAAAAAAADVAAAAAAAAAFEAAAAAAAIA2QAAAAAAAADRA16NwPQrXC0Bcj8L1KFz3P5qZmZmZGTNAzczMzMzMBEA=\",\"dtype\":\"float64\",\"order\":\"little\",\"shape\":[25]},\"name\":[\"RCL\",\"WHART\",\"LPF\",\"PTTGC\",\"PTT\",\"RJH\",\"TU\",\"NER\",\"SCC\",\"TOP\",\"SIS\",\"EPG\",\"SYNEX\",\"IVL\",\"BCH\",\"KCE\",\"BGRIM\",\"IP\",\"CKP\",\"DOHOME\",\"GLOBAL\",\"TYCN\",\"TSTH\",\"IMH\",\"TSE\"],\"shares\":{\"__ndarray__\":\"lBEAABAnAAAQJwAAcBcAACgjAACUEQAAUEYAAKCMAACEAwAAuAsAALgLAADAXQAAlBEAAOAuAACYOgAAcBcAACgjAAAEKQAAMHUAAOAuAABMHQAAQJwAAPgkAQAoIwAAQJwAAA==\",\"dtype\":\"int32\",\"order\":\"little\",\"shape\":[25]},\"unit_cost\":{\"__ndarray__\":\"AAAAAABARkAAAAAAAAApQAAAAAAAACxAAAAAAAAwUEAAAAAAAEBDQAAAAAAAgEBAzczMzMzMNEDNzMzMzMwdQAAAAAAA4HhAAAAAAAAASUAAAAAAAEBEQM3MzMzMzCVAAAAAAACAP0AAAAAAAABFQM3MzMzMTDVAAAAAAABAVUAAAAAAAABEQDMzMzMzMzRAAAAAAAAAFEDNzMzMzEw4QAAAAAAAADRAZmZmZmZmDkAAAAAAAAD4PwAAAAAAADJAzczMzMzMBEA=\",\"dtype\":\"float64\",\"order\":\"little\",\"shape\":[25]}},\"selected\":{\"id\":\"1078\"},\"selection_policy\":{\"id\":\"1132\"}},\"id\":\"1077\",\"type\":\"ColumnDataSource\"},{\"attributes\":{\"editor\":{\"id\":\"1106\"},\"field\":\"mkt_price\",\"formatter\":{\"id\":\"1105\"},\"title\":\"mkt_price\",\"width\":0},\"id\":\"1107\",\"type\":\"TableColumn\"},{\"attributes\":{},\"id\":\"1085\",\"type\":\"StringFormatter\"},{\"attributes\":{\"editor\":{\"id\":\"1121\"},\"field\":\"mkt_pct\",\"formatter\":{\"id\":\"1120\"},\"title\":\"mkt_pct\",\"width\":0},\"id\":\"1122\",\"type\":\"TableColumn\"},{\"attributes\":{},\"id\":\"1086\",\"type\":\"StringEditor\"},{\"attributes\":{\"format\":\"0,0.0[00000]\"},\"id\":\"1105\",\"type\":\"NumberFormatter\"},{\"attributes\":{\"format\":\"0,0.0[00000]\"},\"id\":\"1125\",\"type\":\"NumberFormatter\"},{\"attributes\":{},\"id\":\"1126\",\"type\":\"NumberEditor\"},{\"attributes\":{\"editor\":{\"id\":\"1126\"},\"field\":\"div_rnk\",\"formatter\":{\"id\":\"1125\"},\"title\":\"div_rnk\",\"width\":0},\"id\":\"1127\",\"type\":\"TableColumn\"},{\"attributes\":{},\"id\":\"1079\",\"type\":\"NumberFormatter\"},{\"attributes\":{},\"id\":\"1101\",\"type\":\"NumberEditor\"},{\"attributes\":{\"editor\":{\"id\":\"1096\"},\"field\":\"unit_cost\",\"formatter\":{\"id\":\"1095\"},\"title\":\"unit_cost\",\"width\":0},\"id\":\"1097\",\"type\":\"TableColumn\"},{\"attributes\":{\"editor\":{\"id\":\"1081\"},\"field\":\"index\",\"formatter\":{\"id\":\"1079\"},\"title\":\"index\",\"width\":0},\"id\":\"1082\",\"type\":\"TableColumn\"},{\"attributes\":{},\"id\":\"1081\",\"type\":\"CellEditor\"},{\"attributes\":{\"format\":\"0,0.0[00000]\"},\"id\":\"1100\",\"type\":\"NumberFormatter\"},{\"attributes\":{},\"id\":\"1096\",\"type\":\"NumberEditor\"}],\"root_ids\":[\"1130\",\"1138\"]},\"title\":\"Bokeh Application\",\"version\":\"2.3.3\"}};\n",
       "    var render_items = [{\"docid\":\"ef20b491-d502-4d49-96e0-0d867c807467\",\"root_ids\":[\"1130\"],\"roots\":{\"1130\":\"3a6240fa-9dbd-4d94-b311-14b9a62be679\"}}];\n",
       "    root.Bokeh.embed.embed_items_notebook(docs_json, render_items);\n",
       "  }\n",
       "  if (root.Bokeh !== undefined && root.Bokeh.Panel !== undefined && ( root['Tabulator'] !== undefined)) {\n",
       "    embed_document(root);\n",
       "  } else {\n",
       "    var attempts = 0;\n",
       "    var timer = setInterval(function(root) {\n",
       "      if (root.Bokeh !== undefined && root.Bokeh.Panel !== undefined && (root['Tabulator'] !== undefined)) {\n",
       "        clearInterval(timer);\n",
       "        embed_document(root);\n",
       "      } else if (document.readyState == \"complete\") {\n",
       "        attempts++;\n",
       "        if (attempts > 200) {\n",
       "          clearInterval(timer);\n",
       "          console.log(\"Bokeh: ERROR: Unable to run BokehJS code because BokehJS library is missing\");\n",
       "        }\n",
       "      }\n",
       "    }, 25, root)\n",
       "  }\n",
       "})(window);</script>"
      ],
      "text/plain": [
       "Tabulator(layout='fit_data', value=      name  shares  ..., width=900)"
      ]
     },
     "execution_count": 24,
     "metadata": {
      "application/vnd.holoviews_exec.v0+json": {
       "id": "1130"
      }
     },
     "output_type": "execute_result"
    }
   ],
   "source": [
    "df9 = df[df['period'] != '2'].copy()\n",
    "df9['div_rnk'] = df9.mkt_pct.rank(ascending=False)\n",
    "df9['amt_rnk'] = df9.mkt_amt.rank(ascending=False)\n",
    "df9_out = df9[colt].sort_values('div_rnk')\n",
    "df9_tab = pn.widgets.Tabulator(df9_out, layout='fit_data', width=900)\n",
    "df9_tab"
   ]
  },
  {
   "cell_type": "code",
   "execution_count": 25,
   "metadata": {},
   "outputs": [
    {
     "data": {
      "text/html": [
       "<style type=\"text/css\">\n",
       "</style>\n",
       "<table id=\"T_9a104_\">\n",
       "  <thead>\n",
       "    <tr>\n",
       "      <th class=\"blank level0\" >&nbsp;</th>\n",
       "      <th class=\"col_heading level0 col0\" >name</th>\n",
       "      <th class=\"col_heading level0 col1\" >shares</th>\n",
       "      <th class=\"col_heading level0 col2\" >unit_cost</th>\n",
       "      <th class=\"col_heading level0 col3\" >dividend</th>\n",
       "      <th class=\"col_heading level0 col4\" >mkt_price</th>\n",
       "      <th class=\"col_heading level0 col5\" >period</th>\n",
       "      <th class=\"col_heading level0 col6\" >cost_amt</th>\n",
       "      <th class=\"col_heading level0 col7\" >mkt_amt</th>\n",
       "      <th class=\"col_heading level0 col8\" >div_amt</th>\n",
       "      <th class=\"col_heading level0 col9\" >cost_pct</th>\n",
       "      <th class=\"col_heading level0 col10\" >mkt_pct</th>\n",
       "      <th class=\"col_heading level0 col11\" >pft_pct</th>\n",
       "      <th class=\"col_heading level0 col12\" >div_rnk</th>\n",
       "      <th class=\"col_heading level0 col13\" >amt_rnk</th>\n",
       "    </tr>\n",
       "  </thead>\n",
       "  <tbody>\n",
       "    <tr>\n",
       "      <th id=\"T_9a104_level0_row0\" class=\"row_heading level0 row0\" >8</th>\n",
       "      <td id=\"T_9a104_row0_col0\" class=\"data row0 col0\" >WHART</td>\n",
       "      <td id=\"T_9a104_row0_col1\" class=\"data row0 col1\" >10,000</td>\n",
       "      <td id=\"T_9a104_row0_col2\" class=\"data row0 col2\" >12.50</td>\n",
       "      <td id=\"T_9a104_row0_col3\" class=\"data row0 col3\" >0.8298</td>\n",
       "      <td id=\"T_9a104_row0_col4\" class=\"data row0 col4\" >12.30</td>\n",
       "      <td id=\"T_9a104_row0_col5\" class=\"data row0 col5\" >4</td>\n",
       "      <td id=\"T_9a104_row0_col6\" class=\"data row0 col6\" >125,000.00</td>\n",
       "      <td id=\"T_9a104_row0_col7\" class=\"data row0 col7\" >123,000.00</td>\n",
       "      <td id=\"T_9a104_row0_col8\" class=\"data row0 col8\" >8,298.00</td>\n",
       "      <td id=\"T_9a104_row0_col9\" class=\"data row0 col9\" >6.64%</td>\n",
       "      <td id=\"T_9a104_row0_col10\" class=\"data row0 col10\" >6.75%</td>\n",
       "      <td id=\"T_9a104_row0_col11\" class=\"data row0 col11\" >-1.60%</td>\n",
       "      <td id=\"T_9a104_row0_col12\" class=\"data row0 col12\" >10.0</td>\n",
       "      <td id=\"T_9a104_row0_col13\" class=\"data row0 col13\" >31.0</td>\n",
       "    </tr>\n",
       "    <tr>\n",
       "      <th id=\"T_9a104_level0_row1\" class=\"row_heading level0 row1\" >19</th>\n",
       "      <td id=\"T_9a104_row1_col0\" class=\"data row1 col0\" >LPF</td>\n",
       "      <td id=\"T_9a104_row1_col1\" class=\"data row1 col1\" >10,000</td>\n",
       "      <td id=\"T_9a104_row1_col2\" class=\"data row1 col2\" >14.00</td>\n",
       "      <td id=\"T_9a104_row1_col3\" class=\"data row1 col3\" >0.7565</td>\n",
       "      <td id=\"T_9a104_row1_col4\" class=\"data row1 col4\" >13.50</td>\n",
       "      <td id=\"T_9a104_row1_col5\" class=\"data row1 col5\" >4</td>\n",
       "      <td id=\"T_9a104_row1_col6\" class=\"data row1 col6\" >140,000.00</td>\n",
       "      <td id=\"T_9a104_row1_col7\" class=\"data row1 col7\" >135,000.00</td>\n",
       "      <td id=\"T_9a104_row1_col8\" class=\"data row1 col8\" >7,565.00</td>\n",
       "      <td id=\"T_9a104_row1_col9\" class=\"data row1 col9\" >5.40%</td>\n",
       "      <td id=\"T_9a104_row1_col10\" class=\"data row1 col10\" >5.60%</td>\n",
       "      <td id=\"T_9a104_row1_col11\" class=\"data row1 col11\" >-3.57%</td>\n",
       "      <td id=\"T_9a104_row1_col12\" class=\"data row1 col12\" >12.0</td>\n",
       "      <td id=\"T_9a104_row1_col13\" class=\"data row1 col13\" >29.5</td>\n",
       "    </tr>\n",
       "    <tr>\n",
       "      <th id=\"T_9a104_level0_row2\" class=\"row_heading level0 row2\" >20</th>\n",
       "      <td id=\"T_9a104_row2_col0\" class=\"data row2 col0\" >TU</td>\n",
       "      <td id=\"T_9a104_row2_col1\" class=\"data row2 col1\" >18,000</td>\n",
       "      <td id=\"T_9a104_row2_col2\" class=\"data row2 col2\" >20.80</td>\n",
       "      <td id=\"T_9a104_row2_col3\" class=\"data row2 col3\" >0.8500</td>\n",
       "      <td id=\"T_9a104_row2_col4\" class=\"data row2 col4\" >19.60</td>\n",
       "      <td id=\"T_9a104_row2_col5\" class=\"data row2 col5\" >4</td>\n",
       "      <td id=\"T_9a104_row2_col6\" class=\"data row2 col6\" >374,400.00</td>\n",
       "      <td id=\"T_9a104_row2_col7\" class=\"data row2 col7\" >352,800.00</td>\n",
       "      <td id=\"T_9a104_row2_col8\" class=\"data row2 col8\" >15,300.00</td>\n",
       "      <td id=\"T_9a104_row2_col9\" class=\"data row2 col9\" >4.09%</td>\n",
       "      <td id=\"T_9a104_row2_col10\" class=\"data row2 col10\" >4.34%</td>\n",
       "      <td id=\"T_9a104_row2_col11\" class=\"data row2 col11\" >-5.77%</td>\n",
       "      <td id=\"T_9a104_row2_col12\" class=\"data row2 col12\" >16.0</td>\n",
       "      <td id=\"T_9a104_row2_col13\" class=\"data row2 col13\" >9.0</td>\n",
       "    </tr>\n",
       "    <tr>\n",
       "      <th id=\"T_9a104_level0_row3\" class=\"row_heading level0 row3\" >23</th>\n",
       "      <td id=\"T_9a104_row3_col0\" class=\"data row3 col0\" >NER</td>\n",
       "      <td id=\"T_9a104_row3_col1\" class=\"data row3 col1\" >36,000</td>\n",
       "      <td id=\"T_9a104_row3_col2\" class=\"data row3 col2\" >7.45</td>\n",
       "      <td id=\"T_9a104_row3_col3\" class=\"data row3 col3\" >0.2200</td>\n",
       "      <td id=\"T_9a104_row3_col4\" class=\"data row3 col4\" >7.20</td>\n",
       "      <td id=\"T_9a104_row3_col5\" class=\"data row3 col5\" >4</td>\n",
       "      <td id=\"T_9a104_row3_col6\" class=\"data row3 col6\" >268,200.00</td>\n",
       "      <td id=\"T_9a104_row3_col7\" class=\"data row3 col7\" >259,200.00</td>\n",
       "      <td id=\"T_9a104_row3_col8\" class=\"data row3 col8\" >7,920.00</td>\n",
       "      <td id=\"T_9a104_row3_col9\" class=\"data row3 col9\" >2.95%</td>\n",
       "      <td id=\"T_9a104_row3_col10\" class=\"data row3 col10\" >3.06%</td>\n",
       "      <td id=\"T_9a104_row3_col11\" class=\"data row3 col11\" >-3.36%</td>\n",
       "      <td id=\"T_9a104_row3_col12\" class=\"data row3 col12\" >17.0</td>\n",
       "      <td id=\"T_9a104_row3_col13\" class=\"data row3 col13\" >18.5</td>\n",
       "    </tr>\n",
       "    <tr>\n",
       "      <th id=\"T_9a104_level0_row4\" class=\"row_heading level0 row4\" >28</th>\n",
       "      <td id=\"T_9a104_row4_col0\" class=\"data row4 col0\" >BGRIM</td>\n",
       "      <td id=\"T_9a104_row4_col1\" class=\"data row4 col1\" >9,000</td>\n",
       "      <td id=\"T_9a104_row4_col2\" class=\"data row4 col2\" >40.00</td>\n",
       "      <td id=\"T_9a104_row4_col3\" class=\"data row4 col3\" >0.4500</td>\n",
       "      <td id=\"T_9a104_row4_col4\" class=\"data row4 col4\" >36.75</td>\n",
       "      <td id=\"T_9a104_row4_col5\" class=\"data row4 col5\" >4</td>\n",
       "      <td id=\"T_9a104_row4_col6\" class=\"data row4 col6\" >360,000.00</td>\n",
       "      <td id=\"T_9a104_row4_col7\" class=\"data row4 col7\" >330,750.00</td>\n",
       "      <td id=\"T_9a104_row4_col8\" class=\"data row4 col8\" >4,050.00</td>\n",
       "      <td id=\"T_9a104_row4_col9\" class=\"data row4 col9\" >1.12%</td>\n",
       "      <td id=\"T_9a104_row4_col10\" class=\"data row4 col10\" >1.22%</td>\n",
       "      <td id=\"T_9a104_row4_col11\" class=\"data row4 col11\" >-8.12%</td>\n",
       "      <td id=\"T_9a104_row4_col12\" class=\"data row4 col12\" >26.0</td>\n",
       "      <td id=\"T_9a104_row4_col13\" class=\"data row4 col13\" >13.0</td>\n",
       "    </tr>\n",
       "  </tbody>\n",
       "</table>\n"
      ],
      "text/plain": [
       "<pandas.io.formats.style.Styler at 0x2b14bd033d0>"
      ]
     },
     "execution_count": 25,
     "metadata": {},
     "output_type": "execute_result"
    }
   ],
   "source": [
    "short_term = (df.period == '4')\n",
    "df.loc[short_term].head().style.format(format_dict)"
   ]
  },
  {
   "cell_type": "code",
   "execution_count": 26,
   "metadata": {},
   "outputs": [
    {
     "data": {
      "text/plain": [
       "\"'WHART', 'LPF', 'TU', 'NER', 'BGRIM', 'RJH'\""
      ]
     },
     "execution_count": 26,
     "metadata": {},
     "output_type": "execute_result"
    }
   ],
   "source": [
    "data = df.loc[short_term]\n",
    "names = data['name']\n",
    "in_p = \", \".join(map(lambda name: \"'%s'\" % name, names))\n",
    "in_p"
   ]
  },
  {
   "cell_type": "code",
   "execution_count": 27,
   "metadata": {
    "scrolled": true
   },
   "outputs": [
    {
     "name": "stdout",
     "output_type": "stream",
     "text": [
      "\n",
      "SELECT name, min_price AS min, price, max_price AS max\n",
      "FROM stocks\n",
      "WHERE name IN ('WHART', 'LPF', 'TU', 'NER', 'BGRIM', 'RJH')\n"
     ]
    },
    {
     "data": {
      "text/html": [
       "<div>\n",
       "<style scoped>\n",
       "    .dataframe tbody tr th:only-of-type {\n",
       "        vertical-align: middle;\n",
       "    }\n",
       "\n",
       "    .dataframe tbody tr th {\n",
       "        vertical-align: top;\n",
       "    }\n",
       "\n",
       "    .dataframe thead th {\n",
       "        text-align: right;\n",
       "    }\n",
       "</style>\n",
       "<table border=\"1\" class=\"dataframe\">\n",
       "  <thead>\n",
       "    <tr style=\"text-align: right;\">\n",
       "      <th></th>\n",
       "      <th>min</th>\n",
       "      <th>price</th>\n",
       "      <th>max</th>\n",
       "    </tr>\n",
       "    <tr>\n",
       "      <th>name</th>\n",
       "      <th></th>\n",
       "      <th></th>\n",
       "      <th></th>\n",
       "    </tr>\n",
       "  </thead>\n",
       "  <tbody>\n",
       "    <tr>\n",
       "      <th>BGRIM</th>\n",
       "      <td>36.50</td>\n",
       "      <td>36.75</td>\n",
       "      <td>53.25</td>\n",
       "    </tr>\n",
       "    <tr>\n",
       "      <th>LPF</th>\n",
       "      <td>10.30</td>\n",
       "      <td>13.50</td>\n",
       "      <td>17.10</td>\n",
       "    </tr>\n",
       "    <tr>\n",
       "      <th>NER</th>\n",
       "      <td>4.54</td>\n",
       "      <td>7.20</td>\n",
       "      <td>8.65</td>\n",
       "    </tr>\n",
       "    <tr>\n",
       "      <th>RJH</th>\n",
       "      <td>23.90</td>\n",
       "      <td>33.00</td>\n",
       "      <td>39.00</td>\n",
       "    </tr>\n",
       "    <tr>\n",
       "      <th>TU</th>\n",
       "      <td>13.40</td>\n",
       "      <td>19.50</td>\n",
       "      <td>23.00</td>\n",
       "    </tr>\n",
       "    <tr>\n",
       "      <th>WHART</th>\n",
       "      <td>10.68</td>\n",
       "      <td>12.30</td>\n",
       "      <td>14.08</td>\n",
       "    </tr>\n",
       "  </tbody>\n",
       "</table>\n",
       "</div>"
      ],
      "text/plain": [
       "         min  price    max\n",
       "name                      \n",
       "BGRIM  36.50  36.75  53.25\n",
       "LPF    10.30  13.50  17.10\n",
       "NER     4.54   7.20   8.65\n",
       "RJH    23.90  33.00  39.00\n",
       "TU     13.40  19.50  23.00\n",
       "WHART  10.68  12.30  14.08"
      ]
     },
     "execution_count": 27,
     "metadata": {},
     "output_type": "execute_result"
    }
   ],
   "source": [
    "sql = '''\n",
    "SELECT name, min_price AS min, price, max_price AS max\n",
    "FROM stocks\n",
    "WHERE name IN (%s)'''\n",
    "sql = sql % in_p\n",
    "print(sql)\n",
    "\n",
    "stocks = pd.read_sql(sql, conmy)\n",
    "stocks.set_index('name',inplace=True)\n",
    "stocks"
   ]
  },
  {
   "cell_type": "code",
   "execution_count": 28,
   "metadata": {},
   "outputs": [],
   "source": [
    "#stocks.drop('SCC',inplace=True)\n",
    "#stocks"
   ]
  },
  {
   "cell_type": "code",
   "execution_count": 29,
   "metadata": {},
   "outputs": [
    {
     "data": {
      "text/plain": [
       "<AxesSubplot:xlabel='name'>"
      ]
     },
     "execution_count": 29,
     "metadata": {},
     "output_type": "execute_result"
    },
    {
     "data": {
      "image/png": "[encoded data removed]",
      "text/plain": [
       "<Figure size 432x288 with 1 Axes>"
      ]
     },
     "metadata": {
      "needs_background": "light"
     },
     "output_type": "display_data"
    }
   ],
   "source": [
    "stocks.plot.bar()"
   ]
  },
  {
   "cell_type": "code",
   "execution_count": 30,
   "metadata": {},
   "outputs": [],
   "source": [
    "#stocks.reset_index('name',inplace=True)\n",
    "#sns.barplot(x='name', y='price', data=stocks)"
   ]
  },
  {
   "cell_type": "code",
   "execution_count": null,
   "metadata": {},
   "outputs": [],
   "source": []
  }
 ],
 "metadata": {
  "anaconda-cloud": {},
  "kernelspec": {
   "display_name": "Python 3 (ipykernel)",
   "language": "python",
   "name": "python3"
  },
  "language_info": {
   "codemirror_mode": {
    "name": "ipython",
    "version": 3
   },
   "file_extension": ".py",
   "mimetype": "text/x-python",
   "name": "python",
   "nbconvert_exporter": "python",
   "pygments_lexer": "ipython3",
   "version": "3.8.11"
  }
 },
 "nbformat": 4,
 "nbformat_minor": 1
}
