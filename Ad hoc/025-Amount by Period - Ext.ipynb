{
 "cells": [
  {
   "cell_type": "code",
   "execution_count": 1,
   "metadata": {},
   "outputs": [
    {
     "data": {
      "application/javascript": [
       "\n",
       "(function(root) {\n",
       "  function now() {\n",
       "    return new Date();\n",
       "  }\n",
       "\n",
       "  var force = true;\n",
       "\n",
       "  if (typeof root._bokeh_onload_callbacks === \"undefined\" || force === true) {\n",
       "    root._bokeh_onload_callbacks = [];\n",
       "    root._bokeh_is_loading = undefined;\n",
       "  }\n",
       "\n",
       "  if (typeof (root._bokeh_timeout) === \"undefined\" || force === true) {\n",
       "    root._bokeh_timeout = Date.now() + 5000;\n",
       "    root._bokeh_failed_load = false;\n",
       "  }\n",
       "\n",
       "  function run_callbacks() {\n",
       "    try {\n",
       "      root._bokeh_onload_callbacks.forEach(function(callback) {\n",
       "        if (callback != null)\n",
       "          callback();\n",
       "      });\n",
       "    } finally {\n",
       "      delete root._bokeh_onload_callbacks\n",
       "    }\n",
       "    console.debug(\"Bokeh: all callbacks have finished\");\n",
       "  }\n",
       "\n",
       "  function load_libs(css_urls, js_urls, js_modules, callback) {\n",
       "    if (css_urls == null) css_urls = [];\n",
       "    if (js_urls == null) js_urls = [];\n",
       "    if (js_modules == null) js_modules = [];\n",
       "\n",
       "    root._bokeh_onload_callbacks.push(callback);\n",
       "    if (root._bokeh_is_loading > 0) {\n",
       "      console.debug(\"Bokeh: BokehJS is being loaded, scheduling callback at\", now());\n",
       "      return null;\n",
       "    }\n",
       "    if (js_urls.length === 0 && js_modules.length === 0) {\n",
       "      run_callbacks();\n",
       "      return null;\n",
       "    }\n",
       "    console.debug(\"Bokeh: BokehJS not loaded, scheduling load and callback at\", now());\n",
       "    root._bokeh_is_loading = css_urls.length + js_urls.length + js_modules.length;\n",
       "\n",
       "    function on_load() {\n",
       "      root._bokeh_is_loading--;\n",
       "      if (root._bokeh_is_loading === 0) {\n",
       "        console.debug(\"Bokeh: all BokehJS libraries/stylesheets loaded\");\n",
       "        run_callbacks()\n",
       "      }\n",
       "    }\n",
       "\n",
       "    function on_error() {\n",
       "      console.error(\"failed to load \" + url);\n",
       "    }\n",
       "\n",
       "    for (var i = 0; i < css_urls.length; i++) {\n",
       "      var url = css_urls[i];\n",
       "      const element = document.createElement(\"link\");\n",
       "      element.onload = on_load;\n",
       "      element.onerror = on_error;\n",
       "      element.rel = \"stylesheet\";\n",
       "      element.type = \"text/css\";\n",
       "      element.href = url;\n",
       "      console.debug(\"Bokeh: injecting link tag for BokehJS stylesheet: \", url);\n",
       "      document.body.appendChild(element);\n",
       "    }\n",
       "\n",
       "    var skip = [];\n",
       "    if (window.requirejs) {\n",
       "      window.requirejs.config({'packages': {}, 'paths': {'tabulator': 'https://unpkg.com/tabulator-tables@4.9.3/dist/js/tabulator', 'moment': 'https://unpkg.com/moment@2.27.0/moment'}, 'shim': {}});\n",
       "      \n",
       "      require([\"tabulator\"], function(Tabulator) {\n",
       "\twindow.Tabulator = Tabulator\n",
       "      })\n",
       "      \n",
       "      require([\"moment\"], function(moment) {\n",
       "\twindow.moment = moment\n",
       "      })\n",
       "      \n",
       "    }\n",
       "    if (((window['Tabulator'] !== undefined) && (!(window['Tabulator'] instanceof HTMLElement))) || window.requirejs) {\n",
       "      var urls = ['https://unpkg.com/tabulator-tables@4.9.3/dist/js/tabulator.js'];\n",
       "      for (var i = 0; i < urls.length; i++) {\n",
       "        skip.push(urls[i])\n",
       "      }\n",
       "    }\n",
       "    if (((window['moment'] !== undefined) && (!(window['moment'] instanceof HTMLElement))) || window.requirejs) {\n",
       "      var urls = ['https://unpkg.com/moment@2.27.0/moment.js'];\n",
       "      for (var i = 0; i < urls.length; i++) {\n",
       "        skip.push(urls[i])\n",
       "      }\n",
       "    }\n",
       "    for (var i = 0; i < js_urls.length; i++) {\n",
       "      var url = js_urls[i];\n",
       "      if (skip.indexOf(url) >= 0) { on_load(); continue; }\n",
       "      var element = document.createElement('script');\n",
       "      element.onload = on_load;\n",
       "      element.onerror = on_error;\n",
       "      element.async = false;\n",
       "      element.src = url;\n",
       "      console.debug(\"Bokeh: injecting script tag for BokehJS library: \", url);\n",
       "      document.head.appendChild(element);\n",
       "    }\n",
       "    for (var i = 0; i < js_modules.length; i++) {\n",
       "      var url = js_modules[i];\n",
       "      if (skip.indexOf(url) >= 0) { on_load(); continue; }\n",
       "      var element = document.createElement('script');\n",
       "      element.onload = on_load;\n",
       "      element.onerror = on_error;\n",
       "      element.async = false;\n",
       "      element.src = url;\n",
       "      element.type = \"module\";\n",
       "      console.debug(\"Bokeh: injecting script tag for BokehJS library: \", url);\n",
       "      document.head.appendChild(element);\n",
       "    }\n",
       "    if (!js_urls.length && !js_modules.length) {\n",
       "      on_load()\n",
       "    }\n",
       "  };\n",
       "\n",
       "  function inject_raw_css(css) {\n",
       "    const element = document.createElement(\"style\");\n",
       "    element.appendChild(document.createTextNode(css));\n",
       "    document.body.appendChild(element);\n",
       "  }\n",
       "\n",
       "  var js_urls = [\"https://unpkg.com/tabulator-tables@4.9.3/dist/js/tabulator.js\", \"https://unpkg.com/moment@2.27.0/moment.js\", \"https://cdn.bokeh.org/bokeh/release/bokeh-2.3.3.min.js\", \"https://cdn.bokeh.org/bokeh/release/bokeh-widgets-2.3.3.min.js\", \"https://cdn.bokeh.org/bokeh/release/bokeh-tables-2.3.3.min.js\", \"https://unpkg.com/@holoviz/panel@0.12.1/dist/panel.min.js\"];\n",
       "  var js_modules = [];\n",
       "  var css_urls = [\"https://unpkg.com/tabulator-tables@4.9.3/dist/css/tabulator_simple.min.css\", \"https://unpkg.com/@holoviz/panel@0.12.1/dist/css/alerts.css\", \"https://unpkg.com/@holoviz/panel@0.12.1/dist/css/card.css\", \"https://unpkg.com/@holoviz/panel@0.12.1/dist/css/dataframe.css\", \"https://unpkg.com/@holoviz/panel@0.12.1/dist/css/json.css\", \"https://unpkg.com/@holoviz/panel@0.12.1/dist/css/loading.css\", \"https://unpkg.com/@holoviz/panel@0.12.1/dist/css/markdown.css\", \"https://unpkg.com/@holoviz/panel@0.12.1/dist/css/widgets.css\"];\n",
       "  var inline_js = [\n",
       "    function(Bokeh) {\n",
       "      inject_raw_css(\"\\n    .bk.pn-loading.arcs:before {\\n      background-image: url(\\\"data:image/svg+xml;base64,PHN2ZyB4bWxucz0iaHR0cDovL3d3dy53My5vcmcvMjAwMC9zdmciIHhtbG5zOnhsaW5rPSJodHRwOi8vd3d3LnczLm9yZy8xOTk5L3hsaW5rIiBzdHlsZT0ibWFyZ2luOiBhdXRvOyBiYWNrZ3JvdW5kOiBub25lOyBkaXNwbGF5OiBibG9jazsgc2hhcGUtcmVuZGVyaW5nOiBhdXRvOyIgdmlld0JveD0iMCAwIDEwMCAxMDAiIHByZXNlcnZlQXNwZWN0UmF0aW89InhNaWRZTWlkIj4gIDxjaXJjbGUgY3g9IjUwIiBjeT0iNTAiIHI9IjMyIiBzdHJva2Utd2lkdGg9IjgiIHN0cm9rZT0iI2MzYzNjMyIgc3Ryb2tlLWRhc2hhcnJheT0iNTAuMjY1NDgyNDU3NDM2NjkgNTAuMjY1NDgyNDU3NDM2NjkiIGZpbGw9Im5vbmUiIHN0cm9rZS1saW5lY2FwPSJyb3VuZCI+ICAgIDxhbmltYXRlVHJhbnNmb3JtIGF0dHJpYnV0ZU5hbWU9InRyYW5zZm9ybSIgdHlwZT0icm90YXRlIiByZXBlYXRDb3VudD0iaW5kZWZpbml0ZSIgZHVyPSIxcyIga2V5VGltZXM9IjA7MSIgdmFsdWVzPSIwIDUwIDUwOzM2MCA1MCA1MCI+PC9hbmltYXRlVHJhbnNmb3JtPiAgPC9jaXJjbGU+PC9zdmc+\\\")\\n    }\\n    \");\n",
       "    },\n",
       "    function(Bokeh) {\n",
       "      Bokeh.set_log_level(\"info\");\n",
       "    },\n",
       "    function(Bokeh) {} // ensure no trailing comma for IE\n",
       "  ];\n",
       "\n",
       "  function run_inline_js() {\n",
       "    if ((root.Bokeh !== undefined) || (force === true)) {\n",
       "      for (var i = 0; i < inline_js.length; i++) {\n",
       "        inline_js[i].call(root, root.Bokeh);\n",
       "      }} else if (Date.now() < root._bokeh_timeout) {\n",
       "      setTimeout(run_inline_js, 100);\n",
       "    } else if (!root._bokeh_failed_load) {\n",
       "      console.log(\"Bokeh: BokehJS failed to load within specified timeout.\");\n",
       "      root._bokeh_failed_load = true;\n",
       "    }\n",
       "  }\n",
       "\n",
       "  if (root._bokeh_is_loading === 0) {\n",
       "    console.debug(\"Bokeh: BokehJS loaded, going straight to plotting\");\n",
       "    run_inline_js();\n",
       "  } else {\n",
       "    load_libs(css_urls, js_urls, js_modules, function() {\n",
       "      console.debug(\"Bokeh: BokehJS plotting callback run at\", now());\n",
       "      run_inline_js();\n",
       "    });\n",
       "  }\n",
       "}(window));"
      ],
      "application/vnd.holoviews_load.v0+json": "\n(function(root) {\n  function now() {\n    return new Date();\n  }\n\n  var force = true;\n\n  if (typeof root._bokeh_onload_callbacks === \"undefined\" || force === true) {\n    root._bokeh_onload_callbacks = [];\n    root._bokeh_is_loading = undefined;\n  }\n\n  if (typeof (root._bokeh_timeout) === \"undefined\" || force === true) {\n    root._bokeh_timeout = Date.now() + 5000;\n    root._bokeh_failed_load = false;\n  }\n\n  function run_callbacks() {\n    try {\n      root._bokeh_onload_callbacks.forEach(function(callback) {\n        if (callback != null)\n          callback();\n      });\n    } finally {\n      delete root._bokeh_onload_callbacks\n    }\n    console.debug(\"Bokeh: all callbacks have finished\");\n  }\n\n  function load_libs(css_urls, js_urls, js_modules, callback) {\n    if (css_urls == null) css_urls = [];\n    if (js_urls == null) js_urls = [];\n    if (js_modules == null) js_modules = [];\n\n    root._bokeh_onload_callbacks.push(callback);\n    if (root._bokeh_is_loading > 0) {\n      console.debug(\"Bokeh: BokehJS is being loaded, scheduling callback at\", now());\n      return null;\n    }\n    if (js_urls.length === 0 && js_modules.length === 0) {\n      run_callbacks();\n      return null;\n    }\n    console.debug(\"Bokeh: BokehJS not loaded, scheduling load and callback at\", now());\n    root._bokeh_is_loading = css_urls.length + js_urls.length + js_modules.length;\n\n    function on_load() {\n      root._bokeh_is_loading--;\n      if (root._bokeh_is_loading === 0) {\n        console.debug(\"Bokeh: all BokehJS libraries/stylesheets loaded\");\n        run_callbacks()\n      }\n    }\n\n    function on_error() {\n      console.error(\"failed to load \" + url);\n    }\n\n    for (var i = 0; i < css_urls.length; i++) {\n      var url = css_urls[i];\n      const element = document.createElement(\"link\");\n      element.onload = on_load;\n      element.onerror = on_error;\n      element.rel = \"stylesheet\";\n      element.type = \"text/css\";\n      element.href = url;\n      console.debug(\"Bokeh: injecting link tag for BokehJS stylesheet: \", url);\n      document.body.appendChild(element);\n    }\n\n    var skip = [];\n    if (window.requirejs) {\n      window.requirejs.config({'packages': {}, 'paths': {'tabulator': 'https://unpkg.com/tabulator-tables@4.9.3/dist/js/tabulator', 'moment': 'https://unpkg.com/moment@2.27.0/moment'}, 'shim': {}});\n      \n      require([\"tabulator\"], function(Tabulator) {\n\twindow.Tabulator = Tabulator\n      })\n      \n      require([\"moment\"], function(moment) {\n\twindow.moment = moment\n      })\n      \n    }\n    if (((window['Tabulator'] !== undefined) && (!(window['Tabulator'] instanceof HTMLElement))) || window.requirejs) {\n      var urls = ['https://unpkg.com/tabulator-tables@4.9.3/dist/js/tabulator.js'];\n      for (var i = 0; i < urls.length; i++) {\n        skip.push(urls[i])\n      }\n    }\n    if (((window['moment'] !== undefined) && (!(window['moment'] instanceof HTMLElement))) || window.requirejs) {\n      var urls = ['https://unpkg.com/moment@2.27.0/moment.js'];\n      for (var i = 0; i < urls.length; i++) {\n        skip.push(urls[i])\n      }\n    }\n    for (var i = 0; i < js_urls.length; i++) {\n      var url = js_urls[i];\n      if (skip.indexOf(url) >= 0) { on_load(); continue; }\n      var element = document.createElement('script');\n      element.onload = on_load;\n      element.onerror = on_error;\n      element.async = false;\n      element.src = url;\n      console.debug(\"Bokeh: injecting script tag for BokehJS library: \", url);\n      document.head.appendChild(element);\n    }\n    for (var i = 0; i < js_modules.length; i++) {\n      var url = js_modules[i];\n      if (skip.indexOf(url) >= 0) { on_load(); continue; }\n      var element = document.createElement('script');\n      element.onload = on_load;\n      element.onerror = on_error;\n      element.async = false;\n      element.src = url;\n      element.type = \"module\";\n      console.debug(\"Bokeh: injecting script tag for BokehJS library: \", url);\n      document.head.appendChild(element);\n    }\n    if (!js_urls.length && !js_modules.length) {\n      on_load()\n    }\n  };\n\n  function inject_raw_css(css) {\n    const element = document.createElement(\"style\");\n    element.appendChild(document.createTextNode(css));\n    document.body.appendChild(element);\n  }\n\n  var js_urls = [\"https://unpkg.com/tabulator-tables@4.9.3/dist/js/tabulator.js\", \"https://unpkg.com/moment@2.27.0/moment.js\", \"https://cdn.bokeh.org/bokeh/release/bokeh-2.3.3.min.js\", \"https://cdn.bokeh.org/bokeh/release/bokeh-widgets-2.3.3.min.js\", \"https://cdn.bokeh.org/bokeh/release/bokeh-tables-2.3.3.min.js\", \"https://unpkg.com/@holoviz/panel@0.12.1/dist/panel.min.js\"];\n  var js_modules = [];\n  var css_urls = [\"https://unpkg.com/tabulator-tables@4.9.3/dist/css/tabulator_simple.min.css\", \"https://unpkg.com/@holoviz/panel@0.12.1/dist/css/alerts.css\", \"https://unpkg.com/@holoviz/panel@0.12.1/dist/css/card.css\", \"https://unpkg.com/@holoviz/panel@0.12.1/dist/css/dataframe.css\", \"https://unpkg.com/@holoviz/panel@0.12.1/dist/css/json.css\", \"https://unpkg.com/@holoviz/panel@0.12.1/dist/css/loading.css\", \"https://unpkg.com/@holoviz/panel@0.12.1/dist/css/markdown.css\", \"https://unpkg.com/@holoviz/panel@0.12.1/dist/css/widgets.css\"];\n  var inline_js = [\n    function(Bokeh) {\n      inject_raw_css(\"\\n    .bk.pn-loading.arcs:before {\\n      background-image: url(\\\"data:image/svg+xml;base64,PHN2ZyB4bWxucz0iaHR0cDovL3d3dy53My5vcmcvMjAwMC9zdmciIHhtbG5zOnhsaW5rPSJodHRwOi8vd3d3LnczLm9yZy8xOTk5L3hsaW5rIiBzdHlsZT0ibWFyZ2luOiBhdXRvOyBiYWNrZ3JvdW5kOiBub25lOyBkaXNwbGF5OiBibG9jazsgc2hhcGUtcmVuZGVyaW5nOiBhdXRvOyIgdmlld0JveD0iMCAwIDEwMCAxMDAiIHByZXNlcnZlQXNwZWN0UmF0aW89InhNaWRZTWlkIj4gIDxjaXJjbGUgY3g9IjUwIiBjeT0iNTAiIHI9IjMyIiBzdHJva2Utd2lkdGg9IjgiIHN0cm9rZT0iI2MzYzNjMyIgc3Ryb2tlLWRhc2hhcnJheT0iNTAuMjY1NDgyNDU3NDM2NjkgNTAuMjY1NDgyNDU3NDM2NjkiIGZpbGw9Im5vbmUiIHN0cm9rZS1saW5lY2FwPSJyb3VuZCI+ICAgIDxhbmltYXRlVHJhbnNmb3JtIGF0dHJpYnV0ZU5hbWU9InRyYW5zZm9ybSIgdHlwZT0icm90YXRlIiByZXBlYXRDb3VudD0iaW5kZWZpbml0ZSIgZHVyPSIxcyIga2V5VGltZXM9IjA7MSIgdmFsdWVzPSIwIDUwIDUwOzM2MCA1MCA1MCI+PC9hbmltYXRlVHJhbnNmb3JtPiAgPC9jaXJjbGU+PC9zdmc+\\\")\\n    }\\n    \");\n    },\n    function(Bokeh) {\n      Bokeh.set_log_level(\"info\");\n    },\n    function(Bokeh) {} // ensure no trailing comma for IE\n  ];\n\n  function run_inline_js() {\n    if ((root.Bokeh !== undefined) || (force === true)) {\n      for (var i = 0; i < inline_js.length; i++) {\n        inline_js[i].call(root, root.Bokeh);\n      }} else if (Date.now() < root._bokeh_timeout) {\n      setTimeout(run_inline_js, 100);\n    } else if (!root._bokeh_failed_load) {\n      console.log(\"Bokeh: BokehJS failed to load within specified timeout.\");\n      root._bokeh_failed_load = true;\n    }\n  }\n\n  if (root._bokeh_is_loading === 0) {\n    console.debug(\"Bokeh: BokehJS loaded, going straight to plotting\");\n    run_inline_js();\n  } else {\n    load_libs(css_urls, js_urls, js_modules, function() {\n      console.debug(\"Bokeh: BokehJS plotting callback run at\", now());\n      run_inline_js();\n    });\n  }\n}(window));"
     },
     "metadata": {},
     "output_type": "display_data"
    },
    {
     "data": {
      "application/javascript": [
       "\n",
       "if ((window.PyViz === undefined) || (window.PyViz instanceof HTMLElement)) {\n",
       "  window.PyViz = {comms: {}, comm_status:{}, kernels:{}, receivers: {}, plot_index: []}\n",
       "}\n",
       "\n",
       "\n",
       "    function JupyterCommManager() {\n",
       "    }\n",
       "\n",
       "    JupyterCommManager.prototype.register_target = function(plot_id, comm_id, msg_handler) {\n",
       "      if (window.comm_manager || ((window.Jupyter !== undefined) && (Jupyter.notebook.kernel != null))) {\n",
       "        var comm_manager = window.comm_manager || Jupyter.notebook.kernel.comm_manager;\n",
       "        comm_manager.register_target(comm_id, function(comm) {\n",
       "          comm.on_msg(msg_handler);\n",
       "        });\n",
       "      } else if ((plot_id in window.PyViz.kernels) && (window.PyViz.kernels[plot_id])) {\n",
       "        window.PyViz.kernels[plot_id].registerCommTarget(comm_id, function(comm) {\n",
       "          comm.onMsg = msg_handler;\n",
       "        });\n",
       "      } else if (typeof google != 'undefined' && google.colab.kernel != null) {\n",
       "        google.colab.kernel.comms.registerTarget(comm_id, (comm) => {\n",
       "          var messages = comm.messages[Symbol.asyncIterator]();\n",
       "          function processIteratorResult(result) {\n",
       "            var message = result.value;\n",
       "            console.log(message)\n",
       "            var content = {data: message.data, comm_id};\n",
       "            var buffers = []\n",
       "            for (var buffer of message.buffers || []) {\n",
       "              buffers.push(new DataView(buffer))\n",
       "            }\n",
       "            var metadata = message.metadata || {};\n",
       "            var msg = {content, buffers, metadata}\n",
       "            msg_handler(msg);\n",
       "            return messages.next().then(processIteratorResult);\n",
       "          }\n",
       "          return messages.next().then(processIteratorResult);\n",
       "        })\n",
       "      }\n",
       "    }\n",
       "\n",
       "    JupyterCommManager.prototype.get_client_comm = function(plot_id, comm_id, msg_handler) {\n",
       "      if (comm_id in window.PyViz.comms) {\n",
       "        return window.PyViz.comms[comm_id];\n",
       "      } else if (window.comm_manager || ((window.Jupyter !== undefined) && (Jupyter.notebook.kernel != null))) {\n",
       "        var comm_manager = window.comm_manager || Jupyter.notebook.kernel.comm_manager;\n",
       "        var comm = comm_manager.new_comm(comm_id, {}, {}, {}, comm_id);\n",
       "        if (msg_handler) {\n",
       "          comm.on_msg(msg_handler);\n",
       "        }\n",
       "      } else if ((plot_id in window.PyViz.kernels) && (window.PyViz.kernels[plot_id])) {\n",
       "        var comm = window.PyViz.kernels[plot_id].connectToComm(comm_id);\n",
       "        comm.open();\n",
       "        if (msg_handler) {\n",
       "          comm.onMsg = msg_handler;\n",
       "        }\n",
       "      } else if (typeof google != 'undefined' && google.colab.kernel != null) {\n",
       "        var comm_promise = google.colab.kernel.comms.open(comm_id)\n",
       "        comm_promise.then((comm) => {\n",
       "          window.PyViz.comms[comm_id] = comm;\n",
       "          if (msg_handler) {\n",
       "            var messages = comm.messages[Symbol.asyncIterator]();\n",
       "            function processIteratorResult(result) {\n",
       "              var message = result.value;\n",
       "              var content = {data: message.data};\n",
       "              var metadata = message.metadata || {comm_id};\n",
       "              var msg = {content, metadata}\n",
       "              msg_handler(msg);\n",
       "              return messages.next().then(processIteratorResult);\n",
       "            }\n",
       "            return messages.next().then(processIteratorResult);\n",
       "          }\n",
       "        }) \n",
       "        var sendClosure = (data, metadata, buffers, disposeOnDone) => {\n",
       "          return comm_promise.then((comm) => {\n",
       "            comm.send(data, metadata, buffers, disposeOnDone);\n",
       "          });\n",
       "        };\n",
       "        var comm = {\n",
       "          send: sendClosure\n",
       "        };\n",
       "      }\n",
       "      window.PyViz.comms[comm_id] = comm;\n",
       "      return comm;\n",
       "    }\n",
       "    window.PyViz.comm_manager = new JupyterCommManager();\n",
       "    \n",
       "\n",
       "\n",
       "var JS_MIME_TYPE = 'application/javascript';\n",
       "var HTML_MIME_TYPE = 'text/html';\n",
       "var EXEC_MIME_TYPE = 'application/vnd.holoviews_exec.v0+json';\n",
       "var CLASS_NAME = 'output';\n",
       "\n",
       "/**\n",
       " * Render data to the DOM node\n",
       " */\n",
       "function render(props, node) {\n",
       "  var div = document.createElement(\"div\");\n",
       "  var script = document.createElement(\"script\");\n",
       "  node.appendChild(div);\n",
       "  node.appendChild(script);\n",
       "}\n",
       "\n",
       "/**\n",
       " * Handle when a new output is added\n",
       " */\n",
       "function handle_add_output(event, handle) {\n",
       "  var output_area = handle.output_area;\n",
       "  var output = handle.output;\n",
       "  if ((output.data == undefined) || (!output.data.hasOwnProperty(EXEC_MIME_TYPE))) {\n",
       "    return\n",
       "  }\n",
       "  var id = output.metadata[EXEC_MIME_TYPE][\"id\"];\n",
       "  var toinsert = output_area.element.find(\".\" + CLASS_NAME.split(' ')[0]);\n",
       "  if (id !== undefined) {\n",
       "    var nchildren = toinsert.length;\n",
       "    var html_node = toinsert[nchildren-1].children[0];\n",
       "    html_node.innerHTML = output.data[HTML_MIME_TYPE];\n",
       "    var scripts = [];\n",
       "    var nodelist = html_node.querySelectorAll(\"script\");\n",
       "    for (var i in nodelist) {\n",
       "      if (nodelist.hasOwnProperty(i)) {\n",
       "        scripts.push(nodelist[i])\n",
       "      }\n",
       "    }\n",
       "\n",
       "    scripts.forEach( function (oldScript) {\n",
       "      var newScript = document.createElement(\"script\");\n",
       "      var attrs = [];\n",
       "      var nodemap = oldScript.attributes;\n",
       "      for (var j in nodemap) {\n",
       "        if (nodemap.hasOwnProperty(j)) {\n",
       "          attrs.push(nodemap[j])\n",
       "        }\n",
       "      }\n",
       "      attrs.forEach(function(attr) { newScript.setAttribute(attr.name, attr.value) });\n",
       "      newScript.appendChild(document.createTextNode(oldScript.innerHTML));\n",
       "      oldScript.parentNode.replaceChild(newScript, oldScript);\n",
       "    });\n",
       "    if (JS_MIME_TYPE in output.data) {\n",
       "      toinsert[nchildren-1].children[1].textContent = output.data[JS_MIME_TYPE];\n",
       "    }\n",
       "    output_area._hv_plot_id = id;\n",
       "    if ((window.Bokeh !== undefined) && (id in Bokeh.index)) {\n",
       "      window.PyViz.plot_index[id] = Bokeh.index[id];\n",
       "    } else {\n",
       "      window.PyViz.plot_index[id] = null;\n",
       "    }\n",
       "  } else if (output.metadata[EXEC_MIME_TYPE][\"server_id\"] !== undefined) {\n",
       "    var bk_div = document.createElement(\"div\");\n",
       "    bk_div.innerHTML = output.data[HTML_MIME_TYPE];\n",
       "    var script_attrs = bk_div.children[0].attributes;\n",
       "    for (var i = 0; i < script_attrs.length; i++) {\n",
       "      toinsert[toinsert.length - 1].childNodes[1].setAttribute(script_attrs[i].name, script_attrs[i].value);\n",
       "    }\n",
       "    // store reference to server id on output_area\n",
       "    output_area._bokeh_server_id = output.metadata[EXEC_MIME_TYPE][\"server_id\"];\n",
       "  }\n",
       "}\n",
       "\n",
       "/**\n",
       " * Handle when an output is cleared or removed\n",
       " */\n",
       "function handle_clear_output(event, handle) {\n",
       "  var id = handle.cell.output_area._hv_plot_id;\n",
       "  var server_id = handle.cell.output_area._bokeh_server_id;\n",
       "  if (((id === undefined) || !(id in PyViz.plot_index)) && (server_id !== undefined)) { return; }\n",
       "  var comm = window.PyViz.comm_manager.get_client_comm(\"hv-extension-comm\", \"hv-extension-comm\", function () {});\n",
       "  if (server_id !== null) {\n",
       "    comm.send({event_type: 'server_delete', 'id': server_id});\n",
       "    return;\n",
       "  } else if (comm !== null) {\n",
       "    comm.send({event_type: 'delete', 'id': id});\n",
       "  }\n",
       "  delete PyViz.plot_index[id];\n",
       "  if ((window.Bokeh !== undefined) & (id in window.Bokeh.index)) {\n",
       "    var doc = window.Bokeh.index[id].model.document\n",
       "    doc.clear();\n",
       "    const i = window.Bokeh.documents.indexOf(doc);\n",
       "    if (i > -1) {\n",
       "      window.Bokeh.documents.splice(i, 1);\n",
       "    }\n",
       "  }\n",
       "}\n",
       "\n",
       "/**\n",
       " * Handle kernel restart event\n",
       " */\n",
       "function handle_kernel_cleanup(event, handle) {\n",
       "  delete PyViz.comms[\"hv-extension-comm\"];\n",
       "  window.PyViz.plot_index = {}\n",
       "}\n",
       "\n",
       "/**\n",
       " * Handle update_display_data messages\n",
       " */\n",
       "function handle_update_output(event, handle) {\n",
       "  handle_clear_output(event, {cell: {output_area: handle.output_area}})\n",
       "  handle_add_output(event, handle)\n",
       "}\n",
       "\n",
       "function register_renderer(events, OutputArea) {\n",
       "  function append_mime(data, metadata, element) {\n",
       "    // create a DOM node to render to\n",
       "    var toinsert = this.create_output_subarea(\n",
       "    metadata,\n",
       "    CLASS_NAME,\n",
       "    EXEC_MIME_TYPE\n",
       "    );\n",
       "    this.keyboard_manager.register_events(toinsert);\n",
       "    // Render to node\n",
       "    var props = {data: data, metadata: metadata[EXEC_MIME_TYPE]};\n",
       "    render(props, toinsert[0]);\n",
       "    element.append(toinsert);\n",
       "    return toinsert\n",
       "  }\n",
       "\n",
       "  events.on('output_added.OutputArea', handle_add_output);\n",
       "  events.on('output_updated.OutputArea', handle_update_output);\n",
       "  events.on('clear_output.CodeCell', handle_clear_output);\n",
       "  events.on('delete.Cell', handle_clear_output);\n",
       "  events.on('kernel_ready.Kernel', handle_kernel_cleanup);\n",
       "\n",
       "  OutputArea.prototype.register_mime_type(EXEC_MIME_TYPE, append_mime, {\n",
       "    safe: true,\n",
       "    index: 0\n",
       "  });\n",
       "}\n",
       "\n",
       "if (window.Jupyter !== undefined) {\n",
       "  try {\n",
       "    var events = require('base/js/events');\n",
       "    var OutputArea = require('notebook/js/outputarea').OutputArea;\n",
       "    if (OutputArea.prototype.mime_types().indexOf(EXEC_MIME_TYPE) == -1) {\n",
       "      register_renderer(events, OutputArea);\n",
       "    }\n",
       "  } catch(err) {\n",
       "  }\n",
       "}\n"
      ],
      "application/vnd.holoviews_load.v0+json": "\nif ((window.PyViz === undefined) || (window.PyViz instanceof HTMLElement)) {\n  window.PyViz = {comms: {}, comm_status:{}, kernels:{}, receivers: {}, plot_index: []}\n}\n\n\n    function JupyterCommManager() {\n    }\n\n    JupyterCommManager.prototype.register_target = function(plot_id, comm_id, msg_handler) {\n      if (window.comm_manager || ((window.Jupyter !== undefined) && (Jupyter.notebook.kernel != null))) {\n        var comm_manager = window.comm_manager || Jupyter.notebook.kernel.comm_manager;\n        comm_manager.register_target(comm_id, function(comm) {\n          comm.on_msg(msg_handler);\n        });\n      } else if ((plot_id in window.PyViz.kernels) && (window.PyViz.kernels[plot_id])) {\n        window.PyViz.kernels[plot_id].registerCommTarget(comm_id, function(comm) {\n          comm.onMsg = msg_handler;\n        });\n      } else if (typeof google != 'undefined' && google.colab.kernel != null) {\n        google.colab.kernel.comms.registerTarget(comm_id, (comm) => {\n          var messages = comm.messages[Symbol.asyncIterator]();\n          function processIteratorResult(result) {\n            var message = result.value;\n            console.log(message)\n            var content = {data: message.data, comm_id};\n            var buffers = []\n            for (var buffer of message.buffers || []) {\n              buffers.push(new DataView(buffer))\n            }\n            var metadata = message.metadata || {};\n            var msg = {content, buffers, metadata}\n            msg_handler(msg);\n            return messages.next().then(processIteratorResult);\n          }\n          return messages.next().then(processIteratorResult);\n        })\n      }\n    }\n\n    JupyterCommManager.prototype.get_client_comm = function(plot_id, comm_id, msg_handler) {\n      if (comm_id in window.PyViz.comms) {\n        return window.PyViz.comms[comm_id];\n      } else if (window.comm_manager || ((window.Jupyter !== undefined) && (Jupyter.notebook.kernel != null))) {\n        var comm_manager = window.comm_manager || Jupyter.notebook.kernel.comm_manager;\n        var comm = comm_manager.new_comm(comm_id, {}, {}, {}, comm_id);\n        if (msg_handler) {\n          comm.on_msg(msg_handler);\n        }\n      } else if ((plot_id in window.PyViz.kernels) && (window.PyViz.kernels[plot_id])) {\n        var comm = window.PyViz.kernels[plot_id].connectToComm(comm_id);\n        comm.open();\n        if (msg_handler) {\n          comm.onMsg = msg_handler;\n        }\n      } else if (typeof google != 'undefined' && google.colab.kernel != null) {\n        var comm_promise = google.colab.kernel.comms.open(comm_id)\n        comm_promise.then((comm) => {\n          window.PyViz.comms[comm_id] = comm;\n          if (msg_handler) {\n            var messages = comm.messages[Symbol.asyncIterator]();\n            function processIteratorResult(result) {\n              var message = result.value;\n              var content = {data: message.data};\n              var metadata = message.metadata || {comm_id};\n              var msg = {content, metadata}\n              msg_handler(msg);\n              return messages.next().then(processIteratorResult);\n            }\n            return messages.next().then(processIteratorResult);\n          }\n        }) \n        var sendClosure = (data, metadata, buffers, disposeOnDone) => {\n          return comm_promise.then((comm) => {\n            comm.send(data, metadata, buffers, disposeOnDone);\n          });\n        };\n        var comm = {\n          send: sendClosure\n        };\n      }\n      window.PyViz.comms[comm_id] = comm;\n      return comm;\n    }\n    window.PyViz.comm_manager = new JupyterCommManager();\n    \n\n\nvar JS_MIME_TYPE = 'application/javascript';\nvar HTML_MIME_TYPE = 'text/html';\nvar EXEC_MIME_TYPE = 'application/vnd.holoviews_exec.v0+json';\nvar CLASS_NAME = 'output';\n\n/**\n * Render data to the DOM node\n */\nfunction render(props, node) {\n  var div = document.createElement(\"div\");\n  var script = document.createElement(\"script\");\n  node.appendChild(div);\n  node.appendChild(script);\n}\n\n/**\n * Handle when a new output is added\n */\nfunction handle_add_output(event, handle) {\n  var output_area = handle.output_area;\n  var output = handle.output;\n  if ((output.data == undefined) || (!output.data.hasOwnProperty(EXEC_MIME_TYPE))) {\n    return\n  }\n  var id = output.metadata[EXEC_MIME_TYPE][\"id\"];\n  var toinsert = output_area.element.find(\".\" + CLASS_NAME.split(' ')[0]);\n  if (id !== undefined) {\n    var nchildren = toinsert.length;\n    var html_node = toinsert[nchildren-1].children[0];\n    html_node.innerHTML = output.data[HTML_MIME_TYPE];\n    var scripts = [];\n    var nodelist = html_node.querySelectorAll(\"script\");\n    for (var i in nodelist) {\n      if (nodelist.hasOwnProperty(i)) {\n        scripts.push(nodelist[i])\n      }\n    }\n\n    scripts.forEach( function (oldScript) {\n      var newScript = document.createElement(\"script\");\n      var attrs = [];\n      var nodemap = oldScript.attributes;\n      for (var j in nodemap) {\n        if (nodemap.hasOwnProperty(j)) {\n          attrs.push(nodemap[j])\n        }\n      }\n      attrs.forEach(function(attr) { newScript.setAttribute(attr.name, attr.value) });\n      newScript.appendChild(document.createTextNode(oldScript.innerHTML));\n      oldScript.parentNode.replaceChild(newScript, oldScript);\n    });\n    if (JS_MIME_TYPE in output.data) {\n      toinsert[nchildren-1].children[1].textContent = output.data[JS_MIME_TYPE];\n    }\n    output_area._hv_plot_id = id;\n    if ((window.Bokeh !== undefined) && (id in Bokeh.index)) {\n      window.PyViz.plot_index[id] = Bokeh.index[id];\n    } else {\n      window.PyViz.plot_index[id] = null;\n    }\n  } else if (output.metadata[EXEC_MIME_TYPE][\"server_id\"] !== undefined) {\n    var bk_div = document.createElement(\"div\");\n    bk_div.innerHTML = output.data[HTML_MIME_TYPE];\n    var script_attrs = bk_div.children[0].attributes;\n    for (var i = 0; i < script_attrs.length; i++) {\n      toinsert[toinsert.length - 1].childNodes[1].setAttribute(script_attrs[i].name, script_attrs[i].value);\n    }\n    // store reference to server id on output_area\n    output_area._bokeh_server_id = output.metadata[EXEC_MIME_TYPE][\"server_id\"];\n  }\n}\n\n/**\n * Handle when an output is cleared or removed\n */\nfunction handle_clear_output(event, handle) {\n  var id = handle.cell.output_area._hv_plot_id;\n  var server_id = handle.cell.output_area._bokeh_server_id;\n  if (((id === undefined) || !(id in PyViz.plot_index)) && (server_id !== undefined)) { return; }\n  var comm = window.PyViz.comm_manager.get_client_comm(\"hv-extension-comm\", \"hv-extension-comm\", function () {});\n  if (server_id !== null) {\n    comm.send({event_type: 'server_delete', 'id': server_id});\n    return;\n  } else if (comm !== null) {\n    comm.send({event_type: 'delete', 'id': id});\n  }\n  delete PyViz.plot_index[id];\n  if ((window.Bokeh !== undefined) & (id in window.Bokeh.index)) {\n    var doc = window.Bokeh.index[id].model.document\n    doc.clear();\n    const i = window.Bokeh.documents.indexOf(doc);\n    if (i > -1) {\n      window.Bokeh.documents.splice(i, 1);\n    }\n  }\n}\n\n/**\n * Handle kernel restart event\n */\nfunction handle_kernel_cleanup(event, handle) {\n  delete PyViz.comms[\"hv-extension-comm\"];\n  window.PyViz.plot_index = {}\n}\n\n/**\n * Handle update_display_data messages\n */\nfunction handle_update_output(event, handle) {\n  handle_clear_output(event, {cell: {output_area: handle.output_area}})\n  handle_add_output(event, handle)\n}\n\nfunction register_renderer(events, OutputArea) {\n  function append_mime(data, metadata, element) {\n    // create a DOM node to render to\n    var toinsert = this.create_output_subarea(\n    metadata,\n    CLASS_NAME,\n    EXEC_MIME_TYPE\n    );\n    this.keyboard_manager.register_events(toinsert);\n    // Render to node\n    var props = {data: data, metadata: metadata[EXEC_MIME_TYPE]};\n    render(props, toinsert[0]);\n    element.append(toinsert);\n    return toinsert\n  }\n\n  events.on('output_added.OutputArea', handle_add_output);\n  events.on('output_updated.OutputArea', handle_update_output);\n  events.on('clear_output.CodeCell', handle_clear_output);\n  events.on('delete.Cell', handle_clear_output);\n  events.on('kernel_ready.Kernel', handle_kernel_cleanup);\n\n  OutputArea.prototype.register_mime_type(EXEC_MIME_TYPE, append_mime, {\n    safe: true,\n    index: 0\n  });\n}\n\nif (window.Jupyter !== undefined) {\n  try {\n    var events = require('base/js/events');\n    var OutputArea = require('notebook/js/outputarea').OutputArea;\n    if (OutputArea.prototype.mime_types().indexOf(EXEC_MIME_TYPE) == -1) {\n      register_renderer(events, OutputArea);\n    }\n  } catch(err) {\n  }\n}\n"
     },
     "metadata": {},
     "output_type": "display_data"
    },
    {
     "data": {
      "text/plain": [
       "datetime.date(2022, 1, 19)"
      ]
     },
     "execution_count": 1,
     "metadata": {},
     "output_type": "execute_result"
    }
   ],
   "source": [
    "import pandas as pd\n",
    "import panel as pn\n",
    "import numpy as np\n",
    "from sqlalchemy import create_engine\n",
    "from datetime import date, timedelta\n",
    "import calendar\n",
    "import matplotlib.pyplot as plt\n",
    "import seaborn as sns\n",
    "%matplotlib inline\n",
    "sns.set\n",
    "\n",
    "pn.extension('tabulator')\n",
    "\n",
    "engine = create_engine(\"mysql+pymysql://root:@localhost:3306/stock\")\n",
    "const = engine.connect()\n",
    "engine = create_engine(\"sqlite:///c:\\\\ruby\\\\portmy\\\\db\\\\development.sqlite3\")\n",
    "conmy = engine.connect()\n",
    "\n",
    "data_path = \"../data/\"\n",
    "csv_path = \"\\\\Users\\\\User\\\\iCloudDrive\\\\\"\n",
    "box_path = \"\\\\Users\\\\User\\\\Dropbox\\\\\"\n",
    "\n",
    "today = date.today()\n",
    "today"
   ]
  },
  {
   "cell_type": "markdown",
   "metadata": {},
   "source": [
    "### Set today = last closed business day"
   ]
  },
  {
   "cell_type": "code",
   "execution_count": 2,
   "metadata": {},
   "outputs": [
    {
     "data": {
      "text/plain": [
       "datetime.date(2022, 1, 19)"
      ]
     },
     "execution_count": 2,
     "metadata": {},
     "output_type": "execute_result"
    }
   ],
   "source": [
    "#today = today - timedelta(days=1)\n",
    "today"
   ]
  },
  {
   "cell_type": "markdown",
   "metadata": {},
   "source": [
    "### Restart and Run All Cells"
   ]
  },
  {
   "cell_type": "code",
   "execution_count": 3,
   "metadata": {},
   "outputs": [],
   "source": [
    "cols = 'name period shares price cost_amt base_amt pct'.split()\n",
    "colt = 'name shares unit_cost cost_amt price amount mkt_pct div_rnk amt_rnk div_amt'.split()"
   ]
  },
  {
   "cell_type": "code",
   "execution_count": 4,
   "metadata": {},
   "outputs": [],
   "source": [
    "format_dict = {\n",
    "    'shares':'{:,}',  \n",
    "    'price':'{:.2f}','unit_cost':'{:.2f}',\n",
    "    'cost_amt':'{:,.2f}','div_amt':'{:,.2f}','amount':'{:,.2f}','profit':'{:,.2f}','base_amt':'{:,.2f}',\n",
    "    'dividend':'{:.4f}',    \n",
    "    'pct':'{:,.2f}%','cost_pct':'{:,.2f}%','mkt_pct':'{:,.2f}%','pft_pct':'{:,.2f}%',\n",
    "}"
   ]
  },
  {
   "cell_type": "markdown",
   "metadata": {},
   "source": [
    "### Change period of stock in table buy"
   ]
  },
  {
   "cell_type": "code",
   "execution_count": 5,
   "metadata": {},
   "outputs": [
    {
     "data": {
      "text/html": [
       "<div>\n",
       "<style scoped>\n",
       "    .dataframe tbody tr th:only-of-type {\n",
       "        vertical-align: middle;\n",
       "    }\n",
       "\n",
       "    .dataframe tbody tr th {\n",
       "        vertical-align: top;\n",
       "    }\n",
       "\n",
       "    .dataframe thead th {\n",
       "        text-align: right;\n",
       "    }\n",
       "</style>\n",
       "<table border=\"1\" class=\"dataframe\">\n",
       "  <thead>\n",
       "    <tr style=\"text-align: right;\">\n",
       "      <th></th>\n",
       "      <th>name</th>\n",
       "      <th>date</th>\n",
       "      <th>volbuy</th>\n",
       "      <th>price</th>\n",
       "      <th>volsell</th>\n",
       "      <th>volbal</th>\n",
       "      <th>active</th>\n",
       "      <th>dividend</th>\n",
       "      <th>period</th>\n",
       "      <th>grade</th>\n",
       "    </tr>\n",
       "  </thead>\n",
       "  <tbody>\n",
       "    <tr>\n",
       "      <th>0</th>\n",
       "      <td>TOP</td>\n",
       "      <td>2021-11-26</td>\n",
       "      <td>3000.0</td>\n",
       "      <td>50.0</td>\n",
       "      <td>0.0</td>\n",
       "      <td>0.0</td>\n",
       "      <td>1</td>\n",
       "      <td>1.3</td>\n",
       "      <td>3</td>\n",
       "      <td>A4</td>\n",
       "    </tr>\n",
       "  </tbody>\n",
       "</table>\n",
       "</div>"
      ],
      "text/plain": [
       "  name        date  volbuy  price  volsell  volbal  active  dividend period  \\\n",
       "0  TOP  2021-11-26  3000.0   50.0      0.0     0.0       1       1.3      3   \n",
       "\n",
       "  grade  \n",
       "0    A4  "
      ]
     },
     "execution_count": 5,
     "metadata": {},
     "output_type": "execute_result"
    }
   ],
   "source": [
    "name = 'TOP'\n",
    "sql = \"\"\"\n",
    "SELECT * \n",
    "FROM buy \n",
    "WHERE name = '%s' \n",
    "\"\"\"\n",
    "sql = sql % name\n",
    "df = pd.read_sql(sql, const)\n",
    "df"
   ]
  },
  {
   "cell_type": "code",
   "execution_count": 6,
   "metadata": {},
   "outputs": [
    {
     "name": "stdout",
     "output_type": "stream",
     "text": [
      "\n",
      "UPDATE buy\n",
      "SET period = '3'\n",
      "WHERE name = 'TOP' \n",
      "\n"
     ]
    }
   ],
   "source": [
    "sqlUpd = \"\"\"\n",
    "UPDATE buy\n",
    "SET period = '3'\n",
    "WHERE name = '%s' \n",
    "\"\"\"\n",
    "sqlUpd = sqlUpd % name\n",
    "print(sqlUpd)"
   ]
  },
  {
   "cell_type": "code",
   "execution_count": 7,
   "metadata": {},
   "outputs": [
    {
     "data": {
      "text/plain": [
       "1"
      ]
     },
     "execution_count": 7,
     "metadata": {},
     "output_type": "execute_result"
    }
   ],
   "source": [
    "rp = const.execute(sqlUpd)\n",
    "rp.rowcount"
   ]
  },
  {
   "cell_type": "markdown",
   "metadata": {},
   "source": [
    "### Discrepancies calculation"
   ]
  },
  {
   "cell_type": "code",
   "execution_count": 8,
   "metadata": {},
   "outputs": [
    {
     "data": {
      "text/plain": [
       "(34, 9)"
      ]
     },
     "execution_count": 8,
     "metadata": {},
     "output_type": "execute_result"
    }
   ],
   "source": [
    "sql = '''\n",
    "SELECT *\n",
    "FROM buy\n",
    "WHERE active = 1'''\n",
    "df = pd.read_sql(sql, const)\n",
    "df.drop(['volsell', 'volbal'], axis=1, inplace=True)\n",
    "df.rename(columns={'volbuy': 'shares'}, inplace=True)\n",
    "df['shares'] = df['shares'].astype('int64')\n",
    "df['cost_amt'] = df.shares * df.price\n",
    "df.shape"
   ]
  },
  {
   "cell_type": "code",
   "execution_count": 9,
   "metadata": {},
   "outputs": [
    {
     "data": {
      "text/plain": [
       "(359, 2)"
      ]
     },
     "execution_count": 9,
     "metadata": {},
     "output_type": "execute_result"
    }
   ],
   "source": [
    "sql = '''\n",
    "SELECT name, market\n",
    "FROM stocks\n",
    "ORDER BY name'''\n",
    "my_stocks = pd.read_sql(sql, conmy)\n",
    "my_stocks.shape"
   ]
  },
  {
   "cell_type": "code",
   "execution_count": 10,
   "metadata": {},
   "outputs": [],
   "source": [
    "filters = [\n",
    "   (my_stocks.market.str.contains('SET50')),\n",
    "   (my_stocks.market.str.contains('SET100')),\n",
    "   (my_stocks.market.str.contains('mai'))    \n",
    "]\n",
    "values = [450000.0,300000.0,150000.0]"
   ]
  },
  {
   "cell_type": "code",
   "execution_count": 11,
   "metadata": {},
   "outputs": [
    {
     "data": {
      "text/html": [
       "<style type=\"text/css\">\n",
       "</style>\n",
       "<table id=\"T_db4de_\">\n",
       "  <thead>\n",
       "    <tr>\n",
       "      <th class=\"blank level0\" >&nbsp;</th>\n",
       "      <th class=\"col_heading level0 col0\" >name</th>\n",
       "      <th class=\"col_heading level0 col1\" >market</th>\n",
       "      <th class=\"col_heading level0 col2\" >base_amt</th>\n",
       "    </tr>\n",
       "  </thead>\n",
       "  <tbody>\n",
       "    <tr>\n",
       "      <th id=\"T_db4de_level0_row0\" class=\"row_heading level0 row0\" >0</th>\n",
       "      <td id=\"T_db4de_row0_col0\" class=\"data row0 col0\" >2S</td>\n",
       "      <td id=\"T_db4de_row0_col1\" class=\"data row0 col1\" >SET    </td>\n",
       "      <td id=\"T_db4de_row0_col2\" class=\"data row0 col2\" >150,000.00</td>\n",
       "    </tr>\n",
       "    <tr>\n",
       "      <th id=\"T_db4de_level0_row1\" class=\"row_heading level0 row1\" >1</th>\n",
       "      <td id=\"T_db4de_row1_col0\" class=\"data row1 col0\" >AAV</td>\n",
       "      <td id=\"T_db4de_row1_col1\" class=\"data row1 col1\" >sSET / SETTHSI    </td>\n",
       "      <td id=\"T_db4de_row1_col2\" class=\"data row1 col2\" >150,000.00</td>\n",
       "    </tr>\n",
       "    <tr>\n",
       "      <th id=\"T_db4de_level0_row2\" class=\"row_heading level0 row2\" >2</th>\n",
       "      <td id=\"T_db4de_row2_col0\" class=\"data row2 col0\" >ACE</td>\n",
       "      <td id=\"T_db4de_row2_col1\" class=\"data row2 col1\" >SET100    </td>\n",
       "      <td id=\"T_db4de_row2_col2\" class=\"data row2 col2\" >300,000.00</td>\n",
       "    </tr>\n",
       "    <tr>\n",
       "      <th id=\"T_db4de_level0_row3\" class=\"row_heading level0 row3\" >3</th>\n",
       "      <td id=\"T_db4de_row3_col0\" class=\"data row3 col0\" >ADVANC</td>\n",
       "      <td id=\"T_db4de_row3_col1\" class=\"data row3 col1\" >SET50 / SETHD / SETTHSI    </td>\n",
       "      <td id=\"T_db4de_row3_col2\" class=\"data row3 col2\" >450,000.00</td>\n",
       "    </tr>\n",
       "    <tr>\n",
       "      <th id=\"T_db4de_level0_row4\" class=\"row_heading level0 row4\" >4</th>\n",
       "      <td id=\"T_db4de_row4_col0\" class=\"data row4 col0\" >AEONTS</td>\n",
       "      <td id=\"T_db4de_row4_col1\" class=\"data row4 col1\" >SET100    </td>\n",
       "      <td id=\"T_db4de_row4_col2\" class=\"data row4 col2\" >300,000.00</td>\n",
       "    </tr>\n",
       "  </tbody>\n",
       "</table>\n"
      ],
      "text/plain": [
       "<pandas.io.formats.style.Styler at 0x2195a0f47f0>"
      ]
     },
     "execution_count": 11,
     "metadata": {},
     "output_type": "execute_result"
    }
   ],
   "source": [
    "my_stocks[\"base_amt\"] = np.select(filters, values, default=150000)\n",
    "my_stocks.head().style.format(format_dict)"
   ]
  },
  {
   "cell_type": "code",
   "execution_count": 12,
   "metadata": {},
   "outputs": [
    {
     "data": {
      "text/plain": [
       "(34, 11)"
      ]
     },
     "execution_count": 12,
     "metadata": {},
     "output_type": "execute_result"
    }
   ],
   "source": [
    "df_merge = pd.merge(df, my_stocks, on='name', how='inner')\n",
    "df_merge.shape"
   ]
  },
  {
   "cell_type": "code",
   "execution_count": 13,
   "metadata": {},
   "outputs": [
    {
     "data": {
      "text/html": [
       "<style type=\"text/css\">\n",
       "</style>\n",
       "<table id=\"T_ceaab_\">\n",
       "  <thead>\n",
       "    <tr>\n",
       "      <th class=\"blank level0\" >&nbsp;</th>\n",
       "      <th class=\"col_heading level0 col0\" >name</th>\n",
       "      <th class=\"col_heading level0 col1\" >period</th>\n",
       "      <th class=\"col_heading level0 col2\" >shares</th>\n",
       "      <th class=\"col_heading level0 col3\" >price</th>\n",
       "      <th class=\"col_heading level0 col4\" >cost_amt</th>\n",
       "      <th class=\"col_heading level0 col5\" >base_amt</th>\n",
       "      <th class=\"col_heading level0 col6\" >pct</th>\n",
       "    </tr>\n",
       "  </thead>\n",
       "  <tbody>\n",
       "    <tr>\n",
       "      <th id=\"T_ceaab_level0_row0\" class=\"row_heading level0 row0\" >2</th>\n",
       "      <td id=\"T_ceaab_row0_col0\" class=\"data row0 col0\" >IVL</td>\n",
       "      <td id=\"T_ceaab_row0_col1\" class=\"data row0 col1\" >3</td>\n",
       "      <td id=\"T_ceaab_row0_col2\" class=\"data row0 col2\" >12,000</td>\n",
       "      <td id=\"T_ceaab_row0_col3\" class=\"data row0 col3\" >42.00</td>\n",
       "      <td id=\"T_ceaab_row0_col4\" class=\"data row0 col4\" >504,000.00</td>\n",
       "      <td id=\"T_ceaab_row0_col5\" class=\"data row0 col5\" >450,000.00</td>\n",
       "      <td id=\"T_ceaab_row0_col6\" class=\"data row0 col6\" >112.00%</td>\n",
       "    </tr>\n",
       "    <tr>\n",
       "      <th id=\"T_ceaab_level0_row1\" class=\"row_heading level0 row1\" >3</th>\n",
       "      <td id=\"T_ceaab_row1_col0\" class=\"data row1 col0\" >KCE</td>\n",
       "      <td id=\"T_ceaab_row1_col1\" class=\"data row1 col1\" >3</td>\n",
       "      <td id=\"T_ceaab_row1_col2\" class=\"data row1 col2\" >6,000</td>\n",
       "      <td id=\"T_ceaab_row1_col3\" class=\"data row1 col3\" >85.00</td>\n",
       "      <td id=\"T_ceaab_row1_col4\" class=\"data row1 col4\" >510,000.00</td>\n",
       "      <td id=\"T_ceaab_row1_col5\" class=\"data row1 col5\" >450,000.00</td>\n",
       "      <td id=\"T_ceaab_row1_col6\" class=\"data row1 col6\" >113.33%</td>\n",
       "    </tr>\n",
       "    <tr>\n",
       "      <th id=\"T_ceaab_level0_row2\" class=\"row_heading level0 row2\" >7</th>\n",
       "      <td id=\"T_ceaab_row2_col0\" class=\"data row2 col0\" >GLOBAL</td>\n",
       "      <td id=\"T_ceaab_row2_col1\" class=\"data row2 col1\" >3</td>\n",
       "      <td id=\"T_ceaab_row2_col2\" class=\"data row2 col2\" >7,500</td>\n",
       "      <td id=\"T_ceaab_row2_col3\" class=\"data row2 col3\" >20.00</td>\n",
       "      <td id=\"T_ceaab_row2_col4\" class=\"data row2 col4\" >150,000.00</td>\n",
       "      <td id=\"T_ceaab_row2_col5\" class=\"data row2 col5\" >450,000.00</td>\n",
       "      <td id=\"T_ceaab_row2_col6\" class=\"data row2 col6\" >33.33%</td>\n",
       "    </tr>\n",
       "    <tr>\n",
       "      <th id=\"T_ceaab_level0_row3\" class=\"row_heading level0 row3\" >8</th>\n",
       "      <td id=\"T_ceaab_row3_col0\" class=\"data row3 col0\" >WHART</td>\n",
       "      <td id=\"T_ceaab_row3_col1\" class=\"data row3 col1\" >4</td>\n",
       "      <td id=\"T_ceaab_row3_col2\" class=\"data row3 col2\" >10,000</td>\n",
       "      <td id=\"T_ceaab_row3_col3\" class=\"data row3 col3\" >12.50</td>\n",
       "      <td id=\"T_ceaab_row3_col4\" class=\"data row3 col4\" >125,000.00</td>\n",
       "      <td id=\"T_ceaab_row3_col5\" class=\"data row3 col5\" >150,000.00</td>\n",
       "      <td id=\"T_ceaab_row3_col6\" class=\"data row3 col6\" >83.33%</td>\n",
       "    </tr>\n",
       "    <tr>\n",
       "      <th id=\"T_ceaab_level0_row4\" class=\"row_heading level0 row4\" >9</th>\n",
       "      <td id=\"T_ceaab_row4_col0\" class=\"data row4 col0\" >BCH</td>\n",
       "      <td id=\"T_ceaab_row4_col1\" class=\"data row4 col1\" >3</td>\n",
       "      <td id=\"T_ceaab_row4_col2\" class=\"data row4 col2\" >15,000</td>\n",
       "      <td id=\"T_ceaab_row4_col3\" class=\"data row4 col3\" >21.30</td>\n",
       "      <td id=\"T_ceaab_row4_col4\" class=\"data row4 col4\" >319,500.00</td>\n",
       "      <td id=\"T_ceaab_row4_col5\" class=\"data row4 col5\" >300,000.00</td>\n",
       "      <td id=\"T_ceaab_row4_col6\" class=\"data row4 col6\" >106.50%</td>\n",
       "    </tr>\n",
       "  </tbody>\n",
       "</table>\n"
      ],
      "text/plain": [
       "<pandas.io.formats.style.Styler at 0x21957d3feb0>"
      ]
     },
     "execution_count": 13,
     "metadata": {},
     "output_type": "execute_result"
    }
   ],
   "source": [
    "df_merge['pct'] = round(df_merge.cost_amt/df_merge.base_amt*100,2)\n",
    "mask = df.period != '2'\n",
    "df_merge[mask][cols].head().style.format(format_dict)"
   ]
  },
  {
   "cell_type": "code",
   "execution_count": 14,
   "metadata": {},
   "outputs": [
    {
     "data": {
      "text/html": [
       "<style type=\"text/css\">\n",
       "</style>\n",
       "<table id=\"T_4a4b4_\">\n",
       "  <thead>\n",
       "    <tr>\n",
       "      <th class=\"blank level0\" >&nbsp;</th>\n",
       "      <th class=\"col_heading level0 col0\" >name</th>\n",
       "      <th class=\"col_heading level0 col1\" >period</th>\n",
       "      <th class=\"col_heading level0 col2\" >shares</th>\n",
       "      <th class=\"col_heading level0 col3\" >price</th>\n",
       "      <th class=\"col_heading level0 col4\" >cost_amt</th>\n",
       "      <th class=\"col_heading level0 col5\" >base_amt</th>\n",
       "      <th class=\"col_heading level0 col6\" >pct</th>\n",
       "    </tr>\n",
       "  </thead>\n",
       "  <tbody>\n",
       "    <tr>\n",
       "      <th id=\"T_4a4b4_level0_row0\" class=\"row_heading level0 row0\" >26</th>\n",
       "      <td id=\"T_4a4b4_row0_col0\" class=\"data row0 col0\" >KBANK</td>\n",
       "      <td id=\"T_4a4b4_row0_col1\" class=\"data row0 col1\" >4</td>\n",
       "      <td id=\"T_4a4b4_row0_col2\" class=\"data row0 col2\" >800</td>\n",
       "      <td id=\"T_4a4b4_row0_col3\" class=\"data row0 col3\" >136.50</td>\n",
       "      <td id=\"T_4a4b4_row0_col4\" class=\"data row0 col4\" >109,200.00</td>\n",
       "      <td id=\"T_4a4b4_row0_col5\" class=\"data row0 col5\" >450,000.00</td>\n",
       "      <td id=\"T_4a4b4_row0_col6\" class=\"data row0 col6\" >24.27%</td>\n",
       "    </tr>\n",
       "    <tr>\n",
       "      <th id=\"T_4a4b4_level0_row1\" class=\"row_heading level0 row1\" >7</th>\n",
       "      <td id=\"T_4a4b4_row1_col0\" class=\"data row1 col0\" >GLOBAL</td>\n",
       "      <td id=\"T_4a4b4_row1_col1\" class=\"data row1 col1\" >3</td>\n",
       "      <td id=\"T_4a4b4_row1_col2\" class=\"data row1 col2\" >7,500</td>\n",
       "      <td id=\"T_4a4b4_row1_col3\" class=\"data row1 col3\" >20.00</td>\n",
       "      <td id=\"T_4a4b4_row1_col4\" class=\"data row1 col4\" >150,000.00</td>\n",
       "      <td id=\"T_4a4b4_row1_col5\" class=\"data row1 col5\" >450,000.00</td>\n",
       "      <td id=\"T_4a4b4_row1_col6\" class=\"data row1 col6\" >33.33%</td>\n",
       "    </tr>\n",
       "    <tr>\n",
       "      <th id=\"T_4a4b4_level0_row2\" class=\"row_heading level0 row2\" >10</th>\n",
       "      <td id=\"T_4a4b4_row2_col0\" class=\"data row2 col0\" >TOP</td>\n",
       "      <td id=\"T_4a4b4_row2_col1\" class=\"data row2 col1\" >3</td>\n",
       "      <td id=\"T_4a4b4_row2_col2\" class=\"data row2 col2\" >3,000</td>\n",
       "      <td id=\"T_4a4b4_row2_col3\" class=\"data row2 col3\" >50.00</td>\n",
       "      <td id=\"T_4a4b4_row2_col4\" class=\"data row2 col4\" >150,000.00</td>\n",
       "      <td id=\"T_4a4b4_row2_col5\" class=\"data row2 col5\" >450,000.00</td>\n",
       "      <td id=\"T_4a4b4_row2_col6\" class=\"data row2 col6\" >33.33%</td>\n",
       "    </tr>\n",
       "  </tbody>\n",
       "</table>\n"
      ],
      "text/plain": [
       "<pandas.io.formats.style.Styler at 0x2195ede8b50>"
      ]
     },
     "execution_count": 14,
     "metadata": {},
     "output_type": "execute_result"
    }
   ],
   "source": [
    "df_merge[mask].nsmallest(3, 'pct')[cols].style.format(format_dict)"
   ]
  },
  {
   "cell_type": "code",
   "execution_count": 15,
   "metadata": {},
   "outputs": [
    {
     "data": {
      "text/html": [
       "<style type=\"text/css\">\n",
       "</style>\n",
       "<table id=\"T_e8fb3_\">\n",
       "  <thead>\n",
       "    <tr>\n",
       "      <th class=\"blank level0\" >&nbsp;</th>\n",
       "      <th class=\"col_heading level0 col0\" >name</th>\n",
       "      <th class=\"col_heading level0 col1\" >period</th>\n",
       "      <th class=\"col_heading level0 col2\" >shares</th>\n",
       "      <th class=\"col_heading level0 col3\" >price</th>\n",
       "      <th class=\"col_heading level0 col4\" >cost_amt</th>\n",
       "      <th class=\"col_heading level0 col5\" >base_amt</th>\n",
       "      <th class=\"col_heading level0 col6\" >pct</th>\n",
       "    </tr>\n",
       "  </thead>\n",
       "  <tbody>\n",
       "    <tr>\n",
       "      <th id=\"T_e8fb3_level0_row0\" class=\"row_heading level0 row0\" >23</th>\n",
       "      <td id=\"T_e8fb3_row0_col0\" class=\"data row0 col0\" >NER</td>\n",
       "      <td id=\"T_e8fb3_row0_col1\" class=\"data row0 col1\" >4</td>\n",
       "      <td id=\"T_e8fb3_row0_col2\" class=\"data row0 col2\" >36,000</td>\n",
       "      <td id=\"T_e8fb3_row0_col3\" class=\"data row0 col3\" >7.45</td>\n",
       "      <td id=\"T_e8fb3_row0_col4\" class=\"data row0 col4\" >268,200.00</td>\n",
       "      <td id=\"T_e8fb3_row0_col5\" class=\"data row0 col5\" >150,000.00</td>\n",
       "      <td id=\"T_e8fb3_row0_col6\" class=\"data row0 col6\" >178.80%</td>\n",
       "    </tr>\n",
       "    <tr>\n",
       "      <th id=\"T_e8fb3_level0_row1\" class=\"row_heading level0 row1\" >33</th>\n",
       "      <td id=\"T_e8fb3_row1_col0\" class=\"data row1 col0\" >IP</td>\n",
       "      <td id=\"T_e8fb3_row1_col1\" class=\"data row1 col1\" >3</td>\n",
       "      <td id=\"T_e8fb3_row1_col2\" class=\"data row1 col2\" >10,500</td>\n",
       "      <td id=\"T_e8fb3_row1_col3\" class=\"data row1 col3\" >20.20</td>\n",
       "      <td id=\"T_e8fb3_row1_col4\" class=\"data row1 col4\" >212,100.00</td>\n",
       "      <td id=\"T_e8fb3_row1_col5\" class=\"data row1 col5\" >150,000.00</td>\n",
       "      <td id=\"T_e8fb3_row1_col6\" class=\"data row1 col6\" >141.40%</td>\n",
       "    </tr>\n",
       "    <tr>\n",
       "      <th id=\"T_e8fb3_level0_row2\" class=\"row_heading level0 row2\" >3</th>\n",
       "      <td id=\"T_e8fb3_row2_col0\" class=\"data row2 col0\" >KCE</td>\n",
       "      <td id=\"T_e8fb3_row2_col1\" class=\"data row2 col1\" >3</td>\n",
       "      <td id=\"T_e8fb3_row2_col2\" class=\"data row2 col2\" >6,000</td>\n",
       "      <td id=\"T_e8fb3_row2_col3\" class=\"data row2 col3\" >85.00</td>\n",
       "      <td id=\"T_e8fb3_row2_col4\" class=\"data row2 col4\" >510,000.00</td>\n",
       "      <td id=\"T_e8fb3_row2_col5\" class=\"data row2 col5\" >450,000.00</td>\n",
       "      <td id=\"T_e8fb3_row2_col6\" class=\"data row2 col6\" >113.33%</td>\n",
       "    </tr>\n",
       "  </tbody>\n",
       "</table>\n"
      ],
      "text/plain": [
       "<pandas.io.formats.style.Styler at 0x2195a0f4970>"
      ]
     },
     "execution_count": 15,
     "metadata": {},
     "output_type": "execute_result"
    }
   ],
   "source": [
    "df_merge[mask].nlargest(3, 'pct')[cols].style.format(format_dict)"
   ]
  },
  {
   "cell_type": "markdown",
   "metadata": {},
   "source": [
    "### Rank"
   ]
  },
  {
   "cell_type": "code",
   "execution_count": 16,
   "metadata": {},
   "outputs": [
    {
     "name": "stdout",
     "output_type": "stream",
     "text": [
      "\n",
      "SELECT B.name, volbuy, B.price AS unit_cost, volbuy * B.price AS cost_amt, \n",
      "dividend, volbuy * dividend AS div_amt, \n",
      "P.price, volbuy * P.price AS amount, \n",
      "(P.price - B.price) * volbuy AS profit,  period\n",
      "FROM buy B JOIN price P\n",
      "ON B.name = P.name\n",
      "WHERE P.date = \"2022-01-19\"\n",
      "AND active = 1\n"
     ]
    }
   ],
   "source": [
    "sql = '''\n",
    "SELECT B.name, volbuy, B.price AS unit_cost, volbuy * B.price AS cost_amt, \n",
    "dividend, volbuy * dividend AS div_amt, \n",
    "P.price, volbuy * P.price AS amount, \n",
    "(P.price - B.price) * volbuy AS profit,  period\n",
    "FROM buy B JOIN price P\n",
    "ON B.name = P.name\n",
    "WHERE P.date = \"%s\"\n",
    "AND active = 1'''\n",
    "sql = sql % today \n",
    "print(sql)"
   ]
  },
  {
   "cell_type": "code",
   "execution_count": 17,
   "metadata": {},
   "outputs": [
    {
     "data": {
      "text/html": [
       "<style type=\"text/css\">\n",
       "</style>\n",
       "<table id=\"T_db9b9_\">\n",
       "  <thead>\n",
       "    <tr>\n",
       "      <th class=\"blank level0\" >&nbsp;</th>\n",
       "      <th class=\"col_heading level0 col0\" >name</th>\n",
       "      <th class=\"col_heading level0 col1\" >shares</th>\n",
       "      <th class=\"col_heading level0 col2\" >unit_cost</th>\n",
       "      <th class=\"col_heading level0 col3\" >cost_amt</th>\n",
       "      <th class=\"col_heading level0 col4\" >dividend</th>\n",
       "      <th class=\"col_heading level0 col5\" >div_amt</th>\n",
       "      <th class=\"col_heading level0 col6\" >price</th>\n",
       "      <th class=\"col_heading level0 col7\" >amount</th>\n",
       "      <th class=\"col_heading level0 col8\" >profit</th>\n",
       "      <th class=\"col_heading level0 col9\" >period</th>\n",
       "      <th class=\"col_heading level0 col10\" >mkt_pct</th>\n",
       "      <th class=\"col_heading level0 col11\" >cost_pct</th>\n",
       "      <th class=\"col_heading level0 col12\" >pft_pct</th>\n",
       "    </tr>\n",
       "  </thead>\n",
       "  <tbody>\n",
       "    <tr>\n",
       "      <th id=\"T_db9b9_level0_row0\" class=\"row_heading level0 row0\" >2</th>\n",
       "      <td id=\"T_db9b9_row0_col0\" class=\"data row0 col0\" >IVL</td>\n",
       "      <td id=\"T_db9b9_row0_col1\" class=\"data row0 col1\" >12,000</td>\n",
       "      <td id=\"T_db9b9_row0_col2\" class=\"data row0 col2\" >42.00</td>\n",
       "      <td id=\"T_db9b9_row0_col3\" class=\"data row0 col3\" >504,000.00</td>\n",
       "      <td id=\"T_db9b9_row0_col4\" class=\"data row0 col4\" >0.8500</td>\n",
       "      <td id=\"T_db9b9_row0_col5\" class=\"data row0 col5\" >10,200.00</td>\n",
       "      <td id=\"T_db9b9_row0_col6\" class=\"data row0 col6\" >48.50</td>\n",
       "      <td id=\"T_db9b9_row0_col7\" class=\"data row0 col7\" >582,000.00</td>\n",
       "      <td id=\"T_db9b9_row0_col8\" class=\"data row0 col8\" >78,000.00</td>\n",
       "      <td id=\"T_db9b9_row0_col9\" class=\"data row0 col9\" >3</td>\n",
       "      <td id=\"T_db9b9_row0_col10\" class=\"data row0 col10\" >1.75%</td>\n",
       "      <td id=\"T_db9b9_row0_col11\" class=\"data row0 col11\" >2.02%</td>\n",
       "      <td id=\"T_db9b9_row0_col12\" class=\"data row0 col12\" >15.48%</td>\n",
       "    </tr>\n",
       "    <tr>\n",
       "      <th id=\"T_db9b9_level0_row1\" class=\"row_heading level0 row1\" >24</th>\n",
       "      <td id=\"T_db9b9_row1_col0\" class=\"data row1 col0\" >TSTH</td>\n",
       "      <td id=\"T_db9b9_row1_col1\" class=\"data row1 col1\" >75,000</td>\n",
       "      <td id=\"T_db9b9_row1_col2\" class=\"data row1 col2\" >1.50</td>\n",
       "      <td id=\"T_db9b9_row1_col3\" class=\"data row1 col3\" >112,500.00</td>\n",
       "      <td id=\"T_db9b9_row1_col4\" class=\"data row1 col4\" >nan</td>\n",
       "      <td id=\"T_db9b9_row1_col5\" class=\"data row1 col5\" >nan</td>\n",
       "      <td id=\"T_db9b9_row1_col6\" class=\"data row1 col6\" >1.62</td>\n",
       "      <td id=\"T_db9b9_row1_col7\" class=\"data row1 col7\" >121,500.00</td>\n",
       "      <td id=\"T_db9b9_row1_col8\" class=\"data row1 col8\" >9,000.00</td>\n",
       "      <td id=\"T_db9b9_row1_col9\" class=\"data row1 col9\" >3</td>\n",
       "      <td id=\"T_db9b9_row1_col10\" class=\"data row1 col10\" >nan%</td>\n",
       "      <td id=\"T_db9b9_row1_col11\" class=\"data row1 col11\" >nan%</td>\n",
       "      <td id=\"T_db9b9_row1_col12\" class=\"data row1 col12\" >8.00%</td>\n",
       "    </tr>\n",
       "    <tr>\n",
       "      <th id=\"T_db9b9_level0_row2\" class=\"row_heading level0 row2\" >17</th>\n",
       "      <td id=\"T_db9b9_row2_col0\" class=\"data row2 col0\" >SIS</td>\n",
       "      <td id=\"T_db9b9_row2_col1\" class=\"data row2 col1\" >3,000</td>\n",
       "      <td id=\"T_db9b9_row2_col2\" class=\"data row2 col2\" >40.50</td>\n",
       "      <td id=\"T_db9b9_row2_col3\" class=\"data row2 col3\" >121,500.00</td>\n",
       "      <td id=\"T_db9b9_row2_col4\" class=\"data row2 col4\" >1.0000</td>\n",
       "      <td id=\"T_db9b9_row2_col5\" class=\"data row2 col5\" >3,000.00</td>\n",
       "      <td id=\"T_db9b9_row2_col6\" class=\"data row2 col6\" >43.25</td>\n",
       "      <td id=\"T_db9b9_row2_col7\" class=\"data row2 col7\" >129,750.00</td>\n",
       "      <td id=\"T_db9b9_row2_col8\" class=\"data row2 col8\" >8,250.00</td>\n",
       "      <td id=\"T_db9b9_row2_col9\" class=\"data row2 col9\" >3</td>\n",
       "      <td id=\"T_db9b9_row2_col10\" class=\"data row2 col10\" >2.31%</td>\n",
       "      <td id=\"T_db9b9_row2_col11\" class=\"data row2 col11\" >2.47%</td>\n",
       "      <td id=\"T_db9b9_row2_col12\" class=\"data row2 col12\" >6.79%</td>\n",
       "    </tr>\n",
       "    <tr>\n",
       "      <th id=\"T_db9b9_level0_row3\" class=\"row_heading level0 row3\" >12</th>\n",
       "      <td id=\"T_db9b9_row3_col0\" class=\"data row3 col0\" >JASIF</td>\n",
       "      <td id=\"T_db9b9_row3_col1\" class=\"data row3 col1\" >100,000</td>\n",
       "      <td id=\"T_db9b9_row3_col2\" class=\"data row3 col2\" >10.00</td>\n",
       "      <td id=\"T_db9b9_row3_col3\" class=\"data row3 col3\" >1,000,000.00</td>\n",
       "      <td id=\"T_db9b9_row3_col4\" class=\"data row3 col4\" >0.9500</td>\n",
       "      <td id=\"T_db9b9_row3_col5\" class=\"data row3 col5\" >95,000.00</td>\n",
       "      <td id=\"T_db9b9_row3_col6\" class=\"data row3 col6\" >10.60</td>\n",
       "      <td id=\"T_db9b9_row3_col7\" class=\"data row3 col7\" >1,060,000.00</td>\n",
       "      <td id=\"T_db9b9_row3_col8\" class=\"data row3 col8\" >60,000.00</td>\n",
       "      <td id=\"T_db9b9_row3_col9\" class=\"data row3 col9\" >2</td>\n",
       "      <td id=\"T_db9b9_row3_col10\" class=\"data row3 col10\" >8.96%</td>\n",
       "      <td id=\"T_db9b9_row3_col11\" class=\"data row3 col11\" >9.50%</td>\n",
       "      <td id=\"T_db9b9_row3_col12\" class=\"data row3 col12\" >6.00%</td>\n",
       "    </tr>\n",
       "    <tr>\n",
       "      <th id=\"T_db9b9_level0_row4\" class=\"row_heading level0 row4\" >31</th>\n",
       "      <td id=\"T_db9b9_row4_col0\" class=\"data row4 col0\" >RCL</td>\n",
       "      <td id=\"T_db9b9_row4_col1\" class=\"data row4 col1\" >4,500</td>\n",
       "      <td id=\"T_db9b9_row4_col2\" class=\"data row4 col2\" >44.50</td>\n",
       "      <td id=\"T_db9b9_row4_col3\" class=\"data row4 col3\" >200,250.00</td>\n",
       "      <td id=\"T_db9b9_row4_col4\" class=\"data row4 col4\" >3.5000</td>\n",
       "      <td id=\"T_db9b9_row4_col5\" class=\"data row4 col5\" >15,750.00</td>\n",
       "      <td id=\"T_db9b9_row4_col6\" class=\"data row4 col6\" >47.00</td>\n",
       "      <td id=\"T_db9b9_row4_col7\" class=\"data row4 col7\" >211,500.00</td>\n",
       "      <td id=\"T_db9b9_row4_col8\" class=\"data row4 col8\" >11,250.00</td>\n",
       "      <td id=\"T_db9b9_row4_col9\" class=\"data row4 col9\" >3</td>\n",
       "      <td id=\"T_db9b9_row4_col10\" class=\"data row4 col10\" >7.45%</td>\n",
       "      <td id=\"T_db9b9_row4_col11\" class=\"data row4 col11\" >7.87%</td>\n",
       "      <td id=\"T_db9b9_row4_col12\" class=\"data row4 col12\" >5.62%</td>\n",
       "    </tr>\n",
       "  </tbody>\n",
       "</table>\n"
      ],
      "text/plain": [
       "<pandas.io.formats.style.Styler at 0x2195fdea6d0>"
      ]
     },
     "execution_count": 17,
     "metadata": {},
     "output_type": "execute_result"
    }
   ],
   "source": [
    "df = pd.read_sql(sql, const)\n",
    "df.rename(columns={'volbuy': 'shares'}, inplace=True)\n",
    "df['shares'] = df.shares.astype(int)\n",
    "df['mkt_pct'] = round(df['dividend'] / df['price'] * 100,2)\n",
    "df['cost_pct'] = round(df['dividend'] / df['unit_cost'] * 100,2)\n",
    "df['pft_pct'] = round((df['price'] - df['unit_cost']) / df['unit_cost'] * 100,2)\n",
    "df.sort_values(['pft_pct'],ascending=[False]).head().style.format(format_dict)"
   ]
  },
  {
   "cell_type": "code",
   "execution_count": 18,
   "metadata": {
    "scrolled": false
   },
   "outputs": [
    {
     "data": {},
     "metadata": {},
     "output_type": "display_data"
    },
    {
     "data": {
      "application/vnd.holoviews_exec.v0+json": "",
      "text/html": [
       "<div id='1060'>\n",
       "\n",
       "\n",
       "\n",
       "\n",
       "\n",
       "  <div class=\"bk-root\" id=\"3ee657d0-6d81-4c39-ac83-c49092c9c845\" data-root-id=\"1060\"></div>\n",
       "</div>\n",
       "<script type=\"application/javascript\">(function(root) {\n",
       "  function embed_document(root) {\n",
       "    var docs_json = {\"19f3b29f-2a37-4d9a-979f-d9e2b40267a0\":{\"defs\":[{\"extends\":null,\"module\":null,\"name\":\"ReactiveHTML1\",\"overrides\":[],\"properties\":[]},{\"extends\":null,\"module\":null,\"name\":\"FlexBox1\",\"overrides\":[],\"properties\":[{\"default\":\"flex-start\",\"kind\":null,\"name\":\"align_content\"},{\"default\":\"flex-start\",\"kind\":null,\"name\":\"align_items\"},{\"default\":\"row\",\"kind\":null,\"name\":\"flex_direction\"},{\"default\":\"wrap\",\"kind\":null,\"name\":\"flex_wrap\"},{\"default\":\"flex-start\",\"kind\":null,\"name\":\"justify_content\"}]},{\"extends\":null,\"module\":null,\"name\":\"TemplateActions1\",\"overrides\":[],\"properties\":[{\"default\":0,\"kind\":null,\"name\":\"open_modal\"},{\"default\":0,\"kind\":null,\"name\":\"close_modal\"}]},{\"extends\":null,\"module\":null,\"name\":\"MaterialTemplateActions1\",\"overrides\":[],\"properties\":[{\"default\":0,\"kind\":null,\"name\":\"open_modal\"},{\"default\":0,\"kind\":null,\"name\":\"close_modal\"}]}],\"roots\":{\"references\":[{\"attributes\":{},\"id\":\"1046\",\"type\":\"NumberEditor\"},{\"attributes\":{\"indices\":[]},\"id\":\"1003\",\"type\":\"Selection\"},{\"attributes\":{\"reload\":false},\"id\":\"1075\",\"type\":\"panel.models.location.Location\"},{\"attributes\":{\"editor\":{\"id\":\"1011\"},\"field\":\"name\",\"formatter\":{\"id\":\"1010\"},\"title\":\"name\",\"width\":0},\"id\":\"1012\",\"type\":\"TableColumn\"},{\"attributes\":{\"format\":\"0,0.0[00000]\"},\"id\":\"1025\",\"type\":\"NumberFormatter\"},{\"attributes\":{\"data\":{\"amount\":{\"__ndarray__\":\"AAAAAFDaIUEAAAAAyGoYQQAAAABQ+RBBAAAAAOCMKkEAAAAAoCwwQQAAAADgSxBBAAAAAGDRKUEAAAAA0HEYQQAAAAAgvgdB\",\"dtype\":\"float64\",\"order\":\"little\",\"shape\":[9]},\"amt_rnk\":{\"__ndarray__\":\"AAAAAAAAEEAAAAAAAAAYQAAAAAAAABxAAAAAAAAAAEAAAAAAAADwPwAAAAAAACBAAAAAAAAACEAAAAAAAAAUQAAAAAAAACJA\",\"dtype\":\"float64\",\"order\":\"little\",\"shape\":[9]},\"cost_amt\":{\"__ndarray__\":\"AAAAALA1JUEAAAAAoOoaQQAAAACwTRFBAAAAACCULkEAAAAAgIQuQQAAAABQYxBBAAAAAKDqKkEAAAAAmCEZQQAAAADAzQdB\",\"dtype\":\"float64\",\"order\":\"little\",\"shape\":[9]},\"div_amt\":{\"__ndarray__\":\"AAAAAICi+UAAAAAAwCXqQAAAAAAAAd1AAAAAAIAR9EAAAAAAgDH3QAAAAAAAT9RAAAAAAACW7kAAAAAAgJDcQAAAAAAAnMhA\",\"dtype\":\"float64\",\"order\":\"little\",\"shape\":[9]},\"div_rnk\":{\"__ndarray__\":\"AAAAAAAA8D8AAAAAAAAAQAAAAAAAAAhAAAAAAAAAEEAAAAAAAAAUQAAAAAAAABhAAAAAAAAAHEAAAAAAAAAgQAAAAAAAACJA\",\"dtype\":\"float64\",\"order\":\"little\",\"shape\":[9]},\"index\":[0,22,6,4,12,16,5,1,14],\"mkt_pct\":{\"__ndarray__\":\"MzMzMzPzMUBI4XoUrscqQFyPwvUoXCVAZmZmZmbmIkDsUbgeheshQClcj8L1KB9AmpmZmZmZHUAzMzMzMzMdQOxRuB6F6xlA\",\"dtype\":\"float64\",\"order\":\"little\",\"shape\":[9]},\"name\":[\"STA\",\"NOBLE\",\"TMT\",\"MCS\",\"JASIF\",\"HREIT\",\"DIF\",\"RATCH\",\"TISCO\"],\"price\":{\"__ndarray__\":\"AAAAAABAPUBmZmZmZmYZQJqZmZmZmSRAAAAAAAAALUAzMzMzMzMlQM3MzMzMzCFAMzMzMzMzLEAAAAAAAEBGQAAAAAAAUFhA\",\"dtype\":\"float64\",\"order\":\"little\",\"shape\":[9]},\"shares\":{\"__ndarray__\":\"IE4AABj2AAB4aQAAYOoAAKCGAQAwdQAAYOoAACgjAADQBwAA\",\"dtype\":\"int32\",\"order\":\"little\",\"shape\":[9]},\"unit_cost\":{\"__ndarray__\":\"AAAAAABgQUAAAAAAAAAcQAAAAAAAACVAMzMzMzOzMEAAAAAAAAAkQGZmZmZm5iFAZmZmZmZmLUAAAAAAAOBGQAAAAAAAYFhA\",\"dtype\":\"float64\",\"order\":\"little\",\"shape\":[9]}},\"selected\":{\"id\":\"1003\"},\"selection_policy\":{\"id\":\"1063\"}},\"id\":\"1002\",\"type\":\"ColumnDataSource\"},{\"attributes\":{},\"id\":\"1041\",\"type\":\"NumberEditor\"},{\"attributes\":{\"editor\":{\"id\":\"1021\"},\"field\":\"unit_cost\",\"formatter\":{\"id\":\"1020\"},\"title\":\"unit_cost\",\"width\":0},\"id\":\"1022\",\"type\":\"TableColumn\"},{\"attributes\":{},\"id\":\"1051\",\"type\":\"NumberEditor\"},{\"attributes\":{},\"id\":\"1010\",\"type\":\"StringFormatter\"},{\"attributes\":{},\"id\":\"1006\",\"type\":\"CellEditor\"},{\"attributes\":{},\"id\":\"1026\",\"type\":\"NumberEditor\"},{\"attributes\":{\"editor\":{\"id\":\"1016\"},\"field\":\"shares\",\"formatter\":{\"id\":\"1015\"},\"title\":\"shares\",\"width\":0},\"id\":\"1017\",\"type\":\"TableColumn\"},{\"attributes\":{\"client_comm_id\":\"7d3aa3d771504331bc4cb43903356fb3\",\"comm_id\":\"43b009fb72d14b2da299184bee576021\",\"plot_id\":\"1060\"},\"id\":\"1068\",\"type\":\"panel.models.comm_manager.CommManager\"},{\"attributes\":{},\"id\":\"1036\",\"type\":\"NumberEditor\"},{\"attributes\":{},\"id\":\"1056\",\"type\":\"NumberEditor\"},{\"attributes\":{\"editor\":{\"id\":\"1041\"},\"field\":\"mkt_pct\",\"formatter\":{\"id\":\"1040\"},\"title\":\"mkt_pct\",\"width\":0},\"id\":\"1042\",\"type\":\"TableColumn\"},{\"attributes\":{},\"id\":\"1015\",\"type\":\"NumberFormatter\"},{\"attributes\":{\"columns\":[{\"id\":\"1007\"},{\"id\":\"1012\"},{\"id\":\"1017\"},{\"id\":\"1022\"},{\"id\":\"1027\"},{\"id\":\"1032\"},{\"id\":\"1037\"},{\"id\":\"1042\"},{\"id\":\"1047\"},{\"id\":\"1052\"},{\"id\":\"1057\"}],\"configuration\":{\"columns\":[{\"field\":\"index\"},{\"field\":\"name\"},{\"field\":\"shares\"},{\"field\":\"unit_cost\"},{\"field\":\"cost_amt\"},{\"field\":\"price\"},{\"field\":\"amount\"},{\"field\":\"mkt_pct\"},{\"field\":\"div_rnk\"},{\"field\":\"amt_rnk\"},{\"field\":\"div_amt\"}],\"dataTree\":false,\"selectable\":true},\"height\":300,\"indexes\":[\"index\"],\"margin\":[5,10,5,10],\"name\":\"\",\"page\":1,\"page_size\":20,\"selectable_rows\":null,\"source\":{\"id\":\"1002\"},\"width\":900},\"id\":\"1060\",\"type\":\"panel.models.tabulator.DataTabulator\"},{\"attributes\":{\"editor\":{\"id\":\"1056\"},\"field\":\"div_amt\",\"formatter\":{\"id\":\"1055\"},\"title\":\"div_amt\",\"width\":0},\"id\":\"1057\",\"type\":\"TableColumn\"},{\"attributes\":{},\"id\":\"1004\",\"type\":\"NumberFormatter\"},{\"attributes\":{},\"id\":\"1063\",\"type\":\"UnionRenderers\"},{\"attributes\":{},\"id\":\"1011\",\"type\":\"StringEditor\"},{\"attributes\":{\"format\":\"0,0.0[00000]\"},\"id\":\"1035\",\"type\":\"NumberFormatter\"},{\"attributes\":{\"editor\":{\"id\":\"1031\"},\"field\":\"price\",\"formatter\":{\"id\":\"1030\"},\"title\":\"price\",\"width\":0},\"id\":\"1032\",\"type\":\"TableColumn\"},{\"attributes\":{},\"id\":\"1021\",\"type\":\"NumberEditor\"},{\"attributes\":{\"format\":\"0,0.0[00000]\"},\"id\":\"1045\",\"type\":\"NumberFormatter\"},{\"attributes\":{\"editor\":{\"id\":\"1046\"},\"field\":\"div_rnk\",\"formatter\":{\"id\":\"1045\"},\"title\":\"div_rnk\",\"width\":0},\"id\":\"1047\",\"type\":\"TableColumn\"},{\"attributes\":{\"editor\":{\"id\":\"1036\"},\"field\":\"amount\",\"formatter\":{\"id\":\"1035\"},\"title\":\"amount\",\"width\":0},\"id\":\"1037\",\"type\":\"TableColumn\"},{\"attributes\":{\"format\":\"0,0.0[00000]\"},\"id\":\"1030\",\"type\":\"NumberFormatter\"},{\"attributes\":{},\"id\":\"1016\",\"type\":\"IntEditor\"},{\"attributes\":{\"editor\":{\"id\":\"1051\"},\"field\":\"amt_rnk\",\"formatter\":{\"id\":\"1050\"},\"title\":\"amt_rnk\",\"width\":0},\"id\":\"1052\",\"type\":\"TableColumn\"},{\"attributes\":{\"editor\":{\"id\":\"1006\"},\"field\":\"index\",\"formatter\":{\"id\":\"1004\"},\"title\":\"index\",\"width\":0},\"id\":\"1007\",\"type\":\"TableColumn\"},{\"attributes\":{},\"id\":\"1031\",\"type\":\"NumberEditor\"},{\"attributes\":{\"format\":\"0,0.0[00000]\"},\"id\":\"1040\",\"type\":\"NumberFormatter\"},{\"attributes\":{\"editor\":{\"id\":\"1026\"},\"field\":\"cost_amt\",\"formatter\":{\"id\":\"1025\"},\"title\":\"cost_amt\",\"width\":0},\"id\":\"1027\",\"type\":\"TableColumn\"},{\"attributes\":{\"format\":\"0,0.0[00000]\"},\"id\":\"1020\",\"type\":\"NumberFormatter\"},{\"attributes\":{\"format\":\"0,0.0[00000]\"},\"id\":\"1055\",\"type\":\"NumberFormatter\"},{\"attributes\":{\"format\":\"0,0.0[00000]\"},\"id\":\"1050\",\"type\":\"NumberFormatter\"}],\"root_ids\":[\"1060\",\"1068\",\"1075\"]},\"title\":\"Bokeh Application\",\"version\":\"2.3.3\"}};\n",
       "    var render_items = [{\"docid\":\"19f3b29f-2a37-4d9a-979f-d9e2b40267a0\",\"root_ids\":[\"1060\"],\"roots\":{\"1060\":\"3ee657d0-6d81-4c39-ac83-c49092c9c845\"}}];\n",
       "    root.Bokeh.embed.embed_items_notebook(docs_json, render_items);\n",
       "  }\n",
       "  if (root.Bokeh !== undefined && root.Bokeh.Panel !== undefined && ( root['Tabulator'] !== undefined)) {\n",
       "    embed_document(root);\n",
       "  } else {\n",
       "    var attempts = 0;\n",
       "    var timer = setInterval(function(root) {\n",
       "      if (root.Bokeh !== undefined && root.Bokeh.Panel !== undefined && (root['Tabulator'] !== undefined)) {\n",
       "        clearInterval(timer);\n",
       "        embed_document(root);\n",
       "      } else if (document.readyState == \"complete\") {\n",
       "        attempts++;\n",
       "        if (attempts > 200) {\n",
       "          clearInterval(timer);\n",
       "          console.log(\"Bokeh: ERROR: Unable to run BokehJS code because BokehJS library is missing\");\n",
       "        }\n",
       "      }\n",
       "    }, 25, root)\n",
       "  }\n",
       "})(window);</script>"
      ],
      "text/plain": [
       "Tabulator(layout='fit_data', value=     name  shares  ..., width=900)"
      ]
     },
     "execution_count": 18,
     "metadata": {
      "application/vnd.holoviews_exec.v0+json": {
       "id": "1060"
      }
     },
     "output_type": "execute_result"
    }
   ],
   "source": [
    "df2 = df[df['period'] == '2'].copy()\n",
    "df2['div_rnk'] = df2.mkt_pct.rank(ascending=False)\n",
    "df2['amt_rnk'] = df2.amount.rank(ascending=False)\n",
    "df2_out = df2[colt].sort_values('div_rnk')\n",
    "df2_tab = pn.widgets.Tabulator(df2_out, layout='fit_data', width=900)\n",
    "df2_tab"
   ]
  },
  {
   "cell_type": "code",
   "execution_count": 19,
   "metadata": {},
   "outputs": [
    {
     "data": {
      "text/plain": [
       "490736.0"
      ]
     },
     "execution_count": 19,
     "metadata": {},
     "output_type": "execute_result"
    }
   ],
   "source": [
    "df2_out.div_amt.sum()"
   ]
  },
  {
   "cell_type": "code",
   "execution_count": 20,
   "metadata": {},
   "outputs": [
    {
     "data": {
      "text/plain": [
       "3    17\n",
       "2     9\n",
       "4     7\n",
       "1     1\n",
       "Name: period, dtype: int64"
      ]
     },
     "execution_count": 20,
     "metadata": {},
     "output_type": "execute_result"
    }
   ],
   "source": [
    "df.period.value_counts()"
   ]
  },
  {
   "cell_type": "code",
   "execution_count": 21,
   "metadata": {},
   "outputs": [
    {
     "data": {
      "text/html": [
       "<style type=\"text/css\">\n",
       "</style>\n",
       "<table id=\"T_7af97_\">\n",
       "  <thead>\n",
       "    <tr>\n",
       "      <th class=\"blank level0\" >&nbsp;</th>\n",
       "      <th class=\"col_heading level0 col0\" >period</th>\n",
       "    </tr>\n",
       "  </thead>\n",
       "  <tbody>\n",
       "    <tr>\n",
       "      <th id=\"T_7af97_level0_row0\" class=\"row_heading level0 row0\" >3</th>\n",
       "      <td id=\"T_7af97_row0_col0\" class=\"data row0 col0\" >50.0%</td>\n",
       "    </tr>\n",
       "    <tr>\n",
       "      <th id=\"T_7af97_level0_row1\" class=\"row_heading level0 row1\" >2</th>\n",
       "      <td id=\"T_7af97_row1_col0\" class=\"data row1 col0\" >26.5%</td>\n",
       "    </tr>\n",
       "    <tr>\n",
       "      <th id=\"T_7af97_level0_row2\" class=\"row_heading level0 row2\" >4</th>\n",
       "      <td id=\"T_7af97_row2_col0\" class=\"data row2 col0\" >20.6%</td>\n",
       "    </tr>\n",
       "    <tr>\n",
       "      <th id=\"T_7af97_level0_row3\" class=\"row_heading level0 row3\" >1</th>\n",
       "      <td id=\"T_7af97_row3_col0\" class=\"data row3 col0\" >2.9%</td>\n",
       "    </tr>\n",
       "  </tbody>\n",
       "</table>\n"
      ],
      "text/plain": [
       "<pandas.io.formats.style.Styler at 0x2195fe66b80>"
      ]
     },
     "execution_count": 21,
     "metadata": {},
     "output_type": "execute_result"
    }
   ],
   "source": [
    "df.period.value_counts(normalize=True).to_frame().style.format('{:.1%}')"
   ]
  },
  {
   "cell_type": "code",
   "execution_count": 22,
   "metadata": {},
   "outputs": [
    {
     "name": "stderr",
     "output_type": "stream",
     "text": [
      "C:\\ProgramData\\Anaconda3\\lib\\site-packages\\seaborn\\_decorators.py:36: FutureWarning: Pass the following variables as keyword args: x, y. From version 0.12, the only valid positional argument will be `data`, and passing other arguments without an explicit keyword will result in an error or misinterpretation.\n",
      "  warnings.warn(\n"
     ]
    },
    {
     "data": {
      "image/png": "[encoded data removed]",
      "text/plain": [
       "<Figure size 720x360 with 1 Axes>"
      ]
     },
     "metadata": {
      "needs_background": "light"
     },
     "output_type": "display_data"
    }
   ],
   "source": [
    "Period_Count =\\\n",
    "df.period.value_counts(sort=True).nlargest(3)\n",
    "plt.figure(figsize=(10,5))\n",
    "sns.barplot(Period_Count.index,\n",
    "Period_Count.values, alpha=0.8)\n",
    "plt.show()"
   ]
  },
  {
   "cell_type": "code",
   "execution_count": 23,
   "metadata": {},
   "outputs": [
    {
     "data": {},
     "metadata": {},
     "output_type": "display_data"
    },
    {
     "data": {
      "application/vnd.holoviews_exec.v0+json": "",
      "text/html": [
       "<div id='1140'>\n",
       "\n",
       "\n",
       "\n",
       "\n",
       "\n",
       "  <div class=\"bk-root\" id=\"e973ff41-08c6-4303-9c08-82b05b290b88\" data-root-id=\"1140\"></div>\n",
       "</div>\n",
       "<script type=\"application/javascript\">(function(root) {\n",
       "  function embed_document(root) {\n",
       "    var docs_json = {\"a50bef76-d956-4d03-b312-d63b279e9674\":{\"defs\":[{\"extends\":null,\"module\":null,\"name\":\"ReactiveHTML1\",\"overrides\":[],\"properties\":[]},{\"extends\":null,\"module\":null,\"name\":\"FlexBox1\",\"overrides\":[],\"properties\":[{\"default\":\"flex-start\",\"kind\":null,\"name\":\"align_content\"},{\"default\":\"flex-start\",\"kind\":null,\"name\":\"align_items\"},{\"default\":\"row\",\"kind\":null,\"name\":\"flex_direction\"},{\"default\":\"wrap\",\"kind\":null,\"name\":\"flex_wrap\"},{\"default\":\"flex-start\",\"kind\":null,\"name\":\"justify_content\"}]},{\"extends\":null,\"module\":null,\"name\":\"TemplateActions1\",\"overrides\":[],\"properties\":[{\"default\":0,\"kind\":null,\"name\":\"open_modal\"},{\"default\":0,\"kind\":null,\"name\":\"close_modal\"}]},{\"extends\":null,\"module\":null,\"name\":\"MaterialTemplateActions1\",\"overrides\":[],\"properties\":[{\"default\":0,\"kind\":null,\"name\":\"open_modal\"},{\"default\":0,\"kind\":null,\"name\":\"close_modal\"}]}],\"roots\":{\"references\":[{\"attributes\":{\"format\":\"0,0.0[00000]\"},\"id\":\"1115\",\"type\":\"NumberFormatter\"},{\"attributes\":{\"editor\":{\"id\":\"1116\"},\"field\":\"amount\",\"formatter\":{\"id\":\"1115\"},\"title\":\"amount\",\"width\":0},\"id\":\"1117\",\"type\":\"TableColumn\"},{\"attributes\":{\"editor\":{\"id\":\"1086\"},\"field\":\"index\",\"formatter\":{\"id\":\"1084\"},\"title\":\"index\",\"width\":0},\"id\":\"1087\",\"type\":\"TableColumn\"},{\"attributes\":{\"editor\":{\"id\":\"1111\"},\"field\":\"price\",\"formatter\":{\"id\":\"1110\"},\"title\":\"price\",\"width\":0},\"id\":\"1112\",\"type\":\"TableColumn\"},{\"attributes\":{},\"id\":\"1090\",\"type\":\"StringFormatter\"},{\"attributes\":{\"format\":\"0,0.0[00000]\"},\"id\":\"1120\",\"type\":\"NumberFormatter\"},{\"attributes\":{},\"id\":\"1111\",\"type\":\"NumberEditor\"},{\"attributes\":{},\"id\":\"1121\",\"type\":\"NumberEditor\"},{\"attributes\":{},\"id\":\"1095\",\"type\":\"NumberFormatter\"},{\"attributes\":{},\"id\":\"1143\",\"type\":\"UnionRenderers\"},{\"attributes\":{\"editor\":{\"id\":\"1121\"},\"field\":\"mkt_pct\",\"formatter\":{\"id\":\"1120\"},\"title\":\"mkt_pct\",\"width\":0},\"id\":\"1122\",\"type\":\"TableColumn\"},{\"attributes\":{\"format\":\"0,0.0[00000]\"},\"id\":\"1110\",\"type\":\"NumberFormatter\"},{\"attributes\":{\"data\":{\"amount\":{\"__ndarray__\":\"AAAAAGDRCUEAAAAAgAf+QAAAAACA2ABBAAAAAHj9AUEAAAAAYGwVQQAAAADwVBVBAAAAAGBsFUEAAAAAoF4QQQAAAADA3xRBAAAAAOA5A0EAAAAAYK3/QAAAAAAAivtAAAAAAICNAEEAAAAAYAcBQQAAAABANhFBAAAAAODCIUEAAAAA4AMcQQAAAADA3xRBAAAAADCICkEAAAAAgE8CQQAAAAAAsxBBAAAAAGB+AkEAAAAAAEkBQQAAAADAqf1AAAAAAEBvBEE=\",\"dtype\":\"float64\",\"order\":\"little\",\"shape\":[25]},\"amt_rnk\":{\"__ndarray__\":\"AAAAAAAAKEAAAAAAAAA3QAAAAAAAADRAAAAAAAAAMUAAAAAAAAAMQAAAAAAAABRAAAAAAAAADEAAAAAAAAAkQAAAAAAAABpAAAAAAAAALEAAAAAAAAA2QAAAAAAAADlAAAAAAAAANUAAAAAAAAAzQAAAAAAAACBAAAAAAAAA8D8AAAAAAAAAQAAAAAAAABpAAAAAAAAAJkAAAAAAAAAwQAAAAAAAACJAAAAAAAAALkAAAAAAAAAyQAAAAAAAADhAAAAAAAAAKkA=\",\"dtype\":\"float64\",\"order\":\"little\",\"shape\":[25]},\"cost_amt\":{\"__ndarray__\":\"AAAAANBxCEEAAAAAgIT+QAAAAAAAFwFBAAAAAKAgAkEAAAAAECYVQQAAAABQthdBAAAAAADaFkEAAAAAoF4QQQAAAADg3BVBAAAAAIBPAkEAAAAAwKn9QAAAAAAAqfpAAAAAAABoAEEAAAAAsE0BQQAAAAAwgBNBAAAAAADDHkEAAAAAwCAfQQAAAAAA+RVBAAAAACDkCUEAAAAAgE8CQQAAAABAzBFBAAAAAIBPAkEAAAAAAI4CQQAAAABAd/tAAAAAAIDGA0E=\",\"dtype\":\"float64\",\"order\":\"little\",\"shape\":[25]},\"div_amt\":{\"__ndarray__\":\"AAAAAADDzkAAAAAAADXAQAAAAAAAjb1AAAAAAADivUAAAAAAAMHRQAAAAAAAlNFAAAAAAADizUAAAAAAAPC+QK5H4Xr0k8FAAAAAAAB4rkAAAAAAAHCnQAAAAAAAwKJAAAAAAACQpUAAAAAAAGSkQAAAAAAAVrNAAAAAAADsw0AAAAAAAHC3QAAAAAAApK9AAAAAAABankAAAAAAAGiQQAAAAAAAwJJAAAAAAAAA+H8AAAAAAAD4fwAAAAAAAPh/AAAAAAAA+H8=\",\"dtype\":\"float64\",\"order\":\"little\",\"shape\":[25]},\"div_rnk\":{\"__ndarray__\":\"AAAAAAAA8D8AAAAAAAAAQAAAAAAAAAhAAAAAAAAAEEAAAAAAAAAUQAAAAAAAABhAAAAAAAAAHEAAAAAAAAAgQAAAAAAAACJAAAAAAAAAJEAAAAAAAAAmQAAAAAAAAChAAAAAAAAAKkAAAAAAAAAsQAAAAAAAAC5AAAAAAAAAMEAAAAAAAAAxQAAAAAAAADJAAAAAAAAAM0AAAAAAAAA0QAAAAAAAADVAAAAAAAAA+H8AAAAAAAD4fwAAAAAAAPh/AAAAAAAA+H8=\",\"dtype\":\"float64\",\"order\":\"little\",\"shape\":[25]},\"index\":[31,8,19,32,21,15,20,23,30,10,17,26,25,28,9,2,3,29,33,18,11,7,13,24,27],\"mkt_pct\":{\"__ndarray__\":\"zczMzMzMHUAAAAAAAAAbQOxRuB6F6xVAw/UoXI/CFEC4HoXrUbgUQJqZmZmZmRRAcT0K16NwEUCamZmZmZkHQArXo3A9CgVA16NwPQrXA0B7FK5H4XoCQArXo3A9CgFAUrgehetRAEDsUbgehev9Pylcj8L1KPw/AAAAAAAA/D/2KFyPwvX0P+F6FK5H4fI/exSuR+F67D9mZmZmZmbmPylcj8L1KNw/AAAAAAAA+H8AAAAAAAD4fwAAAAAAAPh/AAAAAAAA+H8=\",\"dtype\":\"float64\",\"order\":\"little\",\"shape\":[25]},\"name\":[\"RCL\",\"WHART\",\"LPF\",\"RJH\",\"PTT\",\"PTTGC\",\"TU\",\"NER\",\"SCC\",\"TOP\",\"SIS\",\"KBANK\",\"EPG\",\"SYNEX\",\"BCH\",\"IVL\",\"KCE\",\"BGRIM\",\"IP\",\"CKP\",\"DOHOME\",\"GLOBAL\",\"TYCN\",\"TSTH\",\"IMH\"],\"price\":{\"__ndarray__\":\"AAAAAACAR0CamZmZmZkoQJqZmZmZmStAAAAAAABgQEAAAAAAAIBDQAAAAAAAIE1AAAAAAACAM0DNzMzMzMwdQAAAAAAAwHdAAAAAAABASkAAAAAAAKBFQAAAAAAAoGFAmpmZmZmZJkAAAAAAAAA/QM3MzMzMzDJAAAAAAABASEAAAAAAACBTQAAAAAAAAENAMzMzMzOzNEAAAAAAAAAUQM3MzMzMzDZAMzMzMzMzNEBSuB6F61EMQOxRuB6F6/k/mpmZmZmZMkA=\",\"dtype\":\"float64\",\"order\":\"little\",\"shape\":[25]},\"shares\":{\"__ndarray__\":\"lBEAABAnAAAQJwAAlBEAACgjAABwFwAAUEYAAKCMAACEAwAAuAsAALgLAAAgAwAA4C4AAJQRAACYOgAA4C4AAHAXAAAoIwAABCkAADB1AADgLgAATB0AAECcAAD4JAEAKCMAAA==\",\"dtype\":\"int32\",\"order\":\"little\",\"shape\":[25]},\"unit_cost\":{\"__ndarray__\":\"AAAAAABARkAAAAAAAAApQAAAAAAAACxAAAAAAACAQEAAAAAAAEBDQAAAAAAAMFBAzczMzMzMNEDNzMzMzMwdQAAAAAAA4HhAAAAAAAAASUAAAAAAAEBEQAAAAAAAEGFAZmZmZmZmJkAAAAAAAIA/QM3MzMzMTDVAAAAAAAAARUAAAAAAAEBVQAAAAAAAAERAMzMzMzMzNEAAAAAAAAAUQM3MzMzMTDhAAAAAAAAANEBmZmZmZmYOQAAAAAAAAPg/AAAAAAAAMkA=\",\"dtype\":\"float64\",\"order\":\"little\",\"shape\":[25]}},\"selected\":{\"id\":\"1083\"},\"selection_policy\":{\"id\":\"1143\"}},\"id\":\"1082\",\"type\":\"ColumnDataSource\"},{\"attributes\":{\"format\":\"0,0.0[00000]\"},\"id\":\"1125\",\"type\":\"NumberFormatter\"},{\"attributes\":{},\"id\":\"1084\",\"type\":\"NumberFormatter\"},{\"attributes\":{},\"id\":\"1126\",\"type\":\"NumberEditor\"},{\"attributes\":{\"editor\":{\"id\":\"1106\"},\"field\":\"cost_amt\",\"formatter\":{\"id\":\"1105\"},\"title\":\"cost_amt\",\"width\":0},\"id\":\"1107\",\"type\":\"TableColumn\"},{\"attributes\":{\"editor\":{\"id\":\"1126\"},\"field\":\"div_rnk\",\"formatter\":{\"id\":\"1125\"},\"title\":\"div_rnk\",\"width\":0},\"id\":\"1127\",\"type\":\"TableColumn\"},{\"attributes\":{\"editor\":{\"id\":\"1091\"},\"field\":\"name\",\"formatter\":{\"id\":\"1090\"},\"title\":\"name\",\"width\":0},\"id\":\"1092\",\"type\":\"TableColumn\"},{\"attributes\":{\"client_comm_id\":\"d4a4eeff9fed4005a138d8149e358127\",\"comm_id\":\"a7d0719822614e14a07205218a14d9a2\",\"plot_id\":\"1140\"},\"id\":\"1148\",\"type\":\"panel.models.comm_manager.CommManager\"},{\"attributes\":{},\"id\":\"1106\",\"type\":\"NumberEditor\"},{\"attributes\":{\"format\":\"0,0.0[00000]\"},\"id\":\"1130\",\"type\":\"NumberFormatter\"},{\"attributes\":{\"editor\":{\"id\":\"1101\"},\"field\":\"unit_cost\",\"formatter\":{\"id\":\"1100\"},\"title\":\"unit_cost\",\"width\":0},\"id\":\"1102\",\"type\":\"TableColumn\"},{\"attributes\":{},\"id\":\"1131\",\"type\":\"NumberEditor\"},{\"attributes\":{},\"id\":\"1096\",\"type\":\"IntEditor\"},{\"attributes\":{\"format\":\"0,0.0[00000]\"},\"id\":\"1105\",\"type\":\"NumberFormatter\"},{\"attributes\":{},\"id\":\"1086\",\"type\":\"CellEditor\"},{\"attributes\":{},\"id\":\"1101\",\"type\":\"NumberEditor\"},{\"attributes\":{\"indices\":[]},\"id\":\"1083\",\"type\":\"Selection\"},{\"attributes\":{\"editor\":{\"id\":\"1131\"},\"field\":\"amt_rnk\",\"formatter\":{\"id\":\"1130\"},\"title\":\"amt_rnk\",\"width\":0},\"id\":\"1132\",\"type\":\"TableColumn\"},{\"attributes\":{\"format\":\"0,0.0[00000]\"},\"id\":\"1100\",\"type\":\"NumberFormatter\"},{\"attributes\":{\"format\":\"0,0.0[00000]\"},\"id\":\"1135\",\"type\":\"NumberFormatter\"},{\"attributes\":{\"columns\":[{\"id\":\"1087\"},{\"id\":\"1092\"},{\"id\":\"1097\"},{\"id\":\"1102\"},{\"id\":\"1107\"},{\"id\":\"1112\"},{\"id\":\"1117\"},{\"id\":\"1122\"},{\"id\":\"1127\"},{\"id\":\"1132\"},{\"id\":\"1137\"}],\"configuration\":{\"columns\":[{\"field\":\"index\"},{\"field\":\"name\"},{\"field\":\"shares\"},{\"field\":\"unit_cost\"},{\"field\":\"cost_amt\"},{\"field\":\"price\"},{\"field\":\"amount\"},{\"field\":\"mkt_pct\"},{\"field\":\"div_rnk\"},{\"field\":\"amt_rnk\"},{\"field\":\"div_amt\"}],\"dataTree\":false,\"selectable\":true},\"height\":780,\"indexes\":[\"index\"],\"margin\":[5,10,5,10],\"name\":\"\",\"page\":1,\"page_size\":20,\"selectable_rows\":null,\"source\":{\"id\":\"1082\"},\"width\":900},\"id\":\"1140\",\"type\":\"panel.models.tabulator.DataTabulator\"},{\"attributes\":{},\"id\":\"1136\",\"type\":\"NumberEditor\"},{\"attributes\":{},\"id\":\"1091\",\"type\":\"StringEditor\"},{\"attributes\":{\"editor\":{\"id\":\"1136\"},\"field\":\"div_amt\",\"formatter\":{\"id\":\"1135\"},\"title\":\"div_amt\",\"width\":0},\"id\":\"1137\",\"type\":\"TableColumn\"},{\"attributes\":{\"editor\":{\"id\":\"1096\"},\"field\":\"shares\",\"formatter\":{\"id\":\"1095\"},\"title\":\"shares\",\"width\":0},\"id\":\"1097\",\"type\":\"TableColumn\"},{\"attributes\":{},\"id\":\"1116\",\"type\":\"NumberEditor\"}],\"root_ids\":[\"1140\",\"1148\"]},\"title\":\"Bokeh Application\",\"version\":\"2.3.3\"}};\n",
       "    var render_items = [{\"docid\":\"a50bef76-d956-4d03-b312-d63b279e9674\",\"root_ids\":[\"1140\"],\"roots\":{\"1140\":\"e973ff41-08c6-4303-9c08-82b05b290b88\"}}];\n",
       "    root.Bokeh.embed.embed_items_notebook(docs_json, render_items);\n",
       "  }\n",
       "  if (root.Bokeh !== undefined && root.Bokeh.Panel !== undefined && ( root['Tabulator'] !== undefined)) {\n",
       "    embed_document(root);\n",
       "  } else {\n",
       "    var attempts = 0;\n",
       "    var timer = setInterval(function(root) {\n",
       "      if (root.Bokeh !== undefined && root.Bokeh.Panel !== undefined && (root['Tabulator'] !== undefined)) {\n",
       "        clearInterval(timer);\n",
       "        embed_document(root);\n",
       "      } else if (document.readyState == \"complete\") {\n",
       "        attempts++;\n",
       "        if (attempts > 200) {\n",
       "          clearInterval(timer);\n",
       "          console.log(\"Bokeh: ERROR: Unable to run BokehJS code because BokehJS library is missing\");\n",
       "        }\n",
       "      }\n",
       "    }, 25, root)\n",
       "  }\n",
       "})(window);</script>"
      ],
      "text/plain": [
       "Tabulator(layout='fit_data', value=      name  shares  ..., width=900)"
      ]
     },
     "execution_count": 23,
     "metadata": {
      "application/vnd.holoviews_exec.v0+json": {
       "id": "1140"
      }
     },
     "output_type": "execute_result"
    }
   ],
   "source": [
    "df9 = df[df['period'] != '2'].copy()\n",
    "df9['div_rnk'] = df9.mkt_pct.rank(ascending=False)\n",
    "df9['amt_rnk'] = df9.amount.rank(ascending=False)\n",
    "df9_out = df9[colt].sort_values('div_rnk')\n",
    "df9_tab = pn.widgets.Tabulator(df9_out, layout='fit_data', width=900)\n",
    "df9_tab"
   ]
  },
  {
   "cell_type": "code",
   "execution_count": 24,
   "metadata": {},
   "outputs": [
    {
     "data": {
      "text/html": [
       "<style type=\"text/css\">\n",
       "</style>\n",
       "<table id=\"T_a8a77_\">\n",
       "  <thead>\n",
       "    <tr>\n",
       "      <th class=\"blank level0\" >&nbsp;</th>\n",
       "      <th class=\"col_heading level0 col0\" >name</th>\n",
       "      <th class=\"col_heading level0 col1\" >shares</th>\n",
       "      <th class=\"col_heading level0 col2\" >unit_cost</th>\n",
       "      <th class=\"col_heading level0 col3\" >cost_amt</th>\n",
       "      <th class=\"col_heading level0 col4\" >dividend</th>\n",
       "      <th class=\"col_heading level0 col5\" >div_amt</th>\n",
       "      <th class=\"col_heading level0 col6\" >price</th>\n",
       "      <th class=\"col_heading level0 col7\" >amount</th>\n",
       "      <th class=\"col_heading level0 col8\" >profit</th>\n",
       "      <th class=\"col_heading level0 col9\" >period</th>\n",
       "      <th class=\"col_heading level0 col10\" >mkt_pct</th>\n",
       "      <th class=\"col_heading level0 col11\" >cost_pct</th>\n",
       "      <th class=\"col_heading level0 col12\" >pft_pct</th>\n",
       "    </tr>\n",
       "  </thead>\n",
       "  <tbody>\n",
       "    <tr>\n",
       "      <th id=\"T_a8a77_level0_row0\" class=\"row_heading level0 row0\" >8</th>\n",
       "      <td id=\"T_a8a77_row0_col0\" class=\"data row0 col0\" >WHART</td>\n",
       "      <td id=\"T_a8a77_row0_col1\" class=\"data row0 col1\" >10,000</td>\n",
       "      <td id=\"T_a8a77_row0_col2\" class=\"data row0 col2\" >12.50</td>\n",
       "      <td id=\"T_a8a77_row0_col3\" class=\"data row0 col3\" >125,000.00</td>\n",
       "      <td id=\"T_a8a77_row0_col4\" class=\"data row0 col4\" >0.8298</td>\n",
       "      <td id=\"T_a8a77_row0_col5\" class=\"data row0 col5\" >8,298.00</td>\n",
       "      <td id=\"T_a8a77_row0_col6\" class=\"data row0 col6\" >12.30</td>\n",
       "      <td id=\"T_a8a77_row0_col7\" class=\"data row0 col7\" >123,000.00</td>\n",
       "      <td id=\"T_a8a77_row0_col8\" class=\"data row0 col8\" >-2,000.00</td>\n",
       "      <td id=\"T_a8a77_row0_col9\" class=\"data row0 col9\" >4</td>\n",
       "      <td id=\"T_a8a77_row0_col10\" class=\"data row0 col10\" >6.75%</td>\n",
       "      <td id=\"T_a8a77_row0_col11\" class=\"data row0 col11\" >6.64%</td>\n",
       "      <td id=\"T_a8a77_row0_col12\" class=\"data row0 col12\" >-1.60%</td>\n",
       "    </tr>\n",
       "    <tr>\n",
       "      <th id=\"T_a8a77_level0_row1\" class=\"row_heading level0 row1\" >19</th>\n",
       "      <td id=\"T_a8a77_row1_col0\" class=\"data row1 col0\" >LPF</td>\n",
       "      <td id=\"T_a8a77_row1_col1\" class=\"data row1 col1\" >10,000</td>\n",
       "      <td id=\"T_a8a77_row1_col2\" class=\"data row1 col2\" >14.00</td>\n",
       "      <td id=\"T_a8a77_row1_col3\" class=\"data row1 col3\" >140,000.00</td>\n",
       "      <td id=\"T_a8a77_row1_col4\" class=\"data row1 col4\" >0.7565</td>\n",
       "      <td id=\"T_a8a77_row1_col5\" class=\"data row1 col5\" >7,565.00</td>\n",
       "      <td id=\"T_a8a77_row1_col6\" class=\"data row1 col6\" >13.80</td>\n",
       "      <td id=\"T_a8a77_row1_col7\" class=\"data row1 col7\" >138,000.00</td>\n",
       "      <td id=\"T_a8a77_row1_col8\" class=\"data row1 col8\" >-2,000.00</td>\n",
       "      <td id=\"T_a8a77_row1_col9\" class=\"data row1 col9\" >4</td>\n",
       "      <td id=\"T_a8a77_row1_col10\" class=\"data row1 col10\" >5.48%</td>\n",
       "      <td id=\"T_a8a77_row1_col11\" class=\"data row1 col11\" >5.40%</td>\n",
       "      <td id=\"T_a8a77_row1_col12\" class=\"data row1 col12\" >-1.43%</td>\n",
       "    </tr>\n",
       "    <tr>\n",
       "      <th id=\"T_a8a77_level0_row2\" class=\"row_heading level0 row2\" >20</th>\n",
       "      <td id=\"T_a8a77_row2_col0\" class=\"data row2 col0\" >TU</td>\n",
       "      <td id=\"T_a8a77_row2_col1\" class=\"data row2 col1\" >18,000</td>\n",
       "      <td id=\"T_a8a77_row2_col2\" class=\"data row2 col2\" >20.80</td>\n",
       "      <td id=\"T_a8a77_row2_col3\" class=\"data row2 col3\" >374,400.00</td>\n",
       "      <td id=\"T_a8a77_row2_col4\" class=\"data row2 col4\" >0.8500</td>\n",
       "      <td id=\"T_a8a77_row2_col5\" class=\"data row2 col5\" >15,300.00</td>\n",
       "      <td id=\"T_a8a77_row2_col6\" class=\"data row2 col6\" >19.50</td>\n",
       "      <td id=\"T_a8a77_row2_col7\" class=\"data row2 col7\" >351,000.00</td>\n",
       "      <td id=\"T_a8a77_row2_col8\" class=\"data row2 col8\" >-23,400.00</td>\n",
       "      <td id=\"T_a8a77_row2_col9\" class=\"data row2 col9\" >4</td>\n",
       "      <td id=\"T_a8a77_row2_col10\" class=\"data row2 col10\" >4.36%</td>\n",
       "      <td id=\"T_a8a77_row2_col11\" class=\"data row2 col11\" >4.09%</td>\n",
       "      <td id=\"T_a8a77_row2_col12\" class=\"data row2 col12\" >-6.25%</td>\n",
       "    </tr>\n",
       "    <tr>\n",
       "      <th id=\"T_a8a77_level0_row3\" class=\"row_heading level0 row3\" >23</th>\n",
       "      <td id=\"T_a8a77_row3_col0\" class=\"data row3 col0\" >NER</td>\n",
       "      <td id=\"T_a8a77_row3_col1\" class=\"data row3 col1\" >36,000</td>\n",
       "      <td id=\"T_a8a77_row3_col2\" class=\"data row3 col2\" >7.45</td>\n",
       "      <td id=\"T_a8a77_row3_col3\" class=\"data row3 col3\" >268,200.00</td>\n",
       "      <td id=\"T_a8a77_row3_col4\" class=\"data row3 col4\" >0.2200</td>\n",
       "      <td id=\"T_a8a77_row3_col5\" class=\"data row3 col5\" >7,920.00</td>\n",
       "      <td id=\"T_a8a77_row3_col6\" class=\"data row3 col6\" >7.45</td>\n",
       "      <td id=\"T_a8a77_row3_col7\" class=\"data row3 col7\" >268,200.00</td>\n",
       "      <td id=\"T_a8a77_row3_col8\" class=\"data row3 col8\" >0.00</td>\n",
       "      <td id=\"T_a8a77_row3_col9\" class=\"data row3 col9\" >4</td>\n",
       "      <td id=\"T_a8a77_row3_col10\" class=\"data row3 col10\" >2.95%</td>\n",
       "      <td id=\"T_a8a77_row3_col11\" class=\"data row3 col11\" >2.95%</td>\n",
       "      <td id=\"T_a8a77_row3_col12\" class=\"data row3 col12\" >0.00%</td>\n",
       "    </tr>\n",
       "    <tr>\n",
       "      <th id=\"T_a8a77_level0_row4\" class=\"row_heading level0 row4\" >26</th>\n",
       "      <td id=\"T_a8a77_row4_col0\" class=\"data row4 col0\" >KBANK</td>\n",
       "      <td id=\"T_a8a77_row4_col1\" class=\"data row4 col1\" >800</td>\n",
       "      <td id=\"T_a8a77_row4_col2\" class=\"data row4 col2\" >136.50</td>\n",
       "      <td id=\"T_a8a77_row4_col3\" class=\"data row4 col3\" >109,200.00</td>\n",
       "      <td id=\"T_a8a77_row4_col4\" class=\"data row4 col4\" >3.0000</td>\n",
       "      <td id=\"T_a8a77_row4_col5\" class=\"data row4 col5\" >2,400.00</td>\n",
       "      <td id=\"T_a8a77_row4_col6\" class=\"data row4 col6\" >141.00</td>\n",
       "      <td id=\"T_a8a77_row4_col7\" class=\"data row4 col7\" >112,800.00</td>\n",
       "      <td id=\"T_a8a77_row4_col8\" class=\"data row4 col8\" >3,600.00</td>\n",
       "      <td id=\"T_a8a77_row4_col9\" class=\"data row4 col9\" >4</td>\n",
       "      <td id=\"T_a8a77_row4_col10\" class=\"data row4 col10\" >2.13%</td>\n",
       "      <td id=\"T_a8a77_row4_col11\" class=\"data row4 col11\" >2.20%</td>\n",
       "      <td id=\"T_a8a77_row4_col12\" class=\"data row4 col12\" >3.30%</td>\n",
       "    </tr>\n",
       "  </tbody>\n",
       "</table>\n"
      ],
      "text/plain": [
       "<pandas.io.formats.style.Styler at 0x2195fe81ac0>"
      ]
     },
     "execution_count": 24,
     "metadata": {},
     "output_type": "execute_result"
    }
   ],
   "source": [
    "short_term = (df.period == '4')\n",
    "df.loc[short_term].head().style.format(format_dict)"
   ]
  },
  {
   "cell_type": "code",
   "execution_count": 25,
   "metadata": {},
   "outputs": [
    {
     "data": {
      "text/plain": [
       "\"'WHART', 'LPF', 'TU', 'NER', 'KBANK', 'BGRIM', 'RJH'\""
      ]
     },
     "execution_count": 25,
     "metadata": {},
     "output_type": "execute_result"
    }
   ],
   "source": [
    "data = df.loc[short_term]\n",
    "names = data['name']\n",
    "in_p = \", \".join(map(lambda name: \"'%s'\" % name, names))\n",
    "in_p"
   ]
  },
  {
   "cell_type": "code",
   "execution_count": 26,
   "metadata": {
    "scrolled": true
   },
   "outputs": [
    {
     "name": "stdout",
     "output_type": "stream",
     "text": [
      "\n",
      "SELECT name, min_price AS min, price, max_price AS max\n",
      "FROM stocks\n",
      "WHERE name IN ('WHART', 'LPF', 'TU', 'NER', 'KBANK', 'BGRIM', 'RJH')\n"
     ]
    },
    {
     "data": {
      "text/html": [
       "<div>\n",
       "<style scoped>\n",
       "    .dataframe tbody tr th:only-of-type {\n",
       "        vertical-align: middle;\n",
       "    }\n",
       "\n",
       "    .dataframe tbody tr th {\n",
       "        vertical-align: top;\n",
       "    }\n",
       "\n",
       "    .dataframe thead th {\n",
       "        text-align: right;\n",
       "    }\n",
       "</style>\n",
       "<table border=\"1\" class=\"dataframe\">\n",
       "  <thead>\n",
       "    <tr style=\"text-align: right;\">\n",
       "      <th></th>\n",
       "      <th>min</th>\n",
       "      <th>price</th>\n",
       "      <th>max</th>\n",
       "    </tr>\n",
       "    <tr>\n",
       "      <th>name</th>\n",
       "      <th></th>\n",
       "      <th></th>\n",
       "      <th></th>\n",
       "    </tr>\n",
       "  </thead>\n",
       "  <tbody>\n",
       "    <tr>\n",
       "      <th>BGRIM</th>\n",
       "      <td>38.25</td>\n",
       "      <td>38.50</td>\n",
       "      <td>55.00</td>\n",
       "    </tr>\n",
       "    <tr>\n",
       "      <th>KBANK</th>\n",
       "      <td>101.00</td>\n",
       "      <td>144.00</td>\n",
       "      <td>153.00</td>\n",
       "    </tr>\n",
       "    <tr>\n",
       "      <th>LPF</th>\n",
       "      <td>10.30</td>\n",
       "      <td>13.90</td>\n",
       "      <td>17.10</td>\n",
       "    </tr>\n",
       "    <tr>\n",
       "      <th>NER</th>\n",
       "      <td>4.54</td>\n",
       "      <td>7.45</td>\n",
       "      <td>8.65</td>\n",
       "    </tr>\n",
       "    <tr>\n",
       "      <th>RJH</th>\n",
       "      <td>23.90</td>\n",
       "      <td>33.00</td>\n",
       "      <td>39.00</td>\n",
       "    </tr>\n",
       "    <tr>\n",
       "      <th>TU</th>\n",
       "      <td>13.40</td>\n",
       "      <td>19.70</td>\n",
       "      <td>23.00</td>\n",
       "    </tr>\n",
       "    <tr>\n",
       "      <th>WHART</th>\n",
       "      <td>10.68</td>\n",
       "      <td>12.30</td>\n",
       "      <td>14.08</td>\n",
       "    </tr>\n",
       "  </tbody>\n",
       "</table>\n",
       "</div>"
      ],
      "text/plain": [
       "          min   price     max\n",
       "name                         \n",
       "BGRIM   38.25   38.50   55.00\n",
       "KBANK  101.00  144.00  153.00\n",
       "LPF     10.30   13.90   17.10\n",
       "NER      4.54    7.45    8.65\n",
       "RJH     23.90   33.00   39.00\n",
       "TU      13.40   19.70   23.00\n",
       "WHART   10.68   12.30   14.08"
      ]
     },
     "execution_count": 26,
     "metadata": {},
     "output_type": "execute_result"
    }
   ],
   "source": [
    "sql = '''\n",
    "SELECT name, min_price AS min, price, max_price AS max\n",
    "FROM stocks\n",
    "WHERE name IN (%s)'''\n",
    "sql = sql % in_p\n",
    "print(sql)\n",
    "\n",
    "stocks = pd.read_sql(sql, conmy)\n",
    "stocks.set_index('name',inplace=True)\n",
    "stocks"
   ]
  },
  {
   "cell_type": "code",
   "execution_count": 27,
   "metadata": {},
   "outputs": [],
   "source": [
    "#stocks.drop('SCC',inplace=True)\n",
    "#stocks"
   ]
  },
  {
   "cell_type": "code",
   "execution_count": 28,
   "metadata": {},
   "outputs": [
    {
     "data": {
      "text/plain": [
       "<AxesSubplot:xlabel='name'>"
      ]
     },
     "execution_count": 28,
     "metadata": {},
     "output_type": "execute_result"
    },
    {
     "data": {
      "image/png": "[encoded data removed]",
      "text/plain": [
       "<Figure size 432x288 with 1 Axes>"
      ]
     },
     "metadata": {
      "needs_background": "light"
     },
     "output_type": "display_data"
    }
   ],
   "source": [
    "stocks.plot.bar()"
   ]
  },
  {
   "cell_type": "code",
   "execution_count": 29,
   "metadata": {},
   "outputs": [],
   "source": [
    "#stocks.reset_index('name',inplace=True)\n",
    "#sns.barplot(x='name', y='price', data=stocks)"
   ]
  }
 ],
 "metadata": {
  "anaconda-cloud": {},
  "kernelspec": {
   "display_name": "Python 3 (ipykernel)",
   "language": "python",
   "name": "python3"
  },
  "language_info": {
   "codemirror_mode": {
    "name": "ipython",
    "version": 3
   },
   "file_extension": ".py",
   "mimetype": "text/x-python",
   "name": "python",
   "nbconvert_exporter": "python",
   "pygments_lexer": "ipython3",
   "version": "3.8.11"
  }
 },
 "nbformat": 4,
 "nbformat_minor": 1
}
