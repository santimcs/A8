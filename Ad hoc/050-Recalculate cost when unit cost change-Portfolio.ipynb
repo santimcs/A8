{
 "cells": [
  {
   "cell_type": "code",
   "execution_count": 1,
   "metadata": {},
   "outputs": [],
   "source": [
    "name = 'GLOBAL'"
   ]
  },
  {
   "cell_type": "code",
   "execution_count": 2,
   "metadata": {},
   "outputs": [],
   "source": [
    "import pandas as pd\n",
    "from datetime import date, timedelta\n",
    "from sqlalchemy import create_engine\n",
    "\n",
    "engine = create_engine('mysql+pymysql://root:@localhost:3306/portfolio_development')\n",
    "conpf = engine.connect()\n",
    "\n",
    "format_dict = {\n",
    "              'price':'{:.2f}','unit_cost':'{:.2f}','qty':'{:,}',\n",
    "              'amt':'{:,.2f}','gross':'{:,.2f}','net':'{:,.2f}','fee':'{:,.2f}','vat':'{:,.2f}'\n",
    "              }"
   ]
  },
  {
   "cell_type": "markdown",
   "metadata": {},
   "source": [
    "### Average cost calculation"
   ]
  },
  {
   "cell_type": "code",
   "execution_count": 3,
   "metadata": {},
   "outputs": [
    {
     "data": {
      "text/html": [
       "<style type=\"text/css\">\n",
       "</style>\n",
       "<table id=\"T_88e45_\">\n",
       "  <thead>\n",
       "    <tr>\n",
       "      <th class=\"blank level0\" >&nbsp;</th>\n",
       "      <th class=\"col_heading level0 col0\" >id</th>\n",
       "      <th class=\"col_heading level0 col1\" >name</th>\n",
       "      <th class=\"col_heading level0 col2\" >date</th>\n",
       "      <th class=\"col_heading level0 col3\" >qty</th>\n",
       "      <th class=\"col_heading level0 col4\" >price</th>\n",
       "      <th class=\"col_heading level0 col5\" >gross</th>\n",
       "      <th class=\"col_heading level0 col6\" >fee</th>\n",
       "      <th class=\"col_heading level0 col7\" >vat</th>\n",
       "      <th class=\"col_heading level0 col8\" >net</th>\n",
       "      <th class=\"col_heading level0 col9\" >status</th>\n",
       "      <th class=\"col_heading level0 col10\" >kind</th>\n",
       "    </tr>\n",
       "  </thead>\n",
       "  <tbody>\n",
       "    <tr>\n",
       "      <th id=\"T_88e45_level0_row0\" class=\"row_heading level0 row0\" >0</th>\n",
       "      <td id=\"T_88e45_row0_col0\" class=\"data row0 col0\" >1107</td>\n",
       "      <td id=\"T_88e45_row0_col1\" class=\"data row0 col1\" >GLOBAL</td>\n",
       "      <td id=\"T_88e45_row0_col2\" class=\"data row0 col2\" >2022-01-26</td>\n",
       "      <td id=\"T_88e45_row0_col3\" class=\"data row0 col3\" >7,500</td>\n",
       "      <td id=\"T_88e45_row0_col4\" class=\"data row0 col4\" >18.80</td>\n",
       "      <td id=\"T_88e45_row0_col5\" class=\"data row0 col5\" >141,000.00</td>\n",
       "      <td id=\"T_88e45_row0_col6\" class=\"data row0 col6\" >291.87</td>\n",
       "      <td id=\"T_88e45_row0_col7\" class=\"data row0 col7\" >20.43</td>\n",
       "      <td id=\"T_88e45_row0_col8\" class=\"data row0 col8\" >141,312.30</td>\n",
       "      <td id=\"T_88e45_row0_col9\" class=\"data row0 col9\" >Active</td>\n",
       "      <td id=\"T_88e45_row0_col10\" class=\"data row0 col10\" >DTD</td>\n",
       "    </tr>\n",
       "    <tr>\n",
       "      <th id=\"T_88e45_level0_row1\" class=\"row_heading level0 row1\" >1</th>\n",
       "      <td id=\"T_88e45_row1_col0\" class=\"data row1 col0\" >1051</td>\n",
       "      <td id=\"T_88e45_row1_col1\" class=\"data row1 col1\" >GLOBAL</td>\n",
       "      <td id=\"T_88e45_row1_col2\" class=\"data row1 col2\" >2021-11-25</td>\n",
       "      <td id=\"T_88e45_row1_col3\" class=\"data row1 col3\" >7,500</td>\n",
       "      <td id=\"T_88e45_row1_col4\" class=\"data row1 col4\" >20.00</td>\n",
       "      <td id=\"T_88e45_row1_col5\" class=\"data row1 col5\" >150,000.00</td>\n",
       "      <td id=\"T_88e45_row1_col6\" class=\"data row1 col6\" >310.50</td>\n",
       "      <td id=\"T_88e45_row1_col7\" class=\"data row1 col7\" >21.74</td>\n",
       "      <td id=\"T_88e45_row1_col8\" class=\"data row1 col8\" >150,332.24</td>\n",
       "      <td id=\"T_88e45_row1_col9\" class=\"data row1 col9\" >Active</td>\n",
       "      <td id=\"T_88e45_row1_col10\" class=\"data row1 col10\" >DTD</td>\n",
       "    </tr>\n",
       "  </tbody>\n",
       "</table>\n"
      ],
      "text/plain": [
       "<pandas.io.formats.style.Styler at 0x21d56099340>"
      ]
     },
     "execution_count": 3,
     "metadata": {},
     "output_type": "execute_result"
    }
   ],
   "source": [
    "sql = '''\n",
    "SELECT B.id, S.name, date, qty, price, qty*price AS gross, fee, vat, net, status, kind\n",
    "FROM buys B\n",
    "JOIN stocks S ON B.stock_id = S.id \n",
    "WHERE name = \"%s\" AND status = \"Active\"\n",
    "ORDER BY id DESC'''\n",
    "sql = sql % name\n",
    "buys = pd.read_sql(sql, conpf)\n",
    "buys.style.format(format_dict)"
   ]
  },
  {
   "cell_type": "code",
   "execution_count": 4,
   "metadata": {},
   "outputs": [
    {
     "data": {
      "text/html": [
       "<style type=\"text/css\">\n",
       "</style>\n",
       "<table id=\"T_2fa6f_\">\n",
       "  <thead>\n",
       "    <tr>\n",
       "      <th class=\"blank level0\" >&nbsp;</th>\n",
       "      <th class=\"col_heading level0 col0\" >gross</th>\n",
       "      <th class=\"col_heading level0 col1\" >qty</th>\n",
       "      <th class=\"col_heading level0 col2\" >unit_cost</th>\n",
       "    </tr>\n",
       "    <tr>\n",
       "      <th class=\"index_name level0\" >name</th>\n",
       "      <th class=\"blank col0\" >&nbsp;</th>\n",
       "      <th class=\"blank col1\" >&nbsp;</th>\n",
       "      <th class=\"blank col2\" >&nbsp;</th>\n",
       "    </tr>\n",
       "  </thead>\n",
       "  <tbody>\n",
       "    <tr>\n",
       "      <th id=\"T_2fa6f_level0_row0\" class=\"row_heading level0 row0\" >GLOBAL</th>\n",
       "      <td id=\"T_2fa6f_row0_col0\" class=\"data row0 col0\" >291,000.00</td>\n",
       "      <td id=\"T_2fa6f_row0_col1\" class=\"data row0 col1\" >15,000</td>\n",
       "      <td id=\"T_2fa6f_row0_col2\" class=\"data row0 col2\" >19.40</td>\n",
       "    </tr>\n",
       "  </tbody>\n",
       "</table>\n"
      ],
      "text/plain": [
       "<pandas.io.formats.style.Styler at 0x21d58d1c430>"
      ]
     },
     "execution_count": 4,
     "metadata": {},
     "output_type": "execute_result"
    }
   ],
   "source": [
    "buys_grp = buys.groupby('name')[['gross','qty']].sum()\n",
    "buys_grp['unit_cost'] = buys_grp.gross / buys_grp.qty\n",
    "buys_grp.style.format(format_dict)"
   ]
  },
  {
   "cell_type": "markdown",
   "metadata": {},
   "source": [
    "### Recalculate net cost by id"
   ]
  },
  {
   "cell_type": "code",
   "execution_count": 5,
   "metadata": {},
   "outputs": [
    {
     "data": {
      "text/plain": [
       "0    1107\n",
       "1    1051\n",
       "Name: id, dtype: int64"
      ]
     },
     "execution_count": 5,
     "metadata": {},
     "output_type": "execute_result"
    }
   ],
   "source": [
    "ids = buys['id']\n",
    "ids"
   ]
  },
  {
   "cell_type": "code",
   "execution_count": 6,
   "metadata": {},
   "outputs": [
    {
     "data": {
      "text/plain": [
       "'19.4'"
      ]
     },
     "execution_count": 6,
     "metadata": {},
     "output_type": "execute_result"
    }
   ],
   "source": [
    "new_price = buys_grp.unit_cost.to_string(index=False)[5:]\n",
    "new_price"
   ]
  },
  {
   "cell_type": "code",
   "execution_count": 7,
   "metadata": {},
   "outputs": [],
   "source": [
    "def update_buys_by_id(new_price,id):\n",
    "    sql = \"UPDATE buys SET price = %s, fee = qty*price*.00207, vat = fee*.07, net = (qty*price)+fee+vat WHERE id = %s\"\n",
    "    sql = sql % (new_price,id)\n",
    "    rp = conpf.execute(sql)\n",
    "    return \"Records updated = \" + str(id)"
   ]
  },
  {
   "cell_type": "code",
   "execution_count": 8,
   "metadata": {},
   "outputs": [
    {
     "data": {
      "text/html": [
       "<style type=\"text/css\">\n",
       "</style>\n",
       "<table id=\"T_d1492_\">\n",
       "  <thead>\n",
       "    <tr>\n",
       "      <th class=\"blank level0\" >&nbsp;</th>\n",
       "      <th class=\"col_heading level0 col0\" >id</th>\n",
       "      <th class=\"col_heading level0 col1\" >name</th>\n",
       "      <th class=\"col_heading level0 col2\" >date</th>\n",
       "      <th class=\"col_heading level0 col3\" >qty</th>\n",
       "      <th class=\"col_heading level0 col4\" >price</th>\n",
       "      <th class=\"col_heading level0 col5\" >gross</th>\n",
       "      <th class=\"col_heading level0 col6\" >fee</th>\n",
       "      <th class=\"col_heading level0 col7\" >vat</th>\n",
       "      <th class=\"col_heading level0 col8\" >net</th>\n",
       "      <th class=\"col_heading level0 col9\" >status</th>\n",
       "      <th class=\"col_heading level0 col10\" >kind</th>\n",
       "    </tr>\n",
       "  </thead>\n",
       "  <tbody>\n",
       "    <tr>\n",
       "      <th id=\"T_d1492_level0_row0\" class=\"row_heading level0 row0\" >0</th>\n",
       "      <td id=\"T_d1492_row0_col0\" class=\"data row0 col0\" >1107</td>\n",
       "      <td id=\"T_d1492_row0_col1\" class=\"data row0 col1\" >GLOBAL</td>\n",
       "      <td id=\"T_d1492_row0_col2\" class=\"data row0 col2\" >2022-01-26</td>\n",
       "      <td id=\"T_d1492_row0_col3\" class=\"data row0 col3\" >7,500</td>\n",
       "      <td id=\"T_d1492_row0_col4\" class=\"data row0 col4\" >18.80</td>\n",
       "      <td id=\"T_d1492_row0_col5\" class=\"data row0 col5\" >141,000.00</td>\n",
       "      <td id=\"T_d1492_row0_col6\" class=\"data row0 col6\" >291.87</td>\n",
       "      <td id=\"T_d1492_row0_col7\" class=\"data row0 col7\" >20.43</td>\n",
       "      <td id=\"T_d1492_row0_col8\" class=\"data row0 col8\" >141,312.30</td>\n",
       "      <td id=\"T_d1492_row0_col9\" class=\"data row0 col9\" >Active</td>\n",
       "      <td id=\"T_d1492_row0_col10\" class=\"data row0 col10\" >DTD</td>\n",
       "    </tr>\n",
       "    <tr>\n",
       "      <th id=\"T_d1492_level0_row1\" class=\"row_heading level0 row1\" >1</th>\n",
       "      <td id=\"T_d1492_row1_col0\" class=\"data row1 col0\" >1051</td>\n",
       "      <td id=\"T_d1492_row1_col1\" class=\"data row1 col1\" >GLOBAL</td>\n",
       "      <td id=\"T_d1492_row1_col2\" class=\"data row1 col2\" >2021-11-25</td>\n",
       "      <td id=\"T_d1492_row1_col3\" class=\"data row1 col3\" >7,500</td>\n",
       "      <td id=\"T_d1492_row1_col4\" class=\"data row1 col4\" >20.00</td>\n",
       "      <td id=\"T_d1492_row1_col5\" class=\"data row1 col5\" >150,000.00</td>\n",
       "      <td id=\"T_d1492_row1_col6\" class=\"data row1 col6\" >310.50</td>\n",
       "      <td id=\"T_d1492_row1_col7\" class=\"data row1 col7\" >21.74</td>\n",
       "      <td id=\"T_d1492_row1_col8\" class=\"data row1 col8\" >150,332.24</td>\n",
       "      <td id=\"T_d1492_row1_col9\" class=\"data row1 col9\" >Active</td>\n",
       "      <td id=\"T_d1492_row1_col10\" class=\"data row1 col10\" >DTD</td>\n",
       "    </tr>\n",
       "  </tbody>\n",
       "</table>\n"
      ],
      "text/plain": [
       "<pandas.io.formats.style.Styler at 0x21d58d49070>"
      ]
     },
     "execution_count": 8,
     "metadata": {},
     "output_type": "execute_result"
    }
   ],
   "source": [
    "sql = '''\n",
    "SELECT B.id, S.name, date, qty, price, qty*price AS gross, fee, vat, net, status, kind\n",
    "FROM buys B\n",
    "JOIN stocks S ON B.stock_id = S.id \n",
    "WHERE name = \"%s\" AND status = \"Active\"\n",
    "ORDER BY id DESC'''\n",
    "sql = sql % name\n",
    "buys = pd.read_sql(sql, conpf)\n",
    "buys.style.format(format_dict)"
   ]
  },
  {
   "cell_type": "code",
   "execution_count": 9,
   "metadata": {},
   "outputs": [],
   "source": [
    "i = 0\n",
    "for id in ids:\n",
    "    update_buys_by_id(new_price,id)\n",
    "    i += 1"
   ]
  },
  {
   "cell_type": "code",
   "execution_count": 10,
   "metadata": {},
   "outputs": [
    {
     "data": {
      "text/html": [
       "<style type=\"text/css\">\n",
       "</style>\n",
       "<table id=\"T_7ba57_\">\n",
       "  <thead>\n",
       "    <tr>\n",
       "      <th class=\"blank level0\" >&nbsp;</th>\n",
       "      <th class=\"col_heading level0 col0\" >id</th>\n",
       "      <th class=\"col_heading level0 col1\" >name</th>\n",
       "      <th class=\"col_heading level0 col2\" >date</th>\n",
       "      <th class=\"col_heading level0 col3\" >qty</th>\n",
       "      <th class=\"col_heading level0 col4\" >price</th>\n",
       "      <th class=\"col_heading level0 col5\" >gross</th>\n",
       "      <th class=\"col_heading level0 col6\" >fee</th>\n",
       "      <th class=\"col_heading level0 col7\" >vat</th>\n",
       "      <th class=\"col_heading level0 col8\" >net</th>\n",
       "      <th class=\"col_heading level0 col9\" >status</th>\n",
       "      <th class=\"col_heading level0 col10\" >kind</th>\n",
       "    </tr>\n",
       "  </thead>\n",
       "  <tbody>\n",
       "    <tr>\n",
       "      <th id=\"T_7ba57_level0_row0\" class=\"row_heading level0 row0\" >0</th>\n",
       "      <td id=\"T_7ba57_row0_col0\" class=\"data row0 col0\" >1107</td>\n",
       "      <td id=\"T_7ba57_row0_col1\" class=\"data row0 col1\" >GLOBAL</td>\n",
       "      <td id=\"T_7ba57_row0_col2\" class=\"data row0 col2\" >2022-01-26</td>\n",
       "      <td id=\"T_7ba57_row0_col3\" class=\"data row0 col3\" >7,500</td>\n",
       "      <td id=\"T_7ba57_row0_col4\" class=\"data row0 col4\" >19.40</td>\n",
       "      <td id=\"T_7ba57_row0_col5\" class=\"data row0 col5\" >145,500.00</td>\n",
       "      <td id=\"T_7ba57_row0_col6\" class=\"data row0 col6\" >301.19</td>\n",
       "      <td id=\"T_7ba57_row0_col7\" class=\"data row0 col7\" >21.08</td>\n",
       "      <td id=\"T_7ba57_row0_col8\" class=\"data row0 col8\" >145,822.27</td>\n",
       "      <td id=\"T_7ba57_row0_col9\" class=\"data row0 col9\" >Active</td>\n",
       "      <td id=\"T_7ba57_row0_col10\" class=\"data row0 col10\" >DTD</td>\n",
       "    </tr>\n",
       "    <tr>\n",
       "      <th id=\"T_7ba57_level0_row1\" class=\"row_heading level0 row1\" >1</th>\n",
       "      <td id=\"T_7ba57_row1_col0\" class=\"data row1 col0\" >1051</td>\n",
       "      <td id=\"T_7ba57_row1_col1\" class=\"data row1 col1\" >GLOBAL</td>\n",
       "      <td id=\"T_7ba57_row1_col2\" class=\"data row1 col2\" >2021-11-25</td>\n",
       "      <td id=\"T_7ba57_row1_col3\" class=\"data row1 col3\" >7,500</td>\n",
       "      <td id=\"T_7ba57_row1_col4\" class=\"data row1 col4\" >19.40</td>\n",
       "      <td id=\"T_7ba57_row1_col5\" class=\"data row1 col5\" >145,500.00</td>\n",
       "      <td id=\"T_7ba57_row1_col6\" class=\"data row1 col6\" >301.19</td>\n",
       "      <td id=\"T_7ba57_row1_col7\" class=\"data row1 col7\" >21.08</td>\n",
       "      <td id=\"T_7ba57_row1_col8\" class=\"data row1 col8\" >145,822.27</td>\n",
       "      <td id=\"T_7ba57_row1_col9\" class=\"data row1 col9\" >Active</td>\n",
       "      <td id=\"T_7ba57_row1_col10\" class=\"data row1 col10\" >DTD</td>\n",
       "    </tr>\n",
       "  </tbody>\n",
       "</table>\n"
      ],
      "text/plain": [
       "<pandas.io.formats.style.Styler at 0x21d59dcceb0>"
      ]
     },
     "execution_count": 10,
     "metadata": {},
     "output_type": "execute_result"
    }
   ],
   "source": [
    "sql = '''\n",
    "SELECT B.id, S.name, date, qty, price, qty*price AS gross, fee, vat, net, status, kind\n",
    "FROM buys B\n",
    "JOIN stocks S ON B.stock_id = S.id \n",
    "WHERE name = \"%s\" AND status = \"Active\"\n",
    "ORDER BY id DESC'''\n",
    "sql = sql % name\n",
    "buys = pd.read_sql(sql, conpf)\n",
    "buys.style.format(format_dict)"
   ]
  },
  {
   "cell_type": "code",
   "execution_count": null,
   "metadata": {},
   "outputs": [],
   "source": []
  }
 ],
 "metadata": {
  "anaconda-cloud": {},
  "kernelspec": {
   "display_name": "Python 3 (ipykernel)",
   "language": "python",
   "name": "python3"
  },
  "language_info": {
   "codemirror_mode": {
    "name": "ipython",
    "version": 3
   },
   "file_extension": ".py",
   "mimetype": "text/x-python",
   "name": "python",
   "nbconvert_exporter": "python",
   "pygments_lexer": "ipython3",
   "version": "3.8.11"
  }
 },
 "nbformat": 4,
 "nbformat_minor": 1
}
