{
 "cells": [
  {
   "cell_type": "code",
   "execution_count": 9,
   "metadata": {},
   "outputs": [
    {
     "data": {
      "text/plain": [
       "datetime.date(2022, 7, 4)"
      ]
     },
     "execution_count": 9,
     "metadata": {},
     "output_type": "execute_result"
    }
   ],
   "source": [
    "import pandas as pd\n",
    "from sqlalchemy import create_engine\n",
    "from datetime import date, timedelta\n",
    "import calendar\n",
    "\n",
    "engine = create_engine(\"mysql+pymysql://root:@localhost:3306/stock\")\n",
    "const = engine.connect()\n",
    "\n",
    "data_path = \"../data/\"\n",
    "csv_path = \"\\\\Users\\\\User\\\\iCloudDrive\\\\\"\n",
    "box_path = \"\\\\Users\\\\User\\\\Dropbox\\\\\"\n",
    "one_path = \"\\\\Users\\\\User\\\\OneDrive\\\\Documents\\\\Data\\\\\"\n",
    "\n",
    "today = date.today()\n",
    "today"
   ]
  },
  {
   "cell_type": "markdown",
   "metadata": {},
   "source": [
    "### Today must be last business day"
   ]
  },
  {
   "cell_type": "code",
   "execution_count": 10,
   "metadata": {},
   "outputs": [
    {
     "data": {
      "text/plain": [
       "datetime.date(2022, 7, 1)"
      ]
     },
     "execution_count": 10,
     "metadata": {},
     "output_type": "execute_result"
    }
   ],
   "source": [
    "today = date(2022, 7, 1)\n",
    "today"
   ]
  },
  {
   "cell_type": "code",
   "execution_count": 4,
   "metadata": {},
   "outputs": [],
   "source": [
    "format_dict = {    \n",
    "    'shares':'{:,}',    \n",
    "    'q4':'{:.4f}','q3':'{:.4f}','q2':'{:.4f}','q1':'{:.4f}','dividend':'{:.4f}','qtrly':'{:.4f}',\n",
    "    'price':'{:.2f}',    \n",
    "    'amount':'{:,.2f}','net':'{:,.2f}','cost_amt':'{:,.2f}',\n",
    "    'yield':'{:,.2f}%','pct':'{:,.2f}%',\n",
    "    'xdate':'{:%Y-%m-%d}','paiddate':'{:%Y-%m-%d}',\n",
    "              }"
   ]
  },
  {
   "cell_type": "markdown",
   "metadata": {},
   "source": [
    "### New dividend stock"
   ]
  },
  {
   "cell_type": "code",
   "execution_count": 11,
   "metadata": {},
   "outputs": [
    {
     "data": {
      "text/html": [
       "<style type=\"text/css\">\n",
       "</style>\n",
       "<table id=\"T_5b19c_\">\n",
       "  <thead>\n",
       "    <tr>\n",
       "      <th class=\"blank level0\" >&nbsp;</th>\n",
       "      <th class=\"col_heading level0 col0\" >name</th>\n",
       "      <th class=\"col_heading level0 col1\" >q4</th>\n",
       "      <th class=\"col_heading level0 col2\" >q3</th>\n",
       "      <th class=\"col_heading level0 col3\" >q2</th>\n",
       "      <th class=\"col_heading level0 col4\" >q1</th>\n",
       "      <th class=\"col_heading level0 col5\" >dividend</th>\n",
       "      <th class=\"col_heading level0 col6\" >shares</th>\n",
       "      <th class=\"col_heading level0 col7\" >xdate</th>\n",
       "      <th class=\"col_heading level0 col8\" >paiddate</th>\n",
       "      <th class=\"col_heading level0 col9\" >kind</th>\n",
       "      <th class=\"col_heading level0 col10\" >actual</th>\n",
       "    </tr>\n",
       "  </thead>\n",
       "  <tbody>\n",
       "  </tbody>\n",
       "</table>\n"
      ],
      "text/plain": [
       "<pandas.io.formats.style.Styler at 0x24ad0696ac0>"
      ]
     },
     "execution_count": 11,
     "metadata": {},
     "output_type": "execute_result"
    }
   ],
   "source": [
    "name = 'MC'\n",
    "sql = \"\"\"\n",
    "SELECT * \n",
    "FROM DIVIDEND\n",
    "WHERE name = '%s'\n",
    "\"\"\"\n",
    "sql = sql % name\n",
    "dividend = pd.read_sql(sql, const)\n",
    "dividend.drop(['PRICE', 'PERCENT'], axis=1, inplace=True)\n",
    "dividend.columns = dividend.columns.str.lower()\n",
    "dividend['shares'] = dividend['shares'].astype('int64')\n",
    "dividend['xdate'] = pd.to_datetime(dividend['xdate'])\n",
    "dividend['paiddate'] = pd.to_datetime(dividend['paiddate'])\n",
    "dividend.style.format(format_dict)"
   ]
  },
  {
   "cell_type": "code",
   "execution_count": 12,
   "metadata": {},
   "outputs": [
    {
     "data": {
      "text/plain": [
       "1"
      ]
     },
     "execution_count": 12,
     "metadata": {},
     "output_type": "execute_result"
    }
   ],
   "source": [
    "sqlIns = \"\"\"\n",
    "INSERT INTO dividend\n",
    "VALUES('MC',0.32,0,0.20,0,0.52,0,0,00,'2022-02-24','2022-03-10','',1)\n",
    "\"\"\"\n",
    "rp = const.execute(sqlIns)\n",
    "rp.rowcount"
   ]
  },
  {
   "cell_type": "markdown",
   "metadata": {},
   "source": [
    "### Start of Update dividend"
   ]
  },
  {
   "cell_type": "code",
   "execution_count": 17,
   "metadata": {},
   "outputs": [],
   "source": [
    "def update_dividend1(q2,XDATE,PAIDDATE,actual,name):\n",
    "    sql = \"UPDATE dividend SET q2 = %s, dividend = q1+q2+q3+q4, XDATE = '%s', PAIDDATE = '%s', actual = %s WHERE name = '%s'\"\n",
    "    sql = sql % (q2,XDATE, PAIDDATE, actual,name)\n",
    "    rp = const.execute(sql)\n",
    "    return \"Records updated = \" + str(rp.rowcount)"
   ]
  },
  {
   "cell_type": "code",
   "execution_count": 20,
   "metadata": {
    "scrolled": true
   },
   "outputs": [
    {
     "data": {
      "text/html": [
       "<style type=\"text/css\">\n",
       "</style>\n",
       "<table id=\"T_b6800_\">\n",
       "  <thead>\n",
       "    <tr>\n",
       "      <th class=\"blank level0\" >&nbsp;</th>\n",
       "      <th class=\"col_heading level0 col0\" >name</th>\n",
       "      <th class=\"col_heading level0 col1\" >q4</th>\n",
       "      <th class=\"col_heading level0 col2\" >q3</th>\n",
       "      <th class=\"col_heading level0 col3\" >q2</th>\n",
       "      <th class=\"col_heading level0 col4\" >q1</th>\n",
       "      <th class=\"col_heading level0 col5\" >dividend</th>\n",
       "      <th class=\"col_heading level0 col6\" >shares</th>\n",
       "      <th class=\"col_heading level0 col7\" >xdate</th>\n",
       "      <th class=\"col_heading level0 col8\" >paiddate</th>\n",
       "      <th class=\"col_heading level0 col9\" >kind</th>\n",
       "      <th class=\"col_heading level0 col10\" >actual</th>\n",
       "    </tr>\n",
       "  </thead>\n",
       "  <tbody>\n",
       "    <tr>\n",
       "      <th id=\"T_b6800_level0_row0\" class=\"row_heading level0 row0\" >0</th>\n",
       "      <td id=\"T_b6800_row0_col0\" class=\"data row0 col0\" >SCCC</td>\n",
       "      <td id=\"T_b6800_row0_col1\" class=\"data row0 col1\" >9.0000</td>\n",
       "      <td id=\"T_b6800_row0_col2\" class=\"data row0 col2\" >0.0000</td>\n",
       "      <td id=\"T_b6800_row0_col3\" class=\"data row0 col3\" >9.0000</td>\n",
       "      <td id=\"T_b6800_row0_col4\" class=\"data row0 col4\" >0.0000</td>\n",
       "      <td id=\"T_b6800_row0_col5\" class=\"data row0 col5\" >18.0000</td>\n",
       "      <td id=\"T_b6800_row0_col6\" class=\"data row0 col6\" >1,200</td>\n",
       "      <td id=\"T_b6800_row0_col7\" class=\"data row0 col7\" >2022-08-13</td>\n",
       "      <td id=\"T_b6800_row0_col8\" class=\"data row0 col8\" >2022-08-28</td>\n",
       "      <td id=\"T_b6800_row0_col9\" class=\"data row0 col9\" ></td>\n",
       "      <td id=\"T_b6800_row0_col10\" class=\"data row0 col10\" >0</td>\n",
       "    </tr>\n",
       "  </tbody>\n",
       "</table>\n"
      ],
      "text/plain": [
       "<pandas.io.formats.style.Styler at 0x1a49b7e9640>"
      ]
     },
     "execution_count": 20,
     "metadata": {},
     "output_type": "execute_result"
    }
   ],
   "source": [
    "name = 'SCCC'\n",
    "sql = \"\"\"\n",
    "SELECT * FROM DIVIDEND WHERE name = '%s'\"\"\"\n",
    "sql = sql % name\n",
    "dividend = pd.read_sql(sql, const)\n",
    "dividend.drop(['PRICE', 'PERCENT'], axis=1, inplace=True)\n",
    "dividend.columns = dividend.columns.str.lower()\n",
    "dividend['shares'] = dividend['shares'].astype('int64')\n",
    "dividend['xdate'] = pd.to_datetime(dividend['xdate'])\n",
    "dividend['paiddate'] = pd.to_datetime(dividend['paiddate'])\n",
    "dividend.style.format(format_dict)"
   ]
  },
  {
   "cell_type": "code",
   "execution_count": 19,
   "metadata": {},
   "outputs": [
    {
     "data": {
      "text/plain": [
       "'Records updated = 1'"
      ]
     },
     "execution_count": 19,
     "metadata": {},
     "output_type": "execute_result"
    }
   ],
   "source": [
    "q2 = 9.00\n",
    "XDATE = '2022-08-13'\n",
    "PAIDDATE = '2022-08-28'\n",
    "actual = 0\n",
    "\n",
    "update_dividend1(q2,XDATE,PAIDDATE,actual,name)"
   ]
  },
  {
   "cell_type": "code",
   "execution_count": 41,
   "metadata": {},
   "outputs": [],
   "source": [
    "def update_dividend2(shares,q2,actual,name):\n",
    "    sql = \"UPDATE dividend SET shares = %s, q2 = %s, dividend=q1+q2+q3+q4, actual = %s WHERE name = '%s'\"\n",
    "    sql = sql % (shares, q2, actual, name)\n",
    "    rp = const.execute(sql)\n",
    "    return \"Records updated = \" + str(rp.rowcount)"
   ]
  },
  {
   "cell_type": "code",
   "execution_count": 89,
   "metadata": {},
   "outputs": [
    {
     "data": {
      "text/html": [
       "<style type=\"text/css\">\n",
       "</style>\n",
       "<table id=\"T_c7e6a_\">\n",
       "  <thead>\n",
       "    <tr>\n",
       "      <th class=\"blank level0\" >&nbsp;</th>\n",
       "      <th class=\"col_heading level0 col0\" >name</th>\n",
       "      <th class=\"col_heading level0 col1\" >q4</th>\n",
       "      <th class=\"col_heading level0 col2\" >q3</th>\n",
       "      <th class=\"col_heading level0 col3\" >q2</th>\n",
       "      <th class=\"col_heading level0 col4\" >q1</th>\n",
       "      <th class=\"col_heading level0 col5\" >dividend</th>\n",
       "      <th class=\"col_heading level0 col6\" >shares</th>\n",
       "      <th class=\"col_heading level0 col7\" >xdate</th>\n",
       "      <th class=\"col_heading level0 col8\" >paiddate</th>\n",
       "      <th class=\"col_heading level0 col9\" >kind</th>\n",
       "      <th class=\"col_heading level0 col10\" >actual</th>\n",
       "    </tr>\n",
       "  </thead>\n",
       "  <tbody>\n",
       "    <tr>\n",
       "      <th id=\"T_c7e6a_level0_row0\" class=\"row_heading level0 row0\" >0</th>\n",
       "      <td id=\"T_c7e6a_row0_col0\" class=\"data row0 col0\" >WHAIR</td>\n",
       "      <td id=\"T_c7e6a_row0_col1\" class=\"data row0 col1\" >0.1738</td>\n",
       "      <td id=\"T_c7e6a_row0_col2\" class=\"data row0 col2\" >0.1738</td>\n",
       "      <td id=\"T_c7e6a_row0_col3\" class=\"data row0 col3\" >0.1738</td>\n",
       "      <td id=\"T_c7e6a_row0_col4\" class=\"data row0 col4\" >0.1556</td>\n",
       "      <td id=\"T_c7e6a_row0_col5\" class=\"data row0 col5\" >0.6770</td>\n",
       "      <td id=\"T_c7e6a_row0_col6\" class=\"data row0 col6\" >0</td>\n",
       "      <td id=\"T_c7e6a_row0_col7\" class=\"data row0 col7\" >2022-05-25</td>\n",
       "      <td id=\"T_c7e6a_row0_col8\" class=\"data row0 col8\" >2022-06-22</td>\n",
       "      <td id=\"T_c7e6a_row0_col9\" class=\"data row0 col9\" ></td>\n",
       "      <td id=\"T_c7e6a_row0_col10\" class=\"data row0 col10\" >0</td>\n",
       "    </tr>\n",
       "  </tbody>\n",
       "</table>\n"
      ],
      "text/plain": [
       "<pandas.io.formats.style.Styler at 0x1a49cc8ae20>"
      ]
     },
     "execution_count": 89,
     "metadata": {},
     "output_type": "execute_result"
    }
   ],
   "source": [
    "name = 'WHAIR'\n",
    "sql = \"\"\"\n",
    "SELECT * \n",
    "FROM DIVIDEND\n",
    "WHERE name = '%s'\n",
    "\"\"\"\n",
    "sql = sql % name\n",
    "dividend = pd.read_sql(sql, const)\n",
    "dividend.drop(['PRICE', 'PERCENT'], axis=1, inplace=True)\n",
    "dividend.columns = dividend.columns.str.lower()\n",
    "dividend['shares'] = dividend['shares'].astype('int64')\n",
    "dividend['xdate'] = pd.to_datetime(dividend['xdate'])\n",
    "dividend['paiddate'] = pd.to_datetime(dividend['paiddate'])\n",
    "dividend.style.format(format_dict)"
   ]
  },
  {
   "cell_type": "code",
   "execution_count": 90,
   "metadata": {},
   "outputs": [],
   "source": [
    "shares = 40000\n",
    "q2 = 0.1738\n",
    "actual = 0"
   ]
  },
  {
   "cell_type": "code",
   "execution_count": 91,
   "metadata": {},
   "outputs": [
    {
     "data": {
      "text/plain": [
       "'Records updated = 1'"
      ]
     },
     "execution_count": 91,
     "metadata": {},
     "output_type": "execute_result"
    }
   ],
   "source": [
    "update_dividend2(shares,q2,actual,name)"
   ]
  },
  {
   "cell_type": "markdown",
   "metadata": {},
   "source": [
    "### Toggle actual status"
   ]
  },
  {
   "cell_type": "code",
   "execution_count": 18,
   "metadata": {},
   "outputs": [
    {
     "data": {
      "text/plain": [
       "1"
      ]
     },
     "execution_count": 18,
     "metadata": {},
     "output_type": "execute_result"
    }
   ],
   "source": [
    "name = 'SCB'\n",
    "actual = 0\n",
    "sqlUpd = \"UPDATE dividend SET actual = %s WHERE name = '%s'\"\n",
    "sqlUpd = sqlUpd % (actual, name)\n",
    "rp = const.execute(sqlUpd)\n",
    "rp.rowcount"
   ]
  },
  {
   "cell_type": "markdown",
   "metadata": {},
   "source": [
    "### Delete dividend record"
   ]
  },
  {
   "cell_type": "code",
   "execution_count": 10,
   "metadata": {},
   "outputs": [
    {
     "data": {
      "text/plain": [
       "1"
      ]
     },
     "execution_count": 10,
     "metadata": {},
     "output_type": "execute_result"
    }
   ],
   "source": [
    "sqlDel = '''\n",
    "DELETE FROM dividend\n",
    "WHERE name IN (\"MC\")\n",
    "'''\n",
    "rp = const.execute(sqlDel)\n",
    "rp.rowcount"
   ]
  },
  {
   "cell_type": "markdown",
   "metadata": {},
   "source": [
    "### Start of output to cloud"
   ]
  },
  {
   "cell_type": "code",
   "execution_count": 120,
   "metadata": {
    "scrolled": true
   },
   "outputs": [
    {
     "name": "stdout",
     "output_type": "stream",
     "text": [
      "\n",
      "SELECT Y.NAME AS name,  Q2 AS qtrly, SHARES, XDATE, PAIDDATE, \n",
      "P.price AS price, Y.DIVIDEND, ACTUAL, B.price * B.volbuy AS cost_amt\n",
      "FROM dividend AS Y, price AS P, buy AS B\n",
      "WHERE Y.name = P.name \n",
      "AND Y.name = B.name \n",
      "AND Q2 > 0 \n",
      "AND P.date = '2022-07-01'\n",
      "ORDER BY XDATE\n",
      "\n"
     ]
    }
   ],
   "source": [
    "sql = \"\"\"\n",
    "SELECT Y.NAME AS name,  Q2 AS qtrly, SHARES, XDATE, PAIDDATE, \n",
    "P.price AS price, Y.DIVIDEND, ACTUAL, B.price * B.volbuy AS cost_amt\n",
    "FROM dividend AS Y, price AS P, buy AS B\n",
    "WHERE Y.name = P.name \n",
    "AND Y.name = B.name \n",
    "AND Q2 > 0 \n",
    "AND P.date = '%s'\n",
    "ORDER BY XDATE\n",
    "\"\"\"\n",
    "sql = sql % today \n",
    "print(sql)"
   ]
  },
  {
   "cell_type": "code",
   "execution_count": 121,
   "metadata": {},
   "outputs": [],
   "source": [
    "cols = 'name qtrly shares amount net xdate paiddate cost_amt pct actual'.split()"
   ]
  },
  {
   "cell_type": "code",
   "execution_count": 122,
   "metadata": {},
   "outputs": [
    {
     "data": {
      "text/html": [
       "<style type=\"text/css\">\n",
       "</style>\n",
       "<table id=\"T_ef3aa_\">\n",
       "  <thead>\n",
       "    <tr>\n",
       "      <th class=\"blank level0\" >&nbsp;</th>\n",
       "      <th class=\"col_heading level0 col0\" >name</th>\n",
       "      <th class=\"col_heading level0 col1\" >qtrly</th>\n",
       "      <th class=\"col_heading level0 col2\" >shares</th>\n",
       "      <th class=\"col_heading level0 col3\" >amount</th>\n",
       "      <th class=\"col_heading level0 col4\" >net</th>\n",
       "      <th class=\"col_heading level0 col5\" >xdate</th>\n",
       "      <th class=\"col_heading level0 col6\" >paiddate</th>\n",
       "      <th class=\"col_heading level0 col7\" >cost_amt</th>\n",
       "      <th class=\"col_heading level0 col8\" >pct</th>\n",
       "      <th class=\"col_heading level0 col9\" >actual</th>\n",
       "    </tr>\n",
       "  </thead>\n",
       "  <tbody>\n",
       "    <tr>\n",
       "      <th id=\"T_ef3aa_level0_row0\" class=\"row_heading level0 row0\" >0</th>\n",
       "      <td id=\"T_ef3aa_row0_col0\" class=\"data row0 col0\" >DIF</td>\n",
       "      <td id=\"T_ef3aa_row0_col1\" class=\"data row0 col1\" >0.2610</td>\n",
       "      <td id=\"T_ef3aa_row0_col2\" class=\"data row0 col2\" >40,000</td>\n",
       "      <td id=\"T_ef3aa_row0_col3\" class=\"data row0 col3\" >10,440.00</td>\n",
       "      <td id=\"T_ef3aa_row0_col4\" class=\"data row0 col4\" >9,396.00</td>\n",
       "      <td id=\"T_ef3aa_row0_col5\" class=\"data row0 col5\" >2022-08-10</td>\n",
       "      <td id=\"T_ef3aa_row0_col6\" class=\"data row0 col6\" >2022-09-03</td>\n",
       "      <td id=\"T_ef3aa_row0_col7\" class=\"data row0 col7\" >588,000.00</td>\n",
       "      <td id=\"T_ef3aa_row0_col8\" class=\"data row0 col8\" >1.60%</td>\n",
       "      <td id=\"T_ef3aa_row0_col9\" class=\"data row0 col9\" >0</td>\n",
       "    </tr>\n",
       "    <tr>\n",
       "      <th id=\"T_ef3aa_level0_row1\" class=\"row_heading level0 row1\" >1</th>\n",
       "      <td id=\"T_ef3aa_row1_col0\" class=\"data row1 col0\" >SCC</td>\n",
       "      <td id=\"T_ef3aa_row1_col1\" class=\"data row1 col1\" >8.5000</td>\n",
       "      <td id=\"T_ef3aa_row1_col2\" class=\"data row1 col2\" >900</td>\n",
       "      <td id=\"T_ef3aa_row1_col3\" class=\"data row1 col3\" >7,650.00</td>\n",
       "      <td id=\"T_ef3aa_row1_col4\" class=\"data row1 col4\" >6,885.00</td>\n",
       "      <td id=\"T_ef3aa_row1_col5\" class=\"data row1 col5\" >2022-08-13</td>\n",
       "      <td id=\"T_ef3aa_row1_col6\" class=\"data row1 col6\" >2022-08-27</td>\n",
       "      <td id=\"T_ef3aa_row1_col7\" class=\"data row1 col7\" >358,200.00</td>\n",
       "      <td id=\"T_ef3aa_row1_col8\" class=\"data row1 col8\" >1.92%</td>\n",
       "      <td id=\"T_ef3aa_row1_col9\" class=\"data row1 col9\" >0</td>\n",
       "    </tr>\n",
       "    <tr>\n",
       "      <th id=\"T_ef3aa_level0_row2\" class=\"row_heading level0 row2\" >2</th>\n",
       "      <td id=\"T_ef3aa_row2_col0\" class=\"data row2 col0\" >SCCC</td>\n",
       "      <td id=\"T_ef3aa_row2_col1\" class=\"data row2 col1\" >9.0000</td>\n",
       "      <td id=\"T_ef3aa_row2_col2\" class=\"data row2 col2\" >1,200</td>\n",
       "      <td id=\"T_ef3aa_row2_col3\" class=\"data row2 col3\" >10,800.00</td>\n",
       "      <td id=\"T_ef3aa_row2_col4\" class=\"data row2 col4\" >9,720.00</td>\n",
       "      <td id=\"T_ef3aa_row2_col5\" class=\"data row2 col5\" >2022-08-13</td>\n",
       "      <td id=\"T_ef3aa_row2_col6\" class=\"data row2 col6\" >2022-08-28</td>\n",
       "      <td id=\"T_ef3aa_row2_col7\" class=\"data row2 col7\" >205,200.00</td>\n",
       "      <td id=\"T_ef3aa_row2_col8\" class=\"data row2 col8\" >4.74%</td>\n",
       "      <td id=\"T_ef3aa_row2_col9\" class=\"data row2 col9\" >0</td>\n",
       "    </tr>\n",
       "    <tr>\n",
       "      <th id=\"T_ef3aa_level0_row3\" class=\"row_heading level0 row3\" >3</th>\n",
       "      <td id=\"T_ef3aa_row3_col0\" class=\"data row3 col0\" >WHART</td>\n",
       "      <td id=\"T_ef3aa_row3_col1\" class=\"data row3 col1\" >0.1915</td>\n",
       "      <td id=\"T_ef3aa_row3_col2\" class=\"data row3 col2\" >30,000</td>\n",
       "      <td id=\"T_ef3aa_row3_col3\" class=\"data row3 col3\" >5,745.00</td>\n",
       "      <td id=\"T_ef3aa_row3_col4\" class=\"data row3 col4\" >5,170.50</td>\n",
       "      <td id=\"T_ef3aa_row3_col5\" class=\"data row3 col5\" >2022-08-17</td>\n",
       "      <td id=\"T_ef3aa_row3_col6\" class=\"data row3 col6\" >2022-09-02</td>\n",
       "      <td id=\"T_ef3aa_row3_col7\" class=\"data row3 col7\" >351,000.00</td>\n",
       "      <td id=\"T_ef3aa_row3_col8\" class=\"data row3 col8\" >1.47%</td>\n",
       "      <td id=\"T_ef3aa_row3_col9\" class=\"data row3 col9\" >0</td>\n",
       "    </tr>\n",
       "    <tr>\n",
       "      <th id=\"T_ef3aa_level0_row4\" class=\"row_heading level0 row4\" >4</th>\n",
       "      <td id=\"T_ef3aa_row4_col0\" class=\"data row4 col0\" >WHAIR</td>\n",
       "      <td id=\"T_ef3aa_row4_col1\" class=\"data row4 col1\" >0.1738</td>\n",
       "      <td id=\"T_ef3aa_row4_col2\" class=\"data row4 col2\" >40,000</td>\n",
       "      <td id=\"T_ef3aa_row4_col3\" class=\"data row4 col3\" >6,952.00</td>\n",
       "      <td id=\"T_ef3aa_row4_col4\" class=\"data row4 col4\" >6,256.80</td>\n",
       "      <td id=\"T_ef3aa_row4_col5\" class=\"data row4 col5\" >2022-08-19</td>\n",
       "      <td id=\"T_ef3aa_row4_col6\" class=\"data row4 col6\" >2022-09-22</td>\n",
       "      <td id=\"T_ef3aa_row4_col7\" class=\"data row4 col7\" >358,000.00</td>\n",
       "      <td id=\"T_ef3aa_row4_col8\" class=\"data row4 col8\" >1.75%</td>\n",
       "      <td id=\"T_ef3aa_row4_col9\" class=\"data row4 col9\" >0</td>\n",
       "    </tr>\n",
       "    <tr>\n",
       "      <th id=\"T_ef3aa_level0_row5\" class=\"row_heading level0 row5\" >5</th>\n",
       "      <td id=\"T_ef3aa_row5_col0\" class=\"data row5 col0\" >JASIF</td>\n",
       "      <td id=\"T_ef3aa_row5_col1\" class=\"data row5 col1\" >0.2400</td>\n",
       "      <td id=\"T_ef3aa_row5_col2\" class=\"data row5 col2\" >120,000</td>\n",
       "      <td id=\"T_ef3aa_row5_col3\" class=\"data row5 col3\" >28,800.00</td>\n",
       "      <td id=\"T_ef3aa_row5_col4\" class=\"data row5 col4\" >25,920.00</td>\n",
       "      <td id=\"T_ef3aa_row5_col5\" class=\"data row5 col5\" >2022-08-20</td>\n",
       "      <td id=\"T_ef3aa_row5_col6\" class=\"data row5 col6\" >2022-09-07</td>\n",
       "      <td id=\"T_ef3aa_row5_col7\" class=\"data row5 col7\" >1,209,000.00</td>\n",
       "      <td id=\"T_ef3aa_row5_col8\" class=\"data row5 col8\" >2.14%</td>\n",
       "      <td id=\"T_ef3aa_row5_col9\" class=\"data row5 col9\" >0</td>\n",
       "    </tr>\n",
       "    <tr>\n",
       "      <th id=\"T_ef3aa_level0_row6\" class=\"row_heading level0 row6\" >6</th>\n",
       "      <td id=\"T_ef3aa_row6_col0\" class=\"data row6 col0\" >DCC</td>\n",
       "      <td id=\"T_ef3aa_row6_col1\" class=\"data row6 col1\" >0.0500</td>\n",
       "      <td id=\"T_ef3aa_row6_col2\" class=\"data row6 col2\" >60,000</td>\n",
       "      <td id=\"T_ef3aa_row6_col3\" class=\"data row6 col3\" >3,000.00</td>\n",
       "      <td id=\"T_ef3aa_row6_col4\" class=\"data row6 col4\" >2,700.00</td>\n",
       "      <td id=\"T_ef3aa_row6_col5\" class=\"data row6 col5\" >2022-08-23</td>\n",
       "      <td id=\"T_ef3aa_row6_col6\" class=\"data row6 col6\" >2022-09-03</td>\n",
       "      <td id=\"T_ef3aa_row6_col7\" class=\"data row6 col7\" >177,600.00</td>\n",
       "      <td id=\"T_ef3aa_row6_col8\" class=\"data row6 col8\" >1.52%</td>\n",
       "      <td id=\"T_ef3aa_row6_col9\" class=\"data row6 col9\" >0</td>\n",
       "    </tr>\n",
       "    <tr>\n",
       "      <th id=\"T_ef3aa_level0_row7\" class=\"row_heading level0 row7\" >7</th>\n",
       "      <td id=\"T_ef3aa_row7_col0\" class=\"data row7 col0\" >STA</td>\n",
       "      <td id=\"T_ef3aa_row7_col1\" class=\"data row7 col1\" >1.2500</td>\n",
       "      <td id=\"T_ef3aa_row7_col2\" class=\"data row7 col2\" >22,500</td>\n",
       "      <td id=\"T_ef3aa_row7_col3\" class=\"data row7 col3\" >28,125.00</td>\n",
       "      <td id=\"T_ef3aa_row7_col4\" class=\"data row7 col4\" >25,312.50</td>\n",
       "      <td id=\"T_ef3aa_row7_col5\" class=\"data row7 col5\" >2022-08-23</td>\n",
       "      <td id=\"T_ef3aa_row7_col6\" class=\"data row7 col6\" >2022-09-08</td>\n",
       "      <td id=\"T_ef3aa_row7_col7\" class=\"data row7 col7\" >759,375.00</td>\n",
       "      <td id=\"T_ef3aa_row7_col8\" class=\"data row7 col8\" >3.33%</td>\n",
       "      <td id=\"T_ef3aa_row7_col9\" class=\"data row7 col9\" >0</td>\n",
       "    </tr>\n",
       "    <tr>\n",
       "      <th id=\"T_ef3aa_level0_row8\" class=\"row_heading level0 row8\" >8</th>\n",
       "      <td id=\"T_ef3aa_row8_col0\" class=\"data row8 col0\" >KCE</td>\n",
       "      <td id=\"T_ef3aa_row8_col1\" class=\"data row8 col1\" >0.6000</td>\n",
       "      <td id=\"T_ef3aa_row8_col2\" class=\"data row8 col2\" >15,000</td>\n",
       "      <td id=\"T_ef3aa_row8_col3\" class=\"data row8 col3\" >9,000.00</td>\n",
       "      <td id=\"T_ef3aa_row8_col4\" class=\"data row8 col4\" >8,100.00</td>\n",
       "      <td id=\"T_ef3aa_row8_col5\" class=\"data row8 col5\" >2022-08-23</td>\n",
       "      <td id=\"T_ef3aa_row8_col6\" class=\"data row8 col6\" >2022-09-08</td>\n",
       "      <td id=\"T_ef3aa_row8_col7\" class=\"data row8 col7\" >1,076,250.00</td>\n",
       "      <td id=\"T_ef3aa_row8_col8\" class=\"data row8 col8\" >0.75%</td>\n",
       "      <td id=\"T_ef3aa_row8_col9\" class=\"data row8 col9\" >0</td>\n",
       "    </tr>\n",
       "    <tr>\n",
       "      <th id=\"T_ef3aa_level0_row9\" class=\"row_heading level0 row9\" >9</th>\n",
       "      <td id=\"T_ef3aa_row9_col0\" class=\"data row9 col0\" >NER</td>\n",
       "      <td id=\"T_ef3aa_row9_col1\" class=\"data row9 col1\" >0.0700</td>\n",
       "      <td id=\"T_ef3aa_row9_col2\" class=\"data row9 col2\" >27,000</td>\n",
       "      <td id=\"T_ef3aa_row9_col3\" class=\"data row9 col3\" >1,890.00</td>\n",
       "      <td id=\"T_ef3aa_row9_col4\" class=\"data row9 col4\" >1,701.00</td>\n",
       "      <td id=\"T_ef3aa_row9_col5\" class=\"data row9 col5\" >2022-08-23</td>\n",
       "      <td id=\"T_ef3aa_row9_col6\" class=\"data row9 col6\" >2022-09-06</td>\n",
       "      <td id=\"T_ef3aa_row9_col7\" class=\"data row9 col7\" >201,150.00</td>\n",
       "      <td id=\"T_ef3aa_row9_col8\" class=\"data row9 col8\" >0.85%</td>\n",
       "      <td id=\"T_ef3aa_row9_col9\" class=\"data row9 col9\" >0</td>\n",
       "    </tr>\n",
       "    <tr>\n",
       "      <th id=\"T_ef3aa_level0_row10\" class=\"row_heading level0 row10\" >12</th>\n",
       "      <td id=\"T_ef3aa_row10_col0\" class=\"data row10 col0\" >ORI</td>\n",
       "      <td id=\"T_ef3aa_row10_col1\" class=\"data row10 col1\" >0.1200</td>\n",
       "      <td id=\"T_ef3aa_row10_col2\" class=\"data row10 col2\" >45,000</td>\n",
       "      <td id=\"T_ef3aa_row10_col3\" class=\"data row10 col3\" >5,400.00</td>\n",
       "      <td id=\"T_ef3aa_row10_col4\" class=\"data row10 col4\" >4,860.00</td>\n",
       "      <td id=\"T_ef3aa_row10_col5\" class=\"data row10 col5\" >2022-08-24</td>\n",
       "      <td id=\"T_ef3aa_row10_col6\" class=\"data row10 col6\" >2022-09-09</td>\n",
       "      <td id=\"T_ef3aa_row10_col7\" class=\"data row10 col7\" >495,000.00</td>\n",
       "      <td id=\"T_ef3aa_row10_col8\" class=\"data row10 col8\" >0.98%</td>\n",
       "      <td id=\"T_ef3aa_row10_col9\" class=\"data row10 col9\" >0</td>\n",
       "    </tr>\n",
       "    <tr>\n",
       "      <th id=\"T_ef3aa_level0_row11\" class=\"row_heading level0 row11\" >10</th>\n",
       "      <td id=\"T_ef3aa_row11_col0\" class=\"data row11 col0\" >MAKRO</td>\n",
       "      <td id=\"T_ef3aa_row11_col1\" class=\"data row11 col1\" >0.4000</td>\n",
       "      <td id=\"T_ef3aa_row11_col2\" class=\"data row11 col2\" >7,500</td>\n",
       "      <td id=\"T_ef3aa_row11_col3\" class=\"data row11 col3\" >3,000.00</td>\n",
       "      <td id=\"T_ef3aa_row11_col4\" class=\"data row11 col4\" >2,700.00</td>\n",
       "      <td id=\"T_ef3aa_row11_col5\" class=\"data row11 col5\" >2022-08-24</td>\n",
       "      <td id=\"T_ef3aa_row11_col6\" class=\"data row11 col6\" >2022-09-08</td>\n",
       "      <td id=\"T_ef3aa_row11_col7\" class=\"data row11 col7\" >303,000.00</td>\n",
       "      <td id=\"T_ef3aa_row11_col8\" class=\"data row11 col8\" >0.89%</td>\n",
       "      <td id=\"T_ef3aa_row11_col9\" class=\"data row11 col9\" >0</td>\n",
       "    </tr>\n",
       "    <tr>\n",
       "      <th id=\"T_ef3aa_level0_row12\" class=\"row_heading level0 row12\" >11</th>\n",
       "      <td id=\"T_ef3aa_row12_col0\" class=\"data row12 col0\" >SYNEX</td>\n",
       "      <td id=\"T_ef3aa_row12_col1\" class=\"data row12 col1\" >0.1800</td>\n",
       "      <td id=\"T_ef3aa_row12_col2\" class=\"data row12 col2\" >18,000</td>\n",
       "      <td id=\"T_ef3aa_row12_col3\" class=\"data row12 col3\" >3,240.00</td>\n",
       "      <td id=\"T_ef3aa_row12_col4\" class=\"data row12 col4\" >2,916.00</td>\n",
       "      <td id=\"T_ef3aa_row12_col5\" class=\"data row12 col5\" >2022-08-24</td>\n",
       "      <td id=\"T_ef3aa_row12_col6\" class=\"data row12 col6\" >2022-09-03</td>\n",
       "      <td id=\"T_ef3aa_row12_col7\" class=\"data row12 col7\" >504,000.00</td>\n",
       "      <td id=\"T_ef3aa_row12_col8\" class=\"data row12 col8\" >0.58%</td>\n",
       "      <td id=\"T_ef3aa_row12_col9\" class=\"data row12 col9\" >0</td>\n",
       "    </tr>\n",
       "    <tr>\n",
       "      <th id=\"T_ef3aa_level0_row13\" class=\"row_heading level0 row13\" >13</th>\n",
       "      <td id=\"T_ef3aa_row13_col0\" class=\"data row13 col0\" >SENA</td>\n",
       "      <td id=\"T_ef3aa_row13_col1\" class=\"data row13 col1\" >0.1290</td>\n",
       "      <td id=\"T_ef3aa_row13_col2\" class=\"data row13 col2\" >105,000</td>\n",
       "      <td id=\"T_ef3aa_row13_col3\" class=\"data row13 col3\" >13,545.00</td>\n",
       "      <td id=\"T_ef3aa_row13_col4\" class=\"data row13 col4\" >12,190.50</td>\n",
       "      <td id=\"T_ef3aa_row13_col5\" class=\"data row13 col5\" >2022-08-27</td>\n",
       "      <td id=\"T_ef3aa_row13_col6\" class=\"data row13 col6\" >2022-09-11</td>\n",
       "      <td id=\"T_ef3aa_row13_col7\" class=\"data row13 col7\" >470,400.00</td>\n",
       "      <td id=\"T_ef3aa_row13_col8\" class=\"data row13 col8\" >2.59%</td>\n",
       "      <td id=\"T_ef3aa_row13_col9\" class=\"data row13 col9\" >0</td>\n",
       "    </tr>\n",
       "    <tr>\n",
       "      <th id=\"T_ef3aa_level0_row14\" class=\"row_heading level0 row14\" >14</th>\n",
       "      <td id=\"T_ef3aa_row14_col0\" class=\"data row14 col0\" >RCL</td>\n",
       "      <td id=\"T_ef3aa_row14_col1\" class=\"data row14 col1\" >1.5000</td>\n",
       "      <td id=\"T_ef3aa_row14_col2\" class=\"data row14 col2\" >15,000</td>\n",
       "      <td id=\"T_ef3aa_row14_col3\" class=\"data row14 col3\" >22,500.00</td>\n",
       "      <td id=\"T_ef3aa_row14_col4\" class=\"data row14 col4\" >20,250.00</td>\n",
       "      <td id=\"T_ef3aa_row14_col5\" class=\"data row14 col5\" >2022-08-27</td>\n",
       "      <td id=\"T_ef3aa_row14_col6\" class=\"data row14 col6\" >2022-09-10</td>\n",
       "      <td id=\"T_ef3aa_row14_col7\" class=\"data row14 col7\" >686,250.00</td>\n",
       "      <td id=\"T_ef3aa_row14_col8\" class=\"data row14 col8\" >2.95%</td>\n",
       "      <td id=\"T_ef3aa_row14_col9\" class=\"data row14 col9\" >0</td>\n",
       "    </tr>\n",
       "    <tr>\n",
       "      <th id=\"T_ef3aa_level0_row15\" class=\"row_heading level0 row15\" >15</th>\n",
       "      <td id=\"T_ef3aa_row15_col0\" class=\"data row15 col0\" >ASP</td>\n",
       "      <td id=\"T_ef3aa_row15_col1\" class=\"data row15 col1\" >0.2000</td>\n",
       "      <td id=\"T_ef3aa_row15_col2\" class=\"data row15 col2\" >30,000</td>\n",
       "      <td id=\"T_ef3aa_row15_col3\" class=\"data row15 col3\" >6,000.00</td>\n",
       "      <td id=\"T_ef3aa_row15_col4\" class=\"data row15 col4\" >5,400.00</td>\n",
       "      <td id=\"T_ef3aa_row15_col5\" class=\"data row15 col5\" >2022-08-27</td>\n",
       "      <td id=\"T_ef3aa_row15_col6\" class=\"data row15 col6\" >2022-09-08</td>\n",
       "      <td id=\"T_ef3aa_row15_col7\" class=\"data row15 col7\" >114,000.00</td>\n",
       "      <td id=\"T_ef3aa_row15_col8\" class=\"data row15 col8\" >4.74%</td>\n",
       "      <td id=\"T_ef3aa_row15_col9\" class=\"data row15 col9\" >0</td>\n",
       "    </tr>\n",
       "    <tr>\n",
       "      <th id=\"T_ef3aa_level0_row16\" class=\"row_heading level0 row16\" >16</th>\n",
       "      <td id=\"T_ef3aa_row16_col0\" class=\"data row16 col0\" >TMT</td>\n",
       "      <td id=\"T_ef3aa_row16_col1\" class=\"data row16 col1\" >0.6000</td>\n",
       "      <td id=\"T_ef3aa_row16_col2\" class=\"data row16 col2\" >48,000</td>\n",
       "      <td id=\"T_ef3aa_row16_col3\" class=\"data row16 col3\" >28,800.00</td>\n",
       "      <td id=\"T_ef3aa_row16_col4\" class=\"data row16 col4\" >25,920.00</td>\n",
       "      <td id=\"T_ef3aa_row16_col5\" class=\"data row16 col5\" >2022-08-27</td>\n",
       "      <td id=\"T_ef3aa_row16_col6\" class=\"data row16 col6\" >2022-09-10</td>\n",
       "      <td id=\"T_ef3aa_row16_col7\" class=\"data row16 col7\" >475,200.00</td>\n",
       "      <td id=\"T_ef3aa_row16_col8\" class=\"data row16 col8\" >5.45%</td>\n",
       "      <td id=\"T_ef3aa_row16_col9\" class=\"data row16 col9\" >0</td>\n",
       "    </tr>\n",
       "    <tr>\n",
       "      <th id=\"T_ef3aa_level0_row17\" class=\"row_heading level0 row17\" >17</th>\n",
       "      <td id=\"T_ef3aa_row17_col0\" class=\"data row17 col0\" >BCH</td>\n",
       "      <td id=\"T_ef3aa_row17_col1\" class=\"data row17 col1\" >0.2000</td>\n",
       "      <td id=\"T_ef3aa_row17_col2\" class=\"data row17 col2\" >21,000</td>\n",
       "      <td id=\"T_ef3aa_row17_col3\" class=\"data row17 col3\" >4,200.00</td>\n",
       "      <td id=\"T_ef3aa_row17_col4\" class=\"data row17 col4\" >3,780.00</td>\n",
       "      <td id=\"T_ef3aa_row17_col5\" class=\"data row17 col5\" >2022-08-31</td>\n",
       "      <td id=\"T_ef3aa_row17_col6\" class=\"data row17 col6\" >2022-09-15</td>\n",
       "      <td id=\"T_ef3aa_row17_col7\" class=\"data row17 col7\" >438,900.00</td>\n",
       "      <td id=\"T_ef3aa_row17_col8\" class=\"data row17 col8\" >0.86%</td>\n",
       "      <td id=\"T_ef3aa_row17_col9\" class=\"data row17 col9\" >0</td>\n",
       "    </tr>\n",
       "    <tr>\n",
       "      <th id=\"T_ef3aa_level0_row18\" class=\"row_heading level0 row18\" >18</th>\n",
       "      <td id=\"T_ef3aa_row18_col0\" class=\"data row18 col0\" >MCS</td>\n",
       "      <td id=\"T_ef3aa_row18_col1\" class=\"data row18 col1\" >0.4000</td>\n",
       "      <td id=\"T_ef3aa_row18_col2\" class=\"data row18 col2\" >75,000</td>\n",
       "      <td id=\"T_ef3aa_row18_col3\" class=\"data row18 col3\" >30,000.00</td>\n",
       "      <td id=\"T_ef3aa_row18_col4\" class=\"data row18 col4\" >27,000.00</td>\n",
       "      <td id=\"T_ef3aa_row18_col5\" class=\"data row18 col5\" >2022-09-03</td>\n",
       "      <td id=\"T_ef3aa_row18_col6\" class=\"data row18 col6\" >2022-09-15</td>\n",
       "      <td id=\"T_ef3aa_row18_col7\" class=\"data row18 col7\" >1,155,000.00</td>\n",
       "      <td id=\"T_ef3aa_row18_col8\" class=\"data row18 col8\" >2.34%</td>\n",
       "      <td id=\"T_ef3aa_row18_col9\" class=\"data row18 col9\" >0</td>\n",
       "    </tr>\n",
       "    <tr>\n",
       "      <th id=\"T_ef3aa_level0_row19\" class=\"row_heading level0 row19\" >19</th>\n",
       "      <td id=\"T_ef3aa_row19_col0\" class=\"data row19 col0\" >PTTGC</td>\n",
       "      <td id=\"T_ef3aa_row19_col1\" class=\"data row19 col1\" >2.0000</td>\n",
       "      <td id=\"T_ef3aa_row19_col2\" class=\"data row19 col2\" >12,000</td>\n",
       "      <td id=\"T_ef3aa_row19_col3\" class=\"data row19 col3\" >24,000.00</td>\n",
       "      <td id=\"T_ef3aa_row19_col4\" class=\"data row19 col4\" >21,600.00</td>\n",
       "      <td id=\"T_ef3aa_row19_col5\" class=\"data row19 col5\" >2022-09-03</td>\n",
       "      <td id=\"T_ef3aa_row19_col6\" class=\"data row19 col6\" >2022-09-22</td>\n",
       "      <td id=\"T_ef3aa_row19_col7\" class=\"data row19 col7\" >705,000.00</td>\n",
       "      <td id=\"T_ef3aa_row19_col8\" class=\"data row19 col8\" >3.06%</td>\n",
       "      <td id=\"T_ef3aa_row19_col9\" class=\"data row19 col9\" >0</td>\n",
       "    </tr>\n",
       "    <tr>\n",
       "      <th id=\"T_ef3aa_level0_row20\" class=\"row_heading level0 row20\" >20</th>\n",
       "      <td id=\"T_ef3aa_row20_col0\" class=\"data row20 col0\" >TOP</td>\n",
       "      <td id=\"T_ef3aa_row20_col1\" class=\"data row20 col1\" >0.6000</td>\n",
       "      <td id=\"T_ef3aa_row20_col2\" class=\"data row20 col2\" >3,000</td>\n",
       "      <td id=\"T_ef3aa_row20_col3\" class=\"data row20 col3\" >1,800.00</td>\n",
       "      <td id=\"T_ef3aa_row20_col4\" class=\"data row20 col4\" >1,620.00</td>\n",
       "      <td id=\"T_ef3aa_row20_col5\" class=\"data row20 col5\" >2022-09-09</td>\n",
       "      <td id=\"T_ef3aa_row20_col6\" class=\"data row20 col6\" >2022-09-23</td>\n",
       "      <td id=\"T_ef3aa_row20_col7\" class=\"data row20 col7\" >172,500.00</td>\n",
       "      <td id=\"T_ef3aa_row20_col8\" class=\"data row20 col8\" >0.94%</td>\n",
       "      <td id=\"T_ef3aa_row20_col9\" class=\"data row20 col9\" >0</td>\n",
       "    </tr>\n",
       "    <tr>\n",
       "      <th id=\"T_ef3aa_level0_row21\" class=\"row_heading level0 row21\" >21</th>\n",
       "      <td id=\"T_ef3aa_row21_col0\" class=\"data row21 col0\" >TPIPL</td>\n",
       "      <td id=\"T_ef3aa_row21_col1\" class=\"data row21 col1\" >0.0300</td>\n",
       "      <td id=\"T_ef3aa_row21_col2\" class=\"data row21 col2\" >60,000</td>\n",
       "      <td id=\"T_ef3aa_row21_col3\" class=\"data row21 col3\" >1,800.00</td>\n",
       "      <td id=\"T_ef3aa_row21_col4\" class=\"data row21 col4\" >1,620.00</td>\n",
       "      <td id=\"T_ef3aa_row21_col5\" class=\"data row21 col5\" >2022-10-12</td>\n",
       "      <td id=\"T_ef3aa_row21_col6\" class=\"data row21 col6\" >2022-10-28</td>\n",
       "      <td id=\"T_ef3aa_row21_col7\" class=\"data row21 col7\" >102,000.00</td>\n",
       "      <td id=\"T_ef3aa_row21_col8\" class=\"data row21 col8\" >1.59%</td>\n",
       "      <td id=\"T_ef3aa_row21_col9\" class=\"data row21 col9\" >0</td>\n",
       "    </tr>\n",
       "  </tbody>\n",
       "</table>\n"
      ],
      "text/plain": [
       "<pandas.io.formats.style.Styler at 0x1a49c882b50>"
      ]
     },
     "execution_count": 122,
     "metadata": {},
     "output_type": "execute_result"
    }
   ],
   "source": [
    "dividend = pd.read_sql(sql, const)\n",
    "dividend.columns = dividend.columns.str.lower()\n",
    "dividend['shares'] = dividend['shares'].astype('int64')\n",
    "dividend['xdate'] = pd.to_datetime(dividend['xdate'])\n",
    "dividend['paiddate'] = pd.to_datetime(dividend['paiddate'])\n",
    "dividend['amount'] = round(dividend['shares'] * dividend['qtrly'], 2)\n",
    "dividend['net'] = round(dividend['amount'] * 0.9, 2)\n",
    "dividend['pct'] = round(dividend['net'] / dividend['cost_amt'] * 100, 2)\n",
    "dividend[cols].sort_values('xdate',ascending=True).style.format(format_dict)"
   ]
  },
  {
   "cell_type": "code",
   "execution_count": 119,
   "metadata": {},
   "outputs": [
    {
     "data": {
      "text/html": [
       "<style type=\"text/css\">\n",
       "</style>\n",
       "<table id=\"T_59e20_\">\n",
       "  <thead>\n",
       "    <tr>\n",
       "      <th class=\"blank level0\" >&nbsp;</th>\n",
       "      <th class=\"col_heading level0 col0\" >name</th>\n",
       "      <th class=\"col_heading level0 col1\" >q4</th>\n",
       "      <th class=\"col_heading level0 col2\" >q3</th>\n",
       "      <th class=\"col_heading level0 col3\" >q2</th>\n",
       "      <th class=\"col_heading level0 col4\" >q1</th>\n",
       "      <th class=\"col_heading level0 col5\" >dividend</th>\n",
       "      <th class=\"col_heading level0 col6\" >shares</th>\n",
       "      <th class=\"col_heading level0 col7\" >xdate</th>\n",
       "      <th class=\"col_heading level0 col8\" >paiddate</th>\n",
       "      <th class=\"col_heading level0 col9\" >kind</th>\n",
       "      <th class=\"col_heading level0 col10\" >actual</th>\n",
       "    </tr>\n",
       "  </thead>\n",
       "  <tbody>\n",
       "    <tr>\n",
       "      <th id=\"T_59e20_level0_row0\" class=\"row_heading level0 row0\" >0</th>\n",
       "      <td id=\"T_59e20_row0_col0\" class=\"data row0 col0\" >WHART</td>\n",
       "      <td id=\"T_59e20_row0_col1\" class=\"data row0 col1\" >0.1195</td>\n",
       "      <td id=\"T_59e20_row0_col2\" class=\"data row0 col2\" >0.2553</td>\n",
       "      <td id=\"T_59e20_row0_col3\" class=\"data row0 col3\" >0.1915</td>\n",
       "      <td id=\"T_59e20_row0_col4\" class=\"data row0 col4\" >0.1915</td>\n",
       "      <td id=\"T_59e20_row0_col5\" class=\"data row0 col5\" >0.7578</td>\n",
       "      <td id=\"T_59e20_row0_col6\" class=\"data row0 col6\" >30,000</td>\n",
       "      <td id=\"T_59e20_row0_col7\" class=\"data row0 col7\" >2022-08-17</td>\n",
       "      <td id=\"T_59e20_row0_col8\" class=\"data row0 col8\" >2022-09-02</td>\n",
       "      <td id=\"T_59e20_row0_col9\" class=\"data row0 col9\" ></td>\n",
       "      <td id=\"T_59e20_row0_col10\" class=\"data row0 col10\" >0</td>\n",
       "    </tr>\n",
       "  </tbody>\n",
       "</table>\n"
      ],
      "text/plain": [
       "<pandas.io.formats.style.Styler at 0x1a49cc563d0>"
      ]
     },
     "execution_count": 119,
     "metadata": {},
     "output_type": "execute_result"
    }
   ],
   "source": [
    "name = 'WHART'\n",
    "sql = \"\"\"\n",
    "SELECT * FROM DIVIDEND WHERE name = '%s'\"\"\"\n",
    "sql = sql % name\n",
    "dividend = pd.read_sql(sql, const)\n",
    "dividend.drop(['PRICE', 'PERCENT'], axis=1, inplace=True)\n",
    "dividend.columns = dividend.columns.str.lower()\n",
    "dividend['shares'] = dividend['shares'].astype('int64')\n",
    "dividend['xdate'] = pd.to_datetime(dividend['xdate'])\n",
    "dividend['paiddate'] = pd.to_datetime(dividend['paiddate'])\n",
    "dividend.style.format(format_dict)"
   ]
  },
  {
   "cell_type": "code",
   "execution_count": 118,
   "metadata": {},
   "outputs": [
    {
     "data": {
      "text/plain": [
       "'Records updated = 1'"
      ]
     },
     "execution_count": 118,
     "metadata": {},
     "output_type": "execute_result"
    }
   ],
   "source": [
    "q2 = 0.1915\n",
    "XDATE = '2022-08-17'\n",
    "PAIDDATE = '2022-09-02'\n",
    "actual = 0\n",
    "\n",
    "update_dividend1(q2,XDATE,PAIDDATE,actual,name)"
   ]
  },
  {
   "cell_type": "code",
   "execution_count": 123,
   "metadata": {},
   "outputs": [
    {
     "data": {
      "text/plain": [
       "231018.3"
      ]
     },
     "execution_count": 123,
     "metadata": {},
     "output_type": "execute_result"
    }
   ],
   "source": [
    "dividend.net.sum()"
   ]
  },
  {
   "cell_type": "code",
   "execution_count": 124,
   "metadata": {},
   "outputs": [],
   "source": [
    "file_name = 'dividend-q2.xlsx'\n",
    "data_file = data_path + file_name\n",
    "output_file = csv_path + file_name\n",
    "box_file = box_path + file_name\n",
    "one_file = one_path + file_name\n",
    "\n",
    "dividend[cols].sort_values(['name'],ascending=[True]).to_excel(output_file, index=False)\n",
    "dividend[cols].sort_values(['name'],ascending=[True]).to_excel(data_file, index=False)\n",
    "dividend[cols].sort_values(['name'],ascending=[True]).to_excel(box_file, index=False)\n",
    "dividend[cols].sort_values(['name'],ascending=[True]).to_excel(one_file, index=False)"
   ]
  },
  {
   "cell_type": "markdown",
   "metadata": {},
   "source": [
    "### End of output to cloud"
   ]
  }
 ],
 "metadata": {
  "anaconda-cloud": {},
  "kernelspec": {
   "display_name": "Python 3 (ipykernel)",
   "language": "python",
   "name": "python3"
  },
  "language_info": {
   "codemirror_mode": {
    "name": "ipython",
    "version": 3
   },
   "file_extension": ".py",
   "mimetype": "text/x-python",
   "name": "python",
   "nbconvert_exporter": "python",
   "pygments_lexer": "ipython3",
   "version": "3.8.11"
  }
 },
 "nbformat": 4,
 "nbformat_minor": 1
}
