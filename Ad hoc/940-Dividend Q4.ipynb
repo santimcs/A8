{
 "cells": [
  {
   "cell_type": "code",
   "execution_count": 1,
   "metadata": {},
   "outputs": [
    {
     "data": {
      "text/plain": [
       "(datetime.date(2022, 2, 28), datetime.date(2022, 2, 27))"
      ]
     },
     "execution_count": 1,
     "metadata": {},
     "output_type": "execute_result"
    }
   ],
   "source": [
    "import pandas as pd\n",
    "from sqlalchemy import create_engine\n",
    "from datetime import date, timedelta\n",
    "import calendar\n",
    "\n",
    "engine = create_engine(\"mysql+pymysql://root:@localhost:3306/stock\")\n",
    "const = engine.connect()\n",
    "\n",
    "data_path = \"../data/\"\n",
    "csv_path = \"\\\\Users\\\\User\\\\iCloudDrive\\\\\"\n",
    "box_path = \"\\\\Users\\\\User\\\\Dropbox\\\\\"\n",
    "one_path = \"\\\\Users\\\\User\\\\OneDrive\\\\Documents\\\\Data\\\\\"\n",
    "\n",
    "today = date.today()\n",
    "yesterday = today - timedelta(days=1)\n",
    "today, yesterday"
   ]
  },
  {
   "cell_type": "code",
   "execution_count": 2,
   "metadata": {},
   "outputs": [
    {
     "data": {
      "text/plain": [
       "datetime.date(2022, 2, 25)"
      ]
     },
     "execution_count": 2,
     "metadata": {},
     "output_type": "execute_result"
    }
   ],
   "source": [
    "yesterday = today - timedelta(days=3)\n",
    "yesterday"
   ]
  },
  {
   "cell_type": "code",
   "execution_count": 3,
   "metadata": {},
   "outputs": [],
   "source": [
    "format_dict = {    \n",
    "    'shares':'{:,}',    \n",
    "    'q4':'{:.4f}','q3':'{:.4f}','q2':'{:.4f}','q1':'{:.4f}','dividend':'{:.4f}','qtrly':'{:.4f}',\n",
    "    'price':'{:.2f}',    \n",
    "    'amount':'{:,.2f}','net':'{:,.2f}','cost_amt':'{:,.2f}',\n",
    "    'yield':'{:,.2f}%','pct':'{:,.2f}%',\n",
    "    'xdate':'{:%Y-%m-%d}','paiddate':'{:%Y-%m-%d}',\n",
    "              }"
   ]
  },
  {
   "cell_type": "markdown",
   "metadata": {},
   "source": [
    "### New dividend stock"
   ]
  },
  {
   "cell_type": "code",
   "execution_count": 22,
   "metadata": {},
   "outputs": [
    {
     "data": {
      "text/html": [
       "<style type=\"text/css\">\n",
       "</style>\n",
       "<table id=\"T_4d4f0_\">\n",
       "  <thead>\n",
       "    <tr>\n",
       "      <th class=\"blank level0\" >&nbsp;</th>\n",
       "      <th class=\"col_heading level0 col0\" >name</th>\n",
       "      <th class=\"col_heading level0 col1\" >q4</th>\n",
       "      <th class=\"col_heading level0 col2\" >q3</th>\n",
       "      <th class=\"col_heading level0 col3\" >q2</th>\n",
       "      <th class=\"col_heading level0 col4\" >q1</th>\n",
       "      <th class=\"col_heading level0 col5\" >dividend</th>\n",
       "      <th class=\"col_heading level0 col6\" >shares</th>\n",
       "      <th class=\"col_heading level0 col7\" >xdate</th>\n",
       "      <th class=\"col_heading level0 col8\" >paiddate</th>\n",
       "      <th class=\"col_heading level0 col9\" >kind</th>\n",
       "      <th class=\"col_heading level0 col10\" >actual</th>\n",
       "    </tr>\n",
       "  </thead>\n",
       "  <tbody>\n",
       "  </tbody>\n",
       "</table>\n"
      ],
      "text/plain": [
       "<pandas.io.formats.style.Styler at 0x198f869e760>"
      ]
     },
     "execution_count": 22,
     "metadata": {},
     "output_type": "execute_result"
    }
   ],
   "source": [
    "name = 'TU'\n",
    "sql = \"\"\"\n",
    "SELECT * \n",
    "FROM DIVIDEND\n",
    "WHERE name = '%s'\n",
    "\"\"\"\n",
    "sql = sql % name\n",
    "dividend = pd.read_sql(sql, const)\n",
    "dividend.drop(['PRICE', 'PERCENT'], axis=1, inplace=True)\n",
    "dividend.columns = dividend.columns.str.lower()\n",
    "dividend['shares'] = dividend['shares'].astype('int64')\n",
    "dividend['xdate'] = pd.to_datetime(dividend['xdate'])\n",
    "dividend['paiddate'] = pd.to_datetime(dividend['paiddate'])\n",
    "dividend.style.format(format_dict)"
   ]
  },
  {
   "cell_type": "code",
   "execution_count": 23,
   "metadata": {},
   "outputs": [
    {
     "data": {
      "text/plain": [
       "1"
      ]
     },
     "execution_count": 23,
     "metadata": {},
     "output_type": "execute_result"
    }
   ],
   "source": [
    "sqlIns = \"\"\"\n",
    "INSERT INTO dividend\n",
    "VALUES('TU',0.50,0,0.45,0,0.95,0,0,000,'2022-03-09','2022-04-20','',1)\n",
    "\"\"\"\n",
    "rp = const.execute(sqlIns)\n",
    "rp.rowcount"
   ]
  },
  {
   "cell_type": "markdown",
   "metadata": {},
   "source": [
    "### Start of Update dividend"
   ]
  },
  {
   "cell_type": "code",
   "execution_count": 4,
   "metadata": {},
   "outputs": [],
   "source": [
    "def update_dividend1(q4,XDATE,PAIDDATE,actual,name):\n",
    "    sql = \"UPDATE dividend SET q4 = %s, dividend = q1+q2+q3+q4, XDATE = '%s', PAIDDATE = '%s', actual = %s WHERE name = '%s'\"\n",
    "    sql = sql % (q4,XDATE, PAIDDATE, actual,name)\n",
    "    rp = const.execute(sql)\n",
    "    return \"Records updated = \" + str(rp.rowcount)"
   ]
  },
  {
   "cell_type": "code",
   "execution_count": 7,
   "metadata": {
    "scrolled": true
   },
   "outputs": [
    {
     "data": {
      "text/html": [
       "<style type=\"text/css\">\n",
       "</style>\n",
       "<table id=\"T_08e28_\">\n",
       "  <thead>\n",
       "    <tr>\n",
       "      <th class=\"blank level0\" >&nbsp;</th>\n",
       "      <th class=\"col_heading level0 col0\" >name</th>\n",
       "      <th class=\"col_heading level0 col1\" >q4</th>\n",
       "      <th class=\"col_heading level0 col2\" >q3</th>\n",
       "      <th class=\"col_heading level0 col3\" >q2</th>\n",
       "      <th class=\"col_heading level0 col4\" >q1</th>\n",
       "      <th class=\"col_heading level0 col5\" >dividend</th>\n",
       "      <th class=\"col_heading level0 col6\" >shares</th>\n",
       "      <th class=\"col_heading level0 col7\" >xdate</th>\n",
       "      <th class=\"col_heading level0 col8\" >paiddate</th>\n",
       "      <th class=\"col_heading level0 col9\" >kind</th>\n",
       "      <th class=\"col_heading level0 col10\" >actual</th>\n",
       "    </tr>\n",
       "  </thead>\n",
       "  <tbody>\n",
       "    <tr>\n",
       "      <th id=\"T_08e28_level0_row0\" class=\"row_heading level0 row0\" >0</th>\n",
       "      <td id=\"T_08e28_row0_col0\" class=\"data row0 col0\" >MCS</td>\n",
       "      <td id=\"T_08e28_row0_col1\" class=\"data row0 col1\" >0.6000</td>\n",
       "      <td id=\"T_08e28_row0_col2\" class=\"data row0 col2\" >0.3700</td>\n",
       "      <td id=\"T_08e28_row0_col3\" class=\"data row0 col3\" >0.4000</td>\n",
       "      <td id=\"T_08e28_row0_col4\" class=\"data row0 col4\" >0.0000</td>\n",
       "      <td id=\"T_08e28_row0_col5\" class=\"data row0 col5\" >1.3700</td>\n",
       "      <td id=\"T_08e28_row0_col6\" class=\"data row0 col6\" >50,000</td>\n",
       "      <td id=\"T_08e28_row0_col7\" class=\"data row0 col7\" >2022-03-15</td>\n",
       "      <td id=\"T_08e28_row0_col8\" class=\"data row0 col8\" >2021-12-09</td>\n",
       "      <td id=\"T_08e28_row0_col9\" class=\"data row0 col9\" >None</td>\n",
       "      <td id=\"T_08e28_row0_col10\" class=\"data row0 col10\" >0</td>\n",
       "    </tr>\n",
       "  </tbody>\n",
       "</table>\n"
      ],
      "text/plain": [
       "<pandas.io.formats.style.Styler at 0x20c31000df0>"
      ]
     },
     "execution_count": 7,
     "metadata": {},
     "output_type": "execute_result"
    }
   ],
   "source": [
    "name = 'MCS'\n",
    "sql = \"\"\"\n",
    "SELECT * FROM DIVIDEND WHERE name = '%s'\"\"\"\n",
    "sql = sql % name\n",
    "dividend = pd.read_sql(sql, const)\n",
    "dividend.drop(['PRICE', 'PERCENT'], axis=1, inplace=True)\n",
    "dividend.columns = dividend.columns.str.lower()\n",
    "dividend['shares'] = dividend['shares'].astype('int64')\n",
    "dividend['xdate'] = pd.to_datetime(dividend['xdate'])\n",
    "dividend['paiddate'] = pd.to_datetime(dividend['paiddate'])\n",
    "dividend.style.format(format_dict)"
   ]
  },
  {
   "cell_type": "code",
   "execution_count": 8,
   "metadata": {},
   "outputs": [
    {
     "data": {
      "text/plain": [
       "'Records updated = 1'"
      ]
     },
     "execution_count": 8,
     "metadata": {},
     "output_type": "execute_result"
    }
   ],
   "source": [
    "q4 = 0.50\n",
    "XDATE = '2022-03-15'\n",
    "PAIDDATE = '2022-05-05'\n",
    "actual = 1\n",
    "\n",
    "update_dividend1(q4,XDATE,PAIDDATE,actual,name)"
   ]
  },
  {
   "cell_type": "code",
   "execution_count": 4,
   "metadata": {},
   "outputs": [],
   "source": [
    "def update_dividend2(shares,q4,actual,name):\n",
    "    sql = \"UPDATE dividend SET shares = %s, q4 = %s, dividend=q1+q2+q3+q4, actual = %s WHERE name = '%s'\"\n",
    "    sql = sql % (shares, q4, actual, name)\n",
    "    rp = const.execute(sql)\n",
    "    return \"Records updated = \" + str(rp.rowcount)"
   ]
  },
  {
   "cell_type": "code",
   "execution_count": 8,
   "metadata": {},
   "outputs": [
    {
     "data": {
      "text/html": [
       "<style type=\"text/css\">\n",
       "</style>\n",
       "<table id=\"T_0afd2_\">\n",
       "  <thead>\n",
       "    <tr>\n",
       "      <th class=\"blank level0\" >&nbsp;</th>\n",
       "      <th class=\"col_heading level0 col0\" >name</th>\n",
       "      <th class=\"col_heading level0 col1\" >q4</th>\n",
       "      <th class=\"col_heading level0 col2\" >q3</th>\n",
       "      <th class=\"col_heading level0 col3\" >q2</th>\n",
       "      <th class=\"col_heading level0 col4\" >q1</th>\n",
       "      <th class=\"col_heading level0 col5\" >dividend</th>\n",
       "      <th class=\"col_heading level0 col6\" >shares</th>\n",
       "      <th class=\"col_heading level0 col7\" >xdate</th>\n",
       "      <th class=\"col_heading level0 col8\" >paiddate</th>\n",
       "      <th class=\"col_heading level0 col9\" >kind</th>\n",
       "      <th class=\"col_heading level0 col10\" >actual</th>\n",
       "    </tr>\n",
       "  </thead>\n",
       "  <tbody>\n",
       "    <tr>\n",
       "      <th id=\"T_0afd2_level0_row0\" class=\"row_heading level0 row0\" >0</th>\n",
       "      <td id=\"T_0afd2_row0_col0\" class=\"data row0 col0\" >DTAC</td>\n",
       "      <td id=\"T_0afd2_row0_col1\" class=\"data row0 col1\" >1.0500</td>\n",
       "      <td id=\"T_0afd2_row0_col2\" class=\"data row0 col2\" >0.0000</td>\n",
       "      <td id=\"T_0afd2_row0_col3\" class=\"data row0 col3\" >1.0500</td>\n",
       "      <td id=\"T_0afd2_row0_col4\" class=\"data row0 col4\" >0.0000</td>\n",
       "      <td id=\"T_0afd2_row0_col5\" class=\"data row0 col5\" >2.1000</td>\n",
       "      <td id=\"T_0afd2_row0_col6\" class=\"data row0 col6\" >0</td>\n",
       "      <td id=\"T_0afd2_row0_col7\" class=\"data row0 col7\" >2022-02-11</td>\n",
       "      <td id=\"T_0afd2_row0_col8\" class=\"data row0 col8\" >2022-04-22</td>\n",
       "      <td id=\"T_0afd2_row0_col9\" class=\"data row0 col9\" ></td>\n",
       "      <td id=\"T_0afd2_row0_col10\" class=\"data row0 col10\" >1</td>\n",
       "    </tr>\n",
       "  </tbody>\n",
       "</table>\n"
      ],
      "text/plain": [
       "<pandas.io.formats.style.Styler at 0x208caaa5700>"
      ]
     },
     "execution_count": 8,
     "metadata": {},
     "output_type": "execute_result"
    }
   ],
   "source": [
    "name = 'DTAC'\n",
    "sql = \"\"\"\n",
    "SELECT * \n",
    "FROM DIVIDEND\n",
    "WHERE name = '%s'\n",
    "\"\"\"\n",
    "sql = sql % name\n",
    "dividend = pd.read_sql(sql, const)\n",
    "dividend.drop(['PRICE', 'PERCENT'], axis=1, inplace=True)\n",
    "dividend.columns = dividend.columns.str.lower()\n",
    "dividend['shares'] = dividend['shares'].astype('int64')\n",
    "dividend['xdate'] = pd.to_datetime(dividend['xdate'])\n",
    "dividend['paiddate'] = pd.to_datetime(dividend['paiddate'])\n",
    "dividend.style.format(format_dict)"
   ]
  },
  {
   "cell_type": "code",
   "execution_count": 9,
   "metadata": {},
   "outputs": [],
   "source": [
    "shares = 0000\n",
    "q4 = 1.05\n",
    "actual = 0"
   ]
  },
  {
   "cell_type": "code",
   "execution_count": 10,
   "metadata": {},
   "outputs": [
    {
     "data": {
      "text/plain": [
       "'Records updated = 1'"
      ]
     },
     "execution_count": 10,
     "metadata": {},
     "output_type": "execute_result"
    }
   ],
   "source": [
    "update_dividend2(shares,q4,actual,name)"
   ]
  },
  {
   "cell_type": "markdown",
   "metadata": {},
   "source": [
    "### Toggle actual status"
   ]
  },
  {
   "cell_type": "code",
   "execution_count": 6,
   "metadata": {},
   "outputs": [
    {
     "data": {
      "text/plain": [
       "1"
      ]
     },
     "execution_count": 6,
     "metadata": {},
     "output_type": "execute_result"
    }
   ],
   "source": [
    "name = 'PTL'\n",
    "actual = 0\n",
    "sqlUpd = \"UPDATE dividend SET actual = %s WHERE name = '%s'\"\n",
    "sqlUpd = sqlUpd % (actual, name)\n",
    "rp = const.execute(sqlUpd)\n",
    "rp.rowcount"
   ]
  },
  {
   "cell_type": "markdown",
   "metadata": {},
   "source": [
    "### Delete dividend record"
   ]
  },
  {
   "cell_type": "code",
   "execution_count": 20,
   "metadata": {},
   "outputs": [
    {
     "data": {
      "text/plain": [
       "1"
      ]
     },
     "execution_count": 20,
     "metadata": {},
     "output_type": "execute_result"
    }
   ],
   "source": [
    "sqlDel = '''\n",
    "DELETE FROM dividend\n",
    "WHERE name IN (\"MAKRO\",\"TIPH\",\"PRM\",\"BCP\",\"DTAC\")\n",
    "'''\n",
    "rp = const.execute(sqlDel)\n",
    "rp.rowcount"
   ]
  },
  {
   "cell_type": "markdown",
   "metadata": {},
   "source": [
    "### Start of output to cloud"
   ]
  },
  {
   "cell_type": "code",
   "execution_count": 25,
   "metadata": {
    "scrolled": true
   },
   "outputs": [
    {
     "name": "stdout",
     "output_type": "stream",
     "text": [
      "\n",
      "SELECT Y.NAME AS name,  Q4 AS qtrly, SHARES, XDATE, PAIDDATE, \n",
      "P.price AS price, Y.DIVIDEND, ACTUAL, B.price * B.volbuy AS cost_amt\n",
      "FROM dividend AS Y, price AS P, buy AS B\n",
      "WHERE Y.name = P.name \n",
      "AND Y.name = B.name \n",
      "AND Q4 > 0 \n",
      "AND P.date = '2022-02-14'\n",
      "ORDER BY name\n",
      "\n"
     ]
    }
   ],
   "source": [
    "sql = \"\"\"\n",
    "SELECT Y.NAME AS name,  Q4 AS qtrly, SHARES, XDATE, PAIDDATE, \n",
    "P.price AS price, Y.DIVIDEND, ACTUAL, B.price * B.volbuy AS cost_amt\n",
    "FROM dividend AS Y, price AS P, buy AS B\n",
    "WHERE Y.name = P.name \n",
    "AND Y.name = B.name \n",
    "AND Q4 > 0 \n",
    "AND P.date = '%s'\n",
    "ORDER BY name\n",
    "\"\"\"\n",
    "sql = sql % yesterday \n",
    "print(sql)"
   ]
  },
  {
   "cell_type": "code",
   "execution_count": 26,
   "metadata": {},
   "outputs": [],
   "source": [
    "cols = 'name qtrly shares amount net xdate paiddate cost_amt pct actual'.split()"
   ]
  },
  {
   "cell_type": "code",
   "execution_count": 31,
   "metadata": {},
   "outputs": [
    {
     "data": {
      "text/html": [
       "<style type=\"text/css\">\n",
       "</style>\n",
       "<table id=\"T_3730a_\">\n",
       "  <thead>\n",
       "    <tr>\n",
       "      <th class=\"blank level0\" >&nbsp;</th>\n",
       "      <th class=\"col_heading level0 col0\" >name</th>\n",
       "      <th class=\"col_heading level0 col1\" >qtrly</th>\n",
       "      <th class=\"col_heading level0 col2\" >shares</th>\n",
       "      <th class=\"col_heading level0 col3\" >amount</th>\n",
       "      <th class=\"col_heading level0 col4\" >net</th>\n",
       "      <th class=\"col_heading level0 col5\" >xdate</th>\n",
       "      <th class=\"col_heading level0 col6\" >paiddate</th>\n",
       "      <th class=\"col_heading level0 col7\" >cost_amt</th>\n",
       "      <th class=\"col_heading level0 col8\" >pct</th>\n",
       "      <th class=\"col_heading level0 col9\" >actual</th>\n",
       "    </tr>\n",
       "  </thead>\n",
       "  <tbody>\n",
       "    <tr>\n",
       "      <th id=\"T_3730a_level0_row0\" class=\"row_heading level0 row0\" >0</th>\n",
       "      <td id=\"T_3730a_row0_col0\" class=\"data row0 col0\" >BCH</td>\n",
       "      <td id=\"T_3730a_row0_col1\" class=\"data row0 col1\" >0.1300</td>\n",
       "      <td id=\"T_3730a_row0_col2\" class=\"data row0 col2\" >15,000</td>\n",
       "      <td id=\"T_3730a_row0_col3\" class=\"data row0 col3\" >1,950.00</td>\n",
       "      <td id=\"T_3730a_row0_col4\" class=\"data row0 col4\" >1,755.00</td>\n",
       "      <td id=\"T_3730a_row0_col5\" class=\"data row0 col5\" >2021-09-15</td>\n",
       "      <td id=\"T_3730a_row0_col6\" class=\"data row0 col6\" >2021-09-15</td>\n",
       "      <td id=\"T_3730a_row0_col7\" class=\"data row0 col7\" >319,500.00</td>\n",
       "      <td id=\"T_3730a_row0_col8\" class=\"data row0 col8\" >0.55%</td>\n",
       "      <td id=\"T_3730a_row0_col9\" class=\"data row0 col9\" >0</td>\n",
       "    </tr>\n",
       "    <tr>\n",
       "      <th id=\"T_3730a_level0_row1\" class=\"row_heading level0 row1\" >1</th>\n",
       "      <td id=\"T_3730a_row1_col0\" class=\"data row1 col0\" >BGRIM</td>\n",
       "      <td id=\"T_3730a_row1_col1\" class=\"data row1 col1\" >0.3000</td>\n",
       "      <td id=\"T_3730a_row1_col2\" class=\"data row1 col2\" >9,000</td>\n",
       "      <td id=\"T_3730a_row1_col3\" class=\"data row1 col3\" >2,700.00</td>\n",
       "      <td id=\"T_3730a_row1_col4\" class=\"data row1 col4\" >2,430.00</td>\n",
       "      <td id=\"T_3730a_row1_col5\" class=\"data row1 col5\" >2021-05-11</td>\n",
       "      <td id=\"T_3730a_row1_col6\" class=\"data row1 col6\" >2021-05-11</td>\n",
       "      <td id=\"T_3730a_row1_col7\" class=\"data row1 col7\" >360,000.00</td>\n",
       "      <td id=\"T_3730a_row1_col8\" class=\"data row1 col8\" >0.68%</td>\n",
       "      <td id=\"T_3730a_row1_col9\" class=\"data row1 col9\" >0</td>\n",
       "    </tr>\n",
       "    <tr>\n",
       "      <th id=\"T_3730a_level0_row2\" class=\"row_heading level0 row2\" >2</th>\n",
       "      <td id=\"T_3730a_row2_col0\" class=\"data row2 col0\" >CKP</td>\n",
       "      <td id=\"T_3730a_row2_col1\" class=\"data row2 col1\" >0.0350</td>\n",
       "      <td id=\"T_3730a_row2_col2\" class=\"data row2 col2\" >20,000</td>\n",
       "      <td id=\"T_3730a_row2_col3\" class=\"data row2 col3\" >700.00</td>\n",
       "      <td id=\"T_3730a_row2_col4\" class=\"data row2 col4\" >630.00</td>\n",
       "      <td id=\"T_3730a_row2_col5\" class=\"data row2 col5\" >2022-05-20</td>\n",
       "      <td id=\"T_3730a_row2_col6\" class=\"data row2 col6\" >2022-05-20</td>\n",
       "      <td id=\"T_3730a_row2_col7\" class=\"data row2 col7\" >100,000.00</td>\n",
       "      <td id=\"T_3730a_row2_col8\" class=\"data row2 col8\" >0.63%</td>\n",
       "      <td id=\"T_3730a_row2_col9\" class=\"data row2 col9\" >0</td>\n",
       "    </tr>\n",
       "    <tr>\n",
       "      <th id=\"T_3730a_level0_row3\" class=\"row_heading level0 row3\" >3</th>\n",
       "      <td id=\"T_3730a_row3_col0\" class=\"data row3 col0\" >CPNCG</td>\n",
       "      <td id=\"T_3730a_row3_col1\" class=\"data row3 col1\" >0.2222</td>\n",
       "      <td id=\"T_3730a_row3_col2\" class=\"data row3 col2\" >10,000</td>\n",
       "      <td id=\"T_3730a_row3_col3\" class=\"data row3 col3\" >2,222.00</td>\n",
       "      <td id=\"T_3730a_row3_col4\" class=\"data row3 col4\" >1,999.80</td>\n",
       "      <td id=\"T_3730a_row3_col5\" class=\"data row3 col5\" >2022-02-14</td>\n",
       "      <td id=\"T_3730a_row3_col6\" class=\"data row3 col6\" >2022-03-04</td>\n",
       "      <td id=\"T_3730a_row3_col7\" class=\"data row3 col7\" >125,000.00</td>\n",
       "      <td id=\"T_3730a_row3_col8\" class=\"data row3 col8\" >1.60%</td>\n",
       "      <td id=\"T_3730a_row3_col9\" class=\"data row3 col9\" >1</td>\n",
       "    </tr>\n",
       "    <tr>\n",
       "      <th id=\"T_3730a_level0_row4\" class=\"row_heading level0 row4\" >4</th>\n",
       "      <td id=\"T_3730a_row4_col0\" class=\"data row4 col0\" >DIF</td>\n",
       "      <td id=\"T_3730a_row4_col1\" class=\"data row4 col1\" >0.2610</td>\n",
       "      <td id=\"T_3730a_row4_col2\" class=\"data row4 col2\" >60,000</td>\n",
       "      <td id=\"T_3730a_row4_col3\" class=\"data row4 col3\" >15,660.00</td>\n",
       "      <td id=\"T_3730a_row4_col4\" class=\"data row4 col4\" >14,094.00</td>\n",
       "      <td id=\"T_3730a_row4_col5\" class=\"data row4 col5\" >2022-02-10</td>\n",
       "      <td id=\"T_3730a_row4_col6\" class=\"data row4 col6\" >2022-03-04</td>\n",
       "      <td id=\"T_3730a_row4_col7\" class=\"data row4 col7\" >882,000.00</td>\n",
       "      <td id=\"T_3730a_row4_col8\" class=\"data row4 col8\" >1.60%</td>\n",
       "      <td id=\"T_3730a_row4_col9\" class=\"data row4 col9\" >0</td>\n",
       "    </tr>\n",
       "    <tr>\n",
       "      <th id=\"T_3730a_level0_row5\" class=\"row_heading level0 row5\" >5</th>\n",
       "      <td id=\"T_3730a_row5_col0\" class=\"data row5 col0\" >DOHOME</td>\n",
       "      <td id=\"T_3730a_row5_col1\" class=\"data row5 col1\" >0.1000</td>\n",
       "      <td id=\"T_3730a_row5_col2\" class=\"data row5 col2\" >12,000</td>\n",
       "      <td id=\"T_3730a_row5_col3\" class=\"data row5 col3\" >1,200.00</td>\n",
       "      <td id=\"T_3730a_row5_col4\" class=\"data row5 col4\" >1,080.00</td>\n",
       "      <td id=\"T_3730a_row5_col5\" class=\"data row5 col5\" >2021-05-21</td>\n",
       "      <td id=\"T_3730a_row5_col6\" class=\"data row5 col6\" >2021-05-21</td>\n",
       "      <td id=\"T_3730a_row5_col7\" class=\"data row5 col7\" >291,600.00</td>\n",
       "      <td id=\"T_3730a_row5_col8\" class=\"data row5 col8\" >0.37%</td>\n",
       "      <td id=\"T_3730a_row5_col9\" class=\"data row5 col9\" >0</td>\n",
       "    </tr>\n",
       "    <tr>\n",
       "      <th id=\"T_3730a_level0_row6\" class=\"row_heading level0 row6\" >6</th>\n",
       "      <td id=\"T_3730a_row6_col0\" class=\"data row6 col0\" >HREIT</td>\n",
       "      <td id=\"T_3730a_row6_col1\" class=\"data row6 col1\" >0.1718</td>\n",
       "      <td id=\"T_3730a_row6_col2\" class=\"data row6 col2\" >30,000</td>\n",
       "      <td id=\"T_3730a_row6_col3\" class=\"data row6 col3\" >5,154.00</td>\n",
       "      <td id=\"T_3730a_row6_col4\" class=\"data row6 col4\" >4,638.60</td>\n",
       "      <td id=\"T_3730a_row6_col5\" class=\"data row6 col5\" >2022-03-01</td>\n",
       "      <td id=\"T_3730a_row6_col6\" class=\"data row6 col6\" >2021-12-23</td>\n",
       "      <td id=\"T_3730a_row6_col7\" class=\"data row6 col7\" >268,500.00</td>\n",
       "      <td id=\"T_3730a_row6_col8\" class=\"data row6 col8\" >1.73%</td>\n",
       "      <td id=\"T_3730a_row6_col9\" class=\"data row6 col9\" >0</td>\n",
       "    </tr>\n",
       "    <tr>\n",
       "      <th id=\"T_3730a_level0_row7\" class=\"row_heading level0 row7\" >7</th>\n",
       "      <td id=\"T_3730a_row7_col0\" class=\"data row7 col0\" >IP</td>\n",
       "      <td id=\"T_3730a_row7_col1\" class=\"data row7 col1\" >0.1850</td>\n",
       "      <td id=\"T_3730a_row7_col2\" class=\"data row7 col2\" >7,500</td>\n",
       "      <td id=\"T_3730a_row7_col3\" class=\"data row7 col3\" >1,387.50</td>\n",
       "      <td id=\"T_3730a_row7_col4\" class=\"data row7 col4\" >1,248.75</td>\n",
       "      <td id=\"T_3730a_row7_col5\" class=\"data row7 col5\" >2022-04-27</td>\n",
       "      <td id=\"T_3730a_row7_col6\" class=\"data row7 col6\" >2022-04-27</td>\n",
       "      <td id=\"T_3730a_row7_col7\" class=\"data row7 col7\" >151,500.00</td>\n",
       "      <td id=\"T_3730a_row7_col8\" class=\"data row7 col8\" >0.82%</td>\n",
       "      <td id=\"T_3730a_row7_col9\" class=\"data row7 col9\" >0</td>\n",
       "    </tr>\n",
       "    <tr>\n",
       "      <th id=\"T_3730a_level0_row8\" class=\"row_heading level0 row8\" >8</th>\n",
       "      <td id=\"T_3730a_row8_col0\" class=\"data row8 col0\" >IVL</td>\n",
       "      <td id=\"T_3730a_row8_col1\" class=\"data row8 col1\" >0.2500</td>\n",
       "      <td id=\"T_3730a_row8_col2\" class=\"data row8 col2\" >4,800</td>\n",
       "      <td id=\"T_3730a_row8_col3\" class=\"data row8 col3\" >1,200.00</td>\n",
       "      <td id=\"T_3730a_row8_col4\" class=\"data row8 col4\" >1,080.00</td>\n",
       "      <td id=\"T_3730a_row8_col5\" class=\"data row8 col5\" >2022-05-06</td>\n",
       "      <td id=\"T_3730a_row8_col6\" class=\"data row8 col6\" >2021-12-09</td>\n",
       "      <td id=\"T_3730a_row8_col7\" class=\"data row8 col7\" >201,600.00</td>\n",
       "      <td id=\"T_3730a_row8_col8\" class=\"data row8 col8\" >0.54%</td>\n",
       "      <td id=\"T_3730a_row8_col9\" class=\"data row8 col9\" >0</td>\n",
       "    </tr>\n",
       "    <tr>\n",
       "      <th id=\"T_3730a_level0_row9\" class=\"row_heading level0 row9\" >9</th>\n",
       "      <td id=\"T_3730a_row9_col0\" class=\"data row9 col0\" >JASIF</td>\n",
       "      <td id=\"T_3730a_row9_col1\" class=\"data row9 col1\" >0.2500</td>\n",
       "      <td id=\"T_3730a_row9_col2\" class=\"data row9 col2\" >100,000</td>\n",
       "      <td id=\"T_3730a_row9_col3\" class=\"data row9 col3\" >25,000.00</td>\n",
       "      <td id=\"T_3730a_row9_col4\" class=\"data row9 col4\" >22,500.00</td>\n",
       "      <td id=\"T_3730a_row9_col5\" class=\"data row9 col5\" >2022-02-24</td>\n",
       "      <td id=\"T_3730a_row9_col6\" class=\"data row9 col6\" >2021-12-08</td>\n",
       "      <td id=\"T_3730a_row9_col7\" class=\"data row9 col7\" >1,000,000.00</td>\n",
       "      <td id=\"T_3730a_row9_col8\" class=\"data row9 col8\" >2.25%</td>\n",
       "      <td id=\"T_3730a_row9_col9\" class=\"data row9 col9\" >0</td>\n",
       "    </tr>\n",
       "    <tr>\n",
       "      <th id=\"T_3730a_level0_row10\" class=\"row_heading level0 row10\" >10</th>\n",
       "      <td id=\"T_3730a_row10_col0\" class=\"data row10 col0\" >KCE</td>\n",
       "      <td id=\"T_3730a_row10_col1\" class=\"data row10 col1\" >0.4000</td>\n",
       "      <td id=\"T_3730a_row10_col2\" class=\"data row10 col2\" >10,000</td>\n",
       "      <td id=\"T_3730a_row10_col3\" class=\"data row10 col3\" >4,000.00</td>\n",
       "      <td id=\"T_3730a_row10_col4\" class=\"data row10 col4\" >3,600.00</td>\n",
       "      <td id=\"T_3730a_row10_col5\" class=\"data row10 col5\" >2022-03-22</td>\n",
       "      <td id=\"T_3730a_row10_col6\" class=\"data row10 col6\" >2022-05-07</td>\n",
       "      <td id=\"T_3730a_row10_col7\" class=\"data row10 col7\" >772,500.00</td>\n",
       "      <td id=\"T_3730a_row10_col8\" class=\"data row10 col8\" >0.47%</td>\n",
       "      <td id=\"T_3730a_row10_col9\" class=\"data row10 col9\" >0</td>\n",
       "    </tr>\n",
       "    <tr>\n",
       "      <th id=\"T_3730a_level0_row11\" class=\"row_heading level0 row11\" >11</th>\n",
       "      <td id=\"T_3730a_row11_col0\" class=\"data row11 col0\" >LPF</td>\n",
       "      <td id=\"T_3730a_row11_col1\" class=\"data row11 col1\" >0.1719</td>\n",
       "      <td id=\"T_3730a_row11_col2\" class=\"data row11 col2\" >10,000</td>\n",
       "      <td id=\"T_3730a_row11_col3\" class=\"data row11 col3\" >1,719.00</td>\n",
       "      <td id=\"T_3730a_row11_col4\" class=\"data row11 col4\" >1,547.10</td>\n",
       "      <td id=\"T_3730a_row11_col5\" class=\"data row11 col5\" >2022-01-28</td>\n",
       "      <td id=\"T_3730a_row11_col6\" class=\"data row11 col6\" >2022-02-15</td>\n",
       "      <td id=\"T_3730a_row11_col7\" class=\"data row11 col7\" >140,000.00</td>\n",
       "      <td id=\"T_3730a_row11_col8\" class=\"data row11 col8\" >1.11%</td>\n",
       "      <td id=\"T_3730a_row11_col9\" class=\"data row11 col9\" >0</td>\n",
       "    </tr>\n",
       "    <tr>\n",
       "      <th id=\"T_3730a_level0_row12\" class=\"row_heading level0 row12\" >12</th>\n",
       "      <td id=\"T_3730a_row12_col0\" class=\"data row12 col0\" >MCS</td>\n",
       "      <td id=\"T_3730a_row12_col1\" class=\"data row12 col1\" >0.6000</td>\n",
       "      <td id=\"T_3730a_row12_col2\" class=\"data row12 col2\" >50,000</td>\n",
       "      <td id=\"T_3730a_row12_col3\" class=\"data row12 col3\" >30,000.00</td>\n",
       "      <td id=\"T_3730a_row12_col4\" class=\"data row12 col4\" >27,000.00</td>\n",
       "      <td id=\"T_3730a_row12_col5\" class=\"data row12 col5\" >2022-03-15</td>\n",
       "      <td id=\"T_3730a_row12_col6\" class=\"data row12 col6\" >2021-12-09</td>\n",
       "      <td id=\"T_3730a_row12_col7\" class=\"data row12 col7\" >835,000.00</td>\n",
       "      <td id=\"T_3730a_row12_col8\" class=\"data row12 col8\" >3.23%</td>\n",
       "      <td id=\"T_3730a_row12_col9\" class=\"data row12 col9\" >0</td>\n",
       "    </tr>\n",
       "    <tr>\n",
       "      <th id=\"T_3730a_level0_row13\" class=\"row_heading level0 row13\" >13</th>\n",
       "      <td id=\"T_3730a_row13_col0\" class=\"data row13 col0\" >NER</td>\n",
       "      <td id=\"T_3730a_row13_col1\" class=\"data row13 col1\" >0.1500</td>\n",
       "      <td id=\"T_3730a_row13_col2\" class=\"data row13 col2\" >27,000</td>\n",
       "      <td id=\"T_3730a_row13_col3\" class=\"data row13 col3\" >4,050.00</td>\n",
       "      <td id=\"T_3730a_row13_col4\" class=\"data row13 col4\" >3,645.00</td>\n",
       "      <td id=\"T_3730a_row13_col5\" class=\"data row13 col5\" >2021-09-06</td>\n",
       "      <td id=\"T_3730a_row13_col6\" class=\"data row13 col6\" >2021-09-06</td>\n",
       "      <td id=\"T_3730a_row13_col7\" class=\"data row13 col7\" >201,150.00</td>\n",
       "      <td id=\"T_3730a_row13_col8\" class=\"data row13 col8\" >1.81%</td>\n",
       "      <td id=\"T_3730a_row13_col9\" class=\"data row13 col9\" >0</td>\n",
       "    </tr>\n",
       "    <tr>\n",
       "      <th id=\"T_3730a_level0_row14\" class=\"row_heading level0 row14\" >14</th>\n",
       "      <td id=\"T_3730a_row14_col0\" class=\"data row14 col0\" >NOBLE</td>\n",
       "      <td id=\"T_3730a_row14_col1\" class=\"data row14 col1\" >0.5000</td>\n",
       "      <td id=\"T_3730a_row14_col2\" class=\"data row14 col2\" >63,000</td>\n",
       "      <td id=\"T_3730a_row14_col3\" class=\"data row14 col3\" >31,500.00</td>\n",
       "      <td id=\"T_3730a_row14_col4\" class=\"data row14 col4\" >28,350.00</td>\n",
       "      <td id=\"T_3730a_row14_col5\" class=\"data row14 col5\" >2022-05-10</td>\n",
       "      <td id=\"T_3730a_row14_col6\" class=\"data row14 col6\" >2021-09-07</td>\n",
       "      <td id=\"T_3730a_row14_col7\" class=\"data row14 col7\" >441,000.00</td>\n",
       "      <td id=\"T_3730a_row14_col8\" class=\"data row14 col8\" >6.43%</td>\n",
       "      <td id=\"T_3730a_row14_col9\" class=\"data row14 col9\" >0</td>\n",
       "    </tr>\n",
       "    <tr>\n",
       "      <th id=\"T_3730a_level0_row15\" class=\"row_heading level0 row15\" >15</th>\n",
       "      <td id=\"T_3730a_row15_col0\" class=\"data row15 col0\" >PTT</td>\n",
       "      <td id=\"T_3730a_row15_col1\" class=\"data row15 col1\" >0.8200</td>\n",
       "      <td id=\"T_3730a_row15_col2\" class=\"data row15 col2\" >9,000</td>\n",
       "      <td id=\"T_3730a_row15_col3\" class=\"data row15 col3\" >7,380.00</td>\n",
       "      <td id=\"T_3730a_row15_col4\" class=\"data row15 col4\" >6,642.00</td>\n",
       "      <td id=\"T_3730a_row15_col5\" class=\"data row15 col5\" >2021-10-15</td>\n",
       "      <td id=\"T_3730a_row15_col6\" class=\"data row15 col6\" >2021-10-15</td>\n",
       "      <td id=\"T_3730a_row15_col7\" class=\"data row15 col7\" >346,500.00</td>\n",
       "      <td id=\"T_3730a_row15_col8\" class=\"data row15 col8\" >1.92%</td>\n",
       "      <td id=\"T_3730a_row15_col9\" class=\"data row15 col9\" >0</td>\n",
       "    </tr>\n",
       "    <tr>\n",
       "      <th id=\"T_3730a_level0_row16\" class=\"row_heading level0 row16\" >16</th>\n",
       "      <td id=\"T_3730a_row16_col0\" class=\"data row16 col0\" >PTTGC</td>\n",
       "      <td id=\"T_3730a_row16_col1\" class=\"data row16 col1\" >1.0000</td>\n",
       "      <td id=\"T_3730a_row16_col2\" class=\"data row16 col2\" >6,000</td>\n",
       "      <td id=\"T_3730a_row16_col3\" class=\"data row16 col3\" >6,000.00</td>\n",
       "      <td id=\"T_3730a_row16_col4\" class=\"data row16 col4\" >5,400.00</td>\n",
       "      <td id=\"T_3730a_row16_col5\" class=\"data row16 col5\" >2022-02-25</td>\n",
       "      <td id=\"T_3730a_row16_col6\" class=\"data row16 col6\" >2021-09-22</td>\n",
       "      <td id=\"T_3730a_row16_col7\" class=\"data row16 col7\" >388,500.00</td>\n",
       "      <td id=\"T_3730a_row16_col8\" class=\"data row16 col8\" >1.39%</td>\n",
       "      <td id=\"T_3730a_row16_col9\" class=\"data row16 col9\" >0</td>\n",
       "    </tr>\n",
       "    <tr>\n",
       "      <th id=\"T_3730a_level0_row17\" class=\"row_heading level0 row17\" >17</th>\n",
       "      <td id=\"T_3730a_row17_col0\" class=\"data row17 col0\" >RATCH</td>\n",
       "      <td id=\"T_3730a_row17_col1\" class=\"data row17 col1\" >1.2500</td>\n",
       "      <td id=\"T_3730a_row17_col2\" class=\"data row17 col2\" >9,000</td>\n",
       "      <td id=\"T_3730a_row17_col3\" class=\"data row17 col3\" >11,250.00</td>\n",
       "      <td id=\"T_3730a_row17_col4\" class=\"data row17 col4\" >10,125.00</td>\n",
       "      <td id=\"T_3730a_row17_col5\" class=\"data row17 col5\" >2022-03-02</td>\n",
       "      <td id=\"T_3730a_row17_col6\" class=\"data row17 col6\" >2021-09-23</td>\n",
       "      <td id=\"T_3730a_row17_col7\" class=\"data row17 col7\" >411,750.00</td>\n",
       "      <td id=\"T_3730a_row17_col8\" class=\"data row17 col8\" >2.46%</td>\n",
       "      <td id=\"T_3730a_row17_col9\" class=\"data row17 col9\" >0</td>\n",
       "    </tr>\n",
       "    <tr>\n",
       "      <th id=\"T_3730a_level0_row18\" class=\"row_heading level0 row18\" >18</th>\n",
       "      <td id=\"T_3730a_row18_col0\" class=\"data row18 col0\" >RCL</td>\n",
       "      <td id=\"T_3730a_row18_col1\" class=\"data row18 col1\" >0.5000</td>\n",
       "      <td id=\"T_3730a_row18_col2\" class=\"data row18 col2\" >4,500</td>\n",
       "      <td id=\"T_3730a_row18_col3\" class=\"data row18 col3\" >2,250.00</td>\n",
       "      <td id=\"T_3730a_row18_col4\" class=\"data row18 col4\" >2,025.00</td>\n",
       "      <td id=\"T_3730a_row18_col5\" class=\"data row18 col5\" >2021-12-03</td>\n",
       "      <td id=\"T_3730a_row18_col6\" class=\"data row18 col6\" >2021-12-03</td>\n",
       "      <td id=\"T_3730a_row18_col7\" class=\"data row18 col7\" >200,250.00</td>\n",
       "      <td id=\"T_3730a_row18_col8\" class=\"data row18 col8\" >1.01%</td>\n",
       "      <td id=\"T_3730a_row18_col9\" class=\"data row18 col9\" >0</td>\n",
       "    </tr>\n",
       "    <tr>\n",
       "      <th id=\"T_3730a_level0_row19\" class=\"row_heading level0 row19\" >19</th>\n",
       "      <td id=\"T_3730a_row19_col0\" class=\"data row19 col0\" >RJH</td>\n",
       "      <td id=\"T_3730a_row19_col1\" class=\"data row19 col1\" >0.2000</td>\n",
       "      <td id=\"T_3730a_row19_col2\" class=\"data row19 col2\" >4,500</td>\n",
       "      <td id=\"T_3730a_row19_col3\" class=\"data row19 col3\" >900.00</td>\n",
       "      <td id=\"T_3730a_row19_col4\" class=\"data row19 col4\" >810.00</td>\n",
       "      <td id=\"T_3730a_row19_col5\" class=\"data row19 col5\" >2021-12-07</td>\n",
       "      <td id=\"T_3730a_row19_col6\" class=\"data row19 col6\" >2021-12-07</td>\n",
       "      <td id=\"T_3730a_row19_col7\" class=\"data row19 col7\" >148,500.00</td>\n",
       "      <td id=\"T_3730a_row19_col8\" class=\"data row19 col8\" >0.55%</td>\n",
       "      <td id=\"T_3730a_row19_col9\" class=\"data row19 col9\" >0</td>\n",
       "    </tr>\n",
       "    <tr>\n",
       "      <th id=\"T_3730a_level0_row20\" class=\"row_heading level0 row20\" >20</th>\n",
       "      <td id=\"T_3730a_row20_col0\" class=\"data row20 col0\" >SCC</td>\n",
       "      <td id=\"T_3730a_row20_col1\" class=\"data row20 col1\" >10.0000</td>\n",
       "      <td id=\"T_3730a_row20_col2\" class=\"data row20 col2\" >900</td>\n",
       "      <td id=\"T_3730a_row20_col3\" class=\"data row20 col3\" >9,000.00</td>\n",
       "      <td id=\"T_3730a_row20_col4\" class=\"data row20 col4\" >8,100.00</td>\n",
       "      <td id=\"T_3730a_row20_col5\" class=\"data row20 col5\" >2022-04-07</td>\n",
       "      <td id=\"T_3730a_row20_col6\" class=\"data row20 col6\" >2022-04-26</td>\n",
       "      <td id=\"T_3730a_row20_col7\" class=\"data row20 col7\" >358,200.00</td>\n",
       "      <td id=\"T_3730a_row20_col8\" class=\"data row20 col8\" >2.26%</td>\n",
       "      <td id=\"T_3730a_row20_col9\" class=\"data row20 col9\" >1</td>\n",
       "    </tr>\n",
       "    <tr>\n",
       "      <th id=\"T_3730a_level0_row21\" class=\"row_heading level0 row21\" >21</th>\n",
       "      <td id=\"T_3730a_row21_col0\" class=\"data row21 col0\" >SINGER</td>\n",
       "      <td id=\"T_3730a_row21_col1\" class=\"data row21 col1\" >0.1500</td>\n",
       "      <td id=\"T_3730a_row21_col2\" class=\"data row21 col2\" >4,500</td>\n",
       "      <td id=\"T_3730a_row21_col3\" class=\"data row21 col3\" >675.00</td>\n",
       "      <td id=\"T_3730a_row21_col4\" class=\"data row21 col4\" >607.50</td>\n",
       "      <td id=\"T_3730a_row21_col5\" class=\"data row21 col5\" >2022-04-30</td>\n",
       "      <td id=\"T_3730a_row21_col6\" class=\"data row21 col6\" >2022-05-22</td>\n",
       "      <td id=\"T_3730a_row21_col7\" class=\"data row21 col7\" >190,125.00</td>\n",
       "      <td id=\"T_3730a_row21_col8\" class=\"data row21 col8\" >0.32%</td>\n",
       "      <td id=\"T_3730a_row21_col9\" class=\"data row21 col9\" >0</td>\n",
       "    </tr>\n",
       "    <tr>\n",
       "      <th id=\"T_3730a_level0_row22\" class=\"row_heading level0 row22\" >22</th>\n",
       "      <td id=\"T_3730a_row22_col0\" class=\"data row22 col0\" >SIS</td>\n",
       "      <td id=\"T_3730a_row22_col1\" class=\"data row22 col1\" >1.0000</td>\n",
       "      <td id=\"T_3730a_row22_col2\" class=\"data row22 col2\" >4,500</td>\n",
       "      <td id=\"T_3730a_row22_col3\" class=\"data row22 col3\" >4,500.00</td>\n",
       "      <td id=\"T_3730a_row22_col4\" class=\"data row22 col4\" >4,050.00</td>\n",
       "      <td id=\"T_3730a_row22_col5\" class=\"data row22 col5\" >2021-05-14</td>\n",
       "      <td id=\"T_3730a_row22_col6\" class=\"data row22 col6\" >2021-05-14</td>\n",
       "      <td id=\"T_3730a_row22_col7\" class=\"data row22 col7\" >182,250.00</td>\n",
       "      <td id=\"T_3730a_row22_col8\" class=\"data row22 col8\" >2.22%</td>\n",
       "      <td id=\"T_3730a_row22_col9\" class=\"data row22 col9\" >0</td>\n",
       "    </tr>\n",
       "    <tr>\n",
       "      <th id=\"T_3730a_level0_row23\" class=\"row_heading level0 row23\" >23</th>\n",
       "      <td id=\"T_3730a_row23_col0\" class=\"data row23 col0\" >STA</td>\n",
       "      <td id=\"T_3730a_row23_col1\" class=\"data row23 col1\" >1.7500</td>\n",
       "      <td id=\"T_3730a_row23_col2\" class=\"data row23 col2\" >20,000</td>\n",
       "      <td id=\"T_3730a_row23_col3\" class=\"data row23 col3\" >35,000.00</td>\n",
       "      <td id=\"T_3730a_row23_col4\" class=\"data row23 col4\" >31,500.00</td>\n",
       "      <td id=\"T_3730a_row23_col5\" class=\"data row23 col5\" >2021-12-08</td>\n",
       "      <td id=\"T_3730a_row23_col6\" class=\"data row23 col6\" >2021-12-08</td>\n",
       "      <td id=\"T_3730a_row23_col7\" class=\"data row23 col7\" >695,000.00</td>\n",
       "      <td id=\"T_3730a_row23_col8\" class=\"data row23 col8\" >4.53%</td>\n",
       "      <td id=\"T_3730a_row23_col9\" class=\"data row23 col9\" >0</td>\n",
       "    </tr>\n",
       "    <tr>\n",
       "      <th id=\"T_3730a_level0_row24\" class=\"row_heading level0 row24\" >24</th>\n",
       "      <td id=\"T_3730a_row24_col0\" class=\"data row24 col0\" >SYNEX</td>\n",
       "      <td id=\"T_3730a_row24_col1\" class=\"data row24 col1\" >0.4000</td>\n",
       "      <td id=\"T_3730a_row24_col2\" class=\"data row24 col2\" >15,000</td>\n",
       "      <td id=\"T_3730a_row24_col3\" class=\"data row24 col3\" >6,000.00</td>\n",
       "      <td id=\"T_3730a_row24_col4\" class=\"data row24 col4\" >5,400.00</td>\n",
       "      <td id=\"T_3730a_row24_col5\" class=\"data row24 col5\" >2021-09-03</td>\n",
       "      <td id=\"T_3730a_row24_col6\" class=\"data row24 col6\" >2021-09-03</td>\n",
       "      <td id=\"T_3730a_row24_col7\" class=\"data row24 col7\" >442,500.00</td>\n",
       "      <td id=\"T_3730a_row24_col8\" class=\"data row24 col8\" >1.22%</td>\n",
       "      <td id=\"T_3730a_row24_col9\" class=\"data row24 col9\" >0</td>\n",
       "    </tr>\n",
       "    <tr>\n",
       "      <th id=\"T_3730a_level0_row25\" class=\"row_heading level0 row25\" >25</th>\n",
       "      <td id=\"T_3730a_row25_col0\" class=\"data row25 col0\" >TISCO</td>\n",
       "      <td id=\"T_3730a_row25_col1\" class=\"data row25 col1\" >6.3000</td>\n",
       "      <td id=\"T_3730a_row25_col2\" class=\"data row25 col2\" >2,000</td>\n",
       "      <td id=\"T_3730a_row25_col3\" class=\"data row25 col3\" >12,600.00</td>\n",
       "      <td id=\"T_3730a_row25_col4\" class=\"data row25 col4\" >11,340.00</td>\n",
       "      <td id=\"T_3730a_row25_col5\" class=\"data row25 col5\" >2022-04-28</td>\n",
       "      <td id=\"T_3730a_row25_col6\" class=\"data row25 col6\" >2021-05-17</td>\n",
       "      <td id=\"T_3730a_row25_col7\" class=\"data row25 col7\" >195,000.00</td>\n",
       "      <td id=\"T_3730a_row25_col8\" class=\"data row25 col8\" >5.82%</td>\n",
       "      <td id=\"T_3730a_row25_col9\" class=\"data row25 col9\" >0</td>\n",
       "    </tr>\n",
       "    <tr>\n",
       "      <th id=\"T_3730a_level0_row26\" class=\"row_heading level0 row26\" >26</th>\n",
       "      <td id=\"T_3730a_row26_col0\" class=\"data row26 col0\" >TMT</td>\n",
       "      <td id=\"T_3730a_row26_col1\" class=\"data row26 col1\" >0.5000</td>\n",
       "      <td id=\"T_3730a_row26_col2\" class=\"data row26 col2\" >27,000</td>\n",
       "      <td id=\"T_3730a_row26_col3\" class=\"data row26 col3\" >13,500.00</td>\n",
       "      <td id=\"T_3730a_row26_col4\" class=\"data row26 col4\" >12,150.00</td>\n",
       "      <td id=\"T_3730a_row26_col5\" class=\"data row26 col5\" >2021-09-10</td>\n",
       "      <td id=\"T_3730a_row26_col6\" class=\"data row26 col6\" >2021-09-10</td>\n",
       "      <td id=\"T_3730a_row26_col7\" class=\"data row26 col7\" >283,500.00</td>\n",
       "      <td id=\"T_3730a_row26_col8\" class=\"data row26 col8\" >4.29%</td>\n",
       "      <td id=\"T_3730a_row26_col9\" class=\"data row26 col9\" >0</td>\n",
       "    </tr>\n",
       "    <tr>\n",
       "      <th id=\"T_3730a_level0_row27\" class=\"row_heading level0 row27\" >27</th>\n",
       "      <td id=\"T_3730a_row27_col0\" class=\"data row27 col0\" >TU</td>\n",
       "      <td id=\"T_3730a_row27_col1\" class=\"data row27 col1\" >0.4000</td>\n",
       "      <td id=\"T_3730a_row27_col2\" class=\"data row27 col2\" >18,000</td>\n",
       "      <td id=\"T_3730a_row27_col3\" class=\"data row27 col3\" >7,200.00</td>\n",
       "      <td id=\"T_3730a_row27_col4\" class=\"data row27 col4\" >6,480.00</td>\n",
       "      <td id=\"T_3730a_row27_col5\" class=\"data row27 col5\" >2022-03-08</td>\n",
       "      <td id=\"T_3730a_row27_col6\" class=\"data row27 col6\" >2021-09-07</td>\n",
       "      <td id=\"T_3730a_row27_col7\" class=\"data row27 col7\" >374,400.00</td>\n",
       "      <td id=\"T_3730a_row27_col8\" class=\"data row27 col8\" >1.73%</td>\n",
       "      <td id=\"T_3730a_row27_col9\" class=\"data row27 col9\" >0</td>\n",
       "    </tr>\n",
       "    <tr>\n",
       "      <th id=\"T_3730a_level0_row28\" class=\"row_heading level0 row28\" >28</th>\n",
       "      <td id=\"T_3730a_row28_col0\" class=\"data row28 col0\" >WHART</td>\n",
       "      <td id=\"T_3730a_row28_col1\" class=\"data row28 col1\" >0.1915</td>\n",
       "      <td id=\"T_3730a_row28_col2\" class=\"data row28 col2\" >10,000</td>\n",
       "      <td id=\"T_3730a_row28_col3\" class=\"data row28 col3\" >1,915.00</td>\n",
       "      <td id=\"T_3730a_row28_col4\" class=\"data row28 col4\" >1,723.50</td>\n",
       "      <td id=\"T_3730a_row28_col5\" class=\"data row28 col5\" >2022-03-04</td>\n",
       "      <td id=\"T_3730a_row28_col6\" class=\"data row28 col6\" >2021-12-08</td>\n",
       "      <td id=\"T_3730a_row28_col7\" class=\"data row28 col7\" >125,000.00</td>\n",
       "      <td id=\"T_3730a_row28_col8\" class=\"data row28 col8\" >1.38%</td>\n",
       "      <td id=\"T_3730a_row28_col9\" class=\"data row28 col9\" >0</td>\n",
       "    </tr>\n",
       "  </tbody>\n",
       "</table>\n"
      ],
      "text/plain": [
       "<pandas.io.formats.style.Styler at 0x1762eb50d60>"
      ]
     },
     "execution_count": 31,
     "metadata": {},
     "output_type": "execute_result"
    }
   ],
   "source": [
    "dividend = pd.read_sql(sql, const)\n",
    "dividend.columns = dividend.columns.str.lower()\n",
    "dividend['shares'] = dividend['shares'].astype('int64')\n",
    "dividend['xdate'] = pd.to_datetime(dividend['xdate'])\n",
    "dividend['paiddate'] = pd.to_datetime(dividend['paiddate'])\n",
    "dividend['amount'] = round(dividend['shares'] * dividend['qtrly'], 2)\n",
    "dividend['net'] = round(dividend['amount'] * 0.9, 2)\n",
    "dividend['pct'] = round(dividend['net'] / dividend['cost_amt'] * 100, 2)\n",
    "dividend[cols].style.format(format_dict)"
   ]
  },
  {
   "cell_type": "code",
   "execution_count": 32,
   "metadata": {},
   "outputs": [
    {
     "data": {
      "text/plain": [
       "221951.25"
      ]
     },
     "execution_count": 32,
     "metadata": {},
     "output_type": "execute_result"
    }
   ],
   "source": [
    "dividend.net.sum()"
   ]
  },
  {
   "cell_type": "code",
   "execution_count": 33,
   "metadata": {},
   "outputs": [],
   "source": [
    "file_name = 'dividend-q4.csv'\n",
    "data_file = data_path + file_name\n",
    "output_file = csv_path + file_name\n",
    "box_file = box_path + file_name\n",
    "one_file = one_path + file_name\n",
    "\n",
    "dividend[cols].sort_values(['name'],ascending=[True]).to_csv(output_file, index=False)\n",
    "dividend[cols].sort_values(['name'],ascending=[True]).to_csv(data_file, index=False)\n",
    "dividend[cols].sort_values(['name'],ascending=[True]).to_csv(box_file, index=False)\n",
    "dividend[cols].sort_values(['name'],ascending=[True]).to_csv(one_file, index=False)"
   ]
  },
  {
   "cell_type": "markdown",
   "metadata": {},
   "source": [
    "### End of output to cloud"
   ]
  }
 ],
 "metadata": {
  "anaconda-cloud": {},
  "kernelspec": {
   "display_name": "Python 3 (ipykernel)",
   "language": "python",
   "name": "python3"
  },
  "language_info": {
   "codemirror_mode": {
    "name": "ipython",
    "version": 3
   },
   "file_extension": ".py",
   "mimetype": "text/x-python",
   "name": "python",
   "nbconvert_exporter": "python",
   "pygments_lexer": "ipython3",
   "version": "3.8.11"
  }
 },
 "nbformat": 4,
 "nbformat_minor": 1
}
