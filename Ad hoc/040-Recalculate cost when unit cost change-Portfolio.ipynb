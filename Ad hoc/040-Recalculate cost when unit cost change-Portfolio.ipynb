{
 "cells": [
  {
   "cell_type": "code",
   "execution_count": 1,
   "metadata": {},
   "outputs": [],
   "source": [
    "import pandas as pd\n",
    "from datetime import date, timedelta\n",
    "from sqlalchemy import create_engine\n",
    "\n",
    "engine = create_engine('mysql+pymysql://root:@localhost:3306/portfolio_development')\n",
    "conpf = engine.connect()\n",
    "\n",
    "format_dict = {\n",
    "              'price':'{:.2f}','unit_cost':'{:.2f}','qty':'{:,}',\n",
    "              'amt':'{:,.2f}','gross':'{:,.2f}','net':'{:,.2f}','fee':'{:,.2f}','vat':'{:,.2f}'\n",
    "              }"
   ]
  },
  {
   "cell_type": "markdown",
   "metadata": {},
   "source": [
    "### Average cost calculation"
   ]
  },
  {
   "cell_type": "code",
   "execution_count": 11,
   "metadata": {},
   "outputs": [],
   "source": [
    "name = 'RCL'"
   ]
  },
  {
   "cell_type": "code",
   "execution_count": 12,
   "metadata": {},
   "outputs": [
    {
     "data": {
      "text/html": [
       "<style type=\"text/css\">\n",
       "</style>\n",
       "<table id=\"T_10fff_\">\n",
       "  <thead>\n",
       "    <tr>\n",
       "      <th class=\"blank level0\" >&nbsp;</th>\n",
       "      <th class=\"col_heading level0 col0\" >id</th>\n",
       "      <th class=\"col_heading level0 col1\" >name</th>\n",
       "      <th class=\"col_heading level0 col2\" >date</th>\n",
       "      <th class=\"col_heading level0 col3\" >qty</th>\n",
       "      <th class=\"col_heading level0 col4\" >price</th>\n",
       "      <th class=\"col_heading level0 col5\" >gross</th>\n",
       "      <th class=\"col_heading level0 col6\" >fee</th>\n",
       "      <th class=\"col_heading level0 col7\" >vat</th>\n",
       "      <th class=\"col_heading level0 col8\" >net</th>\n",
       "      <th class=\"col_heading level0 col9\" >status</th>\n",
       "      <th class=\"col_heading level0 col10\" >kind</th>\n",
       "    </tr>\n",
       "  </thead>\n",
       "  <tbody>\n",
       "    <tr>\n",
       "      <th id=\"T_10fff_level0_row0\" class=\"row_heading level0 row0\" >0</th>\n",
       "      <td id=\"T_10fff_row0_col0\" class=\"data row0 col0\" >1100</td>\n",
       "      <td id=\"T_10fff_row0_col1\" class=\"data row0 col1\" >RCL</td>\n",
       "      <td id=\"T_10fff_row0_col2\" class=\"data row0 col2\" >2022-01-17</td>\n",
       "      <td id=\"T_10fff_row0_col3\" class=\"data row0 col3\" >1,500</td>\n",
       "      <td id=\"T_10fff_row0_col4\" class=\"data row0 col4\" >49.00</td>\n",
       "      <td id=\"T_10fff_row0_col5\" class=\"data row0 col5\" >73,500.00</td>\n",
       "      <td id=\"T_10fff_row0_col6\" class=\"data row0 col6\" >152.15</td>\n",
       "      <td id=\"T_10fff_row0_col7\" class=\"data row0 col7\" >10.65</td>\n",
       "      <td id=\"T_10fff_row0_col8\" class=\"data row0 col8\" >73,662.80</td>\n",
       "      <td id=\"T_10fff_row0_col9\" class=\"data row0 col9\" >Active</td>\n",
       "      <td id=\"T_10fff_row0_col10\" class=\"data row0 col10\" >DTD</td>\n",
       "    </tr>\n",
       "    <tr>\n",
       "      <th id=\"T_10fff_level0_row1\" class=\"row_heading level0 row1\" >1</th>\n",
       "      <td id=\"T_10fff_row1_col0\" class=\"data row1 col0\" >1077</td>\n",
       "      <td id=\"T_10fff_row1_col1\" class=\"data row1 col1\" >RCL</td>\n",
       "      <td id=\"T_10fff_row1_col2\" class=\"data row1 col2\" >2021-12-15</td>\n",
       "      <td id=\"T_10fff_row1_col3\" class=\"data row1 col3\" >2,400</td>\n",
       "      <td id=\"T_10fff_row1_col4\" class=\"data row1 col4\" >43.00</td>\n",
       "      <td id=\"T_10fff_row1_col5\" class=\"data row1 col5\" >103,200.00</td>\n",
       "      <td id=\"T_10fff_row1_col6\" class=\"data row1 col6\" >213.62</td>\n",
       "      <td id=\"T_10fff_row1_col7\" class=\"data row1 col7\" >14.95</td>\n",
       "      <td id=\"T_10fff_row1_col8\" class=\"data row1 col8\" >103,428.57</td>\n",
       "      <td id=\"T_10fff_row1_col9\" class=\"data row1 col9\" >Active</td>\n",
       "      <td id=\"T_10fff_row1_col10\" class=\"data row1 col10\" >HD</td>\n",
       "    </tr>\n",
       "    <tr>\n",
       "      <th id=\"T_10fff_level0_row2\" class=\"row_heading level0 row2\" >2</th>\n",
       "      <td id=\"T_10fff_row2_col0\" class=\"data row2 col0\" >1042</td>\n",
       "      <td id=\"T_10fff_row2_col1\" class=\"data row2 col1\" >RCL</td>\n",
       "      <td id=\"T_10fff_row2_col2\" class=\"data row2 col2\" >2021-11-08</td>\n",
       "      <td id=\"T_10fff_row2_col3\" class=\"data row2 col3\" >2,100</td>\n",
       "      <td id=\"T_10fff_row2_col4\" class=\"data row2 col4\" >43.00</td>\n",
       "      <td id=\"T_10fff_row2_col5\" class=\"data row2 col5\" >90,300.00</td>\n",
       "      <td id=\"T_10fff_row2_col6\" class=\"data row2 col6\" >186.92</td>\n",
       "      <td id=\"T_10fff_row2_col7\" class=\"data row2 col7\" >13.08</td>\n",
       "      <td id=\"T_10fff_row2_col8\" class=\"data row2 col8\" >90,500.00</td>\n",
       "      <td id=\"T_10fff_row2_col9\" class=\"data row2 col9\" >Active</td>\n",
       "      <td id=\"T_10fff_row2_col10\" class=\"data row2 col10\" >HD</td>\n",
       "    </tr>\n",
       "  </tbody>\n",
       "</table>\n"
      ],
      "text/plain": [
       "<pandas.io.formats.style.Styler at 0x1a9e8149d90>"
      ]
     },
     "execution_count": 12,
     "metadata": {},
     "output_type": "execute_result"
    }
   ],
   "source": [
    "sql = '''\n",
    "SELECT B.id, S.name, date, qty, price, qty*price AS gross, fee, vat, net, status, kind\n",
    "FROM buys B\n",
    "JOIN stocks S ON B.stock_id = S.id \n",
    "WHERE name = \"%s\" AND status = \"Active\"\n",
    "ORDER BY id DESC'''\n",
    "sql = sql % name\n",
    "buys = pd.read_sql(sql, conpf)\n",
    "buys.style.format(format_dict)"
   ]
  },
  {
   "cell_type": "code",
   "execution_count": 13,
   "metadata": {},
   "outputs": [
    {
     "data": {
      "text/html": [
       "<style type=\"text/css\">\n",
       "</style>\n",
       "<table id=\"T_d0437_\">\n",
       "  <thead>\n",
       "    <tr>\n",
       "      <th class=\"blank level0\" >&nbsp;</th>\n",
       "      <th class=\"col_heading level0 col0\" >gross</th>\n",
       "      <th class=\"col_heading level0 col1\" >qty</th>\n",
       "      <th class=\"col_heading level0 col2\" >unit_cost</th>\n",
       "    </tr>\n",
       "    <tr>\n",
       "      <th class=\"index_name level0\" >name</th>\n",
       "      <th class=\"blank col0\" >&nbsp;</th>\n",
       "      <th class=\"blank col1\" >&nbsp;</th>\n",
       "      <th class=\"blank col2\" >&nbsp;</th>\n",
       "    </tr>\n",
       "  </thead>\n",
       "  <tbody>\n",
       "    <tr>\n",
       "      <th id=\"T_d0437_level0_row0\" class=\"row_heading level0 row0\" >RCL</th>\n",
       "      <td id=\"T_d0437_row0_col0\" class=\"data row0 col0\" >267,000.00</td>\n",
       "      <td id=\"T_d0437_row0_col1\" class=\"data row0 col1\" >6,000</td>\n",
       "      <td id=\"T_d0437_row0_col2\" class=\"data row0 col2\" >44.50</td>\n",
       "    </tr>\n",
       "  </tbody>\n",
       "</table>\n"
      ],
      "text/plain": [
       "<pandas.io.formats.style.Styler at 0x1a9e55850a0>"
      ]
     },
     "execution_count": 13,
     "metadata": {},
     "output_type": "execute_result"
    }
   ],
   "source": [
    "buys_grp = buys.groupby('name')[['gross','qty']].sum()\n",
    "buys_grp['unit_cost'] = buys_grp.gross / buys_grp.qty\n",
    "buys_grp.style.format(format_dict)"
   ]
  },
  {
   "cell_type": "markdown",
   "metadata": {},
   "source": [
    "### Recalculate net cost by id"
   ]
  },
  {
   "cell_type": "code",
   "execution_count": 14,
   "metadata": {},
   "outputs": [
    {
     "data": {
      "text/plain": [
       "0    1100\n",
       "1    1077\n",
       "2    1042\n",
       "Name: id, dtype: int64"
      ]
     },
     "execution_count": 14,
     "metadata": {},
     "output_type": "execute_result"
    }
   ],
   "source": [
    "ids = buys['id']\n",
    "ids"
   ]
  },
  {
   "cell_type": "code",
   "execution_count": 16,
   "metadata": {},
   "outputs": [],
   "source": [
    "new_price = 44.50"
   ]
  },
  {
   "cell_type": "code",
   "execution_count": 17,
   "metadata": {},
   "outputs": [],
   "source": [
    "def update_buys_by_id(new_price,id):\n",
    "    sql = \"UPDATE buys SET price = %s, fee = qty*price*.00207, vat = fee*.07, net = (qty*price)+fee+vat WHERE id = %s\"\n",
    "    sql = sql % (new_price,id)\n",
    "    rp = conpf.execute(sql)\n",
    "    return \"Records updated = \" + str(id)"
   ]
  },
  {
   "cell_type": "code",
   "execution_count": 18,
   "metadata": {},
   "outputs": [
    {
     "data": {
      "text/html": [
       "<style type=\"text/css\">\n",
       "</style>\n",
       "<table id=\"T_7327e_\">\n",
       "  <thead>\n",
       "    <tr>\n",
       "      <th class=\"blank level0\" >&nbsp;</th>\n",
       "      <th class=\"col_heading level0 col0\" >id</th>\n",
       "      <th class=\"col_heading level0 col1\" >name</th>\n",
       "      <th class=\"col_heading level0 col2\" >date</th>\n",
       "      <th class=\"col_heading level0 col3\" >qty</th>\n",
       "      <th class=\"col_heading level0 col4\" >price</th>\n",
       "      <th class=\"col_heading level0 col5\" >gross</th>\n",
       "      <th class=\"col_heading level0 col6\" >fee</th>\n",
       "      <th class=\"col_heading level0 col7\" >vat</th>\n",
       "      <th class=\"col_heading level0 col8\" >net</th>\n",
       "      <th class=\"col_heading level0 col9\" >status</th>\n",
       "      <th class=\"col_heading level0 col10\" >kind</th>\n",
       "    </tr>\n",
       "  </thead>\n",
       "  <tbody>\n",
       "    <tr>\n",
       "      <th id=\"T_7327e_level0_row0\" class=\"row_heading level0 row0\" >0</th>\n",
       "      <td id=\"T_7327e_row0_col0\" class=\"data row0 col0\" >1100</td>\n",
       "      <td id=\"T_7327e_row0_col1\" class=\"data row0 col1\" >RCL</td>\n",
       "      <td id=\"T_7327e_row0_col2\" class=\"data row0 col2\" >2022-01-17</td>\n",
       "      <td id=\"T_7327e_row0_col3\" class=\"data row0 col3\" >1,500</td>\n",
       "      <td id=\"T_7327e_row0_col4\" class=\"data row0 col4\" >49.00</td>\n",
       "      <td id=\"T_7327e_row0_col5\" class=\"data row0 col5\" >73,500.00</td>\n",
       "      <td id=\"T_7327e_row0_col6\" class=\"data row0 col6\" >152.15</td>\n",
       "      <td id=\"T_7327e_row0_col7\" class=\"data row0 col7\" >10.65</td>\n",
       "      <td id=\"T_7327e_row0_col8\" class=\"data row0 col8\" >73,662.80</td>\n",
       "      <td id=\"T_7327e_row0_col9\" class=\"data row0 col9\" >Active</td>\n",
       "      <td id=\"T_7327e_row0_col10\" class=\"data row0 col10\" >DTD</td>\n",
       "    </tr>\n",
       "    <tr>\n",
       "      <th id=\"T_7327e_level0_row1\" class=\"row_heading level0 row1\" >1</th>\n",
       "      <td id=\"T_7327e_row1_col0\" class=\"data row1 col0\" >1077</td>\n",
       "      <td id=\"T_7327e_row1_col1\" class=\"data row1 col1\" >RCL</td>\n",
       "      <td id=\"T_7327e_row1_col2\" class=\"data row1 col2\" >2021-12-15</td>\n",
       "      <td id=\"T_7327e_row1_col3\" class=\"data row1 col3\" >2,400</td>\n",
       "      <td id=\"T_7327e_row1_col4\" class=\"data row1 col4\" >43.00</td>\n",
       "      <td id=\"T_7327e_row1_col5\" class=\"data row1 col5\" >103,200.00</td>\n",
       "      <td id=\"T_7327e_row1_col6\" class=\"data row1 col6\" >213.62</td>\n",
       "      <td id=\"T_7327e_row1_col7\" class=\"data row1 col7\" >14.95</td>\n",
       "      <td id=\"T_7327e_row1_col8\" class=\"data row1 col8\" >103,428.57</td>\n",
       "      <td id=\"T_7327e_row1_col9\" class=\"data row1 col9\" >Active</td>\n",
       "      <td id=\"T_7327e_row1_col10\" class=\"data row1 col10\" >HD</td>\n",
       "    </tr>\n",
       "    <tr>\n",
       "      <th id=\"T_7327e_level0_row2\" class=\"row_heading level0 row2\" >2</th>\n",
       "      <td id=\"T_7327e_row2_col0\" class=\"data row2 col0\" >1042</td>\n",
       "      <td id=\"T_7327e_row2_col1\" class=\"data row2 col1\" >RCL</td>\n",
       "      <td id=\"T_7327e_row2_col2\" class=\"data row2 col2\" >2021-11-08</td>\n",
       "      <td id=\"T_7327e_row2_col3\" class=\"data row2 col3\" >2,100</td>\n",
       "      <td id=\"T_7327e_row2_col4\" class=\"data row2 col4\" >43.00</td>\n",
       "      <td id=\"T_7327e_row2_col5\" class=\"data row2 col5\" >90,300.00</td>\n",
       "      <td id=\"T_7327e_row2_col6\" class=\"data row2 col6\" >186.92</td>\n",
       "      <td id=\"T_7327e_row2_col7\" class=\"data row2 col7\" >13.08</td>\n",
       "      <td id=\"T_7327e_row2_col8\" class=\"data row2 col8\" >90,500.00</td>\n",
       "      <td id=\"T_7327e_row2_col9\" class=\"data row2 col9\" >Active</td>\n",
       "      <td id=\"T_7327e_row2_col10\" class=\"data row2 col10\" >HD</td>\n",
       "    </tr>\n",
       "  </tbody>\n",
       "</table>\n"
      ],
      "text/plain": [
       "<pandas.io.formats.style.Styler at 0x1a9e9209670>"
      ]
     },
     "execution_count": 18,
     "metadata": {},
     "output_type": "execute_result"
    }
   ],
   "source": [
    "sql = '''\n",
    "SELECT B.id, S.name, date, qty, price, qty*price AS gross, fee, vat, net, status, kind\n",
    "FROM buys B\n",
    "JOIN stocks S ON B.stock_id = S.id \n",
    "WHERE name = \"%s\" AND status = \"Active\"\n",
    "ORDER BY id DESC'''\n",
    "sql = sql % name\n",
    "buys = pd.read_sql(sql, conpf)\n",
    "buys.style.format(format_dict)"
   ]
  },
  {
   "cell_type": "code",
   "execution_count": 19,
   "metadata": {},
   "outputs": [],
   "source": [
    "i = 0\n",
    "for id in ids:\n",
    "    update_buys_by_id(new_price,id)\n",
    "    i += 1"
   ]
  },
  {
   "cell_type": "code",
   "execution_count": 20,
   "metadata": {},
   "outputs": [
    {
     "data": {
      "text/html": [
       "<style type=\"text/css\">\n",
       "</style>\n",
       "<table id=\"T_5643e_\">\n",
       "  <thead>\n",
       "    <tr>\n",
       "      <th class=\"blank level0\" >&nbsp;</th>\n",
       "      <th class=\"col_heading level0 col0\" >id</th>\n",
       "      <th class=\"col_heading level0 col1\" >name</th>\n",
       "      <th class=\"col_heading level0 col2\" >date</th>\n",
       "      <th class=\"col_heading level0 col3\" >qty</th>\n",
       "      <th class=\"col_heading level0 col4\" >price</th>\n",
       "      <th class=\"col_heading level0 col5\" >gross</th>\n",
       "      <th class=\"col_heading level0 col6\" >fee</th>\n",
       "      <th class=\"col_heading level0 col7\" >vat</th>\n",
       "      <th class=\"col_heading level0 col8\" >net</th>\n",
       "      <th class=\"col_heading level0 col9\" >status</th>\n",
       "      <th class=\"col_heading level0 col10\" >kind</th>\n",
       "    </tr>\n",
       "  </thead>\n",
       "  <tbody>\n",
       "    <tr>\n",
       "      <th id=\"T_5643e_level0_row0\" class=\"row_heading level0 row0\" >0</th>\n",
       "      <td id=\"T_5643e_row0_col0\" class=\"data row0 col0\" >1100</td>\n",
       "      <td id=\"T_5643e_row0_col1\" class=\"data row0 col1\" >RCL</td>\n",
       "      <td id=\"T_5643e_row0_col2\" class=\"data row0 col2\" >2022-01-17</td>\n",
       "      <td id=\"T_5643e_row0_col3\" class=\"data row0 col3\" >1,500</td>\n",
       "      <td id=\"T_5643e_row0_col4\" class=\"data row0 col4\" >44.50</td>\n",
       "      <td id=\"T_5643e_row0_col5\" class=\"data row0 col5\" >66,750.00</td>\n",
       "      <td id=\"T_5643e_row0_col6\" class=\"data row0 col6\" >138.17</td>\n",
       "      <td id=\"T_5643e_row0_col7\" class=\"data row0 col7\" >9.67</td>\n",
       "      <td id=\"T_5643e_row0_col8\" class=\"data row0 col8\" >66,897.84</td>\n",
       "      <td id=\"T_5643e_row0_col9\" class=\"data row0 col9\" >Active</td>\n",
       "      <td id=\"T_5643e_row0_col10\" class=\"data row0 col10\" >DTD</td>\n",
       "    </tr>\n",
       "    <tr>\n",
       "      <th id=\"T_5643e_level0_row1\" class=\"row_heading level0 row1\" >1</th>\n",
       "      <td id=\"T_5643e_row1_col0\" class=\"data row1 col0\" >1077</td>\n",
       "      <td id=\"T_5643e_row1_col1\" class=\"data row1 col1\" >RCL</td>\n",
       "      <td id=\"T_5643e_row1_col2\" class=\"data row1 col2\" >2021-12-15</td>\n",
       "      <td id=\"T_5643e_row1_col3\" class=\"data row1 col3\" >2,400</td>\n",
       "      <td id=\"T_5643e_row1_col4\" class=\"data row1 col4\" >44.50</td>\n",
       "      <td id=\"T_5643e_row1_col5\" class=\"data row1 col5\" >106,800.00</td>\n",
       "      <td id=\"T_5643e_row1_col6\" class=\"data row1 col6\" >221.08</td>\n",
       "      <td id=\"T_5643e_row1_col7\" class=\"data row1 col7\" >15.48</td>\n",
       "      <td id=\"T_5643e_row1_col8\" class=\"data row1 col8\" >107,036.56</td>\n",
       "      <td id=\"T_5643e_row1_col9\" class=\"data row1 col9\" >Active</td>\n",
       "      <td id=\"T_5643e_row1_col10\" class=\"data row1 col10\" >HD</td>\n",
       "    </tr>\n",
       "    <tr>\n",
       "      <th id=\"T_5643e_level0_row2\" class=\"row_heading level0 row2\" >2</th>\n",
       "      <td id=\"T_5643e_row2_col0\" class=\"data row2 col0\" >1042</td>\n",
       "      <td id=\"T_5643e_row2_col1\" class=\"data row2 col1\" >RCL</td>\n",
       "      <td id=\"T_5643e_row2_col2\" class=\"data row2 col2\" >2021-11-08</td>\n",
       "      <td id=\"T_5643e_row2_col3\" class=\"data row2 col3\" >2,100</td>\n",
       "      <td id=\"T_5643e_row2_col4\" class=\"data row2 col4\" >44.50</td>\n",
       "      <td id=\"T_5643e_row2_col5\" class=\"data row2 col5\" >93,450.00</td>\n",
       "      <td id=\"T_5643e_row2_col6\" class=\"data row2 col6\" >193.44</td>\n",
       "      <td id=\"T_5643e_row2_col7\" class=\"data row2 col7\" >13.54</td>\n",
       "      <td id=\"T_5643e_row2_col8\" class=\"data row2 col8\" >93,656.98</td>\n",
       "      <td id=\"T_5643e_row2_col9\" class=\"data row2 col9\" >Active</td>\n",
       "      <td id=\"T_5643e_row2_col10\" class=\"data row2 col10\" >HD</td>\n",
       "    </tr>\n",
       "  </tbody>\n",
       "</table>\n"
      ],
      "text/plain": [
       "<pandas.io.formats.style.Styler at 0x1a9e9209c70>"
      ]
     },
     "execution_count": 20,
     "metadata": {},
     "output_type": "execute_result"
    }
   ],
   "source": [
    "sql = '''\n",
    "SELECT B.id, S.name, date, qty, price, qty*price AS gross, fee, vat, net, status, kind\n",
    "FROM buys B\n",
    "JOIN stocks S ON B.stock_id = S.id \n",
    "WHERE name = \"%s\" AND status = \"Active\"\n",
    "ORDER BY id DESC'''\n",
    "sql = sql % name\n",
    "buys = pd.read_sql(sql, conpf)\n",
    "buys.style.format(format_dict)"
   ]
  },
  {
   "cell_type": "code",
   "execution_count": null,
   "metadata": {},
   "outputs": [],
   "source": []
  }
 ],
 "metadata": {
  "anaconda-cloud": {},
  "kernelspec": {
   "display_name": "Python 3 (ipykernel)",
   "language": "python",
   "name": "python3"
  },
  "language_info": {
   "codemirror_mode": {
    "name": "ipython",
    "version": 3
   },
   "file_extension": ".py",
   "mimetype": "text/x-python",
   "name": "python",
   "nbconvert_exporter": "python",
   "pygments_lexer": "ipython3",
   "version": "3.8.11"
  }
 },
 "nbformat": 4,
 "nbformat_minor": 1
}
