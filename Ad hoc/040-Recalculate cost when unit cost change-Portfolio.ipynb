{
 "cells": [
  {
   "cell_type": "code",
   "execution_count": 1,
   "metadata": {},
   "outputs": [],
   "source": [
    "import pandas as pd\n",
    "from datetime import date, timedelta\n",
    "from sqlalchemy import create_engine\n",
    "\n",
    "engine = create_engine('mysql+pymysql://root:@localhost:3306/portfolio_development')\n",
    "conpf = engine.connect()\n",
    "\n",
    "format_dict = {\n",
    "              'price':'{:.2f}','unit_cost':'{:.2f}','qty':'{:,}',\n",
    "              'amt':'{:,.2f}','gross':'{:,.2f}','net':'{:,.2f}','fee':'{:,.2f}','vat':'{:,.2f}'\n",
    "              }"
   ]
  },
  {
   "cell_type": "markdown",
   "metadata": {},
   "source": [
    "### Average cost calculation"
   ]
  },
  {
   "cell_type": "code",
   "execution_count": 2,
   "metadata": {},
   "outputs": [],
   "source": [
    "name = 'IMH'"
   ]
  },
  {
   "cell_type": "code",
   "execution_count": 3,
   "metadata": {},
   "outputs": [
    {
     "data": {
      "text/html": [
       "<style type=\"text/css\">\n",
       "</style>\n",
       "<table id=\"T_1a015_\">\n",
       "  <thead>\n",
       "    <tr>\n",
       "      <th class=\"blank level0\" >&nbsp;</th>\n",
       "      <th class=\"col_heading level0 col0\" >id</th>\n",
       "      <th class=\"col_heading level0 col1\" >name</th>\n",
       "      <th class=\"col_heading level0 col2\" >date</th>\n",
       "      <th class=\"col_heading level0 col3\" >qty</th>\n",
       "      <th class=\"col_heading level0 col4\" >price</th>\n",
       "      <th class=\"col_heading level0 col5\" >gross</th>\n",
       "      <th class=\"col_heading level0 col6\" >fee</th>\n",
       "      <th class=\"col_heading level0 col7\" >vat</th>\n",
       "      <th class=\"col_heading level0 col8\" >net</th>\n",
       "      <th class=\"col_heading level0 col9\" >status</th>\n",
       "      <th class=\"col_heading level0 col10\" >kind</th>\n",
       "    </tr>\n",
       "  </thead>\n",
       "  <tbody>\n",
       "    <tr>\n",
       "      <th id=\"T_1a015_level0_row0\" class=\"row_heading level0 row0\" >0</th>\n",
       "      <td id=\"T_1a015_row0_col0\" class=\"data row0 col0\" >1108</td>\n",
       "      <td id=\"T_1a015_row0_col1\" class=\"data row0 col1\" >IMH</td>\n",
       "      <td id=\"T_1a015_row0_col2\" class=\"data row0 col2\" >2022-01-26</td>\n",
       "      <td id=\"T_1a015_row0_col3\" class=\"data row0 col3\" >6,000</td>\n",
       "      <td id=\"T_1a015_row0_col4\" class=\"data row0 col4\" >17.00</td>\n",
       "      <td id=\"T_1a015_row0_col5\" class=\"data row0 col5\" >102,000.00</td>\n",
       "      <td id=\"T_1a015_row0_col6\" class=\"data row0 col6\" >211.14</td>\n",
       "      <td id=\"T_1a015_row0_col7\" class=\"data row0 col7\" >14.78</td>\n",
       "      <td id=\"T_1a015_row0_col8\" class=\"data row0 col8\" >102,225.92</td>\n",
       "      <td id=\"T_1a015_row0_col9\" class=\"data row0 col9\" >Active</td>\n",
       "      <td id=\"T_1a015_row0_col10\" class=\"data row0 col10\" >DTD</td>\n",
       "    </tr>\n",
       "    <tr>\n",
       "      <th id=\"T_1a015_level0_row1\" class=\"row_heading level0 row1\" >1</th>\n",
       "      <td id=\"T_1a015_row1_col0\" class=\"data row1 col0\" >1096</td>\n",
       "      <td id=\"T_1a015_row1_col1\" class=\"data row1 col1\" >IMH</td>\n",
       "      <td id=\"T_1a015_row1_col2\" class=\"data row1 col2\" >2022-01-11</td>\n",
       "      <td id=\"T_1a015_row1_col3\" class=\"data row1 col3\" >7,000</td>\n",
       "      <td id=\"T_1a015_row1_col4\" class=\"data row1 col4\" >20.00</td>\n",
       "      <td id=\"T_1a015_row1_col5\" class=\"data row1 col5\" >140,000.00</td>\n",
       "      <td id=\"T_1a015_row1_col6\" class=\"data row1 col6\" >289.80</td>\n",
       "      <td id=\"T_1a015_row1_col7\" class=\"data row1 col7\" >20.29</td>\n",
       "      <td id=\"T_1a015_row1_col8\" class=\"data row1 col8\" >140,310.09</td>\n",
       "      <td id=\"T_1a015_row1_col9\" class=\"data row1 col9\" >Active</td>\n",
       "      <td id=\"T_1a015_row1_col10\" class=\"data row1 col10\" >DTD</td>\n",
       "    </tr>\n",
       "    <tr>\n",
       "      <th id=\"T_1a015_level0_row2\" class=\"row_heading level0 row2\" >2</th>\n",
       "      <td id=\"T_1a015_row2_col0\" class=\"data row2 col0\" >1069</td>\n",
       "      <td id=\"T_1a015_row2_col1\" class=\"data row2 col1\" >IMH</td>\n",
       "      <td id=\"T_1a015_row2_col2\" class=\"data row2 col2\" >2021-12-08</td>\n",
       "      <td id=\"T_1a015_row2_col3\" class=\"data row2 col3\" >2,000</td>\n",
       "      <td id=\"T_1a015_row2_col4\" class=\"data row2 col4\" >11.00</td>\n",
       "      <td id=\"T_1a015_row2_col5\" class=\"data row2 col5\" >22,000.00</td>\n",
       "      <td id=\"T_1a015_row2_col6\" class=\"data row2 col6\" >45.54</td>\n",
       "      <td id=\"T_1a015_row2_col7\" class=\"data row2 col7\" >3.19</td>\n",
       "      <td id=\"T_1a015_row2_col8\" class=\"data row2 col8\" >22,048.73</td>\n",
       "      <td id=\"T_1a015_row2_col9\" class=\"data row2 col9\" >Active</td>\n",
       "      <td id=\"T_1a015_row2_col10\" class=\"data row2 col10\" >DTD</td>\n",
       "    </tr>\n",
       "  </tbody>\n",
       "</table>\n"
      ],
      "text/plain": [
       "<pandas.io.formats.style.Styler at 0x1d61b6542e0>"
      ]
     },
     "execution_count": 3,
     "metadata": {},
     "output_type": "execute_result"
    }
   ],
   "source": [
    "sql = '''\n",
    "SELECT B.id, S.name, date, qty, price, qty*price AS gross, fee, vat, net, status, kind\n",
    "FROM buys B\n",
    "JOIN stocks S ON B.stock_id = S.id \n",
    "WHERE name = \"%s\" AND status = \"Active\"\n",
    "ORDER BY id DESC'''\n",
    "sql = sql % name\n",
    "buys = pd.read_sql(sql, conpf)\n",
    "buys.style.format(format_dict)"
   ]
  },
  {
   "cell_type": "code",
   "execution_count": 4,
   "metadata": {},
   "outputs": [
    {
     "data": {
      "text/html": [
       "<style type=\"text/css\">\n",
       "</style>\n",
       "<table id=\"T_038a7_\">\n",
       "  <thead>\n",
       "    <tr>\n",
       "      <th class=\"blank level0\" >&nbsp;</th>\n",
       "      <th class=\"col_heading level0 col0\" >gross</th>\n",
       "      <th class=\"col_heading level0 col1\" >qty</th>\n",
       "      <th class=\"col_heading level0 col2\" >unit_cost</th>\n",
       "    </tr>\n",
       "    <tr>\n",
       "      <th class=\"index_name level0\" >name</th>\n",
       "      <th class=\"blank col0\" >&nbsp;</th>\n",
       "      <th class=\"blank col1\" >&nbsp;</th>\n",
       "      <th class=\"blank col2\" >&nbsp;</th>\n",
       "    </tr>\n",
       "  </thead>\n",
       "  <tbody>\n",
       "    <tr>\n",
       "      <th id=\"T_038a7_level0_row0\" class=\"row_heading level0 row0\" >IMH</th>\n",
       "      <td id=\"T_038a7_row0_col0\" class=\"data row0 col0\" >264,000.00</td>\n",
       "      <td id=\"T_038a7_row0_col1\" class=\"data row0 col1\" >15,000</td>\n",
       "      <td id=\"T_038a7_row0_col2\" class=\"data row0 col2\" >17.60</td>\n",
       "    </tr>\n",
       "  </tbody>\n",
       "</table>\n"
      ],
      "text/plain": [
       "<pandas.io.formats.style.Styler at 0x1d61b6603d0>"
      ]
     },
     "execution_count": 4,
     "metadata": {},
     "output_type": "execute_result"
    }
   ],
   "source": [
    "buys_grp = buys.groupby('name')[['gross','qty']].sum()\n",
    "buys_grp['unit_cost'] = buys_grp.gross / buys_grp.qty\n",
    "buys_grp.style.format(format_dict)"
   ]
  },
  {
   "cell_type": "markdown",
   "metadata": {},
   "source": [
    "### Recalculate net cost by id"
   ]
  },
  {
   "cell_type": "code",
   "execution_count": 5,
   "metadata": {},
   "outputs": [
    {
     "data": {
      "text/plain": [
       "0    1108\n",
       "1    1096\n",
       "2    1069\n",
       "Name: id, dtype: int64"
      ]
     },
     "execution_count": 5,
     "metadata": {},
     "output_type": "execute_result"
    }
   ],
   "source": [
    "ids = buys['id']\n",
    "ids"
   ]
  },
  {
   "cell_type": "code",
   "execution_count": 6,
   "metadata": {},
   "outputs": [],
   "source": [
    "new_price = 17.60"
   ]
  },
  {
   "cell_type": "code",
   "execution_count": 7,
   "metadata": {},
   "outputs": [],
   "source": [
    "def update_buys_by_id(new_price,id):\n",
    "    sql = \"UPDATE buys SET price = %s, fee = qty*price*.00207, vat = fee*.07, net = (qty*price)+fee+vat WHERE id = %s\"\n",
    "    sql = sql % (new_price,id)\n",
    "    rp = conpf.execute(sql)\n",
    "    return \"Records updated = \" + str(id)"
   ]
  },
  {
   "cell_type": "code",
   "execution_count": 8,
   "metadata": {},
   "outputs": [
    {
     "data": {
      "text/html": [
       "<style type=\"text/css\">\n",
       "</style>\n",
       "<table id=\"T_2b208_\">\n",
       "  <thead>\n",
       "    <tr>\n",
       "      <th class=\"blank level0\" >&nbsp;</th>\n",
       "      <th class=\"col_heading level0 col0\" >id</th>\n",
       "      <th class=\"col_heading level0 col1\" >name</th>\n",
       "      <th class=\"col_heading level0 col2\" >date</th>\n",
       "      <th class=\"col_heading level0 col3\" >qty</th>\n",
       "      <th class=\"col_heading level0 col4\" >price</th>\n",
       "      <th class=\"col_heading level0 col5\" >gross</th>\n",
       "      <th class=\"col_heading level0 col6\" >fee</th>\n",
       "      <th class=\"col_heading level0 col7\" >vat</th>\n",
       "      <th class=\"col_heading level0 col8\" >net</th>\n",
       "      <th class=\"col_heading level0 col9\" >status</th>\n",
       "      <th class=\"col_heading level0 col10\" >kind</th>\n",
       "    </tr>\n",
       "  </thead>\n",
       "  <tbody>\n",
       "    <tr>\n",
       "      <th id=\"T_2b208_level0_row0\" class=\"row_heading level0 row0\" >0</th>\n",
       "      <td id=\"T_2b208_row0_col0\" class=\"data row0 col0\" >1108</td>\n",
       "      <td id=\"T_2b208_row0_col1\" class=\"data row0 col1\" >IMH</td>\n",
       "      <td id=\"T_2b208_row0_col2\" class=\"data row0 col2\" >2022-01-26</td>\n",
       "      <td id=\"T_2b208_row0_col3\" class=\"data row0 col3\" >6,000</td>\n",
       "      <td id=\"T_2b208_row0_col4\" class=\"data row0 col4\" >17.00</td>\n",
       "      <td id=\"T_2b208_row0_col5\" class=\"data row0 col5\" >102,000.00</td>\n",
       "      <td id=\"T_2b208_row0_col6\" class=\"data row0 col6\" >211.14</td>\n",
       "      <td id=\"T_2b208_row0_col7\" class=\"data row0 col7\" >14.78</td>\n",
       "      <td id=\"T_2b208_row0_col8\" class=\"data row0 col8\" >102,225.92</td>\n",
       "      <td id=\"T_2b208_row0_col9\" class=\"data row0 col9\" >Active</td>\n",
       "      <td id=\"T_2b208_row0_col10\" class=\"data row0 col10\" >DTD</td>\n",
       "    </tr>\n",
       "    <tr>\n",
       "      <th id=\"T_2b208_level0_row1\" class=\"row_heading level0 row1\" >1</th>\n",
       "      <td id=\"T_2b208_row1_col0\" class=\"data row1 col0\" >1096</td>\n",
       "      <td id=\"T_2b208_row1_col1\" class=\"data row1 col1\" >IMH</td>\n",
       "      <td id=\"T_2b208_row1_col2\" class=\"data row1 col2\" >2022-01-11</td>\n",
       "      <td id=\"T_2b208_row1_col3\" class=\"data row1 col3\" >7,000</td>\n",
       "      <td id=\"T_2b208_row1_col4\" class=\"data row1 col4\" >20.00</td>\n",
       "      <td id=\"T_2b208_row1_col5\" class=\"data row1 col5\" >140,000.00</td>\n",
       "      <td id=\"T_2b208_row1_col6\" class=\"data row1 col6\" >289.80</td>\n",
       "      <td id=\"T_2b208_row1_col7\" class=\"data row1 col7\" >20.29</td>\n",
       "      <td id=\"T_2b208_row1_col8\" class=\"data row1 col8\" >140,310.09</td>\n",
       "      <td id=\"T_2b208_row1_col9\" class=\"data row1 col9\" >Active</td>\n",
       "      <td id=\"T_2b208_row1_col10\" class=\"data row1 col10\" >DTD</td>\n",
       "    </tr>\n",
       "    <tr>\n",
       "      <th id=\"T_2b208_level0_row2\" class=\"row_heading level0 row2\" >2</th>\n",
       "      <td id=\"T_2b208_row2_col0\" class=\"data row2 col0\" >1069</td>\n",
       "      <td id=\"T_2b208_row2_col1\" class=\"data row2 col1\" >IMH</td>\n",
       "      <td id=\"T_2b208_row2_col2\" class=\"data row2 col2\" >2021-12-08</td>\n",
       "      <td id=\"T_2b208_row2_col3\" class=\"data row2 col3\" >2,000</td>\n",
       "      <td id=\"T_2b208_row2_col4\" class=\"data row2 col4\" >11.00</td>\n",
       "      <td id=\"T_2b208_row2_col5\" class=\"data row2 col5\" >22,000.00</td>\n",
       "      <td id=\"T_2b208_row2_col6\" class=\"data row2 col6\" >45.54</td>\n",
       "      <td id=\"T_2b208_row2_col7\" class=\"data row2 col7\" >3.19</td>\n",
       "      <td id=\"T_2b208_row2_col8\" class=\"data row2 col8\" >22,048.73</td>\n",
       "      <td id=\"T_2b208_row2_col9\" class=\"data row2 col9\" >Active</td>\n",
       "      <td id=\"T_2b208_row2_col10\" class=\"data row2 col10\" >DTD</td>\n",
       "    </tr>\n",
       "  </tbody>\n",
       "</table>\n"
      ],
      "text/plain": [
       "<pandas.io.formats.style.Styler at 0x1d61e1f7f10>"
      ]
     },
     "execution_count": 8,
     "metadata": {},
     "output_type": "execute_result"
    }
   ],
   "source": [
    "sql = '''\n",
    "SELECT B.id, S.name, date, qty, price, qty*price AS gross, fee, vat, net, status, kind\n",
    "FROM buys B\n",
    "JOIN stocks S ON B.stock_id = S.id \n",
    "WHERE name = \"%s\" AND status = \"Active\"\n",
    "ORDER BY id DESC'''\n",
    "sql = sql % name\n",
    "buys = pd.read_sql(sql, conpf)\n",
    "buys.style.format(format_dict)"
   ]
  },
  {
   "cell_type": "code",
   "execution_count": 9,
   "metadata": {},
   "outputs": [],
   "source": [
    "i = 0\n",
    "for id in ids:\n",
    "    update_buys_by_id(new_price,id)\n",
    "    i += 1"
   ]
  },
  {
   "cell_type": "code",
   "execution_count": 10,
   "metadata": {},
   "outputs": [
    {
     "data": {
      "text/html": [
       "<style type=\"text/css\">\n",
       "</style>\n",
       "<table id=\"T_0d6ca_\">\n",
       "  <thead>\n",
       "    <tr>\n",
       "      <th class=\"blank level0\" >&nbsp;</th>\n",
       "      <th class=\"col_heading level0 col0\" >id</th>\n",
       "      <th class=\"col_heading level0 col1\" >name</th>\n",
       "      <th class=\"col_heading level0 col2\" >date</th>\n",
       "      <th class=\"col_heading level0 col3\" >qty</th>\n",
       "      <th class=\"col_heading level0 col4\" >price</th>\n",
       "      <th class=\"col_heading level0 col5\" >gross</th>\n",
       "      <th class=\"col_heading level0 col6\" >fee</th>\n",
       "      <th class=\"col_heading level0 col7\" >vat</th>\n",
       "      <th class=\"col_heading level0 col8\" >net</th>\n",
       "      <th class=\"col_heading level0 col9\" >status</th>\n",
       "      <th class=\"col_heading level0 col10\" >kind</th>\n",
       "    </tr>\n",
       "  </thead>\n",
       "  <tbody>\n",
       "    <tr>\n",
       "      <th id=\"T_0d6ca_level0_row0\" class=\"row_heading level0 row0\" >0</th>\n",
       "      <td id=\"T_0d6ca_row0_col0\" class=\"data row0 col0\" >1108</td>\n",
       "      <td id=\"T_0d6ca_row0_col1\" class=\"data row0 col1\" >IMH</td>\n",
       "      <td id=\"T_0d6ca_row0_col2\" class=\"data row0 col2\" >2022-01-26</td>\n",
       "      <td id=\"T_0d6ca_row0_col3\" class=\"data row0 col3\" >6,000</td>\n",
       "      <td id=\"T_0d6ca_row0_col4\" class=\"data row0 col4\" >17.60</td>\n",
       "      <td id=\"T_0d6ca_row0_col5\" class=\"data row0 col5\" >105,600.00</td>\n",
       "      <td id=\"T_0d6ca_row0_col6\" class=\"data row0 col6\" >218.59</td>\n",
       "      <td id=\"T_0d6ca_row0_col7\" class=\"data row0 col7\" >15.30</td>\n",
       "      <td id=\"T_0d6ca_row0_col8\" class=\"data row0 col8\" >105,833.89</td>\n",
       "      <td id=\"T_0d6ca_row0_col9\" class=\"data row0 col9\" >Active</td>\n",
       "      <td id=\"T_0d6ca_row0_col10\" class=\"data row0 col10\" >DTD</td>\n",
       "    </tr>\n",
       "    <tr>\n",
       "      <th id=\"T_0d6ca_level0_row1\" class=\"row_heading level0 row1\" >1</th>\n",
       "      <td id=\"T_0d6ca_row1_col0\" class=\"data row1 col0\" >1096</td>\n",
       "      <td id=\"T_0d6ca_row1_col1\" class=\"data row1 col1\" >IMH</td>\n",
       "      <td id=\"T_0d6ca_row1_col2\" class=\"data row1 col2\" >2022-01-11</td>\n",
       "      <td id=\"T_0d6ca_row1_col3\" class=\"data row1 col3\" >7,000</td>\n",
       "      <td id=\"T_0d6ca_row1_col4\" class=\"data row1 col4\" >17.60</td>\n",
       "      <td id=\"T_0d6ca_row1_col5\" class=\"data row1 col5\" >123,200.00</td>\n",
       "      <td id=\"T_0d6ca_row1_col6\" class=\"data row1 col6\" >255.02</td>\n",
       "      <td id=\"T_0d6ca_row1_col7\" class=\"data row1 col7\" >17.85</td>\n",
       "      <td id=\"T_0d6ca_row1_col8\" class=\"data row1 col8\" >123,472.87</td>\n",
       "      <td id=\"T_0d6ca_row1_col9\" class=\"data row1 col9\" >Active</td>\n",
       "      <td id=\"T_0d6ca_row1_col10\" class=\"data row1 col10\" >DTD</td>\n",
       "    </tr>\n",
       "    <tr>\n",
       "      <th id=\"T_0d6ca_level0_row2\" class=\"row_heading level0 row2\" >2</th>\n",
       "      <td id=\"T_0d6ca_row2_col0\" class=\"data row2 col0\" >1069</td>\n",
       "      <td id=\"T_0d6ca_row2_col1\" class=\"data row2 col1\" >IMH</td>\n",
       "      <td id=\"T_0d6ca_row2_col2\" class=\"data row2 col2\" >2021-12-08</td>\n",
       "      <td id=\"T_0d6ca_row2_col3\" class=\"data row2 col3\" >2,000</td>\n",
       "      <td id=\"T_0d6ca_row2_col4\" class=\"data row2 col4\" >17.60</td>\n",
       "      <td id=\"T_0d6ca_row2_col5\" class=\"data row2 col5\" >35,200.00</td>\n",
       "      <td id=\"T_0d6ca_row2_col6\" class=\"data row2 col6\" >72.86</td>\n",
       "      <td id=\"T_0d6ca_row2_col7\" class=\"data row2 col7\" >5.10</td>\n",
       "      <td id=\"T_0d6ca_row2_col8\" class=\"data row2 col8\" >35,277.96</td>\n",
       "      <td id=\"T_0d6ca_row2_col9\" class=\"data row2 col9\" >Active</td>\n",
       "      <td id=\"T_0d6ca_row2_col10\" class=\"data row2 col10\" >DTD</td>\n",
       "    </tr>\n",
       "  </tbody>\n",
       "</table>\n"
      ],
      "text/plain": [
       "<pandas.io.formats.style.Styler at 0x1d61b5bf730>"
      ]
     },
     "execution_count": 10,
     "metadata": {},
     "output_type": "execute_result"
    }
   ],
   "source": [
    "sql = '''\n",
    "SELECT B.id, S.name, date, qty, price, qty*price AS gross, fee, vat, net, status, kind\n",
    "FROM buys B\n",
    "JOIN stocks S ON B.stock_id = S.id \n",
    "WHERE name = \"%s\" AND status = \"Active\"\n",
    "ORDER BY id DESC'''\n",
    "sql = sql % name\n",
    "buys = pd.read_sql(sql, conpf)\n",
    "buys.style.format(format_dict)"
   ]
  },
  {
   "cell_type": "code",
   "execution_count": null,
   "metadata": {},
   "outputs": [],
   "source": []
  }
 ],
 "metadata": {
  "anaconda-cloud": {},
  "kernelspec": {
   "display_name": "Python 3 (ipykernel)",
   "language": "python",
   "name": "python3"
  },
  "language_info": {
   "codemirror_mode": {
    "name": "ipython",
    "version": 3
   },
   "file_extension": ".py",
   "mimetype": "text/x-python",
   "name": "python",
   "nbconvert_exporter": "python",
   "pygments_lexer": "ipython3",
   "version": "3.8.11"
  }
 },
 "nbformat": 4,
 "nbformat_minor": 1
}
