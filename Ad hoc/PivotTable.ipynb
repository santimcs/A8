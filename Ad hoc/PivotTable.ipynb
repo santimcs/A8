{
 "cells": [
  {
   "cell_type": "code",
   "execution_count": 7,
   "id": "b037cce6",
   "metadata": {},
   "outputs": [
    {
     "data": {
      "text/html": [
       "<div>\n",
       "<style scoped>\n",
       "    .dataframe tbody tr th:only-of-type {\n",
       "        vertical-align: middle;\n",
       "    }\n",
       "\n",
       "    .dataframe tbody tr th {\n",
       "        vertical-align: top;\n",
       "    }\n",
       "\n",
       "    .dataframe thead th {\n",
       "        text-align: right;\n",
       "    }\n",
       "</style>\n",
       "<table border=\"1\" class=\"dataframe\">\n",
       "  <thead>\n",
       "    <tr style=\"text-align: right;\">\n",
       "      <th></th>\n",
       "      <th>Name</th>\n",
       "      <th>Company_Name</th>\n",
       "      <th>Employee_Job_Title</th>\n",
       "      <th>Employee_City</th>\n",
       "      <th>Employee_Country</th>\n",
       "      <th>Employee_Salary</th>\n",
       "      <th>Employment_Status</th>\n",
       "      <th>Employee_Rating</th>\n",
       "    </tr>\n",
       "  </thead>\n",
       "  <tbody>\n",
       "    <tr>\n",
       "      <th>995</th>\n",
       "      <td>Mark Gordon</td>\n",
       "      <td>Baker, Allen and Edwards</td>\n",
       "      <td>Optometrist</td>\n",
       "      <td>Wardfort</td>\n",
       "      <td>Indonesia</td>\n",
       "      <td>516950</td>\n",
       "      <td>Full Time</td>\n",
       "      <td>4.5</td>\n",
       "    </tr>\n",
       "    <tr>\n",
       "      <th>996</th>\n",
       "      <td>Courtney Bell</td>\n",
       "      <td>Andrade LLC</td>\n",
       "      <td>Sales promotion account executive</td>\n",
       "      <td>Kristaburgh</td>\n",
       "      <td>Holy See (Vatican City State)</td>\n",
       "      <td>257400</td>\n",
       "      <td>Intern</td>\n",
       "      <td>2.8</td>\n",
       "    </tr>\n",
       "    <tr>\n",
       "      <th>997</th>\n",
       "      <td>Kathleen Lamb</td>\n",
       "      <td>Wallace, Smith and Shepard</td>\n",
       "      <td>Administrator</td>\n",
       "      <td>Kristaburgh</td>\n",
       "      <td>Afghanistan</td>\n",
       "      <td>861920</td>\n",
       "      <td>Full Time</td>\n",
       "      <td>1.2</td>\n",
       "    </tr>\n",
       "    <tr>\n",
       "      <th>998</th>\n",
       "      <td>Renee Davis</td>\n",
       "      <td>Nichols-James</td>\n",
       "      <td>Administrator</td>\n",
       "      <td>Aliciafort</td>\n",
       "      <td>Slovenia</td>\n",
       "      <td>848830</td>\n",
       "      <td>Full Time</td>\n",
       "      <td>5.0</td>\n",
       "    </tr>\n",
       "    <tr>\n",
       "      <th>999</th>\n",
       "      <td>Lindsey Sullivan</td>\n",
       "      <td>Baker, Allen and Edwards</td>\n",
       "      <td>Garment/textile technologist</td>\n",
       "      <td>North Melissafurt</td>\n",
       "      <td>Chile</td>\n",
       "      <td>504680</td>\n",
       "      <td>Full Time</td>\n",
       "      <td>0.1</td>\n",
       "    </tr>\n",
       "  </tbody>\n",
       "</table>\n",
       "</div>"
      ],
      "text/plain": [
       "                 Name                Company_Name  \\\n",
       "995       Mark Gordon    Baker, Allen and Edwards   \n",
       "996     Courtney Bell                 Andrade LLC   \n",
       "997     Kathleen Lamb  Wallace, Smith and Shepard   \n",
       "998       Renee Davis               Nichols-James   \n",
       "999  Lindsey Sullivan    Baker, Allen and Edwards   \n",
       "\n",
       "                    Employee_Job_Title      Employee_City  \\\n",
       "995                        Optometrist           Wardfort   \n",
       "996  Sales promotion account executive        Kristaburgh   \n",
       "997                      Administrator        Kristaburgh   \n",
       "998                      Administrator         Aliciafort   \n",
       "999       Garment/textile technologist  North Melissafurt   \n",
       "\n",
       "                  Employee_Country  Employee_Salary Employment_Status  \\\n",
       "995                      Indonesia           516950         Full Time   \n",
       "996  Holy See (Vatican City State)           257400            Intern   \n",
       "997                    Afghanistan           861920         Full Time   \n",
       "998                       Slovenia           848830         Full Time   \n",
       "999                          Chile           504680         Full Time   \n",
       "\n",
       "     Employee_Rating  \n",
       "995              4.5  \n",
       "996              2.8  \n",
       "997              1.2  \n",
       "998              5.0  \n",
       "999              0.1  "
      ]
     },
     "execution_count": 7,
     "metadata": {},
     "output_type": "execute_result"
    }
   ],
   "source": [
    "import pandas as pd\n",
    "df = pd.read_csv(\"../data/employee_dataset.csv\")\n",
    "\n",
    "df.tail()"
   ]
  },
  {
   "cell_type": "code",
   "execution_count": 8,
   "id": "136c4dca",
   "metadata": {},
   "outputs": [
    {
     "data": {
      "text/html": [
       "\n",
       "        <iframe\n",
       "            width=\"100%\"\n",
       "            height=\"500\"\n",
       "            src=\"pivottablejs.html\"\n",
       "            frameborder=\"0\"\n",
       "            allowfullscreen\n",
       "        ></iframe>\n",
       "        "
      ],
      "text/plain": [
       "<IPython.lib.display.IFrame at 0x21c700a10a0>"
      ]
     },
     "execution_count": 8,
     "metadata": {},
     "output_type": "execute_result"
    }
   ],
   "source": [
    "from pivottablejs import pivot_ui\n",
    "\n",
    "pivot_ui(df)"
   ]
  },
  {
   "cell_type": "code",
   "execution_count": null,
   "id": "a4f433bc",
   "metadata": {},
   "outputs": [],
   "source": []
  }
 ],
 "metadata": {
  "kernelspec": {
   "display_name": "Python 3 (ipykernel)",
   "language": "python",
   "name": "python3"
  },
  "language_info": {
   "codemirror_mode": {
    "name": "ipython",
    "version": 3
   },
   "file_extension": ".py",
   "mimetype": "text/x-python",
   "name": "python",
   "nbconvert_exporter": "python",
   "pygments_lexer": "ipython3",
   "version": "3.8.11"
  }
 },
 "nbformat": 4,
 "nbformat_minor": 5
}
