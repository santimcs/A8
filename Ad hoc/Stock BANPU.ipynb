{
 "cells": [
  {
   "cell_type": "code",
   "execution_count": 1,
   "metadata": {},
   "outputs": [],
   "source": [
    "import pandas as pd\n",
    "from datetime import date, timedelta\n",
    "from sqlalchemy import create_engine\n",
    "\n",
    "engine = create_engine('mysql+pymysql://root:@localhost:3306/portfolio_development')\n",
    "conpf = engine.connect()\n",
    "\n",
    "data_path = \"../data/\"\n",
    "csv_path = \"\\\\Users\\\\User\\\\iCloudDrive\\\\\"\n",
    "box_path = \"\\\\Users\\\\User\\\\Dropbox\\\\\"\n",
    "\n",
    "#year = 2022\n",
    "name = 'BANPU'\n",
    "buy_date = '2018-06-21'"
   ]
  },
  {
   "cell_type": "code",
   "execution_count": 2,
   "metadata": {},
   "outputs": [],
   "source": [
    "format_dict = {'qty':'{:,}',\n",
    "              'sell_price':'{:,.2f}','buy_price':'{:,.2f}','diff':'{:,.2f}',\n",
    "              'sell_amt':'{:,.2f}','buy_amt':'{:,.2f}','gross':'{:,.2f}','profit':'{:,.2f}',\n",
    "              'pct':'{:,.2f}%','net':'{:,.2f}',\n",
    "              'cost_amt':'{:,.2f}','unit_cost':'{:,.2f}','avg_cost':'{:,.2f}'}\n",
    "\n",
    "pd.set_option('display.float_format','{:,.2f}'.format)"
   ]
  },
  {
   "cell_type": "markdown",
   "metadata": {},
   "source": [
    "### Record selection for transactions"
   ]
  },
  {
   "cell_type": "code",
   "execution_count": 3,
   "metadata": {},
   "outputs": [
    {
     "name": "stdout",
     "output_type": "stream",
     "text": [
      "\n",
      "SELECT name, YEAR(sells.date) AS sell_year, MONTH(sells.date) AS sell_month,  \n",
      "             YEAR(buys.date) AS buy_year, MONTH(buys.date) AS buy_month,\n",
      "sells.price AS sell_price, buys.price AS buy_price, \n",
      "(sells.price - buys.price) AS diff, qty, \n",
      "(sells.price * qty) AS sell_amt,\n",
      "(buys.price * qty) AS buy_amt,\n",
      "(sells.price - buys.price) * qty AS gross, \n",
      "ROUND((sells.price - buys.price)/buys.price*100,2) AS pct, profit, buys.kind\n",
      "FROM sells JOIN buys ON sells.buy_id = buys.id\n",
      "JOIN stocks ON buys.stock_id = stocks.id\n",
      "WHERE name = 'BANPU' AND buys.date >= '2018-06-21'\n",
      "ORDER BY sell_year DESC, sell_month DESC, name\n"
     ]
    }
   ],
   "source": [
    "sql = '''\n",
    "SELECT name, YEAR(sells.date) AS sell_year, MONTH(sells.date) AS sell_month,  \n",
    "             YEAR(buys.date) AS buy_year, MONTH(buys.date) AS buy_month,\n",
    "sells.price AS sell_price, buys.price AS buy_price, \n",
    "(sells.price - buys.price) AS diff, qty, \n",
    "(sells.price * qty) AS sell_amt,\n",
    "(buys.price * qty) AS buy_amt,\n",
    "(sells.price - buys.price) * qty AS gross, \n",
    "ROUND((sells.price - buys.price)/buys.price*100,2) AS pct, profit, buys.kind\n",
    "FROM sells JOIN buys ON sells.buy_id = buys.id\n",
    "JOIN stocks ON buys.stock_id = stocks.id\n",
    "WHERE name = '%s' AND buys.date >= '%s'\n",
    "ORDER BY sell_year DESC, sell_month DESC, name'''\n",
    "\n",
    "sql = sql % (name, buy_date)\n",
    "sells_df = pd.read_sql(sql, conpf)\n",
    "print(sql)"
   ]
  },
  {
   "cell_type": "code",
   "execution_count": 4,
   "metadata": {},
   "outputs": [
    {
     "data": {
      "text/html": [
       "<div>\n",
       "<style scoped>\n",
       "    .dataframe tbody tr th:only-of-type {\n",
       "        vertical-align: middle;\n",
       "    }\n",
       "\n",
       "    .dataframe tbody tr th {\n",
       "        vertical-align: top;\n",
       "    }\n",
       "\n",
       "    .dataframe thead th {\n",
       "        text-align: right;\n",
       "    }\n",
       "</style>\n",
       "<table border=\"1\" class=\"dataframe\">\n",
       "  <thead>\n",
       "    <tr style=\"text-align: right;\">\n",
       "      <th></th>\n",
       "      <th>name</th>\n",
       "      <th>sell_year</th>\n",
       "      <th>sell_month</th>\n",
       "      <th>buy_year</th>\n",
       "      <th>buy_month</th>\n",
       "      <th>sell_price</th>\n",
       "      <th>buy_price</th>\n",
       "      <th>diff</th>\n",
       "      <th>qty</th>\n",
       "      <th>sell_amt</th>\n",
       "      <th>buy_amt</th>\n",
       "      <th>gross</th>\n",
       "      <th>pct</th>\n",
       "      <th>profit</th>\n",
       "      <th>kind</th>\n",
       "    </tr>\n",
       "  </thead>\n",
       "  <tbody>\n",
       "    <tr>\n",
       "      <th>0</th>\n",
       "      <td>BANPU</td>\n",
       "      <td>2020</td>\n",
       "      <td>8</td>\n",
       "      <td>2020</td>\n",
       "      <td>6</td>\n",
       "      <td>5.45</td>\n",
       "      <td>6.35</td>\n",
       "      <td>-0.90</td>\n",
       "      <td>6000</td>\n",
       "      <td>32,700.00</td>\n",
       "      <td>38,100.00</td>\n",
       "      <td>-5,400.00</td>\n",
       "      <td>-14.17</td>\n",
       "      <td>-5,556.82</td>\n",
       "      <td>NBS</td>\n",
       "    </tr>\n",
       "    <tr>\n",
       "      <th>1</th>\n",
       "      <td>BANPU</td>\n",
       "      <td>2020</td>\n",
       "      <td>8</td>\n",
       "      <td>2018</td>\n",
       "      <td>9</td>\n",
       "      <td>5.45</td>\n",
       "      <td>18.10</td>\n",
       "      <td>-12.65</td>\n",
       "      <td>12000</td>\n",
       "      <td>65,400.00</td>\n",
       "      <td>217,200.00</td>\n",
       "      <td>-151,800.00</td>\n",
       "      <td>-69.89</td>\n",
       "      <td>-152,425.93</td>\n",
       "      <td>NBS</td>\n",
       "    </tr>\n",
       "    <tr>\n",
       "      <th>2</th>\n",
       "      <td>BANPU</td>\n",
       "      <td>2020</td>\n",
       "      <td>5</td>\n",
       "      <td>2018</td>\n",
       "      <td>6</td>\n",
       "      <td>6.50</td>\n",
       "      <td>18.10</td>\n",
       "      <td>-11.60</td>\n",
       "      <td>6000</td>\n",
       "      <td>39,000.00</td>\n",
       "      <td>108,600.00</td>\n",
       "      <td>-69,600.00</td>\n",
       "      <td>-64.09</td>\n",
       "      <td>-69,926.92</td>\n",
       "      <td>NBS</td>\n",
       "    </tr>\n",
       "    <tr>\n",
       "      <th>3</th>\n",
       "      <td>BANPU</td>\n",
       "      <td>2020</td>\n",
       "      <td>5</td>\n",
       "      <td>2018</td>\n",
       "      <td>6</td>\n",
       "      <td>7.40</td>\n",
       "      <td>18.10</td>\n",
       "      <td>-10.70</td>\n",
       "      <td>6000</td>\n",
       "      <td>44,400.00</td>\n",
       "      <td>108,600.00</td>\n",
       "      <td>-64,200.00</td>\n",
       "      <td>-59.12</td>\n",
       "      <td>-64,538.88</td>\n",
       "      <td>NBS</td>\n",
       "    </tr>\n",
       "  </tbody>\n",
       "</table>\n",
       "</div>"
      ],
      "text/plain": [
       "    name  sell_year  sell_month  buy_year  buy_month  sell_price  buy_price  \\\n",
       "0  BANPU       2020           8      2020          6        5.45       6.35   \n",
       "1  BANPU       2020           8      2018          9        5.45      18.10   \n",
       "2  BANPU       2020           5      2018          6        6.50      18.10   \n",
       "3  BANPU       2020           5      2018          6        7.40      18.10   \n",
       "\n",
       "    diff    qty  sell_amt    buy_amt       gross    pct      profit kind  \n",
       "0  -0.90   6000 32,700.00  38,100.00   -5,400.00 -14.17   -5,556.82  NBS  \n",
       "1 -12.65  12000 65,400.00 217,200.00 -151,800.00 -69.89 -152,425.93  NBS  \n",
       "2 -11.60   6000 39,000.00 108,600.00  -69,600.00 -64.09  -69,926.92  NBS  \n",
       "3 -10.70   6000 44,400.00 108,600.00  -64,200.00 -59.12  -64,538.88  NBS  "
      ]
     },
     "execution_count": 4,
     "metadata": {},
     "output_type": "execute_result"
    }
   ],
   "source": [
    "sells_df"
   ]
  },
  {
   "cell_type": "markdown",
   "metadata": {},
   "source": [
    "### Record selection for active stocks"
   ]
  },
  {
   "cell_type": "code",
   "execution_count": 5,
   "metadata": {},
   "outputs": [
    {
     "data": {
      "text/html": [
       "<style type=\"text/css\">\n",
       "</style>\n",
       "<table id=\"T_a8c08_\">\n",
       "  <thead>\n",
       "    <tr>\n",
       "      <th class=\"blank level0\" >&nbsp;</th>\n",
       "      <th class=\"col_heading level0 col0\" >name</th>\n",
       "      <th class=\"col_heading level0 col1\" >buy_date</th>\n",
       "      <th class=\"col_heading level0 col2\" >unit_cost</th>\n",
       "      <th class=\"col_heading level0 col3\" >qty</th>\n",
       "      <th class=\"col_heading level0 col4\" >cost_amt</th>\n",
       "      <th class=\"col_heading level0 col5\" >net</th>\n",
       "    </tr>\n",
       "  </thead>\n",
       "  <tbody>\n",
       "    <tr>\n",
       "      <th id=\"T_a8c08_level0_row0\" class=\"row_heading level0 row0\" >0</th>\n",
       "      <td id=\"T_a8c08_row0_col0\" class=\"data row0 col0\" >BANPU</td>\n",
       "      <td id=\"T_a8c08_row0_col1\" class=\"data row0 col1\" >2022-09-08</td>\n",
       "      <td id=\"T_a8c08_row0_col2\" class=\"data row0 col2\" >14.00</td>\n",
       "      <td id=\"T_a8c08_row0_col3\" class=\"data row0 col3\" >7,500</td>\n",
       "      <td id=\"T_a8c08_row0_col4\" class=\"data row0 col4\" >105,000.00</td>\n",
       "      <td id=\"T_a8c08_row0_col5\" class=\"data row0 col5\" >105,232.56</td>\n",
       "    </tr>\n",
       "  </tbody>\n",
       "</table>\n"
      ],
      "text/plain": [
       "<pandas.io.formats.style.Styler at 0x22236eaef70>"
      ]
     },
     "execution_count": 5,
     "metadata": {},
     "output_type": "execute_result"
    }
   ],
   "source": [
    "sql = '''\n",
    "SELECT name, buys.date AS buy_date,\n",
    "buys.price AS unit_cost, qty, \n",
    "(buys.price * qty) AS cost_amt, net\n",
    "FROM buys\n",
    "JOIN stocks ON buys.stock_id = stocks.id\n",
    "WHERE name = '%s' AND status = 'Active'\n",
    "ORDER BY buys.date DESC'''\n",
    "sql = sql % name\n",
    "buys_df = pd.read_sql(sql, conpf)\n",
    "buys_df.style.format(format_dict)"
   ]
  },
  {
   "cell_type": "code",
   "execution_count": 18,
   "metadata": {},
   "outputs": [
    {
     "name": "stdout",
     "output_type": "stream",
     "text": [
      "\n",
      "SELECT name, buys.date AS buy_date,\n",
      "buys.price AS unit_cost, qty, \n",
      "(buys.price * qty) AS cost_amt, net\n",
      "FROM buys\n",
      "JOIN stocks ON buys.stock_id = stocks.id\n",
      "WHERE name = 'BANPU' AND status = 'Active'\n",
      "AND buys.date >= '2018-06-21'\n",
      "ORDER BY buys.date DESC\n"
     ]
    },
    {
     "data": {
      "text/html": [
       "<style type=\"text/css\">\n",
       "</style>\n",
       "<table id=\"T_a37a7_\">\n",
       "  <thead>\n",
       "    <tr>\n",
       "      <th class=\"blank level0\" >&nbsp;</th>\n",
       "      <th class=\"col_heading level0 col0\" >name</th>\n",
       "      <th class=\"col_heading level0 col1\" >buy_date</th>\n",
       "      <th class=\"col_heading level0 col2\" >unit_cost</th>\n",
       "      <th class=\"col_heading level0 col3\" >qty</th>\n",
       "      <th class=\"col_heading level0 col4\" >cost_amt</th>\n",
       "      <th class=\"col_heading level0 col5\" >net</th>\n",
       "    </tr>\n",
       "  </thead>\n",
       "  <tbody>\n",
       "    <tr>\n",
       "      <th id=\"T_a37a7_level0_row0\" class=\"row_heading level0 row0\" >0</th>\n",
       "      <td id=\"T_a37a7_row0_col0\" class=\"data row0 col0\" >BANPU</td>\n",
       "      <td id=\"T_a37a7_row0_col1\" class=\"data row0 col1\" >2022-09-08</td>\n",
       "      <td id=\"T_a37a7_row0_col2\" class=\"data row0 col2\" >14.00</td>\n",
       "      <td id=\"T_a37a7_row0_col3\" class=\"data row0 col3\" >7,500</td>\n",
       "      <td id=\"T_a37a7_row0_col4\" class=\"data row0 col4\" >105,000.00</td>\n",
       "      <td id=\"T_a37a7_row0_col5\" class=\"data row0 col5\" >105,232.56</td>\n",
       "    </tr>\n",
       "  </tbody>\n",
       "</table>\n"
      ],
      "text/plain": [
       "<pandas.io.formats.style.Styler at 0x22237f26190>"
      ]
     },
     "execution_count": 18,
     "metadata": {},
     "output_type": "execute_result"
    }
   ],
   "source": [
    "sql = '''\n",
    "SELECT name, buys.date AS buy_date,\n",
    "buys.price AS unit_cost, qty, \n",
    "(buys.price * qty) AS cost_amt, net\n",
    "FROM buys\n",
    "JOIN stocks ON buys.stock_id = stocks.id\n",
    "WHERE name = '%s' AND status = 'Active'\n",
    "AND buys.date >= '2018-06-21'\n",
    "ORDER BY buys.date DESC'''\n",
    "sql = sql % name\n",
    "print(sql)\n",
    "\n",
    "buys_df = pd.read_sql(sql, conpf)\n",
    "buys_df.style.format(format_dict)"
   ]
  },
  {
   "cell_type": "code",
   "execution_count": 19,
   "metadata": {},
   "outputs": [
    {
     "data": {
      "text/plain": [
       "cost_amt   105,000.00\n",
       "net        105,232.56\n",
       "qty          7,500.00\n",
       "dtype: float64"
      ]
     },
     "execution_count": 19,
     "metadata": {},
     "output_type": "execute_result"
    }
   ],
   "source": [
    "buys_df[['cost_amt','net','qty']].sum()"
   ]
  },
  {
   "cell_type": "code",
   "execution_count": 20,
   "metadata": {},
   "outputs": [
    {
     "name": "stdout",
     "output_type": "stream",
     "text": [
      "\n",
      "SELECT name, p_date, amt, net, amt-net AS refund,\n",
      "year, quarter AS q, x_date, number, ppu, (net / number * 1000) AS div_1k\n",
      "FROM dividends\n",
      "WHERE name = 'BANPU' AND x_date > '2018-06-21'\n",
      "ORDER BY p_date DESC\n"
     ]
    },
    {
     "data": {
      "text/html": [
       "<div>\n",
       "<style scoped>\n",
       "    .dataframe tbody tr th:only-of-type {\n",
       "        vertical-align: middle;\n",
       "    }\n",
       "\n",
       "    .dataframe tbody tr th {\n",
       "        vertical-align: top;\n",
       "    }\n",
       "\n",
       "    .dataframe thead th {\n",
       "        text-align: right;\n",
       "    }\n",
       "</style>\n",
       "<table border=\"1\" class=\"dataframe\">\n",
       "  <thead>\n",
       "    <tr style=\"text-align: right;\">\n",
       "      <th></th>\n",
       "      <th>name</th>\n",
       "      <th>p_date</th>\n",
       "      <th>amt</th>\n",
       "      <th>net</th>\n",
       "      <th>refund</th>\n",
       "      <th>year</th>\n",
       "      <th>q</th>\n",
       "      <th>x_date</th>\n",
       "      <th>number</th>\n",
       "      <th>ppu</th>\n",
       "      <th>div_1k</th>\n",
       "    </tr>\n",
       "  </thead>\n",
       "  <tbody>\n",
       "    <tr>\n",
       "      <th>0</th>\n",
       "      <td>BANPU</td>\n",
       "      <td>2019-09-25</td>\n",
       "      <td>3,600.00</td>\n",
       "      <td>3,240.00</td>\n",
       "      <td>360.00</td>\n",
       "      <td>2019</td>\n",
       "      <td>2</td>\n",
       "      <td>2019-09-10</td>\n",
       "      <td>24000</td>\n",
       "      <td>0.15</td>\n",
       "      <td>135.00</td>\n",
       "    </tr>\n",
       "    <tr>\n",
       "      <th>1</th>\n",
       "      <td>BANPU</td>\n",
       "      <td>2019-04-30</td>\n",
       "      <td>7,350.00</td>\n",
       "      <td>6,615.00</td>\n",
       "      <td>735.00</td>\n",
       "      <td>2018</td>\n",
       "      <td>4</td>\n",
       "      <td>2019-04-30</td>\n",
       "      <td>21000</td>\n",
       "      <td>0.35</td>\n",
       "      <td>315.00</td>\n",
       "    </tr>\n",
       "    <tr>\n",
       "      <th>2</th>\n",
       "      <td>BANPU</td>\n",
       "      <td>2018-09-28</td>\n",
       "      <td>4,200.00</td>\n",
       "      <td>3,780.00</td>\n",
       "      <td>420.00</td>\n",
       "      <td>2018</td>\n",
       "      <td>2</td>\n",
       "      <td>2018-09-28</td>\n",
       "      <td>12000</td>\n",
       "      <td>0.35</td>\n",
       "      <td>315.00</td>\n",
       "    </tr>\n",
       "  </tbody>\n",
       "</table>\n",
       "</div>"
      ],
      "text/plain": [
       "    name      p_date      amt      net  refund  year  q      x_date  number  \\\n",
       "0  BANPU  2019-09-25 3,600.00 3,240.00  360.00  2019  2  2019-09-10   24000   \n",
       "1  BANPU  2019-04-30 7,350.00 6,615.00  735.00  2018  4  2019-04-30   21000   \n",
       "2  BANPU  2018-09-28 4,200.00 3,780.00  420.00  2018  2  2018-09-28   12000   \n",
       "\n",
       "   ppu  div_1k  \n",
       "0 0.15  135.00  \n",
       "1 0.35  315.00  \n",
       "2 0.35  315.00  "
      ]
     },
     "execution_count": 20,
     "metadata": {},
     "output_type": "execute_result"
    }
   ],
   "source": [
    "sql = '''\n",
    "SELECT name, p_date, amt, net, amt-net AS refund,\n",
    "year, quarter AS q, x_date, number, ppu, (net / number * 1000) AS div_1k\n",
    "FROM dividends\n",
    "WHERE name = '%s' AND x_date > '%s'\n",
    "ORDER BY p_date DESC'''\n",
    "sql = sql % (name, buy_date)\n",
    "print(sql)\n",
    "\n",
    "div_df = pd.read_sql(sql, conpf)\n",
    "div_df"
   ]
  },
  {
   "cell_type": "code",
   "execution_count": 21,
   "metadata": {},
   "outputs": [
    {
     "data": {
      "text/html": [
       "<div>\n",
       "<style scoped>\n",
       "    .dataframe tbody tr th:only-of-type {\n",
       "        vertical-align: middle;\n",
       "    }\n",
       "\n",
       "    .dataframe tbody tr th {\n",
       "        vertical-align: top;\n",
       "    }\n",
       "\n",
       "    .dataframe thead tr th {\n",
       "        text-align: left;\n",
       "    }\n",
       "\n",
       "    .dataframe thead tr:last-of-type th {\n",
       "        text-align: right;\n",
       "    }\n",
       "</style>\n",
       "<table border=\"1\" class=\"dataframe\">\n",
       "  <thead>\n",
       "    <tr>\n",
       "      <th></th>\n",
       "      <th>amt</th>\n",
       "      <th>net</th>\n",
       "      <th colspan=\"2\" halign=\"left\">number</th>\n",
       "    </tr>\n",
       "    <tr>\n",
       "      <th></th>\n",
       "      <th>sum</th>\n",
       "      <th>sum</th>\n",
       "      <th>mean</th>\n",
       "      <th>count</th>\n",
       "    </tr>\n",
       "    <tr>\n",
       "      <th>name</th>\n",
       "      <th></th>\n",
       "      <th></th>\n",
       "      <th></th>\n",
       "      <th></th>\n",
       "    </tr>\n",
       "  </thead>\n",
       "  <tbody>\n",
       "    <tr>\n",
       "      <th>BANPU</th>\n",
       "      <td>15,150.00</td>\n",
       "      <td>13,635.00</td>\n",
       "      <td>19,000.00</td>\n",
       "      <td>3</td>\n",
       "    </tr>\n",
       "  </tbody>\n",
       "</table>\n",
       "</div>"
      ],
      "text/plain": [
       "            amt       net    number      \n",
       "            sum       sum      mean count\n",
       "name                                     \n",
       "BANPU 15,150.00 13,635.00 19,000.00     3"
      ]
     },
     "execution_count": 21,
     "metadata": {},
     "output_type": "execute_result"
    }
   ],
   "source": [
    "div_grp = div_df.groupby(['name'], as_index=True).agg(\n",
    "    {\n",
    "        'amt':['sum'],\n",
    "        'net':['sum'], \n",
    "        'number':['mean','count'],         \n",
    "    }\n",
    ")\n",
    "div_grp"
   ]
  },
  {
   "cell_type": "code",
   "execution_count": 22,
   "metadata": {},
   "outputs": [
    {
     "data": {
      "text/plain": [
       "13635"
      ]
     },
     "execution_count": 22,
     "metadata": {},
     "output_type": "execute_result"
    }
   ],
   "source": [
    "acc_div = 13_635\n",
    "acc_div"
   ]
  },
  {
   "cell_type": "code",
   "execution_count": 23,
   "metadata": {},
   "outputs": [
    {
     "name": "stdout",
     "output_type": "stream",
     "text": [
      "\n",
      "SELECT name, buys.date AS buy_date,\n",
      "buys.price AS unit_cost, qty, \n",
      "(buys.price * qty) AS cost_amt, net\n",
      "FROM buys\n",
      "JOIN stocks ON buys.stock_id = stocks.id\n",
      "WHERE name = 'BANPU' AND status = 'Active'\n",
      "AND buys.date >= '2018-06-21'\n",
      "ORDER BY name, buys.date\n"
     ]
    },
    {
     "data": {
      "text/html": [
       "<style type=\"text/css\">\n",
       "</style>\n",
       "<table id=\"T_67922_\">\n",
       "  <thead>\n",
       "    <tr>\n",
       "      <th class=\"blank level0\" >&nbsp;</th>\n",
       "      <th class=\"col_heading level0 col0\" >name</th>\n",
       "      <th class=\"col_heading level0 col1\" >buy_date</th>\n",
       "      <th class=\"col_heading level0 col2\" >unit_cost</th>\n",
       "      <th class=\"col_heading level0 col3\" >qty</th>\n",
       "      <th class=\"col_heading level0 col4\" >cost_amt</th>\n",
       "      <th class=\"col_heading level0 col5\" >net</th>\n",
       "    </tr>\n",
       "  </thead>\n",
       "  <tbody>\n",
       "    <tr>\n",
       "      <th id=\"T_67922_level0_row0\" class=\"row_heading level0 row0\" >0</th>\n",
       "      <td id=\"T_67922_row0_col0\" class=\"data row0 col0\" >BANPU</td>\n",
       "      <td id=\"T_67922_row0_col1\" class=\"data row0 col1\" >2022-09-08</td>\n",
       "      <td id=\"T_67922_row0_col2\" class=\"data row0 col2\" >14.00</td>\n",
       "      <td id=\"T_67922_row0_col3\" class=\"data row0 col3\" >7,500</td>\n",
       "      <td id=\"T_67922_row0_col4\" class=\"data row0 col4\" >105,000.00</td>\n",
       "      <td id=\"T_67922_row0_col5\" class=\"data row0 col5\" >105,232.56</td>\n",
       "    </tr>\n",
       "  </tbody>\n",
       "</table>\n"
      ],
      "text/plain": [
       "<pandas.io.formats.style.Styler at 0x22238112610>"
      ]
     },
     "execution_count": 23,
     "metadata": {},
     "output_type": "execute_result"
    }
   ],
   "source": [
    "sql = '''\n",
    "SELECT name, buys.date AS buy_date,\n",
    "buys.price AS unit_cost, qty, \n",
    "(buys.price * qty) AS cost_amt, net\n",
    "FROM buys\n",
    "JOIN stocks ON buys.stock_id = stocks.id\n",
    "WHERE name = '%s' AND status = 'Active'\n",
    "AND buys.date >= '2018-06-21'\n",
    "ORDER BY name, buys.date'''\n",
    "sql = sql % name\n",
    "print(sql)\n",
    "\n",
    "buys_df = pd.read_sql(sql, conpf)\n",
    "buys_df.style.format(format_dict)"
   ]
  },
  {
   "cell_type": "code",
   "execution_count": 24,
   "metadata": {},
   "outputs": [
    {
     "data": {
      "text/plain": [
       "qty          7,500.00\n",
       "cost_amt   105,000.00\n",
       "dtype: float64"
      ]
     },
     "execution_count": 24,
     "metadata": {},
     "output_type": "execute_result"
    }
   ],
   "source": [
    "buys_df[['qty','cost_amt']].sum()"
   ]
  },
  {
   "cell_type": "code",
   "execution_count": 13,
   "metadata": {},
   "outputs": [
    {
     "data": {
      "text/plain": [
       "439500"
      ]
     },
     "execution_count": 13,
     "metadata": {},
     "output_type": "execute_result"
    }
   ],
   "source": [
    "qty = 15_000\n",
    "cost_amt = 465_000\n",
    "acc_div = 25_500\n",
    "sell_amt = cost_amt - acc_div\n",
    "sell_amt"
   ]
  },
  {
   "cell_type": "code",
   "execution_count": 14,
   "metadata": {},
   "outputs": [
    {
     "data": {
      "text/plain": [
       "29.3"
      ]
     },
     "execution_count": 14,
     "metadata": {},
     "output_type": "execute_result"
    }
   ],
   "source": [
    "sell_price = sell_amt / qty\n",
    "sell_price"
   ]
  },
  {
   "cell_type": "code",
   "execution_count": 15,
   "metadata": {},
   "outputs": [
    {
     "data": {
      "text/plain": [
       "442500.0"
      ]
     },
     "execution_count": 15,
     "metadata": {},
     "output_type": "execute_result"
    }
   ],
   "source": [
    "#unit_plus = 2.75\n",
    "sell_price = 29.50 # + unit_plus\n",
    "sales_amt = sell_price * qty\n",
    "sales_amt"
   ]
  },
  {
   "cell_type": "markdown",
   "metadata": {},
   "source": [
    "### Plan A: Sell at 29.50 x 15,000 shares"
   ]
  },
  {
   "cell_type": "code",
   "execution_count": null,
   "metadata": {},
   "outputs": [],
   "source": []
  }
 ],
 "metadata": {
  "anaconda-cloud": {},
  "kernelspec": {
   "display_name": "Python 3 (ipykernel)",
   "language": "python",
   "name": "python3"
  },
  "language_info": {
   "codemirror_mode": {
    "name": "ipython",
    "version": 3
   },
   "file_extension": ".py",
   "mimetype": "text/x-python",
   "name": "python",
   "nbconvert_exporter": "python",
   "pygments_lexer": "ipython3",
   "version": "3.8.11"
  }
 },
 "nbformat": 4,
 "nbformat_minor": 1
}
