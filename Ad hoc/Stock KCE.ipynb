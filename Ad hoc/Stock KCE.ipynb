{
 "cells": [
  {
   "cell_type": "code",
   "execution_count": 1,
   "metadata": {},
   "outputs": [],
   "source": [
    "import pandas as pd\n",
    "from datetime import date, timedelta\n",
    "from sqlalchemy import create_engine\n",
    "\n",
    "engine = create_engine('mysql+pymysql://root:@localhost:3306/portfolio_development')\n",
    "conpf = engine.connect()\n",
    "\n",
    "data_path = \"../data/\"\n",
    "csv_path = \"\\\\Users\\\\User\\\\iCloudDrive\\\\\"\n",
    "box_path = \"\\\\Users\\\\User\\\\Dropbox\\\\\"\n",
    "\n",
    "#year = 2022\n",
    "name = 'KCE'\n",
    "buy_date = '2021-10-07'"
   ]
  },
  {
   "cell_type": "code",
   "execution_count": 2,
   "metadata": {},
   "outputs": [],
   "source": [
    "format_dict = {'qty':'{:,}',\n",
    "              'sell_price':'{:,.2f}','buy_price':'{:,.2f}','diff':'{:,.2f}',\n",
    "              'sell_amt':'{:,.2f}','buy_amt':'{:,.2f}','gross':'{:,.2f}','profit':'{:,.2f}',\n",
    "              'pct':'{:,.2f}%','net':'{:,.2f}',\n",
    "              'cost_amt':'{:,.2f}','unit_cost':'{:,.2f}','avg_cost':'{:,.2f}'}\n",
    "\n",
    "pd.set_option('display.float_format','{:,.2f}'.format)"
   ]
  },
  {
   "cell_type": "markdown",
   "metadata": {},
   "source": [
    "### Record selection for transactions"
   ]
  },
  {
   "cell_type": "code",
   "execution_count": 3,
   "metadata": {},
   "outputs": [
    {
     "name": "stdout",
     "output_type": "stream",
     "text": [
      "\n",
      "SELECT name, YEAR(sells.date) AS sell_year, MONTH(sells.date) AS sell_month,  \n",
      "             YEAR(buys.date) AS buy_year, MONTH(buys.date) AS buy_month,\n",
      "sells.price AS sell_price, buys.price AS buy_price, \n",
      "(sells.price - buys.price) AS diff, qty, \n",
      "(sells.price * qty) AS sell_amt,\n",
      "(buys.price * qty) AS buy_amt,\n",
      "(sells.price - buys.price) * qty AS gross, \n",
      "ROUND((sells.price - buys.price)/buys.price*100,2) AS pct, profit, buys.kind\n",
      "FROM sells JOIN buys ON sells.buy_id = buys.id\n",
      "JOIN stocks ON buys.stock_id = stocks.id\n",
      "WHERE name = 'KCE' AND buys.date >= '2021-10-07'\n",
      "ORDER BY sell_year DESC, sell_month DESC, buy_month DESC,name\n"
     ]
    }
   ],
   "source": [
    "sql = '''\n",
    "SELECT name, YEAR(sells.date) AS sell_year, MONTH(sells.date) AS sell_month,  \n",
    "             YEAR(buys.date) AS buy_year, MONTH(buys.date) AS buy_month,\n",
    "sells.price AS sell_price, buys.price AS buy_price, \n",
    "(sells.price - buys.price) AS diff, qty, \n",
    "(sells.price * qty) AS sell_amt,\n",
    "(buys.price * qty) AS buy_amt,\n",
    "(sells.price - buys.price) * qty AS gross, \n",
    "ROUND((sells.price - buys.price)/buys.price*100,2) AS pct, profit, buys.kind\n",
    "FROM sells JOIN buys ON sells.buy_id = buys.id\n",
    "JOIN stocks ON buys.stock_id = stocks.id\n",
    "WHERE name = '%s' AND buys.date >= '%s'\n",
    "ORDER BY sell_year DESC, sell_month DESC, buy_month DESC,name'''\n",
    "\n",
    "sql = sql % (name, buy_date)\n",
    "sells_df = pd.read_sql(sql, conpf)\n",
    "print(sql)"
   ]
  },
  {
   "cell_type": "code",
   "execution_count": 5,
   "metadata": {},
   "outputs": [
    {
     "data": {
      "text/html": [
       "<div>\n",
       "<style scoped>\n",
       "    .dataframe tbody tr th:only-of-type {\n",
       "        vertical-align: middle;\n",
       "    }\n",
       "\n",
       "    .dataframe tbody tr th {\n",
       "        vertical-align: top;\n",
       "    }\n",
       "\n",
       "    .dataframe thead th {\n",
       "        text-align: right;\n",
       "    }\n",
       "</style>\n",
       "<table border=\"1\" class=\"dataframe\">\n",
       "  <thead>\n",
       "    <tr style=\"text-align: right;\">\n",
       "      <th></th>\n",
       "      <th>name</th>\n",
       "      <th>sell_year</th>\n",
       "      <th>sell_month</th>\n",
       "      <th>buy_year</th>\n",
       "      <th>buy_month</th>\n",
       "      <th>sell_price</th>\n",
       "      <th>buy_price</th>\n",
       "      <th>diff</th>\n",
       "      <th>qty</th>\n",
       "      <th>sell_amt</th>\n",
       "      <th>buy_amt</th>\n",
       "      <th>gross</th>\n",
       "      <th>pct</th>\n",
       "      <th>profit</th>\n",
       "      <th>kind</th>\n",
       "    </tr>\n",
       "  </thead>\n",
       "  <tbody>\n",
       "    <tr>\n",
       "      <th>0</th>\n",
       "      <td>KCE</td>\n",
       "      <td>2021</td>\n",
       "      <td>12</td>\n",
       "      <td>2021</td>\n",
       "      <td>12</td>\n",
       "      <td>91.25</td>\n",
       "      <td>87.00</td>\n",
       "      <td>4.25</td>\n",
       "      <td>1000</td>\n",
       "      <td>91,250.00</td>\n",
       "      <td>87,000.00</td>\n",
       "      <td>4,250.00</td>\n",
       "      <td>4.89</td>\n",
       "      <td>3,855.19</td>\n",
       "      <td>DTD</td>\n",
       "    </tr>\n",
       "    <tr>\n",
       "      <th>1</th>\n",
       "      <td>KCE</td>\n",
       "      <td>2021</td>\n",
       "      <td>12</td>\n",
       "      <td>2021</td>\n",
       "      <td>10</td>\n",
       "      <td>93.00</td>\n",
       "      <td>80.00</td>\n",
       "      <td>13.00</td>\n",
       "      <td>1000</td>\n",
       "      <td>93,000.00</td>\n",
       "      <td>80,000.00</td>\n",
       "      <td>13,000.00</td>\n",
       "      <td>16.25</td>\n",
       "      <td>12,616.82</td>\n",
       "      <td>DTD</td>\n",
       "    </tr>\n",
       "    <tr>\n",
       "      <th>2</th>\n",
       "      <td>KCE</td>\n",
       "      <td>2021</td>\n",
       "      <td>11</td>\n",
       "      <td>2021</td>\n",
       "      <td>10</td>\n",
       "      <td>91.00</td>\n",
       "      <td>80.00</td>\n",
       "      <td>11.00</td>\n",
       "      <td>1000</td>\n",
       "      <td>91,000.00</td>\n",
       "      <td>80,000.00</td>\n",
       "      <td>11,000.00</td>\n",
       "      <td>13.75</td>\n",
       "      <td>10,621.25</td>\n",
       "      <td>DTD</td>\n",
       "    </tr>\n",
       "  </tbody>\n",
       "</table>\n",
       "</div>"
      ],
      "text/plain": [
       "  name  sell_year  sell_month  buy_year  buy_month  sell_price  buy_price  \\\n",
       "0  KCE       2021          12      2021         12       91.25      87.00   \n",
       "1  KCE       2021          12      2021         10       93.00      80.00   \n",
       "2  KCE       2021          11      2021         10       91.00      80.00   \n",
       "\n",
       "   diff   qty  sell_amt   buy_amt     gross   pct    profit kind  \n",
       "0  4.25  1000 91,250.00 87,000.00  4,250.00  4.89  3,855.19  DTD  \n",
       "1 13.00  1000 93,000.00 80,000.00 13,000.00 16.25 12,616.82  DTD  \n",
       "2 11.00  1000 91,000.00 80,000.00 11,000.00 13.75 10,621.25  DTD  "
      ]
     },
     "execution_count": 5,
     "metadata": {},
     "output_type": "execute_result"
    }
   ],
   "source": [
    "sells_df"
   ]
  },
  {
   "cell_type": "code",
   "execution_count": 6,
   "metadata": {},
   "outputs": [
    {
     "data": {
      "text/plain": [
       "gross    28,250.00\n",
       "profit   27,093.26\n",
       "qty       3,000.00\n",
       "dtype: float64"
      ]
     },
     "execution_count": 6,
     "metadata": {},
     "output_type": "execute_result"
    }
   ],
   "source": [
    "sells_df[['gross','profit','qty']].sum()"
   ]
  },
  {
   "cell_type": "code",
   "execution_count": 7,
   "metadata": {},
   "outputs": [
    {
     "data": {
      "text/plain": [
       "27093.26"
      ]
     },
     "execution_count": 7,
     "metadata": {},
     "output_type": "execute_result"
    }
   ],
   "source": [
    "profit = 27093.26\n",
    "profit"
   ]
  },
  {
   "cell_type": "markdown",
   "metadata": {},
   "source": [
    "### Record selection for active stocks"
   ]
  },
  {
   "cell_type": "code",
   "execution_count": 8,
   "metadata": {},
   "outputs": [
    {
     "data": {
      "text/html": [
       "<style type=\"text/css\">\n",
       "</style>\n",
       "<table id=\"T_d9a41_\">\n",
       "  <thead>\n",
       "    <tr>\n",
       "      <th class=\"blank level0\" >&nbsp;</th>\n",
       "      <th class=\"col_heading level0 col0\" >name</th>\n",
       "      <th class=\"col_heading level0 col1\" >buy_date</th>\n",
       "      <th class=\"col_heading level0 col2\" >unit_cost</th>\n",
       "      <th class=\"col_heading level0 col3\" >qty</th>\n",
       "      <th class=\"col_heading level0 col4\" >cost_amt</th>\n",
       "      <th class=\"col_heading level0 col5\" >net</th>\n",
       "    </tr>\n",
       "  </thead>\n",
       "  <tbody>\n",
       "    <tr>\n",
       "      <th id=\"T_d9a41_level0_row0\" class=\"row_heading level0 row0\" >0</th>\n",
       "      <td id=\"T_d9a41_row0_col0\" class=\"data row0 col0\" >KCE</td>\n",
       "      <td id=\"T_d9a41_row0_col1\" class=\"data row0 col1\" >2022-03-03</td>\n",
       "      <td id=\"T_d9a41_row0_col2\" class=\"data row0 col2\" >58.00</td>\n",
       "      <td id=\"T_d9a41_row0_col3\" class=\"data row0 col3\" >1,000</td>\n",
       "      <td id=\"T_d9a41_row0_col4\" class=\"data row0 col4\" >58,000.00</td>\n",
       "      <td id=\"T_d9a41_row0_col5\" class=\"data row0 col5\" >58,128.46</td>\n",
       "    </tr>\n",
       "    <tr>\n",
       "      <th id=\"T_d9a41_level0_row1\" class=\"row_heading level0 row1\" >1</th>\n",
       "      <td id=\"T_d9a41_row1_col0\" class=\"data row1 col0\" >KCE</td>\n",
       "      <td id=\"T_d9a41_row1_col1\" class=\"data row1 col1\" >2022-02-11</td>\n",
       "      <td id=\"T_d9a41_row1_col2\" class=\"data row1 col2\" >61.50</td>\n",
       "      <td id=\"T_d9a41_row1_col3\" class=\"data row1 col3\" >1,000</td>\n",
       "      <td id=\"T_d9a41_row1_col4\" class=\"data row1 col4\" >61,500.00</td>\n",
       "      <td id=\"T_d9a41_row1_col5\" class=\"data row1 col5\" >61,636.22</td>\n",
       "    </tr>\n",
       "    <tr>\n",
       "      <th id=\"T_d9a41_level0_row2\" class=\"row_heading level0 row2\" >2</th>\n",
       "      <td id=\"T_d9a41_row2_col0\" class=\"data row2 col0\" >KCE</td>\n",
       "      <td id=\"T_d9a41_row2_col1\" class=\"data row2 col1\" >2022-02-09</td>\n",
       "      <td id=\"T_d9a41_row2_col2\" class=\"data row2 col2\" >67.00</td>\n",
       "      <td id=\"T_d9a41_row2_col3\" class=\"data row2 col3\" >3,000</td>\n",
       "      <td id=\"T_d9a41_row2_col4\" class=\"data row2 col4\" >201,000.00</td>\n",
       "      <td id=\"T_d9a41_row2_col5\" class=\"data row2 col5\" >201,445.19</td>\n",
       "    </tr>\n",
       "    <tr>\n",
       "      <th id=\"T_d9a41_level0_row3\" class=\"row_heading level0 row3\" >3</th>\n",
       "      <td id=\"T_d9a41_row3_col0\" class=\"data row3 col0\" >KCE</td>\n",
       "      <td id=\"T_d9a41_row3_col1\" class=\"data row3 col1\" >2022-01-18</td>\n",
       "      <td id=\"T_d9a41_row3_col2\" class=\"data row3 col2\" >81.00</td>\n",
       "      <td id=\"T_d9a41_row3_col3\" class=\"data row3 col3\" >2,000</td>\n",
       "      <td id=\"T_d9a41_row3_col4\" class=\"data row3 col4\" >162,000.00</td>\n",
       "      <td id=\"T_d9a41_row3_col5\" class=\"data row3 col5\" >162,358.81</td>\n",
       "    </tr>\n",
       "    <tr>\n",
       "      <th id=\"T_d9a41_level0_row4\" class=\"row_heading level0 row4\" >4</th>\n",
       "      <td id=\"T_d9a41_row4_col0\" class=\"data row4 col0\" >KCE</td>\n",
       "      <td id=\"T_d9a41_row4_col1\" class=\"data row4 col1\" >2021-12-14</td>\n",
       "      <td id=\"T_d9a41_row4_col2\" class=\"data row4 col2\" >87.00</td>\n",
       "      <td id=\"T_d9a41_row4_col3\" class=\"data row4 col3\" >2,000</td>\n",
       "      <td id=\"T_d9a41_row4_col4\" class=\"data row4 col4\" >174,000.00</td>\n",
       "      <td id=\"T_d9a41_row4_col5\" class=\"data row4 col5\" >174,385.39</td>\n",
       "    </tr>\n",
       "    <tr>\n",
       "      <th id=\"T_d9a41_level0_row5\" class=\"row_heading level0 row5\" >5</th>\n",
       "      <td id=\"T_d9a41_row5_col0\" class=\"data row5 col0\" >KCE</td>\n",
       "      <td id=\"T_d9a41_row5_col1\" class=\"data row5 col1\" >2021-10-07</td>\n",
       "      <td id=\"T_d9a41_row5_col2\" class=\"data row5 col2\" >87.00</td>\n",
       "      <td id=\"T_d9a41_row5_col3\" class=\"data row5 col3\" >2,000</td>\n",
       "      <td id=\"T_d9a41_row5_col4\" class=\"data row5 col4\" >174,000.00</td>\n",
       "      <td id=\"T_d9a41_row5_col5\" class=\"data row5 col5\" >174,385.39</td>\n",
       "    </tr>\n",
       "  </tbody>\n",
       "</table>\n"
      ],
      "text/plain": [
       "<pandas.io.formats.style.Styler at 0x27caae87940>"
      ]
     },
     "execution_count": 8,
     "metadata": {},
     "output_type": "execute_result"
    }
   ],
   "source": [
    "sql = '''\n",
    "SELECT name, buys.date AS buy_date,\n",
    "buys.price AS unit_cost, qty, \n",
    "(buys.price * qty) AS cost_amt, net\n",
    "FROM buys\n",
    "JOIN stocks ON buys.stock_id = stocks.id\n",
    "WHERE name = '%s' AND status = 'Active'\n",
    "ORDER BY name, buys.date DESC'''\n",
    "sql = sql % name\n",
    "buys_df = pd.read_sql(sql, conpf)\n",
    "buys_df.style.format(format_dict)"
   ]
  },
  {
   "cell_type": "code",
   "execution_count": 9,
   "metadata": {},
   "outputs": [
    {
     "data": {
      "text/plain": [
       "cost_amt   830,500.00\n",
       "net        832,339.46\n",
       "qty         11,000.00\n",
       "dtype: float64"
      ]
     },
     "execution_count": 9,
     "metadata": {},
     "output_type": "execute_result"
    }
   ],
   "source": [
    "buys_df[['cost_amt','net','qty']].sum()"
   ]
  },
  {
   "cell_type": "code",
   "execution_count": 10,
   "metadata": {},
   "outputs": [
    {
     "data": {
      "text/html": [
       "<div>\n",
       "<style scoped>\n",
       "    .dataframe tbody tr th:only-of-type {\n",
       "        vertical-align: middle;\n",
       "    }\n",
       "\n",
       "    .dataframe tbody tr th {\n",
       "        vertical-align: top;\n",
       "    }\n",
       "\n",
       "    .dataframe thead th {\n",
       "        text-align: right;\n",
       "    }\n",
       "</style>\n",
       "<table border=\"1\" class=\"dataframe\">\n",
       "  <thead>\n",
       "    <tr style=\"text-align: right;\">\n",
       "      <th></th>\n",
       "      <th>name</th>\n",
       "      <th>p_date</th>\n",
       "      <th>amt</th>\n",
       "      <th>net</th>\n",
       "      <th>refund</th>\n",
       "      <th>year</th>\n",
       "      <th>q</th>\n",
       "      <th>x_date</th>\n",
       "      <th>number</th>\n",
       "      <th>ppu</th>\n",
       "      <th>div_1k</th>\n",
       "    </tr>\n",
       "  </thead>\n",
       "  <tbody>\n",
       "  </tbody>\n",
       "</table>\n",
       "</div>"
      ],
      "text/plain": [
       "Empty DataFrame\n",
       "Columns: [name, p_date, amt, net, refund, year, q, x_date, number, ppu, div_1k]\n",
       "Index: []"
      ]
     },
     "execution_count": 10,
     "metadata": {},
     "output_type": "execute_result"
    }
   ],
   "source": [
    "sql = '''\n",
    "SELECT name, p_date, FORMAT(amt,2) AS amt, FORMAT(net,2) AS net, format(amt-net,2) AS refund,\n",
    "year, quarter AS q, x_date, number, ppu, (net / number * 1000) AS div_1k\n",
    "FROM dividends\n",
    "WHERE name = '%s' AND x_date > '%s'\n",
    "ORDER BY p_date DESC'''\n",
    "sql = sql % (name, buy_date)\n",
    "dtl_by_month = pd.read_sql(sql, conpf)\n",
    "dtl_by_month"
   ]
  },
  {
   "cell_type": "code",
   "execution_count": 11,
   "metadata": {},
   "outputs": [
    {
     "data": {
      "text/plain": [
       "4224.0"
      ]
     },
     "execution_count": 11,
     "metadata": {},
     "output_type": "execute_result"
    }
   ],
   "source": [
    "new_ppu = 0.4\n",
    "new_qty = 11_000\n",
    "new_div = new_qty * new_ppu * .96\n",
    "new_div"
   ]
  },
  {
   "cell_type": "code",
   "execution_count": 12,
   "metadata": {},
   "outputs": [
    {
     "data": {
      "text/plain": [
       "31317.26"
      ]
     },
     "execution_count": 12,
     "metadata": {},
     "output_type": "execute_result"
    }
   ],
   "source": [
    "net_profit = profit + new_div\n",
    "net_profit"
   ]
  },
  {
   "cell_type": "markdown",
   "metadata": {},
   "source": [
    "### Plan A: Sell 7,000 shares at 64.75"
   ]
  },
  {
   "cell_type": "code",
   "execution_count": null,
   "metadata": {},
   "outputs": [],
   "source": []
  }
 ],
 "metadata": {
  "anaconda-cloud": {},
  "kernelspec": {
   "display_name": "Python 3 (ipykernel)",
   "language": "python",
   "name": "python3"
  },
  "language_info": {
   "codemirror_mode": {
    "name": "ipython",
    "version": 3
   },
   "file_extension": ".py",
   "mimetype": "text/x-python",
   "name": "python",
   "nbconvert_exporter": "python",
   "pygments_lexer": "ipython3",
   "version": "3.8.11"
  }
 },
 "nbformat": 4,
 "nbformat_minor": 1
}
