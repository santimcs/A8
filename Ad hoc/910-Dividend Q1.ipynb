{
 "cells": [
  {
   "cell_type": "code",
   "execution_count": 1,
   "metadata": {},
   "outputs": [
    {
     "data": {
      "text/plain": [
       "(datetime.date(2022, 5, 15), datetime.date(2022, 5, 14))"
      ]
     },
     "execution_count": 1,
     "metadata": {},
     "output_type": "execute_result"
    }
   ],
   "source": [
    "import pandas as pd\n",
    "from sqlalchemy import create_engine\n",
    "from datetime import date, timedelta\n",
    "import calendar\n",
    "\n",
    "engine = create_engine(\"mysql+pymysql://root:@localhost:3306/stock\")\n",
    "const = engine.connect()\n",
    "\n",
    "data_path = \"../data/\"\n",
    "csv_path = \"\\\\Users\\\\User\\\\iCloudDrive\\\\\"\n",
    "box_path = \"\\\\Users\\\\User\\\\Dropbox\\\\\"\n",
    "one_path = \"\\\\Users\\\\User\\\\OneDrive\\\\Documents\\\\Data\\\\\"\n",
    "\n",
    "today = date.today()\n",
    "yesterday = today - timedelta(days=1)\n",
    "today, yesterday"
   ]
  },
  {
   "cell_type": "code",
   "execution_count": 2,
   "metadata": {},
   "outputs": [
    {
     "data": {
      "text/plain": [
       "datetime.date(2022, 5, 13)"
      ]
     },
     "execution_count": 2,
     "metadata": {},
     "output_type": "execute_result"
    }
   ],
   "source": [
    "yesterday = today - timedelta(days=2)\n",
    "yesterday"
   ]
  },
  {
   "cell_type": "code",
   "execution_count": 3,
   "metadata": {},
   "outputs": [],
   "source": [
    "format_dict = {    \n",
    "    'shares':'{:,}',    \n",
    "    'q4':'{:.4f}','q3':'{:.4f}','q2':'{:.4f}','q1':'{:.4f}','dividend':'{:.4f}','qtrly':'{:.4f}',\n",
    "    'price':'{:.2f}',    \n",
    "    'amount':'{:,.2f}','net':'{:,.2f}','cost_amt':'{:,.2f}',\n",
    "    'yield':'{:,.2f}%','pct':'{:,.2f}%',\n",
    "    'xdate':'{:%Y-%m-%d}','paiddate':'{:%Y-%m-%d}',\n",
    "              }"
   ]
  },
  {
   "cell_type": "markdown",
   "metadata": {},
   "source": [
    "### New dividend stock"
   ]
  },
  {
   "cell_type": "code",
   "execution_count": 4,
   "metadata": {},
   "outputs": [
    {
     "data": {
      "text/html": [
       "<style type=\"text/css\">\n",
       "</style>\n",
       "<table id=\"T_77b0e_\">\n",
       "  <thead>\n",
       "    <tr>\n",
       "      <th class=\"blank level0\" >&nbsp;</th>\n",
       "      <th class=\"col_heading level0 col0\" >name</th>\n",
       "      <th class=\"col_heading level0 col1\" >q4</th>\n",
       "      <th class=\"col_heading level0 col2\" >q3</th>\n",
       "      <th class=\"col_heading level0 col3\" >q2</th>\n",
       "      <th class=\"col_heading level0 col4\" >q1</th>\n",
       "      <th class=\"col_heading level0 col5\" >dividend</th>\n",
       "      <th class=\"col_heading level0 col6\" >shares</th>\n",
       "      <th class=\"col_heading level0 col7\" >xdate</th>\n",
       "      <th class=\"col_heading level0 col8\" >paiddate</th>\n",
       "      <th class=\"col_heading level0 col9\" >kind</th>\n",
       "      <th class=\"col_heading level0 col10\" >actual</th>\n",
       "    </tr>\n",
       "  </thead>\n",
       "  <tbody>\n",
       "  </tbody>\n",
       "</table>\n"
      ],
      "text/plain": [
       "<pandas.io.formats.style.Styler at 0x242679e6c40>"
      ]
     },
     "execution_count": 4,
     "metadata": {},
     "output_type": "execute_result"
    }
   ],
   "source": [
    "name = 'IVL'\n",
    "sql = \"\"\"\n",
    "SELECT * \n",
    "FROM DIVIDEND\n",
    "WHERE name = '%s'\n",
    "\"\"\"\n",
    "sql = sql % name\n",
    "dividend = pd.read_sql(sql, const)\n",
    "dividend.drop(['PRICE', 'PERCENT'], axis=1, inplace=True)\n",
    "dividend.columns = dividend.columns.str.lower()\n",
    "dividend['shares'] = dividend['shares'].astype('int64')\n",
    "dividend['xdate'] = pd.to_datetime(dividend['xdate'])\n",
    "dividend['paiddate'] = pd.to_datetime(dividend['paiddate'])\n",
    "dividend.style.format(format_dict)"
   ]
  },
  {
   "cell_type": "code",
   "execution_count": 5,
   "metadata": {},
   "outputs": [
    {
     "data": {
      "text/plain": [
       "1"
      ]
     },
     "execution_count": 5,
     "metadata": {},
     "output_type": "execute_result"
    }
   ],
   "source": [
    "sqlIns = \"\"\"\n",
    "INSERT INTO dividend\n",
    "VALUES('IVL',0.25,0.25,0.25,0.25,1.00,0,0,00,'2022-05-27','2022-06-10','',0)\n",
    "\"\"\"\n",
    "rp = const.execute(sqlIns)\n",
    "rp.rowcount"
   ]
  },
  {
   "cell_type": "markdown",
   "metadata": {},
   "source": [
    "### Start of Update dividend"
   ]
  },
  {
   "cell_type": "code",
   "execution_count": 5,
   "metadata": {},
   "outputs": [],
   "source": [
    "def update_dividend1(q1,XDATE,PAIDDATE,actual,name):\n",
    "    sql = \"UPDATE dividend SET q1 = %s, dividend = q1+q2+q3+q4, XDATE = '%s', PAIDDATE = '%s', actual = %s WHERE name = '%s'\"\n",
    "    sql = sql % (q1,XDATE, PAIDDATE, actual,name)\n",
    "    rp = const.execute(sql)\n",
    "    return \"Records updated = \" + str(rp.rowcount)"
   ]
  },
  {
   "cell_type": "code",
   "execution_count": 6,
   "metadata": {
    "scrolled": true
   },
   "outputs": [
    {
     "data": {
      "text/html": [
       "<style type=\"text/css\">\n",
       "</style>\n",
       "<table id=\"T_3b90a_\">\n",
       "  <thead>\n",
       "    <tr>\n",
       "      <th class=\"blank level0\" >&nbsp;</th>\n",
       "      <th class=\"col_heading level0 col0\" >name</th>\n",
       "      <th class=\"col_heading level0 col1\" >q4</th>\n",
       "      <th class=\"col_heading level0 col2\" >q3</th>\n",
       "      <th class=\"col_heading level0 col3\" >q2</th>\n",
       "      <th class=\"col_heading level0 col4\" >q1</th>\n",
       "      <th class=\"col_heading level0 col5\" >dividend</th>\n",
       "      <th class=\"col_heading level0 col6\" >shares</th>\n",
       "      <th class=\"col_heading level0 col7\" >xdate</th>\n",
       "      <th class=\"col_heading level0 col8\" >paiddate</th>\n",
       "      <th class=\"col_heading level0 col9\" >kind</th>\n",
       "      <th class=\"col_heading level0 col10\" >actual</th>\n",
       "    </tr>\n",
       "  </thead>\n",
       "  <tbody>\n",
       "    <tr>\n",
       "      <th id=\"T_3b90a_level0_row0\" class=\"row_heading level0 row0\" >0</th>\n",
       "      <td id=\"T_3b90a_row0_col0\" class=\"data row0 col0\" >JASIF</td>\n",
       "      <td id=\"T_3b90a_row0_col1\" class=\"data row0 col1\" >0.2500</td>\n",
       "      <td id=\"T_3b90a_row0_col2\" class=\"data row0 col2\" >0.2200</td>\n",
       "      <td id=\"T_3b90a_row0_col3\" class=\"data row0 col3\" >0.2400</td>\n",
       "      <td id=\"T_3b90a_row0_col4\" class=\"data row0 col4\" >0.2300</td>\n",
       "      <td id=\"T_3b90a_row0_col5\" class=\"data row0 col5\" >0.9400</td>\n",
       "      <td id=\"T_3b90a_row0_col6\" class=\"data row0 col6\" >100,000</td>\n",
       "      <td id=\"T_3b90a_row0_col7\" class=\"data row0 col7\" >2022-05-24</td>\n",
       "      <td id=\"T_3b90a_row0_col8\" class=\"data row0 col8\" >2022-06-08</td>\n",
       "      <td id=\"T_3b90a_row0_col9\" class=\"data row0 col9\" >2</td>\n",
       "      <td id=\"T_3b90a_row0_col10\" class=\"data row0 col10\" >1</td>\n",
       "    </tr>\n",
       "  </tbody>\n",
       "</table>\n"
      ],
      "text/plain": [
       "<pandas.io.formats.style.Styler at 0x1ed4aef8d00>"
      ]
     },
     "execution_count": 6,
     "metadata": {},
     "output_type": "execute_result"
    }
   ],
   "source": [
    "name = 'JASIF'\n",
    "sql = \"\"\"\n",
    "SELECT * FROM DIVIDEND WHERE name = '%s'\"\"\"\n",
    "sql = sql % name\n",
    "dividend = pd.read_sql(sql, const)\n",
    "dividend.drop(['PRICE', 'PERCENT'], axis=1, inplace=True)\n",
    "dividend.columns = dividend.columns.str.lower()\n",
    "dividend['shares'] = dividend['shares'].astype('int64')\n",
    "dividend['xdate'] = pd.to_datetime(dividend['xdate'])\n",
    "dividend['paiddate'] = pd.to_datetime(dividend['paiddate'])\n",
    "dividend.style.format(format_dict)"
   ]
  },
  {
   "cell_type": "code",
   "execution_count": 8,
   "metadata": {},
   "outputs": [
    {
     "data": {
      "text/plain": [
       "'Records updated = 1'"
      ]
     },
     "execution_count": 8,
     "metadata": {},
     "output_type": "execute_result"
    }
   ],
   "source": [
    "q1 = 0.125\n",
    "XDATE = '2022-05-20'\n",
    "PAIDDATE = '2022-06-08\n",
    "'\n",
    "actual = 1\n",
    "\n",
    "update_dividend1(q1,XDATE,PAIDDATE,actual,name)"
   ]
  },
  {
   "cell_type": "code",
   "execution_count": 7,
   "metadata": {},
   "outputs": [],
   "source": [
    "def update_dividend2(shares,q1,actual,name):\n",
    "    sql = \"UPDATE dividend SET shares = %s, q1 = %s, dividend=q1+q2+q3+q4, actual = %s WHERE name = '%s'\"\n",
    "    sql = sql % (shares, q1, actual, name)\n",
    "    rp = const.execute(sql)\n",
    "    return \"Records updated = \" + str(rp.rowcount)"
   ]
  },
  {
   "cell_type": "code",
   "execution_count": 8,
   "metadata": {},
   "outputs": [
    {
     "data": {
      "text/html": [
       "<style type=\"text/css\">\n",
       "</style>\n",
       "<table id=\"T_e865f_\">\n",
       "  <thead>\n",
       "    <tr>\n",
       "      <th class=\"blank level0\" >&nbsp;</th>\n",
       "      <th class=\"col_heading level0 col0\" >name</th>\n",
       "      <th class=\"col_heading level0 col1\" >q4</th>\n",
       "      <th class=\"col_heading level0 col2\" >q3</th>\n",
       "      <th class=\"col_heading level0 col3\" >q2</th>\n",
       "      <th class=\"col_heading level0 col4\" >q1</th>\n",
       "      <th class=\"col_heading level0 col5\" >dividend</th>\n",
       "      <th class=\"col_heading level0 col6\" >shares</th>\n",
       "      <th class=\"col_heading level0 col7\" >xdate</th>\n",
       "      <th class=\"col_heading level0 col8\" >paiddate</th>\n",
       "      <th class=\"col_heading level0 col9\" >kind</th>\n",
       "      <th class=\"col_heading level0 col10\" >actual</th>\n",
       "    </tr>\n",
       "  </thead>\n",
       "  <tbody>\n",
       "    <tr>\n",
       "      <th id=\"T_e865f_level0_row0\" class=\"row_heading level0 row0\" >0</th>\n",
       "      <td id=\"T_e865f_row0_col0\" class=\"data row0 col0\" >STA</td>\n",
       "      <td id=\"T_e865f_row0_col1\" class=\"data row0 col1\" >0.6500</td>\n",
       "      <td id=\"T_e865f_row0_col2\" class=\"data row0 col2\" >1.2500</td>\n",
       "      <td id=\"T_e865f_row0_col3\" class=\"data row0 col3\" >1.2500</td>\n",
       "      <td id=\"T_e865f_row0_col4\" class=\"data row0 col4\" >1.0000</td>\n",
       "      <td id=\"T_e865f_row0_col5\" class=\"data row0 col5\" >4.1500</td>\n",
       "      <td id=\"T_e865f_row0_col6\" class=\"data row0 col6\" >20,000</td>\n",
       "      <td id=\"T_e865f_row0_col7\" class=\"data row0 col7\" >2022-04-19</td>\n",
       "      <td id=\"T_e865f_row0_col8\" class=\"data row0 col8\" >2022-05-06</td>\n",
       "      <td id=\"T_e865f_row0_col9\" class=\"data row0 col9\" ></td>\n",
       "      <td id=\"T_e865f_row0_col10\" class=\"data row0 col10\" >1</td>\n",
       "    </tr>\n",
       "  </tbody>\n",
       "</table>\n"
      ],
      "text/plain": [
       "<pandas.io.formats.style.Styler at 0x1bf61f76460>"
      ]
     },
     "execution_count": 8,
     "metadata": {},
     "output_type": "execute_result"
    }
   ],
   "source": [
    "name = 'STA'\n",
    "sql = \"\"\"\n",
    "SELECT * \n",
    "FROM DIVIDEND\n",
    "WHERE name = '%s'\n",
    "\"\"\"\n",
    "sql = sql % name\n",
    "dividend = pd.read_sql(sql, const)\n",
    "dividend.drop(['PRICE', 'PERCENT'], axis=1, inplace=True)\n",
    "dividend.columns = dividend.columns.str.lower()\n",
    "dividend['shares'] = dividend['shares'].astype('int64')\n",
    "dividend['xdate'] = pd.to_datetime(dividend['xdate'])\n",
    "dividend['paiddate'] = pd.to_datetime(dividend['paiddate'])\n",
    "dividend.style.format(format_dict)"
   ]
  },
  {
   "cell_type": "code",
   "execution_count": 9,
   "metadata": {},
   "outputs": [],
   "source": [
    "shares = 20000\n",
    "q1 = 0\n",
    "actual = 0"
   ]
  },
  {
   "cell_type": "code",
   "execution_count": 11,
   "metadata": {},
   "outputs": [
    {
     "data": {
      "text/plain": [
       "'Records updated = 1'"
      ]
     },
     "execution_count": 11,
     "metadata": {},
     "output_type": "execute_result"
    }
   ],
   "source": [
    "update_dividend2(shares,q1,actual,name)"
   ]
  },
  {
   "cell_type": "markdown",
   "metadata": {},
   "source": [
    "### Toggle actual status"
   ]
  },
  {
   "cell_type": "code",
   "execution_count": 4,
   "metadata": {},
   "outputs": [
    {
     "data": {
      "text/plain": [
       "1"
      ]
     },
     "execution_count": 4,
     "metadata": {},
     "output_type": "execute_result"
    }
   ],
   "source": [
    "name = 'DCC'\n",
    "actual = 0\n",
    "sqlUpd = \"UPDATE dividend SET actual = %s WHERE name = '%s'\"\n",
    "sqlUpd = sqlUpd % (actual, name)\n",
    "rp = const.execute(sqlUpd)\n",
    "rp.rowcount"
   ]
  },
  {
   "cell_type": "markdown",
   "metadata": {},
   "source": [
    "### Delete dividend record"
   ]
  },
  {
   "cell_type": "code",
   "execution_count": 10,
   "metadata": {},
   "outputs": [
    {
     "data": {
      "text/plain": [
       "1"
      ]
     },
     "execution_count": 10,
     "metadata": {},
     "output_type": "execute_result"
    }
   ],
   "source": [
    "sqlDel = '''\n",
    "DELETE FROM dividend\n",
    "WHERE name IN (\"MC\")\n",
    "'''\n",
    "rp = const.execute(sqlDel)\n",
    "rp.rowcount"
   ]
  },
  {
   "cell_type": "markdown",
   "metadata": {},
   "source": [
    "### Start of output to cloud"
   ]
  },
  {
   "cell_type": "code",
   "execution_count": 5,
   "metadata": {
    "scrolled": true
   },
   "outputs": [
    {
     "name": "stdout",
     "output_type": "stream",
     "text": [
      "\n",
      "SELECT Y.NAME AS name,  Q1 AS qtrly, SHARES, XDATE, PAIDDATE, \n",
      "P.price AS price, Y.DIVIDEND, ACTUAL, B.price * B.volbuy AS cost_amt\n",
      "FROM dividend AS Y, price AS P, buy AS B\n",
      "WHERE Y.name = P.name \n",
      "AND Y.name = B.name \n",
      "AND Q1 > 0 \n",
      "AND P.date = '2022-05-13'\n",
      "ORDER BY name\n",
      "\n"
     ]
    }
   ],
   "source": [
    "sql = \"\"\"\n",
    "SELECT Y.NAME AS name,  Q1 AS qtrly, SHARES, XDATE, PAIDDATE, \n",
    "P.price AS price, Y.DIVIDEND, ACTUAL, B.price * B.volbuy AS cost_amt\n",
    "FROM dividend AS Y, price AS P, buy AS B\n",
    "WHERE Y.name = P.name \n",
    "AND Y.name = B.name \n",
    "AND Q1 > 0 \n",
    "AND P.date = '%s'\n",
    "ORDER BY name\n",
    "\"\"\"\n",
    "sql = sql % yesterday \n",
    "print(sql)"
   ]
  },
  {
   "cell_type": "code",
   "execution_count": 6,
   "metadata": {},
   "outputs": [],
   "source": [
    "cols = 'name qtrly shares amount net xdate paiddate cost_amt pct actual'.split()"
   ]
  },
  {
   "cell_type": "code",
   "execution_count": 7,
   "metadata": {},
   "outputs": [
    {
     "data": {
      "text/html": [
       "<style type=\"text/css\">\n",
       "</style>\n",
       "<table id=\"T_73a8a_\">\n",
       "  <thead>\n",
       "    <tr>\n",
       "      <th class=\"blank level0\" >&nbsp;</th>\n",
       "      <th class=\"col_heading level0 col0\" >name</th>\n",
       "      <th class=\"col_heading level0 col1\" >qtrly</th>\n",
       "      <th class=\"col_heading level0 col2\" >shares</th>\n",
       "      <th class=\"col_heading level0 col3\" >amount</th>\n",
       "      <th class=\"col_heading level0 col4\" >net</th>\n",
       "      <th class=\"col_heading level0 col5\" >xdate</th>\n",
       "      <th class=\"col_heading level0 col6\" >paiddate</th>\n",
       "      <th class=\"col_heading level0 col7\" >cost_amt</th>\n",
       "      <th class=\"col_heading level0 col8\" >pct</th>\n",
       "      <th class=\"col_heading level0 col9\" >actual</th>\n",
       "    </tr>\n",
       "  </thead>\n",
       "  <tbody>\n",
       "    <tr>\n",
       "      <th id=\"T_73a8a_level0_row0\" class=\"row_heading level0 row0\" >0</th>\n",
       "      <td id=\"T_73a8a_row0_col0\" class=\"data row0 col0\" >DCC</td>\n",
       "      <td id=\"T_73a8a_row0_col1\" class=\"data row0 col1\" >0.0550</td>\n",
       "      <td id=\"T_73a8a_row0_col2\" class=\"data row0 col2\" >60,000</td>\n",
       "      <td id=\"T_73a8a_row0_col3\" class=\"data row0 col3\" >3,300.00</td>\n",
       "      <td id=\"T_73a8a_row0_col4\" class=\"data row0 col4\" >2,970.00</td>\n",
       "      <td id=\"T_73a8a_row0_col5\" class=\"data row0 col5\" >2022-05-13</td>\n",
       "      <td id=\"T_73a8a_row0_col6\" class=\"data row0 col6\" >2022-05-31</td>\n",
       "      <td id=\"T_73a8a_row0_col7\" class=\"data row0 col7\" >177,600.00</td>\n",
       "      <td id=\"T_73a8a_row0_col8\" class=\"data row0 col8\" >1.67%</td>\n",
       "      <td id=\"T_73a8a_row0_col9\" class=\"data row0 col9\" >0</td>\n",
       "    </tr>\n",
       "    <tr>\n",
       "      <th id=\"T_73a8a_level0_row1\" class=\"row_heading level0 row1\" >1</th>\n",
       "      <td id=\"T_73a8a_row1_col0\" class=\"data row1 col0\" >DIF</td>\n",
       "      <td id=\"T_73a8a_row1_col1\" class=\"data row1 col1\" >0.2600</td>\n",
       "      <td id=\"T_73a8a_row1_col2\" class=\"data row1 col2\" >50,000</td>\n",
       "      <td id=\"T_73a8a_row1_col3\" class=\"data row1 col3\" >13,000.00</td>\n",
       "      <td id=\"T_73a8a_row1_col4\" class=\"data row1 col4\" >11,700.00</td>\n",
       "      <td id=\"T_73a8a_row1_col5\" class=\"data row1 col5\" >2022-05-17</td>\n",
       "      <td id=\"T_73a8a_row1_col6\" class=\"data row1 col6\" >2022-06-06</td>\n",
       "      <td id=\"T_73a8a_row1_col7\" class=\"data row1 col7\" >735,000.00</td>\n",
       "      <td id=\"T_73a8a_row1_col8\" class=\"data row1 col8\" >1.59%</td>\n",
       "      <td id=\"T_73a8a_row1_col9\" class=\"data row1 col9\" >1</td>\n",
       "    </tr>\n",
       "    <tr>\n",
       "      <th id=\"T_73a8a_level0_row2\" class=\"row_heading level0 row2\" >2</th>\n",
       "      <td id=\"T_73a8a_row2_col0\" class=\"data row2 col0\" >HREIT</td>\n",
       "      <td id=\"T_73a8a_row2_col1\" class=\"data row2 col1\" >0.1738</td>\n",
       "      <td id=\"T_73a8a_row2_col2\" class=\"data row2 col2\" >40,100</td>\n",
       "      <td id=\"T_73a8a_row2_col3\" class=\"data row2 col3\" >6,969.38</td>\n",
       "      <td id=\"T_73a8a_row2_col4\" class=\"data row2 col4\" >6,272.44</td>\n",
       "      <td id=\"T_73a8a_row2_col5\" class=\"data row2 col5\" >2022-03-04</td>\n",
       "      <td id=\"T_73a8a_row2_col6\" class=\"data row2 col6\" >2022-03-30</td>\n",
       "      <td id=\"T_73a8a_row2_col7\" class=\"data row2 col7\" >358,895.00</td>\n",
       "      <td id=\"T_73a8a_row2_col8\" class=\"data row2 col8\" >1.75%</td>\n",
       "      <td id=\"T_73a8a_row2_col9\" class=\"data row2 col9\" >0</td>\n",
       "    </tr>\n",
       "    <tr>\n",
       "      <th id=\"T_73a8a_level0_row3\" class=\"row_heading level0 row3\" >3</th>\n",
       "      <td id=\"T_73a8a_row3_col0\" class=\"data row3 col0\" >JASIF</td>\n",
       "      <td id=\"T_73a8a_row3_col1\" class=\"data row3 col1\" >0.2300</td>\n",
       "      <td id=\"T_73a8a_row3_col2\" class=\"data row3 col2\" >100,000</td>\n",
       "      <td id=\"T_73a8a_row3_col3\" class=\"data row3 col3\" >23,000.00</td>\n",
       "      <td id=\"T_73a8a_row3_col4\" class=\"data row3 col4\" >20,700.00</td>\n",
       "      <td id=\"T_73a8a_row3_col5\" class=\"data row3 col5\" >2022-05-24</td>\n",
       "      <td id=\"T_73a8a_row3_col6\" class=\"data row3 col6\" >2022-06-08</td>\n",
       "      <td id=\"T_73a8a_row3_col7\" class=\"data row3 col7\" >1,000,000.00</td>\n",
       "      <td id=\"T_73a8a_row3_col8\" class=\"data row3 col8\" >2.07%</td>\n",
       "      <td id=\"T_73a8a_row3_col9\" class=\"data row3 col9\" >1</td>\n",
       "    </tr>\n",
       "    <tr>\n",
       "      <th id=\"T_73a8a_level0_row4\" class=\"row_heading level0 row4\" >4</th>\n",
       "      <td id=\"T_73a8a_row4_col0\" class=\"data row4 col0\" >SENA</td>\n",
       "      <td id=\"T_73a8a_row4_col1\" class=\"data row4 col1\" >0.1300</td>\n",
       "      <td id=\"T_73a8a_row4_col2\" class=\"data row4 col2\" >105,000</td>\n",
       "      <td id=\"T_73a8a_row4_col3\" class=\"data row4 col3\" >13,650.00</td>\n",
       "      <td id=\"T_73a8a_row4_col4\" class=\"data row4 col4\" >12,285.00</td>\n",
       "      <td id=\"T_73a8a_row4_col5\" class=\"data row4 col5\" >2022-05-11</td>\n",
       "      <td id=\"T_73a8a_row4_col6\" class=\"data row4 col6\" >2022-05-27</td>\n",
       "      <td id=\"T_73a8a_row4_col7\" class=\"data row4 col7\" >470,400.00</td>\n",
       "      <td id=\"T_73a8a_row4_col8\" class=\"data row4 col8\" >2.61%</td>\n",
       "      <td id=\"T_73a8a_row4_col9\" class=\"data row4 col9\" >0</td>\n",
       "    </tr>\n",
       "    <tr>\n",
       "      <th id=\"T_73a8a_level0_row5\" class=\"row_heading level0 row5\" >5</th>\n",
       "      <td id=\"T_73a8a_row5_col0\" class=\"data row5 col0\" >WHART</td>\n",
       "      <td id=\"T_73a8a_row5_col1\" class=\"data row5 col1\" >0.1915</td>\n",
       "      <td id=\"T_73a8a_row5_col2\" class=\"data row5 col2\" >20,000</td>\n",
       "      <td id=\"T_73a8a_row5_col3\" class=\"data row5 col3\" >3,830.00</td>\n",
       "      <td id=\"T_73a8a_row5_col4\" class=\"data row5 col4\" >3,447.00</td>\n",
       "      <td id=\"T_73a8a_row5_col5\" class=\"data row5 col5\" >2022-06-01</td>\n",
       "      <td id=\"T_73a8a_row5_col6\" class=\"data row5 col6\" >2022-06-15</td>\n",
       "      <td id=\"T_73a8a_row5_col7\" class=\"data row5 col7\" >246,000.00</td>\n",
       "      <td id=\"T_73a8a_row5_col8\" class=\"data row5 col8\" >1.40%</td>\n",
       "      <td id=\"T_73a8a_row5_col9\" class=\"data row5 col9\" >1</td>\n",
       "    </tr>\n",
       "  </tbody>\n",
       "</table>\n"
      ],
      "text/plain": [
       "<pandas.io.formats.style.Styler at 0x1d9c80a8820>"
      ]
     },
     "execution_count": 7,
     "metadata": {},
     "output_type": "execute_result"
    }
   ],
   "source": [
    "dividend = pd.read_sql(sql, const)\n",
    "dividend.columns = dividend.columns.str.lower()\n",
    "dividend['shares'] = dividend['shares'].astype('int64')\n",
    "dividend['xdate'] = pd.to_datetime(dividend['xdate'])\n",
    "dividend['paiddate'] = pd.to_datetime(dividend['paiddate'])\n",
    "dividend['amount'] = round(dividend['shares'] * dividend['qtrly'], 2)\n",
    "dividend['net'] = round(dividend['amount'] * 0.9, 2)\n",
    "dividend['pct'] = round(dividend['net'] / dividend['cost_amt'] * 100, 2)\n",
    "dividend[cols].style.format(format_dict)"
   ]
  },
  {
   "cell_type": "code",
   "execution_count": 8,
   "metadata": {},
   "outputs": [
    {
     "data": {
      "text/plain": [
       "57374.44"
      ]
     },
     "execution_count": 8,
     "metadata": {},
     "output_type": "execute_result"
    }
   ],
   "source": [
    "dividend.net.sum()"
   ]
  },
  {
   "cell_type": "code",
   "execution_count": 8,
   "metadata": {},
   "outputs": [],
   "source": [
    "file_name = 'dividend-q1.csv'\n",
    "data_file = data_path + file_name\n",
    "output_file = csv_path + file_name\n",
    "box_file = box_path + file_name\n",
    "one_file = one_path + file_name\n",
    "\n",
    "dividend[cols].sort_values(['name'],ascending=[True]).to_csv(output_file, index=False)\n",
    "dividend[cols].sort_values(['name'],ascending=[True]).to_csv(data_file, index=False)\n",
    "dividend[cols].sort_values(['name'],ascending=[True]).to_csv(box_file, index=False)\n",
    "dividend[cols].sort_values(['name'],ascending=[True]).to_csv(one_file, index=False)"
   ]
  },
  {
   "cell_type": "markdown",
   "metadata": {},
   "source": [
    "### End of output to cloud"
   ]
  }
 ],
 "metadata": {
  "anaconda-cloud": {},
  "kernelspec": {
   "display_name": "Python 3 (ipykernel)",
   "language": "python",
   "name": "python3"
  },
  "language_info": {
   "codemirror_mode": {
    "name": "ipython",
    "version": 3
   },
   "file_extension": ".py",
   "mimetype": "text/x-python",
   "name": "python",
   "nbconvert_exporter": "python",
   "pygments_lexer": "ipython3",
   "version": "3.8.11"
  }
 },
 "nbformat": 4,
 "nbformat_minor": 1
}
