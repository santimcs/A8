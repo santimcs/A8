{
 "cells": [
  {
   "cell_type": "code",
   "execution_count": 1,
   "metadata": {},
   "outputs": [
    {
     "data": {
      "text/plain": [
       "datetime.date(2021, 12, 27)"
      ]
     },
     "execution_count": 1,
     "metadata": {},
     "output_type": "execute_result"
    }
   ],
   "source": [
    "import pandas as pd\n",
    "from datetime import date, timedelta\n",
    "from sqlalchemy import create_engine\n",
    "\n",
    "engine = create_engine('mysql+pymysql://root:@localhost:3306/portfolio_development')\n",
    "conpf = engine.connect()\n",
    "\n",
    "engine = create_engine(\"mysql+pymysql://root:@localhost:3306/stock\")\n",
    "const = engine.connect()\n",
    "\n",
    "engine = create_engine(\"sqlite:///c:\\\\ruby\\\\port_lite\\\\db\\\\development.sqlite3\")\n",
    "conlite = engine.connect()\n",
    "\n",
    "today = date.today()\n",
    "today"
   ]
  },
  {
   "cell_type": "code",
   "execution_count": 2,
   "metadata": {},
   "outputs": [
    {
     "data": {
      "text/html": [
       "<div>\n",
       "<style scoped>\n",
       "    .dataframe tbody tr th:only-of-type {\n",
       "        vertical-align: middle;\n",
       "    }\n",
       "\n",
       "    .dataframe tbody tr th {\n",
       "        vertical-align: top;\n",
       "    }\n",
       "\n",
       "    .dataframe thead th {\n",
       "        text-align: right;\n",
       "    }\n",
       "</style>\n",
       "<table border=\"1\" class=\"dataframe\">\n",
       "  <thead>\n",
       "    <tr style=\"text-align: right;\">\n",
       "      <th></th>\n",
       "      <th>id</th>\n",
       "      <th>buy_id</th>\n",
       "      <th>date</th>\n",
       "      <th>price</th>\n",
       "      <th>fee</th>\n",
       "      <th>vat</th>\n",
       "      <th>net</th>\n",
       "      <th>days</th>\n",
       "      <th>profit</th>\n",
       "      <th>percent</th>\n",
       "      <th>yearly</th>\n",
       "      <th>sequence</th>\n",
       "      <th>chart</th>\n",
       "      <th>dividend_id</th>\n",
       "      <th>cost</th>\n",
       "      <th>qty</th>\n",
       "      <th>name</th>\n",
       "    </tr>\n",
       "  </thead>\n",
       "  <tbody>\n",
       "    <tr>\n",
       "      <th>0</th>\n",
       "      <td>889</td>\n",
       "      <td>284</td>\n",
       "      <td>2021-12-27</td>\n",
       "      <td>14.7</td>\n",
       "      <td>304.29</td>\n",
       "      <td>21.3</td>\n",
       "      <td>146674.41</td>\n",
       "      <td>1949</td>\n",
       "      <td>-20695.48</td>\n",
       "      <td>-12.36512</td>\n",
       "      <td>-2.31568</td>\n",
       "      <td>111</td>\n",
       "      <td>None</td>\n",
       "      <td>0</td>\n",
       "      <td>167369.89</td>\n",
       "      <td>10000</td>\n",
       "      <td>MCS</td>\n",
       "    </tr>\n",
       "  </tbody>\n",
       "</table>\n",
       "</div>"
      ],
      "text/plain": [
       "    id  buy_id        date  price     fee   vat        net  days    profit  \\\n",
       "0  889     284  2021-12-27   14.7  304.29  21.3  146674.41  1949 -20695.48   \n",
       "\n",
       "    percent   yearly  sequence chart  dividend_id       cost    qty name  \n",
       "0 -12.36512 -2.31568       111  None            0  167369.89  10000  MCS  "
      ]
     },
     "execution_count": 2,
     "metadata": {},
     "output_type": "execute_result"
    }
   ],
   "source": [
    "sql = '''\n",
    "SELECT S.* , B.net AS cost, B.qty, T.name\n",
    "FROM sells S\n",
    "JOIN buys B\n",
    "ON buy_id = B.id\n",
    "JOIN stocks T\n",
    "ON B.stock_id = T.id\n",
    "WHERE S.date = '%s'\n",
    "ORDER BY T.name\n",
    "'''\n",
    "sql = sql % today\n",
    "sells = pd.read_sql(sql, conpf)\n",
    "sells"
   ]
  },
  {
   "cell_type": "code",
   "execution_count": 3,
   "metadata": {},
   "outputs": [
    {
     "data": {
      "text/html": [
       "<div>\n",
       "<style scoped>\n",
       "    .dataframe tbody tr th:only-of-type {\n",
       "        vertical-align: middle;\n",
       "    }\n",
       "\n",
       "    .dataframe tbody tr th {\n",
       "        vertical-align: top;\n",
       "    }\n",
       "\n",
       "    .dataframe thead th {\n",
       "        text-align: right;\n",
       "    }\n",
       "</style>\n",
       "<table border=\"1\" class=\"dataframe\">\n",
       "  <thead>\n",
       "    <tr style=\"text-align: right;\">\n",
       "      <th></th>\n",
       "      <th>qty</th>\n",
       "      <th>price</th>\n",
       "      <th>net</th>\n",
       "      <th>cost</th>\n",
       "      <th>profit</th>\n",
       "    </tr>\n",
       "    <tr>\n",
       "      <th>name</th>\n",
       "      <th></th>\n",
       "      <th></th>\n",
       "      <th></th>\n",
       "      <th></th>\n",
       "      <th></th>\n",
       "    </tr>\n",
       "  </thead>\n",
       "  <tbody>\n",
       "    <tr>\n",
       "      <th>MCS</th>\n",
       "      <td>10000</td>\n",
       "      <td>14.7</td>\n",
       "      <td>146674.41</td>\n",
       "      <td>167369.89</td>\n",
       "      <td>-20695.48</td>\n",
       "    </tr>\n",
       "  </tbody>\n",
       "</table>\n",
       "</div>"
      ],
      "text/plain": [
       "        qty  price        net       cost    profit\n",
       "name                                              \n",
       "MCS   10000   14.7  146674.41  167369.89 -20695.48"
      ]
     },
     "execution_count": 3,
     "metadata": {},
     "output_type": "execute_result"
    }
   ],
   "source": [
    "grouped = sells.groupby('name').agg(\n",
    "{'qty':'sum',\n",
    " 'price':'mean',\n",
    " 'net':'sum',\n",
    " 'cost':'sum',\n",
    " 'profit':'sum'})\n",
    "grouped"
   ]
  },
  {
   "cell_type": "code",
   "execution_count": 4,
   "metadata": {},
   "outputs": [
    {
     "data": {
      "text/plain": [
       "(146674.41, 167369.89, -20695.48)"
      ]
     },
     "execution_count": 4,
     "metadata": {},
     "output_type": "execute_result"
    }
   ],
   "source": [
    "grouped.net.sum(),grouped.cost.sum(),grouped.profit.sum()"
   ]
  },
  {
   "cell_type": "code",
   "execution_count": 5,
   "metadata": {},
   "outputs": [
    {
     "data": {
      "text/plain": [
       "Index(['MCS'], dtype='object', name='name')"
      ]
     },
     "execution_count": 5,
     "metadata": {},
     "output_type": "execute_result"
    }
   ],
   "source": [
    "grouped.index"
   ]
  },
  {
   "cell_type": "markdown",
   "metadata": {},
   "source": [
    "### Update table buy in stock database"
   ]
  },
  {
   "cell_type": "code",
   "execution_count": 6,
   "metadata": {},
   "outputs": [
    {
     "data": {
      "text/plain": [
       "\"'MCS'\""
      ]
     },
     "execution_count": 6,
     "metadata": {},
     "output_type": "execute_result"
    }
   ],
   "source": [
    "names = sells.name.unique()\n",
    "in_p = \", \".join(map(lambda name: \"'%s'\" % name, names))\n",
    "in_p"
   ]
  },
  {
   "cell_type": "code",
   "execution_count": 7,
   "metadata": {},
   "outputs": [
    {
     "data": {
      "text/html": [
       "<div>\n",
       "<style scoped>\n",
       "    .dataframe tbody tr th:only-of-type {\n",
       "        vertical-align: middle;\n",
       "    }\n",
       "\n",
       "    .dataframe tbody tr th {\n",
       "        vertical-align: top;\n",
       "    }\n",
       "\n",
       "    .dataframe thead th {\n",
       "        text-align: right;\n",
       "    }\n",
       "</style>\n",
       "<table border=\"1\" class=\"dataframe\">\n",
       "  <thead>\n",
       "    <tr style=\"text-align: right;\">\n",
       "      <th></th>\n",
       "      <th>name</th>\n",
       "      <th>date</th>\n",
       "      <th>volbuy</th>\n",
       "      <th>price</th>\n",
       "      <th>volsell</th>\n",
       "      <th>volbal</th>\n",
       "      <th>active</th>\n",
       "      <th>dividend</th>\n",
       "      <th>period</th>\n",
       "      <th>grade</th>\n",
       "    </tr>\n",
       "  </thead>\n",
       "  <tbody>\n",
       "    <tr>\n",
       "      <th>0</th>\n",
       "      <td>MCS</td>\n",
       "      <td>2016-08-26</td>\n",
       "      <td>70000.0</td>\n",
       "      <td>16.7</td>\n",
       "      <td>0.0</td>\n",
       "      <td>0.0</td>\n",
       "      <td>1</td>\n",
       "      <td>1.37</td>\n",
       "      <td>2</td>\n",
       "      <td>A3</td>\n",
       "    </tr>\n",
       "  </tbody>\n",
       "</table>\n",
       "</div>"
      ],
      "text/plain": [
       "  name        date   volbuy  price  volsell  volbal  active  dividend period  \\\n",
       "0  MCS  2016-08-26  70000.0   16.7      0.0     0.0       1      1.37      2   \n",
       "\n",
       "  grade  \n",
       "0    A3  "
      ]
     },
     "execution_count": 7,
     "metadata": {},
     "output_type": "execute_result"
    }
   ],
   "source": [
    "sql = \"\"\"\n",
    "SELECT * \n",
    "FROM buy \n",
    "WHERE name IN (%s) \n",
    "ORDER BY name\n",
    "\"\"\"\n",
    "sql = sql % in_p\n",
    "df = pd.read_sql(sql, const)\n",
    "df"
   ]
  },
  {
   "cell_type": "code",
   "execution_count": 8,
   "metadata": {},
   "outputs": [
    {
     "name": "stdout",
     "output_type": "stream",
     "text": [
      "\n",
      "UPDATE buy\n",
      "SET volbuy = 6000\n",
      "WHERE name IN ('MCS')\n"
     ]
    }
   ],
   "source": [
    "sqlUpd = '''\n",
    "UPDATE buy\n",
    "SET volbuy = 6000\n",
    "WHERE name IN (%s)'''\n",
    "sqlUpd = sqlUpd % (in_p)\n",
    "print(sqlUpd)"
   ]
  },
  {
   "cell_type": "code",
   "execution_count": 9,
   "metadata": {},
   "outputs": [
    {
     "data": {
      "text/plain": [
       "11"
      ]
     },
     "execution_count": 9,
     "metadata": {},
     "output_type": "execute_result"
    }
   ],
   "source": [
    "rp = const.execute(sqlUpd)\n",
    "rp.rowcount"
   ]
  },
  {
   "cell_type": "code",
   "execution_count": 11,
   "metadata": {},
   "outputs": [
    {
     "data": {
      "text/html": [
       "<div>\n",
       "<style scoped>\n",
       "    .dataframe tbody tr th:only-of-type {\n",
       "        vertical-align: middle;\n",
       "    }\n",
       "\n",
       "    .dataframe tbody tr th {\n",
       "        vertical-align: top;\n",
       "    }\n",
       "\n",
       "    .dataframe thead th {\n",
       "        text-align: right;\n",
       "    }\n",
       "</style>\n",
       "<table border=\"1\" class=\"dataframe\">\n",
       "  <thead>\n",
       "    <tr style=\"text-align: right;\">\n",
       "      <th></th>\n",
       "      <th>name</th>\n",
       "      <th>date</th>\n",
       "      <th>volbuy</th>\n",
       "      <th>price</th>\n",
       "      <th>volsell</th>\n",
       "      <th>volbal</th>\n",
       "      <th>active</th>\n",
       "      <th>dividend</th>\n",
       "      <th>period</th>\n",
       "      <th>grade</th>\n",
       "    </tr>\n",
       "  </thead>\n",
       "  <tbody>\n",
       "  </tbody>\n",
       "</table>\n",
       "</div>"
      ],
      "text/plain": [
       "Empty DataFrame\n",
       "Columns: [name, date, volbuy, price, volsell, volbal, active, dividend, period, grade]\n",
       "Index: []"
      ]
     },
     "execution_count": 11,
     "metadata": {},
     "output_type": "execute_result"
    }
   ],
   "source": [
    "sql = \"\"\"\n",
    "SELECT * \n",
    "FROM buy \n",
    "WHERE active = 0\n",
    "ORDER BY name\n",
    "\"\"\"\n",
    "inactive_buy = pd.read_sql(sql, const)\n",
    "inactive_buy"
   ]
  },
  {
   "cell_type": "markdown",
   "metadata": {},
   "source": [
    "### Update table dividend in stock database"
   ]
  },
  {
   "cell_type": "code",
   "execution_count": 12,
   "metadata": {},
   "outputs": [
    {
     "name": "stdout",
     "output_type": "stream",
     "text": [
      "\n",
      "UPDATE dividend\n",
      "SET shares = 0\n",
      "WHERE name IN ('POPF', 'SIS')\n"
     ]
    }
   ],
   "source": [
    "sqlUpd = '''\n",
    "UPDATE dividend\n",
    "SET shares = 0\n",
    "WHERE name IN (%s)'''\n",
    "sqlUpd = sqlUpd % (in_p)\n",
    "print(sqlUpd)"
   ]
  },
  {
   "cell_type": "code",
   "execution_count": 12,
   "metadata": {},
   "outputs": [
    {
     "data": {
      "text/plain": [
       "11"
      ]
     },
     "execution_count": 12,
     "metadata": {},
     "output_type": "execute_result"
    }
   ],
   "source": [
    "rp = const.execute(sqlUpd)\n",
    "rp.rowcount"
   ]
  },
  {
   "cell_type": "markdown",
   "metadata": {},
   "source": [
    "### Delete sales and update stocks in PortLite"
   ]
  },
  {
   "cell_type": "code",
   "execution_count": 13,
   "metadata": {},
   "outputs": [
    {
     "name": "stdout",
     "output_type": "stream",
     "text": [
      "\n",
      "DELETE FROM sales\n",
      "WHERE name IN ('ADVANC', 'BCP', 'CHG', 'JMT', 'KKP', 'ORI', 'PRM', 'TOA', 'TPIPP', 'TQM', 'WHART')\n"
     ]
    }
   ],
   "source": [
    "sqlDel = \"\"\"\n",
    "DELETE FROM sales\n",
    "WHERE name IN (%s)\"\"\"\n",
    "sqlDel = sqlDel % in_p\n",
    "print(sqlDel)"
   ]
  },
  {
   "cell_type": "code",
   "execution_count": 14,
   "metadata": {},
   "outputs": [
    {
     "data": {
      "text/plain": [
       "0"
      ]
     },
     "execution_count": 14,
     "metadata": {},
     "output_type": "execute_result"
    }
   ],
   "source": [
    "rp = conlite.execute(sqlDel)\n",
    "rp.rowcount"
   ]
  },
  {
   "cell_type": "code",
   "execution_count": 15,
   "metadata": {},
   "outputs": [
    {
     "name": "stdout",
     "output_type": "stream",
     "text": [
      "\n",
      "UPDATE stocks\n",
      "SET status = 'X', available_qty = 0\n",
      "WHERE name IN ('ADVANC', 'BCP', 'CHG', 'JMT', 'KKP', 'ORI', 'PRM', 'TOA', 'TPIPP', 'TQM', 'WHART')\n"
     ]
    }
   ],
   "source": [
    "sqlUpd = \"\"\"\n",
    "UPDATE stocks\n",
    "SET status = 'X', available_qty = 0\n",
    "WHERE name IN (%s)\"\"\"\n",
    "sqlUpd = sqlUpd % in_p\n",
    "print(sqlUpd)"
   ]
  },
  {
   "cell_type": "code",
   "execution_count": 16,
   "metadata": {},
   "outputs": [
    {
     "data": {
      "text/plain": [
       "11"
      ]
     },
     "execution_count": 16,
     "metadata": {},
     "output_type": "execute_result"
    }
   ],
   "source": [
    "rp = conlite.execute(sqlUpd)\n",
    "rp.rowcount"
   ]
  },
  {
   "cell_type": "markdown",
   "metadata": {},
   "source": [
    "### Trace bakc process"
   ]
  },
  {
   "cell_type": "code",
   "execution_count": 17,
   "metadata": {},
   "outputs": [
    {
     "data": {
      "text/html": [
       "<div>\n",
       "<style scoped>\n",
       "    .dataframe tbody tr th:only-of-type {\n",
       "        vertical-align: middle;\n",
       "    }\n",
       "\n",
       "    .dataframe tbody tr th {\n",
       "        vertical-align: top;\n",
       "    }\n",
       "\n",
       "    .dataframe thead th {\n",
       "        text-align: right;\n",
       "    }\n",
       "</style>\n",
       "<table border=\"1\" class=\"dataframe\">\n",
       "  <thead>\n",
       "    <tr style=\"text-align: right;\">\n",
       "      <th></th>\n",
       "      <th>name</th>\n",
       "      <th>qty</th>\n",
       "      <th>price</th>\n",
       "      <th>net</th>\n",
       "      <th>cost</th>\n",
       "      <th>profit</th>\n",
       "    </tr>\n",
       "  </thead>\n",
       "  <tbody>\n",
       "    <tr>\n",
       "      <th>0</th>\n",
       "      <td>ADVANC</td>\n",
       "      <td>600</td>\n",
       "      <td>189.50</td>\n",
       "      <td>113448.16</td>\n",
       "      <td>114252.50</td>\n",
       "      <td>-804.34</td>\n",
       "    </tr>\n",
       "    <tr>\n",
       "      <th>1</th>\n",
       "      <td>BCP</td>\n",
       "      <td>6000</td>\n",
       "      <td>25.50</td>\n",
       "      <td>152661.12</td>\n",
       "      <td>162358.81</td>\n",
       "      <td>-9697.69</td>\n",
       "    </tr>\n",
       "    <tr>\n",
       "      <th>2</th>\n",
       "      <td>CHG</td>\n",
       "      <td>50000</td>\n",
       "      <td>3.78</td>\n",
       "      <td>188581.38</td>\n",
       "      <td>202447.42</td>\n",
       "      <td>-13866.04</td>\n",
       "    </tr>\n",
       "    <tr>\n",
       "      <th>3</th>\n",
       "      <td>JMT</td>\n",
       "      <td>2500</td>\n",
       "      <td>48.25</td>\n",
       "      <td>120357.83</td>\n",
       "      <td>101474.26</td>\n",
       "      <td>18883.57</td>\n",
       "    </tr>\n",
       "    <tr>\n",
       "      <th>4</th>\n",
       "      <td>KKP</td>\n",
       "      <td>3000</td>\n",
       "      <td>53.50</td>\n",
       "      <td>160144.50</td>\n",
       "      <td>165365.46</td>\n",
       "      <td>-5220.96</td>\n",
       "    </tr>\n",
       "    <tr>\n",
       "      <th>5</th>\n",
       "      <td>ORI</td>\n",
       "      <td>10000</td>\n",
       "      <td>10.30</td>\n",
       "      <td>102771.86</td>\n",
       "      <td>94208.20</td>\n",
       "      <td>8563.66</td>\n",
       "    </tr>\n",
       "    <tr>\n",
       "      <th>6</th>\n",
       "      <td>PRM</td>\n",
       "      <td>24000</td>\n",
       "      <td>6.55</td>\n",
       "      <td>156851.84</td>\n",
       "      <td>193627.92</td>\n",
       "      <td>-36776.08</td>\n",
       "    </tr>\n",
       "    <tr>\n",
       "      <th>7</th>\n",
       "      <td>TOA</td>\n",
       "      <td>3000</td>\n",
       "      <td>33.00</td>\n",
       "      <td>98780.72</td>\n",
       "      <td>99219.28</td>\n",
       "      <td>-438.56</td>\n",
       "    </tr>\n",
       "    <tr>\n",
       "      <th>8</th>\n",
       "      <td>TPIPP</td>\n",
       "      <td>60000</td>\n",
       "      <td>4.22</td>\n",
       "      <td>252639.20</td>\n",
       "      <td>251956.83</td>\n",
       "      <td>682.37</td>\n",
       "    </tr>\n",
       "    <tr>\n",
       "      <th>9</th>\n",
       "      <td>TQM</td>\n",
       "      <td>1800</td>\n",
       "      <td>108.00</td>\n",
       "      <td>193969.44</td>\n",
       "      <td>202046.54</td>\n",
       "      <td>-8077.10</td>\n",
       "    </tr>\n",
       "    <tr>\n",
       "      <th>10</th>\n",
       "      <td>WHART</td>\n",
       "      <td>10000</td>\n",
       "      <td>12.80</td>\n",
       "      <td>127716.49</td>\n",
       "      <td>133294.58</td>\n",
       "      <td>-5578.09</td>\n",
       "    </tr>\n",
       "  </tbody>\n",
       "</table>\n",
       "</div>"
      ],
      "text/plain": [
       "      name    qty   price        net       cost    profit\n",
       "0   ADVANC    600  189.50  113448.16  114252.50   -804.34\n",
       "1      BCP   6000   25.50  152661.12  162358.81  -9697.69\n",
       "2      CHG  50000    3.78  188581.38  202447.42 -13866.04\n",
       "3      JMT   2500   48.25  120357.83  101474.26  18883.57\n",
       "4      KKP   3000   53.50  160144.50  165365.46  -5220.96\n",
       "5      ORI  10000   10.30  102771.86   94208.20   8563.66\n",
       "6      PRM  24000    6.55  156851.84  193627.92 -36776.08\n",
       "7      TOA   3000   33.00   98780.72   99219.28   -438.56\n",
       "8    TPIPP  60000    4.22  252639.20  251956.83    682.37\n",
       "9      TQM   1800  108.00  193969.44  202046.54  -8077.10\n",
       "10   WHART  10000   12.80  127716.49  133294.58  -5578.09"
      ]
     },
     "execution_count": 17,
     "metadata": {},
     "output_type": "execute_result"
    }
   ],
   "source": [
    "#grouped.reset_index(level=0, inplace=True)\n",
    "grouped.reset_index(level='name', inplace=True)\n",
    "#level=['name', 'etc']\n",
    "grouped"
   ]
  },
  {
   "cell_type": "code",
   "execution_count": 18,
   "metadata": {},
   "outputs": [
    {
     "name": "stdout",
     "output_type": "stream",
     "text": [
      "\n",
      "SELECT *\n",
      "FROM price\n",
      "WHERE date = '2021-09-21'\n",
      "AND name IN ('ADVANC', 'BCP', 'CHG', 'JMT', 'KKP', 'ORI', 'PRM', 'TOA', 'TPIPP', 'TQM', 'WHART')\n",
      "\n"
     ]
    }
   ],
   "source": [
    "sql = '''\n",
    "SELECT *\n",
    "FROM price\n",
    "WHERE date = '%s'\n",
    "AND name IN (%s)\n",
    "'''\n",
    "sql = sql % (today, in_p)\n",
    "print(sql)"
   ]
  },
  {
   "cell_type": "code",
   "execution_count": 19,
   "metadata": {},
   "outputs": [
    {
     "data": {
      "text/html": [
       "<div>\n",
       "<style scoped>\n",
       "    .dataframe tbody tr th:only-of-type {\n",
       "        vertical-align: middle;\n",
       "    }\n",
       "\n",
       "    .dataframe tbody tr th {\n",
       "        vertical-align: top;\n",
       "    }\n",
       "\n",
       "    .dataframe thead th {\n",
       "        text-align: right;\n",
       "    }\n",
       "</style>\n",
       "<table border=\"1\" class=\"dataframe\">\n",
       "  <thead>\n",
       "    <tr style=\"text-align: right;\">\n",
       "      <th></th>\n",
       "      <th>name</th>\n",
       "      <th>date</th>\n",
       "      <th>price</th>\n",
       "      <th>maxp</th>\n",
       "      <th>minp</th>\n",
       "      <th>qty</th>\n",
       "      <th>opnp</th>\n",
       "    </tr>\n",
       "  </thead>\n",
       "  <tbody>\n",
       "    <tr>\n",
       "      <th>0</th>\n",
       "      <td>ADVANC</td>\n",
       "      <td>2021-09-21</td>\n",
       "      <td>193.00</td>\n",
       "      <td>193.00</td>\n",
       "      <td>189.00</td>\n",
       "      <td>7408634</td>\n",
       "      <td>189.50</td>\n",
       "    </tr>\n",
       "    <tr>\n",
       "      <th>1</th>\n",
       "      <td>BCP</td>\n",
       "      <td>2021-09-21</td>\n",
       "      <td>26.00</td>\n",
       "      <td>26.25</td>\n",
       "      <td>25.50</td>\n",
       "      <td>5799795</td>\n",
       "      <td>25.50</td>\n",
       "    </tr>\n",
       "    <tr>\n",
       "      <th>2</th>\n",
       "      <td>CHG</td>\n",
       "      <td>2021-09-21</td>\n",
       "      <td>3.82</td>\n",
       "      <td>3.88</td>\n",
       "      <td>3.78</td>\n",
       "      <td>66970604</td>\n",
       "      <td>3.78</td>\n",
       "    </tr>\n",
       "    <tr>\n",
       "      <th>3</th>\n",
       "      <td>JMT</td>\n",
       "      <td>2021-09-21</td>\n",
       "      <td>49.25</td>\n",
       "      <td>49.50</td>\n",
       "      <td>48.00</td>\n",
       "      <td>7350561</td>\n",
       "      <td>48.25</td>\n",
       "    </tr>\n",
       "    <tr>\n",
       "      <th>4</th>\n",
       "      <td>KKP</td>\n",
       "      <td>2021-09-21</td>\n",
       "      <td>54.50</td>\n",
       "      <td>54.75</td>\n",
       "      <td>53.50</td>\n",
       "      <td>2609657</td>\n",
       "      <td>53.50</td>\n",
       "    </tr>\n",
       "    <tr>\n",
       "      <th>5</th>\n",
       "      <td>ORI</td>\n",
       "      <td>2021-09-21</td>\n",
       "      <td>10.20</td>\n",
       "      <td>10.40</td>\n",
       "      <td>9.95</td>\n",
       "      <td>13937378</td>\n",
       "      <td>10.30</td>\n",
       "    </tr>\n",
       "    <tr>\n",
       "      <th>6</th>\n",
       "      <td>PRM</td>\n",
       "      <td>2021-09-21</td>\n",
       "      <td>6.65</td>\n",
       "      <td>6.65</td>\n",
       "      <td>6.45</td>\n",
       "      <td>5722239</td>\n",
       "      <td>6.55</td>\n",
       "    </tr>\n",
       "    <tr>\n",
       "      <th>7</th>\n",
       "      <td>TOA</td>\n",
       "      <td>2021-09-21</td>\n",
       "      <td>33.25</td>\n",
       "      <td>33.25</td>\n",
       "      <td>32.75</td>\n",
       "      <td>1200206</td>\n",
       "      <td>33.00</td>\n",
       "    </tr>\n",
       "    <tr>\n",
       "      <th>8</th>\n",
       "      <td>TPIPP</td>\n",
       "      <td>2021-09-21</td>\n",
       "      <td>4.24</td>\n",
       "      <td>4.26</td>\n",
       "      <td>4.20</td>\n",
       "      <td>11065219</td>\n",
       "      <td>4.22</td>\n",
       "    </tr>\n",
       "    <tr>\n",
       "      <th>9</th>\n",
       "      <td>TQM</td>\n",
       "      <td>2021-09-21</td>\n",
       "      <td>109.00</td>\n",
       "      <td>110.00</td>\n",
       "      <td>106.00</td>\n",
       "      <td>974973</td>\n",
       "      <td>108.00</td>\n",
       "    </tr>\n",
       "    <tr>\n",
       "      <th>10</th>\n",
       "      <td>WHART</td>\n",
       "      <td>2021-09-21</td>\n",
       "      <td>12.70</td>\n",
       "      <td>12.90</td>\n",
       "      <td>12.70</td>\n",
       "      <td>1488301</td>\n",
       "      <td>12.80</td>\n",
       "    </tr>\n",
       "  </tbody>\n",
       "</table>\n",
       "</div>"
      ],
      "text/plain": [
       "      name        date   price    maxp    minp       qty    opnp\n",
       "0   ADVANC  2021-09-21  193.00  193.00  189.00   7408634  189.50\n",
       "1      BCP  2021-09-21   26.00   26.25   25.50   5799795   25.50\n",
       "2      CHG  2021-09-21    3.82    3.88    3.78  66970604    3.78\n",
       "3      JMT  2021-09-21   49.25   49.50   48.00   7350561   48.25\n",
       "4      KKP  2021-09-21   54.50   54.75   53.50   2609657   53.50\n",
       "5      ORI  2021-09-21   10.20   10.40    9.95  13937378   10.30\n",
       "6      PRM  2021-09-21    6.65    6.65    6.45   5722239    6.55\n",
       "7      TOA  2021-09-21   33.25   33.25   32.75   1200206   33.00\n",
       "8    TPIPP  2021-09-21    4.24    4.26    4.20  11065219    4.22\n",
       "9      TQM  2021-09-21  109.00  110.00  106.00    974973  108.00\n",
       "10   WHART  2021-09-21   12.70   12.90   12.70   1488301   12.80"
      ]
     },
     "execution_count": 19,
     "metadata": {},
     "output_type": "execute_result"
    }
   ],
   "source": [
    "prices = pd.read_sql(sql, const)\n",
    "prices"
   ]
  },
  {
   "cell_type": "code",
   "execution_count": 20,
   "metadata": {},
   "outputs": [
    {
     "data": {
      "text/plain": [
       "name        object\n",
       "qty_x        int64\n",
       "price_x    float64\n",
       "net        float64\n",
       "cost       float64\n",
       "profit     float64\n",
       "date        object\n",
       "price_y    float64\n",
       "maxp       float64\n",
       "minp       float64\n",
       "qty_y        int64\n",
       "opnp       float64\n",
       "dtype: object"
      ]
     },
     "execution_count": 20,
     "metadata": {},
     "output_type": "execute_result"
    }
   ],
   "source": [
    "df_merge = pd.merge(grouped, prices, on='name', how='inner')\n",
    "df_merge.dtypes"
   ]
  },
  {
   "cell_type": "code",
   "execution_count": 21,
   "metadata": {},
   "outputs": [
    {
     "data": {
      "text/html": [
       "<div>\n",
       "<style scoped>\n",
       "    .dataframe tbody tr th:only-of-type {\n",
       "        vertical-align: middle;\n",
       "    }\n",
       "\n",
       "    .dataframe tbody tr th {\n",
       "        vertical-align: top;\n",
       "    }\n",
       "\n",
       "    .dataframe thead th {\n",
       "        text-align: right;\n",
       "    }\n",
       "</style>\n",
       "<table border=\"1\" class=\"dataframe\">\n",
       "  <thead>\n",
       "    <tr style=\"text-align: right;\">\n",
       "      <th></th>\n",
       "      <th>name</th>\n",
       "      <th>qty_x</th>\n",
       "      <th>price_x</th>\n",
       "      <th>price_y</th>\n",
       "    </tr>\n",
       "  </thead>\n",
       "  <tbody>\n",
       "    <tr>\n",
       "      <th>0</th>\n",
       "      <td>ADVANC</td>\n",
       "      <td>600</td>\n",
       "      <td>189.50</td>\n",
       "      <td>193.00</td>\n",
       "    </tr>\n",
       "    <tr>\n",
       "      <th>1</th>\n",
       "      <td>BCP</td>\n",
       "      <td>6000</td>\n",
       "      <td>25.50</td>\n",
       "      <td>26.00</td>\n",
       "    </tr>\n",
       "    <tr>\n",
       "      <th>2</th>\n",
       "      <td>CHG</td>\n",
       "      <td>50000</td>\n",
       "      <td>3.78</td>\n",
       "      <td>3.82</td>\n",
       "    </tr>\n",
       "    <tr>\n",
       "      <th>3</th>\n",
       "      <td>JMT</td>\n",
       "      <td>2500</td>\n",
       "      <td>48.25</td>\n",
       "      <td>49.25</td>\n",
       "    </tr>\n",
       "    <tr>\n",
       "      <th>4</th>\n",
       "      <td>KKP</td>\n",
       "      <td>3000</td>\n",
       "      <td>53.50</td>\n",
       "      <td>54.50</td>\n",
       "    </tr>\n",
       "    <tr>\n",
       "      <th>5</th>\n",
       "      <td>ORI</td>\n",
       "      <td>10000</td>\n",
       "      <td>10.30</td>\n",
       "      <td>10.20</td>\n",
       "    </tr>\n",
       "    <tr>\n",
       "      <th>6</th>\n",
       "      <td>PRM</td>\n",
       "      <td>24000</td>\n",
       "      <td>6.55</td>\n",
       "      <td>6.65</td>\n",
       "    </tr>\n",
       "    <tr>\n",
       "      <th>7</th>\n",
       "      <td>TOA</td>\n",
       "      <td>3000</td>\n",
       "      <td>33.00</td>\n",
       "      <td>33.25</td>\n",
       "    </tr>\n",
       "    <tr>\n",
       "      <th>8</th>\n",
       "      <td>TPIPP</td>\n",
       "      <td>60000</td>\n",
       "      <td>4.22</td>\n",
       "      <td>4.24</td>\n",
       "    </tr>\n",
       "    <tr>\n",
       "      <th>9</th>\n",
       "      <td>TQM</td>\n",
       "      <td>1800</td>\n",
       "      <td>108.00</td>\n",
       "      <td>109.00</td>\n",
       "    </tr>\n",
       "    <tr>\n",
       "      <th>10</th>\n",
       "      <td>WHART</td>\n",
       "      <td>10000</td>\n",
       "      <td>12.80</td>\n",
       "      <td>12.70</td>\n",
       "    </tr>\n",
       "  </tbody>\n",
       "</table>\n",
       "</div>"
      ],
      "text/plain": [
       "      name  qty_x  price_x  price_y\n",
       "0   ADVANC    600   189.50   193.00\n",
       "1      BCP   6000    25.50    26.00\n",
       "2      CHG  50000     3.78     3.82\n",
       "3      JMT   2500    48.25    49.25\n",
       "4      KKP   3000    53.50    54.50\n",
       "5      ORI  10000    10.30    10.20\n",
       "6      PRM  24000     6.55     6.65\n",
       "7      TOA   3000    33.00    33.25\n",
       "8    TPIPP  60000     4.22     4.24\n",
       "9      TQM   1800   108.00   109.00\n",
       "10   WHART  10000    12.80    12.70"
      ]
     },
     "execution_count": 21,
     "metadata": {},
     "output_type": "execute_result"
    }
   ],
   "source": [
    "cols = 'name qty_x price_x price_y'.split()\n",
    "df_merge[cols]"
   ]
  },
  {
   "cell_type": "code",
   "execution_count": 22,
   "metadata": {},
   "outputs": [
    {
     "data": {
      "text/html": [
       "<div>\n",
       "<style scoped>\n",
       "    .dataframe tbody tr th:only-of-type {\n",
       "        vertical-align: middle;\n",
       "    }\n",
       "\n",
       "    .dataframe tbody tr th {\n",
       "        vertical-align: top;\n",
       "    }\n",
       "\n",
       "    .dataframe thead th {\n",
       "        text-align: right;\n",
       "    }\n",
       "</style>\n",
       "<table border=\"1\" class=\"dataframe\">\n",
       "  <thead>\n",
       "    <tr style=\"text-align: right;\">\n",
       "      <th></th>\n",
       "      <th>name</th>\n",
       "      <th>qty_x</th>\n",
       "      <th>price_x</th>\n",
       "      <th>price_y</th>\n",
       "      <th>diff</th>\n",
       "      <th>profit</th>\n",
       "    </tr>\n",
       "  </thead>\n",
       "  <tbody>\n",
       "    <tr>\n",
       "      <th>0</th>\n",
       "      <td>ADVANC</td>\n",
       "      <td>600</td>\n",
       "      <td>189.50</td>\n",
       "      <td>193.00</td>\n",
       "      <td>-3.50</td>\n",
       "      <td>-2100.0</td>\n",
       "    </tr>\n",
       "    <tr>\n",
       "      <th>1</th>\n",
       "      <td>BCP</td>\n",
       "      <td>6000</td>\n",
       "      <td>25.50</td>\n",
       "      <td>26.00</td>\n",
       "      <td>-0.50</td>\n",
       "      <td>-3000.0</td>\n",
       "    </tr>\n",
       "    <tr>\n",
       "      <th>2</th>\n",
       "      <td>CHG</td>\n",
       "      <td>50000</td>\n",
       "      <td>3.78</td>\n",
       "      <td>3.82</td>\n",
       "      <td>-0.04</td>\n",
       "      <td>-2000.0</td>\n",
       "    </tr>\n",
       "    <tr>\n",
       "      <th>3</th>\n",
       "      <td>JMT</td>\n",
       "      <td>2500</td>\n",
       "      <td>48.25</td>\n",
       "      <td>49.25</td>\n",
       "      <td>-1.00</td>\n",
       "      <td>-2500.0</td>\n",
       "    </tr>\n",
       "    <tr>\n",
       "      <th>4</th>\n",
       "      <td>KKP</td>\n",
       "      <td>3000</td>\n",
       "      <td>53.50</td>\n",
       "      <td>54.50</td>\n",
       "      <td>-1.00</td>\n",
       "      <td>-3000.0</td>\n",
       "    </tr>\n",
       "    <tr>\n",
       "      <th>5</th>\n",
       "      <td>ORI</td>\n",
       "      <td>10000</td>\n",
       "      <td>10.30</td>\n",
       "      <td>10.20</td>\n",
       "      <td>0.10</td>\n",
       "      <td>1000.0</td>\n",
       "    </tr>\n",
       "    <tr>\n",
       "      <th>6</th>\n",
       "      <td>PRM</td>\n",
       "      <td>24000</td>\n",
       "      <td>6.55</td>\n",
       "      <td>6.65</td>\n",
       "      <td>-0.10</td>\n",
       "      <td>-2400.0</td>\n",
       "    </tr>\n",
       "    <tr>\n",
       "      <th>7</th>\n",
       "      <td>TOA</td>\n",
       "      <td>3000</td>\n",
       "      <td>33.00</td>\n",
       "      <td>33.25</td>\n",
       "      <td>-0.25</td>\n",
       "      <td>-750.0</td>\n",
       "    </tr>\n",
       "    <tr>\n",
       "      <th>8</th>\n",
       "      <td>TPIPP</td>\n",
       "      <td>60000</td>\n",
       "      <td>4.22</td>\n",
       "      <td>4.24</td>\n",
       "      <td>-0.02</td>\n",
       "      <td>-1200.0</td>\n",
       "    </tr>\n",
       "    <tr>\n",
       "      <th>9</th>\n",
       "      <td>TQM</td>\n",
       "      <td>1800</td>\n",
       "      <td>108.00</td>\n",
       "      <td>109.00</td>\n",
       "      <td>-1.00</td>\n",
       "      <td>-1800.0</td>\n",
       "    </tr>\n",
       "    <tr>\n",
       "      <th>10</th>\n",
       "      <td>WHART</td>\n",
       "      <td>10000</td>\n",
       "      <td>12.80</td>\n",
       "      <td>12.70</td>\n",
       "      <td>0.10</td>\n",
       "      <td>1000.0</td>\n",
       "    </tr>\n",
       "  </tbody>\n",
       "</table>\n",
       "</div>"
      ],
      "text/plain": [
       "      name  qty_x  price_x  price_y  diff  profit\n",
       "0   ADVANC    600   189.50   193.00 -3.50 -2100.0\n",
       "1      BCP   6000    25.50    26.00 -0.50 -3000.0\n",
       "2      CHG  50000     3.78     3.82 -0.04 -2000.0\n",
       "3      JMT   2500    48.25    49.25 -1.00 -2500.0\n",
       "4      KKP   3000    53.50    54.50 -1.00 -3000.0\n",
       "5      ORI  10000    10.30    10.20  0.10  1000.0\n",
       "6      PRM  24000     6.55     6.65 -0.10 -2400.0\n",
       "7      TOA   3000    33.00    33.25 -0.25  -750.0\n",
       "8    TPIPP  60000     4.22     4.24 -0.02 -1200.0\n",
       "9      TQM   1800   108.00   109.00 -1.00 -1800.0\n",
       "10   WHART  10000    12.80    12.70  0.10  1000.0"
      ]
     },
     "execution_count": 22,
     "metadata": {},
     "output_type": "execute_result"
    }
   ],
   "source": [
    "df_merge['diff'] = df_merge.price_x - df_merge.price_y\n",
    "df_merge['profit'] = (df_merge.price_x - df_merge.price_y) * df_merge.qty_x\n",
    "cols = 'name qty_x price_x price_y diff profit'.split()\n",
    "df_merge[cols]"
   ]
  },
  {
   "cell_type": "code",
   "execution_count": 23,
   "metadata": {},
   "outputs": [
    {
     "data": {
      "text/plain": [
       "-16750.000000000015"
      ]
     },
     "execution_count": 23,
     "metadata": {},
     "output_type": "execute_result"
    }
   ],
   "source": [
    "df_merge.profit.sum()"
   ]
  },
  {
   "cell_type": "code",
   "execution_count": 24,
   "metadata": {},
   "outputs": [
    {
     "data": {
      "text/html": [
       "<div>\n",
       "<style scoped>\n",
       "    .dataframe tbody tr th:only-of-type {\n",
       "        vertical-align: middle;\n",
       "    }\n",
       "\n",
       "    .dataframe tbody tr th {\n",
       "        vertical-align: top;\n",
       "    }\n",
       "\n",
       "    .dataframe thead th {\n",
       "        text-align: right;\n",
       "    }\n",
       "</style>\n",
       "<table border=\"1\" class=\"dataframe\">\n",
       "  <thead>\n",
       "    <tr style=\"text-align: right;\">\n",
       "      <th></th>\n",
       "      <th>name</th>\n",
       "      <th>qty_x</th>\n",
       "      <th>opnp</th>\n",
       "      <th>price_y</th>\n",
       "      <th>diff2</th>\n",
       "      <th>profit2</th>\n",
       "    </tr>\n",
       "  </thead>\n",
       "  <tbody>\n",
       "    <tr>\n",
       "      <th>0</th>\n",
       "      <td>ADVANC</td>\n",
       "      <td>600</td>\n",
       "      <td>189.50</td>\n",
       "      <td>193.00</td>\n",
       "      <td>-3.50</td>\n",
       "      <td>-2100.0</td>\n",
       "    </tr>\n",
       "    <tr>\n",
       "      <th>1</th>\n",
       "      <td>BCP</td>\n",
       "      <td>6000</td>\n",
       "      <td>25.50</td>\n",
       "      <td>26.00</td>\n",
       "      <td>-0.50</td>\n",
       "      <td>-3000.0</td>\n",
       "    </tr>\n",
       "    <tr>\n",
       "      <th>2</th>\n",
       "      <td>CHG</td>\n",
       "      <td>50000</td>\n",
       "      <td>3.78</td>\n",
       "      <td>3.82</td>\n",
       "      <td>-0.04</td>\n",
       "      <td>-2000.0</td>\n",
       "    </tr>\n",
       "    <tr>\n",
       "      <th>3</th>\n",
       "      <td>JMT</td>\n",
       "      <td>2500</td>\n",
       "      <td>48.25</td>\n",
       "      <td>49.25</td>\n",
       "      <td>-1.00</td>\n",
       "      <td>-2500.0</td>\n",
       "    </tr>\n",
       "    <tr>\n",
       "      <th>4</th>\n",
       "      <td>KKP</td>\n",
       "      <td>3000</td>\n",
       "      <td>53.50</td>\n",
       "      <td>54.50</td>\n",
       "      <td>-1.00</td>\n",
       "      <td>-3000.0</td>\n",
       "    </tr>\n",
       "    <tr>\n",
       "      <th>5</th>\n",
       "      <td>ORI</td>\n",
       "      <td>10000</td>\n",
       "      <td>10.30</td>\n",
       "      <td>10.20</td>\n",
       "      <td>0.10</td>\n",
       "      <td>1000.0</td>\n",
       "    </tr>\n",
       "    <tr>\n",
       "      <th>6</th>\n",
       "      <td>PRM</td>\n",
       "      <td>24000</td>\n",
       "      <td>6.55</td>\n",
       "      <td>6.65</td>\n",
       "      <td>-0.10</td>\n",
       "      <td>-2400.0</td>\n",
       "    </tr>\n",
       "    <tr>\n",
       "      <th>7</th>\n",
       "      <td>TOA</td>\n",
       "      <td>3000</td>\n",
       "      <td>33.00</td>\n",
       "      <td>33.25</td>\n",
       "      <td>-0.25</td>\n",
       "      <td>-750.0</td>\n",
       "    </tr>\n",
       "    <tr>\n",
       "      <th>8</th>\n",
       "      <td>TPIPP</td>\n",
       "      <td>60000</td>\n",
       "      <td>4.22</td>\n",
       "      <td>4.24</td>\n",
       "      <td>-0.02</td>\n",
       "      <td>-1200.0</td>\n",
       "    </tr>\n",
       "    <tr>\n",
       "      <th>9</th>\n",
       "      <td>TQM</td>\n",
       "      <td>1800</td>\n",
       "      <td>108.00</td>\n",
       "      <td>109.00</td>\n",
       "      <td>-1.00</td>\n",
       "      <td>-1800.0</td>\n",
       "    </tr>\n",
       "    <tr>\n",
       "      <th>10</th>\n",
       "      <td>WHART</td>\n",
       "      <td>10000</td>\n",
       "      <td>12.80</td>\n",
       "      <td>12.70</td>\n",
       "      <td>0.10</td>\n",
       "      <td>1000.0</td>\n",
       "    </tr>\n",
       "  </tbody>\n",
       "</table>\n",
       "</div>"
      ],
      "text/plain": [
       "      name  qty_x    opnp  price_y  diff2  profit2\n",
       "0   ADVANC    600  189.50   193.00  -3.50  -2100.0\n",
       "1      BCP   6000   25.50    26.00  -0.50  -3000.0\n",
       "2      CHG  50000    3.78     3.82  -0.04  -2000.0\n",
       "3      JMT   2500   48.25    49.25  -1.00  -2500.0\n",
       "4      KKP   3000   53.50    54.50  -1.00  -3000.0\n",
       "5      ORI  10000   10.30    10.20   0.10   1000.0\n",
       "6      PRM  24000    6.55     6.65  -0.10  -2400.0\n",
       "7      TOA   3000   33.00    33.25  -0.25   -750.0\n",
       "8    TPIPP  60000    4.22     4.24  -0.02  -1200.0\n",
       "9      TQM   1800  108.00   109.00  -1.00  -1800.0\n",
       "10   WHART  10000   12.80    12.70   0.10   1000.0"
      ]
     },
     "execution_count": 24,
     "metadata": {},
     "output_type": "execute_result"
    }
   ],
   "source": [
    "df_merge['diff2'] = df_merge.opnp - df_merge.price_y\n",
    "df_merge['profit2'] = (df_merge.opnp - df_merge.price_y) * df_merge.qty_x\n",
    "cols = 'name qty_x opnp price_y diff2 profit2'.split()\n",
    "df_merge[cols]"
   ]
  },
  {
   "cell_type": "code",
   "execution_count": 25,
   "metadata": {},
   "outputs": [
    {
     "data": {
      "text/plain": [
       "-16750.000000000015"
      ]
     },
     "execution_count": 25,
     "metadata": {},
     "output_type": "execute_result"
    }
   ],
   "source": [
    "df_merge.profit2.sum()"
   ]
  },
  {
   "cell_type": "code",
   "execution_count": null,
   "metadata": {},
   "outputs": [],
   "source": []
  }
 ],
 "metadata": {
  "anaconda-cloud": {},
  "kernelspec": {
   "display_name": "Python 3 (ipykernel)",
   "language": "python",
   "name": "python3"
  },
  "language_info": {
   "codemirror_mode": {
    "name": "ipython",
    "version": 3
   },
   "file_extension": ".py",
   "mimetype": "text/x-python",
   "name": "python",
   "nbconvert_exporter": "python",
   "pygments_lexer": "ipython3",
   "version": "3.8.11"
  }
 },
 "nbformat": 4,
 "nbformat_minor": 1
}
