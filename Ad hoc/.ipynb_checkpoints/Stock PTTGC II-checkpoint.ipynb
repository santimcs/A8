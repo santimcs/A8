{
 "cells": [
  {
   "cell_type": "code",
   "execution_count": 1,
   "metadata": {},
   "outputs": [],
   "source": [
    "import pandas as pd\n",
    "from datetime import date, timedelta\n",
    "from sqlalchemy import create_engine\n",
    "\n",
    "engine = create_engine('mysql+pymysql://root:@localhost:3306/portfolio_development')\n",
    "conpf = engine.connect()\n",
    "\n",
    "data_path = \"../data/\"\n",
    "csv_path = \"\\\\Users\\\\User\\\\iCloudDrive\\\\\"\n",
    "box_path = \"\\\\Users\\\\User\\\\Dropbox\\\\\"\n",
    "\n",
    "#year = 2022\n",
    "name = 'STA'\n",
    "#buy_date = '2021-06-15' # oldest active record"
   ]
  },
  {
   "cell_type": "code",
   "execution_count": 2,
   "metadata": {},
   "outputs": [],
   "source": [
    "format_dict = {'qty':'{:,}',\n",
    "              'sell_price':'{:,.2f}','buy_price':'{:,.2f}','diff':'{:,.2f}',\n",
    "              'sell_amt':'{:,.2f}','buy_amt':'{:,.2f}','gross':'{:,.2f}','profit':'{:,.2f}',\n",
    "              'pct':'{:,.2f}%','net':'{:,.2f}',\n",
    "              'cost_amt':'{:,.2f}','unit_cost':'{:,.2f}','avg_cost':'{:,.2f}'}\n",
    "\n",
    "pd.set_option('display.float_format','{:,.2f}'.format)"
   ]
  },
  {
   "cell_type": "markdown",
   "metadata": {},
   "source": [
    "### Record selection for active stocks"
   ]
  },
  {
   "cell_type": "code",
   "execution_count": 3,
   "metadata": {},
   "outputs": [
    {
     "name": "stdout",
     "output_type": "stream",
     "text": [
      "\n",
      "SELECT name, buys.date AS buy_date,\n",
      "buys.price AS unit_cost, qty, \n",
      "(buys.price * qty) AS cost_amt, net\n",
      "FROM buys\n",
      "JOIN stocks ON buys.stock_id = stocks.id\n",
      "WHERE name = 'STA' AND status = 'Active'\n",
      "ORDER BY buys.date DESC\n"
     ]
    },
    {
     "data": {
      "text/html": [
       "<style type=\"text/css\">\n",
       "</style>\n",
       "<table id=\"T_1150f_\">\n",
       "  <thead>\n",
       "    <tr>\n",
       "      <th class=\"blank level0\" >&nbsp;</th>\n",
       "      <th class=\"col_heading level0 col0\" >name</th>\n",
       "      <th class=\"col_heading level0 col1\" >buy_date</th>\n",
       "      <th class=\"col_heading level0 col2\" >unit_cost</th>\n",
       "      <th class=\"col_heading level0 col3\" >qty</th>\n",
       "      <th class=\"col_heading level0 col4\" >cost_amt</th>\n",
       "      <th class=\"col_heading level0 col5\" >net</th>\n",
       "    </tr>\n",
       "  </thead>\n",
       "  <tbody>\n",
       "    <tr>\n",
       "      <th id=\"T_1150f_level0_row0\" class=\"row_heading level0 row0\" >0</th>\n",
       "      <td id=\"T_1150f_row0_col0\" class=\"data row0 col0\" >STA</td>\n",
       "      <td id=\"T_1150f_row0_col1\" class=\"data row0 col1\" >2022-03-04</td>\n",
       "      <td id=\"T_1150f_row0_col2\" class=\"data row0 col2\" >25.75</td>\n",
       "      <td id=\"T_1150f_row0_col3\" class=\"data row0 col3\" >2,500</td>\n",
       "      <td id=\"T_1150f_row0_col4\" class=\"data row0 col4\" >64,375.00</td>\n",
       "      <td id=\"T_1150f_row0_col5\" class=\"data row0 col5\" >64,517.59</td>\n",
       "    </tr>\n",
       "    <tr>\n",
       "      <th id=\"T_1150f_level0_row1\" class=\"row_heading level0 row1\" >1</th>\n",
       "      <td id=\"T_1150f_row1_col0\" class=\"data row1 col0\" >STA</td>\n",
       "      <td id=\"T_1150f_row1_col1\" class=\"data row1 col1\" >2021-12-20</td>\n",
       "      <td id=\"T_1150f_row1_col2\" class=\"data row1 col2\" >29.50</td>\n",
       "      <td id=\"T_1150f_row1_col3\" class=\"data row1 col3\" >2,500</td>\n",
       "      <td id=\"T_1150f_row1_col4\" class=\"data row1 col4\" >73,750.00</td>\n",
       "      <td id=\"T_1150f_row1_col5\" class=\"data row1 col5\" >73,913.35</td>\n",
       "    </tr>\n",
       "    <tr>\n",
       "      <th id=\"T_1150f_level0_row2\" class=\"row_heading level0 row2\" >2</th>\n",
       "      <td id=\"T_1150f_row2_col0\" class=\"data row2 col0\" >STA</td>\n",
       "      <td id=\"T_1150f_row2_col1\" class=\"data row2 col1\" >2021-12-13</td>\n",
       "      <td id=\"T_1150f_row2_col2\" class=\"data row2 col2\" >29.50</td>\n",
       "      <td id=\"T_1150f_row2_col3\" class=\"data row2 col3\" >2,500</td>\n",
       "      <td id=\"T_1150f_row2_col4\" class=\"data row2 col4\" >73,750.00</td>\n",
       "      <td id=\"T_1150f_row2_col5\" class=\"data row2 col5\" >73,913.35</td>\n",
       "    </tr>\n",
       "    <tr>\n",
       "      <th id=\"T_1150f_level0_row3\" class=\"row_heading level0 row3\" >3</th>\n",
       "      <td id=\"T_1150f_row3_col0\" class=\"data row3 col0\" >STA</td>\n",
       "      <td id=\"T_1150f_row3_col1\" class=\"data row3 col1\" >2021-10-27</td>\n",
       "      <td id=\"T_1150f_row3_col2\" class=\"data row3 col2\" >32.75</td>\n",
       "      <td id=\"T_1150f_row3_col3\" class=\"data row3 col3\" >2,500</td>\n",
       "      <td id=\"T_1150f_row3_col4\" class=\"data row3 col4\" >81,875.00</td>\n",
       "      <td id=\"T_1150f_row3_col5\" class=\"data row3 col5\" >82,056.34</td>\n",
       "    </tr>\n",
       "    <tr>\n",
       "      <th id=\"T_1150f_level0_row4\" class=\"row_heading level0 row4\" >4</th>\n",
       "      <td id=\"T_1150f_row4_col0\" class=\"data row4 col0\" >STA</td>\n",
       "      <td id=\"T_1150f_row4_col1\" class=\"data row4 col1\" >2021-09-23</td>\n",
       "      <td id=\"T_1150f_row4_col2\" class=\"data row4 col2\" >33.25</td>\n",
       "      <td id=\"T_1150f_row4_col3\" class=\"data row4 col3\" >2,500</td>\n",
       "      <td id=\"T_1150f_row4_col4\" class=\"data row4 col4\" >83,125.00</td>\n",
       "      <td id=\"T_1150f_row4_col5\" class=\"data row4 col5\" >83,309.11</td>\n",
       "    </tr>\n",
       "    <tr>\n",
       "      <th id=\"T_1150f_level0_row5\" class=\"row_heading level0 row5\" >5</th>\n",
       "      <td id=\"T_1150f_row5_col0\" class=\"data row5 col0\" >STA</td>\n",
       "      <td id=\"T_1150f_row5_col1\" class=\"data row5 col1\" >2021-09-13</td>\n",
       "      <td id=\"T_1150f_row5_col2\" class=\"data row5 col2\" >35.25</td>\n",
       "      <td id=\"T_1150f_row5_col3\" class=\"data row5 col3\" >2,500</td>\n",
       "      <td id=\"T_1150f_row5_col4\" class=\"data row5 col4\" >88,125.00</td>\n",
       "      <td id=\"T_1150f_row5_col5\" class=\"data row5 col5\" >88,320.19</td>\n",
       "    </tr>\n",
       "    <tr>\n",
       "      <th id=\"T_1150f_level0_row6\" class=\"row_heading level0 row6\" >6</th>\n",
       "      <td id=\"T_1150f_row6_col0\" class=\"data row6 col0\" >STA</td>\n",
       "      <td id=\"T_1150f_row6_col1\" class=\"data row6 col1\" >2021-07-21</td>\n",
       "      <td id=\"T_1150f_row6_col2\" class=\"data row6 col2\" >37.75</td>\n",
       "      <td id=\"T_1150f_row6_col3\" class=\"data row6 col3\" >2,500</td>\n",
       "      <td id=\"T_1150f_row6_col4\" class=\"data row6 col4\" >94,375.00</td>\n",
       "      <td id=\"T_1150f_row6_col5\" class=\"data row6 col5\" >94,584.04</td>\n",
       "    </tr>\n",
       "    <tr>\n",
       "      <th id=\"T_1150f_level0_row7\" class=\"row_heading level0 row7\" >7</th>\n",
       "      <td id=\"T_1150f_row7_col0\" class=\"data row7 col0\" >STA</td>\n",
       "      <td id=\"T_1150f_row7_col1\" class=\"data row7 col1\" >2021-06-21</td>\n",
       "      <td id=\"T_1150f_row7_col2\" class=\"data row7 col2\" >40.00</td>\n",
       "      <td id=\"T_1150f_row7_col3\" class=\"data row7 col3\" >2,500</td>\n",
       "      <td id=\"T_1150f_row7_col4\" class=\"data row7 col4\" >100,000.00</td>\n",
       "      <td id=\"T_1150f_row7_col5\" class=\"data row7 col5\" >100,221.49</td>\n",
       "    </tr>\n",
       "    <tr>\n",
       "      <th id=\"T_1150f_level0_row8\" class=\"row_heading level0 row8\" >8</th>\n",
       "      <td id=\"T_1150f_row8_col0\" class=\"data row8 col0\" >STA</td>\n",
       "      <td id=\"T_1150f_row8_col1\" class=\"data row8 col1\" >2021-06-15</td>\n",
       "      <td id=\"T_1150f_row8_col2\" class=\"data row8 col2\" >40.00</td>\n",
       "      <td id=\"T_1150f_row8_col3\" class=\"data row8 col3\" >2,500</td>\n",
       "      <td id=\"T_1150f_row8_col4\" class=\"data row8 col4\" >100,000.00</td>\n",
       "      <td id=\"T_1150f_row8_col5\" class=\"data row8 col5\" >100,221.49</td>\n",
       "    </tr>\n",
       "  </tbody>\n",
       "</table>\n"
      ],
      "text/plain": [
       "<pandas.io.formats.style.Styler at 0x2121a380640>"
      ]
     },
     "execution_count": 3,
     "metadata": {},
     "output_type": "execute_result"
    }
   ],
   "source": [
    "sql = '''\n",
    "SELECT name, buys.date AS buy_date,\n",
    "buys.price AS unit_cost, qty, \n",
    "(buys.price * qty) AS cost_amt, net\n",
    "FROM buys\n",
    "JOIN stocks ON buys.stock_id = stocks.id\n",
    "WHERE name = '%s' AND status = 'Active'\n",
    "ORDER BY buys.date DESC'''\n",
    "sql = sql % name\n",
    "print(sql)\n",
    "\n",
    "buys_df = pd.read_sql(sql, conpf)\n",
    "buys_df.style.format(format_dict)"
   ]
  },
  {
   "cell_type": "code",
   "execution_count": 4,
   "metadata": {},
   "outputs": [
    {
     "data": {
      "text/plain": [
       "cost_amt   759,375.00\n",
       "net        761,056.95\n",
       "qty         22,500.00\n",
       "dtype: float64"
      ]
     },
     "execution_count": 4,
     "metadata": {},
     "output_type": "execute_result"
    }
   ],
   "source": [
    "buys_df[['cost_amt','net','qty']].sum()"
   ]
  },
  {
   "cell_type": "code",
   "execution_count": 5,
   "metadata": {},
   "outputs": [
    {
     "data": {
      "text/plain": [
       "(761056, 22500)"
      ]
     },
     "execution_count": 5,
     "metadata": {},
     "output_type": "execute_result"
    }
   ],
   "source": [
    "qty = 22500\n",
    "net_cost = 761056\n",
    "net_cost, qty"
   ]
  },
  {
   "cell_type": "markdown",
   "metadata": {},
   "source": [
    "### Record selection for sold stocks"
   ]
  },
  {
   "cell_type": "code",
   "execution_count": 6,
   "metadata": {},
   "outputs": [
    {
     "name": "stdout",
     "output_type": "stream",
     "text": [
      "\n",
      "SELECT name, YEAR(sells.date) AS sell_year, MONTH(sells.date) AS sell_month,  \n",
      "             YEAR(buys.date) AS buy_year, MONTH(buys.date) AS buy_month,\n",
      "sells.price AS sell_price, buys.price AS buy_price, \n",
      "(sells.price - buys.price) AS diff, qty, \n",
      "(sells.price * qty) AS sell_amt,\n",
      "(buys.price * qty) AS buy_amt,\n",
      "(sells.price - buys.price) * qty AS gross, \n",
      "ROUND((sells.price - buys.price)/buys.price*100,2) AS pct, profit, buys.kind\n",
      "FROM sells JOIN buys ON sells.buy_id = buys.id\n",
      "JOIN stocks ON buys.stock_id = stocks.id\n",
      "WHERE name = 'STA' \n",
      "ORDER BY sell_year DESC, sell_month DESC, name\n"
     ]
    },
    {
     "data": {
      "text/html": [
       "<div>\n",
       "<style scoped>\n",
       "    .dataframe tbody tr th:only-of-type {\n",
       "        vertical-align: middle;\n",
       "    }\n",
       "\n",
       "    .dataframe tbody tr th {\n",
       "        vertical-align: top;\n",
       "    }\n",
       "\n",
       "    .dataframe thead th {\n",
       "        text-align: right;\n",
       "    }\n",
       "</style>\n",
       "<table border=\"1\" class=\"dataframe\">\n",
       "  <thead>\n",
       "    <tr style=\"text-align: right;\">\n",
       "      <th></th>\n",
       "      <th>name</th>\n",
       "      <th>sell_year</th>\n",
       "      <th>sell_month</th>\n",
       "      <th>buy_year</th>\n",
       "      <th>buy_month</th>\n",
       "      <th>sell_price</th>\n",
       "      <th>buy_price</th>\n",
       "      <th>diff</th>\n",
       "      <th>qty</th>\n",
       "      <th>sell_amt</th>\n",
       "      <th>buy_amt</th>\n",
       "      <th>gross</th>\n",
       "      <th>pct</th>\n",
       "      <th>profit</th>\n",
       "      <th>kind</th>\n",
       "    </tr>\n",
       "  </thead>\n",
       "  <tbody>\n",
       "    <tr>\n",
       "      <th>0</th>\n",
       "      <td>STA</td>\n",
       "      <td>2022</td>\n",
       "      <td>6</td>\n",
       "      <td>2022</td>\n",
       "      <td>5</td>\n",
       "      <td>22.20</td>\n",
       "      <td>21.80</td>\n",
       "      <td>0.40</td>\n",
       "      <td>1500</td>\n",
       "      <td>33,300.00</td>\n",
       "      <td>32,700.00</td>\n",
       "      <td>600.00</td>\n",
       "      <td>1.83</td>\n",
       "      <td>453.81</td>\n",
       "      <td>HD</td>\n",
       "    </tr>\n",
       "    <tr>\n",
       "      <th>1</th>\n",
       "      <td>STA</td>\n",
       "      <td>2021</td>\n",
       "      <td>2</td>\n",
       "      <td>2021</td>\n",
       "      <td>1</td>\n",
       "      <td>44.50</td>\n",
       "      <td>30.00</td>\n",
       "      <td>14.50</td>\n",
       "      <td>2000</td>\n",
       "      <td>89,000.00</td>\n",
       "      <td>60,000.00</td>\n",
       "      <td>29,000.00</td>\n",
       "      <td>48.33</td>\n",
       "      <td>28,669.98</td>\n",
       "      <td>DTD</td>\n",
       "    </tr>\n",
       "    <tr>\n",
       "      <th>2</th>\n",
       "      <td>STA</td>\n",
       "      <td>2021</td>\n",
       "      <td>2</td>\n",
       "      <td>2021</td>\n",
       "      <td>1</td>\n",
       "      <td>45.50</td>\n",
       "      <td>30.00</td>\n",
       "      <td>15.50</td>\n",
       "      <td>2000</td>\n",
       "      <td>91,000.00</td>\n",
       "      <td>60,000.00</td>\n",
       "      <td>31,000.00</td>\n",
       "      <td>51.67</td>\n",
       "      <td>30,665.55</td>\n",
       "      <td>DTD</td>\n",
       "    </tr>\n",
       "    <tr>\n",
       "      <th>3</th>\n",
       "      <td>STA</td>\n",
       "      <td>2021</td>\n",
       "      <td>2</td>\n",
       "      <td>2021</td>\n",
       "      <td>1</td>\n",
       "      <td>50.50</td>\n",
       "      <td>30.00</td>\n",
       "      <td>20.50</td>\n",
       "      <td>2000</td>\n",
       "      <td>101,000.00</td>\n",
       "      <td>60,000.00</td>\n",
       "      <td>41,000.00</td>\n",
       "      <td>68.33</td>\n",
       "      <td>40,643.41</td>\n",
       "      <td>DTD</td>\n",
       "    </tr>\n",
       "    <tr>\n",
       "      <th>4</th>\n",
       "      <td>STA</td>\n",
       "      <td>2020</td>\n",
       "      <td>9</td>\n",
       "      <td>2020</td>\n",
       "      <td>8</td>\n",
       "      <td>27.50</td>\n",
       "      <td>26.00</td>\n",
       "      <td>1.50</td>\n",
       "      <td>8000</td>\n",
       "      <td>220,000.00</td>\n",
       "      <td>208,000.00</td>\n",
       "      <td>12,000.00</td>\n",
       "      <td>5.77</td>\n",
       "      <td>11,052.02</td>\n",
       "      <td>DTD</td>\n",
       "    </tr>\n",
       "    <tr>\n",
       "      <th>5</th>\n",
       "      <td>STA</td>\n",
       "      <td>2020</td>\n",
       "      <td>8</td>\n",
       "      <td>2020</td>\n",
       "      <td>7</td>\n",
       "      <td>27.50</td>\n",
       "      <td>24.90</td>\n",
       "      <td>2.60</td>\n",
       "      <td>8000</td>\n",
       "      <td>220,000.00</td>\n",
       "      <td>199,200.00</td>\n",
       "      <td>20,800.00</td>\n",
       "      <td>10.44</td>\n",
       "      <td>19,871.52</td>\n",
       "      <td>DTD</td>\n",
       "    </tr>\n",
       "  </tbody>\n",
       "</table>\n",
       "</div>"
      ],
      "text/plain": [
       "  name  sell_year  sell_month  buy_year  buy_month  sell_price  buy_price  \\\n",
       "0  STA       2022           6      2022          5       22.20      21.80   \n",
       "1  STA       2021           2      2021          1       44.50      30.00   \n",
       "2  STA       2021           2      2021          1       45.50      30.00   \n",
       "3  STA       2021           2      2021          1       50.50      30.00   \n",
       "4  STA       2020           9      2020          8       27.50      26.00   \n",
       "5  STA       2020           8      2020          7       27.50      24.90   \n",
       "\n",
       "   diff   qty   sell_amt    buy_amt     gross   pct    profit kind  \n",
       "0  0.40  1500  33,300.00  32,700.00    600.00  1.83    453.81   HD  \n",
       "1 14.50  2000  89,000.00  60,000.00 29,000.00 48.33 28,669.98  DTD  \n",
       "2 15.50  2000  91,000.00  60,000.00 31,000.00 51.67 30,665.55  DTD  \n",
       "3 20.50  2000 101,000.00  60,000.00 41,000.00 68.33 40,643.41  DTD  \n",
       "4  1.50  8000 220,000.00 208,000.00 12,000.00  5.77 11,052.02  DTD  \n",
       "5  2.60  8000 220,000.00 199,200.00 20,800.00 10.44 19,871.52  DTD  "
      ]
     },
     "execution_count": 6,
     "metadata": {},
     "output_type": "execute_result"
    }
   ],
   "source": [
    "sql = '''\n",
    "SELECT name, YEAR(sells.date) AS sell_year, MONTH(sells.date) AS sell_month,  \n",
    "             YEAR(buys.date) AS buy_year, MONTH(buys.date) AS buy_month,\n",
    "sells.price AS sell_price, buys.price AS buy_price, \n",
    "(sells.price - buys.price) AS diff, qty, \n",
    "(sells.price * qty) AS sell_amt,\n",
    "(buys.price * qty) AS buy_amt,\n",
    "(sells.price - buys.price) * qty AS gross, \n",
    "ROUND((sells.price - buys.price)/buys.price*100,2) AS pct, profit, buys.kind\n",
    "FROM sells JOIN buys ON sells.buy_id = buys.id\n",
    "JOIN stocks ON buys.stock_id = stocks.id\n",
    "WHERE name = '%s' \n",
    "ORDER BY sell_year DESC, sell_month DESC, name'''\n",
    "\n",
    "sql = sql % (name)\n",
    "sells_df = pd.read_sql(sql, conpf)\n",
    "print(sql)\n",
    "sells_df"
   ]
  },
  {
   "cell_type": "code",
   "execution_count": 7,
   "metadata": {},
   "outputs": [
    {
     "data": {
      "text/plain": [
       "gross    134,400.00\n",
       "profit   131,356.29\n",
       "qty       23,500.00\n",
       "dtype: float64"
      ]
     },
     "execution_count": 7,
     "metadata": {},
     "output_type": "execute_result"
    }
   ],
   "source": [
    "sells_df[['gross','profit','qty']].sum()"
   ]
  },
  {
   "cell_type": "code",
   "execution_count": 8,
   "metadata": {},
   "outputs": [],
   "source": [
    "profit = 131_356"
   ]
  },
  {
   "cell_type": "markdown",
   "metadata": {},
   "source": [
    "### Record selection for dividends"
   ]
  },
  {
   "cell_type": "code",
   "execution_count": 9,
   "metadata": {},
   "outputs": [
    {
     "name": "stdout",
     "output_type": "stream",
     "text": [
      "\n",
      "SELECT name, p_date, amt, net, amt-net AS refund,\n",
      "year, quarter AS q, x_date, number, ppu, (net / number * 1000) AS div_1k\n",
      "FROM dividends\n",
      "WHERE name = 'STA' \n",
      "ORDER BY p_date DESC\n"
     ]
    },
    {
     "data": {
      "text/html": [
       "<div>\n",
       "<style scoped>\n",
       "    .dataframe tbody tr th:only-of-type {\n",
       "        vertical-align: middle;\n",
       "    }\n",
       "\n",
       "    .dataframe tbody tr th {\n",
       "        vertical-align: top;\n",
       "    }\n",
       "\n",
       "    .dataframe thead th {\n",
       "        text-align: right;\n",
       "    }\n",
       "</style>\n",
       "<table border=\"1\" class=\"dataframe\">\n",
       "  <thead>\n",
       "    <tr style=\"text-align: right;\">\n",
       "      <th></th>\n",
       "      <th>name</th>\n",
       "      <th>p_date</th>\n",
       "      <th>amt</th>\n",
       "      <th>net</th>\n",
       "      <th>refund</th>\n",
       "      <th>year</th>\n",
       "      <th>q</th>\n",
       "      <th>x_date</th>\n",
       "      <th>number</th>\n",
       "      <th>ppu</th>\n",
       "      <th>div_1k</th>\n",
       "    </tr>\n",
       "  </thead>\n",
       "  <tbody>\n",
       "    <tr>\n",
       "      <th>0</th>\n",
       "      <td>STA</td>\n",
       "      <td>2022-09-08</td>\n",
       "      <td>22,500.00</td>\n",
       "      <td>20,587.50</td>\n",
       "      <td>1,912.50</td>\n",
       "      <td>2022</td>\n",
       "      <td>2</td>\n",
       "      <td>2022-08-23</td>\n",
       "      <td>22500</td>\n",
       "      <td>1.00</td>\n",
       "      <td>915.00</td>\n",
       "    </tr>\n",
       "    <tr>\n",
       "      <th>1</th>\n",
       "      <td>STA</td>\n",
       "      <td>2022-05-06</td>\n",
       "      <td>14,625.00</td>\n",
       "      <td>13,387.50</td>\n",
       "      <td>1,237.50</td>\n",
       "      <td>2021</td>\n",
       "      <td>4</td>\n",
       "      <td>2022-04-19</td>\n",
       "      <td>22500</td>\n",
       "      <td>0.65</td>\n",
       "      <td>595.00</td>\n",
       "    </tr>\n",
       "    <tr>\n",
       "      <th>2</th>\n",
       "      <td>STA</td>\n",
       "      <td>2021-12-08</td>\n",
       "      <td>18,750.00</td>\n",
       "      <td>16,875.00</td>\n",
       "      <td>1,875.00</td>\n",
       "      <td>2021</td>\n",
       "      <td>3</td>\n",
       "      <td>2021-11-19</td>\n",
       "      <td>15000</td>\n",
       "      <td>1.25</td>\n",
       "      <td>1,125.00</td>\n",
       "    </tr>\n",
       "    <tr>\n",
       "      <th>3</th>\n",
       "      <td>STA</td>\n",
       "      <td>2021-09-08</td>\n",
       "      <td>9,375.00</td>\n",
       "      <td>8,625.00</td>\n",
       "      <td>750.00</td>\n",
       "      <td>2021</td>\n",
       "      <td>2</td>\n",
       "      <td>2021-08-23</td>\n",
       "      <td>7500</td>\n",
       "      <td>1.25</td>\n",
       "      <td>1,150.00</td>\n",
       "    </tr>\n",
       "  </tbody>\n",
       "</table>\n",
       "</div>"
      ],
      "text/plain": [
       "  name      p_date       amt       net   refund  year  q      x_date  number  \\\n",
       "0  STA  2022-09-08 22,500.00 20,587.50 1,912.50  2022  2  2022-08-23   22500   \n",
       "1  STA  2022-05-06 14,625.00 13,387.50 1,237.50  2021  4  2022-04-19   22500   \n",
       "2  STA  2021-12-08 18,750.00 16,875.00 1,875.00  2021  3  2021-11-19   15000   \n",
       "3  STA  2021-09-08  9,375.00  8,625.00   750.00  2021  2  2021-08-23    7500   \n",
       "\n",
       "   ppu   div_1k  \n",
       "0 1.00   915.00  \n",
       "1 0.65   595.00  \n",
       "2 1.25 1,125.00  \n",
       "3 1.25 1,150.00  "
      ]
     },
     "execution_count": 9,
     "metadata": {},
     "output_type": "execute_result"
    }
   ],
   "source": [
    "sql = '''\n",
    "SELECT name, p_date, amt, net, amt-net AS refund,\n",
    "year, quarter AS q, x_date, number, ppu, (net / number * 1000) AS div_1k\n",
    "FROM dividends\n",
    "WHERE name = '%s' \n",
    "ORDER BY p_date DESC'''\n",
    "sql = sql % (name)\n",
    "print(sql)\n",
    "\n",
    "div_df = pd.read_sql(sql, conpf)\n",
    "div_df"
   ]
  },
  {
   "cell_type": "code",
   "execution_count": 10,
   "metadata": {},
   "outputs": [
    {
     "data": {
      "text/html": [
       "<div>\n",
       "<style scoped>\n",
       "    .dataframe tbody tr th:only-of-type {\n",
       "        vertical-align: middle;\n",
       "    }\n",
       "\n",
       "    .dataframe tbody tr th {\n",
       "        vertical-align: top;\n",
       "    }\n",
       "\n",
       "    .dataframe thead tr th {\n",
       "        text-align: left;\n",
       "    }\n",
       "\n",
       "    .dataframe thead tr:last-of-type th {\n",
       "        text-align: right;\n",
       "    }\n",
       "</style>\n",
       "<table border=\"1\" class=\"dataframe\">\n",
       "  <thead>\n",
       "    <tr>\n",
       "      <th></th>\n",
       "      <th>amt</th>\n",
       "      <th>net</th>\n",
       "      <th colspan=\"2\" halign=\"left\">number</th>\n",
       "    </tr>\n",
       "    <tr>\n",
       "      <th></th>\n",
       "      <th>sum</th>\n",
       "      <th>sum</th>\n",
       "      <th>mean</th>\n",
       "      <th>count</th>\n",
       "    </tr>\n",
       "    <tr>\n",
       "      <th>name</th>\n",
       "      <th></th>\n",
       "      <th></th>\n",
       "      <th></th>\n",
       "      <th></th>\n",
       "    </tr>\n",
       "  </thead>\n",
       "  <tbody>\n",
       "    <tr>\n",
       "      <th>STA</th>\n",
       "      <td>65,250.00</td>\n",
       "      <td>59,475.00</td>\n",
       "      <td>16,875.00</td>\n",
       "      <td>4</td>\n",
       "    </tr>\n",
       "  </tbody>\n",
       "</table>\n",
       "</div>"
      ],
      "text/plain": [
       "           amt       net    number      \n",
       "           sum       sum      mean count\n",
       "name                                    \n",
       "STA  65,250.00 59,475.00 16,875.00     4"
      ]
     },
     "execution_count": 10,
     "metadata": {},
     "output_type": "execute_result"
    }
   ],
   "source": [
    "div_grp = div_df.groupby(['name'], as_index=True).agg(\n",
    "    {\n",
    "        'amt':['sum'],\n",
    "        'net':['sum'], \n",
    "        'number':['mean','count'],         \n",
    "    }\n",
    ")\n",
    "div_grp"
   ]
  },
  {
   "cell_type": "code",
   "execution_count": 11,
   "metadata": {},
   "outputs": [
    {
     "data": {
      "text/plain": [
       "59475"
      ]
     },
     "execution_count": 11,
     "metadata": {},
     "output_type": "execute_result"
    }
   ],
   "source": [
    "acc_div = 59_475\n",
    "acc_div"
   ]
  },
  {
   "cell_type": "code",
   "execution_count": 12,
   "metadata": {},
   "outputs": [
    {
     "data": {
      "text/plain": [
       "570225"
      ]
     },
     "execution_count": 12,
     "metadata": {},
     "output_type": "execute_result"
    }
   ],
   "source": [
    "sell_amt = net_cost - acc_div - profit\n",
    "sell_amt"
   ]
  },
  {
   "cell_type": "code",
   "execution_count": 13,
   "metadata": {},
   "outputs": [
    {
     "data": {
      "text/plain": [
       "25.343333333333334"
      ]
     },
     "execution_count": 13,
     "metadata": {},
     "output_type": "execute_result"
    }
   ],
   "source": [
    "sell_price = sell_amt / qty\n",
    "sell_price"
   ]
  },
  {
   "cell_type": "code",
   "execution_count": 14,
   "metadata": {},
   "outputs": [
    {
     "data": {
      "text/plain": [
       "568125.0"
      ]
     },
     "execution_count": 14,
     "metadata": {},
     "output_type": "execute_result"
    }
   ],
   "source": [
    "sell_price = 25.25 # + unit_plus\n",
    "sales_amt = sell_price * qty\n",
    "sales_amt"
   ]
  },
  {
   "cell_type": "markdown",
   "metadata": {},
   "source": [
    "### Plan A: Sell at 25.25 x 22,500 shares"
   ]
  }
 ],
 "metadata": {
  "anaconda-cloud": {},
  "kernelspec": {
   "display_name": "Python 3 (ipykernel)",
   "language": "python",
   "name": "python3"
  },
  "language_info": {
   "codemirror_mode": {
    "name": "ipython",
    "version": 3
   },
   "file_extension": ".py",
   "mimetype": "text/x-python",
   "name": "python",
   "nbconvert_exporter": "python",
   "pygments_lexer": "ipython3",
   "version": "3.8.11"
  }
 },
 "nbformat": 4,
 "nbformat_minor": 1
}
