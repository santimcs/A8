{
 "cells": [
  {
   "cell_type": "code",
   "execution_count": 1,
   "metadata": {},
   "outputs": [],
   "source": [
    "import pandas as pd\n",
    "from datetime import date, timedelta\n",
    "from sqlalchemy import create_engine\n",
    "\n",
    "engine = create_engine('mysql+pymysql://root:@localhost:3306/portfolio_development')\n",
    "conpf = engine.connect()\n",
    "\n",
    "format_dict = {\n",
    "              'price':'{:.2f}','unit_cost':'{:.2f}','qty':'{:,}',\n",
    "              'amt':'{:,.2f}','gross':'{:,.2f}','net':'{:,.2f}','fee':'{:,.2f}','vat':'{:,.2f}'\n",
    "              }"
   ]
  },
  {
   "cell_type": "markdown",
   "metadata": {},
   "source": [
    "### Average cost calculation"
   ]
  },
  {
   "cell_type": "code",
   "execution_count": 2,
   "metadata": {},
   "outputs": [],
   "source": [
    "name = 'KBANK'"
   ]
  },
  {
   "cell_type": "code",
   "execution_count": 3,
   "metadata": {},
   "outputs": [
    {
     "data": {
      "text/html": [
       "<style type=\"text/css\">\n",
       "</style>\n",
       "<table id=\"T_f043a_\">\n",
       "  <thead>\n",
       "    <tr>\n",
       "      <th class=\"blank level0\" >&nbsp;</th>\n",
       "      <th class=\"col_heading level0 col0\" >id</th>\n",
       "      <th class=\"col_heading level0 col1\" >name</th>\n",
       "      <th class=\"col_heading level0 col2\" >date</th>\n",
       "      <th class=\"col_heading level0 col3\" >qty</th>\n",
       "      <th class=\"col_heading level0 col4\" >price</th>\n",
       "      <th class=\"col_heading level0 col5\" >gross</th>\n",
       "      <th class=\"col_heading level0 col6\" >fee</th>\n",
       "      <th class=\"col_heading level0 col7\" >vat</th>\n",
       "      <th class=\"col_heading level0 col8\" >net</th>\n",
       "      <th class=\"col_heading level0 col9\" >status</th>\n",
       "      <th class=\"col_heading level0 col10\" >kind</th>\n",
       "    </tr>\n",
       "  </thead>\n",
       "  <tbody>\n",
       "    <tr>\n",
       "      <th id=\"T_f043a_level0_row0\" class=\"row_heading level0 row0\" >0</th>\n",
       "      <td id=\"T_f043a_row0_col0\" class=\"data row0 col0\" >1074</td>\n",
       "      <td id=\"T_f043a_row0_col1\" class=\"data row0 col1\" >KBANK</td>\n",
       "      <td id=\"T_f043a_row0_col2\" class=\"data row0 col2\" >2021-12-14</td>\n",
       "      <td id=\"T_f043a_row0_col3\" class=\"data row0 col3\" >600</td>\n",
       "      <td id=\"T_f043a_row0_col4\" class=\"data row0 col4\" >137.50</td>\n",
       "      <td id=\"T_f043a_row0_col5\" class=\"data row0 col5\" >82,500.00</td>\n",
       "      <td id=\"T_f043a_row0_col6\" class=\"data row0 col6\" >170.78</td>\n",
       "      <td id=\"T_f043a_row0_col7\" class=\"data row0 col7\" >11.95</td>\n",
       "      <td id=\"T_f043a_row0_col8\" class=\"data row0 col8\" >82,682.73</td>\n",
       "      <td id=\"T_f043a_row0_col9\" class=\"data row0 col9\" >Active</td>\n",
       "      <td id=\"T_f043a_row0_col10\" class=\"data row0 col10\" >DTD</td>\n",
       "    </tr>\n",
       "    <tr>\n",
       "      <th id=\"T_f043a_level0_row1\" class=\"row_heading level0 row1\" >1</th>\n",
       "      <td id=\"T_f043a_row1_col0\" class=\"data row1 col0\" >1062</td>\n",
       "      <td id=\"T_f043a_row1_col1\" class=\"data row1 col1\" >KBANK</td>\n",
       "      <td id=\"T_f043a_row1_col2\" class=\"data row1 col2\" >2021-11-30</td>\n",
       "      <td id=\"T_f043a_row1_col3\" class=\"data row1 col3\" >600</td>\n",
       "      <td id=\"T_f043a_row1_col4\" class=\"data row1 col4\" >130.00</td>\n",
       "      <td id=\"T_f043a_row1_col5\" class=\"data row1 col5\" >78,000.00</td>\n",
       "      <td id=\"T_f043a_row1_col6\" class=\"data row1 col6\" >161.46</td>\n",
       "      <td id=\"T_f043a_row1_col7\" class=\"data row1 col7\" >11.30</td>\n",
       "      <td id=\"T_f043a_row1_col8\" class=\"data row1 col8\" >78,172.76</td>\n",
       "      <td id=\"T_f043a_row1_col9\" class=\"data row1 col9\" >Active</td>\n",
       "      <td id=\"T_f043a_row1_col10\" class=\"data row1 col10\" >DTD</td>\n",
       "    </tr>\n",
       "    <tr>\n",
       "      <th id=\"T_f043a_level0_row2\" class=\"row_heading level0 row2\" >2</th>\n",
       "      <td id=\"T_f043a_row2_col0\" class=\"data row2 col0\" >1057</td>\n",
       "      <td id=\"T_f043a_row2_col1\" class=\"data row2 col1\" >KBANK</td>\n",
       "      <td id=\"T_f043a_row2_col2\" class=\"data row2 col2\" >2021-11-29</td>\n",
       "      <td id=\"T_f043a_row2_col3\" class=\"data row2 col3\" >1,200</td>\n",
       "      <td id=\"T_f043a_row2_col4\" class=\"data row2 col4\" >140.00</td>\n",
       "      <td id=\"T_f043a_row2_col5\" class=\"data row2 col5\" >168,000.00</td>\n",
       "      <td id=\"T_f043a_row2_col6\" class=\"data row2 col6\" >347.76</td>\n",
       "      <td id=\"T_f043a_row2_col7\" class=\"data row2 col7\" >24.34</td>\n",
       "      <td id=\"T_f043a_row2_col8\" class=\"data row2 col8\" >168,372.10</td>\n",
       "      <td id=\"T_f043a_row2_col9\" class=\"data row2 col9\" >Active</td>\n",
       "      <td id=\"T_f043a_row2_col10\" class=\"data row2 col10\" >DTD</td>\n",
       "    </tr>\n",
       "  </tbody>\n",
       "</table>\n"
      ],
      "text/plain": [
       "<pandas.io.formats.style.Styler at 0x1d17629f7f0>"
      ]
     },
     "execution_count": 3,
     "metadata": {},
     "output_type": "execute_result"
    }
   ],
   "source": [
    "sql = '''\n",
    "SELECT B.id, S.name, date, qty, price, qty*price AS gross, fee, vat, net, status, kind\n",
    "FROM buys B\n",
    "JOIN stocks S ON B.stock_id = S.id \n",
    "WHERE name = \"%s\" AND status = \"Active\"\n",
    "ORDER BY id DESC'''\n",
    "sql = sql % name\n",
    "buys = pd.read_sql(sql, conpf)\n",
    "buys.style.format(format_dict)"
   ]
  },
  {
   "cell_type": "code",
   "execution_count": 4,
   "metadata": {},
   "outputs": [
    {
     "data": {
      "text/html": [
       "<style type=\"text/css\">\n",
       "</style>\n",
       "<table id=\"T_a150a_\">\n",
       "  <thead>\n",
       "    <tr>\n",
       "      <th class=\"blank level0\" >&nbsp;</th>\n",
       "      <th class=\"col_heading level0 col0\" >gross</th>\n",
       "      <th class=\"col_heading level0 col1\" >qty</th>\n",
       "      <th class=\"col_heading level0 col2\" >unit_cost</th>\n",
       "    </tr>\n",
       "    <tr>\n",
       "      <th class=\"index_name level0\" >name</th>\n",
       "      <th class=\"blank col0\" >&nbsp;</th>\n",
       "      <th class=\"blank col1\" >&nbsp;</th>\n",
       "      <th class=\"blank col2\" >&nbsp;</th>\n",
       "    </tr>\n",
       "  </thead>\n",
       "  <tbody>\n",
       "    <tr>\n",
       "      <th id=\"T_a150a_level0_row0\" class=\"row_heading level0 row0\" >KBANK</th>\n",
       "      <td id=\"T_a150a_row0_col0\" class=\"data row0 col0\" >328,500.00</td>\n",
       "      <td id=\"T_a150a_row0_col1\" class=\"data row0 col1\" >2,400</td>\n",
       "      <td id=\"T_a150a_row0_col2\" class=\"data row0 col2\" >136.88</td>\n",
       "    </tr>\n",
       "  </tbody>\n",
       "</table>\n"
      ],
      "text/plain": [
       "<pandas.io.formats.style.Styler at 0x1d176344970>"
      ]
     },
     "execution_count": 4,
     "metadata": {},
     "output_type": "execute_result"
    }
   ],
   "source": [
    "buys_grp = buys.groupby('name')[['gross','qty']].sum()\n",
    "buys_grp['unit_cost'] = buys_grp.gross / buys_grp.qty\n",
    "buys_grp.style.format(format_dict)"
   ]
  },
  {
   "cell_type": "markdown",
   "metadata": {},
   "source": [
    "### Recalculate net cost by id"
   ]
  },
  {
   "cell_type": "code",
   "execution_count": 5,
   "metadata": {},
   "outputs": [
    {
     "data": {
      "text/plain": [
       "0    1074\n",
       "1    1062\n",
       "2    1057\n",
       "Name: id, dtype: int64"
      ]
     },
     "execution_count": 5,
     "metadata": {},
     "output_type": "execute_result"
    }
   ],
   "source": [
    "ids = buys['id']\n",
    "ids"
   ]
  },
  {
   "cell_type": "code",
   "execution_count": 6,
   "metadata": {},
   "outputs": [],
   "source": [
    "new_price = 136.88"
   ]
  },
  {
   "cell_type": "code",
   "execution_count": 7,
   "metadata": {},
   "outputs": [],
   "source": [
    "def update_buys_by_id(new_price,id):\n",
    "    sql = \"UPDATE buys SET price = %s, fee = qty*price*.00207, vat = fee*.07, net = (qty*price)+fee+vat WHERE id = %s\"\n",
    "    sql = sql % (new_price,id)\n",
    "    rp = conpf.execute(sql)\n",
    "    return \"Records updated = \" + str(id)"
   ]
  },
  {
   "cell_type": "code",
   "execution_count": 8,
   "metadata": {},
   "outputs": [
    {
     "data": {
      "text/html": [
       "<style type=\"text/css\">\n",
       "</style>\n",
       "<table id=\"T_145ff_\">\n",
       "  <thead>\n",
       "    <tr>\n",
       "      <th class=\"blank level0\" >&nbsp;</th>\n",
       "      <th class=\"col_heading level0 col0\" >id</th>\n",
       "      <th class=\"col_heading level0 col1\" >name</th>\n",
       "      <th class=\"col_heading level0 col2\" >date</th>\n",
       "      <th class=\"col_heading level0 col3\" >qty</th>\n",
       "      <th class=\"col_heading level0 col4\" >price</th>\n",
       "      <th class=\"col_heading level0 col5\" >gross</th>\n",
       "      <th class=\"col_heading level0 col6\" >fee</th>\n",
       "      <th class=\"col_heading level0 col7\" >vat</th>\n",
       "      <th class=\"col_heading level0 col8\" >net</th>\n",
       "      <th class=\"col_heading level0 col9\" >status</th>\n",
       "      <th class=\"col_heading level0 col10\" >kind</th>\n",
       "    </tr>\n",
       "  </thead>\n",
       "  <tbody>\n",
       "    <tr>\n",
       "      <th id=\"T_145ff_level0_row0\" class=\"row_heading level0 row0\" >0</th>\n",
       "      <td id=\"T_145ff_row0_col0\" class=\"data row0 col0\" >1074</td>\n",
       "      <td id=\"T_145ff_row0_col1\" class=\"data row0 col1\" >KBANK</td>\n",
       "      <td id=\"T_145ff_row0_col2\" class=\"data row0 col2\" >2021-12-14</td>\n",
       "      <td id=\"T_145ff_row0_col3\" class=\"data row0 col3\" >600</td>\n",
       "      <td id=\"T_145ff_row0_col4\" class=\"data row0 col4\" >137.50</td>\n",
       "      <td id=\"T_145ff_row0_col5\" class=\"data row0 col5\" >82,500.00</td>\n",
       "      <td id=\"T_145ff_row0_col6\" class=\"data row0 col6\" >170.78</td>\n",
       "      <td id=\"T_145ff_row0_col7\" class=\"data row0 col7\" >11.95</td>\n",
       "      <td id=\"T_145ff_row0_col8\" class=\"data row0 col8\" >82,682.73</td>\n",
       "      <td id=\"T_145ff_row0_col9\" class=\"data row0 col9\" >Active</td>\n",
       "      <td id=\"T_145ff_row0_col10\" class=\"data row0 col10\" >DTD</td>\n",
       "    </tr>\n",
       "    <tr>\n",
       "      <th id=\"T_145ff_level0_row1\" class=\"row_heading level0 row1\" >1</th>\n",
       "      <td id=\"T_145ff_row1_col0\" class=\"data row1 col0\" >1062</td>\n",
       "      <td id=\"T_145ff_row1_col1\" class=\"data row1 col1\" >KBANK</td>\n",
       "      <td id=\"T_145ff_row1_col2\" class=\"data row1 col2\" >2021-11-30</td>\n",
       "      <td id=\"T_145ff_row1_col3\" class=\"data row1 col3\" >600</td>\n",
       "      <td id=\"T_145ff_row1_col4\" class=\"data row1 col4\" >130.00</td>\n",
       "      <td id=\"T_145ff_row1_col5\" class=\"data row1 col5\" >78,000.00</td>\n",
       "      <td id=\"T_145ff_row1_col6\" class=\"data row1 col6\" >161.46</td>\n",
       "      <td id=\"T_145ff_row1_col7\" class=\"data row1 col7\" >11.30</td>\n",
       "      <td id=\"T_145ff_row1_col8\" class=\"data row1 col8\" >78,172.76</td>\n",
       "      <td id=\"T_145ff_row1_col9\" class=\"data row1 col9\" >Active</td>\n",
       "      <td id=\"T_145ff_row1_col10\" class=\"data row1 col10\" >DTD</td>\n",
       "    </tr>\n",
       "    <tr>\n",
       "      <th id=\"T_145ff_level0_row2\" class=\"row_heading level0 row2\" >2</th>\n",
       "      <td id=\"T_145ff_row2_col0\" class=\"data row2 col0\" >1057</td>\n",
       "      <td id=\"T_145ff_row2_col1\" class=\"data row2 col1\" >KBANK</td>\n",
       "      <td id=\"T_145ff_row2_col2\" class=\"data row2 col2\" >2021-11-29</td>\n",
       "      <td id=\"T_145ff_row2_col3\" class=\"data row2 col3\" >1,200</td>\n",
       "      <td id=\"T_145ff_row2_col4\" class=\"data row2 col4\" >140.00</td>\n",
       "      <td id=\"T_145ff_row2_col5\" class=\"data row2 col5\" >168,000.00</td>\n",
       "      <td id=\"T_145ff_row2_col6\" class=\"data row2 col6\" >347.76</td>\n",
       "      <td id=\"T_145ff_row2_col7\" class=\"data row2 col7\" >24.34</td>\n",
       "      <td id=\"T_145ff_row2_col8\" class=\"data row2 col8\" >168,372.10</td>\n",
       "      <td id=\"T_145ff_row2_col9\" class=\"data row2 col9\" >Active</td>\n",
       "      <td id=\"T_145ff_row2_col10\" class=\"data row2 col10\" >DTD</td>\n",
       "    </tr>\n",
       "  </tbody>\n",
       "</table>\n"
      ],
      "text/plain": [
       "<pandas.io.formats.style.Styler at 0x1d179f55a30>"
      ]
     },
     "execution_count": 8,
     "metadata": {},
     "output_type": "execute_result"
    }
   ],
   "source": [
    "sql = '''\n",
    "SELECT B.id, S.name, date, qty, price, qty*price AS gross, fee, vat, net, status, kind\n",
    "FROM buys B\n",
    "JOIN stocks S ON B.stock_id = S.id \n",
    "WHERE name = \"%s\" AND status = \"Active\"\n",
    "ORDER BY id DESC'''\n",
    "sql = sql % name\n",
    "buys = pd.read_sql(sql, conpf)\n",
    "buys.style.format(format_dict)"
   ]
  },
  {
   "cell_type": "code",
   "execution_count": 9,
   "metadata": {},
   "outputs": [],
   "source": [
    "i = 0\n",
    "for id in ids:\n",
    "    update_buys_by_id(new_price,id)\n",
    "    i += 1"
   ]
  },
  {
   "cell_type": "code",
   "execution_count": 10,
   "metadata": {},
   "outputs": [
    {
     "data": {
      "text/html": [
       "<style type=\"text/css\">\n",
       "</style>\n",
       "<table id=\"T_30db5_\">\n",
       "  <thead>\n",
       "    <tr>\n",
       "      <th class=\"blank level0\" >&nbsp;</th>\n",
       "      <th class=\"col_heading level0 col0\" >id</th>\n",
       "      <th class=\"col_heading level0 col1\" >name</th>\n",
       "      <th class=\"col_heading level0 col2\" >date</th>\n",
       "      <th class=\"col_heading level0 col3\" >qty</th>\n",
       "      <th class=\"col_heading level0 col4\" >price</th>\n",
       "      <th class=\"col_heading level0 col5\" >gross</th>\n",
       "      <th class=\"col_heading level0 col6\" >fee</th>\n",
       "      <th class=\"col_heading level0 col7\" >vat</th>\n",
       "      <th class=\"col_heading level0 col8\" >net</th>\n",
       "      <th class=\"col_heading level0 col9\" >status</th>\n",
       "      <th class=\"col_heading level0 col10\" >kind</th>\n",
       "    </tr>\n",
       "  </thead>\n",
       "  <tbody>\n",
       "    <tr>\n",
       "      <th id=\"T_30db5_level0_row0\" class=\"row_heading level0 row0\" >0</th>\n",
       "      <td id=\"T_30db5_row0_col0\" class=\"data row0 col0\" >1074</td>\n",
       "      <td id=\"T_30db5_row0_col1\" class=\"data row0 col1\" >KBANK</td>\n",
       "      <td id=\"T_30db5_row0_col2\" class=\"data row0 col2\" >2021-12-14</td>\n",
       "      <td id=\"T_30db5_row0_col3\" class=\"data row0 col3\" >600</td>\n",
       "      <td id=\"T_30db5_row0_col4\" class=\"data row0 col4\" >136.88</td>\n",
       "      <td id=\"T_30db5_row0_col5\" class=\"data row0 col5\" >82,128.00</td>\n",
       "      <td id=\"T_30db5_row0_col6\" class=\"data row0 col6\" >170.00</td>\n",
       "      <td id=\"T_30db5_row0_col7\" class=\"data row0 col7\" >11.90</td>\n",
       "      <td id=\"T_30db5_row0_col8\" class=\"data row0 col8\" >82,309.90</td>\n",
       "      <td id=\"T_30db5_row0_col9\" class=\"data row0 col9\" >Active</td>\n",
       "      <td id=\"T_30db5_row0_col10\" class=\"data row0 col10\" >DTD</td>\n",
       "    </tr>\n",
       "    <tr>\n",
       "      <th id=\"T_30db5_level0_row1\" class=\"row_heading level0 row1\" >1</th>\n",
       "      <td id=\"T_30db5_row1_col0\" class=\"data row1 col0\" >1062</td>\n",
       "      <td id=\"T_30db5_row1_col1\" class=\"data row1 col1\" >KBANK</td>\n",
       "      <td id=\"T_30db5_row1_col2\" class=\"data row1 col2\" >2021-11-30</td>\n",
       "      <td id=\"T_30db5_row1_col3\" class=\"data row1 col3\" >600</td>\n",
       "      <td id=\"T_30db5_row1_col4\" class=\"data row1 col4\" >136.88</td>\n",
       "      <td id=\"T_30db5_row1_col5\" class=\"data row1 col5\" >82,128.00</td>\n",
       "      <td id=\"T_30db5_row1_col6\" class=\"data row1 col6\" >170.00</td>\n",
       "      <td id=\"T_30db5_row1_col7\" class=\"data row1 col7\" >11.90</td>\n",
       "      <td id=\"T_30db5_row1_col8\" class=\"data row1 col8\" >82,309.90</td>\n",
       "      <td id=\"T_30db5_row1_col9\" class=\"data row1 col9\" >Active</td>\n",
       "      <td id=\"T_30db5_row1_col10\" class=\"data row1 col10\" >DTD</td>\n",
       "    </tr>\n",
       "    <tr>\n",
       "      <th id=\"T_30db5_level0_row2\" class=\"row_heading level0 row2\" >2</th>\n",
       "      <td id=\"T_30db5_row2_col0\" class=\"data row2 col0\" >1057</td>\n",
       "      <td id=\"T_30db5_row2_col1\" class=\"data row2 col1\" >KBANK</td>\n",
       "      <td id=\"T_30db5_row2_col2\" class=\"data row2 col2\" >2021-11-29</td>\n",
       "      <td id=\"T_30db5_row2_col3\" class=\"data row2 col3\" >1,200</td>\n",
       "      <td id=\"T_30db5_row2_col4\" class=\"data row2 col4\" >136.88</td>\n",
       "      <td id=\"T_30db5_row2_col5\" class=\"data row2 col5\" >164,256.00</td>\n",
       "      <td id=\"T_30db5_row2_col6\" class=\"data row2 col6\" >340.01</td>\n",
       "      <td id=\"T_30db5_row2_col7\" class=\"data row2 col7\" >23.80</td>\n",
       "      <td id=\"T_30db5_row2_col8\" class=\"data row2 col8\" >164,619.81</td>\n",
       "      <td id=\"T_30db5_row2_col9\" class=\"data row2 col9\" >Active</td>\n",
       "      <td id=\"T_30db5_row2_col10\" class=\"data row2 col10\" >DTD</td>\n",
       "    </tr>\n",
       "  </tbody>\n",
       "</table>\n"
      ],
      "text/plain": [
       "<pandas.io.formats.style.Styler at 0x1d176344880>"
      ]
     },
     "execution_count": 10,
     "metadata": {},
     "output_type": "execute_result"
    }
   ],
   "source": [
    "sql = '''\n",
    "SELECT B.id, S.name, date, qty, price, qty*price AS gross, fee, vat, net, status, kind\n",
    "FROM buys B\n",
    "JOIN stocks S ON B.stock_id = S.id \n",
    "WHERE name = \"%s\" AND status = \"Active\"\n",
    "ORDER BY id DESC'''\n",
    "sql = sql % name\n",
    "buys = pd.read_sql(sql, conpf)\n",
    "buys.style.format(format_dict)"
   ]
  },
  {
   "cell_type": "markdown",
   "metadata": {},
   "source": [
    "### Delete active buy records (use in case of sold out)"
   ]
  },
  {
   "cell_type": "code",
   "execution_count": 4,
   "metadata": {},
   "outputs": [
    {
     "data": {
      "text/html": [
       "<style type=\"text/css\">\n",
       "</style>\n",
       "<table id=\"T_047eb_\">\n",
       "  <thead>\n",
       "    <tr>\n",
       "      <th class=\"blank level0\" >&nbsp;</th>\n",
       "      <th class=\"col_heading level0 col0\" >id</th>\n",
       "      <th class=\"col_heading level0 col1\" >name</th>\n",
       "      <th class=\"col_heading level0 col2\" >date</th>\n",
       "      <th class=\"col_heading level0 col3\" >qty</th>\n",
       "      <th class=\"col_heading level0 col4\" >price</th>\n",
       "      <th class=\"col_heading level0 col5\" >gross</th>\n",
       "      <th class=\"col_heading level0 col6\" >fee</th>\n",
       "      <th class=\"col_heading level0 col7\" >vat</th>\n",
       "      <th class=\"col_heading level0 col8\" >net</th>\n",
       "      <th class=\"col_heading level0 col9\" >status</th>\n",
       "      <th class=\"col_heading level0 col10\" >kind</th>\n",
       "    </tr>\n",
       "  </thead>\n",
       "  <tbody>\n",
       "    <tr>\n",
       "      <th id=\"T_047eb_level0_row0\" class=\"row_heading level0 row0\" >0</th>\n",
       "      <td id=\"T_047eb_row0_col0\" class=\"data row0 col0\" >972</td>\n",
       "      <td id=\"T_047eb_row0_col1\" class=\"data row0 col1\" >SENA</td>\n",
       "      <td id=\"T_047eb_row0_col2\" class=\"data row0 col2\" >2021-08-02</td>\n",
       "      <td id=\"T_047eb_row0_col3\" class=\"data row0 col3\" >5,000</td>\n",
       "      <td id=\"T_047eb_row0_col4\" class=\"data row0 col4\" >3.72</td>\n",
       "      <td id=\"T_047eb_row0_col5\" class=\"data row0 col5\" >18,600.00</td>\n",
       "      <td id=\"T_047eb_row0_col6\" class=\"data row0 col6\" >38.50</td>\n",
       "      <td id=\"T_047eb_row0_col7\" class=\"data row0 col7\" >2.70</td>\n",
       "      <td id=\"T_047eb_row0_col8\" class=\"data row0 col8\" >18,641.20</td>\n",
       "      <td id=\"T_047eb_row0_col9\" class=\"data row0 col9\" >Active</td>\n",
       "      <td id=\"T_047eb_row0_col10\" class=\"data row0 col10\" >HD</td>\n",
       "    </tr>\n",
       "    <tr>\n",
       "      <th id=\"T_047eb_level0_row1\" class=\"row_heading level0 row1\" >1</th>\n",
       "      <td id=\"T_047eb_row1_col0\" class=\"data row1 col0\" >966</td>\n",
       "      <td id=\"T_047eb_row1_col1\" class=\"data row1 col1\" >SENA</td>\n",
       "      <td id=\"T_047eb_row1_col2\" class=\"data row1 col2\" >2021-07-27</td>\n",
       "      <td id=\"T_047eb_row1_col3\" class=\"data row1 col3\" >10,000</td>\n",
       "      <td id=\"T_047eb_row1_col4\" class=\"data row1 col4\" >3.84</td>\n",
       "      <td id=\"T_047eb_row1_col5\" class=\"data row1 col5\" >38,400.00</td>\n",
       "      <td id=\"T_047eb_row1_col6\" class=\"data row1 col6\" >79.49</td>\n",
       "      <td id=\"T_047eb_row1_col7\" class=\"data row1 col7\" >5.56</td>\n",
       "      <td id=\"T_047eb_row1_col8\" class=\"data row1 col8\" >38,485.05</td>\n",
       "      <td id=\"T_047eb_row1_col9\" class=\"data row1 col9\" >Active</td>\n",
       "      <td id=\"T_047eb_row1_col10\" class=\"data row1 col10\" >HD</td>\n",
       "    </tr>\n",
       "    <tr>\n",
       "      <th id=\"T_047eb_level0_row2\" class=\"row_heading level0 row2\" >2</th>\n",
       "      <td id=\"T_047eb_row2_col0\" class=\"data row2 col0\" >834</td>\n",
       "      <td id=\"T_047eb_row2_col1\" class=\"data row2 col1\" >SENA</td>\n",
       "      <td id=\"T_047eb_row2_col2\" class=\"data row2 col2\" >2021-03-09</td>\n",
       "      <td id=\"T_047eb_row2_col3\" class=\"data row2 col3\" >10,000</td>\n",
       "      <td id=\"T_047eb_row2_col4\" class=\"data row2 col4\" >4.10</td>\n",
       "      <td id=\"T_047eb_row2_col5\" class=\"data row2 col5\" >41,000.00</td>\n",
       "      <td id=\"T_047eb_row2_col6\" class=\"data row2 col6\" >84.87</td>\n",
       "      <td id=\"T_047eb_row2_col7\" class=\"data row2 col7\" >5.94</td>\n",
       "      <td id=\"T_047eb_row2_col8\" class=\"data row2 col8\" >41,090.81</td>\n",
       "      <td id=\"T_047eb_row2_col9\" class=\"data row2 col9\" >Active</td>\n",
       "      <td id=\"T_047eb_row2_col10\" class=\"data row2 col10\" >DIV</td>\n",
       "    </tr>\n",
       "    <tr>\n",
       "      <th id=\"T_047eb_level0_row3\" class=\"row_heading level0 row3\" >3</th>\n",
       "      <td id=\"T_047eb_row3_col0\" class=\"data row3 col0\" >833</td>\n",
       "      <td id=\"T_047eb_row3_col1\" class=\"data row3 col1\" >SENA</td>\n",
       "      <td id=\"T_047eb_row3_col2\" class=\"data row3 col2\" >2021-03-09</td>\n",
       "      <td id=\"T_047eb_row3_col3\" class=\"data row3 col3\" >10,000</td>\n",
       "      <td id=\"T_047eb_row3_col4\" class=\"data row3 col4\" >4.12</td>\n",
       "      <td id=\"T_047eb_row3_col5\" class=\"data row3 col5\" >41,200.00</td>\n",
       "      <td id=\"T_047eb_row3_col6\" class=\"data row3 col6\" >85.28</td>\n",
       "      <td id=\"T_047eb_row3_col7\" class=\"data row3 col7\" >5.97</td>\n",
       "      <td id=\"T_047eb_row3_col8\" class=\"data row3 col8\" >41,291.25</td>\n",
       "      <td id=\"T_047eb_row3_col9\" class=\"data row3 col9\" >Active</td>\n",
       "      <td id=\"T_047eb_row3_col10\" class=\"data row3 col10\" >DIV</td>\n",
       "    </tr>\n",
       "    <tr>\n",
       "      <th id=\"T_047eb_level0_row4\" class=\"row_heading level0 row4\" >4</th>\n",
       "      <td id=\"T_047eb_row4_col0\" class=\"data row4 col0\" >832</td>\n",
       "      <td id=\"T_047eb_row4_col1\" class=\"data row4 col1\" >SENA</td>\n",
       "      <td id=\"T_047eb_row4_col2\" class=\"data row4 col2\" >2021-03-08</td>\n",
       "      <td id=\"T_047eb_row4_col3\" class=\"data row4 col3\" >10,000</td>\n",
       "      <td id=\"T_047eb_row4_col4\" class=\"data row4 col4\" >4.08</td>\n",
       "      <td id=\"T_047eb_row4_col5\" class=\"data row4 col5\" >40,800.00</td>\n",
       "      <td id=\"T_047eb_row4_col6\" class=\"data row4 col6\" >84.46</td>\n",
       "      <td id=\"T_047eb_row4_col7\" class=\"data row4 col7\" >5.91</td>\n",
       "      <td id=\"T_047eb_row4_col8\" class=\"data row4 col8\" >40,890.37</td>\n",
       "      <td id=\"T_047eb_row4_col9\" class=\"data row4 col9\" >Active</td>\n",
       "      <td id=\"T_047eb_row4_col10\" class=\"data row4 col10\" >DIV</td>\n",
       "    </tr>\n",
       "    <tr>\n",
       "      <th id=\"T_047eb_level0_row5\" class=\"row_heading level0 row5\" >5</th>\n",
       "      <td id=\"T_047eb_row5_col0\" class=\"data row5 col0\" >831</td>\n",
       "      <td id=\"T_047eb_row5_col1\" class=\"data row5 col1\" >SENA</td>\n",
       "      <td id=\"T_047eb_row5_col2\" class=\"data row5 col2\" >2021-03-08</td>\n",
       "      <td id=\"T_047eb_row5_col3\" class=\"data row5 col3\" >10,000</td>\n",
       "      <td id=\"T_047eb_row5_col4\" class=\"data row5 col4\" >4.10</td>\n",
       "      <td id=\"T_047eb_row5_col5\" class=\"data row5 col5\" >41,000.00</td>\n",
       "      <td id=\"T_047eb_row5_col6\" class=\"data row5 col6\" >84.87</td>\n",
       "      <td id=\"T_047eb_row5_col7\" class=\"data row5 col7\" >5.94</td>\n",
       "      <td id=\"T_047eb_row5_col8\" class=\"data row5 col8\" >41,090.81</td>\n",
       "      <td id=\"T_047eb_row5_col9\" class=\"data row5 col9\" >Active</td>\n",
       "      <td id=\"T_047eb_row5_col10\" class=\"data row5 col10\" >DIV</td>\n",
       "    </tr>\n",
       "    <tr>\n",
       "      <th id=\"T_047eb_level0_row6\" class=\"row_heading level0 row6\" >6</th>\n",
       "      <td id=\"T_047eb_row6_col0\" class=\"data row6 col0\" >830</td>\n",
       "      <td id=\"T_047eb_row6_col1\" class=\"data row6 col1\" >SENA</td>\n",
       "      <td id=\"T_047eb_row6_col2\" class=\"data row6 col2\" >2021-03-08</td>\n",
       "      <td id=\"T_047eb_row6_col3\" class=\"data row6 col3\" >10,000</td>\n",
       "      <td id=\"T_047eb_row6_col4\" class=\"data row6 col4\" >4.10</td>\n",
       "      <td id=\"T_047eb_row6_col5\" class=\"data row6 col5\" >41,000.00</td>\n",
       "      <td id=\"T_047eb_row6_col6\" class=\"data row6 col6\" >84.87</td>\n",
       "      <td id=\"T_047eb_row6_col7\" class=\"data row6 col7\" >5.94</td>\n",
       "      <td id=\"T_047eb_row6_col8\" class=\"data row6 col8\" >41,090.81</td>\n",
       "      <td id=\"T_047eb_row6_col9\" class=\"data row6 col9\" >Active</td>\n",
       "      <td id=\"T_047eb_row6_col10\" class=\"data row6 col10\" >DIV</td>\n",
       "    </tr>\n",
       "  </tbody>\n",
       "</table>\n"
      ],
      "text/plain": [
       "<pandas.io.formats.style.Styler at 0x277cda3bf70>"
      ]
     },
     "execution_count": 4,
     "metadata": {},
     "output_type": "execute_result"
    }
   ],
   "source": [
    "sql = '''\n",
    "SELECT B.id, S.name, date, qty, price, qty*price AS gross, fee, vat, net, status, kind\n",
    "FROM buys B\n",
    "JOIN stocks S ON B.stock_id = S.id \n",
    "WHERE name = \"%s\" AND status = \"Active\"\n",
    "ORDER BY id DESC'''\n",
    "sql = sql % name\n",
    "buys = pd.read_sql(sql, conpf)\n",
    "buys.style.format(format_dict)"
   ]
  },
  {
   "cell_type": "code",
   "execution_count": 6,
   "metadata": {},
   "outputs": [
    {
     "data": {
      "text/plain": [
       "pandas.core.series.Series"
      ]
     },
     "execution_count": 6,
     "metadata": {},
     "output_type": "execute_result"
    }
   ],
   "source": [
    "ids = buys['id']\n",
    "type(ids)"
   ]
  },
  {
   "cell_type": "code",
   "execution_count": 12,
   "metadata": {},
   "outputs": [
    {
     "data": {
      "text/plain": [
       "'972, 966, 834, 833, 832, 831, 830'"
      ]
     },
     "execution_count": 12,
     "metadata": {},
     "output_type": "execute_result"
    }
   ],
   "source": [
    "in_p = \", \".join(map(lambda id: '%s' % id, ids))\n",
    "in_p"
   ]
  },
  {
   "cell_type": "code",
   "execution_count": 13,
   "metadata": {},
   "outputs": [
    {
     "name": "stdout",
     "output_type": "stream",
     "text": [
      "\n",
      "DELETE FROM buys\n",
      "WHERE id IN (972, 966, 834, 833, 832, 831, 830)\n"
     ]
    }
   ],
   "source": [
    "sql_del = '''\n",
    "DELETE FROM buys\n",
    "WHERE id IN (%s)'''\n",
    "sql_del = sql_del % in_p\n",
    "print(sql_del)"
   ]
  },
  {
   "cell_type": "code",
   "execution_count": 14,
   "metadata": {},
   "outputs": [
    {
     "data": {
      "text/plain": [
       "7"
      ]
     },
     "execution_count": 14,
     "metadata": {},
     "output_type": "execute_result"
    }
   ],
   "source": [
    "rp = conpf.execute(sql_del)\n",
    "rp.rowcount"
   ]
  },
  {
   "cell_type": "code",
   "execution_count": null,
   "metadata": {},
   "outputs": [],
   "source": []
  }
 ],
 "metadata": {
  "anaconda-cloud": {},
  "kernelspec": {
   "display_name": "Python 3 (ipykernel)",
   "language": "python",
   "name": "python3"
  },
  "language_info": {
   "codemirror_mode": {
    "name": "ipython",
    "version": 3
   },
   "file_extension": ".py",
   "mimetype": "text/x-python",
   "name": "python",
   "nbconvert_exporter": "python",
   "pygments_lexer": "ipython3",
   "version": "3.8.11"
  }
 },
 "nbformat": 4,
 "nbformat_minor": 1
}
