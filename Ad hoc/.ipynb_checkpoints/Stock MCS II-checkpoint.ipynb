{
 "cells": [
  {
   "cell_type": "code",
   "execution_count": 1,
   "metadata": {},
   "outputs": [],
   "source": [
    "import pandas as pd\n",
    "from datetime import date, timedelta\n",
    "from sqlalchemy import create_engine\n",
    "\n",
    "engine = create_engine('mysql+pymysql://root:@localhost:3306/portfolio_development')\n",
    "conpf = engine.connect()\n",
    "\n",
    "data_path = \"../data/\"\n",
    "csv_path = \"\\\\Users\\\\User\\\\iCloudDrive\\\\\"\n",
    "box_path = \"\\\\Users\\\\User\\\\Dropbox\\\\\"\n",
    "\n",
    "#year = 2022\n",
    "name = 'PTTGC'\n",
    "#buy_date = '2021-06-15' # oldest active record"
   ]
  },
  {
   "cell_type": "code",
   "execution_count": 2,
   "metadata": {},
   "outputs": [],
   "source": [
    "format_dict = {'qty':'{:,}',\n",
    "              'sell_price':'{:,.2f}','buy_price':'{:,.2f}','diff':'{:,.2f}',\n",
    "              'sell_amt':'{:,.2f}','buy_amt':'{:,.2f}','gross':'{:,.2f}','profit':'{:,.2f}',\n",
    "              'pct':'{:,.2f}%','net':'{:,.2f}',\n",
    "              'cost_amt':'{:,.2f}','unit_cost':'{:,.2f}','avg_cost':'{:,.2f}'}\n",
    "\n",
    "pd.set_option('display.float_format','{:,.2f}'.format)"
   ]
  },
  {
   "cell_type": "markdown",
   "metadata": {},
   "source": [
    "### Record selection for active stocks"
   ]
  },
  {
   "cell_type": "code",
   "execution_count": 3,
   "metadata": {},
   "outputs": [
    {
     "name": "stdout",
     "output_type": "stream",
     "text": [
      "\n",
      "SELECT name, buys.date AS buy_date,\n",
      "buys.price AS unit_cost, qty, \n",
      "(buys.price * qty) AS cost_amt, net\n",
      "FROM buys\n",
      "JOIN stocks ON buys.stock_id = stocks.id\n",
      "WHERE name = 'PTTGC' AND status = 'Active'\n",
      "ORDER BY buys.date DESC\n"
     ]
    },
    {
     "data": {
      "text/html": [
       "<style type=\"text/css\">\n",
       "</style>\n",
       "<table id=\"T_32d17_\">\n",
       "  <thead>\n",
       "    <tr>\n",
       "      <th class=\"blank level0\" >&nbsp;</th>\n",
       "      <th class=\"col_heading level0 col0\" >name</th>\n",
       "      <th class=\"col_heading level0 col1\" >buy_date</th>\n",
       "      <th class=\"col_heading level0 col2\" >unit_cost</th>\n",
       "      <th class=\"col_heading level0 col3\" >qty</th>\n",
       "      <th class=\"col_heading level0 col4\" >cost_amt</th>\n",
       "      <th class=\"col_heading level0 col5\" >net</th>\n",
       "    </tr>\n",
       "  </thead>\n",
       "  <tbody>\n",
       "    <tr>\n",
       "      <th id=\"T_32d17_level0_row0\" class=\"row_heading level0 row0\" >0</th>\n",
       "      <td id=\"T_32d17_row0_col0\" class=\"data row0 col0\" >PTTGC</td>\n",
       "      <td id=\"T_32d17_row0_col1\" class=\"data row0 col1\" >2022-03-03</td>\n",
       "      <td id=\"T_32d17_row0_col2\" class=\"data row0 col2\" >51.25</td>\n",
       "      <td id=\"T_32d17_row0_col3\" class=\"data row0 col3\" >3,000</td>\n",
       "      <td id=\"T_32d17_row0_col4\" class=\"data row0 col4\" >153,750.00</td>\n",
       "      <td id=\"T_32d17_row0_col5\" class=\"data row0 col5\" >154,090.54</td>\n",
       "    </tr>\n",
       "    <tr>\n",
       "      <th id=\"T_32d17_level0_row1\" class=\"row_heading level0 row1\" >1</th>\n",
       "      <td id=\"T_32d17_row1_col0\" class=\"data row1 col0\" >PTTGC</td>\n",
       "      <td id=\"T_32d17_row1_col1\" class=\"data row1 col1\" >2022-02-23</td>\n",
       "      <td id=\"T_32d17_row1_col2\" class=\"data row1 col2\" >54.25</td>\n",
       "      <td id=\"T_32d17_row1_col3\" class=\"data row1 col3\" >3,000</td>\n",
       "      <td id=\"T_32d17_row1_col4\" class=\"data row1 col4\" >162,750.00</td>\n",
       "      <td id=\"T_32d17_row1_col5\" class=\"data row1 col5\" >163,110.47</td>\n",
       "    </tr>\n",
       "    <tr>\n",
       "      <th id=\"T_32d17_level0_row2\" class=\"row_heading level0 row2\" >2</th>\n",
       "      <td id=\"T_32d17_row2_col0\" class=\"data row2 col0\" >PTTGC</td>\n",
       "      <td id=\"T_32d17_row2_col1\" class=\"data row2 col1\" >2022-01-17</td>\n",
       "      <td id=\"T_32d17_row2_col2\" class=\"data row2 col2\" >59.25</td>\n",
       "      <td id=\"T_32d17_row2_col3\" class=\"data row2 col3\" >1,600</td>\n",
       "      <td id=\"T_32d17_row2_col4\" class=\"data row2 col4\" >94,800.00</td>\n",
       "      <td id=\"T_32d17_row2_col5\" class=\"data row2 col5\" >95,009.98</td>\n",
       "    </tr>\n",
       "    <tr>\n",
       "      <th id=\"T_32d17_level0_row3\" class=\"row_heading level0 row3\" >3</th>\n",
       "      <td id=\"T_32d17_row3_col0\" class=\"data row3 col0\" >PTTGC</td>\n",
       "      <td id=\"T_32d17_row3_col1\" class=\"data row3 col1\" >2021-04-09</td>\n",
       "      <td id=\"T_32d17_row3_col2\" class=\"data row3 col2\" >66.75</td>\n",
       "      <td id=\"T_32d17_row3_col3\" class=\"data row3 col3\" >1,000</td>\n",
       "      <td id=\"T_32d17_row3_col4\" class=\"data row3 col4\" >66,750.00</td>\n",
       "      <td id=\"T_32d17_row3_col5\" class=\"data row3 col5\" >66,897.84</td>\n",
       "    </tr>\n",
       "    <tr>\n",
       "      <th id=\"T_32d17_level0_row4\" class=\"row_heading level0 row4\" >4</th>\n",
       "      <td id=\"T_32d17_row4_col0\" class=\"data row4 col0\" >PTTGC</td>\n",
       "      <td id=\"T_32d17_row4_col1\" class=\"data row4 col1\" >2021-03-19</td>\n",
       "      <td id=\"T_32d17_row4_col2\" class=\"data row4 col2\" >66.75</td>\n",
       "      <td id=\"T_32d17_row4_col3\" class=\"data row4 col3\" >2,000</td>\n",
       "      <td id=\"T_32d17_row4_col4\" class=\"data row4 col4\" >133,500.00</td>\n",
       "      <td id=\"T_32d17_row4_col5\" class=\"data row4 col5\" >133,795.69</td>\n",
       "    </tr>\n",
       "    <tr>\n",
       "      <th id=\"T_32d17_level0_row5\" class=\"row_heading level0 row5\" >5</th>\n",
       "      <td id=\"T_32d17_row5_col0\" class=\"data row5 col0\" >PTTGC</td>\n",
       "      <td id=\"T_32d17_row5_col1\" class=\"data row5 col1\" >2021-03-17</td>\n",
       "      <td id=\"T_32d17_row5_col2\" class=\"data row5 col2\" >66.75</td>\n",
       "      <td id=\"T_32d17_row5_col3\" class=\"data row5 col3\" >1,400</td>\n",
       "      <td id=\"T_32d17_row5_col4\" class=\"data row5 col4\" >93,450.00</td>\n",
       "      <td id=\"T_32d17_row5_col5\" class=\"data row5 col5\" >93,656.98</td>\n",
       "    </tr>\n",
       "  </tbody>\n",
       "</table>\n"
      ],
      "text/plain": [
       "<pandas.io.formats.style.Styler at 0x26b2757ca90>"
      ]
     },
     "execution_count": 3,
     "metadata": {},
     "output_type": "execute_result"
    }
   ],
   "source": [
    "sql = '''\n",
    "SELECT name, buys.date AS buy_date,\n",
    "buys.price AS unit_cost, qty, \n",
    "(buys.price * qty) AS cost_amt, net\n",
    "FROM buys\n",
    "JOIN stocks ON buys.stock_id = stocks.id\n",
    "WHERE name = '%s' AND status = 'Active'\n",
    "ORDER BY buys.date DESC'''\n",
    "sql = sql % name\n",
    "print(sql)\n",
    "\n",
    "buys_df = pd.read_sql(sql, conpf)\n",
    "buys_df.style.format(format_dict)"
   ]
  },
  {
   "cell_type": "code",
   "execution_count": 4,
   "metadata": {},
   "outputs": [
    {
     "data": {
      "text/plain": [
       "cost_amt   705,000.00\n",
       "net        706,561.50\n",
       "qty         12,000.00\n",
       "dtype: float64"
      ]
     },
     "execution_count": 4,
     "metadata": {},
     "output_type": "execute_result"
    }
   ],
   "source": [
    "buys_df[['cost_amt','net','qty']].sum()"
   ]
  },
  {
   "cell_type": "code",
   "execution_count": 5,
   "metadata": {},
   "outputs": [
    {
     "data": {
      "text/plain": [
       "(706560, 12000)"
      ]
     },
     "execution_count": 5,
     "metadata": {},
     "output_type": "execute_result"
    }
   ],
   "source": [
    "qty = 12_000\n",
    "net_cost = 706_560\n",
    "net_cost, qty"
   ]
  },
  {
   "cell_type": "markdown",
   "metadata": {},
   "source": [
    "### Record selection for sold stocks"
   ]
  },
  {
   "cell_type": "code",
   "execution_count": 6,
   "metadata": {},
   "outputs": [
    {
     "name": "stdout",
     "output_type": "stream",
     "text": [
      "\n",
      "SELECT name, YEAR(sells.date) AS sell_year, MONTH(sells.date) AS sell_month,  \n",
      "             YEAR(buys.date) AS buy_year, MONTH(buys.date) AS buy_month,\n",
      "sells.price AS sell_price, buys.price AS buy_price, \n",
      "(sells.price - buys.price) AS diff, qty, \n",
      "(sells.price * qty) AS sell_amt,\n",
      "(buys.price * qty) AS buy_amt,\n",
      "(sells.price - buys.price) * qty AS gross, \n",
      "ROUND((sells.price - buys.price)/buys.price*100,2) AS pct, profit, buys.kind\n",
      "FROM sells JOIN buys ON sells.buy_id = buys.id\n",
      "JOIN stocks ON buys.stock_id = stocks.id\n",
      "WHERE name = 'PTTGC' \n",
      "ORDER BY sell_year DESC, sell_month DESC, name\n"
     ]
    },
    {
     "data": {
      "text/html": [
       "<div>\n",
       "<style scoped>\n",
       "    .dataframe tbody tr th:only-of-type {\n",
       "        vertical-align: middle;\n",
       "    }\n",
       "\n",
       "    .dataframe tbody tr th {\n",
       "        vertical-align: top;\n",
       "    }\n",
       "\n",
       "    .dataframe thead th {\n",
       "        text-align: right;\n",
       "    }\n",
       "</style>\n",
       "<table border=\"1\" class=\"dataframe\">\n",
       "  <thead>\n",
       "    <tr style=\"text-align: right;\">\n",
       "      <th></th>\n",
       "      <th>name</th>\n",
       "      <th>sell_year</th>\n",
       "      <th>sell_month</th>\n",
       "      <th>buy_year</th>\n",
       "      <th>buy_month</th>\n",
       "      <th>sell_price</th>\n",
       "      <th>buy_price</th>\n",
       "      <th>diff</th>\n",
       "      <th>qty</th>\n",
       "      <th>sell_amt</th>\n",
       "      <th>buy_amt</th>\n",
       "      <th>gross</th>\n",
       "      <th>pct</th>\n",
       "      <th>profit</th>\n",
       "      <th>kind</th>\n",
       "    </tr>\n",
       "  </thead>\n",
       "  <tbody>\n",
       "    <tr>\n",
       "      <th>0</th>\n",
       "      <td>PTTGC</td>\n",
       "      <td>2021</td>\n",
       "      <td>12</td>\n",
       "      <td>2019</td>\n",
       "      <td>7</td>\n",
       "      <td>59.00</td>\n",
       "      <td>66.75</td>\n",
       "      <td>-7.75</td>\n",
       "      <td>2000</td>\n",
       "      <td>118,000.00</td>\n",
       "      <td>133,500.00</td>\n",
       "      <td>-15,500.00</td>\n",
       "      <td>-11.61</td>\n",
       "      <td>-16,057.05</td>\n",
       "      <td>DTD</td>\n",
       "    </tr>\n",
       "    <tr>\n",
       "      <th>1</th>\n",
       "      <td>PTTGC</td>\n",
       "      <td>2021</td>\n",
       "      <td>12</td>\n",
       "      <td>2021</td>\n",
       "      <td>3</td>\n",
       "      <td>58.75</td>\n",
       "      <td>66.75</td>\n",
       "      <td>-8.00</td>\n",
       "      <td>600</td>\n",
       "      <td>35,250.00</td>\n",
       "      <td>40,050.00</td>\n",
       "      <td>-4,800.00</td>\n",
       "      <td>-11.99</td>\n",
       "      <td>-4,966.78</td>\n",
       "      <td>DTD</td>\n",
       "    </tr>\n",
       "    <tr>\n",
       "      <th>2</th>\n",
       "      <td>PTTGC</td>\n",
       "      <td>2021</td>\n",
       "      <td>12</td>\n",
       "      <td>2021</td>\n",
       "      <td>4</td>\n",
       "      <td>58.75</td>\n",
       "      <td>66.75</td>\n",
       "      <td>-8.00</td>\n",
       "      <td>1000</td>\n",
       "      <td>58,750.00</td>\n",
       "      <td>66,750.00</td>\n",
       "      <td>-8,000.00</td>\n",
       "      <td>-11.99</td>\n",
       "      <td>-8,277.96</td>\n",
       "      <td>DTD</td>\n",
       "    </tr>\n",
       "    <tr>\n",
       "      <th>3</th>\n",
       "      <td>PTTGC</td>\n",
       "      <td>2020</td>\n",
       "      <td>6</td>\n",
       "      <td>2018</td>\n",
       "      <td>10</td>\n",
       "      <td>53.25</td>\n",
       "      <td>75.50</td>\n",
       "      <td>-22.25</td>\n",
       "      <td>2000</td>\n",
       "      <td>106,500.00</td>\n",
       "      <td>151,000.00</td>\n",
       "      <td>-44,500.00</td>\n",
       "      <td>-29.47</td>\n",
       "      <td>-45,070.34</td>\n",
       "      <td>SS</td>\n",
       "    </tr>\n",
       "    <tr>\n",
       "      <th>4</th>\n",
       "      <td>PTTGC</td>\n",
       "      <td>2020</td>\n",
       "      <td>6</td>\n",
       "      <td>2018</td>\n",
       "      <td>6</td>\n",
       "      <td>49.00</td>\n",
       "      <td>75.50</td>\n",
       "      <td>-26.50</td>\n",
       "      <td>2000</td>\n",
       "      <td>98,000.00</td>\n",
       "      <td>151,000.00</td>\n",
       "      <td>-53,000.00</td>\n",
       "      <td>-35.10</td>\n",
       "      <td>-53,551.51</td>\n",
       "      <td>SS</td>\n",
       "    </tr>\n",
       "    <tr>\n",
       "      <th>5</th>\n",
       "      <td>PTTGC</td>\n",
       "      <td>2020</td>\n",
       "      <td>3</td>\n",
       "      <td>2018</td>\n",
       "      <td>6</td>\n",
       "      <td>43.25</td>\n",
       "      <td>75.50</td>\n",
       "      <td>-32.25</td>\n",
       "      <td>3000</td>\n",
       "      <td>129,750.00</td>\n",
       "      <td>226,500.00</td>\n",
       "      <td>-96,750.00</td>\n",
       "      <td>-42.72</td>\n",
       "      <td>-97,539.06</td>\n",
       "      <td>TP</td>\n",
       "    </tr>\n",
       "    <tr>\n",
       "      <th>6</th>\n",
       "      <td>PTTGC</td>\n",
       "      <td>2017</td>\n",
       "      <td>7</td>\n",
       "      <td>2017</td>\n",
       "      <td>6</td>\n",
       "      <td>71.50</td>\n",
       "      <td>69.00</td>\n",
       "      <td>2.50</td>\n",
       "      <td>3000</td>\n",
       "      <td>214,500.00</td>\n",
       "      <td>207,000.00</td>\n",
       "      <td>7,500.00</td>\n",
       "      <td>3.62</td>\n",
       "      <td>6,566.42</td>\n",
       "      <td>XP</td>\n",
       "    </tr>\n",
       "    <tr>\n",
       "      <th>7</th>\n",
       "      <td>PTTGC</td>\n",
       "      <td>2017</td>\n",
       "      <td>2</td>\n",
       "      <td>2017</td>\n",
       "      <td>2</td>\n",
       "      <td>72.25</td>\n",
       "      <td>69.00</td>\n",
       "      <td>3.25</td>\n",
       "      <td>4000</td>\n",
       "      <td>289,000.00</td>\n",
       "      <td>276,000.00</td>\n",
       "      <td>13,000.00</td>\n",
       "      <td>4.71</td>\n",
       "      <td>11,748.58</td>\n",
       "      <td>XP</td>\n",
       "    </tr>\n",
       "  </tbody>\n",
       "</table>\n",
       "</div>"
      ],
      "text/plain": [
       "    name  sell_year  sell_month  buy_year  buy_month  sell_price  buy_price  \\\n",
       "0  PTTGC       2021          12      2019          7       59.00      66.75   \n",
       "1  PTTGC       2021          12      2021          3       58.75      66.75   \n",
       "2  PTTGC       2021          12      2021          4       58.75      66.75   \n",
       "3  PTTGC       2020           6      2018         10       53.25      75.50   \n",
       "4  PTTGC       2020           6      2018          6       49.00      75.50   \n",
       "5  PTTGC       2020           3      2018          6       43.25      75.50   \n",
       "6  PTTGC       2017           7      2017          6       71.50      69.00   \n",
       "7  PTTGC       2017           2      2017          2       72.25      69.00   \n",
       "\n",
       "    diff   qty   sell_amt    buy_amt      gross    pct     profit kind  \n",
       "0  -7.75  2000 118,000.00 133,500.00 -15,500.00 -11.61 -16,057.05  DTD  \n",
       "1  -8.00   600  35,250.00  40,050.00  -4,800.00 -11.99  -4,966.78  DTD  \n",
       "2  -8.00  1000  58,750.00  66,750.00  -8,000.00 -11.99  -8,277.96  DTD  \n",
       "3 -22.25  2000 106,500.00 151,000.00 -44,500.00 -29.47 -45,070.34   SS  \n",
       "4 -26.50  2000  98,000.00 151,000.00 -53,000.00 -35.10 -53,551.51   SS  \n",
       "5 -32.25  3000 129,750.00 226,500.00 -96,750.00 -42.72 -97,539.06   TP  \n",
       "6   2.50  3000 214,500.00 207,000.00   7,500.00   3.62   6,566.42   XP  \n",
       "7   3.25  4000 289,000.00 276,000.00  13,000.00   4.71  11,748.58   XP  "
      ]
     },
     "execution_count": 6,
     "metadata": {},
     "output_type": "execute_result"
    }
   ],
   "source": [
    "sql = '''\n",
    "SELECT name, YEAR(sells.date) AS sell_year, MONTH(sells.date) AS sell_month,  \n",
    "             YEAR(buys.date) AS buy_year, MONTH(buys.date) AS buy_month,\n",
    "sells.price AS sell_price, buys.price AS buy_price, \n",
    "(sells.price - buys.price) AS diff, qty, \n",
    "(sells.price * qty) AS sell_amt,\n",
    "(buys.price * qty) AS buy_amt,\n",
    "(sells.price - buys.price) * qty AS gross, \n",
    "ROUND((sells.price - buys.price)/buys.price*100,2) AS pct, profit, buys.kind\n",
    "FROM sells JOIN buys ON sells.buy_id = buys.id\n",
    "JOIN stocks ON buys.stock_id = stocks.id\n",
    "WHERE name = '%s' \n",
    "ORDER BY sell_year DESC, sell_month DESC, name'''\n",
    "\n",
    "sql = sql % (name)\n",
    "sells_df = pd.read_sql(sql, conpf)\n",
    "print(sql)\n",
    "sells_df"
   ]
  },
  {
   "cell_type": "code",
   "execution_count": 7,
   "metadata": {},
   "outputs": [
    {
     "data": {
      "text/plain": [
       "gross    -202,050.00\n",
       "profit   -207,147.70\n",
       "qty        17,600.00\n",
       "dtype: float64"
      ]
     },
     "execution_count": 7,
     "metadata": {},
     "output_type": "execute_result"
    }
   ],
   "source": [
    "sells_df[['gross','profit','qty']].sum()"
   ]
  },
  {
   "cell_type": "code",
   "execution_count": 8,
   "metadata": {},
   "outputs": [],
   "source": [
    "profit = -207_000"
   ]
  },
  {
   "cell_type": "markdown",
   "metadata": {},
   "source": [
    "### Record selection for dividends"
   ]
  },
  {
   "cell_type": "code",
   "execution_count": 9,
   "metadata": {},
   "outputs": [
    {
     "name": "stdout",
     "output_type": "stream",
     "text": [
      "\n",
      "SELECT name, p_date, amt, net, amt-net AS refund,\n",
      "year, quarter AS q, x_date, number, ppu, (net / number * 1000) AS div_1k\n",
      "FROM dividends\n",
      "WHERE name = 'PTTGC' \n",
      "ORDER BY p_date DESC\n"
     ]
    },
    {
     "data": {
      "text/html": [
       "<div>\n",
       "<style scoped>\n",
       "    .dataframe tbody tr th:only-of-type {\n",
       "        vertical-align: middle;\n",
       "    }\n",
       "\n",
       "    .dataframe tbody tr th {\n",
       "        vertical-align: top;\n",
       "    }\n",
       "\n",
       "    .dataframe thead th {\n",
       "        text-align: right;\n",
       "    }\n",
       "</style>\n",
       "<table border=\"1\" class=\"dataframe\">\n",
       "  <thead>\n",
       "    <tr style=\"text-align: right;\">\n",
       "      <th></th>\n",
       "      <th>name</th>\n",
       "      <th>p_date</th>\n",
       "      <th>amt</th>\n",
       "      <th>net</th>\n",
       "      <th>refund</th>\n",
       "      <th>year</th>\n",
       "      <th>q</th>\n",
       "      <th>x_date</th>\n",
       "      <th>number</th>\n",
       "      <th>ppu</th>\n",
       "      <th>div_1k</th>\n",
       "    </tr>\n",
       "  </thead>\n",
       "  <tbody>\n",
       "    <tr>\n",
       "      <th>0</th>\n",
       "      <td>PTTGC</td>\n",
       "      <td>2022-09-21</td>\n",
       "      <td>9,000.00</td>\n",
       "      <td>8,100.00</td>\n",
       "      <td>900.00</td>\n",
       "      <td>2022</td>\n",
       "      <td>2</td>\n",
       "      <td>2022-09-02</td>\n",
       "      <td>12000</td>\n",
       "      <td>0.75</td>\n",
       "      <td>675.00</td>\n",
       "    </tr>\n",
       "    <tr>\n",
       "      <th>1</th>\n",
       "      <td>PTTGC</td>\n",
       "      <td>2022-04-22</td>\n",
       "      <td>15,750.00</td>\n",
       "      <td>14,175.00</td>\n",
       "      <td>1,575.00</td>\n",
       "      <td>2021</td>\n",
       "      <td>4</td>\n",
       "      <td>2022-02-28</td>\n",
       "      <td>9000</td>\n",
       "      <td>1.75</td>\n",
       "      <td>1,575.00</td>\n",
       "    </tr>\n",
       "    <tr>\n",
       "      <th>2</th>\n",
       "      <td>PTTGC</td>\n",
       "      <td>2021-09-21</td>\n",
       "      <td>16,000.00</td>\n",
       "      <td>14,400.00</td>\n",
       "      <td>1,600.00</td>\n",
       "      <td>2021</td>\n",
       "      <td>2</td>\n",
       "      <td>2021-08-23</td>\n",
       "      <td>8000</td>\n",
       "      <td>2.00</td>\n",
       "      <td>1,800.00</td>\n",
       "    </tr>\n",
       "    <tr>\n",
       "      <th>3</th>\n",
       "      <td>PTTGC</td>\n",
       "      <td>2021-04-23</td>\n",
       "      <td>2,000.00</td>\n",
       "      <td>1,800.00</td>\n",
       "      <td>200.00</td>\n",
       "      <td>2020</td>\n",
       "      <td>4</td>\n",
       "      <td>2021-02-25</td>\n",
       "      <td>2000</td>\n",
       "      <td>1.00</td>\n",
       "      <td>900.00</td>\n",
       "    </tr>\n",
       "    <tr>\n",
       "      <th>4</th>\n",
       "      <td>PTTGC</td>\n",
       "      <td>2020-04-28</td>\n",
       "      <td>9,000.00</td>\n",
       "      <td>8,100.00</td>\n",
       "      <td>900.00</td>\n",
       "      <td>2019</td>\n",
       "      <td>4</td>\n",
       "      <td>2020-04-28</td>\n",
       "      <td>9000</td>\n",
       "      <td>1.00</td>\n",
       "      <td>900.00</td>\n",
       "    </tr>\n",
       "    <tr>\n",
       "      <th>5</th>\n",
       "      <td>PTTGC</td>\n",
       "      <td>2019-09-13</td>\n",
       "      <td>9,000.00</td>\n",
       "      <td>8,100.00</td>\n",
       "      <td>900.00</td>\n",
       "      <td>2019</td>\n",
       "      <td>2</td>\n",
       "      <td>2019-09-13</td>\n",
       "      <td>9000</td>\n",
       "      <td>1.00</td>\n",
       "      <td>900.00</td>\n",
       "    </tr>\n",
       "    <tr>\n",
       "      <th>6</th>\n",
       "      <td>PTTGC</td>\n",
       "      <td>2019-04-24</td>\n",
       "      <td>15,000.00</td>\n",
       "      <td>13,680.00</td>\n",
       "      <td>1,320.00</td>\n",
       "      <td>2018</td>\n",
       "      <td>4</td>\n",
       "      <td>2019-04-24</td>\n",
       "      <td>6000</td>\n",
       "      <td>2.50</td>\n",
       "      <td>2,280.00</td>\n",
       "    </tr>\n",
       "    <tr>\n",
       "      <th>7</th>\n",
       "      <td>PTTGC</td>\n",
       "      <td>2018-09-18</td>\n",
       "      <td>7,875.00</td>\n",
       "      <td>7,650.00</td>\n",
       "      <td>225.00</td>\n",
       "      <td>2018</td>\n",
       "      <td>2</td>\n",
       "      <td>2018-09-18</td>\n",
       "      <td>4500</td>\n",
       "      <td>1.75</td>\n",
       "      <td>1,700.00</td>\n",
       "    </tr>\n",
       "  </tbody>\n",
       "</table>\n",
       "</div>"
      ],
      "text/plain": [
       "    name      p_date       amt       net   refund  year  q      x_date  \\\n",
       "0  PTTGC  2022-09-21  9,000.00  8,100.00   900.00  2022  2  2022-09-02   \n",
       "1  PTTGC  2022-04-22 15,750.00 14,175.00 1,575.00  2021  4  2022-02-28   \n",
       "2  PTTGC  2021-09-21 16,000.00 14,400.00 1,600.00  2021  2  2021-08-23   \n",
       "3  PTTGC  2021-04-23  2,000.00  1,800.00   200.00  2020  4  2021-02-25   \n",
       "4  PTTGC  2020-04-28  9,000.00  8,100.00   900.00  2019  4  2020-04-28   \n",
       "5  PTTGC  2019-09-13  9,000.00  8,100.00   900.00  2019  2  2019-09-13   \n",
       "6  PTTGC  2019-04-24 15,000.00 13,680.00 1,320.00  2018  4  2019-04-24   \n",
       "7  PTTGC  2018-09-18  7,875.00  7,650.00   225.00  2018  2  2018-09-18   \n",
       "\n",
       "   number  ppu   div_1k  \n",
       "0   12000 0.75   675.00  \n",
       "1    9000 1.75 1,575.00  \n",
       "2    8000 2.00 1,800.00  \n",
       "3    2000 1.00   900.00  \n",
       "4    9000 1.00   900.00  \n",
       "5    9000 1.00   900.00  \n",
       "6    6000 2.50 2,280.00  \n",
       "7    4500 1.75 1,700.00  "
      ]
     },
     "execution_count": 9,
     "metadata": {},
     "output_type": "execute_result"
    }
   ],
   "source": [
    "sql = '''\n",
    "SELECT name, p_date, amt, net, amt-net AS refund,\n",
    "year, quarter AS q, x_date, number, ppu, (net / number * 1000) AS div_1k\n",
    "FROM dividends\n",
    "WHERE name = '%s' \n",
    "ORDER BY p_date DESC'''\n",
    "sql = sql % (name)\n",
    "print(sql)\n",
    "\n",
    "div_df = pd.read_sql(sql, conpf)\n",
    "div_df"
   ]
  },
  {
   "cell_type": "code",
   "execution_count": 10,
   "metadata": {},
   "outputs": [
    {
     "data": {
      "text/html": [
       "<div>\n",
       "<style scoped>\n",
       "    .dataframe tbody tr th:only-of-type {\n",
       "        vertical-align: middle;\n",
       "    }\n",
       "\n",
       "    .dataframe tbody tr th {\n",
       "        vertical-align: top;\n",
       "    }\n",
       "\n",
       "    .dataframe thead tr th {\n",
       "        text-align: left;\n",
       "    }\n",
       "\n",
       "    .dataframe thead tr:last-of-type th {\n",
       "        text-align: right;\n",
       "    }\n",
       "</style>\n",
       "<table border=\"1\" class=\"dataframe\">\n",
       "  <thead>\n",
       "    <tr>\n",
       "      <th></th>\n",
       "      <th>amt</th>\n",
       "      <th>net</th>\n",
       "      <th colspan=\"2\" halign=\"left\">number</th>\n",
       "    </tr>\n",
       "    <tr>\n",
       "      <th></th>\n",
       "      <th>sum</th>\n",
       "      <th>sum</th>\n",
       "      <th>mean</th>\n",
       "      <th>count</th>\n",
       "    </tr>\n",
       "    <tr>\n",
       "      <th>name</th>\n",
       "      <th></th>\n",
       "      <th></th>\n",
       "      <th></th>\n",
       "      <th></th>\n",
       "    </tr>\n",
       "  </thead>\n",
       "  <tbody>\n",
       "    <tr>\n",
       "      <th>PTTGC</th>\n",
       "      <td>83,625.00</td>\n",
       "      <td>76,005.00</td>\n",
       "      <td>7,437.50</td>\n",
       "      <td>8</td>\n",
       "    </tr>\n",
       "  </tbody>\n",
       "</table>\n",
       "</div>"
      ],
      "text/plain": [
       "            amt       net   number      \n",
       "            sum       sum     mean count\n",
       "name                                    \n",
       "PTTGC 83,625.00 76,005.00 7,437.50     8"
      ]
     },
     "execution_count": 10,
     "metadata": {},
     "output_type": "execute_result"
    }
   ],
   "source": [
    "div_grp = div_df.groupby(['name'], as_index=True).agg(\n",
    "    {\n",
    "        'amt':['sum'],\n",
    "        'net':['sum'], \n",
    "        'number':['mean','count'],         \n",
    "    }\n",
    ")\n",
    "div_grp"
   ]
  },
  {
   "cell_type": "code",
   "execution_count": 11,
   "metadata": {},
   "outputs": [
    {
     "data": {
      "text/plain": [
       "76000"
      ]
     },
     "execution_count": 11,
     "metadata": {},
     "output_type": "execute_result"
    }
   ],
   "source": [
    "acc_div = 76_000\n",
    "acc_div"
   ]
  },
  {
   "cell_type": "code",
   "execution_count": 15,
   "metadata": {},
   "outputs": [
    {
     "data": {
      "text/plain": [
       "(837560, 12000)"
      ]
     },
     "execution_count": 15,
     "metadata": {},
     "output_type": "execute_result"
    }
   ],
   "source": [
    "sell_amt = net_cost - acc_div - profit\n",
    "sell_amt, qty"
   ]
  },
  {
   "cell_type": "code",
   "execution_count": 13,
   "metadata": {},
   "outputs": [
    {
     "data": {
      "text/plain": [
       "69.79666666666667"
      ]
     },
     "execution_count": 13,
     "metadata": {},
     "output_type": "execute_result"
    }
   ],
   "source": [
    "sell_price = sell_amt / qty\n",
    "sell_price"
   ]
  },
  {
   "cell_type": "code",
   "execution_count": 14,
   "metadata": {},
   "outputs": [
    {
     "data": {
      "text/plain": [
       "303000.0"
      ]
     },
     "execution_count": 14,
     "metadata": {},
     "output_type": "execute_result"
    }
   ],
   "source": [
    "sell_price = 25.25 # + unit_plus\n",
    "sales_amt = sell_price * qty\n",
    "sales_amt"
   ]
  },
  {
   "cell_type": "markdown",
   "metadata": {},
   "source": [
    "### Plan A: Sell at 70 x 12,000 shares"
   ]
  }
 ],
 "metadata": {
  "anaconda-cloud": {},
  "kernelspec": {
   "display_name": "Python 3 (ipykernel)",
   "language": "python",
   "name": "python3"
  },
  "language_info": {
   "codemirror_mode": {
    "name": "ipython",
    "version": 3
   },
   "file_extension": ".py",
   "mimetype": "text/x-python",
   "name": "python",
   "nbconvert_exporter": "python",
   "pygments_lexer": "ipython3",
   "version": "3.8.11"
  }
 },
 "nbformat": 4,
 "nbformat_minor": 1
}
