{
 "cells": [
  {
   "cell_type": "code",
   "execution_count": 1,
   "metadata": {},
   "outputs": [
    {
     "data": {
      "application/javascript": [
       "\n",
       "(function(root) {\n",
       "  function now() {\n",
       "    return new Date();\n",
       "  }\n",
       "\n",
       "  var force = true;\n",
       "\n",
       "  if (typeof root._bokeh_onload_callbacks === \"undefined\" || force === true) {\n",
       "    root._bokeh_onload_callbacks = [];\n",
       "    root._bokeh_is_loading = undefined;\n",
       "  }\n",
       "\n",
       "  if (typeof (root._bokeh_timeout) === \"undefined\" || force === true) {\n",
       "    root._bokeh_timeout = Date.now() + 5000;\n",
       "    root._bokeh_failed_load = false;\n",
       "  }\n",
       "\n",
       "  function run_callbacks() {\n",
       "    try {\n",
       "      root._bokeh_onload_callbacks.forEach(function(callback) {\n",
       "        if (callback != null)\n",
       "          callback();\n",
       "      });\n",
       "    } finally {\n",
       "      delete root._bokeh_onload_callbacks\n",
       "    }\n",
       "    console.debug(\"Bokeh: all callbacks have finished\");\n",
       "  }\n",
       "\n",
       "  function load_libs(css_urls, js_urls, js_modules, callback) {\n",
       "    if (css_urls == null) css_urls = [];\n",
       "    if (js_urls == null) js_urls = [];\n",
       "    if (js_modules == null) js_modules = [];\n",
       "\n",
       "    root._bokeh_onload_callbacks.push(callback);\n",
       "    if (root._bokeh_is_loading > 0) {\n",
       "      console.debug(\"Bokeh: BokehJS is being loaded, scheduling callback at\", now());\n",
       "      return null;\n",
       "    }\n",
       "    if (js_urls.length === 0 && js_modules.length === 0) {\n",
       "      run_callbacks();\n",
       "      return null;\n",
       "    }\n",
       "    console.debug(\"Bokeh: BokehJS not loaded, scheduling load and callback at\", now());\n",
       "    root._bokeh_is_loading = css_urls.length + js_urls.length + js_modules.length;\n",
       "\n",
       "    function on_load() {\n",
       "      root._bokeh_is_loading--;\n",
       "      if (root._bokeh_is_loading === 0) {\n",
       "        console.debug(\"Bokeh: all BokehJS libraries/stylesheets loaded\");\n",
       "        run_callbacks()\n",
       "      }\n",
       "    }\n",
       "\n",
       "    function on_error() {\n",
       "      console.error(\"failed to load \" + url);\n",
       "    }\n",
       "\n",
       "    for (var i = 0; i < css_urls.length; i++) {\n",
       "      var url = css_urls[i];\n",
       "      const element = document.createElement(\"link\");\n",
       "      element.onload = on_load;\n",
       "      element.onerror = on_error;\n",
       "      element.rel = \"stylesheet\";\n",
       "      element.type = \"text/css\";\n",
       "      element.href = url;\n",
       "      console.debug(\"Bokeh: injecting link tag for BokehJS stylesheet: \", url);\n",
       "      document.body.appendChild(element);\n",
       "    }\n",
       "\n",
       "    var skip = [];\n",
       "    if (window.requirejs) {\n",
       "      window.requirejs.config({'packages': {}, 'paths': {'tabulator': 'https://unpkg.com/tabulator-tables@4.9.3/dist/js/tabulator', 'moment': 'https://unpkg.com/moment@2.27.0/moment'}, 'shim': {}});\n",
       "      \n",
       "      require([\"tabulator\"], function(Tabulator) {\n",
       "\twindow.Tabulator = Tabulator\n",
       "      })\n",
       "      \n",
       "      require([\"moment\"], function(moment) {\n",
       "\twindow.moment = moment\n",
       "      })\n",
       "      \n",
       "    }\n",
       "    if (((window['Tabulator'] !== undefined) && (!(window['Tabulator'] instanceof HTMLElement))) || window.requirejs) {\n",
       "      var urls = ['https://unpkg.com/tabulator-tables@4.9.3/dist/js/tabulator.js'];\n",
       "      for (var i = 0; i < urls.length; i++) {\n",
       "        skip.push(urls[i])\n",
       "      }\n",
       "    }\n",
       "    if (((window['moment'] !== undefined) && (!(window['moment'] instanceof HTMLElement))) || window.requirejs) {\n",
       "      var urls = ['https://unpkg.com/moment@2.27.0/moment.js'];\n",
       "      for (var i = 0; i < urls.length; i++) {\n",
       "        skip.push(urls[i])\n",
       "      }\n",
       "    }\n",
       "    for (var i = 0; i < js_urls.length; i++) {\n",
       "      var url = js_urls[i];\n",
       "      if (skip.indexOf(url) >= 0) { on_load(); continue; }\n",
       "      var element = document.createElement('script');\n",
       "      element.onload = on_load;\n",
       "      element.onerror = on_error;\n",
       "      element.async = false;\n",
       "      element.src = url;\n",
       "      console.debug(\"Bokeh: injecting script tag for BokehJS library: \", url);\n",
       "      document.head.appendChild(element);\n",
       "    }\n",
       "    for (var i = 0; i < js_modules.length; i++) {\n",
       "      var url = js_modules[i];\n",
       "      if (skip.indexOf(url) >= 0) { on_load(); continue; }\n",
       "      var element = document.createElement('script');\n",
       "      element.onload = on_load;\n",
       "      element.onerror = on_error;\n",
       "      element.async = false;\n",
       "      element.src = url;\n",
       "      element.type = \"module\";\n",
       "      console.debug(\"Bokeh: injecting script tag for BokehJS library: \", url);\n",
       "      document.head.appendChild(element);\n",
       "    }\n",
       "    if (!js_urls.length && !js_modules.length) {\n",
       "      on_load()\n",
       "    }\n",
       "  };\n",
       "\n",
       "  function inject_raw_css(css) {\n",
       "    const element = document.createElement(\"style\");\n",
       "    element.appendChild(document.createTextNode(css));\n",
       "    document.body.appendChild(element);\n",
       "  }\n",
       "\n",
       "  var js_urls = [\"https://unpkg.com/tabulator-tables@4.9.3/dist/js/tabulator.js\", \"https://unpkg.com/moment@2.27.0/moment.js\", \"https://cdn.bokeh.org/bokeh/release/bokeh-2.3.3.min.js\", \"https://cdn.bokeh.org/bokeh/release/bokeh-widgets-2.3.3.min.js\", \"https://cdn.bokeh.org/bokeh/release/bokeh-tables-2.3.3.min.js\", \"https://unpkg.com/@holoviz/panel@0.12.1/dist/panel.min.js\"];\n",
       "  var js_modules = [];\n",
       "  var css_urls = [\"https://unpkg.com/tabulator-tables@4.9.3/dist/css/tabulator_simple.min.css\", \"https://unpkg.com/@holoviz/panel@0.12.1/dist/css/alerts.css\", \"https://unpkg.com/@holoviz/panel@0.12.1/dist/css/card.css\", \"https://unpkg.com/@holoviz/panel@0.12.1/dist/css/dataframe.css\", \"https://unpkg.com/@holoviz/panel@0.12.1/dist/css/json.css\", \"https://unpkg.com/@holoviz/panel@0.12.1/dist/css/loading.css\", \"https://unpkg.com/@holoviz/panel@0.12.1/dist/css/markdown.css\", \"https://unpkg.com/@holoviz/panel@0.12.1/dist/css/widgets.css\"];\n",
       "  var inline_js = [\n",
       "    function(Bokeh) {\n",
       "      inject_raw_css(\"\\n    .bk.pn-loading.arcs:before {\\n      background-image: url(\\\"data:image/svg+xml;base64,PHN2ZyB4bWxucz0iaHR0cDovL3d3dy53My5vcmcvMjAwMC9zdmciIHhtbG5zOnhsaW5rPSJodHRwOi8vd3d3LnczLm9yZy8xOTk5L3hsaW5rIiBzdHlsZT0ibWFyZ2luOiBhdXRvOyBiYWNrZ3JvdW5kOiBub25lOyBkaXNwbGF5OiBibG9jazsgc2hhcGUtcmVuZGVyaW5nOiBhdXRvOyIgdmlld0JveD0iMCAwIDEwMCAxMDAiIHByZXNlcnZlQXNwZWN0UmF0aW89InhNaWRZTWlkIj4gIDxjaXJjbGUgY3g9IjUwIiBjeT0iNTAiIHI9IjMyIiBzdHJva2Utd2lkdGg9IjgiIHN0cm9rZT0iI2MzYzNjMyIgc3Ryb2tlLWRhc2hhcnJheT0iNTAuMjY1NDgyNDU3NDM2NjkgNTAuMjY1NDgyNDU3NDM2NjkiIGZpbGw9Im5vbmUiIHN0cm9rZS1saW5lY2FwPSJyb3VuZCI+ICAgIDxhbmltYXRlVHJhbnNmb3JtIGF0dHJpYnV0ZU5hbWU9InRyYW5zZm9ybSIgdHlwZT0icm90YXRlIiByZXBlYXRDb3VudD0iaW5kZWZpbml0ZSIgZHVyPSIxcyIga2V5VGltZXM9IjA7MSIgdmFsdWVzPSIwIDUwIDUwOzM2MCA1MCA1MCI+PC9hbmltYXRlVHJhbnNmb3JtPiAgPC9jaXJjbGU+PC9zdmc+\\\")\\n    }\\n    \");\n",
       "    },\n",
       "    function(Bokeh) {\n",
       "      Bokeh.set_log_level(\"info\");\n",
       "    },\n",
       "    function(Bokeh) {} // ensure no trailing comma for IE\n",
       "  ];\n",
       "\n",
       "  function run_inline_js() {\n",
       "    if ((root.Bokeh !== undefined) || (force === true)) {\n",
       "      for (var i = 0; i < inline_js.length; i++) {\n",
       "        inline_js[i].call(root, root.Bokeh);\n",
       "      }} else if (Date.now() < root._bokeh_timeout) {\n",
       "      setTimeout(run_inline_js, 100);\n",
       "    } else if (!root._bokeh_failed_load) {\n",
       "      console.log(\"Bokeh: BokehJS failed to load within specified timeout.\");\n",
       "      root._bokeh_failed_load = true;\n",
       "    }\n",
       "  }\n",
       "\n",
       "  if (root._bokeh_is_loading === 0) {\n",
       "    console.debug(\"Bokeh: BokehJS loaded, going straight to plotting\");\n",
       "    run_inline_js();\n",
       "  } else {\n",
       "    load_libs(css_urls, js_urls, js_modules, function() {\n",
       "      console.debug(\"Bokeh: BokehJS plotting callback run at\", now());\n",
       "      run_inline_js();\n",
       "    });\n",
       "  }\n",
       "}(window));"
      ],
      "application/vnd.holoviews_load.v0+json": "\n(function(root) {\n  function now() {\n    return new Date();\n  }\n\n  var force = true;\n\n  if (typeof root._bokeh_onload_callbacks === \"undefined\" || force === true) {\n    root._bokeh_onload_callbacks = [];\n    root._bokeh_is_loading = undefined;\n  }\n\n  if (typeof (root._bokeh_timeout) === \"undefined\" || force === true) {\n    root._bokeh_timeout = Date.now() + 5000;\n    root._bokeh_failed_load = false;\n  }\n\n  function run_callbacks() {\n    try {\n      root._bokeh_onload_callbacks.forEach(function(callback) {\n        if (callback != null)\n          callback();\n      });\n    } finally {\n      delete root._bokeh_onload_callbacks\n    }\n    console.debug(\"Bokeh: all callbacks have finished\");\n  }\n\n  function load_libs(css_urls, js_urls, js_modules, callback) {\n    if (css_urls == null) css_urls = [];\n    if (js_urls == null) js_urls = [];\n    if (js_modules == null) js_modules = [];\n\n    root._bokeh_onload_callbacks.push(callback);\n    if (root._bokeh_is_loading > 0) {\n      console.debug(\"Bokeh: BokehJS is being loaded, scheduling callback at\", now());\n      return null;\n    }\n    if (js_urls.length === 0 && js_modules.length === 0) {\n      run_callbacks();\n      return null;\n    }\n    console.debug(\"Bokeh: BokehJS not loaded, scheduling load and callback at\", now());\n    root._bokeh_is_loading = css_urls.length + js_urls.length + js_modules.length;\n\n    function on_load() {\n      root._bokeh_is_loading--;\n      if (root._bokeh_is_loading === 0) {\n        console.debug(\"Bokeh: all BokehJS libraries/stylesheets loaded\");\n        run_callbacks()\n      }\n    }\n\n    function on_error() {\n      console.error(\"failed to load \" + url);\n    }\n\n    for (var i = 0; i < css_urls.length; i++) {\n      var url = css_urls[i];\n      const element = document.createElement(\"link\");\n      element.onload = on_load;\n      element.onerror = on_error;\n      element.rel = \"stylesheet\";\n      element.type = \"text/css\";\n      element.href = url;\n      console.debug(\"Bokeh: injecting link tag for BokehJS stylesheet: \", url);\n      document.body.appendChild(element);\n    }\n\n    var skip = [];\n    if (window.requirejs) {\n      window.requirejs.config({'packages': {}, 'paths': {'tabulator': 'https://unpkg.com/tabulator-tables@4.9.3/dist/js/tabulator', 'moment': 'https://unpkg.com/moment@2.27.0/moment'}, 'shim': {}});\n      \n      require([\"tabulator\"], function(Tabulator) {\n\twindow.Tabulator = Tabulator\n      })\n      \n      require([\"moment\"], function(moment) {\n\twindow.moment = moment\n      })\n      \n    }\n    if (((window['Tabulator'] !== undefined) && (!(window['Tabulator'] instanceof HTMLElement))) || window.requirejs) {\n      var urls = ['https://unpkg.com/tabulator-tables@4.9.3/dist/js/tabulator.js'];\n      for (var i = 0; i < urls.length; i++) {\n        skip.push(urls[i])\n      }\n    }\n    if (((window['moment'] !== undefined) && (!(window['moment'] instanceof HTMLElement))) || window.requirejs) {\n      var urls = ['https://unpkg.com/moment@2.27.0/moment.js'];\n      for (var i = 0; i < urls.length; i++) {\n        skip.push(urls[i])\n      }\n    }\n    for (var i = 0; i < js_urls.length; i++) {\n      var url = js_urls[i];\n      if (skip.indexOf(url) >= 0) { on_load(); continue; }\n      var element = document.createElement('script');\n      element.onload = on_load;\n      element.onerror = on_error;\n      element.async = false;\n      element.src = url;\n      console.debug(\"Bokeh: injecting script tag for BokehJS library: \", url);\n      document.head.appendChild(element);\n    }\n    for (var i = 0; i < js_modules.length; i++) {\n      var url = js_modules[i];\n      if (skip.indexOf(url) >= 0) { on_load(); continue; }\n      var element = document.createElement('script');\n      element.onload = on_load;\n      element.onerror = on_error;\n      element.async = false;\n      element.src = url;\n      element.type = \"module\";\n      console.debug(\"Bokeh: injecting script tag for BokehJS library: \", url);\n      document.head.appendChild(element);\n    }\n    if (!js_urls.length && !js_modules.length) {\n      on_load()\n    }\n  };\n\n  function inject_raw_css(css) {\n    const element = document.createElement(\"style\");\n    element.appendChild(document.createTextNode(css));\n    document.body.appendChild(element);\n  }\n\n  var js_urls = [\"https://unpkg.com/tabulator-tables@4.9.3/dist/js/tabulator.js\", \"https://unpkg.com/moment@2.27.0/moment.js\", \"https://cdn.bokeh.org/bokeh/release/bokeh-2.3.3.min.js\", \"https://cdn.bokeh.org/bokeh/release/bokeh-widgets-2.3.3.min.js\", \"https://cdn.bokeh.org/bokeh/release/bokeh-tables-2.3.3.min.js\", \"https://unpkg.com/@holoviz/panel@0.12.1/dist/panel.min.js\"];\n  var js_modules = [];\n  var css_urls = [\"https://unpkg.com/tabulator-tables@4.9.3/dist/css/tabulator_simple.min.css\", \"https://unpkg.com/@holoviz/panel@0.12.1/dist/css/alerts.css\", \"https://unpkg.com/@holoviz/panel@0.12.1/dist/css/card.css\", \"https://unpkg.com/@holoviz/panel@0.12.1/dist/css/dataframe.css\", \"https://unpkg.com/@holoviz/panel@0.12.1/dist/css/json.css\", \"https://unpkg.com/@holoviz/panel@0.12.1/dist/css/loading.css\", \"https://unpkg.com/@holoviz/panel@0.12.1/dist/css/markdown.css\", \"https://unpkg.com/@holoviz/panel@0.12.1/dist/css/widgets.css\"];\n  var inline_js = [\n    function(Bokeh) {\n      inject_raw_css(\"\\n    .bk.pn-loading.arcs:before {\\n      background-image: url(\\\"data:image/svg+xml;base64,PHN2ZyB4bWxucz0iaHR0cDovL3d3dy53My5vcmcvMjAwMC9zdmciIHhtbG5zOnhsaW5rPSJodHRwOi8vd3d3LnczLm9yZy8xOTk5L3hsaW5rIiBzdHlsZT0ibWFyZ2luOiBhdXRvOyBiYWNrZ3JvdW5kOiBub25lOyBkaXNwbGF5OiBibG9jazsgc2hhcGUtcmVuZGVyaW5nOiBhdXRvOyIgdmlld0JveD0iMCAwIDEwMCAxMDAiIHByZXNlcnZlQXNwZWN0UmF0aW89InhNaWRZTWlkIj4gIDxjaXJjbGUgY3g9IjUwIiBjeT0iNTAiIHI9IjMyIiBzdHJva2Utd2lkdGg9IjgiIHN0cm9rZT0iI2MzYzNjMyIgc3Ryb2tlLWRhc2hhcnJheT0iNTAuMjY1NDgyNDU3NDM2NjkgNTAuMjY1NDgyNDU3NDM2NjkiIGZpbGw9Im5vbmUiIHN0cm9rZS1saW5lY2FwPSJyb3VuZCI+ICAgIDxhbmltYXRlVHJhbnNmb3JtIGF0dHJpYnV0ZU5hbWU9InRyYW5zZm9ybSIgdHlwZT0icm90YXRlIiByZXBlYXRDb3VudD0iaW5kZWZpbml0ZSIgZHVyPSIxcyIga2V5VGltZXM9IjA7MSIgdmFsdWVzPSIwIDUwIDUwOzM2MCA1MCA1MCI+PC9hbmltYXRlVHJhbnNmb3JtPiAgPC9jaXJjbGU+PC9zdmc+\\\")\\n    }\\n    \");\n    },\n    function(Bokeh) {\n      Bokeh.set_log_level(\"info\");\n    },\n    function(Bokeh) {} // ensure no trailing comma for IE\n  ];\n\n  function run_inline_js() {\n    if ((root.Bokeh !== undefined) || (force === true)) {\n      for (var i = 0; i < inline_js.length; i++) {\n        inline_js[i].call(root, root.Bokeh);\n      }} else if (Date.now() < root._bokeh_timeout) {\n      setTimeout(run_inline_js, 100);\n    } else if (!root._bokeh_failed_load) {\n      console.log(\"Bokeh: BokehJS failed to load within specified timeout.\");\n      root._bokeh_failed_load = true;\n    }\n  }\n\n  if (root._bokeh_is_loading === 0) {\n    console.debug(\"Bokeh: BokehJS loaded, going straight to plotting\");\n    run_inline_js();\n  } else {\n    load_libs(css_urls, js_urls, js_modules, function() {\n      console.debug(\"Bokeh: BokehJS plotting callback run at\", now());\n      run_inline_js();\n    });\n  }\n}(window));"
     },
     "metadata": {},
     "output_type": "display_data"
    },
    {
     "data": {
      "application/javascript": [
       "\n",
       "if ((window.PyViz === undefined) || (window.PyViz instanceof HTMLElement)) {\n",
       "  window.PyViz = {comms: {}, comm_status:{}, kernels:{}, receivers: {}, plot_index: []}\n",
       "}\n",
       "\n",
       "\n",
       "    function JupyterCommManager() {\n",
       "    }\n",
       "\n",
       "    JupyterCommManager.prototype.register_target = function(plot_id, comm_id, msg_handler) {\n",
       "      if (window.comm_manager || ((window.Jupyter !== undefined) && (Jupyter.notebook.kernel != null))) {\n",
       "        var comm_manager = window.comm_manager || Jupyter.notebook.kernel.comm_manager;\n",
       "        comm_manager.register_target(comm_id, function(comm) {\n",
       "          comm.on_msg(msg_handler);\n",
       "        });\n",
       "      } else if ((plot_id in window.PyViz.kernels) && (window.PyViz.kernels[plot_id])) {\n",
       "        window.PyViz.kernels[plot_id].registerCommTarget(comm_id, function(comm) {\n",
       "          comm.onMsg = msg_handler;\n",
       "        });\n",
       "      } else if (typeof google != 'undefined' && google.colab.kernel != null) {\n",
       "        google.colab.kernel.comms.registerTarget(comm_id, (comm) => {\n",
       "          var messages = comm.messages[Symbol.asyncIterator]();\n",
       "          function processIteratorResult(result) {\n",
       "            var message = result.value;\n",
       "            console.log(message)\n",
       "            var content = {data: message.data, comm_id};\n",
       "            var buffers = []\n",
       "            for (var buffer of message.buffers || []) {\n",
       "              buffers.push(new DataView(buffer))\n",
       "            }\n",
       "            var metadata = message.metadata || {};\n",
       "            var msg = {content, buffers, metadata}\n",
       "            msg_handler(msg);\n",
       "            return messages.next().then(processIteratorResult);\n",
       "          }\n",
       "          return messages.next().then(processIteratorResult);\n",
       "        })\n",
       "      }\n",
       "    }\n",
       "\n",
       "    JupyterCommManager.prototype.get_client_comm = function(plot_id, comm_id, msg_handler) {\n",
       "      if (comm_id in window.PyViz.comms) {\n",
       "        return window.PyViz.comms[comm_id];\n",
       "      } else if (window.comm_manager || ((window.Jupyter !== undefined) && (Jupyter.notebook.kernel != null))) {\n",
       "        var comm_manager = window.comm_manager || Jupyter.notebook.kernel.comm_manager;\n",
       "        var comm = comm_manager.new_comm(comm_id, {}, {}, {}, comm_id);\n",
       "        if (msg_handler) {\n",
       "          comm.on_msg(msg_handler);\n",
       "        }\n",
       "      } else if ((plot_id in window.PyViz.kernels) && (window.PyViz.kernels[plot_id])) {\n",
       "        var comm = window.PyViz.kernels[plot_id].connectToComm(comm_id);\n",
       "        comm.open();\n",
       "        if (msg_handler) {\n",
       "          comm.onMsg = msg_handler;\n",
       "        }\n",
       "      } else if (typeof google != 'undefined' && google.colab.kernel != null) {\n",
       "        var comm_promise = google.colab.kernel.comms.open(comm_id)\n",
       "        comm_promise.then((comm) => {\n",
       "          window.PyViz.comms[comm_id] = comm;\n",
       "          if (msg_handler) {\n",
       "            var messages = comm.messages[Symbol.asyncIterator]();\n",
       "            function processIteratorResult(result) {\n",
       "              var message = result.value;\n",
       "              var content = {data: message.data};\n",
       "              var metadata = message.metadata || {comm_id};\n",
       "              var msg = {content, metadata}\n",
       "              msg_handler(msg);\n",
       "              return messages.next().then(processIteratorResult);\n",
       "            }\n",
       "            return messages.next().then(processIteratorResult);\n",
       "          }\n",
       "        }) \n",
       "        var sendClosure = (data, metadata, buffers, disposeOnDone) => {\n",
       "          return comm_promise.then((comm) => {\n",
       "            comm.send(data, metadata, buffers, disposeOnDone);\n",
       "          });\n",
       "        };\n",
       "        var comm = {\n",
       "          send: sendClosure\n",
       "        };\n",
       "      }\n",
       "      window.PyViz.comms[comm_id] = comm;\n",
       "      return comm;\n",
       "    }\n",
       "    window.PyViz.comm_manager = new JupyterCommManager();\n",
       "    \n",
       "\n",
       "\n",
       "var JS_MIME_TYPE = 'application/javascript';\n",
       "var HTML_MIME_TYPE = 'text/html';\n",
       "var EXEC_MIME_TYPE = 'application/vnd.holoviews_exec.v0+json';\n",
       "var CLASS_NAME = 'output';\n",
       "\n",
       "/**\n",
       " * Render data to the DOM node\n",
       " */\n",
       "function render(props, node) {\n",
       "  var div = document.createElement(\"div\");\n",
       "  var script = document.createElement(\"script\");\n",
       "  node.appendChild(div);\n",
       "  node.appendChild(script);\n",
       "}\n",
       "\n",
       "/**\n",
       " * Handle when a new output is added\n",
       " */\n",
       "function handle_add_output(event, handle) {\n",
       "  var output_area = handle.output_area;\n",
       "  var output = handle.output;\n",
       "  if ((output.data == undefined) || (!output.data.hasOwnProperty(EXEC_MIME_TYPE))) {\n",
       "    return\n",
       "  }\n",
       "  var id = output.metadata[EXEC_MIME_TYPE][\"id\"];\n",
       "  var toinsert = output_area.element.find(\".\" + CLASS_NAME.split(' ')[0]);\n",
       "  if (id !== undefined) {\n",
       "    var nchildren = toinsert.length;\n",
       "    var html_node = toinsert[nchildren-1].children[0];\n",
       "    html_node.innerHTML = output.data[HTML_MIME_TYPE];\n",
       "    var scripts = [];\n",
       "    var nodelist = html_node.querySelectorAll(\"script\");\n",
       "    for (var i in nodelist) {\n",
       "      if (nodelist.hasOwnProperty(i)) {\n",
       "        scripts.push(nodelist[i])\n",
       "      }\n",
       "    }\n",
       "\n",
       "    scripts.forEach( function (oldScript) {\n",
       "      var newScript = document.createElement(\"script\");\n",
       "      var attrs = [];\n",
       "      var nodemap = oldScript.attributes;\n",
       "      for (var j in nodemap) {\n",
       "        if (nodemap.hasOwnProperty(j)) {\n",
       "          attrs.push(nodemap[j])\n",
       "        }\n",
       "      }\n",
       "      attrs.forEach(function(attr) { newScript.setAttribute(attr.name, attr.value) });\n",
       "      newScript.appendChild(document.createTextNode(oldScript.innerHTML));\n",
       "      oldScript.parentNode.replaceChild(newScript, oldScript);\n",
       "    });\n",
       "    if (JS_MIME_TYPE in output.data) {\n",
       "      toinsert[nchildren-1].children[1].textContent = output.data[JS_MIME_TYPE];\n",
       "    }\n",
       "    output_area._hv_plot_id = id;\n",
       "    if ((window.Bokeh !== undefined) && (id in Bokeh.index)) {\n",
       "      window.PyViz.plot_index[id] = Bokeh.index[id];\n",
       "    } else {\n",
       "      window.PyViz.plot_index[id] = null;\n",
       "    }\n",
       "  } else if (output.metadata[EXEC_MIME_TYPE][\"server_id\"] !== undefined) {\n",
       "    var bk_div = document.createElement(\"div\");\n",
       "    bk_div.innerHTML = output.data[HTML_MIME_TYPE];\n",
       "    var script_attrs = bk_div.children[0].attributes;\n",
       "    for (var i = 0; i < script_attrs.length; i++) {\n",
       "      toinsert[toinsert.length - 1].childNodes[1].setAttribute(script_attrs[i].name, script_attrs[i].value);\n",
       "    }\n",
       "    // store reference to server id on output_area\n",
       "    output_area._bokeh_server_id = output.metadata[EXEC_MIME_TYPE][\"server_id\"];\n",
       "  }\n",
       "}\n",
       "\n",
       "/**\n",
       " * Handle when an output is cleared or removed\n",
       " */\n",
       "function handle_clear_output(event, handle) {\n",
       "  var id = handle.cell.output_area._hv_plot_id;\n",
       "  var server_id = handle.cell.output_area._bokeh_server_id;\n",
       "  if (((id === undefined) || !(id in PyViz.plot_index)) && (server_id !== undefined)) { return; }\n",
       "  var comm = window.PyViz.comm_manager.get_client_comm(\"hv-extension-comm\", \"hv-extension-comm\", function () {});\n",
       "  if (server_id !== null) {\n",
       "    comm.send({event_type: 'server_delete', 'id': server_id});\n",
       "    return;\n",
       "  } else if (comm !== null) {\n",
       "    comm.send({event_type: 'delete', 'id': id});\n",
       "  }\n",
       "  delete PyViz.plot_index[id];\n",
       "  if ((window.Bokeh !== undefined) & (id in window.Bokeh.index)) {\n",
       "    var doc = window.Bokeh.index[id].model.document\n",
       "    doc.clear();\n",
       "    const i = window.Bokeh.documents.indexOf(doc);\n",
       "    if (i > -1) {\n",
       "      window.Bokeh.documents.splice(i, 1);\n",
       "    }\n",
       "  }\n",
       "}\n",
       "\n",
       "/**\n",
       " * Handle kernel restart event\n",
       " */\n",
       "function handle_kernel_cleanup(event, handle) {\n",
       "  delete PyViz.comms[\"hv-extension-comm\"];\n",
       "  window.PyViz.plot_index = {}\n",
       "}\n",
       "\n",
       "/**\n",
       " * Handle update_display_data messages\n",
       " */\n",
       "function handle_update_output(event, handle) {\n",
       "  handle_clear_output(event, {cell: {output_area: handle.output_area}})\n",
       "  handle_add_output(event, handle)\n",
       "}\n",
       "\n",
       "function register_renderer(events, OutputArea) {\n",
       "  function append_mime(data, metadata, element) {\n",
       "    // create a DOM node to render to\n",
       "    var toinsert = this.create_output_subarea(\n",
       "    metadata,\n",
       "    CLASS_NAME,\n",
       "    EXEC_MIME_TYPE\n",
       "    );\n",
       "    this.keyboard_manager.register_events(toinsert);\n",
       "    // Render to node\n",
       "    var props = {data: data, metadata: metadata[EXEC_MIME_TYPE]};\n",
       "    render(props, toinsert[0]);\n",
       "    element.append(toinsert);\n",
       "    return toinsert\n",
       "  }\n",
       "\n",
       "  events.on('output_added.OutputArea', handle_add_output);\n",
       "  events.on('output_updated.OutputArea', handle_update_output);\n",
       "  events.on('clear_output.CodeCell', handle_clear_output);\n",
       "  events.on('delete.Cell', handle_clear_output);\n",
       "  events.on('kernel_ready.Kernel', handle_kernel_cleanup);\n",
       "\n",
       "  OutputArea.prototype.register_mime_type(EXEC_MIME_TYPE, append_mime, {\n",
       "    safe: true,\n",
       "    index: 0\n",
       "  });\n",
       "}\n",
       "\n",
       "if (window.Jupyter !== undefined) {\n",
       "  try {\n",
       "    var events = require('base/js/events');\n",
       "    var OutputArea = require('notebook/js/outputarea').OutputArea;\n",
       "    if (OutputArea.prototype.mime_types().indexOf(EXEC_MIME_TYPE) == -1) {\n",
       "      register_renderer(events, OutputArea);\n",
       "    }\n",
       "  } catch(err) {\n",
       "  }\n",
       "}\n"
      ],
      "application/vnd.holoviews_load.v0+json": "\nif ((window.PyViz === undefined) || (window.PyViz instanceof HTMLElement)) {\n  window.PyViz = {comms: {}, comm_status:{}, kernels:{}, receivers: {}, plot_index: []}\n}\n\n\n    function JupyterCommManager() {\n    }\n\n    JupyterCommManager.prototype.register_target = function(plot_id, comm_id, msg_handler) {\n      if (window.comm_manager || ((window.Jupyter !== undefined) && (Jupyter.notebook.kernel != null))) {\n        var comm_manager = window.comm_manager || Jupyter.notebook.kernel.comm_manager;\n        comm_manager.register_target(comm_id, function(comm) {\n          comm.on_msg(msg_handler);\n        });\n      } else if ((plot_id in window.PyViz.kernels) && (window.PyViz.kernels[plot_id])) {\n        window.PyViz.kernels[plot_id].registerCommTarget(comm_id, function(comm) {\n          comm.onMsg = msg_handler;\n        });\n      } else if (typeof google != 'undefined' && google.colab.kernel != null) {\n        google.colab.kernel.comms.registerTarget(comm_id, (comm) => {\n          var messages = comm.messages[Symbol.asyncIterator]();\n          function processIteratorResult(result) {\n            var message = result.value;\n            console.log(message)\n            var content = {data: message.data, comm_id};\n            var buffers = []\n            for (var buffer of message.buffers || []) {\n              buffers.push(new DataView(buffer))\n            }\n            var metadata = message.metadata || {};\n            var msg = {content, buffers, metadata}\n            msg_handler(msg);\n            return messages.next().then(processIteratorResult);\n          }\n          return messages.next().then(processIteratorResult);\n        })\n      }\n    }\n\n    JupyterCommManager.prototype.get_client_comm = function(plot_id, comm_id, msg_handler) {\n      if (comm_id in window.PyViz.comms) {\n        return window.PyViz.comms[comm_id];\n      } else if (window.comm_manager || ((window.Jupyter !== undefined) && (Jupyter.notebook.kernel != null))) {\n        var comm_manager = window.comm_manager || Jupyter.notebook.kernel.comm_manager;\n        var comm = comm_manager.new_comm(comm_id, {}, {}, {}, comm_id);\n        if (msg_handler) {\n          comm.on_msg(msg_handler);\n        }\n      } else if ((plot_id in window.PyViz.kernels) && (window.PyViz.kernels[plot_id])) {\n        var comm = window.PyViz.kernels[plot_id].connectToComm(comm_id);\n        comm.open();\n        if (msg_handler) {\n          comm.onMsg = msg_handler;\n        }\n      } else if (typeof google != 'undefined' && google.colab.kernel != null) {\n        var comm_promise = google.colab.kernel.comms.open(comm_id)\n        comm_promise.then((comm) => {\n          window.PyViz.comms[comm_id] = comm;\n          if (msg_handler) {\n            var messages = comm.messages[Symbol.asyncIterator]();\n            function processIteratorResult(result) {\n              var message = result.value;\n              var content = {data: message.data};\n              var metadata = message.metadata || {comm_id};\n              var msg = {content, metadata}\n              msg_handler(msg);\n              return messages.next().then(processIteratorResult);\n            }\n            return messages.next().then(processIteratorResult);\n          }\n        }) \n        var sendClosure = (data, metadata, buffers, disposeOnDone) => {\n          return comm_promise.then((comm) => {\n            comm.send(data, metadata, buffers, disposeOnDone);\n          });\n        };\n        var comm = {\n          send: sendClosure\n        };\n      }\n      window.PyViz.comms[comm_id] = comm;\n      return comm;\n    }\n    window.PyViz.comm_manager = new JupyterCommManager();\n    \n\n\nvar JS_MIME_TYPE = 'application/javascript';\nvar HTML_MIME_TYPE = 'text/html';\nvar EXEC_MIME_TYPE = 'application/vnd.holoviews_exec.v0+json';\nvar CLASS_NAME = 'output';\n\n/**\n * Render data to the DOM node\n */\nfunction render(props, node) {\n  var div = document.createElement(\"div\");\n  var script = document.createElement(\"script\");\n  node.appendChild(div);\n  node.appendChild(script);\n}\n\n/**\n * Handle when a new output is added\n */\nfunction handle_add_output(event, handle) {\n  var output_area = handle.output_area;\n  var output = handle.output;\n  if ((output.data == undefined) || (!output.data.hasOwnProperty(EXEC_MIME_TYPE))) {\n    return\n  }\n  var id = output.metadata[EXEC_MIME_TYPE][\"id\"];\n  var toinsert = output_area.element.find(\".\" + CLASS_NAME.split(' ')[0]);\n  if (id !== undefined) {\n    var nchildren = toinsert.length;\n    var html_node = toinsert[nchildren-1].children[0];\n    html_node.innerHTML = output.data[HTML_MIME_TYPE];\n    var scripts = [];\n    var nodelist = html_node.querySelectorAll(\"script\");\n    for (var i in nodelist) {\n      if (nodelist.hasOwnProperty(i)) {\n        scripts.push(nodelist[i])\n      }\n    }\n\n    scripts.forEach( function (oldScript) {\n      var newScript = document.createElement(\"script\");\n      var attrs = [];\n      var nodemap = oldScript.attributes;\n      for (var j in nodemap) {\n        if (nodemap.hasOwnProperty(j)) {\n          attrs.push(nodemap[j])\n        }\n      }\n      attrs.forEach(function(attr) { newScript.setAttribute(attr.name, attr.value) });\n      newScript.appendChild(document.createTextNode(oldScript.innerHTML));\n      oldScript.parentNode.replaceChild(newScript, oldScript);\n    });\n    if (JS_MIME_TYPE in output.data) {\n      toinsert[nchildren-1].children[1].textContent = output.data[JS_MIME_TYPE];\n    }\n    output_area._hv_plot_id = id;\n    if ((window.Bokeh !== undefined) && (id in Bokeh.index)) {\n      window.PyViz.plot_index[id] = Bokeh.index[id];\n    } else {\n      window.PyViz.plot_index[id] = null;\n    }\n  } else if (output.metadata[EXEC_MIME_TYPE][\"server_id\"] !== undefined) {\n    var bk_div = document.createElement(\"div\");\n    bk_div.innerHTML = output.data[HTML_MIME_TYPE];\n    var script_attrs = bk_div.children[0].attributes;\n    for (var i = 0; i < script_attrs.length; i++) {\n      toinsert[toinsert.length - 1].childNodes[1].setAttribute(script_attrs[i].name, script_attrs[i].value);\n    }\n    // store reference to server id on output_area\n    output_area._bokeh_server_id = output.metadata[EXEC_MIME_TYPE][\"server_id\"];\n  }\n}\n\n/**\n * Handle when an output is cleared or removed\n */\nfunction handle_clear_output(event, handle) {\n  var id = handle.cell.output_area._hv_plot_id;\n  var server_id = handle.cell.output_area._bokeh_server_id;\n  if (((id === undefined) || !(id in PyViz.plot_index)) && (server_id !== undefined)) { return; }\n  var comm = window.PyViz.comm_manager.get_client_comm(\"hv-extension-comm\", \"hv-extension-comm\", function () {});\n  if (server_id !== null) {\n    comm.send({event_type: 'server_delete', 'id': server_id});\n    return;\n  } else if (comm !== null) {\n    comm.send({event_type: 'delete', 'id': id});\n  }\n  delete PyViz.plot_index[id];\n  if ((window.Bokeh !== undefined) & (id in window.Bokeh.index)) {\n    var doc = window.Bokeh.index[id].model.document\n    doc.clear();\n    const i = window.Bokeh.documents.indexOf(doc);\n    if (i > -1) {\n      window.Bokeh.documents.splice(i, 1);\n    }\n  }\n}\n\n/**\n * Handle kernel restart event\n */\nfunction handle_kernel_cleanup(event, handle) {\n  delete PyViz.comms[\"hv-extension-comm\"];\n  window.PyViz.plot_index = {}\n}\n\n/**\n * Handle update_display_data messages\n */\nfunction handle_update_output(event, handle) {\n  handle_clear_output(event, {cell: {output_area: handle.output_area}})\n  handle_add_output(event, handle)\n}\n\nfunction register_renderer(events, OutputArea) {\n  function append_mime(data, metadata, element) {\n    // create a DOM node to render to\n    var toinsert = this.create_output_subarea(\n    metadata,\n    CLASS_NAME,\n    EXEC_MIME_TYPE\n    );\n    this.keyboard_manager.register_events(toinsert);\n    // Render to node\n    var props = {data: data, metadata: metadata[EXEC_MIME_TYPE]};\n    render(props, toinsert[0]);\n    element.append(toinsert);\n    return toinsert\n  }\n\n  events.on('output_added.OutputArea', handle_add_output);\n  events.on('output_updated.OutputArea', handle_update_output);\n  events.on('clear_output.CodeCell', handle_clear_output);\n  events.on('delete.Cell', handle_clear_output);\n  events.on('kernel_ready.Kernel', handle_kernel_cleanup);\n\n  OutputArea.prototype.register_mime_type(EXEC_MIME_TYPE, append_mime, {\n    safe: true,\n    index: 0\n  });\n}\n\nif (window.Jupyter !== undefined) {\n  try {\n    var events = require('base/js/events');\n    var OutputArea = require('notebook/js/outputarea').OutputArea;\n    if (OutputArea.prototype.mime_types().indexOf(EXEC_MIME_TYPE) == -1) {\n      register_renderer(events, OutputArea);\n    }\n  } catch(err) {\n  }\n}\n"
     },
     "metadata": {},
     "output_type": "display_data"
    },
    {
     "data": {
      "text/plain": [
       "datetime.date(2021, 12, 30)"
      ]
     },
     "execution_count": 1,
     "metadata": {},
     "output_type": "execute_result"
    }
   ],
   "source": [
    "import pandas as pd\n",
    "import panel as pn\n",
    "import numpy as np\n",
    "from sqlalchemy import create_engine\n",
    "from datetime import date, timedelta\n",
    "import calendar\n",
    "import matplotlib.pyplot as plt\n",
    "import seaborn as sns\n",
    "%matplotlib inline\n",
    "sns.set\n",
    "\n",
    "pn.extension('tabulator')\n",
    "\n",
    "engine = create_engine(\"mysql+pymysql://root:@localhost:3306/stock\")\n",
    "const = engine.connect()\n",
    "engine = create_engine(\"sqlite:///c:\\\\ruby\\\\portmy\\\\db\\\\development.sqlite3\")\n",
    "conmy = engine.connect()\n",
    "format_dict = {\n",
    "               'fm_price':'{:.2f}','to_price':'{:.2f}','price':'{:.2f}',    \n",
    "               'max_price':'{:.2f}','min_price':'{:.2f}','maxp':'{:.2f}','minp':'{:.2f}',\n",
    "               'opnp':'{:.2f}','target':'{:.2f}','max':'{:.2f}','max52':'{:.2f}',\n",
    "               'css_price':'{:.2f}','amount':'{:,.2f}','unit_cost':'{:.2f}',\n",
    "               'cost_amt':'{:,.2f}','dividend_amount':'{:,.2f}','base':'{:,.2f}',\n",
    "               'dividend':'{:.2f}','div_amt':'{:,.2f}',\n",
    "               'cost_pct':'{:.2f}%','mkt_pct':'{:.2f}%','pft_pct':'{:.2f}%','pct':'{:.2f}%', \n",
    "               'buy_target':'{:.2f}','sell_target':'{:.2f}',\n",
    "               'volume':'{:,.2f}','beta':'{:.2f}','cost':'{:,.2f}','profit':'{:,.2f}',\n",
    "               'qty':'{:,}','available_qty':'{:,}','shares':'{:,}','volbuy':'{:,}','div_rank':'{:,}','amt_rank':'{:,}'}\n",
    "pd.set_option(\"display.max_rows\", None)\n",
    "\n",
    "data_path = \"../data/\"\n",
    "csv_path = \"\\\\Users\\\\User\\\\iCloudDrive\\\\\"\n",
    "box_path = \"\\\\Users\\\\User\\\\Dropbox\\\\\"\n",
    "\n",
    "today = date.today()\n",
    "today"
   ]
  },
  {
   "cell_type": "markdown",
   "metadata": {},
   "source": [
    "### Set today = last closed work day"
   ]
  },
  {
   "cell_type": "code",
   "execution_count": 2,
   "metadata": {},
   "outputs": [
    {
     "data": {
      "text/plain": [
       "datetime.date(2021, 12, 30)"
      ]
     },
     "execution_count": 2,
     "metadata": {},
     "output_type": "execute_result"
    }
   ],
   "source": [
    "#today = today - timedelta(days=1)\n",
    "today"
   ]
  },
  {
   "cell_type": "markdown",
   "metadata": {},
   "source": [
    "### Restart and Run All Cells"
   ]
  },
  {
   "cell_type": "code",
   "execution_count": 3,
   "metadata": {},
   "outputs": [
    {
     "data": {
      "text/plain": [
       "33"
      ]
     },
     "execution_count": 3,
     "metadata": {},
     "output_type": "execute_result"
    }
   ],
   "source": [
    "sql = '''\n",
    "UPDATE buy B\n",
    "SET dividend =\n",
    "(SELECT DIVIDEND FROM dividend D\n",
    "WHERE B.name = D.name)'''\n",
    "rp = const.execute(sql)\n",
    "rp.rowcount"
   ]
  },
  {
   "cell_type": "markdown",
   "metadata": {},
   "source": [
    "### Process portfolio (table buy in mysql stock)"
   ]
  },
  {
   "cell_type": "code",
   "execution_count": 4,
   "metadata": {
    "scrolled": false
   },
   "outputs": [
    {
     "data": {
      "text/plain": [
       "(33, 8)"
      ]
     },
     "execution_count": 4,
     "metadata": {},
     "output_type": "execute_result"
    }
   ],
   "source": [
    "sql = '''\n",
    "SELECT name, volbuy AS shares, price AS unit_cost, volbuy * price AS cost, dividend,\n",
    "volbuy * dividend AS div_amt, FORMAT((volbuy * dividend)/(volbuy * price) * 100,2) AS cost_pct, period\n",
    "FROM buy\n",
    "WHERE active = 1'''\n",
    "df_buy = pd.read_sql(sql, const)\n",
    "df_buy['shares'] = df_buy.shares.astype(int)\n",
    "df_buy['cost_pct'] = df_buy.cost_pct.astype(float)\n",
    "df_buy.sort_values(['period'],ascending=[False]).shape"
   ]
  },
  {
   "cell_type": "code",
   "execution_count": 5,
   "metadata": {},
   "outputs": [
    {
     "data": {
      "text/plain": [
       "('../data/hi-dividend.csv',\n",
       " '\\\\Users\\\\User\\\\iCloudDrive\\\\hi-dividend.csv',\n",
       " '\\\\Users\\\\User\\\\Dropbox\\\\hi-dividend.csv')"
      ]
     },
     "execution_count": 5,
     "metadata": {},
     "output_type": "execute_result"
    }
   ],
   "source": [
    "file_name = 'hi-dividend.csv'\n",
    "data_file = data_path + file_name\n",
    "output_file = csv_path + file_name\n",
    "box_file = box_path + file_name\n",
    "data_file, output_file, box_file"
   ]
  },
  {
   "cell_type": "code",
   "execution_count": 6,
   "metadata": {},
   "outputs": [],
   "source": [
    "df_buy.sort_values(['cost_pct'],ascending=[False]).to_csv(output_file)\n",
    "df_buy.sort_values(['cost_pct'],ascending=[False]).to_csv(data_file)\n",
    "df_buy.sort_values(['cost_pct'],ascending=[False]).to_csv(box_file)"
   ]
  },
  {
   "cell_type": "code",
   "execution_count": 7,
   "metadata": {},
   "outputs": [
    {
     "data": {
      "text/plain": [
       "(636053.44, 650000, 13946.560000000056)"
      ]
     },
     "execution_count": 7,
     "metadata": {},
     "output_type": "execute_result"
    }
   ],
   "source": [
    "target = 650000\n",
    "dividend = df_buy.div_amt.sum()\n",
    "remain = target - dividend\n",
    "dividend, target, remain"
   ]
  },
  {
   "cell_type": "markdown",
   "metadata": {},
   "source": [
    "### Start of Period Calculation"
   ]
  },
  {
   "cell_type": "code",
   "execution_count": 8,
   "metadata": {},
   "outputs": [
    {
     "name": "stdout",
     "output_type": "stream",
     "text": [
      "\n",
      "SELECT B.name, volbuy AS shares, B.price AS unit_cost, volbuy * B.price AS cost, \n",
      "dividend, volbuy * dividend AS div_amt, \n",
      "FORMAT((volbuy * dividend)/(volbuy * B.price) * 100,1) AS cost_pct, \n",
      "P.price, volbuy * P.price AS amount, \n",
      "FORMAT((volbuy * dividend)/(volbuy * P.price) * 100,1) AS mkt_pct,\n",
      "(P.price - B.price) * volbuy AS profit, \n",
      "FORMAT(((P.price - B.price) * volbuy) / (volbuy * B.price) * 100,1) AS pft_pct, period\n",
      "FROM buy B JOIN price P\n",
      "ON B.name = P.name\n",
      "WHERE P.date = \"2021-12-30\"\n",
      "AND active = 1\n"
     ]
    }
   ],
   "source": [
    "sql = '''\n",
    "SELECT B.name, volbuy AS shares, B.price AS unit_cost, volbuy * B.price AS cost, \n",
    "dividend, volbuy * dividend AS div_amt, \n",
    "FORMAT((volbuy * dividend)/(volbuy * B.price) * 100,1) AS cost_pct, \n",
    "P.price, volbuy * P.price AS amount, \n",
    "FORMAT((volbuy * dividend)/(volbuy * P.price) * 100,1) AS mkt_pct,\n",
    "(P.price - B.price) * volbuy AS profit, \n",
    "FORMAT(((P.price - B.price) * volbuy) / (volbuy * B.price) * 100,1) AS pft_pct, period\n",
    "FROM buy B JOIN price P\n",
    "ON B.name = P.name\n",
    "WHERE P.date = \"%s\"\n",
    "AND active = 1'''\n",
    "sql = sql % today \n",
    "print(sql)"
   ]
  },
  {
   "cell_type": "code",
   "execution_count": 9,
   "metadata": {},
   "outputs": [
    {
     "data": {
      "text/plain": [
       "(33, 13)"
      ]
     },
     "execution_count": 9,
     "metadata": {},
     "output_type": "execute_result"
    }
   ],
   "source": [
    "df_buy_price = pd.read_sql(sql, const)\n",
    "df_buy_price.shape"
   ]
  },
  {
   "cell_type": "code",
   "execution_count": 10,
   "metadata": {},
   "outputs": [
    {
     "data": {
      "text/plain": [
       "(33, 13)"
      ]
     },
     "execution_count": 10,
     "metadata": {},
     "output_type": "execute_result"
    }
   ],
   "source": [
    "df_buy_price['shares'] = df_buy_price.shares.astype(int)\n",
    "df_buy_price['cost_pct'] = df_buy_price.cost_pct.astype(float)\n",
    "df_buy_price['mkt_pct'] = df_buy_price.mkt_pct.astype(float)\n",
    "df_buy_price['pft_pct'] = df_buy_price.pft_pct.astype(float)\n",
    "#df_buy_price.set_index('name',inplace=True)\n",
    "df_buy_price.sort_values(['period','pft_pct'],ascending=[True,True]).shape"
   ]
  },
  {
   "cell_type": "code",
   "execution_count": 11,
   "metadata": {},
   "outputs": [
    {
     "data": {
      "text/html": [
       "<style type=\"text/css\">\n",
       "</style>\n",
       "<table id=\"T_f6556_\">\n",
       "  <thead>\n",
       "    <tr>\n",
       "      <th class=\"blank level0\" >&nbsp;</th>\n",
       "      <th class=\"col_heading level0 col0\" >name</th>\n",
       "      <th class=\"col_heading level0 col1\" >cost</th>\n",
       "      <th class=\"col_heading level0 col2\" >amount</th>\n",
       "      <th class=\"col_heading level0 col3\" >div_amt</th>\n",
       "      <th class=\"col_heading level0 col4\" >cost_pct</th>\n",
       "      <th class=\"col_heading level0 col5\" >mkt_pct</th>\n",
       "    </tr>\n",
       "  </thead>\n",
       "  <tbody>\n",
       "    <tr>\n",
       "      <th id=\"T_f6556_level0_row0\" class=\"row_heading level0 row0\" >5</th>\n",
       "      <td id=\"T_f6556_row0_col0\" class=\"data row0 col0\" >MCS</td>\n",
       "      <td id=\"T_f6556_row0_col1\" class=\"data row0 col1\" >1,002,000.00</td>\n",
       "      <td id=\"T_f6556_row0_col2\" class=\"data row0 col2\" >888,000.00</td>\n",
       "      <td id=\"T_f6556_row0_col3\" class=\"data row0 col3\" >82,200.00</td>\n",
       "      <td id=\"T_f6556_row0_col4\" class=\"data row0 col4\" >8.20%</td>\n",
       "      <td id=\"T_f6556_row0_col5\" class=\"data row0 col5\" >9.30%</td>\n",
       "    </tr>\n",
       "    <tr>\n",
       "      <th id=\"T_f6556_level0_row1\" class=\"row_heading level0 row1\" >12</th>\n",
       "      <td id=\"T_f6556_row1_col0\" class=\"data row1 col0\" >JASIF</td>\n",
       "      <td id=\"T_f6556_row1_col1\" class=\"data row1 col1\" >1,000,000.00</td>\n",
       "      <td id=\"T_f6556_row1_col2\" class=\"data row1 col2\" >1,030,000.00</td>\n",
       "      <td id=\"T_f6556_row1_col3\" class=\"data row1 col3\" >95,000.00</td>\n",
       "      <td id=\"T_f6556_row1_col4\" class=\"data row1 col4\" >9.50%</td>\n",
       "      <td id=\"T_f6556_row1_col5\" class=\"data row1 col5\" >9.20%</td>\n",
       "    </tr>\n",
       "    <tr>\n",
       "      <th id=\"T_f6556_level0_row2\" class=\"row_heading level0 row2\" >6</th>\n",
       "      <td id=\"T_f6556_row2_col0\" class=\"data row2 col0\" >DIF</td>\n",
       "      <td id=\"T_f6556_row2_col1\" class=\"data row2 col1\" >882,000.00</td>\n",
       "      <td id=\"T_f6556_row2_col2\" class=\"data row2 col2\" >834,000.00</td>\n",
       "      <td id=\"T_f6556_row2_col3\" class=\"data row2 col3\" >62,640.00</td>\n",
       "      <td id=\"T_f6556_row2_col4\" class=\"data row2 col4\" >7.10%</td>\n",
       "      <td id=\"T_f6556_row2_col5\" class=\"data row2 col5\" >7.50%</td>\n",
       "    </tr>\n",
       "    <tr>\n",
       "      <th id=\"T_f6556_level0_row3\" class=\"row_heading level0 row3\" >3</th>\n",
       "      <td id=\"T_f6556_row3_col0\" class=\"data row3 col0\" >IVL</td>\n",
       "      <td id=\"T_f6556_row3_col1\" class=\"data row3 col1\" >756,000.00</td>\n",
       "      <td id=\"T_f6556_row3_col2\" class=\"data row3 col2\" >778,500.00</td>\n",
       "      <td id=\"T_f6556_row3_col3\" class=\"data row3 col3\" >15,300.00</td>\n",
       "      <td id=\"T_f6556_row3_col4\" class=\"data row3 col4\" >2.00%</td>\n",
       "      <td id=\"T_f6556_row3_col5\" class=\"data row3 col5\" >2.00%</td>\n",
       "    </tr>\n",
       "    <tr>\n",
       "      <th id=\"T_f6556_level0_row4\" class=\"row_heading level0 row4\" >0</th>\n",
       "      <td id=\"T_f6556_row4_col0\" class=\"data row4 col0\" >STA</td>\n",
       "      <td id=\"T_f6556_row4_col1\" class=\"data row4 col1\" >695,000.00</td>\n",
       "      <td id=\"T_f6556_row4_col2\" class=\"data row4 col2\" >620,000.00</td>\n",
       "      <td id=\"T_f6556_row4_col3\" class=\"data row4 col3\" >105,000.00</td>\n",
       "      <td id=\"T_f6556_row4_col4\" class=\"data row4 col4\" >15.10%</td>\n",
       "      <td id=\"T_f6556_row4_col5\" class=\"data row4 col5\" >16.90%</td>\n",
       "    </tr>\n",
       "  </tbody>\n",
       "</table>\n"
      ],
      "text/plain": [
       "<pandas.io.formats.style.Styler at 0x13c21efe040>"
      ]
     },
     "execution_count": 11,
     "metadata": {},
     "output_type": "execute_result"
    }
   ],
   "source": [
    "df_buy_price.nlargest(5, 'cost')[['name','cost','amount','div_amt','cost_pct','mkt_pct']].style.format(format_dict)"
   ]
  },
  {
   "cell_type": "code",
   "execution_count": 13,
   "metadata": {},
   "outputs": [
    {
     "data": {
      "text/html": [
       "<style type=\"text/css\">\n",
       "</style>\n",
       "<table id=\"T_6869d_\">\n",
       "  <thead>\n",
       "    <tr>\n",
       "      <th class=\"blank level0\" >&nbsp;</th>\n",
       "      <th class=\"col_heading level0 col0\" >name</th>\n",
       "      <th class=\"col_heading level0 col1\" >cost</th>\n",
       "      <th class=\"col_heading level0 col2\" >amount</th>\n",
       "      <th class=\"col_heading level0 col3\" >div_amt</th>\n",
       "      <th class=\"col_heading level0 col4\" >cost_pct</th>\n",
       "      <th class=\"col_heading level0 col5\" >mkt_pct</th>\n",
       "    </tr>\n",
       "  </thead>\n",
       "  <tbody>\n",
       "    <tr>\n",
       "      <th id=\"T_6869d_level0_row0\" class=\"row_heading level0 row0\" >17</th>\n",
       "      <td id=\"T_6869d_row0_col0\" class=\"data row0 col0\" >SIS</td>\n",
       "      <td id=\"T_6869d_row0_col1\" class=\"data row0 col1\" >56,250.00</td>\n",
       "      <td id=\"T_6869d_row0_col2\" class=\"data row0 col2\" >66,000.00</td>\n",
       "      <td id=\"T_6869d_row0_col3\" class=\"data row0 col3\" >1,500.00</td>\n",
       "      <td id=\"T_6869d_row0_col4\" class=\"data row0 col4\" >2.70%</td>\n",
       "      <td id=\"T_6869d_row0_col5\" class=\"data row0 col5\" >2.30%</td>\n",
       "    </tr>\n",
       "    <tr>\n",
       "      <th id=\"T_6869d_level0_row1\" class=\"row_heading level0 row1\" >26</th>\n",
       "      <td id=\"T_6869d_row1_col0\" class=\"data row1 col0\" >IMH</td>\n",
       "      <td id=\"T_6869d_row1_col1\" class=\"data row1 col1\" >66,000.00</td>\n",
       "      <td id=\"T_6869d_row1_col2\" class=\"data row1 col2\" >75,600.00</td>\n",
       "      <td id=\"T_6869d_row1_col3\" class=\"data row1 col3\" >nan</td>\n",
       "      <td id=\"T_6869d_row1_col4\" class=\"data row1 col4\" >nan%</td>\n",
       "      <td id=\"T_6869d_row1_col5\" class=\"data row1 col5\" >nan%</td>\n",
       "    </tr>\n",
       "    <tr>\n",
       "      <th id=\"T_6869d_level0_row2\" class=\"row_heading level0 row2\" >23</th>\n",
       "      <td id=\"T_6869d_row2_col0\" class=\"data row2 col0\" >TSTH</td>\n",
       "      <td id=\"T_6869d_row2_col1\" class=\"data row2 col1\" >112,500.00</td>\n",
       "      <td id=\"T_6869d_row2_col2\" class=\"data row2 col2\" >109,500.00</td>\n",
       "      <td id=\"T_6869d_row2_col3\" class=\"data row2 col3\" >nan</td>\n",
       "      <td id=\"T_6869d_row2_col4\" class=\"data row2 col4\" >nan%</td>\n",
       "      <td id=\"T_6869d_row2_col5\" class=\"data row2 col5\" >nan%</td>\n",
       "    </tr>\n",
       "    <tr>\n",
       "      <th id=\"T_6869d_level0_row3\" class=\"row_heading level0 row3\" >27</th>\n",
       "      <td id=\"T_6869d_row3_col0\" class=\"data row3 col0\" >DCC</td>\n",
       "      <td id=\"T_6869d_row3_col1\" class=\"data row3 col1\" >116,000.00</td>\n",
       "      <td id=\"T_6869d_row3_col2\" class=\"data row3 col2\" >113,600.00</td>\n",
       "      <td id=\"T_6869d_row3_col3\" class=\"data row3 col3\" >7,360.00</td>\n",
       "      <td id=\"T_6869d_row3_col4\" class=\"data row3 col4\" >6.30%</td>\n",
       "      <td id=\"T_6869d_row3_col5\" class=\"data row3 col5\" >6.50%</td>\n",
       "    </tr>\n",
       "    <tr>\n",
       "      <th id=\"T_6869d_level0_row4\" class=\"row_heading level0 row4\" >31</th>\n",
       "      <td id=\"T_6869d_row4_col0\" class=\"data row4 col0\" >RJH</td>\n",
       "      <td id=\"T_6869d_row4_col1\" class=\"data row4 col1\" >148,500.00</td>\n",
       "      <td id=\"T_6869d_row4_col2\" class=\"data row4 col2\" >147,375.00</td>\n",
       "      <td id=\"T_6869d_row4_col3\" class=\"data row4 col3\" >7,650.00</td>\n",
       "      <td id=\"T_6869d_row4_col4\" class=\"data row4 col4\" >5.20%</td>\n",
       "      <td id=\"T_6869d_row4_col5\" class=\"data row4 col5\" >5.20%</td>\n",
       "    </tr>\n",
       "  </tbody>\n",
       "</table>\n"
      ],
      "text/plain": [
       "<pandas.io.formats.style.Styler at 0x13c290a9fa0>"
      ]
     },
     "execution_count": 13,
     "metadata": {},
     "output_type": "execute_result"
    }
   ],
   "source": [
    "df_buy_price.nsmallest(5, 'cost')[['name','cost','amount','div_amt','cost_pct','mkt_pct']].style.format(format_dict)"
   ]
  },
  {
   "cell_type": "code",
   "execution_count": 15,
   "metadata": {},
   "outputs": [],
   "source": [
    "file_name = 'buy-div-price.csv'\n",
    "data_file = data_path + file_name\n",
    "output_file = csv_path + file_name\n",
    "box_file = box_path + file_name\n",
    "\n",
    "df_buy_price.sort_values(['period','name'],ascending=[True,True]).to_csv(output_file)\n",
    "df_buy_price.sort_values(['period','name'],ascending=[True,True]).to_csv(data_file)\n",
    "df_buy_price.sort_values(['period','name'],ascending=[True,True]).to_csv(box_file)"
   ]
  },
  {
   "cell_type": "markdown",
   "metadata": {},
   "source": [
    "### Short term stocks"
   ]
  },
  {
   "cell_type": "code",
   "execution_count": 16,
   "metadata": {
    "scrolled": true
   },
   "outputs": [
    {
     "data": {
      "text/html": [
       "<style type=\"text/css\">\n",
       "</style>\n",
       "<table id=\"T_2be74_\">\n",
       "  <thead>\n",
       "    <tr>\n",
       "      <th class=\"blank level0\" >&nbsp;</th>\n",
       "      <th class=\"col_heading level0 col0\" >name</th>\n",
       "      <th class=\"col_heading level0 col1\" >shares</th>\n",
       "      <th class=\"col_heading level0 col2\" >unit_cost</th>\n",
       "      <th class=\"col_heading level0 col3\" >cost</th>\n",
       "      <th class=\"col_heading level0 col4\" >dividend</th>\n",
       "      <th class=\"col_heading level0 col5\" >div_amt</th>\n",
       "      <th class=\"col_heading level0 col6\" >cost_pct</th>\n",
       "      <th class=\"col_heading level0 col7\" >price</th>\n",
       "      <th class=\"col_heading level0 col8\" >amount</th>\n",
       "      <th class=\"col_heading level0 col9\" >mkt_pct</th>\n",
       "      <th class=\"col_heading level0 col10\" >profit</th>\n",
       "      <th class=\"col_heading level0 col11\" >pft_pct</th>\n",
       "      <th class=\"col_heading level0 col12\" >period</th>\n",
       "    </tr>\n",
       "  </thead>\n",
       "  <tbody>\n",
       "    <tr>\n",
       "      <th id=\"T_2be74_level0_row0\" class=\"row_heading level0 row0\" >25</th>\n",
       "      <td id=\"T_2be74_row0_col0\" class=\"data row0 col0\" >KBANK</td>\n",
       "      <td id=\"T_2be74_row0_col1\" class=\"data row0 col1\" >2,400</td>\n",
       "      <td id=\"T_2be74_row0_col2\" class=\"data row0 col2\" >136.50</td>\n",
       "      <td id=\"T_2be74_row0_col3\" class=\"data row0 col3\" >327,600.00</td>\n",
       "      <td id=\"T_2be74_row0_col4\" class=\"data row0 col4\" >3.00</td>\n",
       "      <td id=\"T_2be74_row0_col5\" class=\"data row0 col5\" >7,200.00</td>\n",
       "      <td id=\"T_2be74_row0_col6\" class=\"data row0 col6\" >2.20%</td>\n",
       "      <td id=\"T_2be74_row0_col7\" class=\"data row0 col7\" >142.00</td>\n",
       "      <td id=\"T_2be74_row0_col8\" class=\"data row0 col8\" >340,800.00</td>\n",
       "      <td id=\"T_2be74_row0_col9\" class=\"data row0 col9\" >2.10%</td>\n",
       "      <td id=\"T_2be74_row0_col10\" class=\"data row0 col10\" >13,200.00</td>\n",
       "      <td id=\"T_2be74_row0_col11\" class=\"data row0 col11\" >4.00%</td>\n",
       "      <td id=\"T_2be74_row0_col12\" class=\"data row0 col12\" >4</td>\n",
       "    </tr>\n",
       "    <tr>\n",
       "      <th id=\"T_2be74_level0_row1\" class=\"row_heading level0 row1\" >2</th>\n",
       "      <td id=\"T_2be74_row1_col0\" class=\"data row1 col0\" >SAT</td>\n",
       "      <td id=\"T_2be74_row1_col1\" class=\"data row1 col1\" >7,500</td>\n",
       "      <td id=\"T_2be74_row1_col2\" class=\"data row1 col2\" >21.10</td>\n",
       "      <td id=\"T_2be74_row1_col3\" class=\"data row1 col3\" >158,250.00</td>\n",
       "      <td id=\"T_2be74_row1_col4\" class=\"data row1 col4\" >0.88</td>\n",
       "      <td id=\"T_2be74_row1_col5\" class=\"data row1 col5\" >6,600.00</td>\n",
       "      <td id=\"T_2be74_row1_col6\" class=\"data row1 col6\" >4.20%</td>\n",
       "      <td id=\"T_2be74_row1_col7\" class=\"data row1 col7\" >21.80</td>\n",
       "      <td id=\"T_2be74_row1_col8\" class=\"data row1 col8\" >163,500.00</td>\n",
       "      <td id=\"T_2be74_row1_col9\" class=\"data row1 col9\" >4.00%</td>\n",
       "      <td id=\"T_2be74_row1_col10\" class=\"data row1 col10\" >5,250.00</td>\n",
       "      <td id=\"T_2be74_row1_col11\" class=\"data row1 col11\" >3.30%</td>\n",
       "      <td id=\"T_2be74_row1_col12\" class=\"data row1 col12\" >4</td>\n",
       "    </tr>\n",
       "    <tr>\n",
       "      <th id=\"T_2be74_level0_row2\" class=\"row_heading level0 row2\" >3</th>\n",
       "      <td id=\"T_2be74_row2_col0\" class=\"data row2 col0\" >IVL</td>\n",
       "      <td id=\"T_2be74_row2_col1\" class=\"data row2 col1\" >18,000</td>\n",
       "      <td id=\"T_2be74_row2_col2\" class=\"data row2 col2\" >42.00</td>\n",
       "      <td id=\"T_2be74_row2_col3\" class=\"data row2 col3\" >756,000.00</td>\n",
       "      <td id=\"T_2be74_row2_col4\" class=\"data row2 col4\" >0.85</td>\n",
       "      <td id=\"T_2be74_row2_col5\" class=\"data row2 col5\" >15,300.00</td>\n",
       "      <td id=\"T_2be74_row2_col6\" class=\"data row2 col6\" >2.00%</td>\n",
       "      <td id=\"T_2be74_row2_col7\" class=\"data row2 col7\" >43.25</td>\n",
       "      <td id=\"T_2be74_row2_col8\" class=\"data row2 col8\" >778,500.00</td>\n",
       "      <td id=\"T_2be74_row2_col9\" class=\"data row2 col9\" >2.00%</td>\n",
       "      <td id=\"T_2be74_row2_col10\" class=\"data row2 col10\" >22,500.00</td>\n",
       "      <td id=\"T_2be74_row2_col11\" class=\"data row2 col11\" >3.00%</td>\n",
       "      <td id=\"T_2be74_row2_col12\" class=\"data row2 col12\" >4</td>\n",
       "    </tr>\n",
       "    <tr>\n",
       "      <th id=\"T_2be74_level0_row3\" class=\"row_heading level0 row3\" >28</th>\n",
       "      <td id=\"T_2be74_row3_col0\" class=\"data row3 col0\" >BGRIM</td>\n",
       "      <td id=\"T_2be74_row3_col1\" class=\"data row3 col1\" >9,000</td>\n",
       "      <td id=\"T_2be74_row3_col2\" class=\"data row3 col2\" >40.00</td>\n",
       "      <td id=\"T_2be74_row3_col3\" class=\"data row3 col3\" >360,000.00</td>\n",
       "      <td id=\"T_2be74_row3_col4\" class=\"data row3 col4\" >0.45</td>\n",
       "      <td id=\"T_2be74_row3_col5\" class=\"data row3 col5\" >4,050.00</td>\n",
       "      <td id=\"T_2be74_row3_col6\" class=\"data row3 col6\" >1.10%</td>\n",
       "      <td id=\"T_2be74_row3_col7\" class=\"data row3 col7\" >40.50</td>\n",
       "      <td id=\"T_2be74_row3_col8\" class=\"data row3 col8\" >364,500.00</td>\n",
       "      <td id=\"T_2be74_row3_col9\" class=\"data row3 col9\" >1.10%</td>\n",
       "      <td id=\"T_2be74_row3_col10\" class=\"data row3 col10\" >4,500.00</td>\n",
       "      <td id=\"T_2be74_row3_col11\" class=\"data row3 col11\" >1.30%</td>\n",
       "      <td id=\"T_2be74_row3_col12\" class=\"data row3 col12\" >4</td>\n",
       "    </tr>\n",
       "    <tr>\n",
       "      <th id=\"T_2be74_level0_row4\" class=\"row_heading level0 row4\" >31</th>\n",
       "      <td id=\"T_2be74_row4_col0\" class=\"data row4 col0\" >RJH</td>\n",
       "      <td id=\"T_2be74_row4_col1\" class=\"data row4 col1\" >4,500</td>\n",
       "      <td id=\"T_2be74_row4_col2\" class=\"data row4 col2\" >33.00</td>\n",
       "      <td id=\"T_2be74_row4_col3\" class=\"data row4 col3\" >148,500.00</td>\n",
       "      <td id=\"T_2be74_row4_col4\" class=\"data row4 col4\" >1.70</td>\n",
       "      <td id=\"T_2be74_row4_col5\" class=\"data row4 col5\" >7,650.00</td>\n",
       "      <td id=\"T_2be74_row4_col6\" class=\"data row4 col6\" >5.20%</td>\n",
       "      <td id=\"T_2be74_row4_col7\" class=\"data row4 col7\" >32.75</td>\n",
       "      <td id=\"T_2be74_row4_col8\" class=\"data row4 col8\" >147,375.00</td>\n",
       "      <td id=\"T_2be74_row4_col9\" class=\"data row4 col9\" >5.20%</td>\n",
       "      <td id=\"T_2be74_row4_col10\" class=\"data row4 col10\" >-1,125.00</td>\n",
       "      <td id=\"T_2be74_row4_col11\" class=\"data row4 col11\" >-0.80%</td>\n",
       "      <td id=\"T_2be74_row4_col12\" class=\"data row4 col12\" >4</td>\n",
       "    </tr>\n",
       "    <tr>\n",
       "      <th id=\"T_2be74_level0_row5\" class=\"row_heading level0 row5\" >10</th>\n",
       "      <td id=\"T_2be74_row5_col0\" class=\"data row5 col0\" >TOP</td>\n",
       "      <td id=\"T_2be74_row5_col1\" class=\"data row5 col1\" >3,000</td>\n",
       "      <td id=\"T_2be74_row5_col2\" class=\"data row5 col2\" >50.00</td>\n",
       "      <td id=\"T_2be74_row5_col3\" class=\"data row5 col3\" >150,000.00</td>\n",
       "      <td id=\"T_2be74_row5_col4\" class=\"data row5 col4\" >1.30</td>\n",
       "      <td id=\"T_2be74_row5_col5\" class=\"data row5 col5\" >3,900.00</td>\n",
       "      <td id=\"T_2be74_row5_col6\" class=\"data row5 col6\" >2.60%</td>\n",
       "      <td id=\"T_2be74_row5_col7\" class=\"data row5 col7\" >49.50</td>\n",
       "      <td id=\"T_2be74_row5_col8\" class=\"data row5 col8\" >148,500.00</td>\n",
       "      <td id=\"T_2be74_row5_col9\" class=\"data row5 col9\" >2.60%</td>\n",
       "      <td id=\"T_2be74_row5_col10\" class=\"data row5 col10\" >-1,500.00</td>\n",
       "      <td id=\"T_2be74_row5_col11\" class=\"data row5 col11\" >-1.00%</td>\n",
       "      <td id=\"T_2be74_row5_col12\" class=\"data row5 col12\" >4</td>\n",
       "    </tr>\n",
       "    <tr>\n",
       "      <th id=\"T_2be74_level0_row6\" class=\"row_heading level0 row6\" >27</th>\n",
       "      <td id=\"T_2be74_row6_col0\" class=\"data row6 col0\" >DCC</td>\n",
       "      <td id=\"T_2be74_row6_col1\" class=\"data row6 col1\" >40,000</td>\n",
       "      <td id=\"T_2be74_row6_col2\" class=\"data row6 col2\" >2.90</td>\n",
       "      <td id=\"T_2be74_row6_col3\" class=\"data row6 col3\" >116,000.00</td>\n",
       "      <td id=\"T_2be74_row6_col4\" class=\"data row6 col4\" >0.18</td>\n",
       "      <td id=\"T_2be74_row6_col5\" class=\"data row6 col5\" >7,360.00</td>\n",
       "      <td id=\"T_2be74_row6_col6\" class=\"data row6 col6\" >6.30%</td>\n",
       "      <td id=\"T_2be74_row6_col7\" class=\"data row6 col7\" >2.84</td>\n",
       "      <td id=\"T_2be74_row6_col8\" class=\"data row6 col8\" >113,600.00</td>\n",
       "      <td id=\"T_2be74_row6_col9\" class=\"data row6 col9\" >6.50%</td>\n",
       "      <td id=\"T_2be74_row6_col10\" class=\"data row6 col10\" >-2,400.00</td>\n",
       "      <td id=\"T_2be74_row6_col11\" class=\"data row6 col11\" >-2.10%</td>\n",
       "      <td id=\"T_2be74_row6_col12\" class=\"data row6 col12\" >4</td>\n",
       "    </tr>\n",
       "    <tr>\n",
       "      <th id=\"T_2be74_level0_row7\" class=\"row_heading level0 row7\" >29</th>\n",
       "      <td id=\"T_2be74_row7_col0\" class=\"data row7 col0\" >SCC</td>\n",
       "      <td id=\"T_2be74_row7_col1\" class=\"data row7 col1\" >600</td>\n",
       "      <td id=\"T_2be74_row7_col2\" class=\"data row7 col2\" >405.00</td>\n",
       "      <td id=\"T_2be74_row7_col3\" class=\"data row7 col3\" >243,000.00</td>\n",
       "      <td id=\"T_2be74_row7_col4\" class=\"data row7 col4\" >10.00</td>\n",
       "      <td id=\"T_2be74_row7_col5\" class=\"data row7 col5\" >5,999.94</td>\n",
       "      <td id=\"T_2be74_row7_col6\" class=\"data row7 col6\" >2.50%</td>\n",
       "      <td id=\"T_2be74_row7_col7\" class=\"data row7 col7\" >386.00</td>\n",
       "      <td id=\"T_2be74_row7_col8\" class=\"data row7 col8\" >231,600.00</td>\n",
       "      <td id=\"T_2be74_row7_col9\" class=\"data row7 col9\" >2.60%</td>\n",
       "      <td id=\"T_2be74_row7_col10\" class=\"data row7 col10\" >-11,400.00</td>\n",
       "      <td id=\"T_2be74_row7_col11\" class=\"data row7 col11\" >-4.70%</td>\n",
       "      <td id=\"T_2be74_row7_col12\" class=\"data row7 col12\" >4</td>\n",
       "    </tr>\n",
       "    <tr>\n",
       "      <th id=\"T_2be74_level0_row8\" class=\"row_heading level0 row8\" >22</th>\n",
       "      <td id=\"T_2be74_row8_col0\" class=\"data row8 col0\" >NER</td>\n",
       "      <td id=\"T_2be74_row8_col1\" class=\"data row8 col1\" >36,000</td>\n",
       "      <td id=\"T_2be74_row8_col2\" class=\"data row8 col2\" >7.45</td>\n",
       "      <td id=\"T_2be74_row8_col3\" class=\"data row8 col3\" >268,200.00</td>\n",
       "      <td id=\"T_2be74_row8_col4\" class=\"data row8 col4\" >0.22</td>\n",
       "      <td id=\"T_2be74_row8_col5\" class=\"data row8 col5\" >7,920.00</td>\n",
       "      <td id=\"T_2be74_row8_col6\" class=\"data row8 col6\" >3.00%</td>\n",
       "      <td id=\"T_2be74_row8_col7\" class=\"data row8 col7\" >7.00</td>\n",
       "      <td id=\"T_2be74_row8_col8\" class=\"data row8 col8\" >252,000.00</td>\n",
       "      <td id=\"T_2be74_row8_col9\" class=\"data row8 col9\" >3.10%</td>\n",
       "      <td id=\"T_2be74_row8_col10\" class=\"data row8 col10\" >-16,200.00</td>\n",
       "      <td id=\"T_2be74_row8_col11\" class=\"data row8 col11\" >-6.00%</td>\n",
       "      <td id=\"T_2be74_row8_col12\" class=\"data row8 col12\" >4</td>\n",
       "    </tr>\n",
       "    <tr>\n",
       "      <th id=\"T_2be74_level0_row9\" class=\"row_heading level0 row9\" >19</th>\n",
       "      <td id=\"T_2be74_row9_col0\" class=\"data row9 col0\" >TU</td>\n",
       "      <td id=\"T_2be74_row9_col1\" class=\"data row9 col1\" >18,000</td>\n",
       "      <td id=\"T_2be74_row9_col2\" class=\"data row9 col2\" >20.80</td>\n",
       "      <td id=\"T_2be74_row9_col3\" class=\"data row9 col3\" >374,400.00</td>\n",
       "      <td id=\"T_2be74_row9_col4\" class=\"data row9 col4\" >0.85</td>\n",
       "      <td id=\"T_2be74_row9_col5\" class=\"data row9 col5\" >15,300.00</td>\n",
       "      <td id=\"T_2be74_row9_col6\" class=\"data row9 col6\" >4.10%</td>\n",
       "      <td id=\"T_2be74_row9_col7\" class=\"data row9 col7\" >19.50</td>\n",
       "      <td id=\"T_2be74_row9_col8\" class=\"data row9 col8\" >351,000.00</td>\n",
       "      <td id=\"T_2be74_row9_col9\" class=\"data row9 col9\" >4.40%</td>\n",
       "      <td id=\"T_2be74_row9_col10\" class=\"data row9 col10\" >-23,400.00</td>\n",
       "      <td id=\"T_2be74_row9_col11\" class=\"data row9 col11\" >-6.30%</td>\n",
       "      <td id=\"T_2be74_row9_col12\" class=\"data row9 col12\" >4</td>\n",
       "    </tr>\n",
       "  </tbody>\n",
       "</table>\n"
      ],
      "text/plain": [
       "<pandas.io.formats.style.Styler at 0x13c29073f10>"
      ]
     },
     "execution_count": 16,
     "metadata": {},
     "output_type": "execute_result"
    }
   ],
   "source": [
    "short_term = df_buy_price.period == '4'\n",
    "df_buy_price.loc[short_term].sort_values(['pft_pct'],ascending=[False]).style.format(format_dict)"
   ]
  },
  {
   "cell_type": "code",
   "execution_count": 17,
   "metadata": {},
   "outputs": [
    {
     "data": {
      "text/plain": [
       "(2901950.0, -10575.0, -0.36, 10)"
      ]
     },
     "execution_count": 17,
     "metadata": {},
     "output_type": "execute_result"
    }
   ],
   "source": [
    "p4cost = df_buy_price.loc[short_term].cost.sum()\n",
    "p4profit = df_buy_price.loc[short_term].profit.sum()\n",
    "p4pct = round(p4profit/p4cost*100, 2)\n",
    "p4cost, p4profit, p4pct, df_buy_price.loc[short_term].shape[0]"
   ]
  },
  {
   "cell_type": "markdown",
   "metadata": {},
   "source": [
    "### Long term stocks"
   ]
  },
  {
   "cell_type": "code",
   "execution_count": 18,
   "metadata": {},
   "outputs": [
    {
     "data": {
      "text/plain": [
       "(13, 13)"
      ]
     },
     "execution_count": 18,
     "metadata": {},
     "output_type": "execute_result"
    }
   ],
   "source": [
    "long_term = df_buy_price.period == '3'\n",
    "df_buy_price[long_term].sort_values(['pft_pct'],ascending=[False]).shape"
   ]
  },
  {
   "cell_type": "code",
   "execution_count": 19,
   "metadata": {},
   "outputs": [
    {
     "data": {
      "text/html": [
       "<style type=\"text/css\">\n",
       "</style>\n",
       "<table id=\"T_e2aba_\">\n",
       "  <thead>\n",
       "    <tr>\n",
       "      <th class=\"blank level0\" >&nbsp;</th>\n",
       "      <th class=\"col_heading level0 col0\" >name</th>\n",
       "      <th class=\"col_heading level0 col1\" >cost</th>\n",
       "      <th class=\"col_heading level0 col2\" >amount</th>\n",
       "      <th class=\"col_heading level0 col3\" >profit</th>\n",
       "      <th class=\"col_heading level0 col4\" >pft_pct</th>\n",
       "    </tr>\n",
       "  </thead>\n",
       "  <tbody>\n",
       "    <tr>\n",
       "      <th id=\"T_e2aba_level0_row0\" class=\"row_heading level0 row0\" >17</th>\n",
       "      <td id=\"T_e2aba_row0_col0\" class=\"data row0 col0\" >SIS</td>\n",
       "      <td id=\"T_e2aba_row0_col1\" class=\"data row0 col1\" >56,250.00</td>\n",
       "      <td id=\"T_e2aba_row0_col2\" class=\"data row0 col2\" >66,000.00</td>\n",
       "      <td id=\"T_e2aba_row0_col3\" class=\"data row0 col3\" >9,750.00</td>\n",
       "      <td id=\"T_e2aba_row0_col4\" class=\"data row0 col4\" >17.30%</td>\n",
       "    </tr>\n",
       "    <tr>\n",
       "      <th id=\"T_e2aba_level0_row1\" class=\"row_heading level0 row1\" >26</th>\n",
       "      <td id=\"T_e2aba_row1_col0\" class=\"data row1 col0\" >IMH</td>\n",
       "      <td id=\"T_e2aba_row1_col1\" class=\"data row1 col1\" >66,000.00</td>\n",
       "      <td id=\"T_e2aba_row1_col2\" class=\"data row1 col2\" >75,600.00</td>\n",
       "      <td id=\"T_e2aba_row1_col3\" class=\"data row1 col3\" >9,600.00</td>\n",
       "      <td id=\"T_e2aba_row1_col4\" class=\"data row1 col4\" >14.50%</td>\n",
       "    </tr>\n",
       "    <tr>\n",
       "      <th id=\"T_e2aba_level0_row2\" class=\"row_heading level0 row2\" >30</th>\n",
       "      <td id=\"T_e2aba_row2_col0\" class=\"data row2 col0\" >RCL</td>\n",
       "      <td id=\"T_e2aba_row2_col1\" class=\"data row2 col1\" >193,500.00</td>\n",
       "      <td id=\"T_e2aba_row2_col2\" class=\"data row2 col2\" >221,625.00</td>\n",
       "      <td id=\"T_e2aba_row2_col3\" class=\"data row2 col3\" >28,125.00</td>\n",
       "      <td id=\"T_e2aba_row2_col4\" class=\"data row2 col4\" >14.50%</td>\n",
       "    </tr>\n",
       "    <tr>\n",
       "      <th id=\"T_e2aba_level0_row3\" class=\"row_heading level0 row3\" >4</th>\n",
       "      <td id=\"T_e2aba_row3_col0\" class=\"data row3 col0\" >KCE</td>\n",
       "      <td id=\"T_e2aba_row3_col1\" class=\"data row3 col1\" >348,000.00</td>\n",
       "      <td id=\"T_e2aba_row3_col2\" class=\"data row3 col2\" >352,000.00</td>\n",
       "      <td id=\"T_e2aba_row3_col3\" class=\"data row3 col3\" >4,000.00</td>\n",
       "      <td id=\"T_e2aba_row3_col4\" class=\"data row3 col4\" >1.10%</td>\n",
       "    </tr>\n",
       "    <tr>\n",
       "      <th id=\"T_e2aba_level0_row4\" class=\"row_heading level0 row4\" >8</th>\n",
       "      <td id=\"T_e2aba_row4_col0\" class=\"data row4 col0\" >GLOBAL</td>\n",
       "      <td id=\"T_e2aba_row4_col1\" class=\"data row4 col1\" >150,000.00</td>\n",
       "      <td id=\"T_e2aba_row4_col2\" class=\"data row4 col2\" >150,000.00</td>\n",
       "      <td id=\"T_e2aba_row4_col3\" class=\"data row4 col3\" >0.00</td>\n",
       "      <td id=\"T_e2aba_row4_col4\" class=\"data row4 col4\" >0.00%</td>\n",
       "    </tr>\n",
       "  </tbody>\n",
       "</table>\n"
      ],
      "text/plain": [
       "<pandas.io.formats.style.Styler at 0x13c243188e0>"
      ]
     },
     "execution_count": 19,
     "metadata": {},
     "output_type": "execute_result"
    }
   ],
   "source": [
    "df_buy_price[long_term].nlargest(5, 'pft_pct')[['name','cost','amount','profit','pft_pct']].style.format(format_dict)"
   ]
  },
  {
   "cell_type": "code",
   "execution_count": 20,
   "metadata": {},
   "outputs": [
    {
     "data": {
      "text/plain": [
       "(2405550.0, -4675.0, -0.19, 13)"
      ]
     },
     "execution_count": 20,
     "metadata": {},
     "output_type": "execute_result"
    }
   ],
   "source": [
    "p3cost = df_buy_price.loc[long_term].cost.sum()\n",
    "p3profit = df_buy_price.loc[long_term].profit.sum()\n",
    "p3pct = round(p3profit/p3cost*100, 2)\n",
    "p3cost, p3profit, p3pct,df_buy_price.loc[long_term].shape[0]"
   ]
  },
  {
   "cell_type": "markdown",
   "metadata": {},
   "source": [
    "### High dividend stocks"
   ]
  },
  {
   "cell_type": "code",
   "execution_count": 21,
   "metadata": {},
   "outputs": [
    {
     "data": {
      "text/html": [
       "<div>\n",
       "<style scoped>\n",
       "    .dataframe tbody tr th:only-of-type {\n",
       "        vertical-align: middle;\n",
       "    }\n",
       "\n",
       "    .dataframe tbody tr th {\n",
       "        vertical-align: top;\n",
       "    }\n",
       "\n",
       "    .dataframe thead th {\n",
       "        text-align: right;\n",
       "    }\n",
       "</style>\n",
       "<table border=\"1\" class=\"dataframe\">\n",
       "  <thead>\n",
       "    <tr style=\"text-align: right;\">\n",
       "      <th></th>\n",
       "      <th>name</th>\n",
       "      <th>shares</th>\n",
       "      <th>unit_cost</th>\n",
       "      <th>cost</th>\n",
       "      <th>dividend</th>\n",
       "      <th>div_amt</th>\n",
       "      <th>cost_pct</th>\n",
       "      <th>price</th>\n",
       "      <th>amount</th>\n",
       "      <th>mkt_pct</th>\n",
       "      <th>profit</th>\n",
       "      <th>pft_pct</th>\n",
       "      <th>period</th>\n",
       "    </tr>\n",
       "  </thead>\n",
       "  <tbody>\n",
       "    <tr>\n",
       "      <th>0</th>\n",
       "      <td>STA</td>\n",
       "      <td>20000</td>\n",
       "      <td>34.75</td>\n",
       "      <td>695000.0</td>\n",
       "      <td>5.2500</td>\n",
       "      <td>105000.0</td>\n",
       "      <td>15.1</td>\n",
       "      <td>31.00</td>\n",
       "      <td>620000.0</td>\n",
       "      <td>16.9</td>\n",
       "      <td>-75000.0</td>\n",
       "      <td>-10.8</td>\n",
       "      <td>2</td>\n",
       "    </tr>\n",
       "    <tr>\n",
       "      <th>21</th>\n",
       "      <td>NOBLE</td>\n",
       "      <td>63000</td>\n",
       "      <td>7.00</td>\n",
       "      <td>441000.0</td>\n",
       "      <td>0.8500</td>\n",
       "      <td>53550.0</td>\n",
       "      <td>12.1</td>\n",
       "      <td>6.15</td>\n",
       "      <td>387450.0</td>\n",
       "      <td>13.8</td>\n",
       "      <td>-53550.0</td>\n",
       "      <td>-12.1</td>\n",
       "      <td>2</td>\n",
       "    </tr>\n",
       "    <tr>\n",
       "      <th>7</th>\n",
       "      <td>TMT</td>\n",
       "      <td>27000</td>\n",
       "      <td>10.50</td>\n",
       "      <td>283500.0</td>\n",
       "      <td>1.1000</td>\n",
       "      <td>29700.0</td>\n",
       "      <td>10.5</td>\n",
       "      <td>10.30</td>\n",
       "      <td>278100.0</td>\n",
       "      <td>10.7</td>\n",
       "      <td>-5400.0</td>\n",
       "      <td>-1.9</td>\n",
       "      <td>2</td>\n",
       "    </tr>\n",
       "    <tr>\n",
       "      <th>5</th>\n",
       "      <td>MCS</td>\n",
       "      <td>60000</td>\n",
       "      <td>16.70</td>\n",
       "      <td>1002000.0</td>\n",
       "      <td>1.3700</td>\n",
       "      <td>82200.0</td>\n",
       "      <td>8.2</td>\n",
       "      <td>14.80</td>\n",
       "      <td>888000.0</td>\n",
       "      <td>9.3</td>\n",
       "      <td>-114000.0</td>\n",
       "      <td>-11.4</td>\n",
       "      <td>2</td>\n",
       "    </tr>\n",
       "    <tr>\n",
       "      <th>12</th>\n",
       "      <td>JASIF</td>\n",
       "      <td>100000</td>\n",
       "      <td>10.00</td>\n",
       "      <td>1000000.0</td>\n",
       "      <td>0.9500</td>\n",
       "      <td>95000.0</td>\n",
       "      <td>9.5</td>\n",
       "      <td>10.30</td>\n",
       "      <td>1030000.0</td>\n",
       "      <td>9.2</td>\n",
       "      <td>30000.0</td>\n",
       "      <td>3.0</td>\n",
       "      <td>2</td>\n",
       "    </tr>\n",
       "    <tr>\n",
       "      <th>16</th>\n",
       "      <td>HREIT</td>\n",
       "      <td>30000</td>\n",
       "      <td>8.95</td>\n",
       "      <td>268500.0</td>\n",
       "      <td>0.6932</td>\n",
       "      <td>20796.0</td>\n",
       "      <td>7.7</td>\n",
       "      <td>9.05</td>\n",
       "      <td>271500.0</td>\n",
       "      <td>7.7</td>\n",
       "      <td>3000.0</td>\n",
       "      <td>1.1</td>\n",
       "      <td>2</td>\n",
       "    </tr>\n",
       "    <tr>\n",
       "      <th>6</th>\n",
       "      <td>DIF</td>\n",
       "      <td>60000</td>\n",
       "      <td>14.70</td>\n",
       "      <td>882000.0</td>\n",
       "      <td>1.0440</td>\n",
       "      <td>62640.0</td>\n",
       "      <td>7.1</td>\n",
       "      <td>13.90</td>\n",
       "      <td>834000.0</td>\n",
       "      <td>7.5</td>\n",
       "      <td>-48000.0</td>\n",
       "      <td>-5.4</td>\n",
       "      <td>2</td>\n",
       "    </tr>\n",
       "    <tr>\n",
       "      <th>1</th>\n",
       "      <td>RATCH</td>\n",
       "      <td>9000</td>\n",
       "      <td>45.75</td>\n",
       "      <td>411750.0</td>\n",
       "      <td>3.2500</td>\n",
       "      <td>29250.0</td>\n",
       "      <td>7.1</td>\n",
       "      <td>45.00</td>\n",
       "      <td>405000.0</td>\n",
       "      <td>7.2</td>\n",
       "      <td>-6750.0</td>\n",
       "      <td>-1.6</td>\n",
       "      <td>2</td>\n",
       "    </tr>\n",
       "    <tr>\n",
       "      <th>14</th>\n",
       "      <td>TISCO</td>\n",
       "      <td>2000</td>\n",
       "      <td>97.50</td>\n",
       "      <td>195000.0</td>\n",
       "      <td>6.3000</td>\n",
       "      <td>12600.0</td>\n",
       "      <td>6.5</td>\n",
       "      <td>96.00</td>\n",
       "      <td>192000.0</td>\n",
       "      <td>6.6</td>\n",
       "      <td>-3000.0</td>\n",
       "      <td>-1.5</td>\n",
       "      <td>2</td>\n",
       "    </tr>\n",
       "  </tbody>\n",
       "</table>\n",
       "</div>"
      ],
      "text/plain": [
       "     name  shares  unit_cost       cost  dividend   div_amt  cost_pct  price  \\\n",
       "0     STA   20000      34.75   695000.0    5.2500  105000.0      15.1  31.00   \n",
       "21  NOBLE   63000       7.00   441000.0    0.8500   53550.0      12.1   6.15   \n",
       "7     TMT   27000      10.50   283500.0    1.1000   29700.0      10.5  10.30   \n",
       "5     MCS   60000      16.70  1002000.0    1.3700   82200.0       8.2  14.80   \n",
       "12  JASIF  100000      10.00  1000000.0    0.9500   95000.0       9.5  10.30   \n",
       "16  HREIT   30000       8.95   268500.0    0.6932   20796.0       7.7   9.05   \n",
       "6     DIF   60000      14.70   882000.0    1.0440   62640.0       7.1  13.90   \n",
       "1   RATCH    9000      45.75   411750.0    3.2500   29250.0       7.1  45.00   \n",
       "14  TISCO    2000      97.50   195000.0    6.3000   12600.0       6.5  96.00   \n",
       "\n",
       "       amount  mkt_pct    profit  pft_pct period  \n",
       "0    620000.0     16.9  -75000.0    -10.8      2  \n",
       "21   387450.0     13.8  -53550.0    -12.1      2  \n",
       "7    278100.0     10.7   -5400.0     -1.9      2  \n",
       "5    888000.0      9.3 -114000.0    -11.4      2  \n",
       "12  1030000.0      9.2   30000.0      3.0      2  \n",
       "16   271500.0      7.7    3000.0      1.1      2  \n",
       "6    834000.0      7.5  -48000.0     -5.4      2  \n",
       "1    405000.0      7.2   -6750.0     -1.6      2  \n",
       "14   192000.0      6.6   -3000.0     -1.5      2  "
      ]
     },
     "execution_count": 21,
     "metadata": {},
     "output_type": "execute_result"
    }
   ],
   "source": [
    "hi_dividend = df_buy_price.period == '2'\n",
    "df_buy_price.loc[hi_dividend].sort_values(['mkt_pct'],ascending=[False])"
   ]
  },
  {
   "cell_type": "code",
   "execution_count": 22,
   "metadata": {},
   "outputs": [
    {
     "data": {
      "text/html": [
       "<style type=\"text/css\">\n",
       "</style>\n",
       "<table id=\"T_9a422_\">\n",
       "  <thead>\n",
       "    <tr>\n",
       "      <th class=\"blank level0\" >&nbsp;</th>\n",
       "      <th class=\"col_heading level0 col0\" >name</th>\n",
       "      <th class=\"col_heading level0 col1\" >cost</th>\n",
       "      <th class=\"col_heading level0 col2\" >amount</th>\n",
       "      <th class=\"col_heading level0 col3\" >div_amt</th>\n",
       "      <th class=\"col_heading level0 col4\" >cost_pct</th>\n",
       "      <th class=\"col_heading level0 col5\" >mkt_pct</th>\n",
       "    </tr>\n",
       "  </thead>\n",
       "  <tbody>\n",
       "    <tr>\n",
       "      <th id=\"T_9a422_level0_row0\" class=\"row_heading level0 row0\" >0</th>\n",
       "      <td id=\"T_9a422_row0_col0\" class=\"data row0 col0\" >STA</td>\n",
       "      <td id=\"T_9a422_row0_col1\" class=\"data row0 col1\" >695,000.00</td>\n",
       "      <td id=\"T_9a422_row0_col2\" class=\"data row0 col2\" >620,000.00</td>\n",
       "      <td id=\"T_9a422_row0_col3\" class=\"data row0 col3\" >105,000.00</td>\n",
       "      <td id=\"T_9a422_row0_col4\" class=\"data row0 col4\" >15.10%</td>\n",
       "      <td id=\"T_9a422_row0_col5\" class=\"data row0 col5\" >16.90%</td>\n",
       "    </tr>\n",
       "    <tr>\n",
       "      <th id=\"T_9a422_level0_row1\" class=\"row_heading level0 row1\" >21</th>\n",
       "      <td id=\"T_9a422_row1_col0\" class=\"data row1 col0\" >NOBLE</td>\n",
       "      <td id=\"T_9a422_row1_col1\" class=\"data row1 col1\" >441,000.00</td>\n",
       "      <td id=\"T_9a422_row1_col2\" class=\"data row1 col2\" >387,450.00</td>\n",
       "      <td id=\"T_9a422_row1_col3\" class=\"data row1 col3\" >53,550.00</td>\n",
       "      <td id=\"T_9a422_row1_col4\" class=\"data row1 col4\" >12.10%</td>\n",
       "      <td id=\"T_9a422_row1_col5\" class=\"data row1 col5\" >13.80%</td>\n",
       "    </tr>\n",
       "    <tr>\n",
       "      <th id=\"T_9a422_level0_row2\" class=\"row_heading level0 row2\" >7</th>\n",
       "      <td id=\"T_9a422_row2_col0\" class=\"data row2 col0\" >TMT</td>\n",
       "      <td id=\"T_9a422_row2_col1\" class=\"data row2 col1\" >283,500.00</td>\n",
       "      <td id=\"T_9a422_row2_col2\" class=\"data row2 col2\" >278,100.00</td>\n",
       "      <td id=\"T_9a422_row2_col3\" class=\"data row2 col3\" >29,700.00</td>\n",
       "      <td id=\"T_9a422_row2_col4\" class=\"data row2 col4\" >10.50%</td>\n",
       "      <td id=\"T_9a422_row2_col5\" class=\"data row2 col5\" >10.70%</td>\n",
       "    </tr>\n",
       "    <tr>\n",
       "      <th id=\"T_9a422_level0_row3\" class=\"row_heading level0 row3\" >5</th>\n",
       "      <td id=\"T_9a422_row3_col0\" class=\"data row3 col0\" >MCS</td>\n",
       "      <td id=\"T_9a422_row3_col1\" class=\"data row3 col1\" >1,002,000.00</td>\n",
       "      <td id=\"T_9a422_row3_col2\" class=\"data row3 col2\" >888,000.00</td>\n",
       "      <td id=\"T_9a422_row3_col3\" class=\"data row3 col3\" >82,200.00</td>\n",
       "      <td id=\"T_9a422_row3_col4\" class=\"data row3 col4\" >8.20%</td>\n",
       "      <td id=\"T_9a422_row3_col5\" class=\"data row3 col5\" >9.30%</td>\n",
       "    </tr>\n",
       "    <tr>\n",
       "      <th id=\"T_9a422_level0_row4\" class=\"row_heading level0 row4\" >12</th>\n",
       "      <td id=\"T_9a422_row4_col0\" class=\"data row4 col0\" >JASIF</td>\n",
       "      <td id=\"T_9a422_row4_col1\" class=\"data row4 col1\" >1,000,000.00</td>\n",
       "      <td id=\"T_9a422_row4_col2\" class=\"data row4 col2\" >1,030,000.00</td>\n",
       "      <td id=\"T_9a422_row4_col3\" class=\"data row4 col3\" >95,000.00</td>\n",
       "      <td id=\"T_9a422_row4_col4\" class=\"data row4 col4\" >9.50%</td>\n",
       "      <td id=\"T_9a422_row4_col5\" class=\"data row4 col5\" >9.20%</td>\n",
       "    </tr>\n",
       "  </tbody>\n",
       "</table>\n"
      ],
      "text/plain": [
       "<pandas.io.formats.style.Styler at 0x13c24318d60>"
      ]
     },
     "execution_count": 22,
     "metadata": {},
     "output_type": "execute_result"
    }
   ],
   "source": [
    "df_buy_price[hi_dividend].nlargest(5, 'mkt_pct')[['name','cost','amount','div_amt','cost_pct','mkt_pct']]\\\n",
    ".style.format(format_dict)"
   ]
  },
  {
   "cell_type": "code",
   "execution_count": 23,
   "metadata": {},
   "outputs": [
    {
     "data": {
      "text/plain": [
       "(5178750.0, -272700.0, -5.27, 490736.0, 9)"
      ]
     },
     "execution_count": 23,
     "metadata": {},
     "output_type": "execute_result"
    }
   ],
   "source": [
    "p2profit = df_buy_price.loc[hi_dividend].profit.sum()\n",
    "p2cost = df_buy_price.loc[hi_dividend].cost.sum()\n",
    "p2dividend = df_buy_price.loc[hi_dividend].div_amt.sum()\n",
    "p2yield = round(p2profit/p2cost*100,2)\n",
    "p2cost, p2profit, p2yield, p2dividend, df_buy_price.loc[hi_dividend].shape[0]"
   ]
  },
  {
   "cell_type": "markdown",
   "metadata": {},
   "source": [
    "### Disposal stocks"
   ]
  },
  {
   "cell_type": "code",
   "execution_count": 24,
   "metadata": {
    "scrolled": false
   },
   "outputs": [
    {
     "data": {
      "text/html": [
       "<style type=\"text/css\">\n",
       "</style>\n",
       "<table id=\"T_3f9de_\">\n",
       "  <thead>\n",
       "    <tr>\n",
       "      <th class=\"blank level0\" >&nbsp;</th>\n",
       "      <th class=\"col_heading level0 col0\" >name</th>\n",
       "      <th class=\"col_heading level0 col1\" >shares</th>\n",
       "      <th class=\"col_heading level0 col2\" >unit_cost</th>\n",
       "      <th class=\"col_heading level0 col3\" >cost</th>\n",
       "      <th class=\"col_heading level0 col4\" >dividend</th>\n",
       "      <th class=\"col_heading level0 col5\" >div_amt</th>\n",
       "      <th class=\"col_heading level0 col6\" >cost_pct</th>\n",
       "      <th class=\"col_heading level0 col7\" >price</th>\n",
       "      <th class=\"col_heading level0 col8\" >amount</th>\n",
       "      <th class=\"col_heading level0 col9\" >mkt_pct</th>\n",
       "      <th class=\"col_heading level0 col10\" >profit</th>\n",
       "      <th class=\"col_heading level0 col11\" >pft_pct</th>\n",
       "      <th class=\"col_heading level0 col12\" >period</th>\n",
       "    </tr>\n",
       "  </thead>\n",
       "  <tbody>\n",
       "    <tr>\n",
       "      <th id=\"T_3f9de_level0_row0\" class=\"row_heading level0 row0\" >15</th>\n",
       "      <td id=\"T_3f9de_row0_col0\" class=\"data row0 col0\" >PTTGC</td>\n",
       "      <td id=\"T_3f9de_row0_col1\" class=\"data row0 col1\" >4,400</td>\n",
       "      <td id=\"T_3f9de_row0_col2\" class=\"data row0 col2\" >66.75</td>\n",
       "      <td id=\"T_3f9de_row0_col3\" class=\"data row0 col3\" >293,700.00</td>\n",
       "      <td id=\"T_3f9de_row0_col4\" class=\"data row0 col4\" >3.00</td>\n",
       "      <td id=\"T_3f9de_row0_col5\" class=\"data row0 col5\" >13,200.00</td>\n",
       "      <td id=\"T_3f9de_row0_col6\" class=\"data row0 col6\" >4.50%</td>\n",
       "      <td id=\"T_3f9de_row0_col7\" class=\"data row0 col7\" >58.75</td>\n",
       "      <td id=\"T_3f9de_row0_col8\" class=\"data row0 col8\" >258,500.00</td>\n",
       "      <td id=\"T_3f9de_row0_col9\" class=\"data row0 col9\" >5.10%</td>\n",
       "      <td id=\"T_3f9de_row0_col10\" class=\"data row0 col10\" >-35,200.00</td>\n",
       "      <td id=\"T_3f9de_row0_col11\" class=\"data row0 col11\" >-12.00%</td>\n",
       "      <td id=\"T_3f9de_row0_col12\" class=\"data row0 col12\" >1</td>\n",
       "    </tr>\n",
       "  </tbody>\n",
       "</table>\n"
      ],
      "text/plain": [
       "<pandas.io.formats.style.Styler at 0x13c290b8c70>"
      ]
     },
     "execution_count": 24,
     "metadata": {},
     "output_type": "execute_result"
    }
   ],
   "source": [
    "disposal = df_buy_price.period == '1'\n",
    "df_buy_price.loc[disposal].sort_values(['pft_pct'],ascending=[True]).style.format(format_dict)"
   ]
  },
  {
   "cell_type": "code",
   "execution_count": 25,
   "metadata": {},
   "outputs": [
    {
     "data": {
      "text/plain": [
       "(293700.0, -35200.0, -11.99, 1)"
      ]
     },
     "execution_count": 25,
     "metadata": {},
     "output_type": "execute_result"
    }
   ],
   "source": [
    "p1cost = df_buy_price.loc[disposal].cost.sum()\n",
    "p1profit = df_buy_price.loc[disposal].profit.sum()\n",
    "p1pct = round(p1profit/p1cost*100,2)\n",
    "p1cost, p1profit, p1pct,df_buy_price.loc[disposal].shape[0]"
   ]
  },
  {
   "cell_type": "markdown",
   "metadata": {},
   "source": [
    "### Discrepancies calculation"
   ]
  },
  {
   "cell_type": "code",
   "execution_count": 24,
   "metadata": {},
   "outputs": [
    {
     "data": {
      "text/plain": [
       "(34, 11)"
      ]
     },
     "execution_count": 24,
     "metadata": {},
     "output_type": "execute_result"
    }
   ],
   "source": [
    "sql = '''\n",
    "SELECT *\n",
    "FROM buy\n",
    "WHERE active = 1'''\n",
    "df = pd.read_sql(sql, const)\n",
    "df['cost_amt'] = df.volbuy * df.price\n",
    "df.shape"
   ]
  },
  {
   "cell_type": "code",
   "execution_count": 25,
   "metadata": {},
   "outputs": [
    {
     "data": {
      "text/plain": [
       "(376, 2)"
      ]
     },
     "execution_count": 25,
     "metadata": {},
     "output_type": "execute_result"
    }
   ],
   "source": [
    "sql = '''\n",
    "SELECT name, market\n",
    "FROM stocks\n",
    "ORDER BY name'''\n",
    "my_stocks = pd.read_sql(sql, conmy)\n",
    "my_stocks.shape"
   ]
  },
  {
   "cell_type": "code",
   "execution_count": 26,
   "metadata": {},
   "outputs": [],
   "source": [
    "filters = [\n",
    "   (my_stocks.market.str.contains('SET50')),\n",
    "   (my_stocks.market.str.contains('SET100')),\n",
    "   (my_stocks.market.str.contains('mai'))    \n",
    "]\n",
    "values = [450000.0,300000.0,150000.0]"
   ]
  },
  {
   "cell_type": "code",
   "execution_count": 27,
   "metadata": {},
   "outputs": [
    {
     "data": {
      "text/html": [
       "<div>\n",
       "<style scoped>\n",
       "    .dataframe tbody tr th:only-of-type {\n",
       "        vertical-align: middle;\n",
       "    }\n",
       "\n",
       "    .dataframe tbody tr th {\n",
       "        vertical-align: top;\n",
       "    }\n",
       "\n",
       "    .dataframe thead th {\n",
       "        text-align: right;\n",
       "    }\n",
       "</style>\n",
       "<table border=\"1\" class=\"dataframe\">\n",
       "  <thead>\n",
       "    <tr style=\"text-align: right;\">\n",
       "      <th></th>\n",
       "      <th>name</th>\n",
       "      <th>market</th>\n",
       "      <th>base</th>\n",
       "    </tr>\n",
       "  </thead>\n",
       "  <tbody>\n",
       "    <tr>\n",
       "      <th>0</th>\n",
       "      <td>2S</td>\n",
       "      <td>SET</td>\n",
       "      <td>150000.0</td>\n",
       "    </tr>\n",
       "    <tr>\n",
       "      <th>1</th>\n",
       "      <td>AAV</td>\n",
       "      <td>SET100 / SETTHSI</td>\n",
       "      <td>300000.0</td>\n",
       "    </tr>\n",
       "    <tr>\n",
       "      <th>2</th>\n",
       "      <td>ACE</td>\n",
       "      <td>SET100</td>\n",
       "      <td>300000.0</td>\n",
       "    </tr>\n",
       "    <tr>\n",
       "      <th>3</th>\n",
       "      <td>ADVANC</td>\n",
       "      <td>SET50 / SETHD / SETTHSI</td>\n",
       "      <td>450000.0</td>\n",
       "    </tr>\n",
       "    <tr>\n",
       "      <th>4</th>\n",
       "      <td>AEONTS</td>\n",
       "      <td>SET100</td>\n",
       "      <td>300000.0</td>\n",
       "    </tr>\n",
       "  </tbody>\n",
       "</table>\n",
       "</div>"
      ],
      "text/plain": [
       "     name                       market      base\n",
       "0      2S                      SET      150000.0\n",
       "1     AAV         SET100 / SETTHSI      300000.0\n",
       "2     ACE                   SET100      300000.0\n",
       "3  ADVANC  SET50 / SETHD / SETTHSI      450000.0\n",
       "4  AEONTS                   SET100      300000.0"
      ]
     },
     "execution_count": 27,
     "metadata": {},
     "output_type": "execute_result"
    }
   ],
   "source": [
    "my_stocks[\"base\"] = np.select(filters, values, default=150000)\n",
    "my_stocks.head()"
   ]
  },
  {
   "cell_type": "code",
   "execution_count": 28,
   "metadata": {},
   "outputs": [
    {
     "data": {
      "text/plain": [
       "(34, 13)"
      ]
     },
     "execution_count": 28,
     "metadata": {},
     "output_type": "execute_result"
    }
   ],
   "source": [
    "df_merge = pd.merge(df,my_stocks,on='name',how='inner')\n",
    "df_merge.shape"
   ]
  },
  {
   "cell_type": "code",
   "execution_count": 29,
   "metadata": {},
   "outputs": [
    {
     "data": {
      "text/plain": [
       "(25, 7)"
      ]
     },
     "execution_count": 29,
     "metadata": {},
     "output_type": "execute_result"
    }
   ],
   "source": [
    "cols = 'name period volbuy price cost_amt base pct'.split()\n",
    "df_merge['pct'] = round(df_merge.cost_amt/df_merge.base*100,2)\n",
    "df_merge['volbuy'] = df_merge['volbuy'].astype(int)\n",
    "mask = df.period != '2'\n",
    "df_merge[mask][cols].shape"
   ]
  },
  {
   "cell_type": "code",
   "execution_count": 30,
   "metadata": {},
   "outputs": [
    {
     "data": {
      "text/html": [
       "<style type=\"text/css\">\n",
       "</style>\n",
       "<table id=\"T_e8fcd_\">\n",
       "  <thead>\n",
       "    <tr>\n",
       "      <th class=\"blank level0\" >&nbsp;</th>\n",
       "      <th class=\"col_heading level0 col0\" >name</th>\n",
       "      <th class=\"col_heading level0 col1\" >period</th>\n",
       "      <th class=\"col_heading level0 col2\" >volbuy</th>\n",
       "      <th class=\"col_heading level0 col3\" >price</th>\n",
       "      <th class=\"col_heading level0 col4\" >cost_amt</th>\n",
       "      <th class=\"col_heading level0 col5\" >base</th>\n",
       "      <th class=\"col_heading level0 col6\" >pct</th>\n",
       "    </tr>\n",
       "  </thead>\n",
       "  <tbody>\n",
       "    <tr>\n",
       "      <th id=\"T_e8fcd_level0_row0\" class=\"row_heading level0 row0\" >8</th>\n",
       "      <td id=\"T_e8fcd_row0_col0\" class=\"data row0 col0\" >GLOBAL</td>\n",
       "      <td id=\"T_e8fcd_row0_col1\" class=\"data row0 col1\" >3</td>\n",
       "      <td id=\"T_e8fcd_row0_col2\" class=\"data row0 col2\" >7,500</td>\n",
       "      <td id=\"T_e8fcd_row0_col3\" class=\"data row0 col3\" >20.00</td>\n",
       "      <td id=\"T_e8fcd_row0_col4\" class=\"data row0 col4\" >150,000.00</td>\n",
       "      <td id=\"T_e8fcd_row0_col5\" class=\"data row0 col5\" >450,000.00</td>\n",
       "      <td id=\"T_e8fcd_row0_col6\" class=\"data row0 col6\" >33.33%</td>\n",
       "    </tr>\n",
       "    <tr>\n",
       "      <th id=\"T_e8fcd_level0_row1\" class=\"row_heading level0 row1\" >11</th>\n",
       "      <td id=\"T_e8fcd_row1_col0\" class=\"data row1 col0\" >TOP</td>\n",
       "      <td id=\"T_e8fcd_row1_col1\" class=\"data row1 col1\" >4</td>\n",
       "      <td id=\"T_e8fcd_row1_col2\" class=\"data row1 col2\" >3,000</td>\n",
       "      <td id=\"T_e8fcd_row1_col3\" class=\"data row1 col3\" >50.00</td>\n",
       "      <td id=\"T_e8fcd_row1_col4\" class=\"data row1 col4\" >150,000.00</td>\n",
       "      <td id=\"T_e8fcd_row1_col5\" class=\"data row1 col5\" >450,000.00</td>\n",
       "      <td id=\"T_e8fcd_row1_col6\" class=\"data row1 col6\" >33.33%</td>\n",
       "    </tr>\n",
       "    <tr>\n",
       "      <th id=\"T_e8fcd_level0_row2\" class=\"row_heading level0 row2\" >18</th>\n",
       "      <td id=\"T_e8fcd_row2_col0\" class=\"data row2 col0\" >SIS</td>\n",
       "      <td id=\"T_e8fcd_row2_col1\" class=\"data row2 col1\" >3</td>\n",
       "      <td id=\"T_e8fcd_row2_col2\" class=\"data row2 col2\" >1,500</td>\n",
       "      <td id=\"T_e8fcd_row2_col3\" class=\"data row2 col3\" >37.50</td>\n",
       "      <td id=\"T_e8fcd_row2_col4\" class=\"data row2 col4\" >56,250.00</td>\n",
       "      <td id=\"T_e8fcd_row2_col5\" class=\"data row2 col5\" >150,000.00</td>\n",
       "      <td id=\"T_e8fcd_row2_col6\" class=\"data row2 col6\" >37.50%</td>\n",
       "    </tr>\n",
       "  </tbody>\n",
       "</table>\n"
      ],
      "text/plain": [
       "<pandas.io.formats.style.Styler at 0x1133bbd7dc0>"
      ]
     },
     "execution_count": 30,
     "metadata": {},
     "output_type": "execute_result"
    }
   ],
   "source": [
    "df_merge[mask].nsmallest(3, 'pct')[cols].style.format(format_dict)"
   ]
  },
  {
   "cell_type": "code",
   "execution_count": 31,
   "metadata": {},
   "outputs": [
    {
     "data": {
      "text/html": [
       "<style type=\"text/css\">\n",
       "</style>\n",
       "<table id=\"T_22e8b_\">\n",
       "  <thead>\n",
       "    <tr>\n",
       "      <th class=\"blank level0\" >&nbsp;</th>\n",
       "      <th class=\"col_heading level0 col0\" >name</th>\n",
       "      <th class=\"col_heading level0 col1\" >period</th>\n",
       "      <th class=\"col_heading level0 col2\" >volbuy</th>\n",
       "      <th class=\"col_heading level0 col3\" >price</th>\n",
       "      <th class=\"col_heading level0 col4\" >cost_amt</th>\n",
       "      <th class=\"col_heading level0 col5\" >base</th>\n",
       "      <th class=\"col_heading level0 col6\" >pct</th>\n",
       "    </tr>\n",
       "  </thead>\n",
       "  <tbody>\n",
       "    <tr>\n",
       "      <th id=\"T_22e8b_level0_row0\" class=\"row_heading level0 row0\" >23</th>\n",
       "      <td id=\"T_22e8b_row0_col0\" class=\"data row0 col0\" >NER</td>\n",
       "      <td id=\"T_22e8b_row0_col1\" class=\"data row0 col1\" >4</td>\n",
       "      <td id=\"T_22e8b_row0_col2\" class=\"data row0 col2\" >36,000</td>\n",
       "      <td id=\"T_22e8b_row0_col3\" class=\"data row0 col3\" >7.45</td>\n",
       "      <td id=\"T_22e8b_row0_col4\" class=\"data row0 col4\" >268,200.00</td>\n",
       "      <td id=\"T_22e8b_row0_col5\" class=\"data row0 col5\" >150,000.00</td>\n",
       "      <td id=\"T_22e8b_row0_col6\" class=\"data row0 col6\" >178.80%</td>\n",
       "    </tr>\n",
       "    <tr>\n",
       "      <th id=\"T_22e8b_level0_row1\" class=\"row_heading level0 row1\" >3</th>\n",
       "      <td id=\"T_22e8b_row1_col0\" class=\"data row1 col0\" >IVL</td>\n",
       "      <td id=\"T_22e8b_row1_col1\" class=\"data row1 col1\" >4</td>\n",
       "      <td id=\"T_22e8b_row1_col2\" class=\"data row1 col2\" >18,000</td>\n",
       "      <td id=\"T_22e8b_row1_col3\" class=\"data row1 col3\" >42.00</td>\n",
       "      <td id=\"T_22e8b_row1_col4\" class=\"data row1 col4\" >756,000.00</td>\n",
       "      <td id=\"T_22e8b_row1_col5\" class=\"data row1 col5\" >450,000.00</td>\n",
       "      <td id=\"T_22e8b_row1_col6\" class=\"data row1 col6\" >168.00%</td>\n",
       "    </tr>\n",
       "    <tr>\n",
       "      <th id=\"T_22e8b_level0_row2\" class=\"row_heading level0 row2\" >31</th>\n",
       "      <td id=\"T_22e8b_row2_col0\" class=\"data row2 col0\" >RCL</td>\n",
       "      <td id=\"T_22e8b_row2_col1\" class=\"data row2 col1\" >3</td>\n",
       "      <td id=\"T_22e8b_row2_col2\" class=\"data row2 col2\" >4,500</td>\n",
       "      <td id=\"T_22e8b_row2_col3\" class=\"data row2 col3\" >43.00</td>\n",
       "      <td id=\"T_22e8b_row2_col4\" class=\"data row2 col4\" >193,500.00</td>\n",
       "      <td id=\"T_22e8b_row2_col5\" class=\"data row2 col5\" >150,000.00</td>\n",
       "      <td id=\"T_22e8b_row2_col6\" class=\"data row2 col6\" >129.00%</td>\n",
       "    </tr>\n",
       "  </tbody>\n",
       "</table>\n"
      ],
      "text/plain": [
       "<pandas.io.formats.style.Styler at 0x1133aa798e0>"
      ]
     },
     "execution_count": 31,
     "metadata": {},
     "output_type": "execute_result"
    }
   ],
   "source": [
    "df_merge[mask].nlargest(3, 'pct')[cols].style.format(format_dict)"
   ]
  },
  {
   "cell_type": "markdown",
   "metadata": {},
   "source": [
    "### Rank"
   ]
  },
  {
   "cell_type": "code",
   "execution_count": 32,
   "metadata": {},
   "outputs": [],
   "source": [
    "colt = 'name shares unit_cost cost price amount mkt_pct div_rnk amt_rnk div_amt'.split()"
   ]
  },
  {
   "cell_type": "code",
   "execution_count": 33,
   "metadata": {
    "scrolled": false
   },
   "outputs": [
    {
     "data": {},
     "metadata": {},
     "output_type": "display_data"
    },
    {
     "data": {
      "application/vnd.holoviews_exec.v0+json": "",
      "text/html": [
       "<div id='1060'>\n",
       "\n",
       "\n",
       "\n",
       "\n",
       "\n",
       "  <div class=\"bk-root\" id=\"032d9059-7fd0-4f89-82ea-92a7892a0117\" data-root-id=\"1060\"></div>\n",
       "</div>\n",
       "<script type=\"application/javascript\">(function(root) {\n",
       "  function embed_document(root) {\n",
       "    var docs_json = {\"cd2a8d85-4440-4115-86c8-4cd0e9bf2507\":{\"defs\":[{\"extends\":null,\"module\":null,\"name\":\"ReactiveHTML1\",\"overrides\":[],\"properties\":[]},{\"extends\":null,\"module\":null,\"name\":\"FlexBox1\",\"overrides\":[],\"properties\":[{\"default\":\"flex-start\",\"kind\":null,\"name\":\"align_content\"},{\"default\":\"flex-start\",\"kind\":null,\"name\":\"align_items\"},{\"default\":\"row\",\"kind\":null,\"name\":\"flex_direction\"},{\"default\":\"wrap\",\"kind\":null,\"name\":\"flex_wrap\"},{\"default\":\"flex-start\",\"kind\":null,\"name\":\"justify_content\"}]},{\"extends\":null,\"module\":null,\"name\":\"TemplateActions1\",\"overrides\":[],\"properties\":[{\"default\":0,\"kind\":null,\"name\":\"open_modal\"},{\"default\":0,\"kind\":null,\"name\":\"close_modal\"}]},{\"extends\":null,\"module\":null,\"name\":\"MaterialTemplateActions1\",\"overrides\":[],\"properties\":[{\"default\":0,\"kind\":null,\"name\":\"open_modal\"},{\"default\":0,\"kind\":null,\"name\":\"close_modal\"}]}],\"roots\":{\"references\":[{\"attributes\":{},\"id\":\"1015\",\"type\":\"NumberFormatter\"},{\"attributes\":{},\"id\":\"1063\",\"type\":\"UnionRenderers\"},{\"attributes\":{\"format\":\"0,0.0[00000]\"},\"id\":\"1040\",\"type\":\"NumberFormatter\"},{\"attributes\":{},\"id\":\"1041\",\"type\":\"NumberEditor\"},{\"attributes\":{\"reload\":false},\"id\":\"1075\",\"type\":\"panel.models.location.Location\"},{\"attributes\":{\"format\":\"0,0.0[00000]\"},\"id\":\"1020\",\"type\":\"NumberFormatter\"},{\"attributes\":{},\"id\":\"1021\",\"type\":\"NumberEditor\"},{\"attributes\":{\"editor\":{\"id\":\"1041\"},\"field\":\"mkt_pct\",\"formatter\":{\"id\":\"1040\"},\"title\":\"mkt_pct\",\"width\":0},\"id\":\"1042\",\"type\":\"TableColumn\"},{\"attributes\":{\"client_comm_id\":\"cebf5d13cf04442ea2d435b83a7278d0\",\"comm_id\":\"9df60eb71846495897c2b1033cf12422\",\"plot_id\":\"1060\"},\"id\":\"1068\",\"type\":\"panel.models.comm_manager.CommManager\"},{\"attributes\":{\"editor\":{\"id\":\"1016\"},\"field\":\"shares\",\"formatter\":{\"id\":\"1015\"},\"title\":\"shares\",\"width\":0},\"id\":\"1017\",\"type\":\"TableColumn\"},{\"attributes\":{},\"id\":\"1010\",\"type\":\"StringFormatter\"},{\"attributes\":{\"editor\":{\"id\":\"1021\"},\"field\":\"unit_cost\",\"formatter\":{\"id\":\"1020\"},\"title\":\"unit_cost\",\"width\":0},\"id\":\"1022\",\"type\":\"TableColumn\"},{\"attributes\":{\"editor\":{\"id\":\"1011\"},\"field\":\"name\",\"formatter\":{\"id\":\"1010\"},\"title\":\"name\",\"width\":0},\"id\":\"1012\",\"type\":\"TableColumn\"},{\"attributes\":{\"indices\":[]},\"id\":\"1003\",\"type\":\"Selection\"},{\"attributes\":{\"format\":\"0,0.0[00000]\"},\"id\":\"1045\",\"type\":\"NumberFormatter\"},{\"attributes\":{},\"id\":\"1046\",\"type\":\"NumberEditor\"},{\"attributes\":{\"format\":\"0,0.0[00000]\"},\"id\":\"1025\",\"type\":\"NumberFormatter\"},{\"attributes\":{},\"id\":\"1006\",\"type\":\"CellEditor\"},{\"attributes\":{},\"id\":\"1026\",\"type\":\"NumberEditor\"},{\"attributes\":{\"columns\":[{\"id\":\"1007\"},{\"id\":\"1012\"},{\"id\":\"1017\"},{\"id\":\"1022\"},{\"id\":\"1027\"},{\"id\":\"1032\"},{\"id\":\"1037\"},{\"id\":\"1042\"},{\"id\":\"1047\"},{\"id\":\"1052\"},{\"id\":\"1057\"}],\"configuration\":{\"columns\":[{\"field\":\"index\"},{\"field\":\"name\"},{\"field\":\"shares\"},{\"field\":\"unit_cost\"},{\"field\":\"cost\"},{\"field\":\"price\"},{\"field\":\"amount\"},{\"field\":\"mkt_pct\"},{\"field\":\"div_rnk\"},{\"field\":\"amt_rnk\"},{\"field\":\"div_amt\"}],\"dataTree\":false,\"selectable\":true},\"height\":300,\"indexes\":[\"index\"],\"margin\":[5,10,5,10],\"name\":\"\",\"page\":1,\"page_size\":20,\"selectable_rows\":null,\"source\":{\"id\":\"1002\"},\"width\":900},\"id\":\"1060\",\"type\":\"panel.models.tabulator.DataTabulator\"},{\"attributes\":{\"data\":{\"amount\":{\"__ndarray__\":\"AAAAAMDrIkEAAAAAsHQXQQAAAADwpBBBAAAAAIAZK0EAAAAA4G4vQQAAAABwNBBBAAAAAICiKUEAAAAASNsYQQAAAAAgQQdB\",\"dtype\":\"float64\",\"order\":\"little\",\"shape\":[9]},\"amt_rnk\":{\"__ndarray__\":\"AAAAAAAAEEAAAAAAAAAYQAAAAAAAABxAAAAAAAAAAEAAAAAAAADwPwAAAAAAACBAAAAAAAAACEAAAAAAAAAUQAAAAAAAACJA\",\"dtype\":\"float64\",\"order\":\"little\",\"shape\":[9]},\"cost\":{\"__ndarray__\":\"AAAAALA1JUEAAAAAoOoaQQAAAACwTRFBAAAAACCULkEAAAAAgIQuQQAAAABQYxBBAAAAAKDqKkEAAAAAmCEZQQAAAADAzQdB\",\"dtype\":\"float64\",\"order\":\"little\",\"shape\":[9]},\"div_amt\":{\"__ndarray__\":\"AAAAAICi+UAAAAAAwCXqQAAAAAAAAd1AAAAAAIAR9EAAAAAAgDH3QAAAAAAAT9RAAAAAAACW7kAAAAAAgJDcQAAAAAAAnMhA\",\"dtype\":\"float64\",\"order\":\"little\",\"shape\":[9]},\"div_rnk\":{\"__ndarray__\":\"AAAAAAAA8D8AAAAAAAAAQAAAAAAAAAhAAAAAAAAAEEAAAAAAAAAUQAAAAAAAABhAAAAAAAAAHEAAAAAAAAAgQAAAAAAAACJA\",\"dtype\":\"float64\",\"order\":\"little\",\"shape\":[9]},\"index\":[0,22,7,5,13,17,6,1,15],\"mkt_pct\":{\"__ndarray__\":\"ZmZmZmbmMEDNzMzMzMwrQM3MzMzMzCVAmpmZmZmZIkBmZmZmZmYiQDMzMzMzMx9AAAAAAAAAHkDNzMzMzMwcQGZmZmZmZhpA\",\"dtype\":\"float64\",\"order\":\"little\",\"shape\":[9]},\"name\":[\"STA\",\"NOBLE\",\"TMT\",\"MCS\",\"JASIF\",\"HREIT\",\"DIF\",\"RATCH\",\"TISCO\"],\"price\":{\"__ndarray__\":\"AAAAAAAAP0BmZmZmZmYYQDMzMzMzMyRAmpmZmZmZLUCamZmZmZkkQDMzMzMzsyFAAAAAAAAALEAAAAAAAKBGQAAAAAAA0FdA\",\"dtype\":\"float64\",\"order\":\"little\",\"shape\":[9]},\"shares\":{\"__ndarray__\":\"IE4AABj2AAB4aQAAYOoAAKCGAQAwdQAAYOoAACgjAADQBwAA\",\"dtype\":\"int32\",\"order\":\"little\",\"shape\":[9]},\"unit_cost\":{\"__ndarray__\":\"AAAAAABgQUAAAAAAAAAcQAAAAAAAACVAMzMzMzOzMEAAAAAAAAAkQGZmZmZm5iFAZmZmZmZmLUAAAAAAAOBGQAAAAAAAYFhA\",\"dtype\":\"float64\",\"order\":\"little\",\"shape\":[9]}},\"selected\":{\"id\":\"1003\"},\"selection_policy\":{\"id\":\"1063\"}},\"id\":\"1002\",\"type\":\"ColumnDataSource\"},{\"attributes\":{\"editor\":{\"id\":\"1046\"},\"field\":\"div_rnk\",\"formatter\":{\"id\":\"1045\"},\"title\":\"div_rnk\",\"width\":0},\"id\":\"1047\",\"type\":\"TableColumn\"},{\"attributes\":{\"editor\":{\"id\":\"1026\"},\"field\":\"cost\",\"formatter\":{\"id\":\"1025\"},\"title\":\"cost\",\"width\":0},\"id\":\"1027\",\"type\":\"TableColumn\"},{\"attributes\":{\"format\":\"0,0.0[00000]\"},\"id\":\"1050\",\"type\":\"NumberFormatter\"},{\"attributes\":{},\"id\":\"1051\",\"type\":\"NumberEditor\"},{\"attributes\":{\"editor\":{\"id\":\"1006\"},\"field\":\"index\",\"formatter\":{\"id\":\"1004\"},\"title\":\"index\",\"width\":0},\"id\":\"1007\",\"type\":\"TableColumn\"},{\"attributes\":{\"format\":\"0,0.0[00000]\"},\"id\":\"1030\",\"type\":\"NumberFormatter\"},{\"attributes\":{},\"id\":\"1031\",\"type\":\"NumberEditor\"},{\"attributes\":{\"editor\":{\"id\":\"1051\"},\"field\":\"amt_rnk\",\"formatter\":{\"id\":\"1050\"},\"title\":\"amt_rnk\",\"width\":0},\"id\":\"1052\",\"type\":\"TableColumn\"},{\"attributes\":{},\"id\":\"1004\",\"type\":\"NumberFormatter\"},{\"attributes\":{},\"id\":\"1011\",\"type\":\"StringEditor\"},{\"attributes\":{\"editor\":{\"id\":\"1031\"},\"field\":\"price\",\"formatter\":{\"id\":\"1030\"},\"title\":\"price\",\"width\":0},\"id\":\"1032\",\"type\":\"TableColumn\"},{\"attributes\":{\"format\":\"0,0.0[00000]\"},\"id\":\"1055\",\"type\":\"NumberFormatter\"},{\"attributes\":{},\"id\":\"1056\",\"type\":\"NumberEditor\"},{\"attributes\":{\"format\":\"0,0.0[00000]\"},\"id\":\"1035\",\"type\":\"NumberFormatter\"},{\"attributes\":{},\"id\":\"1036\",\"type\":\"NumberEditor\"},{\"attributes\":{\"editor\":{\"id\":\"1056\"},\"field\":\"div_amt\",\"formatter\":{\"id\":\"1055\"},\"title\":\"div_amt\",\"width\":0},\"id\":\"1057\",\"type\":\"TableColumn\"},{\"attributes\":{},\"id\":\"1016\",\"type\":\"IntEditor\"},{\"attributes\":{\"editor\":{\"id\":\"1036\"},\"field\":\"amount\",\"formatter\":{\"id\":\"1035\"},\"title\":\"amount\",\"width\":0},\"id\":\"1037\",\"type\":\"TableColumn\"}],\"root_ids\":[\"1060\",\"1068\",\"1075\"]},\"title\":\"Bokeh Application\",\"version\":\"2.3.3\"}};\n",
       "    var render_items = [{\"docid\":\"cd2a8d85-4440-4115-86c8-4cd0e9bf2507\",\"root_ids\":[\"1060\"],\"roots\":{\"1060\":\"032d9059-7fd0-4f89-82ea-92a7892a0117\"}}];\n",
       "    root.Bokeh.embed.embed_items_notebook(docs_json, render_items);\n",
       "  }\n",
       "  if (root.Bokeh !== undefined && root.Bokeh.Panel !== undefined && ( root['Tabulator'] !== undefined)) {\n",
       "    embed_document(root);\n",
       "  } else {\n",
       "    var attempts = 0;\n",
       "    var timer = setInterval(function(root) {\n",
       "      if (root.Bokeh !== undefined && root.Bokeh.Panel !== undefined && (root['Tabulator'] !== undefined)) {\n",
       "        clearInterval(timer);\n",
       "        embed_document(root);\n",
       "      } else if (document.readyState == \"complete\") {\n",
       "        attempts++;\n",
       "        if (attempts > 200) {\n",
       "          clearInterval(timer);\n",
       "          console.log(\"Bokeh: ERROR: Unable to run BokehJS code because BokehJS library is missing\");\n",
       "        }\n",
       "      }\n",
       "    }, 25, root)\n",
       "  }\n",
       "})(window);</script>"
      ],
      "text/plain": [
       "Tabulator(layout='fit_data', value=     name  shares  ..., width=900)"
      ]
     },
     "execution_count": 33,
     "metadata": {
      "application/vnd.holoviews_exec.v0+json": {
       "id": "1060"
      }
     },
     "output_type": "execute_result"
    }
   ],
   "source": [
    "df2 = df_buy_price[df_buy_price['period'] == '2'].copy()\n",
    "df2['div_rnk'] = df2.mkt_pct.rank(ascending=False)\n",
    "df2['amt_rnk'] = df2.amount.rank(ascending=False)\n",
    "df2_out = df2[colt].sort_values('div_rnk')\n",
    "df2_tab = pn.widgets.Tabulator(df2_out, layout='fit_data', width=900)\n",
    "df2_tab"
   ]
  },
  {
   "cell_type": "code",
   "execution_count": 34,
   "metadata": {},
   "outputs": [
    {
     "data": {
      "text/plain": [
       "490736.0"
      ]
     },
     "execution_count": 34,
     "metadata": {},
     "output_type": "execute_result"
    }
   ],
   "source": [
    "df2_out.div_amt.sum()"
   ]
  },
  {
   "cell_type": "code",
   "execution_count": 35,
   "metadata": {},
   "outputs": [
    {
     "data": {
      "text/plain": [
       "3    13\n",
       "4    11\n",
       "2     9\n",
       "1     1\n",
       "Name: period, dtype: int64"
      ]
     },
     "execution_count": 35,
     "metadata": {},
     "output_type": "execute_result"
    }
   ],
   "source": [
    "df_buy_price.period.value_counts()"
   ]
  },
  {
   "cell_type": "code",
   "execution_count": 36,
   "metadata": {},
   "outputs": [
    {
     "name": "stderr",
     "output_type": "stream",
     "text": [
      "C:\\ProgramData\\Anaconda3\\lib\\site-packages\\seaborn\\_decorators.py:36: FutureWarning: Pass the following variables as keyword args: x, y. From version 0.12, the only valid positional argument will be `data`, and passing other arguments without an explicit keyword will result in an error or misinterpretation.\n",
      "  warnings.warn(\n"
     ]
    },
    {
     "data": {
      "image/png": "[encoded data removed]",
      "text/plain": [
       "<Figure size 720x360 with 1 Axes>"
      ]
     },
     "metadata": {
      "needs_background": "light"
     },
     "output_type": "display_data"
    }
   ],
   "source": [
    "Period_Count =\\\n",
    "df_buy_price.period.value_counts(sort=True).nlargest(3)\n",
    "plt.figure(figsize=(10,5))\n",
    "sns.barplot(Period_Count.index,\n",
    "Period_Count.values, alpha=0.8)\n",
    "plt.show()"
   ]
  },
  {
   "cell_type": "code",
   "execution_count": 37,
   "metadata": {},
   "outputs": [
    {
     "data": {},
     "metadata": {},
     "output_type": "display_data"
    },
    {
     "data": {
      "application/vnd.holoviews_exec.v0+json": "",
      "text/html": [
       "<div id='1140'>\n",
       "\n",
       "\n",
       "\n",
       "\n",
       "\n",
       "  <div class=\"bk-root\" id=\"a3c8d76f-3f5f-47fe-9047-78dda273687f\" data-root-id=\"1140\"></div>\n",
       "</div>\n",
       "<script type=\"application/javascript\">(function(root) {\n",
       "  function embed_document(root) {\n",
       "    var docs_json = {\"c3f2d428-eb28-42ab-a743-f102dcca4b2f\":{\"defs\":[{\"extends\":null,\"module\":null,\"name\":\"ReactiveHTML1\",\"overrides\":[],\"properties\":[]},{\"extends\":null,\"module\":null,\"name\":\"FlexBox1\",\"overrides\":[],\"properties\":[{\"default\":\"flex-start\",\"kind\":null,\"name\":\"align_content\"},{\"default\":\"flex-start\",\"kind\":null,\"name\":\"align_items\"},{\"default\":\"row\",\"kind\":null,\"name\":\"flex_direction\"},{\"default\":\"wrap\",\"kind\":null,\"name\":\"flex_wrap\"},{\"default\":\"flex-start\",\"kind\":null,\"name\":\"justify_content\"}]},{\"extends\":null,\"module\":null,\"name\":\"TemplateActions1\",\"overrides\":[],\"properties\":[{\"default\":0,\"kind\":null,\"name\":\"open_modal\"},{\"default\":0,\"kind\":null,\"name\":\"close_modal\"}]},{\"extends\":null,\"module\":null,\"name\":\"MaterialTemplateActions1\",\"overrides\":[],\"properties\":[{\"default\":0,\"kind\":null,\"name\":\"open_modal\"},{\"default\":0,\"kind\":null,\"name\":\"close_modal\"}]}],\"roots\":{\"references\":[{\"attributes\":{\"editor\":{\"id\":\"1111\"},\"field\":\"price\",\"formatter\":{\"id\":\"1110\"},\"title\":\"price\",\"width\":0},\"id\":\"1112\",\"type\":\"TableColumn\"},{\"attributes\":{\"editor\":{\"id\":\"1116\"},\"field\":\"amount\",\"formatter\":{\"id\":\"1115\"},\"title\":\"amount\",\"width\":0},\"id\":\"1117\",\"type\":\"TableColumn\"},{\"attributes\":{\"format\":\"0,0.0[00000]\"},\"id\":\"1115\",\"type\":\"NumberFormatter\"},{\"attributes\":{\"columns\":[{\"id\":\"1087\"},{\"id\":\"1092\"},{\"id\":\"1097\"},{\"id\":\"1102\"},{\"id\":\"1107\"},{\"id\":\"1112\"},{\"id\":\"1117\"},{\"id\":\"1122\"},{\"id\":\"1127\"},{\"id\":\"1132\"},{\"id\":\"1137\"}],\"configuration\":{\"columns\":[{\"field\":\"index\"},{\"field\":\"name\"},{\"field\":\"shares\"},{\"field\":\"unit_cost\"},{\"field\":\"cost\"},{\"field\":\"price\"},{\"field\":\"amount\"},{\"field\":\"mkt_pct\"},{\"field\":\"div_rnk\"},{\"field\":\"amt_rnk\"},{\"field\":\"div_amt\"}],\"dataTree\":false,\"selectable\":true},\"height\":780,\"indexes\":[\"index\"],\"margin\":[5,10,5,10],\"name\":\"\",\"page\":1,\"page_size\":20,\"selectable_rows\":null,\"source\":{\"id\":\"1082\"},\"width\":900},\"id\":\"1140\",\"type\":\"panel.models.tabulator.DataTabulator\"},{\"attributes\":{\"format\":\"0,0.0[00000]\"},\"id\":\"1120\",\"type\":\"NumberFormatter\"},{\"attributes\":{},\"id\":\"1121\",\"type\":\"NumberEditor\"},{\"attributes\":{},\"id\":\"1111\",\"type\":\"NumberEditor\"},{\"attributes\":{\"editor\":{\"id\":\"1096\"},\"field\":\"shares\",\"formatter\":{\"id\":\"1095\"},\"title\":\"shares\",\"width\":0},\"id\":\"1097\",\"type\":\"TableColumn\"},{\"attributes\":{\"editor\":{\"id\":\"1121\"},\"field\":\"mkt_pct\",\"formatter\":{\"id\":\"1120\"},\"title\":\"mkt_pct\",\"width\":0},\"id\":\"1122\",\"type\":\"TableColumn\"},{\"attributes\":{\"indices\":[]},\"id\":\"1083\",\"type\":\"Selection\"},{\"attributes\":{\"editor\":{\"id\":\"1086\"},\"field\":\"index\",\"formatter\":{\"id\":\"1084\"},\"title\":\"index\",\"width\":0},\"id\":\"1087\",\"type\":\"TableColumn\"},{\"attributes\":{\"format\":\"0,0.0[00000]\"},\"id\":\"1125\",\"type\":\"NumberFormatter\"},{\"attributes\":{\"format\":\"0,0.0[00000]\"},\"id\":\"1110\",\"type\":\"NumberFormatter\"},{\"attributes\":{},\"id\":\"1126\",\"type\":\"NumberEditor\"},{\"attributes\":{\"editor\":{\"id\":\"1106\"},\"field\":\"cost\",\"formatter\":{\"id\":\"1105\"},\"title\":\"cost\",\"width\":0},\"id\":\"1107\",\"type\":\"TableColumn\"},{\"attributes\":{},\"id\":\"1086\",\"type\":\"CellEditor\"},{\"attributes\":{\"editor\":{\"id\":\"1126\"},\"field\":\"div_rnk\",\"formatter\":{\"id\":\"1125\"},\"title\":\"div_rnk\",\"width\":0},\"id\":\"1127\",\"type\":\"TableColumn\"},{\"attributes\":{\"format\":\"0,0.0[00000]\"},\"id\":\"1130\",\"type\":\"NumberFormatter\"},{\"attributes\":{},\"id\":\"1106\",\"type\":\"NumberEditor\"},{\"attributes\":{},\"id\":\"1096\",\"type\":\"IntEditor\"},{\"attributes\":{\"editor\":{\"id\":\"1101\"},\"field\":\"unit_cost\",\"formatter\":{\"id\":\"1100\"},\"title\":\"unit_cost\",\"width\":0},\"id\":\"1102\",\"type\":\"TableColumn\"},{\"attributes\":{},\"id\":\"1084\",\"type\":\"NumberFormatter\"},{\"attributes\":{},\"id\":\"1095\",\"type\":\"NumberFormatter\"},{\"attributes\":{},\"id\":\"1131\",\"type\":\"NumberEditor\"},{\"attributes\":{\"data\":{\"amount\":{\"__ndarray__\":\"AAAAAHjHCkEAAAAAAIr7QAAAAADA3xRBAAAAAHj9AUEAAAAA2DITQQAAAAAgNBVBAAAAAKCXA0EAAAAAQPsOQQAAAAAwCQJBAAAAAID6C0EAAAAAYK3vQAAAAAAQJgVBAAAAAIDMAkEAAAAAgKcUQQAAAAC4eydBAAAAAPBmEkEAAAAAwNkVQQAAAAAA+RVBAAAAAODCAUEAAAAAYH4CQQAAAAAAqAZBAAAAAGB+AkEAAAAAAHsBQQAAAADAu/pAAAAAAIAM+UA=\",\"dtype\":\"float64\",\"order\":\"little\",\"shape\":[25]},\"amt_rnk\":{\"__ndarray__\":\"AAAAAAAAJkAAAAAAAAA2QAAAAAAAABRAAAAAAAAAM0AAAAAAAAAcQAAAAAAAABBAAAAAAAAALEAAAAAAAAAiQAAAAAAAADJAAAAAAAAAJEAAAAAAAAA5QAAAAAAAACpAAAAAAAAALkAAAAAAAAAYQAAAAAAAAPA/AAAAAAAAIEAAAAAAAAAIQAAAAAAAAABAAAAAAAAANEAAAAAAAIAwQAAAAAAAAChAAAAAAACAMEAAAAAAAAA1QAAAAAAAADdAAAAAAAAAOEA=\",\"dtype\":\"float64\",\"order\":\"little\",\"shape\":[25]},\"cost\":{\"__ndarray__\":\"AAAAAOCeB0EAAAAAAFL8QAAAAAAQJhVBAAAAAKAgAkEAAAAACAAWQQAAAAAA2hZBAAAAAFBRA0EAAAAAoF4QQQAAAACATwJBAAAAAMCpDUEAAAAAQHfrQAAAAABwmQRBAAAAAAAkA0EAAAAAwP4TQQAAAABAEidBAAAAADCAE0EAAAAAgD0VQQAAAAAA+RVBAAAAACDcAkEAAAAAgE8CQQAAAAAAaghBAAAAAIBPAkEAAAAAAI4CQQAAAABAd/tAAAAAAIAr+EA=\",\"dtype\":\"float64\",\"order\":\"little\",\"shape\":[25]},\"div_amt\":{\"__ndarray__\":\"AAAAAADDzkAAAAAAAMC8QAAAAAAAwdFAAAAAAADivUAAAAAAAKTPQAAAAAAA4s1AAAAAAADIuUAAAAAAAPC+QAAAAAAAeK5APQrXo/Bvt0AAAAAAAHCXQAAAAAAApK9AAAAAAAAoqUAAAAAAACC8QAAAAAAA4s1AAAAAAABWs0AAAAAAAECvQAAAAAAApK9AAAAAAACulUAAAAAAAGiQQAAAAAAAAIlAAAAAAAAA+H8AAAAAAAD4fwAAAAAAAPh/AAAAAAAA+H8=\",\"dtype\":\"float64\",\"order\":\"little\",\"shape\":[25]},\"div_rnk\":{\"__ndarray__\":\"AAAAAAAA8D8AAAAAAAAAQAAAAAAAAAhAAAAAAAAAEkAAAAAAAAASQAAAAAAAABhAAAAAAAAAHEAAAAAAAAAgQAAAAAAAACNAAAAAAAAAI0AAAAAAAAAnQAAAAAAAACdAAAAAAAAAK0AAAAAAAAArQAAAAAAAAC5AAAAAAAAAMEAAAAAAAIAxQAAAAAAAgDFAAAAAAAAAM0AAAAAAAAA0QAAAAAAAADVAAAAAAAAA+H8AAAAAAAD4fwAAAAAAAPh/AAAAAAAA+H8=\",\"dtype\":\"float64\",\"order\":\"little\",\"shape\":[25]},\"index\":[31,28,21,32,16,20,2,23,11,30,18,9,25,26,3,10,4,29,33,19,12,8,14,24,27],\"mkt_pct\":{\"__ndarray__\":\"zczMzMzMHEAAAAAAAAAaQDMzMzMzMxVAzczMzMzMFEDNzMzMzMwUQJqZmZmZmRFAZmZmZmZmEEDNzMzMzMwIQM3MzMzMzARAzczMzMzMBEBmZmZmZmYCQGZmZmZmZgJAzczMzMzMAEDNzMzMzMwAQAAAAAAAAABAmpmZmZmZ+T+amZmZmZnxP5qZmZmZmfE/AAAAAAAA8D9mZmZmZmbmP5qZmZmZmdk/AAAAAAAA+H8AAAAAAAD4fwAAAAAAAPh/AAAAAAAA+H8=\",\"dtype\":\"float64\",\"order\":\"little\",\"shape\":[25]},\"name\":[\"RCL\",\"DCC\",\"PTT\",\"RJH\",\"PTTGC\",\"TU\",\"SAT\",\"NER\",\"TOP\",\"SCC\",\"SIS\",\"VNT\",\"EPG\",\"KBANK\",\"IVL\",\"BCH\",\"KCE\",\"BGRIM\",\"IP\",\"CKP\",\"DOHOME\",\"GLOBAL\",\"TYCN\",\"TSTH\",\"IMH\"],\"price\":{\"__ndarray__\":\"AAAAAABgSECPwvUoXI8GQAAAAAAAAENAAAAAAABgQEAAAAAAACBNQM3MzMzMTDNAZmZmZmZmNUAzMzMzMzMcQAAAAAAAoEhAAAAAAADgd0AAAAAAAKBFQAAAAAAAQENAAAAAAAAAJkAAAAAAAKBhQAAAAAAAYEVAmpmZmZkZNEAAAAAAAGBWQAAAAAAAAERAZmZmZmZmM0AzMzMzMzMUQDMzMzMzMzdAMzMzMzMzNECkcD0K16MMQFyPwvUoXPc/zczMzMzMJkA=\",\"dtype\":\"float64\",\"order\":\"little\",\"shape\":[25]},\"shares\":{\"__ndarray__\":\"lBEAAECcAAAoIwAAlBEAABgVAABQRgAATB0AAKCMAAC4CwAAWAIAANwFAACUEQAAsDYAAGAJAABQRgAAmDoAAKAPAAAoIwAATB0AADB1AABAHwAATB0AAECcAAD4JAEAKCMAAA==\",\"dtype\":\"int32\",\"order\":\"little\",\"shape\":[25]},\"unit_cost\":{\"__ndarray__\":\"AAAAAACARUAzMzMzMzMHQAAAAAAAQENAAAAAAACAQEAAAAAAALBQQM3MzMzMzDRAmpmZmZkZNUDNzMzMzMwdQAAAAAAAAElAAAAAAABQeUAAAAAAAMBCQAAAAAAAwEJAZmZmZmZmJkAAAAAAABBhQAAAAAAAAEVAzczMzMxMNUAAAAAAAMBVQAAAAAAAAERAmpmZmZmZNEAAAAAAAAAUQAAAAAAAADlAAAAAAAAANEBmZmZmZmYOQAAAAAAAAPg/AAAAAAAAJkA=\",\"dtype\":\"float64\",\"order\":\"little\",\"shape\":[25]}},\"selected\":{\"id\":\"1083\"},\"selection_policy\":{\"id\":\"1143\"}},\"id\":\"1082\",\"type\":\"ColumnDataSource\"},{\"attributes\":{\"format\":\"0,0.0[00000]\"},\"id\":\"1105\",\"type\":\"NumberFormatter\"},{\"attributes\":{\"editor\":{\"id\":\"1131\"},\"field\":\"amt_rnk\",\"formatter\":{\"id\":\"1130\"},\"title\":\"amt_rnk\",\"width\":0},\"id\":\"1132\",\"type\":\"TableColumn\"},{\"attributes\":{},\"id\":\"1101\",\"type\":\"NumberEditor\"},{\"attributes\":{\"format\":\"0,0.0[00000]\"},\"id\":\"1100\",\"type\":\"NumberFormatter\"},{\"attributes\":{\"format\":\"0,0.0[00000]\"},\"id\":\"1135\",\"type\":\"NumberFormatter\"},{\"attributes\":{\"client_comm_id\":\"9533c8a6a11945af87c485e3d9c8a6ea\",\"comm_id\":\"816216e40174415b98cadb4312451e16\",\"plot_id\":\"1140\"},\"id\":\"1148\",\"type\":\"panel.models.comm_manager.CommManager\"},{\"attributes\":{},\"id\":\"1136\",\"type\":\"NumberEditor\"},{\"attributes\":{},\"id\":\"1091\",\"type\":\"StringEditor\"},{\"attributes\":{},\"id\":\"1116\",\"type\":\"NumberEditor\"},{\"attributes\":{\"editor\":{\"id\":\"1091\"},\"field\":\"name\",\"formatter\":{\"id\":\"1090\"},\"title\":\"name\",\"width\":0},\"id\":\"1092\",\"type\":\"TableColumn\"},{\"attributes\":{\"editor\":{\"id\":\"1136\"},\"field\":\"div_amt\",\"formatter\":{\"id\":\"1135\"},\"title\":\"div_amt\",\"width\":0},\"id\":\"1137\",\"type\":\"TableColumn\"},{\"attributes\":{},\"id\":\"1090\",\"type\":\"StringFormatter\"},{\"attributes\":{},\"id\":\"1143\",\"type\":\"UnionRenderers\"}],\"root_ids\":[\"1140\",\"1148\"]},\"title\":\"Bokeh Application\",\"version\":\"2.3.3\"}};\n",
       "    var render_items = [{\"docid\":\"c3f2d428-eb28-42ab-a743-f102dcca4b2f\",\"root_ids\":[\"1140\"],\"roots\":{\"1140\":\"a3c8d76f-3f5f-47fe-9047-78dda273687f\"}}];\n",
       "    root.Bokeh.embed.embed_items_notebook(docs_json, render_items);\n",
       "  }\n",
       "  if (root.Bokeh !== undefined && root.Bokeh.Panel !== undefined && ( root['Tabulator'] !== undefined)) {\n",
       "    embed_document(root);\n",
       "  } else {\n",
       "    var attempts = 0;\n",
       "    var timer = setInterval(function(root) {\n",
       "      if (root.Bokeh !== undefined && root.Bokeh.Panel !== undefined && (root['Tabulator'] !== undefined)) {\n",
       "        clearInterval(timer);\n",
       "        embed_document(root);\n",
       "      } else if (document.readyState == \"complete\") {\n",
       "        attempts++;\n",
       "        if (attempts > 200) {\n",
       "          clearInterval(timer);\n",
       "          console.log(\"Bokeh: ERROR: Unable to run BokehJS code because BokehJS library is missing\");\n",
       "        }\n",
       "      }\n",
       "    }, 25, root)\n",
       "  }\n",
       "})(window);</script>"
      ],
      "text/plain": [
       "Tabulator(layout='fit_data', value=      name  shares  ..., width=900)"
      ]
     },
     "execution_count": 37,
     "metadata": {
      "application/vnd.holoviews_exec.v0+json": {
       "id": "1140"
      }
     },
     "output_type": "execute_result"
    }
   ],
   "source": [
    "df9 = df_buy_price[df_buy_price['period'] != '2'].copy()\n",
    "df9['div_rnk'] = df9.mkt_pct.rank(ascending=False)\n",
    "df9['amt_rnk'] = df9.amount.rank(ascending=False)\n",
    "df9_out = df9[colt].sort_values('div_rnk')\n",
    "df9_tab = pn.widgets.Tabulator(df9_out, layout='fit_data', width=900)\n",
    "df9_tab"
   ]
  },
  {
   "cell_type": "code",
   "execution_count": 38,
   "metadata": {},
   "outputs": [
    {
     "data": {
      "text/plain": [
       "152367.44"
      ]
     },
     "execution_count": 38,
     "metadata": {},
     "output_type": "execute_result"
    }
   ],
   "source": [
    "df9_out.div_amt.sum()"
   ]
  },
  {
   "cell_type": "code",
   "execution_count": 39,
   "metadata": {},
   "outputs": [
    {
     "data": {
      "text/html": [
       "<div>\n",
       "<style scoped>\n",
       "    .dataframe tbody tr th:only-of-type {\n",
       "        vertical-align: middle;\n",
       "    }\n",
       "\n",
       "    .dataframe tbody tr th {\n",
       "        vertical-align: top;\n",
       "    }\n",
       "\n",
       "    .dataframe thead th {\n",
       "        text-align: right;\n",
       "    }\n",
       "</style>\n",
       "<table border=\"1\" class=\"dataframe\">\n",
       "  <thead>\n",
       "    <tr style=\"text-align: right;\">\n",
       "      <th></th>\n",
       "      <th>name</th>\n",
       "      <th>shares</th>\n",
       "      <th>unit_cost</th>\n",
       "      <th>cost</th>\n",
       "      <th>dividend</th>\n",
       "      <th>div_amt</th>\n",
       "      <th>cost_pct</th>\n",
       "      <th>price</th>\n",
       "      <th>amount</th>\n",
       "      <th>mkt_pct</th>\n",
       "      <th>profit</th>\n",
       "      <th>pft_pct</th>\n",
       "      <th>period</th>\n",
       "    </tr>\n",
       "  </thead>\n",
       "  <tbody>\n",
       "    <tr>\n",
       "      <th>2</th>\n",
       "      <td>SAT</td>\n",
       "      <td>7500</td>\n",
       "      <td>21.10</td>\n",
       "      <td>158250.0</td>\n",
       "      <td>0.8800</td>\n",
       "      <td>6600.00</td>\n",
       "      <td>4.2</td>\n",
       "      <td>21.40</td>\n",
       "      <td>160500.0</td>\n",
       "      <td>4.1</td>\n",
       "      <td>2250.0</td>\n",
       "      <td>1.4</td>\n",
       "      <td>4</td>\n",
       "    </tr>\n",
       "    <tr>\n",
       "      <th>3</th>\n",
       "      <td>IVL</td>\n",
       "      <td>18000</td>\n",
       "      <td>42.00</td>\n",
       "      <td>756000.0</td>\n",
       "      <td>0.8500</td>\n",
       "      <td>15300.00</td>\n",
       "      <td>2.0</td>\n",
       "      <td>42.75</td>\n",
       "      <td>769500.0</td>\n",
       "      <td>2.0</td>\n",
       "      <td>13500.0</td>\n",
       "      <td>1.8</td>\n",
       "      <td>4</td>\n",
       "    </tr>\n",
       "    <tr>\n",
       "      <th>9</th>\n",
       "      <td>VNT</td>\n",
       "      <td>4500</td>\n",
       "      <td>37.50</td>\n",
       "      <td>168750.0</td>\n",
       "      <td>0.9000</td>\n",
       "      <td>4050.00</td>\n",
       "      <td>2.4</td>\n",
       "      <td>38.50</td>\n",
       "      <td>173250.0</td>\n",
       "      <td>2.3</td>\n",
       "      <td>4500.0</td>\n",
       "      <td>2.7</td>\n",
       "      <td>4</td>\n",
       "    </tr>\n",
       "    <tr>\n",
       "      <th>11</th>\n",
       "      <td>TOP</td>\n",
       "      <td>3000</td>\n",
       "      <td>50.00</td>\n",
       "      <td>150000.0</td>\n",
       "      <td>1.3000</td>\n",
       "      <td>3900.00</td>\n",
       "      <td>2.6</td>\n",
       "      <td>49.25</td>\n",
       "      <td>147750.0</td>\n",
       "      <td>2.6</td>\n",
       "      <td>-2250.0</td>\n",
       "      <td>-1.5</td>\n",
       "      <td>4</td>\n",
       "    </tr>\n",
       "    <tr>\n",
       "      <th>20</th>\n",
       "      <td>TU</td>\n",
       "      <td>18000</td>\n",
       "      <td>20.80</td>\n",
       "      <td>374400.0</td>\n",
       "      <td>0.8500</td>\n",
       "      <td>15300.00</td>\n",
       "      <td>4.1</td>\n",
       "      <td>19.30</td>\n",
       "      <td>347400.0</td>\n",
       "      <td>4.4</td>\n",
       "      <td>-27000.0</td>\n",
       "      <td>-7.2</td>\n",
       "      <td>4</td>\n",
       "    </tr>\n",
       "    <tr>\n",
       "      <th>23</th>\n",
       "      <td>NER</td>\n",
       "      <td>36000</td>\n",
       "      <td>7.45</td>\n",
       "      <td>268200.0</td>\n",
       "      <td>0.2200</td>\n",
       "      <td>7920.00</td>\n",
       "      <td>3.0</td>\n",
       "      <td>7.05</td>\n",
       "      <td>253800.0</td>\n",
       "      <td>3.1</td>\n",
       "      <td>-14400.0</td>\n",
       "      <td>-5.4</td>\n",
       "      <td>4</td>\n",
       "    </tr>\n",
       "    <tr>\n",
       "      <th>26</th>\n",
       "      <td>KBANK</td>\n",
       "      <td>2400</td>\n",
       "      <td>136.50</td>\n",
       "      <td>327600.0</td>\n",
       "      <td>3.0000</td>\n",
       "      <td>7200.00</td>\n",
       "      <td>2.2</td>\n",
       "      <td>141.00</td>\n",
       "      <td>338400.0</td>\n",
       "      <td>2.1</td>\n",
       "      <td>10800.0</td>\n",
       "      <td>3.3</td>\n",
       "      <td>4</td>\n",
       "    </tr>\n",
       "    <tr>\n",
       "      <th>28</th>\n",
       "      <td>DCC</td>\n",
       "      <td>40000</td>\n",
       "      <td>2.90</td>\n",
       "      <td>116000.0</td>\n",
       "      <td>0.1840</td>\n",
       "      <td>7360.00</td>\n",
       "      <td>6.3</td>\n",
       "      <td>2.82</td>\n",
       "      <td>112800.0</td>\n",
       "      <td>6.5</td>\n",
       "      <td>-3200.0</td>\n",
       "      <td>-2.8</td>\n",
       "      <td>4</td>\n",
       "    </tr>\n",
       "    <tr>\n",
       "      <th>29</th>\n",
       "      <td>BGRIM</td>\n",
       "      <td>9000</td>\n",
       "      <td>40.00</td>\n",
       "      <td>360000.0</td>\n",
       "      <td>0.4500</td>\n",
       "      <td>4050.00</td>\n",
       "      <td>1.1</td>\n",
       "      <td>40.00</td>\n",
       "      <td>360000.0</td>\n",
       "      <td>1.1</td>\n",
       "      <td>0.0</td>\n",
       "      <td>0.0</td>\n",
       "      <td>4</td>\n",
       "    </tr>\n",
       "    <tr>\n",
       "      <th>30</th>\n",
       "      <td>SCC</td>\n",
       "      <td>600</td>\n",
       "      <td>405.00</td>\n",
       "      <td>243000.0</td>\n",
       "      <td>9.9999</td>\n",
       "      <td>5999.94</td>\n",
       "      <td>2.5</td>\n",
       "      <td>382.00</td>\n",
       "      <td>229200.0</td>\n",
       "      <td>2.6</td>\n",
       "      <td>-13800.0</td>\n",
       "      <td>-5.7</td>\n",
       "      <td>4</td>\n",
       "    </tr>\n",
       "    <tr>\n",
       "      <th>32</th>\n",
       "      <td>RJH</td>\n",
       "      <td>4500</td>\n",
       "      <td>33.00</td>\n",
       "      <td>148500.0</td>\n",
       "      <td>1.7000</td>\n",
       "      <td>7650.00</td>\n",
       "      <td>5.2</td>\n",
       "      <td>32.75</td>\n",
       "      <td>147375.0</td>\n",
       "      <td>5.2</td>\n",
       "      <td>-1125.0</td>\n",
       "      <td>-0.8</td>\n",
       "      <td>4</td>\n",
       "    </tr>\n",
       "  </tbody>\n",
       "</table>\n",
       "</div>"
      ],
      "text/plain": [
       "     name  shares  unit_cost      cost  dividend   div_amt  cost_pct   price  \\\n",
       "2     SAT    7500      21.10  158250.0    0.8800   6600.00       4.2   21.40   \n",
       "3     IVL   18000      42.00  756000.0    0.8500  15300.00       2.0   42.75   \n",
       "9     VNT    4500      37.50  168750.0    0.9000   4050.00       2.4   38.50   \n",
       "11    TOP    3000      50.00  150000.0    1.3000   3900.00       2.6   49.25   \n",
       "20     TU   18000      20.80  374400.0    0.8500  15300.00       4.1   19.30   \n",
       "23    NER   36000       7.45  268200.0    0.2200   7920.00       3.0    7.05   \n",
       "26  KBANK    2400     136.50  327600.0    3.0000   7200.00       2.2  141.00   \n",
       "28    DCC   40000       2.90  116000.0    0.1840   7360.00       6.3    2.82   \n",
       "29  BGRIM    9000      40.00  360000.0    0.4500   4050.00       1.1   40.00   \n",
       "30    SCC     600     405.00  243000.0    9.9999   5999.94       2.5  382.00   \n",
       "32    RJH    4500      33.00  148500.0    1.7000   7650.00       5.2   32.75   \n",
       "\n",
       "      amount  mkt_pct   profit  pft_pct period  \n",
       "2   160500.0      4.1   2250.0      1.4      4  \n",
       "3   769500.0      2.0  13500.0      1.8      4  \n",
       "9   173250.0      2.3   4500.0      2.7      4  \n",
       "11  147750.0      2.6  -2250.0     -1.5      4  \n",
       "20  347400.0      4.4 -27000.0     -7.2      4  \n",
       "23  253800.0      3.1 -14400.0     -5.4      4  \n",
       "26  338400.0      2.1  10800.0      3.3      4  \n",
       "28  112800.0      6.5  -3200.0     -2.8      4  \n",
       "29  360000.0      1.1      0.0      0.0      4  \n",
       "30  229200.0      2.6 -13800.0     -5.7      4  \n",
       "32  147375.0      5.2  -1125.0     -0.8      4  "
      ]
     },
     "execution_count": 39,
     "metadata": {},
     "output_type": "execute_result"
    }
   ],
   "source": [
    "df_buy_price.loc[short_term]"
   ]
  },
  {
   "cell_type": "code",
   "execution_count": 40,
   "metadata": {},
   "outputs": [
    {
     "data": {
      "text/plain": [
       "\"'SAT', 'IVL', 'VNT', 'TOP', 'TU', 'NER', 'KBANK', 'DCC', 'BGRIM', 'SCC', 'RJH'\""
      ]
     },
     "execution_count": 40,
     "metadata": {},
     "output_type": "execute_result"
    }
   ],
   "source": [
    "data = df_buy_price.loc[short_term]\n",
    "names = data['name']\n",
    "in_p = \", \".join(map(lambda name: \"'%s'\" % name, names))\n",
    "in_p"
   ]
  },
  {
   "cell_type": "code",
   "execution_count": 41,
   "metadata": {
    "scrolled": true
   },
   "outputs": [
    {
     "data": {
      "text/html": [
       "<div>\n",
       "<style scoped>\n",
       "    .dataframe tbody tr th:only-of-type {\n",
       "        vertical-align: middle;\n",
       "    }\n",
       "\n",
       "    .dataframe tbody tr th {\n",
       "        vertical-align: top;\n",
       "    }\n",
       "\n",
       "    .dataframe thead th {\n",
       "        text-align: right;\n",
       "    }\n",
       "</style>\n",
       "<table border=\"1\" class=\"dataframe\">\n",
       "  <thead>\n",
       "    <tr style=\"text-align: right;\">\n",
       "      <th></th>\n",
       "      <th>min</th>\n",
       "      <th>price</th>\n",
       "      <th>max</th>\n",
       "    </tr>\n",
       "    <tr>\n",
       "      <th>name</th>\n",
       "      <th></th>\n",
       "      <th></th>\n",
       "      <th></th>\n",
       "    </tr>\n",
       "  </thead>\n",
       "  <tbody>\n",
       "    <tr>\n",
       "      <th>BGRIM</th>\n",
       "      <td>38.25</td>\n",
       "      <td>40.00</td>\n",
       "      <td>56.00</td>\n",
       "    </tr>\n",
       "    <tr>\n",
       "      <th>DCC</th>\n",
       "      <td>2.22</td>\n",
       "      <td>2.82</td>\n",
       "      <td>3.40</td>\n",
       "    </tr>\n",
       "    <tr>\n",
       "      <th>IVL</th>\n",
       "      <td>33.75</td>\n",
       "      <td>43.00</td>\n",
       "      <td>50.00</td>\n",
       "    </tr>\n",
       "    <tr>\n",
       "      <th>KBANK</th>\n",
       "      <td>101.00</td>\n",
       "      <td>138.00</td>\n",
       "      <td>153.00</td>\n",
       "    </tr>\n",
       "    <tr>\n",
       "      <th>NER</th>\n",
       "      <td>4.10</td>\n",
       "      <td>7.05</td>\n",
       "      <td>8.65</td>\n",
       "    </tr>\n",
       "    <tr>\n",
       "      <th>RJH</th>\n",
       "      <td>23.10</td>\n",
       "      <td>32.50</td>\n",
       "      <td>39.00</td>\n",
       "    </tr>\n",
       "    <tr>\n",
       "      <th>SAT</th>\n",
       "      <td>15.70</td>\n",
       "      <td>21.20</td>\n",
       "      <td>23.50</td>\n",
       "    </tr>\n",
       "    <tr>\n",
       "      <th>SCC</th>\n",
       "      <td>364.00</td>\n",
       "      <td>379.00</td>\n",
       "      <td>474.00</td>\n",
       "    </tr>\n",
       "    <tr>\n",
       "      <th>TOP</th>\n",
       "      <td>42.50</td>\n",
       "      <td>48.25</td>\n",
       "      <td>66.00</td>\n",
       "    </tr>\n",
       "    <tr>\n",
       "      <th>TU</th>\n",
       "      <td>13.40</td>\n",
       "      <td>19.30</td>\n",
       "      <td>23.00</td>\n",
       "    </tr>\n",
       "    <tr>\n",
       "      <th>VNT</th>\n",
       "      <td>28.25</td>\n",
       "      <td>38.50</td>\n",
       "      <td>39.00</td>\n",
       "    </tr>\n",
       "  </tbody>\n",
       "</table>\n",
       "</div>"
      ],
      "text/plain": [
       "          min   price     max\n",
       "name                         \n",
       "BGRIM   38.25   40.00   56.00\n",
       "DCC      2.22    2.82    3.40\n",
       "IVL     33.75   43.00   50.00\n",
       "KBANK  101.00  138.00  153.00\n",
       "NER      4.10    7.05    8.65\n",
       "RJH     23.10   32.50   39.00\n",
       "SAT     15.70   21.20   23.50\n",
       "SCC    364.00  379.00  474.00\n",
       "TOP     42.50   48.25   66.00\n",
       "TU      13.40   19.30   23.00\n",
       "VNT     28.25   38.50   39.00"
      ]
     },
     "execution_count": 41,
     "metadata": {},
     "output_type": "execute_result"
    }
   ],
   "source": [
    "sql = '''\n",
    "SELECT name, min_price AS min, price, max_price AS max \n",
    "FROM stocks\n",
    "WHERE name IN (%s)'''\n",
    "sql = sql % in_p\n",
    "stocks = pd.read_sql(sql, conmy)\n",
    "stocks.set_index('name',inplace=True)\n",
    "stocks"
   ]
  },
  {
   "cell_type": "code",
   "execution_count": 42,
   "metadata": {},
   "outputs": [
    {
     "data": {
      "text/html": [
       "<div>\n",
       "<style scoped>\n",
       "    .dataframe tbody tr th:only-of-type {\n",
       "        vertical-align: middle;\n",
       "    }\n",
       "\n",
       "    .dataframe tbody tr th {\n",
       "        vertical-align: top;\n",
       "    }\n",
       "\n",
       "    .dataframe thead th {\n",
       "        text-align: right;\n",
       "    }\n",
       "</style>\n",
       "<table border=\"1\" class=\"dataframe\">\n",
       "  <thead>\n",
       "    <tr style=\"text-align: right;\">\n",
       "      <th></th>\n",
       "      <th>min</th>\n",
       "      <th>price</th>\n",
       "      <th>max</th>\n",
       "    </tr>\n",
       "    <tr>\n",
       "      <th>name</th>\n",
       "      <th></th>\n",
       "      <th></th>\n",
       "      <th></th>\n",
       "    </tr>\n",
       "  </thead>\n",
       "  <tbody>\n",
       "    <tr>\n",
       "      <th>BGRIM</th>\n",
       "      <td>38.25</td>\n",
       "      <td>40.00</td>\n",
       "      <td>56.00</td>\n",
       "    </tr>\n",
       "    <tr>\n",
       "      <th>DCC</th>\n",
       "      <td>2.22</td>\n",
       "      <td>2.82</td>\n",
       "      <td>3.40</td>\n",
       "    </tr>\n",
       "    <tr>\n",
       "      <th>IVL</th>\n",
       "      <td>33.75</td>\n",
       "      <td>43.00</td>\n",
       "      <td>50.00</td>\n",
       "    </tr>\n",
       "    <tr>\n",
       "      <th>KBANK</th>\n",
       "      <td>101.00</td>\n",
       "      <td>138.00</td>\n",
       "      <td>153.00</td>\n",
       "    </tr>\n",
       "    <tr>\n",
       "      <th>NER</th>\n",
       "      <td>4.10</td>\n",
       "      <td>7.05</td>\n",
       "      <td>8.65</td>\n",
       "    </tr>\n",
       "    <tr>\n",
       "      <th>RJH</th>\n",
       "      <td>23.10</td>\n",
       "      <td>32.50</td>\n",
       "      <td>39.00</td>\n",
       "    </tr>\n",
       "    <tr>\n",
       "      <th>SAT</th>\n",
       "      <td>15.70</td>\n",
       "      <td>21.20</td>\n",
       "      <td>23.50</td>\n",
       "    </tr>\n",
       "    <tr>\n",
       "      <th>TOP</th>\n",
       "      <td>42.50</td>\n",
       "      <td>48.25</td>\n",
       "      <td>66.00</td>\n",
       "    </tr>\n",
       "    <tr>\n",
       "      <th>TU</th>\n",
       "      <td>13.40</td>\n",
       "      <td>19.30</td>\n",
       "      <td>23.00</td>\n",
       "    </tr>\n",
       "    <tr>\n",
       "      <th>VNT</th>\n",
       "      <td>28.25</td>\n",
       "      <td>38.50</td>\n",
       "      <td>39.00</td>\n",
       "    </tr>\n",
       "  </tbody>\n",
       "</table>\n",
       "</div>"
      ],
      "text/plain": [
       "          min   price     max\n",
       "name                         \n",
       "BGRIM   38.25   40.00   56.00\n",
       "DCC      2.22    2.82    3.40\n",
       "IVL     33.75   43.00   50.00\n",
       "KBANK  101.00  138.00  153.00\n",
       "NER      4.10    7.05    8.65\n",
       "RJH     23.10   32.50   39.00\n",
       "SAT     15.70   21.20   23.50\n",
       "TOP     42.50   48.25   66.00\n",
       "TU      13.40   19.30   23.00\n",
       "VNT     28.25   38.50   39.00"
      ]
     },
     "execution_count": 42,
     "metadata": {},
     "output_type": "execute_result"
    }
   ],
   "source": [
    "stocks.drop('SCC',inplace=True)\n",
    "stocks"
   ]
  },
  {
   "cell_type": "code",
   "execution_count": 43,
   "metadata": {},
   "outputs": [
    {
     "data": {
      "text/plain": [
       "<AxesSubplot:xlabel='name'>"
      ]
     },
     "execution_count": 43,
     "metadata": {},
     "output_type": "execute_result"
    },
    {
     "data": {
      "image/png": "[encoded data removed]",
      "text/plain": [
       "<Figure size 432x288 with 1 Axes>"
      ]
     },
     "metadata": {
      "needs_background": "light"
     },
     "output_type": "display_data"
    }
   ],
   "source": [
    "stocks.plot.bar()"
   ]
  },
  {
   "cell_type": "code",
   "execution_count": 44,
   "metadata": {},
   "outputs": [
    {
     "data": {
      "text/plain": [
       "<AxesSubplot:xlabel='name', ylabel='price'>"
      ]
     },
     "execution_count": 44,
     "metadata": {},
     "output_type": "execute_result"
    },
    {
     "data": {
      "image/png": "[encoded data removed]",
      "text/plain": [
       "<Figure size 432x288 with 1 Axes>"
      ]
     },
     "metadata": {
      "needs_background": "light"
     },
     "output_type": "display_data"
    }
   ],
   "source": [
    "stocks.reset_index('name',inplace=True)\n",
    "sns.barplot(x='name', y='price', data=stocks)"
   ]
  },
  {
   "cell_type": "code",
   "execution_count": null,
   "metadata": {},
   "outputs": [],
   "source": []
  }
 ],
 "metadata": {
  "anaconda-cloud": {},
  "kernelspec": {
   "display_name": "Python 3 (ipykernel)",
   "language": "python",
   "name": "python3"
  },
  "language_info": {
   "codemirror_mode": {
    "name": "ipython",
    "version": 3
   },
   "file_extension": ".py",
   "mimetype": "text/x-python",
   "name": "python",
   "nbconvert_exporter": "python",
   "pygments_lexer": "ipython3",
   "version": "3.8.11"
  }
 },
 "nbformat": 4,
 "nbformat_minor": 1
}
