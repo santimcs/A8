{
 "cells": [
  {
   "cell_type": "code",
   "execution_count": 1,
   "metadata": {},
   "outputs": [
    {
     "data": {
      "application/javascript": [
       "\n",
       "(function(root) {\n",
       "  function now() {\n",
       "    return new Date();\n",
       "  }\n",
       "\n",
       "  var force = true;\n",
       "\n",
       "  if (typeof root._bokeh_onload_callbacks === \"undefined\" || force === true) {\n",
       "    root._bokeh_onload_callbacks = [];\n",
       "    root._bokeh_is_loading = undefined;\n",
       "  }\n",
       "\n",
       "  if (typeof (root._bokeh_timeout) === \"undefined\" || force === true) {\n",
       "    root._bokeh_timeout = Date.now() + 5000;\n",
       "    root._bokeh_failed_load = false;\n",
       "  }\n",
       "\n",
       "  function run_callbacks() {\n",
       "    try {\n",
       "      root._bokeh_onload_callbacks.forEach(function(callback) {\n",
       "        if (callback != null)\n",
       "          callback();\n",
       "      });\n",
       "    } finally {\n",
       "      delete root._bokeh_onload_callbacks\n",
       "    }\n",
       "    console.debug(\"Bokeh: all callbacks have finished\");\n",
       "  }\n",
       "\n",
       "  function load_libs(css_urls, js_urls, js_modules, callback) {\n",
       "    if (css_urls == null) css_urls = [];\n",
       "    if (js_urls == null) js_urls = [];\n",
       "    if (js_modules == null) js_modules = [];\n",
       "\n",
       "    root._bokeh_onload_callbacks.push(callback);\n",
       "    if (root._bokeh_is_loading > 0) {\n",
       "      console.debug(\"Bokeh: BokehJS is being loaded, scheduling callback at\", now());\n",
       "      return null;\n",
       "    }\n",
       "    if (js_urls.length === 0 && js_modules.length === 0) {\n",
       "      run_callbacks();\n",
       "      return null;\n",
       "    }\n",
       "    console.debug(\"Bokeh: BokehJS not loaded, scheduling load and callback at\", now());\n",
       "    root._bokeh_is_loading = css_urls.length + js_urls.length + js_modules.length;\n",
       "\n",
       "    function on_load() {\n",
       "      root._bokeh_is_loading--;\n",
       "      if (root._bokeh_is_loading === 0) {\n",
       "        console.debug(\"Bokeh: all BokehJS libraries/stylesheets loaded\");\n",
       "        run_callbacks()\n",
       "      }\n",
       "    }\n",
       "\n",
       "    function on_error() {\n",
       "      console.error(\"failed to load \" + url);\n",
       "    }\n",
       "\n",
       "    for (var i = 0; i < css_urls.length; i++) {\n",
       "      var url = css_urls[i];\n",
       "      const element = document.createElement(\"link\");\n",
       "      element.onload = on_load;\n",
       "      element.onerror = on_error;\n",
       "      element.rel = \"stylesheet\";\n",
       "      element.type = \"text/css\";\n",
       "      element.href = url;\n",
       "      console.debug(\"Bokeh: injecting link tag for BokehJS stylesheet: \", url);\n",
       "      document.body.appendChild(element);\n",
       "    }\n",
       "\n",
       "    var skip = [];\n",
       "    if (window.requirejs) {\n",
       "      window.requirejs.config({'packages': {}, 'paths': {'tabulator': 'https://unpkg.com/tabulator-tables@4.9.3/dist/js/tabulator', 'moment': 'https://unpkg.com/moment@2.27.0/moment'}, 'shim': {}});\n",
       "      \n",
       "      require([\"tabulator\"], function(Tabulator) {\n",
       "\twindow.Tabulator = Tabulator\n",
       "      })\n",
       "      \n",
       "      require([\"moment\"], function(moment) {\n",
       "\twindow.moment = moment\n",
       "      })\n",
       "      \n",
       "    }\n",
       "    if (((window['Tabulator'] !== undefined) && (!(window['Tabulator'] instanceof HTMLElement))) || window.requirejs) {\n",
       "      var urls = ['https://unpkg.com/tabulator-tables@4.9.3/dist/js/tabulator.js'];\n",
       "      for (var i = 0; i < urls.length; i++) {\n",
       "        skip.push(urls[i])\n",
       "      }\n",
       "    }\n",
       "    if (((window['moment'] !== undefined) && (!(window['moment'] instanceof HTMLElement))) || window.requirejs) {\n",
       "      var urls = ['https://unpkg.com/moment@2.27.0/moment.js'];\n",
       "      for (var i = 0; i < urls.length; i++) {\n",
       "        skip.push(urls[i])\n",
       "      }\n",
       "    }\n",
       "    for (var i = 0; i < js_urls.length; i++) {\n",
       "      var url = js_urls[i];\n",
       "      if (skip.indexOf(url) >= 0) { on_load(); continue; }\n",
       "      var element = document.createElement('script');\n",
       "      element.onload = on_load;\n",
       "      element.onerror = on_error;\n",
       "      element.async = false;\n",
       "      element.src = url;\n",
       "      console.debug(\"Bokeh: injecting script tag for BokehJS library: \", url);\n",
       "      document.head.appendChild(element);\n",
       "    }\n",
       "    for (var i = 0; i < js_modules.length; i++) {\n",
       "      var url = js_modules[i];\n",
       "      if (skip.indexOf(url) >= 0) { on_load(); continue; }\n",
       "      var element = document.createElement('script');\n",
       "      element.onload = on_load;\n",
       "      element.onerror = on_error;\n",
       "      element.async = false;\n",
       "      element.src = url;\n",
       "      element.type = \"module\";\n",
       "      console.debug(\"Bokeh: injecting script tag for BokehJS library: \", url);\n",
       "      document.head.appendChild(element);\n",
       "    }\n",
       "    if (!js_urls.length && !js_modules.length) {\n",
       "      on_load()\n",
       "    }\n",
       "  };\n",
       "\n",
       "  function inject_raw_css(css) {\n",
       "    const element = document.createElement(\"style\");\n",
       "    element.appendChild(document.createTextNode(css));\n",
       "    document.body.appendChild(element);\n",
       "  }\n",
       "\n",
       "  var js_urls = [\"https://unpkg.com/tabulator-tables@4.9.3/dist/js/tabulator.js\", \"https://unpkg.com/moment@2.27.0/moment.js\", \"https://cdn.bokeh.org/bokeh/release/bokeh-2.3.3.min.js\", \"https://cdn.bokeh.org/bokeh/release/bokeh-widgets-2.3.3.min.js\", \"https://cdn.bokeh.org/bokeh/release/bokeh-tables-2.3.3.min.js\", \"https://unpkg.com/@holoviz/panel@0.12.1/dist/panel.min.js\"];\n",
       "  var js_modules = [];\n",
       "  var css_urls = [\"https://unpkg.com/tabulator-tables@4.9.3/dist/css/tabulator_simple.min.css\", \"https://unpkg.com/@holoviz/panel@0.12.1/dist/css/alerts.css\", \"https://unpkg.com/@holoviz/panel@0.12.1/dist/css/card.css\", \"https://unpkg.com/@holoviz/panel@0.12.1/dist/css/dataframe.css\", \"https://unpkg.com/@holoviz/panel@0.12.1/dist/css/json.css\", \"https://unpkg.com/@holoviz/panel@0.12.1/dist/css/loading.css\", \"https://unpkg.com/@holoviz/panel@0.12.1/dist/css/markdown.css\", \"https://unpkg.com/@holoviz/panel@0.12.1/dist/css/widgets.css\"];\n",
       "  var inline_js = [\n",
       "    function(Bokeh) {\n",
       "      inject_raw_css(\"\\n    .bk.pn-loading.arcs:before {\\n      background-image: url(\\\"data:image/svg+xml;base64,PHN2ZyB4bWxucz0iaHR0cDovL3d3dy53My5vcmcvMjAwMC9zdmciIHhtbG5zOnhsaW5rPSJodHRwOi8vd3d3LnczLm9yZy8xOTk5L3hsaW5rIiBzdHlsZT0ibWFyZ2luOiBhdXRvOyBiYWNrZ3JvdW5kOiBub25lOyBkaXNwbGF5OiBibG9jazsgc2hhcGUtcmVuZGVyaW5nOiBhdXRvOyIgdmlld0JveD0iMCAwIDEwMCAxMDAiIHByZXNlcnZlQXNwZWN0UmF0aW89InhNaWRZTWlkIj4gIDxjaXJjbGUgY3g9IjUwIiBjeT0iNTAiIHI9IjMyIiBzdHJva2Utd2lkdGg9IjgiIHN0cm9rZT0iI2MzYzNjMyIgc3Ryb2tlLWRhc2hhcnJheT0iNTAuMjY1NDgyNDU3NDM2NjkgNTAuMjY1NDgyNDU3NDM2NjkiIGZpbGw9Im5vbmUiIHN0cm9rZS1saW5lY2FwPSJyb3VuZCI+ICAgIDxhbmltYXRlVHJhbnNmb3JtIGF0dHJpYnV0ZU5hbWU9InRyYW5zZm9ybSIgdHlwZT0icm90YXRlIiByZXBlYXRDb3VudD0iaW5kZWZpbml0ZSIgZHVyPSIxcyIga2V5VGltZXM9IjA7MSIgdmFsdWVzPSIwIDUwIDUwOzM2MCA1MCA1MCI+PC9hbmltYXRlVHJhbnNmb3JtPiAgPC9jaXJjbGU+PC9zdmc+\\\")\\n    }\\n    \");\n",
       "    },\n",
       "    function(Bokeh) {\n",
       "      Bokeh.set_log_level(\"info\");\n",
       "    },\n",
       "    function(Bokeh) {} // ensure no trailing comma for IE\n",
       "  ];\n",
       "\n",
       "  function run_inline_js() {\n",
       "    if ((root.Bokeh !== undefined) || (force === true)) {\n",
       "      for (var i = 0; i < inline_js.length; i++) {\n",
       "        inline_js[i].call(root, root.Bokeh);\n",
       "      }} else if (Date.now() < root._bokeh_timeout) {\n",
       "      setTimeout(run_inline_js, 100);\n",
       "    } else if (!root._bokeh_failed_load) {\n",
       "      console.log(\"Bokeh: BokehJS failed to load within specified timeout.\");\n",
       "      root._bokeh_failed_load = true;\n",
       "    }\n",
       "  }\n",
       "\n",
       "  if (root._bokeh_is_loading === 0) {\n",
       "    console.debug(\"Bokeh: BokehJS loaded, going straight to plotting\");\n",
       "    run_inline_js();\n",
       "  } else {\n",
       "    load_libs(css_urls, js_urls, js_modules, function() {\n",
       "      console.debug(\"Bokeh: BokehJS plotting callback run at\", now());\n",
       "      run_inline_js();\n",
       "    });\n",
       "  }\n",
       "}(window));"
      ],
      "application/vnd.holoviews_load.v0+json": "\n(function(root) {\n  function now() {\n    return new Date();\n  }\n\n  var force = true;\n\n  if (typeof root._bokeh_onload_callbacks === \"undefined\" || force === true) {\n    root._bokeh_onload_callbacks = [];\n    root._bokeh_is_loading = undefined;\n  }\n\n  if (typeof (root._bokeh_timeout) === \"undefined\" || force === true) {\n    root._bokeh_timeout = Date.now() + 5000;\n    root._bokeh_failed_load = false;\n  }\n\n  function run_callbacks() {\n    try {\n      root._bokeh_onload_callbacks.forEach(function(callback) {\n        if (callback != null)\n          callback();\n      });\n    } finally {\n      delete root._bokeh_onload_callbacks\n    }\n    console.debug(\"Bokeh: all callbacks have finished\");\n  }\n\n  function load_libs(css_urls, js_urls, js_modules, callback) {\n    if (css_urls == null) css_urls = [];\n    if (js_urls == null) js_urls = [];\n    if (js_modules == null) js_modules = [];\n\n    root._bokeh_onload_callbacks.push(callback);\n    if (root._bokeh_is_loading > 0) {\n      console.debug(\"Bokeh: BokehJS is being loaded, scheduling callback at\", now());\n      return null;\n    }\n    if (js_urls.length === 0 && js_modules.length === 0) {\n      run_callbacks();\n      return null;\n    }\n    console.debug(\"Bokeh: BokehJS not loaded, scheduling load and callback at\", now());\n    root._bokeh_is_loading = css_urls.length + js_urls.length + js_modules.length;\n\n    function on_load() {\n      root._bokeh_is_loading--;\n      if (root._bokeh_is_loading === 0) {\n        console.debug(\"Bokeh: all BokehJS libraries/stylesheets loaded\");\n        run_callbacks()\n      }\n    }\n\n    function on_error() {\n      console.error(\"failed to load \" + url);\n    }\n\n    for (var i = 0; i < css_urls.length; i++) {\n      var url = css_urls[i];\n      const element = document.createElement(\"link\");\n      element.onload = on_load;\n      element.onerror = on_error;\n      element.rel = \"stylesheet\";\n      element.type = \"text/css\";\n      element.href = url;\n      console.debug(\"Bokeh: injecting link tag for BokehJS stylesheet: \", url);\n      document.body.appendChild(element);\n    }\n\n    var skip = [];\n    if (window.requirejs) {\n      window.requirejs.config({'packages': {}, 'paths': {'tabulator': 'https://unpkg.com/tabulator-tables@4.9.3/dist/js/tabulator', 'moment': 'https://unpkg.com/moment@2.27.0/moment'}, 'shim': {}});\n      \n      require([\"tabulator\"], function(Tabulator) {\n\twindow.Tabulator = Tabulator\n      })\n      \n      require([\"moment\"], function(moment) {\n\twindow.moment = moment\n      })\n      \n    }\n    if (((window['Tabulator'] !== undefined) && (!(window['Tabulator'] instanceof HTMLElement))) || window.requirejs) {\n      var urls = ['https://unpkg.com/tabulator-tables@4.9.3/dist/js/tabulator.js'];\n      for (var i = 0; i < urls.length; i++) {\n        skip.push(urls[i])\n      }\n    }\n    if (((window['moment'] !== undefined) && (!(window['moment'] instanceof HTMLElement))) || window.requirejs) {\n      var urls = ['https://unpkg.com/moment@2.27.0/moment.js'];\n      for (var i = 0; i < urls.length; i++) {\n        skip.push(urls[i])\n      }\n    }\n    for (var i = 0; i < js_urls.length; i++) {\n      var url = js_urls[i];\n      if (skip.indexOf(url) >= 0) { on_load(); continue; }\n      var element = document.createElement('script');\n      element.onload = on_load;\n      element.onerror = on_error;\n      element.async = false;\n      element.src = url;\n      console.debug(\"Bokeh: injecting script tag for BokehJS library: \", url);\n      document.head.appendChild(element);\n    }\n    for (var i = 0; i < js_modules.length; i++) {\n      var url = js_modules[i];\n      if (skip.indexOf(url) >= 0) { on_load(); continue; }\n      var element = document.createElement('script');\n      element.onload = on_load;\n      element.onerror = on_error;\n      element.async = false;\n      element.src = url;\n      element.type = \"module\";\n      console.debug(\"Bokeh: injecting script tag for BokehJS library: \", url);\n      document.head.appendChild(element);\n    }\n    if (!js_urls.length && !js_modules.length) {\n      on_load()\n    }\n  };\n\n  function inject_raw_css(css) {\n    const element = document.createElement(\"style\");\n    element.appendChild(document.createTextNode(css));\n    document.body.appendChild(element);\n  }\n\n  var js_urls = [\"https://unpkg.com/tabulator-tables@4.9.3/dist/js/tabulator.js\", \"https://unpkg.com/moment@2.27.0/moment.js\", \"https://cdn.bokeh.org/bokeh/release/bokeh-2.3.3.min.js\", \"https://cdn.bokeh.org/bokeh/release/bokeh-widgets-2.3.3.min.js\", \"https://cdn.bokeh.org/bokeh/release/bokeh-tables-2.3.3.min.js\", \"https://unpkg.com/@holoviz/panel@0.12.1/dist/panel.min.js\"];\n  var js_modules = [];\n  var css_urls = [\"https://unpkg.com/tabulator-tables@4.9.3/dist/css/tabulator_simple.min.css\", \"https://unpkg.com/@holoviz/panel@0.12.1/dist/css/alerts.css\", \"https://unpkg.com/@holoviz/panel@0.12.1/dist/css/card.css\", \"https://unpkg.com/@holoviz/panel@0.12.1/dist/css/dataframe.css\", \"https://unpkg.com/@holoviz/panel@0.12.1/dist/css/json.css\", \"https://unpkg.com/@holoviz/panel@0.12.1/dist/css/loading.css\", \"https://unpkg.com/@holoviz/panel@0.12.1/dist/css/markdown.css\", \"https://unpkg.com/@holoviz/panel@0.12.1/dist/css/widgets.css\"];\n  var inline_js = [\n    function(Bokeh) {\n      inject_raw_css(\"\\n    .bk.pn-loading.arcs:before {\\n      background-image: url(\\\"data:image/svg+xml;base64,PHN2ZyB4bWxucz0iaHR0cDovL3d3dy53My5vcmcvMjAwMC9zdmciIHhtbG5zOnhsaW5rPSJodHRwOi8vd3d3LnczLm9yZy8xOTk5L3hsaW5rIiBzdHlsZT0ibWFyZ2luOiBhdXRvOyBiYWNrZ3JvdW5kOiBub25lOyBkaXNwbGF5OiBibG9jazsgc2hhcGUtcmVuZGVyaW5nOiBhdXRvOyIgdmlld0JveD0iMCAwIDEwMCAxMDAiIHByZXNlcnZlQXNwZWN0UmF0aW89InhNaWRZTWlkIj4gIDxjaXJjbGUgY3g9IjUwIiBjeT0iNTAiIHI9IjMyIiBzdHJva2Utd2lkdGg9IjgiIHN0cm9rZT0iI2MzYzNjMyIgc3Ryb2tlLWRhc2hhcnJheT0iNTAuMjY1NDgyNDU3NDM2NjkgNTAuMjY1NDgyNDU3NDM2NjkiIGZpbGw9Im5vbmUiIHN0cm9rZS1saW5lY2FwPSJyb3VuZCI+ICAgIDxhbmltYXRlVHJhbnNmb3JtIGF0dHJpYnV0ZU5hbWU9InRyYW5zZm9ybSIgdHlwZT0icm90YXRlIiByZXBlYXRDb3VudD0iaW5kZWZpbml0ZSIgZHVyPSIxcyIga2V5VGltZXM9IjA7MSIgdmFsdWVzPSIwIDUwIDUwOzM2MCA1MCA1MCI+PC9hbmltYXRlVHJhbnNmb3JtPiAgPC9jaXJjbGU+PC9zdmc+\\\")\\n    }\\n    \");\n    },\n    function(Bokeh) {\n      Bokeh.set_log_level(\"info\");\n    },\n    function(Bokeh) {} // ensure no trailing comma for IE\n  ];\n\n  function run_inline_js() {\n    if ((root.Bokeh !== undefined) || (force === true)) {\n      for (var i = 0; i < inline_js.length; i++) {\n        inline_js[i].call(root, root.Bokeh);\n      }} else if (Date.now() < root._bokeh_timeout) {\n      setTimeout(run_inline_js, 100);\n    } else if (!root._bokeh_failed_load) {\n      console.log(\"Bokeh: BokehJS failed to load within specified timeout.\");\n      root._bokeh_failed_load = true;\n    }\n  }\n\n  if (root._bokeh_is_loading === 0) {\n    console.debug(\"Bokeh: BokehJS loaded, going straight to plotting\");\n    run_inline_js();\n  } else {\n    load_libs(css_urls, js_urls, js_modules, function() {\n      console.debug(\"Bokeh: BokehJS plotting callback run at\", now());\n      run_inline_js();\n    });\n  }\n}(window));"
     },
     "metadata": {},
     "output_type": "display_data"
    },
    {
     "data": {
      "application/javascript": [
       "\n",
       "if ((window.PyViz === undefined) || (window.PyViz instanceof HTMLElement)) {\n",
       "  window.PyViz = {comms: {}, comm_status:{}, kernels:{}, receivers: {}, plot_index: []}\n",
       "}\n",
       "\n",
       "\n",
       "    function JupyterCommManager() {\n",
       "    }\n",
       "\n",
       "    JupyterCommManager.prototype.register_target = function(plot_id, comm_id, msg_handler) {\n",
       "      if (window.comm_manager || ((window.Jupyter !== undefined) && (Jupyter.notebook.kernel != null))) {\n",
       "        var comm_manager = window.comm_manager || Jupyter.notebook.kernel.comm_manager;\n",
       "        comm_manager.register_target(comm_id, function(comm) {\n",
       "          comm.on_msg(msg_handler);\n",
       "        });\n",
       "      } else if ((plot_id in window.PyViz.kernels) && (window.PyViz.kernels[plot_id])) {\n",
       "        window.PyViz.kernels[plot_id].registerCommTarget(comm_id, function(comm) {\n",
       "          comm.onMsg = msg_handler;\n",
       "        });\n",
       "      } else if (typeof google != 'undefined' && google.colab.kernel != null) {\n",
       "        google.colab.kernel.comms.registerTarget(comm_id, (comm) => {\n",
       "          var messages = comm.messages[Symbol.asyncIterator]();\n",
       "          function processIteratorResult(result) {\n",
       "            var message = result.value;\n",
       "            console.log(message)\n",
       "            var content = {data: message.data, comm_id};\n",
       "            var buffers = []\n",
       "            for (var buffer of message.buffers || []) {\n",
       "              buffers.push(new DataView(buffer))\n",
       "            }\n",
       "            var metadata = message.metadata || {};\n",
       "            var msg = {content, buffers, metadata}\n",
       "            msg_handler(msg);\n",
       "            return messages.next().then(processIteratorResult);\n",
       "          }\n",
       "          return messages.next().then(processIteratorResult);\n",
       "        })\n",
       "      }\n",
       "    }\n",
       "\n",
       "    JupyterCommManager.prototype.get_client_comm = function(plot_id, comm_id, msg_handler) {\n",
       "      if (comm_id in window.PyViz.comms) {\n",
       "        return window.PyViz.comms[comm_id];\n",
       "      } else if (window.comm_manager || ((window.Jupyter !== undefined) && (Jupyter.notebook.kernel != null))) {\n",
       "        var comm_manager = window.comm_manager || Jupyter.notebook.kernel.comm_manager;\n",
       "        var comm = comm_manager.new_comm(comm_id, {}, {}, {}, comm_id);\n",
       "        if (msg_handler) {\n",
       "          comm.on_msg(msg_handler);\n",
       "        }\n",
       "      } else if ((plot_id in window.PyViz.kernels) && (window.PyViz.kernels[plot_id])) {\n",
       "        var comm = window.PyViz.kernels[plot_id].connectToComm(comm_id);\n",
       "        comm.open();\n",
       "        if (msg_handler) {\n",
       "          comm.onMsg = msg_handler;\n",
       "        }\n",
       "      } else if (typeof google != 'undefined' && google.colab.kernel != null) {\n",
       "        var comm_promise = google.colab.kernel.comms.open(comm_id)\n",
       "        comm_promise.then((comm) => {\n",
       "          window.PyViz.comms[comm_id] = comm;\n",
       "          if (msg_handler) {\n",
       "            var messages = comm.messages[Symbol.asyncIterator]();\n",
       "            function processIteratorResult(result) {\n",
       "              var message = result.value;\n",
       "              var content = {data: message.data};\n",
       "              var metadata = message.metadata || {comm_id};\n",
       "              var msg = {content, metadata}\n",
       "              msg_handler(msg);\n",
       "              return messages.next().then(processIteratorResult);\n",
       "            }\n",
       "            return messages.next().then(processIteratorResult);\n",
       "          }\n",
       "        }) \n",
       "        var sendClosure = (data, metadata, buffers, disposeOnDone) => {\n",
       "          return comm_promise.then((comm) => {\n",
       "            comm.send(data, metadata, buffers, disposeOnDone);\n",
       "          });\n",
       "        };\n",
       "        var comm = {\n",
       "          send: sendClosure\n",
       "        };\n",
       "      }\n",
       "      window.PyViz.comms[comm_id] = comm;\n",
       "      return comm;\n",
       "    }\n",
       "    window.PyViz.comm_manager = new JupyterCommManager();\n",
       "    \n",
       "\n",
       "\n",
       "var JS_MIME_TYPE = 'application/javascript';\n",
       "var HTML_MIME_TYPE = 'text/html';\n",
       "var EXEC_MIME_TYPE = 'application/vnd.holoviews_exec.v0+json';\n",
       "var CLASS_NAME = 'output';\n",
       "\n",
       "/**\n",
       " * Render data to the DOM node\n",
       " */\n",
       "function render(props, node) {\n",
       "  var div = document.createElement(\"div\");\n",
       "  var script = document.createElement(\"script\");\n",
       "  node.appendChild(div);\n",
       "  node.appendChild(script);\n",
       "}\n",
       "\n",
       "/**\n",
       " * Handle when a new output is added\n",
       " */\n",
       "function handle_add_output(event, handle) {\n",
       "  var output_area = handle.output_area;\n",
       "  var output = handle.output;\n",
       "  if ((output.data == undefined) || (!output.data.hasOwnProperty(EXEC_MIME_TYPE))) {\n",
       "    return\n",
       "  }\n",
       "  var id = output.metadata[EXEC_MIME_TYPE][\"id\"];\n",
       "  var toinsert = output_area.element.find(\".\" + CLASS_NAME.split(' ')[0]);\n",
       "  if (id !== undefined) {\n",
       "    var nchildren = toinsert.length;\n",
       "    var html_node = toinsert[nchildren-1].children[0];\n",
       "    html_node.innerHTML = output.data[HTML_MIME_TYPE];\n",
       "    var scripts = [];\n",
       "    var nodelist = html_node.querySelectorAll(\"script\");\n",
       "    for (var i in nodelist) {\n",
       "      if (nodelist.hasOwnProperty(i)) {\n",
       "        scripts.push(nodelist[i])\n",
       "      }\n",
       "    }\n",
       "\n",
       "    scripts.forEach( function (oldScript) {\n",
       "      var newScript = document.createElement(\"script\");\n",
       "      var attrs = [];\n",
       "      var nodemap = oldScript.attributes;\n",
       "      for (var j in nodemap) {\n",
       "        if (nodemap.hasOwnProperty(j)) {\n",
       "          attrs.push(nodemap[j])\n",
       "        }\n",
       "      }\n",
       "      attrs.forEach(function(attr) { newScript.setAttribute(attr.name, attr.value) });\n",
       "      newScript.appendChild(document.createTextNode(oldScript.innerHTML));\n",
       "      oldScript.parentNode.replaceChild(newScript, oldScript);\n",
       "    });\n",
       "    if (JS_MIME_TYPE in output.data) {\n",
       "      toinsert[nchildren-1].children[1].textContent = output.data[JS_MIME_TYPE];\n",
       "    }\n",
       "    output_area._hv_plot_id = id;\n",
       "    if ((window.Bokeh !== undefined) && (id in Bokeh.index)) {\n",
       "      window.PyViz.plot_index[id] = Bokeh.index[id];\n",
       "    } else {\n",
       "      window.PyViz.plot_index[id] = null;\n",
       "    }\n",
       "  } else if (output.metadata[EXEC_MIME_TYPE][\"server_id\"] !== undefined) {\n",
       "    var bk_div = document.createElement(\"div\");\n",
       "    bk_div.innerHTML = output.data[HTML_MIME_TYPE];\n",
       "    var script_attrs = bk_div.children[0].attributes;\n",
       "    for (var i = 0; i < script_attrs.length; i++) {\n",
       "      toinsert[toinsert.length - 1].childNodes[1].setAttribute(script_attrs[i].name, script_attrs[i].value);\n",
       "    }\n",
       "    // store reference to server id on output_area\n",
       "    output_area._bokeh_server_id = output.metadata[EXEC_MIME_TYPE][\"server_id\"];\n",
       "  }\n",
       "}\n",
       "\n",
       "/**\n",
       " * Handle when an output is cleared or removed\n",
       " */\n",
       "function handle_clear_output(event, handle) {\n",
       "  var id = handle.cell.output_area._hv_plot_id;\n",
       "  var server_id = handle.cell.output_area._bokeh_server_id;\n",
       "  if (((id === undefined) || !(id in PyViz.plot_index)) && (server_id !== undefined)) { return; }\n",
       "  var comm = window.PyViz.comm_manager.get_client_comm(\"hv-extension-comm\", \"hv-extension-comm\", function () {});\n",
       "  if (server_id !== null) {\n",
       "    comm.send({event_type: 'server_delete', 'id': server_id});\n",
       "    return;\n",
       "  } else if (comm !== null) {\n",
       "    comm.send({event_type: 'delete', 'id': id});\n",
       "  }\n",
       "  delete PyViz.plot_index[id];\n",
       "  if ((window.Bokeh !== undefined) & (id in window.Bokeh.index)) {\n",
       "    var doc = window.Bokeh.index[id].model.document\n",
       "    doc.clear();\n",
       "    const i = window.Bokeh.documents.indexOf(doc);\n",
       "    if (i > -1) {\n",
       "      window.Bokeh.documents.splice(i, 1);\n",
       "    }\n",
       "  }\n",
       "}\n",
       "\n",
       "/**\n",
       " * Handle kernel restart event\n",
       " */\n",
       "function handle_kernel_cleanup(event, handle) {\n",
       "  delete PyViz.comms[\"hv-extension-comm\"];\n",
       "  window.PyViz.plot_index = {}\n",
       "}\n",
       "\n",
       "/**\n",
       " * Handle update_display_data messages\n",
       " */\n",
       "function handle_update_output(event, handle) {\n",
       "  handle_clear_output(event, {cell: {output_area: handle.output_area}})\n",
       "  handle_add_output(event, handle)\n",
       "}\n",
       "\n",
       "function register_renderer(events, OutputArea) {\n",
       "  function append_mime(data, metadata, element) {\n",
       "    // create a DOM node to render to\n",
       "    var toinsert = this.create_output_subarea(\n",
       "    metadata,\n",
       "    CLASS_NAME,\n",
       "    EXEC_MIME_TYPE\n",
       "    );\n",
       "    this.keyboard_manager.register_events(toinsert);\n",
       "    // Render to node\n",
       "    var props = {data: data, metadata: metadata[EXEC_MIME_TYPE]};\n",
       "    render(props, toinsert[0]);\n",
       "    element.append(toinsert);\n",
       "    return toinsert\n",
       "  }\n",
       "\n",
       "  events.on('output_added.OutputArea', handle_add_output);\n",
       "  events.on('output_updated.OutputArea', handle_update_output);\n",
       "  events.on('clear_output.CodeCell', handle_clear_output);\n",
       "  events.on('delete.Cell', handle_clear_output);\n",
       "  events.on('kernel_ready.Kernel', handle_kernel_cleanup);\n",
       "\n",
       "  OutputArea.prototype.register_mime_type(EXEC_MIME_TYPE, append_mime, {\n",
       "    safe: true,\n",
       "    index: 0\n",
       "  });\n",
       "}\n",
       "\n",
       "if (window.Jupyter !== undefined) {\n",
       "  try {\n",
       "    var events = require('base/js/events');\n",
       "    var OutputArea = require('notebook/js/outputarea').OutputArea;\n",
       "    if (OutputArea.prototype.mime_types().indexOf(EXEC_MIME_TYPE) == -1) {\n",
       "      register_renderer(events, OutputArea);\n",
       "    }\n",
       "  } catch(err) {\n",
       "  }\n",
       "}\n"
      ],
      "application/vnd.holoviews_load.v0+json": "\nif ((window.PyViz === undefined) || (window.PyViz instanceof HTMLElement)) {\n  window.PyViz = {comms: {}, comm_status:{}, kernels:{}, receivers: {}, plot_index: []}\n}\n\n\n    function JupyterCommManager() {\n    }\n\n    JupyterCommManager.prototype.register_target = function(plot_id, comm_id, msg_handler) {\n      if (window.comm_manager || ((window.Jupyter !== undefined) && (Jupyter.notebook.kernel != null))) {\n        var comm_manager = window.comm_manager || Jupyter.notebook.kernel.comm_manager;\n        comm_manager.register_target(comm_id, function(comm) {\n          comm.on_msg(msg_handler);\n        });\n      } else if ((plot_id in window.PyViz.kernels) && (window.PyViz.kernels[plot_id])) {\n        window.PyViz.kernels[plot_id].registerCommTarget(comm_id, function(comm) {\n          comm.onMsg = msg_handler;\n        });\n      } else if (typeof google != 'undefined' && google.colab.kernel != null) {\n        google.colab.kernel.comms.registerTarget(comm_id, (comm) => {\n          var messages = comm.messages[Symbol.asyncIterator]();\n          function processIteratorResult(result) {\n            var message = result.value;\n            console.log(message)\n            var content = {data: message.data, comm_id};\n            var buffers = []\n            for (var buffer of message.buffers || []) {\n              buffers.push(new DataView(buffer))\n            }\n            var metadata = message.metadata || {};\n            var msg = {content, buffers, metadata}\n            msg_handler(msg);\n            return messages.next().then(processIteratorResult);\n          }\n          return messages.next().then(processIteratorResult);\n        })\n      }\n    }\n\n    JupyterCommManager.prototype.get_client_comm = function(plot_id, comm_id, msg_handler) {\n      if (comm_id in window.PyViz.comms) {\n        return window.PyViz.comms[comm_id];\n      } else if (window.comm_manager || ((window.Jupyter !== undefined) && (Jupyter.notebook.kernel != null))) {\n        var comm_manager = window.comm_manager || Jupyter.notebook.kernel.comm_manager;\n        var comm = comm_manager.new_comm(comm_id, {}, {}, {}, comm_id);\n        if (msg_handler) {\n          comm.on_msg(msg_handler);\n        }\n      } else if ((plot_id in window.PyViz.kernels) && (window.PyViz.kernels[plot_id])) {\n        var comm = window.PyViz.kernels[plot_id].connectToComm(comm_id);\n        comm.open();\n        if (msg_handler) {\n          comm.onMsg = msg_handler;\n        }\n      } else if (typeof google != 'undefined' && google.colab.kernel != null) {\n        var comm_promise = google.colab.kernel.comms.open(comm_id)\n        comm_promise.then((comm) => {\n          window.PyViz.comms[comm_id] = comm;\n          if (msg_handler) {\n            var messages = comm.messages[Symbol.asyncIterator]();\n            function processIteratorResult(result) {\n              var message = result.value;\n              var content = {data: message.data};\n              var metadata = message.metadata || {comm_id};\n              var msg = {content, metadata}\n              msg_handler(msg);\n              return messages.next().then(processIteratorResult);\n            }\n            return messages.next().then(processIteratorResult);\n          }\n        }) \n        var sendClosure = (data, metadata, buffers, disposeOnDone) => {\n          return comm_promise.then((comm) => {\n            comm.send(data, metadata, buffers, disposeOnDone);\n          });\n        };\n        var comm = {\n          send: sendClosure\n        };\n      }\n      window.PyViz.comms[comm_id] = comm;\n      return comm;\n    }\n    window.PyViz.comm_manager = new JupyterCommManager();\n    \n\n\nvar JS_MIME_TYPE = 'application/javascript';\nvar HTML_MIME_TYPE = 'text/html';\nvar EXEC_MIME_TYPE = 'application/vnd.holoviews_exec.v0+json';\nvar CLASS_NAME = 'output';\n\n/**\n * Render data to the DOM node\n */\nfunction render(props, node) {\n  var div = document.createElement(\"div\");\n  var script = document.createElement(\"script\");\n  node.appendChild(div);\n  node.appendChild(script);\n}\n\n/**\n * Handle when a new output is added\n */\nfunction handle_add_output(event, handle) {\n  var output_area = handle.output_area;\n  var output = handle.output;\n  if ((output.data == undefined) || (!output.data.hasOwnProperty(EXEC_MIME_TYPE))) {\n    return\n  }\n  var id = output.metadata[EXEC_MIME_TYPE][\"id\"];\n  var toinsert = output_area.element.find(\".\" + CLASS_NAME.split(' ')[0]);\n  if (id !== undefined) {\n    var nchildren = toinsert.length;\n    var html_node = toinsert[nchildren-1].children[0];\n    html_node.innerHTML = output.data[HTML_MIME_TYPE];\n    var scripts = [];\n    var nodelist = html_node.querySelectorAll(\"script\");\n    for (var i in nodelist) {\n      if (nodelist.hasOwnProperty(i)) {\n        scripts.push(nodelist[i])\n      }\n    }\n\n    scripts.forEach( function (oldScript) {\n      var newScript = document.createElement(\"script\");\n      var attrs = [];\n      var nodemap = oldScript.attributes;\n      for (var j in nodemap) {\n        if (nodemap.hasOwnProperty(j)) {\n          attrs.push(nodemap[j])\n        }\n      }\n      attrs.forEach(function(attr) { newScript.setAttribute(attr.name, attr.value) });\n      newScript.appendChild(document.createTextNode(oldScript.innerHTML));\n      oldScript.parentNode.replaceChild(newScript, oldScript);\n    });\n    if (JS_MIME_TYPE in output.data) {\n      toinsert[nchildren-1].children[1].textContent = output.data[JS_MIME_TYPE];\n    }\n    output_area._hv_plot_id = id;\n    if ((window.Bokeh !== undefined) && (id in Bokeh.index)) {\n      window.PyViz.plot_index[id] = Bokeh.index[id];\n    } else {\n      window.PyViz.plot_index[id] = null;\n    }\n  } else if (output.metadata[EXEC_MIME_TYPE][\"server_id\"] !== undefined) {\n    var bk_div = document.createElement(\"div\");\n    bk_div.innerHTML = output.data[HTML_MIME_TYPE];\n    var script_attrs = bk_div.children[0].attributes;\n    for (var i = 0; i < script_attrs.length; i++) {\n      toinsert[toinsert.length - 1].childNodes[1].setAttribute(script_attrs[i].name, script_attrs[i].value);\n    }\n    // store reference to server id on output_area\n    output_area._bokeh_server_id = output.metadata[EXEC_MIME_TYPE][\"server_id\"];\n  }\n}\n\n/**\n * Handle when an output is cleared or removed\n */\nfunction handle_clear_output(event, handle) {\n  var id = handle.cell.output_area._hv_plot_id;\n  var server_id = handle.cell.output_area._bokeh_server_id;\n  if (((id === undefined) || !(id in PyViz.plot_index)) && (server_id !== undefined)) { return; }\n  var comm = window.PyViz.comm_manager.get_client_comm(\"hv-extension-comm\", \"hv-extension-comm\", function () {});\n  if (server_id !== null) {\n    comm.send({event_type: 'server_delete', 'id': server_id});\n    return;\n  } else if (comm !== null) {\n    comm.send({event_type: 'delete', 'id': id});\n  }\n  delete PyViz.plot_index[id];\n  if ((window.Bokeh !== undefined) & (id in window.Bokeh.index)) {\n    var doc = window.Bokeh.index[id].model.document\n    doc.clear();\n    const i = window.Bokeh.documents.indexOf(doc);\n    if (i > -1) {\n      window.Bokeh.documents.splice(i, 1);\n    }\n  }\n}\n\n/**\n * Handle kernel restart event\n */\nfunction handle_kernel_cleanup(event, handle) {\n  delete PyViz.comms[\"hv-extension-comm\"];\n  window.PyViz.plot_index = {}\n}\n\n/**\n * Handle update_display_data messages\n */\nfunction handle_update_output(event, handle) {\n  handle_clear_output(event, {cell: {output_area: handle.output_area}})\n  handle_add_output(event, handle)\n}\n\nfunction register_renderer(events, OutputArea) {\n  function append_mime(data, metadata, element) {\n    // create a DOM node to render to\n    var toinsert = this.create_output_subarea(\n    metadata,\n    CLASS_NAME,\n    EXEC_MIME_TYPE\n    );\n    this.keyboard_manager.register_events(toinsert);\n    // Render to node\n    var props = {data: data, metadata: metadata[EXEC_MIME_TYPE]};\n    render(props, toinsert[0]);\n    element.append(toinsert);\n    return toinsert\n  }\n\n  events.on('output_added.OutputArea', handle_add_output);\n  events.on('output_updated.OutputArea', handle_update_output);\n  events.on('clear_output.CodeCell', handle_clear_output);\n  events.on('delete.Cell', handle_clear_output);\n  events.on('kernel_ready.Kernel', handle_kernel_cleanup);\n\n  OutputArea.prototype.register_mime_type(EXEC_MIME_TYPE, append_mime, {\n    safe: true,\n    index: 0\n  });\n}\n\nif (window.Jupyter !== undefined) {\n  try {\n    var events = require('base/js/events');\n    var OutputArea = require('notebook/js/outputarea').OutputArea;\n    if (OutputArea.prototype.mime_types().indexOf(EXEC_MIME_TYPE) == -1) {\n      register_renderer(events, OutputArea);\n    }\n  } catch(err) {\n  }\n}\n"
     },
     "metadata": {},
     "output_type": "display_data"
    },
    {
     "data": {
      "text/plain": [
       "datetime.date(2022, 1, 11)"
      ]
     },
     "execution_count": 1,
     "metadata": {},
     "output_type": "execute_result"
    }
   ],
   "source": [
    "import pandas as pd\n",
    "import panel as pn\n",
    "import numpy as np\n",
    "from sqlalchemy import create_engine\n",
    "from datetime import date, timedelta\n",
    "import calendar\n",
    "import matplotlib.pyplot as plt\n",
    "import seaborn as sns\n",
    "%matplotlib inline\n",
    "sns.set\n",
    "\n",
    "pn.extension('tabulator')\n",
    "\n",
    "engine = create_engine(\"mysql+pymysql://root:@localhost:3306/stock\")\n",
    "const = engine.connect()\n",
    "engine = create_engine(\"sqlite:///c:\\\\ruby\\\\portmy\\\\db\\\\development.sqlite3\")\n",
    "conmy = engine.connect()\n",
    "format_dict = {\n",
    "               'fm_price':'{:.2f}','to_price':'{:.2f}','price':'{:.2f}',    \n",
    "               'max_price':'{:.2f}','min_price':'{:.2f}','maxp':'{:.2f}','minp':'{:.2f}',\n",
    "               'opnp':'{:.2f}','target':'{:.2f}','max':'{:.2f}','max52':'{:.2f}',\n",
    "               'css_price':'{:.2f}','amount':'{:,.2f}','unit_cost':'{:.2f}',\n",
    "               'cost_amt':'{:,.2f}','dividend_amount':'{:,.2f}','base':'{:,.2f}',\n",
    "               'dividend':'{:.2f}','div_amt':'{:,.2f}',\n",
    "               'cost_pct':'{:.2f}%','mkt_pct':'{:.2f}%','pft_pct':'{:.2f}%','pct':'{:.2f}%', \n",
    "               'buy_target':'{:.2f}','sell_target':'{:.2f}',\n",
    "               'volume':'{:,.2f}','beta':'{:.2f}','cost':'{:,.2f}','profit':'{:,.2f}',\n",
    "               'qty':'{:,}','available_qty':'{:,}','shares':'{:,}','volbuy':'{:,}','div_rank':'{:,}','amt_rank':'{:,}'}\n",
    "pd.set_option(\"display.max_rows\", None)\n",
    "\n",
    "data_path = \"../data/\"\n",
    "csv_path = \"\\\\Users\\\\User\\\\iCloudDrive\\\\\"\n",
    "box_path = \"\\\\Users\\\\User\\\\Dropbox\\\\\"\n",
    "\n",
    "today = date.today()\n",
    "today"
   ]
  },
  {
   "cell_type": "markdown",
   "metadata": {},
   "source": [
    "### Set today = last closed business day"
   ]
  },
  {
   "cell_type": "code",
   "execution_count": 2,
   "metadata": {},
   "outputs": [
    {
     "data": {
      "text/plain": [
       "datetime.date(2022, 1, 11)"
      ]
     },
     "execution_count": 2,
     "metadata": {},
     "output_type": "execute_result"
    }
   ],
   "source": [
    "#today = today - timedelta(days=1)\n",
    "today"
   ]
  },
  {
   "cell_type": "markdown",
   "metadata": {},
   "source": [
    "### Restart and Run All Cells"
   ]
  },
  {
   "cell_type": "code",
   "execution_count": 3,
   "metadata": {},
   "outputs": [
    {
     "data": {
      "text/plain": [
       "34"
      ]
     },
     "execution_count": 3,
     "metadata": {},
     "output_type": "execute_result"
    }
   ],
   "source": [
    "sql = '''\n",
    "UPDATE buy B\n",
    "SET dividend =\n",
    "(SELECT DIVIDEND FROM dividend D\n",
    "WHERE B.name = D.name)'''\n",
    "rp = const.execute(sql)\n",
    "rp.rowcount"
   ]
  },
  {
   "cell_type": "code",
   "execution_count": 4,
   "metadata": {},
   "outputs": [],
   "source": [
    "cols = 'name period volbuy price cost_amt base pct'.split()\n",
    "colt = 'name shares unit_cost cost price amount mkt_pct div_rnk amt_rnk div_amt'.split()"
   ]
  },
  {
   "cell_type": "markdown",
   "metadata": {},
   "source": [
    "### Process portfolio (table buy in mysql stock)"
   ]
  },
  {
   "cell_type": "code",
   "execution_count": 5,
   "metadata": {
    "scrolled": false
   },
   "outputs": [
    {
     "data": {
      "text/html": [
       "<style type=\"text/css\">\n",
       "</style>\n",
       "<table id=\"T_0697c_\">\n",
       "  <thead>\n",
       "    <tr>\n",
       "      <th class=\"blank level0\" >&nbsp;</th>\n",
       "      <th class=\"col_heading level0 col0\" >name</th>\n",
       "      <th class=\"col_heading level0 col1\" >shares</th>\n",
       "      <th class=\"col_heading level0 col2\" >unit_cost</th>\n",
       "      <th class=\"col_heading level0 col3\" >cost</th>\n",
       "      <th class=\"col_heading level0 col4\" >dividend</th>\n",
       "      <th class=\"col_heading level0 col5\" >div_amt</th>\n",
       "      <th class=\"col_heading level0 col6\" >cost_pct</th>\n",
       "      <th class=\"col_heading level0 col7\" >period</th>\n",
       "    </tr>\n",
       "  </thead>\n",
       "  <tbody>\n",
       "    <tr>\n",
       "      <th id=\"T_0697c_level0_row0\" class=\"row_heading level0 row0\" >10</th>\n",
       "      <td id=\"T_0697c_row0_col0\" class=\"data row0 col0\" >BCH</td>\n",
       "      <td id=\"T_0697c_row0_col1\" class=\"data row0 col1\" >15,000</td>\n",
       "      <td id=\"T_0697c_row0_col2\" class=\"data row0 col2\" >21.30</td>\n",
       "      <td id=\"T_0697c_row0_col3\" class=\"data row0 col3\" >319,500.00</td>\n",
       "      <td id=\"T_0697c_row0_col4\" class=\"data row0 col4\" >0.33</td>\n",
       "      <td id=\"T_0697c_row0_col5\" class=\"data row0 col5\" >4,950.00</td>\n",
       "      <td id=\"T_0697c_row0_col6\" class=\"data row0 col6\" >1.55%</td>\n",
       "      <td id=\"T_0697c_row0_col7\" class=\"data row0 col7\" >3</td>\n",
       "    </tr>\n",
       "    <tr>\n",
       "      <th id=\"T_0697c_level0_row1\" class=\"row_heading level0 row1\" >29</th>\n",
       "      <td id=\"T_0697c_row1_col0\" class=\"data row1 col0\" >BGRIM</td>\n",
       "      <td id=\"T_0697c_row1_col1\" class=\"data row1 col1\" >9,000</td>\n",
       "      <td id=\"T_0697c_row1_col2\" class=\"data row1 col2\" >40.00</td>\n",
       "      <td id=\"T_0697c_row1_col3\" class=\"data row1 col3\" >360,000.00</td>\n",
       "      <td id=\"T_0697c_row1_col4\" class=\"data row1 col4\" >0.45</td>\n",
       "      <td id=\"T_0697c_row1_col5\" class=\"data row1 col5\" >4,050.00</td>\n",
       "      <td id=\"T_0697c_row1_col6\" class=\"data row1 col6\" >1.13%</td>\n",
       "      <td id=\"T_0697c_row1_col7\" class=\"data row1 col7\" >4</td>\n",
       "    </tr>\n",
       "    <tr>\n",
       "      <th id=\"T_0697c_level0_row2\" class=\"row_heading level0 row2\" >19</th>\n",
       "      <td id=\"T_0697c_row2_col0\" class=\"data row2 col0\" >CKP</td>\n",
       "      <td id=\"T_0697c_row2_col1\" class=\"data row2 col1\" >30,000</td>\n",
       "      <td id=\"T_0697c_row2_col2\" class=\"data row2 col2\" >5.00</td>\n",
       "      <td id=\"T_0697c_row2_col3\" class=\"data row2 col3\" >150,000.00</td>\n",
       "      <td id=\"T_0697c_row2_col4\" class=\"data row2 col4\" >0.04</td>\n",
       "      <td id=\"T_0697c_row2_col5\" class=\"data row2 col5\" >1,050.00</td>\n",
       "      <td id=\"T_0697c_row2_col6\" class=\"data row2 col6\" >0.70%</td>\n",
       "      <td id=\"T_0697c_row2_col7\" class=\"data row2 col7\" >3</td>\n",
       "    </tr>\n",
       "    <tr>\n",
       "      <th id=\"T_0697c_level0_row3\" class=\"row_heading level0 row3\" >6</th>\n",
       "      <td id=\"T_0697c_row3_col0\" class=\"data row3 col0\" >DIF</td>\n",
       "      <td id=\"T_0697c_row3_col1\" class=\"data row3 col1\" >60,000</td>\n",
       "      <td id=\"T_0697c_row3_col2\" class=\"data row3 col2\" >14.70</td>\n",
       "      <td id=\"T_0697c_row3_col3\" class=\"data row3 col3\" >882,000.00</td>\n",
       "      <td id=\"T_0697c_row3_col4\" class=\"data row3 col4\" >1.04</td>\n",
       "      <td id=\"T_0697c_row3_col5\" class=\"data row3 col5\" >62,640.00</td>\n",
       "      <td id=\"T_0697c_row3_col6\" class=\"data row3 col6\" >7.10%</td>\n",
       "      <td id=\"T_0697c_row3_col7\" class=\"data row3 col7\" >2</td>\n",
       "    </tr>\n",
       "    <tr>\n",
       "      <th id=\"T_0697c_level0_row4\" class=\"row_heading level0 row4\" >12</th>\n",
       "      <td id=\"T_0697c_row4_col0\" class=\"data row4 col0\" >DOHOME</td>\n",
       "      <td id=\"T_0697c_row4_col1\" class=\"data row4 col1\" >12,000</td>\n",
       "      <td id=\"T_0697c_row4_col2\" class=\"data row4 col2\" >24.30</td>\n",
       "      <td id=\"T_0697c_row4_col3\" class=\"data row4 col3\" >291,600.00</td>\n",
       "      <td id=\"T_0697c_row4_col4\" class=\"data row4 col4\" >0.10</td>\n",
       "      <td id=\"T_0697c_row4_col5\" class=\"data row4 col5\" >1,200.00</td>\n",
       "      <td id=\"T_0697c_row4_col6\" class=\"data row4 col6\" >0.41%</td>\n",
       "      <td id=\"T_0697c_row4_col7\" class=\"data row4 col7\" >3</td>\n",
       "    </tr>\n",
       "  </tbody>\n",
       "</table>\n"
      ],
      "text/plain": [
       "<pandas.io.formats.style.Styler at 0x20a6264fd30>"
      ]
     },
     "execution_count": 5,
     "metadata": {},
     "output_type": "execute_result"
    }
   ],
   "source": [
    "sql = '''\n",
    "SELECT name, volbuy AS shares, price AS unit_cost, volbuy * price AS cost, dividend,\n",
    "volbuy * dividend AS div_amt, FORMAT((volbuy * dividend)/(volbuy * price) * 100,2) AS cost_pct, period\n",
    "FROM buy\n",
    "WHERE active = 1'''\n",
    "df_buy = pd.read_sql(sql, const)\n",
    "df_buy['shares'] = df_buy.shares.astype(int)\n",
    "df_buy['cost_pct'] = df_buy.cost_pct.astype(float)\n",
    "df_buy.sort_values(['name'],ascending=[True]).head().style.format(format_dict)"
   ]
  },
  {
   "cell_type": "code",
   "execution_count": 6,
   "metadata": {},
   "outputs": [],
   "source": [
    "file_name = 'hi-dividend.csv'\n",
    "data_file = data_path + file_name\n",
    "output_file = csv_path + file_name\n",
    "box_file = box_path + file_name\n",
    "\n",
    "df_buy.sort_values(['cost_pct'],ascending=[False]).to_csv(output_file)\n",
    "df_buy.sort_values(['cost_pct'],ascending=[False]).to_csv(data_file)\n",
    "df_buy.sort_values(['cost_pct'],ascending=[False]).to_csv(box_file)"
   ]
  },
  {
   "cell_type": "markdown",
   "metadata": {},
   "source": [
    "### Start of Period Calculation"
   ]
  },
  {
   "cell_type": "code",
   "execution_count": 7,
   "metadata": {},
   "outputs": [
    {
     "name": "stdout",
     "output_type": "stream",
     "text": [
      "\n",
      "SELECT B.name, volbuy AS shares, B.price AS unit_cost, volbuy * B.price AS cost, \n",
      "dividend, volbuy * dividend AS div_amt, \n",
      "FORMAT((volbuy * dividend)/(volbuy * B.price) * 100,1) AS cost_pct, \n",
      "P.price, volbuy * P.price AS amount, \n",
      "FORMAT((volbuy * dividend)/(volbuy * P.price) * 100,1) AS mkt_pct,\n",
      "(P.price - B.price) * volbuy AS profit, \n",
      "FORMAT(((P.price - B.price) * volbuy) / (volbuy * B.price) * 100,1) AS pft_pct, period\n",
      "FROM buy B JOIN price P\n",
      "ON B.name = P.name\n",
      "WHERE P.date = \"2022-01-11\"\n",
      "AND active = 1\n"
     ]
    },
    {
     "data": {
      "text/html": [
       "<style type=\"text/css\">\n",
       "</style>\n",
       "<table id=\"T_27857_\">\n",
       "  <thead>\n",
       "    <tr>\n",
       "      <th class=\"blank level0\" >&nbsp;</th>\n",
       "      <th class=\"col_heading level0 col0\" >name</th>\n",
       "      <th class=\"col_heading level0 col1\" >shares</th>\n",
       "      <th class=\"col_heading level0 col2\" >unit_cost</th>\n",
       "      <th class=\"col_heading level0 col3\" >cost</th>\n",
       "      <th class=\"col_heading level0 col4\" >dividend</th>\n",
       "      <th class=\"col_heading level0 col5\" >div_amt</th>\n",
       "      <th class=\"col_heading level0 col6\" >cost_pct</th>\n",
       "      <th class=\"col_heading level0 col7\" >price</th>\n",
       "      <th class=\"col_heading level0 col8\" >amount</th>\n",
       "      <th class=\"col_heading level0 col9\" >mkt_pct</th>\n",
       "      <th class=\"col_heading level0 col10\" >profit</th>\n",
       "      <th class=\"col_heading level0 col11\" >pft_pct</th>\n",
       "      <th class=\"col_heading level0 col12\" >period</th>\n",
       "    </tr>\n",
       "  </thead>\n",
       "  <tbody>\n",
       "    <tr>\n",
       "      <th id=\"T_27857_level0_row0\" class=\"row_heading level0 row0\" >31</th>\n",
       "      <td id=\"T_27857_row0_col0\" class=\"data row0 col0\" >RCL</td>\n",
       "      <td id=\"T_27857_row0_col1\" class=\"data row0 col1\" >4,500</td>\n",
       "      <td id=\"T_27857_row0_col2\" class=\"data row0 col2\" >43.00</td>\n",
       "      <td id=\"T_27857_row0_col3\" class=\"data row0 col3\" >193,500.00</td>\n",
       "      <td id=\"T_27857_row0_col4\" class=\"data row0 col4\" >3.50</td>\n",
       "      <td id=\"T_27857_row0_col5\" class=\"data row0 col5\" >15,750.00</td>\n",
       "      <td id=\"T_27857_row0_col6\" class=\"data row0 col6\" >8.10%</td>\n",
       "      <td id=\"T_27857_row0_col7\" class=\"data row0 col7\" >54.00</td>\n",
       "      <td id=\"T_27857_row0_col8\" class=\"data row0 col8\" >243,000.00</td>\n",
       "      <td id=\"T_27857_row0_col9\" class=\"data row0 col9\" >6.50%</td>\n",
       "      <td id=\"T_27857_row0_col10\" class=\"data row0 col10\" >49,500.00</td>\n",
       "      <td id=\"T_27857_row0_col11\" class=\"data row0 col11\" >25.60%</td>\n",
       "      <td id=\"T_27857_row0_col12\" class=\"data row0 col12\" >3</td>\n",
       "    </tr>\n",
       "    <tr>\n",
       "      <th id=\"T_27857_level0_row1\" class=\"row_heading level0 row1\" >3</th>\n",
       "      <td id=\"T_27857_row1_col0\" class=\"data row1 col0\" >IVL</td>\n",
       "      <td id=\"T_27857_row1_col1\" class=\"data row1 col1\" >12,000</td>\n",
       "      <td id=\"T_27857_row1_col2\" class=\"data row1 col2\" >42.00</td>\n",
       "      <td id=\"T_27857_row1_col3\" class=\"data row1 col3\" >504,000.00</td>\n",
       "      <td id=\"T_27857_row1_col4\" class=\"data row1 col4\" >0.85</td>\n",
       "      <td id=\"T_27857_row1_col5\" class=\"data row1 col5\" >10,200.00</td>\n",
       "      <td id=\"T_27857_row1_col6\" class=\"data row1 col6\" >2.00%</td>\n",
       "      <td id=\"T_27857_row1_col7\" class=\"data row1 col7\" >47.25</td>\n",
       "      <td id=\"T_27857_row1_col8\" class=\"data row1 col8\" >567,000.00</td>\n",
       "      <td id=\"T_27857_row1_col9\" class=\"data row1 col9\" >1.80%</td>\n",
       "      <td id=\"T_27857_row1_col10\" class=\"data row1 col10\" >63,000.00</td>\n",
       "      <td id=\"T_27857_row1_col11\" class=\"data row1 col11\" >12.50%</td>\n",
       "      <td id=\"T_27857_row1_col12\" class=\"data row1 col12\" >3</td>\n",
       "    </tr>\n",
       "    <tr>\n",
       "      <th id=\"T_27857_level0_row2\" class=\"row_heading level0 row2\" >2</th>\n",
       "      <td id=\"T_27857_row2_col0\" class=\"data row2 col0\" >SAT</td>\n",
       "      <td id=\"T_27857_row2_col1\" class=\"data row2 col1\" >7,500</td>\n",
       "      <td id=\"T_27857_row2_col2\" class=\"data row2 col2\" >21.10</td>\n",
       "      <td id=\"T_27857_row2_col3\" class=\"data row2 col3\" >158,250.00</td>\n",
       "      <td id=\"T_27857_row2_col4\" class=\"data row2 col4\" >0.88</td>\n",
       "      <td id=\"T_27857_row2_col5\" class=\"data row2 col5\" >6,600.00</td>\n",
       "      <td id=\"T_27857_row2_col6\" class=\"data row2 col6\" >4.20%</td>\n",
       "      <td id=\"T_27857_row2_col7\" class=\"data row2 col7\" >23.50</td>\n",
       "      <td id=\"T_27857_row2_col8\" class=\"data row2 col8\" >176,250.00</td>\n",
       "      <td id=\"T_27857_row2_col9\" class=\"data row2 col9\" >3.70%</td>\n",
       "      <td id=\"T_27857_row2_col10\" class=\"data row2 col10\" >18,000.00</td>\n",
       "      <td id=\"T_27857_row2_col11\" class=\"data row2 col11\" >11.40%</td>\n",
       "      <td id=\"T_27857_row2_col12\" class=\"data row2 col12\" >3</td>\n",
       "    </tr>\n",
       "    <tr>\n",
       "      <th id=\"T_27857_level0_row3\" class=\"row_heading level0 row3\" >25</th>\n",
       "      <td id=\"T_27857_row3_col0\" class=\"data row3 col0\" >EPG</td>\n",
       "      <td id=\"T_27857_row3_col1\" class=\"data row3 col1\" >12,000</td>\n",
       "      <td id=\"T_27857_row3_col2\" class=\"data row3 col2\" >11.20</td>\n",
       "      <td id=\"T_27857_row3_col3\" class=\"data row3 col3\" >134,400.00</td>\n",
       "      <td id=\"T_27857_row3_col4\" class=\"data row3 col4\" >0.23</td>\n",
       "      <td id=\"T_27857_row3_col5\" class=\"data row3 col5\" >2,760.00</td>\n",
       "      <td id=\"T_27857_row3_col6\" class=\"data row3 col6\" >2.10%</td>\n",
       "      <td id=\"T_27857_row3_col7\" class=\"data row3 col7\" >12.40</td>\n",
       "      <td id=\"T_27857_row3_col8\" class=\"data row3 col8\" >148,800.00</td>\n",
       "      <td id=\"T_27857_row3_col9\" class=\"data row3 col9\" >1.90%</td>\n",
       "      <td id=\"T_27857_row3_col10\" class=\"data row3 col10\" >14,400.00</td>\n",
       "      <td id=\"T_27857_row3_col11\" class=\"data row3 col11\" >10.70%</td>\n",
       "      <td id=\"T_27857_row3_col12\" class=\"data row3 col12\" >3</td>\n",
       "    </tr>\n",
       "    <tr>\n",
       "      <th id=\"T_27857_level0_row4\" class=\"row_heading level0 row4\" >24</th>\n",
       "      <td id=\"T_27857_row4_col0\" class=\"data row4 col0\" >TSTH</td>\n",
       "      <td id=\"T_27857_row4_col1\" class=\"data row4 col1\" >75,000</td>\n",
       "      <td id=\"T_27857_row4_col2\" class=\"data row4 col2\" >1.50</td>\n",
       "      <td id=\"T_27857_row4_col3\" class=\"data row4 col3\" >112,500.00</td>\n",
       "      <td id=\"T_27857_row4_col4\" class=\"data row4 col4\" >nan</td>\n",
       "      <td id=\"T_27857_row4_col5\" class=\"data row4 col5\" >nan</td>\n",
       "      <td id=\"T_27857_row4_col6\" class=\"data row4 col6\" >nan%</td>\n",
       "      <td id=\"T_27857_row4_col7\" class=\"data row4 col7\" >1.60</td>\n",
       "      <td id=\"T_27857_row4_col8\" class=\"data row4 col8\" >120,000.00</td>\n",
       "      <td id=\"T_27857_row4_col9\" class=\"data row4 col9\" >nan%</td>\n",
       "      <td id=\"T_27857_row4_col10\" class=\"data row4 col10\" >7,500.00</td>\n",
       "      <td id=\"T_27857_row4_col11\" class=\"data row4 col11\" >6.70%</td>\n",
       "      <td id=\"T_27857_row4_col12\" class=\"data row4 col12\" >3</td>\n",
       "    </tr>\n",
       "  </tbody>\n",
       "</table>\n"
      ],
      "text/plain": [
       "<pandas.io.formats.style.Styler at 0x20a62568310>"
      ]
     },
     "execution_count": 7,
     "metadata": {},
     "output_type": "execute_result"
    }
   ],
   "source": [
    "sql = '''\n",
    "SELECT B.name, volbuy AS shares, B.price AS unit_cost, volbuy * B.price AS cost, \n",
    "dividend, volbuy * dividend AS div_amt, \n",
    "FORMAT((volbuy * dividend)/(volbuy * B.price) * 100,1) AS cost_pct, \n",
    "P.price, volbuy * P.price AS amount, \n",
    "FORMAT((volbuy * dividend)/(volbuy * P.price) * 100,1) AS mkt_pct,\n",
    "(P.price - B.price) * volbuy AS profit, \n",
    "FORMAT(((P.price - B.price) * volbuy) / (volbuy * B.price) * 100,1) AS pft_pct, period\n",
    "FROM buy B JOIN price P\n",
    "ON B.name = P.name\n",
    "WHERE P.date = \"%s\"\n",
    "AND active = 1'''\n",
    "sql = sql % today \n",
    "print(sql)\n",
    "\n",
    "df_buy_price = pd.read_sql(sql, const)\n",
    "df_buy_price['shares'] = df_buy_price.shares.astype(int)\n",
    "df_buy_price['cost_pct'] = df_buy_price.cost_pct.astype(float)\n",
    "df_buy_price['mkt_pct'] = df_buy_price.mkt_pct.astype(float)\n",
    "df_buy_price['pft_pct'] = df_buy_price.pft_pct.astype(float)\n",
    "df_buy_price.sort_values(['pft_pct'],ascending=[False]).head().style.format(format_dict)"
   ]
  },
  {
   "cell_type": "code",
   "execution_count": 8,
   "metadata": {},
   "outputs": [
    {
     "data": {
      "text/html": [
       "<style type=\"text/css\">\n",
       "</style>\n",
       "<table id=\"T_f05d5_\">\n",
       "  <thead>\n",
       "    <tr>\n",
       "      <th class=\"blank level0\" >&nbsp;</th>\n",
       "      <th class=\"col_heading level0 col0\" >name</th>\n",
       "      <th class=\"col_heading level0 col1\" >cost</th>\n",
       "      <th class=\"col_heading level0 col2\" >amount</th>\n",
       "      <th class=\"col_heading level0 col3\" >div_amt</th>\n",
       "      <th class=\"col_heading level0 col4\" >cost_pct</th>\n",
       "      <th class=\"col_heading level0 col5\" >mkt_pct</th>\n",
       "    </tr>\n",
       "  </thead>\n",
       "  <tbody>\n",
       "    <tr>\n",
       "      <th id=\"T_f05d5_level0_row0\" class=\"row_heading level0 row0\" >0</th>\n",
       "      <td id=\"T_f05d5_row0_col0\" class=\"data row0 col0\" >STA</td>\n",
       "      <td id=\"T_f05d5_row0_col1\" class=\"data row0 col1\" >695,000.00</td>\n",
       "      <td id=\"T_f05d5_row0_col2\" class=\"data row0 col2\" >635,000.00</td>\n",
       "      <td id=\"T_f05d5_row0_col3\" class=\"data row0 col3\" >105,000.00</td>\n",
       "      <td id=\"T_f05d5_row0_col4\" class=\"data row0 col4\" >15.10%</td>\n",
       "      <td id=\"T_f05d5_row0_col5\" class=\"data row0 col5\" >16.50%</td>\n",
       "    </tr>\n",
       "    <tr>\n",
       "      <th id=\"T_f05d5_level0_row1\" class=\"row_heading level0 row1\" >22</th>\n",
       "      <td id=\"T_f05d5_row1_col0\" class=\"data row1 col0\" >NOBLE</td>\n",
       "      <td id=\"T_f05d5_row1_col1\" class=\"data row1 col1\" >441,000.00</td>\n",
       "      <td id=\"T_f05d5_row1_col2\" class=\"data row1 col2\" >396,900.00</td>\n",
       "      <td id=\"T_f05d5_row1_col3\" class=\"data row1 col3\" >53,550.00</td>\n",
       "      <td id=\"T_f05d5_row1_col4\" class=\"data row1 col4\" >12.10%</td>\n",
       "      <td id=\"T_f05d5_row1_col5\" class=\"data row1 col5\" >13.50%</td>\n",
       "    </tr>\n",
       "    <tr>\n",
       "      <th id=\"T_f05d5_level0_row2\" class=\"row_heading level0 row2\" >7</th>\n",
       "      <td id=\"T_f05d5_row2_col0\" class=\"data row2 col0\" >TMT</td>\n",
       "      <td id=\"T_f05d5_row2_col1\" class=\"data row2 col1\" >283,500.00</td>\n",
       "      <td id=\"T_f05d5_row2_col2\" class=\"data row2 col2\" >278,100.00</td>\n",
       "      <td id=\"T_f05d5_row2_col3\" class=\"data row2 col3\" >29,700.00</td>\n",
       "      <td id=\"T_f05d5_row2_col4\" class=\"data row2 col4\" >10.50%</td>\n",
       "      <td id=\"T_f05d5_row2_col5\" class=\"data row2 col5\" >10.70%</td>\n",
       "    </tr>\n",
       "    <tr>\n",
       "      <th id=\"T_f05d5_level0_row3\" class=\"row_heading level0 row3\" >5</th>\n",
       "      <td id=\"T_f05d5_row3_col0\" class=\"data row3 col0\" >MCS</td>\n",
       "      <td id=\"T_f05d5_row3_col1\" class=\"data row3 col1\" >1,002,000.00</td>\n",
       "      <td id=\"T_f05d5_row3_col2\" class=\"data row3 col2\" >900,000.00</td>\n",
       "      <td id=\"T_f05d5_row3_col3\" class=\"data row3 col3\" >82,200.00</td>\n",
       "      <td id=\"T_f05d5_row3_col4\" class=\"data row3 col4\" >8.20%</td>\n",
       "      <td id=\"T_f05d5_row3_col5\" class=\"data row3 col5\" >9.10%</td>\n",
       "    </tr>\n",
       "    <tr>\n",
       "      <th id=\"T_f05d5_level0_row4\" class=\"row_heading level0 row4\" >13</th>\n",
       "      <td id=\"T_f05d5_row4_col0\" class=\"data row4 col0\" >JASIF</td>\n",
       "      <td id=\"T_f05d5_row4_col1\" class=\"data row4 col1\" >1,000,000.00</td>\n",
       "      <td id=\"T_f05d5_row4_col2\" class=\"data row4 col2\" >1,050,000.00</td>\n",
       "      <td id=\"T_f05d5_row4_col3\" class=\"data row4 col3\" >95,000.00</td>\n",
       "      <td id=\"T_f05d5_row4_col4\" class=\"data row4 col4\" >9.50%</td>\n",
       "      <td id=\"T_f05d5_row4_col5\" class=\"data row4 col5\" >9.00%</td>\n",
       "    </tr>\n",
       "  </tbody>\n",
       "</table>\n"
      ],
      "text/plain": [
       "<pandas.io.formats.style.Styler at 0x20a6257e3d0>"
      ]
     },
     "execution_count": 8,
     "metadata": {},
     "output_type": "execute_result"
    }
   ],
   "source": [
    "df_buy_price.nlargest(5, 'mkt_pct')[['name','cost','amount','div_amt','cost_pct','mkt_pct']].style.format(format_dict)"
   ]
  },
  {
   "cell_type": "code",
   "execution_count": 9,
   "metadata": {},
   "outputs": [
    {
     "data": {
      "text/html": [
       "<style type=\"text/css\">\n",
       "</style>\n",
       "<table id=\"T_bc880_\">\n",
       "  <thead>\n",
       "    <tr>\n",
       "      <th class=\"blank level0\" >&nbsp;</th>\n",
       "      <th class=\"col_heading level0 col0\" >name</th>\n",
       "      <th class=\"col_heading level0 col1\" >cost</th>\n",
       "      <th class=\"col_heading level0 col2\" >amount</th>\n",
       "      <th class=\"col_heading level0 col3\" >div_amt</th>\n",
       "      <th class=\"col_heading level0 col4\" >cost_pct</th>\n",
       "      <th class=\"col_heading level0 col5\" >mkt_pct</th>\n",
       "    </tr>\n",
       "  </thead>\n",
       "  <tbody>\n",
       "    <tr>\n",
       "      <th id=\"T_bc880_level0_row0\" class=\"row_heading level0 row0\" >12</th>\n",
       "      <td id=\"T_bc880_row0_col0\" class=\"data row0 col0\" >DOHOME</td>\n",
       "      <td id=\"T_bc880_row0_col1\" class=\"data row0 col1\" >291,600.00</td>\n",
       "      <td id=\"T_bc880_row0_col2\" class=\"data row0 col2\" >276,000.00</td>\n",
       "      <td id=\"T_bc880_row0_col3\" class=\"data row0 col3\" >1,200.00</td>\n",
       "      <td id=\"T_bc880_row0_col4\" class=\"data row0 col4\" >0.40%</td>\n",
       "      <td id=\"T_bc880_row0_col5\" class=\"data row0 col5\" >0.40%</td>\n",
       "    </tr>\n",
       "    <tr>\n",
       "      <th id=\"T_bc880_level0_row1\" class=\"row_heading level0 row1\" >19</th>\n",
       "      <td id=\"T_bc880_row1_col0\" class=\"data row1 col0\" >CKP</td>\n",
       "      <td id=\"T_bc880_row1_col1\" class=\"data row1 col1\" >150,000.00</td>\n",
       "      <td id=\"T_bc880_row1_col2\" class=\"data row1 col2\" >149,400.00</td>\n",
       "      <td id=\"T_bc880_row1_col3\" class=\"data row1 col3\" >1,050.00</td>\n",
       "      <td id=\"T_bc880_row1_col4\" class=\"data row1 col4\" >0.70%</td>\n",
       "      <td id=\"T_bc880_row1_col5\" class=\"data row1 col5\" >0.70%</td>\n",
       "    </tr>\n",
       "    <tr>\n",
       "      <th id=\"T_bc880_level0_row2\" class=\"row_heading level0 row2\" >33</th>\n",
       "      <td id=\"T_bc880_row2_col0\" class=\"data row2 col0\" >IP</td>\n",
       "      <td id=\"T_bc880_row2_col1\" class=\"data row2 col1\" >212,100.00</td>\n",
       "      <td id=\"T_bc880_row2_col2\" class=\"data row2 col2\" >202,650.00</td>\n",
       "      <td id=\"T_bc880_row2_col3\" class=\"data row2 col3\" >1,942.50</td>\n",
       "      <td id=\"T_bc880_row2_col4\" class=\"data row2 col4\" >0.90%</td>\n",
       "      <td id=\"T_bc880_row2_col5\" class=\"data row2 col5\" >1.00%</td>\n",
       "    </tr>\n",
       "    <tr>\n",
       "      <th id=\"T_bc880_level0_row3\" class=\"row_heading level0 row3\" >4</th>\n",
       "      <td id=\"T_bc880_row3_col0\" class=\"data row3 col0\" >KCE</td>\n",
       "      <td id=\"T_bc880_row3_col1\" class=\"data row3 col1\" >348,000.00</td>\n",
       "      <td id=\"T_bc880_row3_col2\" class=\"data row3 col2\" >339,000.00</td>\n",
       "      <td id=\"T_bc880_row3_col3\" class=\"data row3 col3\" >4,000.00</td>\n",
       "      <td id=\"T_bc880_row3_col4\" class=\"data row3 col4\" >1.10%</td>\n",
       "      <td id=\"T_bc880_row3_col5\" class=\"data row3 col5\" >1.20%</td>\n",
       "    </tr>\n",
       "    <tr>\n",
       "      <th id=\"T_bc880_level0_row4\" class=\"row_heading level0 row4\" >29</th>\n",
       "      <td id=\"T_bc880_row4_col0\" class=\"data row4 col0\" >BGRIM</td>\n",
       "      <td id=\"T_bc880_row4_col1\" class=\"data row4 col1\" >360,000.00</td>\n",
       "      <td id=\"T_bc880_row4_col2\" class=\"data row4 col2\" >351,000.00</td>\n",
       "      <td id=\"T_bc880_row4_col3\" class=\"data row4 col3\" >4,050.00</td>\n",
       "      <td id=\"T_bc880_row4_col4\" class=\"data row4 col4\" >1.10%</td>\n",
       "      <td id=\"T_bc880_row4_col5\" class=\"data row4 col5\" >1.20%</td>\n",
       "    </tr>\n",
       "  </tbody>\n",
       "</table>\n"
      ],
      "text/plain": [
       "<pandas.io.formats.style.Styler at 0x20a696bdc70>"
      ]
     },
     "execution_count": 9,
     "metadata": {},
     "output_type": "execute_result"
    }
   ],
   "source": [
    "df_buy_price.nsmallest(5, 'mkt_pct')[['name','cost','amount','div_amt','cost_pct','mkt_pct']].style.format(format_dict)"
   ]
  },
  {
   "cell_type": "code",
   "execution_count": 10,
   "metadata": {},
   "outputs": [],
   "source": [
    "file_name = 'buy-div-price.csv'\n",
    "data_file = data_path + file_name\n",
    "output_file = csv_path + file_name\n",
    "box_file = box_path + file_name\n",
    "\n",
    "df_buy_price.sort_values(['period','name'],ascending=[True,True]).to_csv(output_file)\n",
    "df_buy_price.sort_values(['period','name'],ascending=[True,True]).to_csv(data_file)\n",
    "df_buy_price.sort_values(['period','name'],ascending=[True,True]).to_csv(box_file)"
   ]
  },
  {
   "cell_type": "markdown",
   "metadata": {},
   "source": [
    "### Short term stocks"
   ]
  },
  {
   "cell_type": "code",
   "execution_count": 11,
   "metadata": {
    "scrolled": true
   },
   "outputs": [
    {
     "data": {
      "text/html": [
       "<style type=\"text/css\">\n",
       "</style>\n",
       "<table id=\"T_5841d_\">\n",
       "  <thead>\n",
       "    <tr>\n",
       "      <th class=\"blank level0\" >&nbsp;</th>\n",
       "      <th class=\"col_heading level0 col0\" >name</th>\n",
       "      <th class=\"col_heading level0 col1\" >shares</th>\n",
       "      <th class=\"col_heading level0 col2\" >unit_cost</th>\n",
       "      <th class=\"col_heading level0 col3\" >cost</th>\n",
       "      <th class=\"col_heading level0 col4\" >dividend</th>\n",
       "      <th class=\"col_heading level0 col5\" >div_amt</th>\n",
       "      <th class=\"col_heading level0 col6\" >cost_pct</th>\n",
       "      <th class=\"col_heading level0 col7\" >price</th>\n",
       "      <th class=\"col_heading level0 col8\" >amount</th>\n",
       "      <th class=\"col_heading level0 col9\" >mkt_pct</th>\n",
       "      <th class=\"col_heading level0 col10\" >profit</th>\n",
       "      <th class=\"col_heading level0 col11\" >pft_pct</th>\n",
       "      <th class=\"col_heading level0 col12\" >period</th>\n",
       "    </tr>\n",
       "  </thead>\n",
       "  <tbody>\n",
       "    <tr>\n",
       "      <th id=\"T_5841d_level0_row0\" class=\"row_heading level0 row0\" >26</th>\n",
       "      <td id=\"T_5841d_row0_col0\" class=\"data row0 col0\" >KBANK</td>\n",
       "      <td id=\"T_5841d_row0_col1\" class=\"data row0 col1\" >2,400</td>\n",
       "      <td id=\"T_5841d_row0_col2\" class=\"data row0 col2\" >136.50</td>\n",
       "      <td id=\"T_5841d_row0_col3\" class=\"data row0 col3\" >327,600.00</td>\n",
       "      <td id=\"T_5841d_row0_col4\" class=\"data row0 col4\" >3.00</td>\n",
       "      <td id=\"T_5841d_row0_col5\" class=\"data row0 col5\" >7,200.00</td>\n",
       "      <td id=\"T_5841d_row0_col6\" class=\"data row0 col6\" >2.20%</td>\n",
       "      <td id=\"T_5841d_row0_col7\" class=\"data row0 col7\" >143.50</td>\n",
       "      <td id=\"T_5841d_row0_col8\" class=\"data row0 col8\" >344,400.00</td>\n",
       "      <td id=\"T_5841d_row0_col9\" class=\"data row0 col9\" >2.10%</td>\n",
       "      <td id=\"T_5841d_row0_col10\" class=\"data row0 col10\" >16,800.00</td>\n",
       "      <td id=\"T_5841d_row0_col11\" class=\"data row0 col11\" >5.10%</td>\n",
       "      <td id=\"T_5841d_row0_col12\" class=\"data row0 col12\" >4</td>\n",
       "    </tr>\n",
       "    <tr>\n",
       "      <th id=\"T_5841d_level0_row1\" class=\"row_heading level0 row1\" >11</th>\n",
       "      <td id=\"T_5841d_row1_col0\" class=\"data row1 col0\" >TOP</td>\n",
       "      <td id=\"T_5841d_row1_col1\" class=\"data row1 col1\" >3,000</td>\n",
       "      <td id=\"T_5841d_row1_col2\" class=\"data row1 col2\" >50.00</td>\n",
       "      <td id=\"T_5841d_row1_col3\" class=\"data row1 col3\" >150,000.00</td>\n",
       "      <td id=\"T_5841d_row1_col4\" class=\"data row1 col4\" >1.30</td>\n",
       "      <td id=\"T_5841d_row1_col5\" class=\"data row1 col5\" >3,900.00</td>\n",
       "      <td id=\"T_5841d_row1_col6\" class=\"data row1 col6\" >2.60%</td>\n",
       "      <td id=\"T_5841d_row1_col7\" class=\"data row1 col7\" >52.00</td>\n",
       "      <td id=\"T_5841d_row1_col8\" class=\"data row1 col8\" >156,000.00</td>\n",
       "      <td id=\"T_5841d_row1_col9\" class=\"data row1 col9\" >2.50%</td>\n",
       "      <td id=\"T_5841d_row1_col10\" class=\"data row1 col10\" >6,000.00</td>\n",
       "      <td id=\"T_5841d_row1_col11\" class=\"data row1 col11\" >4.00%</td>\n",
       "      <td id=\"T_5841d_row1_col12\" class=\"data row1 col12\" >4</td>\n",
       "    </tr>\n",
       "    <tr>\n",
       "      <th id=\"T_5841d_level0_row2\" class=\"row_heading level0 row2\" >32</th>\n",
       "      <td id=\"T_5841d_row2_col0\" class=\"data row2 col0\" >RJH</td>\n",
       "      <td id=\"T_5841d_row2_col1\" class=\"data row2 col1\" >4,500</td>\n",
       "      <td id=\"T_5841d_row2_col2\" class=\"data row2 col2\" >33.00</td>\n",
       "      <td id=\"T_5841d_row2_col3\" class=\"data row2 col3\" >148,500.00</td>\n",
       "      <td id=\"T_5841d_row2_col4\" class=\"data row2 col4\" >1.70</td>\n",
       "      <td id=\"T_5841d_row2_col5\" class=\"data row2 col5\" >7,650.00</td>\n",
       "      <td id=\"T_5841d_row2_col6\" class=\"data row2 col6\" >5.20%</td>\n",
       "      <td id=\"T_5841d_row2_col7\" class=\"data row2 col7\" >33.25</td>\n",
       "      <td id=\"T_5841d_row2_col8\" class=\"data row2 col8\" >149,625.00</td>\n",
       "      <td id=\"T_5841d_row2_col9\" class=\"data row2 col9\" >5.10%</td>\n",
       "      <td id=\"T_5841d_row2_col10\" class=\"data row2 col10\" >1,125.00</td>\n",
       "      <td id=\"T_5841d_row2_col11\" class=\"data row2 col11\" >0.80%</td>\n",
       "      <td id=\"T_5841d_row2_col12\" class=\"data row2 col12\" >4</td>\n",
       "    </tr>\n",
       "    <tr>\n",
       "      <th id=\"T_5841d_level0_row3\" class=\"row_heading level0 row3\" >20</th>\n",
       "      <td id=\"T_5841d_row3_col0\" class=\"data row3 col0\" >TU</td>\n",
       "      <td id=\"T_5841d_row3_col1\" class=\"data row3 col1\" >18,000</td>\n",
       "      <td id=\"T_5841d_row3_col2\" class=\"data row3 col2\" >20.80</td>\n",
       "      <td id=\"T_5841d_row3_col3\" class=\"data row3 col3\" >374,400.00</td>\n",
       "      <td id=\"T_5841d_row3_col4\" class=\"data row3 col4\" >0.85</td>\n",
       "      <td id=\"T_5841d_row3_col5\" class=\"data row3 col5\" >15,300.00</td>\n",
       "      <td id=\"T_5841d_row3_col6\" class=\"data row3 col6\" >4.10%</td>\n",
       "      <td id=\"T_5841d_row3_col7\" class=\"data row3 col7\" >20.70</td>\n",
       "      <td id=\"T_5841d_row3_col8\" class=\"data row3 col8\" >372,600.00</td>\n",
       "      <td id=\"T_5841d_row3_col9\" class=\"data row3 col9\" >4.10%</td>\n",
       "      <td id=\"T_5841d_row3_col10\" class=\"data row3 col10\" >-1,800.00</td>\n",
       "      <td id=\"T_5841d_row3_col11\" class=\"data row3 col11\" >-0.50%</td>\n",
       "      <td id=\"T_5841d_row3_col12\" class=\"data row3 col12\" >4</td>\n",
       "    </tr>\n",
       "    <tr>\n",
       "      <th id=\"T_5841d_level0_row4\" class=\"row_heading level0 row4\" >23</th>\n",
       "      <td id=\"T_5841d_row4_col0\" class=\"data row4 col0\" >NER</td>\n",
       "      <td id=\"T_5841d_row4_col1\" class=\"data row4 col1\" >36,000</td>\n",
       "      <td id=\"T_5841d_row4_col2\" class=\"data row4 col2\" >7.45</td>\n",
       "      <td id=\"T_5841d_row4_col3\" class=\"data row4 col3\" >268,200.00</td>\n",
       "      <td id=\"T_5841d_row4_col4\" class=\"data row4 col4\" >0.22</td>\n",
       "      <td id=\"T_5841d_row4_col5\" class=\"data row4 col5\" >7,920.00</td>\n",
       "      <td id=\"T_5841d_row4_col6\" class=\"data row4 col6\" >3.00%</td>\n",
       "      <td id=\"T_5841d_row4_col7\" class=\"data row4 col7\" >7.40</td>\n",
       "      <td id=\"T_5841d_row4_col8\" class=\"data row4 col8\" >266,400.00</td>\n",
       "      <td id=\"T_5841d_row4_col9\" class=\"data row4 col9\" >3.00%</td>\n",
       "      <td id=\"T_5841d_row4_col10\" class=\"data row4 col10\" >-1,800.00</td>\n",
       "      <td id=\"T_5841d_row4_col11\" class=\"data row4 col11\" >-0.70%</td>\n",
       "      <td id=\"T_5841d_row4_col12\" class=\"data row4 col12\" >4</td>\n",
       "    </tr>\n",
       "    <tr>\n",
       "      <th id=\"T_5841d_level0_row5\" class=\"row_heading level0 row5\" >29</th>\n",
       "      <td id=\"T_5841d_row5_col0\" class=\"data row5 col0\" >BGRIM</td>\n",
       "      <td id=\"T_5841d_row5_col1\" class=\"data row5 col1\" >9,000</td>\n",
       "      <td id=\"T_5841d_row5_col2\" class=\"data row5 col2\" >40.00</td>\n",
       "      <td id=\"T_5841d_row5_col3\" class=\"data row5 col3\" >360,000.00</td>\n",
       "      <td id=\"T_5841d_row5_col4\" class=\"data row5 col4\" >0.45</td>\n",
       "      <td id=\"T_5841d_row5_col5\" class=\"data row5 col5\" >4,050.00</td>\n",
       "      <td id=\"T_5841d_row5_col6\" class=\"data row5 col6\" >1.10%</td>\n",
       "      <td id=\"T_5841d_row5_col7\" class=\"data row5 col7\" >39.00</td>\n",
       "      <td id=\"T_5841d_row5_col8\" class=\"data row5 col8\" >351,000.00</td>\n",
       "      <td id=\"T_5841d_row5_col9\" class=\"data row5 col9\" >1.20%</td>\n",
       "      <td id=\"T_5841d_row5_col10\" class=\"data row5 col10\" >-9,000.00</td>\n",
       "      <td id=\"T_5841d_row5_col11\" class=\"data row5 col11\" >-2.50%</td>\n",
       "      <td id=\"T_5841d_row5_col12\" class=\"data row5 col12\" >4</td>\n",
       "    </tr>\n",
       "    <tr>\n",
       "      <th id=\"T_5841d_level0_row6\" class=\"row_heading level0 row6\" >9</th>\n",
       "      <td id=\"T_5841d_row6_col0\" class=\"data row6 col0\" >WHART</td>\n",
       "      <td id=\"T_5841d_row6_col1\" class=\"data row6 col1\" >10,000</td>\n",
       "      <td id=\"T_5841d_row6_col2\" class=\"data row6 col2\" >12.50</td>\n",
       "      <td id=\"T_5841d_row6_col3\" class=\"data row6 col3\" >125,000.00</td>\n",
       "      <td id=\"T_5841d_row6_col4\" class=\"data row6 col4\" >0.83</td>\n",
       "      <td id=\"T_5841d_row6_col5\" class=\"data row6 col5\" >8,298.00</td>\n",
       "      <td id=\"T_5841d_row6_col6\" class=\"data row6 col6\" >6.60%</td>\n",
       "      <td id=\"T_5841d_row6_col7\" class=\"data row6 col7\" >12.10</td>\n",
       "      <td id=\"T_5841d_row6_col8\" class=\"data row6 col8\" >121,000.00</td>\n",
       "      <td id=\"T_5841d_row6_col9\" class=\"data row6 col9\" >6.90%</td>\n",
       "      <td id=\"T_5841d_row6_col10\" class=\"data row6 col10\" >-4,000.00</td>\n",
       "      <td id=\"T_5841d_row6_col11\" class=\"data row6 col11\" >-3.20%</td>\n",
       "      <td id=\"T_5841d_row6_col12\" class=\"data row6 col12\" >4</td>\n",
       "    </tr>\n",
       "    <tr>\n",
       "      <th id=\"T_5841d_level0_row7\" class=\"row_heading level0 row7\" >30</th>\n",
       "      <td id=\"T_5841d_row7_col0\" class=\"data row7 col0\" >SCC</td>\n",
       "      <td id=\"T_5841d_row7_col1\" class=\"data row7 col1\" >600</td>\n",
       "      <td id=\"T_5841d_row7_col2\" class=\"data row7 col2\" >405.00</td>\n",
       "      <td id=\"T_5841d_row7_col3\" class=\"data row7 col3\" >243,000.00</td>\n",
       "      <td id=\"T_5841d_row7_col4\" class=\"data row7 col4\" >10.00</td>\n",
       "      <td id=\"T_5841d_row7_col5\" class=\"data row7 col5\" >5,999.94</td>\n",
       "      <td id=\"T_5841d_row7_col6\" class=\"data row7 col6\" >2.50%</td>\n",
       "      <td id=\"T_5841d_row7_col7\" class=\"data row7 col7\" >389.00</td>\n",
       "      <td id=\"T_5841d_row7_col8\" class=\"data row7 col8\" >233,400.00</td>\n",
       "      <td id=\"T_5841d_row7_col9\" class=\"data row7 col9\" >2.60%</td>\n",
       "      <td id=\"T_5841d_row7_col10\" class=\"data row7 col10\" >-9,600.00</td>\n",
       "      <td id=\"T_5841d_row7_col11\" class=\"data row7 col11\" >-4.00%</td>\n",
       "      <td id=\"T_5841d_row7_col12\" class=\"data row7 col12\" >4</td>\n",
       "    </tr>\n",
       "  </tbody>\n",
       "</table>\n"
      ],
      "text/plain": [
       "<pandas.io.formats.style.Styler at 0x20a696e6760>"
      ]
     },
     "execution_count": 11,
     "metadata": {},
     "output_type": "execute_result"
    }
   ],
   "source": [
    "short_term = df_buy_price.period == '4'\n",
    "df_buy_price.loc[short_term].sort_values(['pft_pct'],ascending=[False]).style.format(format_dict)"
   ]
  },
  {
   "cell_type": "code",
   "execution_count": 12,
   "metadata": {},
   "outputs": [
    {
     "data": {
      "text/plain": [
       "(1996700.0, -2275.0, -0.11, 8)"
      ]
     },
     "execution_count": 12,
     "metadata": {},
     "output_type": "execute_result"
    }
   ],
   "source": [
    "p4cost = df_buy_price.loc[short_term].cost.sum()\n",
    "p4profit = df_buy_price.loc[short_term].profit.sum()\n",
    "p4pct = round(p4profit/p4cost*100, 2)\n",
    "p4cost, p4profit, p4pct, df_buy_price.loc[short_term].shape[0]"
   ]
  },
  {
   "cell_type": "markdown",
   "metadata": {},
   "source": [
    "### Long term stocks"
   ]
  },
  {
   "cell_type": "code",
   "execution_count": 13,
   "metadata": {},
   "outputs": [
    {
     "data": {
      "text/plain": [
       "(16, 13)"
      ]
     },
     "execution_count": 13,
     "metadata": {},
     "output_type": "execute_result"
    }
   ],
   "source": [
    "long_term = df_buy_price.period == '3'\n",
    "df_buy_price[long_term].sort_values(['pft_pct'],ascending=[False]).shape"
   ]
  },
  {
   "cell_type": "code",
   "execution_count": 14,
   "metadata": {},
   "outputs": [
    {
     "data": {
      "text/html": [
       "<style type=\"text/css\">\n",
       "</style>\n",
       "<table id=\"T_b7312_\">\n",
       "  <thead>\n",
       "    <tr>\n",
       "      <th class=\"blank level0\" >&nbsp;</th>\n",
       "      <th class=\"col_heading level0 col0\" >name</th>\n",
       "      <th class=\"col_heading level0 col1\" >cost</th>\n",
       "      <th class=\"col_heading level0 col2\" >amount</th>\n",
       "      <th class=\"col_heading level0 col3\" >profit</th>\n",
       "      <th class=\"col_heading level0 col4\" >pft_pct</th>\n",
       "    </tr>\n",
       "  </thead>\n",
       "  <tbody>\n",
       "    <tr>\n",
       "      <th id=\"T_b7312_level0_row0\" class=\"row_heading level0 row0\" >31</th>\n",
       "      <td id=\"T_b7312_row0_col0\" class=\"data row0 col0\" >RCL</td>\n",
       "      <td id=\"T_b7312_row0_col1\" class=\"data row0 col1\" >193,500.00</td>\n",
       "      <td id=\"T_b7312_row0_col2\" class=\"data row0 col2\" >243,000.00</td>\n",
       "      <td id=\"T_b7312_row0_col3\" class=\"data row0 col3\" >49,500.00</td>\n",
       "      <td id=\"T_b7312_row0_col4\" class=\"data row0 col4\" >25.60%</td>\n",
       "    </tr>\n",
       "    <tr>\n",
       "      <th id=\"T_b7312_level0_row1\" class=\"row_heading level0 row1\" >3</th>\n",
       "      <td id=\"T_b7312_row1_col0\" class=\"data row1 col0\" >IVL</td>\n",
       "      <td id=\"T_b7312_row1_col1\" class=\"data row1 col1\" >504,000.00</td>\n",
       "      <td id=\"T_b7312_row1_col2\" class=\"data row1 col2\" >567,000.00</td>\n",
       "      <td id=\"T_b7312_row1_col3\" class=\"data row1 col3\" >63,000.00</td>\n",
       "      <td id=\"T_b7312_row1_col4\" class=\"data row1 col4\" >12.50%</td>\n",
       "    </tr>\n",
       "    <tr>\n",
       "      <th id=\"T_b7312_level0_row2\" class=\"row_heading level0 row2\" >2</th>\n",
       "      <td id=\"T_b7312_row2_col0\" class=\"data row2 col0\" >SAT</td>\n",
       "      <td id=\"T_b7312_row2_col1\" class=\"data row2 col1\" >158,250.00</td>\n",
       "      <td id=\"T_b7312_row2_col2\" class=\"data row2 col2\" >176,250.00</td>\n",
       "      <td id=\"T_b7312_row2_col3\" class=\"data row2 col3\" >18,000.00</td>\n",
       "      <td id=\"T_b7312_row2_col4\" class=\"data row2 col4\" >11.40%</td>\n",
       "    </tr>\n",
       "    <tr>\n",
       "      <th id=\"T_b7312_level0_row3\" class=\"row_heading level0 row3\" >25</th>\n",
       "      <td id=\"T_b7312_row3_col0\" class=\"data row3 col0\" >EPG</td>\n",
       "      <td id=\"T_b7312_row3_col1\" class=\"data row3 col1\" >134,400.00</td>\n",
       "      <td id=\"T_b7312_row3_col2\" class=\"data row3 col2\" >148,800.00</td>\n",
       "      <td id=\"T_b7312_row3_col3\" class=\"data row3 col3\" >14,400.00</td>\n",
       "      <td id=\"T_b7312_row3_col4\" class=\"data row3 col4\" >10.70%</td>\n",
       "    </tr>\n",
       "    <tr>\n",
       "      <th id=\"T_b7312_level0_row4\" class=\"row_heading level0 row4\" >24</th>\n",
       "      <td id=\"T_b7312_row4_col0\" class=\"data row4 col0\" >TSTH</td>\n",
       "      <td id=\"T_b7312_row4_col1\" class=\"data row4 col1\" >112,500.00</td>\n",
       "      <td id=\"T_b7312_row4_col2\" class=\"data row4 col2\" >120,000.00</td>\n",
       "      <td id=\"T_b7312_row4_col3\" class=\"data row4 col3\" >7,500.00</td>\n",
       "      <td id=\"T_b7312_row4_col4\" class=\"data row4 col4\" >6.70%</td>\n",
       "    </tr>\n",
       "  </tbody>\n",
       "</table>\n"
      ],
      "text/plain": [
       "<pandas.io.formats.style.Styler at 0x20a6970b9d0>"
      ]
     },
     "execution_count": 14,
     "metadata": {},
     "output_type": "execute_result"
    }
   ],
   "source": [
    "df_buy_price[long_term].nlargest(5, 'pft_pct')[['name','cost','amount','profit','pft_pct']].style.format(format_dict)"
   ]
  },
  {
   "cell_type": "code",
   "execution_count": 15,
   "metadata": {},
   "outputs": [
    {
     "data": {
      "text/plain": [
       "(3605600.0, 112350.0, 3.12, 16)"
      ]
     },
     "execution_count": 15,
     "metadata": {},
     "output_type": "execute_result"
    }
   ],
   "source": [
    "p3cost = df_buy_price.loc[long_term].cost.sum()\n",
    "p3profit = df_buy_price.loc[long_term].profit.sum()\n",
    "p3pct = round(p3profit/p3cost*100, 2)\n",
    "p3cost, p3profit, p3pct,df_buy_price.loc[long_term].shape[0]"
   ]
  },
  {
   "cell_type": "markdown",
   "metadata": {},
   "source": [
    "### High dividend stocks"
   ]
  },
  {
   "cell_type": "code",
   "execution_count": 16,
   "metadata": {},
   "outputs": [
    {
     "data": {
      "text/html": [
       "<div>\n",
       "<style scoped>\n",
       "    .dataframe tbody tr th:only-of-type {\n",
       "        vertical-align: middle;\n",
       "    }\n",
       "\n",
       "    .dataframe tbody tr th {\n",
       "        vertical-align: top;\n",
       "    }\n",
       "\n",
       "    .dataframe thead th {\n",
       "        text-align: right;\n",
       "    }\n",
       "</style>\n",
       "<table border=\"1\" class=\"dataframe\">\n",
       "  <thead>\n",
       "    <tr style=\"text-align: right;\">\n",
       "      <th></th>\n",
       "      <th>name</th>\n",
       "      <th>shares</th>\n",
       "      <th>unit_cost</th>\n",
       "      <th>cost</th>\n",
       "      <th>dividend</th>\n",
       "      <th>div_amt</th>\n",
       "      <th>cost_pct</th>\n",
       "      <th>price</th>\n",
       "      <th>amount</th>\n",
       "      <th>mkt_pct</th>\n",
       "      <th>profit</th>\n",
       "      <th>pft_pct</th>\n",
       "      <th>period</th>\n",
       "    </tr>\n",
       "  </thead>\n",
       "  <tbody>\n",
       "    <tr>\n",
       "      <th>0</th>\n",
       "      <td>STA</td>\n",
       "      <td>20000</td>\n",
       "      <td>34.75</td>\n",
       "      <td>695000.0</td>\n",
       "      <td>5.2500</td>\n",
       "      <td>105000.0</td>\n",
       "      <td>15.1</td>\n",
       "      <td>31.75</td>\n",
       "      <td>635000.0</td>\n",
       "      <td>16.5</td>\n",
       "      <td>-60000.0</td>\n",
       "      <td>-8.6</td>\n",
       "      <td>2</td>\n",
       "    </tr>\n",
       "    <tr>\n",
       "      <th>22</th>\n",
       "      <td>NOBLE</td>\n",
       "      <td>63000</td>\n",
       "      <td>7.00</td>\n",
       "      <td>441000.0</td>\n",
       "      <td>0.8500</td>\n",
       "      <td>53550.0</td>\n",
       "      <td>12.1</td>\n",
       "      <td>6.30</td>\n",
       "      <td>396900.0</td>\n",
       "      <td>13.5</td>\n",
       "      <td>-44100.0</td>\n",
       "      <td>-10.0</td>\n",
       "      <td>2</td>\n",
       "    </tr>\n",
       "    <tr>\n",
       "      <th>7</th>\n",
       "      <td>TMT</td>\n",
       "      <td>27000</td>\n",
       "      <td>10.50</td>\n",
       "      <td>283500.0</td>\n",
       "      <td>1.1000</td>\n",
       "      <td>29700.0</td>\n",
       "      <td>10.5</td>\n",
       "      <td>10.30</td>\n",
       "      <td>278100.0</td>\n",
       "      <td>10.7</td>\n",
       "      <td>-5400.0</td>\n",
       "      <td>-1.9</td>\n",
       "      <td>2</td>\n",
       "    </tr>\n",
       "    <tr>\n",
       "      <th>5</th>\n",
       "      <td>MCS</td>\n",
       "      <td>60000</td>\n",
       "      <td>16.70</td>\n",
       "      <td>1002000.0</td>\n",
       "      <td>1.3700</td>\n",
       "      <td>82200.0</td>\n",
       "      <td>8.2</td>\n",
       "      <td>15.00</td>\n",
       "      <td>900000.0</td>\n",
       "      <td>9.1</td>\n",
       "      <td>-102000.0</td>\n",
       "      <td>-10.2</td>\n",
       "      <td>2</td>\n",
       "    </tr>\n",
       "    <tr>\n",
       "      <th>13</th>\n",
       "      <td>JASIF</td>\n",
       "      <td>100000</td>\n",
       "      <td>10.00</td>\n",
       "      <td>1000000.0</td>\n",
       "      <td>0.9500</td>\n",
       "      <td>95000.0</td>\n",
       "      <td>9.5</td>\n",
       "      <td>10.50</td>\n",
       "      <td>1050000.0</td>\n",
       "      <td>9.0</td>\n",
       "      <td>50000.0</td>\n",
       "      <td>5.0</td>\n",
       "      <td>2</td>\n",
       "    </tr>\n",
       "    <tr>\n",
       "      <th>17</th>\n",
       "      <td>HREIT</td>\n",
       "      <td>30000</td>\n",
       "      <td>8.95</td>\n",
       "      <td>268500.0</td>\n",
       "      <td>0.6932</td>\n",
       "      <td>20796.0</td>\n",
       "      <td>7.7</td>\n",
       "      <td>9.00</td>\n",
       "      <td>270000.0</td>\n",
       "      <td>7.7</td>\n",
       "      <td>1500.0</td>\n",
       "      <td>0.6</td>\n",
       "      <td>2</td>\n",
       "    </tr>\n",
       "    <tr>\n",
       "      <th>6</th>\n",
       "      <td>DIF</td>\n",
       "      <td>60000</td>\n",
       "      <td>14.70</td>\n",
       "      <td>882000.0</td>\n",
       "      <td>1.0440</td>\n",
       "      <td>62640.0</td>\n",
       "      <td>7.1</td>\n",
       "      <td>14.00</td>\n",
       "      <td>840000.0</td>\n",
       "      <td>7.5</td>\n",
       "      <td>-42000.0</td>\n",
       "      <td>-4.8</td>\n",
       "      <td>2</td>\n",
       "    </tr>\n",
       "    <tr>\n",
       "      <th>1</th>\n",
       "      <td>RATCH</td>\n",
       "      <td>9000</td>\n",
       "      <td>45.75</td>\n",
       "      <td>411750.0</td>\n",
       "      <td>3.2500</td>\n",
       "      <td>29250.0</td>\n",
       "      <td>7.1</td>\n",
       "      <td>44.50</td>\n",
       "      <td>400500.0</td>\n",
       "      <td>7.3</td>\n",
       "      <td>-11250.0</td>\n",
       "      <td>-2.7</td>\n",
       "      <td>2</td>\n",
       "    </tr>\n",
       "    <tr>\n",
       "      <th>15</th>\n",
       "      <td>TISCO</td>\n",
       "      <td>2000</td>\n",
       "      <td>97.50</td>\n",
       "      <td>195000.0</td>\n",
       "      <td>6.3000</td>\n",
       "      <td>12600.0</td>\n",
       "      <td>6.5</td>\n",
       "      <td>98.25</td>\n",
       "      <td>196500.0</td>\n",
       "      <td>6.4</td>\n",
       "      <td>1500.0</td>\n",
       "      <td>0.8</td>\n",
       "      <td>2</td>\n",
       "    </tr>\n",
       "  </tbody>\n",
       "</table>\n",
       "</div>"
      ],
      "text/plain": [
       "     name  shares  unit_cost       cost  dividend   div_amt  cost_pct  price  \\\n",
       "0     STA   20000      34.75   695000.0    5.2500  105000.0      15.1  31.75   \n",
       "22  NOBLE   63000       7.00   441000.0    0.8500   53550.0      12.1   6.30   \n",
       "7     TMT   27000      10.50   283500.0    1.1000   29700.0      10.5  10.30   \n",
       "5     MCS   60000      16.70  1002000.0    1.3700   82200.0       8.2  15.00   \n",
       "13  JASIF  100000      10.00  1000000.0    0.9500   95000.0       9.5  10.50   \n",
       "17  HREIT   30000       8.95   268500.0    0.6932   20796.0       7.7   9.00   \n",
       "6     DIF   60000      14.70   882000.0    1.0440   62640.0       7.1  14.00   \n",
       "1   RATCH    9000      45.75   411750.0    3.2500   29250.0       7.1  44.50   \n",
       "15  TISCO    2000      97.50   195000.0    6.3000   12600.0       6.5  98.25   \n",
       "\n",
       "       amount  mkt_pct    profit  pft_pct period  \n",
       "0    635000.0     16.5  -60000.0     -8.6      2  \n",
       "22   396900.0     13.5  -44100.0    -10.0      2  \n",
       "7    278100.0     10.7   -5400.0     -1.9      2  \n",
       "5    900000.0      9.1 -102000.0    -10.2      2  \n",
       "13  1050000.0      9.0   50000.0      5.0      2  \n",
       "17   270000.0      7.7    1500.0      0.6      2  \n",
       "6    840000.0      7.5  -42000.0     -4.8      2  \n",
       "1    400500.0      7.3  -11250.0     -2.7      2  \n",
       "15   196500.0      6.4    1500.0      0.8      2  "
      ]
     },
     "execution_count": 16,
     "metadata": {},
     "output_type": "execute_result"
    }
   ],
   "source": [
    "hi_dividend = df_buy_price.period == '2'\n",
    "df_buy_price.loc[hi_dividend].sort_values(['mkt_pct'],ascending=[False])"
   ]
  },
  {
   "cell_type": "code",
   "execution_count": 17,
   "metadata": {},
   "outputs": [
    {
     "data": {
      "text/html": [
       "<style type=\"text/css\">\n",
       "</style>\n",
       "<table id=\"T_7d5b3_\">\n",
       "  <thead>\n",
       "    <tr>\n",
       "      <th class=\"blank level0\" >&nbsp;</th>\n",
       "      <th class=\"col_heading level0 col0\" >name</th>\n",
       "      <th class=\"col_heading level0 col1\" >cost</th>\n",
       "      <th class=\"col_heading level0 col2\" >amount</th>\n",
       "      <th class=\"col_heading level0 col3\" >div_amt</th>\n",
       "      <th class=\"col_heading level0 col4\" >cost_pct</th>\n",
       "      <th class=\"col_heading level0 col5\" >mkt_pct</th>\n",
       "    </tr>\n",
       "  </thead>\n",
       "  <tbody>\n",
       "    <tr>\n",
       "      <th id=\"T_7d5b3_level0_row0\" class=\"row_heading level0 row0\" >0</th>\n",
       "      <td id=\"T_7d5b3_row0_col0\" class=\"data row0 col0\" >STA</td>\n",
       "      <td id=\"T_7d5b3_row0_col1\" class=\"data row0 col1\" >695,000.00</td>\n",
       "      <td id=\"T_7d5b3_row0_col2\" class=\"data row0 col2\" >635,000.00</td>\n",
       "      <td id=\"T_7d5b3_row0_col3\" class=\"data row0 col3\" >105,000.00</td>\n",
       "      <td id=\"T_7d5b3_row0_col4\" class=\"data row0 col4\" >15.10%</td>\n",
       "      <td id=\"T_7d5b3_row0_col5\" class=\"data row0 col5\" >16.50%</td>\n",
       "    </tr>\n",
       "    <tr>\n",
       "      <th id=\"T_7d5b3_level0_row1\" class=\"row_heading level0 row1\" >22</th>\n",
       "      <td id=\"T_7d5b3_row1_col0\" class=\"data row1 col0\" >NOBLE</td>\n",
       "      <td id=\"T_7d5b3_row1_col1\" class=\"data row1 col1\" >441,000.00</td>\n",
       "      <td id=\"T_7d5b3_row1_col2\" class=\"data row1 col2\" >396,900.00</td>\n",
       "      <td id=\"T_7d5b3_row1_col3\" class=\"data row1 col3\" >53,550.00</td>\n",
       "      <td id=\"T_7d5b3_row1_col4\" class=\"data row1 col4\" >12.10%</td>\n",
       "      <td id=\"T_7d5b3_row1_col5\" class=\"data row1 col5\" >13.50%</td>\n",
       "    </tr>\n",
       "    <tr>\n",
       "      <th id=\"T_7d5b3_level0_row2\" class=\"row_heading level0 row2\" >7</th>\n",
       "      <td id=\"T_7d5b3_row2_col0\" class=\"data row2 col0\" >TMT</td>\n",
       "      <td id=\"T_7d5b3_row2_col1\" class=\"data row2 col1\" >283,500.00</td>\n",
       "      <td id=\"T_7d5b3_row2_col2\" class=\"data row2 col2\" >278,100.00</td>\n",
       "      <td id=\"T_7d5b3_row2_col3\" class=\"data row2 col3\" >29,700.00</td>\n",
       "      <td id=\"T_7d5b3_row2_col4\" class=\"data row2 col4\" >10.50%</td>\n",
       "      <td id=\"T_7d5b3_row2_col5\" class=\"data row2 col5\" >10.70%</td>\n",
       "    </tr>\n",
       "    <tr>\n",
       "      <th id=\"T_7d5b3_level0_row3\" class=\"row_heading level0 row3\" >5</th>\n",
       "      <td id=\"T_7d5b3_row3_col0\" class=\"data row3 col0\" >MCS</td>\n",
       "      <td id=\"T_7d5b3_row3_col1\" class=\"data row3 col1\" >1,002,000.00</td>\n",
       "      <td id=\"T_7d5b3_row3_col2\" class=\"data row3 col2\" >900,000.00</td>\n",
       "      <td id=\"T_7d5b3_row3_col3\" class=\"data row3 col3\" >82,200.00</td>\n",
       "      <td id=\"T_7d5b3_row3_col4\" class=\"data row3 col4\" >8.20%</td>\n",
       "      <td id=\"T_7d5b3_row3_col5\" class=\"data row3 col5\" >9.10%</td>\n",
       "    </tr>\n",
       "    <tr>\n",
       "      <th id=\"T_7d5b3_level0_row4\" class=\"row_heading level0 row4\" >13</th>\n",
       "      <td id=\"T_7d5b3_row4_col0\" class=\"data row4 col0\" >JASIF</td>\n",
       "      <td id=\"T_7d5b3_row4_col1\" class=\"data row4 col1\" >1,000,000.00</td>\n",
       "      <td id=\"T_7d5b3_row4_col2\" class=\"data row4 col2\" >1,050,000.00</td>\n",
       "      <td id=\"T_7d5b3_row4_col3\" class=\"data row4 col3\" >95,000.00</td>\n",
       "      <td id=\"T_7d5b3_row4_col4\" class=\"data row4 col4\" >9.50%</td>\n",
       "      <td id=\"T_7d5b3_row4_col5\" class=\"data row4 col5\" >9.00%</td>\n",
       "    </tr>\n",
       "  </tbody>\n",
       "</table>\n"
      ],
      "text/plain": [
       "<pandas.io.formats.style.Styler at 0x20a6a741fd0>"
      ]
     },
     "execution_count": 17,
     "metadata": {},
     "output_type": "execute_result"
    }
   ],
   "source": [
    "df_buy_price[hi_dividend].nlargest(5, 'mkt_pct')[['name','cost','amount','div_amt','cost_pct','mkt_pct']]\\\n",
    ".style.format(format_dict)"
   ]
  },
  {
   "cell_type": "code",
   "execution_count": 18,
   "metadata": {},
   "outputs": [
    {
     "data": {
      "text/plain": [
       "(5178750.0, -211750.0, -4.09, 490736.0, 9)"
      ]
     },
     "execution_count": 18,
     "metadata": {},
     "output_type": "execute_result"
    }
   ],
   "source": [
    "p2profit = df_buy_price.loc[hi_dividend].profit.sum()\n",
    "p2cost = df_buy_price.loc[hi_dividend].cost.sum()\n",
    "p2dividend = df_buy_price.loc[hi_dividend].div_amt.sum()\n",
    "p2yield = round(p2profit/p2cost*100,2)\n",
    "p2cost, p2profit, p2yield, p2dividend, df_buy_price.loc[hi_dividend].shape[0]"
   ]
  },
  {
   "cell_type": "markdown",
   "metadata": {},
   "source": [
    "### Disposal stocks"
   ]
  },
  {
   "cell_type": "code",
   "execution_count": 19,
   "metadata": {
    "scrolled": false
   },
   "outputs": [
    {
     "data": {
      "text/html": [
       "<style type=\"text/css\">\n",
       "</style>\n",
       "<table id=\"T_4f670_\">\n",
       "  <thead>\n",
       "    <tr>\n",
       "      <th class=\"blank level0\" >&nbsp;</th>\n",
       "      <th class=\"col_heading level0 col0\" >name</th>\n",
       "      <th class=\"col_heading level0 col1\" >shares</th>\n",
       "      <th class=\"col_heading level0 col2\" >unit_cost</th>\n",
       "      <th class=\"col_heading level0 col3\" >cost</th>\n",
       "      <th class=\"col_heading level0 col4\" >dividend</th>\n",
       "      <th class=\"col_heading level0 col5\" >div_amt</th>\n",
       "      <th class=\"col_heading level0 col6\" >cost_pct</th>\n",
       "      <th class=\"col_heading level0 col7\" >price</th>\n",
       "      <th class=\"col_heading level0 col8\" >amount</th>\n",
       "      <th class=\"col_heading level0 col9\" >mkt_pct</th>\n",
       "      <th class=\"col_heading level0 col10\" >profit</th>\n",
       "      <th class=\"col_heading level0 col11\" >pft_pct</th>\n",
       "      <th class=\"col_heading level0 col12\" >period</th>\n",
       "    </tr>\n",
       "  </thead>\n",
       "  <tbody>\n",
       "    <tr>\n",
       "      <th id=\"T_4f670_level0_row0\" class=\"row_heading level0 row0\" >16</th>\n",
       "      <td id=\"T_4f670_row0_col0\" class=\"data row0 col0\" >PTTGC</td>\n",
       "      <td id=\"T_4f670_row0_col1\" class=\"data row0 col1\" >4,400</td>\n",
       "      <td id=\"T_4f670_row0_col2\" class=\"data row0 col2\" >66.75</td>\n",
       "      <td id=\"T_4f670_row0_col3\" class=\"data row0 col3\" >293,700.00</td>\n",
       "      <td id=\"T_4f670_row0_col4\" class=\"data row0 col4\" >3.00</td>\n",
       "      <td id=\"T_4f670_row0_col5\" class=\"data row0 col5\" >13,200.00</td>\n",
       "      <td id=\"T_4f670_row0_col6\" class=\"data row0 col6\" >4.50%</td>\n",
       "      <td id=\"T_4f670_row0_col7\" class=\"data row0 col7\" >60.25</td>\n",
       "      <td id=\"T_4f670_row0_col8\" class=\"data row0 col8\" >265,100.00</td>\n",
       "      <td id=\"T_4f670_row0_col9\" class=\"data row0 col9\" >5.00%</td>\n",
       "      <td id=\"T_4f670_row0_col10\" class=\"data row0 col10\" >-28,600.00</td>\n",
       "      <td id=\"T_4f670_row0_col11\" class=\"data row0 col11\" >-9.70%</td>\n",
       "      <td id=\"T_4f670_row0_col12\" class=\"data row0 col12\" >1</td>\n",
       "    </tr>\n",
       "  </tbody>\n",
       "</table>\n"
      ],
      "text/plain": [
       "<pandas.io.formats.style.Styler at 0x20a695bafd0>"
      ]
     },
     "execution_count": 19,
     "metadata": {},
     "output_type": "execute_result"
    }
   ],
   "source": [
    "disposal = df_buy_price.period == '1'\n",
    "df_buy_price.loc[disposal].sort_values(['pft_pct'],ascending=[True]).style.format(format_dict)"
   ]
  },
  {
   "cell_type": "code",
   "execution_count": 20,
   "metadata": {},
   "outputs": [
    {
     "data": {
      "text/plain": [
       "(293700.0, -28600.0, -9.74, 1)"
      ]
     },
     "execution_count": 20,
     "metadata": {},
     "output_type": "execute_result"
    }
   ],
   "source": [
    "p1cost = df_buy_price.loc[disposal].cost.sum()\n",
    "p1profit = df_buy_price.loc[disposal].profit.sum()\n",
    "p1pct = round(p1profit/p1cost*100,2)\n",
    "p1cost, p1profit, p1pct,df_buy_price.loc[disposal].shape[0]"
   ]
  },
  {
   "cell_type": "markdown",
   "metadata": {},
   "source": [
    "### Discrepancies calculation"
   ]
  },
  {
   "cell_type": "code",
   "execution_count": 21,
   "metadata": {},
   "outputs": [
    {
     "data": {
      "text/plain": [
       "(34, 11)"
      ]
     },
     "execution_count": 21,
     "metadata": {},
     "output_type": "execute_result"
    }
   ],
   "source": [
    "sql = '''\n",
    "SELECT *\n",
    "FROM buy\n",
    "WHERE active = 1'''\n",
    "df = pd.read_sql(sql, const)\n",
    "df['cost_amt'] = df.volbuy * df.price\n",
    "df.shape"
   ]
  },
  {
   "cell_type": "code",
   "execution_count": 22,
   "metadata": {},
   "outputs": [
    {
     "data": {
      "text/plain": [
       "(358, 2)"
      ]
     },
     "execution_count": 22,
     "metadata": {},
     "output_type": "execute_result"
    }
   ],
   "source": [
    "sql = '''\n",
    "SELECT name, market\n",
    "FROM stocks\n",
    "ORDER BY name'''\n",
    "my_stocks = pd.read_sql(sql, conmy)\n",
    "my_stocks.shape"
   ]
  },
  {
   "cell_type": "code",
   "execution_count": 23,
   "metadata": {},
   "outputs": [],
   "source": [
    "filters = [\n",
    "   (my_stocks.market.str.contains('SET50')),\n",
    "   (my_stocks.market.str.contains('SET100')),\n",
    "   (my_stocks.market.str.contains('mai'))    \n",
    "]\n",
    "values = [450000.0,300000.0,150000.0]"
   ]
  },
  {
   "cell_type": "code",
   "execution_count": 24,
   "metadata": {},
   "outputs": [
    {
     "data": {
      "text/html": [
       "<style type=\"text/css\">\n",
       "</style>\n",
       "<table id=\"T_c8012_\">\n",
       "  <thead>\n",
       "    <tr>\n",
       "      <th class=\"blank level0\" >&nbsp;</th>\n",
       "      <th class=\"col_heading level0 col0\" >name</th>\n",
       "      <th class=\"col_heading level0 col1\" >market</th>\n",
       "      <th class=\"col_heading level0 col2\" >base</th>\n",
       "    </tr>\n",
       "  </thead>\n",
       "  <tbody>\n",
       "    <tr>\n",
       "      <th id=\"T_c8012_level0_row0\" class=\"row_heading level0 row0\" >0</th>\n",
       "      <td id=\"T_c8012_row0_col0\" class=\"data row0 col0\" >2S</td>\n",
       "      <td id=\"T_c8012_row0_col1\" class=\"data row0 col1\" >SET    </td>\n",
       "      <td id=\"T_c8012_row0_col2\" class=\"data row0 col2\" >150,000.00</td>\n",
       "    </tr>\n",
       "    <tr>\n",
       "      <th id=\"T_c8012_level0_row1\" class=\"row_heading level0 row1\" >1</th>\n",
       "      <td id=\"T_c8012_row1_col0\" class=\"data row1 col0\" >AAV</td>\n",
       "      <td id=\"T_c8012_row1_col1\" class=\"data row1 col1\" >sSET / SETTHSI    </td>\n",
       "      <td id=\"T_c8012_row1_col2\" class=\"data row1 col2\" >150,000.00</td>\n",
       "    </tr>\n",
       "    <tr>\n",
       "      <th id=\"T_c8012_level0_row2\" class=\"row_heading level0 row2\" >2</th>\n",
       "      <td id=\"T_c8012_row2_col0\" class=\"data row2 col0\" >ACE</td>\n",
       "      <td id=\"T_c8012_row2_col1\" class=\"data row2 col1\" >SET100    </td>\n",
       "      <td id=\"T_c8012_row2_col2\" class=\"data row2 col2\" >300,000.00</td>\n",
       "    </tr>\n",
       "    <tr>\n",
       "      <th id=\"T_c8012_level0_row3\" class=\"row_heading level0 row3\" >3</th>\n",
       "      <td id=\"T_c8012_row3_col0\" class=\"data row3 col0\" >ADVANC</td>\n",
       "      <td id=\"T_c8012_row3_col1\" class=\"data row3 col1\" >SET50 / SETHD / SETTHSI    </td>\n",
       "      <td id=\"T_c8012_row3_col2\" class=\"data row3 col2\" >450,000.00</td>\n",
       "    </tr>\n",
       "    <tr>\n",
       "      <th id=\"T_c8012_level0_row4\" class=\"row_heading level0 row4\" >4</th>\n",
       "      <td id=\"T_c8012_row4_col0\" class=\"data row4 col0\" >AEONTS</td>\n",
       "      <td id=\"T_c8012_row4_col1\" class=\"data row4 col1\" >SET100    </td>\n",
       "      <td id=\"T_c8012_row4_col2\" class=\"data row4 col2\" >300,000.00</td>\n",
       "    </tr>\n",
       "  </tbody>\n",
       "</table>\n"
      ],
      "text/plain": [
       "<pandas.io.formats.style.Styler at 0x20a62568d90>"
      ]
     },
     "execution_count": 24,
     "metadata": {},
     "output_type": "execute_result"
    }
   ],
   "source": [
    "my_stocks[\"base\"] = np.select(filters, values, default=150000)\n",
    "my_stocks.head().style.format(format_dict)"
   ]
  },
  {
   "cell_type": "code",
   "execution_count": 25,
   "metadata": {},
   "outputs": [
    {
     "data": {
      "text/plain": [
       "(34, 13)"
      ]
     },
     "execution_count": 25,
     "metadata": {},
     "output_type": "execute_result"
    }
   ],
   "source": [
    "df_merge = pd.merge(df, my_stocks, on='name', how='inner')\n",
    "df_merge.shape"
   ]
  },
  {
   "cell_type": "code",
   "execution_count": 26,
   "metadata": {},
   "outputs": [
    {
     "data": {
      "text/html": [
       "<style type=\"text/css\">\n",
       "</style>\n",
       "<table id=\"T_ff41c_\">\n",
       "  <thead>\n",
       "    <tr>\n",
       "      <th class=\"blank level0\" >&nbsp;</th>\n",
       "      <th class=\"col_heading level0 col0\" >name</th>\n",
       "      <th class=\"col_heading level0 col1\" >period</th>\n",
       "      <th class=\"col_heading level0 col2\" >volbuy</th>\n",
       "      <th class=\"col_heading level0 col3\" >price</th>\n",
       "      <th class=\"col_heading level0 col4\" >cost_amt</th>\n",
       "      <th class=\"col_heading level0 col5\" >base</th>\n",
       "      <th class=\"col_heading level0 col6\" >pct</th>\n",
       "    </tr>\n",
       "  </thead>\n",
       "  <tbody>\n",
       "    <tr>\n",
       "      <th id=\"T_ff41c_level0_row0\" class=\"row_heading level0 row0\" >2</th>\n",
       "      <td id=\"T_ff41c_row0_col0\" class=\"data row0 col0\" >SAT</td>\n",
       "      <td id=\"T_ff41c_row0_col1\" class=\"data row0 col1\" >3</td>\n",
       "      <td id=\"T_ff41c_row0_col2\" class=\"data row0 col2\" >7,500</td>\n",
       "      <td id=\"T_ff41c_row0_col3\" class=\"data row0 col3\" >21.10</td>\n",
       "      <td id=\"T_ff41c_row0_col4\" class=\"data row0 col4\" >158,250.00</td>\n",
       "      <td id=\"T_ff41c_row0_col5\" class=\"data row0 col5\" >150,000.00</td>\n",
       "      <td id=\"T_ff41c_row0_col6\" class=\"data row0 col6\" >105.50%</td>\n",
       "    </tr>\n",
       "    <tr>\n",
       "      <th id=\"T_ff41c_level0_row1\" class=\"row_heading level0 row1\" >3</th>\n",
       "      <td id=\"T_ff41c_row1_col0\" class=\"data row1 col0\" >IVL</td>\n",
       "      <td id=\"T_ff41c_row1_col1\" class=\"data row1 col1\" >3</td>\n",
       "      <td id=\"T_ff41c_row1_col2\" class=\"data row1 col2\" >12,000</td>\n",
       "      <td id=\"T_ff41c_row1_col3\" class=\"data row1 col3\" >42.00</td>\n",
       "      <td id=\"T_ff41c_row1_col4\" class=\"data row1 col4\" >504,000.00</td>\n",
       "      <td id=\"T_ff41c_row1_col5\" class=\"data row1 col5\" >450,000.00</td>\n",
       "      <td id=\"T_ff41c_row1_col6\" class=\"data row1 col6\" >112.00%</td>\n",
       "    </tr>\n",
       "    <tr>\n",
       "      <th id=\"T_ff41c_level0_row2\" class=\"row_heading level0 row2\" >4</th>\n",
       "      <td id=\"T_ff41c_row2_col0\" class=\"data row2 col0\" >KCE</td>\n",
       "      <td id=\"T_ff41c_row2_col1\" class=\"data row2 col1\" >3</td>\n",
       "      <td id=\"T_ff41c_row2_col2\" class=\"data row2 col2\" >4,000</td>\n",
       "      <td id=\"T_ff41c_row2_col3\" class=\"data row2 col3\" >87.00</td>\n",
       "      <td id=\"T_ff41c_row2_col4\" class=\"data row2 col4\" >348,000.00</td>\n",
       "      <td id=\"T_ff41c_row2_col5\" class=\"data row2 col5\" >450,000.00</td>\n",
       "      <td id=\"T_ff41c_row2_col6\" class=\"data row2 col6\" >77.33%</td>\n",
       "    </tr>\n",
       "    <tr>\n",
       "      <th id=\"T_ff41c_level0_row3\" class=\"row_heading level0 row3\" >8</th>\n",
       "      <td id=\"T_ff41c_row3_col0\" class=\"data row3 col0\" >GLOBAL</td>\n",
       "      <td id=\"T_ff41c_row3_col1\" class=\"data row3 col1\" >3</td>\n",
       "      <td id=\"T_ff41c_row3_col2\" class=\"data row3 col2\" >7,500</td>\n",
       "      <td id=\"T_ff41c_row3_col3\" class=\"data row3 col3\" >20.00</td>\n",
       "      <td id=\"T_ff41c_row3_col4\" class=\"data row3 col4\" >150,000.00</td>\n",
       "      <td id=\"T_ff41c_row3_col5\" class=\"data row3 col5\" >450,000.00</td>\n",
       "      <td id=\"T_ff41c_row3_col6\" class=\"data row3 col6\" >33.33%</td>\n",
       "    </tr>\n",
       "    <tr>\n",
       "      <th id=\"T_ff41c_level0_row4\" class=\"row_heading level0 row4\" >9</th>\n",
       "      <td id=\"T_ff41c_row4_col0\" class=\"data row4 col0\" >WHART</td>\n",
       "      <td id=\"T_ff41c_row4_col1\" class=\"data row4 col1\" >4</td>\n",
       "      <td id=\"T_ff41c_row4_col2\" class=\"data row4 col2\" >10,000</td>\n",
       "      <td id=\"T_ff41c_row4_col3\" class=\"data row4 col3\" >12.50</td>\n",
       "      <td id=\"T_ff41c_row4_col4\" class=\"data row4 col4\" >125,000.00</td>\n",
       "      <td id=\"T_ff41c_row4_col5\" class=\"data row4 col5\" >150,000.00</td>\n",
       "      <td id=\"T_ff41c_row4_col6\" class=\"data row4 col6\" >83.33%</td>\n",
       "    </tr>\n",
       "  </tbody>\n",
       "</table>\n"
      ],
      "text/plain": [
       "<pandas.io.formats.style.Styler at 0x20a695baf70>"
      ]
     },
     "execution_count": 26,
     "metadata": {},
     "output_type": "execute_result"
    }
   ],
   "source": [
    "\n",
    "df_merge['pct'] = round(df_merge.cost_amt/df_merge.base*100,2)\n",
    "df_merge['volbuy'] = df_merge['volbuy'].astype(int)\n",
    "mask = df.period != '2'\n",
    "df_merge[mask][cols].head().style.format(format_dict)"
   ]
  },
  {
   "cell_type": "code",
   "execution_count": 27,
   "metadata": {},
   "outputs": [
    {
     "data": {
      "text/html": [
       "<style type=\"text/css\">\n",
       "</style>\n",
       "<table id=\"T_07995_\">\n",
       "  <thead>\n",
       "    <tr>\n",
       "      <th class=\"blank level0\" >&nbsp;</th>\n",
       "      <th class=\"col_heading level0 col0\" >name</th>\n",
       "      <th class=\"col_heading level0 col1\" >period</th>\n",
       "      <th class=\"col_heading level0 col2\" >volbuy</th>\n",
       "      <th class=\"col_heading level0 col3\" >price</th>\n",
       "      <th class=\"col_heading level0 col4\" >cost_amt</th>\n",
       "      <th class=\"col_heading level0 col5\" >base</th>\n",
       "      <th class=\"col_heading level0 col6\" >pct</th>\n",
       "    </tr>\n",
       "  </thead>\n",
       "  <tbody>\n",
       "    <tr>\n",
       "      <th id=\"T_07995_level0_row0\" class=\"row_heading level0 row0\" >8</th>\n",
       "      <td id=\"T_07995_row0_col0\" class=\"data row0 col0\" >GLOBAL</td>\n",
       "      <td id=\"T_07995_row0_col1\" class=\"data row0 col1\" >3</td>\n",
       "      <td id=\"T_07995_row0_col2\" class=\"data row0 col2\" >7,500</td>\n",
       "      <td id=\"T_07995_row0_col3\" class=\"data row0 col3\" >20.00</td>\n",
       "      <td id=\"T_07995_row0_col4\" class=\"data row0 col4\" >150,000.00</td>\n",
       "      <td id=\"T_07995_row0_col5\" class=\"data row0 col5\" >450,000.00</td>\n",
       "      <td id=\"T_07995_row0_col6\" class=\"data row0 col6\" >33.33%</td>\n",
       "    </tr>\n",
       "    <tr>\n",
       "      <th id=\"T_07995_level0_row1\" class=\"row_heading level0 row1\" >11</th>\n",
       "      <td id=\"T_07995_row1_col0\" class=\"data row1 col0\" >TOP</td>\n",
       "      <td id=\"T_07995_row1_col1\" class=\"data row1 col1\" >4</td>\n",
       "      <td id=\"T_07995_row1_col2\" class=\"data row1 col2\" >3,000</td>\n",
       "      <td id=\"T_07995_row1_col3\" class=\"data row1 col3\" >50.00</td>\n",
       "      <td id=\"T_07995_row1_col4\" class=\"data row1 col4\" >150,000.00</td>\n",
       "      <td id=\"T_07995_row1_col5\" class=\"data row1 col5\" >450,000.00</td>\n",
       "      <td id=\"T_07995_row1_col6\" class=\"data row1 col6\" >33.33%</td>\n",
       "    </tr>\n",
       "    <tr>\n",
       "      <th id=\"T_07995_level0_row2\" class=\"row_heading level0 row2\" >25</th>\n",
       "      <td id=\"T_07995_row2_col0\" class=\"data row2 col0\" >EPG</td>\n",
       "      <td id=\"T_07995_row2_col1\" class=\"data row2 col1\" >3</td>\n",
       "      <td id=\"T_07995_row2_col2\" class=\"data row2 col2\" >12,000</td>\n",
       "      <td id=\"T_07995_row2_col3\" class=\"data row2 col3\" >11.20</td>\n",
       "      <td id=\"T_07995_row2_col4\" class=\"data row2 col4\" >134,400.00</td>\n",
       "      <td id=\"T_07995_row2_col5\" class=\"data row2 col5\" >300,000.00</td>\n",
       "      <td id=\"T_07995_row2_col6\" class=\"data row2 col6\" >44.80%</td>\n",
       "    </tr>\n",
       "  </tbody>\n",
       "</table>\n"
      ],
      "text/plain": [
       "<pandas.io.formats.style.Styler at 0x20a6a76edf0>"
      ]
     },
     "execution_count": 27,
     "metadata": {},
     "output_type": "execute_result"
    }
   ],
   "source": [
    "df_merge[mask].nsmallest(3, 'pct')[cols].style.format(format_dict)"
   ]
  },
  {
   "cell_type": "code",
   "execution_count": 28,
   "metadata": {},
   "outputs": [
    {
     "data": {
      "text/html": [
       "<style type=\"text/css\">\n",
       "</style>\n",
       "<table id=\"T_02249_\">\n",
       "  <thead>\n",
       "    <tr>\n",
       "      <th class=\"blank level0\" >&nbsp;</th>\n",
       "      <th class=\"col_heading level0 col0\" >name</th>\n",
       "      <th class=\"col_heading level0 col1\" >period</th>\n",
       "      <th class=\"col_heading level0 col2\" >volbuy</th>\n",
       "      <th class=\"col_heading level0 col3\" >price</th>\n",
       "      <th class=\"col_heading level0 col4\" >cost_amt</th>\n",
       "      <th class=\"col_heading level0 col5\" >base</th>\n",
       "      <th class=\"col_heading level0 col6\" >pct</th>\n",
       "    </tr>\n",
       "  </thead>\n",
       "  <tbody>\n",
       "    <tr>\n",
       "      <th id=\"T_02249_level0_row0\" class=\"row_heading level0 row0\" >23</th>\n",
       "      <td id=\"T_02249_row0_col0\" class=\"data row0 col0\" >NER</td>\n",
       "      <td id=\"T_02249_row0_col1\" class=\"data row0 col1\" >4</td>\n",
       "      <td id=\"T_02249_row0_col2\" class=\"data row0 col2\" >36,000</td>\n",
       "      <td id=\"T_02249_row0_col3\" class=\"data row0 col3\" >7.45</td>\n",
       "      <td id=\"T_02249_row0_col4\" class=\"data row0 col4\" >268,200.00</td>\n",
       "      <td id=\"T_02249_row0_col5\" class=\"data row0 col5\" >150,000.00</td>\n",
       "      <td id=\"T_02249_row0_col6\" class=\"data row0 col6\" >178.80%</td>\n",
       "    </tr>\n",
       "    <tr>\n",
       "      <th id=\"T_02249_level0_row1\" class=\"row_heading level0 row1\" >33</th>\n",
       "      <td id=\"T_02249_row1_col0\" class=\"data row1 col0\" >IP</td>\n",
       "      <td id=\"T_02249_row1_col1\" class=\"data row1 col1\" >3</td>\n",
       "      <td id=\"T_02249_row1_col2\" class=\"data row1 col2\" >10,500</td>\n",
       "      <td id=\"T_02249_row1_col3\" class=\"data row1 col3\" >20.20</td>\n",
       "      <td id=\"T_02249_row1_col4\" class=\"data row1 col4\" >212,100.00</td>\n",
       "      <td id=\"T_02249_row1_col5\" class=\"data row1 col5\" >150,000.00</td>\n",
       "      <td id=\"T_02249_row1_col6\" class=\"data row1 col6\" >141.40%</td>\n",
       "    </tr>\n",
       "    <tr>\n",
       "      <th id=\"T_02249_level0_row2\" class=\"row_heading level0 row2\" >18</th>\n",
       "      <td id=\"T_02249_row2_col0\" class=\"data row2 col0\" >SIS</td>\n",
       "      <td id=\"T_02249_row2_col1\" class=\"data row2 col1\" >3</td>\n",
       "      <td id=\"T_02249_row2_col2\" class=\"data row2 col2\" >4,500</td>\n",
       "      <td id=\"T_02249_row2_col3\" class=\"data row2 col3\" >40.50</td>\n",
       "      <td id=\"T_02249_row2_col4\" class=\"data row2 col4\" >182,250.00</td>\n",
       "      <td id=\"T_02249_row2_col5\" class=\"data row2 col5\" >150,000.00</td>\n",
       "      <td id=\"T_02249_row2_col6\" class=\"data row2 col6\" >121.50%</td>\n",
       "    </tr>\n",
       "  </tbody>\n",
       "</table>\n"
      ],
      "text/plain": [
       "<pandas.io.formats.style.Styler at 0x20a6a76e970>"
      ]
     },
     "execution_count": 28,
     "metadata": {},
     "output_type": "execute_result"
    }
   ],
   "source": [
    "df_merge[mask].nlargest(3, 'pct')[cols].style.format(format_dict)"
   ]
  },
  {
   "cell_type": "markdown",
   "metadata": {},
   "source": [
    "### Rank"
   ]
  },
  {
   "cell_type": "code",
   "execution_count": 29,
   "metadata": {
    "scrolled": false
   },
   "outputs": [
    {
     "data": {},
     "metadata": {},
     "output_type": "display_data"
    },
    {
     "data": {
      "application/vnd.holoviews_exec.v0+json": "",
      "text/html": [
       "<div id='1060'>\n",
       "\n",
       "\n",
       "\n",
       "\n",
       "\n",
       "  <div class=\"bk-root\" id=\"ffff8c5e-b7e2-44a6-8f64-66357531793c\" data-root-id=\"1060\"></div>\n",
       "</div>\n",
       "<script type=\"application/javascript\">(function(root) {\n",
       "  function embed_document(root) {\n",
       "    var docs_json = {\"484e7d7a-b5db-4f6a-9a04-03cb470ef32f\":{\"defs\":[{\"extends\":null,\"module\":null,\"name\":\"ReactiveHTML1\",\"overrides\":[],\"properties\":[]},{\"extends\":null,\"module\":null,\"name\":\"FlexBox1\",\"overrides\":[],\"properties\":[{\"default\":\"flex-start\",\"kind\":null,\"name\":\"align_content\"},{\"default\":\"flex-start\",\"kind\":null,\"name\":\"align_items\"},{\"default\":\"row\",\"kind\":null,\"name\":\"flex_direction\"},{\"default\":\"wrap\",\"kind\":null,\"name\":\"flex_wrap\"},{\"default\":\"flex-start\",\"kind\":null,\"name\":\"justify_content\"}]},{\"extends\":null,\"module\":null,\"name\":\"TemplateActions1\",\"overrides\":[],\"properties\":[{\"default\":0,\"kind\":null,\"name\":\"open_modal\"},{\"default\":0,\"kind\":null,\"name\":\"close_modal\"}]},{\"extends\":null,\"module\":null,\"name\":\"MaterialTemplateActions1\",\"overrides\":[],\"properties\":[{\"default\":0,\"kind\":null,\"name\":\"open_modal\"},{\"default\":0,\"kind\":null,\"name\":\"close_modal\"}]}],\"roots\":{\"references\":[{\"attributes\":{},\"id\":\"1051\",\"type\":\"NumberEditor\"},{\"attributes\":{\"editor\":{\"id\":\"1021\"},\"field\":\"unit_cost\",\"formatter\":{\"id\":\"1020\"},\"title\":\"unit_cost\",\"width\":0},\"id\":\"1022\",\"type\":\"TableColumn\"},{\"attributes\":{},\"id\":\"1004\",\"type\":\"NumberFormatter\"},{\"attributes\":{},\"id\":\"1011\",\"type\":\"StringEditor\"},{\"attributes\":{\"format\":\"0,0.0[00000]\"},\"id\":\"1030\",\"type\":\"NumberFormatter\"},{\"attributes\":{},\"id\":\"1031\",\"type\":\"NumberEditor\"},{\"attributes\":{},\"id\":\"1015\",\"type\":\"NumberFormatter\"},{\"attributes\":{\"indices\":[]},\"id\":\"1003\",\"type\":\"Selection\"},{\"attributes\":{\"editor\":{\"id\":\"1051\"},\"field\":\"amt_rnk\",\"formatter\":{\"id\":\"1050\"},\"title\":\"amt_rnk\",\"width\":0},\"id\":\"1052\",\"type\":\"TableColumn\"},{\"attributes\":{\"editor\":{\"id\":\"1006\"},\"field\":\"index\",\"formatter\":{\"id\":\"1004\"},\"title\":\"index\",\"width\":0},\"id\":\"1007\",\"type\":\"TableColumn\"},{\"attributes\":{\"format\":\"0,0.0[00000]\"},\"id\":\"1025\",\"type\":\"NumberFormatter\"},{\"attributes\":{\"editor\":{\"id\":\"1011\"},\"field\":\"name\",\"formatter\":{\"id\":\"1010\"},\"title\":\"name\",\"width\":0},\"id\":\"1012\",\"type\":\"TableColumn\"},{\"attributes\":{\"editor\":{\"id\":\"1031\"},\"field\":\"price\",\"formatter\":{\"id\":\"1030\"},\"title\":\"price\",\"width\":0},\"id\":\"1032\",\"type\":\"TableColumn\"},{\"attributes\":{\"format\":\"0,0.0[00000]\"},\"id\":\"1055\",\"type\":\"NumberFormatter\"},{\"attributes\":{},\"id\":\"1056\",\"type\":\"NumberEditor\"},{\"attributes\":{},\"id\":\"1010\",\"type\":\"StringFormatter\"},{\"attributes\":{\"format\":\"0,0.0[00000]\"},\"id\":\"1035\",\"type\":\"NumberFormatter\"},{\"attributes\":{},\"id\":\"1006\",\"type\":\"CellEditor\"},{\"attributes\":{},\"id\":\"1036\",\"type\":\"NumberEditor\"},{\"attributes\":{\"editor\":{\"id\":\"1056\"},\"field\":\"div_amt\",\"formatter\":{\"id\":\"1055\"},\"title\":\"div_amt\",\"width\":0},\"id\":\"1057\",\"type\":\"TableColumn\"},{\"attributes\":{\"editor\":{\"id\":\"1036\"},\"field\":\"amount\",\"formatter\":{\"id\":\"1035\"},\"title\":\"amount\",\"width\":0},\"id\":\"1037\",\"type\":\"TableColumn\"},{\"attributes\":{},\"id\":\"1021\",\"type\":\"NumberEditor\"},{\"attributes\":{\"format\":\"0,0.0[00000]\"},\"id\":\"1040\",\"type\":\"NumberFormatter\"},{\"attributes\":{},\"id\":\"1041\",\"type\":\"NumberEditor\"},{\"attributes\":{\"reload\":false},\"id\":\"1075\",\"type\":\"panel.models.location.Location\"},{\"attributes\":{\"data\":{\"amount\":{\"__ndarray__\":\"AAAAAPBgI0EAAAAAkDkYQQAAAABQ+RBBAAAAAEB3K0EAAAAAkAUwQQAAAADAehBBAAAAAICiKUEAAAAA0HEYQQAAAACg/AdB\",\"dtype\":\"float64\",\"order\":\"little\",\"shape\":[9]},\"amt_rnk\":{\"__ndarray__\":\"AAAAAAAAEEAAAAAAAAAYQAAAAAAAABxAAAAAAAAAAEAAAAAAAADwPwAAAAAAACBAAAAAAAAACEAAAAAAAAAUQAAAAAAAACJA\",\"dtype\":\"float64\",\"order\":\"little\",\"shape\":[9]},\"cost\":{\"__ndarray__\":\"AAAAALA1JUEAAAAAoOoaQQAAAACwTRFBAAAAACCULkEAAAAAgIQuQQAAAABQYxBBAAAAAKDqKkEAAAAAmCEZQQAAAADAzQdB\",\"dtype\":\"float64\",\"order\":\"little\",\"shape\":[9]},\"div_amt\":{\"__ndarray__\":\"AAAAAICi+UAAAAAAwCXqQAAAAAAAAd1AAAAAAIAR9EAAAAAAgDH3QAAAAAAAT9RAAAAAAACW7kAAAAAAgJDcQAAAAAAAnMhA\",\"dtype\":\"float64\",\"order\":\"little\",\"shape\":[9]},\"div_rnk\":{\"__ndarray__\":\"AAAAAAAA8D8AAAAAAAAAQAAAAAAAAAhAAAAAAAAAEEAAAAAAAAAUQAAAAAAAABhAAAAAAAAAHEAAAAAAAAAgQAAAAAAAACJA\",\"dtype\":\"float64\",\"order\":\"little\",\"shape\":[9]},\"index\":[0,22,7,5,13,17,6,1,15],\"mkt_pct\":{\"__ndarray__\":\"AAAAAACAMEAAAAAAAAArQGZmZmZmZiVAMzMzMzMzIkAAAAAAAAAiQM3MzMzMzB5AAAAAAAAAHkAzMzMzMzMdQJqZmZmZmRlA\",\"dtype\":\"float64\",\"order\":\"little\",\"shape\":[9]},\"name\":[\"STA\",\"NOBLE\",\"TMT\",\"MCS\",\"JASIF\",\"HREIT\",\"DIF\",\"RATCH\",\"TISCO\"],\"price\":{\"__ndarray__\":\"AAAAAADAP0AzMzMzMzMZQJqZmZmZmSRAAAAAAAAALkAAAAAAAAAlQAAAAAAAACJAAAAAAAAALEAAAAAAAEBGQAAAAAAAkFhA\",\"dtype\":\"float64\",\"order\":\"little\",\"shape\":[9]},\"shares\":{\"__ndarray__\":\"IE4AABj2AAB4aQAAYOoAAKCGAQAwdQAAYOoAACgjAADQBwAA\",\"dtype\":\"int32\",\"order\":\"little\",\"shape\":[9]},\"unit_cost\":{\"__ndarray__\":\"AAAAAABgQUAAAAAAAAAcQAAAAAAAACVAMzMzMzOzMEAAAAAAAAAkQGZmZmZm5iFAZmZmZmZmLUAAAAAAAOBGQAAAAAAAYFhA\",\"dtype\":\"float64\",\"order\":\"little\",\"shape\":[9]}},\"selected\":{\"id\":\"1003\"},\"selection_policy\":{\"id\":\"1062\"}},\"id\":\"1002\",\"type\":\"ColumnDataSource\"},{\"attributes\":{},\"id\":\"1026\",\"type\":\"NumberEditor\"},{\"attributes\":{\"editor\":{\"id\":\"1041\"},\"field\":\"mkt_pct\",\"formatter\":{\"id\":\"1040\"},\"title\":\"mkt_pct\",\"width\":0},\"id\":\"1042\",\"type\":\"TableColumn\"},{\"attributes\":{},\"id\":\"1016\",\"type\":\"IntEditor\"},{\"attributes\":{\"client_comm_id\":\"f33a699a3b2a434d8138ea56e8caaaec\",\"comm_id\":\"cfbc7ca7f9f3481183615cde98461091\",\"plot_id\":\"1060\"},\"id\":\"1068\",\"type\":\"panel.models.comm_manager.CommManager\"},{\"attributes\":{},\"id\":\"1062\",\"type\":\"UnionRenderers\"},{\"attributes\":{\"format\":\"0,0.0[00000]\"},\"id\":\"1045\",\"type\":\"NumberFormatter\"},{\"attributes\":{\"editor\":{\"id\":\"1016\"},\"field\":\"shares\",\"formatter\":{\"id\":\"1015\"},\"title\":\"shares\",\"width\":0},\"id\":\"1017\",\"type\":\"TableColumn\"},{\"attributes\":{},\"id\":\"1046\",\"type\":\"NumberEditor\"},{\"attributes\":{\"format\":\"0,0.0[00000]\"},\"id\":\"1020\",\"type\":\"NumberFormatter\"},{\"attributes\":{\"columns\":[{\"id\":\"1007\"},{\"id\":\"1012\"},{\"id\":\"1017\"},{\"id\":\"1022\"},{\"id\":\"1027\"},{\"id\":\"1032\"},{\"id\":\"1037\"},{\"id\":\"1042\"},{\"id\":\"1047\"},{\"id\":\"1052\"},{\"id\":\"1057\"}],\"configuration\":{\"columns\":[{\"field\":\"index\"},{\"field\":\"name\"},{\"field\":\"shares\"},{\"field\":\"unit_cost\"},{\"field\":\"cost\"},{\"field\":\"price\"},{\"field\":\"amount\"},{\"field\":\"mkt_pct\"},{\"field\":\"div_rnk\"},{\"field\":\"amt_rnk\"},{\"field\":\"div_amt\"}],\"dataTree\":false,\"selectable\":true},\"height\":300,\"indexes\":[\"index\"],\"margin\":[5,10,5,10],\"name\":\"\",\"page\":1,\"page_size\":20,\"selectable_rows\":null,\"source\":{\"id\":\"1002\"},\"width\":900},\"id\":\"1060\",\"type\":\"panel.models.tabulator.DataTabulator\"},{\"attributes\":{\"editor\":{\"id\":\"1046\"},\"field\":\"div_rnk\",\"formatter\":{\"id\":\"1045\"},\"title\":\"div_rnk\",\"width\":0},\"id\":\"1047\",\"type\":\"TableColumn\"},{\"attributes\":{\"editor\":{\"id\":\"1026\"},\"field\":\"cost\",\"formatter\":{\"id\":\"1025\"},\"title\":\"cost\",\"width\":0},\"id\":\"1027\",\"type\":\"TableColumn\"},{\"attributes\":{\"format\":\"0,0.0[00000]\"},\"id\":\"1050\",\"type\":\"NumberFormatter\"}],\"root_ids\":[\"1060\",\"1068\",\"1075\"]},\"title\":\"Bokeh Application\",\"version\":\"2.3.3\"}};\n",
       "    var render_items = [{\"docid\":\"484e7d7a-b5db-4f6a-9a04-03cb470ef32f\",\"root_ids\":[\"1060\"],\"roots\":{\"1060\":\"ffff8c5e-b7e2-44a6-8f64-66357531793c\"}}];\n",
       "    root.Bokeh.embed.embed_items_notebook(docs_json, render_items);\n",
       "  }\n",
       "  if (root.Bokeh !== undefined && root.Bokeh.Panel !== undefined && ( root['Tabulator'] !== undefined)) {\n",
       "    embed_document(root);\n",
       "  } else {\n",
       "    var attempts = 0;\n",
       "    var timer = setInterval(function(root) {\n",
       "      if (root.Bokeh !== undefined && root.Bokeh.Panel !== undefined && (root['Tabulator'] !== undefined)) {\n",
       "        clearInterval(timer);\n",
       "        embed_document(root);\n",
       "      } else if (document.readyState == \"complete\") {\n",
       "        attempts++;\n",
       "        if (attempts > 200) {\n",
       "          clearInterval(timer);\n",
       "          console.log(\"Bokeh: ERROR: Unable to run BokehJS code because BokehJS library is missing\");\n",
       "        }\n",
       "      }\n",
       "    }, 25, root)\n",
       "  }\n",
       "})(window);</script>"
      ],
      "text/plain": [
       "Tabulator(layout='fit_data', value=     name  shares  ..., width=900)"
      ]
     },
     "execution_count": 29,
     "metadata": {
      "application/vnd.holoviews_exec.v0+json": {
       "id": "1060"
      }
     },
     "output_type": "execute_result"
    }
   ],
   "source": [
    "df2 = df_buy_price[df_buy_price['period'] == '2'].copy()\n",
    "df2['div_rnk'] = df2.mkt_pct.rank(ascending=False)\n",
    "df2['amt_rnk'] = df2.amount.rank(ascending=False)\n",
    "df2_out = df2[colt].sort_values('div_rnk')\n",
    "df2_tab = pn.widgets.Tabulator(df2_out, layout='fit_data', width=900)\n",
    "df2_tab"
   ]
  },
  {
   "cell_type": "code",
   "execution_count": 30,
   "metadata": {},
   "outputs": [
    {
     "data": {
      "text/plain": [
       "490736.0"
      ]
     },
     "execution_count": 30,
     "metadata": {},
     "output_type": "execute_result"
    }
   ],
   "source": [
    "df2_out.div_amt.sum()"
   ]
  },
  {
   "cell_type": "code",
   "execution_count": 31,
   "metadata": {},
   "outputs": [
    {
     "data": {
      "text/plain": [
       "3    16\n",
       "2     9\n",
       "4     8\n",
       "1     1\n",
       "Name: period, dtype: int64"
      ]
     },
     "execution_count": 31,
     "metadata": {},
     "output_type": "execute_result"
    }
   ],
   "source": [
    "df_buy_price.period.value_counts()"
   ]
  },
  {
   "cell_type": "code",
   "execution_count": 32,
   "metadata": {},
   "outputs": [
    {
     "data": {
      "text/html": [
       "<style type=\"text/css\">\n",
       "</style>\n",
       "<table id=\"T_86315_\">\n",
       "  <thead>\n",
       "    <tr>\n",
       "      <th class=\"blank level0\" >&nbsp;</th>\n",
       "      <th class=\"col_heading level0 col0\" >period</th>\n",
       "    </tr>\n",
       "  </thead>\n",
       "  <tbody>\n",
       "    <tr>\n",
       "      <th id=\"T_86315_level0_row0\" class=\"row_heading level0 row0\" >3</th>\n",
       "      <td id=\"T_86315_row0_col0\" class=\"data row0 col0\" >47.1%</td>\n",
       "    </tr>\n",
       "    <tr>\n",
       "      <th id=\"T_86315_level0_row1\" class=\"row_heading level0 row1\" >2</th>\n",
       "      <td id=\"T_86315_row1_col0\" class=\"data row1 col0\" >26.5%</td>\n",
       "    </tr>\n",
       "    <tr>\n",
       "      <th id=\"T_86315_level0_row2\" class=\"row_heading level0 row2\" >4</th>\n",
       "      <td id=\"T_86315_row2_col0\" class=\"data row2 col0\" >23.5%</td>\n",
       "    </tr>\n",
       "    <tr>\n",
       "      <th id=\"T_86315_level0_row3\" class=\"row_heading level0 row3\" >1</th>\n",
       "      <td id=\"T_86315_row3_col0\" class=\"data row3 col0\" >2.9%</td>\n",
       "    </tr>\n",
       "  </tbody>\n",
       "</table>\n"
      ],
      "text/plain": [
       "<pandas.io.formats.style.Styler at 0x20a6a7b2d00>"
      ]
     },
     "execution_count": 32,
     "metadata": {},
     "output_type": "execute_result"
    }
   ],
   "source": [
    "df_buy_price.period.value_counts(normalize=True).to_frame().style.format('{:.1%}')"
   ]
  },
  {
   "cell_type": "code",
   "execution_count": 33,
   "metadata": {},
   "outputs": [
    {
     "name": "stderr",
     "output_type": "stream",
     "text": [
      "C:\\ProgramData\\Anaconda3\\lib\\site-packages\\seaborn\\_decorators.py:36: FutureWarning: Pass the following variables as keyword args: x, y. From version 0.12, the only valid positional argument will be `data`, and passing other arguments without an explicit keyword will result in an error or misinterpretation.\n",
      "  warnings.warn(\n"
     ]
    },
    {
     "data": {
      "image/png": "[encoded data removed]",
      "text/plain": [
       "<Figure size 720x360 with 1 Axes>"
      ]
     },
     "metadata": {
      "needs_background": "light"
     },
     "output_type": "display_data"
    }
   ],
   "source": [
    "Period_Count =\\\n",
    "df_buy_price.period.value_counts(sort=True).nlargest(3)\n",
    "plt.figure(figsize=(10,5))\n",
    "sns.barplot(Period_Count.index,\n",
    "Period_Count.values, alpha=0.8)\n",
    "plt.show()"
   ]
  },
  {
   "cell_type": "code",
   "execution_count": 34,
   "metadata": {},
   "outputs": [
    {
     "data": {},
     "metadata": {},
     "output_type": "display_data"
    },
    {
     "data": {
      "application/vnd.holoviews_exec.v0+json": "",
      "text/html": [
       "<div id='1140'>\n",
       "\n",
       "\n",
       "\n",
       "\n",
       "\n",
       "  <div class=\"bk-root\" id=\"abca4cf4-538a-4a6a-a654-bd9c0c67904a\" data-root-id=\"1140\"></div>\n",
       "</div>\n",
       "<script type=\"application/javascript\">(function(root) {\n",
       "  function embed_document(root) {\n",
       "    var docs_json = {\"f21d6c0e-dc15-4f09-ab04-b73c73c7f7c1\":{\"defs\":[{\"extends\":null,\"module\":null,\"name\":\"ReactiveHTML1\",\"overrides\":[],\"properties\":[]},{\"extends\":null,\"module\":null,\"name\":\"FlexBox1\",\"overrides\":[],\"properties\":[{\"default\":\"flex-start\",\"kind\":null,\"name\":\"align_content\"},{\"default\":\"flex-start\",\"kind\":null,\"name\":\"align_items\"},{\"default\":\"row\",\"kind\":null,\"name\":\"flex_direction\"},{\"default\":\"wrap\",\"kind\":null,\"name\":\"flex_wrap\"},{\"default\":\"flex-start\",\"kind\":null,\"name\":\"justify_content\"}]},{\"extends\":null,\"module\":null,\"name\":\"TemplateActions1\",\"overrides\":[],\"properties\":[{\"default\":0,\"kind\":null,\"name\":\"open_modal\"},{\"default\":0,\"kind\":null,\"name\":\"close_modal\"}]},{\"extends\":null,\"module\":null,\"name\":\"MaterialTemplateActions1\",\"overrides\":[],\"properties\":[{\"default\":0,\"kind\":null,\"name\":\"open_modal\"},{\"default\":0,\"kind\":null,\"name\":\"close_modal\"}]}],\"roots\":{\"references\":[{\"attributes\":{\"format\":\"0,0.0[00000]\"},\"id\":\"1115\",\"type\":\"NumberFormatter\"},{\"attributes\":{},\"id\":\"1091\",\"type\":\"StringEditor\"},{\"attributes\":{},\"id\":\"1086\",\"type\":\"CellEditor\"},{\"attributes\":{\"editor\":{\"id\":\"1116\"},\"field\":\"amount\",\"formatter\":{\"id\":\"1115\"},\"title\":\"amount\",\"width\":0},\"id\":\"1117\",\"type\":\"TableColumn\"},{\"attributes\":{\"format\":\"0,0.0[00000]\"},\"id\":\"1120\",\"type\":\"NumberFormatter\"},{\"attributes\":{\"editor\":{\"id\":\"1111\"},\"field\":\"price\",\"formatter\":{\"id\":\"1110\"},\"title\":\"price\",\"width\":0},\"id\":\"1112\",\"type\":\"TableColumn\"},{\"attributes\":{},\"id\":\"1084\",\"type\":\"NumberFormatter\"},{\"attributes\":{},\"id\":\"1090\",\"type\":\"StringFormatter\"},{\"attributes\":{},\"id\":\"1121\",\"type\":\"NumberEditor\"},{\"attributes\":{\"format\":\"0,0.0[00000]\"},\"id\":\"1110\",\"type\":\"NumberFormatter\"},{\"attributes\":{\"editor\":{\"id\":\"1106\"},\"field\":\"cost\",\"formatter\":{\"id\":\"1105\"},\"title\":\"cost\",\"width\":0},\"id\":\"1107\",\"type\":\"TableColumn\"},{\"attributes\":{},\"id\":\"1111\",\"type\":\"NumberEditor\"},{\"attributes\":{},\"id\":\"1142\",\"type\":\"UnionRenderers\"},{\"attributes\":{\"editor\":{\"id\":\"1121\"},\"field\":\"mkt_pct\",\"formatter\":{\"id\":\"1120\"},\"title\":\"mkt_pct\",\"width\":0},\"id\":\"1122\",\"type\":\"TableColumn\"},{\"attributes\":{},\"id\":\"1106\",\"type\":\"NumberEditor\"},{\"attributes\":{\"format\":\"0,0.0[00000]\"},\"id\":\"1125\",\"type\":\"NumberFormatter\"},{\"attributes\":{},\"id\":\"1126\",\"type\":\"NumberEditor\"},{\"attributes\":{\"client_comm_id\":\"4c9d2e0515b84b018e00474d680c3d3d\",\"comm_id\":\"48b0cb2d0a4e4ae690e09ae759de19fa\",\"plot_id\":\"1140\"},\"id\":\"1148\",\"type\":\"panel.models.comm_manager.CommManager\"},{\"attributes\":{\"data\":{\"amount\":{\"__ndarray__\":\"AAAAAICK/UAAAAAAwKkNQQAAAABgbBVBAAAAAMhDAkEAAAAAMC4QQQAAAADgvRZBAAAAANCDBUEAAAAAgEIQQQAAAADAfQxBAAAAAAALA0EAAAAAkFgHQQAAAABABRVBAAAAAAAqAkEAAAAAAHAHQQAAAACwTSFBAAAAAKAgEkEAAAAA4LAUQQAAAABgbBVBAAAAANC8CEEAAAAAwDwCQQAAAACA2BBBAAAAAAALA0EAAAAAAK0BQQAAAAAATP1AAAAAAMD+A0E=\",\"dtype\":\"float64\",\"order\":\"little\",\"shape\":[25]},\"amt_rnk\":{\"__ndarray__\":\"AAAAAAAAOEAAAAAAAAAmQAAAAAAAAAxAAAAAAAAANEAAAAAAAAAkQAAAAAAAAABAAAAAAAAAMEAAAAAAAAAiQAAAAAAAAChAAAAAAACAMkAAAAAAAAAuQAAAAAAAABRAAAAAAAAANkAAAAAAAAAsQAAAAAAAAPA/AAAAAAAAHEAAAAAAAAAYQAAAAAAAAAxAAAAAAAAAKkAAAAAAAAA1QAAAAAAAACBAAAAAAACAMkAAAAAAAAA3QAAAAAAAADlAAAAAAAAAMUA=\",\"dtype\":\"float64\",\"order\":\"little\",\"shape\":[25]},\"cost\":{\"__ndarray__\":\"AAAAAICE/kAAAAAA4J4HQQAAAAAQJhVBAAAAAKAgAkEAAAAAEO0RQQAAAAAA2hZBAAAAAFBRA0EAAAAAoF4QQQAAAADAqQ1BAAAAAIBPAkEAAAAAUD8GQQAAAADA/hNBAAAAAABoAEEAAAAAQBIHQQAAAAAAwx5BAAAAADCAE0EAAAAAgD0VQQAAAAAA+RVBAAAAACDkCUEAAAAAgE8CQQAAAABAzBFBAAAAAIBPAkEAAAAAAI4CQQAAAABAd/tAAAAAAIDGA0E=\",\"dtype\":\"float64\",\"order\":\"little\",\"shape\":[25]},\"div_amt\":{\"__ndarray__\":\"AAAAAAA1wEAAAAAAAMPOQAAAAAAAwdFAAAAAAADivUAAAAAAAMjJQAAAAAAA4s1AAAAAAADIuUAAAAAAAPC+QD0K16Pwb7dAAAAAAAB4rkAAAAAAAJSxQAAAAAAAILxAAAAAAACQpUAAAAAAADCrQAAAAAAA7MNAAAAAAABWs0AAAAAAAECvQAAAAAAApK9AAAAAAABankAAAAAAAGiQQAAAAAAAwJJAAAAAAAAA+H8AAAAAAAD4fwAAAAAAAPh/AAAAAAAA+H8=\",\"dtype\":\"float64\",\"order\":\"little\",\"shape\":[25]},\"div_rnk\":{\"__ndarray__\":\"AAAAAAAA8D8AAAAAAAAAQAAAAAAAAAhAAAAAAAAAEEAAAAAAAAAUQAAAAAAAABhAAAAAAAAAHEAAAAAAAAAgQAAAAAAAACJAAAAAAAAAJEAAAAAAAAAmQAAAAAAAAChAAAAAAAAAKkAAAAAAAAAtQAAAAAAAAC1AAAAAAAAAMEAAAAAAAIAxQAAAAAAAgDFAAAAAAAAAM0AAAAAAAAA0QAAAAAAAADVAAAAAAAAA+H8AAAAAAAD4fwAAAAAAAPh/AAAAAAAA+H8=\",\"dtype\":\"float64\",\"order\":\"little\",\"shape\":[25]},\"index\":[9,31,21,32,16,20,2,23,30,11,18,26,25,28,3,10,4,29,33,19,12,8,14,24,27],\"mkt_pct\":{\"__ndarray__\":\"mpmZmZmZG0AAAAAAAAAaQM3MzMzMzBRAZmZmZmZmFEAAAAAAAAAUQGZmZmZmZhBAmpmZmZmZDUAAAAAAAAAIQM3MzMzMzARAAAAAAAAABEAzMzMzMzMDQM3MzMzMzABAZmZmZmZm/j/NzMzMzMz8P83MzMzMzPw/MzMzMzMz+z8zMzMzMzPzPzMzMzMzM/M/AAAAAAAA8D9mZmZmZmbmP5qZmZmZmdk/AAAAAAAA+H8AAAAAAAD4fwAAAAAAAPh/AAAAAAAA+H8=\",\"dtype\":\"float64\",\"order\":\"little\",\"shape\":[25]},\"name\":[\"WHART\",\"RCL\",\"PTT\",\"RJH\",\"PTTGC\",\"TU\",\"SAT\",\"NER\",\"SCC\",\"TOP\",\"SIS\",\"KBANK\",\"EPG\",\"SYNEX\",\"IVL\",\"BCH\",\"KCE\",\"BGRIM\",\"IP\",\"CKP\",\"DOHOME\",\"GLOBAL\",\"TYCN\",\"TSTH\",\"IMH\"],\"price\":{\"__ndarray__\":\"MzMzMzMzKEAAAAAAAABLQAAAAAAAgENAAAAAAACgQEAAAAAAACBOQDMzMzMzszRAAAAAAACAN0CamZmZmZkdQAAAAAAAUHhAAAAAAAAASkAAAAAAAEBFQAAAAAAA8GFAzczMzMzMKEAAAAAAAABAQAAAAAAAoEdAzczMzMzMM0AAAAAAADBVQAAAAAAAgENAzczMzMxMM0DsUbgehesTQAAAAAAAADdAzczMzMzMNED2KFyPwvUMQJqZmZmZmfk/MzMzMzMzMkA=\",\"dtype\":\"float64\",\"order\":\"little\",\"shape\":[25]},\"shares\":{\"__ndarray__\":\"ECcAAJQRAAAoIwAAlBEAADARAABQRgAATB0AAKCMAABYAgAAuAsAAJQRAABgCQAA4C4AAHAXAADgLgAAmDoAAKAPAAAoIwAABCkAADB1AADgLgAATB0AAECcAAD4JAEAKCMAAA==\",\"dtype\":\"int32\",\"order\":\"little\",\"shape\":[25]},\"unit_cost\":{\"__ndarray__\":\"AAAAAAAAKUAAAAAAAIBFQAAAAAAAQENAAAAAAACAQEAAAAAAALBQQM3MzMzMzDRAmpmZmZkZNUDNzMzMzMwdQAAAAAAAUHlAAAAAAAAASUAAAAAAAEBEQAAAAAAAEGFAZmZmZmZmJkAAAAAAAIA/QAAAAAAAAEVAzczMzMxMNUAAAAAAAMBVQAAAAAAAAERAMzMzMzMzNEAAAAAAAAAUQM3MzMzMTDhAAAAAAAAANEBmZmZmZmYOQAAAAAAAAPg/AAAAAAAAMkA=\",\"dtype\":\"float64\",\"order\":\"little\",\"shape\":[25]}},\"selected\":{\"id\":\"1083\"},\"selection_policy\":{\"id\":\"1142\"}},\"id\":\"1082\",\"type\":\"ColumnDataSource\"},{\"attributes\":{\"editor\":{\"id\":\"1126\"},\"field\":\"div_rnk\",\"formatter\":{\"id\":\"1125\"},\"title\":\"div_rnk\",\"width\":0},\"id\":\"1127\",\"type\":\"TableColumn\"},{\"attributes\":{\"format\":\"0,0.0[00000]\"},\"id\":\"1105\",\"type\":\"NumberFormatter\"},{\"attributes\":{},\"id\":\"1095\",\"type\":\"NumberFormatter\"},{\"attributes\":{\"format\":\"0,0.0[00000]\"},\"id\":\"1130\",\"type\":\"NumberFormatter\"},{\"attributes\":{\"editor\":{\"id\":\"1101\"},\"field\":\"unit_cost\",\"formatter\":{\"id\":\"1100\"},\"title\":\"unit_cost\",\"width\":0},\"id\":\"1102\",\"type\":\"TableColumn\"},{\"attributes\":{\"indices\":[]},\"id\":\"1083\",\"type\":\"Selection\"},{\"attributes\":{\"editor\":{\"id\":\"1091\"},\"field\":\"name\",\"formatter\":{\"id\":\"1090\"},\"title\":\"name\",\"width\":0},\"id\":\"1092\",\"type\":\"TableColumn\"},{\"attributes\":{\"editor\":{\"id\":\"1096\"},\"field\":\"shares\",\"formatter\":{\"id\":\"1095\"},\"title\":\"shares\",\"width\":0},\"id\":\"1097\",\"type\":\"TableColumn\"},{\"attributes\":{},\"id\":\"1131\",\"type\":\"NumberEditor\"},{\"attributes\":{},\"id\":\"1101\",\"type\":\"NumberEditor\"},{\"attributes\":{\"editor\":{\"id\":\"1131\"},\"field\":\"amt_rnk\",\"formatter\":{\"id\":\"1130\"},\"title\":\"amt_rnk\",\"width\":0},\"id\":\"1132\",\"type\":\"TableColumn\"},{\"attributes\":{\"format\":\"0,0.0[00000]\"},\"id\":\"1135\",\"type\":\"NumberFormatter\"},{\"attributes\":{\"editor\":{\"id\":\"1086\"},\"field\":\"index\",\"formatter\":{\"id\":\"1084\"},\"title\":\"index\",\"width\":0},\"id\":\"1087\",\"type\":\"TableColumn\"},{\"attributes\":{\"format\":\"0,0.0[00000]\"},\"id\":\"1100\",\"type\":\"NumberFormatter\"},{\"attributes\":{},\"id\":\"1136\",\"type\":\"NumberEditor\"},{\"attributes\":{},\"id\":\"1116\",\"type\":\"NumberEditor\"},{\"attributes\":{},\"id\":\"1096\",\"type\":\"IntEditor\"},{\"attributes\":{\"editor\":{\"id\":\"1136\"},\"field\":\"div_amt\",\"formatter\":{\"id\":\"1135\"},\"title\":\"div_amt\",\"width\":0},\"id\":\"1137\",\"type\":\"TableColumn\"},{\"attributes\":{\"columns\":[{\"id\":\"1087\"},{\"id\":\"1092\"},{\"id\":\"1097\"},{\"id\":\"1102\"},{\"id\":\"1107\"},{\"id\":\"1112\"},{\"id\":\"1117\"},{\"id\":\"1122\"},{\"id\":\"1127\"},{\"id\":\"1132\"},{\"id\":\"1137\"}],\"configuration\":{\"columns\":[{\"field\":\"index\"},{\"field\":\"name\"},{\"field\":\"shares\"},{\"field\":\"unit_cost\"},{\"field\":\"cost\"},{\"field\":\"price\"},{\"field\":\"amount\"},{\"field\":\"mkt_pct\"},{\"field\":\"div_rnk\"},{\"field\":\"amt_rnk\"},{\"field\":\"div_amt\"}],\"dataTree\":false,\"selectable\":true},\"height\":780,\"indexes\":[\"index\"],\"margin\":[5,10,5,10],\"name\":\"\",\"page\":1,\"page_size\":20,\"selectable_rows\":null,\"source\":{\"id\":\"1082\"},\"width\":900},\"id\":\"1140\",\"type\":\"panel.models.tabulator.DataTabulator\"}],\"root_ids\":[\"1140\",\"1148\"]},\"title\":\"Bokeh Application\",\"version\":\"2.3.3\"}};\n",
       "    var render_items = [{\"docid\":\"f21d6c0e-dc15-4f09-ab04-b73c73c7f7c1\",\"root_ids\":[\"1140\"],\"roots\":{\"1140\":\"abca4cf4-538a-4a6a-a654-bd9c0c67904a\"}}];\n",
       "    root.Bokeh.embed.embed_items_notebook(docs_json, render_items);\n",
       "  }\n",
       "  if (root.Bokeh !== undefined && root.Bokeh.Panel !== undefined && ( root['Tabulator'] !== undefined)) {\n",
       "    embed_document(root);\n",
       "  } else {\n",
       "    var attempts = 0;\n",
       "    var timer = setInterval(function(root) {\n",
       "      if (root.Bokeh !== undefined && root.Bokeh.Panel !== undefined && (root['Tabulator'] !== undefined)) {\n",
       "        clearInterval(timer);\n",
       "        embed_document(root);\n",
       "      } else if (document.readyState == \"complete\") {\n",
       "        attempts++;\n",
       "        if (attempts > 200) {\n",
       "          clearInterval(timer);\n",
       "          console.log(\"Bokeh: ERROR: Unable to run BokehJS code because BokehJS library is missing\");\n",
       "        }\n",
       "      }\n",
       "    }, 25, root)\n",
       "  }\n",
       "})(window);</script>"
      ],
      "text/plain": [
       "Tabulator(layout='fit_data', value=      name  shares  ..., width=900)"
      ]
     },
     "execution_count": 34,
     "metadata": {
      "application/vnd.holoviews_exec.v0+json": {
       "id": "1140"
      }
     },
     "output_type": "execute_result"
    }
   ],
   "source": [
    "df9 = df_buy_price[df_buy_price['period'] != '2'].copy()\n",
    "df9['div_rnk'] = df9.mkt_pct.rank(ascending=False)\n",
    "df9['amt_rnk'] = df9.amount.rank(ascending=False)\n",
    "df9_out = df9[colt].sort_values('div_rnk')\n",
    "df9_tab = pn.widgets.Tabulator(df9_out, layout='fit_data', width=900)\n",
    "df9_tab"
   ]
  },
  {
   "cell_type": "code",
   "execution_count": 35,
   "metadata": {},
   "outputs": [
    {
     "data": {
      "text/html": [
       "<style type=\"text/css\">\n",
       "</style>\n",
       "<table id=\"T_d6dc0_\">\n",
       "  <thead>\n",
       "    <tr>\n",
       "      <th class=\"blank level0\" >&nbsp;</th>\n",
       "      <th class=\"col_heading level0 col0\" >name</th>\n",
       "      <th class=\"col_heading level0 col1\" >shares</th>\n",
       "      <th class=\"col_heading level0 col2\" >unit_cost</th>\n",
       "      <th class=\"col_heading level0 col3\" >cost</th>\n",
       "      <th class=\"col_heading level0 col4\" >dividend</th>\n",
       "      <th class=\"col_heading level0 col5\" >div_amt</th>\n",
       "      <th class=\"col_heading level0 col6\" >cost_pct</th>\n",
       "      <th class=\"col_heading level0 col7\" >price</th>\n",
       "      <th class=\"col_heading level0 col8\" >amount</th>\n",
       "      <th class=\"col_heading level0 col9\" >mkt_pct</th>\n",
       "      <th class=\"col_heading level0 col10\" >profit</th>\n",
       "      <th class=\"col_heading level0 col11\" >pft_pct</th>\n",
       "      <th class=\"col_heading level0 col12\" >period</th>\n",
       "    </tr>\n",
       "  </thead>\n",
       "  <tbody>\n",
       "    <tr>\n",
       "      <th id=\"T_d6dc0_level0_row0\" class=\"row_heading level0 row0\" >9</th>\n",
       "      <td id=\"T_d6dc0_row0_col0\" class=\"data row0 col0\" >WHART</td>\n",
       "      <td id=\"T_d6dc0_row0_col1\" class=\"data row0 col1\" >10,000</td>\n",
       "      <td id=\"T_d6dc0_row0_col2\" class=\"data row0 col2\" >12.50</td>\n",
       "      <td id=\"T_d6dc0_row0_col3\" class=\"data row0 col3\" >125,000.00</td>\n",
       "      <td id=\"T_d6dc0_row0_col4\" class=\"data row0 col4\" >0.83</td>\n",
       "      <td id=\"T_d6dc0_row0_col5\" class=\"data row0 col5\" >8,298.00</td>\n",
       "      <td id=\"T_d6dc0_row0_col6\" class=\"data row0 col6\" >6.60%</td>\n",
       "      <td id=\"T_d6dc0_row0_col7\" class=\"data row0 col7\" >12.10</td>\n",
       "      <td id=\"T_d6dc0_row0_col8\" class=\"data row0 col8\" >121,000.00</td>\n",
       "      <td id=\"T_d6dc0_row0_col9\" class=\"data row0 col9\" >6.90%</td>\n",
       "      <td id=\"T_d6dc0_row0_col10\" class=\"data row0 col10\" >-4,000.00</td>\n",
       "      <td id=\"T_d6dc0_row0_col11\" class=\"data row0 col11\" >-3.20%</td>\n",
       "      <td id=\"T_d6dc0_row0_col12\" class=\"data row0 col12\" >4</td>\n",
       "    </tr>\n",
       "    <tr>\n",
       "      <th id=\"T_d6dc0_level0_row1\" class=\"row_heading level0 row1\" >11</th>\n",
       "      <td id=\"T_d6dc0_row1_col0\" class=\"data row1 col0\" >TOP</td>\n",
       "      <td id=\"T_d6dc0_row1_col1\" class=\"data row1 col1\" >3,000</td>\n",
       "      <td id=\"T_d6dc0_row1_col2\" class=\"data row1 col2\" >50.00</td>\n",
       "      <td id=\"T_d6dc0_row1_col3\" class=\"data row1 col3\" >150,000.00</td>\n",
       "      <td id=\"T_d6dc0_row1_col4\" class=\"data row1 col4\" >1.30</td>\n",
       "      <td id=\"T_d6dc0_row1_col5\" class=\"data row1 col5\" >3,900.00</td>\n",
       "      <td id=\"T_d6dc0_row1_col6\" class=\"data row1 col6\" >2.60%</td>\n",
       "      <td id=\"T_d6dc0_row1_col7\" class=\"data row1 col7\" >52.00</td>\n",
       "      <td id=\"T_d6dc0_row1_col8\" class=\"data row1 col8\" >156,000.00</td>\n",
       "      <td id=\"T_d6dc0_row1_col9\" class=\"data row1 col9\" >2.50%</td>\n",
       "      <td id=\"T_d6dc0_row1_col10\" class=\"data row1 col10\" >6,000.00</td>\n",
       "      <td id=\"T_d6dc0_row1_col11\" class=\"data row1 col11\" >4.00%</td>\n",
       "      <td id=\"T_d6dc0_row1_col12\" class=\"data row1 col12\" >4</td>\n",
       "    </tr>\n",
       "    <tr>\n",
       "      <th id=\"T_d6dc0_level0_row2\" class=\"row_heading level0 row2\" >20</th>\n",
       "      <td id=\"T_d6dc0_row2_col0\" class=\"data row2 col0\" >TU</td>\n",
       "      <td id=\"T_d6dc0_row2_col1\" class=\"data row2 col1\" >18,000</td>\n",
       "      <td id=\"T_d6dc0_row2_col2\" class=\"data row2 col2\" >20.80</td>\n",
       "      <td id=\"T_d6dc0_row2_col3\" class=\"data row2 col3\" >374,400.00</td>\n",
       "      <td id=\"T_d6dc0_row2_col4\" class=\"data row2 col4\" >0.85</td>\n",
       "      <td id=\"T_d6dc0_row2_col5\" class=\"data row2 col5\" >15,300.00</td>\n",
       "      <td id=\"T_d6dc0_row2_col6\" class=\"data row2 col6\" >4.10%</td>\n",
       "      <td id=\"T_d6dc0_row2_col7\" class=\"data row2 col7\" >20.70</td>\n",
       "      <td id=\"T_d6dc0_row2_col8\" class=\"data row2 col8\" >372,600.00</td>\n",
       "      <td id=\"T_d6dc0_row2_col9\" class=\"data row2 col9\" >4.10%</td>\n",
       "      <td id=\"T_d6dc0_row2_col10\" class=\"data row2 col10\" >-1,800.00</td>\n",
       "      <td id=\"T_d6dc0_row2_col11\" class=\"data row2 col11\" >-0.50%</td>\n",
       "      <td id=\"T_d6dc0_row2_col12\" class=\"data row2 col12\" >4</td>\n",
       "    </tr>\n",
       "    <tr>\n",
       "      <th id=\"T_d6dc0_level0_row3\" class=\"row_heading level0 row3\" >23</th>\n",
       "      <td id=\"T_d6dc0_row3_col0\" class=\"data row3 col0\" >NER</td>\n",
       "      <td id=\"T_d6dc0_row3_col1\" class=\"data row3 col1\" >36,000</td>\n",
       "      <td id=\"T_d6dc0_row3_col2\" class=\"data row3 col2\" >7.45</td>\n",
       "      <td id=\"T_d6dc0_row3_col3\" class=\"data row3 col3\" >268,200.00</td>\n",
       "      <td id=\"T_d6dc0_row3_col4\" class=\"data row3 col4\" >0.22</td>\n",
       "      <td id=\"T_d6dc0_row3_col5\" class=\"data row3 col5\" >7,920.00</td>\n",
       "      <td id=\"T_d6dc0_row3_col6\" class=\"data row3 col6\" >3.00%</td>\n",
       "      <td id=\"T_d6dc0_row3_col7\" class=\"data row3 col7\" >7.40</td>\n",
       "      <td id=\"T_d6dc0_row3_col8\" class=\"data row3 col8\" >266,400.00</td>\n",
       "      <td id=\"T_d6dc0_row3_col9\" class=\"data row3 col9\" >3.00%</td>\n",
       "      <td id=\"T_d6dc0_row3_col10\" class=\"data row3 col10\" >-1,800.00</td>\n",
       "      <td id=\"T_d6dc0_row3_col11\" class=\"data row3 col11\" >-0.70%</td>\n",
       "      <td id=\"T_d6dc0_row3_col12\" class=\"data row3 col12\" >4</td>\n",
       "    </tr>\n",
       "    <tr>\n",
       "      <th id=\"T_d6dc0_level0_row4\" class=\"row_heading level0 row4\" >26</th>\n",
       "      <td id=\"T_d6dc0_row4_col0\" class=\"data row4 col0\" >KBANK</td>\n",
       "      <td id=\"T_d6dc0_row4_col1\" class=\"data row4 col1\" >2,400</td>\n",
       "      <td id=\"T_d6dc0_row4_col2\" class=\"data row4 col2\" >136.50</td>\n",
       "      <td id=\"T_d6dc0_row4_col3\" class=\"data row4 col3\" >327,600.00</td>\n",
       "      <td id=\"T_d6dc0_row4_col4\" class=\"data row4 col4\" >3.00</td>\n",
       "      <td id=\"T_d6dc0_row4_col5\" class=\"data row4 col5\" >7,200.00</td>\n",
       "      <td id=\"T_d6dc0_row4_col6\" class=\"data row4 col6\" >2.20%</td>\n",
       "      <td id=\"T_d6dc0_row4_col7\" class=\"data row4 col7\" >143.50</td>\n",
       "      <td id=\"T_d6dc0_row4_col8\" class=\"data row4 col8\" >344,400.00</td>\n",
       "      <td id=\"T_d6dc0_row4_col9\" class=\"data row4 col9\" >2.10%</td>\n",
       "      <td id=\"T_d6dc0_row4_col10\" class=\"data row4 col10\" >16,800.00</td>\n",
       "      <td id=\"T_d6dc0_row4_col11\" class=\"data row4 col11\" >5.10%</td>\n",
       "      <td id=\"T_d6dc0_row4_col12\" class=\"data row4 col12\" >4</td>\n",
       "    </tr>\n",
       "  </tbody>\n",
       "</table>\n"
      ],
      "text/plain": [
       "<pandas.io.formats.style.Styler at 0x20a6a7b2d60>"
      ]
     },
     "execution_count": 35,
     "metadata": {},
     "output_type": "execute_result"
    }
   ],
   "source": [
    "df_buy_price.loc[short_term].head().style.format(format_dict)"
   ]
  },
  {
   "cell_type": "code",
   "execution_count": 36,
   "metadata": {},
   "outputs": [
    {
     "data": {
      "text/plain": [
       "\"'WHART', 'TOP', 'TU', 'NER', 'KBANK', 'BGRIM', 'SCC', 'RJH'\""
      ]
     },
     "execution_count": 36,
     "metadata": {},
     "output_type": "execute_result"
    }
   ],
   "source": [
    "data = df_buy_price.loc[short_term]\n",
    "names = data['name']\n",
    "in_p = \", \".join(map(lambda name: \"'%s'\" % name, names))\n",
    "in_p"
   ]
  },
  {
   "cell_type": "code",
   "execution_count": 37,
   "metadata": {
    "scrolled": true
   },
   "outputs": [
    {
     "name": "stdout",
     "output_type": "stream",
     "text": [
      "\n",
      "SELECT name, min_price AS min, price, max_price AS max\n",
      "FROM stocks\n",
      "WHERE name IN ('WHART', 'TOP', 'TU', 'NER', 'KBANK', 'BGRIM', 'SCC', 'RJH')\n"
     ]
    },
    {
     "data": {
      "text/html": [
       "<div>\n",
       "<style scoped>\n",
       "    .dataframe tbody tr th:only-of-type {\n",
       "        vertical-align: middle;\n",
       "    }\n",
       "\n",
       "    .dataframe tbody tr th {\n",
       "        vertical-align: top;\n",
       "    }\n",
       "\n",
       "    .dataframe thead th {\n",
       "        text-align: right;\n",
       "    }\n",
       "</style>\n",
       "<table border=\"1\" class=\"dataframe\">\n",
       "  <thead>\n",
       "    <tr style=\"text-align: right;\">\n",
       "      <th></th>\n",
       "      <th>min</th>\n",
       "      <th>price</th>\n",
       "      <th>max</th>\n",
       "    </tr>\n",
       "    <tr>\n",
       "      <th>name</th>\n",
       "      <th></th>\n",
       "      <th></th>\n",
       "      <th></th>\n",
       "    </tr>\n",
       "  </thead>\n",
       "  <tbody>\n",
       "    <tr>\n",
       "      <th>BGRIM</th>\n",
       "      <td>38.25</td>\n",
       "      <td>39.0</td>\n",
       "      <td>56.00</td>\n",
       "    </tr>\n",
       "    <tr>\n",
       "      <th>KBANK</th>\n",
       "      <td>101.00</td>\n",
       "      <td>143.0</td>\n",
       "      <td>153.00</td>\n",
       "    </tr>\n",
       "    <tr>\n",
       "      <th>NER</th>\n",
       "      <td>4.30</td>\n",
       "      <td>7.3</td>\n",
       "      <td>8.65</td>\n",
       "    </tr>\n",
       "    <tr>\n",
       "      <th>RJH</th>\n",
       "      <td>23.90</td>\n",
       "      <td>33.5</td>\n",
       "      <td>39.00</td>\n",
       "    </tr>\n",
       "    <tr>\n",
       "      <th>SCC</th>\n",
       "      <td>364.00</td>\n",
       "      <td>382.0</td>\n",
       "      <td>474.00</td>\n",
       "    </tr>\n",
       "    <tr>\n",
       "      <th>TOP</th>\n",
       "      <td>42.50</td>\n",
       "      <td>52.0</td>\n",
       "      <td>66.00</td>\n",
       "    </tr>\n",
       "    <tr>\n",
       "      <th>TU</th>\n",
       "      <td>13.40</td>\n",
       "      <td>20.7</td>\n",
       "      <td>23.00</td>\n",
       "    </tr>\n",
       "    <tr>\n",
       "      <th>WHART</th>\n",
       "      <td>10.68</td>\n",
       "      <td>12.2</td>\n",
       "      <td>14.08</td>\n",
       "    </tr>\n",
       "  </tbody>\n",
       "</table>\n",
       "</div>"
      ],
      "text/plain": [
       "          min  price     max\n",
       "name                        \n",
       "BGRIM   38.25   39.0   56.00\n",
       "KBANK  101.00  143.0  153.00\n",
       "NER      4.30    7.3    8.65\n",
       "RJH     23.90   33.5   39.00\n",
       "SCC    364.00  382.0  474.00\n",
       "TOP     42.50   52.0   66.00\n",
       "TU      13.40   20.7   23.00\n",
       "WHART   10.68   12.2   14.08"
      ]
     },
     "execution_count": 37,
     "metadata": {},
     "output_type": "execute_result"
    }
   ],
   "source": [
    "sql = '''\n",
    "SELECT name, min_price AS min, price, max_price AS max\n",
    "FROM stocks\n",
    "WHERE name IN (%s)'''\n",
    "sql = sql % in_p\n",
    "print(sql)\n",
    "\n",
    "stocks = pd.read_sql(sql, conmy)\n",
    "stocks.set_index('name',inplace=True)\n",
    "stocks"
   ]
  },
  {
   "cell_type": "code",
   "execution_count": 38,
   "metadata": {},
   "outputs": [
    {
     "data": {
      "text/html": [
       "<div>\n",
       "<style scoped>\n",
       "    .dataframe tbody tr th:only-of-type {\n",
       "        vertical-align: middle;\n",
       "    }\n",
       "\n",
       "    .dataframe tbody tr th {\n",
       "        vertical-align: top;\n",
       "    }\n",
       "\n",
       "    .dataframe thead th {\n",
       "        text-align: right;\n",
       "    }\n",
       "</style>\n",
       "<table border=\"1\" class=\"dataframe\">\n",
       "  <thead>\n",
       "    <tr style=\"text-align: right;\">\n",
       "      <th></th>\n",
       "      <th>min</th>\n",
       "      <th>price</th>\n",
       "      <th>max</th>\n",
       "    </tr>\n",
       "    <tr>\n",
       "      <th>name</th>\n",
       "      <th></th>\n",
       "      <th></th>\n",
       "      <th></th>\n",
       "    </tr>\n",
       "  </thead>\n",
       "  <tbody>\n",
       "    <tr>\n",
       "      <th>BGRIM</th>\n",
       "      <td>38.25</td>\n",
       "      <td>39.0</td>\n",
       "      <td>56.00</td>\n",
       "    </tr>\n",
       "    <tr>\n",
       "      <th>KBANK</th>\n",
       "      <td>101.00</td>\n",
       "      <td>143.0</td>\n",
       "      <td>153.00</td>\n",
       "    </tr>\n",
       "    <tr>\n",
       "      <th>NER</th>\n",
       "      <td>4.30</td>\n",
       "      <td>7.3</td>\n",
       "      <td>8.65</td>\n",
       "    </tr>\n",
       "    <tr>\n",
       "      <th>RJH</th>\n",
       "      <td>23.90</td>\n",
       "      <td>33.5</td>\n",
       "      <td>39.00</td>\n",
       "    </tr>\n",
       "    <tr>\n",
       "      <th>TOP</th>\n",
       "      <td>42.50</td>\n",
       "      <td>52.0</td>\n",
       "      <td>66.00</td>\n",
       "    </tr>\n",
       "    <tr>\n",
       "      <th>TU</th>\n",
       "      <td>13.40</td>\n",
       "      <td>20.7</td>\n",
       "      <td>23.00</td>\n",
       "    </tr>\n",
       "    <tr>\n",
       "      <th>WHART</th>\n",
       "      <td>10.68</td>\n",
       "      <td>12.2</td>\n",
       "      <td>14.08</td>\n",
       "    </tr>\n",
       "  </tbody>\n",
       "</table>\n",
       "</div>"
      ],
      "text/plain": [
       "          min  price     max\n",
       "name                        \n",
       "BGRIM   38.25   39.0   56.00\n",
       "KBANK  101.00  143.0  153.00\n",
       "NER      4.30    7.3    8.65\n",
       "RJH     23.90   33.5   39.00\n",
       "TOP     42.50   52.0   66.00\n",
       "TU      13.40   20.7   23.00\n",
       "WHART   10.68   12.2   14.08"
      ]
     },
     "execution_count": 38,
     "metadata": {},
     "output_type": "execute_result"
    }
   ],
   "source": [
    "stocks.drop('SCC',inplace=True)\n",
    "stocks"
   ]
  },
  {
   "cell_type": "code",
   "execution_count": 39,
   "metadata": {},
   "outputs": [
    {
     "data": {
      "text/plain": [
       "<AxesSubplot:xlabel='name'>"
      ]
     },
     "execution_count": 39,
     "metadata": {},
     "output_type": "execute_result"
    },
    {
     "data": {
      "image/png": "[encoded data removed]",
      "text/plain": [
       "<Figure size 432x288 with 1 Axes>"
      ]
     },
     "metadata": {
      "needs_background": "light"
     },
     "output_type": "display_data"
    }
   ],
   "source": [
    "stocks.plot.bar()"
   ]
  },
  {
   "cell_type": "code",
   "execution_count": 40,
   "metadata": {},
   "outputs": [],
   "source": [
    "#stocks.reset_index('name',inplace=True)\n",
    "#sns.barplot(x='name', y='price', data=stocks)"
   ]
  },
  {
   "cell_type": "code",
   "execution_count": null,
   "metadata": {},
   "outputs": [],
   "source": []
  }
 ],
 "metadata": {
  "anaconda-cloud": {},
  "kernelspec": {
   "display_name": "Python 3 (ipykernel)",
   "language": "python",
   "name": "python3"
  },
  "language_info": {
   "codemirror_mode": {
    "name": "ipython",
    "version": 3
   },
   "file_extension": ".py",
   "mimetype": "text/x-python",
   "name": "python",
   "nbconvert_exporter": "python",
   "pygments_lexer": "ipython3",
   "version": "3.8.11"
  }
 },
 "nbformat": 4,
 "nbformat_minor": 1
}
