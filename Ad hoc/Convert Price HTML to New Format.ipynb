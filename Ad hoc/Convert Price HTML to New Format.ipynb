{
 "cells": [
  {
   "cell_type": "code",
   "execution_count": 1,
   "id": "f294cc8c",
   "metadata": {},
   "outputs": [],
   "source": [
    "# Importing required python libraries\n",
    "import os, glob\n",
    "import pandas as pd"
   ]
  },
  {
   "cell_type": "code",
   "execution_count": 2,
   "id": "54439c3d",
   "metadata": {},
   "outputs": [],
   "source": [
    "# Changing the current working directory\n",
    "os.chdir(r\"C:\\www.santiwebsite.com\\V1-Rename-Files\\any\\V1\")"
   ]
  },
  {
   "cell_type": "code",
   "execution_count": 3,
   "id": "b93f34b1",
   "metadata": {},
   "outputs": [
    {
     "data": {
      "text/html": [
       "<div>\n",
       "<style scoped>\n",
       "    .dataframe tbody tr th:only-of-type {\n",
       "        vertical-align: middle;\n",
       "    }\n",
       "\n",
       "    .dataframe tbody tr th {\n",
       "        vertical-align: top;\n",
       "    }\n",
       "\n",
       "    .dataframe thead th {\n",
       "        text-align: right;\n",
       "    }\n",
       "</style>\n",
       "<table border=\"1\" class=\"dataframe\">\n",
       "  <thead>\n",
       "    <tr style=\"text-align: right;\">\n",
       "      <th></th>\n",
       "      <th>name</th>\n",
       "    </tr>\n",
       "  </thead>\n",
       "  <tbody>\n",
       "    <tr>\n",
       "      <th>0</th>\n",
       "      <td>ADVANC.html</td>\n",
       "    </tr>\n",
       "    <tr>\n",
       "      <th>1</th>\n",
       "      <td>AEONTS.html</td>\n",
       "    </tr>\n",
       "    <tr>\n",
       "      <th>2</th>\n",
       "      <td>AIMIRT.html</td>\n",
       "    </tr>\n",
       "    <tr>\n",
       "      <th>3</th>\n",
       "      <td>AIT.html</td>\n",
       "    </tr>\n",
       "    <tr>\n",
       "      <th>4</th>\n",
       "      <td>AMANAH.html</td>\n",
       "    </tr>\n",
       "  </tbody>\n",
       "</table>\n",
       "</div>"
      ],
      "text/plain": [
       "          name\n",
       "0  ADVANC.html\n",
       "1  AEONTS.html\n",
       "2  AIMIRT.html\n",
       "3     AIT.html\n",
       "4  AMANAH.html"
      ]
     },
     "execution_count": 3,
     "metadata": {},
     "output_type": "execute_result"
    }
   ],
   "source": [
    "# Getting the FileNames of all .csv files in the current dir.\n",
    "filename1 = [i for i in glob.glob(f\"*.html\")] \n",
    "df1 = pd.DataFrame (filename1)\n",
    "df1.rename(columns={0: 'name'}, inplace=True)\n",
    "df1.head()"
   ]
  },
  {
   "cell_type": "code",
   "execution_count": 4,
   "id": "e31c88c5",
   "metadata": {},
   "outputs": [],
   "source": [
    "# Changing the current working directory\n",
    "os.chdir(r\"C:\\www.santiwebsite.com\\V1-Rename-Files\\prices\")"
   ]
  },
  {
   "cell_type": "code",
   "execution_count": 5,
   "id": "7cad9e4d",
   "metadata": {},
   "outputs": [
    {
     "data": {
      "text/html": [
       "<div>\n",
       "<style scoped>\n",
       "    .dataframe tbody tr th:only-of-type {\n",
       "        vertical-align: middle;\n",
       "    }\n",
       "\n",
       "    .dataframe tbody tr th {\n",
       "        vertical-align: top;\n",
       "    }\n",
       "\n",
       "    .dataframe thead th {\n",
       "        text-align: right;\n",
       "    }\n",
       "</style>\n",
       "<table border=\"1\" class=\"dataframe\">\n",
       "  <thead>\n",
       "    <tr style=\"text-align: right;\">\n",
       "      <th></th>\n",
       "      <th>name</th>\n",
       "    </tr>\n",
       "  </thead>\n",
       "  <tbody>\n",
       "    <tr>\n",
       "      <th>0</th>\n",
       "      <td>ADVANC.html</td>\n",
       "    </tr>\n",
       "    <tr>\n",
       "      <th>1</th>\n",
       "      <td>AEONTS.html</td>\n",
       "    </tr>\n",
       "    <tr>\n",
       "      <th>2</th>\n",
       "      <td>AIMIRT.html</td>\n",
       "    </tr>\n",
       "    <tr>\n",
       "      <th>3</th>\n",
       "      <td>AIT.html</td>\n",
       "    </tr>\n",
       "    <tr>\n",
       "      <th>4</th>\n",
       "      <td>AMANAH.html</td>\n",
       "    </tr>\n",
       "  </tbody>\n",
       "</table>\n",
       "</div>"
      ],
      "text/plain": [
       "          name\n",
       "0  ADVANC.html\n",
       "1  AEONTS.html\n",
       "2  AIMIRT.html\n",
       "3     AIT.html\n",
       "4  AMANAH.html"
      ]
     },
     "execution_count": 5,
     "metadata": {},
     "output_type": "execute_result"
    }
   ],
   "source": [
    "# Getting the FileNames of all .csv files in the current dir.\n",
    "filename2 = [i for i in glob.glob(f\"*.html\")] \n",
    "df2 = pd.DataFrame (filename2)\n",
    "df2.rename(columns={0: 'name'}, inplace=True)\n",
    "df2.head()"
   ]
  },
  {
   "cell_type": "code",
   "execution_count": 6,
   "id": "264368bb",
   "metadata": {},
   "outputs": [],
   "source": [
    "# Changing the current working directory\n",
    "os.chdir(r\"C:\\A8\\Ad Hoc\")"
   ]
  },
  {
   "cell_type": "code",
   "execution_count": 7,
   "id": "ebd8fde5",
   "metadata": {},
   "outputs": [
    {
     "name": "stdout",
     "output_type": "stream",
     "text": [
      " Volume in drive C is Windows\n",
      " Volume Serial Number is C496-DC55\n",
      "\n",
      " Directory of C:\\A8\\Ad Hoc\n",
      "\n",
      "04/23/2022  04:06 PM    <DIR>          .\n",
      "04/23/2022  04:06 PM    <DIR>          ..\n",
      "04/21/2022  02:56 PM    <DIR>          .ipynb_checkpoints\n",
      "04/22/2022  10:40 PM           105,018 020-Amount by Period.ipynb\n",
      "04/22/2022  10:45 PM           156,982 025-Amount by Period - Ext.ipynb\n",
      "04/22/2022  10:47 PM           221,591 030-Profit & Balance by Market.ipynb\n",
      "02/21/2022  04:39 PM            16,404 040-Recalculate cost when unit cost change-Portfolio.ipynb\n",
      "04/21/2022  02:00 PM            29,550 070-Name-Change.ipynb\n",
      "01/15/2022  11:17 AM            22,260 080-Stock-Addition.ipynb\n",
      "02/18/2022  09:14 PM            47,675 910-Dividend Q1.ipynb\n",
      "02/15/2022  01:24 PM            47,677 920-Dividend Q2.ipynb\n",
      "02/18/2022  09:15 PM            47,676 930-Dividend Q3.ipynb\n",
      "04/23/2022  04:06 PM            48,790 940-Dividend Q4.ipynb\n",
      "04/21/2022  10:18 PM            11,746 Convert Price HTML to New Format.ipynb\n",
      "03/18/2022  12:18 PM            18,700 Stock KCE.ipynb\n",
      "02/23/2022  10:28 AM            23,276 Stock PTTGC.ipynb\n",
      "03/15/2022  11:43 AM            32,710 Stock STA.ipynb\n",
      "              14 File(s)        830,055 bytes\n",
      "               3 Dir(s)  262,917,853,184 bytes free\n"
     ]
    }
   ],
   "source": [
    "ls"
   ]
  },
  {
   "cell_type": "code",
   "execution_count": 8,
   "id": "4e134c27",
   "metadata": {},
   "outputs": [],
   "source": [
    "df_merge = pd.merge(df1, df2, on='name', how='outer', indicator=True)"
   ]
  },
  {
   "cell_type": "code",
   "execution_count": 9,
   "id": "eea8c659",
   "metadata": {},
   "outputs": [
    {
     "data": {
      "text/html": [
       "<div>\n",
       "<style scoped>\n",
       "    .dataframe tbody tr th:only-of-type {\n",
       "        vertical-align: middle;\n",
       "    }\n",
       "\n",
       "    .dataframe tbody tr th {\n",
       "        vertical-align: top;\n",
       "    }\n",
       "\n",
       "    .dataframe thead th {\n",
       "        text-align: right;\n",
       "    }\n",
       "</style>\n",
       "<table border=\"1\" class=\"dataframe\">\n",
       "  <thead>\n",
       "    <tr style=\"text-align: right;\">\n",
       "      <th></th>\n",
       "      <th>name</th>\n",
       "      <th>_merge</th>\n",
       "    </tr>\n",
       "  </thead>\n",
       "  <tbody>\n",
       "    <tr>\n",
       "      <th>51</th>\n",
       "      <td>BCP.html</td>\n",
       "      <td>right_only</td>\n",
       "    </tr>\n",
       "    <tr>\n",
       "      <th>52</th>\n",
       "      <td>BCPG.html</td>\n",
       "      <td>right_only</td>\n",
       "    </tr>\n",
       "    <tr>\n",
       "      <th>53</th>\n",
       "      <td>BCT.html</td>\n",
       "      <td>right_only</td>\n",
       "    </tr>\n",
       "    <tr>\n",
       "      <th>54</th>\n",
       "      <td>BDMS.html</td>\n",
       "      <td>right_only</td>\n",
       "    </tr>\n",
       "    <tr>\n",
       "      <th>55</th>\n",
       "      <td>BFIT.html</td>\n",
       "      <td>right_only</td>\n",
       "    </tr>\n",
       "    <tr>\n",
       "      <th>56</th>\n",
       "      <td>BGC.html</td>\n",
       "      <td>right_only</td>\n",
       "    </tr>\n",
       "    <tr>\n",
       "      <th>57</th>\n",
       "      <td>BGRIM.html</td>\n",
       "      <td>right_only</td>\n",
       "    </tr>\n",
       "    <tr>\n",
       "      <th>58</th>\n",
       "      <td>BH.html</td>\n",
       "      <td>right_only</td>\n",
       "    </tr>\n",
       "    <tr>\n",
       "      <th>59</th>\n",
       "      <td>BKI.html</td>\n",
       "      <td>right_only</td>\n",
       "    </tr>\n",
       "    <tr>\n",
       "      <th>60</th>\n",
       "      <td>BLA.html</td>\n",
       "      <td>right_only</td>\n",
       "    </tr>\n",
       "    <tr>\n",
       "      <th>61</th>\n",
       "      <td>BOFFICE.html</td>\n",
       "      <td>right_only</td>\n",
       "    </tr>\n",
       "    <tr>\n",
       "      <th>62</th>\n",
       "      <td>BPP.html</td>\n",
       "      <td>right_only</td>\n",
       "    </tr>\n",
       "  </tbody>\n",
       "</table>\n",
       "</div>"
      ],
      "text/plain": [
       "            name      _merge\n",
       "51      BCP.html  right_only\n",
       "52     BCPG.html  right_only\n",
       "53      BCT.html  right_only\n",
       "54     BDMS.html  right_only\n",
       "55     BFIT.html  right_only\n",
       "56      BGC.html  right_only\n",
       "57    BGRIM.html  right_only\n",
       "58       BH.html  right_only\n",
       "59      BKI.html  right_only\n",
       "60      BLA.html  right_only\n",
       "61  BOFFICE.html  right_only\n",
       "62      BPP.html  right_only"
      ]
     },
     "execution_count": 9,
     "metadata": {},
     "output_type": "execute_result"
    }
   ],
   "source": [
    "unmatch = df_merge[(df_merge._merge == 'right_only') & (df_merge.name.str[0] == 'B')]\n",
    "unmatch"
   ]
  },
  {
   "cell_type": "code",
   "execution_count": 10,
   "id": "65c3d1b6",
   "metadata": {},
   "outputs": [
    {
     "data": {
      "text/plain": [
       "(47, 2)"
      ]
     },
     "execution_count": 10,
     "metadata": {},
     "output_type": "execute_result"
    }
   ],
   "source": [
    "match = df_merge[df_merge._merge == 'both']\n",
    "match.shape"
   ]
  },
  {
   "cell_type": "code",
   "execution_count": 11,
   "id": "747d478c",
   "metadata": {},
   "outputs": [
    {
     "data": {
      "text/plain": [
       "(4, 2)"
      ]
     },
     "execution_count": 11,
     "metadata": {},
     "output_type": "execute_result"
    }
   ],
   "source": [
    "new = df_merge[df_merge._merge == 'left_only']\n",
    "new.shape"
   ]
  },
  {
   "cell_type": "code",
   "execution_count": null,
   "id": "0e9fb898",
   "metadata": {},
   "outputs": [],
   "source": []
  }
 ],
 "metadata": {
  "kernelspec": {
   "display_name": "Python 3 (ipykernel)",
   "language": "python",
   "name": "python3"
  },
  "language_info": {
   "codemirror_mode": {
    "name": "ipython",
    "version": 3
   },
   "file_extension": ".py",
   "mimetype": "text/x-python",
   "name": "python",
   "nbconvert_exporter": "python",
   "pygments_lexer": "ipython3",
   "version": "3.8.11"
  }
 },
 "nbformat": 4,
 "nbformat_minor": 5
}
