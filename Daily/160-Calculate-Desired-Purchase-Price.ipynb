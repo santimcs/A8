{
 "cells": [
  {
   "cell_type": "code",
   "execution_count": 1,
   "metadata": {},
   "outputs": [
    {
     "data": {
      "text/plain": [
       "(datetime.date(2022, 12, 19), datetime.date(2022, 12, 18))"
      ]
     },
     "execution_count": 1,
     "metadata": {},
     "output_type": "execute_result"
    }
   ],
   "source": [
    "import calendar\n",
    "import pandas as pd\n",
    "import numpy as np\n",
    "from datetime import date, timedelta\n",
    "from math import ceil, floor, trunc\n",
    "\n",
    "today = date.today()\n",
    "yesterday = today - timedelta(days=1)\n",
    "today, yesterday"
   ]
  },
  {
   "cell_type": "code",
   "execution_count": 2,
   "metadata": {},
   "outputs": [],
   "source": [
    "def number_of_spread(x):\n",
    "    # Unpack values from input list\n",
    "    q0 = x[0]   # old quantity\n",
    "    p0 = x[1]   # old unit price\n",
    "    old_unit_cost = x[1]  # store old unit price for later use\n",
    "    q1 = x[2]   # purchase quantity\n",
    "    d1 = x[3]   # spread according to price range\n",
    "    c0 = x[4]   # desired down percent to adjust purchase price\n",
    "\n",
    "    # Calculate old cost amount\n",
    "    a0 = q0 * p0\n",
    "\n",
    "    # Initialize loop variables\n",
    "    i = 1000\n",
    "    pct = 0\n",
    "    pt = 0\n",
    "    dt = 0\n",
    "    p2 = 0\n",
    "\n",
    "    # Loop until i becomes 0\n",
    "    while i > 0:\n",
    "        # Calculate simulated purchase price\n",
    "        p1 = p0 - d1\n",
    "\n",
    "        # Update old unit price for next iteration\n",
    "        p0 = p1\n",
    "\n",
    "        # Calculate new purchase amount\n",
    "        a1 = q1 * p1\n",
    "\n",
    "        # Calculate new total quantity and cost amount\n",
    "        q2 = q0 + q1\n",
    "        a2 = a0 + a1\n",
    "\n",
    "        # Calculate new unit cost\n",
    "        p2 = a2 / q2\n",
    "\n",
    "        # Round simulated purchase price and spread according to price range\n",
    "        pt = round(p2 * 100, 2)\n",
    "        dt = d1 * 100\n",
    "\n",
    "        # Debugging output\n",
    "        print('before if', i, 'p1=' + str(round(p1, 2)), 'a1=' + str(round(a1, 2)), 'a2=' + str(round(a2, 2)), 'p2=' + str(round(p2, 2)))\n",
    "\n",
    "        # Check if simulated purchase price is divisible by spread\n",
    "        if (pt % dt) == 0:\n",
    "            # Calculate percentage change in unit cost\n",
    "            pct = ((p1 - old_unit_cost) / old_unit_cost) * 100\n",
    "\n",
    "            # Debugging output\n",
    "            print('in loop', i, 'p2=' + str(round(p2, 2)), a2, 'p1=' + str(round(p1, 2)), 'pct=' + str(round(pct, 2)))\n",
    "\n",
    "            # Check if absolute value of percentage change is less than desired down percent\n",
    "            if abs(pct) < c0:\n",
    "                # Continue to next iteration if condition is met\n",
    "                continue\n",
    "\n",
    "            # Break loop if condition is not met\n",
    "            break\n",
    "\n",
    "        # Debugging output\n",
    "        print('out loop', i, 'p2=' + str(round(p2, 2)), a2, 'p1=' + str(round(p1, 2)), 'pct=' + str(round(pct, 2)))\n",
    "\n",
    "        # Decrement loop counter\n",
    "        i -= 1\n",
    "\n",
    "    # Return simulated purchase price, new unit cost, and percentage change in unit cost\n",
    "    return print('p1=' + str(round(p1, 2)), 'p2=' + str(round(p2, 2)), 'pct=' + str(round(pct, 2)))\n"
   ]
  },
  {
   "cell_type": "code",
   "execution_count": 3,
   "metadata": {
    "scrolled": true
   },
   "outputs": [
    {
     "name": "stdout",
     "output_type": "stream",
     "text": [
      "before if 1000 p1=27.75 a1=33300.0 a2=134100.0 p2=27.94\n",
      "out loop 1000 p2=27.94 134100.0 p1=27.75 pct=0\n",
      "before if 999 p1=27.5 a1=33000.0 a2=133800.0 p2=27.88\n",
      "out loop 999 p2=27.88 133800.0 p1=27.5 pct=0\n",
      "before if 998 p1=27.25 a1=32700.0 a2=133500.0 p2=27.81\n",
      "out loop 998 p2=27.81 133500.0 p1=27.25 pct=0\n",
      "before if 997 p1=27.0 a1=32400.0 a2=133200.0 p2=27.75\n",
      "in loop 997 p2=27.75 133200.0 p1=27.0 pct=-3.57\n",
      "before if 997 p1=26.75 a1=32100.0 a2=132900.0 p2=27.69\n",
      "out loop 997 p2=27.69 132900.0 p1=26.75 pct=-3.57\n",
      "before if 996 p1=26.5 a1=31800.0 a2=132600.0 p2=27.62\n",
      "out loop 996 p2=27.62 132600.0 p1=26.5 pct=-3.57\n",
      "before if 995 p1=26.25 a1=31500.0 a2=132300.0 p2=27.56\n",
      "out loop 995 p2=27.56 132300.0 p1=26.25 pct=-3.57\n",
      "before if 994 p1=26.0 a1=31200.0 a2=132000.0 p2=27.5\n",
      "in loop 994 p2=27.5 132000.0 p1=26.0 pct=-7.14\n",
      "before if 994 p1=25.75 a1=30900.0 a2=131700.0 p2=27.44\n",
      "out loop 994 p2=27.44 131700.0 p1=25.75 pct=-7.14\n",
      "before if 993 p1=25.5 a1=30600.0 a2=131400.0 p2=27.38\n",
      "out loop 993 p2=27.38 131400.0 p1=25.5 pct=-7.14\n",
      "before if 992 p1=25.25 a1=30300.0 a2=131100.0 p2=27.31\n",
      "out loop 992 p2=27.31 131100.0 p1=25.25 pct=-7.14\n",
      "before if 991 p1=25.0 a1=30000.0 a2=130800.0 p2=27.25\n",
      "in loop 991 p2=27.25 130800.0 p1=25.0 pct=-10.71\n",
      "p1=25.0 p2=27.25 pct=-10.71\n"
     ]
    },
    {
     "data": {
      "text/plain": [
       "array([None], dtype=object)"
      ]
     },
     "execution_count": 3,
     "metadata": {},
     "output_type": "execute_result"
    }
   ],
   "source": [
    "my_array = [[3600,28,1200,.25,10]]\n",
    "tmp = (np.apply_along_axis(number_of_spread, axis=1, arr=my_array))\n",
    "tmp"
   ]
  },
  {
   "cell_type": "markdown",
   "metadata": {},
   "source": [
    "##### "
   ]
  }
 ],
 "metadata": {
  "anaconda-cloud": {},
  "kernelspec": {
   "display_name": "Python 3 (ipykernel)",
   "language": "python",
   "name": "python3"
  },
  "language_info": {
   "codemirror_mode": {
    "name": "ipython",
    "version": 3
   },
   "file_extension": ".py",
   "mimetype": "text/x-python",
   "name": "python",
   "nbconvert_exporter": "python",
   "pygments_lexer": "ipython3",
   "version": "3.8.11"
  }
 },
 "nbformat": 4,
 "nbformat_minor": 1
}
