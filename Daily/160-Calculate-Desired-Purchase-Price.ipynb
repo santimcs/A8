{
 "cells": [
  {
   "cell_type": "code",
   "execution_count": 1,
   "metadata": {},
   "outputs": [
    {
     "data": {
      "text/plain": [
       "(datetime.date(2022, 1, 15), datetime.date(2022, 1, 14))"
      ]
     },
     "execution_count": 1,
     "metadata": {},
     "output_type": "execute_result"
    }
   ],
   "source": [
    "import calendar\n",
    "import pandas as pd\n",
    "import numpy as np\n",
    "from datetime import date, timedelta\n",
    "from math import ceil, floor, trunc\n",
    "\n",
    "today = date.today()\n",
    "yesterday = today - timedelta(days=1)\n",
    "today, yesterday"
   ]
  },
  {
   "cell_type": "code",
   "execution_count": 2,
   "metadata": {},
   "outputs": [],
   "source": [
    "def number_of_spread(x):\n",
    "    q0 = x[0]   #old qty\n",
    "    p0 = x[1]   #old unit \n",
    "    old_unit_cost = x[1]\n",
    "    q1 = x[2]   #purchase qty\n",
    "    d1 = x[3]  #spread according to price range\n",
    "    c0 = x[4]  #desired down percent to adjust purchase price\n",
    "\n",
    "    a0 = q0 * p0 # amount\n",
    "    \n",
    "    i = 1000\n",
    "    pct = 0\n",
    "    pt = 0\n",
    "    dt = 0\n",
    "    p2 = 0\n",
    "    while i > 0:\n",
    "        p1 = p0 - d1  #simulated purchase price\n",
    "        p0 = p1\n",
    "        a1 = q1 * p1  #new purchase amt\n",
    "        q2 = q0 + q1  #new total qty\n",
    "        a2 = a0 + a1  #new cost amt\n",
    "        p2 = a2 / q2  #new unit cost\n",
    "\n",
    "        pt = round(p2 * 100,2)  #simulated purchase price multiply 100  \n",
    "        dt = d1 * 100           #spread according to price range multiply 100\n",
    "        \n",
    "        print('before if',i,'p1='+str(round(p1,2)),'a1='+str(round(a1,2)),'a2='+str(round(a2,2)),'p2='+str(round(p2,2)))\n",
    "        \n",
    "        if (pt % dt) == 0:\n",
    "            pct = (p1 - old_unit_cost)/old_unit_cost * 100\n",
    "            print ('in loop' ,i,'p2='+str(round(p2,2)),a2,'p1='+str(round(p1,2)),'pct='+str(round(pct,2)))\n",
    "            if abs(pct) < c0:\n",
    "                continue\n",
    "            break\n",
    "            \n",
    "        print ('out loop',i,'p2='+str(round(p2,2)),a2,'p1='+str(round(p1,2)),'pct='+str(round(pct,2)))            \n",
    "        i -= 1     \n",
    "        \n",
    "    return print('p1='+str(round(p1,2)),'p2='+str(round(p2,2)),'pct='+str(round(pct,2)))"
   ]
  },
  {
   "cell_type": "code",
   "execution_count": 8,
   "metadata": {},
   "outputs": [
    {
     "name": "stdout",
     "output_type": "stream",
     "text": [
      "before if 1000 p1=64.5 a1=77400.0 a2=465900.0 p2=64.71\n",
      "out loop 1000 p2=64.71 465900.0 p1=64.5 pct=0\n",
      "before if 999 p1=64.25 a1=77100.0 a2=465600.0 p2=64.67\n",
      "out loop 999 p2=64.67 465600.0 p1=64.25 pct=0\n",
      "before if 998 p1=64.0 a1=76800.0 a2=465300.0 p2=64.62\n",
      "out loop 998 p2=64.62 465300.0 p1=64.0 pct=0\n",
      "before if 997 p1=63.75 a1=76500.0 a2=465000.0 p2=64.58\n",
      "out loop 997 p2=64.58 465000.0 p1=63.75 pct=0\n",
      "before if 996 p1=63.5 a1=76200.0 a2=464700.0 p2=64.54\n",
      "out loop 996 p2=64.54 464700.0 p1=63.5 pct=0\n",
      "before if 995 p1=63.25 a1=75900.0 a2=464400.0 p2=64.5\n",
      "in loop 995 p2=64.5 464400.0 p1=63.25 pct=-2.32\n",
      "before if 995 p1=63.0 a1=75600.0 a2=464100.0 p2=64.46\n",
      "out loop 995 p2=64.46 464100.0 p1=63.0 pct=-2.32\n",
      "before if 994 p1=62.75 a1=75300.0 a2=463800.0 p2=64.42\n",
      "out loop 994 p2=64.42 463800.0 p1=62.75 pct=-2.32\n",
      "before if 993 p1=62.5 a1=75000.0 a2=463500.0 p2=64.38\n",
      "out loop 993 p2=64.38 463500.0 p1=62.5 pct=-2.32\n",
      "before if 992 p1=62.25 a1=74700.0 a2=463200.0 p2=64.33\n",
      "out loop 992 p2=64.33 463200.0 p1=62.25 pct=-2.32\n",
      "before if 991 p1=62.0 a1=74400.0 a2=462900.0 p2=64.29\n",
      "out loop 991 p2=64.29 462900.0 p1=62.0 pct=-2.32\n",
      "before if 990 p1=61.75 a1=74100.0 a2=462600.0 p2=64.25\n",
      "in loop 990 p2=64.25 462600.0 p1=61.75 pct=-4.63\n",
      "before if 990 p1=61.5 a1=73800.0 a2=462300.0 p2=64.21\n",
      "out loop 990 p2=64.21 462300.0 p1=61.5 pct=-4.63\n",
      "before if 989 p1=61.25 a1=73500.0 a2=462000.0 p2=64.17\n",
      "out loop 989 p2=64.17 462000.0 p1=61.25 pct=-4.63\n",
      "before if 988 p1=61.0 a1=73200.0 a2=461700.0 p2=64.12\n",
      "out loop 988 p2=64.12 461700.0 p1=61.0 pct=-4.63\n",
      "before if 987 p1=60.75 a1=72900.0 a2=461400.0 p2=64.08\n",
      "out loop 987 p2=64.08 461400.0 p1=60.75 pct=-4.63\n",
      "before if 986 p1=60.5 a1=72600.0 a2=461100.0 p2=64.04\n",
      "out loop 986 p2=64.04 461100.0 p1=60.5 pct=-4.63\n",
      "before if 985 p1=60.25 a1=72300.0 a2=460800.0 p2=64.0\n",
      "in loop 985 p2=64.0 460800.0 p1=60.25 pct=-6.95\n",
      "before if 985 p1=60.0 a1=72000.0 a2=460500.0 p2=63.96\n",
      "out loop 985 p2=63.96 460500.0 p1=60.0 pct=-6.95\n",
      "before if 984 p1=59.75 a1=71700.0 a2=460200.0 p2=63.92\n",
      "out loop 984 p2=63.92 460200.0 p1=59.75 pct=-6.95\n",
      "before if 983 p1=59.5 a1=71400.0 a2=459900.0 p2=63.88\n",
      "out loop 983 p2=63.88 459900.0 p1=59.5 pct=-6.95\n",
      "before if 982 p1=59.25 a1=71100.0 a2=459600.0 p2=63.83\n",
      "out loop 982 p2=63.83 459600.0 p1=59.25 pct=-6.95\n",
      "before if 981 p1=59.0 a1=70800.0 a2=459300.0 p2=63.79\n",
      "out loop 981 p2=63.79 459300.0 p1=59.0 pct=-6.95\n",
      "before if 980 p1=58.75 a1=70500.0 a2=459000.0 p2=63.75\n",
      "in loop 980 p2=63.75 459000.0 p1=58.75 pct=-9.27\n",
      "before if 980 p1=58.5 a1=70200.0 a2=458700.0 p2=63.71\n",
      "out loop 980 p2=63.71 458700.0 p1=58.5 pct=-9.27\n",
      "before if 979 p1=58.25 a1=69900.0 a2=458400.0 p2=63.67\n",
      "out loop 979 p2=63.67 458400.0 p1=58.25 pct=-9.27\n",
      "before if 978 p1=58.0 a1=69600.0 a2=458100.0 p2=63.62\n",
      "out loop 978 p2=63.62 458100.0 p1=58.0 pct=-9.27\n",
      "before if 977 p1=57.75 a1=69300.0 a2=457800.0 p2=63.58\n",
      "out loop 977 p2=63.58 457800.0 p1=57.75 pct=-9.27\n",
      "before if 976 p1=57.5 a1=69000.0 a2=457500.0 p2=63.54\n",
      "out loop 976 p2=63.54 457500.0 p1=57.5 pct=-9.27\n",
      "before if 975 p1=57.25 a1=68700.0 a2=457200.0 p2=63.5\n",
      "in loop 975 p2=63.5 457200.0 p1=57.25 pct=-11.58\n",
      "p1=57.25 p2=63.5 pct=-11.58\n"
     ]
    },
    {
     "data": {
      "text/plain": [
       "array([None], dtype=object)"
      ]
     },
     "execution_count": 8,
     "metadata": {},
     "output_type": "execute_result"
    }
   ],
   "source": [
    "my_array = [[6000,64.75,1200,0.25,10]]\n",
    "tmp = (np.apply_along_axis(number_of_spread, axis=1, arr=my_array))\n",
    "tmp"
   ]
  },
  {
   "cell_type": "markdown",
   "metadata": {},
   "source": [
    "##### "
   ]
  },
  {
   "cell_type": "code",
   "execution_count": null,
   "metadata": {},
   "outputs": [],
   "source": []
  }
 ],
 "metadata": {
  "anaconda-cloud": {},
  "kernelspec": {
   "display_name": "Python 3 (ipykernel)",
   "language": "python",
   "name": "python3"
  },
  "language_info": {
   "codemirror_mode": {
    "name": "ipython",
    "version": 3
   },
   "file_extension": ".py",
   "mimetype": "text/x-python",
   "name": "python",
   "nbconvert_exporter": "python",
   "pygments_lexer": "ipython3",
   "version": "3.8.11"
  }
 },
 "nbformat": 4,
 "nbformat_minor": 1
}
