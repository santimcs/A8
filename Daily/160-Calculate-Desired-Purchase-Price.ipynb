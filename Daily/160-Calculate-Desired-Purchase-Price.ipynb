{
 "cells": [
  {
   "cell_type": "code",
   "execution_count": 1,
   "metadata": {},
   "outputs": [
    {
     "data": {
      "text/plain": [
       "(datetime.date(2022, 4, 19), datetime.date(2022, 4, 18))"
      ]
     },
     "execution_count": 1,
     "metadata": {},
     "output_type": "execute_result"
    }
   ],
   "source": [
    "import calendar\n",
    "import pandas as pd\n",
    "import numpy as np\n",
    "from datetime import date, timedelta\n",
    "from math import ceil, floor, trunc\n",
    "\n",
    "today = date.today()\n",
    "yesterday = today - timedelta(days=1)\n",
    "today, yesterday"
   ]
  },
  {
   "cell_type": "code",
   "execution_count": 2,
   "metadata": {},
   "outputs": [],
   "source": [
    "def number_of_spread(x):\n",
    "    q0 = x[0]   #old qty\n",
    "    p0 = x[1]   #old unit \n",
    "    old_unit_cost = x[1]\n",
    "    q1 = x[2]   #purchase qty\n",
    "    d1 = x[3]  #spread according to price range\n",
    "    c0 = x[4]  #desired down percent to adjust purchase price\n",
    "\n",
    "    a0 = q0 * p0 # amount\n",
    "    \n",
    "    i = 1000\n",
    "    pct = 0\n",
    "    pt = 0\n",
    "    dt = 0\n",
    "    p2 = 0\n",
    "    while i > 0:\n",
    "        p1 = p0 - d1  #simulated purchase price\n",
    "        p0 = p1\n",
    "        a1 = q1 * p1  #new purchase amt\n",
    "        q2 = q0 + q1  #new total qty\n",
    "        a2 = a0 + a1  #new cost amt\n",
    "        p2 = a2 / q2  #new unit cost\n",
    "\n",
    "        pt = round(p2 * 100,2)  #simulated purchase price multiply 100  \n",
    "        dt = d1 * 100           #spread according to price range multiply 100\n",
    "        \n",
    "        print('before if',i,'p1='+str(round(p1,2)),'a1='+str(round(a1,2)),'a2='+str(round(a2,2)),'p2='+str(round(p2,2)))\n",
    "        \n",
    "        if (pt % dt) == 0:\n",
    "            pct = ((p1 - old_unit_cost)/old_unit_cost) * 100\n",
    "            print ('in loop' ,i,'p2='+str(round(p2,2)),a2,'p1='+str(round(p1,2)),'pct='+str(round(pct,2)))\n",
    "            if abs(pct) < c0:\n",
    "                continue\n",
    "            break\n",
    "            \n",
    "        print ('out loop',i,'p2='+str(round(p2,2)),a2,'p1='+str(round(p1,2)),'pct='+str(round(pct,2)))            \n",
    "        i -= 1     \n",
    "        \n",
    "    return print('p1='+str(round(p1,2)),'p2='+str(round(p2,2)),'pct='+str(round(pct,2)))"
   ]
  },
  {
   "cell_type": "code",
   "execution_count": 4,
   "metadata": {},
   "outputs": [
    {
     "name": "stdout",
     "output_type": "stream",
     "text": [
      "before if 1000 p1=4.7 a1=70500.0 a2=353700.0 p2=4.72\n",
      "out loop 1000 p2=4.72 353700.0 p1=4.7 pct=0\n",
      "before if 999 p1=4.68 a1=70200.0 a2=353400.0 p2=4.71\n",
      "out loop 999 p2=4.71 353400.0 p1=4.68 pct=0\n",
      "before if 998 p1=4.66 a1=69900.0 a2=353100.0 p2=4.71\n",
      "out loop 998 p2=4.71 353100.0 p1=4.66 pct=0\n",
      "before if 997 p1=4.64 a1=69600.0 a2=352800.0 p2=4.7\n",
      "out loop 997 p2=4.7 352800.0 p1=4.64 pct=0\n",
      "before if 996 p1=4.62 a1=69300.0 a2=352500.0 p2=4.7\n",
      "in loop 996 p2=4.7 352500.0 p1=4.62 pct=-2.12\n",
      "before if 996 p1=4.6 a1=69000.0 a2=352200.0 p2=4.7\n",
      "out loop 996 p2=4.7 352200.0 p1=4.6 pct=-2.12\n",
      "before if 995 p1=4.58 a1=68700.0 a2=351900.0 p2=4.69\n",
      "out loop 995 p2=4.69 351900.00000000006 p1=4.58 pct=-2.12\n",
      "before if 994 p1=4.56 a1=68400.0 a2=351600.0 p2=4.69\n",
      "out loop 994 p2=4.69 351600.00000000006 p1=4.56 pct=-2.12\n",
      "before if 993 p1=4.54 a1=68100.0 a2=351300.0 p2=4.68\n",
      "out loop 993 p2=4.68 351300.00000000006 p1=4.54 pct=-2.12\n",
      "before if 992 p1=4.52 a1=67800.0 a2=351000.0 p2=4.68\n",
      "in loop 992 p2=4.68 351000.00000000006 p1=4.52 pct=-4.24\n",
      "before if 992 p1=4.5 a1=67500.0 a2=350700.0 p2=4.68\n",
      "out loop 992 p2=4.68 350700.00000000006 p1=4.5 pct=-4.24\n",
      "before if 991 p1=4.48 a1=67200.0 a2=350400.0 p2=4.67\n",
      "out loop 991 p2=4.67 350400.00000000006 p1=4.48 pct=-4.24\n",
      "before if 990 p1=4.46 a1=66900.0 a2=350100.0 p2=4.67\n",
      "out loop 990 p2=4.67 350100.00000000006 p1=4.46 pct=-4.24\n",
      "before if 989 p1=4.44 a1=66600.0 a2=349800.0 p2=4.66\n",
      "out loop 989 p2=4.66 349800.0000000001 p1=4.44 pct=-4.24\n",
      "before if 988 p1=4.42 a1=66300.0 a2=349500.0 p2=4.66\n",
      "in loop 988 p2=4.66 349500.0000000001 p1=4.42 pct=-6.36\n",
      "before if 988 p1=4.4 a1=66000.0 a2=349200.0 p2=4.66\n",
      "out loop 988 p2=4.66 349200.0000000001 p1=4.4 pct=-6.36\n",
      "before if 987 p1=4.38 a1=65700.0 a2=348900.0 p2=4.65\n",
      "out loop 987 p2=4.65 348900.0000000001 p1=4.38 pct=-6.36\n",
      "before if 986 p1=4.36 a1=65400.0 a2=348600.0 p2=4.65\n",
      "out loop 986 p2=4.65 348600.0000000001 p1=4.36 pct=-6.36\n",
      "before if 985 p1=4.34 a1=65100.0 a2=348300.0 p2=4.64\n",
      "out loop 985 p2=4.64 348300.0000000001 p1=4.34 pct=-6.36\n",
      "before if 984 p1=4.32 a1=64800.0 a2=348000.0 p2=4.64\n",
      "in loop 984 p2=4.64 348000.0000000001 p1=4.32 pct=-8.47\n",
      "before if 984 p1=4.3 a1=64500.0 a2=347700.0 p2=4.64\n",
      "out loop 984 p2=4.64 347700.0000000001 p1=4.3 pct=-8.47\n",
      "before if 983 p1=4.28 a1=64200.0 a2=347400.0 p2=4.63\n",
      "out loop 983 p2=4.63 347400.0000000001 p1=4.28 pct=-8.47\n",
      "before if 982 p1=4.26 a1=63900.0 a2=347100.0 p2=4.63\n",
      "out loop 982 p2=4.63 347100.0000000001 p1=4.26 pct=-8.47\n",
      "before if 981 p1=4.24 a1=63600.0 a2=346800.0 p2=4.62\n",
      "out loop 981 p2=4.62 346800.0000000002 p1=4.24 pct=-8.47\n",
      "before if 980 p1=4.22 a1=63300.0 a2=346500.0 p2=4.62\n",
      "in loop 980 p2=4.62 346500.0000000002 p1=4.22 pct=-10.59\n",
      "p1=4.22 p2=4.62 pct=-10.59\n"
     ]
    },
    {
     "data": {
      "text/plain": [
       "array([None], dtype=object)"
      ]
     },
     "execution_count": 4,
     "metadata": {},
     "output_type": "execute_result"
    }
   ],
   "source": [
    "my_array = [[60000,4.72,15000,.02,10]]\n",
    "tmp = (np.apply_along_axis(number_of_spread, axis=1, arr=my_array))\n",
    "tmp"
   ]
  },
  {
   "cell_type": "markdown",
   "metadata": {},
   "source": [
    "##### "
   ]
  },
  {
   "cell_type": "code",
   "execution_count": null,
   "metadata": {},
   "outputs": [],
   "source": []
  }
 ],
 "metadata": {
  "anaconda-cloud": {},
  "kernelspec": {
   "display_name": "Python 3 (ipykernel)",
   "language": "python",
   "name": "python3"
  },
  "language_info": {
   "codemirror_mode": {
    "name": "ipython",
    "version": 3
   },
   "file_extension": ".py",
   "mimetype": "text/x-python",
   "name": "python",
   "nbconvert_exporter": "python",
   "pygments_lexer": "ipython3",
   "version": "3.8.11"
  }
 },
 "nbformat": 4,
 "nbformat_minor": 1
}
