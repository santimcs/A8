{
 "cells": [
  {
   "cell_type": "code",
   "execution_count": 1,
   "metadata": {},
   "outputs": [
    {
     "data": {
      "text/plain": [
       "(datetime.date(2022, 3, 17), datetime.date(2022, 3, 16))"
      ]
     },
     "execution_count": 1,
     "metadata": {},
     "output_type": "execute_result"
    }
   ],
   "source": [
    "import calendar\n",
    "import pandas as pd\n",
    "import numpy as np\n",
    "from datetime import date, timedelta\n",
    "from math import ceil, floor, trunc\n",
    "\n",
    "today = date.today()\n",
    "yesterday = today - timedelta(days=1)\n",
    "today, yesterday"
   ]
  },
  {
   "cell_type": "code",
   "execution_count": 2,
   "metadata": {},
   "outputs": [],
   "source": [
    "def number_of_spread(x):\n",
    "    q0 = x[0]   #old qty\n",
    "    p0 = x[1]   #old unit \n",
    "    old_unit_cost = x[1]\n",
    "    q1 = x[2]   #purchase qty\n",
    "    d1 = x[3]  #spread according to price range\n",
    "    c0 = x[4]  #desired down percent to adjust purchase price\n",
    "\n",
    "    a0 = q0 * p0 # amount\n",
    "    \n",
    "    i = 1000\n",
    "    pct = 0\n",
    "    pt = 0\n",
    "    dt = 0\n",
    "    p2 = 0\n",
    "    while i > 0:\n",
    "        p1 = p0 - d1  #simulated purchase price\n",
    "        p0 = p1\n",
    "        a1 = q1 * p1  #new purchase amt\n",
    "        q2 = q0 + q1  #new total qty\n",
    "        a2 = a0 + a1  #new cost amt\n",
    "        p2 = a2 / q2  #new unit cost\n",
    "\n",
    "        pt = round(p2 * 100,2)  #simulated purchase price multiply 100  \n",
    "        dt = d1 * 100           #spread according to price range multiply 100\n",
    "        \n",
    "        print('before if',i,'p1='+str(round(p1,2)),'a1='+str(round(a1,2)),'a2='+str(round(a2,2)),'p2='+str(round(p2,2)))\n",
    "        \n",
    "        if (pt % dt) == 0:\n",
    "            pct = (p1 - old_unit_cost)/old_unit_cost * 100\n",
    "            print ('in loop' ,i,'p2='+str(round(p2,2)),a2,'p1='+str(round(p1,2)),'pct='+str(round(pct,2)))\n",
    "            if abs(pct) < c0:\n",
    "                continue\n",
    "            break\n",
    "            \n",
    "        print ('out loop',i,'p2='+str(round(p2,2)),a2,'p1='+str(round(p1,2)),'pct='+str(round(pct,2)))            \n",
    "        i -= 1     \n",
    "        \n",
    "    return print('p1='+str(round(p1,2)),'p2='+str(round(p2,2)),'pct='+str(round(pct,2)))"
   ]
  },
  {
   "cell_type": "code",
   "execution_count": 9,
   "metadata": {},
   "outputs": [
    {
     "name": "stdout",
     "output_type": "stream",
     "text": [
      "before if 1000 p1=28.4 a1=85200.0 a2=512700.0 p2=28.48\n",
      "out loop 1000 p2=28.48 512700.0 p1=28.4 pct=0\n",
      "before if 999 p1=28.3 a1=84900.0 a2=512400.0 p2=28.47\n",
      "out loop 999 p2=28.47 512400.0 p1=28.3 pct=0\n",
      "before if 998 p1=28.2 a1=84600.0 a2=512100.0 p2=28.45\n",
      "out loop 998 p2=28.45 512100.0 p1=28.2 pct=0\n",
      "before if 997 p1=28.1 a1=84300.0 a2=511800.0 p2=28.43\n",
      "out loop 997 p2=28.43 511800.0 p1=28.1 pct=0\n",
      "before if 996 p1=28.0 a1=84000.0 a2=511500.0 p2=28.42\n",
      "out loop 996 p2=28.42 511500.0 p1=28.0 pct=0\n",
      "before if 995 p1=27.9 a1=83700.0 a2=511200.0 p2=28.4\n",
      "in loop 995 p2=28.4 511200.0 p1=27.9 pct=-2.11\n",
      "before if 995 p1=27.8 a1=83400.0 a2=510900.0 p2=28.38\n",
      "out loop 995 p2=28.38 510900.0 p1=27.8 pct=-2.11\n",
      "before if 994 p1=27.7 a1=83100.0 a2=510600.0 p2=28.37\n",
      "out loop 994 p2=28.37 510600.0 p1=27.7 pct=-2.11\n",
      "before if 993 p1=27.6 a1=82800.0 a2=510300.0 p2=28.35\n",
      "out loop 993 p2=28.35 510299.99999999994 p1=27.6 pct=-2.11\n",
      "before if 992 p1=27.5 a1=82500.0 a2=510000.0 p2=28.33\n",
      "out loop 992 p2=28.33 509999.99999999994 p1=27.5 pct=-2.11\n",
      "before if 991 p1=27.4 a1=82200.0 a2=509700.0 p2=28.32\n",
      "out loop 991 p2=28.32 509699.99999999994 p1=27.4 pct=-2.11\n",
      "before if 990 p1=27.3 a1=81900.0 a2=509400.0 p2=28.3\n",
      "in loop 990 p2=28.3 509399.99999999994 p1=27.3 pct=-4.21\n",
      "before if 990 p1=27.2 a1=81600.0 a2=509100.0 p2=28.28\n",
      "out loop 990 p2=28.28 509099.99999999994 p1=27.2 pct=-4.21\n",
      "before if 989 p1=27.1 a1=81300.0 a2=508800.0 p2=28.27\n",
      "out loop 989 p2=28.27 508799.99999999994 p1=27.1 pct=-4.21\n",
      "before if 988 p1=27.0 a1=81000.0 a2=508500.0 p2=28.25\n",
      "out loop 988 p2=28.25 508499.99999999994 p1=27.0 pct=-4.21\n",
      "before if 987 p1=26.9 a1=80700.0 a2=508200.0 p2=28.23\n",
      "out loop 987 p2=28.23 508199.99999999994 p1=26.9 pct=-4.21\n",
      "before if 986 p1=26.8 a1=80400.0 a2=507900.0 p2=28.22\n",
      "out loop 986 p2=28.22 507899.99999999994 p1=26.8 pct=-4.21\n",
      "before if 985 p1=26.7 a1=80100.0 a2=507600.0 p2=28.2\n",
      "in loop 985 p2=28.2 507599.99999999994 p1=26.7 pct=-6.32\n",
      "before if 985 p1=26.6 a1=79800.0 a2=507300.0 p2=28.18\n",
      "out loop 985 p2=28.18 507299.9999999999 p1=26.6 pct=-6.32\n",
      "before if 984 p1=26.5 a1=79500.0 a2=507000.0 p2=28.17\n",
      "out loop 984 p2=28.17 506999.9999999999 p1=26.5 pct=-6.32\n",
      "before if 983 p1=26.4 a1=79200.0 a2=506700.0 p2=28.15\n",
      "out loop 983 p2=28.15 506699.9999999999 p1=26.4 pct=-6.32\n",
      "before if 982 p1=26.3 a1=78900.0 a2=506400.0 p2=28.13\n",
      "out loop 982 p2=28.13 506399.9999999999 p1=26.3 pct=-6.32\n",
      "before if 981 p1=26.2 a1=78600.0 a2=506100.0 p2=28.12\n",
      "out loop 981 p2=28.12 506099.9999999999 p1=26.2 pct=-6.32\n",
      "before if 980 p1=26.1 a1=78300.0 a2=505800.0 p2=28.1\n",
      "in loop 980 p2=28.1 505799.9999999999 p1=26.1 pct=-8.42\n",
      "before if 980 p1=26.0 a1=78000.0 a2=505500.0 p2=28.08\n",
      "out loop 980 p2=28.08 505499.9999999999 p1=26.0 pct=-8.42\n",
      "before if 979 p1=25.9 a1=77700.0 a2=505200.0 p2=28.07\n",
      "out loop 979 p2=28.07 505199.9999999999 p1=25.9 pct=-8.42\n",
      "before if 978 p1=25.8 a1=77400.0 a2=504900.0 p2=28.05\n",
      "out loop 978 p2=28.05 504899.9999999999 p1=25.8 pct=-8.42\n",
      "before if 977 p1=25.7 a1=77100.0 a2=504600.0 p2=28.03\n",
      "out loop 977 p2=28.03 504599.9999999999 p1=25.7 pct=-8.42\n",
      "before if 976 p1=25.6 a1=76800.0 a2=504300.0 p2=28.02\n",
      "out loop 976 p2=28.02 504299.9999999999 p1=25.6 pct=-8.42\n",
      "before if 975 p1=25.5 a1=76500.0 a2=504000.0 p2=28.0\n",
      "in loop 975 p2=28.0 503999.9999999999 p1=25.5 pct=-10.53\n",
      "p1=25.5 p2=28.0 pct=-10.53\n"
     ]
    },
    {
     "data": {
      "text/plain": [
       "array([None], dtype=object)"
      ]
     },
     "execution_count": 9,
     "metadata": {},
     "output_type": "execute_result"
    }
   ],
   "source": [
    "my_array = [[15000,28.50,3000,0.10,10]]\n",
    "tmp = (np.apply_along_axis(number_of_spread, axis=1, arr=my_array))\n",
    "tmp"
   ]
  },
  {
   "cell_type": "markdown",
   "metadata": {},
   "source": [
    "##### "
   ]
  },
  {
   "cell_type": "code",
   "execution_count": null,
   "metadata": {},
   "outputs": [],
   "source": []
  }
 ],
 "metadata": {
  "anaconda-cloud": {},
  "kernelspec": {
   "display_name": "Python 3 (ipykernel)",
   "language": "python",
   "name": "python3"
  },
  "language_info": {
   "codemirror_mode": {
    "name": "ipython",
    "version": 3
   },
   "file_extension": ".py",
   "mimetype": "text/x-python",
   "name": "python",
   "nbconvert_exporter": "python",
   "pygments_lexer": "ipython3",
   "version": "3.8.11"
  }
 },
 "nbformat": 4,
 "nbformat_minor": 1
}
