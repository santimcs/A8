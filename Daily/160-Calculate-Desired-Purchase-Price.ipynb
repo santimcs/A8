{
 "cells": [
  {
   "cell_type": "code",
   "execution_count": 1,
   "metadata": {},
   "outputs": [
    {
     "data": {
      "text/plain": [
       "(datetime.date(2022, 5, 11), datetime.date(2022, 5, 10))"
      ]
     },
     "execution_count": 1,
     "metadata": {},
     "output_type": "execute_result"
    }
   ],
   "source": [
    "import calendar\n",
    "import pandas as pd\n",
    "import numpy as np\n",
    "from datetime import date, timedelta\n",
    "from math import ceil, floor, trunc\n",
    "\n",
    "today = date.today()\n",
    "yesterday = today - timedelta(days=1)\n",
    "today, yesterday"
   ]
  },
  {
   "cell_type": "code",
   "execution_count": 2,
   "metadata": {},
   "outputs": [],
   "source": [
    "def number_of_spread(x):\n",
    "    q0 = x[0]   #old qty\n",
    "    p0 = x[1]   #old unit \n",
    "    old_unit_cost = x[1]\n",
    "    q1 = x[2]   #purchase qty\n",
    "    d1 = x[3]  #spread according to price range\n",
    "    c0 = x[4]  #desired down percent to adjust purchase price\n",
    "\n",
    "    a0 = q0 * p0 # amount\n",
    "    \n",
    "    i = 1000\n",
    "    pct = 0\n",
    "    pt = 0\n",
    "    dt = 0\n",
    "    p2 = 0\n",
    "    while i > 0:\n",
    "        p1 = p0 - d1  #simulated purchase price\n",
    "        p0 = p1\n",
    "        a1 = q1 * p1  #new purchase amt\n",
    "        q2 = q0 + q1  #new total qty\n",
    "        a2 = a0 + a1  #new cost amt\n",
    "        p2 = a2 / q2  #new unit cost\n",
    "\n",
    "        pt = round(p2 * 100,2)  #simulated purchase price multiply 100  \n",
    "        dt = d1 * 100           #spread according to price range multiply 100\n",
    "        \n",
    "        print('before if',i,'p1='+str(round(p1,2)),'a1='+str(round(a1,2)),'a2='+str(round(a2,2)),'p2='+str(round(p2,2)))\n",
    "        \n",
    "        if (pt % dt) == 0:\n",
    "            pct = ((p1 - old_unit_cost)/old_unit_cost) * 100\n",
    "            print ('in loop' ,i,'p2='+str(round(p2,2)),a2,'p1='+str(round(p1,2)),'pct='+str(round(pct,2)))\n",
    "            if abs(pct) < c0:\n",
    "                continue\n",
    "            break\n",
    "            \n",
    "        print ('out loop',i,'p2='+str(round(p2,2)),a2,'p1='+str(round(p1,2)),'pct='+str(round(pct,2)))            \n",
    "        i -= 1     \n",
    "        \n",
    "    return print('p1='+str(round(p1,2)),'p2='+str(round(p2,2)),'pct='+str(round(pct,2)))"
   ]
  },
  {
   "cell_type": "code",
   "execution_count": 5,
   "metadata": {},
   "outputs": [
    {
     "name": "stdout",
     "output_type": "stream",
     "text": [
      "before if 1000 p1=4.56 a1=68400.0 a2=480600.0 p2=4.58\n",
      "out loop 1000 p2=4.58 480600.0 p1=4.56 pct=0\n",
      "before if 999 p1=4.54 a1=68100.0 a2=480300.0 p2=4.57\n",
      "out loop 999 p2=4.57 480300.0 p1=4.54 pct=0\n",
      "before if 998 p1=4.52 a1=67800.0 a2=480000.0 p2=4.57\n",
      "out loop 998 p2=4.57 480000.0 p1=4.52 pct=0\n",
      "before if 997 p1=4.5 a1=67500.0 a2=479700.0 p2=4.57\n",
      "out loop 997 p2=4.57 479700.0 p1=4.5 pct=0\n",
      "before if 996 p1=4.48 a1=67200.0 a2=479400.0 p2=4.57\n",
      "out loop 996 p2=4.57 479400.0 p1=4.48 pct=0\n",
      "before if 995 p1=4.46 a1=66900.0 a2=479100.0 p2=4.56\n",
      "out loop 995 p2=4.56 479100.00000000006 p1=4.46 pct=0\n",
      "before if 994 p1=4.44 a1=66600.0 a2=478800.0 p2=4.56\n",
      "in loop 994 p2=4.56 478800.00000000006 p1=4.44 pct=-3.06\n",
      "before if 994 p1=4.42 a1=66300.0 a2=478500.0 p2=4.56\n",
      "out loop 994 p2=4.56 478500.00000000006 p1=4.42 pct=-3.06\n",
      "before if 993 p1=4.4 a1=66000.0 a2=478200.0 p2=4.55\n",
      "out loop 993 p2=4.55 478200.00000000006 p1=4.4 pct=-3.06\n",
      "before if 992 p1=4.38 a1=65700.0 a2=477900.0 p2=4.55\n",
      "out loop 992 p2=4.55 477900.00000000006 p1=4.38 pct=-3.06\n",
      "before if 991 p1=4.36 a1=65400.0 a2=477600.0 p2=4.55\n",
      "out loop 991 p2=4.55 477600.00000000006 p1=4.36 pct=-3.06\n",
      "before if 990 p1=4.34 a1=65100.0 a2=477300.0 p2=4.55\n",
      "out loop 990 p2=4.55 477300.00000000006 p1=4.34 pct=-3.06\n",
      "before if 989 p1=4.32 a1=64800.0 a2=477000.0 p2=4.54\n",
      "out loop 989 p2=4.54 477000.0000000001 p1=4.32 pct=-3.06\n",
      "before if 988 p1=4.3 a1=64500.0 a2=476700.0 p2=4.54\n",
      "in loop 988 p2=4.54 476700.0000000001 p1=4.3 pct=-6.11\n",
      "before if 988 p1=4.28 a1=64200.0 a2=476400.0 p2=4.54\n",
      "out loop 988 p2=4.54 476400.0000000001 p1=4.28 pct=-6.11\n",
      "before if 987 p1=4.26 a1=63900.0 a2=476100.0 p2=4.53\n",
      "out loop 987 p2=4.53 476100.0000000001 p1=4.26 pct=-6.11\n",
      "before if 986 p1=4.24 a1=63600.0 a2=475800.0 p2=4.53\n",
      "out loop 986 p2=4.53 475800.0000000001 p1=4.24 pct=-6.11\n",
      "before if 985 p1=4.22 a1=63300.0 a2=475500.0 p2=4.53\n",
      "out loop 985 p2=4.53 475500.0000000001 p1=4.22 pct=-6.11\n",
      "before if 984 p1=4.2 a1=63000.0 a2=475200.0 p2=4.53\n",
      "out loop 984 p2=4.53 475200.0000000001 p1=4.2 pct=-6.11\n",
      "before if 983 p1=4.18 a1=62700.0 a2=474900.0 p2=4.52\n",
      "out loop 983 p2=4.52 474900.0000000001 p1=4.18 pct=-6.11\n",
      "before if 982 p1=4.16 a1=62400.0 a2=474600.0 p2=4.52\n",
      "in loop 982 p2=4.52 474600.0000000001 p1=4.16 pct=-9.17\n",
      "before if 982 p1=4.14 a1=62100.0 a2=474300.0 p2=4.52\n",
      "out loop 982 p2=4.52 474300.0000000001 p1=4.14 pct=-9.17\n",
      "before if 981 p1=4.12 a1=61800.0 a2=474000.0 p2=4.51\n",
      "out loop 981 p2=4.51 474000.0000000001 p1=4.12 pct=-9.17\n",
      "before if 980 p1=4.1 a1=61500.0 a2=473700.0 p2=4.51\n",
      "out loop 980 p2=4.51 473700.0000000002 p1=4.1 pct=-9.17\n",
      "before if 979 p1=4.08 a1=61200.0 a2=473400.0 p2=4.51\n",
      "out loop 979 p2=4.51 473400.0000000002 p1=4.08 pct=-9.17\n",
      "before if 978 p1=4.06 a1=60900.0 a2=473100.0 p2=4.51\n",
      "out loop 978 p2=4.51 473100.0000000002 p1=4.06 pct=-9.17\n",
      "before if 977 p1=4.04 a1=60600.0 a2=472800.0 p2=4.5\n",
      "out loop 977 p2=4.5 472800.0000000002 p1=4.04 pct=-9.17\n",
      "before if 976 p1=4.02 a1=60300.0 a2=472500.0 p2=4.5\n",
      "in loop 976 p2=4.5 472500.0000000002 p1=4.02 pct=-12.23\n",
      "p1=4.02 p2=4.5 pct=-12.23\n"
     ]
    },
    {
     "data": {
      "text/plain": [
       "array([None], dtype=object)"
      ]
     },
     "execution_count": 5,
     "metadata": {},
     "output_type": "execute_result"
    }
   ],
   "source": [
    "my_array = [[90000,4.58,15000,.02,10]]\n",
    "tmp = (np.apply_along_axis(number_of_spread, axis=1, arr=my_array))\n",
    "tmp"
   ]
  },
  {
   "cell_type": "markdown",
   "metadata": {},
   "source": [
    "##### "
   ]
  },
  {
   "cell_type": "code",
   "execution_count": null,
   "metadata": {},
   "outputs": [],
   "source": []
  }
 ],
 "metadata": {
  "anaconda-cloud": {},
  "kernelspec": {
   "display_name": "Python 3 (ipykernel)",
   "language": "python",
   "name": "python3"
  },
  "language_info": {
   "codemirror_mode": {
    "name": "ipython",
    "version": 3
   },
   "file_extension": ".py",
   "mimetype": "text/x-python",
   "name": "python",
   "nbconvert_exporter": "python",
   "pygments_lexer": "ipython3",
   "version": "3.8.11"
  }
 },
 "nbformat": 4,
 "nbformat_minor": 1
}
