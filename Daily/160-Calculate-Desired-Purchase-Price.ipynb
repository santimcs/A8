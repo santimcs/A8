{
 "cells": [
  {
   "cell_type": "code",
   "execution_count": 1,
   "metadata": {},
   "outputs": [
    {
     "data": {
      "text/plain": [
       "(datetime.date(2022, 6, 9), datetime.date(2022, 6, 8))"
      ]
     },
     "execution_count": 1,
     "metadata": {},
     "output_type": "execute_result"
    }
   ],
   "source": [
    "import calendar\n",
    "import pandas as pd\n",
    "import numpy as np\n",
    "from datetime import date, timedelta\n",
    "from math import ceil, floor, trunc\n",
    "\n",
    "today = date.today()\n",
    "yesterday = today - timedelta(days=1)\n",
    "today, yesterday"
   ]
  },
  {
   "cell_type": "code",
   "execution_count": 2,
   "metadata": {},
   "outputs": [],
   "source": [
    "def number_of_spread(x):\n",
    "    q0 = x[0]   #old qty\n",
    "    p0 = x[1]   #old unit \n",
    "    old_unit_cost = x[1]\n",
    "    q1 = x[2]   #purchase qty\n",
    "    d1 = x[3]  #spread according to price range\n",
    "    c0 = x[4]  #desired down percent to adjust purchase price\n",
    "\n",
    "    a0 = q0 * p0 # amount\n",
    "    \n",
    "    i = 1000\n",
    "    pct = 0\n",
    "    pt = 0\n",
    "    dt = 0\n",
    "    p2 = 0\n",
    "    while i > 0:\n",
    "        p1 = p0 - d1  #simulated purchase price\n",
    "        p0 = p1\n",
    "        a1 = q1 * p1  #new purchase amt\n",
    "        q2 = q0 + q1  #new total qty\n",
    "        a2 = a0 + a1  #new cost amt\n",
    "        p2 = a2 / q2  #new unit cost\n",
    "\n",
    "        pt = round(p2 * 100,2)  #simulated purchase price multiply 100  \n",
    "        dt = d1 * 100           #spread according to price range multiply 100\n",
    "        \n",
    "        print('before if',i,'p1='+str(round(p1,2)),'a1='+str(round(a1,2)),'a2='+str(round(a2,2)),'p2='+str(round(p2,2)))\n",
    "        \n",
    "        if (pt % dt) == 0:\n",
    "            pct = ((p1 - old_unit_cost)/old_unit_cost) * 100\n",
    "            print ('in loop' ,i,'p2='+str(round(p2,2)),a2,'p1='+str(round(p1,2)),'pct='+str(round(pct,2)))\n",
    "            if abs(pct) < c0:\n",
    "                continue\n",
    "            break\n",
    "            \n",
    "        print ('out loop',i,'p2='+str(round(p2,2)),a2,'p1='+str(round(p1,2)),'pct='+str(round(pct,2)))            \n",
    "        i -= 1     \n",
    "        \n",
    "    return print('p1='+str(round(p1,2)),'p2='+str(round(p2,2)),'pct='+str(round(pct,2)))"
   ]
  },
  {
   "cell_type": "code",
   "execution_count": 4,
   "metadata": {},
   "outputs": [
    {
     "name": "stdout",
     "output_type": "stream",
     "text": [
      "before if 1000 p1=47.0 a1=141000.0 a2=708000.0 p2=47.2\n",
      "out loop 1000 p2=47.2 708000.0 p1=47.0 pct=0\n",
      "before if 999 p1=46.75 a1=140250.0 a2=707250.0 p2=47.15\n",
      "out loop 999 p2=47.15 707250.0 p1=46.75 pct=0\n",
      "before if 998 p1=46.5 a1=139500.0 a2=706500.0 p2=47.1\n",
      "out loop 998 p2=47.1 706500.0 p1=46.5 pct=0\n",
      "before if 997 p1=46.25 a1=138750.0 a2=705750.0 p2=47.05\n",
      "out loop 997 p2=47.05 705750.0 p1=46.25 pct=0\n",
      "before if 996 p1=46.0 a1=138000.0 a2=705000.0 p2=47.0\n",
      "in loop 996 p2=47.0 705000.0 p1=46.0 pct=-2.65\n",
      "before if 996 p1=45.75 a1=137250.0 a2=704250.0 p2=46.95\n",
      "out loop 996 p2=46.95 704250.0 p1=45.75 pct=-2.65\n",
      "before if 995 p1=45.5 a1=136500.0 a2=703500.0 p2=46.9\n",
      "out loop 995 p2=46.9 703500.0 p1=45.5 pct=-2.65\n",
      "before if 994 p1=45.25 a1=135750.0 a2=702750.0 p2=46.85\n",
      "out loop 994 p2=46.85 702750.0 p1=45.25 pct=-2.65\n",
      "before if 993 p1=45.0 a1=135000.0 a2=702000.0 p2=46.8\n",
      "out loop 993 p2=46.8 702000.0 p1=45.0 pct=-2.65\n",
      "before if 992 p1=44.75 a1=134250.0 a2=701250.0 p2=46.75\n",
      "in loop 992 p2=46.75 701250.0 p1=44.75 pct=-5.29\n",
      "before if 992 p1=44.5 a1=133500.0 a2=700500.0 p2=46.7\n",
      "out loop 992 p2=46.7 700500.0 p1=44.5 pct=-5.29\n",
      "before if 991 p1=44.25 a1=132750.0 a2=699750.0 p2=46.65\n",
      "out loop 991 p2=46.65 699750.0 p1=44.25 pct=-5.29\n",
      "before if 990 p1=44.0 a1=132000.0 a2=699000.0 p2=46.6\n",
      "out loop 990 p2=46.6 699000.0 p1=44.0 pct=-5.29\n",
      "before if 989 p1=43.75 a1=131250.0 a2=698250.0 p2=46.55\n",
      "out loop 989 p2=46.55 698250.0 p1=43.75 pct=-5.29\n",
      "before if 988 p1=43.5 a1=130500.0 a2=697500.0 p2=46.5\n",
      "in loop 988 p2=46.5 697500.0 p1=43.5 pct=-7.94\n",
      "before if 988 p1=43.25 a1=129750.0 a2=696750.0 p2=46.45\n",
      "out loop 988 p2=46.45 696750.0 p1=43.25 pct=-7.94\n",
      "before if 987 p1=43.0 a1=129000.0 a2=696000.0 p2=46.4\n",
      "out loop 987 p2=46.4 696000.0 p1=43.0 pct=-7.94\n",
      "before if 986 p1=42.75 a1=128250.0 a2=695250.0 p2=46.35\n",
      "out loop 986 p2=46.35 695250.0 p1=42.75 pct=-7.94\n",
      "before if 985 p1=42.5 a1=127500.0 a2=694500.0 p2=46.3\n",
      "out loop 985 p2=46.3 694500.0 p1=42.5 pct=-7.94\n",
      "before if 984 p1=42.25 a1=126750.0 a2=693750.0 p2=46.25\n",
      "in loop 984 p2=46.25 693750.0 p1=42.25 pct=-10.58\n",
      "before if 984 p1=42.0 a1=126000.0 a2=693000.0 p2=46.2\n",
      "out loop 984 p2=46.2 693000.0 p1=42.0 pct=-10.58\n",
      "before if 983 p1=41.75 a1=125250.0 a2=692250.0 p2=46.15\n",
      "out loop 983 p2=46.15 692250.0 p1=41.75 pct=-10.58\n",
      "before if 982 p1=41.5 a1=124500.0 a2=691500.0 p2=46.1\n",
      "out loop 982 p2=46.1 691500.0 p1=41.5 pct=-10.58\n",
      "before if 981 p1=41.25 a1=123750.0 a2=690750.0 p2=46.05\n",
      "out loop 981 p2=46.05 690750.0 p1=41.25 pct=-10.58\n",
      "before if 980 p1=41.0 a1=123000.0 a2=690000.0 p2=46.0\n",
      "in loop 980 p2=46.0 690000.0 p1=41.0 pct=-13.23\n",
      "before if 980 p1=40.75 a1=122250.0 a2=689250.0 p2=45.95\n",
      "out loop 980 p2=45.95 689250.0 p1=40.75 pct=-13.23\n",
      "before if 979 p1=40.5 a1=121500.0 a2=688500.0 p2=45.9\n",
      "out loop 979 p2=45.9 688500.0 p1=40.5 pct=-13.23\n",
      "before if 978 p1=40.25 a1=120750.0 a2=687750.0 p2=45.85\n",
      "out loop 978 p2=45.85 687750.0 p1=40.25 pct=-13.23\n",
      "before if 977 p1=40.0 a1=120000.0 a2=687000.0 p2=45.8\n",
      "out loop 977 p2=45.8 687000.0 p1=40.0 pct=-13.23\n",
      "before if 976 p1=39.75 a1=119250.0 a2=686250.0 p2=45.75\n",
      "in loop 976 p2=45.75 686250.0 p1=39.75 pct=-15.87\n",
      "p1=39.75 p2=45.75 pct=-15.87\n"
     ]
    },
    {
     "data": {
      "text/plain": [
       "array([None], dtype=object)"
      ]
     },
     "execution_count": 4,
     "metadata": {},
     "output_type": "execute_result"
    }
   ],
   "source": [
    "my_array = [[12000,47.25,3000,.25,15]]\n",
    "tmp = (np.apply_along_axis(number_of_spread, axis=1, arr=my_array))\n",
    "tmp"
   ]
  },
  {
   "cell_type": "markdown",
   "metadata": {},
   "source": [
    "##### "
   ]
  },
  {
   "cell_type": "code",
   "execution_count": null,
   "metadata": {},
   "outputs": [],
   "source": []
  }
 ],
 "metadata": {
  "anaconda-cloud": {},
  "kernelspec": {
   "display_name": "Python 3 (ipykernel)",
   "language": "python",
   "name": "python3"
  },
  "language_info": {
   "codemirror_mode": {
    "name": "ipython",
    "version": 3
   },
   "file_extension": ".py",
   "mimetype": "text/x-python",
   "name": "python",
   "nbconvert_exporter": "python",
   "pygments_lexer": "ipython3",
   "version": "3.8.11"
  }
 },
 "nbformat": 4,
 "nbformat_minor": 1
}
