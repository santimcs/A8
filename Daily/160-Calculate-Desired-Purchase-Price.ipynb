{
 "cells": [
  {
   "cell_type": "code",
   "execution_count": 1,
   "metadata": {},
   "outputs": [
    {
     "data": {
      "text/plain": [
       "(datetime.date(2022, 2, 16), datetime.date(2022, 2, 15))"
      ]
     },
     "execution_count": 1,
     "metadata": {},
     "output_type": "execute_result"
    }
   ],
   "source": [
    "import calendar\n",
    "import pandas as pd\n",
    "import numpy as np\n",
    "from datetime import date, timedelta\n",
    "from math import ceil, floor, trunc\n",
    "\n",
    "today = date.today()\n",
    "yesterday = today - timedelta(days=1)\n",
    "today, yesterday"
   ]
  },
  {
   "cell_type": "code",
   "execution_count": 2,
   "metadata": {},
   "outputs": [],
   "source": [
    "def number_of_spread(x):\n",
    "    q0 = x[0]   #old qty\n",
    "    p0 = x[1]   #old unit \n",
    "    old_unit_cost = x[1]\n",
    "    q1 = x[2]   #purchase qty\n",
    "    d1 = x[3]  #spread according to price range\n",
    "    c0 = x[4]  #desired down percent to adjust purchase price\n",
    "\n",
    "    a0 = q0 * p0 # amount\n",
    "    \n",
    "    i = 1000\n",
    "    pct = 0\n",
    "    pt = 0\n",
    "    dt = 0\n",
    "    p2 = 0\n",
    "    while i > 0:\n",
    "        p1 = p0 - d1  #simulated purchase price\n",
    "        p0 = p1\n",
    "        a1 = q1 * p1  #new purchase amt\n",
    "        q2 = q0 + q1  #new total qty\n",
    "        a2 = a0 + a1  #new cost amt\n",
    "        p2 = a2 / q2  #new unit cost\n",
    "\n",
    "        pt = round(p2 * 100,2)  #simulated purchase price multiply 100  \n",
    "        dt = d1 * 100           #spread according to price range multiply 100\n",
    "        \n",
    "        print('before if',i,'p1='+str(round(p1,2)),'a1='+str(round(a1,2)),'a2='+str(round(a2,2)),'p2='+str(round(p2,2)))\n",
    "        \n",
    "        if (pt % dt) == 0:\n",
    "            pct = (p1 - old_unit_cost)/old_unit_cost * 100\n",
    "            print ('in loop' ,i,'p2='+str(round(p2,2)),a2,'p1='+str(round(p1,2)),'pct='+str(round(pct,2)))\n",
    "            if abs(pct) < c0:\n",
    "                continue\n",
    "            break\n",
    "            \n",
    "        print ('out loop',i,'p2='+str(round(p2,2)),a2,'p1='+str(round(p1,2)),'pct='+str(round(pct,2)))            \n",
    "        i -= 1     \n",
    "        \n",
    "    return print('p1='+str(round(p1,2)),'p2='+str(round(p2,2)),'pct='+str(round(pct,2)))"
   ]
  },
  {
   "cell_type": "code",
   "execution_count": 4,
   "metadata": {},
   "outputs": [
    {
     "name": "stdout",
     "output_type": "stream",
     "text": [
      "before if 1000 p1=28.25 a1=84750.0 a2=512250.0 p2=28.46\n",
      "out loop 1000 p2=28.46 512250.0 p1=28.25 pct=0\n",
      "before if 999 p1=28.0 a1=84000.0 a2=511500.0 p2=28.42\n",
      "out loop 999 p2=28.42 511500.0 p1=28.0 pct=0\n",
      "before if 998 p1=27.75 a1=83250.0 a2=510750.0 p2=28.38\n",
      "out loop 998 p2=28.38 510750.0 p1=27.75 pct=0\n",
      "before if 997 p1=27.5 a1=82500.0 a2=510000.0 p2=28.33\n",
      "out loop 997 p2=28.33 510000.0 p1=27.5 pct=0\n",
      "before if 996 p1=27.25 a1=81750.0 a2=509250.0 p2=28.29\n",
      "out loop 996 p2=28.29 509250.0 p1=27.25 pct=0\n",
      "before if 995 p1=27.0 a1=81000.0 a2=508500.0 p2=28.25\n",
      "in loop 995 p2=28.25 508500.0 p1=27.0 pct=-5.26\n",
      "before if 995 p1=26.75 a1=80250.0 a2=507750.0 p2=28.21\n",
      "out loop 995 p2=28.21 507750.0 p1=26.75 pct=-5.26\n",
      "before if 994 p1=26.5 a1=79500.0 a2=507000.0 p2=28.17\n",
      "out loop 994 p2=28.17 507000.0 p1=26.5 pct=-5.26\n",
      "before if 993 p1=26.25 a1=78750.0 a2=506250.0 p2=28.12\n",
      "out loop 993 p2=28.12 506250.0 p1=26.25 pct=-5.26\n",
      "before if 992 p1=26.0 a1=78000.0 a2=505500.0 p2=28.08\n",
      "out loop 992 p2=28.08 505500.0 p1=26.0 pct=-5.26\n",
      "before if 991 p1=25.75 a1=77250.0 a2=504750.0 p2=28.04\n",
      "out loop 991 p2=28.04 504750.0 p1=25.75 pct=-5.26\n",
      "before if 990 p1=25.5 a1=76500.0 a2=504000.0 p2=28.0\n",
      "in loop 990 p2=28.0 504000.0 p1=25.5 pct=-10.53\n",
      "before if 990 p1=25.25 a1=75750.0 a2=503250.0 p2=27.96\n",
      "out loop 990 p2=27.96 503250.0 p1=25.25 pct=-10.53\n",
      "before if 989 p1=25.0 a1=75000.0 a2=502500.0 p2=27.92\n",
      "out loop 989 p2=27.92 502500.0 p1=25.0 pct=-10.53\n",
      "before if 988 p1=24.75 a1=74250.0 a2=501750.0 p2=27.88\n",
      "out loop 988 p2=27.88 501750.0 p1=24.75 pct=-10.53\n",
      "before if 987 p1=24.5 a1=73500.0 a2=501000.0 p2=27.83\n",
      "out loop 987 p2=27.83 501000.0 p1=24.5 pct=-10.53\n",
      "before if 986 p1=24.25 a1=72750.0 a2=500250.0 p2=27.79\n",
      "out loop 986 p2=27.79 500250.0 p1=24.25 pct=-10.53\n",
      "before if 985 p1=24.0 a1=72000.0 a2=499500.0 p2=27.75\n",
      "in loop 985 p2=27.75 499500.0 p1=24.0 pct=-15.79\n",
      "p1=24.0 p2=27.75 pct=-15.79\n"
     ]
    },
    {
     "data": {
      "text/plain": [
       "array([None], dtype=object)"
      ]
     },
     "execution_count": 4,
     "metadata": {},
     "output_type": "execute_result"
    }
   ],
   "source": [
    "my_array = [[15000,28.5,3000,0.25,15]]\n",
    "tmp = (np.apply_along_axis(number_of_spread, axis=1, arr=my_array))\n",
    "tmp"
   ]
  },
  {
   "cell_type": "markdown",
   "metadata": {},
   "source": [
    "##### "
   ]
  },
  {
   "cell_type": "code",
   "execution_count": null,
   "metadata": {},
   "outputs": [],
   "source": []
  }
 ],
 "metadata": {
  "anaconda-cloud": {},
  "kernelspec": {
   "display_name": "Python 3 (ipykernel)",
   "language": "python",
   "name": "python3"
  },
  "language_info": {
   "codemirror_mode": {
    "name": "ipython",
    "version": 3
   },
   "file_extension": ".py",
   "mimetype": "text/x-python",
   "name": "python",
   "nbconvert_exporter": "python",
   "pygments_lexer": "ipython3",
   "version": "3.8.11"
  }
 },
 "nbformat": 4,
 "nbformat_minor": 1
}
