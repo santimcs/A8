{
 "cells": [
  {
   "cell_type": "code",
   "execution_count": 1,
   "metadata": {},
   "outputs": [
    {
     "data": {
      "text/plain": [
       "(datetime.date(2022, 5, 12), datetime.date(2022, 5, 11))"
      ]
     },
     "execution_count": 1,
     "metadata": {},
     "output_type": "execute_result"
    }
   ],
   "source": [
    "import calendar\n",
    "import pandas as pd\n",
    "import numpy as np\n",
    "from datetime import date, timedelta\n",
    "from math import ceil, floor, trunc\n",
    "\n",
    "today = date.today()\n",
    "yesterday = today - timedelta(days=1)\n",
    "today, yesterday"
   ]
  },
  {
   "cell_type": "code",
   "execution_count": 2,
   "metadata": {},
   "outputs": [],
   "source": [
    "def number_of_spread(x):\n",
    "    q0 = x[0]   #old qty\n",
    "    p0 = x[1]   #old unit \n",
    "    old_unit_cost = x[1]\n",
    "    q1 = x[2]   #purchase qty\n",
    "    d1 = x[3]  #spread according to price range\n",
    "    c0 = x[4]  #desired down percent to adjust purchase price\n",
    "\n",
    "    a0 = q0 * p0 # amount\n",
    "    \n",
    "    i = 1000\n",
    "    pct = 0\n",
    "    pt = 0\n",
    "    dt = 0\n",
    "    p2 = 0\n",
    "    while i > 0:\n",
    "        p1 = p0 - d1  #simulated purchase price\n",
    "        p0 = p1\n",
    "        a1 = q1 * p1  #new purchase amt\n",
    "        q2 = q0 + q1  #new total qty\n",
    "        a2 = a0 + a1  #new cost amt\n",
    "        p2 = a2 / q2  #new unit cost\n",
    "\n",
    "        pt = round(p2 * 100,2)  #simulated purchase price multiply 100  \n",
    "        dt = d1 * 100           #spread according to price range multiply 100\n",
    "        \n",
    "        print('before if',i,'p1='+str(round(p1,2)),'a1='+str(round(a1,2)),'a2='+str(round(a2,2)),'p2='+str(round(p2,2)))\n",
    "        \n",
    "        if (pt % dt) == 0:\n",
    "            pct = ((p1 - old_unit_cost)/old_unit_cost) * 100\n",
    "            print ('in loop' ,i,'p2='+str(round(p2,2)),a2,'p1='+str(round(p1,2)),'pct='+str(round(pct,2)))\n",
    "            if abs(pct) < c0:\n",
    "                continue\n",
    "            break\n",
    "            \n",
    "        print ('out loop',i,'p2='+str(round(p2,2)),a2,'p1='+str(round(p1,2)),'pct='+str(round(pct,2)))            \n",
    "        i -= 1     \n",
    "        \n",
    "    return print('p1='+str(round(p1,2)),'p2='+str(round(p2,2)),'pct='+str(round(pct,2)))"
   ]
  },
  {
   "cell_type": "code",
   "execution_count": 4,
   "metadata": {},
   "outputs": [
    {
     "name": "stdout",
     "output_type": "stream",
     "text": [
      "before if 1000 p1=4.46 a1=66900.0 a2=537300.0 p2=4.48\n",
      "out loop 1000 p2=4.48 537300.0000000001 p1=4.46 pct=0\n",
      "before if 999 p1=4.44 a1=66600.0 a2=537000.0 p2=4.48\n",
      "out loop 999 p2=4.48 537000.0000000001 p1=4.44 pct=0\n",
      "before if 998 p1=4.42 a1=66300.0 a2=536700.0 p2=4.47\n",
      "out loop 998 p2=4.47 536700.0000000001 p1=4.42 pct=0\n",
      "before if 997 p1=4.4 a1=66000.0 a2=536400.0 p2=4.47\n",
      "out loop 997 p2=4.47 536400.0000000001 p1=4.4 pct=0\n",
      "before if 996 p1=4.38 a1=65700.0 a2=536100.0 p2=4.47\n",
      "out loop 996 p2=4.47 536100.0000000001 p1=4.38 pct=0\n",
      "before if 995 p1=4.36 a1=65400.0 a2=535800.0 p2=4.47\n",
      "out loop 995 p2=4.47 535800.0000000001 p1=4.36 pct=0\n",
      "before if 994 p1=4.34 a1=65100.0 a2=535500.0 p2=4.46\n",
      "out loop 994 p2=4.46 535500.0000000001 p1=4.34 pct=0\n",
      "before if 993 p1=4.32 a1=64800.0 a2=535200.0 p2=4.46\n",
      "in loop 993 p2=4.46 535200.0000000001 p1=4.32 pct=-3.57\n",
      "before if 993 p1=4.3 a1=64500.0 a2=534900.0 p2=4.46\n",
      "out loop 993 p2=4.46 534900.0000000001 p1=4.3 pct=-3.57\n",
      "before if 992 p1=4.28 a1=64200.0 a2=534600.0 p2=4.46\n",
      "out loop 992 p2=4.46 534600.0000000001 p1=4.28 pct=-3.57\n",
      "before if 991 p1=4.26 a1=63900.0 a2=534300.0 p2=4.45\n",
      "out loop 991 p2=4.45 534300.0000000001 p1=4.26 pct=-3.57\n",
      "before if 990 p1=4.24 a1=63600.0 a2=534000.0 p2=4.45\n",
      "out loop 990 p2=4.45 534000.0000000001 p1=4.24 pct=-3.57\n",
      "before if 989 p1=4.22 a1=63300.0 a2=533700.0 p2=4.45\n",
      "out loop 989 p2=4.45 533700.0000000001 p1=4.22 pct=-3.57\n",
      "before if 988 p1=4.2 a1=63000.0 a2=533400.0 p2=4.45\n",
      "out loop 988 p2=4.45 533400.0000000001 p1=4.2 pct=-3.57\n",
      "before if 987 p1=4.18 a1=62700.0 a2=533100.0 p2=4.44\n",
      "out loop 987 p2=4.44 533100.0000000001 p1=4.18 pct=-3.57\n",
      "before if 986 p1=4.16 a1=62400.0 a2=532800.0 p2=4.44\n",
      "in loop 986 p2=4.44 532800.0000000001 p1=4.16 pct=-7.14\n",
      "before if 986 p1=4.14 a1=62100.0 a2=532500.0 p2=4.44\n",
      "out loop 986 p2=4.44 532500.0000000002 p1=4.14 pct=-7.14\n",
      "before if 985 p1=4.12 a1=61800.0 a2=532200.0 p2=4.44\n",
      "out loop 985 p2=4.44 532200.0000000002 p1=4.12 pct=-7.14\n",
      "before if 984 p1=4.1 a1=61500.0 a2=531900.0 p2=4.43\n",
      "out loop 984 p2=4.43 531900.0000000002 p1=4.1 pct=-7.14\n",
      "before if 983 p1=4.08 a1=61200.0 a2=531600.0 p2=4.43\n",
      "out loop 983 p2=4.43 531600.0000000002 p1=4.08 pct=-7.14\n",
      "before if 982 p1=4.06 a1=60900.0 a2=531300.0 p2=4.43\n",
      "out loop 982 p2=4.43 531300.0000000002 p1=4.06 pct=-7.14\n",
      "before if 981 p1=4.04 a1=60600.0 a2=531000.0 p2=4.43\n",
      "out loop 981 p2=4.43 531000.0000000002 p1=4.04 pct=-7.14\n",
      "before if 980 p1=4.02 a1=60300.0 a2=530700.0 p2=4.42\n",
      "out loop 980 p2=4.42 530700.0000000002 p1=4.02 pct=-7.14\n",
      "before if 979 p1=4.0 a1=60000.0 a2=530400.0 p2=4.42\n",
      "in loop 979 p2=4.42 530400.0000000002 p1=4.0 pct=-10.71\n",
      "before if 979 p1=3.98 a1=59700.0 a2=530100.0 p2=4.42\n",
      "out loop 979 p2=4.42 530100.0000000002 p1=3.98 pct=-10.71\n",
      "before if 978 p1=3.96 a1=59400.0 a2=529800.0 p2=4.42\n",
      "out loop 978 p2=4.42 529800.0000000002 p1=3.96 pct=-10.71\n",
      "before if 977 p1=3.94 a1=59100.0 a2=529500.0 p2=4.41\n",
      "out loop 977 p2=4.41 529500.0000000002 p1=3.94 pct=-10.71\n",
      "before if 976 p1=3.92 a1=58800.0 a2=529200.0 p2=4.41\n",
      "out loop 976 p2=4.41 529200.0000000002 p1=3.92 pct=-10.71\n",
      "before if 975 p1=3.9 a1=58500.0 a2=528900.0 p2=4.41\n",
      "out loop 975 p2=4.41 528900.0000000002 p1=3.9 pct=-10.71\n",
      "before if 974 p1=3.88 a1=58200.0 a2=528600.0 p2=4.41\n",
      "out loop 974 p2=4.41 528600.0000000002 p1=3.88 pct=-10.71\n",
      "before if 973 p1=3.86 a1=57900.0 a2=528300.0 p2=4.4\n",
      "out loop 973 p2=4.4 528300.0000000002 p1=3.86 pct=-10.71\n",
      "before if 972 p1=3.84 a1=57600.0 a2=528000.0 p2=4.4\n",
      "in loop 972 p2=4.4 528000.0000000002 p1=3.84 pct=-14.29\n",
      "before if 972 p1=3.82 a1=57300.0 a2=527700.0 p2=4.4\n",
      "out loop 972 p2=4.4 527700.0000000002 p1=3.82 pct=-14.29\n",
      "before if 971 p1=3.8 a1=57000.0 a2=527400.0 p2=4.4\n",
      "out loop 971 p2=4.4 527400.0000000002 p1=3.8 pct=-14.29\n",
      "before if 970 p1=3.78 a1=56700.0 a2=527100.0 p2=4.39\n",
      "out loop 970 p2=4.39 527100.0000000002 p1=3.78 pct=-14.29\n",
      "before if 969 p1=3.76 a1=56400.0 a2=526800.0 p2=4.39\n",
      "out loop 969 p2=4.39 526800.0000000002 p1=3.76 pct=-14.29\n",
      "before if 968 p1=3.74 a1=56100.0 a2=526500.0 p2=4.39\n",
      "out loop 968 p2=4.39 526500.0000000002 p1=3.74 pct=-14.29\n",
      "before if 967 p1=3.72 a1=55800.0 a2=526200.0 p2=4.39\n",
      "out loop 967 p2=4.39 526200.0000000002 p1=3.72 pct=-14.29\n",
      "before if 966 p1=3.7 a1=55500.0 a2=525900.0 p2=4.38\n",
      "out loop 966 p2=4.38 525900.0000000002 p1=3.7 pct=-14.29\n",
      "before if 965 p1=3.68 a1=55200.0 a2=525600.0 p2=4.38\n",
      "in loop 965 p2=4.38 525600.0000000002 p1=3.68 pct=-17.86\n",
      "p1=3.68 p2=4.38 pct=-17.86\n"
     ]
    },
    {
     "data": {
      "text/plain": [
       "array([None], dtype=object)"
      ]
     },
     "execution_count": 4,
     "metadata": {},
     "output_type": "execute_result"
    }
   ],
   "source": [
    "my_array = [[105000,4.48,15000,.02,15]]\n",
    "tmp = (np.apply_along_axis(number_of_spread, axis=1, arr=my_array))\n",
    "tmp"
   ]
  },
  {
   "cell_type": "markdown",
   "metadata": {},
   "source": [
    "##### "
   ]
  },
  {
   "cell_type": "code",
   "execution_count": null,
   "metadata": {},
   "outputs": [],
   "source": []
  }
 ],
 "metadata": {
  "anaconda-cloud": {},
  "kernelspec": {
   "display_name": "Python 3 (ipykernel)",
   "language": "python",
   "name": "python3"
  },
  "language_info": {
   "codemirror_mode": {
    "name": "ipython",
    "version": 3
   },
   "file_extension": ".py",
   "mimetype": "text/x-python",
   "name": "python",
   "nbconvert_exporter": "python",
   "pygments_lexer": "ipython3",
   "version": "3.8.11"
  }
 },
 "nbformat": 4,
 "nbformat_minor": 1
}
