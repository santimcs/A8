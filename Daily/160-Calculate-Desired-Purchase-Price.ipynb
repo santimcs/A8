{
 "cells": [
  {
   "cell_type": "code",
   "execution_count": 1,
   "metadata": {},
   "outputs": [
    {
     "data": {
      "text/plain": [
       "(datetime.date(2022, 5, 5), datetime.date(2022, 5, 4))"
      ]
     },
     "execution_count": 1,
     "metadata": {},
     "output_type": "execute_result"
    }
   ],
   "source": [
    "import calendar\n",
    "import pandas as pd\n",
    "import numpy as np\n",
    "from datetime import date, timedelta\n",
    "from math import ceil, floor, trunc\n",
    "\n",
    "today = date.today()\n",
    "yesterday = today - timedelta(days=1)\n",
    "today, yesterday"
   ]
  },
  {
   "cell_type": "code",
   "execution_count": 2,
   "metadata": {},
   "outputs": [],
   "source": [
    "def number_of_spread(x):\n",
    "    q0 = x[0]   #old qty\n",
    "    p0 = x[1]   #old unit \n",
    "    old_unit_cost = x[1]\n",
    "    q1 = x[2]   #purchase qty\n",
    "    d1 = x[3]  #spread according to price range\n",
    "    c0 = x[4]  #desired down percent to adjust purchase price\n",
    "\n",
    "    a0 = q0 * p0 # amount\n",
    "    \n",
    "    i = 1000\n",
    "    pct = 0\n",
    "    pt = 0\n",
    "    dt = 0\n",
    "    p2 = 0\n",
    "    while i > 0:\n",
    "        p1 = p0 - d1  #simulated purchase price\n",
    "        p0 = p1\n",
    "        a1 = q1 * p1  #new purchase amt\n",
    "        q2 = q0 + q1  #new total qty\n",
    "        a2 = a0 + a1  #new cost amt\n",
    "        p2 = a2 / q2  #new unit cost\n",
    "\n",
    "        pt = round(p2 * 100,2)  #simulated purchase price multiply 100  \n",
    "        dt = d1 * 100           #spread according to price range multiply 100\n",
    "        \n",
    "        print('before if',i,'p1='+str(round(p1,2)),'a1='+str(round(a1,2)),'a2='+str(round(a2,2)),'p2='+str(round(p2,2)))\n",
    "        \n",
    "        if (pt % dt) == 0:\n",
    "            pct = ((p1 - old_unit_cost)/old_unit_cost) * 100\n",
    "            print ('in loop' ,i,'p2='+str(round(p2,2)),a2,'p1='+str(round(p1,2)),'pct='+str(round(pct,2)))\n",
    "            if abs(pct) < c0:\n",
    "                continue\n",
    "            break\n",
    "            \n",
    "        print ('out loop',i,'p2='+str(round(p2,2)),a2,'p1='+str(round(p1,2)),'pct='+str(round(pct,2)))            \n",
    "        i -= 1     \n",
    "        \n",
    "    return print('p1='+str(round(p1,2)),'p2='+str(round(p2,2)),'pct='+str(round(pct,2)))"
   ]
  },
  {
   "cell_type": "code",
   "execution_count": 8,
   "metadata": {},
   "outputs": [
    {
     "name": "stdout",
     "output_type": "stream",
     "text": [
      "before if 1000 p1=33.5 a1=50250.0 a2=809625.0 p2=33.73\n",
      "out loop 1000 p2=33.73 809625.0 p1=33.5 pct=0\n",
      "before if 999 p1=33.25 a1=49875.0 a2=809250.0 p2=33.72\n",
      "out loop 999 p2=33.72 809250.0 p1=33.25 pct=0\n",
      "before if 998 p1=33.0 a1=49500.0 a2=808875.0 p2=33.7\n",
      "out loop 998 p2=33.7 808875.0 p1=33.0 pct=0\n",
      "before if 997 p1=32.75 a1=49125.0 a2=808500.0 p2=33.69\n",
      "out loop 997 p2=33.69 808500.0 p1=32.75 pct=0\n",
      "before if 996 p1=32.5 a1=48750.0 a2=808125.0 p2=33.67\n",
      "out loop 996 p2=33.67 808125.0 p1=32.5 pct=0\n",
      "before if 995 p1=32.25 a1=48375.0 a2=807750.0 p2=33.66\n",
      "out loop 995 p2=33.66 807750.0 p1=32.25 pct=0\n",
      "before if 994 p1=32.0 a1=48000.0 a2=807375.0 p2=33.64\n",
      "out loop 994 p2=33.64 807375.0 p1=32.0 pct=0\n",
      "before if 993 p1=31.75 a1=47625.0 a2=807000.0 p2=33.62\n",
      "out loop 993 p2=33.62 807000.0 p1=31.75 pct=0\n",
      "before if 992 p1=31.5 a1=47250.0 a2=806625.0 p2=33.61\n",
      "out loop 992 p2=33.61 806625.0 p1=31.5 pct=0\n",
      "before if 991 p1=31.25 a1=46875.0 a2=806250.0 p2=33.59\n",
      "out loop 991 p2=33.59 806250.0 p1=31.25 pct=0\n",
      "before if 990 p1=31.0 a1=46500.0 a2=805875.0 p2=33.58\n",
      "out loop 990 p2=33.58 805875.0 p1=31.0 pct=0\n",
      "before if 989 p1=30.75 a1=46125.0 a2=805500.0 p2=33.56\n",
      "out loop 989 p2=33.56 805500.0 p1=30.75 pct=0\n",
      "before if 988 p1=30.5 a1=45750.0 a2=805125.0 p2=33.55\n",
      "out loop 988 p2=33.55 805125.0 p1=30.5 pct=0\n",
      "before if 987 p1=30.25 a1=45375.0 a2=804750.0 p2=33.53\n",
      "out loop 987 p2=33.53 804750.0 p1=30.25 pct=0\n",
      "before if 986 p1=30.0 a1=45000.0 a2=804375.0 p2=33.52\n",
      "out loop 986 p2=33.52 804375.0 p1=30.0 pct=0\n",
      "before if 985 p1=29.75 a1=44625.0 a2=804000.0 p2=33.5\n",
      "in loop 985 p2=33.5 804000.0 p1=29.75 pct=-11.85\n",
      "before if 985 p1=29.5 a1=44250.0 a2=803625.0 p2=33.48\n",
      "out loop 985 p2=33.48 803625.0 p1=29.5 pct=-11.85\n",
      "before if 984 p1=29.25 a1=43875.0 a2=803250.0 p2=33.47\n",
      "out loop 984 p2=33.47 803250.0 p1=29.25 pct=-11.85\n",
      "before if 983 p1=29.0 a1=43500.0 a2=802875.0 p2=33.45\n",
      "out loop 983 p2=33.45 802875.0 p1=29.0 pct=-11.85\n",
      "before if 982 p1=28.75 a1=43125.0 a2=802500.0 p2=33.44\n",
      "out loop 982 p2=33.44 802500.0 p1=28.75 pct=-11.85\n",
      "before if 981 p1=28.5 a1=42750.0 a2=802125.0 p2=33.42\n",
      "out loop 981 p2=33.42 802125.0 p1=28.5 pct=-11.85\n",
      "before if 980 p1=28.25 a1=42375.0 a2=801750.0 p2=33.41\n",
      "out loop 980 p2=33.41 801750.0 p1=28.25 pct=-11.85\n",
      "before if 979 p1=28.0 a1=42000.0 a2=801375.0 p2=33.39\n",
      "out loop 979 p2=33.39 801375.0 p1=28.0 pct=-11.85\n",
      "before if 978 p1=27.75 a1=41625.0 a2=801000.0 p2=33.38\n",
      "out loop 978 p2=33.38 801000.0 p1=27.75 pct=-11.85\n",
      "before if 977 p1=27.5 a1=41250.0 a2=800625.0 p2=33.36\n",
      "out loop 977 p2=33.36 800625.0 p1=27.5 pct=-11.85\n",
      "before if 976 p1=27.25 a1=40875.0 a2=800250.0 p2=33.34\n",
      "out loop 976 p2=33.34 800250.0 p1=27.25 pct=-11.85\n",
      "before if 975 p1=27.0 a1=40500.0 a2=799875.0 p2=33.33\n",
      "out loop 975 p2=33.33 799875.0 p1=27.0 pct=-11.85\n",
      "before if 974 p1=26.75 a1=40125.0 a2=799500.0 p2=33.31\n",
      "out loop 974 p2=33.31 799500.0 p1=26.75 pct=-11.85\n",
      "before if 973 p1=26.5 a1=39750.0 a2=799125.0 p2=33.3\n",
      "out loop 973 p2=33.3 799125.0 p1=26.5 pct=-11.85\n",
      "before if 972 p1=26.25 a1=39375.0 a2=798750.0 p2=33.28\n",
      "out loop 972 p2=33.28 798750.0 p1=26.25 pct=-11.85\n",
      "before if 971 p1=26.0 a1=39000.0 a2=798375.0 p2=33.27\n",
      "out loop 971 p2=33.27 798375.0 p1=26.0 pct=-11.85\n",
      "before if 970 p1=25.75 a1=38625.0 a2=798000.0 p2=33.25\n",
      "in loop 970 p2=33.25 798000.0 p1=25.75 pct=-23.7\n",
      "before if 970 p1=25.5 a1=38250.0 a2=797625.0 p2=33.23\n",
      "out loop 970 p2=33.23 797625.0 p1=25.5 pct=-23.7\n",
      "before if 969 p1=25.25 a1=37875.0 a2=797250.0 p2=33.22\n",
      "out loop 969 p2=33.22 797250.0 p1=25.25 pct=-23.7\n",
      "before if 968 p1=25.0 a1=37500.0 a2=796875.0 p2=33.2\n",
      "out loop 968 p2=33.2 796875.0 p1=25.0 pct=-23.7\n",
      "before if 967 p1=24.75 a1=37125.0 a2=796500.0 p2=33.19\n",
      "out loop 967 p2=33.19 796500.0 p1=24.75 pct=-23.7\n",
      "before if 966 p1=24.5 a1=36750.0 a2=796125.0 p2=33.17\n",
      "out loop 966 p2=33.17 796125.0 p1=24.5 pct=-23.7\n",
      "before if 965 p1=24.25 a1=36375.0 a2=795750.0 p2=33.16\n",
      "out loop 965 p2=33.16 795750.0 p1=24.25 pct=-23.7\n",
      "before if 964 p1=24.0 a1=36000.0 a2=795375.0 p2=33.14\n",
      "out loop 964 p2=33.14 795375.0 p1=24.0 pct=-23.7\n",
      "before if 963 p1=23.75 a1=35625.0 a2=795000.0 p2=33.12\n",
      "out loop 963 p2=33.12 795000.0 p1=23.75 pct=-23.7\n",
      "before if 962 p1=23.5 a1=35250.0 a2=794625.0 p2=33.11\n",
      "out loop 962 p2=33.11 794625.0 p1=23.5 pct=-23.7\n",
      "before if 961 p1=23.25 a1=34875.0 a2=794250.0 p2=33.09\n",
      "out loop 961 p2=33.09 794250.0 p1=23.25 pct=-23.7\n",
      "before if 960 p1=23.0 a1=34500.0 a2=793875.0 p2=33.08\n",
      "out loop 960 p2=33.08 793875.0 p1=23.0 pct=-23.7\n",
      "before if 959 p1=22.75 a1=34125.0 a2=793500.0 p2=33.06\n",
      "out loop 959 p2=33.06 793500.0 p1=22.75 pct=-23.7\n",
      "before if 958 p1=22.5 a1=33750.0 a2=793125.0 p2=33.05\n",
      "out loop 958 p2=33.05 793125.0 p1=22.5 pct=-23.7\n",
      "before if 957 p1=22.25 a1=33375.0 a2=792750.0 p2=33.03\n",
      "out loop 957 p2=33.03 792750.0 p1=22.25 pct=-23.7\n",
      "before if 956 p1=22.0 a1=33000.0 a2=792375.0 p2=33.02\n",
      "out loop 956 p2=33.02 792375.0 p1=22.0 pct=-23.7\n",
      "before if 955 p1=21.75 a1=32625.0 a2=792000.0 p2=33.0\n",
      "in loop 955 p2=33.0 792000.0 p1=21.75 pct=-35.56\n",
      "p1=21.75 p2=33.0 pct=-35.56\n"
     ]
    },
    {
     "data": {
      "text/plain": [
       "array([None], dtype=object)"
      ]
     },
     "execution_count": 8,
     "metadata": {},
     "output_type": "execute_result"
    }
   ],
   "source": [
    "my_array = [[22500,33.75,1500,.25,30]]\n",
    "tmp = (np.apply_along_axis(number_of_spread, axis=1, arr=my_array))\n",
    "tmp"
   ]
  },
  {
   "cell_type": "markdown",
   "metadata": {},
   "source": [
    "##### "
   ]
  },
  {
   "cell_type": "code",
   "execution_count": null,
   "metadata": {},
   "outputs": [],
   "source": []
  }
 ],
 "metadata": {
  "anaconda-cloud": {},
  "kernelspec": {
   "display_name": "Python 3 (ipykernel)",
   "language": "python",
   "name": "python3"
  },
  "language_info": {
   "codemirror_mode": {
    "name": "ipython",
    "version": 3
   },
   "file_extension": ".py",
   "mimetype": "text/x-python",
   "name": "python",
   "nbconvert_exporter": "python",
   "pygments_lexer": "ipython3",
   "version": "3.8.11"
  }
 },
 "nbformat": 4,
 "nbformat_minor": 1
}
