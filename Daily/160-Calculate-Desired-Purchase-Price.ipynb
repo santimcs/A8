{
 "cells": [
  {
   "cell_type": "code",
   "execution_count": 1,
   "metadata": {},
   "outputs": [
    {
     "data": {
      "text/plain": [
       "(datetime.date(2021, 12, 25), datetime.date(2021, 12, 24))"
      ]
     },
     "execution_count": 1,
     "metadata": {},
     "output_type": "execute_result"
    }
   ],
   "source": [
    "import calendar\n",
    "import pandas as pd\n",
    "import numpy as np\n",
    "from datetime import date, timedelta\n",
    "from math import ceil, floor, trunc\n",
    "\n",
    "today = date.today()\n",
    "yesterday = today - timedelta(days=1)\n",
    "today, yesterday"
   ]
  },
  {
   "cell_type": "code",
   "execution_count": 2,
   "metadata": {},
   "outputs": [],
   "source": [
    "def number_of_spread(x):\n",
    "    q0 = x[0]   #old qty\n",
    "    p0 = x[1]   #old unit \n",
    "    old_unit_cost = x[1]\n",
    "    q1 = x[2]   #purchase qty\n",
    "    d1 = x[3]  #spread according to price range\n",
    "    c0 = x[4]  #desired down percent to adjust purchase price\n",
    "\n",
    "    a0 = q0 * p0 # amount\n",
    "    \n",
    "    i = 1000\n",
    "    pct = 0\n",
    "    pt = 0\n",
    "    dt = 0\n",
    "    p2 = 0\n",
    "    while i > 0:\n",
    "        p1 = p0 - d1  #simulated purchase price\n",
    "        p0 = p1\n",
    "        a1 = q1 * p1  #new purchase amt\n",
    "        q2 = q0 + q1  #new total qty\n",
    "        a2 = a0 + a1  #new cost amt\n",
    "        p2 = a2 / q2  #new unit cost\n",
    "\n",
    "        pt = round(p2 * 100,2)  #simulated purchase price multiply 100  \n",
    "        dt = d1 * 100           #spread according to price range multiply 100\n",
    "        \n",
    "        print('before if',i,'p1='+str(round(p1,2)),'a1='+str(round(a1,2)),'a2='+str(round(a2,2)),'p2='+str(round(p2,2)))\n",
    "        \n",
    "        if (pt % dt) == 0:\n",
    "            pct = (p1 - old_unit_cost)/old_unit_cost * 100\n",
    "            print ('in loop' ,i,'p2='+str(round(p2,2)),a2,'p1='+str(round(p1,2)),'pct='+str(round(pct,2)))\n",
    "            if abs(pct) < c0:\n",
    "                continue\n",
    "            break\n",
    "            \n",
    "        print ('out loop',i,'p2='+str(round(p2,2)),a2,'p1='+str(round(p1,2)),'pct='+str(round(pct,2)))            \n",
    "        i -= 1     \n",
    "        \n",
    "    return print('p1='+str(round(p1,2)),'p2='+str(round(p2,2)),'pct='+str(round(pct,2)))"
   ]
  },
  {
   "cell_type": "code",
   "execution_count": 4,
   "metadata": {},
   "outputs": [
    {
     "name": "stdout",
     "output_type": "stream",
     "text": [
      "before if 1000 p1=10.9 a1=65400.0 a2=164400.0 p2=10.96\n",
      "out loop 1000 p2=10.96 164400.0 p1=10.9 pct=0\n",
      "before if 999 p1=10.8 a1=64800.0 a2=163800.0 p2=10.92\n",
      "out loop 999 p2=10.92 163800.0 p1=10.8 pct=0\n",
      "before if 998 p1=10.7 a1=64200.0 a2=163200.0 p2=10.88\n",
      "out loop 998 p2=10.88 163200.0 p1=10.7 pct=0\n",
      "before if 997 p1=10.6 a1=63600.0 a2=162600.0 p2=10.84\n",
      "out loop 997 p2=10.84 162600.0 p1=10.6 pct=0\n",
      "before if 996 p1=10.5 a1=63000.0 a2=162000.0 p2=10.8\n",
      "in loop 996 p2=10.8 162000.0 p1=10.5 pct=-4.55\n",
      "before if 996 p1=10.4 a1=62400.0 a2=161400.0 p2=10.76\n",
      "out loop 996 p2=10.76 161400.0 p1=10.4 pct=-4.55\n",
      "before if 995 p1=10.3 a1=61800.0 a2=160800.0 p2=10.72\n",
      "out loop 995 p2=10.72 160800.0 p1=10.3 pct=-4.55\n",
      "before if 994 p1=10.2 a1=61200.0 a2=160200.0 p2=10.68\n",
      "out loop 994 p2=10.68 160200.0 p1=10.2 pct=-4.55\n",
      "before if 993 p1=10.1 a1=60600.0 a2=159600.0 p2=10.64\n",
      "out loop 993 p2=10.64 159600.00000000003 p1=10.1 pct=-4.55\n",
      "before if 992 p1=10.0 a1=60000.0 a2=159000.0 p2=10.6\n",
      "in loop 992 p2=10.6 159000.00000000003 p1=10.0 pct=-9.09\n",
      "p1=10.0 p2=10.6 pct=-9.09\n"
     ]
    },
    {
     "data": {
      "text/plain": [
       "array([None], dtype=object)"
      ]
     },
     "execution_count": 4,
     "metadata": {},
     "output_type": "execute_result"
    }
   ],
   "source": [
    "my_array = [[9000,11,6000,0.10,5]]\n",
    "tmp = (np.apply_along_axis(number_of_spread, axis=1, arr=my_array))\n",
    "tmp"
   ]
  },
  {
   "cell_type": "code",
   "execution_count": null,
   "metadata": {},
   "outputs": [],
   "source": []
  },
  {
   "cell_type": "code",
   "execution_count": null,
   "metadata": {},
   "outputs": [],
   "source": []
  }
 ],
 "metadata": {
  "anaconda-cloud": {},
  "kernelspec": {
   "display_name": "Python 3 (ipykernel)",
   "language": "python",
   "name": "python3"
  },
  "language_info": {
   "codemirror_mode": {
    "name": "ipython",
    "version": 3
   },
   "file_extension": ".py",
   "mimetype": "text/x-python",
   "name": "python",
   "nbconvert_exporter": "python",
   "pygments_lexer": "ipython3",
   "version": "3.8.11"
  }
 },
 "nbformat": 4,
 "nbformat_minor": 1
}
