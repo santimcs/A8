{
 "cells": [
  {
   "cell_type": "code",
   "execution_count": 1,
   "metadata": {},
   "outputs": [
    {
     "data": {
      "text/plain": [
       "(datetime.date(2022, 2, 18), datetime.date(2022, 2, 17))"
      ]
     },
     "execution_count": 1,
     "metadata": {},
     "output_type": "execute_result"
    }
   ],
   "source": [
    "import calendar\n",
    "import pandas as pd\n",
    "import numpy as np\n",
    "from datetime import date, timedelta\n",
    "from math import ceil, floor, trunc\n",
    "\n",
    "today = date.today()\n",
    "yesterday = today - timedelta(days=1)\n",
    "today, yesterday"
   ]
  },
  {
   "cell_type": "code",
   "execution_count": 2,
   "metadata": {},
   "outputs": [],
   "source": [
    "def number_of_spread(x):\n",
    "    q0 = x[0]   #old qty\n",
    "    p0 = x[1]   #old unit \n",
    "    old_unit_cost = x[1]\n",
    "    q1 = x[2]   #purchase qty\n",
    "    d1 = x[3]  #spread according to price range\n",
    "    c0 = x[4]  #desired down percent to adjust purchase price\n",
    "\n",
    "    a0 = q0 * p0 # amount\n",
    "    \n",
    "    i = 1000\n",
    "    pct = 0\n",
    "    pt = 0\n",
    "    dt = 0\n",
    "    p2 = 0\n",
    "    while i > 0:\n",
    "        p1 = p0 - d1  #simulated purchase price\n",
    "        p0 = p1\n",
    "        a1 = q1 * p1  #new purchase amt\n",
    "        q2 = q0 + q1  #new total qty\n",
    "        a2 = a0 + a1  #new cost amt\n",
    "        p2 = a2 / q2  #new unit cost\n",
    "\n",
    "        pt = round(p2 * 100,2)  #simulated purchase price multiply 100  \n",
    "        dt = d1 * 100           #spread according to price range multiply 100\n",
    "        \n",
    "        print('before if',i,'p1='+str(round(p1,2)),'a1='+str(round(a1,2)),'a2='+str(round(a2,2)),'p2='+str(round(p2,2)))\n",
    "        \n",
    "        if (pt % dt) == 0:\n",
    "            pct = (p1 - old_unit_cost)/old_unit_cost * 100\n",
    "            print ('in loop' ,i,'p2='+str(round(p2,2)),a2,'p1='+str(round(p1,2)),'pct='+str(round(pct,2)))\n",
    "            if abs(pct) < c0:\n",
    "                continue\n",
    "            break\n",
    "            \n",
    "        print ('out loop',i,'p2='+str(round(p2,2)),a2,'p1='+str(round(p1,2)),'pct='+str(round(pct,2)))            \n",
    "        i -= 1     \n",
    "        \n",
    "    return print('p1='+str(round(p1,2)),'p2='+str(round(p2,2)),'pct='+str(round(pct,2)))"
   ]
  },
  {
   "cell_type": "code",
   "execution_count": 6,
   "metadata": {},
   "outputs": [
    {
     "name": "stdout",
     "output_type": "stream",
     "text": [
      "before if 1000 p1=10.45 a1=135850.0 a2=419350.0 p2=10.48\n",
      "out loop 1000 p2=10.48 419350.0 p1=10.45 pct=0\n",
      "before if 999 p1=10.4 a1=135200.0 a2=418700.0 p2=10.47\n",
      "out loop 999 p2=10.47 418700.0 p1=10.4 pct=0\n",
      "before if 998 p1=10.35 a1=134550.0 a2=418050.0 p2=10.45\n",
      "out loop 998 p2=10.45 418050.0 p1=10.35 pct=0\n",
      "before if 997 p1=10.3 a1=133900.0 a2=417400.0 p2=10.44\n",
      "out loop 997 p2=10.44 417400.0 p1=10.3 pct=0\n",
      "before if 996 p1=10.25 a1=133250.0 a2=416750.0 p2=10.42\n",
      "out loop 996 p2=10.42 416749.99999999994 p1=10.25 pct=0\n",
      "before if 995 p1=10.2 a1=132600.0 a2=416100.0 p2=10.4\n",
      "out loop 995 p2=10.4 416099.99999999994 p1=10.2 pct=0\n",
      "before if 994 p1=10.15 a1=131950.0 a2=415450.0 p2=10.39\n",
      "out loop 994 p2=10.39 415449.99999999994 p1=10.15 pct=0\n",
      "before if 993 p1=10.1 a1=131300.0 a2=414800.0 p2=10.37\n",
      "out loop 993 p2=10.37 414799.9999999999 p1=10.1 pct=0\n",
      "before if 992 p1=10.05 a1=130650.0 a2=414150.0 p2=10.35\n",
      "out loop 992 p2=10.35 414149.9999999999 p1=10.05 pct=0\n",
      "before if 991 p1=10.0 a1=130000.0 a2=413500.0 p2=10.34\n",
      "out loop 991 p2=10.34 413499.9999999999 p1=10.0 pct=0\n",
      "before if 990 p1=9.95 a1=129350.0 a2=412850.0 p2=10.32\n",
      "out loop 990 p2=10.32 412849.9999999999 p1=9.95 pct=0\n",
      "before if 989 p1=9.9 a1=128700.0 a2=412200.0 p2=10.3\n",
      "out loop 989 p2=10.3 412199.9999999999 p1=9.9 pct=0\n",
      "before if 988 p1=9.85 a1=128050.0 a2=411550.0 p2=10.29\n",
      "out loop 988 p2=10.29 411549.9999999999 p1=9.85 pct=0\n",
      "before if 987 p1=9.8 a1=127400.0 a2=410900.0 p2=10.27\n",
      "out loop 987 p2=10.27 410899.9999999999 p1=9.8 pct=0\n",
      "before if 986 p1=9.75 a1=126750.0 a2=410250.0 p2=10.26\n",
      "out loop 986 p2=10.26 410249.9999999999 p1=9.75 pct=0\n",
      "before if 985 p1=9.7 a1=126100.0 a2=409600.0 p2=10.24\n",
      "out loop 985 p2=10.24 409599.9999999999 p1=9.7 pct=0\n",
      "before if 984 p1=9.65 a1=125450.0 a2=408950.0 p2=10.22\n",
      "out loop 984 p2=10.22 408949.9999999998 p1=9.65 pct=0\n",
      "before if 983 p1=9.6 a1=124800.0 a2=408300.0 p2=10.21\n",
      "out loop 983 p2=10.21 408299.9999999998 p1=9.6 pct=0\n",
      "before if 982 p1=9.55 a1=124150.0 a2=407650.0 p2=10.19\n",
      "out loop 982 p2=10.19 407649.9999999998 p1=9.55 pct=0\n",
      "before if 981 p1=9.5 a1=123500.0 a2=407000.0 p2=10.17\n",
      "out loop 981 p2=10.17 406999.9999999998 p1=9.5 pct=0\n",
      "before if 980 p1=9.45 a1=122850.0 a2=406350.0 p2=10.16\n",
      "out loop 980 p2=10.16 406349.9999999998 p1=9.45 pct=0\n",
      "before if 979 p1=9.4 a1=122200.0 a2=405700.0 p2=10.14\n",
      "out loop 979 p2=10.14 405699.99999999977 p1=9.4 pct=0\n",
      "before if 978 p1=9.35 a1=121550.0 a2=405050.0 p2=10.13\n",
      "out loop 978 p2=10.13 405049.99999999977 p1=9.35 pct=0\n",
      "before if 977 p1=9.3 a1=120900.0 a2=404400.0 p2=10.11\n",
      "out loop 977 p2=10.11 404399.99999999977 p1=9.3 pct=0\n",
      "before if 976 p1=9.25 a1=120250.0 a2=403750.0 p2=10.09\n",
      "out loop 976 p2=10.09 403749.99999999977 p1=9.25 pct=0\n",
      "before if 975 p1=9.2 a1=119600.0 a2=403100.0 p2=10.08\n",
      "out loop 975 p2=10.08 403099.99999999977 p1=9.2 pct=0\n",
      "before if 974 p1=9.15 a1=118950.0 a2=402450.0 p2=10.06\n",
      "out loop 974 p2=10.06 402449.99999999977 p1=9.15 pct=0\n",
      "before if 973 p1=9.1 a1=118300.0 a2=401800.0 p2=10.04\n",
      "out loop 973 p2=10.04 401799.99999999977 p1=9.1 pct=0\n",
      "before if 972 p1=9.05 a1=117650.0 a2=401150.0 p2=10.03\n",
      "out loop 972 p2=10.03 401149.99999999977 p1=9.05 pct=0\n",
      "before if 971 p1=9.0 a1=117000.0 a2=400500.0 p2=10.01\n",
      "out loop 971 p2=10.01 400499.9999999997 p1=9.0 pct=0\n",
      "before if 970 p1=8.95 a1=116350.0 a2=399850.0 p2=10.0\n",
      "out loop 970 p2=10.0 399849.9999999997 p1=8.95 pct=0\n",
      "before if 969 p1=8.9 a1=115700.0 a2=399200.0 p2=9.98\n",
      "out loop 969 p2=9.98 399199.9999999997 p1=8.9 pct=0\n",
      "before if 968 p1=8.85 a1=115050.0 a2=398550.0 p2=9.96\n",
      "out loop 968 p2=9.96 398549.9999999997 p1=8.85 pct=0\n",
      "before if 967 p1=8.8 a1=114400.0 a2=397900.0 p2=9.95\n",
      "out loop 967 p2=9.95 397899.99999999965 p1=8.8 pct=0\n",
      "before if 966 p1=8.75 a1=113750.0 a2=397250.0 p2=9.93\n",
      "out loop 966 p2=9.93 397249.99999999965 p1=8.75 pct=0\n",
      "before if 965 p1=8.7 a1=113100.0 a2=396600.0 p2=9.91\n",
      "out loop 965 p2=9.91 396599.99999999965 p1=8.7 pct=0\n",
      "before if 964 p1=8.65 a1=112450.0 a2=395950.0 p2=9.9\n",
      "out loop 964 p2=9.9 395949.99999999965 p1=8.65 pct=0\n",
      "before if 963 p1=8.6 a1=111800.0 a2=395300.0 p2=9.88\n",
      "out loop 963 p2=9.88 395299.99999999965 p1=8.6 pct=0\n",
      "before if 962 p1=8.55 a1=111150.0 a2=394650.0 p2=9.87\n",
      "out loop 962 p2=9.87 394649.99999999965 p1=8.55 pct=0\n",
      "before if 961 p1=8.5 a1=110500.0 a2=394000.0 p2=9.85\n",
      "in loop 961 p2=9.85 393999.99999999965 p1=8.5 pct=-19.05\n",
      "p1=8.5 p2=9.85 pct=-19.05\n"
     ]
    },
    {
     "data": {
      "text/plain": [
       "array([None], dtype=object)"
      ]
     },
     "execution_count": 6,
     "metadata": {},
     "output_type": "execute_result"
    }
   ],
   "source": [
    "my_array = [[27000,10.50,13000,0.05,5]]\n",
    "tmp = (np.apply_along_axis(number_of_spread, axis=1, arr=my_array))\n",
    "tmp"
   ]
  },
  {
   "cell_type": "markdown",
   "metadata": {},
   "source": [
    "##### "
   ]
  },
  {
   "cell_type": "code",
   "execution_count": null,
   "metadata": {},
   "outputs": [],
   "source": []
  }
 ],
 "metadata": {
  "anaconda-cloud": {},
  "kernelspec": {
   "display_name": "Python 3 (ipykernel)",
   "language": "python",
   "name": "python3"
  },
  "language_info": {
   "codemirror_mode": {
    "name": "ipython",
    "version": 3
   },
   "file_extension": ".py",
   "mimetype": "text/x-python",
   "name": "python",
   "nbconvert_exporter": "python",
   "pygments_lexer": "ipython3",
   "version": "3.8.11"
  }
 },
 "nbformat": 4,
 "nbformat_minor": 1
}
