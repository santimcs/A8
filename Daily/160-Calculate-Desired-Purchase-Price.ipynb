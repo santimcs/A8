{
 "cells": [
  {
   "cell_type": "code",
   "execution_count": 1,
   "metadata": {},
   "outputs": [
    {
     "data": {
      "text/plain": [
       "(datetime.date(2022, 2, 3), datetime.date(2022, 2, 2))"
      ]
     },
     "execution_count": 1,
     "metadata": {},
     "output_type": "execute_result"
    }
   ],
   "source": [
    "import calendar\n",
    "import pandas as pd\n",
    "import numpy as np\n",
    "from datetime import date, timedelta\n",
    "from math import ceil, floor, trunc\n",
    "\n",
    "today = date.today()\n",
    "yesterday = today - timedelta(days=1)\n",
    "today, yesterday"
   ]
  },
  {
   "cell_type": "code",
   "execution_count": 2,
   "metadata": {},
   "outputs": [],
   "source": [
    "def number_of_spread(x):\n",
    "    q0 = x[0]   #old qty\n",
    "    p0 = x[1]   #old unit \n",
    "    old_unit_cost = x[1]\n",
    "    q1 = x[2]   #purchase qty\n",
    "    d1 = x[3]  #spread according to price range\n",
    "    c0 = x[4]  #desired down percent to adjust purchase price\n",
    "\n",
    "    a0 = q0 * p0 # amount\n",
    "    \n",
    "    i = 1000\n",
    "    pct = 0\n",
    "    pt = 0\n",
    "    dt = 0\n",
    "    p2 = 0\n",
    "    while i > 0:\n",
    "        p1 = p0 - d1  #simulated purchase price\n",
    "        p0 = p1\n",
    "        a1 = q1 * p1  #new purchase amt\n",
    "        q2 = q0 + q1  #new total qty\n",
    "        a2 = a0 + a1  #new cost amt\n",
    "        p2 = a2 / q2  #new unit cost\n",
    "\n",
    "        pt = round(p2 * 100,2)  #simulated purchase price multiply 100  \n",
    "        dt = d1 * 100           #spread according to price range multiply 100\n",
    "        \n",
    "        print('before if',i,'p1='+str(round(p1,2)),'a1='+str(round(a1,2)),'a2='+str(round(a2,2)),'p2='+str(round(p2,2)))\n",
    "        \n",
    "        if (pt % dt) == 0:\n",
    "            pct = (p1 - old_unit_cost)/old_unit_cost * 100\n",
    "            print ('in loop' ,i,'p2='+str(round(p2,2)),a2,'p1='+str(round(p1,2)),'pct='+str(round(pct,2)))\n",
    "            if abs(pct) < c0:\n",
    "                continue\n",
    "            break\n",
    "            \n",
    "        print ('out loop',i,'p2='+str(round(p2,2)),a2,'p1='+str(round(p1,2)),'pct='+str(round(pct,2)))            \n",
    "        i -= 1     \n",
    "        \n",
    "    return print('p1='+str(round(p1,2)),'p2='+str(round(p2,2)),'pct='+str(round(pct,2)))"
   ]
  },
  {
   "cell_type": "code",
   "execution_count": 4,
   "metadata": {},
   "outputs": [
    {
     "name": "stdout",
     "output_type": "stream",
     "text": [
      "before if 1000 p1=44.25 a1=66375.0 a2=266625.0 p2=44.44\n",
      "out loop 1000 p2=44.44 266625.0 p1=44.25 pct=0\n",
      "before if 999 p1=44.0 a1=66000.0 a2=266250.0 p2=44.38\n",
      "out loop 999 p2=44.38 266250.0 p1=44.0 pct=0\n",
      "before if 998 p1=43.75 a1=65625.0 a2=265875.0 p2=44.31\n",
      "out loop 998 p2=44.31 265875.0 p1=43.75 pct=0\n",
      "before if 997 p1=43.5 a1=65250.0 a2=265500.0 p2=44.25\n",
      "in loop 997 p2=44.25 265500.0 p1=43.5 pct=-2.25\n",
      "before if 997 p1=43.25 a1=64875.0 a2=265125.0 p2=44.19\n",
      "out loop 997 p2=44.19 265125.0 p1=43.25 pct=-2.25\n",
      "before if 996 p1=43.0 a1=64500.0 a2=264750.0 p2=44.12\n",
      "out loop 996 p2=44.12 264750.0 p1=43.0 pct=-2.25\n",
      "before if 995 p1=42.75 a1=64125.0 a2=264375.0 p2=44.06\n",
      "out loop 995 p2=44.06 264375.0 p1=42.75 pct=-2.25\n",
      "before if 994 p1=42.5 a1=63750.0 a2=264000.0 p2=44.0\n",
      "in loop 994 p2=44.0 264000.0 p1=42.5 pct=-4.49\n",
      "before if 994 p1=42.25 a1=63375.0 a2=263625.0 p2=43.94\n",
      "out loop 994 p2=43.94 263625.0 p1=42.25 pct=-4.49\n",
      "before if 993 p1=42.0 a1=63000.0 a2=263250.0 p2=43.88\n",
      "out loop 993 p2=43.88 263250.0 p1=42.0 pct=-4.49\n",
      "before if 992 p1=41.75 a1=62625.0 a2=262875.0 p2=43.81\n",
      "out loop 992 p2=43.81 262875.0 p1=41.75 pct=-4.49\n",
      "before if 991 p1=41.5 a1=62250.0 a2=262500.0 p2=43.75\n",
      "in loop 991 p2=43.75 262500.0 p1=41.5 pct=-6.74\n",
      "p1=41.5 p2=43.75 pct=-6.74\n"
     ]
    },
    {
     "data": {
      "text/plain": [
       "array([None], dtype=object)"
      ]
     },
     "execution_count": 4,
     "metadata": {},
     "output_type": "execute_result"
    }
   ],
   "source": [
    "my_array = [[4500,44.50,1500,0.25,5]]\n",
    "tmp = (np.apply_along_axis(number_of_spread, axis=1, arr=my_array))\n",
    "tmp"
   ]
  },
  {
   "cell_type": "markdown",
   "metadata": {},
   "source": [
    "##### "
   ]
  },
  {
   "cell_type": "code",
   "execution_count": null,
   "metadata": {},
   "outputs": [],
   "source": []
  }
 ],
 "metadata": {
  "anaconda-cloud": {},
  "kernelspec": {
   "display_name": "Python 3 (ipykernel)",
   "language": "python",
   "name": "python3"
  },
  "language_info": {
   "codemirror_mode": {
    "name": "ipython",
    "version": 3
   },
   "file_extension": ".py",
   "mimetype": "text/x-python",
   "name": "python",
   "nbconvert_exporter": "python",
   "pygments_lexer": "ipython3",
   "version": "3.8.11"
  }
 },
 "nbformat": 4,
 "nbformat_minor": 1
}
