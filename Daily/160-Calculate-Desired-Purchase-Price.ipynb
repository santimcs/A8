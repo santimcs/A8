{
 "cells": [
  {
   "cell_type": "code",
   "execution_count": 1,
   "metadata": {},
   "outputs": [
    {
     "data": {
      "text/plain": [
       "(datetime.date(2022, 2, 24), datetime.date(2022, 2, 23))"
      ]
     },
     "execution_count": 1,
     "metadata": {},
     "output_type": "execute_result"
    }
   ],
   "source": [
    "import calendar\n",
    "import pandas as pd\n",
    "import numpy as np\n",
    "from datetime import date, timedelta\n",
    "from math import ceil, floor, trunc\n",
    "\n",
    "today = date.today()\n",
    "yesterday = today - timedelta(days=1)\n",
    "today, yesterday"
   ]
  },
  {
   "cell_type": "code",
   "execution_count": 2,
   "metadata": {},
   "outputs": [],
   "source": [
    "def number_of_spread(x):\n",
    "    q0 = x[0]   #old qty\n",
    "    p0 = x[1]   #old unit \n",
    "    old_unit_cost = x[1]\n",
    "    q1 = x[2]   #purchase qty\n",
    "    d1 = x[3]  #spread according to price range\n",
    "    c0 = x[4]  #desired down percent to adjust purchase price\n",
    "\n",
    "    a0 = q0 * p0 # amount\n",
    "    \n",
    "    i = 1000\n",
    "    pct = 0\n",
    "    pt = 0\n",
    "    dt = 0\n",
    "    p2 = 0\n",
    "    while i > 0:\n",
    "        p1 = p0 - d1  #simulated purchase price\n",
    "        p0 = p1\n",
    "        a1 = q1 * p1  #new purchase amt\n",
    "        q2 = q0 + q1  #new total qty\n",
    "        a2 = a0 + a1  #new cost amt\n",
    "        p2 = a2 / q2  #new unit cost\n",
    "\n",
    "        pt = round(p2 * 100,2)  #simulated purchase price multiply 100  \n",
    "        dt = d1 * 100           #spread according to price range multiply 100\n",
    "        \n",
    "        print('before if',i,'p1='+str(round(p1,2)),'a1='+str(round(a1,2)),'a2='+str(round(a2,2)),'p2='+str(round(p2,2)))\n",
    "        \n",
    "        if (pt % dt) == 0:\n",
    "            pct = (p1 - old_unit_cost)/old_unit_cost * 100\n",
    "            print ('in loop' ,i,'p2='+str(round(p2,2)),a2,'p1='+str(round(p1,2)),'pct='+str(round(pct,2)))\n",
    "            if abs(pct) < c0:\n",
    "                continue\n",
    "            break\n",
    "            \n",
    "        print ('out loop',i,'p2='+str(round(p2,2)),a2,'p1='+str(round(p1,2)),'pct='+str(round(pct,2)))            \n",
    "        i -= 1     \n",
    "        \n",
    "    return print('p1='+str(round(p1,2)),'p2='+str(round(p2,2)),'pct='+str(round(pct,2)))"
   ]
  },
  {
   "cell_type": "code",
   "execution_count": 10,
   "metadata": {},
   "outputs": [
    {
     "name": "stdout",
     "output_type": "stream",
     "text": [
      "before if 1000 p1=16.9 a1=25350.0 a2=152850.0 p2=16.98\n",
      "out loop 1000 p2=16.98 152850.0 p1=16.9 pct=0\n",
      "before if 999 p1=16.8 a1=25200.0 a2=152700.0 p2=16.97\n",
      "out loop 999 p2=16.97 152700.0 p1=16.8 pct=0\n",
      "before if 998 p1=16.7 a1=25050.0 a2=152550.0 p2=16.95\n",
      "out loop 998 p2=16.95 152550.0 p1=16.7 pct=0\n",
      "before if 997 p1=16.6 a1=24900.0 a2=152400.0 p2=16.93\n",
      "out loop 997 p2=16.93 152400.0 p1=16.6 pct=0\n",
      "before if 996 p1=16.5 a1=24750.0 a2=152250.0 p2=16.92\n",
      "out loop 996 p2=16.92 152250.0 p1=16.5 pct=0\n",
      "before if 995 p1=16.4 a1=24600.0 a2=152100.0 p2=16.9\n",
      "in loop 995 p2=16.9 152100.0 p1=16.4 pct=-3.53\n",
      "before if 995 p1=16.3 a1=24450.0 a2=151950.0 p2=16.88\n",
      "out loop 995 p2=16.88 151950.0 p1=16.3 pct=-3.53\n",
      "before if 994 p1=16.2 a1=24300.0 a2=151800.0 p2=16.87\n",
      "out loop 994 p2=16.87 151799.99999999997 p1=16.2 pct=-3.53\n",
      "before if 993 p1=16.1 a1=24150.0 a2=151650.0 p2=16.85\n",
      "out loop 993 p2=16.85 151649.99999999997 p1=16.1 pct=-3.53\n",
      "before if 992 p1=16.0 a1=24000.0 a2=151500.0 p2=16.83\n",
      "out loop 992 p2=16.83 151499.99999999997 p1=16.0 pct=-3.53\n",
      "before if 991 p1=15.9 a1=23850.0 a2=151350.0 p2=16.82\n",
      "out loop 991 p2=16.82 151349.99999999997 p1=15.9 pct=-3.53\n",
      "before if 990 p1=15.8 a1=23700.0 a2=151200.0 p2=16.8\n",
      "in loop 990 p2=16.8 151199.99999999997 p1=15.8 pct=-7.06\n",
      "p1=15.8 p2=16.8 pct=-7.06\n"
     ]
    },
    {
     "data": {
      "text/plain": [
       "array([None], dtype=object)"
      ]
     },
     "execution_count": 10,
     "metadata": {},
     "output_type": "execute_result"
    }
   ],
   "source": [
    "my_array = [[7500,17,1500,0.10,5]]\n",
    "tmp = (np.apply_along_axis(number_of_spread, axis=1, arr=my_array))\n",
    "tmp"
   ]
  },
  {
   "cell_type": "markdown",
   "metadata": {},
   "source": [
    "##### "
   ]
  },
  {
   "cell_type": "code",
   "execution_count": null,
   "metadata": {},
   "outputs": [],
   "source": []
  }
 ],
 "metadata": {
  "anaconda-cloud": {},
  "kernelspec": {
   "display_name": "Python 3 (ipykernel)",
   "language": "python",
   "name": "python3"
  },
  "language_info": {
   "codemirror_mode": {
    "name": "ipython",
    "version": 3
   },
   "file_extension": ".py",
   "mimetype": "text/x-python",
   "name": "python",
   "nbconvert_exporter": "python",
   "pygments_lexer": "ipython3",
   "version": "3.8.11"
  }
 },
 "nbformat": 4,
 "nbformat_minor": 1
}
