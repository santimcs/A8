{
 "cells": [
  {
   "cell_type": "code",
   "execution_count": 1,
   "metadata": {},
   "outputs": [
    {
     "data": {
      "text/plain": [
       "(datetime.date(2022, 2, 20), datetime.date(2022, 2, 19))"
      ]
     },
     "execution_count": 1,
     "metadata": {},
     "output_type": "execute_result"
    }
   ],
   "source": [
    "import calendar\n",
    "import pandas as pd\n",
    "import numpy as np\n",
    "from datetime import date, timedelta\n",
    "from math import ceil, floor, trunc\n",
    "\n",
    "today = date.today()\n",
    "yesterday = today - timedelta(days=1)\n",
    "today, yesterday"
   ]
  },
  {
   "cell_type": "code",
   "execution_count": 2,
   "metadata": {},
   "outputs": [],
   "source": [
    "def number_of_spread(x):\n",
    "    q0 = x[0]   #old qty\n",
    "    p0 = x[1]   #old unit \n",
    "    old_unit_cost = x[1]\n",
    "    q1 = x[2]   #purchase qty\n",
    "    d1 = x[3]  #spread according to price range\n",
    "    c0 = x[4]  #desired down percent to adjust purchase price\n",
    "\n",
    "    a0 = q0 * p0 # amount\n",
    "    \n",
    "    i = 1000\n",
    "    pct = 0\n",
    "    pt = 0\n",
    "    dt = 0\n",
    "    p2 = 0\n",
    "    while i > 0:\n",
    "        p1 = p0 - d1  #simulated purchase price\n",
    "        p0 = p1\n",
    "        a1 = q1 * p1  #new purchase amt\n",
    "        q2 = q0 + q1  #new total qty\n",
    "        a2 = a0 + a1  #new cost amt\n",
    "        p2 = a2 / q2  #new unit cost\n",
    "\n",
    "        pt = round(p2 * 100,2)  #simulated purchase price multiply 100  \n",
    "        dt = d1 * 100           #spread according to price range multiply 100\n",
    "        \n",
    "        print('before if',i,'p1='+str(round(p1,2)),'a1='+str(round(a1,2)),'a2='+str(round(a2,2)),'p2='+str(round(p2,2)))\n",
    "        \n",
    "        if (pt % dt) == 0:\n",
    "            pct = (p1 - old_unit_cost)/old_unit_cost * 100\n",
    "            print ('in loop' ,i,'p2='+str(round(p2,2)),a2,'p1='+str(round(p1,2)),'pct='+str(round(pct,2)))\n",
    "            if abs(pct) < c0:\n",
    "                continue\n",
    "            break\n",
    "            \n",
    "        print ('out loop',i,'p2='+str(round(p2,2)),a2,'p1='+str(round(p1,2)),'pct='+str(round(pct,2)))            \n",
    "        i -= 1     \n",
    "        \n",
    "    return print('p1='+str(round(p1,2)),'p2='+str(round(p2,2)),'pct='+str(round(pct,2)))"
   ]
  },
  {
   "cell_type": "code",
   "execution_count": 5,
   "metadata": {},
   "outputs": [
    {
     "name": "stdout",
     "output_type": "stream",
     "text": [
      "before if 1000 p1=10.45 a1=156750.0 a2=440250.0 p2=10.48\n",
      "out loop 1000 p2=10.48 440250.0 p1=10.45 pct=0\n",
      "before if 999 p1=10.4 a1=156000.0 a2=439500.0 p2=10.46\n",
      "out loop 999 p2=10.46 439500.0 p1=10.4 pct=0\n",
      "before if 998 p1=10.35 a1=155250.0 a2=438750.0 p2=10.45\n",
      "out loop 998 p2=10.45 438750.0 p1=10.35 pct=0\n",
      "before if 997 p1=10.3 a1=154500.0 a2=438000.0 p2=10.43\n",
      "out loop 997 p2=10.43 438000.0 p1=10.3 pct=0\n",
      "before if 996 p1=10.25 a1=153750.0 a2=437250.0 p2=10.41\n",
      "out loop 996 p2=10.41 437249.99999999994 p1=10.25 pct=0\n",
      "before if 995 p1=10.2 a1=153000.0 a2=436500.0 p2=10.39\n",
      "out loop 995 p2=10.39 436499.99999999994 p1=10.2 pct=0\n",
      "before if 994 p1=10.15 a1=152250.0 a2=435750.0 p2=10.37\n",
      "out loop 994 p2=10.37 435749.9999999999 p1=10.15 pct=0\n",
      "before if 993 p1=10.1 a1=151500.0 a2=435000.0 p2=10.36\n",
      "out loop 993 p2=10.36 434999.9999999999 p1=10.1 pct=0\n",
      "before if 992 p1=10.05 a1=150750.0 a2=434250.0 p2=10.34\n",
      "out loop 992 p2=10.34 434249.9999999999 p1=10.05 pct=0\n",
      "before if 991 p1=10.0 a1=150000.0 a2=433500.0 p2=10.32\n",
      "out loop 991 p2=10.32 433499.9999999999 p1=10.0 pct=0\n",
      "before if 990 p1=9.95 a1=149250.0 a2=432750.0 p2=10.3\n",
      "out loop 990 p2=10.3 432749.9999999999 p1=9.95 pct=0\n",
      "before if 989 p1=9.9 a1=148500.0 a2=432000.0 p2=10.29\n",
      "out loop 989 p2=10.29 431999.9999999999 p1=9.9 pct=0\n",
      "before if 988 p1=9.85 a1=147750.0 a2=431250.0 p2=10.27\n",
      "out loop 988 p2=10.27 431249.9999999999 p1=9.85 pct=0\n",
      "before if 987 p1=9.8 a1=147000.0 a2=430500.0 p2=10.25\n",
      "in loop 987 p2=10.25 430499.9999999999 p1=9.8 pct=-6.67\n",
      "p1=9.8 p2=10.25 pct=-6.67\n"
     ]
    },
    {
     "data": {
      "text/plain": [
       "array([None], dtype=object)"
      ]
     },
     "execution_count": 5,
     "metadata": {},
     "output_type": "execute_result"
    }
   ],
   "source": [
    "my_array = [[27000,10.50,15000,0.05,5]]\n",
    "tmp = (np.apply_along_axis(number_of_spread, axis=1, arr=my_array))\n",
    "tmp"
   ]
  },
  {
   "cell_type": "markdown",
   "metadata": {},
   "source": [
    "##### "
   ]
  },
  {
   "cell_type": "code",
   "execution_count": null,
   "metadata": {},
   "outputs": [],
   "source": []
  }
 ],
 "metadata": {
  "anaconda-cloud": {},
  "kernelspec": {
   "display_name": "Python 3 (ipykernel)",
   "language": "python",
   "name": "python3"
  },
  "language_info": {
   "codemirror_mode": {
    "name": "ipython",
    "version": 3
   },
   "file_extension": ".py",
   "mimetype": "text/x-python",
   "name": "python",
   "nbconvert_exporter": "python",
   "pygments_lexer": "ipython3",
   "version": "3.8.11"
  }
 },
 "nbformat": 4,
 "nbformat_minor": 1
}
