{
 "cells": [
  {
   "cell_type": "code",
   "execution_count": 1,
   "metadata": {},
   "outputs": [
    {
     "data": {
      "text/plain": [
       "(datetime.date(2022, 6, 13), datetime.date(2022, 6, 12))"
      ]
     },
     "execution_count": 1,
     "metadata": {},
     "output_type": "execute_result"
    }
   ],
   "source": [
    "import calendar\n",
    "import pandas as pd\n",
    "import numpy as np\n",
    "from datetime import date, timedelta\n",
    "from math import ceil, floor, trunc\n",
    "\n",
    "today = date.today()\n",
    "yesterday = today - timedelta(days=1)\n",
    "today, yesterday"
   ]
  },
  {
   "cell_type": "code",
   "execution_count": 2,
   "metadata": {},
   "outputs": [],
   "source": [
    "def number_of_spread(x):\n",
    "    q0 = x[0]   #old qty\n",
    "    p0 = x[1]   #old unit \n",
    "    old_unit_cost = x[1]\n",
    "    q1 = x[2]   #purchase qty\n",
    "    d1 = x[3]  #spread according to price range\n",
    "    c0 = x[4]  #desired down percent to adjust purchase price\n",
    "\n",
    "    a0 = q0 * p0 # amount\n",
    "    \n",
    "    i = 1000\n",
    "    pct = 0\n",
    "    pt = 0\n",
    "    dt = 0\n",
    "    p2 = 0\n",
    "    while i > 0:\n",
    "        p1 = p0 - d1  #simulated purchase price\n",
    "        p0 = p1\n",
    "        a1 = q1 * p1  #new purchase amt\n",
    "        q2 = q0 + q1  #new total qty\n",
    "        a2 = a0 + a1  #new cost amt\n",
    "        p2 = a2 / q2  #new unit cost\n",
    "\n",
    "        pt = round(p2 * 100,2)  #simulated purchase price multiply 100  \n",
    "        dt = d1 * 100           #spread according to price range multiply 100\n",
    "        \n",
    "        print('before if',i,'p1='+str(round(p1,2)),'a1='+str(round(a1,2)),'a2='+str(round(a2,2)),'p2='+str(round(p2,2)))\n",
    "        \n",
    "        if (pt % dt) == 0:\n",
    "            pct = ((p1 - old_unit_cost)/old_unit_cost) * 100\n",
    "            print ('in loop' ,i,'p2='+str(round(p2,2)),a2,'p1='+str(round(p1,2)),'pct='+str(round(pct,2)))\n",
    "            if abs(pct) < c0:\n",
    "                continue\n",
    "            break\n",
    "            \n",
    "        print ('out loop',i,'p2='+str(round(p2,2)),a2,'p1='+str(round(p1,2)),'pct='+str(round(pct,2)))            \n",
    "        i -= 1     \n",
    "        \n",
    "    return print('p1='+str(round(p1,2)),'p2='+str(round(p2,2)),'pct='+str(round(pct,2)))"
   ]
  },
  {
   "cell_type": "code",
   "execution_count": 5,
   "metadata": {},
   "outputs": [
    {
     "name": "stdout",
     "output_type": "stream",
     "text": [
      "before if 1000 p1=10.1 a1=121200.0 a2=488400.0 p2=10.18\n",
      "out loop 1000 p2=10.18 488400.0 p1=10.1 pct=0\n",
      "before if 999 p1=10.0 a1=120000.0 a2=487200.0 p2=10.15\n",
      "out loop 999 p2=10.15 487200.0 p1=10.0 pct=0\n",
      "before if 998 p1=9.9 a1=118800.0 a2=486000.0 p2=10.12\n",
      "out loop 998 p2=10.12 486000.0 p1=9.9 pct=0\n",
      "before if 997 p1=9.8 a1=117600.0 a2=484800.0 p2=10.1\n",
      "in loop 997 p2=10.1 484800.0 p1=9.8 pct=-3.92\n",
      "before if 997 p1=9.7 a1=116400.0 a2=483600.0 p2=10.07\n",
      "out loop 997 p2=10.07 483600.0 p1=9.7 pct=-3.92\n",
      "before if 996 p1=9.6 a1=115200.0 a2=482400.0 p2=10.05\n",
      "out loop 996 p2=10.05 482400.0 p1=9.6 pct=-3.92\n",
      "before if 995 p1=9.5 a1=114000.0 a2=481200.0 p2=10.02\n",
      "out loop 995 p2=10.02 481200.0 p1=9.5 pct=-3.92\n",
      "before if 994 p1=9.4 a1=112800.0 a2=480000.0 p2=10.0\n",
      "in loop 994 p2=10.0 480000.0 p1=9.4 pct=-7.84\n",
      "before if 994 p1=9.3 a1=111600.0 a2=478800.0 p2=9.98\n",
      "out loop 994 p2=9.98 478800.0 p1=9.3 pct=-7.84\n",
      "before if 993 p1=9.2 a1=110400.0 a2=477600.0 p2=9.95\n",
      "out loop 993 p2=9.95 477600.0 p1=9.2 pct=-7.84\n",
      "before if 992 p1=9.1 a1=109200.0 a2=476400.0 p2=9.93\n",
      "out loop 992 p2=9.93 476400.00000000006 p1=9.1 pct=-7.84\n",
      "before if 991 p1=9.0 a1=108000.0 a2=475200.0 p2=9.9\n",
      "in loop 991 p2=9.9 475200.00000000006 p1=9.0 pct=-11.76\n",
      "p1=9.0 p2=9.9 pct=-11.76\n"
     ]
    },
    {
     "data": {
      "text/plain": [
       "array([None], dtype=object)"
      ]
     },
     "execution_count": 5,
     "metadata": {},
     "output_type": "execute_result"
    }
   ],
   "source": [
    "my_array = [[36000,10.20,12000,.10,10]]\n",
    "tmp = (np.apply_along_axis(number_of_spread, axis=1, arr=my_array))\n",
    "tmp"
   ]
  },
  {
   "cell_type": "markdown",
   "metadata": {},
   "source": [
    "##### "
   ]
  },
  {
   "cell_type": "code",
   "execution_count": null,
   "metadata": {},
   "outputs": [],
   "source": []
  }
 ],
 "metadata": {
  "anaconda-cloud": {},
  "kernelspec": {
   "display_name": "Python 3 (ipykernel)",
   "language": "python",
   "name": "python3"
  },
  "language_info": {
   "codemirror_mode": {
    "name": "ipython",
    "version": 3
   },
   "file_extension": ".py",
   "mimetype": "text/x-python",
   "name": "python",
   "nbconvert_exporter": "python",
   "pygments_lexer": "ipython3",
   "version": "3.8.11"
  }
 },
 "nbformat": 4,
 "nbformat_minor": 1
}
