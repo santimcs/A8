{
 "cells": [
  {
   "cell_type": "code",
   "execution_count": 1,
   "metadata": {},
   "outputs": [
    {
     "data": {
      "text/plain": [
       "(datetime.date(2022, 3, 30), datetime.date(2022, 3, 29))"
      ]
     },
     "execution_count": 1,
     "metadata": {},
     "output_type": "execute_result"
    }
   ],
   "source": [
    "import calendar\n",
    "import pandas as pd\n",
    "import numpy as np\n",
    "from datetime import date, timedelta\n",
    "from math import ceil, floor, trunc\n",
    "\n",
    "today = date.today()\n",
    "yesterday = today - timedelta(days=1)\n",
    "today, yesterday"
   ]
  },
  {
   "cell_type": "code",
   "execution_count": 2,
   "metadata": {},
   "outputs": [],
   "source": [
    "def number_of_spread(x):\n",
    "    q0 = x[0]   #old qty\n",
    "    p0 = x[1]   #old unit \n",
    "    old_unit_cost = x[1]\n",
    "    q1 = x[2]   #purchase qty\n",
    "    d1 = x[3]  #spread according to price range\n",
    "    c0 = x[4]  #desired down percent to adjust purchase price\n",
    "\n",
    "    a0 = q0 * p0 # amount\n",
    "    \n",
    "    i = 1000\n",
    "    pct = 0\n",
    "    pt = 0\n",
    "    dt = 0\n",
    "    p2 = 0\n",
    "    while i > 0:\n",
    "        p1 = p0 - d1  #simulated purchase price\n",
    "        p0 = p1\n",
    "        a1 = q1 * p1  #new purchase amt\n",
    "        q2 = q0 + q1  #new total qty\n",
    "        a2 = a0 + a1  #new cost amt\n",
    "        p2 = a2 / q2  #new unit cost\n",
    "\n",
    "        pt = round(p2 * 100,2)  #simulated purchase price multiply 100  \n",
    "        dt = d1 * 100           #spread according to price range multiply 100\n",
    "        \n",
    "        print('before if',i,'p1='+str(round(p1,2)),'a1='+str(round(a1,2)),'a2='+str(round(a2,2)),'p2='+str(round(p2,2)))\n",
    "        \n",
    "        if (pt % dt) == 0:\n",
    "            pct = (p1 - old_unit_cost)/old_unit_cost * 100\n",
    "            print ('in loop' ,i,'p2='+str(round(p2,2)),a2,'p1='+str(round(p1,2)),'pct='+str(round(pct,2)))\n",
    "            if abs(pct) < c0:\n",
    "                continue\n",
    "            break\n",
    "            \n",
    "        print ('out loop',i,'p2='+str(round(p2,2)),a2,'p1='+str(round(p1,2)),'pct='+str(round(pct,2)))            \n",
    "        i -= 1     \n",
    "        \n",
    "    return print('p1='+str(round(p1,2)),'p2='+str(round(p2,2)),'pct='+str(round(pct,2)))"
   ]
  },
  {
   "cell_type": "code",
   "execution_count": 6,
   "metadata": {},
   "outputs": [
    {
     "name": "stdout",
     "output_type": "stream",
     "text": [
      "before if 1000 p1=397 a1=119100 a2=477300 p2=397.75\n",
      "out loop 1000 p2=397.75 477300 p1=397 pct=0\n",
      "before if 999 p1=396 a1=118800 a2=477000 p2=397.5\n",
      "out loop 999 p2=397.5 477000 p1=396 pct=0\n",
      "before if 998 p1=395 a1=118500 a2=476700 p2=397.25\n",
      "out loop 998 p2=397.25 476700 p1=395 pct=0\n",
      "before if 997 p1=394 a1=118200 a2=476400 p2=397.0\n",
      "in loop 997 p2=397.0 476400 p1=394 pct=-1.01\n",
      "before if 997 p1=393 a1=117900 a2=476100 p2=396.75\n",
      "out loop 997 p2=396.75 476100 p1=393 pct=-1.01\n",
      "before if 996 p1=392 a1=117600 a2=475800 p2=396.5\n",
      "out loop 996 p2=396.5 475800 p1=392 pct=-1.01\n",
      "before if 995 p1=391 a1=117300 a2=475500 p2=396.25\n",
      "out loop 995 p2=396.25 475500 p1=391 pct=-1.01\n",
      "before if 994 p1=390 a1=117000 a2=475200 p2=396.0\n",
      "in loop 994 p2=396.0 475200 p1=390 pct=-2.01\n",
      "before if 994 p1=389 a1=116700 a2=474900 p2=395.75\n",
      "out loop 994 p2=395.75 474900 p1=389 pct=-2.01\n",
      "before if 993 p1=388 a1=116400 a2=474600 p2=395.5\n",
      "out loop 993 p2=395.5 474600 p1=388 pct=-2.01\n",
      "before if 992 p1=387 a1=116100 a2=474300 p2=395.25\n",
      "out loop 992 p2=395.25 474300 p1=387 pct=-2.01\n",
      "before if 991 p1=386 a1=115800 a2=474000 p2=395.0\n",
      "in loop 991 p2=395.0 474000 p1=386 pct=-3.02\n",
      "before if 991 p1=385 a1=115500 a2=473700 p2=394.75\n",
      "out loop 991 p2=394.75 473700 p1=385 pct=-3.02\n",
      "before if 990 p1=384 a1=115200 a2=473400 p2=394.5\n",
      "out loop 990 p2=394.5 473400 p1=384 pct=-3.02\n",
      "before if 989 p1=383 a1=114900 a2=473100 p2=394.25\n",
      "out loop 989 p2=394.25 473100 p1=383 pct=-3.02\n",
      "before if 988 p1=382 a1=114600 a2=472800 p2=394.0\n",
      "in loop 988 p2=394.0 472800 p1=382 pct=-4.02\n",
      "before if 988 p1=381 a1=114300 a2=472500 p2=393.75\n",
      "out loop 988 p2=393.75 472500 p1=381 pct=-4.02\n",
      "before if 987 p1=380 a1=114000 a2=472200 p2=393.5\n",
      "out loop 987 p2=393.5 472200 p1=380 pct=-4.02\n",
      "before if 986 p1=379 a1=113700 a2=471900 p2=393.25\n",
      "out loop 986 p2=393.25 471900 p1=379 pct=-4.02\n",
      "before if 985 p1=378 a1=113400 a2=471600 p2=393.0\n",
      "in loop 985 p2=393.0 471600 p1=378 pct=-5.03\n",
      "before if 985 p1=377 a1=113100 a2=471300 p2=392.75\n",
      "out loop 985 p2=392.75 471300 p1=377 pct=-5.03\n",
      "before if 984 p1=376 a1=112800 a2=471000 p2=392.5\n",
      "out loop 984 p2=392.5 471000 p1=376 pct=-5.03\n",
      "before if 983 p1=375 a1=112500 a2=470700 p2=392.25\n",
      "out loop 983 p2=392.25 470700 p1=375 pct=-5.03\n",
      "before if 982 p1=374 a1=112200 a2=470400 p2=392.0\n",
      "in loop 982 p2=392.0 470400 p1=374 pct=-6.03\n",
      "p1=374 p2=392.0 pct=-6.03\n"
     ]
    },
    {
     "data": {
      "text/plain": [
       "array([None], dtype=object)"
      ]
     },
     "execution_count": 6,
     "metadata": {},
     "output_type": "execute_result"
    }
   ],
   "source": [
    "my_array = [[900,398,300,1,6]]\n",
    "tmp = (np.apply_along_axis(number_of_spread, axis=1, arr=my_array))\n",
    "tmp"
   ]
  },
  {
   "cell_type": "markdown",
   "metadata": {},
   "source": [
    "##### "
   ]
  },
  {
   "cell_type": "code",
   "execution_count": null,
   "metadata": {},
   "outputs": [],
   "source": []
  }
 ],
 "metadata": {
  "anaconda-cloud": {},
  "kernelspec": {
   "display_name": "Python 3 (ipykernel)",
   "language": "python",
   "name": "python3"
  },
  "language_info": {
   "codemirror_mode": {
    "name": "ipython",
    "version": 3
   },
   "file_extension": ".py",
   "mimetype": "text/x-python",
   "name": "python",
   "nbconvert_exporter": "python",
   "pygments_lexer": "ipython3",
   "version": "3.8.11"
  }
 },
 "nbformat": 4,
 "nbformat_minor": 1
}
