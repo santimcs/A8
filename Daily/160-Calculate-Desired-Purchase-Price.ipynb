{
 "cells": [
  {
   "cell_type": "code",
   "execution_count": 1,
   "metadata": {},
   "outputs": [
    {
     "data": {
      "text/plain": [
       "(datetime.date(2022, 1, 21), datetime.date(2022, 1, 20))"
      ]
     },
     "execution_count": 1,
     "metadata": {},
     "output_type": "execute_result"
    }
   ],
   "source": [
    "import calendar\n",
    "import pandas as pd\n",
    "import numpy as np\n",
    "from datetime import date, timedelta\n",
    "from math import ceil, floor, trunc\n",
    "\n",
    "today = date.today()\n",
    "yesterday = today - timedelta(days=1)\n",
    "today, yesterday"
   ]
  },
  {
   "cell_type": "code",
   "execution_count": 2,
   "metadata": {},
   "outputs": [],
   "source": [
    "def number_of_spread(x):\n",
    "    q0 = x[0]   #old qty\n",
    "    p0 = x[1]   #old unit \n",
    "    old_unit_cost = x[1]\n",
    "    q1 = x[2]   #purchase qty\n",
    "    d1 = x[3]  #spread according to price range\n",
    "    c0 = x[4]  #desired down percent to adjust purchase price\n",
    "\n",
    "    a0 = q0 * p0 # amount\n",
    "    \n",
    "    i = 1000\n",
    "    pct = 0\n",
    "    pt = 0\n",
    "    dt = 0\n",
    "    p2 = 0\n",
    "    while i > 0:\n",
    "        p1 = p0 - d1  #simulated purchase price\n",
    "        p0 = p1\n",
    "        a1 = q1 * p1  #new purchase amt\n",
    "        q2 = q0 + q1  #new total qty\n",
    "        a2 = a0 + a1  #new cost amt\n",
    "        p2 = a2 / q2  #new unit cost\n",
    "\n",
    "        pt = round(p2 * 100,2)  #simulated purchase price multiply 100  \n",
    "        dt = d1 * 100           #spread according to price range multiply 100\n",
    "        \n",
    "        print('before if',i,'p1='+str(round(p1,2)),'a1='+str(round(a1,2)),'a2='+str(round(a2,2)),'p2='+str(round(p2,2)))\n",
    "        \n",
    "        if (pt % dt) == 0:\n",
    "            pct = (p1 - old_unit_cost)/old_unit_cost * 100\n",
    "            print ('in loop' ,i,'p2='+str(round(p2,2)),a2,'p1='+str(round(p1,2)),'pct='+str(round(pct,2)))\n",
    "            if abs(pct) < c0:\n",
    "                continue\n",
    "            break\n",
    "            \n",
    "        print ('out loop',i,'p2='+str(round(p2,2)),a2,'p1='+str(round(p1,2)),'pct='+str(round(pct,2)))            \n",
    "        i -= 1     \n",
    "        \n",
    "    return print('p1='+str(round(p1,2)),'p2='+str(round(p2,2)),'pct='+str(round(pct,2)))"
   ]
  },
  {
   "cell_type": "code",
   "execution_count": 8,
   "metadata": {},
   "outputs": [
    {
     "name": "stdout",
     "output_type": "stream",
     "text": [
      "before if 1000 p1=31.25 a1=46875.0 a2=188625.0 p2=31.44\n",
      "out loop 1000 p2=31.44 188625.0 p1=31.25 pct=0\n",
      "before if 999 p1=31.0 a1=46500.0 a2=188250.0 p2=31.38\n",
      "out loop 999 p2=31.38 188250.0 p1=31.0 pct=0\n",
      "before if 998 p1=30.75 a1=46125.0 a2=187875.0 p2=31.31\n",
      "out loop 998 p2=31.31 187875.0 p1=30.75 pct=0\n",
      "before if 997 p1=30.5 a1=45750.0 a2=187500.0 p2=31.25\n",
      "in loop 997 p2=31.25 187500.0 p1=30.5 pct=-3.17\n",
      "before if 997 p1=30.25 a1=45375.0 a2=187125.0 p2=31.19\n",
      "out loop 997 p2=31.19 187125.0 p1=30.25 pct=-3.17\n",
      "before if 996 p1=30.0 a1=45000.0 a2=186750.0 p2=31.12\n",
      "out loop 996 p2=31.12 186750.0 p1=30.0 pct=-3.17\n",
      "before if 995 p1=29.75 a1=44625.0 a2=186375.0 p2=31.06\n",
      "out loop 995 p2=31.06 186375.0 p1=29.75 pct=-3.17\n",
      "before if 994 p1=29.5 a1=44250.0 a2=186000.0 p2=31.0\n",
      "in loop 994 p2=31.0 186000.0 p1=29.5 pct=-6.35\n",
      "before if 994 p1=29.25 a1=43875.0 a2=185625.0 p2=30.94\n",
      "out loop 994 p2=30.94 185625.0 p1=29.25 pct=-6.35\n",
      "before if 993 p1=29.0 a1=43500.0 a2=185250.0 p2=30.88\n",
      "out loop 993 p2=30.88 185250.0 p1=29.0 pct=-6.35\n",
      "before if 992 p1=28.75 a1=43125.0 a2=184875.0 p2=30.81\n",
      "out loop 992 p2=30.81 184875.0 p1=28.75 pct=-6.35\n",
      "before if 991 p1=28.5 a1=42750.0 a2=184500.0 p2=30.75\n",
      "in loop 991 p2=30.75 184500.0 p1=28.5 pct=-9.52\n",
      "before if 991 p1=28.25 a1=42375.0 a2=184125.0 p2=30.69\n",
      "out loop 991 p2=30.69 184125.0 p1=28.25 pct=-9.52\n",
      "before if 990 p1=28.0 a1=42000.0 a2=183750.0 p2=30.62\n",
      "out loop 990 p2=30.62 183750.0 p1=28.0 pct=-9.52\n",
      "before if 989 p1=27.75 a1=41625.0 a2=183375.0 p2=30.56\n",
      "out loop 989 p2=30.56 183375.0 p1=27.75 pct=-9.52\n",
      "before if 988 p1=27.5 a1=41250.0 a2=183000.0 p2=30.5\n",
      "in loop 988 p2=30.5 183000.0 p1=27.5 pct=-12.7\n",
      "p1=27.5 p2=30.5 pct=-12.7\n"
     ]
    },
    {
     "data": {
      "text/plain": [
       "array([None], dtype=object)"
      ]
     },
     "execution_count": 8,
     "metadata": {},
     "output_type": "execute_result"
    }
   ],
   "source": [
    "my_array = [[4500,31.50,1500,0.25,10]]\n",
    "tmp = (np.apply_along_axis(number_of_spread, axis=1, arr=my_array))\n",
    "tmp"
   ]
  },
  {
   "cell_type": "markdown",
   "metadata": {},
   "source": [
    "##### "
   ]
  },
  {
   "cell_type": "code",
   "execution_count": null,
   "metadata": {},
   "outputs": [],
   "source": []
  }
 ],
 "metadata": {
  "anaconda-cloud": {},
  "kernelspec": {
   "display_name": "Python 3 (ipykernel)",
   "language": "python",
   "name": "python3"
  },
  "language_info": {
   "codemirror_mode": {
    "name": "ipython",
    "version": 3
   },
   "file_extension": ".py",
   "mimetype": "text/x-python",
   "name": "python",
   "nbconvert_exporter": "python",
   "pygments_lexer": "ipython3",
   "version": "3.8.11"
  }
 },
 "nbformat": 4,
 "nbformat_minor": 1
}
