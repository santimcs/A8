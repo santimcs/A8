{
 "cells": [
  {
   "cell_type": "code",
   "execution_count": 1,
   "metadata": {},
   "outputs": [
    {
     "data": {
      "text/plain": [
       "(datetime.date(2022, 7, 27), datetime.date(2022, 7, 26))"
      ]
     },
     "execution_count": 1,
     "metadata": {},
     "output_type": "execute_result"
    }
   ],
   "source": [
    "import calendar\n",
    "import pandas as pd\n",
    "import numpy as np\n",
    "from datetime import date, timedelta\n",
    "from math import ceil, floor, trunc\n",
    "\n",
    "today = date.today()\n",
    "yesterday = today - timedelta(days=1)\n",
    "today, yesterday"
   ]
  },
  {
   "cell_type": "code",
   "execution_count": 2,
   "metadata": {},
   "outputs": [],
   "source": [
    "def number_of_spread(x):\n",
    "    q0 = x[0]   #old qty\n",
    "    p0 = x[1]   #old unit \n",
    "    old_unit_cost = x[1]\n",
    "    q1 = x[2]   #purchase qty\n",
    "    d1 = x[3]  #spread according to price range\n",
    "    c0 = x[4]  #desired down percent to adjust purchase price\n",
    "\n",
    "    a0 = q0 * p0 # amount\n",
    "    \n",
    "    i = 1000\n",
    "    pct = 0\n",
    "    pt = 0\n",
    "    dt = 0\n",
    "    p2 = 0\n",
    "    while i > 0:\n",
    "        p1 = p0 - d1  #simulated purchase price\n",
    "        p0 = p1\n",
    "        a1 = q1 * p1  #new purchase amt\n",
    "        q2 = q0 + q1  #new total qty\n",
    "        a2 = a0 + a1  #new cost amt\n",
    "        p2 = a2 / q2  #new unit cost\n",
    "\n",
    "        pt = round(p2 * 100,2)  #simulated purchase price multiply 100  \n",
    "        dt = d1 * 100           #spread according to price range multiply 100\n",
    "        \n",
    "        print('before if',i,'p1='+str(round(p1,2)),'a1='+str(round(a1,2)),'a2='+str(round(a2,2)),'p2='+str(round(p2,2)))\n",
    "        \n",
    "        if (pt % dt) == 0:\n",
    "            pct = ((p1 - old_unit_cost)/old_unit_cost) * 100\n",
    "            print ('in loop' ,i,'p2='+str(round(p2,2)),a2,'p1='+str(round(p1,2)),'pct='+str(round(pct,2)))\n",
    "            if abs(pct) < c0:\n",
    "                continue\n",
    "            break\n",
    "            \n",
    "        print ('out loop',i,'p2='+str(round(p2,2)),a2,'p1='+str(round(p1,2)),'pct='+str(round(pct,2)))            \n",
    "        i -= 1     \n",
    "        \n",
    "    return print('p1='+str(round(p1,2)),'p2='+str(round(p2,2)),'pct='+str(round(pct,2)))"
   ]
  },
  {
   "cell_type": "code",
   "execution_count": 4,
   "metadata": {
    "scrolled": true
   },
   "outputs": [
    {
     "name": "stdout",
     "output_type": "stream",
     "text": [
      "before if 1000 p1=170.5 a1=51150.0 a2=256350.0 p2=170.9\n",
      "out loop 1000 p2=170.9 256350.0 p1=170.5 pct=0\n",
      "before if 999 p1=170.0 a1=51000.0 a2=256200.0 p2=170.8\n",
      "out loop 999 p2=170.8 256200.0 p1=170.0 pct=0\n",
      "before if 998 p1=169.5 a1=50850.0 a2=256050.0 p2=170.7\n",
      "out loop 998 p2=170.7 256050.0 p1=169.5 pct=0\n",
      "before if 997 p1=169.0 a1=50700.0 a2=255900.0 p2=170.6\n",
      "out loop 997 p2=170.6 255900.0 p1=169.0 pct=0\n",
      "before if 996 p1=168.5 a1=50550.0 a2=255750.0 p2=170.5\n",
      "in loop 996 p2=170.5 255750.0 p1=168.5 pct=-1.46\n",
      "before if 996 p1=168.0 a1=50400.0 a2=255600.0 p2=170.4\n",
      "out loop 996 p2=170.4 255600.0 p1=168.0 pct=-1.46\n",
      "before if 995 p1=167.5 a1=50250.0 a2=255450.0 p2=170.3\n",
      "out loop 995 p2=170.3 255450.0 p1=167.5 pct=-1.46\n",
      "before if 994 p1=167.0 a1=50100.0 a2=255300.0 p2=170.2\n",
      "out loop 994 p2=170.2 255300.0 p1=167.0 pct=-1.46\n",
      "before if 993 p1=166.5 a1=49950.0 a2=255150.0 p2=170.1\n",
      "out loop 993 p2=170.1 255150.0 p1=166.5 pct=-1.46\n",
      "before if 992 p1=166.0 a1=49800.0 a2=255000.0 p2=170.0\n",
      "in loop 992 p2=170.0 255000.0 p1=166.0 pct=-2.92\n",
      "before if 992 p1=165.5 a1=49650.0 a2=254850.0 p2=169.9\n",
      "out loop 992 p2=169.9 254850.0 p1=165.5 pct=-2.92\n",
      "before if 991 p1=165.0 a1=49500.0 a2=254700.0 p2=169.8\n",
      "out loop 991 p2=169.8 254700.0 p1=165.0 pct=-2.92\n",
      "before if 990 p1=164.5 a1=49350.0 a2=254550.0 p2=169.7\n",
      "out loop 990 p2=169.7 254550.0 p1=164.5 pct=-2.92\n",
      "before if 989 p1=164.0 a1=49200.0 a2=254400.0 p2=169.6\n",
      "out loop 989 p2=169.6 254400.0 p1=164.0 pct=-2.92\n",
      "before if 988 p1=163.5 a1=49050.0 a2=254250.0 p2=169.5\n",
      "in loop 988 p2=169.5 254250.0 p1=163.5 pct=-4.39\n",
      "before if 988 p1=163.0 a1=48900.0 a2=254100.0 p2=169.4\n",
      "out loop 988 p2=169.4 254100.0 p1=163.0 pct=-4.39\n",
      "before if 987 p1=162.5 a1=48750.0 a2=253950.0 p2=169.3\n",
      "out loop 987 p2=169.3 253950.0 p1=162.5 pct=-4.39\n",
      "before if 986 p1=162.0 a1=48600.0 a2=253800.0 p2=169.2\n",
      "out loop 986 p2=169.2 253800.0 p1=162.0 pct=-4.39\n",
      "before if 985 p1=161.5 a1=48450.0 a2=253650.0 p2=169.1\n",
      "out loop 985 p2=169.1 253650.0 p1=161.5 pct=-4.39\n",
      "before if 984 p1=161.0 a1=48300.0 a2=253500.0 p2=169.0\n",
      "in loop 984 p2=169.0 253500.0 p1=161.0 pct=-5.85\n",
      "before if 984 p1=160.5 a1=48150.0 a2=253350.0 p2=168.9\n",
      "out loop 984 p2=168.9 253350.0 p1=160.5 pct=-5.85\n",
      "before if 983 p1=160.0 a1=48000.0 a2=253200.0 p2=168.8\n",
      "out loop 983 p2=168.8 253200.0 p1=160.0 pct=-5.85\n",
      "before if 982 p1=159.5 a1=47850.0 a2=253050.0 p2=168.7\n",
      "out loop 982 p2=168.7 253050.0 p1=159.5 pct=-5.85\n",
      "before if 981 p1=159.0 a1=47700.0 a2=252900.0 p2=168.6\n",
      "out loop 981 p2=168.6 252900.0 p1=159.0 pct=-5.85\n",
      "before if 980 p1=158.5 a1=47550.0 a2=252750.0 p2=168.5\n",
      "in loop 980 p2=168.5 252750.0 p1=158.5 pct=-7.31\n",
      "before if 980 p1=158.0 a1=47400.0 a2=252600.0 p2=168.4\n",
      "out loop 980 p2=168.4 252600.0 p1=158.0 pct=-7.31\n",
      "before if 979 p1=157.5 a1=47250.0 a2=252450.0 p2=168.3\n",
      "out loop 979 p2=168.3 252450.0 p1=157.5 pct=-7.31\n",
      "before if 978 p1=157.0 a1=47100.0 a2=252300.0 p2=168.2\n",
      "out loop 978 p2=168.2 252300.0 p1=157.0 pct=-7.31\n",
      "before if 977 p1=156.5 a1=46950.0 a2=252150.0 p2=168.1\n",
      "out loop 977 p2=168.1 252150.0 p1=156.5 pct=-7.31\n",
      "before if 976 p1=156.0 a1=46800.0 a2=252000.0 p2=168.0\n",
      "in loop 976 p2=168.0 252000.0 p1=156.0 pct=-8.77\n",
      "before if 976 p1=155.5 a1=46650.0 a2=251850.0 p2=167.9\n",
      "out loop 976 p2=167.9 251850.0 p1=155.5 pct=-8.77\n",
      "before if 975 p1=155.0 a1=46500.0 a2=251700.0 p2=167.8\n",
      "out loop 975 p2=167.8 251700.0 p1=155.0 pct=-8.77\n",
      "before if 974 p1=154.5 a1=46350.0 a2=251550.0 p2=167.7\n",
      "out loop 974 p2=167.7 251550.0 p1=154.5 pct=-8.77\n",
      "before if 973 p1=154.0 a1=46200.0 a2=251400.0 p2=167.6\n",
      "out loop 973 p2=167.6 251400.0 p1=154.0 pct=-8.77\n",
      "before if 972 p1=153.5 a1=46050.0 a2=251250.0 p2=167.5\n",
      "in loop 972 p2=167.5 251250.0 p1=153.5 pct=-10.23\n",
      "p1=153.5 p2=167.5 pct=-10.23\n"
     ]
    },
    {
     "data": {
      "text/plain": [
       "array([None], dtype=object)"
      ]
     },
     "execution_count": 4,
     "metadata": {},
     "output_type": "execute_result"
    }
   ],
   "source": [
    "my_array = [[1200,171,300,.50,10]]\n",
    "tmp = (np.apply_along_axis(number_of_spread, axis=1, arr=my_array))\n",
    "tmp"
   ]
  },
  {
   "cell_type": "markdown",
   "metadata": {},
   "source": [
    "##### "
   ]
  },
  {
   "cell_type": "code",
   "execution_count": null,
   "metadata": {},
   "outputs": [],
   "source": []
  }
 ],
 "metadata": {
  "anaconda-cloud": {},
  "kernelspec": {
   "display_name": "Python 3 (ipykernel)",
   "language": "python",
   "name": "python3"
  },
  "language_info": {
   "codemirror_mode": {
    "name": "ipython",
    "version": 3
   },
   "file_extension": ".py",
   "mimetype": "text/x-python",
   "name": "python",
   "nbconvert_exporter": "python",
   "pygments_lexer": "ipython3",
   "version": "3.8.11"
  }
 },
 "nbformat": 4,
 "nbformat_minor": 1
}
