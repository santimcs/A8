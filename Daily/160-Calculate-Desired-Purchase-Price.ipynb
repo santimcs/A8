{
 "cells": [
  {
   "cell_type": "code",
   "execution_count": 1,
   "metadata": {},
   "outputs": [
    {
     "data": {
      "text/plain": [
       "(datetime.date(2022, 5, 28), datetime.date(2022, 5, 27))"
      ]
     },
     "execution_count": 1,
     "metadata": {},
     "output_type": "execute_result"
    }
   ],
   "source": [
    "import calendar\n",
    "import pandas as pd\n",
    "import numpy as np\n",
    "from datetime import date, timedelta\n",
    "from math import ceil, floor, trunc\n",
    "\n",
    "today = date.today()\n",
    "yesterday = today - timedelta(days=1)\n",
    "today, yesterday"
   ]
  },
  {
   "cell_type": "code",
   "execution_count": 2,
   "metadata": {},
   "outputs": [],
   "source": [
    "def number_of_spread(x):\n",
    "    q0 = x[0]   #old qty\n",
    "    p0 = x[1]   #old unit \n",
    "    old_unit_cost = x[1]\n",
    "    q1 = x[2]   #purchase qty\n",
    "    d1 = x[3]  #spread according to price range\n",
    "    c0 = x[4]  #desired down percent to adjust purchase price\n",
    "\n",
    "    a0 = q0 * p0 # amount\n",
    "    \n",
    "    i = 1000\n",
    "    pct = 0\n",
    "    pt = 0\n",
    "    dt = 0\n",
    "    p2 = 0\n",
    "    while i > 0:\n",
    "        p1 = p0 - d1  #simulated purchase price\n",
    "        p0 = p1\n",
    "        a1 = q1 * p1  #new purchase amt\n",
    "        q2 = q0 + q1  #new total qty\n",
    "        a2 = a0 + a1  #new cost amt\n",
    "        p2 = a2 / q2  #new unit cost\n",
    "\n",
    "        pt = round(p2 * 100,2)  #simulated purchase price multiply 100  \n",
    "        dt = d1 * 100           #spread according to price range multiply 100\n",
    "        \n",
    "        print('before if',i,'p1='+str(round(p1,2)),'a1='+str(round(a1,2)),'a2='+str(round(a2,2)),'p2='+str(round(p2,2)))\n",
    "        \n",
    "        if (pt % dt) == 0:\n",
    "            pct = ((p1 - old_unit_cost)/old_unit_cost) * 100\n",
    "            print ('in loop' ,i,'p2='+str(round(p2,2)),a2,'p1='+str(round(p1,2)),'pct='+str(round(pct,2)))\n",
    "            if abs(pct) < c0:\n",
    "                continue\n",
    "            break\n",
    "            \n",
    "        print ('out loop',i,'p2='+str(round(p2,2)),a2,'p1='+str(round(p1,2)),'pct='+str(round(pct,2)))            \n",
    "        i -= 1     \n",
    "        \n",
    "    return print('p1='+str(round(p1,2)),'p2='+str(round(p2,2)),'pct='+str(round(pct,2)))"
   ]
  },
  {
   "cell_type": "code",
   "execution_count": 4,
   "metadata": {},
   "outputs": [
    {
     "name": "stdout",
     "output_type": "stream",
     "text": [
      "before if 1000 p1=25.9 a1=38850.0 a2=155850.0 p2=25.98\n",
      "out loop 1000 p2=25.98 155850.0 p1=25.9 pct=0\n",
      "before if 999 p1=25.8 a1=38700.0 a2=155700.0 p2=25.95\n",
      "out loop 999 p2=25.95 155700.0 p1=25.8 pct=0\n",
      "before if 998 p1=25.7 a1=38550.0 a2=155550.0 p2=25.92\n",
      "out loop 998 p2=25.92 155550.0 p1=25.7 pct=0\n",
      "before if 997 p1=25.6 a1=38400.0 a2=155400.0 p2=25.9\n",
      "in loop 997 p2=25.9 155400.0 p1=25.6 pct=-1.54\n",
      "before if 997 p1=25.5 a1=38250.0 a2=155250.0 p2=25.88\n",
      "out loop 997 p2=25.88 155250.0 p1=25.5 pct=-1.54\n",
      "before if 996 p1=25.4 a1=38100.0 a2=155100.0 p2=25.85\n",
      "out loop 996 p2=25.85 155100.0 p1=25.4 pct=-1.54\n",
      "before if 995 p1=25.3 a1=37950.0 a2=154950.0 p2=25.82\n",
      "out loop 995 p2=25.82 154950.0 p1=25.3 pct=-1.54\n",
      "before if 994 p1=25.2 a1=37800.0 a2=154800.0 p2=25.8\n",
      "in loop 994 p2=25.8 154800.0 p1=25.2 pct=-3.08\n",
      "before if 994 p1=25.1 a1=37650.0 a2=154650.0 p2=25.77\n",
      "out loop 994 p2=25.77 154649.99999999997 p1=25.1 pct=-3.08\n",
      "before if 993 p1=25.0 a1=37500.0 a2=154500.0 p2=25.75\n",
      "out loop 993 p2=25.75 154499.99999999997 p1=25.0 pct=-3.08\n",
      "before if 992 p1=24.9 a1=37350.0 a2=154350.0 p2=25.72\n",
      "out loop 992 p2=25.72 154349.99999999997 p1=24.9 pct=-3.08\n",
      "before if 991 p1=24.8 a1=37200.0 a2=154200.0 p2=25.7\n",
      "in loop 991 p2=25.7 154199.99999999997 p1=24.8 pct=-4.62\n",
      "before if 991 p1=24.7 a1=37050.0 a2=154050.0 p2=25.67\n",
      "out loop 991 p2=25.67 154049.99999999997 p1=24.7 pct=-4.62\n",
      "before if 990 p1=24.6 a1=36900.0 a2=153900.0 p2=25.65\n",
      "out loop 990 p2=25.65 153899.99999999997 p1=24.6 pct=-4.62\n",
      "before if 989 p1=24.5 a1=36750.0 a2=153750.0 p2=25.62\n",
      "out loop 989 p2=25.62 153749.99999999997 p1=24.5 pct=-4.62\n",
      "before if 988 p1=24.4 a1=36600.0 a2=153600.0 p2=25.6\n",
      "in loop 988 p2=25.6 153599.99999999997 p1=24.4 pct=-6.15\n",
      "p1=24.4 p2=25.6 pct=-6.15\n"
     ]
    },
    {
     "data": {
      "text/plain": [
       "array([None], dtype=object)"
      ]
     },
     "execution_count": 4,
     "metadata": {},
     "output_type": "execute_result"
    }
   ],
   "source": [
    "my_array = [[4500,26,1500,.10,5]]\n",
    "tmp = (np.apply_along_axis(number_of_spread, axis=1, arr=my_array))\n",
    "tmp"
   ]
  },
  {
   "cell_type": "markdown",
   "metadata": {},
   "source": [
    "##### "
   ]
  },
  {
   "cell_type": "code",
   "execution_count": null,
   "metadata": {},
   "outputs": [],
   "source": []
  }
 ],
 "metadata": {
  "anaconda-cloud": {},
  "kernelspec": {
   "display_name": "Python 3 (ipykernel)",
   "language": "python",
   "name": "python3"
  },
  "language_info": {
   "codemirror_mode": {
    "name": "ipython",
    "version": 3
   },
   "file_extension": ".py",
   "mimetype": "text/x-python",
   "name": "python",
   "nbconvert_exporter": "python",
   "pygments_lexer": "ipython3",
   "version": "3.8.11"
  }
 },
 "nbformat": 4,
 "nbformat_minor": 1
}
