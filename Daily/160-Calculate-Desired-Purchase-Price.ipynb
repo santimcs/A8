{
 "cells": [
  {
   "cell_type": "code",
   "execution_count": 1,
   "metadata": {},
   "outputs": [
    {
     "data": {
      "text/plain": [
       "(datetime.date(2022, 2, 7), datetime.date(2022, 2, 6))"
      ]
     },
     "execution_count": 1,
     "metadata": {},
     "output_type": "execute_result"
    }
   ],
   "source": [
    "import calendar\n",
    "import pandas as pd\n",
    "import numpy as np\n",
    "from datetime import date, timedelta\n",
    "from math import ceil, floor, trunc\n",
    "\n",
    "today = date.today()\n",
    "yesterday = today - timedelta(days=1)\n",
    "today, yesterday"
   ]
  },
  {
   "cell_type": "code",
   "execution_count": 2,
   "metadata": {},
   "outputs": [],
   "source": [
    "def number_of_spread(x):\n",
    "    q0 = x[0]   #old qty\n",
    "    p0 = x[1]   #old unit \n",
    "    old_unit_cost = x[1]\n",
    "    q1 = x[2]   #purchase qty\n",
    "    d1 = x[3]  #spread according to price range\n",
    "    c0 = x[4]  #desired down percent to adjust purchase price\n",
    "\n",
    "    a0 = q0 * p0 # amount\n",
    "    \n",
    "    i = 1000\n",
    "    pct = 0\n",
    "    pt = 0\n",
    "    dt = 0\n",
    "    p2 = 0\n",
    "    while i > 0:\n",
    "        p1 = p0 - d1  #simulated purchase price\n",
    "        p0 = p1\n",
    "        a1 = q1 * p1  #new purchase amt\n",
    "        q2 = q0 + q1  #new total qty\n",
    "        a2 = a0 + a1  #new cost amt\n",
    "        p2 = a2 / q2  #new unit cost\n",
    "\n",
    "        pt = round(p2 * 100,2)  #simulated purchase price multiply 100  \n",
    "        dt = d1 * 100           #spread according to price range multiply 100\n",
    "        \n",
    "        print('before if',i,'p1='+str(round(p1,2)),'a1='+str(round(a1,2)),'a2='+str(round(a2,2)),'p2='+str(round(p2,2)))\n",
    "        \n",
    "        if (pt % dt) == 0:\n",
    "            pct = (p1 - old_unit_cost)/old_unit_cost * 100\n",
    "            print ('in loop' ,i,'p2='+str(round(p2,2)),a2,'p1='+str(round(p1,2)),'pct='+str(round(pct,2)))\n",
    "            if abs(pct) < c0:\n",
    "                continue\n",
    "            break\n",
    "            \n",
    "        print ('out loop',i,'p2='+str(round(p2,2)),a2,'p1='+str(round(p1,2)),'pct='+str(round(pct,2)))            \n",
    "        i -= 1     \n",
    "        \n",
    "    return print('p1='+str(round(p1,2)),'p2='+str(round(p2,2)),'pct='+str(round(pct,2)))"
   ]
  },
  {
   "cell_type": "code",
   "execution_count": 6,
   "metadata": {},
   "outputs": [
    {
     "name": "stdout",
     "output_type": "stream",
     "text": [
      "before if 1000 p1=34.5 a1=86250.0 a2=781250.0 p2=34.72\n",
      "out loop 1000 p2=34.72 781250.0 p1=34.5 pct=0\n",
      "before if 999 p1=34.25 a1=85625.0 a2=780625.0 p2=34.69\n",
      "out loop 999 p2=34.69 780625.0 p1=34.25 pct=0\n",
      "before if 998 p1=34.0 a1=85000.0 a2=780000.0 p2=34.67\n",
      "out loop 998 p2=34.67 780000.0 p1=34.0 pct=0\n",
      "before if 997 p1=33.75 a1=84375.0 a2=779375.0 p2=34.64\n",
      "out loop 997 p2=34.64 779375.0 p1=33.75 pct=0\n",
      "before if 996 p1=33.5 a1=83750.0 a2=778750.0 p2=34.61\n",
      "out loop 996 p2=34.61 778750.0 p1=33.5 pct=0\n",
      "before if 995 p1=33.25 a1=83125.0 a2=778125.0 p2=34.58\n",
      "out loop 995 p2=34.58 778125.0 p1=33.25 pct=0\n",
      "before if 994 p1=33.0 a1=82500.0 a2=777500.0 p2=34.56\n",
      "out loop 994 p2=34.56 777500.0 p1=33.0 pct=0\n",
      "before if 993 p1=32.75 a1=81875.0 a2=776875.0 p2=34.53\n",
      "out loop 993 p2=34.53 776875.0 p1=32.75 pct=0\n",
      "before if 992 p1=32.5 a1=81250.0 a2=776250.0 p2=34.5\n",
      "in loop 992 p2=34.5 776250.0 p1=32.5 pct=-6.47\n",
      "before if 992 p1=32.25 a1=80625.0 a2=775625.0 p2=34.47\n",
      "out loop 992 p2=34.47 775625.0 p1=32.25 pct=-6.47\n",
      "before if 991 p1=32.0 a1=80000.0 a2=775000.0 p2=34.44\n",
      "out loop 991 p2=34.44 775000.0 p1=32.0 pct=-6.47\n",
      "before if 990 p1=31.75 a1=79375.0 a2=774375.0 p2=34.42\n",
      "out loop 990 p2=34.42 774375.0 p1=31.75 pct=-6.47\n",
      "before if 989 p1=31.5 a1=78750.0 a2=773750.0 p2=34.39\n",
      "out loop 989 p2=34.39 773750.0 p1=31.5 pct=-6.47\n",
      "before if 988 p1=31.25 a1=78125.0 a2=773125.0 p2=34.36\n",
      "out loop 988 p2=34.36 773125.0 p1=31.25 pct=-6.47\n",
      "before if 987 p1=31.0 a1=77500.0 a2=772500.0 p2=34.33\n",
      "out loop 987 p2=34.33 772500.0 p1=31.0 pct=-6.47\n",
      "before if 986 p1=30.75 a1=76875.0 a2=771875.0 p2=34.31\n",
      "out loop 986 p2=34.31 771875.0 p1=30.75 pct=-6.47\n",
      "before if 985 p1=30.5 a1=76250.0 a2=771250.0 p2=34.28\n",
      "out loop 985 p2=34.28 771250.0 p1=30.5 pct=-6.47\n",
      "before if 984 p1=30.25 a1=75625.0 a2=770625.0 p2=34.25\n",
      "in loop 984 p2=34.25 770625.0 p1=30.25 pct=-12.95\n",
      "p1=30.25 p2=34.25 pct=-12.95\n"
     ]
    },
    {
     "data": {
      "text/plain": [
       "array([None], dtype=object)"
      ]
     },
     "execution_count": 6,
     "metadata": {},
     "output_type": "execute_result"
    }
   ],
   "source": [
    "my_array = [[20000,34.75,2500,0.25,10]]\n",
    "tmp = (np.apply_along_axis(number_of_spread, axis=1, arr=my_array))\n",
    "tmp"
   ]
  },
  {
   "cell_type": "markdown",
   "metadata": {},
   "source": [
    "##### "
   ]
  },
  {
   "cell_type": "code",
   "execution_count": null,
   "metadata": {},
   "outputs": [],
   "source": []
  }
 ],
 "metadata": {
  "anaconda-cloud": {},
  "kernelspec": {
   "display_name": "Python 3 (ipykernel)",
   "language": "python",
   "name": "python3"
  },
  "language_info": {
   "codemirror_mode": {
    "name": "ipython",
    "version": 3
   },
   "file_extension": ".py",
   "mimetype": "text/x-python",
   "name": "python",
   "nbconvert_exporter": "python",
   "pygments_lexer": "ipython3",
   "version": "3.8.11"
  }
 },
 "nbformat": 4,
 "nbformat_minor": 1
}
