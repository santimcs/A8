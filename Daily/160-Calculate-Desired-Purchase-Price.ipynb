{
 "cells": [
  {
   "cell_type": "code",
   "execution_count": 1,
   "metadata": {},
   "outputs": [
    {
     "data": {
      "text/plain": [
       "(datetime.date(2022, 6, 17), datetime.date(2022, 6, 16))"
      ]
     },
     "execution_count": 1,
     "metadata": {},
     "output_type": "execute_result"
    }
   ],
   "source": [
    "import calendar\n",
    "import pandas as pd\n",
    "import numpy as np\n",
    "from datetime import date, timedelta\n",
    "from math import ceil, floor, trunc\n",
    "\n",
    "today = date.today()\n",
    "yesterday = today - timedelta(days=1)\n",
    "today, yesterday"
   ]
  },
  {
   "cell_type": "code",
   "execution_count": 2,
   "metadata": {},
   "outputs": [],
   "source": [
    "def number_of_spread(x):\n",
    "    q0 = x[0]   #old qty\n",
    "    p0 = x[1]   #old unit \n",
    "    old_unit_cost = x[1]\n",
    "    q1 = x[2]   #purchase qty\n",
    "    d1 = x[3]  #spread according to price range\n",
    "    c0 = x[4]  #desired down percent to adjust purchase price\n",
    "\n",
    "    a0 = q0 * p0 # amount\n",
    "    \n",
    "    i = 1000\n",
    "    pct = 0\n",
    "    pt = 0\n",
    "    dt = 0\n",
    "    p2 = 0\n",
    "    while i > 0:\n",
    "        p1 = p0 - d1  #simulated purchase price\n",
    "        p0 = p1\n",
    "        a1 = q1 * p1  #new purchase amt\n",
    "        q2 = q0 + q1  #new total qty\n",
    "        a2 = a0 + a1  #new cost amt\n",
    "        p2 = a2 / q2  #new unit cost\n",
    "\n",
    "        pt = round(p2 * 100,2)  #simulated purchase price multiply 100  \n",
    "        dt = d1 * 100           #spread according to price range multiply 100\n",
    "        \n",
    "        print('before if',i,'p1='+str(round(p1,2)),'a1='+str(round(a1,2)),'a2='+str(round(a2,2)),'p2='+str(round(p2,2)))\n",
    "        \n",
    "        if (pt % dt) == 0:\n",
    "            pct = ((p1 - old_unit_cost)/old_unit_cost) * 100\n",
    "            print ('in loop' ,i,'p2='+str(round(p2,2)),a2,'p1='+str(round(p1,2)),'pct='+str(round(pct,2)))\n",
    "            if abs(pct) < c0:\n",
    "                continue\n",
    "            break\n",
    "            \n",
    "        print ('out loop',i,'p2='+str(round(p2,2)),a2,'p1='+str(round(p1,2)),'pct='+str(round(pct,2)))            \n",
    "        i -= 1     \n",
    "        \n",
    "    return print('p1='+str(round(p1,2)),'p2='+str(round(p2,2)),'pct='+str(round(pct,2)))"
   ]
  },
  {
   "cell_type": "code",
   "execution_count": 5,
   "metadata": {},
   "outputs": [
    {
     "name": "stdout",
     "output_type": "stream",
     "text": [
      "before if 1000 p1=57.25 a1=85875.0 a2=258375.0 p2=57.42\n",
      "out loop 1000 p2=57.42 258375.0 p1=57.25 pct=0\n",
      "before if 999 p1=57.0 a1=85500.0 a2=258000.0 p2=57.33\n",
      "out loop 999 p2=57.33 258000.0 p1=57.0 pct=0\n",
      "before if 998 p1=56.75 a1=85125.0 a2=257625.0 p2=57.25\n",
      "in loop 998 p2=57.25 257625.0 p1=56.75 pct=-1.3\n",
      "before if 998 p1=56.5 a1=84750.0 a2=257250.0 p2=57.17\n",
      "out loop 998 p2=57.17 257250.0 p1=56.5 pct=-1.3\n",
      "before if 997 p1=56.25 a1=84375.0 a2=256875.0 p2=57.08\n",
      "out loop 997 p2=57.08 256875.0 p1=56.25 pct=-1.3\n",
      "before if 996 p1=56.0 a1=84000.0 a2=256500.0 p2=57.0\n",
      "in loop 996 p2=57.0 256500.0 p1=56.0 pct=-2.61\n",
      "before if 996 p1=55.75 a1=83625.0 a2=256125.0 p2=56.92\n",
      "out loop 996 p2=56.92 256125.0 p1=55.75 pct=-2.61\n",
      "before if 995 p1=55.5 a1=83250.0 a2=255750.0 p2=56.83\n",
      "out loop 995 p2=56.83 255750.0 p1=55.5 pct=-2.61\n",
      "before if 994 p1=55.25 a1=82875.0 a2=255375.0 p2=56.75\n",
      "in loop 994 p2=56.75 255375.0 p1=55.25 pct=-3.91\n",
      "before if 994 p1=55.0 a1=82500.0 a2=255000.0 p2=56.67\n",
      "out loop 994 p2=56.67 255000.0 p1=55.0 pct=-3.91\n",
      "before if 993 p1=54.75 a1=82125.0 a2=254625.0 p2=56.58\n",
      "out loop 993 p2=56.58 254625.0 p1=54.75 pct=-3.91\n",
      "before if 992 p1=54.5 a1=81750.0 a2=254250.0 p2=56.5\n",
      "in loop 992 p2=56.5 254250.0 p1=54.5 pct=-5.22\n",
      "before if 992 p1=54.25 a1=81375.0 a2=253875.0 p2=56.42\n",
      "out loop 992 p2=56.42 253875.0 p1=54.25 pct=-5.22\n",
      "before if 991 p1=54.0 a1=81000.0 a2=253500.0 p2=56.33\n",
      "out loop 991 p2=56.33 253500.0 p1=54.0 pct=-5.22\n",
      "before if 990 p1=53.75 a1=80625.0 a2=253125.0 p2=56.25\n",
      "in loop 990 p2=56.25 253125.0 p1=53.75 pct=-6.52\n",
      "before if 990 p1=53.5 a1=80250.0 a2=252750.0 p2=56.17\n",
      "out loop 990 p2=56.17 252750.0 p1=53.5 pct=-6.52\n",
      "before if 989 p1=53.25 a1=79875.0 a2=252375.0 p2=56.08\n",
      "out loop 989 p2=56.08 252375.0 p1=53.25 pct=-6.52\n",
      "before if 988 p1=53.0 a1=79500.0 a2=252000.0 p2=56.0\n",
      "in loop 988 p2=56.0 252000.0 p1=53.0 pct=-7.83\n",
      "before if 988 p1=52.75 a1=79125.0 a2=251625.0 p2=55.92\n",
      "out loop 988 p2=55.92 251625.0 p1=52.75 pct=-7.83\n",
      "before if 987 p1=52.5 a1=78750.0 a2=251250.0 p2=55.83\n",
      "out loop 987 p2=55.83 251250.0 p1=52.5 pct=-7.83\n",
      "before if 986 p1=52.25 a1=78375.0 a2=250875.0 p2=55.75\n",
      "in loop 986 p2=55.75 250875.0 p1=52.25 pct=-9.13\n",
      "before if 986 p1=52.0 a1=78000.0 a2=250500.0 p2=55.67\n",
      "out loop 986 p2=55.67 250500.0 p1=52.0 pct=-9.13\n",
      "before if 985 p1=51.75 a1=77625.0 a2=250125.0 p2=55.58\n",
      "out loop 985 p2=55.58 250125.0 p1=51.75 pct=-9.13\n",
      "before if 984 p1=51.5 a1=77250.0 a2=249750.0 p2=55.5\n",
      "in loop 984 p2=55.5 249750.0 p1=51.5 pct=-10.43\n",
      "before if 984 p1=51.25 a1=76875.0 a2=249375.0 p2=55.42\n",
      "out loop 984 p2=55.42 249375.0 p1=51.25 pct=-10.43\n",
      "before if 983 p1=51.0 a1=76500.0 a2=249000.0 p2=55.33\n",
      "out loop 983 p2=55.33 249000.0 p1=51.0 pct=-10.43\n",
      "before if 982 p1=50.75 a1=76125.0 a2=248625.0 p2=55.25\n",
      "in loop 982 p2=55.25 248625.0 p1=50.75 pct=-11.74\n",
      "before if 982 p1=50.5 a1=75750.0 a2=248250.0 p2=55.17\n",
      "out loop 982 p2=55.17 248250.0 p1=50.5 pct=-11.74\n",
      "before if 981 p1=50.25 a1=75375.0 a2=247875.0 p2=55.08\n",
      "out loop 981 p2=55.08 247875.0 p1=50.25 pct=-11.74\n",
      "before if 980 p1=50.0 a1=75000.0 a2=247500.0 p2=55.0\n",
      "in loop 980 p2=55.0 247500.0 p1=50.0 pct=-13.04\n",
      "before if 980 p1=49.75 a1=74625.0 a2=247125.0 p2=54.92\n",
      "out loop 980 p2=54.92 247125.0 p1=49.75 pct=-13.04\n",
      "before if 979 p1=49.5 a1=74250.0 a2=246750.0 p2=54.83\n",
      "out loop 979 p2=54.83 246750.0 p1=49.5 pct=-13.04\n",
      "before if 978 p1=49.25 a1=73875.0 a2=246375.0 p2=54.75\n",
      "in loop 978 p2=54.75 246375.0 p1=49.25 pct=-14.35\n",
      "before if 978 p1=49.0 a1=73500.0 a2=246000.0 p2=54.67\n",
      "out loop 978 p2=54.67 246000.0 p1=49.0 pct=-14.35\n",
      "before if 977 p1=48.75 a1=73125.0 a2=245625.0 p2=54.58\n",
      "out loop 977 p2=54.58 245625.0 p1=48.75 pct=-14.35\n",
      "before if 976 p1=48.5 a1=72750.0 a2=245250.0 p2=54.5\n",
      "in loop 976 p2=54.5 245250.0 p1=48.5 pct=-15.65\n",
      "p1=48.5 p2=54.5 pct=-15.65\n"
     ]
    },
    {
     "data": {
      "text/plain": [
       "array([None], dtype=object)"
      ]
     },
     "execution_count": 5,
     "metadata": {},
     "output_type": "execute_result"
    }
   ],
   "source": [
    "my_array = [[3000,57.5,1500,.25,15]]\n",
    "tmp = (np.apply_along_axis(number_of_spread, axis=1, arr=my_array))\n",
    "tmp"
   ]
  },
  {
   "cell_type": "markdown",
   "metadata": {},
   "source": [
    "##### "
   ]
  },
  {
   "cell_type": "code",
   "execution_count": null,
   "metadata": {},
   "outputs": [],
   "source": []
  }
 ],
 "metadata": {
  "anaconda-cloud": {},
  "kernelspec": {
   "display_name": "Python 3 (ipykernel)",
   "language": "python",
   "name": "python3"
  },
  "language_info": {
   "codemirror_mode": {
    "name": "ipython",
    "version": 3
   },
   "file_extension": ".py",
   "mimetype": "text/x-python",
   "name": "python",
   "nbconvert_exporter": "python",
   "pygments_lexer": "ipython3",
   "version": "3.8.11"
  }
 },
 "nbformat": 4,
 "nbformat_minor": 1
}
