{
 "cells": [
  {
   "cell_type": "code",
   "execution_count": 1,
   "metadata": {},
   "outputs": [
    {
     "data": {
      "text/plain": [
       "(datetime.date(2022, 1, 8), datetime.date(2022, 1, 7))"
      ]
     },
     "execution_count": 1,
     "metadata": {},
     "output_type": "execute_result"
    }
   ],
   "source": [
    "import calendar\n",
    "import pandas as pd\n",
    "import numpy as np\n",
    "from datetime import date, timedelta\n",
    "from math import ceil, floor, trunc\n",
    "\n",
    "today = date.today()\n",
    "yesterday = today - timedelta(days=1)\n",
    "today, yesterday"
   ]
  },
  {
   "cell_type": "code",
   "execution_count": 2,
   "metadata": {},
   "outputs": [],
   "source": [
    "def number_of_spread(x):\n",
    "    q0 = x[0]   #old qty\n",
    "    p0 = x[1]   #old unit \n",
    "    old_unit_cost = x[1]\n",
    "    q1 = x[2]   #purchase qty\n",
    "    d1 = x[3]  #spread according to price range\n",
    "    c0 = x[4]  #desired down percent to adjust purchase price\n",
    "\n",
    "    a0 = q0 * p0 # amount\n",
    "    \n",
    "    i = 1000\n",
    "    pct = 0\n",
    "    pt = 0\n",
    "    dt = 0\n",
    "    p2 = 0\n",
    "    while i > 0:\n",
    "        p1 = p0 - d1  #simulated purchase price\n",
    "        p0 = p1\n",
    "        a1 = q1 * p1  #new purchase amt\n",
    "        q2 = q0 + q1  #new total qty\n",
    "        a2 = a0 + a1  #new cost amt\n",
    "        p2 = a2 / q2  #new unit cost\n",
    "\n",
    "        pt = round(p2 * 100,2)  #simulated purchase price multiply 100  \n",
    "        dt = d1 * 100           #spread according to price range multiply 100\n",
    "        \n",
    "        print('before if',i,'p1='+str(round(p1,2)),'a1='+str(round(a1,2)),'a2='+str(round(a2,2)),'p2='+str(round(p2,2)))\n",
    "        \n",
    "        if (pt % dt) == 0:\n",
    "            pct = (p1 - old_unit_cost)/old_unit_cost * 100\n",
    "            print ('in loop' ,i,'p2='+str(round(p2,2)),a2,'p1='+str(round(p1,2)),'pct='+str(round(pct,2)))\n",
    "            if abs(pct) < c0:\n",
    "                continue\n",
    "            break\n",
    "            \n",
    "        print ('out loop',i,'p2='+str(round(p2,2)),a2,'p1='+str(round(p1,2)),'pct='+str(round(pct,2)))            \n",
    "        i -= 1     \n",
    "        \n",
    "    return print('p1='+str(round(p1,2)),'p2='+str(round(p2,2)),'pct='+str(round(pct,2)))"
   ]
  },
  {
   "cell_type": "code",
   "execution_count": 4,
   "metadata": {},
   "outputs": [
    {
     "name": "stdout",
     "output_type": "stream",
     "text": [
      "before if 1000 p1=3.78 a1=18900.0 a2=170900.0 p2=3.8\n",
      "out loop 1000 p2=3.8 170900.0 p1=3.78 pct=0\n",
      "before if 999 p1=3.76 a1=18800.0 a2=170800.0 p2=3.8\n",
      "out loop 999 p2=3.8 170800.0 p1=3.76 pct=0\n",
      "before if 998 p1=3.74 a1=18700.0 a2=170700.0 p2=3.79\n",
      "out loop 998 p2=3.79 170700.0 p1=3.74 pct=0\n",
      "before if 997 p1=3.72 a1=18600.0 a2=170600.0 p2=3.79\n",
      "out loop 997 p2=3.79 170600.0 p1=3.72 pct=0\n",
      "before if 996 p1=3.7 a1=18500.0 a2=170500.0 p2=3.79\n",
      "out loop 996 p2=3.79 170500.0 p1=3.7 pct=0\n",
      "before if 995 p1=3.68 a1=18400.0 a2=170400.0 p2=3.79\n",
      "out loop 995 p2=3.79 170400.0 p1=3.68 pct=0\n",
      "before if 994 p1=3.66 a1=18300.0 a2=170300.0 p2=3.78\n",
      "out loop 994 p2=3.78 170300.0 p1=3.66 pct=0\n",
      "before if 993 p1=3.64 a1=18200.0 a2=170200.0 p2=3.78\n",
      "out loop 993 p2=3.78 170200.0 p1=3.64 pct=0\n",
      "before if 992 p1=3.62 a1=18100.0 a2=170100.0 p2=3.78\n",
      "in loop 992 p2=3.78 170100.0 p1=3.62 pct=-4.74\n",
      "before if 992 p1=3.6 a1=18000.0 a2=170000.0 p2=3.78\n",
      "out loop 992 p2=3.78 170000.0 p1=3.6 pct=-4.74\n",
      "before if 991 p1=3.58 a1=17900.0 a2=169900.0 p2=3.78\n",
      "out loop 991 p2=3.78 169900.0 p1=3.58 pct=-4.74\n",
      "before if 990 p1=3.56 a1=17800.0 a2=169800.0 p2=3.77\n",
      "out loop 990 p2=3.77 169800.0 p1=3.56 pct=-4.74\n",
      "before if 989 p1=3.54 a1=17700.0 a2=169700.0 p2=3.77\n",
      "out loop 989 p2=3.77 169700.0 p1=3.54 pct=-4.74\n",
      "before if 988 p1=3.52 a1=17600.0 a2=169600.0 p2=3.77\n",
      "out loop 988 p2=3.77 169600.0 p1=3.52 pct=-4.74\n",
      "before if 987 p1=3.5 a1=17500.0 a2=169500.0 p2=3.77\n",
      "out loop 987 p2=3.77 169500.0 p1=3.5 pct=-4.74\n",
      "before if 986 p1=3.48 a1=17400.0 a2=169400.0 p2=3.76\n",
      "out loop 986 p2=3.76 169400.0 p1=3.48 pct=-4.74\n",
      "before if 985 p1=3.46 a1=17300.0 a2=169300.0 p2=3.76\n",
      "out loop 985 p2=3.76 169300.0 p1=3.46 pct=-4.74\n",
      "before if 984 p1=3.44 a1=17200.0 a2=169200.0 p2=3.76\n",
      "in loop 984 p2=3.76 169200.0 p1=3.44 pct=-9.47\n",
      "p1=3.44 p2=3.76 pct=-9.47\n"
     ]
    },
    {
     "data": {
      "text/plain": [
       "array([None], dtype=object)"
      ]
     },
     "execution_count": 4,
     "metadata": {},
     "output_type": "execute_result"
    }
   ],
   "source": [
    "my_array = [[40000,3.80,5000,0.02,5]]\n",
    "tmp = (np.apply_along_axis(number_of_spread, axis=1, arr=my_array))\n",
    "tmp"
   ]
  },
  {
   "cell_type": "code",
   "execution_count": null,
   "metadata": {},
   "outputs": [],
   "source": []
  },
  {
   "cell_type": "code",
   "execution_count": null,
   "metadata": {},
   "outputs": [],
   "source": []
  }
 ],
 "metadata": {
  "anaconda-cloud": {},
  "kernelspec": {
   "display_name": "Python 3 (ipykernel)",
   "language": "python",
   "name": "python3"
  },
  "language_info": {
   "codemirror_mode": {
    "name": "ipython",
    "version": 3
   },
   "file_extension": ".py",
   "mimetype": "text/x-python",
   "name": "python",
   "nbconvert_exporter": "python",
   "pygments_lexer": "ipython3",
   "version": "3.8.11"
  }
 },
 "nbformat": 4,
 "nbformat_minor": 1
}
