{
 "cells": [
  {
   "cell_type": "code",
   "execution_count": 1,
   "metadata": {},
   "outputs": [
    {
     "data": {
      "text/plain": [
       "(datetime.date(2022, 4, 2), datetime.date(2022, 4, 1))"
      ]
     },
     "execution_count": 1,
     "metadata": {},
     "output_type": "execute_result"
    }
   ],
   "source": [
    "import calendar\n",
    "import pandas as pd\n",
    "import numpy as np\n",
    "from datetime import date, timedelta\n",
    "from math import ceil, floor, trunc\n",
    "\n",
    "today = date.today()\n",
    "yesterday = today - timedelta(days=1)\n",
    "today, yesterday"
   ]
  },
  {
   "cell_type": "code",
   "execution_count": 2,
   "metadata": {},
   "outputs": [],
   "source": [
    "def number_of_spread(x):\n",
    "    q0 = x[0]   #old qty\n",
    "    p0 = x[1]   #old unit \n",
    "    old_unit_cost = x[1]\n",
    "    q1 = x[2]   #purchase qty\n",
    "    d1 = x[3]  #spread according to price range\n",
    "    c0 = x[4]  #desired down percent to adjust purchase price\n",
    "\n",
    "    a0 = q0 * p0 # amount\n",
    "    \n",
    "    i = 1000\n",
    "    pct = 0\n",
    "    pt = 0\n",
    "    dt = 0\n",
    "    p2 = 0\n",
    "    while i > 0:\n",
    "        p1 = p0 - d1  #simulated purchase price\n",
    "        p0 = p1\n",
    "        a1 = q1 * p1  #new purchase amt\n",
    "        q2 = q0 + q1  #new total qty\n",
    "        a2 = a0 + a1  #new cost amt\n",
    "        p2 = a2 / q2  #new unit cost\n",
    "\n",
    "        pt = round(p2 * 100,2)  #simulated purchase price multiply 100  \n",
    "        dt = d1 * 100           #spread according to price range multiply 100\n",
    "        \n",
    "        print('before if',i,'p1='+str(round(p1,2)),'a1='+str(round(a1,2)),'a2='+str(round(a2,2)),'p2='+str(round(p2,2)))\n",
    "        \n",
    "        if (pt % dt) == 0:\n",
    "            pct = (p1 - old_unit_cost)/old_unit_cost * 100\n",
    "            print ('in loop' ,i,'p2='+str(round(p2,2)),a2,'p1='+str(round(p1,2)),'pct='+str(round(pct,2)))\n",
    "            if abs(pct) < c0:\n",
    "                continue\n",
    "            break\n",
    "            \n",
    "        print ('out loop',i,'p2='+str(round(p2,2)),a2,'p1='+str(round(p1,2)),'pct='+str(round(pct,2)))            \n",
    "        i -= 1     \n",
    "        \n",
    "    return print('p1='+str(round(p1,2)),'p2='+str(round(p2,2)),'pct='+str(round(pct,2)))"
   ]
  },
  {
   "cell_type": "code",
   "execution_count": 4,
   "metadata": {},
   "outputs": [
    {
     "name": "stdout",
     "output_type": "stream",
     "text": [
      "before if 1000 p1=23.6 a1=70800.0 a2=355200.0 p2=23.68\n",
      "out loop 1000 p2=23.68 355200.0 p1=23.6 pct=0\n",
      "before if 999 p1=23.5 a1=70500.0 a2=354900.0 p2=23.66\n",
      "out loop 999 p2=23.66 354900.0 p1=23.5 pct=0\n",
      "before if 998 p1=23.4 a1=70200.0 a2=354600.0 p2=23.64\n",
      "out loop 998 p2=23.64 354600.0 p1=23.4 pct=0\n",
      "before if 997 p1=23.3 a1=69900.0 a2=354300.0 p2=23.62\n",
      "out loop 997 p2=23.62 354300.0 p1=23.3 pct=0\n",
      "before if 996 p1=23.2 a1=69600.0 a2=354000.0 p2=23.6\n",
      "in loop 996 p2=23.6 354000.0 p1=23.2 pct=-2.11\n",
      "before if 996 p1=23.1 a1=69300.0 a2=353700.0 p2=23.58\n",
      "out loop 996 p2=23.58 353700.0 p1=23.1 pct=-2.11\n",
      "before if 995 p1=23.0 a1=69000.0 a2=353400.0 p2=23.56\n",
      "out loop 995 p2=23.56 353400.0 p1=23.0 pct=-2.11\n",
      "before if 994 p1=22.9 a1=68700.0 a2=353100.0 p2=23.54\n",
      "out loop 994 p2=23.54 353100.0 p1=22.9 pct=-2.11\n",
      "before if 993 p1=22.8 a1=68400.0 a2=352800.0 p2=23.52\n",
      "out loop 993 p2=23.52 352799.99999999994 p1=22.8 pct=-2.11\n",
      "before if 992 p1=22.7 a1=68100.0 a2=352500.0 p2=23.5\n",
      "in loop 992 p2=23.5 352499.99999999994 p1=22.7 pct=-4.22\n",
      "before if 992 p1=22.6 a1=67800.0 a2=352200.0 p2=23.48\n",
      "out loop 992 p2=23.48 352199.99999999994 p1=22.6 pct=-4.22\n",
      "before if 991 p1=22.5 a1=67500.0 a2=351900.0 p2=23.46\n",
      "out loop 991 p2=23.46 351899.99999999994 p1=22.5 pct=-4.22\n",
      "before if 990 p1=22.4 a1=67200.0 a2=351600.0 p2=23.44\n",
      "out loop 990 p2=23.44 351599.99999999994 p1=22.4 pct=-4.22\n",
      "before if 989 p1=22.3 a1=66900.0 a2=351300.0 p2=23.42\n",
      "out loop 989 p2=23.42 351299.99999999994 p1=22.3 pct=-4.22\n",
      "before if 988 p1=22.2 a1=66600.0 a2=351000.0 p2=23.4\n",
      "in loop 988 p2=23.4 350999.99999999994 p1=22.2 pct=-6.33\n",
      "before if 988 p1=22.1 a1=66300.0 a2=350700.0 p2=23.38\n",
      "out loop 988 p2=23.38 350699.99999999994 p1=22.1 pct=-6.33\n",
      "before if 987 p1=22.0 a1=66000.0 a2=350400.0 p2=23.36\n",
      "out loop 987 p2=23.36 350399.99999999994 p1=22.0 pct=-6.33\n",
      "before if 986 p1=21.9 a1=65700.0 a2=350100.0 p2=23.34\n",
      "out loop 986 p2=23.34 350099.99999999994 p1=21.9 pct=-6.33\n",
      "before if 985 p1=21.8 a1=65400.0 a2=349800.0 p2=23.32\n",
      "out loop 985 p2=23.32 349799.99999999994 p1=21.8 pct=-6.33\n",
      "before if 984 p1=21.7 a1=65100.0 a2=349500.0 p2=23.3\n",
      "in loop 984 p2=23.3 349499.9999999999 p1=21.7 pct=-8.44\n",
      "before if 984 p1=21.6 a1=64800.0 a2=349200.0 p2=23.28\n",
      "out loop 984 p2=23.28 349199.9999999999 p1=21.6 pct=-8.44\n",
      "before if 983 p1=21.5 a1=64500.0 a2=348900.0 p2=23.26\n",
      "out loop 983 p2=23.26 348899.9999999999 p1=21.5 pct=-8.44\n",
      "before if 982 p1=21.4 a1=64200.0 a2=348600.0 p2=23.24\n",
      "out loop 982 p2=23.24 348599.9999999999 p1=21.4 pct=-8.44\n",
      "before if 981 p1=21.3 a1=63900.0 a2=348300.0 p2=23.22\n",
      "out loop 981 p2=23.22 348299.9999999999 p1=21.3 pct=-8.44\n",
      "before if 980 p1=21.2 a1=63600.0 a2=348000.0 p2=23.2\n",
      "in loop 980 p2=23.2 347999.9999999999 p1=21.2 pct=-10.55\n",
      "p1=21.2 p2=23.2 pct=-10.55\n"
     ]
    },
    {
     "data": {
      "text/plain": [
       "array([None], dtype=object)"
      ]
     },
     "execution_count": 4,
     "metadata": {},
     "output_type": "execute_result"
    }
   ],
   "source": [
    "my_array = [[12000,23.7,3000,.1,10]]\n",
    "tmp = (np.apply_along_axis(number_of_spread, axis=1, arr=my_array))\n",
    "tmp"
   ]
  },
  {
   "cell_type": "markdown",
   "metadata": {},
   "source": [
    "##### "
   ]
  },
  {
   "cell_type": "code",
   "execution_count": null,
   "metadata": {},
   "outputs": [],
   "source": []
  }
 ],
 "metadata": {
  "anaconda-cloud": {},
  "kernelspec": {
   "display_name": "Python 3 (ipykernel)",
   "language": "python",
   "name": "python3"
  },
  "language_info": {
   "codemirror_mode": {
    "name": "ipython",
    "version": 3
   },
   "file_extension": ".py",
   "mimetype": "text/x-python",
   "name": "python",
   "nbconvert_exporter": "python",
   "pygments_lexer": "ipython3",
   "version": "3.8.11"
  }
 },
 "nbformat": 4,
 "nbformat_minor": 1
}
