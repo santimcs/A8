{
 "cells": [
  {
   "cell_type": "code",
   "execution_count": 1,
   "metadata": {},
   "outputs": [
    {
     "data": {
      "text/plain": [
       "(datetime.date(2022, 3, 4), datetime.date(2022, 3, 3))"
      ]
     },
     "execution_count": 1,
     "metadata": {},
     "output_type": "execute_result"
    }
   ],
   "source": [
    "import calendar\n",
    "import pandas as pd\n",
    "import numpy as np\n",
    "from datetime import date, timedelta\n",
    "from math import ceil, floor, trunc\n",
    "\n",
    "today = date.today()\n",
    "yesterday = today - timedelta(days=1)\n",
    "today, yesterday"
   ]
  },
  {
   "cell_type": "code",
   "execution_count": 2,
   "metadata": {},
   "outputs": [],
   "source": [
    "def number_of_spread(x):\n",
    "    q0 = x[0]   #old qty\n",
    "    p0 = x[1]   #old unit \n",
    "    old_unit_cost = x[1]\n",
    "    q1 = x[2]   #purchase qty\n",
    "    d1 = x[3]  #spread according to price range\n",
    "    c0 = x[4]  #desired down percent to adjust purchase price\n",
    "\n",
    "    a0 = q0 * p0 # amount\n",
    "    \n",
    "    i = 1000\n",
    "    pct = 0\n",
    "    pt = 0\n",
    "    dt = 0\n",
    "    p2 = 0\n",
    "    while i > 0:\n",
    "        p1 = p0 - d1  #simulated purchase price\n",
    "        p0 = p1\n",
    "        a1 = q1 * p1  #new purchase amt\n",
    "        q2 = q0 + q1  #new total qty\n",
    "        a2 = a0 + a1  #new cost amt\n",
    "        p2 = a2 / q2  #new unit cost\n",
    "\n",
    "        pt = round(p2 * 100,2)  #simulated purchase price multiply 100  \n",
    "        dt = d1 * 100           #spread according to price range multiply 100\n",
    "        \n",
    "        print('before if',i,'p1='+str(round(p1,2)),'a1='+str(round(a1,2)),'a2='+str(round(a2,2)),'p2='+str(round(p2,2)))\n",
    "        \n",
    "        if (pt % dt) == 0:\n",
    "            pct = (p1 - old_unit_cost)/old_unit_cost * 100\n",
    "            print ('in loop' ,i,'p2='+str(round(p2,2)),a2,'p1='+str(round(p1,2)),'pct='+str(round(pct,2)))\n",
    "            if abs(pct) < c0:\n",
    "                continue\n",
    "            break\n",
    "            \n",
    "        print ('out loop',i,'p2='+str(round(p2,2)),a2,'p1='+str(round(p1,2)),'pct='+str(round(pct,2)))            \n",
    "        i -= 1     \n",
    "        \n",
    "    return print('p1='+str(round(p1,2)),'p2='+str(round(p2,2)),'pct='+str(round(pct,2)))"
   ]
  },
  {
   "cell_type": "code",
   "execution_count": 4,
   "metadata": {},
   "outputs": [
    {
     "name": "stdout",
     "output_type": "stream",
     "text": [
      "before if 1000 p1=33.5 a1=83750.0 a2=843125.0 p2=33.72\n",
      "out loop 1000 p2=33.72 843125.0 p1=33.5 pct=0\n",
      "before if 999 p1=33.25 a1=83125.0 a2=842500.0 p2=33.7\n",
      "out loop 999 p2=33.7 842500.0 p1=33.25 pct=0\n",
      "before if 998 p1=33.0 a1=82500.0 a2=841875.0 p2=33.67\n",
      "out loop 998 p2=33.67 841875.0 p1=33.0 pct=0\n",
      "before if 997 p1=32.75 a1=81875.0 a2=841250.0 p2=33.65\n",
      "out loop 997 p2=33.65 841250.0 p1=32.75 pct=0\n",
      "before if 996 p1=32.5 a1=81250.0 a2=840625.0 p2=33.62\n",
      "out loop 996 p2=33.62 840625.0 p1=32.5 pct=0\n",
      "before if 995 p1=32.25 a1=80625.0 a2=840000.0 p2=33.6\n",
      "out loop 995 p2=33.6 840000.0 p1=32.25 pct=0\n",
      "before if 994 p1=32.0 a1=80000.0 a2=839375.0 p2=33.58\n",
      "out loop 994 p2=33.58 839375.0 p1=32.0 pct=0\n",
      "before if 993 p1=31.75 a1=79375.0 a2=838750.0 p2=33.55\n",
      "out loop 993 p2=33.55 838750.0 p1=31.75 pct=0\n",
      "before if 992 p1=31.5 a1=78750.0 a2=838125.0 p2=33.52\n",
      "out loop 992 p2=33.52 838125.0 p1=31.5 pct=0\n",
      "before if 991 p1=31.25 a1=78125.0 a2=837500.0 p2=33.5\n",
      "in loop 991 p2=33.5 837500.0 p1=31.25 pct=-7.41\n",
      "before if 991 p1=31.0 a1=77500.0 a2=836875.0 p2=33.48\n",
      "out loop 991 p2=33.48 836875.0 p1=31.0 pct=-7.41\n",
      "before if 990 p1=30.75 a1=76875.0 a2=836250.0 p2=33.45\n",
      "out loop 990 p2=33.45 836250.0 p1=30.75 pct=-7.41\n",
      "before if 989 p1=30.5 a1=76250.0 a2=835625.0 p2=33.42\n",
      "out loop 989 p2=33.42 835625.0 p1=30.5 pct=-7.41\n",
      "before if 988 p1=30.25 a1=75625.0 a2=835000.0 p2=33.4\n",
      "out loop 988 p2=33.4 835000.0 p1=30.25 pct=-7.41\n",
      "before if 987 p1=30.0 a1=75000.0 a2=834375.0 p2=33.38\n",
      "out loop 987 p2=33.38 834375.0 p1=30.0 pct=-7.41\n",
      "before if 986 p1=29.75 a1=74375.0 a2=833750.0 p2=33.35\n",
      "out loop 986 p2=33.35 833750.0 p1=29.75 pct=-7.41\n",
      "before if 985 p1=29.5 a1=73750.0 a2=833125.0 p2=33.33\n",
      "out loop 985 p2=33.33 833125.0 p1=29.5 pct=-7.41\n",
      "before if 984 p1=29.25 a1=73125.0 a2=832500.0 p2=33.3\n",
      "out loop 984 p2=33.3 832500.0 p1=29.25 pct=-7.41\n",
      "before if 983 p1=29.0 a1=72500.0 a2=831875.0 p2=33.28\n",
      "out loop 983 p2=33.28 831875.0 p1=29.0 pct=-7.41\n",
      "before if 982 p1=28.75 a1=71875.0 a2=831250.0 p2=33.25\n",
      "in loop 982 p2=33.25 831250.0 p1=28.75 pct=-14.81\n",
      "before if 982 p1=28.5 a1=71250.0 a2=830625.0 p2=33.22\n",
      "out loop 982 p2=33.22 830625.0 p1=28.5 pct=-14.81\n",
      "before if 981 p1=28.25 a1=70625.0 a2=830000.0 p2=33.2\n",
      "out loop 981 p2=33.2 830000.0 p1=28.25 pct=-14.81\n",
      "before if 980 p1=28.0 a1=70000.0 a2=829375.0 p2=33.17\n",
      "out loop 980 p2=33.17 829375.0 p1=28.0 pct=-14.81\n",
      "before if 979 p1=27.75 a1=69375.0 a2=828750.0 p2=33.15\n",
      "out loop 979 p2=33.15 828750.0 p1=27.75 pct=-14.81\n",
      "before if 978 p1=27.5 a1=68750.0 a2=828125.0 p2=33.12\n",
      "out loop 978 p2=33.12 828125.0 p1=27.5 pct=-14.81\n",
      "before if 977 p1=27.25 a1=68125.0 a2=827500.0 p2=33.1\n",
      "out loop 977 p2=33.1 827500.0 p1=27.25 pct=-14.81\n",
      "before if 976 p1=27.0 a1=67500.0 a2=826875.0 p2=33.08\n",
      "out loop 976 p2=33.08 826875.0 p1=27.0 pct=-14.81\n",
      "before if 975 p1=26.75 a1=66875.0 a2=826250.0 p2=33.05\n",
      "out loop 975 p2=33.05 826250.0 p1=26.75 pct=-14.81\n",
      "before if 974 p1=26.5 a1=66250.0 a2=825625.0 p2=33.02\n",
      "out loop 974 p2=33.02 825625.0 p1=26.5 pct=-14.81\n",
      "before if 973 p1=26.25 a1=65625.0 a2=825000.0 p2=33.0\n",
      "in loop 973 p2=33.0 825000.0 p1=26.25 pct=-22.22\n",
      "before if 973 p1=26.0 a1=65000.0 a2=824375.0 p2=32.98\n",
      "out loop 973 p2=32.98 824375.0 p1=26.0 pct=-22.22\n",
      "before if 972 p1=25.75 a1=64375.0 a2=823750.0 p2=32.95\n",
      "out loop 972 p2=32.95 823750.0 p1=25.75 pct=-22.22\n",
      "before if 971 p1=25.5 a1=63750.0 a2=823125.0 p2=32.92\n",
      "out loop 971 p2=32.92 823125.0 p1=25.5 pct=-22.22\n",
      "before if 970 p1=25.25 a1=63125.0 a2=822500.0 p2=32.9\n",
      "out loop 970 p2=32.9 822500.0 p1=25.25 pct=-22.22\n",
      "before if 969 p1=25.0 a1=62500.0 a2=821875.0 p2=32.88\n",
      "out loop 969 p2=32.88 821875.0 p1=25.0 pct=-22.22\n",
      "before if 968 p1=24.75 a1=61875.0 a2=821250.0 p2=32.85\n",
      "out loop 968 p2=32.85 821250.0 p1=24.75 pct=-22.22\n",
      "before if 967 p1=24.5 a1=61250.0 a2=820625.0 p2=32.83\n",
      "out loop 967 p2=32.83 820625.0 p1=24.5 pct=-22.22\n",
      "before if 966 p1=24.25 a1=60625.0 a2=820000.0 p2=32.8\n",
      "out loop 966 p2=32.8 820000.0 p1=24.25 pct=-22.22\n",
      "before if 965 p1=24.0 a1=60000.0 a2=819375.0 p2=32.78\n",
      "out loop 965 p2=32.78 819375.0 p1=24.0 pct=-22.22\n",
      "before if 964 p1=23.75 a1=59375.0 a2=818750.0 p2=32.75\n",
      "in loop 964 p2=32.75 818750.0 p1=23.75 pct=-29.63\n",
      "p1=23.75 p2=32.75 pct=-29.63\n"
     ]
    },
    {
     "data": {
      "text/plain": [
       "array([None], dtype=object)"
      ]
     },
     "execution_count": 4,
     "metadata": {},
     "output_type": "execute_result"
    }
   ],
   "source": [
    "my_array = [[22500,33.75,2500,0.25,25]]\n",
    "tmp = (np.apply_along_axis(number_of_spread, axis=1, arr=my_array))\n",
    "tmp"
   ]
  },
  {
   "cell_type": "markdown",
   "metadata": {},
   "source": [
    "##### "
   ]
  },
  {
   "cell_type": "code",
   "execution_count": null,
   "metadata": {},
   "outputs": [],
   "source": []
  }
 ],
 "metadata": {
  "anaconda-cloud": {},
  "kernelspec": {
   "display_name": "Python 3 (ipykernel)",
   "language": "python",
   "name": "python3"
  },
  "language_info": {
   "codemirror_mode": {
    "name": "ipython",
    "version": 3
   },
   "file_extension": ".py",
   "mimetype": "text/x-python",
   "name": "python",
   "nbconvert_exporter": "python",
   "pygments_lexer": "ipython3",
   "version": "3.8.11"
  }
 },
 "nbformat": 4,
 "nbformat_minor": 1
}
