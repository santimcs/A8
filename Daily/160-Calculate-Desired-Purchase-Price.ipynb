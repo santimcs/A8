{
 "cells": [
  {
   "cell_type": "code",
   "execution_count": 1,
   "metadata": {},
   "outputs": [
    {
     "data": {
      "text/plain": [
       "(datetime.date(2022, 4, 6), datetime.date(2022, 4, 5))"
      ]
     },
     "execution_count": 1,
     "metadata": {},
     "output_type": "execute_result"
    }
   ],
   "source": [
    "import calendar\n",
    "import pandas as pd\n",
    "import numpy as np\n",
    "from datetime import date, timedelta\n",
    "from math import ceil, floor, trunc\n",
    "\n",
    "today = date.today()\n",
    "yesterday = today - timedelta(days=1)\n",
    "today, yesterday"
   ]
  },
  {
   "cell_type": "code",
   "execution_count": 2,
   "metadata": {},
   "outputs": [],
   "source": [
    "def number_of_spread(x):\n",
    "    q0 = x[0]   #old qty\n",
    "    p0 = x[1]   #old unit \n",
    "    old_unit_cost = x[1]\n",
    "    q1 = x[2]   #purchase qty\n",
    "    d1 = x[3]  #spread according to price range\n",
    "    c0 = x[4]  #desired down percent to adjust purchase price\n",
    "\n",
    "    a0 = q0 * p0 # amount\n",
    "    \n",
    "    i = 1000\n",
    "    pct = 0\n",
    "    pt = 0\n",
    "    dt = 0\n",
    "    p2 = 0\n",
    "    while i > 0:\n",
    "        p1 = p0 - d1  #simulated purchase price\n",
    "        p0 = p1\n",
    "        a1 = q1 * p1  #new purchase amt\n",
    "        q2 = q0 + q1  #new total qty\n",
    "        a2 = a0 + a1  #new cost amt\n",
    "        p2 = a2 / q2  #new unit cost\n",
    "\n",
    "        pt = round(p2 * 100,2)  #simulated purchase price multiply 100  \n",
    "        dt = d1 * 100           #spread according to price range multiply 100\n",
    "        \n",
    "        print('before if',i,'p1='+str(round(p1,2)),'a1='+str(round(a1,2)),'a2='+str(round(a2,2)),'p2='+str(round(p2,2)))\n",
    "        \n",
    "        if (pt % dt) == 0:\n",
    "            pct = (p1 - old_unit_cost)/old_unit_cost * 100\n",
    "            print ('in loop' ,i,'p2='+str(round(p2,2)),a2,'p1='+str(round(p1,2)),'pct='+str(round(pct,2)))\n",
    "            if abs(pct) < c0:\n",
    "                continue\n",
    "            break\n",
    "            \n",
    "        print ('out loop',i,'p2='+str(round(p2,2)),a2,'p1='+str(round(p1,2)),'pct='+str(round(pct,2)))            \n",
    "        i -= 1     \n",
    "        \n",
    "    return print('p1='+str(round(p1,2)),'p2='+str(round(p2,2)),'pct='+str(round(pct,2)))"
   ]
  },
  {
   "cell_type": "code",
   "execution_count": 4,
   "metadata": {},
   "outputs": [
    {
     "name": "stdout",
     "output_type": "stream",
     "text": [
      "before if 1000 p1=4.78 a1=71700.0 a2=287700.0 p2=4.8\n",
      "out loop 1000 p2=4.8 287700.0 p1=4.78 pct=0\n",
      "before if 999 p1=4.76 a1=71400.0 a2=287400.0 p2=4.79\n",
      "out loop 999 p2=4.79 287400.0 p1=4.76 pct=0\n",
      "before if 998 p1=4.74 a1=71100.0 a2=287100.0 p2=4.78\n",
      "out loop 998 p2=4.78 287100.0 p1=4.74 pct=0\n",
      "before if 997 p1=4.72 a1=70800.0 a2=286800.0 p2=4.78\n",
      "in loop 997 p2=4.78 286800.0 p1=4.72 pct=-1.67\n",
      "before if 997 p1=4.7 a1=70500.0 a2=286500.0 p2=4.78\n",
      "out loop 997 p2=4.78 286500.0 p1=4.7 pct=-1.67\n",
      "before if 996 p1=4.68 a1=70200.0 a2=286200.0 p2=4.77\n",
      "out loop 996 p2=4.77 286200.0 p1=4.68 pct=-1.67\n",
      "before if 995 p1=4.66 a1=69900.0 a2=285900.0 p2=4.77\n",
      "out loop 995 p2=4.77 285900.00000000006 p1=4.66 pct=-1.67\n",
      "before if 994 p1=4.64 a1=69600.0 a2=285600.0 p2=4.76\n",
      "in loop 994 p2=4.76 285600.00000000006 p1=4.64 pct=-3.33\n",
      "before if 994 p1=4.62 a1=69300.0 a2=285300.0 p2=4.76\n",
      "out loop 994 p2=4.76 285300.00000000006 p1=4.62 pct=-3.33\n",
      "before if 993 p1=4.6 a1=69000.0 a2=285000.0 p2=4.75\n",
      "out loop 993 p2=4.75 285000.00000000006 p1=4.6 pct=-3.33\n",
      "before if 992 p1=4.58 a1=68700.0 a2=284700.0 p2=4.75\n",
      "out loop 992 p2=4.75 284700.00000000006 p1=4.58 pct=-3.33\n",
      "before if 991 p1=4.56 a1=68400.0 a2=284400.0 p2=4.74\n",
      "in loop 991 p2=4.74 284400.00000000006 p1=4.56 pct=-5.0\n",
      "before if 991 p1=4.54 a1=68100.0 a2=284100.0 p2=4.74\n",
      "out loop 991 p2=4.74 284100.0000000001 p1=4.54 pct=-5.0\n",
      "before if 990 p1=4.52 a1=67800.0 a2=283800.0 p2=4.73\n",
      "out loop 990 p2=4.73 283800.0000000001 p1=4.52 pct=-5.0\n",
      "before if 989 p1=4.5 a1=67500.0 a2=283500.0 p2=4.73\n",
      "out loop 989 p2=4.73 283500.0000000001 p1=4.5 pct=-5.0\n",
      "before if 988 p1=4.48 a1=67200.0 a2=283200.0 p2=4.72\n",
      "in loop 988 p2=4.72 283200.0000000001 p1=4.48 pct=-6.67\n",
      "p1=4.48 p2=4.72 pct=-6.67\n"
     ]
    },
    {
     "data": {
      "text/plain": [
       "array([None], dtype=object)"
      ]
     },
     "execution_count": 4,
     "metadata": {},
     "output_type": "execute_result"
    }
   ],
   "source": [
    "my_array = [[45000,4.8,15000,.02,5]]\n",
    "tmp = (np.apply_along_axis(number_of_spread, axis=1, arr=my_array))\n",
    "tmp"
   ]
  },
  {
   "cell_type": "markdown",
   "metadata": {},
   "source": [
    "##### "
   ]
  },
  {
   "cell_type": "code",
   "execution_count": null,
   "metadata": {},
   "outputs": [],
   "source": []
  }
 ],
 "metadata": {
  "anaconda-cloud": {},
  "kernelspec": {
   "display_name": "Python 3 (ipykernel)",
   "language": "python",
   "name": "python3"
  },
  "language_info": {
   "codemirror_mode": {
    "name": "ipython",
    "version": 3
   },
   "file_extension": ".py",
   "mimetype": "text/x-python",
   "name": "python",
   "nbconvert_exporter": "python",
   "pygments_lexer": "ipython3",
   "version": "3.8.11"
  }
 },
 "nbformat": 4,
 "nbformat_minor": 1
}
