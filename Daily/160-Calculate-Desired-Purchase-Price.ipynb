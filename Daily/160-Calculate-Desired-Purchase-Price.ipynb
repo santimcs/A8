{
 "cells": [
  {
   "cell_type": "code",
   "execution_count": 1,
   "metadata": {},
   "outputs": [
    {
     "data": {
      "text/plain": [
       "(datetime.date(2022, 5, 8), datetime.date(2022, 5, 7))"
      ]
     },
     "execution_count": 1,
     "metadata": {},
     "output_type": "execute_result"
    }
   ],
   "source": [
    "import calendar\n",
    "import pandas as pd\n",
    "import numpy as np\n",
    "from datetime import date, timedelta\n",
    "from math import ceil, floor, trunc\n",
    "\n",
    "today = date.today()\n",
    "yesterday = today - timedelta(days=1)\n",
    "today, yesterday"
   ]
  },
  {
   "cell_type": "code",
   "execution_count": 2,
   "metadata": {},
   "outputs": [],
   "source": [
    "def number_of_spread(x):\n",
    "    q0 = x[0]   #old qty\n",
    "    p0 = x[1]   #old unit \n",
    "    old_unit_cost = x[1]\n",
    "    q1 = x[2]   #purchase qty\n",
    "    d1 = x[3]  #spread according to price range\n",
    "    c0 = x[4]  #desired down percent to adjust purchase price\n",
    "\n",
    "    a0 = q0 * p0 # amount\n",
    "    \n",
    "    i = 1000\n",
    "    pct = 0\n",
    "    pt = 0\n",
    "    dt = 0\n",
    "    p2 = 0\n",
    "    while i > 0:\n",
    "        p1 = p0 - d1  #simulated purchase price\n",
    "        p0 = p1\n",
    "        a1 = q1 * p1  #new purchase amt\n",
    "        q2 = q0 + q1  #new total qty\n",
    "        a2 = a0 + a1  #new cost amt\n",
    "        p2 = a2 / q2  #new unit cost\n",
    "\n",
    "        pt = round(p2 * 100,2)  #simulated purchase price multiply 100  \n",
    "        dt = d1 * 100           #spread according to price range multiply 100\n",
    "        \n",
    "        print('before if',i,'p1='+str(round(p1,2)),'a1='+str(round(a1,2)),'a2='+str(round(a2,2)),'p2='+str(round(p2,2)))\n",
    "        \n",
    "        if (pt % dt) == 0:\n",
    "            pct = ((p1 - old_unit_cost)/old_unit_cost) * 100\n",
    "            print ('in loop' ,i,'p2='+str(round(p2,2)),a2,'p1='+str(round(p1,2)),'pct='+str(round(pct,2)))\n",
    "            if abs(pct) < c0:\n",
    "                continue\n",
    "            break\n",
    "            \n",
    "        print ('out loop',i,'p2='+str(round(p2,2)),a2,'p1='+str(round(p1,2)),'pct='+str(round(pct,2)))            \n",
    "        i -= 1     \n",
    "        \n",
    "    return print('p1='+str(round(p1,2)),'p2='+str(round(p2,2)),'pct='+str(round(pct,2)))"
   ]
  },
  {
   "cell_type": "code",
   "execution_count": 4,
   "metadata": {},
   "outputs": [
    {
     "name": "stdout",
     "output_type": "stream",
     "text": [
      "before if 1000 p1=21.2 a1=63600.0 a2=447000.0 p2=21.29\n",
      "out loop 1000 p2=21.29 447000.0 p1=21.2 pct=0\n",
      "before if 999 p1=21.1 a1=63300.0 a2=446700.0 p2=21.27\n",
      "out loop 999 p2=21.27 446700.0 p1=21.1 pct=0\n",
      "before if 998 p1=21.0 a1=63000.0 a2=446400.0 p2=21.26\n",
      "out loop 998 p2=21.26 446400.0 p1=21.0 pct=0\n",
      "before if 997 p1=20.9 a1=62700.0 a2=446100.0 p2=21.24\n",
      "out loop 997 p2=21.24 446100.0 p1=20.9 pct=0\n",
      "before if 996 p1=20.8 a1=62400.0 a2=445800.0 p2=21.23\n",
      "out loop 996 p2=21.23 445800.0 p1=20.8 pct=0\n",
      "before if 995 p1=20.7 a1=62100.0 a2=445500.0 p2=21.21\n",
      "out loop 995 p2=21.21 445500.0 p1=20.7 pct=0\n",
      "before if 994 p1=20.6 a1=61800.0 a2=445200.0 p2=21.2\n",
      "in loop 994 p2=21.2 445200.0 p1=20.6 pct=-3.29\n",
      "before if 994 p1=20.5 a1=61500.0 a2=444900.0 p2=21.19\n",
      "out loop 994 p2=21.19 444900.0 p1=20.5 pct=-3.29\n",
      "before if 993 p1=20.4 a1=61200.0 a2=444600.0 p2=21.17\n",
      "out loop 993 p2=21.17 444599.99999999994 p1=20.4 pct=-3.29\n",
      "before if 992 p1=20.3 a1=60900.0 a2=444300.0 p2=21.16\n",
      "out loop 992 p2=21.16 444299.99999999994 p1=20.3 pct=-3.29\n",
      "before if 991 p1=20.2 a1=60600.0 a2=444000.0 p2=21.14\n",
      "out loop 991 p2=21.14 443999.99999999994 p1=20.2 pct=-3.29\n",
      "before if 990 p1=20.1 a1=60300.0 a2=443700.0 p2=21.13\n",
      "out loop 990 p2=21.13 443699.99999999994 p1=20.1 pct=-3.29\n",
      "before if 989 p1=20.0 a1=60000.0 a2=443400.0 p2=21.11\n",
      "out loop 989 p2=21.11 443399.99999999994 p1=20.0 pct=-3.29\n",
      "before if 988 p1=19.9 a1=59700.0 a2=443100.0 p2=21.1\n",
      "in loop 988 p2=21.1 443099.99999999994 p1=19.9 pct=-6.57\n",
      "p1=19.9 p2=21.1 pct=-6.57\n"
     ]
    },
    {
     "data": {
      "text/plain": [
       "array([None], dtype=object)"
      ]
     },
     "execution_count": 4,
     "metadata": {},
     "output_type": "execute_result"
    }
   ],
   "source": [
    "my_array = [[18000,21.30,3000,.10,5]]\n",
    "tmp = (np.apply_along_axis(number_of_spread, axis=1, arr=my_array))\n",
    "tmp"
   ]
  },
  {
   "cell_type": "markdown",
   "metadata": {},
   "source": [
    "##### "
   ]
  },
  {
   "cell_type": "code",
   "execution_count": null,
   "metadata": {},
   "outputs": [],
   "source": []
  }
 ],
 "metadata": {
  "anaconda-cloud": {},
  "kernelspec": {
   "display_name": "Python 3 (ipykernel)",
   "language": "python",
   "name": "python3"
  },
  "language_info": {
   "codemirror_mode": {
    "name": "ipython",
    "version": 3
   },
   "file_extension": ".py",
   "mimetype": "text/x-python",
   "name": "python",
   "nbconvert_exporter": "python",
   "pygments_lexer": "ipython3",
   "version": "3.8.11"
  }
 },
 "nbformat": 4,
 "nbformat_minor": 1
}
