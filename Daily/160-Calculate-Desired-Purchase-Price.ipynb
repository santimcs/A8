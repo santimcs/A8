{
 "cells": [
  {
   "cell_type": "code",
   "execution_count": 1,
   "metadata": {},
   "outputs": [
    {
     "data": {
      "text/plain": [
       "(datetime.date(2022, 4, 14), datetime.date(2022, 4, 13))"
      ]
     },
     "execution_count": 1,
     "metadata": {},
     "output_type": "execute_result"
    }
   ],
   "source": [
    "import calendar\n",
    "import pandas as pd\n",
    "import numpy as np\n",
    "from datetime import date, timedelta\n",
    "from math import ceil, floor, trunc\n",
    "\n",
    "today = date.today()\n",
    "yesterday = today - timedelta(days=1)\n",
    "today, yesterday"
   ]
  },
  {
   "cell_type": "code",
   "execution_count": 2,
   "metadata": {},
   "outputs": [],
   "source": [
    "def number_of_spread(x):\n",
    "    q0 = x[0]   #old qty\n",
    "    p0 = x[1]   #old unit \n",
    "    old_unit_cost = x[1]\n",
    "    q1 = x[2]   #purchase qty\n",
    "    d1 = x[3]  #spread according to price range\n",
    "    c0 = x[4]  #desired down percent to adjust purchase price\n",
    "\n",
    "    a0 = q0 * p0 # amount\n",
    "    \n",
    "    i = 1000\n",
    "    pct = 0\n",
    "    pt = 0\n",
    "    dt = 0\n",
    "    p2 = 0\n",
    "    while i > 0:\n",
    "        p1 = p0 - d1  #simulated purchase price\n",
    "        p0 = p1\n",
    "        a1 = q1 * p1  #new purchase amt\n",
    "        q2 = q0 + q1  #new total qty\n",
    "        a2 = a0 + a1  #new cost amt\n",
    "        p2 = a2 / q2  #new unit cost\n",
    "\n",
    "        pt = round(p2 * 100,2)  #simulated purchase price multiply 100  \n",
    "        dt = d1 * 100           #spread according to price range multiply 100\n",
    "        \n",
    "        print('before if',i,'p1='+str(round(p1,2)),'a1='+str(round(a1,2)),'a2='+str(round(a2,2)),'p2='+str(round(p2,2)))\n",
    "        \n",
    "        if (pt % dt) == 0:\n",
    "            pct = ((p1 - old_unit_cost)/old_unit_cost) * 100\n",
    "            print ('in loop' ,i,'p2='+str(round(p2,2)),a2,'p1='+str(round(p1,2)),'pct='+str(round(pct,2)))\n",
    "            if abs(pct) < c0:\n",
    "                continue\n",
    "            break\n",
    "            \n",
    "        print ('out loop',i,'p2='+str(round(p2,2)),a2,'p1='+str(round(p1,2)),'pct='+str(round(pct,2)))            \n",
    "        i -= 1     \n",
    "        \n",
    "    return print('p1='+str(round(p1,2)),'p2='+str(round(p2,2)),'pct='+str(round(pct,2)))"
   ]
  },
  {
   "cell_type": "code",
   "execution_count": 6,
   "metadata": {},
   "outputs": [
    {
     "name": "stdout",
     "output_type": "stream",
     "text": [
      "before if 1000 p1=40.75 a1=61125.0 a2=245625.0 p2=40.94\n",
      "out loop 1000 p2=40.94 245625.0 p1=40.75 pct=0\n",
      "before if 999 p1=40.5 a1=60750.0 a2=245250.0 p2=40.88\n",
      "out loop 999 p2=40.88 245250.0 p1=40.5 pct=0\n",
      "before if 998 p1=40.25 a1=60375.0 a2=244875.0 p2=40.81\n",
      "out loop 998 p2=40.81 244875.0 p1=40.25 pct=0\n",
      "before if 997 p1=40.0 a1=60000.0 a2=244500.0 p2=40.75\n",
      "in loop 997 p2=40.75 244500.0 p1=40.0 pct=-2.44\n",
      "before if 997 p1=39.75 a1=59625.0 a2=244125.0 p2=40.69\n",
      "out loop 997 p2=40.69 244125.0 p1=39.75 pct=-2.44\n",
      "before if 996 p1=39.5 a1=59250.0 a2=243750.0 p2=40.62\n",
      "out loop 996 p2=40.62 243750.0 p1=39.5 pct=-2.44\n",
      "before if 995 p1=39.25 a1=58875.0 a2=243375.0 p2=40.56\n",
      "out loop 995 p2=40.56 243375.0 p1=39.25 pct=-2.44\n",
      "before if 994 p1=39.0 a1=58500.0 a2=243000.0 p2=40.5\n",
      "in loop 994 p2=40.5 243000.0 p1=39.0 pct=-4.88\n",
      "before if 994 p1=38.75 a1=58125.0 a2=242625.0 p2=40.44\n",
      "out loop 994 p2=40.44 242625.0 p1=38.75 pct=-4.88\n",
      "before if 993 p1=38.5 a1=57750.0 a2=242250.0 p2=40.38\n",
      "out loop 993 p2=40.38 242250.0 p1=38.5 pct=-4.88\n",
      "before if 992 p1=38.25 a1=57375.0 a2=241875.0 p2=40.31\n",
      "out loop 992 p2=40.31 241875.0 p1=38.25 pct=-4.88\n",
      "before if 991 p1=38.0 a1=57000.0 a2=241500.0 p2=40.25\n",
      "in loop 991 p2=40.25 241500.0 p1=38.0 pct=-7.32\n",
      "p1=38.0 p2=40.25 pct=-7.32\n"
     ]
    },
    {
     "data": {
      "text/plain": [
       "array([None], dtype=object)"
      ]
     },
     "execution_count": 6,
     "metadata": {},
     "output_type": "execute_result"
    }
   ],
   "source": [
    "my_array = [[4500,41,1500,.25,5]]\n",
    "tmp = (np.apply_along_axis(number_of_spread, axis=1, arr=my_array))\n",
    "tmp"
   ]
  },
  {
   "cell_type": "markdown",
   "metadata": {},
   "source": [
    "##### "
   ]
  },
  {
   "cell_type": "code",
   "execution_count": null,
   "metadata": {},
   "outputs": [],
   "source": []
  }
 ],
 "metadata": {
  "anaconda-cloud": {},
  "kernelspec": {
   "display_name": "Python 3 (ipykernel)",
   "language": "python",
   "name": "python3"
  },
  "language_info": {
   "codemirror_mode": {
    "name": "ipython",
    "version": 3
   },
   "file_extension": ".py",
   "mimetype": "text/x-python",
   "name": "python",
   "nbconvert_exporter": "python",
   "pygments_lexer": "ipython3",
   "version": "3.8.11"
  }
 },
 "nbformat": 4,
 "nbformat_minor": 1
}
