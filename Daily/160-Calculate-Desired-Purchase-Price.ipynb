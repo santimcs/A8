{
 "cells": [
  {
   "cell_type": "code",
   "execution_count": 1,
   "metadata": {},
   "outputs": [
    {
     "data": {
      "text/plain": [
       "(datetime.date(2022, 1, 26), datetime.date(2022, 1, 25))"
      ]
     },
     "execution_count": 1,
     "metadata": {},
     "output_type": "execute_result"
    }
   ],
   "source": [
    "import calendar\n",
    "import pandas as pd\n",
    "import numpy as np\n",
    "from datetime import date, timedelta\n",
    "from math import ceil, floor, trunc\n",
    "\n",
    "today = date.today()\n",
    "yesterday = today - timedelta(days=1)\n",
    "today, yesterday"
   ]
  },
  {
   "cell_type": "code",
   "execution_count": 2,
   "metadata": {},
   "outputs": [],
   "source": [
    "def number_of_spread(x):\n",
    "    q0 = x[0]   #old qty\n",
    "    p0 = x[1]   #old unit \n",
    "    old_unit_cost = x[1]\n",
    "    q1 = x[2]   #purchase qty\n",
    "    d1 = x[3]  #spread according to price range\n",
    "    c0 = x[4]  #desired down percent to adjust purchase price\n",
    "\n",
    "    a0 = q0 * p0 # amount\n",
    "    \n",
    "    i = 1000\n",
    "    pct = 0\n",
    "    pt = 0\n",
    "    dt = 0\n",
    "    p2 = 0\n",
    "    while i > 0:\n",
    "        p1 = p0 - d1  #simulated purchase price\n",
    "        p0 = p1\n",
    "        a1 = q1 * p1  #new purchase amt\n",
    "        q2 = q0 + q1  #new total qty\n",
    "        a2 = a0 + a1  #new cost amt\n",
    "        p2 = a2 / q2  #new unit cost\n",
    "\n",
    "        pt = round(p2 * 100,2)  #simulated purchase price multiply 100  \n",
    "        dt = d1 * 100           #spread according to price range multiply 100\n",
    "        \n",
    "        print('before if',i,'p1='+str(round(p1,2)),'a1='+str(round(a1,2)),'a2='+str(round(a2,2)),'p2='+str(round(p2,2)))\n",
    "        \n",
    "        if (pt % dt) == 0:\n",
    "            pct = (p1 - old_unit_cost)/old_unit_cost * 100\n",
    "            print ('in loop' ,i,'p2='+str(round(p2,2)),a2,'p1='+str(round(p1,2)),'pct='+str(round(pct,2)))\n",
    "            if abs(pct) < c0:\n",
    "                continue\n",
    "            break\n",
    "            \n",
    "        print ('out loop',i,'p2='+str(round(p2,2)),a2,'p1='+str(round(p1,2)),'pct='+str(round(pct,2)))            \n",
    "        i -= 1     \n",
    "        \n",
    "    return print('p1='+str(round(p1,2)),'p2='+str(round(p2,2)),'pct='+str(round(pct,2)))"
   ]
  },
  {
   "cell_type": "code",
   "execution_count": 4,
   "metadata": {},
   "outputs": [
    {
     "name": "stdout",
     "output_type": "stream",
     "text": [
      "before if 1000 p1=19.9 a1=149250.0 a2=299250.0 p2=19.95\n",
      "out loop 1000 p2=19.95 299250.0 p1=19.9 pct=0\n",
      "before if 999 p1=19.8 a1=148500.0 a2=298500.0 p2=19.9\n",
      "in loop 999 p2=19.9 298500.0 p1=19.8 pct=-1.0\n",
      "before if 999 p1=19.7 a1=147750.0 a2=297750.0 p2=19.85\n",
      "out loop 999 p2=19.85 297750.0 p1=19.7 pct=-1.0\n",
      "before if 998 p1=19.6 a1=147000.0 a2=297000.0 p2=19.8\n",
      "in loop 998 p2=19.8 297000.0 p1=19.6 pct=-2.0\n",
      "before if 998 p1=19.5 a1=146250.0 a2=296250.0 p2=19.75\n",
      "out loop 998 p2=19.75 296249.99999999994 p1=19.5 pct=-2.0\n",
      "before if 997 p1=19.4 a1=145500.0 a2=295500.0 p2=19.7\n",
      "in loop 997 p2=19.7 295499.99999999994 p1=19.4 pct=-3.0\n",
      "before if 997 p1=19.3 a1=144750.0 a2=294750.0 p2=19.65\n",
      "out loop 997 p2=19.65 294749.9999999999 p1=19.3 pct=-3.0\n",
      "before if 996 p1=19.2 a1=144000.0 a2=294000.0 p2=19.6\n",
      "in loop 996 p2=19.6 293999.9999999999 p1=19.2 pct=-4.0\n",
      "before if 996 p1=19.1 a1=143250.0 a2=293250.0 p2=19.55\n",
      "out loop 996 p2=19.55 293249.9999999999 p1=19.1 pct=-4.0\n",
      "before if 995 p1=19.0 a1=142500.0 a2=292500.0 p2=19.5\n",
      "in loop 995 p2=19.5 292499.9999999999 p1=19.0 pct=-5.0\n",
      "p1=19.0 p2=19.5 pct=-5.0\n"
     ]
    },
    {
     "data": {
      "text/plain": [
       "array([None], dtype=object)"
      ]
     },
     "execution_count": 4,
     "metadata": {},
     "output_type": "execute_result"
    }
   ],
   "source": [
    "my_array = [[7500,20,7500,0.10,5]]\n",
    "tmp = (np.apply_along_axis(number_of_spread, axis=1, arr=my_array))\n",
    "tmp"
   ]
  },
  {
   "cell_type": "markdown",
   "metadata": {},
   "source": [
    "##### "
   ]
  },
  {
   "cell_type": "code",
   "execution_count": null,
   "metadata": {},
   "outputs": [],
   "source": []
  }
 ],
 "metadata": {
  "anaconda-cloud": {},
  "kernelspec": {
   "display_name": "Python 3 (ipykernel)",
   "language": "python",
   "name": "python3"
  },
  "language_info": {
   "codemirror_mode": {
    "name": "ipython",
    "version": 3
   },
   "file_extension": ".py",
   "mimetype": "text/x-python",
   "name": "python",
   "nbconvert_exporter": "python",
   "pygments_lexer": "ipython3",
   "version": "3.8.11"
  }
 },
 "nbformat": 4,
 "nbformat_minor": 1
}
