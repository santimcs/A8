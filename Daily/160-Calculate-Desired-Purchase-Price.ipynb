{
 "cells": [
  {
   "cell_type": "code",
   "execution_count": 1,
   "metadata": {},
   "outputs": [
    {
     "data": {
      "text/plain": [
       "(datetime.date(2022, 2, 23), datetime.date(2022, 2, 22))"
      ]
     },
     "execution_count": 1,
     "metadata": {},
     "output_type": "execute_result"
    }
   ],
   "source": [
    "import calendar\n",
    "import pandas as pd\n",
    "import numpy as np\n",
    "from datetime import date, timedelta\n",
    "from math import ceil, floor, trunc\n",
    "\n",
    "today = date.today()\n",
    "yesterday = today - timedelta(days=1)\n",
    "today, yesterday"
   ]
  },
  {
   "cell_type": "code",
   "execution_count": 2,
   "metadata": {},
   "outputs": [],
   "source": [
    "def number_of_spread(x):\n",
    "    q0 = x[0]   #old qty\n",
    "    p0 = x[1]   #old unit \n",
    "    old_unit_cost = x[1]\n",
    "    q1 = x[2]   #purchase qty\n",
    "    d1 = x[3]  #spread according to price range\n",
    "    c0 = x[4]  #desired down percent to adjust purchase price\n",
    "\n",
    "    a0 = q0 * p0 # amount\n",
    "    \n",
    "    i = 1000\n",
    "    pct = 0\n",
    "    pt = 0\n",
    "    dt = 0\n",
    "    p2 = 0\n",
    "    while i > 0:\n",
    "        p1 = p0 - d1  #simulated purchase price\n",
    "        p0 = p1\n",
    "        a1 = q1 * p1  #new purchase amt\n",
    "        q2 = q0 + q1  #new total qty\n",
    "        a2 = a0 + a1  #new cost amt\n",
    "        p2 = a2 / q2  #new unit cost\n",
    "\n",
    "        pt = round(p2 * 100,2)  #simulated purchase price multiply 100  \n",
    "        dt = d1 * 100           #spread according to price range multiply 100\n",
    "        \n",
    "        print('before if',i,'p1='+str(round(p1,2)),'a1='+str(round(a1,2)),'a2='+str(round(a2,2)),'p2='+str(round(p2,2)))\n",
    "        \n",
    "        if (pt % dt) == 0:\n",
    "            pct = (p1 - old_unit_cost)/old_unit_cost * 100\n",
    "            print ('in loop' ,i,'p2='+str(round(p2,2)),a2,'p1='+str(round(p1,2)),'pct='+str(round(pct,2)))\n",
    "            if abs(pct) < c0:\n",
    "                continue\n",
    "            break\n",
    "            \n",
    "        print ('out loop',i,'p2='+str(round(p2,2)),a2,'p1='+str(round(p1,2)),'pct='+str(round(pct,2)))            \n",
    "        i -= 1     \n",
    "        \n",
    "    return print('p1='+str(round(p1,2)),'p2='+str(round(p2,2)),'pct='+str(round(pct,2)))"
   ]
  },
  {
   "cell_type": "code",
   "execution_count": 7,
   "metadata": {},
   "outputs": [
    {
     "name": "stdout",
     "output_type": "stream",
     "text": [
      "before if 1000 p1=173.5 a1=52050.0 a2=208650.0 p2=173.88\n",
      "out loop 1000 p2=173.88 208650.0 p1=173.5 pct=0\n",
      "before if 999 p1=173.0 a1=51900.0 a2=208500.0 p2=173.75\n",
      "out loop 999 p2=173.75 208500.0 p1=173.0 pct=0\n",
      "before if 998 p1=172.5 a1=51750.0 a2=208350.0 p2=173.62\n",
      "out loop 998 p2=173.62 208350.0 p1=172.5 pct=0\n",
      "before if 997 p1=172.0 a1=51600.0 a2=208200.0 p2=173.5\n",
      "in loop 997 p2=173.5 208200.0 p1=172.0 pct=-1.15\n",
      "before if 997 p1=171.5 a1=51450.0 a2=208050.0 p2=173.38\n",
      "out loop 997 p2=173.38 208050.0 p1=171.5 pct=-1.15\n",
      "before if 996 p1=171.0 a1=51300.0 a2=207900.0 p2=173.25\n",
      "out loop 996 p2=173.25 207900.0 p1=171.0 pct=-1.15\n",
      "before if 995 p1=170.5 a1=51150.0 a2=207750.0 p2=173.12\n",
      "out loop 995 p2=173.12 207750.0 p1=170.5 pct=-1.15\n",
      "before if 994 p1=170.0 a1=51000.0 a2=207600.0 p2=173.0\n",
      "in loop 994 p2=173.0 207600.0 p1=170.0 pct=-2.3\n",
      "before if 994 p1=169.5 a1=50850.0 a2=207450.0 p2=172.88\n",
      "out loop 994 p2=172.88 207450.0 p1=169.5 pct=-2.3\n",
      "before if 993 p1=169.0 a1=50700.0 a2=207300.0 p2=172.75\n",
      "out loop 993 p2=172.75 207300.0 p1=169.0 pct=-2.3\n",
      "before if 992 p1=168.5 a1=50550.0 a2=207150.0 p2=172.62\n",
      "out loop 992 p2=172.62 207150.0 p1=168.5 pct=-2.3\n",
      "before if 991 p1=168.0 a1=50400.0 a2=207000.0 p2=172.5\n",
      "in loop 991 p2=172.5 207000.0 p1=168.0 pct=-3.45\n",
      "before if 991 p1=167.5 a1=50250.0 a2=206850.0 p2=172.38\n",
      "out loop 991 p2=172.38 206850.0 p1=167.5 pct=-3.45\n",
      "before if 990 p1=167.0 a1=50100.0 a2=206700.0 p2=172.25\n",
      "out loop 990 p2=172.25 206700.0 p1=167.0 pct=-3.45\n",
      "before if 989 p1=166.5 a1=49950.0 a2=206550.0 p2=172.12\n",
      "out loop 989 p2=172.12 206550.0 p1=166.5 pct=-3.45\n",
      "before if 988 p1=166.0 a1=49800.0 a2=206400.0 p2=172.0\n",
      "in loop 988 p2=172.0 206400.0 p1=166.0 pct=-4.6\n",
      "before if 988 p1=165.5 a1=49650.0 a2=206250.0 p2=171.88\n",
      "out loop 988 p2=171.88 206250.0 p1=165.5 pct=-4.6\n",
      "before if 987 p1=165.0 a1=49500.0 a2=206100.0 p2=171.75\n",
      "out loop 987 p2=171.75 206100.0 p1=165.0 pct=-4.6\n",
      "before if 986 p1=164.5 a1=49350.0 a2=205950.0 p2=171.62\n",
      "out loop 986 p2=171.62 205950.0 p1=164.5 pct=-4.6\n",
      "before if 985 p1=164.0 a1=49200.0 a2=205800.0 p2=171.5\n",
      "in loop 985 p2=171.5 205800.0 p1=164.0 pct=-5.75\n",
      "p1=164.0 p2=171.5 pct=-5.75\n"
     ]
    },
    {
     "data": {
      "text/plain": [
       "array([None], dtype=object)"
      ]
     },
     "execution_count": 7,
     "metadata": {},
     "output_type": "execute_result"
    }
   ],
   "source": [
    "my_array = [[900,174,300,0.50,5]]\n",
    "tmp = (np.apply_along_axis(number_of_spread, axis=1, arr=my_array))\n",
    "tmp"
   ]
  },
  {
   "cell_type": "markdown",
   "metadata": {},
   "source": [
    "##### "
   ]
  },
  {
   "cell_type": "code",
   "execution_count": null,
   "metadata": {},
   "outputs": [],
   "source": []
  }
 ],
 "metadata": {
  "anaconda-cloud": {},
  "kernelspec": {
   "display_name": "Python 3 (ipykernel)",
   "language": "python",
   "name": "python3"
  },
  "language_info": {
   "codemirror_mode": {
    "name": "ipython",
    "version": 3
   },
   "file_extension": ".py",
   "mimetype": "text/x-python",
   "name": "python",
   "nbconvert_exporter": "python",
   "pygments_lexer": "ipython3",
   "version": "3.8.11"
  }
 },
 "nbformat": 4,
 "nbformat_minor": 1
}
