{
 "cells": [
  {
   "cell_type": "code",
   "execution_count": 41,
   "metadata": {},
   "outputs": [
    {
     "data": {
      "application/javascript": [
       "\n",
       "(function(root) {\n",
       "  function now() {\n",
       "    return new Date();\n",
       "  }\n",
       "\n",
       "  var force = true;\n",
       "\n",
       "  if (typeof root._bokeh_onload_callbacks === \"undefined\" || force === true) {\n",
       "    root._bokeh_onload_callbacks = [];\n",
       "    root._bokeh_is_loading = undefined;\n",
       "  }\n",
       "\n",
       "  if (typeof (root._bokeh_timeout) === \"undefined\" || force === true) {\n",
       "    root._bokeh_timeout = Date.now() + 5000;\n",
       "    root._bokeh_failed_load = false;\n",
       "  }\n",
       "\n",
       "  function run_callbacks() {\n",
       "    try {\n",
       "      root._bokeh_onload_callbacks.forEach(function(callback) {\n",
       "        if (callback != null)\n",
       "          callback();\n",
       "      });\n",
       "    } finally {\n",
       "      delete root._bokeh_onload_callbacks\n",
       "    }\n",
       "    console.debug(\"Bokeh: all callbacks have finished\");\n",
       "  }\n",
       "\n",
       "  function load_libs(css_urls, js_urls, js_modules, callback) {\n",
       "    if (css_urls == null) css_urls = [];\n",
       "    if (js_urls == null) js_urls = [];\n",
       "    if (js_modules == null) js_modules = [];\n",
       "\n",
       "    root._bokeh_onload_callbacks.push(callback);\n",
       "    if (root._bokeh_is_loading > 0) {\n",
       "      console.debug(\"Bokeh: BokehJS is being loaded, scheduling callback at\", now());\n",
       "      return null;\n",
       "    }\n",
       "    if (js_urls.length === 0 && js_modules.length === 0) {\n",
       "      run_callbacks();\n",
       "      return null;\n",
       "    }\n",
       "    console.debug(\"Bokeh: BokehJS not loaded, scheduling load and callback at\", now());\n",
       "    root._bokeh_is_loading = css_urls.length + js_urls.length + js_modules.length;\n",
       "\n",
       "    function on_load() {\n",
       "      root._bokeh_is_loading--;\n",
       "      if (root._bokeh_is_loading === 0) {\n",
       "        console.debug(\"Bokeh: all BokehJS libraries/stylesheets loaded\");\n",
       "        run_callbacks()\n",
       "      }\n",
       "    }\n",
       "\n",
       "    function on_error() {\n",
       "      console.error(\"failed to load \" + url);\n",
       "    }\n",
       "\n",
       "    for (var i = 0; i < css_urls.length; i++) {\n",
       "      var url = css_urls[i];\n",
       "      const element = document.createElement(\"link\");\n",
       "      element.onload = on_load;\n",
       "      element.onerror = on_error;\n",
       "      element.rel = \"stylesheet\";\n",
       "      element.type = \"text/css\";\n",
       "      element.href = url;\n",
       "      console.debug(\"Bokeh: injecting link tag for BokehJS stylesheet: \", url);\n",
       "      document.body.appendChild(element);\n",
       "    }\n",
       "\n",
       "    var skip = [];\n",
       "    if (window.requirejs) {\n",
       "      window.requirejs.config({'packages': {}, 'paths': {'tabulator': 'https://unpkg.com/tabulator-tables@4.9.3/dist/js/tabulator', 'moment': 'https://unpkg.com/moment@2.27.0/moment'}, 'shim': {}});\n",
       "      \n",
       "      require([\"tabulator\"], function(Tabulator) {\n",
       "\twindow.Tabulator = Tabulator\n",
       "      })\n",
       "      \n",
       "      require([\"moment\"], function(moment) {\n",
       "\twindow.moment = moment\n",
       "      })\n",
       "      \n",
       "    }\n",
       "    if (((window['Tabulator'] !== undefined) && (!(window['Tabulator'] instanceof HTMLElement))) || window.requirejs) {\n",
       "      var urls = ['https://unpkg.com/tabulator-tables@4.9.3/dist/js/tabulator.js'];\n",
       "      for (var i = 0; i < urls.length; i++) {\n",
       "        skip.push(urls[i])\n",
       "      }\n",
       "    }\n",
       "    if (((window['moment'] !== undefined) && (!(window['moment'] instanceof HTMLElement))) || window.requirejs) {\n",
       "      var urls = ['https://unpkg.com/moment@2.27.0/moment.js'];\n",
       "      for (var i = 0; i < urls.length; i++) {\n",
       "        skip.push(urls[i])\n",
       "      }\n",
       "    }\n",
       "    for (var i = 0; i < js_urls.length; i++) {\n",
       "      var url = js_urls[i];\n",
       "      if (skip.indexOf(url) >= 0) { on_load(); continue; }\n",
       "      var element = document.createElement('script');\n",
       "      element.onload = on_load;\n",
       "      element.onerror = on_error;\n",
       "      element.async = false;\n",
       "      element.src = url;\n",
       "      console.debug(\"Bokeh: injecting script tag for BokehJS library: \", url);\n",
       "      document.head.appendChild(element);\n",
       "    }\n",
       "    for (var i = 0; i < js_modules.length; i++) {\n",
       "      var url = js_modules[i];\n",
       "      if (skip.indexOf(url) >= 0) { on_load(); continue; }\n",
       "      var element = document.createElement('script');\n",
       "      element.onload = on_load;\n",
       "      element.onerror = on_error;\n",
       "      element.async = false;\n",
       "      element.src = url;\n",
       "      element.type = \"module\";\n",
       "      console.debug(\"Bokeh: injecting script tag for BokehJS library: \", url);\n",
       "      document.head.appendChild(element);\n",
       "    }\n",
       "    if (!js_urls.length && !js_modules.length) {\n",
       "      on_load()\n",
       "    }\n",
       "  };\n",
       "\n",
       "  function inject_raw_css(css) {\n",
       "    const element = document.createElement(\"style\");\n",
       "    element.appendChild(document.createTextNode(css));\n",
       "    document.body.appendChild(element);\n",
       "  }\n",
       "\n",
       "  var js_urls = [\"https://unpkg.com/tabulator-tables@4.9.3/dist/js/tabulator.js\", \"https://unpkg.com/moment@2.27.0/moment.js\", \"https://cdn.bokeh.org/bokeh/release/bokeh-2.3.3.min.js\", \"https://cdn.bokeh.org/bokeh/release/bokeh-widgets-2.3.3.min.js\", \"https://cdn.bokeh.org/bokeh/release/bokeh-tables-2.3.3.min.js\", \"https://unpkg.com/@holoviz/panel@0.12.1/dist/panel.min.js\"];\n",
       "  var js_modules = [];\n",
       "  var css_urls = [\"https://unpkg.com/tabulator-tables@4.9.3/dist/css/tabulator_simple.min.css\", \"https://unpkg.com/@holoviz/panel@0.12.1/dist/css/alerts.css\", \"https://unpkg.com/@holoviz/panel@0.12.1/dist/css/card.css\", \"https://unpkg.com/@holoviz/panel@0.12.1/dist/css/dataframe.css\", \"https://unpkg.com/@holoviz/panel@0.12.1/dist/css/json.css\", \"https://unpkg.com/@holoviz/panel@0.12.1/dist/css/loading.css\", \"https://unpkg.com/@holoviz/panel@0.12.1/dist/css/markdown.css\", \"https://unpkg.com/@holoviz/panel@0.12.1/dist/css/widgets.css\"];\n",
       "  var inline_js = [\n",
       "    function(Bokeh) {\n",
       "      inject_raw_css(\"\\n    .bk.pn-loading.arcs:before {\\n      background-image: url(\\\"data:image/svg+xml;base64,PHN2ZyB4bWxucz0iaHR0cDovL3d3dy53My5vcmcvMjAwMC9zdmciIHhtbG5zOnhsaW5rPSJodHRwOi8vd3d3LnczLm9yZy8xOTk5L3hsaW5rIiBzdHlsZT0ibWFyZ2luOiBhdXRvOyBiYWNrZ3JvdW5kOiBub25lOyBkaXNwbGF5OiBibG9jazsgc2hhcGUtcmVuZGVyaW5nOiBhdXRvOyIgdmlld0JveD0iMCAwIDEwMCAxMDAiIHByZXNlcnZlQXNwZWN0UmF0aW89InhNaWRZTWlkIj4gIDxjaXJjbGUgY3g9IjUwIiBjeT0iNTAiIHI9IjMyIiBzdHJva2Utd2lkdGg9IjgiIHN0cm9rZT0iI2MzYzNjMyIgc3Ryb2tlLWRhc2hhcnJheT0iNTAuMjY1NDgyNDU3NDM2NjkgNTAuMjY1NDgyNDU3NDM2NjkiIGZpbGw9Im5vbmUiIHN0cm9rZS1saW5lY2FwPSJyb3VuZCI+ICAgIDxhbmltYXRlVHJhbnNmb3JtIGF0dHJpYnV0ZU5hbWU9InRyYW5zZm9ybSIgdHlwZT0icm90YXRlIiByZXBlYXRDb3VudD0iaW5kZWZpbml0ZSIgZHVyPSIxcyIga2V5VGltZXM9IjA7MSIgdmFsdWVzPSIwIDUwIDUwOzM2MCA1MCA1MCI+PC9hbmltYXRlVHJhbnNmb3JtPiAgPC9jaXJjbGU+PC9zdmc+\\\")\\n    }\\n    \");\n",
       "    },\n",
       "    function(Bokeh) {\n",
       "      Bokeh.set_log_level(\"info\");\n",
       "    },\n",
       "    function(Bokeh) {} // ensure no trailing comma for IE\n",
       "  ];\n",
       "\n",
       "  function run_inline_js() {\n",
       "    if ((root.Bokeh !== undefined) || (force === true)) {\n",
       "      for (var i = 0; i < inline_js.length; i++) {\n",
       "        inline_js[i].call(root, root.Bokeh);\n",
       "      }} else if (Date.now() < root._bokeh_timeout) {\n",
       "      setTimeout(run_inline_js, 100);\n",
       "    } else if (!root._bokeh_failed_load) {\n",
       "      console.log(\"Bokeh: BokehJS failed to load within specified timeout.\");\n",
       "      root._bokeh_failed_load = true;\n",
       "    }\n",
       "  }\n",
       "\n",
       "  if (root._bokeh_is_loading === 0) {\n",
       "    console.debug(\"Bokeh: BokehJS loaded, going straight to plotting\");\n",
       "    run_inline_js();\n",
       "  } else {\n",
       "    load_libs(css_urls, js_urls, js_modules, function() {\n",
       "      console.debug(\"Bokeh: BokehJS plotting callback run at\", now());\n",
       "      run_inline_js();\n",
       "    });\n",
       "  }\n",
       "}(window));"
      ],
      "application/vnd.holoviews_load.v0+json": "\n(function(root) {\n  function now() {\n    return new Date();\n  }\n\n  var force = true;\n\n  if (typeof root._bokeh_onload_callbacks === \"undefined\" || force === true) {\n    root._bokeh_onload_callbacks = [];\n    root._bokeh_is_loading = undefined;\n  }\n\n  if (typeof (root._bokeh_timeout) === \"undefined\" || force === true) {\n    root._bokeh_timeout = Date.now() + 5000;\n    root._bokeh_failed_load = false;\n  }\n\n  function run_callbacks() {\n    try {\n      root._bokeh_onload_callbacks.forEach(function(callback) {\n        if (callback != null)\n          callback();\n      });\n    } finally {\n      delete root._bokeh_onload_callbacks\n    }\n    console.debug(\"Bokeh: all callbacks have finished\");\n  }\n\n  function load_libs(css_urls, js_urls, js_modules, callback) {\n    if (css_urls == null) css_urls = [];\n    if (js_urls == null) js_urls = [];\n    if (js_modules == null) js_modules = [];\n\n    root._bokeh_onload_callbacks.push(callback);\n    if (root._bokeh_is_loading > 0) {\n      console.debug(\"Bokeh: BokehJS is being loaded, scheduling callback at\", now());\n      return null;\n    }\n    if (js_urls.length === 0 && js_modules.length === 0) {\n      run_callbacks();\n      return null;\n    }\n    console.debug(\"Bokeh: BokehJS not loaded, scheduling load and callback at\", now());\n    root._bokeh_is_loading = css_urls.length + js_urls.length + js_modules.length;\n\n    function on_load() {\n      root._bokeh_is_loading--;\n      if (root._bokeh_is_loading === 0) {\n        console.debug(\"Bokeh: all BokehJS libraries/stylesheets loaded\");\n        run_callbacks()\n      }\n    }\n\n    function on_error() {\n      console.error(\"failed to load \" + url);\n    }\n\n    for (var i = 0; i < css_urls.length; i++) {\n      var url = css_urls[i];\n      const element = document.createElement(\"link\");\n      element.onload = on_load;\n      element.onerror = on_error;\n      element.rel = \"stylesheet\";\n      element.type = \"text/css\";\n      element.href = url;\n      console.debug(\"Bokeh: injecting link tag for BokehJS stylesheet: \", url);\n      document.body.appendChild(element);\n    }\n\n    var skip = [];\n    if (window.requirejs) {\n      window.requirejs.config({'packages': {}, 'paths': {'tabulator': 'https://unpkg.com/tabulator-tables@4.9.3/dist/js/tabulator', 'moment': 'https://unpkg.com/moment@2.27.0/moment'}, 'shim': {}});\n      \n      require([\"tabulator\"], function(Tabulator) {\n\twindow.Tabulator = Tabulator\n      })\n      \n      require([\"moment\"], function(moment) {\n\twindow.moment = moment\n      })\n      \n    }\n    if (((window['Tabulator'] !== undefined) && (!(window['Tabulator'] instanceof HTMLElement))) || window.requirejs) {\n      var urls = ['https://unpkg.com/tabulator-tables@4.9.3/dist/js/tabulator.js'];\n      for (var i = 0; i < urls.length; i++) {\n        skip.push(urls[i])\n      }\n    }\n    if (((window['moment'] !== undefined) && (!(window['moment'] instanceof HTMLElement))) || window.requirejs) {\n      var urls = ['https://unpkg.com/moment@2.27.0/moment.js'];\n      for (var i = 0; i < urls.length; i++) {\n        skip.push(urls[i])\n      }\n    }\n    for (var i = 0; i < js_urls.length; i++) {\n      var url = js_urls[i];\n      if (skip.indexOf(url) >= 0) { on_load(); continue; }\n      var element = document.createElement('script');\n      element.onload = on_load;\n      element.onerror = on_error;\n      element.async = false;\n      element.src = url;\n      console.debug(\"Bokeh: injecting script tag for BokehJS library: \", url);\n      document.head.appendChild(element);\n    }\n    for (var i = 0; i < js_modules.length; i++) {\n      var url = js_modules[i];\n      if (skip.indexOf(url) >= 0) { on_load(); continue; }\n      var element = document.createElement('script');\n      element.onload = on_load;\n      element.onerror = on_error;\n      element.async = false;\n      element.src = url;\n      element.type = \"module\";\n      console.debug(\"Bokeh: injecting script tag for BokehJS library: \", url);\n      document.head.appendChild(element);\n    }\n    if (!js_urls.length && !js_modules.length) {\n      on_load()\n    }\n  };\n\n  function inject_raw_css(css) {\n    const element = document.createElement(\"style\");\n    element.appendChild(document.createTextNode(css));\n    document.body.appendChild(element);\n  }\n\n  var js_urls = [\"https://unpkg.com/tabulator-tables@4.9.3/dist/js/tabulator.js\", \"https://unpkg.com/moment@2.27.0/moment.js\", \"https://cdn.bokeh.org/bokeh/release/bokeh-2.3.3.min.js\", \"https://cdn.bokeh.org/bokeh/release/bokeh-widgets-2.3.3.min.js\", \"https://cdn.bokeh.org/bokeh/release/bokeh-tables-2.3.3.min.js\", \"https://unpkg.com/@holoviz/panel@0.12.1/dist/panel.min.js\"];\n  var js_modules = [];\n  var css_urls = [\"https://unpkg.com/tabulator-tables@4.9.3/dist/css/tabulator_simple.min.css\", \"https://unpkg.com/@holoviz/panel@0.12.1/dist/css/alerts.css\", \"https://unpkg.com/@holoviz/panel@0.12.1/dist/css/card.css\", \"https://unpkg.com/@holoviz/panel@0.12.1/dist/css/dataframe.css\", \"https://unpkg.com/@holoviz/panel@0.12.1/dist/css/json.css\", \"https://unpkg.com/@holoviz/panel@0.12.1/dist/css/loading.css\", \"https://unpkg.com/@holoviz/panel@0.12.1/dist/css/markdown.css\", \"https://unpkg.com/@holoviz/panel@0.12.1/dist/css/widgets.css\"];\n  var inline_js = [\n    function(Bokeh) {\n      inject_raw_css(\"\\n    .bk.pn-loading.arcs:before {\\n      background-image: url(\\\"data:image/svg+xml;base64,PHN2ZyB4bWxucz0iaHR0cDovL3d3dy53My5vcmcvMjAwMC9zdmciIHhtbG5zOnhsaW5rPSJodHRwOi8vd3d3LnczLm9yZy8xOTk5L3hsaW5rIiBzdHlsZT0ibWFyZ2luOiBhdXRvOyBiYWNrZ3JvdW5kOiBub25lOyBkaXNwbGF5OiBibG9jazsgc2hhcGUtcmVuZGVyaW5nOiBhdXRvOyIgdmlld0JveD0iMCAwIDEwMCAxMDAiIHByZXNlcnZlQXNwZWN0UmF0aW89InhNaWRZTWlkIj4gIDxjaXJjbGUgY3g9IjUwIiBjeT0iNTAiIHI9IjMyIiBzdHJva2Utd2lkdGg9IjgiIHN0cm9rZT0iI2MzYzNjMyIgc3Ryb2tlLWRhc2hhcnJheT0iNTAuMjY1NDgyNDU3NDM2NjkgNTAuMjY1NDgyNDU3NDM2NjkiIGZpbGw9Im5vbmUiIHN0cm9rZS1saW5lY2FwPSJyb3VuZCI+ICAgIDxhbmltYXRlVHJhbnNmb3JtIGF0dHJpYnV0ZU5hbWU9InRyYW5zZm9ybSIgdHlwZT0icm90YXRlIiByZXBlYXRDb3VudD0iaW5kZWZpbml0ZSIgZHVyPSIxcyIga2V5VGltZXM9IjA7MSIgdmFsdWVzPSIwIDUwIDUwOzM2MCA1MCA1MCI+PC9hbmltYXRlVHJhbnNmb3JtPiAgPC9jaXJjbGU+PC9zdmc+\\\")\\n    }\\n    \");\n    },\n    function(Bokeh) {\n      Bokeh.set_log_level(\"info\");\n    },\n    function(Bokeh) {} // ensure no trailing comma for IE\n  ];\n\n  function run_inline_js() {\n    if ((root.Bokeh !== undefined) || (force === true)) {\n      for (var i = 0; i < inline_js.length; i++) {\n        inline_js[i].call(root, root.Bokeh);\n      }} else if (Date.now() < root._bokeh_timeout) {\n      setTimeout(run_inline_js, 100);\n    } else if (!root._bokeh_failed_load) {\n      console.log(\"Bokeh: BokehJS failed to load within specified timeout.\");\n      root._bokeh_failed_load = true;\n    }\n  }\n\n  if (root._bokeh_is_loading === 0) {\n    console.debug(\"Bokeh: BokehJS loaded, going straight to plotting\");\n    run_inline_js();\n  } else {\n    load_libs(css_urls, js_urls, js_modules, function() {\n      console.debug(\"Bokeh: BokehJS plotting callback run at\", now());\n      run_inline_js();\n    });\n  }\n}(window));"
     },
     "metadata": {},
     "output_type": "display_data"
    },
    {
     "data": {
      "application/javascript": [
       "\n",
       "if ((window.PyViz === undefined) || (window.PyViz instanceof HTMLElement)) {\n",
       "  window.PyViz = {comms: {}, comm_status:{}, kernels:{}, receivers: {}, plot_index: []}\n",
       "}\n",
       "\n",
       "\n",
       "    function JupyterCommManager() {\n",
       "    }\n",
       "\n",
       "    JupyterCommManager.prototype.register_target = function(plot_id, comm_id, msg_handler) {\n",
       "      if (window.comm_manager || ((window.Jupyter !== undefined) && (Jupyter.notebook.kernel != null))) {\n",
       "        var comm_manager = window.comm_manager || Jupyter.notebook.kernel.comm_manager;\n",
       "        comm_manager.register_target(comm_id, function(comm) {\n",
       "          comm.on_msg(msg_handler);\n",
       "        });\n",
       "      } else if ((plot_id in window.PyViz.kernels) && (window.PyViz.kernels[plot_id])) {\n",
       "        window.PyViz.kernels[plot_id].registerCommTarget(comm_id, function(comm) {\n",
       "          comm.onMsg = msg_handler;\n",
       "        });\n",
       "      } else if (typeof google != 'undefined' && google.colab.kernel != null) {\n",
       "        google.colab.kernel.comms.registerTarget(comm_id, (comm) => {\n",
       "          var messages = comm.messages[Symbol.asyncIterator]();\n",
       "          function processIteratorResult(result) {\n",
       "            var message = result.value;\n",
       "            console.log(message)\n",
       "            var content = {data: message.data, comm_id};\n",
       "            var buffers = []\n",
       "            for (var buffer of message.buffers || []) {\n",
       "              buffers.push(new DataView(buffer))\n",
       "            }\n",
       "            var metadata = message.metadata || {};\n",
       "            var msg = {content, buffers, metadata}\n",
       "            msg_handler(msg);\n",
       "            return messages.next().then(processIteratorResult);\n",
       "          }\n",
       "          return messages.next().then(processIteratorResult);\n",
       "        })\n",
       "      }\n",
       "    }\n",
       "\n",
       "    JupyterCommManager.prototype.get_client_comm = function(plot_id, comm_id, msg_handler) {\n",
       "      if (comm_id in window.PyViz.comms) {\n",
       "        return window.PyViz.comms[comm_id];\n",
       "      } else if (window.comm_manager || ((window.Jupyter !== undefined) && (Jupyter.notebook.kernel != null))) {\n",
       "        var comm_manager = window.comm_manager || Jupyter.notebook.kernel.comm_manager;\n",
       "        var comm = comm_manager.new_comm(comm_id, {}, {}, {}, comm_id);\n",
       "        if (msg_handler) {\n",
       "          comm.on_msg(msg_handler);\n",
       "        }\n",
       "      } else if ((plot_id in window.PyViz.kernels) && (window.PyViz.kernels[plot_id])) {\n",
       "        var comm = window.PyViz.kernels[plot_id].connectToComm(comm_id);\n",
       "        comm.open();\n",
       "        if (msg_handler) {\n",
       "          comm.onMsg = msg_handler;\n",
       "        }\n",
       "      } else if (typeof google != 'undefined' && google.colab.kernel != null) {\n",
       "        var comm_promise = google.colab.kernel.comms.open(comm_id)\n",
       "        comm_promise.then((comm) => {\n",
       "          window.PyViz.comms[comm_id] = comm;\n",
       "          if (msg_handler) {\n",
       "            var messages = comm.messages[Symbol.asyncIterator]();\n",
       "            function processIteratorResult(result) {\n",
       "              var message = result.value;\n",
       "              var content = {data: message.data};\n",
       "              var metadata = message.metadata || {comm_id};\n",
       "              var msg = {content, metadata}\n",
       "              msg_handler(msg);\n",
       "              return messages.next().then(processIteratorResult);\n",
       "            }\n",
       "            return messages.next().then(processIteratorResult);\n",
       "          }\n",
       "        }) \n",
       "        var sendClosure = (data, metadata, buffers, disposeOnDone) => {\n",
       "          return comm_promise.then((comm) => {\n",
       "            comm.send(data, metadata, buffers, disposeOnDone);\n",
       "          });\n",
       "        };\n",
       "        var comm = {\n",
       "          send: sendClosure\n",
       "        };\n",
       "      }\n",
       "      window.PyViz.comms[comm_id] = comm;\n",
       "      return comm;\n",
       "    }\n",
       "    window.PyViz.comm_manager = new JupyterCommManager();\n",
       "    \n",
       "\n",
       "\n",
       "var JS_MIME_TYPE = 'application/javascript';\n",
       "var HTML_MIME_TYPE = 'text/html';\n",
       "var EXEC_MIME_TYPE = 'application/vnd.holoviews_exec.v0+json';\n",
       "var CLASS_NAME = 'output';\n",
       "\n",
       "/**\n",
       " * Render data to the DOM node\n",
       " */\n",
       "function render(props, node) {\n",
       "  var div = document.createElement(\"div\");\n",
       "  var script = document.createElement(\"script\");\n",
       "  node.appendChild(div);\n",
       "  node.appendChild(script);\n",
       "}\n",
       "\n",
       "/**\n",
       " * Handle when a new output is added\n",
       " */\n",
       "function handle_add_output(event, handle) {\n",
       "  var output_area = handle.output_area;\n",
       "  var output = handle.output;\n",
       "  if ((output.data == undefined) || (!output.data.hasOwnProperty(EXEC_MIME_TYPE))) {\n",
       "    return\n",
       "  }\n",
       "  var id = output.metadata[EXEC_MIME_TYPE][\"id\"];\n",
       "  var toinsert = output_area.element.find(\".\" + CLASS_NAME.split(' ')[0]);\n",
       "  if (id !== undefined) {\n",
       "    var nchildren = toinsert.length;\n",
       "    var html_node = toinsert[nchildren-1].children[0];\n",
       "    html_node.innerHTML = output.data[HTML_MIME_TYPE];\n",
       "    var scripts = [];\n",
       "    var nodelist = html_node.querySelectorAll(\"script\");\n",
       "    for (var i in nodelist) {\n",
       "      if (nodelist.hasOwnProperty(i)) {\n",
       "        scripts.push(nodelist[i])\n",
       "      }\n",
       "    }\n",
       "\n",
       "    scripts.forEach( function (oldScript) {\n",
       "      var newScript = document.createElement(\"script\");\n",
       "      var attrs = [];\n",
       "      var nodemap = oldScript.attributes;\n",
       "      for (var j in nodemap) {\n",
       "        if (nodemap.hasOwnProperty(j)) {\n",
       "          attrs.push(nodemap[j])\n",
       "        }\n",
       "      }\n",
       "      attrs.forEach(function(attr) { newScript.setAttribute(attr.name, attr.value) });\n",
       "      newScript.appendChild(document.createTextNode(oldScript.innerHTML));\n",
       "      oldScript.parentNode.replaceChild(newScript, oldScript);\n",
       "    });\n",
       "    if (JS_MIME_TYPE in output.data) {\n",
       "      toinsert[nchildren-1].children[1].textContent = output.data[JS_MIME_TYPE];\n",
       "    }\n",
       "    output_area._hv_plot_id = id;\n",
       "    if ((window.Bokeh !== undefined) && (id in Bokeh.index)) {\n",
       "      window.PyViz.plot_index[id] = Bokeh.index[id];\n",
       "    } else {\n",
       "      window.PyViz.plot_index[id] = null;\n",
       "    }\n",
       "  } else if (output.metadata[EXEC_MIME_TYPE][\"server_id\"] !== undefined) {\n",
       "    var bk_div = document.createElement(\"div\");\n",
       "    bk_div.innerHTML = output.data[HTML_MIME_TYPE];\n",
       "    var script_attrs = bk_div.children[0].attributes;\n",
       "    for (var i = 0; i < script_attrs.length; i++) {\n",
       "      toinsert[toinsert.length - 1].childNodes[1].setAttribute(script_attrs[i].name, script_attrs[i].value);\n",
       "    }\n",
       "    // store reference to server id on output_area\n",
       "    output_area._bokeh_server_id = output.metadata[EXEC_MIME_TYPE][\"server_id\"];\n",
       "  }\n",
       "}\n",
       "\n",
       "/**\n",
       " * Handle when an output is cleared or removed\n",
       " */\n",
       "function handle_clear_output(event, handle) {\n",
       "  var id = handle.cell.output_area._hv_plot_id;\n",
       "  var server_id = handle.cell.output_area._bokeh_server_id;\n",
       "  if (((id === undefined) || !(id in PyViz.plot_index)) && (server_id !== undefined)) { return; }\n",
       "  var comm = window.PyViz.comm_manager.get_client_comm(\"hv-extension-comm\", \"hv-extension-comm\", function () {});\n",
       "  if (server_id !== null) {\n",
       "    comm.send({event_type: 'server_delete', 'id': server_id});\n",
       "    return;\n",
       "  } else if (comm !== null) {\n",
       "    comm.send({event_type: 'delete', 'id': id});\n",
       "  }\n",
       "  delete PyViz.plot_index[id];\n",
       "  if ((window.Bokeh !== undefined) & (id in window.Bokeh.index)) {\n",
       "    var doc = window.Bokeh.index[id].model.document\n",
       "    doc.clear();\n",
       "    const i = window.Bokeh.documents.indexOf(doc);\n",
       "    if (i > -1) {\n",
       "      window.Bokeh.documents.splice(i, 1);\n",
       "    }\n",
       "  }\n",
       "}\n",
       "\n",
       "/**\n",
       " * Handle kernel restart event\n",
       " */\n",
       "function handle_kernel_cleanup(event, handle) {\n",
       "  delete PyViz.comms[\"hv-extension-comm\"];\n",
       "  window.PyViz.plot_index = {}\n",
       "}\n",
       "\n",
       "/**\n",
       " * Handle update_display_data messages\n",
       " */\n",
       "function handle_update_output(event, handle) {\n",
       "  handle_clear_output(event, {cell: {output_area: handle.output_area}})\n",
       "  handle_add_output(event, handle)\n",
       "}\n",
       "\n",
       "function register_renderer(events, OutputArea) {\n",
       "  function append_mime(data, metadata, element) {\n",
       "    // create a DOM node to render to\n",
       "    var toinsert = this.create_output_subarea(\n",
       "    metadata,\n",
       "    CLASS_NAME,\n",
       "    EXEC_MIME_TYPE\n",
       "    );\n",
       "    this.keyboard_manager.register_events(toinsert);\n",
       "    // Render to node\n",
       "    var props = {data: data, metadata: metadata[EXEC_MIME_TYPE]};\n",
       "    render(props, toinsert[0]);\n",
       "    element.append(toinsert);\n",
       "    return toinsert\n",
       "  }\n",
       "\n",
       "  events.on('output_added.OutputArea', handle_add_output);\n",
       "  events.on('output_updated.OutputArea', handle_update_output);\n",
       "  events.on('clear_output.CodeCell', handle_clear_output);\n",
       "  events.on('delete.Cell', handle_clear_output);\n",
       "  events.on('kernel_ready.Kernel', handle_kernel_cleanup);\n",
       "\n",
       "  OutputArea.prototype.register_mime_type(EXEC_MIME_TYPE, append_mime, {\n",
       "    safe: true,\n",
       "    index: 0\n",
       "  });\n",
       "}\n",
       "\n",
       "if (window.Jupyter !== undefined) {\n",
       "  try {\n",
       "    var events = require('base/js/events');\n",
       "    var OutputArea = require('notebook/js/outputarea').OutputArea;\n",
       "    if (OutputArea.prototype.mime_types().indexOf(EXEC_MIME_TYPE) == -1) {\n",
       "      register_renderer(events, OutputArea);\n",
       "    }\n",
       "  } catch(err) {\n",
       "  }\n",
       "}\n"
      ],
      "application/vnd.holoviews_load.v0+json": "\nif ((window.PyViz === undefined) || (window.PyViz instanceof HTMLElement)) {\n  window.PyViz = {comms: {}, comm_status:{}, kernels:{}, receivers: {}, plot_index: []}\n}\n\n\n    function JupyterCommManager() {\n    }\n\n    JupyterCommManager.prototype.register_target = function(plot_id, comm_id, msg_handler) {\n      if (window.comm_manager || ((window.Jupyter !== undefined) && (Jupyter.notebook.kernel != null))) {\n        var comm_manager = window.comm_manager || Jupyter.notebook.kernel.comm_manager;\n        comm_manager.register_target(comm_id, function(comm) {\n          comm.on_msg(msg_handler);\n        });\n      } else if ((plot_id in window.PyViz.kernels) && (window.PyViz.kernels[plot_id])) {\n        window.PyViz.kernels[plot_id].registerCommTarget(comm_id, function(comm) {\n          comm.onMsg = msg_handler;\n        });\n      } else if (typeof google != 'undefined' && google.colab.kernel != null) {\n        google.colab.kernel.comms.registerTarget(comm_id, (comm) => {\n          var messages = comm.messages[Symbol.asyncIterator]();\n          function processIteratorResult(result) {\n            var message = result.value;\n            console.log(message)\n            var content = {data: message.data, comm_id};\n            var buffers = []\n            for (var buffer of message.buffers || []) {\n              buffers.push(new DataView(buffer))\n            }\n            var metadata = message.metadata || {};\n            var msg = {content, buffers, metadata}\n            msg_handler(msg);\n            return messages.next().then(processIteratorResult);\n          }\n          return messages.next().then(processIteratorResult);\n        })\n      }\n    }\n\n    JupyterCommManager.prototype.get_client_comm = function(plot_id, comm_id, msg_handler) {\n      if (comm_id in window.PyViz.comms) {\n        return window.PyViz.comms[comm_id];\n      } else if (window.comm_manager || ((window.Jupyter !== undefined) && (Jupyter.notebook.kernel != null))) {\n        var comm_manager = window.comm_manager || Jupyter.notebook.kernel.comm_manager;\n        var comm = comm_manager.new_comm(comm_id, {}, {}, {}, comm_id);\n        if (msg_handler) {\n          comm.on_msg(msg_handler);\n        }\n      } else if ((plot_id in window.PyViz.kernels) && (window.PyViz.kernels[plot_id])) {\n        var comm = window.PyViz.kernels[plot_id].connectToComm(comm_id);\n        comm.open();\n        if (msg_handler) {\n          comm.onMsg = msg_handler;\n        }\n      } else if (typeof google != 'undefined' && google.colab.kernel != null) {\n        var comm_promise = google.colab.kernel.comms.open(comm_id)\n        comm_promise.then((comm) => {\n          window.PyViz.comms[comm_id] = comm;\n          if (msg_handler) {\n            var messages = comm.messages[Symbol.asyncIterator]();\n            function processIteratorResult(result) {\n              var message = result.value;\n              var content = {data: message.data};\n              var metadata = message.metadata || {comm_id};\n              var msg = {content, metadata}\n              msg_handler(msg);\n              return messages.next().then(processIteratorResult);\n            }\n            return messages.next().then(processIteratorResult);\n          }\n        }) \n        var sendClosure = (data, metadata, buffers, disposeOnDone) => {\n          return comm_promise.then((comm) => {\n            comm.send(data, metadata, buffers, disposeOnDone);\n          });\n        };\n        var comm = {\n          send: sendClosure\n        };\n      }\n      window.PyViz.comms[comm_id] = comm;\n      return comm;\n    }\n    window.PyViz.comm_manager = new JupyterCommManager();\n    \n\n\nvar JS_MIME_TYPE = 'application/javascript';\nvar HTML_MIME_TYPE = 'text/html';\nvar EXEC_MIME_TYPE = 'application/vnd.holoviews_exec.v0+json';\nvar CLASS_NAME = 'output';\n\n/**\n * Render data to the DOM node\n */\nfunction render(props, node) {\n  var div = document.createElement(\"div\");\n  var script = document.createElement(\"script\");\n  node.appendChild(div);\n  node.appendChild(script);\n}\n\n/**\n * Handle when a new output is added\n */\nfunction handle_add_output(event, handle) {\n  var output_area = handle.output_area;\n  var output = handle.output;\n  if ((output.data == undefined) || (!output.data.hasOwnProperty(EXEC_MIME_TYPE))) {\n    return\n  }\n  var id = output.metadata[EXEC_MIME_TYPE][\"id\"];\n  var toinsert = output_area.element.find(\".\" + CLASS_NAME.split(' ')[0]);\n  if (id !== undefined) {\n    var nchildren = toinsert.length;\n    var html_node = toinsert[nchildren-1].children[0];\n    html_node.innerHTML = output.data[HTML_MIME_TYPE];\n    var scripts = [];\n    var nodelist = html_node.querySelectorAll(\"script\");\n    for (var i in nodelist) {\n      if (nodelist.hasOwnProperty(i)) {\n        scripts.push(nodelist[i])\n      }\n    }\n\n    scripts.forEach( function (oldScript) {\n      var newScript = document.createElement(\"script\");\n      var attrs = [];\n      var nodemap = oldScript.attributes;\n      for (var j in nodemap) {\n        if (nodemap.hasOwnProperty(j)) {\n          attrs.push(nodemap[j])\n        }\n      }\n      attrs.forEach(function(attr) { newScript.setAttribute(attr.name, attr.value) });\n      newScript.appendChild(document.createTextNode(oldScript.innerHTML));\n      oldScript.parentNode.replaceChild(newScript, oldScript);\n    });\n    if (JS_MIME_TYPE in output.data) {\n      toinsert[nchildren-1].children[1].textContent = output.data[JS_MIME_TYPE];\n    }\n    output_area._hv_plot_id = id;\n    if ((window.Bokeh !== undefined) && (id in Bokeh.index)) {\n      window.PyViz.plot_index[id] = Bokeh.index[id];\n    } else {\n      window.PyViz.plot_index[id] = null;\n    }\n  } else if (output.metadata[EXEC_MIME_TYPE][\"server_id\"] !== undefined) {\n    var bk_div = document.createElement(\"div\");\n    bk_div.innerHTML = output.data[HTML_MIME_TYPE];\n    var script_attrs = bk_div.children[0].attributes;\n    for (var i = 0; i < script_attrs.length; i++) {\n      toinsert[toinsert.length - 1].childNodes[1].setAttribute(script_attrs[i].name, script_attrs[i].value);\n    }\n    // store reference to server id on output_area\n    output_area._bokeh_server_id = output.metadata[EXEC_MIME_TYPE][\"server_id\"];\n  }\n}\n\n/**\n * Handle when an output is cleared or removed\n */\nfunction handle_clear_output(event, handle) {\n  var id = handle.cell.output_area._hv_plot_id;\n  var server_id = handle.cell.output_area._bokeh_server_id;\n  if (((id === undefined) || !(id in PyViz.plot_index)) && (server_id !== undefined)) { return; }\n  var comm = window.PyViz.comm_manager.get_client_comm(\"hv-extension-comm\", \"hv-extension-comm\", function () {});\n  if (server_id !== null) {\n    comm.send({event_type: 'server_delete', 'id': server_id});\n    return;\n  } else if (comm !== null) {\n    comm.send({event_type: 'delete', 'id': id});\n  }\n  delete PyViz.plot_index[id];\n  if ((window.Bokeh !== undefined) & (id in window.Bokeh.index)) {\n    var doc = window.Bokeh.index[id].model.document\n    doc.clear();\n    const i = window.Bokeh.documents.indexOf(doc);\n    if (i > -1) {\n      window.Bokeh.documents.splice(i, 1);\n    }\n  }\n}\n\n/**\n * Handle kernel restart event\n */\nfunction handle_kernel_cleanup(event, handle) {\n  delete PyViz.comms[\"hv-extension-comm\"];\n  window.PyViz.plot_index = {}\n}\n\n/**\n * Handle update_display_data messages\n */\nfunction handle_update_output(event, handle) {\n  handle_clear_output(event, {cell: {output_area: handle.output_area}})\n  handle_add_output(event, handle)\n}\n\nfunction register_renderer(events, OutputArea) {\n  function append_mime(data, metadata, element) {\n    // create a DOM node to render to\n    var toinsert = this.create_output_subarea(\n    metadata,\n    CLASS_NAME,\n    EXEC_MIME_TYPE\n    );\n    this.keyboard_manager.register_events(toinsert);\n    // Render to node\n    var props = {data: data, metadata: metadata[EXEC_MIME_TYPE]};\n    render(props, toinsert[0]);\n    element.append(toinsert);\n    return toinsert\n  }\n\n  events.on('output_added.OutputArea', handle_add_output);\n  events.on('output_updated.OutputArea', handle_update_output);\n  events.on('clear_output.CodeCell', handle_clear_output);\n  events.on('delete.Cell', handle_clear_output);\n  events.on('kernel_ready.Kernel', handle_kernel_cleanup);\n\n  OutputArea.prototype.register_mime_type(EXEC_MIME_TYPE, append_mime, {\n    safe: true,\n    index: 0\n  });\n}\n\nif (window.Jupyter !== undefined) {\n  try {\n    var events = require('base/js/events');\n    var OutputArea = require('notebook/js/outputarea').OutputArea;\n    if (OutputArea.prototype.mime_types().indexOf(EXEC_MIME_TYPE) == -1) {\n      register_renderer(events, OutputArea);\n    }\n  } catch(err) {\n  }\n}\n"
     },
     "metadata": {},
     "output_type": "display_data"
    },
    {
     "data": {
      "text/plain": [
       "809000"
      ]
     },
     "execution_count": 41,
     "metadata": {},
     "output_type": "execute_result"
    }
   ],
   "source": [
    "import calendar\n",
    "import pandas as pd\n",
    "import panel as pn\n",
    "from datetime import date, timedelta\n",
    "from sqlalchemy import create_engine\n",
    "from itables import show\n",
    "\n",
    "pn.extension('tabulator')\n",
    "\n",
    "engine = create_engine(\"sqlite:///c:\\\\ruby\\\\port_lite\\\\db\\\\development.sqlite3\")\n",
    "conlite = engine.connect()\n",
    "\n",
    "data_path = \"../data/\"\n",
    "csv_path = \"\\\\Users\\\\User\\\\iCloudDrive\\\\\"\n",
    "box_path = \"\\\\Users\\\\User\\\\Dropbox\\\\\"\n",
    "\n",
    "cash = 809_000\n",
    "cash"
   ]
  },
  {
   "cell_type": "code",
   "execution_count": 42,
   "metadata": {},
   "outputs": [],
   "source": [
    "cols = 'trade name qty price active reason market'.split()\n",
    "colt = 'trans name qty target active spd current change percent'.split()"
   ]
  },
  {
   "cell_type": "code",
   "execution_count": 43,
   "metadata": {},
   "outputs": [],
   "source": [
    "format_dict = {\n",
    "    'qty':'{:,}',\n",
    "    'price':'{:.2f}','target':'{:.2f}','current':'{:.2f}','change':'{:.2f}','diff':'{:.2f}',\n",
    "    'amount':'{:,.2f}','sell_amt':'{:,.2f}'\n",
    "}"
   ]
  },
  {
   "cell_type": "code",
   "execution_count": 44,
   "metadata": {},
   "outputs": [
    {
     "data": {
      "text/html": [
       "<style type=\"text/css\">\n",
       "</style>\n",
       "<table id=\"T_f1f3c_\">\n",
       "  <thead>\n",
       "    <tr>\n",
       "      <th class=\"blank level0\" >&nbsp;</th>\n",
       "      <th class=\"col_heading level0 col0\" >id</th>\n",
       "      <th class=\"col_heading level0 col1\" >trade</th>\n",
       "      <th class=\"col_heading level0 col2\" >name</th>\n",
       "      <th class=\"col_heading level0 col3\" >qty</th>\n",
       "      <th class=\"col_heading level0 col4\" >price</th>\n",
       "      <th class=\"col_heading level0 col5\" >active</th>\n",
       "      <th class=\"col_heading level0 col6\" >reason</th>\n",
       "      <th class=\"col_heading level0 col7\" >market</th>\n",
       "    </tr>\n",
       "  </thead>\n",
       "  <tbody>\n",
       "    <tr>\n",
       "      <th id=\"T_f1f3c_level0_row0\" class=\"row_heading level0 row0\" >0</th>\n",
       "      <td id=\"T_f1f3c_row0_col0\" class=\"data row0 col0\" >23</td>\n",
       "      <td id=\"T_f1f3c_row0_col1\" class=\"data row0 col1\" >S</td>\n",
       "      <td id=\"T_f1f3c_row0_col2\" class=\"data row0 col2\" >TOP</td>\n",
       "      <td id=\"T_f1f3c_row0_col3\" class=\"data row0 col3\" >3,000</td>\n",
       "      <td id=\"T_f1f3c_row0_col4\" class=\"data row0 col4\" >55.00</td>\n",
       "      <td id=\"T_f1f3c_row0_col5\" class=\"data row0 col5\" >0</td>\n",
       "      <td id=\"T_f1f3c_row0_col6\" class=\"data row0 col6\" >10%</td>\n",
       "      <td id=\"T_f1f3c_row0_col7\" class=\"data row0 col7\" >SET50</td>\n",
       "    </tr>\n",
       "  </tbody>\n",
       "</table>\n"
      ],
      "text/plain": [
       "<pandas.io.formats.style.Styler at 0x23d80cbcdc0>"
      ]
     },
     "execution_count": 44,
     "metadata": {},
     "output_type": "execute_result"
    }
   ],
   "source": [
    "pd.read_sql_query('SELECT * FROM orders ORDER BY id DESC LIMIT 1', conlite).style.format(format_dict)"
   ]
  },
  {
   "cell_type": "markdown",
   "metadata": {},
   "source": [
    "### Print to verify before upload file"
   ]
  },
  {
   "cell_type": "code",
   "execution_count": 67,
   "metadata": {
    "scrolled": false
   },
   "outputs": [
    {
     "data": {},
     "metadata": {},
     "output_type": "display_data"
    },
    {
     "data": {
      "application/vnd.holoviews_exec.v0+json": "",
      "text/html": [
       "<div id='1725'>\n",
       "\n",
       "\n",
       "\n",
       "\n",
       "\n",
       "  <div class=\"bk-root\" id=\"f463f7b0-dc9d-45ee-bb76-c0c4f8f053c5\" data-root-id=\"1725\"></div>\n",
       "</div>\n",
       "<script type=\"application/javascript\">(function(root) {\n",
       "  function embed_document(root) {\n",
       "    var docs_json = {\"99b302bc-859f-466d-8ea3-670cdbf7456d\":{\"defs\":[{\"extends\":null,\"module\":null,\"name\":\"ReactiveHTML1\",\"overrides\":[],\"properties\":[]},{\"extends\":null,\"module\":null,\"name\":\"FlexBox1\",\"overrides\":[],\"properties\":[{\"default\":\"flex-start\",\"kind\":null,\"name\":\"align_content\"},{\"default\":\"flex-start\",\"kind\":null,\"name\":\"align_items\"},{\"default\":\"row\",\"kind\":null,\"name\":\"flex_direction\"},{\"default\":\"wrap\",\"kind\":null,\"name\":\"flex_wrap\"},{\"default\":\"flex-start\",\"kind\":null,\"name\":\"justify_content\"}]},{\"extends\":null,\"module\":null,\"name\":\"TemplateActions1\",\"overrides\":[],\"properties\":[{\"default\":0,\"kind\":null,\"name\":\"open_modal\"},{\"default\":0,\"kind\":null,\"name\":\"close_modal\"}]},{\"extends\":null,\"module\":null,\"name\":\"MaterialTemplateActions1\",\"overrides\":[],\"properties\":[{\"default\":0,\"kind\":null,\"name\":\"open_modal\"},{\"default\":0,\"kind\":null,\"name\":\"close_modal\"}]}],\"roots\":{\"references\":[{\"attributes\":{},\"id\":\"1695\",\"type\":\"NumberFormatter\"},{\"attributes\":{},\"id\":\"1681\",\"type\":\"CellEditor\"},{\"attributes\":{},\"id\":\"1696\",\"type\":\"IntEditor\"},{\"attributes\":{},\"id\":\"1720\",\"type\":\"NumberFormatter\"},{\"attributes\":{},\"id\":\"1685\",\"type\":\"StringFormatter\"},{\"attributes\":{\"editor\":{\"id\":\"1706\"},\"field\":\"amount\",\"formatter\":{\"id\":\"1705\"},\"title\":\"amount\",\"width\":0},\"id\":\"1707\",\"type\":\"TableColumn\"},{\"attributes\":{\"editor\":{\"id\":\"1696\"},\"field\":\"qty\",\"formatter\":{\"id\":\"1695\"},\"title\":\"qty\",\"width\":0},\"id\":\"1697\",\"type\":\"TableColumn\"},{\"attributes\":{},\"id\":\"1721\",\"type\":\"IntEditor\"},{\"attributes\":{\"client_comm_id\":\"dc8292aee15348de82bbc3be54f7a216\",\"comm_id\":\"3a353d75db714700b783eaa79c098bab\",\"plot_id\":\"1725\"},\"id\":\"1733\",\"type\":\"panel.models.comm_manager.CommManager\"},{\"attributes\":{},\"id\":\"1686\",\"type\":\"StringEditor\"},{\"attributes\":{},\"id\":\"1710\",\"type\":\"StringFormatter\"},{\"attributes\":{\"editor\":{\"id\":\"1721\"},\"field\":\"active\",\"formatter\":{\"id\":\"1720\"},\"title\":\"active\",\"width\":0},\"id\":\"1722\",\"type\":\"TableColumn\"},{\"attributes\":{},\"id\":\"1728\",\"type\":\"UnionRenderers\"},{\"attributes\":{\"editor\":{\"id\":\"1686\"},\"field\":\"trade\",\"formatter\":{\"id\":\"1685\"},\"title\":\"trade\",\"width\":0},\"id\":\"1687\",\"type\":\"TableColumn\"},{\"attributes\":{},\"id\":\"1711\",\"type\":\"StringEditor\"},{\"attributes\":{\"format\":\"0,0.0[00000]\"},\"id\":\"1700\",\"type\":\"NumberFormatter\"},{\"attributes\":{\"editor\":{\"id\":\"1711\"},\"field\":\"reason\",\"formatter\":{\"id\":\"1710\"},\"title\":\"reason\",\"width\":0},\"id\":\"1712\",\"type\":\"TableColumn\"},{\"attributes\":{\"editor\":{\"id\":\"1681\"},\"field\":\"index\",\"formatter\":{\"id\":\"1679\"},\"title\":\"index\",\"width\":0},\"id\":\"1682\",\"type\":\"TableColumn\"},{\"attributes\":{},\"id\":\"1701\",\"type\":\"NumberEditor\"},{\"attributes\":{},\"id\":\"1690\",\"type\":\"StringFormatter\"},{\"attributes\":{\"columns\":[{\"id\":\"1682\"},{\"id\":\"1687\"},{\"id\":\"1692\"},{\"id\":\"1697\"},{\"id\":\"1702\"},{\"id\":\"1707\"},{\"id\":\"1712\"},{\"id\":\"1717\"},{\"id\":\"1722\"}],\"configuration\":{\"columns\":[{\"field\":\"index\"},{\"field\":\"trade\"},{\"field\":\"name\"},{\"field\":\"qty\"},{\"field\":\"price\"},{\"field\":\"amount\"},{\"field\":\"reason\"},{\"field\":\"market\"},{\"field\":\"active\"}],\"dataTree\":false,\"selectable\":true},\"height\":660,\"indexes\":[\"index\"],\"margin\":[5,10,5,10],\"name\":\"\",\"page\":1,\"page_size\":20,\"selectable_rows\":null,\"source\":{\"id\":\"1677\"},\"width\":800},\"id\":\"1725\",\"type\":\"panel.models.tabulator.DataTabulator\"},{\"attributes\":{},\"id\":\"1691\",\"type\":\"StringEditor\"},{\"attributes\":{},\"id\":\"1715\",\"type\":\"StringFormatter\"},{\"attributes\":{\"editor\":{\"id\":\"1701\"},\"field\":\"price\",\"formatter\":{\"id\":\"1700\"},\"title\":\"price\",\"width\":0},\"id\":\"1702\",\"type\":\"TableColumn\"},{\"attributes\":{\"editor\":{\"id\":\"1691\"},\"field\":\"name\",\"formatter\":{\"id\":\"1690\"},\"title\":\"name\",\"width\":0},\"id\":\"1692\",\"type\":\"TableColumn\"},{\"attributes\":{},\"id\":\"1716\",\"type\":\"StringEditor\"},{\"attributes\":{\"format\":\"0,0.0[00000]\"},\"id\":\"1705\",\"type\":\"NumberFormatter\"},{\"attributes\":{\"data\":{\"active\":[2,0,0,1,1,0,1,1,0,0,0,1,1,1,2,1,1,1,0,0,0],\"amount\":{\"__ndarray__\":\"AAAAAABk+UAAAAAAIGUBQQAAAAAAs/BA/////x/+/UAAAAAAwLv6QAAAAACgT/9AAAAAAICQ/EAAAAAAAMP+QAAAAAAAF/FAAAAAAICiCUEAAAAAQBIHQQAAAACAM+9AAAAAAABe+kAAAAAAAMP+QAAAAAAATP1AAAAAAAAG2EAAAAAAAEz9QAAAAAAQr/NAAAAAAOCM6kAAAAAAIJrtQAAAAABAJARB\",\"dtype\":\"float64\",\"order\":\"little\",\"shape\":[21]},\"index\":[0,1,2,3,4,5,6,7,8,9,10,11,12,13,14,15,16,17,18,19,20],\"market\":[\"SET\",\"SET50\",\"SET50\",\"SET\",\"SET50\",\"SET50\",\"SET\",\"SET\",\"SET50\",\"SET100\",\"SET50\",\"SET\",\"SET\",\"SET50\",\"SET\",\"SET100\",\"SET50\",\"SET100\",\"SET\",\"SET\",\"SET50\"],\"name\":[\"BGC\",\"GLOBAL\",\"KCE\",\"NOBLE\",\"PTT\",\"RATCH\",\"ROJNA\",\"SIS\",\"STA\",\"TCAP\",\"TISCO\",\"TSTH\",\"TVO\",\"BGRIM\",\"DCC\",\"EPG\",\"KBANK\",\"RCL\",\"RJH\",\"SAT\",\"TOP\"],\"price\":{\"__ndarray__\":\"zczMzMzMJEAAAAAAAAAzQAAAAAAAYFVAZmZmZmZmF0AAAAAAAEBCQAAAAAAAYEVAAAAAAAAAGkAAAAAAAABFQAAAAAAAADxAAAAAAACAQUAAAAAAAKBXQLgehetRuPY/AAAAAAAAPkAAAAAAAABFQAAAAAAAAAhAmpmZmZmZKEAAAAAAAMBiQAAAAAAA4EpAAAAAAAAgQkAAAAAAAEA4QAAAAAAAgEtA\",\"dtype\":\"float64\",\"order\":\"little\",\"shape\":[21]},\"qty\":[10000,7500,800,21000,3000,3000,18000,3000,2500,6000,2000,45000,3600,3000,40000,2000,800,1500,1500,2500,3000],\"reason\":[\"DOS\",\"RD05%\",\"RD02%\",\"RD15%\",\"RD05%\",\"RD05%\",\"6L\",\"DFM10%\",\"RD15%\",\"1L\",\"CP1S\",\"5%\",\"DOS\",\"5%\",\"3%\",\"25%\",\"10%\",\"25%\",\"10%\",\"15%\",\"10%\"],\"trade\":[\"B\",\"B\",\"B\",\"B\",\"B\",\"B\",\"B\",\"B\",\"B\",\"B\",\"B\",\"B\",\"B\",\"S\",\"S\",\"S\",\"S\",\"S\",\"S\",\"S\",\"S\"]},\"selected\":{\"id\":\"1678\"},\"selection_policy\":{\"id\":\"1728\"}},\"id\":\"1677\",\"type\":\"ColumnDataSource\"},{\"attributes\":{\"editor\":{\"id\":\"1716\"},\"field\":\"market\",\"formatter\":{\"id\":\"1715\"},\"title\":\"market\",\"width\":0},\"id\":\"1717\",\"type\":\"TableColumn\"},{\"attributes\":{\"indices\":[]},\"id\":\"1678\",\"type\":\"Selection\"},{\"attributes\":{},\"id\":\"1706\",\"type\":\"NumberEditor\"},{\"attributes\":{},\"id\":\"1679\",\"type\":\"NumberFormatter\"}],\"root_ids\":[\"1725\",\"1733\"]},\"title\":\"Bokeh Application\",\"version\":\"2.3.3\"}};\n",
       "    var render_items = [{\"docid\":\"99b302bc-859f-466d-8ea3-670cdbf7456d\",\"root_ids\":[\"1725\"],\"roots\":{\"1725\":\"f463f7b0-dc9d-45ee-bb76-c0c4f8f053c5\"}}];\n",
       "    root.Bokeh.embed.embed_items_notebook(docs_json, render_items);\n",
       "  }\n",
       "  if (root.Bokeh !== undefined && root.Bokeh.Panel !== undefined && ( root['Tabulator'] !== undefined)) {\n",
       "    embed_document(root);\n",
       "  } else {\n",
       "    var attempts = 0;\n",
       "    var timer = setInterval(function(root) {\n",
       "      if (root.Bokeh !== undefined && root.Bokeh.Panel !== undefined && (root['Tabulator'] !== undefined)) {\n",
       "        clearInterval(timer);\n",
       "        embed_document(root);\n",
       "      } else if (document.readyState == \"complete\") {\n",
       "        attempts++;\n",
       "        if (attempts > 200) {\n",
       "          clearInterval(timer);\n",
       "          console.log(\"Bokeh: ERROR: Unable to run BokehJS code because BokehJS library is missing\");\n",
       "        }\n",
       "      }\n",
       "    }, 25, root)\n",
       "  }\n",
       "})(window);</script>"
      ],
      "text/plain": [
       "Tabulator(layout='fit_data', value=   trade    name  ..., width=800)"
      ]
     },
     "execution_count": 67,
     "metadata": {
      "application/vnd.holoviews_exec.v0+json": {
       "id": "1725"
      }
     },
     "output_type": "execute_result"
    }
   ],
   "source": [
    "sql = '''\n",
    "SELECT trade, name, qty, price, qty * price AS amount, reason, market, active\n",
    "FROM orders\n",
    "ORDER BY trade, name'''\n",
    "orders = pd.read_sql(sql, conlite)\n",
    "df_tab = pn.widgets.Tabulator(orders, layout='fit_data', width=800)\n",
    "df_tab"
   ]
  },
  {
   "cell_type": "code",
   "execution_count": 68,
   "metadata": {
    "scrolled": true
   },
   "outputs": [],
   "source": [
    "file_name = 'orders.csv'\n",
    "data_file = data_path + file_name\n",
    "output_file = csv_path + file_name\n",
    "box_file = box_path + file_name\n",
    "\n",
    "orders[cols].to_csv(output_file, header=True, index=False)\n",
    "orders[cols].to_csv(data_file, header=True, index=False)\n",
    "orders[cols].to_csv(box_file, header=True, index=False)"
   ]
  },
  {
   "cell_type": "markdown",
   "metadata": {},
   "source": [
    "### End of transactional process"
   ]
  },
  {
   "cell_type": "code",
   "execution_count": 69,
   "metadata": {
    "scrolled": false
   },
   "outputs": [
    {
     "data": {
      "text/html": [
       "<style type=\"text/css\">\n",
       "</style>\n",
       "<table id=\"T_2b38a_\">\n",
       "  <thead>\n",
       "    <tr>\n",
       "      <th class=\"blank level0\" >&nbsp;</th>\n",
       "      <th class=\"col_heading level0 col0\" >trade</th>\n",
       "      <th class=\"col_heading level0 col1\" >name</th>\n",
       "      <th class=\"col_heading level0 col2\" >qty</th>\n",
       "      <th class=\"col_heading level0 col3\" >price</th>\n",
       "      <th class=\"col_heading level0 col4\" >amount</th>\n",
       "      <th class=\"col_heading level0 col5\" >reason</th>\n",
       "      <th class=\"col_heading level0 col6\" >market</th>\n",
       "      <th class=\"col_heading level0 col7\" >active</th>\n",
       "    </tr>\n",
       "  </thead>\n",
       "  <tbody>\n",
       "    <tr>\n",
       "      <th id=\"T_2b38a_level0_row0\" class=\"row_heading level0 row0\" >0</th>\n",
       "      <td id=\"T_2b38a_row0_col0\" class=\"data row0 col0\" >B</td>\n",
       "      <td id=\"T_2b38a_row0_col1\" class=\"data row0 col1\" >BGC</td>\n",
       "      <td id=\"T_2b38a_row0_col2\" class=\"data row0 col2\" >10,000</td>\n",
       "      <td id=\"T_2b38a_row0_col3\" class=\"data row0 col3\" >10.40</td>\n",
       "      <td id=\"T_2b38a_row0_col4\" class=\"data row0 col4\" >104,000.00</td>\n",
       "      <td id=\"T_2b38a_row0_col5\" class=\"data row0 col5\" >DOS</td>\n",
       "      <td id=\"T_2b38a_row0_col6\" class=\"data row0 col6\" >SET</td>\n",
       "      <td id=\"T_2b38a_row0_col7\" class=\"data row0 col7\" >2</td>\n",
       "    </tr>\n",
       "    <tr>\n",
       "      <th id=\"T_2b38a_level0_row1\" class=\"row_heading level0 row1\" >1</th>\n",
       "      <td id=\"T_2b38a_row1_col0\" class=\"data row1 col0\" >S</td>\n",
       "      <td id=\"T_2b38a_row1_col1\" class=\"data row1 col1\" >DCC</td>\n",
       "      <td id=\"T_2b38a_row1_col2\" class=\"data row1 col2\" >40,000</td>\n",
       "      <td id=\"T_2b38a_row1_col3\" class=\"data row1 col3\" >3.00</td>\n",
       "      <td id=\"T_2b38a_row1_col4\" class=\"data row1 col4\" >120,000.00</td>\n",
       "      <td id=\"T_2b38a_row1_col5\" class=\"data row1 col5\" >3%</td>\n",
       "      <td id=\"T_2b38a_row1_col6\" class=\"data row1 col6\" >SET</td>\n",
       "      <td id=\"T_2b38a_row1_col7\" class=\"data row1 col7\" >2</td>\n",
       "    </tr>\n",
       "  </tbody>\n",
       "</table>\n"
      ],
      "text/plain": [
       "<pandas.io.formats.style.Styler at 0x23d80e98460>"
      ]
     },
     "execution_count": 69,
     "metadata": {},
     "output_type": "execute_result"
    }
   ],
   "source": [
    "sql = '''\n",
    "SELECT trade, name, qty, price, qty * price AS amount, reason, market, active\n",
    "FROM orders\n",
    "WHERE active = 2\n",
    "ORDER BY trade, name'''\n",
    "df_act_2 = pd.read_sql(sql, conlite)\n",
    "df_act_2.style.format(format_dict)"
   ]
  },
  {
   "cell_type": "code",
   "execution_count": 70,
   "metadata": {
    "scrolled": true
   },
   "outputs": [
    {
     "data": {
      "text/plain": [
       "trade\n",
       "B    104000.0\n",
       "S    120000.0\n",
       "Name: amount, dtype: float64"
      ]
     },
     "execution_count": 70,
     "metadata": {},
     "output_type": "execute_result"
    }
   ],
   "source": [
    "orders_grp = df_act_2.groupby(['trade'])\n",
    "orders_grp['amount'].sum()"
   ]
  },
  {
   "cell_type": "code",
   "execution_count": 71,
   "metadata": {
    "scrolled": true
   },
   "outputs": [
    {
     "data": {
      "text/html": [
       "<style type=\"text/css\">\n",
       "</style>\n",
       "<table id=\"T_320f2_\">\n",
       "  <thead>\n",
       "    <tr>\n",
       "      <th class=\"blank level0\" >&nbsp;</th>\n",
       "      <th class=\"col_heading level0 col0\" >trade</th>\n",
       "      <th class=\"col_heading level0 col1\" >name</th>\n",
       "      <th class=\"col_heading level0 col2\" >qty</th>\n",
       "      <th class=\"col_heading level0 col3\" >price</th>\n",
       "      <th class=\"col_heading level0 col4\" >amount</th>\n",
       "      <th class=\"col_heading level0 col5\" >reason</th>\n",
       "      <th class=\"col_heading level0 col6\" >market</th>\n",
       "      <th class=\"col_heading level0 col7\" >active</th>\n",
       "    </tr>\n",
       "  </thead>\n",
       "  <tbody>\n",
       "    <tr>\n",
       "      <th id=\"T_320f2_level0_row0\" class=\"row_heading level0 row0\" >0</th>\n",
       "      <td id=\"T_320f2_row0_col0\" class=\"data row0 col0\" >B</td>\n",
       "      <td id=\"T_320f2_row0_col1\" class=\"data row0 col1\" >BGC</td>\n",
       "      <td id=\"T_320f2_row0_col2\" class=\"data row0 col2\" >10,000</td>\n",
       "      <td id=\"T_320f2_row0_col3\" class=\"data row0 col3\" >10.40</td>\n",
       "      <td id=\"T_320f2_row0_col4\" class=\"data row0 col4\" >104,000.00</td>\n",
       "      <td id=\"T_320f2_row0_col5\" class=\"data row0 col5\" >DOS</td>\n",
       "      <td id=\"T_320f2_row0_col6\" class=\"data row0 col6\" >SET</td>\n",
       "      <td id=\"T_320f2_row0_col7\" class=\"data row0 col7\" >2</td>\n",
       "    </tr>\n",
       "  </tbody>\n",
       "</table>\n"
      ],
      "text/plain": [
       "<pandas.io.formats.style.Styler at 0x23d80e10160>"
      ]
     },
     "execution_count": 71,
     "metadata": {},
     "output_type": "execute_result"
    }
   ],
   "source": [
    "mask = df_act_2.trade == 'B'\n",
    "buy_stocks = df_act_2[mask]\n",
    "buy_stocks.style.format(format_dict)"
   ]
  },
  {
   "cell_type": "code",
   "execution_count": 72,
   "metadata": {},
   "outputs": [
    {
     "data": {
      "text/plain": [
       "(809000, 104000.0, 705000.0)"
      ]
     },
     "execution_count": 72,
     "metadata": {},
     "output_type": "execute_result"
    }
   ],
   "source": [
    "buy_amt = buy_stocks.amount.sum()\n",
    "balance = cash - buy_amt \n",
    "cash, buy_amt, balance"
   ]
  },
  {
   "cell_type": "code",
   "execution_count": 73,
   "metadata": {
    "scrolled": false
   },
   "outputs": [
    {
     "data": {
      "text/html": [
       "<style type=\"text/css\">\n",
       "</style>\n",
       "<table id=\"T_76256_\">\n",
       "  <thead>\n",
       "    <tr>\n",
       "      <th class=\"blank level0\" >&nbsp;</th>\n",
       "      <th class=\"col_heading level0 col0\" >trade</th>\n",
       "      <th class=\"col_heading level0 col1\" >name</th>\n",
       "      <th class=\"col_heading level0 col2\" >qty</th>\n",
       "      <th class=\"col_heading level0 col3\" >price</th>\n",
       "      <th class=\"col_heading level0 col4\" >amount</th>\n",
       "      <th class=\"col_heading level0 col5\" >reason</th>\n",
       "      <th class=\"col_heading level0 col6\" >market</th>\n",
       "      <th class=\"col_heading level0 col7\" >active</th>\n",
       "    </tr>\n",
       "  </thead>\n",
       "  <tbody>\n",
       "    <tr>\n",
       "      <th id=\"T_76256_level0_row0\" class=\"row_heading level0 row0\" >1</th>\n",
       "      <td id=\"T_76256_row0_col0\" class=\"data row0 col0\" >S</td>\n",
       "      <td id=\"T_76256_row0_col1\" class=\"data row0 col1\" >DCC</td>\n",
       "      <td id=\"T_76256_row0_col2\" class=\"data row0 col2\" >40,000</td>\n",
       "      <td id=\"T_76256_row0_col3\" class=\"data row0 col3\" >3.00</td>\n",
       "      <td id=\"T_76256_row0_col4\" class=\"data row0 col4\" >120,000.00</td>\n",
       "      <td id=\"T_76256_row0_col5\" class=\"data row0 col5\" >3%</td>\n",
       "      <td id=\"T_76256_row0_col6\" class=\"data row0 col6\" >SET</td>\n",
       "      <td id=\"T_76256_row0_col7\" class=\"data row0 col7\" >2</td>\n",
       "    </tr>\n",
       "  </tbody>\n",
       "</table>\n"
      ],
      "text/plain": [
       "<pandas.io.formats.style.Styler at 0x23d80e10940>"
      ]
     },
     "execution_count": 73,
     "metadata": {},
     "output_type": "execute_result"
    }
   ],
   "source": [
    "mask = df_act_2.trade == 'S'\n",
    "sell_stocks = df_act_2[mask]\n",
    "sell_stocks.style.format(format_dict)"
   ]
  },
  {
   "cell_type": "code",
   "execution_count": 74,
   "metadata": {},
   "outputs": [
    {
     "data": {
      "text/plain": [
       "(809000, 120000.0, 929000.0)"
      ]
     },
     "execution_count": 74,
     "metadata": {},
     "output_type": "execute_result"
    }
   ],
   "source": [
    "sell_amt = round(sell_stocks.amount.sum(),2)\n",
    "balance = cash + sell_amt \n",
    "(cash, sell_amt, balance)"
   ]
  },
  {
   "cell_type": "markdown",
   "metadata": {},
   "source": [
    "### After call ord-log"
   ]
  },
  {
   "cell_type": "code",
   "execution_count": 75,
   "metadata": {},
   "outputs": [],
   "source": [
    "def categorise(row):  \n",
    "    if row['trade'] == 'B':\n",
    "        return 'Buy'\n",
    "    else:\n",
    "        return 'Sell'"
   ]
  },
  {
   "cell_type": "code",
   "execution_count": 76,
   "metadata": {},
   "outputs": [],
   "source": [
    "df = pd.read_csv('../data/orders-log.csv')\n",
    "df['trans'] = df.apply(lambda row: categorise(row), axis=1)\n",
    "df['amount'] = df.qty * df.target"
   ]
  },
  {
   "cell_type": "code",
   "execution_count": 77,
   "metadata": {
    "scrolled": true
   },
   "outputs": [
    {
     "data": {
      "text/html": [
       "<div><table id=\"76781cd8-db87-4a1d-997e-3b3bb3946d4e\" class=\"display\"><thead>\n",
       "    <tr style=\"text-align: right;\">\n",
       "      \n",
       "      <th>trans</th>\n",
       "      <th>name</th>\n",
       "      <th>spd</th>\n",
       "      <th>reason</th>\n",
       "      <th>qty</th>\n",
       "      <th>target</th>\n",
       "      <th>amount</th>\n",
       "      <th>current</th>\n",
       "      <th>active</th>\n",
       "    </tr>\n",
       "  </thead></table>\n",
       "<script type=\"text/javascript\">\n",
       "require([\"datatables\"], function (datatables) {\n",
       "    $(document).ready(function () {\n",
       "        var dt_args = {\"columnDefs\": [{\"width\": \"70px\", \"targets\": \"_all\"}], \"data\": [[\"Buy\", \"BGC\", -2, \"DOS\", 10000, 10.4, 104000.0, 10.6, 2], [\"Buy\", \"GLOBAL\", -11, \"RD05%\", 7500, 19.0, 142500.0, 20.1, 0], [\"Buy\", \"KCE\", -12, \"RD02%\", 800, 85.5, 68400.0, 88.5, 0], [\"Buy\", \"NOBLE\", -8, \"RD15%\", 21000, 5.85, 122850.0, 6.25, 1], [\"Buy\", \"PTT\", -10, \"RD05%\", 3000, 36.5, 109500.0, 39.0, 1], [\"Buy\", \"RATCH\", -10, \"RD05%\", 3000, 42.75, 128250.0, 45.25, 0], [\"Buy\", \"ROJNA\", -5, \"6L\", 18000, 6.5, 117000.0, 6.75, 1], [\"Buy\", \"SIS\", -14, \"DFM10%\", 3000, 42.0, 126000.0, 45.5, 1], [\"Buy\", \"STA\", -10, \"RD15%\", 2500, 28.0, 70000.0, 30.5, 0], [\"Buy\", \"TCAP\", -17, \"1L\", 6000, 35.0, 210000.0, 39.25, 0], [\"Buy\", \"TISCO\", -17, \"CP1S\", 2000, 94.5, 189000.0, 98.75, 0], [\"Buy\", \"TSTH\", -7, \"5%\", 45000, 1.42, 63900.0, 1.49, 1], [\"Buy\", \"TVO\", -4, \"DOS\", 3600, 30.0, 108000.0, 31.0, 1], [\"Sell\", \"BGRIM\", 7, \"5%\", 3000, 42.0, 126000.0, 40.25, 1], [\"Sell\", \"DCC\", 2, \"3%\", 40000, 3.0, 120000.0, 2.96, 2], [\"Sell\", \"EPG\", 1, \"25%\", 2000, 12.3, 24600.0, 12.2, 1], [\"Sell\", \"KBANK\", 8, \"10%\", 800, 150.0, 120000.0, 146.0, 1], [\"Sell\", \"RCL\", 11, \"25%\", 1500, 53.75, 80625.0, 51.0, 1], [\"Sell\", \"RJH\", 13, \"10%\", 1500, 36.25, 54375.0, 33.0, 0], [\"Sell\", \"SAT\", 11, \"15%\", 2500, 24.25, 60625.0, 23.2, 0], [\"Sell\", \"TOP\", 12, \"10%\", 3000, 55.0, 165000.0, 52.0, 0]]};\n",
       "        dt_args = eval_functions(dt_args);\n",
       "        table = $('#76781cd8-db87-4a1d-997e-3b3bb3946d4e').DataTable(dt_args);\n",
       "    });\n",
       "})\n",
       "</script>\n",
       "</div>\n"
      ],
      "text/plain": [
       "<IPython.core.display.HTML object>"
      ]
     },
     "metadata": {},
     "output_type": "display_data"
    }
   ],
   "source": [
    "show(df[['trans','name','spd','reason','qty','target','amount','current','active']])"
   ]
  },
  {
   "cell_type": "code",
   "execution_count": 78,
   "metadata": {
    "scrolled": false
   },
   "outputs": [
    {
     "data": {
      "text/html": [
       "<style type=\"text/css\">\n",
       "</style>\n",
       "<table id=\"T_0360b_\">\n",
       "  <thead>\n",
       "    <tr>\n",
       "      <th class=\"blank level0\" >&nbsp;</th>\n",
       "      <th class=\"col_heading level0 col0\" >trade</th>\n",
       "      <th class=\"col_heading level0 col1\" >name</th>\n",
       "      <th class=\"col_heading level0 col2\" >spd</th>\n",
       "      <th class=\"col_heading level0 col3\" >reason</th>\n",
       "      <th class=\"col_heading level0 col4\" >market</th>\n",
       "      <th class=\"col_heading level0 col5\" >qty</th>\n",
       "      <th class=\"col_heading level0 col6\" >target</th>\n",
       "      <th class=\"col_heading level0 col7\" >current</th>\n",
       "      <th class=\"col_heading level0 col8\" >change</th>\n",
       "      <th class=\"col_heading level0 col9\" >percent</th>\n",
       "      <th class=\"col_heading level0 col10\" >active</th>\n",
       "      <th class=\"col_heading level0 col11\" >trans</th>\n",
       "      <th class=\"col_heading level0 col12\" >amount</th>\n",
       "    </tr>\n",
       "  </thead>\n",
       "  <tbody>\n",
       "    <tr>\n",
       "      <th id=\"T_0360b_level0_row0\" class=\"row_heading level0 row0\" >0</th>\n",
       "      <td id=\"T_0360b_row0_col0\" class=\"data row0 col0\" >B</td>\n",
       "      <td id=\"T_0360b_row0_col1\" class=\"data row0 col1\" >BGC</td>\n",
       "      <td id=\"T_0360b_row0_col2\" class=\"data row0 col2\" >-2</td>\n",
       "      <td id=\"T_0360b_row0_col3\" class=\"data row0 col3\" >DOS</td>\n",
       "      <td id=\"T_0360b_row0_col4\" class=\"data row0 col4\" >SET</td>\n",
       "      <td id=\"T_0360b_row0_col5\" class=\"data row0 col5\" >10,000</td>\n",
       "      <td id=\"T_0360b_row0_col6\" class=\"data row0 col6\" >10.40</td>\n",
       "      <td id=\"T_0360b_row0_col7\" class=\"data row0 col7\" >10.60</td>\n",
       "      <td id=\"T_0360b_row0_col8\" class=\"data row0 col8\" >-0.10</td>\n",
       "      <td id=\"T_0360b_row0_col9\" class=\"data row0 col9\" >-0.93%</td>\n",
       "      <td id=\"T_0360b_row0_col10\" class=\"data row0 col10\" >2</td>\n",
       "      <td id=\"T_0360b_row0_col11\" class=\"data row0 col11\" >Buy</td>\n",
       "      <td id=\"T_0360b_row0_col12\" class=\"data row0 col12\" >104,000.00</td>\n",
       "    </tr>\n",
       "    <tr>\n",
       "      <th id=\"T_0360b_level0_row1\" class=\"row_heading level0 row1\" >6</th>\n",
       "      <td id=\"T_0360b_row1_col0\" class=\"data row1 col0\" >B</td>\n",
       "      <td id=\"T_0360b_row1_col1\" class=\"data row1 col1\" >ROJNA</td>\n",
       "      <td id=\"T_0360b_row1_col2\" class=\"data row1 col2\" >-5</td>\n",
       "      <td id=\"T_0360b_row1_col3\" class=\"data row1 col3\" >6L</td>\n",
       "      <td id=\"T_0360b_row1_col4\" class=\"data row1 col4\" >SET</td>\n",
       "      <td id=\"T_0360b_row1_col5\" class=\"data row1 col5\" >18,000</td>\n",
       "      <td id=\"T_0360b_row1_col6\" class=\"data row1 col6\" >6.50</td>\n",
       "      <td id=\"T_0360b_row1_col7\" class=\"data row1 col7\" >6.75</td>\n",
       "      <td id=\"T_0360b_row1_col8\" class=\"data row1 col8\" >0.05</td>\n",
       "      <td id=\"T_0360b_row1_col9\" class=\"data row1 col9\" >+0.75%</td>\n",
       "      <td id=\"T_0360b_row1_col10\" class=\"data row1 col10\" >1</td>\n",
       "      <td id=\"T_0360b_row1_col11\" class=\"data row1 col11\" >Buy</td>\n",
       "      <td id=\"T_0360b_row1_col12\" class=\"data row1 col12\" >117,000.00</td>\n",
       "    </tr>\n",
       "    <tr>\n",
       "      <th id=\"T_0360b_level0_row2\" class=\"row_heading level0 row2\" >12</th>\n",
       "      <td id=\"T_0360b_row2_col0\" class=\"data row2 col0\" >B</td>\n",
       "      <td id=\"T_0360b_row2_col1\" class=\"data row2 col1\" >TVO</td>\n",
       "      <td id=\"T_0360b_row2_col2\" class=\"data row2 col2\" >-4</td>\n",
       "      <td id=\"T_0360b_row2_col3\" class=\"data row2 col3\" >DOS</td>\n",
       "      <td id=\"T_0360b_row2_col4\" class=\"data row2 col4\" >SET</td>\n",
       "      <td id=\"T_0360b_row2_col5\" class=\"data row2 col5\" >3,600</td>\n",
       "      <td id=\"T_0360b_row2_col6\" class=\"data row2 col6\" >30.00</td>\n",
       "      <td id=\"T_0360b_row2_col7\" class=\"data row2 col7\" >31.00</td>\n",
       "      <td id=\"T_0360b_row2_col8\" class=\"data row2 col8\" >0.00</td>\n",
       "      <td id=\"T_0360b_row2_col9\" class=\"data row2 col9\" >0.00%</td>\n",
       "      <td id=\"T_0360b_row2_col10\" class=\"data row2 col10\" >1</td>\n",
       "      <td id=\"T_0360b_row2_col11\" class=\"data row2 col11\" >Buy</td>\n",
       "      <td id=\"T_0360b_row2_col12\" class=\"data row2 col12\" >108,000.00</td>\n",
       "    </tr>\n",
       "  </tbody>\n",
       "</table>\n"
      ],
      "text/plain": [
       "<pandas.io.formats.style.Styler at 0x23d80d3dc70>"
      ]
     },
     "execution_count": 78,
     "metadata": {},
     "output_type": "execute_result"
    }
   ],
   "source": [
    "mb = (df.trans == 'Buy') & (df.spd >= -5)\n",
    "df[mb].sort_values(['name'],ascending=[True]).style.format(format_dict)"
   ]
  },
  {
   "cell_type": "code",
   "execution_count": 79,
   "metadata": {
    "scrolled": true
   },
   "outputs": [
    {
     "data": {
      "text/html": [
       "<div><table id=\"3b7929b2-0159-4546-bf08-61811a463a6a\" class=\"display\"><thead>\n",
       "    <tr style=\"text-align: right;\">\n",
       "      \n",
       "      <th>trans</th>\n",
       "      <th>name</th>\n",
       "      <th>spd</th>\n",
       "      <th>reason</th>\n",
       "      <th>qty</th>\n",
       "      <th>target</th>\n",
       "      <th>current</th>\n",
       "      <th>percent</th>\n",
       "      <th>active</th>\n",
       "    </tr>\n",
       "  </thead></table>\n",
       "<script type=\"text/javascript\">\n",
       "require([\"datatables\"], function (datatables) {\n",
       "    $(document).ready(function () {\n",
       "        var dt_args = {\"columnDefs\": [{\"width\": \"70px\", \"targets\": \"_all\"}], \"data\": [[\"Buy\", \"BGC\", -2, \"DOS\", 10000, 10.4, 10.6, \"-0.93%\", 2], [\"Buy\", \"GLOBAL\", -11, \"RD05%\", 7500, 19.0, 20.1, \"0.00%\", 0], [\"Buy\", \"KCE\", -12, \"RD02%\", 800, 85.5, 88.5, \"0.00%\", 0], [\"Buy\", \"NOBLE\", -8, \"RD15%\", 21000, 5.85, 6.25, \"0.00%\", 1], [\"Buy\", \"PTT\", -10, \"RD05%\", 3000, 36.5, 39.0, \"+2.63%\", 1], [\"Buy\", \"RATCH\", -10, \"RD05%\", 3000, 42.75, 45.25, \"0.00%\", 0], [\"Buy\", \"ROJNA\", -5, \"6L\", 18000, 6.5, 6.75, \"+0.75%\", 1], [\"Buy\", \"SIS\", -14, \"DFM10%\", 3000, 42.0, 45.5, \"-4.71%\", 1], [\"Buy\", \"STA\", -10, \"RD15%\", 2500, 28.0, 30.5, \"+1.67%\", 0], [\"Buy\", \"TCAP\", -17, \"1L\", 6000, 35.0, 39.25, \"+1.95%\", 0], [\"Buy\", \"TISCO\", -17, \"CP1S\", 2000, 94.5, 98.75, \"+0.25%\", 0], [\"Buy\", \"TSTH\", -7, \"5%\", 45000, 1.42, 1.49, \"+1.36%\", 1], [\"Buy\", \"TVO\", -4, \"DOS\", 3600, 30.0, 31.0, \"0.00%\", 1], [\"Sell\", \"BGRIM\", 7, \"5%\", 3000, 42.0, 40.25, \"-0.62%\", 1], [\"Sell\", \"DCC\", 2, \"3%\", 40000, 3.0, 2.96, \"0.00%\", 2], [\"Sell\", \"EPG\", 1, \"25%\", 2000, 12.3, 12.2, \"+2.52%\", 1], [\"Sell\", \"KBANK\", 8, \"10%\", 800, 150.0, 146.0, \"+0.34%\", 1], [\"Sell\", \"RCL\", 11, \"25%\", 1500, 53.75, 51.0, \"+2.00%\", 1], [\"Sell\", \"RJH\", 13, \"10%\", 1500, 36.25, 33.0, \"-2.22%\", 0], [\"Sell\", \"SAT\", 11, \"15%\", 2500, 24.25, 23.2, \"+0.43%\", 0], [\"Sell\", \"TOP\", 12, \"10%\", 3000, 55.0, 52.0, \"+4.00%\", 0]]};\n",
       "        dt_args = eval_functions(dt_args);\n",
       "        table = $('#3b7929b2-0159-4546-bf08-61811a463a6a').DataTable(dt_args);\n",
       "    });\n",
       "})\n",
       "</script>\n",
       "</div>\n"
      ],
      "text/plain": [
       "<IPython.core.display.HTML object>"
      ]
     },
     "metadata": {},
     "output_type": "display_data"
    }
   ],
   "source": [
    "show(df[['trans','name','spd','reason','qty','target','current','percent','active']])"
   ]
  },
  {
   "cell_type": "code",
   "execution_count": 80,
   "metadata": {},
   "outputs": [
    {
     "data": {
      "text/html": [
       "<style type=\"text/css\">\n",
       "</style>\n",
       "<table id=\"T_e103a_\">\n",
       "  <thead>\n",
       "    <tr>\n",
       "      <th class=\"blank level0\" >&nbsp;</th>\n",
       "      <th class=\"col_heading level0 col0\" >trade</th>\n",
       "      <th class=\"col_heading level0 col1\" >name</th>\n",
       "      <th class=\"col_heading level0 col2\" >spd</th>\n",
       "      <th class=\"col_heading level0 col3\" >reason</th>\n",
       "      <th class=\"col_heading level0 col4\" >market</th>\n",
       "      <th class=\"col_heading level0 col5\" >qty</th>\n",
       "      <th class=\"col_heading level0 col6\" >target</th>\n",
       "      <th class=\"col_heading level0 col7\" >current</th>\n",
       "      <th class=\"col_heading level0 col8\" >change</th>\n",
       "      <th class=\"col_heading level0 col9\" >percent</th>\n",
       "      <th class=\"col_heading level0 col10\" >active</th>\n",
       "      <th class=\"col_heading level0 col11\" >trans</th>\n",
       "      <th class=\"col_heading level0 col12\" >amount</th>\n",
       "    </tr>\n",
       "  </thead>\n",
       "  <tbody>\n",
       "    <tr>\n",
       "      <th id=\"T_e103a_level0_row0\" class=\"row_heading level0 row0\" >14</th>\n",
       "      <td id=\"T_e103a_row0_col0\" class=\"data row0 col0\" >S</td>\n",
       "      <td id=\"T_e103a_row0_col1\" class=\"data row0 col1\" >DCC</td>\n",
       "      <td id=\"T_e103a_row0_col2\" class=\"data row0 col2\" >2</td>\n",
       "      <td id=\"T_e103a_row0_col3\" class=\"data row0 col3\" >3%</td>\n",
       "      <td id=\"T_e103a_row0_col4\" class=\"data row0 col4\" >SET</td>\n",
       "      <td id=\"T_e103a_row0_col5\" class=\"data row0 col5\" >40,000</td>\n",
       "      <td id=\"T_e103a_row0_col6\" class=\"data row0 col6\" >3.00</td>\n",
       "      <td id=\"T_e103a_row0_col7\" class=\"data row0 col7\" >2.96</td>\n",
       "      <td id=\"T_e103a_row0_col8\" class=\"data row0 col8\" >0.00</td>\n",
       "      <td id=\"T_e103a_row0_col9\" class=\"data row0 col9\" >0.00%</td>\n",
       "      <td id=\"T_e103a_row0_col10\" class=\"data row0 col10\" >2</td>\n",
       "      <td id=\"T_e103a_row0_col11\" class=\"data row0 col11\" >Sell</td>\n",
       "      <td id=\"T_e103a_row0_col12\" class=\"data row0 col12\" >120,000.00</td>\n",
       "    </tr>\n",
       "    <tr>\n",
       "      <th id=\"T_e103a_level0_row1\" class=\"row_heading level0 row1\" >15</th>\n",
       "      <td id=\"T_e103a_row1_col0\" class=\"data row1 col0\" >S</td>\n",
       "      <td id=\"T_e103a_row1_col1\" class=\"data row1 col1\" >EPG</td>\n",
       "      <td id=\"T_e103a_row1_col2\" class=\"data row1 col2\" >1</td>\n",
       "      <td id=\"T_e103a_row1_col3\" class=\"data row1 col3\" >25%</td>\n",
       "      <td id=\"T_e103a_row1_col4\" class=\"data row1 col4\" >SET100</td>\n",
       "      <td id=\"T_e103a_row1_col5\" class=\"data row1 col5\" >2,000</td>\n",
       "      <td id=\"T_e103a_row1_col6\" class=\"data row1 col6\" >12.30</td>\n",
       "      <td id=\"T_e103a_row1_col7\" class=\"data row1 col7\" >12.20</td>\n",
       "      <td id=\"T_e103a_row1_col8\" class=\"data row1 col8\" >0.30</td>\n",
       "      <td id=\"T_e103a_row1_col9\" class=\"data row1 col9\" >+2.52%</td>\n",
       "      <td id=\"T_e103a_row1_col10\" class=\"data row1 col10\" >1</td>\n",
       "      <td id=\"T_e103a_row1_col11\" class=\"data row1 col11\" >Sell</td>\n",
       "      <td id=\"T_e103a_row1_col12\" class=\"data row1 col12\" >24,600.00</td>\n",
       "    </tr>\n",
       "  </tbody>\n",
       "</table>\n"
      ],
      "text/plain": [
       "<pandas.io.formats.style.Styler at 0x23d80d44220>"
      ]
     },
     "execution_count": 80,
     "metadata": {},
     "output_type": "execute_result"
    }
   ],
   "source": [
    "ms = (df.trans == 'Sell') & (df.spd <= 5)\n",
    "df[ms].sort_values(['name'],ascending=[True]).style.format(format_dict)"
   ]
  },
  {
   "cell_type": "code",
   "execution_count": 81,
   "metadata": {},
   "outputs": [
    {
     "data": {
      "text/html": [
       "<style type=\"text/css\">\n",
       "</style>\n",
       "<table id=\"T_91697_\">\n",
       "  <thead>\n",
       "    <tr>\n",
       "      <th class=\"blank level0\" >&nbsp;</th>\n",
       "      <th class=\"col_heading level0 col0\" >trade</th>\n",
       "      <th class=\"col_heading level0 col1\" >name</th>\n",
       "      <th class=\"col_heading level0 col2\" >spd</th>\n",
       "      <th class=\"col_heading level0 col3\" >reason</th>\n",
       "      <th class=\"col_heading level0 col4\" >market</th>\n",
       "      <th class=\"col_heading level0 col5\" >qty</th>\n",
       "      <th class=\"col_heading level0 col6\" >target</th>\n",
       "      <th class=\"col_heading level0 col7\" >current</th>\n",
       "      <th class=\"col_heading level0 col8\" >change</th>\n",
       "      <th class=\"col_heading level0 col9\" >percent</th>\n",
       "      <th class=\"col_heading level0 col10\" >active</th>\n",
       "      <th class=\"col_heading level0 col11\" >trans</th>\n",
       "      <th class=\"col_heading level0 col12\" >amount</th>\n",
       "    </tr>\n",
       "  </thead>\n",
       "  <tbody>\n",
       "    <tr>\n",
       "      <th id=\"T_91697_level0_row0\" class=\"row_heading level0 row0\" >0</th>\n",
       "      <td id=\"T_91697_row0_col0\" class=\"data row0 col0\" >B</td>\n",
       "      <td id=\"T_91697_row0_col1\" class=\"data row0 col1\" >BGC</td>\n",
       "      <td id=\"T_91697_row0_col2\" class=\"data row0 col2\" >-2</td>\n",
       "      <td id=\"T_91697_row0_col3\" class=\"data row0 col3\" >DOS</td>\n",
       "      <td id=\"T_91697_row0_col4\" class=\"data row0 col4\" >SET</td>\n",
       "      <td id=\"T_91697_row0_col5\" class=\"data row0 col5\" >10,000</td>\n",
       "      <td id=\"T_91697_row0_col6\" class=\"data row0 col6\" >10.40</td>\n",
       "      <td id=\"T_91697_row0_col7\" class=\"data row0 col7\" >10.60</td>\n",
       "      <td id=\"T_91697_row0_col8\" class=\"data row0 col8\" >-0.10</td>\n",
       "      <td id=\"T_91697_row0_col9\" class=\"data row0 col9\" >-0.93%</td>\n",
       "      <td id=\"T_91697_row0_col10\" class=\"data row0 col10\" >2</td>\n",
       "      <td id=\"T_91697_row0_col11\" class=\"data row0 col11\" >Buy</td>\n",
       "      <td id=\"T_91697_row0_col12\" class=\"data row0 col12\" >104,000.00</td>\n",
       "    </tr>\n",
       "    <tr>\n",
       "      <th id=\"T_91697_level0_row1\" class=\"row_heading level0 row1\" >6</th>\n",
       "      <td id=\"T_91697_row1_col0\" class=\"data row1 col0\" >B</td>\n",
       "      <td id=\"T_91697_row1_col1\" class=\"data row1 col1\" >ROJNA</td>\n",
       "      <td id=\"T_91697_row1_col2\" class=\"data row1 col2\" >-5</td>\n",
       "      <td id=\"T_91697_row1_col3\" class=\"data row1 col3\" >6L</td>\n",
       "      <td id=\"T_91697_row1_col4\" class=\"data row1 col4\" >SET</td>\n",
       "      <td id=\"T_91697_row1_col5\" class=\"data row1 col5\" >18,000</td>\n",
       "      <td id=\"T_91697_row1_col6\" class=\"data row1 col6\" >6.50</td>\n",
       "      <td id=\"T_91697_row1_col7\" class=\"data row1 col7\" >6.75</td>\n",
       "      <td id=\"T_91697_row1_col8\" class=\"data row1 col8\" >0.05</td>\n",
       "      <td id=\"T_91697_row1_col9\" class=\"data row1 col9\" >+0.75%</td>\n",
       "      <td id=\"T_91697_row1_col10\" class=\"data row1 col10\" >1</td>\n",
       "      <td id=\"T_91697_row1_col11\" class=\"data row1 col11\" >Buy</td>\n",
       "      <td id=\"T_91697_row1_col12\" class=\"data row1 col12\" >117,000.00</td>\n",
       "    </tr>\n",
       "    <tr>\n",
       "      <th id=\"T_91697_level0_row2\" class=\"row_heading level0 row2\" >12</th>\n",
       "      <td id=\"T_91697_row2_col0\" class=\"data row2 col0\" >B</td>\n",
       "      <td id=\"T_91697_row2_col1\" class=\"data row2 col1\" >TVO</td>\n",
       "      <td id=\"T_91697_row2_col2\" class=\"data row2 col2\" >-4</td>\n",
       "      <td id=\"T_91697_row2_col3\" class=\"data row2 col3\" >DOS</td>\n",
       "      <td id=\"T_91697_row2_col4\" class=\"data row2 col4\" >SET</td>\n",
       "      <td id=\"T_91697_row2_col5\" class=\"data row2 col5\" >3,600</td>\n",
       "      <td id=\"T_91697_row2_col6\" class=\"data row2 col6\" >30.00</td>\n",
       "      <td id=\"T_91697_row2_col7\" class=\"data row2 col7\" >31.00</td>\n",
       "      <td id=\"T_91697_row2_col8\" class=\"data row2 col8\" >0.00</td>\n",
       "      <td id=\"T_91697_row2_col9\" class=\"data row2 col9\" >0.00%</td>\n",
       "      <td id=\"T_91697_row2_col10\" class=\"data row2 col10\" >1</td>\n",
       "      <td id=\"T_91697_row2_col11\" class=\"data row2 col11\" >Buy</td>\n",
       "      <td id=\"T_91697_row2_col12\" class=\"data row2 col12\" >108,000.00</td>\n",
       "    </tr>\n",
       "    <tr>\n",
       "      <th id=\"T_91697_level0_row3\" class=\"row_heading level0 row3\" >14</th>\n",
       "      <td id=\"T_91697_row3_col0\" class=\"data row3 col0\" >S</td>\n",
       "      <td id=\"T_91697_row3_col1\" class=\"data row3 col1\" >DCC</td>\n",
       "      <td id=\"T_91697_row3_col2\" class=\"data row3 col2\" >2</td>\n",
       "      <td id=\"T_91697_row3_col3\" class=\"data row3 col3\" >3%</td>\n",
       "      <td id=\"T_91697_row3_col4\" class=\"data row3 col4\" >SET</td>\n",
       "      <td id=\"T_91697_row3_col5\" class=\"data row3 col5\" >40,000</td>\n",
       "      <td id=\"T_91697_row3_col6\" class=\"data row3 col6\" >3.00</td>\n",
       "      <td id=\"T_91697_row3_col7\" class=\"data row3 col7\" >2.96</td>\n",
       "      <td id=\"T_91697_row3_col8\" class=\"data row3 col8\" >0.00</td>\n",
       "      <td id=\"T_91697_row3_col9\" class=\"data row3 col9\" >0.00%</td>\n",
       "      <td id=\"T_91697_row3_col10\" class=\"data row3 col10\" >2</td>\n",
       "      <td id=\"T_91697_row3_col11\" class=\"data row3 col11\" >Sell</td>\n",
       "      <td id=\"T_91697_row3_col12\" class=\"data row3 col12\" >120,000.00</td>\n",
       "    </tr>\n",
       "    <tr>\n",
       "      <th id=\"T_91697_level0_row4\" class=\"row_heading level0 row4\" >15</th>\n",
       "      <td id=\"T_91697_row4_col0\" class=\"data row4 col0\" >S</td>\n",
       "      <td id=\"T_91697_row4_col1\" class=\"data row4 col1\" >EPG</td>\n",
       "      <td id=\"T_91697_row4_col2\" class=\"data row4 col2\" >1</td>\n",
       "      <td id=\"T_91697_row4_col3\" class=\"data row4 col3\" >25%</td>\n",
       "      <td id=\"T_91697_row4_col4\" class=\"data row4 col4\" >SET100</td>\n",
       "      <td id=\"T_91697_row4_col5\" class=\"data row4 col5\" >2,000</td>\n",
       "      <td id=\"T_91697_row4_col6\" class=\"data row4 col6\" >12.30</td>\n",
       "      <td id=\"T_91697_row4_col7\" class=\"data row4 col7\" >12.20</td>\n",
       "      <td id=\"T_91697_row4_col8\" class=\"data row4 col8\" >0.30</td>\n",
       "      <td id=\"T_91697_row4_col9\" class=\"data row4 col9\" >+2.52%</td>\n",
       "      <td id=\"T_91697_row4_col10\" class=\"data row4 col10\" >1</td>\n",
       "      <td id=\"T_91697_row4_col11\" class=\"data row4 col11\" >Sell</td>\n",
       "      <td id=\"T_91697_row4_col12\" class=\"data row4 col12\" >24,600.00</td>\n",
       "    </tr>\n",
       "  </tbody>\n",
       "</table>\n"
      ],
      "text/plain": [
       "<pandas.io.formats.style.Styler at 0x23d80df4e50>"
      ]
     },
     "execution_count": 81,
     "metadata": {},
     "output_type": "execute_result"
    }
   ],
   "source": [
    "df[mb | ms].sort_values(['trade','name'],ascending=[True,True]).style.format(format_dict)"
   ]
  },
  {
   "cell_type": "code",
   "execution_count": 82,
   "metadata": {},
   "outputs": [
    {
     "data": {
      "text/plain": [
       "5"
      ]
     },
     "execution_count": 82,
     "metadata": {},
     "output_type": "execute_result"
    }
   ],
   "source": [
    "df[mb | ms].shape[0]"
   ]
  },
  {
   "cell_type": "code",
   "execution_count": 83,
   "metadata": {},
   "outputs": [
    {
     "data": {
      "text/html": [
       "<style type=\"text/css\">\n",
       "</style>\n",
       "<table id=\"T_86d3a_\">\n",
       "  <thead>\n",
       "    <tr>\n",
       "      <th class=\"blank level0\" >&nbsp;</th>\n",
       "      <th class=\"col_heading level0 col0\" >name</th>\n",
       "      <th class=\"col_heading level0 col1\" >trans</th>\n",
       "      <th class=\"col_heading level0 col2\" >amount</th>\n",
       "    </tr>\n",
       "  </thead>\n",
       "  <tbody>\n",
       "    <tr>\n",
       "      <th id=\"T_86d3a_level0_row0\" class=\"row_heading level0 row0\" >14</th>\n",
       "      <td id=\"T_86d3a_row0_col0\" class=\"data row0 col0\" >DCC</td>\n",
       "      <td id=\"T_86d3a_row0_col1\" class=\"data row0 col1\" >Sell</td>\n",
       "      <td id=\"T_86d3a_row0_col2\" class=\"data row0 col2\" >120,000.00</td>\n",
       "    </tr>\n",
       "    <tr>\n",
       "      <th id=\"T_86d3a_level0_row1\" class=\"row_heading level0 row1\" >6</th>\n",
       "      <td id=\"T_86d3a_row1_col0\" class=\"data row1 col0\" >ROJNA</td>\n",
       "      <td id=\"T_86d3a_row1_col1\" class=\"data row1 col1\" >Buy</td>\n",
       "      <td id=\"T_86d3a_row1_col2\" class=\"data row1 col2\" >117,000.00</td>\n",
       "    </tr>\n",
       "    <tr>\n",
       "      <th id=\"T_86d3a_level0_row2\" class=\"row_heading level0 row2\" >12</th>\n",
       "      <td id=\"T_86d3a_row2_col0\" class=\"data row2 col0\" >TVO</td>\n",
       "      <td id=\"T_86d3a_row2_col1\" class=\"data row2 col1\" >Buy</td>\n",
       "      <td id=\"T_86d3a_row2_col2\" class=\"data row2 col2\" >108,000.00</td>\n",
       "    </tr>\n",
       "    <tr>\n",
       "      <th id=\"T_86d3a_level0_row3\" class=\"row_heading level0 row3\" >0</th>\n",
       "      <td id=\"T_86d3a_row3_col0\" class=\"data row3 col0\" >BGC</td>\n",
       "      <td id=\"T_86d3a_row3_col1\" class=\"data row3 col1\" >Buy</td>\n",
       "      <td id=\"T_86d3a_row3_col2\" class=\"data row3 col2\" >104,000.00</td>\n",
       "    </tr>\n",
       "    <tr>\n",
       "      <th id=\"T_86d3a_level0_row4\" class=\"row_heading level0 row4\" >15</th>\n",
       "      <td id=\"T_86d3a_row4_col0\" class=\"data row4 col0\" >EPG</td>\n",
       "      <td id=\"T_86d3a_row4_col1\" class=\"data row4 col1\" >Sell</td>\n",
       "      <td id=\"T_86d3a_row4_col2\" class=\"data row4 col2\" >24,600.00</td>\n",
       "    </tr>\n",
       "  </tbody>\n",
       "</table>\n"
      ],
      "text/plain": [
       "<pandas.io.formats.style.Styler at 0x23d80e6ad60>"
      ]
     },
     "execution_count": 83,
     "metadata": {},
     "output_type": "execute_result"
    }
   ],
   "source": [
    "mask = (df.trade == 'B')\n",
    "df[mb | ms].nlargest(5, \"amount\")[[\"name\",\"trans\",\"amount\"]].style.format(format_dict)"
   ]
  },
  {
   "cell_type": "code",
   "execution_count": 84,
   "metadata": {},
   "outputs": [
    {
     "data": {
      "text/html": [
       "<style type=\"text/css\">\n",
       "</style>\n",
       "<table id=\"T_0eade_\">\n",
       "  <thead>\n",
       "    <tr>\n",
       "      <th class=\"blank level0\" >&nbsp;</th>\n",
       "      <th class=\"col_heading level0 col0\" >trans</th>\n",
       "      <th class=\"col_heading level0 col1\" >name</th>\n",
       "      <th class=\"col_heading level0 col2\" >qty</th>\n",
       "      <th class=\"col_heading level0 col3\" >target</th>\n",
       "      <th class=\"col_heading level0 col4\" >active</th>\n",
       "      <th class=\"col_heading level0 col5\" >spd</th>\n",
       "      <th class=\"col_heading level0 col6\" >current</th>\n",
       "      <th class=\"col_heading level0 col7\" >change</th>\n",
       "      <th class=\"col_heading level0 col8\" >percent</th>\n",
       "    </tr>\n",
       "  </thead>\n",
       "  <tbody>\n",
       "    <tr>\n",
       "      <th id=\"T_0eade_level0_row0\" class=\"row_heading level0 row0\" >0</th>\n",
       "      <td id=\"T_0eade_row0_col0\" class=\"data row0 col0\" >Buy</td>\n",
       "      <td id=\"T_0eade_row0_col1\" class=\"data row0 col1\" >BGC</td>\n",
       "      <td id=\"T_0eade_row0_col2\" class=\"data row0 col2\" >10,000</td>\n",
       "      <td id=\"T_0eade_row0_col3\" class=\"data row0 col3\" >10.40</td>\n",
       "      <td id=\"T_0eade_row0_col4\" class=\"data row0 col4\" >2</td>\n",
       "      <td id=\"T_0eade_row0_col5\" class=\"data row0 col5\" >-2</td>\n",
       "      <td id=\"T_0eade_row0_col6\" class=\"data row0 col6\" >10.60</td>\n",
       "      <td id=\"T_0eade_row0_col7\" class=\"data row0 col7\" >-0.10</td>\n",
       "      <td id=\"T_0eade_row0_col8\" class=\"data row0 col8\" >-0.93%</td>\n",
       "    </tr>\n",
       "    <tr>\n",
       "      <th id=\"T_0eade_level0_row1\" class=\"row_heading level0 row1\" >6</th>\n",
       "      <td id=\"T_0eade_row1_col0\" class=\"data row1 col0\" >Buy</td>\n",
       "      <td id=\"T_0eade_row1_col1\" class=\"data row1 col1\" >ROJNA</td>\n",
       "      <td id=\"T_0eade_row1_col2\" class=\"data row1 col2\" >18,000</td>\n",
       "      <td id=\"T_0eade_row1_col3\" class=\"data row1 col3\" >6.50</td>\n",
       "      <td id=\"T_0eade_row1_col4\" class=\"data row1 col4\" >1</td>\n",
       "      <td id=\"T_0eade_row1_col5\" class=\"data row1 col5\" >-5</td>\n",
       "      <td id=\"T_0eade_row1_col6\" class=\"data row1 col6\" >6.75</td>\n",
       "      <td id=\"T_0eade_row1_col7\" class=\"data row1 col7\" >0.05</td>\n",
       "      <td id=\"T_0eade_row1_col8\" class=\"data row1 col8\" >+0.75%</td>\n",
       "    </tr>\n",
       "    <tr>\n",
       "      <th id=\"T_0eade_level0_row2\" class=\"row_heading level0 row2\" >12</th>\n",
       "      <td id=\"T_0eade_row2_col0\" class=\"data row2 col0\" >Buy</td>\n",
       "      <td id=\"T_0eade_row2_col1\" class=\"data row2 col1\" >TVO</td>\n",
       "      <td id=\"T_0eade_row2_col2\" class=\"data row2 col2\" >3,600</td>\n",
       "      <td id=\"T_0eade_row2_col3\" class=\"data row2 col3\" >30.00</td>\n",
       "      <td id=\"T_0eade_row2_col4\" class=\"data row2 col4\" >1</td>\n",
       "      <td id=\"T_0eade_row2_col5\" class=\"data row2 col5\" >-4</td>\n",
       "      <td id=\"T_0eade_row2_col6\" class=\"data row2 col6\" >31.00</td>\n",
       "      <td id=\"T_0eade_row2_col7\" class=\"data row2 col7\" >0.00</td>\n",
       "      <td id=\"T_0eade_row2_col8\" class=\"data row2 col8\" >0.00%</td>\n",
       "    </tr>\n",
       "    <tr>\n",
       "      <th id=\"T_0eade_level0_row3\" class=\"row_heading level0 row3\" >14</th>\n",
       "      <td id=\"T_0eade_row3_col0\" class=\"data row3 col0\" >Sell</td>\n",
       "      <td id=\"T_0eade_row3_col1\" class=\"data row3 col1\" >DCC</td>\n",
       "      <td id=\"T_0eade_row3_col2\" class=\"data row3 col2\" >40,000</td>\n",
       "      <td id=\"T_0eade_row3_col3\" class=\"data row3 col3\" >3.00</td>\n",
       "      <td id=\"T_0eade_row3_col4\" class=\"data row3 col4\" >2</td>\n",
       "      <td id=\"T_0eade_row3_col5\" class=\"data row3 col5\" >2</td>\n",
       "      <td id=\"T_0eade_row3_col6\" class=\"data row3 col6\" >2.96</td>\n",
       "      <td id=\"T_0eade_row3_col7\" class=\"data row3 col7\" >0.00</td>\n",
       "      <td id=\"T_0eade_row3_col8\" class=\"data row3 col8\" >0.00%</td>\n",
       "    </tr>\n",
       "    <tr>\n",
       "      <th id=\"T_0eade_level0_row4\" class=\"row_heading level0 row4\" >15</th>\n",
       "      <td id=\"T_0eade_row4_col0\" class=\"data row4 col0\" >Sell</td>\n",
       "      <td id=\"T_0eade_row4_col1\" class=\"data row4 col1\" >EPG</td>\n",
       "      <td id=\"T_0eade_row4_col2\" class=\"data row4 col2\" >2,000</td>\n",
       "      <td id=\"T_0eade_row4_col3\" class=\"data row4 col3\" >12.30</td>\n",
       "      <td id=\"T_0eade_row4_col4\" class=\"data row4 col4\" >1</td>\n",
       "      <td id=\"T_0eade_row4_col5\" class=\"data row4 col5\" >1</td>\n",
       "      <td id=\"T_0eade_row4_col6\" class=\"data row4 col6\" >12.20</td>\n",
       "      <td id=\"T_0eade_row4_col7\" class=\"data row4 col7\" >0.30</td>\n",
       "      <td id=\"T_0eade_row4_col8\" class=\"data row4 col8\" >+2.52%</td>\n",
       "    </tr>\n",
       "  </tbody>\n",
       "</table>\n"
      ],
      "text/plain": [
       "<pandas.io.formats.style.Styler at 0x23d80eadac0>"
      ]
     },
     "execution_count": 84,
     "metadata": {},
     "output_type": "execute_result"
    }
   ],
   "source": [
    "df_out = df[mb | ms][colt]\n",
    "#df_out = df[df.active == 2][colt]\n",
    "df_out.style.format(format_dict)"
   ]
  },
  {
   "cell_type": "code",
   "execution_count": 85,
   "metadata": {},
   "outputs": [],
   "source": [
    "file_name = 'ORDERS-PLACED.csv'\n",
    "data_file = data_path + file_name\n",
    "output_file = csv_path + file_name\n",
    "box_file = box_path + file_name\n",
    "\n",
    "df_out.sort_values(['trans','name'],ascending=[True,True]).to_csv(output_file, index=False)\n",
    "df_out.sort_values(['trans','name'],ascending=[True,True]).to_csv(data_file, index=False)\n",
    "df_out.sort_values(['trans','name'],ascending=[True,True]).to_csv(box_file, index=False)"
   ]
  },
  {
   "cell_type": "markdown",
   "metadata": {},
   "source": [
    "### End of Output ORDERS-PLACED"
   ]
  },
  {
   "cell_type": "code",
   "execution_count": 86,
   "metadata": {},
   "outputs": [
    {
     "data": {
      "text/html": [
       "<style type=\"text/css\">\n",
       "</style>\n",
       "<table id=\"T_3efad_\">\n",
       "  <thead>\n",
       "    <tr>\n",
       "      <th class=\"blank level0\" >&nbsp;</th>\n",
       "      <th class=\"col_heading level0 col0\" >trade</th>\n",
       "      <th class=\"col_heading level0 col1\" >name</th>\n",
       "      <th class=\"col_heading level0 col2\" >qty</th>\n",
       "      <th class=\"col_heading level0 col3\" >price</th>\n",
       "      <th class=\"col_heading level0 col4\" >amount</th>\n",
       "      <th class=\"col_heading level0 col5\" >reason</th>\n",
       "      <th class=\"col_heading level0 col6\" >market</th>\n",
       "      <th class=\"col_heading level0 col7\" >active</th>\n",
       "    </tr>\n",
       "  </thead>\n",
       "  <tbody>\n",
       "    <tr>\n",
       "      <th id=\"T_3efad_level0_row0\" class=\"row_heading level0 row0\" >0</th>\n",
       "      <td id=\"T_3efad_row0_col0\" class=\"data row0 col0\" >B</td>\n",
       "      <td id=\"T_3efad_row0_col1\" class=\"data row0 col1\" >BGC</td>\n",
       "      <td id=\"T_3efad_row0_col2\" class=\"data row0 col2\" >10,000</td>\n",
       "      <td id=\"T_3efad_row0_col3\" class=\"data row0 col3\" >10.40</td>\n",
       "      <td id=\"T_3efad_row0_col4\" class=\"data row0 col4\" >104,000.00</td>\n",
       "      <td id=\"T_3efad_row0_col5\" class=\"data row0 col5\" >DOS</td>\n",
       "      <td id=\"T_3efad_row0_col6\" class=\"data row0 col6\" >SET</td>\n",
       "      <td id=\"T_3efad_row0_col7\" class=\"data row0 col7\" >2</td>\n",
       "    </tr>\n",
       "    <tr>\n",
       "      <th id=\"T_3efad_level0_row1\" class=\"row_heading level0 row1\" >1</th>\n",
       "      <td id=\"T_3efad_row1_col0\" class=\"data row1 col0\" >S</td>\n",
       "      <td id=\"T_3efad_row1_col1\" class=\"data row1 col1\" >DCC</td>\n",
       "      <td id=\"T_3efad_row1_col2\" class=\"data row1 col2\" >40,000</td>\n",
       "      <td id=\"T_3efad_row1_col3\" class=\"data row1 col3\" >3.00</td>\n",
       "      <td id=\"T_3efad_row1_col4\" class=\"data row1 col4\" >120,000.00</td>\n",
       "      <td id=\"T_3efad_row1_col5\" class=\"data row1 col5\" >3%</td>\n",
       "      <td id=\"T_3efad_row1_col6\" class=\"data row1 col6\" >SET</td>\n",
       "      <td id=\"T_3efad_row1_col7\" class=\"data row1 col7\" >2</td>\n",
       "    </tr>\n",
       "  </tbody>\n",
       "</table>\n"
      ],
      "text/plain": [
       "<pandas.io.formats.style.Styler at 0x23d80ebe250>"
      ]
     },
     "execution_count": 86,
     "metadata": {},
     "output_type": "execute_result"
    }
   ],
   "source": [
    "sql = '''\n",
    "SELECT trade, name, qty, price, qty * price AS amount, reason, market, active\n",
    "FROM orders\n",
    "WHERE ACTIVE = 2\n",
    "ORDER BY trade, name'''\n",
    "orders = pd.read_sql(sql, conlite)\n",
    "orders.style.format(format_dict)"
   ]
  },
  {
   "cell_type": "markdown",
   "metadata": {},
   "source": [
    "### Evening Process"
   ]
  },
  {
   "cell_type": "code",
   "execution_count": 87,
   "metadata": {},
   "outputs": [],
   "source": [
    "new_active = 1\n",
    "old_active = 2"
   ]
  },
  {
   "cell_type": "code",
   "execution_count": 88,
   "metadata": {},
   "outputs": [
    {
     "data": {
      "text/plain": [
       "2"
      ]
     },
     "execution_count": 88,
     "metadata": {},
     "output_type": "execute_result"
    }
   ],
   "source": [
    "sql = \"\"\"\n",
    "UPDATE orders \n",
    "SET active = %s\n",
    "WHERE active = %s\n",
    "\"\"\"\n",
    "sql = sql % (new_active, old_active)\n",
    "rp = conlite.execute(sql)\n",
    "rp.rowcount"
   ]
  },
  {
   "cell_type": "code",
   "execution_count": 89,
   "metadata": {
    "scrolled": true
   },
   "outputs": [
    {
     "data": {
      "text/plain": [
       "\"'BGC', 'ROJNA', 'TVO', 'DCC', 'EPG'\""
      ]
     },
     "execution_count": 89,
     "metadata": {},
     "output_type": "execute_result"
    }
   ],
   "source": [
    "names = df_out['name']\n",
    "in_p = \", \".join(map(lambda name: \"'%s'\" % name, names))\n",
    "in_p"
   ]
  },
  {
   "cell_type": "code",
   "execution_count": 90,
   "metadata": {},
   "outputs": [
    {
     "data": {
      "text/plain": [
       "5"
      ]
     },
     "execution_count": 90,
     "metadata": {},
     "output_type": "execute_result"
    }
   ],
   "source": [
    "sql = \"\"\"\n",
    "UPDATE orders \n",
    "SET active = 2\n",
    "WHERE name IN (%s)\n",
    "\"\"\"\n",
    "sql = sql % (in_p)\n",
    "rp = conlite.execute(sql)\n",
    "rp.rowcount"
   ]
  },
  {
   "cell_type": "markdown",
   "metadata": {},
   "source": [
    "### End of Evening Process"
   ]
  },
  {
   "cell_type": "code",
   "execution_count": null,
   "metadata": {},
   "outputs": [],
   "source": []
  }
 ],
 "metadata": {
  "anaconda-cloud": {},
  "kernelspec": {
   "display_name": "Python 3 (ipykernel)",
   "language": "python",
   "name": "python3"
  },
  "language_info": {
   "codemirror_mode": {
    "name": "ipython",
    "version": 3
   },
   "file_extension": ".py",
   "mimetype": "text/x-python",
   "name": "python",
   "nbconvert_exporter": "python",
   "pygments_lexer": "ipython3",
   "version": "3.8.11"
  }
 },
 "nbformat": 4,
 "nbformat_minor": 1
}
