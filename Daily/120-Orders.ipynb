{
 "cells": [
  {
   "cell_type": "code",
   "execution_count": 1,
   "metadata": {},
   "outputs": [
    {
     "data": {
      "application/javascript": [
       "require.config({\n",
       "    paths: {\n",
       "        datatables: 'https://cdn.datatables.net/1.10.19/js/jquery.dataTables.min',\n",
       "    }\n",
       "});\n",
       "\n",
       "$('head').append('<link rel=\"stylesheet\" type=\"text/css\" \\\n",
       "                href = \"https://cdn.datatables.net/1.10.19/css/jquery.dataTables.min.css\" > ');\n",
       "\n",
       "$('head').append('<style> table td { text-overflow: ellipsis; overflow: hidden; } </style>');\n",
       "\n",
       "$('head').append(`<script>\n",
       "function eval_functions(map_or_text) {\n",
       "    if (typeof map_or_text === \"string\") {\n",
       "        if (map_or_text.startsWith(\"function\")) {\n",
       "            try {\n",
       "                // Note: parenthesis are required around the whole expression for eval to return a value!\n",
       "                // See https://stackoverflow.com/a/7399078/911298.\n",
       "                //\n",
       "                // eval(\"local_fun = \" + map_or_text) would fail because local_fun is not declared\n",
       "                // (using var, let or const would work, but it would only be declared in the local scope\n",
       "                // and therefore the value could not be retrieved).\n",
       "                const func = eval(\"(\" + map_or_text + \")\");\n",
       "                if (typeof func !== \"function\") {\n",
       "                    // Note: backquotes are super convenient!\n",
       "                    // https://developer.mozilla.org/en-US/docs/Web/JavaScript/Reference/Template_literals\n",
       "                    console.error(\"Evaluated expression \" + map_or_text + \" is not a function (type is \" + typeof func + \")\");\n",
       "                    return map_or_text;\n",
       "                }\n",
       "                // Return the function\n",
       "                return func;\n",
       "            } catch (e) {\n",
       "                // Make sure to print the error with a second argument to console.error().\n",
       "                console.error(\"itables was not able to parse \" + map_or_text, e);\n",
       "            }\n",
       "        }\n",
       "    } else if (typeof map_or_text === \"object\") {\n",
       "        if (map_or_text instanceof Array) {\n",
       "            // Note: \"var\" is now superseded by \"let\" and \"const\".\n",
       "            // https://medium.com/javascript-scene/javascript-es6-var-let-or-const-ba58b8dcde75\n",
       "            const result = [];\n",
       "            // Note: \"for of\" is the best way to iterate through an iterable.\n",
       "            // https://developer.mozilla.org/en-US/docs/Web/JavaScript/Reference/Statements/for...of\n",
       "            for (const item of map_or_text) {\n",
       "                result.push(eval_functions(item));\n",
       "            }\n",
       "            return result;\n",
       "\n",
       "            // Alternatively, more functional approach in one line:\n",
       "            // return map_or_text.map(eval_functions);\n",
       "        } else {\n",
       "            const result = {};\n",
       "            // Object.keys() is safer than \"for in\" because otherwise you might have keys\n",
       "            // that aren't defined in the object itself.\n",
       "            //\n",
       "            // See https://stackoverflow.com/a/684692/911298.\n",
       "            for (const item of Object.keys(map_or_text)) {\n",
       "                result[item] = eval_functions(map_or_text[item]);\n",
       "            }\n",
       "            return result;\n",
       "        }\n",
       "    }\n",
       "\n",
       "    return map_or_text;\n",
       "}\n",
       "\n",
       "</` + 'script>');"
      ],
      "text/plain": [
       "<IPython.core.display.Javascript object>"
      ]
     },
     "metadata": {},
     "output_type": "display_data"
    },
    {
     "data": {
      "application/javascript": [
       "\n",
       "(function(root) {\n",
       "  function now() {\n",
       "    return new Date();\n",
       "  }\n",
       "\n",
       "  var force = true;\n",
       "\n",
       "  if (typeof root._bokeh_onload_callbacks === \"undefined\" || force === true) {\n",
       "    root._bokeh_onload_callbacks = [];\n",
       "    root._bokeh_is_loading = undefined;\n",
       "  }\n",
       "\n",
       "  if (typeof (root._bokeh_timeout) === \"undefined\" || force === true) {\n",
       "    root._bokeh_timeout = Date.now() + 5000;\n",
       "    root._bokeh_failed_load = false;\n",
       "  }\n",
       "\n",
       "  function run_callbacks() {\n",
       "    try {\n",
       "      root._bokeh_onload_callbacks.forEach(function(callback) {\n",
       "        if (callback != null)\n",
       "          callback();\n",
       "      });\n",
       "    } finally {\n",
       "      delete root._bokeh_onload_callbacks\n",
       "    }\n",
       "    console.debug(\"Bokeh: all callbacks have finished\");\n",
       "  }\n",
       "\n",
       "  function load_libs(css_urls, js_urls, js_modules, callback) {\n",
       "    if (css_urls == null) css_urls = [];\n",
       "    if (js_urls == null) js_urls = [];\n",
       "    if (js_modules == null) js_modules = [];\n",
       "\n",
       "    root._bokeh_onload_callbacks.push(callback);\n",
       "    if (root._bokeh_is_loading > 0) {\n",
       "      console.debug(\"Bokeh: BokehJS is being loaded, scheduling callback at\", now());\n",
       "      return null;\n",
       "    }\n",
       "    if (js_urls.length === 0 && js_modules.length === 0) {\n",
       "      run_callbacks();\n",
       "      return null;\n",
       "    }\n",
       "    console.debug(\"Bokeh: BokehJS not loaded, scheduling load and callback at\", now());\n",
       "    root._bokeh_is_loading = css_urls.length + js_urls.length + js_modules.length;\n",
       "\n",
       "    function on_load() {\n",
       "      root._bokeh_is_loading--;\n",
       "      if (root._bokeh_is_loading === 0) {\n",
       "        console.debug(\"Bokeh: all BokehJS libraries/stylesheets loaded\");\n",
       "        run_callbacks()\n",
       "      }\n",
       "    }\n",
       "\n",
       "    function on_error() {\n",
       "      console.error(\"failed to load \" + url);\n",
       "    }\n",
       "\n",
       "    for (var i = 0; i < css_urls.length; i++) {\n",
       "      var url = css_urls[i];\n",
       "      const element = document.createElement(\"link\");\n",
       "      element.onload = on_load;\n",
       "      element.onerror = on_error;\n",
       "      element.rel = \"stylesheet\";\n",
       "      element.type = \"text/css\";\n",
       "      element.href = url;\n",
       "      console.debug(\"Bokeh: injecting link tag for BokehJS stylesheet: \", url);\n",
       "      document.body.appendChild(element);\n",
       "    }\n",
       "\n",
       "    var skip = [];\n",
       "    if (window.requirejs) {\n",
       "      window.requirejs.config({'packages': {}, 'paths': {'tabulator': 'https://unpkg.com/tabulator-tables@4.9.3/dist/js/tabulator', 'moment': 'https://unpkg.com/moment@2.27.0/moment'}, 'shim': {}});\n",
       "      \n",
       "      require([\"tabulator\"], function(Tabulator) {\n",
       "\twindow.Tabulator = Tabulator\n",
       "      })\n",
       "      \n",
       "      require([\"moment\"], function(moment) {\n",
       "\twindow.moment = moment\n",
       "      })\n",
       "      \n",
       "    }\n",
       "    if (((window['Tabulator'] !== undefined) && (!(window['Tabulator'] instanceof HTMLElement))) || window.requirejs) {\n",
       "      var urls = ['https://unpkg.com/tabulator-tables@4.9.3/dist/js/tabulator.js'];\n",
       "      for (var i = 0; i < urls.length; i++) {\n",
       "        skip.push(urls[i])\n",
       "      }\n",
       "    }\n",
       "    if (((window['moment'] !== undefined) && (!(window['moment'] instanceof HTMLElement))) || window.requirejs) {\n",
       "      var urls = ['https://unpkg.com/moment@2.27.0/moment.js'];\n",
       "      for (var i = 0; i < urls.length; i++) {\n",
       "        skip.push(urls[i])\n",
       "      }\n",
       "    }\n",
       "    for (var i = 0; i < js_urls.length; i++) {\n",
       "      var url = js_urls[i];\n",
       "      if (skip.indexOf(url) >= 0) { on_load(); continue; }\n",
       "      var element = document.createElement('script');\n",
       "      element.onload = on_load;\n",
       "      element.onerror = on_error;\n",
       "      element.async = false;\n",
       "      element.src = url;\n",
       "      console.debug(\"Bokeh: injecting script tag for BokehJS library: \", url);\n",
       "      document.head.appendChild(element);\n",
       "    }\n",
       "    for (var i = 0; i < js_modules.length; i++) {\n",
       "      var url = js_modules[i];\n",
       "      if (skip.indexOf(url) >= 0) { on_load(); continue; }\n",
       "      var element = document.createElement('script');\n",
       "      element.onload = on_load;\n",
       "      element.onerror = on_error;\n",
       "      element.async = false;\n",
       "      element.src = url;\n",
       "      element.type = \"module\";\n",
       "      console.debug(\"Bokeh: injecting script tag for BokehJS library: \", url);\n",
       "      document.head.appendChild(element);\n",
       "    }\n",
       "    if (!js_urls.length && !js_modules.length) {\n",
       "      on_load()\n",
       "    }\n",
       "  };\n",
       "\n",
       "  function inject_raw_css(css) {\n",
       "    const element = document.createElement(\"style\");\n",
       "    element.appendChild(document.createTextNode(css));\n",
       "    document.body.appendChild(element);\n",
       "  }\n",
       "\n",
       "  var js_urls = [\"https://unpkg.com/tabulator-tables@4.9.3/dist/js/tabulator.js\", \"https://unpkg.com/moment@2.27.0/moment.js\", \"https://cdn.bokeh.org/bokeh/release/bokeh-2.3.3.min.js\", \"https://cdn.bokeh.org/bokeh/release/bokeh-widgets-2.3.3.min.js\", \"https://cdn.bokeh.org/bokeh/release/bokeh-tables-2.3.3.min.js\", \"https://unpkg.com/@holoviz/panel@0.12.1/dist/panel.min.js\"];\n",
       "  var js_modules = [];\n",
       "  var css_urls = [\"https://unpkg.com/tabulator-tables@4.9.3/dist/css/tabulator_simple.min.css\", \"https://unpkg.com/@holoviz/panel@0.12.1/dist/css/alerts.css\", \"https://unpkg.com/@holoviz/panel@0.12.1/dist/css/card.css\", \"https://unpkg.com/@holoviz/panel@0.12.1/dist/css/dataframe.css\", \"https://unpkg.com/@holoviz/panel@0.12.1/dist/css/json.css\", \"https://unpkg.com/@holoviz/panel@0.12.1/dist/css/loading.css\", \"https://unpkg.com/@holoviz/panel@0.12.1/dist/css/markdown.css\", \"https://unpkg.com/@holoviz/panel@0.12.1/dist/css/widgets.css\"];\n",
       "  var inline_js = [\n",
       "    function(Bokeh) {\n",
       "      inject_raw_css(\"\\n    .bk.pn-loading.arcs:before {\\n      background-image: url(\\\"data:image/svg+xml;base64,PHN2ZyB4bWxucz0iaHR0cDovL3d3dy53My5vcmcvMjAwMC9zdmciIHhtbG5zOnhsaW5rPSJodHRwOi8vd3d3LnczLm9yZy8xOTk5L3hsaW5rIiBzdHlsZT0ibWFyZ2luOiBhdXRvOyBiYWNrZ3JvdW5kOiBub25lOyBkaXNwbGF5OiBibG9jazsgc2hhcGUtcmVuZGVyaW5nOiBhdXRvOyIgdmlld0JveD0iMCAwIDEwMCAxMDAiIHByZXNlcnZlQXNwZWN0UmF0aW89InhNaWRZTWlkIj4gIDxjaXJjbGUgY3g9IjUwIiBjeT0iNTAiIHI9IjMyIiBzdHJva2Utd2lkdGg9IjgiIHN0cm9rZT0iI2MzYzNjMyIgc3Ryb2tlLWRhc2hhcnJheT0iNTAuMjY1NDgyNDU3NDM2NjkgNTAuMjY1NDgyNDU3NDM2NjkiIGZpbGw9Im5vbmUiIHN0cm9rZS1saW5lY2FwPSJyb3VuZCI+ICAgIDxhbmltYXRlVHJhbnNmb3JtIGF0dHJpYnV0ZU5hbWU9InRyYW5zZm9ybSIgdHlwZT0icm90YXRlIiByZXBlYXRDb3VudD0iaW5kZWZpbml0ZSIgZHVyPSIxcyIga2V5VGltZXM9IjA7MSIgdmFsdWVzPSIwIDUwIDUwOzM2MCA1MCA1MCI+PC9hbmltYXRlVHJhbnNmb3JtPiAgPC9jaXJjbGU+PC9zdmc+\\\")\\n    }\\n    \");\n",
       "    },\n",
       "    function(Bokeh) {\n",
       "      Bokeh.set_log_level(\"info\");\n",
       "    },\n",
       "    function(Bokeh) {} // ensure no trailing comma for IE\n",
       "  ];\n",
       "\n",
       "  function run_inline_js() {\n",
       "    if ((root.Bokeh !== undefined) || (force === true)) {\n",
       "      for (var i = 0; i < inline_js.length; i++) {\n",
       "        inline_js[i].call(root, root.Bokeh);\n",
       "      }} else if (Date.now() < root._bokeh_timeout) {\n",
       "      setTimeout(run_inline_js, 100);\n",
       "    } else if (!root._bokeh_failed_load) {\n",
       "      console.log(\"Bokeh: BokehJS failed to load within specified timeout.\");\n",
       "      root._bokeh_failed_load = true;\n",
       "    }\n",
       "  }\n",
       "\n",
       "  if (root._bokeh_is_loading === 0) {\n",
       "    console.debug(\"Bokeh: BokehJS loaded, going straight to plotting\");\n",
       "    run_inline_js();\n",
       "  } else {\n",
       "    load_libs(css_urls, js_urls, js_modules, function() {\n",
       "      console.debug(\"Bokeh: BokehJS plotting callback run at\", now());\n",
       "      run_inline_js();\n",
       "    });\n",
       "  }\n",
       "}(window));"
      ],
      "application/vnd.holoviews_load.v0+json": "\n(function(root) {\n  function now() {\n    return new Date();\n  }\n\n  var force = true;\n\n  if (typeof root._bokeh_onload_callbacks === \"undefined\" || force === true) {\n    root._bokeh_onload_callbacks = [];\n    root._bokeh_is_loading = undefined;\n  }\n\n  if (typeof (root._bokeh_timeout) === \"undefined\" || force === true) {\n    root._bokeh_timeout = Date.now() + 5000;\n    root._bokeh_failed_load = false;\n  }\n\n  function run_callbacks() {\n    try {\n      root._bokeh_onload_callbacks.forEach(function(callback) {\n        if (callback != null)\n          callback();\n      });\n    } finally {\n      delete root._bokeh_onload_callbacks\n    }\n    console.debug(\"Bokeh: all callbacks have finished\");\n  }\n\n  function load_libs(css_urls, js_urls, js_modules, callback) {\n    if (css_urls == null) css_urls = [];\n    if (js_urls == null) js_urls = [];\n    if (js_modules == null) js_modules = [];\n\n    root._bokeh_onload_callbacks.push(callback);\n    if (root._bokeh_is_loading > 0) {\n      console.debug(\"Bokeh: BokehJS is being loaded, scheduling callback at\", now());\n      return null;\n    }\n    if (js_urls.length === 0 && js_modules.length === 0) {\n      run_callbacks();\n      return null;\n    }\n    console.debug(\"Bokeh: BokehJS not loaded, scheduling load and callback at\", now());\n    root._bokeh_is_loading = css_urls.length + js_urls.length + js_modules.length;\n\n    function on_load() {\n      root._bokeh_is_loading--;\n      if (root._bokeh_is_loading === 0) {\n        console.debug(\"Bokeh: all BokehJS libraries/stylesheets loaded\");\n        run_callbacks()\n      }\n    }\n\n    function on_error() {\n      console.error(\"failed to load \" + url);\n    }\n\n    for (var i = 0; i < css_urls.length; i++) {\n      var url = css_urls[i];\n      const element = document.createElement(\"link\");\n      element.onload = on_load;\n      element.onerror = on_error;\n      element.rel = \"stylesheet\";\n      element.type = \"text/css\";\n      element.href = url;\n      console.debug(\"Bokeh: injecting link tag for BokehJS stylesheet: \", url);\n      document.body.appendChild(element);\n    }\n\n    var skip = [];\n    if (window.requirejs) {\n      window.requirejs.config({'packages': {}, 'paths': {'tabulator': 'https://unpkg.com/tabulator-tables@4.9.3/dist/js/tabulator', 'moment': 'https://unpkg.com/moment@2.27.0/moment'}, 'shim': {}});\n      \n      require([\"tabulator\"], function(Tabulator) {\n\twindow.Tabulator = Tabulator\n      })\n      \n      require([\"moment\"], function(moment) {\n\twindow.moment = moment\n      })\n      \n    }\n    if (((window['Tabulator'] !== undefined) && (!(window['Tabulator'] instanceof HTMLElement))) || window.requirejs) {\n      var urls = ['https://unpkg.com/tabulator-tables@4.9.3/dist/js/tabulator.js'];\n      for (var i = 0; i < urls.length; i++) {\n        skip.push(urls[i])\n      }\n    }\n    if (((window['moment'] !== undefined) && (!(window['moment'] instanceof HTMLElement))) || window.requirejs) {\n      var urls = ['https://unpkg.com/moment@2.27.0/moment.js'];\n      for (var i = 0; i < urls.length; i++) {\n        skip.push(urls[i])\n      }\n    }\n    for (var i = 0; i < js_urls.length; i++) {\n      var url = js_urls[i];\n      if (skip.indexOf(url) >= 0) { on_load(); continue; }\n      var element = document.createElement('script');\n      element.onload = on_load;\n      element.onerror = on_error;\n      element.async = false;\n      element.src = url;\n      console.debug(\"Bokeh: injecting script tag for BokehJS library: \", url);\n      document.head.appendChild(element);\n    }\n    for (var i = 0; i < js_modules.length; i++) {\n      var url = js_modules[i];\n      if (skip.indexOf(url) >= 0) { on_load(); continue; }\n      var element = document.createElement('script');\n      element.onload = on_load;\n      element.onerror = on_error;\n      element.async = false;\n      element.src = url;\n      element.type = \"module\";\n      console.debug(\"Bokeh: injecting script tag for BokehJS library: \", url);\n      document.head.appendChild(element);\n    }\n    if (!js_urls.length && !js_modules.length) {\n      on_load()\n    }\n  };\n\n  function inject_raw_css(css) {\n    const element = document.createElement(\"style\");\n    element.appendChild(document.createTextNode(css));\n    document.body.appendChild(element);\n  }\n\n  var js_urls = [\"https://unpkg.com/tabulator-tables@4.9.3/dist/js/tabulator.js\", \"https://unpkg.com/moment@2.27.0/moment.js\", \"https://cdn.bokeh.org/bokeh/release/bokeh-2.3.3.min.js\", \"https://cdn.bokeh.org/bokeh/release/bokeh-widgets-2.3.3.min.js\", \"https://cdn.bokeh.org/bokeh/release/bokeh-tables-2.3.3.min.js\", \"https://unpkg.com/@holoviz/panel@0.12.1/dist/panel.min.js\"];\n  var js_modules = [];\n  var css_urls = [\"https://unpkg.com/tabulator-tables@4.9.3/dist/css/tabulator_simple.min.css\", \"https://unpkg.com/@holoviz/panel@0.12.1/dist/css/alerts.css\", \"https://unpkg.com/@holoviz/panel@0.12.1/dist/css/card.css\", \"https://unpkg.com/@holoviz/panel@0.12.1/dist/css/dataframe.css\", \"https://unpkg.com/@holoviz/panel@0.12.1/dist/css/json.css\", \"https://unpkg.com/@holoviz/panel@0.12.1/dist/css/loading.css\", \"https://unpkg.com/@holoviz/panel@0.12.1/dist/css/markdown.css\", \"https://unpkg.com/@holoviz/panel@0.12.1/dist/css/widgets.css\"];\n  var inline_js = [\n    function(Bokeh) {\n      inject_raw_css(\"\\n    .bk.pn-loading.arcs:before {\\n      background-image: url(\\\"data:image/svg+xml;base64,PHN2ZyB4bWxucz0iaHR0cDovL3d3dy53My5vcmcvMjAwMC9zdmciIHhtbG5zOnhsaW5rPSJodHRwOi8vd3d3LnczLm9yZy8xOTk5L3hsaW5rIiBzdHlsZT0ibWFyZ2luOiBhdXRvOyBiYWNrZ3JvdW5kOiBub25lOyBkaXNwbGF5OiBibG9jazsgc2hhcGUtcmVuZGVyaW5nOiBhdXRvOyIgdmlld0JveD0iMCAwIDEwMCAxMDAiIHByZXNlcnZlQXNwZWN0UmF0aW89InhNaWRZTWlkIj4gIDxjaXJjbGUgY3g9IjUwIiBjeT0iNTAiIHI9IjMyIiBzdHJva2Utd2lkdGg9IjgiIHN0cm9rZT0iI2MzYzNjMyIgc3Ryb2tlLWRhc2hhcnJheT0iNTAuMjY1NDgyNDU3NDM2NjkgNTAuMjY1NDgyNDU3NDM2NjkiIGZpbGw9Im5vbmUiIHN0cm9rZS1saW5lY2FwPSJyb3VuZCI+ICAgIDxhbmltYXRlVHJhbnNmb3JtIGF0dHJpYnV0ZU5hbWU9InRyYW5zZm9ybSIgdHlwZT0icm90YXRlIiByZXBlYXRDb3VudD0iaW5kZWZpbml0ZSIgZHVyPSIxcyIga2V5VGltZXM9IjA7MSIgdmFsdWVzPSIwIDUwIDUwOzM2MCA1MCA1MCI+PC9hbmltYXRlVHJhbnNmb3JtPiAgPC9jaXJjbGU+PC9zdmc+\\\")\\n    }\\n    \");\n    },\n    function(Bokeh) {\n      Bokeh.set_log_level(\"info\");\n    },\n    function(Bokeh) {} // ensure no trailing comma for IE\n  ];\n\n  function run_inline_js() {\n    if ((root.Bokeh !== undefined) || (force === true)) {\n      for (var i = 0; i < inline_js.length; i++) {\n        inline_js[i].call(root, root.Bokeh);\n      }} else if (Date.now() < root._bokeh_timeout) {\n      setTimeout(run_inline_js, 100);\n    } else if (!root._bokeh_failed_load) {\n      console.log(\"Bokeh: BokehJS failed to load within specified timeout.\");\n      root._bokeh_failed_load = true;\n    }\n  }\n\n  if (root._bokeh_is_loading === 0) {\n    console.debug(\"Bokeh: BokehJS loaded, going straight to plotting\");\n    run_inline_js();\n  } else {\n    load_libs(css_urls, js_urls, js_modules, function() {\n      console.debug(\"Bokeh: BokehJS plotting callback run at\", now());\n      run_inline_js();\n    });\n  }\n}(window));"
     },
     "metadata": {},
     "output_type": "display_data"
    },
    {
     "data": {
      "application/javascript": [
       "\n",
       "if ((window.PyViz === undefined) || (window.PyViz instanceof HTMLElement)) {\n",
       "  window.PyViz = {comms: {}, comm_status:{}, kernels:{}, receivers: {}, plot_index: []}\n",
       "}\n",
       "\n",
       "\n",
       "    function JupyterCommManager() {\n",
       "    }\n",
       "\n",
       "    JupyterCommManager.prototype.register_target = function(plot_id, comm_id, msg_handler) {\n",
       "      if (window.comm_manager || ((window.Jupyter !== undefined) && (Jupyter.notebook.kernel != null))) {\n",
       "        var comm_manager = window.comm_manager || Jupyter.notebook.kernel.comm_manager;\n",
       "        comm_manager.register_target(comm_id, function(comm) {\n",
       "          comm.on_msg(msg_handler);\n",
       "        });\n",
       "      } else if ((plot_id in window.PyViz.kernels) && (window.PyViz.kernels[plot_id])) {\n",
       "        window.PyViz.kernels[plot_id].registerCommTarget(comm_id, function(comm) {\n",
       "          comm.onMsg = msg_handler;\n",
       "        });\n",
       "      } else if (typeof google != 'undefined' && google.colab.kernel != null) {\n",
       "        google.colab.kernel.comms.registerTarget(comm_id, (comm) => {\n",
       "          var messages = comm.messages[Symbol.asyncIterator]();\n",
       "          function processIteratorResult(result) {\n",
       "            var message = result.value;\n",
       "            console.log(message)\n",
       "            var content = {data: message.data, comm_id};\n",
       "            var buffers = []\n",
       "            for (var buffer of message.buffers || []) {\n",
       "              buffers.push(new DataView(buffer))\n",
       "            }\n",
       "            var metadata = message.metadata || {};\n",
       "            var msg = {content, buffers, metadata}\n",
       "            msg_handler(msg);\n",
       "            return messages.next().then(processIteratorResult);\n",
       "          }\n",
       "          return messages.next().then(processIteratorResult);\n",
       "        })\n",
       "      }\n",
       "    }\n",
       "\n",
       "    JupyterCommManager.prototype.get_client_comm = function(plot_id, comm_id, msg_handler) {\n",
       "      if (comm_id in window.PyViz.comms) {\n",
       "        return window.PyViz.comms[comm_id];\n",
       "      } else if (window.comm_manager || ((window.Jupyter !== undefined) && (Jupyter.notebook.kernel != null))) {\n",
       "        var comm_manager = window.comm_manager || Jupyter.notebook.kernel.comm_manager;\n",
       "        var comm = comm_manager.new_comm(comm_id, {}, {}, {}, comm_id);\n",
       "        if (msg_handler) {\n",
       "          comm.on_msg(msg_handler);\n",
       "        }\n",
       "      } else if ((plot_id in window.PyViz.kernels) && (window.PyViz.kernels[plot_id])) {\n",
       "        var comm = window.PyViz.kernels[plot_id].connectToComm(comm_id);\n",
       "        comm.open();\n",
       "        if (msg_handler) {\n",
       "          comm.onMsg = msg_handler;\n",
       "        }\n",
       "      } else if (typeof google != 'undefined' && google.colab.kernel != null) {\n",
       "        var comm_promise = google.colab.kernel.comms.open(comm_id)\n",
       "        comm_promise.then((comm) => {\n",
       "          window.PyViz.comms[comm_id] = comm;\n",
       "          if (msg_handler) {\n",
       "            var messages = comm.messages[Symbol.asyncIterator]();\n",
       "            function processIteratorResult(result) {\n",
       "              var message = result.value;\n",
       "              var content = {data: message.data};\n",
       "              var metadata = message.metadata || {comm_id};\n",
       "              var msg = {content, metadata}\n",
       "              msg_handler(msg);\n",
       "              return messages.next().then(processIteratorResult);\n",
       "            }\n",
       "            return messages.next().then(processIteratorResult);\n",
       "          }\n",
       "        }) \n",
       "        var sendClosure = (data, metadata, buffers, disposeOnDone) => {\n",
       "          return comm_promise.then((comm) => {\n",
       "            comm.send(data, metadata, buffers, disposeOnDone);\n",
       "          });\n",
       "        };\n",
       "        var comm = {\n",
       "          send: sendClosure\n",
       "        };\n",
       "      }\n",
       "      window.PyViz.comms[comm_id] = comm;\n",
       "      return comm;\n",
       "    }\n",
       "    window.PyViz.comm_manager = new JupyterCommManager();\n",
       "    \n",
       "\n",
       "\n",
       "var JS_MIME_TYPE = 'application/javascript';\n",
       "var HTML_MIME_TYPE = 'text/html';\n",
       "var EXEC_MIME_TYPE = 'application/vnd.holoviews_exec.v0+json';\n",
       "var CLASS_NAME = 'output';\n",
       "\n",
       "/**\n",
       " * Render data to the DOM node\n",
       " */\n",
       "function render(props, node) {\n",
       "  var div = document.createElement(\"div\");\n",
       "  var script = document.createElement(\"script\");\n",
       "  node.appendChild(div);\n",
       "  node.appendChild(script);\n",
       "}\n",
       "\n",
       "/**\n",
       " * Handle when a new output is added\n",
       " */\n",
       "function handle_add_output(event, handle) {\n",
       "  var output_area = handle.output_area;\n",
       "  var output = handle.output;\n",
       "  if ((output.data == undefined) || (!output.data.hasOwnProperty(EXEC_MIME_TYPE))) {\n",
       "    return\n",
       "  }\n",
       "  var id = output.metadata[EXEC_MIME_TYPE][\"id\"];\n",
       "  var toinsert = output_area.element.find(\".\" + CLASS_NAME.split(' ')[0]);\n",
       "  if (id !== undefined) {\n",
       "    var nchildren = toinsert.length;\n",
       "    var html_node = toinsert[nchildren-1].children[0];\n",
       "    html_node.innerHTML = output.data[HTML_MIME_TYPE];\n",
       "    var scripts = [];\n",
       "    var nodelist = html_node.querySelectorAll(\"script\");\n",
       "    for (var i in nodelist) {\n",
       "      if (nodelist.hasOwnProperty(i)) {\n",
       "        scripts.push(nodelist[i])\n",
       "      }\n",
       "    }\n",
       "\n",
       "    scripts.forEach( function (oldScript) {\n",
       "      var newScript = document.createElement(\"script\");\n",
       "      var attrs = [];\n",
       "      var nodemap = oldScript.attributes;\n",
       "      for (var j in nodemap) {\n",
       "        if (nodemap.hasOwnProperty(j)) {\n",
       "          attrs.push(nodemap[j])\n",
       "        }\n",
       "      }\n",
       "      attrs.forEach(function(attr) { newScript.setAttribute(attr.name, attr.value) });\n",
       "      newScript.appendChild(document.createTextNode(oldScript.innerHTML));\n",
       "      oldScript.parentNode.replaceChild(newScript, oldScript);\n",
       "    });\n",
       "    if (JS_MIME_TYPE in output.data) {\n",
       "      toinsert[nchildren-1].children[1].textContent = output.data[JS_MIME_TYPE];\n",
       "    }\n",
       "    output_area._hv_plot_id = id;\n",
       "    if ((window.Bokeh !== undefined) && (id in Bokeh.index)) {\n",
       "      window.PyViz.plot_index[id] = Bokeh.index[id];\n",
       "    } else {\n",
       "      window.PyViz.plot_index[id] = null;\n",
       "    }\n",
       "  } else if (output.metadata[EXEC_MIME_TYPE][\"server_id\"] !== undefined) {\n",
       "    var bk_div = document.createElement(\"div\");\n",
       "    bk_div.innerHTML = output.data[HTML_MIME_TYPE];\n",
       "    var script_attrs = bk_div.children[0].attributes;\n",
       "    for (var i = 0; i < script_attrs.length; i++) {\n",
       "      toinsert[toinsert.length - 1].childNodes[1].setAttribute(script_attrs[i].name, script_attrs[i].value);\n",
       "    }\n",
       "    // store reference to server id on output_area\n",
       "    output_area._bokeh_server_id = output.metadata[EXEC_MIME_TYPE][\"server_id\"];\n",
       "  }\n",
       "}\n",
       "\n",
       "/**\n",
       " * Handle when an output is cleared or removed\n",
       " */\n",
       "function handle_clear_output(event, handle) {\n",
       "  var id = handle.cell.output_area._hv_plot_id;\n",
       "  var server_id = handle.cell.output_area._bokeh_server_id;\n",
       "  if (((id === undefined) || !(id in PyViz.plot_index)) && (server_id !== undefined)) { return; }\n",
       "  var comm = window.PyViz.comm_manager.get_client_comm(\"hv-extension-comm\", \"hv-extension-comm\", function () {});\n",
       "  if (server_id !== null) {\n",
       "    comm.send({event_type: 'server_delete', 'id': server_id});\n",
       "    return;\n",
       "  } else if (comm !== null) {\n",
       "    comm.send({event_type: 'delete', 'id': id});\n",
       "  }\n",
       "  delete PyViz.plot_index[id];\n",
       "  if ((window.Bokeh !== undefined) & (id in window.Bokeh.index)) {\n",
       "    var doc = window.Bokeh.index[id].model.document\n",
       "    doc.clear();\n",
       "    const i = window.Bokeh.documents.indexOf(doc);\n",
       "    if (i > -1) {\n",
       "      window.Bokeh.documents.splice(i, 1);\n",
       "    }\n",
       "  }\n",
       "}\n",
       "\n",
       "/**\n",
       " * Handle kernel restart event\n",
       " */\n",
       "function handle_kernel_cleanup(event, handle) {\n",
       "  delete PyViz.comms[\"hv-extension-comm\"];\n",
       "  window.PyViz.plot_index = {}\n",
       "}\n",
       "\n",
       "/**\n",
       " * Handle update_display_data messages\n",
       " */\n",
       "function handle_update_output(event, handle) {\n",
       "  handle_clear_output(event, {cell: {output_area: handle.output_area}})\n",
       "  handle_add_output(event, handle)\n",
       "}\n",
       "\n",
       "function register_renderer(events, OutputArea) {\n",
       "  function append_mime(data, metadata, element) {\n",
       "    // create a DOM node to render to\n",
       "    var toinsert = this.create_output_subarea(\n",
       "    metadata,\n",
       "    CLASS_NAME,\n",
       "    EXEC_MIME_TYPE\n",
       "    );\n",
       "    this.keyboard_manager.register_events(toinsert);\n",
       "    // Render to node\n",
       "    var props = {data: data, metadata: metadata[EXEC_MIME_TYPE]};\n",
       "    render(props, toinsert[0]);\n",
       "    element.append(toinsert);\n",
       "    return toinsert\n",
       "  }\n",
       "\n",
       "  events.on('output_added.OutputArea', handle_add_output);\n",
       "  events.on('output_updated.OutputArea', handle_update_output);\n",
       "  events.on('clear_output.CodeCell', handle_clear_output);\n",
       "  events.on('delete.Cell', handle_clear_output);\n",
       "  events.on('kernel_ready.Kernel', handle_kernel_cleanup);\n",
       "\n",
       "  OutputArea.prototype.register_mime_type(EXEC_MIME_TYPE, append_mime, {\n",
       "    safe: true,\n",
       "    index: 0\n",
       "  });\n",
       "}\n",
       "\n",
       "if (window.Jupyter !== undefined) {\n",
       "  try {\n",
       "    var events = require('base/js/events');\n",
       "    var OutputArea = require('notebook/js/outputarea').OutputArea;\n",
       "    if (OutputArea.prototype.mime_types().indexOf(EXEC_MIME_TYPE) == -1) {\n",
       "      register_renderer(events, OutputArea);\n",
       "    }\n",
       "  } catch(err) {\n",
       "  }\n",
       "}\n"
      ],
      "application/vnd.holoviews_load.v0+json": "\nif ((window.PyViz === undefined) || (window.PyViz instanceof HTMLElement)) {\n  window.PyViz = {comms: {}, comm_status:{}, kernels:{}, receivers: {}, plot_index: []}\n}\n\n\n    function JupyterCommManager() {\n    }\n\n    JupyterCommManager.prototype.register_target = function(plot_id, comm_id, msg_handler) {\n      if (window.comm_manager || ((window.Jupyter !== undefined) && (Jupyter.notebook.kernel != null))) {\n        var comm_manager = window.comm_manager || Jupyter.notebook.kernel.comm_manager;\n        comm_manager.register_target(comm_id, function(comm) {\n          comm.on_msg(msg_handler);\n        });\n      } else if ((plot_id in window.PyViz.kernels) && (window.PyViz.kernels[plot_id])) {\n        window.PyViz.kernels[plot_id].registerCommTarget(comm_id, function(comm) {\n          comm.onMsg = msg_handler;\n        });\n      } else if (typeof google != 'undefined' && google.colab.kernel != null) {\n        google.colab.kernel.comms.registerTarget(comm_id, (comm) => {\n          var messages = comm.messages[Symbol.asyncIterator]();\n          function processIteratorResult(result) {\n            var message = result.value;\n            console.log(message)\n            var content = {data: message.data, comm_id};\n            var buffers = []\n            for (var buffer of message.buffers || []) {\n              buffers.push(new DataView(buffer))\n            }\n            var metadata = message.metadata || {};\n            var msg = {content, buffers, metadata}\n            msg_handler(msg);\n            return messages.next().then(processIteratorResult);\n          }\n          return messages.next().then(processIteratorResult);\n        })\n      }\n    }\n\n    JupyterCommManager.prototype.get_client_comm = function(plot_id, comm_id, msg_handler) {\n      if (comm_id in window.PyViz.comms) {\n        return window.PyViz.comms[comm_id];\n      } else if (window.comm_manager || ((window.Jupyter !== undefined) && (Jupyter.notebook.kernel != null))) {\n        var comm_manager = window.comm_manager || Jupyter.notebook.kernel.comm_manager;\n        var comm = comm_manager.new_comm(comm_id, {}, {}, {}, comm_id);\n        if (msg_handler) {\n          comm.on_msg(msg_handler);\n        }\n      } else if ((plot_id in window.PyViz.kernels) && (window.PyViz.kernels[plot_id])) {\n        var comm = window.PyViz.kernels[plot_id].connectToComm(comm_id);\n        comm.open();\n        if (msg_handler) {\n          comm.onMsg = msg_handler;\n        }\n      } else if (typeof google != 'undefined' && google.colab.kernel != null) {\n        var comm_promise = google.colab.kernel.comms.open(comm_id)\n        comm_promise.then((comm) => {\n          window.PyViz.comms[comm_id] = comm;\n          if (msg_handler) {\n            var messages = comm.messages[Symbol.asyncIterator]();\n            function processIteratorResult(result) {\n              var message = result.value;\n              var content = {data: message.data};\n              var metadata = message.metadata || {comm_id};\n              var msg = {content, metadata}\n              msg_handler(msg);\n              return messages.next().then(processIteratorResult);\n            }\n            return messages.next().then(processIteratorResult);\n          }\n        }) \n        var sendClosure = (data, metadata, buffers, disposeOnDone) => {\n          return comm_promise.then((comm) => {\n            comm.send(data, metadata, buffers, disposeOnDone);\n          });\n        };\n        var comm = {\n          send: sendClosure\n        };\n      }\n      window.PyViz.comms[comm_id] = comm;\n      return comm;\n    }\n    window.PyViz.comm_manager = new JupyterCommManager();\n    \n\n\nvar JS_MIME_TYPE = 'application/javascript';\nvar HTML_MIME_TYPE = 'text/html';\nvar EXEC_MIME_TYPE = 'application/vnd.holoviews_exec.v0+json';\nvar CLASS_NAME = 'output';\n\n/**\n * Render data to the DOM node\n */\nfunction render(props, node) {\n  var div = document.createElement(\"div\");\n  var script = document.createElement(\"script\");\n  node.appendChild(div);\n  node.appendChild(script);\n}\n\n/**\n * Handle when a new output is added\n */\nfunction handle_add_output(event, handle) {\n  var output_area = handle.output_area;\n  var output = handle.output;\n  if ((output.data == undefined) || (!output.data.hasOwnProperty(EXEC_MIME_TYPE))) {\n    return\n  }\n  var id = output.metadata[EXEC_MIME_TYPE][\"id\"];\n  var toinsert = output_area.element.find(\".\" + CLASS_NAME.split(' ')[0]);\n  if (id !== undefined) {\n    var nchildren = toinsert.length;\n    var html_node = toinsert[nchildren-1].children[0];\n    html_node.innerHTML = output.data[HTML_MIME_TYPE];\n    var scripts = [];\n    var nodelist = html_node.querySelectorAll(\"script\");\n    for (var i in nodelist) {\n      if (nodelist.hasOwnProperty(i)) {\n        scripts.push(nodelist[i])\n      }\n    }\n\n    scripts.forEach( function (oldScript) {\n      var newScript = document.createElement(\"script\");\n      var attrs = [];\n      var nodemap = oldScript.attributes;\n      for (var j in nodemap) {\n        if (nodemap.hasOwnProperty(j)) {\n          attrs.push(nodemap[j])\n        }\n      }\n      attrs.forEach(function(attr) { newScript.setAttribute(attr.name, attr.value) });\n      newScript.appendChild(document.createTextNode(oldScript.innerHTML));\n      oldScript.parentNode.replaceChild(newScript, oldScript);\n    });\n    if (JS_MIME_TYPE in output.data) {\n      toinsert[nchildren-1].children[1].textContent = output.data[JS_MIME_TYPE];\n    }\n    output_area._hv_plot_id = id;\n    if ((window.Bokeh !== undefined) && (id in Bokeh.index)) {\n      window.PyViz.plot_index[id] = Bokeh.index[id];\n    } else {\n      window.PyViz.plot_index[id] = null;\n    }\n  } else if (output.metadata[EXEC_MIME_TYPE][\"server_id\"] !== undefined) {\n    var bk_div = document.createElement(\"div\");\n    bk_div.innerHTML = output.data[HTML_MIME_TYPE];\n    var script_attrs = bk_div.children[0].attributes;\n    for (var i = 0; i < script_attrs.length; i++) {\n      toinsert[toinsert.length - 1].childNodes[1].setAttribute(script_attrs[i].name, script_attrs[i].value);\n    }\n    // store reference to server id on output_area\n    output_area._bokeh_server_id = output.metadata[EXEC_MIME_TYPE][\"server_id\"];\n  }\n}\n\n/**\n * Handle when an output is cleared or removed\n */\nfunction handle_clear_output(event, handle) {\n  var id = handle.cell.output_area._hv_plot_id;\n  var server_id = handle.cell.output_area._bokeh_server_id;\n  if (((id === undefined) || !(id in PyViz.plot_index)) && (server_id !== undefined)) { return; }\n  var comm = window.PyViz.comm_manager.get_client_comm(\"hv-extension-comm\", \"hv-extension-comm\", function () {});\n  if (server_id !== null) {\n    comm.send({event_type: 'server_delete', 'id': server_id});\n    return;\n  } else if (comm !== null) {\n    comm.send({event_type: 'delete', 'id': id});\n  }\n  delete PyViz.plot_index[id];\n  if ((window.Bokeh !== undefined) & (id in window.Bokeh.index)) {\n    var doc = window.Bokeh.index[id].model.document\n    doc.clear();\n    const i = window.Bokeh.documents.indexOf(doc);\n    if (i > -1) {\n      window.Bokeh.documents.splice(i, 1);\n    }\n  }\n}\n\n/**\n * Handle kernel restart event\n */\nfunction handle_kernel_cleanup(event, handle) {\n  delete PyViz.comms[\"hv-extension-comm\"];\n  window.PyViz.plot_index = {}\n}\n\n/**\n * Handle update_display_data messages\n */\nfunction handle_update_output(event, handle) {\n  handle_clear_output(event, {cell: {output_area: handle.output_area}})\n  handle_add_output(event, handle)\n}\n\nfunction register_renderer(events, OutputArea) {\n  function append_mime(data, metadata, element) {\n    // create a DOM node to render to\n    var toinsert = this.create_output_subarea(\n    metadata,\n    CLASS_NAME,\n    EXEC_MIME_TYPE\n    );\n    this.keyboard_manager.register_events(toinsert);\n    // Render to node\n    var props = {data: data, metadata: metadata[EXEC_MIME_TYPE]};\n    render(props, toinsert[0]);\n    element.append(toinsert);\n    return toinsert\n  }\n\n  events.on('output_added.OutputArea', handle_add_output);\n  events.on('output_updated.OutputArea', handle_update_output);\n  events.on('clear_output.CodeCell', handle_clear_output);\n  events.on('delete.Cell', handle_clear_output);\n  events.on('kernel_ready.Kernel', handle_kernel_cleanup);\n\n  OutputArea.prototype.register_mime_type(EXEC_MIME_TYPE, append_mime, {\n    safe: true,\n    index: 0\n  });\n}\n\nif (window.Jupyter !== undefined) {\n  try {\n    var events = require('base/js/events');\n    var OutputArea = require('notebook/js/outputarea').OutputArea;\n    if (OutputArea.prototype.mime_types().indexOf(EXEC_MIME_TYPE) == -1) {\n      register_renderer(events, OutputArea);\n    }\n  } catch(err) {\n  }\n}\n"
     },
     "metadata": {},
     "output_type": "display_data"
    },
    {
     "data": {
      "text/plain": [
       "583000"
      ]
     },
     "execution_count": 1,
     "metadata": {},
     "output_type": "execute_result"
    }
   ],
   "source": [
    "import calendar\n",
    "import pandas as pd\n",
    "import panel as pn\n",
    "from datetime import date, timedelta\n",
    "from sqlalchemy import create_engine\n",
    "from itables import init_notebook_mode, show\n",
    "init_notebook_mode(all_interactive=False)\n",
    "\n",
    "pn.extension('tabulator')\n",
    "\n",
    "engine = create_engine(\"sqlite:///c:\\\\ruby\\\\port_lite\\\\db\\\\development.sqlite3\")\n",
    "conlite = engine.connect()\n",
    "\n",
    "data_path = \"../data/\"\n",
    "csv_path = \"\\\\Users\\\\User\\\\iCloudDrive\\\\\"\n",
    "box_path = \"\\\\Users\\\\User\\\\Dropbox\\\\\"\n",
    "\n",
    "cash = 583_000\n",
    "cash"
   ]
  },
  {
   "cell_type": "code",
   "execution_count": 2,
   "metadata": {},
   "outputs": [],
   "source": [
    "cols = 'trade name qty price active reason market'.split()\n",
    "colt = 'trans name qty target active spd current change percent'.split()"
   ]
  },
  {
   "cell_type": "code",
   "execution_count": 3,
   "metadata": {},
   "outputs": [],
   "source": [
    "format_dict = {\n",
    "    'qty':'{:,}',\n",
    "    'price':'{:.2f}','target':'{:.2f}','current':'{:.2f}','change':'{:.2f}','diff':'{:.2f}',\n",
    "    'amount':'{:,.2f}','sell_amt':'{:,.2f}'\n",
    "}"
   ]
  },
  {
   "cell_type": "code",
   "execution_count": 4,
   "metadata": {},
   "outputs": [
    {
     "data": {
      "text/html": [
       "<style type=\"text/css\">\n",
       "</style>\n",
       "<table id=\"T_9ab74_\">\n",
       "  <thead>\n",
       "    <tr>\n",
       "      <th class=\"blank level0\" >&nbsp;</th>\n",
       "      <th class=\"col_heading level0 col0\" >id</th>\n",
       "      <th class=\"col_heading level0 col1\" >trade</th>\n",
       "      <th class=\"col_heading level0 col2\" >name</th>\n",
       "      <th class=\"col_heading level0 col3\" >qty</th>\n",
       "      <th class=\"col_heading level0 col4\" >price</th>\n",
       "      <th class=\"col_heading level0 col5\" >active</th>\n",
       "      <th class=\"col_heading level0 col6\" >reason</th>\n",
       "      <th class=\"col_heading level0 col7\" >market</th>\n",
       "    </tr>\n",
       "  </thead>\n",
       "  <tbody>\n",
       "    <tr>\n",
       "      <th id=\"T_9ab74_level0_row0\" class=\"row_heading level0 row0\" >0</th>\n",
       "      <td id=\"T_9ab74_row0_col0\" class=\"data row0 col0\" >30</td>\n",
       "      <td id=\"T_9ab74_row0_col1\" class=\"data row0 col1\" >B</td>\n",
       "      <td id=\"T_9ab74_row0_col2\" class=\"data row0 col2\" >RCL</td>\n",
       "      <td id=\"T_9ab74_row0_col3\" class=\"data row0 col3\" >1,500</td>\n",
       "      <td id=\"T_9ab74_row0_col4\" class=\"data row0 col4\" >50.00</td>\n",
       "      <td id=\"T_9ab74_row0_col5\" class=\"data row0 col5\" >2</td>\n",
       "      <td id=\"T_9ab74_row0_col6\" class=\"data row0 col6\" >ROUND</td>\n",
       "      <td id=\"T_9ab74_row0_col7\" class=\"data row0 col7\" >SET100</td>\n",
       "    </tr>\n",
       "  </tbody>\n",
       "</table>\n"
      ],
      "text/plain": [
       "<pandas.io.formats.style.Styler at 0x1987c099310>"
      ]
     },
     "execution_count": 4,
     "metadata": {},
     "output_type": "execute_result"
    }
   ],
   "source": [
    "pd.read_sql_query('SELECT * FROM orders ORDER BY id DESC LIMIT 1', conlite).style.format(format_dict)"
   ]
  },
  {
   "cell_type": "markdown",
   "metadata": {},
   "source": [
    "### Print to verify before upload file"
   ]
  },
  {
   "cell_type": "code",
   "execution_count": 37,
   "metadata": {
    "scrolled": false
   },
   "outputs": [
    {
     "data": {},
     "metadata": {},
     "output_type": "display_data"
    },
    {
     "data": {
      "application/vnd.holoviews_exec.v0+json": "",
      "text/html": [
       "<div id='1324'>\n",
       "\n",
       "\n",
       "\n",
       "\n",
       "\n",
       "  <div class=\"bk-root\" id=\"4fcf13a1-3e94-412c-9d40-b356dc878b57\" data-root-id=\"1324\"></div>\n",
       "</div>\n",
       "<script type=\"application/javascript\">(function(root) {\n",
       "  function embed_document(root) {\n",
       "    var docs_json = {\"51309bc7-184d-4680-bcbe-4112315ba33e\":{\"defs\":[{\"extends\":null,\"module\":null,\"name\":\"ReactiveHTML1\",\"overrides\":[],\"properties\":[]},{\"extends\":null,\"module\":null,\"name\":\"FlexBox1\",\"overrides\":[],\"properties\":[{\"default\":\"flex-start\",\"kind\":null,\"name\":\"align_content\"},{\"default\":\"flex-start\",\"kind\":null,\"name\":\"align_items\"},{\"default\":\"row\",\"kind\":null,\"name\":\"flex_direction\"},{\"default\":\"wrap\",\"kind\":null,\"name\":\"flex_wrap\"},{\"default\":\"flex-start\",\"kind\":null,\"name\":\"justify_content\"}]},{\"extends\":null,\"module\":null,\"name\":\"TemplateActions1\",\"overrides\":[],\"properties\":[{\"default\":0,\"kind\":null,\"name\":\"open_modal\"},{\"default\":0,\"kind\":null,\"name\":\"close_modal\"}]},{\"extends\":null,\"module\":null,\"name\":\"MaterialTemplateActions1\",\"overrides\":[],\"properties\":[{\"default\":0,\"kind\":null,\"name\":\"open_modal\"},{\"default\":0,\"kind\":null,\"name\":\"close_modal\"}]}],\"roots\":{\"references\":[{\"attributes\":{},\"id\":\"1319\",\"type\":\"NumberFormatter\"},{\"attributes\":{},\"id\":\"1285\",\"type\":\"StringEditor\"},{\"attributes\":{},\"id\":\"1326\",\"type\":\"UnionRenderers\"},{\"attributes\":{},\"id\":\"1310\",\"type\":\"StringEditor\"},{\"attributes\":{\"editor\":{\"id\":\"1315\"},\"field\":\"market\",\"formatter\":{\"id\":\"1314\"},\"title\":\"market\",\"width\":0},\"id\":\"1316\",\"type\":\"TableColumn\"},{\"attributes\":{},\"id\":\"1305\",\"type\":\"NumberEditor\"},{\"attributes\":{\"format\":\"0,0.0[00000]\"},\"id\":\"1299\",\"type\":\"NumberFormatter\"},{\"attributes\":{},\"id\":\"1300\",\"type\":\"NumberEditor\"},{\"attributes\":{},\"id\":\"1278\",\"type\":\"NumberFormatter\"},{\"attributes\":{},\"id\":\"1289\",\"type\":\"StringFormatter\"},{\"attributes\":{},\"id\":\"1309\",\"type\":\"StringFormatter\"},{\"attributes\":{\"editor\":{\"id\":\"1305\"},\"field\":\"amount\",\"formatter\":{\"id\":\"1304\"},\"title\":\"amount\",\"width\":0},\"id\":\"1306\",\"type\":\"TableColumn\"},{\"attributes\":{},\"id\":\"1320\",\"type\":\"IntEditor\"},{\"attributes\":{},\"id\":\"1284\",\"type\":\"StringFormatter\"},{\"attributes\":{\"editor\":{\"id\":\"1285\"},\"field\":\"trade\",\"formatter\":{\"id\":\"1284\"},\"title\":\"trade\",\"width\":0},\"id\":\"1286\",\"type\":\"TableColumn\"},{\"attributes\":{},\"id\":\"1290\",\"type\":\"StringEditor\"},{\"attributes\":{},\"id\":\"1295\",\"type\":\"IntEditor\"},{\"attributes\":{\"editor\":{\"id\":\"1280\"},\"field\":\"index\",\"formatter\":{\"id\":\"1278\"},\"title\":\"index\",\"width\":0},\"id\":\"1281\",\"type\":\"TableColumn\"},{\"attributes\":{\"editor\":{\"id\":\"1290\"},\"field\":\"name\",\"formatter\":{\"id\":\"1289\"},\"title\":\"name\",\"width\":0},\"id\":\"1291\",\"type\":\"TableColumn\"},{\"attributes\":{},\"id\":\"1314\",\"type\":\"StringFormatter\"},{\"attributes\":{\"columns\":[{\"id\":\"1281\"},{\"id\":\"1286\"},{\"id\":\"1291\"},{\"id\":\"1296\"},{\"id\":\"1301\"},{\"id\":\"1306\"},{\"id\":\"1311\"},{\"id\":\"1316\"},{\"id\":\"1321\"}],\"configuration\":{\"columns\":[{\"field\":\"index\"},{\"field\":\"trade\"},{\"field\":\"name\"},{\"field\":\"qty\"},{\"field\":\"price\"},{\"field\":\"amount\"},{\"field\":\"reason\"},{\"field\":\"market\"},{\"field\":\"active\"}],\"dataTree\":false,\"selectable\":true},\"height\":930,\"indexes\":[\"index\"],\"margin\":[5,10,5,10],\"name\":\"\",\"page\":1,\"page_size\":20,\"selectable_rows\":null,\"source\":{\"id\":\"1276\"},\"width\":800},\"id\":\"1324\",\"type\":\"panel.models.tabulator.DataTabulator\"},{\"attributes\":{},\"id\":\"1294\",\"type\":\"NumberFormatter\"},{\"attributes\":{\"editor\":{\"id\":\"1310\"},\"field\":\"reason\",\"formatter\":{\"id\":\"1309\"},\"title\":\"reason\",\"width\":0},\"id\":\"1311\",\"type\":\"TableColumn\"},{\"attributes\":{\"editor\":{\"id\":\"1295\"},\"field\":\"qty\",\"formatter\":{\"id\":\"1294\"},\"title\":\"qty\",\"width\":0},\"id\":\"1296\",\"type\":\"TableColumn\"},{\"attributes\":{\"client_comm_id\":\"26c6b7e76b8c48b19e256120189fadee\",\"comm_id\":\"b315e6b180a54664aa4dc63dee85cb42\",\"plot_id\":\"1324\"},\"id\":\"1332\",\"type\":\"panel.models.comm_manager.CommManager\"},{\"attributes\":{\"editor\":{\"id\":\"1300\"},\"field\":\"price\",\"formatter\":{\"id\":\"1299\"},\"title\":\"price\",\"width\":0},\"id\":\"1301\",\"type\":\"TableColumn\"},{\"attributes\":{},\"id\":\"1280\",\"type\":\"CellEditor\"},{\"attributes\":{\"data\":{\"active\":[1,2,0,0,1,2,1,0,0,0,0,1,1,0,0,1,1,1,1,1,1,1,2,0,1,2,1,1,0,1],\"amount\":{\"__ndarray__\":\"AAAAAABq+EAAAAAAgMYDQf////8f/v1AAAAAAMC7+kAAAAAAoE//QAAAAACAT/JAAAAAAICv+0AAAAAAABfxQAAAAACAoglBAAAAAEASB0EAAAAAgDPvQAAAAAAAXvpAAAAAAADg2kAAAAAAgB/6QAAAAAAAw/5AAAAAAIDl4kAAAAAAwD7qQAAAAACAfu9AAAAAAMBC8UAAAAAAYH4CQQAAAAAAZf1AAAAAAMB0AUEAAAAAgCPxQAAAAADgjOpAAAAAAKDS7kAAAAAAYAfxQAAAAACAGetAAAAAAEAkBEEAAAAAAO//QAAAAAAAIPxA\",\"dtype\":\"float64\",\"order\":\"little\",\"shape\":[30]},\"index\":[0,1,2,3,4,5,6,7,8,9,10,11,12,13,14,15,16,17,18,19,20,21,22,23,24,25,26,27,28,29],\"market\":[\"SET\",\"SET50\",\"SET\",\"SET50\",\"SET50\",\"SET100\",\"SET\",\"SET50\",\"SET100\",\"SET50\",\"SET\",\"SET\",\"SET\",\"SET100\",\"SET50\",\"SET\",\"SET50\",\"mai\",\"mai\",\"SET50\",\"SET50\",\"SET\",\"SET\",\"SET\",\"SET\",\"SET\",\"SET100\",\"SET50\",\"SET50\",\"SET\"],\"name\":[\"BGC\",\"KCE\",\"NOBLE\",\"PTT\",\"RATCH\",\"RCL\",\"ROJNA\",\"STA\",\"TCAP\",\"TISCO\",\"TSTH\",\"TVO\",\"TYCN\",\"BCH\",\"BGRIM\",\"EPG\",\"GLOBAL\",\"IMH\",\"IP\",\"IVL\",\"KBANK\",\"LPF\",\"NER\",\"RJH\",\"SAT\",\"SIS\",\"SYNEX\",\"TOP\",\"TU\",\"WHART\"],\"price\":{\"__ndarray__\":\"AAAAAAAAJEAAAAAAAEBUQGZmZmZmZhdAAAAAAABAQkAAAAAAAGBFQAAAAAAAAElAMzMzMzMzGUAAAAAAAAA8QAAAAAAAgEFAAAAAAACgV0C4HoXrUbj2PwAAAAAAAD5AhetRuB6FC0BmZmZmZmY1QAAAAAAAAEVAzczMzMzMKUAAAAAAAIA1QAAAAAAAgDVAMzMzMzMzNEAAAAAAAEBJQAAAAAAA0GJAmpmZmZmZLEAzMzMzMzMfQAAAAAAAIEJAAAAAAABAOUAAAAAAAEBHQAAAAAAAgEJAAAAAAACAS0DNzMzMzMw1QJqZmZmZmSlA\",\"dtype\":\"float64\",\"order\":\"little\",\"shape\":[30]},\"qty\":[10000,2000,21000,3000,3000,1500,18000,2500,6000,2000,45000,3600,8000,5000,3000,3000,2500,3000,3500,3000,800,10000,9000,1500,2500,1500,1500,3000,6000,9000],\"reason\":[\"DOS\",\"RD07p\",\"RD15%\",\"RD05%\",\"RD05%\",\"ROUND\",\"6L\",\"RD15%\",\"1L\",\"CP1S\",\"RD05pct\",\"DOS\",\"RD05pct\",\"CP1S\",\"5%\",\"15pct\",\"5%\",\"24H\",\"15pct\",\"20%\",\"10pct\",\"DOS\",\"5pct\",\"10pct\",\"24H\",\"15pct\",\"5%\",\"10pct\",\"5%\",\"DOS\"],\"trade\":[\"B\",\"B\",\"B\",\"B\",\"B\",\"B\",\"B\",\"B\",\"B\",\"B\",\"B\",\"B\",\"B\",\"S\",\"S\",\"S\",\"S\",\"S\",\"S\",\"S\",\"S\",\"S\",\"S\",\"S\",\"S\",\"S\",\"S\",\"S\",\"S\",\"S\"]},\"selected\":{\"id\":\"1277\"},\"selection_policy\":{\"id\":\"1326\"}},\"id\":\"1276\",\"type\":\"ColumnDataSource\"},{\"attributes\":{\"indices\":[]},\"id\":\"1277\",\"type\":\"Selection\"},{\"attributes\":{},\"id\":\"1315\",\"type\":\"StringEditor\"},{\"attributes\":{\"format\":\"0,0.0[00000]\"},\"id\":\"1304\",\"type\":\"NumberFormatter\"},{\"attributes\":{\"editor\":{\"id\":\"1320\"},\"field\":\"active\",\"formatter\":{\"id\":\"1319\"},\"title\":\"active\",\"width\":0},\"id\":\"1321\",\"type\":\"TableColumn\"}],\"root_ids\":[\"1324\",\"1332\"]},\"title\":\"Bokeh Application\",\"version\":\"2.3.3\"}};\n",
       "    var render_items = [{\"docid\":\"51309bc7-184d-4680-bcbe-4112315ba33e\",\"root_ids\":[\"1324\"],\"roots\":{\"1324\":\"4fcf13a1-3e94-412c-9d40-b356dc878b57\"}}];\n",
       "    root.Bokeh.embed.embed_items_notebook(docs_json, render_items);\n",
       "  }\n",
       "  if (root.Bokeh !== undefined && root.Bokeh.Panel !== undefined && ( root['Tabulator'] !== undefined)) {\n",
       "    embed_document(root);\n",
       "  } else {\n",
       "    var attempts = 0;\n",
       "    var timer = setInterval(function(root) {\n",
       "      if (root.Bokeh !== undefined && root.Bokeh.Panel !== undefined && (root['Tabulator'] !== undefined)) {\n",
       "        clearInterval(timer);\n",
       "        embed_document(root);\n",
       "      } else if (document.readyState == \"complete\") {\n",
       "        attempts++;\n",
       "        if (attempts > 200) {\n",
       "          clearInterval(timer);\n",
       "          console.log(\"Bokeh: ERROR: Unable to run BokehJS code because BokehJS library is missing\");\n",
       "        }\n",
       "      }\n",
       "    }, 25, root)\n",
       "  }\n",
       "})(window);</script>"
      ],
      "text/plain": [
       "Tabulator(layout='fit_data', value=   trade    name  ..., width=800)"
      ]
     },
     "execution_count": 37,
     "metadata": {
      "application/vnd.holoviews_exec.v0+json": {
       "id": "1324"
      }
     },
     "output_type": "execute_result"
    }
   ],
   "source": [
    "sql = '''\n",
    "SELECT trade, name, qty, price, qty * price AS amount, reason, market, active\n",
    "FROM orders\n",
    "ORDER BY trade, name'''\n",
    "orders = pd.read_sql(sql, conlite)\n",
    "df_tab = pn.widgets.Tabulator(orders, layout='fit_data', width=800)\n",
    "df_tab"
   ]
  },
  {
   "cell_type": "code",
   "execution_count": 38,
   "metadata": {
    "scrolled": true
   },
   "outputs": [],
   "source": [
    "file_name = 'orders.csv'\n",
    "data_file = data_path + file_name\n",
    "output_file = csv_path + file_name\n",
    "box_file = box_path + file_name\n",
    "\n",
    "orders[cols].to_csv(output_file, header=True, index=False)\n",
    "orders[cols].to_csv(data_file, header=True, index=False)\n",
    "orders[cols].to_csv(box_file, header=True, index=False)"
   ]
  },
  {
   "cell_type": "markdown",
   "metadata": {},
   "source": [
    "### End of transactional process"
   ]
  },
  {
   "cell_type": "code",
   "execution_count": 13,
   "metadata": {
    "scrolled": false
   },
   "outputs": [
    {
     "data": {
      "text/html": [
       "<style type=\"text/css\">\n",
       "</style>\n",
       "<table id=\"T_a86e9_\">\n",
       "  <thead>\n",
       "    <tr>\n",
       "      <th class=\"blank level0\" >&nbsp;</th>\n",
       "      <th class=\"col_heading level0 col0\" >trade</th>\n",
       "      <th class=\"col_heading level0 col1\" >name</th>\n",
       "      <th class=\"col_heading level0 col2\" >qty</th>\n",
       "      <th class=\"col_heading level0 col3\" >price</th>\n",
       "      <th class=\"col_heading level0 col4\" >amount</th>\n",
       "      <th class=\"col_heading level0 col5\" >reason</th>\n",
       "      <th class=\"col_heading level0 col6\" >market</th>\n",
       "      <th class=\"col_heading level0 col7\" >active</th>\n",
       "    </tr>\n",
       "  </thead>\n",
       "  <tbody>\n",
       "    <tr>\n",
       "      <th id=\"T_a86e9_level0_row0\" class=\"row_heading level0 row0\" >0</th>\n",
       "      <td id=\"T_a86e9_row0_col0\" class=\"data row0 col0\" >B</td>\n",
       "      <td id=\"T_a86e9_row0_col1\" class=\"data row0 col1\" >KCE</td>\n",
       "      <td id=\"T_a86e9_row0_col2\" class=\"data row0 col2\" >2,000</td>\n",
       "      <td id=\"T_a86e9_row0_col3\" class=\"data row0 col3\" >81.00</td>\n",
       "      <td id=\"T_a86e9_row0_col4\" class=\"data row0 col4\" >162,000.00</td>\n",
       "      <td id=\"T_a86e9_row0_col5\" class=\"data row0 col5\" >RD07p</td>\n",
       "      <td id=\"T_a86e9_row0_col6\" class=\"data row0 col6\" >SET50</td>\n",
       "      <td id=\"T_a86e9_row0_col7\" class=\"data row0 col7\" >2</td>\n",
       "    </tr>\n",
       "    <tr>\n",
       "      <th id=\"T_a86e9_level0_row1\" class=\"row_heading level0 row1\" >1</th>\n",
       "      <td id=\"T_a86e9_row1_col0\" class=\"data row1 col0\" >B</td>\n",
       "      <td id=\"T_a86e9_row1_col1\" class=\"data row1 col1\" >RCL</td>\n",
       "      <td id=\"T_a86e9_row1_col2\" class=\"data row1 col2\" >1,500</td>\n",
       "      <td id=\"T_a86e9_row1_col3\" class=\"data row1 col3\" >50.00</td>\n",
       "      <td id=\"T_a86e9_row1_col4\" class=\"data row1 col4\" >75,000.00</td>\n",
       "      <td id=\"T_a86e9_row1_col5\" class=\"data row1 col5\" >ROUND</td>\n",
       "      <td id=\"T_a86e9_row1_col6\" class=\"data row1 col6\" >SET100</td>\n",
       "      <td id=\"T_a86e9_row1_col7\" class=\"data row1 col7\" >2</td>\n",
       "    </tr>\n",
       "    <tr>\n",
       "      <th id=\"T_a86e9_level0_row2\" class=\"row_heading level0 row2\" >2</th>\n",
       "      <td id=\"T_a86e9_row2_col0\" class=\"data row2 col0\" >S</td>\n",
       "      <td id=\"T_a86e9_row2_col1\" class=\"data row2 col1\" >NER</td>\n",
       "      <td id=\"T_a86e9_row2_col2\" class=\"data row2 col2\" >9,000</td>\n",
       "      <td id=\"T_a86e9_row2_col3\" class=\"data row2 col3\" >7.80</td>\n",
       "      <td id=\"T_a86e9_row2_col4\" class=\"data row2 col4\" >70,200.00</td>\n",
       "      <td id=\"T_a86e9_row2_col5\" class=\"data row2 col5\" >5pct</td>\n",
       "      <td id=\"T_a86e9_row2_col6\" class=\"data row2 col6\" >SET</td>\n",
       "      <td id=\"T_a86e9_row2_col7\" class=\"data row2 col7\" >2</td>\n",
       "    </tr>\n",
       "    <tr>\n",
       "      <th id=\"T_a86e9_level0_row3\" class=\"row_heading level0 row3\" >3</th>\n",
       "      <td id=\"T_a86e9_row3_col0\" class=\"data row3 col0\" >S</td>\n",
       "      <td id=\"T_a86e9_row3_col1\" class=\"data row3 col1\" >SIS</td>\n",
       "      <td id=\"T_a86e9_row3_col2\" class=\"data row3 col2\" >1,500</td>\n",
       "      <td id=\"T_a86e9_row3_col3\" class=\"data row3 col3\" >46.50</td>\n",
       "      <td id=\"T_a86e9_row3_col4\" class=\"data row3 col4\" >69,750.00</td>\n",
       "      <td id=\"T_a86e9_row3_col5\" class=\"data row3 col5\" >15pct</td>\n",
       "      <td id=\"T_a86e9_row3_col6\" class=\"data row3 col6\" >SET</td>\n",
       "      <td id=\"T_a86e9_row3_col7\" class=\"data row3 col7\" >2</td>\n",
       "    </tr>\n",
       "  </tbody>\n",
       "</table>\n"
      ],
      "text/plain": [
       "<pandas.io.formats.style.Styler at 0x19801d89dc0>"
      ]
     },
     "execution_count": 13,
     "metadata": {},
     "output_type": "execute_result"
    }
   ],
   "source": [
    "sql = '''\n",
    "SELECT trade, name, qty, price, qty * price AS amount, reason, market, active\n",
    "FROM orders\n",
    "WHERE active = 2\n",
    "ORDER BY trade, name'''\n",
    "df_act_2 = pd.read_sql(sql, conlite)\n",
    "df_act_2.style.format(format_dict)"
   ]
  },
  {
   "cell_type": "code",
   "execution_count": 14,
   "metadata": {
    "scrolled": true
   },
   "outputs": [
    {
     "data": {
      "text/plain": [
       "trade\n",
       "B    237000.0\n",
       "S    139950.0\n",
       "Name: amount, dtype: float64"
      ]
     },
     "execution_count": 14,
     "metadata": {},
     "output_type": "execute_result"
    }
   ],
   "source": [
    "orders_grp = df_act_2.groupby(['trade'])\n",
    "orders_grp['amount'].sum()"
   ]
  },
  {
   "cell_type": "code",
   "execution_count": 15,
   "metadata": {
    "scrolled": true
   },
   "outputs": [
    {
     "data": {
      "text/html": [
       "<style type=\"text/css\">\n",
       "</style>\n",
       "<table id=\"T_b8dbc_\">\n",
       "  <thead>\n",
       "    <tr>\n",
       "      <th class=\"blank level0\" >&nbsp;</th>\n",
       "      <th class=\"col_heading level0 col0\" >trade</th>\n",
       "      <th class=\"col_heading level0 col1\" >name</th>\n",
       "      <th class=\"col_heading level0 col2\" >qty</th>\n",
       "      <th class=\"col_heading level0 col3\" >price</th>\n",
       "      <th class=\"col_heading level0 col4\" >amount</th>\n",
       "      <th class=\"col_heading level0 col5\" >reason</th>\n",
       "      <th class=\"col_heading level0 col6\" >market</th>\n",
       "      <th class=\"col_heading level0 col7\" >active</th>\n",
       "    </tr>\n",
       "  </thead>\n",
       "  <tbody>\n",
       "    <tr>\n",
       "      <th id=\"T_b8dbc_level0_row0\" class=\"row_heading level0 row0\" >0</th>\n",
       "      <td id=\"T_b8dbc_row0_col0\" class=\"data row0 col0\" >B</td>\n",
       "      <td id=\"T_b8dbc_row0_col1\" class=\"data row0 col1\" >KCE</td>\n",
       "      <td id=\"T_b8dbc_row0_col2\" class=\"data row0 col2\" >2,000</td>\n",
       "      <td id=\"T_b8dbc_row0_col3\" class=\"data row0 col3\" >81.00</td>\n",
       "      <td id=\"T_b8dbc_row0_col4\" class=\"data row0 col4\" >162,000.00</td>\n",
       "      <td id=\"T_b8dbc_row0_col5\" class=\"data row0 col5\" >RD07p</td>\n",
       "      <td id=\"T_b8dbc_row0_col6\" class=\"data row0 col6\" >SET50</td>\n",
       "      <td id=\"T_b8dbc_row0_col7\" class=\"data row0 col7\" >2</td>\n",
       "    </tr>\n",
       "    <tr>\n",
       "      <th id=\"T_b8dbc_level0_row1\" class=\"row_heading level0 row1\" >1</th>\n",
       "      <td id=\"T_b8dbc_row1_col0\" class=\"data row1 col0\" >B</td>\n",
       "      <td id=\"T_b8dbc_row1_col1\" class=\"data row1 col1\" >RCL</td>\n",
       "      <td id=\"T_b8dbc_row1_col2\" class=\"data row1 col2\" >1,500</td>\n",
       "      <td id=\"T_b8dbc_row1_col3\" class=\"data row1 col3\" >50.00</td>\n",
       "      <td id=\"T_b8dbc_row1_col4\" class=\"data row1 col4\" >75,000.00</td>\n",
       "      <td id=\"T_b8dbc_row1_col5\" class=\"data row1 col5\" >ROUND</td>\n",
       "      <td id=\"T_b8dbc_row1_col6\" class=\"data row1 col6\" >SET100</td>\n",
       "      <td id=\"T_b8dbc_row1_col7\" class=\"data row1 col7\" >2</td>\n",
       "    </tr>\n",
       "  </tbody>\n",
       "</table>\n"
      ],
      "text/plain": [
       "<pandas.io.formats.style.Styler at 0x19801e000d0>"
      ]
     },
     "execution_count": 15,
     "metadata": {},
     "output_type": "execute_result"
    }
   ],
   "source": [
    "mask = df_act_2.trade == 'B'\n",
    "buy_stocks = df_act_2[mask]\n",
    "buy_stocks.style.format(format_dict)"
   ]
  },
  {
   "cell_type": "code",
   "execution_count": 16,
   "metadata": {},
   "outputs": [
    {
     "data": {
      "text/plain": [
       "(583000, 237000.0, 346000.0)"
      ]
     },
     "execution_count": 16,
     "metadata": {},
     "output_type": "execute_result"
    }
   ],
   "source": [
    "buy_amt = buy_stocks.amount.sum()\n",
    "balance = cash - buy_amt \n",
    "cash, buy_amt, balance"
   ]
  },
  {
   "cell_type": "code",
   "execution_count": 17,
   "metadata": {
    "scrolled": false
   },
   "outputs": [
    {
     "data": {
      "text/html": [
       "<style type=\"text/css\">\n",
       "</style>\n",
       "<table id=\"T_a6b24_\">\n",
       "  <thead>\n",
       "    <tr>\n",
       "      <th class=\"blank level0\" >&nbsp;</th>\n",
       "      <th class=\"col_heading level0 col0\" >trade</th>\n",
       "      <th class=\"col_heading level0 col1\" >name</th>\n",
       "      <th class=\"col_heading level0 col2\" >qty</th>\n",
       "      <th class=\"col_heading level0 col3\" >price</th>\n",
       "      <th class=\"col_heading level0 col4\" >amount</th>\n",
       "      <th class=\"col_heading level0 col5\" >reason</th>\n",
       "      <th class=\"col_heading level0 col6\" >market</th>\n",
       "      <th class=\"col_heading level0 col7\" >active</th>\n",
       "    </tr>\n",
       "  </thead>\n",
       "  <tbody>\n",
       "    <tr>\n",
       "      <th id=\"T_a6b24_level0_row0\" class=\"row_heading level0 row0\" >2</th>\n",
       "      <td id=\"T_a6b24_row0_col0\" class=\"data row0 col0\" >S</td>\n",
       "      <td id=\"T_a6b24_row0_col1\" class=\"data row0 col1\" >NER</td>\n",
       "      <td id=\"T_a6b24_row0_col2\" class=\"data row0 col2\" >9,000</td>\n",
       "      <td id=\"T_a6b24_row0_col3\" class=\"data row0 col3\" >7.80</td>\n",
       "      <td id=\"T_a6b24_row0_col4\" class=\"data row0 col4\" >70,200.00</td>\n",
       "      <td id=\"T_a6b24_row0_col5\" class=\"data row0 col5\" >5pct</td>\n",
       "      <td id=\"T_a6b24_row0_col6\" class=\"data row0 col6\" >SET</td>\n",
       "      <td id=\"T_a6b24_row0_col7\" class=\"data row0 col7\" >2</td>\n",
       "    </tr>\n",
       "    <tr>\n",
       "      <th id=\"T_a6b24_level0_row1\" class=\"row_heading level0 row1\" >3</th>\n",
       "      <td id=\"T_a6b24_row1_col0\" class=\"data row1 col0\" >S</td>\n",
       "      <td id=\"T_a6b24_row1_col1\" class=\"data row1 col1\" >SIS</td>\n",
       "      <td id=\"T_a6b24_row1_col2\" class=\"data row1 col2\" >1,500</td>\n",
       "      <td id=\"T_a6b24_row1_col3\" class=\"data row1 col3\" >46.50</td>\n",
       "      <td id=\"T_a6b24_row1_col4\" class=\"data row1 col4\" >69,750.00</td>\n",
       "      <td id=\"T_a6b24_row1_col5\" class=\"data row1 col5\" >15pct</td>\n",
       "      <td id=\"T_a6b24_row1_col6\" class=\"data row1 col6\" >SET</td>\n",
       "      <td id=\"T_a6b24_row1_col7\" class=\"data row1 col7\" >2</td>\n",
       "    </tr>\n",
       "  </tbody>\n",
       "</table>\n"
      ],
      "text/plain": [
       "<pandas.io.formats.style.Styler at 0x19801e00ca0>"
      ]
     },
     "execution_count": 17,
     "metadata": {},
     "output_type": "execute_result"
    }
   ],
   "source": [
    "mask = df_act_2.trade == 'S'\n",
    "sell_stocks = df_act_2[mask]\n",
    "sell_stocks.style.format(format_dict)"
   ]
  },
  {
   "cell_type": "code",
   "execution_count": 18,
   "metadata": {},
   "outputs": [
    {
     "data": {
      "text/plain": [
       "(583000, 139950.0, 722950.0)"
      ]
     },
     "execution_count": 18,
     "metadata": {},
     "output_type": "execute_result"
    }
   ],
   "source": [
    "sell_amt = round(sell_stocks.amount.sum(),2)\n",
    "balance = cash + sell_amt \n",
    "(cash, sell_amt, balance)"
   ]
  },
  {
   "cell_type": "markdown",
   "metadata": {},
   "source": [
    "### After call ord-log (must call everytime that orders change)"
   ]
  },
  {
   "cell_type": "code",
   "execution_count": 19,
   "metadata": {},
   "outputs": [],
   "source": [
    "def categorise(row):  \n",
    "    if row['trade'] == 'B':\n",
    "        return 'Buy'\n",
    "    else:\n",
    "        return 'Sell'"
   ]
  },
  {
   "cell_type": "code",
   "execution_count": 20,
   "metadata": {},
   "outputs": [],
   "source": [
    "df = pd.read_csv('../data/orders-log.csv')\n",
    "df['trans'] = df.apply(lambda row: categorise(row), axis=1)\n",
    "df['amount'] = df.qty * df.target"
   ]
  },
  {
   "cell_type": "code",
   "execution_count": 21,
   "metadata": {
    "scrolled": true
   },
   "outputs": [
    {
     "data": {
      "text/html": [
       "<div><table id=\"d92535c0-12c1-401b-b73e-04731f8540e5\" class=\"display\"><thead>\n",
       "    <tr style=\"text-align: right;\">\n",
       "      \n",
       "      <th>trans</th>\n",
       "      <th>name</th>\n",
       "      <th>spd</th>\n",
       "      <th>reason</th>\n",
       "      <th>qty</th>\n",
       "      <th>target</th>\n",
       "      <th>amount</th>\n",
       "      <th>current</th>\n",
       "      <th>active</th>\n",
       "    </tr>\n",
       "  </thead></table>\n",
       "<script type=\"text/javascript\">\n",
       "require([\"datatables\"], function (datatables) {\n",
       "    $(document).ready(function () {\n",
       "        var dt_args = {\"columnDefs\": [{\"width\": \"70px\", \"targets\": \"_all\"}], \"data\": [[\"Buy\", \"BGC\", -5, \"DOS\", 10000, 10.0, 100000.0, 10.5, 1], [\"Buy\", \"KCE\", -4, \"RD07p\", 2000, 81.0, 162000.0, 82.0, 2], [\"Buy\", \"NOBLE\", -11, \"RD15%\", 21000, 5.85, 122850.0, 6.4, 0], [\"Buy\", \"PTT\", -8, \"RD05%\", 3000, 36.5, 109500.0, 38.5, 0], [\"Buy\", \"RATCH\", -8, \"RD05%\", 3000, 42.75, 128250.0, 44.75, 1], [\"Buy\", \"RCL\", -2, \"ROUND\", 1500, 50.0, 75000.0, 50.5, 2], [\"Buy\", \"ROJNA\", -8, \"6L\", 18000, 6.3, 113400.0, 6.7, 1], [\"Buy\", \"STA\", -15, \"RD15%\", 2500, 28.0, 70000.0, 31.75, 0], [\"Buy\", \"TCAP\", -26, \"1L\", 6000, 35.0, 210000.0, 41.5, 0], [\"Buy\", \"TISCO\", -19, \"CP1S\", 2000, 94.5, 189000.0, 99.25, 0], [\"Buy\", \"TSTH\", -17, \"RD05pct\", 45000, 1.42, 63900.0, 1.59, 0], [\"Buy\", \"TVO\", -7, \"DOS\", 3600, 30.0, 108000.0, 31.75, 1], [\"Buy\", \"TYCN\", -10, \"RD05pct\", 8000, 3.44, 27520.0, 3.64, 1], [\"Sell\", \"BCH\", 15, \"CP1S\", 5000, 21.4, 107000.0, 19.9, 0], [\"Sell\", \"BGRIM\", 13, \"5%\", 3000, 42.0, 126000.0, 38.75, 0], [\"Sell\", \"EPG\", 8, \"15pct\", 3000, 12.9, 38700.0, 12.1, 1], [\"Sell\", \"GLOBAL\", 9, \"5%\", 2500, 21.5, 53750.0, 20.6, 1], [\"Sell\", \"IMH\", 18, \"24H\", 3000, 21.5, 64500.0, 19.7, 1], [\"Sell\", \"IP\", 13, \"15pct\", 3500, 20.2, 70700.0, 18.9, 1], [\"Sell\", \"IVL\", 9, \"20%\", 3000, 50.5, 151500.0, 48.25, 1], [\"Sell\", \"KBANK\", 10, \"10pct\", 800, 150.5, 120400.0, 145.5, 1], [\"Sell\", \"LPF\", 2, \"DOS\", 10000, 14.3, 143000.0, 14.1, 1], [\"Sell\", \"NER\", 4, \"5pct\", 9000, 7.8, 70200.0, 7.6, 2], [\"Sell\", \"RJH\", 14, \"10pct\", 1500, 36.25, 54375.0, 32.75, 0], [\"Sell\", \"SAT\", 7, \"24H\", 2500, 25.25, 63125.0, 24.4, 1], [\"Sell\", \"SIS\", 5, \"15pct\", 1500, 46.5, 69750.0, 45.25, 2], [\"Sell\", \"SYNEX\", 11, \"5%\", 1500, 37.0, 55500.0, 34.25, 1], [\"Sell\", \"TOP\", 12, \"10pct\", 3000, 55.0, 165000.0, 52.0, 1], [\"Sell\", \"TU\", 16, \"5%\", 6000, 21.8, 130800.0, 20.2, 0], [\"Sell\", \"WHART\", 5, \"DOS\", 9000, 12.8, 115200.0, 12.3, 1]]};\n",
       "        dt_args = eval_functions(dt_args);\n",
       "        table = $('#d92535c0-12c1-401b-b73e-04731f8540e5').DataTable(dt_args);\n",
       "    });\n",
       "})\n",
       "</script>\n",
       "</div>\n"
      ],
      "text/plain": [
       "<IPython.core.display.HTML object>"
      ]
     },
     "metadata": {},
     "output_type": "display_data"
    }
   ],
   "source": [
    "show(df[['trans','name','spd','reason','qty','target','amount','current','active']])"
   ]
  },
  {
   "cell_type": "code",
   "execution_count": 22,
   "metadata": {
    "scrolled": false
   },
   "outputs": [
    {
     "data": {
      "text/html": [
       "<style type=\"text/css\">\n",
       "</style>\n",
       "<table id=\"T_b8376_\">\n",
       "  <thead>\n",
       "    <tr>\n",
       "      <th class=\"blank level0\" >&nbsp;</th>\n",
       "      <th class=\"col_heading level0 col0\" >trade</th>\n",
       "      <th class=\"col_heading level0 col1\" >name</th>\n",
       "      <th class=\"col_heading level0 col2\" >spd</th>\n",
       "      <th class=\"col_heading level0 col3\" >reason</th>\n",
       "      <th class=\"col_heading level0 col4\" >market</th>\n",
       "      <th class=\"col_heading level0 col5\" >qty</th>\n",
       "      <th class=\"col_heading level0 col6\" >target</th>\n",
       "      <th class=\"col_heading level0 col7\" >current</th>\n",
       "      <th class=\"col_heading level0 col8\" >change</th>\n",
       "      <th class=\"col_heading level0 col9\" >percent</th>\n",
       "      <th class=\"col_heading level0 col10\" >active</th>\n",
       "      <th class=\"col_heading level0 col11\" >trans</th>\n",
       "      <th class=\"col_heading level0 col12\" >amount</th>\n",
       "    </tr>\n",
       "  </thead>\n",
       "  <tbody>\n",
       "    <tr>\n",
       "      <th id=\"T_b8376_level0_row0\" class=\"row_heading level0 row0\" >1</th>\n",
       "      <td id=\"T_b8376_row0_col0\" class=\"data row0 col0\" >B</td>\n",
       "      <td id=\"T_b8376_row0_col1\" class=\"data row0 col1\" >KCE</td>\n",
       "      <td id=\"T_b8376_row0_col2\" class=\"data row0 col2\" >-4</td>\n",
       "      <td id=\"T_b8376_row0_col3\" class=\"data row0 col3\" >RD07p</td>\n",
       "      <td id=\"T_b8376_row0_col4\" class=\"data row0 col4\" >SET50</td>\n",
       "      <td id=\"T_b8376_row0_col5\" class=\"data row0 col5\" >2,000</td>\n",
       "      <td id=\"T_b8376_row0_col6\" class=\"data row0 col6\" >81.00</td>\n",
       "      <td id=\"T_b8376_row0_col7\" class=\"data row0 col7\" >82.00</td>\n",
       "      <td id=\"T_b8376_row0_col8\" class=\"data row0 col8\" >-2.25</td>\n",
       "      <td id=\"T_b8376_row0_col9\" class=\"data row0 col9\" >-2.67%</td>\n",
       "      <td id=\"T_b8376_row0_col10\" class=\"data row0 col10\" >2</td>\n",
       "      <td id=\"T_b8376_row0_col11\" class=\"data row0 col11\" >Buy</td>\n",
       "      <td id=\"T_b8376_row0_col12\" class=\"data row0 col12\" >162,000.00</td>\n",
       "    </tr>\n",
       "    <tr>\n",
       "      <th id=\"T_b8376_level0_row1\" class=\"row_heading level0 row1\" >5</th>\n",
       "      <td id=\"T_b8376_row1_col0\" class=\"data row1 col0\" >B</td>\n",
       "      <td id=\"T_b8376_row1_col1\" class=\"data row1 col1\" >RCL</td>\n",
       "      <td id=\"T_b8376_row1_col2\" class=\"data row1 col2\" >-2</td>\n",
       "      <td id=\"T_b8376_row1_col3\" class=\"data row1 col3\" >ROUND</td>\n",
       "      <td id=\"T_b8376_row1_col4\" class=\"data row1 col4\" >SET100</td>\n",
       "      <td id=\"T_b8376_row1_col5\" class=\"data row1 col5\" >1,500</td>\n",
       "      <td id=\"T_b8376_row1_col6\" class=\"data row1 col6\" >50.00</td>\n",
       "      <td id=\"T_b8376_row1_col7\" class=\"data row1 col7\" >50.50</td>\n",
       "      <td id=\"T_b8376_row1_col8\" class=\"data row1 col8\" >-2.75</td>\n",
       "      <td id=\"T_b8376_row1_col9\" class=\"data row1 col9\" >-5.16%</td>\n",
       "      <td id=\"T_b8376_row1_col10\" class=\"data row1 col10\" >2</td>\n",
       "      <td id=\"T_b8376_row1_col11\" class=\"data row1 col11\" >Buy</td>\n",
       "      <td id=\"T_b8376_row1_col12\" class=\"data row1 col12\" >75,000.00</td>\n",
       "    </tr>\n",
       "  </tbody>\n",
       "</table>\n"
      ],
      "text/plain": [
       "<pandas.io.formats.style.Styler at 0x19801df3af0>"
      ]
     },
     "execution_count": 22,
     "metadata": {},
     "output_type": "execute_result"
    }
   ],
   "source": [
    "mb = (df.trans == 'Buy') & (df.spd >= -4)\n",
    "df[mb].sort_values(['name'],ascending=[True]).style.format(format_dict)"
   ]
  },
  {
   "cell_type": "code",
   "execution_count": 23,
   "metadata": {
    "scrolled": true
   },
   "outputs": [
    {
     "data": {
      "text/html": [
       "<div><table id=\"77e914d0-8e3f-4e99-a5ce-2e87fd0dfe9c\" class=\"display\"><thead>\n",
       "    <tr style=\"text-align: right;\">\n",
       "      \n",
       "      <th>trans</th>\n",
       "      <th>name</th>\n",
       "      <th>spd</th>\n",
       "      <th>reason</th>\n",
       "      <th>qty</th>\n",
       "      <th>target</th>\n",
       "      <th>current</th>\n",
       "      <th>percent</th>\n",
       "      <th>active</th>\n",
       "    </tr>\n",
       "  </thead></table>\n",
       "<script type=\"text/javascript\">\n",
       "require([\"datatables\"], function (datatables) {\n",
       "    $(document).ready(function () {\n",
       "        var dt_args = {\"columnDefs\": [{\"width\": \"70px\", \"targets\": \"_all\"}], \"data\": [[\"Buy\", \"BGC\", -5, \"DOS\", 10000, 10.0, 10.5, \"-0.94%\", 1], [\"Buy\", \"KCE\", -4, \"RD07p\", 2000, 81.0, 82.0, \"-2.67%\", 2], [\"Buy\", \"NOBLE\", -11, \"RD15%\", 21000, 5.85, 6.4, \"0.00%\", 0], [\"Buy\", \"PTT\", -8, \"RD05%\", 3000, 36.5, 38.5, \"-1.91%\", 0], [\"Buy\", \"RATCH\", -8, \"RD05%\", 3000, 42.75, 44.75, \"0.00%\", 1], [\"Buy\", \"RCL\", -2, \"ROUND\", 1500, 50.0, 50.5, \"-5.16%\", 2], [\"Buy\", \"ROJNA\", -8, \"6L\", 18000, 6.3, 6.7, \"+0.75%\", 1], [\"Buy\", \"STA\", -15, \"RD15%\", 2500, 28.0, 31.75, \"0.00%\", 0], [\"Buy\", \"TCAP\", -26, \"1L\", 6000, 35.0, 41.5, \"+2.47%\", 0], [\"Buy\", \"TISCO\", -19, \"CP1S\", 2000, 94.5, 99.25, \"+1.02%\", 0], [\"Buy\", \"TSTH\", -17, \"RD05pct\", 45000, 1.42, 1.59, \"-0.62%\", 0], [\"Buy\", \"TVO\", -7, \"DOS\", 3600, 30.0, 31.75, \"-0.78%\", 1], [\"Buy\", \"TYCN\", -10, \"RD05pct\", 8000, 3.44, 3.64, \"-1.09%\", 1], [\"Sell\", \"BCH\", 15, \"CP1S\", 5000, 21.4, 19.9, \"-0.50%\", 0], [\"Sell\", \"BGRIM\", 13, \"5%\", 3000, 42.0, 38.75, \"-1.27%\", 0], [\"Sell\", \"EPG\", 8, \"15pct\", 3000, 12.9, 12.1, \"-1.63%\", 1], [\"Sell\", \"GLOBAL\", 9, \"5%\", 2500, 21.5, 20.6, \"-0.96%\", 1], [\"Sell\", \"IMH\", 18, \"24H\", 3000, 21.5, 19.7, \"0.00%\", 1], [\"Sell\", \"IP\", 13, \"15pct\", 3500, 20.2, 18.9, \"-0.53%\", 1], [\"Sell\", \"IVL\", 9, \"20%\", 3000, 50.5, 48.25, \"+0.52%\", 1], [\"Sell\", \"KBANK\", 10, \"10pct\", 800, 150.5, 145.5, \"+0.34%\", 1], [\"Sell\", \"LPF\", 2, \"DOS\", 10000, 14.3, 14.1, \"+0.71%\", 1], [\"Sell\", \"NER\", 4, \"5pct\", 9000, 7.8, 7.6, \"-0.65%\", 2], [\"Sell\", \"RJH\", 14, \"10pct\", 1500, 36.25, 32.75, \"-1.50%\", 0], [\"Sell\", \"SAT\", 7, \"24H\", 2500, 25.25, 24.4, \"-0.41%\", 1], [\"Sell\", \"SIS\", 5, \"15pct\", 1500, 46.5, 45.25, \"+4.02%\", 2], [\"Sell\", \"SYNEX\", 11, \"5%\", 1500, 37.0, 34.25, \"-7.43%\", 1], [\"Sell\", \"TOP\", 12, \"10pct\", 3000, 55.0, 52.0, \"-0.48%\", 1], [\"Sell\", \"TU\", 16, \"5%\", 6000, 21.8, 20.2, \"-0.49%\", 0], [\"Sell\", \"WHART\", 5, \"DOS\", 9000, 12.8, 12.3, \"+1.65%\", 1]]};\n",
       "        dt_args = eval_functions(dt_args);\n",
       "        table = $('#77e914d0-8e3f-4e99-a5ce-2e87fd0dfe9c').DataTable(dt_args);\n",
       "    });\n",
       "})\n",
       "</script>\n",
       "</div>\n"
      ],
      "text/plain": [
       "<IPython.core.display.HTML object>"
      ]
     },
     "metadata": {},
     "output_type": "display_data"
    }
   ],
   "source": [
    "show(df[['trans','name','spd','reason','qty','target','current','percent','active']])"
   ]
  },
  {
   "cell_type": "code",
   "execution_count": 24,
   "metadata": {},
   "outputs": [
    {
     "data": {
      "text/html": [
       "<style type=\"text/css\">\n",
       "</style>\n",
       "<table id=\"T_0a88e_\">\n",
       "  <thead>\n",
       "    <tr>\n",
       "      <th class=\"blank level0\" >&nbsp;</th>\n",
       "      <th class=\"col_heading level0 col0\" >trade</th>\n",
       "      <th class=\"col_heading level0 col1\" >name</th>\n",
       "      <th class=\"col_heading level0 col2\" >spd</th>\n",
       "      <th class=\"col_heading level0 col3\" >reason</th>\n",
       "      <th class=\"col_heading level0 col4\" >market</th>\n",
       "      <th class=\"col_heading level0 col5\" >qty</th>\n",
       "      <th class=\"col_heading level0 col6\" >target</th>\n",
       "      <th class=\"col_heading level0 col7\" >current</th>\n",
       "      <th class=\"col_heading level0 col8\" >change</th>\n",
       "      <th class=\"col_heading level0 col9\" >percent</th>\n",
       "      <th class=\"col_heading level0 col10\" >active</th>\n",
       "      <th class=\"col_heading level0 col11\" >trans</th>\n",
       "      <th class=\"col_heading level0 col12\" >amount</th>\n",
       "    </tr>\n",
       "  </thead>\n",
       "  <tbody>\n",
       "    <tr>\n",
       "      <th id=\"T_0a88e_level0_row0\" class=\"row_heading level0 row0\" >21</th>\n",
       "      <td id=\"T_0a88e_row0_col0\" class=\"data row0 col0\" >S</td>\n",
       "      <td id=\"T_0a88e_row0_col1\" class=\"data row0 col1\" >LPF</td>\n",
       "      <td id=\"T_0a88e_row0_col2\" class=\"data row0 col2\" >2</td>\n",
       "      <td id=\"T_0a88e_row0_col3\" class=\"data row0 col3\" >DOS</td>\n",
       "      <td id=\"T_0a88e_row0_col4\" class=\"data row0 col4\" >SET</td>\n",
       "      <td id=\"T_0a88e_row0_col5\" class=\"data row0 col5\" >10,000</td>\n",
       "      <td id=\"T_0a88e_row0_col6\" class=\"data row0 col6\" >14.30</td>\n",
       "      <td id=\"T_0a88e_row0_col7\" class=\"data row0 col7\" >14.10</td>\n",
       "      <td id=\"T_0a88e_row0_col8\" class=\"data row0 col8\" >0.10</td>\n",
       "      <td id=\"T_0a88e_row0_col9\" class=\"data row0 col9\" >+0.71%</td>\n",
       "      <td id=\"T_0a88e_row0_col10\" class=\"data row0 col10\" >1</td>\n",
       "      <td id=\"T_0a88e_row0_col11\" class=\"data row0 col11\" >Sell</td>\n",
       "      <td id=\"T_0a88e_row0_col12\" class=\"data row0 col12\" >143,000.00</td>\n",
       "    </tr>\n",
       "    <tr>\n",
       "      <th id=\"T_0a88e_level0_row1\" class=\"row_heading level0 row1\" >22</th>\n",
       "      <td id=\"T_0a88e_row1_col0\" class=\"data row1 col0\" >S</td>\n",
       "      <td id=\"T_0a88e_row1_col1\" class=\"data row1 col1\" >NER</td>\n",
       "      <td id=\"T_0a88e_row1_col2\" class=\"data row1 col2\" >4</td>\n",
       "      <td id=\"T_0a88e_row1_col3\" class=\"data row1 col3\" >5pct</td>\n",
       "      <td id=\"T_0a88e_row1_col4\" class=\"data row1 col4\" >SET</td>\n",
       "      <td id=\"T_0a88e_row1_col5\" class=\"data row1 col5\" >9,000</td>\n",
       "      <td id=\"T_0a88e_row1_col6\" class=\"data row1 col6\" >7.80</td>\n",
       "      <td id=\"T_0a88e_row1_col7\" class=\"data row1 col7\" >7.60</td>\n",
       "      <td id=\"T_0a88e_row1_col8\" class=\"data row1 col8\" >-0.05</td>\n",
       "      <td id=\"T_0a88e_row1_col9\" class=\"data row1 col9\" >-0.65%</td>\n",
       "      <td id=\"T_0a88e_row1_col10\" class=\"data row1 col10\" >2</td>\n",
       "      <td id=\"T_0a88e_row1_col11\" class=\"data row1 col11\" >Sell</td>\n",
       "      <td id=\"T_0a88e_row1_col12\" class=\"data row1 col12\" >70,200.00</td>\n",
       "    </tr>\n",
       "    <tr>\n",
       "      <th id=\"T_0a88e_level0_row2\" class=\"row_heading level0 row2\" >25</th>\n",
       "      <td id=\"T_0a88e_row2_col0\" class=\"data row2 col0\" >S</td>\n",
       "      <td id=\"T_0a88e_row2_col1\" class=\"data row2 col1\" >SIS</td>\n",
       "      <td id=\"T_0a88e_row2_col2\" class=\"data row2 col2\" >5</td>\n",
       "      <td id=\"T_0a88e_row2_col3\" class=\"data row2 col3\" >15pct</td>\n",
       "      <td id=\"T_0a88e_row2_col4\" class=\"data row2 col4\" >SET</td>\n",
       "      <td id=\"T_0a88e_row2_col5\" class=\"data row2 col5\" >1,500</td>\n",
       "      <td id=\"T_0a88e_row2_col6\" class=\"data row2 col6\" >46.50</td>\n",
       "      <td id=\"T_0a88e_row2_col7\" class=\"data row2 col7\" >45.25</td>\n",
       "      <td id=\"T_0a88e_row2_col8\" class=\"data row2 col8\" >1.75</td>\n",
       "      <td id=\"T_0a88e_row2_col9\" class=\"data row2 col9\" >+4.02%</td>\n",
       "      <td id=\"T_0a88e_row2_col10\" class=\"data row2 col10\" >2</td>\n",
       "      <td id=\"T_0a88e_row2_col11\" class=\"data row2 col11\" >Sell</td>\n",
       "      <td id=\"T_0a88e_row2_col12\" class=\"data row2 col12\" >69,750.00</td>\n",
       "    </tr>\n",
       "    <tr>\n",
       "      <th id=\"T_0a88e_level0_row3\" class=\"row_heading level0 row3\" >29</th>\n",
       "      <td id=\"T_0a88e_row3_col0\" class=\"data row3 col0\" >S</td>\n",
       "      <td id=\"T_0a88e_row3_col1\" class=\"data row3 col1\" >WHART</td>\n",
       "      <td id=\"T_0a88e_row3_col2\" class=\"data row3 col2\" >5</td>\n",
       "      <td id=\"T_0a88e_row3_col3\" class=\"data row3 col3\" >DOS</td>\n",
       "      <td id=\"T_0a88e_row3_col4\" class=\"data row3 col4\" >SET</td>\n",
       "      <td id=\"T_0a88e_row3_col5\" class=\"data row3 col5\" >9,000</td>\n",
       "      <td id=\"T_0a88e_row3_col6\" class=\"data row3 col6\" >12.80</td>\n",
       "      <td id=\"T_0a88e_row3_col7\" class=\"data row3 col7\" >12.30</td>\n",
       "      <td id=\"T_0a88e_row3_col8\" class=\"data row3 col8\" >0.20</td>\n",
       "      <td id=\"T_0a88e_row3_col9\" class=\"data row3 col9\" >+1.65%</td>\n",
       "      <td id=\"T_0a88e_row3_col10\" class=\"data row3 col10\" >1</td>\n",
       "      <td id=\"T_0a88e_row3_col11\" class=\"data row3 col11\" >Sell</td>\n",
       "      <td id=\"T_0a88e_row3_col12\" class=\"data row3 col12\" >115,200.00</td>\n",
       "    </tr>\n",
       "  </tbody>\n",
       "</table>\n"
      ],
      "text/plain": [
       "<pandas.io.formats.style.Styler at 0x19801d29520>"
      ]
     },
     "execution_count": 24,
     "metadata": {},
     "output_type": "execute_result"
    }
   ],
   "source": [
    "ms = (df.trans == 'Sell') & (df.spd <= 5)\n",
    "df[ms].sort_values(['name'],ascending=[True]).style.format(format_dict)"
   ]
  },
  {
   "cell_type": "code",
   "execution_count": 25,
   "metadata": {},
   "outputs": [
    {
     "data": {
      "text/html": [
       "<style type=\"text/css\">\n",
       "</style>\n",
       "<table id=\"T_a6814_\">\n",
       "  <thead>\n",
       "    <tr>\n",
       "      <th class=\"blank level0\" >&nbsp;</th>\n",
       "      <th class=\"col_heading level0 col0\" >trade</th>\n",
       "      <th class=\"col_heading level0 col1\" >name</th>\n",
       "      <th class=\"col_heading level0 col2\" >spd</th>\n",
       "      <th class=\"col_heading level0 col3\" >reason</th>\n",
       "      <th class=\"col_heading level0 col4\" >market</th>\n",
       "      <th class=\"col_heading level0 col5\" >qty</th>\n",
       "      <th class=\"col_heading level0 col6\" >target</th>\n",
       "      <th class=\"col_heading level0 col7\" >current</th>\n",
       "      <th class=\"col_heading level0 col8\" >change</th>\n",
       "      <th class=\"col_heading level0 col9\" >percent</th>\n",
       "      <th class=\"col_heading level0 col10\" >active</th>\n",
       "      <th class=\"col_heading level0 col11\" >trans</th>\n",
       "      <th class=\"col_heading level0 col12\" >amount</th>\n",
       "    </tr>\n",
       "  </thead>\n",
       "  <tbody>\n",
       "    <tr>\n",
       "      <th id=\"T_a6814_level0_row0\" class=\"row_heading level0 row0\" >1</th>\n",
       "      <td id=\"T_a6814_row0_col0\" class=\"data row0 col0\" >B</td>\n",
       "      <td id=\"T_a6814_row0_col1\" class=\"data row0 col1\" >KCE</td>\n",
       "      <td id=\"T_a6814_row0_col2\" class=\"data row0 col2\" >-4</td>\n",
       "      <td id=\"T_a6814_row0_col3\" class=\"data row0 col3\" >RD07p</td>\n",
       "      <td id=\"T_a6814_row0_col4\" class=\"data row0 col4\" >SET50</td>\n",
       "      <td id=\"T_a6814_row0_col5\" class=\"data row0 col5\" >2,000</td>\n",
       "      <td id=\"T_a6814_row0_col6\" class=\"data row0 col6\" >81.00</td>\n",
       "      <td id=\"T_a6814_row0_col7\" class=\"data row0 col7\" >82.00</td>\n",
       "      <td id=\"T_a6814_row0_col8\" class=\"data row0 col8\" >-2.25</td>\n",
       "      <td id=\"T_a6814_row0_col9\" class=\"data row0 col9\" >-2.67%</td>\n",
       "      <td id=\"T_a6814_row0_col10\" class=\"data row0 col10\" >2</td>\n",
       "      <td id=\"T_a6814_row0_col11\" class=\"data row0 col11\" >Buy</td>\n",
       "      <td id=\"T_a6814_row0_col12\" class=\"data row0 col12\" >162,000.00</td>\n",
       "    </tr>\n",
       "    <tr>\n",
       "      <th id=\"T_a6814_level0_row1\" class=\"row_heading level0 row1\" >5</th>\n",
       "      <td id=\"T_a6814_row1_col0\" class=\"data row1 col0\" >B</td>\n",
       "      <td id=\"T_a6814_row1_col1\" class=\"data row1 col1\" >RCL</td>\n",
       "      <td id=\"T_a6814_row1_col2\" class=\"data row1 col2\" >-2</td>\n",
       "      <td id=\"T_a6814_row1_col3\" class=\"data row1 col3\" >ROUND</td>\n",
       "      <td id=\"T_a6814_row1_col4\" class=\"data row1 col4\" >SET100</td>\n",
       "      <td id=\"T_a6814_row1_col5\" class=\"data row1 col5\" >1,500</td>\n",
       "      <td id=\"T_a6814_row1_col6\" class=\"data row1 col6\" >50.00</td>\n",
       "      <td id=\"T_a6814_row1_col7\" class=\"data row1 col7\" >50.50</td>\n",
       "      <td id=\"T_a6814_row1_col8\" class=\"data row1 col8\" >-2.75</td>\n",
       "      <td id=\"T_a6814_row1_col9\" class=\"data row1 col9\" >-5.16%</td>\n",
       "      <td id=\"T_a6814_row1_col10\" class=\"data row1 col10\" >2</td>\n",
       "      <td id=\"T_a6814_row1_col11\" class=\"data row1 col11\" >Buy</td>\n",
       "      <td id=\"T_a6814_row1_col12\" class=\"data row1 col12\" >75,000.00</td>\n",
       "    </tr>\n",
       "    <tr>\n",
       "      <th id=\"T_a6814_level0_row2\" class=\"row_heading level0 row2\" >21</th>\n",
       "      <td id=\"T_a6814_row2_col0\" class=\"data row2 col0\" >S</td>\n",
       "      <td id=\"T_a6814_row2_col1\" class=\"data row2 col1\" >LPF</td>\n",
       "      <td id=\"T_a6814_row2_col2\" class=\"data row2 col2\" >2</td>\n",
       "      <td id=\"T_a6814_row2_col3\" class=\"data row2 col3\" >DOS</td>\n",
       "      <td id=\"T_a6814_row2_col4\" class=\"data row2 col4\" >SET</td>\n",
       "      <td id=\"T_a6814_row2_col5\" class=\"data row2 col5\" >10,000</td>\n",
       "      <td id=\"T_a6814_row2_col6\" class=\"data row2 col6\" >14.30</td>\n",
       "      <td id=\"T_a6814_row2_col7\" class=\"data row2 col7\" >14.10</td>\n",
       "      <td id=\"T_a6814_row2_col8\" class=\"data row2 col8\" >0.10</td>\n",
       "      <td id=\"T_a6814_row2_col9\" class=\"data row2 col9\" >+0.71%</td>\n",
       "      <td id=\"T_a6814_row2_col10\" class=\"data row2 col10\" >1</td>\n",
       "      <td id=\"T_a6814_row2_col11\" class=\"data row2 col11\" >Sell</td>\n",
       "      <td id=\"T_a6814_row2_col12\" class=\"data row2 col12\" >143,000.00</td>\n",
       "    </tr>\n",
       "    <tr>\n",
       "      <th id=\"T_a6814_level0_row3\" class=\"row_heading level0 row3\" >22</th>\n",
       "      <td id=\"T_a6814_row3_col0\" class=\"data row3 col0\" >S</td>\n",
       "      <td id=\"T_a6814_row3_col1\" class=\"data row3 col1\" >NER</td>\n",
       "      <td id=\"T_a6814_row3_col2\" class=\"data row3 col2\" >4</td>\n",
       "      <td id=\"T_a6814_row3_col3\" class=\"data row3 col3\" >5pct</td>\n",
       "      <td id=\"T_a6814_row3_col4\" class=\"data row3 col4\" >SET</td>\n",
       "      <td id=\"T_a6814_row3_col5\" class=\"data row3 col5\" >9,000</td>\n",
       "      <td id=\"T_a6814_row3_col6\" class=\"data row3 col6\" >7.80</td>\n",
       "      <td id=\"T_a6814_row3_col7\" class=\"data row3 col7\" >7.60</td>\n",
       "      <td id=\"T_a6814_row3_col8\" class=\"data row3 col8\" >-0.05</td>\n",
       "      <td id=\"T_a6814_row3_col9\" class=\"data row3 col9\" >-0.65%</td>\n",
       "      <td id=\"T_a6814_row3_col10\" class=\"data row3 col10\" >2</td>\n",
       "      <td id=\"T_a6814_row3_col11\" class=\"data row3 col11\" >Sell</td>\n",
       "      <td id=\"T_a6814_row3_col12\" class=\"data row3 col12\" >70,200.00</td>\n",
       "    </tr>\n",
       "    <tr>\n",
       "      <th id=\"T_a6814_level0_row4\" class=\"row_heading level0 row4\" >25</th>\n",
       "      <td id=\"T_a6814_row4_col0\" class=\"data row4 col0\" >S</td>\n",
       "      <td id=\"T_a6814_row4_col1\" class=\"data row4 col1\" >SIS</td>\n",
       "      <td id=\"T_a6814_row4_col2\" class=\"data row4 col2\" >5</td>\n",
       "      <td id=\"T_a6814_row4_col3\" class=\"data row4 col3\" >15pct</td>\n",
       "      <td id=\"T_a6814_row4_col4\" class=\"data row4 col4\" >SET</td>\n",
       "      <td id=\"T_a6814_row4_col5\" class=\"data row4 col5\" >1,500</td>\n",
       "      <td id=\"T_a6814_row4_col6\" class=\"data row4 col6\" >46.50</td>\n",
       "      <td id=\"T_a6814_row4_col7\" class=\"data row4 col7\" >45.25</td>\n",
       "      <td id=\"T_a6814_row4_col8\" class=\"data row4 col8\" >1.75</td>\n",
       "      <td id=\"T_a6814_row4_col9\" class=\"data row4 col9\" >+4.02%</td>\n",
       "      <td id=\"T_a6814_row4_col10\" class=\"data row4 col10\" >2</td>\n",
       "      <td id=\"T_a6814_row4_col11\" class=\"data row4 col11\" >Sell</td>\n",
       "      <td id=\"T_a6814_row4_col12\" class=\"data row4 col12\" >69,750.00</td>\n",
       "    </tr>\n",
       "    <tr>\n",
       "      <th id=\"T_a6814_level0_row5\" class=\"row_heading level0 row5\" >29</th>\n",
       "      <td id=\"T_a6814_row5_col0\" class=\"data row5 col0\" >S</td>\n",
       "      <td id=\"T_a6814_row5_col1\" class=\"data row5 col1\" >WHART</td>\n",
       "      <td id=\"T_a6814_row5_col2\" class=\"data row5 col2\" >5</td>\n",
       "      <td id=\"T_a6814_row5_col3\" class=\"data row5 col3\" >DOS</td>\n",
       "      <td id=\"T_a6814_row5_col4\" class=\"data row5 col4\" >SET</td>\n",
       "      <td id=\"T_a6814_row5_col5\" class=\"data row5 col5\" >9,000</td>\n",
       "      <td id=\"T_a6814_row5_col6\" class=\"data row5 col6\" >12.80</td>\n",
       "      <td id=\"T_a6814_row5_col7\" class=\"data row5 col7\" >12.30</td>\n",
       "      <td id=\"T_a6814_row5_col8\" class=\"data row5 col8\" >0.20</td>\n",
       "      <td id=\"T_a6814_row5_col9\" class=\"data row5 col9\" >+1.65%</td>\n",
       "      <td id=\"T_a6814_row5_col10\" class=\"data row5 col10\" >1</td>\n",
       "      <td id=\"T_a6814_row5_col11\" class=\"data row5 col11\" >Sell</td>\n",
       "      <td id=\"T_a6814_row5_col12\" class=\"data row5 col12\" >115,200.00</td>\n",
       "    </tr>\n",
       "  </tbody>\n",
       "</table>\n"
      ],
      "text/plain": [
       "<pandas.io.formats.style.Styler at 0x19801a351f0>"
      ]
     },
     "execution_count": 25,
     "metadata": {},
     "output_type": "execute_result"
    }
   ],
   "source": [
    "df[mb | ms].sort_values(['trade','name'],ascending=[True,True]).style.format(format_dict)"
   ]
  },
  {
   "cell_type": "code",
   "execution_count": 26,
   "metadata": {},
   "outputs": [
    {
     "data": {
      "text/plain": [
       "6"
      ]
     },
     "execution_count": 26,
     "metadata": {},
     "output_type": "execute_result"
    }
   ],
   "source": [
    "df[mb | ms].shape[0]"
   ]
  },
  {
   "cell_type": "code",
   "execution_count": 27,
   "metadata": {},
   "outputs": [
    {
     "data": {
      "text/html": [
       "<style type=\"text/css\">\n",
       "</style>\n",
       "<table id=\"T_a5970_\">\n",
       "  <thead>\n",
       "    <tr>\n",
       "      <th class=\"blank level0\" >&nbsp;</th>\n",
       "      <th class=\"col_heading level0 col0\" >name</th>\n",
       "      <th class=\"col_heading level0 col1\" >trans</th>\n",
       "      <th class=\"col_heading level0 col2\" >amount</th>\n",
       "    </tr>\n",
       "  </thead>\n",
       "  <tbody>\n",
       "    <tr>\n",
       "      <th id=\"T_a5970_level0_row0\" class=\"row_heading level0 row0\" >1</th>\n",
       "      <td id=\"T_a5970_row0_col0\" class=\"data row0 col0\" >KCE</td>\n",
       "      <td id=\"T_a5970_row0_col1\" class=\"data row0 col1\" >Buy</td>\n",
       "      <td id=\"T_a5970_row0_col2\" class=\"data row0 col2\" >162,000.00</td>\n",
       "    </tr>\n",
       "    <tr>\n",
       "      <th id=\"T_a5970_level0_row1\" class=\"row_heading level0 row1\" >21</th>\n",
       "      <td id=\"T_a5970_row1_col0\" class=\"data row1 col0\" >LPF</td>\n",
       "      <td id=\"T_a5970_row1_col1\" class=\"data row1 col1\" >Sell</td>\n",
       "      <td id=\"T_a5970_row1_col2\" class=\"data row1 col2\" >143,000.00</td>\n",
       "    </tr>\n",
       "    <tr>\n",
       "      <th id=\"T_a5970_level0_row2\" class=\"row_heading level0 row2\" >29</th>\n",
       "      <td id=\"T_a5970_row2_col0\" class=\"data row2 col0\" >WHART</td>\n",
       "      <td id=\"T_a5970_row2_col1\" class=\"data row2 col1\" >Sell</td>\n",
       "      <td id=\"T_a5970_row2_col2\" class=\"data row2 col2\" >115,200.00</td>\n",
       "    </tr>\n",
       "    <tr>\n",
       "      <th id=\"T_a5970_level0_row3\" class=\"row_heading level0 row3\" >5</th>\n",
       "      <td id=\"T_a5970_row3_col0\" class=\"data row3 col0\" >RCL</td>\n",
       "      <td id=\"T_a5970_row3_col1\" class=\"data row3 col1\" >Buy</td>\n",
       "      <td id=\"T_a5970_row3_col2\" class=\"data row3 col2\" >75,000.00</td>\n",
       "    </tr>\n",
       "    <tr>\n",
       "      <th id=\"T_a5970_level0_row4\" class=\"row_heading level0 row4\" >22</th>\n",
       "      <td id=\"T_a5970_row4_col0\" class=\"data row4 col0\" >NER</td>\n",
       "      <td id=\"T_a5970_row4_col1\" class=\"data row4 col1\" >Sell</td>\n",
       "      <td id=\"T_a5970_row4_col2\" class=\"data row4 col2\" >70,200.00</td>\n",
       "    </tr>\n",
       "  </tbody>\n",
       "</table>\n"
      ],
      "text/plain": [
       "<pandas.io.formats.style.Styler at 0x19801df3dc0>"
      ]
     },
     "execution_count": 27,
     "metadata": {},
     "output_type": "execute_result"
    }
   ],
   "source": [
    "mask = (df.trade == 'B')\n",
    "df[mb | ms].nlargest(5, \"amount\")[[\"name\",\"trans\",\"amount\"]].style.format(format_dict)"
   ]
  },
  {
   "cell_type": "markdown",
   "metadata": {},
   "source": [
    "### Select source of orders between these two"
   ]
  },
  {
   "cell_type": "code",
   "execution_count": 28,
   "metadata": {},
   "outputs": [
    {
     "data": {
      "text/html": [
       "<style type=\"text/css\">\n",
       "</style>\n",
       "<table id=\"T_c1189_\">\n",
       "  <thead>\n",
       "    <tr>\n",
       "      <th class=\"blank level0\" >&nbsp;</th>\n",
       "      <th class=\"col_heading level0 col0\" >trans</th>\n",
       "      <th class=\"col_heading level0 col1\" >name</th>\n",
       "      <th class=\"col_heading level0 col2\" >qty</th>\n",
       "      <th class=\"col_heading level0 col3\" >target</th>\n",
       "      <th class=\"col_heading level0 col4\" >active</th>\n",
       "      <th class=\"col_heading level0 col5\" >spd</th>\n",
       "      <th class=\"col_heading level0 col6\" >current</th>\n",
       "      <th class=\"col_heading level0 col7\" >change</th>\n",
       "      <th class=\"col_heading level0 col8\" >percent</th>\n",
       "    </tr>\n",
       "  </thead>\n",
       "  <tbody>\n",
       "    <tr>\n",
       "      <th id=\"T_c1189_level0_row0\" class=\"row_heading level0 row0\" >1</th>\n",
       "      <td id=\"T_c1189_row0_col0\" class=\"data row0 col0\" >Buy</td>\n",
       "      <td id=\"T_c1189_row0_col1\" class=\"data row0 col1\" >KCE</td>\n",
       "      <td id=\"T_c1189_row0_col2\" class=\"data row0 col2\" >2,000</td>\n",
       "      <td id=\"T_c1189_row0_col3\" class=\"data row0 col3\" >81.00</td>\n",
       "      <td id=\"T_c1189_row0_col4\" class=\"data row0 col4\" >2</td>\n",
       "      <td id=\"T_c1189_row0_col5\" class=\"data row0 col5\" >-4</td>\n",
       "      <td id=\"T_c1189_row0_col6\" class=\"data row0 col6\" >82.00</td>\n",
       "      <td id=\"T_c1189_row0_col7\" class=\"data row0 col7\" >-2.25</td>\n",
       "      <td id=\"T_c1189_row0_col8\" class=\"data row0 col8\" >-2.67%</td>\n",
       "    </tr>\n",
       "    <tr>\n",
       "      <th id=\"T_c1189_level0_row1\" class=\"row_heading level0 row1\" >5</th>\n",
       "      <td id=\"T_c1189_row1_col0\" class=\"data row1 col0\" >Buy</td>\n",
       "      <td id=\"T_c1189_row1_col1\" class=\"data row1 col1\" >RCL</td>\n",
       "      <td id=\"T_c1189_row1_col2\" class=\"data row1 col2\" >1,500</td>\n",
       "      <td id=\"T_c1189_row1_col3\" class=\"data row1 col3\" >50.00</td>\n",
       "      <td id=\"T_c1189_row1_col4\" class=\"data row1 col4\" >2</td>\n",
       "      <td id=\"T_c1189_row1_col5\" class=\"data row1 col5\" >-2</td>\n",
       "      <td id=\"T_c1189_row1_col6\" class=\"data row1 col6\" >50.50</td>\n",
       "      <td id=\"T_c1189_row1_col7\" class=\"data row1 col7\" >-2.75</td>\n",
       "      <td id=\"T_c1189_row1_col8\" class=\"data row1 col8\" >-5.16%</td>\n",
       "    </tr>\n",
       "    <tr>\n",
       "      <th id=\"T_c1189_level0_row2\" class=\"row_heading level0 row2\" >21</th>\n",
       "      <td id=\"T_c1189_row2_col0\" class=\"data row2 col0\" >Sell</td>\n",
       "      <td id=\"T_c1189_row2_col1\" class=\"data row2 col1\" >LPF</td>\n",
       "      <td id=\"T_c1189_row2_col2\" class=\"data row2 col2\" >10,000</td>\n",
       "      <td id=\"T_c1189_row2_col3\" class=\"data row2 col3\" >14.30</td>\n",
       "      <td id=\"T_c1189_row2_col4\" class=\"data row2 col4\" >1</td>\n",
       "      <td id=\"T_c1189_row2_col5\" class=\"data row2 col5\" >2</td>\n",
       "      <td id=\"T_c1189_row2_col6\" class=\"data row2 col6\" >14.10</td>\n",
       "      <td id=\"T_c1189_row2_col7\" class=\"data row2 col7\" >0.10</td>\n",
       "      <td id=\"T_c1189_row2_col8\" class=\"data row2 col8\" >+0.71%</td>\n",
       "    </tr>\n",
       "    <tr>\n",
       "      <th id=\"T_c1189_level0_row3\" class=\"row_heading level0 row3\" >22</th>\n",
       "      <td id=\"T_c1189_row3_col0\" class=\"data row3 col0\" >Sell</td>\n",
       "      <td id=\"T_c1189_row3_col1\" class=\"data row3 col1\" >NER</td>\n",
       "      <td id=\"T_c1189_row3_col2\" class=\"data row3 col2\" >9,000</td>\n",
       "      <td id=\"T_c1189_row3_col3\" class=\"data row3 col3\" >7.80</td>\n",
       "      <td id=\"T_c1189_row3_col4\" class=\"data row3 col4\" >2</td>\n",
       "      <td id=\"T_c1189_row3_col5\" class=\"data row3 col5\" >4</td>\n",
       "      <td id=\"T_c1189_row3_col6\" class=\"data row3 col6\" >7.60</td>\n",
       "      <td id=\"T_c1189_row3_col7\" class=\"data row3 col7\" >-0.05</td>\n",
       "      <td id=\"T_c1189_row3_col8\" class=\"data row3 col8\" >-0.65%</td>\n",
       "    </tr>\n",
       "    <tr>\n",
       "      <th id=\"T_c1189_level0_row4\" class=\"row_heading level0 row4\" >25</th>\n",
       "      <td id=\"T_c1189_row4_col0\" class=\"data row4 col0\" >Sell</td>\n",
       "      <td id=\"T_c1189_row4_col1\" class=\"data row4 col1\" >SIS</td>\n",
       "      <td id=\"T_c1189_row4_col2\" class=\"data row4 col2\" >1,500</td>\n",
       "      <td id=\"T_c1189_row4_col3\" class=\"data row4 col3\" >46.50</td>\n",
       "      <td id=\"T_c1189_row4_col4\" class=\"data row4 col4\" >2</td>\n",
       "      <td id=\"T_c1189_row4_col5\" class=\"data row4 col5\" >5</td>\n",
       "      <td id=\"T_c1189_row4_col6\" class=\"data row4 col6\" >45.25</td>\n",
       "      <td id=\"T_c1189_row4_col7\" class=\"data row4 col7\" >1.75</td>\n",
       "      <td id=\"T_c1189_row4_col8\" class=\"data row4 col8\" >+4.02%</td>\n",
       "    </tr>\n",
       "    <tr>\n",
       "      <th id=\"T_c1189_level0_row5\" class=\"row_heading level0 row5\" >29</th>\n",
       "      <td id=\"T_c1189_row5_col0\" class=\"data row5 col0\" >Sell</td>\n",
       "      <td id=\"T_c1189_row5_col1\" class=\"data row5 col1\" >WHART</td>\n",
       "      <td id=\"T_c1189_row5_col2\" class=\"data row5 col2\" >9,000</td>\n",
       "      <td id=\"T_c1189_row5_col3\" class=\"data row5 col3\" >12.80</td>\n",
       "      <td id=\"T_c1189_row5_col4\" class=\"data row5 col4\" >1</td>\n",
       "      <td id=\"T_c1189_row5_col5\" class=\"data row5 col5\" >5</td>\n",
       "      <td id=\"T_c1189_row5_col6\" class=\"data row5 col6\" >12.30</td>\n",
       "      <td id=\"T_c1189_row5_col7\" class=\"data row5 col7\" >0.20</td>\n",
       "      <td id=\"T_c1189_row5_col8\" class=\"data row5 col8\" >+1.65%</td>\n",
       "    </tr>\n",
       "  </tbody>\n",
       "</table>\n"
      ],
      "text/plain": [
       "<pandas.io.formats.style.Styler at 0x19801df3e80>"
      ]
     },
     "execution_count": 28,
     "metadata": {},
     "output_type": "execute_result"
    }
   ],
   "source": [
    "df_out = df[mb | ms][colt]\n",
    "df_out.style.format(format_dict)"
   ]
  },
  {
   "cell_type": "code",
   "execution_count": 29,
   "metadata": {},
   "outputs": [
    {
     "data": {
      "text/html": [
       "<style type=\"text/css\">\n",
       "</style>\n",
       "<table id=\"T_c3c84_\">\n",
       "  <thead>\n",
       "    <tr>\n",
       "      <th class=\"blank level0\" >&nbsp;</th>\n",
       "      <th class=\"col_heading level0 col0\" >trans</th>\n",
       "      <th class=\"col_heading level0 col1\" >name</th>\n",
       "      <th class=\"col_heading level0 col2\" >qty</th>\n",
       "      <th class=\"col_heading level0 col3\" >target</th>\n",
       "      <th class=\"col_heading level0 col4\" >active</th>\n",
       "      <th class=\"col_heading level0 col5\" >spd</th>\n",
       "      <th class=\"col_heading level0 col6\" >current</th>\n",
       "      <th class=\"col_heading level0 col7\" >change</th>\n",
       "      <th class=\"col_heading level0 col8\" >percent</th>\n",
       "    </tr>\n",
       "  </thead>\n",
       "  <tbody>\n",
       "    <tr>\n",
       "      <th id=\"T_c3c84_level0_row0\" class=\"row_heading level0 row0\" >1</th>\n",
       "      <td id=\"T_c3c84_row0_col0\" class=\"data row0 col0\" >Buy</td>\n",
       "      <td id=\"T_c3c84_row0_col1\" class=\"data row0 col1\" >KCE</td>\n",
       "      <td id=\"T_c3c84_row0_col2\" class=\"data row0 col2\" >2,000</td>\n",
       "      <td id=\"T_c3c84_row0_col3\" class=\"data row0 col3\" >81.00</td>\n",
       "      <td id=\"T_c3c84_row0_col4\" class=\"data row0 col4\" >2</td>\n",
       "      <td id=\"T_c3c84_row0_col5\" class=\"data row0 col5\" >-4</td>\n",
       "      <td id=\"T_c3c84_row0_col6\" class=\"data row0 col6\" >82.00</td>\n",
       "      <td id=\"T_c3c84_row0_col7\" class=\"data row0 col7\" >-2.25</td>\n",
       "      <td id=\"T_c3c84_row0_col8\" class=\"data row0 col8\" >-2.67%</td>\n",
       "    </tr>\n",
       "    <tr>\n",
       "      <th id=\"T_c3c84_level0_row1\" class=\"row_heading level0 row1\" >5</th>\n",
       "      <td id=\"T_c3c84_row1_col0\" class=\"data row1 col0\" >Buy</td>\n",
       "      <td id=\"T_c3c84_row1_col1\" class=\"data row1 col1\" >RCL</td>\n",
       "      <td id=\"T_c3c84_row1_col2\" class=\"data row1 col2\" >1,500</td>\n",
       "      <td id=\"T_c3c84_row1_col3\" class=\"data row1 col3\" >50.00</td>\n",
       "      <td id=\"T_c3c84_row1_col4\" class=\"data row1 col4\" >2</td>\n",
       "      <td id=\"T_c3c84_row1_col5\" class=\"data row1 col5\" >-2</td>\n",
       "      <td id=\"T_c3c84_row1_col6\" class=\"data row1 col6\" >50.50</td>\n",
       "      <td id=\"T_c3c84_row1_col7\" class=\"data row1 col7\" >-2.75</td>\n",
       "      <td id=\"T_c3c84_row1_col8\" class=\"data row1 col8\" >-5.16%</td>\n",
       "    </tr>\n",
       "    <tr>\n",
       "      <th id=\"T_c3c84_level0_row2\" class=\"row_heading level0 row2\" >22</th>\n",
       "      <td id=\"T_c3c84_row2_col0\" class=\"data row2 col0\" >Sell</td>\n",
       "      <td id=\"T_c3c84_row2_col1\" class=\"data row2 col1\" >NER</td>\n",
       "      <td id=\"T_c3c84_row2_col2\" class=\"data row2 col2\" >9,000</td>\n",
       "      <td id=\"T_c3c84_row2_col3\" class=\"data row2 col3\" >7.80</td>\n",
       "      <td id=\"T_c3c84_row2_col4\" class=\"data row2 col4\" >2</td>\n",
       "      <td id=\"T_c3c84_row2_col5\" class=\"data row2 col5\" >4</td>\n",
       "      <td id=\"T_c3c84_row2_col6\" class=\"data row2 col6\" >7.60</td>\n",
       "      <td id=\"T_c3c84_row2_col7\" class=\"data row2 col7\" >-0.05</td>\n",
       "      <td id=\"T_c3c84_row2_col8\" class=\"data row2 col8\" >-0.65%</td>\n",
       "    </tr>\n",
       "    <tr>\n",
       "      <th id=\"T_c3c84_level0_row3\" class=\"row_heading level0 row3\" >25</th>\n",
       "      <td id=\"T_c3c84_row3_col0\" class=\"data row3 col0\" >Sell</td>\n",
       "      <td id=\"T_c3c84_row3_col1\" class=\"data row3 col1\" >SIS</td>\n",
       "      <td id=\"T_c3c84_row3_col2\" class=\"data row3 col2\" >1,500</td>\n",
       "      <td id=\"T_c3c84_row3_col3\" class=\"data row3 col3\" >46.50</td>\n",
       "      <td id=\"T_c3c84_row3_col4\" class=\"data row3 col4\" >2</td>\n",
       "      <td id=\"T_c3c84_row3_col5\" class=\"data row3 col5\" >5</td>\n",
       "      <td id=\"T_c3c84_row3_col6\" class=\"data row3 col6\" >45.25</td>\n",
       "      <td id=\"T_c3c84_row3_col7\" class=\"data row3 col7\" >1.75</td>\n",
       "      <td id=\"T_c3c84_row3_col8\" class=\"data row3 col8\" >+4.02%</td>\n",
       "    </tr>\n",
       "  </tbody>\n",
       "</table>\n"
      ],
      "text/plain": [
       "<pandas.io.formats.style.Styler at 0x19801e15970>"
      ]
     },
     "execution_count": 29,
     "metadata": {},
     "output_type": "execute_result"
    }
   ],
   "source": [
    "df_out = df[df.active == 2][colt]\n",
    "df_out.style.format(format_dict)"
   ]
  },
  {
   "cell_type": "code",
   "execution_count": 30,
   "metadata": {},
   "outputs": [],
   "source": [
    "file_name = 'ORDERS-PLACED.csv'\n",
    "data_file = data_path + file_name\n",
    "output_file = csv_path + file_name\n",
    "box_file = box_path + file_name\n",
    "\n",
    "df_out.sort_values(['trans','name'],ascending=[True,True]).to_csv(output_file, header=True, index=False)\n",
    "df_out.sort_values(['trans','name'],ascending=[True,True]).to_csv(data_file, header=True, index=False)\n",
    "df_out.sort_values(['trans','name'],ascending=[True,True]).to_csv(box_file, header=True, index=False)"
   ]
  },
  {
   "cell_type": "markdown",
   "metadata": {},
   "source": [
    "### End of Output ORDERS-PLACED"
   ]
  },
  {
   "cell_type": "code",
   "execution_count": 31,
   "metadata": {},
   "outputs": [
    {
     "data": {
      "text/html": [
       "<style type=\"text/css\">\n",
       "</style>\n",
       "<table id=\"T_ab50a_\">\n",
       "  <thead>\n",
       "    <tr>\n",
       "      <th class=\"blank level0\" >&nbsp;</th>\n",
       "      <th class=\"col_heading level0 col0\" >trade</th>\n",
       "      <th class=\"col_heading level0 col1\" >name</th>\n",
       "      <th class=\"col_heading level0 col2\" >qty</th>\n",
       "      <th class=\"col_heading level0 col3\" >price</th>\n",
       "      <th class=\"col_heading level0 col4\" >amount</th>\n",
       "      <th class=\"col_heading level0 col5\" >reason</th>\n",
       "      <th class=\"col_heading level0 col6\" >market</th>\n",
       "      <th class=\"col_heading level0 col7\" >active</th>\n",
       "    </tr>\n",
       "  </thead>\n",
       "  <tbody>\n",
       "    <tr>\n",
       "      <th id=\"T_ab50a_level0_row0\" class=\"row_heading level0 row0\" >0</th>\n",
       "      <td id=\"T_ab50a_row0_col0\" class=\"data row0 col0\" >B</td>\n",
       "      <td id=\"T_ab50a_row0_col1\" class=\"data row0 col1\" >KCE</td>\n",
       "      <td id=\"T_ab50a_row0_col2\" class=\"data row0 col2\" >2,000</td>\n",
       "      <td id=\"T_ab50a_row0_col3\" class=\"data row0 col3\" >81.00</td>\n",
       "      <td id=\"T_ab50a_row0_col4\" class=\"data row0 col4\" >162,000.00</td>\n",
       "      <td id=\"T_ab50a_row0_col5\" class=\"data row0 col5\" >RD07p</td>\n",
       "      <td id=\"T_ab50a_row0_col6\" class=\"data row0 col6\" >SET50</td>\n",
       "      <td id=\"T_ab50a_row0_col7\" class=\"data row0 col7\" >2</td>\n",
       "    </tr>\n",
       "    <tr>\n",
       "      <th id=\"T_ab50a_level0_row1\" class=\"row_heading level0 row1\" >1</th>\n",
       "      <td id=\"T_ab50a_row1_col0\" class=\"data row1 col0\" >B</td>\n",
       "      <td id=\"T_ab50a_row1_col1\" class=\"data row1 col1\" >RCL</td>\n",
       "      <td id=\"T_ab50a_row1_col2\" class=\"data row1 col2\" >1,500</td>\n",
       "      <td id=\"T_ab50a_row1_col3\" class=\"data row1 col3\" >50.00</td>\n",
       "      <td id=\"T_ab50a_row1_col4\" class=\"data row1 col4\" >75,000.00</td>\n",
       "      <td id=\"T_ab50a_row1_col5\" class=\"data row1 col5\" >ROUND</td>\n",
       "      <td id=\"T_ab50a_row1_col6\" class=\"data row1 col6\" >SET100</td>\n",
       "      <td id=\"T_ab50a_row1_col7\" class=\"data row1 col7\" >2</td>\n",
       "    </tr>\n",
       "    <tr>\n",
       "      <th id=\"T_ab50a_level0_row2\" class=\"row_heading level0 row2\" >2</th>\n",
       "      <td id=\"T_ab50a_row2_col0\" class=\"data row2 col0\" >S</td>\n",
       "      <td id=\"T_ab50a_row2_col1\" class=\"data row2 col1\" >NER</td>\n",
       "      <td id=\"T_ab50a_row2_col2\" class=\"data row2 col2\" >9,000</td>\n",
       "      <td id=\"T_ab50a_row2_col3\" class=\"data row2 col3\" >7.80</td>\n",
       "      <td id=\"T_ab50a_row2_col4\" class=\"data row2 col4\" >70,200.00</td>\n",
       "      <td id=\"T_ab50a_row2_col5\" class=\"data row2 col5\" >5pct</td>\n",
       "      <td id=\"T_ab50a_row2_col6\" class=\"data row2 col6\" >SET</td>\n",
       "      <td id=\"T_ab50a_row2_col7\" class=\"data row2 col7\" >2</td>\n",
       "    </tr>\n",
       "    <tr>\n",
       "      <th id=\"T_ab50a_level0_row3\" class=\"row_heading level0 row3\" >3</th>\n",
       "      <td id=\"T_ab50a_row3_col0\" class=\"data row3 col0\" >S</td>\n",
       "      <td id=\"T_ab50a_row3_col1\" class=\"data row3 col1\" >SIS</td>\n",
       "      <td id=\"T_ab50a_row3_col2\" class=\"data row3 col2\" >1,500</td>\n",
       "      <td id=\"T_ab50a_row3_col3\" class=\"data row3 col3\" >46.50</td>\n",
       "      <td id=\"T_ab50a_row3_col4\" class=\"data row3 col4\" >69,750.00</td>\n",
       "      <td id=\"T_ab50a_row3_col5\" class=\"data row3 col5\" >15pct</td>\n",
       "      <td id=\"T_ab50a_row3_col6\" class=\"data row3 col6\" >SET</td>\n",
       "      <td id=\"T_ab50a_row3_col7\" class=\"data row3 col7\" >2</td>\n",
       "    </tr>\n",
       "  </tbody>\n",
       "</table>\n"
      ],
      "text/plain": [
       "<pandas.io.formats.style.Styler at 0x19801e4f3a0>"
      ]
     },
     "execution_count": 31,
     "metadata": {},
     "output_type": "execute_result"
    }
   ],
   "source": [
    "sql = '''\n",
    "SELECT trade, name, qty, price, qty * price AS amount, reason, market, active\n",
    "FROM orders\n",
    "WHERE ACTIVE = 2\n",
    "ORDER BY trade, name'''\n",
    "orders = pd.read_sql(sql, conlite)\n",
    "orders.style.format(format_dict)"
   ]
  },
  {
   "cell_type": "markdown",
   "metadata": {},
   "source": [
    "### Evening Process"
   ]
  },
  {
   "cell_type": "code",
   "execution_count": 32,
   "metadata": {},
   "outputs": [],
   "source": [
    "new_active = 1\n",
    "old_active = 2"
   ]
  },
  {
   "cell_type": "code",
   "execution_count": 33,
   "metadata": {},
   "outputs": [
    {
     "data": {
      "text/plain": [
       "4"
      ]
     },
     "execution_count": 33,
     "metadata": {},
     "output_type": "execute_result"
    }
   ],
   "source": [
    "sql = \"\"\"\n",
    "UPDATE orders \n",
    "SET active = %s\n",
    "WHERE active = %s\n",
    "\"\"\"\n",
    "sql = sql % (new_active, old_active)\n",
    "rp = conlite.execute(sql)\n",
    "rp.rowcount"
   ]
  },
  {
   "cell_type": "code",
   "execution_count": 34,
   "metadata": {
    "scrolled": true
   },
   "outputs": [
    {
     "data": {
      "text/plain": [
       "\"'KCE', 'RCL', 'NER', 'SIS'\""
      ]
     },
     "execution_count": 34,
     "metadata": {},
     "output_type": "execute_result"
    }
   ],
   "source": [
    "names = df_out['name']\n",
    "in_p = \", \".join(map(lambda name: \"'%s'\" % name, names))\n",
    "in_p"
   ]
  },
  {
   "cell_type": "code",
   "execution_count": 35,
   "metadata": {},
   "outputs": [
    {
     "data": {
      "text/plain": [
       "4"
      ]
     },
     "execution_count": 35,
     "metadata": {},
     "output_type": "execute_result"
    }
   ],
   "source": [
    "sql = \"\"\"\n",
    "UPDATE orders \n",
    "SET active = 2\n",
    "WHERE name IN (%s)\n",
    "\"\"\"\n",
    "sql = sql % (in_p)\n",
    "rp = conlite.execute(sql)\n",
    "rp.rowcount"
   ]
  },
  {
   "cell_type": "code",
   "execution_count": 36,
   "metadata": {},
   "outputs": [],
   "source": [
    "#To force orders.csv and orders table to be same copy\n",
    "file_name = 'orders.csv'\n",
    "data_file = data_path + file_name\n",
    "output_file = csv_path + file_name\n",
    "box_file = box_path + file_name\n",
    "\n",
    "orders[cols].to_csv(output_file, header=True, index=False)\n",
    "orders[cols].to_csv(data_file, header=True, index=False)\n",
    "orders[cols].to_csv(box_file, header=True, index=False)"
   ]
  },
  {
   "cell_type": "markdown",
   "metadata": {},
   "source": [
    "### End of Evening Process"
   ]
  },
  {
   "cell_type": "code",
   "execution_count": null,
   "metadata": {},
   "outputs": [],
   "source": []
  }
 ],
 "metadata": {
  "anaconda-cloud": {},
  "kernelspec": {
   "display_name": "Python 3 (ipykernel)",
   "language": "python",
   "name": "python3"
  },
  "language_info": {
   "codemirror_mode": {
    "name": "ipython",
    "version": 3
   },
   "file_extension": ".py",
   "mimetype": "text/x-python",
   "name": "python",
   "nbconvert_exporter": "python",
   "pygments_lexer": "ipython3",
   "version": "3.8.11"
  }
 },
 "nbformat": 4,
 "nbformat_minor": 1
}
