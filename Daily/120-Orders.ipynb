{
 "cells": [
  {
   "cell_type": "markdown",
   "metadata": {},
   "source": [
    "#### SQLite port_lite database: orders table\n",
    "#### csv files: orders, ORDERS-PLACED"
   ]
  },
  {
   "cell_type": "code",
   "execution_count": 1,
   "metadata": {},
   "outputs": [
    {
     "data": {
      "application/javascript": [
       "require.config({\n",
       "    paths: {\n",
       "        datatables: 'https://cdn.datatables.net/1.10.19/js/jquery.dataTables.min',\n",
       "    }\n",
       "});\n",
       "\n",
       "$('head').append('<link rel=\"stylesheet\" type=\"text/css\" \\\n",
       "                href = \"https://cdn.datatables.net/1.10.19/css/jquery.dataTables.min.css\" > ');\n",
       "\n",
       "$('head').append('<style> table td { text-overflow: ellipsis; overflow: hidden; } </style>');\n",
       "\n",
       "$('head').append(`<script>\n",
       "function eval_functions(map_or_text) {\n",
       "    if (typeof map_or_text === \"string\") {\n",
       "        if (map_or_text.startsWith(\"function\")) {\n",
       "            try {\n",
       "                // Note: parenthesis are required around the whole expression for eval to return a value!\n",
       "                // See https://stackoverflow.com/a/7399078/911298.\n",
       "                //\n",
       "                // eval(\"local_fun = \" + map_or_text) would fail because local_fun is not declared\n",
       "                // (using var, let or const would work, but it would only be declared in the local scope\n",
       "                // and therefore the value could not be retrieved).\n",
       "                const func = eval(\"(\" + map_or_text + \")\");\n",
       "                if (typeof func !== \"function\") {\n",
       "                    // Note: backquotes are super convenient!\n",
       "                    // https://developer.mozilla.org/en-US/docs/Web/JavaScript/Reference/Template_literals\n",
       "                    console.error(\"Evaluated expression \" + map_or_text + \" is not a function (type is \" + typeof func + \")\");\n",
       "                    return map_or_text;\n",
       "                }\n",
       "                // Return the function\n",
       "                return func;\n",
       "            } catch (e) {\n",
       "                // Make sure to print the error with a second argument to console.error().\n",
       "                console.error(\"itables was not able to parse \" + map_or_text, e);\n",
       "            }\n",
       "        }\n",
       "    } else if (typeof map_or_text === \"object\") {\n",
       "        if (map_or_text instanceof Array) {\n",
       "            // Note: \"var\" is now superseded by \"let\" and \"const\".\n",
       "            // https://medium.com/javascript-scene/javascript-es6-var-let-or-const-ba58b8dcde75\n",
       "            const result = [];\n",
       "            // Note: \"for of\" is the best way to iterate through an iterable.\n",
       "            // https://developer.mozilla.org/en-US/docs/Web/JavaScript/Reference/Statements/for...of\n",
       "            for (const item of map_or_text) {\n",
       "                result.push(eval_functions(item));\n",
       "            }\n",
       "            return result;\n",
       "\n",
       "            // Alternatively, more functional approach in one line:\n",
       "            // return map_or_text.map(eval_functions);\n",
       "        } else {\n",
       "            const result = {};\n",
       "            // Object.keys() is safer than \"for in\" because otherwise you might have keys\n",
       "            // that aren't defined in the object itself.\n",
       "            //\n",
       "            // See https://stackoverflow.com/a/684692/911298.\n",
       "            for (const item of Object.keys(map_or_text)) {\n",
       "                result[item] = eval_functions(map_or_text[item]);\n",
       "            }\n",
       "            return result;\n",
       "        }\n",
       "    }\n",
       "\n",
       "    return map_or_text;\n",
       "}\n",
       "\n",
       "</` + 'script>');"
      ],
      "text/plain": [
       "<IPython.core.display.Javascript object>"
      ]
     },
     "metadata": {},
     "output_type": "display_data"
    },
    {
     "data": {
      "application/javascript": [
       "\n",
       "(function(root) {\n",
       "  function now() {\n",
       "    return new Date();\n",
       "  }\n",
       "\n",
       "  var force = true;\n",
       "\n",
       "  if (typeof root._bokeh_onload_callbacks === \"undefined\" || force === true) {\n",
       "    root._bokeh_onload_callbacks = [];\n",
       "    root._bokeh_is_loading = undefined;\n",
       "  }\n",
       "\n",
       "  if (typeof (root._bokeh_timeout) === \"undefined\" || force === true) {\n",
       "    root._bokeh_timeout = Date.now() + 5000;\n",
       "    root._bokeh_failed_load = false;\n",
       "  }\n",
       "\n",
       "  function run_callbacks() {\n",
       "    try {\n",
       "      root._bokeh_onload_callbacks.forEach(function(callback) {\n",
       "        if (callback != null)\n",
       "          callback();\n",
       "      });\n",
       "    } finally {\n",
       "      delete root._bokeh_onload_callbacks\n",
       "    }\n",
       "    console.debug(\"Bokeh: all callbacks have finished\");\n",
       "  }\n",
       "\n",
       "  function load_libs(css_urls, js_urls, js_modules, callback) {\n",
       "    if (css_urls == null) css_urls = [];\n",
       "    if (js_urls == null) js_urls = [];\n",
       "    if (js_modules == null) js_modules = [];\n",
       "\n",
       "    root._bokeh_onload_callbacks.push(callback);\n",
       "    if (root._bokeh_is_loading > 0) {\n",
       "      console.debug(\"Bokeh: BokehJS is being loaded, scheduling callback at\", now());\n",
       "      return null;\n",
       "    }\n",
       "    if (js_urls.length === 0 && js_modules.length === 0) {\n",
       "      run_callbacks();\n",
       "      return null;\n",
       "    }\n",
       "    console.debug(\"Bokeh: BokehJS not loaded, scheduling load and callback at\", now());\n",
       "    root._bokeh_is_loading = css_urls.length + js_urls.length + js_modules.length;\n",
       "\n",
       "    function on_load() {\n",
       "      root._bokeh_is_loading--;\n",
       "      if (root._bokeh_is_loading === 0) {\n",
       "        console.debug(\"Bokeh: all BokehJS libraries/stylesheets loaded\");\n",
       "        run_callbacks()\n",
       "      }\n",
       "    }\n",
       "\n",
       "    function on_error() {\n",
       "      console.error(\"failed to load \" + url);\n",
       "    }\n",
       "\n",
       "    for (var i = 0; i < css_urls.length; i++) {\n",
       "      var url = css_urls[i];\n",
       "      const element = document.createElement(\"link\");\n",
       "      element.onload = on_load;\n",
       "      element.onerror = on_error;\n",
       "      element.rel = \"stylesheet\";\n",
       "      element.type = \"text/css\";\n",
       "      element.href = url;\n",
       "      console.debug(\"Bokeh: injecting link tag for BokehJS stylesheet: \", url);\n",
       "      document.body.appendChild(element);\n",
       "    }\n",
       "\n",
       "    var skip = [];\n",
       "    if (window.requirejs) {\n",
       "      window.requirejs.config({'packages': {}, 'paths': {'tabulator': 'https://unpkg.com/tabulator-tables@4.9.3/dist/js/tabulator', 'moment': 'https://unpkg.com/moment@2.27.0/moment'}, 'shim': {}});\n",
       "      \n",
       "      require([\"tabulator\"], function(Tabulator) {\n",
       "\twindow.Tabulator = Tabulator\n",
       "      })\n",
       "      \n",
       "      require([\"moment\"], function(moment) {\n",
       "\twindow.moment = moment\n",
       "      })\n",
       "      \n",
       "    }\n",
       "    if (((window['Tabulator'] !== undefined) && (!(window['Tabulator'] instanceof HTMLElement))) || window.requirejs) {\n",
       "      var urls = ['https://unpkg.com/tabulator-tables@4.9.3/dist/js/tabulator.js'];\n",
       "      for (var i = 0; i < urls.length; i++) {\n",
       "        skip.push(urls[i])\n",
       "      }\n",
       "    }\n",
       "    if (((window['moment'] !== undefined) && (!(window['moment'] instanceof HTMLElement))) || window.requirejs) {\n",
       "      var urls = ['https://unpkg.com/moment@2.27.0/moment.js'];\n",
       "      for (var i = 0; i < urls.length; i++) {\n",
       "        skip.push(urls[i])\n",
       "      }\n",
       "    }\n",
       "    for (var i = 0; i < js_urls.length; i++) {\n",
       "      var url = js_urls[i];\n",
       "      if (skip.indexOf(url) >= 0) { on_load(); continue; }\n",
       "      var element = document.createElement('script');\n",
       "      element.onload = on_load;\n",
       "      element.onerror = on_error;\n",
       "      element.async = false;\n",
       "      element.src = url;\n",
       "      console.debug(\"Bokeh: injecting script tag for BokehJS library: \", url);\n",
       "      document.head.appendChild(element);\n",
       "    }\n",
       "    for (var i = 0; i < js_modules.length; i++) {\n",
       "      var url = js_modules[i];\n",
       "      if (skip.indexOf(url) >= 0) { on_load(); continue; }\n",
       "      var element = document.createElement('script');\n",
       "      element.onload = on_load;\n",
       "      element.onerror = on_error;\n",
       "      element.async = false;\n",
       "      element.src = url;\n",
       "      element.type = \"module\";\n",
       "      console.debug(\"Bokeh: injecting script tag for BokehJS library: \", url);\n",
       "      document.head.appendChild(element);\n",
       "    }\n",
       "    if (!js_urls.length && !js_modules.length) {\n",
       "      on_load()\n",
       "    }\n",
       "  };\n",
       "\n",
       "  function inject_raw_css(css) {\n",
       "    const element = document.createElement(\"style\");\n",
       "    element.appendChild(document.createTextNode(css));\n",
       "    document.body.appendChild(element);\n",
       "  }\n",
       "\n",
       "  var js_urls = [\"https://unpkg.com/tabulator-tables@4.9.3/dist/js/tabulator.js\", \"https://unpkg.com/moment@2.27.0/moment.js\", \"https://cdn.bokeh.org/bokeh/release/bokeh-2.3.3.min.js\", \"https://cdn.bokeh.org/bokeh/release/bokeh-widgets-2.3.3.min.js\", \"https://cdn.bokeh.org/bokeh/release/bokeh-tables-2.3.3.min.js\", \"https://unpkg.com/@holoviz/panel@0.12.1/dist/panel.min.js\"];\n",
       "  var js_modules = [];\n",
       "  var css_urls = [\"https://unpkg.com/tabulator-tables@4.9.3/dist/css/tabulator_simple.min.css\", \"https://unpkg.com/@holoviz/panel@0.12.1/dist/css/alerts.css\", \"https://unpkg.com/@holoviz/panel@0.12.1/dist/css/card.css\", \"https://unpkg.com/@holoviz/panel@0.12.1/dist/css/dataframe.css\", \"https://unpkg.com/@holoviz/panel@0.12.1/dist/css/json.css\", \"https://unpkg.com/@holoviz/panel@0.12.1/dist/css/loading.css\", \"https://unpkg.com/@holoviz/panel@0.12.1/dist/css/markdown.css\", \"https://unpkg.com/@holoviz/panel@0.12.1/dist/css/widgets.css\"];\n",
       "  var inline_js = [\n",
       "    function(Bokeh) {\n",
       "      inject_raw_css(\"\\n    .bk.pn-loading.arcs:before {\\n      background-image: url(\\\"data:image/svg+xml;base64,PHN2ZyB4bWxucz0iaHR0cDovL3d3dy53My5vcmcvMjAwMC9zdmciIHhtbG5zOnhsaW5rPSJodHRwOi8vd3d3LnczLm9yZy8xOTk5L3hsaW5rIiBzdHlsZT0ibWFyZ2luOiBhdXRvOyBiYWNrZ3JvdW5kOiBub25lOyBkaXNwbGF5OiBibG9jazsgc2hhcGUtcmVuZGVyaW5nOiBhdXRvOyIgdmlld0JveD0iMCAwIDEwMCAxMDAiIHByZXNlcnZlQXNwZWN0UmF0aW89InhNaWRZTWlkIj4gIDxjaXJjbGUgY3g9IjUwIiBjeT0iNTAiIHI9IjMyIiBzdHJva2Utd2lkdGg9IjgiIHN0cm9rZT0iI2MzYzNjMyIgc3Ryb2tlLWRhc2hhcnJheT0iNTAuMjY1NDgyNDU3NDM2NjkgNTAuMjY1NDgyNDU3NDM2NjkiIGZpbGw9Im5vbmUiIHN0cm9rZS1saW5lY2FwPSJyb3VuZCI+ICAgIDxhbmltYXRlVHJhbnNmb3JtIGF0dHJpYnV0ZU5hbWU9InRyYW5zZm9ybSIgdHlwZT0icm90YXRlIiByZXBlYXRDb3VudD0iaW5kZWZpbml0ZSIgZHVyPSIxcyIga2V5VGltZXM9IjA7MSIgdmFsdWVzPSIwIDUwIDUwOzM2MCA1MCA1MCI+PC9hbmltYXRlVHJhbnNmb3JtPiAgPC9jaXJjbGU+PC9zdmc+\\\")\\n    }\\n    \");\n",
       "    },\n",
       "    function(Bokeh) {\n",
       "      Bokeh.set_log_level(\"info\");\n",
       "    },\n",
       "    function(Bokeh) {} // ensure no trailing comma for IE\n",
       "  ];\n",
       "\n",
       "  function run_inline_js() {\n",
       "    if ((root.Bokeh !== undefined) || (force === true)) {\n",
       "      for (var i = 0; i < inline_js.length; i++) {\n",
       "        inline_js[i].call(root, root.Bokeh);\n",
       "      }} else if (Date.now() < root._bokeh_timeout) {\n",
       "      setTimeout(run_inline_js, 100);\n",
       "    } else if (!root._bokeh_failed_load) {\n",
       "      console.log(\"Bokeh: BokehJS failed to load within specified timeout.\");\n",
       "      root._bokeh_failed_load = true;\n",
       "    }\n",
       "  }\n",
       "\n",
       "  if (root._bokeh_is_loading === 0) {\n",
       "    console.debug(\"Bokeh: BokehJS loaded, going straight to plotting\");\n",
       "    run_inline_js();\n",
       "  } else {\n",
       "    load_libs(css_urls, js_urls, js_modules, function() {\n",
       "      console.debug(\"Bokeh: BokehJS plotting callback run at\", now());\n",
       "      run_inline_js();\n",
       "    });\n",
       "  }\n",
       "}(window));"
      ],
      "application/vnd.holoviews_load.v0+json": "\n(function(root) {\n  function now() {\n    return new Date();\n  }\n\n  var force = true;\n\n  if (typeof root._bokeh_onload_callbacks === \"undefined\" || force === true) {\n    root._bokeh_onload_callbacks = [];\n    root._bokeh_is_loading = undefined;\n  }\n\n  if (typeof (root._bokeh_timeout) === \"undefined\" || force === true) {\n    root._bokeh_timeout = Date.now() + 5000;\n    root._bokeh_failed_load = false;\n  }\n\n  function run_callbacks() {\n    try {\n      root._bokeh_onload_callbacks.forEach(function(callback) {\n        if (callback != null)\n          callback();\n      });\n    } finally {\n      delete root._bokeh_onload_callbacks\n    }\n    console.debug(\"Bokeh: all callbacks have finished\");\n  }\n\n  function load_libs(css_urls, js_urls, js_modules, callback) {\n    if (css_urls == null) css_urls = [];\n    if (js_urls == null) js_urls = [];\n    if (js_modules == null) js_modules = [];\n\n    root._bokeh_onload_callbacks.push(callback);\n    if (root._bokeh_is_loading > 0) {\n      console.debug(\"Bokeh: BokehJS is being loaded, scheduling callback at\", now());\n      return null;\n    }\n    if (js_urls.length === 0 && js_modules.length === 0) {\n      run_callbacks();\n      return null;\n    }\n    console.debug(\"Bokeh: BokehJS not loaded, scheduling load and callback at\", now());\n    root._bokeh_is_loading = css_urls.length + js_urls.length + js_modules.length;\n\n    function on_load() {\n      root._bokeh_is_loading--;\n      if (root._bokeh_is_loading === 0) {\n        console.debug(\"Bokeh: all BokehJS libraries/stylesheets loaded\");\n        run_callbacks()\n      }\n    }\n\n    function on_error() {\n      console.error(\"failed to load \" + url);\n    }\n\n    for (var i = 0; i < css_urls.length; i++) {\n      var url = css_urls[i];\n      const element = document.createElement(\"link\");\n      element.onload = on_load;\n      element.onerror = on_error;\n      element.rel = \"stylesheet\";\n      element.type = \"text/css\";\n      element.href = url;\n      console.debug(\"Bokeh: injecting link tag for BokehJS stylesheet: \", url);\n      document.body.appendChild(element);\n    }\n\n    var skip = [];\n    if (window.requirejs) {\n      window.requirejs.config({'packages': {}, 'paths': {'tabulator': 'https://unpkg.com/tabulator-tables@4.9.3/dist/js/tabulator', 'moment': 'https://unpkg.com/moment@2.27.0/moment'}, 'shim': {}});\n      \n      require([\"tabulator\"], function(Tabulator) {\n\twindow.Tabulator = Tabulator\n      })\n      \n      require([\"moment\"], function(moment) {\n\twindow.moment = moment\n      })\n      \n    }\n    if (((window['Tabulator'] !== undefined) && (!(window['Tabulator'] instanceof HTMLElement))) || window.requirejs) {\n      var urls = ['https://unpkg.com/tabulator-tables@4.9.3/dist/js/tabulator.js'];\n      for (var i = 0; i < urls.length; i++) {\n        skip.push(urls[i])\n      }\n    }\n    if (((window['moment'] !== undefined) && (!(window['moment'] instanceof HTMLElement))) || window.requirejs) {\n      var urls = ['https://unpkg.com/moment@2.27.0/moment.js'];\n      for (var i = 0; i < urls.length; i++) {\n        skip.push(urls[i])\n      }\n    }\n    for (var i = 0; i < js_urls.length; i++) {\n      var url = js_urls[i];\n      if (skip.indexOf(url) >= 0) { on_load(); continue; }\n      var element = document.createElement('script');\n      element.onload = on_load;\n      element.onerror = on_error;\n      element.async = false;\n      element.src = url;\n      console.debug(\"Bokeh: injecting script tag for BokehJS library: \", url);\n      document.head.appendChild(element);\n    }\n    for (var i = 0; i < js_modules.length; i++) {\n      var url = js_modules[i];\n      if (skip.indexOf(url) >= 0) { on_load(); continue; }\n      var element = document.createElement('script');\n      element.onload = on_load;\n      element.onerror = on_error;\n      element.async = false;\n      element.src = url;\n      element.type = \"module\";\n      console.debug(\"Bokeh: injecting script tag for BokehJS library: \", url);\n      document.head.appendChild(element);\n    }\n    if (!js_urls.length && !js_modules.length) {\n      on_load()\n    }\n  };\n\n  function inject_raw_css(css) {\n    const element = document.createElement(\"style\");\n    element.appendChild(document.createTextNode(css));\n    document.body.appendChild(element);\n  }\n\n  var js_urls = [\"https://unpkg.com/tabulator-tables@4.9.3/dist/js/tabulator.js\", \"https://unpkg.com/moment@2.27.0/moment.js\", \"https://cdn.bokeh.org/bokeh/release/bokeh-2.3.3.min.js\", \"https://cdn.bokeh.org/bokeh/release/bokeh-widgets-2.3.3.min.js\", \"https://cdn.bokeh.org/bokeh/release/bokeh-tables-2.3.3.min.js\", \"https://unpkg.com/@holoviz/panel@0.12.1/dist/panel.min.js\"];\n  var js_modules = [];\n  var css_urls = [\"https://unpkg.com/tabulator-tables@4.9.3/dist/css/tabulator_simple.min.css\", \"https://unpkg.com/@holoviz/panel@0.12.1/dist/css/alerts.css\", \"https://unpkg.com/@holoviz/panel@0.12.1/dist/css/card.css\", \"https://unpkg.com/@holoviz/panel@0.12.1/dist/css/dataframe.css\", \"https://unpkg.com/@holoviz/panel@0.12.1/dist/css/json.css\", \"https://unpkg.com/@holoviz/panel@0.12.1/dist/css/loading.css\", \"https://unpkg.com/@holoviz/panel@0.12.1/dist/css/markdown.css\", \"https://unpkg.com/@holoviz/panel@0.12.1/dist/css/widgets.css\"];\n  var inline_js = [\n    function(Bokeh) {\n      inject_raw_css(\"\\n    .bk.pn-loading.arcs:before {\\n      background-image: url(\\\"data:image/svg+xml;base64,PHN2ZyB4bWxucz0iaHR0cDovL3d3dy53My5vcmcvMjAwMC9zdmciIHhtbG5zOnhsaW5rPSJodHRwOi8vd3d3LnczLm9yZy8xOTk5L3hsaW5rIiBzdHlsZT0ibWFyZ2luOiBhdXRvOyBiYWNrZ3JvdW5kOiBub25lOyBkaXNwbGF5OiBibG9jazsgc2hhcGUtcmVuZGVyaW5nOiBhdXRvOyIgdmlld0JveD0iMCAwIDEwMCAxMDAiIHByZXNlcnZlQXNwZWN0UmF0aW89InhNaWRZTWlkIj4gIDxjaXJjbGUgY3g9IjUwIiBjeT0iNTAiIHI9IjMyIiBzdHJva2Utd2lkdGg9IjgiIHN0cm9rZT0iI2MzYzNjMyIgc3Ryb2tlLWRhc2hhcnJheT0iNTAuMjY1NDgyNDU3NDM2NjkgNTAuMjY1NDgyNDU3NDM2NjkiIGZpbGw9Im5vbmUiIHN0cm9rZS1saW5lY2FwPSJyb3VuZCI+ICAgIDxhbmltYXRlVHJhbnNmb3JtIGF0dHJpYnV0ZU5hbWU9InRyYW5zZm9ybSIgdHlwZT0icm90YXRlIiByZXBlYXRDb3VudD0iaW5kZWZpbml0ZSIgZHVyPSIxcyIga2V5VGltZXM9IjA7MSIgdmFsdWVzPSIwIDUwIDUwOzM2MCA1MCA1MCI+PC9hbmltYXRlVHJhbnNmb3JtPiAgPC9jaXJjbGU+PC9zdmc+\\\")\\n    }\\n    \");\n    },\n    function(Bokeh) {\n      Bokeh.set_log_level(\"info\");\n    },\n    function(Bokeh) {} // ensure no trailing comma for IE\n  ];\n\n  function run_inline_js() {\n    if ((root.Bokeh !== undefined) || (force === true)) {\n      for (var i = 0; i < inline_js.length; i++) {\n        inline_js[i].call(root, root.Bokeh);\n      }} else if (Date.now() < root._bokeh_timeout) {\n      setTimeout(run_inline_js, 100);\n    } else if (!root._bokeh_failed_load) {\n      console.log(\"Bokeh: BokehJS failed to load within specified timeout.\");\n      root._bokeh_failed_load = true;\n    }\n  }\n\n  if (root._bokeh_is_loading === 0) {\n    console.debug(\"Bokeh: BokehJS loaded, going straight to plotting\");\n    run_inline_js();\n  } else {\n    load_libs(css_urls, js_urls, js_modules, function() {\n      console.debug(\"Bokeh: BokehJS plotting callback run at\", now());\n      run_inline_js();\n    });\n  }\n}(window));"
     },
     "metadata": {},
     "output_type": "display_data"
    },
    {
     "data": {
      "application/javascript": [
       "\n",
       "if ((window.PyViz === undefined) || (window.PyViz instanceof HTMLElement)) {\n",
       "  window.PyViz = {comms: {}, comm_status:{}, kernels:{}, receivers: {}, plot_index: []}\n",
       "}\n",
       "\n",
       "\n",
       "    function JupyterCommManager() {\n",
       "    }\n",
       "\n",
       "    JupyterCommManager.prototype.register_target = function(plot_id, comm_id, msg_handler) {\n",
       "      if (window.comm_manager || ((window.Jupyter !== undefined) && (Jupyter.notebook.kernel != null))) {\n",
       "        var comm_manager = window.comm_manager || Jupyter.notebook.kernel.comm_manager;\n",
       "        comm_manager.register_target(comm_id, function(comm) {\n",
       "          comm.on_msg(msg_handler);\n",
       "        });\n",
       "      } else if ((plot_id in window.PyViz.kernels) && (window.PyViz.kernels[plot_id])) {\n",
       "        window.PyViz.kernels[plot_id].registerCommTarget(comm_id, function(comm) {\n",
       "          comm.onMsg = msg_handler;\n",
       "        });\n",
       "      } else if (typeof google != 'undefined' && google.colab.kernel != null) {\n",
       "        google.colab.kernel.comms.registerTarget(comm_id, (comm) => {\n",
       "          var messages = comm.messages[Symbol.asyncIterator]();\n",
       "          function processIteratorResult(result) {\n",
       "            var message = result.value;\n",
       "            console.log(message)\n",
       "            var content = {data: message.data, comm_id};\n",
       "            var buffers = []\n",
       "            for (var buffer of message.buffers || []) {\n",
       "              buffers.push(new DataView(buffer))\n",
       "            }\n",
       "            var metadata = message.metadata || {};\n",
       "            var msg = {content, buffers, metadata}\n",
       "            msg_handler(msg);\n",
       "            return messages.next().then(processIteratorResult);\n",
       "          }\n",
       "          return messages.next().then(processIteratorResult);\n",
       "        })\n",
       "      }\n",
       "    }\n",
       "\n",
       "    JupyterCommManager.prototype.get_client_comm = function(plot_id, comm_id, msg_handler) {\n",
       "      if (comm_id in window.PyViz.comms) {\n",
       "        return window.PyViz.comms[comm_id];\n",
       "      } else if (window.comm_manager || ((window.Jupyter !== undefined) && (Jupyter.notebook.kernel != null))) {\n",
       "        var comm_manager = window.comm_manager || Jupyter.notebook.kernel.comm_manager;\n",
       "        var comm = comm_manager.new_comm(comm_id, {}, {}, {}, comm_id);\n",
       "        if (msg_handler) {\n",
       "          comm.on_msg(msg_handler);\n",
       "        }\n",
       "      } else if ((plot_id in window.PyViz.kernels) && (window.PyViz.kernels[plot_id])) {\n",
       "        var comm = window.PyViz.kernels[plot_id].connectToComm(comm_id);\n",
       "        comm.open();\n",
       "        if (msg_handler) {\n",
       "          comm.onMsg = msg_handler;\n",
       "        }\n",
       "      } else if (typeof google != 'undefined' && google.colab.kernel != null) {\n",
       "        var comm_promise = google.colab.kernel.comms.open(comm_id)\n",
       "        comm_promise.then((comm) => {\n",
       "          window.PyViz.comms[comm_id] = comm;\n",
       "          if (msg_handler) {\n",
       "            var messages = comm.messages[Symbol.asyncIterator]();\n",
       "            function processIteratorResult(result) {\n",
       "              var message = result.value;\n",
       "              var content = {data: message.data};\n",
       "              var metadata = message.metadata || {comm_id};\n",
       "              var msg = {content, metadata}\n",
       "              msg_handler(msg);\n",
       "              return messages.next().then(processIteratorResult);\n",
       "            }\n",
       "            return messages.next().then(processIteratorResult);\n",
       "          }\n",
       "        }) \n",
       "        var sendClosure = (data, metadata, buffers, disposeOnDone) => {\n",
       "          return comm_promise.then((comm) => {\n",
       "            comm.send(data, metadata, buffers, disposeOnDone);\n",
       "          });\n",
       "        };\n",
       "        var comm = {\n",
       "          send: sendClosure\n",
       "        };\n",
       "      }\n",
       "      window.PyViz.comms[comm_id] = comm;\n",
       "      return comm;\n",
       "    }\n",
       "    window.PyViz.comm_manager = new JupyterCommManager();\n",
       "    \n",
       "\n",
       "\n",
       "var JS_MIME_TYPE = 'application/javascript';\n",
       "var HTML_MIME_TYPE = 'text/html';\n",
       "var EXEC_MIME_TYPE = 'application/vnd.holoviews_exec.v0+json';\n",
       "var CLASS_NAME = 'output';\n",
       "\n",
       "/**\n",
       " * Render data to the DOM node\n",
       " */\n",
       "function render(props, node) {\n",
       "  var div = document.createElement(\"div\");\n",
       "  var script = document.createElement(\"script\");\n",
       "  node.appendChild(div);\n",
       "  node.appendChild(script);\n",
       "}\n",
       "\n",
       "/**\n",
       " * Handle when a new output is added\n",
       " */\n",
       "function handle_add_output(event, handle) {\n",
       "  var output_area = handle.output_area;\n",
       "  var output = handle.output;\n",
       "  if ((output.data == undefined) || (!output.data.hasOwnProperty(EXEC_MIME_TYPE))) {\n",
       "    return\n",
       "  }\n",
       "  var id = output.metadata[EXEC_MIME_TYPE][\"id\"];\n",
       "  var toinsert = output_area.element.find(\".\" + CLASS_NAME.split(' ')[0]);\n",
       "  if (id !== undefined) {\n",
       "    var nchildren = toinsert.length;\n",
       "    var html_node = toinsert[nchildren-1].children[0];\n",
       "    html_node.innerHTML = output.data[HTML_MIME_TYPE];\n",
       "    var scripts = [];\n",
       "    var nodelist = html_node.querySelectorAll(\"script\");\n",
       "    for (var i in nodelist) {\n",
       "      if (nodelist.hasOwnProperty(i)) {\n",
       "        scripts.push(nodelist[i])\n",
       "      }\n",
       "    }\n",
       "\n",
       "    scripts.forEach( function (oldScript) {\n",
       "      var newScript = document.createElement(\"script\");\n",
       "      var attrs = [];\n",
       "      var nodemap = oldScript.attributes;\n",
       "      for (var j in nodemap) {\n",
       "        if (nodemap.hasOwnProperty(j)) {\n",
       "          attrs.push(nodemap[j])\n",
       "        }\n",
       "      }\n",
       "      attrs.forEach(function(attr) { newScript.setAttribute(attr.name, attr.value) });\n",
       "      newScript.appendChild(document.createTextNode(oldScript.innerHTML));\n",
       "      oldScript.parentNode.replaceChild(newScript, oldScript);\n",
       "    });\n",
       "    if (JS_MIME_TYPE in output.data) {\n",
       "      toinsert[nchildren-1].children[1].textContent = output.data[JS_MIME_TYPE];\n",
       "    }\n",
       "    output_area._hv_plot_id = id;\n",
       "    if ((window.Bokeh !== undefined) && (id in Bokeh.index)) {\n",
       "      window.PyViz.plot_index[id] = Bokeh.index[id];\n",
       "    } else {\n",
       "      window.PyViz.plot_index[id] = null;\n",
       "    }\n",
       "  } else if (output.metadata[EXEC_MIME_TYPE][\"server_id\"] !== undefined) {\n",
       "    var bk_div = document.createElement(\"div\");\n",
       "    bk_div.innerHTML = output.data[HTML_MIME_TYPE];\n",
       "    var script_attrs = bk_div.children[0].attributes;\n",
       "    for (var i = 0; i < script_attrs.length; i++) {\n",
       "      toinsert[toinsert.length - 1].childNodes[1].setAttribute(script_attrs[i].name, script_attrs[i].value);\n",
       "    }\n",
       "    // store reference to server id on output_area\n",
       "    output_area._bokeh_server_id = output.metadata[EXEC_MIME_TYPE][\"server_id\"];\n",
       "  }\n",
       "}\n",
       "\n",
       "/**\n",
       " * Handle when an output is cleared or removed\n",
       " */\n",
       "function handle_clear_output(event, handle) {\n",
       "  var id = handle.cell.output_area._hv_plot_id;\n",
       "  var server_id = handle.cell.output_area._bokeh_server_id;\n",
       "  if (((id === undefined) || !(id in PyViz.plot_index)) && (server_id !== undefined)) { return; }\n",
       "  var comm = window.PyViz.comm_manager.get_client_comm(\"hv-extension-comm\", \"hv-extension-comm\", function () {});\n",
       "  if (server_id !== null) {\n",
       "    comm.send({event_type: 'server_delete', 'id': server_id});\n",
       "    return;\n",
       "  } else if (comm !== null) {\n",
       "    comm.send({event_type: 'delete', 'id': id});\n",
       "  }\n",
       "  delete PyViz.plot_index[id];\n",
       "  if ((window.Bokeh !== undefined) & (id in window.Bokeh.index)) {\n",
       "    var doc = window.Bokeh.index[id].model.document\n",
       "    doc.clear();\n",
       "    const i = window.Bokeh.documents.indexOf(doc);\n",
       "    if (i > -1) {\n",
       "      window.Bokeh.documents.splice(i, 1);\n",
       "    }\n",
       "  }\n",
       "}\n",
       "\n",
       "/**\n",
       " * Handle kernel restart event\n",
       " */\n",
       "function handle_kernel_cleanup(event, handle) {\n",
       "  delete PyViz.comms[\"hv-extension-comm\"];\n",
       "  window.PyViz.plot_index = {}\n",
       "}\n",
       "\n",
       "/**\n",
       " * Handle update_display_data messages\n",
       " */\n",
       "function handle_update_output(event, handle) {\n",
       "  handle_clear_output(event, {cell: {output_area: handle.output_area}})\n",
       "  handle_add_output(event, handle)\n",
       "}\n",
       "\n",
       "function register_renderer(events, OutputArea) {\n",
       "  function append_mime(data, metadata, element) {\n",
       "    // create a DOM node to render to\n",
       "    var toinsert = this.create_output_subarea(\n",
       "    metadata,\n",
       "    CLASS_NAME,\n",
       "    EXEC_MIME_TYPE\n",
       "    );\n",
       "    this.keyboard_manager.register_events(toinsert);\n",
       "    // Render to node\n",
       "    var props = {data: data, metadata: metadata[EXEC_MIME_TYPE]};\n",
       "    render(props, toinsert[0]);\n",
       "    element.append(toinsert);\n",
       "    return toinsert\n",
       "  }\n",
       "\n",
       "  events.on('output_added.OutputArea', handle_add_output);\n",
       "  events.on('output_updated.OutputArea', handle_update_output);\n",
       "  events.on('clear_output.CodeCell', handle_clear_output);\n",
       "  events.on('delete.Cell', handle_clear_output);\n",
       "  events.on('kernel_ready.Kernel', handle_kernel_cleanup);\n",
       "\n",
       "  OutputArea.prototype.register_mime_type(EXEC_MIME_TYPE, append_mime, {\n",
       "    safe: true,\n",
       "    index: 0\n",
       "  });\n",
       "}\n",
       "\n",
       "if (window.Jupyter !== undefined) {\n",
       "  try {\n",
       "    var events = require('base/js/events');\n",
       "    var OutputArea = require('notebook/js/outputarea').OutputArea;\n",
       "    if (OutputArea.prototype.mime_types().indexOf(EXEC_MIME_TYPE) == -1) {\n",
       "      register_renderer(events, OutputArea);\n",
       "    }\n",
       "  } catch(err) {\n",
       "  }\n",
       "}\n"
      ],
      "application/vnd.holoviews_load.v0+json": "\nif ((window.PyViz === undefined) || (window.PyViz instanceof HTMLElement)) {\n  window.PyViz = {comms: {}, comm_status:{}, kernels:{}, receivers: {}, plot_index: []}\n}\n\n\n    function JupyterCommManager() {\n    }\n\n    JupyterCommManager.prototype.register_target = function(plot_id, comm_id, msg_handler) {\n      if (window.comm_manager || ((window.Jupyter !== undefined) && (Jupyter.notebook.kernel != null))) {\n        var comm_manager = window.comm_manager || Jupyter.notebook.kernel.comm_manager;\n        comm_manager.register_target(comm_id, function(comm) {\n          comm.on_msg(msg_handler);\n        });\n      } else if ((plot_id in window.PyViz.kernels) && (window.PyViz.kernels[plot_id])) {\n        window.PyViz.kernels[plot_id].registerCommTarget(comm_id, function(comm) {\n          comm.onMsg = msg_handler;\n        });\n      } else if (typeof google != 'undefined' && google.colab.kernel != null) {\n        google.colab.kernel.comms.registerTarget(comm_id, (comm) => {\n          var messages = comm.messages[Symbol.asyncIterator]();\n          function processIteratorResult(result) {\n            var message = result.value;\n            console.log(message)\n            var content = {data: message.data, comm_id};\n            var buffers = []\n            for (var buffer of message.buffers || []) {\n              buffers.push(new DataView(buffer))\n            }\n            var metadata = message.metadata || {};\n            var msg = {content, buffers, metadata}\n            msg_handler(msg);\n            return messages.next().then(processIteratorResult);\n          }\n          return messages.next().then(processIteratorResult);\n        })\n      }\n    }\n\n    JupyterCommManager.prototype.get_client_comm = function(plot_id, comm_id, msg_handler) {\n      if (comm_id in window.PyViz.comms) {\n        return window.PyViz.comms[comm_id];\n      } else if (window.comm_manager || ((window.Jupyter !== undefined) && (Jupyter.notebook.kernel != null))) {\n        var comm_manager = window.comm_manager || Jupyter.notebook.kernel.comm_manager;\n        var comm = comm_manager.new_comm(comm_id, {}, {}, {}, comm_id);\n        if (msg_handler) {\n          comm.on_msg(msg_handler);\n        }\n      } else if ((plot_id in window.PyViz.kernels) && (window.PyViz.kernels[plot_id])) {\n        var comm = window.PyViz.kernels[plot_id].connectToComm(comm_id);\n        comm.open();\n        if (msg_handler) {\n          comm.onMsg = msg_handler;\n        }\n      } else if (typeof google != 'undefined' && google.colab.kernel != null) {\n        var comm_promise = google.colab.kernel.comms.open(comm_id)\n        comm_promise.then((comm) => {\n          window.PyViz.comms[comm_id] = comm;\n          if (msg_handler) {\n            var messages = comm.messages[Symbol.asyncIterator]();\n            function processIteratorResult(result) {\n              var message = result.value;\n              var content = {data: message.data};\n              var metadata = message.metadata || {comm_id};\n              var msg = {content, metadata}\n              msg_handler(msg);\n              return messages.next().then(processIteratorResult);\n            }\n            return messages.next().then(processIteratorResult);\n          }\n        }) \n        var sendClosure = (data, metadata, buffers, disposeOnDone) => {\n          return comm_promise.then((comm) => {\n            comm.send(data, metadata, buffers, disposeOnDone);\n          });\n        };\n        var comm = {\n          send: sendClosure\n        };\n      }\n      window.PyViz.comms[comm_id] = comm;\n      return comm;\n    }\n    window.PyViz.comm_manager = new JupyterCommManager();\n    \n\n\nvar JS_MIME_TYPE = 'application/javascript';\nvar HTML_MIME_TYPE = 'text/html';\nvar EXEC_MIME_TYPE = 'application/vnd.holoviews_exec.v0+json';\nvar CLASS_NAME = 'output';\n\n/**\n * Render data to the DOM node\n */\nfunction render(props, node) {\n  var div = document.createElement(\"div\");\n  var script = document.createElement(\"script\");\n  node.appendChild(div);\n  node.appendChild(script);\n}\n\n/**\n * Handle when a new output is added\n */\nfunction handle_add_output(event, handle) {\n  var output_area = handle.output_area;\n  var output = handle.output;\n  if ((output.data == undefined) || (!output.data.hasOwnProperty(EXEC_MIME_TYPE))) {\n    return\n  }\n  var id = output.metadata[EXEC_MIME_TYPE][\"id\"];\n  var toinsert = output_area.element.find(\".\" + CLASS_NAME.split(' ')[0]);\n  if (id !== undefined) {\n    var nchildren = toinsert.length;\n    var html_node = toinsert[nchildren-1].children[0];\n    html_node.innerHTML = output.data[HTML_MIME_TYPE];\n    var scripts = [];\n    var nodelist = html_node.querySelectorAll(\"script\");\n    for (var i in nodelist) {\n      if (nodelist.hasOwnProperty(i)) {\n        scripts.push(nodelist[i])\n      }\n    }\n\n    scripts.forEach( function (oldScript) {\n      var newScript = document.createElement(\"script\");\n      var attrs = [];\n      var nodemap = oldScript.attributes;\n      for (var j in nodemap) {\n        if (nodemap.hasOwnProperty(j)) {\n          attrs.push(nodemap[j])\n        }\n      }\n      attrs.forEach(function(attr) { newScript.setAttribute(attr.name, attr.value) });\n      newScript.appendChild(document.createTextNode(oldScript.innerHTML));\n      oldScript.parentNode.replaceChild(newScript, oldScript);\n    });\n    if (JS_MIME_TYPE in output.data) {\n      toinsert[nchildren-1].children[1].textContent = output.data[JS_MIME_TYPE];\n    }\n    output_area._hv_plot_id = id;\n    if ((window.Bokeh !== undefined) && (id in Bokeh.index)) {\n      window.PyViz.plot_index[id] = Bokeh.index[id];\n    } else {\n      window.PyViz.plot_index[id] = null;\n    }\n  } else if (output.metadata[EXEC_MIME_TYPE][\"server_id\"] !== undefined) {\n    var bk_div = document.createElement(\"div\");\n    bk_div.innerHTML = output.data[HTML_MIME_TYPE];\n    var script_attrs = bk_div.children[0].attributes;\n    for (var i = 0; i < script_attrs.length; i++) {\n      toinsert[toinsert.length - 1].childNodes[1].setAttribute(script_attrs[i].name, script_attrs[i].value);\n    }\n    // store reference to server id on output_area\n    output_area._bokeh_server_id = output.metadata[EXEC_MIME_TYPE][\"server_id\"];\n  }\n}\n\n/**\n * Handle when an output is cleared or removed\n */\nfunction handle_clear_output(event, handle) {\n  var id = handle.cell.output_area._hv_plot_id;\n  var server_id = handle.cell.output_area._bokeh_server_id;\n  if (((id === undefined) || !(id in PyViz.plot_index)) && (server_id !== undefined)) { return; }\n  var comm = window.PyViz.comm_manager.get_client_comm(\"hv-extension-comm\", \"hv-extension-comm\", function () {});\n  if (server_id !== null) {\n    comm.send({event_type: 'server_delete', 'id': server_id});\n    return;\n  } else if (comm !== null) {\n    comm.send({event_type: 'delete', 'id': id});\n  }\n  delete PyViz.plot_index[id];\n  if ((window.Bokeh !== undefined) & (id in window.Bokeh.index)) {\n    var doc = window.Bokeh.index[id].model.document\n    doc.clear();\n    const i = window.Bokeh.documents.indexOf(doc);\n    if (i > -1) {\n      window.Bokeh.documents.splice(i, 1);\n    }\n  }\n}\n\n/**\n * Handle kernel restart event\n */\nfunction handle_kernel_cleanup(event, handle) {\n  delete PyViz.comms[\"hv-extension-comm\"];\n  window.PyViz.plot_index = {}\n}\n\n/**\n * Handle update_display_data messages\n */\nfunction handle_update_output(event, handle) {\n  handle_clear_output(event, {cell: {output_area: handle.output_area}})\n  handle_add_output(event, handle)\n}\n\nfunction register_renderer(events, OutputArea) {\n  function append_mime(data, metadata, element) {\n    // create a DOM node to render to\n    var toinsert = this.create_output_subarea(\n    metadata,\n    CLASS_NAME,\n    EXEC_MIME_TYPE\n    );\n    this.keyboard_manager.register_events(toinsert);\n    // Render to node\n    var props = {data: data, metadata: metadata[EXEC_MIME_TYPE]};\n    render(props, toinsert[0]);\n    element.append(toinsert);\n    return toinsert\n  }\n\n  events.on('output_added.OutputArea', handle_add_output);\n  events.on('output_updated.OutputArea', handle_update_output);\n  events.on('clear_output.CodeCell', handle_clear_output);\n  events.on('delete.Cell', handle_clear_output);\n  events.on('kernel_ready.Kernel', handle_kernel_cleanup);\n\n  OutputArea.prototype.register_mime_type(EXEC_MIME_TYPE, append_mime, {\n    safe: true,\n    index: 0\n  });\n}\n\nif (window.Jupyter !== undefined) {\n  try {\n    var events = require('base/js/events');\n    var OutputArea = require('notebook/js/outputarea').OutputArea;\n    if (OutputArea.prototype.mime_types().indexOf(EXEC_MIME_TYPE) == -1) {\n      register_renderer(events, OutputArea);\n    }\n  } catch(err) {\n  }\n}\n"
     },
     "metadata": {},
     "output_type": "display_data"
    },
    {
     "data": {
      "text/plain": [
       "datetime.date(2022, 5, 9)"
      ]
     },
     "execution_count": 1,
     "metadata": {},
     "output_type": "execute_result"
    }
   ],
   "source": [
    "import calendar\n",
    "import pandas as pd\n",
    "import panel as pn\n",
    "import seaborn as sns\n",
    "from datetime import date, timedelta\n",
    "from sqlalchemy import create_engine\n",
    "from itables import init_notebook_mode, show\n",
    "init_notebook_mode(all_interactive=False)\n",
    "\n",
    "pn.extension('tabulator')\n",
    "\n",
    "engine = create_engine(\"sqlite:///c:\\\\ruby\\\\port_lite\\\\db\\\\development.sqlite3\")\n",
    "conlite = engine.connect()\n",
    "\n",
    "data_path = \"../data/\"\n",
    "csv_path = \"\\\\Users\\\\User\\\\iCloudDrive\\\\\"\n",
    "box_path = \"\\\\Users\\\\User\\\\Dropbox\\\\\"\n",
    "one_path = \"\\\\Users\\\\User\\\\OneDrive\\\\Documents\\\\Data\\\\\"\n",
    "\n",
    "def categorise(row):  \n",
    "    if row['trade'] == 'B':\n",
    "        return 'Buy'\n",
    "    else:\n",
    "        return 'Sell'\n",
    "    \n",
    "today = date.today()\n",
    "today"
   ]
  },
  {
   "cell_type": "markdown",
   "metadata": {},
   "source": [
    "### Begin of Tables in the process"
   ]
  },
  {
   "cell_type": "code",
   "execution_count": 2,
   "metadata": {},
   "outputs": [],
   "source": [
    "cols = 'trade name qty price active reason market xdate'.split()\n",
    "colt = 'trans name qty target active spd current change percent reason market xdate'.split()"
   ]
  },
  {
   "cell_type": "code",
   "execution_count": 3,
   "metadata": {},
   "outputs": [],
   "source": [
    "format_dict = {\n",
    "    'qty':'{:,}',\n",
    "    'price':'{:.2f}','target':'{:.2f}','current':'{:.2f}','change':'{:.2f}','diff':'{:.2f}',\n",
    "    'amount':'{:,.2f}','sell_amt':'{:,.2f}'\n",
    "}"
   ]
  },
  {
   "cell_type": "code",
   "execution_count": 4,
   "metadata": {},
   "outputs": [
    {
     "data": {
      "text/html": [
       "<style type=\"text/css\">\n",
       "</style>\n",
       "<table id=\"T_a7ea3_\">\n",
       "  <thead>\n",
       "    <tr>\n",
       "      <th class=\"blank level0\" >&nbsp;</th>\n",
       "      <th class=\"col_heading level0 col0\" >id</th>\n",
       "      <th class=\"col_heading level0 col1\" >trade</th>\n",
       "      <th class=\"col_heading level0 col2\" >name</th>\n",
       "      <th class=\"col_heading level0 col3\" >qty</th>\n",
       "      <th class=\"col_heading level0 col4\" >price</th>\n",
       "      <th class=\"col_heading level0 col5\" >active</th>\n",
       "      <th class=\"col_heading level0 col6\" >reason</th>\n",
       "      <th class=\"col_heading level0 col7\" >market</th>\n",
       "      <th class=\"col_heading level0 col8\" >xdate</th>\n",
       "    </tr>\n",
       "  </thead>\n",
       "  <tbody>\n",
       "    <tr>\n",
       "      <th id=\"T_a7ea3_level0_row0\" class=\"row_heading level0 row0\" >0</th>\n",
       "      <td id=\"T_a7ea3_row0_col0\" class=\"data row0 col0\" >15</td>\n",
       "      <td id=\"T_a7ea3_row0_col1\" class=\"data row0 col1\" >S</td>\n",
       "      <td id=\"T_a7ea3_row0_col2\" class=\"data row0 col2\" >SPALI</td>\n",
       "      <td id=\"T_a7ea3_row0_col3\" class=\"data row0 col3\" >3,000</td>\n",
       "      <td id=\"T_a7ea3_row0_col4\" class=\"data row0 col4\" >22.40</td>\n",
       "      <td id=\"T_a7ea3_row0_col5\" class=\"data row0 col5\" >1</td>\n",
       "      <td id=\"T_a7ea3_row0_col6\" class=\"data row0 col6\" >C22.0</td>\n",
       "      <td id=\"T_a7ea3_row0_col7\" class=\"data row0 col7\" >SET100</td>\n",
       "      <td id=\"T_a7ea3_row0_col8\" class=\"data row0 col8\" >2022-04-27</td>\n",
       "    </tr>\n",
       "  </tbody>\n",
       "</table>\n"
      ],
      "text/plain": [
       "<pandas.io.formats.style.Styler at 0x25903d95040>"
      ]
     },
     "execution_count": 4,
     "metadata": {},
     "output_type": "execute_result"
    }
   ],
   "source": [
    "pd.read_sql_query('SELECT * FROM orders ORDER BY id DESC LIMIT 1', conlite).style.format(format_dict)"
   ]
  },
  {
   "cell_type": "code",
   "execution_count": 5,
   "metadata": {},
   "outputs": [
    {
     "data": {
      "text/html": [
       "<style type=\"text/css\">\n",
       "</style>\n",
       "<table id=\"T_23ff8_\">\n",
       "  <thead>\n",
       "    <tr>\n",
       "      <th class=\"blank level0\" >&nbsp;</th>\n",
       "      <th class=\"col_heading level0 col0\" >trade</th>\n",
       "      <th class=\"col_heading level0 col1\" >name</th>\n",
       "      <th class=\"col_heading level0 col2\" >spd</th>\n",
       "      <th class=\"col_heading level0 col3\" >reason</th>\n",
       "      <th class=\"col_heading level0 col4\" >market</th>\n",
       "      <th class=\"col_heading level0 col5\" >qty</th>\n",
       "      <th class=\"col_heading level0 col6\" >target</th>\n",
       "      <th class=\"col_heading level0 col7\" >current</th>\n",
       "      <th class=\"col_heading level0 col8\" >change</th>\n",
       "      <th class=\"col_heading level0 col9\" >percent</th>\n",
       "      <th class=\"col_heading level0 col10\" >active</th>\n",
       "      <th class=\"col_heading level0 col11\" >xdate</th>\n",
       "      <th class=\"col_heading level0 col12\" >trans</th>\n",
       "      <th class=\"col_heading level0 col13\" >amount</th>\n",
       "    </tr>\n",
       "  </thead>\n",
       "  <tbody>\n",
       "  </tbody>\n",
       "</table>\n"
      ],
      "text/plain": [
       "<pandas.io.formats.style.Styler at 0x25904bff820>"
      ]
     },
     "execution_count": 5,
     "metadata": {},
     "output_type": "execute_result"
    }
   ],
   "source": [
    "tmp = pd.read_csv('../data/orders-log.csv')\n",
    "tmp['trans'] = tmp.apply(lambda row: categorise(row), axis=1)\n",
    "tmp['amount'] = tmp.qty * tmp.target\n",
    "tmp[tmp.active == 2].style.background_gradient(cmap = 'Blues')"
   ]
  },
  {
   "cell_type": "code",
   "execution_count": 6,
   "metadata": {},
   "outputs": [
    {
     "data": {
      "text/html": [
       "<style type=\"text/css\">\n",
       "</style>\n",
       "<table id=\"T_999ea_\">\n",
       "  <thead>\n",
       "    <tr>\n",
       "      <th class=\"col_heading level0 col0\" >trade</th>\n",
       "      <th class=\"col_heading level0 col1\" >name</th>\n",
       "      <th class=\"col_heading level0 col2\" >spd</th>\n",
       "      <th class=\"col_heading level0 col3\" >reason</th>\n",
       "      <th class=\"col_heading level0 col4\" >market</th>\n",
       "      <th class=\"col_heading level0 col5\" >qty</th>\n",
       "      <th class=\"col_heading level0 col6\" >target</th>\n",
       "      <th class=\"col_heading level0 col7\" >current</th>\n",
       "      <th class=\"col_heading level0 col8\" >change</th>\n",
       "      <th class=\"col_heading level0 col9\" >percent</th>\n",
       "      <th class=\"col_heading level0 col10\" >active</th>\n",
       "      <th class=\"col_heading level0 col11\" >xdate</th>\n",
       "      <th class=\"col_heading level0 col12\" >trans</th>\n",
       "      <th class=\"col_heading level0 col13\" >amount</th>\n",
       "    </tr>\n",
       "  </thead>\n",
       "  <tbody>\n",
       "    <tr>\n",
       "      <td id=\"T_999ea_row0_col0\" class=\"data row0 col0\" >B</td>\n",
       "      <td id=\"T_999ea_row0_col1\" class=\"data row0 col1\" >DCC</td>\n",
       "      <td id=\"T_999ea_row0_col2\" class=\"data row0 col2\" >-1</td>\n",
       "      <td id=\"T_999ea_row0_col3\" class=\"data row0 col3\" >ROUND</td>\n",
       "      <td id=\"T_999ea_row0_col4\" class=\"data row0 col4\" >SET</td>\n",
       "      <td id=\"T_999ea_row0_col5\" class=\"data row0 col5\" >30000</td>\n",
       "      <td id=\"T_999ea_row0_col6\" class=\"data row0 col6\" >2.940000</td>\n",
       "      <td id=\"T_999ea_row0_col7\" class=\"data row0 col7\" >2.960000</td>\n",
       "      <td id=\"T_999ea_row0_col8\" class=\"data row0 col8\" >-0.040000</td>\n",
       "      <td id=\"T_999ea_row0_col9\" class=\"data row0 col9\" >-1.33%</td>\n",
       "      <td id=\"T_999ea_row0_col10\" class=\"data row0 col10\" >0</td>\n",
       "      <td id=\"T_999ea_row0_col11\" class=\"data row0 col11\" >2022-05-13</td>\n",
       "      <td id=\"T_999ea_row0_col12\" class=\"data row0 col12\" >Buy</td>\n",
       "      <td id=\"T_999ea_row0_col13\" class=\"data row0 col13\" >88200.000000</td>\n",
       "    </tr>\n",
       "    <tr>\n",
       "      <td id=\"T_999ea_row1_col0\" class=\"data row1 col0\" >B</td>\n",
       "      <td id=\"T_999ea_row1_col1\" class=\"data row1 col1\" >DOHOME</td>\n",
       "      <td id=\"T_999ea_row1_col2\" class=\"data row1 col2\" >-2</td>\n",
       "      <td id=\"T_999ea_row1_col3\" class=\"data row1 col3\" >ROUND</td>\n",
       "      <td id=\"T_999ea_row1_col4\" class=\"data row1 col4\" >SET100</td>\n",
       "      <td id=\"T_999ea_row1_col5\" class=\"data row1 col5\" >2400</td>\n",
       "      <td id=\"T_999ea_row1_col6\" class=\"data row1 col6\" >19.500000</td>\n",
       "      <td id=\"T_999ea_row1_col7\" class=\"data row1 col7\" >19.700000</td>\n",
       "      <td id=\"T_999ea_row1_col8\" class=\"data row1 col8\" >-0.400000</td>\n",
       "      <td id=\"T_999ea_row1_col9\" class=\"data row1 col9\" >-1.99%</td>\n",
       "      <td id=\"T_999ea_row1_col10\" class=\"data row1 col10\" >0</td>\n",
       "      <td id=\"T_999ea_row1_col11\" class=\"data row1 col11\" >2022-02-02</td>\n",
       "      <td id=\"T_999ea_row1_col12\" class=\"data row1 col12\" >Buy</td>\n",
       "      <td id=\"T_999ea_row1_col13\" class=\"data row1 col13\" >46800.000000</td>\n",
       "    </tr>\n",
       "    <tr>\n",
       "      <td id=\"T_999ea_row2_col0\" class=\"data row2 col0\" >B</td>\n",
       "      <td id=\"T_999ea_row2_col1\" class=\"data row2 col1\" >JASIF</td>\n",
       "      <td id=\"T_999ea_row2_col2\" class=\"data row2 col2\" >-2</td>\n",
       "      <td id=\"T_999ea_row2_col3\" class=\"data row2 col3\" >ROUND</td>\n",
       "      <td id=\"T_999ea_row2_col4\" class=\"data row2 col4\" >SET</td>\n",
       "      <td id=\"T_999ea_row2_col5\" class=\"data row2 col5\" >10000</td>\n",
       "      <td id=\"T_999ea_row2_col6\" class=\"data row2 col6\" >10.800000</td>\n",
       "      <td id=\"T_999ea_row2_col7\" class=\"data row2 col7\" >11.000000</td>\n",
       "      <td id=\"T_999ea_row2_col8\" class=\"data row2 col8\" >0.000000</td>\n",
       "      <td id=\"T_999ea_row2_col9\" class=\"data row2 col9\" >0.00%</td>\n",
       "      <td id=\"T_999ea_row2_col10\" class=\"data row2 col10\" >0</td>\n",
       "      <td id=\"T_999ea_row2_col11\" class=\"data row2 col11\" >2022-03-03</td>\n",
       "      <td id=\"T_999ea_row2_col12\" class=\"data row2 col12\" >Buy</td>\n",
       "      <td id=\"T_999ea_row2_col13\" class=\"data row2 col13\" >108000.000000</td>\n",
       "    </tr>\n",
       "    <tr>\n",
       "      <td id=\"T_999ea_row3_col0\" class=\"data row3 col0\" >B</td>\n",
       "      <td id=\"T_999ea_row3_col1\" class=\"data row3 col1\" >SENA</td>\n",
       "      <td id=\"T_999ea_row3_col2\" class=\"data row3 col2\" >-3</td>\n",
       "      <td id=\"T_999ea_row3_col3\" class=\"data row3 col3\" >RD05pct</td>\n",
       "      <td id=\"T_999ea_row3_col4\" class=\"data row3 col4\" >SET</td>\n",
       "      <td id=\"T_999ea_row3_col5\" class=\"data row3 col5\" >15000</td>\n",
       "      <td id=\"T_999ea_row3_col6\" class=\"data row3 col6\" >4.280000</td>\n",
       "      <td id=\"T_999ea_row3_col7\" class=\"data row3 col7\" >4.340000</td>\n",
       "      <td id=\"T_999ea_row3_col8\" class=\"data row3 col8\" >-0.040000</td>\n",
       "      <td id=\"T_999ea_row3_col9\" class=\"data row3 col9\" >-0.91%</td>\n",
       "      <td id=\"T_999ea_row3_col10\" class=\"data row3 col10\" >0</td>\n",
       "      <td id=\"T_999ea_row3_col11\" class=\"data row3 col11\" >2022-05-10</td>\n",
       "      <td id=\"T_999ea_row3_col12\" class=\"data row3 col12\" >Buy</td>\n",
       "      <td id=\"T_999ea_row3_col13\" class=\"data row3 col13\" >64200.000000</td>\n",
       "    </tr>\n",
       "    <tr>\n",
       "      <td id=\"T_999ea_row4_col0\" class=\"data row4 col0\" >B</td>\n",
       "      <td id=\"T_999ea_row4_col1\" class=\"data row4 col1\" >BCH</td>\n",
       "      <td id=\"T_999ea_row4_col2\" class=\"data row4 col2\" >-13</td>\n",
       "      <td id=\"T_999ea_row4_col3\" class=\"data row4 col3\" >RD05pct</td>\n",
       "      <td id=\"T_999ea_row4_col4\" class=\"data row4 col4\" >SET100</td>\n",
       "      <td id=\"T_999ea_row4_col5\" class=\"data row4 col5\" >3000</td>\n",
       "      <td id=\"T_999ea_row4_col6\" class=\"data row4 col6\" >19.900000</td>\n",
       "      <td id=\"T_999ea_row4_col7\" class=\"data row4 col7\" >21.200000</td>\n",
       "      <td id=\"T_999ea_row4_col8\" class=\"data row4 col8\" >0.000000</td>\n",
       "      <td id=\"T_999ea_row4_col9\" class=\"data row4 col9\" >0.00%</td>\n",
       "      <td id=\"T_999ea_row4_col10\" class=\"data row4 col10\" >0</td>\n",
       "      <td id=\"T_999ea_row4_col11\" class=\"data row4 col11\" >2022-05-10</td>\n",
       "      <td id=\"T_999ea_row4_col12\" class=\"data row4 col12\" >Buy</td>\n",
       "      <td id=\"T_999ea_row4_col13\" class=\"data row4 col13\" >59700.000000</td>\n",
       "    </tr>\n",
       "  </tbody>\n",
       "</table>\n"
      ],
      "text/plain": [
       "<pandas.io.formats.style.Styler at 0x25904ab55e0>"
      ]
     },
     "execution_count": 6,
     "metadata": {},
     "output_type": "execute_result"
    }
   ],
   "source": [
    "tmp.head().sort_values('spd',ascending=False).style.hide_index()"
   ]
  },
  {
   "cell_type": "markdown",
   "metadata": {},
   "source": [
    "### End of Tables in the process"
   ]
  },
  {
   "cell_type": "markdown",
   "metadata": {},
   "source": [
    "### Print to verify before upload file"
   ]
  },
  {
   "cell_type": "code",
   "execution_count": 16,
   "metadata": {
    "scrolled": true
   },
   "outputs": [
    {
     "data": {},
     "metadata": {},
     "output_type": "display_data"
    },
    {
     "data": {
      "application/vnd.holoviews_exec.v0+json": "",
      "text/html": [
       "<div id='1202'>\n",
       "\n",
       "\n",
       "\n",
       "\n",
       "\n",
       "  <div class=\"bk-root\" id=\"fb6282e3-e08b-4646-8702-57cd9ed3ae33\" data-root-id=\"1202\"></div>\n",
       "</div>\n",
       "<script type=\"application/javascript\">(function(root) {\n",
       "  function embed_document(root) {\n",
       "    var docs_json = {\"6d27e017-0861-4094-a584-cb1a15a67a80\":{\"defs\":[{\"extends\":null,\"module\":null,\"name\":\"ReactiveHTML1\",\"overrides\":[],\"properties\":[]},{\"extends\":null,\"module\":null,\"name\":\"FlexBox1\",\"overrides\":[],\"properties\":[{\"default\":\"flex-start\",\"kind\":null,\"name\":\"align_content\"},{\"default\":\"flex-start\",\"kind\":null,\"name\":\"align_items\"},{\"default\":\"row\",\"kind\":null,\"name\":\"flex_direction\"},{\"default\":\"wrap\",\"kind\":null,\"name\":\"flex_wrap\"},{\"default\":\"flex-start\",\"kind\":null,\"name\":\"justify_content\"}]},{\"extends\":null,\"module\":null,\"name\":\"TemplateActions1\",\"overrides\":[],\"properties\":[{\"default\":0,\"kind\":null,\"name\":\"open_modal\"},{\"default\":0,\"kind\":null,\"name\":\"close_modal\"}]},{\"extends\":null,\"module\":null,\"name\":\"MaterialTemplateActions1\",\"overrides\":[],\"properties\":[{\"default\":0,\"kind\":null,\"name\":\"open_modal\"},{\"default\":0,\"kind\":null,\"name\":\"close_modal\"}]}],\"roots\":{\"references\":[{\"attributes\":{},\"id\":\"1204\",\"type\":\"UnionRenderers\"},{\"attributes\":{\"editor\":{\"id\":\"1178\"},\"field\":\"amount\",\"formatter\":{\"id\":\"1177\"},\"title\":\"amount\",\"width\":0},\"id\":\"1179\",\"type\":\"TableColumn\"},{\"attributes\":{},\"id\":\"1187\",\"type\":\"StringFormatter\"},{\"attributes\":{\"editor\":{\"id\":\"1173\"},\"field\":\"price\",\"formatter\":{\"id\":\"1172\"},\"title\":\"price\",\"width\":0},\"id\":\"1174\",\"type\":\"TableColumn\"},{\"attributes\":{\"editor\":{\"id\":\"1198\"},\"field\":\"xdate\",\"formatter\":{\"id\":\"1197\"},\"title\":\"xdate\",\"width\":0},\"id\":\"1199\",\"type\":\"TableColumn\"},{\"attributes\":{},\"id\":\"1158\",\"type\":\"StringEditor\"},{\"attributes\":{},\"id\":\"1173\",\"type\":\"NumberEditor\"},{\"attributes\":{\"format\":\"0,0.0[00000]\"},\"id\":\"1172\",\"type\":\"NumberFormatter\"},{\"attributes\":{},\"id\":\"1153\",\"type\":\"CellEditor\"},{\"attributes\":{\"columns\":[{\"id\":\"1154\"},{\"id\":\"1159\"},{\"id\":\"1164\"},{\"id\":\"1169\"},{\"id\":\"1174\"},{\"id\":\"1179\"},{\"id\":\"1184\"},{\"id\":\"1189\"},{\"id\":\"1194\"},{\"id\":\"1199\"}],\"configuration\":{\"columns\":[{\"field\":\"index\"},{\"field\":\"trade\"},{\"field\":\"name\"},{\"field\":\"qty\"},{\"field\":\"price\"},{\"field\":\"amount\"},{\"field\":\"reason\"},{\"field\":\"market\"},{\"field\":\"active\"},{\"field\":\"xdate\"}],\"dataTree\":false,\"selectable\":true},\"height\":390,\"indexes\":[\"index\"],\"layout\":\"fit_data_table\",\"margin\":[5,10,5,10],\"name\":\"\",\"page\":1,\"page_size\":20,\"selectable_rows\":null,\"source\":{\"id\":\"1149\"}},\"id\":\"1202\",\"type\":\"panel.models.tabulator.DataTabulator\"},{\"attributes\":{},\"id\":\"1151\",\"type\":\"NumberFormatter\"},{\"attributes\":{},\"id\":\"1157\",\"type\":\"StringFormatter\"},{\"attributes\":{},\"id\":\"1198\",\"type\":\"StringEditor\"},{\"attributes\":{\"editor\":{\"id\":\"1183\"},\"field\":\"reason\",\"formatter\":{\"id\":\"1182\"},\"title\":\"reason\",\"width\":0},\"id\":\"1184\",\"type\":\"TableColumn\"},{\"attributes\":{},\"id\":\"1183\",\"type\":\"StringEditor\"},{\"attributes\":{\"format\":\"0,0.0[00000]\"},\"id\":\"1177\",\"type\":\"NumberFormatter\"},{\"attributes\":{},\"id\":\"1182\",\"type\":\"StringFormatter\"},{\"attributes\":{},\"id\":\"1168\",\"type\":\"IntEditor\"},{\"attributes\":{\"editor\":{\"id\":\"1168\"},\"field\":\"qty\",\"formatter\":{\"id\":\"1167\"},\"title\":\"qty\",\"width\":0},\"id\":\"1169\",\"type\":\"TableColumn\"},{\"attributes\":{},\"id\":\"1178\",\"type\":\"NumberEditor\"},{\"attributes\":{\"editor\":{\"id\":\"1193\"},\"field\":\"active\",\"formatter\":{\"id\":\"1192\"},\"title\":\"active\",\"width\":0},\"id\":\"1194\",\"type\":\"TableColumn\"},{\"attributes\":{},\"id\":\"1167\",\"type\":\"NumberFormatter\"},{\"attributes\":{},\"id\":\"1193\",\"type\":\"IntEditor\"},{\"attributes\":{\"indices\":[]},\"id\":\"1150\",\"type\":\"Selection\"},{\"attributes\":{\"client_comm_id\":\"40f3220be838483599b9179333b63d2c\",\"comm_id\":\"c1d065cc56a74ddbaf76b910bd66a8a1\",\"plot_id\":\"1202\"},\"id\":\"1210\",\"type\":\"panel.models.comm_manager.CommManager\"},{\"attributes\":{},\"id\":\"1192\",\"type\":\"NumberFormatter\"},{\"attributes\":{\"editor\":{\"id\":\"1163\"},\"field\":\"name\",\"formatter\":{\"id\":\"1162\"},\"title\":\"name\",\"width\":0},\"id\":\"1164\",\"type\":\"TableColumn\"},{\"attributes\":{\"editor\":{\"id\":\"1188\"},\"field\":\"market\",\"formatter\":{\"id\":\"1187\"},\"title\":\"market\",\"width\":0},\"id\":\"1189\",\"type\":\"TableColumn\"},{\"attributes\":{},\"id\":\"1163\",\"type\":\"StringEditor\"},{\"attributes\":{},\"id\":\"1162\",\"type\":\"StringFormatter\"},{\"attributes\":{\"editor\":{\"id\":\"1158\"},\"field\":\"trade\",\"formatter\":{\"id\":\"1157\"},\"title\":\"trade\",\"width\":0},\"id\":\"1159\",\"type\":\"TableColumn\"},{\"attributes\":{},\"id\":\"1188\",\"type\":\"StringEditor\"},{\"attributes\":{\"data\":{\"active\":[0,1,0,0,0,0,2,0,2,2,0,0],\"amount\":{\"__ndarray__\":\"//////9Y70AAAAAAAMrnQAAAAAAQBxZBAAAAAMDH6EAAAAAAAEDvQAAAAADAqe1AAAAAAID770AAAAAAIFMEQQAAAAAgpvtAAAAAAACC9EAAAAAAgDEHQQAAAAAAaPBA\",\"dtype\":\"float64\",\"order\":\"little\",\"shape\":[12]},\"index\":[0,1,2,3,4,5,6,7,8,9,10,11],\"market\":[\"SET100\",\"SET100\",\"SET\",\"mai\",\"SET50\",\"SET\",\"SET\",\"SET100\",\"SET50\",\"SET50\",\"SET100\",\"SET100\"],\"name\":[\"BCH\",\"DOHOME\",\"HREIT\",\"IP\",\"KCE\",\"MAKRO\",\"MCS\",\"ORI\",\"PTT\",\"RATCH\",\"RCL\",\"SPALI\"],\"price\":{\"__ndarray__\":\"ZmZmZmZmNUDNzMzMzEw0QAAAAAAAACJAzczMzMxMNEAAAAAAAABQQAAAAAAAQERAMzMzMzMzKkAzMzMzMzMmQAAAAAAA4EJAAAAAAAAARUAAAAAAAMBHQGZmZmZmZjZA\",\"dtype\":\"float64\",\"order\":\"little\",\"shape\":[12]},\"qty\":[3000,2400,40100,2500,1000,1500,5000,15000,3000,2000,4000,3000],\"reason\":[\"CP1S\",\"CP1S\",\"DOS\",\"CP1S\",\"C62.75\",\"C40.40\",\"C12.80\",\"CP1S\",\"C38.50\",\"CUT\",\"CP1S\",\"C22.0\"],\"trade\":[\"S\",\"S\",\"S\",\"S\",\"S\",\"S\",\"S\",\"S\",\"S\",\"S\",\"S\",\"S\"],\"xdate\":[\"2022-05-10\",\"2022-02-02\",\"2022-03-04\",\"2022-02-02\",\"2022-03-21\",\"2022-03-03\",\"2022-03-15\",\"2022-05-09\",\"2022-03-03\",\"2022-03-17\",\"2022-03-23\",\"2022-04-27\"]},\"selected\":{\"id\":\"1150\"},\"selection_policy\":{\"id\":\"1204\"}},\"id\":\"1149\",\"type\":\"ColumnDataSource\"},{\"attributes\":{\"editor\":{\"id\":\"1153\"},\"field\":\"index\",\"formatter\":{\"id\":\"1151\"},\"title\":\"index\",\"width\":0},\"id\":\"1154\",\"type\":\"TableColumn\"},{\"attributes\":{},\"id\":\"1197\",\"type\":\"StringFormatter\"}],\"root_ids\":[\"1202\",\"1210\"]},\"title\":\"Bokeh Application\",\"version\":\"2.3.3\"}};\n",
       "    var render_items = [{\"docid\":\"6d27e017-0861-4094-a584-cb1a15a67a80\",\"root_ids\":[\"1202\"],\"roots\":{\"1202\":\"fb6282e3-e08b-4646-8702-57cd9ed3ae33\"}}];\n",
       "    root.Bokeh.embed.embed_items_notebook(docs_json, render_items);\n",
       "  }\n",
       "  if (root.Bokeh !== undefined && root.Bokeh.Panel !== undefined && ( root['Tabulator'] !== undefined)) {\n",
       "    embed_document(root);\n",
       "  } else {\n",
       "    var attempts = 0;\n",
       "    var timer = setInterval(function(root) {\n",
       "      if (root.Bokeh !== undefined && root.Bokeh.Panel !== undefined && (root['Tabulator'] !== undefined)) {\n",
       "        clearInterval(timer);\n",
       "        embed_document(root);\n",
       "      } else if (document.readyState == \"complete\") {\n",
       "        attempts++;\n",
       "        if (attempts > 200) {\n",
       "          clearInterval(timer);\n",
       "          console.log(\"Bokeh: ERROR: Unable to run BokehJS code because BokehJS library is missing\");\n",
       "        }\n",
       "      }\n",
       "    }, 25, root)\n",
       "  }\n",
       "})(window);</script>"
      ],
      "text/plain": [
       "Tabulator(value=   trade    name  ...)"
      ]
     },
     "execution_count": 16,
     "metadata": {
      "application/vnd.holoviews_exec.v0+json": {
       "id": "1202"
      }
     },
     "output_type": "execute_result"
    }
   ],
   "source": [
    "sql = '''\n",
    "SELECT trade, name, qty, price, qty * price AS amount, reason, market, active, xdate\n",
    "FROM orders\n",
    "ORDER BY trade, name'''\n",
    "orders = pd.read_sql(sql, conlite)\n",
    "\n",
    "#df_tab = pn.widgets.Tabulator(orders, layout='fit_data', width=800)\n",
    "df_tab = pn.widgets.Tabulator(orders)\n",
    "df_tab"
   ]
  },
  {
   "cell_type": "code",
   "execution_count": 17,
   "metadata": {
    "scrolled": true
   },
   "outputs": [],
   "source": [
    "file_name = 'orders.csv'\n",
    "data_file = data_path + file_name\n",
    "output_file = csv_path + file_name\n",
    "box_file = box_path + file_name\n",
    "one_file = one_path + file_name\n",
    "\n",
    "orders[cols].to_csv(output_file, header=True, index=False)\n",
    "orders[cols].to_csv(data_file, header=True, index=False)\n",
    "orders[cols].to_csv(box_file, header=True, index=False)\n",
    "orders[cols].to_csv(one_file, header=True, index=False)"
   ]
  },
  {
   "cell_type": "markdown",
   "metadata": {},
   "source": [
    "### End of transactional process"
   ]
  },
  {
   "cell_type": "code",
   "execution_count": 18,
   "metadata": {
    "scrolled": false
   },
   "outputs": [
    {
     "data": {
      "text/html": [
       "<style type=\"text/css\">\n",
       "</style>\n",
       "<table id=\"T_da0ae_\">\n",
       "  <thead>\n",
       "    <tr>\n",
       "      <th class=\"blank level0\" >&nbsp;</th>\n",
       "      <th class=\"col_heading level0 col0\" >trade</th>\n",
       "      <th class=\"col_heading level0 col1\" >name</th>\n",
       "      <th class=\"col_heading level0 col2\" >qty</th>\n",
       "      <th class=\"col_heading level0 col3\" >price</th>\n",
       "      <th class=\"col_heading level0 col4\" >amount</th>\n",
       "      <th class=\"col_heading level0 col5\" >reason</th>\n",
       "      <th class=\"col_heading level0 col6\" >market</th>\n",
       "      <th class=\"col_heading level0 col7\" >active</th>\n",
       "      <th class=\"col_heading level0 col8\" >xdate</th>\n",
       "    </tr>\n",
       "  </thead>\n",
       "  <tbody>\n",
       "    <tr>\n",
       "      <th id=\"T_da0ae_level0_row0\" class=\"row_heading level0 row0\" >0</th>\n",
       "      <td id=\"T_da0ae_row0_col0\" class=\"data row0 col0\" >S</td>\n",
       "      <td id=\"T_da0ae_row0_col1\" class=\"data row0 col1\" >MCS</td>\n",
       "      <td id=\"T_da0ae_row0_col2\" class=\"data row0 col2\" >5,000</td>\n",
       "      <td id=\"T_da0ae_row0_col3\" class=\"data row0 col3\" >13.10</td>\n",
       "      <td id=\"T_da0ae_row0_col4\" class=\"data row0 col4\" >65,500.00</td>\n",
       "      <td id=\"T_da0ae_row0_col5\" class=\"data row0 col5\" >C12.80</td>\n",
       "      <td id=\"T_da0ae_row0_col6\" class=\"data row0 col6\" >SET</td>\n",
       "      <td id=\"T_da0ae_row0_col7\" class=\"data row0 col7\" >2</td>\n",
       "      <td id=\"T_da0ae_row0_col8\" class=\"data row0 col8\" >2022-03-15</td>\n",
       "    </tr>\n",
       "    <tr>\n",
       "      <th id=\"T_da0ae_level0_row1\" class=\"row_heading level0 row1\" >1</th>\n",
       "      <td id=\"T_da0ae_row1_col0\" class=\"data row1 col0\" >S</td>\n",
       "      <td id=\"T_da0ae_row1_col1\" class=\"data row1 col1\" >PTT</td>\n",
       "      <td id=\"T_da0ae_row1_col2\" class=\"data row1 col2\" >3,000</td>\n",
       "      <td id=\"T_da0ae_row1_col3\" class=\"data row1 col3\" >37.75</td>\n",
       "      <td id=\"T_da0ae_row1_col4\" class=\"data row1 col4\" >113,250.00</td>\n",
       "      <td id=\"T_da0ae_row1_col5\" class=\"data row1 col5\" >C38.50</td>\n",
       "      <td id=\"T_da0ae_row1_col6\" class=\"data row1 col6\" >SET50</td>\n",
       "      <td id=\"T_da0ae_row1_col7\" class=\"data row1 col7\" >2</td>\n",
       "      <td id=\"T_da0ae_row1_col8\" class=\"data row1 col8\" >2022-03-03</td>\n",
       "    </tr>\n",
       "    <tr>\n",
       "      <th id=\"T_da0ae_level0_row2\" class=\"row_heading level0 row2\" >2</th>\n",
       "      <td id=\"T_da0ae_row2_col0\" class=\"data row2 col0\" >S</td>\n",
       "      <td id=\"T_da0ae_row2_col1\" class=\"data row2 col1\" >RATCH</td>\n",
       "      <td id=\"T_da0ae_row2_col2\" class=\"data row2 col2\" >2,000</td>\n",
       "      <td id=\"T_da0ae_row2_col3\" class=\"data row2 col3\" >42.00</td>\n",
       "      <td id=\"T_da0ae_row2_col4\" class=\"data row2 col4\" >84,000.00</td>\n",
       "      <td id=\"T_da0ae_row2_col5\" class=\"data row2 col5\" >CUT</td>\n",
       "      <td id=\"T_da0ae_row2_col6\" class=\"data row2 col6\" >SET50</td>\n",
       "      <td id=\"T_da0ae_row2_col7\" class=\"data row2 col7\" >2</td>\n",
       "      <td id=\"T_da0ae_row2_col8\" class=\"data row2 col8\" >2022-03-17</td>\n",
       "    </tr>\n",
       "  </tbody>\n",
       "</table>\n"
      ],
      "text/plain": [
       "<pandas.io.formats.style.Styler at 0x25904d0baf0>"
      ]
     },
     "execution_count": 18,
     "metadata": {},
     "output_type": "execute_result"
    }
   ],
   "source": [
    "sql = '''\n",
    "SELECT trade, name, qty, price, qty * price AS amount, reason, market, active, xdate\n",
    "FROM orders\n",
    "WHERE active = 2\n",
    "ORDER BY trade, name'''\n",
    "df_act_2 = pd.read_sql(sql, conlite)\n",
    "df_act_2.style.format(format_dict)"
   ]
  },
  {
   "cell_type": "code",
   "execution_count": 19,
   "metadata": {
    "scrolled": true
   },
   "outputs": [
    {
     "data": {
      "text/plain": [
       "trade\n",
       "S    262750.0\n",
       "Name: amount, dtype: float64"
      ]
     },
     "execution_count": 19,
     "metadata": {},
     "output_type": "execute_result"
    }
   ],
   "source": [
    "orders_grp = df_act_2.groupby(['trade'])\n",
    "orders_grp['amount'].sum()"
   ]
  },
  {
   "cell_type": "code",
   "execution_count": 20,
   "metadata": {
    "scrolled": true
   },
   "outputs": [
    {
     "data": {
      "text/html": [
       "<style type=\"text/css\">\n",
       "</style>\n",
       "<table id=\"T_6cbcc_\">\n",
       "  <thead>\n",
       "    <tr>\n",
       "      <th class=\"blank level0\" >&nbsp;</th>\n",
       "      <th class=\"col_heading level0 col0\" >trade</th>\n",
       "      <th class=\"col_heading level0 col1\" >name</th>\n",
       "      <th class=\"col_heading level0 col2\" >qty</th>\n",
       "      <th class=\"col_heading level0 col3\" >price</th>\n",
       "      <th class=\"col_heading level0 col4\" >amount</th>\n",
       "      <th class=\"col_heading level0 col5\" >reason</th>\n",
       "      <th class=\"col_heading level0 col6\" >market</th>\n",
       "      <th class=\"col_heading level0 col7\" >active</th>\n",
       "      <th class=\"col_heading level0 col8\" >xdate</th>\n",
       "    </tr>\n",
       "  </thead>\n",
       "  <tbody>\n",
       "  </tbody>\n",
       "</table>\n"
      ],
      "text/plain": [
       "<pandas.io.formats.style.Styler at 0x25904cefd30>"
      ]
     },
     "execution_count": 20,
     "metadata": {},
     "output_type": "execute_result"
    }
   ],
   "source": [
    "mask = df_act_2.trade == 'B'\n",
    "buy_stocks = df_act_2[mask]\n",
    "buy_stocks.style.background_gradient(cmap = 'Blues').format(format_dict)"
   ]
  },
  {
   "cell_type": "code",
   "execution_count": 21,
   "metadata": {},
   "outputs": [
    {
     "data": {
      "text/plain": [
       "(20000, 0.0, 20000.0)"
      ]
     },
     "execution_count": 21,
     "metadata": {},
     "output_type": "execute_result"
    }
   ],
   "source": [
    "cash = 20_000\n",
    "buy_amt = buy_stocks.amount.sum()\n",
    "balance = cash - buy_amt \n",
    "cash, buy_amt, balance"
   ]
  },
  {
   "cell_type": "code",
   "execution_count": 22,
   "metadata": {
    "scrolled": false
   },
   "outputs": [
    {
     "data": {
      "text/html": [
       "<style type=\"text/css\">\n",
       "</style>\n",
       "<table id=\"T_09cff_\">\n",
       "  <thead>\n",
       "    <tr>\n",
       "      <th class=\"blank level0\" >&nbsp;</th>\n",
       "      <th class=\"col_heading level0 col0\" >trade</th>\n",
       "      <th class=\"col_heading level0 col1\" >name</th>\n",
       "      <th class=\"col_heading level0 col2\" >qty</th>\n",
       "      <th class=\"col_heading level0 col3\" >price</th>\n",
       "      <th class=\"col_heading level0 col4\" >amount</th>\n",
       "      <th class=\"col_heading level0 col5\" >reason</th>\n",
       "      <th class=\"col_heading level0 col6\" >market</th>\n",
       "      <th class=\"col_heading level0 col7\" >active</th>\n",
       "      <th class=\"col_heading level0 col8\" >xdate</th>\n",
       "    </tr>\n",
       "  </thead>\n",
       "  <tbody>\n",
       "    <tr>\n",
       "      <th id=\"T_09cff_level0_row0\" class=\"row_heading level0 row0\" >0</th>\n",
       "      <td id=\"T_09cff_row0_col0\" class=\"data row0 col0\" >S</td>\n",
       "      <td id=\"T_09cff_row0_col1\" class=\"data row0 col1\" >MCS</td>\n",
       "      <td id=\"T_09cff_row0_col2\" class=\"data row0 col2\" >5,000</td>\n",
       "      <td id=\"T_09cff_row0_col3\" class=\"data row0 col3\" >13.10</td>\n",
       "      <td id=\"T_09cff_row0_col4\" class=\"data row0 col4\" >65,500.00</td>\n",
       "      <td id=\"T_09cff_row0_col5\" class=\"data row0 col5\" >C12.80</td>\n",
       "      <td id=\"T_09cff_row0_col6\" class=\"data row0 col6\" >SET</td>\n",
       "      <td id=\"T_09cff_row0_col7\" class=\"data row0 col7\" >2</td>\n",
       "      <td id=\"T_09cff_row0_col8\" class=\"data row0 col8\" >2022-03-15</td>\n",
       "    </tr>\n",
       "    <tr>\n",
       "      <th id=\"T_09cff_level0_row1\" class=\"row_heading level0 row1\" >1</th>\n",
       "      <td id=\"T_09cff_row1_col0\" class=\"data row1 col0\" >S</td>\n",
       "      <td id=\"T_09cff_row1_col1\" class=\"data row1 col1\" >PTT</td>\n",
       "      <td id=\"T_09cff_row1_col2\" class=\"data row1 col2\" >3,000</td>\n",
       "      <td id=\"T_09cff_row1_col3\" class=\"data row1 col3\" >37.75</td>\n",
       "      <td id=\"T_09cff_row1_col4\" class=\"data row1 col4\" >113,250.00</td>\n",
       "      <td id=\"T_09cff_row1_col5\" class=\"data row1 col5\" >C38.50</td>\n",
       "      <td id=\"T_09cff_row1_col6\" class=\"data row1 col6\" >SET50</td>\n",
       "      <td id=\"T_09cff_row1_col7\" class=\"data row1 col7\" >2</td>\n",
       "      <td id=\"T_09cff_row1_col8\" class=\"data row1 col8\" >2022-03-03</td>\n",
       "    </tr>\n",
       "    <tr>\n",
       "      <th id=\"T_09cff_level0_row2\" class=\"row_heading level0 row2\" >2</th>\n",
       "      <td id=\"T_09cff_row2_col0\" class=\"data row2 col0\" >S</td>\n",
       "      <td id=\"T_09cff_row2_col1\" class=\"data row2 col1\" >RATCH</td>\n",
       "      <td id=\"T_09cff_row2_col2\" class=\"data row2 col2\" >2,000</td>\n",
       "      <td id=\"T_09cff_row2_col3\" class=\"data row2 col3\" >42.00</td>\n",
       "      <td id=\"T_09cff_row2_col4\" class=\"data row2 col4\" >84,000.00</td>\n",
       "      <td id=\"T_09cff_row2_col5\" class=\"data row2 col5\" >CUT</td>\n",
       "      <td id=\"T_09cff_row2_col6\" class=\"data row2 col6\" >SET50</td>\n",
       "      <td id=\"T_09cff_row2_col7\" class=\"data row2 col7\" >2</td>\n",
       "      <td id=\"T_09cff_row2_col8\" class=\"data row2 col8\" >2022-03-17</td>\n",
       "    </tr>\n",
       "  </tbody>\n",
       "</table>\n"
      ],
      "text/plain": [
       "<pandas.io.formats.style.Styler at 0x25904d1a100>"
      ]
     },
     "execution_count": 22,
     "metadata": {},
     "output_type": "execute_result"
    }
   ],
   "source": [
    "mask = df_act_2.trade == 'S'\n",
    "sell_stocks = df_act_2[mask]\n",
    "sell_stocks.style.format(format_dict)"
   ]
  },
  {
   "cell_type": "code",
   "execution_count": 23,
   "metadata": {},
   "outputs": [
    {
     "data": {
      "text/plain": [
       "(20000, 262750.0, 282750.0)"
      ]
     },
     "execution_count": 23,
     "metadata": {},
     "output_type": "execute_result"
    }
   ],
   "source": [
    "sell_amt = round(sell_stocks.amount.sum(),2)\n",
    "balance = cash + sell_amt \n",
    "(cash, sell_amt, balance)"
   ]
  },
  {
   "cell_type": "markdown",
   "metadata": {},
   "source": [
    "### After call ord-log (must call everytime that orders change)"
   ]
  },
  {
   "cell_type": "code",
   "execution_count": null,
   "metadata": {},
   "outputs": [],
   "source": [
    "df = pd.read_csv('../data/orders-log.csv')\n",
    "df['trans'] = df.apply(lambda row: categorise(row), axis=1)\n",
    "df['amount'] = df.qty * df.target"
   ]
  },
  {
   "cell_type": "code",
   "execution_count": null,
   "metadata": {
    "scrolled": false
   },
   "outputs": [],
   "source": [
    "show(df[['trans','name','spd','reason','qty','target','current','active']])"
   ]
  },
  {
   "cell_type": "code",
   "execution_count": null,
   "metadata": {
    "scrolled": true
   },
   "outputs": [],
   "source": [
    "mb = (df.trans == 'Buy') & (df.spd >= -3)\n",
    "df[mb].sort_values(['name'],ascending=[True])"
   ]
  },
  {
   "cell_type": "code",
   "execution_count": null,
   "metadata": {
    "scrolled": false
   },
   "outputs": [],
   "source": [
    "show(df[['trans','name','spd','reason','qty','target','current','percent','active']])"
   ]
  },
  {
   "cell_type": "code",
   "execution_count": null,
   "metadata": {},
   "outputs": [],
   "source": [
    "ms = (df.trans == 'Sell') & (df.spd <= 3)\n",
    "df[ms].sort_values(['name'],ascending=[True])"
   ]
  },
  {
   "cell_type": "code",
   "execution_count": null,
   "metadata": {},
   "outputs": [],
   "source": [
    "df[mb | ms].sort_values(['trade','name'],ascending=[True,True])"
   ]
  },
  {
   "cell_type": "code",
   "execution_count": null,
   "metadata": {},
   "outputs": [],
   "source": [
    "df[mb | ms].shape[0]"
   ]
  },
  {
   "cell_type": "code",
   "execution_count": null,
   "metadata": {},
   "outputs": [],
   "source": [
    "mask = (df.trade == 'B')\n",
    "df[mask].nlargest(5, \"amount\")[[\"name\",\"trans\",\"amount\",\"spd\"]].style.format(format_dict)"
   ]
  },
  {
   "cell_type": "markdown",
   "metadata": {},
   "source": [
    "### Select source of orders between these two"
   ]
  },
  {
   "cell_type": "code",
   "execution_count": null,
   "metadata": {},
   "outputs": [],
   "source": [
    "df_out = df[mb | ms][colt]\n",
    "df_out"
   ]
  },
  {
   "cell_type": "code",
   "execution_count": null,
   "metadata": {},
   "outputs": [],
   "source": [
    "df_out = df[df.active == 2][colt]\n",
    "df_out"
   ]
  },
  {
   "cell_type": "code",
   "execution_count": null,
   "metadata": {},
   "outputs": [],
   "source": [
    "file_name = 'ORDERS-PLACED.csv'\n",
    "data_file = data_path + file_name\n",
    "output_file = csv_path + file_name\n",
    "box_file = box_path + file_name\n",
    "one_file = one_path + file_name\n",
    "\n",
    "df_out.sort_values(['trans','name'],ascending=[True,True]).to_csv(output_file, header=True, index=False)\n",
    "df_out.sort_values(['trans','name'],ascending=[True,True]).to_csv(data_file, header=True, index=False)\n",
    "df_out.sort_values(['trans','name'],ascending=[True,True]).to_csv(box_file, header=True, index=False)\n",
    "df_out.sort_values(['trans','name'],ascending=[True,True]).to_csv(one_file, header=True, index=False)"
   ]
  },
  {
   "cell_type": "markdown",
   "metadata": {},
   "source": [
    "### End of Output ORDERS-PLACED"
   ]
  },
  {
   "cell_type": "code",
   "execution_count": null,
   "metadata": {},
   "outputs": [],
   "source": [
    "sql = '''\n",
    "SELECT trade, name, qty, price, qty * price AS amount, reason, market, active, xdate\n",
    "FROM orders\n",
    "WHERE ACTIVE = 2\n",
    "ORDER BY trade, name'''\n",
    "orders = pd.read_sql(sql, conlite)\n",
    "orders.style.format(format_dict)"
   ]
  },
  {
   "cell_type": "markdown",
   "metadata": {},
   "source": [
    "### Evening Process"
   ]
  },
  {
   "cell_type": "code",
   "execution_count": null,
   "metadata": {},
   "outputs": [],
   "source": [
    "new_active = 1\n",
    "old_active = 2"
   ]
  },
  {
   "cell_type": "code",
   "execution_count": null,
   "metadata": {},
   "outputs": [],
   "source": [
    "sql = \"\"\"\n",
    "UPDATE orders \n",
    "SET active = %s\n",
    "WHERE active = %s\n",
    "\"\"\"\n",
    "sql = sql % (new_active, old_active)\n",
    "rp = conlite.execute(sql)\n",
    "rp.rowcount"
   ]
  },
  {
   "cell_type": "code",
   "execution_count": null,
   "metadata": {
    "scrolled": true
   },
   "outputs": [],
   "source": [
    "names = df_out['name']\n",
    "in_p = \", \".join(map(lambda name: \"'%s'\" % name, names))\n",
    "in_p"
   ]
  },
  {
   "cell_type": "code",
   "execution_count": null,
   "metadata": {},
   "outputs": [],
   "source": [
    "sql = \"\"\"\n",
    "UPDATE orders \n",
    "SET active = 2\n",
    "WHERE name IN (%s)\n",
    "\"\"\"\n",
    "sql = sql % (in_p)\n",
    "rp = conlite.execute(sql)\n",
    "rp.rowcount"
   ]
  },
  {
   "cell_type": "code",
   "execution_count": null,
   "metadata": {},
   "outputs": [],
   "source": [
    "#To force orders.csv and orders table to be same copy\n",
    "file_name = 'orders.csv'\n",
    "data_file = data_path + file_name\n",
    "output_file = csv_path + file_name\n",
    "box_file = box_path + file_name\n",
    "one_file = one_path + file_name\n",
    "\n",
    "orders[cols].to_csv(output_file, header=True, index=False)\n",
    "orders[cols].to_csv(data_file, header=True, index=False)\n",
    "orders[cols].to_csv(box_file, header=True, index=False)\n",
    "orders[cols].to_csv(one_file, header=True, index=False)"
   ]
  },
  {
   "cell_type": "markdown",
   "metadata": {},
   "source": [
    "### End of Evening Process"
   ]
  },
  {
   "cell_type": "code",
   "execution_count": null,
   "metadata": {},
   "outputs": [],
   "source": []
  }
 ],
 "metadata": {
  "anaconda-cloud": {},
  "kernelspec": {
   "display_name": "Python 3 (ipykernel)",
   "language": "python",
   "name": "python3"
  },
  "language_info": {
   "codemirror_mode": {
    "name": "ipython",
    "version": 3
   },
   "file_extension": ".py",
   "mimetype": "text/x-python",
   "name": "python",
   "nbconvert_exporter": "python",
   "pygments_lexer": "ipython3",
   "version": "3.8.11"
  }
 },
 "nbformat": 4,
 "nbformat_minor": 1
}
