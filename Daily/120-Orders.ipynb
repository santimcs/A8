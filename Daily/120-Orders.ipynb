{
 "cells": [
  {
   "cell_type": "markdown",
   "metadata": {},
   "source": [
    "#### SQLite port_lite database: orders table\n",
    "#### csv files: orders, ORDERS-PLACED"
   ]
  },
  {
   "cell_type": "code",
   "execution_count": 1,
   "metadata": {},
   "outputs": [
    {
     "data": {
      "application/javascript": [
       "require.config({\n",
       "    paths: {\n",
       "        datatables: 'https://cdn.datatables.net/1.10.19/js/jquery.dataTables.min',\n",
       "    }\n",
       "});\n",
       "\n",
       "$('head').append('<link rel=\"stylesheet\" type=\"text/css\" \\\n",
       "                href = \"https://cdn.datatables.net/1.10.19/css/jquery.dataTables.min.css\" > ');\n",
       "\n",
       "$('head').append('<style> table td { text-overflow: ellipsis; overflow: hidden; } </style>');\n",
       "\n",
       "$('head').append(`<script>\n",
       "function eval_functions(map_or_text) {\n",
       "    if (typeof map_or_text === \"string\") {\n",
       "        if (map_or_text.startsWith(\"function\")) {\n",
       "            try {\n",
       "                // Note: parenthesis are required around the whole expression for eval to return a value!\n",
       "                // See https://stackoverflow.com/a/7399078/911298.\n",
       "                //\n",
       "                // eval(\"local_fun = \" + map_or_text) would fail because local_fun is not declared\n",
       "                // (using var, let or const would work, but it would only be declared in the local scope\n",
       "                // and therefore the value could not be retrieved).\n",
       "                const func = eval(\"(\" + map_or_text + \")\");\n",
       "                if (typeof func !== \"function\") {\n",
       "                    // Note: backquotes are super convenient!\n",
       "                    // https://developer.mozilla.org/en-US/docs/Web/JavaScript/Reference/Template_literals\n",
       "                    console.error(\"Evaluated expression \" + map_or_text + \" is not a function (type is \" + typeof func + \")\");\n",
       "                    return map_or_text;\n",
       "                }\n",
       "                // Return the function\n",
       "                return func;\n",
       "            } catch (e) {\n",
       "                // Make sure to print the error with a second argument to console.error().\n",
       "                console.error(\"itables was not able to parse \" + map_or_text, e);\n",
       "            }\n",
       "        }\n",
       "    } else if (typeof map_or_text === \"object\") {\n",
       "        if (map_or_text instanceof Array) {\n",
       "            // Note: \"var\" is now superseded by \"let\" and \"const\".\n",
       "            // https://medium.com/javascript-scene/javascript-es6-var-let-or-const-ba58b8dcde75\n",
       "            const result = [];\n",
       "            // Note: \"for of\" is the best way to iterate through an iterable.\n",
       "            // https://developer.mozilla.org/en-US/docs/Web/JavaScript/Reference/Statements/for...of\n",
       "            for (const item of map_or_text) {\n",
       "                result.push(eval_functions(item));\n",
       "            }\n",
       "            return result;\n",
       "\n",
       "            // Alternatively, more functional approach in one line:\n",
       "            // return map_or_text.map(eval_functions);\n",
       "        } else {\n",
       "            const result = {};\n",
       "            // Object.keys() is safer than \"for in\" because otherwise you might have keys\n",
       "            // that aren't defined in the object itself.\n",
       "            //\n",
       "            // See https://stackoverflow.com/a/684692/911298.\n",
       "            for (const item of Object.keys(map_or_text)) {\n",
       "                result[item] = eval_functions(map_or_text[item]);\n",
       "            }\n",
       "            return result;\n",
       "        }\n",
       "    }\n",
       "\n",
       "    return map_or_text;\n",
       "}\n",
       "\n",
       "</` + 'script>');"
      ],
      "text/plain": [
       "<IPython.core.display.Javascript object>"
      ]
     },
     "metadata": {},
     "output_type": "display_data"
    },
    {
     "data": {
      "application/javascript": [
       "\n",
       "(function(root) {\n",
       "  function now() {\n",
       "    return new Date();\n",
       "  }\n",
       "\n",
       "  var force = true;\n",
       "\n",
       "  if (typeof root._bokeh_onload_callbacks === \"undefined\" || force === true) {\n",
       "    root._bokeh_onload_callbacks = [];\n",
       "    root._bokeh_is_loading = undefined;\n",
       "  }\n",
       "\n",
       "  if (typeof (root._bokeh_timeout) === \"undefined\" || force === true) {\n",
       "    root._bokeh_timeout = Date.now() + 5000;\n",
       "    root._bokeh_failed_load = false;\n",
       "  }\n",
       "\n",
       "  function run_callbacks() {\n",
       "    try {\n",
       "      root._bokeh_onload_callbacks.forEach(function(callback) {\n",
       "        if (callback != null)\n",
       "          callback();\n",
       "      });\n",
       "    } finally {\n",
       "      delete root._bokeh_onload_callbacks\n",
       "    }\n",
       "    console.debug(\"Bokeh: all callbacks have finished\");\n",
       "  }\n",
       "\n",
       "  function load_libs(css_urls, js_urls, js_modules, callback) {\n",
       "    if (css_urls == null) css_urls = [];\n",
       "    if (js_urls == null) js_urls = [];\n",
       "    if (js_modules == null) js_modules = [];\n",
       "\n",
       "    root._bokeh_onload_callbacks.push(callback);\n",
       "    if (root._bokeh_is_loading > 0) {\n",
       "      console.debug(\"Bokeh: BokehJS is being loaded, scheduling callback at\", now());\n",
       "      return null;\n",
       "    }\n",
       "    if (js_urls.length === 0 && js_modules.length === 0) {\n",
       "      run_callbacks();\n",
       "      return null;\n",
       "    }\n",
       "    console.debug(\"Bokeh: BokehJS not loaded, scheduling load and callback at\", now());\n",
       "    root._bokeh_is_loading = css_urls.length + js_urls.length + js_modules.length;\n",
       "\n",
       "    function on_load() {\n",
       "      root._bokeh_is_loading--;\n",
       "      if (root._bokeh_is_loading === 0) {\n",
       "        console.debug(\"Bokeh: all BokehJS libraries/stylesheets loaded\");\n",
       "        run_callbacks()\n",
       "      }\n",
       "    }\n",
       "\n",
       "    function on_error() {\n",
       "      console.error(\"failed to load \" + url);\n",
       "    }\n",
       "\n",
       "    for (var i = 0; i < css_urls.length; i++) {\n",
       "      var url = css_urls[i];\n",
       "      const element = document.createElement(\"link\");\n",
       "      element.onload = on_load;\n",
       "      element.onerror = on_error;\n",
       "      element.rel = \"stylesheet\";\n",
       "      element.type = \"text/css\";\n",
       "      element.href = url;\n",
       "      console.debug(\"Bokeh: injecting link tag for BokehJS stylesheet: \", url);\n",
       "      document.body.appendChild(element);\n",
       "    }\n",
       "\n",
       "    var skip = [];\n",
       "    if (window.requirejs) {\n",
       "      window.requirejs.config({'packages': {}, 'paths': {'tabulator': 'https://unpkg.com/tabulator-tables@4.9.3/dist/js/tabulator', 'moment': 'https://unpkg.com/moment@2.27.0/moment'}, 'shim': {}});\n",
       "      \n",
       "      require([\"tabulator\"], function(Tabulator) {\n",
       "\twindow.Tabulator = Tabulator\n",
       "      })\n",
       "      \n",
       "      require([\"moment\"], function(moment) {\n",
       "\twindow.moment = moment\n",
       "      })\n",
       "      \n",
       "    }\n",
       "    if (((window['Tabulator'] !== undefined) && (!(window['Tabulator'] instanceof HTMLElement))) || window.requirejs) {\n",
       "      var urls = ['https://unpkg.com/tabulator-tables@4.9.3/dist/js/tabulator.js'];\n",
       "      for (var i = 0; i < urls.length; i++) {\n",
       "        skip.push(urls[i])\n",
       "      }\n",
       "    }\n",
       "    if (((window['moment'] !== undefined) && (!(window['moment'] instanceof HTMLElement))) || window.requirejs) {\n",
       "      var urls = ['https://unpkg.com/moment@2.27.0/moment.js'];\n",
       "      for (var i = 0; i < urls.length; i++) {\n",
       "        skip.push(urls[i])\n",
       "      }\n",
       "    }\n",
       "    for (var i = 0; i < js_urls.length; i++) {\n",
       "      var url = js_urls[i];\n",
       "      if (skip.indexOf(url) >= 0) { on_load(); continue; }\n",
       "      var element = document.createElement('script');\n",
       "      element.onload = on_load;\n",
       "      element.onerror = on_error;\n",
       "      element.async = false;\n",
       "      element.src = url;\n",
       "      console.debug(\"Bokeh: injecting script tag for BokehJS library: \", url);\n",
       "      document.head.appendChild(element);\n",
       "    }\n",
       "    for (var i = 0; i < js_modules.length; i++) {\n",
       "      var url = js_modules[i];\n",
       "      if (skip.indexOf(url) >= 0) { on_load(); continue; }\n",
       "      var element = document.createElement('script');\n",
       "      element.onload = on_load;\n",
       "      element.onerror = on_error;\n",
       "      element.async = false;\n",
       "      element.src = url;\n",
       "      element.type = \"module\";\n",
       "      console.debug(\"Bokeh: injecting script tag for BokehJS library: \", url);\n",
       "      document.head.appendChild(element);\n",
       "    }\n",
       "    if (!js_urls.length && !js_modules.length) {\n",
       "      on_load()\n",
       "    }\n",
       "  };\n",
       "\n",
       "  function inject_raw_css(css) {\n",
       "    const element = document.createElement(\"style\");\n",
       "    element.appendChild(document.createTextNode(css));\n",
       "    document.body.appendChild(element);\n",
       "  }\n",
       "\n",
       "  var js_urls = [\"https://unpkg.com/tabulator-tables@4.9.3/dist/js/tabulator.js\", \"https://unpkg.com/moment@2.27.0/moment.js\", \"https://cdn.bokeh.org/bokeh/release/bokeh-2.3.3.min.js\", \"https://cdn.bokeh.org/bokeh/release/bokeh-widgets-2.3.3.min.js\", \"https://cdn.bokeh.org/bokeh/release/bokeh-tables-2.3.3.min.js\", \"https://unpkg.com/@holoviz/panel@0.12.1/dist/panel.min.js\"];\n",
       "  var js_modules = [];\n",
       "  var css_urls = [\"https://unpkg.com/tabulator-tables@4.9.3/dist/css/tabulator_simple.min.css\", \"https://unpkg.com/@holoviz/panel@0.12.1/dist/css/alerts.css\", \"https://unpkg.com/@holoviz/panel@0.12.1/dist/css/card.css\", \"https://unpkg.com/@holoviz/panel@0.12.1/dist/css/dataframe.css\", \"https://unpkg.com/@holoviz/panel@0.12.1/dist/css/json.css\", \"https://unpkg.com/@holoviz/panel@0.12.1/dist/css/loading.css\", \"https://unpkg.com/@holoviz/panel@0.12.1/dist/css/markdown.css\", \"https://unpkg.com/@holoviz/panel@0.12.1/dist/css/widgets.css\"];\n",
       "  var inline_js = [\n",
       "    function(Bokeh) {\n",
       "      inject_raw_css(\"\\n    .bk.pn-loading.arcs:before {\\n      background-image: url(\\\"data:image/svg+xml;base64,PHN2ZyB4bWxucz0iaHR0cDovL3d3dy53My5vcmcvMjAwMC9zdmciIHhtbG5zOnhsaW5rPSJodHRwOi8vd3d3LnczLm9yZy8xOTk5L3hsaW5rIiBzdHlsZT0ibWFyZ2luOiBhdXRvOyBiYWNrZ3JvdW5kOiBub25lOyBkaXNwbGF5OiBibG9jazsgc2hhcGUtcmVuZGVyaW5nOiBhdXRvOyIgdmlld0JveD0iMCAwIDEwMCAxMDAiIHByZXNlcnZlQXNwZWN0UmF0aW89InhNaWRZTWlkIj4gIDxjaXJjbGUgY3g9IjUwIiBjeT0iNTAiIHI9IjMyIiBzdHJva2Utd2lkdGg9IjgiIHN0cm9rZT0iI2MzYzNjMyIgc3Ryb2tlLWRhc2hhcnJheT0iNTAuMjY1NDgyNDU3NDM2NjkgNTAuMjY1NDgyNDU3NDM2NjkiIGZpbGw9Im5vbmUiIHN0cm9rZS1saW5lY2FwPSJyb3VuZCI+ICAgIDxhbmltYXRlVHJhbnNmb3JtIGF0dHJpYnV0ZU5hbWU9InRyYW5zZm9ybSIgdHlwZT0icm90YXRlIiByZXBlYXRDb3VudD0iaW5kZWZpbml0ZSIgZHVyPSIxcyIga2V5VGltZXM9IjA7MSIgdmFsdWVzPSIwIDUwIDUwOzM2MCA1MCA1MCI+PC9hbmltYXRlVHJhbnNmb3JtPiAgPC9jaXJjbGU+PC9zdmc+\\\")\\n    }\\n    \");\n",
       "    },\n",
       "    function(Bokeh) {\n",
       "      Bokeh.set_log_level(\"info\");\n",
       "    },\n",
       "    function(Bokeh) {} // ensure no trailing comma for IE\n",
       "  ];\n",
       "\n",
       "  function run_inline_js() {\n",
       "    if ((root.Bokeh !== undefined) || (force === true)) {\n",
       "      for (var i = 0; i < inline_js.length; i++) {\n",
       "        inline_js[i].call(root, root.Bokeh);\n",
       "      }} else if (Date.now() < root._bokeh_timeout) {\n",
       "      setTimeout(run_inline_js, 100);\n",
       "    } else if (!root._bokeh_failed_load) {\n",
       "      console.log(\"Bokeh: BokehJS failed to load within specified timeout.\");\n",
       "      root._bokeh_failed_load = true;\n",
       "    }\n",
       "  }\n",
       "\n",
       "  if (root._bokeh_is_loading === 0) {\n",
       "    console.debug(\"Bokeh: BokehJS loaded, going straight to plotting\");\n",
       "    run_inline_js();\n",
       "  } else {\n",
       "    load_libs(css_urls, js_urls, js_modules, function() {\n",
       "      console.debug(\"Bokeh: BokehJS plotting callback run at\", now());\n",
       "      run_inline_js();\n",
       "    });\n",
       "  }\n",
       "}(window));"
      ],
      "application/vnd.holoviews_load.v0+json": "\n(function(root) {\n  function now() {\n    return new Date();\n  }\n\n  var force = true;\n\n  if (typeof root._bokeh_onload_callbacks === \"undefined\" || force === true) {\n    root._bokeh_onload_callbacks = [];\n    root._bokeh_is_loading = undefined;\n  }\n\n  if (typeof (root._bokeh_timeout) === \"undefined\" || force === true) {\n    root._bokeh_timeout = Date.now() + 5000;\n    root._bokeh_failed_load = false;\n  }\n\n  function run_callbacks() {\n    try {\n      root._bokeh_onload_callbacks.forEach(function(callback) {\n        if (callback != null)\n          callback();\n      });\n    } finally {\n      delete root._bokeh_onload_callbacks\n    }\n    console.debug(\"Bokeh: all callbacks have finished\");\n  }\n\n  function load_libs(css_urls, js_urls, js_modules, callback) {\n    if (css_urls == null) css_urls = [];\n    if (js_urls == null) js_urls = [];\n    if (js_modules == null) js_modules = [];\n\n    root._bokeh_onload_callbacks.push(callback);\n    if (root._bokeh_is_loading > 0) {\n      console.debug(\"Bokeh: BokehJS is being loaded, scheduling callback at\", now());\n      return null;\n    }\n    if (js_urls.length === 0 && js_modules.length === 0) {\n      run_callbacks();\n      return null;\n    }\n    console.debug(\"Bokeh: BokehJS not loaded, scheduling load and callback at\", now());\n    root._bokeh_is_loading = css_urls.length + js_urls.length + js_modules.length;\n\n    function on_load() {\n      root._bokeh_is_loading--;\n      if (root._bokeh_is_loading === 0) {\n        console.debug(\"Bokeh: all BokehJS libraries/stylesheets loaded\");\n        run_callbacks()\n      }\n    }\n\n    function on_error() {\n      console.error(\"failed to load \" + url);\n    }\n\n    for (var i = 0; i < css_urls.length; i++) {\n      var url = css_urls[i];\n      const element = document.createElement(\"link\");\n      element.onload = on_load;\n      element.onerror = on_error;\n      element.rel = \"stylesheet\";\n      element.type = \"text/css\";\n      element.href = url;\n      console.debug(\"Bokeh: injecting link tag for BokehJS stylesheet: \", url);\n      document.body.appendChild(element);\n    }\n\n    var skip = [];\n    if (window.requirejs) {\n      window.requirejs.config({'packages': {}, 'paths': {'tabulator': 'https://unpkg.com/tabulator-tables@4.9.3/dist/js/tabulator', 'moment': 'https://unpkg.com/moment@2.27.0/moment'}, 'shim': {}});\n      \n      require([\"tabulator\"], function(Tabulator) {\n\twindow.Tabulator = Tabulator\n      })\n      \n      require([\"moment\"], function(moment) {\n\twindow.moment = moment\n      })\n      \n    }\n    if (((window['Tabulator'] !== undefined) && (!(window['Tabulator'] instanceof HTMLElement))) || window.requirejs) {\n      var urls = ['https://unpkg.com/tabulator-tables@4.9.3/dist/js/tabulator.js'];\n      for (var i = 0; i < urls.length; i++) {\n        skip.push(urls[i])\n      }\n    }\n    if (((window['moment'] !== undefined) && (!(window['moment'] instanceof HTMLElement))) || window.requirejs) {\n      var urls = ['https://unpkg.com/moment@2.27.0/moment.js'];\n      for (var i = 0; i < urls.length; i++) {\n        skip.push(urls[i])\n      }\n    }\n    for (var i = 0; i < js_urls.length; i++) {\n      var url = js_urls[i];\n      if (skip.indexOf(url) >= 0) { on_load(); continue; }\n      var element = document.createElement('script');\n      element.onload = on_load;\n      element.onerror = on_error;\n      element.async = false;\n      element.src = url;\n      console.debug(\"Bokeh: injecting script tag for BokehJS library: \", url);\n      document.head.appendChild(element);\n    }\n    for (var i = 0; i < js_modules.length; i++) {\n      var url = js_modules[i];\n      if (skip.indexOf(url) >= 0) { on_load(); continue; }\n      var element = document.createElement('script');\n      element.onload = on_load;\n      element.onerror = on_error;\n      element.async = false;\n      element.src = url;\n      element.type = \"module\";\n      console.debug(\"Bokeh: injecting script tag for BokehJS library: \", url);\n      document.head.appendChild(element);\n    }\n    if (!js_urls.length && !js_modules.length) {\n      on_load()\n    }\n  };\n\n  function inject_raw_css(css) {\n    const element = document.createElement(\"style\");\n    element.appendChild(document.createTextNode(css));\n    document.body.appendChild(element);\n  }\n\n  var js_urls = [\"https://unpkg.com/tabulator-tables@4.9.3/dist/js/tabulator.js\", \"https://unpkg.com/moment@2.27.0/moment.js\", \"https://cdn.bokeh.org/bokeh/release/bokeh-2.3.3.min.js\", \"https://cdn.bokeh.org/bokeh/release/bokeh-widgets-2.3.3.min.js\", \"https://cdn.bokeh.org/bokeh/release/bokeh-tables-2.3.3.min.js\", \"https://unpkg.com/@holoviz/panel@0.12.1/dist/panel.min.js\"];\n  var js_modules = [];\n  var css_urls = [\"https://unpkg.com/tabulator-tables@4.9.3/dist/css/tabulator_simple.min.css\", \"https://unpkg.com/@holoviz/panel@0.12.1/dist/css/alerts.css\", \"https://unpkg.com/@holoviz/panel@0.12.1/dist/css/card.css\", \"https://unpkg.com/@holoviz/panel@0.12.1/dist/css/dataframe.css\", \"https://unpkg.com/@holoviz/panel@0.12.1/dist/css/json.css\", \"https://unpkg.com/@holoviz/panel@0.12.1/dist/css/loading.css\", \"https://unpkg.com/@holoviz/panel@0.12.1/dist/css/markdown.css\", \"https://unpkg.com/@holoviz/panel@0.12.1/dist/css/widgets.css\"];\n  var inline_js = [\n    function(Bokeh) {\n      inject_raw_css(\"\\n    .bk.pn-loading.arcs:before {\\n      background-image: url(\\\"data:image/svg+xml;base64,PHN2ZyB4bWxucz0iaHR0cDovL3d3dy53My5vcmcvMjAwMC9zdmciIHhtbG5zOnhsaW5rPSJodHRwOi8vd3d3LnczLm9yZy8xOTk5L3hsaW5rIiBzdHlsZT0ibWFyZ2luOiBhdXRvOyBiYWNrZ3JvdW5kOiBub25lOyBkaXNwbGF5OiBibG9jazsgc2hhcGUtcmVuZGVyaW5nOiBhdXRvOyIgdmlld0JveD0iMCAwIDEwMCAxMDAiIHByZXNlcnZlQXNwZWN0UmF0aW89InhNaWRZTWlkIj4gIDxjaXJjbGUgY3g9IjUwIiBjeT0iNTAiIHI9IjMyIiBzdHJva2Utd2lkdGg9IjgiIHN0cm9rZT0iI2MzYzNjMyIgc3Ryb2tlLWRhc2hhcnJheT0iNTAuMjY1NDgyNDU3NDM2NjkgNTAuMjY1NDgyNDU3NDM2NjkiIGZpbGw9Im5vbmUiIHN0cm9rZS1saW5lY2FwPSJyb3VuZCI+ICAgIDxhbmltYXRlVHJhbnNmb3JtIGF0dHJpYnV0ZU5hbWU9InRyYW5zZm9ybSIgdHlwZT0icm90YXRlIiByZXBlYXRDb3VudD0iaW5kZWZpbml0ZSIgZHVyPSIxcyIga2V5VGltZXM9IjA7MSIgdmFsdWVzPSIwIDUwIDUwOzM2MCA1MCA1MCI+PC9hbmltYXRlVHJhbnNmb3JtPiAgPC9jaXJjbGU+PC9zdmc+\\\")\\n    }\\n    \");\n    },\n    function(Bokeh) {\n      Bokeh.set_log_level(\"info\");\n    },\n    function(Bokeh) {} // ensure no trailing comma for IE\n  ];\n\n  function run_inline_js() {\n    if ((root.Bokeh !== undefined) || (force === true)) {\n      for (var i = 0; i < inline_js.length; i++) {\n        inline_js[i].call(root, root.Bokeh);\n      }} else if (Date.now() < root._bokeh_timeout) {\n      setTimeout(run_inline_js, 100);\n    } else if (!root._bokeh_failed_load) {\n      console.log(\"Bokeh: BokehJS failed to load within specified timeout.\");\n      root._bokeh_failed_load = true;\n    }\n  }\n\n  if (root._bokeh_is_loading === 0) {\n    console.debug(\"Bokeh: BokehJS loaded, going straight to plotting\");\n    run_inline_js();\n  } else {\n    load_libs(css_urls, js_urls, js_modules, function() {\n      console.debug(\"Bokeh: BokehJS plotting callback run at\", now());\n      run_inline_js();\n    });\n  }\n}(window));"
     },
     "metadata": {},
     "output_type": "display_data"
    },
    {
     "data": {
      "application/javascript": [
       "\n",
       "if ((window.PyViz === undefined) || (window.PyViz instanceof HTMLElement)) {\n",
       "  window.PyViz = {comms: {}, comm_status:{}, kernels:{}, receivers: {}, plot_index: []}\n",
       "}\n",
       "\n",
       "\n",
       "    function JupyterCommManager() {\n",
       "    }\n",
       "\n",
       "    JupyterCommManager.prototype.register_target = function(plot_id, comm_id, msg_handler) {\n",
       "      if (window.comm_manager || ((window.Jupyter !== undefined) && (Jupyter.notebook.kernel != null))) {\n",
       "        var comm_manager = window.comm_manager || Jupyter.notebook.kernel.comm_manager;\n",
       "        comm_manager.register_target(comm_id, function(comm) {\n",
       "          comm.on_msg(msg_handler);\n",
       "        });\n",
       "      } else if ((plot_id in window.PyViz.kernels) && (window.PyViz.kernels[plot_id])) {\n",
       "        window.PyViz.kernels[plot_id].registerCommTarget(comm_id, function(comm) {\n",
       "          comm.onMsg = msg_handler;\n",
       "        });\n",
       "      } else if (typeof google != 'undefined' && google.colab.kernel != null) {\n",
       "        google.colab.kernel.comms.registerTarget(comm_id, (comm) => {\n",
       "          var messages = comm.messages[Symbol.asyncIterator]();\n",
       "          function processIteratorResult(result) {\n",
       "            var message = result.value;\n",
       "            console.log(message)\n",
       "            var content = {data: message.data, comm_id};\n",
       "            var buffers = []\n",
       "            for (var buffer of message.buffers || []) {\n",
       "              buffers.push(new DataView(buffer))\n",
       "            }\n",
       "            var metadata = message.metadata || {};\n",
       "            var msg = {content, buffers, metadata}\n",
       "            msg_handler(msg);\n",
       "            return messages.next().then(processIteratorResult);\n",
       "          }\n",
       "          return messages.next().then(processIteratorResult);\n",
       "        })\n",
       "      }\n",
       "    }\n",
       "\n",
       "    JupyterCommManager.prototype.get_client_comm = function(plot_id, comm_id, msg_handler) {\n",
       "      if (comm_id in window.PyViz.comms) {\n",
       "        return window.PyViz.comms[comm_id];\n",
       "      } else if (window.comm_manager || ((window.Jupyter !== undefined) && (Jupyter.notebook.kernel != null))) {\n",
       "        var comm_manager = window.comm_manager || Jupyter.notebook.kernel.comm_manager;\n",
       "        var comm = comm_manager.new_comm(comm_id, {}, {}, {}, comm_id);\n",
       "        if (msg_handler) {\n",
       "          comm.on_msg(msg_handler);\n",
       "        }\n",
       "      } else if ((plot_id in window.PyViz.kernels) && (window.PyViz.kernels[plot_id])) {\n",
       "        var comm = window.PyViz.kernels[plot_id].connectToComm(comm_id);\n",
       "        comm.open();\n",
       "        if (msg_handler) {\n",
       "          comm.onMsg = msg_handler;\n",
       "        }\n",
       "      } else if (typeof google != 'undefined' && google.colab.kernel != null) {\n",
       "        var comm_promise = google.colab.kernel.comms.open(comm_id)\n",
       "        comm_promise.then((comm) => {\n",
       "          window.PyViz.comms[comm_id] = comm;\n",
       "          if (msg_handler) {\n",
       "            var messages = comm.messages[Symbol.asyncIterator]();\n",
       "            function processIteratorResult(result) {\n",
       "              var message = result.value;\n",
       "              var content = {data: message.data};\n",
       "              var metadata = message.metadata || {comm_id};\n",
       "              var msg = {content, metadata}\n",
       "              msg_handler(msg);\n",
       "              return messages.next().then(processIteratorResult);\n",
       "            }\n",
       "            return messages.next().then(processIteratorResult);\n",
       "          }\n",
       "        }) \n",
       "        var sendClosure = (data, metadata, buffers, disposeOnDone) => {\n",
       "          return comm_promise.then((comm) => {\n",
       "            comm.send(data, metadata, buffers, disposeOnDone);\n",
       "          });\n",
       "        };\n",
       "        var comm = {\n",
       "          send: sendClosure\n",
       "        };\n",
       "      }\n",
       "      window.PyViz.comms[comm_id] = comm;\n",
       "      return comm;\n",
       "    }\n",
       "    window.PyViz.comm_manager = new JupyterCommManager();\n",
       "    \n",
       "\n",
       "\n",
       "var JS_MIME_TYPE = 'application/javascript';\n",
       "var HTML_MIME_TYPE = 'text/html';\n",
       "var EXEC_MIME_TYPE = 'application/vnd.holoviews_exec.v0+json';\n",
       "var CLASS_NAME = 'output';\n",
       "\n",
       "/**\n",
       " * Render data to the DOM node\n",
       " */\n",
       "function render(props, node) {\n",
       "  var div = document.createElement(\"div\");\n",
       "  var script = document.createElement(\"script\");\n",
       "  node.appendChild(div);\n",
       "  node.appendChild(script);\n",
       "}\n",
       "\n",
       "/**\n",
       " * Handle when a new output is added\n",
       " */\n",
       "function handle_add_output(event, handle) {\n",
       "  var output_area = handle.output_area;\n",
       "  var output = handle.output;\n",
       "  if ((output.data == undefined) || (!output.data.hasOwnProperty(EXEC_MIME_TYPE))) {\n",
       "    return\n",
       "  }\n",
       "  var id = output.metadata[EXEC_MIME_TYPE][\"id\"];\n",
       "  var toinsert = output_area.element.find(\".\" + CLASS_NAME.split(' ')[0]);\n",
       "  if (id !== undefined) {\n",
       "    var nchildren = toinsert.length;\n",
       "    var html_node = toinsert[nchildren-1].children[0];\n",
       "    html_node.innerHTML = output.data[HTML_MIME_TYPE];\n",
       "    var scripts = [];\n",
       "    var nodelist = html_node.querySelectorAll(\"script\");\n",
       "    for (var i in nodelist) {\n",
       "      if (nodelist.hasOwnProperty(i)) {\n",
       "        scripts.push(nodelist[i])\n",
       "      }\n",
       "    }\n",
       "\n",
       "    scripts.forEach( function (oldScript) {\n",
       "      var newScript = document.createElement(\"script\");\n",
       "      var attrs = [];\n",
       "      var nodemap = oldScript.attributes;\n",
       "      for (var j in nodemap) {\n",
       "        if (nodemap.hasOwnProperty(j)) {\n",
       "          attrs.push(nodemap[j])\n",
       "        }\n",
       "      }\n",
       "      attrs.forEach(function(attr) { newScript.setAttribute(attr.name, attr.value) });\n",
       "      newScript.appendChild(document.createTextNode(oldScript.innerHTML));\n",
       "      oldScript.parentNode.replaceChild(newScript, oldScript);\n",
       "    });\n",
       "    if (JS_MIME_TYPE in output.data) {\n",
       "      toinsert[nchildren-1].children[1].textContent = output.data[JS_MIME_TYPE];\n",
       "    }\n",
       "    output_area._hv_plot_id = id;\n",
       "    if ((window.Bokeh !== undefined) && (id in Bokeh.index)) {\n",
       "      window.PyViz.plot_index[id] = Bokeh.index[id];\n",
       "    } else {\n",
       "      window.PyViz.plot_index[id] = null;\n",
       "    }\n",
       "  } else if (output.metadata[EXEC_MIME_TYPE][\"server_id\"] !== undefined) {\n",
       "    var bk_div = document.createElement(\"div\");\n",
       "    bk_div.innerHTML = output.data[HTML_MIME_TYPE];\n",
       "    var script_attrs = bk_div.children[0].attributes;\n",
       "    for (var i = 0; i < script_attrs.length; i++) {\n",
       "      toinsert[toinsert.length - 1].childNodes[1].setAttribute(script_attrs[i].name, script_attrs[i].value);\n",
       "    }\n",
       "    // store reference to server id on output_area\n",
       "    output_area._bokeh_server_id = output.metadata[EXEC_MIME_TYPE][\"server_id\"];\n",
       "  }\n",
       "}\n",
       "\n",
       "/**\n",
       " * Handle when an output is cleared or removed\n",
       " */\n",
       "function handle_clear_output(event, handle) {\n",
       "  var id = handle.cell.output_area._hv_plot_id;\n",
       "  var server_id = handle.cell.output_area._bokeh_server_id;\n",
       "  if (((id === undefined) || !(id in PyViz.plot_index)) && (server_id !== undefined)) { return; }\n",
       "  var comm = window.PyViz.comm_manager.get_client_comm(\"hv-extension-comm\", \"hv-extension-comm\", function () {});\n",
       "  if (server_id !== null) {\n",
       "    comm.send({event_type: 'server_delete', 'id': server_id});\n",
       "    return;\n",
       "  } else if (comm !== null) {\n",
       "    comm.send({event_type: 'delete', 'id': id});\n",
       "  }\n",
       "  delete PyViz.plot_index[id];\n",
       "  if ((window.Bokeh !== undefined) & (id in window.Bokeh.index)) {\n",
       "    var doc = window.Bokeh.index[id].model.document\n",
       "    doc.clear();\n",
       "    const i = window.Bokeh.documents.indexOf(doc);\n",
       "    if (i > -1) {\n",
       "      window.Bokeh.documents.splice(i, 1);\n",
       "    }\n",
       "  }\n",
       "}\n",
       "\n",
       "/**\n",
       " * Handle kernel restart event\n",
       " */\n",
       "function handle_kernel_cleanup(event, handle) {\n",
       "  delete PyViz.comms[\"hv-extension-comm\"];\n",
       "  window.PyViz.plot_index = {}\n",
       "}\n",
       "\n",
       "/**\n",
       " * Handle update_display_data messages\n",
       " */\n",
       "function handle_update_output(event, handle) {\n",
       "  handle_clear_output(event, {cell: {output_area: handle.output_area}})\n",
       "  handle_add_output(event, handle)\n",
       "}\n",
       "\n",
       "function register_renderer(events, OutputArea) {\n",
       "  function append_mime(data, metadata, element) {\n",
       "    // create a DOM node to render to\n",
       "    var toinsert = this.create_output_subarea(\n",
       "    metadata,\n",
       "    CLASS_NAME,\n",
       "    EXEC_MIME_TYPE\n",
       "    );\n",
       "    this.keyboard_manager.register_events(toinsert);\n",
       "    // Render to node\n",
       "    var props = {data: data, metadata: metadata[EXEC_MIME_TYPE]};\n",
       "    render(props, toinsert[0]);\n",
       "    element.append(toinsert);\n",
       "    return toinsert\n",
       "  }\n",
       "\n",
       "  events.on('output_added.OutputArea', handle_add_output);\n",
       "  events.on('output_updated.OutputArea', handle_update_output);\n",
       "  events.on('clear_output.CodeCell', handle_clear_output);\n",
       "  events.on('delete.Cell', handle_clear_output);\n",
       "  events.on('kernel_ready.Kernel', handle_kernel_cleanup);\n",
       "\n",
       "  OutputArea.prototype.register_mime_type(EXEC_MIME_TYPE, append_mime, {\n",
       "    safe: true,\n",
       "    index: 0\n",
       "  });\n",
       "}\n",
       "\n",
       "if (window.Jupyter !== undefined) {\n",
       "  try {\n",
       "    var events = require('base/js/events');\n",
       "    var OutputArea = require('notebook/js/outputarea').OutputArea;\n",
       "    if (OutputArea.prototype.mime_types().indexOf(EXEC_MIME_TYPE) == -1) {\n",
       "      register_renderer(events, OutputArea);\n",
       "    }\n",
       "  } catch(err) {\n",
       "  }\n",
       "}\n"
      ],
      "application/vnd.holoviews_load.v0+json": "\nif ((window.PyViz === undefined) || (window.PyViz instanceof HTMLElement)) {\n  window.PyViz = {comms: {}, comm_status:{}, kernels:{}, receivers: {}, plot_index: []}\n}\n\n\n    function JupyterCommManager() {\n    }\n\n    JupyterCommManager.prototype.register_target = function(plot_id, comm_id, msg_handler) {\n      if (window.comm_manager || ((window.Jupyter !== undefined) && (Jupyter.notebook.kernel != null))) {\n        var comm_manager = window.comm_manager || Jupyter.notebook.kernel.comm_manager;\n        comm_manager.register_target(comm_id, function(comm) {\n          comm.on_msg(msg_handler);\n        });\n      } else if ((plot_id in window.PyViz.kernels) && (window.PyViz.kernels[plot_id])) {\n        window.PyViz.kernels[plot_id].registerCommTarget(comm_id, function(comm) {\n          comm.onMsg = msg_handler;\n        });\n      } else if (typeof google != 'undefined' && google.colab.kernel != null) {\n        google.colab.kernel.comms.registerTarget(comm_id, (comm) => {\n          var messages = comm.messages[Symbol.asyncIterator]();\n          function processIteratorResult(result) {\n            var message = result.value;\n            console.log(message)\n            var content = {data: message.data, comm_id};\n            var buffers = []\n            for (var buffer of message.buffers || []) {\n              buffers.push(new DataView(buffer))\n            }\n            var metadata = message.metadata || {};\n            var msg = {content, buffers, metadata}\n            msg_handler(msg);\n            return messages.next().then(processIteratorResult);\n          }\n          return messages.next().then(processIteratorResult);\n        })\n      }\n    }\n\n    JupyterCommManager.prototype.get_client_comm = function(plot_id, comm_id, msg_handler) {\n      if (comm_id in window.PyViz.comms) {\n        return window.PyViz.comms[comm_id];\n      } else if (window.comm_manager || ((window.Jupyter !== undefined) && (Jupyter.notebook.kernel != null))) {\n        var comm_manager = window.comm_manager || Jupyter.notebook.kernel.comm_manager;\n        var comm = comm_manager.new_comm(comm_id, {}, {}, {}, comm_id);\n        if (msg_handler) {\n          comm.on_msg(msg_handler);\n        }\n      } else if ((plot_id in window.PyViz.kernels) && (window.PyViz.kernels[plot_id])) {\n        var comm = window.PyViz.kernels[plot_id].connectToComm(comm_id);\n        comm.open();\n        if (msg_handler) {\n          comm.onMsg = msg_handler;\n        }\n      } else if (typeof google != 'undefined' && google.colab.kernel != null) {\n        var comm_promise = google.colab.kernel.comms.open(comm_id)\n        comm_promise.then((comm) => {\n          window.PyViz.comms[comm_id] = comm;\n          if (msg_handler) {\n            var messages = comm.messages[Symbol.asyncIterator]();\n            function processIteratorResult(result) {\n              var message = result.value;\n              var content = {data: message.data};\n              var metadata = message.metadata || {comm_id};\n              var msg = {content, metadata}\n              msg_handler(msg);\n              return messages.next().then(processIteratorResult);\n            }\n            return messages.next().then(processIteratorResult);\n          }\n        }) \n        var sendClosure = (data, metadata, buffers, disposeOnDone) => {\n          return comm_promise.then((comm) => {\n            comm.send(data, metadata, buffers, disposeOnDone);\n          });\n        };\n        var comm = {\n          send: sendClosure\n        };\n      }\n      window.PyViz.comms[comm_id] = comm;\n      return comm;\n    }\n    window.PyViz.comm_manager = new JupyterCommManager();\n    \n\n\nvar JS_MIME_TYPE = 'application/javascript';\nvar HTML_MIME_TYPE = 'text/html';\nvar EXEC_MIME_TYPE = 'application/vnd.holoviews_exec.v0+json';\nvar CLASS_NAME = 'output';\n\n/**\n * Render data to the DOM node\n */\nfunction render(props, node) {\n  var div = document.createElement(\"div\");\n  var script = document.createElement(\"script\");\n  node.appendChild(div);\n  node.appendChild(script);\n}\n\n/**\n * Handle when a new output is added\n */\nfunction handle_add_output(event, handle) {\n  var output_area = handle.output_area;\n  var output = handle.output;\n  if ((output.data == undefined) || (!output.data.hasOwnProperty(EXEC_MIME_TYPE))) {\n    return\n  }\n  var id = output.metadata[EXEC_MIME_TYPE][\"id\"];\n  var toinsert = output_area.element.find(\".\" + CLASS_NAME.split(' ')[0]);\n  if (id !== undefined) {\n    var nchildren = toinsert.length;\n    var html_node = toinsert[nchildren-1].children[0];\n    html_node.innerHTML = output.data[HTML_MIME_TYPE];\n    var scripts = [];\n    var nodelist = html_node.querySelectorAll(\"script\");\n    for (var i in nodelist) {\n      if (nodelist.hasOwnProperty(i)) {\n        scripts.push(nodelist[i])\n      }\n    }\n\n    scripts.forEach( function (oldScript) {\n      var newScript = document.createElement(\"script\");\n      var attrs = [];\n      var nodemap = oldScript.attributes;\n      for (var j in nodemap) {\n        if (nodemap.hasOwnProperty(j)) {\n          attrs.push(nodemap[j])\n        }\n      }\n      attrs.forEach(function(attr) { newScript.setAttribute(attr.name, attr.value) });\n      newScript.appendChild(document.createTextNode(oldScript.innerHTML));\n      oldScript.parentNode.replaceChild(newScript, oldScript);\n    });\n    if (JS_MIME_TYPE in output.data) {\n      toinsert[nchildren-1].children[1].textContent = output.data[JS_MIME_TYPE];\n    }\n    output_area._hv_plot_id = id;\n    if ((window.Bokeh !== undefined) && (id in Bokeh.index)) {\n      window.PyViz.plot_index[id] = Bokeh.index[id];\n    } else {\n      window.PyViz.plot_index[id] = null;\n    }\n  } else if (output.metadata[EXEC_MIME_TYPE][\"server_id\"] !== undefined) {\n    var bk_div = document.createElement(\"div\");\n    bk_div.innerHTML = output.data[HTML_MIME_TYPE];\n    var script_attrs = bk_div.children[0].attributes;\n    for (var i = 0; i < script_attrs.length; i++) {\n      toinsert[toinsert.length - 1].childNodes[1].setAttribute(script_attrs[i].name, script_attrs[i].value);\n    }\n    // store reference to server id on output_area\n    output_area._bokeh_server_id = output.metadata[EXEC_MIME_TYPE][\"server_id\"];\n  }\n}\n\n/**\n * Handle when an output is cleared or removed\n */\nfunction handle_clear_output(event, handle) {\n  var id = handle.cell.output_area._hv_plot_id;\n  var server_id = handle.cell.output_area._bokeh_server_id;\n  if (((id === undefined) || !(id in PyViz.plot_index)) && (server_id !== undefined)) { return; }\n  var comm = window.PyViz.comm_manager.get_client_comm(\"hv-extension-comm\", \"hv-extension-comm\", function () {});\n  if (server_id !== null) {\n    comm.send({event_type: 'server_delete', 'id': server_id});\n    return;\n  } else if (comm !== null) {\n    comm.send({event_type: 'delete', 'id': id});\n  }\n  delete PyViz.plot_index[id];\n  if ((window.Bokeh !== undefined) & (id in window.Bokeh.index)) {\n    var doc = window.Bokeh.index[id].model.document\n    doc.clear();\n    const i = window.Bokeh.documents.indexOf(doc);\n    if (i > -1) {\n      window.Bokeh.documents.splice(i, 1);\n    }\n  }\n}\n\n/**\n * Handle kernel restart event\n */\nfunction handle_kernel_cleanup(event, handle) {\n  delete PyViz.comms[\"hv-extension-comm\"];\n  window.PyViz.plot_index = {}\n}\n\n/**\n * Handle update_display_data messages\n */\nfunction handle_update_output(event, handle) {\n  handle_clear_output(event, {cell: {output_area: handle.output_area}})\n  handle_add_output(event, handle)\n}\n\nfunction register_renderer(events, OutputArea) {\n  function append_mime(data, metadata, element) {\n    // create a DOM node to render to\n    var toinsert = this.create_output_subarea(\n    metadata,\n    CLASS_NAME,\n    EXEC_MIME_TYPE\n    );\n    this.keyboard_manager.register_events(toinsert);\n    // Render to node\n    var props = {data: data, metadata: metadata[EXEC_MIME_TYPE]};\n    render(props, toinsert[0]);\n    element.append(toinsert);\n    return toinsert\n  }\n\n  events.on('output_added.OutputArea', handle_add_output);\n  events.on('output_updated.OutputArea', handle_update_output);\n  events.on('clear_output.CodeCell', handle_clear_output);\n  events.on('delete.Cell', handle_clear_output);\n  events.on('kernel_ready.Kernel', handle_kernel_cleanup);\n\n  OutputArea.prototype.register_mime_type(EXEC_MIME_TYPE, append_mime, {\n    safe: true,\n    index: 0\n  });\n}\n\nif (window.Jupyter !== undefined) {\n  try {\n    var events = require('base/js/events');\n    var OutputArea = require('notebook/js/outputarea').OutputArea;\n    if (OutputArea.prototype.mime_types().indexOf(EXEC_MIME_TYPE) == -1) {\n      register_renderer(events, OutputArea);\n    }\n  } catch(err) {\n  }\n}\n"
     },
     "metadata": {},
     "output_type": "display_data"
    },
    {
     "data": {
      "text/plain": [
       "datetime.date(2022, 12, 15)"
      ]
     },
     "execution_count": 1,
     "metadata": {},
     "output_type": "execute_result"
    }
   ],
   "source": [
    "import calendar\n",
    "import pandas as pd\n",
    "import panel as pn\n",
    "import seaborn as sns\n",
    "from datetime import date, timedelta\n",
    "from sqlalchemy import create_engine\n",
    "from itables import init_notebook_mode, show\n",
    "init_notebook_mode(all_interactive=False)\n",
    "\n",
    "pn.extension('tabulator')\n",
    "\n",
    "engine = create_engine(\"sqlite:///c:\\\\ruby\\\\port_lite\\\\db\\\\development.sqlite3\")\n",
    "conlite = engine.connect()\n",
    "\n",
    "data_path = \"../data/\"\n",
    "csv_path = \"\\\\Users\\\\User\\\\iCloudDrive\\\\\"\n",
    "box_path = \"\\\\Users\\\\User\\\\Dropbox\\\\\"\n",
    "one_path = \"\\\\Users\\\\User\\\\OneDrive\\\\Documents\\\\Data\\\\\"\n",
    "\n",
    "def categories(row):  \n",
    "    if row['trade'] == 'B':\n",
    "        return 'Buy'\n",
    "    else:\n",
    "        return 'Sell'\n",
    "    \n",
    "today = date.today()\n",
    "today"
   ]
  },
  {
   "cell_type": "markdown",
   "metadata": {},
   "source": [
    "### Begin of Tables in the process"
   ]
  },
  {
   "cell_type": "code",
   "execution_count": 6,
   "metadata": {},
   "outputs": [
    {
     "data": {
      "text/html": [
       "<style type=\"text/css\">\n",
       "</style>\n",
       "<table id=\"T_008ef_\">\n",
       "  <thead>\n",
       "    <tr>\n",
       "      <th class=\"blank level0\" >&nbsp;</th>\n",
       "      <th class=\"col_heading level0 col0\" >id</th>\n",
       "      <th class=\"col_heading level0 col1\" >trade</th>\n",
       "      <th class=\"col_heading level0 col2\" >name</th>\n",
       "      <th class=\"col_heading level0 col3\" >qty</th>\n",
       "      <th class=\"col_heading level0 col4\" >price</th>\n",
       "      <th class=\"col_heading level0 col5\" >active</th>\n",
       "      <th class=\"col_heading level0 col6\" >reason</th>\n",
       "      <th class=\"col_heading level0 col7\" >market</th>\n",
       "      <th class=\"col_heading level0 col8\" >xdate</th>\n",
       "    </tr>\n",
       "  </thead>\n",
       "  <tbody>\n",
       "    <tr>\n",
       "      <th id=\"T_008ef_level0_row0\" class=\"row_heading level0 row0\" >0</th>\n",
       "      <td id=\"T_008ef_row0_col0\" class=\"data row0 col0\" >22</td>\n",
       "      <td id=\"T_008ef_row0_col1\" class=\"data row0 col1\" >B</td>\n",
       "      <td id=\"T_008ef_row0_col2\" class=\"data row0 col2\" >BH</td>\n",
       "      <td id=\"T_008ef_row0_col3\" class=\"data row0 col3\" >500</td>\n",
       "      <td id=\"T_008ef_row0_col4\" class=\"data row0 col4\" >200.00</td>\n",
       "      <td id=\"T_008ef_row0_col5\" class=\"data row0 col5\" >0</td>\n",
       "      <td id=\"T_008ef_row0_col6\" class=\"data row0 col6\" >5pct</td>\n",
       "      <td id=\"T_008ef_row0_col7\" class=\"data row0 col7\" >SET50</td>\n",
       "      <td id=\"T_008ef_row0_col8\" class=\"data row0 col8\" >2022-02-02</td>\n",
       "    </tr>\n",
       "  </tbody>\n",
       "</table>\n"
      ],
      "text/plain": [
       "<pandas.io.formats.style.Styler at 0x2603a862250>"
      ]
     },
     "execution_count": 6,
     "metadata": {},
     "output_type": "execute_result"
    }
   ],
   "source": [
    "cols = 'trade name qty price active reason market xdate'.split()\n",
    "colt = 'trans name qty target active spd current change percent reason market xdate'.split()\n",
    "\n",
    "format_dict = {\n",
    "    'qty':'{:,}',\n",
    "    'price':'{:.2f}','target':'{:.2f}','current':'{:.2f}','change':'{:.2f}','diff':'{:.2f}',\n",
    "    'amount':'{:,.2f}','sell_amt':'{:,.2f}'\n",
    "}\n",
    "\n",
    "pd.read_sql_query('SELECT * FROM orders ORDER BY id DESC LIMIT 1', conlite).style.format(format_dict)"
   ]
  },
  {
   "cell_type": "code",
   "execution_count": 8,
   "metadata": {},
   "outputs": [
    {
     "data": {
      "text/html": [
       "<style type=\"text/css\">\n",
       "#T_e22cc_row0_col2, #T_e22cc_row0_col5, #T_e22cc_row0_col6, #T_e22cc_row0_col7, #T_e22cc_row0_col8, #T_e22cc_row0_col10, #T_e22cc_row0_col13 {\n",
       "  background-color: #f7fbff;\n",
       "  color: #000000;\n",
       "}\n",
       "</style>\n",
       "<table id=\"T_e22cc_\">\n",
       "  <thead>\n",
       "    <tr>\n",
       "      <th class=\"blank level0\" >&nbsp;</th>\n",
       "      <th class=\"col_heading level0 col0\" >trade</th>\n",
       "      <th class=\"col_heading level0 col1\" >name</th>\n",
       "      <th class=\"col_heading level0 col2\" >spd</th>\n",
       "      <th class=\"col_heading level0 col3\" >reason</th>\n",
       "      <th class=\"col_heading level0 col4\" >market</th>\n",
       "      <th class=\"col_heading level0 col5\" >qty</th>\n",
       "      <th class=\"col_heading level0 col6\" >target</th>\n",
       "      <th class=\"col_heading level0 col7\" >current</th>\n",
       "      <th class=\"col_heading level0 col8\" >change</th>\n",
       "      <th class=\"col_heading level0 col9\" >percent</th>\n",
       "      <th class=\"col_heading level0 col10\" >active</th>\n",
       "      <th class=\"col_heading level0 col11\" >xdate</th>\n",
       "      <th class=\"col_heading level0 col12\" >trans</th>\n",
       "      <th class=\"col_heading level0 col13\" >amount</th>\n",
       "    </tr>\n",
       "  </thead>\n",
       "  <tbody>\n",
       "    <tr>\n",
       "      <th id=\"T_e22cc_level0_row0\" class=\"row_heading level0 row0\" >4</th>\n",
       "      <td id=\"T_e22cc_row0_col0\" class=\"data row0 col0\" >B</td>\n",
       "      <td id=\"T_e22cc_row0_col1\" class=\"data row0 col1\" >GVREIT</td>\n",
       "      <td id=\"T_e22cc_row0_col2\" class=\"data row0 col2\" >-2</td>\n",
       "      <td id=\"T_e22cc_row0_col3\" class=\"data row0 col3\" >C8.90</td>\n",
       "      <td id=\"T_e22cc_row0_col4\" class=\"data row0 col4\" >SET</td>\n",
       "      <td id=\"T_e22cc_row0_col5\" class=\"data row0 col5\" >10000</td>\n",
       "      <td id=\"T_e22cc_row0_col6\" class=\"data row0 col6\" >8.900000</td>\n",
       "      <td id=\"T_e22cc_row0_col7\" class=\"data row0 col7\" >9.000000</td>\n",
       "      <td id=\"T_e22cc_row0_col8\" class=\"data row0 col8\" >0.000000</td>\n",
       "      <td id=\"T_e22cc_row0_col9\" class=\"data row0 col9\" >0.00%</td>\n",
       "      <td id=\"T_e22cc_row0_col10\" class=\"data row0 col10\" >2</td>\n",
       "      <td id=\"T_e22cc_row0_col11\" class=\"data row0 col11\" >2022-12-08</td>\n",
       "      <td id=\"T_e22cc_row0_col12\" class=\"data row0 col12\" >Buy</td>\n",
       "      <td id=\"T_e22cc_row0_col13\" class=\"data row0 col13\" >89000.000000</td>\n",
       "    </tr>\n",
       "  </tbody>\n",
       "</table>\n"
      ],
      "text/plain": [
       "<pandas.io.formats.style.Styler at 0x2603a862070>"
      ]
     },
     "execution_count": 8,
     "metadata": {},
     "output_type": "execute_result"
    }
   ],
   "source": [
    "orders_log = pd.read_csv('../data/orders-log.csv')\n",
    "orders_log['trans'] = orders_log.apply(lambda row: categories(row), axis=1)\n",
    "orders_log['amount'] = orders_log.qty * orders_log.target\n",
    "orders_log[orders_log.active == 2].style.background_gradient(cmap = 'Blues')"
   ]
  },
  {
   "cell_type": "code",
   "execution_count": 9,
   "metadata": {
    "scrolled": true
   },
   "outputs": [
    {
     "data": {
      "text/html": [
       "<style type=\"text/css\">\n",
       "</style>\n",
       "<table id=\"T_2b34b_\">\n",
       "  <thead>\n",
       "    <tr>\n",
       "      <th class=\"blank level0\" >&nbsp;</th>\n",
       "      <th class=\"col_heading level0 col0\" >trade</th>\n",
       "      <th class=\"col_heading level0 col1\" >name</th>\n",
       "      <th class=\"col_heading level0 col2\" >spd</th>\n",
       "      <th class=\"col_heading level0 col3\" >reason</th>\n",
       "      <th class=\"col_heading level0 col4\" >market</th>\n",
       "      <th class=\"col_heading level0 col5\" >qty</th>\n",
       "      <th class=\"col_heading level0 col6\" >target</th>\n",
       "      <th class=\"col_heading level0 col7\" >current</th>\n",
       "      <th class=\"col_heading level0 col8\" >change</th>\n",
       "      <th class=\"col_heading level0 col9\" >percent</th>\n",
       "      <th class=\"col_heading level0 col10\" >active</th>\n",
       "      <th class=\"col_heading level0 col11\" >xdate</th>\n",
       "      <th class=\"col_heading level0 col12\" >trans</th>\n",
       "      <th class=\"col_heading level0 col13\" >amount</th>\n",
       "    </tr>\n",
       "  </thead>\n",
       "  <tbody>\n",
       "    <tr>\n",
       "      <th id=\"T_2b34b_level0_row0\" class=\"row_heading level0 row0\" >4</th>\n",
       "      <td id=\"T_2b34b_row0_col0\" class=\"data row0 col0\" >B</td>\n",
       "      <td id=\"T_2b34b_row0_col1\" class=\"data row0 col1\" >GVREIT</td>\n",
       "      <td id=\"T_2b34b_row0_col2\" class=\"data row0 col2\" >-2</td>\n",
       "      <td id=\"T_2b34b_row0_col3\" class=\"data row0 col3\" >C8.90</td>\n",
       "      <td id=\"T_2b34b_row0_col4\" class=\"data row0 col4\" >SET</td>\n",
       "      <td id=\"T_2b34b_row0_col5\" class=\"data row0 col5\" >10,000</td>\n",
       "      <td id=\"T_2b34b_row0_col6\" class=\"data row0 col6\" >8.90</td>\n",
       "      <td id=\"T_2b34b_row0_col7\" class=\"data row0 col7\" >9.00</td>\n",
       "      <td id=\"T_2b34b_row0_col8\" class=\"data row0 col8\" >0.00</td>\n",
       "      <td id=\"T_2b34b_row0_col9\" class=\"data row0 col9\" >0.00%</td>\n",
       "      <td id=\"T_2b34b_row0_col10\" class=\"data row0 col10\" >2</td>\n",
       "      <td id=\"T_2b34b_row0_col11\" class=\"data row0 col11\" >2022-12-08</td>\n",
       "      <td id=\"T_2b34b_row0_col12\" class=\"data row0 col12\" >Buy</td>\n",
       "      <td id=\"T_2b34b_row0_col13\" class=\"data row0 col13\" >89,000.00</td>\n",
       "    </tr>\n",
       "    <tr>\n",
       "      <th id=\"T_2b34b_level0_row1\" class=\"row_heading level0 row1\" >1</th>\n",
       "      <td id=\"T_2b34b_row1_col0\" class=\"data row1 col0\" >B</td>\n",
       "      <td id=\"T_2b34b_row1_col1\" class=\"data row1 col1\" >CKP</td>\n",
       "      <td id=\"T_2b34b_row1_col2\" class=\"data row1 col2\" >-3</td>\n",
       "      <td id=\"T_2b34b_row1_col3\" class=\"data row1 col3\" >3L</td>\n",
       "      <td id=\"T_2b34b_row1_col4\" class=\"data row1 col4\" >SET100</td>\n",
       "      <td id=\"T_2b34b_row1_col5\" class=\"data row1 col5\" >20,000</td>\n",
       "      <td id=\"T_2b34b_row1_col6\" class=\"data row1 col6\" >4.60</td>\n",
       "      <td id=\"T_2b34b_row1_col7\" class=\"data row1 col7\" >4.66</td>\n",
       "      <td id=\"T_2b34b_row1_col8\" class=\"data row1 col8\" >-0.06</td>\n",
       "      <td id=\"T_2b34b_row1_col9\" class=\"data row1 col9\" >-1.27%</td>\n",
       "      <td id=\"T_2b34b_row1_col10\" class=\"data row1 col10\" >1</td>\n",
       "      <td id=\"T_2b34b_row1_col11\" class=\"data row1 col11\" >2022-02-02</td>\n",
       "      <td id=\"T_2b34b_row1_col12\" class=\"data row1 col12\" >Buy</td>\n",
       "      <td id=\"T_2b34b_row1_col13\" class=\"data row1 col13\" >92,000.00</td>\n",
       "    </tr>\n",
       "    <tr>\n",
       "      <th id=\"T_2b34b_level0_row2\" class=\"row_heading level0 row2\" >3</th>\n",
       "      <td id=\"T_2b34b_row2_col0\" class=\"data row2 col0\" >B</td>\n",
       "      <td id=\"T_2b34b_row2_col1\" class=\"data row2 col1\" >GFPT</td>\n",
       "      <td id=\"T_2b34b_row2_col2\" class=\"data row2 col2\" >-3</td>\n",
       "      <td id=\"T_2b34b_row2_col3\" class=\"data row2 col3\" >XXX</td>\n",
       "      <td id=\"T_2b34b_row2_col4\" class=\"data row2 col4\" >SET</td>\n",
       "      <td id=\"T_2b34b_row2_col5\" class=\"data row2 col5\" >7,500</td>\n",
       "      <td id=\"T_2b34b_row2_col6\" class=\"data row2 col6\" >12.50</td>\n",
       "      <td id=\"T_2b34b_row2_col7\" class=\"data row2 col7\" >12.80</td>\n",
       "      <td id=\"T_2b34b_row2_col8\" class=\"data row2 col8\" >-0.20</td>\n",
       "      <td id=\"T_2b34b_row2_col9\" class=\"data row2 col9\" >-1.54%</td>\n",
       "      <td id=\"T_2b34b_row2_col10\" class=\"data row2 col10\" >1</td>\n",
       "      <td id=\"T_2b34b_row2_col11\" class=\"data row2 col11\" >2022-02-02</td>\n",
       "      <td id=\"T_2b34b_row2_col12\" class=\"data row2 col12\" >Buy</td>\n",
       "      <td id=\"T_2b34b_row2_col13\" class=\"data row2 col13\" >93,750.00</td>\n",
       "    </tr>\n",
       "    <tr>\n",
       "      <th id=\"T_2b34b_level0_row3\" class=\"row_heading level0 row3\" >0</th>\n",
       "      <td id=\"T_2b34b_row3_col0\" class=\"data row3 col0\" >B</td>\n",
       "      <td id=\"T_2b34b_row3_col1\" class=\"data row3 col1\" >BH</td>\n",
       "      <td id=\"T_2b34b_row3_col2\" class=\"data row3 col2\" >-10</td>\n",
       "      <td id=\"T_2b34b_row3_col3\" class=\"data row3 col3\" >5pct</td>\n",
       "      <td id=\"T_2b34b_row3_col4\" class=\"data row3 col4\" >SET50</td>\n",
       "      <td id=\"T_2b34b_row3_col5\" class=\"data row3 col5\" >500</td>\n",
       "      <td id=\"T_2b34b_row3_col6\" class=\"data row3 col6\" >200.00</td>\n",
       "      <td id=\"T_2b34b_row3_col7\" class=\"data row3 col7\" >210.00</td>\n",
       "      <td id=\"T_2b34b_row3_col8\" class=\"data row3 col8\" >-1.00</td>\n",
       "      <td id=\"T_2b34b_row3_col9\" class=\"data row3 col9\" >-0.47%</td>\n",
       "      <td id=\"T_2b34b_row3_col10\" class=\"data row3 col10\" >0</td>\n",
       "      <td id=\"T_2b34b_row3_col11\" class=\"data row3 col11\" >2022-02-02</td>\n",
       "      <td id=\"T_2b34b_row3_col12\" class=\"data row3 col12\" >Buy</td>\n",
       "      <td id=\"T_2b34b_row3_col13\" class=\"data row3 col13\" >100,000.00</td>\n",
       "    </tr>\n",
       "    <tr>\n",
       "      <th id=\"T_2b34b_level0_row4\" class=\"row_heading level0 row4\" >2</th>\n",
       "      <td id=\"T_2b34b_row4_col0\" class=\"data row4 col0\" >B</td>\n",
       "      <td id=\"T_2b34b_row4_col1\" class=\"data row4 col1\" >CPF</td>\n",
       "      <td id=\"T_2b34b_row4_col2\" class=\"data row4 col2\" >-10</td>\n",
       "      <td id=\"T_2b34b_row4_col3\" class=\"data row4 col3\" >XXX</td>\n",
       "      <td id=\"T_2b34b_row4_col4\" class=\"data row4 col4\" >SET50</td>\n",
       "      <td id=\"T_2b34b_row4_col5\" class=\"data row4 col5\" >4,000</td>\n",
       "      <td id=\"T_2b34b_row4_col6\" class=\"data row4 col6\" >23.00</td>\n",
       "      <td id=\"T_2b34b_row4_col7\" class=\"data row4 col7\" >24.00</td>\n",
       "      <td id=\"T_2b34b_row4_col8\" class=\"data row4 col8\" >0.20</td>\n",
       "      <td id=\"T_2b34b_row4_col9\" class=\"data row4 col9\" >+0.84%</td>\n",
       "      <td id=\"T_2b34b_row4_col10\" class=\"data row4 col10\" >0</td>\n",
       "      <td id=\"T_2b34b_row4_col11\" class=\"data row4 col11\" >2022-02-02</td>\n",
       "      <td id=\"T_2b34b_row4_col12\" class=\"data row4 col12\" >Buy</td>\n",
       "      <td id=\"T_2b34b_row4_col13\" class=\"data row4 col13\" >92,000.00</td>\n",
       "    </tr>\n",
       "  </tbody>\n",
       "</table>\n"
      ],
      "text/plain": [
       "<pandas.io.formats.style.Styler at 0x26041849f10>"
      ]
     },
     "execution_count": 9,
     "metadata": {},
     "output_type": "execute_result"
    }
   ],
   "source": [
    "orders_log.head().sort_values('spd',ascending=False).style.format(format_dict)"
   ]
  },
  {
   "cell_type": "markdown",
   "metadata": {},
   "source": [
    "### End of Tables in the process"
   ]
  },
  {
   "cell_type": "markdown",
   "metadata": {},
   "source": [
    "### Print to verify before upload file"
   ]
  },
  {
   "cell_type": "code",
   "execution_count": 10,
   "metadata": {
    "scrolled": true
   },
   "outputs": [
    {
     "data": {},
     "metadata": {},
     "output_type": "display_data"
    },
    {
     "data": {
      "application/vnd.holoviews_exec.v0+json": "",
      "text/html": [
       "<div id='1055'>\n",
       "\n",
       "\n",
       "\n",
       "\n",
       "\n",
       "  <div class=\"bk-root\" id=\"2b82ba96-d65a-432f-8364-a1912ad89f98\" data-root-id=\"1055\"></div>\n",
       "</div>\n",
       "<script type=\"application/javascript\">(function(root) {\n",
       "  function embed_document(root) {\n",
       "    var docs_json = {\"af093921-a663-43af-a5d2-08d5529a7fba\":{\"defs\":[{\"extends\":null,\"module\":null,\"name\":\"ReactiveHTML1\",\"overrides\":[],\"properties\":[]},{\"extends\":null,\"module\":null,\"name\":\"FlexBox1\",\"overrides\":[],\"properties\":[{\"default\":\"flex-start\",\"kind\":null,\"name\":\"align_content\"},{\"default\":\"flex-start\",\"kind\":null,\"name\":\"align_items\"},{\"default\":\"row\",\"kind\":null,\"name\":\"flex_direction\"},{\"default\":\"wrap\",\"kind\":null,\"name\":\"flex_wrap\"},{\"default\":\"flex-start\",\"kind\":null,\"name\":\"justify_content\"}]},{\"extends\":null,\"module\":null,\"name\":\"TemplateActions1\",\"overrides\":[],\"properties\":[{\"default\":0,\"kind\":null,\"name\":\"open_modal\"},{\"default\":0,\"kind\":null,\"name\":\"close_modal\"}]},{\"extends\":null,\"module\":null,\"name\":\"MaterialTemplateActions1\",\"overrides\":[],\"properties\":[{\"default\":0,\"kind\":null,\"name\":\"open_modal\"},{\"default\":0,\"kind\":null,\"name\":\"close_modal\"}]}],\"roots\":{\"references\":[{\"attributes\":{},\"id\":\"1004\",\"type\":\"NumberFormatter\"},{\"attributes\":{\"editor\":{\"id\":\"1026\"},\"field\":\"price\",\"formatter\":{\"id\":\"1025\"},\"title\":\"price\",\"width\":0},\"id\":\"1027\",\"type\":\"TableColumn\"},{\"attributes\":{\"editor\":{\"id\":\"1046\"},\"field\":\"active\",\"formatter\":{\"id\":\"1045\"},\"title\":\"active\",\"width\":0},\"id\":\"1047\",\"type\":\"TableColumn\"},{\"attributes\":{},\"id\":\"1021\",\"type\":\"IntEditor\"},{\"attributes\":{\"indices\":[]},\"id\":\"1003\",\"type\":\"Selection\"},{\"attributes\":{\"reload\":false},\"id\":\"1070\",\"type\":\"panel.models.location.Location\"},{\"attributes\":{},\"id\":\"1026\",\"type\":\"NumberEditor\"},{\"attributes\":{\"editor\":{\"id\":\"1041\"},\"field\":\"market\",\"formatter\":{\"id\":\"1040\"},\"title\":\"market\",\"width\":0},\"id\":\"1042\",\"type\":\"TableColumn\"},{\"attributes\":{},\"id\":\"1050\",\"type\":\"StringFormatter\"},{\"attributes\":{\"editor\":{\"id\":\"1011\"},\"field\":\"trade\",\"formatter\":{\"id\":\"1010\"},\"title\":\"trade\",\"width\":0},\"id\":\"1012\",\"type\":\"TableColumn\"},{\"attributes\":{},\"id\":\"1051\",\"type\":\"StringEditor\"},{\"attributes\":{},\"id\":\"1035\",\"type\":\"StringFormatter\"},{\"attributes\":{\"columns\":[{\"id\":\"1007\"},{\"id\":\"1012\"},{\"id\":\"1017\"},{\"id\":\"1022\"},{\"id\":\"1027\"},{\"id\":\"1032\"},{\"id\":\"1037\"},{\"id\":\"1042\"},{\"id\":\"1047\"},{\"id\":\"1052\"}],\"configuration\":{\"columns\":[{\"field\":\"index\"},{\"field\":\"trade\"},{\"field\":\"name\"},{\"field\":\"qty\"},{\"field\":\"price\"},{\"field\":\"amount\"},{\"field\":\"reason\"},{\"field\":\"market\"},{\"field\":\"active\"},{\"field\":\"xdate\"}],\"dataTree\":false,\"selectable\":true},\"height\":660,\"indexes\":[\"index\"],\"layout\":\"fit_data_table\",\"margin\":[5,10,5,10],\"name\":\"\",\"page\":1,\"page_size\":20,\"selectable_rows\":null,\"source\":{\"id\":\"1002\"}},\"id\":\"1055\",\"type\":\"panel.models.tabulator.DataTabulator\"},{\"attributes\":{},\"id\":\"1011\",\"type\":\"StringEditor\"},{\"attributes\":{},\"id\":\"1010\",\"type\":\"StringFormatter\"},{\"attributes\":{\"editor\":{\"id\":\"1051\"},\"field\":\"xdate\",\"formatter\":{\"id\":\"1050\"},\"title\":\"xdate\",\"width\":0},\"id\":\"1052\",\"type\":\"TableColumn\"},{\"attributes\":{\"editor\":{\"id\":\"1031\"},\"field\":\"amount\",\"formatter\":{\"id\":\"1030\"},\"title\":\"amount\",\"width\":0},\"id\":\"1032\",\"type\":\"TableColumn\"},{\"attributes\":{\"format\":\"0,0.0[00000]\"},\"id\":\"1030\",\"type\":\"NumberFormatter\"},{\"attributes\":{\"editor\":{\"id\":\"1021\"},\"field\":\"qty\",\"formatter\":{\"id\":\"1020\"},\"title\":\"qty\",\"width\":0},\"id\":\"1022\",\"type\":\"TableColumn\"},{\"attributes\":{\"data\":{\"active\":[0,1,0,1,2,0,1,0,1,1,1,1,1,1,0,1,0,0,0,0,1],\"amount\":{\"__ndarray__\":\"AAAAAABq+EAAAAAAAHb2QAAAAAAAdvZAAAAAAGDj9kAAAAAAgLr1QAAAAAAAavhAAAAAAABM/UAAAAAAYDb+QAAAAAAAgvRAAAAAAADn+EAAAAAAQBjmQAAAAAAAEfJAAAAAAABq+EAAAAAAAEbeQAAAAACA0gFBAAAAAAAc4UAAAAAAAHz1QAAAAAAAZOlA/////x+aDUEAAAAAgKL5QAAAAACAPfVA\",\"dtype\":\"float64\",\"order\":\"little\",\"shape\":[21]},\"index\":[0,1,2,3,4,5,6,7,8,9,10,11,12,13,14,15,16,17,18,19,20],\"market\":[\"SET50\",\"SET100\",\"SET50\",\"SET\",\"SET\",\"SET\",\"SET50\",\"SET50\",\"SET100\",\"SET50\",\"SET100\",\"SET\",\"SET\",\"SET\",\"SET\",\"SET100\",\"SET\",\"SET50\",\"SET\",\"SET50\",\"SET\"],\"name\":[\"BH\",\"CKP\",\"CPF\",\"GFPT\",\"GVREIT\",\"III\",\"JMART\",\"PTTGC\",\"RCL\",\"SCB\",\"STA\",\"TFFIF\",\"TFG\",\"ASP\",\"DIF\",\"DOHOME\",\"JASIF\",\"KCE\",\"MCS\",\"SCC\",\"TMT\"],\"price\":{\"__ndarray__\":\"AAAAAAAAaUBmZmZmZmYSQAAAAAAAADdAAAAAAAAAKUDNzMzMzMwhQAAAAAAAAClAAAAAAAAAREAAAAAAAKBEQAAAAAAAADxAAAAAAACAWUCamZmZmRkyQJqZmZmZmR1AAAAAAAAAFEDNzMzMzMwIQDMzMzMzMy1AMzMzMzMzLUCamZmZmZkhQAAAAAAAAEpAZmZmZmZmI0AAAAAAAOB1QAAAAAAAAB1A\",\"dtype\":\"float64\",\"order\":\"little\",\"shape\":[21]},\"qty\":[500,20000,4000,7500,10000,8000,3000,3000,3000,1000,2500,10000,20000,10000,10000,2400,10000,1000,25000,300,12000],\"reason\":[\"5pct\",\"3L\",\"XXX\",\"XXX\",\"C8.90\",\"XXX\",\"1L\",\"5pct\",\"5pct\",\"XXX\",\"5pct\",\"DOS\",\"XXX\",\"5pct\",\"CUT\",\"5pct\",\"CP1S\",\"5pct\",\"5pct\",\"5pct\",\"C9.0\"],\"trade\":[\"B\",\"B\",\"B\",\"B\",\"B\",\"B\",\"B\",\"B\",\"B\",\"B\",\"B\",\"B\",\"B\",\"S\",\"S\",\"S\",\"S\",\"S\",\"S\",\"S\",\"S\"],\"xdate\":[\"2022-02-02\",\"2022-02-02\",\"2022-02-02\",\"2022-02-02\",\"2022-12-08\",\"2022-02-02\",\"2022-04-19\",\"2022-09-02\",\"2022-11-24\",\"2022-02-14\",\"2022-08-23\",\"2022-12-09\",\"2022-02-02\",\"2022-08-24\",\"2022-11-11\",\"2022-02-02\",\"2022-11-21\",\"2022-08-22\",\"2022-09-03\",\"2022-08-10\",\"2022-08-24\"]},\"selected\":{\"id\":\"1003\"},\"selection_policy\":{\"id\":\"1058\"}},\"id\":\"1002\",\"type\":\"ColumnDataSource\"},{\"attributes\":{},\"id\":\"1058\",\"type\":\"UnionRenderers\"},{\"attributes\":{},\"id\":\"1006\",\"type\":\"CellEditor\"},{\"attributes\":{},\"id\":\"1016\",\"type\":\"StringEditor\"},{\"attributes\":{\"editor\":{\"id\":\"1036\"},\"field\":\"reason\",\"formatter\":{\"id\":\"1035\"},\"title\":\"reason\",\"width\":0},\"id\":\"1037\",\"type\":\"TableColumn\"},{\"attributes\":{\"editor\":{\"id\":\"1016\"},\"field\":\"name\",\"formatter\":{\"id\":\"1015\"},\"title\":\"name\",\"width\":0},\"id\":\"1017\",\"type\":\"TableColumn\"},{\"attributes\":{},\"id\":\"1031\",\"type\":\"NumberEditor\"},{\"attributes\":{},\"id\":\"1020\",\"type\":\"NumberFormatter\"},{\"attributes\":{},\"id\":\"1015\",\"type\":\"StringFormatter\"},{\"attributes\":{},\"id\":\"1040\",\"type\":\"StringFormatter\"},{\"attributes\":{},\"id\":\"1045\",\"type\":\"NumberFormatter\"},{\"attributes\":{\"editor\":{\"id\":\"1006\"},\"field\":\"index\",\"formatter\":{\"id\":\"1004\"},\"title\":\"index\",\"width\":0},\"id\":\"1007\",\"type\":\"TableColumn\"},{\"attributes\":{},\"id\":\"1041\",\"type\":\"StringEditor\"},{\"attributes\":{\"format\":\"0,0.0[00000]\"},\"id\":\"1025\",\"type\":\"NumberFormatter\"},{\"attributes\":{},\"id\":\"1036\",\"type\":\"StringEditor\"},{\"attributes\":{},\"id\":\"1046\",\"type\":\"IntEditor\"},{\"attributes\":{\"client_comm_id\":\"846fe2b13e764598aded8bc2dfc96b72\",\"comm_id\":\"4b1f6d0bb1604e5b858253a7cc4a0f5f\",\"plot_id\":\"1055\"},\"id\":\"1063\",\"type\":\"panel.models.comm_manager.CommManager\"}],\"root_ids\":[\"1055\",\"1063\",\"1070\"]},\"title\":\"Bokeh Application\",\"version\":\"2.3.3\"}};\n",
       "    var render_items = [{\"docid\":\"af093921-a663-43af-a5d2-08d5529a7fba\",\"root_ids\":[\"1055\"],\"roots\":{\"1055\":\"2b82ba96-d65a-432f-8364-a1912ad89f98\"}}];\n",
       "    root.Bokeh.embed.embed_items_notebook(docs_json, render_items);\n",
       "  }\n",
       "  if (root.Bokeh !== undefined && root.Bokeh.Panel !== undefined && ( root['Tabulator'] !== undefined)) {\n",
       "    embed_document(root);\n",
       "  } else {\n",
       "    var attempts = 0;\n",
       "    var timer = setInterval(function(root) {\n",
       "      if (root.Bokeh !== undefined && root.Bokeh.Panel !== undefined && (root['Tabulator'] !== undefined)) {\n",
       "        clearInterval(timer);\n",
       "        embed_document(root);\n",
       "      } else if (document.readyState == \"complete\") {\n",
       "        attempts++;\n",
       "        if (attempts > 200) {\n",
       "          clearInterval(timer);\n",
       "          console.log(\"Bokeh: ERROR: Unable to run BokehJS code because BokehJS library is missing\");\n",
       "        }\n",
       "      }\n",
       "    }, 25, root)\n",
       "  }\n",
       "})(window);</script>"
      ],
      "text/plain": [
       "Tabulator(value=   trade    name  ...)"
      ]
     },
     "execution_count": 10,
     "metadata": {
      "application/vnd.holoviews_exec.v0+json": {
       "id": "1055"
      }
     },
     "output_type": "execute_result"
    }
   ],
   "source": [
    "sql = '''\n",
    "SELECT trade, name, qty, price, qty * price AS amount, reason, market, active, xdate\n",
    "FROM orders\n",
    "ORDER BY trade, name'''\n",
    "orders = pd.read_sql(sql, conlite)\n",
    "\n",
    "#df_tab = pn.widgets.Tabulator(orders, layout='fit_data', width=800)\n",
    "df_tab = pn.widgets.Tabulator(orders)\n",
    "df_tab"
   ]
  },
  {
   "cell_type": "code",
   "execution_count": 11,
   "metadata": {
    "scrolled": true
   },
   "outputs": [],
   "source": [
    "file_name = 'orders.csv'\n",
    "data_file = data_path + file_name\n",
    "output_file = csv_path + file_name\n",
    "box_file = box_path + file_name\n",
    "one_file = one_path + file_name\n",
    "\n",
    "orders[cols].to_csv(output_file, header=True, index=False)\n",
    "orders[cols].to_csv(data_file, header=True, index=False)\n",
    "orders[cols].to_csv(box_file, header=True, index=False)\n",
    "orders[cols].to_csv(one_file, header=True, index=False)"
   ]
  },
  {
   "cell_type": "code",
   "execution_count": 12,
   "metadata": {},
   "outputs": [
    {
     "data": {
      "text/html": [
       "<style type=\"text/css\">\n",
       "</style>\n",
       "<table id=\"T_8e476_\">\n",
       "  <thead>\n",
       "    <tr>\n",
       "      <th class=\"blank level0\" >&nbsp;</th>\n",
       "      <th class=\"col_heading level0 col0\" >trade</th>\n",
       "      <th class=\"col_heading level0 col1\" >name</th>\n",
       "      <th class=\"col_heading level0 col2\" >qty</th>\n",
       "      <th class=\"col_heading level0 col3\" >price</th>\n",
       "      <th class=\"col_heading level0 col4\" >amount</th>\n",
       "      <th class=\"col_heading level0 col5\" >reason</th>\n",
       "      <th class=\"col_heading level0 col6\" >market</th>\n",
       "      <th class=\"col_heading level0 col7\" >xdate</th>\n",
       "    </tr>\n",
       "  </thead>\n",
       "  <tbody>\n",
       "    <tr>\n",
       "      <th id=\"T_8e476_level0_row0\" class=\"row_heading level0 row0\" >0</th>\n",
       "      <td id=\"T_8e476_row0_col0\" class=\"data row0 col0\" >B</td>\n",
       "      <td id=\"T_8e476_row0_col1\" class=\"data row0 col1\" >GVREIT</td>\n",
       "      <td id=\"T_8e476_row0_col2\" class=\"data row0 col2\" >10,000</td>\n",
       "      <td id=\"T_8e476_row0_col3\" class=\"data row0 col3\" >8.90</td>\n",
       "      <td id=\"T_8e476_row0_col4\" class=\"data row0 col4\" >89,000.00</td>\n",
       "      <td id=\"T_8e476_row0_col5\" class=\"data row0 col5\" >C8.90</td>\n",
       "      <td id=\"T_8e476_row0_col6\" class=\"data row0 col6\" >SET</td>\n",
       "      <td id=\"T_8e476_row0_col7\" class=\"data row0 col7\" >2022-12-08</td>\n",
       "    </tr>\n",
       "  </tbody>\n",
       "</table>\n"
      ],
      "text/plain": [
       "<pandas.io.formats.style.Styler at 0x26041849a00>"
      ]
     },
     "execution_count": 12,
     "metadata": {},
     "output_type": "execute_result"
    }
   ],
   "source": [
    "sql = '''\n",
    "SELECT trade, name, qty, price, qty * price AS amount, reason, market, xdate\n",
    "FROM orders\n",
    "WHERE active = 2\n",
    "ORDER BY trade, name'''\n",
    "df_orders = pd.read_sql(sql, conlite)\n",
    "\n",
    "df_orders.style.format(format_dict)"
   ]
  },
  {
   "cell_type": "code",
   "execution_count": 13,
   "metadata": {},
   "outputs": [],
   "source": [
    "file_name = 'df_orders.csv'\n",
    "data_file = data_path + file_name\n",
    "output_file = csv_path + file_name\n",
    "box_file = box_path + file_name\n",
    "one_file = one_path + file_name\n",
    "\n",
    "df_orders.to_csv(output_file, header=True, index=False)\n",
    "df_orders.to_csv(data_file, header=True, index=False)\n",
    "df_orders.to_csv(box_file, header=True, index=False)\n",
    "df_orders.to_csv(one_file, header=True, index=False)"
   ]
  },
  {
   "cell_type": "markdown",
   "metadata": {},
   "source": [
    "### End of transactional process"
   ]
  },
  {
   "cell_type": "code",
   "execution_count": 14,
   "metadata": {
    "scrolled": false
   },
   "outputs": [
    {
     "data": {
      "text/html": [
       "<style type=\"text/css\">\n",
       "</style>\n",
       "<table id=\"T_d1625_\">\n",
       "  <thead>\n",
       "    <tr>\n",
       "      <th class=\"blank level0\" >&nbsp;</th>\n",
       "      <th class=\"col_heading level0 col0\" >trade</th>\n",
       "      <th class=\"col_heading level0 col1\" >name</th>\n",
       "      <th class=\"col_heading level0 col2\" >qty</th>\n",
       "      <th class=\"col_heading level0 col3\" >price</th>\n",
       "      <th class=\"col_heading level0 col4\" >amount</th>\n",
       "      <th class=\"col_heading level0 col5\" >reason</th>\n",
       "      <th class=\"col_heading level0 col6\" >market</th>\n",
       "      <th class=\"col_heading level0 col7\" >active</th>\n",
       "      <th class=\"col_heading level0 col8\" >xdate</th>\n",
       "    </tr>\n",
       "  </thead>\n",
       "  <tbody>\n",
       "    <tr>\n",
       "      <th id=\"T_d1625_level0_row0\" class=\"row_heading level0 row0\" >0</th>\n",
       "      <td id=\"T_d1625_row0_col0\" class=\"data row0 col0\" >B</td>\n",
       "      <td id=\"T_d1625_row0_col1\" class=\"data row0 col1\" >GVREIT</td>\n",
       "      <td id=\"T_d1625_row0_col2\" class=\"data row0 col2\" >10,000</td>\n",
       "      <td id=\"T_d1625_row0_col3\" class=\"data row0 col3\" >8.90</td>\n",
       "      <td id=\"T_d1625_row0_col4\" class=\"data row0 col4\" >89,000.00</td>\n",
       "      <td id=\"T_d1625_row0_col5\" class=\"data row0 col5\" >C8.90</td>\n",
       "      <td id=\"T_d1625_row0_col6\" class=\"data row0 col6\" >SET</td>\n",
       "      <td id=\"T_d1625_row0_col7\" class=\"data row0 col7\" >2</td>\n",
       "      <td id=\"T_d1625_row0_col8\" class=\"data row0 col8\" >2022-12-08</td>\n",
       "    </tr>\n",
       "  </tbody>\n",
       "</table>\n"
      ],
      "text/plain": [
       "<pandas.io.formats.style.Styler at 0x260418367f0>"
      ]
     },
     "execution_count": 14,
     "metadata": {},
     "output_type": "execute_result"
    }
   ],
   "source": [
    "sql = '''\n",
    "SELECT trade, name, qty, price, qty * price AS amount, reason, market, active, xdate\n",
    "FROM orders\n",
    "WHERE active = 2\n",
    "ORDER BY trade, name'''\n",
    "df_act_2 = pd.read_sql(sql, conlite)\n",
    "df_act_2.style.format(format_dict)"
   ]
  },
  {
   "cell_type": "code",
   "execution_count": 15,
   "metadata": {
    "scrolled": true
   },
   "outputs": [
    {
     "data": {
      "text/plain": [
       "trade\n",
       "B    89000.0\n",
       "Name: amount, dtype: float64"
      ]
     },
     "execution_count": 15,
     "metadata": {},
     "output_type": "execute_result"
    }
   ],
   "source": [
    "orders_grp = df_act_2.groupby(['trade'])\n",
    "orders_grp['amount'].sum()"
   ]
  },
  {
   "cell_type": "code",
   "execution_count": 16,
   "metadata": {
    "scrolled": true
   },
   "outputs": [
    {
     "data": {
      "text/html": [
       "<style type=\"text/css\">\n",
       "#T_dc01e_row0_col2, #T_dc01e_row0_col3, #T_dc01e_row0_col4, #T_dc01e_row0_col7 {\n",
       "  background-color: #f7fbff;\n",
       "  color: #000000;\n",
       "}\n",
       "</style>\n",
       "<table id=\"T_dc01e_\">\n",
       "  <thead>\n",
       "    <tr>\n",
       "      <th class=\"blank level0\" >&nbsp;</th>\n",
       "      <th class=\"col_heading level0 col0\" >trade</th>\n",
       "      <th class=\"col_heading level0 col1\" >name</th>\n",
       "      <th class=\"col_heading level0 col2\" >qty</th>\n",
       "      <th class=\"col_heading level0 col3\" >price</th>\n",
       "      <th class=\"col_heading level0 col4\" >amount</th>\n",
       "      <th class=\"col_heading level0 col5\" >reason</th>\n",
       "      <th class=\"col_heading level0 col6\" >market</th>\n",
       "      <th class=\"col_heading level0 col7\" >active</th>\n",
       "      <th class=\"col_heading level0 col8\" >xdate</th>\n",
       "    </tr>\n",
       "  </thead>\n",
       "  <tbody>\n",
       "    <tr>\n",
       "      <th id=\"T_dc01e_level0_row0\" class=\"row_heading level0 row0\" >0</th>\n",
       "      <td id=\"T_dc01e_row0_col0\" class=\"data row0 col0\" >B</td>\n",
       "      <td id=\"T_dc01e_row0_col1\" class=\"data row0 col1\" >GVREIT</td>\n",
       "      <td id=\"T_dc01e_row0_col2\" class=\"data row0 col2\" >10,000</td>\n",
       "      <td id=\"T_dc01e_row0_col3\" class=\"data row0 col3\" >8.90</td>\n",
       "      <td id=\"T_dc01e_row0_col4\" class=\"data row0 col4\" >89,000.00</td>\n",
       "      <td id=\"T_dc01e_row0_col5\" class=\"data row0 col5\" >C8.90</td>\n",
       "      <td id=\"T_dc01e_row0_col6\" class=\"data row0 col6\" >SET</td>\n",
       "      <td id=\"T_dc01e_row0_col7\" class=\"data row0 col7\" >2</td>\n",
       "      <td id=\"T_dc01e_row0_col8\" class=\"data row0 col8\" >2022-12-08</td>\n",
       "    </tr>\n",
       "  </tbody>\n",
       "</table>\n"
      ],
      "text/plain": [
       "<pandas.io.formats.style.Styler at 0x2604190c0d0>"
      ]
     },
     "execution_count": 16,
     "metadata": {},
     "output_type": "execute_result"
    }
   ],
   "source": [
    "mask = df_act_2.trade == 'B'\n",
    "buy_stocks = df_act_2[mask]\n",
    "buy_stocks.style.background_gradient(cmap = 'Blues').format(format_dict)"
   ]
  },
  {
   "cell_type": "code",
   "execution_count": 17,
   "metadata": {},
   "outputs": [
    {
     "data": {
      "text/plain": [
       "(240000, 89000.0, 151000.0)"
      ]
     },
     "execution_count": 17,
     "metadata": {},
     "output_type": "execute_result"
    }
   ],
   "source": [
    "cash = 240_000\n",
    "buy_amt = buy_stocks.amount.sum()\n",
    "balance = cash - buy_amt \n",
    "cash, buy_amt, balance"
   ]
  },
  {
   "cell_type": "code",
   "execution_count": 18,
   "metadata": {
    "scrolled": false
   },
   "outputs": [
    {
     "data": {
      "text/html": [
       "<style type=\"text/css\">\n",
       "</style>\n",
       "<table id=\"T_d59f4_\">\n",
       "  <thead>\n",
       "    <tr>\n",
       "      <th class=\"blank level0\" >&nbsp;</th>\n",
       "      <th class=\"col_heading level0 col0\" >trade</th>\n",
       "      <th class=\"col_heading level0 col1\" >name</th>\n",
       "      <th class=\"col_heading level0 col2\" >qty</th>\n",
       "      <th class=\"col_heading level0 col3\" >price</th>\n",
       "      <th class=\"col_heading level0 col4\" >amount</th>\n",
       "      <th class=\"col_heading level0 col5\" >reason</th>\n",
       "      <th class=\"col_heading level0 col6\" >market</th>\n",
       "      <th class=\"col_heading level0 col7\" >active</th>\n",
       "      <th class=\"col_heading level0 col8\" >xdate</th>\n",
       "    </tr>\n",
       "  </thead>\n",
       "  <tbody>\n",
       "  </tbody>\n",
       "</table>\n"
      ],
      "text/plain": [
       "<pandas.io.formats.style.Styler at 0x2604190c130>"
      ]
     },
     "execution_count": 18,
     "metadata": {},
     "output_type": "execute_result"
    }
   ],
   "source": [
    "mask = df_act_2.trade == 'S'\n",
    "sell_stocks = df_act_2[mask]\n",
    "sell_stocks.style.format(format_dict)"
   ]
  },
  {
   "cell_type": "code",
   "execution_count": 19,
   "metadata": {},
   "outputs": [
    {
     "data": {
      "text/plain": [
       "(240000, 0.0, 240000.0)"
      ]
     },
     "execution_count": 19,
     "metadata": {},
     "output_type": "execute_result"
    }
   ],
   "source": [
    "sell_amt = round(sell_stocks.amount.sum(),2)\n",
    "balance = cash + sell_amt \n",
    "(cash, sell_amt, balance)"
   ]
  },
  {
   "cell_type": "markdown",
   "metadata": {},
   "source": [
    "### After call ord-log (must call everytime that orders change)"
   ]
  },
  {
   "cell_type": "code",
   "execution_count": 20,
   "metadata": {},
   "outputs": [],
   "source": [
    "df = pd.read_csv('../data/orders-log.csv')\n",
    "df['trans'] = df.apply(lambda row: categories(row), axis=1)\n",
    "df['amount'] = df.qty * df.target"
   ]
  },
  {
   "cell_type": "code",
   "execution_count": 21,
   "metadata": {
    "scrolled": true
   },
   "outputs": [
    {
     "data": {
      "text/html": [
       "<div><table id=\"37fd6f65-daeb-4f27-bcc4-0da6aeac2041\" class=\"display\"><thead>\n",
       "    <tr style=\"text-align: right;\">\n",
       "      \n",
       "      <th>trans</th>\n",
       "      <th>name</th>\n",
       "      <th>spd</th>\n",
       "      <th>reason</th>\n",
       "      <th>qty</th>\n",
       "      <th>target</th>\n",
       "      <th>current</th>\n",
       "      <th>active</th>\n",
       "    </tr>\n",
       "  </thead></table>\n",
       "<script type=\"text/javascript\">\n",
       "require([\"datatables\"], function (datatables) {\n",
       "    $(document).ready(function () {\n",
       "        var dt_args = {\"columnDefs\": [{\"width\": \"70px\", \"targets\": \"_all\"}], \"data\": [[\"Buy\", \"BH\", -10, \"5pct\", 500, 200.0, 210.0, 0], [\"Buy\", \"CKP\", -3, \"3L\", 20000, 4.6, 4.66, 1], [\"Buy\", \"CPF\", -10, \"XXX\", 4000, 23.0, 24.0, 0], [\"Buy\", \"GFPT\", -3, \"XXX\", 7500, 12.5, 12.8, 1], [\"Buy\", \"GVREIT\", -2, \"C8.90\", 10000, 8.9, 9.0, 2], [\"Buy\", \"III\", -11, \"XXX\", 8000, 12.5, 13.6, 0], [\"Buy\", \"JMART\", -4, \"1L\", 3000, 40.0, 41.0, 1], [\"Buy\", \"PTTGC\", -24, \"5pct\", 3000, 41.25, 47.25, 0], [\"Buy\", \"RCL\", -4, \"5pct\", 3000, 28.0, 29.0, 1], [\"Buy\", \"SCB\", -3, \"XXX\", 1000, 102.0, 103.5, 1], [\"Buy\", \"STA\", -8, \"5pct\", 2500, 18.1, 18.9, 1], [\"Buy\", \"TFFIF\", -5, \"DOS\", 10000, 7.4, 7.65, 1], [\"Buy\", \"TFG\", -5, \"XXX\", 20000, 5.0, 5.25, 1], [\"Sell\", \"ASP\", 6, \"5pct\", 10000, 3.1, 2.98, 1], [\"Sell\", \"DIF\", 14, \"CUT\", 10000, 14.6, 13.2, 0], [\"Sell\", \"DOHOME\", 5, \"5pct\", 2400, 14.6, 14.1, 1], [\"Sell\", \"JASIF\", 14, \"CP1S\", 10000, 8.8, 8.1, 0], [\"Sell\", \"KCE\", 14, \"5pct\", 1000, 52.0, 48.5, 0], [\"Sell\", \"MCS\", 16, \"5pct\", 25000, 9.7, 8.9, 0], [\"Sell\", \"SCC\", 18, \"5pct\", 300, 350.0, 332.0, 0], [\"Sell\", \"TMT\", 5, \"C9.0\", 12000, 7.25, 7.0, 1]]};\n",
       "        dt_args = eval_functions(dt_args);\n",
       "        table = $('#37fd6f65-daeb-4f27-bcc4-0da6aeac2041').DataTable(dt_args);\n",
       "    });\n",
       "})\n",
       "</script>\n",
       "</div>\n"
      ],
      "text/plain": [
       "<IPython.core.display.HTML object>"
      ]
     },
     "metadata": {},
     "output_type": "display_data"
    }
   ],
   "source": [
    "show(df[['trans','name','spd','reason','qty','target','current','active']])"
   ]
  },
  {
   "cell_type": "code",
   "execution_count": 22,
   "metadata": {
    "scrolled": true
   },
   "outputs": [
    {
     "data": {
      "text/html": [
       "<div>\n",
       "<style scoped>\n",
       "    .dataframe tbody tr th:only-of-type {\n",
       "        vertical-align: middle;\n",
       "    }\n",
       "\n",
       "    .dataframe tbody tr th {\n",
       "        vertical-align: top;\n",
       "    }\n",
       "\n",
       "    .dataframe thead th {\n",
       "        text-align: right;\n",
       "    }\n",
       "</style>\n",
       "<table border=\"1\" class=\"dataframe\">\n",
       "  <thead>\n",
       "    <tr style=\"text-align: right;\">\n",
       "      <th></th>\n",
       "      <th>trade</th>\n",
       "      <th>name</th>\n",
       "      <th>spd</th>\n",
       "      <th>reason</th>\n",
       "      <th>market</th>\n",
       "      <th>qty</th>\n",
       "      <th>target</th>\n",
       "      <th>current</th>\n",
       "      <th>change</th>\n",
       "      <th>percent</th>\n",
       "      <th>active</th>\n",
       "      <th>xdate</th>\n",
       "      <th>trans</th>\n",
       "      <th>amount</th>\n",
       "    </tr>\n",
       "  </thead>\n",
       "  <tbody>\n",
       "    <tr>\n",
       "      <th>1</th>\n",
       "      <td>B</td>\n",
       "      <td>CKP</td>\n",
       "      <td>-3</td>\n",
       "      <td>3L</td>\n",
       "      <td>SET100</td>\n",
       "      <td>20000</td>\n",
       "      <td>4.6</td>\n",
       "      <td>4.66</td>\n",
       "      <td>-0.06</td>\n",
       "      <td>-1.27%</td>\n",
       "      <td>1</td>\n",
       "      <td>2022-02-02</td>\n",
       "      <td>Buy</td>\n",
       "      <td>92000.0</td>\n",
       "    </tr>\n",
       "    <tr>\n",
       "      <th>3</th>\n",
       "      <td>B</td>\n",
       "      <td>GFPT</td>\n",
       "      <td>-3</td>\n",
       "      <td>XXX</td>\n",
       "      <td>SET</td>\n",
       "      <td>7500</td>\n",
       "      <td>12.5</td>\n",
       "      <td>12.80</td>\n",
       "      <td>-0.20</td>\n",
       "      <td>-1.54%</td>\n",
       "      <td>1</td>\n",
       "      <td>2022-02-02</td>\n",
       "      <td>Buy</td>\n",
       "      <td>93750.0</td>\n",
       "    </tr>\n",
       "    <tr>\n",
       "      <th>4</th>\n",
       "      <td>B</td>\n",
       "      <td>GVREIT</td>\n",
       "      <td>-2</td>\n",
       "      <td>C8.90</td>\n",
       "      <td>SET</td>\n",
       "      <td>10000</td>\n",
       "      <td>8.9</td>\n",
       "      <td>9.00</td>\n",
       "      <td>0.00</td>\n",
       "      <td>0.00%</td>\n",
       "      <td>2</td>\n",
       "      <td>2022-12-08</td>\n",
       "      <td>Buy</td>\n",
       "      <td>89000.0</td>\n",
       "    </tr>\n",
       "    <tr>\n",
       "      <th>9</th>\n",
       "      <td>B</td>\n",
       "      <td>SCB</td>\n",
       "      <td>-3</td>\n",
       "      <td>XXX</td>\n",
       "      <td>SET50</td>\n",
       "      <td>1000</td>\n",
       "      <td>102.0</td>\n",
       "      <td>103.50</td>\n",
       "      <td>0.00</td>\n",
       "      <td>0.00%</td>\n",
       "      <td>1</td>\n",
       "      <td>2022-02-14</td>\n",
       "      <td>Buy</td>\n",
       "      <td>102000.0</td>\n",
       "    </tr>\n",
       "  </tbody>\n",
       "</table>\n",
       "</div>"
      ],
      "text/plain": [
       "  trade    name  spd reason  market    qty  target  current  change percent  \\\n",
       "1     B     CKP   -3     3L  SET100  20000     4.6     4.66   -0.06  -1.27%   \n",
       "3     B    GFPT   -3    XXX     SET   7500    12.5    12.80   -0.20  -1.54%   \n",
       "4     B  GVREIT   -2  C8.90     SET  10000     8.9     9.00    0.00   0.00%   \n",
       "9     B     SCB   -3    XXX   SET50   1000   102.0   103.50    0.00   0.00%   \n",
       "\n",
       "   active       xdate trans    amount  \n",
       "1       1  2022-02-02   Buy   92000.0  \n",
       "3       1  2022-02-02   Buy   93750.0  \n",
       "4       2  2022-12-08   Buy   89000.0  \n",
       "9       1  2022-02-14   Buy  102000.0  "
      ]
     },
     "execution_count": 22,
     "metadata": {},
     "output_type": "execute_result"
    }
   ],
   "source": [
    "mb = (df.trans == 'Buy') & (df.spd >= -3)\n",
    "df[mb].sort_values(['name'],ascending=[True])"
   ]
  },
  {
   "cell_type": "code",
   "execution_count": 23,
   "metadata": {
    "scrolled": false
   },
   "outputs": [
    {
     "data": {
      "text/html": [
       "<div><table id=\"182aa24d-06c3-440a-ab64-25edf823895a\" class=\"display\"><thead>\n",
       "    <tr style=\"text-align: right;\">\n",
       "      \n",
       "      <th>trans</th>\n",
       "      <th>name</th>\n",
       "      <th>spd</th>\n",
       "      <th>reason</th>\n",
       "      <th>qty</th>\n",
       "      <th>target</th>\n",
       "      <th>current</th>\n",
       "      <th>percent</th>\n",
       "      <th>active</th>\n",
       "    </tr>\n",
       "  </thead></table>\n",
       "<script type=\"text/javascript\">\n",
       "require([\"datatables\"], function (datatables) {\n",
       "    $(document).ready(function () {\n",
       "        var dt_args = {\"columnDefs\": [{\"width\": \"70px\", \"targets\": \"_all\"}], \"data\": [[\"Buy\", \"BH\", -10, \"5pct\", 500, 200.0, 210.0, \"-0.47%\", 0], [\"Buy\", \"CKP\", -3, \"3L\", 20000, 4.6, 4.66, \"-1.27%\", 1], [\"Buy\", \"CPF\", -10, \"XXX\", 4000, 23.0, 24.0, \"+0.84%\", 0], [\"Buy\", \"GFPT\", -3, \"XXX\", 7500, 12.5, 12.8, \"-1.54%\", 1], [\"Buy\", \"GVREIT\", -2, \"C8.90\", 10000, 8.9, 9.0, \"0.00%\", 2], [\"Buy\", \"III\", -11, \"XXX\", 8000, 12.5, 13.6, \"+2.26%\", 0], [\"Buy\", \"JMART\", -4, \"1L\", 3000, 40.0, 41.0, \"-2.96%\", 1], [\"Buy\", \"PTTGC\", -24, \"5pct\", 3000, 41.25, 47.25, \"+1.61%\", 0], [\"Buy\", \"RCL\", -4, \"5pct\", 3000, 28.0, 29.0, \"-1.69%\", 1], [\"Buy\", \"SCB\", -3, \"XXX\", 1000, 102.0, 103.5, \"0.00%\", 1], [\"Buy\", \"STA\", -8, \"5pct\", 2500, 18.1, 18.9, \"0.00%\", 1], [\"Buy\", \"TFFIF\", -5, \"DOS\", 10000, 7.4, 7.65, \"0.00%\", 1], [\"Buy\", \"TFG\", -5, \"XXX\", 20000, 5.0, 5.25, \"+0.96%\", 1], [\"Sell\", \"ASP\", 6, \"5pct\", 10000, 3.1, 2.98, \"0.00%\", 1], [\"Sell\", \"DIF\", 14, \"CUT\", 10000, 14.6, 13.2, \"0.00%\", 0], [\"Sell\", \"DOHOME\", 5, \"5pct\", 2400, 14.6, 14.1, \"-1.40%\", 1], [\"Sell\", \"JASIF\", 14, \"CP1S\", 10000, 8.8, 8.1, \"+0.62%\", 0], [\"Sell\", \"KCE\", 14, \"5pct\", 1000, 52.0, 48.5, \"-2.51%\", 0], [\"Sell\", \"MCS\", 16, \"5pct\", 25000, 9.7, 8.9, \"0.00%\", 0], [\"Sell\", \"SCC\", 18, \"5pct\", 300, 350.0, 332.0, \"-1.19%\", 0], [\"Sell\", \"TMT\", 5, \"C9.0\", 12000, 7.25, 7.0, \"0.00%\", 1]]};\n",
       "        dt_args = eval_functions(dt_args);\n",
       "        table = $('#182aa24d-06c3-440a-ab64-25edf823895a').DataTable(dt_args);\n",
       "    });\n",
       "})\n",
       "</script>\n",
       "</div>\n"
      ],
      "text/plain": [
       "<IPython.core.display.HTML object>"
      ]
     },
     "metadata": {},
     "output_type": "display_data"
    }
   ],
   "source": [
    "show(df[['trans','name','spd','reason','qty','target','current','percent','active']])"
   ]
  },
  {
   "cell_type": "code",
   "execution_count": 24,
   "metadata": {},
   "outputs": [
    {
     "data": {
      "text/html": [
       "<div>\n",
       "<style scoped>\n",
       "    .dataframe tbody tr th:only-of-type {\n",
       "        vertical-align: middle;\n",
       "    }\n",
       "\n",
       "    .dataframe tbody tr th {\n",
       "        vertical-align: top;\n",
       "    }\n",
       "\n",
       "    .dataframe thead th {\n",
       "        text-align: right;\n",
       "    }\n",
       "</style>\n",
       "<table border=\"1\" class=\"dataframe\">\n",
       "  <thead>\n",
       "    <tr style=\"text-align: right;\">\n",
       "      <th></th>\n",
       "      <th>trade</th>\n",
       "      <th>name</th>\n",
       "      <th>spd</th>\n",
       "      <th>reason</th>\n",
       "      <th>market</th>\n",
       "      <th>qty</th>\n",
       "      <th>target</th>\n",
       "      <th>current</th>\n",
       "      <th>change</th>\n",
       "      <th>percent</th>\n",
       "      <th>active</th>\n",
       "      <th>xdate</th>\n",
       "      <th>trans</th>\n",
       "      <th>amount</th>\n",
       "    </tr>\n",
       "  </thead>\n",
       "  <tbody>\n",
       "  </tbody>\n",
       "</table>\n",
       "</div>"
      ],
      "text/plain": [
       "Empty DataFrame\n",
       "Columns: [trade, name, spd, reason, market, qty, target, current, change, percent, active, xdate, trans, amount]\n",
       "Index: []"
      ]
     },
     "execution_count": 24,
     "metadata": {},
     "output_type": "execute_result"
    }
   ],
   "source": [
    "ms = (df.trans == 'Sell') & (df.spd <= 3)\n",
    "df[ms].sort_values(['name'],ascending=[True])"
   ]
  },
  {
   "cell_type": "code",
   "execution_count": 25,
   "metadata": {},
   "outputs": [
    {
     "data": {
      "text/html": [
       "<div>\n",
       "<style scoped>\n",
       "    .dataframe tbody tr th:only-of-type {\n",
       "        vertical-align: middle;\n",
       "    }\n",
       "\n",
       "    .dataframe tbody tr th {\n",
       "        vertical-align: top;\n",
       "    }\n",
       "\n",
       "    .dataframe thead th {\n",
       "        text-align: right;\n",
       "    }\n",
       "</style>\n",
       "<table border=\"1\" class=\"dataframe\">\n",
       "  <thead>\n",
       "    <tr style=\"text-align: right;\">\n",
       "      <th></th>\n",
       "      <th>trade</th>\n",
       "      <th>name</th>\n",
       "      <th>spd</th>\n",
       "      <th>reason</th>\n",
       "      <th>market</th>\n",
       "      <th>qty</th>\n",
       "      <th>target</th>\n",
       "      <th>current</th>\n",
       "      <th>change</th>\n",
       "      <th>percent</th>\n",
       "      <th>active</th>\n",
       "      <th>xdate</th>\n",
       "      <th>trans</th>\n",
       "      <th>amount</th>\n",
       "    </tr>\n",
       "  </thead>\n",
       "  <tbody>\n",
       "    <tr>\n",
       "      <th>1</th>\n",
       "      <td>B</td>\n",
       "      <td>CKP</td>\n",
       "      <td>-3</td>\n",
       "      <td>3L</td>\n",
       "      <td>SET100</td>\n",
       "      <td>20000</td>\n",
       "      <td>4.6</td>\n",
       "      <td>4.66</td>\n",
       "      <td>-0.06</td>\n",
       "      <td>-1.27%</td>\n",
       "      <td>1</td>\n",
       "      <td>2022-02-02</td>\n",
       "      <td>Buy</td>\n",
       "      <td>92000.0</td>\n",
       "    </tr>\n",
       "    <tr>\n",
       "      <th>3</th>\n",
       "      <td>B</td>\n",
       "      <td>GFPT</td>\n",
       "      <td>-3</td>\n",
       "      <td>XXX</td>\n",
       "      <td>SET</td>\n",
       "      <td>7500</td>\n",
       "      <td>12.5</td>\n",
       "      <td>12.80</td>\n",
       "      <td>-0.20</td>\n",
       "      <td>-1.54%</td>\n",
       "      <td>1</td>\n",
       "      <td>2022-02-02</td>\n",
       "      <td>Buy</td>\n",
       "      <td>93750.0</td>\n",
       "    </tr>\n",
       "    <tr>\n",
       "      <th>4</th>\n",
       "      <td>B</td>\n",
       "      <td>GVREIT</td>\n",
       "      <td>-2</td>\n",
       "      <td>C8.90</td>\n",
       "      <td>SET</td>\n",
       "      <td>10000</td>\n",
       "      <td>8.9</td>\n",
       "      <td>9.00</td>\n",
       "      <td>0.00</td>\n",
       "      <td>0.00%</td>\n",
       "      <td>2</td>\n",
       "      <td>2022-12-08</td>\n",
       "      <td>Buy</td>\n",
       "      <td>89000.0</td>\n",
       "    </tr>\n",
       "    <tr>\n",
       "      <th>9</th>\n",
       "      <td>B</td>\n",
       "      <td>SCB</td>\n",
       "      <td>-3</td>\n",
       "      <td>XXX</td>\n",
       "      <td>SET50</td>\n",
       "      <td>1000</td>\n",
       "      <td>102.0</td>\n",
       "      <td>103.50</td>\n",
       "      <td>0.00</td>\n",
       "      <td>0.00%</td>\n",
       "      <td>1</td>\n",
       "      <td>2022-02-14</td>\n",
       "      <td>Buy</td>\n",
       "      <td>102000.0</td>\n",
       "    </tr>\n",
       "  </tbody>\n",
       "</table>\n",
       "</div>"
      ],
      "text/plain": [
       "  trade    name  spd reason  market    qty  target  current  change percent  \\\n",
       "1     B     CKP   -3     3L  SET100  20000     4.6     4.66   -0.06  -1.27%   \n",
       "3     B    GFPT   -3    XXX     SET   7500    12.5    12.80   -0.20  -1.54%   \n",
       "4     B  GVREIT   -2  C8.90     SET  10000     8.9     9.00    0.00   0.00%   \n",
       "9     B     SCB   -3    XXX   SET50   1000   102.0   103.50    0.00   0.00%   \n",
       "\n",
       "   active       xdate trans    amount  \n",
       "1       1  2022-02-02   Buy   92000.0  \n",
       "3       1  2022-02-02   Buy   93750.0  \n",
       "4       2  2022-12-08   Buy   89000.0  \n",
       "9       1  2022-02-14   Buy  102000.0  "
      ]
     },
     "execution_count": 25,
     "metadata": {},
     "output_type": "execute_result"
    }
   ],
   "source": [
    "df[mb | ms].sort_values(['trade','name'],ascending=[True,True])"
   ]
  },
  {
   "cell_type": "code",
   "execution_count": 26,
   "metadata": {},
   "outputs": [
    {
     "data": {
      "text/plain": [
       "4"
      ]
     },
     "execution_count": 26,
     "metadata": {},
     "output_type": "execute_result"
    }
   ],
   "source": [
    "df[mb | ms].shape[0]"
   ]
  },
  {
   "cell_type": "code",
   "execution_count": 27,
   "metadata": {},
   "outputs": [
    {
     "data": {
      "text/html": [
       "<style type=\"text/css\">\n",
       "</style>\n",
       "<table id=\"T_da0ad_\">\n",
       "  <thead>\n",
       "    <tr>\n",
       "      <th class=\"blank level0\" >&nbsp;</th>\n",
       "      <th class=\"col_heading level0 col0\" >name</th>\n",
       "      <th class=\"col_heading level0 col1\" >trans</th>\n",
       "      <th class=\"col_heading level0 col2\" >amount</th>\n",
       "      <th class=\"col_heading level0 col3\" >spd</th>\n",
       "    </tr>\n",
       "  </thead>\n",
       "  <tbody>\n",
       "    <tr>\n",
       "      <th id=\"T_da0ad_level0_row0\" class=\"row_heading level0 row0\" >7</th>\n",
       "      <td id=\"T_da0ad_row0_col0\" class=\"data row0 col0\" >PTTGC</td>\n",
       "      <td id=\"T_da0ad_row0_col1\" class=\"data row0 col1\" >Buy</td>\n",
       "      <td id=\"T_da0ad_row0_col2\" class=\"data row0 col2\" >123,750.00</td>\n",
       "      <td id=\"T_da0ad_row0_col3\" class=\"data row0 col3\" >-24</td>\n",
       "    </tr>\n",
       "    <tr>\n",
       "      <th id=\"T_da0ad_level0_row1\" class=\"row_heading level0 row1\" >6</th>\n",
       "      <td id=\"T_da0ad_row1_col0\" class=\"data row1 col0\" >JMART</td>\n",
       "      <td id=\"T_da0ad_row1_col1\" class=\"data row1 col1\" >Buy</td>\n",
       "      <td id=\"T_da0ad_row1_col2\" class=\"data row1 col2\" >120,000.00</td>\n",
       "      <td id=\"T_da0ad_row1_col3\" class=\"data row1 col3\" >-4</td>\n",
       "    </tr>\n",
       "    <tr>\n",
       "      <th id=\"T_da0ad_level0_row2\" class=\"row_heading level0 row2\" >9</th>\n",
       "      <td id=\"T_da0ad_row2_col0\" class=\"data row2 col0\" >SCB</td>\n",
       "      <td id=\"T_da0ad_row2_col1\" class=\"data row2 col1\" >Buy</td>\n",
       "      <td id=\"T_da0ad_row2_col2\" class=\"data row2 col2\" >102,000.00</td>\n",
       "      <td id=\"T_da0ad_row2_col3\" class=\"data row2 col3\" >-3</td>\n",
       "    </tr>\n",
       "    <tr>\n",
       "      <th id=\"T_da0ad_level0_row3\" class=\"row_heading level0 row3\" >0</th>\n",
       "      <td id=\"T_da0ad_row3_col0\" class=\"data row3 col0\" >BH</td>\n",
       "      <td id=\"T_da0ad_row3_col1\" class=\"data row3 col1\" >Buy</td>\n",
       "      <td id=\"T_da0ad_row3_col2\" class=\"data row3 col2\" >100,000.00</td>\n",
       "      <td id=\"T_da0ad_row3_col3\" class=\"data row3 col3\" >-10</td>\n",
       "    </tr>\n",
       "    <tr>\n",
       "      <th id=\"T_da0ad_level0_row4\" class=\"row_heading level0 row4\" >5</th>\n",
       "      <td id=\"T_da0ad_row4_col0\" class=\"data row4 col0\" >III</td>\n",
       "      <td id=\"T_da0ad_row4_col1\" class=\"data row4 col1\" >Buy</td>\n",
       "      <td id=\"T_da0ad_row4_col2\" class=\"data row4 col2\" >100,000.00</td>\n",
       "      <td id=\"T_da0ad_row4_col3\" class=\"data row4 col3\" >-11</td>\n",
       "    </tr>\n",
       "  </tbody>\n",
       "</table>\n"
      ],
      "text/plain": [
       "<pandas.io.formats.style.Styler at 0x260417f5790>"
      ]
     },
     "execution_count": 27,
     "metadata": {},
     "output_type": "execute_result"
    }
   ],
   "source": [
    "mask = (df.trade == 'B')\n",
    "df[mask].nlargest(5, \"amount\")[[\"name\",\"trans\",\"amount\",\"spd\"]].style.format(format_dict)"
   ]
  },
  {
   "cell_type": "markdown",
   "metadata": {},
   "source": [
    "### Select source of orders between these two"
   ]
  },
  {
   "cell_type": "code",
   "execution_count": 28,
   "metadata": {},
   "outputs": [
    {
     "data": {
      "text/html": [
       "<div>\n",
       "<style scoped>\n",
       "    .dataframe tbody tr th:only-of-type {\n",
       "        vertical-align: middle;\n",
       "    }\n",
       "\n",
       "    .dataframe tbody tr th {\n",
       "        vertical-align: top;\n",
       "    }\n",
       "\n",
       "    .dataframe thead th {\n",
       "        text-align: right;\n",
       "    }\n",
       "</style>\n",
       "<table border=\"1\" class=\"dataframe\">\n",
       "  <thead>\n",
       "    <tr style=\"text-align: right;\">\n",
       "      <th></th>\n",
       "      <th>trans</th>\n",
       "      <th>name</th>\n",
       "      <th>qty</th>\n",
       "      <th>target</th>\n",
       "      <th>active</th>\n",
       "      <th>spd</th>\n",
       "      <th>current</th>\n",
       "      <th>change</th>\n",
       "      <th>percent</th>\n",
       "      <th>reason</th>\n",
       "      <th>market</th>\n",
       "      <th>xdate</th>\n",
       "    </tr>\n",
       "  </thead>\n",
       "  <tbody>\n",
       "    <tr>\n",
       "      <th>1</th>\n",
       "      <td>Buy</td>\n",
       "      <td>CKP</td>\n",
       "      <td>20000</td>\n",
       "      <td>4.6</td>\n",
       "      <td>1</td>\n",
       "      <td>-3</td>\n",
       "      <td>4.66</td>\n",
       "      <td>-0.06</td>\n",
       "      <td>-1.27%</td>\n",
       "      <td>3L</td>\n",
       "      <td>SET100</td>\n",
       "      <td>2022-02-02</td>\n",
       "    </tr>\n",
       "    <tr>\n",
       "      <th>3</th>\n",
       "      <td>Buy</td>\n",
       "      <td>GFPT</td>\n",
       "      <td>7500</td>\n",
       "      <td>12.5</td>\n",
       "      <td>1</td>\n",
       "      <td>-3</td>\n",
       "      <td>12.80</td>\n",
       "      <td>-0.20</td>\n",
       "      <td>-1.54%</td>\n",
       "      <td>XXX</td>\n",
       "      <td>SET</td>\n",
       "      <td>2022-02-02</td>\n",
       "    </tr>\n",
       "    <tr>\n",
       "      <th>4</th>\n",
       "      <td>Buy</td>\n",
       "      <td>GVREIT</td>\n",
       "      <td>10000</td>\n",
       "      <td>8.9</td>\n",
       "      <td>2</td>\n",
       "      <td>-2</td>\n",
       "      <td>9.00</td>\n",
       "      <td>0.00</td>\n",
       "      <td>0.00%</td>\n",
       "      <td>C8.90</td>\n",
       "      <td>SET</td>\n",
       "      <td>2022-12-08</td>\n",
       "    </tr>\n",
       "    <tr>\n",
       "      <th>9</th>\n",
       "      <td>Buy</td>\n",
       "      <td>SCB</td>\n",
       "      <td>1000</td>\n",
       "      <td>102.0</td>\n",
       "      <td>1</td>\n",
       "      <td>-3</td>\n",
       "      <td>103.50</td>\n",
       "      <td>0.00</td>\n",
       "      <td>0.00%</td>\n",
       "      <td>XXX</td>\n",
       "      <td>SET50</td>\n",
       "      <td>2022-02-14</td>\n",
       "    </tr>\n",
       "  </tbody>\n",
       "</table>\n",
       "</div>"
      ],
      "text/plain": [
       "  trans    name    qty  target  active  spd  current  change percent reason  \\\n",
       "1   Buy     CKP  20000     4.6       1   -3     4.66   -0.06  -1.27%     3L   \n",
       "3   Buy    GFPT   7500    12.5       1   -3    12.80   -0.20  -1.54%    XXX   \n",
       "4   Buy  GVREIT  10000     8.9       2   -2     9.00    0.00   0.00%  C8.90   \n",
       "9   Buy     SCB   1000   102.0       1   -3   103.50    0.00   0.00%    XXX   \n",
       "\n",
       "   market       xdate  \n",
       "1  SET100  2022-02-02  \n",
       "3     SET  2022-02-02  \n",
       "4     SET  2022-12-08  \n",
       "9   SET50  2022-02-14  "
      ]
     },
     "execution_count": 28,
     "metadata": {},
     "output_type": "execute_result"
    }
   ],
   "source": [
    "df_out = df[mb | ms][colt]\n",
    "df_out"
   ]
  },
  {
   "cell_type": "code",
   "execution_count": 29,
   "metadata": {
    "scrolled": true
   },
   "outputs": [
    {
     "data": {
      "text/html": [
       "<div>\n",
       "<style scoped>\n",
       "    .dataframe tbody tr th:only-of-type {\n",
       "        vertical-align: middle;\n",
       "    }\n",
       "\n",
       "    .dataframe tbody tr th {\n",
       "        vertical-align: top;\n",
       "    }\n",
       "\n",
       "    .dataframe thead th {\n",
       "        text-align: right;\n",
       "    }\n",
       "</style>\n",
       "<table border=\"1\" class=\"dataframe\">\n",
       "  <thead>\n",
       "    <tr style=\"text-align: right;\">\n",
       "      <th></th>\n",
       "      <th>trans</th>\n",
       "      <th>name</th>\n",
       "      <th>qty</th>\n",
       "      <th>target</th>\n",
       "      <th>active</th>\n",
       "      <th>spd</th>\n",
       "      <th>current</th>\n",
       "      <th>change</th>\n",
       "      <th>percent</th>\n",
       "      <th>reason</th>\n",
       "      <th>market</th>\n",
       "      <th>xdate</th>\n",
       "    </tr>\n",
       "  </thead>\n",
       "  <tbody>\n",
       "    <tr>\n",
       "      <th>4</th>\n",
       "      <td>Buy</td>\n",
       "      <td>GVREIT</td>\n",
       "      <td>10000</td>\n",
       "      <td>8.9</td>\n",
       "      <td>2</td>\n",
       "      <td>-2</td>\n",
       "      <td>9.0</td>\n",
       "      <td>0.0</td>\n",
       "      <td>0.00%</td>\n",
       "      <td>C8.90</td>\n",
       "      <td>SET</td>\n",
       "      <td>2022-12-08</td>\n",
       "    </tr>\n",
       "  </tbody>\n",
       "</table>\n",
       "</div>"
      ],
      "text/plain": [
       "  trans    name    qty  target  active  spd  current  change percent reason  \\\n",
       "4   Buy  GVREIT  10000     8.9       2   -2      9.0     0.0   0.00%  C8.90   \n",
       "\n",
       "  market       xdate  \n",
       "4    SET  2022-12-08  "
      ]
     },
     "execution_count": 29,
     "metadata": {},
     "output_type": "execute_result"
    }
   ],
   "source": [
    "df_out = df[df.active == 2][colt]\n",
    "df_out"
   ]
  },
  {
   "cell_type": "code",
   "execution_count": 30,
   "metadata": {},
   "outputs": [],
   "source": [
    "file_name = 'ORDERS-PLACED.csv'\n",
    "data_file = data_path + file_name\n",
    "output_file = csv_path + file_name\n",
    "box_file = box_path + file_name\n",
    "one_file = one_path + file_name\n",
    "\n",
    "df_out.sort_values(['trans','name'],ascending=[True,True]).to_csv(output_file, header=True, index=False)\n",
    "df_out.sort_values(['trans','name'],ascending=[True,True]).to_csv(data_file, header=True, index=False)\n",
    "df_out.sort_values(['trans','name'],ascending=[True,True]).to_csv(box_file, header=True, index=False)\n",
    "df_out.sort_values(['trans','name'],ascending=[True,True]).to_csv(one_file, header=True, index=False)"
   ]
  },
  {
   "cell_type": "markdown",
   "metadata": {},
   "source": [
    "### End of Output ORDERS-PLACED"
   ]
  },
  {
   "cell_type": "code",
   "execution_count": 31,
   "metadata": {},
   "outputs": [
    {
     "data": {
      "text/html": [
       "<style type=\"text/css\">\n",
       "</style>\n",
       "<table id=\"T_6eb74_\">\n",
       "  <thead>\n",
       "    <tr>\n",
       "      <th class=\"blank level0\" >&nbsp;</th>\n",
       "      <th class=\"col_heading level0 col0\" >trade</th>\n",
       "      <th class=\"col_heading level0 col1\" >name</th>\n",
       "      <th class=\"col_heading level0 col2\" >qty</th>\n",
       "      <th class=\"col_heading level0 col3\" >price</th>\n",
       "      <th class=\"col_heading level0 col4\" >amount</th>\n",
       "      <th class=\"col_heading level0 col5\" >reason</th>\n",
       "      <th class=\"col_heading level0 col6\" >market</th>\n",
       "      <th class=\"col_heading level0 col7\" >active</th>\n",
       "      <th class=\"col_heading level0 col8\" >xdate</th>\n",
       "    </tr>\n",
       "  </thead>\n",
       "  <tbody>\n",
       "    <tr>\n",
       "      <th id=\"T_6eb74_level0_row0\" class=\"row_heading level0 row0\" >0</th>\n",
       "      <td id=\"T_6eb74_row0_col0\" class=\"data row0 col0\" >B</td>\n",
       "      <td id=\"T_6eb74_row0_col1\" class=\"data row0 col1\" >GVREIT</td>\n",
       "      <td id=\"T_6eb74_row0_col2\" class=\"data row0 col2\" >10,000</td>\n",
       "      <td id=\"T_6eb74_row0_col3\" class=\"data row0 col3\" >8.90</td>\n",
       "      <td id=\"T_6eb74_row0_col4\" class=\"data row0 col4\" >89,000.00</td>\n",
       "      <td id=\"T_6eb74_row0_col5\" class=\"data row0 col5\" >C8.90</td>\n",
       "      <td id=\"T_6eb74_row0_col6\" class=\"data row0 col6\" >SET</td>\n",
       "      <td id=\"T_6eb74_row0_col7\" class=\"data row0 col7\" >2</td>\n",
       "      <td id=\"T_6eb74_row0_col8\" class=\"data row0 col8\" >2022-12-08</td>\n",
       "    </tr>\n",
       "  </tbody>\n",
       "</table>\n"
      ],
      "text/plain": [
       "<pandas.io.formats.style.Styler at 0x26041924b80>"
      ]
     },
     "execution_count": 31,
     "metadata": {},
     "output_type": "execute_result"
    }
   ],
   "source": [
    "sql = '''\n",
    "SELECT trade, name, qty, price, qty * price AS amount, reason, market, active, xdate\n",
    "FROM orders\n",
    "WHERE ACTIVE = 2\n",
    "ORDER BY trade, name'''\n",
    "orders = pd.read_sql(sql, conlite)\n",
    "orders.style.format(format_dict)"
   ]
  },
  {
   "cell_type": "markdown",
   "metadata": {},
   "source": [
    "### Evening Process"
   ]
  },
  {
   "cell_type": "code",
   "execution_count": 32,
   "metadata": {},
   "outputs": [],
   "source": [
    "new_active = 1\n",
    "old_active = 2"
   ]
  },
  {
   "cell_type": "code",
   "execution_count": 33,
   "metadata": {},
   "outputs": [
    {
     "data": {
      "text/plain": [
       "1"
      ]
     },
     "execution_count": 33,
     "metadata": {},
     "output_type": "execute_result"
    }
   ],
   "source": [
    "sql = \"\"\"\n",
    "UPDATE orders \n",
    "SET active = %s\n",
    "WHERE active = %s\n",
    "\"\"\"\n",
    "sql = sql % (new_active, old_active)\n",
    "rp = conlite.execute(sql)\n",
    "rp.rowcount"
   ]
  },
  {
   "cell_type": "code",
   "execution_count": 34,
   "metadata": {
    "scrolled": true
   },
   "outputs": [
    {
     "data": {
      "text/plain": [
       "\"'GVREIT'\""
      ]
     },
     "execution_count": 34,
     "metadata": {},
     "output_type": "execute_result"
    }
   ],
   "source": [
    "names = df_out['name']\n",
    "in_p = \", \".join(map(lambda name: \"'%s'\" % name, names))\n",
    "in_p"
   ]
  },
  {
   "cell_type": "code",
   "execution_count": 35,
   "metadata": {},
   "outputs": [
    {
     "data": {
      "text/plain": [
       "1"
      ]
     },
     "execution_count": 35,
     "metadata": {},
     "output_type": "execute_result"
    }
   ],
   "source": [
    "sql = \"\"\"\n",
    "UPDATE orders \n",
    "SET active = 2\n",
    "WHERE name IN (%s)\n",
    "\"\"\"\n",
    "sql = sql % (in_p)\n",
    "rp = conlite.execute(sql)\n",
    "rp.rowcount"
   ]
  },
  {
   "cell_type": "code",
   "execution_count": 36,
   "metadata": {},
   "outputs": [],
   "source": [
    "#To force orders.csv and orders table to be same copy\n",
    "file_name = 'orders.csv'\n",
    "data_file = data_path + file_name\n",
    "output_file = csv_path + file_name\n",
    "box_file = box_path + file_name\n",
    "one_file = one_path + file_name\n",
    "\n",
    "orders[cols].to_csv(output_file, header=True, index=False)\n",
    "orders[cols].to_csv(data_file, header=True, index=False)\n",
    "orders[cols].to_csv(box_file, header=True, index=False)\n",
    "orders[cols].to_csv(one_file, header=True, index=False)"
   ]
  },
  {
   "cell_type": "markdown",
   "metadata": {},
   "source": [
    "### End of Evening Process"
   ]
  },
  {
   "cell_type": "code",
   "execution_count": null,
   "metadata": {},
   "outputs": [],
   "source": []
  }
 ],
 "metadata": {
  "anaconda-cloud": {},
  "kernelspec": {
   "display_name": "Python 3 (ipykernel)",
   "language": "python",
   "name": "python3"
  },
  "language_info": {
   "codemirror_mode": {
    "name": "ipython",
    "version": 3
   },
   "file_extension": ".py",
   "mimetype": "text/x-python",
   "name": "python",
   "nbconvert_exporter": "python",
   "pygments_lexer": "ipython3",
   "version": "3.8.11"
  }
 },
 "nbformat": 4,
 "nbformat_minor": 1
}
