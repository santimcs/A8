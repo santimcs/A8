{
 "cells": [
  {
   "cell_type": "code",
   "execution_count": 1,
   "metadata": {},
   "outputs": [
    {
     "data": {
      "text/plain": [
       "(datetime.date(2022, 12, 19), datetime.date(2022, 12, 18))"
      ]
     },
     "execution_count": 1,
     "metadata": {},
     "output_type": "execute_result"
    }
   ],
   "source": [
    "import calendar\n",
    "import pandas as pd\n",
    "import numpy as np\n",
    "from datetime import date, timedelta\n",
    "from math import ceil, floor, trunc\n",
    "\n",
    "today = date.today()\n",
    "yesterday = today - timedelta(days=1)\n",
    "today, yesterday"
   ]
  },
  {
   "cell_type": "code",
   "execution_count": 2,
   "metadata": {},
   "outputs": [],
   "source": [
    "def number_of_spread(x):\n",
    "    # Unpack variables from input list\n",
    "    old_qty = x[0]  # old quantity\n",
    "    old_unit = x[1]  # old unit cost\n",
    "    purchase_qty = x[2]  # purchase quantity\n",
    "    spread = x[3]  # spread according to price range\n",
    "    desired_down_percent = x[4]  # desired down percent to adjust purchase price\n",
    "\n",
    "    old_amount = old_qty * old_unit  # Calculate old amount\n",
    "    \n",
    "    # Loop 1000 times\n",
    "    for i in range(1000):\n",
    "        # Calculate simulated purchase price\n",
    "        simulated_purchase_price = old_unit - spread\n",
    "        \n",
    "        # Calculate new purchase amount\n",
    "        new_purchase_amount = purchase_qty * simulated_purchase_price\n",
    "        \n",
    "        # Calculate new total quantity\n",
    "        new_total_qty = old_qty + purchase_qty\n",
    "        \n",
    "        # Calculate new cost amount\n",
    "        new_cost_amount = old_amount + new_purchase_amount\n",
    "        \n",
    "        # Calculate new unit cost\n",
    "        new_unit_cost = new_cost_amount / new_total_qty\n",
    "\n",
    "        # Calculate percent of simulated purchase price\n",
    "        simulated_purchase_price_pct = simulated_purchase_price * 100\n",
    "        \n",
    "        # Calculate percent of spread\n",
    "        spread_pct = spread * 100\n",
    "        \n",
    "        # Check if simulated purchase price is a multiple of spread\n",
    "        if (simulated_purchase_price_pct % spread_pct) == 0:\n",
    "            # Calculate difference between simulated purchase price and old unit cost as a percentage\n",
    "            pct = ((simulated_purchase_price - old_unit) / old_unit) * 100\n",
    "            \n",
    "            # If difference is less than desired down percent, continue loop\n",
    "            if abs(pct) < desired_down_percent:\n",
    "                continue\n",
    "            \n",
    "            # If difference is greater than or equal to desired down percent, exit loop\n",
    "            break\n",
    "    \n",
    "    # Round final results\n",
    "    p1 = round(simulated_purchase_price, 2)\n",
    "    p2 = round(new_unit_cost, 2)\n",
    "    pct = round(pct, 2)\n",
    "    \n",
    "    # Return final results\n",
    "    return print('p1={}, p2={}, pct={}'.format(p1, p2, pct))\n",
    "\n"
   ]
  },
  {
   "cell_type": "code",
   "execution_count": 3,
   "metadata": {
    "scrolled": true
   },
   "outputs": [
    {
     "name": "stdout",
     "output_type": "stream",
     "text": [
      "p1=27.75, p2=27.94, pct=-0.89\n"
     ]
    },
    {
     "data": {
      "text/plain": [
       "array([None], dtype=object)"
      ]
     },
     "execution_count": 3,
     "metadata": {},
     "output_type": "execute_result"
    }
   ],
   "source": [
    "my_array = [[3600,28,1200,.25,5]]\n",
    "tmp = (np.apply_along_axis(number_of_spread, axis=1, arr=my_array))\n",
    "tmp"
   ]
  },
  {
   "cell_type": "markdown",
   "metadata": {},
   "source": [
    "##### "
   ]
  },
  {
   "cell_type": "code",
   "execution_count": 4,
   "metadata": {},
   "outputs": [
    {
     "data": {
      "text/plain": [
       "26.25"
      ]
     },
     "execution_count": 4,
     "metadata": {},
     "output_type": "execute_result"
    }
   ],
   "source": [
    "26.25"
   ]
  }
 ],
 "metadata": {
  "anaconda-cloud": {},
  "kernelspec": {
   "display_name": "Python 3 (ipykernel)",
   "language": "python",
   "name": "python3"
  },
  "language_info": {
   "codemirror_mode": {
    "name": "ipython",
    "version": 3
   },
   "file_extension": ".py",
   "mimetype": "text/x-python",
   "name": "python",
   "nbconvert_exporter": "python",
   "pygments_lexer": "ipython3",
   "version": "3.8.11"
  }
 },
 "nbformat": 4,
 "nbformat_minor": 1
}
