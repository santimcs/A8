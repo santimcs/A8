{
 "cells": [
  {
   "cell_type": "code",
   "execution_count": 1,
   "metadata": {},
   "outputs": [
    {
     "data": {
      "text/plain": [
       "datetime.date(2022, 1, 6)"
      ]
     },
     "execution_count": 1,
     "metadata": {},
     "output_type": "execute_result"
    }
   ],
   "source": [
    "import pandas as pd\n",
    "from datetime import date, timedelta\n",
    "from sqlalchemy import create_engine\n",
    "\n",
    "engine = create_engine('mysql+pymysql://root:@localhost:3306/portfolio_development')\n",
    "conpf = engine.connect()\n",
    "\n",
    "engine = create_engine(\"mysql+pymysql://root:@localhost:3306/stock\")\n",
    "const = engine.connect()\n",
    "\n",
    "engine = create_engine(\"sqlite:///c:\\\\ruby\\\\port_lite\\\\db\\\\development.sqlite3\")\n",
    "conlite = engine.connect()\n",
    "\n",
    "today = date.today()\n",
    "today"
   ]
  },
  {
   "cell_type": "code",
   "execution_count": 2,
   "metadata": {},
   "outputs": [],
   "source": [
    "format_dict = {\n",
    "               'qty':'{:,}','SHARES':'{:,}','available_qty':'{:,}','volbuy':'{:,}','volsell':'{:,}','volbal':'{:,}',\n",
    "               'price':'{:,.2f}','PRICE':'{:,.2f}','max_price':'{:,.2f}','min_price':'{:,.2f}',\n",
    "               'buy_target':'{:,.2f}','sell_target':'{:,.2f}','fee':'{:,.2f}','vat':'{:,.2f}',\n",
    "               'net':'{:,.2f}','profit':'{:,.2f}','cost':'{:,.2f}','volume':'{:,.2f}','beta':'{:,.2f}',\n",
    "               'Q4':'{:,.3f}','Q3':'{:,.3f}','Q2':'{:,.3f}','Q1':'{:,.3f}','DIVIDEND':'{:,.3f}',\n",
    "               'percent':'{:,.2f}%','PERCENT':'{:,.2f}%','yearly':'{:,.2f}%','pct':'{:,.2f}%',\n",
    "              }"
   ]
  },
  {
   "cell_type": "markdown",
   "metadata": {},
   "source": [
    "### Tables in the process"
   ]
  },
  {
   "cell_type": "code",
   "execution_count": 11,
   "metadata": {},
   "outputs": [
    {
     "data": {
      "text/html": [
       "<style type=\"text/css\">\n",
       "</style>\n",
       "<table id=\"T_8d840_\">\n",
       "  <thead>\n",
       "    <tr>\n",
       "      <th class=\"blank level0\" >&nbsp;</th>\n",
       "      <th class=\"col_heading level0 col0\" >name</th>\n",
       "      <th class=\"col_heading level0 col1\" >buy_date</th>\n",
       "      <th class=\"col_heading level0 col2\" >id</th>\n",
       "      <th class=\"col_heading level0 col3\" >buy_id</th>\n",
       "      <th class=\"col_heading level0 col4\" >date</th>\n",
       "      <th class=\"col_heading level0 col5\" >price</th>\n",
       "      <th class=\"col_heading level0 col6\" >fee</th>\n",
       "      <th class=\"col_heading level0 col7\" >vat</th>\n",
       "      <th class=\"col_heading level0 col8\" >net</th>\n",
       "      <th class=\"col_heading level0 col9\" >days</th>\n",
       "      <th class=\"col_heading level0 col10\" >profit</th>\n",
       "      <th class=\"col_heading level0 col11\" >percent</th>\n",
       "      <th class=\"col_heading level0 col12\" >yearly</th>\n",
       "      <th class=\"col_heading level0 col13\" >sequence</th>\n",
       "      <th class=\"col_heading level0 col14\" >chart</th>\n",
       "      <th class=\"col_heading level0 col15\" >dividend_id</th>\n",
       "    </tr>\n",
       "  </thead>\n",
       "  <tbody>\n",
       "    <tr>\n",
       "      <th id=\"T_8d840_level0_row0\" class=\"row_heading level0 row0\" >0</th>\n",
       "      <td id=\"T_8d840_row0_col0\" class=\"data row0 col0\" >EPG</td>\n",
       "      <td id=\"T_8d840_row0_col1\" class=\"data row0 col1\" >2021-09-23</td>\n",
       "      <td id=\"T_8d840_row0_col2\" class=\"data row0 col2\" >897</td>\n",
       "      <td id=\"T_8d840_row0_col3\" class=\"data row0 col3\" >1090</td>\n",
       "      <td id=\"T_8d840_row0_col4\" class=\"data row0 col4\" >2022-01-06</td>\n",
       "      <td id=\"T_8d840_row0_col5\" class=\"data row0 col5\" >12.30</td>\n",
       "      <td id=\"T_8d840_row0_col6\" class=\"data row0 col6\" >50.92</td>\n",
       "      <td id=\"T_8d840_row0_col7\" class=\"data row0 col7\" >3.56</td>\n",
       "      <td id=\"T_8d840_row0_col8\" class=\"data row0 col8\" >24,545.52</td>\n",
       "      <td id=\"T_8d840_row0_col9\" class=\"data row0 col9\" >105</td>\n",
       "      <td id=\"T_8d840_row0_col10\" class=\"data row0 col10\" >2,095.90</td>\n",
       "      <td id=\"T_8d840_row0_col11\" class=\"data row0 col11\" >9.34%</td>\n",
       "      <td id=\"T_8d840_row0_col12\" class=\"data row0 col12\" >32.45%</td>\n",
       "      <td id=\"T_8d840_row0_col13\" class=\"data row0 col13\" >103</td>\n",
       "      <td id=\"T_8d840_row0_col14\" class=\"data row0 col14\" >None</td>\n",
       "      <td id=\"T_8d840_row0_col15\" class=\"data row0 col15\" >0</td>\n",
       "    </tr>\n",
       "  </tbody>\n",
       "</table>\n"
      ],
      "text/plain": [
       "<pandas.io.formats.style.Styler at 0x1d647c45850>"
      ]
     },
     "execution_count": 11,
     "metadata": {},
     "output_type": "execute_result"
    }
   ],
   "source": [
    "# Sells table in MySql portfolio database\n",
    "sql = \"\"\"\n",
    "SELECT T.name, B.date AS buy_date, S.* FROM sells S\n",
    "JOIN buys B ON S.buy_id = B.id\n",
    "JOIN stocks T ON B.stock_id = T.id\n",
    "ORDER BY S.id DESC\n",
    "LIMIT 1\"\"\"\n",
    "sells = pd.read_sql(sql, conpf)\n",
    "sells.style.format(format_dict)"
   ]
  },
  {
   "cell_type": "code",
   "execution_count": 15,
   "metadata": {},
   "outputs": [
    {
     "name": "stdout",
     "output_type": "stream",
     "text": [
      "\n",
      "SELECT T.name, B.* FROM buys B\n",
      "JOIN stocks T ON B.stock_id = T.id\n",
      "ORDER BY B.id DESC\n",
      "LIMIT 1\n"
     ]
    },
    {
     "data": {
      "text/html": [
       "<style type=\"text/css\">\n",
       "</style>\n",
       "<table id=\"T_11c13_\">\n",
       "  <thead>\n",
       "    <tr>\n",
       "      <th class=\"blank level0\" >&nbsp;</th>\n",
       "      <th class=\"col_heading level0 col0\" >name</th>\n",
       "      <th class=\"col_heading level0 col1\" >id</th>\n",
       "      <th class=\"col_heading level0 col2\" >stock_id</th>\n",
       "      <th class=\"col_heading level0 col3\" >date</th>\n",
       "      <th class=\"col_heading level0 col4\" >qty</th>\n",
       "      <th class=\"col_heading level0 col5\" >price</th>\n",
       "      <th class=\"col_heading level0 col6\" >fee</th>\n",
       "      <th class=\"col_heading level0 col7\" >vat</th>\n",
       "      <th class=\"col_heading level0 col8\" >status</th>\n",
       "      <th class=\"col_heading level0 col9\" >net</th>\n",
       "      <th class=\"col_heading level0 col10\" >kind</th>\n",
       "      <th class=\"col_heading level0 col11\" >chart</th>\n",
       "    </tr>\n",
       "  </thead>\n",
       "  <tbody>\n",
       "    <tr>\n",
       "      <th id=\"T_11c13_level0_row0\" class=\"row_heading level0 row0\" >0</th>\n",
       "      <td id=\"T_11c13_row0_col0\" class=\"data row0 col0\" >EPG</td>\n",
       "      <td id=\"T_11c13_row0_col1\" class=\"data row0 col1\" >1090</td>\n",
       "      <td id=\"T_11c13_row0_col2\" class=\"data row0 col2\" >62</td>\n",
       "      <td id=\"T_11c13_row0_col3\" class=\"data row0 col3\" >2021-09-23</td>\n",
       "      <td id=\"T_11c13_row0_col4\" class=\"data row0 col4\" >2,000</td>\n",
       "      <td id=\"T_11c13_row0_col5\" class=\"data row0 col5\" >11.20</td>\n",
       "      <td id=\"T_11c13_row0_col6\" class=\"data row0 col6\" >46.37</td>\n",
       "      <td id=\"T_11c13_row0_col7\" class=\"data row0 col7\" >3.25</td>\n",
       "      <td id=\"T_11c13_row0_col8\" class=\"data row0 col8\" >Sold</td>\n",
       "      <td id=\"T_11c13_row0_col9\" class=\"data row0 col9\" >22,449.62</td>\n",
       "      <td id=\"T_11c13_row0_col10\" class=\"data row0 col10\" >DTD</td>\n",
       "      <td id=\"T_11c13_row0_col11\" class=\"data row0 col11\" >None</td>\n",
       "    </tr>\n",
       "  </tbody>\n",
       "</table>\n"
      ],
      "text/plain": [
       "<pandas.io.formats.style.Styler at 0x1d647c51550>"
      ]
     },
     "execution_count": 15,
     "metadata": {},
     "output_type": "execute_result"
    }
   ],
   "source": [
    "# Buys table in MySql portfolio database\n",
    "names = sells['name']\n",
    "name = names.to_string(index=False)\n",
    "\n",
    "sql = \"\"\"\n",
    "SELECT T.name, B.* FROM buys B\n",
    "JOIN stocks T ON B.stock_id = T.id\n",
    "ORDER BY B.id DESC\n",
    "LIMIT 1\"\"\"\n",
    "print(sql)\n",
    "\n",
    "buys = pd.read_sql(sql, conpf)\n",
    "buys.style.format(format_dict)"
   ]
  },
  {
   "cell_type": "code",
   "execution_count": 16,
   "metadata": {},
   "outputs": [
    {
     "name": "stdout",
     "output_type": "stream",
     "text": [
      "\n",
      "SELECT T.* FROM stocks T\n",
      "WHERE name = 'EPG'\n"
     ]
    },
    {
     "data": {
      "text/html": [
       "<style type=\"text/css\">\n",
       "</style>\n",
       "<table id=\"T_988a0_\">\n",
       "  <thead>\n",
       "    <tr>\n",
       "      <th class=\"blank level0\" >&nbsp;</th>\n",
       "      <th class=\"col_heading level0 col0\" >id</th>\n",
       "      <th class=\"col_heading level0 col1\" >name</th>\n",
       "      <th class=\"col_heading level0 col2\" >category_id</th>\n",
       "      <th class=\"col_heading level0 col3\" >website</th>\n",
       "    </tr>\n",
       "  </thead>\n",
       "  <tbody>\n",
       "    <tr>\n",
       "      <th id=\"T_988a0_level0_row0\" class=\"row_heading level0 row0\" >0</th>\n",
       "      <td id=\"T_988a0_row0_col0\" class=\"data row0 col0\" >62</td>\n",
       "      <td id=\"T_988a0_row0_col1\" class=\"data row0 col1\" >EPG</td>\n",
       "      <td id=\"T_988a0_row0_col2\" class=\"data row0 col2\" >3</td>\n",
       "      <td id=\"T_988a0_row0_col3\" class=\"data row0 col3\" >www.epg.co.th</td>\n",
       "    </tr>\n",
       "  </tbody>\n",
       "</table>\n"
      ],
      "text/plain": [
       "<pandas.io.formats.style.Styler at 0x1d647c302e0>"
      ]
     },
     "execution_count": 16,
     "metadata": {},
     "output_type": "execute_result"
    }
   ],
   "source": [
    "# Stocks table in MySql portfolio database\n",
    "names = buys['name']\n",
    "name = names.to_string(index=False)\n",
    "\n",
    "sql = \"\"\"\n",
    "SELECT T.* FROM stocks T\n",
    "WHERE name = '%s'\"\"\"\n",
    "sql = sql % name\n",
    "print(sql)\n",
    "\n",
    "stocks = pd.read_sql(sql, conpf)\n",
    "stocks.style.format(format_dict)"
   ]
  },
  {
   "cell_type": "code",
   "execution_count": 51,
   "metadata": {},
   "outputs": [
    {
     "name": "stdout",
     "output_type": "stream",
     "text": [
      "\n",
      "SELECT * FROM buy\n",
      "WHERE name = 'DCC'\n",
      "\n"
     ]
    },
    {
     "data": {
      "text/html": [
       "<style type=\"text/css\">\n",
       "</style>\n",
       "<table id=\"T_552fa_\">\n",
       "  <thead>\n",
       "    <tr>\n",
       "      <th class=\"blank level0\" >&nbsp;</th>\n",
       "      <th class=\"col_heading level0 col0\" >name</th>\n",
       "      <th class=\"col_heading level0 col1\" >date</th>\n",
       "      <th class=\"col_heading level0 col2\" >volbuy</th>\n",
       "      <th class=\"col_heading level0 col3\" >price</th>\n",
       "      <th class=\"col_heading level0 col4\" >volsell</th>\n",
       "      <th class=\"col_heading level0 col5\" >volbal</th>\n",
       "      <th class=\"col_heading level0 col6\" >active</th>\n",
       "      <th class=\"col_heading level0 col7\" >dividend</th>\n",
       "      <th class=\"col_heading level0 col8\" >period</th>\n",
       "      <th class=\"col_heading level0 col9\" >grade</th>\n",
       "    </tr>\n",
       "  </thead>\n",
       "  <tbody>\n",
       "  </tbody>\n",
       "</table>\n"
      ],
      "text/plain": [
       "<pandas.io.formats.style.Styler at 0x1d647ebb790>"
      ]
     },
     "execution_count": 51,
     "metadata": {},
     "output_type": "execute_result"
    }
   ],
   "source": [
    "# Buy table in MySql stock database\n",
    "names = sells['name']\n",
    "name = names.to_string(index=False)\n",
    "\n",
    "sql = \"\"\"\n",
    "SELECT * FROM buy\n",
    "WHERE name = '%s'\n",
    "\"\"\"\n",
    "sql = sql % name\n",
    "print(sql)\n",
    "\n",
    "buy = pd.read_sql(sql, const)\n",
    "buy.style.format(format_dict)"
   ]
  },
  {
   "cell_type": "code",
   "execution_count": null,
   "metadata": {},
   "outputs": [],
   "source": [
    "# Dividend table in MySql stock database\n",
    "names = sells['name']\n",
    "name = names.to_string(index=False)\n",
    "\n",
    "sql = \"\"\"\n",
    "SELECT * FROM dividend\n",
    "WHERE name = '%s'\n",
    "\"\"\"\n",
    "sql = sql % name\n",
    "print(sql)\n",
    "\n",
    "dividend = pd.read_sql(sql, const)\n",
    "dividend.style.format(format_dict)"
   ]
  },
  {
   "cell_type": "code",
   "execution_count": null,
   "metadata": {},
   "outputs": [],
   "source": [
    "date = today.strftime('%Y-%m-%d')\n",
    "date"
   ]
  },
  {
   "cell_type": "markdown",
   "metadata": {},
   "source": [
    "### Sell transactions"
   ]
  },
  {
   "cell_type": "markdown",
   "metadata": {},
   "source": [
    "### Begin of sell process to buy table in mysql stock database"
   ]
  },
  {
   "cell_type": "code",
   "execution_count": 27,
   "metadata": {},
   "outputs": [
    {
     "data": {
      "text/html": [
       "<style type=\"text/css\">\n",
       "</style>\n",
       "<table id=\"T_cc7d0_\">\n",
       "  <thead>\n",
       "    <tr>\n",
       "      <th class=\"blank level0\" >&nbsp;</th>\n",
       "      <th class=\"col_heading level0 col0\" >name</th>\n",
       "      <th class=\"col_heading level0 col1\" >id</th>\n",
       "      <th class=\"col_heading level0 col2\" >buy_id</th>\n",
       "      <th class=\"col_heading level0 col3\" >date</th>\n",
       "      <th class=\"col_heading level0 col4\" >price</th>\n",
       "      <th class=\"col_heading level0 col5\" >fee</th>\n",
       "      <th class=\"col_heading level0 col6\" >vat</th>\n",
       "      <th class=\"col_heading level0 col7\" >net</th>\n",
       "      <th class=\"col_heading level0 col8\" >days</th>\n",
       "      <th class=\"col_heading level0 col9\" >profit</th>\n",
       "      <th class=\"col_heading level0 col10\" >percent</th>\n",
       "      <th class=\"col_heading level0 col11\" >yearly</th>\n",
       "      <th class=\"col_heading level0 col12\" >sequence</th>\n",
       "      <th class=\"col_heading level0 col13\" >chart</th>\n",
       "      <th class=\"col_heading level0 col14\" >dividend_id</th>\n",
       "      <th class=\"col_heading level0 col15\" >cost</th>\n",
       "      <th class=\"col_heading level0 col16\" >qty</th>\n",
       "    </tr>\n",
       "  </thead>\n",
       "  <tbody>\n",
       "    <tr>\n",
       "      <th id=\"T_cc7d0_level0_row0\" class=\"row_heading level0 row0\" >0</th>\n",
       "      <td id=\"T_cc7d0_row0_col0\" class=\"data row0 col0\" >DCC</td>\n",
       "      <td id=\"T_cc7d0_row0_col1\" class=\"data row0 col1\" >896</td>\n",
       "      <td id=\"T_cc7d0_row0_col2\" class=\"data row0 col2\" >1007</td>\n",
       "      <td id=\"T_cc7d0_row0_col3\" class=\"data row0 col3\" >2022-01-06</td>\n",
       "      <td id=\"T_cc7d0_row0_col4\" class=\"data row0 col4\" >3.00</td>\n",
       "      <td id=\"T_cc7d0_row0_col5\" class=\"data row0 col5\" >248.40</td>\n",
       "      <td id=\"T_cc7d0_row0_col6\" class=\"data row0 col6\" >17.39</td>\n",
       "      <td id=\"T_cc7d0_row0_col7\" class=\"data row0 col7\" >119,734.21</td>\n",
       "      <td id=\"T_cc7d0_row0_col8\" class=\"data row0 col8\" >114</td>\n",
       "      <td id=\"T_cc7d0_row0_col9\" class=\"data row0 col9\" >3,477.28</td>\n",
       "      <td id=\"T_cc7d0_row0_col10\" class=\"data row0 col10\" >2.99%</td>\n",
       "      <td id=\"T_cc7d0_row0_col11\" class=\"data row0 col11\" >9.58%</td>\n",
       "      <td id=\"T_cc7d0_row0_col12\" class=\"data row0 col12\" >104</td>\n",
       "      <td id=\"T_cc7d0_row0_col13\" class=\"data row0 col13\" >None</td>\n",
       "      <td id=\"T_cc7d0_row0_col14\" class=\"data row0 col14\" >0</td>\n",
       "      <td id=\"T_cc7d0_row0_col15\" class=\"data row0 col15\" >116,256.93</td>\n",
       "      <td id=\"T_cc7d0_row0_col16\" class=\"data row0 col16\" >40,000</td>\n",
       "    </tr>\n",
       "  </tbody>\n",
       "</table>\n"
      ],
      "text/plain": [
       "<pandas.io.formats.style.Styler at 0x1d647e64340>"
      ]
     },
     "execution_count": 27,
     "metadata": {},
     "output_type": "execute_result"
    }
   ],
   "source": [
    "sql = '''\n",
    "SELECT T.name, S.* , B.net AS cost, B.qty \n",
    "FROM sells S\n",
    "JOIN buys B\n",
    "ON buy_id = B.id\n",
    "JOIN stocks T\n",
    "ON B.stock_id = T.id\n",
    "WHERE S.date = '%s'\n",
    "AND T.name = \"DCC\"\n",
    "ORDER BY S.id DESC LIMIT 1\n",
    "'''\n",
    "sql = sql % today\n",
    "sells = pd.read_sql(sql, conpf)\n",
    "sells.style.format(format_dict)"
   ]
  },
  {
   "cell_type": "code",
   "execution_count": 28,
   "metadata": {},
   "outputs": [
    {
     "data": {
      "text/plain": [
       "'DCC'"
      ]
     },
     "execution_count": 28,
     "metadata": {},
     "output_type": "execute_result"
    }
   ],
   "source": [
    "names = sells['name']\n",
    "name = names.to_string(index=False)\n",
    "name"
   ]
  },
  {
   "cell_type": "code",
   "execution_count": 29,
   "metadata": {},
   "outputs": [
    {
     "data": {
      "text/plain": [
       "-40000"
      ]
     },
     "execution_count": 29,
     "metadata": {},
     "output_type": "execute_result"
    }
   ],
   "source": [
    "sr_qty = sells['qty']\n",
    "qty_str = sr_qty.to_string(index=False)\n",
    "qty = int(qty_str) * -1\n",
    "qty"
   ]
  },
  {
   "cell_type": "code",
   "execution_count": 30,
   "metadata": {},
   "outputs": [
    {
     "name": "stdout",
     "output_type": "stream",
     "text": [
      "\n",
      "SELECT * \n",
      "FROM buy \n",
      "WHERE name = 'DCC'\n",
      "\n"
     ]
    },
    {
     "data": {
      "text/html": [
       "<div>\n",
       "<style scoped>\n",
       "    .dataframe tbody tr th:only-of-type {\n",
       "        vertical-align: middle;\n",
       "    }\n",
       "\n",
       "    .dataframe tbody tr th {\n",
       "        vertical-align: top;\n",
       "    }\n",
       "\n",
       "    .dataframe thead th {\n",
       "        text-align: right;\n",
       "    }\n",
       "</style>\n",
       "<table border=\"1\" class=\"dataframe\">\n",
       "  <thead>\n",
       "    <tr style=\"text-align: right;\">\n",
       "      <th></th>\n",
       "      <th>name</th>\n",
       "      <th>date</th>\n",
       "      <th>volbuy</th>\n",
       "      <th>price</th>\n",
       "      <th>volsell</th>\n",
       "      <th>volbal</th>\n",
       "      <th>active</th>\n",
       "      <th>dividend</th>\n",
       "      <th>period</th>\n",
       "      <th>grade</th>\n",
       "    </tr>\n",
       "  </thead>\n",
       "  <tbody>\n",
       "    <tr>\n",
       "      <th>0</th>\n",
       "      <td>DCC</td>\n",
       "      <td>2021-09-14</td>\n",
       "      <td>40000.0</td>\n",
       "      <td>2.9</td>\n",
       "      <td>0.0</td>\n",
       "      <td>0.0</td>\n",
       "      <td>1</td>\n",
       "      <td>0.184</td>\n",
       "      <td>4</td>\n",
       "      <td>A1</td>\n",
       "    </tr>\n",
       "  </tbody>\n",
       "</table>\n",
       "</div>"
      ],
      "text/plain": [
       "  name        date   volbuy  price  volsell  volbal  active  dividend period  \\\n",
       "0  DCC  2021-09-14  40000.0    2.9      0.0     0.0       1     0.184      4   \n",
       "\n",
       "  grade  \n",
       "0    A1  "
      ]
     },
     "execution_count": 30,
     "metadata": {},
     "output_type": "execute_result"
    }
   ],
   "source": [
    "sql = \"\"\"\n",
    "SELECT * \n",
    "FROM buy \n",
    "WHERE name = '%s'\n",
    "\"\"\"\n",
    "sql = sql % name\n",
    "print(sql)\n",
    "\n",
    "buy = pd.read_sql(sql, const)\n",
    "buy"
   ]
  },
  {
   "cell_type": "code",
   "execution_count": 31,
   "metadata": {},
   "outputs": [
    {
     "name": "stdout",
     "output_type": "stream",
     "text": [
      "\n",
      "UPDATE buy\n",
      "SET volbuy = volbuy + -40000\n",
      "WHERE name = \"DCC\"\n"
     ]
    },
    {
     "data": {
      "text/plain": [
       "1"
      ]
     },
     "execution_count": 31,
     "metadata": {},
     "output_type": "execute_result"
    }
   ],
   "source": [
    "sqlUpd = '''\n",
    "UPDATE buy\n",
    "SET volbuy = volbuy + %s\n",
    "WHERE name = \"%s\"'''\n",
    "sqlUpd = sqlUpd % (qty, name)\n",
    "print(sqlUpd)\n",
    "\n",
    "rp = const.execute(sqlUpd)\n",
    "rp.rowcount"
   ]
  },
  {
   "cell_type": "code",
   "execution_count": 32,
   "metadata": {},
   "outputs": [
    {
     "data": {
      "text/plain": [
       "1"
      ]
     },
     "execution_count": 32,
     "metadata": {},
     "output_type": "execute_result"
    }
   ],
   "source": [
    "sqlDel = '''\n",
    "DELETE FROM buy\n",
    "WHERE volbuy = 0'''\n",
    "rp = const.execute(sqlDel)\n",
    "rp.rowcount"
   ]
  },
  {
   "cell_type": "markdown",
   "metadata": {},
   "source": [
    "### End of sell process to buy table in mysql stock database"
   ]
  },
  {
   "cell_type": "markdown",
   "metadata": {},
   "source": [
    "### Begin of sell process to stocks table in sqlite port_lite database"
   ]
  },
  {
   "cell_type": "code",
   "execution_count": 40,
   "metadata": {},
   "outputs": [
    {
     "name": "stdout",
     "output_type": "stream",
     "text": [
      "\n",
      "SELECT * \n",
      "FROM stocks \n",
      "WHERE name = 'DCC'\n",
      "\n"
     ]
    },
    {
     "data": {
      "text/html": [
       "<style type=\"text/css\">\n",
       "</style>\n",
       "<table id=\"T_ce814_\">\n",
       "  <thead>\n",
       "    <tr>\n",
       "      <th class=\"blank level0\" >&nbsp;</th>\n",
       "      <th class=\"col_heading level0 col0\" >id</th>\n",
       "      <th class=\"col_heading level0 col1\" >name</th>\n",
       "      <th class=\"col_heading level0 col2\" >max_price</th>\n",
       "      <th class=\"col_heading level0 col3\" >min_price</th>\n",
       "      <th class=\"col_heading level0 col4\" >status</th>\n",
       "      <th class=\"col_heading level0 col5\" >buy_target</th>\n",
       "      <th class=\"col_heading level0 col6\" >sell_target</th>\n",
       "      <th class=\"col_heading level0 col7\" >volume</th>\n",
       "      <th class=\"col_heading level0 col8\" >beta</th>\n",
       "      <th class=\"col_heading level0 col9\" >cost</th>\n",
       "      <th class=\"col_heading level0 col10\" >qty</th>\n",
       "      <th class=\"col_heading level0 col11\" >buy_spread</th>\n",
       "      <th class=\"col_heading level0 col12\" >sell_spread</th>\n",
       "      <th class=\"col_heading level0 col13\" >available_qty</th>\n",
       "      <th class=\"col_heading level0 col14\" >bl</th>\n",
       "      <th class=\"col_heading level0 col15\" >sh</th>\n",
       "      <th class=\"col_heading level0 col16\" >reason</th>\n",
       "      <th class=\"col_heading level0 col17\" >market</th>\n",
       "    </tr>\n",
       "  </thead>\n",
       "  <tbody>\n",
       "    <tr>\n",
       "      <th id=\"T_ce814_level0_row0\" class=\"row_heading level0 row0\" >0</th>\n",
       "      <td id=\"T_ce814_row0_col0\" class=\"data row0 col0\" >519</td>\n",
       "      <td id=\"T_ce814_row0_col1\" class=\"data row0 col1\" >DCC</td>\n",
       "      <td id=\"T_ce814_row0_col2\" class=\"data row0 col2\" >3.40</td>\n",
       "      <td id=\"T_ce814_row0_col3\" class=\"data row0 col3\" >2.22</td>\n",
       "      <td id=\"T_ce814_row0_col4\" class=\"data row0 col4\" >I</td>\n",
       "      <td id=\"T_ce814_row0_col5\" class=\"data row0 col5\" >0.00</td>\n",
       "      <td id=\"T_ce814_row0_col6\" class=\"data row0 col6\" >2.92</td>\n",
       "      <td id=\"T_ce814_row0_col7\" class=\"data row0 col7\" >91.20</td>\n",
       "      <td id=\"T_ce814_row0_col8\" class=\"data row0 col8\" >0.57</td>\n",
       "      <td id=\"T_ce814_row0_col9\" class=\"data row0 col9\" >2.90</td>\n",
       "      <td id=\"T_ce814_row0_col10\" class=\"data row0 col10\" >40,000</td>\n",
       "      <td id=\"T_ce814_row0_col11\" class=\"data row0 col11\" >-7</td>\n",
       "      <td id=\"T_ce814_row0_col12\" class=\"data row0 col12\" >8</td>\n",
       "      <td id=\"T_ce814_row0_col13\" class=\"data row0 col13\" >40,000</td>\n",
       "      <td id=\"T_ce814_row0_col14\" class=\"data row0 col14\" >0</td>\n",
       "      <td id=\"T_ce814_row0_col15\" class=\"data row0 col15\" >12</td>\n",
       "      <td id=\"T_ce814_row0_col16\" class=\"data row0 col16\" >CP1S</td>\n",
       "      <td id=\"T_ce814_row0_col17\" class=\"data row0 col17\" >SET</td>\n",
       "    </tr>\n",
       "  </tbody>\n",
       "</table>\n"
      ],
      "text/plain": [
       "<pandas.io.formats.style.Styler at 0x1d647e8c220>"
      ]
     },
     "execution_count": 40,
     "metadata": {},
     "output_type": "execute_result"
    }
   ],
   "source": [
    "sql = \"\"\"\n",
    "SELECT * \n",
    "FROM stocks \n",
    "WHERE name = '%s'\n",
    "\"\"\"\n",
    "sql = sql % name\n",
    "print(sql)\n",
    "\n",
    "stocks = pd.read_sql(sql, conlite)\n",
    "stocks.style.format(format_dict)"
   ]
  },
  {
   "cell_type": "markdown",
   "metadata": {},
   "source": [
    "sqlUpd = '''\n",
    "UPDATE stocks\n",
    "SET available_qty = available_qty + %s\n",
    "WHERE name = \"%s\"'''\n",
    "sqlUpd = sqlUpd % (qty, name)\n",
    "print(sqlUpd)\n",
    "\n",
    "rp = conlite.execute(sqlUpd)\n",
    "rp.rowcount"
   ]
  },
  {
   "cell_type": "markdown",
   "metadata": {},
   "source": [
    "### End of sell process to stocks table in sqlite port_lite database"
   ]
  },
  {
   "cell_type": "markdown",
   "metadata": {},
   "source": [
    "### Begin of Update table dividend in mysql stock database for sells transactions"
   ]
  },
  {
   "cell_type": "code",
   "execution_count": 34,
   "metadata": {},
   "outputs": [
    {
     "name": "stdout",
     "output_type": "stream",
     "text": [
      "\n",
      "SELECT * \n",
      "FROM dividend \n",
      "WHERE name = \"DCC\" \n",
      "\n"
     ]
    },
    {
     "data": {
      "text/html": [
       "<style type=\"text/css\">\n",
       "</style>\n",
       "<table id=\"T_5177d_\">\n",
       "  <thead>\n",
       "    <tr>\n",
       "      <th class=\"blank level0\" >&nbsp;</th>\n",
       "      <th class=\"col_heading level0 col0\" >NAME</th>\n",
       "      <th class=\"col_heading level0 col1\" >Q4</th>\n",
       "      <th class=\"col_heading level0 col2\" >Q3</th>\n",
       "      <th class=\"col_heading level0 col3\" >Q2</th>\n",
       "      <th class=\"col_heading level0 col4\" >Q1</th>\n",
       "      <th class=\"col_heading level0 col5\" >DIVIDEND</th>\n",
       "      <th class=\"col_heading level0 col6\" >PRICE</th>\n",
       "      <th class=\"col_heading level0 col7\" >PERCENT</th>\n",
       "      <th class=\"col_heading level0 col8\" >SHARES</th>\n",
       "      <th class=\"col_heading level0 col9\" >XDATE</th>\n",
       "      <th class=\"col_heading level0 col10\" >PAIDDATE</th>\n",
       "      <th class=\"col_heading level0 col11\" >KIND</th>\n",
       "      <th class=\"col_heading level0 col12\" >ACTUAL</th>\n",
       "    </tr>\n",
       "  </thead>\n",
       "  <tbody>\n",
       "    <tr>\n",
       "      <th id=\"T_5177d_level0_row0\" class=\"row_heading level0 row0\" >0</th>\n",
       "      <td id=\"T_5177d_row0_col0\" class=\"data row0 col0\" >DCC</td>\n",
       "      <td id=\"T_5177d_row0_col1\" class=\"data row0 col1\" >0.044</td>\n",
       "      <td id=\"T_5177d_row0_col2\" class=\"data row0 col2\" >0.040</td>\n",
       "      <td id=\"T_5177d_row0_col3\" class=\"data row0 col3\" >0.050</td>\n",
       "      <td id=\"T_5177d_row0_col4\" class=\"data row0 col4\" >0.050</td>\n",
       "      <td id=\"T_5177d_row0_col5\" class=\"data row0 col5\" >0.184</td>\n",
       "      <td id=\"T_5177d_row0_col6\" class=\"data row0 col6\" >0.00</td>\n",
       "      <td id=\"T_5177d_row0_col7\" class=\"data row0 col7\" >0.00%</td>\n",
       "      <td id=\"T_5177d_row0_col8\" class=\"data row0 col8\" >40,000.0</td>\n",
       "      <td id=\"T_5177d_row0_col9\" class=\"data row0 col9\" >2022-04-05</td>\n",
       "      <td id=\"T_5177d_row0_col10\" class=\"data row0 col10\" >2021-12-03</td>\n",
       "      <td id=\"T_5177d_row0_col11\" class=\"data row0 col11\" ></td>\n",
       "      <td id=\"T_5177d_row0_col12\" class=\"data row0 col12\" >0</td>\n",
       "    </tr>\n",
       "  </tbody>\n",
       "</table>\n"
      ],
      "text/plain": [
       "<pandas.io.formats.style.Styler at 0x1d647e770d0>"
      ]
     },
     "execution_count": 34,
     "metadata": {},
     "output_type": "execute_result"
    }
   ],
   "source": [
    "sql = \"\"\"\n",
    "SELECT * \n",
    "FROM dividend \n",
    "WHERE name = \"%s\" \n",
    "\"\"\"\n",
    "sql = sql % name\n",
    "print(sql)\n",
    "\n",
    "dividend = pd.read_sql(sql, const)\n",
    "dividend.style.format(format_dict)"
   ]
  },
  {
   "cell_type": "code",
   "execution_count": 35,
   "metadata": {},
   "outputs": [
    {
     "name": "stdout",
     "output_type": "stream",
     "text": [
      "\n",
      "UPDATE dividend\n",
      "SET shares = shares + -40000\n",
      "WHERE name = \"DCC\"\n"
     ]
    },
    {
     "data": {
      "text/plain": [
       "1"
      ]
     },
     "execution_count": 35,
     "metadata": {},
     "output_type": "execute_result"
    }
   ],
   "source": [
    "sqlUpd = '''\n",
    "UPDATE dividend\n",
    "SET shares = shares + %s\n",
    "WHERE name = \"%s\"'''\n",
    "sqlUpd = sqlUpd % (qty, name)\n",
    "print(sqlUpd)\n",
    "\n",
    "rp = const.execute(sqlUpd)\n",
    "rp.rowcount"
   ]
  },
  {
   "cell_type": "code",
   "execution_count": 38,
   "metadata": {},
   "outputs": [
    {
     "name": "stdout",
     "output_type": "stream",
     "text": [
      "\n",
      "SELECT * \n",
      "FROM dividend \n",
      "WHERE name = \"DCC\" \n",
      "\n"
     ]
    },
    {
     "data": {
      "text/plain": [
       "1"
      ]
     },
     "execution_count": 38,
     "metadata": {},
     "output_type": "execute_result"
    }
   ],
   "source": [
    "sqlDel = \"\"\"\n",
    "DELETE FROM dividend\n",
    "WHERE name = '%s' AND shares = 0\n",
    "\"\"\"\n",
    "sqlDel = sqlDel % name\n",
    "print(sqlDel)\n",
    "\n",
    "rp = const.execute(sqlDel)\n",
    "rp.rowcount"
   ]
  },
  {
   "cell_type": "markdown",
   "metadata": {},
   "source": [
    "### End of Update table dividend in mysql stock database for sells transactions"
   ]
  },
  {
   "cell_type": "markdown",
   "metadata": {},
   "source": [
    "### Buys transactions"
   ]
  },
  {
   "cell_type": "markdown",
   "metadata": {},
   "source": [
    "### Begin of buy process to buy table in mysql stock database"
   ]
  },
  {
   "cell_type": "code",
   "execution_count": 44,
   "metadata": {},
   "outputs": [
    {
     "name": "stdout",
     "output_type": "stream",
     "text": [
      "\n",
      "SELECT * \n",
      "FROM buy \n",
      "WHERE name = 'DCC'\n",
      "\n"
     ]
    },
    {
     "data": {
      "text/html": [
       "<div>\n",
       "<style scoped>\n",
       "    .dataframe tbody tr th:only-of-type {\n",
       "        vertical-align: middle;\n",
       "    }\n",
       "\n",
       "    .dataframe tbody tr th {\n",
       "        vertical-align: top;\n",
       "    }\n",
       "\n",
       "    .dataframe thead th {\n",
       "        text-align: right;\n",
       "    }\n",
       "</style>\n",
       "<table border=\"1\" class=\"dataframe\">\n",
       "  <thead>\n",
       "    <tr style=\"text-align: right;\">\n",
       "      <th></th>\n",
       "      <th>name</th>\n",
       "      <th>date</th>\n",
       "      <th>volbuy</th>\n",
       "      <th>price</th>\n",
       "      <th>volsell</th>\n",
       "      <th>volbal</th>\n",
       "      <th>active</th>\n",
       "      <th>dividend</th>\n",
       "      <th>period</th>\n",
       "      <th>grade</th>\n",
       "    </tr>\n",
       "  </thead>\n",
       "  <tbody>\n",
       "  </tbody>\n",
       "</table>\n",
       "</div>"
      ],
      "text/plain": [
       "Empty DataFrame\n",
       "Columns: [name, date, volbuy, price, volsell, volbal, active, dividend, period, grade]\n",
       "Index: []"
      ]
     },
     "execution_count": 44,
     "metadata": {},
     "output_type": "execute_result"
    }
   ],
   "source": [
    "sql = \"\"\"\n",
    "SELECT * \n",
    "FROM buy \n",
    "WHERE name = '%s'\n",
    "\"\"\"\n",
    "sql = sql % name\n",
    "print(sql)\n",
    "\n",
    "buy = pd.read_sql(sql, const)\n",
    "buy"
   ]
  },
  {
   "cell_type": "code",
   "execution_count": 47,
   "metadata": {},
   "outputs": [
    {
     "name": "stdout",
     "output_type": "stream",
     "text": [
      "\n",
      "UPDATE buy\n",
      "SET volbuy = volbuy + -40000, price = 0\n",
      "WHERE name = \"DCC\"\n"
     ]
    }
   ],
   "source": [
    "new_cost = 0  # new average cost must be calculated manually beforehand\n",
    "\n",
    "sqlUpd = '''\n",
    "UPDATE buy\n",
    "SET volbuy = volbuy + %s, price = %s\n",
    "WHERE name = \"%s\"'''\n",
    "sqlUpd = sqlUpd % (qty, new_cost, name)\n",
    "print(sqlUpd)"
   ]
  },
  {
   "cell_type": "code",
   "execution_count": 10,
   "metadata": {},
   "outputs": [
    {
     "data": {
      "text/plain": [
       "1"
      ]
     },
     "execution_count": 10,
     "metadata": {},
     "output_type": "execute_result"
    }
   ],
   "source": [
    "rp = const.execute(sqlUpd)\n",
    "rp.rowcount"
   ]
  },
  {
   "cell_type": "markdown",
   "metadata": {},
   "source": [
    "### End of buy process to buy table in mysql stock database"
   ]
  },
  {
   "cell_type": "markdown",
   "metadata": {},
   "source": [
    "### Begin of buy process to stocks table in sqlite port_lite database"
   ]
  },
  {
   "cell_type": "code",
   "execution_count": 48,
   "metadata": {},
   "outputs": [
    {
     "name": "stdout",
     "output_type": "stream",
     "text": [
      "\n",
      "SELECT * \n",
      "FROM stocks \n",
      "WHERE name = 'DCC'\n",
      "\n"
     ]
    },
    {
     "data": {
      "text/html": [
       "<style type=\"text/css\">\n",
       "</style>\n",
       "<table id=\"T_ab462_\">\n",
       "  <thead>\n",
       "    <tr>\n",
       "      <th class=\"blank level0\" >&nbsp;</th>\n",
       "      <th class=\"col_heading level0 col0\" >id</th>\n",
       "      <th class=\"col_heading level0 col1\" >name</th>\n",
       "      <th class=\"col_heading level0 col2\" >max_price</th>\n",
       "      <th class=\"col_heading level0 col3\" >min_price</th>\n",
       "      <th class=\"col_heading level0 col4\" >status</th>\n",
       "      <th class=\"col_heading level0 col5\" >buy_target</th>\n",
       "      <th class=\"col_heading level0 col6\" >sell_target</th>\n",
       "      <th class=\"col_heading level0 col7\" >volume</th>\n",
       "      <th class=\"col_heading level0 col8\" >beta</th>\n",
       "      <th class=\"col_heading level0 col9\" >cost</th>\n",
       "      <th class=\"col_heading level0 col10\" >qty</th>\n",
       "      <th class=\"col_heading level0 col11\" >buy_spread</th>\n",
       "      <th class=\"col_heading level0 col12\" >sell_spread</th>\n",
       "      <th class=\"col_heading level0 col13\" >available_qty</th>\n",
       "      <th class=\"col_heading level0 col14\" >bl</th>\n",
       "      <th class=\"col_heading level0 col15\" >sh</th>\n",
       "      <th class=\"col_heading level0 col16\" >reason</th>\n",
       "      <th class=\"col_heading level0 col17\" >market</th>\n",
       "    </tr>\n",
       "  </thead>\n",
       "  <tbody>\n",
       "    <tr>\n",
       "      <th id=\"T_ab462_level0_row0\" class=\"row_heading level0 row0\" >0</th>\n",
       "      <td id=\"T_ab462_row0_col0\" class=\"data row0 col0\" >519</td>\n",
       "      <td id=\"T_ab462_row0_col1\" class=\"data row0 col1\" >DCC</td>\n",
       "      <td id=\"T_ab462_row0_col2\" class=\"data row0 col2\" >3.40</td>\n",
       "      <td id=\"T_ab462_row0_col3\" class=\"data row0 col3\" >2.22</td>\n",
       "      <td id=\"T_ab462_row0_col4\" class=\"data row0 col4\" >I</td>\n",
       "      <td id=\"T_ab462_row0_col5\" class=\"data row0 col5\" >0.00</td>\n",
       "      <td id=\"T_ab462_row0_col6\" class=\"data row0 col6\" >2.92</td>\n",
       "      <td id=\"T_ab462_row0_col7\" class=\"data row0 col7\" >91.20</td>\n",
       "      <td id=\"T_ab462_row0_col8\" class=\"data row0 col8\" >0.57</td>\n",
       "      <td id=\"T_ab462_row0_col9\" class=\"data row0 col9\" >2.90</td>\n",
       "      <td id=\"T_ab462_row0_col10\" class=\"data row0 col10\" >40,000</td>\n",
       "      <td id=\"T_ab462_row0_col11\" class=\"data row0 col11\" >-7</td>\n",
       "      <td id=\"T_ab462_row0_col12\" class=\"data row0 col12\" >8</td>\n",
       "      <td id=\"T_ab462_row0_col13\" class=\"data row0 col13\" >0</td>\n",
       "      <td id=\"T_ab462_row0_col14\" class=\"data row0 col14\" >0</td>\n",
       "      <td id=\"T_ab462_row0_col15\" class=\"data row0 col15\" >12</td>\n",
       "      <td id=\"T_ab462_row0_col16\" class=\"data row0 col16\" >CP1S</td>\n",
       "      <td id=\"T_ab462_row0_col17\" class=\"data row0 col17\" >SET</td>\n",
       "    </tr>\n",
       "  </tbody>\n",
       "</table>\n"
      ],
      "text/plain": [
       "<pandas.io.formats.style.Styler at 0x1d647e9fc70>"
      ]
     },
     "execution_count": 48,
     "metadata": {},
     "output_type": "execute_result"
    }
   ],
   "source": [
    "sql = \"\"\"\n",
    "SELECT * \n",
    "FROM stocks \n",
    "WHERE name = '%s'\n",
    "\"\"\"\n",
    "sql = sql % name\n",
    "print(sql)\n",
    "\n",
    "stocks = pd.read_sql(sql, conlite)\n",
    "stocks.style.format(format_dict)"
   ]
  },
  {
   "cell_type": "code",
   "execution_count": 49,
   "metadata": {},
   "outputs": [
    {
     "name": "stdout",
     "output_type": "stream",
     "text": [
      "\n",
      "UPDATE stocks\n",
      "SET available_qty = available_qty + -40000\n",
      "WHERE name = \"DCC\"\n"
     ]
    },
    {
     "data": {
      "text/plain": [
       "1"
      ]
     },
     "execution_count": 49,
     "metadata": {},
     "output_type": "execute_result"
    }
   ],
   "source": [
    "sqlUpd = '''\n",
    "UPDATE stocks\n",
    "SET available_qty = available_qty + %s\n",
    "WHERE name = \"%s\"'''\n",
    "sqlUpd = sqlUpd % (qty, name)\n",
    "print(sqlUpd)\n",
    "\n",
    "rp = conlite.execute(sqlUpd)\n",
    "rp.rowcount"
   ]
  },
  {
   "cell_type": "markdown",
   "metadata": {},
   "source": [
    "### End of buy process to stocks table in sqlite port_lite database"
   ]
  },
  {
   "cell_type": "markdown",
   "metadata": {},
   "source": [
    "### Begin of Update table dividend in mysql stock database for buy transactions"
   ]
  },
  {
   "cell_type": "code",
   "execution_count": 50,
   "metadata": {},
   "outputs": [
    {
     "name": "stdout",
     "output_type": "stream",
     "text": [
      "\n",
      "SELECT * \n",
      "FROM dividend \n",
      "WHERE name = \"DCC\" \n",
      "\n"
     ]
    },
    {
     "data": {
      "text/html": [
       "<style type=\"text/css\">\n",
       "</style>\n",
       "<table id=\"T_89ca3_\">\n",
       "  <thead>\n",
       "    <tr>\n",
       "      <th class=\"blank level0\" >&nbsp;</th>\n",
       "      <th class=\"col_heading level0 col0\" >NAME</th>\n",
       "      <th class=\"col_heading level0 col1\" >Q4</th>\n",
       "      <th class=\"col_heading level0 col2\" >Q3</th>\n",
       "      <th class=\"col_heading level0 col3\" >Q2</th>\n",
       "      <th class=\"col_heading level0 col4\" >Q1</th>\n",
       "      <th class=\"col_heading level0 col5\" >DIVIDEND</th>\n",
       "      <th class=\"col_heading level0 col6\" >PRICE</th>\n",
       "      <th class=\"col_heading level0 col7\" >PERCENT</th>\n",
       "      <th class=\"col_heading level0 col8\" >SHARES</th>\n",
       "      <th class=\"col_heading level0 col9\" >XDATE</th>\n",
       "      <th class=\"col_heading level0 col10\" >PAIDDATE</th>\n",
       "      <th class=\"col_heading level0 col11\" >KIND</th>\n",
       "      <th class=\"col_heading level0 col12\" >ACTUAL</th>\n",
       "    </tr>\n",
       "  </thead>\n",
       "  <tbody>\n",
       "  </tbody>\n",
       "</table>\n"
      ],
      "text/plain": [
       "<pandas.io.formats.style.Styler at 0x1d647eb39a0>"
      ]
     },
     "execution_count": 50,
     "metadata": {},
     "output_type": "execute_result"
    }
   ],
   "source": [
    "sql = \"\"\"\n",
    "SELECT * \n",
    "FROM dividend \n",
    "WHERE name = \"%s\" \n",
    "\"\"\"\n",
    "sql = sql % name\n",
    "print(sql)\n",
    "\n",
    "dividend = pd.read_sql(sql, const)\n",
    "dividend.style.format(format_dict)"
   ]
  },
  {
   "cell_type": "code",
   "execution_count": null,
   "metadata": {},
   "outputs": [],
   "source": [
    "sqlUpd = '''\n",
    "UPDATE dividend\n",
    "SET shares = shares + %s\n",
    "WHERE name = \"%s\"'''\n",
    "sqlUpd = sqlUpd % (qty, name)\n",
    "print(sqlUpd)\n",
    "\n",
    "rp = const.execute(sqlUpd)\n",
    "rp.rowcount"
   ]
  },
  {
   "cell_type": "markdown",
   "metadata": {},
   "source": [
    "### End of Update table dividend in mysql stock database for buy transactions"
   ]
  }
 ],
 "metadata": {
  "anaconda-cloud": {},
  "kernelspec": {
   "display_name": "Python 3 (ipykernel)",
   "language": "python",
   "name": "python3"
  },
  "language_info": {
   "codemirror_mode": {
    "name": "ipython",
    "version": 3
   },
   "file_extension": ".py",
   "mimetype": "text/x-python",
   "name": "python",
   "nbconvert_exporter": "python",
   "pygments_lexer": "ipython3",
   "version": "3.8.11"
  }
 },
 "nbformat": 4,
 "nbformat_minor": 1
}
