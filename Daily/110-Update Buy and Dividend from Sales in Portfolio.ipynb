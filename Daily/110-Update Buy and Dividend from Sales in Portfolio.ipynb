{
 "cells": [
  {
   "cell_type": "code",
   "execution_count": 1,
   "metadata": {},
   "outputs": [
    {
     "data": {
      "text/plain": [
       "datetime.date(2022, 1, 19)"
      ]
     },
     "execution_count": 1,
     "metadata": {},
     "output_type": "execute_result"
    }
   ],
   "source": [
    "import pandas as pd\n",
    "from datetime import date, timedelta\n",
    "from sqlalchemy import create_engine\n",
    "\n",
    "engine = create_engine('mysql+pymysql://root:@localhost:3306/portfolio_development')\n",
    "conpf = engine.connect()\n",
    "\n",
    "engine = create_engine(\"mysql+pymysql://root:@localhost:3306/stock\")\n",
    "const = engine.connect()\n",
    "\n",
    "engine = create_engine(\"sqlite:///c:\\\\ruby\\\\port_lite\\\\db\\\\development.sqlite3\")\n",
    "conlite = engine.connect()\n",
    "\n",
    "today = date.today()\n",
    "today"
   ]
  },
  {
   "cell_type": "markdown",
   "metadata": {},
   "source": [
    "### Tables in the process"
   ]
  },
  {
   "cell_type": "code",
   "execution_count": 2,
   "metadata": {},
   "outputs": [],
   "source": [
    "format_dict = {\n",
    "    'qty':'{:,}','shares':'{:,}',\n",
    "    'price':'{:.2f}','buy_price':'{:.2f}',\n",
    "    'dividend':'{:.4f}',    \n",
    "    'fee':'{:,.2f}','vat':'{:,.2f}','net':'{:,.2f}',\n",
    "  \n",
    "    'days':'{:,}',\n",
    "    'price':'{:.2f}',\n",
    "    'fee':'{:,.2f}','vat':'{:,.2f}','net':'{:,.2f}','profit':'{:,.2f}',\n",
    "    'percent':'{:,.2f}%','yearly':'{:,.2f}%',   \n",
    "    \n",
    "    'SHARES':'{:,}',    \n",
    "    'Q4':'{:.4f}','Q3':'{:.4f}','Q2':'{:.4f}','Q1':'{:.4f}','DIVIDEND':'{:.4f}',\n",
    "    \n",
    "    'qty':'{:,}','available_qty':'{:,}',\n",
    "    'cost':'{:.2f}','max_price':'{:.2f}','min_price':'{:.2f}','buy_target':'{:.2f}','sell_target':'{:.2f}',\n",
    "    'volume':'{:,.2f}','beta':'{:,.2f}',\n",
    "    \n",
    "    'qty':'{:,}','available_qty':'{:,}',\n",
    "    'cost':'{:.2f}','max_price':'{:.2f}','min_price':'{:.2f}','buy_target':'{:.2f}','sell_target':'{:.2f}',\n",
    "    'volume':'{:,.2f}','beta':'{:,.2f}',\n",
    "    \n",
    "}"
   ]
  },
  {
   "cell_type": "code",
   "execution_count": 19,
   "metadata": {},
   "outputs": [
    {
     "data": {
      "text/html": [
       "<style type=\"text/css\">\n",
       "</style>\n",
       "<table id=\"T_00442_\">\n",
       "  <thead>\n",
       "    <tr>\n",
       "      <th class=\"blank level0\" >&nbsp;</th>\n",
       "      <th class=\"col_heading level0 col0\" >name</th>\n",
       "      <th class=\"col_heading level0 col1\" >stock_id</th>\n",
       "      <th class=\"col_heading level0 col2\" >buy_date</th>\n",
       "      <th class=\"col_heading level0 col3\" >qty</th>\n",
       "      <th class=\"col_heading level0 col4\" >buy_price</th>\n",
       "      <th class=\"col_heading level0 col5\" >id</th>\n",
       "      <th class=\"col_heading level0 col6\" >buy_id</th>\n",
       "      <th class=\"col_heading level0 col7\" >date</th>\n",
       "      <th class=\"col_heading level0 col8\" >price</th>\n",
       "      <th class=\"col_heading level0 col9\" >fee</th>\n",
       "      <th class=\"col_heading level0 col10\" >vat</th>\n",
       "      <th class=\"col_heading level0 col11\" >net</th>\n",
       "      <th class=\"col_heading level0 col12\" >days</th>\n",
       "      <th class=\"col_heading level0 col13\" >profit</th>\n",
       "      <th class=\"col_heading level0 col14\" >percent</th>\n",
       "      <th class=\"col_heading level0 col15\" >yearly</th>\n",
       "      <th class=\"col_heading level0 col16\" >sequence</th>\n",
       "      <th class=\"col_heading level0 col17\" >chart</th>\n",
       "      <th class=\"col_heading level0 col18\" >dividend_id</th>\n",
       "    </tr>\n",
       "  </thead>\n",
       "  <tbody>\n",
       "    <tr>\n",
       "      <th id=\"T_00442_level0_row0\" class=\"row_heading level0 row0\" >0</th>\n",
       "      <td id=\"T_00442_row0_col0\" class=\"data row0 col0\" >RCL</td>\n",
       "      <td id=\"T_00442_row0_col1\" class=\"data row0 col1\" >192</td>\n",
       "      <td id=\"T_00442_row0_col2\" class=\"data row0 col2\" >2021-11-08</td>\n",
       "      <td id=\"T_00442_row0_col3\" class=\"data row0 col3\" >1,500</td>\n",
       "      <td id=\"T_00442_row0_col4\" class=\"data row0 col4\" >44.50</td>\n",
       "      <td id=\"T_00442_row0_col5\" class=\"data row0 col5\" >908</td>\n",
       "      <td id=\"T_00442_row0_col6\" class=\"data row0 col6\" >1042</td>\n",
       "      <td id=\"T_00442_row0_col7\" class=\"data row0 col7\" >2022-01-19</td>\n",
       "      <td id=\"T_00442_row0_col8\" class=\"data row0 col8\" >49.50</td>\n",
       "      <td id=\"T_00442_row0_col9\" class=\"data row0 col9\" >153.70</td>\n",
       "      <td id=\"T_00442_row0_col10\" class=\"data row0 col10\" >10.76</td>\n",
       "      <td id=\"T_00442_row0_col11\" class=\"data row0 col11\" >74,085.54</td>\n",
       "      <td id=\"T_00442_row0_col12\" class=\"data row0 col12\" >72</td>\n",
       "      <td id=\"T_00442_row0_col13\" class=\"data row0 col13\" >7,187.70</td>\n",
       "      <td id=\"T_00442_row0_col14\" class=\"data row0 col14\" >10.74%</td>\n",
       "      <td id=\"T_00442_row0_col15\" class=\"data row0 col15\" >54.47%</td>\n",
       "      <td id=\"T_00442_row0_col16\" class=\"data row0 col16\" >92</td>\n",
       "      <td id=\"T_00442_row0_col17\" class=\"data row0 col17\" >None</td>\n",
       "      <td id=\"T_00442_row0_col18\" class=\"data row0 col18\" >0</td>\n",
       "    </tr>\n",
       "  </tbody>\n",
       "</table>\n"
      ],
      "text/plain": [
       "<pandas.io.formats.style.Styler at 0x164ea425a90>"
      ]
     },
     "execution_count": 19,
     "metadata": {},
     "output_type": "execute_result"
    }
   ],
   "source": [
    "# Sells table in MySQL portfolio database\n",
    "sql = \"\"\"\n",
    "SELECT name, stock_id, B.date AS buy_date, qty, B.price AS buy_price, S.* \n",
    "FROM sells S\n",
    "JOIN buys B ON S.buy_id = B.id\n",
    "JOIN stocks T ON B.stock_id = T.id\n",
    "ORDER BY S.id DESC\n",
    "LIMIT 1\"\"\"\n",
    "sells = pd.read_sql(sql, conpf)\n",
    "sells.style.format(format_dict)"
   ]
  },
  {
   "cell_type": "markdown",
   "metadata": {},
   "source": [
    "### In case of sale, retreive buy id from sells record (buy_id)"
   ]
  },
  {
   "cell_type": "code",
   "execution_count": 23,
   "metadata": {},
   "outputs": [
    {
     "name": "stdout",
     "output_type": "stream",
     "text": [
      "\n",
      "SELECT name, B.* \n",
      "FROM buys B\n",
      "JOIN stocks T \n",
      "ON B.stock_id = T.id\n",
      "WHERE B.id = 1042\n",
      "\n"
     ]
    },
    {
     "data": {
      "text/html": [
       "<style type=\"text/css\">\n",
       "</style>\n",
       "<table id=\"T_a6f67_\">\n",
       "  <thead>\n",
       "    <tr>\n",
       "      <th class=\"blank level0\" >&nbsp;</th>\n",
       "      <th class=\"col_heading level0 col0\" >name</th>\n",
       "      <th class=\"col_heading level0 col1\" >id</th>\n",
       "      <th class=\"col_heading level0 col2\" >stock_id</th>\n",
       "      <th class=\"col_heading level0 col3\" >date</th>\n",
       "      <th class=\"col_heading level0 col4\" >qty</th>\n",
       "      <th class=\"col_heading level0 col5\" >price</th>\n",
       "      <th class=\"col_heading level0 col6\" >fee</th>\n",
       "      <th class=\"col_heading level0 col7\" >vat</th>\n",
       "      <th class=\"col_heading level0 col8\" >status</th>\n",
       "      <th class=\"col_heading level0 col9\" >net</th>\n",
       "      <th class=\"col_heading level0 col10\" >kind</th>\n",
       "      <th class=\"col_heading level0 col11\" >chart</th>\n",
       "    </tr>\n",
       "  </thead>\n",
       "  <tbody>\n",
       "    <tr>\n",
       "      <th id=\"T_a6f67_level0_row0\" class=\"row_heading level0 row0\" >0</th>\n",
       "      <td id=\"T_a6f67_row0_col0\" class=\"data row0 col0\" >RCL</td>\n",
       "      <td id=\"T_a6f67_row0_col1\" class=\"data row0 col1\" >1042</td>\n",
       "      <td id=\"T_a6f67_row0_col2\" class=\"data row0 col2\" >192</td>\n",
       "      <td id=\"T_a6f67_row0_col3\" class=\"data row0 col3\" >2021-11-08</td>\n",
       "      <td id=\"T_a6f67_row0_col4\" class=\"data row0 col4\" >1,500</td>\n",
       "      <td id=\"T_a6f67_row0_col5\" class=\"data row0 col5\" >44.50</td>\n",
       "      <td id=\"T_a6f67_row0_col6\" class=\"data row0 col6\" >138.17</td>\n",
       "      <td id=\"T_a6f67_row0_col7\" class=\"data row0 col7\" >9.67</td>\n",
       "      <td id=\"T_a6f67_row0_col8\" class=\"data row0 col8\" >Sold</td>\n",
       "      <td id=\"T_a6f67_row0_col9\" class=\"data row0 col9\" >66,897.84</td>\n",
       "      <td id=\"T_a6f67_row0_col10\" class=\"data row0 col10\" >HD</td>\n",
       "      <td id=\"T_a6f67_row0_col11\" class=\"data row0 col11\" >None</td>\n",
       "    </tr>\n",
       "  </tbody>\n",
       "</table>\n"
      ],
      "text/plain": [
       "<pandas.io.formats.style.Styler at 0x164ee1329a0>"
      ]
     },
     "execution_count": 23,
     "metadata": {},
     "output_type": "execute_result"
    }
   ],
   "source": [
    "# Buys table in MySQL portfolio database\n",
    "transaction = 'S'\n",
    "\n",
    "names = sells['name']\n",
    "name = names.to_string(index=False)\n",
    "\n",
    "sr_qty = sells['qty']\n",
    "qty = sr_qty.to_string(index=False)\n",
    "qty = int(qty) * -1\n",
    "\n",
    "sr_price = sells['buy_price']\n",
    "buy_price = sr_price.to_string(index=False)\n",
    "buy_price = float(buy_price)\n",
    "\n",
    "sr_price = sells['price']\n",
    "sell_price = sr_price.to_string(index=False)\n",
    "sell_price = float(sell_price)\n",
    "\n",
    "buy_ids = sells['buy_id']\n",
    "buy_id = buy_ids.to_string(index=False)\n",
    "\n",
    "sql = \"\"\"\n",
    "SELECT name, B.* \n",
    "FROM buys B\n",
    "JOIN stocks T \n",
    "ON B.stock_id = T.id\n",
    "WHERE B.id = %s\n",
    "\"\"\"\n",
    "sql = sql % buy_id\n",
    "print(sql)\n",
    "\n",
    "buys = pd.read_sql(sql, conpf)\n",
    "buys.style.format(format_dict)"
   ]
  },
  {
   "cell_type": "code",
   "execution_count": 21,
   "metadata": {},
   "outputs": [
    {
     "data": {
      "text/plain": [
       "('S', 'RCL', -1500, 49.5, 44.5)"
      ]
     },
     "execution_count": 21,
     "metadata": {},
     "output_type": "execute_result"
    }
   ],
   "source": [
    "transaction, name, qty, sell_price, buy_price"
   ]
  },
  {
   "cell_type": "markdown",
   "metadata": {},
   "source": [
    "### In case of buy, retreive buy id from latest buy record (id)"
   ]
  },
  {
   "cell_type": "code",
   "execution_count": 22,
   "metadata": {},
   "outputs": [
    {
     "name": "stdout",
     "output_type": "stream",
     "text": [
      "\n",
      "SELECT name, B.* \n",
      "FROM buys B\n",
      "JOIN stocks T \n",
      "ON B.stock_id = T.id\n",
      "ORDER BY id DESC\n",
      "LIMIT 1\n",
      "\n"
     ]
    },
    {
     "data": {
      "text/html": [
       "<div>\n",
       "<style scoped>\n",
       "    .dataframe tbody tr th:only-of-type {\n",
       "        vertical-align: middle;\n",
       "    }\n",
       "\n",
       "    .dataframe tbody tr th {\n",
       "        vertical-align: top;\n",
       "    }\n",
       "\n",
       "    .dataframe thead th {\n",
       "        text-align: right;\n",
       "    }\n",
       "</style>\n",
       "<table border=\"1\" class=\"dataframe\">\n",
       "  <thead>\n",
       "    <tr style=\"text-align: right;\">\n",
       "      <th></th>\n",
       "      <th>name</th>\n",
       "      <th>id</th>\n",
       "      <th>stock_id</th>\n",
       "      <th>date</th>\n",
       "      <th>qty</th>\n",
       "      <th>price</th>\n",
       "      <th>fee</th>\n",
       "      <th>vat</th>\n",
       "      <th>status</th>\n",
       "      <th>net</th>\n",
       "      <th>kind</th>\n",
       "      <th>chart</th>\n",
       "    </tr>\n",
       "  </thead>\n",
       "  <tbody>\n",
       "    <tr>\n",
       "      <th>0</th>\n",
       "      <td>SCC</td>\n",
       "      <td>1103</td>\n",
       "      <td>86</td>\n",
       "      <td>2022-01-18</td>\n",
       "      <td>300</td>\n",
       "      <td>384.0</td>\n",
       "      <td>238.46</td>\n",
       "      <td>16.69</td>\n",
       "      <td>Active</td>\n",
       "      <td>115455.15</td>\n",
       "      <td>DTD</td>\n",
       "      <td>None</td>\n",
       "    </tr>\n",
       "  </tbody>\n",
       "</table>\n",
       "</div>"
      ],
      "text/plain": [
       "  name    id  stock_id        date  qty  price     fee    vat  status  \\\n",
       "0  SCC  1103        86  2022-01-18  300  384.0  238.46  16.69  Active   \n",
       "\n",
       "         net kind chart  \n",
       "0  115455.15  DTD  None  "
      ]
     },
     "execution_count": 22,
     "metadata": {},
     "output_type": "execute_result"
    }
   ],
   "source": [
    "sql = \"\"\"\n",
    "SELECT name, B.* \n",
    "FROM buys B\n",
    "JOIN stocks T \n",
    "ON B.stock_id = T.id\n",
    "ORDER BY id DESC\n",
    "LIMIT 1\n",
    "\"\"\"\n",
    "print(sql)\n",
    "buys = pd.read_sql(sql, conpf)\n",
    "buys"
   ]
  },
  {
   "cell_type": "code",
   "execution_count": 53,
   "metadata": {},
   "outputs": [
    {
     "data": {
      "text/plain": [
       "('B', 'SCC', 300, 384.0)"
      ]
     },
     "execution_count": 53,
     "metadata": {},
     "output_type": "execute_result"
    }
   ],
   "source": [
    "transaction = 'B'\n",
    "\n",
    "names = buys['name']\n",
    "name = names.to_string(index=False)\n",
    "\n",
    "sr_qty = buys['qty']\n",
    "qty = sr_qty.to_string(index=False)\n",
    "qty = int(qty)\n",
    "\n",
    "sr_price = buys['price']\n",
    "buy_price = sr_price.to_string(index=False)\n",
    "buy_price = float(buy_price)\n",
    "\n",
    "transaction, name, qty, buy_price"
   ]
  },
  {
   "cell_type": "markdown",
   "metadata": {},
   "source": [
    "## Begin of Sale transaction"
   ]
  },
  {
   "cell_type": "markdown",
   "metadata": {},
   "source": [
    "### Begin of Update buy table in MySQL stock database from sale transaction"
   ]
  },
  {
   "cell_type": "code",
   "execution_count": 24,
   "metadata": {},
   "outputs": [
    {
     "name": "stdout",
     "output_type": "stream",
     "text": [
      "\n",
      "SELECT * \n",
      "FROM buy \n",
      "WHERE name = 'RCL'\n",
      "\n"
     ]
    },
    {
     "data": {
      "text/html": [
       "<style type=\"text/css\">\n",
       "</style>\n",
       "<table id=\"T_9da76_\">\n",
       "  <thead>\n",
       "    <tr>\n",
       "      <th class=\"blank level0\" >&nbsp;</th>\n",
       "      <th class=\"col_heading level0 col0\" >name</th>\n",
       "      <th class=\"col_heading level0 col1\" >date</th>\n",
       "      <th class=\"col_heading level0 col2\" >shares</th>\n",
       "      <th class=\"col_heading level0 col3\" >price</th>\n",
       "      <th class=\"col_heading level0 col4\" >active</th>\n",
       "      <th class=\"col_heading level0 col5\" >dividend</th>\n",
       "      <th class=\"col_heading level0 col6\" >period</th>\n",
       "      <th class=\"col_heading level0 col7\" >grade</th>\n",
       "    </tr>\n",
       "  </thead>\n",
       "  <tbody>\n",
       "    <tr>\n",
       "      <th id=\"T_9da76_level0_row0\" class=\"row_heading level0 row0\" >0</th>\n",
       "      <td id=\"T_9da76_row0_col0\" class=\"data row0 col0\" >RCL</td>\n",
       "      <td id=\"T_9da76_row0_col1\" class=\"data row0 col1\" >2021-11-08</td>\n",
       "      <td id=\"T_9da76_row0_col2\" class=\"data row0 col2\" >6,000</td>\n",
       "      <td id=\"T_9da76_row0_col3\" class=\"data row0 col3\" >44.50</td>\n",
       "      <td id=\"T_9da76_row0_col4\" class=\"data row0 col4\" >1</td>\n",
       "      <td id=\"T_9da76_row0_col5\" class=\"data row0 col5\" >3.5000</td>\n",
       "      <td id=\"T_9da76_row0_col6\" class=\"data row0 col6\" >3</td>\n",
       "      <td id=\"T_9da76_row0_col7\" class=\"data row0 col7\" >A4</td>\n",
       "    </tr>\n",
       "  </tbody>\n",
       "</table>\n"
      ],
      "text/plain": [
       "<pandas.io.formats.style.Styler at 0x164ee095760>"
      ]
     },
     "execution_count": 24,
     "metadata": {},
     "output_type": "execute_result"
    }
   ],
   "source": [
    "sql = \"\"\"\n",
    "SELECT * \n",
    "FROM buy \n",
    "WHERE name = '%s'\n",
    "\"\"\"\n",
    "sql = sql % name\n",
    "print(sql)\n",
    "\n",
    "buy = pd.read_sql(sql, const)\n",
    "buy.drop(['volsell', 'volbal'], axis=1, inplace=True)\n",
    "buy.rename(columns={'volbuy':'shares'},inplace=True)\n",
    "buy['shares'] = buy['shares'].astype('int64')\n",
    "buy.style.format(format_dict)"
   ]
  },
  {
   "cell_type": "code",
   "execution_count": 25,
   "metadata": {},
   "outputs": [
    {
     "name": "stdout",
     "output_type": "stream",
     "text": [
      "\n",
      "UPDATE buy\n",
      "SET volbuy = volbuy + -1500\n",
      "WHERE name = 'RCL'\n",
      "\n"
     ]
    }
   ],
   "source": [
    "sqlUpd = \"\"\"\n",
    "UPDATE buy\n",
    "SET volbuy = volbuy + %s\n",
    "WHERE name = '%s'\n",
    "\"\"\"\n",
    "sqlUpd = sqlUpd % (qty, name)\n",
    "print(sqlUpd)"
   ]
  },
  {
   "cell_type": "code",
   "execution_count": 26,
   "metadata": {},
   "outputs": [
    {
     "data": {
      "text/plain": [
       "1"
      ]
     },
     "execution_count": 26,
     "metadata": {},
     "output_type": "execute_result"
    }
   ],
   "source": [
    "rp = const.execute(sqlUpd)\n",
    "rp.rowcount"
   ]
  },
  {
   "cell_type": "code",
   "execution_count": 27,
   "metadata": {},
   "outputs": [
    {
     "name": "stdout",
     "output_type": "stream",
     "text": [
      "\n",
      "SELECT * \n",
      "FROM buy \n",
      "WHERE name = 'RCL'\n",
      "\n"
     ]
    },
    {
     "data": {
      "text/html": [
       "<div>\n",
       "<style scoped>\n",
       "    .dataframe tbody tr th:only-of-type {\n",
       "        vertical-align: middle;\n",
       "    }\n",
       "\n",
       "    .dataframe tbody tr th {\n",
       "        vertical-align: top;\n",
       "    }\n",
       "\n",
       "    .dataframe thead th {\n",
       "        text-align: right;\n",
       "    }\n",
       "</style>\n",
       "<table border=\"1\" class=\"dataframe\">\n",
       "  <thead>\n",
       "    <tr style=\"text-align: right;\">\n",
       "      <th></th>\n",
       "      <th>name</th>\n",
       "      <th>date</th>\n",
       "      <th>volbuy</th>\n",
       "      <th>price</th>\n",
       "      <th>volsell</th>\n",
       "      <th>volbal</th>\n",
       "      <th>active</th>\n",
       "      <th>dividend</th>\n",
       "      <th>period</th>\n",
       "      <th>grade</th>\n",
       "    </tr>\n",
       "  </thead>\n",
       "  <tbody>\n",
       "    <tr>\n",
       "      <th>0</th>\n",
       "      <td>RCL</td>\n",
       "      <td>2021-11-08</td>\n",
       "      <td>4500.0</td>\n",
       "      <td>44.5</td>\n",
       "      <td>0.0</td>\n",
       "      <td>0.0</td>\n",
       "      <td>1</td>\n",
       "      <td>3.5</td>\n",
       "      <td>3</td>\n",
       "      <td>A4</td>\n",
       "    </tr>\n",
       "  </tbody>\n",
       "</table>\n",
       "</div>"
      ],
      "text/plain": [
       "  name        date  volbuy  price  volsell  volbal  active  dividend period  \\\n",
       "0  RCL  2021-11-08  4500.0   44.5      0.0     0.0       1       3.5      3   \n",
       "\n",
       "  grade  \n",
       "0    A4  "
      ]
     },
     "execution_count": 27,
     "metadata": {},
     "output_type": "execute_result"
    }
   ],
   "source": [
    "sql = \"\"\"\n",
    "SELECT * \n",
    "FROM buy \n",
    "WHERE name = '%s'\n",
    "\"\"\"\n",
    "sql = sql % name\n",
    "print(sql)\n",
    "\n",
    "buy = pd.read_sql(sql, const)\n",
    "buy"
   ]
  },
  {
   "cell_type": "markdown",
   "metadata": {},
   "source": [
    "### If shares become zero and no longer wants to keep buy record"
   ]
  },
  {
   "cell_type": "code",
   "execution_count": 18,
   "metadata": {},
   "outputs": [
    {
     "name": "stdout",
     "output_type": "stream",
     "text": [
      "\n",
      "DELETE FROM buy\n",
      "WHERE name = 'SAT' AND volbuy = 0\n",
      "\n"
     ]
    }
   ],
   "source": [
    "sqlDel = \"\"\"\n",
    "DELETE FROM buy\n",
    "WHERE name = '%s' AND volbuy = 0\n",
    "\"\"\"\n",
    "sqlDel = sqlDel % name\n",
    "print(sqlDel)"
   ]
  },
  {
   "cell_type": "code",
   "execution_count": 19,
   "metadata": {},
   "outputs": [
    {
     "data": {
      "text/plain": [
       "1"
      ]
     },
     "execution_count": 19,
     "metadata": {},
     "output_type": "execute_result"
    }
   ],
   "source": [
    "rp = const.execute(sqlDel)\n",
    "rp.rowcount"
   ]
  },
  {
   "cell_type": "markdown",
   "metadata": {},
   "source": [
    "### End of Update buy table in MySQL stock database from sale transaction"
   ]
  },
  {
   "cell_type": "markdown",
   "metadata": {},
   "source": [
    "### Begin of Update dividend table in MySQL stock database from sale transaction"
   ]
  },
  {
   "cell_type": "code",
   "execution_count": 28,
   "metadata": {},
   "outputs": [
    {
     "name": "stdout",
     "output_type": "stream",
     "text": [
      "\n",
      "SELECT * \n",
      "FROM dividend \n",
      "WHERE name = 'RCL'\n",
      "\n"
     ]
    },
    {
     "data": {
      "text/html": [
       "<style type=\"text/css\">\n",
       "</style>\n",
       "<table id=\"T_3ca8a_\">\n",
       "  <thead>\n",
       "    <tr>\n",
       "      <th class=\"blank level0\" >&nbsp;</th>\n",
       "      <th class=\"col_heading level0 col0\" >NAME</th>\n",
       "      <th class=\"col_heading level0 col1\" >Q4</th>\n",
       "      <th class=\"col_heading level0 col2\" >Q3</th>\n",
       "      <th class=\"col_heading level0 col3\" >Q2</th>\n",
       "      <th class=\"col_heading level0 col4\" >Q1</th>\n",
       "      <th class=\"col_heading level0 col5\" >DIVIDEND</th>\n",
       "      <th class=\"col_heading level0 col6\" >SHARES</th>\n",
       "      <th class=\"col_heading level0 col7\" >XDATE</th>\n",
       "      <th class=\"col_heading level0 col8\" >PAIDDATE</th>\n",
       "      <th class=\"col_heading level0 col9\" >KIND</th>\n",
       "      <th class=\"col_heading level0 col10\" >ACTUAL</th>\n",
       "    </tr>\n",
       "  </thead>\n",
       "  <tbody>\n",
       "    <tr>\n",
       "      <th id=\"T_3ca8a_level0_row0\" class=\"row_heading level0 row0\" >0</th>\n",
       "      <td id=\"T_3ca8a_row0_col0\" class=\"data row0 col0\" >RCL</td>\n",
       "      <td id=\"T_3ca8a_row0_col1\" class=\"data row0 col1\" >0.5000</td>\n",
       "      <td id=\"T_3ca8a_row0_col2\" class=\"data row0 col2\" >1.5000</td>\n",
       "      <td id=\"T_3ca8a_row0_col3\" class=\"data row0 col3\" >1.5000</td>\n",
       "      <td id=\"T_3ca8a_row0_col4\" class=\"data row0 col4\" >0.0000</td>\n",
       "      <td id=\"T_3ca8a_row0_col5\" class=\"data row0 col5\" >3.5000</td>\n",
       "      <td id=\"T_3ca8a_row0_col6\" class=\"data row0 col6\" >6,000</td>\n",
       "      <td id=\"T_3ca8a_row0_col7\" class=\"data row0 col7\" >2021-12-03</td>\n",
       "      <td id=\"T_3ca8a_row0_col8\" class=\"data row0 col8\" >2021-12-03</td>\n",
       "      <td id=\"T_3ca8a_row0_col9\" class=\"data row0 col9\" ></td>\n",
       "      <td id=\"T_3ca8a_row0_col10\" class=\"data row0 col10\" >0</td>\n",
       "    </tr>\n",
       "  </tbody>\n",
       "</table>\n"
      ],
      "text/plain": [
       "<pandas.io.formats.style.Styler at 0x164ee0e2790>"
      ]
     },
     "execution_count": 28,
     "metadata": {},
     "output_type": "execute_result"
    }
   ],
   "source": [
    "sql = \"\"\"\n",
    "SELECT * \n",
    "FROM dividend \n",
    "WHERE name = '%s'\n",
    "\"\"\"\n",
    "sql = sql % name\n",
    "print(sql)\n",
    "\n",
    "dividend = pd.read_sql(sql, const)\n",
    "dividend.drop(['PRICE', 'PERCENT'], axis=1, inplace=True)\n",
    "dividend['SHARES'] = dividend['SHARES'].astype('int64')\n",
    "dividend.style.format(format_dict)"
   ]
  },
  {
   "cell_type": "code",
   "execution_count": 29,
   "metadata": {},
   "outputs": [
    {
     "name": "stdout",
     "output_type": "stream",
     "text": [
      "\n",
      "UPDATE dividend\n",
      "SET shares = shares + -1500\n",
      "WHERE name = 'RCL'\n",
      "\n"
     ]
    }
   ],
   "source": [
    "sqlUpd = \"\"\"\n",
    "UPDATE dividend\n",
    "SET shares = shares + %s\n",
    "WHERE name = '%s'\n",
    "\"\"\"\n",
    "sqlUpd = sqlUpd % (qty, name)\n",
    "print(sqlUpd)"
   ]
  },
  {
   "cell_type": "code",
   "execution_count": 30,
   "metadata": {},
   "outputs": [
    {
     "data": {
      "text/plain": [
       "1"
      ]
     },
     "execution_count": 30,
     "metadata": {},
     "output_type": "execute_result"
    }
   ],
   "source": [
    "rp = const.execute(sqlUpd)\n",
    "rp.rowcount"
   ]
  },
  {
   "cell_type": "code",
   "execution_count": 31,
   "metadata": {},
   "outputs": [
    {
     "name": "stdout",
     "output_type": "stream",
     "text": [
      "\n",
      "SELECT * \n",
      "FROM dividend \n",
      "WHERE name = 'RCL'\n",
      "\n"
     ]
    },
    {
     "data": {
      "text/html": [
       "<style type=\"text/css\">\n",
       "</style>\n",
       "<table id=\"T_f8f2f_\">\n",
       "  <thead>\n",
       "    <tr>\n",
       "      <th class=\"blank level0\" >&nbsp;</th>\n",
       "      <th class=\"col_heading level0 col0\" >NAME</th>\n",
       "      <th class=\"col_heading level0 col1\" >Q4</th>\n",
       "      <th class=\"col_heading level0 col2\" >Q3</th>\n",
       "      <th class=\"col_heading level0 col3\" >Q2</th>\n",
       "      <th class=\"col_heading level0 col4\" >Q1</th>\n",
       "      <th class=\"col_heading level0 col5\" >DIVIDEND</th>\n",
       "      <th class=\"col_heading level0 col6\" >SHARES</th>\n",
       "      <th class=\"col_heading level0 col7\" >XDATE</th>\n",
       "      <th class=\"col_heading level0 col8\" >PAIDDATE</th>\n",
       "      <th class=\"col_heading level0 col9\" >KIND</th>\n",
       "      <th class=\"col_heading level0 col10\" >ACTUAL</th>\n",
       "    </tr>\n",
       "  </thead>\n",
       "  <tbody>\n",
       "    <tr>\n",
       "      <th id=\"T_f8f2f_level0_row0\" class=\"row_heading level0 row0\" >0</th>\n",
       "      <td id=\"T_f8f2f_row0_col0\" class=\"data row0 col0\" >RCL</td>\n",
       "      <td id=\"T_f8f2f_row0_col1\" class=\"data row0 col1\" >0.5000</td>\n",
       "      <td id=\"T_f8f2f_row0_col2\" class=\"data row0 col2\" >1.5000</td>\n",
       "      <td id=\"T_f8f2f_row0_col3\" class=\"data row0 col3\" >1.5000</td>\n",
       "      <td id=\"T_f8f2f_row0_col4\" class=\"data row0 col4\" >0.0000</td>\n",
       "      <td id=\"T_f8f2f_row0_col5\" class=\"data row0 col5\" >3.5000</td>\n",
       "      <td id=\"T_f8f2f_row0_col6\" class=\"data row0 col6\" >4,500</td>\n",
       "      <td id=\"T_f8f2f_row0_col7\" class=\"data row0 col7\" >2021-12-03</td>\n",
       "      <td id=\"T_f8f2f_row0_col8\" class=\"data row0 col8\" >2021-12-03</td>\n",
       "      <td id=\"T_f8f2f_row0_col9\" class=\"data row0 col9\" ></td>\n",
       "      <td id=\"T_f8f2f_row0_col10\" class=\"data row0 col10\" >0</td>\n",
       "    </tr>\n",
       "  </tbody>\n",
       "</table>\n"
      ],
      "text/plain": [
       "<pandas.io.formats.style.Styler at 0x164ea425b80>"
      ]
     },
     "execution_count": 31,
     "metadata": {},
     "output_type": "execute_result"
    }
   ],
   "source": [
    "sql = \"\"\"\n",
    "SELECT * \n",
    "FROM dividend \n",
    "WHERE name = '%s'\n",
    "\"\"\"\n",
    "sql = sql % name\n",
    "print(sql)\n",
    "\n",
    "dividend = pd.read_sql(sql, const)\n",
    "dividend.drop(['PRICE', 'PERCENT'], axis=1, inplace=True)\n",
    "dividend['SHARES'] = dividend['SHARES'].astype('int64')\n",
    "dividend.style.format(format_dict)"
   ]
  },
  {
   "cell_type": "markdown",
   "metadata": {},
   "source": [
    "### If shares become zero and no longer wants to keep dividend record"
   ]
  },
  {
   "cell_type": "code",
   "execution_count": null,
   "metadata": {},
   "outputs": [],
   "source": [
    "sqlDel = \"\"\"\n",
    "DELETE FROM dividend\n",
    "WHERE name = '%s' AND shares = 0\n",
    "\"\"\"\n",
    "sqlDel = sqlDel % name\n",
    "print(sqlDel)"
   ]
  },
  {
   "cell_type": "code",
   "execution_count": null,
   "metadata": {},
   "outputs": [],
   "source": [
    "rp = const.execute(sqlDel)\n",
    "rp.rowcount"
   ]
  },
  {
   "cell_type": "markdown",
   "metadata": {},
   "source": [
    "### End of Update dividend table in MySQL stock database from sale transaction"
   ]
  },
  {
   "cell_type": "markdown",
   "metadata": {},
   "source": [
    "### Begin of Update stocks table in SQLite port_lite database from sale transaction"
   ]
  },
  {
   "cell_type": "code",
   "execution_count": 32,
   "metadata": {},
   "outputs": [
    {
     "name": "stdout",
     "output_type": "stream",
     "text": [
      "\n",
      "SELECT * \n",
      "FROM stocks \n",
      "WHERE name = 'RCL'\n",
      "\n"
     ]
    },
    {
     "data": {
      "text/html": [
       "<style type=\"text/css\">\n",
       "</style>\n",
       "<table id=\"T_58284_\">\n",
       "  <thead>\n",
       "    <tr>\n",
       "      <th class=\"blank level0\" >&nbsp;</th>\n",
       "      <th class=\"col_heading level0 col0\" >id</th>\n",
       "      <th class=\"col_heading level0 col1\" >name</th>\n",
       "      <th class=\"col_heading level0 col2\" >max_price</th>\n",
       "      <th class=\"col_heading level0 col3\" >min_price</th>\n",
       "      <th class=\"col_heading level0 col4\" >status</th>\n",
       "      <th class=\"col_heading level0 col5\" >buy_target</th>\n",
       "      <th class=\"col_heading level0 col6\" >sell_target</th>\n",
       "      <th class=\"col_heading level0 col7\" >volume</th>\n",
       "      <th class=\"col_heading level0 col8\" >beta</th>\n",
       "      <th class=\"col_heading level0 col9\" >cost</th>\n",
       "      <th class=\"col_heading level0 col10\" >qty</th>\n",
       "      <th class=\"col_heading level0 col11\" >buy_spread</th>\n",
       "      <th class=\"col_heading level0 col12\" >sell_spread</th>\n",
       "      <th class=\"col_heading level0 col13\" >available_qty</th>\n",
       "      <th class=\"col_heading level0 col14\" >bl</th>\n",
       "      <th class=\"col_heading level0 col15\" >sh</th>\n",
       "      <th class=\"col_heading level0 col16\" >reason</th>\n",
       "      <th class=\"col_heading level0 col17\" >market</th>\n",
       "    </tr>\n",
       "  </thead>\n",
       "  <tbody>\n",
       "    <tr>\n",
       "      <th id=\"T_58284_level0_row0\" class=\"row_heading level0 row0\" >0</th>\n",
       "      <td id=\"T_58284_row0_col0\" class=\"data row0 col0\" >662</td>\n",
       "      <td id=\"T_58284_row0_col1\" class=\"data row0 col1\" >RCL</td>\n",
       "      <td id=\"T_58284_row0_col2\" class=\"data row0 col2\" >67.75</td>\n",
       "      <td id=\"T_58284_row0_col3\" class=\"data row0 col3\" >17.40</td>\n",
       "      <td id=\"T_58284_row0_col4\" class=\"data row0 col4\" >I</td>\n",
       "      <td id=\"T_58284_row0_col5\" class=\"data row0 col5\" >47.00</td>\n",
       "      <td id=\"T_58284_row0_col6\" class=\"data row0 col6\" >53.50</td>\n",
       "      <td id=\"T_58284_row0_col7\" class=\"data row0 col7\" >517.59</td>\n",
       "      <td id=\"T_58284_row0_col8\" class=\"data row0 col8\" >0.63</td>\n",
       "      <td id=\"T_58284_row0_col9\" class=\"data row0 col9\" >44.50</td>\n",
       "      <td id=\"T_58284_row0_col10\" class=\"data row0 col10\" >1,500</td>\n",
       "      <td id=\"T_58284_row0_col11\" class=\"data row0 col11\" >-16</td>\n",
       "      <td id=\"T_58284_row0_col12\" class=\"data row0 col12\" >26</td>\n",
       "      <td id=\"T_58284_row0_col13\" class=\"data row0 col13\" >6,000</td>\n",
       "      <td id=\"T_58284_row0_col14\" class=\"data row0 col14\" >0</td>\n",
       "      <td id=\"T_58284_row0_col15\" class=\"data row0 col15\" >0</td>\n",
       "      <td id=\"T_58284_row0_col16\" class=\"data row0 col16\" >20pct</td>\n",
       "      <td id=\"T_58284_row0_col17\" class=\"data row0 col17\" >SET100</td>\n",
       "    </tr>\n",
       "  </tbody>\n",
       "</table>\n"
      ],
      "text/plain": [
       "<pandas.io.formats.style.Styler at 0x164ee0e27f0>"
      ]
     },
     "execution_count": 32,
     "metadata": {},
     "output_type": "execute_result"
    }
   ],
   "source": [
    "sql = \"\"\"\n",
    "SELECT * \n",
    "FROM stocks \n",
    "WHERE name = '%s'\n",
    "\"\"\"\n",
    "sql = sql % name\n",
    "print(sql)\n",
    "\n",
    "stocks = pd.read_sql(sql, conlite)\n",
    "stocks.style.format(format_dict)"
   ]
  },
  {
   "cell_type": "code",
   "execution_count": 35,
   "metadata": {},
   "outputs": [
    {
     "name": "stdout",
     "output_type": "stream",
     "text": [
      "\n",
      "UPDATE stocks\n",
      "SET available_qty = available_qty + -1500,\n",
      "qty = 1500, buy_target = 46.5, sell_target = 49.0, reason = '10pct'\n",
      "WHERE name = 'RCL'\n",
      "\n"
     ]
    }
   ],
   "source": [
    "buy_target  = 46.50   # must calculate manually beforehand\n",
    "sell_target = 49.00\n",
    "reason = \"10pct\"\n",
    "sell_qty = 1500\n",
    "\n",
    "sqlUpd = \"\"\"\n",
    "UPDATE stocks\n",
    "SET available_qty = available_qty + %s,\n",
    "qty = %s, buy_target = %s, sell_target = %s, reason = '%s'\n",
    "WHERE name = '%s'\n",
    "\"\"\"\n",
    "sqlUpd = sqlUpd % (qty, sell_qty, buy_target, sell_target, reason, name)\n",
    "print(sqlUpd)"
   ]
  },
  {
   "cell_type": "code",
   "execution_count": 36,
   "metadata": {},
   "outputs": [
    {
     "data": {
      "text/plain": [
       "1"
      ]
     },
     "execution_count": 36,
     "metadata": {},
     "output_type": "execute_result"
    }
   ],
   "source": [
    "rp = conlite.execute(sqlUpd)\n",
    "rp.rowcount"
   ]
  },
  {
   "cell_type": "code",
   "execution_count": 37,
   "metadata": {},
   "outputs": [
    {
     "name": "stdout",
     "output_type": "stream",
     "text": [
      "\n",
      "SELECT * \n",
      "FROM stocks \n",
      "WHERE name = 'RCL'\n",
      "\n"
     ]
    },
    {
     "data": {
      "text/html": [
       "<style type=\"text/css\">\n",
       "</style>\n",
       "<table id=\"T_041b8_\">\n",
       "  <thead>\n",
       "    <tr>\n",
       "      <th class=\"blank level0\" >&nbsp;</th>\n",
       "      <th class=\"col_heading level0 col0\" >id</th>\n",
       "      <th class=\"col_heading level0 col1\" >name</th>\n",
       "      <th class=\"col_heading level0 col2\" >max_price</th>\n",
       "      <th class=\"col_heading level0 col3\" >min_price</th>\n",
       "      <th class=\"col_heading level0 col4\" >status</th>\n",
       "      <th class=\"col_heading level0 col5\" >buy_target</th>\n",
       "      <th class=\"col_heading level0 col6\" >sell_target</th>\n",
       "      <th class=\"col_heading level0 col7\" >volume</th>\n",
       "      <th class=\"col_heading level0 col8\" >beta</th>\n",
       "      <th class=\"col_heading level0 col9\" >cost</th>\n",
       "      <th class=\"col_heading level0 col10\" >qty</th>\n",
       "      <th class=\"col_heading level0 col11\" >buy_spread</th>\n",
       "      <th class=\"col_heading level0 col12\" >sell_spread</th>\n",
       "      <th class=\"col_heading level0 col13\" >available_qty</th>\n",
       "      <th class=\"col_heading level0 col14\" >bl</th>\n",
       "      <th class=\"col_heading level0 col15\" >sh</th>\n",
       "      <th class=\"col_heading level0 col16\" >reason</th>\n",
       "      <th class=\"col_heading level0 col17\" >market</th>\n",
       "    </tr>\n",
       "  </thead>\n",
       "  <tbody>\n",
       "    <tr>\n",
       "      <th id=\"T_041b8_level0_row0\" class=\"row_heading level0 row0\" >0</th>\n",
       "      <td id=\"T_041b8_row0_col0\" class=\"data row0 col0\" >662</td>\n",
       "      <td id=\"T_041b8_row0_col1\" class=\"data row0 col1\" >RCL</td>\n",
       "      <td id=\"T_041b8_row0_col2\" class=\"data row0 col2\" >67.75</td>\n",
       "      <td id=\"T_041b8_row0_col3\" class=\"data row0 col3\" >17.40</td>\n",
       "      <td id=\"T_041b8_row0_col4\" class=\"data row0 col4\" >I</td>\n",
       "      <td id=\"T_041b8_row0_col5\" class=\"data row0 col5\" >46.50</td>\n",
       "      <td id=\"T_041b8_row0_col6\" class=\"data row0 col6\" >49.00</td>\n",
       "      <td id=\"T_041b8_row0_col7\" class=\"data row0 col7\" >517.59</td>\n",
       "      <td id=\"T_041b8_row0_col8\" class=\"data row0 col8\" >0.63</td>\n",
       "      <td id=\"T_041b8_row0_col9\" class=\"data row0 col9\" >44.50</td>\n",
       "      <td id=\"T_041b8_row0_col10\" class=\"data row0 col10\" >1,500</td>\n",
       "      <td id=\"T_041b8_row0_col11\" class=\"data row0 col11\" >-16</td>\n",
       "      <td id=\"T_041b8_row0_col12\" class=\"data row0 col12\" >26</td>\n",
       "      <td id=\"T_041b8_row0_col13\" class=\"data row0 col13\" >4,500</td>\n",
       "      <td id=\"T_041b8_row0_col14\" class=\"data row0 col14\" >0</td>\n",
       "      <td id=\"T_041b8_row0_col15\" class=\"data row0 col15\" >0</td>\n",
       "      <td id=\"T_041b8_row0_col16\" class=\"data row0 col16\" >10pct</td>\n",
       "      <td id=\"T_041b8_row0_col17\" class=\"data row0 col17\" >SET100</td>\n",
       "    </tr>\n",
       "  </tbody>\n",
       "</table>\n"
      ],
      "text/plain": [
       "<pandas.io.formats.style.Styler at 0x164ee152d90>"
      ]
     },
     "execution_count": 37,
     "metadata": {},
     "output_type": "execute_result"
    }
   ],
   "source": [
    "sql = \"\"\"\n",
    "SELECT * \n",
    "FROM stocks \n",
    "WHERE name = '%s'\n",
    "\"\"\"\n",
    "sql = sql % name\n",
    "print(sql)\n",
    "\n",
    "stocks = pd.read_sql(sql, conlite)\n",
    "stocks.style.format(format_dict)"
   ]
  },
  {
   "cell_type": "markdown",
   "metadata": {},
   "source": [
    "### End of Update stocks table in SQLite port_lite database from sale transaction"
   ]
  },
  {
   "cell_type": "markdown",
   "metadata": {},
   "source": [
    "## End of Sale process"
   ]
  },
  {
   "cell_type": "markdown",
   "metadata": {},
   "source": [
    "## Begin of  Buy process"
   ]
  },
  {
   "cell_type": "markdown",
   "metadata": {},
   "source": [
    "### Begin of Update buy table in MySQL database from buy transaction"
   ]
  },
  {
   "cell_type": "code",
   "execution_count": 54,
   "metadata": {},
   "outputs": [
    {
     "name": "stdout",
     "output_type": "stream",
     "text": [
      "\n",
      "SELECT * \n",
      "FROM buy \n",
      "WHERE name = 'SCC'\n",
      "\n"
     ]
    },
    {
     "data": {
      "text/html": [
       "<style type=\"text/css\">\n",
       "</style>\n",
       "<table id=\"T_a5d07_\">\n",
       "  <thead>\n",
       "    <tr>\n",
       "      <th class=\"blank level0\" >&nbsp;</th>\n",
       "      <th class=\"col_heading level0 col0\" >name</th>\n",
       "      <th class=\"col_heading level0 col1\" >date</th>\n",
       "      <th class=\"col_heading level0 col2\" >shares</th>\n",
       "      <th class=\"col_heading level0 col3\" >price</th>\n",
       "      <th class=\"col_heading level0 col4\" >active</th>\n",
       "      <th class=\"col_heading level0 col5\" >dividend</th>\n",
       "      <th class=\"col_heading level0 col6\" >period</th>\n",
       "      <th class=\"col_heading level0 col7\" >grade</th>\n",
       "    </tr>\n",
       "  </thead>\n",
       "  <tbody>\n",
       "    <tr>\n",
       "      <th id=\"T_a5d07_level0_row0\" class=\"row_heading level0 row0\" >0</th>\n",
       "      <td id=\"T_a5d07_row0_col0\" class=\"data row0 col0\" >SCC</td>\n",
       "      <td id=\"T_a5d07_row0_col1\" class=\"data row0 col1\" >2021-09-20</td>\n",
       "      <td id=\"T_a5d07_row0_col2\" class=\"data row0 col2\" >600</td>\n",
       "      <td id=\"T_a5d07_row0_col3\" class=\"data row0 col3\" >405.00</td>\n",
       "      <td id=\"T_a5d07_row0_col4\" class=\"data row0 col4\" >1</td>\n",
       "      <td id=\"T_a5d07_row0_col5\" class=\"data row0 col5\" >9.9999</td>\n",
       "      <td id=\"T_a5d07_row0_col6\" class=\"data row0 col6\" >3</td>\n",
       "      <td id=\"T_a5d07_row0_col7\" class=\"data row0 col7\" >A2</td>\n",
       "    </tr>\n",
       "  </tbody>\n",
       "</table>\n"
      ],
      "text/plain": [
       "<pandas.io.formats.style.Styler at 0x2397d695910>"
      ]
     },
     "execution_count": 54,
     "metadata": {},
     "output_type": "execute_result"
    }
   ],
   "source": [
    "sql = \"\"\"\n",
    "SELECT * \n",
    "FROM buy \n",
    "WHERE name = '%s'\n",
    "\"\"\"\n",
    "sql = sql % name\n",
    "print(sql)\n",
    "\n",
    "buy = pd.read_sql(sql, const)\n",
    "buy.drop(['volsell', 'volbal'], axis=1, inplace=True)\n",
    "buy.rename(columns={'volbuy':'shares'},inplace=True)\n",
    "buy['shares'] = buy['shares'].astype('int64')\n",
    "buy.style.format(format_dict)"
   ]
  },
  {
   "cell_type": "markdown",
   "metadata": {},
   "source": [
    "### In case there is the same stock name in port"
   ]
  },
  {
   "cell_type": "code",
   "execution_count": 55,
   "metadata": {},
   "outputs": [
    {
     "name": "stdout",
     "output_type": "stream",
     "text": [
      "\n",
      "UPDATE buy\n",
      "SET volbuy = volbuy + 300, price = 398\n",
      "WHERE name = 'SCC'\n",
      "\n"
     ]
    }
   ],
   "source": [
    "new_cost = 398 # new average cost must be calculated manually beforehand\n",
    "\n",
    "sqlUpd = \"\"\"\n",
    "UPDATE buy\n",
    "SET volbuy = volbuy + %s, price = %s\n",
    "WHERE name = '%s'\n",
    "\"\"\"\n",
    "sqlUpd = sqlUpd % (qty, new_cost, name)\n",
    "print(sqlUpd)"
   ]
  },
  {
   "cell_type": "code",
   "execution_count": 56,
   "metadata": {},
   "outputs": [
    {
     "data": {
      "text/plain": [
       "1"
      ]
     },
     "execution_count": 56,
     "metadata": {},
     "output_type": "execute_result"
    }
   ],
   "source": [
    "rp = const.execute(sqlUpd)\n",
    "rp.rowcount"
   ]
  },
  {
   "cell_type": "code",
   "execution_count": 57,
   "metadata": {},
   "outputs": [
    {
     "name": "stdout",
     "output_type": "stream",
     "text": [
      "\n",
      "SELECT * \n",
      "FROM buy \n",
      "WHERE name = 'SCC'\n",
      "\n"
     ]
    },
    {
     "data": {
      "text/html": [
       "<style type=\"text/css\">\n",
       "</style>\n",
       "<table id=\"T_b6db3_\">\n",
       "  <thead>\n",
       "    <tr>\n",
       "      <th class=\"blank level0\" >&nbsp;</th>\n",
       "      <th class=\"col_heading level0 col0\" >name</th>\n",
       "      <th class=\"col_heading level0 col1\" >date</th>\n",
       "      <th class=\"col_heading level0 col2\" >shares</th>\n",
       "      <th class=\"col_heading level0 col3\" >price</th>\n",
       "      <th class=\"col_heading level0 col4\" >active</th>\n",
       "      <th class=\"col_heading level0 col5\" >dividend</th>\n",
       "      <th class=\"col_heading level0 col6\" >period</th>\n",
       "      <th class=\"col_heading level0 col7\" >grade</th>\n",
       "    </tr>\n",
       "  </thead>\n",
       "  <tbody>\n",
       "    <tr>\n",
       "      <th id=\"T_b6db3_level0_row0\" class=\"row_heading level0 row0\" >0</th>\n",
       "      <td id=\"T_b6db3_row0_col0\" class=\"data row0 col0\" >SCC</td>\n",
       "      <td id=\"T_b6db3_row0_col1\" class=\"data row0 col1\" >2021-09-20</td>\n",
       "      <td id=\"T_b6db3_row0_col2\" class=\"data row0 col2\" >900</td>\n",
       "      <td id=\"T_b6db3_row0_col3\" class=\"data row0 col3\" >398.00</td>\n",
       "      <td id=\"T_b6db3_row0_col4\" class=\"data row0 col4\" >1</td>\n",
       "      <td id=\"T_b6db3_row0_col5\" class=\"data row0 col5\" >9.9999</td>\n",
       "      <td id=\"T_b6db3_row0_col6\" class=\"data row0 col6\" >3</td>\n",
       "      <td id=\"T_b6db3_row0_col7\" class=\"data row0 col7\" >A2</td>\n",
       "    </tr>\n",
       "  </tbody>\n",
       "</table>\n"
      ],
      "text/plain": [
       "<pandas.io.formats.style.Styler at 0x2390135c460>"
      ]
     },
     "execution_count": 57,
     "metadata": {},
     "output_type": "execute_result"
    }
   ],
   "source": [
    "sql = \"\"\"\n",
    "SELECT * \n",
    "FROM buy \n",
    "WHERE name = '%s'\n",
    "\"\"\"\n",
    "sql = sql % name\n",
    "print(sql)\n",
    "\n",
    "buy = pd.read_sql(sql, const)\n",
    "buy.drop(['volsell', 'volbal'], axis=1, inplace=True)\n",
    "buy.rename(columns={'volbuy':'shares'},inplace=True)\n",
    "buy['shares'] = buy['shares'].astype('int64')\n",
    "buy.style.format(format_dict)"
   ]
  },
  {
   "cell_type": "markdown",
   "metadata": {},
   "source": [
    "### In case of totally new stock"
   ]
  },
  {
   "cell_type": "code",
   "execution_count": null,
   "metadata": {},
   "outputs": [],
   "source": [
    "sqlIns = \"\"\"\n",
    "INSERT INTO buy \n",
    "VALUES('LPF','2022-01-14',10000,14,0,0,1,0,'4','A3')\n",
    "\"\"\"\n",
    "print(sqlIns)"
   ]
  },
  {
   "cell_type": "code",
   "execution_count": null,
   "metadata": {},
   "outputs": [],
   "source": [
    "#rp = const.execute(sqlIns)\n",
    "rp.rowcount"
   ]
  },
  {
   "cell_type": "markdown",
   "metadata": {},
   "source": [
    "### End of Update buy table in MySQL database from buy transaction"
   ]
  },
  {
   "cell_type": "markdown",
   "metadata": {},
   "source": [
    "### Begin of Update dividend table in MySQL stock database from buy transaction"
   ]
  },
  {
   "cell_type": "code",
   "execution_count": 58,
   "metadata": {},
   "outputs": [
    {
     "name": "stdout",
     "output_type": "stream",
     "text": [
      "\n",
      "SELECT * \n",
      "FROM dividend \n",
      "WHERE name = 'SCC' \n",
      "\n"
     ]
    },
    {
     "data": {
      "text/html": [
       "<style type=\"text/css\">\n",
       "</style>\n",
       "<table id=\"T_33e29_\">\n",
       "  <thead>\n",
       "    <tr>\n",
       "      <th class=\"blank level0\" >&nbsp;</th>\n",
       "      <th class=\"col_heading level0 col0\" >NAME</th>\n",
       "      <th class=\"col_heading level0 col1\" >Q4</th>\n",
       "      <th class=\"col_heading level0 col2\" >Q3</th>\n",
       "      <th class=\"col_heading level0 col3\" >Q2</th>\n",
       "      <th class=\"col_heading level0 col4\" >Q1</th>\n",
       "      <th class=\"col_heading level0 col5\" >DIVIDEND</th>\n",
       "      <th class=\"col_heading level0 col6\" >SHARES</th>\n",
       "      <th class=\"col_heading level0 col7\" >XDATE</th>\n",
       "      <th class=\"col_heading level0 col8\" >PAIDDATE</th>\n",
       "      <th class=\"col_heading level0 col9\" >KIND</th>\n",
       "      <th class=\"col_heading level0 col10\" >ACTUAL</th>\n",
       "    </tr>\n",
       "  </thead>\n",
       "  <tbody>\n",
       "    <tr>\n",
       "      <th id=\"T_33e29_level0_row0\" class=\"row_heading level0 row0\" >0</th>\n",
       "      <td id=\"T_33e29_row0_col0\" class=\"data row0 col0\" >SCC</td>\n",
       "      <td id=\"T_33e29_row0_col1\" class=\"data row0 col1\" >8.5000</td>\n",
       "      <td id=\"T_33e29_row0_col2\" class=\"data row0 col2\" >0.0000</td>\n",
       "      <td id=\"T_33e29_row0_col3\" class=\"data row0 col3\" >8.5000</td>\n",
       "      <td id=\"T_33e29_row0_col4\" class=\"data row0 col4\" >0.0000</td>\n",
       "      <td id=\"T_33e29_row0_col5\" class=\"data row0 col5\" >17.0000</td>\n",
       "      <td id=\"T_33e29_row0_col6\" class=\"data row0 col6\" >600</td>\n",
       "      <td id=\"T_33e29_row0_col7\" class=\"data row0 col7\" >2021-08-27</td>\n",
       "      <td id=\"T_33e29_row0_col8\" class=\"data row0 col8\" >2021-08-27</td>\n",
       "      <td id=\"T_33e29_row0_col9\" class=\"data row0 col9\" ></td>\n",
       "      <td id=\"T_33e29_row0_col10\" class=\"data row0 col10\" >0</td>\n",
       "    </tr>\n",
       "  </tbody>\n",
       "</table>\n"
      ],
      "text/plain": [
       "<pandas.io.formats.style.Styler at 0x2390160a400>"
      ]
     },
     "execution_count": 58,
     "metadata": {},
     "output_type": "execute_result"
    }
   ],
   "source": [
    "sql = \"\"\"\n",
    "SELECT * \n",
    "FROM dividend \n",
    "WHERE name = '%s' \n",
    "\"\"\"\n",
    "sql = sql % name\n",
    "print(sql)\n",
    "\n",
    "dividend = pd.read_sql(sql, const)\n",
    "dividend.drop(['PRICE', 'PERCENT'], axis=1, inplace=True)\n",
    "dividend['SHARES'] = dividend['SHARES'].astype('int64')\n",
    "dividend.style.format(format_dict)"
   ]
  },
  {
   "cell_type": "code",
   "execution_count": 59,
   "metadata": {},
   "outputs": [
    {
     "name": "stdout",
     "output_type": "stream",
     "text": [
      "\n",
      "UPDATE dividend\n",
      "SET shares = shares + 300\n",
      "WHERE name = 'SCC'\n",
      "\n"
     ]
    }
   ],
   "source": [
    "sqlUpd = \"\"\"\n",
    "UPDATE dividend\n",
    "SET shares = shares + %s\n",
    "WHERE name = '%s'\n",
    "\"\"\"\n",
    "sqlUpd = sqlUpd % (qty, name)\n",
    "print(sqlUpd)"
   ]
  },
  {
   "cell_type": "code",
   "execution_count": 60,
   "metadata": {},
   "outputs": [
    {
     "data": {
      "text/plain": [
       "1"
      ]
     },
     "execution_count": 60,
     "metadata": {},
     "output_type": "execute_result"
    }
   ],
   "source": [
    "rp = const.execute(sqlUpd)\n",
    "rp.rowcount"
   ]
  },
  {
   "cell_type": "code",
   "execution_count": 61,
   "metadata": {},
   "outputs": [
    {
     "name": "stdout",
     "output_type": "stream",
     "text": [
      "\n",
      "SELECT * \n",
      "FROM dividend \n",
      "WHERE name = 'SCC' \n",
      "\n"
     ]
    },
    {
     "data": {
      "text/html": [
       "<style type=\"text/css\">\n",
       "</style>\n",
       "<table id=\"T_6fd37_\">\n",
       "  <thead>\n",
       "    <tr>\n",
       "      <th class=\"blank level0\" >&nbsp;</th>\n",
       "      <th class=\"col_heading level0 col0\" >NAME</th>\n",
       "      <th class=\"col_heading level0 col1\" >Q4</th>\n",
       "      <th class=\"col_heading level0 col2\" >Q3</th>\n",
       "      <th class=\"col_heading level0 col3\" >Q2</th>\n",
       "      <th class=\"col_heading level0 col4\" >Q1</th>\n",
       "      <th class=\"col_heading level0 col5\" >DIVIDEND</th>\n",
       "      <th class=\"col_heading level0 col6\" >SHARES</th>\n",
       "      <th class=\"col_heading level0 col7\" >XDATE</th>\n",
       "      <th class=\"col_heading level0 col8\" >PAIDDATE</th>\n",
       "      <th class=\"col_heading level0 col9\" >KIND</th>\n",
       "      <th class=\"col_heading level0 col10\" >ACTUAL</th>\n",
       "    </tr>\n",
       "  </thead>\n",
       "  <tbody>\n",
       "    <tr>\n",
       "      <th id=\"T_6fd37_level0_row0\" class=\"row_heading level0 row0\" >0</th>\n",
       "      <td id=\"T_6fd37_row0_col0\" class=\"data row0 col0\" >SCC</td>\n",
       "      <td id=\"T_6fd37_row0_col1\" class=\"data row0 col1\" >8.5000</td>\n",
       "      <td id=\"T_6fd37_row0_col2\" class=\"data row0 col2\" >0.0000</td>\n",
       "      <td id=\"T_6fd37_row0_col3\" class=\"data row0 col3\" >8.5000</td>\n",
       "      <td id=\"T_6fd37_row0_col4\" class=\"data row0 col4\" >0.0000</td>\n",
       "      <td id=\"T_6fd37_row0_col5\" class=\"data row0 col5\" >17.0000</td>\n",
       "      <td id=\"T_6fd37_row0_col6\" class=\"data row0 col6\" >900</td>\n",
       "      <td id=\"T_6fd37_row0_col7\" class=\"data row0 col7\" >2021-08-27</td>\n",
       "      <td id=\"T_6fd37_row0_col8\" class=\"data row0 col8\" >2021-08-27</td>\n",
       "      <td id=\"T_6fd37_row0_col9\" class=\"data row0 col9\" ></td>\n",
       "      <td id=\"T_6fd37_row0_col10\" class=\"data row0 col10\" >0</td>\n",
       "    </tr>\n",
       "  </tbody>\n",
       "</table>\n"
      ],
      "text/plain": [
       "<pandas.io.formats.style.Styler at 0x2390165ad00>"
      ]
     },
     "execution_count": 61,
     "metadata": {},
     "output_type": "execute_result"
    }
   ],
   "source": [
    "sql = \"\"\"\n",
    "SELECT * \n",
    "FROM dividend \n",
    "WHERE name = '%s' \n",
    "\"\"\"\n",
    "sql = sql % name\n",
    "print(sql)\n",
    "\n",
    "dividend = pd.read_sql(sql, const)\n",
    "dividend.drop(['PRICE', 'PERCENT'], axis=1, inplace=True)\n",
    "dividend['SHARES'] = dividend['SHARES'].astype('int64')\n",
    "dividend.style.format(format_dict)"
   ]
  },
  {
   "cell_type": "markdown",
   "metadata": {},
   "source": [
    "### End of Update dividend table in MySQL stock database from buy transaction"
   ]
  },
  {
   "cell_type": "markdown",
   "metadata": {},
   "source": [
    "### Begin of Update stocks table in SQLite port_lite database from buy transaction"
   ]
  },
  {
   "cell_type": "code",
   "execution_count": 62,
   "metadata": {},
   "outputs": [
    {
     "name": "stdout",
     "output_type": "stream",
     "text": [
      "\n",
      "SELECT * \n",
      "FROM stocks \n",
      "WHERE name = 'SCC'\n",
      "\n"
     ]
    }
   ],
   "source": [
    "sql = \"\"\"\n",
    "SELECT * \n",
    "FROM stocks \n",
    "WHERE name = '%s'\n",
    "\"\"\"\n",
    "sql = sql % name\n",
    "print(sql)"
   ]
  },
  {
   "cell_type": "code",
   "execution_count": 63,
   "metadata": {
    "scrolled": true
   },
   "outputs": [
    {
     "data": {
      "text/html": [
       "<style type=\"text/css\">\n",
       "</style>\n",
       "<table id=\"T_dbea1_\">\n",
       "  <thead>\n",
       "    <tr>\n",
       "      <th class=\"blank level0\" >&nbsp;</th>\n",
       "      <th class=\"col_heading level0 col0\" >id</th>\n",
       "      <th class=\"col_heading level0 col1\" >name</th>\n",
       "      <th class=\"col_heading level0 col2\" >max_price</th>\n",
       "      <th class=\"col_heading level0 col3\" >min_price</th>\n",
       "      <th class=\"col_heading level0 col4\" >status</th>\n",
       "      <th class=\"col_heading level0 col5\" >buy_target</th>\n",
       "      <th class=\"col_heading level0 col6\" >sell_target</th>\n",
       "      <th class=\"col_heading level0 col7\" >volume</th>\n",
       "      <th class=\"col_heading level0 col8\" >beta</th>\n",
       "      <th class=\"col_heading level0 col9\" >cost</th>\n",
       "      <th class=\"col_heading level0 col10\" >qty</th>\n",
       "      <th class=\"col_heading level0 col11\" >buy_spread</th>\n",
       "      <th class=\"col_heading level0 col12\" >sell_spread</th>\n",
       "      <th class=\"col_heading level0 col13\" >available_qty</th>\n",
       "      <th class=\"col_heading level0 col14\" >bl</th>\n",
       "      <th class=\"col_heading level0 col15\" >sh</th>\n",
       "      <th class=\"col_heading level0 col16\" >reason</th>\n",
       "      <th class=\"col_heading level0 col17\" >market</th>\n",
       "    </tr>\n",
       "  </thead>\n",
       "  <tbody>\n",
       "    <tr>\n",
       "      <th id=\"T_dbea1_level0_row0\" class=\"row_heading level0 row0\" >0</th>\n",
       "      <td id=\"T_dbea1_row0_col0\" class=\"data row0 col0\" >578</td>\n",
       "      <td id=\"T_dbea1_row0_col1\" class=\"data row0 col1\" >SCC</td>\n",
       "      <td id=\"T_dbea1_row0_col2\" class=\"data row0 col2\" >474.00</td>\n",
       "      <td id=\"T_dbea1_row0_col3\" class=\"data row0 col3\" >364.00</td>\n",
       "      <td id=\"T_dbea1_row0_col4\" class=\"data row0 col4\" >B</td>\n",
       "      <td id=\"T_dbea1_row0_col5\" class=\"data row0 col5\" >384.00</td>\n",
       "      <td id=\"T_dbea1_row0_col6\" class=\"data row0 col6\" >0.00</td>\n",
       "      <td id=\"T_dbea1_row0_col7\" class=\"data row0 col7\" >1,022.91</td>\n",
       "      <td id=\"T_dbea1_row0_col8\" class=\"data row0 col8\" >0.66</td>\n",
       "      <td id=\"T_dbea1_row0_col9\" class=\"data row0 col9\" >405.00</td>\n",
       "      <td id=\"T_dbea1_row0_col10\" class=\"data row0 col10\" >300</td>\n",
       "      <td id=\"T_dbea1_row0_col11\" class=\"data row0 col11\" >-17</td>\n",
       "      <td id=\"T_dbea1_row0_col12\" class=\"data row0 col12\" >16</td>\n",
       "      <td id=\"T_dbea1_row0_col13\" class=\"data row0 col13\" >600</td>\n",
       "      <td id=\"T_dbea1_row0_col14\" class=\"data row0 col14\" >0</td>\n",
       "      <td id=\"T_dbea1_row0_col15\" class=\"data row0 col15\" >12</td>\n",
       "      <td id=\"T_dbea1_row0_col16\" class=\"data row0 col16\" >RD05pct</td>\n",
       "      <td id=\"T_dbea1_row0_col17\" class=\"data row0 col17\" >SET50</td>\n",
       "    </tr>\n",
       "  </tbody>\n",
       "</table>\n"
      ],
      "text/plain": [
       "<pandas.io.formats.style.Styler at 0x2390164ecd0>"
      ]
     },
     "execution_count": 63,
     "metadata": {},
     "output_type": "execute_result"
    }
   ],
   "source": [
    "stocks = pd.read_sql(sql, conlite)\n",
    "stocks.style.format(format_dict)"
   ]
  },
  {
   "cell_type": "code",
   "execution_count": 64,
   "metadata": {},
   "outputs": [
    {
     "data": {
      "text/plain": [
       "(398, 378, 418, 'B', 'RD05pct', 300, 300)"
      ]
     },
     "execution_count": 64,
     "metadata": {},
     "output_type": "execute_result"
    }
   ],
   "source": [
    "new_cost = 398\n",
    "buy_target = 378\n",
    "sell_target = 418\n",
    "status = 'B'\n",
    "reason = 'RD05pct'\n",
    "new_buy_qty = 300\n",
    "new_sell_qty = 300\n",
    "new_cost, buy_target, sell_target, status, reason, new_buy_qty, new_sell_qty "
   ]
  },
  {
   "cell_type": "code",
   "execution_count": 65,
   "metadata": {},
   "outputs": [
    {
     "name": "stdout",
     "output_type": "stream",
     "text": [
      "\n",
      "UPDATE stocks\n",
      "SET available_qty = available_qty + 300, \n",
      "cost = 398, buy_target = 378, sell_target = 418, status = 'B', \n",
      "reason = 'RD05pct', qty = 300\n",
      "WHERE name = 'SCC'\n",
      "\n"
     ]
    }
   ],
   "source": [
    "sqlUpd = \"\"\"\n",
    "UPDATE stocks\n",
    "SET available_qty = available_qty + %s, \n",
    "cost = %s, buy_target = %s, sell_target = %s, status = '%s', \n",
    "reason = '%s', qty = %s\n",
    "WHERE name = '%s'\n",
    "\"\"\"\n",
    "sqlUpd = sqlUpd % (qty, new_cost, buy_target, sell_target, status, reason, new_sell_qty, name)\n",
    "print(sqlUpd)"
   ]
  },
  {
   "cell_type": "code",
   "execution_count": 66,
   "metadata": {},
   "outputs": [
    {
     "data": {
      "text/plain": [
       "1"
      ]
     },
     "execution_count": 66,
     "metadata": {},
     "output_type": "execute_result"
    }
   ],
   "source": [
    "rp = conlite.execute(sqlUpd)\n",
    "rp.rowcount"
   ]
  },
  {
   "cell_type": "code",
   "execution_count": 67,
   "metadata": {},
   "outputs": [
    {
     "name": "stdout",
     "output_type": "stream",
     "text": [
      "\n",
      "SELECT * \n",
      "FROM stocks \n",
      "WHERE name = 'SCC'\n",
      "\n"
     ]
    },
    {
     "data": {
      "text/html": [
       "<style type=\"text/css\">\n",
       "</style>\n",
       "<table id=\"T_317ab_\">\n",
       "  <thead>\n",
       "    <tr>\n",
       "      <th class=\"blank level0\" >&nbsp;</th>\n",
       "      <th class=\"col_heading level0 col0\" >id</th>\n",
       "      <th class=\"col_heading level0 col1\" >name</th>\n",
       "      <th class=\"col_heading level0 col2\" >max_price</th>\n",
       "      <th class=\"col_heading level0 col3\" >min_price</th>\n",
       "      <th class=\"col_heading level0 col4\" >status</th>\n",
       "      <th class=\"col_heading level0 col5\" >buy_target</th>\n",
       "      <th class=\"col_heading level0 col6\" >sell_target</th>\n",
       "      <th class=\"col_heading level0 col7\" >volume</th>\n",
       "      <th class=\"col_heading level0 col8\" >beta</th>\n",
       "      <th class=\"col_heading level0 col9\" >cost</th>\n",
       "      <th class=\"col_heading level0 col10\" >qty</th>\n",
       "      <th class=\"col_heading level0 col11\" >buy_spread</th>\n",
       "      <th class=\"col_heading level0 col12\" >sell_spread</th>\n",
       "      <th class=\"col_heading level0 col13\" >available_qty</th>\n",
       "      <th class=\"col_heading level0 col14\" >bl</th>\n",
       "      <th class=\"col_heading level0 col15\" >sh</th>\n",
       "      <th class=\"col_heading level0 col16\" >reason</th>\n",
       "      <th class=\"col_heading level0 col17\" >market</th>\n",
       "    </tr>\n",
       "  </thead>\n",
       "  <tbody>\n",
       "    <tr>\n",
       "      <th id=\"T_317ab_level0_row0\" class=\"row_heading level0 row0\" >0</th>\n",
       "      <td id=\"T_317ab_row0_col0\" class=\"data row0 col0\" >578</td>\n",
       "      <td id=\"T_317ab_row0_col1\" class=\"data row0 col1\" >SCC</td>\n",
       "      <td id=\"T_317ab_row0_col2\" class=\"data row0 col2\" >474.00</td>\n",
       "      <td id=\"T_317ab_row0_col3\" class=\"data row0 col3\" >364.00</td>\n",
       "      <td id=\"T_317ab_row0_col4\" class=\"data row0 col4\" >B</td>\n",
       "      <td id=\"T_317ab_row0_col5\" class=\"data row0 col5\" >378.00</td>\n",
       "      <td id=\"T_317ab_row0_col6\" class=\"data row0 col6\" >418.00</td>\n",
       "      <td id=\"T_317ab_row0_col7\" class=\"data row0 col7\" >1,022.91</td>\n",
       "      <td id=\"T_317ab_row0_col8\" class=\"data row0 col8\" >0.66</td>\n",
       "      <td id=\"T_317ab_row0_col9\" class=\"data row0 col9\" >398.00</td>\n",
       "      <td id=\"T_317ab_row0_col10\" class=\"data row0 col10\" >300</td>\n",
       "      <td id=\"T_317ab_row0_col11\" class=\"data row0 col11\" >-17</td>\n",
       "      <td id=\"T_317ab_row0_col12\" class=\"data row0 col12\" >16</td>\n",
       "      <td id=\"T_317ab_row0_col13\" class=\"data row0 col13\" >900</td>\n",
       "      <td id=\"T_317ab_row0_col14\" class=\"data row0 col14\" >0</td>\n",
       "      <td id=\"T_317ab_row0_col15\" class=\"data row0 col15\" >12</td>\n",
       "      <td id=\"T_317ab_row0_col16\" class=\"data row0 col16\" >RD05pct</td>\n",
       "      <td id=\"T_317ab_row0_col17\" class=\"data row0 col17\" >SET50</td>\n",
       "    </tr>\n",
       "  </tbody>\n",
       "</table>\n"
      ],
      "text/plain": [
       "<pandas.io.formats.style.Styler at 0x23901631d30>"
      ]
     },
     "execution_count": 67,
     "metadata": {},
     "output_type": "execute_result"
    }
   ],
   "source": [
    "sql = \"\"\"\n",
    "SELECT * \n",
    "FROM stocks \n",
    "WHERE name = '%s'\n",
    "\"\"\"\n",
    "sql = sql % name\n",
    "print(sql)\n",
    "\n",
    "stocks = pd.read_sql(sql, conlite)\n",
    "stocks.style.format(format_dict)"
   ]
  },
  {
   "cell_type": "markdown",
   "metadata": {},
   "source": [
    "### End of Update stocks table in SQLite port_lite database from buy transaction"
   ]
  },
  {
   "cell_type": "markdown",
   "metadata": {},
   "source": [
    "## End of  Buy process"
   ]
  },
  {
   "cell_type": "code",
   "execution_count": null,
   "metadata": {},
   "outputs": [],
   "source": []
  }
 ],
 "metadata": {
  "anaconda-cloud": {},
  "kernelspec": {
   "display_name": "Python 3 (ipykernel)",
   "language": "python",
   "name": "python3"
  },
  "language_info": {
   "codemirror_mode": {
    "name": "ipython",
    "version": 3
   },
   "file_extension": ".py",
   "mimetype": "text/x-python",
   "name": "python",
   "nbconvert_exporter": "python",
   "pygments_lexer": "ipython3",
   "version": "3.8.11"
  }
 },
 "nbformat": 4,
 "nbformat_minor": 1
}
