{
 "cells": [
  {
   "cell_type": "code",
   "execution_count": 1,
   "metadata": {},
   "outputs": [
    {
     "data": {
      "text/plain": [
       "datetime.date(2022, 1, 10)"
      ]
     },
     "execution_count": 1,
     "metadata": {},
     "output_type": "execute_result"
    }
   ],
   "source": [
    "import pandas as pd\n",
    "from datetime import date, timedelta\n",
    "from sqlalchemy import create_engine\n",
    "\n",
    "engine = create_engine('mysql+pymysql://root:@localhost:3306/portfolio_development')\n",
    "conpf = engine.connect()\n",
    "\n",
    "engine = create_engine(\"mysql+pymysql://root:@localhost:3306/stock\")\n",
    "const = engine.connect()\n",
    "\n",
    "engine = create_engine(\"sqlite:///c:\\\\ruby\\\\port_lite\\\\db\\\\development.sqlite3\")\n",
    "conlite = engine.connect()\n",
    "\n",
    "today = date.today()\n",
    "today"
   ]
  },
  {
   "cell_type": "code",
   "execution_count": 2,
   "metadata": {},
   "outputs": [],
   "source": [
    "format_dict = {\n",
    "               'qty':'{:,}','SHARES':'{:,}','available_qty':'{:,}','volbuy':'{:,}','volsell':'{:,}','volbal':'{:,}',\n",
    "               'price':'{:,.2f}','PRICE':'{:,.2f}','max_price':'{:,.2f}','min_price':'{:,.2f}',\n",
    "               'buy_target':'{:,.2f}','sell_target':'{:,.2f}','fee':'{:,.2f}','vat':'{:,.2f}',\n",
    "               'net':'{:,.2f}','profit':'{:,.2f}','cost':'{:,.2f}','volume':'{:,.2f}','beta':'{:,.2f}',\n",
    "               'Q4':'{:,.3f}','Q3':'{:,.3f}','Q2':'{:,.3f}','Q1':'{:,.3f}','DIVIDEND':'{:,.3f}',\n",
    "               'percent':'{:,.2f}%','PERCENT':'{:,.2f}%','yearly':'{:,.2f}%','pct':'{:,.2f}%',\n",
    "              }"
   ]
  },
  {
   "cell_type": "markdown",
   "metadata": {},
   "source": [
    "### Tables in the process"
   ]
  },
  {
   "cell_type": "code",
   "execution_count": 3,
   "metadata": {},
   "outputs": [
    {
     "data": {
      "text/html": [
       "<style type=\"text/css\">\n",
       "</style>\n",
       "<table id=\"T_c84a5_\">\n",
       "  <thead>\n",
       "    <tr>\n",
       "      <th class=\"blank level0\" >&nbsp;</th>\n",
       "      <th class=\"col_heading level0 col0\" >name</th>\n",
       "      <th class=\"col_heading level0 col1\" >buy_date</th>\n",
       "      <th class=\"col_heading level0 col2\" >id</th>\n",
       "      <th class=\"col_heading level0 col3\" >buy_id</th>\n",
       "      <th class=\"col_heading level0 col4\" >date</th>\n",
       "      <th class=\"col_heading level0 col5\" >price</th>\n",
       "      <th class=\"col_heading level0 col6\" >fee</th>\n",
       "      <th class=\"col_heading level0 col7\" >vat</th>\n",
       "      <th class=\"col_heading level0 col8\" >net</th>\n",
       "      <th class=\"col_heading level0 col9\" >days</th>\n",
       "      <th class=\"col_heading level0 col10\" >profit</th>\n",
       "      <th class=\"col_heading level0 col11\" >percent</th>\n",
       "      <th class=\"col_heading level0 col12\" >yearly</th>\n",
       "      <th class=\"col_heading level0 col13\" >sequence</th>\n",
       "      <th class=\"col_heading level0 col14\" >chart</th>\n",
       "      <th class=\"col_heading level0 col15\" >dividend_id</th>\n",
       "    </tr>\n",
       "  </thead>\n",
       "  <tbody>\n",
       "    <tr>\n",
       "      <th id=\"T_c84a5_level0_row0\" class=\"row_heading level0 row0\" >0</th>\n",
       "      <td id=\"T_c84a5_row0_col0\" class=\"data row0 col0\" >IMH</td>\n",
       "      <td id=\"T_c84a5_row0_col1\" class=\"data row0 col1\" >2021-12-08</td>\n",
       "      <td id=\"T_c84a5_row0_col2\" class=\"data row0 col2\" >899</td>\n",
       "      <td id=\"T_c84a5_row0_col3\" class=\"data row0 col3\" >1093</td>\n",
       "      <td id=\"T_c84a5_row0_col4\" class=\"data row0 col4\" >2022-01-10</td>\n",
       "      <td id=\"T_c84a5_row0_col5\" class=\"data row0 col5\" >16.80</td>\n",
       "      <td id=\"T_c84a5_row0_col6\" class=\"data row0 col6\" >52.16</td>\n",
       "      <td id=\"T_c84a5_row0_col7\" class=\"data row0 col7\" >3.65</td>\n",
       "      <td id=\"T_c84a5_row0_col8\" class=\"data row0 col8\" >25,144.19</td>\n",
       "      <td id=\"T_c84a5_row0_col9\" class=\"data row0 col9\" >33</td>\n",
       "      <td id=\"T_c84a5_row0_col10\" class=\"data row0 col10\" >8,607.64</td>\n",
       "      <td id=\"T_c84a5_row0_col11\" class=\"data row0 col11\" >52.05%</td>\n",
       "      <td id=\"T_c84a5_row0_col12\" class=\"data row0 col12\" >575.73%</td>\n",
       "      <td id=\"T_c84a5_row0_col13\" class=\"data row0 col13\" >101</td>\n",
       "      <td id=\"T_c84a5_row0_col14\" class=\"data row0 col14\" >None</td>\n",
       "      <td id=\"T_c84a5_row0_col15\" class=\"data row0 col15\" >0</td>\n",
       "    </tr>\n",
       "  </tbody>\n",
       "</table>\n"
      ],
      "text/plain": [
       "<pandas.io.formats.style.Styler at 0x284f8085c70>"
      ]
     },
     "execution_count": 3,
     "metadata": {},
     "output_type": "execute_result"
    }
   ],
   "source": [
    "# Sells table in MySQL portfolio database\n",
    "sql = \"\"\"\n",
    "SELECT T.name, B.date AS buy_date, S.* \n",
    "FROM sells S\n",
    "JOIN buys B ON S.buy_id = B.id\n",
    "JOIN stocks T ON B.stock_id = T.id\n",
    "ORDER BY S.id DESC\n",
    "LIMIT 1\"\"\"\n",
    "sells = pd.read_sql(sql, conpf)\n",
    "sells.style.format(format_dict)"
   ]
  },
  {
   "cell_type": "code",
   "execution_count": 4,
   "metadata": {},
   "outputs": [
    {
     "name": "stdout",
     "output_type": "stream",
     "text": [
      "\n",
      "SELECT T.name, B.* \n",
      "FROM buys B\n",
      "JOIN stocks T \n",
      "ON B.stock_id = T.id\n",
      "WHERE B.id = 1093\n",
      "\n"
     ]
    },
    {
     "data": {
      "text/html": [
       "<style type=\"text/css\">\n",
       "</style>\n",
       "<table id=\"T_05184_\">\n",
       "  <thead>\n",
       "    <tr>\n",
       "      <th class=\"blank level0\" >&nbsp;</th>\n",
       "      <th class=\"col_heading level0 col0\" >name</th>\n",
       "      <th class=\"col_heading level0 col1\" >id</th>\n",
       "      <th class=\"col_heading level0 col2\" >stock_id</th>\n",
       "      <th class=\"col_heading level0 col3\" >date</th>\n",
       "      <th class=\"col_heading level0 col4\" >qty</th>\n",
       "      <th class=\"col_heading level0 col5\" >price</th>\n",
       "      <th class=\"col_heading level0 col6\" >fee</th>\n",
       "      <th class=\"col_heading level0 col7\" >vat</th>\n",
       "      <th class=\"col_heading level0 col8\" >status</th>\n",
       "      <th class=\"col_heading level0 col9\" >net</th>\n",
       "      <th class=\"col_heading level0 col10\" >kind</th>\n",
       "      <th class=\"col_heading level0 col11\" >chart</th>\n",
       "    </tr>\n",
       "  </thead>\n",
       "  <tbody>\n",
       "    <tr>\n",
       "      <th id=\"T_05184_level0_row0\" class=\"row_heading level0 row0\" >0</th>\n",
       "      <td id=\"T_05184_row0_col0\" class=\"data row0 col0\" >IMH</td>\n",
       "      <td id=\"T_05184_row0_col1\" class=\"data row0 col1\" >1093</td>\n",
       "      <td id=\"T_05184_row0_col2\" class=\"data row0 col2\" >199</td>\n",
       "      <td id=\"T_05184_row0_col3\" class=\"data row0 col3\" >2021-12-08</td>\n",
       "      <td id=\"T_05184_row0_col4\" class=\"data row0 col4\" >1,500</td>\n",
       "      <td id=\"T_05184_row0_col5\" class=\"data row0 col5\" >11.00</td>\n",
       "      <td id=\"T_05184_row0_col6\" class=\"data row0 col6\" >34.16</td>\n",
       "      <td id=\"T_05184_row0_col7\" class=\"data row0 col7\" >2.39</td>\n",
       "      <td id=\"T_05184_row0_col8\" class=\"data row0 col8\" >Sold</td>\n",
       "      <td id=\"T_05184_row0_col9\" class=\"data row0 col9\" >16,536.55</td>\n",
       "      <td id=\"T_05184_row0_col10\" class=\"data row0 col10\" >DTD</td>\n",
       "      <td id=\"T_05184_row0_col11\" class=\"data row0 col11\" >None</td>\n",
       "    </tr>\n",
       "  </tbody>\n",
       "</table>\n"
      ],
      "text/plain": [
       "<pandas.io.formats.style.Styler at 0x284f80813d0>"
      ]
     },
     "execution_count": 4,
     "metadata": {},
     "output_type": "execute_result"
    }
   ],
   "source": [
    "# Buys table in MySQL portfolio database\n",
    "buy_ids = sells['buy_id']\n",
    "buy_id = buy_ids.to_string(index=False)\n",
    "\n",
    "sql = \"\"\"\n",
    "SELECT T.name, B.* \n",
    "FROM buys B\n",
    "JOIN stocks T \n",
    "ON B.stock_id = T.id\n",
    "WHERE B.id = %s\n",
    "\"\"\"\n",
    "sql = sql % buy_id\n",
    "print(sql)\n",
    "\n",
    "buys = pd.read_sql(sql, conpf)\n",
    "buys.style.format(format_dict)"
   ]
  },
  {
   "cell_type": "code",
   "execution_count": 22,
   "metadata": {},
   "outputs": [
    {
     "name": "stdout",
     "output_type": "stream",
     "text": [
      "\n",
      "SELECT T.name, B.* FROM buys B\n",
      "JOIN stocks T ON B.stock_id = T.id\n",
      "ORDER BY B.id DESC\n",
      "LIMIT 1\n"
     ]
    },
    {
     "data": {
      "text/html": [
       "<style type=\"text/css\">\n",
       "</style>\n",
       "<table id=\"T_1ed2e_\">\n",
       "  <thead>\n",
       "    <tr>\n",
       "      <th class=\"blank level0\" >&nbsp;</th>\n",
       "      <th class=\"col_heading level0 col0\" >name</th>\n",
       "      <th class=\"col_heading level0 col1\" >id</th>\n",
       "      <th class=\"col_heading level0 col2\" >stock_id</th>\n",
       "      <th class=\"col_heading level0 col3\" >date</th>\n",
       "      <th class=\"col_heading level0 col4\" >qty</th>\n",
       "      <th class=\"col_heading level0 col5\" >price</th>\n",
       "      <th class=\"col_heading level0 col6\" >fee</th>\n",
       "      <th class=\"col_heading level0 col7\" >vat</th>\n",
       "      <th class=\"col_heading level0 col8\" >status</th>\n",
       "      <th class=\"col_heading level0 col9\" >net</th>\n",
       "      <th class=\"col_heading level0 col10\" >kind</th>\n",
       "      <th class=\"col_heading level0 col11\" >chart</th>\n",
       "    </tr>\n",
       "  </thead>\n",
       "  <tbody>\n",
       "    <tr>\n",
       "      <th id=\"T_1ed2e_level0_row0\" class=\"row_heading level0 row0\" >0</th>\n",
       "      <td id=\"T_1ed2e_row0_col0\" class=\"data row0 col0\" >IP</td>\n",
       "      <td id=\"T_1ed2e_row0_col1\" class=\"data row0 col1\" >1094</td>\n",
       "      <td id=\"T_1ed2e_row0_col2\" class=\"data row0 col2\" >194</td>\n",
       "      <td id=\"T_1ed2e_row0_col3\" class=\"data row0 col3\" >2022-01-10</td>\n",
       "      <td id=\"T_1ed2e_row0_col4\" class=\"data row0 col4\" >3,000</td>\n",
       "      <td id=\"T_1ed2e_row0_col5\" class=\"data row0 col5\" >19.20</td>\n",
       "      <td id=\"T_1ed2e_row0_col6\" class=\"data row0 col6\" >119.23</td>\n",
       "      <td id=\"T_1ed2e_row0_col7\" class=\"data row0 col7\" >8.35</td>\n",
       "      <td id=\"T_1ed2e_row0_col8\" class=\"data row0 col8\" >Active</td>\n",
       "      <td id=\"T_1ed2e_row0_col9\" class=\"data row0 col9\" >57,727.58</td>\n",
       "      <td id=\"T_1ed2e_row0_col10\" class=\"data row0 col10\" >DTD</td>\n",
       "      <td id=\"T_1ed2e_row0_col11\" class=\"data row0 col11\" >None</td>\n",
       "    </tr>\n",
       "  </tbody>\n",
       "</table>\n"
      ],
      "text/plain": [
       "<pandas.io.formats.style.Styler at 0x284fbe63160>"
      ]
     },
     "execution_count": 22,
     "metadata": {},
     "output_type": "execute_result"
    }
   ],
   "source": [
    "# Buys table in MySql portfolio database\n",
    "sql = \"\"\"\n",
    "SELECT T.name, B.* FROM buys B\n",
    "JOIN stocks T ON B.stock_id = T.id\n",
    "ORDER BY B.id DESC\n",
    "LIMIT 1\"\"\"\n",
    "print(sql)\n",
    "\n",
    "buys = pd.read_sql(sql, conpf)\n",
    "buys.style.format(format_dict)"
   ]
  },
  {
   "cell_type": "code",
   "execution_count": 23,
   "metadata": {},
   "outputs": [
    {
     "name": "stdout",
     "output_type": "stream",
     "text": [
      "\n",
      "SELECT T.* FROM stocks T\n",
      "WHERE name = 'IP'\n"
     ]
    },
    {
     "data": {
      "text/html": [
       "<style type=\"text/css\">\n",
       "</style>\n",
       "<table id=\"T_177de_\">\n",
       "  <thead>\n",
       "    <tr>\n",
       "      <th class=\"blank level0\" >&nbsp;</th>\n",
       "      <th class=\"col_heading level0 col0\" >id</th>\n",
       "      <th class=\"col_heading level0 col1\" >name</th>\n",
       "      <th class=\"col_heading level0 col2\" >category_id</th>\n",
       "      <th class=\"col_heading level0 col3\" >website</th>\n",
       "    </tr>\n",
       "  </thead>\n",
       "  <tbody>\n",
       "    <tr>\n",
       "      <th id=\"T_177de_level0_row0\" class=\"row_heading level0 row0\" >0</th>\n",
       "      <td id=\"T_177de_row0_col0\" class=\"data row0 col0\" >194</td>\n",
       "      <td id=\"T_177de_row0_col1\" class=\"data row0 col1\" >IP</td>\n",
       "      <td id=\"T_177de_row0_col2\" class=\"data row0 col2\" >4</td>\n",
       "      <td id=\"T_177de_row0_col3\" class=\"data row0 col3\" ></td>\n",
       "    </tr>\n",
       "  </tbody>\n",
       "</table>\n"
      ],
      "text/plain": [
       "<pandas.io.formats.style.Styler at 0x284fbe63d30>"
      ]
     },
     "execution_count": 23,
     "metadata": {},
     "output_type": "execute_result"
    }
   ],
   "source": [
    "# Stocks table in MySQL portfolio database\n",
    "names = buys['name']\n",
    "name = names.to_string(index=False)\n",
    "\n",
    "sql = \"\"\"\n",
    "SELECT T.* FROM stocks T\n",
    "WHERE name = '%s'\"\"\"\n",
    "sql = sql % name\n",
    "print(sql)\n",
    "\n",
    "stocks = pd.read_sql(sql, conpf)\n",
    "stocks.style.format(format_dict)"
   ]
  },
  {
   "cell_type": "code",
   "execution_count": 24,
   "metadata": {},
   "outputs": [
    {
     "name": "stdout",
     "output_type": "stream",
     "text": [
      "\n",
      "SELECT * FROM buy\n",
      "WHERE name = 'IMH'\n",
      "\n"
     ]
    },
    {
     "data": {
      "text/html": [
       "<style type=\"text/css\">\n",
       "</style>\n",
       "<table id=\"T_68ab3_\">\n",
       "  <thead>\n",
       "    <tr>\n",
       "      <th class=\"blank level0\" >&nbsp;</th>\n",
       "      <th class=\"col_heading level0 col0\" >name</th>\n",
       "      <th class=\"col_heading level0 col1\" >date</th>\n",
       "      <th class=\"col_heading level0 col2\" >volbuy</th>\n",
       "      <th class=\"col_heading level0 col3\" >price</th>\n",
       "      <th class=\"col_heading level0 col4\" >volsell</th>\n",
       "      <th class=\"col_heading level0 col5\" >volbal</th>\n",
       "      <th class=\"col_heading level0 col6\" >active</th>\n",
       "      <th class=\"col_heading level0 col7\" >dividend</th>\n",
       "      <th class=\"col_heading level0 col8\" >period</th>\n",
       "      <th class=\"col_heading level0 col9\" >grade</th>\n",
       "    </tr>\n",
       "  </thead>\n",
       "  <tbody>\n",
       "    <tr>\n",
       "      <th id=\"T_68ab3_level0_row0\" class=\"row_heading level0 row0\" >0</th>\n",
       "      <td id=\"T_68ab3_row0_col0\" class=\"data row0 col0\" >IMH</td>\n",
       "      <td id=\"T_68ab3_row0_col1\" class=\"data row0 col1\" >2021-12-08</td>\n",
       "      <td id=\"T_68ab3_row0_col2\" class=\"data row0 col2\" >3,000.0</td>\n",
       "      <td id=\"T_68ab3_row0_col3\" class=\"data row0 col3\" >11.00</td>\n",
       "      <td id=\"T_68ab3_row0_col4\" class=\"data row0 col4\" >0.0</td>\n",
       "      <td id=\"T_68ab3_row0_col5\" class=\"data row0 col5\" >0.0</td>\n",
       "      <td id=\"T_68ab3_row0_col6\" class=\"data row0 col6\" >1</td>\n",
       "      <td id=\"T_68ab3_row0_col7\" class=\"data row0 col7\" >None</td>\n",
       "      <td id=\"T_68ab3_row0_col8\" class=\"data row0 col8\" >3</td>\n",
       "      <td id=\"T_68ab3_row0_col9\" class=\"data row0 col9\" >A3</td>\n",
       "    </tr>\n",
       "  </tbody>\n",
       "</table>\n"
      ],
      "text/plain": [
       "<pandas.io.formats.style.Styler at 0x284fbd6bbe0>"
      ]
     },
     "execution_count": 24,
     "metadata": {},
     "output_type": "execute_result"
    }
   ],
   "source": [
    "# Buy table in MySql stock database\n",
    "names = sells['name']\n",
    "name = names.to_string(index=False)\n",
    "\n",
    "sql = \"\"\"\n",
    "SELECT * FROM buy\n",
    "WHERE name = '%s'\n",
    "\"\"\"\n",
    "sql = sql % name\n",
    "print(sql)\n",
    "\n",
    "buy = pd.read_sql(sql, const)\n",
    "buy.style.format(format_dict)"
   ]
  },
  {
   "cell_type": "code",
   "execution_count": 26,
   "metadata": {},
   "outputs": [
    {
     "name": "stdout",
     "output_type": "stream",
     "text": [
      "\n",
      "SELECT * FROM buy\n",
      "WHERE name = 'IP'\n",
      "\n"
     ]
    },
    {
     "data": {
      "text/html": [
       "<style type=\"text/css\">\n",
       "</style>\n",
       "<table id=\"T_ad2d1_\">\n",
       "  <thead>\n",
       "    <tr>\n",
       "      <th class=\"blank level0\" >&nbsp;</th>\n",
       "      <th class=\"col_heading level0 col0\" >name</th>\n",
       "      <th class=\"col_heading level0 col1\" >date</th>\n",
       "      <th class=\"col_heading level0 col2\" >volbuy</th>\n",
       "      <th class=\"col_heading level0 col3\" >price</th>\n",
       "      <th class=\"col_heading level0 col4\" >volsell</th>\n",
       "      <th class=\"col_heading level0 col5\" >volbal</th>\n",
       "      <th class=\"col_heading level0 col6\" >active</th>\n",
       "      <th class=\"col_heading level0 col7\" >dividend</th>\n",
       "      <th class=\"col_heading level0 col8\" >period</th>\n",
       "      <th class=\"col_heading level0 col9\" >grade</th>\n",
       "    </tr>\n",
       "  </thead>\n",
       "  <tbody>\n",
       "    <tr>\n",
       "      <th id=\"T_ad2d1_level0_row0\" class=\"row_heading level0 row0\" >0</th>\n",
       "      <td id=\"T_ad2d1_row0_col0\" class=\"data row0 col0\" >IP</td>\n",
       "      <td id=\"T_ad2d1_row0_col1\" class=\"data row0 col1\" >2021-11-09</td>\n",
       "      <td id=\"T_ad2d1_row0_col2\" class=\"data row0 col2\" >7,500.0</td>\n",
       "      <td id=\"T_ad2d1_row0_col3\" class=\"data row0 col3\" >20.60</td>\n",
       "      <td id=\"T_ad2d1_row0_col4\" class=\"data row0 col4\" >0.0</td>\n",
       "      <td id=\"T_ad2d1_row0_col5\" class=\"data row0 col5\" >0.0</td>\n",
       "      <td id=\"T_ad2d1_row0_col6\" class=\"data row0 col6\" >1</td>\n",
       "      <td id=\"T_ad2d1_row0_col7\" class=\"data row0 col7\" >0.185000</td>\n",
       "      <td id=\"T_ad2d1_row0_col8\" class=\"data row0 col8\" >3</td>\n",
       "      <td id=\"T_ad2d1_row0_col9\" class=\"data row0 col9\" >A3</td>\n",
       "    </tr>\n",
       "  </tbody>\n",
       "</table>\n"
      ],
      "text/plain": [
       "<pandas.io.formats.style.Styler at 0x284fbe756a0>"
      ]
     },
     "execution_count": 26,
     "metadata": {},
     "output_type": "execute_result"
    }
   ],
   "source": [
    "# Buy table in MySql stock database\n",
    "names = buys['name']\n",
    "name = names.to_string(index=False)\n",
    "\n",
    "sql = \"\"\"\n",
    "SELECT * FROM buy\n",
    "WHERE name = '%s'\n",
    "\"\"\"\n",
    "sql = sql % name\n",
    "print(sql)\n",
    "\n",
    "buy = pd.read_sql(sql, const)\n",
    "buy.style.format(format_dict)"
   ]
  },
  {
   "cell_type": "code",
   "execution_count": 7,
   "metadata": {},
   "outputs": [
    {
     "name": "stdout",
     "output_type": "stream",
     "text": [
      "\n",
      "SELECT * FROM dividend\n",
      "WHERE name = 'IMH'\n",
      "\n"
     ]
    },
    {
     "data": {
      "text/html": [
       "<style type=\"text/css\">\n",
       "</style>\n",
       "<table id=\"T_782c2_\">\n",
       "  <thead>\n",
       "    <tr>\n",
       "      <th class=\"blank level0\" >&nbsp;</th>\n",
       "      <th class=\"col_heading level0 col0\" >NAME</th>\n",
       "      <th class=\"col_heading level0 col1\" >Q4</th>\n",
       "      <th class=\"col_heading level0 col2\" >Q3</th>\n",
       "      <th class=\"col_heading level0 col3\" >Q2</th>\n",
       "      <th class=\"col_heading level0 col4\" >Q1</th>\n",
       "      <th class=\"col_heading level0 col5\" >DIVIDEND</th>\n",
       "      <th class=\"col_heading level0 col6\" >PRICE</th>\n",
       "      <th class=\"col_heading level0 col7\" >PERCENT</th>\n",
       "      <th class=\"col_heading level0 col8\" >SHARES</th>\n",
       "      <th class=\"col_heading level0 col9\" >XDATE</th>\n",
       "      <th class=\"col_heading level0 col10\" >PAIDDATE</th>\n",
       "      <th class=\"col_heading level0 col11\" >KIND</th>\n",
       "      <th class=\"col_heading level0 col12\" >ACTUAL</th>\n",
       "    </tr>\n",
       "  </thead>\n",
       "  <tbody>\n",
       "  </tbody>\n",
       "</table>\n"
      ],
      "text/plain": [
       "<pandas.io.formats.style.Styler at 0x1866bf5e1c0>"
      ]
     },
     "execution_count": 7,
     "metadata": {},
     "output_type": "execute_result"
    }
   ],
   "source": [
    "# Dividend table in MySql stock database\n",
    "names = sells['name']\n",
    "name = names.to_string(index=False)\n",
    "\n",
    "sql = \"\"\"\n",
    "SELECT * FROM dividend\n",
    "WHERE name = '%s'\n",
    "\"\"\"\n",
    "sql = sql % name\n",
    "print(sql)\n",
    "\n",
    "dividend = pd.read_sql(sql, const)\n",
    "dividend.style.format(format_dict)"
   ]
  },
  {
   "cell_type": "markdown",
   "metadata": {},
   "source": [
    "### Sell transactions"
   ]
  },
  {
   "cell_type": "markdown",
   "metadata": {},
   "source": [
    "### Begin of Sale process to buy table in MySQL stock database"
   ]
  },
  {
   "cell_type": "code",
   "execution_count": 6,
   "metadata": {},
   "outputs": [
    {
     "data": {
      "text/html": [
       "<style type=\"text/css\">\n",
       "</style>\n",
       "<table id=\"T_ce36f_\">\n",
       "  <thead>\n",
       "    <tr>\n",
       "      <th class=\"blank level0\" >&nbsp;</th>\n",
       "      <th class=\"col_heading level0 col0\" >name</th>\n",
       "      <th class=\"col_heading level0 col1\" >buy_date</th>\n",
       "      <th class=\"col_heading level0 col2\" >qty</th>\n",
       "      <th class=\"col_heading level0 col3\" >id</th>\n",
       "      <th class=\"col_heading level0 col4\" >buy_id</th>\n",
       "      <th class=\"col_heading level0 col5\" >date</th>\n",
       "      <th class=\"col_heading level0 col6\" >price</th>\n",
       "      <th class=\"col_heading level0 col7\" >fee</th>\n",
       "      <th class=\"col_heading level0 col8\" >vat</th>\n",
       "      <th class=\"col_heading level0 col9\" >net</th>\n",
       "      <th class=\"col_heading level0 col10\" >days</th>\n",
       "      <th class=\"col_heading level0 col11\" >profit</th>\n",
       "      <th class=\"col_heading level0 col12\" >percent</th>\n",
       "      <th class=\"col_heading level0 col13\" >yearly</th>\n",
       "      <th class=\"col_heading level0 col14\" >sequence</th>\n",
       "      <th class=\"col_heading level0 col15\" >chart</th>\n",
       "      <th class=\"col_heading level0 col16\" >dividend_id</th>\n",
       "    </tr>\n",
       "  </thead>\n",
       "  <tbody>\n",
       "    <tr>\n",
       "      <th id=\"T_ce36f_level0_row0\" class=\"row_heading level0 row0\" >0</th>\n",
       "      <td id=\"T_ce36f_row0_col0\" class=\"data row0 col0\" >IMH</td>\n",
       "      <td id=\"T_ce36f_row0_col1\" class=\"data row0 col1\" >2021-12-08</td>\n",
       "      <td id=\"T_ce36f_row0_col2\" class=\"data row0 col2\" >1,500</td>\n",
       "      <td id=\"T_ce36f_row0_col3\" class=\"data row0 col3\" >899</td>\n",
       "      <td id=\"T_ce36f_row0_col4\" class=\"data row0 col4\" >1093</td>\n",
       "      <td id=\"T_ce36f_row0_col5\" class=\"data row0 col5\" >2022-01-10</td>\n",
       "      <td id=\"T_ce36f_row0_col6\" class=\"data row0 col6\" >16.80</td>\n",
       "      <td id=\"T_ce36f_row0_col7\" class=\"data row0 col7\" >52.16</td>\n",
       "      <td id=\"T_ce36f_row0_col8\" class=\"data row0 col8\" >3.65</td>\n",
       "      <td id=\"T_ce36f_row0_col9\" class=\"data row0 col9\" >25,144.19</td>\n",
       "      <td id=\"T_ce36f_row0_col10\" class=\"data row0 col10\" >33</td>\n",
       "      <td id=\"T_ce36f_row0_col11\" class=\"data row0 col11\" >8,607.64</td>\n",
       "      <td id=\"T_ce36f_row0_col12\" class=\"data row0 col12\" >52.05%</td>\n",
       "      <td id=\"T_ce36f_row0_col13\" class=\"data row0 col13\" >575.73%</td>\n",
       "      <td id=\"T_ce36f_row0_col14\" class=\"data row0 col14\" >101</td>\n",
       "      <td id=\"T_ce36f_row0_col15\" class=\"data row0 col15\" >None</td>\n",
       "      <td id=\"T_ce36f_row0_col16\" class=\"data row0 col16\" >0</td>\n",
       "    </tr>\n",
       "  </tbody>\n",
       "</table>\n"
      ],
      "text/plain": [
       "<pandas.io.formats.style.Styler at 0x284fbd19670>"
      ]
     },
     "execution_count": 6,
     "metadata": {},
     "output_type": "execute_result"
    }
   ],
   "source": [
    "# Sells table in MySQL portfolio database\n",
    "sql = \"\"\"\n",
    "SELECT T.name, B.date AS buy_date, B.qty, S.* \n",
    "FROM sells S\n",
    "JOIN buys B ON S.buy_id = B.id\n",
    "JOIN stocks T ON B.stock_id = T.id\n",
    "ORDER BY S.id DESC\n",
    "LIMIT 1\"\"\"\n",
    "sells = pd.read_sql(sql, conpf)\n",
    "sells.style.format(format_dict)"
   ]
  },
  {
   "cell_type": "code",
   "execution_count": 7,
   "metadata": {},
   "outputs": [
    {
     "data": {
      "text/plain": [
       "'IMH'"
      ]
     },
     "execution_count": 7,
     "metadata": {},
     "output_type": "execute_result"
    }
   ],
   "source": [
    "names = sells['name']\n",
    "name = names.to_string(index=False)\n",
    "name"
   ]
  },
  {
   "cell_type": "code",
   "execution_count": 8,
   "metadata": {},
   "outputs": [
    {
     "data": {
      "text/plain": [
       "-1500"
      ]
     },
     "execution_count": 8,
     "metadata": {},
     "output_type": "execute_result"
    }
   ],
   "source": [
    "sr_qty = sells['qty']\n",
    "qty_str = sr_qty.to_string(index=False)\n",
    "qty = int(qty_str) * -1\n",
    "qty"
   ]
  },
  {
   "cell_type": "code",
   "execution_count": 9,
   "metadata": {},
   "outputs": [
    {
     "name": "stdout",
     "output_type": "stream",
     "text": [
      "\n",
      "SELECT * \n",
      "FROM buy \n",
      "WHERE name = 'IMH'\n",
      "\n"
     ]
    },
    {
     "data": {
      "text/html": [
       "<div>\n",
       "<style scoped>\n",
       "    .dataframe tbody tr th:only-of-type {\n",
       "        vertical-align: middle;\n",
       "    }\n",
       "\n",
       "    .dataframe tbody tr th {\n",
       "        vertical-align: top;\n",
       "    }\n",
       "\n",
       "    .dataframe thead th {\n",
       "        text-align: right;\n",
       "    }\n",
       "</style>\n",
       "<table border=\"1\" class=\"dataframe\">\n",
       "  <thead>\n",
       "    <tr style=\"text-align: right;\">\n",
       "      <th></th>\n",
       "      <th>name</th>\n",
       "      <th>date</th>\n",
       "      <th>volbuy</th>\n",
       "      <th>price</th>\n",
       "      <th>volsell</th>\n",
       "      <th>volbal</th>\n",
       "      <th>active</th>\n",
       "      <th>dividend</th>\n",
       "      <th>period</th>\n",
       "      <th>grade</th>\n",
       "    </tr>\n",
       "  </thead>\n",
       "  <tbody>\n",
       "    <tr>\n",
       "      <th>0</th>\n",
       "      <td>IMH</td>\n",
       "      <td>2021-12-08</td>\n",
       "      <td>4500.0</td>\n",
       "      <td>11.0</td>\n",
       "      <td>0.0</td>\n",
       "      <td>0.0</td>\n",
       "      <td>1</td>\n",
       "      <td>None</td>\n",
       "      <td>3</td>\n",
       "      <td>A3</td>\n",
       "    </tr>\n",
       "  </tbody>\n",
       "</table>\n",
       "</div>"
      ],
      "text/plain": [
       "  name        date  volbuy  price  volsell  volbal  active dividend period  \\\n",
       "0  IMH  2021-12-08  4500.0   11.0      0.0     0.0       1     None      3   \n",
       "\n",
       "  grade  \n",
       "0    A3  "
      ]
     },
     "execution_count": 9,
     "metadata": {},
     "output_type": "execute_result"
    }
   ],
   "source": [
    "sql = \"\"\"\n",
    "SELECT * \n",
    "FROM buy \n",
    "WHERE name = '%s'\n",
    "\"\"\"\n",
    "sql = sql % name\n",
    "print(sql)\n",
    "\n",
    "buy = pd.read_sql(sql, const)\n",
    "buy"
   ]
  },
  {
   "cell_type": "code",
   "execution_count": 10,
   "metadata": {},
   "outputs": [
    {
     "name": "stdout",
     "output_type": "stream",
     "text": [
      "\n",
      "UPDATE buy\n",
      "SET volbuy = volbuy + -1500\n",
      "WHERE name = \"IMH\"\n"
     ]
    },
    {
     "data": {
      "text/plain": [
       "1"
      ]
     },
     "execution_count": 10,
     "metadata": {},
     "output_type": "execute_result"
    }
   ],
   "source": [
    "sqlUpd = '''\n",
    "UPDATE buy\n",
    "SET volbuy = volbuy + %s\n",
    "WHERE name = \"%s\"'''\n",
    "sqlUpd = sqlUpd % (qty, name)\n",
    "print(sqlUpd)\n",
    "\n",
    "rp = const.execute(sqlUpd)\n",
    "rp.rowcount"
   ]
  },
  {
   "cell_type": "code",
   "execution_count": 11,
   "metadata": {},
   "outputs": [
    {
     "name": "stdout",
     "output_type": "stream",
     "text": [
      "\n",
      "SELECT * \n",
      "FROM buy \n",
      "WHERE name = 'IMH'\n",
      "\n"
     ]
    },
    {
     "data": {
      "text/html": [
       "<div>\n",
       "<style scoped>\n",
       "    .dataframe tbody tr th:only-of-type {\n",
       "        vertical-align: middle;\n",
       "    }\n",
       "\n",
       "    .dataframe tbody tr th {\n",
       "        vertical-align: top;\n",
       "    }\n",
       "\n",
       "    .dataframe thead th {\n",
       "        text-align: right;\n",
       "    }\n",
       "</style>\n",
       "<table border=\"1\" class=\"dataframe\">\n",
       "  <thead>\n",
       "    <tr style=\"text-align: right;\">\n",
       "      <th></th>\n",
       "      <th>name</th>\n",
       "      <th>date</th>\n",
       "      <th>volbuy</th>\n",
       "      <th>price</th>\n",
       "      <th>volsell</th>\n",
       "      <th>volbal</th>\n",
       "      <th>active</th>\n",
       "      <th>dividend</th>\n",
       "      <th>period</th>\n",
       "      <th>grade</th>\n",
       "    </tr>\n",
       "  </thead>\n",
       "  <tbody>\n",
       "    <tr>\n",
       "      <th>0</th>\n",
       "      <td>IMH</td>\n",
       "      <td>2021-12-08</td>\n",
       "      <td>3000.0</td>\n",
       "      <td>11.0</td>\n",
       "      <td>0.0</td>\n",
       "      <td>0.0</td>\n",
       "      <td>1</td>\n",
       "      <td>None</td>\n",
       "      <td>3</td>\n",
       "      <td>A3</td>\n",
       "    </tr>\n",
       "  </tbody>\n",
       "</table>\n",
       "</div>"
      ],
      "text/plain": [
       "  name        date  volbuy  price  volsell  volbal  active dividend period  \\\n",
       "0  IMH  2021-12-08  3000.0   11.0      0.0     0.0       1     None      3   \n",
       "\n",
       "  grade  \n",
       "0    A3  "
      ]
     },
     "execution_count": 11,
     "metadata": {},
     "output_type": "execute_result"
    }
   ],
   "source": [
    "sql = \"\"\"\n",
    "SELECT * \n",
    "FROM buy \n",
    "WHERE name = '%s'\n",
    "\"\"\"\n",
    "sql = sql % name\n",
    "print(sql)\n",
    "\n",
    "buy = pd.read_sql(sql, const)\n",
    "buy"
   ]
  },
  {
   "cell_type": "code",
   "execution_count": 15,
   "metadata": {},
   "outputs": [
    {
     "data": {
      "text/plain": [
       "0"
      ]
     },
     "execution_count": 15,
     "metadata": {},
     "output_type": "execute_result"
    }
   ],
   "source": [
    "sqlDel = '''\n",
    "DELETE FROM buy\n",
    "WHERE volbuy = 0'''\n",
    "rp = const.execute(sqlDel)\n",
    "rp.rowcount"
   ]
  },
  {
   "cell_type": "markdown",
   "metadata": {},
   "source": [
    "### End of Sale process to buy table in MySQL stock database"
   ]
  },
  {
   "cell_type": "markdown",
   "metadata": {},
   "source": [
    "### Begin of Sale process to stocks table in SQLite port_lite database"
   ]
  },
  {
   "cell_type": "code",
   "execution_count": 13,
   "metadata": {},
   "outputs": [
    {
     "name": "stdout",
     "output_type": "stream",
     "text": [
      "\n",
      "SELECT * \n",
      "FROM stocks \n",
      "WHERE name = 'IMH'\n",
      "\n"
     ]
    },
    {
     "data": {
      "text/html": [
       "<style type=\"text/css\">\n",
       "</style>\n",
       "<table id=\"T_75e09_\">\n",
       "  <thead>\n",
       "    <tr>\n",
       "      <th class=\"blank level0\" >&nbsp;</th>\n",
       "      <th class=\"col_heading level0 col0\" >id</th>\n",
       "      <th class=\"col_heading level0 col1\" >name</th>\n",
       "      <th class=\"col_heading level0 col2\" >max_price</th>\n",
       "      <th class=\"col_heading level0 col3\" >min_price</th>\n",
       "      <th class=\"col_heading level0 col4\" >status</th>\n",
       "      <th class=\"col_heading level0 col5\" >buy_target</th>\n",
       "      <th class=\"col_heading level0 col6\" >sell_target</th>\n",
       "      <th class=\"col_heading level0 col7\" >volume</th>\n",
       "      <th class=\"col_heading level0 col8\" >beta</th>\n",
       "      <th class=\"col_heading level0 col9\" >cost</th>\n",
       "      <th class=\"col_heading level0 col10\" >qty</th>\n",
       "      <th class=\"col_heading level0 col11\" >buy_spread</th>\n",
       "      <th class=\"col_heading level0 col12\" >sell_spread</th>\n",
       "      <th class=\"col_heading level0 col13\" >available_qty</th>\n",
       "      <th class=\"col_heading level0 col14\" >bl</th>\n",
       "      <th class=\"col_heading level0 col15\" >sh</th>\n",
       "      <th class=\"col_heading level0 col16\" >reason</th>\n",
       "      <th class=\"col_heading level0 col17\" >market</th>\n",
       "    </tr>\n",
       "  </thead>\n",
       "  <tbody>\n",
       "    <tr>\n",
       "      <th id=\"T_75e09_level0_row0\" class=\"row_heading level0 row0\" >0</th>\n",
       "      <td id=\"T_75e09_row0_col0\" class=\"data row0 col0\" >684</td>\n",
       "      <td id=\"T_75e09_row0_col1\" class=\"data row0 col1\" >IMH</td>\n",
       "      <td id=\"T_75e09_row0_col2\" class=\"data row0 col2\" >16.80</td>\n",
       "      <td id=\"T_75e09_row0_col3\" class=\"data row0 col3\" >2.08</td>\n",
       "      <td id=\"T_75e09_row0_col4\" class=\"data row0 col4\" >I</td>\n",
       "      <td id=\"T_75e09_row0_col5\" class=\"data row0 col5\" >0.00</td>\n",
       "      <td id=\"T_75e09_row0_col6\" class=\"data row0 col6\" >16.80</td>\n",
       "      <td id=\"T_75e09_row0_col7\" class=\"data row0 col7\" >158.70</td>\n",
       "      <td id=\"T_75e09_row0_col8\" class=\"data row0 col8\" >0.33</td>\n",
       "      <td id=\"T_75e09_row0_col9\" class=\"data row0 col9\" >11.00</td>\n",
       "      <td id=\"T_75e09_row0_col10\" class=\"data row0 col10\" >1,500</td>\n",
       "      <td id=\"T_75e09_row0_col11\" class=\"data row0 col11\" >-12</td>\n",
       "      <td id=\"T_75e09_row0_col12\" class=\"data row0 col12\" >22</td>\n",
       "      <td id=\"T_75e09_row0_col13\" class=\"data row0 col13\" >4,500</td>\n",
       "      <td id=\"T_75e09_row0_col14\" class=\"data row0 col14\" >0</td>\n",
       "      <td id=\"T_75e09_row0_col15\" class=\"data row0 col15\" >0</td>\n",
       "      <td id=\"T_75e09_row0_col16\" class=\"data row0 col16\" >24H</td>\n",
       "      <td id=\"T_75e09_row0_col17\" class=\"data row0 col17\" >mai</td>\n",
       "    </tr>\n",
       "  </tbody>\n",
       "</table>\n"
      ],
      "text/plain": [
       "<pandas.io.formats.style.Styler at 0x284fbd56340>"
      ]
     },
     "execution_count": 13,
     "metadata": {},
     "output_type": "execute_result"
    }
   ],
   "source": [
    "sql = \"\"\"\n",
    "SELECT * \n",
    "FROM stocks \n",
    "WHERE name = '%s'\n",
    "\"\"\"\n",
    "sql = sql % name\n",
    "print(sql)\n",
    "\n",
    "stocks = pd.read_sql(sql, conlite)\n",
    "stocks.style.format(format_dict)"
   ]
  },
  {
   "cell_type": "code",
   "execution_count": 17,
   "metadata": {},
   "outputs": [
    {
     "name": "stdout",
     "output_type": "stream",
     "text": [
      "\n",
      "UPDATE stocks\n",
      "SET available_qty = available_qty + -1500,\n",
      "sell_target = 19.0\n",
      "WHERE name = \"IMH\"\n"
     ]
    }
   ],
   "source": [
    "sell_target = 19.00\n",
    "sqlUpd = '''\n",
    "UPDATE stocks\n",
    "SET available_qty = available_qty + %s,\n",
    "sell_target = %s\n",
    "WHERE name = \"%s\"'''\n",
    "sqlUpd = sqlUpd % (qty, sell_target, name)\n",
    "print(sqlUpd)"
   ]
  },
  {
   "cell_type": "code",
   "execution_count": 18,
   "metadata": {},
   "outputs": [
    {
     "data": {
      "text/plain": [
       "1"
      ]
     },
     "execution_count": 18,
     "metadata": {},
     "output_type": "execute_result"
    }
   ],
   "source": [
    "rp = conlite.execute(sqlUpd)\n",
    "rp.rowcount"
   ]
  },
  {
   "cell_type": "code",
   "execution_count": 19,
   "metadata": {},
   "outputs": [
    {
     "name": "stdout",
     "output_type": "stream",
     "text": [
      "\n",
      "SELECT * \n",
      "FROM stocks \n",
      "WHERE name = 'IMH'\n",
      "\n"
     ]
    },
    {
     "data": {
      "text/html": [
       "<style type=\"text/css\">\n",
       "</style>\n",
       "<table id=\"T_dd37e_\">\n",
       "  <thead>\n",
       "    <tr>\n",
       "      <th class=\"blank level0\" >&nbsp;</th>\n",
       "      <th class=\"col_heading level0 col0\" >id</th>\n",
       "      <th class=\"col_heading level0 col1\" >name</th>\n",
       "      <th class=\"col_heading level0 col2\" >max_price</th>\n",
       "      <th class=\"col_heading level0 col3\" >min_price</th>\n",
       "      <th class=\"col_heading level0 col4\" >status</th>\n",
       "      <th class=\"col_heading level0 col5\" >buy_target</th>\n",
       "      <th class=\"col_heading level0 col6\" >sell_target</th>\n",
       "      <th class=\"col_heading level0 col7\" >volume</th>\n",
       "      <th class=\"col_heading level0 col8\" >beta</th>\n",
       "      <th class=\"col_heading level0 col9\" >cost</th>\n",
       "      <th class=\"col_heading level0 col10\" >qty</th>\n",
       "      <th class=\"col_heading level0 col11\" >buy_spread</th>\n",
       "      <th class=\"col_heading level0 col12\" >sell_spread</th>\n",
       "      <th class=\"col_heading level0 col13\" >available_qty</th>\n",
       "      <th class=\"col_heading level0 col14\" >bl</th>\n",
       "      <th class=\"col_heading level0 col15\" >sh</th>\n",
       "      <th class=\"col_heading level0 col16\" >reason</th>\n",
       "      <th class=\"col_heading level0 col17\" >market</th>\n",
       "    </tr>\n",
       "  </thead>\n",
       "  <tbody>\n",
       "    <tr>\n",
       "      <th id=\"T_dd37e_level0_row0\" class=\"row_heading level0 row0\" >0</th>\n",
       "      <td id=\"T_dd37e_row0_col0\" class=\"data row0 col0\" >684</td>\n",
       "      <td id=\"T_dd37e_row0_col1\" class=\"data row0 col1\" >IMH</td>\n",
       "      <td id=\"T_dd37e_row0_col2\" class=\"data row0 col2\" >16.80</td>\n",
       "      <td id=\"T_dd37e_row0_col3\" class=\"data row0 col3\" >2.08</td>\n",
       "      <td id=\"T_dd37e_row0_col4\" class=\"data row0 col4\" >I</td>\n",
       "      <td id=\"T_dd37e_row0_col5\" class=\"data row0 col5\" >0.00</td>\n",
       "      <td id=\"T_dd37e_row0_col6\" class=\"data row0 col6\" >19.00</td>\n",
       "      <td id=\"T_dd37e_row0_col7\" class=\"data row0 col7\" >158.70</td>\n",
       "      <td id=\"T_dd37e_row0_col8\" class=\"data row0 col8\" >0.33</td>\n",
       "      <td id=\"T_dd37e_row0_col9\" class=\"data row0 col9\" >11.00</td>\n",
       "      <td id=\"T_dd37e_row0_col10\" class=\"data row0 col10\" >1,500</td>\n",
       "      <td id=\"T_dd37e_row0_col11\" class=\"data row0 col11\" >-12</td>\n",
       "      <td id=\"T_dd37e_row0_col12\" class=\"data row0 col12\" >22</td>\n",
       "      <td id=\"T_dd37e_row0_col13\" class=\"data row0 col13\" >3,000</td>\n",
       "      <td id=\"T_dd37e_row0_col14\" class=\"data row0 col14\" >0</td>\n",
       "      <td id=\"T_dd37e_row0_col15\" class=\"data row0 col15\" >0</td>\n",
       "      <td id=\"T_dd37e_row0_col16\" class=\"data row0 col16\" >24H</td>\n",
       "      <td id=\"T_dd37e_row0_col17\" class=\"data row0 col17\" >mai</td>\n",
       "    </tr>\n",
       "  </tbody>\n",
       "</table>\n"
      ],
      "text/plain": [
       "<pandas.io.formats.style.Styler at 0x284fbd6b550>"
      ]
     },
     "execution_count": 19,
     "metadata": {},
     "output_type": "execute_result"
    }
   ],
   "source": [
    "sql = \"\"\"\n",
    "SELECT * \n",
    "FROM stocks \n",
    "WHERE name = '%s'\n",
    "\"\"\"\n",
    "sql = sql % name\n",
    "print(sql)\n",
    "\n",
    "stocks = pd.read_sql(sql, conlite)\n",
    "stocks.style.format(format_dict)"
   ]
  },
  {
   "cell_type": "markdown",
   "metadata": {},
   "source": [
    "### End of Sale process to stocks table in SQLite port_lite database"
   ]
  },
  {
   "cell_type": "markdown",
   "metadata": {},
   "source": [
    "### Begin of Update dividend table in MySQL stock database for sells transactions"
   ]
  },
  {
   "cell_type": "code",
   "execution_count": 21,
   "metadata": {},
   "outputs": [
    {
     "name": "stdout",
     "output_type": "stream",
     "text": [
      "\n",
      "SELECT * \n",
      "FROM dividend \n",
      "WHERE name = \"IMH\" \n",
      "\n"
     ]
    },
    {
     "data": {
      "text/html": [
       "<style type=\"text/css\">\n",
       "</style>\n",
       "<table id=\"T_e8990_\">\n",
       "  <thead>\n",
       "    <tr>\n",
       "      <th class=\"blank level0\" >&nbsp;</th>\n",
       "      <th class=\"col_heading level0 col0\" >NAME</th>\n",
       "      <th class=\"col_heading level0 col1\" >Q4</th>\n",
       "      <th class=\"col_heading level0 col2\" >Q3</th>\n",
       "      <th class=\"col_heading level0 col3\" >Q2</th>\n",
       "      <th class=\"col_heading level0 col4\" >Q1</th>\n",
       "      <th class=\"col_heading level0 col5\" >DIVIDEND</th>\n",
       "      <th class=\"col_heading level0 col6\" >PRICE</th>\n",
       "      <th class=\"col_heading level0 col7\" >PERCENT</th>\n",
       "      <th class=\"col_heading level0 col8\" >SHARES</th>\n",
       "      <th class=\"col_heading level0 col9\" >XDATE</th>\n",
       "      <th class=\"col_heading level0 col10\" >PAIDDATE</th>\n",
       "      <th class=\"col_heading level0 col11\" >KIND</th>\n",
       "      <th class=\"col_heading level0 col12\" >ACTUAL</th>\n",
       "    </tr>\n",
       "  </thead>\n",
       "  <tbody>\n",
       "  </tbody>\n",
       "</table>\n"
      ],
      "text/plain": [
       "<pandas.io.formats.style.Styler at 0x284fbd6b850>"
      ]
     },
     "execution_count": 21,
     "metadata": {},
     "output_type": "execute_result"
    }
   ],
   "source": [
    "sql = \"\"\"\n",
    "SELECT * \n",
    "FROM dividend \n",
    "WHERE name = \"%s\" \n",
    "\"\"\"\n",
    "sql = sql % name\n",
    "print(sql)\n",
    "\n",
    "dividend = pd.read_sql(sql, const)\n",
    "dividend.style.format(format_dict)"
   ]
  },
  {
   "cell_type": "code",
   "execution_count": null,
   "metadata": {},
   "outputs": [],
   "source": [
    "sqlUpd = '''\n",
    "UPDATE dividend\n",
    "SET shares = shares + %s\n",
    "WHERE name = \"%s\"'''\n",
    "sqlUpd = sqlUpd % (qty, name)\n",
    "print(sqlUpd)\n",
    "\n",
    "rp = const.execute(sqlUpd)\n",
    "rp.rowcount"
   ]
  },
  {
   "cell_type": "code",
   "execution_count": null,
   "metadata": {},
   "outputs": [],
   "source": [
    "sqlDel = \"\"\"\n",
    "DELETE FROM dividend\n",
    "WHERE name = '%s' AND shares = 0\n",
    "\"\"\"\n",
    "sqlDel = sqlDel % name\n",
    "print(sqlDel)\n",
    "\n",
    "rp = const.execute(sqlDel)\n",
    "rp.rowcount"
   ]
  },
  {
   "cell_type": "markdown",
   "metadata": {},
   "source": [
    "### End of Update table dividend in mysql stock database for sells transactions"
   ]
  },
  {
   "cell_type": "markdown",
   "metadata": {},
   "source": [
    "### Buys transactions"
   ]
  },
  {
   "cell_type": "markdown",
   "metadata": {},
   "source": [
    "### Begin of Buy process to buy table in MySQL database"
   ]
  },
  {
   "cell_type": "code",
   "execution_count": 2,
   "metadata": {},
   "outputs": [
    {
     "name": "stdout",
     "output_type": "stream",
     "text": [
      "\n",
      "SELECT * \n",
      "FROM buys\n",
      "ORDER BY id DESC\n",
      "LIMIT 1\n",
      "\n"
     ]
    },
    {
     "data": {
      "text/html": [
       "<div>\n",
       "<style scoped>\n",
       "    .dataframe tbody tr th:only-of-type {\n",
       "        vertical-align: middle;\n",
       "    }\n",
       "\n",
       "    .dataframe tbody tr th {\n",
       "        vertical-align: top;\n",
       "    }\n",
       "\n",
       "    .dataframe thead th {\n",
       "        text-align: right;\n",
       "    }\n",
       "</style>\n",
       "<table border=\"1\" class=\"dataframe\">\n",
       "  <thead>\n",
       "    <tr style=\"text-align: right;\">\n",
       "      <th></th>\n",
       "      <th>id</th>\n",
       "      <th>stock_id</th>\n",
       "      <th>date</th>\n",
       "      <th>qty</th>\n",
       "      <th>price</th>\n",
       "      <th>fee</th>\n",
       "      <th>vat</th>\n",
       "      <th>status</th>\n",
       "      <th>net</th>\n",
       "      <th>kind</th>\n",
       "      <th>chart</th>\n",
       "    </tr>\n",
       "  </thead>\n",
       "  <tbody>\n",
       "    <tr>\n",
       "      <th>0</th>\n",
       "      <td>1092</td>\n",
       "      <td>113</td>\n",
       "      <td>2022-01-07</td>\n",
       "      <td>6000</td>\n",
       "      <td>31.5</td>\n",
       "      <td>391.23</td>\n",
       "      <td>27.39</td>\n",
       "      <td>Active</td>\n",
       "      <td>189418.62</td>\n",
       "      <td>DTD</td>\n",
       "      <td>None</td>\n",
       "    </tr>\n",
       "  </tbody>\n",
       "</table>\n",
       "</div>"
      ],
      "text/plain": [
       "     id  stock_id        date   qty  price     fee    vat  status        net  \\\n",
       "0  1092       113  2022-01-07  6000   31.5  391.23  27.39  Active  189418.62   \n",
       "\n",
       "  kind chart  \n",
       "0  DTD  None  "
      ]
     },
     "execution_count": 2,
     "metadata": {},
     "output_type": "execute_result"
    }
   ],
   "source": [
    "sql = \"\"\"\n",
    "SELECT * \n",
    "FROM buys\n",
    "ORDER BY id DESC\n",
    "LIMIT 1\n",
    "\"\"\"\n",
    "print(sql)\n",
    "buys = pd.read_sql(sql, conpf)\n",
    "buys"
   ]
  },
  {
   "cell_type": "markdown",
   "metadata": {},
   "source": [
    "### In case there is the same stock name in port"
   ]
  },
  {
   "cell_type": "code",
   "execution_count": 29,
   "metadata": {},
   "outputs": [
    {
     "data": {
      "text/plain": [
       "3000"
      ]
     },
     "execution_count": 29,
     "metadata": {},
     "output_type": "execute_result"
    }
   ],
   "source": [
    "buy_quantities = buys['qty']\n",
    "buy_qty = buy_quantities.to_string(index=False)\n",
    "buy_qty = int(buy_qty) * 1\n",
    "buy_qty"
   ]
  },
  {
   "cell_type": "code",
   "execution_count": 30,
   "metadata": {},
   "outputs": [
    {
     "name": "stdout",
     "output_type": "stream",
     "text": [
      "\n",
      "UPDATE buy\n",
      "SET volbuy = volbuy + 3000, price = 20.2\n",
      "WHERE name = \"IP\"\n"
     ]
    }
   ],
   "source": [
    "new_cost = 20.20 # new average cost must be calculated manually beforehand\n",
    "\n",
    "sqlUpd = '''\n",
    "UPDATE buy\n",
    "SET volbuy = volbuy + %s, price = %s\n",
    "WHERE name = \"%s\"'''\n",
    "sqlUpd = sqlUpd % (buy_qty, new_cost, name)\n",
    "print(sqlUpd)"
   ]
  },
  {
   "cell_type": "code",
   "execution_count": 31,
   "metadata": {},
   "outputs": [
    {
     "data": {
      "text/plain": [
       "1"
      ]
     },
     "execution_count": 31,
     "metadata": {},
     "output_type": "execute_result"
    }
   ],
   "source": [
    "rp = const.execute(sqlUpd)\n",
    "rp.rowcount"
   ]
  },
  {
   "cell_type": "markdown",
   "metadata": {},
   "source": [
    "### In case of totally new stock"
   ]
  },
  {
   "cell_type": "code",
   "execution_count": 7,
   "metadata": {},
   "outputs": [
    {
     "name": "stdout",
     "output_type": "stream",
     "text": [
      "\n",
      "INSERT INTO buy \n",
      "VALUES('SYNEX','2022-01-07',6000,31.5,0,0,1,0,'3','A2')\n",
      "\n"
     ]
    }
   ],
   "source": [
    "sqlIns = \"\"\"\n",
    "INSERT INTO buy \n",
    "VALUES('SYNEX','2022-01-07',6000,31.5,0,0,1,0,'3','A2')\n",
    "\"\"\"\n",
    "print(sqlIns)"
   ]
  },
  {
   "cell_type": "code",
   "execution_count": 8,
   "metadata": {},
   "outputs": [
    {
     "data": {
      "text/plain": [
       "1"
      ]
     },
     "execution_count": 8,
     "metadata": {},
     "output_type": "execute_result"
    }
   ],
   "source": [
    "rp = const.execute(sqlIns)\n",
    "rp.rowcount"
   ]
  },
  {
   "cell_type": "markdown",
   "metadata": {},
   "source": [
    "### End of Buy process to buy table in MySQL database"
   ]
  },
  {
   "cell_type": "markdown",
   "metadata": {},
   "source": [
    "### Begin of Buy process to stocks table in SQLite port_lite database"
   ]
  },
  {
   "cell_type": "code",
   "execution_count": 32,
   "metadata": {},
   "outputs": [
    {
     "name": "stdout",
     "output_type": "stream",
     "text": [
      "\n",
      "SELECT * \n",
      "FROM stocks \n",
      "WHERE name = 'IP'\n",
      "\n"
     ]
    },
    {
     "data": {
      "text/html": [
       "<style type=\"text/css\">\n",
       "</style>\n",
       "<table id=\"T_7f931_\">\n",
       "  <thead>\n",
       "    <tr>\n",
       "      <th class=\"blank level0\" >&nbsp;</th>\n",
       "      <th class=\"col_heading level0 col0\" >id</th>\n",
       "      <th class=\"col_heading level0 col1\" >name</th>\n",
       "      <th class=\"col_heading level0 col2\" >max_price</th>\n",
       "      <th class=\"col_heading level0 col3\" >min_price</th>\n",
       "      <th class=\"col_heading level0 col4\" >status</th>\n",
       "      <th class=\"col_heading level0 col5\" >buy_target</th>\n",
       "      <th class=\"col_heading level0 col6\" >sell_target</th>\n",
       "      <th class=\"col_heading level0 col7\" >volume</th>\n",
       "      <th class=\"col_heading level0 col8\" >beta</th>\n",
       "      <th class=\"col_heading level0 col9\" >cost</th>\n",
       "      <th class=\"col_heading level0 col10\" >qty</th>\n",
       "      <th class=\"col_heading level0 col11\" >buy_spread</th>\n",
       "      <th class=\"col_heading level0 col12\" >sell_spread</th>\n",
       "      <th class=\"col_heading level0 col13\" >available_qty</th>\n",
       "      <th class=\"col_heading level0 col14\" >bl</th>\n",
       "      <th class=\"col_heading level0 col15\" >sh</th>\n",
       "      <th class=\"col_heading level0 col16\" >reason</th>\n",
       "      <th class=\"col_heading level0 col17\" >market</th>\n",
       "    </tr>\n",
       "  </thead>\n",
       "  <tbody>\n",
       "    <tr>\n",
       "      <th id=\"T_7f931_level0_row0\" class=\"row_heading level0 row0\" >0</th>\n",
       "      <td id=\"T_7f931_row0_col0\" class=\"data row0 col0\" >665</td>\n",
       "      <td id=\"T_7f931_row0_col1\" class=\"data row0 col1\" >IP</td>\n",
       "      <td id=\"T_7f931_row0_col2\" class=\"data row0 col2\" >24.47</td>\n",
       "      <td id=\"T_7f931_row0_col3\" class=\"data row0 col3\" >10.66</td>\n",
       "      <td id=\"T_7f931_row0_col4\" class=\"data row0 col4\" >B</td>\n",
       "      <td id=\"T_7f931_row0_col5\" class=\"data row0 col5\" >19.20</td>\n",
       "      <td id=\"T_7f931_row0_col6\" class=\"data row0 col6\" >0.00</td>\n",
       "      <td id=\"T_7f931_row0_col7\" class=\"data row0 col7\" >6.93</td>\n",
       "      <td id=\"T_7f931_row0_col8\" class=\"data row0 col8\" >0.76</td>\n",
       "      <td id=\"T_7f931_row0_col9\" class=\"data row0 col9\" >20.60</td>\n",
       "      <td id=\"T_7f931_row0_col10\" class=\"data row0 col10\" >3,000</td>\n",
       "      <td id=\"T_7f931_row0_col11\" class=\"data row0 col11\" >-8</td>\n",
       "      <td id=\"T_7f931_row0_col12\" class=\"data row0 col12\" >9</td>\n",
       "      <td id=\"T_7f931_row0_col13\" class=\"data row0 col13\" >7,500</td>\n",
       "      <td id=\"T_7f931_row0_col14\" class=\"data row0 col14\" >0</td>\n",
       "      <td id=\"T_7f931_row0_col15\" class=\"data row0 col15\" >0</td>\n",
       "      <td id=\"T_7f931_row0_col16\" class=\"data row0 col16\" >RD05pct</td>\n",
       "      <td id=\"T_7f931_row0_col17\" class=\"data row0 col17\" >mai</td>\n",
       "    </tr>\n",
       "  </tbody>\n",
       "</table>\n"
      ],
      "text/plain": [
       "<pandas.io.formats.style.Styler at 0x284fbd19bb0>"
      ]
     },
     "execution_count": 32,
     "metadata": {},
     "output_type": "execute_result"
    }
   ],
   "source": [
    "sql = \"\"\"\n",
    "SELECT * \n",
    "FROM stocks \n",
    "WHERE name = '%s'\n",
    "\"\"\"\n",
    "sql = sql % name\n",
    "print(sql)\n",
    "\n",
    "stocks = pd.read_sql(sql, conlite)\n",
    "stocks.style.format(format_dict)"
   ]
  },
  {
   "cell_type": "code",
   "execution_count": 34,
   "metadata": {},
   "outputs": [
    {
     "name": "stdout",
     "output_type": "stream",
     "text": [
      "\n",
      "UPDATE stocks\n",
      "SET available_qty = available_qty + 3000, cost = 20.2, sell_target = 23.20, status = 'I', reason = '15pct'\n",
      "WHERE name = 'IP'\n",
      "\n"
     ]
    }
   ],
   "source": [
    "sqlUpd = \"\"\"\n",
    "UPDATE stocks\n",
    "SET available_qty = available_qty + %s, cost = %s, sell_target = 23.20, status = 'I', reason = '15pct'\n",
    "WHERE name = '%s'\n",
    "\"\"\"\n",
    "sqlUpd = sqlUpd % (buy_qty, new_cost, name)\n",
    "print(sqlUpd)"
   ]
  },
  {
   "cell_type": "code",
   "execution_count": 35,
   "metadata": {},
   "outputs": [
    {
     "data": {
      "text/plain": [
       "1"
      ]
     },
     "execution_count": 35,
     "metadata": {},
     "output_type": "execute_result"
    }
   ],
   "source": [
    "rp = conlite.execute(sqlUpd)\n",
    "rp.rowcount"
   ]
  },
  {
   "cell_type": "code",
   "execution_count": 36,
   "metadata": {},
   "outputs": [
    {
     "name": "stdout",
     "output_type": "stream",
     "text": [
      "\n",
      "SELECT * \n",
      "FROM stocks \n",
      "WHERE name = 'IP'\n",
      "\n"
     ]
    },
    {
     "data": {
      "text/html": [
       "<style type=\"text/css\">\n",
       "</style>\n",
       "<table id=\"T_a664f_\">\n",
       "  <thead>\n",
       "    <tr>\n",
       "      <th class=\"blank level0\" >&nbsp;</th>\n",
       "      <th class=\"col_heading level0 col0\" >id</th>\n",
       "      <th class=\"col_heading level0 col1\" >name</th>\n",
       "      <th class=\"col_heading level0 col2\" >max_price</th>\n",
       "      <th class=\"col_heading level0 col3\" >min_price</th>\n",
       "      <th class=\"col_heading level0 col4\" >status</th>\n",
       "      <th class=\"col_heading level0 col5\" >buy_target</th>\n",
       "      <th class=\"col_heading level0 col6\" >sell_target</th>\n",
       "      <th class=\"col_heading level0 col7\" >volume</th>\n",
       "      <th class=\"col_heading level0 col8\" >beta</th>\n",
       "      <th class=\"col_heading level0 col9\" >cost</th>\n",
       "      <th class=\"col_heading level0 col10\" >qty</th>\n",
       "      <th class=\"col_heading level0 col11\" >buy_spread</th>\n",
       "      <th class=\"col_heading level0 col12\" >sell_spread</th>\n",
       "      <th class=\"col_heading level0 col13\" >available_qty</th>\n",
       "      <th class=\"col_heading level0 col14\" >bl</th>\n",
       "      <th class=\"col_heading level0 col15\" >sh</th>\n",
       "      <th class=\"col_heading level0 col16\" >reason</th>\n",
       "      <th class=\"col_heading level0 col17\" >market</th>\n",
       "    </tr>\n",
       "  </thead>\n",
       "  <tbody>\n",
       "    <tr>\n",
       "      <th id=\"T_a664f_level0_row0\" class=\"row_heading level0 row0\" >0</th>\n",
       "      <td id=\"T_a664f_row0_col0\" class=\"data row0 col0\" >665</td>\n",
       "      <td id=\"T_a664f_row0_col1\" class=\"data row0 col1\" >IP</td>\n",
       "      <td id=\"T_a664f_row0_col2\" class=\"data row0 col2\" >24.47</td>\n",
       "      <td id=\"T_a664f_row0_col3\" class=\"data row0 col3\" >10.66</td>\n",
       "      <td id=\"T_a664f_row0_col4\" class=\"data row0 col4\" >I</td>\n",
       "      <td id=\"T_a664f_row0_col5\" class=\"data row0 col5\" >19.20</td>\n",
       "      <td id=\"T_a664f_row0_col6\" class=\"data row0 col6\" >23.20</td>\n",
       "      <td id=\"T_a664f_row0_col7\" class=\"data row0 col7\" >6.93</td>\n",
       "      <td id=\"T_a664f_row0_col8\" class=\"data row0 col8\" >0.76</td>\n",
       "      <td id=\"T_a664f_row0_col9\" class=\"data row0 col9\" >20.20</td>\n",
       "      <td id=\"T_a664f_row0_col10\" class=\"data row0 col10\" >3,000</td>\n",
       "      <td id=\"T_a664f_row0_col11\" class=\"data row0 col11\" >-8</td>\n",
       "      <td id=\"T_a664f_row0_col12\" class=\"data row0 col12\" >9</td>\n",
       "      <td id=\"T_a664f_row0_col13\" class=\"data row0 col13\" >10,500</td>\n",
       "      <td id=\"T_a664f_row0_col14\" class=\"data row0 col14\" >0</td>\n",
       "      <td id=\"T_a664f_row0_col15\" class=\"data row0 col15\" >0</td>\n",
       "      <td id=\"T_a664f_row0_col16\" class=\"data row0 col16\" >15pct</td>\n",
       "      <td id=\"T_a664f_row0_col17\" class=\"data row0 col17\" >mai</td>\n",
       "    </tr>\n",
       "  </tbody>\n",
       "</table>\n"
      ],
      "text/plain": [
       "<pandas.io.formats.style.Styler at 0x284fc005a00>"
      ]
     },
     "execution_count": 36,
     "metadata": {},
     "output_type": "execute_result"
    }
   ],
   "source": [
    "sql = \"\"\"\n",
    "SELECT * \n",
    "FROM stocks \n",
    "WHERE name = '%s'\n",
    "\"\"\"\n",
    "sql = sql % name\n",
    "print(sql)\n",
    "\n",
    "stocks = pd.read_sql(sql, conlite)\n",
    "stocks.style.format(format_dict)"
   ]
  },
  {
   "cell_type": "markdown",
   "metadata": {},
   "source": [
    "### End of Buy process to stocks table in SQLite port_lite database"
   ]
  },
  {
   "cell_type": "markdown",
   "metadata": {},
   "source": [
    "### Begin of Update dividend table in MySQL stock database for buy transactions"
   ]
  },
  {
   "cell_type": "code",
   "execution_count": 37,
   "metadata": {},
   "outputs": [
    {
     "name": "stdout",
     "output_type": "stream",
     "text": [
      "\n",
      "SELECT * \n",
      "FROM dividend \n",
      "WHERE name = \"IP\" \n",
      "\n"
     ]
    },
    {
     "data": {
      "text/html": [
       "<style type=\"text/css\">\n",
       "</style>\n",
       "<table id=\"T_7fb11_\">\n",
       "  <thead>\n",
       "    <tr>\n",
       "      <th class=\"blank level0\" >&nbsp;</th>\n",
       "      <th class=\"col_heading level0 col0\" >NAME</th>\n",
       "      <th class=\"col_heading level0 col1\" >Q4</th>\n",
       "      <th class=\"col_heading level0 col2\" >Q3</th>\n",
       "      <th class=\"col_heading level0 col3\" >Q2</th>\n",
       "      <th class=\"col_heading level0 col4\" >Q1</th>\n",
       "      <th class=\"col_heading level0 col5\" >DIVIDEND</th>\n",
       "      <th class=\"col_heading level0 col6\" >PRICE</th>\n",
       "      <th class=\"col_heading level0 col7\" >PERCENT</th>\n",
       "      <th class=\"col_heading level0 col8\" >SHARES</th>\n",
       "      <th class=\"col_heading level0 col9\" >XDATE</th>\n",
       "      <th class=\"col_heading level0 col10\" >PAIDDATE</th>\n",
       "      <th class=\"col_heading level0 col11\" >KIND</th>\n",
       "      <th class=\"col_heading level0 col12\" >ACTUAL</th>\n",
       "    </tr>\n",
       "  </thead>\n",
       "  <tbody>\n",
       "    <tr>\n",
       "      <th id=\"T_7fb11_level0_row0\" class=\"row_heading level0 row0\" >0</th>\n",
       "      <td id=\"T_7fb11_row0_col0\" class=\"data row0 col0\" >IP</td>\n",
       "      <td id=\"T_7fb11_row0_col1\" class=\"data row0 col1\" >0.185</td>\n",
       "      <td id=\"T_7fb11_row0_col2\" class=\"data row0 col2\" >0.000</td>\n",
       "      <td id=\"T_7fb11_row0_col3\" class=\"data row0 col3\" >0.000</td>\n",
       "      <td id=\"T_7fb11_row0_col4\" class=\"data row0 col4\" >0.000</td>\n",
       "      <td id=\"T_7fb11_row0_col5\" class=\"data row0 col5\" >0.185</td>\n",
       "      <td id=\"T_7fb11_row0_col6\" class=\"data row0 col6\" >0.00</td>\n",
       "      <td id=\"T_7fb11_row0_col7\" class=\"data row0 col7\" >0.00%</td>\n",
       "      <td id=\"T_7fb11_row0_col8\" class=\"data row0 col8\" >7,500.0</td>\n",
       "      <td id=\"T_7fb11_row0_col9\" class=\"data row0 col9\" >2022-04-27</td>\n",
       "      <td id=\"T_7fb11_row0_col10\" class=\"data row0 col10\" >2022-04-27</td>\n",
       "      <td id=\"T_7fb11_row0_col11\" class=\"data row0 col11\" ></td>\n",
       "      <td id=\"T_7fb11_row0_col12\" class=\"data row0 col12\" >0</td>\n",
       "    </tr>\n",
       "  </tbody>\n",
       "</table>\n"
      ],
      "text/plain": [
       "<pandas.io.formats.style.Styler at 0x284fc008f40>"
      ]
     },
     "execution_count": 37,
     "metadata": {},
     "output_type": "execute_result"
    }
   ],
   "source": [
    "sql = \"\"\"\n",
    "SELECT * \n",
    "FROM dividend \n",
    "WHERE name = \"%s\" \n",
    "\"\"\"\n",
    "sql = sql % name\n",
    "print(sql)\n",
    "\n",
    "dividend = pd.read_sql(sql, const)\n",
    "dividend.style.format(format_dict)"
   ]
  },
  {
   "cell_type": "code",
   "execution_count": 38,
   "metadata": {},
   "outputs": [
    {
     "name": "stdout",
     "output_type": "stream",
     "text": [
      "\n",
      "UPDATE dividend\n",
      "SET shares = shares + 3000\n",
      "WHERE name = \"IP\"\n"
     ]
    }
   ],
   "source": [
    "sqlUpd = '''\n",
    "UPDATE dividend\n",
    "SET shares = shares + %s\n",
    "WHERE name = \"%s\"'''\n",
    "sqlUpd = sqlUpd % (buy_qty, name)\n",
    "print(sqlUpd)"
   ]
  },
  {
   "cell_type": "code",
   "execution_count": 39,
   "metadata": {},
   "outputs": [
    {
     "data": {
      "text/plain": [
       "1"
      ]
     },
     "execution_count": 39,
     "metadata": {},
     "output_type": "execute_result"
    }
   ],
   "source": [
    "rp = const.execute(sqlUpd)\n",
    "rp.rowcount"
   ]
  },
  {
   "cell_type": "code",
   "execution_count": 40,
   "metadata": {},
   "outputs": [
    {
     "name": "stdout",
     "output_type": "stream",
     "text": [
      "\n",
      "SELECT * \n",
      "FROM dividend \n",
      "WHERE name = \"IP\" \n",
      "\n"
     ]
    },
    {
     "data": {
      "text/html": [
       "<style type=\"text/css\">\n",
       "</style>\n",
       "<table id=\"T_751a3_\">\n",
       "  <thead>\n",
       "    <tr>\n",
       "      <th class=\"blank level0\" >&nbsp;</th>\n",
       "      <th class=\"col_heading level0 col0\" >NAME</th>\n",
       "      <th class=\"col_heading level0 col1\" >Q4</th>\n",
       "      <th class=\"col_heading level0 col2\" >Q3</th>\n",
       "      <th class=\"col_heading level0 col3\" >Q2</th>\n",
       "      <th class=\"col_heading level0 col4\" >Q1</th>\n",
       "      <th class=\"col_heading level0 col5\" >DIVIDEND</th>\n",
       "      <th class=\"col_heading level0 col6\" >PRICE</th>\n",
       "      <th class=\"col_heading level0 col7\" >PERCENT</th>\n",
       "      <th class=\"col_heading level0 col8\" >SHARES</th>\n",
       "      <th class=\"col_heading level0 col9\" >XDATE</th>\n",
       "      <th class=\"col_heading level0 col10\" >PAIDDATE</th>\n",
       "      <th class=\"col_heading level0 col11\" >KIND</th>\n",
       "      <th class=\"col_heading level0 col12\" >ACTUAL</th>\n",
       "    </tr>\n",
       "  </thead>\n",
       "  <tbody>\n",
       "    <tr>\n",
       "      <th id=\"T_751a3_level0_row0\" class=\"row_heading level0 row0\" >0</th>\n",
       "      <td id=\"T_751a3_row0_col0\" class=\"data row0 col0\" >IP</td>\n",
       "      <td id=\"T_751a3_row0_col1\" class=\"data row0 col1\" >0.185</td>\n",
       "      <td id=\"T_751a3_row0_col2\" class=\"data row0 col2\" >0.000</td>\n",
       "      <td id=\"T_751a3_row0_col3\" class=\"data row0 col3\" >0.000</td>\n",
       "      <td id=\"T_751a3_row0_col4\" class=\"data row0 col4\" >0.000</td>\n",
       "      <td id=\"T_751a3_row0_col5\" class=\"data row0 col5\" >0.185</td>\n",
       "      <td id=\"T_751a3_row0_col6\" class=\"data row0 col6\" >0.00</td>\n",
       "      <td id=\"T_751a3_row0_col7\" class=\"data row0 col7\" >0.00%</td>\n",
       "      <td id=\"T_751a3_row0_col8\" class=\"data row0 col8\" >10,500.0</td>\n",
       "      <td id=\"T_751a3_row0_col9\" class=\"data row0 col9\" >2022-04-27</td>\n",
       "      <td id=\"T_751a3_row0_col10\" class=\"data row0 col10\" >2022-04-27</td>\n",
       "      <td id=\"T_751a3_row0_col11\" class=\"data row0 col11\" ></td>\n",
       "      <td id=\"T_751a3_row0_col12\" class=\"data row0 col12\" >0</td>\n",
       "    </tr>\n",
       "  </tbody>\n",
       "</table>\n"
      ],
      "text/plain": [
       "<pandas.io.formats.style.Styler at 0x284fc008970>"
      ]
     },
     "execution_count": 40,
     "metadata": {},
     "output_type": "execute_result"
    }
   ],
   "source": [
    "sql = \"\"\"\n",
    "SELECT * \n",
    "FROM dividend \n",
    "WHERE name = \"%s\" \n",
    "\"\"\"\n",
    "sql = sql % name\n",
    "print(sql)\n",
    "\n",
    "dividend = pd.read_sql(sql, const)\n",
    "dividend.style.format(format_dict)"
   ]
  },
  {
   "cell_type": "markdown",
   "metadata": {},
   "source": [
    "### End of Update dividend table in MySQL stock database for buy transactions"
   ]
  },
  {
   "cell_type": "code",
   "execution_count": null,
   "metadata": {},
   "outputs": [],
   "source": []
  }
 ],
 "metadata": {
  "anaconda-cloud": {},
  "kernelspec": {
   "display_name": "Python 3 (ipykernel)",
   "language": "python",
   "name": "python3"
  },
  "language_info": {
   "codemirror_mode": {
    "name": "ipython",
    "version": 3
   },
   "file_extension": ".py",
   "mimetype": "text/x-python",
   "name": "python",
   "nbconvert_exporter": "python",
   "pygments_lexer": "ipython3",
   "version": "3.8.11"
  }
 },
 "nbformat": 4,
 "nbformat_minor": 1
}
