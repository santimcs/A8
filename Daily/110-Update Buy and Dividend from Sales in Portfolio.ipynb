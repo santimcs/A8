{
 "cells": [
  {
   "cell_type": "code",
   "execution_count": 1,
   "metadata": {},
   "outputs": [
    {
     "data": {
      "text/plain": [
       "datetime.date(2022, 1, 5)"
      ]
     },
     "execution_count": 1,
     "metadata": {},
     "output_type": "execute_result"
    }
   ],
   "source": [
    "import pandas as pd\n",
    "from datetime import date, timedelta\n",
    "from sqlalchemy import create_engine\n",
    "\n",
    "engine = create_engine('mysql+pymysql://root:@localhost:3306/portfolio_development')\n",
    "conpf = engine.connect()\n",
    "\n",
    "engine = create_engine(\"mysql+pymysql://root:@localhost:3306/stock\")\n",
    "const = engine.connect()\n",
    "\n",
    "engine = create_engine(\"sqlite:///c:\\\\ruby\\\\port_lite\\\\db\\\\development.sqlite3\")\n",
    "conlite = engine.connect()\n",
    "\n",
    "today = date.today()\n",
    "today"
   ]
  },
  {
   "cell_type": "markdown",
   "metadata": {},
   "source": [
    "### Sell transactions"
   ]
  },
  {
   "cell_type": "code",
   "execution_count": 3,
   "metadata": {},
   "outputs": [],
   "source": [
    "format_dict = {\n",
    "               'qty':'{:,}','SHARES':'{:,}','available_qty':'{:,}','volbuy':'{:,}','volsell':'{:,}','volbal':'{:,}',\n",
    "               'price':'{:,.2f}','PRICE':'{:,.2f}','max_price':'{:,.2f}','min_price':'{:,.2f}',\n",
    "               'buy_target':'{:,.2f}','sell_target':'{:,.2f}','fee':'{:,.2f}','vat':'{:,.2f}',\n",
    "               'net':'{:,.2f}','profit':'{:,.2f}','cost':'{:,.2f}','volume':'{:,.2f}','beta':'{:,.2f}',\n",
    "               'Q4':'{:,.3f}','Q3':'{:,.3f}','Q2':'{:,.3f}','Q1':'{:,.3f}','DIVIDEND':'{:,.3f}',\n",
    "               'percent':'{:,.2f}%','PERCENT':'{:,.2f}%','yearly':'{:,.2f}%','pct':'{:,.2f}%',\n",
    "              }"
   ]
  },
  {
   "cell_type": "code",
   "execution_count": null,
   "metadata": {},
   "outputs": [],
   "source": [
    "pd.read_sql_query('SELECT * FROM buy ORDER BY date DESC LIMIT 1', const)"
   ]
  },
  {
   "cell_type": "code",
   "execution_count": null,
   "metadata": {},
   "outputs": [],
   "source": [
    "date = today.strftime('%Y-%m-%d')\n",
    "date"
   ]
  },
  {
   "cell_type": "code",
   "execution_count": null,
   "metadata": {},
   "outputs": [],
   "source": [
    "sqlIns = \"\"\"\n",
    "INSERT INTO buy \n",
    "VALUES('WHART','2022-01-05',10000,12.50,0,0,1,0,'3','A2')\n",
    "\"\"\"\n",
    "print(sqlIns)"
   ]
  },
  {
   "cell_type": "code",
   "execution_count": null,
   "metadata": {},
   "outputs": [],
   "source": [
    "rp = const.execute(sqlIns)\n",
    "rp.rowcount"
   ]
  },
  {
   "cell_type": "code",
   "execution_count": null,
   "metadata": {},
   "outputs": [],
   "source": [
    "sql = '''\n",
    "SELECT T.name, S.* , B.net AS cost, B.qty \n",
    "FROM sells S\n",
    "JOIN buys B\n",
    "ON buy_id = B.id\n",
    "JOIN stocks T\n",
    "ON B.stock_id = T.id\n",
    "WHERE S.date = '%s'\n",
    "ORDER BY S.id DESC LIMIT 1\n",
    "'''\n",
    "sql = sql % today\n",
    "sells = pd.read_sql(sql, conpf)\n",
    "sells.style.format(format_dict)"
   ]
  },
  {
   "cell_type": "code",
   "execution_count": null,
   "metadata": {},
   "outputs": [],
   "source": [
    "names = sells['name']\n",
    "name = names.to_string(index=False)\n",
    "name"
   ]
  },
  {
   "cell_type": "code",
   "execution_count": null,
   "metadata": {},
   "outputs": [],
   "source": [
    "sr_qty = sells['qty']\n",
    "qty_str = sr_qty.to_string(index=False)\n",
    "qty = int(qty_str) * -1\n",
    "qty"
   ]
  },
  {
   "cell_type": "code",
   "execution_count": null,
   "metadata": {},
   "outputs": [],
   "source": [
    "sql = \"\"\"\n",
    "SELECT * \n",
    "FROM buy \n",
    "WHERE name = '%s'\n",
    "\"\"\"\n",
    "sql = sql % name\n",
    "print(sql)\n",
    "\n",
    "buy = pd.read_sql(sql, const)\n",
    "buy"
   ]
  },
  {
   "cell_type": "code",
   "execution_count": null,
   "metadata": {},
   "outputs": [],
   "source": [
    "sqlUpd = '''\n",
    "UPDATE buy\n",
    "SET volbuy = volbuy + %s\n",
    "WHERE name = \"%s\"'''\n",
    "sqlUpd = sqlUpd % (qty, name)\n",
    "print(sqlUpd)"
   ]
  },
  {
   "cell_type": "code",
   "execution_count": null,
   "metadata": {},
   "outputs": [],
   "source": [
    "rp = const.execute(sqlUpd)\n",
    "rp.rowcount"
   ]
  },
  {
   "cell_type": "code",
   "execution_count": null,
   "metadata": {},
   "outputs": [],
   "source": [
    "sqlDel = '''\n",
    "DELETE FROM buy\n",
    "WHERE volbuy = 0'''\n",
    "rp = const.execute(sqlDel)\n",
    "rp.rowcount"
   ]
  },
  {
   "cell_type": "markdown",
   "metadata": {},
   "source": [
    "### Buys transactions"
   ]
  },
  {
   "cell_type": "markdown",
   "metadata": {},
   "source": [
    "### Update if same stock already existed"
   ]
  },
  {
   "cell_type": "code",
   "execution_count": 4,
   "metadata": {},
   "outputs": [
    {
     "data": {
      "text/html": [
       "<style type=\"text/css\">\n",
       "</style>\n",
       "<table id=\"T_8e902_\">\n",
       "  <thead>\n",
       "    <tr>\n",
       "      <th class=\"blank level0\" >&nbsp;</th>\n",
       "      <th class=\"col_heading level0 col0\" >name</th>\n",
       "      <th class=\"col_heading level0 col1\" >id</th>\n",
       "      <th class=\"col_heading level0 col2\" >stock_id</th>\n",
       "      <th class=\"col_heading level0 col3\" >date</th>\n",
       "      <th class=\"col_heading level0 col4\" >qty</th>\n",
       "      <th class=\"col_heading level0 col5\" >price</th>\n",
       "      <th class=\"col_heading level0 col6\" >fee</th>\n",
       "      <th class=\"col_heading level0 col7\" >vat</th>\n",
       "      <th class=\"col_heading level0 col8\" >status</th>\n",
       "      <th class=\"col_heading level0 col9\" >net</th>\n",
       "      <th class=\"col_heading level0 col10\" >kind</th>\n",
       "      <th class=\"col_heading level0 col11\" >chart</th>\n",
       "    </tr>\n",
       "  </thead>\n",
       "  <tbody>\n",
       "    <tr>\n",
       "      <th id=\"T_8e902_level0_row0\" class=\"row_heading level0 row0\" >0</th>\n",
       "      <td id=\"T_8e902_row0_col0\" class=\"data row0 col0\" >DOHOME</td>\n",
       "      <td id=\"T_8e902_row0_col1\" class=\"data row0 col1\" >1089</td>\n",
       "      <td id=\"T_8e902_row0_col2\" class=\"data row0 col2\" >187</td>\n",
       "      <td id=\"T_8e902_row0_col3\" class=\"data row0 col3\" >2022-01-05</td>\n",
       "      <td id=\"T_8e902_row0_col4\" class=\"data row0 col4\" >4,000</td>\n",
       "      <td id=\"T_8e902_row0_col5\" class=\"data row0 col5\" >22.90</td>\n",
       "      <td id=\"T_8e902_row0_col6\" class=\"data row0 col6\" >189.61</td>\n",
       "      <td id=\"T_8e902_row0_col7\" class=\"data row0 col7\" >13.27</td>\n",
       "      <td id=\"T_8e902_row0_col8\" class=\"data row0 col8\" >Active</td>\n",
       "      <td id=\"T_8e902_row0_col9\" class=\"data row0 col9\" >91,802.88</td>\n",
       "      <td id=\"T_8e902_row0_col10\" class=\"data row0 col10\" >DTD</td>\n",
       "      <td id=\"T_8e902_row0_col11\" class=\"data row0 col11\" >None</td>\n",
       "    </tr>\n",
       "  </tbody>\n",
       "</table>\n"
      ],
      "text/plain": [
       "<pandas.io.formats.style.Styler at 0x139bca2f5b0>"
      ]
     },
     "execution_count": 4,
     "metadata": {},
     "output_type": "execute_result"
    }
   ],
   "source": [
    "sql = '''\n",
    "SELECT T.name, B.* \n",
    "FROM buys B\n",
    "JOIN stocks T\n",
    "ON B.stock_id = T.id\n",
    "WHERE B.date = '%s'\n",
    "ORDER BY id DESC\n",
    "LIMIT 1\n",
    "'''\n",
    "sql = sql % today\n",
    "buys = pd.read_sql(sql, conpf)\n",
    "buys.style.format(format_dict)"
   ]
  },
  {
   "cell_type": "code",
   "execution_count": 5,
   "metadata": {},
   "outputs": [
    {
     "data": {
      "text/plain": [
       "'DOHOME'"
      ]
     },
     "execution_count": 5,
     "metadata": {},
     "output_type": "execute_result"
    }
   ],
   "source": [
    "names = buys['name']\n",
    "name = names.to_string(index=False)\n",
    "name"
   ]
  },
  {
   "cell_type": "code",
   "execution_count": 6,
   "metadata": {},
   "outputs": [
    {
     "data": {
      "text/plain": [
       "4000"
      ]
     },
     "execution_count": 6,
     "metadata": {},
     "output_type": "execute_result"
    }
   ],
   "source": [
    "sr_qty = buys['qty']\n",
    "qty_str = sr_qty.to_string(index=False)\n",
    "qty = int(qty_str)\n",
    "qty"
   ]
  },
  {
   "cell_type": "code",
   "execution_count": 7,
   "metadata": {},
   "outputs": [
    {
     "data": {
      "text/plain": [
       "22.9"
      ]
     },
     "execution_count": 7,
     "metadata": {},
     "output_type": "execute_result"
    }
   ],
   "source": [
    "sr_price = buys['price']\n",
    "price_str = sr_price.to_string(index=False)\n",
    "price = float(price_str)\n",
    "price"
   ]
  },
  {
   "cell_type": "code",
   "execution_count": 11,
   "metadata": {},
   "outputs": [
    {
     "name": "stdout",
     "output_type": "stream",
     "text": [
      "\n",
      "UPDATE buy\n",
      "SET volbuy = volbuy + 4000, price = 24.3\n",
      "WHERE name = \"DOHOME\"\n"
     ]
    }
   ],
   "source": [
    "new_cost = 24.3\n",
    "sqlUpd = '''\n",
    "UPDATE buy\n",
    "SET volbuy = volbuy + %s, price = %s\n",
    "WHERE name = \"%s\"'''\n",
    "sqlUpd = sqlUpd % (qty, new_cost, name)\n",
    "print(sqlUpd)"
   ]
  },
  {
   "cell_type": "code",
   "execution_count": 10,
   "metadata": {},
   "outputs": [
    {
     "data": {
      "text/plain": [
       "1"
      ]
     },
     "execution_count": 10,
     "metadata": {},
     "output_type": "execute_result"
    }
   ],
   "source": [
    "rp = const.execute(sqlUpd)\n",
    "rp.rowcount"
   ]
  },
  {
   "cell_type": "markdown",
   "metadata": {},
   "source": [
    "### Update table dividend in stock database for sells transactions"
   ]
  },
  {
   "cell_type": "code",
   "execution_count": 15,
   "metadata": {},
   "outputs": [
    {
     "name": "stdout",
     "output_type": "stream",
     "text": [
      "\n",
      "SELECT * \n",
      "FROM dividend \n",
      "WHERE name = \"DOHOME\" \n",
      "\n"
     ]
    },
    {
     "data": {
      "text/html": [
       "<style type=\"text/css\">\n",
       "</style>\n",
       "<table id=\"T_928e2_\">\n",
       "  <thead>\n",
       "    <tr>\n",
       "      <th class=\"blank level0\" >&nbsp;</th>\n",
       "      <th class=\"col_heading level0 col0\" >NAME</th>\n",
       "      <th class=\"col_heading level0 col1\" >Q4</th>\n",
       "      <th class=\"col_heading level0 col2\" >Q3</th>\n",
       "      <th class=\"col_heading level0 col3\" >Q2</th>\n",
       "      <th class=\"col_heading level0 col4\" >Q1</th>\n",
       "      <th class=\"col_heading level0 col5\" >DIVIDEND</th>\n",
       "      <th class=\"col_heading level0 col6\" >PRICE</th>\n",
       "      <th class=\"col_heading level0 col7\" >PERCENT</th>\n",
       "      <th class=\"col_heading level0 col8\" >SHARES</th>\n",
       "      <th class=\"col_heading level0 col9\" >XDATE</th>\n",
       "      <th class=\"col_heading level0 col10\" >PAIDDATE</th>\n",
       "      <th class=\"col_heading level0 col11\" >KIND</th>\n",
       "      <th class=\"col_heading level0 col12\" >ACTUAL</th>\n",
       "    </tr>\n",
       "  </thead>\n",
       "  <tbody>\n",
       "    <tr>\n",
       "      <th id=\"T_928e2_level0_row0\" class=\"row_heading level0 row0\" >0</th>\n",
       "      <td id=\"T_928e2_row0_col0\" class=\"data row0 col0\" >DOHOME</td>\n",
       "      <td id=\"T_928e2_row0_col1\" class=\"data row0 col1\" >0.100</td>\n",
       "      <td id=\"T_928e2_row0_col2\" class=\"data row0 col2\" >0.000</td>\n",
       "      <td id=\"T_928e2_row0_col3\" class=\"data row0 col3\" >0.000</td>\n",
       "      <td id=\"T_928e2_row0_col4\" class=\"data row0 col4\" >0.000</td>\n",
       "      <td id=\"T_928e2_row0_col5\" class=\"data row0 col5\" >0.100</td>\n",
       "      <td id=\"T_928e2_row0_col6\" class=\"data row0 col6\" >0.00</td>\n",
       "      <td id=\"T_928e2_row0_col7\" class=\"data row0 col7\" >0.00%</td>\n",
       "      <td id=\"T_928e2_row0_col8\" class=\"data row0 col8\" >12,000.0</td>\n",
       "      <td id=\"T_928e2_row0_col9\" class=\"data row0 col9\" >2021-05-21</td>\n",
       "      <td id=\"T_928e2_row0_col10\" class=\"data row0 col10\" >2021-05-21</td>\n",
       "      <td id=\"T_928e2_row0_col11\" class=\"data row0 col11\" ></td>\n",
       "      <td id=\"T_928e2_row0_col12\" class=\"data row0 col12\" >0</td>\n",
       "    </tr>\n",
       "  </tbody>\n",
       "</table>\n"
      ],
      "text/plain": [
       "<pandas.io.formats.style.Styler at 0x139bdb5c520>"
      ]
     },
     "execution_count": 15,
     "metadata": {},
     "output_type": "execute_result"
    }
   ],
   "source": [
    "sql = \"\"\"\n",
    "SELECT * \n",
    "FROM dividend \n",
    "WHERE name = \"%s\" \n",
    "\"\"\"\n",
    "sql = sql % name\n",
    "print(sql)\n",
    "\n",
    "dividend = pd.read_sql(sql, const)\n",
    "dividend.style.format(format_dict)"
   ]
  },
  {
   "cell_type": "code",
   "execution_count": 13,
   "metadata": {},
   "outputs": [
    {
     "name": "stdout",
     "output_type": "stream",
     "text": [
      "\n",
      "UPDATE dividend\n",
      "SET shares = shares + 4000\n",
      "WHERE name = \"DOHOME\"\n"
     ]
    }
   ],
   "source": [
    "sqlUpd = '''\n",
    "UPDATE dividend\n",
    "SET shares = shares + %s\n",
    "WHERE name = \"%s\"'''\n",
    "sqlUpd = sqlUpd % (qty, name)\n",
    "print(sqlUpd)"
   ]
  },
  {
   "cell_type": "code",
   "execution_count": 14,
   "metadata": {},
   "outputs": [
    {
     "data": {
      "text/plain": [
       "1"
      ]
     },
     "execution_count": 14,
     "metadata": {},
     "output_type": "execute_result"
    }
   ],
   "source": [
    "rp = const.execute(sqlUpd)\n",
    "rp.rowcount"
   ]
  },
  {
   "cell_type": "markdown",
   "metadata": {},
   "source": [
    "### Update stocks in PortLite"
   ]
  },
  {
   "cell_type": "code",
   "execution_count": 19,
   "metadata": {},
   "outputs": [
    {
     "name": "stdout",
     "output_type": "stream",
     "text": [
      "\n",
      "SELECT * \n",
      "FROM stocks\n",
      "WHERE name = \"DOHOME\"\n",
      "\n"
     ]
    },
    {
     "data": {
      "text/html": [
       "<style type=\"text/css\">\n",
       "</style>\n",
       "<table id=\"T_4f0a8_\">\n",
       "  <thead>\n",
       "    <tr>\n",
       "      <th class=\"blank level0\" >&nbsp;</th>\n",
       "      <th class=\"col_heading level0 col0\" >id</th>\n",
       "      <th class=\"col_heading level0 col1\" >name</th>\n",
       "      <th class=\"col_heading level0 col2\" >max_price</th>\n",
       "      <th class=\"col_heading level0 col3\" >min_price</th>\n",
       "      <th class=\"col_heading level0 col4\" >status</th>\n",
       "      <th class=\"col_heading level0 col5\" >buy_target</th>\n",
       "      <th class=\"col_heading level0 col6\" >sell_target</th>\n",
       "      <th class=\"col_heading level0 col7\" >volume</th>\n",
       "      <th class=\"col_heading level0 col8\" >beta</th>\n",
       "      <th class=\"col_heading level0 col9\" >cost</th>\n",
       "      <th class=\"col_heading level0 col10\" >qty</th>\n",
       "      <th class=\"col_heading level0 col11\" >buy_spread</th>\n",
       "      <th class=\"col_heading level0 col12\" >sell_spread</th>\n",
       "      <th class=\"col_heading level0 col13\" >available_qty</th>\n",
       "      <th class=\"col_heading level0 col14\" >bl</th>\n",
       "      <th class=\"col_heading level0 col15\" >sh</th>\n",
       "      <th class=\"col_heading level0 col16\" >reason</th>\n",
       "      <th class=\"col_heading level0 col17\" >market</th>\n",
       "    </tr>\n",
       "  </thead>\n",
       "  <tbody>\n",
       "    <tr>\n",
       "      <th id=\"T_4f0a8_level0_row0\" class=\"row_heading level0 row0\" >0</th>\n",
       "      <td id=\"T_4f0a8_row0_col0\" class=\"data row0 col0\" >612</td>\n",
       "      <td id=\"T_4f0a8_row0_col1\" class=\"data row0 col1\" >DOHOME</td>\n",
       "      <td id=\"T_4f0a8_row0_col2\" class=\"data row0 col2\" >30.75</td>\n",
       "      <td id=\"T_4f0a8_row0_col3\" class=\"data row0 col3\" >12.46</td>\n",
       "      <td id=\"T_4f0a8_row0_col4\" class=\"data row0 col4\" >I</td>\n",
       "      <td id=\"T_4f0a8_row0_col5\" class=\"data row0 col5\" >22.90</td>\n",
       "      <td id=\"T_4f0a8_row0_col6\" class=\"data row0 col6\" >26.75</td>\n",
       "      <td id=\"T_4f0a8_row0_col7\" class=\"data row0 col7\" >138.29</td>\n",
       "      <td id=\"T_4f0a8_row0_col8\" class=\"data row0 col8\" >0.88</td>\n",
       "      <td id=\"T_4f0a8_row0_col9\" class=\"data row0 col9\" >24.30</td>\n",
       "      <td id=\"T_4f0a8_row0_col10\" class=\"data row0 col10\" >4,000</td>\n",
       "      <td id=\"T_4f0a8_row0_col11\" class=\"data row0 col11\" >-9</td>\n",
       "      <td id=\"T_4f0a8_row0_col12\" class=\"data row0 col12\" >16</td>\n",
       "      <td id=\"T_4f0a8_row0_col13\" class=\"data row0 col13\" >12,000</td>\n",
       "      <td id=\"T_4f0a8_row0_col14\" class=\"data row0 col14\" >1</td>\n",
       "      <td id=\"T_4f0a8_row0_col15\" class=\"data row0 col15\" >0</td>\n",
       "      <td id=\"T_4f0a8_row0_col16\" class=\"data row0 col16\" >RD05%</td>\n",
       "      <td id=\"T_4f0a8_row0_col17\" class=\"data row0 col17\" >SET100</td>\n",
       "    </tr>\n",
       "  </tbody>\n",
       "</table>\n"
      ],
      "text/plain": [
       "<pandas.io.formats.style.Styler at 0x139bdb72610>"
      ]
     },
     "execution_count": 19,
     "metadata": {},
     "output_type": "execute_result"
    }
   ],
   "source": [
    "sql = \"\"\"\n",
    "SELECT * \n",
    "FROM stocks\n",
    "WHERE name = \"%s\"\n",
    "\"\"\"\n",
    "sql = sql % name\n",
    "print(sql)\n",
    "\n",
    "df_stocks = pd.read_sql(sql, conlite)\n",
    "df_stocks.style.format(format_dict)"
   ]
  },
  {
   "cell_type": "code",
   "execution_count": 17,
   "metadata": {},
   "outputs": [
    {
     "name": "stdout",
     "output_type": "stream",
     "text": [
      "\n",
      "UPDATE stocks\n",
      "SET available_qty = available_qty + 4000, cost = 24.3, sell_target = 26.75, status = 'I'\n",
      "WHERE name = 'DOHOME'\n"
     ]
    }
   ],
   "source": [
    "cost = 24.3\n",
    "sell_target = 26.75\n",
    "status = 'I'\n",
    "sqlUpd = \"\"\"\n",
    "UPDATE stocks\n",
    "SET available_qty = available_qty + %s, cost = %s, sell_target = %s, status = '%s'\n",
    "WHERE name = '%s'\"\"\"\n",
    "sqlUpd = sqlUpd % (qty, cost, sell_target, status, name)\n",
    "print(sqlUpd)"
   ]
  },
  {
   "cell_type": "code",
   "execution_count": 18,
   "metadata": {},
   "outputs": [
    {
     "data": {
      "text/plain": [
       "1"
      ]
     },
     "execution_count": 18,
     "metadata": {},
     "output_type": "execute_result"
    }
   ],
   "source": [
    "rp = conlite.execute(sqlUpd)\n",
    "rp.rowcount"
   ]
  },
  {
   "cell_type": "code",
   "execution_count": null,
   "metadata": {},
   "outputs": [],
   "source": []
  }
 ],
 "metadata": {
  "anaconda-cloud": {},
  "kernelspec": {
   "display_name": "Python 3 (ipykernel)",
   "language": "python",
   "name": "python3"
  },
  "language_info": {
   "codemirror_mode": {
    "name": "ipython",
    "version": 3
   },
   "file_extension": ".py",
   "mimetype": "text/x-python",
   "name": "python",
   "nbconvert_exporter": "python",
   "pygments_lexer": "ipython3",
   "version": "3.8.11"
  }
 },
 "nbformat": 4,
 "nbformat_minor": 1
}
