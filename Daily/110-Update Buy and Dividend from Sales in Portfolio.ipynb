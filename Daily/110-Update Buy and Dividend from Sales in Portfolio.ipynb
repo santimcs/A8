{
 "cells": [
  {
   "cell_type": "code",
   "execution_count": 1,
   "metadata": {},
   "outputs": [
    {
     "data": {
      "text/plain": [
       "datetime.date(2022, 1, 21)"
      ]
     },
     "execution_count": 1,
     "metadata": {},
     "output_type": "execute_result"
    }
   ],
   "source": [
    "import pandas as pd\n",
    "from datetime import date, timedelta\n",
    "from sqlalchemy import create_engine\n",
    "\n",
    "engine = create_engine('mysql+pymysql://root:@localhost:3306/portfolio_development')\n",
    "conpf = engine.connect()\n",
    "\n",
    "engine = create_engine(\"mysql+pymysql://root:@localhost:3306/stock\")\n",
    "const = engine.connect()\n",
    "\n",
    "engine = create_engine(\"sqlite:///c:\\\\ruby\\\\port_lite\\\\db\\\\development.sqlite3\")\n",
    "conlite = engine.connect()\n",
    "\n",
    "today = date.today()\n",
    "today"
   ]
  },
  {
   "cell_type": "markdown",
   "metadata": {},
   "source": [
    "### Tables in the process"
   ]
  },
  {
   "cell_type": "code",
   "execution_count": 2,
   "metadata": {},
   "outputs": [],
   "source": [
    "format_dict = {\n",
    "    'qty':'{:,}','shares':'{:,}',\n",
    "    'price':'{:.2f}','buy_price':'{:.2f}',\n",
    "    'dividend':'{:.4f}',    \n",
    "    'fee':'{:,.2f}','vat':'{:,.2f}','net':'{:,.2f}',\n",
    "  \n",
    "    'days':'{:,}',\n",
    "    'price':'{:.2f}',\n",
    "    'fee':'{:,.2f}','vat':'{:,.2f}','net':'{:,.2f}','profit':'{:,.2f}',\n",
    "    'percent':'{:,.2f}%','yearly':'{:,.2f}%',   \n",
    "    \n",
    "    'SHARES':'{:,}',    \n",
    "    'Q4':'{:.4f}','Q3':'{:.4f}','Q2':'{:.4f}','Q1':'{:.4f}','DIVIDEND':'{:.4f}',\n",
    "    \n",
    "    'qty':'{:,}','available_qty':'{:,}',\n",
    "    'cost':'{:.2f}','max_price':'{:.2f}','min_price':'{:.2f}','buy_target':'{:.2f}','sell_target':'{:.2f}',\n",
    "    'volume':'{:,.2f}','beta':'{:,.2f}',\n",
    "    \n",
    "    'qty':'{:,}','available_qty':'{:,}',\n",
    "    'cost':'{:.2f}','max_price':'{:.2f}','min_price':'{:.2f}','buy_target':'{:.2f}','sell_target':'{:.2f}',\n",
    "    'volume':'{:,.2f}','beta':'{:,.2f}',\n",
    "    \n",
    "}"
   ]
  },
  {
   "cell_type": "code",
   "execution_count": 3,
   "metadata": {},
   "outputs": [
    {
     "data": {
      "text/html": [
       "<style type=\"text/css\">\n",
       "</style>\n",
       "<table id=\"T_0f1ea_\">\n",
       "  <thead>\n",
       "    <tr>\n",
       "      <th class=\"blank level0\" >&nbsp;</th>\n",
       "      <th class=\"col_heading level0 col0\" >name</th>\n",
       "      <th class=\"col_heading level0 col1\" >stock_id</th>\n",
       "      <th class=\"col_heading level0 col2\" >buy_date</th>\n",
       "      <th class=\"col_heading level0 col3\" >qty</th>\n",
       "      <th class=\"col_heading level0 col4\" >buy_price</th>\n",
       "      <th class=\"col_heading level0 col5\" >id</th>\n",
       "      <th class=\"col_heading level0 col6\" >buy_id</th>\n",
       "      <th class=\"col_heading level0 col7\" >date</th>\n",
       "      <th class=\"col_heading level0 col8\" >price</th>\n",
       "      <th class=\"col_heading level0 col9\" >fee</th>\n",
       "      <th class=\"col_heading level0 col10\" >vat</th>\n",
       "      <th class=\"col_heading level0 col11\" >net</th>\n",
       "      <th class=\"col_heading level0 col12\" >days</th>\n",
       "      <th class=\"col_heading level0 col13\" >profit</th>\n",
       "      <th class=\"col_heading level0 col14\" >percent</th>\n",
       "      <th class=\"col_heading level0 col15\" >yearly</th>\n",
       "      <th class=\"col_heading level0 col16\" >sequence</th>\n",
       "      <th class=\"col_heading level0 col17\" >chart</th>\n",
       "      <th class=\"col_heading level0 col18\" >dividend_id</th>\n",
       "    </tr>\n",
       "  </thead>\n",
       "  <tbody>\n",
       "    <tr>\n",
       "      <th id=\"T_0f1ea_level0_row0\" class=\"row_heading level0 row0\" >0</th>\n",
       "      <td id=\"T_0f1ea_row0_col0\" class=\"data row0 col0\" >KBANK</td>\n",
       "      <td id=\"T_0f1ea_row0_col1\" class=\"data row0 col1\" >196</td>\n",
       "      <td id=\"T_0f1ea_row0_col2\" class=\"data row0 col2\" >2021-12-14</td>\n",
       "      <td id=\"T_0f1ea_row0_col3\" class=\"data row0 col3\" >800</td>\n",
       "      <td id=\"T_0f1ea_row0_col4\" class=\"data row0 col4\" >136.88</td>\n",
       "      <td id=\"T_0f1ea_row0_col5\" class=\"data row0 col5\" >909</td>\n",
       "      <td id=\"T_0f1ea_row0_col6\" class=\"data row0 col6\" >1074</td>\n",
       "      <td id=\"T_0f1ea_row0_col7\" class=\"data row0 col7\" >2022-01-21</td>\n",
       "      <td id=\"T_0f1ea_row0_col8\" class=\"data row0 col8\" >140.00</td>\n",
       "      <td id=\"T_0f1ea_row0_col9\" class=\"data row0 col9\" >231.84</td>\n",
       "      <td id=\"T_0f1ea_row0_col10\" class=\"data row0 col10\" >16.23</td>\n",
       "      <td id=\"T_0f1ea_row0_col11\" class=\"data row0 col11\" >111,751.93</td>\n",
       "      <td id=\"T_0f1ea_row0_col12\" class=\"data row0 col12\" >38</td>\n",
       "      <td id=\"T_0f1ea_row0_col13\" class=\"data row0 col13\" >2,005.39</td>\n",
       "      <td id=\"T_0f1ea_row0_col14\" class=\"data row0 col14\" >1.83%</td>\n",
       "      <td id=\"T_0f1ea_row0_col15\" class=\"data row0 col15\" >17.55%</td>\n",
       "      <td id=\"T_0f1ea_row0_col16\" class=\"data row0 col16\" >91</td>\n",
       "      <td id=\"T_0f1ea_row0_col17\" class=\"data row0 col17\" >None</td>\n",
       "      <td id=\"T_0f1ea_row0_col18\" class=\"data row0 col18\" >0</td>\n",
       "    </tr>\n",
       "  </tbody>\n",
       "</table>\n"
      ],
      "text/plain": [
       "<pandas.io.formats.style.Styler at 0x262610845b0>"
      ]
     },
     "execution_count": 3,
     "metadata": {},
     "output_type": "execute_result"
    }
   ],
   "source": [
    "# Sells table in MySQL portfolio database\n",
    "sql = \"\"\"\n",
    "SELECT name, stock_id, B.date AS buy_date, qty, B.price AS buy_price, S.* \n",
    "FROM sells S\n",
    "JOIN buys B ON S.buy_id = B.id\n",
    "JOIN stocks T ON B.stock_id = T.id\n",
    "ORDER BY S.id DESC\n",
    "LIMIT 1\"\"\"\n",
    "sells = pd.read_sql(sql, conpf)\n",
    "sells.style.format(format_dict)"
   ]
  },
  {
   "cell_type": "markdown",
   "metadata": {},
   "source": [
    "### In case of sale, retreive buy id from sells record (buy_id)"
   ]
  },
  {
   "cell_type": "code",
   "execution_count": 4,
   "metadata": {},
   "outputs": [
    {
     "name": "stdout",
     "output_type": "stream",
     "text": [
      "\n",
      "SELECT name, B.* \n",
      "FROM buys B\n",
      "JOIN stocks T \n",
      "ON B.stock_id = T.id\n",
      "WHERE B.id = 1074\n",
      "\n"
     ]
    },
    {
     "data": {
      "text/html": [
       "<style type=\"text/css\">\n",
       "</style>\n",
       "<table id=\"T_eb870_\">\n",
       "  <thead>\n",
       "    <tr>\n",
       "      <th class=\"blank level0\" >&nbsp;</th>\n",
       "      <th class=\"col_heading level0 col0\" >name</th>\n",
       "      <th class=\"col_heading level0 col1\" >id</th>\n",
       "      <th class=\"col_heading level0 col2\" >stock_id</th>\n",
       "      <th class=\"col_heading level0 col3\" >date</th>\n",
       "      <th class=\"col_heading level0 col4\" >qty</th>\n",
       "      <th class=\"col_heading level0 col5\" >price</th>\n",
       "      <th class=\"col_heading level0 col6\" >fee</th>\n",
       "      <th class=\"col_heading level0 col7\" >vat</th>\n",
       "      <th class=\"col_heading level0 col8\" >status</th>\n",
       "      <th class=\"col_heading level0 col9\" >net</th>\n",
       "      <th class=\"col_heading level0 col10\" >kind</th>\n",
       "      <th class=\"col_heading level0 col11\" >chart</th>\n",
       "    </tr>\n",
       "  </thead>\n",
       "  <tbody>\n",
       "    <tr>\n",
       "      <th id=\"T_eb870_level0_row0\" class=\"row_heading level0 row0\" >0</th>\n",
       "      <td id=\"T_eb870_row0_col0\" class=\"data row0 col0\" >KBANK</td>\n",
       "      <td id=\"T_eb870_row0_col1\" class=\"data row0 col1\" >1074</td>\n",
       "      <td id=\"T_eb870_row0_col2\" class=\"data row0 col2\" >196</td>\n",
       "      <td id=\"T_eb870_row0_col3\" class=\"data row0 col3\" >2021-12-14</td>\n",
       "      <td id=\"T_eb870_row0_col4\" class=\"data row0 col4\" >800</td>\n",
       "      <td id=\"T_eb870_row0_col5\" class=\"data row0 col5\" >136.88</td>\n",
       "      <td id=\"T_eb870_row0_col6\" class=\"data row0 col6\" >226.67</td>\n",
       "      <td id=\"T_eb870_row0_col7\" class=\"data row0 col7\" >15.87</td>\n",
       "      <td id=\"T_eb870_row0_col8\" class=\"data row0 col8\" >Sold</td>\n",
       "      <td id=\"T_eb870_row0_col9\" class=\"data row0 col9\" >109,746.54</td>\n",
       "      <td id=\"T_eb870_row0_col10\" class=\"data row0 col10\" >DTD</td>\n",
       "      <td id=\"T_eb870_row0_col11\" class=\"data row0 col11\" >None</td>\n",
       "    </tr>\n",
       "  </tbody>\n",
       "</table>\n"
      ],
      "text/plain": [
       "<pandas.io.formats.style.Styler at 0x26261080700>"
      ]
     },
     "execution_count": 4,
     "metadata": {},
     "output_type": "execute_result"
    }
   ],
   "source": [
    "# Buys table in MySQL portfolio database\n",
    "transaction = 'S'\n",
    "\n",
    "names = sells['name']\n",
    "name = names.to_string(index=False)\n",
    "\n",
    "sr_qty = sells['qty']\n",
    "qty = sr_qty.to_string(index=False)\n",
    "qty = int(qty) * -1\n",
    "\n",
    "sr_price = sells['buy_price']\n",
    "buy_price = sr_price.to_string(index=False)\n",
    "buy_price = float(buy_price)\n",
    "\n",
    "sr_price = sells['price']\n",
    "sell_price = sr_price.to_string(index=False)\n",
    "sell_price = float(sell_price)\n",
    "\n",
    "buy_ids = sells['buy_id']\n",
    "buy_id = buy_ids.to_string(index=False)\n",
    "\n",
    "sql = \"\"\"\n",
    "SELECT name, B.* \n",
    "FROM buys B\n",
    "JOIN stocks T \n",
    "ON B.stock_id = T.id\n",
    "WHERE B.id = %s\n",
    "\"\"\"\n",
    "sql = sql % buy_id\n",
    "print(sql)\n",
    "\n",
    "buys = pd.read_sql(sql, conpf)\n",
    "buys.style.format(format_dict)"
   ]
  },
  {
   "cell_type": "code",
   "execution_count": 5,
   "metadata": {},
   "outputs": [
    {
     "data": {
      "text/plain": [
       "('S', 'KBANK', -800, 140.0, 136.88)"
      ]
     },
     "execution_count": 5,
     "metadata": {},
     "output_type": "execute_result"
    }
   ],
   "source": [
    "transaction, name, qty, sell_price, buy_price"
   ]
  },
  {
   "cell_type": "markdown",
   "metadata": {},
   "source": [
    "### In case of buy, retreive buy id from latest buy record (id)"
   ]
  },
  {
   "cell_type": "code",
   "execution_count": 40,
   "metadata": {},
   "outputs": [
    {
     "name": "stdout",
     "output_type": "stream",
     "text": [
      "\n",
      "SELECT name, B.* \n",
      "FROM buys B\n",
      "JOIN stocks T \n",
      "ON B.stock_id = T.id\n",
      "ORDER BY id DESC\n",
      "LIMIT 1\n",
      "\n"
     ]
    },
    {
     "data": {
      "text/html": [
       "<div>\n",
       "<style scoped>\n",
       "    .dataframe tbody tr th:only-of-type {\n",
       "        vertical-align: middle;\n",
       "    }\n",
       "\n",
       "    .dataframe tbody tr th {\n",
       "        vertical-align: top;\n",
       "    }\n",
       "\n",
       "    .dataframe thead th {\n",
       "        text-align: right;\n",
       "    }\n",
       "</style>\n",
       "<table border=\"1\" class=\"dataframe\">\n",
       "  <thead>\n",
       "    <tr style=\"text-align: right;\">\n",
       "      <th></th>\n",
       "      <th>name</th>\n",
       "      <th>id</th>\n",
       "      <th>stock_id</th>\n",
       "      <th>date</th>\n",
       "      <th>qty</th>\n",
       "      <th>price</th>\n",
       "      <th>fee</th>\n",
       "      <th>vat</th>\n",
       "      <th>status</th>\n",
       "      <th>net</th>\n",
       "      <th>kind</th>\n",
       "      <th>chart</th>\n",
       "    </tr>\n",
       "  </thead>\n",
       "  <tbody>\n",
       "    <tr>\n",
       "      <th>0</th>\n",
       "      <td>TSE</td>\n",
       "      <td>1105</td>\n",
       "      <td>200</td>\n",
       "      <td>2022-01-21</td>\n",
       "      <td>40000</td>\n",
       "      <td>2.6</td>\n",
       "      <td>215.28</td>\n",
       "      <td>15.07</td>\n",
       "      <td>Active</td>\n",
       "      <td>104230.35</td>\n",
       "      <td>DTD</td>\n",
       "      <td>None</td>\n",
       "    </tr>\n",
       "  </tbody>\n",
       "</table>\n",
       "</div>"
      ],
      "text/plain": [
       "  name    id  stock_id        date    qty  price     fee    vat  status  \\\n",
       "0  TSE  1105       200  2022-01-21  40000    2.6  215.28  15.07  Active   \n",
       "\n",
       "         net kind chart  \n",
       "0  104230.35  DTD  None  "
      ]
     },
     "execution_count": 40,
     "metadata": {},
     "output_type": "execute_result"
    }
   ],
   "source": [
    "sql = \"\"\"\n",
    "SELECT name, B.* \n",
    "FROM buys B\n",
    "JOIN stocks T \n",
    "ON B.stock_id = T.id\n",
    "ORDER BY id DESC\n",
    "LIMIT 1\n",
    "\"\"\"\n",
    "print(sql)\n",
    "buys = pd.read_sql(sql, conpf)\n",
    "buys"
   ]
  },
  {
   "cell_type": "code",
   "execution_count": 41,
   "metadata": {},
   "outputs": [
    {
     "data": {
      "text/plain": [
       "('B', 'TSE', 40000, 2.6)"
      ]
     },
     "execution_count": 41,
     "metadata": {},
     "output_type": "execute_result"
    }
   ],
   "source": [
    "transaction = 'B'\n",
    "\n",
    "names = buys['name']\n",
    "name = names.to_string(index=False)\n",
    "\n",
    "sr_qty = buys['qty']\n",
    "qty = sr_qty.to_string(index=False)\n",
    "qty = int(qty)\n",
    "\n",
    "sr_price = buys['price']\n",
    "buy_price = sr_price.to_string(index=False)\n",
    "buy_price = float(buy_price)\n",
    "\n",
    "transaction, name, qty, buy_price"
   ]
  },
  {
   "cell_type": "markdown",
   "metadata": {},
   "source": [
    "## Begin of Sale transaction"
   ]
  },
  {
   "cell_type": "markdown",
   "metadata": {},
   "source": [
    "### Begin of Update buy table in MySQL stock database from sale transaction"
   ]
  },
  {
   "cell_type": "code",
   "execution_count": 6,
   "metadata": {},
   "outputs": [
    {
     "name": "stdout",
     "output_type": "stream",
     "text": [
      "\n",
      "SELECT * \n",
      "FROM buy \n",
      "WHERE name = 'KBANK'\n",
      "\n"
     ]
    },
    {
     "data": {
      "text/html": [
       "<style type=\"text/css\">\n",
       "</style>\n",
       "<table id=\"T_e8679_\">\n",
       "  <thead>\n",
       "    <tr>\n",
       "      <th class=\"blank level0\" >&nbsp;</th>\n",
       "      <th class=\"col_heading level0 col0\" >name</th>\n",
       "      <th class=\"col_heading level0 col1\" >date</th>\n",
       "      <th class=\"col_heading level0 col2\" >shares</th>\n",
       "      <th class=\"col_heading level0 col3\" >price</th>\n",
       "      <th class=\"col_heading level0 col4\" >active</th>\n",
       "      <th class=\"col_heading level0 col5\" >dividend</th>\n",
       "      <th class=\"col_heading level0 col6\" >period</th>\n",
       "      <th class=\"col_heading level0 col7\" >grade</th>\n",
       "    </tr>\n",
       "  </thead>\n",
       "  <tbody>\n",
       "    <tr>\n",
       "      <th id=\"T_e8679_level0_row0\" class=\"row_heading level0 row0\" >0</th>\n",
       "      <td id=\"T_e8679_row0_col0\" class=\"data row0 col0\" >KBANK</td>\n",
       "      <td id=\"T_e8679_row0_col1\" class=\"data row0 col1\" >2021-11-29</td>\n",
       "      <td id=\"T_e8679_row0_col2\" class=\"data row0 col2\" >800</td>\n",
       "      <td id=\"T_e8679_row0_col3\" class=\"data row0 col3\" >136.50</td>\n",
       "      <td id=\"T_e8679_row0_col4\" class=\"data row0 col4\" >1</td>\n",
       "      <td id=\"T_e8679_row0_col5\" class=\"data row0 col5\" >3.0000</td>\n",
       "      <td id=\"T_e8679_row0_col6\" class=\"data row0 col6\" >4</td>\n",
       "      <td id=\"T_e8679_row0_col7\" class=\"data row0 col7\" >A4</td>\n",
       "    </tr>\n",
       "  </tbody>\n",
       "</table>\n"
      ],
      "text/plain": [
       "<pandas.io.formats.style.Styler at 0x26260fdf040>"
      ]
     },
     "execution_count": 6,
     "metadata": {},
     "output_type": "execute_result"
    }
   ],
   "source": [
    "sql = \"\"\"\n",
    "SELECT * \n",
    "FROM buy \n",
    "WHERE name = '%s'\n",
    "\"\"\"\n",
    "sql = sql % name\n",
    "print(sql)\n",
    "\n",
    "buy = pd.read_sql(sql, const)\n",
    "buy.drop(['volsell', 'volbal'], axis=1, inplace=True)\n",
    "buy.rename(columns={'volbuy':'shares'},inplace=True)\n",
    "buy['shares'] = buy['shares'].astype('int64')\n",
    "buy.style.format(format_dict)"
   ]
  },
  {
   "cell_type": "code",
   "execution_count": 7,
   "metadata": {},
   "outputs": [
    {
     "name": "stdout",
     "output_type": "stream",
     "text": [
      "\n",
      "UPDATE buy\n",
      "SET volbuy = volbuy + -800\n",
      "WHERE name = 'KBANK'\n",
      "\n"
     ]
    }
   ],
   "source": [
    "sqlUpd = \"\"\"\n",
    "UPDATE buy\n",
    "SET volbuy = volbuy + %s\n",
    "WHERE name = '%s'\n",
    "\"\"\"\n",
    "sqlUpd = sqlUpd % (qty, name)\n",
    "print(sqlUpd)"
   ]
  },
  {
   "cell_type": "code",
   "execution_count": 8,
   "metadata": {},
   "outputs": [
    {
     "data": {
      "text/plain": [
       "1"
      ]
     },
     "execution_count": 8,
     "metadata": {},
     "output_type": "execute_result"
    }
   ],
   "source": [
    "rp = const.execute(sqlUpd)\n",
    "rp.rowcount"
   ]
  },
  {
   "cell_type": "code",
   "execution_count": 9,
   "metadata": {},
   "outputs": [
    {
     "name": "stdout",
     "output_type": "stream",
     "text": [
      "\n",
      "SELECT * \n",
      "FROM buy \n",
      "WHERE name = 'KBANK'\n",
      "\n"
     ]
    },
    {
     "data": {
      "text/html": [
       "<div>\n",
       "<style scoped>\n",
       "    .dataframe tbody tr th:only-of-type {\n",
       "        vertical-align: middle;\n",
       "    }\n",
       "\n",
       "    .dataframe tbody tr th {\n",
       "        vertical-align: top;\n",
       "    }\n",
       "\n",
       "    .dataframe thead th {\n",
       "        text-align: right;\n",
       "    }\n",
       "</style>\n",
       "<table border=\"1\" class=\"dataframe\">\n",
       "  <thead>\n",
       "    <tr style=\"text-align: right;\">\n",
       "      <th></th>\n",
       "      <th>name</th>\n",
       "      <th>date</th>\n",
       "      <th>volbuy</th>\n",
       "      <th>price</th>\n",
       "      <th>volsell</th>\n",
       "      <th>volbal</th>\n",
       "      <th>active</th>\n",
       "      <th>dividend</th>\n",
       "      <th>period</th>\n",
       "      <th>grade</th>\n",
       "    </tr>\n",
       "  </thead>\n",
       "  <tbody>\n",
       "    <tr>\n",
       "      <th>0</th>\n",
       "      <td>KBANK</td>\n",
       "      <td>2021-11-29</td>\n",
       "      <td>0.0</td>\n",
       "      <td>136.5</td>\n",
       "      <td>0.0</td>\n",
       "      <td>0.0</td>\n",
       "      <td>1</td>\n",
       "      <td>3.0</td>\n",
       "      <td>4</td>\n",
       "      <td>A4</td>\n",
       "    </tr>\n",
       "  </tbody>\n",
       "</table>\n",
       "</div>"
      ],
      "text/plain": [
       "    name        date  volbuy  price  volsell  volbal  active  dividend period  \\\n",
       "0  KBANK  2021-11-29     0.0  136.5      0.0     0.0       1       3.0      4   \n",
       "\n",
       "  grade  \n",
       "0    A4  "
      ]
     },
     "execution_count": 9,
     "metadata": {},
     "output_type": "execute_result"
    }
   ],
   "source": [
    "sql = \"\"\"\n",
    "SELECT * \n",
    "FROM buy \n",
    "WHERE name = '%s'\n",
    "\"\"\"\n",
    "sql = sql % name\n",
    "print(sql)\n",
    "\n",
    "buy = pd.read_sql(sql, const)\n",
    "buy"
   ]
  },
  {
   "cell_type": "markdown",
   "metadata": {},
   "source": [
    "### If shares become zero and no longer wants to keep buy record"
   ]
  },
  {
   "cell_type": "code",
   "execution_count": 10,
   "metadata": {},
   "outputs": [
    {
     "name": "stdout",
     "output_type": "stream",
     "text": [
      "\n",
      "DELETE FROM buy\n",
      "WHERE name = 'KBANK' AND volbuy = 0\n",
      "\n"
     ]
    }
   ],
   "source": [
    "sqlDel = \"\"\"\n",
    "DELETE FROM buy\n",
    "WHERE name = '%s' AND volbuy = 0\n",
    "\"\"\"\n",
    "sqlDel = sqlDel % name\n",
    "print(sqlDel)"
   ]
  },
  {
   "cell_type": "code",
   "execution_count": 11,
   "metadata": {},
   "outputs": [
    {
     "data": {
      "text/plain": [
       "1"
      ]
     },
     "execution_count": 11,
     "metadata": {},
     "output_type": "execute_result"
    }
   ],
   "source": [
    "rp = const.execute(sqlDel)\n",
    "rp.rowcount"
   ]
  },
  {
   "cell_type": "markdown",
   "metadata": {},
   "source": [
    "### End of Update buy table in MySQL stock database from sale transaction"
   ]
  },
  {
   "cell_type": "markdown",
   "metadata": {},
   "source": [
    "### Begin of Update dividend table in MySQL stock database from sale transaction"
   ]
  },
  {
   "cell_type": "code",
   "execution_count": 12,
   "metadata": {},
   "outputs": [
    {
     "name": "stdout",
     "output_type": "stream",
     "text": [
      "\n",
      "SELECT * \n",
      "FROM dividend \n",
      "WHERE name = 'KBANK'\n",
      "\n"
     ]
    },
    {
     "data": {
      "text/html": [
       "<style type=\"text/css\">\n",
       "</style>\n",
       "<table id=\"T_c62ba_\">\n",
       "  <thead>\n",
       "    <tr>\n",
       "      <th class=\"blank level0\" >&nbsp;</th>\n",
       "      <th class=\"col_heading level0 col0\" >NAME</th>\n",
       "      <th class=\"col_heading level0 col1\" >Q4</th>\n",
       "      <th class=\"col_heading level0 col2\" >Q3</th>\n",
       "      <th class=\"col_heading level0 col3\" >Q2</th>\n",
       "      <th class=\"col_heading level0 col4\" >Q1</th>\n",
       "      <th class=\"col_heading level0 col5\" >DIVIDEND</th>\n",
       "      <th class=\"col_heading level0 col6\" >SHARES</th>\n",
       "      <th class=\"col_heading level0 col7\" >XDATE</th>\n",
       "      <th class=\"col_heading level0 col8\" >PAIDDATE</th>\n",
       "      <th class=\"col_heading level0 col9\" >KIND</th>\n",
       "      <th class=\"col_heading level0 col10\" >ACTUAL</th>\n",
       "    </tr>\n",
       "  </thead>\n",
       "  <tbody>\n",
       "    <tr>\n",
       "      <th id=\"T_c62ba_level0_row0\" class=\"row_heading level0 row0\" >0</th>\n",
       "      <td id=\"T_c62ba_row0_col0\" class=\"data row0 col0\" >KBANK</td>\n",
       "      <td id=\"T_c62ba_row0_col1\" class=\"data row0 col1\" >2.5000</td>\n",
       "      <td id=\"T_c62ba_row0_col2\" class=\"data row0 col2\" >0.0000</td>\n",
       "      <td id=\"T_c62ba_row0_col3\" class=\"data row0 col3\" >0.5000</td>\n",
       "      <td id=\"T_c62ba_row0_col4\" class=\"data row0 col4\" >0.0000</td>\n",
       "      <td id=\"T_c62ba_row0_col5\" class=\"data row0 col5\" >3.0000</td>\n",
       "      <td id=\"T_c62ba_row0_col6\" class=\"data row0 col6\" >800</td>\n",
       "      <td id=\"T_c62ba_row0_col7\" class=\"data row0 col7\" >2022-05-07</td>\n",
       "      <td id=\"T_c62ba_row0_col8\" class=\"data row0 col8\" >2022-05-07</td>\n",
       "      <td id=\"T_c62ba_row0_col9\" class=\"data row0 col9\" ></td>\n",
       "      <td id=\"T_c62ba_row0_col10\" class=\"data row0 col10\" >0</td>\n",
       "    </tr>\n",
       "  </tbody>\n",
       "</table>\n"
      ],
      "text/plain": [
       "<pandas.io.formats.style.Styler at 0x26261084b80>"
      ]
     },
     "execution_count": 12,
     "metadata": {},
     "output_type": "execute_result"
    }
   ],
   "source": [
    "sql = \"\"\"\n",
    "SELECT * \n",
    "FROM dividend \n",
    "WHERE name = '%s'\n",
    "\"\"\"\n",
    "sql = sql % name\n",
    "print(sql)\n",
    "\n",
    "dividend = pd.read_sql(sql, const)\n",
    "dividend.drop(['PRICE', 'PERCENT'], axis=1, inplace=True)\n",
    "dividend['SHARES'] = dividend['SHARES'].astype('int64')\n",
    "dividend.style.format(format_dict)"
   ]
  },
  {
   "cell_type": "code",
   "execution_count": 13,
   "metadata": {},
   "outputs": [
    {
     "name": "stdout",
     "output_type": "stream",
     "text": [
      "\n",
      "UPDATE dividend\n",
      "SET shares = shares + -800\n",
      "WHERE name = 'KBANK'\n",
      "\n"
     ]
    }
   ],
   "source": [
    "sqlUpd = \"\"\"\n",
    "UPDATE dividend\n",
    "SET shares = shares + %s\n",
    "WHERE name = '%s'\n",
    "\"\"\"\n",
    "sqlUpd = sqlUpd % (qty, name)\n",
    "print(sqlUpd)"
   ]
  },
  {
   "cell_type": "code",
   "execution_count": 14,
   "metadata": {},
   "outputs": [
    {
     "data": {
      "text/plain": [
       "1"
      ]
     },
     "execution_count": 14,
     "metadata": {},
     "output_type": "execute_result"
    }
   ],
   "source": [
    "rp = const.execute(sqlUpd)\n",
    "rp.rowcount"
   ]
  },
  {
   "cell_type": "code",
   "execution_count": 15,
   "metadata": {},
   "outputs": [
    {
     "name": "stdout",
     "output_type": "stream",
     "text": [
      "\n",
      "SELECT * \n",
      "FROM dividend \n",
      "WHERE name = 'KBANK'\n",
      "\n"
     ]
    },
    {
     "data": {
      "text/html": [
       "<style type=\"text/css\">\n",
       "</style>\n",
       "<table id=\"T_d34a7_\">\n",
       "  <thead>\n",
       "    <tr>\n",
       "      <th class=\"blank level0\" >&nbsp;</th>\n",
       "      <th class=\"col_heading level0 col0\" >NAME</th>\n",
       "      <th class=\"col_heading level0 col1\" >Q4</th>\n",
       "      <th class=\"col_heading level0 col2\" >Q3</th>\n",
       "      <th class=\"col_heading level0 col3\" >Q2</th>\n",
       "      <th class=\"col_heading level0 col4\" >Q1</th>\n",
       "      <th class=\"col_heading level0 col5\" >DIVIDEND</th>\n",
       "      <th class=\"col_heading level0 col6\" >SHARES</th>\n",
       "      <th class=\"col_heading level0 col7\" >XDATE</th>\n",
       "      <th class=\"col_heading level0 col8\" >PAIDDATE</th>\n",
       "      <th class=\"col_heading level0 col9\" >KIND</th>\n",
       "      <th class=\"col_heading level0 col10\" >ACTUAL</th>\n",
       "    </tr>\n",
       "  </thead>\n",
       "  <tbody>\n",
       "    <tr>\n",
       "      <th id=\"T_d34a7_level0_row0\" class=\"row_heading level0 row0\" >0</th>\n",
       "      <td id=\"T_d34a7_row0_col0\" class=\"data row0 col0\" >KBANK</td>\n",
       "      <td id=\"T_d34a7_row0_col1\" class=\"data row0 col1\" >2.5000</td>\n",
       "      <td id=\"T_d34a7_row0_col2\" class=\"data row0 col2\" >0.0000</td>\n",
       "      <td id=\"T_d34a7_row0_col3\" class=\"data row0 col3\" >0.5000</td>\n",
       "      <td id=\"T_d34a7_row0_col4\" class=\"data row0 col4\" >0.0000</td>\n",
       "      <td id=\"T_d34a7_row0_col5\" class=\"data row0 col5\" >3.0000</td>\n",
       "      <td id=\"T_d34a7_row0_col6\" class=\"data row0 col6\" >0</td>\n",
       "      <td id=\"T_d34a7_row0_col7\" class=\"data row0 col7\" >2022-05-07</td>\n",
       "      <td id=\"T_d34a7_row0_col8\" class=\"data row0 col8\" >2022-05-07</td>\n",
       "      <td id=\"T_d34a7_row0_col9\" class=\"data row0 col9\" ></td>\n",
       "      <td id=\"T_d34a7_row0_col10\" class=\"data row0 col10\" >0</td>\n",
       "    </tr>\n",
       "  </tbody>\n",
       "</table>\n"
      ],
      "text/plain": [
       "<pandas.io.formats.style.Styler at 0x26263cfb310>"
      ]
     },
     "execution_count": 15,
     "metadata": {},
     "output_type": "execute_result"
    }
   ],
   "source": [
    "sql = \"\"\"\n",
    "SELECT * \n",
    "FROM dividend \n",
    "WHERE name = '%s'\n",
    "\"\"\"\n",
    "sql = sql % name\n",
    "print(sql)\n",
    "\n",
    "dividend = pd.read_sql(sql, const)\n",
    "dividend.drop(['PRICE', 'PERCENT'], axis=1, inplace=True)\n",
    "dividend['SHARES'] = dividend['SHARES'].astype('int64')\n",
    "dividend.style.format(format_dict)"
   ]
  },
  {
   "cell_type": "markdown",
   "metadata": {},
   "source": [
    "### If shares become zero and no longer wants to keep dividend record"
   ]
  },
  {
   "cell_type": "code",
   "execution_count": 16,
   "metadata": {},
   "outputs": [
    {
     "name": "stdout",
     "output_type": "stream",
     "text": [
      "\n",
      "DELETE FROM dividend\n",
      "WHERE name = 'KBANK' AND shares = 0\n",
      "\n"
     ]
    }
   ],
   "source": [
    "sqlDel = \"\"\"\n",
    "DELETE FROM dividend\n",
    "WHERE name = '%s' AND shares = 0\n",
    "\"\"\"\n",
    "sqlDel = sqlDel % name\n",
    "print(sqlDel)"
   ]
  },
  {
   "cell_type": "code",
   "execution_count": 17,
   "metadata": {},
   "outputs": [
    {
     "data": {
      "text/plain": [
       "1"
      ]
     },
     "execution_count": 17,
     "metadata": {},
     "output_type": "execute_result"
    }
   ],
   "source": [
    "rp = const.execute(sqlDel)\n",
    "rp.rowcount"
   ]
  },
  {
   "cell_type": "markdown",
   "metadata": {},
   "source": [
    "### End of Update dividend table in MySQL stock database from sale transaction"
   ]
  },
  {
   "cell_type": "markdown",
   "metadata": {},
   "source": [
    "### Begin of Update stocks table in SQLite port_lite database from sale transaction"
   ]
  },
  {
   "cell_type": "code",
   "execution_count": 18,
   "metadata": {},
   "outputs": [
    {
     "name": "stdout",
     "output_type": "stream",
     "text": [
      "\n",
      "SELECT * \n",
      "FROM stocks \n",
      "WHERE name = 'KBANK'\n",
      "\n"
     ]
    },
    {
     "data": {
      "text/html": [
       "<style type=\"text/css\">\n",
       "</style>\n",
       "<table id=\"T_8c718_\">\n",
       "  <thead>\n",
       "    <tr>\n",
       "      <th class=\"blank level0\" >&nbsp;</th>\n",
       "      <th class=\"col_heading level0 col0\" >id</th>\n",
       "      <th class=\"col_heading level0 col1\" >name</th>\n",
       "      <th class=\"col_heading level0 col2\" >max_price</th>\n",
       "      <th class=\"col_heading level0 col3\" >min_price</th>\n",
       "      <th class=\"col_heading level0 col4\" >status</th>\n",
       "      <th class=\"col_heading level0 col5\" >buy_target</th>\n",
       "      <th class=\"col_heading level0 col6\" >sell_target</th>\n",
       "      <th class=\"col_heading level0 col7\" >volume</th>\n",
       "      <th class=\"col_heading level0 col8\" >beta</th>\n",
       "      <th class=\"col_heading level0 col9\" >cost</th>\n",
       "      <th class=\"col_heading level0 col10\" >qty</th>\n",
       "      <th class=\"col_heading level0 col11\" >buy_spread</th>\n",
       "      <th class=\"col_heading level0 col12\" >sell_spread</th>\n",
       "      <th class=\"col_heading level0 col13\" >available_qty</th>\n",
       "      <th class=\"col_heading level0 col14\" >bl</th>\n",
       "      <th class=\"col_heading level0 col15\" >sh</th>\n",
       "      <th class=\"col_heading level0 col16\" >reason</th>\n",
       "      <th class=\"col_heading level0 col17\" >market</th>\n",
       "    </tr>\n",
       "  </thead>\n",
       "  <tbody>\n",
       "    <tr>\n",
       "      <th id=\"T_8c718_level0_row0\" class=\"row_heading level0 row0\" >0</th>\n",
       "      <td id=\"T_8c718_row0_col0\" class=\"data row0 col0\" >637</td>\n",
       "      <td id=\"T_8c718_row0_col1\" class=\"data row0 col1\" >KBANK</td>\n",
       "      <td id=\"T_8c718_row0_col2\" class=\"data row0 col2\" >153.00</td>\n",
       "      <td id=\"T_8c718_row0_col3\" class=\"data row0 col3\" >101.00</td>\n",
       "      <td id=\"T_8c718_row0_col4\" class=\"data row0 col4\" >I</td>\n",
       "      <td id=\"T_8c718_row0_col5\" class=\"data row0 col5\" >0.00</td>\n",
       "      <td id=\"T_8c718_row0_col6\" class=\"data row0 col6\" >150.50</td>\n",
       "      <td id=\"T_8c718_row0_col7\" class=\"data row0 col7\" >3,733.70</td>\n",
       "      <td id=\"T_8c718_row0_col8\" class=\"data row0 col8\" >1.68</td>\n",
       "      <td id=\"T_8c718_row0_col9\" class=\"data row0 col9\" >136.50</td>\n",
       "      <td id=\"T_8c718_row0_col10\" class=\"data row0 col10\" >800</td>\n",
       "      <td id=\"T_8c718_row0_col11\" class=\"data row0 col11\" >-17</td>\n",
       "      <td id=\"T_8c718_row0_col12\" class=\"data row0 col12\" >19</td>\n",
       "      <td id=\"T_8c718_row0_col13\" class=\"data row0 col13\" >800</td>\n",
       "      <td id=\"T_8c718_row0_col14\" class=\"data row0 col14\" >0</td>\n",
       "      <td id=\"T_8c718_row0_col15\" class=\"data row0 col15\" >0</td>\n",
       "      <td id=\"T_8c718_row0_col16\" class=\"data row0 col16\" >10pct</td>\n",
       "      <td id=\"T_8c718_row0_col17\" class=\"data row0 col17\" >SET50</td>\n",
       "    </tr>\n",
       "  </tbody>\n",
       "</table>\n"
      ],
      "text/plain": [
       "<pandas.io.formats.style.Styler at 0x26264d42fd0>"
      ]
     },
     "execution_count": 18,
     "metadata": {},
     "output_type": "execute_result"
    }
   ],
   "source": [
    "sql = \"\"\"\n",
    "SELECT * \n",
    "FROM stocks \n",
    "WHERE name = '%s'\n",
    "\"\"\"\n",
    "sql = sql % name\n",
    "print(sql)\n",
    "\n",
    "stocks = pd.read_sql(sql, conlite)\n",
    "stocks.style.format(format_dict)"
   ]
  },
  {
   "cell_type": "code",
   "execution_count": 21,
   "metadata": {},
   "outputs": [
    {
     "name": "stdout",
     "output_type": "stream",
     "text": [
      "\n",
      "UPDATE stocks\n",
      "SET available_qty = available_qty + -800,\n",
      "qty = 800, buy_target = 137, sell_target = 144.5, reason = '5pct', status = 'X'\n",
      "WHERE name = 'KBANK'\n",
      "\n"
     ]
    }
   ],
   "source": [
    "buy_target  = 137   # must calculate manually beforehand\n",
    "sell_target = 144.5\n",
    "status = 'X'\n",
    "reason = \"5pct\"\n",
    "sell_qty = 800\n",
    "\n",
    "sqlUpd = \"\"\"\n",
    "UPDATE stocks\n",
    "SET available_qty = available_qty + %s,\n",
    "qty = %s, buy_target = %s, sell_target = %s, reason = '%s', status = '%s'\n",
    "WHERE name = '%s'\n",
    "\"\"\"\n",
    "sqlUpd = sqlUpd % (qty, sell_qty, buy_target, sell_target, reason, status, name)\n",
    "print(sqlUpd)"
   ]
  },
  {
   "cell_type": "code",
   "execution_count": 22,
   "metadata": {},
   "outputs": [
    {
     "data": {
      "text/plain": [
       "1"
      ]
     },
     "execution_count": 22,
     "metadata": {},
     "output_type": "execute_result"
    }
   ],
   "source": [
    "rp = conlite.execute(sqlUpd)\n",
    "rp.rowcount"
   ]
  },
  {
   "cell_type": "code",
   "execution_count": 23,
   "metadata": {},
   "outputs": [
    {
     "name": "stdout",
     "output_type": "stream",
     "text": [
      "\n",
      "SELECT * \n",
      "FROM stocks \n",
      "WHERE name = 'KBANK'\n",
      "\n"
     ]
    },
    {
     "data": {
      "text/html": [
       "<style type=\"text/css\">\n",
       "</style>\n",
       "<table id=\"T_c4394_\">\n",
       "  <thead>\n",
       "    <tr>\n",
       "      <th class=\"blank level0\" >&nbsp;</th>\n",
       "      <th class=\"col_heading level0 col0\" >id</th>\n",
       "      <th class=\"col_heading level0 col1\" >name</th>\n",
       "      <th class=\"col_heading level0 col2\" >max_price</th>\n",
       "      <th class=\"col_heading level0 col3\" >min_price</th>\n",
       "      <th class=\"col_heading level0 col4\" >status</th>\n",
       "      <th class=\"col_heading level0 col5\" >buy_target</th>\n",
       "      <th class=\"col_heading level0 col6\" >sell_target</th>\n",
       "      <th class=\"col_heading level0 col7\" >volume</th>\n",
       "      <th class=\"col_heading level0 col8\" >beta</th>\n",
       "      <th class=\"col_heading level0 col9\" >cost</th>\n",
       "      <th class=\"col_heading level0 col10\" >qty</th>\n",
       "      <th class=\"col_heading level0 col11\" >buy_spread</th>\n",
       "      <th class=\"col_heading level0 col12\" >sell_spread</th>\n",
       "      <th class=\"col_heading level0 col13\" >available_qty</th>\n",
       "      <th class=\"col_heading level0 col14\" >bl</th>\n",
       "      <th class=\"col_heading level0 col15\" >sh</th>\n",
       "      <th class=\"col_heading level0 col16\" >reason</th>\n",
       "      <th class=\"col_heading level0 col17\" >market</th>\n",
       "    </tr>\n",
       "  </thead>\n",
       "  <tbody>\n",
       "    <tr>\n",
       "      <th id=\"T_c4394_level0_row0\" class=\"row_heading level0 row0\" >0</th>\n",
       "      <td id=\"T_c4394_row0_col0\" class=\"data row0 col0\" >637</td>\n",
       "      <td id=\"T_c4394_row0_col1\" class=\"data row0 col1\" >KBANK</td>\n",
       "      <td id=\"T_c4394_row0_col2\" class=\"data row0 col2\" >153.00</td>\n",
       "      <td id=\"T_c4394_row0_col3\" class=\"data row0 col3\" >101.00</td>\n",
       "      <td id=\"T_c4394_row0_col4\" class=\"data row0 col4\" >X</td>\n",
       "      <td id=\"T_c4394_row0_col5\" class=\"data row0 col5\" >137.00</td>\n",
       "      <td id=\"T_c4394_row0_col6\" class=\"data row0 col6\" >144.50</td>\n",
       "      <td id=\"T_c4394_row0_col7\" class=\"data row0 col7\" >3,733.70</td>\n",
       "      <td id=\"T_c4394_row0_col8\" class=\"data row0 col8\" >1.68</td>\n",
       "      <td id=\"T_c4394_row0_col9\" class=\"data row0 col9\" >136.50</td>\n",
       "      <td id=\"T_c4394_row0_col10\" class=\"data row0 col10\" >800</td>\n",
       "      <td id=\"T_c4394_row0_col11\" class=\"data row0 col11\" >-17</td>\n",
       "      <td id=\"T_c4394_row0_col12\" class=\"data row0 col12\" >19</td>\n",
       "      <td id=\"T_c4394_row0_col13\" class=\"data row0 col13\" >0</td>\n",
       "      <td id=\"T_c4394_row0_col14\" class=\"data row0 col14\" >0</td>\n",
       "      <td id=\"T_c4394_row0_col15\" class=\"data row0 col15\" >0</td>\n",
       "      <td id=\"T_c4394_row0_col16\" class=\"data row0 col16\" >5pct</td>\n",
       "      <td id=\"T_c4394_row0_col17\" class=\"data row0 col17\" >SET50</td>\n",
       "    </tr>\n",
       "  </tbody>\n",
       "</table>\n"
      ],
      "text/plain": [
       "<pandas.io.formats.style.Styler at 0x26264d6d370>"
      ]
     },
     "execution_count": 23,
     "metadata": {},
     "output_type": "execute_result"
    }
   ],
   "source": [
    "sql = \"\"\"\n",
    "SELECT * \n",
    "FROM stocks \n",
    "WHERE name = '%s'\n",
    "\"\"\"\n",
    "sql = sql % name\n",
    "print(sql)\n",
    "\n",
    "stocks = pd.read_sql(sql, conlite)\n",
    "stocks.style.format(format_dict)"
   ]
  },
  {
   "cell_type": "markdown",
   "metadata": {},
   "source": [
    "### End of Update stocks table in SQLite port_lite database from sale transaction"
   ]
  },
  {
   "cell_type": "markdown",
   "metadata": {},
   "source": [
    "## End of Sale process"
   ]
  },
  {
   "cell_type": "markdown",
   "metadata": {},
   "source": [
    "## Begin of  Buy process"
   ]
  },
  {
   "cell_type": "markdown",
   "metadata": {},
   "source": [
    "### Begin of Update buy table in MySQL database from buy transaction"
   ]
  },
  {
   "cell_type": "code",
   "execution_count": 45,
   "metadata": {},
   "outputs": [
    {
     "name": "stdout",
     "output_type": "stream",
     "text": [
      "\n",
      "SELECT * \n",
      "FROM buy \n",
      "WHERE name = 'TSE'\n",
      "\n"
     ]
    },
    {
     "data": {
      "text/html": [
       "<style type=\"text/css\">\n",
       "</style>\n",
       "<table id=\"T_47587_\">\n",
       "  <thead>\n",
       "    <tr>\n",
       "      <th class=\"blank level0\" >&nbsp;</th>\n",
       "      <th class=\"col_heading level0 col0\" >name</th>\n",
       "      <th class=\"col_heading level0 col1\" >date</th>\n",
       "      <th class=\"col_heading level0 col2\" >shares</th>\n",
       "      <th class=\"col_heading level0 col3\" >price</th>\n",
       "      <th class=\"col_heading level0 col4\" >active</th>\n",
       "      <th class=\"col_heading level0 col5\" >dividend</th>\n",
       "      <th class=\"col_heading level0 col6\" >period</th>\n",
       "      <th class=\"col_heading level0 col7\" >grade</th>\n",
       "    </tr>\n",
       "  </thead>\n",
       "  <tbody>\n",
       "  </tbody>\n",
       "</table>\n"
      ],
      "text/plain": [
       "<pandas.io.formats.style.Styler at 0x26264da6790>"
      ]
     },
     "execution_count": 45,
     "metadata": {},
     "output_type": "execute_result"
    }
   ],
   "source": [
    "sql = \"\"\"\n",
    "SELECT * \n",
    "FROM buy \n",
    "WHERE name = '%s'\n",
    "\"\"\"\n",
    "sql = sql % name\n",
    "print(sql)\n",
    "\n",
    "buy = pd.read_sql(sql, const)\n",
    "buy.drop(['volsell', 'volbal'], axis=1, inplace=True)\n",
    "buy.rename(columns={'volbuy':'shares'},inplace=True)\n",
    "buy['shares'] = buy['shares'].astype('int64')\n",
    "buy.style.format(format_dict)"
   ]
  },
  {
   "cell_type": "markdown",
   "metadata": {},
   "source": [
    "### In case there is the same stock name in port"
   ]
  },
  {
   "cell_type": "code",
   "execution_count": 27,
   "metadata": {},
   "outputs": [
    {
     "name": "stdout",
     "output_type": "stream",
     "text": [
      "\n",
      "UPDATE buy\n",
      "SET volbuy = volbuy + 12000, price = 10.9\n",
      "WHERE name = 'EPG'\n",
      "\n"
     ]
    }
   ],
   "source": [
    "new_cost = 10.90 # new average cost must be calculated manually beforehand\n",
    "\n",
    "sqlUpd = \"\"\"\n",
    "UPDATE buy\n",
    "SET volbuy = volbuy + %s, price = %s\n",
    "WHERE name = '%s'\n",
    "\"\"\"\n",
    "sqlUpd = sqlUpd % (qty, new_cost, name)\n",
    "print(sqlUpd)"
   ]
  },
  {
   "cell_type": "code",
   "execution_count": 28,
   "metadata": {},
   "outputs": [
    {
     "data": {
      "text/plain": [
       "1"
      ]
     },
     "execution_count": 28,
     "metadata": {},
     "output_type": "execute_result"
    }
   ],
   "source": [
    "rp = const.execute(sqlUpd)\n",
    "rp.rowcount"
   ]
  },
  {
   "cell_type": "code",
   "execution_count": 29,
   "metadata": {},
   "outputs": [
    {
     "name": "stdout",
     "output_type": "stream",
     "text": [
      "\n",
      "SELECT * \n",
      "FROM buy \n",
      "WHERE name = 'EPG'\n",
      "\n"
     ]
    },
    {
     "data": {
      "text/html": [
       "<style type=\"text/css\">\n",
       "</style>\n",
       "<table id=\"T_95220_\">\n",
       "  <thead>\n",
       "    <tr>\n",
       "      <th class=\"blank level0\" >&nbsp;</th>\n",
       "      <th class=\"col_heading level0 col0\" >name</th>\n",
       "      <th class=\"col_heading level0 col1\" >date</th>\n",
       "      <th class=\"col_heading level0 col2\" >shares</th>\n",
       "      <th class=\"col_heading level0 col3\" >price</th>\n",
       "      <th class=\"col_heading level0 col4\" >active</th>\n",
       "      <th class=\"col_heading level0 col5\" >dividend</th>\n",
       "      <th class=\"col_heading level0 col6\" >period</th>\n",
       "      <th class=\"col_heading level0 col7\" >grade</th>\n",
       "    </tr>\n",
       "  </thead>\n",
       "  <tbody>\n",
       "    <tr>\n",
       "      <th id=\"T_95220_level0_row0\" class=\"row_heading level0 row0\" >0</th>\n",
       "      <td id=\"T_95220_row0_col0\" class=\"data row0 col0\" >EPG</td>\n",
       "      <td id=\"T_95220_row0_col1\" class=\"data row0 col1\" >2021-06-23</td>\n",
       "      <td id=\"T_95220_row0_col2\" class=\"data row0 col2\" >24,000</td>\n",
       "      <td id=\"T_95220_row0_col3\" class=\"data row0 col3\" >10.90</td>\n",
       "      <td id=\"T_95220_row0_col4\" class=\"data row0 col4\" >1</td>\n",
       "      <td id=\"T_95220_row0_col5\" class=\"data row0 col5\" >0.2300</td>\n",
       "      <td id=\"T_95220_row0_col6\" class=\"data row0 col6\" >3</td>\n",
       "      <td id=\"T_95220_row0_col7\" class=\"data row0 col7\" >A1</td>\n",
       "    </tr>\n",
       "  </tbody>\n",
       "</table>\n"
      ],
      "text/plain": [
       "<pandas.io.formats.style.Styler at 0x26264d89af0>"
      ]
     },
     "execution_count": 29,
     "metadata": {},
     "output_type": "execute_result"
    }
   ],
   "source": [
    "sql = \"\"\"\n",
    "SELECT * \n",
    "FROM buy \n",
    "WHERE name = '%s'\n",
    "\"\"\"\n",
    "sql = sql % name\n",
    "print(sql)\n",
    "\n",
    "buy = pd.read_sql(sql, const)\n",
    "buy.drop(['volsell', 'volbal'], axis=1, inplace=True)\n",
    "buy.rename(columns={'volbuy':'shares'},inplace=True)\n",
    "buy['shares'] = buy['shares'].astype('int64')\n",
    "buy.style.format(format_dict)"
   ]
  },
  {
   "cell_type": "markdown",
   "metadata": {},
   "source": [
    "### In case of totally new stock"
   ]
  },
  {
   "cell_type": "code",
   "execution_count": 48,
   "metadata": {},
   "outputs": [
    {
     "data": {
      "text/plain": [
       "['TSE', '2022-01-21', 40000, 2.6, 0, 0, 1, 0.1, '3', 'A3']"
      ]
     },
     "execution_count": 48,
     "metadata": {},
     "output_type": "execute_result"
    }
   ],
   "source": [
    "rcd = ['TSE', '2022-01-21', 40000, 2.60, 0, 0, 1, 0.10, '3', 'A3']\n",
    "rcd"
   ]
  },
  {
   "cell_type": "code",
   "execution_count": 50,
   "metadata": {},
   "outputs": [
    {
     "name": "stdout",
     "output_type": "stream",
     "text": [
      "\n",
      "INSERT INTO buy (name, date, volbuy, price, volsell, volbal, active, dividend, period, grade)\n",
      "VALUES (%s, %s, %s, %s, %s, %s, %s, %s, %s, %s)\n",
      "\n"
     ]
    }
   ],
   "source": [
    "sqlIns = \"\"\"\n",
    "INSERT INTO buy (name, date, volbuy, price, volsell, volbal, active, dividend, period, grade)\n",
    "VALUES (%s, %s, %s, %s, %s, %s, %s, %s, %s, %s)\n",
    "\"\"\"\n",
    "print(sql)"
   ]
  },
  {
   "cell_type": "code",
   "execution_count": 52,
   "metadata": {},
   "outputs": [
    {
     "data": {
      "text/plain": [
       "1"
      ]
     },
     "execution_count": 52,
     "metadata": {},
     "output_type": "execute_result"
    }
   ],
   "source": [
    "rp = const.execute(sqlIns, rcd)\n",
    "rp.rowcount"
   ]
  },
  {
   "cell_type": "markdown",
   "metadata": {},
   "source": [
    "### End of Update buy table in MySQL database from buy transaction"
   ]
  },
  {
   "cell_type": "markdown",
   "metadata": {},
   "source": [
    "### Begin of Update dividend table in MySQL stock database from buy transaction"
   ]
  },
  {
   "cell_type": "code",
   "execution_count": 30,
   "metadata": {},
   "outputs": [
    {
     "name": "stdout",
     "output_type": "stream",
     "text": [
      "\n",
      "SELECT * \n",
      "FROM dividend \n",
      "WHERE name = 'EPG' \n",
      "\n"
     ]
    },
    {
     "data": {
      "text/html": [
       "<style type=\"text/css\">\n",
       "</style>\n",
       "<table id=\"T_d6fa1_\">\n",
       "  <thead>\n",
       "    <tr>\n",
       "      <th class=\"blank level0\" >&nbsp;</th>\n",
       "      <th class=\"col_heading level0 col0\" >NAME</th>\n",
       "      <th class=\"col_heading level0 col1\" >Q4</th>\n",
       "      <th class=\"col_heading level0 col2\" >Q3</th>\n",
       "      <th class=\"col_heading level0 col3\" >Q2</th>\n",
       "      <th class=\"col_heading level0 col4\" >Q1</th>\n",
       "      <th class=\"col_heading level0 col5\" >DIVIDEND</th>\n",
       "      <th class=\"col_heading level0 col6\" >SHARES</th>\n",
       "      <th class=\"col_heading level0 col7\" >XDATE</th>\n",
       "      <th class=\"col_heading level0 col8\" >PAIDDATE</th>\n",
       "      <th class=\"col_heading level0 col9\" >KIND</th>\n",
       "      <th class=\"col_heading level0 col10\" >ACTUAL</th>\n",
       "    </tr>\n",
       "  </thead>\n",
       "  <tbody>\n",
       "    <tr>\n",
       "      <th id=\"T_d6fa1_level0_row0\" class=\"row_heading level0 row0\" >0</th>\n",
       "      <td id=\"T_d6fa1_row0_col0\" class=\"data row0 col0\" >EPG</td>\n",
       "      <td id=\"T_d6fa1_row0_col1\" class=\"data row0 col1\" >0.0000</td>\n",
       "      <td id=\"T_d6fa1_row0_col2\" class=\"data row0 col2\" >0.1400</td>\n",
       "      <td id=\"T_d6fa1_row0_col3\" class=\"data row0 col3\" >0.0000</td>\n",
       "      <td id=\"T_d6fa1_row0_col4\" class=\"data row0 col4\" >0.0900</td>\n",
       "      <td id=\"T_d6fa1_row0_col5\" class=\"data row0 col5\" >0.2300</td>\n",
       "      <td id=\"T_d6fa1_row0_col6\" class=\"data row0 col6\" >12,000</td>\n",
       "      <td id=\"T_d6fa1_row0_col7\" class=\"data row0 col7\" >2021-12-08</td>\n",
       "      <td id=\"T_d6fa1_row0_col8\" class=\"data row0 col8\" >2021-12-08</td>\n",
       "      <td id=\"T_d6fa1_row0_col9\" class=\"data row0 col9\" ></td>\n",
       "      <td id=\"T_d6fa1_row0_col10\" class=\"data row0 col10\" >0</td>\n",
       "    </tr>\n",
       "  </tbody>\n",
       "</table>\n"
      ],
      "text/plain": [
       "<pandas.io.formats.style.Styler at 0x26261084ee0>"
      ]
     },
     "execution_count": 30,
     "metadata": {},
     "output_type": "execute_result"
    }
   ],
   "source": [
    "sql = \"\"\"\n",
    "SELECT * \n",
    "FROM dividend \n",
    "WHERE name = '%s' \n",
    "\"\"\"\n",
    "sql = sql % name\n",
    "print(sql)\n",
    "\n",
    "dividend = pd.read_sql(sql, const)\n",
    "dividend.drop(['PRICE', 'PERCENT'], axis=1, inplace=True)\n",
    "dividend['SHARES'] = dividend['SHARES'].astype('int64')\n",
    "dividend.style.format(format_dict)"
   ]
  },
  {
   "cell_type": "code",
   "execution_count": 31,
   "metadata": {},
   "outputs": [
    {
     "name": "stdout",
     "output_type": "stream",
     "text": [
      "\n",
      "UPDATE dividend\n",
      "SET shares = shares + 12000\n",
      "WHERE name = 'EPG'\n",
      "\n"
     ]
    }
   ],
   "source": [
    "sqlUpd = \"\"\"\n",
    "UPDATE dividend\n",
    "SET shares = shares + %s\n",
    "WHERE name = '%s'\n",
    "\"\"\"\n",
    "sqlUpd = sqlUpd % (qty, name)\n",
    "print(sqlUpd)"
   ]
  },
  {
   "cell_type": "code",
   "execution_count": 32,
   "metadata": {},
   "outputs": [
    {
     "data": {
      "text/plain": [
       "1"
      ]
     },
     "execution_count": 32,
     "metadata": {},
     "output_type": "execute_result"
    }
   ],
   "source": [
    "rp = const.execute(sqlUpd)\n",
    "rp.rowcount"
   ]
  },
  {
   "cell_type": "code",
   "execution_count": 33,
   "metadata": {},
   "outputs": [
    {
     "name": "stdout",
     "output_type": "stream",
     "text": [
      "\n",
      "SELECT * \n",
      "FROM dividend \n",
      "WHERE name = 'EPG' \n",
      "\n"
     ]
    },
    {
     "data": {
      "text/html": [
       "<style type=\"text/css\">\n",
       "</style>\n",
       "<table id=\"T_44ada_\">\n",
       "  <thead>\n",
       "    <tr>\n",
       "      <th class=\"blank level0\" >&nbsp;</th>\n",
       "      <th class=\"col_heading level0 col0\" >NAME</th>\n",
       "      <th class=\"col_heading level0 col1\" >Q4</th>\n",
       "      <th class=\"col_heading level0 col2\" >Q3</th>\n",
       "      <th class=\"col_heading level0 col3\" >Q2</th>\n",
       "      <th class=\"col_heading level0 col4\" >Q1</th>\n",
       "      <th class=\"col_heading level0 col5\" >DIVIDEND</th>\n",
       "      <th class=\"col_heading level0 col6\" >SHARES</th>\n",
       "      <th class=\"col_heading level0 col7\" >XDATE</th>\n",
       "      <th class=\"col_heading level0 col8\" >PAIDDATE</th>\n",
       "      <th class=\"col_heading level0 col9\" >KIND</th>\n",
       "      <th class=\"col_heading level0 col10\" >ACTUAL</th>\n",
       "    </tr>\n",
       "  </thead>\n",
       "  <tbody>\n",
       "    <tr>\n",
       "      <th id=\"T_44ada_level0_row0\" class=\"row_heading level0 row0\" >0</th>\n",
       "      <td id=\"T_44ada_row0_col0\" class=\"data row0 col0\" >EPG</td>\n",
       "      <td id=\"T_44ada_row0_col1\" class=\"data row0 col1\" >0.0000</td>\n",
       "      <td id=\"T_44ada_row0_col2\" class=\"data row0 col2\" >0.1400</td>\n",
       "      <td id=\"T_44ada_row0_col3\" class=\"data row0 col3\" >0.0000</td>\n",
       "      <td id=\"T_44ada_row0_col4\" class=\"data row0 col4\" >0.0900</td>\n",
       "      <td id=\"T_44ada_row0_col5\" class=\"data row0 col5\" >0.2300</td>\n",
       "      <td id=\"T_44ada_row0_col6\" class=\"data row0 col6\" >24,000</td>\n",
       "      <td id=\"T_44ada_row0_col7\" class=\"data row0 col7\" >2021-12-08</td>\n",
       "      <td id=\"T_44ada_row0_col8\" class=\"data row0 col8\" >2021-12-08</td>\n",
       "      <td id=\"T_44ada_row0_col9\" class=\"data row0 col9\" ></td>\n",
       "      <td id=\"T_44ada_row0_col10\" class=\"data row0 col10\" >0</td>\n",
       "    </tr>\n",
       "  </tbody>\n",
       "</table>\n"
      ],
      "text/plain": [
       "<pandas.io.formats.style.Styler at 0x26264d42b20>"
      ]
     },
     "execution_count": 33,
     "metadata": {},
     "output_type": "execute_result"
    }
   ],
   "source": [
    "sql = \"\"\"\n",
    "SELECT * \n",
    "FROM dividend \n",
    "WHERE name = '%s' \n",
    "\"\"\"\n",
    "sql = sql % name\n",
    "print(sql)\n",
    "\n",
    "dividend = pd.read_sql(sql, const)\n",
    "dividend.drop(['PRICE', 'PERCENT'], axis=1, inplace=True)\n",
    "dividend['SHARES'] = dividend['SHARES'].astype('int64')\n",
    "dividend.style.format(format_dict)"
   ]
  },
  {
   "cell_type": "markdown",
   "metadata": {},
   "source": [
    "### End of Update dividend table in MySQL stock database from buy transaction"
   ]
  },
  {
   "cell_type": "markdown",
   "metadata": {},
   "source": [
    "### Begin of Update stocks table in SQLite port_lite database from buy transaction"
   ]
  },
  {
   "cell_type": "code",
   "execution_count": 34,
   "metadata": {},
   "outputs": [
    {
     "name": "stdout",
     "output_type": "stream",
     "text": [
      "\n",
      "SELECT * \n",
      "FROM stocks \n",
      "WHERE name = 'EPG'\n",
      "\n"
     ]
    }
   ],
   "source": [
    "sql = \"\"\"\n",
    "SELECT * \n",
    "FROM stocks \n",
    "WHERE name = '%s'\n",
    "\"\"\"\n",
    "sql = sql % name\n",
    "print(sql)"
   ]
  },
  {
   "cell_type": "code",
   "execution_count": 35,
   "metadata": {
    "scrolled": true
   },
   "outputs": [
    {
     "data": {
      "text/html": [
       "<style type=\"text/css\">\n",
       "</style>\n",
       "<table id=\"T_e284b_\">\n",
       "  <thead>\n",
       "    <tr>\n",
       "      <th class=\"blank level0\" >&nbsp;</th>\n",
       "      <th class=\"col_heading level0 col0\" >id</th>\n",
       "      <th class=\"col_heading level0 col1\" >name</th>\n",
       "      <th class=\"col_heading level0 col2\" >max_price</th>\n",
       "      <th class=\"col_heading level0 col3\" >min_price</th>\n",
       "      <th class=\"col_heading level0 col4\" >status</th>\n",
       "      <th class=\"col_heading level0 col5\" >buy_target</th>\n",
       "      <th class=\"col_heading level0 col6\" >sell_target</th>\n",
       "      <th class=\"col_heading level0 col7\" >volume</th>\n",
       "      <th class=\"col_heading level0 col8\" >beta</th>\n",
       "      <th class=\"col_heading level0 col9\" >cost</th>\n",
       "      <th class=\"col_heading level0 col10\" >qty</th>\n",
       "      <th class=\"col_heading level0 col11\" >buy_spread</th>\n",
       "      <th class=\"col_heading level0 col12\" >sell_spread</th>\n",
       "      <th class=\"col_heading level0 col13\" >available_qty</th>\n",
       "      <th class=\"col_heading level0 col14\" >bl</th>\n",
       "      <th class=\"col_heading level0 col15\" >sh</th>\n",
       "      <th class=\"col_heading level0 col16\" >reason</th>\n",
       "      <th class=\"col_heading level0 col17\" >market</th>\n",
       "    </tr>\n",
       "  </thead>\n",
       "  <tbody>\n",
       "    <tr>\n",
       "      <th id=\"T_e284b_level0_row0\" class=\"row_heading level0 row0\" >0</th>\n",
       "      <td id=\"T_e284b_row0_col0\" class=\"data row0 col0\" >631</td>\n",
       "      <td id=\"T_e284b_row0_col1\" class=\"data row0 col1\" >EPG</td>\n",
       "      <td id=\"T_e284b_row0_col2\" class=\"data row0 col2\" >13.70</td>\n",
       "      <td id=\"T_e284b_row0_col3\" class=\"data row0 col3\" >7.95</td>\n",
       "      <td id=\"T_e284b_row0_col4\" class=\"data row0 col4\" >B</td>\n",
       "      <td id=\"T_e284b_row0_col5\" class=\"data row0 col5\" >10.20</td>\n",
       "      <td id=\"T_e284b_row0_col6\" class=\"data row0 col6\" >12.90</td>\n",
       "      <td id=\"T_e284b_row0_col7\" class=\"data row0 col7\" >228.36</td>\n",
       "      <td id=\"T_e284b_row0_col8\" class=\"data row0 col8\" >0.38</td>\n",
       "      <td id=\"T_e284b_row0_col9\" class=\"data row0 col9\" >11.20</td>\n",
       "      <td id=\"T_e284b_row0_col10\" class=\"data row0 col10\" >3,000</td>\n",
       "      <td id=\"T_e284b_row0_col11\" class=\"data row0 col11\" >-9</td>\n",
       "      <td id=\"T_e284b_row0_col12\" class=\"data row0 col12\" >12</td>\n",
       "      <td id=\"T_e284b_row0_col13\" class=\"data row0 col13\" >12,000</td>\n",
       "      <td id=\"T_e284b_row0_col14\" class=\"data row0 col14\" >0</td>\n",
       "      <td id=\"T_e284b_row0_col15\" class=\"data row0 col15\" >24H</td>\n",
       "      <td id=\"T_e284b_row0_col16\" class=\"data row0 col16\" >15pct</td>\n",
       "      <td id=\"T_e284b_row0_col17\" class=\"data row0 col17\" >SET100</td>\n",
       "    </tr>\n",
       "  </tbody>\n",
       "</table>\n"
      ],
      "text/plain": [
       "<pandas.io.formats.style.Styler at 0x26264d8ce50>"
      ]
     },
     "execution_count": 35,
     "metadata": {},
     "output_type": "execute_result"
    }
   ],
   "source": [
    "stocks = pd.read_sql(sql, conlite)\n",
    "stocks.style.format(format_dict)"
   ]
  },
  {
   "cell_type": "code",
   "execution_count": 36,
   "metadata": {},
   "outputs": [
    {
     "data": {
      "text/plain": [
       "(10.9, 10.6, 12.0, 'I', '10pct', 8000, 8000)"
      ]
     },
     "execution_count": 36,
     "metadata": {},
     "output_type": "execute_result"
    }
   ],
   "source": [
    "new_cost = 10.90\n",
    "buy_target = 10.60\n",
    "sell_target = 12.00\n",
    "status = 'I'\n",
    "reason = '10pct'\n",
    "new_buy_qty = 8000\n",
    "new_sell_qty = 8000\n",
    "new_cost, buy_target, sell_target, status, reason, new_buy_qty, new_sell_qty "
   ]
  },
  {
   "cell_type": "code",
   "execution_count": 37,
   "metadata": {},
   "outputs": [
    {
     "name": "stdout",
     "output_type": "stream",
     "text": [
      "\n",
      "UPDATE stocks\n",
      "SET available_qty = available_qty + 12000, \n",
      "cost = 10.9, buy_target = 10.6, sell_target = 12.0, status = 'I', \n",
      "reason = '10pct', qty = 8000\n",
      "WHERE name = 'EPG'\n",
      "\n"
     ]
    }
   ],
   "source": [
    "sqlUpd = \"\"\"\n",
    "UPDATE stocks\n",
    "SET available_qty = available_qty + %s, \n",
    "cost = %s, buy_target = %s, sell_target = %s, status = '%s', \n",
    "reason = '%s', qty = %s\n",
    "WHERE name = '%s'\n",
    "\"\"\"\n",
    "sqlUpd = sqlUpd % (qty, new_cost, buy_target, sell_target, status, reason, new_sell_qty, name)\n",
    "print(sqlUpd)"
   ]
  },
  {
   "cell_type": "code",
   "execution_count": 38,
   "metadata": {},
   "outputs": [
    {
     "data": {
      "text/plain": [
       "1"
      ]
     },
     "execution_count": 38,
     "metadata": {},
     "output_type": "execute_result"
    }
   ],
   "source": [
    "rp = conlite.execute(sqlUpd)\n",
    "rp.rowcount"
   ]
  },
  {
   "cell_type": "code",
   "execution_count": 39,
   "metadata": {},
   "outputs": [
    {
     "name": "stdout",
     "output_type": "stream",
     "text": [
      "\n",
      "SELECT * \n",
      "FROM stocks \n",
      "WHERE name = 'EPG'\n",
      "\n"
     ]
    },
    {
     "data": {
      "text/html": [
       "<style type=\"text/css\">\n",
       "</style>\n",
       "<table id=\"T_3b80b_\">\n",
       "  <thead>\n",
       "    <tr>\n",
       "      <th class=\"blank level0\" >&nbsp;</th>\n",
       "      <th class=\"col_heading level0 col0\" >id</th>\n",
       "      <th class=\"col_heading level0 col1\" >name</th>\n",
       "      <th class=\"col_heading level0 col2\" >max_price</th>\n",
       "      <th class=\"col_heading level0 col3\" >min_price</th>\n",
       "      <th class=\"col_heading level0 col4\" >status</th>\n",
       "      <th class=\"col_heading level0 col5\" >buy_target</th>\n",
       "      <th class=\"col_heading level0 col6\" >sell_target</th>\n",
       "      <th class=\"col_heading level0 col7\" >volume</th>\n",
       "      <th class=\"col_heading level0 col8\" >beta</th>\n",
       "      <th class=\"col_heading level0 col9\" >cost</th>\n",
       "      <th class=\"col_heading level0 col10\" >qty</th>\n",
       "      <th class=\"col_heading level0 col11\" >buy_spread</th>\n",
       "      <th class=\"col_heading level0 col12\" >sell_spread</th>\n",
       "      <th class=\"col_heading level0 col13\" >available_qty</th>\n",
       "      <th class=\"col_heading level0 col14\" >bl</th>\n",
       "      <th class=\"col_heading level0 col15\" >sh</th>\n",
       "      <th class=\"col_heading level0 col16\" >reason</th>\n",
       "      <th class=\"col_heading level0 col17\" >market</th>\n",
       "    </tr>\n",
       "  </thead>\n",
       "  <tbody>\n",
       "    <tr>\n",
       "      <th id=\"T_3b80b_level0_row0\" class=\"row_heading level0 row0\" >0</th>\n",
       "      <td id=\"T_3b80b_row0_col0\" class=\"data row0 col0\" >631</td>\n",
       "      <td id=\"T_3b80b_row0_col1\" class=\"data row0 col1\" >EPG</td>\n",
       "      <td id=\"T_3b80b_row0_col2\" class=\"data row0 col2\" >13.70</td>\n",
       "      <td id=\"T_3b80b_row0_col3\" class=\"data row0 col3\" >7.95</td>\n",
       "      <td id=\"T_3b80b_row0_col4\" class=\"data row0 col4\" >I</td>\n",
       "      <td id=\"T_3b80b_row0_col5\" class=\"data row0 col5\" >10.60</td>\n",
       "      <td id=\"T_3b80b_row0_col6\" class=\"data row0 col6\" >12.00</td>\n",
       "      <td id=\"T_3b80b_row0_col7\" class=\"data row0 col7\" >228.36</td>\n",
       "      <td id=\"T_3b80b_row0_col8\" class=\"data row0 col8\" >0.38</td>\n",
       "      <td id=\"T_3b80b_row0_col9\" class=\"data row0 col9\" >10.90</td>\n",
       "      <td id=\"T_3b80b_row0_col10\" class=\"data row0 col10\" >8,000</td>\n",
       "      <td id=\"T_3b80b_row0_col11\" class=\"data row0 col11\" >-9</td>\n",
       "      <td id=\"T_3b80b_row0_col12\" class=\"data row0 col12\" >12</td>\n",
       "      <td id=\"T_3b80b_row0_col13\" class=\"data row0 col13\" >24,000</td>\n",
       "      <td id=\"T_3b80b_row0_col14\" class=\"data row0 col14\" >0</td>\n",
       "      <td id=\"T_3b80b_row0_col15\" class=\"data row0 col15\" >24H</td>\n",
       "      <td id=\"T_3b80b_row0_col16\" class=\"data row0 col16\" >10pct</td>\n",
       "      <td id=\"T_3b80b_row0_col17\" class=\"data row0 col17\" >SET100</td>\n",
       "    </tr>\n",
       "  </tbody>\n",
       "</table>\n"
      ],
      "text/plain": [
       "<pandas.io.formats.style.Styler at 0x26264cd3b80>"
      ]
     },
     "execution_count": 39,
     "metadata": {},
     "output_type": "execute_result"
    }
   ],
   "source": [
    "sql = \"\"\"\n",
    "SELECT * \n",
    "FROM stocks \n",
    "WHERE name = '%s'\n",
    "\"\"\"\n",
    "sql = sql % name\n",
    "print(sql)\n",
    "\n",
    "stocks = pd.read_sql(sql, conlite)\n",
    "stocks.style.format(format_dict)"
   ]
  },
  {
   "cell_type": "markdown",
   "metadata": {},
   "source": [
    "### End of Update stocks table in SQLite port_lite database from buy transaction"
   ]
  },
  {
   "cell_type": "markdown",
   "metadata": {},
   "source": [
    "## End of  Buy process"
   ]
  },
  {
   "cell_type": "code",
   "execution_count": null,
   "metadata": {},
   "outputs": [],
   "source": []
  }
 ],
 "metadata": {
  "anaconda-cloud": {},
  "kernelspec": {
   "display_name": "Python 3 (ipykernel)",
   "language": "python",
   "name": "python3"
  },
  "language_info": {
   "codemirror_mode": {
    "name": "ipython",
    "version": 3
   },
   "file_extension": ".py",
   "mimetype": "text/x-python",
   "name": "python",
   "nbconvert_exporter": "python",
   "pygments_lexer": "ipython3",
   "version": "3.8.11"
  }
 },
 "nbformat": 4,
 "nbformat_minor": 1
}
