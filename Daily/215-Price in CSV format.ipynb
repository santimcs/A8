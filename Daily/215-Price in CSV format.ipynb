{
 "cells": [
  {
   "cell_type": "markdown",
   "metadata": {},
   "source": [
    "### Restart and Run All Cells"
   ]
  },
  {
   "cell_type": "code",
   "execution_count": 9,
   "metadata": {},
   "outputs": [
    {
     "data": {
      "text/plain": [
       "datetime.date(2022, 3, 24)"
      ]
     },
     "execution_count": 9,
     "metadata": {},
     "output_type": "execute_result"
    }
   ],
   "source": [
    "import calendar\n",
    "import pandas as pd\n",
    "from datetime import datetime, timedelta, date\n",
    "from sqlalchemy import create_engine\n",
    "\n",
    "engine = create_engine(\"mysql+pymysql://root:@localhost:3306/stock\")\n",
    "const = engine.connect()\n",
    "\n",
    "data_path = \"C:/www.santiwebsite.com/V1-Rename-Files/any/V1/csv/\"\n",
    "pd.set_option('display.float_format','{:,.3f}'.format)\n",
    "\n",
    "def posix_time(dt):\n",
    "    return (dt - datetime(1970, 1, 1)) / timedelta(milliseconds=1)\n",
    "\n",
    "today = date.today()\n",
    "today"
   ]
  },
  {
   "cell_type": "markdown",
   "metadata": {},
   "source": [
    "### Upload prices by specified names"
   ]
  },
  {
   "cell_type": "code",
   "execution_count": 6,
   "metadata": {},
   "outputs": [
    {
     "data": {
      "text/plain": [
       "\"'STA', 'RATCH', 'KCE', 'MCS', 'DIF', 'TMT', 'MAKRO', 'WHART', 'BCH', 'SINGER', 'DOHOME', 'JASIF', 'ASP', 'TISCO', 'PTTGC', 'HREIT', 'SIS', 'SPALI', 'SCCC', 'PTT', 'NER', 'TPIPL', 'AIMIRT', 'CPNCG', 'SYNEX', 'SCC', 'RCL', 'RJH', 'IP'\""
      ]
     },
     "execution_count": 6,
     "metadata": {},
     "output_type": "execute_result"
    }
   ],
   "source": [
    "sql = \"\"\"\n",
    "SELECT name\n",
    "FROM buy\n",
    "WHERE active = 1\"\"\"\n",
    "df = pd.read_sql(sql, const)\n",
    "names = df['name'].values.tolist()\n",
    "in_p = \", \".join(map(lambda name: \"'%s'\" % name, names))\n",
    "in_p"
   ]
  },
  {
   "cell_type": "code",
   "execution_count": 8,
   "metadata": {},
   "outputs": [
    {
     "name": "stdout",
     "output_type": "stream",
     "text": [
      "\n",
      "SELECT * \n",
      "FROM price \n",
      "WHERE  name IN ('STA', 'RATCH', 'KCE', 'MCS', 'DIF', 'TMT', 'MAKRO', 'WHART', 'BCH', 'SINGER', 'DOHOME', 'JASIF', 'ASP', 'TISCO', 'PTTGC', 'HREIT', 'SIS', 'SPALI', 'SCCC', 'PTT', 'NER', 'TPIPL', 'AIMIRT', 'CPNCG', 'SYNEX', 'SCC', 'RCL', 'RJH', 'IP') \n",
      "ORDER BY name, date\n"
     ]
    }
   ],
   "source": [
    "sql = \"\"\"\n",
    "SELECT * \n",
    "FROM price \n",
    "WHERE  name IN (%s) \n",
    "ORDER BY name, date\"\"\"\n",
    "sql = sql % (in_p)\n",
    "print(sql)"
   ]
  },
  {
   "cell_type": "code",
   "execution_count": 11,
   "metadata": {
    "scrolled": true
   },
   "outputs": [],
   "source": [
    "for name in names:\n",
    "    sql = \"\"\"\n",
    "    SELECT date, opnp, maxp, minp, price, qty \n",
    "    FROM price \n",
    "    WHERE name = '%s' \n",
    "    ORDER BY date\"\"\"    \n",
    "    sql = sql % name\n",
    "    df_tmp = pd.read_sql(sql, const)\n",
    "    file_name = name + \".csv\"\n",
    "    data_file = data_path + file_name\n",
    "    df_price = df_tmp \n",
    "    df_price.to_csv(data_file, header=None, index=False)"
   ]
  },
  {
   "cell_type": "code",
   "execution_count": null,
   "metadata": {},
   "outputs": [],
   "source": []
  }
 ],
 "metadata": {
  "anaconda-cloud": {},
  "kernelspec": {
   "display_name": "Python 3 (ipykernel)",
   "language": "python",
   "name": "python3"
  },
  "language_info": {
   "codemirror_mode": {
    "name": "ipython",
    "version": 3
   },
   "file_extension": ".py",
   "mimetype": "text/x-python",
   "name": "python",
   "nbconvert_exporter": "python",
   "pygments_lexer": "ipython3",
   "version": "3.8.11"
  }
 },
 "nbformat": 4,
 "nbformat_minor": 1
}
