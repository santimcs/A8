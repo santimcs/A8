{
 "cells": [
  {
   "cell_type": "code",
   "execution_count": 1,
   "metadata": {},
   "outputs": [
    {
     "data": {
      "text/plain": [
       "(datetime.date(2022, 12, 19), datetime.date(2022, 12, 18))"
      ]
     },
     "execution_count": 1,
     "metadata": {},
     "output_type": "execute_result"
    }
   ],
   "source": [
    "import calendar\n",
    "import pandas as pd\n",
    "import numpy as np\n",
    "from datetime import date, timedelta\n",
    "from math import ceil, floor, trunc\n",
    "\n",
    "today = date.today()\n",
    "yesterday = today - timedelta(days=1)\n",
    "today, yesterday"
   ]
  },
  {
   "cell_type": "code",
   "execution_count": 2,
   "metadata": {},
   "outputs": [],
   "source": [
    "def number_of_spread(x):\n",
    "    q0 = x[0]   #old qty\n",
    "    p0 = x[1]   #old unit \n",
    "    old_unit_cost = x[1]\n",
    "    q1 = x[2]   #purchase qty\n",
    "    d1 = x[3]  #spread according to price range\n",
    "    c0 = x[4]  #desired down percent to adjust purchase price\n",
    "\n",
    "    a0 = q0 * p0 # amount\n",
    "    \n",
    "    i = 1000\n",
    "    pct = 0\n",
    "    pt = 0\n",
    "    dt = 0\n",
    "    p2 = 0\n",
    "    while i > 0:\n",
    "        p1 = p0 - d1  #simulated purchase price\n",
    "        p0 = p1\n",
    "        a1 = q1 * p1  #new purchase amt\n",
    "        q2 = q0 + q1  #new total qty\n",
    "        a2 = a0 + a1  #new cost amt\n",
    "        p2 = a2 / q2  #new unit cost\n",
    "\n",
    "        pt = round(p2 * 100,2)  #simulated purchase price multiply 100  \n",
    "        dt = d1 * 100           #spread according to price range multiply 100\n",
    "        \n",
    "        print('before if',i,'p1='+str(round(p1,2)),'a1='+str(round(a1,2)),'a2='+str(round(a2,2)),'p2='+str(round(p2,2)))\n",
    "        \n",
    "        if (pt % dt) == 0:\n",
    "            pct = ((p1 - old_unit_cost)/old_unit_cost) * 100\n",
    "            print ('in loop' ,i,'p2='+str(round(p2,2)),a2,'p1='+str(round(p1,2)),'pct='+str(round(pct,2)))\n",
    "            if abs(pct) < c0:\n",
    "                continue\n",
    "            break\n",
    "            \n",
    "        print ('out loop',i,'p2='+str(round(p2,2)),a2,'p1='+str(round(p1,2)),'pct='+str(round(pct,2)))            \n",
    "        i -= 1     \n",
    "        \n",
    "    return print('p1='+str(round(p1,2)),'p2='+str(round(p2,2)),'pct='+str(round(pct,2)))"
   ]
  },
  {
   "cell_type": "code",
   "execution_count": 3,
   "metadata": {
    "scrolled": true
   },
   "outputs": [
    {
     "name": "stdout",
     "output_type": "stream",
     "text": [
      "before if 1000 p1=45.5 a1=136500.0 a2=822750.0 p2=45.71\n",
      "out loop 1000 p2=45.71 822750.0 p1=45.5 pct=0\n",
      "before if 999 p1=45.25 a1=135750.0 a2=822000.0 p2=45.67\n",
      "out loop 999 p2=45.67 822000.0 p1=45.25 pct=0\n",
      "before if 998 p1=45.0 a1=135000.0 a2=821250.0 p2=45.62\n",
      "out loop 998 p2=45.62 821250.0 p1=45.0 pct=0\n",
      "before if 997 p1=44.75 a1=134250.0 a2=820500.0 p2=45.58\n",
      "out loop 997 p2=45.58 820500.0 p1=44.75 pct=0\n",
      "before if 996 p1=44.5 a1=133500.0 a2=819750.0 p2=45.54\n",
      "out loop 996 p2=45.54 819750.0 p1=44.5 pct=0\n",
      "before if 995 p1=44.25 a1=132750.0 a2=819000.0 p2=45.5\n",
      "in loop 995 p2=45.5 819000.0 p1=44.25 pct=-3.28\n",
      "before if 995 p1=44.0 a1=132000.0 a2=818250.0 p2=45.46\n",
      "out loop 995 p2=45.46 818250.0 p1=44.0 pct=-3.28\n",
      "before if 994 p1=43.75 a1=131250.0 a2=817500.0 p2=45.42\n",
      "out loop 994 p2=45.42 817500.0 p1=43.75 pct=-3.28\n",
      "before if 993 p1=43.5 a1=130500.0 a2=816750.0 p2=45.38\n",
      "out loop 993 p2=45.38 816750.0 p1=43.5 pct=-3.28\n",
      "before if 992 p1=43.25 a1=129750.0 a2=816000.0 p2=45.33\n",
      "out loop 992 p2=45.33 816000.0 p1=43.25 pct=-3.28\n",
      "before if 991 p1=43.0 a1=129000.0 a2=815250.0 p2=45.29\n",
      "out loop 991 p2=45.29 815250.0 p1=43.0 pct=-3.28\n",
      "before if 990 p1=42.75 a1=128250.0 a2=814500.0 p2=45.25\n",
      "in loop 990 p2=45.25 814500.0 p1=42.75 pct=-6.56\n",
      "before if 990 p1=42.5 a1=127500.0 a2=813750.0 p2=45.21\n",
      "out loop 990 p2=45.21 813750.0 p1=42.5 pct=-6.56\n",
      "before if 989 p1=42.25 a1=126750.0 a2=813000.0 p2=45.17\n",
      "out loop 989 p2=45.17 813000.0 p1=42.25 pct=-6.56\n",
      "before if 988 p1=42.0 a1=126000.0 a2=812250.0 p2=45.12\n",
      "out loop 988 p2=45.12 812250.0 p1=42.0 pct=-6.56\n",
      "before if 987 p1=41.75 a1=125250.0 a2=811500.0 p2=45.08\n",
      "out loop 987 p2=45.08 811500.0 p1=41.75 pct=-6.56\n",
      "before if 986 p1=41.5 a1=124500.0 a2=810750.0 p2=45.04\n",
      "out loop 986 p2=45.04 810750.0 p1=41.5 pct=-6.56\n",
      "before if 985 p1=41.25 a1=123750.0 a2=810000.0 p2=45.0\n",
      "in loop 985 p2=45.0 810000.0 p1=41.25 pct=-9.84\n",
      "before if 985 p1=41.0 a1=123000.0 a2=809250.0 p2=44.96\n",
      "out loop 985 p2=44.96 809250.0 p1=41.0 pct=-9.84\n",
      "before if 984 p1=40.75 a1=122250.0 a2=808500.0 p2=44.92\n",
      "out loop 984 p2=44.92 808500.0 p1=40.75 pct=-9.84\n",
      "before if 983 p1=40.5 a1=121500.0 a2=807750.0 p2=44.88\n",
      "out loop 983 p2=44.88 807750.0 p1=40.5 pct=-9.84\n",
      "before if 982 p1=40.25 a1=120750.0 a2=807000.0 p2=44.83\n",
      "out loop 982 p2=44.83 807000.0 p1=40.25 pct=-9.84\n",
      "before if 981 p1=40.0 a1=120000.0 a2=806250.0 p2=44.79\n",
      "out loop 981 p2=44.79 806250.0 p1=40.0 pct=-9.84\n",
      "before if 980 p1=39.75 a1=119250.0 a2=805500.0 p2=44.75\n",
      "in loop 980 p2=44.75 805500.0 p1=39.75 pct=-13.11\n",
      "before if 980 p1=39.5 a1=118500.0 a2=804750.0 p2=44.71\n",
      "out loop 980 p2=44.71 804750.0 p1=39.5 pct=-13.11\n",
      "before if 979 p1=39.25 a1=117750.0 a2=804000.0 p2=44.67\n",
      "out loop 979 p2=44.67 804000.0 p1=39.25 pct=-13.11\n",
      "before if 978 p1=39.0 a1=117000.0 a2=803250.0 p2=44.62\n",
      "out loop 978 p2=44.62 803250.0 p1=39.0 pct=-13.11\n",
      "before if 977 p1=38.75 a1=116250.0 a2=802500.0 p2=44.58\n",
      "out loop 977 p2=44.58 802500.0 p1=38.75 pct=-13.11\n",
      "before if 976 p1=38.5 a1=115500.0 a2=801750.0 p2=44.54\n",
      "out loop 976 p2=44.54 801750.0 p1=38.5 pct=-13.11\n",
      "before if 975 p1=38.25 a1=114750.0 a2=801000.0 p2=44.5\n",
      "in loop 975 p2=44.5 801000.0 p1=38.25 pct=-16.39\n",
      "before if 975 p1=38.0 a1=114000.0 a2=800250.0 p2=44.46\n",
      "out loop 975 p2=44.46 800250.0 p1=38.0 pct=-16.39\n",
      "before if 974 p1=37.75 a1=113250.0 a2=799500.0 p2=44.42\n",
      "out loop 974 p2=44.42 799500.0 p1=37.75 pct=-16.39\n",
      "before if 973 p1=37.5 a1=112500.0 a2=798750.0 p2=44.38\n",
      "out loop 973 p2=44.38 798750.0 p1=37.5 pct=-16.39\n",
      "before if 972 p1=37.25 a1=111750.0 a2=798000.0 p2=44.33\n",
      "out loop 972 p2=44.33 798000.0 p1=37.25 pct=-16.39\n",
      "before if 971 p1=37.0 a1=111000.0 a2=797250.0 p2=44.29\n",
      "out loop 971 p2=44.29 797250.0 p1=37.0 pct=-16.39\n",
      "before if 970 p1=36.75 a1=110250.0 a2=796500.0 p2=44.25\n",
      "in loop 970 p2=44.25 796500.0 p1=36.75 pct=-19.67\n",
      "before if 970 p1=36.5 a1=109500.0 a2=795750.0 p2=44.21\n",
      "out loop 970 p2=44.21 795750.0 p1=36.5 pct=-19.67\n",
      "before if 969 p1=36.25 a1=108750.0 a2=795000.0 p2=44.17\n",
      "out loop 969 p2=44.17 795000.0 p1=36.25 pct=-19.67\n",
      "before if 968 p1=36.0 a1=108000.0 a2=794250.0 p2=44.12\n",
      "out loop 968 p2=44.12 794250.0 p1=36.0 pct=-19.67\n",
      "before if 967 p1=35.75 a1=107250.0 a2=793500.0 p2=44.08\n",
      "out loop 967 p2=44.08 793500.0 p1=35.75 pct=-19.67\n",
      "before if 966 p1=35.5 a1=106500.0 a2=792750.0 p2=44.04\n",
      "out loop 966 p2=44.04 792750.0 p1=35.5 pct=-19.67\n",
      "before if 965 p1=35.25 a1=105750.0 a2=792000.0 p2=44.0\n",
      "in loop 965 p2=44.0 792000.0 p1=35.25 pct=-22.95\n",
      "before if 965 p1=35.0 a1=105000.0 a2=791250.0 p2=43.96\n",
      "out loop 965 p2=43.96 791250.0 p1=35.0 pct=-22.95\n",
      "before if 964 p1=34.75 a1=104250.0 a2=790500.0 p2=43.92\n",
      "out loop 964 p2=43.92 790500.0 p1=34.75 pct=-22.95\n",
      "before if 963 p1=34.5 a1=103500.0 a2=789750.0 p2=43.88\n",
      "out loop 963 p2=43.88 789750.0 p1=34.5 pct=-22.95\n",
      "before if 962 p1=34.25 a1=102750.0 a2=789000.0 p2=43.83\n",
      "out loop 962 p2=43.83 789000.0 p1=34.25 pct=-22.95\n",
      "before if 961 p1=34.0 a1=102000.0 a2=788250.0 p2=43.79\n",
      "out loop 961 p2=43.79 788250.0 p1=34.0 pct=-22.95\n",
      "before if 960 p1=33.75 a1=101250.0 a2=787500.0 p2=43.75\n",
      "in loop 960 p2=43.75 787500.0 p1=33.75 pct=-26.23\n",
      "before if 960 p1=33.5 a1=100500.0 a2=786750.0 p2=43.71\n",
      "out loop 960 p2=43.71 786750.0 p1=33.5 pct=-26.23\n",
      "before if 959 p1=33.25 a1=99750.0 a2=786000.0 p2=43.67\n",
      "out loop 959 p2=43.67 786000.0 p1=33.25 pct=-26.23\n",
      "before if 958 p1=33.0 a1=99000.0 a2=785250.0 p2=43.62\n",
      "out loop 958 p2=43.62 785250.0 p1=33.0 pct=-26.23\n",
      "before if 957 p1=32.75 a1=98250.0 a2=784500.0 p2=43.58\n",
      "out loop 957 p2=43.58 784500.0 p1=32.75 pct=-26.23\n",
      "before if 956 p1=32.5 a1=97500.0 a2=783750.0 p2=43.54\n",
      "out loop 956 p2=43.54 783750.0 p1=32.5 pct=-26.23\n",
      "before if 955 p1=32.25 a1=96750.0 a2=783000.0 p2=43.5\n",
      "in loop 955 p2=43.5 783000.0 p1=32.25 pct=-29.51\n",
      "before if 955 p1=32.0 a1=96000.0 a2=782250.0 p2=43.46\n",
      "out loop 955 p2=43.46 782250.0 p1=32.0 pct=-29.51\n",
      "before if 954 p1=31.75 a1=95250.0 a2=781500.0 p2=43.42\n",
      "out loop 954 p2=43.42 781500.0 p1=31.75 pct=-29.51\n",
      "before if 953 p1=31.5 a1=94500.0 a2=780750.0 p2=43.38\n",
      "out loop 953 p2=43.38 780750.0 p1=31.5 pct=-29.51\n",
      "before if 952 p1=31.25 a1=93750.0 a2=780000.0 p2=43.33\n",
      "out loop 952 p2=43.33 780000.0 p1=31.25 pct=-29.51\n",
      "before if 951 p1=31.0 a1=93000.0 a2=779250.0 p2=43.29\n",
      "out loop 951 p2=43.29 779250.0 p1=31.0 pct=-29.51\n",
      "before if 950 p1=30.75 a1=92250.0 a2=778500.0 p2=43.25\n",
      "in loop 950 p2=43.25 778500.0 p1=30.75 pct=-32.79\n",
      "before if 950 p1=30.5 a1=91500.0 a2=777750.0 p2=43.21\n",
      "out loop 950 p2=43.21 777750.0 p1=30.5 pct=-32.79\n",
      "before if 949 p1=30.25 a1=90750.0 a2=777000.0 p2=43.17\n",
      "out loop 949 p2=43.17 777000.0 p1=30.25 pct=-32.79\n",
      "before if 948 p1=30.0 a1=90000.0 a2=776250.0 p2=43.12\n",
      "out loop 948 p2=43.12 776250.0 p1=30.0 pct=-32.79\n",
      "before if 947 p1=29.75 a1=89250.0 a2=775500.0 p2=43.08\n",
      "out loop 947 p2=43.08 775500.0 p1=29.75 pct=-32.79\n",
      "before if 946 p1=29.5 a1=88500.0 a2=774750.0 p2=43.04\n",
      "out loop 946 p2=43.04 774750.0 p1=29.5 pct=-32.79\n",
      "before if 945 p1=29.25 a1=87750.0 a2=774000.0 p2=43.0\n",
      "in loop 945 p2=43.0 774000.0 p1=29.25 pct=-36.07\n",
      "before if 945 p1=29.0 a1=87000.0 a2=773250.0 p2=42.96\n",
      "out loop 945 p2=42.96 773250.0 p1=29.0 pct=-36.07\n",
      "before if 944 p1=28.75 a1=86250.0 a2=772500.0 p2=42.92\n",
      "out loop 944 p2=42.92 772500.0 p1=28.75 pct=-36.07\n",
      "before if 943 p1=28.5 a1=85500.0 a2=771750.0 p2=42.88\n",
      "out loop 943 p2=42.88 771750.0 p1=28.5 pct=-36.07\n",
      "before if 942 p1=28.25 a1=84750.0 a2=771000.0 p2=42.83\n",
      "out loop 942 p2=42.83 771000.0 p1=28.25 pct=-36.07\n",
      "before if 941 p1=28.0 a1=84000.0 a2=770250.0 p2=42.79\n",
      "out loop 941 p2=42.79 770250.0 p1=28.0 pct=-36.07\n",
      "before if 940 p1=27.75 a1=83250.0 a2=769500.0 p2=42.75\n",
      "in loop 940 p2=42.75 769500.0 p1=27.75 pct=-39.34\n",
      "before if 940 p1=27.5 a1=82500.0 a2=768750.0 p2=42.71\n",
      "out loop 940 p2=42.71 768750.0 p1=27.5 pct=-39.34\n",
      "before if 939 p1=27.25 a1=81750.0 a2=768000.0 p2=42.67\n",
      "out loop 939 p2=42.67 768000.0 p1=27.25 pct=-39.34\n",
      "before if 938 p1=27.0 a1=81000.0 a2=767250.0 p2=42.62\n",
      "out loop 938 p2=42.62 767250.0 p1=27.0 pct=-39.34\n",
      "before if 937 p1=26.75 a1=80250.0 a2=766500.0 p2=42.58\n",
      "out loop 937 p2=42.58 766500.0 p1=26.75 pct=-39.34\n",
      "before if 936 p1=26.5 a1=79500.0 a2=765750.0 p2=42.54\n",
      "out loop 936 p2=42.54 765750.0 p1=26.5 pct=-39.34\n",
      "before if 935 p1=26.25 a1=78750.0 a2=765000.0 p2=42.5\n",
      "in loop 935 p2=42.5 765000.0 p1=26.25 pct=-42.62\n",
      "p1=26.25 p2=42.5 pct=-42.62\n"
     ]
    },
    {
     "data": {
      "text/plain": [
       "array([None], dtype=object)"
      ]
     },
     "execution_count": 3,
     "metadata": {},
     "output_type": "execute_result"
    }
   ],
   "source": [
    "my_array = [[15_000,45.75,3000,.25,40]]\n",
    "tmp = (np.apply_along_axis(number_of_spread, axis=1, arr=my_array))\n",
    "tmp"
   ]
  },
  {
   "cell_type": "markdown",
   "metadata": {},
   "source": [
    "##### "
   ]
  },
  {
   "cell_type": "code",
   "execution_count": 4,
   "metadata": {},
   "outputs": [
    {
     "data": {
      "text/plain": [
       "26.25"
      ]
     },
     "execution_count": 4,
     "metadata": {},
     "output_type": "execute_result"
    }
   ],
   "source": [
    "26.25"
   ]
  }
 ],
 "metadata": {
  "anaconda-cloud": {},
  "kernelspec": {
   "display_name": "Python 3 (ipykernel)",
   "language": "python",
   "name": "python3"
  },
  "language_info": {
   "codemirror_mode": {
    "name": "ipython",
    "version": 3
   },
   "file_extension": ".py",
   "mimetype": "text/x-python",
   "name": "python",
   "nbconvert_exporter": "python",
   "pygments_lexer": "ipython3",
   "version": "3.8.11"
  }
 },
 "nbformat": 4,
 "nbformat_minor": 1
}
