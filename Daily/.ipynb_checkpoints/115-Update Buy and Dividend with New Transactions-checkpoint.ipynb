{
 "cells": [
  {
   "cell_type": "code",
   "execution_count": 2,
   "metadata": {},
   "outputs": [
    {
     "data": {
      "text/plain": [
       "datetime.date(2021, 12, 28)"
      ]
     },
     "execution_count": 2,
     "metadata": {},
     "output_type": "execute_result"
    }
   ],
   "source": [
    "import pandas as pd\n",
    "from sqlalchemy import create_engine\n",
    "from datetime import date, timedelta\n",
    "import calendar\n",
    "\n",
    "pd.options.display.max_rows = 30\n",
    "\n",
    "engine = create_engine(\"mysql+pymysql://root:@localhost:3306/stock\")\n",
    "const = engine.connect()\n",
    "\n",
    "format_dict = {'Q4':'{:.4f}','Q3':'{:.4f}','Q2':'{:.4f}','Q1':'{:.4f}','DIVIDEND':'{:.4f}',\n",
    "              'PRICE':'{:.2f}','PERCENT':'{:.2f}%','SHARES':'{:,}'}\n",
    "\n",
    "data_path = \"../data/\"\n",
    "csv_path = \"\\\\Users\\\\User\\\\iCloudDrive\\\\\"\n",
    "box_path = \"\\\\Users\\\\User\\\\Dropbox\\\\\"\n",
    "today = date.today()\n",
    "today"
   ]
  },
  {
   "cell_type": "markdown",
   "metadata": {},
   "source": [
    "### Start of New buy record"
   ]
  },
  {
   "cell_type": "code",
   "execution_count": 5,
   "metadata": {},
   "outputs": [],
   "source": [
    "name = \"IMH\"\n",
    "new_cost = 11\n",
    "new_qty = 9000"
   ]
  },
  {
   "cell_type": "code",
   "execution_count": 9,
   "metadata": {
    "scrolled": false
   },
   "outputs": [
    {
     "data": {
      "text/html": [
       "<div>\n",
       "<style scoped>\n",
       "    .dataframe tbody tr th:only-of-type {\n",
       "        vertical-align: middle;\n",
       "    }\n",
       "\n",
       "    .dataframe tbody tr th {\n",
       "        vertical-align: top;\n",
       "    }\n",
       "\n",
       "    .dataframe thead th {\n",
       "        text-align: right;\n",
       "    }\n",
       "</style>\n",
       "<table border=\"1\" class=\"dataframe\">\n",
       "  <thead>\n",
       "    <tr style=\"text-align: right;\">\n",
       "      <th></th>\n",
       "      <th>date</th>\n",
       "      <th>volume</th>\n",
       "      <th>price</th>\n",
       "      <th>active</th>\n",
       "      <th>dividend</th>\n",
       "      <th>period</th>\n",
       "      <th>grade</th>\n",
       "    </tr>\n",
       "    <tr>\n",
       "      <th>name</th>\n",
       "      <th></th>\n",
       "      <th></th>\n",
       "      <th></th>\n",
       "      <th></th>\n",
       "      <th></th>\n",
       "      <th></th>\n",
       "      <th></th>\n",
       "    </tr>\n",
       "  </thead>\n",
       "  <tbody>\n",
       "    <tr>\n",
       "      <th>IMH</th>\n",
       "      <td>2021-12-08</td>\n",
       "      <td>9000</td>\n",
       "      <td>11.0</td>\n",
       "      <td>1</td>\n",
       "      <td>0.0</td>\n",
       "      <td>3</td>\n",
       "      <td>A3</td>\n",
       "    </tr>\n",
       "  </tbody>\n",
       "</table>\n",
       "</div>"
      ],
      "text/plain": [
       "            date  volume  price  active  dividend period grade\n",
       "name                                                          \n",
       "IMH   2021-12-08    9000   11.0       1       0.0      3    A3"
      ]
     },
     "execution_count": 9,
     "metadata": {},
     "output_type": "execute_result"
    }
   ],
   "source": [
    "sql = \"\"\"\n",
    "SELECT * \n",
    "FROM buy \n",
    "WHERE active = 1 AND name = '%s'\n",
    "ORDER BY name\"\"\"\n",
    "sql = sql % name\n",
    "df = pd.read_sql(sql, const)\n",
    "df.set_index('name', inplace=True)\n",
    "df['volume'] = df.volbuy.astype(int)\n",
    "cols = 'date volume price active dividend period grade'.split()\n",
    "df[cols]"
   ]
  },
  {
   "cell_type": "code",
   "execution_count": 7,
   "metadata": {},
   "outputs": [
    {
     "name": "stdout",
     "output_type": "stream",
     "text": [
      "\n",
      "INSERT INTO buy \n",
      "VALUES('IMH','2021-12-08',9000,11,0,0,1,0,'3','A3')\n",
      "\n"
     ]
    }
   ],
   "source": [
    "sql = \"\"\"\n",
    "INSERT INTO buy \n",
    "VALUES('IMH','2021-12-08',9000,11,0,0,1,0,'3','A3')\n",
    "\"\"\"\n",
    "print(sql)"
   ]
  },
  {
   "cell_type": "code",
   "execution_count": 8,
   "metadata": {},
   "outputs": [
    {
     "data": {
      "text/plain": [
       "1"
      ]
     },
     "execution_count": 8,
     "metadata": {},
     "output_type": "execute_result"
    }
   ],
   "source": [
    "rp = const.execute(sql)\n",
    "rp.rowcount"
   ]
  },
  {
   "cell_type": "markdown",
   "metadata": {},
   "source": [
    "### End of new buy"
   ]
  },
  {
   "cell_type": "markdown",
   "metadata": {},
   "source": [
    "### Start of buy update"
   ]
  },
  {
   "cell_type": "code",
   "execution_count": 3,
   "metadata": {},
   "outputs": [],
   "source": [
    "def update_buy(shares,price,name,period):\n",
    "    sql = \"UPDATE buy SET volbuy = %s, price = %s WHERE name = '%s' AND period = '%s'\"\n",
    "    sql = sql % (shares, price, name, period)\n",
    "    rp = const.execute(sql)\n",
    "    return \"Records updated = \" + str(rp.rowcount)"
   ]
  },
  {
   "cell_type": "code",
   "execution_count": 7,
   "metadata": {},
   "outputs": [
    {
     "data": {
      "text/html": [
       "<div>\n",
       "<style scoped>\n",
       "    .dataframe tbody tr th:only-of-type {\n",
       "        vertical-align: middle;\n",
       "    }\n",
       "\n",
       "    .dataframe tbody tr th {\n",
       "        vertical-align: top;\n",
       "    }\n",
       "\n",
       "    .dataframe thead th {\n",
       "        text-align: right;\n",
       "    }\n",
       "</style>\n",
       "<table border=\"1\" class=\"dataframe\">\n",
       "  <thead>\n",
       "    <tr style=\"text-align: right;\">\n",
       "      <th></th>\n",
       "      <th>date</th>\n",
       "      <th>volume</th>\n",
       "      <th>price</th>\n",
       "      <th>active</th>\n",
       "      <th>dividend</th>\n",
       "      <th>period</th>\n",
       "      <th>grade</th>\n",
       "    </tr>\n",
       "    <tr>\n",
       "      <th>name</th>\n",
       "      <th></th>\n",
       "      <th></th>\n",
       "      <th></th>\n",
       "      <th></th>\n",
       "      <th></th>\n",
       "      <th></th>\n",
       "      <th></th>\n",
       "    </tr>\n",
       "  </thead>\n",
       "  <tbody>\n",
       "    <tr>\n",
       "      <th>RJH</th>\n",
       "      <td>2021-11-09</td>\n",
       "      <td>4500</td>\n",
       "      <td>33.0</td>\n",
       "      <td>1</td>\n",
       "      <td>1.7</td>\n",
       "      <td>3</td>\n",
       "      <td>A3</td>\n",
       "    </tr>\n",
       "  </tbody>\n",
       "</table>\n",
       "</div>"
      ],
      "text/plain": [
       "            date  volume  price  active  dividend period grade\n",
       "name                                                          \n",
       "RJH   2021-11-09    4500   33.0       1       1.7      3    A3"
      ]
     },
     "execution_count": 7,
     "metadata": {},
     "output_type": "execute_result"
    }
   ],
   "source": [
    "name = 'RJH'\n",
    "sql = \"\"\"\n",
    "SELECT * \n",
    "FROM buy \n",
    "WHERE active = 1 AND name = '%s'\n",
    "ORDER BY name\"\"\"\n",
    "sql = sql % name\n",
    "df = pd.read_sql(sql, const)\n",
    "df.set_index('name', inplace=True)\n",
    "df['volume'] = df.volbuy.astype(int)\n",
    "cols = 'date volume price active dividend period grade'.split()\n",
    "df[cols]"
   ]
  },
  {
   "cell_type": "code",
   "execution_count": 5,
   "metadata": {},
   "outputs": [
    {
     "data": {
      "text/plain": [
       "('RJH', 4500, 33, '3')"
      ]
     },
     "execution_count": 5,
     "metadata": {},
     "output_type": "execute_result"
    }
   ],
   "source": [
    "shares = 4500\n",
    "price =  33\n",
    "period = '3'\n",
    "(name, shares, price, period)"
   ]
  },
  {
   "cell_type": "code",
   "execution_count": 6,
   "metadata": {},
   "outputs": [
    {
     "data": {
      "text/plain": [
       "'Records updated = 1'"
      ]
     },
     "execution_count": 6,
     "metadata": {},
     "output_type": "execute_result"
    }
   ],
   "source": [
    "update_buy(shares,price,name,period)"
   ]
  },
  {
   "cell_type": "markdown",
   "metadata": {},
   "source": [
    "### Change grade from quarterly performance"
   ]
  },
  {
   "cell_type": "code",
   "execution_count": 2,
   "metadata": {},
   "outputs": [],
   "source": [
    "def update_buy_grade(grade,period,name):\n",
    "    sql = \"UPDATE buy SET grade = '%s', period = %s WHERE name = '%s' AND active=1\"\n",
    "    sql = sql % (grade, period, name)\n",
    "    rp = const.execute(sql)\n",
    "    return \"Records updated = \" + str(rp.rowcount)"
   ]
  },
  {
   "cell_type": "code",
   "execution_count": 17,
   "metadata": {},
   "outputs": [
    {
     "data": {
      "text/html": [
       "<div>\n",
       "<style scoped>\n",
       "    .dataframe tbody tr th:only-of-type {\n",
       "        vertical-align: middle;\n",
       "    }\n",
       "\n",
       "    .dataframe tbody tr th {\n",
       "        vertical-align: top;\n",
       "    }\n",
       "\n",
       "    .dataframe thead th {\n",
       "        text-align: right;\n",
       "    }\n",
       "</style>\n",
       "<table border=\"1\" class=\"dataframe\">\n",
       "  <thead>\n",
       "    <tr style=\"text-align: right;\">\n",
       "      <th></th>\n",
       "      <th>date</th>\n",
       "      <th>volume</th>\n",
       "      <th>price</th>\n",
       "      <th>active</th>\n",
       "      <th>dividend</th>\n",
       "      <th>period</th>\n",
       "      <th>grade</th>\n",
       "    </tr>\n",
       "  </thead>\n",
       "  <tbody>\n",
       "    <tr>\n",
       "      <th>0</th>\n",
       "      <td>2021-11-08</td>\n",
       "      <td>4500</td>\n",
       "      <td>43.0</td>\n",
       "      <td>1</td>\n",
       "      <td>3.5</td>\n",
       "      <td>3</td>\n",
       "      <td>A4</td>\n",
       "    </tr>\n",
       "  </tbody>\n",
       "</table>\n",
       "</div>"
      ],
      "text/plain": [
       "         date  volume  price  active  dividend period grade\n",
       "0  2021-11-08    4500   43.0       1       3.5      3    A4"
      ]
     },
     "execution_count": 17,
     "metadata": {},
     "output_type": "execute_result"
    }
   ],
   "source": [
    "name = 'RCL'\n",
    "sql = \"\"\"\n",
    "SELECT * \n",
    "FROM buy \n",
    "WHERE name = '%s'\n",
    "\"\"\"\n",
    "sql = sql % name\n",
    "df_tmp = pd.read_sql(sql, const)\n",
    "df_tmp['volume'] = df_tmp.volbuy.astype(int)\n",
    "cols = 'date volume price active dividend period grade'.split()\n",
    "df_tmp[cols]"
   ]
  },
  {
   "cell_type": "code",
   "execution_count": 16,
   "metadata": {},
   "outputs": [
    {
     "data": {
      "text/plain": [
       "'Records updated = 1'"
      ]
     },
     "execution_count": 16,
     "metadata": {},
     "output_type": "execute_result"
    }
   ],
   "source": [
    "grade = 'A4'\n",
    "period = '3'\n",
    "\n",
    "update_buy_grade(grade,period,name)"
   ]
  },
  {
   "cell_type": "markdown",
   "metadata": {},
   "source": [
    "### End of Buy update"
   ]
  },
  {
   "cell_type": "markdown",
   "metadata": {},
   "source": [
    "### When sold out"
   ]
  },
  {
   "cell_type": "code",
   "execution_count": 3,
   "metadata": {},
   "outputs": [
    {
     "name": "stdout",
     "output_type": "stream",
     "text": [
      "\n",
      "DELETE FROM buy \n",
      "WHERE name = \"LH\"\n",
      "AND period = \"1\"\n"
     ]
    }
   ],
   "source": [
    "name = 'LH'\n",
    "sql = '''\n",
    "DELETE FROM buy \n",
    "WHERE name = \"%s\"\n",
    "AND period = \"1\"'''\n",
    "sql = sql % name\n",
    "print(sql)"
   ]
  },
  {
   "cell_type": "code",
   "execution_count": 4,
   "metadata": {},
   "outputs": [
    {
     "data": {
      "text/plain": [
       "1"
      ]
     },
     "execution_count": 4,
     "metadata": {},
     "output_type": "execute_result"
    }
   ],
   "source": [
    "rp = const.execute(sql)\n",
    "rp.rowcount"
   ]
  },
  {
   "cell_type": "markdown",
   "metadata": {},
   "source": [
    "### End of sold out"
   ]
  },
  {
   "cell_type": "code",
   "execution_count": 7,
   "metadata": {},
   "outputs": [
    {
     "data": {
      "text/plain": [
       "date        2020-08-14\n",
       "volume           20000\n",
       "price             8.03\n",
       "active               1\n",
       "dividend        0.6909\n",
       "period               4\n",
       "grade               A1\n",
       "Name: HREIT, dtype: object"
      ]
     },
     "execution_count": 7,
     "metadata": {},
     "output_type": "execute_result"
    }
   ],
   "source": [
    "sql = \"\"\"\n",
    "SELECT * \n",
    "FROM buy \n",
    "WHERE active = 1\n",
    "ORDER BY name\"\"\"\n",
    "df = pd.read_sql(sql, const)\n",
    "df.set_index('name', inplace=True)\n",
    "df['volume'] = df.volbuy.astype(int)\n",
    "cols = 'date volume price active dividend period grade'.split()\n",
    "df[cols].loc['HREIT']"
   ]
  },
  {
   "cell_type": "markdown",
   "metadata": {},
   "source": [
    "### New dividend stock"
   ]
  },
  {
   "cell_type": "code",
   "execution_count": 8,
   "metadata": {},
   "outputs": [],
   "source": [
    "pd.set_option('display.float_format','{:,.6f}'.format)"
   ]
  },
  {
   "cell_type": "code",
   "execution_count": 10,
   "metadata": {},
   "outputs": [
    {
     "data": {
      "text/html": [
       "<div>\n",
       "<style scoped>\n",
       "    .dataframe tbody tr th:only-of-type {\n",
       "        vertical-align: middle;\n",
       "    }\n",
       "\n",
       "    .dataframe tbody tr th {\n",
       "        vertical-align: top;\n",
       "    }\n",
       "\n",
       "    .dataframe thead th {\n",
       "        text-align: right;\n",
       "    }\n",
       "</style>\n",
       "<table border=\"1\" class=\"dataframe\">\n",
       "  <thead>\n",
       "    <tr style=\"text-align: right;\">\n",
       "      <th></th>\n",
       "      <th>NAME</th>\n",
       "      <th>Q4</th>\n",
       "      <th>Q3</th>\n",
       "      <th>Q2</th>\n",
       "      <th>Q1</th>\n",
       "      <th>DIVIDEND</th>\n",
       "      <th>PRICE</th>\n",
       "      <th>PERCENT</th>\n",
       "      <th>SHARES</th>\n",
       "      <th>XDATE</th>\n",
       "      <th>PAIDDATE</th>\n",
       "      <th>KIND</th>\n",
       "      <th>ACTUAL</th>\n",
       "    </tr>\n",
       "  </thead>\n",
       "  <tbody>\n",
       "  </tbody>\n",
       "</table>\n",
       "</div>"
      ],
      "text/plain": [
       "Empty DataFrame\n",
       "Columns: [NAME, Q4, Q3, Q2, Q1, DIVIDEND, PRICE, PERCENT, SHARES, XDATE, PAIDDATE, KIND, ACTUAL]\n",
       "Index: []"
      ]
     },
     "execution_count": 10,
     "metadata": {},
     "output_type": "execute_result"
    }
   ],
   "source": [
    "name = 'IMH'\n",
    "sql = \"\"\"\n",
    "SELECT * \n",
    "FROM DIVIDEND\n",
    "WHERE name = '%s'\n",
    "\"\"\"\n",
    "sql = sql % name\n",
    "df = pd.read_sql(sql, const)\n",
    "df"
   ]
  },
  {
   "cell_type": "code",
   "execution_count": 19,
   "metadata": {},
   "outputs": [
    {
     "data": {
      "text/plain": [
       "1"
      ]
     },
     "execution_count": 19,
     "metadata": {},
     "output_type": "execute_result"
    }
   ],
   "source": [
    "sql = \"\"\"\n",
    "INSERT INTO dividend\n",
    "VALUES('KBANK',2.50,0.00,0.50,0.0,3.00,0,0,000,'2022-04-20','2022-05-07','',0)\n",
    "\"\"\"\n",
    "rp = const.execute(sql)\n",
    "rp.rowcount"
   ]
  },
  {
   "cell_type": "markdown",
   "metadata": {},
   "source": [
    "### Start of Update dividend"
   ]
  },
  {
   "cell_type": "code",
   "execution_count": 8,
   "metadata": {},
   "outputs": [],
   "source": [
    "def update_shares(shares,actual,name):\n",
    "    sql = \"UPDATE dividend SET shares = %s, actual = %s WHERE name = '%s'\"\n",
    "    sql = sql % (shares, actual, name)\n",
    "    rp = const.execute(sql)\n",
    "    return \"Records updated = \" + str(rp.rowcount)"
   ]
  },
  {
   "cell_type": "code",
   "execution_count": 11,
   "metadata": {
    "scrolled": true
   },
   "outputs": [
    {
     "data": {
      "text/html": [
       "<style type=\"text/css\">\n",
       "</style>\n",
       "<table id=\"T_74817_\">\n",
       "  <thead>\n",
       "    <tr>\n",
       "      <th class=\"blank level0\" >&nbsp;</th>\n",
       "      <th class=\"col_heading level0 col0\" >NAME</th>\n",
       "      <th class=\"col_heading level0 col1\" >Q4</th>\n",
       "      <th class=\"col_heading level0 col2\" >Q3</th>\n",
       "      <th class=\"col_heading level0 col3\" >Q2</th>\n",
       "      <th class=\"col_heading level0 col4\" >Q1</th>\n",
       "      <th class=\"col_heading level0 col5\" >DIVIDEND</th>\n",
       "      <th class=\"col_heading level0 col6\" >PRICE</th>\n",
       "      <th class=\"col_heading level0 col7\" >PERCENT</th>\n",
       "      <th class=\"col_heading level0 col8\" >SHARES</th>\n",
       "      <th class=\"col_heading level0 col9\" >XDATE</th>\n",
       "      <th class=\"col_heading level0 col10\" >PAIDDATE</th>\n",
       "      <th class=\"col_heading level0 col11\" >KIND</th>\n",
       "      <th class=\"col_heading level0 col12\" >ACTUAL</th>\n",
       "    </tr>\n",
       "  </thead>\n",
       "  <tbody>\n",
       "    <tr>\n",
       "      <th id=\"T_74817_level0_row0\" class=\"row_heading level0 row0\" >0</th>\n",
       "      <td id=\"T_74817_row0_col0\" class=\"data row0 col0\" >RJH</td>\n",
       "      <td id=\"T_74817_row0_col1\" class=\"data row0 col1\" >0.2000</td>\n",
       "      <td id=\"T_74817_row0_col2\" class=\"data row0 col2\" >1.1000</td>\n",
       "      <td id=\"T_74817_row0_col3\" class=\"data row0 col3\" >0.4000</td>\n",
       "      <td id=\"T_74817_row0_col4\" class=\"data row0 col4\" >0.0000</td>\n",
       "      <td id=\"T_74817_row0_col5\" class=\"data row0 col5\" >1.7000</td>\n",
       "      <td id=\"T_74817_row0_col6\" class=\"data row0 col6\" >0.00</td>\n",
       "      <td id=\"T_74817_row0_col7\" class=\"data row0 col7\" >0.00%</td>\n",
       "      <td id=\"T_74817_row0_col8\" class=\"data row0 col8\" >4,500</td>\n",
       "      <td id=\"T_74817_row0_col9\" class=\"data row0 col9\" >2021-11-22</td>\n",
       "      <td id=\"T_74817_row0_col10\" class=\"data row0 col10\" >2021-12-07</td>\n",
       "      <td id=\"T_74817_row0_col11\" class=\"data row0 col11\" ></td>\n",
       "      <td id=\"T_74817_row0_col12\" class=\"data row0 col12\" >0</td>\n",
       "    </tr>\n",
       "  </tbody>\n",
       "</table>\n"
      ],
      "text/plain": [
       "<pandas.io.formats.style.Styler at 0x1ee881813d0>"
      ]
     },
     "execution_count": 11,
     "metadata": {},
     "output_type": "execute_result"
    }
   ],
   "source": [
    "name = 'RJH'\n",
    "sql = \"\"\"\n",
    "SELECT * \n",
    "FROM DIVIDEND\n",
    "WHERE name = '%s'\n",
    "\"\"\"\n",
    "sql = sql % name\n",
    "df = pd.read_sql(sql, const)\n",
    "df['SHARES'] = df['SHARES'].astype(int)\n",
    "df.style.format(format_dict)"
   ]
  },
  {
   "cell_type": "code",
   "execution_count": 10,
   "metadata": {},
   "outputs": [
    {
     "data": {
      "text/plain": [
       "'Records updated = 1'"
      ]
     },
     "execution_count": 10,
     "metadata": {},
     "output_type": "execute_result"
    }
   ],
   "source": [
    "shares = 4500\n",
    "actual = 0\n",
    "update_shares(shares,actual,name)"
   ]
  },
  {
   "cell_type": "markdown",
   "metadata": {},
   "source": [
    "### Update total dividend from dividend file to buy file"
   ]
  },
  {
   "cell_type": "code",
   "execution_count": 17,
   "metadata": {},
   "outputs": [
    {
     "data": {
      "text/plain": [
       "35"
      ]
     },
     "execution_count": 17,
     "metadata": {},
     "output_type": "execute_result"
    }
   ],
   "source": [
    "sql = '''\n",
    "UPDATE buy B\n",
    "SET dividend =\n",
    "(SELECT DIVIDEND FROM dividend D\n",
    "WHERE B.name = D.name)'''\n",
    "rp = const.execute(sql)\n",
    "rp.rowcount"
   ]
  },
  {
   "cell_type": "markdown",
   "metadata": {},
   "source": [
    "### Delete dividend record"
   ]
  },
  {
   "cell_type": "code",
   "execution_count": 5,
   "metadata": {},
   "outputs": [
    {
     "data": {
      "text/plain": [
       "1"
      ]
     },
     "execution_count": 5,
     "metadata": {},
     "output_type": "execute_result"
    }
   ],
   "source": [
    "sql = '''\n",
    "DELETE FROM dividend\n",
    "WHERE name IN (\"LH\")\n",
    "'''\n",
    "rp = const.execute(sql)\n",
    "rp.rowcount"
   ]
  },
  {
   "cell_type": "markdown",
   "metadata": {},
   "source": [
    "### End of Delete dividend record"
   ]
  },
  {
   "cell_type": "markdown",
   "metadata": {},
   "source": [
    "### Calculate dividend amt by quarter"
   ]
  },
  {
   "cell_type": "code",
   "execution_count": 6,
   "metadata": {},
   "outputs": [
    {
     "data": {
      "text/html": [
       "<div>\n",
       "<style scoped>\n",
       "    .dataframe tbody tr th:only-of-type {\n",
       "        vertical-align: middle;\n",
       "    }\n",
       "\n",
       "    .dataframe tbody tr th {\n",
       "        vertical-align: top;\n",
       "    }\n",
       "\n",
       "    .dataframe thead th {\n",
       "        text-align: right;\n",
       "    }\n",
       "</style>\n",
       "<table border=\"1\" class=\"dataframe\">\n",
       "  <thead>\n",
       "    <tr style=\"text-align: right;\">\n",
       "      <th></th>\n",
       "      <th>xd_date</th>\n",
       "      <th>pay_date</th>\n",
       "      <th>qtr</th>\n",
       "      <th>shares</th>\n",
       "      <th>dividend</th>\n",
       "    </tr>\n",
       "    <tr>\n",
       "      <th>name</th>\n",
       "      <th></th>\n",
       "      <th></th>\n",
       "      <th></th>\n",
       "      <th></th>\n",
       "      <th></th>\n",
       "    </tr>\n",
       "  </thead>\n",
       "  <tbody>\n",
       "    <tr>\n",
       "      <th>JASIF</th>\n",
       "      <td>2021-11-18</td>\n",
       "      <td>2021-12-04</td>\n",
       "      <td>0.2400</td>\n",
       "      <td>120000.0</td>\n",
       "      <td>30000.0</td>\n",
       "    </tr>\n",
       "    <tr>\n",
       "      <th>MCS</th>\n",
       "      <td>2021-11-21</td>\n",
       "      <td>2021-12-04</td>\n",
       "      <td>0.0000</td>\n",
       "      <td>70000.0</td>\n",
       "      <td>17500.0</td>\n",
       "    </tr>\n",
       "    <tr>\n",
       "      <th>DIF</th>\n",
       "      <td>2021-11-11</td>\n",
       "      <td>2021-12-04</td>\n",
       "      <td>0.2610</td>\n",
       "      <td>60000.0</td>\n",
       "      <td>15660.0</td>\n",
       "    </tr>\n",
       "    <tr>\n",
       "      <th>STA</th>\n",
       "      <td>2021-11-26</td>\n",
       "      <td>2021-12-09</td>\n",
       "      <td>1.0000</td>\n",
       "      <td>12500.0</td>\n",
       "      <td>6250.0</td>\n",
       "    </tr>\n",
       "    <tr>\n",
       "      <th>CPNCG</th>\n",
       "      <td>2021-11-16</td>\n",
       "      <td>2021-12-03</td>\n",
       "      <td>0.2515</td>\n",
       "      <td>20000.0</td>\n",
       "      <td>5030.0</td>\n",
       "    </tr>\n",
       "    <tr>\n",
       "      <th>IVL</th>\n",
       "      <td>2021-11-23</td>\n",
       "      <td>2021-12-09</td>\n",
       "      <td>0.1750</td>\n",
       "      <td>21000.0</td>\n",
       "      <td>3675.0</td>\n",
       "    </tr>\n",
       "    <tr>\n",
       "      <th>BKI</th>\n",
       "      <td>2021-11-26</td>\n",
       "      <td>2021-12-09</td>\n",
       "      <td>3.5000</td>\n",
       "      <td>1000.0</td>\n",
       "      <td>3000.0</td>\n",
       "    </tr>\n",
       "    <tr>\n",
       "      <th>DCC</th>\n",
       "      <td>2021-11-17</td>\n",
       "      <td>2021-11-30</td>\n",
       "      <td>0.0500</td>\n",
       "      <td>40000.0</td>\n",
       "      <td>1800.0</td>\n",
       "    </tr>\n",
       "  </tbody>\n",
       "</table>\n",
       "</div>"
      ],
      "text/plain": [
       "          xd_date    pay_date     qtr    shares  dividend\n",
       "name                                                     \n",
       "JASIF  2021-11-18  2021-12-04  0.2400  120000.0   30000.0\n",
       "MCS    2021-11-21  2021-12-04  0.0000   70000.0   17500.0\n",
       "DIF    2021-11-11  2021-12-04  0.2610   60000.0   15660.0\n",
       "STA    2021-11-26  2021-12-09  1.0000   12500.0    6250.0\n",
       "CPNCG  2021-11-16  2021-12-03  0.2515   20000.0    5030.0\n",
       "IVL    2021-11-23  2021-12-09  0.1750   21000.0    3675.0\n",
       "BKI    2021-11-26  2021-12-09  3.5000    1000.0    3000.0\n",
       "DCC    2021-11-17  2021-11-30  0.0500   40000.0    1800.0"
      ]
     },
     "execution_count": 6,
     "metadata": {},
     "output_type": "execute_result"
    }
   ],
   "source": [
    "sql = \"\"\"\n",
    "SELECT NAME AS name, xdate as xd_date, paiddate AS pay_date, Q1 AS qtr,\n",
    "SHARES AS shares, Q3*SHARES AS dividend\n",
    "FROM dividend\n",
    "WHERE q3 > 0 AND shares > 0\n",
    "ORDER BY name\"\"\"\n",
    "df_div = pd.read_sql(sql, const)\n",
    "df_div.set_index('name', inplace=True)\n",
    "df_div.sort_values(['dividend'],ascending=[False])"
   ]
  },
  {
   "cell_type": "code",
   "execution_count": 7,
   "metadata": {},
   "outputs": [
    {
     "data": {
      "text/plain": [
       "82915.0"
      ]
     },
     "execution_count": 7,
     "metadata": {},
     "output_type": "execute_result"
    }
   ],
   "source": [
    "df_div.dividend.sum()"
   ]
  },
  {
   "cell_type": "code",
   "execution_count": 8,
   "metadata": {},
   "outputs": [
    {
     "data": {
      "text/plain": [
       "name          object\n",
       "shares         int32\n",
       "unit_cost    float64\n",
       "cost         float64\n",
       "dtype: object"
      ]
     },
     "execution_count": 8,
     "metadata": {},
     "output_type": "execute_result"
    }
   ],
   "source": [
    "sql = '''\n",
    "SELECT name, volbuy AS shares, price AS unit_cost, volbuy * price AS cost \n",
    "FROM buy'''\n",
    "df_buy = pd.read_sql(sql, const)\n",
    "df_buy['shares'] = df_buy.shares.astype(int)\n",
    "df_buy.dtypes"
   ]
  },
  {
   "cell_type": "code",
   "execution_count": 9,
   "metadata": {},
   "outputs": [
    {
     "data": {
      "text/html": [
       "<div>\n",
       "<style scoped>\n",
       "    .dataframe tbody tr th:only-of-type {\n",
       "        vertical-align: middle;\n",
       "    }\n",
       "\n",
       "    .dataframe tbody tr th {\n",
       "        vertical-align: top;\n",
       "    }\n",
       "\n",
       "    .dataframe thead th {\n",
       "        text-align: right;\n",
       "    }\n",
       "</style>\n",
       "<table border=\"1\" class=\"dataframe\">\n",
       "  <thead>\n",
       "    <tr style=\"text-align: right;\">\n",
       "      <th></th>\n",
       "      <th>name</th>\n",
       "      <th>shares_x</th>\n",
       "      <th>unit_cost</th>\n",
       "      <th>cost</th>\n",
       "      <th>xd_date</th>\n",
       "      <th>pay_date</th>\n",
       "      <th>qtr</th>\n",
       "      <th>shares_y</th>\n",
       "      <th>dividend</th>\n",
       "      <th>pct</th>\n",
       "    </tr>\n",
       "  </thead>\n",
       "  <tbody>\n",
       "    <tr>\n",
       "      <th>6</th>\n",
       "      <td>JASIF</td>\n",
       "      <td>10000</td>\n",
       "      <td>10.00</td>\n",
       "      <td>100000.0</td>\n",
       "      <td>2021-11-18</td>\n",
       "      <td>2021-12-04</td>\n",
       "      <td>0.2400</td>\n",
       "      <td>120000.0</td>\n",
       "      <td>30000.0</td>\n",
       "      <td>30.000000</td>\n",
       "    </tr>\n",
       "    <tr>\n",
       "      <th>2</th>\n",
       "      <td>IVL</td>\n",
       "      <td>3000</td>\n",
       "      <td>42.00</td>\n",
       "      <td>126000.0</td>\n",
       "      <td>2021-11-23</td>\n",
       "      <td>2021-12-09</td>\n",
       "      <td>0.1750</td>\n",
       "      <td>21000.0</td>\n",
       "      <td>3675.0</td>\n",
       "      <td>2.916667</td>\n",
       "    </tr>\n",
       "    <tr>\n",
       "      <th>5</th>\n",
       "      <td>JASIF</td>\n",
       "      <td>110000</td>\n",
       "      <td>10.00</td>\n",
       "      <td>1100000.0</td>\n",
       "      <td>2021-11-18</td>\n",
       "      <td>2021-12-04</td>\n",
       "      <td>0.2400</td>\n",
       "      <td>120000.0</td>\n",
       "      <td>30000.0</td>\n",
       "      <td>2.727273</td>\n",
       "    </tr>\n",
       "    <tr>\n",
       "      <th>8</th>\n",
       "      <td>CPNCG</td>\n",
       "      <td>20000</td>\n",
       "      <td>10.85</td>\n",
       "      <td>217000.0</td>\n",
       "      <td>2021-11-16</td>\n",
       "      <td>2021-12-03</td>\n",
       "      <td>0.2515</td>\n",
       "      <td>20000.0</td>\n",
       "      <td>5030.0</td>\n",
       "      <td>2.317972</td>\n",
       "    </tr>\n",
       "    <tr>\n",
       "      <th>4</th>\n",
       "      <td>DIF</td>\n",
       "      <td>60000</td>\n",
       "      <td>14.70</td>\n",
       "      <td>882000.0</td>\n",
       "      <td>2021-11-11</td>\n",
       "      <td>2021-12-04</td>\n",
       "      <td>0.2610</td>\n",
       "      <td>60000.0</td>\n",
       "      <td>15660.0</td>\n",
       "      <td>1.775510</td>\n",
       "    </tr>\n",
       "    <tr>\n",
       "      <th>9</th>\n",
       "      <td>DCC</td>\n",
       "      <td>40000</td>\n",
       "      <td>2.90</td>\n",
       "      <td>116000.0</td>\n",
       "      <td>2021-11-17</td>\n",
       "      <td>2021-11-30</td>\n",
       "      <td>0.0500</td>\n",
       "      <td>40000.0</td>\n",
       "      <td>1800.0</td>\n",
       "      <td>1.551724</td>\n",
       "    </tr>\n",
       "    <tr>\n",
       "      <th>3</th>\n",
       "      <td>MCS</td>\n",
       "      <td>70000</td>\n",
       "      <td>16.70</td>\n",
       "      <td>1169000.0</td>\n",
       "      <td>2021-11-21</td>\n",
       "      <td>2021-12-04</td>\n",
       "      <td>0.0000</td>\n",
       "      <td>70000.0</td>\n",
       "      <td>17500.0</td>\n",
       "      <td>1.497006</td>\n",
       "    </tr>\n",
       "    <tr>\n",
       "      <th>0</th>\n",
       "      <td>STA</td>\n",
       "      <td>12500</td>\n",
       "      <td>37.25</td>\n",
       "      <td>465625.0</td>\n",
       "      <td>2021-11-26</td>\n",
       "      <td>2021-12-09</td>\n",
       "      <td>1.0000</td>\n",
       "      <td>12500.0</td>\n",
       "      <td>6250.0</td>\n",
       "      <td>1.342282</td>\n",
       "    </tr>\n",
       "    <tr>\n",
       "      <th>7</th>\n",
       "      <td>BKI</td>\n",
       "      <td>1000</td>\n",
       "      <td>276.00</td>\n",
       "      <td>276000.0</td>\n",
       "      <td>2021-11-26</td>\n",
       "      <td>2021-12-09</td>\n",
       "      <td>3.5000</td>\n",
       "      <td>1000.0</td>\n",
       "      <td>3000.0</td>\n",
       "      <td>1.086957</td>\n",
       "    </tr>\n",
       "    <tr>\n",
       "      <th>1</th>\n",
       "      <td>IVL</td>\n",
       "      <td>18000</td>\n",
       "      <td>42.00</td>\n",
       "      <td>756000.0</td>\n",
       "      <td>2021-11-23</td>\n",
       "      <td>2021-12-09</td>\n",
       "      <td>0.1750</td>\n",
       "      <td>21000.0</td>\n",
       "      <td>3675.0</td>\n",
       "      <td>0.486111</td>\n",
       "    </tr>\n",
       "  </tbody>\n",
       "</table>\n",
       "</div>"
      ],
      "text/plain": [
       "    name  shares_x  unit_cost       cost     xd_date    pay_date     qtr  \\\n",
       "6  JASIF     10000      10.00   100000.0  2021-11-18  2021-12-04  0.2400   \n",
       "2    IVL      3000      42.00   126000.0  2021-11-23  2021-12-09  0.1750   \n",
       "5  JASIF    110000      10.00  1100000.0  2021-11-18  2021-12-04  0.2400   \n",
       "8  CPNCG     20000      10.85   217000.0  2021-11-16  2021-12-03  0.2515   \n",
       "4    DIF     60000      14.70   882000.0  2021-11-11  2021-12-04  0.2610   \n",
       "9    DCC     40000       2.90   116000.0  2021-11-17  2021-11-30  0.0500   \n",
       "3    MCS     70000      16.70  1169000.0  2021-11-21  2021-12-04  0.0000   \n",
       "0    STA     12500      37.25   465625.0  2021-11-26  2021-12-09  1.0000   \n",
       "7    BKI      1000     276.00   276000.0  2021-11-26  2021-12-09  3.5000   \n",
       "1    IVL     18000      42.00   756000.0  2021-11-23  2021-12-09  0.1750   \n",
       "\n",
       "   shares_y  dividend        pct  \n",
       "6  120000.0   30000.0  30.000000  \n",
       "2   21000.0    3675.0   2.916667  \n",
       "5  120000.0   30000.0   2.727273  \n",
       "8   20000.0    5030.0   2.317972  \n",
       "4   60000.0   15660.0   1.775510  \n",
       "9   40000.0    1800.0   1.551724  \n",
       "3   70000.0   17500.0   1.497006  \n",
       "0   12500.0    6250.0   1.342282  \n",
       "7    1000.0    3000.0   1.086957  \n",
       "1   21000.0    3675.0   0.486111  "
      ]
     },
     "execution_count": 9,
     "metadata": {},
     "output_type": "execute_result"
    }
   ],
   "source": [
    "df_merge = pd.merge(df_buy, df_div, on='name', how='inner')\n",
    "df_merge['pct'] = df_merge['dividend'] / df_merge['cost'] * 100\n",
    "df_merge.sort_values(by=['pct','name'],ascending=[False,True])"
   ]
  },
  {
   "cell_type": "code",
   "execution_count": 10,
   "metadata": {},
   "outputs": [
    {
     "data": {
      "text/plain": [
       "116590.0"
      ]
     },
     "execution_count": 10,
     "metadata": {},
     "output_type": "execute_result"
    }
   ],
   "source": [
    "df_merge.dividend.sum()"
   ]
  },
  {
   "cell_type": "code",
   "execution_count": 11,
   "metadata": {},
   "outputs": [],
   "source": [
    "file_name = 'div-21q3.csv'\n",
    "data_file = data_path + file_name\n",
    "output_file = csv_path + file_name\n",
    "df_merge.reset_index\n",
    "df_merge.sort_values(by=['xd_date','name'],ascending=[True,True]).to_csv(output_file)\n",
    "df_merge.sort_values(by=['xd_date','name'],ascending=[True,True]).to_csv(data_file)"
   ]
  },
  {
   "cell_type": "markdown",
   "metadata": {},
   "source": [
    "### Past 2 weeks price, max, min to determine selling, buying prices"
   ]
  },
  {
   "cell_type": "code",
   "execution_count": 51,
   "metadata": {},
   "outputs": [
    {
     "data": {
      "text/plain": [
       "'GVREIT'"
      ]
     },
     "execution_count": 51,
     "metadata": {},
     "output_type": "execute_result"
    }
   ],
   "source": [
    "name = 'GVREIT'\n",
    "name"
   ]
  },
  {
   "cell_type": "code",
   "execution_count": 52,
   "metadata": {},
   "outputs": [
    {
     "name": "stdout",
     "output_type": "stream",
     "text": [
      "\n",
      "SELECT *\n",
      "FROM price\n",
      "WHERE name = 'GVREIT'\n",
      "ORDER BY date ASC\n"
     ]
    }
   ],
   "source": [
    "sql = \"\"\"\n",
    "SELECT *\n",
    "FROM price\n",
    "WHERE name = '%s'\n",
    "ORDER BY date ASC\"\"\"\n",
    "sql = sql % name\n",
    "print(sql)"
   ]
  },
  {
   "cell_type": "code",
   "execution_count": 53,
   "metadata": {},
   "outputs": [
    {
     "data": {
      "text/plain": [
       "(1299, 7)"
      ]
     },
     "execution_count": 53,
     "metadata": {},
     "output_type": "execute_result"
    }
   ],
   "source": [
    "df_price = pd.read_sql(sql, const)\n",
    "df_price.shape"
   ]
  },
  {
   "cell_type": "code",
   "execution_count": 54,
   "metadata": {
    "scrolled": true
   },
   "outputs": [
    {
     "data": {
      "text/html": [
       "<div>\n",
       "<style scoped>\n",
       "    .dataframe tbody tr th:only-of-type {\n",
       "        vertical-align: middle;\n",
       "    }\n",
       "\n",
       "    .dataframe tbody tr th {\n",
       "        vertical-align: top;\n",
       "    }\n",
       "\n",
       "    .dataframe thead th {\n",
       "        text-align: right;\n",
       "    }\n",
       "</style>\n",
       "<table border=\"1\" class=\"dataframe\">\n",
       "  <thead>\n",
       "    <tr style=\"text-align: right;\">\n",
       "      <th></th>\n",
       "      <th>name</th>\n",
       "      <th>date</th>\n",
       "      <th>price</th>\n",
       "      <th>maxp</th>\n",
       "      <th>minp</th>\n",
       "      <th>qty</th>\n",
       "      <th>opnp</th>\n",
       "    </tr>\n",
       "  </thead>\n",
       "  <tbody>\n",
       "    <tr>\n",
       "      <th>1289</th>\n",
       "      <td>GVREIT</td>\n",
       "      <td>2021-09-27</td>\n",
       "      <td>10.3</td>\n",
       "      <td>10.3</td>\n",
       "      <td>10.2</td>\n",
       "      <td>192900</td>\n",
       "      <td>10.3</td>\n",
       "    </tr>\n",
       "    <tr>\n",
       "      <th>1290</th>\n",
       "      <td>GVREIT</td>\n",
       "      <td>2021-09-28</td>\n",
       "      <td>10.2</td>\n",
       "      <td>10.3</td>\n",
       "      <td>10.2</td>\n",
       "      <td>206003</td>\n",
       "      <td>10.2</td>\n",
       "    </tr>\n",
       "    <tr>\n",
       "      <th>1291</th>\n",
       "      <td>GVREIT</td>\n",
       "      <td>2021-09-29</td>\n",
       "      <td>10.2</td>\n",
       "      <td>10.3</td>\n",
       "      <td>10.2</td>\n",
       "      <td>16900</td>\n",
       "      <td>10.2</td>\n",
       "    </tr>\n",
       "    <tr>\n",
       "      <th>1292</th>\n",
       "      <td>GVREIT</td>\n",
       "      <td>2021-09-30</td>\n",
       "      <td>10.3</td>\n",
       "      <td>10.3</td>\n",
       "      <td>10.2</td>\n",
       "      <td>78600</td>\n",
       "      <td>10.2</td>\n",
       "    </tr>\n",
       "    <tr>\n",
       "      <th>1293</th>\n",
       "      <td>GVREIT</td>\n",
       "      <td>2021-10-01</td>\n",
       "      <td>10.4</td>\n",
       "      <td>10.4</td>\n",
       "      <td>10.2</td>\n",
       "      <td>25800</td>\n",
       "      <td>10.3</td>\n",
       "    </tr>\n",
       "    <tr>\n",
       "      <th>1294</th>\n",
       "      <td>GVREIT</td>\n",
       "      <td>2021-10-04</td>\n",
       "      <td>10.3</td>\n",
       "      <td>10.3</td>\n",
       "      <td>10.3</td>\n",
       "      <td>1110800</td>\n",
       "      <td>10.3</td>\n",
       "    </tr>\n",
       "    <tr>\n",
       "      <th>1295</th>\n",
       "      <td>GVREIT</td>\n",
       "      <td>2021-10-05</td>\n",
       "      <td>10.4</td>\n",
       "      <td>10.4</td>\n",
       "      <td>10.3</td>\n",
       "      <td>202200</td>\n",
       "      <td>10.3</td>\n",
       "    </tr>\n",
       "    <tr>\n",
       "      <th>1296</th>\n",
       "      <td>GVREIT</td>\n",
       "      <td>2021-10-06</td>\n",
       "      <td>10.6</td>\n",
       "      <td>10.6</td>\n",
       "      <td>10.4</td>\n",
       "      <td>68502</td>\n",
       "      <td>10.4</td>\n",
       "    </tr>\n",
       "    <tr>\n",
       "      <th>1297</th>\n",
       "      <td>GVREIT</td>\n",
       "      <td>2021-10-07</td>\n",
       "      <td>10.7</td>\n",
       "      <td>10.8</td>\n",
       "      <td>10.6</td>\n",
       "      <td>233107</td>\n",
       "      <td>10.6</td>\n",
       "    </tr>\n",
       "    <tr>\n",
       "      <th>1298</th>\n",
       "      <td>GVREIT</td>\n",
       "      <td>2021-10-08</td>\n",
       "      <td>10.7</td>\n",
       "      <td>10.7</td>\n",
       "      <td>10.6</td>\n",
       "      <td>13322</td>\n",
       "      <td>10.6</td>\n",
       "    </tr>\n",
       "  </tbody>\n",
       "</table>\n",
       "</div>"
      ],
      "text/plain": [
       "        name        date  price  maxp  minp      qty  opnp\n",
       "1289  GVREIT  2021-09-27   10.3  10.3  10.2   192900  10.3\n",
       "1290  GVREIT  2021-09-28   10.2  10.3  10.2   206003  10.2\n",
       "1291  GVREIT  2021-09-29   10.2  10.3  10.2    16900  10.2\n",
       "1292  GVREIT  2021-09-30   10.3  10.3  10.2    78600  10.2\n",
       "1293  GVREIT  2021-10-01   10.4  10.4  10.2    25800  10.3\n",
       "1294  GVREIT  2021-10-04   10.3  10.3  10.3  1110800  10.3\n",
       "1295  GVREIT  2021-10-05   10.4  10.4  10.3   202200  10.3\n",
       "1296  GVREIT  2021-10-06   10.6  10.6  10.4    68502  10.4\n",
       "1297  GVREIT  2021-10-07   10.7  10.8  10.6   233107  10.6\n",
       "1298  GVREIT  2021-10-08   10.7  10.7  10.6    13322  10.6"
      ]
     },
     "execution_count": 54,
     "metadata": {},
     "output_type": "execute_result"
    }
   ],
   "source": [
    "df_tmp = df_price.tail(10)\n",
    "df_tmp"
   ]
  },
  {
   "cell_type": "code",
   "execution_count": 55,
   "metadata": {},
   "outputs": [
    {
     "data": {
      "text/plain": [
       "10.3    5\n",
       "10.4    2\n",
       "10.6    1\n",
       "10.8    1\n",
       "10.7    1\n",
       "Name: maxp, dtype: int64"
      ]
     },
     "execution_count": 55,
     "metadata": {},
     "output_type": "execute_result"
    }
   ],
   "source": [
    "df_tmp.maxp.value_counts()"
   ]
  },
  {
   "cell_type": "code",
   "execution_count": 56,
   "metadata": {},
   "outputs": [
    {
     "data": {
      "text/plain": [
       "10.2    5\n",
       "10.3    2\n",
       "10.6    2\n",
       "10.4    1\n",
       "Name: minp, dtype: int64"
      ]
     },
     "execution_count": 56,
     "metadata": {},
     "output_type": "execute_result"
    }
   ],
   "source": [
    "df_tmp.minp.value_counts()"
   ]
  },
  {
   "cell_type": "code",
   "execution_count": 57,
   "metadata": {},
   "outputs": [
    {
     "data": {
      "text/plain": [
       "(10.8, 10.2)"
      ]
     },
     "execution_count": 57,
     "metadata": {},
     "output_type": "execute_result"
    }
   ],
   "source": [
    "df_tmp.maxp.max(),df_tmp.minp.min()"
   ]
  },
  {
   "cell_type": "markdown",
   "metadata": {},
   "source": [
    "### Change purchase date"
   ]
  },
  {
   "cell_type": "code",
   "execution_count": 4,
   "metadata": {},
   "outputs": [
    {
     "data": {
      "text/plain": [
       "1"
      ]
     },
     "execution_count": 4,
     "metadata": {},
     "output_type": "execute_result"
    }
   ],
   "source": [
    "sql = \"UPDATE buy SET date = '2021-05-10' WHERE name = 'LH' AND active=1\"\n",
    "rp = const.execute(sql)\n",
    "rp.rowcount"
   ]
  },
  {
   "cell_type": "code",
   "execution_count": null,
   "metadata": {},
   "outputs": [],
   "source": []
  }
 ],
 "metadata": {
  "anaconda-cloud": {},
  "kernelspec": {
   "display_name": "Python 3 (ipykernel)",
   "language": "python",
   "name": "python3"
  },
  "language_info": {
   "codemirror_mode": {
    "name": "ipython",
    "version": 3
   },
   "file_extension": ".py",
   "mimetype": "text/x-python",
   "name": "python",
   "nbconvert_exporter": "python",
   "pygments_lexer": "ipython3",
   "version": "3.8.11"
  }
 },
 "nbformat": 4,
 "nbformat_minor": 1
}
