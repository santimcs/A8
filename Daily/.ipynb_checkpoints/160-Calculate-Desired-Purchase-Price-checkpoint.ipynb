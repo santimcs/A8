{
 "cells": [
  {
   "cell_type": "code",
   "execution_count": 1,
   "metadata": {},
   "outputs": [
    {
     "data": {
      "text/plain": [
       "(datetime.date(2022, 1, 6), datetime.date(2022, 1, 5))"
      ]
     },
     "execution_count": 1,
     "metadata": {},
     "output_type": "execute_result"
    }
   ],
   "source": [
    "import calendar\n",
    "import pandas as pd\n",
    "import numpy as np\n",
    "from datetime import date, timedelta\n",
    "from math import ceil, floor, trunc\n",
    "\n",
    "today = date.today()\n",
    "yesterday = today - timedelta(days=1)\n",
    "today, yesterday"
   ]
  },
  {
   "cell_type": "code",
   "execution_count": 2,
   "metadata": {},
   "outputs": [],
   "source": [
    "def number_of_spread(x):\n",
    "    q0 = x[0]   #old qty\n",
    "    p0 = x[1]   #old unit \n",
    "    old_unit_cost = x[1]\n",
    "    q1 = x[2]   #purchase qty\n",
    "    d1 = x[3]  #spread according to price range\n",
    "    c0 = x[4]  #desired down percent to adjust purchase price\n",
    "\n",
    "    a0 = q0 * p0 # amount\n",
    "    \n",
    "    i = 1000\n",
    "    pct = 0\n",
    "    pt = 0\n",
    "    dt = 0\n",
    "    p2 = 0\n",
    "    while i > 0:\n",
    "        p1 = p0 - d1  #simulated purchase price\n",
    "        p0 = p1\n",
    "        a1 = q1 * p1  #new purchase amt\n",
    "        q2 = q0 + q1  #new total qty\n",
    "        a2 = a0 + a1  #new cost amt\n",
    "        p2 = a2 / q2  #new unit cost\n",
    "\n",
    "        pt = round(p2 * 100,2)  #simulated purchase price multiply 100  \n",
    "        dt = d1 * 100           #spread according to price range multiply 100\n",
    "        \n",
    "        print('before if',i,'p1='+str(round(p1,2)),'a1='+str(round(a1,2)),'a2='+str(round(a2,2)),'p2='+str(round(p2,2)))\n",
    "        \n",
    "        if (pt % dt) == 0:\n",
    "            pct = (p1 - old_unit_cost)/old_unit_cost * 100\n",
    "            print ('in loop' ,i,'p2='+str(round(p2,2)),a2,'p1='+str(round(p1,2)),'pct='+str(round(pct,2)))\n",
    "            if abs(pct) < c0:\n",
    "                continue\n",
    "            break\n",
    "            \n",
    "        print ('out loop',i,'p2='+str(round(p2,2)),a2,'p1='+str(round(p1,2)),'pct='+str(round(pct,2)))            \n",
    "        i -= 1     \n",
    "        \n",
    "    return print('p1='+str(round(p1,2)),'p2='+str(round(p2,2)),'pct='+str(round(pct,2)))"
   ]
  },
  {
   "cell_type": "code",
   "execution_count": 5,
   "metadata": {},
   "outputs": [
    {
     "name": "stdout",
     "output_type": "stream",
     "text": [
      "before if 1000 p1=86.75 a1=173500.0 a2=521500.0 p2=86.92\n",
      "out loop 1000 p2=86.92 521500.0 p1=86.75 pct=0\n",
      "before if 999 p1=86.5 a1=173000.0 a2=521000.0 p2=86.83\n",
      "out loop 999 p2=86.83 521000.0 p1=86.5 pct=0\n",
      "before if 998 p1=86.25 a1=172500.0 a2=520500.0 p2=86.75\n",
      "in loop 998 p2=86.75 520500.0 p1=86.25 pct=-0.86\n",
      "before if 998 p1=86.0 a1=172000.0 a2=520000.0 p2=86.67\n",
      "out loop 998 p2=86.67 520000.0 p1=86.0 pct=-0.86\n",
      "before if 997 p1=85.75 a1=171500.0 a2=519500.0 p2=86.58\n",
      "out loop 997 p2=86.58 519500.0 p1=85.75 pct=-0.86\n",
      "before if 996 p1=85.5 a1=171000.0 a2=519000.0 p2=86.5\n",
      "in loop 996 p2=86.5 519000.0 p1=85.5 pct=-1.72\n",
      "before if 996 p1=85.25 a1=170500.0 a2=518500.0 p2=86.42\n",
      "out loop 996 p2=86.42 518500.0 p1=85.25 pct=-1.72\n",
      "before if 995 p1=85.0 a1=170000.0 a2=518000.0 p2=86.33\n",
      "out loop 995 p2=86.33 518000.0 p1=85.0 pct=-1.72\n",
      "before if 994 p1=84.75 a1=169500.0 a2=517500.0 p2=86.25\n",
      "in loop 994 p2=86.25 517500.0 p1=84.75 pct=-2.59\n",
      "before if 994 p1=84.5 a1=169000.0 a2=517000.0 p2=86.17\n",
      "out loop 994 p2=86.17 517000.0 p1=84.5 pct=-2.59\n",
      "before if 993 p1=84.25 a1=168500.0 a2=516500.0 p2=86.08\n",
      "out loop 993 p2=86.08 516500.0 p1=84.25 pct=-2.59\n",
      "before if 992 p1=84.0 a1=168000.0 a2=516000.0 p2=86.0\n",
      "in loop 992 p2=86.0 516000.0 p1=84.0 pct=-3.45\n",
      "before if 992 p1=83.75 a1=167500.0 a2=515500.0 p2=85.92\n",
      "out loop 992 p2=85.92 515500.0 p1=83.75 pct=-3.45\n",
      "before if 991 p1=83.5 a1=167000.0 a2=515000.0 p2=85.83\n",
      "out loop 991 p2=85.83 515000.0 p1=83.5 pct=-3.45\n",
      "before if 990 p1=83.25 a1=166500.0 a2=514500.0 p2=85.75\n",
      "in loop 990 p2=85.75 514500.0 p1=83.25 pct=-4.31\n",
      "before if 990 p1=83.0 a1=166000.0 a2=514000.0 p2=85.67\n",
      "out loop 990 p2=85.67 514000.0 p1=83.0 pct=-4.31\n",
      "before if 989 p1=82.75 a1=165500.0 a2=513500.0 p2=85.58\n",
      "out loop 989 p2=85.58 513500.0 p1=82.75 pct=-4.31\n",
      "before if 988 p1=82.5 a1=165000.0 a2=513000.0 p2=85.5\n",
      "in loop 988 p2=85.5 513000.0 p1=82.5 pct=-5.17\n",
      "p1=82.5 p2=85.5 pct=-5.17\n"
     ]
    },
    {
     "data": {
      "text/plain": [
       "array([None], dtype=object)"
      ]
     },
     "execution_count": 5,
     "metadata": {},
     "output_type": "execute_result"
    }
   ],
   "source": [
    "my_array = [[4000,87,2000,0.25,5]]\n",
    "tmp = (np.apply_along_axis(number_of_spread, axis=1, arr=my_array))\n",
    "tmp"
   ]
  },
  {
   "cell_type": "code",
   "execution_count": null,
   "metadata": {},
   "outputs": [],
   "source": []
  },
  {
   "cell_type": "code",
   "execution_count": null,
   "metadata": {},
   "outputs": [],
   "source": []
  }
 ],
 "metadata": {
  "anaconda-cloud": {},
  "kernelspec": {
   "display_name": "Python 3 (ipykernel)",
   "language": "python",
   "name": "python3"
  },
  "language_info": {
   "codemirror_mode": {
    "name": "ipython",
    "version": 3
   },
   "file_extension": ".py",
   "mimetype": "text/x-python",
   "name": "python",
   "nbconvert_exporter": "python",
   "pygments_lexer": "ipython3",
   "version": "3.8.11"
  }
 },
 "nbformat": 4,
 "nbformat_minor": 1
}
