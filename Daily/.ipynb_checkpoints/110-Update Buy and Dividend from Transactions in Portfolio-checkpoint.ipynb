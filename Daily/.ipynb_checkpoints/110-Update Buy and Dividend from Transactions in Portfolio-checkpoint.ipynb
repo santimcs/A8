{
 "cells": [
  {
   "cell_type": "code",
   "execution_count": 1,
   "metadata": {},
   "outputs": [
    {
     "data": {
      "text/plain": [
       "datetime.date(2021, 12, 30)"
      ]
     },
     "execution_count": 1,
     "metadata": {},
     "output_type": "execute_result"
    }
   ],
   "source": [
    "import pandas as pd\n",
    "from datetime import date, timedelta\n",
    "from sqlalchemy import create_engine\n",
    "\n",
    "engine = create_engine('mysql+pymysql://root:@localhost:3306/portfolio_development')\n",
    "conpf = engine.connect()\n",
    "\n",
    "engine = create_engine(\"mysql+pymysql://root:@localhost:3306/stock\")\n",
    "const = engine.connect()\n",
    "\n",
    "engine = create_engine(\"sqlite:///c:\\\\ruby\\\\port_lite\\\\db\\\\development.sqlite3\")\n",
    "conlite = engine.connect()\n",
    "\n",
    "today = date.today()\n",
    "today"
   ]
  },
  {
   "cell_type": "markdown",
   "metadata": {},
   "source": [
    "### Sell transactions"
   ]
  },
  {
   "cell_type": "code",
   "execution_count": 2,
   "metadata": {},
   "outputs": [
    {
     "data": {
      "text/html": [
       "<div>\n",
       "<style scoped>\n",
       "    .dataframe tbody tr th:only-of-type {\n",
       "        vertical-align: middle;\n",
       "    }\n",
       "\n",
       "    .dataframe tbody tr th {\n",
       "        vertical-align: top;\n",
       "    }\n",
       "\n",
       "    .dataframe thead th {\n",
       "        text-align: right;\n",
       "    }\n",
       "</style>\n",
       "<table border=\"1\" class=\"dataframe\">\n",
       "  <thead>\n",
       "    <tr style=\"text-align: right;\">\n",
       "      <th></th>\n",
       "      <th>id</th>\n",
       "      <th>buy_id</th>\n",
       "      <th>date</th>\n",
       "      <th>price</th>\n",
       "      <th>fee</th>\n",
       "      <th>vat</th>\n",
       "      <th>net</th>\n",
       "      <th>days</th>\n",
       "      <th>profit</th>\n",
       "      <th>percent</th>\n",
       "      <th>yearly</th>\n",
       "      <th>sequence</th>\n",
       "      <th>chart</th>\n",
       "      <th>dividend_id</th>\n",
       "      <th>cost</th>\n",
       "      <th>qty</th>\n",
       "      <th>name</th>\n",
       "    </tr>\n",
       "  </thead>\n",
       "  <tbody>\n",
       "    <tr>\n",
       "      <th>0</th>\n",
       "      <td>892</td>\n",
       "      <td>1087</td>\n",
       "      <td>2021-12-30</td>\n",
       "      <td>12.60</td>\n",
       "      <td>78.25</td>\n",
       "      <td>5.48</td>\n",
       "      <td>37716.27</td>\n",
       "      <td>22</td>\n",
       "      <td>4643.18</td>\n",
       "      <td>14.03915</td>\n",
       "      <td>232.92226</td>\n",
       "      <td>108</td>\n",
       "      <td>None</td>\n",
       "      <td>0</td>\n",
       "      <td>33073.09</td>\n",
       "      <td>3000</td>\n",
       "      <td>IMH</td>\n",
       "    </tr>\n",
       "    <tr>\n",
       "      <th>1</th>\n",
       "      <td>893</td>\n",
       "      <td>855</td>\n",
       "      <td>2021-12-30</td>\n",
       "      <td>58.75</td>\n",
       "      <td>121.61</td>\n",
       "      <td>8.51</td>\n",
       "      <td>58619.88</td>\n",
       "      <td>269</td>\n",
       "      <td>-8277.96</td>\n",
       "      <td>-12.37403</td>\n",
       "      <td>-16.79004</td>\n",
       "      <td>107</td>\n",
       "      <td>None</td>\n",
       "      <td>0</td>\n",
       "      <td>66897.84</td>\n",
       "      <td>1000</td>\n",
       "      <td>PTTGC</td>\n",
       "    </tr>\n",
       "    <tr>\n",
       "      <th>2</th>\n",
       "      <td>894</td>\n",
       "      <td>986</td>\n",
       "      <td>2021-12-30</td>\n",
       "      <td>38.50</td>\n",
       "      <td>358.63</td>\n",
       "      <td>25.10</td>\n",
       "      <td>172866.27</td>\n",
       "      <td>139</td>\n",
       "      <td>3742.51</td>\n",
       "      <td>2.21288</td>\n",
       "      <td>5.81080</td>\n",
       "      <td>106</td>\n",
       "      <td>None</td>\n",
       "      <td>0</td>\n",
       "      <td>169123.76</td>\n",
       "      <td>4500</td>\n",
       "      <td>VNT</td>\n",
       "    </tr>\n",
       "  </tbody>\n",
       "</table>\n",
       "</div>"
      ],
      "text/plain": [
       "    id  buy_id        date  price     fee    vat        net  days   profit  \\\n",
       "0  892    1087  2021-12-30  12.60   78.25   5.48   37716.27    22  4643.18   \n",
       "1  893     855  2021-12-30  58.75  121.61   8.51   58619.88   269 -8277.96   \n",
       "2  894     986  2021-12-30  38.50  358.63  25.10  172866.27   139  3742.51   \n",
       "\n",
       "    percent     yearly  sequence chart  dividend_id       cost   qty   name  \n",
       "0  14.03915  232.92226       108  None            0   33073.09  3000    IMH  \n",
       "1 -12.37403  -16.79004       107  None            0   66897.84  1000  PTTGC  \n",
       "2   2.21288    5.81080       106  None            0  169123.76  4500    VNT  "
      ]
     },
     "execution_count": 2,
     "metadata": {},
     "output_type": "execute_result"
    }
   ],
   "source": [
    "sql = '''\n",
    "SELECT S.* , B.net AS cost, B.qty, T.name\n",
    "FROM sells S\n",
    "JOIN buys B\n",
    "ON buy_id = B.id\n",
    "JOIN stocks T\n",
    "ON B.stock_id = T.id\n",
    "WHERE S.date = '%s'\n",
    "ORDER BY T.name\n",
    "'''\n",
    "sql = sql % today\n",
    "sells = pd.read_sql(sql, conpf)\n",
    "sells"
   ]
  },
  {
   "cell_type": "code",
   "execution_count": 3,
   "metadata": {},
   "outputs": [
    {
     "data": {
      "text/html": [
       "<div>\n",
       "<style scoped>\n",
       "    .dataframe tbody tr th:only-of-type {\n",
       "        vertical-align: middle;\n",
       "    }\n",
       "\n",
       "    .dataframe tbody tr th {\n",
       "        vertical-align: top;\n",
       "    }\n",
       "\n",
       "    .dataframe thead th {\n",
       "        text-align: right;\n",
       "    }\n",
       "</style>\n",
       "<table border=\"1\" class=\"dataframe\">\n",
       "  <thead>\n",
       "    <tr style=\"text-align: right;\">\n",
       "      <th></th>\n",
       "      <th>id</th>\n",
       "      <th>buy_id</th>\n",
       "      <th>date</th>\n",
       "      <th>price</th>\n",
       "      <th>fee</th>\n",
       "      <th>vat</th>\n",
       "      <th>net</th>\n",
       "      <th>days</th>\n",
       "      <th>profit</th>\n",
       "      <th>percent</th>\n",
       "      <th>yearly</th>\n",
       "      <th>sequence</th>\n",
       "      <th>chart</th>\n",
       "      <th>dividend_id</th>\n",
       "      <th>cost</th>\n",
       "      <th>qty</th>\n",
       "      <th>name</th>\n",
       "    </tr>\n",
       "  </thead>\n",
       "  <tbody>\n",
       "    <tr>\n",
       "      <th>0</th>\n",
       "      <td>894</td>\n",
       "      <td>986</td>\n",
       "      <td>2021-12-30</td>\n",
       "      <td>38.5</td>\n",
       "      <td>358.63</td>\n",
       "      <td>25.1</td>\n",
       "      <td>172866.27</td>\n",
       "      <td>139</td>\n",
       "      <td>3742.51</td>\n",
       "      <td>2.21288</td>\n",
       "      <td>5.8108</td>\n",
       "      <td>106</td>\n",
       "      <td>None</td>\n",
       "      <td>0</td>\n",
       "      <td>169123.76</td>\n",
       "      <td>4500</td>\n",
       "      <td>VNT</td>\n",
       "    </tr>\n",
       "  </tbody>\n",
       "</table>\n",
       "</div>"
      ],
      "text/plain": [
       "    id  buy_id        date  price     fee   vat        net  days   profit  \\\n",
       "0  894     986  2021-12-30   38.5  358.63  25.1  172866.27   139  3742.51   \n",
       "\n",
       "   percent  yearly  sequence chart  dividend_id       cost   qty name  \n",
       "0  2.21288  5.8108       106  None            0  169123.76  4500  VNT  "
      ]
     },
     "execution_count": 3,
     "metadata": {},
     "output_type": "execute_result"
    }
   ],
   "source": [
    "sql = '''\n",
    "SELECT S.* , B.net AS cost, B.qty, T.name\n",
    "FROM sells S\n",
    "JOIN buys B\n",
    "ON buy_id = B.id\n",
    "JOIN stocks T\n",
    "ON B.stock_id = T.id\n",
    "WHERE S.date = '%s' AND T.name = \"VNT\"\n",
    "ORDER BY T.name\n",
    "'''\n",
    "sql = sql % today\n",
    "sells = pd.read_sql(sql, conpf)\n",
    "sells"
   ]
  },
  {
   "cell_type": "code",
   "execution_count": 4,
   "metadata": {},
   "outputs": [
    {
     "data": {
      "text/html": [
       "<div>\n",
       "<style scoped>\n",
       "    .dataframe tbody tr th:only-of-type {\n",
       "        vertical-align: middle;\n",
       "    }\n",
       "\n",
       "    .dataframe tbody tr th {\n",
       "        vertical-align: top;\n",
       "    }\n",
       "\n",
       "    .dataframe thead th {\n",
       "        text-align: right;\n",
       "    }\n",
       "</style>\n",
       "<table border=\"1\" class=\"dataframe\">\n",
       "  <thead>\n",
       "    <tr style=\"text-align: right;\">\n",
       "      <th></th>\n",
       "      <th>qty</th>\n",
       "      <th>price</th>\n",
       "      <th>net</th>\n",
       "      <th>cost</th>\n",
       "      <th>profit</th>\n",
       "    </tr>\n",
       "    <tr>\n",
       "      <th>name</th>\n",
       "      <th></th>\n",
       "      <th></th>\n",
       "      <th></th>\n",
       "      <th></th>\n",
       "      <th></th>\n",
       "    </tr>\n",
       "  </thead>\n",
       "  <tbody>\n",
       "    <tr>\n",
       "      <th>VNT</th>\n",
       "      <td>4500</td>\n",
       "      <td>38.5</td>\n",
       "      <td>172866.27</td>\n",
       "      <td>169123.76</td>\n",
       "      <td>3742.51</td>\n",
       "    </tr>\n",
       "  </tbody>\n",
       "</table>\n",
       "</div>"
      ],
      "text/plain": [
       "       qty  price        net       cost   profit\n",
       "name                                            \n",
       "VNT   4500   38.5  172866.27  169123.76  3742.51"
      ]
     },
     "execution_count": 4,
     "metadata": {},
     "output_type": "execute_result"
    }
   ],
   "source": [
    "grouped = sells.groupby('name').agg(\n",
    "{'qty':'sum',\n",
    " 'price':'mean',\n",
    " 'net':'sum',\n",
    " 'cost':'sum',\n",
    " 'profit':'sum'})\n",
    "grouped"
   ]
  },
  {
   "cell_type": "code",
   "execution_count": 5,
   "metadata": {},
   "outputs": [
    {
     "data": {
      "text/plain": [
       "172866.27"
      ]
     },
     "execution_count": 5,
     "metadata": {},
     "output_type": "execute_result"
    }
   ],
   "source": [
    "grouped.net.sum()"
   ]
  },
  {
   "cell_type": "code",
   "execution_count": 6,
   "metadata": {},
   "outputs": [
    {
     "data": {
      "text/plain": [
       "-4500"
      ]
     },
     "execution_count": 6,
     "metadata": {},
     "output_type": "execute_result"
    }
   ],
   "source": [
    "trans_qty = grouped.qty.sum() * -1\n",
    "trans_qty"
   ]
  },
  {
   "cell_type": "code",
   "execution_count": 7,
   "metadata": {},
   "outputs": [
    {
     "data": {
      "text/plain": [
       "\"'VNT'\""
      ]
     },
     "execution_count": 7,
     "metadata": {},
     "output_type": "execute_result"
    }
   ],
   "source": [
    "names = sells['name']\n",
    "in_p = \", \".join(map(lambda name: \"'%s'\" % name, names))\n",
    "in_p"
   ]
  },
  {
   "cell_type": "code",
   "execution_count": 11,
   "metadata": {},
   "outputs": [
    {
     "data": {
      "text/html": [
       "<div>\n",
       "<style scoped>\n",
       "    .dataframe tbody tr th:only-of-type {\n",
       "        vertical-align: middle;\n",
       "    }\n",
       "\n",
       "    .dataframe tbody tr th {\n",
       "        vertical-align: top;\n",
       "    }\n",
       "\n",
       "    .dataframe thead th {\n",
       "        text-align: right;\n",
       "    }\n",
       "</style>\n",
       "<table border=\"1\" class=\"dataframe\">\n",
       "  <thead>\n",
       "    <tr style=\"text-align: right;\">\n",
       "      <th></th>\n",
       "      <th>name</th>\n",
       "      <th>date</th>\n",
       "      <th>volbuy</th>\n",
       "      <th>price</th>\n",
       "      <th>volsell</th>\n",
       "      <th>volbal</th>\n",
       "      <th>active</th>\n",
       "      <th>dividend</th>\n",
       "      <th>period</th>\n",
       "      <th>grade</th>\n",
       "    </tr>\n",
       "  </thead>\n",
       "  <tbody>\n",
       "    <tr>\n",
       "      <th>0</th>\n",
       "      <td>VNT</td>\n",
       "      <td>2021-08-13</td>\n",
       "      <td>0.0</td>\n",
       "      <td>37.5</td>\n",
       "      <td>0.0</td>\n",
       "      <td>0.0</td>\n",
       "      <td>1</td>\n",
       "      <td>0.9</td>\n",
       "      <td>4</td>\n",
       "      <td>A2</td>\n",
       "    </tr>\n",
       "  </tbody>\n",
       "</table>\n",
       "</div>"
      ],
      "text/plain": [
       "  name        date  volbuy  price  volsell  volbal  active  dividend period  \\\n",
       "0  VNT  2021-08-13     0.0   37.5      0.0     0.0       1       0.9      4   \n",
       "\n",
       "  grade  \n",
       "0    A2  "
      ]
     },
     "execution_count": 11,
     "metadata": {},
     "output_type": "execute_result"
    }
   ],
   "source": [
    "sql = \"\"\"\n",
    "SELECT * \n",
    "FROM buy \n",
    "WHERE name IN (%s) \n",
    "ORDER BY name\n",
    "\"\"\"\n",
    "sql = sql % in_p\n",
    "df = pd.read_sql(sql, const)\n",
    "df"
   ]
  },
  {
   "cell_type": "code",
   "execution_count": 9,
   "metadata": {},
   "outputs": [
    {
     "name": "stdout",
     "output_type": "stream",
     "text": [
      "\n",
      "UPDATE buy\n",
      "SET volbuy = volbuy + -4500\n",
      "WHERE name IN ('VNT')\n"
     ]
    }
   ],
   "source": [
    "sqlUpd = '''\n",
    "UPDATE buy\n",
    "SET volbuy = volbuy + %s\n",
    "WHERE name IN (%s)'''\n",
    "sqlUpd = sqlUpd % (trans_qty, in_p)\n",
    "print(sqlUpd)"
   ]
  },
  {
   "cell_type": "code",
   "execution_count": 10,
   "metadata": {},
   "outputs": [
    {
     "data": {
      "text/plain": [
       "1"
      ]
     },
     "execution_count": 10,
     "metadata": {},
     "output_type": "execute_result"
    }
   ],
   "source": [
    "rp = const.execute(sqlUpd)\n",
    "rp.rowcount"
   ]
  },
  {
   "cell_type": "code",
   "execution_count": null,
   "metadata": {},
   "outputs": [],
   "source": []
  },
  {
   "cell_type": "markdown",
   "metadata": {},
   "source": [
    "### Buys transactions"
   ]
  },
  {
   "cell_type": "code",
   "execution_count": 47,
   "metadata": {},
   "outputs": [
    {
     "data": {
      "text/html": [
       "<div>\n",
       "<style scoped>\n",
       "    .dataframe tbody tr th:only-of-type {\n",
       "        vertical-align: middle;\n",
       "    }\n",
       "\n",
       "    .dataframe tbody tr th {\n",
       "        vertical-align: top;\n",
       "    }\n",
       "\n",
       "    .dataframe thead th {\n",
       "        text-align: right;\n",
       "    }\n",
       "</style>\n",
       "<table border=\"1\" class=\"dataframe\">\n",
       "  <thead>\n",
       "    <tr style=\"text-align: right;\">\n",
       "      <th></th>\n",
       "      <th>id</th>\n",
       "      <th>stock_id</th>\n",
       "      <th>date</th>\n",
       "      <th>qty</th>\n",
       "      <th>price</th>\n",
       "      <th>fee</th>\n",
       "      <th>vat</th>\n",
       "      <th>status</th>\n",
       "      <th>net</th>\n",
       "      <th>kind</th>\n",
       "      <th>chart</th>\n",
       "      <th>name</th>\n",
       "    </tr>\n",
       "  </thead>\n",
       "  <tbody>\n",
       "    <tr>\n",
       "      <th>0</th>\n",
       "      <td>1086</td>\n",
       "      <td>96</td>\n",
       "      <td>2021-12-28</td>\n",
       "      <td>3000</td>\n",
       "      <td>45.25</td>\n",
       "      <td>281.0</td>\n",
       "      <td>19.67</td>\n",
       "      <td>Active</td>\n",
       "      <td>136050.67</td>\n",
       "      <td>HD</td>\n",
       "      <td>None</td>\n",
       "      <td>RATCH</td>\n",
       "    </tr>\n",
       "  </tbody>\n",
       "</table>\n",
       "</div>"
      ],
      "text/plain": [
       "     id  stock_id        date   qty  price    fee    vat  status        net  \\\n",
       "0  1086        96  2021-12-28  3000  45.25  281.0  19.67  Active  136050.67   \n",
       "\n",
       "  kind chart   name  \n",
       "0   HD  None  RATCH  "
      ]
     },
     "execution_count": 47,
     "metadata": {},
     "output_type": "execute_result"
    }
   ],
   "source": [
    "sql = '''\n",
    "SELECT B.*, T.name\n",
    "FROM buys B\n",
    "JOIN stocks T\n",
    "ON B.stock_id = T.id\n",
    "WHERE B.date = '%s'\n",
    "ORDER BY T.name\n",
    "'''\n",
    "sql = sql % today\n",
    "buys = pd.read_sql(sql, conpf)\n",
    "buys"
   ]
  },
  {
   "cell_type": "code",
   "execution_count": 48,
   "metadata": {},
   "outputs": [
    {
     "data": {
      "text/html": [
       "<div>\n",
       "<style scoped>\n",
       "    .dataframe tbody tr th:only-of-type {\n",
       "        vertical-align: middle;\n",
       "    }\n",
       "\n",
       "    .dataframe tbody tr th {\n",
       "        vertical-align: top;\n",
       "    }\n",
       "\n",
       "    .dataframe thead th {\n",
       "        text-align: right;\n",
       "    }\n",
       "</style>\n",
       "<table border=\"1\" class=\"dataframe\">\n",
       "  <thead>\n",
       "    <tr style=\"text-align: right;\">\n",
       "      <th></th>\n",
       "      <th>qty</th>\n",
       "      <th>price</th>\n",
       "      <th>net</th>\n",
       "    </tr>\n",
       "    <tr>\n",
       "      <th>name</th>\n",
       "      <th></th>\n",
       "      <th></th>\n",
       "      <th></th>\n",
       "    </tr>\n",
       "  </thead>\n",
       "  <tbody>\n",
       "    <tr>\n",
       "      <th>RATCH</th>\n",
       "      <td>3000</td>\n",
       "      <td>45.25</td>\n",
       "      <td>136050.67</td>\n",
       "    </tr>\n",
       "  </tbody>\n",
       "</table>\n",
       "</div>"
      ],
      "text/plain": [
       "        qty  price        net\n",
       "name                         \n",
       "RATCH  3000  45.25  136050.67"
      ]
     },
     "execution_count": 48,
     "metadata": {},
     "output_type": "execute_result"
    }
   ],
   "source": [
    "grouped = buys.groupby('name').agg(\n",
    "{'qty':'sum',\n",
    " 'price':'mean',\n",
    " 'net':'sum'})\n",
    "grouped"
   ]
  },
  {
   "cell_type": "code",
   "execution_count": 27,
   "metadata": {},
   "outputs": [
    {
     "data": {
      "text/plain": [
       "\"'RATCH'\""
      ]
     },
     "execution_count": 27,
     "metadata": {},
     "output_type": "execute_result"
    }
   ],
   "source": [
    "names = buys.name.unique()\n",
    "in_p = \", \".join(map(lambda name: \"'%s'\" % name, names))\n",
    "in_p"
   ]
  },
  {
   "cell_type": "code",
   "execution_count": 49,
   "metadata": {},
   "outputs": [
    {
     "data": {
      "text/plain": [
       "3000"
      ]
     },
     "execution_count": 49,
     "metadata": {},
     "output_type": "execute_result"
    }
   ],
   "source": [
    "trans_qty = grouped.qty.sum()\n",
    "trans_qty"
   ]
  },
  {
   "cell_type": "code",
   "execution_count": 50,
   "metadata": {},
   "outputs": [
    {
     "name": "stdout",
     "output_type": "stream",
     "text": [
      "\n",
      "UPDATE buy\n",
      "SET volbuy = volbuy + 3000, price = 45.75\n",
      "WHERE name IN ('KCE')\n"
     ]
    }
   ],
   "source": [
    "new_cost = 45.75\n",
    "sqlUpd = '''\n",
    "UPDATE buy\n",
    "SET volbuy = volbuy + %s, price = %s\n",
    "WHERE name IN (%s)'''\n",
    "sqlUpd = sqlUpd % (trans_qty, new_cost, in_p)\n",
    "print(sqlUpd)"
   ]
  },
  {
   "cell_type": "code",
   "execution_count": 18,
   "metadata": {},
   "outputs": [
    {
     "data": {
      "text/plain": [
       "1"
      ]
     },
     "execution_count": 18,
     "metadata": {},
     "output_type": "execute_result"
    }
   ],
   "source": [
    "rp = const.execute(sqlUpd)\n",
    "rp.rowcount"
   ]
  },
  {
   "cell_type": "markdown",
   "metadata": {},
   "source": [
    "### Update table dividend in stock database for sells transactions"
   ]
  },
  {
   "cell_type": "code",
   "execution_count": 19,
   "metadata": {},
   "outputs": [
    {
     "name": "stdout",
     "output_type": "stream",
     "text": [
      "\n",
      "SELECT * \n",
      "FROM dividend \n",
      "WHERE name IN ('PTTGC') \n",
      "ORDER BY name\n",
      "\n"
     ]
    }
   ],
   "source": [
    "sql = \"\"\"\n",
    "SELECT * \n",
    "FROM dividend \n",
    "WHERE name IN (%s) \n",
    "ORDER BY name\n",
    "\"\"\"\n",
    "sql = sql % in_p\n",
    "print(sql)"
   ]
  },
  {
   "cell_type": "code",
   "execution_count": 23,
   "metadata": {},
   "outputs": [
    {
     "data": {
      "text/html": [
       "<div>\n",
       "<style scoped>\n",
       "    .dataframe tbody tr th:only-of-type {\n",
       "        vertical-align: middle;\n",
       "    }\n",
       "\n",
       "    .dataframe tbody tr th {\n",
       "        vertical-align: top;\n",
       "    }\n",
       "\n",
       "    .dataframe thead th {\n",
       "        text-align: right;\n",
       "    }\n",
       "</style>\n",
       "<table border=\"1\" class=\"dataframe\">\n",
       "  <thead>\n",
       "    <tr style=\"text-align: right;\">\n",
       "      <th></th>\n",
       "      <th>NAME</th>\n",
       "      <th>Q4</th>\n",
       "      <th>Q3</th>\n",
       "      <th>Q2</th>\n",
       "      <th>Q1</th>\n",
       "      <th>DIVIDEND</th>\n",
       "      <th>PRICE</th>\n",
       "      <th>PERCENT</th>\n",
       "      <th>SHARES</th>\n",
       "      <th>XDATE</th>\n",
       "      <th>PAIDDATE</th>\n",
       "      <th>KIND</th>\n",
       "      <th>ACTUAL</th>\n",
       "    </tr>\n",
       "  </thead>\n",
       "  <tbody>\n",
       "    <tr>\n",
       "      <th>0</th>\n",
       "      <td>PTTGC</td>\n",
       "      <td>1.0</td>\n",
       "      <td>0.0</td>\n",
       "      <td>2.0</td>\n",
       "      <td>0.0</td>\n",
       "      <td>3.0</td>\n",
       "      <td>0.0</td>\n",
       "      <td>0.0</td>\n",
       "      <td>4400.0</td>\n",
       "      <td>2021-09-03</td>\n",
       "      <td>2021-09-22</td>\n",
       "      <td>None</td>\n",
       "      <td>0</td>\n",
       "    </tr>\n",
       "  </tbody>\n",
       "</table>\n",
       "</div>"
      ],
      "text/plain": [
       "    NAME   Q4   Q3   Q2   Q1  DIVIDEND  PRICE  PERCENT  SHARES       XDATE  \\\n",
       "0  PTTGC  1.0  0.0  2.0  0.0       3.0    0.0      0.0  4400.0  2021-09-03   \n",
       "\n",
       "     PAIDDATE  KIND  ACTUAL  \n",
       "0  2021-09-22  None       0  "
      ]
     },
     "execution_count": 23,
     "metadata": {},
     "output_type": "execute_result"
    }
   ],
   "source": [
    "df = pd.read_sql(sql, const)\n",
    "df"
   ]
  },
  {
   "cell_type": "code",
   "execution_count": 21,
   "metadata": {},
   "outputs": [
    {
     "name": "stdout",
     "output_type": "stream",
     "text": [
      "\n",
      "UPDATE dividend\n",
      "SET shares = shares + -1000\n",
      "WHERE name IN ('PTTGC')\n"
     ]
    }
   ],
   "source": [
    "sqlUpd = '''\n",
    "UPDATE dividend\n",
    "SET shares = shares + %s\n",
    "WHERE name IN (%s)'''\n",
    "sqlUpd = sqlUpd % (trans_qty, in_p)\n",
    "print(sqlUpd)"
   ]
  },
  {
   "cell_type": "code",
   "execution_count": 22,
   "metadata": {},
   "outputs": [
    {
     "data": {
      "text/plain": [
       "1"
      ]
     },
     "execution_count": 22,
     "metadata": {},
     "output_type": "execute_result"
    }
   ],
   "source": [
    "rp = const.execute(sqlUpd)\n",
    "rp.rowcount"
   ]
  },
  {
   "cell_type": "markdown",
   "metadata": {},
   "source": [
    "### Update table dividend in stock database for buys transactions"
   ]
  },
  {
   "cell_type": "code",
   "execution_count": 53,
   "metadata": {},
   "outputs": [
    {
     "data": {
      "text/html": [
       "<div>\n",
       "<style scoped>\n",
       "    .dataframe tbody tr th:only-of-type {\n",
       "        vertical-align: middle;\n",
       "    }\n",
       "\n",
       "    .dataframe tbody tr th {\n",
       "        vertical-align: top;\n",
       "    }\n",
       "\n",
       "    .dataframe thead th {\n",
       "        text-align: right;\n",
       "    }\n",
       "</style>\n",
       "<table border=\"1\" class=\"dataframe\">\n",
       "  <thead>\n",
       "    <tr style=\"text-align: right;\">\n",
       "      <th></th>\n",
       "      <th>NAME</th>\n",
       "      <th>Q4</th>\n",
       "      <th>Q3</th>\n",
       "      <th>Q2</th>\n",
       "      <th>Q1</th>\n",
       "      <th>DIVIDEND</th>\n",
       "      <th>PRICE</th>\n",
       "      <th>PERCENT</th>\n",
       "      <th>SHARES</th>\n",
       "      <th>XDATE</th>\n",
       "      <th>PAIDDATE</th>\n",
       "      <th>KIND</th>\n",
       "      <th>ACTUAL</th>\n",
       "    </tr>\n",
       "  </thead>\n",
       "  <tbody>\n",
       "    <tr>\n",
       "      <th>0</th>\n",
       "      <td>KCE</td>\n",
       "      <td>0.4</td>\n",
       "      <td>0.0</td>\n",
       "      <td>0.6</td>\n",
       "      <td>0.0</td>\n",
       "      <td>1.0</td>\n",
       "      <td>0.0</td>\n",
       "      <td>0.0</td>\n",
       "      <td>4000.0</td>\n",
       "      <td>2021-08-23</td>\n",
       "      <td>2021-09-08</td>\n",
       "      <td></td>\n",
       "      <td>0</td>\n",
       "    </tr>\n",
       "  </tbody>\n",
       "</table>\n",
       "</div>"
      ],
      "text/plain": [
       "  NAME   Q4   Q3   Q2   Q1  DIVIDEND  PRICE  PERCENT  SHARES       XDATE  \\\n",
       "0  KCE  0.4  0.0  0.6  0.0       1.0    0.0      0.0  4000.0  2021-08-23   \n",
       "\n",
       "     PAIDDATE KIND  ACTUAL  \n",
       "0  2021-09-08            0  "
      ]
     },
     "execution_count": 53,
     "metadata": {},
     "output_type": "execute_result"
    }
   ],
   "source": [
    "sql = \"\"\"\n",
    "SELECT * \n",
    "FROM dividend \n",
    "WHERE name IN (%s) \n",
    "ORDER BY name\n",
    "\"\"\"\n",
    "sql = sql % in_p\n",
    "df = pd.read_sql(sql, const)\n",
    "df"
   ]
  },
  {
   "cell_type": "code",
   "execution_count": 54,
   "metadata": {},
   "outputs": [
    {
     "name": "stdout",
     "output_type": "stream",
     "text": [
      "\n",
      "UPDATE dividend\n",
      "SET shares = shares + 3000\n",
      "WHERE name IN ('KCE')\n"
     ]
    }
   ],
   "source": [
    "sqlUpd = '''\n",
    "UPDATE dividend\n",
    "SET shares = shares + %s\n",
    "WHERE name IN (%s)'''\n",
    "sqlUpd = sqlUpd % (trans_qty, in_p)\n",
    "print(sqlUpd)"
   ]
  },
  {
   "cell_type": "code",
   "execution_count": 25,
   "metadata": {},
   "outputs": [
    {
     "data": {
      "text/plain": [
       "1"
      ]
     },
     "execution_count": 25,
     "metadata": {},
     "output_type": "execute_result"
    }
   ],
   "source": [
    "rp = const.execute(sqlUpd)\n",
    "rp.rowcount"
   ]
  },
  {
   "cell_type": "markdown",
   "metadata": {},
   "source": [
    "### Update stocks in PortLite"
   ]
  },
  {
   "cell_type": "code",
   "execution_count": 28,
   "metadata": {},
   "outputs": [
    {
     "data": {
      "text/html": [
       "<div>\n",
       "<style scoped>\n",
       "    .dataframe tbody tr th:only-of-type {\n",
       "        vertical-align: middle;\n",
       "    }\n",
       "\n",
       "    .dataframe tbody tr th {\n",
       "        vertical-align: top;\n",
       "    }\n",
       "\n",
       "    .dataframe thead th {\n",
       "        text-align: right;\n",
       "    }\n",
       "</style>\n",
       "<table border=\"1\" class=\"dataframe\">\n",
       "  <thead>\n",
       "    <tr style=\"text-align: right;\">\n",
       "      <th></th>\n",
       "      <th>id</th>\n",
       "      <th>name</th>\n",
       "      <th>max_price</th>\n",
       "      <th>min_price</th>\n",
       "      <th>status</th>\n",
       "      <th>buy_target</th>\n",
       "      <th>sell_target</th>\n",
       "      <th>volume</th>\n",
       "      <th>beta</th>\n",
       "      <th>cost</th>\n",
       "      <th>qty</th>\n",
       "      <th>buy_spread</th>\n",
       "      <th>sell_spread</th>\n",
       "      <th>available_qty</th>\n",
       "      <th>bl</th>\n",
       "      <th>sh</th>\n",
       "      <th>reason</th>\n",
       "      <th>market</th>\n",
       "    </tr>\n",
       "  </thead>\n",
       "  <tbody>\n",
       "    <tr>\n",
       "      <th>0</th>\n",
       "      <td>135</td>\n",
       "      <td>PTTGC</td>\n",
       "      <td>70</td>\n",
       "      <td>54.25</td>\n",
       "      <td>S</td>\n",
       "      <td>0</td>\n",
       "      <td>58.75</td>\n",
       "      <td>1268.88</td>\n",
       "      <td>1.17</td>\n",
       "      <td>66.75</td>\n",
       "      <td>1000</td>\n",
       "      <td>-11</td>\n",
       "      <td>9</td>\n",
       "      <td>4400</td>\n",
       "      <td>3</td>\n",
       "      <td>12</td>\n",
       "      <td>CUT</td>\n",
       "      <td>SET50</td>\n",
       "    </tr>\n",
       "  </tbody>\n",
       "</table>\n",
       "</div>"
      ],
      "text/plain": [
       "    id   name  max_price  min_price status  buy_target  sell_target   volume  \\\n",
       "0  135  PTTGC         70      54.25      S           0        58.75  1268.88   \n",
       "\n",
       "   beta   cost   qty  buy_spread  sell_spread  available_qty  bl  sh reason  \\\n",
       "0  1.17  66.75  1000         -11            9           4400   3  12    CUT   \n",
       "\n",
       "  market  \n",
       "0  SET50  "
      ]
     },
     "execution_count": 28,
     "metadata": {},
     "output_type": "execute_result"
    }
   ],
   "source": [
    "sql = \"\"\"\n",
    "SELECT * \n",
    "FROM stocks\n",
    "WHERE name IN (%s) \n",
    "ORDER BY name\n",
    "\"\"\"\n",
    "sql = sql % in_p\n",
    "df_stocks = pd.read_sql(sql, conlite)\n",
    "df_stocks"
   ]
  },
  {
   "cell_type": "code",
   "execution_count": 25,
   "metadata": {},
   "outputs": [
    {
     "data": {
      "text/plain": [
       "(-1000, 66.75)"
      ]
     },
     "execution_count": 25,
     "metadata": {},
     "output_type": "execute_result"
    }
   ],
   "source": [
    "new_cost = 66.75\n",
    "trans_qty, new_cost"
   ]
  },
  {
   "cell_type": "code",
   "execution_count": 26,
   "metadata": {},
   "outputs": [
    {
     "name": "stdout",
     "output_type": "stream",
     "text": [
      "\n",
      "UPDATE stocks\n",
      "SET available_qty = available_qty + -1000, cost = 66.75\n",
      "WHERE name IN ('PTTGC')\n"
     ]
    }
   ],
   "source": [
    "sqlUpd = \"\"\"\n",
    "UPDATE stocks\n",
    "SET available_qty = available_qty + %s, cost = %s\n",
    "WHERE name IN (%s)\"\"\"\n",
    "sqlUpd = sqlUpd % (trans_qty, new_cost, in_p)\n",
    "print(sqlUpd)"
   ]
  },
  {
   "cell_type": "code",
   "execution_count": 27,
   "metadata": {},
   "outputs": [
    {
     "data": {
      "text/plain": [
       "1"
      ]
     },
     "execution_count": 27,
     "metadata": {},
     "output_type": "execute_result"
    }
   ],
   "source": [
    "rp = conlite.execute(sqlUpd)\n",
    "rp.rowcount"
   ]
  },
  {
   "cell_type": "markdown",
   "metadata": {},
   "source": [
    "### Trace bakc process"
   ]
  },
  {
   "cell_type": "code",
   "execution_count": 19,
   "metadata": {},
   "outputs": [
    {
     "data": {
      "text/html": [
       "<div>\n",
       "<style scoped>\n",
       "    .dataframe tbody tr th:only-of-type {\n",
       "        vertical-align: middle;\n",
       "    }\n",
       "\n",
       "    .dataframe tbody tr th {\n",
       "        vertical-align: top;\n",
       "    }\n",
       "\n",
       "    .dataframe thead th {\n",
       "        text-align: right;\n",
       "    }\n",
       "</style>\n",
       "<table border=\"1\" class=\"dataframe\">\n",
       "  <thead>\n",
       "    <tr style=\"text-align: right;\">\n",
       "      <th></th>\n",
       "      <th>name</th>\n",
       "      <th>qty</th>\n",
       "      <th>price</th>\n",
       "      <th>net</th>\n",
       "      <th>cost</th>\n",
       "      <th>profit</th>\n",
       "    </tr>\n",
       "  </thead>\n",
       "  <tbody>\n",
       "    <tr>\n",
       "      <th>0</th>\n",
       "      <td>KCE</td>\n",
       "      <td>1000</td>\n",
       "      <td>91.25</td>\n",
       "      <td>91047.89</td>\n",
       "      <td>87192.7</td>\n",
       "      <td>3855.19</td>\n",
       "    </tr>\n",
       "  </tbody>\n",
       "</table>\n",
       "</div>"
      ],
      "text/plain": [
       "  name   qty  price       net     cost   profit\n",
       "0  KCE  1000  91.25  91047.89  87192.7  3855.19"
      ]
     },
     "execution_count": 19,
     "metadata": {},
     "output_type": "execute_result"
    }
   ],
   "source": [
    "#grouped.reset_index(level=0, inplace=True)\n",
    "grouped.reset_index(level='name', inplace=True)\n",
    "#level=['name', 'etc']\n",
    "grouped"
   ]
  },
  {
   "cell_type": "code",
   "execution_count": 20,
   "metadata": {},
   "outputs": [
    {
     "name": "stdout",
     "output_type": "stream",
     "text": [
      "\n",
      "SELECT *\n",
      "FROM price\n",
      "WHERE date = '2021-12-28'\n",
      "AND name IN ('KCE')\n",
      "\n"
     ]
    }
   ],
   "source": [
    "sql = '''\n",
    "SELECT *\n",
    "FROM price\n",
    "WHERE date = '%s'\n",
    "AND name IN (%s)\n",
    "'''\n",
    "sql = sql % (today, in_p)\n",
    "print(sql)"
   ]
  },
  {
   "cell_type": "code",
   "execution_count": 21,
   "metadata": {},
   "outputs": [
    {
     "data": {
      "text/html": [
       "<div>\n",
       "<style scoped>\n",
       "    .dataframe tbody tr th:only-of-type {\n",
       "        vertical-align: middle;\n",
       "    }\n",
       "\n",
       "    .dataframe tbody tr th {\n",
       "        vertical-align: top;\n",
       "    }\n",
       "\n",
       "    .dataframe thead th {\n",
       "        text-align: right;\n",
       "    }\n",
       "</style>\n",
       "<table border=\"1\" class=\"dataframe\">\n",
       "  <thead>\n",
       "    <tr style=\"text-align: right;\">\n",
       "      <th></th>\n",
       "      <th>name</th>\n",
       "      <th>date</th>\n",
       "      <th>price</th>\n",
       "      <th>maxp</th>\n",
       "      <th>minp</th>\n",
       "      <th>qty</th>\n",
       "      <th>opnp</th>\n",
       "    </tr>\n",
       "  </thead>\n",
       "  <tbody>\n",
       "  </tbody>\n",
       "</table>\n",
       "</div>"
      ],
      "text/plain": [
       "Empty DataFrame\n",
       "Columns: [name, date, price, maxp, minp, qty, opnp]\n",
       "Index: []"
      ]
     },
     "execution_count": 21,
     "metadata": {},
     "output_type": "execute_result"
    }
   ],
   "source": [
    "prices = pd.read_sql(sql, const)\n",
    "prices"
   ]
  },
  {
   "cell_type": "code",
   "execution_count": 22,
   "metadata": {},
   "outputs": [
    {
     "data": {
      "text/plain": [
       "name        object\n",
       "qty_x        int64\n",
       "price_x    float64\n",
       "net        float64\n",
       "cost       float64\n",
       "profit     float64\n",
       "date        object\n",
       "price_y     object\n",
       "maxp        object\n",
       "minp        object\n",
       "qty_y       object\n",
       "opnp        object\n",
       "dtype: object"
      ]
     },
     "execution_count": 22,
     "metadata": {},
     "output_type": "execute_result"
    }
   ],
   "source": [
    "df_merge = pd.merge(grouped, prices, on='name', how='inner')\n",
    "df_merge.dtypes"
   ]
  },
  {
   "cell_type": "code",
   "execution_count": 23,
   "metadata": {},
   "outputs": [
    {
     "data": {
      "text/html": [
       "<div>\n",
       "<style scoped>\n",
       "    .dataframe tbody tr th:only-of-type {\n",
       "        vertical-align: middle;\n",
       "    }\n",
       "\n",
       "    .dataframe tbody tr th {\n",
       "        vertical-align: top;\n",
       "    }\n",
       "\n",
       "    .dataframe thead th {\n",
       "        text-align: right;\n",
       "    }\n",
       "</style>\n",
       "<table border=\"1\" class=\"dataframe\">\n",
       "  <thead>\n",
       "    <tr style=\"text-align: right;\">\n",
       "      <th></th>\n",
       "      <th>name</th>\n",
       "      <th>qty_x</th>\n",
       "      <th>price_x</th>\n",
       "      <th>price_y</th>\n",
       "    </tr>\n",
       "  </thead>\n",
       "  <tbody>\n",
       "  </tbody>\n",
       "</table>\n",
       "</div>"
      ],
      "text/plain": [
       "Empty DataFrame\n",
       "Columns: [name, qty_x, price_x, price_y]\n",
       "Index: []"
      ]
     },
     "execution_count": 23,
     "metadata": {},
     "output_type": "execute_result"
    }
   ],
   "source": [
    "cols = 'name qty_x price_x price_y'.split()\n",
    "df_merge[cols]"
   ]
  },
  {
   "cell_type": "code",
   "execution_count": 24,
   "metadata": {},
   "outputs": [
    {
     "data": {
      "text/html": [
       "<div>\n",
       "<style scoped>\n",
       "    .dataframe tbody tr th:only-of-type {\n",
       "        vertical-align: middle;\n",
       "    }\n",
       "\n",
       "    .dataframe tbody tr th {\n",
       "        vertical-align: top;\n",
       "    }\n",
       "\n",
       "    .dataframe thead th {\n",
       "        text-align: right;\n",
       "    }\n",
       "</style>\n",
       "<table border=\"1\" class=\"dataframe\">\n",
       "  <thead>\n",
       "    <tr style=\"text-align: right;\">\n",
       "      <th></th>\n",
       "      <th>name</th>\n",
       "      <th>qty_x</th>\n",
       "      <th>price_x</th>\n",
       "      <th>price_y</th>\n",
       "      <th>diff</th>\n",
       "      <th>profit</th>\n",
       "    </tr>\n",
       "  </thead>\n",
       "  <tbody>\n",
       "  </tbody>\n",
       "</table>\n",
       "</div>"
      ],
      "text/plain": [
       "Empty DataFrame\n",
       "Columns: [name, qty_x, price_x, price_y, diff, profit]\n",
       "Index: []"
      ]
     },
     "execution_count": 24,
     "metadata": {},
     "output_type": "execute_result"
    }
   ],
   "source": [
    "df_merge['diff'] = df_merge.price_x - df_merge.price_y\n",
    "df_merge['profit'] = (df_merge.price_x - df_merge.price_y) * df_merge.qty_x\n",
    "cols = 'name qty_x price_x price_y diff profit'.split()\n",
    "df_merge[cols]"
   ]
  },
  {
   "cell_type": "code",
   "execution_count": 25,
   "metadata": {},
   "outputs": [
    {
     "data": {
      "text/plain": [
       "0"
      ]
     },
     "execution_count": 25,
     "metadata": {},
     "output_type": "execute_result"
    }
   ],
   "source": [
    "df_merge.profit.sum()"
   ]
  },
  {
   "cell_type": "code",
   "execution_count": 26,
   "metadata": {},
   "outputs": [
    {
     "data": {
      "text/html": [
       "<div>\n",
       "<style scoped>\n",
       "    .dataframe tbody tr th:only-of-type {\n",
       "        vertical-align: middle;\n",
       "    }\n",
       "\n",
       "    .dataframe tbody tr th {\n",
       "        vertical-align: top;\n",
       "    }\n",
       "\n",
       "    .dataframe thead th {\n",
       "        text-align: right;\n",
       "    }\n",
       "</style>\n",
       "<table border=\"1\" class=\"dataframe\">\n",
       "  <thead>\n",
       "    <tr style=\"text-align: right;\">\n",
       "      <th></th>\n",
       "      <th>name</th>\n",
       "      <th>qty_x</th>\n",
       "      <th>opnp</th>\n",
       "      <th>price_y</th>\n",
       "      <th>diff2</th>\n",
       "      <th>profit2</th>\n",
       "    </tr>\n",
       "  </thead>\n",
       "  <tbody>\n",
       "  </tbody>\n",
       "</table>\n",
       "</div>"
      ],
      "text/plain": [
       "Empty DataFrame\n",
       "Columns: [name, qty_x, opnp, price_y, diff2, profit2]\n",
       "Index: []"
      ]
     },
     "execution_count": 26,
     "metadata": {},
     "output_type": "execute_result"
    }
   ],
   "source": [
    "df_merge['diff2'] = df_merge.opnp - df_merge.price_y\n",
    "df_merge['profit2'] = (df_merge.opnp - df_merge.price_y) * df_merge.qty_x\n",
    "cols = 'name qty_x opnp price_y diff2 profit2'.split()\n",
    "df_merge[cols]"
   ]
  },
  {
   "cell_type": "code",
   "execution_count": 27,
   "metadata": {},
   "outputs": [
    {
     "data": {
      "text/plain": [
       "0"
      ]
     },
     "execution_count": 27,
     "metadata": {},
     "output_type": "execute_result"
    }
   ],
   "source": [
    "df_merge.profit2.sum()"
   ]
  },
  {
   "cell_type": "code",
   "execution_count": null,
   "metadata": {},
   "outputs": [],
   "source": []
  }
 ],
 "metadata": {
  "anaconda-cloud": {},
  "kernelspec": {
   "display_name": "Python 3 (ipykernel)",
   "language": "python",
   "name": "python3"
  },
  "language_info": {
   "codemirror_mode": {
    "name": "ipython",
    "version": 3
   },
   "file_extension": ".py",
   "mimetype": "text/x-python",
   "name": "python",
   "nbconvert_exporter": "python",
   "pygments_lexer": "ipython3",
   "version": "3.8.11"
  }
 },
 "nbformat": 4,
 "nbformat_minor": 1
}
