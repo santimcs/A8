{
 "cells": [
  {
   "cell_type": "code",
   "execution_count": 1,
   "metadata": {},
   "outputs": [
    {
     "data": {
      "text/plain": [
       "(datetime.date(2021, 12, 25), datetime.date(2021, 12, 24))"
      ]
     },
     "execution_count": 1,
     "metadata": {},
     "output_type": "execute_result"
    }
   ],
   "source": [
    "import calendar\n",
    "import pandas as pd\n",
    "import numpy as np\n",
    "from datetime import date, timedelta\n",
    "from math import ceil, floor, trunc\n",
    "\n",
    "today = date.today()\n",
    "yesterday = today - timedelta(days=1)\n",
    "today, yesterday"
   ]
  },
  {
   "cell_type": "code",
   "execution_count": 2,
   "metadata": {},
   "outputs": [],
   "source": [
    "def number_of_spread(x):\n",
    "    q0 = x[0]   #old qty\n",
    "    p0 = x[1]   #old unit \n",
    "    old_unit_cost = x[1]\n",
    "    q1 = x[2]   #purchase qty\n",
    "    d1 = x[3]  #spread according to price range\n",
    "    c0 = x[4]  #desired down percent to adjust purchase price\n",
    "\n",
    "    a0 = q0 * p0 # amount\n",
    "    \n",
    "    i = 1000\n",
    "    pct = 0\n",
    "    pt = 0\n",
    "    dt = 0\n",
    "    p2 = 0\n",
    "    while i > 0:\n",
    "        p1 = p0 - d1  #simulated purchase price\n",
    "        p0 = p1\n",
    "        a1 = q1 * p1  #new purchase amt\n",
    "        q2 = q0 + q1  #new total qty\n",
    "        a2 = a0 + a1  #new cost amt\n",
    "        p2 = a2 / q2  #new unit cost\n",
    "\n",
    "        pt = round(p2 * 100,2)  #simulated purchase price multiply 100  \n",
    "        dt = d1 * 100           #spread according to price range multiply 100\n",
    "        \n",
    "        print('before if',i,'p1='+str(round(p1,2)),'a1='+str(round(a1,2)),'a2='+str(round(a2,2)),'p2='+str(round(p2,2)))\n",
    "        \n",
    "        if (pt % dt) == 0:\n",
    "            pct = (p1 - old_unit_cost)/old_unit_cost * 100\n",
    "            print ('in loop' ,i,'p2='+str(round(p2,2)),a2,'p1='+str(round(p1,2)),'pct='+str(round(pct,2)))\n",
    "            if abs(pct) < c0:\n",
    "                continue\n",
    "            break\n",
    "            \n",
    "        print ('out loop',i,'p2='+str(round(p2,2)),a2,'p1='+str(round(p1,2)),'pct='+str(round(pct,2)))            \n",
    "        i -= 1     \n",
    "        \n",
    "    return print('p1='+str(round(p1,2)),'p2='+str(round(p2,2)),'pct='+str(round(pct,2)))"
   ]
  },
  {
   "cell_type": "code",
   "execution_count": 3,
   "metadata": {},
   "outputs": [
    {
     "name": "stdout",
     "output_type": "stream",
     "text": [
      "before if 1000 p1=6.95 a1=41700.0 a2=482700.0 p2=7.0\n",
      "out loop 1000 p2=7.0 482700.0 p1=6.95 pct=0\n",
      "before if 999 p1=6.9 a1=41400.0 a2=482400.0 p2=6.99\n",
      "out loop 999 p2=6.99 482400.0 p1=6.9 pct=0\n",
      "before if 998 p1=6.85 a1=41100.0 a2=482100.0 p2=6.99\n",
      "out loop 998 p2=6.99 482100.0 p1=6.85 pct=0\n",
      "before if 997 p1=6.8 a1=40800.0 a2=481800.0 p2=6.98\n",
      "out loop 997 p2=6.98 481800.0 p1=6.8 pct=0\n",
      "before if 996 p1=6.75 a1=40500.0 a2=481500.0 p2=6.98\n",
      "out loop 996 p2=6.98 481500.0 p1=6.75 pct=0\n",
      "before if 995 p1=6.7 a1=40200.0 a2=481200.0 p2=6.97\n",
      "out loop 995 p2=6.97 481200.0 p1=6.7 pct=0\n",
      "before if 994 p1=6.65 a1=39900.0 a2=480900.0 p2=6.97\n",
      "out loop 994 p2=6.97 480900.0 p1=6.65 pct=0\n",
      "before if 993 p1=6.6 a1=39600.0 a2=480600.0 p2=6.97\n",
      "out loop 993 p2=6.97 480600.0 p1=6.6 pct=0\n",
      "before if 992 p1=6.55 a1=39300.0 a2=480300.0 p2=6.96\n",
      "out loop 992 p2=6.96 480300.0 p1=6.55 pct=0\n",
      "before if 991 p1=6.5 a1=39000.0 a2=480000.0 p2=6.96\n",
      "out loop 991 p2=6.96 480000.0 p1=6.5 pct=0\n",
      "before if 990 p1=6.45 a1=38700.0 a2=479700.0 p2=6.95\n",
      "out loop 990 p2=6.95 479700.0 p1=6.45 pct=0\n",
      "before if 989 p1=6.4 a1=38400.0 a2=479400.0 p2=6.95\n",
      "out loop 989 p2=6.95 479400.0 p1=6.4 pct=0\n",
      "before if 988 p1=6.35 a1=38100.0 a2=479100.0 p2=6.94\n",
      "out loop 988 p2=6.94 479100.0 p1=6.35 pct=0\n",
      "before if 987 p1=6.3 a1=37800.0 a2=478800.0 p2=6.94\n",
      "out loop 987 p2=6.94 478800.0 p1=6.3 pct=0\n",
      "before if 986 p1=6.25 a1=37500.0 a2=478500.0 p2=6.93\n",
      "out loop 986 p2=6.93 478500.0 p1=6.25 pct=0\n",
      "before if 985 p1=6.2 a1=37200.0 a2=478200.0 p2=6.93\n",
      "out loop 985 p2=6.93 478200.0 p1=6.2 pct=0\n",
      "before if 984 p1=6.15 a1=36900.0 a2=477900.0 p2=6.93\n",
      "out loop 984 p2=6.93 477900.0 p1=6.15 pct=0\n",
      "before if 983 p1=6.1 a1=36600.0 a2=477600.0 p2=6.92\n",
      "out loop 983 p2=6.92 477600.0 p1=6.1 pct=0\n",
      "before if 982 p1=6.05 a1=36300.0 a2=477300.0 p2=6.92\n",
      "out loop 982 p2=6.92 477300.0 p1=6.05 pct=0\n",
      "before if 981 p1=6.0 a1=36000.0 a2=477000.0 p2=6.91\n",
      "out loop 981 p2=6.91 477000.0 p1=6.0 pct=0\n",
      "before if 980 p1=5.95 a1=35700.0 a2=476700.0 p2=6.91\n",
      "out loop 980 p2=6.91 476700.0 p1=5.95 pct=0\n",
      "before if 979 p1=5.9 a1=35400.0 a2=476400.0 p2=6.9\n",
      "out loop 979 p2=6.9 476400.0 p1=5.9 pct=0\n",
      "before if 978 p1=5.85 a1=35100.0 a2=476100.0 p2=6.9\n",
      "in loop 978 p2=6.9 476100.0 p1=5.85 pct=-16.43\n",
      "p1=5.85 p2=6.9 pct=-16.43\n"
     ]
    },
    {
     "data": {
      "text/plain": [
       "array([None], dtype=object)"
      ]
     },
     "execution_count": 3,
     "metadata": {},
     "output_type": "execute_result"
    }
   ],
   "source": [
    "my_array = [[9000,11,6000,0.05,15]]\n",
    "tmp = (np.apply_along_axis(number_of_spread, axis=1, arr=my_array))\n",
    "tmp"
   ]
  },
  {
   "cell_type": "code",
   "execution_count": null,
   "metadata": {},
   "outputs": [],
   "source": []
  },
  {
   "cell_type": "code",
   "execution_count": null,
   "metadata": {},
   "outputs": [],
   "source": []
  }
 ],
 "metadata": {
  "anaconda-cloud": {},
  "kernelspec": {
   "display_name": "Python 3 (ipykernel)",
   "language": "python",
   "name": "python3"
  },
  "language_info": {
   "codemirror_mode": {
    "name": "ipython",
    "version": 3
   },
   "file_extension": ".py",
   "mimetype": "text/x-python",
   "name": "python",
   "nbconvert_exporter": "python",
   "pygments_lexer": "ipython3",
   "version": "3.8.11"
  }
 },
 "nbformat": 4,
 "nbformat_minor": 1
}
