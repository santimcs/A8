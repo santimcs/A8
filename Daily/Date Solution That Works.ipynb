{
 "cells": [
  {
   "cell_type": "code",
   "execution_count": 1,
   "id": "5b0e3545",
   "metadata": {},
   "outputs": [
    {
     "data": {
      "text/html": [
       "<div>\n",
       "<style scoped>\n",
       "    .dataframe tbody tr th:only-of-type {\n",
       "        vertical-align: middle;\n",
       "    }\n",
       "\n",
       "    .dataframe tbody tr th {\n",
       "        vertical-align: top;\n",
       "    }\n",
       "\n",
       "    .dataframe thead th {\n",
       "        text-align: right;\n",
       "    }\n",
       "</style>\n",
       "<table border=\"1\" class=\"dataframe\">\n",
       "  <thead>\n",
       "    <tr style=\"text-align: right;\">\n",
       "      <th></th>\n",
       "      <th>end_date</th>\n",
       "      <th>start_date</th>\n",
       "    </tr>\n",
       "  </thead>\n",
       "  <tbody>\n",
       "    <tr>\n",
       "      <th>0</th>\n",
       "      <td>2022-01-03</td>\n",
       "      <td>2021-12-28</td>\n",
       "    </tr>\n",
       "    <tr>\n",
       "      <th>1</th>\n",
       "      <td>2022-01-10</td>\n",
       "      <td>2022-01-04</td>\n",
       "    </tr>\n",
       "    <tr>\n",
       "      <th>2</th>\n",
       "      <td>2022-01-17</td>\n",
       "      <td>2022-01-11</td>\n",
       "    </tr>\n",
       "  </tbody>\n",
       "</table>\n",
       "</div>"
      ],
      "text/plain": [
       "    end_date start_date\n",
       "0 2022-01-03 2021-12-28\n",
       "1 2022-01-10 2022-01-04\n",
       "2 2022-01-17 2022-01-11"
      ]
     },
     "execution_count": 1,
     "metadata": {},
     "output_type": "execute_result"
    }
   ],
   "source": [
    "import pandas as pd\n",
    "from datetime import timedelta\n",
    "from pandas.tseries.offsets import BDay\n",
    "\n",
    "# create a dataframe with an 'end_date' column\n",
    "df = pd.DataFrame({'end_date': ['2022-01-03', '2022-01-10', '2022-01-17']})\n",
    "\n",
    "# convert the 'end_date' column to datetime type\n",
    "df['end_date'] = pd.to_datetime(df['end_date'])\n",
    "\n",
    "# specify the number of business days\n",
    "num_days = 4 # total 5 days including start and end date\n",
    "\n",
    "# convert the timedelta object to a BusinessDay object\n",
    "num_business_days = BDay(num_days)\n",
    "\n",
    "# create a new column 'start_date' by subtracting the specified number of business days from the 'end_date'\n",
    "df['start_date'] = df['end_date'] - num_business_days\n",
    "\n",
    "# view the dataframe\n",
    "df\n"
   ]
  },
  {
   "cell_type": "code",
   "execution_count": 2,
   "id": "b5e9cc75",
   "metadata": {},
   "outputs": [
    {
     "data": {
      "text/plain": [
       "(datetime.date(2022, 12, 12), Timestamp('2022-12-09 00:00:00'))"
      ]
     },
     "execution_count": 2,
     "metadata": {},
     "output_type": "execute_result"
    }
   ],
   "source": [
    "from datetime import date, timedelta\n",
    "from pandas.tseries.offsets import BDay\n",
    "\n",
    "today = date.today() # today = '22-12-16'\n",
    "today = today - timedelta(days=4) # to force to Monday\n",
    "# specify the number of business days\n",
    "num_days = 1\n",
    "# convert the timedelta object to a BusinessDay object\n",
    "num_business_days = BDay(num_days)\n",
    "yesterday = today - num_business_days\n",
    "today, yesterday"
   ]
  },
  {
   "cell_type": "code",
   "execution_count": null,
   "id": "ff59380d",
   "metadata": {},
   "outputs": [],
   "source": []
  }
 ],
 "metadata": {
  "kernelspec": {
   "display_name": "Python 3 (ipykernel)",
   "language": "python",
   "name": "python3"
  },
  "language_info": {
   "codemirror_mode": {
    "name": "ipython",
    "version": 3
   },
   "file_extension": ".py",
   "mimetype": "text/x-python",
   "name": "python",
   "nbconvert_exporter": "python",
   "pygments_lexer": "ipython3",
   "version": "3.8.11"
  }
 },
 "nbformat": 4,
 "nbformat_minor": 5
}
