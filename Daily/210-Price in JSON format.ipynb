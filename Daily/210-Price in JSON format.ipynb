{
 "cells": [
  {
   "cell_type": "markdown",
   "metadata": {},
   "source": [
    "### Restart and Run All Cells"
   ]
  },
  {
   "cell_type": "code",
   "execution_count": 1,
   "metadata": {},
   "outputs": [
    {
     "data": {
      "text/plain": [
       "datetime.date(2022, 4, 4)"
      ]
     },
     "execution_count": 1,
     "metadata": {},
     "output_type": "execute_result"
    }
   ],
   "source": [
    "import calendar\n",
    "import pandas as pd\n",
    "from datetime import datetime, timedelta, date\n",
    "from sqlalchemy import create_engine\n",
    "\n",
    "engine = create_engine(\"mysql+pymysql://root:@localhost:3306/stock\")\n",
    "const = engine.connect()\n",
    "\n",
    "data_path = \"C:/www.santiwebsite.com/V1-Rename-Files/prices/data/\"\n",
    "pd.set_option('display.float_format','{:,.3f}'.format)\n",
    "\n",
    "def posix_time(dt):\n",
    "    return (dt - datetime(1970, 1, 1)) / timedelta(milliseconds=1)\n",
    "\n",
    "today = date.today()\n",
    "today"
   ]
  },
  {
   "cell_type": "markdown",
   "metadata": {},
   "source": [
    "### price-uploads.csv file"
   ]
  },
  {
   "cell_type": "code",
   "execution_count": 2,
   "metadata": {},
   "outputs": [
    {
     "data": {
      "text/plain": [
       "127"
      ]
     },
     "execution_count": 2,
     "metadata": {},
     "output_type": "execute_result"
    }
   ],
   "source": [
    "df = pd.read_csv('c://a8//data//price-uploads.csv')\n",
    "df.shape[0]"
   ]
  },
  {
   "cell_type": "code",
   "execution_count": 3,
   "metadata": {},
   "outputs": [
    {
     "data": {
      "text/plain": [
       "127"
      ]
     },
     "execution_count": 3,
     "metadata": {},
     "output_type": "execute_result"
    }
   ],
   "source": [
    "names = df.name.tolist()\n",
    "len(names)"
   ]
  },
  {
   "cell_type": "code",
   "execution_count": 4,
   "metadata": {
    "scrolled": true
   },
   "outputs": [],
   "source": [
    "for name in names:\n",
    "    sql = \"\"\"\n",
    "    SELECT date, price \n",
    "    FROM price \n",
    "    WHERE name = '%s' \n",
    "    ORDER BY date\"\"\"    \n",
    "    sql = sql % name\n",
    "    df_tmp = pd.read_sql(sql, const)\n",
    "    df_tmp['timestamp'] = pd.to_datetime(df_tmp['date']).apply(posix_time)\n",
    "    file_name = name + \".json\"\n",
    "    data_file = data_path + file_name\n",
    "    cols = 'timestamp price'.split()\n",
    "    df_price = df_tmp[cols]    \n",
    "    df_price.to_json(data_file, orient=\"values\")"
   ]
  },
  {
   "cell_type": "code",
   "execution_count": null,
   "metadata": {},
   "outputs": [],
   "source": []
  }
 ],
 "metadata": {
  "anaconda-cloud": {},
  "kernelspec": {
   "display_name": "Python 3 (ipykernel)",
   "language": "python",
   "name": "python3"
  },
  "language_info": {
   "codemirror_mode": {
    "name": "ipython",
    "version": 3
   },
   "file_extension": ".py",
   "mimetype": "text/x-python",
   "name": "python",
   "nbconvert_exporter": "python",
   "pygments_lexer": "ipython3",
   "version": "3.8.11"
  }
 },
 "nbformat": 4,
 "nbformat_minor": 1
}
