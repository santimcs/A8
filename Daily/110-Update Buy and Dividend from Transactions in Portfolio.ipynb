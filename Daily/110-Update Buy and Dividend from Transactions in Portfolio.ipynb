{
 "cells": [
  {
   "cell_type": "code",
   "execution_count": 1,
   "metadata": {},
   "outputs": [
    {
     "data": {
      "text/plain": [
       "datetime.date(2022, 6, 10)"
      ]
     },
     "execution_count": 1,
     "metadata": {},
     "output_type": "execute_result"
    }
   ],
   "source": [
    "import pandas as pd\n",
    "from datetime import date, timedelta\n",
    "from sqlalchemy import create_engine\n",
    "\n",
    "engine = create_engine('mysql+pymysql://root:@localhost:3306/portfolio_development')\n",
    "conpf = engine.connect()\n",
    "\n",
    "engine = create_engine(\"mysql+pymysql://root:@localhost:3306/stock\")\n",
    "const = engine.connect()\n",
    "\n",
    "engine = create_engine(\"sqlite:///c:\\\\ruby\\\\port_lite\\\\db\\\\development.sqlite3\")\n",
    "conlite = engine.connect()\n",
    "\n",
    "today = date.today()\n",
    "today"
   ]
  },
  {
   "cell_type": "markdown",
   "metadata": {},
   "source": [
    "### Tables in the process"
   ]
  },
  {
   "cell_type": "code",
   "execution_count": 2,
   "metadata": {},
   "outputs": [],
   "source": [
    "format_dict = {\n",
    "    'shares':'{:,}',    \n",
    "    'price':'{:.2f}',\n",
    "    'dividend':'{:.4f}', \n",
    "    'date':'{:%Y-%m-%d}', \n",
    "    \n",
    "    'qty':'{:,}','shares':'{:,}',\n",
    "    'price':'{:.2f}','buy_price':'{:.2f}',\n",
    "    'dividend':'{:.4f}',    \n",
    "    'fee':'{:,.2f}','vat':'{:,.2f}','net':'{:,.2f}',\n",
    "  \n",
    "    'days':'{:,}',\n",
    "    'price':'{:.2f}',\n",
    "    'fee':'{:,.2f}','vat':'{:,.2f}','net':'{:,.2f}','profit':'{:,.2f}',\n",
    "    'percent':'{:,.2f}%','yearly':'{:,.2f}%',   \n",
    "    \n",
    "    'shares':'{:,}',    \n",
    "    'q4':'{:.4f}','q3':'{:.4f}','q2':'{:.4f}','q1':'{:.4f}','dividend':'{:.4f}',\n",
    "    'xdate':'{:%Y-%m-%d}','paiddate':'{:%Y-%m-%d}',\n",
    "    \n",
    "    'qty':'{:,}','available_qty':'{:,}',\n",
    "    'cost':'{:.2f}','max_price':'{:.2f}','min_price':'{:.2f}','buy_target':'{:.2f}','sell_target':'{:.2f}',\n",
    "    'volume':'{:,.2f}','beta':'{:,.2f}',\n",
    "    \n",
    "    'qty':'{:,}','available_qty':'{:,}',\n",
    "    'cost':'{:.2f}','max_price':'{:.2f}','min_price':'{:.2f}','buy_target':'{:.2f}','sell_target':'{:.2f}',\n",
    "    'volume':'{:,.2f}','beta':'{:,.2f}',\n",
    "    }"
   ]
  },
  {
   "cell_type": "code",
   "execution_count": 3,
   "metadata": {},
   "outputs": [
    {
     "data": {
      "text/html": [
       "<style type=\"text/css\">\n",
       "</style>\n",
       "<table id=\"T_940bc_\">\n",
       "  <thead>\n",
       "    <tr>\n",
       "      <th class=\"blank level0\" >&nbsp;</th>\n",
       "      <th class=\"col_heading level0 col0\" >name</th>\n",
       "      <th class=\"col_heading level0 col1\" >stock_id</th>\n",
       "      <th class=\"col_heading level0 col2\" >buy_date</th>\n",
       "      <th class=\"col_heading level0 col3\" >qty</th>\n",
       "      <th class=\"col_heading level0 col4\" >buy_price</th>\n",
       "      <th class=\"col_heading level0 col5\" >id</th>\n",
       "      <th class=\"col_heading level0 col6\" >buy_id</th>\n",
       "      <th class=\"col_heading level0 col7\" >date</th>\n",
       "      <th class=\"col_heading level0 col8\" >price</th>\n",
       "      <th class=\"col_heading level0 col9\" >fee</th>\n",
       "      <th class=\"col_heading level0 col10\" >vat</th>\n",
       "      <th class=\"col_heading level0 col11\" >net</th>\n",
       "      <th class=\"col_heading level0 col12\" >days</th>\n",
       "      <th class=\"col_heading level0 col13\" >profit</th>\n",
       "      <th class=\"col_heading level0 col14\" >percent</th>\n",
       "      <th class=\"col_heading level0 col15\" >yearly</th>\n",
       "      <th class=\"col_heading level0 col16\" >sequence</th>\n",
       "      <th class=\"col_heading level0 col17\" >chart</th>\n",
       "      <th class=\"col_heading level0 col18\" >dividend_id</th>\n",
       "    </tr>\n",
       "  </thead>\n",
       "  <tbody>\n",
       "    <tr>\n",
       "      <th id=\"T_940bc_level0_row0\" class=\"row_heading level0 row0\" >0</th>\n",
       "      <td id=\"T_940bc_row0_col0\" class=\"data row0 col0\" >TOP</td>\n",
       "      <td id=\"T_940bc_row0_col1\" class=\"data row0 col1\" >103</td>\n",
       "      <td id=\"T_940bc_row0_col2\" class=\"data row0 col2\" >2022-06-06</td>\n",
       "      <td id=\"T_940bc_row0_col3\" class=\"data row0 col3\" >3,000</td>\n",
       "      <td id=\"T_940bc_row0_col4\" class=\"data row0 col4\" >57.50</td>\n",
       "      <td id=\"T_940bc_row0_col5\" class=\"data row0 col5\" >972</td>\n",
       "      <td id=\"T_940bc_row0_col6\" class=\"data row0 col6\" >1187</td>\n",
       "      <td id=\"T_940bc_row0_col7\" class=\"data row0 col7\" >2022-06-08</td>\n",
       "      <td id=\"T_940bc_row0_col8\" class=\"data row0 col8\" >60.50</td>\n",
       "      <td id=\"T_940bc_row0_col9\" class=\"data row0 col9\" >375.71</td>\n",
       "      <td id=\"T_940bc_row0_col10\" class=\"data row0 col10\" >26.30</td>\n",
       "      <td id=\"T_940bc_row0_col11\" class=\"data row0 col11\" >181,097.99</td>\n",
       "      <td id=\"T_940bc_row0_col12\" class=\"data row0 col12\" >2</td>\n",
       "      <td id=\"T_940bc_row0_col13\" class=\"data row0 col13\" >8,215.91</td>\n",
       "      <td id=\"T_940bc_row0_col14\" class=\"data row0 col14\" >4.75%</td>\n",
       "      <td id=\"T_940bc_row0_col15\" class=\"data row0 col15\" >867.30%</td>\n",
       "      <td id=\"T_940bc_row0_col16\" class=\"data row0 col16\" >28</td>\n",
       "      <td id=\"T_940bc_row0_col17\" class=\"data row0 col17\" >None</td>\n",
       "      <td id=\"T_940bc_row0_col18\" class=\"data row0 col18\" >0</td>\n",
       "    </tr>\n",
       "  </tbody>\n",
       "</table>\n"
      ],
      "text/plain": [
       "<pandas.io.formats.style.Styler at 0x2248a0a4850>"
      ]
     },
     "execution_count": 3,
     "metadata": {},
     "output_type": "execute_result"
    }
   ],
   "source": [
    "# Sells table in MySQL portfolio database\n",
    "sql = \"\"\"\n",
    "SELECT name, stock_id, B.date AS buy_date, qty, B.price AS buy_price, S.* \n",
    "FROM sells S\n",
    "JOIN buys B ON S.buy_id = B.id\n",
    "JOIN stocks T ON B.stock_id = T.id\n",
    "ORDER BY S.id DESC\n",
    "LIMIT 1\"\"\"\n",
    "sells = pd.read_sql(sql, conpf)\n",
    "sells.style.format(format_dict)"
   ]
  },
  {
   "cell_type": "markdown",
   "metadata": {},
   "source": [
    "### In case of sale, retreive buy id from sells record (buy_id)"
   ]
  },
  {
   "cell_type": "code",
   "execution_count": null,
   "metadata": {},
   "outputs": [],
   "source": [
    "# Buys table in MySQL portfolio database\n",
    "transaction = 'S'\n",
    "\n",
    "names = sells['name']\n",
    "name = names.to_string(index=False)\n",
    "\n",
    "sr_qty = sells['qty']\n",
    "qty = sr_qty.to_string(index=False)\n",
    "qty = int(qty) * -1\n",
    "\n",
    "sr_price = sells['buy_price']\n",
    "buy_price = sr_price.to_string(index=False)\n",
    "buy_price = float(buy_price)\n",
    "\n",
    "sr_price = sells['price']\n",
    "sell_price = sr_price.to_string(index=False)\n",
    "sell_price = float(sell_price)\n",
    "\n",
    "buy_ids = sells['buy_id']\n",
    "buy_id = buy_ids.to_string(index=False)\n",
    "\n",
    "sql = \"\"\"\n",
    "SELECT name, B.* \n",
    "FROM buys B\n",
    "JOIN stocks T \n",
    "ON B.stock_id = T.id\n",
    "WHERE B.id = %s\n",
    "\"\"\"\n",
    "sql = sql % buy_id\n",
    "print(sql)\n",
    "\n",
    "buys = pd.read_sql(sql, conpf)\n",
    "buys.style.format(format_dict)"
   ]
  },
  {
   "cell_type": "code",
   "execution_count": null,
   "metadata": {},
   "outputs": [],
   "source": [
    "transaction, name, qty, sell_price, buy_price"
   ]
  },
  {
   "cell_type": "markdown",
   "metadata": {},
   "source": [
    "### In case of buy, retreive buy id from latest buy record (id)"
   ]
  },
  {
   "cell_type": "code",
   "execution_count": 4,
   "metadata": {},
   "outputs": [
    {
     "name": "stdout",
     "output_type": "stream",
     "text": [
      "\n",
      "SELECT name, B.* \n",
      "FROM buys B\n",
      "JOIN stocks T \n",
      "ON B.stock_id = T.id\n",
      "ORDER BY id DESC\n",
      "LIMIT 1\n",
      "\n"
     ]
    },
    {
     "data": {
      "text/html": [
       "<style type=\"text/css\">\n",
       "</style>\n",
       "<table id=\"T_fbe44_\">\n",
       "  <thead>\n",
       "    <tr>\n",
       "      <th class=\"blank level0\" >&nbsp;</th>\n",
       "      <th class=\"col_heading level0 col0\" >name</th>\n",
       "      <th class=\"col_heading level0 col1\" >id</th>\n",
       "      <th class=\"col_heading level0 col2\" >stock_id</th>\n",
       "      <th class=\"col_heading level0 col3\" >date</th>\n",
       "      <th class=\"col_heading level0 col4\" >qty</th>\n",
       "      <th class=\"col_heading level0 col5\" >price</th>\n",
       "      <th class=\"col_heading level0 col6\" >fee</th>\n",
       "      <th class=\"col_heading level0 col7\" >vat</th>\n",
       "      <th class=\"col_heading level0 col8\" >status</th>\n",
       "      <th class=\"col_heading level0 col9\" >net</th>\n",
       "      <th class=\"col_heading level0 col10\" >kind</th>\n",
       "      <th class=\"col_heading level0 col11\" >chart</th>\n",
       "    </tr>\n",
       "  </thead>\n",
       "  <tbody>\n",
       "    <tr>\n",
       "      <th id=\"T_fbe44_level0_row0\" class=\"row_heading level0 row0\" >0</th>\n",
       "      <td id=\"T_fbe44_row0_col0\" class=\"data row0 col0\" >TOP</td>\n",
       "      <td id=\"T_fbe44_row0_col1\" class=\"data row0 col1\" >1189</td>\n",
       "      <td id=\"T_fbe44_row0_col2\" class=\"data row0 col2\" >103</td>\n",
       "      <td id=\"T_fbe44_row0_col3\" class=\"data row0 col3\" >2022-06-10</td>\n",
       "      <td id=\"T_fbe44_row0_col4\" class=\"data row0 col4\" >3,000</td>\n",
       "      <td id=\"T_fbe44_row0_col5\" class=\"data row0 col5\" >57.50</td>\n",
       "      <td id=\"T_fbe44_row0_col6\" class=\"data row0 col6\" >357.08</td>\n",
       "      <td id=\"T_fbe44_row0_col7\" class=\"data row0 col7\" >25.00</td>\n",
       "      <td id=\"T_fbe44_row0_col8\" class=\"data row0 col8\" >Active</td>\n",
       "      <td id=\"T_fbe44_row0_col9\" class=\"data row0 col9\" >172,882.08</td>\n",
       "      <td id=\"T_fbe44_row0_col10\" class=\"data row0 col10\" >DTD</td>\n",
       "      <td id=\"T_fbe44_row0_col11\" class=\"data row0 col11\" >None</td>\n",
       "    </tr>\n",
       "  </tbody>\n",
       "</table>\n"
      ],
      "text/plain": [
       "<pandas.io.formats.style.Styler at 0x2248a0a48b0>"
      ]
     },
     "execution_count": 4,
     "metadata": {},
     "output_type": "execute_result"
    }
   ],
   "source": [
    "sql = \"\"\"\n",
    "SELECT name, B.* \n",
    "FROM buys B\n",
    "JOIN stocks T \n",
    "ON B.stock_id = T.id\n",
    "ORDER BY id DESC\n",
    "LIMIT 1\n",
    "\"\"\"\n",
    "print(sql)\n",
    "buys = pd.read_sql(sql, conpf)\n",
    "buys.style.format(format_dict)"
   ]
  },
  {
   "cell_type": "code",
   "execution_count": 5,
   "metadata": {},
   "outputs": [
    {
     "data": {
      "text/plain": [
       "('B', 'TOP', 3000, 57.5)"
      ]
     },
     "execution_count": 5,
     "metadata": {},
     "output_type": "execute_result"
    }
   ],
   "source": [
    "transaction = 'B'\n",
    "\n",
    "names = buys['name']\n",
    "name = names.to_string(index=False)\n",
    "\n",
    "sr_qty = buys['qty']\n",
    "qty = sr_qty.to_string(index=False)\n",
    "qty = int(qty)\n",
    "\n",
    "sr_price = buys['price']\n",
    "buy_price = sr_price.to_string(index=False)\n",
    "buy_price = float(buy_price)\n",
    "\n",
    "transaction, name, qty, buy_price"
   ]
  },
  {
   "cell_type": "markdown",
   "metadata": {},
   "source": [
    "## Begin of Sale transaction"
   ]
  },
  {
   "cell_type": "markdown",
   "metadata": {},
   "source": [
    "### Begin of Update buy table in MySQL stock database from sale transaction"
   ]
  },
  {
   "cell_type": "code",
   "execution_count": null,
   "metadata": {},
   "outputs": [],
   "source": [
    "sql = \"\"\"\n",
    "SELECT * \n",
    "FROM buy \n",
    "WHERE name = '%s'\n",
    "\"\"\"\n",
    "sql = sql % name\n",
    "print(sql)\n",
    "\n",
    "buy = pd.read_sql(sql, const)\n",
    "buy.drop(['volsell', 'volbal','dividend'], axis=1, inplace=True)\n",
    "buy.rename(columns={'volbuy':'shares'},inplace=True)\n",
    "buy['shares'] = buy['shares'].astype('int64')\n",
    "buy.style.format(format_dict)"
   ]
  },
  {
   "cell_type": "code",
   "execution_count": null,
   "metadata": {},
   "outputs": [],
   "source": [
    "sqlUpd = \"\"\"\n",
    "UPDATE buy\n",
    "SET volbuy = volbuy + %s\n",
    "WHERE name = '%s'\n",
    "\"\"\"\n",
    "sqlUpd = sqlUpd % (qty, name)\n",
    "print(sqlUpd)"
   ]
  },
  {
   "cell_type": "code",
   "execution_count": null,
   "metadata": {},
   "outputs": [],
   "source": [
    "rp = const.execute(sqlUpd)\n",
    "rp.rowcount"
   ]
  },
  {
   "cell_type": "code",
   "execution_count": null,
   "metadata": {},
   "outputs": [],
   "source": [
    "sql = \"\"\"\n",
    "SELECT * \n",
    "FROM buy \n",
    "WHERE name = '%s'\n",
    "\"\"\"\n",
    "sql = sql % name\n",
    "print(sql)\n",
    "\n",
    "buy = pd.read_sql(sql, const)\n",
    "buy.drop(['volsell', 'volbal','dividend'], axis=1, inplace=True)\n",
    "buy.rename(columns={'volbuy':'shares'},inplace=True)\n",
    "buy['shares'] = buy['shares'].astype('int64')\n",
    "buy.style.format(format_dict)"
   ]
  },
  {
   "cell_type": "markdown",
   "metadata": {},
   "source": [
    "### If shares become zero and want to delete from buy table"
   ]
  },
  {
   "cell_type": "code",
   "execution_count": null,
   "metadata": {},
   "outputs": [],
   "source": [
    "sqlDel = \"\"\"\n",
    "DELETE FROM buy\n",
    "WHERE name = '%s' AND volbuy = 0\"\"\"\n",
    "sqlDel = sqlDel % name\n",
    "print(sqlDel)"
   ]
  },
  {
   "cell_type": "code",
   "execution_count": null,
   "metadata": {},
   "outputs": [],
   "source": [
    "rp = const.execute(sqlDel)\n",
    "rp.rowcount"
   ]
  },
  {
   "cell_type": "markdown",
   "metadata": {},
   "source": [
    "### End of Update buy table in MySQL stock database from sale transaction"
   ]
  },
  {
   "cell_type": "markdown",
   "metadata": {},
   "source": [
    "### Begin of Update dividend table in MySQL stock database from sale transaction"
   ]
  },
  {
   "cell_type": "code",
   "execution_count": null,
   "metadata": {},
   "outputs": [],
   "source": [
    "sql = \"\"\"\n",
    "SELECT * \n",
    "FROM dividend \n",
    "WHERE name = '%s'\n",
    "\"\"\"\n",
    "sql = sql % name\n",
    "print(sql)\n",
    "\n",
    "dividend = pd.read_sql(sql, const)\n",
    "dividend.drop(['PRICE', 'PERCENT'], axis=1, inplace=True)\n",
    "dividend.columns = dividend.columns.str.lower()\n",
    "dividend['shares'] = dividend['shares'].astype('int64')\n",
    "dividend['xdate'] = pd.to_datetime(dividend['xdate'])\n",
    "dividend['paiddate'] = pd.to_datetime(dividend['paiddate'])\n",
    "dividend.style.format(format_dict)"
   ]
  },
  {
   "cell_type": "code",
   "execution_count": null,
   "metadata": {},
   "outputs": [],
   "source": [
    "sqlUpd = \"\"\"\n",
    "UPDATE dividend\n",
    "SET shares = shares + %s\n",
    "WHERE name = '%s'\n",
    "\"\"\"\n",
    "sqlUpd = sqlUpd % (qty, name)\n",
    "print(sqlUpd)"
   ]
  },
  {
   "cell_type": "code",
   "execution_count": null,
   "metadata": {},
   "outputs": [],
   "source": [
    "rp = const.execute(sqlUpd)\n",
    "rp.rowcount"
   ]
  },
  {
   "cell_type": "code",
   "execution_count": null,
   "metadata": {},
   "outputs": [],
   "source": [
    "sql = \"\"\"\n",
    "SELECT * \n",
    "FROM dividend \n",
    "WHERE name = '%s'\n",
    "\"\"\"\n",
    "sql = sql % name\n",
    "print(sql)\n",
    "\n",
    "dividend = pd.read_sql(sql, const)\n",
    "dividend.drop(['PRICE', 'PERCENT'], axis=1, inplace=True)\n",
    "dividend.columns = dividend.columns.str.lower()\n",
    "dividend['shares'] = dividend['shares'].astype('int64')\n",
    "dividend['xdate'] = pd.to_datetime(dividend['xdate'])\n",
    "dividend['paiddate'] = pd.to_datetime(dividend['paiddate'])\n",
    "dividend.style.format(format_dict)"
   ]
  },
  {
   "cell_type": "markdown",
   "metadata": {},
   "source": [
    "### If shares become zero and want to delete from DIVIDEND table"
   ]
  },
  {
   "cell_type": "code",
   "execution_count": null,
   "metadata": {},
   "outputs": [],
   "source": [
    "sqlDel = \"\"\"\n",
    "DELETE FROM dividend\n",
    "WHERE name = '%s'\n",
    "\"\"\"\n",
    "sqlDel = sqlDel % (name)\n",
    "print(sqlDel)"
   ]
  },
  {
   "cell_type": "code",
   "execution_count": null,
   "metadata": {},
   "outputs": [],
   "source": [
    "rp = const.execute(sqlDel)\n",
    "rp.rowcount"
   ]
  },
  {
   "cell_type": "markdown",
   "metadata": {},
   "source": [
    "### End of Update dividend table in MySQL stock database from sale transaction"
   ]
  },
  {
   "cell_type": "markdown",
   "metadata": {},
   "source": [
    "### Begin of Update stocks table in SQLite port_lite database from sale transaction"
   ]
  },
  {
   "cell_type": "code",
   "execution_count": null,
   "metadata": {},
   "outputs": [],
   "source": [
    "sql = \"\"\"\n",
    "SELECT * \n",
    "FROM stocks \n",
    "WHERE name = '%s'\n",
    "\"\"\"\n",
    "sql = sql % name\n",
    "print(sql)\n",
    "\n",
    "stocks = pd.read_sql(sql, conlite)\n",
    "stocks.style.format(format_dict)"
   ]
  },
  {
   "cell_type": "code",
   "execution_count": null,
   "metadata": {},
   "outputs": [],
   "source": [
    "buy_target  = 57.50  # must calculate manually beforehand\n",
    "sell_target = 60.50\n",
    "status = 'O'\n",
    "reason = \"P50%\"\n",
    "sell_qty = 3000\n",
    "\n",
    "sqlUpd = \"\"\"\n",
    "UPDATE stocks\n",
    "SET available_qty = available_qty + %s,\n",
    "qty = %s, buy_target = %s, sell_target = %s, reason = '%s', status = '%s'\n",
    "WHERE name = '%s'\n",
    "\"\"\"\n",
    "sqlUpd = sqlUpd % (qty, sell_qty, buy_target, sell_target, reason, status, name)\n",
    "print(sqlUpd)"
   ]
  },
  {
   "cell_type": "code",
   "execution_count": null,
   "metadata": {},
   "outputs": [],
   "source": [
    "rp = conlite.execute(sqlUpd)\n",
    "rp.rowcount"
   ]
  },
  {
   "cell_type": "code",
   "execution_count": null,
   "metadata": {},
   "outputs": [],
   "source": [
    "sql = \"\"\"\n",
    "SELECT * \n",
    "FROM stocks \n",
    "WHERE name = '%s'\n",
    "\"\"\"\n",
    "sql = sql % name\n",
    "print(sql)\n",
    "\n",
    "stocks = pd.read_sql(sql, conlite)\n",
    "stocks.style.format(format_dict)"
   ]
  },
  {
   "cell_type": "markdown",
   "metadata": {},
   "source": [
    "### End of Update stocks table in SQLite port_lite database from sale transaction"
   ]
  },
  {
   "cell_type": "markdown",
   "metadata": {},
   "source": [
    "### If shares become zero and no longer wants to keep STOCK record"
   ]
  },
  {
   "cell_type": "code",
   "execution_count": null,
   "metadata": {},
   "outputs": [],
   "source": [
    "sqlDel = \"\"\"\n",
    "DELETE FROM stocks\n",
    "WHERE name = '%s' AND available_qty = 0\n",
    "\"\"\"\n",
    "sqlDel = sqlDel % name\n",
    "print(sqlDel)"
   ]
  },
  {
   "cell_type": "code",
   "execution_count": null,
   "metadata": {},
   "outputs": [],
   "source": [
    "rp = conlite.execute(sqlDel)\n",
    "rp.rowcount"
   ]
  },
  {
   "cell_type": "markdown",
   "metadata": {},
   "source": [
    "## End of Sale process"
   ]
  },
  {
   "cell_type": "markdown",
   "metadata": {},
   "source": [
    "## Begin of  Buy process"
   ]
  },
  {
   "cell_type": "markdown",
   "metadata": {},
   "source": [
    "### Begin of Update buy table in MySQL database from buy transaction"
   ]
  },
  {
   "cell_type": "code",
   "execution_count": 6,
   "metadata": {},
   "outputs": [
    {
     "name": "stdout",
     "output_type": "stream",
     "text": [
      "\n",
      "SELECT * \n",
      "FROM buy \n",
      "WHERE name = 'TOP'\n",
      "\n"
     ]
    },
    {
     "data": {
      "text/html": [
       "<div>\n",
       "<style scoped>\n",
       "    .dataframe tbody tr th:only-of-type {\n",
       "        vertical-align: middle;\n",
       "    }\n",
       "\n",
       "    .dataframe tbody tr th {\n",
       "        vertical-align: top;\n",
       "    }\n",
       "\n",
       "    .dataframe thead th {\n",
       "        text-align: right;\n",
       "    }\n",
       "</style>\n",
       "<table border=\"1\" class=\"dataframe\">\n",
       "  <thead>\n",
       "    <tr style=\"text-align: right;\">\n",
       "      <th></th>\n",
       "      <th>name</th>\n",
       "      <th>date</th>\n",
       "      <th>shares</th>\n",
       "      <th>price</th>\n",
       "      <th>active</th>\n",
       "      <th>dividend</th>\n",
       "      <th>period</th>\n",
       "      <th>grade</th>\n",
       "    </tr>\n",
       "  </thead>\n",
       "  <tbody>\n",
       "    <tr>\n",
       "      <th>0</th>\n",
       "      <td>TOP</td>\n",
       "      <td>2022-06-10</td>\n",
       "      <td>3000</td>\n",
       "      <td>57.5</td>\n",
       "      <td>1</td>\n",
       "      <td>0.0</td>\n",
       "      <td>3</td>\n",
       "      <td>A1</td>\n",
       "    </tr>\n",
       "  </tbody>\n",
       "</table>\n",
       "</div>"
      ],
      "text/plain": [
       "  name       date  shares  price  active  dividend period grade\n",
       "0  TOP 2022-06-10    3000   57.5       1       0.0      3    A1"
      ]
     },
     "execution_count": 6,
     "metadata": {},
     "output_type": "execute_result"
    }
   ],
   "source": [
    "sql = \"\"\"\n",
    "SELECT * \n",
    "FROM buy \n",
    "WHERE name = '%s'\n",
    "\"\"\"\n",
    "sql = sql % name\n",
    "print(sql)\n",
    "\n",
    "buy = pd.read_sql(sql, const)\n",
    "buy['date'] = pd.to_datetime(buy['date'])\n",
    "buy.drop(['volsell', 'volbal'], axis=1, inplace = True)\n",
    "buy.rename(columns={'volbuy':'shares'}, inplace = True)\n",
    "buy['shares'] = buy['shares'].astype('int64')\n",
    "buy"
   ]
  },
  {
   "cell_type": "markdown",
   "metadata": {},
   "source": [
    "### In case there is the same stock name in port"
   ]
  },
  {
   "cell_type": "code",
   "execution_count": null,
   "metadata": {},
   "outputs": [],
   "source": [
    "new_cost = 10.20 # new average cost must be calculated manually beforehand\n",
    "sqlUpd = \"\"\"\n",
    "UPDATE buy\n",
    "SET volbuy = volbuy + %s, price = %s\n",
    "WHERE name = '%s'\n",
    "\"\"\"\n",
    "sqlUpd = sqlUpd % (qty, new_cost, name)\n",
    "print(sqlUpd)"
   ]
  },
  {
   "cell_type": "code",
   "execution_count": null,
   "metadata": {},
   "outputs": [],
   "source": [
    "rp = const.execute(sqlUpd)\n",
    "rp.rowcount"
   ]
  },
  {
   "cell_type": "code",
   "execution_count": null,
   "metadata": {},
   "outputs": [],
   "source": [
    "sql = \"\"\"\n",
    "SELECT * \n",
    "FROM buy \n",
    "WHERE name = '%s'\n",
    "\"\"\"\n",
    "sql = sql % name\n",
    "print(sql)\n",
    "\n",
    "buy = pd.read_sql(sql, const)\n",
    "buy.drop(['volsell', 'volbal'], axis=1, inplace=True)\n",
    "buy.rename(columns={'volbuy':'shares'},inplace=True)\n",
    "buy['shares'] = buy['shares'].astype('int64')\n",
    "buy.style.format(format_dict)"
   ]
  },
  {
   "cell_type": "markdown",
   "metadata": {},
   "source": [
    "### In case of totally new stock"
   ]
  },
  {
   "cell_type": "code",
   "execution_count": null,
   "metadata": {},
   "outputs": [],
   "source": [
    "rcd = ['TOP', '2022-06-10', 3000, 57.50, 0, 0, 1, 0, 3,'A1']\n",
    "rcd"
   ]
  },
  {
   "cell_type": "code",
   "execution_count": null,
   "metadata": {},
   "outputs": [],
   "source": [
    "sqlIns = \"\"\"\n",
    "INSERT INTO buy (name, date, volbuy, price, volsell, volbal, active, dividend, period, grade)\n",
    "VALUES (%s, %s, %s, %s, %s, %s, %s, %s, %s, %s)\n",
    "\"\"\"\n",
    "print(sqlIns)"
   ]
  },
  {
   "cell_type": "code",
   "execution_count": null,
   "metadata": {},
   "outputs": [],
   "source": [
    "rp = const.execute(sqlIns, rcd)\n",
    "rp.rowcount"
   ]
  },
  {
   "cell_type": "code",
   "execution_count": null,
   "metadata": {},
   "outputs": [],
   "source": [
    "sql = \"\"\"\n",
    "SELECT * \n",
    "FROM buy \n",
    "WHERE name = '%s'\n",
    "\"\"\"\n",
    "sql = sql % name\n",
    "print(sql)\n",
    "\n",
    "buy = pd.read_sql(sql, const)\n",
    "buy.drop(['volsell', 'volbal'], axis=1, inplace=True)\n",
    "buy.rename(columns={'volbuy':'shares'},inplace=True)\n",
    "buy['shares'] = buy['shares'].astype('int64')\n",
    "buy"
   ]
  },
  {
   "cell_type": "markdown",
   "metadata": {},
   "source": [
    "### End of Update buy table in MySQL database from buy transaction"
   ]
  },
  {
   "cell_type": "markdown",
   "metadata": {},
   "source": [
    "### Begin of Update dividend table in MySQL stock database from buy transaction"
   ]
  },
  {
   "cell_type": "code",
   "execution_count": null,
   "metadata": {},
   "outputs": [],
   "source": [
    "sql = \"\"\"\n",
    "SELECT * \n",
    "FROM dividend \n",
    "WHERE name = '%s' \n",
    "\"\"\"\n",
    "sql = sql % name\n",
    "print(sql)\n",
    "\n",
    "dividend = pd.read_sql(sql, const)\n",
    "dividend.drop(['PRICE', 'PERCENT'], axis=1, inplace=True)\n",
    "dividend.columns = dividend.columns.str.lower()\n",
    "dividend['shares'] = dividend['shares'].astype('int64')\n",
    "dividend['xdate'] = pd.to_datetime(dividend['xdate'])\n",
    "dividend['paiddate'] = pd.to_datetime(dividend['paiddate'])\n",
    "dividend.style.format(format_dict)"
   ]
  },
  {
   "cell_type": "code",
   "execution_count": null,
   "metadata": {},
   "outputs": [],
   "source": [
    "sqlUpd = \"\"\"\n",
    "UPDATE dividend\n",
    "SET shares = shares + %s\n",
    "WHERE name = '%s'\n",
    "\"\"\"\n",
    "sqlUpd = sqlUpd % (qty, name)\n",
    "print(sqlUpd)"
   ]
  },
  {
   "cell_type": "code",
   "execution_count": null,
   "metadata": {},
   "outputs": [],
   "source": [
    "rp = const.execute(sqlUpd)\n",
    "rp.rowcount"
   ]
  },
  {
   "cell_type": "code",
   "execution_count": null,
   "metadata": {},
   "outputs": [],
   "source": [
    "sql = \"\"\"\n",
    "SELECT * \n",
    "FROM dividend \n",
    "WHERE name = '%s' \n",
    "\"\"\"\n",
    "sql = sql % name\n",
    "print(sql)\n",
    "\n",
    "dividend = pd.read_sql(sql, const)\n",
    "dividend.drop(['PRICE', 'PERCENT'], axis=1, inplace=True)\n",
    "dividend.columns = dividend.columns.str.lower()\n",
    "dividend['shares'] = dividend['shares'].astype('int64')\n",
    "dividend['xdate'] = pd.to_datetime(dividend['xdate'])\n",
    "dividend['paiddate'] = pd.to_datetime(dividend['paiddate'])\n",
    "dividend.style.format(format_dict)"
   ]
  },
  {
   "cell_type": "markdown",
   "metadata": {},
   "source": [
    "### In case of totally new stock"
   ]
  },
  {
   "cell_type": "code",
   "execution_count": null,
   "metadata": {},
   "outputs": [],
   "source": [
    "rcd = ['TTB', 0.038, 0, 0, 0, .038, 100000, '2022-04-21', '2022-05-11', '', 0]\n",
    "rcd"
   ]
  },
  {
   "cell_type": "code",
   "execution_count": null,
   "metadata": {},
   "outputs": [],
   "source": [
    "sqlIns = \"\"\"\n",
    "INSERT INTO dividend (name, q4, q3, q2, q1, dividend, shares, xdate, paiddate, kind, actual)\n",
    "VALUES (%s, %s, %s, %s, %s, %s, %s, %s, %s, %s, %s)\n",
    "\"\"\"\n",
    "print(sqlIns)"
   ]
  },
  {
   "cell_type": "code",
   "execution_count": null,
   "metadata": {},
   "outputs": [],
   "source": [
    "rp = const.execute(sqlIns, rcd)\n",
    "rp.rowcount"
   ]
  },
  {
   "cell_type": "markdown",
   "metadata": {},
   "source": [
    "### End of Create dividend table in MySQL stock database from buy transaction"
   ]
  },
  {
   "cell_type": "markdown",
   "metadata": {},
   "source": [
    "### Begin of Update stocks table in SQLite port_lite database from buy transaction"
   ]
  },
  {
   "cell_type": "code",
   "execution_count": null,
   "metadata": {
    "scrolled": true
   },
   "outputs": [],
   "source": [
    "sql = \"\"\"\n",
    "SELECT * \n",
    "FROM stocks \n",
    "WHERE name = '%s'\n",
    "\"\"\"\n",
    "sql = sql % name\n",
    "print(sql)\n",
    "\n",
    "stocks = pd.read_sql(sql, conlite)\n",
    "stocks"
   ]
  },
  {
   "cell_type": "code",
   "execution_count": null,
   "metadata": {},
   "outputs": [],
   "source": [
    "new_cost = 57.50\n",
    "buy_target = 0\n",
    "sell_target = 60.50\n",
    "status = 'I'\n",
    "reason = '5pct'\n",
    "new_buy_qty = 3000\n",
    "new_sell_qty = 3000\n",
    "new_cost, buy_target, sell_target, status, reason, new_buy_qty, new_sell_qty "
   ]
  },
  {
   "cell_type": "code",
   "execution_count": null,
   "metadata": {},
   "outputs": [],
   "source": [
    "sqlUpd = \"\"\"\n",
    "UPDATE stocks\n",
    "SET available_qty = available_qty + %s, \n",
    "cost = %s, buy_target = %s, sell_target = %s, status = '%s', \n",
    "reason = '%s', qty = %s\n",
    "WHERE name = '%s'\n",
    "\"\"\"\n",
    "sqlUpd = sqlUpd % (qty, new_cost, buy_target, sell_target, status, reason, new_sell_qty, name)\n",
    "print(sqlUpd)"
   ]
  },
  {
   "cell_type": "code",
   "execution_count": null,
   "metadata": {},
   "outputs": [],
   "source": [
    "rp = conlite.execute(sqlUpd)\n",
    "rp.rowcount"
   ]
  },
  {
   "cell_type": "code",
   "execution_count": null,
   "metadata": {},
   "outputs": [],
   "source": [
    "sql = \"\"\"\n",
    "SELECT * \n",
    "FROM stocks \n",
    "WHERE name = '%s'\n",
    "\"\"\"\n",
    "sql = sql % name\n",
    "print(sql)\n",
    "\n",
    "stocks = pd.read_sql(sql, conlite)\n",
    "stocks.style.format(format_dict)"
   ]
  },
  {
   "cell_type": "markdown",
   "metadata": {},
   "source": [
    "### End of Update stocks table in SQLite port_lite database from buy transaction"
   ]
  },
  {
   "cell_type": "markdown",
   "metadata": {},
   "source": [
    "## End of  Buy process"
   ]
  },
  {
   "cell_type": "code",
   "execution_count": null,
   "metadata": {},
   "outputs": [],
   "source": []
  }
 ],
 "metadata": {
  "anaconda-cloud": {},
  "kernelspec": {
   "display_name": "Python 3 (ipykernel)",
   "language": "python",
   "name": "python3"
  },
  "language_info": {
   "codemirror_mode": {
    "name": "ipython",
    "version": 3
   },
   "file_extension": ".py",
   "mimetype": "text/x-python",
   "name": "python",
   "nbconvert_exporter": "python",
   "pygments_lexer": "ipython3",
   "version": "3.8.11"
  }
 },
 "nbformat": 4,
 "nbformat_minor": 1
}
