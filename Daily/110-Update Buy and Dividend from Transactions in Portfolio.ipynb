{
 "cells": [
  {
   "cell_type": "code",
   "execution_count": 1,
   "metadata": {},
   "outputs": [
    {
     "data": {
      "text/plain": [
       "datetime.date(2022, 4, 20)"
      ]
     },
     "execution_count": 1,
     "metadata": {},
     "output_type": "execute_result"
    }
   ],
   "source": [
    "import pandas as pd\n",
    "from datetime import date, timedelta\n",
    "from sqlalchemy import create_engine\n",
    "\n",
    "engine = create_engine('mysql+pymysql://root:@localhost:3306/portfolio_development')\n",
    "conpf = engine.connect()\n",
    "\n",
    "engine = create_engine(\"mysql+pymysql://root:@localhost:3306/stock\")\n",
    "const = engine.connect()\n",
    "\n",
    "engine = create_engine(\"sqlite:///c:\\\\ruby\\\\port_lite\\\\db\\\\development.sqlite3\")\n",
    "conlite = engine.connect()\n",
    "\n",
    "today = date.today()\n",
    "today"
   ]
  },
  {
   "cell_type": "markdown",
   "metadata": {},
   "source": [
    "### Tables in the process"
   ]
  },
  {
   "cell_type": "code",
   "execution_count": 2,
   "metadata": {},
   "outputs": [],
   "source": [
    "format_dict = {\n",
    "    'shares':'{:,}',    \n",
    "    'price':'{:.2f}',\n",
    "    'dividend':'{:.4f}', \n",
    "    'date':'{:%Y-%m-%d}', \n",
    "    \n",
    "    'qty':'{:,}','shares':'{:,}',\n",
    "    'price':'{:.2f}','buy_price':'{:.2f}',\n",
    "    'dividend':'{:.4f}',    \n",
    "    'fee':'{:,.2f}','vat':'{:,.2f}','net':'{:,.2f}',\n",
    "  \n",
    "    'days':'{:,}',\n",
    "    'price':'{:.2f}',\n",
    "    'fee':'{:,.2f}','vat':'{:,.2f}','net':'{:,.2f}','profit':'{:,.2f}',\n",
    "    'percent':'{:,.2f}%','yearly':'{:,.2f}%',   \n",
    "    \n",
    "    'shares':'{:,}',    \n",
    "    'q4':'{:.4f}','q3':'{:.4f}','q2':'{:.4f}','q1':'{:.4f}','dividend':'{:.4f}',\n",
    "    'xdate':'{:%Y-%m-%d}','paiddate':'{:%Y-%m-%d}',\n",
    "    \n",
    "    'qty':'{:,}','available_qty':'{:,}',\n",
    "    'cost':'{:.2f}','max_price':'{:.2f}','min_price':'{:.2f}','buy_target':'{:.2f}','sell_target':'{:.2f}',\n",
    "    'volume':'{:,.2f}','beta':'{:,.2f}',\n",
    "    \n",
    "    'qty':'{:,}','available_qty':'{:,}',\n",
    "    'cost':'{:.2f}','max_price':'{:.2f}','min_price':'{:.2f}','buy_target':'{:.2f}','sell_target':'{:.2f}',\n",
    "    'volume':'{:,.2f}','beta':'{:,.2f}',\n",
    "    }"
   ]
  },
  {
   "cell_type": "code",
   "execution_count": 3,
   "metadata": {},
   "outputs": [
    {
     "data": {
      "text/html": [
       "<style type=\"text/css\">\n",
       "</style>\n",
       "<table id=\"T_a8c12_\">\n",
       "  <thead>\n",
       "    <tr>\n",
       "      <th class=\"blank level0\" >&nbsp;</th>\n",
       "      <th class=\"col_heading level0 col0\" >name</th>\n",
       "      <th class=\"col_heading level0 col1\" >stock_id</th>\n",
       "      <th class=\"col_heading level0 col2\" >buy_date</th>\n",
       "      <th class=\"col_heading level0 col3\" >qty</th>\n",
       "      <th class=\"col_heading level0 col4\" >buy_price</th>\n",
       "      <th class=\"col_heading level0 col5\" >id</th>\n",
       "      <th class=\"col_heading level0 col6\" >buy_id</th>\n",
       "      <th class=\"col_heading level0 col7\" >date</th>\n",
       "      <th class=\"col_heading level0 col8\" >price</th>\n",
       "      <th class=\"col_heading level0 col9\" >fee</th>\n",
       "      <th class=\"col_heading level0 col10\" >vat</th>\n",
       "      <th class=\"col_heading level0 col11\" >net</th>\n",
       "      <th class=\"col_heading level0 col12\" >days</th>\n",
       "      <th class=\"col_heading level0 col13\" >profit</th>\n",
       "      <th class=\"col_heading level0 col14\" >percent</th>\n",
       "      <th class=\"col_heading level0 col15\" >yearly</th>\n",
       "      <th class=\"col_heading level0 col16\" >sequence</th>\n",
       "      <th class=\"col_heading level0 col17\" >chart</th>\n",
       "      <th class=\"col_heading level0 col18\" >dividend_id</th>\n",
       "    </tr>\n",
       "  </thead>\n",
       "  <tbody>\n",
       "    <tr>\n",
       "      <th id=\"T_a8c12_level0_row0\" class=\"row_heading level0 row0\" >0</th>\n",
       "      <td id=\"T_a8c12_row0_col0\" class=\"data row0 col0\" >DOHOME</td>\n",
       "      <td id=\"T_a8c12_row0_col1\" class=\"data row0 col1\" >187</td>\n",
       "      <td id=\"T_a8c12_row0_col2\" class=\"data row0 col2\" >2022-03-24</td>\n",
       "      <td id=\"T_a8c12_row0_col3\" class=\"data row0 col3\" >2,400</td>\n",
       "      <td id=\"T_a8c12_row0_col4\" class=\"data row0 col4\" >21.30</td>\n",
       "      <td id=\"T_a8c12_row0_col5\" class=\"data row0 col5\" >954</td>\n",
       "      <td id=\"T_a8c12_row0_col6\" class=\"data row0 col6\" >1153</td>\n",
       "      <td id=\"T_a8c12_row0_col7\" class=\"data row0 col7\" >2022-04-20</td>\n",
       "      <td id=\"T_a8c12_row0_col8\" class=\"data row0 col8\" >22.40</td>\n",
       "      <td id=\"T_a8c12_row0_col9\" class=\"data row0 col9\" >111.28</td>\n",
       "      <td id=\"T_a8c12_row0_col10\" class=\"data row0 col10\" >7.79</td>\n",
       "      <td id=\"T_a8c12_row0_col11\" class=\"data row0 col11\" >53,640.93</td>\n",
       "      <td id=\"T_a8c12_row0_col12\" class=\"data row0 col12\" >27</td>\n",
       "      <td id=\"T_a8c12_row0_col13\" class=\"data row0 col13\" >2,407.70</td>\n",
       "      <td id=\"T_a8c12_row0_col14\" class=\"data row0 col14\" >4.70%</td>\n",
       "      <td id=\"T_a8c12_row0_col15\" class=\"data row0 col15\" >63.53%</td>\n",
       "      <td id=\"T_a8c12_row0_col16\" class=\"data row0 col16\" >46</td>\n",
       "      <td id=\"T_a8c12_row0_col17\" class=\"data row0 col17\" >None</td>\n",
       "      <td id=\"T_a8c12_row0_col18\" class=\"data row0 col18\" >0</td>\n",
       "    </tr>\n",
       "  </tbody>\n",
       "</table>\n"
      ],
      "text/plain": [
       "<pandas.io.formats.style.Styler at 0x1f02e23feb0>"
      ]
     },
     "execution_count": 3,
     "metadata": {},
     "output_type": "execute_result"
    }
   ],
   "source": [
    "# Sells table in MySQL portfolio database\n",
    "sql = \"\"\"\n",
    "SELECT name, stock_id, B.date AS buy_date, qty, B.price AS buy_price, S.* \n",
    "FROM sells S\n",
    "JOIN buys B ON S.buy_id = B.id\n",
    "JOIN stocks T ON B.stock_id = T.id\n",
    "ORDER BY S.id DESC\n",
    "LIMIT 1\"\"\"\n",
    "sells = pd.read_sql(sql, conpf)\n",
    "sells.style.format(format_dict)"
   ]
  },
  {
   "cell_type": "markdown",
   "metadata": {},
   "source": [
    "### In case of sale, retreive buy id from sells record (buy_id)"
   ]
  },
  {
   "cell_type": "code",
   "execution_count": 4,
   "metadata": {},
   "outputs": [
    {
     "name": "stdout",
     "output_type": "stream",
     "text": [
      "\n",
      "SELECT name, B.* \n",
      "FROM buys B\n",
      "JOIN stocks T \n",
      "ON B.stock_id = T.id\n",
      "WHERE B.id = 1153\n",
      "\n"
     ]
    },
    {
     "data": {
      "text/html": [
       "<style type=\"text/css\">\n",
       "</style>\n",
       "<table id=\"T_f00ca_\">\n",
       "  <thead>\n",
       "    <tr>\n",
       "      <th class=\"blank level0\" >&nbsp;</th>\n",
       "      <th class=\"col_heading level0 col0\" >name</th>\n",
       "      <th class=\"col_heading level0 col1\" >id</th>\n",
       "      <th class=\"col_heading level0 col2\" >stock_id</th>\n",
       "      <th class=\"col_heading level0 col3\" >date</th>\n",
       "      <th class=\"col_heading level0 col4\" >qty</th>\n",
       "      <th class=\"col_heading level0 col5\" >price</th>\n",
       "      <th class=\"col_heading level0 col6\" >fee</th>\n",
       "      <th class=\"col_heading level0 col7\" >vat</th>\n",
       "      <th class=\"col_heading level0 col8\" >status</th>\n",
       "      <th class=\"col_heading level0 col9\" >net</th>\n",
       "      <th class=\"col_heading level0 col10\" >kind</th>\n",
       "      <th class=\"col_heading level0 col11\" >chart</th>\n",
       "    </tr>\n",
       "  </thead>\n",
       "  <tbody>\n",
       "    <tr>\n",
       "      <th id=\"T_f00ca_level0_row0\" class=\"row_heading level0 row0\" >0</th>\n",
       "      <td id=\"T_f00ca_row0_col0\" class=\"data row0 col0\" >DOHOME</td>\n",
       "      <td id=\"T_f00ca_row0_col1\" class=\"data row0 col1\" >1153</td>\n",
       "      <td id=\"T_f00ca_row0_col2\" class=\"data row0 col2\" >187</td>\n",
       "      <td id=\"T_f00ca_row0_col3\" class=\"data row0 col3\" >2022-03-24</td>\n",
       "      <td id=\"T_f00ca_row0_col4\" class=\"data row0 col4\" >2,400</td>\n",
       "      <td id=\"T_f00ca_row0_col5\" class=\"data row0 col5\" >21.30</td>\n",
       "      <td id=\"T_f00ca_row0_col6\" class=\"data row0 col6\" >105.82</td>\n",
       "      <td id=\"T_f00ca_row0_col7\" class=\"data row0 col7\" >7.41</td>\n",
       "      <td id=\"T_f00ca_row0_col8\" class=\"data row0 col8\" >Sold</td>\n",
       "      <td id=\"T_f00ca_row0_col9\" class=\"data row0 col9\" >51,233.23</td>\n",
       "      <td id=\"T_f00ca_row0_col10\" class=\"data row0 col10\" >DTD</td>\n",
       "      <td id=\"T_f00ca_row0_col11\" class=\"data row0 col11\" >None</td>\n",
       "    </tr>\n",
       "  </tbody>\n",
       "</table>\n"
      ],
      "text/plain": [
       "<pandas.io.formats.style.Styler at 0x1f02b615100>"
      ]
     },
     "execution_count": 4,
     "metadata": {},
     "output_type": "execute_result"
    }
   ],
   "source": [
    "# Buys table in MySQL portfolio database\n",
    "transaction = 'S'\n",
    "\n",
    "names = sells['name']\n",
    "name = names.to_string(index=False)\n",
    "\n",
    "sr_qty = sells['qty']\n",
    "qty = sr_qty.to_string(index=False)\n",
    "qty = int(qty) * -1\n",
    "\n",
    "sr_price = sells['buy_price']\n",
    "buy_price = sr_price.to_string(index=False)\n",
    "buy_price = float(buy_price)\n",
    "\n",
    "sr_price = sells['price']\n",
    "sell_price = sr_price.to_string(index=False)\n",
    "sell_price = float(sell_price)\n",
    "\n",
    "buy_ids = sells['buy_id']\n",
    "buy_id = buy_ids.to_string(index=False)\n",
    "\n",
    "sql = \"\"\"\n",
    "SELECT name, B.* \n",
    "FROM buys B\n",
    "JOIN stocks T \n",
    "ON B.stock_id = T.id\n",
    "WHERE B.id = %s\n",
    "\"\"\"\n",
    "sql = sql % buy_id\n",
    "print(sql)\n",
    "\n",
    "buys = pd.read_sql(sql, conpf)\n",
    "buys.style.format(format_dict)"
   ]
  },
  {
   "cell_type": "code",
   "execution_count": 5,
   "metadata": {},
   "outputs": [
    {
     "data": {
      "text/plain": [
       "('S', 'DOHOME', -2400, 22.4, 21.3)"
      ]
     },
     "execution_count": 5,
     "metadata": {},
     "output_type": "execute_result"
    }
   ],
   "source": [
    "transaction, name, qty, sell_price, buy_price"
   ]
  },
  {
   "cell_type": "markdown",
   "metadata": {},
   "source": [
    "### In case of buy, retreive buy id from latest buy record (id)"
   ]
  },
  {
   "cell_type": "code",
   "execution_count": null,
   "metadata": {},
   "outputs": [],
   "source": [
    "sql = \"\"\"\n",
    "SELECT name, B.* \n",
    "FROM buys B\n",
    "JOIN stocks T \n",
    "ON B.stock_id = T.id\n",
    "ORDER BY id DESC\n",
    "LIMIT 1\n",
    "\"\"\"\n",
    "print(sql)\n",
    "buys = pd.read_sql(sql, conpf)\n",
    "buys.style.format(format_dict)"
   ]
  },
  {
   "cell_type": "code",
   "execution_count": null,
   "metadata": {},
   "outputs": [],
   "source": [
    "transaction = 'B'\n",
    "\n",
    "names = buys['name']\n",
    "name = names.to_string(index=False)\n",
    "\n",
    "sr_qty = buys['qty']\n",
    "qty = sr_qty.to_string(index=False)\n",
    "qty = int(qty)\n",
    "\n",
    "sr_price = buys['price']\n",
    "buy_price = sr_price.to_string(index=False)\n",
    "buy_price = float(buy_price)\n",
    "\n",
    "transaction, name, qty, buy_price"
   ]
  },
  {
   "cell_type": "markdown",
   "metadata": {},
   "source": [
    "## Begin of Sale transaction"
   ]
  },
  {
   "cell_type": "markdown",
   "metadata": {},
   "source": [
    "### Begin of Update buy table in MySQL stock database from sale transaction"
   ]
  },
  {
   "cell_type": "code",
   "execution_count": 6,
   "metadata": {},
   "outputs": [
    {
     "name": "stdout",
     "output_type": "stream",
     "text": [
      "\n",
      "SELECT * \n",
      "FROM buy \n",
      "WHERE name = 'DOHOME'\n",
      "\n"
     ]
    },
    {
     "data": {
      "text/html": [
       "<style type=\"text/css\">\n",
       "</style>\n",
       "<table id=\"T_6a412_\">\n",
       "  <thead>\n",
       "    <tr>\n",
       "      <th class=\"blank level0\" >&nbsp;</th>\n",
       "      <th class=\"col_heading level0 col0\" >name</th>\n",
       "      <th class=\"col_heading level0 col1\" >date</th>\n",
       "      <th class=\"col_heading level0 col2\" >shares</th>\n",
       "      <th class=\"col_heading level0 col3\" >price</th>\n",
       "      <th class=\"col_heading level0 col4\" >active</th>\n",
       "      <th class=\"col_heading level0 col5\" >period</th>\n",
       "      <th class=\"col_heading level0 col6\" >grade</th>\n",
       "    </tr>\n",
       "  </thead>\n",
       "  <tbody>\n",
       "    <tr>\n",
       "      <th id=\"T_6a412_level0_row0\" class=\"row_heading level0 row0\" >0</th>\n",
       "      <td id=\"T_6a412_row0_col0\" class=\"data row0 col0\" >DOHOME</td>\n",
       "      <td id=\"T_6a412_row0_col1\" class=\"data row0 col1\" >2021-08-20</td>\n",
       "      <td id=\"T_6a412_row0_col2\" class=\"data row0 col2\" >12,000</td>\n",
       "      <td id=\"T_6a412_row0_col3\" class=\"data row0 col3\" >23.70</td>\n",
       "      <td id=\"T_6a412_row0_col4\" class=\"data row0 col4\" >1</td>\n",
       "      <td id=\"T_6a412_row0_col5\" class=\"data row0 col5\" >4</td>\n",
       "      <td id=\"T_6a412_row0_col6\" class=\"data row0 col6\" >A2</td>\n",
       "    </tr>\n",
       "  </tbody>\n",
       "</table>\n"
      ],
      "text/plain": [
       "<pandas.io.formats.style.Styler at 0x1f02f2891c0>"
      ]
     },
     "execution_count": 6,
     "metadata": {},
     "output_type": "execute_result"
    }
   ],
   "source": [
    "sql = \"\"\"\n",
    "SELECT * \n",
    "FROM buy \n",
    "WHERE name = '%s'\n",
    "\"\"\"\n",
    "sql = sql % name\n",
    "print(sql)\n",
    "\n",
    "buy = pd.read_sql(sql, const)\n",
    "buy.drop(['volsell', 'volbal','dividend'], axis=1, inplace=True)\n",
    "buy.rename(columns={'volbuy':'shares'},inplace=True)\n",
    "buy['shares'] = buy['shares'].astype('int64')\n",
    "buy.style.format(format_dict)"
   ]
  },
  {
   "cell_type": "code",
   "execution_count": 7,
   "metadata": {},
   "outputs": [
    {
     "name": "stdout",
     "output_type": "stream",
     "text": [
      "\n",
      "UPDATE buy\n",
      "SET volbuy = volbuy + -2400\n",
      "WHERE name = 'DOHOME'\n",
      "\n"
     ]
    }
   ],
   "source": [
    "sqlUpd = \"\"\"\n",
    "UPDATE buy\n",
    "SET volbuy = volbuy + %s\n",
    "WHERE name = '%s'\n",
    "\"\"\"\n",
    "sqlUpd = sqlUpd % (qty, name)\n",
    "print(sqlUpd)"
   ]
  },
  {
   "cell_type": "code",
   "execution_count": 8,
   "metadata": {},
   "outputs": [
    {
     "data": {
      "text/plain": [
       "1"
      ]
     },
     "execution_count": 8,
     "metadata": {},
     "output_type": "execute_result"
    }
   ],
   "source": [
    "rp = const.execute(sqlUpd)\n",
    "rp.rowcount"
   ]
  },
  {
   "cell_type": "code",
   "execution_count": 9,
   "metadata": {},
   "outputs": [
    {
     "name": "stdout",
     "output_type": "stream",
     "text": [
      "\n",
      "SELECT * \n",
      "FROM buy \n",
      "WHERE name = 'DOHOME'\n",
      "\n"
     ]
    },
    {
     "data": {
      "text/html": [
       "<style type=\"text/css\">\n",
       "</style>\n",
       "<table id=\"T_9cfa8_\">\n",
       "  <thead>\n",
       "    <tr>\n",
       "      <th class=\"blank level0\" >&nbsp;</th>\n",
       "      <th class=\"col_heading level0 col0\" >name</th>\n",
       "      <th class=\"col_heading level0 col1\" >date</th>\n",
       "      <th class=\"col_heading level0 col2\" >shares</th>\n",
       "      <th class=\"col_heading level0 col3\" >price</th>\n",
       "      <th class=\"col_heading level0 col4\" >active</th>\n",
       "      <th class=\"col_heading level0 col5\" >period</th>\n",
       "      <th class=\"col_heading level0 col6\" >grade</th>\n",
       "    </tr>\n",
       "  </thead>\n",
       "  <tbody>\n",
       "    <tr>\n",
       "      <th id=\"T_9cfa8_level0_row0\" class=\"row_heading level0 row0\" >0</th>\n",
       "      <td id=\"T_9cfa8_row0_col0\" class=\"data row0 col0\" >DOHOME</td>\n",
       "      <td id=\"T_9cfa8_row0_col1\" class=\"data row0 col1\" >2021-08-20</td>\n",
       "      <td id=\"T_9cfa8_row0_col2\" class=\"data row0 col2\" >9,600</td>\n",
       "      <td id=\"T_9cfa8_row0_col3\" class=\"data row0 col3\" >23.70</td>\n",
       "      <td id=\"T_9cfa8_row0_col4\" class=\"data row0 col4\" >1</td>\n",
       "      <td id=\"T_9cfa8_row0_col5\" class=\"data row0 col5\" >4</td>\n",
       "      <td id=\"T_9cfa8_row0_col6\" class=\"data row0 col6\" >A2</td>\n",
       "    </tr>\n",
       "  </tbody>\n",
       "</table>\n"
      ],
      "text/plain": [
       "<pandas.io.formats.style.Styler at 0x1f02e23fd30>"
      ]
     },
     "execution_count": 9,
     "metadata": {},
     "output_type": "execute_result"
    }
   ],
   "source": [
    "sql = \"\"\"\n",
    "SELECT * \n",
    "FROM buy \n",
    "WHERE name = '%s'\n",
    "\"\"\"\n",
    "sql = sql % name\n",
    "print(sql)\n",
    "\n",
    "buy = pd.read_sql(sql, const)\n",
    "buy.drop(['volsell', 'volbal','dividend'], axis=1, inplace=True)\n",
    "buy.rename(columns={'volbuy':'shares'},inplace=True)\n",
    "buy['shares'] = buy['shares'].astype('int64')\n",
    "buy.style.format(format_dict)"
   ]
  },
  {
   "cell_type": "markdown",
   "metadata": {},
   "source": [
    "### If shares become zero and want to delete from buy table"
   ]
  },
  {
   "cell_type": "code",
   "execution_count": null,
   "metadata": {},
   "outputs": [],
   "source": [
    "sqlDel = \"\"\"\n",
    "DELETE FROM buy\n",
    "WHERE name = '%s' AND volbuy = 0\"\"\"\n",
    "sqlDel = sqlDel % name\n",
    "print(sqlDel)"
   ]
  },
  {
   "cell_type": "code",
   "execution_count": null,
   "metadata": {},
   "outputs": [],
   "source": [
    "rp = const.execute(sqlDel)\n",
    "rp.rowcount"
   ]
  },
  {
   "cell_type": "markdown",
   "metadata": {},
   "source": [
    "### End of Update buy table in MySQL stock database from sale transaction"
   ]
  },
  {
   "cell_type": "markdown",
   "metadata": {},
   "source": [
    "### Begin of Update dividend table in MySQL stock database from sale transaction"
   ]
  },
  {
   "cell_type": "code",
   "execution_count": 10,
   "metadata": {},
   "outputs": [
    {
     "name": "stdout",
     "output_type": "stream",
     "text": [
      "\n",
      "SELECT * \n",
      "FROM dividend \n",
      "WHERE name = 'DOHOME'\n",
      "\n"
     ]
    },
    {
     "data": {
      "text/html": [
       "<style type=\"text/css\">\n",
       "</style>\n",
       "<table id=\"T_ae039_\">\n",
       "  <thead>\n",
       "    <tr>\n",
       "      <th class=\"blank level0\" >&nbsp;</th>\n",
       "      <th class=\"col_heading level0 col0\" >name</th>\n",
       "      <th class=\"col_heading level0 col1\" >q4</th>\n",
       "      <th class=\"col_heading level0 col2\" >q3</th>\n",
       "      <th class=\"col_heading level0 col3\" >q2</th>\n",
       "      <th class=\"col_heading level0 col4\" >q1</th>\n",
       "      <th class=\"col_heading level0 col5\" >dividend</th>\n",
       "      <th class=\"col_heading level0 col6\" >shares</th>\n",
       "      <th class=\"col_heading level0 col7\" >xdate</th>\n",
       "      <th class=\"col_heading level0 col8\" >paiddate</th>\n",
       "      <th class=\"col_heading level0 col9\" >kind</th>\n",
       "      <th class=\"col_heading level0 col10\" >actual</th>\n",
       "    </tr>\n",
       "  </thead>\n",
       "  <tbody>\n",
       "    <tr>\n",
       "      <th id=\"T_ae039_level0_row0\" class=\"row_heading level0 row0\" >0</th>\n",
       "      <td id=\"T_ae039_row0_col0\" class=\"data row0 col0\" >DOHOME</td>\n",
       "      <td id=\"T_ae039_row0_col1\" class=\"data row0 col1\" >0.0000</td>\n",
       "      <td id=\"T_ae039_row0_col2\" class=\"data row0 col2\" >0.0000</td>\n",
       "      <td id=\"T_ae039_row0_col3\" class=\"data row0 col3\" >0.0000</td>\n",
       "      <td id=\"T_ae039_row0_col4\" class=\"data row0 col4\" >0.0000</td>\n",
       "      <td id=\"T_ae039_row0_col5\" class=\"data row0 col5\" >0.0000</td>\n",
       "      <td id=\"T_ae039_row0_col6\" class=\"data row0 col6\" >12,000</td>\n",
       "      <td id=\"T_ae039_row0_col7\" class=\"data row0 col7\" >2022-02-02</td>\n",
       "      <td id=\"T_ae039_row0_col8\" class=\"data row0 col8\" >2022-02-02</td>\n",
       "      <td id=\"T_ae039_row0_col9\" class=\"data row0 col9\" ></td>\n",
       "      <td id=\"T_ae039_row0_col10\" class=\"data row0 col10\" >0</td>\n",
       "    </tr>\n",
       "  </tbody>\n",
       "</table>\n"
      ],
      "text/plain": [
       "<pandas.io.formats.style.Styler at 0x1f02f2bbe20>"
      ]
     },
     "execution_count": 10,
     "metadata": {},
     "output_type": "execute_result"
    }
   ],
   "source": [
    "sql = \"\"\"\n",
    "SELECT * \n",
    "FROM dividend \n",
    "WHERE name = '%s'\n",
    "\"\"\"\n",
    "sql = sql % name\n",
    "print(sql)\n",
    "\n",
    "dividend = pd.read_sql(sql, const)\n",
    "dividend.drop(['PRICE', 'PERCENT'], axis=1, inplace=True)\n",
    "dividend.columns = dividend.columns.str.lower()\n",
    "dividend['shares'] = dividend['shares'].astype('int64')\n",
    "dividend['xdate'] = pd.to_datetime(dividend['xdate'])\n",
    "dividend['paiddate'] = pd.to_datetime(dividend['paiddate'])\n",
    "dividend.style.format(format_dict)"
   ]
  },
  {
   "cell_type": "code",
   "execution_count": 11,
   "metadata": {},
   "outputs": [
    {
     "name": "stdout",
     "output_type": "stream",
     "text": [
      "\n",
      "UPDATE dividend\n",
      "SET shares = shares + -2400\n",
      "WHERE name = 'DOHOME'\n",
      "\n"
     ]
    }
   ],
   "source": [
    "sqlUpd = \"\"\"\n",
    "UPDATE dividend\n",
    "SET shares = shares + %s\n",
    "WHERE name = '%s'\n",
    "\"\"\"\n",
    "sqlUpd = sqlUpd % (qty, name)\n",
    "print(sqlUpd)"
   ]
  },
  {
   "cell_type": "code",
   "execution_count": 12,
   "metadata": {},
   "outputs": [
    {
     "data": {
      "text/plain": [
       "1"
      ]
     },
     "execution_count": 12,
     "metadata": {},
     "output_type": "execute_result"
    }
   ],
   "source": [
    "rp = const.execute(sqlUpd)\n",
    "rp.rowcount"
   ]
  },
  {
   "cell_type": "code",
   "execution_count": 13,
   "metadata": {},
   "outputs": [
    {
     "name": "stdout",
     "output_type": "stream",
     "text": [
      "\n",
      "SELECT * \n",
      "FROM dividend \n",
      "WHERE name = 'DOHOME'\n",
      "\n"
     ]
    },
    {
     "data": {
      "text/html": [
       "<style type=\"text/css\">\n",
       "</style>\n",
       "<table id=\"T_f6c7b_\">\n",
       "  <thead>\n",
       "    <tr>\n",
       "      <th class=\"blank level0\" >&nbsp;</th>\n",
       "      <th class=\"col_heading level0 col0\" >name</th>\n",
       "      <th class=\"col_heading level0 col1\" >q4</th>\n",
       "      <th class=\"col_heading level0 col2\" >q3</th>\n",
       "      <th class=\"col_heading level0 col3\" >q2</th>\n",
       "      <th class=\"col_heading level0 col4\" >q1</th>\n",
       "      <th class=\"col_heading level0 col5\" >dividend</th>\n",
       "      <th class=\"col_heading level0 col6\" >shares</th>\n",
       "      <th class=\"col_heading level0 col7\" >xdate</th>\n",
       "      <th class=\"col_heading level0 col8\" >paiddate</th>\n",
       "      <th class=\"col_heading level0 col9\" >kind</th>\n",
       "      <th class=\"col_heading level0 col10\" >actual</th>\n",
       "    </tr>\n",
       "  </thead>\n",
       "  <tbody>\n",
       "    <tr>\n",
       "      <th id=\"T_f6c7b_level0_row0\" class=\"row_heading level0 row0\" >0</th>\n",
       "      <td id=\"T_f6c7b_row0_col0\" class=\"data row0 col0\" >DOHOME</td>\n",
       "      <td id=\"T_f6c7b_row0_col1\" class=\"data row0 col1\" >0.0000</td>\n",
       "      <td id=\"T_f6c7b_row0_col2\" class=\"data row0 col2\" >0.0000</td>\n",
       "      <td id=\"T_f6c7b_row0_col3\" class=\"data row0 col3\" >0.0000</td>\n",
       "      <td id=\"T_f6c7b_row0_col4\" class=\"data row0 col4\" >0.0000</td>\n",
       "      <td id=\"T_f6c7b_row0_col5\" class=\"data row0 col5\" >0.0000</td>\n",
       "      <td id=\"T_f6c7b_row0_col6\" class=\"data row0 col6\" >9,600</td>\n",
       "      <td id=\"T_f6c7b_row0_col7\" class=\"data row0 col7\" >2022-02-02</td>\n",
       "      <td id=\"T_f6c7b_row0_col8\" class=\"data row0 col8\" >2022-02-02</td>\n",
       "      <td id=\"T_f6c7b_row0_col9\" class=\"data row0 col9\" ></td>\n",
       "      <td id=\"T_f6c7b_row0_col10\" class=\"data row0 col10\" >0</td>\n",
       "    </tr>\n",
       "  </tbody>\n",
       "</table>\n"
      ],
      "text/plain": [
       "<pandas.io.formats.style.Styler at 0x1f02f289cd0>"
      ]
     },
     "execution_count": 13,
     "metadata": {},
     "output_type": "execute_result"
    }
   ],
   "source": [
    "sql = \"\"\"\n",
    "SELECT * \n",
    "FROM dividend \n",
    "WHERE name = '%s'\n",
    "\"\"\"\n",
    "sql = sql % name\n",
    "print(sql)\n",
    "\n",
    "dividend = pd.read_sql(sql, const)\n",
    "dividend.drop(['PRICE', 'PERCENT'], axis=1, inplace=True)\n",
    "dividend.columns = dividend.columns.str.lower()\n",
    "dividend['shares'] = dividend['shares'].astype('int64')\n",
    "dividend['xdate'] = pd.to_datetime(dividend['xdate'])\n",
    "dividend['paiddate'] = pd.to_datetime(dividend['paiddate'])\n",
    "dividend.style.format(format_dict)"
   ]
  },
  {
   "cell_type": "markdown",
   "metadata": {},
   "source": [
    "### If shares become zero and want to delete from DIVIDEND table"
   ]
  },
  {
   "cell_type": "code",
   "execution_count": null,
   "metadata": {},
   "outputs": [],
   "source": [
    "sqlDel = \"\"\"\n",
    "DELETE FROM dividend\n",
    "WHERE name = '%s'\n",
    "\"\"\"\n",
    "sqlDel = sqlDel % (name)\n",
    "print(sqlDel)"
   ]
  },
  {
   "cell_type": "code",
   "execution_count": null,
   "metadata": {},
   "outputs": [],
   "source": [
    "rp = const.execute(sqlDel)\n",
    "rp.rowcount"
   ]
  },
  {
   "cell_type": "markdown",
   "metadata": {},
   "source": [
    "### End of Update dividend table in MySQL stock database from sale transaction"
   ]
  },
  {
   "cell_type": "markdown",
   "metadata": {},
   "source": [
    "### Begin of Update stocks table in SQLite port_lite database from sale transaction"
   ]
  },
  {
   "cell_type": "code",
   "execution_count": 14,
   "metadata": {},
   "outputs": [
    {
     "name": "stdout",
     "output_type": "stream",
     "text": [
      "\n",
      "SELECT * \n",
      "FROM stocks \n",
      "WHERE name = 'DOHOME'\n",
      "\n"
     ]
    },
    {
     "data": {
      "text/html": [
       "<style type=\"text/css\">\n",
       "</style>\n",
       "<table id=\"T_c552c_\">\n",
       "  <thead>\n",
       "    <tr>\n",
       "      <th class=\"blank level0\" >&nbsp;</th>\n",
       "      <th class=\"col_heading level0 col0\" >id</th>\n",
       "      <th class=\"col_heading level0 col1\" >name</th>\n",
       "      <th class=\"col_heading level0 col2\" >max_price</th>\n",
       "      <th class=\"col_heading level0 col3\" >min_price</th>\n",
       "      <th class=\"col_heading level0 col4\" >status</th>\n",
       "      <th class=\"col_heading level0 col5\" >buy_target</th>\n",
       "      <th class=\"col_heading level0 col6\" >sell_target</th>\n",
       "      <th class=\"col_heading level0 col7\" >volume</th>\n",
       "      <th class=\"col_heading level0 col8\" >beta</th>\n",
       "      <th class=\"col_heading level0 col9\" >cost</th>\n",
       "      <th class=\"col_heading level0 col10\" >qty</th>\n",
       "      <th class=\"col_heading level0 col11\" >buy_spread</th>\n",
       "      <th class=\"col_heading level0 col12\" >sell_spread</th>\n",
       "      <th class=\"col_heading level0 col13\" >available_qty</th>\n",
       "      <th class=\"col_heading level0 col14\" >bl</th>\n",
       "      <th class=\"col_heading level0 col15\" >sh</th>\n",
       "      <th class=\"col_heading level0 col16\" >reason</th>\n",
       "      <th class=\"col_heading level0 col17\" >market</th>\n",
       "    </tr>\n",
       "  </thead>\n",
       "  <tbody>\n",
       "    <tr>\n",
       "      <th id=\"T_c552c_level0_row0\" class=\"row_heading level0 row0\" >0</th>\n",
       "      <td id=\"T_c552c_row0_col0\" class=\"data row0 col0\" >612</td>\n",
       "      <td id=\"T_c552c_row0_col1\" class=\"data row0 col1\" >DOHOME</td>\n",
       "      <td id=\"T_c552c_row0_col2\" class=\"data row0 col2\" >25.62</td>\n",
       "      <td id=\"T_c552c_row0_col3\" class=\"data row0 col3\" >17.58</td>\n",
       "      <td id=\"T_c552c_row0_col4\" class=\"data row0 col4\" >I</td>\n",
       "      <td id=\"T_c552c_row0_col5\" class=\"data row0 col5\" >19.70</td>\n",
       "      <td id=\"T_c552c_row0_col6\" class=\"data row0 col6\" >22.00</td>\n",
       "      <td id=\"T_c552c_row0_col7\" class=\"data row0 col7\" >208.57</td>\n",
       "      <td id=\"T_c552c_row0_col8\" class=\"data row0 col8\" >1.11</td>\n",
       "      <td id=\"T_c552c_row0_col9\" class=\"data row0 col9\" >23.70</td>\n",
       "      <td id=\"T_c552c_row0_col10\" class=\"data row0 col10\" >2,400</td>\n",
       "      <td id=\"T_c552c_row0_col11\" class=\"data row0 col11\" >-9</td>\n",
       "      <td id=\"T_c552c_row0_col12\" class=\"data row0 col12\" >16</td>\n",
       "      <td id=\"T_c552c_row0_col13\" class=\"data row0 col13\" >12,000</td>\n",
       "      <td id=\"T_c552c_row0_col14\" class=\"data row0 col14\" >1</td>\n",
       "      <td id=\"T_c552c_row0_col15\" class=\"data row0 col15\" >0</td>\n",
       "      <td id=\"T_c552c_row0_col16\" class=\"data row0 col16\" >C21.3</td>\n",
       "      <td id=\"T_c552c_row0_col17\" class=\"data row0 col17\" >SET100</td>\n",
       "    </tr>\n",
       "  </tbody>\n",
       "</table>\n"
      ],
      "text/plain": [
       "<pandas.io.formats.style.Styler at 0x1f02f2bb070>"
      ]
     },
     "execution_count": 14,
     "metadata": {},
     "output_type": "execute_result"
    }
   ],
   "source": [
    "sql = \"\"\"\n",
    "SELECT * \n",
    "FROM stocks \n",
    "WHERE name = '%s'\n",
    "\"\"\"\n",
    "sql = sql % name\n",
    "print(sql)\n",
    "\n",
    "stocks = pd.read_sql(sql, conlite)\n",
    "stocks.style.format(format_dict)"
   ]
  },
  {
   "cell_type": "code",
   "execution_count": 15,
   "metadata": {},
   "outputs": [
    {
     "name": "stdout",
     "output_type": "stream",
     "text": [
      "\n",
      "UPDATE stocks\n",
      "SET available_qty = available_qty + -2400,\n",
      "qty = 2400, buy_target = 0, sell_target = 22.5, reason = 'RD15pct', status = 'I'\n",
      "WHERE name = 'DOHOME'\n",
      "\n"
     ]
    }
   ],
   "source": [
    "buy_target  = 0  # must calculate manually beforehand\n",
    "sell_target = 22.5\n",
    "status = 'I'\n",
    "reason = \"RD15pct\"\n",
    "sell_qty = 2400\n",
    "\n",
    "sqlUpd = \"\"\"\n",
    "UPDATE stocks\n",
    "SET available_qty = available_qty + %s,\n",
    "qty = %s, buy_target = %s, sell_target = %s, reason = '%s', status = '%s'\n",
    "WHERE name = '%s'\n",
    "\"\"\"\n",
    "sqlUpd = sqlUpd % (qty, sell_qty, buy_target, sell_target, reason, status, name)\n",
    "print(sqlUpd)"
   ]
  },
  {
   "cell_type": "code",
   "execution_count": 16,
   "metadata": {},
   "outputs": [
    {
     "data": {
      "text/plain": [
       "1"
      ]
     },
     "execution_count": 16,
     "metadata": {},
     "output_type": "execute_result"
    }
   ],
   "source": [
    "rp = conlite.execute(sqlUpd)\n",
    "rp.rowcount"
   ]
  },
  {
   "cell_type": "code",
   "execution_count": 18,
   "metadata": {},
   "outputs": [
    {
     "name": "stdout",
     "output_type": "stream",
     "text": [
      "\n",
      "SELECT * \n",
      "FROM stocks \n",
      "WHERE name = 'DOHOME'\n",
      "\n"
     ]
    },
    {
     "data": {
      "text/html": [
       "<style type=\"text/css\">\n",
       "</style>\n",
       "<table id=\"T_71ddc_\">\n",
       "  <thead>\n",
       "    <tr>\n",
       "      <th class=\"blank level0\" >&nbsp;</th>\n",
       "      <th class=\"col_heading level0 col0\" >id</th>\n",
       "      <th class=\"col_heading level0 col1\" >name</th>\n",
       "      <th class=\"col_heading level0 col2\" >max_price</th>\n",
       "      <th class=\"col_heading level0 col3\" >min_price</th>\n",
       "      <th class=\"col_heading level0 col4\" >status</th>\n",
       "      <th class=\"col_heading level0 col5\" >buy_target</th>\n",
       "      <th class=\"col_heading level0 col6\" >sell_target</th>\n",
       "      <th class=\"col_heading level0 col7\" >volume</th>\n",
       "      <th class=\"col_heading level0 col8\" >beta</th>\n",
       "      <th class=\"col_heading level0 col9\" >cost</th>\n",
       "      <th class=\"col_heading level0 col10\" >qty</th>\n",
       "      <th class=\"col_heading level0 col11\" >buy_spread</th>\n",
       "      <th class=\"col_heading level0 col12\" >sell_spread</th>\n",
       "      <th class=\"col_heading level0 col13\" >available_qty</th>\n",
       "      <th class=\"col_heading level0 col14\" >bl</th>\n",
       "      <th class=\"col_heading level0 col15\" >sh</th>\n",
       "      <th class=\"col_heading level0 col16\" >reason</th>\n",
       "      <th class=\"col_heading level0 col17\" >market</th>\n",
       "    </tr>\n",
       "  </thead>\n",
       "  <tbody>\n",
       "    <tr>\n",
       "      <th id=\"T_71ddc_level0_row0\" class=\"row_heading level0 row0\" >0</th>\n",
       "      <td id=\"T_71ddc_row0_col0\" class=\"data row0 col0\" >612</td>\n",
       "      <td id=\"T_71ddc_row0_col1\" class=\"data row0 col1\" >DOHOME</td>\n",
       "      <td id=\"T_71ddc_row0_col2\" class=\"data row0 col2\" >25.62</td>\n",
       "      <td id=\"T_71ddc_row0_col3\" class=\"data row0 col3\" >17.58</td>\n",
       "      <td id=\"T_71ddc_row0_col4\" class=\"data row0 col4\" >I</td>\n",
       "      <td id=\"T_71ddc_row0_col5\" class=\"data row0 col5\" >0.00</td>\n",
       "      <td id=\"T_71ddc_row0_col6\" class=\"data row0 col6\" >22.50</td>\n",
       "      <td id=\"T_71ddc_row0_col7\" class=\"data row0 col7\" >208.57</td>\n",
       "      <td id=\"T_71ddc_row0_col8\" class=\"data row0 col8\" >1.11</td>\n",
       "      <td id=\"T_71ddc_row0_col9\" class=\"data row0 col9\" >20.25</td>\n",
       "      <td id=\"T_71ddc_row0_col10\" class=\"data row0 col10\" >2,400</td>\n",
       "      <td id=\"T_71ddc_row0_col11\" class=\"data row0 col11\" >-9</td>\n",
       "      <td id=\"T_71ddc_row0_col12\" class=\"data row0 col12\" >16</td>\n",
       "      <td id=\"T_71ddc_row0_col13\" class=\"data row0 col13\" >9,600</td>\n",
       "      <td id=\"T_71ddc_row0_col14\" class=\"data row0 col14\" >1</td>\n",
       "      <td id=\"T_71ddc_row0_col15\" class=\"data row0 col15\" >0</td>\n",
       "      <td id=\"T_71ddc_row0_col16\" class=\"data row0 col16\" >RD15pct</td>\n",
       "      <td id=\"T_71ddc_row0_col17\" class=\"data row0 col17\" >SET100</td>\n",
       "    </tr>\n",
       "  </tbody>\n",
       "</table>\n"
      ],
      "text/plain": [
       "<pandas.io.formats.style.Styler at 0x1f02f2fc7c0>"
      ]
     },
     "execution_count": 18,
     "metadata": {},
     "output_type": "execute_result"
    }
   ],
   "source": [
    "sql = \"\"\"\n",
    "SELECT * \n",
    "FROM stocks \n",
    "WHERE name = '%s'\n",
    "\"\"\"\n",
    "sql = sql % name\n",
    "print(sql)\n",
    "\n",
    "stocks = pd.read_sql(sql, conlite)\n",
    "stocks.style.format(format_dict)"
   ]
  },
  {
   "cell_type": "markdown",
   "metadata": {},
   "source": [
    "### End of Update stocks table in SQLite port_lite database from sale transaction"
   ]
  },
  {
   "cell_type": "markdown",
   "metadata": {},
   "source": [
    "### If shares become zero and no longer wants to keep STOCK record"
   ]
  },
  {
   "cell_type": "code",
   "execution_count": null,
   "metadata": {},
   "outputs": [],
   "source": [
    "sqlDel = \"\"\"\n",
    "DELETE FROM stocks\n",
    "WHERE name = '%s' AND available_qty = 0\n",
    "\"\"\"\n",
    "sqlDel = sqlDel % name\n",
    "print(sqlDel)"
   ]
  },
  {
   "cell_type": "code",
   "execution_count": null,
   "metadata": {},
   "outputs": [],
   "source": [
    "rp = conlite.execute(sqlDel)\n",
    "rp.rowcount"
   ]
  },
  {
   "cell_type": "markdown",
   "metadata": {},
   "source": [
    "## End of Sale process"
   ]
  },
  {
   "cell_type": "markdown",
   "metadata": {},
   "source": [
    "## Begin of  Buy process"
   ]
  },
  {
   "cell_type": "markdown",
   "metadata": {},
   "source": [
    "### Begin of Update buy table in MySQL database from buy transaction"
   ]
  },
  {
   "cell_type": "code",
   "execution_count": null,
   "metadata": {},
   "outputs": [],
   "source": [
    "sql = \"\"\"\n",
    "SELECT * \n",
    "FROM buy \n",
    "WHERE name = '%s'\n",
    "\"\"\"\n",
    "sql = sql % name\n",
    "print(sql)\n",
    "\n",
    "buy = pd.read_sql(sql, const)\n",
    "buy['date'] = pd.to_datetime(buy['date'])\n",
    "buy.drop(['volsell', 'volbal'], axis=1, inplace = True)\n",
    "buy.rename(columns={'volbuy':'shares'}, inplace = True)\n",
    "buy['shares'] = buy['shares'].astype('int64')\n",
    "buy"
   ]
  },
  {
   "cell_type": "markdown",
   "metadata": {},
   "source": [
    "### In case there is the same stock name in port"
   ]
  },
  {
   "cell_type": "code",
   "execution_count": null,
   "metadata": {},
   "outputs": [],
   "source": [
    "new_cost = 15.4 # new average cost must be calculated manually beforehand\n",
    "\n",
    "sqlUpd = \"\"\"\n",
    "UPDATE buy\n",
    "SET volbuy = volbuy + %s, price = %s\n",
    "WHERE name = '%s'\n",
    "\"\"\"\n",
    "\n",
    "sqlUpd = sqlUpd % (qty, new_cost, name)\n",
    "print(sqlUpd)"
   ]
  },
  {
   "cell_type": "code",
   "execution_count": null,
   "metadata": {},
   "outputs": [],
   "source": [
    "rp = const.execute(sqlUpd)\n",
    "rp.rowcount"
   ]
  },
  {
   "cell_type": "code",
   "execution_count": null,
   "metadata": {},
   "outputs": [],
   "source": [
    "sql = \"\"\"\n",
    "SELECT * \n",
    "FROM buy \n",
    "WHERE name = '%s'\n",
    "\"\"\"\n",
    "sql = sql % name\n",
    "print(sql)\n",
    "\n",
    "buy = pd.read_sql(sql, const)\n",
    "buy.drop(['volsell', 'volbal'], axis=1, inplace=True)\n",
    "buy.rename(columns={'volbuy':'shares'},inplace=True)\n",
    "buy['shares'] = buy['shares'].astype('int64')\n",
    "buy.style.format(format_dict)"
   ]
  },
  {
   "cell_type": "markdown",
   "metadata": {},
   "source": [
    "### In case of totally new stock"
   ]
  },
  {
   "cell_type": "code",
   "execution_count": null,
   "metadata": {},
   "outputs": [],
   "source": [
    "rcd = ['ORI', '2022-04-07', 15000, 11, 0, 0, 1, 0.54, 3,'A2']\n",
    "rcd"
   ]
  },
  {
   "cell_type": "code",
   "execution_count": null,
   "metadata": {},
   "outputs": [],
   "source": [
    "sqlIns = \"\"\"\n",
    "INSERT INTO buy (name, date, volbuy, price, volsell, volbal, active, dividend, period, grade)\n",
    "VALUES (%s, %s, %s, %s, %s, %s, %s, %s, %s, %s)\n",
    "\"\"\"\n",
    "print(sqlIns)"
   ]
  },
  {
   "cell_type": "code",
   "execution_count": null,
   "metadata": {},
   "outputs": [],
   "source": [
    "rp = const.execute(sqlIns, rcd)\n",
    "rp.rowcount"
   ]
  },
  {
   "cell_type": "code",
   "execution_count": null,
   "metadata": {},
   "outputs": [],
   "source": [
    "sql = \"\"\"\n",
    "SELECT * \n",
    "FROM buy \n",
    "WHERE name = '%s'\n",
    "\"\"\"\n",
    "sql = sql % name\n",
    "print(sql)\n",
    "\n",
    "buy = pd.read_sql(sql, const)\n",
    "buy.drop(['volsell', 'volbal'], axis=1, inplace=True)\n",
    "buy.rename(columns={'volbuy':'shares'},inplace=True)\n",
    "buy['shares'] = buy['shares'].astype('int64')\n",
    "buy"
   ]
  },
  {
   "cell_type": "markdown",
   "metadata": {},
   "source": [
    "### End of Update buy table in MySQL database from buy transaction"
   ]
  },
  {
   "cell_type": "markdown",
   "metadata": {},
   "source": [
    "### Begin of Update dividend table in MySQL stock database from buy transaction"
   ]
  },
  {
   "cell_type": "code",
   "execution_count": null,
   "metadata": {},
   "outputs": [],
   "source": [
    "sql = \"\"\"\n",
    "SELECT * \n",
    "FROM dividend \n",
    "WHERE name = '%s' \n",
    "\"\"\"\n",
    "sql = sql % name\n",
    "print(sql)\n",
    "\n",
    "dividend = pd.read_sql(sql, const)\n",
    "dividend.drop(['PRICE', 'PERCENT'], axis=1, inplace=True)\n",
    "dividend.columns = dividend.columns.str.lower()\n",
    "dividend['shares'] = dividend['shares'].astype('int64')\n",
    "dividend['xdate'] = pd.to_datetime(dividend['xdate'])\n",
    "dividend['paiddate'] = pd.to_datetime(dividend['paiddate'])\n",
    "dividend.style.format(format_dict)"
   ]
  },
  {
   "cell_type": "code",
   "execution_count": null,
   "metadata": {},
   "outputs": [],
   "source": [
    "sqlUpd = \"\"\"\n",
    "UPDATE dividend\n",
    "SET shares = shares + %s\n",
    "WHERE name = '%s'\n",
    "\"\"\"\n",
    "sqlUpd = sqlUpd % (qty, name)\n",
    "print(sqlUpd)"
   ]
  },
  {
   "cell_type": "code",
   "execution_count": null,
   "metadata": {},
   "outputs": [],
   "source": [
    "rp = const.execute(sqlUpd)\n",
    "rp.rowcount"
   ]
  },
  {
   "cell_type": "code",
   "execution_count": null,
   "metadata": {},
   "outputs": [],
   "source": [
    "sql = \"\"\"\n",
    "SELECT * \n",
    "FROM dividend \n",
    "WHERE name = '%s' \n",
    "\"\"\"\n",
    "sql = sql % name\n",
    "print(sql)\n",
    "\n",
    "dividend = pd.read_sql(sql, const)\n",
    "dividend.drop(['PRICE', 'PERCENT'], axis=1, inplace=True)\n",
    "dividend.columns = dividend.columns.str.lower()\n",
    "dividend['shares'] = dividend['shares'].astype('int64')\n",
    "dividend['xdate'] = pd.to_datetime(dividend['xdate'])\n",
    "dividend['paiddate'] = pd.to_datetime(dividend['paiddate'])\n",
    "dividend.style.format(format_dict)"
   ]
  },
  {
   "cell_type": "markdown",
   "metadata": {},
   "source": [
    "### In case of totally new stock"
   ]
  },
  {
   "cell_type": "code",
   "execution_count": null,
   "metadata": {},
   "outputs": [],
   "source": [
    "rcd = ['MEGA', 0.54, 0, 0.52, 0, 1.06, 4500, '2022-03-08', '2022-04-23', '', 0]\n",
    "rcd"
   ]
  },
  {
   "cell_type": "code",
   "execution_count": null,
   "metadata": {},
   "outputs": [],
   "source": [
    "sqlIns = \"\"\"\n",
    "INSERT INTO dividend (name, q4, q3, q2, q1, dividend, shares, xdate, paiddate, kind, actual)\n",
    "VALUES (%s, %s, %s, %s, %s, %s, %s, %s, %s, %s, %s)\n",
    "\"\"\"\n",
    "print(sqlIns)"
   ]
  },
  {
   "cell_type": "code",
   "execution_count": null,
   "metadata": {},
   "outputs": [],
   "source": [
    "rp = const.execute(sqlIns, rcd)\n",
    "rp.rowcount"
   ]
  },
  {
   "cell_type": "markdown",
   "metadata": {},
   "source": [
    "### End of Create dividend table in MySQL stock database from buy transaction"
   ]
  },
  {
   "cell_type": "markdown",
   "metadata": {},
   "source": [
    "### Begin of Update stocks table in SQLite port_lite database from buy transaction"
   ]
  },
  {
   "cell_type": "code",
   "execution_count": null,
   "metadata": {},
   "outputs": [],
   "source": [
    "sql = \"\"\"\n",
    "SELECT * \n",
    "FROM stocks \n",
    "WHERE name = '%s'\n",
    "\"\"\"\n",
    "sql = sql % name\n",
    "print(sql)\n",
    "\n",
    "stocks = pd.read_sql(sql, conlite)\n",
    "stocks"
   ]
  },
  {
   "cell_type": "code",
   "execution_count": null,
   "metadata": {},
   "outputs": [],
   "source": [
    "new_cost = 15.4\n",
    "buy_target = 0\n",
    "sell_target = 15.5\n",
    "status = 'I'\n",
    "reason = 'CP1S'\n",
    "new_buy_qty = 10000\n",
    "new_sell_qty = 10000\n",
    "new_cost, buy_target, sell_target, status, reason, new_buy_qty, new_sell_qty "
   ]
  },
  {
   "cell_type": "code",
   "execution_count": null,
   "metadata": {},
   "outputs": [],
   "source": [
    "sqlUpd = \"\"\"\n",
    "UPDATE stocks\n",
    "SET available_qty = available_qty + %s, \n",
    "cost = %s, buy_target = %s, sell_target = %s, status = '%s', \n",
    "reason = '%s', qty = %s\n",
    "WHERE name = '%s'\n",
    "\"\"\"\n",
    "sqlUpd = sqlUpd % (qty, new_cost, buy_target, sell_target, status, reason, new_sell_qty, name)\n",
    "print(sqlUpd)"
   ]
  },
  {
   "cell_type": "code",
   "execution_count": null,
   "metadata": {},
   "outputs": [],
   "source": [
    "rp = conlite.execute(sqlUpd)\n",
    "rp.rowcount"
   ]
  },
  {
   "cell_type": "code",
   "execution_count": null,
   "metadata": {},
   "outputs": [],
   "source": [
    "sql = \"\"\"\n",
    "SELECT * \n",
    "FROM stocks \n",
    "WHERE name = '%s'\n",
    "\"\"\"\n",
    "sql = sql % name\n",
    "print(sql)\n",
    "\n",
    "stocks = pd.read_sql(sql, conlite)\n",
    "stocks.style.format(format_dict)"
   ]
  },
  {
   "cell_type": "markdown",
   "metadata": {},
   "source": [
    "### End of Update stocks table in SQLite port_lite database from buy transaction"
   ]
  },
  {
   "cell_type": "markdown",
   "metadata": {},
   "source": [
    "## End of  Buy process"
   ]
  },
  {
   "cell_type": "code",
   "execution_count": null,
   "metadata": {},
   "outputs": [],
   "source": []
  }
 ],
 "metadata": {
  "anaconda-cloud": {},
  "kernelspec": {
   "display_name": "Python 3 (ipykernel)",
   "language": "python",
   "name": "python3"
  },
  "language_info": {
   "codemirror_mode": {
    "name": "ipython",
    "version": 3
   },
   "file_extension": ".py",
   "mimetype": "text/x-python",
   "name": "python",
   "nbconvert_exporter": "python",
   "pygments_lexer": "ipython3",
   "version": "3.8.11"
  }
 },
 "nbformat": 4,
 "nbformat_minor": 1
}
