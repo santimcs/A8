{
 "cells": [
  {
   "cell_type": "code",
   "execution_count": 1,
   "metadata": {},
   "outputs": [
    {
     "data": {
      "text/plain": [
       "datetime.date(2022, 5, 23)"
      ]
     },
     "execution_count": 1,
     "metadata": {},
     "output_type": "execute_result"
    }
   ],
   "source": [
    "import pandas as pd\n",
    "from datetime import date, timedelta\n",
    "from sqlalchemy import create_engine\n",
    "\n",
    "engine = create_engine('mysql+pymysql://root:@localhost:3306/portfolio_development')\n",
    "conpf = engine.connect()\n",
    "\n",
    "engine = create_engine(\"mysql+pymysql://root:@localhost:3306/stock\")\n",
    "const = engine.connect()\n",
    "\n",
    "engine = create_engine(\"sqlite:///c:\\\\ruby\\\\port_lite\\\\db\\\\development.sqlite3\")\n",
    "conlite = engine.connect()\n",
    "\n",
    "today = date.today()\n",
    "today"
   ]
  },
  {
   "cell_type": "markdown",
   "metadata": {},
   "source": [
    "### Tables in the process"
   ]
  },
  {
   "cell_type": "code",
   "execution_count": 2,
   "metadata": {},
   "outputs": [],
   "source": [
    "format_dict = {\n",
    "    'shares':'{:,}',    \n",
    "    'price':'{:.2f}',\n",
    "    'dividend':'{:.4f}', \n",
    "    'date':'{:%Y-%m-%d}', \n",
    "    \n",
    "    'qty':'{:,}','shares':'{:,}',\n",
    "    'price':'{:.2f}','buy_price':'{:.2f}',\n",
    "    'dividend':'{:.4f}',    \n",
    "    'fee':'{:,.2f}','vat':'{:,.2f}','net':'{:,.2f}',\n",
    "  \n",
    "    'days':'{:,}',\n",
    "    'price':'{:.2f}',\n",
    "    'fee':'{:,.2f}','vat':'{:,.2f}','net':'{:,.2f}','profit':'{:,.2f}',\n",
    "    'percent':'{:,.2f}%','yearly':'{:,.2f}%',   \n",
    "    \n",
    "    'shares':'{:,}',    \n",
    "    'q4':'{:.4f}','q3':'{:.4f}','q2':'{:.4f}','q1':'{:.4f}','dividend':'{:.4f}',\n",
    "    'xdate':'{:%Y-%m-%d}','paiddate':'{:%Y-%m-%d}',\n",
    "    \n",
    "    'qty':'{:,}','available_qty':'{:,}',\n",
    "    'cost':'{:.2f}','max_price':'{:.2f}','min_price':'{:.2f}','buy_target':'{:.2f}','sell_target':'{:.2f}',\n",
    "    'volume':'{:,.2f}','beta':'{:,.2f}',\n",
    "    \n",
    "    'qty':'{:,}','available_qty':'{:,}',\n",
    "    'cost':'{:.2f}','max_price':'{:.2f}','min_price':'{:.2f}','buy_target':'{:.2f}','sell_target':'{:.2f}',\n",
    "    'volume':'{:,.2f}','beta':'{:,.2f}',\n",
    "    }"
   ]
  },
  {
   "cell_type": "code",
   "execution_count": 19,
   "metadata": {},
   "outputs": [
    {
     "data": {
      "text/html": [
       "<style type=\"text/css\">\n",
       "</style>\n",
       "<table id=\"T_fc629_\">\n",
       "  <thead>\n",
       "    <tr>\n",
       "      <th class=\"blank level0\" >&nbsp;</th>\n",
       "      <th class=\"col_heading level0 col0\" >name</th>\n",
       "      <th class=\"col_heading level0 col1\" >stock_id</th>\n",
       "      <th class=\"col_heading level0 col2\" >buy_date</th>\n",
       "      <th class=\"col_heading level0 col3\" >qty</th>\n",
       "      <th class=\"col_heading level0 col4\" >buy_price</th>\n",
       "      <th class=\"col_heading level0 col5\" >id</th>\n",
       "      <th class=\"col_heading level0 col6\" >buy_id</th>\n",
       "      <th class=\"col_heading level0 col7\" >date</th>\n",
       "      <th class=\"col_heading level0 col8\" >price</th>\n",
       "      <th class=\"col_heading level0 col9\" >fee</th>\n",
       "      <th class=\"col_heading level0 col10\" >vat</th>\n",
       "      <th class=\"col_heading level0 col11\" >net</th>\n",
       "      <th class=\"col_heading level0 col12\" >days</th>\n",
       "      <th class=\"col_heading level0 col13\" >profit</th>\n",
       "      <th class=\"col_heading level0 col14\" >percent</th>\n",
       "      <th class=\"col_heading level0 col15\" >yearly</th>\n",
       "      <th class=\"col_heading level0 col16\" >sequence</th>\n",
       "      <th class=\"col_heading level0 col17\" >chart</th>\n",
       "      <th class=\"col_heading level0 col18\" >dividend_id</th>\n",
       "    </tr>\n",
       "  </thead>\n",
       "  <tbody>\n",
       "    <tr>\n",
       "      <th id=\"T_fc629_level0_row0\" class=\"row_heading level0 row0\" >0</th>\n",
       "      <td id=\"T_fc629_row0_col0\" class=\"data row0 col0\" >RJH</td>\n",
       "      <td id=\"T_fc629_row0_col1\" class=\"data row0 col1\" >193</td>\n",
       "      <td id=\"T_fc629_row0_col2\" class=\"data row0 col2\" >2021-11-09</td>\n",
       "      <td id=\"T_fc629_row0_col3\" class=\"data row0 col3\" >4,500</td>\n",
       "      <td id=\"T_fc629_row0_col4\" class=\"data row0 col4\" >33.00</td>\n",
       "      <td id=\"T_fc629_row0_col5\" class=\"data row0 col5\" >967</td>\n",
       "      <td id=\"T_fc629_row0_col6\" class=\"data row0 col6\" >1044</td>\n",
       "      <td id=\"T_fc629_row0_col7\" class=\"data row0 col7\" >2022-05-23</td>\n",
       "      <td id=\"T_fc629_row0_col8\" class=\"data row0 col8\" >34.00</td>\n",
       "      <td id=\"T_fc629_row0_col9\" class=\"data row0 col9\" >316.71</td>\n",
       "      <td id=\"T_fc629_row0_col10\" class=\"data row0 col10\" >22.17</td>\n",
       "      <td id=\"T_fc629_row0_col11\" class=\"data row0 col11\" >152,661.12</td>\n",
       "      <td id=\"T_fc629_row0_col12\" class=\"data row0 col12\" >195</td>\n",
       "      <td id=\"T_fc629_row0_col13\" class=\"data row0 col13\" >3,832.20</td>\n",
       "      <td id=\"T_fc629_row0_col14\" class=\"data row0 col14\" >2.57%</td>\n",
       "      <td id=\"T_fc629_row0_col15\" class=\"data row0 col15\" >4.82%</td>\n",
       "      <td id=\"T_fc629_row0_col16\" class=\"data row0 col16\" >33</td>\n",
       "      <td id=\"T_fc629_row0_col17\" class=\"data row0 col17\" >None</td>\n",
       "      <td id=\"T_fc629_row0_col18\" class=\"data row0 col18\" >0</td>\n",
       "    </tr>\n",
       "  </tbody>\n",
       "</table>\n"
      ],
      "text/plain": [
       "<pandas.io.formats.style.Styler at 0x176aaa62dc0>"
      ]
     },
     "execution_count": 19,
     "metadata": {},
     "output_type": "execute_result"
    }
   ],
   "source": [
    "# Sells table in MySQL portfolio database\n",
    "sql = \"\"\"\n",
    "SELECT name, stock_id, B.date AS buy_date, qty, B.price AS buy_price, S.* \n",
    "FROM sells S\n",
    "JOIN buys B ON S.buy_id = B.id\n",
    "JOIN stocks T ON B.stock_id = T.id\n",
    "ORDER BY S.id DESC\n",
    "LIMIT 1\"\"\"\n",
    "sells = pd.read_sql(sql, conpf)\n",
    "sells.style.format(format_dict)"
   ]
  },
  {
   "cell_type": "markdown",
   "metadata": {},
   "source": [
    "### In case of sale, retreive buy id from sells record (buy_id)"
   ]
  },
  {
   "cell_type": "code",
   "execution_count": 20,
   "metadata": {},
   "outputs": [
    {
     "name": "stdout",
     "output_type": "stream",
     "text": [
      "\n",
      "SELECT name, B.* \n",
      "FROM buys B\n",
      "JOIN stocks T \n",
      "ON B.stock_id = T.id\n",
      "WHERE B.id = 1044\n",
      "\n"
     ]
    },
    {
     "data": {
      "text/html": [
       "<style type=\"text/css\">\n",
       "</style>\n",
       "<table id=\"T_d134b_\">\n",
       "  <thead>\n",
       "    <tr>\n",
       "      <th class=\"blank level0\" >&nbsp;</th>\n",
       "      <th class=\"col_heading level0 col0\" >name</th>\n",
       "      <th class=\"col_heading level0 col1\" >id</th>\n",
       "      <th class=\"col_heading level0 col2\" >stock_id</th>\n",
       "      <th class=\"col_heading level0 col3\" >date</th>\n",
       "      <th class=\"col_heading level0 col4\" >qty</th>\n",
       "      <th class=\"col_heading level0 col5\" >price</th>\n",
       "      <th class=\"col_heading level0 col6\" >fee</th>\n",
       "      <th class=\"col_heading level0 col7\" >vat</th>\n",
       "      <th class=\"col_heading level0 col8\" >status</th>\n",
       "      <th class=\"col_heading level0 col9\" >net</th>\n",
       "      <th class=\"col_heading level0 col10\" >kind</th>\n",
       "      <th class=\"col_heading level0 col11\" >chart</th>\n",
       "    </tr>\n",
       "  </thead>\n",
       "  <tbody>\n",
       "    <tr>\n",
       "      <th id=\"T_d134b_level0_row0\" class=\"row_heading level0 row0\" >0</th>\n",
       "      <td id=\"T_d134b_row0_col0\" class=\"data row0 col0\" >RJH</td>\n",
       "      <td id=\"T_d134b_row0_col1\" class=\"data row0 col1\" >1044</td>\n",
       "      <td id=\"T_d134b_row0_col2\" class=\"data row0 col2\" >193</td>\n",
       "      <td id=\"T_d134b_row0_col3\" class=\"data row0 col3\" >2021-11-09</td>\n",
       "      <td id=\"T_d134b_row0_col4\" class=\"data row0 col4\" >4,500</td>\n",
       "      <td id=\"T_d134b_row0_col5\" class=\"data row0 col5\" >33.00</td>\n",
       "      <td id=\"T_d134b_row0_col6\" class=\"data row0 col6\" >307.40</td>\n",
       "      <td id=\"T_d134b_row0_col7\" class=\"data row0 col7\" >21.52</td>\n",
       "      <td id=\"T_d134b_row0_col8\" class=\"data row0 col8\" >Sold</td>\n",
       "      <td id=\"T_d134b_row0_col9\" class=\"data row0 col9\" >148,828.92</td>\n",
       "      <td id=\"T_d134b_row0_col10\" class=\"data row0 col10\" >DOS</td>\n",
       "      <td id=\"T_d134b_row0_col11\" class=\"data row0 col11\" >None</td>\n",
       "    </tr>\n",
       "  </tbody>\n",
       "</table>\n"
      ],
      "text/plain": [
       "<pandas.io.formats.style.Styler at 0x176aaa62c70>"
      ]
     },
     "execution_count": 20,
     "metadata": {},
     "output_type": "execute_result"
    }
   ],
   "source": [
    "# Buys table in MySQL portfolio database\n",
    "transaction = 'S'\n",
    "\n",
    "names = sells['name']\n",
    "name = names.to_string(index=False)\n",
    "\n",
    "sr_qty = sells['qty']\n",
    "qty = sr_qty.to_string(index=False)\n",
    "qty = int(qty) * -1\n",
    "\n",
    "sr_price = sells['buy_price']\n",
    "buy_price = sr_price.to_string(index=False)\n",
    "buy_price = float(buy_price)\n",
    "\n",
    "sr_price = sells['price']\n",
    "sell_price = sr_price.to_string(index=False)\n",
    "sell_price = float(sell_price)\n",
    "\n",
    "buy_ids = sells['buy_id']\n",
    "buy_id = buy_ids.to_string(index=False)\n",
    "\n",
    "sql = \"\"\"\n",
    "SELECT name, B.* \n",
    "FROM buys B\n",
    "JOIN stocks T \n",
    "ON B.stock_id = T.id\n",
    "WHERE B.id = %s\n",
    "\"\"\"\n",
    "sql = sql % buy_id\n",
    "print(sql)\n",
    "\n",
    "buys = pd.read_sql(sql, conpf)\n",
    "buys.style.format(format_dict)"
   ]
  },
  {
   "cell_type": "code",
   "execution_count": 21,
   "metadata": {},
   "outputs": [
    {
     "data": {
      "text/plain": [
       "('S', 'RJH', -4500, 34.0, 33.0)"
      ]
     },
     "execution_count": 21,
     "metadata": {},
     "output_type": "execute_result"
    }
   ],
   "source": [
    "transaction, name, qty, sell_price, buy_price"
   ]
  },
  {
   "cell_type": "markdown",
   "metadata": {},
   "source": [
    "### In case of buy, retreive buy id from latest buy record (id)"
   ]
  },
  {
   "cell_type": "code",
   "execution_count": null,
   "metadata": {},
   "outputs": [],
   "source": [
    "sql = \"\"\"\n",
    "SELECT name, B.* \n",
    "FROM buys B\n",
    "JOIN stocks T \n",
    "ON B.stock_id = T.id\n",
    "ORDER BY id DESC\n",
    "LIMIT 1\n",
    "\"\"\"\n",
    "print(sql)\n",
    "buys = pd.read_sql(sql, conpf)\n",
    "buys.style.format(format_dict)"
   ]
  },
  {
   "cell_type": "code",
   "execution_count": null,
   "metadata": {},
   "outputs": [],
   "source": [
    "transaction = 'B'\n",
    "\n",
    "names = buys['name']\n",
    "name = names.to_string(index=False)\n",
    "\n",
    "sr_qty = buys['qty']\n",
    "qty = sr_qty.to_string(index=False)\n",
    "qty = int(qty)\n",
    "\n",
    "sr_price = buys['price']\n",
    "buy_price = sr_price.to_string(index=False)\n",
    "buy_price = float(buy_price)\n",
    "\n",
    "transaction, name, qty, buy_price"
   ]
  },
  {
   "cell_type": "markdown",
   "metadata": {},
   "source": [
    "## Begin of Sale transaction"
   ]
  },
  {
   "cell_type": "markdown",
   "metadata": {},
   "source": [
    "### Begin of Update buy table in MySQL stock database from sale transaction"
   ]
  },
  {
   "cell_type": "code",
   "execution_count": 22,
   "metadata": {},
   "outputs": [
    {
     "name": "stdout",
     "output_type": "stream",
     "text": [
      "\n",
      "SELECT * \n",
      "FROM buy \n",
      "WHERE name = 'RJH'\n",
      "\n"
     ]
    },
    {
     "data": {
      "text/html": [
       "<style type=\"text/css\">\n",
       "</style>\n",
       "<table id=\"T_b1bca_\">\n",
       "  <thead>\n",
       "    <tr>\n",
       "      <th class=\"blank level0\" >&nbsp;</th>\n",
       "      <th class=\"col_heading level0 col0\" >name</th>\n",
       "      <th class=\"col_heading level0 col1\" >date</th>\n",
       "      <th class=\"col_heading level0 col2\" >shares</th>\n",
       "      <th class=\"col_heading level0 col3\" >price</th>\n",
       "      <th class=\"col_heading level0 col4\" >active</th>\n",
       "      <th class=\"col_heading level0 col5\" >period</th>\n",
       "      <th class=\"col_heading level0 col6\" >grade</th>\n",
       "    </tr>\n",
       "  </thead>\n",
       "  <tbody>\n",
       "    <tr>\n",
       "      <th id=\"T_b1bca_level0_row0\" class=\"row_heading level0 row0\" >0</th>\n",
       "      <td id=\"T_b1bca_row0_col0\" class=\"data row0 col0\" >RJH</td>\n",
       "      <td id=\"T_b1bca_row0_col1\" class=\"data row0 col1\" >2021-11-09</td>\n",
       "      <td id=\"T_b1bca_row0_col2\" class=\"data row0 col2\" >4,500</td>\n",
       "      <td id=\"T_b1bca_row0_col3\" class=\"data row0 col3\" >33.00</td>\n",
       "      <td id=\"T_b1bca_row0_col4\" class=\"data row0 col4\" >1</td>\n",
       "      <td id=\"T_b1bca_row0_col5\" class=\"data row0 col5\" >3</td>\n",
       "      <td id=\"T_b1bca_row0_col6\" class=\"data row0 col6\" >A3</td>\n",
       "    </tr>\n",
       "  </tbody>\n",
       "</table>\n"
      ],
      "text/plain": [
       "<pandas.io.formats.style.Styler at 0x176aab03ee0>"
      ]
     },
     "execution_count": 22,
     "metadata": {},
     "output_type": "execute_result"
    }
   ],
   "source": [
    "sql = \"\"\"\n",
    "SELECT * \n",
    "FROM buy \n",
    "WHERE name = '%s'\n",
    "\"\"\"\n",
    "sql = sql % name\n",
    "print(sql)\n",
    "\n",
    "buy = pd.read_sql(sql, const)\n",
    "buy.drop(['volsell', 'volbal','dividend'], axis=1, inplace=True)\n",
    "buy.rename(columns={'volbuy':'shares'},inplace=True)\n",
    "buy['shares'] = buy['shares'].astype('int64')\n",
    "buy.style.format(format_dict)"
   ]
  },
  {
   "cell_type": "code",
   "execution_count": 23,
   "metadata": {},
   "outputs": [
    {
     "name": "stdout",
     "output_type": "stream",
     "text": [
      "\n",
      "UPDATE buy\n",
      "SET volbuy = volbuy + -4500\n",
      "WHERE name = 'RJH'\n",
      "\n"
     ]
    }
   ],
   "source": [
    "sqlUpd = \"\"\"\n",
    "UPDATE buy\n",
    "SET volbuy = volbuy + %s\n",
    "WHERE name = '%s'\n",
    "\"\"\"\n",
    "sqlUpd = sqlUpd % (qty, name)\n",
    "print(sqlUpd)"
   ]
  },
  {
   "cell_type": "code",
   "execution_count": 24,
   "metadata": {},
   "outputs": [
    {
     "data": {
      "text/plain": [
       "1"
      ]
     },
     "execution_count": 24,
     "metadata": {},
     "output_type": "execute_result"
    }
   ],
   "source": [
    "rp = const.execute(sqlUpd)\n",
    "rp.rowcount"
   ]
  },
  {
   "cell_type": "code",
   "execution_count": 25,
   "metadata": {},
   "outputs": [
    {
     "name": "stdout",
     "output_type": "stream",
     "text": [
      "\n",
      "SELECT * \n",
      "FROM buy \n",
      "WHERE name = 'RJH'\n",
      "\n"
     ]
    },
    {
     "data": {
      "text/html": [
       "<style type=\"text/css\">\n",
       "</style>\n",
       "<table id=\"T_a2a12_\">\n",
       "  <thead>\n",
       "    <tr>\n",
       "      <th class=\"blank level0\" >&nbsp;</th>\n",
       "      <th class=\"col_heading level0 col0\" >name</th>\n",
       "      <th class=\"col_heading level0 col1\" >date</th>\n",
       "      <th class=\"col_heading level0 col2\" >shares</th>\n",
       "      <th class=\"col_heading level0 col3\" >price</th>\n",
       "      <th class=\"col_heading level0 col4\" >active</th>\n",
       "      <th class=\"col_heading level0 col5\" >period</th>\n",
       "      <th class=\"col_heading level0 col6\" >grade</th>\n",
       "    </tr>\n",
       "  </thead>\n",
       "  <tbody>\n",
       "    <tr>\n",
       "      <th id=\"T_a2a12_level0_row0\" class=\"row_heading level0 row0\" >0</th>\n",
       "      <td id=\"T_a2a12_row0_col0\" class=\"data row0 col0\" >RJH</td>\n",
       "      <td id=\"T_a2a12_row0_col1\" class=\"data row0 col1\" >2021-11-09</td>\n",
       "      <td id=\"T_a2a12_row0_col2\" class=\"data row0 col2\" >0</td>\n",
       "      <td id=\"T_a2a12_row0_col3\" class=\"data row0 col3\" >33.00</td>\n",
       "      <td id=\"T_a2a12_row0_col4\" class=\"data row0 col4\" >1</td>\n",
       "      <td id=\"T_a2a12_row0_col5\" class=\"data row0 col5\" >3</td>\n",
       "      <td id=\"T_a2a12_row0_col6\" class=\"data row0 col6\" >A3</td>\n",
       "    </tr>\n",
       "  </tbody>\n",
       "</table>\n"
      ],
      "text/plain": [
       "<pandas.io.formats.style.Styler at 0x176a6e03e80>"
      ]
     },
     "execution_count": 25,
     "metadata": {},
     "output_type": "execute_result"
    }
   ],
   "source": [
    "sql = \"\"\"\n",
    "SELECT * \n",
    "FROM buy \n",
    "WHERE name = '%s'\n",
    "\"\"\"\n",
    "sql = sql % name\n",
    "print(sql)\n",
    "\n",
    "buy = pd.read_sql(sql, const)\n",
    "buy.drop(['volsell', 'volbal','dividend'], axis=1, inplace=True)\n",
    "buy.rename(columns={'volbuy':'shares'},inplace=True)\n",
    "buy['shares'] = buy['shares'].astype('int64')\n",
    "buy.style.format(format_dict)"
   ]
  },
  {
   "cell_type": "markdown",
   "metadata": {},
   "source": [
    "### If shares become zero and want to delete from buy table"
   ]
  },
  {
   "cell_type": "code",
   "execution_count": 26,
   "metadata": {},
   "outputs": [
    {
     "name": "stdout",
     "output_type": "stream",
     "text": [
      "\n",
      "DELETE FROM buy\n",
      "WHERE name = 'RJH' AND volbuy = 0\n"
     ]
    }
   ],
   "source": [
    "sqlDel = \"\"\"\n",
    "DELETE FROM buy\n",
    "WHERE name = '%s' AND volbuy = 0\"\"\"\n",
    "sqlDel = sqlDel % name\n",
    "print(sqlDel)"
   ]
  },
  {
   "cell_type": "code",
   "execution_count": 27,
   "metadata": {},
   "outputs": [
    {
     "data": {
      "text/plain": [
       "1"
      ]
     },
     "execution_count": 27,
     "metadata": {},
     "output_type": "execute_result"
    }
   ],
   "source": [
    "rp = const.execute(sqlDel)\n",
    "rp.rowcount"
   ]
  },
  {
   "cell_type": "markdown",
   "metadata": {},
   "source": [
    "### End of Update buy table in MySQL stock database from sale transaction"
   ]
  },
  {
   "cell_type": "markdown",
   "metadata": {},
   "source": [
    "### Begin of Update dividend table in MySQL stock database from sale transaction"
   ]
  },
  {
   "cell_type": "code",
   "execution_count": 28,
   "metadata": {},
   "outputs": [
    {
     "name": "stdout",
     "output_type": "stream",
     "text": [
      "\n",
      "SELECT * \n",
      "FROM dividend \n",
      "WHERE name = 'RJH'\n",
      "\n"
     ]
    },
    {
     "data": {
      "text/html": [
       "<style type=\"text/css\">\n",
       "</style>\n",
       "<table id=\"T_522bf_\">\n",
       "  <thead>\n",
       "    <tr>\n",
       "      <th class=\"blank level0\" >&nbsp;</th>\n",
       "      <th class=\"col_heading level0 col0\" >name</th>\n",
       "      <th class=\"col_heading level0 col1\" >q4</th>\n",
       "      <th class=\"col_heading level0 col2\" >q3</th>\n",
       "      <th class=\"col_heading level0 col3\" >q2</th>\n",
       "      <th class=\"col_heading level0 col4\" >q1</th>\n",
       "      <th class=\"col_heading level0 col5\" >dividend</th>\n",
       "      <th class=\"col_heading level0 col6\" >shares</th>\n",
       "      <th class=\"col_heading level0 col7\" >xdate</th>\n",
       "      <th class=\"col_heading level0 col8\" >paiddate</th>\n",
       "      <th class=\"col_heading level0 col9\" >kind</th>\n",
       "      <th class=\"col_heading level0 col10\" >actual</th>\n",
       "    </tr>\n",
       "  </thead>\n",
       "  <tbody>\n",
       "    <tr>\n",
       "      <th id=\"T_522bf_level0_row0\" class=\"row_heading level0 row0\" >0</th>\n",
       "      <td id=\"T_522bf_row0_col0\" class=\"data row0 col0\" >RJH</td>\n",
       "      <td id=\"T_522bf_row0_col1\" class=\"data row0 col1\" >1.0000</td>\n",
       "      <td id=\"T_522bf_row0_col2\" class=\"data row0 col2\" >1.1000</td>\n",
       "      <td id=\"T_522bf_row0_col3\" class=\"data row0 col3\" >0.4000</td>\n",
       "      <td id=\"T_522bf_row0_col4\" class=\"data row0 col4\" >0.0000</td>\n",
       "      <td id=\"T_522bf_row0_col5\" class=\"data row0 col5\" >2.5000</td>\n",
       "      <td id=\"T_522bf_row0_col6\" class=\"data row0 col6\" >4,500</td>\n",
       "      <td id=\"T_522bf_row0_col7\" class=\"data row0 col7\" >2022-05-09</td>\n",
       "      <td id=\"T_522bf_row0_col8\" class=\"data row0 col8\" >2022-05-24</td>\n",
       "      <td id=\"T_522bf_row0_col9\" class=\"data row0 col9\" ></td>\n",
       "      <td id=\"T_522bf_row0_col10\" class=\"data row0 col10\" >0</td>\n",
       "    </tr>\n",
       "  </tbody>\n",
       "</table>\n"
      ],
      "text/plain": [
       "<pandas.io.formats.style.Styler at 0x176aab06700>"
      ]
     },
     "execution_count": 28,
     "metadata": {},
     "output_type": "execute_result"
    }
   ],
   "source": [
    "sql = \"\"\"\n",
    "SELECT * \n",
    "FROM dividend \n",
    "WHERE name = '%s'\n",
    "\"\"\"\n",
    "sql = sql % name\n",
    "print(sql)\n",
    "\n",
    "dividend = pd.read_sql(sql, const)\n",
    "dividend.drop(['PRICE', 'PERCENT'], axis=1, inplace=True)\n",
    "dividend.columns = dividend.columns.str.lower()\n",
    "dividend['shares'] = dividend['shares'].astype('int64')\n",
    "dividend['xdate'] = pd.to_datetime(dividend['xdate'])\n",
    "dividend['paiddate'] = pd.to_datetime(dividend['paiddate'])\n",
    "dividend.style.format(format_dict)"
   ]
  },
  {
   "cell_type": "code",
   "execution_count": 29,
   "metadata": {},
   "outputs": [
    {
     "name": "stdout",
     "output_type": "stream",
     "text": [
      "\n",
      "UPDATE dividend\n",
      "SET shares = shares + -4500\n",
      "WHERE name = 'RJH'\n",
      "\n"
     ]
    }
   ],
   "source": [
    "sqlUpd = \"\"\"\n",
    "UPDATE dividend\n",
    "SET shares = shares + %s\n",
    "WHERE name = '%s'\n",
    "\"\"\"\n",
    "sqlUpd = sqlUpd % (qty, name)\n",
    "print(sqlUpd)"
   ]
  },
  {
   "cell_type": "code",
   "execution_count": 30,
   "metadata": {},
   "outputs": [
    {
     "data": {
      "text/plain": [
       "1"
      ]
     },
     "execution_count": 30,
     "metadata": {},
     "output_type": "execute_result"
    }
   ],
   "source": [
    "rp = const.execute(sqlUpd)\n",
    "rp.rowcount"
   ]
  },
  {
   "cell_type": "code",
   "execution_count": 31,
   "metadata": {},
   "outputs": [
    {
     "name": "stdout",
     "output_type": "stream",
     "text": [
      "\n",
      "SELECT * \n",
      "FROM dividend \n",
      "WHERE name = 'RJH'\n",
      "\n"
     ]
    },
    {
     "data": {
      "text/html": [
       "<style type=\"text/css\">\n",
       "</style>\n",
       "<table id=\"T_2ded2_\">\n",
       "  <thead>\n",
       "    <tr>\n",
       "      <th class=\"blank level0\" >&nbsp;</th>\n",
       "      <th class=\"col_heading level0 col0\" >name</th>\n",
       "      <th class=\"col_heading level0 col1\" >q4</th>\n",
       "      <th class=\"col_heading level0 col2\" >q3</th>\n",
       "      <th class=\"col_heading level0 col3\" >q2</th>\n",
       "      <th class=\"col_heading level0 col4\" >q1</th>\n",
       "      <th class=\"col_heading level0 col5\" >dividend</th>\n",
       "      <th class=\"col_heading level0 col6\" >shares</th>\n",
       "      <th class=\"col_heading level0 col7\" >xdate</th>\n",
       "      <th class=\"col_heading level0 col8\" >paiddate</th>\n",
       "      <th class=\"col_heading level0 col9\" >kind</th>\n",
       "      <th class=\"col_heading level0 col10\" >actual</th>\n",
       "    </tr>\n",
       "  </thead>\n",
       "  <tbody>\n",
       "    <tr>\n",
       "      <th id=\"T_2ded2_level0_row0\" class=\"row_heading level0 row0\" >0</th>\n",
       "      <td id=\"T_2ded2_row0_col0\" class=\"data row0 col0\" >RJH</td>\n",
       "      <td id=\"T_2ded2_row0_col1\" class=\"data row0 col1\" >1.0000</td>\n",
       "      <td id=\"T_2ded2_row0_col2\" class=\"data row0 col2\" >1.1000</td>\n",
       "      <td id=\"T_2ded2_row0_col3\" class=\"data row0 col3\" >0.4000</td>\n",
       "      <td id=\"T_2ded2_row0_col4\" class=\"data row0 col4\" >0.0000</td>\n",
       "      <td id=\"T_2ded2_row0_col5\" class=\"data row0 col5\" >2.5000</td>\n",
       "      <td id=\"T_2ded2_row0_col6\" class=\"data row0 col6\" >0</td>\n",
       "      <td id=\"T_2ded2_row0_col7\" class=\"data row0 col7\" >2022-05-09</td>\n",
       "      <td id=\"T_2ded2_row0_col8\" class=\"data row0 col8\" >2022-05-24</td>\n",
       "      <td id=\"T_2ded2_row0_col9\" class=\"data row0 col9\" ></td>\n",
       "      <td id=\"T_2ded2_row0_col10\" class=\"data row0 col10\" >0</td>\n",
       "    </tr>\n",
       "  </tbody>\n",
       "</table>\n"
      ],
      "text/plain": [
       "<pandas.io.formats.style.Styler at 0x176aab03460>"
      ]
     },
     "execution_count": 31,
     "metadata": {},
     "output_type": "execute_result"
    }
   ],
   "source": [
    "sql = \"\"\"\n",
    "SELECT * \n",
    "FROM dividend \n",
    "WHERE name = '%s'\n",
    "\"\"\"\n",
    "sql = sql % name\n",
    "print(sql)\n",
    "\n",
    "dividend = pd.read_sql(sql, const)\n",
    "dividend.drop(['PRICE', 'PERCENT'], axis=1, inplace=True)\n",
    "dividend.columns = dividend.columns.str.lower()\n",
    "dividend['shares'] = dividend['shares'].astype('int64')\n",
    "dividend['xdate'] = pd.to_datetime(dividend['xdate'])\n",
    "dividend['paiddate'] = pd.to_datetime(dividend['paiddate'])\n",
    "dividend.style.format(format_dict)"
   ]
  },
  {
   "cell_type": "markdown",
   "metadata": {},
   "source": [
    "### If shares become zero and want to delete from DIVIDEND table"
   ]
  },
  {
   "cell_type": "code",
   "execution_count": 32,
   "metadata": {},
   "outputs": [
    {
     "name": "stdout",
     "output_type": "stream",
     "text": [
      "\n",
      "DELETE FROM dividend\n",
      "WHERE name = 'RJH'\n",
      "\n"
     ]
    }
   ],
   "source": [
    "sqlDel = \"\"\"\n",
    "DELETE FROM dividend\n",
    "WHERE name = '%s'\n",
    "\"\"\"\n",
    "sqlDel = sqlDel % (name)\n",
    "print(sqlDel)"
   ]
  },
  {
   "cell_type": "code",
   "execution_count": 33,
   "metadata": {},
   "outputs": [
    {
     "data": {
      "text/plain": [
       "1"
      ]
     },
     "execution_count": 33,
     "metadata": {},
     "output_type": "execute_result"
    }
   ],
   "source": [
    "rp = const.execute(sqlDel)\n",
    "rp.rowcount"
   ]
  },
  {
   "cell_type": "markdown",
   "metadata": {},
   "source": [
    "### End of Update dividend table in MySQL stock database from sale transaction"
   ]
  },
  {
   "cell_type": "markdown",
   "metadata": {},
   "source": [
    "### Begin of Update stocks table in SQLite port_lite database from sale transaction"
   ]
  },
  {
   "cell_type": "code",
   "execution_count": 34,
   "metadata": {},
   "outputs": [
    {
     "name": "stdout",
     "output_type": "stream",
     "text": [
      "\n",
      "SELECT * \n",
      "FROM stocks \n",
      "WHERE name = 'RJH'\n",
      "\n"
     ]
    },
    {
     "data": {
      "text/html": [
       "<style type=\"text/css\">\n",
       "</style>\n",
       "<table id=\"T_0f958_\">\n",
       "  <thead>\n",
       "    <tr>\n",
       "      <th class=\"blank level0\" >&nbsp;</th>\n",
       "      <th class=\"col_heading level0 col0\" >id</th>\n",
       "      <th class=\"col_heading level0 col1\" >name</th>\n",
       "      <th class=\"col_heading level0 col2\" >max_price</th>\n",
       "      <th class=\"col_heading level0 col3\" >min_price</th>\n",
       "      <th class=\"col_heading level0 col4\" >status</th>\n",
       "      <th class=\"col_heading level0 col5\" >buy_target</th>\n",
       "      <th class=\"col_heading level0 col6\" >sell_target</th>\n",
       "      <th class=\"col_heading level0 col7\" >volume</th>\n",
       "      <th class=\"col_heading level0 col8\" >beta</th>\n",
       "      <th class=\"col_heading level0 col9\" >cost</th>\n",
       "      <th class=\"col_heading level0 col10\" >qty</th>\n",
       "      <th class=\"col_heading level0 col11\" >buy_spread</th>\n",
       "      <th class=\"col_heading level0 col12\" >sell_spread</th>\n",
       "      <th class=\"col_heading level0 col13\" >available_qty</th>\n",
       "      <th class=\"col_heading level0 col14\" >bl</th>\n",
       "      <th class=\"col_heading level0 col15\" >sh</th>\n",
       "      <th class=\"col_heading level0 col16\" >reason</th>\n",
       "      <th class=\"col_heading level0 col17\" >market</th>\n",
       "    </tr>\n",
       "  </thead>\n",
       "  <tbody>\n",
       "    <tr>\n",
       "      <th id=\"T_0f958_level0_row0\" class=\"row_heading level0 row0\" >0</th>\n",
       "      <td id=\"T_0f958_row0_col0\" class=\"data row0 col0\" >618</td>\n",
       "      <td id=\"T_0f958_row0_col1\" class=\"data row0 col1\" >RJH</td>\n",
       "      <td id=\"T_0f958_row0_col2\" class=\"data row0 col2\" >39.00</td>\n",
       "      <td id=\"T_0f958_row0_col3\" class=\"data row0 col3\" >27.00</td>\n",
       "      <td id=\"T_0f958_row0_col4\" class=\"data row0 col4\" >T</td>\n",
       "      <td id=\"T_0f958_row0_col5\" class=\"data row0 col5\" >0.00</td>\n",
       "      <td id=\"T_0f958_row0_col6\" class=\"data row0 col6\" >34.75</td>\n",
       "      <td id=\"T_0f958_row0_col7\" class=\"data row0 col7\" >15.53</td>\n",
       "      <td id=\"T_0f958_row0_col8\" class=\"data row0 col8\" >0.10</td>\n",
       "      <td id=\"T_0f958_row0_col9\" class=\"data row0 col9\" >33.00</td>\n",
       "      <td id=\"T_0f958_row0_col10\" class=\"data row0 col10\" >1,500</td>\n",
       "      <td id=\"T_0f958_row0_col11\" class=\"data row0 col11\" >-8</td>\n",
       "      <td id=\"T_0f958_row0_col12\" class=\"data row0 col12\" >8</td>\n",
       "      <td id=\"T_0f958_row0_col13\" class=\"data row0 col13\" >4,500</td>\n",
       "      <td id=\"T_0f958_row0_col14\" class=\"data row0 col14\" >3</td>\n",
       "      <td id=\"T_0f958_row0_col15\" class=\"data row0 col15\" >0</td>\n",
       "      <td id=\"T_0f958_row0_col16\" class=\"data row0 col16\" >5pct</td>\n",
       "      <td id=\"T_0f958_row0_col17\" class=\"data row0 col17\" >SET</td>\n",
       "    </tr>\n",
       "  </tbody>\n",
       "</table>\n"
      ],
      "text/plain": [
       "<pandas.io.formats.style.Styler at 0x176aab0c9a0>"
      ]
     },
     "execution_count": 34,
     "metadata": {},
     "output_type": "execute_result"
    }
   ],
   "source": [
    "sql = \"\"\"\n",
    "SELECT * \n",
    "FROM stocks \n",
    "WHERE name = '%s'\n",
    "\"\"\"\n",
    "sql = sql % name\n",
    "print(sql)\n",
    "\n",
    "stocks = pd.read_sql(sql, conlite)\n",
    "stocks.style.format(format_dict)"
   ]
  },
  {
   "cell_type": "code",
   "execution_count": 35,
   "metadata": {},
   "outputs": [
    {
     "name": "stdout",
     "output_type": "stream",
     "text": [
      "\n",
      "UPDATE stocks\n",
      "SET available_qty = available_qty + -4500,\n",
      "qty = 4500, buy_target = 0, sell_target = 0, reason = 'CUT', status = 'T'\n",
      "WHERE name = 'RJH'\n",
      "\n"
     ]
    }
   ],
   "source": [
    "buy_target  = 0  # must calculate manually beforehand\n",
    "sell_target = 0\n",
    "status = 'T'\n",
    "reason = \"CUT\"\n",
    "sell_qty = 4500\n",
    "\n",
    "sqlUpd = \"\"\"\n",
    "UPDATE stocks\n",
    "SET available_qty = available_qty + %s,\n",
    "qty = %s, buy_target = %s, sell_target = %s, reason = '%s', status = '%s'\n",
    "WHERE name = '%s'\n",
    "\"\"\"\n",
    "sqlUpd = sqlUpd % (qty, sell_qty, buy_target, sell_target, reason, status, name)\n",
    "print(sqlUpd)"
   ]
  },
  {
   "cell_type": "code",
   "execution_count": 36,
   "metadata": {},
   "outputs": [
    {
     "data": {
      "text/plain": [
       "1"
      ]
     },
     "execution_count": 36,
     "metadata": {},
     "output_type": "execute_result"
    }
   ],
   "source": [
    "rp = conlite.execute(sqlUpd)\n",
    "rp.rowcount"
   ]
  },
  {
   "cell_type": "code",
   "execution_count": 37,
   "metadata": {},
   "outputs": [
    {
     "name": "stdout",
     "output_type": "stream",
     "text": [
      "\n",
      "SELECT * \n",
      "FROM stocks \n",
      "WHERE name = 'RJH'\n",
      "\n"
     ]
    },
    {
     "data": {
      "text/html": [
       "<style type=\"text/css\">\n",
       "</style>\n",
       "<table id=\"T_39e54_\">\n",
       "  <thead>\n",
       "    <tr>\n",
       "      <th class=\"blank level0\" >&nbsp;</th>\n",
       "      <th class=\"col_heading level0 col0\" >id</th>\n",
       "      <th class=\"col_heading level0 col1\" >name</th>\n",
       "      <th class=\"col_heading level0 col2\" >max_price</th>\n",
       "      <th class=\"col_heading level0 col3\" >min_price</th>\n",
       "      <th class=\"col_heading level0 col4\" >status</th>\n",
       "      <th class=\"col_heading level0 col5\" >buy_target</th>\n",
       "      <th class=\"col_heading level0 col6\" >sell_target</th>\n",
       "      <th class=\"col_heading level0 col7\" >volume</th>\n",
       "      <th class=\"col_heading level0 col8\" >beta</th>\n",
       "      <th class=\"col_heading level0 col9\" >cost</th>\n",
       "      <th class=\"col_heading level0 col10\" >qty</th>\n",
       "      <th class=\"col_heading level0 col11\" >buy_spread</th>\n",
       "      <th class=\"col_heading level0 col12\" >sell_spread</th>\n",
       "      <th class=\"col_heading level0 col13\" >available_qty</th>\n",
       "      <th class=\"col_heading level0 col14\" >bl</th>\n",
       "      <th class=\"col_heading level0 col15\" >sh</th>\n",
       "      <th class=\"col_heading level0 col16\" >reason</th>\n",
       "      <th class=\"col_heading level0 col17\" >market</th>\n",
       "    </tr>\n",
       "  </thead>\n",
       "  <tbody>\n",
       "    <tr>\n",
       "      <th id=\"T_39e54_level0_row0\" class=\"row_heading level0 row0\" >0</th>\n",
       "      <td id=\"T_39e54_row0_col0\" class=\"data row0 col0\" >618</td>\n",
       "      <td id=\"T_39e54_row0_col1\" class=\"data row0 col1\" >RJH</td>\n",
       "      <td id=\"T_39e54_row0_col2\" class=\"data row0 col2\" >39.00</td>\n",
       "      <td id=\"T_39e54_row0_col3\" class=\"data row0 col3\" >27.00</td>\n",
       "      <td id=\"T_39e54_row0_col4\" class=\"data row0 col4\" >T</td>\n",
       "      <td id=\"T_39e54_row0_col5\" class=\"data row0 col5\" >0.00</td>\n",
       "      <td id=\"T_39e54_row0_col6\" class=\"data row0 col6\" >0.00</td>\n",
       "      <td id=\"T_39e54_row0_col7\" class=\"data row0 col7\" >15.53</td>\n",
       "      <td id=\"T_39e54_row0_col8\" class=\"data row0 col8\" >0.10</td>\n",
       "      <td id=\"T_39e54_row0_col9\" class=\"data row0 col9\" >33.00</td>\n",
       "      <td id=\"T_39e54_row0_col10\" class=\"data row0 col10\" >4,500</td>\n",
       "      <td id=\"T_39e54_row0_col11\" class=\"data row0 col11\" >-8</td>\n",
       "      <td id=\"T_39e54_row0_col12\" class=\"data row0 col12\" >8</td>\n",
       "      <td id=\"T_39e54_row0_col13\" class=\"data row0 col13\" >0</td>\n",
       "      <td id=\"T_39e54_row0_col14\" class=\"data row0 col14\" >3</td>\n",
       "      <td id=\"T_39e54_row0_col15\" class=\"data row0 col15\" >0</td>\n",
       "      <td id=\"T_39e54_row0_col16\" class=\"data row0 col16\" >CUT</td>\n",
       "      <td id=\"T_39e54_row0_col17\" class=\"data row0 col17\" >SET</td>\n",
       "    </tr>\n",
       "  </tbody>\n",
       "</table>\n"
      ],
      "text/plain": [
       "<pandas.io.formats.style.Styler at 0x176a6e140d0>"
      ]
     },
     "execution_count": 37,
     "metadata": {},
     "output_type": "execute_result"
    }
   ],
   "source": [
    "sql = \"\"\"\n",
    "SELECT * \n",
    "FROM stocks \n",
    "WHERE name = '%s'\n",
    "\"\"\"\n",
    "sql = sql % name\n",
    "print(sql)\n",
    "\n",
    "stocks = pd.read_sql(sql, conlite)\n",
    "stocks.style.format(format_dict)"
   ]
  },
  {
   "cell_type": "markdown",
   "metadata": {},
   "source": [
    "### End of Update stocks table in SQLite port_lite database from sale transaction"
   ]
  },
  {
   "cell_type": "markdown",
   "metadata": {},
   "source": [
    "### If shares become zero and no longer wants to keep STOCK record"
   ]
  },
  {
   "cell_type": "code",
   "execution_count": 38,
   "metadata": {},
   "outputs": [
    {
     "name": "stdout",
     "output_type": "stream",
     "text": [
      "\n",
      "DELETE FROM stocks\n",
      "WHERE name = 'RJH' AND available_qty = 0\n",
      "\n"
     ]
    }
   ],
   "source": [
    "sqlDel = \"\"\"\n",
    "DELETE FROM stocks\n",
    "WHERE name = '%s' AND available_qty = 0\n",
    "\"\"\"\n",
    "sqlDel = sqlDel % name\n",
    "print(sqlDel)"
   ]
  },
  {
   "cell_type": "code",
   "execution_count": 39,
   "metadata": {},
   "outputs": [
    {
     "data": {
      "text/plain": [
       "1"
      ]
     },
     "execution_count": 39,
     "metadata": {},
     "output_type": "execute_result"
    }
   ],
   "source": [
    "rp = conlite.execute(sqlDel)\n",
    "rp.rowcount"
   ]
  },
  {
   "cell_type": "markdown",
   "metadata": {},
   "source": [
    "## End of Sale process"
   ]
  },
  {
   "cell_type": "markdown",
   "metadata": {},
   "source": [
    "## Begin of  Buy process"
   ]
  },
  {
   "cell_type": "markdown",
   "metadata": {},
   "source": [
    "### Begin of Update buy table in MySQL database from buy transaction"
   ]
  },
  {
   "cell_type": "code",
   "execution_count": null,
   "metadata": {},
   "outputs": [],
   "source": [
    "sql = \"\"\"\n",
    "SELECT * \n",
    "FROM buy \n",
    "WHERE name = '%s'\n",
    "\"\"\"\n",
    "sql = sql % name\n",
    "print(sql)\n",
    "\n",
    "buy = pd.read_sql(sql, const)\n",
    "buy['date'] = pd.to_datetime(buy['date'])\n",
    "buy.drop(['volsell', 'volbal'], axis=1, inplace = True)\n",
    "buy.rename(columns={'volbuy':'shares'}, inplace = True)\n",
    "buy['shares'] = buy['shares'].astype('int64')\n",
    "buy"
   ]
  },
  {
   "cell_type": "markdown",
   "metadata": {},
   "source": [
    "### In case there is the same stock name in port"
   ]
  },
  {
   "cell_type": "code",
   "execution_count": null,
   "metadata": {},
   "outputs": [],
   "source": [
    "new_cost = 10.10 # new average cost must be calculated manually beforehand\n",
    "sqlUpd = \"\"\"\n",
    "UPDATE buy\n",
    "SET volbuy = volbuy + %s, price = %s\n",
    "WHERE name = '%s'\n",
    "\"\"\"\n",
    "sqlUpd = sqlUpd % (qty, new_cost, name)\n",
    "print(sqlUpd)"
   ]
  },
  {
   "cell_type": "code",
   "execution_count": null,
   "metadata": {},
   "outputs": [],
   "source": [
    "rp = const.execute(sqlUpd)\n",
    "rp.rowcount"
   ]
  },
  {
   "cell_type": "code",
   "execution_count": null,
   "metadata": {},
   "outputs": [],
   "source": [
    "sql = \"\"\"\n",
    "SELECT * \n",
    "FROM buy \n",
    "WHERE name = '%s'\n",
    "\"\"\"\n",
    "sql = sql % name\n",
    "print(sql)\n",
    "\n",
    "buy = pd.read_sql(sql, const)\n",
    "buy.drop(['volsell', 'volbal'], axis=1, inplace=True)\n",
    "buy.rename(columns={'volbuy':'shares'},inplace=True)\n",
    "buy['shares'] = buy['shares'].astype('int64')\n",
    "buy.style.format(format_dict)"
   ]
  },
  {
   "cell_type": "markdown",
   "metadata": {},
   "source": [
    "### In case of totally new stock"
   ]
  },
  {
   "cell_type": "code",
   "execution_count": null,
   "metadata": {},
   "outputs": [],
   "source": [
    "rcd = ['DCC', '2022-05-05', 30000, 2.98, 0, 0, 1, 0.19, 2,'A2']\n",
    "rcd"
   ]
  },
  {
   "cell_type": "code",
   "execution_count": null,
   "metadata": {},
   "outputs": [],
   "source": [
    "sqlIns = \"\"\"\n",
    "INSERT INTO buy (name, date, volbuy, price, volsell, volbal, active, dividend, period, grade)\n",
    "VALUES (%s, %s, %s, %s, %s, %s, %s, %s, %s, %s)\n",
    "\"\"\"\n",
    "print(sqlIns)"
   ]
  },
  {
   "cell_type": "code",
   "execution_count": null,
   "metadata": {},
   "outputs": [],
   "source": [
    "rp = const.execute(sqlIns, rcd)\n",
    "rp.rowcount"
   ]
  },
  {
   "cell_type": "code",
   "execution_count": null,
   "metadata": {},
   "outputs": [],
   "source": [
    "sql = \"\"\"\n",
    "SELECT * \n",
    "FROM buy \n",
    "WHERE name = '%s'\n",
    "\"\"\"\n",
    "sql = sql % name\n",
    "print(sql)\n",
    "\n",
    "buy = pd.read_sql(sql, const)\n",
    "buy.drop(['volsell', 'volbal'], axis=1, inplace=True)\n",
    "buy.rename(columns={'volbuy':'shares'},inplace=True)\n",
    "buy['shares'] = buy['shares'].astype('int64')\n",
    "buy"
   ]
  },
  {
   "cell_type": "markdown",
   "metadata": {},
   "source": [
    "### End of Update buy table in MySQL database from buy transaction"
   ]
  },
  {
   "cell_type": "markdown",
   "metadata": {},
   "source": [
    "### Begin of Update dividend table in MySQL stock database from buy transaction"
   ]
  },
  {
   "cell_type": "code",
   "execution_count": null,
   "metadata": {},
   "outputs": [],
   "source": [
    "sql = \"\"\"\n",
    "SELECT * \n",
    "FROM dividend \n",
    "WHERE name = '%s' \n",
    "\"\"\"\n",
    "sql = sql % name\n",
    "print(sql)\n",
    "\n",
    "dividend = pd.read_sql(sql, const)\n",
    "dividend.drop(['PRICE', 'PERCENT'], axis=1, inplace=True)\n",
    "dividend.columns = dividend.columns.str.lower()\n",
    "dividend['shares'] = dividend['shares'].astype('int64')\n",
    "dividend['xdate'] = pd.to_datetime(dividend['xdate'])\n",
    "dividend['paiddate'] = pd.to_datetime(dividend['paiddate'])\n",
    "dividend.style.format(format_dict)"
   ]
  },
  {
   "cell_type": "code",
   "execution_count": null,
   "metadata": {},
   "outputs": [],
   "source": [
    "sqlUpd = \"\"\"\n",
    "UPDATE dividend\n",
    "SET shares = shares + %s\n",
    "WHERE name = '%s'\n",
    "\"\"\"\n",
    "sqlUpd = sqlUpd % (qty, name)\n",
    "print(sqlUpd)"
   ]
  },
  {
   "cell_type": "code",
   "execution_count": null,
   "metadata": {},
   "outputs": [],
   "source": [
    "rp = const.execute(sqlUpd)\n",
    "rp.rowcount"
   ]
  },
  {
   "cell_type": "code",
   "execution_count": null,
   "metadata": {},
   "outputs": [],
   "source": [
    "sql = \"\"\"\n",
    "SELECT * \n",
    "FROM dividend \n",
    "WHERE name = '%s' \n",
    "\"\"\"\n",
    "sql = sql % name\n",
    "print(sql)\n",
    "\n",
    "dividend = pd.read_sql(sql, const)\n",
    "dividend.drop(['PRICE', 'PERCENT'], axis=1, inplace=True)\n",
    "dividend.columns = dividend.columns.str.lower()\n",
    "dividend['shares'] = dividend['shares'].astype('int64')\n",
    "dividend['xdate'] = pd.to_datetime(dividend['xdate'])\n",
    "dividend['paiddate'] = pd.to_datetime(dividend['paiddate'])\n",
    "dividend.style.format(format_dict)"
   ]
  },
  {
   "cell_type": "markdown",
   "metadata": {},
   "source": [
    "### In case of totally new stock"
   ]
  },
  {
   "cell_type": "code",
   "execution_count": null,
   "metadata": {},
   "outputs": [],
   "source": [
    "rcd = ['MEGA', 0.54, 0, 0.52, 0, 1.06, 4500, '2022-03-08', '2022-04-23', '', 0]\n",
    "rcd"
   ]
  },
  {
   "cell_type": "code",
   "execution_count": null,
   "metadata": {},
   "outputs": [],
   "source": [
    "sqlIns = \"\"\"\n",
    "INSERT INTO dividend (name, q4, q3, q2, q1, dividend, shares, xdate, paiddate, kind, actual)\n",
    "VALUES (%s, %s, %s, %s, %s, %s, %s, %s, %s, %s, %s)\n",
    "\"\"\"\n",
    "print(sqlIns)"
   ]
  },
  {
   "cell_type": "code",
   "execution_count": null,
   "metadata": {},
   "outputs": [],
   "source": [
    "rp = const.execute(sqlIns, rcd)\n",
    "rp.rowcount"
   ]
  },
  {
   "cell_type": "markdown",
   "metadata": {},
   "source": [
    "### End of Create dividend table in MySQL stock database from buy transaction"
   ]
  },
  {
   "cell_type": "markdown",
   "metadata": {},
   "source": [
    "### Begin of Update stocks table in SQLite port_lite database from buy transaction"
   ]
  },
  {
   "cell_type": "code",
   "execution_count": null,
   "metadata": {},
   "outputs": [],
   "source": [
    "sql = \"\"\"\n",
    "SELECT * \n",
    "FROM stocks \n",
    "WHERE name = '%s'\n",
    "\"\"\"\n",
    "sql = sql % name\n",
    "print(sql)\n",
    "\n",
    "stocks = pd.read_sql(sql, conlite)\n",
    "stocks"
   ]
  },
  {
   "cell_type": "code",
   "execution_count": null,
   "metadata": {},
   "outputs": [],
   "source": [
    "new_cost = 10.10\n",
    "buy_target = 10\n",
    "sell_target = 12\n",
    "status = 'I'\n",
    "reason = 'C10.10'\n",
    "new_buy_qty = 10000\n",
    "new_sell_qty = 10000\n",
    "new_cost, buy_target, sell_target, status, reason, new_buy_qty, new_sell_qty "
   ]
  },
  {
   "cell_type": "code",
   "execution_count": null,
   "metadata": {},
   "outputs": [],
   "source": [
    "sqlUpd = \"\"\"\n",
    "UPDATE stocks\n",
    "SET available_qty = available_qty + %s, \n",
    "cost = %s, buy_target = %s, sell_target = %s, status = '%s', \n",
    "reason = '%s', qty = %s\n",
    "WHERE name = '%s'\n",
    "\"\"\"\n",
    "sqlUpd = sqlUpd % (qty, new_cost, buy_target, sell_target, status, reason, new_sell_qty, name)\n",
    "print(sqlUpd)"
   ]
  },
  {
   "cell_type": "code",
   "execution_count": null,
   "metadata": {},
   "outputs": [],
   "source": [
    "rp = conlite.execute(sqlUpd)\n",
    "rp.rowcount"
   ]
  },
  {
   "cell_type": "code",
   "execution_count": null,
   "metadata": {},
   "outputs": [],
   "source": [
    "sql = \"\"\"\n",
    "SELECT * \n",
    "FROM stocks \n",
    "WHERE name = '%s'\n",
    "\"\"\"\n",
    "sql = sql % name\n",
    "print(sql)\n",
    "\n",
    "stocks = pd.read_sql(sql, conlite)\n",
    "stocks.style.format(format_dict)"
   ]
  },
  {
   "cell_type": "markdown",
   "metadata": {},
   "source": [
    "### End of Update stocks table in SQLite port_lite database from buy transaction"
   ]
  },
  {
   "cell_type": "markdown",
   "metadata": {},
   "source": [
    "## End of  Buy process"
   ]
  },
  {
   "cell_type": "code",
   "execution_count": null,
   "metadata": {},
   "outputs": [],
   "source": []
  }
 ],
 "metadata": {
  "anaconda-cloud": {},
  "kernelspec": {
   "display_name": "Python 3 (ipykernel)",
   "language": "python",
   "name": "python3"
  },
  "language_info": {
   "codemirror_mode": {
    "name": "ipython",
    "version": 3
   },
   "file_extension": ".py",
   "mimetype": "text/x-python",
   "name": "python",
   "nbconvert_exporter": "python",
   "pygments_lexer": "ipython3",
   "version": "3.8.11"
  }
 },
 "nbformat": 4,
 "nbformat_minor": 1
}
