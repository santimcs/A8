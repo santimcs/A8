{
 "cells": [
  {
   "cell_type": "code",
   "execution_count": 1,
   "metadata": {},
   "outputs": [
    {
     "data": {
      "text/plain": [
       "datetime.date(2022, 2, 4)"
      ]
     },
     "execution_count": 1,
     "metadata": {},
     "output_type": "execute_result"
    }
   ],
   "source": [
    "import pandas as pd\n",
    "from datetime import date, timedelta\n",
    "from sqlalchemy import create_engine\n",
    "\n",
    "engine = create_engine('mysql+pymysql://root:@localhost:3306/portfolio_development')\n",
    "conpf = engine.connect()\n",
    "\n",
    "engine = create_engine(\"mysql+pymysql://root:@localhost:3306/stock\")\n",
    "const = engine.connect()\n",
    "\n",
    "engine = create_engine(\"sqlite:///c:\\\\ruby\\\\port_lite\\\\db\\\\development.sqlite3\")\n",
    "conlite = engine.connect()\n",
    "\n",
    "today = date.today()\n",
    "today"
   ]
  },
  {
   "cell_type": "markdown",
   "metadata": {},
   "source": [
    "### Tables in the process"
   ]
  },
  {
   "cell_type": "code",
   "execution_count": 2,
   "metadata": {},
   "outputs": [],
   "source": [
    "format_dict = {\n",
    "    'shares':'{:,}',    \n",
    "    'price':'{:.2f}',\n",
    "    'dividend':'{:.4f}', \n",
    "    'date':'{:%Y-%m-%d}', \n",
    "    \n",
    "    'qty':'{:,}','shares':'{:,}',\n",
    "    'price':'{:.2f}','buy_price':'{:.2f}',\n",
    "    'dividend':'{:.4f}',    \n",
    "    'fee':'{:,.2f}','vat':'{:,.2f}','net':'{:,.2f}',\n",
    "  \n",
    "    'days':'{:,}',\n",
    "    'price':'{:.2f}',\n",
    "    'fee':'{:,.2f}','vat':'{:,.2f}','net':'{:,.2f}','profit':'{:,.2f}',\n",
    "    'percent':'{:,.2f}%','yearly':'{:,.2f}%',   \n",
    "    \n",
    "    'shares':'{:,}',    \n",
    "    'q4':'{:.4f}','q3':'{:.4f}','q2':'{:.4f}','q1':'{:.4f}','dividend':'{:.4f}',\n",
    "    'xdate':'{:%Y-%m-%d}','paiddate':'{:%Y-%m-%d}',\n",
    "    \n",
    "    'qty':'{:,}','available_qty':'{:,}',\n",
    "    'cost':'{:.2f}','max_price':'{:.2f}','min_price':'{:.2f}','buy_target':'{:.2f}','sell_target':'{:.2f}',\n",
    "    'volume':'{:,.2f}','beta':'{:,.2f}',\n",
    "    \n",
    "    'qty':'{:,}','available_qty':'{:,}',\n",
    "    'cost':'{:.2f}','max_price':'{:.2f}','min_price':'{:.2f}','buy_target':'{:.2f}','sell_target':'{:.2f}',\n",
    "    'volume':'{:,.2f}','beta':'{:,.2f}',\n",
    "    }"
   ]
  },
  {
   "cell_type": "code",
   "execution_count": 3,
   "metadata": {},
   "outputs": [
    {
     "data": {
      "text/html": [
       "<style type=\"text/css\">\n",
       "</style>\n",
       "<table id=\"T_83074_\">\n",
       "  <thead>\n",
       "    <tr>\n",
       "      <th class=\"blank level0\" >&nbsp;</th>\n",
       "      <th class=\"col_heading level0 col0\" >name</th>\n",
       "      <th class=\"col_heading level0 col1\" >stock_id</th>\n",
       "      <th class=\"col_heading level0 col2\" >buy_date</th>\n",
       "      <th class=\"col_heading level0 col3\" >qty</th>\n",
       "      <th class=\"col_heading level0 col4\" >buy_price</th>\n",
       "      <th class=\"col_heading level0 col5\" >id</th>\n",
       "      <th class=\"col_heading level0 col6\" >buy_id</th>\n",
       "      <th class=\"col_heading level0 col7\" >date</th>\n",
       "      <th class=\"col_heading level0 col8\" >price</th>\n",
       "      <th class=\"col_heading level0 col9\" >fee</th>\n",
       "      <th class=\"col_heading level0 col10\" >vat</th>\n",
       "      <th class=\"col_heading level0 col11\" >net</th>\n",
       "      <th class=\"col_heading level0 col12\" >days</th>\n",
       "      <th class=\"col_heading level0 col13\" >profit</th>\n",
       "      <th class=\"col_heading level0 col14\" >percent</th>\n",
       "      <th class=\"col_heading level0 col15\" >yearly</th>\n",
       "      <th class=\"col_heading level0 col16\" >sequence</th>\n",
       "      <th class=\"col_heading level0 col17\" >chart</th>\n",
       "      <th class=\"col_heading level0 col18\" >dividend_id</th>\n",
       "    </tr>\n",
       "  </thead>\n",
       "  <tbody>\n",
       "    <tr>\n",
       "      <th id=\"T_83074_level0_row0\" class=\"row_heading level0 row0\" >0</th>\n",
       "      <td id=\"T_83074_row0_col0\" class=\"data row0 col0\" >MCS</td>\n",
       "      <td id=\"T_83074_row0_col1\" class=\"data row0 col1\" >43</td>\n",
       "      <td id=\"T_83074_row0_col2\" class=\"data row0 col2\" >2021-03-16</td>\n",
       "      <td id=\"T_83074_row0_col3\" class=\"data row0 col3\" >5,000</td>\n",
       "      <td id=\"T_83074_row0_col4\" class=\"data row0 col4\" >16.70</td>\n",
       "      <td id=\"T_83074_row0_col5\" class=\"data row0 col5\" >918</td>\n",
       "      <td id=\"T_83074_row0_col6\" class=\"data row0 col6\" >841</td>\n",
       "      <td id=\"T_83074_row0_col7\" class=\"data row0 col7\" >2022-02-03</td>\n",
       "      <td id=\"T_83074_row0_col8\" class=\"data row0 col8\" >14.70</td>\n",
       "      <td id=\"T_83074_row0_col9\" class=\"data row0 col9\" >152.15</td>\n",
       "      <td id=\"T_83074_row0_col10\" class=\"data row0 col10\" >10.65</td>\n",
       "      <td id=\"T_83074_row0_col11\" class=\"data row0 col11\" >73,337.20</td>\n",
       "      <td id=\"T_83074_row0_col12\" class=\"data row0 col12\" >324</td>\n",
       "      <td id=\"T_83074_row0_col13\" class=\"data row0 col13\" >-10,347.75</td>\n",
       "      <td id=\"T_83074_row0_col14\" class=\"data row0 col14\" >-12.37%</td>\n",
       "      <td id=\"T_83074_row0_col15\" class=\"data row0 col15\" >-13.93%</td>\n",
       "      <td id=\"T_83074_row0_col16\" class=\"data row0 col16\" >82</td>\n",
       "      <td id=\"T_83074_row0_col17\" class=\"data row0 col17\" >None</td>\n",
       "      <td id=\"T_83074_row0_col18\" class=\"data row0 col18\" >0</td>\n",
       "    </tr>\n",
       "  </tbody>\n",
       "</table>\n"
      ],
      "text/plain": [
       "<pandas.io.formats.style.Styler at 0x273f8c25bb0>"
      ]
     },
     "execution_count": 3,
     "metadata": {},
     "output_type": "execute_result"
    }
   ],
   "source": [
    "# Sells table in MySQL portfolio database\n",
    "sql = \"\"\"\n",
    "SELECT name, stock_id, B.date AS buy_date, qty, B.price AS buy_price, S.* \n",
    "FROM sells S\n",
    "JOIN buys B ON S.buy_id = B.id\n",
    "JOIN stocks T ON B.stock_id = T.id\n",
    "ORDER BY S.id DESC\n",
    "LIMIT 1\"\"\"\n",
    "sells = pd.read_sql(sql, conpf)\n",
    "sells.style.format(format_dict)"
   ]
  },
  {
   "cell_type": "markdown",
   "metadata": {},
   "source": [
    "### In case of sale, retreive buy id from sells record (buy_id)"
   ]
  },
  {
   "cell_type": "code",
   "execution_count": null,
   "metadata": {},
   "outputs": [],
   "source": [
    "# Buys table in MySQL portfolio database\n",
    "transaction = 'S'\n",
    "\n",
    "names = sells['name']\n",
    "name = names.to_string(index=False)\n",
    "\n",
    "sr_qty = sells['qty']\n",
    "qty = sr_qty.to_string(index=False)\n",
    "qty = int(qty) * -1\n",
    "\n",
    "sr_price = sells['buy_price']\n",
    "buy_price = sr_price.to_string(index=False)\n",
    "buy_price = float(buy_price)\n",
    "\n",
    "sr_price = sells['price']\n",
    "sell_price = sr_price.to_string(index=False)\n",
    "sell_price = float(sell_price)\n",
    "\n",
    "buy_ids = sells['buy_id']\n",
    "buy_id = buy_ids.to_string(index=False)\n",
    "\n",
    "sql = \"\"\"\n",
    "SELECT name, B.* \n",
    "FROM buys B\n",
    "JOIN stocks T \n",
    "ON B.stock_id = T.id\n",
    "WHERE B.id = %s\n",
    "\"\"\"\n",
    "sql = sql % buy_id\n",
    "print(sql)\n",
    "\n",
    "buys = pd.read_sql(sql, conpf)\n",
    "buys.style.format(format_dict)"
   ]
  },
  {
   "cell_type": "code",
   "execution_count": null,
   "metadata": {},
   "outputs": [],
   "source": [
    "transaction, name, qty, sell_price, buy_price"
   ]
  },
  {
   "cell_type": "markdown",
   "metadata": {},
   "source": [
    "### In case of buy, retreive buy id from latest buy record (id)"
   ]
  },
  {
   "cell_type": "code",
   "execution_count": 4,
   "metadata": {},
   "outputs": [
    {
     "name": "stdout",
     "output_type": "stream",
     "text": [
      "\n",
      "SELECT name, B.* \n",
      "FROM buys B\n",
      "JOIN stocks T \n",
      "ON B.stock_id = T.id\n",
      "ORDER BY id DESC\n",
      "LIMIT 1\n",
      "\n"
     ]
    },
    {
     "data": {
      "text/html": [
       "<div>\n",
       "<style scoped>\n",
       "    .dataframe tbody tr th:only-of-type {\n",
       "        vertical-align: middle;\n",
       "    }\n",
       "\n",
       "    .dataframe tbody tr th {\n",
       "        vertical-align: top;\n",
       "    }\n",
       "\n",
       "    .dataframe thead th {\n",
       "        text-align: right;\n",
       "    }\n",
       "</style>\n",
       "<table border=\"1\" class=\"dataframe\">\n",
       "  <thead>\n",
       "    <tr style=\"text-align: right;\">\n",
       "      <th></th>\n",
       "      <th>name</th>\n",
       "      <th>id</th>\n",
       "      <th>stock_id</th>\n",
       "      <th>date</th>\n",
       "      <th>qty</th>\n",
       "      <th>price</th>\n",
       "      <th>fee</th>\n",
       "      <th>vat</th>\n",
       "      <th>status</th>\n",
       "      <th>net</th>\n",
       "      <th>kind</th>\n",
       "      <th>chart</th>\n",
       "    </tr>\n",
       "  </thead>\n",
       "  <tbody>\n",
       "    <tr>\n",
       "      <th>0</th>\n",
       "      <td>SIS</td>\n",
       "      <td>1113</td>\n",
       "      <td>164</td>\n",
       "      <td>2022-02-04</td>\n",
       "      <td>1500</td>\n",
       "      <td>40.5</td>\n",
       "      <td>125.75</td>\n",
       "      <td>8.8</td>\n",
       "      <td>Active</td>\n",
       "      <td>60884.55</td>\n",
       "      <td>DTD</td>\n",
       "      <td>None</td>\n",
       "    </tr>\n",
       "  </tbody>\n",
       "</table>\n",
       "</div>"
      ],
      "text/plain": [
       "  name    id  stock_id        date   qty  price     fee  vat  status  \\\n",
       "0  SIS  1113       164  2022-02-04  1500   40.5  125.75  8.8  Active   \n",
       "\n",
       "        net kind chart  \n",
       "0  60884.55  DTD  None  "
      ]
     },
     "execution_count": 4,
     "metadata": {},
     "output_type": "execute_result"
    }
   ],
   "source": [
    "sql = \"\"\"\n",
    "SELECT name, B.* \n",
    "FROM buys B\n",
    "JOIN stocks T \n",
    "ON B.stock_id = T.id\n",
    "ORDER BY id DESC\n",
    "LIMIT 1\n",
    "\"\"\"\n",
    "print(sql)\n",
    "buys = pd.read_sql(sql, conpf)\n",
    "buys"
   ]
  },
  {
   "cell_type": "code",
   "execution_count": 5,
   "metadata": {},
   "outputs": [
    {
     "data": {
      "text/plain": [
       "('B', 'SIS', 1500, 40.5)"
      ]
     },
     "execution_count": 5,
     "metadata": {},
     "output_type": "execute_result"
    }
   ],
   "source": [
    "transaction = 'B'\n",
    "\n",
    "names = buys['name']\n",
    "name = names.to_string(index=False)\n",
    "\n",
    "sr_qty = buys['qty']\n",
    "qty = sr_qty.to_string(index=False)\n",
    "qty = int(qty)\n",
    "\n",
    "sr_price = buys['price']\n",
    "buy_price = sr_price.to_string(index=False)\n",
    "buy_price = float(buy_price)\n",
    "\n",
    "transaction, name, qty, buy_price"
   ]
  },
  {
   "cell_type": "markdown",
   "metadata": {},
   "source": [
    "## Begin of Sale transaction"
   ]
  },
  {
   "cell_type": "markdown",
   "metadata": {},
   "source": [
    "### Begin of Update buy table in MySQL stock database from sale transaction"
   ]
  },
  {
   "cell_type": "code",
   "execution_count": null,
   "metadata": {},
   "outputs": [],
   "source": [
    "sql = \"\"\"\n",
    "SELECT * \n",
    "FROM buy \n",
    "WHERE name = '%s'\n",
    "\"\"\"\n",
    "sql = sql % name\n",
    "print(sql)\n",
    "\n",
    "buy = pd.read_sql(sql, const)\n",
    "buy.drop(['volsell', 'volbal','dividend'], axis=1, inplace=True)\n",
    "buy.rename(columns={'volbuy':'shares'},inplace=True)\n",
    "buy['shares'] = buy['shares'].astype('int64')\n",
    "buy.style.format(format_dict)"
   ]
  },
  {
   "cell_type": "code",
   "execution_count": null,
   "metadata": {},
   "outputs": [],
   "source": [
    "sqlUpd = \"\"\"\n",
    "UPDATE buy\n",
    "SET volbuy = volbuy + %s\n",
    "WHERE name = '%s'\n",
    "\"\"\"\n",
    "sqlUpd = sqlUpd % (qty, name)\n",
    "print(sqlUpd)"
   ]
  },
  {
   "cell_type": "code",
   "execution_count": null,
   "metadata": {},
   "outputs": [],
   "source": [
    "rp = const.execute(sqlUpd)\n",
    "rp.rowcount"
   ]
  },
  {
   "cell_type": "code",
   "execution_count": null,
   "metadata": {},
   "outputs": [],
   "source": [
    "sql = \"\"\"\n",
    "SELECT * \n",
    "FROM buy \n",
    "WHERE name = '%s'\n",
    "\"\"\"\n",
    "sql = sql % name\n",
    "print(sql)\n",
    "\n",
    "buy = pd.read_sql(sql, const)\n",
    "buy.drop(['volsell', 'volbal','dividend'], axis=1, inplace=True)\n",
    "buy.rename(columns={'volbuy':'shares'},inplace=True)\n",
    "buy['shares'] = buy['shares'].astype('int64')\n",
    "buy.style.format(format_dict)"
   ]
  },
  {
   "cell_type": "markdown",
   "metadata": {},
   "source": [
    "### If shares become zero and no longer wants to keep buy record"
   ]
  },
  {
   "cell_type": "code",
   "execution_count": null,
   "metadata": {},
   "outputs": [],
   "source": [
    "sqlDel = \"\"\"\n",
    "DELETE FROM buy\n",
    "WHERE name = '%s' AND volbuy = 0\n",
    "\"\"\"\n",
    "sqlDel = sqlDel % name\n",
    "print(sqlDel)"
   ]
  },
  {
   "cell_type": "code",
   "execution_count": null,
   "metadata": {},
   "outputs": [],
   "source": [
    "rp = const.execute(sqlDel)\n",
    "rp.rowcount"
   ]
  },
  {
   "cell_type": "markdown",
   "metadata": {},
   "source": [
    "### End of Update buy table in MySQL stock database from sale transaction"
   ]
  },
  {
   "cell_type": "markdown",
   "metadata": {},
   "source": [
    "### Begin of Update dividend table in MySQL stock database from sale transaction"
   ]
  },
  {
   "cell_type": "code",
   "execution_count": null,
   "metadata": {},
   "outputs": [],
   "source": [
    "sql = \"\"\"\n",
    "SELECT * \n",
    "FROM dividend \n",
    "WHERE name = '%s'\n",
    "\"\"\"\n",
    "sql = sql % name\n",
    "print(sql)\n",
    "\n",
    "dividend = pd.read_sql(sql, const)\n",
    "dividend.drop(['PRICE', 'PERCENT'], axis=1, inplace=True)\n",
    "dividend.columns = dividend.columns.str.lower()\n",
    "dividend['shares'] = dividend['shares'].astype('int64')\n",
    "dividend['xdate'] = pd.to_datetime(dividend['xdate'])\n",
    "dividend['paiddate'] = pd.to_datetime(dividend['paiddate'])\n",
    "dividend.style.format(format_dict)"
   ]
  },
  {
   "cell_type": "code",
   "execution_count": null,
   "metadata": {},
   "outputs": [],
   "source": [
    "sqlUpd = \"\"\"\n",
    "UPDATE dividend\n",
    "SET shares = shares + %s\n",
    "WHERE name = '%s'\n",
    "\"\"\"\n",
    "sqlUpd = sqlUpd % (qty, name)\n",
    "print(sqlUpd)"
   ]
  },
  {
   "cell_type": "code",
   "execution_count": null,
   "metadata": {},
   "outputs": [],
   "source": [
    "rp = const.execute(sqlUpd)\n",
    "rp.rowcount"
   ]
  },
  {
   "cell_type": "code",
   "execution_count": null,
   "metadata": {},
   "outputs": [],
   "source": [
    "sql = \"\"\"\n",
    "SELECT * \n",
    "FROM dividend \n",
    "WHERE name = '%s'\n",
    "\"\"\"\n",
    "sql = sql % name\n",
    "print(sql)\n",
    "\n",
    "dividend = pd.read_sql(sql, const)\n",
    "dividend.drop(['PRICE', 'PERCENT'], axis=1, inplace=True)\n",
    "dividend.columns = dividend.columns.str.lower()\n",
    "dividend['shares'] = dividend['shares'].astype('int64')\n",
    "dividend['xdate'] = pd.to_datetime(dividend['xdate'])\n",
    "dividend['paiddate'] = pd.to_datetime(dividend['paiddate'])\n",
    "dividend.style.format(format_dict)"
   ]
  },
  {
   "cell_type": "markdown",
   "metadata": {},
   "source": [
    "### If shares become zero and no longer wants to keep dividend record"
   ]
  },
  {
   "cell_type": "code",
   "execution_count": null,
   "metadata": {},
   "outputs": [],
   "source": [
    "sqlDel = \"\"\"\n",
    "DELETE FROM dividend\n",
    "WHERE name = '%s' AND shares = 0\n",
    "\"\"\"\n",
    "sqlDel = sqlDel % name\n",
    "print(sqlDel)"
   ]
  },
  {
   "cell_type": "code",
   "execution_count": null,
   "metadata": {},
   "outputs": [],
   "source": [
    "rp = const.execute(sqlDel)\n",
    "rp.rowcount"
   ]
  },
  {
   "cell_type": "markdown",
   "metadata": {},
   "source": [
    "### End of Update dividend table in MySQL stock database from sale transaction"
   ]
  },
  {
   "cell_type": "markdown",
   "metadata": {},
   "source": [
    "### Begin of Update stocks table in SQLite port_lite database from sale transaction"
   ]
  },
  {
   "cell_type": "code",
   "execution_count": null,
   "metadata": {},
   "outputs": [],
   "source": [
    "sql = \"\"\"\n",
    "SELECT * \n",
    "FROM stocks \n",
    "WHERE name = '%s'\n",
    "\"\"\"\n",
    "sql = sql % name\n",
    "print(sql)\n",
    "\n",
    "stocks = pd.read_sql(sql, conlite)\n",
    "stocks.style.format(format_dict)"
   ]
  },
  {
   "cell_type": "code",
   "execution_count": null,
   "metadata": {},
   "outputs": [],
   "source": [
    "buy_target  = 00   # must calculate manually beforehand\n",
    "sell_target = 14.8\n",
    "status = 'I'\n",
    "reason = \"CUT\"\n",
    "sell_qty = 5000\n",
    "\n",
    "sqlUpd = \"\"\"\n",
    "UPDATE stocks\n",
    "SET available_qty = available_qty + %s,\n",
    "qty = %s, buy_target = %s, sell_target = %s, reason = '%s', status = '%s'\n",
    "WHERE name = '%s'\n",
    "\"\"\"\n",
    "sqlUpd = sqlUpd % (qty, sell_qty, buy_target, sell_target, reason, status, name)\n",
    "print(sqlUpd)"
   ]
  },
  {
   "cell_type": "code",
   "execution_count": null,
   "metadata": {},
   "outputs": [],
   "source": [
    "rp = conlite.execute(sqlUpd)\n",
    "rp.rowcount"
   ]
  },
  {
   "cell_type": "code",
   "execution_count": null,
   "metadata": {},
   "outputs": [],
   "source": [
    "sql = \"\"\"\n",
    "SELECT * \n",
    "FROM stocks \n",
    "WHERE name = '%s'\n",
    "\"\"\"\n",
    "sql = sql % name\n",
    "print(sql)\n",
    "\n",
    "stocks = pd.read_sql(sql, conlite)\n",
    "stocks.style.format(format_dict)"
   ]
  },
  {
   "cell_type": "markdown",
   "metadata": {},
   "source": [
    "### End of Update stocks table in SQLite port_lite database from sale transaction"
   ]
  },
  {
   "cell_type": "markdown",
   "metadata": {},
   "source": [
    "## End of Sale process"
   ]
  },
  {
   "cell_type": "markdown",
   "metadata": {},
   "source": [
    "## Begin of  Buy process"
   ]
  },
  {
   "cell_type": "markdown",
   "metadata": {},
   "source": [
    "### Begin of Update buy table in MySQL database from buy transaction"
   ]
  },
  {
   "cell_type": "code",
   "execution_count": 6,
   "metadata": {},
   "outputs": [
    {
     "name": "stdout",
     "output_type": "stream",
     "text": [
      "\n",
      "SELECT * \n",
      "FROM buy \n",
      "WHERE name = 'SIS'\n",
      "\n"
     ]
    },
    {
     "data": {
      "text/html": [
       "<div>\n",
       "<style scoped>\n",
       "    .dataframe tbody tr th:only-of-type {\n",
       "        vertical-align: middle;\n",
       "    }\n",
       "\n",
       "    .dataframe tbody tr th {\n",
       "        vertical-align: top;\n",
       "    }\n",
       "\n",
       "    .dataframe thead th {\n",
       "        text-align: right;\n",
       "    }\n",
       "</style>\n",
       "<table border=\"1\" class=\"dataframe\">\n",
       "  <thead>\n",
       "    <tr style=\"text-align: right;\">\n",
       "      <th></th>\n",
       "      <th>name</th>\n",
       "      <th>date</th>\n",
       "      <th>shares</th>\n",
       "      <th>price</th>\n",
       "      <th>active</th>\n",
       "      <th>dividend</th>\n",
       "      <th>period</th>\n",
       "      <th>grade</th>\n",
       "    </tr>\n",
       "  </thead>\n",
       "  <tbody>\n",
       "    <tr>\n",
       "      <th>0</th>\n",
       "      <td>SIS</td>\n",
       "      <td>2021-05-14</td>\n",
       "      <td>3000</td>\n",
       "      <td>40.5</td>\n",
       "      <td>1</td>\n",
       "      <td>1.0</td>\n",
       "      <td>3</td>\n",
       "      <td>A1</td>\n",
       "    </tr>\n",
       "  </tbody>\n",
       "</table>\n",
       "</div>"
      ],
      "text/plain": [
       "  name       date  shares  price  active  dividend period grade\n",
       "0  SIS 2021-05-14    3000   40.5       1       1.0      3    A1"
      ]
     },
     "execution_count": 6,
     "metadata": {},
     "output_type": "execute_result"
    }
   ],
   "source": [
    "sql = \"\"\"\n",
    "SELECT * \n",
    "FROM buy \n",
    "WHERE name = '%s'\n",
    "\"\"\"\n",
    "sql = sql % name\n",
    "print(sql)\n",
    "\n",
    "buy = pd.read_sql(sql, const)\n",
    "buy['date'] = pd.to_datetime(buy['date'])\n",
    "buy.drop(['volsell', 'volbal'], axis=1, inplace = True)\n",
    "buy.rename(columns={'volbuy':'shares'}, inplace = True)\n",
    "buy['shares'] = buy['shares'].astype('int64')\n",
    "buy"
   ]
  },
  {
   "cell_type": "markdown",
   "metadata": {},
   "source": [
    "### In case there is the same stock name in port"
   ]
  },
  {
   "cell_type": "code",
   "execution_count": 7,
   "metadata": {},
   "outputs": [
    {
     "name": "stdout",
     "output_type": "stream",
     "text": [
      "\n",
      "UPDATE buy\n",
      "SET volbuy = volbuy + 1500, price = 40.5\n",
      "WHERE name = 'SIS'\n",
      "\n"
     ]
    }
   ],
   "source": [
    "new_cost = 40.50 # new average cost must be calculated manually beforehand\n",
    "\n",
    "sqlUpd = \"\"\"\n",
    "UPDATE buy\n",
    "SET volbuy = volbuy + %s, price = %s\n",
    "WHERE name = '%s'\n",
    "\"\"\"\n",
    "sqlUpd = sqlUpd % (qty, new_cost, name)\n",
    "print(sqlUpd)"
   ]
  },
  {
   "cell_type": "code",
   "execution_count": 8,
   "metadata": {},
   "outputs": [
    {
     "data": {
      "text/plain": [
       "1"
      ]
     },
     "execution_count": 8,
     "metadata": {},
     "output_type": "execute_result"
    }
   ],
   "source": [
    "rp = const.execute(sqlUpd)\n",
    "rp.rowcount"
   ]
  },
  {
   "cell_type": "code",
   "execution_count": 9,
   "metadata": {},
   "outputs": [
    {
     "name": "stdout",
     "output_type": "stream",
     "text": [
      "\n",
      "SELECT * \n",
      "FROM buy \n",
      "WHERE name = 'SIS'\n",
      "\n"
     ]
    },
    {
     "data": {
      "text/html": [
       "<div>\n",
       "<style scoped>\n",
       "    .dataframe tbody tr th:only-of-type {\n",
       "        vertical-align: middle;\n",
       "    }\n",
       "\n",
       "    .dataframe tbody tr th {\n",
       "        vertical-align: top;\n",
       "    }\n",
       "\n",
       "    .dataframe thead th {\n",
       "        text-align: right;\n",
       "    }\n",
       "</style>\n",
       "<table border=\"1\" class=\"dataframe\">\n",
       "  <thead>\n",
       "    <tr style=\"text-align: right;\">\n",
       "      <th></th>\n",
       "      <th>name</th>\n",
       "      <th>date</th>\n",
       "      <th>shares</th>\n",
       "      <th>price</th>\n",
       "      <th>active</th>\n",
       "      <th>dividend</th>\n",
       "      <th>period</th>\n",
       "      <th>grade</th>\n",
       "    </tr>\n",
       "  </thead>\n",
       "  <tbody>\n",
       "    <tr>\n",
       "      <th>0</th>\n",
       "      <td>SIS</td>\n",
       "      <td>2021-05-14</td>\n",
       "      <td>4500</td>\n",
       "      <td>40.5</td>\n",
       "      <td>1</td>\n",
       "      <td>1.0</td>\n",
       "      <td>3</td>\n",
       "      <td>A1</td>\n",
       "    </tr>\n",
       "  </tbody>\n",
       "</table>\n",
       "</div>"
      ],
      "text/plain": [
       "  name        date  shares  price  active  dividend period grade\n",
       "0  SIS  2021-05-14    4500   40.5       1       1.0      3    A1"
      ]
     },
     "execution_count": 9,
     "metadata": {},
     "output_type": "execute_result"
    }
   ],
   "source": [
    "sql = \"\"\"\n",
    "SELECT * \n",
    "FROM buy \n",
    "WHERE name = '%s'\n",
    "\"\"\"\n",
    "sql = sql % name\n",
    "print(sql)\n",
    "\n",
    "buy = pd.read_sql(sql, const)\n",
    "buy.drop(['volsell', 'volbal'], axis=1, inplace=True)\n",
    "buy.rename(columns={'volbuy':'shares'},inplace=True)\n",
    "buy['shares'] = buy['shares'].astype('int64')\n",
    "buy"
   ]
  },
  {
   "cell_type": "markdown",
   "metadata": {},
   "source": [
    "### In case of totally new stock"
   ]
  },
  {
   "cell_type": "code",
   "execution_count": null,
   "metadata": {},
   "outputs": [],
   "source": [
    "rcd = ['CPNCG', '2022-02-03', 10000, 12.50, 0, 0, 1, 0.2222, '4', 'B4']\n",
    "rcd"
   ]
  },
  {
   "cell_type": "code",
   "execution_count": null,
   "metadata": {},
   "outputs": [],
   "source": [
    "sqlIns = \"\"\"\n",
    "INSERT INTO buy (name, date, volbuy, price, volsell, volbal, active, dividend, period, grade)\n",
    "VALUES (%s, %s, %s, %s, %s, %s, %s, %s, %s, %s)\n",
    "\"\"\"\n",
    "print(sql)"
   ]
  },
  {
   "cell_type": "code",
   "execution_count": null,
   "metadata": {},
   "outputs": [],
   "source": [
    "rp = const.execute(sqlIns, rcd)\n",
    "rp.rowcount"
   ]
  },
  {
   "cell_type": "markdown",
   "metadata": {},
   "source": [
    "### End of Update buy table in MySQL database from buy transaction"
   ]
  },
  {
   "cell_type": "markdown",
   "metadata": {},
   "source": [
    "### Begin of Update dividend table in MySQL stock database from buy transaction"
   ]
  },
  {
   "cell_type": "code",
   "execution_count": 10,
   "metadata": {},
   "outputs": [
    {
     "name": "stdout",
     "output_type": "stream",
     "text": [
      "\n",
      "SELECT * \n",
      "FROM dividend \n",
      "WHERE name = 'SIS' \n",
      "\n"
     ]
    },
    {
     "data": {
      "text/html": [
       "<style type=\"text/css\">\n",
       "</style>\n",
       "<table id=\"T_ee043_\">\n",
       "  <thead>\n",
       "    <tr>\n",
       "      <th class=\"blank level0\" >&nbsp;</th>\n",
       "      <th class=\"col_heading level0 col0\" >name</th>\n",
       "      <th class=\"col_heading level0 col1\" >q4</th>\n",
       "      <th class=\"col_heading level0 col2\" >q3</th>\n",
       "      <th class=\"col_heading level0 col3\" >q2</th>\n",
       "      <th class=\"col_heading level0 col4\" >q1</th>\n",
       "      <th class=\"col_heading level0 col5\" >dividend</th>\n",
       "      <th class=\"col_heading level0 col6\" >shares</th>\n",
       "      <th class=\"col_heading level0 col7\" >xdate</th>\n",
       "      <th class=\"col_heading level0 col8\" >paiddate</th>\n",
       "      <th class=\"col_heading level0 col9\" >kind</th>\n",
       "      <th class=\"col_heading level0 col10\" >actual</th>\n",
       "    </tr>\n",
       "  </thead>\n",
       "  <tbody>\n",
       "    <tr>\n",
       "      <th id=\"T_ee043_level0_row0\" class=\"row_heading level0 row0\" >0</th>\n",
       "      <td id=\"T_ee043_row0_col0\" class=\"data row0 col0\" >SIS</td>\n",
       "      <td id=\"T_ee043_row0_col1\" class=\"data row0 col1\" >1.0000</td>\n",
       "      <td id=\"T_ee043_row0_col2\" class=\"data row0 col2\" >0.0000</td>\n",
       "      <td id=\"T_ee043_row0_col3\" class=\"data row0 col3\" >0.0000</td>\n",
       "      <td id=\"T_ee043_row0_col4\" class=\"data row0 col4\" >0.0000</td>\n",
       "      <td id=\"T_ee043_row0_col5\" class=\"data row0 col5\" >1.0000</td>\n",
       "      <td id=\"T_ee043_row0_col6\" class=\"data row0 col6\" >3,000</td>\n",
       "      <td id=\"T_ee043_row0_col7\" class=\"data row0 col7\" >2021-05-14</td>\n",
       "      <td id=\"T_ee043_row0_col8\" class=\"data row0 col8\" >2021-05-14</td>\n",
       "      <td id=\"T_ee043_row0_col9\" class=\"data row0 col9\" ></td>\n",
       "      <td id=\"T_ee043_row0_col10\" class=\"data row0 col10\" >0</td>\n",
       "    </tr>\n",
       "  </tbody>\n",
       "</table>\n"
      ],
      "text/plain": [
       "<pandas.io.formats.style.Styler at 0x273fc8df3d0>"
      ]
     },
     "execution_count": 10,
     "metadata": {},
     "output_type": "execute_result"
    }
   ],
   "source": [
    "sql = \"\"\"\n",
    "SELECT * \n",
    "FROM dividend \n",
    "WHERE name = '%s' \n",
    "\"\"\"\n",
    "sql = sql % name\n",
    "print(sql)\n",
    "\n",
    "dividend = pd.read_sql(sql, const)\n",
    "dividend.drop(['PRICE', 'PERCENT'], axis=1, inplace=True)\n",
    "dividend.columns = dividend.columns.str.lower()\n",
    "dividend['shares'] = dividend['shares'].astype('int64')\n",
    "dividend['xdate'] = pd.to_datetime(dividend['xdate'])\n",
    "dividend['paiddate'] = pd.to_datetime(dividend['paiddate'])\n",
    "dividend.style.format(format_dict)"
   ]
  },
  {
   "cell_type": "code",
   "execution_count": 11,
   "metadata": {},
   "outputs": [
    {
     "name": "stdout",
     "output_type": "stream",
     "text": [
      "\n",
      "UPDATE dividend\n",
      "SET shares = shares + 1500\n",
      "WHERE name = 'SIS'\n",
      "\n"
     ]
    }
   ],
   "source": [
    "sqlUpd = \"\"\"\n",
    "UPDATE dividend\n",
    "SET shares = shares + %s\n",
    "WHERE name = '%s'\n",
    "\"\"\"\n",
    "sqlUpd = sqlUpd % (qty, name)\n",
    "print(sqlUpd)"
   ]
  },
  {
   "cell_type": "code",
   "execution_count": 12,
   "metadata": {},
   "outputs": [
    {
     "data": {
      "text/plain": [
       "1"
      ]
     },
     "execution_count": 12,
     "metadata": {},
     "output_type": "execute_result"
    }
   ],
   "source": [
    "rp = const.execute(sqlUpd)\n",
    "rp.rowcount"
   ]
  },
  {
   "cell_type": "code",
   "execution_count": 13,
   "metadata": {},
   "outputs": [
    {
     "name": "stdout",
     "output_type": "stream",
     "text": [
      "\n",
      "SELECT * \n",
      "FROM dividend \n",
      "WHERE name = 'SIS' \n",
      "\n"
     ]
    },
    {
     "data": {
      "text/html": [
       "<style type=\"text/css\">\n",
       "</style>\n",
       "<table id=\"T_9cb0f_\">\n",
       "  <thead>\n",
       "    <tr>\n",
       "      <th class=\"blank level0\" >&nbsp;</th>\n",
       "      <th class=\"col_heading level0 col0\" >name</th>\n",
       "      <th class=\"col_heading level0 col1\" >q4</th>\n",
       "      <th class=\"col_heading level0 col2\" >q3</th>\n",
       "      <th class=\"col_heading level0 col3\" >q2</th>\n",
       "      <th class=\"col_heading level0 col4\" >q1</th>\n",
       "      <th class=\"col_heading level0 col5\" >dividend</th>\n",
       "      <th class=\"col_heading level0 col6\" >shares</th>\n",
       "      <th class=\"col_heading level0 col7\" >xdate</th>\n",
       "      <th class=\"col_heading level0 col8\" >paiddate</th>\n",
       "      <th class=\"col_heading level0 col9\" >kind</th>\n",
       "      <th class=\"col_heading level0 col10\" >actual</th>\n",
       "    </tr>\n",
       "  </thead>\n",
       "  <tbody>\n",
       "    <tr>\n",
       "      <th id=\"T_9cb0f_level0_row0\" class=\"row_heading level0 row0\" >0</th>\n",
       "      <td id=\"T_9cb0f_row0_col0\" class=\"data row0 col0\" >SIS</td>\n",
       "      <td id=\"T_9cb0f_row0_col1\" class=\"data row0 col1\" >1.0000</td>\n",
       "      <td id=\"T_9cb0f_row0_col2\" class=\"data row0 col2\" >0.0000</td>\n",
       "      <td id=\"T_9cb0f_row0_col3\" class=\"data row0 col3\" >0.0000</td>\n",
       "      <td id=\"T_9cb0f_row0_col4\" class=\"data row0 col4\" >0.0000</td>\n",
       "      <td id=\"T_9cb0f_row0_col5\" class=\"data row0 col5\" >1.0000</td>\n",
       "      <td id=\"T_9cb0f_row0_col6\" class=\"data row0 col6\" >4,500</td>\n",
       "      <td id=\"T_9cb0f_row0_col7\" class=\"data row0 col7\" >2021-05-14</td>\n",
       "      <td id=\"T_9cb0f_row0_col8\" class=\"data row0 col8\" >2021-05-14</td>\n",
       "      <td id=\"T_9cb0f_row0_col9\" class=\"data row0 col9\" ></td>\n",
       "      <td id=\"T_9cb0f_row0_col10\" class=\"data row0 col10\" >0</td>\n",
       "    </tr>\n",
       "  </tbody>\n",
       "</table>\n"
      ],
      "text/plain": [
       "<pandas.io.formats.style.Styler at 0x273f8c1ae80>"
      ]
     },
     "execution_count": 13,
     "metadata": {},
     "output_type": "execute_result"
    }
   ],
   "source": [
    "sql = \"\"\"\n",
    "SELECT * \n",
    "FROM dividend \n",
    "WHERE name = '%s' \n",
    "\"\"\"\n",
    "sql = sql % name\n",
    "print(sql)\n",
    "\n",
    "dividend = pd.read_sql(sql, const)\n",
    "dividend.drop(['PRICE', 'PERCENT'], axis=1, inplace=True)\n",
    "dividend.columns = dividend.columns.str.lower()\n",
    "dividend['shares'] = dividend['shares'].astype('int64')\n",
    "dividend['xdate'] = pd.to_datetime(dividend['xdate'])\n",
    "dividend['paiddate'] = pd.to_datetime(dividend['paiddate'])\n",
    "dividend.style.format(format_dict)"
   ]
  },
  {
   "cell_type": "markdown",
   "metadata": {},
   "source": [
    "### End of Update dividend table in MySQL stock database from buy transaction"
   ]
  },
  {
   "cell_type": "markdown",
   "metadata": {},
   "source": [
    "### Begin of Update stocks table in SQLite port_lite database from buy transaction"
   ]
  },
  {
   "cell_type": "code",
   "execution_count": 14,
   "metadata": {},
   "outputs": [
    {
     "name": "stdout",
     "output_type": "stream",
     "text": [
      "\n",
      "SELECT * \n",
      "FROM stocks \n",
      "WHERE name = 'SIS'\n",
      "\n"
     ]
    }
   ],
   "source": [
    "sql = \"\"\"\n",
    "SELECT * \n",
    "FROM stocks \n",
    "WHERE name = '%s'\n",
    "\"\"\"\n",
    "sql = sql % name\n",
    "print(sql)"
   ]
  },
  {
   "cell_type": "code",
   "execution_count": 15,
   "metadata": {
    "scrolled": true
   },
   "outputs": [
    {
     "data": {
      "text/html": [
       "<style type=\"text/css\">\n",
       "</style>\n",
       "<table id=\"T_81a56_\">\n",
       "  <thead>\n",
       "    <tr>\n",
       "      <th class=\"blank level0\" >&nbsp;</th>\n",
       "      <th class=\"col_heading level0 col0\" >id</th>\n",
       "      <th class=\"col_heading level0 col1\" >name</th>\n",
       "      <th class=\"col_heading level0 col2\" >max_price</th>\n",
       "      <th class=\"col_heading level0 col3\" >min_price</th>\n",
       "      <th class=\"col_heading level0 col4\" >status</th>\n",
       "      <th class=\"col_heading level0 col5\" >buy_target</th>\n",
       "      <th class=\"col_heading level0 col6\" >sell_target</th>\n",
       "      <th class=\"col_heading level0 col7\" >volume</th>\n",
       "      <th class=\"col_heading level0 col8\" >beta</th>\n",
       "      <th class=\"col_heading level0 col9\" >cost</th>\n",
       "      <th class=\"col_heading level0 col10\" >qty</th>\n",
       "      <th class=\"col_heading level0 col11\" >buy_spread</th>\n",
       "      <th class=\"col_heading level0 col12\" >sell_spread</th>\n",
       "      <th class=\"col_heading level0 col13\" >available_qty</th>\n",
       "      <th class=\"col_heading level0 col14\" >bl</th>\n",
       "      <th class=\"col_heading level0 col15\" >sh</th>\n",
       "      <th class=\"col_heading level0 col16\" >reason</th>\n",
       "      <th class=\"col_heading level0 col17\" >market</th>\n",
       "    </tr>\n",
       "  </thead>\n",
       "  <tbody>\n",
       "    <tr>\n",
       "      <th id=\"T_81a56_level0_row0\" class=\"row_heading level0 row0\" >0</th>\n",
       "      <td id=\"T_81a56_row0_col0\" class=\"data row0 col0\" >564</td>\n",
       "      <td id=\"T_81a56_row0_col1\" class=\"data row0 col1\" >SIS</td>\n",
       "      <td id=\"T_81a56_row0_col2\" class=\"data row0 col2\" >48.75</td>\n",
       "      <td id=\"T_81a56_row0_col3\" class=\"data row0 col3\" >18.60</td>\n",
       "      <td id=\"T_81a56_row0_col4\" class=\"data row0 col4\" >B</td>\n",
       "      <td id=\"T_81a56_row0_col5\" class=\"data row0 col5\" >40.50</td>\n",
       "      <td id=\"T_81a56_row0_col6\" class=\"data row0 col6\" >46.50</td>\n",
       "      <td id=\"T_81a56_row0_col7\" class=\"data row0 col7\" >38.43</td>\n",
       "      <td id=\"T_81a56_row0_col8\" class=\"data row0 col8\" >1.99</td>\n",
       "      <td id=\"T_81a56_row0_col9\" class=\"data row0 col9\" >40.50</td>\n",
       "      <td id=\"T_81a56_row0_col10\" class=\"data row0 col10\" >1,500</td>\n",
       "      <td id=\"T_81a56_row0_col11\" class=\"data row0 col11\" >-11</td>\n",
       "      <td id=\"T_81a56_row0_col12\" class=\"data row0 col12\" >18</td>\n",
       "      <td id=\"T_81a56_row0_col13\" class=\"data row0 col13\" >3,000</td>\n",
       "      <td id=\"T_81a56_row0_col14\" class=\"data row0 col14\" >0</td>\n",
       "      <td id=\"T_81a56_row0_col15\" class=\"data row0 col15\" >24</td>\n",
       "      <td id=\"T_81a56_row0_col16\" class=\"data row0 col16\" >ROUND</td>\n",
       "      <td id=\"T_81a56_row0_col17\" class=\"data row0 col17\" >SET</td>\n",
       "    </tr>\n",
       "  </tbody>\n",
       "</table>\n"
      ],
      "text/plain": [
       "<pandas.io.formats.style.Styler at 0x273fc8975b0>"
      ]
     },
     "execution_count": 15,
     "metadata": {},
     "output_type": "execute_result"
    }
   ],
   "source": [
    "stocks = pd.read_sql(sql, conlite)\n",
    "stocks.style.format(format_dict)"
   ]
  },
  {
   "cell_type": "code",
   "execution_count": 16,
   "metadata": {},
   "outputs": [
    {
     "data": {
      "text/plain": [
       "(40.5, 40.5, 46.5, 'B', 'ROUND', 1500, 1500)"
      ]
     },
     "execution_count": 16,
     "metadata": {},
     "output_type": "execute_result"
    }
   ],
   "source": [
    "new_cost = 40.50\n",
    "buy_target = 40.50\n",
    "sell_target = 46.50\n",
    "status = 'B'\n",
    "reason = 'ROUND'\n",
    "new_buy_qty = 1500\n",
    "new_sell_qty = 1500\n",
    "new_cost, buy_target, sell_target, status, reason, new_buy_qty, new_sell_qty "
   ]
  },
  {
   "cell_type": "code",
   "execution_count": 17,
   "metadata": {},
   "outputs": [
    {
     "name": "stdout",
     "output_type": "stream",
     "text": [
      "\n",
      "UPDATE stocks\n",
      "SET available_qty = available_qty + 1500, \n",
      "cost = 40.5, buy_target = 40.5, sell_target = 46.5, status = 'B', \n",
      "reason = 'ROUND', qty = 1500\n",
      "WHERE name = 'SIS'\n",
      "\n"
     ]
    }
   ],
   "source": [
    "sqlUpd = \"\"\"\n",
    "UPDATE stocks\n",
    "SET available_qty = available_qty + %s, \n",
    "cost = %s, buy_target = %s, sell_target = %s, status = '%s', \n",
    "reason = '%s', qty = %s\n",
    "WHERE name = '%s'\n",
    "\"\"\"\n",
    "sqlUpd = sqlUpd % (qty, new_cost, buy_target, sell_target, status, reason, new_sell_qty, name)\n",
    "print(sqlUpd)"
   ]
  },
  {
   "cell_type": "code",
   "execution_count": 18,
   "metadata": {},
   "outputs": [
    {
     "data": {
      "text/plain": [
       "1"
      ]
     },
     "execution_count": 18,
     "metadata": {},
     "output_type": "execute_result"
    }
   ],
   "source": [
    "rp = conlite.execute(sqlUpd)\n",
    "rp.rowcount"
   ]
  },
  {
   "cell_type": "code",
   "execution_count": 19,
   "metadata": {},
   "outputs": [
    {
     "name": "stdout",
     "output_type": "stream",
     "text": [
      "\n",
      "SELECT * \n",
      "FROM stocks \n",
      "WHERE name = 'SIS'\n",
      "\n"
     ]
    },
    {
     "data": {
      "text/html": [
       "<style type=\"text/css\">\n",
       "</style>\n",
       "<table id=\"T_f6b67_\">\n",
       "  <thead>\n",
       "    <tr>\n",
       "      <th class=\"blank level0\" >&nbsp;</th>\n",
       "      <th class=\"col_heading level0 col0\" >id</th>\n",
       "      <th class=\"col_heading level0 col1\" >name</th>\n",
       "      <th class=\"col_heading level0 col2\" >max_price</th>\n",
       "      <th class=\"col_heading level0 col3\" >min_price</th>\n",
       "      <th class=\"col_heading level0 col4\" >status</th>\n",
       "      <th class=\"col_heading level0 col5\" >buy_target</th>\n",
       "      <th class=\"col_heading level0 col6\" >sell_target</th>\n",
       "      <th class=\"col_heading level0 col7\" >volume</th>\n",
       "      <th class=\"col_heading level0 col8\" >beta</th>\n",
       "      <th class=\"col_heading level0 col9\" >cost</th>\n",
       "      <th class=\"col_heading level0 col10\" >qty</th>\n",
       "      <th class=\"col_heading level0 col11\" >buy_spread</th>\n",
       "      <th class=\"col_heading level0 col12\" >sell_spread</th>\n",
       "      <th class=\"col_heading level0 col13\" >available_qty</th>\n",
       "      <th class=\"col_heading level0 col14\" >bl</th>\n",
       "      <th class=\"col_heading level0 col15\" >sh</th>\n",
       "      <th class=\"col_heading level0 col16\" >reason</th>\n",
       "      <th class=\"col_heading level0 col17\" >market</th>\n",
       "    </tr>\n",
       "  </thead>\n",
       "  <tbody>\n",
       "    <tr>\n",
       "      <th id=\"T_f6b67_level0_row0\" class=\"row_heading level0 row0\" >0</th>\n",
       "      <td id=\"T_f6b67_row0_col0\" class=\"data row0 col0\" >564</td>\n",
       "      <td id=\"T_f6b67_row0_col1\" class=\"data row0 col1\" >SIS</td>\n",
       "      <td id=\"T_f6b67_row0_col2\" class=\"data row0 col2\" >48.75</td>\n",
       "      <td id=\"T_f6b67_row0_col3\" class=\"data row0 col3\" >18.60</td>\n",
       "      <td id=\"T_f6b67_row0_col4\" class=\"data row0 col4\" >B</td>\n",
       "      <td id=\"T_f6b67_row0_col5\" class=\"data row0 col5\" >40.50</td>\n",
       "      <td id=\"T_f6b67_row0_col6\" class=\"data row0 col6\" >46.50</td>\n",
       "      <td id=\"T_f6b67_row0_col7\" class=\"data row0 col7\" >38.43</td>\n",
       "      <td id=\"T_f6b67_row0_col8\" class=\"data row0 col8\" >1.99</td>\n",
       "      <td id=\"T_f6b67_row0_col9\" class=\"data row0 col9\" >40.50</td>\n",
       "      <td id=\"T_f6b67_row0_col10\" class=\"data row0 col10\" >1,500</td>\n",
       "      <td id=\"T_f6b67_row0_col11\" class=\"data row0 col11\" >-11</td>\n",
       "      <td id=\"T_f6b67_row0_col12\" class=\"data row0 col12\" >18</td>\n",
       "      <td id=\"T_f6b67_row0_col13\" class=\"data row0 col13\" >4,500</td>\n",
       "      <td id=\"T_f6b67_row0_col14\" class=\"data row0 col14\" >0</td>\n",
       "      <td id=\"T_f6b67_row0_col15\" class=\"data row0 col15\" >24</td>\n",
       "      <td id=\"T_f6b67_row0_col16\" class=\"data row0 col16\" >ROUND</td>\n",
       "      <td id=\"T_f6b67_row0_col17\" class=\"data row0 col17\" >SET</td>\n",
       "    </tr>\n",
       "  </tbody>\n",
       "</table>\n"
      ],
      "text/plain": [
       "<pandas.io.formats.style.Styler at 0x273fc904ee0>"
      ]
     },
     "execution_count": 19,
     "metadata": {},
     "output_type": "execute_result"
    }
   ],
   "source": [
    "sql = \"\"\"\n",
    "SELECT * \n",
    "FROM stocks \n",
    "WHERE name = '%s'\n",
    "\"\"\"\n",
    "sql = sql % name\n",
    "print(sql)\n",
    "\n",
    "stocks = pd.read_sql(sql, conlite)\n",
    "stocks.style.format(format_dict)"
   ]
  },
  {
   "cell_type": "markdown",
   "metadata": {},
   "source": [
    "### End of Update stocks table in SQLite port_lite database from buy transaction"
   ]
  },
  {
   "cell_type": "markdown",
   "metadata": {},
   "source": [
    "## End of  Buy process"
   ]
  },
  {
   "cell_type": "code",
   "execution_count": null,
   "metadata": {},
   "outputs": [],
   "source": []
  }
 ],
 "metadata": {
  "anaconda-cloud": {},
  "kernelspec": {
   "display_name": "Python 3 (ipykernel)",
   "language": "python",
   "name": "python3"
  },
  "language_info": {
   "codemirror_mode": {
    "name": "ipython",
    "version": 3
   },
   "file_extension": ".py",
   "mimetype": "text/x-python",
   "name": "python",
   "nbconvert_exporter": "python",
   "pygments_lexer": "ipython3",
   "version": "3.8.11"
  }
 },
 "nbformat": 4,
 "nbformat_minor": 1
}
