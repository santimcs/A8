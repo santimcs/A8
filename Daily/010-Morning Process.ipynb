{
 "cells": [
  {
   "cell_type": "markdown",
   "metadata": {},
   "source": [
    "#### SQLite port_lite database: sales, stocks table\n",
    "#### csv files: daily-watch-list, daily-sales, monitors, stocks-all"
   ]
  },
  {
   "cell_type": "code",
   "execution_count": 1,
   "metadata": {},
   "outputs": [
    {
     "data": {
      "text/plain": [
       "datetime.date(2022, 11, 17)"
      ]
     },
     "execution_count": 1,
     "metadata": {},
     "output_type": "execute_result"
    }
   ],
   "source": [
    "import numpy as np\n",
    "import pandas as pd\n",
    "from datetime import date, timedelta\n",
    "from sqlalchemy import create_engine\n",
    "\n",
    "engine = create_engine(\"sqlite:///c:\\\\ruby\\\\port_lite\\\\db\\\\development.sqlite3\")\n",
    "conlite = engine.connect()\n",
    "\n",
    "data_path = \"../data/\"\n",
    "csv_path = \"\\\\Users\\\\User\\\\iCloudDrive\\\\\"\n",
    "box_path = \"\\\\Users\\\\User\\\\Dropbox\\\\\"\n",
    "one_path = \"\\\\Users\\\\User\\\\OneDrive\\\\Documents\\\\Data\\\\\"\n",
    "\n",
    "today = date.today()\n",
    "yesterday = today - timedelta(days=1)\n",
    "yesterday"
   ]
  },
  {
   "cell_type": "markdown",
   "metadata": {},
   "source": [
    "### Yesterday = Last business day"
   ]
  },
  {
   "cell_type": "code",
   "execution_count": 2,
   "metadata": {},
   "outputs": [
    {
     "data": {
      "text/plain": [
       "datetime.date(2022, 11, 17)"
      ]
     },
     "execution_count": 2,
     "metadata": {},
     "output_type": "execute_result"
    }
   ],
   "source": [
    "#yesterday = date(2022, 11, 4)\n",
    "yesterday"
   ]
  },
  {
   "cell_type": "markdown",
   "metadata": {},
   "source": [
    "### Restart and Run All Cells"
   ]
  },
  {
   "cell_type": "code",
   "execution_count": 3,
   "metadata": {},
   "outputs": [],
   "source": [
    "cols = 'fm_date to_date fm_price to_price qty max_price min_price percent status'.split()\n",
    "\n",
    "format_dict = {\n",
    "    'fm_price':'{:.2f}','to_price':'{:.2f}','diff':'{:.2f}',\n",
    "    'max_price':'{:.2f}','min_price':'{:.2f}',\n",
    "    'volume':'{:,.2f}','beta':'{:,.2f}',\n",
    "    'pct':'{:,.2f}%','percent':'{:,.2f}%',   \n",
    "    'fm_date':'{:%Y-%m-%d}','to_date':'{:%Y-%m-%d}',\n",
    "    'created_at':'{:%Y-%m-%d}','updated_at':'{:%Y-%m-%d}',\n",
    "    \n",
    "    'qty':'{:,}','available_qty':'{:,}',\n",
    "    'cost':'{:.2f}','buy_target':'{:.2f}','sell_target':'{:.2f}',\n",
    "}"
   ]
  },
  {
   "cell_type": "markdown",
   "metadata": {},
   "source": [
    "### Begin of Tables in the process"
   ]
  },
  {
   "cell_type": "code",
   "execution_count": 4,
   "metadata": {},
   "outputs": [
    {
     "data": {
      "text/html": [
       "<style type=\"text/css\">\n",
       "</style>\n",
       "<table id=\"T_7f251_\">\n",
       "  <thead>\n",
       "    <tr>\n",
       "      <th class=\"blank level0\" >&nbsp;</th>\n",
       "      <th class=\"col_heading level0 col0\" >id</th>\n",
       "      <th class=\"col_heading level0 col1\" >name</th>\n",
       "      <th class=\"col_heading level0 col2\" >fm_date</th>\n",
       "      <th class=\"col_heading level0 col3\" >to_date</th>\n",
       "      <th class=\"col_heading level0 col4\" >days</th>\n",
       "      <th class=\"col_heading level0 col5\" >fm_price</th>\n",
       "      <th class=\"col_heading level0 col6\" >to_price</th>\n",
       "      <th class=\"col_heading level0 col7\" >diff</th>\n",
       "      <th class=\"col_heading level0 col8\" >pct</th>\n",
       "      <th class=\"col_heading level0 col9\" >ttl_spread</th>\n",
       "      <th class=\"col_heading level0 col10\" >avg_spread</th>\n",
       "      <th class=\"col_heading level0 col11\" >max_price</th>\n",
       "      <th class=\"col_heading level0 col12\" >min_price</th>\n",
       "      <th class=\"col_heading level0 col13\" >qty</th>\n",
       "      <th class=\"col_heading level0 col14\" >created_at</th>\n",
       "      <th class=\"col_heading level0 col15\" >updated_at</th>\n",
       "      <th class=\"col_heading level0 col16\" >latest_date_id</th>\n",
       "    </tr>\n",
       "  </thead>\n",
       "  <tbody>\n",
       "    <tr>\n",
       "      <th id=\"T_7f251_level0_row0\" class=\"row_heading level0 row0\" >0</th>\n",
       "      <td id=\"T_7f251_row0_col0\" class=\"data row0 col0\" >1184206</td>\n",
       "      <td id=\"T_7f251_row0_col1\" class=\"data row0 col1\" >MCS</td>\n",
       "      <td id=\"T_7f251_row0_col2\" class=\"data row0 col2\" >2022-11-16</td>\n",
       "      <td id=\"T_7f251_row0_col3\" class=\"data row0 col3\" >2022-11-17</td>\n",
       "      <td id=\"T_7f251_row0_col4\" class=\"data row0 col4\" >1</td>\n",
       "      <td id=\"T_7f251_row0_col5\" class=\"data row0 col5\" >8.75</td>\n",
       "      <td id=\"T_7f251_row0_col6\" class=\"data row0 col6\" >8.80</td>\n",
       "      <td id=\"T_7f251_row0_col7\" class=\"data row0 col7\" >0.05</td>\n",
       "      <td id=\"T_7f251_row0_col8\" class=\"data row0 col8\" >0.57%</td>\n",
       "      <td id=\"T_7f251_row0_col9\" class=\"data row0 col9\" >1</td>\n",
       "      <td id=\"T_7f251_row0_col10\" class=\"data row0 col10\" >1</td>\n",
       "      <td id=\"T_7f251_row0_col11\" class=\"data row0 col11\" >8.80</td>\n",
       "      <td id=\"T_7f251_row0_col12\" class=\"data row0 col12\" >8.75</td>\n",
       "      <td id=\"T_7f251_row0_col13\" class=\"data row0 col13\" >581,949</td>\n",
       "      <td id=\"T_7f251_row0_col14\" class=\"data row0 col14\" >2022-11-17</td>\n",
       "      <td id=\"T_7f251_row0_col15\" class=\"data row0 col15\" >2022-11-17</td>\n",
       "      <td id=\"T_7f251_row0_col16\" class=\"data row0 col16\" >1</td>\n",
       "    </tr>\n",
       "  </tbody>\n",
       "</table>\n"
      ],
      "text/plain": [
       "<pandas.io.formats.style.Styler at 0x25d4b864d60>"
      ]
     },
     "execution_count": 4,
     "metadata": {},
     "output_type": "execute_result"
    }
   ],
   "source": [
    "sql = \"\"\"\n",
    "SELECT * \n",
    "FROM sales \n",
    "ORDER BY id DESC LIMIT 1\n",
    "\"\"\"\n",
    "tmp = pd.read_sql(sql, conlite)\n",
    "tmp[\"fm_date\"] = pd.to_datetime(tmp[\"fm_date\"])\n",
    "tmp[\"to_date\"] = pd.to_datetime(tmp[\"to_date\"])\n",
    "tmp[\"created_at\"] = pd.to_datetime(tmp[\"created_at\"])\n",
    "tmp[\"updated_at\"] = pd.to_datetime(tmp[\"updated_at\"])\n",
    "tmp.style.format(format_dict)"
   ]
  },
  {
   "cell_type": "code",
   "execution_count": 5,
   "metadata": {},
   "outputs": [
    {
     "name": "stdout",
     "output_type": "stream",
     "text": [
      "\n",
      "SELECT * \n",
      "FROM stocks\n",
      "WHERE name = 'MCS'\n",
      "\n"
     ]
    },
    {
     "data": {
      "text/html": [
       "<style type=\"text/css\">\n",
       "</style>\n",
       "<table id=\"T_d5fc0_\">\n",
       "  <thead>\n",
       "    <tr>\n",
       "      <th class=\"blank level0\" >&nbsp;</th>\n",
       "      <th class=\"col_heading level0 col0\" >id</th>\n",
       "      <th class=\"col_heading level0 col1\" >name</th>\n",
       "      <th class=\"col_heading level0 col2\" >max_price</th>\n",
       "      <th class=\"col_heading level0 col3\" >min_price</th>\n",
       "      <th class=\"col_heading level0 col4\" >status</th>\n",
       "      <th class=\"col_heading level0 col5\" >buy_target</th>\n",
       "      <th class=\"col_heading level0 col6\" >sell_target</th>\n",
       "      <th class=\"col_heading level0 col7\" >volume</th>\n",
       "      <th class=\"col_heading level0 col8\" >beta</th>\n",
       "      <th class=\"col_heading level0 col9\" >cost</th>\n",
       "      <th class=\"col_heading level0 col10\" >qty</th>\n",
       "      <th class=\"col_heading level0 col11\" >buy_spread</th>\n",
       "      <th class=\"col_heading level0 col12\" >sell_spread</th>\n",
       "      <th class=\"col_heading level0 col13\" >available_qty</th>\n",
       "      <th class=\"col_heading level0 col14\" >bl</th>\n",
       "      <th class=\"col_heading level0 col15\" >sh</th>\n",
       "      <th class=\"col_heading level0 col16\" >reason</th>\n",
       "      <th class=\"col_heading level0 col17\" >market</th>\n",
       "    </tr>\n",
       "  </thead>\n",
       "  <tbody>\n",
       "    <tr>\n",
       "      <th id=\"T_d5fc0_level0_row0\" class=\"row_heading level0 row0\" >0</th>\n",
       "      <td id=\"T_d5fc0_row0_col0\" class=\"data row0 col0\" >85</td>\n",
       "      <td id=\"T_d5fc0_row0_col1\" class=\"data row0 col1\" >MCS</td>\n",
       "      <td id=\"T_d5fc0_row0_col2\" class=\"data row0 col2\" >16.20</td>\n",
       "      <td id=\"T_d5fc0_row0_col3\" class=\"data row0 col3\" >11.70</td>\n",
       "      <td id=\"T_d5fc0_row0_col4\" class=\"data row0 col4\" >I</td>\n",
       "      <td id=\"T_d5fc0_row0_col5\" class=\"data row0 col5\" >9.00</td>\n",
       "      <td id=\"T_d5fc0_row0_col6\" class=\"data row0 col6\" >9.70</td>\n",
       "      <td id=\"T_d5fc0_row0_col7\" class=\"data row0 col7\" >37.02</td>\n",
       "      <td id=\"T_d5fc0_row0_col8\" class=\"data row0 col8\" >0.50</td>\n",
       "      <td id=\"T_d5fc0_row0_col9\" class=\"data row0 col9\" >15.40</td>\n",
       "      <td id=\"T_d5fc0_row0_col10\" class=\"data row0 col10\" >25,000</td>\n",
       "      <td id=\"T_d5fc0_row0_col11\" class=\"data row0 col11\" >-5</td>\n",
       "      <td id=\"T_d5fc0_row0_col12\" class=\"data row0 col12\" >5</td>\n",
       "      <td id=\"T_d5fc0_row0_col13\" class=\"data row0 col13\" >75,000</td>\n",
       "      <td id=\"T_d5fc0_row0_col14\" class=\"data row0 col14\" >6</td>\n",
       "      <td id=\"T_d5fc0_row0_col15\" class=\"data row0 col15\" >3</td>\n",
       "      <td id=\"T_d5fc0_row0_col16\" class=\"data row0 col16\" >5pct</td>\n",
       "      <td id=\"T_d5fc0_row0_col17\" class=\"data row0 col17\" >SET</td>\n",
       "    </tr>\n",
       "  </tbody>\n",
       "</table>\n"
      ],
      "text/plain": [
       "<pandas.io.formats.style.Styler at 0x25d4b82f610>"
      ]
     },
     "execution_count": 5,
     "metadata": {},
     "output_type": "execute_result"
    }
   ],
   "source": [
    "names = tmp[\"name\"]\n",
    "name = names.to_string(index=False)\n",
    "sql = \"\"\"\n",
    "SELECT * \n",
    "FROM stocks\n",
    "WHERE name = '%s'\n",
    "\"\"\"\n",
    "sql = sql % name\n",
    "print(sql)\n",
    "tmp = pd.read_sql(sql, conlite)\n",
    "tmp.style.format(format_dict)"
   ]
  },
  {
   "cell_type": "markdown",
   "metadata": {},
   "source": [
    "### End of Tables in the process"
   ]
  },
  {
   "cell_type": "code",
   "execution_count": 6,
   "metadata": {},
   "outputs": [
    {
     "name": "stdout",
     "output_type": "stream",
     "text": [
      "\n",
      "SELECT a.name,fm_date,to_date,fm_price,to_price,\n",
      "a.qty,a.max_price,a.min_price,t.status,t.market\n",
      "FROM sales a \n",
      "JOIN stocks t ON a.name = t.name \n",
      "WHERE to_date = '2022-11-17' AND t.status IN (\"B\",\"I\", \"O\", \"S\") \n",
      "ORDER BY t.status, a.name\n",
      "\n"
     ]
    }
   ],
   "source": [
    "sql = \"\"\"\n",
    "SELECT a.name,fm_date,to_date,fm_price,to_price,\n",
    "a.qty,a.max_price,a.min_price,t.status,t.market\n",
    "FROM sales a \n",
    "JOIN stocks t ON a.name = t.name \n",
    "WHERE to_date = '%s' AND t.status IN (\"B\",\"I\", \"O\", \"S\") \n",
    "ORDER BY t.status, a.name\n",
    "\"\"\"\n",
    "sql = sql % yesterday\n",
    "print(sql)"
   ]
  },
  {
   "cell_type": "code",
   "execution_count": 7,
   "metadata": {},
   "outputs": [
    {
     "data": {
      "text/html": [
       "<style type=\"text/css\">\n",
       "</style>\n",
       "<table id=\"T_11f9f_\">\n",
       "  <thead>\n",
       "    <tr>\n",
       "      <th class=\"blank level0\" >&nbsp;</th>\n",
       "      <th class=\"col_heading level0 col0\" >fm_date</th>\n",
       "      <th class=\"col_heading level0 col1\" >to_date</th>\n",
       "      <th class=\"col_heading level0 col2\" >fm_price</th>\n",
       "      <th class=\"col_heading level0 col3\" >to_price</th>\n",
       "      <th class=\"col_heading level0 col4\" >qty</th>\n",
       "      <th class=\"col_heading level0 col5\" >max_price</th>\n",
       "      <th class=\"col_heading level0 col6\" >min_price</th>\n",
       "      <th class=\"col_heading level0 col7\" >status</th>\n",
       "      <th class=\"col_heading level0 col8\" >market</th>\n",
       "      <th class=\"col_heading level0 col9\" >diff</th>\n",
       "      <th class=\"col_heading level0 col10\" >percent</th>\n",
       "    </tr>\n",
       "    <tr>\n",
       "      <th class=\"index_name level0\" >name</th>\n",
       "      <th class=\"blank col0\" >&nbsp;</th>\n",
       "      <th class=\"blank col1\" >&nbsp;</th>\n",
       "      <th class=\"blank col2\" >&nbsp;</th>\n",
       "      <th class=\"blank col3\" >&nbsp;</th>\n",
       "      <th class=\"blank col4\" >&nbsp;</th>\n",
       "      <th class=\"blank col5\" >&nbsp;</th>\n",
       "      <th class=\"blank col6\" >&nbsp;</th>\n",
       "      <th class=\"blank col7\" >&nbsp;</th>\n",
       "      <th class=\"blank col8\" >&nbsp;</th>\n",
       "      <th class=\"blank col9\" >&nbsp;</th>\n",
       "      <th class=\"blank col10\" >&nbsp;</th>\n",
       "    </tr>\n",
       "  </thead>\n",
       "  <tbody>\n",
       "    <tr>\n",
       "      <th id=\"T_11f9f_level0_row0\" class=\"row_heading level0 row0\" >STARK</th>\n",
       "      <td id=\"T_11f9f_row0_col0\" class=\"data row0 col0\" >2022-11-15</td>\n",
       "      <td id=\"T_11f9f_row0_col1\" class=\"data row0 col1\" >2022-11-17</td>\n",
       "      <td id=\"T_11f9f_row0_col2\" class=\"data row0 col2\" >3.36</td>\n",
       "      <td id=\"T_11f9f_row0_col3\" class=\"data row0 col3\" >3.28</td>\n",
       "      <td id=\"T_11f9f_row0_col4\" class=\"data row0 col4\" >35,504,281</td>\n",
       "      <td id=\"T_11f9f_row0_col5\" class=\"data row0 col5\" >3.32</td>\n",
       "      <td id=\"T_11f9f_row0_col6\" class=\"data row0 col6\" >-1.79</td>\n",
       "      <td id=\"T_11f9f_row0_col7\" class=\"data row0 col7\" >O</td>\n",
       "      <td id=\"T_11f9f_row0_col8\" class=\"data row0 col8\" >SET100</td>\n",
       "      <td id=\"T_11f9f_row0_col9\" class=\"data row0 col9\" >-0.08</td>\n",
       "      <td id=\"T_11f9f_row0_col10\" class=\"data row0 col10\" >-2.38%</td>\n",
       "    </tr>\n",
       "    <tr>\n",
       "      <th id=\"T_11f9f_level0_row1\" class=\"row_heading level0 row1\" >JASIF</th>\n",
       "      <td id=\"T_11f9f_row1_col0\" class=\"data row1 col0\" >2022-11-10</td>\n",
       "      <td id=\"T_11f9f_row1_col1\" class=\"data row1 col1\" >2022-11-17</td>\n",
       "      <td id=\"T_11f9f_row1_col2\" class=\"data row1 col2\" >8.15</td>\n",
       "      <td id=\"T_11f9f_row1_col3\" class=\"data row1 col3\" >8.70</td>\n",
       "      <td id=\"T_11f9f_row1_col4\" class=\"data row1 col4\" >117,666,385</td>\n",
       "      <td id=\"T_11f9f_row1_col5\" class=\"data row1 col5\" >8.75</td>\n",
       "      <td id=\"T_11f9f_row1_col6\" class=\"data row1 col6\" >6.13</td>\n",
       "      <td id=\"T_11f9f_row1_col7\" class=\"data row1 col7\" >I</td>\n",
       "      <td id=\"T_11f9f_row1_col8\" class=\"data row1 col8\" >SET</td>\n",
       "      <td id=\"T_11f9f_row1_col9\" class=\"data row1 col9\" >0.55</td>\n",
       "      <td id=\"T_11f9f_row1_col10\" class=\"data row1 col10\" >6.75%</td>\n",
       "    </tr>\n",
       "    <tr>\n",
       "      <th id=\"T_11f9f_level0_row2\" class=\"row_heading level0 row2\" >KCE</th>\n",
       "      <td id=\"T_11f9f_row2_col0\" class=\"data row2 col0\" >2022-11-15</td>\n",
       "      <td id=\"T_11f9f_row2_col1\" class=\"data row2 col1\" >2022-11-17</td>\n",
       "      <td id=\"T_11f9f_row2_col2\" class=\"data row2 col2\" >49.25</td>\n",
       "      <td id=\"T_11f9f_row2_col3\" class=\"data row2 col3\" >47.75</td>\n",
       "      <td id=\"T_11f9f_row2_col4\" class=\"data row2 col4\" >28,526,891</td>\n",
       "      <td id=\"T_11f9f_row2_col5\" class=\"data row2 col5\" >48.75</td>\n",
       "      <td id=\"T_11f9f_row2_col6\" class=\"data row2 col6\" >-0.51</td>\n",
       "      <td id=\"T_11f9f_row2_col7\" class=\"data row2 col7\" >B</td>\n",
       "      <td id=\"T_11f9f_row2_col8\" class=\"data row2 col8\" >SET50</td>\n",
       "      <td id=\"T_11f9f_row2_col9\" class=\"data row2 col9\" >-1.50</td>\n",
       "      <td id=\"T_11f9f_row2_col10\" class=\"data row2 col10\" >-3.05%</td>\n",
       "    </tr>\n",
       "    <tr>\n",
       "      <th id=\"T_11f9f_level0_row3\" class=\"row_heading level0 row3\" >GVREIT</th>\n",
       "      <td id=\"T_11f9f_row3_col0\" class=\"data row3 col0\" >2022-11-16</td>\n",
       "      <td id=\"T_11f9f_row3_col1\" class=\"data row3 col1\" >2022-11-17</td>\n",
       "      <td id=\"T_11f9f_row3_col2\" class=\"data row3 col2\" >8.75</td>\n",
       "      <td id=\"T_11f9f_row3_col3\" class=\"data row3 col3\" >8.80</td>\n",
       "      <td id=\"T_11f9f_row3_col4\" class=\"data row3 col4\" >111,200</td>\n",
       "      <td id=\"T_11f9f_row3_col5\" class=\"data row3 col5\" >8.90</td>\n",
       "      <td id=\"T_11f9f_row3_col6\" class=\"data row3 col6\" >8.75</td>\n",
       "      <td id=\"T_11f9f_row3_col7\" class=\"data row3 col7\" >I</td>\n",
       "      <td id=\"T_11f9f_row3_col8\" class=\"data row3 col8\" >SET</td>\n",
       "      <td id=\"T_11f9f_row3_col9\" class=\"data row3 col9\" >0.05</td>\n",
       "      <td id=\"T_11f9f_row3_col10\" class=\"data row3 col10\" >0.57%</td>\n",
       "    </tr>\n",
       "    <tr>\n",
       "      <th id=\"T_11f9f_level0_row4\" class=\"row_heading level0 row4\" >SCC</th>\n",
       "      <td id=\"T_11f9f_row4_col0\" class=\"data row4 col0\" >2022-11-16</td>\n",
       "      <td id=\"T_11f9f_row4_col1\" class=\"data row4 col1\" >2022-11-17</td>\n",
       "      <td id=\"T_11f9f_row4_col2\" class=\"data row4 col2\" >344.00</td>\n",
       "      <td id=\"T_11f9f_row4_col3\" class=\"data row4 col3\" >345.00</td>\n",
       "      <td id=\"T_11f9f_row4_col4\" class=\"data row4 col4\" >1,829,873</td>\n",
       "      <td id=\"T_11f9f_row4_col5\" class=\"data row4 col5\" >346.00</td>\n",
       "      <td id=\"T_11f9f_row4_col6\" class=\"data row4 col6\" >343.00</td>\n",
       "      <td id=\"T_11f9f_row4_col7\" class=\"data row4 col7\" >B</td>\n",
       "      <td id=\"T_11f9f_row4_col8\" class=\"data row4 col8\" >SET50</td>\n",
       "      <td id=\"T_11f9f_row4_col9\" class=\"data row4 col9\" >1.00</td>\n",
       "      <td id=\"T_11f9f_row4_col10\" class=\"data row4 col10\" >0.29%</td>\n",
       "    </tr>\n",
       "  </tbody>\n",
       "</table>\n"
      ],
      "text/plain": [
       "<pandas.io.formats.style.Styler at 0x25d4c87e070>"
      ]
     },
     "execution_count": 7,
     "metadata": {},
     "output_type": "execute_result"
    }
   ],
   "source": [
    "df = pd.read_sql(sql, conlite)\n",
    "df.set_index([\"name\"], inplace=True)\n",
    "df['fm_date'] = pd.to_datetime(df['fm_date'])\n",
    "df['to_date'] = pd.to_datetime(df['to_date'])\n",
    "df['diff'] = (df['to_price'] - df['fm_price'])\n",
    "df['percent'] = round(df['diff']/df['fm_price']*100,2)\n",
    "df.sample(5).style.format(format_dict)"
   ]
  },
  {
   "cell_type": "markdown",
   "metadata": {},
   "source": [
    "### Price change up or down more than 3%"
   ]
  },
  {
   "cell_type": "code",
   "execution_count": 8,
   "metadata": {},
   "outputs": [
    {
     "data": {
      "text/html": [
       "<style type=\"text/css\">\n",
       "</style>\n",
       "<table id=\"T_a0379_\">\n",
       "  <thead>\n",
       "    <tr>\n",
       "      <th class=\"blank level0\" >&nbsp;</th>\n",
       "      <th class=\"col_heading level0 col0\" >percent</th>\n",
       "      <th class=\"col_heading level0 col1\" >status</th>\n",
       "      <th class=\"col_heading level0 col2\" >fm_price</th>\n",
       "      <th class=\"col_heading level0 col3\" >to_price</th>\n",
       "      <th class=\"col_heading level0 col4\" >market</th>\n",
       "      <th class=\"col_heading level0 col5\" >fm_date</th>\n",
       "      <th class=\"col_heading level0 col6\" >bdays</th>\n",
       "      <th class=\"col_heading level0 col7\" >max_price</th>\n",
       "      <th class=\"col_heading level0 col8\" >min_price</th>\n",
       "    </tr>\n",
       "    <tr>\n",
       "      <th class=\"index_name level0\" >name</th>\n",
       "      <th class=\"blank col0\" >&nbsp;</th>\n",
       "      <th class=\"blank col1\" >&nbsp;</th>\n",
       "      <th class=\"blank col2\" >&nbsp;</th>\n",
       "      <th class=\"blank col3\" >&nbsp;</th>\n",
       "      <th class=\"blank col4\" >&nbsp;</th>\n",
       "      <th class=\"blank col5\" >&nbsp;</th>\n",
       "      <th class=\"blank col6\" >&nbsp;</th>\n",
       "      <th class=\"blank col7\" >&nbsp;</th>\n",
       "      <th class=\"blank col8\" >&nbsp;</th>\n",
       "    </tr>\n",
       "  </thead>\n",
       "  <tbody>\n",
       "    <tr>\n",
       "      <th id=\"T_a0379_level0_row0\" class=\"row_heading level0 row0\" >DOHOME</th>\n",
       "      <td id=\"T_a0379_row0_col0\" class=\"data row0 col0\" >8.53%</td>\n",
       "      <td id=\"T_a0379_row0_col1\" class=\"data row0 col1\" >I</td>\n",
       "      <td id=\"T_a0379_row0_col2\" class=\"data row0 col2\" >12.90</td>\n",
       "      <td id=\"T_a0379_row0_col3\" class=\"data row0 col3\" >14.00</td>\n",
       "      <td id=\"T_a0379_row0_col4\" class=\"data row0 col4\" >SET100</td>\n",
       "      <td id=\"T_a0379_row0_col5\" class=\"data row0 col5\" >2022-11-10</td>\n",
       "      <td id=\"T_a0379_row0_col6\" class=\"data row0 col6\" >7</td>\n",
       "      <td id=\"T_a0379_row0_col7\" class=\"data row0 col7\" >14.20</td>\n",
       "      <td id=\"T_a0379_row0_col8\" class=\"data row0 col8\" >6.98</td>\n",
       "    </tr>\n",
       "    <tr>\n",
       "      <th id=\"T_a0379_level0_row1\" class=\"row_heading level0 row1\" >JASIF</th>\n",
       "      <td id=\"T_a0379_row1_col0\" class=\"data row1 col0\" >6.75%</td>\n",
       "      <td id=\"T_a0379_row1_col1\" class=\"data row1 col1\" >I</td>\n",
       "      <td id=\"T_a0379_row1_col2\" class=\"data row1 col2\" >8.15</td>\n",
       "      <td id=\"T_a0379_row1_col3\" class=\"data row1 col3\" >8.70</td>\n",
       "      <td id=\"T_a0379_row1_col4\" class=\"data row1 col4\" >SET</td>\n",
       "      <td id=\"T_a0379_row1_col5\" class=\"data row1 col5\" >2022-11-10</td>\n",
       "      <td id=\"T_a0379_row1_col6\" class=\"data row1 col6\" >7</td>\n",
       "      <td id=\"T_a0379_row1_col7\" class=\"data row1 col7\" >8.75</td>\n",
       "      <td id=\"T_a0379_row1_col8\" class=\"data row1 col8\" >6.13</td>\n",
       "    </tr>\n",
       "    <tr>\n",
       "      <th id=\"T_a0379_level0_row2\" class=\"row_heading level0 row2\" >KCE</th>\n",
       "      <td id=\"T_a0379_row2_col0\" class=\"data row2 col0\" >-3.05%</td>\n",
       "      <td id=\"T_a0379_row2_col1\" class=\"data row2 col1\" >B</td>\n",
       "      <td id=\"T_a0379_row2_col2\" class=\"data row2 col2\" >49.25</td>\n",
       "      <td id=\"T_a0379_row2_col3\" class=\"data row2 col3\" >47.75</td>\n",
       "      <td id=\"T_a0379_row2_col4\" class=\"data row2 col4\" >SET50</td>\n",
       "      <td id=\"T_a0379_row2_col5\" class=\"data row2 col5\" >2022-11-15</td>\n",
       "      <td id=\"T_a0379_row2_col6\" class=\"data row2 col6\" >2</td>\n",
       "      <td id=\"T_a0379_row2_col7\" class=\"data row2 col7\" >48.75</td>\n",
       "      <td id=\"T_a0379_row2_col8\" class=\"data row2 col8\" >-0.51</td>\n",
       "    </tr>\n",
       "    <tr>\n",
       "      <th id=\"T_a0379_level0_row3\" class=\"row_heading level0 row3\" >PTTGC</th>\n",
       "      <td id=\"T_a0379_row3_col0\" class=\"data row3 col0\" >-3.12%</td>\n",
       "      <td id=\"T_a0379_row3_col1\" class=\"data row3 col1\" >B</td>\n",
       "      <td id=\"T_a0379_row3_col2\" class=\"data row3 col2\" >48.00</td>\n",
       "      <td id=\"T_a0379_row3_col3\" class=\"data row3 col3\" >46.50</td>\n",
       "      <td id=\"T_a0379_row3_col4\" class=\"data row3 col4\" >SET50</td>\n",
       "      <td id=\"T_a0379_row3_col5\" class=\"data row3 col5\" >2022-11-14</td>\n",
       "      <td id=\"T_a0379_row3_col6\" class=\"data row3 col6\" >3</td>\n",
       "      <td id=\"T_a0379_row3_col7\" class=\"data row3 col7\" >47.25</td>\n",
       "      <td id=\"T_a0379_row3_col8\" class=\"data row3 col8\" >-1.04</td>\n",
       "    </tr>\n",
       "    <tr>\n",
       "      <th id=\"T_a0379_level0_row4\" class=\"row_heading level0 row4\" >JMART</th>\n",
       "      <td id=\"T_a0379_row4_col0\" class=\"data row4 col0\" >-4.74%</td>\n",
       "      <td id=\"T_a0379_row4_col1\" class=\"data row4 col1\" >O</td>\n",
       "      <td id=\"T_a0379_row4_col2\" class=\"data row4 col2\" >47.50</td>\n",
       "      <td id=\"T_a0379_row4_col3\" class=\"data row4 col3\" >45.25</td>\n",
       "      <td id=\"T_a0379_row4_col4\" class=\"data row4 col4\" >SET50</td>\n",
       "      <td id=\"T_a0379_row4_col5\" class=\"data row4 col5\" >2022-11-15</td>\n",
       "      <td id=\"T_a0379_row4_col6\" class=\"data row4 col6\" >2</td>\n",
       "      <td id=\"T_a0379_row4_col7\" class=\"data row4 col7\" >46.00</td>\n",
       "      <td id=\"T_a0379_row4_col8\" class=\"data row4 col8\" >-3.16</td>\n",
       "    </tr>\n",
       "  </tbody>\n",
       "</table>\n"
      ],
      "text/plain": [
       "<pandas.io.formats.style.Styler at 0x25d4b864f40>"
      ]
     },
     "execution_count": 8,
     "metadata": {},
     "output_type": "execute_result"
    }
   ],
   "source": [
    "#df['bdays'] = np.busday_count(df['fm_date'],df['to_date'])\n",
    "#df['bdays'] = 1\n",
    "df['bdays'] = (df['to_date'] - df['fm_date']).dt.days\n",
    "watch_list = df.loc[\n",
    "    abs(df.percent) >= 3,\n",
    "    ['percent','status','fm_price','to_price','market','fm_date','bdays','max_price','min_price']\n",
    "]\n",
    "watch_list.sort_values(by=\"percent\",ascending=False).style.format(format_dict)"
   ]
  },
  {
   "cell_type": "code",
   "execution_count": 9,
   "metadata": {},
   "outputs": [],
   "source": [
    "file_name = \"daily-watch-list.csv\"\n",
    "data_file = data_path + file_name\n",
    "output_file = csv_path + file_name\n",
    "box_file = box_path + file_name\n",
    "one_file = one_path + file_name\n",
    "\n",
    "watch_list.sort_values(['percent'],ascending=[False]).to_csv(output_file)\n",
    "watch_list.sort_values(['percent'],ascending=[False]).to_csv(data_file)\n",
    "watch_list.sort_values(['percent'],ascending=[False]).to_csv(box_file)\n",
    "watch_list.sort_values(['percent'],ascending=[False]).to_csv(one_file)"
   ]
  },
  {
   "cell_type": "markdown",
   "metadata": {},
   "source": [
    "### Create daily-sales from sales"
   ]
  },
  {
   "cell_type": "code",
   "execution_count": 10,
   "metadata": {},
   "outputs": [
    {
     "data": {
      "text/html": [
       "<style type=\"text/css\">\n",
       "</style>\n",
       "<table id=\"T_21db5_\">\n",
       "  <thead>\n",
       "    <tr>\n",
       "      <th class=\"blank level0\" >&nbsp;</th>\n",
       "      <th class=\"col_heading level0 col0\" >fm_date</th>\n",
       "      <th class=\"col_heading level0 col1\" >to_date</th>\n",
       "      <th class=\"col_heading level0 col2\" >fm_price</th>\n",
       "      <th class=\"col_heading level0 col3\" >to_price</th>\n",
       "      <th class=\"col_heading level0 col4\" >qty</th>\n",
       "      <th class=\"col_heading level0 col5\" >max_price</th>\n",
       "      <th class=\"col_heading level0 col6\" >min_price</th>\n",
       "      <th class=\"col_heading level0 col7\" >percent</th>\n",
       "      <th class=\"col_heading level0 col8\" >status</th>\n",
       "    </tr>\n",
       "    <tr>\n",
       "      <th class=\"index_name level0\" >name</th>\n",
       "      <th class=\"blank col0\" >&nbsp;</th>\n",
       "      <th class=\"blank col1\" >&nbsp;</th>\n",
       "      <th class=\"blank col2\" >&nbsp;</th>\n",
       "      <th class=\"blank col3\" >&nbsp;</th>\n",
       "      <th class=\"blank col4\" >&nbsp;</th>\n",
       "      <th class=\"blank col5\" >&nbsp;</th>\n",
       "      <th class=\"blank col6\" >&nbsp;</th>\n",
       "      <th class=\"blank col7\" >&nbsp;</th>\n",
       "      <th class=\"blank col8\" >&nbsp;</th>\n",
       "    </tr>\n",
       "  </thead>\n",
       "  <tbody>\n",
       "    <tr>\n",
       "      <th id=\"T_21db5_level0_row0\" class=\"row_heading level0 row0\" >KCE</th>\n",
       "      <td id=\"T_21db5_row0_col0\" class=\"data row0 col0\" >2022-11-15</td>\n",
       "      <td id=\"T_21db5_row0_col1\" class=\"data row0 col1\" >2022-11-17</td>\n",
       "      <td id=\"T_21db5_row0_col2\" class=\"data row0 col2\" >49.25</td>\n",
       "      <td id=\"T_21db5_row0_col3\" class=\"data row0 col3\" >47.75</td>\n",
       "      <td id=\"T_21db5_row0_col4\" class=\"data row0 col4\" >28,526,891</td>\n",
       "      <td id=\"T_21db5_row0_col5\" class=\"data row0 col5\" >48.75</td>\n",
       "      <td id=\"T_21db5_row0_col6\" class=\"data row0 col6\" >-0.51</td>\n",
       "      <td id=\"T_21db5_row0_col7\" class=\"data row0 col7\" >-3.05%</td>\n",
       "      <td id=\"T_21db5_row0_col8\" class=\"data row0 col8\" >B</td>\n",
       "    </tr>\n",
       "    <tr>\n",
       "      <th id=\"T_21db5_level0_row1\" class=\"row_heading level0 row1\" >STA</th>\n",
       "      <td id=\"T_21db5_row1_col0\" class=\"data row1 col0\" >2022-11-16</td>\n",
       "      <td id=\"T_21db5_row1_col1\" class=\"data row1 col1\" >2022-11-17</td>\n",
       "      <td id=\"T_21db5_row1_col2\" class=\"data row1 col2\" >19.80</td>\n",
       "      <td id=\"T_21db5_row1_col3\" class=\"data row1 col3\" >19.90</td>\n",
       "      <td id=\"T_21db5_row1_col4\" class=\"data row1 col4\" >2,350,537</td>\n",
       "      <td id=\"T_21db5_row1_col5\" class=\"data row1 col5\" >20.10</td>\n",
       "      <td id=\"T_21db5_row1_col6\" class=\"data row1 col6\" >19.60</td>\n",
       "      <td id=\"T_21db5_row1_col7\" class=\"data row1 col7\" >0.51%</td>\n",
       "      <td id=\"T_21db5_row1_col8\" class=\"data row1 col8\" >B</td>\n",
       "    </tr>\n",
       "    <tr>\n",
       "      <th id=\"T_21db5_level0_row2\" class=\"row_heading level0 row2\" >CPNREIT</th>\n",
       "      <td id=\"T_21db5_row2_col0\" class=\"data row2 col0\" >2022-11-15</td>\n",
       "      <td id=\"T_21db5_row2_col1\" class=\"data row2 col1\" >2022-11-17</td>\n",
       "      <td id=\"T_21db5_row2_col2\" class=\"data row2 col2\" >18.70</td>\n",
       "      <td id=\"T_21db5_row2_col3\" class=\"data row2 col3\" >18.30</td>\n",
       "      <td id=\"T_21db5_row2_col4\" class=\"data row2 col4\" >1,442,016</td>\n",
       "      <td id=\"T_21db5_row2_col5\" class=\"data row2 col5\" >18.40</td>\n",
       "      <td id=\"T_21db5_row2_col6\" class=\"data row2 col6\" >-2.14</td>\n",
       "      <td id=\"T_21db5_row2_col7\" class=\"data row2 col7\" >-2.14%</td>\n",
       "      <td id=\"T_21db5_row2_col8\" class=\"data row2 col8\" >B</td>\n",
       "    </tr>\n",
       "    <tr>\n",
       "      <th id=\"T_21db5_level0_row3\" class=\"row_heading level0 row3\" >PTTGC</th>\n",
       "      <td id=\"T_21db5_row3_col0\" class=\"data row3 col0\" >2022-11-14</td>\n",
       "      <td id=\"T_21db5_row3_col1\" class=\"data row3 col1\" >2022-11-17</td>\n",
       "      <td id=\"T_21db5_row3_col2\" class=\"data row3 col2\" >48.00</td>\n",
       "      <td id=\"T_21db5_row3_col3\" class=\"data row3 col3\" >46.50</td>\n",
       "      <td id=\"T_21db5_row3_col4\" class=\"data row3 col4\" >35,809,903</td>\n",
       "      <td id=\"T_21db5_row3_col5\" class=\"data row3 col5\" >47.25</td>\n",
       "      <td id=\"T_21db5_row3_col6\" class=\"data row3 col6\" >-1.04</td>\n",
       "      <td id=\"T_21db5_row3_col7\" class=\"data row3 col7\" >-3.12%</td>\n",
       "      <td id=\"T_21db5_row3_col8\" class=\"data row3 col8\" >B</td>\n",
       "    </tr>\n",
       "    <tr>\n",
       "      <th id=\"T_21db5_level0_row4\" class=\"row_heading level0 row4\" >MCS</th>\n",
       "      <td id=\"T_21db5_row4_col0\" class=\"data row4 col0\" >2022-11-16</td>\n",
       "      <td id=\"T_21db5_row4_col1\" class=\"data row4 col1\" >2022-11-17</td>\n",
       "      <td id=\"T_21db5_row4_col2\" class=\"data row4 col2\" >8.75</td>\n",
       "      <td id=\"T_21db5_row4_col3\" class=\"data row4 col3\" >8.80</td>\n",
       "      <td id=\"T_21db5_row4_col4\" class=\"data row4 col4\" >581,949</td>\n",
       "      <td id=\"T_21db5_row4_col5\" class=\"data row4 col5\" >8.80</td>\n",
       "      <td id=\"T_21db5_row4_col6\" class=\"data row4 col6\" >8.75</td>\n",
       "      <td id=\"T_21db5_row4_col7\" class=\"data row4 col7\" >0.57%</td>\n",
       "      <td id=\"T_21db5_row4_col8\" class=\"data row4 col8\" >I</td>\n",
       "    </tr>\n",
       "  </tbody>\n",
       "</table>\n"
      ],
      "text/plain": [
       "<pandas.io.formats.style.Styler at 0x25d4c8a7eb0>"
      ]
     },
     "execution_count": 10,
     "metadata": {},
     "output_type": "execute_result"
    }
   ],
   "source": [
    "df[cols].sample(5).style.format(format_dict)"
   ]
  },
  {
   "cell_type": "code",
   "execution_count": 11,
   "metadata": {},
   "outputs": [],
   "source": [
    "file_name = \"daily-sales.csv\"\n",
    "data_file = data_path + file_name\n",
    "output_file = csv_path + file_name\n",
    "box_file = box_path + file_name\n",
    "one_file = one_path + file_name\n",
    "\n",
    "df[cols].sort_values(['status','percent'],ascending=[True,True]).to_csv(output_file,header=None)\n",
    "df[cols].sort_values(['status','percent'],ascending=[True,True]).to_csv(data_file,header=None)\n",
    "df[cols].sort_values(['status','percent'],ascending=[True,True]).to_csv(box_file)\n",
    "df[cols].sort_values(['status','percent'],ascending=[True,True]).to_csv(one_file)"
   ]
  },
  {
   "cell_type": "markdown",
   "metadata": {},
   "source": [
    "### Create monitors from orders"
   ]
  },
  {
   "cell_type": "code",
   "execution_count": 12,
   "metadata": {
    "scrolled": true
   },
   "outputs": [
    {
     "data": {
      "text/html": [
       "<div>\n",
       "<style scoped>\n",
       "    .dataframe tbody tr th:only-of-type {\n",
       "        vertical-align: middle;\n",
       "    }\n",
       "\n",
       "    .dataframe tbody tr th {\n",
       "        vertical-align: top;\n",
       "    }\n",
       "\n",
       "    .dataframe thead th {\n",
       "        text-align: right;\n",
       "    }\n",
       "</style>\n",
       "<table border=\"1\" class=\"dataframe\">\n",
       "  <thead>\n",
       "    <tr style=\"text-align: right;\">\n",
       "      <th></th>\n",
       "      <th>trade</th>\n",
       "    </tr>\n",
       "    <tr>\n",
       "      <th>name</th>\n",
       "      <th></th>\n",
       "    </tr>\n",
       "  </thead>\n",
       "  <tbody>\n",
       "    <tr>\n",
       "      <th>IVL</th>\n",
       "      <td>S</td>\n",
       "    </tr>\n",
       "    <tr>\n",
       "      <th>TFG</th>\n",
       "      <td>B</td>\n",
       "    </tr>\n",
       "    <tr>\n",
       "      <th>SSP</th>\n",
       "      <td>B</td>\n",
       "    </tr>\n",
       "    <tr>\n",
       "      <th>COM7</th>\n",
       "      <td>B</td>\n",
       "    </tr>\n",
       "    <tr>\n",
       "      <th>RCL</th>\n",
       "      <td>B</td>\n",
       "    </tr>\n",
       "  </tbody>\n",
       "</table>\n",
       "</div>"
      ],
      "text/plain": [
       "     trade\n",
       "name      \n",
       "IVL      S\n",
       "TFG      B\n",
       "SSP      B\n",
       "COM7     B\n",
       "RCL      B"
      ]
     },
     "execution_count": 12,
     "metadata": {},
     "output_type": "execute_result"
    }
   ],
   "source": [
    "sql = \"\"\"\n",
    "SELECT name, trade \n",
    "FROM orders \n",
    "ORDER BY name\n",
    "\"\"\"\n",
    "monitors = pd.read_sql(sql, conlite)\n",
    "monitors.set_index([\"name\"], inplace=True)\n",
    "monitors.sample(5)"
   ]
  },
  {
   "cell_type": "code",
   "execution_count": 13,
   "metadata": {},
   "outputs": [
    {
     "data": {
      "text/html": [
       "<div>\n",
       "<style scoped>\n",
       "    .dataframe tbody tr th:only-of-type {\n",
       "        vertical-align: middle;\n",
       "    }\n",
       "\n",
       "    .dataframe tbody tr th {\n",
       "        vertical-align: top;\n",
       "    }\n",
       "\n",
       "    .dataframe thead th {\n",
       "        text-align: right;\n",
       "    }\n",
       "</style>\n",
       "<table border=\"1\" class=\"dataframe\">\n",
       "  <thead>\n",
       "    <tr style=\"text-align: right;\">\n",
       "      <th></th>\n",
       "      <th>trade</th>\n",
       "      <th>no. of stocks</th>\n",
       "    </tr>\n",
       "  </thead>\n",
       "  <tbody>\n",
       "    <tr>\n",
       "      <th>0</th>\n",
       "      <td>B</td>\n",
       "      <td>15</td>\n",
       "    </tr>\n",
       "    <tr>\n",
       "      <th>1</th>\n",
       "      <td>S</td>\n",
       "      <td>6</td>\n",
       "    </tr>\n",
       "  </tbody>\n",
       "</table>\n",
       "</div>"
      ],
      "text/plain": [
       "  trade  no. of stocks\n",
       "0     B             15\n",
       "1     S              6"
      ]
     },
     "execution_count": 13,
     "metadata": {},
     "output_type": "execute_result"
    }
   ],
   "source": [
    "sql = \"\"\"\n",
    "SELECT trade, COUNT(*) AS 'no. of stocks'\n",
    "FROM orders \n",
    "GROUP BY trade\n",
    "\"\"\"\n",
    "df_tmp = pd.read_sql(sql, conlite)\n",
    "df_tmp"
   ]
  },
  {
   "cell_type": "markdown",
   "metadata": {},
   "source": [
    "### output_file = iCloud Drive on PC"
   ]
  },
  {
   "cell_type": "code",
   "execution_count": 14,
   "metadata": {},
   "outputs": [],
   "source": [
    "file_name = \"monitors.csv\"\n",
    "data_file = data_path + file_name\n",
    "output_file = csv_path + file_name\n",
    "box_file = box_path + file_name\n",
    "one_file = one_path + file_name\n",
    "\n",
    "monitors.to_csv(data_file, header=None)\n",
    "monitors.to_csv(box_file)\n",
    "monitors.to_csv(output_file)\n",
    "monitors.to_csv(one_file)"
   ]
  },
  {
   "cell_type": "markdown",
   "metadata": {},
   "source": [
    "### End of daily process"
   ]
  },
  {
   "cell_type": "code",
   "execution_count": 15,
   "metadata": {},
   "outputs": [
    {
     "data": {
      "text/html": [
       "<div>\n",
       "<style scoped>\n",
       "    .dataframe tbody tr th:only-of-type {\n",
       "        vertical-align: middle;\n",
       "    }\n",
       "\n",
       "    .dataframe tbody tr th {\n",
       "        vertical-align: top;\n",
       "    }\n",
       "\n",
       "    .dataframe thead th {\n",
       "        text-align: right;\n",
       "    }\n",
       "</style>\n",
       "<table border=\"1\" class=\"dataframe\">\n",
       "  <thead>\n",
       "    <tr style=\"text-align: right;\">\n",
       "      <th></th>\n",
       "      <th>trade</th>\n",
       "      <th>no. of stocks</th>\n",
       "    </tr>\n",
       "  </thead>\n",
       "  <tbody>\n",
       "    <tr>\n",
       "      <th>0</th>\n",
       "      <td>B</td>\n",
       "      <td>15</td>\n",
       "    </tr>\n",
       "    <tr>\n",
       "      <th>1</th>\n",
       "      <td>S</td>\n",
       "      <td>6</td>\n",
       "    </tr>\n",
       "  </tbody>\n",
       "</table>\n",
       "</div>"
      ],
      "text/plain": [
       "  trade  no. of stocks\n",
       "0     B             15\n",
       "1     S              6"
      ]
     },
     "execution_count": 15,
     "metadata": {},
     "output_type": "execute_result"
    }
   ],
   "source": [
    "sql = \"\"\"\n",
    "SELECT trade, COUNT(*) AS 'no. of stocks'\n",
    "FROM orders \n",
    "GROUP BY trade\n",
    "\"\"\"\n",
    "df_tmp = pd.read_sql(sql, conlite)\n",
    "df_tmp"
   ]
  },
  {
   "cell_type": "code",
   "execution_count": 16,
   "metadata": {},
   "outputs": [
    {
     "data": {
      "text/html": [
       "<div>\n",
       "<style scoped>\n",
       "    .dataframe tbody tr th:only-of-type {\n",
       "        vertical-align: middle;\n",
       "    }\n",
       "\n",
       "    .dataframe tbody tr th {\n",
       "        vertical-align: top;\n",
       "    }\n",
       "\n",
       "    .dataframe thead th {\n",
       "        text-align: right;\n",
       "    }\n",
       "</style>\n",
       "<table border=\"1\" class=\"dataframe\">\n",
       "  <thead>\n",
       "    <tr style=\"text-align: right;\">\n",
       "      <th></th>\n",
       "      <th>status</th>\n",
       "      <th>market</th>\n",
       "    </tr>\n",
       "    <tr>\n",
       "      <th>name</th>\n",
       "      <th></th>\n",
       "      <th></th>\n",
       "    </tr>\n",
       "  </thead>\n",
       "  <tbody>\n",
       "    <tr>\n",
       "      <th>BCH</th>\n",
       "      <td>B</td>\n",
       "      <td>SET100</td>\n",
       "    </tr>\n",
       "    <tr>\n",
       "      <th>CPNREIT</th>\n",
       "      <td>B</td>\n",
       "      <td>SET</td>\n",
       "    </tr>\n",
       "    <tr>\n",
       "      <th>KCE</th>\n",
       "      <td>B</td>\n",
       "      <td>SET50</td>\n",
       "    </tr>\n",
       "    <tr>\n",
       "      <th>PTTGC</th>\n",
       "      <td>B</td>\n",
       "      <td>SET50</td>\n",
       "    </tr>\n",
       "    <tr>\n",
       "      <th>SCC</th>\n",
       "      <td>B</td>\n",
       "      <td>SET50</td>\n",
       "    </tr>\n",
       "    <tr>\n",
       "      <th>...</th>\n",
       "      <td>...</td>\n",
       "      <td>...</td>\n",
       "    </tr>\n",
       "    <tr>\n",
       "      <th>SINGER</th>\n",
       "      <td>X</td>\n",
       "      <td>SET100</td>\n",
       "    </tr>\n",
       "    <tr>\n",
       "      <th>SPALI</th>\n",
       "      <td>X</td>\n",
       "      <td>SET100</td>\n",
       "    </tr>\n",
       "    <tr>\n",
       "      <th>SVI</th>\n",
       "      <td>X</td>\n",
       "      <td>SET</td>\n",
       "    </tr>\n",
       "    <tr>\n",
       "      <th>TFFIF</th>\n",
       "      <td>X</td>\n",
       "      <td>SET</td>\n",
       "    </tr>\n",
       "    <tr>\n",
       "      <th>TTB</th>\n",
       "      <td>X</td>\n",
       "      <td>SET50</td>\n",
       "    </tr>\n",
       "  </tbody>\n",
       "</table>\n",
       "<p>65 rows × 2 columns</p>\n",
       "</div>"
      ],
      "text/plain": [
       "        status  market\n",
       "name                  \n",
       "BCH          B  SET100\n",
       "CPNREIT      B     SET\n",
       "KCE          B   SET50\n",
       "PTTGC        B   SET50\n",
       "SCC          B   SET50\n",
       "...        ...     ...\n",
       "SINGER       X  SET100\n",
       "SPALI        X  SET100\n",
       "SVI          X     SET\n",
       "TFFIF        X     SET\n",
       "TTB          X   SET50\n",
       "\n",
       "[65 rows x 2 columns]"
      ]
     },
     "execution_count": 16,
     "metadata": {},
     "output_type": "execute_result"
    }
   ],
   "source": [
    "sql = \"\"\"\n",
    "SELECT name, status, market\n",
    "FROM stocks \n",
    "ORDER BY status, name\n",
    "\"\"\"\n",
    "stocks = pd.read_sql(sql, conlite)\n",
    "stocks.set_index([\"name\"], inplace=True)\n",
    "stocks"
   ]
  },
  {
   "cell_type": "code",
   "execution_count": 17,
   "metadata": {},
   "outputs": [],
   "source": [
    "file_name = \"stocks-all.csv\"\n",
    "data_file = data_path + file_name\n",
    "output_file = csv_path + file_name\n",
    "box_file = box_path + file_name\n",
    "one_file = one_path + file_name\n",
    "\n",
    "stocks.to_csv(data_file, header=None)\n",
    "stocks.to_csv(output_file)\n",
    "stocks.to_csv(box_file)\n",
    "stocks.to_csv(one_file)"
   ]
  },
  {
   "cell_type": "code",
   "execution_count": 18,
   "metadata": {},
   "outputs": [
    {
     "data": {
      "text/html": [
       "<div>\n",
       "<style scoped>\n",
       "    .dataframe tbody tr th:only-of-type {\n",
       "        vertical-align: middle;\n",
       "    }\n",
       "\n",
       "    .dataframe tbody tr th {\n",
       "        vertical-align: top;\n",
       "    }\n",
       "\n",
       "    .dataframe thead th {\n",
       "        text-align: right;\n",
       "    }\n",
       "</style>\n",
       "<table border=\"1\" class=\"dataframe\">\n",
       "  <thead>\n",
       "    <tr style=\"text-align: right;\">\n",
       "      <th></th>\n",
       "      <th>trade</th>\n",
       "    </tr>\n",
       "    <tr>\n",
       "      <th>name</th>\n",
       "      <th></th>\n",
       "    </tr>\n",
       "  </thead>\n",
       "  <tbody>\n",
       "    <tr>\n",
       "      <th>BCH</th>\n",
       "      <td>B</td>\n",
       "    </tr>\n",
       "    <tr>\n",
       "      <th>BH</th>\n",
       "      <td>B</td>\n",
       "    </tr>\n",
       "    <tr>\n",
       "      <th>COM7</th>\n",
       "      <td>B</td>\n",
       "    </tr>\n",
       "    <tr>\n",
       "      <th>GVREIT</th>\n",
       "      <td>B</td>\n",
       "    </tr>\n",
       "    <tr>\n",
       "      <th>JMART</th>\n",
       "      <td>B</td>\n",
       "    </tr>\n",
       "    <tr>\n",
       "      <th>KCE</th>\n",
       "      <td>B</td>\n",
       "    </tr>\n",
       "    <tr>\n",
       "      <th>PTTGC</th>\n",
       "      <td>B</td>\n",
       "    </tr>\n",
       "    <tr>\n",
       "      <th>RCL</th>\n",
       "      <td>B</td>\n",
       "    </tr>\n",
       "    <tr>\n",
       "      <th>SCC</th>\n",
       "      <td>B</td>\n",
       "    </tr>\n",
       "    <tr>\n",
       "      <th>SENA</th>\n",
       "      <td>B</td>\n",
       "    </tr>\n",
       "    <tr>\n",
       "      <th>SSP</th>\n",
       "      <td>B</td>\n",
       "    </tr>\n",
       "    <tr>\n",
       "      <th>STA</th>\n",
       "      <td>B</td>\n",
       "    </tr>\n",
       "    <tr>\n",
       "      <th>STARK</th>\n",
       "      <td>B</td>\n",
       "    </tr>\n",
       "    <tr>\n",
       "      <th>SYNEX</th>\n",
       "      <td>B</td>\n",
       "    </tr>\n",
       "    <tr>\n",
       "      <th>TFG</th>\n",
       "      <td>B</td>\n",
       "    </tr>\n",
       "  </tbody>\n",
       "</table>\n",
       "</div>"
      ],
      "text/plain": [
       "       trade\n",
       "name        \n",
       "BCH        B\n",
       "BH         B\n",
       "COM7       B\n",
       "GVREIT     B\n",
       "JMART      B\n",
       "KCE        B\n",
       "PTTGC      B\n",
       "RCL        B\n",
       "SCC        B\n",
       "SENA       B\n",
       "SSP        B\n",
       "STA        B\n",
       "STARK      B\n",
       "SYNEX      B\n",
       "TFG        B"
      ]
     },
     "execution_count": 18,
     "metadata": {},
     "output_type": "execute_result"
    }
   ],
   "source": [
    "sql = \"\"\"\n",
    "SELECT name, trade \n",
    "FROM orders \n",
    "WHERE trade IN (\"B\")\n",
    "ORDER BY name\n",
    "\"\"\"\n",
    "buy_candidates = pd.read_sql(sql, conlite)\n",
    "buy_candidates.set_index([\"name\"], inplace=True)\n",
    "buy_candidates"
   ]
  },
  {
   "cell_type": "code",
   "execution_count": 19,
   "metadata": {},
   "outputs": [
    {
     "data": {
      "text/plain": [
       "15"
      ]
     },
     "execution_count": 19,
     "metadata": {},
     "output_type": "execute_result"
    }
   ],
   "source": [
    "buy_candidates.shape[0]"
   ]
  },
  {
   "cell_type": "code",
   "execution_count": 20,
   "metadata": {},
   "outputs": [
    {
     "data": {
      "text/html": [
       "<div>\n",
       "<style scoped>\n",
       "    .dataframe tbody tr th:only-of-type {\n",
       "        vertical-align: middle;\n",
       "    }\n",
       "\n",
       "    .dataframe tbody tr th {\n",
       "        vertical-align: top;\n",
       "    }\n",
       "\n",
       "    .dataframe thead th {\n",
       "        text-align: right;\n",
       "    }\n",
       "</style>\n",
       "<table border=\"1\" class=\"dataframe\">\n",
       "  <thead>\n",
       "    <tr style=\"text-align: right;\">\n",
       "      <th></th>\n",
       "      <th>trade</th>\n",
       "    </tr>\n",
       "    <tr>\n",
       "      <th>name</th>\n",
       "      <th></th>\n",
       "    </tr>\n",
       "  </thead>\n",
       "  <tbody>\n",
       "    <tr>\n",
       "      <th>ASP</th>\n",
       "      <td>S</td>\n",
       "    </tr>\n",
       "    <tr>\n",
       "      <th>DOHOME</th>\n",
       "      <td>S</td>\n",
       "    </tr>\n",
       "    <tr>\n",
       "      <th>IVL</th>\n",
       "      <td>S</td>\n",
       "    </tr>\n",
       "    <tr>\n",
       "      <th>JASIF</th>\n",
       "      <td>S</td>\n",
       "    </tr>\n",
       "    <tr>\n",
       "      <th>MCS</th>\n",
       "      <td>S</td>\n",
       "    </tr>\n",
       "    <tr>\n",
       "      <th>TMT</th>\n",
       "      <td>S</td>\n",
       "    </tr>\n",
       "  </tbody>\n",
       "</table>\n",
       "</div>"
      ],
      "text/plain": [
       "       trade\n",
       "name        \n",
       "ASP        S\n",
       "DOHOME     S\n",
       "IVL        S\n",
       "JASIF      S\n",
       "MCS        S\n",
       "TMT        S"
      ]
     },
     "execution_count": 20,
     "metadata": {},
     "output_type": "execute_result"
    }
   ],
   "source": [
    "sql = \"\"\"\n",
    "SELECT name, trade \n",
    "FROM orders \n",
    "WHERE trade IN (\"S\")\n",
    "ORDER BY name\n",
    "\"\"\"\n",
    "sell_candidates = pd.read_sql(sql, conlite)\n",
    "sell_candidates.set_index([\"name\"], inplace=True)\n",
    "sell_candidates"
   ]
  },
  {
   "cell_type": "code",
   "execution_count": 21,
   "metadata": {},
   "outputs": [
    {
     "data": {
      "text/plain": [
       "6"
      ]
     },
     "execution_count": 21,
     "metadata": {},
     "output_type": "execute_result"
    }
   ],
   "source": [
    "sell_candidates.shape[0]"
   ]
  }
 ],
 "metadata": {
  "anaconda-cloud": {},
  "kernelspec": {
   "display_name": "Python 3 (ipykernel)",
   "language": "python",
   "name": "python3"
  },
  "language_info": {
   "codemirror_mode": {
    "name": "ipython",
    "version": 3
   },
   "file_extension": ".py",
   "mimetype": "text/x-python",
   "name": "python",
   "nbconvert_exporter": "python",
   "pygments_lexer": "ipython3",
   "version": "3.8.11"
  }
 },
 "nbformat": 4,
 "nbformat_minor": 1
}
