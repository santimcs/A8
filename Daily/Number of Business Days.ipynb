{
 "cells": [
  {
   "cell_type": "code",
   "execution_count": 11,
   "id": "7294de0b",
   "metadata": {},
   "outputs": [],
   "source": [
    "import pandas as pd\n",
    "start_date = '2022-12-06'\n",
    "end_date = '2022-12-15'\n",
    "# Create a series of dates between the two dates\n",
    "date_range = pd.date_range(start_date, end_date)\n",
    "\n",
    "# Select only the business days from the series\n",
    "business_days = date_range[date_range.isin(pd.bdate_range(start_date, end_date))]\n",
    "\n",
    "# Calculate the number of business days by taking the length of the series\n",
    "num_business_days = len(business_days)"
   ]
  },
  {
   "cell_type": "code",
   "execution_count": 12,
   "id": "8b53aaf0",
   "metadata": {},
   "outputs": [
    {
     "data": {
      "text/plain": [
       "8"
      ]
     },
     "execution_count": 12,
     "metadata": {},
     "output_type": "execute_result"
    }
   ],
   "source": [
    "num_business_days"
   ]
  },
  {
   "cell_type": "code",
   "execution_count": 13,
   "id": "a25c2f8b",
   "metadata": {},
   "outputs": [
    {
     "name": "stdout",
     "output_type": "stream",
     "text": [
      "  start_date   end_date                                              dates  \\\n",
      "0 2022-01-01 2022-01-31  DatetimeIndex(['2022-01-01', '2022-01-02', '20...   \n",
      "1 2022-01-05 2022-01-10  DatetimeIndex(['2022-01-05', '2022-01-06', '20...   \n",
      "2 2022-01-15 2022-01-20  DatetimeIndex(['2022-01-15', '2022-01-16', '20...   \n",
      "\n",
      "                                       business_days  num_business_days  \n",
      "0  DatetimeIndex(['2022-01-03', '2022-01-04', '20...                 21  \n",
      "1  DatetimeIndex(['2022-01-05', '2022-01-06', '20...                  4  \n",
      "2  DatetimeIndex(['2022-01-17', '2022-01-18', '20...                  4  \n"
     ]
    }
   ],
   "source": [
    "import pandas as pd\n",
    "\n",
    "# Create a DataFrame with start and end dates\n",
    "df = pd.DataFrame({'start_date': ['2022-01-01', '2022-01-05', '2022-01-15'],\n",
    "                   'end_date': ['2022-01-31', '2022-01-10', '2022-01-20']})\n",
    "\n",
    "# Convert the start and end date columns to datetime objects\n",
    "df['start_date'] = pd.to_datetime(df['start_date'])\n",
    "df['end_date'] = pd.to_datetime(df['end_date'])\n",
    "\n",
    "# For each row in the DataFrame, generate a series of dates between the start and end dates\n",
    "df['dates'] = df.apply(lambda x: pd.date_range(x['start_date'], x['end_date']), axis=1)\n",
    "\n",
    "# For each row in the DataFrame, select only the business days (Monday through Friday) from the series of dates\n",
    "df['business_days'] = df['dates'].apply(lambda x: x[x.isin(pd.date_range(x.min(), x.max(), freq='B'))])\n",
    "\n",
    "# For each row in the DataFrame, count the number of business days between the start and end dates\n",
    "df['num_business_days'] = df['business_days'].apply(lambda x: len(x))\n",
    "\n",
    "print(df)\n"
   ]
  },
  {
   "cell_type": "code",
   "execution_count": null,
   "id": "d79b99f0",
   "metadata": {},
   "outputs": [],
   "source": []
  }
 ],
 "metadata": {
  "kernelspec": {
   "display_name": "Python 3 (ipykernel)",
   "language": "python",
   "name": "python3"
  },
  "language_info": {
   "codemirror_mode": {
    "name": "ipython",
    "version": 3
   },
   "file_extension": ".py",
   "mimetype": "text/x-python",
   "name": "python",
   "nbconvert_exporter": "python",
   "pygments_lexer": "ipython3",
   "version": "3.8.11"
  }
 },
 "nbformat": 4,
 "nbformat_minor": 5
}
