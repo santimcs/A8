{
 "cells": [
  {
   "cell_type": "code",
   "execution_count": 1,
   "metadata": {},
   "outputs": [
    {
     "data": {
      "text/plain": [
       "['trade', 'name', 'qty', 'price', 'active', 'reason', 'market']"
      ]
     },
     "execution_count": 1,
     "metadata": {},
     "output_type": "execute_result"
    }
   ],
   "source": [
    "import calendar\n",
    "import pandas as pd\n",
    "from datetime import date, timedelta\n",
    "from sqlalchemy import create_engine\n",
    "\n",
    "engine = create_engine(\"sqlite:///c:\\\\ruby\\\\port_lite\\\\db\\\\development.sqlite3\")\n",
    "conlite = engine.connect()\n",
    "\n",
    "data_path = \"../data/\"\n",
    "csv_path = \"\\\\Users\\\\User\\\\iCloudDrive\\\\\"\n",
    "box_path = \"\\\\Users\\\\User\\\\Dropbox\\\\\"\n",
    "\n",
    "format_dict = {\n",
    "    'qty':'{:,}','price':'{:.2f}',\n",
    "    'amount':'{:,.2f}','sell_amt':'{:,.2f}'\n",
    "}\n",
    "cols = 'trade name qty price active reason market'.split()\n",
    "cols"
   ]
  },
  {
   "cell_type": "markdown",
   "metadata": {},
   "source": [
    "### After there is change in orders"
   ]
  },
  {
   "cell_type": "code",
   "execution_count": 2,
   "metadata": {},
   "outputs": [
    {
     "data": {
      "text/plain": [
       "27"
      ]
     },
     "execution_count": 2,
     "metadata": {},
     "output_type": "execute_result"
    }
   ],
   "source": [
    "sql = '''\n",
    "SELECT trade, name, qty, price, qty * price AS amount, reason, market, active\n",
    "FROM orders\n",
    "ORDER BY trade, name'''\n",
    "orders = pd.read_sql(sql, conlite)\n",
    "orders.shape[0]"
   ]
  },
  {
   "cell_type": "code",
   "execution_count": 3,
   "metadata": {},
   "outputs": [],
   "source": [
    "file_name = 'orders.csv'\n",
    "data_file = data_path + file_name\n",
    "output_file = csv_path + file_name\n",
    "box_file = box_path + file_name\n",
    "data_file, output_file, box_file\n",
    "\n",
    "orders[cols].to_csv(output_file, header=False, index=False)\n",
    "orders[cols].to_csv(data_file, header=False, index=False)\n",
    "orders[cols].to_csv(box_file, header=False, index=False)"
   ]
  },
  {
   "cell_type": "markdown",
   "metadata": {},
   "source": [
    "### After call ord-log"
   ]
  },
  {
   "cell_type": "code",
   "execution_count": 4,
   "metadata": {},
   "outputs": [],
   "source": [
    "def categorise(row):  \n",
    "    if row['col0'] == 'B':\n",
    "        return 'Buy'\n",
    "    else:\n",
    "        return 'Sell'"
   ]
  },
  {
   "cell_type": "code",
   "execution_count": 5,
   "metadata": {},
   "outputs": [],
   "source": [
    "df = pd.read_csv('../data/orders-log.csv', header=None, prefix = 'col',usecols=[0,1,2,3,4,5,6,7,8,9])\n",
    "df.rename(columns = {'col1': 'name', 'col2': 'spd','col3': 'reason', 'col4': 'market','col5': 'qty', 'col6': 'target','col7': 'current', 'col8': 'chg', 'col9': 'percent'}, inplace = True)\n",
    "df['trans'] = df.apply(lambda row: categorise(row), axis=1)"
   ]
  },
  {
   "cell_type": "code",
   "execution_count": 6,
   "metadata": {
    "scrolled": false
   },
   "outputs": [
    {
     "data": {
      "application/javascript": [
       "require.config({\n",
       "    paths: {\n",
       "        datatables: 'https://cdn.datatables.net/1.10.19/js/jquery.dataTables.min',\n",
       "    }\n",
       "});\n",
       "\n",
       "$('head').append('<link rel=\"stylesheet\" type=\"text/css\" \\\n",
       "                href = \"https://cdn.datatables.net/1.10.19/css/jquery.dataTables.min.css\" > ');\n",
       "\n",
       "$('head').append('<style> table td { text-overflow: ellipsis; overflow: hidden; } </style>');\n",
       "\n",
       "$('head').append(`<script>\n",
       "function eval_functions(map_or_text) {\n",
       "    if (typeof map_or_text === \"string\") {\n",
       "        if (map_or_text.startsWith(\"function\")) {\n",
       "            try {\n",
       "                // Note: parenthesis are required around the whole expression for eval to return a value!\n",
       "                // See https://stackoverflow.com/a/7399078/911298.\n",
       "                //\n",
       "                // eval(\"local_fun = \" + map_or_text) would fail because local_fun is not declared\n",
       "                // (using var, let or const would work, but it would only be declared in the local scope\n",
       "                // and therefore the value could not be retrieved).\n",
       "                const func = eval(\"(\" + map_or_text + \")\");\n",
       "                if (typeof func !== \"function\") {\n",
       "                    // Note: backquotes are super convenient!\n",
       "                    // https://developer.mozilla.org/en-US/docs/Web/JavaScript/Reference/Template_literals\n",
       "                    console.error(\"Evaluated expression \" + map_or_text + \" is not a function (type is \" + typeof func + \")\");\n",
       "                    return map_or_text;\n",
       "                }\n",
       "                // Return the function\n",
       "                return func;\n",
       "            } catch (e) {\n",
       "                // Make sure to print the error with a second argument to console.error().\n",
       "                console.error(\"itables was not able to parse \" + map_or_text, e);\n",
       "            }\n",
       "        }\n",
       "    } else if (typeof map_or_text === \"object\") {\n",
       "        if (map_or_text instanceof Array) {\n",
       "            // Note: \"var\" is now superseded by \"let\" and \"const\".\n",
       "            // https://medium.com/javascript-scene/javascript-es6-var-let-or-const-ba58b8dcde75\n",
       "            const result = [];\n",
       "            // Note: \"for of\" is the best way to iterate through an iterable.\n",
       "            // https://developer.mozilla.org/en-US/docs/Web/JavaScript/Reference/Statements/for...of\n",
       "            for (const item of map_or_text) {\n",
       "                result.push(eval_functions(item));\n",
       "            }\n",
       "            return result;\n",
       "\n",
       "            // Alternatively, more functional approach in one line:\n",
       "            // return map_or_text.map(eval_functions);\n",
       "        } else {\n",
       "            const result = {};\n",
       "            // Object.keys() is safer than \"for in\" because otherwise you might have keys\n",
       "            // that aren't defined in the object itself.\n",
       "            //\n",
       "            // See https://stackoverflow.com/a/684692/911298.\n",
       "            for (const item of Object.keys(map_or_text)) {\n",
       "                result[item] = eval_functions(map_or_text[item]);\n",
       "            }\n",
       "            return result;\n",
       "        }\n",
       "    }\n",
       "\n",
       "    return map_or_text;\n",
       "}\n",
       "\n",
       "</` + 'script>');"
      ],
      "text/plain": [
       "<IPython.core.display.Javascript object>"
      ]
     },
     "metadata": {},
     "output_type": "display_data"
    },
    {
     "data": {
      "text/html": [
       "<div><table id=\"9be676cb-dcfb-4c6e-9751-2de0048a3ad1\" class=\"display\"><thead>\n",
       "    <tr style=\"text-align: right;\">\n",
       "      \n",
       "      <th>trans</th>\n",
       "      <th>name</th>\n",
       "      <th>spd</th>\n",
       "      <th>reason</th>\n",
       "      <th>qty</th>\n",
       "      <th>target</th>\n",
       "      <th>current</th>\n",
       "      <th>chg</th>\n",
       "      <th>percent</th>\n",
       "    </tr>\n",
       "  </thead></table>\n",
       "<script type=\"text/javascript\">\n",
       "require([\"datatables\"], function (datatables) {\n",
       "    $(document).ready(function () {\n",
       "        var dt_args = {\"columnDefs\": [{\"width\": \"70px\", \"targets\": \"_all\"}], \"data\": [[\"Buy\", \"BGC\", -2, \"DOS\", 9000, 10.4, 10.6, -0.1, \"-0.93%\"], [\"Buy\", \"DOHOME\", -4, \"RD05%\", 4000, 22.9, 23.3, 0.1, \"+0.43%\"], [\"Buy\", \"GLOBAL\", -10, \"RD05%\", 7500, 19.0, 20.0, -0.2, \"-0.99%\"], [\"Buy\", \"IMH\", -6, \"20%\", 1500, 12.0, 12.6, 0.1, \"+0.80%\"], [\"Buy\", \"KCE\", -4, \"5%\", 1100, 87.0, 88.0, -1.0, \"-1.12%\"], [\"Buy\", \"NOBLE\", -6, \"RD15%\", 21000, 5.85, 6.15, 0.0, \"0.00%\"], [\"Buy\", \"PTT\", -6, \"RD05%\", 3000, 36.5, 38.0, -0.25, \"-0.65%\"], [\"Buy\", \"RATCH\", -9, \"RD05%\", 3000, 42.75, 45.0, 0.0, \"0.00%\"], [\"Buy\", \"ROJNA\", -3, \"6L\", 18000, 6.5, 6.65, 0.1, \"+1.53%\"], [\"Buy\", \"SIS\", -8, \"DFM10%\", 3000, 42.0, 44.0, 0.0, \"0.00%\"], [\"Buy\", \"STA\", -12, \"RD15%\", 2500, 28.0, 31.0, -0.25, \"-0.80%\"], [\"Buy\", \"SYNEX\", -21, \"DFM10%\", 6000, 31.25, 36.5, 1.25, \"+3.55%\"], [\"Buy\", \"TCAP\", -11, \"1L\", 6000, 35.0, 37.75, 0.0, \"0.00%\"], [\"Buy\", \"TISCO\", -6, \"CP1S\", 2000, 94.5, 96.0, 0.25, \"+0.26%\"], [\"Buy\", \"TSTH\", -4, \"5%\", 45000, 1.42, 1.46, 0.0, \"0.00%\"], [\"Buy\", \"TVO\", -4, \"DOS\", 3600, 30.0, 31.0, 0.25, \"+0.81%\"], [\"Buy\", \"WHART\", -1, \"DOS\", 9000, 12.6, 12.7, 0.0, \"0.00%\"], [\"Sell\", \"BGRIM\", 6, \"5%\", 3000, 42.0, 40.5, 0.5, \"+1.25%\"], [\"Sell\", \"DCC\", 4, \"CP1S\", 40000, 2.92, 2.84, 0.0, \"0.00%\"], [\"Sell\", \"IVL\", 3, \"5%\", 3000, 44.0, 43.25, 0.25, \"+0.58%\"], [\"Sell\", \"KBANK\", 3, \"5%\", 800, 143.25, 142.0, 0.0, \"0.00%\"], [\"Sell\", \"NER\", 10, \"CP1S\", 1200, 7.5, 7.0, -0.05, \"-0.71%\"], [\"Sell\", \"RJH\", 8, \"5%\", 1500, 34.75, 32.75, -0.25, \"-0.76%\"], [\"Sell\", \"SAT\", 14, \"10%\", 2500, 23.2, 21.8, 0.3, \"+1.40%\"], [\"Sell\", \"SCC\", 17, \"CP1S\", 600, 406.0, 386.0, -2.0, \"-0.52%\"], [\"Sell\", \"TOP\", 12, \"5%\", 3000, 52.5, 49.5, -0.25, \"-0.50%\"], [\"Sell\", \"TU\", 14, \"CP1S\", 6000, 20.9, 19.5, -0.1, \"-0.51%\"]]};\n",
       "        dt_args = eval_functions(dt_args);\n",
       "        table = $('#9be676cb-dcfb-4c6e-9751-2de0048a3ad1').DataTable(dt_args);\n",
       "    });\n",
       "})\n",
       "</script>\n",
       "</div>\n"
      ],
      "text/plain": [
       "<IPython.core.display.HTML object>"
      ]
     },
     "metadata": {},
     "output_type": "display_data"
    }
   ],
   "source": [
    "from itables import show\n",
    "show(df[['trans','name','spd','reason','qty','target','current','chg','percent']])"
   ]
  },
  {
   "cell_type": "code",
   "execution_count": 7,
   "metadata": {
    "scrolled": false
   },
   "outputs": [
    {
     "data": {
      "text/html": [
       "<style type=\"text/css\">\n",
       "</style>\n",
       "<table id=\"T_0dc2b_\">\n",
       "  <thead>\n",
       "    <tr>\n",
       "      <th class=\"blank level0\" >&nbsp;</th>\n",
       "      <th class=\"col_heading level0 col0\" >trade</th>\n",
       "      <th class=\"col_heading level0 col1\" >name</th>\n",
       "      <th class=\"col_heading level0 col2\" >qty</th>\n",
       "      <th class=\"col_heading level0 col3\" >price</th>\n",
       "      <th class=\"col_heading level0 col4\" >amount</th>\n",
       "      <th class=\"col_heading level0 col5\" >reason</th>\n",
       "      <th class=\"col_heading level0 col6\" >market</th>\n",
       "      <th class=\"col_heading level0 col7\" >active</th>\n",
       "    </tr>\n",
       "  </thead>\n",
       "  <tbody>\n",
       "    <tr>\n",
       "      <th id=\"T_0dc2b_level0_row0\" class=\"row_heading level0 row0\" >0</th>\n",
       "      <td id=\"T_0dc2b_row0_col0\" class=\"data row0 col0\" >B</td>\n",
       "      <td id=\"T_0dc2b_row0_col1\" class=\"data row0 col1\" >SYNEX</td>\n",
       "      <td id=\"T_0dc2b_row0_col2\" class=\"data row0 col2\" >6,000</td>\n",
       "      <td id=\"T_0dc2b_row0_col3\" class=\"data row0 col3\" >31.25</td>\n",
       "      <td id=\"T_0dc2b_row0_col4\" class=\"data row0 col4\" >187,500.00</td>\n",
       "      <td id=\"T_0dc2b_row0_col5\" class=\"data row0 col5\" >DFM10%</td>\n",
       "      <td id=\"T_0dc2b_row0_col6\" class=\"data row0 col6\" >SET100</td>\n",
       "      <td id=\"T_0dc2b_row0_col7\" class=\"data row0 col7\" >0</td>\n",
       "    </tr>\n",
       "  </tbody>\n",
       "</table>\n"
      ],
      "text/plain": [
       "<pandas.io.formats.style.Styler at 0x216d21a96a0>"
      ]
     },
     "execution_count": 7,
     "metadata": {},
     "output_type": "execute_result"
    }
   ],
   "source": [
    "name = 'SYNEX'\n",
    "sql = '''\n",
    "SELECT trade, name, qty, price, qty * price AS amount, reason, market, active\n",
    "FROM orders\n",
    "WHERE name = '%s'\n",
    "'''\n",
    "sql = sql % name\n",
    "order = pd.read_sql(sql, conlite)\n",
    "order.style.format(format_dict)"
   ]
  },
  {
   "cell_type": "code",
   "execution_count": 8,
   "metadata": {},
   "outputs": [
    {
     "data": {
      "text/plain": [
       "1"
      ]
     },
     "execution_count": 8,
     "metadata": {},
     "output_type": "execute_result"
    }
   ],
   "source": [
    "price = 31.25\n",
    "qty = 6000\n",
    "sql = '''\n",
    "UPDATE orders\n",
    "SET price = %s, qty = %s\n",
    "WHERE name = '%s'\n",
    "'''\n",
    "sql = sql % (price, qty, name)\n",
    "rp = conlite.execute(sql)\n",
    "rp.rowcount"
   ]
  },
  {
   "cell_type": "markdown",
   "metadata": {},
   "source": [
    "### End of Update Process"
   ]
  },
  {
   "cell_type": "code",
   "execution_count": 9,
   "metadata": {},
   "outputs": [
    {
     "data": {
      "text/plain": [
       "50"
      ]
     },
     "execution_count": 9,
     "metadata": {},
     "output_type": "execute_result"
    }
   ],
   "source": [
    "sql = '''\n",
    "UPDATE stocks SET buy_target=(\n",
    "SELECT orders.price \n",
    "FROM orders \n",
    "WHERE orders.name=stocks.name AND orders.trade='B')'''\n",
    "rp = conlite.execute(sql)\n",
    "rp.rowcount"
   ]
  },
  {
   "cell_type": "code",
   "execution_count": 10,
   "metadata": {},
   "outputs": [
    {
     "data": {
      "text/plain": [
       "50"
      ]
     },
     "execution_count": 10,
     "metadata": {},
     "output_type": "execute_result"
    }
   ],
   "source": [
    "sql = '''\n",
    "UPDATE stocks SET sell_target=(\n",
    "SELECT orders.price \n",
    "FROM orders \n",
    "WHERE orders.name=stocks.name AND orders.trade='S')'''\n",
    "rp = conlite.execute(sql)\n",
    "rp.rowcount"
   ]
  },
  {
   "cell_type": "code",
   "execution_count": 11,
   "metadata": {},
   "outputs": [
    {
     "data": {
      "text/plain": [
       "50"
      ]
     },
     "execution_count": 11,
     "metadata": {},
     "output_type": "execute_result"
    }
   ],
   "source": [
    "sql = '''\n",
    "UPDATE stocks SET qty = (\n",
    "SELECT orders.qty \n",
    "FROM orders \n",
    "WHERE orders.name = stocks.name AND orders.trade = 'S')'''\n",
    "rp = conlite.execute(sql)\n",
    "rp.rowcount"
   ]
  },
  {
   "cell_type": "code",
   "execution_count": 12,
   "metadata": {},
   "outputs": [
    {
     "data": {
      "text/plain": [
       "40"
      ]
     },
     "execution_count": 12,
     "metadata": {},
     "output_type": "execute_result"
    }
   ],
   "source": [
    "sql = '''\n",
    "UPDATE stocks\n",
    "SET buy_target = 0\n",
    "WHERE buy_target IS NULL'''\n",
    "rp = conlite.execute(sql)\n",
    "rp.rowcount"
   ]
  },
  {
   "cell_type": "code",
   "execution_count": 13,
   "metadata": {},
   "outputs": [
    {
     "data": {
      "text/plain": [
       "33"
      ]
     },
     "execution_count": 13,
     "metadata": {},
     "output_type": "execute_result"
    }
   ],
   "source": [
    "sql = '''\n",
    "UPDATE stocks\n",
    "SET sell_target = 0\n",
    "WHERE sell_target IS NULL'''\n",
    "rp = conlite.execute(sql)\n",
    "rp.rowcount"
   ]
  },
  {
   "cell_type": "code",
   "execution_count": 14,
   "metadata": {},
   "outputs": [
    {
     "data": {
      "text/plain": [
       "0"
      ]
     },
     "execution_count": 14,
     "metadata": {},
     "output_type": "execute_result"
    }
   ],
   "source": [
    "sql = '''\n",
    "UPDATE stocks\n",
    "SET available_qty = 0\n",
    "WHERE available_qty IS NULL'''\n",
    "rp = conlite.execute(sql)\n",
    "rp.rowcount"
   ]
  },
  {
   "cell_type": "code",
   "execution_count": 15,
   "metadata": {},
   "outputs": [
    {
     "data": {
      "text/plain": [
       "0"
      ]
     },
     "execution_count": 15,
     "metadata": {},
     "output_type": "execute_result"
    }
   ],
   "source": [
    "sql = '''\n",
    "UPDATE stocks\n",
    "SET cost = 0\n",
    "WHERE cost IS NULL'''\n",
    "rp = conlite.execute(sql)\n",
    "rp.rowcount"
   ]
  },
  {
   "cell_type": "code",
   "execution_count": 16,
   "metadata": {},
   "outputs": [
    {
     "data": {
      "text/plain": [
       "33"
      ]
     },
     "execution_count": 16,
     "metadata": {},
     "output_type": "execute_result"
    }
   ],
   "source": [
    "sql = '''\n",
    "UPDATE stocks\n",
    "SET qty = 0\n",
    "WHERE qty IS NULL'''\n",
    "rp = conlite.execute(sql)\n",
    "rp.rowcount"
   ]
  },
  {
   "cell_type": "code",
   "execution_count": null,
   "metadata": {},
   "outputs": [],
   "source": []
  }
 ],
 "metadata": {
  "anaconda-cloud": {},
  "kernelspec": {
   "display_name": "Python 3 (ipykernel)",
   "language": "python",
   "name": "python3"
  },
  "language_info": {
   "codemirror_mode": {
    "name": "ipython",
    "version": 3
   },
   "file_extension": ".py",
   "mimetype": "text/x-python",
   "name": "python",
   "nbconvert_exporter": "python",
   "pygments_lexer": "ipython3",
   "version": "3.8.11"
  }
 },
 "nbformat": 4,
 "nbformat_minor": 1
}
