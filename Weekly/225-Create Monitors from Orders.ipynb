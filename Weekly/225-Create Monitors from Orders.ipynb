{
 "cells": [
  {
   "cell_type": "code",
   "execution_count": 1,
   "metadata": {},
   "outputs": [
    {
     "data": {
      "text/plain": [
       "(datetime.date(2022, 4, 15), datetime.date(2022, 4, 14))"
      ]
     },
     "execution_count": 1,
     "metadata": {},
     "output_type": "execute_result"
    }
   ],
   "source": [
    "import calendar\n",
    "import pandas as pd\n",
    "from datetime import date, timedelta\n",
    "from sqlalchemy import create_engine\n",
    "\n",
    "engine = create_engine(\"sqlite:///c:\\\\ruby\\\\port_lite\\\\db\\\\development.sqlite3\")\n",
    "conlite = engine.connect()\n",
    "\n",
    "engine = create_engine(\"mysql+pymysql://root:@localhost:3306/stock\")\n",
    "const = engine.connect()\n",
    "\n",
    "pd.set_option('display.max_row',None)\n",
    "\n",
    "data_path = \"../data/\"\n",
    "csv_path = \"\\\\Users\\\\User\\\\iCloudDrive\\\\\"\n",
    "box_path = \"\\\\Users\\\\User\\\\Dropbox\\\\\"\n",
    "one_path = \"\\\\Users\\\\User\\\\OneDrive\\\\Documents\\\\Data\\\\\"\n",
    "\n",
    "today = date.today()\n",
    "yesterday = today - timedelta(days=1)\n",
    "today, yesterday"
   ]
  },
  {
   "cell_type": "code",
   "execution_count": 2,
   "metadata": {},
   "outputs": [
    {
     "data": {
      "text/plain": [
       "(datetime.date(2022, 4, 12), datetime.date(2022, 4, 5))"
      ]
     },
     "execution_count": 2,
     "metadata": {},
     "output_type": "execute_result"
    }
   ],
   "source": [
    "today = today - timedelta(days=3)\n",
    "wkago = today - timedelta(days=7)\n",
    "#wkago = date(2020, 12, 30)\n",
    "today, wkago"
   ]
  },
  {
   "cell_type": "markdown",
   "metadata": {},
   "source": [
    "### Restart and Run All Cells"
   ]
  },
  {
   "cell_type": "markdown",
   "metadata": {},
   "source": [
    "### Weekly process or when stataus changes."
   ]
  },
  {
   "cell_type": "code",
   "execution_count": 3,
   "metadata": {},
   "outputs": [
    {
     "data": {
      "text/plain": [
       "0"
      ]
     },
     "execution_count": 3,
     "metadata": {},
     "output_type": "execute_result"
    }
   ],
   "source": [
    "sqlDel = \"\"\"DELETE FROM sales\"\"\"\n",
    "rp = conlite.execute(sqlDel)\n",
    "rp.rowcount"
   ]
  },
  {
   "cell_type": "code",
   "execution_count": 4,
   "metadata": {},
   "outputs": [
    {
     "data": {
      "text/plain": [
       "\"'AIMIRT', 'ASIAN', 'BAM', 'BBL', 'CPNCG', 'DOHOME', 'HREIT', 'IP', 'JASIF', 'KCE', 'KKP', 'MAKRO', 'PTT', 'RATCH', 'RCL', 'SC', 'SENA', 'STA', 'SYNEX'\""
      ]
     },
     "execution_count": 4,
     "metadata": {},
     "output_type": "execute_result"
    }
   ],
   "source": [
    "sql = \"\"\"\n",
    "SELECT name\n",
    "FROM orders \n",
    "ORDER BY name\n",
    "\"\"\"\n",
    "df = pd.read_sql(sql, conlite)\n",
    "\n",
    "names = df['name'].values.tolist()\n",
    "in_p = \", \".join(map(lambda name: \"'%s'\" % name, names))\n",
    "in_p"
   ]
  },
  {
   "cell_type": "markdown",
   "metadata": {},
   "source": [
    "### Get past one year data"
   ]
  },
  {
   "cell_type": "code",
   "execution_count": 5,
   "metadata": {},
   "outputs": [
    {
     "name": "stdout",
     "output_type": "stream",
     "text": [
      "\n",
      "SELECT * \n",
      "FROM price \n",
      "WHERE date >= '2021-04-14' AND name IN ('AIMIRT', 'ASIAN', 'BAM', 'BBL', 'CPNCG', 'DOHOME', 'HREIT', 'IP', 'JASIF', 'KCE', 'KKP', 'MAKRO', 'PTT', 'RATCH', 'RCL', 'SC', 'SENA', 'STA', 'SYNEX') \n",
      "ORDER BY name, date\n"
     ]
    }
   ],
   "source": [
    "one_year_ago = yesterday - timedelta(days=365)\n",
    "one_year_ago\n",
    "\n",
    "sql = \"\"\"\n",
    "SELECT * \n",
    "FROM price \n",
    "WHERE date >= '%s' AND name IN (%s) \n",
    "ORDER BY name, date\"\"\"\n",
    "sql = sql % (one_year_ago, in_p)\n",
    "print(sql)"
   ]
  },
  {
   "cell_type": "code",
   "execution_count": 6,
   "metadata": {},
   "outputs": [
    {
     "data": {
      "text/plain": [
       "(4632, 7)"
      ]
     },
     "execution_count": 6,
     "metadata": {},
     "output_type": "execute_result"
    }
   ],
   "source": [
    "df = pd.read_sql(sql, const)\n",
    "df.shape"
   ]
  },
  {
   "cell_type": "code",
   "execution_count": 7,
   "metadata": {},
   "outputs": [],
   "source": [
    "data_path = \"../data/\"\n",
    "file_name = \"Yearly-Price-by-Name.csv\"\n",
    "output_file = data_path + file_name\n",
    "\n",
    "df.set_index(\"name\", inplace=True)\n",
    "df.to_csv(output_file, header=None)"
   ]
  },
  {
   "cell_type": "code",
   "execution_count": 8,
   "metadata": {
    "scrolled": false
   },
   "outputs": [
    {
     "data": {
      "text/html": [
       "<div>\n",
       "<style scoped>\n",
       "    .dataframe tbody tr th:only-of-type {\n",
       "        vertical-align: middle;\n",
       "    }\n",
       "\n",
       "    .dataframe tbody tr th {\n",
       "        vertical-align: top;\n",
       "    }\n",
       "\n",
       "    .dataframe thead th {\n",
       "        text-align: right;\n",
       "    }\n",
       "</style>\n",
       "<table border=\"1\" class=\"dataframe\">\n",
       "  <thead>\n",
       "    <tr style=\"text-align: right;\">\n",
       "      <th></th>\n",
       "      <th>trade</th>\n",
       "    </tr>\n",
       "    <tr>\n",
       "      <th>name</th>\n",
       "      <th></th>\n",
       "    </tr>\n",
       "  </thead>\n",
       "  <tbody>\n",
       "    <tr>\n",
       "      <th>AIMIRT</th>\n",
       "      <td>S</td>\n",
       "    </tr>\n",
       "    <tr>\n",
       "      <th>ASIAN</th>\n",
       "      <td>B</td>\n",
       "    </tr>\n",
       "    <tr>\n",
       "      <th>BAM</th>\n",
       "      <td>B</td>\n",
       "    </tr>\n",
       "    <tr>\n",
       "      <th>BBL</th>\n",
       "      <td>B</td>\n",
       "    </tr>\n",
       "    <tr>\n",
       "      <th>CPNCG</th>\n",
       "      <td>S</td>\n",
       "    </tr>\n",
       "    <tr>\n",
       "      <th>DOHOME</th>\n",
       "      <td>S</td>\n",
       "    </tr>\n",
       "    <tr>\n",
       "      <th>HREIT</th>\n",
       "      <td>S</td>\n",
       "    </tr>\n",
       "    <tr>\n",
       "      <th>IP</th>\n",
       "      <td>S</td>\n",
       "    </tr>\n",
       "    <tr>\n",
       "      <th>JASIF</th>\n",
       "      <td>S</td>\n",
       "    </tr>\n",
       "    <tr>\n",
       "      <th>KCE</th>\n",
       "      <td>S</td>\n",
       "    </tr>\n",
       "    <tr>\n",
       "      <th>KKP</th>\n",
       "      <td>B</td>\n",
       "    </tr>\n",
       "    <tr>\n",
       "      <th>MAKRO</th>\n",
       "      <td>B</td>\n",
       "    </tr>\n",
       "    <tr>\n",
       "      <th>PTT</th>\n",
       "      <td>S</td>\n",
       "    </tr>\n",
       "    <tr>\n",
       "      <th>RATCH</th>\n",
       "      <td>S</td>\n",
       "    </tr>\n",
       "    <tr>\n",
       "      <th>RCL</th>\n",
       "      <td>S</td>\n",
       "    </tr>\n",
       "    <tr>\n",
       "      <th>SC</th>\n",
       "      <td>B</td>\n",
       "    </tr>\n",
       "    <tr>\n",
       "      <th>SENA</th>\n",
       "      <td>B</td>\n",
       "    </tr>\n",
       "    <tr>\n",
       "      <th>STA</th>\n",
       "      <td>S</td>\n",
       "    </tr>\n",
       "    <tr>\n",
       "      <th>SYNEX</th>\n",
       "      <td>S</td>\n",
       "    </tr>\n",
       "  </tbody>\n",
       "</table>\n",
       "</div>"
      ],
      "text/plain": [
       "       trade\n",
       "name        \n",
       "AIMIRT     S\n",
       "ASIAN      B\n",
       "BAM        B\n",
       "BBL        B\n",
       "CPNCG      S\n",
       "DOHOME     S\n",
       "HREIT      S\n",
       "IP         S\n",
       "JASIF      S\n",
       "KCE        S\n",
       "KKP        B\n",
       "MAKRO      B\n",
       "PTT        S\n",
       "RATCH      S\n",
       "RCL        S\n",
       "SC         B\n",
       "SENA       B\n",
       "STA        S\n",
       "SYNEX      S"
      ]
     },
     "execution_count": 8,
     "metadata": {},
     "output_type": "execute_result"
    }
   ],
   "source": [
    "sql = \"\"\"\n",
    "SELECT name,trade \n",
    "FROM orders \n",
    "WHERE name IN (%s)\n",
    "ORDER BY name\n",
    "\"\"\"\n",
    "sql = sql % in_p\n",
    "orders = pd.read_sql(sql, conlite)\n",
    "orders.set_index(['name'],inplace=True)\n",
    "orders"
   ]
  },
  {
   "cell_type": "markdown",
   "metadata": {},
   "source": [
    "### Create monitors from stocks"
   ]
  },
  {
   "cell_type": "code",
   "execution_count": 9,
   "metadata": {},
   "outputs": [
    {
     "data": {
      "text/html": [
       "<div>\n",
       "<style scoped>\n",
       "    .dataframe tbody tr th:only-of-type {\n",
       "        vertical-align: middle;\n",
       "    }\n",
       "\n",
       "    .dataframe tbody tr th {\n",
       "        vertical-align: top;\n",
       "    }\n",
       "\n",
       "    .dataframe thead th {\n",
       "        text-align: right;\n",
       "    }\n",
       "</style>\n",
       "<table border=\"1\" class=\"dataframe\">\n",
       "  <thead>\n",
       "    <tr style=\"text-align: right;\">\n",
       "      <th></th>\n",
       "      <th>status</th>\n",
       "    </tr>\n",
       "    <tr>\n",
       "      <th>name</th>\n",
       "      <th></th>\n",
       "    </tr>\n",
       "  </thead>\n",
       "  <tbody>\n",
       "    <tr>\n",
       "      <th>AIMIRT</th>\n",
       "      <td>I</td>\n",
       "    </tr>\n",
       "    <tr>\n",
       "      <th>ASIAN</th>\n",
       "      <td>O</td>\n",
       "    </tr>\n",
       "    <tr>\n",
       "      <th>BAM</th>\n",
       "      <td>O</td>\n",
       "    </tr>\n",
       "    <tr>\n",
       "      <th>BBL</th>\n",
       "      <td>O</td>\n",
       "    </tr>\n",
       "    <tr>\n",
       "      <th>BCH</th>\n",
       "      <td>I</td>\n",
       "    </tr>\n",
       "    <tr>\n",
       "      <th>CPNCG</th>\n",
       "      <td>I</td>\n",
       "    </tr>\n",
       "    <tr>\n",
       "      <th>DOHOME</th>\n",
       "      <td>I</td>\n",
       "    </tr>\n",
       "    <tr>\n",
       "      <th>HREIT</th>\n",
       "      <td>I</td>\n",
       "    </tr>\n",
       "    <tr>\n",
       "      <th>IP</th>\n",
       "      <td>I</td>\n",
       "    </tr>\n",
       "    <tr>\n",
       "      <th>JASIF</th>\n",
       "      <td>I</td>\n",
       "    </tr>\n",
       "    <tr>\n",
       "      <th>KCE</th>\n",
       "      <td>I</td>\n",
       "    </tr>\n",
       "    <tr>\n",
       "      <th>KKP</th>\n",
       "      <td>O</td>\n",
       "    </tr>\n",
       "    <tr>\n",
       "      <th>MAKRO</th>\n",
       "      <td>B</td>\n",
       "    </tr>\n",
       "    <tr>\n",
       "      <th>PTT</th>\n",
       "      <td>I</td>\n",
       "    </tr>\n",
       "    <tr>\n",
       "      <th>RATCH</th>\n",
       "      <td>I</td>\n",
       "    </tr>\n",
       "    <tr>\n",
       "      <th>RCL</th>\n",
       "      <td>I</td>\n",
       "    </tr>\n",
       "    <tr>\n",
       "      <th>SC</th>\n",
       "      <td>O</td>\n",
       "    </tr>\n",
       "    <tr>\n",
       "      <th>SENA</th>\n",
       "      <td>B</td>\n",
       "    </tr>\n",
       "    <tr>\n",
       "      <th>STA</th>\n",
       "      <td>S</td>\n",
       "    </tr>\n",
       "    <tr>\n",
       "      <th>SYNEX</th>\n",
       "      <td>I</td>\n",
       "    </tr>\n",
       "  </tbody>\n",
       "</table>\n",
       "</div>"
      ],
      "text/plain": [
       "       status\n",
       "name         \n",
       "AIMIRT      I\n",
       "ASIAN       O\n",
       "BAM         O\n",
       "BBL         O\n",
       "BCH         I\n",
       "CPNCG       I\n",
       "DOHOME      I\n",
       "HREIT       I\n",
       "IP          I\n",
       "JASIF       I\n",
       "KCE         I\n",
       "KKP         O\n",
       "MAKRO       B\n",
       "PTT         I\n",
       "RATCH       I\n",
       "RCL         I\n",
       "SC          O\n",
       "SENA        B\n",
       "STA         S\n",
       "SYNEX       I"
      ]
     },
     "execution_count": 9,
     "metadata": {},
     "output_type": "execute_result"
    }
   ],
   "source": [
    "sql = \"\"\"\n",
    "SELECT name, status \n",
    "FROM stocks \n",
    "WHERE status IN (\"B\",\"I\",\"O\",\"S\")\n",
    "ORDER BY name\n",
    "\"\"\"\n",
    "monitors = pd.read_sql(sql, conlite)\n",
    "monitors.set_index([\"name\"], inplace=True)\n",
    "monitors"
   ]
  },
  {
   "cell_type": "code",
   "execution_count": 10,
   "metadata": {},
   "outputs": [
    {
     "data": {
      "text/plain": [
       "20"
      ]
     },
     "execution_count": 10,
     "metadata": {},
     "output_type": "execute_result"
    }
   ],
   "source": [
    "monitors.shape[0]"
   ]
  },
  {
   "cell_type": "code",
   "execution_count": 11,
   "metadata": {},
   "outputs": [],
   "source": [
    "file_name = \"monitors.csv\"\n",
    "data_file = data_path + file_name\n",
    "output_file = csv_path + file_name\n",
    "box_file = box_path + file_name\n",
    "\n",
    "orders.to_csv(data_file, header=None)\n",
    "orders.to_csv(box_file)"
   ]
  },
  {
   "cell_type": "code",
   "execution_count": 12,
   "metadata": {},
   "outputs": [
    {
     "data": {
      "text/html": [
       "<div>\n",
       "<style scoped>\n",
       "    .dataframe tbody tr th:only-of-type {\n",
       "        vertical-align: middle;\n",
       "    }\n",
       "\n",
       "    .dataframe tbody tr th {\n",
       "        vertical-align: top;\n",
       "    }\n",
       "\n",
       "    .dataframe thead th {\n",
       "        text-align: right;\n",
       "    }\n",
       "</style>\n",
       "<table border=\"1\" class=\"dataframe\">\n",
       "  <thead>\n",
       "    <tr style=\"text-align: right;\">\n",
       "      <th></th>\n",
       "      <th>status</th>\n",
       "      <th>items</th>\n",
       "    </tr>\n",
       "  </thead>\n",
       "  <tbody>\n",
       "    <tr>\n",
       "      <th>0</th>\n",
       "      <td>B</td>\n",
       "      <td>2</td>\n",
       "    </tr>\n",
       "    <tr>\n",
       "      <th>1</th>\n",
       "      <td>I</td>\n",
       "      <td>11</td>\n",
       "    </tr>\n",
       "    <tr>\n",
       "      <th>2</th>\n",
       "      <td>O</td>\n",
       "      <td>5</td>\n",
       "    </tr>\n",
       "    <tr>\n",
       "      <th>3</th>\n",
       "      <td>S</td>\n",
       "      <td>1</td>\n",
       "    </tr>\n",
       "  </tbody>\n",
       "</table>\n",
       "</div>"
      ],
      "text/plain": [
       "  status  items\n",
       "0      B      2\n",
       "1      I     11\n",
       "2      O      5\n",
       "3      S      1"
      ]
     },
     "execution_count": 12,
     "metadata": {},
     "output_type": "execute_result"
    }
   ],
   "source": [
    "sql = \"\"\"\n",
    "SELECT status, COUNT(*) AS items \n",
    "FROM stocks \n",
    "WHERE name IN (%s)\n",
    "GROUP BY status\n",
    "ORDER BY status\n",
    "\"\"\"\n",
    "sql = sql % in_p\n",
    "grp = pd.read_sql(sql, conlite)\n",
    "grp"
   ]
  },
  {
   "cell_type": "code",
   "execution_count": 13,
   "metadata": {},
   "outputs": [
    {
     "data": {
      "text/plain": [
       "'../data/price-uploads.csv'"
      ]
     },
     "execution_count": 13,
     "metadata": {},
     "output_type": "execute_result"
    }
   ],
   "source": [
    "file_name = 'price-uploads.csv'\n",
    "url = data_path + file_name\n",
    "url"
   ]
  },
  {
   "cell_type": "code",
   "execution_count": 14,
   "metadata": {},
   "outputs": [
    {
     "data": {
      "text/plain": [
       "(127, 1)"
      ]
     },
     "execution_count": 14,
     "metadata": {},
     "output_type": "execute_result"
    }
   ],
   "source": [
    "uploads = pd.read_csv(url)\n",
    "uploads.sort_values(['name'],ascending=[True]).shape"
   ]
  },
  {
   "cell_type": "code",
   "execution_count": 15,
   "metadata": {},
   "outputs": [
    {
     "data": {
      "text/plain": [
       "(127, 3)"
      ]
     },
     "execution_count": 15,
     "metadata": {},
     "output_type": "execute_result"
    }
   ],
   "source": [
    "df_merge = pd.merge(orders, uploads, on='name', how='outer', indicator=True)\n",
    "df_merge.sort_values(['name'],ascending=[True]).shape"
   ]
  },
  {
   "cell_type": "code",
   "execution_count": 16,
   "metadata": {},
   "outputs": [
    {
     "data": {
      "text/html": [
       "<div>\n",
       "<style scoped>\n",
       "    .dataframe tbody tr th:only-of-type {\n",
       "        vertical-align: middle;\n",
       "    }\n",
       "\n",
       "    .dataframe tbody tr th {\n",
       "        vertical-align: top;\n",
       "    }\n",
       "\n",
       "    .dataframe thead th {\n",
       "        text-align: right;\n",
       "    }\n",
       "</style>\n",
       "<table border=\"1\" class=\"dataframe\">\n",
       "  <thead>\n",
       "    <tr style=\"text-align: right;\">\n",
       "      <th></th>\n",
       "      <th>name</th>\n",
       "      <th>trade</th>\n",
       "      <th>_merge</th>\n",
       "    </tr>\n",
       "  </thead>\n",
       "  <tbody>\n",
       "  </tbody>\n",
       "</table>\n",
       "</div>"
      ],
      "text/plain": [
       "Empty DataFrame\n",
       "Columns: [name, trade, _merge]\n",
       "Index: []"
      ]
     },
     "execution_count": 16,
     "metadata": {},
     "output_type": "execute_result"
    }
   ],
   "source": [
    "new_prices = df_merge['_merge'] == 'left_only'\n",
    "df_merge[new_prices]"
   ]
  },
  {
   "cell_type": "code",
   "execution_count": 17,
   "metadata": {},
   "outputs": [
    {
     "data": {
      "text/plain": [
       "(108, 3)"
      ]
     },
     "execution_count": 17,
     "metadata": {},
     "output_type": "execute_result"
    }
   ],
   "source": [
    "new_prices = df_merge['_merge'] == 'right_only'\n",
    "df_merge[new_prices].shape"
   ]
  },
  {
   "cell_type": "code",
   "execution_count": 18,
   "metadata": {},
   "outputs": [
    {
     "data": {
      "text/html": [
       "<div>\n",
       "<style scoped>\n",
       "    .dataframe tbody tr th:only-of-type {\n",
       "        vertical-align: middle;\n",
       "    }\n",
       "\n",
       "    .dataframe tbody tr th {\n",
       "        vertical-align: top;\n",
       "    }\n",
       "\n",
       "    .dataframe thead th {\n",
       "        text-align: right;\n",
       "    }\n",
       "</style>\n",
       "<table border=\"1\" class=\"dataframe\">\n",
       "  <thead>\n",
       "    <tr style=\"text-align: right;\">\n",
       "      <th></th>\n",
       "      <th>status</th>\n",
       "      <th>market</th>\n",
       "    </tr>\n",
       "    <tr>\n",
       "      <th>name</th>\n",
       "      <th></th>\n",
       "      <th></th>\n",
       "    </tr>\n",
       "  </thead>\n",
       "  <tbody>\n",
       "    <tr>\n",
       "      <th>MAKRO</th>\n",
       "      <td>B</td>\n",
       "      <td>SET</td>\n",
       "    </tr>\n",
       "    <tr>\n",
       "      <th>SENA</th>\n",
       "      <td>B</td>\n",
       "      <td>SET</td>\n",
       "    </tr>\n",
       "    <tr>\n",
       "      <th>AIMIRT</th>\n",
       "      <td>I</td>\n",
       "      <td>SET</td>\n",
       "    </tr>\n",
       "    <tr>\n",
       "      <th>BCH</th>\n",
       "      <td>I</td>\n",
       "      <td>SET100</td>\n",
       "    </tr>\n",
       "    <tr>\n",
       "      <th>CPNCG</th>\n",
       "      <td>I</td>\n",
       "      <td>SET</td>\n",
       "    </tr>\n",
       "    <tr>\n",
       "      <th>DOHOME</th>\n",
       "      <td>I</td>\n",
       "      <td>SET100</td>\n",
       "    </tr>\n",
       "    <tr>\n",
       "      <th>HREIT</th>\n",
       "      <td>I</td>\n",
       "      <td>SET</td>\n",
       "    </tr>\n",
       "    <tr>\n",
       "      <th>IP</th>\n",
       "      <td>I</td>\n",
       "      <td>mai</td>\n",
       "    </tr>\n",
       "    <tr>\n",
       "      <th>JASIF</th>\n",
       "      <td>I</td>\n",
       "      <td>SET</td>\n",
       "    </tr>\n",
       "    <tr>\n",
       "      <th>KCE</th>\n",
       "      <td>I</td>\n",
       "      <td>SET50</td>\n",
       "    </tr>\n",
       "    <tr>\n",
       "      <th>PTT</th>\n",
       "      <td>I</td>\n",
       "      <td>SET50</td>\n",
       "    </tr>\n",
       "    <tr>\n",
       "      <th>RATCH</th>\n",
       "      <td>I</td>\n",
       "      <td>SET50</td>\n",
       "    </tr>\n",
       "    <tr>\n",
       "      <th>RCL</th>\n",
       "      <td>I</td>\n",
       "      <td>SET100</td>\n",
       "    </tr>\n",
       "    <tr>\n",
       "      <th>SYNEX</th>\n",
       "      <td>I</td>\n",
       "      <td>SET100</td>\n",
       "    </tr>\n",
       "    <tr>\n",
       "      <th>ASIAN</th>\n",
       "      <td>O</td>\n",
       "      <td>SET</td>\n",
       "    </tr>\n",
       "    <tr>\n",
       "      <th>BAM</th>\n",
       "      <td>O</td>\n",
       "      <td>SET100</td>\n",
       "    </tr>\n",
       "    <tr>\n",
       "      <th>BBL</th>\n",
       "      <td>O</td>\n",
       "      <td>SET50</td>\n",
       "    </tr>\n",
       "    <tr>\n",
       "      <th>KKP</th>\n",
       "      <td>O</td>\n",
       "      <td>SET100</td>\n",
       "    </tr>\n",
       "    <tr>\n",
       "      <th>SC</th>\n",
       "      <td>O</td>\n",
       "      <td>SET</td>\n",
       "    </tr>\n",
       "    <tr>\n",
       "      <th>STA</th>\n",
       "      <td>S</td>\n",
       "      <td>SET100</td>\n",
       "    </tr>\n",
       "    <tr>\n",
       "      <th>ASP</th>\n",
       "      <td>T</td>\n",
       "      <td>SET</td>\n",
       "    </tr>\n",
       "    <tr>\n",
       "      <th>DIF</th>\n",
       "      <td>T</td>\n",
       "      <td>SET</td>\n",
       "    </tr>\n",
       "    <tr>\n",
       "      <th>MCS</th>\n",
       "      <td>T</td>\n",
       "      <td>SET</td>\n",
       "    </tr>\n",
       "    <tr>\n",
       "      <th>ORI</th>\n",
       "      <td>T</td>\n",
       "      <td>SET100</td>\n",
       "    </tr>\n",
       "    <tr>\n",
       "      <th>PTTGC</th>\n",
       "      <td>T</td>\n",
       "      <td>SET50</td>\n",
       "    </tr>\n",
       "    <tr>\n",
       "      <th>RJH</th>\n",
       "      <td>T</td>\n",
       "      <td>SET</td>\n",
       "    </tr>\n",
       "    <tr>\n",
       "      <th>SCC</th>\n",
       "      <td>T</td>\n",
       "      <td>SET50</td>\n",
       "    </tr>\n",
       "    <tr>\n",
       "      <th>SCCC</th>\n",
       "      <td>T</td>\n",
       "      <td>SET</td>\n",
       "    </tr>\n",
       "    <tr>\n",
       "      <th>SPALI</th>\n",
       "      <td>T</td>\n",
       "      <td>SET100</td>\n",
       "    </tr>\n",
       "    <tr>\n",
       "      <th>TISCO</th>\n",
       "      <td>T</td>\n",
       "      <td>SET50</td>\n",
       "    </tr>\n",
       "    <tr>\n",
       "      <th>TMT</th>\n",
       "      <td>T</td>\n",
       "      <td>SET</td>\n",
       "    </tr>\n",
       "    <tr>\n",
       "      <th>WHART</th>\n",
       "      <td>T</td>\n",
       "      <td>SET</td>\n",
       "    </tr>\n",
       "    <tr>\n",
       "      <th>NER</th>\n",
       "      <td>U</td>\n",
       "      <td>SET</td>\n",
       "    </tr>\n",
       "    <tr>\n",
       "      <th>TPIPL</th>\n",
       "      <td>U</td>\n",
       "      <td>SET</td>\n",
       "    </tr>\n",
       "    <tr>\n",
       "      <th>AMATA</th>\n",
       "      <td>X</td>\n",
       "      <td>SET100</td>\n",
       "    </tr>\n",
       "    <tr>\n",
       "      <th>ASK</th>\n",
       "      <td>X</td>\n",
       "      <td>SET</td>\n",
       "    </tr>\n",
       "    <tr>\n",
       "      <th>BAY</th>\n",
       "      <td>X</td>\n",
       "      <td>SET</td>\n",
       "    </tr>\n",
       "    <tr>\n",
       "      <th>BDMS</th>\n",
       "      <td>X</td>\n",
       "      <td>SET50</td>\n",
       "    </tr>\n",
       "    <tr>\n",
       "      <th>CHG</th>\n",
       "      <td>X</td>\n",
       "      <td>SET100</td>\n",
       "    </tr>\n",
       "    <tr>\n",
       "      <th>EA</th>\n",
       "      <td>X</td>\n",
       "      <td>SET50</td>\n",
       "    </tr>\n",
       "    <tr>\n",
       "      <th>GLOBAL</th>\n",
       "      <td>X</td>\n",
       "      <td>SET50</td>\n",
       "    </tr>\n",
       "    <tr>\n",
       "      <th>GULF</th>\n",
       "      <td>X</td>\n",
       "      <td>SET50</td>\n",
       "    </tr>\n",
       "    <tr>\n",
       "      <th>JMART</th>\n",
       "      <td>X</td>\n",
       "      <td>SET100</td>\n",
       "    </tr>\n",
       "    <tr>\n",
       "      <th>JMT</th>\n",
       "      <td>X</td>\n",
       "      <td>SET100</td>\n",
       "    </tr>\n",
       "    <tr>\n",
       "      <th>KBANK</th>\n",
       "      <td>X</td>\n",
       "      <td>SET50</td>\n",
       "    </tr>\n",
       "    <tr>\n",
       "      <th>MEGA</th>\n",
       "      <td>X</td>\n",
       "      <td>SET100</td>\n",
       "    </tr>\n",
       "    <tr>\n",
       "      <th>PTL</th>\n",
       "      <td>X</td>\n",
       "      <td>SET</td>\n",
       "    </tr>\n",
       "    <tr>\n",
       "      <th>SCB</th>\n",
       "      <td>X</td>\n",
       "      <td>SET50</td>\n",
       "    </tr>\n",
       "    <tr>\n",
       "      <th>SINGER</th>\n",
       "      <td>X</td>\n",
       "      <td>SET100</td>\n",
       "    </tr>\n",
       "    <tr>\n",
       "      <th>SNC</th>\n",
       "      <td>X</td>\n",
       "      <td>SET</td>\n",
       "    </tr>\n",
       "    <tr>\n",
       "      <th>STARK</th>\n",
       "      <td>X</td>\n",
       "      <td>SET100</td>\n",
       "    </tr>\n",
       "    <tr>\n",
       "      <th>SVI</th>\n",
       "      <td>X</td>\n",
       "      <td>SET</td>\n",
       "    </tr>\n",
       "    <tr>\n",
       "      <th>TQM</th>\n",
       "      <td>X</td>\n",
       "      <td>SET100</td>\n",
       "    </tr>\n",
       "    <tr>\n",
       "      <th>TU</th>\n",
       "      <td>X</td>\n",
       "      <td>SET50</td>\n",
       "    </tr>\n",
       "    <tr>\n",
       "      <th>VIBHA</th>\n",
       "      <td>X</td>\n",
       "      <td>SET</td>\n",
       "    </tr>\n",
       "  </tbody>\n",
       "</table>\n",
       "</div>"
      ],
      "text/plain": [
       "       status  market\n",
       "name                 \n",
       "MAKRO       B     SET\n",
       "SENA        B     SET\n",
       "AIMIRT      I     SET\n",
       "BCH         I  SET100\n",
       "CPNCG       I     SET\n",
       "DOHOME      I  SET100\n",
       "HREIT       I     SET\n",
       "IP          I     mai\n",
       "JASIF       I     SET\n",
       "KCE         I   SET50\n",
       "PTT         I   SET50\n",
       "RATCH       I   SET50\n",
       "RCL         I  SET100\n",
       "SYNEX       I  SET100\n",
       "ASIAN       O     SET\n",
       "BAM         O  SET100\n",
       "BBL         O   SET50\n",
       "KKP         O  SET100\n",
       "SC          O     SET\n",
       "STA         S  SET100\n",
       "ASP         T     SET\n",
       "DIF         T     SET\n",
       "MCS         T     SET\n",
       "ORI         T  SET100\n",
       "PTTGC       T   SET50\n",
       "RJH         T     SET\n",
       "SCC         T   SET50\n",
       "SCCC        T     SET\n",
       "SPALI       T  SET100\n",
       "TISCO       T   SET50\n",
       "TMT         T     SET\n",
       "WHART       T     SET\n",
       "NER         U     SET\n",
       "TPIPL       U     SET\n",
       "AMATA       X  SET100\n",
       "ASK         X     SET\n",
       "BAY         X     SET\n",
       "BDMS        X   SET50\n",
       "CHG         X  SET100\n",
       "EA          X   SET50\n",
       "GLOBAL      X   SET50\n",
       "GULF        X   SET50\n",
       "JMART       X  SET100\n",
       "JMT         X  SET100\n",
       "KBANK       X   SET50\n",
       "MEGA        X  SET100\n",
       "PTL         X     SET\n",
       "SCB         X   SET50\n",
       "SINGER      X  SET100\n",
       "SNC         X     SET\n",
       "STARK       X  SET100\n",
       "SVI         X     SET\n",
       "TQM         X  SET100\n",
       "TU          X   SET50\n",
       "VIBHA       X     SET"
      ]
     },
     "execution_count": 18,
     "metadata": {},
     "output_type": "execute_result"
    }
   ],
   "source": [
    "sql = \"\"\"\n",
    "SELECT name, status, market\n",
    "FROM stocks \n",
    "ORDER BY status, name\n",
    "\"\"\"\n",
    "stocks = pd.read_sql(sql, conlite)\n",
    "stocks.set_index([\"name\"], inplace=True)\n",
    "stocks"
   ]
  },
  {
   "cell_type": "code",
   "execution_count": 19,
   "metadata": {},
   "outputs": [],
   "source": [
    "file_name = \"stocks-all.csv\"\n",
    "data_file = data_path + file_name\n",
    "output_file = csv_path + file_name\n",
    "box_file = box_path + file_name\n",
    "one_file = one_path + file_name\n",
    "\n",
    "stocks.to_csv(data_file, header=None)\n",
    "stocks.to_csv(output_file)\n",
    "stocks.to_csv(box_file)\n",
    "stocks.to_csv(one_file)"
   ]
  },
  {
   "cell_type": "code",
   "execution_count": 20,
   "metadata": {},
   "outputs": [
    {
     "data": {
      "text/html": [
       "<div>\n",
       "<style scoped>\n",
       "    .dataframe tbody tr th:only-of-type {\n",
       "        vertical-align: middle;\n",
       "    }\n",
       "\n",
       "    .dataframe tbody tr th {\n",
       "        vertical-align: top;\n",
       "    }\n",
       "\n",
       "    .dataframe thead th {\n",
       "        text-align: right;\n",
       "    }\n",
       "</style>\n",
       "<table border=\"1\" class=\"dataframe\">\n",
       "  <thead>\n",
       "    <tr style=\"text-align: right;\">\n",
       "      <th></th>\n",
       "      <th>status</th>\n",
       "    </tr>\n",
       "    <tr>\n",
       "      <th>name</th>\n",
       "      <th></th>\n",
       "    </tr>\n",
       "  </thead>\n",
       "  <tbody>\n",
       "    <tr>\n",
       "      <th>ASIAN</th>\n",
       "      <td>O</td>\n",
       "    </tr>\n",
       "    <tr>\n",
       "      <th>BAM</th>\n",
       "      <td>O</td>\n",
       "    </tr>\n",
       "    <tr>\n",
       "      <th>BBL</th>\n",
       "      <td>O</td>\n",
       "    </tr>\n",
       "    <tr>\n",
       "      <th>KKP</th>\n",
       "      <td>O</td>\n",
       "    </tr>\n",
       "    <tr>\n",
       "      <th>MAKRO</th>\n",
       "      <td>B</td>\n",
       "    </tr>\n",
       "    <tr>\n",
       "      <th>SC</th>\n",
       "      <td>O</td>\n",
       "    </tr>\n",
       "    <tr>\n",
       "      <th>SENA</th>\n",
       "      <td>B</td>\n",
       "    </tr>\n",
       "  </tbody>\n",
       "</table>\n",
       "</div>"
      ],
      "text/plain": [
       "      status\n",
       "name        \n",
       "ASIAN      O\n",
       "BAM        O\n",
       "BBL        O\n",
       "KKP        O\n",
       "MAKRO      B\n",
       "SC         O\n",
       "SENA       B"
      ]
     },
     "execution_count": 20,
     "metadata": {},
     "output_type": "execute_result"
    }
   ],
   "source": [
    "sql = \"\"\"\n",
    "SELECT name, status \n",
    "FROM stocks \n",
    "WHERE status IN (\"B\",\"O\")\n",
    "ORDER BY name\n",
    "\"\"\"\n",
    "\n",
    "buy_candidates = pd.read_sql(sql, conlite)\n",
    "buy_candidates.set_index([\"name\"], inplace=True)\n",
    "buy_candidates"
   ]
  },
  {
   "cell_type": "code",
   "execution_count": 21,
   "metadata": {},
   "outputs": [
    {
     "data": {
      "text/plain": [
       "7"
      ]
     },
     "execution_count": 21,
     "metadata": {},
     "output_type": "execute_result"
    }
   ],
   "source": [
    "buy_candidates.shape[0]"
   ]
  },
  {
   "cell_type": "code",
   "execution_count": 22,
   "metadata": {},
   "outputs": [
    {
     "data": {
      "text/html": [
       "<div>\n",
       "<style scoped>\n",
       "    .dataframe tbody tr th:only-of-type {\n",
       "        vertical-align: middle;\n",
       "    }\n",
       "\n",
       "    .dataframe tbody tr th {\n",
       "        vertical-align: top;\n",
       "    }\n",
       "\n",
       "    .dataframe thead th {\n",
       "        text-align: right;\n",
       "    }\n",
       "</style>\n",
       "<table border=\"1\" class=\"dataframe\">\n",
       "  <thead>\n",
       "    <tr style=\"text-align: right;\">\n",
       "      <th></th>\n",
       "      <th>status</th>\n",
       "    </tr>\n",
       "    <tr>\n",
       "      <th>name</th>\n",
       "      <th></th>\n",
       "    </tr>\n",
       "  </thead>\n",
       "  <tbody>\n",
       "    <tr>\n",
       "      <th>AIMIRT</th>\n",
       "      <td>I</td>\n",
       "    </tr>\n",
       "    <tr>\n",
       "      <th>BCH</th>\n",
       "      <td>I</td>\n",
       "    </tr>\n",
       "    <tr>\n",
       "      <th>CPNCG</th>\n",
       "      <td>I</td>\n",
       "    </tr>\n",
       "    <tr>\n",
       "      <th>DOHOME</th>\n",
       "      <td>I</td>\n",
       "    </tr>\n",
       "    <tr>\n",
       "      <th>HREIT</th>\n",
       "      <td>I</td>\n",
       "    </tr>\n",
       "    <tr>\n",
       "      <th>IP</th>\n",
       "      <td>I</td>\n",
       "    </tr>\n",
       "    <tr>\n",
       "      <th>JASIF</th>\n",
       "      <td>I</td>\n",
       "    </tr>\n",
       "    <tr>\n",
       "      <th>KCE</th>\n",
       "      <td>I</td>\n",
       "    </tr>\n",
       "    <tr>\n",
       "      <th>PTT</th>\n",
       "      <td>I</td>\n",
       "    </tr>\n",
       "    <tr>\n",
       "      <th>RATCH</th>\n",
       "      <td>I</td>\n",
       "    </tr>\n",
       "    <tr>\n",
       "      <th>RCL</th>\n",
       "      <td>I</td>\n",
       "    </tr>\n",
       "    <tr>\n",
       "      <th>STA</th>\n",
       "      <td>S</td>\n",
       "    </tr>\n",
       "    <tr>\n",
       "      <th>SYNEX</th>\n",
       "      <td>I</td>\n",
       "    </tr>\n",
       "  </tbody>\n",
       "</table>\n",
       "</div>"
      ],
      "text/plain": [
       "       status\n",
       "name         \n",
       "AIMIRT      I\n",
       "BCH         I\n",
       "CPNCG       I\n",
       "DOHOME      I\n",
       "HREIT       I\n",
       "IP          I\n",
       "JASIF       I\n",
       "KCE         I\n",
       "PTT         I\n",
       "RATCH       I\n",
       "RCL         I\n",
       "STA         S\n",
       "SYNEX       I"
      ]
     },
     "execution_count": 22,
     "metadata": {},
     "output_type": "execute_result"
    }
   ],
   "source": [
    "sql = \"\"\"\n",
    "SELECT name, status \n",
    "FROM stocks \n",
    "WHERE status IN (\"I\",\"S\")\n",
    "ORDER BY name\n",
    "\"\"\"\n",
    "\n",
    "sell_candidates = pd.read_sql(sql, conlite)\n",
    "sell_candidates.set_index([\"name\"], inplace=True)\n",
    "sell_candidates"
   ]
  },
  {
   "cell_type": "code",
   "execution_count": 23,
   "metadata": {},
   "outputs": [
    {
     "data": {
      "text/plain": [
       "13"
      ]
     },
     "execution_count": 23,
     "metadata": {},
     "output_type": "execute_result"
    }
   ],
   "source": [
    "sell_candidates.shape[0]"
   ]
  }
 ],
 "metadata": {
  "anaconda-cloud": {},
  "kernelspec": {
   "display_name": "Python 3 (ipykernel)",
   "language": "python",
   "name": "python3"
  },
  "language_info": {
   "codemirror_mode": {
    "name": "ipython",
    "version": 3
   },
   "file_extension": ".py",
   "mimetype": "text/x-python",
   "name": "python",
   "nbconvert_exporter": "python",
   "pygments_lexer": "ipython3",
   "version": "3.8.11"
  }
 },
 "nbformat": 4,
 "nbformat_minor": 1
}
