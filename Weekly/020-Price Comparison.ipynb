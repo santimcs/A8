{
 "cells": [
  {
   "cell_type": "markdown",
   "metadata": {},
   "source": [
    "### portmy database: stocks table\n",
    "### stock database: buy, price tables"
   ]
  },
  {
   "cell_type": "code",
   "execution_count": 1,
   "metadata": {},
   "outputs": [
    {
     "data": {
      "text/plain": [
       "datetime.date(2022, 12, 19)"
      ]
     },
     "execution_count": 1,
     "metadata": {},
     "output_type": "execute_result"
    }
   ],
   "source": [
    "import pandas as pd\n",
    "import numpy as np\n",
    "from datetime import date, timedelta\n",
    "from sqlalchemy import create_engine\n",
    "from pandas.tseries.offsets import BDay\n",
    "\n",
    "engine = create_engine(\"sqlite:///c:\\\\ruby\\\\portmy\\\\db\\\\development.sqlite3\")\n",
    "conmy = engine.connect()\n",
    "conmy = engine.connect()\n",
    "engine = create_engine(\"mysql+pymysql://root:@localhost:3306/stock\")\n",
    "const = engine.connect()\n",
    "\n",
    "pd.set_option('display.float_format','{:,.2f}'.format)\n",
    "\n",
    "data_path = \"../data/\"\n",
    "csv_path = \"\\\\Users\\\\User\\\\iCloudDrive\\\\\"\n",
    "box_path = \"\\\\Users\\\\User\\\\Dropbox\\\\\"\n",
    "\n",
    "today = date.today()\n",
    "today"
   ]
  },
  {
   "cell_type": "markdown",
   "metadata": {},
   "source": [
    "### Process after last business day, yesterday must be last business day"
   ]
  },
  {
   "cell_type": "code",
   "execution_count": 2,
   "metadata": {},
   "outputs": [
    {
     "name": "stdout",
     "output_type": "stream",
     "text": [
      "today: 2022-12-19\n",
      "yesterday: 2022-12-16 00:00:00\n"
     ]
    }
   ],
   "source": [
    "# specify the number of business days\n",
    "num_days = 1\n",
    "# convert the timedelta object to a BusinessDay object\n",
    "num_business_days = BDay(num_days)\n",
    "yesterday = today - num_business_days\n",
    "#yesterday = yesterday.date()\n",
    "print(f'today: {today}')\n",
    "print(f'yesterday: {yesterday}')"
   ]
  },
  {
   "cell_type": "code",
   "execution_count": 3,
   "metadata": {},
   "outputs": [
    {
     "name": "stdout",
     "output_type": "stream",
     "text": [
      "a week ago: 2022-12-09\n",
      "yesterday: 2022-12-16\n"
     ]
    }
   ],
   "source": [
    "yesterday = yesterday.date()\n",
    "week_ago = yesterday -timedelta(days = 7)\n",
    "print(f'a week ago: {week_ago}')\n",
    "print(f'yesterday: {yesterday}')"
   ]
  },
  {
   "cell_type": "markdown",
   "metadata": {},
   "source": [
    "### Restart & Run All Cells"
   ]
  },
  {
   "cell_type": "markdown",
   "metadata": {},
   "source": [
    "### This process affects only already in port stocks. To highlight price changes in percent."
   ]
  },
  {
   "cell_type": "code",
   "execution_count": 4,
   "metadata": {},
   "outputs": [],
   "source": [
    "cols = 'name price_d price_w percent perform mrkt '.split()"
   ]
  },
  {
   "cell_type": "code",
   "execution_count": 5,
   "metadata": {},
   "outputs": [],
   "source": [
    "format_dict = {\n",
    "    'qty':'{:,}',    \n",
    "    'price':'{:.2f}','price_d':'{:.2f}','price_w':'{:.2f}',\n",
    "    'max_price':'{:.2f}','min_price':'{:.2f}',\n",
    "    'maxp':'{:.2f}','minp':'{:.2f}','opnp':'{:.2f}',    \n",
    "    'pct':'{:,.2f}%','percent':'{:,.2f}%',\n",
    "    \n",
    "    'pe':'{:.2f}','pbv':'{:.2f}',\n",
    "    'paid_up':'{:,.2f}','market_cap':'{:,.2f}',\n",
    "    'daily_volume':'{:,.2f}','beta':'{:,.2f}', \n",
    "    'dly_vol':'{:,.2f}', \n",
    "}"
   ]
  },
  {
   "cell_type": "code",
   "execution_count": 6,
   "metadata": {},
   "outputs": [
    {
     "data": {
      "text/html": [
       "<style type=\"text/css\">\n",
       "</style>\n",
       "<table id=\"T_626d4_\">\n",
       "  <thead>\n",
       "    <tr>\n",
       "      <th class=\"blank level0\" >&nbsp;</th>\n",
       "      <th class=\"col_heading level0 col0\" >name</th>\n",
       "      <th class=\"col_heading level0 col1\" >date</th>\n",
       "      <th class=\"col_heading level0 col2\" >price</th>\n",
       "    </tr>\n",
       "  </thead>\n",
       "  <tbody>\n",
       "    <tr>\n",
       "      <th id=\"T_626d4_level0_row0\" class=\"row_heading level0 row0\" >0</th>\n",
       "      <td id=\"T_626d4_row0_col0\" class=\"data row0 col0\" >SINGER</td>\n",
       "      <td id=\"T_626d4_row0_col1\" class=\"data row0 col1\" >2022-12-16</td>\n",
       "      <td id=\"T_626d4_row0_col2\" class=\"data row0 col2\" >28.00</td>\n",
       "    </tr>\n",
       "  </tbody>\n",
       "</table>\n"
      ],
      "text/plain": [
       "<pandas.io.formats.style.Styler at 0x2771e958b20>"
      ]
     },
     "execution_count": 6,
     "metadata": {},
     "output_type": "execute_result"
    }
   ],
   "source": [
    "sql = \"\"\"\n",
    "SELECT name, date, price \n",
    "FROM buy \n",
    "ORDER BY date DESC \n",
    "LIMIT 1\n",
    "\"\"\"\n",
    "df_buy = pd.read_sql(sql, const)\n",
    "df_buy.style.format(format_dict)"
   ]
  },
  {
   "cell_type": "code",
   "execution_count": 7,
   "metadata": {},
   "outputs": [
    {
     "name": "stdout",
     "output_type": "stream",
     "text": [
      "\n",
      "SELECT * FROM stocks WHERE name = 'SINGER'\n",
      "\n"
     ]
    },
    {
     "data": {
      "text/html": [
       "<style type=\"text/css\">\n",
       "</style>\n",
       "<table id=\"T_151b9_\">\n",
       "  <thead>\n",
       "    <tr>\n",
       "      <th class=\"blank level0\" >&nbsp;</th>\n",
       "      <th class=\"col_heading level0 col0\" >id</th>\n",
       "      <th class=\"col_heading level0 col1\" >name</th>\n",
       "      <th class=\"col_heading level0 col2\" >market</th>\n",
       "      <th class=\"col_heading level0 col3\" >price</th>\n",
       "      <th class=\"col_heading level0 col4\" >max_price</th>\n",
       "      <th class=\"col_heading level0 col5\" >min_price</th>\n",
       "      <th class=\"col_heading level0 col6\" >pe</th>\n",
       "      <th class=\"col_heading level0 col7\" >pbv</th>\n",
       "      <th class=\"col_heading level0 col8\" >paid_up</th>\n",
       "      <th class=\"col_heading level0 col9\" >market_cap</th>\n",
       "      <th class=\"col_heading level0 col10\" >daily_volume</th>\n",
       "      <th class=\"col_heading level0 col11\" >beta</th>\n",
       "      <th class=\"col_heading level0 col12\" >ticker_id</th>\n",
       "      <th class=\"col_heading level0 col13\" >created_at</th>\n",
       "      <th class=\"col_heading level0 col14\" >updated_at</th>\n",
       "    </tr>\n",
       "  </thead>\n",
       "  <tbody>\n",
       "    <tr>\n",
       "      <th id=\"T_151b9_level0_row0\" class=\"row_heading level0 row0\" >0</th>\n",
       "      <td id=\"T_151b9_row0_col0\" class=\"data row0 col0\" >446</td>\n",
       "      <td id=\"T_151b9_row0_col1\" class=\"data row0 col1\" >SINGER</td>\n",
       "      <td id=\"T_151b9_row0_col2\" class=\"data row0 col2\" >SET100 / SETWB    </td>\n",
       "      <td id=\"T_151b9_row0_col3\" class=\"data row0 col3\" >27.50</td>\n",
       "      <td id=\"T_151b9_row0_col4\" class=\"data row0 col4\" >59.25</td>\n",
       "      <td id=\"T_151b9_row0_col5\" class=\"data row0 col5\" >26.25</td>\n",
       "      <td id=\"T_151b9_row0_col6\" class=\"data row0 col6\" >23.69</td>\n",
       "      <td id=\"T_151b9_row0_col7\" class=\"data row0 col7\" >1.50</td>\n",
       "      <td id=\"T_151b9_row0_col8\" class=\"data row0 col8\" >822.27</td>\n",
       "      <td id=\"T_151b9_row0_col9\" class=\"data row0 col9\" >22,612.33</td>\n",
       "      <td id=\"T_151b9_row0_col10\" class=\"data row0 col10\" >202.07</td>\n",
       "      <td id=\"T_151b9_row0_col11\" class=\"data row0 col11\" >2.14</td>\n",
       "      <td id=\"T_151b9_row0_col12\" class=\"data row0 col12\" >446</td>\n",
       "      <td id=\"T_151b9_row0_col13\" class=\"data row0 col13\" >2017-07-23 07:25:25.725583</td>\n",
       "      <td id=\"T_151b9_row0_col14\" class=\"data row0 col14\" >2022-12-17 16:01:18.197165</td>\n",
       "    </tr>\n",
       "  </tbody>\n",
       "</table>\n"
      ],
      "text/plain": [
       "<pandas.io.formats.style.Styler at 0x277226825b0>"
      ]
     },
     "execution_count": 7,
     "metadata": {},
     "output_type": "execute_result"
    }
   ],
   "source": [
    "names = df_buy['name']\n",
    "name = names.to_string(index=False)\n",
    "\n",
    "sql = '''\n",
    "SELECT * FROM stocks WHERE name = '%s'\n",
    "'''\n",
    "sql = sql % name\n",
    "print(sql)\n",
    "\n",
    "df_stocks = pd.read_sql(sql, conmy)\n",
    "df_stocks.style.format(format_dict) "
   ]
  },
  {
   "cell_type": "code",
   "execution_count": 8,
   "metadata": {},
   "outputs": [
    {
     "name": "stdout",
     "output_type": "stream",
     "text": [
      "\n",
      "SELECT * FROM price WHERE name = \"SINGER\" ORDER BY date DESC LIMIT 5\n",
      "\n"
     ]
    },
    {
     "data": {
      "text/html": [
       "<style type=\"text/css\">\n",
       "</style>\n",
       "<table id=\"T_8a892_\">\n",
       "  <thead>\n",
       "    <tr>\n",
       "      <th class=\"blank level0\" >&nbsp;</th>\n",
       "      <th class=\"col_heading level0 col0\" >name</th>\n",
       "      <th class=\"col_heading level0 col1\" >date</th>\n",
       "      <th class=\"col_heading level0 col2\" >price</th>\n",
       "      <th class=\"col_heading level0 col3\" >maxp</th>\n",
       "      <th class=\"col_heading level0 col4\" >minp</th>\n",
       "      <th class=\"col_heading level0 col5\" >qty</th>\n",
       "      <th class=\"col_heading level0 col6\" >opnp</th>\n",
       "    </tr>\n",
       "  </thead>\n",
       "  <tbody>\n",
       "    <tr>\n",
       "      <th id=\"T_8a892_level0_row0\" class=\"row_heading level0 row0\" >0</th>\n",
       "      <td id=\"T_8a892_row0_col0\" class=\"data row0 col0\" >SINGER</td>\n",
       "      <td id=\"T_8a892_row0_col1\" class=\"data row0 col1\" >2022-12-16</td>\n",
       "      <td id=\"T_8a892_row0_col2\" class=\"data row0 col2\" >27.50</td>\n",
       "      <td id=\"T_8a892_row0_col3\" class=\"data row0 col3\" >28.50</td>\n",
       "      <td id=\"T_8a892_row0_col4\" class=\"data row0 col4\" >26.25</td>\n",
       "      <td id=\"T_8a892_row0_col5\" class=\"data row0 col5\" >14,868,777</td>\n",
       "      <td id=\"T_8a892_row0_col6\" class=\"data row0 col6\" >28.50</td>\n",
       "    </tr>\n",
       "    <tr>\n",
       "      <th id=\"T_8a892_level0_row1\" class=\"row_heading level0 row1\" >1</th>\n",
       "      <td id=\"T_8a892_row1_col0\" class=\"data row1 col0\" >SINGER</td>\n",
       "      <td id=\"T_8a892_row1_col1\" class=\"data row1 col1\" >2022-12-15</td>\n",
       "      <td id=\"T_8a892_row1_col2\" class=\"data row1 col2\" >28.50</td>\n",
       "      <td id=\"T_8a892_row1_col3\" class=\"data row1 col3\" >30.75</td>\n",
       "      <td id=\"T_8a892_row1_col4\" class=\"data row1 col4\" >28.25</td>\n",
       "      <td id=\"T_8a892_row1_col5\" class=\"data row1 col5\" >12,997,092</td>\n",
       "      <td id=\"T_8a892_row1_col6\" class=\"data row1 col6\" >30.75</td>\n",
       "    </tr>\n",
       "    <tr>\n",
       "      <th id=\"T_8a892_level0_row2\" class=\"row_heading level0 row2\" >2</th>\n",
       "      <td id=\"T_8a892_row2_col0\" class=\"data row2 col0\" >SINGER</td>\n",
       "      <td id=\"T_8a892_row2_col1\" class=\"data row2 col1\" >2022-12-14</td>\n",
       "      <td id=\"T_8a892_row2_col2\" class=\"data row2 col2\" >31.00</td>\n",
       "      <td id=\"T_8a892_row2_col3\" class=\"data row2 col3\" >31.50</td>\n",
       "      <td id=\"T_8a892_row2_col4\" class=\"data row2 col4\" >30.75</td>\n",
       "      <td id=\"T_8a892_row2_col5\" class=\"data row2 col5\" >2,774,304</td>\n",
       "      <td id=\"T_8a892_row2_col6\" class=\"data row2 col6\" >30.75</td>\n",
       "    </tr>\n",
       "    <tr>\n",
       "      <th id=\"T_8a892_level0_row3\" class=\"row_heading level0 row3\" >3</th>\n",
       "      <td id=\"T_8a892_row3_col0\" class=\"data row3 col0\" >SINGER</td>\n",
       "      <td id=\"T_8a892_row3_col1\" class=\"data row3 col1\" >2022-12-13</td>\n",
       "      <td id=\"T_8a892_row3_col2\" class=\"data row3 col2\" >30.75</td>\n",
       "      <td id=\"T_8a892_row3_col3\" class=\"data row3 col3\" >31.75</td>\n",
       "      <td id=\"T_8a892_row3_col4\" class=\"data row3 col4\" >30.25</td>\n",
       "      <td id=\"T_8a892_row3_col5\" class=\"data row3 col5\" >4,226,734</td>\n",
       "      <td id=\"T_8a892_row3_col6\" class=\"data row3 col6\" >31.50</td>\n",
       "    </tr>\n",
       "    <tr>\n",
       "      <th id=\"T_8a892_level0_row4\" class=\"row_heading level0 row4\" >4</th>\n",
       "      <td id=\"T_8a892_row4_col0\" class=\"data row4 col0\" >SINGER</td>\n",
       "      <td id=\"T_8a892_row4_col1\" class=\"data row4 col1\" >2022-12-09</td>\n",
       "      <td id=\"T_8a892_row4_col2\" class=\"data row4 col2\" >31.50</td>\n",
       "      <td id=\"T_8a892_row4_col3\" class=\"data row4 col3\" >32.25</td>\n",
       "      <td id=\"T_8a892_row4_col4\" class=\"data row4 col4\" >31.50</td>\n",
       "      <td id=\"T_8a892_row4_col5\" class=\"data row4 col5\" >2,522,595</td>\n",
       "      <td id=\"T_8a892_row4_col6\" class=\"data row4 col6\" >32.00</td>\n",
       "    </tr>\n",
       "  </tbody>\n",
       "</table>\n"
      ],
      "text/plain": [
       "<pandas.io.formats.style.Styler at 0x2772268ad00>"
      ]
     },
     "execution_count": 8,
     "metadata": {},
     "output_type": "execute_result"
    }
   ],
   "source": [
    "sql = '''\n",
    "SELECT * FROM price WHERE name = \"%s\" ORDER BY date DESC LIMIT 5\n",
    "'''\n",
    "sql = sql % name\n",
    "print(sql)\n",
    "\n",
    "df_price = pd.read_sql(sql, const)\n",
    "df_price.style.format(format_dict)"
   ]
  },
  {
   "cell_type": "code",
   "execution_count": 9,
   "metadata": {},
   "outputs": [
    {
     "name": "stdout",
     "output_type": "stream",
     "text": [
      "\n",
      "SELECT name, price AS price_d \n",
      "FROM price \n",
      "WHERE date = '2022-12-16' AND name IN ('ASP', 'BCH', 'CPNREIT', 'DCC', 'DIF', 'DOHOME', 'GVREIT', 'IVL', 'JASIF', 'KCE', 'MAKRO', 'MCS', 'NER', 'ORI', 'PTTGC', 'RCL', 'SCC', 'SCCC', 'SENA', 'SINGER', 'STA', 'SYNEX', 'TFFIF', 'TMT', 'WHAIR', 'WHART')\n",
      "ORDER BY name, date\n"
     ]
    },
    {
     "data": {
      "text/plain": [
       "26"
      ]
     },
     "execution_count": 9,
     "metadata": {},
     "output_type": "execute_result"
    }
   ],
   "source": [
    "sql = '''\n",
    "SELECT name\n",
    "FROM buy \n",
    "WHERE active = 1\n",
    "ORDER BY name'''\n",
    "df_price = pd.read_sql(sql, const)\n",
    "\n",
    "names = df_price.name.tolist()\n",
    "in_p = \", \".join(map(lambda name: \"'%s'\" % name, names))\n",
    "\n",
    "sql = \"\"\"\n",
    "SELECT name, price AS price_d \n",
    "FROM price \n",
    "WHERE date = '%s' AND name IN (%s)\n",
    "ORDER BY name, date\"\"\"\n",
    "sql = sql % (yesterday, in_p)\n",
    "print(sql)\n",
    "\n",
    "df_today = pd.read_sql(sql, const)\n",
    "df_today.shape[0]"
   ]
  },
  {
   "cell_type": "code",
   "execution_count": 10,
   "metadata": {},
   "outputs": [
    {
     "name": "stdout",
     "output_type": "stream",
     "text": [
      "\n",
      "SELECT name, price AS price_w\n",
      "FROM price \n",
      "WHERE date = '2022-12-09' AND name IN ('ASP', 'BCH', 'CPNREIT', 'DCC', 'DIF', 'DOHOME', 'GVREIT', 'IVL', 'JASIF', 'KCE', 'MAKRO', 'MCS', 'NER', 'ORI', 'PTTGC', 'RCL', 'SCC', 'SCCC', 'SENA', 'SINGER', 'STA', 'SYNEX', 'TFFIF', 'TMT', 'WHAIR', 'WHART') \n",
      "ORDER BY name\n"
     ]
    },
    {
     "data": {
      "text/plain": [
       "26"
      ]
     },
     "execution_count": 10,
     "metadata": {},
     "output_type": "execute_result"
    }
   ],
   "source": [
    "sql = \"\"\"\n",
    "SELECT name, price AS price_w\n",
    "FROM price \n",
    "WHERE date = '%s' AND name IN (%s) \n",
    "ORDER BY name\"\"\"\n",
    "sql = sql % (week_ago, in_p)\n",
    "print(sql)\n",
    "\n",
    "df_wkago = pd.read_sql(sql, const)\n",
    "df_wkago.shape[0]"
   ]
  },
  {
   "cell_type": "code",
   "execution_count": 11,
   "metadata": {},
   "outputs": [
    {
     "data": {
      "text/plain": [
       "(26, 3)"
      ]
     },
     "execution_count": 11,
     "metadata": {},
     "output_type": "execute_result"
    }
   ],
   "source": [
    "trend = pd.merge(df_today, df_wkago, on='name',how='inner')\n",
    "trend.shape"
   ]
  },
  {
   "cell_type": "code",
   "execution_count": 12,
   "metadata": {},
   "outputs": [],
   "source": [
    "def performance(vals):\n",
    "    price_d, price_w = vals\n",
    "    if (price_d > price_w):\n",
    "        return 'Better'\n",
    "    elif (price_d < price_w):\n",
    "        return 'Worse'\n",
    "    else:\n",
    "        return 'No Change'"
   ]
  },
  {
   "cell_type": "code",
   "execution_count": 13,
   "metadata": {},
   "outputs": [],
   "source": [
    "trend['percent'] = (trend.price_d-trend.price_w)/trend.price_w * 100"
   ]
  },
  {
   "cell_type": "code",
   "execution_count": 14,
   "metadata": {},
   "outputs": [
    {
     "data": {
      "text/html": [
       "<div>\n",
       "<style scoped>\n",
       "    .dataframe tbody tr th:only-of-type {\n",
       "        vertical-align: middle;\n",
       "    }\n",
       "\n",
       "    .dataframe tbody tr th {\n",
       "        vertical-align: top;\n",
       "    }\n",
       "\n",
       "    .dataframe thead th {\n",
       "        text-align: right;\n",
       "    }\n",
       "</style>\n",
       "<table border=\"1\" class=\"dataframe\">\n",
       "  <thead>\n",
       "    <tr style=\"text-align: right;\">\n",
       "      <th></th>\n",
       "      <th>name</th>\n",
       "      <th>price_d</th>\n",
       "      <th>price_w</th>\n",
       "      <th>percent</th>\n",
       "    </tr>\n",
       "  </thead>\n",
       "  <tbody>\n",
       "    <tr>\n",
       "      <th>0</th>\n",
       "      <td>ASP</td>\n",
       "      <td>2.96</td>\n",
       "      <td>2.98</td>\n",
       "      <td>-0.67</td>\n",
       "    </tr>\n",
       "    <tr>\n",
       "      <th>1</th>\n",
       "      <td>BCH</td>\n",
       "      <td>19.80</td>\n",
       "      <td>19.80</td>\n",
       "      <td>0.00</td>\n",
       "    </tr>\n",
       "    <tr>\n",
       "      <th>2</th>\n",
       "      <td>CPNREIT</td>\n",
       "      <td>19.50</td>\n",
       "      <td>19.00</td>\n",
       "      <td>2.63</td>\n",
       "    </tr>\n",
       "    <tr>\n",
       "      <th>3</th>\n",
       "      <td>DCC</td>\n",
       "      <td>2.78</td>\n",
       "      <td>2.80</td>\n",
       "      <td>-0.71</td>\n",
       "    </tr>\n",
       "    <tr>\n",
       "      <th>4</th>\n",
       "      <td>DIF</td>\n",
       "      <td>13.10</td>\n",
       "      <td>13.20</td>\n",
       "      <td>-0.76</td>\n",
       "    </tr>\n",
       "    <tr>\n",
       "      <th>5</th>\n",
       "      <td>DOHOME</td>\n",
       "      <td>14.00</td>\n",
       "      <td>14.20</td>\n",
       "      <td>-1.41</td>\n",
       "    </tr>\n",
       "    <tr>\n",
       "      <th>6</th>\n",
       "      <td>GVREIT</td>\n",
       "      <td>8.95</td>\n",
       "      <td>8.95</td>\n",
       "      <td>0.00</td>\n",
       "    </tr>\n",
       "    <tr>\n",
       "      <th>7</th>\n",
       "      <td>IVL</td>\n",
       "      <td>40.00</td>\n",
       "      <td>40.75</td>\n",
       "      <td>-1.84</td>\n",
       "    </tr>\n",
       "    <tr>\n",
       "      <th>8</th>\n",
       "      <td>JASIF</td>\n",
       "      <td>8.05</td>\n",
       "      <td>8.00</td>\n",
       "      <td>0.63</td>\n",
       "    </tr>\n",
       "    <tr>\n",
       "      <th>9</th>\n",
       "      <td>KCE</td>\n",
       "      <td>47.25</td>\n",
       "      <td>49.75</td>\n",
       "      <td>-5.03</td>\n",
       "    </tr>\n",
       "    <tr>\n",
       "      <th>10</th>\n",
       "      <td>MAKRO</td>\n",
       "      <td>38.25</td>\n",
       "      <td>37.50</td>\n",
       "      <td>2.00</td>\n",
       "    </tr>\n",
       "    <tr>\n",
       "      <th>11</th>\n",
       "      <td>MCS</td>\n",
       "      <td>8.95</td>\n",
       "      <td>8.95</td>\n",
       "      <td>0.00</td>\n",
       "    </tr>\n",
       "    <tr>\n",
       "      <th>12</th>\n",
       "      <td>NER</td>\n",
       "      <td>5.95</td>\n",
       "      <td>5.95</td>\n",
       "      <td>0.00</td>\n",
       "    </tr>\n",
       "    <tr>\n",
       "      <th>13</th>\n",
       "      <td>ORI</td>\n",
       "      <td>10.90</td>\n",
       "      <td>10.90</td>\n",
       "      <td>0.00</td>\n",
       "    </tr>\n",
       "    <tr>\n",
       "      <th>14</th>\n",
       "      <td>PTTGC</td>\n",
       "      <td>46.75</td>\n",
       "      <td>46.00</td>\n",
       "      <td>1.63</td>\n",
       "    </tr>\n",
       "    <tr>\n",
       "      <th>15</th>\n",
       "      <td>RCL</td>\n",
       "      <td>30.00</td>\n",
       "      <td>29.00</td>\n",
       "      <td>3.45</td>\n",
       "    </tr>\n",
       "    <tr>\n",
       "      <th>16</th>\n",
       "      <td>SCC</td>\n",
       "      <td>333.00</td>\n",
       "      <td>334.00</td>\n",
       "      <td>-0.30</td>\n",
       "    </tr>\n",
       "    <tr>\n",
       "      <th>17</th>\n",
       "      <td>SCCC</td>\n",
       "      <td>149.00</td>\n",
       "      <td>148.50</td>\n",
       "      <td>0.34</td>\n",
       "    </tr>\n",
       "    <tr>\n",
       "      <th>18</th>\n",
       "      <td>SENA</td>\n",
       "      <td>3.96</td>\n",
       "      <td>3.96</td>\n",
       "      <td>0.00</td>\n",
       "    </tr>\n",
       "    <tr>\n",
       "      <th>19</th>\n",
       "      <td>SINGER</td>\n",
       "      <td>27.50</td>\n",
       "      <td>31.50</td>\n",
       "      <td>-12.70</td>\n",
       "    </tr>\n",
       "    <tr>\n",
       "      <th>20</th>\n",
       "      <td>STA</td>\n",
       "      <td>19.10</td>\n",
       "      <td>18.80</td>\n",
       "      <td>1.60</td>\n",
       "    </tr>\n",
       "    <tr>\n",
       "      <th>21</th>\n",
       "      <td>SYNEX</td>\n",
       "      <td>15.90</td>\n",
       "      <td>17.70</td>\n",
       "      <td>-10.17</td>\n",
       "    </tr>\n",
       "    <tr>\n",
       "      <th>22</th>\n",
       "      <td>TFFIF</td>\n",
       "      <td>7.70</td>\n",
       "      <td>7.60</td>\n",
       "      <td>1.32</td>\n",
       "    </tr>\n",
       "    <tr>\n",
       "      <th>23</th>\n",
       "      <td>TMT</td>\n",
       "      <td>7.10</td>\n",
       "      <td>6.95</td>\n",
       "      <td>2.16</td>\n",
       "    </tr>\n",
       "    <tr>\n",
       "      <th>24</th>\n",
       "      <td>WHAIR</td>\n",
       "      <td>7.30</td>\n",
       "      <td>7.20</td>\n",
       "      <td>1.39</td>\n",
       "    </tr>\n",
       "    <tr>\n",
       "      <th>25</th>\n",
       "      <td>WHART</td>\n",
       "      <td>10.20</td>\n",
       "      <td>10.10</td>\n",
       "      <td>0.99</td>\n",
       "    </tr>\n",
       "  </tbody>\n",
       "</table>\n",
       "</div>"
      ],
      "text/plain": [
       "       name  price_d  price_w  percent\n",
       "0       ASP     2.96     2.98    -0.67\n",
       "1       BCH    19.80    19.80     0.00\n",
       "2   CPNREIT    19.50    19.00     2.63\n",
       "3       DCC     2.78     2.80    -0.71\n",
       "4       DIF    13.10    13.20    -0.76\n",
       "5    DOHOME    14.00    14.20    -1.41\n",
       "6    GVREIT     8.95     8.95     0.00\n",
       "7       IVL    40.00    40.75    -1.84\n",
       "8     JASIF     8.05     8.00     0.63\n",
       "9       KCE    47.25    49.75    -5.03\n",
       "10    MAKRO    38.25    37.50     2.00\n",
       "11      MCS     8.95     8.95     0.00\n",
       "12      NER     5.95     5.95     0.00\n",
       "13      ORI    10.90    10.90     0.00\n",
       "14    PTTGC    46.75    46.00     1.63\n",
       "15      RCL    30.00    29.00     3.45\n",
       "16      SCC   333.00   334.00    -0.30\n",
       "17     SCCC   149.00   148.50     0.34\n",
       "18     SENA     3.96     3.96     0.00\n",
       "19   SINGER    27.50    31.50   -12.70\n",
       "20      STA    19.10    18.80     1.60\n",
       "21    SYNEX    15.90    17.70   -10.17\n",
       "22    TFFIF     7.70     7.60     1.32\n",
       "23      TMT     7.10     6.95     2.16\n",
       "24    WHAIR     7.30     7.20     1.39\n",
       "25    WHART    10.20    10.10     0.99"
      ]
     },
     "execution_count": 14,
     "metadata": {},
     "output_type": "execute_result"
    }
   ],
   "source": [
    "trend"
   ]
  },
  {
   "cell_type": "code",
   "execution_count": 15,
   "metadata": {},
   "outputs": [],
   "source": [
    "trend[\"perform\"] = trend[[\"price_d\",\"price_w\"]].apply(performance, axis=1)"
   ]
  },
  {
   "cell_type": "code",
   "execution_count": 16,
   "metadata": {},
   "outputs": [
    {
     "data": {
      "text/html": [
       "<style type=\"text/css\">\n",
       "</style>\n",
       "<table id=\"T_9be4d_\">\n",
       "  <thead>\n",
       "    <tr>\n",
       "      <th class=\"blank level0\" >&nbsp;</th>\n",
       "      <th class=\"col_heading level0 col0\" >name</th>\n",
       "      <th class=\"col_heading level0 col1\" >price_d</th>\n",
       "      <th class=\"col_heading level0 col2\" >price_w</th>\n",
       "      <th class=\"col_heading level0 col3\" >percent</th>\n",
       "      <th class=\"col_heading level0 col4\" >perform</th>\n",
       "    </tr>\n",
       "  </thead>\n",
       "  <tbody>\n",
       "    <tr>\n",
       "      <th id=\"T_9be4d_level0_row0\" class=\"row_heading level0 row0\" >19</th>\n",
       "      <td id=\"T_9be4d_row0_col0\" class=\"data row0 col0\" >SINGER</td>\n",
       "      <td id=\"T_9be4d_row0_col1\" class=\"data row0 col1\" >27.50</td>\n",
       "      <td id=\"T_9be4d_row0_col2\" class=\"data row0 col2\" >31.50</td>\n",
       "      <td id=\"T_9be4d_row0_col3\" class=\"data row0 col3\" >-12.70%</td>\n",
       "      <td id=\"T_9be4d_row0_col4\" class=\"data row0 col4\" >Worse</td>\n",
       "    </tr>\n",
       "    <tr>\n",
       "      <th id=\"T_9be4d_level0_row1\" class=\"row_heading level0 row1\" >21</th>\n",
       "      <td id=\"T_9be4d_row1_col0\" class=\"data row1 col0\" >SYNEX</td>\n",
       "      <td id=\"T_9be4d_row1_col1\" class=\"data row1 col1\" >15.90</td>\n",
       "      <td id=\"T_9be4d_row1_col2\" class=\"data row1 col2\" >17.70</td>\n",
       "      <td id=\"T_9be4d_row1_col3\" class=\"data row1 col3\" >-10.17%</td>\n",
       "      <td id=\"T_9be4d_row1_col4\" class=\"data row1 col4\" >Worse</td>\n",
       "    </tr>\n",
       "    <tr>\n",
       "      <th id=\"T_9be4d_level0_row2\" class=\"row_heading level0 row2\" >9</th>\n",
       "      <td id=\"T_9be4d_row2_col0\" class=\"data row2 col0\" >KCE</td>\n",
       "      <td id=\"T_9be4d_row2_col1\" class=\"data row2 col1\" >47.25</td>\n",
       "      <td id=\"T_9be4d_row2_col2\" class=\"data row2 col2\" >49.75</td>\n",
       "      <td id=\"T_9be4d_row2_col3\" class=\"data row2 col3\" >-5.03%</td>\n",
       "      <td id=\"T_9be4d_row2_col4\" class=\"data row2 col4\" >Worse</td>\n",
       "    </tr>\n",
       "    <tr>\n",
       "      <th id=\"T_9be4d_level0_row3\" class=\"row_heading level0 row3\" >7</th>\n",
       "      <td id=\"T_9be4d_row3_col0\" class=\"data row3 col0\" >IVL</td>\n",
       "      <td id=\"T_9be4d_row3_col1\" class=\"data row3 col1\" >40.00</td>\n",
       "      <td id=\"T_9be4d_row3_col2\" class=\"data row3 col2\" >40.75</td>\n",
       "      <td id=\"T_9be4d_row3_col3\" class=\"data row3 col3\" >-1.84%</td>\n",
       "      <td id=\"T_9be4d_row3_col4\" class=\"data row3 col4\" >Worse</td>\n",
       "    </tr>\n",
       "    <tr>\n",
       "      <th id=\"T_9be4d_level0_row4\" class=\"row_heading level0 row4\" >5</th>\n",
       "      <td id=\"T_9be4d_row4_col0\" class=\"data row4 col0\" >DOHOME</td>\n",
       "      <td id=\"T_9be4d_row4_col1\" class=\"data row4 col1\" >14.00</td>\n",
       "      <td id=\"T_9be4d_row4_col2\" class=\"data row4 col2\" >14.20</td>\n",
       "      <td id=\"T_9be4d_row4_col3\" class=\"data row4 col3\" >-1.41%</td>\n",
       "      <td id=\"T_9be4d_row4_col4\" class=\"data row4 col4\" >Worse</td>\n",
       "    </tr>\n",
       "    <tr>\n",
       "      <th id=\"T_9be4d_level0_row5\" class=\"row_heading level0 row5\" >4</th>\n",
       "      <td id=\"T_9be4d_row5_col0\" class=\"data row5 col0\" >DIF</td>\n",
       "      <td id=\"T_9be4d_row5_col1\" class=\"data row5 col1\" >13.10</td>\n",
       "      <td id=\"T_9be4d_row5_col2\" class=\"data row5 col2\" >13.20</td>\n",
       "      <td id=\"T_9be4d_row5_col3\" class=\"data row5 col3\" >-0.76%</td>\n",
       "      <td id=\"T_9be4d_row5_col4\" class=\"data row5 col4\" >Worse</td>\n",
       "    </tr>\n",
       "    <tr>\n",
       "      <th id=\"T_9be4d_level0_row6\" class=\"row_heading level0 row6\" >3</th>\n",
       "      <td id=\"T_9be4d_row6_col0\" class=\"data row6 col0\" >DCC</td>\n",
       "      <td id=\"T_9be4d_row6_col1\" class=\"data row6 col1\" >2.78</td>\n",
       "      <td id=\"T_9be4d_row6_col2\" class=\"data row6 col2\" >2.80</td>\n",
       "      <td id=\"T_9be4d_row6_col3\" class=\"data row6 col3\" >-0.71%</td>\n",
       "      <td id=\"T_9be4d_row6_col4\" class=\"data row6 col4\" >Worse</td>\n",
       "    </tr>\n",
       "    <tr>\n",
       "      <th id=\"T_9be4d_level0_row7\" class=\"row_heading level0 row7\" >0</th>\n",
       "      <td id=\"T_9be4d_row7_col0\" class=\"data row7 col0\" >ASP</td>\n",
       "      <td id=\"T_9be4d_row7_col1\" class=\"data row7 col1\" >2.96</td>\n",
       "      <td id=\"T_9be4d_row7_col2\" class=\"data row7 col2\" >2.98</td>\n",
       "      <td id=\"T_9be4d_row7_col3\" class=\"data row7 col3\" >-0.67%</td>\n",
       "      <td id=\"T_9be4d_row7_col4\" class=\"data row7 col4\" >Worse</td>\n",
       "    </tr>\n",
       "    <tr>\n",
       "      <th id=\"T_9be4d_level0_row8\" class=\"row_heading level0 row8\" >16</th>\n",
       "      <td id=\"T_9be4d_row8_col0\" class=\"data row8 col0\" >SCC</td>\n",
       "      <td id=\"T_9be4d_row8_col1\" class=\"data row8 col1\" >333.00</td>\n",
       "      <td id=\"T_9be4d_row8_col2\" class=\"data row8 col2\" >334.00</td>\n",
       "      <td id=\"T_9be4d_row8_col3\" class=\"data row8 col3\" >-0.30%</td>\n",
       "      <td id=\"T_9be4d_row8_col4\" class=\"data row8 col4\" >Worse</td>\n",
       "    </tr>\n",
       "    <tr>\n",
       "      <th id=\"T_9be4d_level0_row9\" class=\"row_heading level0 row9\" >18</th>\n",
       "      <td id=\"T_9be4d_row9_col0\" class=\"data row9 col0\" >SENA</td>\n",
       "      <td id=\"T_9be4d_row9_col1\" class=\"data row9 col1\" >3.96</td>\n",
       "      <td id=\"T_9be4d_row9_col2\" class=\"data row9 col2\" >3.96</td>\n",
       "      <td id=\"T_9be4d_row9_col3\" class=\"data row9 col3\" >0.00%</td>\n",
       "      <td id=\"T_9be4d_row9_col4\" class=\"data row9 col4\" >No Change</td>\n",
       "    </tr>\n",
       "    <tr>\n",
       "      <th id=\"T_9be4d_level0_row10\" class=\"row_heading level0 row10\" >13</th>\n",
       "      <td id=\"T_9be4d_row10_col0\" class=\"data row10 col0\" >ORI</td>\n",
       "      <td id=\"T_9be4d_row10_col1\" class=\"data row10 col1\" >10.90</td>\n",
       "      <td id=\"T_9be4d_row10_col2\" class=\"data row10 col2\" >10.90</td>\n",
       "      <td id=\"T_9be4d_row10_col3\" class=\"data row10 col3\" >0.00%</td>\n",
       "      <td id=\"T_9be4d_row10_col4\" class=\"data row10 col4\" >No Change</td>\n",
       "    </tr>\n",
       "    <tr>\n",
       "      <th id=\"T_9be4d_level0_row11\" class=\"row_heading level0 row11\" >12</th>\n",
       "      <td id=\"T_9be4d_row11_col0\" class=\"data row11 col0\" >NER</td>\n",
       "      <td id=\"T_9be4d_row11_col1\" class=\"data row11 col1\" >5.95</td>\n",
       "      <td id=\"T_9be4d_row11_col2\" class=\"data row11 col2\" >5.95</td>\n",
       "      <td id=\"T_9be4d_row11_col3\" class=\"data row11 col3\" >0.00%</td>\n",
       "      <td id=\"T_9be4d_row11_col4\" class=\"data row11 col4\" >No Change</td>\n",
       "    </tr>\n",
       "    <tr>\n",
       "      <th id=\"T_9be4d_level0_row12\" class=\"row_heading level0 row12\" >6</th>\n",
       "      <td id=\"T_9be4d_row12_col0\" class=\"data row12 col0\" >GVREIT</td>\n",
       "      <td id=\"T_9be4d_row12_col1\" class=\"data row12 col1\" >8.95</td>\n",
       "      <td id=\"T_9be4d_row12_col2\" class=\"data row12 col2\" >8.95</td>\n",
       "      <td id=\"T_9be4d_row12_col3\" class=\"data row12 col3\" >0.00%</td>\n",
       "      <td id=\"T_9be4d_row12_col4\" class=\"data row12 col4\" >No Change</td>\n",
       "    </tr>\n",
       "    <tr>\n",
       "      <th id=\"T_9be4d_level0_row13\" class=\"row_heading level0 row13\" >1</th>\n",
       "      <td id=\"T_9be4d_row13_col0\" class=\"data row13 col0\" >BCH</td>\n",
       "      <td id=\"T_9be4d_row13_col1\" class=\"data row13 col1\" >19.80</td>\n",
       "      <td id=\"T_9be4d_row13_col2\" class=\"data row13 col2\" >19.80</td>\n",
       "      <td id=\"T_9be4d_row13_col3\" class=\"data row13 col3\" >0.00%</td>\n",
       "      <td id=\"T_9be4d_row13_col4\" class=\"data row13 col4\" >No Change</td>\n",
       "    </tr>\n",
       "    <tr>\n",
       "      <th id=\"T_9be4d_level0_row14\" class=\"row_heading level0 row14\" >11</th>\n",
       "      <td id=\"T_9be4d_row14_col0\" class=\"data row14 col0\" >MCS</td>\n",
       "      <td id=\"T_9be4d_row14_col1\" class=\"data row14 col1\" >8.95</td>\n",
       "      <td id=\"T_9be4d_row14_col2\" class=\"data row14 col2\" >8.95</td>\n",
       "      <td id=\"T_9be4d_row14_col3\" class=\"data row14 col3\" >0.00%</td>\n",
       "      <td id=\"T_9be4d_row14_col4\" class=\"data row14 col4\" >No Change</td>\n",
       "    </tr>\n",
       "    <tr>\n",
       "      <th id=\"T_9be4d_level0_row15\" class=\"row_heading level0 row15\" >17</th>\n",
       "      <td id=\"T_9be4d_row15_col0\" class=\"data row15 col0\" >SCCC</td>\n",
       "      <td id=\"T_9be4d_row15_col1\" class=\"data row15 col1\" >149.00</td>\n",
       "      <td id=\"T_9be4d_row15_col2\" class=\"data row15 col2\" >148.50</td>\n",
       "      <td id=\"T_9be4d_row15_col3\" class=\"data row15 col3\" >0.34%</td>\n",
       "      <td id=\"T_9be4d_row15_col4\" class=\"data row15 col4\" >Better</td>\n",
       "    </tr>\n",
       "    <tr>\n",
       "      <th id=\"T_9be4d_level0_row16\" class=\"row_heading level0 row16\" >8</th>\n",
       "      <td id=\"T_9be4d_row16_col0\" class=\"data row16 col0\" >JASIF</td>\n",
       "      <td id=\"T_9be4d_row16_col1\" class=\"data row16 col1\" >8.05</td>\n",
       "      <td id=\"T_9be4d_row16_col2\" class=\"data row16 col2\" >8.00</td>\n",
       "      <td id=\"T_9be4d_row16_col3\" class=\"data row16 col3\" >0.63%</td>\n",
       "      <td id=\"T_9be4d_row16_col4\" class=\"data row16 col4\" >Better</td>\n",
       "    </tr>\n",
       "    <tr>\n",
       "      <th id=\"T_9be4d_level0_row17\" class=\"row_heading level0 row17\" >25</th>\n",
       "      <td id=\"T_9be4d_row17_col0\" class=\"data row17 col0\" >WHART</td>\n",
       "      <td id=\"T_9be4d_row17_col1\" class=\"data row17 col1\" >10.20</td>\n",
       "      <td id=\"T_9be4d_row17_col2\" class=\"data row17 col2\" >10.10</td>\n",
       "      <td id=\"T_9be4d_row17_col3\" class=\"data row17 col3\" >0.99%</td>\n",
       "      <td id=\"T_9be4d_row17_col4\" class=\"data row17 col4\" >Better</td>\n",
       "    </tr>\n",
       "    <tr>\n",
       "      <th id=\"T_9be4d_level0_row18\" class=\"row_heading level0 row18\" >22</th>\n",
       "      <td id=\"T_9be4d_row18_col0\" class=\"data row18 col0\" >TFFIF</td>\n",
       "      <td id=\"T_9be4d_row18_col1\" class=\"data row18 col1\" >7.70</td>\n",
       "      <td id=\"T_9be4d_row18_col2\" class=\"data row18 col2\" >7.60</td>\n",
       "      <td id=\"T_9be4d_row18_col3\" class=\"data row18 col3\" >1.32%</td>\n",
       "      <td id=\"T_9be4d_row18_col4\" class=\"data row18 col4\" >Better</td>\n",
       "    </tr>\n",
       "    <tr>\n",
       "      <th id=\"T_9be4d_level0_row19\" class=\"row_heading level0 row19\" >24</th>\n",
       "      <td id=\"T_9be4d_row19_col0\" class=\"data row19 col0\" >WHAIR</td>\n",
       "      <td id=\"T_9be4d_row19_col1\" class=\"data row19 col1\" >7.30</td>\n",
       "      <td id=\"T_9be4d_row19_col2\" class=\"data row19 col2\" >7.20</td>\n",
       "      <td id=\"T_9be4d_row19_col3\" class=\"data row19 col3\" >1.39%</td>\n",
       "      <td id=\"T_9be4d_row19_col4\" class=\"data row19 col4\" >Better</td>\n",
       "    </tr>\n",
       "    <tr>\n",
       "      <th id=\"T_9be4d_level0_row20\" class=\"row_heading level0 row20\" >20</th>\n",
       "      <td id=\"T_9be4d_row20_col0\" class=\"data row20 col0\" >STA</td>\n",
       "      <td id=\"T_9be4d_row20_col1\" class=\"data row20 col1\" >19.10</td>\n",
       "      <td id=\"T_9be4d_row20_col2\" class=\"data row20 col2\" >18.80</td>\n",
       "      <td id=\"T_9be4d_row20_col3\" class=\"data row20 col3\" >1.60%</td>\n",
       "      <td id=\"T_9be4d_row20_col4\" class=\"data row20 col4\" >Better</td>\n",
       "    </tr>\n",
       "    <tr>\n",
       "      <th id=\"T_9be4d_level0_row21\" class=\"row_heading level0 row21\" >14</th>\n",
       "      <td id=\"T_9be4d_row21_col0\" class=\"data row21 col0\" >PTTGC</td>\n",
       "      <td id=\"T_9be4d_row21_col1\" class=\"data row21 col1\" >46.75</td>\n",
       "      <td id=\"T_9be4d_row21_col2\" class=\"data row21 col2\" >46.00</td>\n",
       "      <td id=\"T_9be4d_row21_col3\" class=\"data row21 col3\" >1.63%</td>\n",
       "      <td id=\"T_9be4d_row21_col4\" class=\"data row21 col4\" >Better</td>\n",
       "    </tr>\n",
       "    <tr>\n",
       "      <th id=\"T_9be4d_level0_row22\" class=\"row_heading level0 row22\" >10</th>\n",
       "      <td id=\"T_9be4d_row22_col0\" class=\"data row22 col0\" >MAKRO</td>\n",
       "      <td id=\"T_9be4d_row22_col1\" class=\"data row22 col1\" >38.25</td>\n",
       "      <td id=\"T_9be4d_row22_col2\" class=\"data row22 col2\" >37.50</td>\n",
       "      <td id=\"T_9be4d_row22_col3\" class=\"data row22 col3\" >2.00%</td>\n",
       "      <td id=\"T_9be4d_row22_col4\" class=\"data row22 col4\" >Better</td>\n",
       "    </tr>\n",
       "    <tr>\n",
       "      <th id=\"T_9be4d_level0_row23\" class=\"row_heading level0 row23\" >23</th>\n",
       "      <td id=\"T_9be4d_row23_col0\" class=\"data row23 col0\" >TMT</td>\n",
       "      <td id=\"T_9be4d_row23_col1\" class=\"data row23 col1\" >7.10</td>\n",
       "      <td id=\"T_9be4d_row23_col2\" class=\"data row23 col2\" >6.95</td>\n",
       "      <td id=\"T_9be4d_row23_col3\" class=\"data row23 col3\" >2.16%</td>\n",
       "      <td id=\"T_9be4d_row23_col4\" class=\"data row23 col4\" >Better</td>\n",
       "    </tr>\n",
       "    <tr>\n",
       "      <th id=\"T_9be4d_level0_row24\" class=\"row_heading level0 row24\" >2</th>\n",
       "      <td id=\"T_9be4d_row24_col0\" class=\"data row24 col0\" >CPNREIT</td>\n",
       "      <td id=\"T_9be4d_row24_col1\" class=\"data row24 col1\" >19.50</td>\n",
       "      <td id=\"T_9be4d_row24_col2\" class=\"data row24 col2\" >19.00</td>\n",
       "      <td id=\"T_9be4d_row24_col3\" class=\"data row24 col3\" >2.63%</td>\n",
       "      <td id=\"T_9be4d_row24_col4\" class=\"data row24 col4\" >Better</td>\n",
       "    </tr>\n",
       "    <tr>\n",
       "      <th id=\"T_9be4d_level0_row25\" class=\"row_heading level0 row25\" >15</th>\n",
       "      <td id=\"T_9be4d_row25_col0\" class=\"data row25 col0\" >RCL</td>\n",
       "      <td id=\"T_9be4d_row25_col1\" class=\"data row25 col1\" >30.00</td>\n",
       "      <td id=\"T_9be4d_row25_col2\" class=\"data row25 col2\" >29.00</td>\n",
       "      <td id=\"T_9be4d_row25_col3\" class=\"data row25 col3\" >3.45%</td>\n",
       "      <td id=\"T_9be4d_row25_col4\" class=\"data row25 col4\" >Better</td>\n",
       "    </tr>\n",
       "  </tbody>\n",
       "</table>\n"
      ],
      "text/plain": [
       "<pandas.io.formats.style.Styler at 0x277226a2eb0>"
      ]
     },
     "execution_count": 16,
     "metadata": {},
     "output_type": "execute_result"
    }
   ],
   "source": [
    "trend.sort_values(by=['percent'],ascending=[True]).style.format(format_dict)"
   ]
  },
  {
   "cell_type": "code",
   "execution_count": 17,
   "metadata": {},
   "outputs": [
    {
     "data": {
      "text/html": [
       "<style type=\"text/css\">\n",
       "</style>\n",
       "<table id=\"T_7a2f2_\">\n",
       "  <thead>\n",
       "    <tr>\n",
       "      <th class=\"blank level0\" >&nbsp;</th>\n",
       "      <th class=\"col_heading level0 col0\" >perform</th>\n",
       "    </tr>\n",
       "  </thead>\n",
       "  <tbody>\n",
       "    <tr>\n",
       "      <th id=\"T_7a2f2_level0_row0\" class=\"row_heading level0 row0\" >Better</th>\n",
       "      <td id=\"T_7a2f2_row0_col0\" class=\"data row0 col0\" >42.31%</td>\n",
       "    </tr>\n",
       "    <tr>\n",
       "      <th id=\"T_7a2f2_level0_row1\" class=\"row_heading level0 row1\" >Worse</th>\n",
       "      <td id=\"T_7a2f2_row1_col0\" class=\"data row1 col0\" >34.62%</td>\n",
       "    </tr>\n",
       "    <tr>\n",
       "      <th id=\"T_7a2f2_level0_row2\" class=\"row_heading level0 row2\" >No Change</th>\n",
       "      <td id=\"T_7a2f2_row2_col0\" class=\"data row2 col0\" >23.08%</td>\n",
       "    </tr>\n",
       "  </tbody>\n",
       "</table>\n"
      ],
      "text/plain": [
       "<pandas.io.formats.style.Styler at 0x277226ed130>"
      ]
     },
     "execution_count": 17,
     "metadata": {},
     "output_type": "execute_result"
    }
   ],
   "source": [
    "trend.perform.value_counts(normalize=True).to_frame().style.format('{:.2%}')"
   ]
  },
  {
   "cell_type": "code",
   "execution_count": 18,
   "metadata": {},
   "outputs": [
    {
     "data": {
      "text/plain": [
       "(253, 8)"
      ]
     },
     "execution_count": 18,
     "metadata": {},
     "output_type": "execute_result"
    }
   ],
   "source": [
    "sql = '''\n",
    "SELECT name, max_price AS max, min_price AS min, pe, pbv, daily_volume AS volume, beta, market\n",
    "FROM stocks\n",
    "'''\n",
    "my_stocks = pd.read_sql(sql, conmy)\n",
    "my_stocks.shape"
   ]
  },
  {
   "cell_type": "code",
   "execution_count": 19,
   "metadata": {},
   "outputs": [],
   "source": [
    "filters = [\n",
    "   (my_stocks.market.str.contains('SET50')),\n",
    "   (my_stocks.market.str.contains('SET100')),\n",
    "   (my_stocks.market.str.contains('mai'))]\n",
    "values = ['SET50','SET100','mai']\n",
    "my_stocks[\"mrkt\"] = np.select(filters, values, default='SET999')"
   ]
  },
  {
   "cell_type": "code",
   "execution_count": 20,
   "metadata": {},
   "outputs": [
    {
     "data": {
      "text/plain": [
       "(26, 13)"
      ]
     },
     "execution_count": 20,
     "metadata": {},
     "output_type": "execute_result"
    }
   ],
   "source": [
    "trend2 = pd.merge(trend, my_stocks, on='name', how='inner')\n",
    "trend2.sort_values(['percent'],ascending=[True]).shape"
   ]
  },
  {
   "cell_type": "code",
   "execution_count": 21,
   "metadata": {},
   "outputs": [
    {
     "data": {
      "text/html": [
       "<style type=\"text/css\">\n",
       "</style>\n",
       "<table id=\"T_3f6a1_\">\n",
       "  <thead>\n",
       "    <tr>\n",
       "      <th class=\"blank level0\" >&nbsp;</th>\n",
       "      <th class=\"col_heading level0 col0\" >name</th>\n",
       "      <th class=\"col_heading level0 col1\" >price_d</th>\n",
       "      <th class=\"col_heading level0 col2\" >price_w</th>\n",
       "      <th class=\"col_heading level0 col3\" >percent</th>\n",
       "      <th class=\"col_heading level0 col4\" >perform</th>\n",
       "      <th class=\"col_heading level0 col5\" >mrkt</th>\n",
       "    </tr>\n",
       "  </thead>\n",
       "  <tbody>\n",
       "    <tr>\n",
       "      <th id=\"T_3f6a1_level0_row0\" class=\"row_heading level0 row0\" >9</th>\n",
       "      <td id=\"T_3f6a1_row0_col0\" class=\"data row0 col0\" >KCE</td>\n",
       "      <td id=\"T_3f6a1_row0_col1\" class=\"data row0 col1\" >47.25</td>\n",
       "      <td id=\"T_3f6a1_row0_col2\" class=\"data row0 col2\" >49.75</td>\n",
       "      <td id=\"T_3f6a1_row0_col3\" class=\"data row0 col3\" >-5.03%</td>\n",
       "      <td id=\"T_3f6a1_row0_col4\" class=\"data row0 col4\" >Worse</td>\n",
       "      <td id=\"T_3f6a1_row0_col5\" class=\"data row0 col5\" >SET50</td>\n",
       "    </tr>\n",
       "    <tr>\n",
       "      <th id=\"T_3f6a1_level0_row1\" class=\"row_heading level0 row1\" >7</th>\n",
       "      <td id=\"T_3f6a1_row1_col0\" class=\"data row1 col0\" >IVL</td>\n",
       "      <td id=\"T_3f6a1_row1_col1\" class=\"data row1 col1\" >40.00</td>\n",
       "      <td id=\"T_3f6a1_row1_col2\" class=\"data row1 col2\" >40.75</td>\n",
       "      <td id=\"T_3f6a1_row1_col3\" class=\"data row1 col3\" >-1.84%</td>\n",
       "      <td id=\"T_3f6a1_row1_col4\" class=\"data row1 col4\" >Worse</td>\n",
       "      <td id=\"T_3f6a1_row1_col5\" class=\"data row1 col5\" >SET50</td>\n",
       "    </tr>\n",
       "    <tr>\n",
       "      <th id=\"T_3f6a1_level0_row2\" class=\"row_heading level0 row2\" >16</th>\n",
       "      <td id=\"T_3f6a1_row2_col0\" class=\"data row2 col0\" >SCC</td>\n",
       "      <td id=\"T_3f6a1_row2_col1\" class=\"data row2 col1\" >333.00</td>\n",
       "      <td id=\"T_3f6a1_row2_col2\" class=\"data row2 col2\" >334.00</td>\n",
       "      <td id=\"T_3f6a1_row2_col3\" class=\"data row2 col3\" >-0.30%</td>\n",
       "      <td id=\"T_3f6a1_row2_col4\" class=\"data row2 col4\" >Worse</td>\n",
       "      <td id=\"T_3f6a1_row2_col5\" class=\"data row2 col5\" >SET50</td>\n",
       "    </tr>\n",
       "    <tr>\n",
       "      <th id=\"T_3f6a1_level0_row3\" class=\"row_heading level0 row3\" >14</th>\n",
       "      <td id=\"T_3f6a1_row3_col0\" class=\"data row3 col0\" >PTTGC</td>\n",
       "      <td id=\"T_3f6a1_row3_col1\" class=\"data row3 col1\" >46.75</td>\n",
       "      <td id=\"T_3f6a1_row3_col2\" class=\"data row3 col2\" >46.00</td>\n",
       "      <td id=\"T_3f6a1_row3_col3\" class=\"data row3 col3\" >1.63%</td>\n",
       "      <td id=\"T_3f6a1_row3_col4\" class=\"data row3 col4\" >Better</td>\n",
       "      <td id=\"T_3f6a1_row3_col5\" class=\"data row3 col5\" >SET50</td>\n",
       "    </tr>\n",
       "  </tbody>\n",
       "</table>\n"
      ],
      "text/plain": [
       "<pandas.io.formats.style.Styler at 0x277226973d0>"
      ]
     },
     "execution_count": 21,
     "metadata": {},
     "output_type": "execute_result"
    }
   ],
   "source": [
    "set50 = trend2.mrkt.str.contains('SET50') \n",
    "flt_set50 = trend2[set50]\n",
    "flt_set50[cols].sort_values(by=['percent','name'],ascending=[True,True]).style.format(format_dict)"
   ]
  },
  {
   "cell_type": "code",
   "execution_count": 22,
   "metadata": {},
   "outputs": [
    {
     "data": {
      "text/html": [
       "<style type=\"text/css\">\n",
       "</style>\n",
       "<table id=\"T_0aa67_\">\n",
       "  <thead>\n",
       "    <tr>\n",
       "      <th class=\"blank level0\" >&nbsp;</th>\n",
       "      <th class=\"col_heading level0 col0\" >perform</th>\n",
       "    </tr>\n",
       "  </thead>\n",
       "  <tbody>\n",
       "    <tr>\n",
       "      <th id=\"T_0aa67_level0_row0\" class=\"row_heading level0 row0\" >Worse</th>\n",
       "      <td id=\"T_0aa67_row0_col0\" class=\"data row0 col0\" >75.00%</td>\n",
       "    </tr>\n",
       "    <tr>\n",
       "      <th id=\"T_0aa67_level0_row1\" class=\"row_heading level0 row1\" >Better</th>\n",
       "      <td id=\"T_0aa67_row1_col0\" class=\"data row1 col0\" >25.00%</td>\n",
       "    </tr>\n",
       "  </tbody>\n",
       "</table>\n"
      ],
      "text/plain": [
       "<pandas.io.formats.style.Styler at 0x27722706e50>"
      ]
     },
     "execution_count": 22,
     "metadata": {},
     "output_type": "execute_result"
    }
   ],
   "source": [
    "flt_set50.perform.value_counts(normalize=True).to_frame().style.format('{:.2%}')"
   ]
  },
  {
   "cell_type": "code",
   "execution_count": 23,
   "metadata": {
    "scrolled": true
   },
   "outputs": [
    {
     "data": {
      "text/html": [
       "<style type=\"text/css\">\n",
       "</style>\n",
       "<table id=\"T_763ae_\">\n",
       "  <thead>\n",
       "    <tr>\n",
       "      <th class=\"blank level0\" >&nbsp;</th>\n",
       "      <th class=\"col_heading level0 col0\" >name</th>\n",
       "      <th class=\"col_heading level0 col1\" >price_d</th>\n",
       "      <th class=\"col_heading level0 col2\" >price_w</th>\n",
       "      <th class=\"col_heading level0 col3\" >percent</th>\n",
       "      <th class=\"col_heading level0 col4\" >perform</th>\n",
       "      <th class=\"col_heading level0 col5\" >mrkt</th>\n",
       "    </tr>\n",
       "  </thead>\n",
       "  <tbody>\n",
       "    <tr>\n",
       "      <th id=\"T_763ae_level0_row0\" class=\"row_heading level0 row0\" >19</th>\n",
       "      <td id=\"T_763ae_row0_col0\" class=\"data row0 col0\" >SINGER</td>\n",
       "      <td id=\"T_763ae_row0_col1\" class=\"data row0 col1\" >27.50</td>\n",
       "      <td id=\"T_763ae_row0_col2\" class=\"data row0 col2\" >31.50</td>\n",
       "      <td id=\"T_763ae_row0_col3\" class=\"data row0 col3\" >-12.70%</td>\n",
       "      <td id=\"T_763ae_row0_col4\" class=\"data row0 col4\" >Worse</td>\n",
       "      <td id=\"T_763ae_row0_col5\" class=\"data row0 col5\" >SET100</td>\n",
       "    </tr>\n",
       "    <tr>\n",
       "      <th id=\"T_763ae_level0_row1\" class=\"row_heading level0 row1\" >21</th>\n",
       "      <td id=\"T_763ae_row1_col0\" class=\"data row1 col0\" >SYNEX</td>\n",
       "      <td id=\"T_763ae_row1_col1\" class=\"data row1 col1\" >15.90</td>\n",
       "      <td id=\"T_763ae_row1_col2\" class=\"data row1 col2\" >17.70</td>\n",
       "      <td id=\"T_763ae_row1_col3\" class=\"data row1 col3\" >-10.17%</td>\n",
       "      <td id=\"T_763ae_row1_col4\" class=\"data row1 col4\" >Worse</td>\n",
       "      <td id=\"T_763ae_row1_col5\" class=\"data row1 col5\" >SET100</td>\n",
       "    </tr>\n",
       "    <tr>\n",
       "      <th id=\"T_763ae_level0_row2\" class=\"row_heading level0 row2\" >5</th>\n",
       "      <td id=\"T_763ae_row2_col0\" class=\"data row2 col0\" >DOHOME</td>\n",
       "      <td id=\"T_763ae_row2_col1\" class=\"data row2 col1\" >14.00</td>\n",
       "      <td id=\"T_763ae_row2_col2\" class=\"data row2 col2\" >14.20</td>\n",
       "      <td id=\"T_763ae_row2_col3\" class=\"data row2 col3\" >-1.41%</td>\n",
       "      <td id=\"T_763ae_row2_col4\" class=\"data row2 col4\" >Worse</td>\n",
       "      <td id=\"T_763ae_row2_col5\" class=\"data row2 col5\" >SET100</td>\n",
       "    </tr>\n",
       "    <tr>\n",
       "      <th id=\"T_763ae_level0_row3\" class=\"row_heading level0 row3\" >1</th>\n",
       "      <td id=\"T_763ae_row3_col0\" class=\"data row3 col0\" >BCH</td>\n",
       "      <td id=\"T_763ae_row3_col1\" class=\"data row3 col1\" >19.80</td>\n",
       "      <td id=\"T_763ae_row3_col2\" class=\"data row3 col2\" >19.80</td>\n",
       "      <td id=\"T_763ae_row3_col3\" class=\"data row3 col3\" >0.00%</td>\n",
       "      <td id=\"T_763ae_row3_col4\" class=\"data row3 col4\" >No Change</td>\n",
       "      <td id=\"T_763ae_row3_col5\" class=\"data row3 col5\" >SET100</td>\n",
       "    </tr>\n",
       "    <tr>\n",
       "      <th id=\"T_763ae_level0_row4\" class=\"row_heading level0 row4\" >13</th>\n",
       "      <td id=\"T_763ae_row4_col0\" class=\"data row4 col0\" >ORI</td>\n",
       "      <td id=\"T_763ae_row4_col1\" class=\"data row4 col1\" >10.90</td>\n",
       "      <td id=\"T_763ae_row4_col2\" class=\"data row4 col2\" >10.90</td>\n",
       "      <td id=\"T_763ae_row4_col3\" class=\"data row4 col3\" >0.00%</td>\n",
       "      <td id=\"T_763ae_row4_col4\" class=\"data row4 col4\" >No Change</td>\n",
       "      <td id=\"T_763ae_row4_col5\" class=\"data row4 col5\" >SET100</td>\n",
       "    </tr>\n",
       "    <tr>\n",
       "      <th id=\"T_763ae_level0_row5\" class=\"row_heading level0 row5\" >20</th>\n",
       "      <td id=\"T_763ae_row5_col0\" class=\"data row5 col0\" >STA</td>\n",
       "      <td id=\"T_763ae_row5_col1\" class=\"data row5 col1\" >19.10</td>\n",
       "      <td id=\"T_763ae_row5_col2\" class=\"data row5 col2\" >18.80</td>\n",
       "      <td id=\"T_763ae_row5_col3\" class=\"data row5 col3\" >1.60%</td>\n",
       "      <td id=\"T_763ae_row5_col4\" class=\"data row5 col4\" >Better</td>\n",
       "      <td id=\"T_763ae_row5_col5\" class=\"data row5 col5\" >SET100</td>\n",
       "    </tr>\n",
       "    <tr>\n",
       "      <th id=\"T_763ae_level0_row6\" class=\"row_heading level0 row6\" >15</th>\n",
       "      <td id=\"T_763ae_row6_col0\" class=\"data row6 col0\" >RCL</td>\n",
       "      <td id=\"T_763ae_row6_col1\" class=\"data row6 col1\" >30.00</td>\n",
       "      <td id=\"T_763ae_row6_col2\" class=\"data row6 col2\" >29.00</td>\n",
       "      <td id=\"T_763ae_row6_col3\" class=\"data row6 col3\" >3.45%</td>\n",
       "      <td id=\"T_763ae_row6_col4\" class=\"data row6 col4\" >Better</td>\n",
       "      <td id=\"T_763ae_row6_col5\" class=\"data row6 col5\" >SET100</td>\n",
       "    </tr>\n",
       "  </tbody>\n",
       "</table>\n"
      ],
      "text/plain": [
       "<pandas.io.formats.style.Styler at 0x27722715f70>"
      ]
     },
     "execution_count": 23,
     "metadata": {},
     "output_type": "execute_result"
    }
   ],
   "source": [
    "set100 = trend2.mrkt.str.contains('SET100')\n",
    "flt_set100 = trend2[set100]\n",
    "flt_set100[cols].sort_values(by=['percent','name'],ascending=[True,True]).style.format(format_dict)"
   ]
  },
  {
   "cell_type": "code",
   "execution_count": 24,
   "metadata": {},
   "outputs": [
    {
     "data": {
      "text/html": [
       "<style type=\"text/css\">\n",
       "</style>\n",
       "<table id=\"T_032e8_\">\n",
       "  <thead>\n",
       "    <tr>\n",
       "      <th class=\"blank level0\" >&nbsp;</th>\n",
       "      <th class=\"col_heading level0 col0\" >perform</th>\n",
       "    </tr>\n",
       "  </thead>\n",
       "  <tbody>\n",
       "    <tr>\n",
       "      <th id=\"T_032e8_level0_row0\" class=\"row_heading level0 row0\" >Worse</th>\n",
       "      <td id=\"T_032e8_row0_col0\" class=\"data row0 col0\" >42.86%</td>\n",
       "    </tr>\n",
       "    <tr>\n",
       "      <th id=\"T_032e8_level0_row1\" class=\"row_heading level0 row1\" >No Change</th>\n",
       "      <td id=\"T_032e8_row1_col0\" class=\"data row1 col0\" >28.57%</td>\n",
       "    </tr>\n",
       "    <tr>\n",
       "      <th id=\"T_032e8_level0_row2\" class=\"row_heading level0 row2\" >Better</th>\n",
       "      <td id=\"T_032e8_row2_col0\" class=\"data row2 col0\" >28.57%</td>\n",
       "    </tr>\n",
       "  </tbody>\n",
       "</table>\n"
      ],
      "text/plain": [
       "<pandas.io.formats.style.Styler at 0x27722722dc0>"
      ]
     },
     "execution_count": 24,
     "metadata": {},
     "output_type": "execute_result"
    }
   ],
   "source": [
    "flt_set100[cols].perform.value_counts(normalize=True).to_frame().style.format('{:.2%}')"
   ]
  },
  {
   "cell_type": "code",
   "execution_count": 25,
   "metadata": {},
   "outputs": [
    {
     "data": {
      "text/html": [
       "<style type=\"text/css\">\n",
       "</style>\n",
       "<table id=\"T_cbffb_\">\n",
       "  <thead>\n",
       "    <tr>\n",
       "      <th class=\"blank level0\" >&nbsp;</th>\n",
       "      <th class=\"col_heading level0 col0\" >name</th>\n",
       "      <th class=\"col_heading level0 col1\" >price_d</th>\n",
       "      <th class=\"col_heading level0 col2\" >price_w</th>\n",
       "      <th class=\"col_heading level0 col3\" >percent</th>\n",
       "      <th class=\"col_heading level0 col4\" >perform</th>\n",
       "      <th class=\"col_heading level0 col5\" >mrkt</th>\n",
       "    </tr>\n",
       "  </thead>\n",
       "  <tbody>\n",
       "    <tr>\n",
       "      <th id=\"T_cbffb_level0_row0\" class=\"row_heading level0 row0\" >4</th>\n",
       "      <td id=\"T_cbffb_row0_col0\" class=\"data row0 col0\" >DIF</td>\n",
       "      <td id=\"T_cbffb_row0_col1\" class=\"data row0 col1\" >13.10</td>\n",
       "      <td id=\"T_cbffb_row0_col2\" class=\"data row0 col2\" >13.20</td>\n",
       "      <td id=\"T_cbffb_row0_col3\" class=\"data row0 col3\" >-0.76%</td>\n",
       "      <td id=\"T_cbffb_row0_col4\" class=\"data row0 col4\" >Worse</td>\n",
       "      <td id=\"T_cbffb_row0_col5\" class=\"data row0 col5\" >SET999</td>\n",
       "    </tr>\n",
       "    <tr>\n",
       "      <th id=\"T_cbffb_level0_row1\" class=\"row_heading level0 row1\" >3</th>\n",
       "      <td id=\"T_cbffb_row1_col0\" class=\"data row1 col0\" >DCC</td>\n",
       "      <td id=\"T_cbffb_row1_col1\" class=\"data row1 col1\" >2.78</td>\n",
       "      <td id=\"T_cbffb_row1_col2\" class=\"data row1 col2\" >2.80</td>\n",
       "      <td id=\"T_cbffb_row1_col3\" class=\"data row1 col3\" >-0.71%</td>\n",
       "      <td id=\"T_cbffb_row1_col4\" class=\"data row1 col4\" >Worse</td>\n",
       "      <td id=\"T_cbffb_row1_col5\" class=\"data row1 col5\" >SET999</td>\n",
       "    </tr>\n",
       "    <tr>\n",
       "      <th id=\"T_cbffb_level0_row2\" class=\"row_heading level0 row2\" >0</th>\n",
       "      <td id=\"T_cbffb_row2_col0\" class=\"data row2 col0\" >ASP</td>\n",
       "      <td id=\"T_cbffb_row2_col1\" class=\"data row2 col1\" >2.96</td>\n",
       "      <td id=\"T_cbffb_row2_col2\" class=\"data row2 col2\" >2.98</td>\n",
       "      <td id=\"T_cbffb_row2_col3\" class=\"data row2 col3\" >-0.67%</td>\n",
       "      <td id=\"T_cbffb_row2_col4\" class=\"data row2 col4\" >Worse</td>\n",
       "      <td id=\"T_cbffb_row2_col5\" class=\"data row2 col5\" >SET999</td>\n",
       "    </tr>\n",
       "    <tr>\n",
       "      <th id=\"T_cbffb_level0_row3\" class=\"row_heading level0 row3\" >6</th>\n",
       "      <td id=\"T_cbffb_row3_col0\" class=\"data row3 col0\" >GVREIT</td>\n",
       "      <td id=\"T_cbffb_row3_col1\" class=\"data row3 col1\" >8.95</td>\n",
       "      <td id=\"T_cbffb_row3_col2\" class=\"data row3 col2\" >8.95</td>\n",
       "      <td id=\"T_cbffb_row3_col3\" class=\"data row3 col3\" >0.00%</td>\n",
       "      <td id=\"T_cbffb_row3_col4\" class=\"data row3 col4\" >No Change</td>\n",
       "      <td id=\"T_cbffb_row3_col5\" class=\"data row3 col5\" >SET999</td>\n",
       "    </tr>\n",
       "    <tr>\n",
       "      <th id=\"T_cbffb_level0_row4\" class=\"row_heading level0 row4\" >11</th>\n",
       "      <td id=\"T_cbffb_row4_col0\" class=\"data row4 col0\" >MCS</td>\n",
       "      <td id=\"T_cbffb_row4_col1\" class=\"data row4 col1\" >8.95</td>\n",
       "      <td id=\"T_cbffb_row4_col2\" class=\"data row4 col2\" >8.95</td>\n",
       "      <td id=\"T_cbffb_row4_col3\" class=\"data row4 col3\" >0.00%</td>\n",
       "      <td id=\"T_cbffb_row4_col4\" class=\"data row4 col4\" >No Change</td>\n",
       "      <td id=\"T_cbffb_row4_col5\" class=\"data row4 col5\" >SET999</td>\n",
       "    </tr>\n",
       "    <tr>\n",
       "      <th id=\"T_cbffb_level0_row5\" class=\"row_heading level0 row5\" >12</th>\n",
       "      <td id=\"T_cbffb_row5_col0\" class=\"data row5 col0\" >NER</td>\n",
       "      <td id=\"T_cbffb_row5_col1\" class=\"data row5 col1\" >5.95</td>\n",
       "      <td id=\"T_cbffb_row5_col2\" class=\"data row5 col2\" >5.95</td>\n",
       "      <td id=\"T_cbffb_row5_col3\" class=\"data row5 col3\" >0.00%</td>\n",
       "      <td id=\"T_cbffb_row5_col4\" class=\"data row5 col4\" >No Change</td>\n",
       "      <td id=\"T_cbffb_row5_col5\" class=\"data row5 col5\" >SET999</td>\n",
       "    </tr>\n",
       "    <tr>\n",
       "      <th id=\"T_cbffb_level0_row6\" class=\"row_heading level0 row6\" >18</th>\n",
       "      <td id=\"T_cbffb_row6_col0\" class=\"data row6 col0\" >SENA</td>\n",
       "      <td id=\"T_cbffb_row6_col1\" class=\"data row6 col1\" >3.96</td>\n",
       "      <td id=\"T_cbffb_row6_col2\" class=\"data row6 col2\" >3.96</td>\n",
       "      <td id=\"T_cbffb_row6_col3\" class=\"data row6 col3\" >0.00%</td>\n",
       "      <td id=\"T_cbffb_row6_col4\" class=\"data row6 col4\" >No Change</td>\n",
       "      <td id=\"T_cbffb_row6_col5\" class=\"data row6 col5\" >SET999</td>\n",
       "    </tr>\n",
       "    <tr>\n",
       "      <th id=\"T_cbffb_level0_row7\" class=\"row_heading level0 row7\" >17</th>\n",
       "      <td id=\"T_cbffb_row7_col0\" class=\"data row7 col0\" >SCCC</td>\n",
       "      <td id=\"T_cbffb_row7_col1\" class=\"data row7 col1\" >149.00</td>\n",
       "      <td id=\"T_cbffb_row7_col2\" class=\"data row7 col2\" >148.50</td>\n",
       "      <td id=\"T_cbffb_row7_col3\" class=\"data row7 col3\" >0.34%</td>\n",
       "      <td id=\"T_cbffb_row7_col4\" class=\"data row7 col4\" >Better</td>\n",
       "      <td id=\"T_cbffb_row7_col5\" class=\"data row7 col5\" >SET999</td>\n",
       "    </tr>\n",
       "    <tr>\n",
       "      <th id=\"T_cbffb_level0_row8\" class=\"row_heading level0 row8\" >8</th>\n",
       "      <td id=\"T_cbffb_row8_col0\" class=\"data row8 col0\" >JASIF</td>\n",
       "      <td id=\"T_cbffb_row8_col1\" class=\"data row8 col1\" >8.05</td>\n",
       "      <td id=\"T_cbffb_row8_col2\" class=\"data row8 col2\" >8.00</td>\n",
       "      <td id=\"T_cbffb_row8_col3\" class=\"data row8 col3\" >0.63%</td>\n",
       "      <td id=\"T_cbffb_row8_col4\" class=\"data row8 col4\" >Better</td>\n",
       "      <td id=\"T_cbffb_row8_col5\" class=\"data row8 col5\" >SET999</td>\n",
       "    </tr>\n",
       "    <tr>\n",
       "      <th id=\"T_cbffb_level0_row9\" class=\"row_heading level0 row9\" >25</th>\n",
       "      <td id=\"T_cbffb_row9_col0\" class=\"data row9 col0\" >WHART</td>\n",
       "      <td id=\"T_cbffb_row9_col1\" class=\"data row9 col1\" >10.20</td>\n",
       "      <td id=\"T_cbffb_row9_col2\" class=\"data row9 col2\" >10.10</td>\n",
       "      <td id=\"T_cbffb_row9_col3\" class=\"data row9 col3\" >0.99%</td>\n",
       "      <td id=\"T_cbffb_row9_col4\" class=\"data row9 col4\" >Better</td>\n",
       "      <td id=\"T_cbffb_row9_col5\" class=\"data row9 col5\" >SET999</td>\n",
       "    </tr>\n",
       "    <tr>\n",
       "      <th id=\"T_cbffb_level0_row10\" class=\"row_heading level0 row10\" >22</th>\n",
       "      <td id=\"T_cbffb_row10_col0\" class=\"data row10 col0\" >TFFIF</td>\n",
       "      <td id=\"T_cbffb_row10_col1\" class=\"data row10 col1\" >7.70</td>\n",
       "      <td id=\"T_cbffb_row10_col2\" class=\"data row10 col2\" >7.60</td>\n",
       "      <td id=\"T_cbffb_row10_col3\" class=\"data row10 col3\" >1.32%</td>\n",
       "      <td id=\"T_cbffb_row10_col4\" class=\"data row10 col4\" >Better</td>\n",
       "      <td id=\"T_cbffb_row10_col5\" class=\"data row10 col5\" >SET999</td>\n",
       "    </tr>\n",
       "    <tr>\n",
       "      <th id=\"T_cbffb_level0_row11\" class=\"row_heading level0 row11\" >24</th>\n",
       "      <td id=\"T_cbffb_row11_col0\" class=\"data row11 col0\" >WHAIR</td>\n",
       "      <td id=\"T_cbffb_row11_col1\" class=\"data row11 col1\" >7.30</td>\n",
       "      <td id=\"T_cbffb_row11_col2\" class=\"data row11 col2\" >7.20</td>\n",
       "      <td id=\"T_cbffb_row11_col3\" class=\"data row11 col3\" >1.39%</td>\n",
       "      <td id=\"T_cbffb_row11_col4\" class=\"data row11 col4\" >Better</td>\n",
       "      <td id=\"T_cbffb_row11_col5\" class=\"data row11 col5\" >SET999</td>\n",
       "    </tr>\n",
       "    <tr>\n",
       "      <th id=\"T_cbffb_level0_row12\" class=\"row_heading level0 row12\" >10</th>\n",
       "      <td id=\"T_cbffb_row12_col0\" class=\"data row12 col0\" >MAKRO</td>\n",
       "      <td id=\"T_cbffb_row12_col1\" class=\"data row12 col1\" >38.25</td>\n",
       "      <td id=\"T_cbffb_row12_col2\" class=\"data row12 col2\" >37.50</td>\n",
       "      <td id=\"T_cbffb_row12_col3\" class=\"data row12 col3\" >2.00%</td>\n",
       "      <td id=\"T_cbffb_row12_col4\" class=\"data row12 col4\" >Better</td>\n",
       "      <td id=\"T_cbffb_row12_col5\" class=\"data row12 col5\" >SET999</td>\n",
       "    </tr>\n",
       "    <tr>\n",
       "      <th id=\"T_cbffb_level0_row13\" class=\"row_heading level0 row13\" >23</th>\n",
       "      <td id=\"T_cbffb_row13_col0\" class=\"data row13 col0\" >TMT</td>\n",
       "      <td id=\"T_cbffb_row13_col1\" class=\"data row13 col1\" >7.10</td>\n",
       "      <td id=\"T_cbffb_row13_col2\" class=\"data row13 col2\" >6.95</td>\n",
       "      <td id=\"T_cbffb_row13_col3\" class=\"data row13 col3\" >2.16%</td>\n",
       "      <td id=\"T_cbffb_row13_col4\" class=\"data row13 col4\" >Better</td>\n",
       "      <td id=\"T_cbffb_row13_col5\" class=\"data row13 col5\" >SET999</td>\n",
       "    </tr>\n",
       "    <tr>\n",
       "      <th id=\"T_cbffb_level0_row14\" class=\"row_heading level0 row14\" >2</th>\n",
       "      <td id=\"T_cbffb_row14_col0\" class=\"data row14 col0\" >CPNREIT</td>\n",
       "      <td id=\"T_cbffb_row14_col1\" class=\"data row14 col1\" >19.50</td>\n",
       "      <td id=\"T_cbffb_row14_col2\" class=\"data row14 col2\" >19.00</td>\n",
       "      <td id=\"T_cbffb_row14_col3\" class=\"data row14 col3\" >2.63%</td>\n",
       "      <td id=\"T_cbffb_row14_col4\" class=\"data row14 col4\" >Better</td>\n",
       "      <td id=\"T_cbffb_row14_col5\" class=\"data row14 col5\" >SET999</td>\n",
       "    </tr>\n",
       "  </tbody>\n",
       "</table>\n"
      ],
      "text/plain": [
       "<pandas.io.formats.style.Styler at 0x277227221c0>"
      ]
     },
     "execution_count": 25,
     "metadata": {},
     "output_type": "execute_result"
    }
   ],
   "source": [
    "set999 = trend2.mrkt.str.contains('SET999')\n",
    "flt_set999 = trend2[set999]\n",
    "flt_set999[cols].sort_values(by=['percent','name'],ascending=[True,True]).style.format(format_dict)"
   ]
  },
  {
   "cell_type": "code",
   "execution_count": 26,
   "metadata": {},
   "outputs": [
    {
     "data": {
      "text/html": [
       "<style type=\"text/css\">\n",
       "</style>\n",
       "<table id=\"T_6d25a_\">\n",
       "  <thead>\n",
       "    <tr>\n",
       "      <th class=\"blank level0\" >&nbsp;</th>\n",
       "      <th class=\"col_heading level0 col0\" >perform</th>\n",
       "    </tr>\n",
       "  </thead>\n",
       "  <tbody>\n",
       "    <tr>\n",
       "      <th id=\"T_6d25a_level0_row0\" class=\"row_heading level0 row0\" >Better</th>\n",
       "      <td id=\"T_6d25a_row0_col0\" class=\"data row0 col0\" >53.33%</td>\n",
       "    </tr>\n",
       "    <tr>\n",
       "      <th id=\"T_6d25a_level0_row1\" class=\"row_heading level0 row1\" >No Change</th>\n",
       "      <td id=\"T_6d25a_row1_col0\" class=\"data row1 col0\" >26.67%</td>\n",
       "    </tr>\n",
       "    <tr>\n",
       "      <th id=\"T_6d25a_level0_row2\" class=\"row_heading level0 row2\" >Worse</th>\n",
       "      <td id=\"T_6d25a_row2_col0\" class=\"data row2 col0\" >20.00%</td>\n",
       "    </tr>\n",
       "  </tbody>\n",
       "</table>\n"
      ],
      "text/plain": [
       "<pandas.io.formats.style.Styler at 0x27722706160>"
      ]
     },
     "execution_count": 26,
     "metadata": {},
     "output_type": "execute_result"
    }
   ],
   "source": [
    "flt_set999[cols].perform.value_counts(normalize=True).to_frame().style.format('{:.2%}')"
   ]
  },
  {
   "cell_type": "code",
   "execution_count": 27,
   "metadata": {},
   "outputs": [
    {
     "data": {
      "text/html": [
       "<style type=\"text/css\">\n",
       "</style>\n",
       "<table id=\"T_981e3_\">\n",
       "  <thead>\n",
       "    <tr>\n",
       "      <th class=\"blank level0\" >&nbsp;</th>\n",
       "      <th class=\"col_heading level0 col0\" >name</th>\n",
       "      <th class=\"col_heading level0 col1\" >price_d</th>\n",
       "      <th class=\"col_heading level0 col2\" >price_w</th>\n",
       "      <th class=\"col_heading level0 col3\" >percent</th>\n",
       "      <th class=\"col_heading level0 col4\" >perform</th>\n",
       "      <th class=\"col_heading level0 col5\" >mrkt</th>\n",
       "    </tr>\n",
       "  </thead>\n",
       "  <tbody>\n",
       "  </tbody>\n",
       "</table>\n"
      ],
      "text/plain": [
       "<pandas.io.formats.style.Styler at 0x277226ed8e0>"
      ]
     },
     "execution_count": 27,
     "metadata": {},
     "output_type": "execute_result"
    }
   ],
   "source": [
    "setmai = trend2.mrkt.str.contains('mai')\n",
    "flt_setmai = trend2[setmai]\n",
    "flt_setmai[cols].sort_values(by=['percent','name'],ascending=[True,True]).style.format(format_dict)"
   ]
  },
  {
   "cell_type": "code",
   "execution_count": 28,
   "metadata": {},
   "outputs": [
    {
     "data": {
      "text/html": [
       "<style type=\"text/css\">\n",
       "</style>\n",
       "<table id=\"T_7e78e_\">\n",
       "  <thead>\n",
       "    <tr>\n",
       "      <th class=\"blank level0\" >&nbsp;</th>\n",
       "      <th class=\"col_heading level0 col0\" >perform</th>\n",
       "    </tr>\n",
       "  </thead>\n",
       "  <tbody>\n",
       "  </tbody>\n",
       "</table>\n"
      ],
      "text/plain": [
       "<pandas.io.formats.style.Styler at 0x2771e958c40>"
      ]
     },
     "execution_count": 28,
     "metadata": {},
     "output_type": "execute_result"
    }
   ],
   "source": [
    "flt_setmai[cols].perform.value_counts(normalize=True).to_frame().style.format('{:.2%}')"
   ]
  },
  {
   "cell_type": "code",
   "execution_count": null,
   "metadata": {},
   "outputs": [],
   "source": []
  }
 ],
 "metadata": {
  "anaconda-cloud": {},
  "kernelspec": {
   "display_name": "Python 3 (ipykernel)",
   "language": "python",
   "name": "python3"
  },
  "language_info": {
   "codemirror_mode": {
    "name": "ipython",
    "version": 3
   },
   "file_extension": ".py",
   "mimetype": "text/x-python",
   "name": "python",
   "nbconvert_exporter": "python",
   "pygments_lexer": "ipython3",
   "version": "3.8.11"
  }
 },
 "nbformat": 4,
 "nbformat_minor": 1
}
