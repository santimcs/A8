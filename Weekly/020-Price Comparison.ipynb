{
 "cells": [
  {
   "cell_type": "markdown",
   "metadata": {},
   "source": [
    "### portmy database: stocks table\n",
    "### stock database: buy, price tables"
   ]
  },
  {
   "cell_type": "code",
   "execution_count": 1,
   "metadata": {},
   "outputs": [
    {
     "data": {
      "text/plain": [
       "(datetime.date(2022, 5, 8), '2022-19')"
      ]
     },
     "execution_count": 1,
     "metadata": {},
     "output_type": "execute_result"
    }
   ],
   "source": [
    "import pandas as pd\n",
    "import numpy as np\n",
    "from datetime import date, timedelta\n",
    "from sqlalchemy import create_engine\n",
    "\n",
    "engine = create_engine(\"sqlite:///c:\\\\ruby\\\\portmy\\\\db\\\\development.sqlite3\")\n",
    "conmy = engine.connect()\n",
    "conmy = engine.connect()\n",
    "engine = create_engine(\"mysql+pymysql://root:@localhost:3306/stock\")\n",
    "const = engine.connect()\n",
    "\n",
    "pd.set_option('display.float_format','{:,.2f}'.format)\n",
    "\n",
    "data_path = \"../data/\"\n",
    "csv_path = \"\\\\Users\\\\User\\\\iCloudDrive\\\\\"\n",
    "box_path = \"\\\\Users\\\\User\\\\Dropbox\\\\\"\n",
    "\n",
    "today = date.today()\n",
    "week_str = today.strftime('%Y-%U')\n",
    "today, week_str"
   ]
  },
  {
   "cell_type": "markdown",
   "metadata": {},
   "source": [
    "### Process after last business day, today must be last business day"
   ]
  },
  {
   "cell_type": "code",
   "execution_count": 2,
   "metadata": {},
   "outputs": [
    {
     "data": {
      "text/plain": [
       "(datetime.date(2022, 5, 6), datetime.date(2022, 4, 29))"
      ]
     },
     "execution_count": 2,
     "metadata": {},
     "output_type": "execute_result"
    }
   ],
   "source": [
    "today = today - timedelta(days=2)\n",
    "wkago = today - timedelta(days=7)\n",
    "today, wkago"
   ]
  },
  {
   "cell_type": "markdown",
   "metadata": {},
   "source": [
    "### Restart & Run All Cells"
   ]
  },
  {
   "cell_type": "markdown",
   "metadata": {},
   "source": [
    "### This process affects only already in port stocks. To highlight price changes in percent."
   ]
  },
  {
   "cell_type": "code",
   "execution_count": 3,
   "metadata": {},
   "outputs": [],
   "source": [
    "cols = 'name price_d price_w percent perform mrkt '.split()"
   ]
  },
  {
   "cell_type": "code",
   "execution_count": 4,
   "metadata": {},
   "outputs": [],
   "source": [
    "format_dict = {\n",
    "    'qty':'{:,}',    \n",
    "    'price':'{:.2f}','price_d':'{:.2f}','price_w':'{:.2f}',\n",
    "    'max_price':'{:.2f}','min_price':'{:.2f}',\n",
    "    'maxp':'{:.2f}','minp':'{:.2f}','opnp':'{:.2f}',    \n",
    "    'pct':'{:,.2f}%','percent':'{:,.2f}%',\n",
    "    \n",
    "    'pe':'{:.2f}','pbv':'{:.2f}',\n",
    "    'paid_up':'{:,.2f}','market_cap':'{:,.2f}',\n",
    "    'daily_volume':'{:,.2f}','beta':'{:,.2f}', \n",
    "    'dly_vol':'{:,.2f}', \n",
    "}"
   ]
  },
  {
   "cell_type": "code",
   "execution_count": 5,
   "metadata": {},
   "outputs": [
    {
     "data": {
      "text/html": [
       "<style type=\"text/css\">\n",
       "</style>\n",
       "<table id=\"T_52332_\">\n",
       "  <thead>\n",
       "    <tr>\n",
       "      <th class=\"blank level0\" >&nbsp;</th>\n",
       "      <th class=\"col_heading level0 col0\" >name</th>\n",
       "      <th class=\"col_heading level0 col1\" >date</th>\n",
       "      <th class=\"col_heading level0 col2\" >price</th>\n",
       "    </tr>\n",
       "  </thead>\n",
       "  <tbody>\n",
       "    <tr>\n",
       "      <th id=\"T_52332_level0_row0\" class=\"row_heading level0 row0\" >0</th>\n",
       "      <td id=\"T_52332_row0_col0\" class=\"data row0 col0\" >DCC</td>\n",
       "      <td id=\"T_52332_row0_col1\" class=\"data row0 col1\" >2022-05-05</td>\n",
       "      <td id=\"T_52332_row0_col2\" class=\"data row0 col2\" >2.98</td>\n",
       "    </tr>\n",
       "  </tbody>\n",
       "</table>\n"
      ],
      "text/plain": [
       "<pandas.io.formats.style.Styler at 0x1c4f1a05e80>"
      ]
     },
     "execution_count": 5,
     "metadata": {},
     "output_type": "execute_result"
    }
   ],
   "source": [
    "sql = \"\"\"\n",
    "SELECT name, date, price \n",
    "FROM buy \n",
    "ORDER BY date DESC \n",
    "LIMIT 1\n",
    "\"\"\"\n",
    "df_buy = pd.read_sql(sql, const)\n",
    "df_buy.style.format(format_dict)"
   ]
  },
  {
   "cell_type": "code",
   "execution_count": 6,
   "metadata": {},
   "outputs": [
    {
     "name": "stdout",
     "output_type": "stream",
     "text": [
      "\n",
      "SELECT * FROM stocks WHERE name = 'DCC'\n",
      "\n"
     ]
    },
    {
     "data": {
      "text/html": [
       "<style type=\"text/css\">\n",
       "</style>\n",
       "<table id=\"T_e71d5_\">\n",
       "  <thead>\n",
       "    <tr>\n",
       "      <th class=\"blank level0\" >&nbsp;</th>\n",
       "      <th class=\"col_heading level0 col0\" >id</th>\n",
       "      <th class=\"col_heading level0 col1\" >name</th>\n",
       "      <th class=\"col_heading level0 col2\" >market</th>\n",
       "      <th class=\"col_heading level0 col3\" >price</th>\n",
       "      <th class=\"col_heading level0 col4\" >max_price</th>\n",
       "      <th class=\"col_heading level0 col5\" >min_price</th>\n",
       "      <th class=\"col_heading level0 col6\" >pe</th>\n",
       "      <th class=\"col_heading level0 col7\" >pbv</th>\n",
       "      <th class=\"col_heading level0 col8\" >paid_up</th>\n",
       "      <th class=\"col_heading level0 col9\" >market_cap</th>\n",
       "      <th class=\"col_heading level0 col10\" >daily_volume</th>\n",
       "      <th class=\"col_heading level0 col11\" >beta</th>\n",
       "      <th class=\"col_heading level0 col12\" >ticker_id</th>\n",
       "      <th class=\"col_heading level0 col13\" >created_at</th>\n",
       "      <th class=\"col_heading level0 col14\" >updated_at</th>\n",
       "    </tr>\n",
       "  </thead>\n",
       "  <tbody>\n",
       "    <tr>\n",
       "      <th id=\"T_e71d5_level0_row0\" class=\"row_heading level0 row0\" >0</th>\n",
       "      <td id=\"T_e71d5_row0_col0\" class=\"data row0 col0\" >135</td>\n",
       "      <td id=\"T_e71d5_row0_col1\" class=\"data row0 col1\" >DCC</td>\n",
       "      <td id=\"T_e71d5_row0_col2\" class=\"data row0 col2\" >SET    </td>\n",
       "      <td id=\"T_e71d5_row0_col3\" class=\"data row0 col3\" >3.06</td>\n",
       "      <td id=\"T_e71d5_row0_col4\" class=\"data row0 col4\" >3.40</td>\n",
       "      <td id=\"T_e71d5_row0_col5\" class=\"data row0 col5\" >2.74</td>\n",
       "      <td id=\"T_e71d5_row0_col6\" class=\"data row0 col6\" >16.42</td>\n",
       "      <td id=\"T_e71d5_row0_col7\" class=\"data row0 col7\" >4.82</td>\n",
       "      <td id=\"T_e71d5_row0_col8\" class=\"data row0 col8\" >912.56</td>\n",
       "      <td id=\"T_e71d5_row0_col9\" class=\"data row0 col9\" >27,924.37</td>\n",
       "      <td id=\"T_e71d5_row0_col10\" class=\"data row0 col10\" >37.63</td>\n",
       "      <td id=\"T_e71d5_row0_col11\" class=\"data row0 col11\" >0.46</td>\n",
       "      <td id=\"T_e71d5_row0_col12\" class=\"data row0 col12\" >135</td>\n",
       "      <td id=\"T_e71d5_row0_col13\" class=\"data row0 col13\" >2017-07-23 07:24:36.765074</td>\n",
       "      <td id=\"T_e71d5_row0_col14\" class=\"data row0 col14\" >2022-04-23 07:59:16.467763</td>\n",
       "    </tr>\n",
       "  </tbody>\n",
       "</table>\n"
      ],
      "text/plain": [
       "<pandas.io.formats.style.Styler at 0x1c4f5658ac0>"
      ]
     },
     "execution_count": 6,
     "metadata": {},
     "output_type": "execute_result"
    }
   ],
   "source": [
    "names = df_buy['name']\n",
    "name = names.to_string(index=False)\n",
    "\n",
    "sql = '''\n",
    "SELECT * FROM stocks WHERE name = '%s'\n",
    "'''\n",
    "sql = sql % name\n",
    "print(sql)\n",
    "\n",
    "df_stocks = pd.read_sql(sql, conmy)\n",
    "df_stocks.style.format(format_dict) "
   ]
  },
  {
   "cell_type": "code",
   "execution_count": 7,
   "metadata": {},
   "outputs": [
    {
     "name": "stdout",
     "output_type": "stream",
     "text": [
      "\n",
      "SELECT * FROM price WHERE name = \"DCC\" ORDER BY date DESC LIMIT 5\n",
      "\n"
     ]
    },
    {
     "data": {
      "text/html": [
       "<style type=\"text/css\">\n",
       "</style>\n",
       "<table id=\"T_acb31_\">\n",
       "  <thead>\n",
       "    <tr>\n",
       "      <th class=\"blank level0\" >&nbsp;</th>\n",
       "      <th class=\"col_heading level0 col0\" >name</th>\n",
       "      <th class=\"col_heading level0 col1\" >date</th>\n",
       "      <th class=\"col_heading level0 col2\" >price</th>\n",
       "      <th class=\"col_heading level0 col3\" >maxp</th>\n",
       "      <th class=\"col_heading level0 col4\" >minp</th>\n",
       "      <th class=\"col_heading level0 col5\" >qty</th>\n",
       "      <th class=\"col_heading level0 col6\" >opnp</th>\n",
       "    </tr>\n",
       "  </thead>\n",
       "  <tbody>\n",
       "    <tr>\n",
       "      <th id=\"T_acb31_level0_row0\" class=\"row_heading level0 row0\" >0</th>\n",
       "      <td id=\"T_acb31_row0_col0\" class=\"data row0 col0\" >DCC</td>\n",
       "      <td id=\"T_acb31_row0_col1\" class=\"data row0 col1\" >2022-05-06</td>\n",
       "      <td id=\"T_acb31_row0_col2\" class=\"data row0 col2\" >2.96</td>\n",
       "      <td id=\"T_acb31_row0_col3\" class=\"data row0 col3\" >3.00</td>\n",
       "      <td id=\"T_acb31_row0_col4\" class=\"data row0 col4\" >2.94</td>\n",
       "      <td id=\"T_acb31_row0_col5\" class=\"data row0 col5\" >44,732,677</td>\n",
       "      <td id=\"T_acb31_row0_col6\" class=\"data row0 col6\" >2.98</td>\n",
       "    </tr>\n",
       "    <tr>\n",
       "      <th id=\"T_acb31_level0_row1\" class=\"row_heading level0 row1\" >1</th>\n",
       "      <td id=\"T_acb31_row1_col0\" class=\"data row1 col0\" >DCC</td>\n",
       "      <td id=\"T_acb31_row1_col1\" class=\"data row1 col1\" >2022-05-05</td>\n",
       "      <td id=\"T_acb31_row1_col2\" class=\"data row1 col2\" >3.00</td>\n",
       "      <td id=\"T_acb31_row1_col3\" class=\"data row1 col3\" >3.04</td>\n",
       "      <td id=\"T_acb31_row1_col4\" class=\"data row1 col4\" >2.98</td>\n",
       "      <td id=\"T_acb31_row1_col5\" class=\"data row1 col5\" >20,755,902</td>\n",
       "      <td id=\"T_acb31_row1_col6\" class=\"data row1 col6\" >2.98</td>\n",
       "    </tr>\n",
       "    <tr>\n",
       "      <th id=\"T_acb31_level0_row2\" class=\"row_heading level0 row2\" >2</th>\n",
       "      <td id=\"T_acb31_row2_col0\" class=\"data row2 col0\" >DCC</td>\n",
       "      <td id=\"T_acb31_row2_col1\" class=\"data row2 col1\" >2022-05-03</td>\n",
       "      <td id=\"T_acb31_row2_col2\" class=\"data row2 col2\" >2.98</td>\n",
       "      <td id=\"T_acb31_row2_col3\" class=\"data row2 col3\" >3.06</td>\n",
       "      <td id=\"T_acb31_row2_col4\" class=\"data row2 col4\" >2.98</td>\n",
       "      <td id=\"T_acb31_row2_col5\" class=\"data row2 col5\" >47,793,265</td>\n",
       "      <td id=\"T_acb31_row2_col6\" class=\"data row2 col6\" >3.06</td>\n",
       "    </tr>\n",
       "    <tr>\n",
       "      <th id=\"T_acb31_level0_row3\" class=\"row_heading level0 row3\" >3</th>\n",
       "      <td id=\"T_acb31_row3_col0\" class=\"data row3 col0\" >DCC</td>\n",
       "      <td id=\"T_acb31_row3_col1\" class=\"data row3 col1\" >2022-04-29</td>\n",
       "      <td id=\"T_acb31_row3_col2\" class=\"data row3 col2\" >3.06</td>\n",
       "      <td id=\"T_acb31_row3_col3\" class=\"data row3 col3\" >3.08</td>\n",
       "      <td id=\"T_acb31_row3_col4\" class=\"data row3 col4\" >3.04</td>\n",
       "      <td id=\"T_acb31_row3_col5\" class=\"data row3 col5\" >16,948,396</td>\n",
       "      <td id=\"T_acb31_row3_col6\" class=\"data row3 col6\" >3.06</td>\n",
       "    </tr>\n",
       "    <tr>\n",
       "      <th id=\"T_acb31_level0_row4\" class=\"row_heading level0 row4\" >4</th>\n",
       "      <td id=\"T_acb31_row4_col0\" class=\"data row4 col0\" >DCC</td>\n",
       "      <td id=\"T_acb31_row4_col1\" class=\"data row4 col1\" >2022-04-28</td>\n",
       "      <td id=\"T_acb31_row4_col2\" class=\"data row4 col2\" >3.06</td>\n",
       "      <td id=\"T_acb31_row4_col3\" class=\"data row4 col3\" >3.08</td>\n",
       "      <td id=\"T_acb31_row4_col4\" class=\"data row4 col4\" >3.04</td>\n",
       "      <td id=\"T_acb31_row4_col5\" class=\"data row4 col5\" >21,365,087</td>\n",
       "      <td id=\"T_acb31_row4_col6\" class=\"data row4 col6\" >3.06</td>\n",
       "    </tr>\n",
       "  </tbody>\n",
       "</table>\n"
      ],
      "text/plain": [
       "<pandas.io.formats.style.Styler at 0x1c4f56a3970>"
      ]
     },
     "execution_count": 7,
     "metadata": {},
     "output_type": "execute_result"
    }
   ],
   "source": [
    "sql = '''\n",
    "SELECT * FROM price WHERE name = \"%s\" ORDER BY date DESC LIMIT 5\n",
    "'''\n",
    "sql = sql % name\n",
    "print(sql)\n",
    "\n",
    "df_price = pd.read_sql(sql, const)\n",
    "df_price.style.format(format_dict)"
   ]
  },
  {
   "cell_type": "code",
   "execution_count": 8,
   "metadata": {},
   "outputs": [
    {
     "name": "stdout",
     "output_type": "stream",
     "text": [
      "\n",
      "SELECT name, price AS price_d \n",
      "FROM price \n",
      "WHERE date = '2022-05-06' AND name IN ('ASP', 'BCH', 'DCC', 'DIF', 'DOHOME', 'HREIT', 'IP', 'JASIF', 'KCE', 'MAKRO', 'MCS', 'NER', 'ORI', 'PTT', 'PTTGC', 'RATCH', 'RCL', 'RJH', 'SCC', 'SCCC', 'SENA', 'SPALI', 'STA', 'SYNEX', 'TISCO', 'TMT', 'TPIPL', 'WHART')\n",
      "ORDER BY name, date\n"
     ]
    },
    {
     "data": {
      "text/plain": [
       "28"
      ]
     },
     "execution_count": 8,
     "metadata": {},
     "output_type": "execute_result"
    }
   ],
   "source": [
    "sql = '''\n",
    "SELECT name\n",
    "FROM buy \n",
    "WHERE active = 1\n",
    "ORDER BY name'''\n",
    "df_price = pd.read_sql(sql, const)\n",
    "\n",
    "names = df_price.name.tolist()\n",
    "in_p = \", \".join(map(lambda name: \"'%s'\" % name, names))\n",
    "\n",
    "sql = \"\"\"\n",
    "SELECT name, price AS price_d \n",
    "FROM price \n",
    "WHERE date = '%s' AND name IN (%s)\n",
    "ORDER BY name, date\"\"\"\n",
    "sql = sql % (today, in_p)\n",
    "print(sql)\n",
    "\n",
    "df_today = pd.read_sql(sql, const)\n",
    "df_today.shape[0]"
   ]
  },
  {
   "cell_type": "code",
   "execution_count": 9,
   "metadata": {},
   "outputs": [
    {
     "name": "stdout",
     "output_type": "stream",
     "text": [
      "\n",
      "SELECT name, price AS price_w\n",
      "FROM price \n",
      "WHERE date = '2022-04-29' AND name IN ('ASP', 'BCH', 'DCC', 'DIF', 'DOHOME', 'HREIT', 'IP', 'JASIF', 'KCE', 'MAKRO', 'MCS', 'NER', 'ORI', 'PTT', 'PTTGC', 'RATCH', 'RCL', 'RJH', 'SCC', 'SCCC', 'SENA', 'SPALI', 'STA', 'SYNEX', 'TISCO', 'TMT', 'TPIPL', 'WHART') \n",
      "ORDER BY name\n"
     ]
    },
    {
     "data": {
      "text/plain": [
       "28"
      ]
     },
     "execution_count": 9,
     "metadata": {},
     "output_type": "execute_result"
    }
   ],
   "source": [
    "sql = \"\"\"\n",
    "SELECT name, price AS price_w\n",
    "FROM price \n",
    "WHERE date = '%s' AND name IN (%s) \n",
    "ORDER BY name\"\"\"\n",
    "sql = sql % (wkago, in_p)\n",
    "print(sql)\n",
    "\n",
    "df_wkago = pd.read_sql(sql, const)\n",
    "df_wkago.shape[0]"
   ]
  },
  {
   "cell_type": "code",
   "execution_count": 10,
   "metadata": {},
   "outputs": [
    {
     "data": {
      "text/plain": [
       "(28, 3)"
      ]
     },
     "execution_count": 10,
     "metadata": {},
     "output_type": "execute_result"
    }
   ],
   "source": [
    "trend = pd.merge(df_today, df_wkago, on='name',how='inner')\n",
    "trend.shape"
   ]
  },
  {
   "cell_type": "code",
   "execution_count": 11,
   "metadata": {},
   "outputs": [],
   "source": [
    "def performance(vals):\n",
    "    price_d, price_w = vals\n",
    "    if (price_d > price_w):\n",
    "        return 'Better'\n",
    "    elif (price_d < price_w):\n",
    "        return 'Worse'\n",
    "    else:\n",
    "        return 'No Change'"
   ]
  },
  {
   "cell_type": "code",
   "execution_count": 12,
   "metadata": {},
   "outputs": [],
   "source": [
    "trend['percent'] = (trend.price_d-trend.price_w)/trend.price_w * 100"
   ]
  },
  {
   "cell_type": "code",
   "execution_count": 13,
   "metadata": {},
   "outputs": [
    {
     "data": {
      "text/html": [
       "<div>\n",
       "<style scoped>\n",
       "    .dataframe tbody tr th:only-of-type {\n",
       "        vertical-align: middle;\n",
       "    }\n",
       "\n",
       "    .dataframe tbody tr th {\n",
       "        vertical-align: top;\n",
       "    }\n",
       "\n",
       "    .dataframe thead th {\n",
       "        text-align: right;\n",
       "    }\n",
       "</style>\n",
       "<table border=\"1\" class=\"dataframe\">\n",
       "  <thead>\n",
       "    <tr style=\"text-align: right;\">\n",
       "      <th></th>\n",
       "      <th>name</th>\n",
       "      <th>price_d</th>\n",
       "      <th>price_w</th>\n",
       "      <th>percent</th>\n",
       "    </tr>\n",
       "  </thead>\n",
       "  <tbody>\n",
       "    <tr>\n",
       "      <th>0</th>\n",
       "      <td>ASP</td>\n",
       "      <td>3.22</td>\n",
       "      <td>3.38</td>\n",
       "      <td>-4.73</td>\n",
       "    </tr>\n",
       "    <tr>\n",
       "      <th>1</th>\n",
       "      <td>BCH</td>\n",
       "      <td>21.20</td>\n",
       "      <td>21.50</td>\n",
       "      <td>-1.40</td>\n",
       "    </tr>\n",
       "    <tr>\n",
       "      <th>2</th>\n",
       "      <td>DCC</td>\n",
       "      <td>2.96</td>\n",
       "      <td>3.06</td>\n",
       "      <td>-3.27</td>\n",
       "    </tr>\n",
       "    <tr>\n",
       "      <th>3</th>\n",
       "      <td>DIF</td>\n",
       "      <td>14.10</td>\n",
       "      <td>14.10</td>\n",
       "      <td>0.00</td>\n",
       "    </tr>\n",
       "    <tr>\n",
       "      <th>4</th>\n",
       "      <td>DOHOME</td>\n",
       "      <td>19.70</td>\n",
       "      <td>20.10</td>\n",
       "      <td>-1.99</td>\n",
       "    </tr>\n",
       "    <tr>\n",
       "      <th>5</th>\n",
       "      <td>HREIT</td>\n",
       "      <td>8.45</td>\n",
       "      <td>8.50</td>\n",
       "      <td>-0.59</td>\n",
       "    </tr>\n",
       "    <tr>\n",
       "      <th>6</th>\n",
       "      <td>IP</td>\n",
       "      <td>19.40</td>\n",
       "      <td>19.60</td>\n",
       "      <td>-1.02</td>\n",
       "    </tr>\n",
       "    <tr>\n",
       "      <th>7</th>\n",
       "      <td>JASIF</td>\n",
       "      <td>11.00</td>\n",
       "      <td>11.00</td>\n",
       "      <td>0.00</td>\n",
       "    </tr>\n",
       "    <tr>\n",
       "      <th>8</th>\n",
       "      <td>KCE</td>\n",
       "      <td>61.25</td>\n",
       "      <td>61.50</td>\n",
       "      <td>-0.41</td>\n",
       "    </tr>\n",
       "    <tr>\n",
       "      <th>9</th>\n",
       "      <td>MAKRO</td>\n",
       "      <td>36.50</td>\n",
       "      <td>37.50</td>\n",
       "      <td>-2.67</td>\n",
       "    </tr>\n",
       "    <tr>\n",
       "      <th>10</th>\n",
       "      <td>MCS</td>\n",
       "      <td>12.80</td>\n",
       "      <td>12.30</td>\n",
       "      <td>4.07</td>\n",
       "    </tr>\n",
       "    <tr>\n",
       "      <th>11</th>\n",
       "      <td>NER</td>\n",
       "      <td>6.65</td>\n",
       "      <td>6.75</td>\n",
       "      <td>-1.48</td>\n",
       "    </tr>\n",
       "    <tr>\n",
       "      <th>12</th>\n",
       "      <td>ORI</td>\n",
       "      <td>10.70</td>\n",
       "      <td>11.00</td>\n",
       "      <td>-2.73</td>\n",
       "    </tr>\n",
       "    <tr>\n",
       "      <th>13</th>\n",
       "      <td>PTT</td>\n",
       "      <td>37.25</td>\n",
       "      <td>37.50</td>\n",
       "      <td>-0.67</td>\n",
       "    </tr>\n",
       "    <tr>\n",
       "      <th>14</th>\n",
       "      <td>PTTGC</td>\n",
       "      <td>49.50</td>\n",
       "      <td>50.00</td>\n",
       "      <td>-1.00</td>\n",
       "    </tr>\n",
       "    <tr>\n",
       "      <th>15</th>\n",
       "      <td>RATCH</td>\n",
       "      <td>41.75</td>\n",
       "      <td>44.00</td>\n",
       "      <td>-5.11</td>\n",
       "    </tr>\n",
       "    <tr>\n",
       "      <th>16</th>\n",
       "      <td>RCL</td>\n",
       "      <td>43.00</td>\n",
       "      <td>44.75</td>\n",
       "      <td>-3.91</td>\n",
       "    </tr>\n",
       "    <tr>\n",
       "      <th>17</th>\n",
       "      <td>RJH</td>\n",
       "      <td>33.75</td>\n",
       "      <td>33.50</td>\n",
       "      <td>0.75</td>\n",
       "    </tr>\n",
       "    <tr>\n",
       "      <th>18</th>\n",
       "      <td>SCC</td>\n",
       "      <td>368.00</td>\n",
       "      <td>370.00</td>\n",
       "      <td>-0.54</td>\n",
       "    </tr>\n",
       "    <tr>\n",
       "      <th>19</th>\n",
       "      <td>SCCC</td>\n",
       "      <td>151.00</td>\n",
       "      <td>152.00</td>\n",
       "      <td>-0.66</td>\n",
       "    </tr>\n",
       "    <tr>\n",
       "      <th>20</th>\n",
       "      <td>SENA</td>\n",
       "      <td>4.34</td>\n",
       "      <td>4.46</td>\n",
       "      <td>-2.69</td>\n",
       "    </tr>\n",
       "    <tr>\n",
       "      <th>21</th>\n",
       "      <td>SPALI</td>\n",
       "      <td>21.60</td>\n",
       "      <td>21.90</td>\n",
       "      <td>-1.37</td>\n",
       "    </tr>\n",
       "    <tr>\n",
       "      <th>22</th>\n",
       "      <td>STA</td>\n",
       "      <td>21.80</td>\n",
       "      <td>25.25</td>\n",
       "      <td>-13.66</td>\n",
       "    </tr>\n",
       "    <tr>\n",
       "      <th>23</th>\n",
       "      <td>SYNEX</td>\n",
       "      <td>23.00</td>\n",
       "      <td>24.20</td>\n",
       "      <td>-4.96</td>\n",
       "    </tr>\n",
       "    <tr>\n",
       "      <th>24</th>\n",
       "      <td>TISCO</td>\n",
       "      <td>90.25</td>\n",
       "      <td>90.75</td>\n",
       "      <td>-0.55</td>\n",
       "    </tr>\n",
       "    <tr>\n",
       "      <th>25</th>\n",
       "      <td>TMT</td>\n",
       "      <td>10.00</td>\n",
       "      <td>10.10</td>\n",
       "      <td>-0.99</td>\n",
       "    </tr>\n",
       "    <tr>\n",
       "      <th>26</th>\n",
       "      <td>TPIPL</td>\n",
       "      <td>1.48</td>\n",
       "      <td>1.50</td>\n",
       "      <td>-1.33</td>\n",
       "    </tr>\n",
       "    <tr>\n",
       "      <th>27</th>\n",
       "      <td>WHART</td>\n",
       "      <td>10.50</td>\n",
       "      <td>10.90</td>\n",
       "      <td>-3.67</td>\n",
       "    </tr>\n",
       "  </tbody>\n",
       "</table>\n",
       "</div>"
      ],
      "text/plain": [
       "      name  price_d  price_w  percent\n",
       "0      ASP     3.22     3.38    -4.73\n",
       "1      BCH    21.20    21.50    -1.40\n",
       "2      DCC     2.96     3.06    -3.27\n",
       "3      DIF    14.10    14.10     0.00\n",
       "4   DOHOME    19.70    20.10    -1.99\n",
       "5    HREIT     8.45     8.50    -0.59\n",
       "6       IP    19.40    19.60    -1.02\n",
       "7    JASIF    11.00    11.00     0.00\n",
       "8      KCE    61.25    61.50    -0.41\n",
       "9    MAKRO    36.50    37.50    -2.67\n",
       "10     MCS    12.80    12.30     4.07\n",
       "11     NER     6.65     6.75    -1.48\n",
       "12     ORI    10.70    11.00    -2.73\n",
       "13     PTT    37.25    37.50    -0.67\n",
       "14   PTTGC    49.50    50.00    -1.00\n",
       "15   RATCH    41.75    44.00    -5.11\n",
       "16     RCL    43.00    44.75    -3.91\n",
       "17     RJH    33.75    33.50     0.75\n",
       "18     SCC   368.00   370.00    -0.54\n",
       "19    SCCC   151.00   152.00    -0.66\n",
       "20    SENA     4.34     4.46    -2.69\n",
       "21   SPALI    21.60    21.90    -1.37\n",
       "22     STA    21.80    25.25   -13.66\n",
       "23   SYNEX    23.00    24.20    -4.96\n",
       "24   TISCO    90.25    90.75    -0.55\n",
       "25     TMT    10.00    10.10    -0.99\n",
       "26   TPIPL     1.48     1.50    -1.33\n",
       "27   WHART    10.50    10.90    -3.67"
      ]
     },
     "execution_count": 13,
     "metadata": {},
     "output_type": "execute_result"
    }
   ],
   "source": [
    "trend"
   ]
  },
  {
   "cell_type": "code",
   "execution_count": 14,
   "metadata": {},
   "outputs": [],
   "source": [
    "trend[\"perform\"] = trend[[\"price_d\",\"price_w\"]].apply(performance, axis=1)"
   ]
  },
  {
   "cell_type": "code",
   "execution_count": 15,
   "metadata": {},
   "outputs": [
    {
     "data": {
      "text/html": [
       "<style type=\"text/css\">\n",
       "</style>\n",
       "<table id=\"T_31796_\">\n",
       "  <thead>\n",
       "    <tr>\n",
       "      <th class=\"blank level0\" >&nbsp;</th>\n",
       "      <th class=\"col_heading level0 col0\" >name</th>\n",
       "      <th class=\"col_heading level0 col1\" >price_d</th>\n",
       "      <th class=\"col_heading level0 col2\" >price_w</th>\n",
       "      <th class=\"col_heading level0 col3\" >percent</th>\n",
       "      <th class=\"col_heading level0 col4\" >perform</th>\n",
       "    </tr>\n",
       "  </thead>\n",
       "  <tbody>\n",
       "    <tr>\n",
       "      <th id=\"T_31796_level0_row0\" class=\"row_heading level0 row0\" >22</th>\n",
       "      <td id=\"T_31796_row0_col0\" class=\"data row0 col0\" >STA</td>\n",
       "      <td id=\"T_31796_row0_col1\" class=\"data row0 col1\" >21.80</td>\n",
       "      <td id=\"T_31796_row0_col2\" class=\"data row0 col2\" >25.25</td>\n",
       "      <td id=\"T_31796_row0_col3\" class=\"data row0 col3\" >-13.66%</td>\n",
       "      <td id=\"T_31796_row0_col4\" class=\"data row0 col4\" >Worse</td>\n",
       "    </tr>\n",
       "    <tr>\n",
       "      <th id=\"T_31796_level0_row1\" class=\"row_heading level0 row1\" >15</th>\n",
       "      <td id=\"T_31796_row1_col0\" class=\"data row1 col0\" >RATCH</td>\n",
       "      <td id=\"T_31796_row1_col1\" class=\"data row1 col1\" >41.75</td>\n",
       "      <td id=\"T_31796_row1_col2\" class=\"data row1 col2\" >44.00</td>\n",
       "      <td id=\"T_31796_row1_col3\" class=\"data row1 col3\" >-5.11%</td>\n",
       "      <td id=\"T_31796_row1_col4\" class=\"data row1 col4\" >Worse</td>\n",
       "    </tr>\n",
       "    <tr>\n",
       "      <th id=\"T_31796_level0_row2\" class=\"row_heading level0 row2\" >23</th>\n",
       "      <td id=\"T_31796_row2_col0\" class=\"data row2 col0\" >SYNEX</td>\n",
       "      <td id=\"T_31796_row2_col1\" class=\"data row2 col1\" >23.00</td>\n",
       "      <td id=\"T_31796_row2_col2\" class=\"data row2 col2\" >24.20</td>\n",
       "      <td id=\"T_31796_row2_col3\" class=\"data row2 col3\" >-4.96%</td>\n",
       "      <td id=\"T_31796_row2_col4\" class=\"data row2 col4\" >Worse</td>\n",
       "    </tr>\n",
       "    <tr>\n",
       "      <th id=\"T_31796_level0_row3\" class=\"row_heading level0 row3\" >0</th>\n",
       "      <td id=\"T_31796_row3_col0\" class=\"data row3 col0\" >ASP</td>\n",
       "      <td id=\"T_31796_row3_col1\" class=\"data row3 col1\" >3.22</td>\n",
       "      <td id=\"T_31796_row3_col2\" class=\"data row3 col2\" >3.38</td>\n",
       "      <td id=\"T_31796_row3_col3\" class=\"data row3 col3\" >-4.73%</td>\n",
       "      <td id=\"T_31796_row3_col4\" class=\"data row3 col4\" >Worse</td>\n",
       "    </tr>\n",
       "    <tr>\n",
       "      <th id=\"T_31796_level0_row4\" class=\"row_heading level0 row4\" >16</th>\n",
       "      <td id=\"T_31796_row4_col0\" class=\"data row4 col0\" >RCL</td>\n",
       "      <td id=\"T_31796_row4_col1\" class=\"data row4 col1\" >43.00</td>\n",
       "      <td id=\"T_31796_row4_col2\" class=\"data row4 col2\" >44.75</td>\n",
       "      <td id=\"T_31796_row4_col3\" class=\"data row4 col3\" >-3.91%</td>\n",
       "      <td id=\"T_31796_row4_col4\" class=\"data row4 col4\" >Worse</td>\n",
       "    </tr>\n",
       "    <tr>\n",
       "      <th id=\"T_31796_level0_row5\" class=\"row_heading level0 row5\" >27</th>\n",
       "      <td id=\"T_31796_row5_col0\" class=\"data row5 col0\" >WHART</td>\n",
       "      <td id=\"T_31796_row5_col1\" class=\"data row5 col1\" >10.50</td>\n",
       "      <td id=\"T_31796_row5_col2\" class=\"data row5 col2\" >10.90</td>\n",
       "      <td id=\"T_31796_row5_col3\" class=\"data row5 col3\" >-3.67%</td>\n",
       "      <td id=\"T_31796_row5_col4\" class=\"data row5 col4\" >Worse</td>\n",
       "    </tr>\n",
       "    <tr>\n",
       "      <th id=\"T_31796_level0_row6\" class=\"row_heading level0 row6\" >2</th>\n",
       "      <td id=\"T_31796_row6_col0\" class=\"data row6 col0\" >DCC</td>\n",
       "      <td id=\"T_31796_row6_col1\" class=\"data row6 col1\" >2.96</td>\n",
       "      <td id=\"T_31796_row6_col2\" class=\"data row6 col2\" >3.06</td>\n",
       "      <td id=\"T_31796_row6_col3\" class=\"data row6 col3\" >-3.27%</td>\n",
       "      <td id=\"T_31796_row6_col4\" class=\"data row6 col4\" >Worse</td>\n",
       "    </tr>\n",
       "    <tr>\n",
       "      <th id=\"T_31796_level0_row7\" class=\"row_heading level0 row7\" >12</th>\n",
       "      <td id=\"T_31796_row7_col0\" class=\"data row7 col0\" >ORI</td>\n",
       "      <td id=\"T_31796_row7_col1\" class=\"data row7 col1\" >10.70</td>\n",
       "      <td id=\"T_31796_row7_col2\" class=\"data row7 col2\" >11.00</td>\n",
       "      <td id=\"T_31796_row7_col3\" class=\"data row7 col3\" >-2.73%</td>\n",
       "      <td id=\"T_31796_row7_col4\" class=\"data row7 col4\" >Worse</td>\n",
       "    </tr>\n",
       "    <tr>\n",
       "      <th id=\"T_31796_level0_row8\" class=\"row_heading level0 row8\" >20</th>\n",
       "      <td id=\"T_31796_row8_col0\" class=\"data row8 col0\" >SENA</td>\n",
       "      <td id=\"T_31796_row8_col1\" class=\"data row8 col1\" >4.34</td>\n",
       "      <td id=\"T_31796_row8_col2\" class=\"data row8 col2\" >4.46</td>\n",
       "      <td id=\"T_31796_row8_col3\" class=\"data row8 col3\" >-2.69%</td>\n",
       "      <td id=\"T_31796_row8_col4\" class=\"data row8 col4\" >Worse</td>\n",
       "    </tr>\n",
       "    <tr>\n",
       "      <th id=\"T_31796_level0_row9\" class=\"row_heading level0 row9\" >9</th>\n",
       "      <td id=\"T_31796_row9_col0\" class=\"data row9 col0\" >MAKRO</td>\n",
       "      <td id=\"T_31796_row9_col1\" class=\"data row9 col1\" >36.50</td>\n",
       "      <td id=\"T_31796_row9_col2\" class=\"data row9 col2\" >37.50</td>\n",
       "      <td id=\"T_31796_row9_col3\" class=\"data row9 col3\" >-2.67%</td>\n",
       "      <td id=\"T_31796_row9_col4\" class=\"data row9 col4\" >Worse</td>\n",
       "    </tr>\n",
       "    <tr>\n",
       "      <th id=\"T_31796_level0_row10\" class=\"row_heading level0 row10\" >4</th>\n",
       "      <td id=\"T_31796_row10_col0\" class=\"data row10 col0\" >DOHOME</td>\n",
       "      <td id=\"T_31796_row10_col1\" class=\"data row10 col1\" >19.70</td>\n",
       "      <td id=\"T_31796_row10_col2\" class=\"data row10 col2\" >20.10</td>\n",
       "      <td id=\"T_31796_row10_col3\" class=\"data row10 col3\" >-1.99%</td>\n",
       "      <td id=\"T_31796_row10_col4\" class=\"data row10 col4\" >Worse</td>\n",
       "    </tr>\n",
       "    <tr>\n",
       "      <th id=\"T_31796_level0_row11\" class=\"row_heading level0 row11\" >11</th>\n",
       "      <td id=\"T_31796_row11_col0\" class=\"data row11 col0\" >NER</td>\n",
       "      <td id=\"T_31796_row11_col1\" class=\"data row11 col1\" >6.65</td>\n",
       "      <td id=\"T_31796_row11_col2\" class=\"data row11 col2\" >6.75</td>\n",
       "      <td id=\"T_31796_row11_col3\" class=\"data row11 col3\" >-1.48%</td>\n",
       "      <td id=\"T_31796_row11_col4\" class=\"data row11 col4\" >Worse</td>\n",
       "    </tr>\n",
       "    <tr>\n",
       "      <th id=\"T_31796_level0_row12\" class=\"row_heading level0 row12\" >1</th>\n",
       "      <td id=\"T_31796_row12_col0\" class=\"data row12 col0\" >BCH</td>\n",
       "      <td id=\"T_31796_row12_col1\" class=\"data row12 col1\" >21.20</td>\n",
       "      <td id=\"T_31796_row12_col2\" class=\"data row12 col2\" >21.50</td>\n",
       "      <td id=\"T_31796_row12_col3\" class=\"data row12 col3\" >-1.40%</td>\n",
       "      <td id=\"T_31796_row12_col4\" class=\"data row12 col4\" >Worse</td>\n",
       "    </tr>\n",
       "    <tr>\n",
       "      <th id=\"T_31796_level0_row13\" class=\"row_heading level0 row13\" >21</th>\n",
       "      <td id=\"T_31796_row13_col0\" class=\"data row13 col0\" >SPALI</td>\n",
       "      <td id=\"T_31796_row13_col1\" class=\"data row13 col1\" >21.60</td>\n",
       "      <td id=\"T_31796_row13_col2\" class=\"data row13 col2\" >21.90</td>\n",
       "      <td id=\"T_31796_row13_col3\" class=\"data row13 col3\" >-1.37%</td>\n",
       "      <td id=\"T_31796_row13_col4\" class=\"data row13 col4\" >Worse</td>\n",
       "    </tr>\n",
       "    <tr>\n",
       "      <th id=\"T_31796_level0_row14\" class=\"row_heading level0 row14\" >26</th>\n",
       "      <td id=\"T_31796_row14_col0\" class=\"data row14 col0\" >TPIPL</td>\n",
       "      <td id=\"T_31796_row14_col1\" class=\"data row14 col1\" >1.48</td>\n",
       "      <td id=\"T_31796_row14_col2\" class=\"data row14 col2\" >1.50</td>\n",
       "      <td id=\"T_31796_row14_col3\" class=\"data row14 col3\" >-1.33%</td>\n",
       "      <td id=\"T_31796_row14_col4\" class=\"data row14 col4\" >Worse</td>\n",
       "    </tr>\n",
       "    <tr>\n",
       "      <th id=\"T_31796_level0_row15\" class=\"row_heading level0 row15\" >6</th>\n",
       "      <td id=\"T_31796_row15_col0\" class=\"data row15 col0\" >IP</td>\n",
       "      <td id=\"T_31796_row15_col1\" class=\"data row15 col1\" >19.40</td>\n",
       "      <td id=\"T_31796_row15_col2\" class=\"data row15 col2\" >19.60</td>\n",
       "      <td id=\"T_31796_row15_col3\" class=\"data row15 col3\" >-1.02%</td>\n",
       "      <td id=\"T_31796_row15_col4\" class=\"data row15 col4\" >Worse</td>\n",
       "    </tr>\n",
       "    <tr>\n",
       "      <th id=\"T_31796_level0_row16\" class=\"row_heading level0 row16\" >14</th>\n",
       "      <td id=\"T_31796_row16_col0\" class=\"data row16 col0\" >PTTGC</td>\n",
       "      <td id=\"T_31796_row16_col1\" class=\"data row16 col1\" >49.50</td>\n",
       "      <td id=\"T_31796_row16_col2\" class=\"data row16 col2\" >50.00</td>\n",
       "      <td id=\"T_31796_row16_col3\" class=\"data row16 col3\" >-1.00%</td>\n",
       "      <td id=\"T_31796_row16_col4\" class=\"data row16 col4\" >Worse</td>\n",
       "    </tr>\n",
       "    <tr>\n",
       "      <th id=\"T_31796_level0_row17\" class=\"row_heading level0 row17\" >25</th>\n",
       "      <td id=\"T_31796_row17_col0\" class=\"data row17 col0\" >TMT</td>\n",
       "      <td id=\"T_31796_row17_col1\" class=\"data row17 col1\" >10.00</td>\n",
       "      <td id=\"T_31796_row17_col2\" class=\"data row17 col2\" >10.10</td>\n",
       "      <td id=\"T_31796_row17_col3\" class=\"data row17 col3\" >-0.99%</td>\n",
       "      <td id=\"T_31796_row17_col4\" class=\"data row17 col4\" >Worse</td>\n",
       "    </tr>\n",
       "    <tr>\n",
       "      <th id=\"T_31796_level0_row18\" class=\"row_heading level0 row18\" >13</th>\n",
       "      <td id=\"T_31796_row18_col0\" class=\"data row18 col0\" >PTT</td>\n",
       "      <td id=\"T_31796_row18_col1\" class=\"data row18 col1\" >37.25</td>\n",
       "      <td id=\"T_31796_row18_col2\" class=\"data row18 col2\" >37.50</td>\n",
       "      <td id=\"T_31796_row18_col3\" class=\"data row18 col3\" >-0.67%</td>\n",
       "      <td id=\"T_31796_row18_col4\" class=\"data row18 col4\" >Worse</td>\n",
       "    </tr>\n",
       "    <tr>\n",
       "      <th id=\"T_31796_level0_row19\" class=\"row_heading level0 row19\" >19</th>\n",
       "      <td id=\"T_31796_row19_col0\" class=\"data row19 col0\" >SCCC</td>\n",
       "      <td id=\"T_31796_row19_col1\" class=\"data row19 col1\" >151.00</td>\n",
       "      <td id=\"T_31796_row19_col2\" class=\"data row19 col2\" >152.00</td>\n",
       "      <td id=\"T_31796_row19_col3\" class=\"data row19 col3\" >-0.66%</td>\n",
       "      <td id=\"T_31796_row19_col4\" class=\"data row19 col4\" >Worse</td>\n",
       "    </tr>\n",
       "    <tr>\n",
       "      <th id=\"T_31796_level0_row20\" class=\"row_heading level0 row20\" >5</th>\n",
       "      <td id=\"T_31796_row20_col0\" class=\"data row20 col0\" >HREIT</td>\n",
       "      <td id=\"T_31796_row20_col1\" class=\"data row20 col1\" >8.45</td>\n",
       "      <td id=\"T_31796_row20_col2\" class=\"data row20 col2\" >8.50</td>\n",
       "      <td id=\"T_31796_row20_col3\" class=\"data row20 col3\" >-0.59%</td>\n",
       "      <td id=\"T_31796_row20_col4\" class=\"data row20 col4\" >Worse</td>\n",
       "    </tr>\n",
       "    <tr>\n",
       "      <th id=\"T_31796_level0_row21\" class=\"row_heading level0 row21\" >24</th>\n",
       "      <td id=\"T_31796_row21_col0\" class=\"data row21 col0\" >TISCO</td>\n",
       "      <td id=\"T_31796_row21_col1\" class=\"data row21 col1\" >90.25</td>\n",
       "      <td id=\"T_31796_row21_col2\" class=\"data row21 col2\" >90.75</td>\n",
       "      <td id=\"T_31796_row21_col3\" class=\"data row21 col3\" >-0.55%</td>\n",
       "      <td id=\"T_31796_row21_col4\" class=\"data row21 col4\" >Worse</td>\n",
       "    </tr>\n",
       "    <tr>\n",
       "      <th id=\"T_31796_level0_row22\" class=\"row_heading level0 row22\" >18</th>\n",
       "      <td id=\"T_31796_row22_col0\" class=\"data row22 col0\" >SCC</td>\n",
       "      <td id=\"T_31796_row22_col1\" class=\"data row22 col1\" >368.00</td>\n",
       "      <td id=\"T_31796_row22_col2\" class=\"data row22 col2\" >370.00</td>\n",
       "      <td id=\"T_31796_row22_col3\" class=\"data row22 col3\" >-0.54%</td>\n",
       "      <td id=\"T_31796_row22_col4\" class=\"data row22 col4\" >Worse</td>\n",
       "    </tr>\n",
       "    <tr>\n",
       "      <th id=\"T_31796_level0_row23\" class=\"row_heading level0 row23\" >8</th>\n",
       "      <td id=\"T_31796_row23_col0\" class=\"data row23 col0\" >KCE</td>\n",
       "      <td id=\"T_31796_row23_col1\" class=\"data row23 col1\" >61.25</td>\n",
       "      <td id=\"T_31796_row23_col2\" class=\"data row23 col2\" >61.50</td>\n",
       "      <td id=\"T_31796_row23_col3\" class=\"data row23 col3\" >-0.41%</td>\n",
       "      <td id=\"T_31796_row23_col4\" class=\"data row23 col4\" >Worse</td>\n",
       "    </tr>\n",
       "    <tr>\n",
       "      <th id=\"T_31796_level0_row24\" class=\"row_heading level0 row24\" >7</th>\n",
       "      <td id=\"T_31796_row24_col0\" class=\"data row24 col0\" >JASIF</td>\n",
       "      <td id=\"T_31796_row24_col1\" class=\"data row24 col1\" >11.00</td>\n",
       "      <td id=\"T_31796_row24_col2\" class=\"data row24 col2\" >11.00</td>\n",
       "      <td id=\"T_31796_row24_col3\" class=\"data row24 col3\" >0.00%</td>\n",
       "      <td id=\"T_31796_row24_col4\" class=\"data row24 col4\" >No Change</td>\n",
       "    </tr>\n",
       "    <tr>\n",
       "      <th id=\"T_31796_level0_row25\" class=\"row_heading level0 row25\" >3</th>\n",
       "      <td id=\"T_31796_row25_col0\" class=\"data row25 col0\" >DIF</td>\n",
       "      <td id=\"T_31796_row25_col1\" class=\"data row25 col1\" >14.10</td>\n",
       "      <td id=\"T_31796_row25_col2\" class=\"data row25 col2\" >14.10</td>\n",
       "      <td id=\"T_31796_row25_col3\" class=\"data row25 col3\" >0.00%</td>\n",
       "      <td id=\"T_31796_row25_col4\" class=\"data row25 col4\" >No Change</td>\n",
       "    </tr>\n",
       "    <tr>\n",
       "      <th id=\"T_31796_level0_row26\" class=\"row_heading level0 row26\" >17</th>\n",
       "      <td id=\"T_31796_row26_col0\" class=\"data row26 col0\" >RJH</td>\n",
       "      <td id=\"T_31796_row26_col1\" class=\"data row26 col1\" >33.75</td>\n",
       "      <td id=\"T_31796_row26_col2\" class=\"data row26 col2\" >33.50</td>\n",
       "      <td id=\"T_31796_row26_col3\" class=\"data row26 col3\" >0.75%</td>\n",
       "      <td id=\"T_31796_row26_col4\" class=\"data row26 col4\" >Better</td>\n",
       "    </tr>\n",
       "    <tr>\n",
       "      <th id=\"T_31796_level0_row27\" class=\"row_heading level0 row27\" >10</th>\n",
       "      <td id=\"T_31796_row27_col0\" class=\"data row27 col0\" >MCS</td>\n",
       "      <td id=\"T_31796_row27_col1\" class=\"data row27 col1\" >12.80</td>\n",
       "      <td id=\"T_31796_row27_col2\" class=\"data row27 col2\" >12.30</td>\n",
       "      <td id=\"T_31796_row27_col3\" class=\"data row27 col3\" >4.07%</td>\n",
       "      <td id=\"T_31796_row27_col4\" class=\"data row27 col4\" >Better</td>\n",
       "    </tr>\n",
       "  </tbody>\n",
       "</table>\n"
      ],
      "text/plain": [
       "<pandas.io.formats.style.Styler at 0x1c4f569e7c0>"
      ]
     },
     "execution_count": 15,
     "metadata": {},
     "output_type": "execute_result"
    }
   ],
   "source": [
    "trend.sort_values(by=['percent'],ascending=[True]).style.format(format_dict)"
   ]
  },
  {
   "cell_type": "code",
   "execution_count": 16,
   "metadata": {},
   "outputs": [
    {
     "data": {
      "text/html": [
       "<style type=\"text/css\">\n",
       "</style>\n",
       "<table id=\"T_4bf75_\">\n",
       "  <thead>\n",
       "    <tr>\n",
       "      <th class=\"blank level0\" >&nbsp;</th>\n",
       "      <th class=\"col_heading level0 col0\" >perform</th>\n",
       "    </tr>\n",
       "  </thead>\n",
       "  <tbody>\n",
       "    <tr>\n",
       "      <th id=\"T_4bf75_level0_row0\" class=\"row_heading level0 row0\" >Worse</th>\n",
       "      <td id=\"T_4bf75_row0_col0\" class=\"data row0 col0\" >85.71%</td>\n",
       "    </tr>\n",
       "    <tr>\n",
       "      <th id=\"T_4bf75_level0_row1\" class=\"row_heading level0 row1\" >No Change</th>\n",
       "      <td id=\"T_4bf75_row1_col0\" class=\"data row1 col0\" >7.14%</td>\n",
       "    </tr>\n",
       "    <tr>\n",
       "      <th id=\"T_4bf75_level0_row2\" class=\"row_heading level0 row2\" >Better</th>\n",
       "      <td id=\"T_4bf75_row2_col0\" class=\"data row2 col0\" >7.14%</td>\n",
       "    </tr>\n",
       "  </tbody>\n",
       "</table>\n"
      ],
      "text/plain": [
       "<pandas.io.formats.style.Styler at 0x1c4f56f7670>"
      ]
     },
     "execution_count": 16,
     "metadata": {},
     "output_type": "execute_result"
    }
   ],
   "source": [
    "trend.perform.value_counts(normalize=True).to_frame().style.format('{:.2%}')"
   ]
  },
  {
   "cell_type": "code",
   "execution_count": 17,
   "metadata": {},
   "outputs": [
    {
     "data": {
      "text/plain": [
       "(253, 8)"
      ]
     },
     "execution_count": 17,
     "metadata": {},
     "output_type": "execute_result"
    }
   ],
   "source": [
    "sql = '''\n",
    "SELECT name, max_price AS max, min_price AS min, pe, pbv, daily_volume AS volume, beta, market\n",
    "FROM stocks\n",
    "'''\n",
    "my_stocks = pd.read_sql(sql, conmy)\n",
    "my_stocks.shape"
   ]
  },
  {
   "cell_type": "code",
   "execution_count": 18,
   "metadata": {},
   "outputs": [],
   "source": [
    "filters = [\n",
    "   (my_stocks.market.str.contains('SET50')),\n",
    "   (my_stocks.market.str.contains('SET100')),\n",
    "   (my_stocks.market.str.contains('mai'))]\n",
    "values = ['SET50','SET100','mai']\n",
    "my_stocks[\"mrkt\"] = np.select(filters, values, default='SET999')"
   ]
  },
  {
   "cell_type": "code",
   "execution_count": 19,
   "metadata": {},
   "outputs": [
    {
     "data": {
      "text/plain": [
       "(28, 13)"
      ]
     },
     "execution_count": 19,
     "metadata": {},
     "output_type": "execute_result"
    }
   ],
   "source": [
    "trend2 = pd.merge(trend, my_stocks, on='name', how='inner')\n",
    "trend2.sort_values(['percent'],ascending=[True]).shape"
   ]
  },
  {
   "cell_type": "code",
   "execution_count": 20,
   "metadata": {},
   "outputs": [
    {
     "data": {
      "text/html": [
       "<style type=\"text/css\">\n",
       "</style>\n",
       "<table id=\"T_88f49_\">\n",
       "  <thead>\n",
       "    <tr>\n",
       "      <th class=\"blank level0\" >&nbsp;</th>\n",
       "      <th class=\"col_heading level0 col0\" >name</th>\n",
       "      <th class=\"col_heading level0 col1\" >price_d</th>\n",
       "      <th class=\"col_heading level0 col2\" >price_w</th>\n",
       "      <th class=\"col_heading level0 col3\" >percent</th>\n",
       "      <th class=\"col_heading level0 col4\" >perform</th>\n",
       "      <th class=\"col_heading level0 col5\" >mrkt</th>\n",
       "    </tr>\n",
       "  </thead>\n",
       "  <tbody>\n",
       "    <tr>\n",
       "      <th id=\"T_88f49_level0_row0\" class=\"row_heading level0 row0\" >15</th>\n",
       "      <td id=\"T_88f49_row0_col0\" class=\"data row0 col0\" >RATCH</td>\n",
       "      <td id=\"T_88f49_row0_col1\" class=\"data row0 col1\" >41.75</td>\n",
       "      <td id=\"T_88f49_row0_col2\" class=\"data row0 col2\" >44.00</td>\n",
       "      <td id=\"T_88f49_row0_col3\" class=\"data row0 col3\" >-5.11%</td>\n",
       "      <td id=\"T_88f49_row0_col4\" class=\"data row0 col4\" >Worse</td>\n",
       "      <td id=\"T_88f49_row0_col5\" class=\"data row0 col5\" >SET50</td>\n",
       "    </tr>\n",
       "    <tr>\n",
       "      <th id=\"T_88f49_level0_row1\" class=\"row_heading level0 row1\" >14</th>\n",
       "      <td id=\"T_88f49_row1_col0\" class=\"data row1 col0\" >PTTGC</td>\n",
       "      <td id=\"T_88f49_row1_col1\" class=\"data row1 col1\" >49.50</td>\n",
       "      <td id=\"T_88f49_row1_col2\" class=\"data row1 col2\" >50.00</td>\n",
       "      <td id=\"T_88f49_row1_col3\" class=\"data row1 col3\" >-1.00%</td>\n",
       "      <td id=\"T_88f49_row1_col4\" class=\"data row1 col4\" >Worse</td>\n",
       "      <td id=\"T_88f49_row1_col5\" class=\"data row1 col5\" >SET50</td>\n",
       "    </tr>\n",
       "    <tr>\n",
       "      <th id=\"T_88f49_level0_row2\" class=\"row_heading level0 row2\" >13</th>\n",
       "      <td id=\"T_88f49_row2_col0\" class=\"data row2 col0\" >PTT</td>\n",
       "      <td id=\"T_88f49_row2_col1\" class=\"data row2 col1\" >37.25</td>\n",
       "      <td id=\"T_88f49_row2_col2\" class=\"data row2 col2\" >37.50</td>\n",
       "      <td id=\"T_88f49_row2_col3\" class=\"data row2 col3\" >-0.67%</td>\n",
       "      <td id=\"T_88f49_row2_col4\" class=\"data row2 col4\" >Worse</td>\n",
       "      <td id=\"T_88f49_row2_col5\" class=\"data row2 col5\" >SET50</td>\n",
       "    </tr>\n",
       "    <tr>\n",
       "      <th id=\"T_88f49_level0_row3\" class=\"row_heading level0 row3\" >24</th>\n",
       "      <td id=\"T_88f49_row3_col0\" class=\"data row3 col0\" >TISCO</td>\n",
       "      <td id=\"T_88f49_row3_col1\" class=\"data row3 col1\" >90.25</td>\n",
       "      <td id=\"T_88f49_row3_col2\" class=\"data row3 col2\" >90.75</td>\n",
       "      <td id=\"T_88f49_row3_col3\" class=\"data row3 col3\" >-0.55%</td>\n",
       "      <td id=\"T_88f49_row3_col4\" class=\"data row3 col4\" >Worse</td>\n",
       "      <td id=\"T_88f49_row3_col5\" class=\"data row3 col5\" >SET50</td>\n",
       "    </tr>\n",
       "    <tr>\n",
       "      <th id=\"T_88f49_level0_row4\" class=\"row_heading level0 row4\" >18</th>\n",
       "      <td id=\"T_88f49_row4_col0\" class=\"data row4 col0\" >SCC</td>\n",
       "      <td id=\"T_88f49_row4_col1\" class=\"data row4 col1\" >368.00</td>\n",
       "      <td id=\"T_88f49_row4_col2\" class=\"data row4 col2\" >370.00</td>\n",
       "      <td id=\"T_88f49_row4_col3\" class=\"data row4 col3\" >-0.54%</td>\n",
       "      <td id=\"T_88f49_row4_col4\" class=\"data row4 col4\" >Worse</td>\n",
       "      <td id=\"T_88f49_row4_col5\" class=\"data row4 col5\" >SET50</td>\n",
       "    </tr>\n",
       "    <tr>\n",
       "      <th id=\"T_88f49_level0_row5\" class=\"row_heading level0 row5\" >8</th>\n",
       "      <td id=\"T_88f49_row5_col0\" class=\"data row5 col0\" >KCE</td>\n",
       "      <td id=\"T_88f49_row5_col1\" class=\"data row5 col1\" >61.25</td>\n",
       "      <td id=\"T_88f49_row5_col2\" class=\"data row5 col2\" >61.50</td>\n",
       "      <td id=\"T_88f49_row5_col3\" class=\"data row5 col3\" >-0.41%</td>\n",
       "      <td id=\"T_88f49_row5_col4\" class=\"data row5 col4\" >Worse</td>\n",
       "      <td id=\"T_88f49_row5_col5\" class=\"data row5 col5\" >SET50</td>\n",
       "    </tr>\n",
       "  </tbody>\n",
       "</table>\n"
      ],
      "text/plain": [
       "<pandas.io.formats.style.Styler at 0x1c4f56fdc40>"
      ]
     },
     "execution_count": 20,
     "metadata": {},
     "output_type": "execute_result"
    }
   ],
   "source": [
    "set50 = trend2.mrkt.str.contains('SET50') \n",
    "flt_set50 = trend2[set50]\n",
    "flt_set50[cols].sort_values(by=['percent','name'],ascending=[True,True]).style.format(format_dict)"
   ]
  },
  {
   "cell_type": "code",
   "execution_count": 21,
   "metadata": {},
   "outputs": [
    {
     "data": {
      "text/html": [
       "<style type=\"text/css\">\n",
       "</style>\n",
       "<table id=\"T_0a781_\">\n",
       "  <thead>\n",
       "    <tr>\n",
       "      <th class=\"blank level0\" >&nbsp;</th>\n",
       "      <th class=\"col_heading level0 col0\" >perform</th>\n",
       "    </tr>\n",
       "  </thead>\n",
       "  <tbody>\n",
       "    <tr>\n",
       "      <th id=\"T_0a781_level0_row0\" class=\"row_heading level0 row0\" >Worse</th>\n",
       "      <td id=\"T_0a781_row0_col0\" class=\"data row0 col0\" >100.00%</td>\n",
       "    </tr>\n",
       "  </tbody>\n",
       "</table>\n"
      ],
      "text/plain": [
       "<pandas.io.formats.style.Styler at 0x1c4f56fdf70>"
      ]
     },
     "execution_count": 21,
     "metadata": {},
     "output_type": "execute_result"
    }
   ],
   "source": [
    "flt_set50.perform.value_counts(normalize=True).to_frame().style.format('{:.2%}')"
   ]
  },
  {
   "cell_type": "code",
   "execution_count": 22,
   "metadata": {
    "scrolled": true
   },
   "outputs": [
    {
     "data": {
      "text/html": [
       "<style type=\"text/css\">\n",
       "</style>\n",
       "<table id=\"T_bda93_\">\n",
       "  <thead>\n",
       "    <tr>\n",
       "      <th class=\"blank level0\" >&nbsp;</th>\n",
       "      <th class=\"col_heading level0 col0\" >name</th>\n",
       "      <th class=\"col_heading level0 col1\" >price_d</th>\n",
       "      <th class=\"col_heading level0 col2\" >price_w</th>\n",
       "      <th class=\"col_heading level0 col3\" >percent</th>\n",
       "      <th class=\"col_heading level0 col4\" >perform</th>\n",
       "      <th class=\"col_heading level0 col5\" >mrkt</th>\n",
       "    </tr>\n",
       "  </thead>\n",
       "  <tbody>\n",
       "    <tr>\n",
       "      <th id=\"T_bda93_level0_row0\" class=\"row_heading level0 row0\" >22</th>\n",
       "      <td id=\"T_bda93_row0_col0\" class=\"data row0 col0\" >STA</td>\n",
       "      <td id=\"T_bda93_row0_col1\" class=\"data row0 col1\" >21.80</td>\n",
       "      <td id=\"T_bda93_row0_col2\" class=\"data row0 col2\" >25.25</td>\n",
       "      <td id=\"T_bda93_row0_col3\" class=\"data row0 col3\" >-13.66%</td>\n",
       "      <td id=\"T_bda93_row0_col4\" class=\"data row0 col4\" >Worse</td>\n",
       "      <td id=\"T_bda93_row0_col5\" class=\"data row0 col5\" >SET100</td>\n",
       "    </tr>\n",
       "    <tr>\n",
       "      <th id=\"T_bda93_level0_row1\" class=\"row_heading level0 row1\" >23</th>\n",
       "      <td id=\"T_bda93_row1_col0\" class=\"data row1 col0\" >SYNEX</td>\n",
       "      <td id=\"T_bda93_row1_col1\" class=\"data row1 col1\" >23.00</td>\n",
       "      <td id=\"T_bda93_row1_col2\" class=\"data row1 col2\" >24.20</td>\n",
       "      <td id=\"T_bda93_row1_col3\" class=\"data row1 col3\" >-4.96%</td>\n",
       "      <td id=\"T_bda93_row1_col4\" class=\"data row1 col4\" >Worse</td>\n",
       "      <td id=\"T_bda93_row1_col5\" class=\"data row1 col5\" >SET100</td>\n",
       "    </tr>\n",
       "    <tr>\n",
       "      <th id=\"T_bda93_level0_row2\" class=\"row_heading level0 row2\" >16</th>\n",
       "      <td id=\"T_bda93_row2_col0\" class=\"data row2 col0\" >RCL</td>\n",
       "      <td id=\"T_bda93_row2_col1\" class=\"data row2 col1\" >43.00</td>\n",
       "      <td id=\"T_bda93_row2_col2\" class=\"data row2 col2\" >44.75</td>\n",
       "      <td id=\"T_bda93_row2_col3\" class=\"data row2 col3\" >-3.91%</td>\n",
       "      <td id=\"T_bda93_row2_col4\" class=\"data row2 col4\" >Worse</td>\n",
       "      <td id=\"T_bda93_row2_col5\" class=\"data row2 col5\" >SET100</td>\n",
       "    </tr>\n",
       "    <tr>\n",
       "      <th id=\"T_bda93_level0_row3\" class=\"row_heading level0 row3\" >12</th>\n",
       "      <td id=\"T_bda93_row3_col0\" class=\"data row3 col0\" >ORI</td>\n",
       "      <td id=\"T_bda93_row3_col1\" class=\"data row3 col1\" >10.70</td>\n",
       "      <td id=\"T_bda93_row3_col2\" class=\"data row3 col2\" >11.00</td>\n",
       "      <td id=\"T_bda93_row3_col3\" class=\"data row3 col3\" >-2.73%</td>\n",
       "      <td id=\"T_bda93_row3_col4\" class=\"data row3 col4\" >Worse</td>\n",
       "      <td id=\"T_bda93_row3_col5\" class=\"data row3 col5\" >SET100</td>\n",
       "    </tr>\n",
       "    <tr>\n",
       "      <th id=\"T_bda93_level0_row4\" class=\"row_heading level0 row4\" >4</th>\n",
       "      <td id=\"T_bda93_row4_col0\" class=\"data row4 col0\" >DOHOME</td>\n",
       "      <td id=\"T_bda93_row4_col1\" class=\"data row4 col1\" >19.70</td>\n",
       "      <td id=\"T_bda93_row4_col2\" class=\"data row4 col2\" >20.10</td>\n",
       "      <td id=\"T_bda93_row4_col3\" class=\"data row4 col3\" >-1.99%</td>\n",
       "      <td id=\"T_bda93_row4_col4\" class=\"data row4 col4\" >Worse</td>\n",
       "      <td id=\"T_bda93_row4_col5\" class=\"data row4 col5\" >SET100</td>\n",
       "    </tr>\n",
       "    <tr>\n",
       "      <th id=\"T_bda93_level0_row5\" class=\"row_heading level0 row5\" >1</th>\n",
       "      <td id=\"T_bda93_row5_col0\" class=\"data row5 col0\" >BCH</td>\n",
       "      <td id=\"T_bda93_row5_col1\" class=\"data row5 col1\" >21.20</td>\n",
       "      <td id=\"T_bda93_row5_col2\" class=\"data row5 col2\" >21.50</td>\n",
       "      <td id=\"T_bda93_row5_col3\" class=\"data row5 col3\" >-1.40%</td>\n",
       "      <td id=\"T_bda93_row5_col4\" class=\"data row5 col4\" >Worse</td>\n",
       "      <td id=\"T_bda93_row5_col5\" class=\"data row5 col5\" >SET100</td>\n",
       "    </tr>\n",
       "    <tr>\n",
       "      <th id=\"T_bda93_level0_row6\" class=\"row_heading level0 row6\" >21</th>\n",
       "      <td id=\"T_bda93_row6_col0\" class=\"data row6 col0\" >SPALI</td>\n",
       "      <td id=\"T_bda93_row6_col1\" class=\"data row6 col1\" >21.60</td>\n",
       "      <td id=\"T_bda93_row6_col2\" class=\"data row6 col2\" >21.90</td>\n",
       "      <td id=\"T_bda93_row6_col3\" class=\"data row6 col3\" >-1.37%</td>\n",
       "      <td id=\"T_bda93_row6_col4\" class=\"data row6 col4\" >Worse</td>\n",
       "      <td id=\"T_bda93_row6_col5\" class=\"data row6 col5\" >SET100</td>\n",
       "    </tr>\n",
       "  </tbody>\n",
       "</table>\n"
      ],
      "text/plain": [
       "<pandas.io.formats.style.Styler at 0x1c4f569e7f0>"
      ]
     },
     "execution_count": 22,
     "metadata": {},
     "output_type": "execute_result"
    }
   ],
   "source": [
    "set100 = trend2.mrkt.str.contains('SET100')\n",
    "flt_set100 = trend2[set100]\n",
    "flt_set100[cols].sort_values(by=['percent','name'],ascending=[True,True]).style.format(format_dict)"
   ]
  },
  {
   "cell_type": "code",
   "execution_count": 23,
   "metadata": {},
   "outputs": [
    {
     "data": {
      "text/html": [
       "<style type=\"text/css\">\n",
       "</style>\n",
       "<table id=\"T_40178_\">\n",
       "  <thead>\n",
       "    <tr>\n",
       "      <th class=\"blank level0\" >&nbsp;</th>\n",
       "      <th class=\"col_heading level0 col0\" >perform</th>\n",
       "    </tr>\n",
       "  </thead>\n",
       "  <tbody>\n",
       "    <tr>\n",
       "      <th id=\"T_40178_level0_row0\" class=\"row_heading level0 row0\" >Worse</th>\n",
       "      <td id=\"T_40178_row0_col0\" class=\"data row0 col0\" >100.00%</td>\n",
       "    </tr>\n",
       "  </tbody>\n",
       "</table>\n"
      ],
      "text/plain": [
       "<pandas.io.formats.style.Styler at 0x1c4f5732fa0>"
      ]
     },
     "execution_count": 23,
     "metadata": {},
     "output_type": "execute_result"
    }
   ],
   "source": [
    "flt_set100[cols].perform.value_counts(normalize=True).to_frame().style.format('{:.2%}')"
   ]
  },
  {
   "cell_type": "code",
   "execution_count": 24,
   "metadata": {},
   "outputs": [
    {
     "data": {
      "text/html": [
       "<style type=\"text/css\">\n",
       "</style>\n",
       "<table id=\"T_8e837_\">\n",
       "  <thead>\n",
       "    <tr>\n",
       "      <th class=\"blank level0\" >&nbsp;</th>\n",
       "      <th class=\"col_heading level0 col0\" >name</th>\n",
       "      <th class=\"col_heading level0 col1\" >price_d</th>\n",
       "      <th class=\"col_heading level0 col2\" >price_w</th>\n",
       "      <th class=\"col_heading level0 col3\" >percent</th>\n",
       "      <th class=\"col_heading level0 col4\" >perform</th>\n",
       "      <th class=\"col_heading level0 col5\" >mrkt</th>\n",
       "    </tr>\n",
       "  </thead>\n",
       "  <tbody>\n",
       "    <tr>\n",
       "      <th id=\"T_8e837_level0_row0\" class=\"row_heading level0 row0\" >0</th>\n",
       "      <td id=\"T_8e837_row0_col0\" class=\"data row0 col0\" >ASP</td>\n",
       "      <td id=\"T_8e837_row0_col1\" class=\"data row0 col1\" >3.22</td>\n",
       "      <td id=\"T_8e837_row0_col2\" class=\"data row0 col2\" >3.38</td>\n",
       "      <td id=\"T_8e837_row0_col3\" class=\"data row0 col3\" >-4.73%</td>\n",
       "      <td id=\"T_8e837_row0_col4\" class=\"data row0 col4\" >Worse</td>\n",
       "      <td id=\"T_8e837_row0_col5\" class=\"data row0 col5\" >SET999</td>\n",
       "    </tr>\n",
       "    <tr>\n",
       "      <th id=\"T_8e837_level0_row1\" class=\"row_heading level0 row1\" >27</th>\n",
       "      <td id=\"T_8e837_row1_col0\" class=\"data row1 col0\" >WHART</td>\n",
       "      <td id=\"T_8e837_row1_col1\" class=\"data row1 col1\" >10.50</td>\n",
       "      <td id=\"T_8e837_row1_col2\" class=\"data row1 col2\" >10.90</td>\n",
       "      <td id=\"T_8e837_row1_col3\" class=\"data row1 col3\" >-3.67%</td>\n",
       "      <td id=\"T_8e837_row1_col4\" class=\"data row1 col4\" >Worse</td>\n",
       "      <td id=\"T_8e837_row1_col5\" class=\"data row1 col5\" >SET999</td>\n",
       "    </tr>\n",
       "    <tr>\n",
       "      <th id=\"T_8e837_level0_row2\" class=\"row_heading level0 row2\" >2</th>\n",
       "      <td id=\"T_8e837_row2_col0\" class=\"data row2 col0\" >DCC</td>\n",
       "      <td id=\"T_8e837_row2_col1\" class=\"data row2 col1\" >2.96</td>\n",
       "      <td id=\"T_8e837_row2_col2\" class=\"data row2 col2\" >3.06</td>\n",
       "      <td id=\"T_8e837_row2_col3\" class=\"data row2 col3\" >-3.27%</td>\n",
       "      <td id=\"T_8e837_row2_col4\" class=\"data row2 col4\" >Worse</td>\n",
       "      <td id=\"T_8e837_row2_col5\" class=\"data row2 col5\" >SET999</td>\n",
       "    </tr>\n",
       "    <tr>\n",
       "      <th id=\"T_8e837_level0_row3\" class=\"row_heading level0 row3\" >20</th>\n",
       "      <td id=\"T_8e837_row3_col0\" class=\"data row3 col0\" >SENA</td>\n",
       "      <td id=\"T_8e837_row3_col1\" class=\"data row3 col1\" >4.34</td>\n",
       "      <td id=\"T_8e837_row3_col2\" class=\"data row3 col2\" >4.46</td>\n",
       "      <td id=\"T_8e837_row3_col3\" class=\"data row3 col3\" >-2.69%</td>\n",
       "      <td id=\"T_8e837_row3_col4\" class=\"data row3 col4\" >Worse</td>\n",
       "      <td id=\"T_8e837_row3_col5\" class=\"data row3 col5\" >SET999</td>\n",
       "    </tr>\n",
       "    <tr>\n",
       "      <th id=\"T_8e837_level0_row4\" class=\"row_heading level0 row4\" >9</th>\n",
       "      <td id=\"T_8e837_row4_col0\" class=\"data row4 col0\" >MAKRO</td>\n",
       "      <td id=\"T_8e837_row4_col1\" class=\"data row4 col1\" >36.50</td>\n",
       "      <td id=\"T_8e837_row4_col2\" class=\"data row4 col2\" >37.50</td>\n",
       "      <td id=\"T_8e837_row4_col3\" class=\"data row4 col3\" >-2.67%</td>\n",
       "      <td id=\"T_8e837_row4_col4\" class=\"data row4 col4\" >Worse</td>\n",
       "      <td id=\"T_8e837_row4_col5\" class=\"data row4 col5\" >SET999</td>\n",
       "    </tr>\n",
       "    <tr>\n",
       "      <th id=\"T_8e837_level0_row5\" class=\"row_heading level0 row5\" >11</th>\n",
       "      <td id=\"T_8e837_row5_col0\" class=\"data row5 col0\" >NER</td>\n",
       "      <td id=\"T_8e837_row5_col1\" class=\"data row5 col1\" >6.65</td>\n",
       "      <td id=\"T_8e837_row5_col2\" class=\"data row5 col2\" >6.75</td>\n",
       "      <td id=\"T_8e837_row5_col3\" class=\"data row5 col3\" >-1.48%</td>\n",
       "      <td id=\"T_8e837_row5_col4\" class=\"data row5 col4\" >Worse</td>\n",
       "      <td id=\"T_8e837_row5_col5\" class=\"data row5 col5\" >SET999</td>\n",
       "    </tr>\n",
       "    <tr>\n",
       "      <th id=\"T_8e837_level0_row6\" class=\"row_heading level0 row6\" >26</th>\n",
       "      <td id=\"T_8e837_row6_col0\" class=\"data row6 col0\" >TPIPL</td>\n",
       "      <td id=\"T_8e837_row6_col1\" class=\"data row6 col1\" >1.48</td>\n",
       "      <td id=\"T_8e837_row6_col2\" class=\"data row6 col2\" >1.50</td>\n",
       "      <td id=\"T_8e837_row6_col3\" class=\"data row6 col3\" >-1.33%</td>\n",
       "      <td id=\"T_8e837_row6_col4\" class=\"data row6 col4\" >Worse</td>\n",
       "      <td id=\"T_8e837_row6_col5\" class=\"data row6 col5\" >SET999</td>\n",
       "    </tr>\n",
       "    <tr>\n",
       "      <th id=\"T_8e837_level0_row7\" class=\"row_heading level0 row7\" >25</th>\n",
       "      <td id=\"T_8e837_row7_col0\" class=\"data row7 col0\" >TMT</td>\n",
       "      <td id=\"T_8e837_row7_col1\" class=\"data row7 col1\" >10.00</td>\n",
       "      <td id=\"T_8e837_row7_col2\" class=\"data row7 col2\" >10.10</td>\n",
       "      <td id=\"T_8e837_row7_col3\" class=\"data row7 col3\" >-0.99%</td>\n",
       "      <td id=\"T_8e837_row7_col4\" class=\"data row7 col4\" >Worse</td>\n",
       "      <td id=\"T_8e837_row7_col5\" class=\"data row7 col5\" >SET999</td>\n",
       "    </tr>\n",
       "    <tr>\n",
       "      <th id=\"T_8e837_level0_row8\" class=\"row_heading level0 row8\" >19</th>\n",
       "      <td id=\"T_8e837_row8_col0\" class=\"data row8 col0\" >SCCC</td>\n",
       "      <td id=\"T_8e837_row8_col1\" class=\"data row8 col1\" >151.00</td>\n",
       "      <td id=\"T_8e837_row8_col2\" class=\"data row8 col2\" >152.00</td>\n",
       "      <td id=\"T_8e837_row8_col3\" class=\"data row8 col3\" >-0.66%</td>\n",
       "      <td id=\"T_8e837_row8_col4\" class=\"data row8 col4\" >Worse</td>\n",
       "      <td id=\"T_8e837_row8_col5\" class=\"data row8 col5\" >SET999</td>\n",
       "    </tr>\n",
       "    <tr>\n",
       "      <th id=\"T_8e837_level0_row9\" class=\"row_heading level0 row9\" >5</th>\n",
       "      <td id=\"T_8e837_row9_col0\" class=\"data row9 col0\" >HREIT</td>\n",
       "      <td id=\"T_8e837_row9_col1\" class=\"data row9 col1\" >8.45</td>\n",
       "      <td id=\"T_8e837_row9_col2\" class=\"data row9 col2\" >8.50</td>\n",
       "      <td id=\"T_8e837_row9_col3\" class=\"data row9 col3\" >-0.59%</td>\n",
       "      <td id=\"T_8e837_row9_col4\" class=\"data row9 col4\" >Worse</td>\n",
       "      <td id=\"T_8e837_row9_col5\" class=\"data row9 col5\" >SET999</td>\n",
       "    </tr>\n",
       "    <tr>\n",
       "      <th id=\"T_8e837_level0_row10\" class=\"row_heading level0 row10\" >3</th>\n",
       "      <td id=\"T_8e837_row10_col0\" class=\"data row10 col0\" >DIF</td>\n",
       "      <td id=\"T_8e837_row10_col1\" class=\"data row10 col1\" >14.10</td>\n",
       "      <td id=\"T_8e837_row10_col2\" class=\"data row10 col2\" >14.10</td>\n",
       "      <td id=\"T_8e837_row10_col3\" class=\"data row10 col3\" >0.00%</td>\n",
       "      <td id=\"T_8e837_row10_col4\" class=\"data row10 col4\" >No Change</td>\n",
       "      <td id=\"T_8e837_row10_col5\" class=\"data row10 col5\" >SET999</td>\n",
       "    </tr>\n",
       "    <tr>\n",
       "      <th id=\"T_8e837_level0_row11\" class=\"row_heading level0 row11\" >7</th>\n",
       "      <td id=\"T_8e837_row11_col0\" class=\"data row11 col0\" >JASIF</td>\n",
       "      <td id=\"T_8e837_row11_col1\" class=\"data row11 col1\" >11.00</td>\n",
       "      <td id=\"T_8e837_row11_col2\" class=\"data row11 col2\" >11.00</td>\n",
       "      <td id=\"T_8e837_row11_col3\" class=\"data row11 col3\" >0.00%</td>\n",
       "      <td id=\"T_8e837_row11_col4\" class=\"data row11 col4\" >No Change</td>\n",
       "      <td id=\"T_8e837_row11_col5\" class=\"data row11 col5\" >SET999</td>\n",
       "    </tr>\n",
       "    <tr>\n",
       "      <th id=\"T_8e837_level0_row12\" class=\"row_heading level0 row12\" >17</th>\n",
       "      <td id=\"T_8e837_row12_col0\" class=\"data row12 col0\" >RJH</td>\n",
       "      <td id=\"T_8e837_row12_col1\" class=\"data row12 col1\" >33.75</td>\n",
       "      <td id=\"T_8e837_row12_col2\" class=\"data row12 col2\" >33.50</td>\n",
       "      <td id=\"T_8e837_row12_col3\" class=\"data row12 col3\" >0.75%</td>\n",
       "      <td id=\"T_8e837_row12_col4\" class=\"data row12 col4\" >Better</td>\n",
       "      <td id=\"T_8e837_row12_col5\" class=\"data row12 col5\" >SET999</td>\n",
       "    </tr>\n",
       "    <tr>\n",
       "      <th id=\"T_8e837_level0_row13\" class=\"row_heading level0 row13\" >10</th>\n",
       "      <td id=\"T_8e837_row13_col0\" class=\"data row13 col0\" >MCS</td>\n",
       "      <td id=\"T_8e837_row13_col1\" class=\"data row13 col1\" >12.80</td>\n",
       "      <td id=\"T_8e837_row13_col2\" class=\"data row13 col2\" >12.30</td>\n",
       "      <td id=\"T_8e837_row13_col3\" class=\"data row13 col3\" >4.07%</td>\n",
       "      <td id=\"T_8e837_row13_col4\" class=\"data row13 col4\" >Better</td>\n",
       "      <td id=\"T_8e837_row13_col5\" class=\"data row13 col5\" >SET999</td>\n",
       "    </tr>\n",
       "  </tbody>\n",
       "</table>\n"
      ],
      "text/plain": [
       "<pandas.io.formats.style.Styler at 0x1c4f5732580>"
      ]
     },
     "execution_count": 24,
     "metadata": {},
     "output_type": "execute_result"
    }
   ],
   "source": [
    "set999 = trend2.mrkt.str.contains('SET999')\n",
    "flt_set999 = trend2[set999]\n",
    "flt_set999[cols].sort_values(by=['percent','name'],ascending=[True,True]).style.format(format_dict)"
   ]
  },
  {
   "cell_type": "code",
   "execution_count": 25,
   "metadata": {},
   "outputs": [
    {
     "data": {
      "text/html": [
       "<style type=\"text/css\">\n",
       "</style>\n",
       "<table id=\"T_f1a3e_\">\n",
       "  <thead>\n",
       "    <tr>\n",
       "      <th class=\"blank level0\" >&nbsp;</th>\n",
       "      <th class=\"col_heading level0 col0\" >perform</th>\n",
       "    </tr>\n",
       "  </thead>\n",
       "  <tbody>\n",
       "    <tr>\n",
       "      <th id=\"T_f1a3e_level0_row0\" class=\"row_heading level0 row0\" >Worse</th>\n",
       "      <td id=\"T_f1a3e_row0_col0\" class=\"data row0 col0\" >71.43%</td>\n",
       "    </tr>\n",
       "    <tr>\n",
       "      <th id=\"T_f1a3e_level0_row1\" class=\"row_heading level0 row1\" >No Change</th>\n",
       "      <td id=\"T_f1a3e_row1_col0\" class=\"data row1 col0\" >14.29%</td>\n",
       "    </tr>\n",
       "    <tr>\n",
       "      <th id=\"T_f1a3e_level0_row2\" class=\"row_heading level0 row2\" >Better</th>\n",
       "      <td id=\"T_f1a3e_row2_col0\" class=\"data row2 col0\" >14.29%</td>\n",
       "    </tr>\n",
       "  </tbody>\n",
       "</table>\n"
      ],
      "text/plain": [
       "<pandas.io.formats.style.Styler at 0x1c4f5736100>"
      ]
     },
     "execution_count": 25,
     "metadata": {},
     "output_type": "execute_result"
    }
   ],
   "source": [
    "flt_set999[cols].perform.value_counts(normalize=True).to_frame().style.format('{:.2%}')"
   ]
  },
  {
   "cell_type": "code",
   "execution_count": 26,
   "metadata": {},
   "outputs": [
    {
     "data": {
      "text/html": [
       "<style type=\"text/css\">\n",
       "</style>\n",
       "<table id=\"T_141b1_\">\n",
       "  <thead>\n",
       "    <tr>\n",
       "      <th class=\"blank level0\" >&nbsp;</th>\n",
       "      <th class=\"col_heading level0 col0\" >name</th>\n",
       "      <th class=\"col_heading level0 col1\" >price_d</th>\n",
       "      <th class=\"col_heading level0 col2\" >price_w</th>\n",
       "      <th class=\"col_heading level0 col3\" >percent</th>\n",
       "      <th class=\"col_heading level0 col4\" >perform</th>\n",
       "      <th class=\"col_heading level0 col5\" >mrkt</th>\n",
       "    </tr>\n",
       "  </thead>\n",
       "  <tbody>\n",
       "    <tr>\n",
       "      <th id=\"T_141b1_level0_row0\" class=\"row_heading level0 row0\" >6</th>\n",
       "      <td id=\"T_141b1_row0_col0\" class=\"data row0 col0\" >IP</td>\n",
       "      <td id=\"T_141b1_row0_col1\" class=\"data row0 col1\" >19.40</td>\n",
       "      <td id=\"T_141b1_row0_col2\" class=\"data row0 col2\" >19.60</td>\n",
       "      <td id=\"T_141b1_row0_col3\" class=\"data row0 col3\" >-1.02%</td>\n",
       "      <td id=\"T_141b1_row0_col4\" class=\"data row0 col4\" >Worse</td>\n",
       "      <td id=\"T_141b1_row0_col5\" class=\"data row0 col5\" >mai</td>\n",
       "    </tr>\n",
       "  </tbody>\n",
       "</table>\n"
      ],
      "text/plain": [
       "<pandas.io.formats.style.Styler at 0x1c4f573e610>"
      ]
     },
     "execution_count": 26,
     "metadata": {},
     "output_type": "execute_result"
    }
   ],
   "source": [
    "setmai = trend2.mrkt.str.contains('mai')\n",
    "flt_setmai = trend2[setmai]\n",
    "flt_setmai[cols].sort_values(by=['percent','name'],ascending=[True,True]).style.format(format_dict)"
   ]
  },
  {
   "cell_type": "code",
   "execution_count": 27,
   "metadata": {},
   "outputs": [
    {
     "data": {
      "text/html": [
       "<style type=\"text/css\">\n",
       "</style>\n",
       "<table id=\"T_727cc_\">\n",
       "  <thead>\n",
       "    <tr>\n",
       "      <th class=\"blank level0\" >&nbsp;</th>\n",
       "      <th class=\"col_heading level0 col0\" >perform</th>\n",
       "    </tr>\n",
       "  </thead>\n",
       "  <tbody>\n",
       "    <tr>\n",
       "      <th id=\"T_727cc_level0_row0\" class=\"row_heading level0 row0\" >Worse</th>\n",
       "      <td id=\"T_727cc_row0_col0\" class=\"data row0 col0\" >100.00%</td>\n",
       "    </tr>\n",
       "  </tbody>\n",
       "</table>\n"
      ],
      "text/plain": [
       "<pandas.io.formats.style.Styler at 0x1c4f5736190>"
      ]
     },
     "execution_count": 27,
     "metadata": {},
     "output_type": "execute_result"
    }
   ],
   "source": [
    "flt_setmai[cols].perform.value_counts(normalize=True).to_frame().style.format('{:.2%}')"
   ]
  },
  {
   "cell_type": "code",
   "execution_count": null,
   "metadata": {},
   "outputs": [],
   "source": []
  }
 ],
 "metadata": {
  "anaconda-cloud": {},
  "kernelspec": {
   "display_name": "Python 3 (ipykernel)",
   "language": "python",
   "name": "python3"
  },
  "language_info": {
   "codemirror_mode": {
    "name": "ipython",
    "version": 3
   },
   "file_extension": ".py",
   "mimetype": "text/x-python",
   "name": "python",
   "nbconvert_exporter": "python",
   "pygments_lexer": "ipython3",
   "version": "3.8.11"
  }
 },
 "nbformat": 4,
 "nbformat_minor": 1
}
