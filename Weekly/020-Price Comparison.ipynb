{
 "cells": [
  {
   "cell_type": "markdown",
   "metadata": {},
   "source": [
    "### portmy database: stocks table\n",
    "### stock database: buy, price tables"
   ]
  },
  {
   "cell_type": "code",
   "execution_count": 1,
   "metadata": {},
   "outputs": [
    {
     "data": {
      "text/plain": [
       "(datetime.date(2022, 5, 28), '2022-21')"
      ]
     },
     "execution_count": 1,
     "metadata": {},
     "output_type": "execute_result"
    }
   ],
   "source": [
    "import pandas as pd\n",
    "import numpy as np\n",
    "from datetime import date, timedelta\n",
    "from sqlalchemy import create_engine\n",
    "\n",
    "engine = create_engine(\"sqlite:///c:\\\\ruby\\\\portmy\\\\db\\\\development.sqlite3\")\n",
    "conmy = engine.connect()\n",
    "conmy = engine.connect()\n",
    "engine = create_engine(\"mysql+pymysql://root:@localhost:3306/stock\")\n",
    "const = engine.connect()\n",
    "\n",
    "pd.set_option('display.float_format','{:,.2f}'.format)\n",
    "\n",
    "data_path = \"../data/\"\n",
    "csv_path = \"\\\\Users\\\\User\\\\iCloudDrive\\\\\"\n",
    "box_path = \"\\\\Users\\\\User\\\\Dropbox\\\\\"\n",
    "\n",
    "today = date.today()\n",
    "week_str = today.strftime('%Y-%U')\n",
    "today, week_str"
   ]
  },
  {
   "cell_type": "markdown",
   "metadata": {},
   "source": [
    "### Process after last business day, today must be last business day"
   ]
  },
  {
   "cell_type": "code",
   "execution_count": 2,
   "metadata": {},
   "outputs": [
    {
     "data": {
      "text/plain": [
       "(datetime.date(2022, 5, 27), datetime.date(2022, 5, 20))"
      ]
     },
     "execution_count": 2,
     "metadata": {},
     "output_type": "execute_result"
    }
   ],
   "source": [
    "today = today - timedelta(days=1)\n",
    "wkago = today - timedelta(days=7)\n",
    "today, wkago"
   ]
  },
  {
   "cell_type": "markdown",
   "metadata": {},
   "source": [
    "### Restart & Run All Cells"
   ]
  },
  {
   "cell_type": "markdown",
   "metadata": {},
   "source": [
    "### This process affects only already in port stocks. To highlight price changes in percent."
   ]
  },
  {
   "cell_type": "code",
   "execution_count": 3,
   "metadata": {},
   "outputs": [],
   "source": [
    "cols = 'name price_d price_w percent perform mrkt '.split()"
   ]
  },
  {
   "cell_type": "code",
   "execution_count": 4,
   "metadata": {},
   "outputs": [],
   "source": [
    "format_dict = {\n",
    "    'qty':'{:,}',    \n",
    "    'price':'{:.2f}','price_d':'{:.2f}','price_w':'{:.2f}',\n",
    "    'max_price':'{:.2f}','min_price':'{:.2f}',\n",
    "    'maxp':'{:.2f}','minp':'{:.2f}','opnp':'{:.2f}',    \n",
    "    'pct':'{:,.2f}%','percent':'{:,.2f}%',\n",
    "    \n",
    "    'pe':'{:.2f}','pbv':'{:.2f}',\n",
    "    'paid_up':'{:,.2f}','market_cap':'{:,.2f}',\n",
    "    'daily_volume':'{:,.2f}','beta':'{:,.2f}', \n",
    "    'dly_vol':'{:,.2f}', \n",
    "}"
   ]
  },
  {
   "cell_type": "code",
   "execution_count": 5,
   "metadata": {},
   "outputs": [
    {
     "data": {
      "text/html": [
       "<style type=\"text/css\">\n",
       "</style>\n",
       "<table id=\"T_39866_\">\n",
       "  <thead>\n",
       "    <tr>\n",
       "      <th class=\"blank level0\" >&nbsp;</th>\n",
       "      <th class=\"col_heading level0 col0\" >name</th>\n",
       "      <th class=\"col_heading level0 col1\" >date</th>\n",
       "      <th class=\"col_heading level0 col2\" >price</th>\n",
       "    </tr>\n",
       "  </thead>\n",
       "  <tbody>\n",
       "    <tr>\n",
       "      <th id=\"T_39866_level0_row0\" class=\"row_heading level0 row0\" >0</th>\n",
       "      <td id=\"T_39866_row0_col0\" class=\"data row0 col0\" >BDMS</td>\n",
       "      <td id=\"T_39866_row0_col1\" class=\"data row0 col1\" >2022-05-26</td>\n",
       "      <td id=\"T_39866_row0_col2\" class=\"data row0 col2\" >26.00</td>\n",
       "    </tr>\n",
       "  </tbody>\n",
       "</table>\n"
      ],
      "text/plain": [
       "<pandas.io.formats.style.Styler at 0x1d1b9d9f400>"
      ]
     },
     "execution_count": 5,
     "metadata": {},
     "output_type": "execute_result"
    }
   ],
   "source": [
    "sql = \"\"\"\n",
    "SELECT name, date, price \n",
    "FROM buy \n",
    "ORDER BY date DESC \n",
    "LIMIT 1\n",
    "\"\"\"\n",
    "df_buy = pd.read_sql(sql, const)\n",
    "df_buy.style.format(format_dict)"
   ]
  },
  {
   "cell_type": "code",
   "execution_count": 6,
   "metadata": {},
   "outputs": [
    {
     "name": "stdout",
     "output_type": "stream",
     "text": [
      "\n",
      "SELECT * FROM stocks WHERE name = 'BDMS'\n",
      "\n"
     ]
    },
    {
     "data": {
      "text/html": [
       "<style type=\"text/css\">\n",
       "</style>\n",
       "<table id=\"T_5330a_\">\n",
       "  <thead>\n",
       "    <tr>\n",
       "      <th class=\"blank level0\" >&nbsp;</th>\n",
       "      <th class=\"col_heading level0 col0\" >id</th>\n",
       "      <th class=\"col_heading level0 col1\" >name</th>\n",
       "      <th class=\"col_heading level0 col2\" >market</th>\n",
       "      <th class=\"col_heading level0 col3\" >price</th>\n",
       "      <th class=\"col_heading level0 col4\" >max_price</th>\n",
       "      <th class=\"col_heading level0 col5\" >min_price</th>\n",
       "      <th class=\"col_heading level0 col6\" >pe</th>\n",
       "      <th class=\"col_heading level0 col7\" >pbv</th>\n",
       "      <th class=\"col_heading level0 col8\" >paid_up</th>\n",
       "      <th class=\"col_heading level0 col9\" >market_cap</th>\n",
       "      <th class=\"col_heading level0 col10\" >daily_volume</th>\n",
       "      <th class=\"col_heading level0 col11\" >beta</th>\n",
       "      <th class=\"col_heading level0 col12\" >ticker_id</th>\n",
       "      <th class=\"col_heading level0 col13\" >created_at</th>\n",
       "      <th class=\"col_heading level0 col14\" >updated_at</th>\n",
       "    </tr>\n",
       "  </thead>\n",
       "  <tbody>\n",
       "    <tr>\n",
       "      <th id=\"T_5330a_level0_row0\" class=\"row_heading level0 row0\" >0</th>\n",
       "      <td id=\"T_5330a_row0_col0\" class=\"data row0 col0\" >54</td>\n",
       "      <td id=\"T_5330a_row0_col1\" class=\"data row0 col1\" >BDMS</td>\n",
       "      <td id=\"T_5330a_row0_col2\" class=\"data row0 col2\" >SET50 / SETCLMV / SETTHSI / SETWB</td>\n",
       "      <td id=\"T_5330a_row0_col3\" class=\"data row0 col3\" >25.50</td>\n",
       "      <td id=\"T_5330a_row0_col4\" class=\"data row0 col4\" >27.75</td>\n",
       "      <td id=\"T_5330a_row0_col5\" class=\"data row0 col5\" >21.30</td>\n",
       "      <td id=\"T_5330a_row0_col6\" class=\"data row0 col6\" >40.36</td>\n",
       "      <td id=\"T_5330a_row0_col7\" class=\"data row0 col7\" >4.64</td>\n",
       "      <td id=\"T_5330a_row0_col8\" class=\"data row0 col8\" >999.99</td>\n",
       "      <td id=\"T_5330a_row0_col9\" class=\"data row0 col9\" >405,246.05</td>\n",
       "      <td id=\"T_5330a_row0_col10\" class=\"data row0 col10\" >1,842,432.87</td>\n",
       "      <td id=\"T_5330a_row0_col11\" class=\"data row0 col11\" >0.22</td>\n",
       "      <td id=\"T_5330a_row0_col12\" class=\"data row0 col12\" >54</td>\n",
       "      <td id=\"T_5330a_row0_col13\" class=\"data row0 col13\" >2017-07-23 07:24:26.698061</td>\n",
       "      <td id=\"T_5330a_row0_col14\" class=\"data row0 col14\" >2022-05-27 20:51:25.676369</td>\n",
       "    </tr>\n",
       "  </tbody>\n",
       "</table>\n"
      ],
      "text/plain": [
       "<pandas.io.formats.style.Styler at 0x1d1bd9bfdc0>"
      ]
     },
     "execution_count": 6,
     "metadata": {},
     "output_type": "execute_result"
    }
   ],
   "source": [
    "names = df_buy['name']\n",
    "name = names.to_string(index=False)\n",
    "\n",
    "sql = '''\n",
    "SELECT * FROM stocks WHERE name = '%s'\n",
    "'''\n",
    "sql = sql % name\n",
    "print(sql)\n",
    "\n",
    "df_stocks = pd.read_sql(sql, conmy)\n",
    "df_stocks.style.format(format_dict) "
   ]
  },
  {
   "cell_type": "code",
   "execution_count": 7,
   "metadata": {},
   "outputs": [
    {
     "name": "stdout",
     "output_type": "stream",
     "text": [
      "\n",
      "SELECT * FROM price WHERE name = \"BDMS\" ORDER BY date DESC LIMIT 5\n",
      "\n"
     ]
    },
    {
     "data": {
      "text/html": [
       "<style type=\"text/css\">\n",
       "</style>\n",
       "<table id=\"T_8ad1e_\">\n",
       "  <thead>\n",
       "    <tr>\n",
       "      <th class=\"blank level0\" >&nbsp;</th>\n",
       "      <th class=\"col_heading level0 col0\" >name</th>\n",
       "      <th class=\"col_heading level0 col1\" >date</th>\n",
       "      <th class=\"col_heading level0 col2\" >price</th>\n",
       "      <th class=\"col_heading level0 col3\" >maxp</th>\n",
       "      <th class=\"col_heading level0 col4\" >minp</th>\n",
       "      <th class=\"col_heading level0 col5\" >qty</th>\n",
       "      <th class=\"col_heading level0 col6\" >opnp</th>\n",
       "    </tr>\n",
       "  </thead>\n",
       "  <tbody>\n",
       "    <tr>\n",
       "      <th id=\"T_8ad1e_level0_row0\" class=\"row_heading level0 row0\" >0</th>\n",
       "      <td id=\"T_8ad1e_row0_col0\" class=\"data row0 col0\" >BDMS</td>\n",
       "      <td id=\"T_8ad1e_row0_col1\" class=\"data row0 col1\" >2022-05-27</td>\n",
       "      <td id=\"T_8ad1e_row0_col2\" class=\"data row0 col2\" >25.50</td>\n",
       "      <td id=\"T_8ad1e_row0_col3\" class=\"data row0 col3\" >26.00</td>\n",
       "      <td id=\"T_8ad1e_row0_col4\" class=\"data row0 col4\" >25.25</td>\n",
       "      <td id=\"T_8ad1e_row0_col5\" class=\"data row0 col5\" >72,005,194</td>\n",
       "      <td id=\"T_8ad1e_row0_col6\" class=\"data row0 col6\" >26.00</td>\n",
       "    </tr>\n",
       "    <tr>\n",
       "      <th id=\"T_8ad1e_level0_row1\" class=\"row_heading level0 row1\" >1</th>\n",
       "      <td id=\"T_8ad1e_row1_col0\" class=\"data row1 col0\" >BDMS</td>\n",
       "      <td id=\"T_8ad1e_row1_col1\" class=\"data row1 col1\" >2022-05-26</td>\n",
       "      <td id=\"T_8ad1e_row1_col2\" class=\"data row1 col2\" >26.00</td>\n",
       "      <td id=\"T_8ad1e_row1_col3\" class=\"data row1 col3\" >27.00</td>\n",
       "      <td id=\"T_8ad1e_row1_col4\" class=\"data row1 col4\" >25.50</td>\n",
       "      <td id=\"T_8ad1e_row1_col5\" class=\"data row1 col5\" >105,261,409</td>\n",
       "      <td id=\"T_8ad1e_row1_col6\" class=\"data row1 col6\" >26.75</td>\n",
       "    </tr>\n",
       "    <tr>\n",
       "      <th id=\"T_8ad1e_level0_row2\" class=\"row_heading level0 row2\" >2</th>\n",
       "      <td id=\"T_8ad1e_row2_col0\" class=\"data row2 col0\" >BDMS</td>\n",
       "      <td id=\"T_8ad1e_row2_col1\" class=\"data row2 col1\" >2022-05-25</td>\n",
       "      <td id=\"T_8ad1e_row2_col2\" class=\"data row2 col2\" >27.00</td>\n",
       "      <td id=\"T_8ad1e_row2_col3\" class=\"data row2 col3\" >27.00</td>\n",
       "      <td id=\"T_8ad1e_row2_col4\" class=\"data row2 col4\" >26.50</td>\n",
       "      <td id=\"T_8ad1e_row2_col5\" class=\"data row2 col5\" >62,043,560</td>\n",
       "      <td id=\"T_8ad1e_row2_col6\" class=\"data row2 col6\" >26.75</td>\n",
       "    </tr>\n",
       "    <tr>\n",
       "      <th id=\"T_8ad1e_level0_row3\" class=\"row_heading level0 row3\" >3</th>\n",
       "      <td id=\"T_8ad1e_row3_col0\" class=\"data row3 col0\" >BDMS</td>\n",
       "      <td id=\"T_8ad1e_row3_col1\" class=\"data row3 col1\" >2022-05-24</td>\n",
       "      <td id=\"T_8ad1e_row3_col2\" class=\"data row3 col2\" >26.50</td>\n",
       "      <td id=\"T_8ad1e_row3_col3\" class=\"data row3 col3\" >27.25</td>\n",
       "      <td id=\"T_8ad1e_row3_col4\" class=\"data row3 col4\" >26.25</td>\n",
       "      <td id=\"T_8ad1e_row3_col5\" class=\"data row3 col5\" >102,693,346</td>\n",
       "      <td id=\"T_8ad1e_row3_col6\" class=\"data row3 col6\" >27.00</td>\n",
       "    </tr>\n",
       "    <tr>\n",
       "      <th id=\"T_8ad1e_level0_row4\" class=\"row_heading level0 row4\" >4</th>\n",
       "      <td id=\"T_8ad1e_row4_col0\" class=\"data row4 col0\" >BDMS</td>\n",
       "      <td id=\"T_8ad1e_row4_col1\" class=\"data row4 col1\" >2022-05-23</td>\n",
       "      <td id=\"T_8ad1e_row4_col2\" class=\"data row4 col2\" >27.00</td>\n",
       "      <td id=\"T_8ad1e_row4_col3\" class=\"data row4 col3\" >27.00</td>\n",
       "      <td id=\"T_8ad1e_row4_col4\" class=\"data row4 col4\" >26.50</td>\n",
       "      <td id=\"T_8ad1e_row4_col5\" class=\"data row4 col5\" >80,183,601</td>\n",
       "      <td id=\"T_8ad1e_row4_col6\" class=\"data row4 col6\" >27.00</td>\n",
       "    </tr>\n",
       "  </tbody>\n",
       "</table>\n"
      ],
      "text/plain": [
       "<pandas.io.formats.style.Styler at 0x1d1bda0d9d0>"
      ]
     },
     "execution_count": 7,
     "metadata": {},
     "output_type": "execute_result"
    }
   ],
   "source": [
    "sql = '''\n",
    "SELECT * FROM price WHERE name = \"%s\" ORDER BY date DESC LIMIT 5\n",
    "'''\n",
    "sql = sql % name\n",
    "print(sql)\n",
    "\n",
    "df_price = pd.read_sql(sql, const)\n",
    "df_price.style.format(format_dict)"
   ]
  },
  {
   "cell_type": "code",
   "execution_count": 8,
   "metadata": {},
   "outputs": [
    {
     "name": "stdout",
     "output_type": "stream",
     "text": [
      "\n",
      "SELECT name, price AS price_d \n",
      "FROM price \n",
      "WHERE date = '2022-05-27' AND name IN ('ASP', 'BCH', 'BDMS', 'DCC', 'DIF', 'DOHOME', 'HREIT', 'IP', 'IVL', 'JASIF', 'KCE', 'MAKRO', 'MCS', 'NER', 'ORI', 'PTTGC', 'RCL', 'SCC', 'SCCC', 'SENA', 'STA', 'SYNEX', 'TISCO', 'TMT', 'TPIPL', 'WHART')\n",
      "ORDER BY name, date\n"
     ]
    },
    {
     "data": {
      "text/plain": [
       "26"
      ]
     },
     "execution_count": 8,
     "metadata": {},
     "output_type": "execute_result"
    }
   ],
   "source": [
    "sql = '''\n",
    "SELECT name\n",
    "FROM buy \n",
    "WHERE active = 1\n",
    "ORDER BY name'''\n",
    "df_price = pd.read_sql(sql, const)\n",
    "\n",
    "names = df_price.name.tolist()\n",
    "in_p = \", \".join(map(lambda name: \"'%s'\" % name, names))\n",
    "\n",
    "sql = \"\"\"\n",
    "SELECT name, price AS price_d \n",
    "FROM price \n",
    "WHERE date = '%s' AND name IN (%s)\n",
    "ORDER BY name, date\"\"\"\n",
    "sql = sql % (today, in_p)\n",
    "print(sql)\n",
    "\n",
    "df_today = pd.read_sql(sql, const)\n",
    "df_today.shape[0]"
   ]
  },
  {
   "cell_type": "code",
   "execution_count": 9,
   "metadata": {},
   "outputs": [
    {
     "name": "stdout",
     "output_type": "stream",
     "text": [
      "\n",
      "SELECT name, price AS price_w\n",
      "FROM price \n",
      "WHERE date = '2022-05-20' AND name IN ('ASP', 'BCH', 'BDMS', 'DCC', 'DIF', 'DOHOME', 'HREIT', 'IP', 'IVL', 'JASIF', 'KCE', 'MAKRO', 'MCS', 'NER', 'ORI', 'PTTGC', 'RCL', 'SCC', 'SCCC', 'SENA', 'STA', 'SYNEX', 'TISCO', 'TMT', 'TPIPL', 'WHART') \n",
      "ORDER BY name\n"
     ]
    },
    {
     "data": {
      "text/plain": [
       "26"
      ]
     },
     "execution_count": 9,
     "metadata": {},
     "output_type": "execute_result"
    }
   ],
   "source": [
    "sql = \"\"\"\n",
    "SELECT name, price AS price_w\n",
    "FROM price \n",
    "WHERE date = '%s' AND name IN (%s) \n",
    "ORDER BY name\"\"\"\n",
    "sql = sql % (wkago, in_p)\n",
    "print(sql)\n",
    "\n",
    "df_wkago = pd.read_sql(sql, const)\n",
    "df_wkago.shape[0]"
   ]
  },
  {
   "cell_type": "code",
   "execution_count": 10,
   "metadata": {},
   "outputs": [
    {
     "data": {
      "text/plain": [
       "(26, 3)"
      ]
     },
     "execution_count": 10,
     "metadata": {},
     "output_type": "execute_result"
    }
   ],
   "source": [
    "trend = pd.merge(df_today, df_wkago, on='name',how='inner')\n",
    "trend.shape"
   ]
  },
  {
   "cell_type": "code",
   "execution_count": 11,
   "metadata": {},
   "outputs": [],
   "source": [
    "def performance(vals):\n",
    "    price_d, price_w = vals\n",
    "    if (price_d > price_w):\n",
    "        return 'Better'\n",
    "    elif (price_d < price_w):\n",
    "        return 'Worse'\n",
    "    else:\n",
    "        return 'No Change'"
   ]
  },
  {
   "cell_type": "code",
   "execution_count": 12,
   "metadata": {},
   "outputs": [],
   "source": [
    "trend['percent'] = (trend.price_d-trend.price_w)/trend.price_w * 100"
   ]
  },
  {
   "cell_type": "code",
   "execution_count": 13,
   "metadata": {},
   "outputs": [
    {
     "data": {
      "text/html": [
       "<div>\n",
       "<style scoped>\n",
       "    .dataframe tbody tr th:only-of-type {\n",
       "        vertical-align: middle;\n",
       "    }\n",
       "\n",
       "    .dataframe tbody tr th {\n",
       "        vertical-align: top;\n",
       "    }\n",
       "\n",
       "    .dataframe thead th {\n",
       "        text-align: right;\n",
       "    }\n",
       "</style>\n",
       "<table border=\"1\" class=\"dataframe\">\n",
       "  <thead>\n",
       "    <tr style=\"text-align: right;\">\n",
       "      <th></th>\n",
       "      <th>name</th>\n",
       "      <th>price_d</th>\n",
       "      <th>price_w</th>\n",
       "      <th>percent</th>\n",
       "    </tr>\n",
       "  </thead>\n",
       "  <tbody>\n",
       "    <tr>\n",
       "      <th>0</th>\n",
       "      <td>ASP</td>\n",
       "      <td>3.20</td>\n",
       "      <td>3.16</td>\n",
       "      <td>1.27</td>\n",
       "    </tr>\n",
       "    <tr>\n",
       "      <th>1</th>\n",
       "      <td>BCH</td>\n",
       "      <td>19.00</td>\n",
       "      <td>18.80</td>\n",
       "      <td>1.06</td>\n",
       "    </tr>\n",
       "    <tr>\n",
       "      <th>2</th>\n",
       "      <td>BDMS</td>\n",
       "      <td>25.50</td>\n",
       "      <td>27.00</td>\n",
       "      <td>-5.56</td>\n",
       "    </tr>\n",
       "    <tr>\n",
       "      <th>3</th>\n",
       "      <td>DCC</td>\n",
       "      <td>2.82</td>\n",
       "      <td>2.80</td>\n",
       "      <td>0.71</td>\n",
       "    </tr>\n",
       "    <tr>\n",
       "      <th>4</th>\n",
       "      <td>DIF</td>\n",
       "      <td>14.00</td>\n",
       "      <td>14.00</td>\n",
       "      <td>0.00</td>\n",
       "    </tr>\n",
       "    <tr>\n",
       "      <th>5</th>\n",
       "      <td>DOHOME</td>\n",
       "      <td>18.40</td>\n",
       "      <td>19.10</td>\n",
       "      <td>-3.66</td>\n",
       "    </tr>\n",
       "    <tr>\n",
       "      <th>6</th>\n",
       "      <td>HREIT</td>\n",
       "      <td>8.40</td>\n",
       "      <td>8.45</td>\n",
       "      <td>-0.59</td>\n",
       "    </tr>\n",
       "    <tr>\n",
       "      <th>7</th>\n",
       "      <td>IP</td>\n",
       "      <td>19.90</td>\n",
       "      <td>20.50</td>\n",
       "      <td>-2.93</td>\n",
       "    </tr>\n",
       "    <tr>\n",
       "      <th>8</th>\n",
       "      <td>IVL</td>\n",
       "      <td>49.25</td>\n",
       "      <td>48.75</td>\n",
       "      <td>1.03</td>\n",
       "    </tr>\n",
       "    <tr>\n",
       "      <th>9</th>\n",
       "      <td>JASIF</td>\n",
       "      <td>10.90</td>\n",
       "      <td>10.90</td>\n",
       "      <td>0.00</td>\n",
       "    </tr>\n",
       "    <tr>\n",
       "      <th>10</th>\n",
       "      <td>KCE</td>\n",
       "      <td>65.00</td>\n",
       "      <td>63.25</td>\n",
       "      <td>2.77</td>\n",
       "    </tr>\n",
       "    <tr>\n",
       "      <th>11</th>\n",
       "      <td>MAKRO</td>\n",
       "      <td>36.50</td>\n",
       "      <td>36.50</td>\n",
       "      <td>0.00</td>\n",
       "    </tr>\n",
       "    <tr>\n",
       "      <th>12</th>\n",
       "      <td>MCS</td>\n",
       "      <td>12.50</td>\n",
       "      <td>12.60</td>\n",
       "      <td>-0.79</td>\n",
       "    </tr>\n",
       "    <tr>\n",
       "      <th>13</th>\n",
       "      <td>NER</td>\n",
       "      <td>6.80</td>\n",
       "      <td>6.60</td>\n",
       "      <td>3.03</td>\n",
       "    </tr>\n",
       "    <tr>\n",
       "      <th>14</th>\n",
       "      <td>ORI</td>\n",
       "      <td>10.60</td>\n",
       "      <td>9.80</td>\n",
       "      <td>8.16</td>\n",
       "    </tr>\n",
       "    <tr>\n",
       "      <th>15</th>\n",
       "      <td>PTTGC</td>\n",
       "      <td>47.50</td>\n",
       "      <td>46.50</td>\n",
       "      <td>2.15</td>\n",
       "    </tr>\n",
       "    <tr>\n",
       "      <th>16</th>\n",
       "      <td>RCL</td>\n",
       "      <td>45.00</td>\n",
       "      <td>46.75</td>\n",
       "      <td>-3.74</td>\n",
       "    </tr>\n",
       "    <tr>\n",
       "      <th>17</th>\n",
       "      <td>SCC</td>\n",
       "      <td>366.00</td>\n",
       "      <td>361.00</td>\n",
       "      <td>1.39</td>\n",
       "    </tr>\n",
       "    <tr>\n",
       "      <th>18</th>\n",
       "      <td>SCCC</td>\n",
       "      <td>150.00</td>\n",
       "      <td>149.50</td>\n",
       "      <td>0.33</td>\n",
       "    </tr>\n",
       "    <tr>\n",
       "      <th>19</th>\n",
       "      <td>SENA</td>\n",
       "      <td>4.16</td>\n",
       "      <td>3.94</td>\n",
       "      <td>5.58</td>\n",
       "    </tr>\n",
       "    <tr>\n",
       "      <th>20</th>\n",
       "      <td>STA</td>\n",
       "      <td>23.90</td>\n",
       "      <td>23.80</td>\n",
       "      <td>0.42</td>\n",
       "    </tr>\n",
       "    <tr>\n",
       "      <th>21</th>\n",
       "      <td>SYNEX</td>\n",
       "      <td>21.30</td>\n",
       "      <td>21.70</td>\n",
       "      <td>-1.84</td>\n",
       "    </tr>\n",
       "    <tr>\n",
       "      <th>22</th>\n",
       "      <td>TISCO</td>\n",
       "      <td>89.75</td>\n",
       "      <td>89.50</td>\n",
       "      <td>0.28</td>\n",
       "    </tr>\n",
       "    <tr>\n",
       "      <th>23</th>\n",
       "      <td>TMT</td>\n",
       "      <td>9.40</td>\n",
       "      <td>9.20</td>\n",
       "      <td>2.17</td>\n",
       "    </tr>\n",
       "    <tr>\n",
       "      <th>24</th>\n",
       "      <td>TPIPL</td>\n",
       "      <td>1.59</td>\n",
       "      <td>1.53</td>\n",
       "      <td>3.92</td>\n",
       "    </tr>\n",
       "    <tr>\n",
       "      <th>25</th>\n",
       "      <td>WHART</td>\n",
       "      <td>10.50</td>\n",
       "      <td>10.60</td>\n",
       "      <td>-0.94</td>\n",
       "    </tr>\n",
       "  </tbody>\n",
       "</table>\n",
       "</div>"
      ],
      "text/plain": [
       "      name  price_d  price_w  percent\n",
       "0      ASP     3.20     3.16     1.27\n",
       "1      BCH    19.00    18.80     1.06\n",
       "2     BDMS    25.50    27.00    -5.56\n",
       "3      DCC     2.82     2.80     0.71\n",
       "4      DIF    14.00    14.00     0.00\n",
       "5   DOHOME    18.40    19.10    -3.66\n",
       "6    HREIT     8.40     8.45    -0.59\n",
       "7       IP    19.90    20.50    -2.93\n",
       "8      IVL    49.25    48.75     1.03\n",
       "9    JASIF    10.90    10.90     0.00\n",
       "10     KCE    65.00    63.25     2.77\n",
       "11   MAKRO    36.50    36.50     0.00\n",
       "12     MCS    12.50    12.60    -0.79\n",
       "13     NER     6.80     6.60     3.03\n",
       "14     ORI    10.60     9.80     8.16\n",
       "15   PTTGC    47.50    46.50     2.15\n",
       "16     RCL    45.00    46.75    -3.74\n",
       "17     SCC   366.00   361.00     1.39\n",
       "18    SCCC   150.00   149.50     0.33\n",
       "19    SENA     4.16     3.94     5.58\n",
       "20     STA    23.90    23.80     0.42\n",
       "21   SYNEX    21.30    21.70    -1.84\n",
       "22   TISCO    89.75    89.50     0.28\n",
       "23     TMT     9.40     9.20     2.17\n",
       "24   TPIPL     1.59     1.53     3.92\n",
       "25   WHART    10.50    10.60    -0.94"
      ]
     },
     "execution_count": 13,
     "metadata": {},
     "output_type": "execute_result"
    }
   ],
   "source": [
    "trend"
   ]
  },
  {
   "cell_type": "code",
   "execution_count": 14,
   "metadata": {},
   "outputs": [],
   "source": [
    "trend[\"perform\"] = trend[[\"price_d\",\"price_w\"]].apply(performance, axis=1)"
   ]
  },
  {
   "cell_type": "code",
   "execution_count": 15,
   "metadata": {},
   "outputs": [
    {
     "data": {
      "text/html": [
       "<style type=\"text/css\">\n",
       "</style>\n",
       "<table id=\"T_26184_\">\n",
       "  <thead>\n",
       "    <tr>\n",
       "      <th class=\"blank level0\" >&nbsp;</th>\n",
       "      <th class=\"col_heading level0 col0\" >name</th>\n",
       "      <th class=\"col_heading level0 col1\" >price_d</th>\n",
       "      <th class=\"col_heading level0 col2\" >price_w</th>\n",
       "      <th class=\"col_heading level0 col3\" >percent</th>\n",
       "      <th class=\"col_heading level0 col4\" >perform</th>\n",
       "    </tr>\n",
       "  </thead>\n",
       "  <tbody>\n",
       "    <tr>\n",
       "      <th id=\"T_26184_level0_row0\" class=\"row_heading level0 row0\" >2</th>\n",
       "      <td id=\"T_26184_row0_col0\" class=\"data row0 col0\" >BDMS</td>\n",
       "      <td id=\"T_26184_row0_col1\" class=\"data row0 col1\" >25.50</td>\n",
       "      <td id=\"T_26184_row0_col2\" class=\"data row0 col2\" >27.00</td>\n",
       "      <td id=\"T_26184_row0_col3\" class=\"data row0 col3\" >-5.56%</td>\n",
       "      <td id=\"T_26184_row0_col4\" class=\"data row0 col4\" >Worse</td>\n",
       "    </tr>\n",
       "    <tr>\n",
       "      <th id=\"T_26184_level0_row1\" class=\"row_heading level0 row1\" >16</th>\n",
       "      <td id=\"T_26184_row1_col0\" class=\"data row1 col0\" >RCL</td>\n",
       "      <td id=\"T_26184_row1_col1\" class=\"data row1 col1\" >45.00</td>\n",
       "      <td id=\"T_26184_row1_col2\" class=\"data row1 col2\" >46.75</td>\n",
       "      <td id=\"T_26184_row1_col3\" class=\"data row1 col3\" >-3.74%</td>\n",
       "      <td id=\"T_26184_row1_col4\" class=\"data row1 col4\" >Worse</td>\n",
       "    </tr>\n",
       "    <tr>\n",
       "      <th id=\"T_26184_level0_row2\" class=\"row_heading level0 row2\" >5</th>\n",
       "      <td id=\"T_26184_row2_col0\" class=\"data row2 col0\" >DOHOME</td>\n",
       "      <td id=\"T_26184_row2_col1\" class=\"data row2 col1\" >18.40</td>\n",
       "      <td id=\"T_26184_row2_col2\" class=\"data row2 col2\" >19.10</td>\n",
       "      <td id=\"T_26184_row2_col3\" class=\"data row2 col3\" >-3.66%</td>\n",
       "      <td id=\"T_26184_row2_col4\" class=\"data row2 col4\" >Worse</td>\n",
       "    </tr>\n",
       "    <tr>\n",
       "      <th id=\"T_26184_level0_row3\" class=\"row_heading level0 row3\" >7</th>\n",
       "      <td id=\"T_26184_row3_col0\" class=\"data row3 col0\" >IP</td>\n",
       "      <td id=\"T_26184_row3_col1\" class=\"data row3 col1\" >19.90</td>\n",
       "      <td id=\"T_26184_row3_col2\" class=\"data row3 col2\" >20.50</td>\n",
       "      <td id=\"T_26184_row3_col3\" class=\"data row3 col3\" >-2.93%</td>\n",
       "      <td id=\"T_26184_row3_col4\" class=\"data row3 col4\" >Worse</td>\n",
       "    </tr>\n",
       "    <tr>\n",
       "      <th id=\"T_26184_level0_row4\" class=\"row_heading level0 row4\" >21</th>\n",
       "      <td id=\"T_26184_row4_col0\" class=\"data row4 col0\" >SYNEX</td>\n",
       "      <td id=\"T_26184_row4_col1\" class=\"data row4 col1\" >21.30</td>\n",
       "      <td id=\"T_26184_row4_col2\" class=\"data row4 col2\" >21.70</td>\n",
       "      <td id=\"T_26184_row4_col3\" class=\"data row4 col3\" >-1.84%</td>\n",
       "      <td id=\"T_26184_row4_col4\" class=\"data row4 col4\" >Worse</td>\n",
       "    </tr>\n",
       "    <tr>\n",
       "      <th id=\"T_26184_level0_row5\" class=\"row_heading level0 row5\" >25</th>\n",
       "      <td id=\"T_26184_row5_col0\" class=\"data row5 col0\" >WHART</td>\n",
       "      <td id=\"T_26184_row5_col1\" class=\"data row5 col1\" >10.50</td>\n",
       "      <td id=\"T_26184_row5_col2\" class=\"data row5 col2\" >10.60</td>\n",
       "      <td id=\"T_26184_row5_col3\" class=\"data row5 col3\" >-0.94%</td>\n",
       "      <td id=\"T_26184_row5_col4\" class=\"data row5 col4\" >Worse</td>\n",
       "    </tr>\n",
       "    <tr>\n",
       "      <th id=\"T_26184_level0_row6\" class=\"row_heading level0 row6\" >12</th>\n",
       "      <td id=\"T_26184_row6_col0\" class=\"data row6 col0\" >MCS</td>\n",
       "      <td id=\"T_26184_row6_col1\" class=\"data row6 col1\" >12.50</td>\n",
       "      <td id=\"T_26184_row6_col2\" class=\"data row6 col2\" >12.60</td>\n",
       "      <td id=\"T_26184_row6_col3\" class=\"data row6 col3\" >-0.79%</td>\n",
       "      <td id=\"T_26184_row6_col4\" class=\"data row6 col4\" >Worse</td>\n",
       "    </tr>\n",
       "    <tr>\n",
       "      <th id=\"T_26184_level0_row7\" class=\"row_heading level0 row7\" >6</th>\n",
       "      <td id=\"T_26184_row7_col0\" class=\"data row7 col0\" >HREIT</td>\n",
       "      <td id=\"T_26184_row7_col1\" class=\"data row7 col1\" >8.40</td>\n",
       "      <td id=\"T_26184_row7_col2\" class=\"data row7 col2\" >8.45</td>\n",
       "      <td id=\"T_26184_row7_col3\" class=\"data row7 col3\" >-0.59%</td>\n",
       "      <td id=\"T_26184_row7_col4\" class=\"data row7 col4\" >Worse</td>\n",
       "    </tr>\n",
       "    <tr>\n",
       "      <th id=\"T_26184_level0_row8\" class=\"row_heading level0 row8\" >4</th>\n",
       "      <td id=\"T_26184_row8_col0\" class=\"data row8 col0\" >DIF</td>\n",
       "      <td id=\"T_26184_row8_col1\" class=\"data row8 col1\" >14.00</td>\n",
       "      <td id=\"T_26184_row8_col2\" class=\"data row8 col2\" >14.00</td>\n",
       "      <td id=\"T_26184_row8_col3\" class=\"data row8 col3\" >0.00%</td>\n",
       "      <td id=\"T_26184_row8_col4\" class=\"data row8 col4\" >No Change</td>\n",
       "    </tr>\n",
       "    <tr>\n",
       "      <th id=\"T_26184_level0_row9\" class=\"row_heading level0 row9\" >9</th>\n",
       "      <td id=\"T_26184_row9_col0\" class=\"data row9 col0\" >JASIF</td>\n",
       "      <td id=\"T_26184_row9_col1\" class=\"data row9 col1\" >10.90</td>\n",
       "      <td id=\"T_26184_row9_col2\" class=\"data row9 col2\" >10.90</td>\n",
       "      <td id=\"T_26184_row9_col3\" class=\"data row9 col3\" >0.00%</td>\n",
       "      <td id=\"T_26184_row9_col4\" class=\"data row9 col4\" >No Change</td>\n",
       "    </tr>\n",
       "    <tr>\n",
       "      <th id=\"T_26184_level0_row10\" class=\"row_heading level0 row10\" >11</th>\n",
       "      <td id=\"T_26184_row10_col0\" class=\"data row10 col0\" >MAKRO</td>\n",
       "      <td id=\"T_26184_row10_col1\" class=\"data row10 col1\" >36.50</td>\n",
       "      <td id=\"T_26184_row10_col2\" class=\"data row10 col2\" >36.50</td>\n",
       "      <td id=\"T_26184_row10_col3\" class=\"data row10 col3\" >0.00%</td>\n",
       "      <td id=\"T_26184_row10_col4\" class=\"data row10 col4\" >No Change</td>\n",
       "    </tr>\n",
       "    <tr>\n",
       "      <th id=\"T_26184_level0_row11\" class=\"row_heading level0 row11\" >22</th>\n",
       "      <td id=\"T_26184_row11_col0\" class=\"data row11 col0\" >TISCO</td>\n",
       "      <td id=\"T_26184_row11_col1\" class=\"data row11 col1\" >89.75</td>\n",
       "      <td id=\"T_26184_row11_col2\" class=\"data row11 col2\" >89.50</td>\n",
       "      <td id=\"T_26184_row11_col3\" class=\"data row11 col3\" >0.28%</td>\n",
       "      <td id=\"T_26184_row11_col4\" class=\"data row11 col4\" >Better</td>\n",
       "    </tr>\n",
       "    <tr>\n",
       "      <th id=\"T_26184_level0_row12\" class=\"row_heading level0 row12\" >18</th>\n",
       "      <td id=\"T_26184_row12_col0\" class=\"data row12 col0\" >SCCC</td>\n",
       "      <td id=\"T_26184_row12_col1\" class=\"data row12 col1\" >150.00</td>\n",
       "      <td id=\"T_26184_row12_col2\" class=\"data row12 col2\" >149.50</td>\n",
       "      <td id=\"T_26184_row12_col3\" class=\"data row12 col3\" >0.33%</td>\n",
       "      <td id=\"T_26184_row12_col4\" class=\"data row12 col4\" >Better</td>\n",
       "    </tr>\n",
       "    <tr>\n",
       "      <th id=\"T_26184_level0_row13\" class=\"row_heading level0 row13\" >20</th>\n",
       "      <td id=\"T_26184_row13_col0\" class=\"data row13 col0\" >STA</td>\n",
       "      <td id=\"T_26184_row13_col1\" class=\"data row13 col1\" >23.90</td>\n",
       "      <td id=\"T_26184_row13_col2\" class=\"data row13 col2\" >23.80</td>\n",
       "      <td id=\"T_26184_row13_col3\" class=\"data row13 col3\" >0.42%</td>\n",
       "      <td id=\"T_26184_row13_col4\" class=\"data row13 col4\" >Better</td>\n",
       "    </tr>\n",
       "    <tr>\n",
       "      <th id=\"T_26184_level0_row14\" class=\"row_heading level0 row14\" >3</th>\n",
       "      <td id=\"T_26184_row14_col0\" class=\"data row14 col0\" >DCC</td>\n",
       "      <td id=\"T_26184_row14_col1\" class=\"data row14 col1\" >2.82</td>\n",
       "      <td id=\"T_26184_row14_col2\" class=\"data row14 col2\" >2.80</td>\n",
       "      <td id=\"T_26184_row14_col3\" class=\"data row14 col3\" >0.71%</td>\n",
       "      <td id=\"T_26184_row14_col4\" class=\"data row14 col4\" >Better</td>\n",
       "    </tr>\n",
       "    <tr>\n",
       "      <th id=\"T_26184_level0_row15\" class=\"row_heading level0 row15\" >8</th>\n",
       "      <td id=\"T_26184_row15_col0\" class=\"data row15 col0\" >IVL</td>\n",
       "      <td id=\"T_26184_row15_col1\" class=\"data row15 col1\" >49.25</td>\n",
       "      <td id=\"T_26184_row15_col2\" class=\"data row15 col2\" >48.75</td>\n",
       "      <td id=\"T_26184_row15_col3\" class=\"data row15 col3\" >1.03%</td>\n",
       "      <td id=\"T_26184_row15_col4\" class=\"data row15 col4\" >Better</td>\n",
       "    </tr>\n",
       "    <tr>\n",
       "      <th id=\"T_26184_level0_row16\" class=\"row_heading level0 row16\" >1</th>\n",
       "      <td id=\"T_26184_row16_col0\" class=\"data row16 col0\" >BCH</td>\n",
       "      <td id=\"T_26184_row16_col1\" class=\"data row16 col1\" >19.00</td>\n",
       "      <td id=\"T_26184_row16_col2\" class=\"data row16 col2\" >18.80</td>\n",
       "      <td id=\"T_26184_row16_col3\" class=\"data row16 col3\" >1.06%</td>\n",
       "      <td id=\"T_26184_row16_col4\" class=\"data row16 col4\" >Better</td>\n",
       "    </tr>\n",
       "    <tr>\n",
       "      <th id=\"T_26184_level0_row17\" class=\"row_heading level0 row17\" >0</th>\n",
       "      <td id=\"T_26184_row17_col0\" class=\"data row17 col0\" >ASP</td>\n",
       "      <td id=\"T_26184_row17_col1\" class=\"data row17 col1\" >3.20</td>\n",
       "      <td id=\"T_26184_row17_col2\" class=\"data row17 col2\" >3.16</td>\n",
       "      <td id=\"T_26184_row17_col3\" class=\"data row17 col3\" >1.27%</td>\n",
       "      <td id=\"T_26184_row17_col4\" class=\"data row17 col4\" >Better</td>\n",
       "    </tr>\n",
       "    <tr>\n",
       "      <th id=\"T_26184_level0_row18\" class=\"row_heading level0 row18\" >17</th>\n",
       "      <td id=\"T_26184_row18_col0\" class=\"data row18 col0\" >SCC</td>\n",
       "      <td id=\"T_26184_row18_col1\" class=\"data row18 col1\" >366.00</td>\n",
       "      <td id=\"T_26184_row18_col2\" class=\"data row18 col2\" >361.00</td>\n",
       "      <td id=\"T_26184_row18_col3\" class=\"data row18 col3\" >1.39%</td>\n",
       "      <td id=\"T_26184_row18_col4\" class=\"data row18 col4\" >Better</td>\n",
       "    </tr>\n",
       "    <tr>\n",
       "      <th id=\"T_26184_level0_row19\" class=\"row_heading level0 row19\" >15</th>\n",
       "      <td id=\"T_26184_row19_col0\" class=\"data row19 col0\" >PTTGC</td>\n",
       "      <td id=\"T_26184_row19_col1\" class=\"data row19 col1\" >47.50</td>\n",
       "      <td id=\"T_26184_row19_col2\" class=\"data row19 col2\" >46.50</td>\n",
       "      <td id=\"T_26184_row19_col3\" class=\"data row19 col3\" >2.15%</td>\n",
       "      <td id=\"T_26184_row19_col4\" class=\"data row19 col4\" >Better</td>\n",
       "    </tr>\n",
       "    <tr>\n",
       "      <th id=\"T_26184_level0_row20\" class=\"row_heading level0 row20\" >23</th>\n",
       "      <td id=\"T_26184_row20_col0\" class=\"data row20 col0\" >TMT</td>\n",
       "      <td id=\"T_26184_row20_col1\" class=\"data row20 col1\" >9.40</td>\n",
       "      <td id=\"T_26184_row20_col2\" class=\"data row20 col2\" >9.20</td>\n",
       "      <td id=\"T_26184_row20_col3\" class=\"data row20 col3\" >2.17%</td>\n",
       "      <td id=\"T_26184_row20_col4\" class=\"data row20 col4\" >Better</td>\n",
       "    </tr>\n",
       "    <tr>\n",
       "      <th id=\"T_26184_level0_row21\" class=\"row_heading level0 row21\" >10</th>\n",
       "      <td id=\"T_26184_row21_col0\" class=\"data row21 col0\" >KCE</td>\n",
       "      <td id=\"T_26184_row21_col1\" class=\"data row21 col1\" >65.00</td>\n",
       "      <td id=\"T_26184_row21_col2\" class=\"data row21 col2\" >63.25</td>\n",
       "      <td id=\"T_26184_row21_col3\" class=\"data row21 col3\" >2.77%</td>\n",
       "      <td id=\"T_26184_row21_col4\" class=\"data row21 col4\" >Better</td>\n",
       "    </tr>\n",
       "    <tr>\n",
       "      <th id=\"T_26184_level0_row22\" class=\"row_heading level0 row22\" >13</th>\n",
       "      <td id=\"T_26184_row22_col0\" class=\"data row22 col0\" >NER</td>\n",
       "      <td id=\"T_26184_row22_col1\" class=\"data row22 col1\" >6.80</td>\n",
       "      <td id=\"T_26184_row22_col2\" class=\"data row22 col2\" >6.60</td>\n",
       "      <td id=\"T_26184_row22_col3\" class=\"data row22 col3\" >3.03%</td>\n",
       "      <td id=\"T_26184_row22_col4\" class=\"data row22 col4\" >Better</td>\n",
       "    </tr>\n",
       "    <tr>\n",
       "      <th id=\"T_26184_level0_row23\" class=\"row_heading level0 row23\" >24</th>\n",
       "      <td id=\"T_26184_row23_col0\" class=\"data row23 col0\" >TPIPL</td>\n",
       "      <td id=\"T_26184_row23_col1\" class=\"data row23 col1\" >1.59</td>\n",
       "      <td id=\"T_26184_row23_col2\" class=\"data row23 col2\" >1.53</td>\n",
       "      <td id=\"T_26184_row23_col3\" class=\"data row23 col3\" >3.92%</td>\n",
       "      <td id=\"T_26184_row23_col4\" class=\"data row23 col4\" >Better</td>\n",
       "    </tr>\n",
       "    <tr>\n",
       "      <th id=\"T_26184_level0_row24\" class=\"row_heading level0 row24\" >19</th>\n",
       "      <td id=\"T_26184_row24_col0\" class=\"data row24 col0\" >SENA</td>\n",
       "      <td id=\"T_26184_row24_col1\" class=\"data row24 col1\" >4.16</td>\n",
       "      <td id=\"T_26184_row24_col2\" class=\"data row24 col2\" >3.94</td>\n",
       "      <td id=\"T_26184_row24_col3\" class=\"data row24 col3\" >5.58%</td>\n",
       "      <td id=\"T_26184_row24_col4\" class=\"data row24 col4\" >Better</td>\n",
       "    </tr>\n",
       "    <tr>\n",
       "      <th id=\"T_26184_level0_row25\" class=\"row_heading level0 row25\" >14</th>\n",
       "      <td id=\"T_26184_row25_col0\" class=\"data row25 col0\" >ORI</td>\n",
       "      <td id=\"T_26184_row25_col1\" class=\"data row25 col1\" >10.60</td>\n",
       "      <td id=\"T_26184_row25_col2\" class=\"data row25 col2\" >9.80</td>\n",
       "      <td id=\"T_26184_row25_col3\" class=\"data row25 col3\" >8.16%</td>\n",
       "      <td id=\"T_26184_row25_col4\" class=\"data row25 col4\" >Better</td>\n",
       "    </tr>\n",
       "  </tbody>\n",
       "</table>\n"
      ],
      "text/plain": [
       "<pandas.io.formats.style.Styler at 0x1d1bda06700>"
      ]
     },
     "execution_count": 15,
     "metadata": {},
     "output_type": "execute_result"
    }
   ],
   "source": [
    "trend.sort_values(by=['percent'],ascending=[True]).style.format(format_dict)"
   ]
  },
  {
   "cell_type": "code",
   "execution_count": 16,
   "metadata": {},
   "outputs": [
    {
     "data": {
      "text/html": [
       "<style type=\"text/css\">\n",
       "</style>\n",
       "<table id=\"T_34f8f_\">\n",
       "  <thead>\n",
       "    <tr>\n",
       "      <th class=\"blank level0\" >&nbsp;</th>\n",
       "      <th class=\"col_heading level0 col0\" >perform</th>\n",
       "    </tr>\n",
       "  </thead>\n",
       "  <tbody>\n",
       "    <tr>\n",
       "      <th id=\"T_34f8f_level0_row0\" class=\"row_heading level0 row0\" >Better</th>\n",
       "      <td id=\"T_34f8f_row0_col0\" class=\"data row0 col0\" >57.69%</td>\n",
       "    </tr>\n",
       "    <tr>\n",
       "      <th id=\"T_34f8f_level0_row1\" class=\"row_heading level0 row1\" >Worse</th>\n",
       "      <td id=\"T_34f8f_row1_col0\" class=\"data row1 col0\" >30.77%</td>\n",
       "    </tr>\n",
       "    <tr>\n",
       "      <th id=\"T_34f8f_level0_row2\" class=\"row_heading level0 row2\" >No Change</th>\n",
       "      <td id=\"T_34f8f_row2_col0\" class=\"data row2 col0\" >11.54%</td>\n",
       "    </tr>\n",
       "  </tbody>\n",
       "</table>\n"
      ],
      "text/plain": [
       "<pandas.io.formats.style.Styler at 0x1d1bda15df0>"
      ]
     },
     "execution_count": 16,
     "metadata": {},
     "output_type": "execute_result"
    }
   ],
   "source": [
    "trend.perform.value_counts(normalize=True).to_frame().style.format('{:.2%}')"
   ]
  },
  {
   "cell_type": "code",
   "execution_count": 17,
   "metadata": {},
   "outputs": [
    {
     "data": {
      "text/plain": [
       "(251, 8)"
      ]
     },
     "execution_count": 17,
     "metadata": {},
     "output_type": "execute_result"
    }
   ],
   "source": [
    "sql = '''\n",
    "SELECT name, max_price AS max, min_price AS min, pe, pbv, daily_volume AS volume, beta, market\n",
    "FROM stocks\n",
    "'''\n",
    "my_stocks = pd.read_sql(sql, conmy)\n",
    "my_stocks.shape"
   ]
  },
  {
   "cell_type": "code",
   "execution_count": 18,
   "metadata": {},
   "outputs": [],
   "source": [
    "filters = [\n",
    "   (my_stocks.market.str.contains('SET50')),\n",
    "   (my_stocks.market.str.contains('SET100')),\n",
    "   (my_stocks.market.str.contains('mai'))]\n",
    "values = ['SET50','SET100','mai']\n",
    "my_stocks[\"mrkt\"] = np.select(filters, values, default='SET999')"
   ]
  },
  {
   "cell_type": "code",
   "execution_count": 19,
   "metadata": {},
   "outputs": [
    {
     "data": {
      "text/plain": [
       "(26, 13)"
      ]
     },
     "execution_count": 19,
     "metadata": {},
     "output_type": "execute_result"
    }
   ],
   "source": [
    "trend2 = pd.merge(trend, my_stocks, on='name', how='inner')\n",
    "trend2.sort_values(['percent'],ascending=[True]).shape"
   ]
  },
  {
   "cell_type": "code",
   "execution_count": 20,
   "metadata": {},
   "outputs": [
    {
     "data": {
      "text/html": [
       "<style type=\"text/css\">\n",
       "</style>\n",
       "<table id=\"T_d54c4_\">\n",
       "  <thead>\n",
       "    <tr>\n",
       "      <th class=\"blank level0\" >&nbsp;</th>\n",
       "      <th class=\"col_heading level0 col0\" >name</th>\n",
       "      <th class=\"col_heading level0 col1\" >price_d</th>\n",
       "      <th class=\"col_heading level0 col2\" >price_w</th>\n",
       "      <th class=\"col_heading level0 col3\" >percent</th>\n",
       "      <th class=\"col_heading level0 col4\" >perform</th>\n",
       "      <th class=\"col_heading level0 col5\" >mrkt</th>\n",
       "    </tr>\n",
       "  </thead>\n",
       "  <tbody>\n",
       "    <tr>\n",
       "      <th id=\"T_d54c4_level0_row0\" class=\"row_heading level0 row0\" >2</th>\n",
       "      <td id=\"T_d54c4_row0_col0\" class=\"data row0 col0\" >BDMS</td>\n",
       "      <td id=\"T_d54c4_row0_col1\" class=\"data row0 col1\" >25.50</td>\n",
       "      <td id=\"T_d54c4_row0_col2\" class=\"data row0 col2\" >27.00</td>\n",
       "      <td id=\"T_d54c4_row0_col3\" class=\"data row0 col3\" >-5.56%</td>\n",
       "      <td id=\"T_d54c4_row0_col4\" class=\"data row0 col4\" >Worse</td>\n",
       "      <td id=\"T_d54c4_row0_col5\" class=\"data row0 col5\" >SET50</td>\n",
       "    </tr>\n",
       "    <tr>\n",
       "      <th id=\"T_d54c4_level0_row1\" class=\"row_heading level0 row1\" >22</th>\n",
       "      <td id=\"T_d54c4_row1_col0\" class=\"data row1 col0\" >TISCO</td>\n",
       "      <td id=\"T_d54c4_row1_col1\" class=\"data row1 col1\" >89.75</td>\n",
       "      <td id=\"T_d54c4_row1_col2\" class=\"data row1 col2\" >89.50</td>\n",
       "      <td id=\"T_d54c4_row1_col3\" class=\"data row1 col3\" >0.28%</td>\n",
       "      <td id=\"T_d54c4_row1_col4\" class=\"data row1 col4\" >Better</td>\n",
       "      <td id=\"T_d54c4_row1_col5\" class=\"data row1 col5\" >SET50</td>\n",
       "    </tr>\n",
       "    <tr>\n",
       "      <th id=\"T_d54c4_level0_row2\" class=\"row_heading level0 row2\" >8</th>\n",
       "      <td id=\"T_d54c4_row2_col0\" class=\"data row2 col0\" >IVL</td>\n",
       "      <td id=\"T_d54c4_row2_col1\" class=\"data row2 col1\" >49.25</td>\n",
       "      <td id=\"T_d54c4_row2_col2\" class=\"data row2 col2\" >48.75</td>\n",
       "      <td id=\"T_d54c4_row2_col3\" class=\"data row2 col3\" >1.03%</td>\n",
       "      <td id=\"T_d54c4_row2_col4\" class=\"data row2 col4\" >Better</td>\n",
       "      <td id=\"T_d54c4_row2_col5\" class=\"data row2 col5\" >SET50</td>\n",
       "    </tr>\n",
       "    <tr>\n",
       "      <th id=\"T_d54c4_level0_row3\" class=\"row_heading level0 row3\" >17</th>\n",
       "      <td id=\"T_d54c4_row3_col0\" class=\"data row3 col0\" >SCC</td>\n",
       "      <td id=\"T_d54c4_row3_col1\" class=\"data row3 col1\" >366.00</td>\n",
       "      <td id=\"T_d54c4_row3_col2\" class=\"data row3 col2\" >361.00</td>\n",
       "      <td id=\"T_d54c4_row3_col3\" class=\"data row3 col3\" >1.39%</td>\n",
       "      <td id=\"T_d54c4_row3_col4\" class=\"data row3 col4\" >Better</td>\n",
       "      <td id=\"T_d54c4_row3_col5\" class=\"data row3 col5\" >SET50</td>\n",
       "    </tr>\n",
       "    <tr>\n",
       "      <th id=\"T_d54c4_level0_row4\" class=\"row_heading level0 row4\" >15</th>\n",
       "      <td id=\"T_d54c4_row4_col0\" class=\"data row4 col0\" >PTTGC</td>\n",
       "      <td id=\"T_d54c4_row4_col1\" class=\"data row4 col1\" >47.50</td>\n",
       "      <td id=\"T_d54c4_row4_col2\" class=\"data row4 col2\" >46.50</td>\n",
       "      <td id=\"T_d54c4_row4_col3\" class=\"data row4 col3\" >2.15%</td>\n",
       "      <td id=\"T_d54c4_row4_col4\" class=\"data row4 col4\" >Better</td>\n",
       "      <td id=\"T_d54c4_row4_col5\" class=\"data row4 col5\" >SET50</td>\n",
       "    </tr>\n",
       "    <tr>\n",
       "      <th id=\"T_d54c4_level0_row5\" class=\"row_heading level0 row5\" >10</th>\n",
       "      <td id=\"T_d54c4_row5_col0\" class=\"data row5 col0\" >KCE</td>\n",
       "      <td id=\"T_d54c4_row5_col1\" class=\"data row5 col1\" >65.00</td>\n",
       "      <td id=\"T_d54c4_row5_col2\" class=\"data row5 col2\" >63.25</td>\n",
       "      <td id=\"T_d54c4_row5_col3\" class=\"data row5 col3\" >2.77%</td>\n",
       "      <td id=\"T_d54c4_row5_col4\" class=\"data row5 col4\" >Better</td>\n",
       "      <td id=\"T_d54c4_row5_col5\" class=\"data row5 col5\" >SET50</td>\n",
       "    </tr>\n",
       "  </tbody>\n",
       "</table>\n"
      ],
      "text/plain": [
       "<pandas.io.formats.style.Styler at 0x1d1bda5bb80>"
      ]
     },
     "execution_count": 20,
     "metadata": {},
     "output_type": "execute_result"
    }
   ],
   "source": [
    "set50 = trend2.mrkt.str.contains('SET50') \n",
    "flt_set50 = trend2[set50]\n",
    "flt_set50[cols].sort_values(by=['percent','name'],ascending=[True,True]).style.format(format_dict)"
   ]
  },
  {
   "cell_type": "code",
   "execution_count": 21,
   "metadata": {},
   "outputs": [
    {
     "data": {
      "text/html": [
       "<style type=\"text/css\">\n",
       "</style>\n",
       "<table id=\"T_2d0ff_\">\n",
       "  <thead>\n",
       "    <tr>\n",
       "      <th class=\"blank level0\" >&nbsp;</th>\n",
       "      <th class=\"col_heading level0 col0\" >perform</th>\n",
       "    </tr>\n",
       "  </thead>\n",
       "  <tbody>\n",
       "    <tr>\n",
       "      <th id=\"T_2d0ff_level0_row0\" class=\"row_heading level0 row0\" >Better</th>\n",
       "      <td id=\"T_2d0ff_row0_col0\" class=\"data row0 col0\" >83.33%</td>\n",
       "    </tr>\n",
       "    <tr>\n",
       "      <th id=\"T_2d0ff_level0_row1\" class=\"row_heading level0 row1\" >Worse</th>\n",
       "      <td id=\"T_2d0ff_row1_col0\" class=\"data row1 col0\" >16.67%</td>\n",
       "    </tr>\n",
       "  </tbody>\n",
       "</table>\n"
      ],
      "text/plain": [
       "<pandas.io.formats.style.Styler at 0x1d1bda5b5b0>"
      ]
     },
     "execution_count": 21,
     "metadata": {},
     "output_type": "execute_result"
    }
   ],
   "source": [
    "flt_set50.perform.value_counts(normalize=True).to_frame().style.format('{:.2%}')"
   ]
  },
  {
   "cell_type": "code",
   "execution_count": 22,
   "metadata": {
    "scrolled": true
   },
   "outputs": [
    {
     "data": {
      "text/html": [
       "<style type=\"text/css\">\n",
       "</style>\n",
       "<table id=\"T_e138f_\">\n",
       "  <thead>\n",
       "    <tr>\n",
       "      <th class=\"blank level0\" >&nbsp;</th>\n",
       "      <th class=\"col_heading level0 col0\" >name</th>\n",
       "      <th class=\"col_heading level0 col1\" >price_d</th>\n",
       "      <th class=\"col_heading level0 col2\" >price_w</th>\n",
       "      <th class=\"col_heading level0 col3\" >percent</th>\n",
       "      <th class=\"col_heading level0 col4\" >perform</th>\n",
       "      <th class=\"col_heading level0 col5\" >mrkt</th>\n",
       "    </tr>\n",
       "  </thead>\n",
       "  <tbody>\n",
       "    <tr>\n",
       "      <th id=\"T_e138f_level0_row0\" class=\"row_heading level0 row0\" >16</th>\n",
       "      <td id=\"T_e138f_row0_col0\" class=\"data row0 col0\" >RCL</td>\n",
       "      <td id=\"T_e138f_row0_col1\" class=\"data row0 col1\" >45.00</td>\n",
       "      <td id=\"T_e138f_row0_col2\" class=\"data row0 col2\" >46.75</td>\n",
       "      <td id=\"T_e138f_row0_col3\" class=\"data row0 col3\" >-3.74%</td>\n",
       "      <td id=\"T_e138f_row0_col4\" class=\"data row0 col4\" >Worse</td>\n",
       "      <td id=\"T_e138f_row0_col5\" class=\"data row0 col5\" >SET100</td>\n",
       "    </tr>\n",
       "    <tr>\n",
       "      <th id=\"T_e138f_level0_row1\" class=\"row_heading level0 row1\" >5</th>\n",
       "      <td id=\"T_e138f_row1_col0\" class=\"data row1 col0\" >DOHOME</td>\n",
       "      <td id=\"T_e138f_row1_col1\" class=\"data row1 col1\" >18.40</td>\n",
       "      <td id=\"T_e138f_row1_col2\" class=\"data row1 col2\" >19.10</td>\n",
       "      <td id=\"T_e138f_row1_col3\" class=\"data row1 col3\" >-3.66%</td>\n",
       "      <td id=\"T_e138f_row1_col4\" class=\"data row1 col4\" >Worse</td>\n",
       "      <td id=\"T_e138f_row1_col5\" class=\"data row1 col5\" >SET100</td>\n",
       "    </tr>\n",
       "    <tr>\n",
       "      <th id=\"T_e138f_level0_row2\" class=\"row_heading level0 row2\" >21</th>\n",
       "      <td id=\"T_e138f_row2_col0\" class=\"data row2 col0\" >SYNEX</td>\n",
       "      <td id=\"T_e138f_row2_col1\" class=\"data row2 col1\" >21.30</td>\n",
       "      <td id=\"T_e138f_row2_col2\" class=\"data row2 col2\" >21.70</td>\n",
       "      <td id=\"T_e138f_row2_col3\" class=\"data row2 col3\" >-1.84%</td>\n",
       "      <td id=\"T_e138f_row2_col4\" class=\"data row2 col4\" >Worse</td>\n",
       "      <td id=\"T_e138f_row2_col5\" class=\"data row2 col5\" >SET100</td>\n",
       "    </tr>\n",
       "    <tr>\n",
       "      <th id=\"T_e138f_level0_row3\" class=\"row_heading level0 row3\" >20</th>\n",
       "      <td id=\"T_e138f_row3_col0\" class=\"data row3 col0\" >STA</td>\n",
       "      <td id=\"T_e138f_row3_col1\" class=\"data row3 col1\" >23.90</td>\n",
       "      <td id=\"T_e138f_row3_col2\" class=\"data row3 col2\" >23.80</td>\n",
       "      <td id=\"T_e138f_row3_col3\" class=\"data row3 col3\" >0.42%</td>\n",
       "      <td id=\"T_e138f_row3_col4\" class=\"data row3 col4\" >Better</td>\n",
       "      <td id=\"T_e138f_row3_col5\" class=\"data row3 col5\" >SET100</td>\n",
       "    </tr>\n",
       "    <tr>\n",
       "      <th id=\"T_e138f_level0_row4\" class=\"row_heading level0 row4\" >1</th>\n",
       "      <td id=\"T_e138f_row4_col0\" class=\"data row4 col0\" >BCH</td>\n",
       "      <td id=\"T_e138f_row4_col1\" class=\"data row4 col1\" >19.00</td>\n",
       "      <td id=\"T_e138f_row4_col2\" class=\"data row4 col2\" >18.80</td>\n",
       "      <td id=\"T_e138f_row4_col3\" class=\"data row4 col3\" >1.06%</td>\n",
       "      <td id=\"T_e138f_row4_col4\" class=\"data row4 col4\" >Better</td>\n",
       "      <td id=\"T_e138f_row4_col5\" class=\"data row4 col5\" >SET100</td>\n",
       "    </tr>\n",
       "    <tr>\n",
       "      <th id=\"T_e138f_level0_row5\" class=\"row_heading level0 row5\" >14</th>\n",
       "      <td id=\"T_e138f_row5_col0\" class=\"data row5 col0\" >ORI</td>\n",
       "      <td id=\"T_e138f_row5_col1\" class=\"data row5 col1\" >10.60</td>\n",
       "      <td id=\"T_e138f_row5_col2\" class=\"data row5 col2\" >9.80</td>\n",
       "      <td id=\"T_e138f_row5_col3\" class=\"data row5 col3\" >8.16%</td>\n",
       "      <td id=\"T_e138f_row5_col4\" class=\"data row5 col4\" >Better</td>\n",
       "      <td id=\"T_e138f_row5_col5\" class=\"data row5 col5\" >SET100</td>\n",
       "    </tr>\n",
       "  </tbody>\n",
       "</table>\n"
      ],
      "text/plain": [
       "<pandas.io.formats.style.Styler at 0x1d1bda0d310>"
      ]
     },
     "execution_count": 22,
     "metadata": {},
     "output_type": "execute_result"
    }
   ],
   "source": [
    "set100 = trend2.mrkt.str.contains('SET100')\n",
    "flt_set100 = trend2[set100]\n",
    "flt_set100[cols].sort_values(by=['percent','name'],ascending=[True,True]).style.format(format_dict)"
   ]
  },
  {
   "cell_type": "code",
   "execution_count": 23,
   "metadata": {},
   "outputs": [
    {
     "data": {
      "text/html": [
       "<style type=\"text/css\">\n",
       "</style>\n",
       "<table id=\"T_34121_\">\n",
       "  <thead>\n",
       "    <tr>\n",
       "      <th class=\"blank level0\" >&nbsp;</th>\n",
       "      <th class=\"col_heading level0 col0\" >perform</th>\n",
       "    </tr>\n",
       "  </thead>\n",
       "  <tbody>\n",
       "    <tr>\n",
       "      <th id=\"T_34121_level0_row0\" class=\"row_heading level0 row0\" >Better</th>\n",
       "      <td id=\"T_34121_row0_col0\" class=\"data row0 col0\" >50.00%</td>\n",
       "    </tr>\n",
       "    <tr>\n",
       "      <th id=\"T_34121_level0_row1\" class=\"row_heading level0 row1\" >Worse</th>\n",
       "      <td id=\"T_34121_row1_col0\" class=\"data row1 col0\" >50.00%</td>\n",
       "    </tr>\n",
       "  </tbody>\n",
       "</table>\n"
      ],
      "text/plain": [
       "<pandas.io.formats.style.Styler at 0x1d1bda88dc0>"
      ]
     },
     "execution_count": 23,
     "metadata": {},
     "output_type": "execute_result"
    }
   ],
   "source": [
    "flt_set100[cols].perform.value_counts(normalize=True).to_frame().style.format('{:.2%}')"
   ]
  },
  {
   "cell_type": "code",
   "execution_count": 24,
   "metadata": {},
   "outputs": [
    {
     "data": {
      "text/html": [
       "<style type=\"text/css\">\n",
       "</style>\n",
       "<table id=\"T_e242f_\">\n",
       "  <thead>\n",
       "    <tr>\n",
       "      <th class=\"blank level0\" >&nbsp;</th>\n",
       "      <th class=\"col_heading level0 col0\" >name</th>\n",
       "      <th class=\"col_heading level0 col1\" >price_d</th>\n",
       "      <th class=\"col_heading level0 col2\" >price_w</th>\n",
       "      <th class=\"col_heading level0 col3\" >percent</th>\n",
       "      <th class=\"col_heading level0 col4\" >perform</th>\n",
       "      <th class=\"col_heading level0 col5\" >mrkt</th>\n",
       "    </tr>\n",
       "  </thead>\n",
       "  <tbody>\n",
       "    <tr>\n",
       "      <th id=\"T_e242f_level0_row0\" class=\"row_heading level0 row0\" >25</th>\n",
       "      <td id=\"T_e242f_row0_col0\" class=\"data row0 col0\" >WHART</td>\n",
       "      <td id=\"T_e242f_row0_col1\" class=\"data row0 col1\" >10.50</td>\n",
       "      <td id=\"T_e242f_row0_col2\" class=\"data row0 col2\" >10.60</td>\n",
       "      <td id=\"T_e242f_row0_col3\" class=\"data row0 col3\" >-0.94%</td>\n",
       "      <td id=\"T_e242f_row0_col4\" class=\"data row0 col4\" >Worse</td>\n",
       "      <td id=\"T_e242f_row0_col5\" class=\"data row0 col5\" >SET999</td>\n",
       "    </tr>\n",
       "    <tr>\n",
       "      <th id=\"T_e242f_level0_row1\" class=\"row_heading level0 row1\" >12</th>\n",
       "      <td id=\"T_e242f_row1_col0\" class=\"data row1 col0\" >MCS</td>\n",
       "      <td id=\"T_e242f_row1_col1\" class=\"data row1 col1\" >12.50</td>\n",
       "      <td id=\"T_e242f_row1_col2\" class=\"data row1 col2\" >12.60</td>\n",
       "      <td id=\"T_e242f_row1_col3\" class=\"data row1 col3\" >-0.79%</td>\n",
       "      <td id=\"T_e242f_row1_col4\" class=\"data row1 col4\" >Worse</td>\n",
       "      <td id=\"T_e242f_row1_col5\" class=\"data row1 col5\" >SET999</td>\n",
       "    </tr>\n",
       "    <tr>\n",
       "      <th id=\"T_e242f_level0_row2\" class=\"row_heading level0 row2\" >6</th>\n",
       "      <td id=\"T_e242f_row2_col0\" class=\"data row2 col0\" >HREIT</td>\n",
       "      <td id=\"T_e242f_row2_col1\" class=\"data row2 col1\" >8.40</td>\n",
       "      <td id=\"T_e242f_row2_col2\" class=\"data row2 col2\" >8.45</td>\n",
       "      <td id=\"T_e242f_row2_col3\" class=\"data row2 col3\" >-0.59%</td>\n",
       "      <td id=\"T_e242f_row2_col4\" class=\"data row2 col4\" >Worse</td>\n",
       "      <td id=\"T_e242f_row2_col5\" class=\"data row2 col5\" >SET999</td>\n",
       "    </tr>\n",
       "    <tr>\n",
       "      <th id=\"T_e242f_level0_row3\" class=\"row_heading level0 row3\" >4</th>\n",
       "      <td id=\"T_e242f_row3_col0\" class=\"data row3 col0\" >DIF</td>\n",
       "      <td id=\"T_e242f_row3_col1\" class=\"data row3 col1\" >14.00</td>\n",
       "      <td id=\"T_e242f_row3_col2\" class=\"data row3 col2\" >14.00</td>\n",
       "      <td id=\"T_e242f_row3_col3\" class=\"data row3 col3\" >0.00%</td>\n",
       "      <td id=\"T_e242f_row3_col4\" class=\"data row3 col4\" >No Change</td>\n",
       "      <td id=\"T_e242f_row3_col5\" class=\"data row3 col5\" >SET999</td>\n",
       "    </tr>\n",
       "    <tr>\n",
       "      <th id=\"T_e242f_level0_row4\" class=\"row_heading level0 row4\" >9</th>\n",
       "      <td id=\"T_e242f_row4_col0\" class=\"data row4 col0\" >JASIF</td>\n",
       "      <td id=\"T_e242f_row4_col1\" class=\"data row4 col1\" >10.90</td>\n",
       "      <td id=\"T_e242f_row4_col2\" class=\"data row4 col2\" >10.90</td>\n",
       "      <td id=\"T_e242f_row4_col3\" class=\"data row4 col3\" >0.00%</td>\n",
       "      <td id=\"T_e242f_row4_col4\" class=\"data row4 col4\" >No Change</td>\n",
       "      <td id=\"T_e242f_row4_col5\" class=\"data row4 col5\" >SET999</td>\n",
       "    </tr>\n",
       "    <tr>\n",
       "      <th id=\"T_e242f_level0_row5\" class=\"row_heading level0 row5\" >11</th>\n",
       "      <td id=\"T_e242f_row5_col0\" class=\"data row5 col0\" >MAKRO</td>\n",
       "      <td id=\"T_e242f_row5_col1\" class=\"data row5 col1\" >36.50</td>\n",
       "      <td id=\"T_e242f_row5_col2\" class=\"data row5 col2\" >36.50</td>\n",
       "      <td id=\"T_e242f_row5_col3\" class=\"data row5 col3\" >0.00%</td>\n",
       "      <td id=\"T_e242f_row5_col4\" class=\"data row5 col4\" >No Change</td>\n",
       "      <td id=\"T_e242f_row5_col5\" class=\"data row5 col5\" >SET999</td>\n",
       "    </tr>\n",
       "    <tr>\n",
       "      <th id=\"T_e242f_level0_row6\" class=\"row_heading level0 row6\" >18</th>\n",
       "      <td id=\"T_e242f_row6_col0\" class=\"data row6 col0\" >SCCC</td>\n",
       "      <td id=\"T_e242f_row6_col1\" class=\"data row6 col1\" >150.00</td>\n",
       "      <td id=\"T_e242f_row6_col2\" class=\"data row6 col2\" >149.50</td>\n",
       "      <td id=\"T_e242f_row6_col3\" class=\"data row6 col3\" >0.33%</td>\n",
       "      <td id=\"T_e242f_row6_col4\" class=\"data row6 col4\" >Better</td>\n",
       "      <td id=\"T_e242f_row6_col5\" class=\"data row6 col5\" >SET999</td>\n",
       "    </tr>\n",
       "    <tr>\n",
       "      <th id=\"T_e242f_level0_row7\" class=\"row_heading level0 row7\" >3</th>\n",
       "      <td id=\"T_e242f_row7_col0\" class=\"data row7 col0\" >DCC</td>\n",
       "      <td id=\"T_e242f_row7_col1\" class=\"data row7 col1\" >2.82</td>\n",
       "      <td id=\"T_e242f_row7_col2\" class=\"data row7 col2\" >2.80</td>\n",
       "      <td id=\"T_e242f_row7_col3\" class=\"data row7 col3\" >0.71%</td>\n",
       "      <td id=\"T_e242f_row7_col4\" class=\"data row7 col4\" >Better</td>\n",
       "      <td id=\"T_e242f_row7_col5\" class=\"data row7 col5\" >SET999</td>\n",
       "    </tr>\n",
       "    <tr>\n",
       "      <th id=\"T_e242f_level0_row8\" class=\"row_heading level0 row8\" >0</th>\n",
       "      <td id=\"T_e242f_row8_col0\" class=\"data row8 col0\" >ASP</td>\n",
       "      <td id=\"T_e242f_row8_col1\" class=\"data row8 col1\" >3.20</td>\n",
       "      <td id=\"T_e242f_row8_col2\" class=\"data row8 col2\" >3.16</td>\n",
       "      <td id=\"T_e242f_row8_col3\" class=\"data row8 col3\" >1.27%</td>\n",
       "      <td id=\"T_e242f_row8_col4\" class=\"data row8 col4\" >Better</td>\n",
       "      <td id=\"T_e242f_row8_col5\" class=\"data row8 col5\" >SET999</td>\n",
       "    </tr>\n",
       "    <tr>\n",
       "      <th id=\"T_e242f_level0_row9\" class=\"row_heading level0 row9\" >23</th>\n",
       "      <td id=\"T_e242f_row9_col0\" class=\"data row9 col0\" >TMT</td>\n",
       "      <td id=\"T_e242f_row9_col1\" class=\"data row9 col1\" >9.40</td>\n",
       "      <td id=\"T_e242f_row9_col2\" class=\"data row9 col2\" >9.20</td>\n",
       "      <td id=\"T_e242f_row9_col3\" class=\"data row9 col3\" >2.17%</td>\n",
       "      <td id=\"T_e242f_row9_col4\" class=\"data row9 col4\" >Better</td>\n",
       "      <td id=\"T_e242f_row9_col5\" class=\"data row9 col5\" >SET999</td>\n",
       "    </tr>\n",
       "    <tr>\n",
       "      <th id=\"T_e242f_level0_row10\" class=\"row_heading level0 row10\" >13</th>\n",
       "      <td id=\"T_e242f_row10_col0\" class=\"data row10 col0\" >NER</td>\n",
       "      <td id=\"T_e242f_row10_col1\" class=\"data row10 col1\" >6.80</td>\n",
       "      <td id=\"T_e242f_row10_col2\" class=\"data row10 col2\" >6.60</td>\n",
       "      <td id=\"T_e242f_row10_col3\" class=\"data row10 col3\" >3.03%</td>\n",
       "      <td id=\"T_e242f_row10_col4\" class=\"data row10 col4\" >Better</td>\n",
       "      <td id=\"T_e242f_row10_col5\" class=\"data row10 col5\" >SET999</td>\n",
       "    </tr>\n",
       "    <tr>\n",
       "      <th id=\"T_e242f_level0_row11\" class=\"row_heading level0 row11\" >24</th>\n",
       "      <td id=\"T_e242f_row11_col0\" class=\"data row11 col0\" >TPIPL</td>\n",
       "      <td id=\"T_e242f_row11_col1\" class=\"data row11 col1\" >1.59</td>\n",
       "      <td id=\"T_e242f_row11_col2\" class=\"data row11 col2\" >1.53</td>\n",
       "      <td id=\"T_e242f_row11_col3\" class=\"data row11 col3\" >3.92%</td>\n",
       "      <td id=\"T_e242f_row11_col4\" class=\"data row11 col4\" >Better</td>\n",
       "      <td id=\"T_e242f_row11_col5\" class=\"data row11 col5\" >SET999</td>\n",
       "    </tr>\n",
       "    <tr>\n",
       "      <th id=\"T_e242f_level0_row12\" class=\"row_heading level0 row12\" >19</th>\n",
       "      <td id=\"T_e242f_row12_col0\" class=\"data row12 col0\" >SENA</td>\n",
       "      <td id=\"T_e242f_row12_col1\" class=\"data row12 col1\" >4.16</td>\n",
       "      <td id=\"T_e242f_row12_col2\" class=\"data row12 col2\" >3.94</td>\n",
       "      <td id=\"T_e242f_row12_col3\" class=\"data row12 col3\" >5.58%</td>\n",
       "      <td id=\"T_e242f_row12_col4\" class=\"data row12 col4\" >Better</td>\n",
       "      <td id=\"T_e242f_row12_col5\" class=\"data row12 col5\" >SET999</td>\n",
       "    </tr>\n",
       "  </tbody>\n",
       "</table>\n"
      ],
      "text/plain": [
       "<pandas.io.formats.style.Styler at 0x1d1bda067c0>"
      ]
     },
     "execution_count": 24,
     "metadata": {},
     "output_type": "execute_result"
    }
   ],
   "source": [
    "set999 = trend2.mrkt.str.contains('SET999')\n",
    "flt_set999 = trend2[set999]\n",
    "flt_set999[cols].sort_values(by=['percent','name'],ascending=[True,True]).style.format(format_dict)"
   ]
  },
  {
   "cell_type": "code",
   "execution_count": 25,
   "metadata": {},
   "outputs": [
    {
     "data": {
      "text/html": [
       "<style type=\"text/css\">\n",
       "</style>\n",
       "<table id=\"T_c1cd8_\">\n",
       "  <thead>\n",
       "    <tr>\n",
       "      <th class=\"blank level0\" >&nbsp;</th>\n",
       "      <th class=\"col_heading level0 col0\" >perform</th>\n",
       "    </tr>\n",
       "  </thead>\n",
       "  <tbody>\n",
       "    <tr>\n",
       "      <th id=\"T_c1cd8_level0_row0\" class=\"row_heading level0 row0\" >Better</th>\n",
       "      <td id=\"T_c1cd8_row0_col0\" class=\"data row0 col0\" >53.85%</td>\n",
       "    </tr>\n",
       "    <tr>\n",
       "      <th id=\"T_c1cd8_level0_row1\" class=\"row_heading level0 row1\" >No Change</th>\n",
       "      <td id=\"T_c1cd8_row1_col0\" class=\"data row1 col0\" >23.08%</td>\n",
       "    </tr>\n",
       "    <tr>\n",
       "      <th id=\"T_c1cd8_level0_row2\" class=\"row_heading level0 row2\" >Worse</th>\n",
       "      <td id=\"T_c1cd8_row2_col0\" class=\"data row2 col0\" >23.08%</td>\n",
       "    </tr>\n",
       "  </tbody>\n",
       "</table>\n"
      ],
      "text/plain": [
       "<pandas.io.formats.style.Styler at 0x1d1bda88910>"
      ]
     },
     "execution_count": 25,
     "metadata": {},
     "output_type": "execute_result"
    }
   ],
   "source": [
    "flt_set999[cols].perform.value_counts(normalize=True).to_frame().style.format('{:.2%}')"
   ]
  },
  {
   "cell_type": "code",
   "execution_count": 26,
   "metadata": {},
   "outputs": [
    {
     "data": {
      "text/html": [
       "<style type=\"text/css\">\n",
       "</style>\n",
       "<table id=\"T_7688c_\">\n",
       "  <thead>\n",
       "    <tr>\n",
       "      <th class=\"blank level0\" >&nbsp;</th>\n",
       "      <th class=\"col_heading level0 col0\" >name</th>\n",
       "      <th class=\"col_heading level0 col1\" >price_d</th>\n",
       "      <th class=\"col_heading level0 col2\" >price_w</th>\n",
       "      <th class=\"col_heading level0 col3\" >percent</th>\n",
       "      <th class=\"col_heading level0 col4\" >perform</th>\n",
       "      <th class=\"col_heading level0 col5\" >mrkt</th>\n",
       "    </tr>\n",
       "  </thead>\n",
       "  <tbody>\n",
       "    <tr>\n",
       "      <th id=\"T_7688c_level0_row0\" class=\"row_heading level0 row0\" >7</th>\n",
       "      <td id=\"T_7688c_row0_col0\" class=\"data row0 col0\" >IP</td>\n",
       "      <td id=\"T_7688c_row0_col1\" class=\"data row0 col1\" >19.90</td>\n",
       "      <td id=\"T_7688c_row0_col2\" class=\"data row0 col2\" >20.50</td>\n",
       "      <td id=\"T_7688c_row0_col3\" class=\"data row0 col3\" >-2.93%</td>\n",
       "      <td id=\"T_7688c_row0_col4\" class=\"data row0 col4\" >Worse</td>\n",
       "      <td id=\"T_7688c_row0_col5\" class=\"data row0 col5\" >mai</td>\n",
       "    </tr>\n",
       "  </tbody>\n",
       "</table>\n"
      ],
      "text/plain": [
       "<pandas.io.formats.style.Styler at 0x1d1bda91c40>"
      ]
     },
     "execution_count": 26,
     "metadata": {},
     "output_type": "execute_result"
    }
   ],
   "source": [
    "setmai = trend2.mrkt.str.contains('mai')\n",
    "flt_setmai = trend2[setmai]\n",
    "flt_setmai[cols].sort_values(by=['percent','name'],ascending=[True,True]).style.format(format_dict)"
   ]
  },
  {
   "cell_type": "code",
   "execution_count": 27,
   "metadata": {},
   "outputs": [
    {
     "data": {
      "text/html": [
       "<style type=\"text/css\">\n",
       "</style>\n",
       "<table id=\"T_e6348_\">\n",
       "  <thead>\n",
       "    <tr>\n",
       "      <th class=\"blank level0\" >&nbsp;</th>\n",
       "      <th class=\"col_heading level0 col0\" >perform</th>\n",
       "    </tr>\n",
       "  </thead>\n",
       "  <tbody>\n",
       "    <tr>\n",
       "      <th id=\"T_e6348_level0_row0\" class=\"row_heading level0 row0\" >Worse</th>\n",
       "      <td id=\"T_e6348_row0_col0\" class=\"data row0 col0\" >100.00%</td>\n",
       "    </tr>\n",
       "  </tbody>\n",
       "</table>\n"
      ],
      "text/plain": [
       "<pandas.io.formats.style.Styler at 0x1d1b9d9f4c0>"
      ]
     },
     "execution_count": 27,
     "metadata": {},
     "output_type": "execute_result"
    }
   ],
   "source": [
    "flt_setmai[cols].perform.value_counts(normalize=True).to_frame().style.format('{:.2%}')"
   ]
  },
  {
   "cell_type": "code",
   "execution_count": null,
   "metadata": {},
   "outputs": [],
   "source": []
  },
  {
   "cell_type": "code",
   "execution_count": null,
   "metadata": {},
   "outputs": [],
   "source": []
  }
 ],
 "metadata": {
  "anaconda-cloud": {},
  "kernelspec": {
   "display_name": "Python 3 (ipykernel)",
   "language": "python",
   "name": "python3"
  },
  "language_info": {
   "codemirror_mode": {
    "name": "ipython",
    "version": 3
   },
   "file_extension": ".py",
   "mimetype": "text/x-python",
   "name": "python",
   "nbconvert_exporter": "python",
   "pygments_lexer": "ipython3",
   "version": "3.8.11"
  }
 },
 "nbformat": 4,
 "nbformat_minor": 1
}
