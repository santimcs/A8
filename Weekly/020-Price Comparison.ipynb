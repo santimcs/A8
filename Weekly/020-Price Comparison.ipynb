{
 "cells": [
  {
   "cell_type": "markdown",
   "metadata": {},
   "source": [
    "### portmy database: stocks table\n",
    "### stock database: buy, price tables"
   ]
  },
  {
   "cell_type": "code",
   "execution_count": 1,
   "metadata": {},
   "outputs": [
    {
     "data": {
      "text/plain": [
       "(datetime.date(2022, 9, 24), '2022-38')"
      ]
     },
     "execution_count": 1,
     "metadata": {},
     "output_type": "execute_result"
    }
   ],
   "source": [
    "import pandas as pd\n",
    "import numpy as np\n",
    "from datetime import date, timedelta\n",
    "from sqlalchemy import create_engine\n",
    "\n",
    "engine = create_engine(\"sqlite:///c:\\\\ruby\\\\portmy\\\\db\\\\development.sqlite3\")\n",
    "conmy = engine.connect()\n",
    "conmy = engine.connect()\n",
    "engine = create_engine(\"mysql+pymysql://root:@localhost:3306/stock\")\n",
    "const = engine.connect()\n",
    "\n",
    "pd.set_option('display.float_format','{:,.2f}'.format)\n",
    "\n",
    "data_path = \"../data/\"\n",
    "csv_path = \"\\\\Users\\\\User\\\\iCloudDrive\\\\\"\n",
    "box_path = \"\\\\Users\\\\User\\\\Dropbox\\\\\"\n",
    "\n",
    "today = date.today()\n",
    "week_str = today.strftime('%Y-%U')\n",
    "today, week_str"
   ]
  },
  {
   "cell_type": "markdown",
   "metadata": {},
   "source": [
    "### Process after last business day, today must be last business day"
   ]
  },
  {
   "cell_type": "code",
   "execution_count": 2,
   "metadata": {},
   "outputs": [
    {
     "data": {
      "text/plain": [
       "(datetime.date(2022, 9, 23), datetime.date(2022, 9, 16))"
      ]
     },
     "execution_count": 2,
     "metadata": {},
     "output_type": "execute_result"
    }
   ],
   "source": [
    "today = today - timedelta(days=1)\n",
    "wkago = today - timedelta(days=7)\n",
    "today, wkago"
   ]
  },
  {
   "cell_type": "markdown",
   "metadata": {},
   "source": [
    "### Restart & Run All Cells"
   ]
  },
  {
   "cell_type": "markdown",
   "metadata": {},
   "source": [
    "### This process affects only already in port stocks. To highlight price changes in percent."
   ]
  },
  {
   "cell_type": "code",
   "execution_count": 3,
   "metadata": {},
   "outputs": [],
   "source": [
    "cols = 'name price_d price_w percent perform mrkt '.split()"
   ]
  },
  {
   "cell_type": "code",
   "execution_count": 4,
   "metadata": {},
   "outputs": [],
   "source": [
    "format_dict = {\n",
    "    'qty':'{:,}',    \n",
    "    'price':'{:.2f}','price_d':'{:.2f}','price_w':'{:.2f}',\n",
    "    'max_price':'{:.2f}','min_price':'{:.2f}',\n",
    "    'maxp':'{:.2f}','minp':'{:.2f}','opnp':'{:.2f}',    \n",
    "    'pct':'{:,.2f}%','percent':'{:,.2f}%',\n",
    "    \n",
    "    'pe':'{:.2f}','pbv':'{:.2f}',\n",
    "    'paid_up':'{:,.2f}','market_cap':'{:,.2f}',\n",
    "    'daily_volume':'{:,.2f}','beta':'{:,.2f}', \n",
    "    'dly_vol':'{:,.2f}', \n",
    "}"
   ]
  },
  {
   "cell_type": "code",
   "execution_count": 5,
   "metadata": {},
   "outputs": [
    {
     "data": {
      "text/html": [
       "<style type=\"text/css\">\n",
       "</style>\n",
       "<table id=\"T_34a54_\">\n",
       "  <thead>\n",
       "    <tr>\n",
       "      <th class=\"blank level0\" >&nbsp;</th>\n",
       "      <th class=\"col_heading level0 col0\" >name</th>\n",
       "      <th class=\"col_heading level0 col1\" >date</th>\n",
       "      <th class=\"col_heading level0 col2\" >price</th>\n",
       "    </tr>\n",
       "  </thead>\n",
       "  <tbody>\n",
       "    <tr>\n",
       "      <th id=\"T_34a54_level0_row0\" class=\"row_heading level0 row0\" >0</th>\n",
       "      <td id=\"T_34a54_row0_col0\" class=\"data row0 col0\" >IVL</td>\n",
       "      <td id=\"T_34a54_row0_col1\" class=\"data row0 col1\" >2022-08-29</td>\n",
       "      <td id=\"T_34a54_row0_col2\" class=\"data row0 col2\" >44.00</td>\n",
       "    </tr>\n",
       "  </tbody>\n",
       "</table>\n"
      ],
      "text/plain": [
       "<pandas.io.formats.style.Styler at 0x1b0b037fb50>"
      ]
     },
     "execution_count": 5,
     "metadata": {},
     "output_type": "execute_result"
    }
   ],
   "source": [
    "sql = \"\"\"\n",
    "SELECT name, date, price \n",
    "FROM buy \n",
    "ORDER BY date DESC \n",
    "LIMIT 1\n",
    "\"\"\"\n",
    "df_buy = pd.read_sql(sql, const)\n",
    "df_buy.style.format(format_dict)"
   ]
  },
  {
   "cell_type": "code",
   "execution_count": 6,
   "metadata": {},
   "outputs": [
    {
     "name": "stdout",
     "output_type": "stream",
     "text": [
      "\n",
      "SELECT * FROM stocks WHERE name = 'IVL'\n",
      "\n"
     ]
    },
    {
     "data": {
      "text/html": [
       "<style type=\"text/css\">\n",
       "</style>\n",
       "<table id=\"T_5245e_\">\n",
       "  <thead>\n",
       "    <tr>\n",
       "      <th class=\"blank level0\" >&nbsp;</th>\n",
       "      <th class=\"col_heading level0 col0\" >id</th>\n",
       "      <th class=\"col_heading level0 col1\" >name</th>\n",
       "      <th class=\"col_heading level0 col2\" >market</th>\n",
       "      <th class=\"col_heading level0 col3\" >price</th>\n",
       "      <th class=\"col_heading level0 col4\" >max_price</th>\n",
       "      <th class=\"col_heading level0 col5\" >min_price</th>\n",
       "      <th class=\"col_heading level0 col6\" >pe</th>\n",
       "      <th class=\"col_heading level0 col7\" >pbv</th>\n",
       "      <th class=\"col_heading level0 col8\" >paid_up</th>\n",
       "      <th class=\"col_heading level0 col9\" >market_cap</th>\n",
       "      <th class=\"col_heading level0 col10\" >daily_volume</th>\n",
       "      <th class=\"col_heading level0 col11\" >beta</th>\n",
       "      <th class=\"col_heading level0 col12\" >ticker_id</th>\n",
       "      <th class=\"col_heading level0 col13\" >created_at</th>\n",
       "      <th class=\"col_heading level0 col14\" >updated_at</th>\n",
       "    </tr>\n",
       "  </thead>\n",
       "  <tbody>\n",
       "    <tr>\n",
       "      <th id=\"T_5245e_level0_row0\" class=\"row_heading level0 row0\" >0</th>\n",
       "      <td id=\"T_5245e_row0_col0\" class=\"data row0 col0\" >231</td>\n",
       "      <td id=\"T_5245e_row0_col1\" class=\"data row0 col1\" >IVL</td>\n",
       "      <td id=\"T_5245e_row0_col2\" class=\"data row0 col2\" >SET50 / SETTHSI    </td>\n",
       "      <td id=\"T_5245e_row0_col3\" class=\"data row0 col3\" >40.75</td>\n",
       "      <td id=\"T_5245e_row0_col4\" class=\"data row0 col4\" >52.75</td>\n",
       "      <td id=\"T_5245e_row0_col5\" class=\"data row0 col5\" >38.75</td>\n",
       "      <td id=\"T_5245e_row0_col6\" class=\"data row0 col6\" >4.94</td>\n",
       "      <td id=\"T_5245e_row0_col7\" class=\"data row0 col7\" >1.17</td>\n",
       "      <td id=\"T_5245e_row0_col8\" class=\"data row0 col8\" >5,614.55</td>\n",
       "      <td id=\"T_5245e_row0_col9\" class=\"data row0 col9\" >228,792.99</td>\n",
       "      <td id=\"T_5245e_row0_col10\" class=\"data row0 col10\" >1,015.21</td>\n",
       "      <td id=\"T_5245e_row0_col11\" class=\"data row0 col11\" >1.09</td>\n",
       "      <td id=\"T_5245e_row0_col12\" class=\"data row0 col12\" >231</td>\n",
       "      <td id=\"T_5245e_row0_col13\" class=\"data row0 col13\" >2017-07-23 07:24:52.636551</td>\n",
       "      <td id=\"T_5245e_row0_col14\" class=\"data row0 col14\" >2022-09-24 07:47:45.386677</td>\n",
       "    </tr>\n",
       "  </tbody>\n",
       "</table>\n"
      ],
      "text/plain": [
       "<pandas.io.formats.style.Styler at 0x1b0b13c89a0>"
      ]
     },
     "execution_count": 6,
     "metadata": {},
     "output_type": "execute_result"
    }
   ],
   "source": [
    "names = df_buy['name']\n",
    "name = names.to_string(index=False)\n",
    "\n",
    "sql = '''\n",
    "SELECT * FROM stocks WHERE name = '%s'\n",
    "'''\n",
    "sql = sql % name\n",
    "print(sql)\n",
    "\n",
    "df_stocks = pd.read_sql(sql, conmy)\n",
    "df_stocks.style.format(format_dict) "
   ]
  },
  {
   "cell_type": "code",
   "execution_count": 7,
   "metadata": {},
   "outputs": [
    {
     "name": "stdout",
     "output_type": "stream",
     "text": [
      "\n",
      "SELECT * FROM price WHERE name = \"IVL\" ORDER BY date DESC LIMIT 5\n",
      "\n"
     ]
    },
    {
     "data": {
      "text/html": [
       "<style type=\"text/css\">\n",
       "</style>\n",
       "<table id=\"T_0632d_\">\n",
       "  <thead>\n",
       "    <tr>\n",
       "      <th class=\"blank level0\" >&nbsp;</th>\n",
       "      <th class=\"col_heading level0 col0\" >name</th>\n",
       "      <th class=\"col_heading level0 col1\" >date</th>\n",
       "      <th class=\"col_heading level0 col2\" >price</th>\n",
       "      <th class=\"col_heading level0 col3\" >maxp</th>\n",
       "      <th class=\"col_heading level0 col4\" >minp</th>\n",
       "      <th class=\"col_heading level0 col5\" >qty</th>\n",
       "      <th class=\"col_heading level0 col6\" >opnp</th>\n",
       "    </tr>\n",
       "  </thead>\n",
       "  <tbody>\n",
       "    <tr>\n",
       "      <th id=\"T_0632d_level0_row0\" class=\"row_heading level0 row0\" >0</th>\n",
       "      <td id=\"T_0632d_row0_col0\" class=\"data row0 col0\" >IVL</td>\n",
       "      <td id=\"T_0632d_row0_col1\" class=\"data row0 col1\" >2022-09-23</td>\n",
       "      <td id=\"T_0632d_row0_col2\" class=\"data row0 col2\" >40.75</td>\n",
       "      <td id=\"T_0632d_row0_col3\" class=\"data row0 col3\" >41.00</td>\n",
       "      <td id=\"T_0632d_row0_col4\" class=\"data row0 col4\" >40.50</td>\n",
       "      <td id=\"T_0632d_row0_col5\" class=\"data row0 col5\" >12,084,669</td>\n",
       "      <td id=\"T_0632d_row0_col6\" class=\"data row0 col6\" >40.75</td>\n",
       "    </tr>\n",
       "    <tr>\n",
       "      <th id=\"T_0632d_level0_row1\" class=\"row_heading level0 row1\" >1</th>\n",
       "      <td id=\"T_0632d_row1_col0\" class=\"data row1 col0\" >IVL</td>\n",
       "      <td id=\"T_0632d_row1_col1\" class=\"data row1 col1\" >2022-09-22</td>\n",
       "      <td id=\"T_0632d_row1_col2\" class=\"data row1 col2\" >40.75</td>\n",
       "      <td id=\"T_0632d_row1_col3\" class=\"data row1 col3\" >41.25</td>\n",
       "      <td id=\"T_0632d_row1_col4\" class=\"data row1 col4\" >40.00</td>\n",
       "      <td id=\"T_0632d_row1_col5\" class=\"data row1 col5\" >31,862,046</td>\n",
       "      <td id=\"T_0632d_row1_col6\" class=\"data row1 col6\" >40.25</td>\n",
       "    </tr>\n",
       "    <tr>\n",
       "      <th id=\"T_0632d_level0_row2\" class=\"row_heading level0 row2\" >2</th>\n",
       "      <td id=\"T_0632d_row2_col0\" class=\"data row2 col0\" >IVL</td>\n",
       "      <td id=\"T_0632d_row2_col1\" class=\"data row2 col1\" >2022-09-21</td>\n",
       "      <td id=\"T_0632d_row2_col2\" class=\"data row2 col2\" >40.50</td>\n",
       "      <td id=\"T_0632d_row2_col3\" class=\"data row2 col3\" >41.00</td>\n",
       "      <td id=\"T_0632d_row2_col4\" class=\"data row2 col4\" >40.25</td>\n",
       "      <td id=\"T_0632d_row2_col5\" class=\"data row2 col5\" >12,058,280</td>\n",
       "      <td id=\"T_0632d_row2_col6\" class=\"data row2 col6\" >40.75</td>\n",
       "    </tr>\n",
       "    <tr>\n",
       "      <th id=\"T_0632d_level0_row3\" class=\"row_heading level0 row3\" >3</th>\n",
       "      <td id=\"T_0632d_row3_col0\" class=\"data row3 col0\" >IVL</td>\n",
       "      <td id=\"T_0632d_row3_col1\" class=\"data row3 col1\" >2022-09-20</td>\n",
       "      <td id=\"T_0632d_row3_col2\" class=\"data row3 col2\" >40.75</td>\n",
       "      <td id=\"T_0632d_row3_col3\" class=\"data row3 col3\" >41.25</td>\n",
       "      <td id=\"T_0632d_row3_col4\" class=\"data row3 col4\" >40.50</td>\n",
       "      <td id=\"T_0632d_row3_col5\" class=\"data row3 col5\" >10,826,748</td>\n",
       "      <td id=\"T_0632d_row3_col6\" class=\"data row3 col6\" >40.50</td>\n",
       "    </tr>\n",
       "    <tr>\n",
       "      <th id=\"T_0632d_level0_row4\" class=\"row_heading level0 row4\" >4</th>\n",
       "      <td id=\"T_0632d_row4_col0\" class=\"data row4 col0\" >IVL</td>\n",
       "      <td id=\"T_0632d_row4_col1\" class=\"data row4 col1\" >2022-09-19</td>\n",
       "      <td id=\"T_0632d_row4_col2\" class=\"data row4 col2\" >40.25</td>\n",
       "      <td id=\"T_0632d_row4_col3\" class=\"data row4 col3\" >40.75</td>\n",
       "      <td id=\"T_0632d_row4_col4\" class=\"data row4 col4\" >40.00</td>\n",
       "      <td id=\"T_0632d_row4_col5\" class=\"data row4 col5\" >12,300,231</td>\n",
       "      <td id=\"T_0632d_row4_col6\" class=\"data row4 col6\" >40.50</td>\n",
       "    </tr>\n",
       "  </tbody>\n",
       "</table>\n"
      ],
      "text/plain": [
       "<pandas.io.formats.style.Styler at 0x1b0b13c83d0>"
      ]
     },
     "execution_count": 7,
     "metadata": {},
     "output_type": "execute_result"
    }
   ],
   "source": [
    "sql = '''\n",
    "SELECT * FROM price WHERE name = \"%s\" ORDER BY date DESC LIMIT 5\n",
    "'''\n",
    "sql = sql % name\n",
    "print(sql)\n",
    "\n",
    "df_price = pd.read_sql(sql, const)\n",
    "df_price.style.format(format_dict)"
   ]
  },
  {
   "cell_type": "code",
   "execution_count": 8,
   "metadata": {},
   "outputs": [
    {
     "name": "stdout",
     "output_type": "stream",
     "text": [
      "\n",
      "SELECT name, price AS price_d \n",
      "FROM price \n",
      "WHERE date = '2022-09-23' AND name IN ('ASP', 'BCH', 'CPNREIT', 'DCC', 'DIF', 'DOHOME', 'GVREIT', 'IVL', 'JASIF', 'KCE', 'MAKRO', 'MCS', 'NER', 'ORI', 'PTTGC', 'RCL', 'SCC', 'SCCC', 'SENA', 'STA', 'SYNEX', 'TMT', 'VNG', 'WHAIR', 'WHART')\n",
      "ORDER BY name, date\n"
     ]
    },
    {
     "data": {
      "text/plain": [
       "25"
      ]
     },
     "execution_count": 8,
     "metadata": {},
     "output_type": "execute_result"
    }
   ],
   "source": [
    "sql = '''\n",
    "SELECT name\n",
    "FROM buy \n",
    "WHERE active = 1\n",
    "ORDER BY name'''\n",
    "df_price = pd.read_sql(sql, const)\n",
    "\n",
    "names = df_price.name.tolist()\n",
    "in_p = \", \".join(map(lambda name: \"'%s'\" % name, names))\n",
    "\n",
    "sql = \"\"\"\n",
    "SELECT name, price AS price_d \n",
    "FROM price \n",
    "WHERE date = '%s' AND name IN (%s)\n",
    "ORDER BY name, date\"\"\"\n",
    "sql = sql % (today, in_p)\n",
    "print(sql)\n",
    "\n",
    "df_today = pd.read_sql(sql, const)\n",
    "df_today.shape[0]"
   ]
  },
  {
   "cell_type": "code",
   "execution_count": 9,
   "metadata": {},
   "outputs": [
    {
     "name": "stdout",
     "output_type": "stream",
     "text": [
      "\n",
      "SELECT name, price AS price_w\n",
      "FROM price \n",
      "WHERE date = '2022-09-16' AND name IN ('ASP', 'BCH', 'CPNREIT', 'DCC', 'DIF', 'DOHOME', 'GVREIT', 'IVL', 'JASIF', 'KCE', 'MAKRO', 'MCS', 'NER', 'ORI', 'PTTGC', 'RCL', 'SCC', 'SCCC', 'SENA', 'STA', 'SYNEX', 'TMT', 'VNG', 'WHAIR', 'WHART') \n",
      "ORDER BY name\n"
     ]
    },
    {
     "data": {
      "text/plain": [
       "25"
      ]
     },
     "execution_count": 9,
     "metadata": {},
     "output_type": "execute_result"
    }
   ],
   "source": [
    "sql = \"\"\"\n",
    "SELECT name, price AS price_w\n",
    "FROM price \n",
    "WHERE date = '%s' AND name IN (%s) \n",
    "ORDER BY name\"\"\"\n",
    "sql = sql % (wkago, in_p)\n",
    "print(sql)\n",
    "\n",
    "df_wkago = pd.read_sql(sql, const)\n",
    "df_wkago.shape[0]"
   ]
  },
  {
   "cell_type": "code",
   "execution_count": 10,
   "metadata": {},
   "outputs": [
    {
     "data": {
      "text/plain": [
       "(25, 3)"
      ]
     },
     "execution_count": 10,
     "metadata": {},
     "output_type": "execute_result"
    }
   ],
   "source": [
    "trend = pd.merge(df_today, df_wkago, on='name',how='inner')\n",
    "trend.shape"
   ]
  },
  {
   "cell_type": "code",
   "execution_count": 11,
   "metadata": {},
   "outputs": [],
   "source": [
    "def performance(vals):\n",
    "    price_d, price_w = vals\n",
    "    if (price_d > price_w):\n",
    "        return 'Better'\n",
    "    elif (price_d < price_w):\n",
    "        return 'Worse'\n",
    "    else:\n",
    "        return 'No Change'"
   ]
  },
  {
   "cell_type": "code",
   "execution_count": 12,
   "metadata": {},
   "outputs": [],
   "source": [
    "trend['percent'] = (trend.price_d-trend.price_w)/trend.price_w * 100"
   ]
  },
  {
   "cell_type": "code",
   "execution_count": 13,
   "metadata": {},
   "outputs": [
    {
     "data": {
      "text/html": [
       "<div>\n",
       "<style scoped>\n",
       "    .dataframe tbody tr th:only-of-type {\n",
       "        vertical-align: middle;\n",
       "    }\n",
       "\n",
       "    .dataframe tbody tr th {\n",
       "        vertical-align: top;\n",
       "    }\n",
       "\n",
       "    .dataframe thead th {\n",
       "        text-align: right;\n",
       "    }\n",
       "</style>\n",
       "<table border=\"1\" class=\"dataframe\">\n",
       "  <thead>\n",
       "    <tr style=\"text-align: right;\">\n",
       "      <th></th>\n",
       "      <th>name</th>\n",
       "      <th>price_d</th>\n",
       "      <th>price_w</th>\n",
       "      <th>percent</th>\n",
       "    </tr>\n",
       "  </thead>\n",
       "  <tbody>\n",
       "    <tr>\n",
       "      <th>0</th>\n",
       "      <td>ASP</td>\n",
       "      <td>3.06</td>\n",
       "      <td>3.10</td>\n",
       "      <td>-1.29</td>\n",
       "    </tr>\n",
       "    <tr>\n",
       "      <th>1</th>\n",
       "      <td>BCH</td>\n",
       "      <td>18.60</td>\n",
       "      <td>18.70</td>\n",
       "      <td>-0.53</td>\n",
       "    </tr>\n",
       "    <tr>\n",
       "      <th>2</th>\n",
       "      <td>CPNREIT</td>\n",
       "      <td>19.00</td>\n",
       "      <td>19.00</td>\n",
       "      <td>0.00</td>\n",
       "    </tr>\n",
       "    <tr>\n",
       "      <th>3</th>\n",
       "      <td>DCC</td>\n",
       "      <td>2.70</td>\n",
       "      <td>2.72</td>\n",
       "      <td>-0.74</td>\n",
       "    </tr>\n",
       "    <tr>\n",
       "      <th>4</th>\n",
       "      <td>DIF</td>\n",
       "      <td>13.60</td>\n",
       "      <td>13.80</td>\n",
       "      <td>-1.45</td>\n",
       "    </tr>\n",
       "    <tr>\n",
       "      <th>5</th>\n",
       "      <td>DOHOME</td>\n",
       "      <td>14.30</td>\n",
       "      <td>14.70</td>\n",
       "      <td>-2.72</td>\n",
       "    </tr>\n",
       "    <tr>\n",
       "      <th>6</th>\n",
       "      <td>GVREIT</td>\n",
       "      <td>9.10</td>\n",
       "      <td>9.05</td>\n",
       "      <td>0.55</td>\n",
       "    </tr>\n",
       "    <tr>\n",
       "      <th>7</th>\n",
       "      <td>IVL</td>\n",
       "      <td>40.75</td>\n",
       "      <td>40.50</td>\n",
       "      <td>0.62</td>\n",
       "    </tr>\n",
       "    <tr>\n",
       "      <th>8</th>\n",
       "      <td>JASIF</td>\n",
       "      <td>8.45</td>\n",
       "      <td>8.00</td>\n",
       "      <td>5.62</td>\n",
       "    </tr>\n",
       "    <tr>\n",
       "      <th>9</th>\n",
       "      <td>KCE</td>\n",
       "      <td>50.00</td>\n",
       "      <td>51.75</td>\n",
       "      <td>-3.38</td>\n",
       "    </tr>\n",
       "    <tr>\n",
       "      <th>10</th>\n",
       "      <td>MAKRO</td>\n",
       "      <td>34.25</td>\n",
       "      <td>35.25</td>\n",
       "      <td>-2.84</td>\n",
       "    </tr>\n",
       "    <tr>\n",
       "      <th>11</th>\n",
       "      <td>MCS</td>\n",
       "      <td>10.50</td>\n",
       "      <td>10.70</td>\n",
       "      <td>-1.87</td>\n",
       "    </tr>\n",
       "    <tr>\n",
       "      <th>12</th>\n",
       "      <td>NER</td>\n",
       "      <td>5.60</td>\n",
       "      <td>5.75</td>\n",
       "      <td>-2.61</td>\n",
       "    </tr>\n",
       "    <tr>\n",
       "      <th>13</th>\n",
       "      <td>ORI</td>\n",
       "      <td>10.60</td>\n",
       "      <td>10.90</td>\n",
       "      <td>-2.75</td>\n",
       "    </tr>\n",
       "    <tr>\n",
       "      <th>14</th>\n",
       "      <td>PTTGC</td>\n",
       "      <td>43.25</td>\n",
       "      <td>44.75</td>\n",
       "      <td>-3.35</td>\n",
       "    </tr>\n",
       "    <tr>\n",
       "      <th>15</th>\n",
       "      <td>RCL</td>\n",
       "      <td>32.50</td>\n",
       "      <td>33.25</td>\n",
       "      <td>-2.26</td>\n",
       "    </tr>\n",
       "    <tr>\n",
       "      <th>16</th>\n",
       "      <td>SCC</td>\n",
       "      <td>328.00</td>\n",
       "      <td>341.00</td>\n",
       "      <td>-3.81</td>\n",
       "    </tr>\n",
       "    <tr>\n",
       "      <th>17</th>\n",
       "      <td>SCCC</td>\n",
       "      <td>157.00</td>\n",
       "      <td>158.00</td>\n",
       "      <td>-0.63</td>\n",
       "    </tr>\n",
       "    <tr>\n",
       "      <th>18</th>\n",
       "      <td>SENA</td>\n",
       "      <td>4.04</td>\n",
       "      <td>4.02</td>\n",
       "      <td>0.50</td>\n",
       "    </tr>\n",
       "    <tr>\n",
       "      <th>19</th>\n",
       "      <td>STA</td>\n",
       "      <td>20.70</td>\n",
       "      <td>20.60</td>\n",
       "      <td>0.49</td>\n",
       "    </tr>\n",
       "    <tr>\n",
       "      <th>20</th>\n",
       "      <td>SYNEX</td>\n",
       "      <td>19.00</td>\n",
       "      <td>20.50</td>\n",
       "      <td>-7.32</td>\n",
       "    </tr>\n",
       "    <tr>\n",
       "      <th>21</th>\n",
       "      <td>TMT</td>\n",
       "      <td>7.95</td>\n",
       "      <td>7.95</td>\n",
       "      <td>0.00</td>\n",
       "    </tr>\n",
       "    <tr>\n",
       "      <th>22</th>\n",
       "      <td>VNG</td>\n",
       "      <td>6.10</td>\n",
       "      <td>6.55</td>\n",
       "      <td>-6.87</td>\n",
       "    </tr>\n",
       "    <tr>\n",
       "      <th>23</th>\n",
       "      <td>WHAIR</td>\n",
       "      <td>7.50</td>\n",
       "      <td>7.35</td>\n",
       "      <td>2.04</td>\n",
       "    </tr>\n",
       "    <tr>\n",
       "      <th>24</th>\n",
       "      <td>WHART</td>\n",
       "      <td>10.60</td>\n",
       "      <td>10.50</td>\n",
       "      <td>0.95</td>\n",
       "    </tr>\n",
       "  </tbody>\n",
       "</table>\n",
       "</div>"
      ],
      "text/plain": [
       "       name  price_d  price_w  percent\n",
       "0       ASP     3.06     3.10    -1.29\n",
       "1       BCH    18.60    18.70    -0.53\n",
       "2   CPNREIT    19.00    19.00     0.00\n",
       "3       DCC     2.70     2.72    -0.74\n",
       "4       DIF    13.60    13.80    -1.45\n",
       "5    DOHOME    14.30    14.70    -2.72\n",
       "6    GVREIT     9.10     9.05     0.55\n",
       "7       IVL    40.75    40.50     0.62\n",
       "8     JASIF     8.45     8.00     5.62\n",
       "9       KCE    50.00    51.75    -3.38\n",
       "10    MAKRO    34.25    35.25    -2.84\n",
       "11      MCS    10.50    10.70    -1.87\n",
       "12      NER     5.60     5.75    -2.61\n",
       "13      ORI    10.60    10.90    -2.75\n",
       "14    PTTGC    43.25    44.75    -3.35\n",
       "15      RCL    32.50    33.25    -2.26\n",
       "16      SCC   328.00   341.00    -3.81\n",
       "17     SCCC   157.00   158.00    -0.63\n",
       "18     SENA     4.04     4.02     0.50\n",
       "19      STA    20.70    20.60     0.49\n",
       "20    SYNEX    19.00    20.50    -7.32\n",
       "21      TMT     7.95     7.95     0.00\n",
       "22      VNG     6.10     6.55    -6.87\n",
       "23    WHAIR     7.50     7.35     2.04\n",
       "24    WHART    10.60    10.50     0.95"
      ]
     },
     "execution_count": 13,
     "metadata": {},
     "output_type": "execute_result"
    }
   ],
   "source": [
    "trend"
   ]
  },
  {
   "cell_type": "code",
   "execution_count": 14,
   "metadata": {},
   "outputs": [],
   "source": [
    "trend[\"perform\"] = trend[[\"price_d\",\"price_w\"]].apply(performance, axis=1)"
   ]
  },
  {
   "cell_type": "code",
   "execution_count": 15,
   "metadata": {},
   "outputs": [
    {
     "data": {
      "text/html": [
       "<style type=\"text/css\">\n",
       "</style>\n",
       "<table id=\"T_57505_\">\n",
       "  <thead>\n",
       "    <tr>\n",
       "      <th class=\"blank level0\" >&nbsp;</th>\n",
       "      <th class=\"col_heading level0 col0\" >name</th>\n",
       "      <th class=\"col_heading level0 col1\" >price_d</th>\n",
       "      <th class=\"col_heading level0 col2\" >price_w</th>\n",
       "      <th class=\"col_heading level0 col3\" >percent</th>\n",
       "      <th class=\"col_heading level0 col4\" >perform</th>\n",
       "    </tr>\n",
       "  </thead>\n",
       "  <tbody>\n",
       "    <tr>\n",
       "      <th id=\"T_57505_level0_row0\" class=\"row_heading level0 row0\" >20</th>\n",
       "      <td id=\"T_57505_row0_col0\" class=\"data row0 col0\" >SYNEX</td>\n",
       "      <td id=\"T_57505_row0_col1\" class=\"data row0 col1\" >19.00</td>\n",
       "      <td id=\"T_57505_row0_col2\" class=\"data row0 col2\" >20.50</td>\n",
       "      <td id=\"T_57505_row0_col3\" class=\"data row0 col3\" >-7.32%</td>\n",
       "      <td id=\"T_57505_row0_col4\" class=\"data row0 col4\" >Worse</td>\n",
       "    </tr>\n",
       "    <tr>\n",
       "      <th id=\"T_57505_level0_row1\" class=\"row_heading level0 row1\" >22</th>\n",
       "      <td id=\"T_57505_row1_col0\" class=\"data row1 col0\" >VNG</td>\n",
       "      <td id=\"T_57505_row1_col1\" class=\"data row1 col1\" >6.10</td>\n",
       "      <td id=\"T_57505_row1_col2\" class=\"data row1 col2\" >6.55</td>\n",
       "      <td id=\"T_57505_row1_col3\" class=\"data row1 col3\" >-6.87%</td>\n",
       "      <td id=\"T_57505_row1_col4\" class=\"data row1 col4\" >Worse</td>\n",
       "    </tr>\n",
       "    <tr>\n",
       "      <th id=\"T_57505_level0_row2\" class=\"row_heading level0 row2\" >16</th>\n",
       "      <td id=\"T_57505_row2_col0\" class=\"data row2 col0\" >SCC</td>\n",
       "      <td id=\"T_57505_row2_col1\" class=\"data row2 col1\" >328.00</td>\n",
       "      <td id=\"T_57505_row2_col2\" class=\"data row2 col2\" >341.00</td>\n",
       "      <td id=\"T_57505_row2_col3\" class=\"data row2 col3\" >-3.81%</td>\n",
       "      <td id=\"T_57505_row2_col4\" class=\"data row2 col4\" >Worse</td>\n",
       "    </tr>\n",
       "    <tr>\n",
       "      <th id=\"T_57505_level0_row3\" class=\"row_heading level0 row3\" >9</th>\n",
       "      <td id=\"T_57505_row3_col0\" class=\"data row3 col0\" >KCE</td>\n",
       "      <td id=\"T_57505_row3_col1\" class=\"data row3 col1\" >50.00</td>\n",
       "      <td id=\"T_57505_row3_col2\" class=\"data row3 col2\" >51.75</td>\n",
       "      <td id=\"T_57505_row3_col3\" class=\"data row3 col3\" >-3.38%</td>\n",
       "      <td id=\"T_57505_row3_col4\" class=\"data row3 col4\" >Worse</td>\n",
       "    </tr>\n",
       "    <tr>\n",
       "      <th id=\"T_57505_level0_row4\" class=\"row_heading level0 row4\" >14</th>\n",
       "      <td id=\"T_57505_row4_col0\" class=\"data row4 col0\" >PTTGC</td>\n",
       "      <td id=\"T_57505_row4_col1\" class=\"data row4 col1\" >43.25</td>\n",
       "      <td id=\"T_57505_row4_col2\" class=\"data row4 col2\" >44.75</td>\n",
       "      <td id=\"T_57505_row4_col3\" class=\"data row4 col3\" >-3.35%</td>\n",
       "      <td id=\"T_57505_row4_col4\" class=\"data row4 col4\" >Worse</td>\n",
       "    </tr>\n",
       "    <tr>\n",
       "      <th id=\"T_57505_level0_row5\" class=\"row_heading level0 row5\" >10</th>\n",
       "      <td id=\"T_57505_row5_col0\" class=\"data row5 col0\" >MAKRO</td>\n",
       "      <td id=\"T_57505_row5_col1\" class=\"data row5 col1\" >34.25</td>\n",
       "      <td id=\"T_57505_row5_col2\" class=\"data row5 col2\" >35.25</td>\n",
       "      <td id=\"T_57505_row5_col3\" class=\"data row5 col3\" >-2.84%</td>\n",
       "      <td id=\"T_57505_row5_col4\" class=\"data row5 col4\" >Worse</td>\n",
       "    </tr>\n",
       "    <tr>\n",
       "      <th id=\"T_57505_level0_row6\" class=\"row_heading level0 row6\" >13</th>\n",
       "      <td id=\"T_57505_row6_col0\" class=\"data row6 col0\" >ORI</td>\n",
       "      <td id=\"T_57505_row6_col1\" class=\"data row6 col1\" >10.60</td>\n",
       "      <td id=\"T_57505_row6_col2\" class=\"data row6 col2\" >10.90</td>\n",
       "      <td id=\"T_57505_row6_col3\" class=\"data row6 col3\" >-2.75%</td>\n",
       "      <td id=\"T_57505_row6_col4\" class=\"data row6 col4\" >Worse</td>\n",
       "    </tr>\n",
       "    <tr>\n",
       "      <th id=\"T_57505_level0_row7\" class=\"row_heading level0 row7\" >5</th>\n",
       "      <td id=\"T_57505_row7_col0\" class=\"data row7 col0\" >DOHOME</td>\n",
       "      <td id=\"T_57505_row7_col1\" class=\"data row7 col1\" >14.30</td>\n",
       "      <td id=\"T_57505_row7_col2\" class=\"data row7 col2\" >14.70</td>\n",
       "      <td id=\"T_57505_row7_col3\" class=\"data row7 col3\" >-2.72%</td>\n",
       "      <td id=\"T_57505_row7_col4\" class=\"data row7 col4\" >Worse</td>\n",
       "    </tr>\n",
       "    <tr>\n",
       "      <th id=\"T_57505_level0_row8\" class=\"row_heading level0 row8\" >12</th>\n",
       "      <td id=\"T_57505_row8_col0\" class=\"data row8 col0\" >NER</td>\n",
       "      <td id=\"T_57505_row8_col1\" class=\"data row8 col1\" >5.60</td>\n",
       "      <td id=\"T_57505_row8_col2\" class=\"data row8 col2\" >5.75</td>\n",
       "      <td id=\"T_57505_row8_col3\" class=\"data row8 col3\" >-2.61%</td>\n",
       "      <td id=\"T_57505_row8_col4\" class=\"data row8 col4\" >Worse</td>\n",
       "    </tr>\n",
       "    <tr>\n",
       "      <th id=\"T_57505_level0_row9\" class=\"row_heading level0 row9\" >15</th>\n",
       "      <td id=\"T_57505_row9_col0\" class=\"data row9 col0\" >RCL</td>\n",
       "      <td id=\"T_57505_row9_col1\" class=\"data row9 col1\" >32.50</td>\n",
       "      <td id=\"T_57505_row9_col2\" class=\"data row9 col2\" >33.25</td>\n",
       "      <td id=\"T_57505_row9_col3\" class=\"data row9 col3\" >-2.26%</td>\n",
       "      <td id=\"T_57505_row9_col4\" class=\"data row9 col4\" >Worse</td>\n",
       "    </tr>\n",
       "    <tr>\n",
       "      <th id=\"T_57505_level0_row10\" class=\"row_heading level0 row10\" >11</th>\n",
       "      <td id=\"T_57505_row10_col0\" class=\"data row10 col0\" >MCS</td>\n",
       "      <td id=\"T_57505_row10_col1\" class=\"data row10 col1\" >10.50</td>\n",
       "      <td id=\"T_57505_row10_col2\" class=\"data row10 col2\" >10.70</td>\n",
       "      <td id=\"T_57505_row10_col3\" class=\"data row10 col3\" >-1.87%</td>\n",
       "      <td id=\"T_57505_row10_col4\" class=\"data row10 col4\" >Worse</td>\n",
       "    </tr>\n",
       "    <tr>\n",
       "      <th id=\"T_57505_level0_row11\" class=\"row_heading level0 row11\" >4</th>\n",
       "      <td id=\"T_57505_row11_col0\" class=\"data row11 col0\" >DIF</td>\n",
       "      <td id=\"T_57505_row11_col1\" class=\"data row11 col1\" >13.60</td>\n",
       "      <td id=\"T_57505_row11_col2\" class=\"data row11 col2\" >13.80</td>\n",
       "      <td id=\"T_57505_row11_col3\" class=\"data row11 col3\" >-1.45%</td>\n",
       "      <td id=\"T_57505_row11_col4\" class=\"data row11 col4\" >Worse</td>\n",
       "    </tr>\n",
       "    <tr>\n",
       "      <th id=\"T_57505_level0_row12\" class=\"row_heading level0 row12\" >0</th>\n",
       "      <td id=\"T_57505_row12_col0\" class=\"data row12 col0\" >ASP</td>\n",
       "      <td id=\"T_57505_row12_col1\" class=\"data row12 col1\" >3.06</td>\n",
       "      <td id=\"T_57505_row12_col2\" class=\"data row12 col2\" >3.10</td>\n",
       "      <td id=\"T_57505_row12_col3\" class=\"data row12 col3\" >-1.29%</td>\n",
       "      <td id=\"T_57505_row12_col4\" class=\"data row12 col4\" >Worse</td>\n",
       "    </tr>\n",
       "    <tr>\n",
       "      <th id=\"T_57505_level0_row13\" class=\"row_heading level0 row13\" >3</th>\n",
       "      <td id=\"T_57505_row13_col0\" class=\"data row13 col0\" >DCC</td>\n",
       "      <td id=\"T_57505_row13_col1\" class=\"data row13 col1\" >2.70</td>\n",
       "      <td id=\"T_57505_row13_col2\" class=\"data row13 col2\" >2.72</td>\n",
       "      <td id=\"T_57505_row13_col3\" class=\"data row13 col3\" >-0.74%</td>\n",
       "      <td id=\"T_57505_row13_col4\" class=\"data row13 col4\" >Worse</td>\n",
       "    </tr>\n",
       "    <tr>\n",
       "      <th id=\"T_57505_level0_row14\" class=\"row_heading level0 row14\" >17</th>\n",
       "      <td id=\"T_57505_row14_col0\" class=\"data row14 col0\" >SCCC</td>\n",
       "      <td id=\"T_57505_row14_col1\" class=\"data row14 col1\" >157.00</td>\n",
       "      <td id=\"T_57505_row14_col2\" class=\"data row14 col2\" >158.00</td>\n",
       "      <td id=\"T_57505_row14_col3\" class=\"data row14 col3\" >-0.63%</td>\n",
       "      <td id=\"T_57505_row14_col4\" class=\"data row14 col4\" >Worse</td>\n",
       "    </tr>\n",
       "    <tr>\n",
       "      <th id=\"T_57505_level0_row15\" class=\"row_heading level0 row15\" >1</th>\n",
       "      <td id=\"T_57505_row15_col0\" class=\"data row15 col0\" >BCH</td>\n",
       "      <td id=\"T_57505_row15_col1\" class=\"data row15 col1\" >18.60</td>\n",
       "      <td id=\"T_57505_row15_col2\" class=\"data row15 col2\" >18.70</td>\n",
       "      <td id=\"T_57505_row15_col3\" class=\"data row15 col3\" >-0.53%</td>\n",
       "      <td id=\"T_57505_row15_col4\" class=\"data row15 col4\" >Worse</td>\n",
       "    </tr>\n",
       "    <tr>\n",
       "      <th id=\"T_57505_level0_row16\" class=\"row_heading level0 row16\" >2</th>\n",
       "      <td id=\"T_57505_row16_col0\" class=\"data row16 col0\" >CPNREIT</td>\n",
       "      <td id=\"T_57505_row16_col1\" class=\"data row16 col1\" >19.00</td>\n",
       "      <td id=\"T_57505_row16_col2\" class=\"data row16 col2\" >19.00</td>\n",
       "      <td id=\"T_57505_row16_col3\" class=\"data row16 col3\" >0.00%</td>\n",
       "      <td id=\"T_57505_row16_col4\" class=\"data row16 col4\" >No Change</td>\n",
       "    </tr>\n",
       "    <tr>\n",
       "      <th id=\"T_57505_level0_row17\" class=\"row_heading level0 row17\" >21</th>\n",
       "      <td id=\"T_57505_row17_col0\" class=\"data row17 col0\" >TMT</td>\n",
       "      <td id=\"T_57505_row17_col1\" class=\"data row17 col1\" >7.95</td>\n",
       "      <td id=\"T_57505_row17_col2\" class=\"data row17 col2\" >7.95</td>\n",
       "      <td id=\"T_57505_row17_col3\" class=\"data row17 col3\" >0.00%</td>\n",
       "      <td id=\"T_57505_row17_col4\" class=\"data row17 col4\" >No Change</td>\n",
       "    </tr>\n",
       "    <tr>\n",
       "      <th id=\"T_57505_level0_row18\" class=\"row_heading level0 row18\" >19</th>\n",
       "      <td id=\"T_57505_row18_col0\" class=\"data row18 col0\" >STA</td>\n",
       "      <td id=\"T_57505_row18_col1\" class=\"data row18 col1\" >20.70</td>\n",
       "      <td id=\"T_57505_row18_col2\" class=\"data row18 col2\" >20.60</td>\n",
       "      <td id=\"T_57505_row18_col3\" class=\"data row18 col3\" >0.49%</td>\n",
       "      <td id=\"T_57505_row18_col4\" class=\"data row18 col4\" >Better</td>\n",
       "    </tr>\n",
       "    <tr>\n",
       "      <th id=\"T_57505_level0_row19\" class=\"row_heading level0 row19\" >18</th>\n",
       "      <td id=\"T_57505_row19_col0\" class=\"data row19 col0\" >SENA</td>\n",
       "      <td id=\"T_57505_row19_col1\" class=\"data row19 col1\" >4.04</td>\n",
       "      <td id=\"T_57505_row19_col2\" class=\"data row19 col2\" >4.02</td>\n",
       "      <td id=\"T_57505_row19_col3\" class=\"data row19 col3\" >0.50%</td>\n",
       "      <td id=\"T_57505_row19_col4\" class=\"data row19 col4\" >Better</td>\n",
       "    </tr>\n",
       "    <tr>\n",
       "      <th id=\"T_57505_level0_row20\" class=\"row_heading level0 row20\" >6</th>\n",
       "      <td id=\"T_57505_row20_col0\" class=\"data row20 col0\" >GVREIT</td>\n",
       "      <td id=\"T_57505_row20_col1\" class=\"data row20 col1\" >9.10</td>\n",
       "      <td id=\"T_57505_row20_col2\" class=\"data row20 col2\" >9.05</td>\n",
       "      <td id=\"T_57505_row20_col3\" class=\"data row20 col3\" >0.55%</td>\n",
       "      <td id=\"T_57505_row20_col4\" class=\"data row20 col4\" >Better</td>\n",
       "    </tr>\n",
       "    <tr>\n",
       "      <th id=\"T_57505_level0_row21\" class=\"row_heading level0 row21\" >7</th>\n",
       "      <td id=\"T_57505_row21_col0\" class=\"data row21 col0\" >IVL</td>\n",
       "      <td id=\"T_57505_row21_col1\" class=\"data row21 col1\" >40.75</td>\n",
       "      <td id=\"T_57505_row21_col2\" class=\"data row21 col2\" >40.50</td>\n",
       "      <td id=\"T_57505_row21_col3\" class=\"data row21 col3\" >0.62%</td>\n",
       "      <td id=\"T_57505_row21_col4\" class=\"data row21 col4\" >Better</td>\n",
       "    </tr>\n",
       "    <tr>\n",
       "      <th id=\"T_57505_level0_row22\" class=\"row_heading level0 row22\" >24</th>\n",
       "      <td id=\"T_57505_row22_col0\" class=\"data row22 col0\" >WHART</td>\n",
       "      <td id=\"T_57505_row22_col1\" class=\"data row22 col1\" >10.60</td>\n",
       "      <td id=\"T_57505_row22_col2\" class=\"data row22 col2\" >10.50</td>\n",
       "      <td id=\"T_57505_row22_col3\" class=\"data row22 col3\" >0.95%</td>\n",
       "      <td id=\"T_57505_row22_col4\" class=\"data row22 col4\" >Better</td>\n",
       "    </tr>\n",
       "    <tr>\n",
       "      <th id=\"T_57505_level0_row23\" class=\"row_heading level0 row23\" >23</th>\n",
       "      <td id=\"T_57505_row23_col0\" class=\"data row23 col0\" >WHAIR</td>\n",
       "      <td id=\"T_57505_row23_col1\" class=\"data row23 col1\" >7.50</td>\n",
       "      <td id=\"T_57505_row23_col2\" class=\"data row23 col2\" >7.35</td>\n",
       "      <td id=\"T_57505_row23_col3\" class=\"data row23 col3\" >2.04%</td>\n",
       "      <td id=\"T_57505_row23_col4\" class=\"data row23 col4\" >Better</td>\n",
       "    </tr>\n",
       "    <tr>\n",
       "      <th id=\"T_57505_level0_row24\" class=\"row_heading level0 row24\" >8</th>\n",
       "      <td id=\"T_57505_row24_col0\" class=\"data row24 col0\" >JASIF</td>\n",
       "      <td id=\"T_57505_row24_col1\" class=\"data row24 col1\" >8.45</td>\n",
       "      <td id=\"T_57505_row24_col2\" class=\"data row24 col2\" >8.00</td>\n",
       "      <td id=\"T_57505_row24_col3\" class=\"data row24 col3\" >5.62%</td>\n",
       "      <td id=\"T_57505_row24_col4\" class=\"data row24 col4\" >Better</td>\n",
       "    </tr>\n",
       "  </tbody>\n",
       "</table>\n"
      ],
      "text/plain": [
       "<pandas.io.formats.style.Styler at 0x1b0b140c700>"
      ]
     },
     "execution_count": 15,
     "metadata": {},
     "output_type": "execute_result"
    }
   ],
   "source": [
    "trend.sort_values(by=['percent'],ascending=[True]).style.format(format_dict)"
   ]
  },
  {
   "cell_type": "code",
   "execution_count": 16,
   "metadata": {},
   "outputs": [
    {
     "data": {
      "text/html": [
       "<style type=\"text/css\">\n",
       "</style>\n",
       "<table id=\"T_fc46f_\">\n",
       "  <thead>\n",
       "    <tr>\n",
       "      <th class=\"blank level0\" >&nbsp;</th>\n",
       "      <th class=\"col_heading level0 col0\" >perform</th>\n",
       "    </tr>\n",
       "  </thead>\n",
       "  <tbody>\n",
       "    <tr>\n",
       "      <th id=\"T_fc46f_level0_row0\" class=\"row_heading level0 row0\" >Worse</th>\n",
       "      <td id=\"T_fc46f_row0_col0\" class=\"data row0 col0\" >64.00%</td>\n",
       "    </tr>\n",
       "    <tr>\n",
       "      <th id=\"T_fc46f_level0_row1\" class=\"row_heading level0 row1\" >Better</th>\n",
       "      <td id=\"T_fc46f_row1_col0\" class=\"data row1 col0\" >28.00%</td>\n",
       "    </tr>\n",
       "    <tr>\n",
       "      <th id=\"T_fc46f_level0_row2\" class=\"row_heading level0 row2\" >No Change</th>\n",
       "      <td id=\"T_fc46f_row2_col0\" class=\"data row2 col0\" >8.00%</td>\n",
       "    </tr>\n",
       "  </tbody>\n",
       "</table>\n"
      ],
      "text/plain": [
       "<pandas.io.formats.style.Styler at 0x1b0b1466820>"
      ]
     },
     "execution_count": 16,
     "metadata": {},
     "output_type": "execute_result"
    }
   ],
   "source": [
    "trend.perform.value_counts(normalize=True).to_frame().style.format('{:.2%}')"
   ]
  },
  {
   "cell_type": "code",
   "execution_count": 17,
   "metadata": {},
   "outputs": [
    {
     "data": {
      "text/plain": [
       "(251, 8)"
      ]
     },
     "execution_count": 17,
     "metadata": {},
     "output_type": "execute_result"
    }
   ],
   "source": [
    "sql = '''\n",
    "SELECT name, max_price AS max, min_price AS min, pe, pbv, daily_volume AS volume, beta, market\n",
    "FROM stocks\n",
    "'''\n",
    "my_stocks = pd.read_sql(sql, conmy)\n",
    "my_stocks.shape"
   ]
  },
  {
   "cell_type": "code",
   "execution_count": 18,
   "metadata": {},
   "outputs": [],
   "source": [
    "filters = [\n",
    "   (my_stocks.market.str.contains('SET50')),\n",
    "   (my_stocks.market.str.contains('SET100')),\n",
    "   (my_stocks.market.str.contains('mai'))]\n",
    "values = ['SET50','SET100','mai']\n",
    "my_stocks[\"mrkt\"] = np.select(filters, values, default='SET999')"
   ]
  },
  {
   "cell_type": "code",
   "execution_count": 19,
   "metadata": {},
   "outputs": [
    {
     "data": {
      "text/plain": [
       "(25, 13)"
      ]
     },
     "execution_count": 19,
     "metadata": {},
     "output_type": "execute_result"
    }
   ],
   "source": [
    "trend2 = pd.merge(trend, my_stocks, on='name', how='inner')\n",
    "trend2.sort_values(['percent'],ascending=[True]).shape"
   ]
  },
  {
   "cell_type": "code",
   "execution_count": 20,
   "metadata": {},
   "outputs": [
    {
     "data": {
      "text/html": [
       "<style type=\"text/css\">\n",
       "</style>\n",
       "<table id=\"T_4ed0c_\">\n",
       "  <thead>\n",
       "    <tr>\n",
       "      <th class=\"blank level0\" >&nbsp;</th>\n",
       "      <th class=\"col_heading level0 col0\" >name</th>\n",
       "      <th class=\"col_heading level0 col1\" >price_d</th>\n",
       "      <th class=\"col_heading level0 col2\" >price_w</th>\n",
       "      <th class=\"col_heading level0 col3\" >percent</th>\n",
       "      <th class=\"col_heading level0 col4\" >perform</th>\n",
       "      <th class=\"col_heading level0 col5\" >mrkt</th>\n",
       "    </tr>\n",
       "  </thead>\n",
       "  <tbody>\n",
       "    <tr>\n",
       "      <th id=\"T_4ed0c_level0_row0\" class=\"row_heading level0 row0\" >16</th>\n",
       "      <td id=\"T_4ed0c_row0_col0\" class=\"data row0 col0\" >SCC</td>\n",
       "      <td id=\"T_4ed0c_row0_col1\" class=\"data row0 col1\" >328.00</td>\n",
       "      <td id=\"T_4ed0c_row0_col2\" class=\"data row0 col2\" >341.00</td>\n",
       "      <td id=\"T_4ed0c_row0_col3\" class=\"data row0 col3\" >-3.81%</td>\n",
       "      <td id=\"T_4ed0c_row0_col4\" class=\"data row0 col4\" >Worse</td>\n",
       "      <td id=\"T_4ed0c_row0_col5\" class=\"data row0 col5\" >SET50</td>\n",
       "    </tr>\n",
       "    <tr>\n",
       "      <th id=\"T_4ed0c_level0_row1\" class=\"row_heading level0 row1\" >9</th>\n",
       "      <td id=\"T_4ed0c_row1_col0\" class=\"data row1 col0\" >KCE</td>\n",
       "      <td id=\"T_4ed0c_row1_col1\" class=\"data row1 col1\" >50.00</td>\n",
       "      <td id=\"T_4ed0c_row1_col2\" class=\"data row1 col2\" >51.75</td>\n",
       "      <td id=\"T_4ed0c_row1_col3\" class=\"data row1 col3\" >-3.38%</td>\n",
       "      <td id=\"T_4ed0c_row1_col4\" class=\"data row1 col4\" >Worse</td>\n",
       "      <td id=\"T_4ed0c_row1_col5\" class=\"data row1 col5\" >SET50</td>\n",
       "    </tr>\n",
       "    <tr>\n",
       "      <th id=\"T_4ed0c_level0_row2\" class=\"row_heading level0 row2\" >14</th>\n",
       "      <td id=\"T_4ed0c_row2_col0\" class=\"data row2 col0\" >PTTGC</td>\n",
       "      <td id=\"T_4ed0c_row2_col1\" class=\"data row2 col1\" >43.25</td>\n",
       "      <td id=\"T_4ed0c_row2_col2\" class=\"data row2 col2\" >44.75</td>\n",
       "      <td id=\"T_4ed0c_row2_col3\" class=\"data row2 col3\" >-3.35%</td>\n",
       "      <td id=\"T_4ed0c_row2_col4\" class=\"data row2 col4\" >Worse</td>\n",
       "      <td id=\"T_4ed0c_row2_col5\" class=\"data row2 col5\" >SET50</td>\n",
       "    </tr>\n",
       "    <tr>\n",
       "      <th id=\"T_4ed0c_level0_row3\" class=\"row_heading level0 row3\" >7</th>\n",
       "      <td id=\"T_4ed0c_row3_col0\" class=\"data row3 col0\" >IVL</td>\n",
       "      <td id=\"T_4ed0c_row3_col1\" class=\"data row3 col1\" >40.75</td>\n",
       "      <td id=\"T_4ed0c_row3_col2\" class=\"data row3 col2\" >40.50</td>\n",
       "      <td id=\"T_4ed0c_row3_col3\" class=\"data row3 col3\" >0.62%</td>\n",
       "      <td id=\"T_4ed0c_row3_col4\" class=\"data row3 col4\" >Better</td>\n",
       "      <td id=\"T_4ed0c_row3_col5\" class=\"data row3 col5\" >SET50</td>\n",
       "    </tr>\n",
       "  </tbody>\n",
       "</table>\n"
      ],
      "text/plain": [
       "<pandas.io.formats.style.Styler at 0x1b0b1476310>"
      ]
     },
     "execution_count": 20,
     "metadata": {},
     "output_type": "execute_result"
    }
   ],
   "source": [
    "set50 = trend2.mrkt.str.contains('SET50') \n",
    "flt_set50 = trend2[set50]\n",
    "flt_set50[cols].sort_values(by=['percent','name'],ascending=[True,True]).style.format(format_dict)"
   ]
  },
  {
   "cell_type": "code",
   "execution_count": 21,
   "metadata": {},
   "outputs": [
    {
     "data": {
      "text/html": [
       "<style type=\"text/css\">\n",
       "</style>\n",
       "<table id=\"T_ff223_\">\n",
       "  <thead>\n",
       "    <tr>\n",
       "      <th class=\"blank level0\" >&nbsp;</th>\n",
       "      <th class=\"col_heading level0 col0\" >perform</th>\n",
       "    </tr>\n",
       "  </thead>\n",
       "  <tbody>\n",
       "    <tr>\n",
       "      <th id=\"T_ff223_level0_row0\" class=\"row_heading level0 row0\" >Worse</th>\n",
       "      <td id=\"T_ff223_row0_col0\" class=\"data row0 col0\" >75.00%</td>\n",
       "    </tr>\n",
       "    <tr>\n",
       "      <th id=\"T_ff223_level0_row1\" class=\"row_heading level0 row1\" >Better</th>\n",
       "      <td id=\"T_ff223_row1_col0\" class=\"data row1 col0\" >25.00%</td>\n",
       "    </tr>\n",
       "  </tbody>\n",
       "</table>\n"
      ],
      "text/plain": [
       "<pandas.io.formats.style.Styler at 0x1b0b146baf0>"
      ]
     },
     "execution_count": 21,
     "metadata": {},
     "output_type": "execute_result"
    }
   ],
   "source": [
    "flt_set50.perform.value_counts(normalize=True).to_frame().style.format('{:.2%}')"
   ]
  },
  {
   "cell_type": "code",
   "execution_count": 22,
   "metadata": {
    "scrolled": true
   },
   "outputs": [
    {
     "data": {
      "text/html": [
       "<style type=\"text/css\">\n",
       "</style>\n",
       "<table id=\"T_06808_\">\n",
       "  <thead>\n",
       "    <tr>\n",
       "      <th class=\"blank level0\" >&nbsp;</th>\n",
       "      <th class=\"col_heading level0 col0\" >name</th>\n",
       "      <th class=\"col_heading level0 col1\" >price_d</th>\n",
       "      <th class=\"col_heading level0 col2\" >price_w</th>\n",
       "      <th class=\"col_heading level0 col3\" >percent</th>\n",
       "      <th class=\"col_heading level0 col4\" >perform</th>\n",
       "      <th class=\"col_heading level0 col5\" >mrkt</th>\n",
       "    </tr>\n",
       "  </thead>\n",
       "  <tbody>\n",
       "    <tr>\n",
       "      <th id=\"T_06808_level0_row0\" class=\"row_heading level0 row0\" >20</th>\n",
       "      <td id=\"T_06808_row0_col0\" class=\"data row0 col0\" >SYNEX</td>\n",
       "      <td id=\"T_06808_row0_col1\" class=\"data row0 col1\" >19.00</td>\n",
       "      <td id=\"T_06808_row0_col2\" class=\"data row0 col2\" >20.50</td>\n",
       "      <td id=\"T_06808_row0_col3\" class=\"data row0 col3\" >-7.32%</td>\n",
       "      <td id=\"T_06808_row0_col4\" class=\"data row0 col4\" >Worse</td>\n",
       "      <td id=\"T_06808_row0_col5\" class=\"data row0 col5\" >SET100</td>\n",
       "    </tr>\n",
       "    <tr>\n",
       "      <th id=\"T_06808_level0_row1\" class=\"row_heading level0 row1\" >13</th>\n",
       "      <td id=\"T_06808_row1_col0\" class=\"data row1 col0\" >ORI</td>\n",
       "      <td id=\"T_06808_row1_col1\" class=\"data row1 col1\" >10.60</td>\n",
       "      <td id=\"T_06808_row1_col2\" class=\"data row1 col2\" >10.90</td>\n",
       "      <td id=\"T_06808_row1_col3\" class=\"data row1 col3\" >-2.75%</td>\n",
       "      <td id=\"T_06808_row1_col4\" class=\"data row1 col4\" >Worse</td>\n",
       "      <td id=\"T_06808_row1_col5\" class=\"data row1 col5\" >SET100</td>\n",
       "    </tr>\n",
       "    <tr>\n",
       "      <th id=\"T_06808_level0_row2\" class=\"row_heading level0 row2\" >5</th>\n",
       "      <td id=\"T_06808_row2_col0\" class=\"data row2 col0\" >DOHOME</td>\n",
       "      <td id=\"T_06808_row2_col1\" class=\"data row2 col1\" >14.30</td>\n",
       "      <td id=\"T_06808_row2_col2\" class=\"data row2 col2\" >14.70</td>\n",
       "      <td id=\"T_06808_row2_col3\" class=\"data row2 col3\" >-2.72%</td>\n",
       "      <td id=\"T_06808_row2_col4\" class=\"data row2 col4\" >Worse</td>\n",
       "      <td id=\"T_06808_row2_col5\" class=\"data row2 col5\" >SET100</td>\n",
       "    </tr>\n",
       "    <tr>\n",
       "      <th id=\"T_06808_level0_row3\" class=\"row_heading level0 row3\" >15</th>\n",
       "      <td id=\"T_06808_row3_col0\" class=\"data row3 col0\" >RCL</td>\n",
       "      <td id=\"T_06808_row3_col1\" class=\"data row3 col1\" >32.50</td>\n",
       "      <td id=\"T_06808_row3_col2\" class=\"data row3 col2\" >33.25</td>\n",
       "      <td id=\"T_06808_row3_col3\" class=\"data row3 col3\" >-2.26%</td>\n",
       "      <td id=\"T_06808_row3_col4\" class=\"data row3 col4\" >Worse</td>\n",
       "      <td id=\"T_06808_row3_col5\" class=\"data row3 col5\" >SET100</td>\n",
       "    </tr>\n",
       "    <tr>\n",
       "      <th id=\"T_06808_level0_row4\" class=\"row_heading level0 row4\" >1</th>\n",
       "      <td id=\"T_06808_row4_col0\" class=\"data row4 col0\" >BCH</td>\n",
       "      <td id=\"T_06808_row4_col1\" class=\"data row4 col1\" >18.60</td>\n",
       "      <td id=\"T_06808_row4_col2\" class=\"data row4 col2\" >18.70</td>\n",
       "      <td id=\"T_06808_row4_col3\" class=\"data row4 col3\" >-0.53%</td>\n",
       "      <td id=\"T_06808_row4_col4\" class=\"data row4 col4\" >Worse</td>\n",
       "      <td id=\"T_06808_row4_col5\" class=\"data row4 col5\" >SET100</td>\n",
       "    </tr>\n",
       "    <tr>\n",
       "      <th id=\"T_06808_level0_row5\" class=\"row_heading level0 row5\" >19</th>\n",
       "      <td id=\"T_06808_row5_col0\" class=\"data row5 col0\" >STA</td>\n",
       "      <td id=\"T_06808_row5_col1\" class=\"data row5 col1\" >20.70</td>\n",
       "      <td id=\"T_06808_row5_col2\" class=\"data row5 col2\" >20.60</td>\n",
       "      <td id=\"T_06808_row5_col3\" class=\"data row5 col3\" >0.49%</td>\n",
       "      <td id=\"T_06808_row5_col4\" class=\"data row5 col4\" >Better</td>\n",
       "      <td id=\"T_06808_row5_col5\" class=\"data row5 col5\" >SET100</td>\n",
       "    </tr>\n",
       "  </tbody>\n",
       "</table>\n"
      ],
      "text/plain": [
       "<pandas.io.formats.style.Styler at 0x1b0b14a2af0>"
      ]
     },
     "execution_count": 22,
     "metadata": {},
     "output_type": "execute_result"
    }
   ],
   "source": [
    "set100 = trend2.mrkt.str.contains('SET100')\n",
    "flt_set100 = trend2[set100]\n",
    "flt_set100[cols].sort_values(by=['percent','name'],ascending=[True,True]).style.format(format_dict)"
   ]
  },
  {
   "cell_type": "code",
   "execution_count": 23,
   "metadata": {},
   "outputs": [
    {
     "data": {
      "text/html": [
       "<style type=\"text/css\">\n",
       "</style>\n",
       "<table id=\"T_478db_\">\n",
       "  <thead>\n",
       "    <tr>\n",
       "      <th class=\"blank level0\" >&nbsp;</th>\n",
       "      <th class=\"col_heading level0 col0\" >perform</th>\n",
       "    </tr>\n",
       "  </thead>\n",
       "  <tbody>\n",
       "    <tr>\n",
       "      <th id=\"T_478db_level0_row0\" class=\"row_heading level0 row0\" >Worse</th>\n",
       "      <td id=\"T_478db_row0_col0\" class=\"data row0 col0\" >83.33%</td>\n",
       "    </tr>\n",
       "    <tr>\n",
       "      <th id=\"T_478db_level0_row1\" class=\"row_heading level0 row1\" >Better</th>\n",
       "      <td id=\"T_478db_row1_col0\" class=\"data row1 col0\" >16.67%</td>\n",
       "    </tr>\n",
       "  </tbody>\n",
       "</table>\n"
      ],
      "text/plain": [
       "<pandas.io.formats.style.Styler at 0x1b0b14767c0>"
      ]
     },
     "execution_count": 23,
     "metadata": {},
     "output_type": "execute_result"
    }
   ],
   "source": [
    "flt_set100[cols].perform.value_counts(normalize=True).to_frame().style.format('{:.2%}')"
   ]
  },
  {
   "cell_type": "code",
   "execution_count": 24,
   "metadata": {},
   "outputs": [
    {
     "data": {
      "text/html": [
       "<style type=\"text/css\">\n",
       "</style>\n",
       "<table id=\"T_95da0_\">\n",
       "  <thead>\n",
       "    <tr>\n",
       "      <th class=\"blank level0\" >&nbsp;</th>\n",
       "      <th class=\"col_heading level0 col0\" >name</th>\n",
       "      <th class=\"col_heading level0 col1\" >price_d</th>\n",
       "      <th class=\"col_heading level0 col2\" >price_w</th>\n",
       "      <th class=\"col_heading level0 col3\" >percent</th>\n",
       "      <th class=\"col_heading level0 col4\" >perform</th>\n",
       "      <th class=\"col_heading level0 col5\" >mrkt</th>\n",
       "    </tr>\n",
       "  </thead>\n",
       "  <tbody>\n",
       "    <tr>\n",
       "      <th id=\"T_95da0_level0_row0\" class=\"row_heading level0 row0\" >22</th>\n",
       "      <td id=\"T_95da0_row0_col0\" class=\"data row0 col0\" >VNG</td>\n",
       "      <td id=\"T_95da0_row0_col1\" class=\"data row0 col1\" >6.10</td>\n",
       "      <td id=\"T_95da0_row0_col2\" class=\"data row0 col2\" >6.55</td>\n",
       "      <td id=\"T_95da0_row0_col3\" class=\"data row0 col3\" >-6.87%</td>\n",
       "      <td id=\"T_95da0_row0_col4\" class=\"data row0 col4\" >Worse</td>\n",
       "      <td id=\"T_95da0_row0_col5\" class=\"data row0 col5\" >SET999</td>\n",
       "    </tr>\n",
       "    <tr>\n",
       "      <th id=\"T_95da0_level0_row1\" class=\"row_heading level0 row1\" >10</th>\n",
       "      <td id=\"T_95da0_row1_col0\" class=\"data row1 col0\" >MAKRO</td>\n",
       "      <td id=\"T_95da0_row1_col1\" class=\"data row1 col1\" >34.25</td>\n",
       "      <td id=\"T_95da0_row1_col2\" class=\"data row1 col2\" >35.25</td>\n",
       "      <td id=\"T_95da0_row1_col3\" class=\"data row1 col3\" >-2.84%</td>\n",
       "      <td id=\"T_95da0_row1_col4\" class=\"data row1 col4\" >Worse</td>\n",
       "      <td id=\"T_95da0_row1_col5\" class=\"data row1 col5\" >SET999</td>\n",
       "    </tr>\n",
       "    <tr>\n",
       "      <th id=\"T_95da0_level0_row2\" class=\"row_heading level0 row2\" >12</th>\n",
       "      <td id=\"T_95da0_row2_col0\" class=\"data row2 col0\" >NER</td>\n",
       "      <td id=\"T_95da0_row2_col1\" class=\"data row2 col1\" >5.60</td>\n",
       "      <td id=\"T_95da0_row2_col2\" class=\"data row2 col2\" >5.75</td>\n",
       "      <td id=\"T_95da0_row2_col3\" class=\"data row2 col3\" >-2.61%</td>\n",
       "      <td id=\"T_95da0_row2_col4\" class=\"data row2 col4\" >Worse</td>\n",
       "      <td id=\"T_95da0_row2_col5\" class=\"data row2 col5\" >SET999</td>\n",
       "    </tr>\n",
       "    <tr>\n",
       "      <th id=\"T_95da0_level0_row3\" class=\"row_heading level0 row3\" >11</th>\n",
       "      <td id=\"T_95da0_row3_col0\" class=\"data row3 col0\" >MCS</td>\n",
       "      <td id=\"T_95da0_row3_col1\" class=\"data row3 col1\" >10.50</td>\n",
       "      <td id=\"T_95da0_row3_col2\" class=\"data row3 col2\" >10.70</td>\n",
       "      <td id=\"T_95da0_row3_col3\" class=\"data row3 col3\" >-1.87%</td>\n",
       "      <td id=\"T_95da0_row3_col4\" class=\"data row3 col4\" >Worse</td>\n",
       "      <td id=\"T_95da0_row3_col5\" class=\"data row3 col5\" >SET999</td>\n",
       "    </tr>\n",
       "    <tr>\n",
       "      <th id=\"T_95da0_level0_row4\" class=\"row_heading level0 row4\" >4</th>\n",
       "      <td id=\"T_95da0_row4_col0\" class=\"data row4 col0\" >DIF</td>\n",
       "      <td id=\"T_95da0_row4_col1\" class=\"data row4 col1\" >13.60</td>\n",
       "      <td id=\"T_95da0_row4_col2\" class=\"data row4 col2\" >13.80</td>\n",
       "      <td id=\"T_95da0_row4_col3\" class=\"data row4 col3\" >-1.45%</td>\n",
       "      <td id=\"T_95da0_row4_col4\" class=\"data row4 col4\" >Worse</td>\n",
       "      <td id=\"T_95da0_row4_col5\" class=\"data row4 col5\" >SET999</td>\n",
       "    </tr>\n",
       "    <tr>\n",
       "      <th id=\"T_95da0_level0_row5\" class=\"row_heading level0 row5\" >0</th>\n",
       "      <td id=\"T_95da0_row5_col0\" class=\"data row5 col0\" >ASP</td>\n",
       "      <td id=\"T_95da0_row5_col1\" class=\"data row5 col1\" >3.06</td>\n",
       "      <td id=\"T_95da0_row5_col2\" class=\"data row5 col2\" >3.10</td>\n",
       "      <td id=\"T_95da0_row5_col3\" class=\"data row5 col3\" >-1.29%</td>\n",
       "      <td id=\"T_95da0_row5_col4\" class=\"data row5 col4\" >Worse</td>\n",
       "      <td id=\"T_95da0_row5_col5\" class=\"data row5 col5\" >SET999</td>\n",
       "    </tr>\n",
       "    <tr>\n",
       "      <th id=\"T_95da0_level0_row6\" class=\"row_heading level0 row6\" >3</th>\n",
       "      <td id=\"T_95da0_row6_col0\" class=\"data row6 col0\" >DCC</td>\n",
       "      <td id=\"T_95da0_row6_col1\" class=\"data row6 col1\" >2.70</td>\n",
       "      <td id=\"T_95da0_row6_col2\" class=\"data row6 col2\" >2.72</td>\n",
       "      <td id=\"T_95da0_row6_col3\" class=\"data row6 col3\" >-0.74%</td>\n",
       "      <td id=\"T_95da0_row6_col4\" class=\"data row6 col4\" >Worse</td>\n",
       "      <td id=\"T_95da0_row6_col5\" class=\"data row6 col5\" >SET999</td>\n",
       "    </tr>\n",
       "    <tr>\n",
       "      <th id=\"T_95da0_level0_row7\" class=\"row_heading level0 row7\" >17</th>\n",
       "      <td id=\"T_95da0_row7_col0\" class=\"data row7 col0\" >SCCC</td>\n",
       "      <td id=\"T_95da0_row7_col1\" class=\"data row7 col1\" >157.00</td>\n",
       "      <td id=\"T_95da0_row7_col2\" class=\"data row7 col2\" >158.00</td>\n",
       "      <td id=\"T_95da0_row7_col3\" class=\"data row7 col3\" >-0.63%</td>\n",
       "      <td id=\"T_95da0_row7_col4\" class=\"data row7 col4\" >Worse</td>\n",
       "      <td id=\"T_95da0_row7_col5\" class=\"data row7 col5\" >SET999</td>\n",
       "    </tr>\n",
       "    <tr>\n",
       "      <th id=\"T_95da0_level0_row8\" class=\"row_heading level0 row8\" >2</th>\n",
       "      <td id=\"T_95da0_row8_col0\" class=\"data row8 col0\" >CPNREIT</td>\n",
       "      <td id=\"T_95da0_row8_col1\" class=\"data row8 col1\" >19.00</td>\n",
       "      <td id=\"T_95da0_row8_col2\" class=\"data row8 col2\" >19.00</td>\n",
       "      <td id=\"T_95da0_row8_col3\" class=\"data row8 col3\" >0.00%</td>\n",
       "      <td id=\"T_95da0_row8_col4\" class=\"data row8 col4\" >No Change</td>\n",
       "      <td id=\"T_95da0_row8_col5\" class=\"data row8 col5\" >SET999</td>\n",
       "    </tr>\n",
       "    <tr>\n",
       "      <th id=\"T_95da0_level0_row9\" class=\"row_heading level0 row9\" >21</th>\n",
       "      <td id=\"T_95da0_row9_col0\" class=\"data row9 col0\" >TMT</td>\n",
       "      <td id=\"T_95da0_row9_col1\" class=\"data row9 col1\" >7.95</td>\n",
       "      <td id=\"T_95da0_row9_col2\" class=\"data row9 col2\" >7.95</td>\n",
       "      <td id=\"T_95da0_row9_col3\" class=\"data row9 col3\" >0.00%</td>\n",
       "      <td id=\"T_95da0_row9_col4\" class=\"data row9 col4\" >No Change</td>\n",
       "      <td id=\"T_95da0_row9_col5\" class=\"data row9 col5\" >SET999</td>\n",
       "    </tr>\n",
       "    <tr>\n",
       "      <th id=\"T_95da0_level0_row10\" class=\"row_heading level0 row10\" >18</th>\n",
       "      <td id=\"T_95da0_row10_col0\" class=\"data row10 col0\" >SENA</td>\n",
       "      <td id=\"T_95da0_row10_col1\" class=\"data row10 col1\" >4.04</td>\n",
       "      <td id=\"T_95da0_row10_col2\" class=\"data row10 col2\" >4.02</td>\n",
       "      <td id=\"T_95da0_row10_col3\" class=\"data row10 col3\" >0.50%</td>\n",
       "      <td id=\"T_95da0_row10_col4\" class=\"data row10 col4\" >Better</td>\n",
       "      <td id=\"T_95da0_row10_col5\" class=\"data row10 col5\" >SET999</td>\n",
       "    </tr>\n",
       "    <tr>\n",
       "      <th id=\"T_95da0_level0_row11\" class=\"row_heading level0 row11\" >6</th>\n",
       "      <td id=\"T_95da0_row11_col0\" class=\"data row11 col0\" >GVREIT</td>\n",
       "      <td id=\"T_95da0_row11_col1\" class=\"data row11 col1\" >9.10</td>\n",
       "      <td id=\"T_95da0_row11_col2\" class=\"data row11 col2\" >9.05</td>\n",
       "      <td id=\"T_95da0_row11_col3\" class=\"data row11 col3\" >0.55%</td>\n",
       "      <td id=\"T_95da0_row11_col4\" class=\"data row11 col4\" >Better</td>\n",
       "      <td id=\"T_95da0_row11_col5\" class=\"data row11 col5\" >SET999</td>\n",
       "    </tr>\n",
       "    <tr>\n",
       "      <th id=\"T_95da0_level0_row12\" class=\"row_heading level0 row12\" >24</th>\n",
       "      <td id=\"T_95da0_row12_col0\" class=\"data row12 col0\" >WHART</td>\n",
       "      <td id=\"T_95da0_row12_col1\" class=\"data row12 col1\" >10.60</td>\n",
       "      <td id=\"T_95da0_row12_col2\" class=\"data row12 col2\" >10.50</td>\n",
       "      <td id=\"T_95da0_row12_col3\" class=\"data row12 col3\" >0.95%</td>\n",
       "      <td id=\"T_95da0_row12_col4\" class=\"data row12 col4\" >Better</td>\n",
       "      <td id=\"T_95da0_row12_col5\" class=\"data row12 col5\" >SET999</td>\n",
       "    </tr>\n",
       "    <tr>\n",
       "      <th id=\"T_95da0_level0_row13\" class=\"row_heading level0 row13\" >23</th>\n",
       "      <td id=\"T_95da0_row13_col0\" class=\"data row13 col0\" >WHAIR</td>\n",
       "      <td id=\"T_95da0_row13_col1\" class=\"data row13 col1\" >7.50</td>\n",
       "      <td id=\"T_95da0_row13_col2\" class=\"data row13 col2\" >7.35</td>\n",
       "      <td id=\"T_95da0_row13_col3\" class=\"data row13 col3\" >2.04%</td>\n",
       "      <td id=\"T_95da0_row13_col4\" class=\"data row13 col4\" >Better</td>\n",
       "      <td id=\"T_95da0_row13_col5\" class=\"data row13 col5\" >SET999</td>\n",
       "    </tr>\n",
       "    <tr>\n",
       "      <th id=\"T_95da0_level0_row14\" class=\"row_heading level0 row14\" >8</th>\n",
       "      <td id=\"T_95da0_row14_col0\" class=\"data row14 col0\" >JASIF</td>\n",
       "      <td id=\"T_95da0_row14_col1\" class=\"data row14 col1\" >8.45</td>\n",
       "      <td id=\"T_95da0_row14_col2\" class=\"data row14 col2\" >8.00</td>\n",
       "      <td id=\"T_95da0_row14_col3\" class=\"data row14 col3\" >5.62%</td>\n",
       "      <td id=\"T_95da0_row14_col4\" class=\"data row14 col4\" >Better</td>\n",
       "      <td id=\"T_95da0_row14_col5\" class=\"data row14 col5\" >SET999</td>\n",
       "    </tr>\n",
       "  </tbody>\n",
       "</table>\n"
      ],
      "text/plain": [
       "<pandas.io.formats.style.Styler at 0x1b0b146b1c0>"
      ]
     },
     "execution_count": 24,
     "metadata": {},
     "output_type": "execute_result"
    }
   ],
   "source": [
    "set999 = trend2.mrkt.str.contains('SET999')\n",
    "flt_set999 = trend2[set999]\n",
    "flt_set999[cols].sort_values(by=['percent','name'],ascending=[True,True]).style.format(format_dict)"
   ]
  },
  {
   "cell_type": "code",
   "execution_count": 25,
   "metadata": {},
   "outputs": [
    {
     "data": {
      "text/html": [
       "<style type=\"text/css\">\n",
       "</style>\n",
       "<table id=\"T_1d985_\">\n",
       "  <thead>\n",
       "    <tr>\n",
       "      <th class=\"blank level0\" >&nbsp;</th>\n",
       "      <th class=\"col_heading level0 col0\" >perform</th>\n",
       "    </tr>\n",
       "  </thead>\n",
       "  <tbody>\n",
       "    <tr>\n",
       "      <th id=\"T_1d985_level0_row0\" class=\"row_heading level0 row0\" >Worse</th>\n",
       "      <td id=\"T_1d985_row0_col0\" class=\"data row0 col0\" >53.33%</td>\n",
       "    </tr>\n",
       "    <tr>\n",
       "      <th id=\"T_1d985_level0_row1\" class=\"row_heading level0 row1\" >Better</th>\n",
       "      <td id=\"T_1d985_row1_col0\" class=\"data row1 col0\" >33.33%</td>\n",
       "    </tr>\n",
       "    <tr>\n",
       "      <th id=\"T_1d985_level0_row2\" class=\"row_heading level0 row2\" >No Change</th>\n",
       "      <td id=\"T_1d985_row2_col0\" class=\"data row2 col0\" >13.33%</td>\n",
       "    </tr>\n",
       "  </tbody>\n",
       "</table>\n"
      ],
      "text/plain": [
       "<pandas.io.formats.style.Styler at 0x1b0b1476550>"
      ]
     },
     "execution_count": 25,
     "metadata": {},
     "output_type": "execute_result"
    }
   ],
   "source": [
    "flt_set999[cols].perform.value_counts(normalize=True).to_frame().style.format('{:.2%}')"
   ]
  },
  {
   "cell_type": "code",
   "execution_count": 26,
   "metadata": {},
   "outputs": [
    {
     "data": {
      "text/html": [
       "<style type=\"text/css\">\n",
       "</style>\n",
       "<table id=\"T_d7243_\">\n",
       "  <thead>\n",
       "    <tr>\n",
       "      <th class=\"blank level0\" >&nbsp;</th>\n",
       "      <th class=\"col_heading level0 col0\" >name</th>\n",
       "      <th class=\"col_heading level0 col1\" >price_d</th>\n",
       "      <th class=\"col_heading level0 col2\" >price_w</th>\n",
       "      <th class=\"col_heading level0 col3\" >percent</th>\n",
       "      <th class=\"col_heading level0 col4\" >perform</th>\n",
       "      <th class=\"col_heading level0 col5\" >mrkt</th>\n",
       "    </tr>\n",
       "  </thead>\n",
       "  <tbody>\n",
       "  </tbody>\n",
       "</table>\n"
      ],
      "text/plain": [
       "<pandas.io.formats.style.Styler at 0x1b0b1420fa0>"
      ]
     },
     "execution_count": 26,
     "metadata": {},
     "output_type": "execute_result"
    }
   ],
   "source": [
    "setmai = trend2.mrkt.str.contains('mai')\n",
    "flt_setmai = trend2[setmai]\n",
    "flt_setmai[cols].sort_values(by=['percent','name'],ascending=[True,True]).style.format(format_dict)"
   ]
  },
  {
   "cell_type": "code",
   "execution_count": 27,
   "metadata": {},
   "outputs": [
    {
     "data": {
      "text/html": [
       "<style type=\"text/css\">\n",
       "</style>\n",
       "<table id=\"T_82faf_\">\n",
       "  <thead>\n",
       "    <tr>\n",
       "      <th class=\"blank level0\" >&nbsp;</th>\n",
       "      <th class=\"col_heading level0 col0\" >perform</th>\n",
       "    </tr>\n",
       "  </thead>\n",
       "  <tbody>\n",
       "  </tbody>\n",
       "</table>\n"
      ],
      "text/plain": [
       "<pandas.io.formats.style.Styler at 0x1b0b14b05b0>"
      ]
     },
     "execution_count": 27,
     "metadata": {},
     "output_type": "execute_result"
    }
   ],
   "source": [
    "flt_setmai[cols].perform.value_counts(normalize=True).to_frame().style.format('{:.2%}')"
   ]
  },
  {
   "cell_type": "code",
   "execution_count": null,
   "metadata": {},
   "outputs": [],
   "source": []
  }
 ],
 "metadata": {
  "anaconda-cloud": {},
  "kernelspec": {
   "display_name": "Python 3 (ipykernel)",
   "language": "python",
   "name": "python3"
  },
  "language_info": {
   "codemirror_mode": {
    "name": "ipython",
    "version": 3
   },
   "file_extension": ".py",
   "mimetype": "text/x-python",
   "name": "python",
   "nbconvert_exporter": "python",
   "pygments_lexer": "ipython3",
   "version": "3.8.11"
  }
 },
 "nbformat": 4,
 "nbformat_minor": 1
}
