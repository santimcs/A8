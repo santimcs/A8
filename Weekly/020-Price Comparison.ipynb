{
 "cells": [
  {
   "cell_type": "markdown",
   "metadata": {},
   "source": [
    "### portmy database: stocks table\n",
    "### stock database: buy, price tables"
   ]
  },
  {
   "cell_type": "code",
   "execution_count": 1,
   "metadata": {},
   "outputs": [
    {
     "data": {
      "text/plain": [
       "(datetime.date(2022, 4, 23), '2022-16')"
      ]
     },
     "execution_count": 1,
     "metadata": {},
     "output_type": "execute_result"
    }
   ],
   "source": [
    "import pandas as pd\n",
    "import numpy as np\n",
    "from datetime import date, timedelta\n",
    "from sqlalchemy import create_engine\n",
    "\n",
    "engine = create_engine(\"sqlite:///c:\\\\ruby\\\\portmy\\\\db\\\\development.sqlite3\")\n",
    "conmy = engine.connect()\n",
    "conmy = engine.connect()\n",
    "engine = create_engine(\"mysql+pymysql://root:@localhost:3306/stock\")\n",
    "const = engine.connect()\n",
    "\n",
    "pd.set_option('display.float_format','{:,.2f}'.format)\n",
    "\n",
    "data_path = \"../data/\"\n",
    "csv_path = \"\\\\Users\\\\User\\\\iCloudDrive\\\\\"\n",
    "box_path = \"\\\\Users\\\\User\\\\Dropbox\\\\\"\n",
    "\n",
    "today = date.today()\n",
    "week_str = today.strftime('%Y-%U')\n",
    "today, week_str"
   ]
  },
  {
   "cell_type": "markdown",
   "metadata": {},
   "source": [
    "### Process after last business day, today must be last business day"
   ]
  },
  {
   "cell_type": "code",
   "execution_count": 2,
   "metadata": {},
   "outputs": [
    {
     "data": {
      "text/plain": [
       "(datetime.date(2022, 4, 22), datetime.date(2022, 4, 12))"
      ]
     },
     "execution_count": 2,
     "metadata": {},
     "output_type": "execute_result"
    }
   ],
   "source": [
    "today = today - timedelta(days=1)\n",
    "wkago = today - timedelta(days=10)\n",
    "today, wkago"
   ]
  },
  {
   "cell_type": "markdown",
   "metadata": {},
   "source": [
    "### Restart & Run All Cells"
   ]
  },
  {
   "cell_type": "markdown",
   "metadata": {},
   "source": [
    "### This process affects only already in port stocks. To highlight price changes in percent."
   ]
  },
  {
   "cell_type": "code",
   "execution_count": 3,
   "metadata": {},
   "outputs": [],
   "source": [
    "cols = 'name price_d price_w percent perform mrkt '.split()"
   ]
  },
  {
   "cell_type": "code",
   "execution_count": 4,
   "metadata": {},
   "outputs": [],
   "source": [
    "format_dict = {\n",
    "    'qty':'{:,}',    \n",
    "    'price':'{:.2f}','price_d':'{:.2f}','price_w':'{:.2f}',\n",
    "    'max_price':'{:.2f}','min_price':'{:.2f}',\n",
    "    'maxp':'{:.2f}','minp':'{:.2f}','opnp':'{:.2f}',    \n",
    "    'pct':'{:,.2f}%','percent':'{:,.2f}%',\n",
    "    \n",
    "    'pe':'{:.2f}','pbv':'{:.2f}',\n",
    "    'paid_up':'{:,.2f}','market_cap':'{:,.2f}',\n",
    "    'daily_volume':'{:,.2f}','beta':'{:,.2f}', \n",
    "    'dly_vol':'{:,.2f}', \n",
    "}"
   ]
  },
  {
   "cell_type": "code",
   "execution_count": 5,
   "metadata": {},
   "outputs": [
    {
     "data": {
      "text/html": [
       "<style type=\"text/css\">\n",
       "</style>\n",
       "<table id=\"T_089d2_\">\n",
       "  <thead>\n",
       "    <tr>\n",
       "      <th class=\"blank level0\" >&nbsp;</th>\n",
       "      <th class=\"col_heading level0 col0\" >name</th>\n",
       "      <th class=\"col_heading level0 col1\" >date</th>\n",
       "      <th class=\"col_heading level0 col2\" >price</th>\n",
       "    </tr>\n",
       "  </thead>\n",
       "  <tbody>\n",
       "    <tr>\n",
       "      <th id=\"T_089d2_level0_row0\" class=\"row_heading level0 row0\" >0</th>\n",
       "      <td id=\"T_089d2_row0_col0\" class=\"data row0 col0\" >ORI</td>\n",
       "      <td id=\"T_089d2_row0_col1\" class=\"data row0 col1\" >2022-04-07</td>\n",
       "      <td id=\"T_089d2_row0_col2\" class=\"data row0 col2\" >11.00</td>\n",
       "    </tr>\n",
       "  </tbody>\n",
       "</table>\n"
      ],
      "text/plain": [
       "<pandas.io.formats.style.Styler at 0x2eb1a618ac0>"
      ]
     },
     "execution_count": 5,
     "metadata": {},
     "output_type": "execute_result"
    }
   ],
   "source": [
    "sql = \"\"\"\n",
    "SELECT name, date, price \n",
    "FROM buy \n",
    "ORDER BY date DESC \n",
    "LIMIT 1\n",
    "\"\"\"\n",
    "df_buy = pd.read_sql(sql, const)\n",
    "df_buy.style.format(format_dict)"
   ]
  },
  {
   "cell_type": "code",
   "execution_count": 6,
   "metadata": {},
   "outputs": [
    {
     "name": "stdout",
     "output_type": "stream",
     "text": [
      "\n",
      "SELECT * FROM stocks WHERE name = 'ORI'\n",
      "\n"
     ]
    },
    {
     "data": {
      "text/html": [
       "<style type=\"text/css\">\n",
       "</style>\n",
       "<table id=\"T_62703_\">\n",
       "  <thead>\n",
       "    <tr>\n",
       "      <th class=\"blank level0\" >&nbsp;</th>\n",
       "      <th class=\"col_heading level0 col0\" >id</th>\n",
       "      <th class=\"col_heading level0 col1\" >name</th>\n",
       "      <th class=\"col_heading level0 col2\" >market</th>\n",
       "      <th class=\"col_heading level0 col3\" >price</th>\n",
       "      <th class=\"col_heading level0 col4\" >max_price</th>\n",
       "      <th class=\"col_heading level0 col5\" >min_price</th>\n",
       "      <th class=\"col_heading level0 col6\" >pe</th>\n",
       "      <th class=\"col_heading level0 col7\" >pbv</th>\n",
       "      <th class=\"col_heading level0 col8\" >paid_up</th>\n",
       "      <th class=\"col_heading level0 col9\" >market_cap</th>\n",
       "      <th class=\"col_heading level0 col10\" >daily_volume</th>\n",
       "      <th class=\"col_heading level0 col11\" >beta</th>\n",
       "      <th class=\"col_heading level0 col12\" >ticker_id</th>\n",
       "      <th class=\"col_heading level0 col13\" >created_at</th>\n",
       "      <th class=\"col_heading level0 col14\" >updated_at</th>\n",
       "    </tr>\n",
       "  </thead>\n",
       "  <tbody>\n",
       "    <tr>\n",
       "      <th id=\"T_62703_level0_row0\" class=\"row_heading level0 row0\" >0</th>\n",
       "      <td id=\"T_62703_row0_col0\" class=\"data row0 col0\" >339</td>\n",
       "      <td id=\"T_62703_row0_col1\" class=\"data row0 col1\" >ORI</td>\n",
       "      <td id=\"T_62703_row0_col2\" class=\"data row0 col2\" >SET100 / SETHD / SETTHSI    </td>\n",
       "      <td id=\"T_62703_row0_col3\" class=\"data row0 col3\" >11.10</td>\n",
       "      <td id=\"T_62703_row0_col4\" class=\"data row0 col4\" >12.70</td>\n",
       "      <td id=\"T_62703_row0_col5\" class=\"data row0 col5\" >8.05</td>\n",
       "      <td id=\"T_62703_row0_col6\" class=\"data row0 col6\" >8.53</td>\n",
       "      <td id=\"T_62703_row0_col7\" class=\"data row0 col7\" >1.82</td>\n",
       "      <td id=\"T_62703_row0_col8\" class=\"data row0 col8\" >1,227.06</td>\n",
       "      <td id=\"T_62703_row0_col9\" class=\"data row0 col9\" >27,240.76</td>\n",
       "      <td id=\"T_62703_row0_col10\" class=\"data row0 col10\" >116.27</td>\n",
       "      <td id=\"T_62703_row0_col11\" class=\"data row0 col11\" >1.32</td>\n",
       "      <td id=\"T_62703_row0_col12\" class=\"data row0 col12\" >339</td>\n",
       "      <td id=\"T_62703_row0_col13\" class=\"data row0 col13\" >2017-07-23 07:25:07.542864</td>\n",
       "      <td id=\"T_62703_row0_col14\" class=\"data row0 col14\" >2022-04-23 07:59:17.253854</td>\n",
       "    </tr>\n",
       "  </tbody>\n",
       "</table>\n"
      ],
      "text/plain": [
       "<pandas.io.formats.style.Styler at 0x2eb1d33bd90>"
      ]
     },
     "execution_count": 6,
     "metadata": {},
     "output_type": "execute_result"
    }
   ],
   "source": [
    "names = df_buy['name']\n",
    "name = names.to_string(index=False)\n",
    "\n",
    "sql = '''\n",
    "SELECT * FROM stocks WHERE name = '%s'\n",
    "'''\n",
    "sql = sql % name\n",
    "print(sql)\n",
    "\n",
    "df_stocks = pd.read_sql(sql, conmy)\n",
    "df_stocks.style.format(format_dict) "
   ]
  },
  {
   "cell_type": "code",
   "execution_count": 7,
   "metadata": {},
   "outputs": [
    {
     "name": "stdout",
     "output_type": "stream",
     "text": [
      "\n",
      "SELECT * FROM price WHERE name = \"ORI\" ORDER BY date DESC LIMIT 5\n",
      "\n"
     ]
    },
    {
     "data": {
      "text/html": [
       "<style type=\"text/css\">\n",
       "</style>\n",
       "<table id=\"T_905e1_\">\n",
       "  <thead>\n",
       "    <tr>\n",
       "      <th class=\"blank level0\" >&nbsp;</th>\n",
       "      <th class=\"col_heading level0 col0\" >name</th>\n",
       "      <th class=\"col_heading level0 col1\" >date</th>\n",
       "      <th class=\"col_heading level0 col2\" >price</th>\n",
       "      <th class=\"col_heading level0 col3\" >maxp</th>\n",
       "      <th class=\"col_heading level0 col4\" >minp</th>\n",
       "      <th class=\"col_heading level0 col5\" >qty</th>\n",
       "      <th class=\"col_heading level0 col6\" >opnp</th>\n",
       "    </tr>\n",
       "  </thead>\n",
       "  <tbody>\n",
       "    <tr>\n",
       "      <th id=\"T_905e1_level0_row0\" class=\"row_heading level0 row0\" >0</th>\n",
       "      <td id=\"T_905e1_row0_col0\" class=\"data row0 col0\" >ORI</td>\n",
       "      <td id=\"T_905e1_row0_col1\" class=\"data row0 col1\" >2022-04-22</td>\n",
       "      <td id=\"T_905e1_row0_col2\" class=\"data row0 col2\" >11.10</td>\n",
       "      <td id=\"T_905e1_row0_col3\" class=\"data row0 col3\" >11.20</td>\n",
       "      <td id=\"T_905e1_row0_col4\" class=\"data row0 col4\" >11.00</td>\n",
       "      <td id=\"T_905e1_row0_col5\" class=\"data row0 col5\" >5,840,474</td>\n",
       "      <td id=\"T_905e1_row0_col6\" class=\"data row0 col6\" >11.20</td>\n",
       "    </tr>\n",
       "    <tr>\n",
       "      <th id=\"T_905e1_level0_row1\" class=\"row_heading level0 row1\" >1</th>\n",
       "      <td id=\"T_905e1_row1_col0\" class=\"data row1 col0\" >ORI</td>\n",
       "      <td id=\"T_905e1_row1_col1\" class=\"data row1 col1\" >2022-04-21</td>\n",
       "      <td id=\"T_905e1_row1_col2\" class=\"data row1 col2\" >11.20</td>\n",
       "      <td id=\"T_905e1_row1_col3\" class=\"data row1 col3\" >11.30</td>\n",
       "      <td id=\"T_905e1_row1_col4\" class=\"data row1 col4\" >11.10</td>\n",
       "      <td id=\"T_905e1_row1_col5\" class=\"data row1 col5\" >1,972,933</td>\n",
       "      <td id=\"T_905e1_row1_col6\" class=\"data row1 col6\" >11.20</td>\n",
       "    </tr>\n",
       "    <tr>\n",
       "      <th id=\"T_905e1_level0_row2\" class=\"row_heading level0 row2\" >2</th>\n",
       "      <td id=\"T_905e1_row2_col0\" class=\"data row2 col0\" >ORI</td>\n",
       "      <td id=\"T_905e1_row2_col1\" class=\"data row2 col1\" >2022-04-20</td>\n",
       "      <td id=\"T_905e1_row2_col2\" class=\"data row2 col2\" >11.20</td>\n",
       "      <td id=\"T_905e1_row2_col3\" class=\"data row2 col3\" >11.40</td>\n",
       "      <td id=\"T_905e1_row2_col4\" class=\"data row2 col4\" >11.10</td>\n",
       "      <td id=\"T_905e1_row2_col5\" class=\"data row2 col5\" >6,517,836</td>\n",
       "      <td id=\"T_905e1_row2_col6\" class=\"data row2 col6\" >11.30</td>\n",
       "    </tr>\n",
       "    <tr>\n",
       "      <th id=\"T_905e1_level0_row3\" class=\"row_heading level0 row3\" >3</th>\n",
       "      <td id=\"T_905e1_row3_col0\" class=\"data row3 col0\" >ORI</td>\n",
       "      <td id=\"T_905e1_row3_col1\" class=\"data row3 col1\" >2022-04-19</td>\n",
       "      <td id=\"T_905e1_row3_col2\" class=\"data row3 col2\" >11.20</td>\n",
       "      <td id=\"T_905e1_row3_col3\" class=\"data row3 col3\" >11.30</td>\n",
       "      <td id=\"T_905e1_row3_col4\" class=\"data row3 col4\" >11.00</td>\n",
       "      <td id=\"T_905e1_row3_col5\" class=\"data row3 col5\" >5,512,016</td>\n",
       "      <td id=\"T_905e1_row3_col6\" class=\"data row3 col6\" >11.10</td>\n",
       "    </tr>\n",
       "    <tr>\n",
       "      <th id=\"T_905e1_level0_row4\" class=\"row_heading level0 row4\" >4</th>\n",
       "      <td id=\"T_905e1_row4_col0\" class=\"data row4 col0\" >ORI</td>\n",
       "      <td id=\"T_905e1_row4_col1\" class=\"data row4 col1\" >2022-04-18</td>\n",
       "      <td id=\"T_905e1_row4_col2\" class=\"data row4 col2\" >11.10</td>\n",
       "      <td id=\"T_905e1_row4_col3\" class=\"data row4 col3\" >11.10</td>\n",
       "      <td id=\"T_905e1_row4_col4\" class=\"data row4 col4\" >10.90</td>\n",
       "      <td id=\"T_905e1_row4_col5\" class=\"data row4 col5\" >7,103,264</td>\n",
       "      <td id=\"T_905e1_row4_col6\" class=\"data row4 col6\" >11.00</td>\n",
       "    </tr>\n",
       "  </tbody>\n",
       "</table>\n"
      ],
      "text/plain": [
       "<pandas.io.formats.style.Styler at 0x2eb1e329430>"
      ]
     },
     "execution_count": 7,
     "metadata": {},
     "output_type": "execute_result"
    }
   ],
   "source": [
    "sql = '''\n",
    "SELECT * FROM price WHERE name = \"%s\" ORDER BY date DESC LIMIT 5\n",
    "'''\n",
    "sql = sql % name\n",
    "print(sql)\n",
    "\n",
    "df_price = pd.read_sql(sql, const)\n",
    "df_price.style.format(format_dict)"
   ]
  },
  {
   "cell_type": "code",
   "execution_count": 8,
   "metadata": {},
   "outputs": [
    {
     "name": "stdout",
     "output_type": "stream",
     "text": [
      "\n",
      "SELECT name, price AS price_d \n",
      "FROM price \n",
      "WHERE date = '2022-04-22' AND name IN ('ASP', 'BCH', 'DIF', 'DOHOME', 'HREIT', 'IP', 'JASIF', 'KCE', 'MAKRO', 'MCS', 'NER', 'ORI', 'PTT', 'PTTGC', 'RATCH', 'RCL', 'RJH', 'SCC', 'SCCC', 'SENA', 'SPALI', 'STA', 'SYNEX', 'TISCO', 'TMT', 'TPIPL', 'WHART')\n",
      "ORDER BY name, date\n"
     ]
    },
    {
     "data": {
      "text/plain": [
       "27"
      ]
     },
     "execution_count": 8,
     "metadata": {},
     "output_type": "execute_result"
    }
   ],
   "source": [
    "sql = '''\n",
    "SELECT name\n",
    "FROM buy \n",
    "WHERE active = 1\n",
    "ORDER BY name'''\n",
    "df_price = pd.read_sql(sql, const)\n",
    "\n",
    "names = df_price.name.tolist()\n",
    "in_p = \", \".join(map(lambda name: \"'%s'\" % name, names))\n",
    "\n",
    "sql = \"\"\"\n",
    "SELECT name, price AS price_d \n",
    "FROM price \n",
    "WHERE date = '%s' AND name IN (%s)\n",
    "ORDER BY name, date\"\"\"\n",
    "sql = sql % (today, in_p)\n",
    "print(sql)\n",
    "\n",
    "df_today = pd.read_sql(sql, const)\n",
    "df_today.shape[0]"
   ]
  },
  {
   "cell_type": "code",
   "execution_count": 9,
   "metadata": {},
   "outputs": [
    {
     "name": "stdout",
     "output_type": "stream",
     "text": [
      "\n",
      "SELECT name, price AS price_w\n",
      "FROM price \n",
      "WHERE date = '2022-04-12' AND name IN ('ASP', 'BCH', 'DIF', 'DOHOME', 'HREIT', 'IP', 'JASIF', 'KCE', 'MAKRO', 'MCS', 'NER', 'ORI', 'PTT', 'PTTGC', 'RATCH', 'RCL', 'RJH', 'SCC', 'SCCC', 'SENA', 'SPALI', 'STA', 'SYNEX', 'TISCO', 'TMT', 'TPIPL', 'WHART') \n",
      "ORDER BY name\n"
     ]
    },
    {
     "data": {
      "text/plain": [
       "27"
      ]
     },
     "execution_count": 9,
     "metadata": {},
     "output_type": "execute_result"
    }
   ],
   "source": [
    "sql = \"\"\"\n",
    "SELECT name, price AS price_w\n",
    "FROM price \n",
    "WHERE date = '%s' AND name IN (%s) \n",
    "ORDER BY name\"\"\"\n",
    "sql = sql % (wkago, in_p)\n",
    "print(sql)\n",
    "\n",
    "df_wkago = pd.read_sql(sql, const)\n",
    "df_wkago.shape[0]"
   ]
  },
  {
   "cell_type": "code",
   "execution_count": 10,
   "metadata": {},
   "outputs": [
    {
     "data": {
      "text/plain": [
       "(27, 3)"
      ]
     },
     "execution_count": 10,
     "metadata": {},
     "output_type": "execute_result"
    }
   ],
   "source": [
    "trend = pd.merge(df_today, df_wkago, on='name',how='inner')\n",
    "trend.shape"
   ]
  },
  {
   "cell_type": "code",
   "execution_count": 11,
   "metadata": {},
   "outputs": [],
   "source": [
    "def performance(vals):\n",
    "    price_d, price_w = vals\n",
    "    if (price_d > price_w):\n",
    "        return 'Better'\n",
    "    elif (price_d < price_w):\n",
    "        return 'Worse'\n",
    "    else:\n",
    "        return 'No Change'"
   ]
  },
  {
   "cell_type": "code",
   "execution_count": 12,
   "metadata": {},
   "outputs": [],
   "source": [
    "trend['percent'] = (trend.price_d-trend.price_w)/trend.price_w * 100"
   ]
  },
  {
   "cell_type": "code",
   "execution_count": 13,
   "metadata": {},
   "outputs": [
    {
     "data": {
      "text/html": [
       "<div>\n",
       "<style scoped>\n",
       "    .dataframe tbody tr th:only-of-type {\n",
       "        vertical-align: middle;\n",
       "    }\n",
       "\n",
       "    .dataframe tbody tr th {\n",
       "        vertical-align: top;\n",
       "    }\n",
       "\n",
       "    .dataframe thead th {\n",
       "        text-align: right;\n",
       "    }\n",
       "</style>\n",
       "<table border=\"1\" class=\"dataframe\">\n",
       "  <thead>\n",
       "    <tr style=\"text-align: right;\">\n",
       "      <th></th>\n",
       "      <th>name</th>\n",
       "      <th>price_d</th>\n",
       "      <th>price_w</th>\n",
       "      <th>percent</th>\n",
       "    </tr>\n",
       "  </thead>\n",
       "  <tbody>\n",
       "    <tr>\n",
       "      <th>0</th>\n",
       "      <td>ASP</td>\n",
       "      <td>3.38</td>\n",
       "      <td>3.40</td>\n",
       "      <td>-0.59</td>\n",
       "    </tr>\n",
       "    <tr>\n",
       "      <th>1</th>\n",
       "      <td>BCH</td>\n",
       "      <td>22.60</td>\n",
       "      <td>22.20</td>\n",
       "      <td>1.80</td>\n",
       "    </tr>\n",
       "    <tr>\n",
       "      <th>2</th>\n",
       "      <td>DIF</td>\n",
       "      <td>14.20</td>\n",
       "      <td>14.10</td>\n",
       "      <td>0.71</td>\n",
       "    </tr>\n",
       "    <tr>\n",
       "      <th>3</th>\n",
       "      <td>DOHOME</td>\n",
       "      <td>21.40</td>\n",
       "      <td>21.40</td>\n",
       "      <td>0.00</td>\n",
       "    </tr>\n",
       "    <tr>\n",
       "      <th>4</th>\n",
       "      <td>HREIT</td>\n",
       "      <td>8.60</td>\n",
       "      <td>8.65</td>\n",
       "      <td>-0.58</td>\n",
       "    </tr>\n",
       "    <tr>\n",
       "      <th>5</th>\n",
       "      <td>IP</td>\n",
       "      <td>19.90</td>\n",
       "      <td>19.70</td>\n",
       "      <td>1.02</td>\n",
       "    </tr>\n",
       "    <tr>\n",
       "      <th>6</th>\n",
       "      <td>JASIF</td>\n",
       "      <td>11.00</td>\n",
       "      <td>10.90</td>\n",
       "      <td>0.92</td>\n",
       "    </tr>\n",
       "    <tr>\n",
       "      <th>7</th>\n",
       "      <td>KCE</td>\n",
       "      <td>63.25</td>\n",
       "      <td>61.25</td>\n",
       "      <td>3.27</td>\n",
       "    </tr>\n",
       "    <tr>\n",
       "      <th>8</th>\n",
       "      <td>MAKRO</td>\n",
       "      <td>38.75</td>\n",
       "      <td>39.00</td>\n",
       "      <td>-0.64</td>\n",
       "    </tr>\n",
       "    <tr>\n",
       "      <th>9</th>\n",
       "      <td>MCS</td>\n",
       "      <td>11.90</td>\n",
       "      <td>13.00</td>\n",
       "      <td>-8.46</td>\n",
       "    </tr>\n",
       "    <tr>\n",
       "      <th>10</th>\n",
       "      <td>NER</td>\n",
       "      <td>6.80</td>\n",
       "      <td>7.15</td>\n",
       "      <td>-4.90</td>\n",
       "    </tr>\n",
       "    <tr>\n",
       "      <th>11</th>\n",
       "      <td>ORI</td>\n",
       "      <td>11.10</td>\n",
       "      <td>11.10</td>\n",
       "      <td>0.00</td>\n",
       "    </tr>\n",
       "    <tr>\n",
       "      <th>12</th>\n",
       "      <td>PTT</td>\n",
       "      <td>37.25</td>\n",
       "      <td>37.00</td>\n",
       "      <td>0.68</td>\n",
       "    </tr>\n",
       "    <tr>\n",
       "      <th>13</th>\n",
       "      <td>PTTGC</td>\n",
       "      <td>49.50</td>\n",
       "      <td>49.25</td>\n",
       "      <td>0.51</td>\n",
       "    </tr>\n",
       "    <tr>\n",
       "      <th>14</th>\n",
       "      <td>RATCH</td>\n",
       "      <td>44.75</td>\n",
       "      <td>44.25</td>\n",
       "      <td>1.13</td>\n",
       "    </tr>\n",
       "    <tr>\n",
       "      <th>15</th>\n",
       "      <td>RCL</td>\n",
       "      <td>45.25</td>\n",
       "      <td>42.50</td>\n",
       "      <td>6.47</td>\n",
       "    </tr>\n",
       "    <tr>\n",
       "      <th>16</th>\n",
       "      <td>RJH</td>\n",
       "      <td>33.50</td>\n",
       "      <td>33.00</td>\n",
       "      <td>1.52</td>\n",
       "    </tr>\n",
       "    <tr>\n",
       "      <th>17</th>\n",
       "      <td>SCC</td>\n",
       "      <td>362.00</td>\n",
       "      <td>363.00</td>\n",
       "      <td>-0.28</td>\n",
       "    </tr>\n",
       "    <tr>\n",
       "      <th>18</th>\n",
       "      <td>SCCC</td>\n",
       "      <td>152.00</td>\n",
       "      <td>153.00</td>\n",
       "      <td>-0.65</td>\n",
       "    </tr>\n",
       "    <tr>\n",
       "      <th>19</th>\n",
       "      <td>SENA</td>\n",
       "      <td>4.48</td>\n",
       "      <td>4.56</td>\n",
       "      <td>-1.75</td>\n",
       "    </tr>\n",
       "    <tr>\n",
       "      <th>20</th>\n",
       "      <td>SPALI</td>\n",
       "      <td>22.60</td>\n",
       "      <td>22.50</td>\n",
       "      <td>0.44</td>\n",
       "    </tr>\n",
       "    <tr>\n",
       "      <th>21</th>\n",
       "      <td>STA</td>\n",
       "      <td>25.75</td>\n",
       "      <td>26.00</td>\n",
       "      <td>-0.96</td>\n",
       "    </tr>\n",
       "    <tr>\n",
       "      <th>22</th>\n",
       "      <td>SYNEX</td>\n",
       "      <td>24.80</td>\n",
       "      <td>25.00</td>\n",
       "      <td>-0.80</td>\n",
       "    </tr>\n",
       "    <tr>\n",
       "      <th>23</th>\n",
       "      <td>TISCO</td>\n",
       "      <td>101.50</td>\n",
       "      <td>99.75</td>\n",
       "      <td>1.75</td>\n",
       "    </tr>\n",
       "    <tr>\n",
       "      <th>24</th>\n",
       "      <td>TMT</td>\n",
       "      <td>10.30</td>\n",
       "      <td>11.30</td>\n",
       "      <td>-8.85</td>\n",
       "    </tr>\n",
       "    <tr>\n",
       "      <th>25</th>\n",
       "      <td>TPIPL</td>\n",
       "      <td>1.54</td>\n",
       "      <td>1.54</td>\n",
       "      <td>0.00</td>\n",
       "    </tr>\n",
       "    <tr>\n",
       "      <th>26</th>\n",
       "      <td>WHART</td>\n",
       "      <td>11.10</td>\n",
       "      <td>11.40</td>\n",
       "      <td>-2.63</td>\n",
       "    </tr>\n",
       "  </tbody>\n",
       "</table>\n",
       "</div>"
      ],
      "text/plain": [
       "      name  price_d  price_w  percent\n",
       "0      ASP     3.38     3.40    -0.59\n",
       "1      BCH    22.60    22.20     1.80\n",
       "2      DIF    14.20    14.10     0.71\n",
       "3   DOHOME    21.40    21.40     0.00\n",
       "4    HREIT     8.60     8.65    -0.58\n",
       "5       IP    19.90    19.70     1.02\n",
       "6    JASIF    11.00    10.90     0.92\n",
       "7      KCE    63.25    61.25     3.27\n",
       "8    MAKRO    38.75    39.00    -0.64\n",
       "9      MCS    11.90    13.00    -8.46\n",
       "10     NER     6.80     7.15    -4.90\n",
       "11     ORI    11.10    11.10     0.00\n",
       "12     PTT    37.25    37.00     0.68\n",
       "13   PTTGC    49.50    49.25     0.51\n",
       "14   RATCH    44.75    44.25     1.13\n",
       "15     RCL    45.25    42.50     6.47\n",
       "16     RJH    33.50    33.00     1.52\n",
       "17     SCC   362.00   363.00    -0.28\n",
       "18    SCCC   152.00   153.00    -0.65\n",
       "19    SENA     4.48     4.56    -1.75\n",
       "20   SPALI    22.60    22.50     0.44\n",
       "21     STA    25.75    26.00    -0.96\n",
       "22   SYNEX    24.80    25.00    -0.80\n",
       "23   TISCO   101.50    99.75     1.75\n",
       "24     TMT    10.30    11.30    -8.85\n",
       "25   TPIPL     1.54     1.54     0.00\n",
       "26   WHART    11.10    11.40    -2.63"
      ]
     },
     "execution_count": 13,
     "metadata": {},
     "output_type": "execute_result"
    }
   ],
   "source": [
    "trend"
   ]
  },
  {
   "cell_type": "code",
   "execution_count": 14,
   "metadata": {},
   "outputs": [],
   "source": [
    "trend[\"perform\"] = trend[[\"price_d\",\"price_w\"]].apply(performance, axis=1)"
   ]
  },
  {
   "cell_type": "code",
   "execution_count": 15,
   "metadata": {},
   "outputs": [
    {
     "data": {
      "text/html": [
       "<style type=\"text/css\">\n",
       "</style>\n",
       "<table id=\"T_5816f_\">\n",
       "  <thead>\n",
       "    <tr>\n",
       "      <th class=\"blank level0\" >&nbsp;</th>\n",
       "      <th class=\"col_heading level0 col0\" >name</th>\n",
       "      <th class=\"col_heading level0 col1\" >price_d</th>\n",
       "      <th class=\"col_heading level0 col2\" >price_w</th>\n",
       "      <th class=\"col_heading level0 col3\" >percent</th>\n",
       "      <th class=\"col_heading level0 col4\" >perform</th>\n",
       "    </tr>\n",
       "  </thead>\n",
       "  <tbody>\n",
       "    <tr>\n",
       "      <th id=\"T_5816f_level0_row0\" class=\"row_heading level0 row0\" >24</th>\n",
       "      <td id=\"T_5816f_row0_col0\" class=\"data row0 col0\" >TMT</td>\n",
       "      <td id=\"T_5816f_row0_col1\" class=\"data row0 col1\" >10.30</td>\n",
       "      <td id=\"T_5816f_row0_col2\" class=\"data row0 col2\" >11.30</td>\n",
       "      <td id=\"T_5816f_row0_col3\" class=\"data row0 col3\" >-8.85%</td>\n",
       "      <td id=\"T_5816f_row0_col4\" class=\"data row0 col4\" >Worse</td>\n",
       "    </tr>\n",
       "    <tr>\n",
       "      <th id=\"T_5816f_level0_row1\" class=\"row_heading level0 row1\" >9</th>\n",
       "      <td id=\"T_5816f_row1_col0\" class=\"data row1 col0\" >MCS</td>\n",
       "      <td id=\"T_5816f_row1_col1\" class=\"data row1 col1\" >11.90</td>\n",
       "      <td id=\"T_5816f_row1_col2\" class=\"data row1 col2\" >13.00</td>\n",
       "      <td id=\"T_5816f_row1_col3\" class=\"data row1 col3\" >-8.46%</td>\n",
       "      <td id=\"T_5816f_row1_col4\" class=\"data row1 col4\" >Worse</td>\n",
       "    </tr>\n",
       "    <tr>\n",
       "      <th id=\"T_5816f_level0_row2\" class=\"row_heading level0 row2\" >10</th>\n",
       "      <td id=\"T_5816f_row2_col0\" class=\"data row2 col0\" >NER</td>\n",
       "      <td id=\"T_5816f_row2_col1\" class=\"data row2 col1\" >6.80</td>\n",
       "      <td id=\"T_5816f_row2_col2\" class=\"data row2 col2\" >7.15</td>\n",
       "      <td id=\"T_5816f_row2_col3\" class=\"data row2 col3\" >-4.90%</td>\n",
       "      <td id=\"T_5816f_row2_col4\" class=\"data row2 col4\" >Worse</td>\n",
       "    </tr>\n",
       "    <tr>\n",
       "      <th id=\"T_5816f_level0_row3\" class=\"row_heading level0 row3\" >26</th>\n",
       "      <td id=\"T_5816f_row3_col0\" class=\"data row3 col0\" >WHART</td>\n",
       "      <td id=\"T_5816f_row3_col1\" class=\"data row3 col1\" >11.10</td>\n",
       "      <td id=\"T_5816f_row3_col2\" class=\"data row3 col2\" >11.40</td>\n",
       "      <td id=\"T_5816f_row3_col3\" class=\"data row3 col3\" >-2.63%</td>\n",
       "      <td id=\"T_5816f_row3_col4\" class=\"data row3 col4\" >Worse</td>\n",
       "    </tr>\n",
       "    <tr>\n",
       "      <th id=\"T_5816f_level0_row4\" class=\"row_heading level0 row4\" >19</th>\n",
       "      <td id=\"T_5816f_row4_col0\" class=\"data row4 col0\" >SENA</td>\n",
       "      <td id=\"T_5816f_row4_col1\" class=\"data row4 col1\" >4.48</td>\n",
       "      <td id=\"T_5816f_row4_col2\" class=\"data row4 col2\" >4.56</td>\n",
       "      <td id=\"T_5816f_row4_col3\" class=\"data row4 col3\" >-1.75%</td>\n",
       "      <td id=\"T_5816f_row4_col4\" class=\"data row4 col4\" >Worse</td>\n",
       "    </tr>\n",
       "    <tr>\n",
       "      <th id=\"T_5816f_level0_row5\" class=\"row_heading level0 row5\" >21</th>\n",
       "      <td id=\"T_5816f_row5_col0\" class=\"data row5 col0\" >STA</td>\n",
       "      <td id=\"T_5816f_row5_col1\" class=\"data row5 col1\" >25.75</td>\n",
       "      <td id=\"T_5816f_row5_col2\" class=\"data row5 col2\" >26.00</td>\n",
       "      <td id=\"T_5816f_row5_col3\" class=\"data row5 col3\" >-0.96%</td>\n",
       "      <td id=\"T_5816f_row5_col4\" class=\"data row5 col4\" >Worse</td>\n",
       "    </tr>\n",
       "    <tr>\n",
       "      <th id=\"T_5816f_level0_row6\" class=\"row_heading level0 row6\" >22</th>\n",
       "      <td id=\"T_5816f_row6_col0\" class=\"data row6 col0\" >SYNEX</td>\n",
       "      <td id=\"T_5816f_row6_col1\" class=\"data row6 col1\" >24.80</td>\n",
       "      <td id=\"T_5816f_row6_col2\" class=\"data row6 col2\" >25.00</td>\n",
       "      <td id=\"T_5816f_row6_col3\" class=\"data row6 col3\" >-0.80%</td>\n",
       "      <td id=\"T_5816f_row6_col4\" class=\"data row6 col4\" >Worse</td>\n",
       "    </tr>\n",
       "    <tr>\n",
       "      <th id=\"T_5816f_level0_row7\" class=\"row_heading level0 row7\" >18</th>\n",
       "      <td id=\"T_5816f_row7_col0\" class=\"data row7 col0\" >SCCC</td>\n",
       "      <td id=\"T_5816f_row7_col1\" class=\"data row7 col1\" >152.00</td>\n",
       "      <td id=\"T_5816f_row7_col2\" class=\"data row7 col2\" >153.00</td>\n",
       "      <td id=\"T_5816f_row7_col3\" class=\"data row7 col3\" >-0.65%</td>\n",
       "      <td id=\"T_5816f_row7_col4\" class=\"data row7 col4\" >Worse</td>\n",
       "    </tr>\n",
       "    <tr>\n",
       "      <th id=\"T_5816f_level0_row8\" class=\"row_heading level0 row8\" >8</th>\n",
       "      <td id=\"T_5816f_row8_col0\" class=\"data row8 col0\" >MAKRO</td>\n",
       "      <td id=\"T_5816f_row8_col1\" class=\"data row8 col1\" >38.75</td>\n",
       "      <td id=\"T_5816f_row8_col2\" class=\"data row8 col2\" >39.00</td>\n",
       "      <td id=\"T_5816f_row8_col3\" class=\"data row8 col3\" >-0.64%</td>\n",
       "      <td id=\"T_5816f_row8_col4\" class=\"data row8 col4\" >Worse</td>\n",
       "    </tr>\n",
       "    <tr>\n",
       "      <th id=\"T_5816f_level0_row9\" class=\"row_heading level0 row9\" >0</th>\n",
       "      <td id=\"T_5816f_row9_col0\" class=\"data row9 col0\" >ASP</td>\n",
       "      <td id=\"T_5816f_row9_col1\" class=\"data row9 col1\" >3.38</td>\n",
       "      <td id=\"T_5816f_row9_col2\" class=\"data row9 col2\" >3.40</td>\n",
       "      <td id=\"T_5816f_row9_col3\" class=\"data row9 col3\" >-0.59%</td>\n",
       "      <td id=\"T_5816f_row9_col4\" class=\"data row9 col4\" >Worse</td>\n",
       "    </tr>\n",
       "    <tr>\n",
       "      <th id=\"T_5816f_level0_row10\" class=\"row_heading level0 row10\" >4</th>\n",
       "      <td id=\"T_5816f_row10_col0\" class=\"data row10 col0\" >HREIT</td>\n",
       "      <td id=\"T_5816f_row10_col1\" class=\"data row10 col1\" >8.60</td>\n",
       "      <td id=\"T_5816f_row10_col2\" class=\"data row10 col2\" >8.65</td>\n",
       "      <td id=\"T_5816f_row10_col3\" class=\"data row10 col3\" >-0.58%</td>\n",
       "      <td id=\"T_5816f_row10_col4\" class=\"data row10 col4\" >Worse</td>\n",
       "    </tr>\n",
       "    <tr>\n",
       "      <th id=\"T_5816f_level0_row11\" class=\"row_heading level0 row11\" >17</th>\n",
       "      <td id=\"T_5816f_row11_col0\" class=\"data row11 col0\" >SCC</td>\n",
       "      <td id=\"T_5816f_row11_col1\" class=\"data row11 col1\" >362.00</td>\n",
       "      <td id=\"T_5816f_row11_col2\" class=\"data row11 col2\" >363.00</td>\n",
       "      <td id=\"T_5816f_row11_col3\" class=\"data row11 col3\" >-0.28%</td>\n",
       "      <td id=\"T_5816f_row11_col4\" class=\"data row11 col4\" >Worse</td>\n",
       "    </tr>\n",
       "    <tr>\n",
       "      <th id=\"T_5816f_level0_row12\" class=\"row_heading level0 row12\" >11</th>\n",
       "      <td id=\"T_5816f_row12_col0\" class=\"data row12 col0\" >ORI</td>\n",
       "      <td id=\"T_5816f_row12_col1\" class=\"data row12 col1\" >11.10</td>\n",
       "      <td id=\"T_5816f_row12_col2\" class=\"data row12 col2\" >11.10</td>\n",
       "      <td id=\"T_5816f_row12_col3\" class=\"data row12 col3\" >0.00%</td>\n",
       "      <td id=\"T_5816f_row12_col4\" class=\"data row12 col4\" >No Change</td>\n",
       "    </tr>\n",
       "    <tr>\n",
       "      <th id=\"T_5816f_level0_row13\" class=\"row_heading level0 row13\" >25</th>\n",
       "      <td id=\"T_5816f_row13_col0\" class=\"data row13 col0\" >TPIPL</td>\n",
       "      <td id=\"T_5816f_row13_col1\" class=\"data row13 col1\" >1.54</td>\n",
       "      <td id=\"T_5816f_row13_col2\" class=\"data row13 col2\" >1.54</td>\n",
       "      <td id=\"T_5816f_row13_col3\" class=\"data row13 col3\" >0.00%</td>\n",
       "      <td id=\"T_5816f_row13_col4\" class=\"data row13 col4\" >No Change</td>\n",
       "    </tr>\n",
       "    <tr>\n",
       "      <th id=\"T_5816f_level0_row14\" class=\"row_heading level0 row14\" >3</th>\n",
       "      <td id=\"T_5816f_row14_col0\" class=\"data row14 col0\" >DOHOME</td>\n",
       "      <td id=\"T_5816f_row14_col1\" class=\"data row14 col1\" >21.40</td>\n",
       "      <td id=\"T_5816f_row14_col2\" class=\"data row14 col2\" >21.40</td>\n",
       "      <td id=\"T_5816f_row14_col3\" class=\"data row14 col3\" >0.00%</td>\n",
       "      <td id=\"T_5816f_row14_col4\" class=\"data row14 col4\" >No Change</td>\n",
       "    </tr>\n",
       "    <tr>\n",
       "      <th id=\"T_5816f_level0_row15\" class=\"row_heading level0 row15\" >20</th>\n",
       "      <td id=\"T_5816f_row15_col0\" class=\"data row15 col0\" >SPALI</td>\n",
       "      <td id=\"T_5816f_row15_col1\" class=\"data row15 col1\" >22.60</td>\n",
       "      <td id=\"T_5816f_row15_col2\" class=\"data row15 col2\" >22.50</td>\n",
       "      <td id=\"T_5816f_row15_col3\" class=\"data row15 col3\" >0.44%</td>\n",
       "      <td id=\"T_5816f_row15_col4\" class=\"data row15 col4\" >Better</td>\n",
       "    </tr>\n",
       "    <tr>\n",
       "      <th id=\"T_5816f_level0_row16\" class=\"row_heading level0 row16\" >13</th>\n",
       "      <td id=\"T_5816f_row16_col0\" class=\"data row16 col0\" >PTTGC</td>\n",
       "      <td id=\"T_5816f_row16_col1\" class=\"data row16 col1\" >49.50</td>\n",
       "      <td id=\"T_5816f_row16_col2\" class=\"data row16 col2\" >49.25</td>\n",
       "      <td id=\"T_5816f_row16_col3\" class=\"data row16 col3\" >0.51%</td>\n",
       "      <td id=\"T_5816f_row16_col4\" class=\"data row16 col4\" >Better</td>\n",
       "    </tr>\n",
       "    <tr>\n",
       "      <th id=\"T_5816f_level0_row17\" class=\"row_heading level0 row17\" >12</th>\n",
       "      <td id=\"T_5816f_row17_col0\" class=\"data row17 col0\" >PTT</td>\n",
       "      <td id=\"T_5816f_row17_col1\" class=\"data row17 col1\" >37.25</td>\n",
       "      <td id=\"T_5816f_row17_col2\" class=\"data row17 col2\" >37.00</td>\n",
       "      <td id=\"T_5816f_row17_col3\" class=\"data row17 col3\" >0.68%</td>\n",
       "      <td id=\"T_5816f_row17_col4\" class=\"data row17 col4\" >Better</td>\n",
       "    </tr>\n",
       "    <tr>\n",
       "      <th id=\"T_5816f_level0_row18\" class=\"row_heading level0 row18\" >2</th>\n",
       "      <td id=\"T_5816f_row18_col0\" class=\"data row18 col0\" >DIF</td>\n",
       "      <td id=\"T_5816f_row18_col1\" class=\"data row18 col1\" >14.20</td>\n",
       "      <td id=\"T_5816f_row18_col2\" class=\"data row18 col2\" >14.10</td>\n",
       "      <td id=\"T_5816f_row18_col3\" class=\"data row18 col3\" >0.71%</td>\n",
       "      <td id=\"T_5816f_row18_col4\" class=\"data row18 col4\" >Better</td>\n",
       "    </tr>\n",
       "    <tr>\n",
       "      <th id=\"T_5816f_level0_row19\" class=\"row_heading level0 row19\" >6</th>\n",
       "      <td id=\"T_5816f_row19_col0\" class=\"data row19 col0\" >JASIF</td>\n",
       "      <td id=\"T_5816f_row19_col1\" class=\"data row19 col1\" >11.00</td>\n",
       "      <td id=\"T_5816f_row19_col2\" class=\"data row19 col2\" >10.90</td>\n",
       "      <td id=\"T_5816f_row19_col3\" class=\"data row19 col3\" >0.92%</td>\n",
       "      <td id=\"T_5816f_row19_col4\" class=\"data row19 col4\" >Better</td>\n",
       "    </tr>\n",
       "    <tr>\n",
       "      <th id=\"T_5816f_level0_row20\" class=\"row_heading level0 row20\" >5</th>\n",
       "      <td id=\"T_5816f_row20_col0\" class=\"data row20 col0\" >IP</td>\n",
       "      <td id=\"T_5816f_row20_col1\" class=\"data row20 col1\" >19.90</td>\n",
       "      <td id=\"T_5816f_row20_col2\" class=\"data row20 col2\" >19.70</td>\n",
       "      <td id=\"T_5816f_row20_col3\" class=\"data row20 col3\" >1.02%</td>\n",
       "      <td id=\"T_5816f_row20_col4\" class=\"data row20 col4\" >Better</td>\n",
       "    </tr>\n",
       "    <tr>\n",
       "      <th id=\"T_5816f_level0_row21\" class=\"row_heading level0 row21\" >14</th>\n",
       "      <td id=\"T_5816f_row21_col0\" class=\"data row21 col0\" >RATCH</td>\n",
       "      <td id=\"T_5816f_row21_col1\" class=\"data row21 col1\" >44.75</td>\n",
       "      <td id=\"T_5816f_row21_col2\" class=\"data row21 col2\" >44.25</td>\n",
       "      <td id=\"T_5816f_row21_col3\" class=\"data row21 col3\" >1.13%</td>\n",
       "      <td id=\"T_5816f_row21_col4\" class=\"data row21 col4\" >Better</td>\n",
       "    </tr>\n",
       "    <tr>\n",
       "      <th id=\"T_5816f_level0_row22\" class=\"row_heading level0 row22\" >16</th>\n",
       "      <td id=\"T_5816f_row22_col0\" class=\"data row22 col0\" >RJH</td>\n",
       "      <td id=\"T_5816f_row22_col1\" class=\"data row22 col1\" >33.50</td>\n",
       "      <td id=\"T_5816f_row22_col2\" class=\"data row22 col2\" >33.00</td>\n",
       "      <td id=\"T_5816f_row22_col3\" class=\"data row22 col3\" >1.52%</td>\n",
       "      <td id=\"T_5816f_row22_col4\" class=\"data row22 col4\" >Better</td>\n",
       "    </tr>\n",
       "    <tr>\n",
       "      <th id=\"T_5816f_level0_row23\" class=\"row_heading level0 row23\" >23</th>\n",
       "      <td id=\"T_5816f_row23_col0\" class=\"data row23 col0\" >TISCO</td>\n",
       "      <td id=\"T_5816f_row23_col1\" class=\"data row23 col1\" >101.50</td>\n",
       "      <td id=\"T_5816f_row23_col2\" class=\"data row23 col2\" >99.75</td>\n",
       "      <td id=\"T_5816f_row23_col3\" class=\"data row23 col3\" >1.75%</td>\n",
       "      <td id=\"T_5816f_row23_col4\" class=\"data row23 col4\" >Better</td>\n",
       "    </tr>\n",
       "    <tr>\n",
       "      <th id=\"T_5816f_level0_row24\" class=\"row_heading level0 row24\" >1</th>\n",
       "      <td id=\"T_5816f_row24_col0\" class=\"data row24 col0\" >BCH</td>\n",
       "      <td id=\"T_5816f_row24_col1\" class=\"data row24 col1\" >22.60</td>\n",
       "      <td id=\"T_5816f_row24_col2\" class=\"data row24 col2\" >22.20</td>\n",
       "      <td id=\"T_5816f_row24_col3\" class=\"data row24 col3\" >1.80%</td>\n",
       "      <td id=\"T_5816f_row24_col4\" class=\"data row24 col4\" >Better</td>\n",
       "    </tr>\n",
       "    <tr>\n",
       "      <th id=\"T_5816f_level0_row25\" class=\"row_heading level0 row25\" >7</th>\n",
       "      <td id=\"T_5816f_row25_col0\" class=\"data row25 col0\" >KCE</td>\n",
       "      <td id=\"T_5816f_row25_col1\" class=\"data row25 col1\" >63.25</td>\n",
       "      <td id=\"T_5816f_row25_col2\" class=\"data row25 col2\" >61.25</td>\n",
       "      <td id=\"T_5816f_row25_col3\" class=\"data row25 col3\" >3.27%</td>\n",
       "      <td id=\"T_5816f_row25_col4\" class=\"data row25 col4\" >Better</td>\n",
       "    </tr>\n",
       "    <tr>\n",
       "      <th id=\"T_5816f_level0_row26\" class=\"row_heading level0 row26\" >15</th>\n",
       "      <td id=\"T_5816f_row26_col0\" class=\"data row26 col0\" >RCL</td>\n",
       "      <td id=\"T_5816f_row26_col1\" class=\"data row26 col1\" >45.25</td>\n",
       "      <td id=\"T_5816f_row26_col2\" class=\"data row26 col2\" >42.50</td>\n",
       "      <td id=\"T_5816f_row26_col3\" class=\"data row26 col3\" >6.47%</td>\n",
       "      <td id=\"T_5816f_row26_col4\" class=\"data row26 col4\" >Better</td>\n",
       "    </tr>\n",
       "  </tbody>\n",
       "</table>\n"
      ],
      "text/plain": [
       "<pandas.io.formats.style.Styler at 0x2eb1e36e280>"
      ]
     },
     "execution_count": 15,
     "metadata": {},
     "output_type": "execute_result"
    }
   ],
   "source": [
    "trend.sort_values(by=['percent'],ascending=[True]).style.format(format_dict)"
   ]
  },
  {
   "cell_type": "code",
   "execution_count": 16,
   "metadata": {},
   "outputs": [
    {
     "data": {
      "text/html": [
       "<style type=\"text/css\">\n",
       "</style>\n",
       "<table id=\"T_19d98_\">\n",
       "  <thead>\n",
       "    <tr>\n",
       "      <th class=\"blank level0\" >&nbsp;</th>\n",
       "      <th class=\"col_heading level0 col0\" >perform</th>\n",
       "    </tr>\n",
       "  </thead>\n",
       "  <tbody>\n",
       "    <tr>\n",
       "      <th id=\"T_19d98_level0_row0\" class=\"row_heading level0 row0\" >Worse</th>\n",
       "      <td id=\"T_19d98_row0_col0\" class=\"data row0 col0\" >44.44%</td>\n",
       "    </tr>\n",
       "    <tr>\n",
       "      <th id=\"T_19d98_level0_row1\" class=\"row_heading level0 row1\" >Better</th>\n",
       "      <td id=\"T_19d98_row1_col0\" class=\"data row1 col0\" >44.44%</td>\n",
       "    </tr>\n",
       "    <tr>\n",
       "      <th id=\"T_19d98_level0_row2\" class=\"row_heading level0 row2\" >No Change</th>\n",
       "      <td id=\"T_19d98_row2_col0\" class=\"data row2 col0\" >11.11%</td>\n",
       "    </tr>\n",
       "  </tbody>\n",
       "</table>\n"
      ],
      "text/plain": [
       "<pandas.io.formats.style.Styler at 0x2eb1e3c9df0>"
      ]
     },
     "execution_count": 16,
     "metadata": {},
     "output_type": "execute_result"
    }
   ],
   "source": [
    "trend.perform.value_counts(normalize=True).to_frame().style.format('{:.2%}')"
   ]
  },
  {
   "cell_type": "code",
   "execution_count": 17,
   "metadata": {},
   "outputs": [
    {
     "data": {
      "text/plain": [
       "(359, 8)"
      ]
     },
     "execution_count": 17,
     "metadata": {},
     "output_type": "execute_result"
    }
   ],
   "source": [
    "sql = '''\n",
    "SELECT name, max_price AS max, min_price AS min, pe, pbv, daily_volume AS volume, beta, market\n",
    "FROM stocks\n",
    "'''\n",
    "my_stocks = pd.read_sql(sql, conmy)\n",
    "my_stocks.shape"
   ]
  },
  {
   "cell_type": "code",
   "execution_count": 18,
   "metadata": {},
   "outputs": [],
   "source": [
    "filters = [\n",
    "   (my_stocks.market.str.contains('SET50')),\n",
    "   (my_stocks.market.str.contains('SET100')),\n",
    "   (my_stocks.market.str.contains('mai'))]\n",
    "values = ['SET50','SET100','mai']\n",
    "my_stocks[\"mrkt\"] = np.select(filters, values, default='SET999')"
   ]
  },
  {
   "cell_type": "code",
   "execution_count": 19,
   "metadata": {},
   "outputs": [
    {
     "data": {
      "text/plain": [
       "(27, 13)"
      ]
     },
     "execution_count": 19,
     "metadata": {},
     "output_type": "execute_result"
    }
   ],
   "source": [
    "trend2 = pd.merge(trend, my_stocks, on='name', how='inner')\n",
    "trend2.sort_values(['percent'],ascending=[True]).shape"
   ]
  },
  {
   "cell_type": "code",
   "execution_count": 20,
   "metadata": {},
   "outputs": [
    {
     "data": {
      "text/html": [
       "<style type=\"text/css\">\n",
       "</style>\n",
       "<table id=\"T_ab57f_\">\n",
       "  <thead>\n",
       "    <tr>\n",
       "      <th class=\"blank level0\" >&nbsp;</th>\n",
       "      <th class=\"col_heading level0 col0\" >name</th>\n",
       "      <th class=\"col_heading level0 col1\" >price_d</th>\n",
       "      <th class=\"col_heading level0 col2\" >price_w</th>\n",
       "      <th class=\"col_heading level0 col3\" >percent</th>\n",
       "      <th class=\"col_heading level0 col4\" >perform</th>\n",
       "      <th class=\"col_heading level0 col5\" >mrkt</th>\n",
       "    </tr>\n",
       "  </thead>\n",
       "  <tbody>\n",
       "    <tr>\n",
       "      <th id=\"T_ab57f_level0_row0\" class=\"row_heading level0 row0\" >17</th>\n",
       "      <td id=\"T_ab57f_row0_col0\" class=\"data row0 col0\" >SCC</td>\n",
       "      <td id=\"T_ab57f_row0_col1\" class=\"data row0 col1\" >362.00</td>\n",
       "      <td id=\"T_ab57f_row0_col2\" class=\"data row0 col2\" >363.00</td>\n",
       "      <td id=\"T_ab57f_row0_col3\" class=\"data row0 col3\" >-0.28%</td>\n",
       "      <td id=\"T_ab57f_row0_col4\" class=\"data row0 col4\" >Worse</td>\n",
       "      <td id=\"T_ab57f_row0_col5\" class=\"data row0 col5\" >SET50</td>\n",
       "    </tr>\n",
       "    <tr>\n",
       "      <th id=\"T_ab57f_level0_row1\" class=\"row_heading level0 row1\" >13</th>\n",
       "      <td id=\"T_ab57f_row1_col0\" class=\"data row1 col0\" >PTTGC</td>\n",
       "      <td id=\"T_ab57f_row1_col1\" class=\"data row1 col1\" >49.50</td>\n",
       "      <td id=\"T_ab57f_row1_col2\" class=\"data row1 col2\" >49.25</td>\n",
       "      <td id=\"T_ab57f_row1_col3\" class=\"data row1 col3\" >0.51%</td>\n",
       "      <td id=\"T_ab57f_row1_col4\" class=\"data row1 col4\" >Better</td>\n",
       "      <td id=\"T_ab57f_row1_col5\" class=\"data row1 col5\" >SET50</td>\n",
       "    </tr>\n",
       "    <tr>\n",
       "      <th id=\"T_ab57f_level0_row2\" class=\"row_heading level0 row2\" >12</th>\n",
       "      <td id=\"T_ab57f_row2_col0\" class=\"data row2 col0\" >PTT</td>\n",
       "      <td id=\"T_ab57f_row2_col1\" class=\"data row2 col1\" >37.25</td>\n",
       "      <td id=\"T_ab57f_row2_col2\" class=\"data row2 col2\" >37.00</td>\n",
       "      <td id=\"T_ab57f_row2_col3\" class=\"data row2 col3\" >0.68%</td>\n",
       "      <td id=\"T_ab57f_row2_col4\" class=\"data row2 col4\" >Better</td>\n",
       "      <td id=\"T_ab57f_row2_col5\" class=\"data row2 col5\" >SET50</td>\n",
       "    </tr>\n",
       "    <tr>\n",
       "      <th id=\"T_ab57f_level0_row3\" class=\"row_heading level0 row3\" >14</th>\n",
       "      <td id=\"T_ab57f_row3_col0\" class=\"data row3 col0\" >RATCH</td>\n",
       "      <td id=\"T_ab57f_row3_col1\" class=\"data row3 col1\" >44.75</td>\n",
       "      <td id=\"T_ab57f_row3_col2\" class=\"data row3 col2\" >44.25</td>\n",
       "      <td id=\"T_ab57f_row3_col3\" class=\"data row3 col3\" >1.13%</td>\n",
       "      <td id=\"T_ab57f_row3_col4\" class=\"data row3 col4\" >Better</td>\n",
       "      <td id=\"T_ab57f_row3_col5\" class=\"data row3 col5\" >SET50</td>\n",
       "    </tr>\n",
       "    <tr>\n",
       "      <th id=\"T_ab57f_level0_row4\" class=\"row_heading level0 row4\" >23</th>\n",
       "      <td id=\"T_ab57f_row4_col0\" class=\"data row4 col0\" >TISCO</td>\n",
       "      <td id=\"T_ab57f_row4_col1\" class=\"data row4 col1\" >101.50</td>\n",
       "      <td id=\"T_ab57f_row4_col2\" class=\"data row4 col2\" >99.75</td>\n",
       "      <td id=\"T_ab57f_row4_col3\" class=\"data row4 col3\" >1.75%</td>\n",
       "      <td id=\"T_ab57f_row4_col4\" class=\"data row4 col4\" >Better</td>\n",
       "      <td id=\"T_ab57f_row4_col5\" class=\"data row4 col5\" >SET50</td>\n",
       "    </tr>\n",
       "    <tr>\n",
       "      <th id=\"T_ab57f_level0_row5\" class=\"row_heading level0 row5\" >7</th>\n",
       "      <td id=\"T_ab57f_row5_col0\" class=\"data row5 col0\" >KCE</td>\n",
       "      <td id=\"T_ab57f_row5_col1\" class=\"data row5 col1\" >63.25</td>\n",
       "      <td id=\"T_ab57f_row5_col2\" class=\"data row5 col2\" >61.25</td>\n",
       "      <td id=\"T_ab57f_row5_col3\" class=\"data row5 col3\" >3.27%</td>\n",
       "      <td id=\"T_ab57f_row5_col4\" class=\"data row5 col4\" >Better</td>\n",
       "      <td id=\"T_ab57f_row5_col5\" class=\"data row5 col5\" >SET50</td>\n",
       "    </tr>\n",
       "  </tbody>\n",
       "</table>\n"
      ],
      "text/plain": [
       "<pandas.io.formats.style.Styler at 0x2eb1e36e460>"
      ]
     },
     "execution_count": 20,
     "metadata": {},
     "output_type": "execute_result"
    }
   ],
   "source": [
    "set50 = trend2.mrkt.str.contains('SET50') \n",
    "flt_set50 = trend2[set50]\n",
    "flt_set50[cols].sort_values(by=['percent','name'],ascending=[True,True]).style.format(format_dict)"
   ]
  },
  {
   "cell_type": "code",
   "execution_count": 21,
   "metadata": {},
   "outputs": [
    {
     "data": {
      "text/html": [
       "<style type=\"text/css\">\n",
       "</style>\n",
       "<table id=\"T_eae56_\">\n",
       "  <thead>\n",
       "    <tr>\n",
       "      <th class=\"blank level0\" >&nbsp;</th>\n",
       "      <th class=\"col_heading level0 col0\" >perform</th>\n",
       "    </tr>\n",
       "  </thead>\n",
       "  <tbody>\n",
       "    <tr>\n",
       "      <th id=\"T_eae56_level0_row0\" class=\"row_heading level0 row0\" >Better</th>\n",
       "      <td id=\"T_eae56_row0_col0\" class=\"data row0 col0\" >83.33%</td>\n",
       "    </tr>\n",
       "    <tr>\n",
       "      <th id=\"T_eae56_level0_row1\" class=\"row_heading level0 row1\" >Worse</th>\n",
       "      <td id=\"T_eae56_row1_col0\" class=\"data row1 col0\" >16.67%</td>\n",
       "    </tr>\n",
       "  </tbody>\n",
       "</table>\n"
      ],
      "text/plain": [
       "<pandas.io.formats.style.Styler at 0x2eb1e3ceb80>"
      ]
     },
     "execution_count": 21,
     "metadata": {},
     "output_type": "execute_result"
    }
   ],
   "source": [
    "flt_set50.perform.value_counts(normalize=True).to_frame().style.format('{:.2%}')"
   ]
  },
  {
   "cell_type": "code",
   "execution_count": 22,
   "metadata": {
    "scrolled": true
   },
   "outputs": [
    {
     "data": {
      "text/html": [
       "<style type=\"text/css\">\n",
       "</style>\n",
       "<table id=\"T_a13d7_\">\n",
       "  <thead>\n",
       "    <tr>\n",
       "      <th class=\"blank level0\" >&nbsp;</th>\n",
       "      <th class=\"col_heading level0 col0\" >name</th>\n",
       "      <th class=\"col_heading level0 col1\" >price_d</th>\n",
       "      <th class=\"col_heading level0 col2\" >price_w</th>\n",
       "      <th class=\"col_heading level0 col3\" >percent</th>\n",
       "      <th class=\"col_heading level0 col4\" >perform</th>\n",
       "      <th class=\"col_heading level0 col5\" >mrkt</th>\n",
       "    </tr>\n",
       "  </thead>\n",
       "  <tbody>\n",
       "    <tr>\n",
       "      <th id=\"T_a13d7_level0_row0\" class=\"row_heading level0 row0\" >21</th>\n",
       "      <td id=\"T_a13d7_row0_col0\" class=\"data row0 col0\" >STA</td>\n",
       "      <td id=\"T_a13d7_row0_col1\" class=\"data row0 col1\" >25.75</td>\n",
       "      <td id=\"T_a13d7_row0_col2\" class=\"data row0 col2\" >26.00</td>\n",
       "      <td id=\"T_a13d7_row0_col3\" class=\"data row0 col3\" >-0.96%</td>\n",
       "      <td id=\"T_a13d7_row0_col4\" class=\"data row0 col4\" >Worse</td>\n",
       "      <td id=\"T_a13d7_row0_col5\" class=\"data row0 col5\" >SET100</td>\n",
       "    </tr>\n",
       "    <tr>\n",
       "      <th id=\"T_a13d7_level0_row1\" class=\"row_heading level0 row1\" >22</th>\n",
       "      <td id=\"T_a13d7_row1_col0\" class=\"data row1 col0\" >SYNEX</td>\n",
       "      <td id=\"T_a13d7_row1_col1\" class=\"data row1 col1\" >24.80</td>\n",
       "      <td id=\"T_a13d7_row1_col2\" class=\"data row1 col2\" >25.00</td>\n",
       "      <td id=\"T_a13d7_row1_col3\" class=\"data row1 col3\" >-0.80%</td>\n",
       "      <td id=\"T_a13d7_row1_col4\" class=\"data row1 col4\" >Worse</td>\n",
       "      <td id=\"T_a13d7_row1_col5\" class=\"data row1 col5\" >SET100</td>\n",
       "    </tr>\n",
       "    <tr>\n",
       "      <th id=\"T_a13d7_level0_row2\" class=\"row_heading level0 row2\" >3</th>\n",
       "      <td id=\"T_a13d7_row2_col0\" class=\"data row2 col0\" >DOHOME</td>\n",
       "      <td id=\"T_a13d7_row2_col1\" class=\"data row2 col1\" >21.40</td>\n",
       "      <td id=\"T_a13d7_row2_col2\" class=\"data row2 col2\" >21.40</td>\n",
       "      <td id=\"T_a13d7_row2_col3\" class=\"data row2 col3\" >0.00%</td>\n",
       "      <td id=\"T_a13d7_row2_col4\" class=\"data row2 col4\" >No Change</td>\n",
       "      <td id=\"T_a13d7_row2_col5\" class=\"data row2 col5\" >SET100</td>\n",
       "    </tr>\n",
       "    <tr>\n",
       "      <th id=\"T_a13d7_level0_row3\" class=\"row_heading level0 row3\" >11</th>\n",
       "      <td id=\"T_a13d7_row3_col0\" class=\"data row3 col0\" >ORI</td>\n",
       "      <td id=\"T_a13d7_row3_col1\" class=\"data row3 col1\" >11.10</td>\n",
       "      <td id=\"T_a13d7_row3_col2\" class=\"data row3 col2\" >11.10</td>\n",
       "      <td id=\"T_a13d7_row3_col3\" class=\"data row3 col3\" >0.00%</td>\n",
       "      <td id=\"T_a13d7_row3_col4\" class=\"data row3 col4\" >No Change</td>\n",
       "      <td id=\"T_a13d7_row3_col5\" class=\"data row3 col5\" >SET100</td>\n",
       "    </tr>\n",
       "    <tr>\n",
       "      <th id=\"T_a13d7_level0_row4\" class=\"row_heading level0 row4\" >20</th>\n",
       "      <td id=\"T_a13d7_row4_col0\" class=\"data row4 col0\" >SPALI</td>\n",
       "      <td id=\"T_a13d7_row4_col1\" class=\"data row4 col1\" >22.60</td>\n",
       "      <td id=\"T_a13d7_row4_col2\" class=\"data row4 col2\" >22.50</td>\n",
       "      <td id=\"T_a13d7_row4_col3\" class=\"data row4 col3\" >0.44%</td>\n",
       "      <td id=\"T_a13d7_row4_col4\" class=\"data row4 col4\" >Better</td>\n",
       "      <td id=\"T_a13d7_row4_col5\" class=\"data row4 col5\" >SET100</td>\n",
       "    </tr>\n",
       "    <tr>\n",
       "      <th id=\"T_a13d7_level0_row5\" class=\"row_heading level0 row5\" >1</th>\n",
       "      <td id=\"T_a13d7_row5_col0\" class=\"data row5 col0\" >BCH</td>\n",
       "      <td id=\"T_a13d7_row5_col1\" class=\"data row5 col1\" >22.60</td>\n",
       "      <td id=\"T_a13d7_row5_col2\" class=\"data row5 col2\" >22.20</td>\n",
       "      <td id=\"T_a13d7_row5_col3\" class=\"data row5 col3\" >1.80%</td>\n",
       "      <td id=\"T_a13d7_row5_col4\" class=\"data row5 col4\" >Better</td>\n",
       "      <td id=\"T_a13d7_row5_col5\" class=\"data row5 col5\" >SET100</td>\n",
       "    </tr>\n",
       "    <tr>\n",
       "      <th id=\"T_a13d7_level0_row6\" class=\"row_heading level0 row6\" >15</th>\n",
       "      <td id=\"T_a13d7_row6_col0\" class=\"data row6 col0\" >RCL</td>\n",
       "      <td id=\"T_a13d7_row6_col1\" class=\"data row6 col1\" >45.25</td>\n",
       "      <td id=\"T_a13d7_row6_col2\" class=\"data row6 col2\" >42.50</td>\n",
       "      <td id=\"T_a13d7_row6_col3\" class=\"data row6 col3\" >6.47%</td>\n",
       "      <td id=\"T_a13d7_row6_col4\" class=\"data row6 col4\" >Better</td>\n",
       "      <td id=\"T_a13d7_row6_col5\" class=\"data row6 col5\" >SET100</td>\n",
       "    </tr>\n",
       "  </tbody>\n",
       "</table>\n"
      ],
      "text/plain": [
       "<pandas.io.formats.style.Styler at 0x2eb1e40ef70>"
      ]
     },
     "execution_count": 22,
     "metadata": {},
     "output_type": "execute_result"
    }
   ],
   "source": [
    "set100 = trend2.mrkt.str.contains('SET100')\n",
    "flt_set100 = trend2[set100]\n",
    "flt_set100[cols].sort_values(by=['percent','name'],ascending=[True,True]).style.format(format_dict)"
   ]
  },
  {
   "cell_type": "code",
   "execution_count": 23,
   "metadata": {},
   "outputs": [
    {
     "data": {
      "text/html": [
       "<style type=\"text/css\">\n",
       "</style>\n",
       "<table id=\"T_dc6d1_\">\n",
       "  <thead>\n",
       "    <tr>\n",
       "      <th class=\"blank level0\" >&nbsp;</th>\n",
       "      <th class=\"col_heading level0 col0\" >perform</th>\n",
       "    </tr>\n",
       "  </thead>\n",
       "  <tbody>\n",
       "    <tr>\n",
       "      <th id=\"T_dc6d1_level0_row0\" class=\"row_heading level0 row0\" >Better</th>\n",
       "      <td id=\"T_dc6d1_row0_col0\" class=\"data row0 col0\" >42.86%</td>\n",
       "    </tr>\n",
       "    <tr>\n",
       "      <th id=\"T_dc6d1_level0_row1\" class=\"row_heading level0 row1\" >No Change</th>\n",
       "      <td id=\"T_dc6d1_row1_col0\" class=\"data row1 col0\" >28.57%</td>\n",
       "    </tr>\n",
       "    <tr>\n",
       "      <th id=\"T_dc6d1_level0_row2\" class=\"row_heading level0 row2\" >Worse</th>\n",
       "      <td id=\"T_dc6d1_row2_col0\" class=\"data row2 col0\" >28.57%</td>\n",
       "    </tr>\n",
       "  </tbody>\n",
       "</table>\n"
      ],
      "text/plain": [
       "<pandas.io.formats.style.Styler at 0x2eb1e414670>"
      ]
     },
     "execution_count": 23,
     "metadata": {},
     "output_type": "execute_result"
    }
   ],
   "source": [
    "flt_set100[cols].perform.value_counts(normalize=True).to_frame().style.format('{:.2%}')"
   ]
  },
  {
   "cell_type": "code",
   "execution_count": 24,
   "metadata": {},
   "outputs": [
    {
     "data": {
      "text/html": [
       "<style type=\"text/css\">\n",
       "</style>\n",
       "<table id=\"T_77b48_\">\n",
       "  <thead>\n",
       "    <tr>\n",
       "      <th class=\"blank level0\" >&nbsp;</th>\n",
       "      <th class=\"col_heading level0 col0\" >name</th>\n",
       "      <th class=\"col_heading level0 col1\" >price_d</th>\n",
       "      <th class=\"col_heading level0 col2\" >price_w</th>\n",
       "      <th class=\"col_heading level0 col3\" >percent</th>\n",
       "      <th class=\"col_heading level0 col4\" >perform</th>\n",
       "      <th class=\"col_heading level0 col5\" >mrkt</th>\n",
       "    </tr>\n",
       "  </thead>\n",
       "  <tbody>\n",
       "    <tr>\n",
       "      <th id=\"T_77b48_level0_row0\" class=\"row_heading level0 row0\" >24</th>\n",
       "      <td id=\"T_77b48_row0_col0\" class=\"data row0 col0\" >TMT</td>\n",
       "      <td id=\"T_77b48_row0_col1\" class=\"data row0 col1\" >10.30</td>\n",
       "      <td id=\"T_77b48_row0_col2\" class=\"data row0 col2\" >11.30</td>\n",
       "      <td id=\"T_77b48_row0_col3\" class=\"data row0 col3\" >-8.85%</td>\n",
       "      <td id=\"T_77b48_row0_col4\" class=\"data row0 col4\" >Worse</td>\n",
       "      <td id=\"T_77b48_row0_col5\" class=\"data row0 col5\" >SET999</td>\n",
       "    </tr>\n",
       "    <tr>\n",
       "      <th id=\"T_77b48_level0_row1\" class=\"row_heading level0 row1\" >9</th>\n",
       "      <td id=\"T_77b48_row1_col0\" class=\"data row1 col0\" >MCS</td>\n",
       "      <td id=\"T_77b48_row1_col1\" class=\"data row1 col1\" >11.90</td>\n",
       "      <td id=\"T_77b48_row1_col2\" class=\"data row1 col2\" >13.00</td>\n",
       "      <td id=\"T_77b48_row1_col3\" class=\"data row1 col3\" >-8.46%</td>\n",
       "      <td id=\"T_77b48_row1_col4\" class=\"data row1 col4\" >Worse</td>\n",
       "      <td id=\"T_77b48_row1_col5\" class=\"data row1 col5\" >SET999</td>\n",
       "    </tr>\n",
       "    <tr>\n",
       "      <th id=\"T_77b48_level0_row2\" class=\"row_heading level0 row2\" >10</th>\n",
       "      <td id=\"T_77b48_row2_col0\" class=\"data row2 col0\" >NER</td>\n",
       "      <td id=\"T_77b48_row2_col1\" class=\"data row2 col1\" >6.80</td>\n",
       "      <td id=\"T_77b48_row2_col2\" class=\"data row2 col2\" >7.15</td>\n",
       "      <td id=\"T_77b48_row2_col3\" class=\"data row2 col3\" >-4.90%</td>\n",
       "      <td id=\"T_77b48_row2_col4\" class=\"data row2 col4\" >Worse</td>\n",
       "      <td id=\"T_77b48_row2_col5\" class=\"data row2 col5\" >SET999</td>\n",
       "    </tr>\n",
       "    <tr>\n",
       "      <th id=\"T_77b48_level0_row3\" class=\"row_heading level0 row3\" >26</th>\n",
       "      <td id=\"T_77b48_row3_col0\" class=\"data row3 col0\" >WHART</td>\n",
       "      <td id=\"T_77b48_row3_col1\" class=\"data row3 col1\" >11.10</td>\n",
       "      <td id=\"T_77b48_row3_col2\" class=\"data row3 col2\" >11.40</td>\n",
       "      <td id=\"T_77b48_row3_col3\" class=\"data row3 col3\" >-2.63%</td>\n",
       "      <td id=\"T_77b48_row3_col4\" class=\"data row3 col4\" >Worse</td>\n",
       "      <td id=\"T_77b48_row3_col5\" class=\"data row3 col5\" >SET999</td>\n",
       "    </tr>\n",
       "    <tr>\n",
       "      <th id=\"T_77b48_level0_row4\" class=\"row_heading level0 row4\" >19</th>\n",
       "      <td id=\"T_77b48_row4_col0\" class=\"data row4 col0\" >SENA</td>\n",
       "      <td id=\"T_77b48_row4_col1\" class=\"data row4 col1\" >4.48</td>\n",
       "      <td id=\"T_77b48_row4_col2\" class=\"data row4 col2\" >4.56</td>\n",
       "      <td id=\"T_77b48_row4_col3\" class=\"data row4 col3\" >-1.75%</td>\n",
       "      <td id=\"T_77b48_row4_col4\" class=\"data row4 col4\" >Worse</td>\n",
       "      <td id=\"T_77b48_row4_col5\" class=\"data row4 col5\" >SET999</td>\n",
       "    </tr>\n",
       "    <tr>\n",
       "      <th id=\"T_77b48_level0_row5\" class=\"row_heading level0 row5\" >18</th>\n",
       "      <td id=\"T_77b48_row5_col0\" class=\"data row5 col0\" >SCCC</td>\n",
       "      <td id=\"T_77b48_row5_col1\" class=\"data row5 col1\" >152.00</td>\n",
       "      <td id=\"T_77b48_row5_col2\" class=\"data row5 col2\" >153.00</td>\n",
       "      <td id=\"T_77b48_row5_col3\" class=\"data row5 col3\" >-0.65%</td>\n",
       "      <td id=\"T_77b48_row5_col4\" class=\"data row5 col4\" >Worse</td>\n",
       "      <td id=\"T_77b48_row5_col5\" class=\"data row5 col5\" >SET999</td>\n",
       "    </tr>\n",
       "    <tr>\n",
       "      <th id=\"T_77b48_level0_row6\" class=\"row_heading level0 row6\" >8</th>\n",
       "      <td id=\"T_77b48_row6_col0\" class=\"data row6 col0\" >MAKRO</td>\n",
       "      <td id=\"T_77b48_row6_col1\" class=\"data row6 col1\" >38.75</td>\n",
       "      <td id=\"T_77b48_row6_col2\" class=\"data row6 col2\" >39.00</td>\n",
       "      <td id=\"T_77b48_row6_col3\" class=\"data row6 col3\" >-0.64%</td>\n",
       "      <td id=\"T_77b48_row6_col4\" class=\"data row6 col4\" >Worse</td>\n",
       "      <td id=\"T_77b48_row6_col5\" class=\"data row6 col5\" >SET999</td>\n",
       "    </tr>\n",
       "    <tr>\n",
       "      <th id=\"T_77b48_level0_row7\" class=\"row_heading level0 row7\" >0</th>\n",
       "      <td id=\"T_77b48_row7_col0\" class=\"data row7 col0\" >ASP</td>\n",
       "      <td id=\"T_77b48_row7_col1\" class=\"data row7 col1\" >3.38</td>\n",
       "      <td id=\"T_77b48_row7_col2\" class=\"data row7 col2\" >3.40</td>\n",
       "      <td id=\"T_77b48_row7_col3\" class=\"data row7 col3\" >-0.59%</td>\n",
       "      <td id=\"T_77b48_row7_col4\" class=\"data row7 col4\" >Worse</td>\n",
       "      <td id=\"T_77b48_row7_col5\" class=\"data row7 col5\" >SET999</td>\n",
       "    </tr>\n",
       "    <tr>\n",
       "      <th id=\"T_77b48_level0_row8\" class=\"row_heading level0 row8\" >4</th>\n",
       "      <td id=\"T_77b48_row8_col0\" class=\"data row8 col0\" >HREIT</td>\n",
       "      <td id=\"T_77b48_row8_col1\" class=\"data row8 col1\" >8.60</td>\n",
       "      <td id=\"T_77b48_row8_col2\" class=\"data row8 col2\" >8.65</td>\n",
       "      <td id=\"T_77b48_row8_col3\" class=\"data row8 col3\" >-0.58%</td>\n",
       "      <td id=\"T_77b48_row8_col4\" class=\"data row8 col4\" >Worse</td>\n",
       "      <td id=\"T_77b48_row8_col5\" class=\"data row8 col5\" >SET999</td>\n",
       "    </tr>\n",
       "    <tr>\n",
       "      <th id=\"T_77b48_level0_row9\" class=\"row_heading level0 row9\" >25</th>\n",
       "      <td id=\"T_77b48_row9_col0\" class=\"data row9 col0\" >TPIPL</td>\n",
       "      <td id=\"T_77b48_row9_col1\" class=\"data row9 col1\" >1.54</td>\n",
       "      <td id=\"T_77b48_row9_col2\" class=\"data row9 col2\" >1.54</td>\n",
       "      <td id=\"T_77b48_row9_col3\" class=\"data row9 col3\" >0.00%</td>\n",
       "      <td id=\"T_77b48_row9_col4\" class=\"data row9 col4\" >No Change</td>\n",
       "      <td id=\"T_77b48_row9_col5\" class=\"data row9 col5\" >SET999</td>\n",
       "    </tr>\n",
       "    <tr>\n",
       "      <th id=\"T_77b48_level0_row10\" class=\"row_heading level0 row10\" >2</th>\n",
       "      <td id=\"T_77b48_row10_col0\" class=\"data row10 col0\" >DIF</td>\n",
       "      <td id=\"T_77b48_row10_col1\" class=\"data row10 col1\" >14.20</td>\n",
       "      <td id=\"T_77b48_row10_col2\" class=\"data row10 col2\" >14.10</td>\n",
       "      <td id=\"T_77b48_row10_col3\" class=\"data row10 col3\" >0.71%</td>\n",
       "      <td id=\"T_77b48_row10_col4\" class=\"data row10 col4\" >Better</td>\n",
       "      <td id=\"T_77b48_row10_col5\" class=\"data row10 col5\" >SET999</td>\n",
       "    </tr>\n",
       "    <tr>\n",
       "      <th id=\"T_77b48_level0_row11\" class=\"row_heading level0 row11\" >6</th>\n",
       "      <td id=\"T_77b48_row11_col0\" class=\"data row11 col0\" >JASIF</td>\n",
       "      <td id=\"T_77b48_row11_col1\" class=\"data row11 col1\" >11.00</td>\n",
       "      <td id=\"T_77b48_row11_col2\" class=\"data row11 col2\" >10.90</td>\n",
       "      <td id=\"T_77b48_row11_col3\" class=\"data row11 col3\" >0.92%</td>\n",
       "      <td id=\"T_77b48_row11_col4\" class=\"data row11 col4\" >Better</td>\n",
       "      <td id=\"T_77b48_row11_col5\" class=\"data row11 col5\" >SET999</td>\n",
       "    </tr>\n",
       "    <tr>\n",
       "      <th id=\"T_77b48_level0_row12\" class=\"row_heading level0 row12\" >16</th>\n",
       "      <td id=\"T_77b48_row12_col0\" class=\"data row12 col0\" >RJH</td>\n",
       "      <td id=\"T_77b48_row12_col1\" class=\"data row12 col1\" >33.50</td>\n",
       "      <td id=\"T_77b48_row12_col2\" class=\"data row12 col2\" >33.00</td>\n",
       "      <td id=\"T_77b48_row12_col3\" class=\"data row12 col3\" >1.52%</td>\n",
       "      <td id=\"T_77b48_row12_col4\" class=\"data row12 col4\" >Better</td>\n",
       "      <td id=\"T_77b48_row12_col5\" class=\"data row12 col5\" >SET999</td>\n",
       "    </tr>\n",
       "  </tbody>\n",
       "</table>\n"
      ],
      "text/plain": [
       "<pandas.io.formats.style.Styler at 0x2eb1e418580>"
      ]
     },
     "execution_count": 24,
     "metadata": {},
     "output_type": "execute_result"
    }
   ],
   "source": [
    "set999 = trend2.mrkt.str.contains('SET999')\n",
    "flt_set999 = trend2[set999]\n",
    "flt_set999[cols].sort_values(by=['percent','name'],ascending=[True,True]).style.format(format_dict)"
   ]
  },
  {
   "cell_type": "code",
   "execution_count": 25,
   "metadata": {},
   "outputs": [
    {
     "data": {
      "text/html": [
       "<style type=\"text/css\">\n",
       "</style>\n",
       "<table id=\"T_0a63d_\">\n",
       "  <thead>\n",
       "    <tr>\n",
       "      <th class=\"blank level0\" >&nbsp;</th>\n",
       "      <th class=\"col_heading level0 col0\" >perform</th>\n",
       "    </tr>\n",
       "  </thead>\n",
       "  <tbody>\n",
       "    <tr>\n",
       "      <th id=\"T_0a63d_level0_row0\" class=\"row_heading level0 row0\" >Worse</th>\n",
       "      <td id=\"T_0a63d_row0_col0\" class=\"data row0 col0\" >69.23%</td>\n",
       "    </tr>\n",
       "    <tr>\n",
       "      <th id=\"T_0a63d_level0_row1\" class=\"row_heading level0 row1\" >Better</th>\n",
       "      <td id=\"T_0a63d_row1_col0\" class=\"data row1 col0\" >23.08%</td>\n",
       "    </tr>\n",
       "    <tr>\n",
       "      <th id=\"T_0a63d_level0_row2\" class=\"row_heading level0 row2\" >No Change</th>\n",
       "      <td id=\"T_0a63d_row2_col0\" class=\"data row2 col0\" >7.69%</td>\n",
       "    </tr>\n",
       "  </tbody>\n",
       "</table>\n"
      ],
      "text/plain": [
       "<pandas.io.formats.style.Styler at 0x2eb1e418a90>"
      ]
     },
     "execution_count": 25,
     "metadata": {},
     "output_type": "execute_result"
    }
   ],
   "source": [
    "flt_set999[cols].perform.value_counts(normalize=True).to_frame().style.format('{:.2%}')"
   ]
  },
  {
   "cell_type": "code",
   "execution_count": 26,
   "metadata": {},
   "outputs": [
    {
     "data": {
      "text/html": [
       "<style type=\"text/css\">\n",
       "</style>\n",
       "<table id=\"T_98d8e_\">\n",
       "  <thead>\n",
       "    <tr>\n",
       "      <th class=\"blank level0\" >&nbsp;</th>\n",
       "      <th class=\"col_heading level0 col0\" >name</th>\n",
       "      <th class=\"col_heading level0 col1\" >price_d</th>\n",
       "      <th class=\"col_heading level0 col2\" >price_w</th>\n",
       "      <th class=\"col_heading level0 col3\" >percent</th>\n",
       "      <th class=\"col_heading level0 col4\" >perform</th>\n",
       "      <th class=\"col_heading level0 col5\" >mrkt</th>\n",
       "    </tr>\n",
       "  </thead>\n",
       "  <tbody>\n",
       "    <tr>\n",
       "      <th id=\"T_98d8e_level0_row0\" class=\"row_heading level0 row0\" >5</th>\n",
       "      <td id=\"T_98d8e_row0_col0\" class=\"data row0 col0\" >IP</td>\n",
       "      <td id=\"T_98d8e_row0_col1\" class=\"data row0 col1\" >19.90</td>\n",
       "      <td id=\"T_98d8e_row0_col2\" class=\"data row0 col2\" >19.70</td>\n",
       "      <td id=\"T_98d8e_row0_col3\" class=\"data row0 col3\" >1.02%</td>\n",
       "      <td id=\"T_98d8e_row0_col4\" class=\"data row0 col4\" >Better</td>\n",
       "      <td id=\"T_98d8e_row0_col5\" class=\"data row0 col5\" >mai</td>\n",
       "    </tr>\n",
       "  </tbody>\n",
       "</table>\n"
      ],
      "text/plain": [
       "<pandas.io.formats.style.Styler at 0x2eb1e414310>"
      ]
     },
     "execution_count": 26,
     "metadata": {},
     "output_type": "execute_result"
    }
   ],
   "source": [
    "setmai = trend2.mrkt.str.contains('mai')\n",
    "flt_setmai = trend2[setmai]\n",
    "flt_setmai[cols].sort_values(by=['percent','name'],ascending=[True,True]).style.format(format_dict)"
   ]
  },
  {
   "cell_type": "code",
   "execution_count": 27,
   "metadata": {},
   "outputs": [
    {
     "data": {
      "text/html": [
       "<style type=\"text/css\">\n",
       "</style>\n",
       "<table id=\"T_37c43_\">\n",
       "  <thead>\n",
       "    <tr>\n",
       "      <th class=\"blank level0\" >&nbsp;</th>\n",
       "      <th class=\"col_heading level0 col0\" >perform</th>\n",
       "    </tr>\n",
       "  </thead>\n",
       "  <tbody>\n",
       "    <tr>\n",
       "      <th id=\"T_37c43_level0_row0\" class=\"row_heading level0 row0\" >Better</th>\n",
       "      <td id=\"T_37c43_row0_col0\" class=\"data row0 col0\" >100.00%</td>\n",
       "    </tr>\n",
       "  </tbody>\n",
       "</table>\n"
      ],
      "text/plain": [
       "<pandas.io.formats.style.Styler at 0x2eb1e414a90>"
      ]
     },
     "execution_count": 27,
     "metadata": {},
     "output_type": "execute_result"
    }
   ],
   "source": [
    "flt_setmai[cols].perform.value_counts(normalize=True).to_frame().style.format('{:.2%}')"
   ]
  },
  {
   "cell_type": "code",
   "execution_count": null,
   "metadata": {},
   "outputs": [],
   "source": []
  }
 ],
 "metadata": {
  "anaconda-cloud": {},
  "kernelspec": {
   "display_name": "Python 3 (ipykernel)",
   "language": "python",
   "name": "python3"
  },
  "language_info": {
   "codemirror_mode": {
    "name": "ipython",
    "version": 3
   },
   "file_extension": ".py",
   "mimetype": "text/x-python",
   "name": "python",
   "nbconvert_exporter": "python",
   "pygments_lexer": "ipython3",
   "version": "3.8.11"
  }
 },
 "nbformat": 4,
 "nbformat_minor": 1
}
