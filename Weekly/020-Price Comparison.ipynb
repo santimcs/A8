{
 "cells": [
  {
   "cell_type": "markdown",
   "metadata": {},
   "source": [
    "### portmy database: stocks table\n",
    "### stock database: buy, price tables"
   ]
  },
  {
   "cell_type": "code",
   "execution_count": 1,
   "metadata": {},
   "outputs": [
    {
     "data": {
      "text/plain": [
       "(datetime.date(2022, 4, 9), '2022-14')"
      ]
     },
     "execution_count": 1,
     "metadata": {},
     "output_type": "execute_result"
    }
   ],
   "source": [
    "import pandas as pd\n",
    "import numpy as np\n",
    "from datetime import date, timedelta\n",
    "from sqlalchemy import create_engine\n",
    "\n",
    "engine = create_engine(\"sqlite:///c:\\\\ruby\\\\portmy\\\\db\\\\development.sqlite3\")\n",
    "conmy = engine.connect()\n",
    "conmy = engine.connect()\n",
    "engine = create_engine(\"mysql+pymysql://root:@localhost:3306/stock\")\n",
    "const = engine.connect()\n",
    "\n",
    "pd.set_option('display.float_format','{:,.2f}'.format)\n",
    "\n",
    "data_path = \"../data/\"\n",
    "csv_path = \"\\\\Users\\\\User\\\\iCloudDrive\\\\\"\n",
    "box_path = \"\\\\Users\\\\User\\\\Dropbox\\\\\"\n",
    "\n",
    "today = date.today()\n",
    "week_str = today.strftime('%Y-%U')\n",
    "today, week_str"
   ]
  },
  {
   "cell_type": "code",
   "execution_count": 2,
   "metadata": {},
   "outputs": [
    {
     "data": {
      "text/plain": [
       "(datetime.date(2022, 4, 8), datetime.date(2022, 4, 1))"
      ]
     },
     "execution_count": 2,
     "metadata": {},
     "output_type": "execute_result"
    }
   ],
   "source": [
    "today = today - timedelta(days=1)\n",
    "wkago = today - timedelta(days=7)\n",
    "today, wkago"
   ]
  },
  {
   "cell_type": "markdown",
   "metadata": {},
   "source": [
    "### Restart & Run All Cells"
   ]
  },
  {
   "cell_type": "markdown",
   "metadata": {},
   "source": [
    "### This process affects only already in port stocks. To highlight price changes in percent."
   ]
  },
  {
   "cell_type": "code",
   "execution_count": 3,
   "metadata": {},
   "outputs": [],
   "source": [
    "cols = 'name price_d price_w percent perform mrkt '.split()"
   ]
  },
  {
   "cell_type": "code",
   "execution_count": 4,
   "metadata": {},
   "outputs": [],
   "source": [
    "format_dict = {\n",
    "    'qty':'{:,}',    \n",
    "    'price':'{:.2f}','price_d':'{:.2f}','price_w':'{:.2f}',\n",
    "    'max_price':'{:.2f}','min_price':'{:.2f}',\n",
    "    'maxp':'{:.2f}','minp':'{:.2f}','opnp':'{:.2f}',    \n",
    "    'pct':'{:,.2f}%','percent':'{:,.2f}%',\n",
    "    \n",
    "    'pe':'{:.2f}','pbv':'{:.2f}',\n",
    "    'paid_up':'{:,.2f}','market_cap':'{:,.2f}',\n",
    "    'daily_volume':'{:,.2f}','beta':'{:,.2f}', \n",
    "    'dly_vol':'{:,.2f}', \n",
    "}"
   ]
  },
  {
   "cell_type": "code",
   "execution_count": 5,
   "metadata": {},
   "outputs": [
    {
     "data": {
      "text/html": [
       "<style type=\"text/css\">\n",
       "</style>\n",
       "<table id=\"T_9e360_\">\n",
       "  <thead>\n",
       "    <tr>\n",
       "      <th class=\"blank level0\" >&nbsp;</th>\n",
       "      <th class=\"col_heading level0 col0\" >name</th>\n",
       "      <th class=\"col_heading level0 col1\" >date</th>\n",
       "      <th class=\"col_heading level0 col2\" >price</th>\n",
       "    </tr>\n",
       "  </thead>\n",
       "  <tbody>\n",
       "    <tr>\n",
       "      <th id=\"T_9e360_level0_row0\" class=\"row_heading level0 row0\" >0</th>\n",
       "      <td id=\"T_9e360_row0_col0\" class=\"data row0 col0\" >ORI</td>\n",
       "      <td id=\"T_9e360_row0_col1\" class=\"data row0 col1\" >2022-04-07</td>\n",
       "      <td id=\"T_9e360_row0_col2\" class=\"data row0 col2\" >11.00</td>\n",
       "    </tr>\n",
       "  </tbody>\n",
       "</table>\n"
      ],
      "text/plain": [
       "<pandas.io.formats.style.Styler at 0x1a2dd30efd0>"
      ]
     },
     "execution_count": 5,
     "metadata": {},
     "output_type": "execute_result"
    }
   ],
   "source": [
    "sql = \"\"\"\n",
    "SELECT name, date, price \n",
    "FROM buy \n",
    "ORDER BY date DESC \n",
    "LIMIT 1\n",
    "\"\"\"\n",
    "df_buy = pd.read_sql(sql, const)\n",
    "df_buy.style.format(format_dict)"
   ]
  },
  {
   "cell_type": "code",
   "execution_count": 6,
   "metadata": {},
   "outputs": [
    {
     "name": "stdout",
     "output_type": "stream",
     "text": [
      "\n",
      "SELECT * FROM stocks WHERE name = 'ORI'\n",
      "\n"
     ]
    },
    {
     "data": {
      "text/html": [
       "<style type=\"text/css\">\n",
       "</style>\n",
       "<table id=\"T_c43f2_\">\n",
       "  <thead>\n",
       "    <tr>\n",
       "      <th class=\"blank level0\" >&nbsp;</th>\n",
       "      <th class=\"col_heading level0 col0\" >id</th>\n",
       "      <th class=\"col_heading level0 col1\" >name</th>\n",
       "      <th class=\"col_heading level0 col2\" >market</th>\n",
       "      <th class=\"col_heading level0 col3\" >price</th>\n",
       "      <th class=\"col_heading level0 col4\" >max_price</th>\n",
       "      <th class=\"col_heading level0 col5\" >min_price</th>\n",
       "      <th class=\"col_heading level0 col6\" >pe</th>\n",
       "      <th class=\"col_heading level0 col7\" >pbv</th>\n",
       "      <th class=\"col_heading level0 col8\" >paid_up</th>\n",
       "      <th class=\"col_heading level0 col9\" >market_cap</th>\n",
       "      <th class=\"col_heading level0 col10\" >daily_volume</th>\n",
       "      <th class=\"col_heading level0 col11\" >beta</th>\n",
       "      <th class=\"col_heading level0 col12\" >ticker_id</th>\n",
       "      <th class=\"col_heading level0 col13\" >created_at</th>\n",
       "      <th class=\"col_heading level0 col14\" >updated_at</th>\n",
       "    </tr>\n",
       "  </thead>\n",
       "  <tbody>\n",
       "    <tr>\n",
       "      <th id=\"T_c43f2_level0_row0\" class=\"row_heading level0 row0\" >0</th>\n",
       "      <td id=\"T_c43f2_row0_col0\" class=\"data row0 col0\" >339</td>\n",
       "      <td id=\"T_c43f2_row0_col1\" class=\"data row0 col1\" >ORI</td>\n",
       "      <td id=\"T_c43f2_row0_col2\" class=\"data row0 col2\" >SET100 / SETHD / SETTHSI    </td>\n",
       "      <td id=\"T_c43f2_row0_col3\" class=\"data row0 col3\" >11.10</td>\n",
       "      <td id=\"T_c43f2_row0_col4\" class=\"data row0 col4\" >12.70</td>\n",
       "      <td id=\"T_c43f2_row0_col5\" class=\"data row0 col5\" >8.05</td>\n",
       "      <td id=\"T_c43f2_row0_col6\" class=\"data row0 col6\" >8.53</td>\n",
       "      <td id=\"T_c43f2_row0_col7\" class=\"data row0 col7\" >1.82</td>\n",
       "      <td id=\"T_c43f2_row0_col8\" class=\"data row0 col8\" >1,227.06</td>\n",
       "      <td id=\"T_c43f2_row0_col9\" class=\"data row0 col9\" >27,240.76</td>\n",
       "      <td id=\"T_c43f2_row0_col10\" class=\"data row0 col10\" >121.58</td>\n",
       "      <td id=\"T_c43f2_row0_col11\" class=\"data row0 col11\" >1.34</td>\n",
       "      <td id=\"T_c43f2_row0_col12\" class=\"data row0 col12\" >339</td>\n",
       "      <td id=\"T_c43f2_row0_col13\" class=\"data row0 col13\" >2017-07-23 07:25:07.542864</td>\n",
       "      <td id=\"T_c43f2_row0_col14\" class=\"data row0 col14\" >2022-04-08 23:23:34.106920</td>\n",
       "    </tr>\n",
       "  </tbody>\n",
       "</table>\n"
      ],
      "text/plain": [
       "<pandas.io.formats.style.Styler at 0x1a2de358880>"
      ]
     },
     "execution_count": 6,
     "metadata": {},
     "output_type": "execute_result"
    }
   ],
   "source": [
    "names = df_buy['name']\n",
    "name = names.to_string(index=False)\n",
    "\n",
    "sql = '''\n",
    "SELECT * FROM stocks WHERE name = '%s'\n",
    "'''\n",
    "sql = sql % name\n",
    "print(sql)\n",
    "\n",
    "df_stocks = pd.read_sql(sql, conmy)\n",
    "df_stocks.style.format(format_dict) "
   ]
  },
  {
   "cell_type": "code",
   "execution_count": 7,
   "metadata": {},
   "outputs": [
    {
     "name": "stdout",
     "output_type": "stream",
     "text": [
      "\n",
      "SELECT * FROM price WHERE name = \"ORI\" ORDER BY date DESC LIMIT 5\n",
      "\n"
     ]
    },
    {
     "data": {
      "text/html": [
       "<style type=\"text/css\">\n",
       "</style>\n",
       "<table id=\"T_553b8_\">\n",
       "  <thead>\n",
       "    <tr>\n",
       "      <th class=\"blank level0\" >&nbsp;</th>\n",
       "      <th class=\"col_heading level0 col0\" >name</th>\n",
       "      <th class=\"col_heading level0 col1\" >date</th>\n",
       "      <th class=\"col_heading level0 col2\" >price</th>\n",
       "      <th class=\"col_heading level0 col3\" >maxp</th>\n",
       "      <th class=\"col_heading level0 col4\" >minp</th>\n",
       "      <th class=\"col_heading level0 col5\" >qty</th>\n",
       "      <th class=\"col_heading level0 col6\" >opnp</th>\n",
       "    </tr>\n",
       "  </thead>\n",
       "  <tbody>\n",
       "    <tr>\n",
       "      <th id=\"T_553b8_level0_row0\" class=\"row_heading level0 row0\" >0</th>\n",
       "      <td id=\"T_553b8_row0_col0\" class=\"data row0 col0\" >ORI</td>\n",
       "      <td id=\"T_553b8_row0_col1\" class=\"data row0 col1\" >2022-04-08</td>\n",
       "      <td id=\"T_553b8_row0_col2\" class=\"data row0 col2\" >11.10</td>\n",
       "      <td id=\"T_553b8_row0_col3\" class=\"data row0 col3\" >11.20</td>\n",
       "      <td id=\"T_553b8_row0_col4\" class=\"data row0 col4\" >10.90</td>\n",
       "      <td id=\"T_553b8_row0_col5\" class=\"data row0 col5\" >4,745,067</td>\n",
       "      <td id=\"T_553b8_row0_col6\" class=\"data row0 col6\" >11.00</td>\n",
       "    </tr>\n",
       "    <tr>\n",
       "      <th id=\"T_553b8_level0_row1\" class=\"row_heading level0 row1\" >1</th>\n",
       "      <td id=\"T_553b8_row1_col0\" class=\"data row1 col0\" >ORI</td>\n",
       "      <td id=\"T_553b8_row1_col1\" class=\"data row1 col1\" >2022-04-07</td>\n",
       "      <td id=\"T_553b8_row1_col2\" class=\"data row1 col2\" >11.00</td>\n",
       "      <td id=\"T_553b8_row1_col3\" class=\"data row1 col3\" >11.30</td>\n",
       "      <td id=\"T_553b8_row1_col4\" class=\"data row1 col4\" >11.00</td>\n",
       "      <td id=\"T_553b8_row1_col5\" class=\"data row1 col5\" >10,108,579</td>\n",
       "      <td id=\"T_553b8_row1_col6\" class=\"data row1 col6\" >11.20</td>\n",
       "    </tr>\n",
       "    <tr>\n",
       "      <th id=\"T_553b8_level0_row2\" class=\"row_heading level0 row2\" >2</th>\n",
       "      <td id=\"T_553b8_row2_col0\" class=\"data row2 col0\" >ORI</td>\n",
       "      <td id=\"T_553b8_row2_col1\" class=\"data row2 col1\" >2022-04-05</td>\n",
       "      <td id=\"T_553b8_row2_col2\" class=\"data row2 col2\" >11.30</td>\n",
       "      <td id=\"T_553b8_row2_col3\" class=\"data row2 col3\" >11.40</td>\n",
       "      <td id=\"T_553b8_row2_col4\" class=\"data row2 col4\" >11.30</td>\n",
       "      <td id=\"T_553b8_row2_col5\" class=\"data row2 col5\" >2,183,271</td>\n",
       "      <td id=\"T_553b8_row2_col6\" class=\"data row2 col6\" >11.40</td>\n",
       "    </tr>\n",
       "    <tr>\n",
       "      <th id=\"T_553b8_level0_row3\" class=\"row_heading level0 row3\" >3</th>\n",
       "      <td id=\"T_553b8_row3_col0\" class=\"data row3 col0\" >ORI</td>\n",
       "      <td id=\"T_553b8_row3_col1\" class=\"data row3 col1\" >2022-04-04</td>\n",
       "      <td id=\"T_553b8_row3_col2\" class=\"data row3 col2\" >11.30</td>\n",
       "      <td id=\"T_553b8_row3_col3\" class=\"data row3 col3\" >11.50</td>\n",
       "      <td id=\"T_553b8_row3_col4\" class=\"data row3 col4\" >11.30</td>\n",
       "      <td id=\"T_553b8_row3_col5\" class=\"data row3 col5\" >2,394,269</td>\n",
       "      <td id=\"T_553b8_row3_col6\" class=\"data row3 col6\" >11.40</td>\n",
       "    </tr>\n",
       "    <tr>\n",
       "      <th id=\"T_553b8_level0_row4\" class=\"row_heading level0 row4\" >4</th>\n",
       "      <td id=\"T_553b8_row4_col0\" class=\"data row4 col0\" >ORI</td>\n",
       "      <td id=\"T_553b8_row4_col1\" class=\"data row4 col1\" >2022-04-01</td>\n",
       "      <td id=\"T_553b8_row4_col2\" class=\"data row4 col2\" >11.30</td>\n",
       "      <td id=\"T_553b8_row4_col3\" class=\"data row4 col3\" >11.50</td>\n",
       "      <td id=\"T_553b8_row4_col4\" class=\"data row4 col4\" >11.30</td>\n",
       "      <td id=\"T_553b8_row4_col5\" class=\"data row4 col5\" >3,796,157</td>\n",
       "      <td id=\"T_553b8_row4_col6\" class=\"data row4 col6\" >11.40</td>\n",
       "    </tr>\n",
       "  </tbody>\n",
       "</table>\n"
      ],
      "text/plain": [
       "<pandas.io.formats.style.Styler at 0x1a2de358250>"
      ]
     },
     "execution_count": 7,
     "metadata": {},
     "output_type": "execute_result"
    }
   ],
   "source": [
    "sql = '''\n",
    "SELECT * FROM price WHERE name = \"%s\" ORDER BY date DESC LIMIT 5\n",
    "'''\n",
    "sql = sql % name\n",
    "print(sql)\n",
    "\n",
    "df_price = pd.read_sql(sql, const)\n",
    "df_price.style.format(format_dict)"
   ]
  },
  {
   "cell_type": "code",
   "execution_count": 8,
   "metadata": {},
   "outputs": [
    {
     "name": "stdout",
     "output_type": "stream",
     "text": [
      "\n",
      "SELECT name, price AS price_d \n",
      "FROM price \n",
      "WHERE date = '2022-04-08' AND name IN ('AIMIRT', 'ASP', 'BCH', 'CPNCG', 'DIF', 'DOHOME', 'HREIT', 'IP', 'JASIF', 'KCE', 'MAKRO', 'MCS', 'NER', 'ORI', 'PTT', 'PTTGC', 'RATCH', 'RCL', 'RJH', 'SCC', 'SCCC', 'SENA', 'SPALI', 'STA', 'SYNEX', 'TISCO', 'TMT', 'TPIPL', 'WHART')\n",
      "ORDER BY name, date\n"
     ]
    },
    {
     "data": {
      "text/plain": [
       "29"
      ]
     },
     "execution_count": 8,
     "metadata": {},
     "output_type": "execute_result"
    }
   ],
   "source": [
    "sql = '''\n",
    "SELECT name\n",
    "FROM buy \n",
    "WHERE active = 1\n",
    "ORDER BY name'''\n",
    "df_price = pd.read_sql(sql, const)\n",
    "\n",
    "names = df_price.name.tolist()\n",
    "in_p = \", \".join(map(lambda name: \"'%s'\" % name, names))\n",
    "\n",
    "sql = \"\"\"\n",
    "SELECT name, price AS price_d \n",
    "FROM price \n",
    "WHERE date = '%s' AND name IN (%s)\n",
    "ORDER BY name, date\"\"\"\n",
    "sql = sql % (today, in_p)\n",
    "print(sql)\n",
    "\n",
    "df_today = pd.read_sql(sql, const)\n",
    "df_today.shape[0]"
   ]
  },
  {
   "cell_type": "code",
   "execution_count": 9,
   "metadata": {},
   "outputs": [
    {
     "name": "stdout",
     "output_type": "stream",
     "text": [
      "\n",
      "SELECT name, price AS price_w\n",
      "FROM price \n",
      "WHERE date = '2022-04-01' AND name IN ('AIMIRT', 'ASP', 'BCH', 'CPNCG', 'DIF', 'DOHOME', 'HREIT', 'IP', 'JASIF', 'KCE', 'MAKRO', 'MCS', 'NER', 'ORI', 'PTT', 'PTTGC', 'RATCH', 'RCL', 'RJH', 'SCC', 'SCCC', 'SENA', 'SPALI', 'STA', 'SYNEX', 'TISCO', 'TMT', 'TPIPL', 'WHART') \n",
      "ORDER BY name\n"
     ]
    },
    {
     "data": {
      "text/plain": [
       "29"
      ]
     },
     "execution_count": 9,
     "metadata": {},
     "output_type": "execute_result"
    }
   ],
   "source": [
    "sql = \"\"\"\n",
    "SELECT name, price AS price_w\n",
    "FROM price \n",
    "WHERE date = '%s' AND name IN (%s) \n",
    "ORDER BY name\"\"\"\n",
    "sql = sql % (wkago, in_p)\n",
    "print(sql)\n",
    "\n",
    "df_wkago = pd.read_sql(sql, const)\n",
    "df_wkago.shape[0]"
   ]
  },
  {
   "cell_type": "code",
   "execution_count": 10,
   "metadata": {},
   "outputs": [
    {
     "data": {
      "text/plain": [
       "(29, 3)"
      ]
     },
     "execution_count": 10,
     "metadata": {},
     "output_type": "execute_result"
    }
   ],
   "source": [
    "trend = pd.merge(df_today, df_wkago, on='name',how='inner')\n",
    "trend.shape"
   ]
  },
  {
   "cell_type": "code",
   "execution_count": 11,
   "metadata": {},
   "outputs": [],
   "source": [
    "def performance(vals):\n",
    "    price_d, price_w = vals\n",
    "    if (price_d > price_w):\n",
    "        return 'Better'\n",
    "    elif (price_d < price_w):\n",
    "        return 'Worse'\n",
    "    else:\n",
    "        return 'No Change'"
   ]
  },
  {
   "cell_type": "code",
   "execution_count": 12,
   "metadata": {},
   "outputs": [
    {
     "data": {
      "text/html": [
       "<style type=\"text/css\">\n",
       "</style>\n",
       "<table id=\"T_dcc1a_\">\n",
       "  <thead>\n",
       "    <tr>\n",
       "      <th class=\"blank level0\" >&nbsp;</th>\n",
       "      <th class=\"col_heading level0 col0\" >name</th>\n",
       "      <th class=\"col_heading level0 col1\" >price_d</th>\n",
       "      <th class=\"col_heading level0 col2\" >price_w</th>\n",
       "      <th class=\"col_heading level0 col3\" >percent</th>\n",
       "      <th class=\"col_heading level0 col4\" >perform</th>\n",
       "    </tr>\n",
       "  </thead>\n",
       "  <tbody>\n",
       "    <tr>\n",
       "      <th id=\"T_dcc1a_level0_row0\" class=\"row_heading level0 row0\" >21</th>\n",
       "      <td id=\"T_dcc1a_row0_col0\" class=\"data row0 col0\" >SENA</td>\n",
       "      <td id=\"T_dcc1a_row0_col1\" class=\"data row0 col1\" >4.62</td>\n",
       "      <td id=\"T_dcc1a_row0_col2\" class=\"data row0 col2\" >4.88</td>\n",
       "      <td id=\"T_dcc1a_row0_col3\" class=\"data row0 col3\" >-5.33%</td>\n",
       "      <td id=\"T_dcc1a_row0_col4\" class=\"data row0 col4\" >Worse</td>\n",
       "    </tr>\n",
       "    <tr>\n",
       "      <th id=\"T_dcc1a_level0_row1\" class=\"row_heading level0 row1\" >17</th>\n",
       "      <td id=\"T_dcc1a_row1_col0\" class=\"data row1 col0\" >RCL</td>\n",
       "      <td id=\"T_dcc1a_row1_col1\" class=\"data row1 col1\" >42.25</td>\n",
       "      <td id=\"T_dcc1a_row1_col2\" class=\"data row1 col2\" >44.00</td>\n",
       "      <td id=\"T_dcc1a_row1_col3\" class=\"data row1 col3\" >-3.98%</td>\n",
       "      <td id=\"T_dcc1a_row1_col4\" class=\"data row1 col4\" >Worse</td>\n",
       "    </tr>\n",
       "    <tr>\n",
       "      <th id=\"T_dcc1a_level0_row2\" class=\"row_heading level0 row2\" >19</th>\n",
       "      <td id=\"T_dcc1a_row2_col0\" class=\"data row2 col0\" >SCC</td>\n",
       "      <td id=\"T_dcc1a_row2_col1\" class=\"data row2 col1\" >368.00</td>\n",
       "      <td id=\"T_dcc1a_row2_col2\" class=\"data row2 col2\" >383.00</td>\n",
       "      <td id=\"T_dcc1a_row2_col3\" class=\"data row2 col3\" >-3.92%</td>\n",
       "      <td id=\"T_dcc1a_row2_col4\" class=\"data row2 col4\" >Worse</td>\n",
       "    </tr>\n",
       "    <tr>\n",
       "      <th id=\"T_dcc1a_level0_row3\" class=\"row_heading level0 row3\" >11</th>\n",
       "      <td id=\"T_dcc1a_row3_col0\" class=\"data row3 col0\" >MCS</td>\n",
       "      <td id=\"T_dcc1a_row3_col1\" class=\"data row3 col1\" >13.20</td>\n",
       "      <td id=\"T_dcc1a_row3_col2\" class=\"data row3 col2\" >13.70</td>\n",
       "      <td id=\"T_dcc1a_row3_col3\" class=\"data row3 col3\" >-3.65%</td>\n",
       "      <td id=\"T_dcc1a_row3_col4\" class=\"data row3 col4\" >Worse</td>\n",
       "    </tr>\n",
       "    <tr>\n",
       "      <th id=\"T_dcc1a_level0_row4\" class=\"row_heading level0 row4\" >9</th>\n",
       "      <td id=\"T_dcc1a_row4_col0\" class=\"data row4 col0\" >KCE</td>\n",
       "      <td id=\"T_dcc1a_row4_col1\" class=\"data row4 col1\" >63.25</td>\n",
       "      <td id=\"T_dcc1a_row4_col2\" class=\"data row4 col2\" >65.25</td>\n",
       "      <td id=\"T_dcc1a_row4_col3\" class=\"data row4 col3\" >-3.07%</td>\n",
       "      <td id=\"T_dcc1a_row4_col4\" class=\"data row4 col4\" >Worse</td>\n",
       "    </tr>\n",
       "    <tr>\n",
       "      <th id=\"T_dcc1a_level0_row5\" class=\"row_heading level0 row5\" >14</th>\n",
       "      <td id=\"T_dcc1a_row5_col0\" class=\"data row5 col0\" >PTT</td>\n",
       "      <td id=\"T_dcc1a_row5_col1\" class=\"data row5 col1\" >37.75</td>\n",
       "      <td id=\"T_dcc1a_row5_col2\" class=\"data row5 col2\" >38.75</td>\n",
       "      <td id=\"T_dcc1a_row5_col3\" class=\"data row5 col3\" >-2.58%</td>\n",
       "      <td id=\"T_dcc1a_row5_col4\" class=\"data row5 col4\" >Worse</td>\n",
       "    </tr>\n",
       "    <tr>\n",
       "      <th id=\"T_dcc1a_level0_row6\" class=\"row_heading level0 row6\" >27</th>\n",
       "      <td id=\"T_dcc1a_row6_col0\" class=\"data row6 col0\" >TPIPL</td>\n",
       "      <td id=\"T_dcc1a_row6_col1\" class=\"data row6 col1\" >1.59</td>\n",
       "      <td id=\"T_dcc1a_row6_col2\" class=\"data row6 col2\" >1.62</td>\n",
       "      <td id=\"T_dcc1a_row6_col3\" class=\"data row6 col3\" >-1.85%</td>\n",
       "      <td id=\"T_dcc1a_row6_col4\" class=\"data row6 col4\" >Worse</td>\n",
       "    </tr>\n",
       "    <tr>\n",
       "      <th id=\"T_dcc1a_level0_row7\" class=\"row_heading level0 row7\" >13</th>\n",
       "      <td id=\"T_dcc1a_row7_col0\" class=\"data row7 col0\" >ORI</td>\n",
       "      <td id=\"T_dcc1a_row7_col1\" class=\"data row7 col1\" >11.10</td>\n",
       "      <td id=\"T_dcc1a_row7_col2\" class=\"data row7 col2\" >11.30</td>\n",
       "      <td id=\"T_dcc1a_row7_col3\" class=\"data row7 col3\" >-1.77%</td>\n",
       "      <td id=\"T_dcc1a_row7_col4\" class=\"data row7 col4\" >Worse</td>\n",
       "    </tr>\n",
       "    <tr>\n",
       "      <th id=\"T_dcc1a_level0_row8\" class=\"row_heading level0 row8\" >24</th>\n",
       "      <td id=\"T_dcc1a_row8_col0\" class=\"data row8 col0\" >SYNEX</td>\n",
       "      <td id=\"T_dcc1a_row8_col1\" class=\"data row8 col1\" >26.25</td>\n",
       "      <td id=\"T_dcc1a_row8_col2\" class=\"data row8 col2\" >26.50</td>\n",
       "      <td id=\"T_dcc1a_row8_col3\" class=\"data row8 col3\" >-0.94%</td>\n",
       "      <td id=\"T_dcc1a_row8_col4\" class=\"data row8 col4\" >Worse</td>\n",
       "    </tr>\n",
       "    <tr>\n",
       "      <th id=\"T_dcc1a_level0_row9\" class=\"row_heading level0 row9\" >23</th>\n",
       "      <td id=\"T_dcc1a_row9_col0\" class=\"data row9 col0\" >STA</td>\n",
       "      <td id=\"T_dcc1a_row9_col1\" class=\"data row9 col1\" >26.25</td>\n",
       "      <td id=\"T_dcc1a_row9_col2\" class=\"data row9 col2\" >26.50</td>\n",
       "      <td id=\"T_dcc1a_row9_col3\" class=\"data row9 col3\" >-0.94%</td>\n",
       "      <td id=\"T_dcc1a_row9_col4\" class=\"data row9 col4\" >Worse</td>\n",
       "    </tr>\n",
       "    <tr>\n",
       "      <th id=\"T_dcc1a_level0_row10\" class=\"row_heading level0 row10\" >8</th>\n",
       "      <td id=\"T_dcc1a_row10_col0\" class=\"data row10 col0\" >JASIF</td>\n",
       "      <td id=\"T_dcc1a_row10_col1\" class=\"data row10 col1\" >10.80</td>\n",
       "      <td id=\"T_dcc1a_row10_col2\" class=\"data row10 col2\" >10.90</td>\n",
       "      <td id=\"T_dcc1a_row10_col3\" class=\"data row10 col3\" >-0.92%</td>\n",
       "      <td id=\"T_dcc1a_row10_col4\" class=\"data row10 col4\" >Worse</td>\n",
       "    </tr>\n",
       "    <tr>\n",
       "      <th id=\"T_dcc1a_level0_row11\" class=\"row_heading level0 row11\" >3</th>\n",
       "      <td id=\"T_dcc1a_row11_col0\" class=\"data row11 col0\" >CPNCG</td>\n",
       "      <td id=\"T_dcc1a_row11_col1\" class=\"data row11 col1\" >12.10</td>\n",
       "      <td id=\"T_dcc1a_row11_col2\" class=\"data row11 col2\" >12.20</td>\n",
       "      <td id=\"T_dcc1a_row11_col3\" class=\"data row11 col3\" >-0.82%</td>\n",
       "      <td id=\"T_dcc1a_row11_col4\" class=\"data row11 col4\" >Worse</td>\n",
       "    </tr>\n",
       "    <tr>\n",
       "      <th id=\"T_dcc1a_level0_row12\" class=\"row_heading level0 row12\" >18</th>\n",
       "      <td id=\"T_dcc1a_row12_col0\" class=\"data row12 col0\" >RJH</td>\n",
       "      <td id=\"T_dcc1a_row12_col1\" class=\"data row12 col1\" >31.75</td>\n",
       "      <td id=\"T_dcc1a_row12_col2\" class=\"data row12 col2\" >32.00</td>\n",
       "      <td id=\"T_dcc1a_row12_col3\" class=\"data row12 col3\" >-0.78%</td>\n",
       "      <td id=\"T_dcc1a_row12_col4\" class=\"data row12 col4\" >Worse</td>\n",
       "    </tr>\n",
       "    <tr>\n",
       "      <th id=\"T_dcc1a_level0_row13\" class=\"row_heading level0 row13\" >0</th>\n",
       "      <td id=\"T_dcc1a_row13_col0\" class=\"data row13 col0\" >AIMIRT</td>\n",
       "      <td id=\"T_dcc1a_row13_col1\" class=\"data row13 col1\" >12.80</td>\n",
       "      <td id=\"T_dcc1a_row13_col2\" class=\"data row13 col2\" >12.90</td>\n",
       "      <td id=\"T_dcc1a_row13_col3\" class=\"data row13 col3\" >-0.78%</td>\n",
       "      <td id=\"T_dcc1a_row13_col4\" class=\"data row13 col4\" >Worse</td>\n",
       "    </tr>\n",
       "    <tr>\n",
       "      <th id=\"T_dcc1a_level0_row14\" class=\"row_heading level0 row14\" >1</th>\n",
       "      <td id=\"T_dcc1a_row14_col0\" class=\"data row14 col0\" >ASP</td>\n",
       "      <td id=\"T_dcc1a_row14_col1\" class=\"data row14 col1\" >3.42</td>\n",
       "      <td id=\"T_dcc1a_row14_col2\" class=\"data row14 col2\" >3.44</td>\n",
       "      <td id=\"T_dcc1a_row14_col3\" class=\"data row14 col3\" >-0.58%</td>\n",
       "      <td id=\"T_dcc1a_row14_col4\" class=\"data row14 col4\" >Worse</td>\n",
       "    </tr>\n",
       "    <tr>\n",
       "      <th id=\"T_dcc1a_level0_row15\" class=\"row_heading level0 row15\" >25</th>\n",
       "      <td id=\"T_dcc1a_row15_col0\" class=\"data row15 col0\" >TISCO</td>\n",
       "      <td id=\"T_dcc1a_row15_col1\" class=\"data row15 col1\" >100.00</td>\n",
       "      <td id=\"T_dcc1a_row15_col2\" class=\"data row15 col2\" >100.50</td>\n",
       "      <td id=\"T_dcc1a_row15_col3\" class=\"data row15 col3\" >-0.50%</td>\n",
       "      <td id=\"T_dcc1a_row15_col4\" class=\"data row15 col4\" >Worse</td>\n",
       "    </tr>\n",
       "    <tr>\n",
       "      <th id=\"T_dcc1a_level0_row16\" class=\"row_heading level0 row16\" >10</th>\n",
       "      <td id=\"T_dcc1a_row16_col0\" class=\"data row16 col0\" >MAKRO</td>\n",
       "      <td id=\"T_dcc1a_row16_col1\" class=\"data row16 col1\" >40.00</td>\n",
       "      <td id=\"T_dcc1a_row16_col2\" class=\"data row16 col2\" >40.00</td>\n",
       "      <td id=\"T_dcc1a_row16_col3\" class=\"data row16 col3\" >0.00%</td>\n",
       "      <td id=\"T_dcc1a_row16_col4\" class=\"data row16 col4\" >No Change</td>\n",
       "    </tr>\n",
       "    <tr>\n",
       "      <th id=\"T_dcc1a_level0_row17\" class=\"row_heading level0 row17\" >6</th>\n",
       "      <td id=\"T_dcc1a_row17_col0\" class=\"data row17 col0\" >HREIT</td>\n",
       "      <td id=\"T_dcc1a_row17_col1\" class=\"data row17 col1\" >8.65</td>\n",
       "      <td id=\"T_dcc1a_row17_col2\" class=\"data row17 col2\" >8.65</td>\n",
       "      <td id=\"T_dcc1a_row17_col3\" class=\"data row17 col3\" >0.00%</td>\n",
       "      <td id=\"T_dcc1a_row17_col4\" class=\"data row17 col4\" >No Change</td>\n",
       "    </tr>\n",
       "    <tr>\n",
       "      <th id=\"T_dcc1a_level0_row18\" class=\"row_heading level0 row18\" >20</th>\n",
       "      <td id=\"T_dcc1a_row18_col0\" class=\"data row18 col0\" >SCCC</td>\n",
       "      <td id=\"T_dcc1a_row18_col1\" class=\"data row18 col1\" >154.50</td>\n",
       "      <td id=\"T_dcc1a_row18_col2\" class=\"data row18 col2\" >154.50</td>\n",
       "      <td id=\"T_dcc1a_row18_col3\" class=\"data row18 col3\" >0.00%</td>\n",
       "      <td id=\"T_dcc1a_row18_col4\" class=\"data row18 col4\" >No Change</td>\n",
       "    </tr>\n",
       "    <tr>\n",
       "      <th id=\"T_dcc1a_level0_row19\" class=\"row_heading level0 row19\" >4</th>\n",
       "      <td id=\"T_dcc1a_row19_col0\" class=\"data row19 col0\" >DIF</td>\n",
       "      <td id=\"T_dcc1a_row19_col1\" class=\"data row19 col1\" >14.20</td>\n",
       "      <td id=\"T_dcc1a_row19_col2\" class=\"data row19 col2\" >14.20</td>\n",
       "      <td id=\"T_dcc1a_row19_col3\" class=\"data row19 col3\" >0.00%</td>\n",
       "      <td id=\"T_dcc1a_row19_col4\" class=\"data row19 col4\" >No Change</td>\n",
       "    </tr>\n",
       "    <tr>\n",
       "      <th id=\"T_dcc1a_level0_row20\" class=\"row_heading level0 row20\" >26</th>\n",
       "      <td id=\"T_dcc1a_row20_col0\" class=\"data row20 col0\" >TMT</td>\n",
       "      <td id=\"T_dcc1a_row20_col1\" class=\"data row20 col1\" >11.50</td>\n",
       "      <td id=\"T_dcc1a_row20_col2\" class=\"data row20 col2\" >11.50</td>\n",
       "      <td id=\"T_dcc1a_row20_col3\" class=\"data row20 col3\" >0.00%</td>\n",
       "      <td id=\"T_dcc1a_row20_col4\" class=\"data row20 col4\" >No Change</td>\n",
       "    </tr>\n",
       "    <tr>\n",
       "      <th id=\"T_dcc1a_level0_row21\" class=\"row_heading level0 row21\" >12</th>\n",
       "      <td id=\"T_dcc1a_row21_col0\" class=\"data row21 col0\" >NER</td>\n",
       "      <td id=\"T_dcc1a_row21_col1\" class=\"data row21 col1\" >7.15</td>\n",
       "      <td id=\"T_dcc1a_row21_col2\" class=\"data row21 col2\" >7.15</td>\n",
       "      <td id=\"T_dcc1a_row21_col3\" class=\"data row21 col3\" >0.00%</td>\n",
       "      <td id=\"T_dcc1a_row21_col4\" class=\"data row21 col4\" >No Change</td>\n",
       "    </tr>\n",
       "    <tr>\n",
       "      <th id=\"T_dcc1a_level0_row22\" class=\"row_heading level0 row22\" >5</th>\n",
       "      <td id=\"T_dcc1a_row22_col0\" class=\"data row22 col0\" >DOHOME</td>\n",
       "      <td id=\"T_dcc1a_row22_col1\" class=\"data row22 col1\" >21.50</td>\n",
       "      <td id=\"T_dcc1a_row22_col2\" class=\"data row22 col2\" >21.40</td>\n",
       "      <td id=\"T_dcc1a_row22_col3\" class=\"data row22 col3\" >0.47%</td>\n",
       "      <td id=\"T_dcc1a_row22_col4\" class=\"data row22 col4\" >Better</td>\n",
       "    </tr>\n",
       "    <tr>\n",
       "      <th id=\"T_dcc1a_level0_row23\" class=\"row_heading level0 row23\" >15</th>\n",
       "      <td id=\"T_dcc1a_row23_col0\" class=\"data row23 col0\" >PTTGC</td>\n",
       "      <td id=\"T_dcc1a_row23_col1\" class=\"data row23 col1\" >50.25</td>\n",
       "      <td id=\"T_dcc1a_row23_col2\" class=\"data row23 col2\" >50.00</td>\n",
       "      <td id=\"T_dcc1a_row23_col3\" class=\"data row23 col3\" >0.50%</td>\n",
       "      <td id=\"T_dcc1a_row23_col4\" class=\"data row23 col4\" >Better</td>\n",
       "    </tr>\n",
       "    <tr>\n",
       "      <th id=\"T_dcc1a_level0_row24\" class=\"row_heading level0 row24\" >28</th>\n",
       "      <td id=\"T_dcc1a_row24_col0\" class=\"data row24 col0\" >WHART</td>\n",
       "      <td id=\"T_dcc1a_row24_col1\" class=\"data row24 col1\" >11.20</td>\n",
       "      <td id=\"T_dcc1a_row24_col2\" class=\"data row24 col2\" >11.10</td>\n",
       "      <td id=\"T_dcc1a_row24_col3\" class=\"data row24 col3\" >0.90%</td>\n",
       "      <td id=\"T_dcc1a_row24_col4\" class=\"data row24 col4\" >Better</td>\n",
       "    </tr>\n",
       "    <tr>\n",
       "      <th id=\"T_dcc1a_level0_row25\" class=\"row_heading level0 row25\" >22</th>\n",
       "      <td id=\"T_dcc1a_row25_col0\" class=\"data row25 col0\" >SPALI</td>\n",
       "      <td id=\"T_dcc1a_row25_col1\" class=\"data row25 col1\" >21.90</td>\n",
       "      <td id=\"T_dcc1a_row25_col2\" class=\"data row25 col2\" >21.70</td>\n",
       "      <td id=\"T_dcc1a_row25_col3\" class=\"data row25 col3\" >0.92%</td>\n",
       "      <td id=\"T_dcc1a_row25_col4\" class=\"data row25 col4\" >Better</td>\n",
       "    </tr>\n",
       "    <tr>\n",
       "      <th id=\"T_dcc1a_level0_row26\" class=\"row_heading level0 row26\" >16</th>\n",
       "      <td id=\"T_dcc1a_row26_col0\" class=\"data row26 col0\" >RATCH</td>\n",
       "      <td id=\"T_dcc1a_row26_col1\" class=\"data row26 col1\" >44.75</td>\n",
       "      <td id=\"T_dcc1a_row26_col2\" class=\"data row26 col2\" >44.00</td>\n",
       "      <td id=\"T_dcc1a_row26_col3\" class=\"data row26 col3\" >1.70%</td>\n",
       "      <td id=\"T_dcc1a_row26_col4\" class=\"data row26 col4\" >Better</td>\n",
       "    </tr>\n",
       "    <tr>\n",
       "      <th id=\"T_dcc1a_level0_row27\" class=\"row_heading level0 row27\" >7</th>\n",
       "      <td id=\"T_dcc1a_row27_col0\" class=\"data row27 col0\" >IP</td>\n",
       "      <td id=\"T_dcc1a_row27_col1\" class=\"data row27 col1\" >20.30</td>\n",
       "      <td id=\"T_dcc1a_row27_col2\" class=\"data row27 col2\" >19.80</td>\n",
       "      <td id=\"T_dcc1a_row27_col3\" class=\"data row27 col3\" >2.53%</td>\n",
       "      <td id=\"T_dcc1a_row27_col4\" class=\"data row27 col4\" >Better</td>\n",
       "    </tr>\n",
       "    <tr>\n",
       "      <th id=\"T_dcc1a_level0_row28\" class=\"row_heading level0 row28\" >2</th>\n",
       "      <td id=\"T_dcc1a_row28_col0\" class=\"data row28 col0\" >BCH</td>\n",
       "      <td id=\"T_dcc1a_row28_col1\" class=\"data row28 col1\" >21.70</td>\n",
       "      <td id=\"T_dcc1a_row28_col2\" class=\"data row28 col2\" >20.40</td>\n",
       "      <td id=\"T_dcc1a_row28_col3\" class=\"data row28 col3\" >6.37%</td>\n",
       "      <td id=\"T_dcc1a_row28_col4\" class=\"data row28 col4\" >Better</td>\n",
       "    </tr>\n",
       "  </tbody>\n",
       "</table>\n"
      ],
      "text/plain": [
       "<pandas.io.formats.style.Styler at 0x1a2de3b1fd0>"
      ]
     },
     "execution_count": 12,
     "metadata": {},
     "output_type": "execute_result"
    }
   ],
   "source": [
    "trend['percent'] = (trend.price_d-trend.price_w)/trend.price_w * 100\n",
    "trend[\"perform\"] = trend[[\"price_d\",\"price_w\"]].apply(performance, axis=1)\n",
    "trend.sort_values(by=['percent'],ascending=[True]).style.format(format_dict)"
   ]
  },
  {
   "cell_type": "code",
   "execution_count": 13,
   "metadata": {},
   "outputs": [
    {
     "data": {
      "text/html": [
       "<style type=\"text/css\">\n",
       "</style>\n",
       "<table id=\"T_7bb4f_\">\n",
       "  <thead>\n",
       "    <tr>\n",
       "      <th class=\"blank level0\" >&nbsp;</th>\n",
       "      <th class=\"col_heading level0 col0\" >perform</th>\n",
       "    </tr>\n",
       "  </thead>\n",
       "  <tbody>\n",
       "    <tr>\n",
       "      <th id=\"T_7bb4f_level0_row0\" class=\"row_heading level0 row0\" >Worse</th>\n",
       "      <td id=\"T_7bb4f_row0_col0\" class=\"data row0 col0\" >55.17%</td>\n",
       "    </tr>\n",
       "    <tr>\n",
       "      <th id=\"T_7bb4f_level0_row1\" class=\"row_heading level0 row1\" >Better</th>\n",
       "      <td id=\"T_7bb4f_row1_col0\" class=\"data row1 col0\" >24.14%</td>\n",
       "    </tr>\n",
       "    <tr>\n",
       "      <th id=\"T_7bb4f_level0_row2\" class=\"row_heading level0 row2\" >No Change</th>\n",
       "      <td id=\"T_7bb4f_row2_col0\" class=\"data row2 col0\" >20.69%</td>\n",
       "    </tr>\n",
       "  </tbody>\n",
       "</table>\n"
      ],
      "text/plain": [
       "<pandas.io.formats.style.Styler at 0x1a2de3b1a90>"
      ]
     },
     "execution_count": 13,
     "metadata": {},
     "output_type": "execute_result"
    }
   ],
   "source": [
    "trend.perform.value_counts(normalize=True).to_frame().style.format('{:.2%}')"
   ]
  },
  {
   "cell_type": "code",
   "execution_count": 14,
   "metadata": {},
   "outputs": [
    {
     "data": {
      "text/plain": [
       "(359, 8)"
      ]
     },
     "execution_count": 14,
     "metadata": {},
     "output_type": "execute_result"
    }
   ],
   "source": [
    "sql = '''\n",
    "SELECT name, max_price AS max, min_price AS min, pe, pbv, daily_volume AS volume, beta, market\n",
    "FROM stocks\n",
    "'''\n",
    "my_stocks = pd.read_sql(sql, conmy)\n",
    "my_stocks.shape"
   ]
  },
  {
   "cell_type": "code",
   "execution_count": 15,
   "metadata": {},
   "outputs": [],
   "source": [
    "filters = [\n",
    "   (my_stocks.market.str.contains('SET50')),\n",
    "   (my_stocks.market.str.contains('SET100')),\n",
    "   (my_stocks.market.str.contains('mai'))]\n",
    "values = ['SET50','SET100','mai']\n",
    "my_stocks[\"mrkt\"] = np.select(filters, values, default='SET999')"
   ]
  },
  {
   "cell_type": "code",
   "execution_count": 16,
   "metadata": {},
   "outputs": [
    {
     "data": {
      "text/plain": [
       "(29, 13)"
      ]
     },
     "execution_count": 16,
     "metadata": {},
     "output_type": "execute_result"
    }
   ],
   "source": [
    "trend2 = pd.merge(trend, my_stocks, on='name', how='inner')\n",
    "trend2.sort_values(['percent'],ascending=[True]).shape"
   ]
  },
  {
   "cell_type": "code",
   "execution_count": 17,
   "metadata": {},
   "outputs": [
    {
     "data": {
      "text/html": [
       "<style type=\"text/css\">\n",
       "</style>\n",
       "<table id=\"T_496c8_\">\n",
       "  <thead>\n",
       "    <tr>\n",
       "      <th class=\"blank level0\" >&nbsp;</th>\n",
       "      <th class=\"col_heading level0 col0\" >name</th>\n",
       "      <th class=\"col_heading level0 col1\" >price_d</th>\n",
       "      <th class=\"col_heading level0 col2\" >price_w</th>\n",
       "      <th class=\"col_heading level0 col3\" >percent</th>\n",
       "      <th class=\"col_heading level0 col4\" >perform</th>\n",
       "      <th class=\"col_heading level0 col5\" >mrkt</th>\n",
       "    </tr>\n",
       "  </thead>\n",
       "  <tbody>\n",
       "    <tr>\n",
       "      <th id=\"T_496c8_level0_row0\" class=\"row_heading level0 row0\" >19</th>\n",
       "      <td id=\"T_496c8_row0_col0\" class=\"data row0 col0\" >SCC</td>\n",
       "      <td id=\"T_496c8_row0_col1\" class=\"data row0 col1\" >368.00</td>\n",
       "      <td id=\"T_496c8_row0_col2\" class=\"data row0 col2\" >383.00</td>\n",
       "      <td id=\"T_496c8_row0_col3\" class=\"data row0 col3\" >-3.92%</td>\n",
       "      <td id=\"T_496c8_row0_col4\" class=\"data row0 col4\" >Worse</td>\n",
       "      <td id=\"T_496c8_row0_col5\" class=\"data row0 col5\" >SET50</td>\n",
       "    </tr>\n",
       "    <tr>\n",
       "      <th id=\"T_496c8_level0_row1\" class=\"row_heading level0 row1\" >9</th>\n",
       "      <td id=\"T_496c8_row1_col0\" class=\"data row1 col0\" >KCE</td>\n",
       "      <td id=\"T_496c8_row1_col1\" class=\"data row1 col1\" >63.25</td>\n",
       "      <td id=\"T_496c8_row1_col2\" class=\"data row1 col2\" >65.25</td>\n",
       "      <td id=\"T_496c8_row1_col3\" class=\"data row1 col3\" >-3.07%</td>\n",
       "      <td id=\"T_496c8_row1_col4\" class=\"data row1 col4\" >Worse</td>\n",
       "      <td id=\"T_496c8_row1_col5\" class=\"data row1 col5\" >SET50</td>\n",
       "    </tr>\n",
       "    <tr>\n",
       "      <th id=\"T_496c8_level0_row2\" class=\"row_heading level0 row2\" >14</th>\n",
       "      <td id=\"T_496c8_row2_col0\" class=\"data row2 col0\" >PTT</td>\n",
       "      <td id=\"T_496c8_row2_col1\" class=\"data row2 col1\" >37.75</td>\n",
       "      <td id=\"T_496c8_row2_col2\" class=\"data row2 col2\" >38.75</td>\n",
       "      <td id=\"T_496c8_row2_col3\" class=\"data row2 col3\" >-2.58%</td>\n",
       "      <td id=\"T_496c8_row2_col4\" class=\"data row2 col4\" >Worse</td>\n",
       "      <td id=\"T_496c8_row2_col5\" class=\"data row2 col5\" >SET50</td>\n",
       "    </tr>\n",
       "    <tr>\n",
       "      <th id=\"T_496c8_level0_row3\" class=\"row_heading level0 row3\" >25</th>\n",
       "      <td id=\"T_496c8_row3_col0\" class=\"data row3 col0\" >TISCO</td>\n",
       "      <td id=\"T_496c8_row3_col1\" class=\"data row3 col1\" >100.00</td>\n",
       "      <td id=\"T_496c8_row3_col2\" class=\"data row3 col2\" >100.50</td>\n",
       "      <td id=\"T_496c8_row3_col3\" class=\"data row3 col3\" >-0.50%</td>\n",
       "      <td id=\"T_496c8_row3_col4\" class=\"data row3 col4\" >Worse</td>\n",
       "      <td id=\"T_496c8_row3_col5\" class=\"data row3 col5\" >SET50</td>\n",
       "    </tr>\n",
       "    <tr>\n",
       "      <th id=\"T_496c8_level0_row4\" class=\"row_heading level0 row4\" >15</th>\n",
       "      <td id=\"T_496c8_row4_col0\" class=\"data row4 col0\" >PTTGC</td>\n",
       "      <td id=\"T_496c8_row4_col1\" class=\"data row4 col1\" >50.25</td>\n",
       "      <td id=\"T_496c8_row4_col2\" class=\"data row4 col2\" >50.00</td>\n",
       "      <td id=\"T_496c8_row4_col3\" class=\"data row4 col3\" >0.50%</td>\n",
       "      <td id=\"T_496c8_row4_col4\" class=\"data row4 col4\" >Better</td>\n",
       "      <td id=\"T_496c8_row4_col5\" class=\"data row4 col5\" >SET50</td>\n",
       "    </tr>\n",
       "    <tr>\n",
       "      <th id=\"T_496c8_level0_row5\" class=\"row_heading level0 row5\" >16</th>\n",
       "      <td id=\"T_496c8_row5_col0\" class=\"data row5 col0\" >RATCH</td>\n",
       "      <td id=\"T_496c8_row5_col1\" class=\"data row5 col1\" >44.75</td>\n",
       "      <td id=\"T_496c8_row5_col2\" class=\"data row5 col2\" >44.00</td>\n",
       "      <td id=\"T_496c8_row5_col3\" class=\"data row5 col3\" >1.70%</td>\n",
       "      <td id=\"T_496c8_row5_col4\" class=\"data row5 col4\" >Better</td>\n",
       "      <td id=\"T_496c8_row5_col5\" class=\"data row5 col5\" >SET50</td>\n",
       "    </tr>\n",
       "  </tbody>\n",
       "</table>\n"
      ],
      "text/plain": [
       "<pandas.io.formats.style.Styler at 0x1a2de39d5e0>"
      ]
     },
     "execution_count": 17,
     "metadata": {},
     "output_type": "execute_result"
    }
   ],
   "source": [
    "set50 = trend2.mrkt.str.contains('SET50') \n",
    "flt_set50 = trend2[set50]\n",
    "flt_set50[cols].sort_values(by=['percent','name'],ascending=[True,True]).style.format(format_dict)"
   ]
  },
  {
   "cell_type": "code",
   "execution_count": 18,
   "metadata": {},
   "outputs": [
    {
     "data": {
      "text/html": [
       "<style type=\"text/css\">\n",
       "</style>\n",
       "<table id=\"T_d1d6c_\">\n",
       "  <thead>\n",
       "    <tr>\n",
       "      <th class=\"blank level0\" >&nbsp;</th>\n",
       "      <th class=\"col_heading level0 col0\" >perform</th>\n",
       "    </tr>\n",
       "  </thead>\n",
       "  <tbody>\n",
       "    <tr>\n",
       "      <th id=\"T_d1d6c_level0_row0\" class=\"row_heading level0 row0\" >Worse</th>\n",
       "      <td id=\"T_d1d6c_row0_col0\" class=\"data row0 col0\" >66.67%</td>\n",
       "    </tr>\n",
       "    <tr>\n",
       "      <th id=\"T_d1d6c_level0_row1\" class=\"row_heading level0 row1\" >Better</th>\n",
       "      <td id=\"T_d1d6c_row1_col0\" class=\"data row1 col0\" >33.33%</td>\n",
       "    </tr>\n",
       "  </tbody>\n",
       "</table>\n"
      ],
      "text/plain": [
       "<pandas.io.formats.style.Styler at 0x1a2de3e1310>"
      ]
     },
     "execution_count": 18,
     "metadata": {},
     "output_type": "execute_result"
    }
   ],
   "source": [
    "flt_set50.perform.value_counts(normalize=True).to_frame().style.format('{:.2%}')"
   ]
  },
  {
   "cell_type": "code",
   "execution_count": 19,
   "metadata": {
    "scrolled": true
   },
   "outputs": [
    {
     "data": {
      "text/html": [
       "<style type=\"text/css\">\n",
       "</style>\n",
       "<table id=\"T_0d032_\">\n",
       "  <thead>\n",
       "    <tr>\n",
       "      <th class=\"blank level0\" >&nbsp;</th>\n",
       "      <th class=\"col_heading level0 col0\" >name</th>\n",
       "      <th class=\"col_heading level0 col1\" >price_d</th>\n",
       "      <th class=\"col_heading level0 col2\" >price_w</th>\n",
       "      <th class=\"col_heading level0 col3\" >percent</th>\n",
       "      <th class=\"col_heading level0 col4\" >perform</th>\n",
       "      <th class=\"col_heading level0 col5\" >mrkt</th>\n",
       "    </tr>\n",
       "  </thead>\n",
       "  <tbody>\n",
       "    <tr>\n",
       "      <th id=\"T_0d032_level0_row0\" class=\"row_heading level0 row0\" >17</th>\n",
       "      <td id=\"T_0d032_row0_col0\" class=\"data row0 col0\" >RCL</td>\n",
       "      <td id=\"T_0d032_row0_col1\" class=\"data row0 col1\" >42.25</td>\n",
       "      <td id=\"T_0d032_row0_col2\" class=\"data row0 col2\" >44.00</td>\n",
       "      <td id=\"T_0d032_row0_col3\" class=\"data row0 col3\" >-3.98%</td>\n",
       "      <td id=\"T_0d032_row0_col4\" class=\"data row0 col4\" >Worse</td>\n",
       "      <td id=\"T_0d032_row0_col5\" class=\"data row0 col5\" >SET100</td>\n",
       "    </tr>\n",
       "    <tr>\n",
       "      <th id=\"T_0d032_level0_row1\" class=\"row_heading level0 row1\" >13</th>\n",
       "      <td id=\"T_0d032_row1_col0\" class=\"data row1 col0\" >ORI</td>\n",
       "      <td id=\"T_0d032_row1_col1\" class=\"data row1 col1\" >11.10</td>\n",
       "      <td id=\"T_0d032_row1_col2\" class=\"data row1 col2\" >11.30</td>\n",
       "      <td id=\"T_0d032_row1_col3\" class=\"data row1 col3\" >-1.77%</td>\n",
       "      <td id=\"T_0d032_row1_col4\" class=\"data row1 col4\" >Worse</td>\n",
       "      <td id=\"T_0d032_row1_col5\" class=\"data row1 col5\" >SET100</td>\n",
       "    </tr>\n",
       "    <tr>\n",
       "      <th id=\"T_0d032_level0_row2\" class=\"row_heading level0 row2\" >23</th>\n",
       "      <td id=\"T_0d032_row2_col0\" class=\"data row2 col0\" >STA</td>\n",
       "      <td id=\"T_0d032_row2_col1\" class=\"data row2 col1\" >26.25</td>\n",
       "      <td id=\"T_0d032_row2_col2\" class=\"data row2 col2\" >26.50</td>\n",
       "      <td id=\"T_0d032_row2_col3\" class=\"data row2 col3\" >-0.94%</td>\n",
       "      <td id=\"T_0d032_row2_col4\" class=\"data row2 col4\" >Worse</td>\n",
       "      <td id=\"T_0d032_row2_col5\" class=\"data row2 col5\" >SET100</td>\n",
       "    </tr>\n",
       "    <tr>\n",
       "      <th id=\"T_0d032_level0_row3\" class=\"row_heading level0 row3\" >24</th>\n",
       "      <td id=\"T_0d032_row3_col0\" class=\"data row3 col0\" >SYNEX</td>\n",
       "      <td id=\"T_0d032_row3_col1\" class=\"data row3 col1\" >26.25</td>\n",
       "      <td id=\"T_0d032_row3_col2\" class=\"data row3 col2\" >26.50</td>\n",
       "      <td id=\"T_0d032_row3_col3\" class=\"data row3 col3\" >-0.94%</td>\n",
       "      <td id=\"T_0d032_row3_col4\" class=\"data row3 col4\" >Worse</td>\n",
       "      <td id=\"T_0d032_row3_col5\" class=\"data row3 col5\" >SET100</td>\n",
       "    </tr>\n",
       "    <tr>\n",
       "      <th id=\"T_0d032_level0_row4\" class=\"row_heading level0 row4\" >5</th>\n",
       "      <td id=\"T_0d032_row4_col0\" class=\"data row4 col0\" >DOHOME</td>\n",
       "      <td id=\"T_0d032_row4_col1\" class=\"data row4 col1\" >21.50</td>\n",
       "      <td id=\"T_0d032_row4_col2\" class=\"data row4 col2\" >21.40</td>\n",
       "      <td id=\"T_0d032_row4_col3\" class=\"data row4 col3\" >0.47%</td>\n",
       "      <td id=\"T_0d032_row4_col4\" class=\"data row4 col4\" >Better</td>\n",
       "      <td id=\"T_0d032_row4_col5\" class=\"data row4 col5\" >SET100</td>\n",
       "    </tr>\n",
       "    <tr>\n",
       "      <th id=\"T_0d032_level0_row5\" class=\"row_heading level0 row5\" >22</th>\n",
       "      <td id=\"T_0d032_row5_col0\" class=\"data row5 col0\" >SPALI</td>\n",
       "      <td id=\"T_0d032_row5_col1\" class=\"data row5 col1\" >21.90</td>\n",
       "      <td id=\"T_0d032_row5_col2\" class=\"data row5 col2\" >21.70</td>\n",
       "      <td id=\"T_0d032_row5_col3\" class=\"data row5 col3\" >0.92%</td>\n",
       "      <td id=\"T_0d032_row5_col4\" class=\"data row5 col4\" >Better</td>\n",
       "      <td id=\"T_0d032_row5_col5\" class=\"data row5 col5\" >SET100</td>\n",
       "    </tr>\n",
       "    <tr>\n",
       "      <th id=\"T_0d032_level0_row6\" class=\"row_heading level0 row6\" >2</th>\n",
       "      <td id=\"T_0d032_row6_col0\" class=\"data row6 col0\" >BCH</td>\n",
       "      <td id=\"T_0d032_row6_col1\" class=\"data row6 col1\" >21.70</td>\n",
       "      <td id=\"T_0d032_row6_col2\" class=\"data row6 col2\" >20.40</td>\n",
       "      <td id=\"T_0d032_row6_col3\" class=\"data row6 col3\" >6.37%</td>\n",
       "      <td id=\"T_0d032_row6_col4\" class=\"data row6 col4\" >Better</td>\n",
       "      <td id=\"T_0d032_row6_col5\" class=\"data row6 col5\" >SET100</td>\n",
       "    </tr>\n",
       "  </tbody>\n",
       "</table>\n"
      ],
      "text/plain": [
       "<pandas.io.formats.style.Styler at 0x1a2de3b1970>"
      ]
     },
     "execution_count": 19,
     "metadata": {},
     "output_type": "execute_result"
    }
   ],
   "source": [
    "set100 = trend2.mrkt.str.contains('SET100')\n",
    "flt_set100 = trend2[set100]\n",
    "flt_set100[cols].sort_values(by=['percent','name'],ascending=[True,True]).style.format(format_dict)"
   ]
  },
  {
   "cell_type": "code",
   "execution_count": 20,
   "metadata": {},
   "outputs": [
    {
     "data": {
      "text/html": [
       "<style type=\"text/css\">\n",
       "</style>\n",
       "<table id=\"T_316ab_\">\n",
       "  <thead>\n",
       "    <tr>\n",
       "      <th class=\"blank level0\" >&nbsp;</th>\n",
       "      <th class=\"col_heading level0 col0\" >perform</th>\n",
       "    </tr>\n",
       "  </thead>\n",
       "  <tbody>\n",
       "    <tr>\n",
       "      <th id=\"T_316ab_level0_row0\" class=\"row_heading level0 row0\" >Worse</th>\n",
       "      <td id=\"T_316ab_row0_col0\" class=\"data row0 col0\" >57.14%</td>\n",
       "    </tr>\n",
       "    <tr>\n",
       "      <th id=\"T_316ab_level0_row1\" class=\"row_heading level0 row1\" >Better</th>\n",
       "      <td id=\"T_316ab_row1_col0\" class=\"data row1 col0\" >42.86%</td>\n",
       "    </tr>\n",
       "  </tbody>\n",
       "</table>\n"
      ],
      "text/plain": [
       "<pandas.io.formats.style.Styler at 0x1a2de421d00>"
      ]
     },
     "execution_count": 20,
     "metadata": {},
     "output_type": "execute_result"
    }
   ],
   "source": [
    "flt_set100[cols].perform.value_counts(normalize=True).to_frame().style.format('{:.2%}')"
   ]
  },
  {
   "cell_type": "code",
   "execution_count": 21,
   "metadata": {},
   "outputs": [
    {
     "data": {
      "text/html": [
       "<style type=\"text/css\">\n",
       "</style>\n",
       "<table id=\"T_d46f1_\">\n",
       "  <thead>\n",
       "    <tr>\n",
       "      <th class=\"blank level0\" >&nbsp;</th>\n",
       "      <th class=\"col_heading level0 col0\" >name</th>\n",
       "      <th class=\"col_heading level0 col1\" >price_d</th>\n",
       "      <th class=\"col_heading level0 col2\" >price_w</th>\n",
       "      <th class=\"col_heading level0 col3\" >percent</th>\n",
       "      <th class=\"col_heading level0 col4\" >perform</th>\n",
       "      <th class=\"col_heading level0 col5\" >mrkt</th>\n",
       "    </tr>\n",
       "  </thead>\n",
       "  <tbody>\n",
       "    <tr>\n",
       "      <th id=\"T_d46f1_level0_row0\" class=\"row_heading level0 row0\" >21</th>\n",
       "      <td id=\"T_d46f1_row0_col0\" class=\"data row0 col0\" >SENA</td>\n",
       "      <td id=\"T_d46f1_row0_col1\" class=\"data row0 col1\" >4.62</td>\n",
       "      <td id=\"T_d46f1_row0_col2\" class=\"data row0 col2\" >4.88</td>\n",
       "      <td id=\"T_d46f1_row0_col3\" class=\"data row0 col3\" >-5.33%</td>\n",
       "      <td id=\"T_d46f1_row0_col4\" class=\"data row0 col4\" >Worse</td>\n",
       "      <td id=\"T_d46f1_row0_col5\" class=\"data row0 col5\" >SET999</td>\n",
       "    </tr>\n",
       "    <tr>\n",
       "      <th id=\"T_d46f1_level0_row1\" class=\"row_heading level0 row1\" >11</th>\n",
       "      <td id=\"T_d46f1_row1_col0\" class=\"data row1 col0\" >MCS</td>\n",
       "      <td id=\"T_d46f1_row1_col1\" class=\"data row1 col1\" >13.20</td>\n",
       "      <td id=\"T_d46f1_row1_col2\" class=\"data row1 col2\" >13.70</td>\n",
       "      <td id=\"T_d46f1_row1_col3\" class=\"data row1 col3\" >-3.65%</td>\n",
       "      <td id=\"T_d46f1_row1_col4\" class=\"data row1 col4\" >Worse</td>\n",
       "      <td id=\"T_d46f1_row1_col5\" class=\"data row1 col5\" >SET999</td>\n",
       "    </tr>\n",
       "    <tr>\n",
       "      <th id=\"T_d46f1_level0_row2\" class=\"row_heading level0 row2\" >27</th>\n",
       "      <td id=\"T_d46f1_row2_col0\" class=\"data row2 col0\" >TPIPL</td>\n",
       "      <td id=\"T_d46f1_row2_col1\" class=\"data row2 col1\" >1.59</td>\n",
       "      <td id=\"T_d46f1_row2_col2\" class=\"data row2 col2\" >1.62</td>\n",
       "      <td id=\"T_d46f1_row2_col3\" class=\"data row2 col3\" >-1.85%</td>\n",
       "      <td id=\"T_d46f1_row2_col4\" class=\"data row2 col4\" >Worse</td>\n",
       "      <td id=\"T_d46f1_row2_col5\" class=\"data row2 col5\" >SET999</td>\n",
       "    </tr>\n",
       "    <tr>\n",
       "      <th id=\"T_d46f1_level0_row3\" class=\"row_heading level0 row3\" >8</th>\n",
       "      <td id=\"T_d46f1_row3_col0\" class=\"data row3 col0\" >JASIF</td>\n",
       "      <td id=\"T_d46f1_row3_col1\" class=\"data row3 col1\" >10.80</td>\n",
       "      <td id=\"T_d46f1_row3_col2\" class=\"data row3 col2\" >10.90</td>\n",
       "      <td id=\"T_d46f1_row3_col3\" class=\"data row3 col3\" >-0.92%</td>\n",
       "      <td id=\"T_d46f1_row3_col4\" class=\"data row3 col4\" >Worse</td>\n",
       "      <td id=\"T_d46f1_row3_col5\" class=\"data row3 col5\" >SET999</td>\n",
       "    </tr>\n",
       "    <tr>\n",
       "      <th id=\"T_d46f1_level0_row4\" class=\"row_heading level0 row4\" >3</th>\n",
       "      <td id=\"T_d46f1_row4_col0\" class=\"data row4 col0\" >CPNCG</td>\n",
       "      <td id=\"T_d46f1_row4_col1\" class=\"data row4 col1\" >12.10</td>\n",
       "      <td id=\"T_d46f1_row4_col2\" class=\"data row4 col2\" >12.20</td>\n",
       "      <td id=\"T_d46f1_row4_col3\" class=\"data row4 col3\" >-0.82%</td>\n",
       "      <td id=\"T_d46f1_row4_col4\" class=\"data row4 col4\" >Worse</td>\n",
       "      <td id=\"T_d46f1_row4_col5\" class=\"data row4 col5\" >SET999</td>\n",
       "    </tr>\n",
       "    <tr>\n",
       "      <th id=\"T_d46f1_level0_row5\" class=\"row_heading level0 row5\" >18</th>\n",
       "      <td id=\"T_d46f1_row5_col0\" class=\"data row5 col0\" >RJH</td>\n",
       "      <td id=\"T_d46f1_row5_col1\" class=\"data row5 col1\" >31.75</td>\n",
       "      <td id=\"T_d46f1_row5_col2\" class=\"data row5 col2\" >32.00</td>\n",
       "      <td id=\"T_d46f1_row5_col3\" class=\"data row5 col3\" >-0.78%</td>\n",
       "      <td id=\"T_d46f1_row5_col4\" class=\"data row5 col4\" >Worse</td>\n",
       "      <td id=\"T_d46f1_row5_col5\" class=\"data row5 col5\" >SET999</td>\n",
       "    </tr>\n",
       "    <tr>\n",
       "      <th id=\"T_d46f1_level0_row6\" class=\"row_heading level0 row6\" >0</th>\n",
       "      <td id=\"T_d46f1_row6_col0\" class=\"data row6 col0\" >AIMIRT</td>\n",
       "      <td id=\"T_d46f1_row6_col1\" class=\"data row6 col1\" >12.80</td>\n",
       "      <td id=\"T_d46f1_row6_col2\" class=\"data row6 col2\" >12.90</td>\n",
       "      <td id=\"T_d46f1_row6_col3\" class=\"data row6 col3\" >-0.78%</td>\n",
       "      <td id=\"T_d46f1_row6_col4\" class=\"data row6 col4\" >Worse</td>\n",
       "      <td id=\"T_d46f1_row6_col5\" class=\"data row6 col5\" >SET999</td>\n",
       "    </tr>\n",
       "    <tr>\n",
       "      <th id=\"T_d46f1_level0_row7\" class=\"row_heading level0 row7\" >1</th>\n",
       "      <td id=\"T_d46f1_row7_col0\" class=\"data row7 col0\" >ASP</td>\n",
       "      <td id=\"T_d46f1_row7_col1\" class=\"data row7 col1\" >3.42</td>\n",
       "      <td id=\"T_d46f1_row7_col2\" class=\"data row7 col2\" >3.44</td>\n",
       "      <td id=\"T_d46f1_row7_col3\" class=\"data row7 col3\" >-0.58%</td>\n",
       "      <td id=\"T_d46f1_row7_col4\" class=\"data row7 col4\" >Worse</td>\n",
       "      <td id=\"T_d46f1_row7_col5\" class=\"data row7 col5\" >SET999</td>\n",
       "    </tr>\n",
       "    <tr>\n",
       "      <th id=\"T_d46f1_level0_row8\" class=\"row_heading level0 row8\" >4</th>\n",
       "      <td id=\"T_d46f1_row8_col0\" class=\"data row8 col0\" >DIF</td>\n",
       "      <td id=\"T_d46f1_row8_col1\" class=\"data row8 col1\" >14.20</td>\n",
       "      <td id=\"T_d46f1_row8_col2\" class=\"data row8 col2\" >14.20</td>\n",
       "      <td id=\"T_d46f1_row8_col3\" class=\"data row8 col3\" >0.00%</td>\n",
       "      <td id=\"T_d46f1_row8_col4\" class=\"data row8 col4\" >No Change</td>\n",
       "      <td id=\"T_d46f1_row8_col5\" class=\"data row8 col5\" >SET999</td>\n",
       "    </tr>\n",
       "    <tr>\n",
       "      <th id=\"T_d46f1_level0_row9\" class=\"row_heading level0 row9\" >6</th>\n",
       "      <td id=\"T_d46f1_row9_col0\" class=\"data row9 col0\" >HREIT</td>\n",
       "      <td id=\"T_d46f1_row9_col1\" class=\"data row9 col1\" >8.65</td>\n",
       "      <td id=\"T_d46f1_row9_col2\" class=\"data row9 col2\" >8.65</td>\n",
       "      <td id=\"T_d46f1_row9_col3\" class=\"data row9 col3\" >0.00%</td>\n",
       "      <td id=\"T_d46f1_row9_col4\" class=\"data row9 col4\" >No Change</td>\n",
       "      <td id=\"T_d46f1_row9_col5\" class=\"data row9 col5\" >SET999</td>\n",
       "    </tr>\n",
       "    <tr>\n",
       "      <th id=\"T_d46f1_level0_row10\" class=\"row_heading level0 row10\" >10</th>\n",
       "      <td id=\"T_d46f1_row10_col0\" class=\"data row10 col0\" >MAKRO</td>\n",
       "      <td id=\"T_d46f1_row10_col1\" class=\"data row10 col1\" >40.00</td>\n",
       "      <td id=\"T_d46f1_row10_col2\" class=\"data row10 col2\" >40.00</td>\n",
       "      <td id=\"T_d46f1_row10_col3\" class=\"data row10 col3\" >0.00%</td>\n",
       "      <td id=\"T_d46f1_row10_col4\" class=\"data row10 col4\" >No Change</td>\n",
       "      <td id=\"T_d46f1_row10_col5\" class=\"data row10 col5\" >SET999</td>\n",
       "    </tr>\n",
       "    <tr>\n",
       "      <th id=\"T_d46f1_level0_row11\" class=\"row_heading level0 row11\" >12</th>\n",
       "      <td id=\"T_d46f1_row11_col0\" class=\"data row11 col0\" >NER</td>\n",
       "      <td id=\"T_d46f1_row11_col1\" class=\"data row11 col1\" >7.15</td>\n",
       "      <td id=\"T_d46f1_row11_col2\" class=\"data row11 col2\" >7.15</td>\n",
       "      <td id=\"T_d46f1_row11_col3\" class=\"data row11 col3\" >0.00%</td>\n",
       "      <td id=\"T_d46f1_row11_col4\" class=\"data row11 col4\" >No Change</td>\n",
       "      <td id=\"T_d46f1_row11_col5\" class=\"data row11 col5\" >SET999</td>\n",
       "    </tr>\n",
       "    <tr>\n",
       "      <th id=\"T_d46f1_level0_row12\" class=\"row_heading level0 row12\" >20</th>\n",
       "      <td id=\"T_d46f1_row12_col0\" class=\"data row12 col0\" >SCCC</td>\n",
       "      <td id=\"T_d46f1_row12_col1\" class=\"data row12 col1\" >154.50</td>\n",
       "      <td id=\"T_d46f1_row12_col2\" class=\"data row12 col2\" >154.50</td>\n",
       "      <td id=\"T_d46f1_row12_col3\" class=\"data row12 col3\" >0.00%</td>\n",
       "      <td id=\"T_d46f1_row12_col4\" class=\"data row12 col4\" >No Change</td>\n",
       "      <td id=\"T_d46f1_row12_col5\" class=\"data row12 col5\" >SET999</td>\n",
       "    </tr>\n",
       "    <tr>\n",
       "      <th id=\"T_d46f1_level0_row13\" class=\"row_heading level0 row13\" >26</th>\n",
       "      <td id=\"T_d46f1_row13_col0\" class=\"data row13 col0\" >TMT</td>\n",
       "      <td id=\"T_d46f1_row13_col1\" class=\"data row13 col1\" >11.50</td>\n",
       "      <td id=\"T_d46f1_row13_col2\" class=\"data row13 col2\" >11.50</td>\n",
       "      <td id=\"T_d46f1_row13_col3\" class=\"data row13 col3\" >0.00%</td>\n",
       "      <td id=\"T_d46f1_row13_col4\" class=\"data row13 col4\" >No Change</td>\n",
       "      <td id=\"T_d46f1_row13_col5\" class=\"data row13 col5\" >SET999</td>\n",
       "    </tr>\n",
       "    <tr>\n",
       "      <th id=\"T_d46f1_level0_row14\" class=\"row_heading level0 row14\" >28</th>\n",
       "      <td id=\"T_d46f1_row14_col0\" class=\"data row14 col0\" >WHART</td>\n",
       "      <td id=\"T_d46f1_row14_col1\" class=\"data row14 col1\" >11.20</td>\n",
       "      <td id=\"T_d46f1_row14_col2\" class=\"data row14 col2\" >11.10</td>\n",
       "      <td id=\"T_d46f1_row14_col3\" class=\"data row14 col3\" >0.90%</td>\n",
       "      <td id=\"T_d46f1_row14_col4\" class=\"data row14 col4\" >Better</td>\n",
       "      <td id=\"T_d46f1_row14_col5\" class=\"data row14 col5\" >SET999</td>\n",
       "    </tr>\n",
       "  </tbody>\n",
       "</table>\n"
      ],
      "text/plain": [
       "<pandas.io.formats.style.Styler at 0x1a2de421c40>"
      ]
     },
     "execution_count": 21,
     "metadata": {},
     "output_type": "execute_result"
    }
   ],
   "source": [
    "set999 = trend2.mrkt.str.contains('SET999')\n",
    "flt_set999 = trend2[set999]\n",
    "flt_set999[cols].sort_values(by=['percent','name'],ascending=[True,True]).style.format(format_dict)"
   ]
  },
  {
   "cell_type": "code",
   "execution_count": 22,
   "metadata": {},
   "outputs": [
    {
     "data": {
      "text/html": [
       "<style type=\"text/css\">\n",
       "</style>\n",
       "<table id=\"T_14d0f_\">\n",
       "  <thead>\n",
       "    <tr>\n",
       "      <th class=\"blank level0\" >&nbsp;</th>\n",
       "      <th class=\"col_heading level0 col0\" >perform</th>\n",
       "    </tr>\n",
       "  </thead>\n",
       "  <tbody>\n",
       "    <tr>\n",
       "      <th id=\"T_14d0f_level0_row0\" class=\"row_heading level0 row0\" >Worse</th>\n",
       "      <td id=\"T_14d0f_row0_col0\" class=\"data row0 col0\" >53.33%</td>\n",
       "    </tr>\n",
       "    <tr>\n",
       "      <th id=\"T_14d0f_level0_row1\" class=\"row_heading level0 row1\" >No Change</th>\n",
       "      <td id=\"T_14d0f_row1_col0\" class=\"data row1 col0\" >40.00%</td>\n",
       "    </tr>\n",
       "    <tr>\n",
       "      <th id=\"T_14d0f_level0_row2\" class=\"row_heading level0 row2\" >Better</th>\n",
       "      <td id=\"T_14d0f_row2_col0\" class=\"data row2 col0\" >6.67%</td>\n",
       "    </tr>\n",
       "  </tbody>\n",
       "</table>\n"
      ],
      "text/plain": [
       "<pandas.io.formats.style.Styler at 0x1a2de421b50>"
      ]
     },
     "execution_count": 22,
     "metadata": {},
     "output_type": "execute_result"
    }
   ],
   "source": [
    "flt_set999[cols].perform.value_counts(normalize=True).to_frame().style.format('{:.2%}')"
   ]
  },
  {
   "cell_type": "code",
   "execution_count": 23,
   "metadata": {},
   "outputs": [
    {
     "data": {
      "text/html": [
       "<style type=\"text/css\">\n",
       "</style>\n",
       "<table id=\"T_3f60f_\">\n",
       "  <thead>\n",
       "    <tr>\n",
       "      <th class=\"blank level0\" >&nbsp;</th>\n",
       "      <th class=\"col_heading level0 col0\" >name</th>\n",
       "      <th class=\"col_heading level0 col1\" >price_d</th>\n",
       "      <th class=\"col_heading level0 col2\" >price_w</th>\n",
       "      <th class=\"col_heading level0 col3\" >percent</th>\n",
       "      <th class=\"col_heading level0 col4\" >perform</th>\n",
       "      <th class=\"col_heading level0 col5\" >mrkt</th>\n",
       "    </tr>\n",
       "  </thead>\n",
       "  <tbody>\n",
       "    <tr>\n",
       "      <th id=\"T_3f60f_level0_row0\" class=\"row_heading level0 row0\" >7</th>\n",
       "      <td id=\"T_3f60f_row0_col0\" class=\"data row0 col0\" >IP</td>\n",
       "      <td id=\"T_3f60f_row0_col1\" class=\"data row0 col1\" >20.30</td>\n",
       "      <td id=\"T_3f60f_row0_col2\" class=\"data row0 col2\" >19.80</td>\n",
       "      <td id=\"T_3f60f_row0_col3\" class=\"data row0 col3\" >2.53%</td>\n",
       "      <td id=\"T_3f60f_row0_col4\" class=\"data row0 col4\" >Better</td>\n",
       "      <td id=\"T_3f60f_row0_col5\" class=\"data row0 col5\" >mai</td>\n",
       "    </tr>\n",
       "  </tbody>\n",
       "</table>\n"
      ],
      "text/plain": [
       "<pandas.io.formats.style.Styler at 0x1a2de432670>"
      ]
     },
     "execution_count": 23,
     "metadata": {},
     "output_type": "execute_result"
    }
   ],
   "source": [
    "setmai = trend2.mrkt.str.contains('mai')\n",
    "flt_setmai = trend2[setmai]\n",
    "flt_setmai[cols].sort_values(by=['percent','name'],ascending=[True,True]).style.format(format_dict)"
   ]
  },
  {
   "cell_type": "code",
   "execution_count": 24,
   "metadata": {},
   "outputs": [
    {
     "data": {
      "text/html": [
       "<style type=\"text/css\">\n",
       "</style>\n",
       "<table id=\"T_ef94c_\">\n",
       "  <thead>\n",
       "    <tr>\n",
       "      <th class=\"blank level0\" >&nbsp;</th>\n",
       "      <th class=\"col_heading level0 col0\" >perform</th>\n",
       "    </tr>\n",
       "  </thead>\n",
       "  <tbody>\n",
       "    <tr>\n",
       "      <th id=\"T_ef94c_level0_row0\" class=\"row_heading level0 row0\" >Better</th>\n",
       "      <td id=\"T_ef94c_row0_col0\" class=\"data row0 col0\" >100.00%</td>\n",
       "    </tr>\n",
       "  </tbody>\n",
       "</table>\n"
      ],
      "text/plain": [
       "<pandas.io.formats.style.Styler at 0x1a2de3fab50>"
      ]
     },
     "execution_count": 24,
     "metadata": {},
     "output_type": "execute_result"
    }
   ],
   "source": [
    "flt_setmai[cols].perform.value_counts(normalize=True).to_frame().style.format('{:.2%}')"
   ]
  },
  {
   "cell_type": "code",
   "execution_count": null,
   "metadata": {},
   "outputs": [],
   "source": []
  }
 ],
 "metadata": {
  "anaconda-cloud": {},
  "kernelspec": {
   "display_name": "Python 3 (ipykernel)",
   "language": "python",
   "name": "python3"
  },
  "language_info": {
   "codemirror_mode": {
    "name": "ipython",
    "version": 3
   },
   "file_extension": ".py",
   "mimetype": "text/x-python",
   "name": "python",
   "nbconvert_exporter": "python",
   "pygments_lexer": "ipython3",
   "version": "3.8.11"
  }
 },
 "nbformat": 4,
 "nbformat_minor": 1
}
