{
 "cells": [
  {
   "cell_type": "markdown",
   "metadata": {},
   "source": [
    "### portmy database: stocks table\n",
    "### stock database: buy, price tables"
   ]
  },
  {
   "cell_type": "code",
   "execution_count": 1,
   "metadata": {},
   "outputs": [
    {
     "data": {
      "text/plain": [
       "(datetime.date(2022, 5, 21), '2022-20')"
      ]
     },
     "execution_count": 1,
     "metadata": {},
     "output_type": "execute_result"
    }
   ],
   "source": [
    "import pandas as pd\n",
    "import numpy as np\n",
    "from datetime import date, timedelta\n",
    "from sqlalchemy import create_engine\n",
    "\n",
    "engine = create_engine(\"sqlite:///c:\\\\ruby\\\\portmy\\\\db\\\\development.sqlite3\")\n",
    "conmy = engine.connect()\n",
    "conmy = engine.connect()\n",
    "engine = create_engine(\"mysql+pymysql://root:@localhost:3306/stock\")\n",
    "const = engine.connect()\n",
    "\n",
    "pd.set_option('display.float_format','{:,.2f}'.format)\n",
    "\n",
    "data_path = \"../data/\"\n",
    "csv_path = \"\\\\Users\\\\User\\\\iCloudDrive\\\\\"\n",
    "box_path = \"\\\\Users\\\\User\\\\Dropbox\\\\\"\n",
    "\n",
    "today = date.today()\n",
    "week_str = today.strftime('%Y-%U')\n",
    "today, week_str"
   ]
  },
  {
   "cell_type": "markdown",
   "metadata": {},
   "source": [
    "### Process after last business day, today must be last business day"
   ]
  },
  {
   "cell_type": "code",
   "execution_count": 2,
   "metadata": {},
   "outputs": [
    {
     "data": {
      "text/plain": [
       "(datetime.date(2022, 5, 20), datetime.date(2022, 5, 13))"
      ]
     },
     "execution_count": 2,
     "metadata": {},
     "output_type": "execute_result"
    }
   ],
   "source": [
    "today = today - timedelta(days=1)\n",
    "wkago = today - timedelta(days=7)\n",
    "today, wkago"
   ]
  },
  {
   "cell_type": "markdown",
   "metadata": {},
   "source": [
    "### Restart & Run All Cells"
   ]
  },
  {
   "cell_type": "markdown",
   "metadata": {},
   "source": [
    "### This process affects only already in port stocks. To highlight price changes in percent."
   ]
  },
  {
   "cell_type": "code",
   "execution_count": 3,
   "metadata": {},
   "outputs": [],
   "source": [
    "cols = 'name price_d price_w percent perform mrkt '.split()"
   ]
  },
  {
   "cell_type": "code",
   "execution_count": 4,
   "metadata": {},
   "outputs": [],
   "source": [
    "format_dict = {\n",
    "    'qty':'{:,}',    \n",
    "    'price':'{:.2f}','price_d':'{:.2f}','price_w':'{:.2f}',\n",
    "    'max_price':'{:.2f}','min_price':'{:.2f}',\n",
    "    'maxp':'{:.2f}','minp':'{:.2f}','opnp':'{:.2f}',    \n",
    "    'pct':'{:,.2f}%','percent':'{:,.2f}%',\n",
    "    \n",
    "    'pe':'{:.2f}','pbv':'{:.2f}',\n",
    "    'paid_up':'{:,.2f}','market_cap':'{:,.2f}',\n",
    "    'daily_volume':'{:,.2f}','beta':'{:,.2f}', \n",
    "    'dly_vol':'{:,.2f}', \n",
    "}"
   ]
  },
  {
   "cell_type": "code",
   "execution_count": 5,
   "metadata": {},
   "outputs": [
    {
     "data": {
      "text/html": [
       "<style type=\"text/css\">\n",
       "</style>\n",
       "<table id=\"T_9e144_\">\n",
       "  <thead>\n",
       "    <tr>\n",
       "      <th class=\"blank level0\" >&nbsp;</th>\n",
       "      <th class=\"col_heading level0 col0\" >name</th>\n",
       "      <th class=\"col_heading level0 col1\" >date</th>\n",
       "      <th class=\"col_heading level0 col2\" >price</th>\n",
       "    </tr>\n",
       "  </thead>\n",
       "  <tbody>\n",
       "    <tr>\n",
       "      <th id=\"T_9e144_level0_row0\" class=\"row_heading level0 row0\" >0</th>\n",
       "      <td id=\"T_9e144_row0_col0\" class=\"data row0 col0\" >DCC</td>\n",
       "      <td id=\"T_9e144_row0_col1\" class=\"data row0 col1\" >2022-05-05</td>\n",
       "      <td id=\"T_9e144_row0_col2\" class=\"data row0 col2\" >2.96</td>\n",
       "    </tr>\n",
       "  </tbody>\n",
       "</table>\n"
      ],
      "text/plain": [
       "<pandas.io.formats.style.Styler at 0x212fb7bf100>"
      ]
     },
     "execution_count": 5,
     "metadata": {},
     "output_type": "execute_result"
    }
   ],
   "source": [
    "sql = \"\"\"\n",
    "SELECT name, date, price \n",
    "FROM buy \n",
    "ORDER BY date DESC \n",
    "LIMIT 1\n",
    "\"\"\"\n",
    "df_buy = pd.read_sql(sql, const)\n",
    "df_buy.style.format(format_dict)"
   ]
  },
  {
   "cell_type": "code",
   "execution_count": 6,
   "metadata": {},
   "outputs": [
    {
     "name": "stdout",
     "output_type": "stream",
     "text": [
      "\n",
      "SELECT * FROM stocks WHERE name = 'DCC'\n",
      "\n"
     ]
    },
    {
     "data": {
      "text/html": [
       "<style type=\"text/css\">\n",
       "</style>\n",
       "<table id=\"T_39f93_\">\n",
       "  <thead>\n",
       "    <tr>\n",
       "      <th class=\"blank level0\" >&nbsp;</th>\n",
       "      <th class=\"col_heading level0 col0\" >id</th>\n",
       "      <th class=\"col_heading level0 col1\" >name</th>\n",
       "      <th class=\"col_heading level0 col2\" >market</th>\n",
       "      <th class=\"col_heading level0 col3\" >price</th>\n",
       "      <th class=\"col_heading level0 col4\" >max_price</th>\n",
       "      <th class=\"col_heading level0 col5\" >min_price</th>\n",
       "      <th class=\"col_heading level0 col6\" >pe</th>\n",
       "      <th class=\"col_heading level0 col7\" >pbv</th>\n",
       "      <th class=\"col_heading level0 col8\" >paid_up</th>\n",
       "      <th class=\"col_heading level0 col9\" >market_cap</th>\n",
       "      <th class=\"col_heading level0 col10\" >daily_volume</th>\n",
       "      <th class=\"col_heading level0 col11\" >beta</th>\n",
       "      <th class=\"col_heading level0 col12\" >ticker_id</th>\n",
       "      <th class=\"col_heading level0 col13\" >created_at</th>\n",
       "      <th class=\"col_heading level0 col14\" >updated_at</th>\n",
       "    </tr>\n",
       "  </thead>\n",
       "  <tbody>\n",
       "    <tr>\n",
       "      <th id=\"T_39f93_level0_row0\" class=\"row_heading level0 row0\" >0</th>\n",
       "      <td id=\"T_39f93_row0_col0\" class=\"data row0 col0\" >135</td>\n",
       "      <td id=\"T_39f93_row0_col1\" class=\"data row0 col1\" >DCC</td>\n",
       "      <td id=\"T_39f93_row0_col2\" class=\"data row0 col2\" >SET</td>\n",
       "      <td id=\"T_39f93_row0_col3\" class=\"data row0 col3\" >2.80</td>\n",
       "      <td id=\"T_39f93_row0_col4\" class=\"data row0 col4\" >3.40</td>\n",
       "      <td id=\"T_39f93_row0_col5\" class=\"data row0 col5\" >2.70</td>\n",
       "      <td id=\"T_39f93_row0_col6\" class=\"data row0 col6\" >14.67</td>\n",
       "      <td id=\"T_39f93_row0_col7\" class=\"data row0 col7\" >4.32</td>\n",
       "      <td id=\"T_39f93_row0_col8\" class=\"data row0 col8\" >999.99</td>\n",
       "      <td id=\"T_39f93_row0_col9\" class=\"data row0 col9\" >25,551.71</td>\n",
       "      <td id=\"T_39f93_row0_col10\" class=\"data row0 col10\" >47,107.94</td>\n",
       "      <td id=\"T_39f93_row0_col11\" class=\"data row0 col11\" >0.06</td>\n",
       "      <td id=\"T_39f93_row0_col12\" class=\"data row0 col12\" >135</td>\n",
       "      <td id=\"T_39f93_row0_col13\" class=\"data row0 col13\" >2017-07-23 07:24:36.765074</td>\n",
       "      <td id=\"T_39f93_row0_col14\" class=\"data row0 col14\" >2022-05-21 08:59:30.634760</td>\n",
       "    </tr>\n",
       "  </tbody>\n",
       "</table>\n"
      ],
      "text/plain": [
       "<pandas.io.formats.style.Styler at 0x212ff4b9a30>"
      ]
     },
     "execution_count": 6,
     "metadata": {},
     "output_type": "execute_result"
    }
   ],
   "source": [
    "names = df_buy['name']\n",
    "name = names.to_string(index=False)\n",
    "\n",
    "sql = '''\n",
    "SELECT * FROM stocks WHERE name = '%s'\n",
    "'''\n",
    "sql = sql % name\n",
    "print(sql)\n",
    "\n",
    "df_stocks = pd.read_sql(sql, conmy)\n",
    "df_stocks.style.format(format_dict) "
   ]
  },
  {
   "cell_type": "code",
   "execution_count": 7,
   "metadata": {},
   "outputs": [
    {
     "name": "stdout",
     "output_type": "stream",
     "text": [
      "\n",
      "SELECT * FROM price WHERE name = \"DCC\" ORDER BY date DESC LIMIT 5\n",
      "\n"
     ]
    },
    {
     "data": {
      "text/html": [
       "<style type=\"text/css\">\n",
       "</style>\n",
       "<table id=\"T_c707c_\">\n",
       "  <thead>\n",
       "    <tr>\n",
       "      <th class=\"blank level0\" >&nbsp;</th>\n",
       "      <th class=\"col_heading level0 col0\" >name</th>\n",
       "      <th class=\"col_heading level0 col1\" >date</th>\n",
       "      <th class=\"col_heading level0 col2\" >price</th>\n",
       "      <th class=\"col_heading level0 col3\" >maxp</th>\n",
       "      <th class=\"col_heading level0 col4\" >minp</th>\n",
       "      <th class=\"col_heading level0 col5\" >qty</th>\n",
       "      <th class=\"col_heading level0 col6\" >opnp</th>\n",
       "    </tr>\n",
       "  </thead>\n",
       "  <tbody>\n",
       "    <tr>\n",
       "      <th id=\"T_c707c_level0_row0\" class=\"row_heading level0 row0\" >0</th>\n",
       "      <td id=\"T_c707c_row0_col0\" class=\"data row0 col0\" >DCC</td>\n",
       "      <td id=\"T_c707c_row0_col1\" class=\"data row0 col1\" >2022-05-20</td>\n",
       "      <td id=\"T_c707c_row0_col2\" class=\"data row0 col2\" >2.80</td>\n",
       "      <td id=\"T_c707c_row0_col3\" class=\"data row0 col3\" >2.82</td>\n",
       "      <td id=\"T_c707c_row0_col4\" class=\"data row0 col4\" >2.76</td>\n",
       "      <td id=\"T_c707c_row0_col5\" class=\"data row0 col5\" >16,903,539</td>\n",
       "      <td id=\"T_c707c_row0_col6\" class=\"data row0 col6\" >2.76</td>\n",
       "    </tr>\n",
       "    <tr>\n",
       "      <th id=\"T_c707c_level0_row1\" class=\"row_heading level0 row1\" >1</th>\n",
       "      <td id=\"T_c707c_row1_col0\" class=\"data row1 col0\" >DCC</td>\n",
       "      <td id=\"T_c707c_row1_col1\" class=\"data row1 col1\" >2022-05-19</td>\n",
       "      <td id=\"T_c707c_row1_col2\" class=\"data row1 col2\" >2.74</td>\n",
       "      <td id=\"T_c707c_row1_col3\" class=\"data row1 col3\" >2.78</td>\n",
       "      <td id=\"T_c707c_row1_col4\" class=\"data row1 col4\" >2.74</td>\n",
       "      <td id=\"T_c707c_row1_col5\" class=\"data row1 col5\" >46,973,487</td>\n",
       "      <td id=\"T_c707c_row1_col6\" class=\"data row1 col6\" >2.76</td>\n",
       "    </tr>\n",
       "    <tr>\n",
       "      <th id=\"T_c707c_level0_row2\" class=\"row_heading level0 row2\" >2</th>\n",
       "      <td id=\"T_c707c_row2_col0\" class=\"data row2 col0\" >DCC</td>\n",
       "      <td id=\"T_c707c_row2_col1\" class=\"data row2 col1\" >2022-05-18</td>\n",
       "      <td id=\"T_c707c_row2_col2\" class=\"data row2 col2\" >2.80</td>\n",
       "      <td id=\"T_c707c_row2_col3\" class=\"data row2 col3\" >2.84</td>\n",
       "      <td id=\"T_c707c_row2_col4\" class=\"data row2 col4\" >2.78</td>\n",
       "      <td id=\"T_c707c_row2_col5\" class=\"data row2 col5\" >11,276,667</td>\n",
       "      <td id=\"T_c707c_row2_col6\" class=\"data row2 col6\" >2.84</td>\n",
       "    </tr>\n",
       "    <tr>\n",
       "      <th id=\"T_c707c_level0_row3\" class=\"row_heading level0 row3\" >3</th>\n",
       "      <td id=\"T_c707c_row3_col0\" class=\"data row3 col0\" >DCC</td>\n",
       "      <td id=\"T_c707c_row3_col1\" class=\"data row3 col1\" >2022-05-17</td>\n",
       "      <td id=\"T_c707c_row3_col2\" class=\"data row3 col2\" >2.80</td>\n",
       "      <td id=\"T_c707c_row3_col3\" class=\"data row3 col3\" >2.80</td>\n",
       "      <td id=\"T_c707c_row3_col4\" class=\"data row3 col4\" >2.72</td>\n",
       "      <td id=\"T_c707c_row3_col5\" class=\"data row3 col5\" >21,061,451</td>\n",
       "      <td id=\"T_c707c_row3_col6\" class=\"data row3 col6\" >2.72</td>\n",
       "    </tr>\n",
       "    <tr>\n",
       "      <th id=\"T_c707c_level0_row4\" class=\"row_heading level0 row4\" >4</th>\n",
       "      <td id=\"T_c707c_row4_col0\" class=\"data row4 col0\" >DCC</td>\n",
       "      <td id=\"T_c707c_row4_col1\" class=\"data row4 col1\" >2022-05-13</td>\n",
       "      <td id=\"T_c707c_row4_col2\" class=\"data row4 col2\" >2.74</td>\n",
       "      <td id=\"T_c707c_row4_col3\" class=\"data row4 col3\" >2.80</td>\n",
       "      <td id=\"T_c707c_row4_col4\" class=\"data row4 col4\" >2.70</td>\n",
       "      <td id=\"T_c707c_row4_col5\" class=\"data row4 col5\" >42,871,901</td>\n",
       "      <td id=\"T_c707c_row4_col6\" class=\"data row4 col6\" >2.80</td>\n",
       "    </tr>\n",
       "  </tbody>\n",
       "</table>\n"
      ],
      "text/plain": [
       "<pandas.io.formats.style.Styler at 0x212fe4ac430>"
      ]
     },
     "execution_count": 7,
     "metadata": {},
     "output_type": "execute_result"
    }
   ],
   "source": [
    "sql = '''\n",
    "SELECT * FROM price WHERE name = \"%s\" ORDER BY date DESC LIMIT 5\n",
    "'''\n",
    "sql = sql % name\n",
    "print(sql)\n",
    "\n",
    "df_price = pd.read_sql(sql, const)\n",
    "df_price.style.format(format_dict)"
   ]
  },
  {
   "cell_type": "code",
   "execution_count": 8,
   "metadata": {},
   "outputs": [
    {
     "name": "stdout",
     "output_type": "stream",
     "text": [
      "\n",
      "SELECT name, price AS price_d \n",
      "FROM price \n",
      "WHERE date = '2022-05-20' AND name IN ('ASP', 'BCH', 'DCC', 'DIF', 'DOHOME', 'HREIT', 'IP', 'JASIF', 'KCE', 'MAKRO', 'MCS', 'NER', 'ORI', 'PTTGC', 'RCL', 'RJH', 'SCC', 'SCCC', 'SENA', 'STA', 'SYNEX', 'TISCO', 'TMT', 'TPIPL', 'WHART')\n",
      "ORDER BY name, date\n"
     ]
    },
    {
     "data": {
      "text/plain": [
       "25"
      ]
     },
     "execution_count": 8,
     "metadata": {},
     "output_type": "execute_result"
    }
   ],
   "source": [
    "sql = '''\n",
    "SELECT name\n",
    "FROM buy \n",
    "WHERE active = 1\n",
    "ORDER BY name'''\n",
    "df_price = pd.read_sql(sql, const)\n",
    "\n",
    "names = df_price.name.tolist()\n",
    "in_p = \", \".join(map(lambda name: \"'%s'\" % name, names))\n",
    "\n",
    "sql = \"\"\"\n",
    "SELECT name, price AS price_d \n",
    "FROM price \n",
    "WHERE date = '%s' AND name IN (%s)\n",
    "ORDER BY name, date\"\"\"\n",
    "sql = sql % (today, in_p)\n",
    "print(sql)\n",
    "\n",
    "df_today = pd.read_sql(sql, const)\n",
    "df_today.shape[0]"
   ]
  },
  {
   "cell_type": "code",
   "execution_count": 9,
   "metadata": {},
   "outputs": [
    {
     "name": "stdout",
     "output_type": "stream",
     "text": [
      "\n",
      "SELECT name, price AS price_w\n",
      "FROM price \n",
      "WHERE date = '2022-05-13' AND name IN ('ASP', 'BCH', 'DCC', 'DIF', 'DOHOME', 'HREIT', 'IP', 'JASIF', 'KCE', 'MAKRO', 'MCS', 'NER', 'ORI', 'PTTGC', 'RCL', 'RJH', 'SCC', 'SCCC', 'SENA', 'STA', 'SYNEX', 'TISCO', 'TMT', 'TPIPL', 'WHART') \n",
      "ORDER BY name\n"
     ]
    },
    {
     "data": {
      "text/plain": [
       "25"
      ]
     },
     "execution_count": 9,
     "metadata": {},
     "output_type": "execute_result"
    }
   ],
   "source": [
    "sql = \"\"\"\n",
    "SELECT name, price AS price_w\n",
    "FROM price \n",
    "WHERE date = '%s' AND name IN (%s) \n",
    "ORDER BY name\"\"\"\n",
    "sql = sql % (wkago, in_p)\n",
    "print(sql)\n",
    "\n",
    "df_wkago = pd.read_sql(sql, const)\n",
    "df_wkago.shape[0]"
   ]
  },
  {
   "cell_type": "code",
   "execution_count": 10,
   "metadata": {},
   "outputs": [
    {
     "data": {
      "text/plain": [
       "(25, 3)"
      ]
     },
     "execution_count": 10,
     "metadata": {},
     "output_type": "execute_result"
    }
   ],
   "source": [
    "trend = pd.merge(df_today, df_wkago, on='name',how='inner')\n",
    "trend.shape"
   ]
  },
  {
   "cell_type": "code",
   "execution_count": 11,
   "metadata": {},
   "outputs": [],
   "source": [
    "def performance(vals):\n",
    "    price_d, price_w = vals\n",
    "    if (price_d > price_w):\n",
    "        return 'Better'\n",
    "    elif (price_d < price_w):\n",
    "        return 'Worse'\n",
    "    else:\n",
    "        return 'No Change'"
   ]
  },
  {
   "cell_type": "code",
   "execution_count": 12,
   "metadata": {},
   "outputs": [],
   "source": [
    "trend['percent'] = (trend.price_d-trend.price_w)/trend.price_w * 100"
   ]
  },
  {
   "cell_type": "code",
   "execution_count": 13,
   "metadata": {},
   "outputs": [
    {
     "data": {
      "text/html": [
       "<div>\n",
       "<style scoped>\n",
       "    .dataframe tbody tr th:only-of-type {\n",
       "        vertical-align: middle;\n",
       "    }\n",
       "\n",
       "    .dataframe tbody tr th {\n",
       "        vertical-align: top;\n",
       "    }\n",
       "\n",
       "    .dataframe thead th {\n",
       "        text-align: right;\n",
       "    }\n",
       "</style>\n",
       "<table border=\"1\" class=\"dataframe\">\n",
       "  <thead>\n",
       "    <tr style=\"text-align: right;\">\n",
       "      <th></th>\n",
       "      <th>name</th>\n",
       "      <th>price_d</th>\n",
       "      <th>price_w</th>\n",
       "      <th>percent</th>\n",
       "    </tr>\n",
       "  </thead>\n",
       "  <tbody>\n",
       "    <tr>\n",
       "      <th>0</th>\n",
       "      <td>ASP</td>\n",
       "      <td>3.16</td>\n",
       "      <td>3.08</td>\n",
       "      <td>2.60</td>\n",
       "    </tr>\n",
       "    <tr>\n",
       "      <th>1</th>\n",
       "      <td>BCH</td>\n",
       "      <td>18.80</td>\n",
       "      <td>20.00</td>\n",
       "      <td>-6.00</td>\n",
       "    </tr>\n",
       "    <tr>\n",
       "      <th>2</th>\n",
       "      <td>DCC</td>\n",
       "      <td>2.80</td>\n",
       "      <td>2.74</td>\n",
       "      <td>2.19</td>\n",
       "    </tr>\n",
       "    <tr>\n",
       "      <th>3</th>\n",
       "      <td>DIF</td>\n",
       "      <td>14.00</td>\n",
       "      <td>14.30</td>\n",
       "      <td>-2.10</td>\n",
       "    </tr>\n",
       "    <tr>\n",
       "      <th>4</th>\n",
       "      <td>DOHOME</td>\n",
       "      <td>19.10</td>\n",
       "      <td>18.80</td>\n",
       "      <td>1.60</td>\n",
       "    </tr>\n",
       "    <tr>\n",
       "      <th>5</th>\n",
       "      <td>HREIT</td>\n",
       "      <td>8.45</td>\n",
       "      <td>8.35</td>\n",
       "      <td>1.20</td>\n",
       "    </tr>\n",
       "    <tr>\n",
       "      <th>6</th>\n",
       "      <td>IP</td>\n",
       "      <td>20.50</td>\n",
       "      <td>18.30</td>\n",
       "      <td>12.02</td>\n",
       "    </tr>\n",
       "    <tr>\n",
       "      <th>7</th>\n",
       "      <td>JASIF</td>\n",
       "      <td>10.90</td>\n",
       "      <td>11.00</td>\n",
       "      <td>-0.91</td>\n",
       "    </tr>\n",
       "    <tr>\n",
       "      <th>8</th>\n",
       "      <td>KCE</td>\n",
       "      <td>63.25</td>\n",
       "      <td>61.75</td>\n",
       "      <td>2.43</td>\n",
       "    </tr>\n",
       "    <tr>\n",
       "      <th>9</th>\n",
       "      <td>MAKRO</td>\n",
       "      <td>36.50</td>\n",
       "      <td>34.00</td>\n",
       "      <td>7.35</td>\n",
       "    </tr>\n",
       "    <tr>\n",
       "      <th>10</th>\n",
       "      <td>MCS</td>\n",
       "      <td>12.60</td>\n",
       "      <td>12.00</td>\n",
       "      <td>5.00</td>\n",
       "    </tr>\n",
       "    <tr>\n",
       "      <th>11</th>\n",
       "      <td>NER</td>\n",
       "      <td>6.60</td>\n",
       "      <td>6.50</td>\n",
       "      <td>1.54</td>\n",
       "    </tr>\n",
       "    <tr>\n",
       "      <th>12</th>\n",
       "      <td>ORI</td>\n",
       "      <td>9.80</td>\n",
       "      <td>9.30</td>\n",
       "      <td>5.38</td>\n",
       "    </tr>\n",
       "    <tr>\n",
       "      <th>13</th>\n",
       "      <td>PTTGC</td>\n",
       "      <td>46.50</td>\n",
       "      <td>44.25</td>\n",
       "      <td>5.08</td>\n",
       "    </tr>\n",
       "    <tr>\n",
       "      <th>14</th>\n",
       "      <td>RCL</td>\n",
       "      <td>46.75</td>\n",
       "      <td>45.50</td>\n",
       "      <td>2.75</td>\n",
       "    </tr>\n",
       "    <tr>\n",
       "      <th>15</th>\n",
       "      <td>RJH</td>\n",
       "      <td>33.25</td>\n",
       "      <td>33.00</td>\n",
       "      <td>0.76</td>\n",
       "    </tr>\n",
       "    <tr>\n",
       "      <th>16</th>\n",
       "      <td>SCC</td>\n",
       "      <td>361.00</td>\n",
       "      <td>358.00</td>\n",
       "      <td>0.84</td>\n",
       "    </tr>\n",
       "    <tr>\n",
       "      <th>17</th>\n",
       "      <td>SCCC</td>\n",
       "      <td>149.50</td>\n",
       "      <td>147.50</td>\n",
       "      <td>1.36</td>\n",
       "    </tr>\n",
       "    <tr>\n",
       "      <th>18</th>\n",
       "      <td>SENA</td>\n",
       "      <td>3.94</td>\n",
       "      <td>3.92</td>\n",
       "      <td>0.51</td>\n",
       "    </tr>\n",
       "    <tr>\n",
       "      <th>19</th>\n",
       "      <td>STA</td>\n",
       "      <td>23.80</td>\n",
       "      <td>22.80</td>\n",
       "      <td>4.39</td>\n",
       "    </tr>\n",
       "    <tr>\n",
       "      <th>20</th>\n",
       "      <td>SYNEX</td>\n",
       "      <td>21.70</td>\n",
       "      <td>20.60</td>\n",
       "      <td>5.34</td>\n",
       "    </tr>\n",
       "    <tr>\n",
       "      <th>21</th>\n",
       "      <td>TISCO</td>\n",
       "      <td>89.50</td>\n",
       "      <td>89.25</td>\n",
       "      <td>0.28</td>\n",
       "    </tr>\n",
       "    <tr>\n",
       "      <th>22</th>\n",
       "      <td>TMT</td>\n",
       "      <td>9.20</td>\n",
       "      <td>9.15</td>\n",
       "      <td>0.55</td>\n",
       "    </tr>\n",
       "    <tr>\n",
       "      <th>23</th>\n",
       "      <td>TPIPL</td>\n",
       "      <td>1.53</td>\n",
       "      <td>1.43</td>\n",
       "      <td>6.99</td>\n",
       "    </tr>\n",
       "    <tr>\n",
       "      <th>24</th>\n",
       "      <td>WHART</td>\n",
       "      <td>10.60</td>\n",
       "      <td>10.60</td>\n",
       "      <td>0.00</td>\n",
       "    </tr>\n",
       "  </tbody>\n",
       "</table>\n",
       "</div>"
      ],
      "text/plain": [
       "      name  price_d  price_w  percent\n",
       "0      ASP     3.16     3.08     2.60\n",
       "1      BCH    18.80    20.00    -6.00\n",
       "2      DCC     2.80     2.74     2.19\n",
       "3      DIF    14.00    14.30    -2.10\n",
       "4   DOHOME    19.10    18.80     1.60\n",
       "5    HREIT     8.45     8.35     1.20\n",
       "6       IP    20.50    18.30    12.02\n",
       "7    JASIF    10.90    11.00    -0.91\n",
       "8      KCE    63.25    61.75     2.43\n",
       "9    MAKRO    36.50    34.00     7.35\n",
       "10     MCS    12.60    12.00     5.00\n",
       "11     NER     6.60     6.50     1.54\n",
       "12     ORI     9.80     9.30     5.38\n",
       "13   PTTGC    46.50    44.25     5.08\n",
       "14     RCL    46.75    45.50     2.75\n",
       "15     RJH    33.25    33.00     0.76\n",
       "16     SCC   361.00   358.00     0.84\n",
       "17    SCCC   149.50   147.50     1.36\n",
       "18    SENA     3.94     3.92     0.51\n",
       "19     STA    23.80    22.80     4.39\n",
       "20   SYNEX    21.70    20.60     5.34\n",
       "21   TISCO    89.50    89.25     0.28\n",
       "22     TMT     9.20     9.15     0.55\n",
       "23   TPIPL     1.53     1.43     6.99\n",
       "24   WHART    10.60    10.60     0.00"
      ]
     },
     "execution_count": 13,
     "metadata": {},
     "output_type": "execute_result"
    }
   ],
   "source": [
    "trend"
   ]
  },
  {
   "cell_type": "code",
   "execution_count": 14,
   "metadata": {},
   "outputs": [],
   "source": [
    "trend[\"perform\"] = trend[[\"price_d\",\"price_w\"]].apply(performance, axis=1)"
   ]
  },
  {
   "cell_type": "code",
   "execution_count": 15,
   "metadata": {},
   "outputs": [
    {
     "data": {
      "text/html": [
       "<style type=\"text/css\">\n",
       "</style>\n",
       "<table id=\"T_bf55e_\">\n",
       "  <thead>\n",
       "    <tr>\n",
       "      <th class=\"blank level0\" >&nbsp;</th>\n",
       "      <th class=\"col_heading level0 col0\" >name</th>\n",
       "      <th class=\"col_heading level0 col1\" >price_d</th>\n",
       "      <th class=\"col_heading level0 col2\" >price_w</th>\n",
       "      <th class=\"col_heading level0 col3\" >percent</th>\n",
       "      <th class=\"col_heading level0 col4\" >perform</th>\n",
       "    </tr>\n",
       "  </thead>\n",
       "  <tbody>\n",
       "    <tr>\n",
       "      <th id=\"T_bf55e_level0_row0\" class=\"row_heading level0 row0\" >1</th>\n",
       "      <td id=\"T_bf55e_row0_col0\" class=\"data row0 col0\" >BCH</td>\n",
       "      <td id=\"T_bf55e_row0_col1\" class=\"data row0 col1\" >18.80</td>\n",
       "      <td id=\"T_bf55e_row0_col2\" class=\"data row0 col2\" >20.00</td>\n",
       "      <td id=\"T_bf55e_row0_col3\" class=\"data row0 col3\" >-6.00%</td>\n",
       "      <td id=\"T_bf55e_row0_col4\" class=\"data row0 col4\" >Worse</td>\n",
       "    </tr>\n",
       "    <tr>\n",
       "      <th id=\"T_bf55e_level0_row1\" class=\"row_heading level0 row1\" >3</th>\n",
       "      <td id=\"T_bf55e_row1_col0\" class=\"data row1 col0\" >DIF</td>\n",
       "      <td id=\"T_bf55e_row1_col1\" class=\"data row1 col1\" >14.00</td>\n",
       "      <td id=\"T_bf55e_row1_col2\" class=\"data row1 col2\" >14.30</td>\n",
       "      <td id=\"T_bf55e_row1_col3\" class=\"data row1 col3\" >-2.10%</td>\n",
       "      <td id=\"T_bf55e_row1_col4\" class=\"data row1 col4\" >Worse</td>\n",
       "    </tr>\n",
       "    <tr>\n",
       "      <th id=\"T_bf55e_level0_row2\" class=\"row_heading level0 row2\" >7</th>\n",
       "      <td id=\"T_bf55e_row2_col0\" class=\"data row2 col0\" >JASIF</td>\n",
       "      <td id=\"T_bf55e_row2_col1\" class=\"data row2 col1\" >10.90</td>\n",
       "      <td id=\"T_bf55e_row2_col2\" class=\"data row2 col2\" >11.00</td>\n",
       "      <td id=\"T_bf55e_row2_col3\" class=\"data row2 col3\" >-0.91%</td>\n",
       "      <td id=\"T_bf55e_row2_col4\" class=\"data row2 col4\" >Worse</td>\n",
       "    </tr>\n",
       "    <tr>\n",
       "      <th id=\"T_bf55e_level0_row3\" class=\"row_heading level0 row3\" >24</th>\n",
       "      <td id=\"T_bf55e_row3_col0\" class=\"data row3 col0\" >WHART</td>\n",
       "      <td id=\"T_bf55e_row3_col1\" class=\"data row3 col1\" >10.60</td>\n",
       "      <td id=\"T_bf55e_row3_col2\" class=\"data row3 col2\" >10.60</td>\n",
       "      <td id=\"T_bf55e_row3_col3\" class=\"data row3 col3\" >0.00%</td>\n",
       "      <td id=\"T_bf55e_row3_col4\" class=\"data row3 col4\" >No Change</td>\n",
       "    </tr>\n",
       "    <tr>\n",
       "      <th id=\"T_bf55e_level0_row4\" class=\"row_heading level0 row4\" >21</th>\n",
       "      <td id=\"T_bf55e_row4_col0\" class=\"data row4 col0\" >TISCO</td>\n",
       "      <td id=\"T_bf55e_row4_col1\" class=\"data row4 col1\" >89.50</td>\n",
       "      <td id=\"T_bf55e_row4_col2\" class=\"data row4 col2\" >89.25</td>\n",
       "      <td id=\"T_bf55e_row4_col3\" class=\"data row4 col3\" >0.28%</td>\n",
       "      <td id=\"T_bf55e_row4_col4\" class=\"data row4 col4\" >Better</td>\n",
       "    </tr>\n",
       "    <tr>\n",
       "      <th id=\"T_bf55e_level0_row5\" class=\"row_heading level0 row5\" >18</th>\n",
       "      <td id=\"T_bf55e_row5_col0\" class=\"data row5 col0\" >SENA</td>\n",
       "      <td id=\"T_bf55e_row5_col1\" class=\"data row5 col1\" >3.94</td>\n",
       "      <td id=\"T_bf55e_row5_col2\" class=\"data row5 col2\" >3.92</td>\n",
       "      <td id=\"T_bf55e_row5_col3\" class=\"data row5 col3\" >0.51%</td>\n",
       "      <td id=\"T_bf55e_row5_col4\" class=\"data row5 col4\" >Better</td>\n",
       "    </tr>\n",
       "    <tr>\n",
       "      <th id=\"T_bf55e_level0_row6\" class=\"row_heading level0 row6\" >22</th>\n",
       "      <td id=\"T_bf55e_row6_col0\" class=\"data row6 col0\" >TMT</td>\n",
       "      <td id=\"T_bf55e_row6_col1\" class=\"data row6 col1\" >9.20</td>\n",
       "      <td id=\"T_bf55e_row6_col2\" class=\"data row6 col2\" >9.15</td>\n",
       "      <td id=\"T_bf55e_row6_col3\" class=\"data row6 col3\" >0.55%</td>\n",
       "      <td id=\"T_bf55e_row6_col4\" class=\"data row6 col4\" >Better</td>\n",
       "    </tr>\n",
       "    <tr>\n",
       "      <th id=\"T_bf55e_level0_row7\" class=\"row_heading level0 row7\" >15</th>\n",
       "      <td id=\"T_bf55e_row7_col0\" class=\"data row7 col0\" >RJH</td>\n",
       "      <td id=\"T_bf55e_row7_col1\" class=\"data row7 col1\" >33.25</td>\n",
       "      <td id=\"T_bf55e_row7_col2\" class=\"data row7 col2\" >33.00</td>\n",
       "      <td id=\"T_bf55e_row7_col3\" class=\"data row7 col3\" >0.76%</td>\n",
       "      <td id=\"T_bf55e_row7_col4\" class=\"data row7 col4\" >Better</td>\n",
       "    </tr>\n",
       "    <tr>\n",
       "      <th id=\"T_bf55e_level0_row8\" class=\"row_heading level0 row8\" >16</th>\n",
       "      <td id=\"T_bf55e_row8_col0\" class=\"data row8 col0\" >SCC</td>\n",
       "      <td id=\"T_bf55e_row8_col1\" class=\"data row8 col1\" >361.00</td>\n",
       "      <td id=\"T_bf55e_row8_col2\" class=\"data row8 col2\" >358.00</td>\n",
       "      <td id=\"T_bf55e_row8_col3\" class=\"data row8 col3\" >0.84%</td>\n",
       "      <td id=\"T_bf55e_row8_col4\" class=\"data row8 col4\" >Better</td>\n",
       "    </tr>\n",
       "    <tr>\n",
       "      <th id=\"T_bf55e_level0_row9\" class=\"row_heading level0 row9\" >5</th>\n",
       "      <td id=\"T_bf55e_row9_col0\" class=\"data row9 col0\" >HREIT</td>\n",
       "      <td id=\"T_bf55e_row9_col1\" class=\"data row9 col1\" >8.45</td>\n",
       "      <td id=\"T_bf55e_row9_col2\" class=\"data row9 col2\" >8.35</td>\n",
       "      <td id=\"T_bf55e_row9_col3\" class=\"data row9 col3\" >1.20%</td>\n",
       "      <td id=\"T_bf55e_row9_col4\" class=\"data row9 col4\" >Better</td>\n",
       "    </tr>\n",
       "    <tr>\n",
       "      <th id=\"T_bf55e_level0_row10\" class=\"row_heading level0 row10\" >17</th>\n",
       "      <td id=\"T_bf55e_row10_col0\" class=\"data row10 col0\" >SCCC</td>\n",
       "      <td id=\"T_bf55e_row10_col1\" class=\"data row10 col1\" >149.50</td>\n",
       "      <td id=\"T_bf55e_row10_col2\" class=\"data row10 col2\" >147.50</td>\n",
       "      <td id=\"T_bf55e_row10_col3\" class=\"data row10 col3\" >1.36%</td>\n",
       "      <td id=\"T_bf55e_row10_col4\" class=\"data row10 col4\" >Better</td>\n",
       "    </tr>\n",
       "    <tr>\n",
       "      <th id=\"T_bf55e_level0_row11\" class=\"row_heading level0 row11\" >11</th>\n",
       "      <td id=\"T_bf55e_row11_col0\" class=\"data row11 col0\" >NER</td>\n",
       "      <td id=\"T_bf55e_row11_col1\" class=\"data row11 col1\" >6.60</td>\n",
       "      <td id=\"T_bf55e_row11_col2\" class=\"data row11 col2\" >6.50</td>\n",
       "      <td id=\"T_bf55e_row11_col3\" class=\"data row11 col3\" >1.54%</td>\n",
       "      <td id=\"T_bf55e_row11_col4\" class=\"data row11 col4\" >Better</td>\n",
       "    </tr>\n",
       "    <tr>\n",
       "      <th id=\"T_bf55e_level0_row12\" class=\"row_heading level0 row12\" >4</th>\n",
       "      <td id=\"T_bf55e_row12_col0\" class=\"data row12 col0\" >DOHOME</td>\n",
       "      <td id=\"T_bf55e_row12_col1\" class=\"data row12 col1\" >19.10</td>\n",
       "      <td id=\"T_bf55e_row12_col2\" class=\"data row12 col2\" >18.80</td>\n",
       "      <td id=\"T_bf55e_row12_col3\" class=\"data row12 col3\" >1.60%</td>\n",
       "      <td id=\"T_bf55e_row12_col4\" class=\"data row12 col4\" >Better</td>\n",
       "    </tr>\n",
       "    <tr>\n",
       "      <th id=\"T_bf55e_level0_row13\" class=\"row_heading level0 row13\" >2</th>\n",
       "      <td id=\"T_bf55e_row13_col0\" class=\"data row13 col0\" >DCC</td>\n",
       "      <td id=\"T_bf55e_row13_col1\" class=\"data row13 col1\" >2.80</td>\n",
       "      <td id=\"T_bf55e_row13_col2\" class=\"data row13 col2\" >2.74</td>\n",
       "      <td id=\"T_bf55e_row13_col3\" class=\"data row13 col3\" >2.19%</td>\n",
       "      <td id=\"T_bf55e_row13_col4\" class=\"data row13 col4\" >Better</td>\n",
       "    </tr>\n",
       "    <tr>\n",
       "      <th id=\"T_bf55e_level0_row14\" class=\"row_heading level0 row14\" >8</th>\n",
       "      <td id=\"T_bf55e_row14_col0\" class=\"data row14 col0\" >KCE</td>\n",
       "      <td id=\"T_bf55e_row14_col1\" class=\"data row14 col1\" >63.25</td>\n",
       "      <td id=\"T_bf55e_row14_col2\" class=\"data row14 col2\" >61.75</td>\n",
       "      <td id=\"T_bf55e_row14_col3\" class=\"data row14 col3\" >2.43%</td>\n",
       "      <td id=\"T_bf55e_row14_col4\" class=\"data row14 col4\" >Better</td>\n",
       "    </tr>\n",
       "    <tr>\n",
       "      <th id=\"T_bf55e_level0_row15\" class=\"row_heading level0 row15\" >0</th>\n",
       "      <td id=\"T_bf55e_row15_col0\" class=\"data row15 col0\" >ASP</td>\n",
       "      <td id=\"T_bf55e_row15_col1\" class=\"data row15 col1\" >3.16</td>\n",
       "      <td id=\"T_bf55e_row15_col2\" class=\"data row15 col2\" >3.08</td>\n",
       "      <td id=\"T_bf55e_row15_col3\" class=\"data row15 col3\" >2.60%</td>\n",
       "      <td id=\"T_bf55e_row15_col4\" class=\"data row15 col4\" >Better</td>\n",
       "    </tr>\n",
       "    <tr>\n",
       "      <th id=\"T_bf55e_level0_row16\" class=\"row_heading level0 row16\" >14</th>\n",
       "      <td id=\"T_bf55e_row16_col0\" class=\"data row16 col0\" >RCL</td>\n",
       "      <td id=\"T_bf55e_row16_col1\" class=\"data row16 col1\" >46.75</td>\n",
       "      <td id=\"T_bf55e_row16_col2\" class=\"data row16 col2\" >45.50</td>\n",
       "      <td id=\"T_bf55e_row16_col3\" class=\"data row16 col3\" >2.75%</td>\n",
       "      <td id=\"T_bf55e_row16_col4\" class=\"data row16 col4\" >Better</td>\n",
       "    </tr>\n",
       "    <tr>\n",
       "      <th id=\"T_bf55e_level0_row17\" class=\"row_heading level0 row17\" >19</th>\n",
       "      <td id=\"T_bf55e_row17_col0\" class=\"data row17 col0\" >STA</td>\n",
       "      <td id=\"T_bf55e_row17_col1\" class=\"data row17 col1\" >23.80</td>\n",
       "      <td id=\"T_bf55e_row17_col2\" class=\"data row17 col2\" >22.80</td>\n",
       "      <td id=\"T_bf55e_row17_col3\" class=\"data row17 col3\" >4.39%</td>\n",
       "      <td id=\"T_bf55e_row17_col4\" class=\"data row17 col4\" >Better</td>\n",
       "    </tr>\n",
       "    <tr>\n",
       "      <th id=\"T_bf55e_level0_row18\" class=\"row_heading level0 row18\" >10</th>\n",
       "      <td id=\"T_bf55e_row18_col0\" class=\"data row18 col0\" >MCS</td>\n",
       "      <td id=\"T_bf55e_row18_col1\" class=\"data row18 col1\" >12.60</td>\n",
       "      <td id=\"T_bf55e_row18_col2\" class=\"data row18 col2\" >12.00</td>\n",
       "      <td id=\"T_bf55e_row18_col3\" class=\"data row18 col3\" >5.00%</td>\n",
       "      <td id=\"T_bf55e_row18_col4\" class=\"data row18 col4\" >Better</td>\n",
       "    </tr>\n",
       "    <tr>\n",
       "      <th id=\"T_bf55e_level0_row19\" class=\"row_heading level0 row19\" >13</th>\n",
       "      <td id=\"T_bf55e_row19_col0\" class=\"data row19 col0\" >PTTGC</td>\n",
       "      <td id=\"T_bf55e_row19_col1\" class=\"data row19 col1\" >46.50</td>\n",
       "      <td id=\"T_bf55e_row19_col2\" class=\"data row19 col2\" >44.25</td>\n",
       "      <td id=\"T_bf55e_row19_col3\" class=\"data row19 col3\" >5.08%</td>\n",
       "      <td id=\"T_bf55e_row19_col4\" class=\"data row19 col4\" >Better</td>\n",
       "    </tr>\n",
       "    <tr>\n",
       "      <th id=\"T_bf55e_level0_row20\" class=\"row_heading level0 row20\" >20</th>\n",
       "      <td id=\"T_bf55e_row20_col0\" class=\"data row20 col0\" >SYNEX</td>\n",
       "      <td id=\"T_bf55e_row20_col1\" class=\"data row20 col1\" >21.70</td>\n",
       "      <td id=\"T_bf55e_row20_col2\" class=\"data row20 col2\" >20.60</td>\n",
       "      <td id=\"T_bf55e_row20_col3\" class=\"data row20 col3\" >5.34%</td>\n",
       "      <td id=\"T_bf55e_row20_col4\" class=\"data row20 col4\" >Better</td>\n",
       "    </tr>\n",
       "    <tr>\n",
       "      <th id=\"T_bf55e_level0_row21\" class=\"row_heading level0 row21\" >12</th>\n",
       "      <td id=\"T_bf55e_row21_col0\" class=\"data row21 col0\" >ORI</td>\n",
       "      <td id=\"T_bf55e_row21_col1\" class=\"data row21 col1\" >9.80</td>\n",
       "      <td id=\"T_bf55e_row21_col2\" class=\"data row21 col2\" >9.30</td>\n",
       "      <td id=\"T_bf55e_row21_col3\" class=\"data row21 col3\" >5.38%</td>\n",
       "      <td id=\"T_bf55e_row21_col4\" class=\"data row21 col4\" >Better</td>\n",
       "    </tr>\n",
       "    <tr>\n",
       "      <th id=\"T_bf55e_level0_row22\" class=\"row_heading level0 row22\" >23</th>\n",
       "      <td id=\"T_bf55e_row22_col0\" class=\"data row22 col0\" >TPIPL</td>\n",
       "      <td id=\"T_bf55e_row22_col1\" class=\"data row22 col1\" >1.53</td>\n",
       "      <td id=\"T_bf55e_row22_col2\" class=\"data row22 col2\" >1.43</td>\n",
       "      <td id=\"T_bf55e_row22_col3\" class=\"data row22 col3\" >6.99%</td>\n",
       "      <td id=\"T_bf55e_row22_col4\" class=\"data row22 col4\" >Better</td>\n",
       "    </tr>\n",
       "    <tr>\n",
       "      <th id=\"T_bf55e_level0_row23\" class=\"row_heading level0 row23\" >9</th>\n",
       "      <td id=\"T_bf55e_row23_col0\" class=\"data row23 col0\" >MAKRO</td>\n",
       "      <td id=\"T_bf55e_row23_col1\" class=\"data row23 col1\" >36.50</td>\n",
       "      <td id=\"T_bf55e_row23_col2\" class=\"data row23 col2\" >34.00</td>\n",
       "      <td id=\"T_bf55e_row23_col3\" class=\"data row23 col3\" >7.35%</td>\n",
       "      <td id=\"T_bf55e_row23_col4\" class=\"data row23 col4\" >Better</td>\n",
       "    </tr>\n",
       "    <tr>\n",
       "      <th id=\"T_bf55e_level0_row24\" class=\"row_heading level0 row24\" >6</th>\n",
       "      <td id=\"T_bf55e_row24_col0\" class=\"data row24 col0\" >IP</td>\n",
       "      <td id=\"T_bf55e_row24_col1\" class=\"data row24 col1\" >20.50</td>\n",
       "      <td id=\"T_bf55e_row24_col2\" class=\"data row24 col2\" >18.30</td>\n",
       "      <td id=\"T_bf55e_row24_col3\" class=\"data row24 col3\" >12.02%</td>\n",
       "      <td id=\"T_bf55e_row24_col4\" class=\"data row24 col4\" >Better</td>\n",
       "    </tr>\n",
       "  </tbody>\n",
       "</table>\n"
      ],
      "text/plain": [
       "<pandas.io.formats.style.Styler at 0x212ff511df0>"
      ]
     },
     "execution_count": 15,
     "metadata": {},
     "output_type": "execute_result"
    }
   ],
   "source": [
    "trend.sort_values(by=['percent'],ascending=[True]).style.format(format_dict)"
   ]
  },
  {
   "cell_type": "code",
   "execution_count": 16,
   "metadata": {},
   "outputs": [
    {
     "data": {
      "text/html": [
       "<style type=\"text/css\">\n",
       "</style>\n",
       "<table id=\"T_f70c4_\">\n",
       "  <thead>\n",
       "    <tr>\n",
       "      <th class=\"blank level0\" >&nbsp;</th>\n",
       "      <th class=\"col_heading level0 col0\" >perform</th>\n",
       "    </tr>\n",
       "  </thead>\n",
       "  <tbody>\n",
       "    <tr>\n",
       "      <th id=\"T_f70c4_level0_row0\" class=\"row_heading level0 row0\" >Better</th>\n",
       "      <td id=\"T_f70c4_row0_col0\" class=\"data row0 col0\" >84.00%</td>\n",
       "    </tr>\n",
       "    <tr>\n",
       "      <th id=\"T_f70c4_level0_row1\" class=\"row_heading level0 row1\" >Worse</th>\n",
       "      <td id=\"T_f70c4_row1_col0\" class=\"data row1 col0\" >12.00%</td>\n",
       "    </tr>\n",
       "    <tr>\n",
       "      <th id=\"T_f70c4_level0_row2\" class=\"row_heading level0 row2\" >No Change</th>\n",
       "      <td id=\"T_f70c4_row2_col0\" class=\"data row2 col0\" >4.00%</td>\n",
       "    </tr>\n",
       "  </tbody>\n",
       "</table>\n"
      ],
      "text/plain": [
       "<pandas.io.formats.style.Styler at 0x212ff558700>"
      ]
     },
     "execution_count": 16,
     "metadata": {},
     "output_type": "execute_result"
    }
   ],
   "source": [
    "trend.perform.value_counts(normalize=True).to_frame().style.format('{:.2%}')"
   ]
  },
  {
   "cell_type": "code",
   "execution_count": 17,
   "metadata": {},
   "outputs": [
    {
     "data": {
      "text/plain": [
       "(252, 8)"
      ]
     },
     "execution_count": 17,
     "metadata": {},
     "output_type": "execute_result"
    }
   ],
   "source": [
    "sql = '''\n",
    "SELECT name, max_price AS max, min_price AS min, pe, pbv, daily_volume AS volume, beta, market\n",
    "FROM stocks\n",
    "'''\n",
    "my_stocks = pd.read_sql(sql, conmy)\n",
    "my_stocks.shape"
   ]
  },
  {
   "cell_type": "code",
   "execution_count": 18,
   "metadata": {},
   "outputs": [],
   "source": [
    "filters = [\n",
    "   (my_stocks.market.str.contains('SET50')),\n",
    "   (my_stocks.market.str.contains('SET100')),\n",
    "   (my_stocks.market.str.contains('mai'))]\n",
    "values = ['SET50','SET100','mai']\n",
    "my_stocks[\"mrkt\"] = np.select(filters, values, default='SET999')"
   ]
  },
  {
   "cell_type": "code",
   "execution_count": 19,
   "metadata": {},
   "outputs": [
    {
     "data": {
      "text/plain": [
       "(25, 13)"
      ]
     },
     "execution_count": 19,
     "metadata": {},
     "output_type": "execute_result"
    }
   ],
   "source": [
    "trend2 = pd.merge(trend, my_stocks, on='name', how='inner')\n",
    "trend2.sort_values(['percent'],ascending=[True]).shape"
   ]
  },
  {
   "cell_type": "code",
   "execution_count": 20,
   "metadata": {},
   "outputs": [
    {
     "data": {
      "text/html": [
       "<style type=\"text/css\">\n",
       "</style>\n",
       "<table id=\"T_3b301_\">\n",
       "  <thead>\n",
       "    <tr>\n",
       "      <th class=\"blank level0\" >&nbsp;</th>\n",
       "      <th class=\"col_heading level0 col0\" >name</th>\n",
       "      <th class=\"col_heading level0 col1\" >price_d</th>\n",
       "      <th class=\"col_heading level0 col2\" >price_w</th>\n",
       "      <th class=\"col_heading level0 col3\" >percent</th>\n",
       "      <th class=\"col_heading level0 col4\" >perform</th>\n",
       "      <th class=\"col_heading level0 col5\" >mrkt</th>\n",
       "    </tr>\n",
       "  </thead>\n",
       "  <tbody>\n",
       "    <tr>\n",
       "      <th id=\"T_3b301_level0_row0\" class=\"row_heading level0 row0\" >21</th>\n",
       "      <td id=\"T_3b301_row0_col0\" class=\"data row0 col0\" >TISCO</td>\n",
       "      <td id=\"T_3b301_row0_col1\" class=\"data row0 col1\" >89.50</td>\n",
       "      <td id=\"T_3b301_row0_col2\" class=\"data row0 col2\" >89.25</td>\n",
       "      <td id=\"T_3b301_row0_col3\" class=\"data row0 col3\" >0.28%</td>\n",
       "      <td id=\"T_3b301_row0_col4\" class=\"data row0 col4\" >Better</td>\n",
       "      <td id=\"T_3b301_row0_col5\" class=\"data row0 col5\" >SET50</td>\n",
       "    </tr>\n",
       "    <tr>\n",
       "      <th id=\"T_3b301_level0_row1\" class=\"row_heading level0 row1\" >16</th>\n",
       "      <td id=\"T_3b301_row1_col0\" class=\"data row1 col0\" >SCC</td>\n",
       "      <td id=\"T_3b301_row1_col1\" class=\"data row1 col1\" >361.00</td>\n",
       "      <td id=\"T_3b301_row1_col2\" class=\"data row1 col2\" >358.00</td>\n",
       "      <td id=\"T_3b301_row1_col3\" class=\"data row1 col3\" >0.84%</td>\n",
       "      <td id=\"T_3b301_row1_col4\" class=\"data row1 col4\" >Better</td>\n",
       "      <td id=\"T_3b301_row1_col5\" class=\"data row1 col5\" >SET50</td>\n",
       "    </tr>\n",
       "    <tr>\n",
       "      <th id=\"T_3b301_level0_row2\" class=\"row_heading level0 row2\" >8</th>\n",
       "      <td id=\"T_3b301_row2_col0\" class=\"data row2 col0\" >KCE</td>\n",
       "      <td id=\"T_3b301_row2_col1\" class=\"data row2 col1\" >63.25</td>\n",
       "      <td id=\"T_3b301_row2_col2\" class=\"data row2 col2\" >61.75</td>\n",
       "      <td id=\"T_3b301_row2_col3\" class=\"data row2 col3\" >2.43%</td>\n",
       "      <td id=\"T_3b301_row2_col4\" class=\"data row2 col4\" >Better</td>\n",
       "      <td id=\"T_3b301_row2_col5\" class=\"data row2 col5\" >SET50</td>\n",
       "    </tr>\n",
       "    <tr>\n",
       "      <th id=\"T_3b301_level0_row3\" class=\"row_heading level0 row3\" >13</th>\n",
       "      <td id=\"T_3b301_row3_col0\" class=\"data row3 col0\" >PTTGC</td>\n",
       "      <td id=\"T_3b301_row3_col1\" class=\"data row3 col1\" >46.50</td>\n",
       "      <td id=\"T_3b301_row3_col2\" class=\"data row3 col2\" >44.25</td>\n",
       "      <td id=\"T_3b301_row3_col3\" class=\"data row3 col3\" >5.08%</td>\n",
       "      <td id=\"T_3b301_row3_col4\" class=\"data row3 col4\" >Better</td>\n",
       "      <td id=\"T_3b301_row3_col5\" class=\"data row3 col5\" >SET50</td>\n",
       "    </tr>\n",
       "  </tbody>\n",
       "</table>\n"
      ],
      "text/plain": [
       "<pandas.io.formats.style.Styler at 0x212ff566580>"
      ]
     },
     "execution_count": 20,
     "metadata": {},
     "output_type": "execute_result"
    }
   ],
   "source": [
    "set50 = trend2.mrkt.str.contains('SET50') \n",
    "flt_set50 = trend2[set50]\n",
    "flt_set50[cols].sort_values(by=['percent','name'],ascending=[True,True]).style.format(format_dict)"
   ]
  },
  {
   "cell_type": "code",
   "execution_count": 21,
   "metadata": {},
   "outputs": [
    {
     "data": {
      "text/html": [
       "<style type=\"text/css\">\n",
       "</style>\n",
       "<table id=\"T_7c7c1_\">\n",
       "  <thead>\n",
       "    <tr>\n",
       "      <th class=\"blank level0\" >&nbsp;</th>\n",
       "      <th class=\"col_heading level0 col0\" >perform</th>\n",
       "    </tr>\n",
       "  </thead>\n",
       "  <tbody>\n",
       "    <tr>\n",
       "      <th id=\"T_7c7c1_level0_row0\" class=\"row_heading level0 row0\" >Better</th>\n",
       "      <td id=\"T_7c7c1_row0_col0\" class=\"data row0 col0\" >100.00%</td>\n",
       "    </tr>\n",
       "  </tbody>\n",
       "</table>\n"
      ],
      "text/plain": [
       "<pandas.io.formats.style.Styler at 0x212ff558f10>"
      ]
     },
     "execution_count": 21,
     "metadata": {},
     "output_type": "execute_result"
    }
   ],
   "source": [
    "flt_set50.perform.value_counts(normalize=True).to_frame().style.format('{:.2%}')"
   ]
  },
  {
   "cell_type": "code",
   "execution_count": 22,
   "metadata": {
    "scrolled": true
   },
   "outputs": [
    {
     "data": {
      "text/html": [
       "<style type=\"text/css\">\n",
       "</style>\n",
       "<table id=\"T_ead8b_\">\n",
       "  <thead>\n",
       "    <tr>\n",
       "      <th class=\"blank level0\" >&nbsp;</th>\n",
       "      <th class=\"col_heading level0 col0\" >name</th>\n",
       "      <th class=\"col_heading level0 col1\" >price_d</th>\n",
       "      <th class=\"col_heading level0 col2\" >price_w</th>\n",
       "      <th class=\"col_heading level0 col3\" >percent</th>\n",
       "      <th class=\"col_heading level0 col4\" >perform</th>\n",
       "      <th class=\"col_heading level0 col5\" >mrkt</th>\n",
       "    </tr>\n",
       "  </thead>\n",
       "  <tbody>\n",
       "    <tr>\n",
       "      <th id=\"T_ead8b_level0_row0\" class=\"row_heading level0 row0\" >1</th>\n",
       "      <td id=\"T_ead8b_row0_col0\" class=\"data row0 col0\" >BCH</td>\n",
       "      <td id=\"T_ead8b_row0_col1\" class=\"data row0 col1\" >18.80</td>\n",
       "      <td id=\"T_ead8b_row0_col2\" class=\"data row0 col2\" >20.00</td>\n",
       "      <td id=\"T_ead8b_row0_col3\" class=\"data row0 col3\" >-6.00%</td>\n",
       "      <td id=\"T_ead8b_row0_col4\" class=\"data row0 col4\" >Worse</td>\n",
       "      <td id=\"T_ead8b_row0_col5\" class=\"data row0 col5\" >SET100</td>\n",
       "    </tr>\n",
       "    <tr>\n",
       "      <th id=\"T_ead8b_level0_row1\" class=\"row_heading level0 row1\" >4</th>\n",
       "      <td id=\"T_ead8b_row1_col0\" class=\"data row1 col0\" >DOHOME</td>\n",
       "      <td id=\"T_ead8b_row1_col1\" class=\"data row1 col1\" >19.10</td>\n",
       "      <td id=\"T_ead8b_row1_col2\" class=\"data row1 col2\" >18.80</td>\n",
       "      <td id=\"T_ead8b_row1_col3\" class=\"data row1 col3\" >1.60%</td>\n",
       "      <td id=\"T_ead8b_row1_col4\" class=\"data row1 col4\" >Better</td>\n",
       "      <td id=\"T_ead8b_row1_col5\" class=\"data row1 col5\" >SET100</td>\n",
       "    </tr>\n",
       "    <tr>\n",
       "      <th id=\"T_ead8b_level0_row2\" class=\"row_heading level0 row2\" >14</th>\n",
       "      <td id=\"T_ead8b_row2_col0\" class=\"data row2 col0\" >RCL</td>\n",
       "      <td id=\"T_ead8b_row2_col1\" class=\"data row2 col1\" >46.75</td>\n",
       "      <td id=\"T_ead8b_row2_col2\" class=\"data row2 col2\" >45.50</td>\n",
       "      <td id=\"T_ead8b_row2_col3\" class=\"data row2 col3\" >2.75%</td>\n",
       "      <td id=\"T_ead8b_row2_col4\" class=\"data row2 col4\" >Better</td>\n",
       "      <td id=\"T_ead8b_row2_col5\" class=\"data row2 col5\" >SET100</td>\n",
       "    </tr>\n",
       "    <tr>\n",
       "      <th id=\"T_ead8b_level0_row3\" class=\"row_heading level0 row3\" >19</th>\n",
       "      <td id=\"T_ead8b_row3_col0\" class=\"data row3 col0\" >STA</td>\n",
       "      <td id=\"T_ead8b_row3_col1\" class=\"data row3 col1\" >23.80</td>\n",
       "      <td id=\"T_ead8b_row3_col2\" class=\"data row3 col2\" >22.80</td>\n",
       "      <td id=\"T_ead8b_row3_col3\" class=\"data row3 col3\" >4.39%</td>\n",
       "      <td id=\"T_ead8b_row3_col4\" class=\"data row3 col4\" >Better</td>\n",
       "      <td id=\"T_ead8b_row3_col5\" class=\"data row3 col5\" >SET100</td>\n",
       "    </tr>\n",
       "    <tr>\n",
       "      <th id=\"T_ead8b_level0_row4\" class=\"row_heading level0 row4\" >20</th>\n",
       "      <td id=\"T_ead8b_row4_col0\" class=\"data row4 col0\" >SYNEX</td>\n",
       "      <td id=\"T_ead8b_row4_col1\" class=\"data row4 col1\" >21.70</td>\n",
       "      <td id=\"T_ead8b_row4_col2\" class=\"data row4 col2\" >20.60</td>\n",
       "      <td id=\"T_ead8b_row4_col3\" class=\"data row4 col3\" >5.34%</td>\n",
       "      <td id=\"T_ead8b_row4_col4\" class=\"data row4 col4\" >Better</td>\n",
       "      <td id=\"T_ead8b_row4_col5\" class=\"data row4 col5\" >SET100</td>\n",
       "    </tr>\n",
       "    <tr>\n",
       "      <th id=\"T_ead8b_level0_row5\" class=\"row_heading level0 row5\" >12</th>\n",
       "      <td id=\"T_ead8b_row5_col0\" class=\"data row5 col0\" >ORI</td>\n",
       "      <td id=\"T_ead8b_row5_col1\" class=\"data row5 col1\" >9.80</td>\n",
       "      <td id=\"T_ead8b_row5_col2\" class=\"data row5 col2\" >9.30</td>\n",
       "      <td id=\"T_ead8b_row5_col3\" class=\"data row5 col3\" >5.38%</td>\n",
       "      <td id=\"T_ead8b_row5_col4\" class=\"data row5 col4\" >Better</td>\n",
       "      <td id=\"T_ead8b_row5_col5\" class=\"data row5 col5\" >SET100</td>\n",
       "    </tr>\n",
       "  </tbody>\n",
       "</table>\n"
      ],
      "text/plain": [
       "<pandas.io.formats.style.Styler at 0x212ff566c70>"
      ]
     },
     "execution_count": 22,
     "metadata": {},
     "output_type": "execute_result"
    }
   ],
   "source": [
    "set100 = trend2.mrkt.str.contains('SET100')\n",
    "flt_set100 = trend2[set100]\n",
    "flt_set100[cols].sort_values(by=['percent','name'],ascending=[True,True]).style.format(format_dict)"
   ]
  },
  {
   "cell_type": "code",
   "execution_count": 23,
   "metadata": {},
   "outputs": [
    {
     "data": {
      "text/html": [
       "<style type=\"text/css\">\n",
       "</style>\n",
       "<table id=\"T_7b8c4_\">\n",
       "  <thead>\n",
       "    <tr>\n",
       "      <th class=\"blank level0\" >&nbsp;</th>\n",
       "      <th class=\"col_heading level0 col0\" >perform</th>\n",
       "    </tr>\n",
       "  </thead>\n",
       "  <tbody>\n",
       "    <tr>\n",
       "      <th id=\"T_7b8c4_level0_row0\" class=\"row_heading level0 row0\" >Better</th>\n",
       "      <td id=\"T_7b8c4_row0_col0\" class=\"data row0 col0\" >83.33%</td>\n",
       "    </tr>\n",
       "    <tr>\n",
       "      <th id=\"T_7b8c4_level0_row1\" class=\"row_heading level0 row1\" >Worse</th>\n",
       "      <td id=\"T_7b8c4_row1_col0\" class=\"data row1 col0\" >16.67%</td>\n",
       "    </tr>\n",
       "  </tbody>\n",
       "</table>\n"
      ],
      "text/plain": [
       "<pandas.io.formats.style.Styler at 0x212ff590cd0>"
      ]
     },
     "execution_count": 23,
     "metadata": {},
     "output_type": "execute_result"
    }
   ],
   "source": [
    "flt_set100[cols].perform.value_counts(normalize=True).to_frame().style.format('{:.2%}')"
   ]
  },
  {
   "cell_type": "code",
   "execution_count": 24,
   "metadata": {},
   "outputs": [
    {
     "data": {
      "text/html": [
       "<style type=\"text/css\">\n",
       "</style>\n",
       "<table id=\"T_8f0ee_\">\n",
       "  <thead>\n",
       "    <tr>\n",
       "      <th class=\"blank level0\" >&nbsp;</th>\n",
       "      <th class=\"col_heading level0 col0\" >name</th>\n",
       "      <th class=\"col_heading level0 col1\" >price_d</th>\n",
       "      <th class=\"col_heading level0 col2\" >price_w</th>\n",
       "      <th class=\"col_heading level0 col3\" >percent</th>\n",
       "      <th class=\"col_heading level0 col4\" >perform</th>\n",
       "      <th class=\"col_heading level0 col5\" >mrkt</th>\n",
       "    </tr>\n",
       "  </thead>\n",
       "  <tbody>\n",
       "    <tr>\n",
       "      <th id=\"T_8f0ee_level0_row0\" class=\"row_heading level0 row0\" >3</th>\n",
       "      <td id=\"T_8f0ee_row0_col0\" class=\"data row0 col0\" >DIF</td>\n",
       "      <td id=\"T_8f0ee_row0_col1\" class=\"data row0 col1\" >14.00</td>\n",
       "      <td id=\"T_8f0ee_row0_col2\" class=\"data row0 col2\" >14.30</td>\n",
       "      <td id=\"T_8f0ee_row0_col3\" class=\"data row0 col3\" >-2.10%</td>\n",
       "      <td id=\"T_8f0ee_row0_col4\" class=\"data row0 col4\" >Worse</td>\n",
       "      <td id=\"T_8f0ee_row0_col5\" class=\"data row0 col5\" >SET999</td>\n",
       "    </tr>\n",
       "    <tr>\n",
       "      <th id=\"T_8f0ee_level0_row1\" class=\"row_heading level0 row1\" >7</th>\n",
       "      <td id=\"T_8f0ee_row1_col0\" class=\"data row1 col0\" >JASIF</td>\n",
       "      <td id=\"T_8f0ee_row1_col1\" class=\"data row1 col1\" >10.90</td>\n",
       "      <td id=\"T_8f0ee_row1_col2\" class=\"data row1 col2\" >11.00</td>\n",
       "      <td id=\"T_8f0ee_row1_col3\" class=\"data row1 col3\" >-0.91%</td>\n",
       "      <td id=\"T_8f0ee_row1_col4\" class=\"data row1 col4\" >Worse</td>\n",
       "      <td id=\"T_8f0ee_row1_col5\" class=\"data row1 col5\" >SET999</td>\n",
       "    </tr>\n",
       "    <tr>\n",
       "      <th id=\"T_8f0ee_level0_row2\" class=\"row_heading level0 row2\" >24</th>\n",
       "      <td id=\"T_8f0ee_row2_col0\" class=\"data row2 col0\" >WHART</td>\n",
       "      <td id=\"T_8f0ee_row2_col1\" class=\"data row2 col1\" >10.60</td>\n",
       "      <td id=\"T_8f0ee_row2_col2\" class=\"data row2 col2\" >10.60</td>\n",
       "      <td id=\"T_8f0ee_row2_col3\" class=\"data row2 col3\" >0.00%</td>\n",
       "      <td id=\"T_8f0ee_row2_col4\" class=\"data row2 col4\" >No Change</td>\n",
       "      <td id=\"T_8f0ee_row2_col5\" class=\"data row2 col5\" >SET999</td>\n",
       "    </tr>\n",
       "    <tr>\n",
       "      <th id=\"T_8f0ee_level0_row3\" class=\"row_heading level0 row3\" >18</th>\n",
       "      <td id=\"T_8f0ee_row3_col0\" class=\"data row3 col0\" >SENA</td>\n",
       "      <td id=\"T_8f0ee_row3_col1\" class=\"data row3 col1\" >3.94</td>\n",
       "      <td id=\"T_8f0ee_row3_col2\" class=\"data row3 col2\" >3.92</td>\n",
       "      <td id=\"T_8f0ee_row3_col3\" class=\"data row3 col3\" >0.51%</td>\n",
       "      <td id=\"T_8f0ee_row3_col4\" class=\"data row3 col4\" >Better</td>\n",
       "      <td id=\"T_8f0ee_row3_col5\" class=\"data row3 col5\" >SET999</td>\n",
       "    </tr>\n",
       "    <tr>\n",
       "      <th id=\"T_8f0ee_level0_row4\" class=\"row_heading level0 row4\" >22</th>\n",
       "      <td id=\"T_8f0ee_row4_col0\" class=\"data row4 col0\" >TMT</td>\n",
       "      <td id=\"T_8f0ee_row4_col1\" class=\"data row4 col1\" >9.20</td>\n",
       "      <td id=\"T_8f0ee_row4_col2\" class=\"data row4 col2\" >9.15</td>\n",
       "      <td id=\"T_8f0ee_row4_col3\" class=\"data row4 col3\" >0.55%</td>\n",
       "      <td id=\"T_8f0ee_row4_col4\" class=\"data row4 col4\" >Better</td>\n",
       "      <td id=\"T_8f0ee_row4_col5\" class=\"data row4 col5\" >SET999</td>\n",
       "    </tr>\n",
       "    <tr>\n",
       "      <th id=\"T_8f0ee_level0_row5\" class=\"row_heading level0 row5\" >15</th>\n",
       "      <td id=\"T_8f0ee_row5_col0\" class=\"data row5 col0\" >RJH</td>\n",
       "      <td id=\"T_8f0ee_row5_col1\" class=\"data row5 col1\" >33.25</td>\n",
       "      <td id=\"T_8f0ee_row5_col2\" class=\"data row5 col2\" >33.00</td>\n",
       "      <td id=\"T_8f0ee_row5_col3\" class=\"data row5 col3\" >0.76%</td>\n",
       "      <td id=\"T_8f0ee_row5_col4\" class=\"data row5 col4\" >Better</td>\n",
       "      <td id=\"T_8f0ee_row5_col5\" class=\"data row5 col5\" >SET999</td>\n",
       "    </tr>\n",
       "    <tr>\n",
       "      <th id=\"T_8f0ee_level0_row6\" class=\"row_heading level0 row6\" >5</th>\n",
       "      <td id=\"T_8f0ee_row6_col0\" class=\"data row6 col0\" >HREIT</td>\n",
       "      <td id=\"T_8f0ee_row6_col1\" class=\"data row6 col1\" >8.45</td>\n",
       "      <td id=\"T_8f0ee_row6_col2\" class=\"data row6 col2\" >8.35</td>\n",
       "      <td id=\"T_8f0ee_row6_col3\" class=\"data row6 col3\" >1.20%</td>\n",
       "      <td id=\"T_8f0ee_row6_col4\" class=\"data row6 col4\" >Better</td>\n",
       "      <td id=\"T_8f0ee_row6_col5\" class=\"data row6 col5\" >SET999</td>\n",
       "    </tr>\n",
       "    <tr>\n",
       "      <th id=\"T_8f0ee_level0_row7\" class=\"row_heading level0 row7\" >17</th>\n",
       "      <td id=\"T_8f0ee_row7_col0\" class=\"data row7 col0\" >SCCC</td>\n",
       "      <td id=\"T_8f0ee_row7_col1\" class=\"data row7 col1\" >149.50</td>\n",
       "      <td id=\"T_8f0ee_row7_col2\" class=\"data row7 col2\" >147.50</td>\n",
       "      <td id=\"T_8f0ee_row7_col3\" class=\"data row7 col3\" >1.36%</td>\n",
       "      <td id=\"T_8f0ee_row7_col4\" class=\"data row7 col4\" >Better</td>\n",
       "      <td id=\"T_8f0ee_row7_col5\" class=\"data row7 col5\" >SET999</td>\n",
       "    </tr>\n",
       "    <tr>\n",
       "      <th id=\"T_8f0ee_level0_row8\" class=\"row_heading level0 row8\" >11</th>\n",
       "      <td id=\"T_8f0ee_row8_col0\" class=\"data row8 col0\" >NER</td>\n",
       "      <td id=\"T_8f0ee_row8_col1\" class=\"data row8 col1\" >6.60</td>\n",
       "      <td id=\"T_8f0ee_row8_col2\" class=\"data row8 col2\" >6.50</td>\n",
       "      <td id=\"T_8f0ee_row8_col3\" class=\"data row8 col3\" >1.54%</td>\n",
       "      <td id=\"T_8f0ee_row8_col4\" class=\"data row8 col4\" >Better</td>\n",
       "      <td id=\"T_8f0ee_row8_col5\" class=\"data row8 col5\" >SET999</td>\n",
       "    </tr>\n",
       "    <tr>\n",
       "      <th id=\"T_8f0ee_level0_row9\" class=\"row_heading level0 row9\" >2</th>\n",
       "      <td id=\"T_8f0ee_row9_col0\" class=\"data row9 col0\" >DCC</td>\n",
       "      <td id=\"T_8f0ee_row9_col1\" class=\"data row9 col1\" >2.80</td>\n",
       "      <td id=\"T_8f0ee_row9_col2\" class=\"data row9 col2\" >2.74</td>\n",
       "      <td id=\"T_8f0ee_row9_col3\" class=\"data row9 col3\" >2.19%</td>\n",
       "      <td id=\"T_8f0ee_row9_col4\" class=\"data row9 col4\" >Better</td>\n",
       "      <td id=\"T_8f0ee_row9_col5\" class=\"data row9 col5\" >SET999</td>\n",
       "    </tr>\n",
       "    <tr>\n",
       "      <th id=\"T_8f0ee_level0_row10\" class=\"row_heading level0 row10\" >0</th>\n",
       "      <td id=\"T_8f0ee_row10_col0\" class=\"data row10 col0\" >ASP</td>\n",
       "      <td id=\"T_8f0ee_row10_col1\" class=\"data row10 col1\" >3.16</td>\n",
       "      <td id=\"T_8f0ee_row10_col2\" class=\"data row10 col2\" >3.08</td>\n",
       "      <td id=\"T_8f0ee_row10_col3\" class=\"data row10 col3\" >2.60%</td>\n",
       "      <td id=\"T_8f0ee_row10_col4\" class=\"data row10 col4\" >Better</td>\n",
       "      <td id=\"T_8f0ee_row10_col5\" class=\"data row10 col5\" >SET999</td>\n",
       "    </tr>\n",
       "    <tr>\n",
       "      <th id=\"T_8f0ee_level0_row11\" class=\"row_heading level0 row11\" >10</th>\n",
       "      <td id=\"T_8f0ee_row11_col0\" class=\"data row11 col0\" >MCS</td>\n",
       "      <td id=\"T_8f0ee_row11_col1\" class=\"data row11 col1\" >12.60</td>\n",
       "      <td id=\"T_8f0ee_row11_col2\" class=\"data row11 col2\" >12.00</td>\n",
       "      <td id=\"T_8f0ee_row11_col3\" class=\"data row11 col3\" >5.00%</td>\n",
       "      <td id=\"T_8f0ee_row11_col4\" class=\"data row11 col4\" >Better</td>\n",
       "      <td id=\"T_8f0ee_row11_col5\" class=\"data row11 col5\" >SET999</td>\n",
       "    </tr>\n",
       "    <tr>\n",
       "      <th id=\"T_8f0ee_level0_row12\" class=\"row_heading level0 row12\" >23</th>\n",
       "      <td id=\"T_8f0ee_row12_col0\" class=\"data row12 col0\" >TPIPL</td>\n",
       "      <td id=\"T_8f0ee_row12_col1\" class=\"data row12 col1\" >1.53</td>\n",
       "      <td id=\"T_8f0ee_row12_col2\" class=\"data row12 col2\" >1.43</td>\n",
       "      <td id=\"T_8f0ee_row12_col3\" class=\"data row12 col3\" >6.99%</td>\n",
       "      <td id=\"T_8f0ee_row12_col4\" class=\"data row12 col4\" >Better</td>\n",
       "      <td id=\"T_8f0ee_row12_col5\" class=\"data row12 col5\" >SET999</td>\n",
       "    </tr>\n",
       "    <tr>\n",
       "      <th id=\"T_8f0ee_level0_row13\" class=\"row_heading level0 row13\" >9</th>\n",
       "      <td id=\"T_8f0ee_row13_col0\" class=\"data row13 col0\" >MAKRO</td>\n",
       "      <td id=\"T_8f0ee_row13_col1\" class=\"data row13 col1\" >36.50</td>\n",
       "      <td id=\"T_8f0ee_row13_col2\" class=\"data row13 col2\" >34.00</td>\n",
       "      <td id=\"T_8f0ee_row13_col3\" class=\"data row13 col3\" >7.35%</td>\n",
       "      <td id=\"T_8f0ee_row13_col4\" class=\"data row13 col4\" >Better</td>\n",
       "      <td id=\"T_8f0ee_row13_col5\" class=\"data row13 col5\" >SET999</td>\n",
       "    </tr>\n",
       "  </tbody>\n",
       "</table>\n"
      ],
      "text/plain": [
       "<pandas.io.formats.style.Styler at 0x212ff597760>"
      ]
     },
     "execution_count": 24,
     "metadata": {},
     "output_type": "execute_result"
    }
   ],
   "source": [
    "set999 = trend2.mrkt.str.contains('SET999')\n",
    "flt_set999 = trend2[set999]\n",
    "flt_set999[cols].sort_values(by=['percent','name'],ascending=[True,True]).style.format(format_dict)"
   ]
  },
  {
   "cell_type": "code",
   "execution_count": 25,
   "metadata": {},
   "outputs": [
    {
     "data": {
      "text/html": [
       "<style type=\"text/css\">\n",
       "</style>\n",
       "<table id=\"T_2a81a_\">\n",
       "  <thead>\n",
       "    <tr>\n",
       "      <th class=\"blank level0\" >&nbsp;</th>\n",
       "      <th class=\"col_heading level0 col0\" >perform</th>\n",
       "    </tr>\n",
       "  </thead>\n",
       "  <tbody>\n",
       "    <tr>\n",
       "      <th id=\"T_2a81a_level0_row0\" class=\"row_heading level0 row0\" >Better</th>\n",
       "      <td id=\"T_2a81a_row0_col0\" class=\"data row0 col0\" >78.57%</td>\n",
       "    </tr>\n",
       "    <tr>\n",
       "      <th id=\"T_2a81a_level0_row1\" class=\"row_heading level0 row1\" >Worse</th>\n",
       "      <td id=\"T_2a81a_row1_col0\" class=\"data row1 col0\" >14.29%</td>\n",
       "    </tr>\n",
       "    <tr>\n",
       "      <th id=\"T_2a81a_level0_row2\" class=\"row_heading level0 row2\" >No Change</th>\n",
       "      <td id=\"T_2a81a_row2_col0\" class=\"data row2 col0\" >7.14%</td>\n",
       "    </tr>\n",
       "  </tbody>\n",
       "</table>\n"
      ],
      "text/plain": [
       "<pandas.io.formats.style.Styler at 0x212ff597100>"
      ]
     },
     "execution_count": 25,
     "metadata": {},
     "output_type": "execute_result"
    }
   ],
   "source": [
    "flt_set999[cols].perform.value_counts(normalize=True).to_frame().style.format('{:.2%}')"
   ]
  },
  {
   "cell_type": "code",
   "execution_count": 26,
   "metadata": {},
   "outputs": [
    {
     "data": {
      "text/html": [
       "<style type=\"text/css\">\n",
       "</style>\n",
       "<table id=\"T_f8f9a_\">\n",
       "  <thead>\n",
       "    <tr>\n",
       "      <th class=\"blank level0\" >&nbsp;</th>\n",
       "      <th class=\"col_heading level0 col0\" >name</th>\n",
       "      <th class=\"col_heading level0 col1\" >price_d</th>\n",
       "      <th class=\"col_heading level0 col2\" >price_w</th>\n",
       "      <th class=\"col_heading level0 col3\" >percent</th>\n",
       "      <th class=\"col_heading level0 col4\" >perform</th>\n",
       "      <th class=\"col_heading level0 col5\" >mrkt</th>\n",
       "    </tr>\n",
       "  </thead>\n",
       "  <tbody>\n",
       "    <tr>\n",
       "      <th id=\"T_f8f9a_level0_row0\" class=\"row_heading level0 row0\" >6</th>\n",
       "      <td id=\"T_f8f9a_row0_col0\" class=\"data row0 col0\" >IP</td>\n",
       "      <td id=\"T_f8f9a_row0_col1\" class=\"data row0 col1\" >20.50</td>\n",
       "      <td id=\"T_f8f9a_row0_col2\" class=\"data row0 col2\" >18.30</td>\n",
       "      <td id=\"T_f8f9a_row0_col3\" class=\"data row0 col3\" >12.02%</td>\n",
       "      <td id=\"T_f8f9a_row0_col4\" class=\"data row0 col4\" >Better</td>\n",
       "      <td id=\"T_f8f9a_row0_col5\" class=\"data row0 col5\" >mai</td>\n",
       "    </tr>\n",
       "  </tbody>\n",
       "</table>\n"
      ],
      "text/plain": [
       "<pandas.io.formats.style.Styler at 0x212ff590be0>"
      ]
     },
     "execution_count": 26,
     "metadata": {},
     "output_type": "execute_result"
    }
   ],
   "source": [
    "setmai = trend2.mrkt.str.contains('mai')\n",
    "flt_setmai = trend2[setmai]\n",
    "flt_setmai[cols].sort_values(by=['percent','name'],ascending=[True,True]).style.format(format_dict)"
   ]
  },
  {
   "cell_type": "code",
   "execution_count": 27,
   "metadata": {},
   "outputs": [
    {
     "data": {
      "text/html": [
       "<style type=\"text/css\">\n",
       "</style>\n",
       "<table id=\"T_04811_\">\n",
       "  <thead>\n",
       "    <tr>\n",
       "      <th class=\"blank level0\" >&nbsp;</th>\n",
       "      <th class=\"col_heading level0 col0\" >perform</th>\n",
       "    </tr>\n",
       "  </thead>\n",
       "  <tbody>\n",
       "    <tr>\n",
       "      <th id=\"T_04811_level0_row0\" class=\"row_heading level0 row0\" >Better</th>\n",
       "      <td id=\"T_04811_row0_col0\" class=\"data row0 col0\" >100.00%</td>\n",
       "    </tr>\n",
       "  </tbody>\n",
       "</table>\n"
      ],
      "text/plain": [
       "<pandas.io.formats.style.Styler at 0x212ff597be0>"
      ]
     },
     "execution_count": 27,
     "metadata": {},
     "output_type": "execute_result"
    }
   ],
   "source": [
    "flt_setmai[cols].perform.value_counts(normalize=True).to_frame().style.format('{:.2%}')"
   ]
  },
  {
   "cell_type": "code",
   "execution_count": null,
   "metadata": {},
   "outputs": [],
   "source": []
  }
 ],
 "metadata": {
  "anaconda-cloud": {},
  "kernelspec": {
   "display_name": "Python 3 (ipykernel)",
   "language": "python",
   "name": "python3"
  },
  "language_info": {
   "codemirror_mode": {
    "name": "ipython",
    "version": 3
   },
   "file_extension": ".py",
   "mimetype": "text/x-python",
   "name": "python",
   "nbconvert_exporter": "python",
   "pygments_lexer": "ipython3",
   "version": "3.8.11"
  }
 },
 "nbformat": 4,
 "nbformat_minor": 1
}
