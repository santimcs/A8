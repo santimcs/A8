{
 "cells": [
  {
   "cell_type": "markdown",
   "metadata": {},
   "source": [
    "### portmy database: stocks table\n",
    "### stock database: buy, price tables"
   ]
  },
  {
   "cell_type": "code",
   "execution_count": 1,
   "metadata": {},
   "outputs": [
    {
     "data": {
      "text/plain": [
       "(datetime.date(2022, 6, 25), '2022-25')"
      ]
     },
     "execution_count": 1,
     "metadata": {},
     "output_type": "execute_result"
    }
   ],
   "source": [
    "import pandas as pd\n",
    "import numpy as np\n",
    "from datetime import date, timedelta\n",
    "from sqlalchemy import create_engine\n",
    "\n",
    "engine = create_engine(\"sqlite:///c:\\\\ruby\\\\portmy\\\\db\\\\development.sqlite3\")\n",
    "conmy = engine.connect()\n",
    "conmy = engine.connect()\n",
    "engine = create_engine(\"mysql+pymysql://root:@localhost:3306/stock\")\n",
    "const = engine.connect()\n",
    "\n",
    "pd.set_option('display.float_format','{:,.2f}'.format)\n",
    "\n",
    "data_path = \"../data/\"\n",
    "csv_path = \"\\\\Users\\\\User\\\\iCloudDrive\\\\\"\n",
    "box_path = \"\\\\Users\\\\User\\\\Dropbox\\\\\"\n",
    "\n",
    "today = date.today()\n",
    "week_str = today.strftime('%Y-%U')\n",
    "today, week_str"
   ]
  },
  {
   "cell_type": "markdown",
   "metadata": {},
   "source": [
    "### Process after last business day, today must be last business day"
   ]
  },
  {
   "cell_type": "code",
   "execution_count": 2,
   "metadata": {},
   "outputs": [
    {
     "data": {
      "text/plain": [
       "(datetime.date(2022, 6, 24), datetime.date(2022, 6, 17))"
      ]
     },
     "execution_count": 2,
     "metadata": {},
     "output_type": "execute_result"
    }
   ],
   "source": [
    "today = today - timedelta(days=1)\n",
    "wkago = today - timedelta(days=7)\n",
    "today, wkago"
   ]
  },
  {
   "cell_type": "markdown",
   "metadata": {},
   "source": [
    "### Restart & Run All Cells"
   ]
  },
  {
   "cell_type": "markdown",
   "metadata": {},
   "source": [
    "### This process affects only already in port stocks. To highlight price changes in percent."
   ]
  },
  {
   "cell_type": "code",
   "execution_count": 3,
   "metadata": {},
   "outputs": [],
   "source": [
    "cols = 'name price_d price_w percent perform mrkt '.split()"
   ]
  },
  {
   "cell_type": "code",
   "execution_count": 4,
   "metadata": {},
   "outputs": [],
   "source": [
    "format_dict = {\n",
    "    'qty':'{:,}',    \n",
    "    'price':'{:.2f}','price_d':'{:.2f}','price_w':'{:.2f}',\n",
    "    'max_price':'{:.2f}','min_price':'{:.2f}',\n",
    "    'maxp':'{:.2f}','minp':'{:.2f}','opnp':'{:.2f}',    \n",
    "    'pct':'{:,.2f}%','percent':'{:,.2f}%',\n",
    "    \n",
    "    'pe':'{:.2f}','pbv':'{:.2f}',\n",
    "    'paid_up':'{:,.2f}','market_cap':'{:,.2f}',\n",
    "    'daily_volume':'{:,.2f}','beta':'{:,.2f}', \n",
    "    'dly_vol':'{:,.2f}', \n",
    "}"
   ]
  },
  {
   "cell_type": "code",
   "execution_count": 5,
   "metadata": {},
   "outputs": [
    {
     "data": {
      "text/html": [
       "<style type=\"text/css\">\n",
       "</style>\n",
       "<table id=\"T_4462f_\">\n",
       "  <thead>\n",
       "    <tr>\n",
       "      <th class=\"blank level0\" >&nbsp;</th>\n",
       "      <th class=\"col_heading level0 col0\" >name</th>\n",
       "      <th class=\"col_heading level0 col1\" >date</th>\n",
       "      <th class=\"col_heading level0 col2\" >price</th>\n",
       "    </tr>\n",
       "  </thead>\n",
       "  <tbody>\n",
       "    <tr>\n",
       "      <th id=\"T_4462f_level0_row0\" class=\"row_heading level0 row0\" >0</th>\n",
       "      <td id=\"T_4462f_row0_col0\" class=\"data row0 col0\" >TOP</td>\n",
       "      <td id=\"T_4462f_row0_col1\" class=\"data row0 col1\" >2022-06-10</td>\n",
       "      <td id=\"T_4462f_row0_col2\" class=\"data row0 col2\" >57.50</td>\n",
       "    </tr>\n",
       "  </tbody>\n",
       "</table>\n"
      ],
      "text/plain": [
       "<pandas.io.formats.style.Styler at 0x1b26ffdfd30>"
      ]
     },
     "execution_count": 5,
     "metadata": {},
     "output_type": "execute_result"
    }
   ],
   "source": [
    "sql = \"\"\"\n",
    "SELECT name, date, price \n",
    "FROM buy \n",
    "ORDER BY date DESC \n",
    "LIMIT 1\n",
    "\"\"\"\n",
    "df_buy = pd.read_sql(sql, const)\n",
    "df_buy.style.format(format_dict)"
   ]
  },
  {
   "cell_type": "code",
   "execution_count": 6,
   "metadata": {},
   "outputs": [
    {
     "name": "stdout",
     "output_type": "stream",
     "text": [
      "\n",
      "SELECT * FROM stocks WHERE name = 'TOP'\n",
      "\n"
     ]
    },
    {
     "data": {
      "text/html": [
       "<style type=\"text/css\">\n",
       "</style>\n",
       "<table id=\"T_29cb4_\">\n",
       "  <thead>\n",
       "    <tr>\n",
       "      <th class=\"blank level0\" >&nbsp;</th>\n",
       "      <th class=\"col_heading level0 col0\" >id</th>\n",
       "      <th class=\"col_heading level0 col1\" >name</th>\n",
       "      <th class=\"col_heading level0 col2\" >market</th>\n",
       "      <th class=\"col_heading level0 col3\" >price</th>\n",
       "      <th class=\"col_heading level0 col4\" >max_price</th>\n",
       "      <th class=\"col_heading level0 col5\" >min_price</th>\n",
       "      <th class=\"col_heading level0 col6\" >pe</th>\n",
       "      <th class=\"col_heading level0 col7\" >pbv</th>\n",
       "      <th class=\"col_heading level0 col8\" >paid_up</th>\n",
       "      <th class=\"col_heading level0 col9\" >market_cap</th>\n",
       "      <th class=\"col_heading level0 col10\" >daily_volume</th>\n",
       "      <th class=\"col_heading level0 col11\" >beta</th>\n",
       "      <th class=\"col_heading level0 col12\" >ticker_id</th>\n",
       "      <th class=\"col_heading level0 col13\" >created_at</th>\n",
       "      <th class=\"col_heading level0 col14\" >updated_at</th>\n",
       "    </tr>\n",
       "  </thead>\n",
       "  <tbody>\n",
       "    <tr>\n",
       "      <th id=\"T_29cb4_level0_row0\" class=\"row_heading level0 row0\" >0</th>\n",
       "      <td id=\"T_29cb4_row0_col0\" class=\"data row0 col0\" >555</td>\n",
       "      <td id=\"T_29cb4_row0_col1\" class=\"data row0 col1\" >TOP</td>\n",
       "      <td id=\"T_29cb4_row0_col2\" class=\"data row0 col2\" >SET50 / SETCLMV / SETTHSI</td>\n",
       "      <td id=\"T_29cb4_row0_col3\" class=\"data row0 col3\" >49.75</td>\n",
       "      <td id=\"T_29cb4_row0_col4\" class=\"data row0 col4\" >62.25</td>\n",
       "      <td id=\"T_29cb4_row0_col5\" class=\"data row0 col5\" >42.50</td>\n",
       "      <td id=\"T_29cb4_row0_col6\" class=\"data row0 col6\" >6.19</td>\n",
       "      <td id=\"T_29cb4_row0_col7\" class=\"data row0 col7\" >0.80</td>\n",
       "      <td id=\"T_29cb4_row0_col8\" class=\"data row0 col8\" >999.99</td>\n",
       "      <td id=\"T_29cb4_row0_col9\" class=\"data row0 col9\" >101,491.39</td>\n",
       "      <td id=\"T_29cb4_row0_col10\" class=\"data row0 col10\" >777,383.32</td>\n",
       "      <td id=\"T_29cb4_row0_col11\" class=\"data row0 col11\" >3.52</td>\n",
       "      <td id=\"T_29cb4_row0_col12\" class=\"data row0 col12\" >555</td>\n",
       "      <td id=\"T_29cb4_row0_col13\" class=\"data row0 col13\" >2017-07-23 07:25:41.632818</td>\n",
       "      <td id=\"T_29cb4_row0_col14\" class=\"data row0 col14\" >2022-06-24 21:58:14.449252</td>\n",
       "    </tr>\n",
       "  </tbody>\n",
       "</table>\n"
      ],
      "text/plain": [
       "<pandas.io.formats.style.Styler at 0x1b26d3ff640>"
      ]
     },
     "execution_count": 6,
     "metadata": {},
     "output_type": "execute_result"
    }
   ],
   "source": [
    "names = df_buy['name']\n",
    "name = names.to_string(index=False)\n",
    "\n",
    "sql = '''\n",
    "SELECT * FROM stocks WHERE name = '%s'\n",
    "'''\n",
    "sql = sql % name\n",
    "print(sql)\n",
    "\n",
    "df_stocks = pd.read_sql(sql, conmy)\n",
    "df_stocks.style.format(format_dict) "
   ]
  },
  {
   "cell_type": "code",
   "execution_count": 7,
   "metadata": {},
   "outputs": [
    {
     "name": "stdout",
     "output_type": "stream",
     "text": [
      "\n",
      "SELECT * FROM price WHERE name = \"TOP\" ORDER BY date DESC LIMIT 5\n",
      "\n"
     ]
    },
    {
     "data": {
      "text/html": [
       "<style type=\"text/css\">\n",
       "</style>\n",
       "<table id=\"T_5a101_\">\n",
       "  <thead>\n",
       "    <tr>\n",
       "      <th class=\"blank level0\" >&nbsp;</th>\n",
       "      <th class=\"col_heading level0 col0\" >name</th>\n",
       "      <th class=\"col_heading level0 col1\" >date</th>\n",
       "      <th class=\"col_heading level0 col2\" >price</th>\n",
       "      <th class=\"col_heading level0 col3\" >maxp</th>\n",
       "      <th class=\"col_heading level0 col4\" >minp</th>\n",
       "      <th class=\"col_heading level0 col5\" >qty</th>\n",
       "      <th class=\"col_heading level0 col6\" >opnp</th>\n",
       "    </tr>\n",
       "  </thead>\n",
       "  <tbody>\n",
       "    <tr>\n",
       "      <th id=\"T_5a101_level0_row0\" class=\"row_heading level0 row0\" >0</th>\n",
       "      <td id=\"T_5a101_row0_col0\" class=\"data row0 col0\" >TOP</td>\n",
       "      <td id=\"T_5a101_row0_col1\" class=\"data row0 col1\" >2022-06-24</td>\n",
       "      <td id=\"T_5a101_row0_col2\" class=\"data row0 col2\" >49.75</td>\n",
       "      <td id=\"T_5a101_row0_col3\" class=\"data row0 col3\" >50.50</td>\n",
       "      <td id=\"T_5a101_row0_col4\" class=\"data row0 col4\" >49.25</td>\n",
       "      <td id=\"T_5a101_row0_col5\" class=\"data row0 col5\" >15,630,489</td>\n",
       "      <td id=\"T_5a101_row0_col6\" class=\"data row0 col6\" >50.50</td>\n",
       "    </tr>\n",
       "    <tr>\n",
       "      <th id=\"T_5a101_level0_row1\" class=\"row_heading level0 row1\" >1</th>\n",
       "      <td id=\"T_5a101_row1_col0\" class=\"data row1 col0\" >TOP</td>\n",
       "      <td id=\"T_5a101_row1_col1\" class=\"data row1 col1\" >2022-06-23</td>\n",
       "      <td id=\"T_5a101_row1_col2\" class=\"data row1 col2\" >50.25</td>\n",
       "      <td id=\"T_5a101_row1_col3\" class=\"data row1 col3\" >51.00</td>\n",
       "      <td id=\"T_5a101_row1_col4\" class=\"data row1 col4\" >49.75</td>\n",
       "      <td id=\"T_5a101_row1_col5\" class=\"data row1 col5\" >16,265,405</td>\n",
       "      <td id=\"T_5a101_row1_col6\" class=\"data row1 col6\" >50.50</td>\n",
       "    </tr>\n",
       "    <tr>\n",
       "      <th id=\"T_5a101_level0_row2\" class=\"row_heading level0 row2\" >2</th>\n",
       "      <td id=\"T_5a101_row2_col0\" class=\"data row2 col0\" >TOP</td>\n",
       "      <td id=\"T_5a101_row2_col1\" class=\"data row2 col1\" >2022-06-22</td>\n",
       "      <td id=\"T_5a101_row2_col2\" class=\"data row2 col2\" >51.00</td>\n",
       "      <td id=\"T_5a101_row2_col3\" class=\"data row2 col3\" >51.00</td>\n",
       "      <td id=\"T_5a101_row2_col4\" class=\"data row2 col4\" >49.75</td>\n",
       "      <td id=\"T_5a101_row2_col5\" class=\"data row2 col5\" >17,470,036</td>\n",
       "      <td id=\"T_5a101_row2_col6\" class=\"data row2 col6\" >50.00</td>\n",
       "    </tr>\n",
       "    <tr>\n",
       "      <th id=\"T_5a101_level0_row3\" class=\"row_heading level0 row3\" >3</th>\n",
       "      <td id=\"T_5a101_row3_col0\" class=\"data row3 col0\" >TOP</td>\n",
       "      <td id=\"T_5a101_row3_col1\" class=\"data row3 col1\" >2022-06-21</td>\n",
       "      <td id=\"T_5a101_row3_col2\" class=\"data row3 col2\" >51.00</td>\n",
       "      <td id=\"T_5a101_row3_col3\" class=\"data row3 col3\" >51.50</td>\n",
       "      <td id=\"T_5a101_row3_col4\" class=\"data row3 col4\" >49.25</td>\n",
       "      <td id=\"T_5a101_row3_col5\" class=\"data row3 col5\" >33,358,957</td>\n",
       "      <td id=\"T_5a101_row3_col6\" class=\"data row3 col6\" >50.00</td>\n",
       "    </tr>\n",
       "    <tr>\n",
       "      <th id=\"T_5a101_level0_row4\" class=\"row_heading level0 row4\" >4</th>\n",
       "      <td id=\"T_5a101_row4_col0\" class=\"data row4 col0\" >TOP</td>\n",
       "      <td id=\"T_5a101_row4_col1\" class=\"data row4 col1\" >2022-06-20</td>\n",
       "      <td id=\"T_5a101_row4_col2\" class=\"data row4 col2\" >49.50</td>\n",
       "      <td id=\"T_5a101_row4_col3\" class=\"data row4 col3\" >50.00</td>\n",
       "      <td id=\"T_5a101_row4_col4\" class=\"data row4 col4\" >49.00</td>\n",
       "      <td id=\"T_5a101_row4_col5\" class=\"data row4 col5\" >22,641,234</td>\n",
       "      <td id=\"T_5a101_row4_col6\" class=\"data row4 col6\" >50.00</td>\n",
       "    </tr>\n",
       "  </tbody>\n",
       "</table>\n"
      ],
      "text/plain": [
       "<pandas.io.formats.style.Styler at 0x1b26d3ff820>"
      ]
     },
     "execution_count": 7,
     "metadata": {},
     "output_type": "execute_result"
    }
   ],
   "source": [
    "sql = '''\n",
    "SELECT * FROM price WHERE name = \"%s\" ORDER BY date DESC LIMIT 5\n",
    "'''\n",
    "sql = sql % name\n",
    "print(sql)\n",
    "\n",
    "df_price = pd.read_sql(sql, const)\n",
    "df_price.style.format(format_dict)"
   ]
  },
  {
   "cell_type": "code",
   "execution_count": 8,
   "metadata": {},
   "outputs": [
    {
     "name": "stdout",
     "output_type": "stream",
     "text": [
      "\n",
      "SELECT name, price AS price_d \n",
      "FROM price \n",
      "WHERE date = '2022-06-24' AND name IN ('ASP', 'BCH', 'DCC', 'DIF', 'DOHOME', 'JASIF', 'KCE', 'MAKRO', 'MCS', 'NER', 'ORI', 'PTTGC', 'RCL', 'SCC', 'SCCC', 'SENA', 'SIS', 'STA', 'SYNEX', 'TISCO', 'TMT', 'TOP', 'TPIPL', 'TTB', 'WHAIR', 'WHART')\n",
      "ORDER BY name, date\n"
     ]
    },
    {
     "data": {
      "text/plain": [
       "26"
      ]
     },
     "execution_count": 8,
     "metadata": {},
     "output_type": "execute_result"
    }
   ],
   "source": [
    "sql = '''\n",
    "SELECT name\n",
    "FROM buy \n",
    "WHERE active = 1\n",
    "ORDER BY name'''\n",
    "df_price = pd.read_sql(sql, const)\n",
    "\n",
    "names = df_price.name.tolist()\n",
    "in_p = \", \".join(map(lambda name: \"'%s'\" % name, names))\n",
    "\n",
    "sql = \"\"\"\n",
    "SELECT name, price AS price_d \n",
    "FROM price \n",
    "WHERE date = '%s' AND name IN (%s)\n",
    "ORDER BY name, date\"\"\"\n",
    "sql = sql % (today, in_p)\n",
    "print(sql)\n",
    "\n",
    "df_today = pd.read_sql(sql, const)\n",
    "df_today.shape[0]"
   ]
  },
  {
   "cell_type": "code",
   "execution_count": 9,
   "metadata": {},
   "outputs": [
    {
     "name": "stdout",
     "output_type": "stream",
     "text": [
      "\n",
      "SELECT name, price AS price_w\n",
      "FROM price \n",
      "WHERE date = '2022-06-17' AND name IN ('ASP', 'BCH', 'DCC', 'DIF', 'DOHOME', 'JASIF', 'KCE', 'MAKRO', 'MCS', 'NER', 'ORI', 'PTTGC', 'RCL', 'SCC', 'SCCC', 'SENA', 'SIS', 'STA', 'SYNEX', 'TISCO', 'TMT', 'TOP', 'TPIPL', 'TTB', 'WHAIR', 'WHART') \n",
      "ORDER BY name\n"
     ]
    },
    {
     "data": {
      "text/plain": [
       "26"
      ]
     },
     "execution_count": 9,
     "metadata": {},
     "output_type": "execute_result"
    }
   ],
   "source": [
    "sql = \"\"\"\n",
    "SELECT name, price AS price_w\n",
    "FROM price \n",
    "WHERE date = '%s' AND name IN (%s) \n",
    "ORDER BY name\"\"\"\n",
    "sql = sql % (wkago, in_p)\n",
    "print(sql)\n",
    "\n",
    "df_wkago = pd.read_sql(sql, const)\n",
    "df_wkago.shape[0]"
   ]
  },
  {
   "cell_type": "code",
   "execution_count": 10,
   "metadata": {},
   "outputs": [
    {
     "data": {
      "text/plain": [
       "(26, 3)"
      ]
     },
     "execution_count": 10,
     "metadata": {},
     "output_type": "execute_result"
    }
   ],
   "source": [
    "trend = pd.merge(df_today, df_wkago, on='name',how='inner')\n",
    "trend.shape"
   ]
  },
  {
   "cell_type": "code",
   "execution_count": 11,
   "metadata": {},
   "outputs": [],
   "source": [
    "def performance(vals):\n",
    "    price_d, price_w = vals\n",
    "    if (price_d > price_w):\n",
    "        return 'Better'\n",
    "    elif (price_d < price_w):\n",
    "        return 'Worse'\n",
    "    else:\n",
    "        return 'No Change'"
   ]
  },
  {
   "cell_type": "code",
   "execution_count": 12,
   "metadata": {},
   "outputs": [],
   "source": [
    "trend['percent'] = (trend.price_d-trend.price_w)/trend.price_w * 100"
   ]
  },
  {
   "cell_type": "code",
   "execution_count": 13,
   "metadata": {},
   "outputs": [
    {
     "data": {
      "text/html": [
       "<div>\n",
       "<style scoped>\n",
       "    .dataframe tbody tr th:only-of-type {\n",
       "        vertical-align: middle;\n",
       "    }\n",
       "\n",
       "    .dataframe tbody tr th {\n",
       "        vertical-align: top;\n",
       "    }\n",
       "\n",
       "    .dataframe thead th {\n",
       "        text-align: right;\n",
       "    }\n",
       "</style>\n",
       "<table border=\"1\" class=\"dataframe\">\n",
       "  <thead>\n",
       "    <tr style=\"text-align: right;\">\n",
       "      <th></th>\n",
       "      <th>name</th>\n",
       "      <th>price_d</th>\n",
       "      <th>price_w</th>\n",
       "      <th>percent</th>\n",
       "    </tr>\n",
       "  </thead>\n",
       "  <tbody>\n",
       "    <tr>\n",
       "      <th>0</th>\n",
       "      <td>ASP</td>\n",
       "      <td>3.14</td>\n",
       "      <td>3.14</td>\n",
       "      <td>0.00</td>\n",
       "    </tr>\n",
       "    <tr>\n",
       "      <th>1</th>\n",
       "      <td>BCH</td>\n",
       "      <td>18.90</td>\n",
       "      <td>18.10</td>\n",
       "      <td>4.42</td>\n",
       "    </tr>\n",
       "    <tr>\n",
       "      <th>2</th>\n",
       "      <td>DCC</td>\n",
       "      <td>2.82</td>\n",
       "      <td>2.76</td>\n",
       "      <td>2.17</td>\n",
       "    </tr>\n",
       "    <tr>\n",
       "      <th>3</th>\n",
       "      <td>DIF</td>\n",
       "      <td>13.10</td>\n",
       "      <td>13.50</td>\n",
       "      <td>-2.96</td>\n",
       "    </tr>\n",
       "    <tr>\n",
       "      <th>4</th>\n",
       "      <td>DOHOME</td>\n",
       "      <td>16.60</td>\n",
       "      <td>17.10</td>\n",
       "      <td>-2.92</td>\n",
       "    </tr>\n",
       "    <tr>\n",
       "      <th>5</th>\n",
       "      <td>JASIF</td>\n",
       "      <td>9.60</td>\n",
       "      <td>10.50</td>\n",
       "      <td>-8.57</td>\n",
       "    </tr>\n",
       "    <tr>\n",
       "      <th>6</th>\n",
       "      <td>KCE</td>\n",
       "      <td>61.00</td>\n",
       "      <td>61.75</td>\n",
       "      <td>-1.21</td>\n",
       "    </tr>\n",
       "    <tr>\n",
       "      <th>7</th>\n",
       "      <td>MAKRO</td>\n",
       "      <td>34.50</td>\n",
       "      <td>35.00</td>\n",
       "      <td>-1.43</td>\n",
       "    </tr>\n",
       "    <tr>\n",
       "      <th>8</th>\n",
       "      <td>MCS</td>\n",
       "      <td>11.70</td>\n",
       "      <td>12.00</td>\n",
       "      <td>-2.50</td>\n",
       "    </tr>\n",
       "    <tr>\n",
       "      <th>9</th>\n",
       "      <td>NER</td>\n",
       "      <td>6.10</td>\n",
       "      <td>6.15</td>\n",
       "      <td>-0.81</td>\n",
       "    </tr>\n",
       "    <tr>\n",
       "      <th>10</th>\n",
       "      <td>ORI</td>\n",
       "      <td>10.10</td>\n",
       "      <td>10.00</td>\n",
       "      <td>1.00</td>\n",
       "    </tr>\n",
       "    <tr>\n",
       "      <th>11</th>\n",
       "      <td>PTTGC</td>\n",
       "      <td>44.75</td>\n",
       "      <td>43.75</td>\n",
       "      <td>2.29</td>\n",
       "    </tr>\n",
       "    <tr>\n",
       "      <th>12</th>\n",
       "      <td>RCL</td>\n",
       "      <td>40.75</td>\n",
       "      <td>42.25</td>\n",
       "      <td>-3.55</td>\n",
       "    </tr>\n",
       "    <tr>\n",
       "      <th>13</th>\n",
       "      <td>SCC</td>\n",
       "      <td>379.00</td>\n",
       "      <td>356.00</td>\n",
       "      <td>6.46</td>\n",
       "    </tr>\n",
       "    <tr>\n",
       "      <th>14</th>\n",
       "      <td>SCCC</td>\n",
       "      <td>150.50</td>\n",
       "      <td>149.50</td>\n",
       "      <td>0.67</td>\n",
       "    </tr>\n",
       "    <tr>\n",
       "      <th>15</th>\n",
       "      <td>SENA</td>\n",
       "      <td>3.98</td>\n",
       "      <td>4.02</td>\n",
       "      <td>-1.00</td>\n",
       "    </tr>\n",
       "    <tr>\n",
       "      <th>16</th>\n",
       "      <td>SIS</td>\n",
       "      <td>26.75</td>\n",
       "      <td>26.50</td>\n",
       "      <td>0.94</td>\n",
       "    </tr>\n",
       "    <tr>\n",
       "      <th>17</th>\n",
       "      <td>STA</td>\n",
       "      <td>21.50</td>\n",
       "      <td>21.30</td>\n",
       "      <td>0.94</td>\n",
       "    </tr>\n",
       "    <tr>\n",
       "      <th>18</th>\n",
       "      <td>SYNEX</td>\n",
       "      <td>18.50</td>\n",
       "      <td>18.20</td>\n",
       "      <td>1.65</td>\n",
       "    </tr>\n",
       "    <tr>\n",
       "      <th>19</th>\n",
       "      <td>TISCO</td>\n",
       "      <td>89.50</td>\n",
       "      <td>89.75</td>\n",
       "      <td>-0.28</td>\n",
       "    </tr>\n",
       "    <tr>\n",
       "      <th>20</th>\n",
       "      <td>TMT</td>\n",
       "      <td>8.70</td>\n",
       "      <td>9.00</td>\n",
       "      <td>-3.33</td>\n",
       "    </tr>\n",
       "    <tr>\n",
       "      <th>21</th>\n",
       "      <td>TOP</td>\n",
       "      <td>49.75</td>\n",
       "      <td>49.50</td>\n",
       "      <td>0.51</td>\n",
       "    </tr>\n",
       "    <tr>\n",
       "      <th>22</th>\n",
       "      <td>TPIPL</td>\n",
       "      <td>1.51</td>\n",
       "      <td>1.50</td>\n",
       "      <td>0.67</td>\n",
       "    </tr>\n",
       "    <tr>\n",
       "      <th>23</th>\n",
       "      <td>TTB</td>\n",
       "      <td>1.23</td>\n",
       "      <td>1.26</td>\n",
       "      <td>-2.38</td>\n",
       "    </tr>\n",
       "    <tr>\n",
       "      <th>24</th>\n",
       "      <td>WHAIR</td>\n",
       "      <td>7.40</td>\n",
       "      <td>7.75</td>\n",
       "      <td>-4.52</td>\n",
       "    </tr>\n",
       "    <tr>\n",
       "      <th>25</th>\n",
       "      <td>WHART</td>\n",
       "      <td>10.10</td>\n",
       "      <td>9.70</td>\n",
       "      <td>4.12</td>\n",
       "    </tr>\n",
       "  </tbody>\n",
       "</table>\n",
       "</div>"
      ],
      "text/plain": [
       "      name  price_d  price_w  percent\n",
       "0      ASP     3.14     3.14     0.00\n",
       "1      BCH    18.90    18.10     4.42\n",
       "2      DCC     2.82     2.76     2.17\n",
       "3      DIF    13.10    13.50    -2.96\n",
       "4   DOHOME    16.60    17.10    -2.92\n",
       "5    JASIF     9.60    10.50    -8.57\n",
       "6      KCE    61.00    61.75    -1.21\n",
       "7    MAKRO    34.50    35.00    -1.43\n",
       "8      MCS    11.70    12.00    -2.50\n",
       "9      NER     6.10     6.15    -0.81\n",
       "10     ORI    10.10    10.00     1.00\n",
       "11   PTTGC    44.75    43.75     2.29\n",
       "12     RCL    40.75    42.25    -3.55\n",
       "13     SCC   379.00   356.00     6.46\n",
       "14    SCCC   150.50   149.50     0.67\n",
       "15    SENA     3.98     4.02    -1.00\n",
       "16     SIS    26.75    26.50     0.94\n",
       "17     STA    21.50    21.30     0.94\n",
       "18   SYNEX    18.50    18.20     1.65\n",
       "19   TISCO    89.50    89.75    -0.28\n",
       "20     TMT     8.70     9.00    -3.33\n",
       "21     TOP    49.75    49.50     0.51\n",
       "22   TPIPL     1.51     1.50     0.67\n",
       "23     TTB     1.23     1.26    -2.38\n",
       "24   WHAIR     7.40     7.75    -4.52\n",
       "25   WHART    10.10     9.70     4.12"
      ]
     },
     "execution_count": 13,
     "metadata": {},
     "output_type": "execute_result"
    }
   ],
   "source": [
    "trend"
   ]
  },
  {
   "cell_type": "code",
   "execution_count": 14,
   "metadata": {},
   "outputs": [],
   "source": [
    "trend[\"perform\"] = trend[[\"price_d\",\"price_w\"]].apply(performance, axis=1)"
   ]
  },
  {
   "cell_type": "code",
   "execution_count": 15,
   "metadata": {},
   "outputs": [
    {
     "data": {
      "text/html": [
       "<style type=\"text/css\">\n",
       "</style>\n",
       "<table id=\"T_04dd5_\">\n",
       "  <thead>\n",
       "    <tr>\n",
       "      <th class=\"blank level0\" >&nbsp;</th>\n",
       "      <th class=\"col_heading level0 col0\" >name</th>\n",
       "      <th class=\"col_heading level0 col1\" >price_d</th>\n",
       "      <th class=\"col_heading level0 col2\" >price_w</th>\n",
       "      <th class=\"col_heading level0 col3\" >percent</th>\n",
       "      <th class=\"col_heading level0 col4\" >perform</th>\n",
       "    </tr>\n",
       "  </thead>\n",
       "  <tbody>\n",
       "    <tr>\n",
       "      <th id=\"T_04dd5_level0_row0\" class=\"row_heading level0 row0\" >5</th>\n",
       "      <td id=\"T_04dd5_row0_col0\" class=\"data row0 col0\" >JASIF</td>\n",
       "      <td id=\"T_04dd5_row0_col1\" class=\"data row0 col1\" >9.60</td>\n",
       "      <td id=\"T_04dd5_row0_col2\" class=\"data row0 col2\" >10.50</td>\n",
       "      <td id=\"T_04dd5_row0_col3\" class=\"data row0 col3\" >-8.57%</td>\n",
       "      <td id=\"T_04dd5_row0_col4\" class=\"data row0 col4\" >Worse</td>\n",
       "    </tr>\n",
       "    <tr>\n",
       "      <th id=\"T_04dd5_level0_row1\" class=\"row_heading level0 row1\" >24</th>\n",
       "      <td id=\"T_04dd5_row1_col0\" class=\"data row1 col0\" >WHAIR</td>\n",
       "      <td id=\"T_04dd5_row1_col1\" class=\"data row1 col1\" >7.40</td>\n",
       "      <td id=\"T_04dd5_row1_col2\" class=\"data row1 col2\" >7.75</td>\n",
       "      <td id=\"T_04dd5_row1_col3\" class=\"data row1 col3\" >-4.52%</td>\n",
       "      <td id=\"T_04dd5_row1_col4\" class=\"data row1 col4\" >Worse</td>\n",
       "    </tr>\n",
       "    <tr>\n",
       "      <th id=\"T_04dd5_level0_row2\" class=\"row_heading level0 row2\" >12</th>\n",
       "      <td id=\"T_04dd5_row2_col0\" class=\"data row2 col0\" >RCL</td>\n",
       "      <td id=\"T_04dd5_row2_col1\" class=\"data row2 col1\" >40.75</td>\n",
       "      <td id=\"T_04dd5_row2_col2\" class=\"data row2 col2\" >42.25</td>\n",
       "      <td id=\"T_04dd5_row2_col3\" class=\"data row2 col3\" >-3.55%</td>\n",
       "      <td id=\"T_04dd5_row2_col4\" class=\"data row2 col4\" >Worse</td>\n",
       "    </tr>\n",
       "    <tr>\n",
       "      <th id=\"T_04dd5_level0_row3\" class=\"row_heading level0 row3\" >20</th>\n",
       "      <td id=\"T_04dd5_row3_col0\" class=\"data row3 col0\" >TMT</td>\n",
       "      <td id=\"T_04dd5_row3_col1\" class=\"data row3 col1\" >8.70</td>\n",
       "      <td id=\"T_04dd5_row3_col2\" class=\"data row3 col2\" >9.00</td>\n",
       "      <td id=\"T_04dd5_row3_col3\" class=\"data row3 col3\" >-3.33%</td>\n",
       "      <td id=\"T_04dd5_row3_col4\" class=\"data row3 col4\" >Worse</td>\n",
       "    </tr>\n",
       "    <tr>\n",
       "      <th id=\"T_04dd5_level0_row4\" class=\"row_heading level0 row4\" >3</th>\n",
       "      <td id=\"T_04dd5_row4_col0\" class=\"data row4 col0\" >DIF</td>\n",
       "      <td id=\"T_04dd5_row4_col1\" class=\"data row4 col1\" >13.10</td>\n",
       "      <td id=\"T_04dd5_row4_col2\" class=\"data row4 col2\" >13.50</td>\n",
       "      <td id=\"T_04dd5_row4_col3\" class=\"data row4 col3\" >-2.96%</td>\n",
       "      <td id=\"T_04dd5_row4_col4\" class=\"data row4 col4\" >Worse</td>\n",
       "    </tr>\n",
       "    <tr>\n",
       "      <th id=\"T_04dd5_level0_row5\" class=\"row_heading level0 row5\" >4</th>\n",
       "      <td id=\"T_04dd5_row5_col0\" class=\"data row5 col0\" >DOHOME</td>\n",
       "      <td id=\"T_04dd5_row5_col1\" class=\"data row5 col1\" >16.60</td>\n",
       "      <td id=\"T_04dd5_row5_col2\" class=\"data row5 col2\" >17.10</td>\n",
       "      <td id=\"T_04dd5_row5_col3\" class=\"data row5 col3\" >-2.92%</td>\n",
       "      <td id=\"T_04dd5_row5_col4\" class=\"data row5 col4\" >Worse</td>\n",
       "    </tr>\n",
       "    <tr>\n",
       "      <th id=\"T_04dd5_level0_row6\" class=\"row_heading level0 row6\" >8</th>\n",
       "      <td id=\"T_04dd5_row6_col0\" class=\"data row6 col0\" >MCS</td>\n",
       "      <td id=\"T_04dd5_row6_col1\" class=\"data row6 col1\" >11.70</td>\n",
       "      <td id=\"T_04dd5_row6_col2\" class=\"data row6 col2\" >12.00</td>\n",
       "      <td id=\"T_04dd5_row6_col3\" class=\"data row6 col3\" >-2.50%</td>\n",
       "      <td id=\"T_04dd5_row6_col4\" class=\"data row6 col4\" >Worse</td>\n",
       "    </tr>\n",
       "    <tr>\n",
       "      <th id=\"T_04dd5_level0_row7\" class=\"row_heading level0 row7\" >23</th>\n",
       "      <td id=\"T_04dd5_row7_col0\" class=\"data row7 col0\" >TTB</td>\n",
       "      <td id=\"T_04dd5_row7_col1\" class=\"data row7 col1\" >1.23</td>\n",
       "      <td id=\"T_04dd5_row7_col2\" class=\"data row7 col2\" >1.26</td>\n",
       "      <td id=\"T_04dd5_row7_col3\" class=\"data row7 col3\" >-2.38%</td>\n",
       "      <td id=\"T_04dd5_row7_col4\" class=\"data row7 col4\" >Worse</td>\n",
       "    </tr>\n",
       "    <tr>\n",
       "      <th id=\"T_04dd5_level0_row8\" class=\"row_heading level0 row8\" >7</th>\n",
       "      <td id=\"T_04dd5_row8_col0\" class=\"data row8 col0\" >MAKRO</td>\n",
       "      <td id=\"T_04dd5_row8_col1\" class=\"data row8 col1\" >34.50</td>\n",
       "      <td id=\"T_04dd5_row8_col2\" class=\"data row8 col2\" >35.00</td>\n",
       "      <td id=\"T_04dd5_row8_col3\" class=\"data row8 col3\" >-1.43%</td>\n",
       "      <td id=\"T_04dd5_row8_col4\" class=\"data row8 col4\" >Worse</td>\n",
       "    </tr>\n",
       "    <tr>\n",
       "      <th id=\"T_04dd5_level0_row9\" class=\"row_heading level0 row9\" >6</th>\n",
       "      <td id=\"T_04dd5_row9_col0\" class=\"data row9 col0\" >KCE</td>\n",
       "      <td id=\"T_04dd5_row9_col1\" class=\"data row9 col1\" >61.00</td>\n",
       "      <td id=\"T_04dd5_row9_col2\" class=\"data row9 col2\" >61.75</td>\n",
       "      <td id=\"T_04dd5_row9_col3\" class=\"data row9 col3\" >-1.21%</td>\n",
       "      <td id=\"T_04dd5_row9_col4\" class=\"data row9 col4\" >Worse</td>\n",
       "    </tr>\n",
       "    <tr>\n",
       "      <th id=\"T_04dd5_level0_row10\" class=\"row_heading level0 row10\" >15</th>\n",
       "      <td id=\"T_04dd5_row10_col0\" class=\"data row10 col0\" >SENA</td>\n",
       "      <td id=\"T_04dd5_row10_col1\" class=\"data row10 col1\" >3.98</td>\n",
       "      <td id=\"T_04dd5_row10_col2\" class=\"data row10 col2\" >4.02</td>\n",
       "      <td id=\"T_04dd5_row10_col3\" class=\"data row10 col3\" >-1.00%</td>\n",
       "      <td id=\"T_04dd5_row10_col4\" class=\"data row10 col4\" >Worse</td>\n",
       "    </tr>\n",
       "    <tr>\n",
       "      <th id=\"T_04dd5_level0_row11\" class=\"row_heading level0 row11\" >9</th>\n",
       "      <td id=\"T_04dd5_row11_col0\" class=\"data row11 col0\" >NER</td>\n",
       "      <td id=\"T_04dd5_row11_col1\" class=\"data row11 col1\" >6.10</td>\n",
       "      <td id=\"T_04dd5_row11_col2\" class=\"data row11 col2\" >6.15</td>\n",
       "      <td id=\"T_04dd5_row11_col3\" class=\"data row11 col3\" >-0.81%</td>\n",
       "      <td id=\"T_04dd5_row11_col4\" class=\"data row11 col4\" >Worse</td>\n",
       "    </tr>\n",
       "    <tr>\n",
       "      <th id=\"T_04dd5_level0_row12\" class=\"row_heading level0 row12\" >19</th>\n",
       "      <td id=\"T_04dd5_row12_col0\" class=\"data row12 col0\" >TISCO</td>\n",
       "      <td id=\"T_04dd5_row12_col1\" class=\"data row12 col1\" >89.50</td>\n",
       "      <td id=\"T_04dd5_row12_col2\" class=\"data row12 col2\" >89.75</td>\n",
       "      <td id=\"T_04dd5_row12_col3\" class=\"data row12 col3\" >-0.28%</td>\n",
       "      <td id=\"T_04dd5_row12_col4\" class=\"data row12 col4\" >Worse</td>\n",
       "    </tr>\n",
       "    <tr>\n",
       "      <th id=\"T_04dd5_level0_row13\" class=\"row_heading level0 row13\" >0</th>\n",
       "      <td id=\"T_04dd5_row13_col0\" class=\"data row13 col0\" >ASP</td>\n",
       "      <td id=\"T_04dd5_row13_col1\" class=\"data row13 col1\" >3.14</td>\n",
       "      <td id=\"T_04dd5_row13_col2\" class=\"data row13 col2\" >3.14</td>\n",
       "      <td id=\"T_04dd5_row13_col3\" class=\"data row13 col3\" >0.00%</td>\n",
       "      <td id=\"T_04dd5_row13_col4\" class=\"data row13 col4\" >No Change</td>\n",
       "    </tr>\n",
       "    <tr>\n",
       "      <th id=\"T_04dd5_level0_row14\" class=\"row_heading level0 row14\" >21</th>\n",
       "      <td id=\"T_04dd5_row14_col0\" class=\"data row14 col0\" >TOP</td>\n",
       "      <td id=\"T_04dd5_row14_col1\" class=\"data row14 col1\" >49.75</td>\n",
       "      <td id=\"T_04dd5_row14_col2\" class=\"data row14 col2\" >49.50</td>\n",
       "      <td id=\"T_04dd5_row14_col3\" class=\"data row14 col3\" >0.51%</td>\n",
       "      <td id=\"T_04dd5_row14_col4\" class=\"data row14 col4\" >Better</td>\n",
       "    </tr>\n",
       "    <tr>\n",
       "      <th id=\"T_04dd5_level0_row15\" class=\"row_heading level0 row15\" >22</th>\n",
       "      <td id=\"T_04dd5_row15_col0\" class=\"data row15 col0\" >TPIPL</td>\n",
       "      <td id=\"T_04dd5_row15_col1\" class=\"data row15 col1\" >1.51</td>\n",
       "      <td id=\"T_04dd5_row15_col2\" class=\"data row15 col2\" >1.50</td>\n",
       "      <td id=\"T_04dd5_row15_col3\" class=\"data row15 col3\" >0.67%</td>\n",
       "      <td id=\"T_04dd5_row15_col4\" class=\"data row15 col4\" >Better</td>\n",
       "    </tr>\n",
       "    <tr>\n",
       "      <th id=\"T_04dd5_level0_row16\" class=\"row_heading level0 row16\" >14</th>\n",
       "      <td id=\"T_04dd5_row16_col0\" class=\"data row16 col0\" >SCCC</td>\n",
       "      <td id=\"T_04dd5_row16_col1\" class=\"data row16 col1\" >150.50</td>\n",
       "      <td id=\"T_04dd5_row16_col2\" class=\"data row16 col2\" >149.50</td>\n",
       "      <td id=\"T_04dd5_row16_col3\" class=\"data row16 col3\" >0.67%</td>\n",
       "      <td id=\"T_04dd5_row16_col4\" class=\"data row16 col4\" >Better</td>\n",
       "    </tr>\n",
       "    <tr>\n",
       "      <th id=\"T_04dd5_level0_row17\" class=\"row_heading level0 row17\" >17</th>\n",
       "      <td id=\"T_04dd5_row17_col0\" class=\"data row17 col0\" >STA</td>\n",
       "      <td id=\"T_04dd5_row17_col1\" class=\"data row17 col1\" >21.50</td>\n",
       "      <td id=\"T_04dd5_row17_col2\" class=\"data row17 col2\" >21.30</td>\n",
       "      <td id=\"T_04dd5_row17_col3\" class=\"data row17 col3\" >0.94%</td>\n",
       "      <td id=\"T_04dd5_row17_col4\" class=\"data row17 col4\" >Better</td>\n",
       "    </tr>\n",
       "    <tr>\n",
       "      <th id=\"T_04dd5_level0_row18\" class=\"row_heading level0 row18\" >16</th>\n",
       "      <td id=\"T_04dd5_row18_col0\" class=\"data row18 col0\" >SIS</td>\n",
       "      <td id=\"T_04dd5_row18_col1\" class=\"data row18 col1\" >26.75</td>\n",
       "      <td id=\"T_04dd5_row18_col2\" class=\"data row18 col2\" >26.50</td>\n",
       "      <td id=\"T_04dd5_row18_col3\" class=\"data row18 col3\" >0.94%</td>\n",
       "      <td id=\"T_04dd5_row18_col4\" class=\"data row18 col4\" >Better</td>\n",
       "    </tr>\n",
       "    <tr>\n",
       "      <th id=\"T_04dd5_level0_row19\" class=\"row_heading level0 row19\" >10</th>\n",
       "      <td id=\"T_04dd5_row19_col0\" class=\"data row19 col0\" >ORI</td>\n",
       "      <td id=\"T_04dd5_row19_col1\" class=\"data row19 col1\" >10.10</td>\n",
       "      <td id=\"T_04dd5_row19_col2\" class=\"data row19 col2\" >10.00</td>\n",
       "      <td id=\"T_04dd5_row19_col3\" class=\"data row19 col3\" >1.00%</td>\n",
       "      <td id=\"T_04dd5_row19_col4\" class=\"data row19 col4\" >Better</td>\n",
       "    </tr>\n",
       "    <tr>\n",
       "      <th id=\"T_04dd5_level0_row20\" class=\"row_heading level0 row20\" >18</th>\n",
       "      <td id=\"T_04dd5_row20_col0\" class=\"data row20 col0\" >SYNEX</td>\n",
       "      <td id=\"T_04dd5_row20_col1\" class=\"data row20 col1\" >18.50</td>\n",
       "      <td id=\"T_04dd5_row20_col2\" class=\"data row20 col2\" >18.20</td>\n",
       "      <td id=\"T_04dd5_row20_col3\" class=\"data row20 col3\" >1.65%</td>\n",
       "      <td id=\"T_04dd5_row20_col4\" class=\"data row20 col4\" >Better</td>\n",
       "    </tr>\n",
       "    <tr>\n",
       "      <th id=\"T_04dd5_level0_row21\" class=\"row_heading level0 row21\" >2</th>\n",
       "      <td id=\"T_04dd5_row21_col0\" class=\"data row21 col0\" >DCC</td>\n",
       "      <td id=\"T_04dd5_row21_col1\" class=\"data row21 col1\" >2.82</td>\n",
       "      <td id=\"T_04dd5_row21_col2\" class=\"data row21 col2\" >2.76</td>\n",
       "      <td id=\"T_04dd5_row21_col3\" class=\"data row21 col3\" >2.17%</td>\n",
       "      <td id=\"T_04dd5_row21_col4\" class=\"data row21 col4\" >Better</td>\n",
       "    </tr>\n",
       "    <tr>\n",
       "      <th id=\"T_04dd5_level0_row22\" class=\"row_heading level0 row22\" >11</th>\n",
       "      <td id=\"T_04dd5_row22_col0\" class=\"data row22 col0\" >PTTGC</td>\n",
       "      <td id=\"T_04dd5_row22_col1\" class=\"data row22 col1\" >44.75</td>\n",
       "      <td id=\"T_04dd5_row22_col2\" class=\"data row22 col2\" >43.75</td>\n",
       "      <td id=\"T_04dd5_row22_col3\" class=\"data row22 col3\" >2.29%</td>\n",
       "      <td id=\"T_04dd5_row22_col4\" class=\"data row22 col4\" >Better</td>\n",
       "    </tr>\n",
       "    <tr>\n",
       "      <th id=\"T_04dd5_level0_row23\" class=\"row_heading level0 row23\" >25</th>\n",
       "      <td id=\"T_04dd5_row23_col0\" class=\"data row23 col0\" >WHART</td>\n",
       "      <td id=\"T_04dd5_row23_col1\" class=\"data row23 col1\" >10.10</td>\n",
       "      <td id=\"T_04dd5_row23_col2\" class=\"data row23 col2\" >9.70</td>\n",
       "      <td id=\"T_04dd5_row23_col3\" class=\"data row23 col3\" >4.12%</td>\n",
       "      <td id=\"T_04dd5_row23_col4\" class=\"data row23 col4\" >Better</td>\n",
       "    </tr>\n",
       "    <tr>\n",
       "      <th id=\"T_04dd5_level0_row24\" class=\"row_heading level0 row24\" >1</th>\n",
       "      <td id=\"T_04dd5_row24_col0\" class=\"data row24 col0\" >BCH</td>\n",
       "      <td id=\"T_04dd5_row24_col1\" class=\"data row24 col1\" >18.90</td>\n",
       "      <td id=\"T_04dd5_row24_col2\" class=\"data row24 col2\" >18.10</td>\n",
       "      <td id=\"T_04dd5_row24_col3\" class=\"data row24 col3\" >4.42%</td>\n",
       "      <td id=\"T_04dd5_row24_col4\" class=\"data row24 col4\" >Better</td>\n",
       "    </tr>\n",
       "    <tr>\n",
       "      <th id=\"T_04dd5_level0_row25\" class=\"row_heading level0 row25\" >13</th>\n",
       "      <td id=\"T_04dd5_row25_col0\" class=\"data row25 col0\" >SCC</td>\n",
       "      <td id=\"T_04dd5_row25_col1\" class=\"data row25 col1\" >379.00</td>\n",
       "      <td id=\"T_04dd5_row25_col2\" class=\"data row25 col2\" >356.00</td>\n",
       "      <td id=\"T_04dd5_row25_col3\" class=\"data row25 col3\" >6.46%</td>\n",
       "      <td id=\"T_04dd5_row25_col4\" class=\"data row25 col4\" >Better</td>\n",
       "    </tr>\n",
       "  </tbody>\n",
       "</table>\n"
      ],
      "text/plain": [
       "<pandas.io.formats.style.Styler at 0x1b2710706d0>"
      ]
     },
     "execution_count": 15,
     "metadata": {},
     "output_type": "execute_result"
    }
   ],
   "source": [
    "trend.sort_values(by=['percent'],ascending=[True]).style.format(format_dict)"
   ]
  },
  {
   "cell_type": "code",
   "execution_count": 16,
   "metadata": {},
   "outputs": [
    {
     "data": {
      "text/html": [
       "<style type=\"text/css\">\n",
       "</style>\n",
       "<table id=\"T_659fc_\">\n",
       "  <thead>\n",
       "    <tr>\n",
       "      <th class=\"blank level0\" >&nbsp;</th>\n",
       "      <th class=\"col_heading level0 col0\" >perform</th>\n",
       "    </tr>\n",
       "  </thead>\n",
       "  <tbody>\n",
       "    <tr>\n",
       "      <th id=\"T_659fc_level0_row0\" class=\"row_heading level0 row0\" >Worse</th>\n",
       "      <td id=\"T_659fc_row0_col0\" class=\"data row0 col0\" >50.00%</td>\n",
       "    </tr>\n",
       "    <tr>\n",
       "      <th id=\"T_659fc_level0_row1\" class=\"row_heading level0 row1\" >Better</th>\n",
       "      <td id=\"T_659fc_row1_col0\" class=\"data row1 col0\" >46.15%</td>\n",
       "    </tr>\n",
       "    <tr>\n",
       "      <th id=\"T_659fc_level0_row2\" class=\"row_heading level0 row2\" >No Change</th>\n",
       "      <td id=\"T_659fc_row2_col0\" class=\"data row2 col0\" >3.85%</td>\n",
       "    </tr>\n",
       "  </tbody>\n",
       "</table>\n"
      ],
      "text/plain": [
       "<pandas.io.formats.style.Styler at 0x1b2710c7820>"
      ]
     },
     "execution_count": 16,
     "metadata": {},
     "output_type": "execute_result"
    }
   ],
   "source": [
    "trend.perform.value_counts(normalize=True).to_frame().style.format('{:.2%}')"
   ]
  },
  {
   "cell_type": "code",
   "execution_count": 17,
   "metadata": {},
   "outputs": [
    {
     "data": {
      "text/plain": [
       "(249, 8)"
      ]
     },
     "execution_count": 17,
     "metadata": {},
     "output_type": "execute_result"
    }
   ],
   "source": [
    "sql = '''\n",
    "SELECT name, max_price AS max, min_price AS min, pe, pbv, daily_volume AS volume, beta, market\n",
    "FROM stocks\n",
    "'''\n",
    "my_stocks = pd.read_sql(sql, conmy)\n",
    "my_stocks.shape"
   ]
  },
  {
   "cell_type": "code",
   "execution_count": 18,
   "metadata": {},
   "outputs": [],
   "source": [
    "filters = [\n",
    "   (my_stocks.market.str.contains('SET50')),\n",
    "   (my_stocks.market.str.contains('SET100')),\n",
    "   (my_stocks.market.str.contains('mai'))]\n",
    "values = ['SET50','SET100','mai']\n",
    "my_stocks[\"mrkt\"] = np.select(filters, values, default='SET999')"
   ]
  },
  {
   "cell_type": "code",
   "execution_count": 19,
   "metadata": {},
   "outputs": [
    {
     "data": {
      "text/plain": [
       "(26, 13)"
      ]
     },
     "execution_count": 19,
     "metadata": {},
     "output_type": "execute_result"
    }
   ],
   "source": [
    "trend2 = pd.merge(trend, my_stocks, on='name', how='inner')\n",
    "trend2.sort_values(['percent'],ascending=[True]).shape"
   ]
  },
  {
   "cell_type": "code",
   "execution_count": 20,
   "metadata": {},
   "outputs": [
    {
     "data": {
      "text/html": [
       "<style type=\"text/css\">\n",
       "</style>\n",
       "<table id=\"T_45ee3_\">\n",
       "  <thead>\n",
       "    <tr>\n",
       "      <th class=\"blank level0\" >&nbsp;</th>\n",
       "      <th class=\"col_heading level0 col0\" >name</th>\n",
       "      <th class=\"col_heading level0 col1\" >price_d</th>\n",
       "      <th class=\"col_heading level0 col2\" >price_w</th>\n",
       "      <th class=\"col_heading level0 col3\" >percent</th>\n",
       "      <th class=\"col_heading level0 col4\" >perform</th>\n",
       "      <th class=\"col_heading level0 col5\" >mrkt</th>\n",
       "    </tr>\n",
       "  </thead>\n",
       "  <tbody>\n",
       "    <tr>\n",
       "      <th id=\"T_45ee3_level0_row0\" class=\"row_heading level0 row0\" >23</th>\n",
       "      <td id=\"T_45ee3_row0_col0\" class=\"data row0 col0\" >TTB</td>\n",
       "      <td id=\"T_45ee3_row0_col1\" class=\"data row0 col1\" >1.23</td>\n",
       "      <td id=\"T_45ee3_row0_col2\" class=\"data row0 col2\" >1.26</td>\n",
       "      <td id=\"T_45ee3_row0_col3\" class=\"data row0 col3\" >-2.38%</td>\n",
       "      <td id=\"T_45ee3_row0_col4\" class=\"data row0 col4\" >Worse</td>\n",
       "      <td id=\"T_45ee3_row0_col5\" class=\"data row0 col5\" >SET50</td>\n",
       "    </tr>\n",
       "    <tr>\n",
       "      <th id=\"T_45ee3_level0_row1\" class=\"row_heading level0 row1\" >6</th>\n",
       "      <td id=\"T_45ee3_row1_col0\" class=\"data row1 col0\" >KCE</td>\n",
       "      <td id=\"T_45ee3_row1_col1\" class=\"data row1 col1\" >61.00</td>\n",
       "      <td id=\"T_45ee3_row1_col2\" class=\"data row1 col2\" >61.75</td>\n",
       "      <td id=\"T_45ee3_row1_col3\" class=\"data row1 col3\" >-1.21%</td>\n",
       "      <td id=\"T_45ee3_row1_col4\" class=\"data row1 col4\" >Worse</td>\n",
       "      <td id=\"T_45ee3_row1_col5\" class=\"data row1 col5\" >SET50</td>\n",
       "    </tr>\n",
       "    <tr>\n",
       "      <th id=\"T_45ee3_level0_row2\" class=\"row_heading level0 row2\" >19</th>\n",
       "      <td id=\"T_45ee3_row2_col0\" class=\"data row2 col0\" >TISCO</td>\n",
       "      <td id=\"T_45ee3_row2_col1\" class=\"data row2 col1\" >89.50</td>\n",
       "      <td id=\"T_45ee3_row2_col2\" class=\"data row2 col2\" >89.75</td>\n",
       "      <td id=\"T_45ee3_row2_col3\" class=\"data row2 col3\" >-0.28%</td>\n",
       "      <td id=\"T_45ee3_row2_col4\" class=\"data row2 col4\" >Worse</td>\n",
       "      <td id=\"T_45ee3_row2_col5\" class=\"data row2 col5\" >SET50</td>\n",
       "    </tr>\n",
       "    <tr>\n",
       "      <th id=\"T_45ee3_level0_row3\" class=\"row_heading level0 row3\" >21</th>\n",
       "      <td id=\"T_45ee3_row3_col0\" class=\"data row3 col0\" >TOP</td>\n",
       "      <td id=\"T_45ee3_row3_col1\" class=\"data row3 col1\" >49.75</td>\n",
       "      <td id=\"T_45ee3_row3_col2\" class=\"data row3 col2\" >49.50</td>\n",
       "      <td id=\"T_45ee3_row3_col3\" class=\"data row3 col3\" >0.51%</td>\n",
       "      <td id=\"T_45ee3_row3_col4\" class=\"data row3 col4\" >Better</td>\n",
       "      <td id=\"T_45ee3_row3_col5\" class=\"data row3 col5\" >SET50</td>\n",
       "    </tr>\n",
       "    <tr>\n",
       "      <th id=\"T_45ee3_level0_row4\" class=\"row_heading level0 row4\" >11</th>\n",
       "      <td id=\"T_45ee3_row4_col0\" class=\"data row4 col0\" >PTTGC</td>\n",
       "      <td id=\"T_45ee3_row4_col1\" class=\"data row4 col1\" >44.75</td>\n",
       "      <td id=\"T_45ee3_row4_col2\" class=\"data row4 col2\" >43.75</td>\n",
       "      <td id=\"T_45ee3_row4_col3\" class=\"data row4 col3\" >2.29%</td>\n",
       "      <td id=\"T_45ee3_row4_col4\" class=\"data row4 col4\" >Better</td>\n",
       "      <td id=\"T_45ee3_row4_col5\" class=\"data row4 col5\" >SET50</td>\n",
       "    </tr>\n",
       "    <tr>\n",
       "      <th id=\"T_45ee3_level0_row5\" class=\"row_heading level0 row5\" >13</th>\n",
       "      <td id=\"T_45ee3_row5_col0\" class=\"data row5 col0\" >SCC</td>\n",
       "      <td id=\"T_45ee3_row5_col1\" class=\"data row5 col1\" >379.00</td>\n",
       "      <td id=\"T_45ee3_row5_col2\" class=\"data row5 col2\" >356.00</td>\n",
       "      <td id=\"T_45ee3_row5_col3\" class=\"data row5 col3\" >6.46%</td>\n",
       "      <td id=\"T_45ee3_row5_col4\" class=\"data row5 col4\" >Better</td>\n",
       "      <td id=\"T_45ee3_row5_col5\" class=\"data row5 col5\" >SET50</td>\n",
       "    </tr>\n",
       "  </tbody>\n",
       "</table>\n"
      ],
      "text/plain": [
       "<pandas.io.formats.style.Styler at 0x1b271070520>"
      ]
     },
     "execution_count": 20,
     "metadata": {},
     "output_type": "execute_result"
    }
   ],
   "source": [
    "set50 = trend2.mrkt.str.contains('SET50') \n",
    "flt_set50 = trend2[set50]\n",
    "flt_set50[cols].sort_values(by=['percent','name'],ascending=[True,True]).style.format(format_dict)"
   ]
  },
  {
   "cell_type": "code",
   "execution_count": 21,
   "metadata": {},
   "outputs": [
    {
     "data": {
      "text/html": [
       "<style type=\"text/css\">\n",
       "</style>\n",
       "<table id=\"T_64642_\">\n",
       "  <thead>\n",
       "    <tr>\n",
       "      <th class=\"blank level0\" >&nbsp;</th>\n",
       "      <th class=\"col_heading level0 col0\" >perform</th>\n",
       "    </tr>\n",
       "  </thead>\n",
       "  <tbody>\n",
       "    <tr>\n",
       "      <th id=\"T_64642_level0_row0\" class=\"row_heading level0 row0\" >Worse</th>\n",
       "      <td id=\"T_64642_row0_col0\" class=\"data row0 col0\" >50.00%</td>\n",
       "    </tr>\n",
       "    <tr>\n",
       "      <th id=\"T_64642_level0_row1\" class=\"row_heading level0 row1\" >Better</th>\n",
       "      <td id=\"T_64642_row1_col0\" class=\"data row1 col0\" >50.00%</td>\n",
       "    </tr>\n",
       "  </tbody>\n",
       "</table>\n"
      ],
      "text/plain": [
       "<pandas.io.formats.style.Styler at 0x1b2710d3760>"
      ]
     },
     "execution_count": 21,
     "metadata": {},
     "output_type": "execute_result"
    }
   ],
   "source": [
    "flt_set50.perform.value_counts(normalize=True).to_frame().style.format('{:.2%}')"
   ]
  },
  {
   "cell_type": "code",
   "execution_count": 22,
   "metadata": {
    "scrolled": true
   },
   "outputs": [
    {
     "data": {
      "text/html": [
       "<style type=\"text/css\">\n",
       "</style>\n",
       "<table id=\"T_c5a20_\">\n",
       "  <thead>\n",
       "    <tr>\n",
       "      <th class=\"blank level0\" >&nbsp;</th>\n",
       "      <th class=\"col_heading level0 col0\" >name</th>\n",
       "      <th class=\"col_heading level0 col1\" >price_d</th>\n",
       "      <th class=\"col_heading level0 col2\" >price_w</th>\n",
       "      <th class=\"col_heading level0 col3\" >percent</th>\n",
       "      <th class=\"col_heading level0 col4\" >perform</th>\n",
       "      <th class=\"col_heading level0 col5\" >mrkt</th>\n",
       "    </tr>\n",
       "  </thead>\n",
       "  <tbody>\n",
       "    <tr>\n",
       "      <th id=\"T_c5a20_level0_row0\" class=\"row_heading level0 row0\" >12</th>\n",
       "      <td id=\"T_c5a20_row0_col0\" class=\"data row0 col0\" >RCL</td>\n",
       "      <td id=\"T_c5a20_row0_col1\" class=\"data row0 col1\" >40.75</td>\n",
       "      <td id=\"T_c5a20_row0_col2\" class=\"data row0 col2\" >42.25</td>\n",
       "      <td id=\"T_c5a20_row0_col3\" class=\"data row0 col3\" >-3.55%</td>\n",
       "      <td id=\"T_c5a20_row0_col4\" class=\"data row0 col4\" >Worse</td>\n",
       "      <td id=\"T_c5a20_row0_col5\" class=\"data row0 col5\" >SET100</td>\n",
       "    </tr>\n",
       "    <tr>\n",
       "      <th id=\"T_c5a20_level0_row1\" class=\"row_heading level0 row1\" >4</th>\n",
       "      <td id=\"T_c5a20_row1_col0\" class=\"data row1 col0\" >DOHOME</td>\n",
       "      <td id=\"T_c5a20_row1_col1\" class=\"data row1 col1\" >16.60</td>\n",
       "      <td id=\"T_c5a20_row1_col2\" class=\"data row1 col2\" >17.10</td>\n",
       "      <td id=\"T_c5a20_row1_col3\" class=\"data row1 col3\" >-2.92%</td>\n",
       "      <td id=\"T_c5a20_row1_col4\" class=\"data row1 col4\" >Worse</td>\n",
       "      <td id=\"T_c5a20_row1_col5\" class=\"data row1 col5\" >SET100</td>\n",
       "    </tr>\n",
       "    <tr>\n",
       "      <th id=\"T_c5a20_level0_row2\" class=\"row_heading level0 row2\" >17</th>\n",
       "      <td id=\"T_c5a20_row2_col0\" class=\"data row2 col0\" >STA</td>\n",
       "      <td id=\"T_c5a20_row2_col1\" class=\"data row2 col1\" >21.50</td>\n",
       "      <td id=\"T_c5a20_row2_col2\" class=\"data row2 col2\" >21.30</td>\n",
       "      <td id=\"T_c5a20_row2_col3\" class=\"data row2 col3\" >0.94%</td>\n",
       "      <td id=\"T_c5a20_row2_col4\" class=\"data row2 col4\" >Better</td>\n",
       "      <td id=\"T_c5a20_row2_col5\" class=\"data row2 col5\" >SET100</td>\n",
       "    </tr>\n",
       "    <tr>\n",
       "      <th id=\"T_c5a20_level0_row3\" class=\"row_heading level0 row3\" >10</th>\n",
       "      <td id=\"T_c5a20_row3_col0\" class=\"data row3 col0\" >ORI</td>\n",
       "      <td id=\"T_c5a20_row3_col1\" class=\"data row3 col1\" >10.10</td>\n",
       "      <td id=\"T_c5a20_row3_col2\" class=\"data row3 col2\" >10.00</td>\n",
       "      <td id=\"T_c5a20_row3_col3\" class=\"data row3 col3\" >1.00%</td>\n",
       "      <td id=\"T_c5a20_row3_col4\" class=\"data row3 col4\" >Better</td>\n",
       "      <td id=\"T_c5a20_row3_col5\" class=\"data row3 col5\" >SET100</td>\n",
       "    </tr>\n",
       "    <tr>\n",
       "      <th id=\"T_c5a20_level0_row4\" class=\"row_heading level0 row4\" >18</th>\n",
       "      <td id=\"T_c5a20_row4_col0\" class=\"data row4 col0\" >SYNEX</td>\n",
       "      <td id=\"T_c5a20_row4_col1\" class=\"data row4 col1\" >18.50</td>\n",
       "      <td id=\"T_c5a20_row4_col2\" class=\"data row4 col2\" >18.20</td>\n",
       "      <td id=\"T_c5a20_row4_col3\" class=\"data row4 col3\" >1.65%</td>\n",
       "      <td id=\"T_c5a20_row4_col4\" class=\"data row4 col4\" >Better</td>\n",
       "      <td id=\"T_c5a20_row4_col5\" class=\"data row4 col5\" >SET100</td>\n",
       "    </tr>\n",
       "    <tr>\n",
       "      <th id=\"T_c5a20_level0_row5\" class=\"row_heading level0 row5\" >1</th>\n",
       "      <td id=\"T_c5a20_row5_col0\" class=\"data row5 col0\" >BCH</td>\n",
       "      <td id=\"T_c5a20_row5_col1\" class=\"data row5 col1\" >18.90</td>\n",
       "      <td id=\"T_c5a20_row5_col2\" class=\"data row5 col2\" >18.10</td>\n",
       "      <td id=\"T_c5a20_row5_col3\" class=\"data row5 col3\" >4.42%</td>\n",
       "      <td id=\"T_c5a20_row5_col4\" class=\"data row5 col4\" >Better</td>\n",
       "      <td id=\"T_c5a20_row5_col5\" class=\"data row5 col5\" >SET100</td>\n",
       "    </tr>\n",
       "  </tbody>\n",
       "</table>\n"
      ],
      "text/plain": [
       "<pandas.io.formats.style.Styler at 0x1b2710761f0>"
      ]
     },
     "execution_count": 22,
     "metadata": {},
     "output_type": "execute_result"
    }
   ],
   "source": [
    "set100 = trend2.mrkt.str.contains('SET100')\n",
    "flt_set100 = trend2[set100]\n",
    "flt_set100[cols].sort_values(by=['percent','name'],ascending=[True,True]).style.format(format_dict)"
   ]
  },
  {
   "cell_type": "code",
   "execution_count": 23,
   "metadata": {},
   "outputs": [
    {
     "data": {
      "text/html": [
       "<style type=\"text/css\">\n",
       "</style>\n",
       "<table id=\"T_f6309_\">\n",
       "  <thead>\n",
       "    <tr>\n",
       "      <th class=\"blank level0\" >&nbsp;</th>\n",
       "      <th class=\"col_heading level0 col0\" >perform</th>\n",
       "    </tr>\n",
       "  </thead>\n",
       "  <tbody>\n",
       "    <tr>\n",
       "      <th id=\"T_f6309_level0_row0\" class=\"row_heading level0 row0\" >Better</th>\n",
       "      <td id=\"T_f6309_row0_col0\" class=\"data row0 col0\" >66.67%</td>\n",
       "    </tr>\n",
       "    <tr>\n",
       "      <th id=\"T_f6309_level0_row1\" class=\"row_heading level0 row1\" >Worse</th>\n",
       "      <td id=\"T_f6309_row1_col0\" class=\"data row1 col0\" >33.33%</td>\n",
       "    </tr>\n",
       "  </tbody>\n",
       "</table>\n"
      ],
      "text/plain": [
       "<pandas.io.formats.style.Styler at 0x1b271103be0>"
      ]
     },
     "execution_count": 23,
     "metadata": {},
     "output_type": "execute_result"
    }
   ],
   "source": [
    "flt_set100[cols].perform.value_counts(normalize=True).to_frame().style.format('{:.2%}')"
   ]
  },
  {
   "cell_type": "code",
   "execution_count": 24,
   "metadata": {},
   "outputs": [
    {
     "data": {
      "text/html": [
       "<style type=\"text/css\">\n",
       "</style>\n",
       "<table id=\"T_b53a3_\">\n",
       "  <thead>\n",
       "    <tr>\n",
       "      <th class=\"blank level0\" >&nbsp;</th>\n",
       "      <th class=\"col_heading level0 col0\" >name</th>\n",
       "      <th class=\"col_heading level0 col1\" >price_d</th>\n",
       "      <th class=\"col_heading level0 col2\" >price_w</th>\n",
       "      <th class=\"col_heading level0 col3\" >percent</th>\n",
       "      <th class=\"col_heading level0 col4\" >perform</th>\n",
       "      <th class=\"col_heading level0 col5\" >mrkt</th>\n",
       "    </tr>\n",
       "  </thead>\n",
       "  <tbody>\n",
       "    <tr>\n",
       "      <th id=\"T_b53a3_level0_row0\" class=\"row_heading level0 row0\" >5</th>\n",
       "      <td id=\"T_b53a3_row0_col0\" class=\"data row0 col0\" >JASIF</td>\n",
       "      <td id=\"T_b53a3_row0_col1\" class=\"data row0 col1\" >9.60</td>\n",
       "      <td id=\"T_b53a3_row0_col2\" class=\"data row0 col2\" >10.50</td>\n",
       "      <td id=\"T_b53a3_row0_col3\" class=\"data row0 col3\" >-8.57%</td>\n",
       "      <td id=\"T_b53a3_row0_col4\" class=\"data row0 col4\" >Worse</td>\n",
       "      <td id=\"T_b53a3_row0_col5\" class=\"data row0 col5\" >SET999</td>\n",
       "    </tr>\n",
       "    <tr>\n",
       "      <th id=\"T_b53a3_level0_row1\" class=\"row_heading level0 row1\" >24</th>\n",
       "      <td id=\"T_b53a3_row1_col0\" class=\"data row1 col0\" >WHAIR</td>\n",
       "      <td id=\"T_b53a3_row1_col1\" class=\"data row1 col1\" >7.40</td>\n",
       "      <td id=\"T_b53a3_row1_col2\" class=\"data row1 col2\" >7.75</td>\n",
       "      <td id=\"T_b53a3_row1_col3\" class=\"data row1 col3\" >-4.52%</td>\n",
       "      <td id=\"T_b53a3_row1_col4\" class=\"data row1 col4\" >Worse</td>\n",
       "      <td id=\"T_b53a3_row1_col5\" class=\"data row1 col5\" >SET999</td>\n",
       "    </tr>\n",
       "    <tr>\n",
       "      <th id=\"T_b53a3_level0_row2\" class=\"row_heading level0 row2\" >20</th>\n",
       "      <td id=\"T_b53a3_row2_col0\" class=\"data row2 col0\" >TMT</td>\n",
       "      <td id=\"T_b53a3_row2_col1\" class=\"data row2 col1\" >8.70</td>\n",
       "      <td id=\"T_b53a3_row2_col2\" class=\"data row2 col2\" >9.00</td>\n",
       "      <td id=\"T_b53a3_row2_col3\" class=\"data row2 col3\" >-3.33%</td>\n",
       "      <td id=\"T_b53a3_row2_col4\" class=\"data row2 col4\" >Worse</td>\n",
       "      <td id=\"T_b53a3_row2_col5\" class=\"data row2 col5\" >SET999</td>\n",
       "    </tr>\n",
       "    <tr>\n",
       "      <th id=\"T_b53a3_level0_row3\" class=\"row_heading level0 row3\" >3</th>\n",
       "      <td id=\"T_b53a3_row3_col0\" class=\"data row3 col0\" >DIF</td>\n",
       "      <td id=\"T_b53a3_row3_col1\" class=\"data row3 col1\" >13.10</td>\n",
       "      <td id=\"T_b53a3_row3_col2\" class=\"data row3 col2\" >13.50</td>\n",
       "      <td id=\"T_b53a3_row3_col3\" class=\"data row3 col3\" >-2.96%</td>\n",
       "      <td id=\"T_b53a3_row3_col4\" class=\"data row3 col4\" >Worse</td>\n",
       "      <td id=\"T_b53a3_row3_col5\" class=\"data row3 col5\" >SET999</td>\n",
       "    </tr>\n",
       "    <tr>\n",
       "      <th id=\"T_b53a3_level0_row4\" class=\"row_heading level0 row4\" >8</th>\n",
       "      <td id=\"T_b53a3_row4_col0\" class=\"data row4 col0\" >MCS</td>\n",
       "      <td id=\"T_b53a3_row4_col1\" class=\"data row4 col1\" >11.70</td>\n",
       "      <td id=\"T_b53a3_row4_col2\" class=\"data row4 col2\" >12.00</td>\n",
       "      <td id=\"T_b53a3_row4_col3\" class=\"data row4 col3\" >-2.50%</td>\n",
       "      <td id=\"T_b53a3_row4_col4\" class=\"data row4 col4\" >Worse</td>\n",
       "      <td id=\"T_b53a3_row4_col5\" class=\"data row4 col5\" >SET999</td>\n",
       "    </tr>\n",
       "    <tr>\n",
       "      <th id=\"T_b53a3_level0_row5\" class=\"row_heading level0 row5\" >7</th>\n",
       "      <td id=\"T_b53a3_row5_col0\" class=\"data row5 col0\" >MAKRO</td>\n",
       "      <td id=\"T_b53a3_row5_col1\" class=\"data row5 col1\" >34.50</td>\n",
       "      <td id=\"T_b53a3_row5_col2\" class=\"data row5 col2\" >35.00</td>\n",
       "      <td id=\"T_b53a3_row5_col3\" class=\"data row5 col3\" >-1.43%</td>\n",
       "      <td id=\"T_b53a3_row5_col4\" class=\"data row5 col4\" >Worse</td>\n",
       "      <td id=\"T_b53a3_row5_col5\" class=\"data row5 col5\" >SET999</td>\n",
       "    </tr>\n",
       "    <tr>\n",
       "      <th id=\"T_b53a3_level0_row6\" class=\"row_heading level0 row6\" >15</th>\n",
       "      <td id=\"T_b53a3_row6_col0\" class=\"data row6 col0\" >SENA</td>\n",
       "      <td id=\"T_b53a3_row6_col1\" class=\"data row6 col1\" >3.98</td>\n",
       "      <td id=\"T_b53a3_row6_col2\" class=\"data row6 col2\" >4.02</td>\n",
       "      <td id=\"T_b53a3_row6_col3\" class=\"data row6 col3\" >-1.00%</td>\n",
       "      <td id=\"T_b53a3_row6_col4\" class=\"data row6 col4\" >Worse</td>\n",
       "      <td id=\"T_b53a3_row6_col5\" class=\"data row6 col5\" >SET999</td>\n",
       "    </tr>\n",
       "    <tr>\n",
       "      <th id=\"T_b53a3_level0_row7\" class=\"row_heading level0 row7\" >9</th>\n",
       "      <td id=\"T_b53a3_row7_col0\" class=\"data row7 col0\" >NER</td>\n",
       "      <td id=\"T_b53a3_row7_col1\" class=\"data row7 col1\" >6.10</td>\n",
       "      <td id=\"T_b53a3_row7_col2\" class=\"data row7 col2\" >6.15</td>\n",
       "      <td id=\"T_b53a3_row7_col3\" class=\"data row7 col3\" >-0.81%</td>\n",
       "      <td id=\"T_b53a3_row7_col4\" class=\"data row7 col4\" >Worse</td>\n",
       "      <td id=\"T_b53a3_row7_col5\" class=\"data row7 col5\" >SET999</td>\n",
       "    </tr>\n",
       "    <tr>\n",
       "      <th id=\"T_b53a3_level0_row8\" class=\"row_heading level0 row8\" >0</th>\n",
       "      <td id=\"T_b53a3_row8_col0\" class=\"data row8 col0\" >ASP</td>\n",
       "      <td id=\"T_b53a3_row8_col1\" class=\"data row8 col1\" >3.14</td>\n",
       "      <td id=\"T_b53a3_row8_col2\" class=\"data row8 col2\" >3.14</td>\n",
       "      <td id=\"T_b53a3_row8_col3\" class=\"data row8 col3\" >0.00%</td>\n",
       "      <td id=\"T_b53a3_row8_col4\" class=\"data row8 col4\" >No Change</td>\n",
       "      <td id=\"T_b53a3_row8_col5\" class=\"data row8 col5\" >SET999</td>\n",
       "    </tr>\n",
       "    <tr>\n",
       "      <th id=\"T_b53a3_level0_row9\" class=\"row_heading level0 row9\" >22</th>\n",
       "      <td id=\"T_b53a3_row9_col0\" class=\"data row9 col0\" >TPIPL</td>\n",
       "      <td id=\"T_b53a3_row9_col1\" class=\"data row9 col1\" >1.51</td>\n",
       "      <td id=\"T_b53a3_row9_col2\" class=\"data row9 col2\" >1.50</td>\n",
       "      <td id=\"T_b53a3_row9_col3\" class=\"data row9 col3\" >0.67%</td>\n",
       "      <td id=\"T_b53a3_row9_col4\" class=\"data row9 col4\" >Better</td>\n",
       "      <td id=\"T_b53a3_row9_col5\" class=\"data row9 col5\" >SET999</td>\n",
       "    </tr>\n",
       "    <tr>\n",
       "      <th id=\"T_b53a3_level0_row10\" class=\"row_heading level0 row10\" >14</th>\n",
       "      <td id=\"T_b53a3_row10_col0\" class=\"data row10 col0\" >SCCC</td>\n",
       "      <td id=\"T_b53a3_row10_col1\" class=\"data row10 col1\" >150.50</td>\n",
       "      <td id=\"T_b53a3_row10_col2\" class=\"data row10 col2\" >149.50</td>\n",
       "      <td id=\"T_b53a3_row10_col3\" class=\"data row10 col3\" >0.67%</td>\n",
       "      <td id=\"T_b53a3_row10_col4\" class=\"data row10 col4\" >Better</td>\n",
       "      <td id=\"T_b53a3_row10_col5\" class=\"data row10 col5\" >SET999</td>\n",
       "    </tr>\n",
       "    <tr>\n",
       "      <th id=\"T_b53a3_level0_row11\" class=\"row_heading level0 row11\" >16</th>\n",
       "      <td id=\"T_b53a3_row11_col0\" class=\"data row11 col0\" >SIS</td>\n",
       "      <td id=\"T_b53a3_row11_col1\" class=\"data row11 col1\" >26.75</td>\n",
       "      <td id=\"T_b53a3_row11_col2\" class=\"data row11 col2\" >26.50</td>\n",
       "      <td id=\"T_b53a3_row11_col3\" class=\"data row11 col3\" >0.94%</td>\n",
       "      <td id=\"T_b53a3_row11_col4\" class=\"data row11 col4\" >Better</td>\n",
       "      <td id=\"T_b53a3_row11_col5\" class=\"data row11 col5\" >SET999</td>\n",
       "    </tr>\n",
       "    <tr>\n",
       "      <th id=\"T_b53a3_level0_row12\" class=\"row_heading level0 row12\" >2</th>\n",
       "      <td id=\"T_b53a3_row12_col0\" class=\"data row12 col0\" >DCC</td>\n",
       "      <td id=\"T_b53a3_row12_col1\" class=\"data row12 col1\" >2.82</td>\n",
       "      <td id=\"T_b53a3_row12_col2\" class=\"data row12 col2\" >2.76</td>\n",
       "      <td id=\"T_b53a3_row12_col3\" class=\"data row12 col3\" >2.17%</td>\n",
       "      <td id=\"T_b53a3_row12_col4\" class=\"data row12 col4\" >Better</td>\n",
       "      <td id=\"T_b53a3_row12_col5\" class=\"data row12 col5\" >SET999</td>\n",
       "    </tr>\n",
       "    <tr>\n",
       "      <th id=\"T_b53a3_level0_row13\" class=\"row_heading level0 row13\" >25</th>\n",
       "      <td id=\"T_b53a3_row13_col0\" class=\"data row13 col0\" >WHART</td>\n",
       "      <td id=\"T_b53a3_row13_col1\" class=\"data row13 col1\" >10.10</td>\n",
       "      <td id=\"T_b53a3_row13_col2\" class=\"data row13 col2\" >9.70</td>\n",
       "      <td id=\"T_b53a3_row13_col3\" class=\"data row13 col3\" >4.12%</td>\n",
       "      <td id=\"T_b53a3_row13_col4\" class=\"data row13 col4\" >Better</td>\n",
       "      <td id=\"T_b53a3_row13_col5\" class=\"data row13 col5\" >SET999</td>\n",
       "    </tr>\n",
       "  </tbody>\n",
       "</table>\n"
      ],
      "text/plain": [
       "<pandas.io.formats.style.Styler at 0x1b271108b20>"
      ]
     },
     "execution_count": 24,
     "metadata": {},
     "output_type": "execute_result"
    }
   ],
   "source": [
    "set999 = trend2.mrkt.str.contains('SET999')\n",
    "flt_set999 = trend2[set999]\n",
    "flt_set999[cols].sort_values(by=['percent','name'],ascending=[True,True]).style.format(format_dict)"
   ]
  },
  {
   "cell_type": "code",
   "execution_count": 25,
   "metadata": {},
   "outputs": [
    {
     "data": {
      "text/html": [
       "<style type=\"text/css\">\n",
       "</style>\n",
       "<table id=\"T_4d9b9_\">\n",
       "  <thead>\n",
       "    <tr>\n",
       "      <th class=\"blank level0\" >&nbsp;</th>\n",
       "      <th class=\"col_heading level0 col0\" >perform</th>\n",
       "    </tr>\n",
       "  </thead>\n",
       "  <tbody>\n",
       "    <tr>\n",
       "      <th id=\"T_4d9b9_level0_row0\" class=\"row_heading level0 row0\" >Worse</th>\n",
       "      <td id=\"T_4d9b9_row0_col0\" class=\"data row0 col0\" >57.14%</td>\n",
       "    </tr>\n",
       "    <tr>\n",
       "      <th id=\"T_4d9b9_level0_row1\" class=\"row_heading level0 row1\" >Better</th>\n",
       "      <td id=\"T_4d9b9_row1_col0\" class=\"data row1 col0\" >35.71%</td>\n",
       "    </tr>\n",
       "    <tr>\n",
       "      <th id=\"T_4d9b9_level0_row2\" class=\"row_heading level0 row2\" >No Change</th>\n",
       "      <td id=\"T_4d9b9_row2_col0\" class=\"data row2 col0\" >7.14%</td>\n",
       "    </tr>\n",
       "  </tbody>\n",
       "</table>\n"
      ],
      "text/plain": [
       "<pandas.io.formats.style.Styler at 0x1b2711037f0>"
      ]
     },
     "execution_count": 25,
     "metadata": {},
     "output_type": "execute_result"
    }
   ],
   "source": [
    "flt_set999[cols].perform.value_counts(normalize=True).to_frame().style.format('{:.2%}')"
   ]
  },
  {
   "cell_type": "code",
   "execution_count": 26,
   "metadata": {},
   "outputs": [
    {
     "data": {
      "text/html": [
       "<style type=\"text/css\">\n",
       "</style>\n",
       "<table id=\"T_69da2_\">\n",
       "  <thead>\n",
       "    <tr>\n",
       "      <th class=\"blank level0\" >&nbsp;</th>\n",
       "      <th class=\"col_heading level0 col0\" >name</th>\n",
       "      <th class=\"col_heading level0 col1\" >price_d</th>\n",
       "      <th class=\"col_heading level0 col2\" >price_w</th>\n",
       "      <th class=\"col_heading level0 col3\" >percent</th>\n",
       "      <th class=\"col_heading level0 col4\" >perform</th>\n",
       "      <th class=\"col_heading level0 col5\" >mrkt</th>\n",
       "    </tr>\n",
       "  </thead>\n",
       "  <tbody>\n",
       "  </tbody>\n",
       "</table>\n"
      ],
      "text/plain": [
       "<pandas.io.formats.style.Styler at 0x1b2711113a0>"
      ]
     },
     "execution_count": 26,
     "metadata": {},
     "output_type": "execute_result"
    }
   ],
   "source": [
    "setmai = trend2.mrkt.str.contains('mai')\n",
    "flt_setmai = trend2[setmai]\n",
    "flt_setmai[cols].sort_values(by=['percent','name'],ascending=[True,True]).style.format(format_dict)"
   ]
  },
  {
   "cell_type": "code",
   "execution_count": 27,
   "metadata": {},
   "outputs": [
    {
     "data": {
      "text/html": [
       "<style type=\"text/css\">\n",
       "</style>\n",
       "<table id=\"T_8b722_\">\n",
       "  <thead>\n",
       "    <tr>\n",
       "      <th class=\"blank level0\" >&nbsp;</th>\n",
       "      <th class=\"col_heading level0 col0\" >perform</th>\n",
       "    </tr>\n",
       "  </thead>\n",
       "  <tbody>\n",
       "  </tbody>\n",
       "</table>\n"
      ],
      "text/plain": [
       "<pandas.io.formats.style.Styler at 0x1b2711036d0>"
      ]
     },
     "execution_count": 27,
     "metadata": {},
     "output_type": "execute_result"
    }
   ],
   "source": [
    "flt_setmai[cols].perform.value_counts(normalize=True).to_frame().style.format('{:.2%}')"
   ]
  },
  {
   "cell_type": "code",
   "execution_count": null,
   "metadata": {},
   "outputs": [],
   "source": []
  }
 ],
 "metadata": {
  "anaconda-cloud": {},
  "kernelspec": {
   "display_name": "Python 3 (ipykernel)",
   "language": "python",
   "name": "python3"
  },
  "language_info": {
   "codemirror_mode": {
    "name": "ipython",
    "version": 3
   },
   "file_extension": ".py",
   "mimetype": "text/x-python",
   "name": "python",
   "nbconvert_exporter": "python",
   "pygments_lexer": "ipython3",
   "version": "3.8.11"
  }
 },
 "nbformat": 4,
 "nbformat_minor": 1
}
