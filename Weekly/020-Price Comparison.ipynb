{
 "cells": [
  {
   "cell_type": "markdown",
   "metadata": {},
   "source": [
    "### portmy database: stocks table\n",
    "### stock database: buy, price tables"
   ]
  },
  {
   "cell_type": "code",
   "execution_count": 1,
   "metadata": {},
   "outputs": [
    {
     "data": {
      "text/plain": [
       "(datetime.date(2022, 2, 19), '2022-07')"
      ]
     },
     "execution_count": 1,
     "metadata": {},
     "output_type": "execute_result"
    }
   ],
   "source": [
    "import pandas as pd\n",
    "import numpy as np\n",
    "from datetime import date, timedelta\n",
    "from sqlalchemy import create_engine\n",
    "\n",
    "engine = create_engine(\"sqlite:///c:\\\\ruby\\\\portmy\\\\db\\\\development.sqlite3\")\n",
    "conmy = engine.connect()\n",
    "conmy = engine.connect()\n",
    "engine = create_engine(\"mysql+pymysql://root:@localhost:3306/stock\")\n",
    "const = engine.connect()\n",
    "\n",
    "pd.set_option('display.float_format','{:,.2f}'.format)\n",
    "\n",
    "data_path = \"../data/\"\n",
    "csv_path = \"\\\\Users\\\\User\\\\iCloudDrive\\\\\"\n",
    "box_path = \"\\\\Users\\\\User\\\\Dropbox\\\\\"\n",
    "\n",
    "today = date.today()\n",
    "week_str = today.strftime('%Y-%U')\n",
    "today, week_str"
   ]
  },
  {
   "cell_type": "code",
   "execution_count": 2,
   "metadata": {},
   "outputs": [
    {
     "data": {
      "text/plain": [
       "(datetime.date(2022, 2, 18), datetime.date(2022, 2, 11))"
      ]
     },
     "execution_count": 2,
     "metadata": {},
     "output_type": "execute_result"
    }
   ],
   "source": [
    "today = today - timedelta(days=1)\n",
    "wkago = today - timedelta(days=7)\n",
    "today, wkago"
   ]
  },
  {
   "cell_type": "markdown",
   "metadata": {},
   "source": [
    "### Restart & Run All Cells"
   ]
  },
  {
   "cell_type": "markdown",
   "metadata": {},
   "source": [
    "### This process affects only already in port stocks. To highlight price changes in percent."
   ]
  },
  {
   "cell_type": "code",
   "execution_count": 3,
   "metadata": {},
   "outputs": [],
   "source": [
    "cols = 'name price_d price_w percent perform mrkt '.split()"
   ]
  },
  {
   "cell_type": "code",
   "execution_count": 4,
   "metadata": {},
   "outputs": [],
   "source": [
    "format_dict = {\n",
    "    'qty':'{:,}',    \n",
    "    'price':'{:.2f}','price_d':'{:.2f}','price_w':'{:.2f}',\n",
    "    'max_price':'{:.2f}','min_price':'{:.2f}',\n",
    "    'maxp':'{:.2f}','minp':'{:.2f}','opnp':'{:.2f}',    \n",
    "    'pct':'{:,.2f}%','percent':'{:,.2f}%',\n",
    "    \n",
    "    'pe':'{:.2f}','pbv':'{:.2f}',\n",
    "    'paid_up':'{:,.2f}','market_cap':'{:,.2f}',\n",
    "    'daily_volume':'{:,.2f}','beta':'{:,.2f}', \n",
    "    'dly_vol':'{:,.2f}', \n",
    "}"
   ]
  },
  {
   "cell_type": "code",
   "execution_count": 5,
   "metadata": {},
   "outputs": [
    {
     "data": {
      "text/html": [
       "<style type=\"text/css\">\n",
       "</style>\n",
       "<table id=\"T_49093_\">\n",
       "  <thead>\n",
       "    <tr>\n",
       "      <th class=\"blank level0\" >&nbsp;</th>\n",
       "      <th class=\"col_heading level0 col0\" >name</th>\n",
       "      <th class=\"col_heading level0 col1\" >date</th>\n",
       "      <th class=\"col_heading level0 col2\" >price</th>\n",
       "    </tr>\n",
       "  </thead>\n",
       "  <tbody>\n",
       "    <tr>\n",
       "      <th id=\"T_49093_level0_row0\" class=\"row_heading level0 row0\" >0</th>\n",
       "      <td id=\"T_49093_row0_col0\" class=\"data row0 col0\" >MEGA</td>\n",
       "      <td id=\"T_49093_row0_col1\" class=\"data row0 col1\" >2022-02-15</td>\n",
       "      <td id=\"T_49093_row0_col2\" class=\"data row0 col2\" >43.00</td>\n",
       "    </tr>\n",
       "  </tbody>\n",
       "</table>\n"
      ],
      "text/plain": [
       "<pandas.io.formats.style.Styler at 0x16e383252b0>"
      ]
     },
     "execution_count": 5,
     "metadata": {},
     "output_type": "execute_result"
    }
   ],
   "source": [
    "sql = \"\"\"\n",
    "SELECT name, date, price \n",
    "FROM buy \n",
    "ORDER BY date DESC \n",
    "LIMIT 1\n",
    "\"\"\"\n",
    "df_buy = pd.read_sql(sql, const)\n",
    "df_buy.style.format(format_dict)"
   ]
  },
  {
   "cell_type": "code",
   "execution_count": 6,
   "metadata": {},
   "outputs": [
    {
     "name": "stdout",
     "output_type": "stream",
     "text": [
      "\n",
      "SELECT * FROM stocks WHERE name = 'MEGA'\n",
      "\n"
     ]
    },
    {
     "data": {
      "text/html": [
       "<style type=\"text/css\">\n",
       "</style>\n",
       "<table id=\"T_bd76f_\">\n",
       "  <thead>\n",
       "    <tr>\n",
       "      <th class=\"blank level0\" >&nbsp;</th>\n",
       "      <th class=\"col_heading level0 col0\" >id</th>\n",
       "      <th class=\"col_heading level0 col1\" >name</th>\n",
       "      <th class=\"col_heading level0 col2\" >market</th>\n",
       "      <th class=\"col_heading level0 col3\" >price</th>\n",
       "      <th class=\"col_heading level0 col4\" >max_price</th>\n",
       "      <th class=\"col_heading level0 col5\" >min_price</th>\n",
       "      <th class=\"col_heading level0 col6\" >pe</th>\n",
       "      <th class=\"col_heading level0 col7\" >pbv</th>\n",
       "      <th class=\"col_heading level0 col8\" >paid_up</th>\n",
       "      <th class=\"col_heading level0 col9\" >market_cap</th>\n",
       "      <th class=\"col_heading level0 col10\" >daily_volume</th>\n",
       "      <th class=\"col_heading level0 col11\" >beta</th>\n",
       "      <th class=\"col_heading level0 col12\" >ticker_id</th>\n",
       "      <th class=\"col_heading level0 col13\" >created_at</th>\n",
       "      <th class=\"col_heading level0 col14\" >updated_at</th>\n",
       "    </tr>\n",
       "  </thead>\n",
       "  <tbody>\n",
       "    <tr>\n",
       "      <th id=\"T_bd76f_level0_row0\" class=\"row_heading level0 row0\" >0</th>\n",
       "      <td id=\"T_bd76f_row0_col0\" class=\"data row0 col0\" >295</td>\n",
       "      <td id=\"T_bd76f_row0_col1\" class=\"data row0 col1\" >MEGA</td>\n",
       "      <td id=\"T_bd76f_row0_col2\" class=\"data row0 col2\" >SET100 / SETCLMV / SETWB    </td>\n",
       "      <td id=\"T_bd76f_row0_col3\" class=\"data row0 col3\" >43.50</td>\n",
       "      <td id=\"T_bd76f_row0_col4\" class=\"data row0 col4\" >56.50</td>\n",
       "      <td id=\"T_bd76f_row0_col5\" class=\"data row0 col5\" >32.25</td>\n",
       "      <td id=\"T_bd76f_row0_col6\" class=\"data row0 col6\" >20.20</td>\n",
       "      <td id=\"T_bd76f_row0_col7\" class=\"data row0 col7\" >5.08</td>\n",
       "      <td id=\"T_bd76f_row0_col8\" class=\"data row0 col8\" >435.93</td>\n",
       "      <td id=\"T_bd76f_row0_col9\" class=\"data row0 col9\" >37,926.32</td>\n",
       "      <td id=\"T_bd76f_row0_col10\" class=\"data row0 col10\" >164.02</td>\n",
       "      <td id=\"T_bd76f_row0_col11\" class=\"data row0 col11\" >0.49</td>\n",
       "      <td id=\"T_bd76f_row0_col12\" class=\"data row0 col12\" >295</td>\n",
       "      <td id=\"T_bd76f_row0_col13\" class=\"data row0 col13\" >2017-07-23 07:25:00.817927</td>\n",
       "      <td id=\"T_bd76f_row0_col14\" class=\"data row0 col14\" >2022-02-19 00:00:47.233870</td>\n",
       "    </tr>\n",
       "  </tbody>\n",
       "</table>\n"
      ],
      "text/plain": [
       "<pandas.io.formats.style.Styler at 0x16e3bf9a7f0>"
      ]
     },
     "execution_count": 6,
     "metadata": {},
     "output_type": "execute_result"
    }
   ],
   "source": [
    "names = df_buy['name']\n",
    "name = names.to_string(index=False)\n",
    "\n",
    "sql = '''\n",
    "SELECT * FROM stocks WHERE name = '%s'\n",
    "'''\n",
    "sql = sql % name\n",
    "print(sql)\n",
    "\n",
    "df_stocks = pd.read_sql(sql, conmy)\n",
    "df_stocks.style.format(format_dict) "
   ]
  },
  {
   "cell_type": "code",
   "execution_count": 7,
   "metadata": {},
   "outputs": [
    {
     "name": "stdout",
     "output_type": "stream",
     "text": [
      "\n",
      "SELECT * FROM price WHERE name = \"MEGA\" ORDER BY date DESC LIMIT 5\n",
      "\n"
     ]
    },
    {
     "data": {
      "text/html": [
       "<style type=\"text/css\">\n",
       "</style>\n",
       "<table id=\"T_8b1ab_\">\n",
       "  <thead>\n",
       "    <tr>\n",
       "      <th class=\"blank level0\" >&nbsp;</th>\n",
       "      <th class=\"col_heading level0 col0\" >name</th>\n",
       "      <th class=\"col_heading level0 col1\" >date</th>\n",
       "      <th class=\"col_heading level0 col2\" >price</th>\n",
       "      <th class=\"col_heading level0 col3\" >maxp</th>\n",
       "      <th class=\"col_heading level0 col4\" >minp</th>\n",
       "      <th class=\"col_heading level0 col5\" >qty</th>\n",
       "      <th class=\"col_heading level0 col6\" >opnp</th>\n",
       "    </tr>\n",
       "  </thead>\n",
       "  <tbody>\n",
       "    <tr>\n",
       "      <th id=\"T_8b1ab_level0_row0\" class=\"row_heading level0 row0\" >0</th>\n",
       "      <td id=\"T_8b1ab_row0_col0\" class=\"data row0 col0\" >MEGA</td>\n",
       "      <td id=\"T_8b1ab_row0_col1\" class=\"data row0 col1\" >2022-02-18</td>\n",
       "      <td id=\"T_8b1ab_row0_col2\" class=\"data row0 col2\" >43.50</td>\n",
       "      <td id=\"T_8b1ab_row0_col3\" class=\"data row0 col3\" >44.00</td>\n",
       "      <td id=\"T_8b1ab_row0_col4\" class=\"data row0 col4\" >43.25</td>\n",
       "      <td id=\"T_8b1ab_row0_col5\" class=\"data row0 col5\" >1,818,165</td>\n",
       "      <td id=\"T_8b1ab_row0_col6\" class=\"data row0 col6\" >43.75</td>\n",
       "    </tr>\n",
       "    <tr>\n",
       "      <th id=\"T_8b1ab_level0_row1\" class=\"row_heading level0 row1\" >1</th>\n",
       "      <td id=\"T_8b1ab_row1_col0\" class=\"data row1 col0\" >MEGA</td>\n",
       "      <td id=\"T_8b1ab_row1_col1\" class=\"data row1 col1\" >2022-02-17</td>\n",
       "      <td id=\"T_8b1ab_row1_col2\" class=\"data row1 col2\" >43.50</td>\n",
       "      <td id=\"T_8b1ab_row1_col3\" class=\"data row1 col3\" >44.25</td>\n",
       "      <td id=\"T_8b1ab_row1_col4\" class=\"data row1 col4\" >43.00</td>\n",
       "      <td id=\"T_8b1ab_row1_col5\" class=\"data row1 col5\" >4,742,423</td>\n",
       "      <td id=\"T_8b1ab_row1_col6\" class=\"data row1 col6\" >43.50</td>\n",
       "    </tr>\n",
       "    <tr>\n",
       "      <th id=\"T_8b1ab_level0_row2\" class=\"row_heading level0 row2\" >2</th>\n",
       "      <td id=\"T_8b1ab_row2_col0\" class=\"data row2 col0\" >MEGA</td>\n",
       "      <td id=\"T_8b1ab_row2_col1\" class=\"data row2 col1\" >2022-02-15</td>\n",
       "      <td id=\"T_8b1ab_row2_col2\" class=\"data row2 col2\" >43.25</td>\n",
       "      <td id=\"T_8b1ab_row2_col3\" class=\"data row2 col3\" >43.75</td>\n",
       "      <td id=\"T_8b1ab_row2_col4\" class=\"data row2 col4\" >42.75</td>\n",
       "      <td id=\"T_8b1ab_row2_col5\" class=\"data row2 col5\" >4,711,865</td>\n",
       "      <td id=\"T_8b1ab_row2_col6\" class=\"data row2 col6\" >43.50</td>\n",
       "    </tr>\n",
       "    <tr>\n",
       "      <th id=\"T_8b1ab_level0_row3\" class=\"row_heading level0 row3\" >3</th>\n",
       "      <td id=\"T_8b1ab_row3_col0\" class=\"data row3 col0\" >MEGA</td>\n",
       "      <td id=\"T_8b1ab_row3_col1\" class=\"data row3 col1\" >2022-02-14</td>\n",
       "      <td id=\"T_8b1ab_row3_col2\" class=\"data row3 col2\" >43.25</td>\n",
       "      <td id=\"T_8b1ab_row3_col3\" class=\"data row3 col3\" >44.25</td>\n",
       "      <td id=\"T_8b1ab_row3_col4\" class=\"data row3 col4\" >43.00</td>\n",
       "      <td id=\"T_8b1ab_row3_col5\" class=\"data row3 col5\" >3,021,267</td>\n",
       "      <td id=\"T_8b1ab_row3_col6\" class=\"data row3 col6\" >44.00</td>\n",
       "    </tr>\n",
       "    <tr>\n",
       "      <th id=\"T_8b1ab_level0_row4\" class=\"row_heading level0 row4\" >4</th>\n",
       "      <td id=\"T_8b1ab_row4_col0\" class=\"data row4 col0\" >MEGA</td>\n",
       "      <td id=\"T_8b1ab_row4_col1\" class=\"data row4 col1\" >2022-02-11</td>\n",
       "      <td id=\"T_8b1ab_row4_col2\" class=\"data row4 col2\" >44.25</td>\n",
       "      <td id=\"T_8b1ab_row4_col3\" class=\"data row4 col3\" >45.25</td>\n",
       "      <td id=\"T_8b1ab_row4_col4\" class=\"data row4 col4\" >43.00</td>\n",
       "      <td id=\"T_8b1ab_row4_col5\" class=\"data row4 col5\" >6,840,540</td>\n",
       "      <td id=\"T_8b1ab_row4_col6\" class=\"data row4 col6\" >45.00</td>\n",
       "    </tr>\n",
       "  </tbody>\n",
       "</table>\n"
      ],
      "text/plain": [
       "<pandas.io.formats.style.Styler at 0x16e3bfb5eb0>"
      ]
     },
     "execution_count": 7,
     "metadata": {},
     "output_type": "execute_result"
    }
   ],
   "source": [
    "sql = '''\n",
    "SELECT * FROM price WHERE name = \"%s\" ORDER BY date DESC LIMIT 5\n",
    "'''\n",
    "sql = sql % name\n",
    "print(sql)\n",
    "\n",
    "df_price = pd.read_sql(sql, const)\n",
    "df_price.style.format(format_dict)"
   ]
  },
  {
   "cell_type": "code",
   "execution_count": 8,
   "metadata": {},
   "outputs": [
    {
     "name": "stdout",
     "output_type": "stream",
     "text": [
      "\n",
      "SELECT name, price AS price_d \n",
      "FROM price \n",
      "WHERE date = '2022-02-18' AND name IN ('BCH', 'BGRIM', 'CKP', 'CPNCG', 'DIF', 'DOHOME', 'GLOBAL', 'HREIT', 'IP', 'IVL', 'JASIF', 'KCE', 'LPF', 'MCS', 'MEGA', 'NER', 'NOBLE', 'PTT', 'PTTGC', 'RATCH', 'RCL', 'RJH', 'SCC', 'SINGER', 'SIS', 'STA', 'SYNEX', 'TISCO', 'TMT', 'TSE', 'TU', 'TYCN', 'WHART')\n",
      "ORDER BY name, date\n"
     ]
    },
    {
     "data": {
      "text/plain": [
       "33"
      ]
     },
     "execution_count": 8,
     "metadata": {},
     "output_type": "execute_result"
    }
   ],
   "source": [
    "sql = '''\n",
    "SELECT name\n",
    "FROM buy \n",
    "WHERE active = 1\n",
    "ORDER BY name'''\n",
    "df_price = pd.read_sql(sql, const)\n",
    "\n",
    "names = df_price.name.tolist()\n",
    "in_p = \", \".join(map(lambda name: \"'%s'\" % name, names))\n",
    "\n",
    "sql = \"\"\"\n",
    "SELECT name, price AS price_d \n",
    "FROM price \n",
    "WHERE date = '%s' AND name IN (%s)\n",
    "ORDER BY name, date\"\"\"\n",
    "sql = sql % (today, in_p)\n",
    "print(sql)\n",
    "\n",
    "df_today = pd.read_sql(sql, const)\n",
    "df_today.shape[0]"
   ]
  },
  {
   "cell_type": "code",
   "execution_count": 9,
   "metadata": {},
   "outputs": [
    {
     "name": "stdout",
     "output_type": "stream",
     "text": [
      "\n",
      "SELECT name, price AS price_w\n",
      "FROM price \n",
      "WHERE date = '2022-02-11' AND name IN ('BCH', 'BGRIM', 'CKP', 'CPNCG', 'DIF', 'DOHOME', 'GLOBAL', 'HREIT', 'IP', 'IVL', 'JASIF', 'KCE', 'LPF', 'MCS', 'MEGA', 'NER', 'NOBLE', 'PTT', 'PTTGC', 'RATCH', 'RCL', 'RJH', 'SCC', 'SINGER', 'SIS', 'STA', 'SYNEX', 'TISCO', 'TMT', 'TSE', 'TU', 'TYCN', 'WHART') \n",
      "ORDER BY name\n"
     ]
    },
    {
     "data": {
      "text/plain": [
       "33"
      ]
     },
     "execution_count": 9,
     "metadata": {},
     "output_type": "execute_result"
    }
   ],
   "source": [
    "sql = \"\"\"\n",
    "SELECT name, price AS price_w\n",
    "FROM price \n",
    "WHERE date = '%s' AND name IN (%s) \n",
    "ORDER BY name\"\"\"\n",
    "sql = sql % (wkago, in_p)\n",
    "print(sql)\n",
    "\n",
    "df_wkago = pd.read_sql(sql, const)\n",
    "df_wkago.shape[0]"
   ]
  },
  {
   "cell_type": "code",
   "execution_count": 10,
   "metadata": {},
   "outputs": [
    {
     "data": {
      "text/plain": [
       "(33, 3)"
      ]
     },
     "execution_count": 10,
     "metadata": {},
     "output_type": "execute_result"
    }
   ],
   "source": [
    "trend = pd.merge(df_today, df_wkago, on='name',how='inner')\n",
    "trend.shape"
   ]
  },
  {
   "cell_type": "code",
   "execution_count": 11,
   "metadata": {},
   "outputs": [],
   "source": [
    "def performance(vals):\n",
    "    price_d, price_w = vals\n",
    "    if (price_d > price_w):\n",
    "        return 'Better'\n",
    "    elif (price_d < price_w):\n",
    "        return 'Worse'\n",
    "    else:\n",
    "        return 'No Change'"
   ]
  },
  {
   "cell_type": "code",
   "execution_count": 12,
   "metadata": {},
   "outputs": [
    {
     "data": {
      "text/html": [
       "<style type=\"text/css\">\n",
       "</style>\n",
       "<table id=\"T_1d374_\">\n",
       "  <thead>\n",
       "    <tr>\n",
       "      <th class=\"blank level0\" >&nbsp;</th>\n",
       "      <th class=\"col_heading level0 col0\" >name</th>\n",
       "      <th class=\"col_heading level0 col1\" >price_d</th>\n",
       "      <th class=\"col_heading level0 col2\" >price_w</th>\n",
       "      <th class=\"col_heading level0 col3\" >percent</th>\n",
       "      <th class=\"col_heading level0 col4\" >perform</th>\n",
       "    </tr>\n",
       "  </thead>\n",
       "  <tbody>\n",
       "    <tr>\n",
       "      <th id=\"T_1d374_level0_row0\" class=\"row_heading level0 row0\" >25</th>\n",
       "      <td id=\"T_1d374_row0_col0\" class=\"data row0 col0\" >STA</td>\n",
       "      <td id=\"T_1d374_row0_col1\" class=\"data row0 col1\" >30.25</td>\n",
       "      <td id=\"T_1d374_row0_col2\" class=\"data row0 col2\" >32.00</td>\n",
       "      <td id=\"T_1d374_row0_col3\" class=\"data row0 col3\" >-5.47%</td>\n",
       "      <td id=\"T_1d374_row0_col4\" class=\"data row0 col4\" >Worse</td>\n",
       "    </tr>\n",
       "    <tr>\n",
       "      <th id=\"T_1d374_level0_row1\" class=\"row_heading level0 row1\" >18</th>\n",
       "      <td id=\"T_1d374_row1_col0\" class=\"data row1 col0\" >PTTGC</td>\n",
       "      <td id=\"T_1d374_row1_col1\" class=\"data row1 col1\" >55.00</td>\n",
       "      <td id=\"T_1d374_row1_col2\" class=\"data row1 col2\" >57.75</td>\n",
       "      <td id=\"T_1d374_row1_col3\" class=\"data row1 col3\" >-4.76%</td>\n",
       "      <td id=\"T_1d374_row1_col4\" class=\"data row1 col4\" >Worse</td>\n",
       "    </tr>\n",
       "    <tr>\n",
       "      <th id=\"T_1d374_level0_row2\" class=\"row_heading level0 row2\" >9</th>\n",
       "      <td id=\"T_1d374_row2_col0\" class=\"data row2 col0\" >IVL</td>\n",
       "      <td id=\"T_1d374_row2_col1\" class=\"data row2 col1\" >49.75</td>\n",
       "      <td id=\"T_1d374_row2_col2\" class=\"data row2 col2\" >51.50</td>\n",
       "      <td id=\"T_1d374_row2_col3\" class=\"data row2 col3\" >-3.40%</td>\n",
       "      <td id=\"T_1d374_row2_col4\" class=\"data row2 col4\" >Worse</td>\n",
       "    </tr>\n",
       "    <tr>\n",
       "      <th id=\"T_1d374_level0_row3\" class=\"row_heading level0 row3\" >23</th>\n",
       "      <td id=\"T_1d374_row3_col0\" class=\"data row3 col0\" >SINGER</td>\n",
       "      <td id=\"T_1d374_row3_col1\" class=\"data row3 col1\" >42.25</td>\n",
       "      <td id=\"T_1d374_row3_col2\" class=\"data row3 col2\" >43.25</td>\n",
       "      <td id=\"T_1d374_row3_col3\" class=\"data row3 col3\" >-2.31%</td>\n",
       "      <td id=\"T_1d374_row3_col4\" class=\"data row3 col4\" >Worse</td>\n",
       "    </tr>\n",
       "    <tr>\n",
       "      <th id=\"T_1d374_level0_row4\" class=\"row_heading level0 row4\" >17</th>\n",
       "      <td id=\"T_1d374_row4_col0\" class=\"data row4 col0\" >PTT</td>\n",
       "      <td id=\"T_1d374_row4_col1\" class=\"data row4 col1\" >39.50</td>\n",
       "      <td id=\"T_1d374_row4_col2\" class=\"data row4 col2\" >40.25</td>\n",
       "      <td id=\"T_1d374_row4_col3\" class=\"data row4 col3\" >-1.86%</td>\n",
       "      <td id=\"T_1d374_row4_col4\" class=\"data row4 col4\" >Worse</td>\n",
       "    </tr>\n",
       "    <tr>\n",
       "      <th id=\"T_1d374_level0_row5\" class=\"row_heading level0 row5\" >14</th>\n",
       "      <td id=\"T_1d374_row5_col0\" class=\"data row5 col0\" >MEGA</td>\n",
       "      <td id=\"T_1d374_row5_col1\" class=\"data row5 col1\" >43.50</td>\n",
       "      <td id=\"T_1d374_row5_col2\" class=\"data row5 col2\" >44.25</td>\n",
       "      <td id=\"T_1d374_row5_col3\" class=\"data row5 col3\" >-1.69%</td>\n",
       "      <td id=\"T_1d374_row5_col4\" class=\"data row5 col4\" >Worse</td>\n",
       "    </tr>\n",
       "    <tr>\n",
       "      <th id=\"T_1d374_level0_row6\" class=\"row_heading level0 row6\" >3</th>\n",
       "      <td id=\"T_1d374_row6_col0\" class=\"data row6 col0\" >CPNCG</td>\n",
       "      <td id=\"T_1d374_row6_col1\" class=\"data row6 col1\" >12.50</td>\n",
       "      <td id=\"T_1d374_row6_col2\" class=\"data row6 col2\" >12.70</td>\n",
       "      <td id=\"T_1d374_row6_col3\" class=\"data row6 col3\" >-1.57%</td>\n",
       "      <td id=\"T_1d374_row6_col4\" class=\"data row6 col4\" >Worse</td>\n",
       "    </tr>\n",
       "    <tr>\n",
       "      <th id=\"T_1d374_level0_row7\" class=\"row_heading level0 row7\" >27</th>\n",
       "      <td id=\"T_1d374_row7_col0\" class=\"data row7 col0\" >TISCO</td>\n",
       "      <td id=\"T_1d374_row7_col1\" class=\"data row7 col1\" >98.00</td>\n",
       "      <td id=\"T_1d374_row7_col2\" class=\"data row7 col2\" >99.00</td>\n",
       "      <td id=\"T_1d374_row7_col3\" class=\"data row7 col3\" >-1.01%</td>\n",
       "      <td id=\"T_1d374_row7_col4\" class=\"data row7 col4\" >Worse</td>\n",
       "    </tr>\n",
       "    <tr>\n",
       "      <th id=\"T_1d374_level0_row8\" class=\"row_heading level0 row8\" >8</th>\n",
       "      <td id=\"T_1d374_row8_col0\" class=\"data row8 col0\" >IP</td>\n",
       "      <td id=\"T_1d374_row8_col1\" class=\"data row8 col1\" >20.20</td>\n",
       "      <td id=\"T_1d374_row8_col2\" class=\"data row8 col2\" >20.40</td>\n",
       "      <td id=\"T_1d374_row8_col3\" class=\"data row8 col3\" >-0.98%</td>\n",
       "      <td id=\"T_1d374_row8_col4\" class=\"data row8 col4\" >Worse</td>\n",
       "    </tr>\n",
       "    <tr>\n",
       "      <th id=\"T_1d374_level0_row9\" class=\"row_heading level0 row9\" >16</th>\n",
       "      <td id=\"T_1d374_row9_col0\" class=\"data row9 col0\" >NOBLE</td>\n",
       "      <td id=\"T_1d374_row9_col1\" class=\"data row9 col1\" >6.25</td>\n",
       "      <td id=\"T_1d374_row9_col2\" class=\"data row9 col2\" >6.30</td>\n",
       "      <td id=\"T_1d374_row9_col3\" class=\"data row9 col3\" >-0.79%</td>\n",
       "      <td id=\"T_1d374_row9_col4\" class=\"data row9 col4\" >Worse</td>\n",
       "    </tr>\n",
       "    <tr>\n",
       "      <th id=\"T_1d374_level0_row10\" class=\"row_heading level0 row10\" >19</th>\n",
       "      <td id=\"T_1d374_row10_col0\" class=\"data row10 col0\" >RATCH</td>\n",
       "      <td id=\"T_1d374_row10_col1\" class=\"data row10 col1\" >46.00</td>\n",
       "      <td id=\"T_1d374_row10_col2\" class=\"data row10 col2\" >46.00</td>\n",
       "      <td id=\"T_1d374_row10_col3\" class=\"data row10 col3\" >0.00%</td>\n",
       "      <td id=\"T_1d374_row10_col4\" class=\"data row10 col4\" >No Change</td>\n",
       "    </tr>\n",
       "    <tr>\n",
       "      <th id=\"T_1d374_level0_row11\" class=\"row_heading level0 row11\" >13</th>\n",
       "      <td id=\"T_1d374_row11_col0\" class=\"data row11 col0\" >MCS</td>\n",
       "      <td id=\"T_1d374_row11_col1\" class=\"data row11 col1\" >14.60</td>\n",
       "      <td id=\"T_1d374_row11_col2\" class=\"data row11 col2\" >14.60</td>\n",
       "      <td id=\"T_1d374_row11_col3\" class=\"data row11 col3\" >0.00%</td>\n",
       "      <td id=\"T_1d374_row11_col4\" class=\"data row11 col4\" >No Change</td>\n",
       "    </tr>\n",
       "    <tr>\n",
       "      <th id=\"T_1d374_level0_row12\" class=\"row_heading level0 row12\" >30</th>\n",
       "      <td id=\"T_1d374_row12_col0\" class=\"data row12 col0\" >TU</td>\n",
       "      <td id=\"T_1d374_row12_col1\" class=\"data row12 col1\" >21.10</td>\n",
       "      <td id=\"T_1d374_row12_col2\" class=\"data row12 col2\" >21.00</td>\n",
       "      <td id=\"T_1d374_row12_col3\" class=\"data row12 col3\" >0.48%</td>\n",
       "      <td id=\"T_1d374_row12_col4\" class=\"data row12 col4\" >Better</td>\n",
       "    </tr>\n",
       "    <tr>\n",
       "      <th id=\"T_1d374_level0_row13\" class=\"row_heading level0 row13\" >31</th>\n",
       "      <td id=\"T_1d374_row13_col0\" class=\"data row13 col0\" >TYCN</td>\n",
       "      <td id=\"T_1d374_row13_col1\" class=\"data row13 col1\" >3.60</td>\n",
       "      <td id=\"T_1d374_row13_col2\" class=\"data row13 col2\" >3.58</td>\n",
       "      <td id=\"T_1d374_row13_col3\" class=\"data row13 col3\" >0.56%</td>\n",
       "      <td id=\"T_1d374_row13_col4\" class=\"data row13 col4\" >Better</td>\n",
       "    </tr>\n",
       "    <tr>\n",
       "      <th id=\"T_1d374_level0_row14\" class=\"row_heading level0 row14\" >20</th>\n",
       "      <td id=\"T_1d374_row14_col0\" class=\"data row14 col0\" >RCL</td>\n",
       "      <td id=\"T_1d374_row14_col1\" class=\"data row14 col1\" >43.75</td>\n",
       "      <td id=\"T_1d374_row14_col2\" class=\"data row14 col2\" >43.50</td>\n",
       "      <td id=\"T_1d374_row14_col3\" class=\"data row14 col3\" >0.57%</td>\n",
       "      <td id=\"T_1d374_row14_col4\" class=\"data row14 col4\" >Better</td>\n",
       "    </tr>\n",
       "    <tr>\n",
       "      <th id=\"T_1d374_level0_row15\" class=\"row_heading level0 row15\" >12</th>\n",
       "      <td id=\"T_1d374_row15_col0\" class=\"data row15 col0\" >LPF</td>\n",
       "      <td id=\"T_1d374_row15_col1\" class=\"data row15 col1\" >13.50</td>\n",
       "      <td id=\"T_1d374_row15_col2\" class=\"data row15 col2\" >13.40</td>\n",
       "      <td id=\"T_1d374_row15_col3\" class=\"data row15 col3\" >0.75%</td>\n",
       "      <td id=\"T_1d374_row15_col4\" class=\"data row15 col4\" >Better</td>\n",
       "    </tr>\n",
       "    <tr>\n",
       "      <th id=\"T_1d374_level0_row16\" class=\"row_heading level0 row16\" >1</th>\n",
       "      <td id=\"T_1d374_row16_col0\" class=\"data row16 col0\" >BGRIM</td>\n",
       "      <td id=\"T_1d374_row16_col1\" class=\"data row16 col1\" >33.50</td>\n",
       "      <td id=\"T_1d374_row16_col2\" class=\"data row16 col2\" >33.25</td>\n",
       "      <td id=\"T_1d374_row16_col3\" class=\"data row16 col3\" >0.75%</td>\n",
       "      <td id=\"T_1d374_row16_col4\" class=\"data row16 col4\" >Better</td>\n",
       "    </tr>\n",
       "    <tr>\n",
       "      <th id=\"T_1d374_level0_row17\" class=\"row_heading level0 row17\" >21</th>\n",
       "      <td id=\"T_1d374_row17_col0\" class=\"data row17 col0\" >RJH</td>\n",
       "      <td id=\"T_1d374_row17_col1\" class=\"data row17 col1\" >32.50</td>\n",
       "      <td id=\"T_1d374_row17_col2\" class=\"data row17 col2\" >32.25</td>\n",
       "      <td id=\"T_1d374_row17_col3\" class=\"data row17 col3\" >0.78%</td>\n",
       "      <td id=\"T_1d374_row17_col4\" class=\"data row17 col4\" >Better</td>\n",
       "    </tr>\n",
       "    <tr>\n",
       "      <th id=\"T_1d374_level0_row18\" class=\"row_heading level0 row18\" >29</th>\n",
       "      <td id=\"T_1d374_row18_col0\" class=\"data row18 col0\" >TSE</td>\n",
       "      <td id=\"T_1d374_row18_col1\" class=\"data row18 col1\" >2.50</td>\n",
       "      <td id=\"T_1d374_row18_col2\" class=\"data row18 col2\" >2.48</td>\n",
       "      <td id=\"T_1d374_row18_col3\" class=\"data row18 col3\" >0.81%</td>\n",
       "      <td id=\"T_1d374_row18_col4\" class=\"data row18 col4\" >Better</td>\n",
       "    </tr>\n",
       "    <tr>\n",
       "      <th id=\"T_1d374_level0_row19\" class=\"row_heading level0 row19\" >15</th>\n",
       "      <td id=\"T_1d374_row19_col0\" class=\"data row19 col0\" >NER</td>\n",
       "      <td id=\"T_1d374_row19_col1\" class=\"data row19 col1\" >7.30</td>\n",
       "      <td id=\"T_1d374_row19_col2\" class=\"data row19 col2\" >7.20</td>\n",
       "      <td id=\"T_1d374_row19_col3\" class=\"data row19 col3\" >1.39%</td>\n",
       "      <td id=\"T_1d374_row19_col4\" class=\"data row19 col4\" >Better</td>\n",
       "    </tr>\n",
       "    <tr>\n",
       "      <th id=\"T_1d374_level0_row20\" class=\"row_heading level0 row20\" >4</th>\n",
       "      <td id=\"T_1d374_row20_col0\" class=\"data row20 col0\" >DIF</td>\n",
       "      <td id=\"T_1d374_row20_col1\" class=\"data row20 col1\" >14.40</td>\n",
       "      <td id=\"T_1d374_row20_col2\" class=\"data row20 col2\" >14.20</td>\n",
       "      <td id=\"T_1d374_row20_col3\" class=\"data row20 col3\" >1.41%</td>\n",
       "      <td id=\"T_1d374_row20_col4\" class=\"data row20 col4\" >Better</td>\n",
       "    </tr>\n",
       "    <tr>\n",
       "      <th id=\"T_1d374_level0_row21\" class=\"row_heading level0 row21\" >10</th>\n",
       "      <td id=\"T_1d374_row21_col0\" class=\"data row21 col0\" >JASIF</td>\n",
       "      <td id=\"T_1d374_row21_col1\" class=\"data row21 col1\" >11.10</td>\n",
       "      <td id=\"T_1d374_row21_col2\" class=\"data row21 col2\" >10.90</td>\n",
       "      <td id=\"T_1d374_row21_col3\" class=\"data row21 col3\" >1.83%</td>\n",
       "      <td id=\"T_1d374_row21_col4\" class=\"data row21 col4\" >Better</td>\n",
       "    </tr>\n",
       "    <tr>\n",
       "      <th id=\"T_1d374_level0_row22\" class=\"row_heading level0 row22\" >26</th>\n",
       "      <td id=\"T_1d374_row22_col0\" class=\"data row22 col0\" >SYNEX</td>\n",
       "      <td id=\"T_1d374_row22_col1\" class=\"data row22 col1\" >26.75</td>\n",
       "      <td id=\"T_1d374_row22_col2\" class=\"data row22 col2\" >26.25</td>\n",
       "      <td id=\"T_1d374_row22_col3\" class=\"data row22 col3\" >1.90%</td>\n",
       "      <td id=\"T_1d374_row22_col4\" class=\"data row22 col4\" >Better</td>\n",
       "    </tr>\n",
       "    <tr>\n",
       "      <th id=\"T_1d374_level0_row23\" class=\"row_heading level0 row23\" >28</th>\n",
       "      <td id=\"T_1d374_row23_col0\" class=\"data row23 col0\" >TMT</td>\n",
       "      <td id=\"T_1d374_row23_col1\" class=\"data row23 col1\" >10.40</td>\n",
       "      <td id=\"T_1d374_row23_col2\" class=\"data row23 col2\" >10.20</td>\n",
       "      <td id=\"T_1d374_row23_col3\" class=\"data row23 col3\" >1.96%</td>\n",
       "      <td id=\"T_1d374_row23_col4\" class=\"data row23 col4\" >Better</td>\n",
       "    </tr>\n",
       "    <tr>\n",
       "      <th id=\"T_1d374_level0_row24\" class=\"row_heading level0 row24\" >24</th>\n",
       "      <td id=\"T_1d374_row24_col0\" class=\"data row24 col0\" >SIS</td>\n",
       "      <td id=\"T_1d374_row24_col1\" class=\"data row24 col1\" >37.50</td>\n",
       "      <td id=\"T_1d374_row24_col2\" class=\"data row24 col2\" >36.75</td>\n",
       "      <td id=\"T_1d374_row24_col3\" class=\"data row24 col3\" >2.04%</td>\n",
       "      <td id=\"T_1d374_row24_col4\" class=\"data row24 col4\" >Better</td>\n",
       "    </tr>\n",
       "    <tr>\n",
       "      <th id=\"T_1d374_level0_row25\" class=\"row_heading level0 row25\" >0</th>\n",
       "      <td id=\"T_1d374_row25_col0\" class=\"data row25 col0\" >BCH</td>\n",
       "      <td id=\"T_1d374_row25_col1\" class=\"data row25 col1\" >18.40</td>\n",
       "      <td id=\"T_1d374_row25_col2\" class=\"data row25 col2\" >18.00</td>\n",
       "      <td id=\"T_1d374_row25_col3\" class=\"data row25 col3\" >2.22%</td>\n",
       "      <td id=\"T_1d374_row25_col4\" class=\"data row25 col4\" >Better</td>\n",
       "    </tr>\n",
       "    <tr>\n",
       "      <th id=\"T_1d374_level0_row26\" class=\"row_heading level0 row26\" >22</th>\n",
       "      <td id=\"T_1d374_row26_col0\" class=\"data row26 col0\" >SCC</td>\n",
       "      <td id=\"T_1d374_row26_col1\" class=\"data row26 col1\" >397.00</td>\n",
       "      <td id=\"T_1d374_row26_col2\" class=\"data row26 col2\" >387.00</td>\n",
       "      <td id=\"T_1d374_row26_col3\" class=\"data row26 col3\" >2.58%</td>\n",
       "      <td id=\"T_1d374_row26_col4\" class=\"data row26 col4\" >Better</td>\n",
       "    </tr>\n",
       "    <tr>\n",
       "      <th id=\"T_1d374_level0_row27\" class=\"row_heading level0 row27\" >2</th>\n",
       "      <td id=\"T_1d374_row27_col0\" class=\"data row27 col0\" >CKP</td>\n",
       "      <td id=\"T_1d374_row27_col1\" class=\"data row27 col1\" >5.20</td>\n",
       "      <td id=\"T_1d374_row27_col2\" class=\"data row27 col2\" >5.05</td>\n",
       "      <td id=\"T_1d374_row27_col3\" class=\"data row27 col3\" >2.97%</td>\n",
       "      <td id=\"T_1d374_row27_col4\" class=\"data row27 col4\" >Better</td>\n",
       "    </tr>\n",
       "    <tr>\n",
       "      <th id=\"T_1d374_level0_row28\" class=\"row_heading level0 row28\" >7</th>\n",
       "      <td id=\"T_1d374_row28_col0\" class=\"data row28 col0\" >HREIT</td>\n",
       "      <td id=\"T_1d374_row28_col1\" class=\"data row28 col1\" >9.00</td>\n",
       "      <td id=\"T_1d374_row28_col2\" class=\"data row28 col2\" >8.65</td>\n",
       "      <td id=\"T_1d374_row28_col3\" class=\"data row28 col3\" >4.05%</td>\n",
       "      <td id=\"T_1d374_row28_col4\" class=\"data row28 col4\" >Better</td>\n",
       "    </tr>\n",
       "    <tr>\n",
       "      <th id=\"T_1d374_level0_row29\" class=\"row_heading level0 row29\" >32</th>\n",
       "      <td id=\"T_1d374_row29_col0\" class=\"data row29 col0\" >WHART</td>\n",
       "      <td id=\"T_1d374_row29_col1\" class=\"data row29 col1\" >12.50</td>\n",
       "      <td id=\"T_1d374_row29_col2\" class=\"data row29 col2\" >12.00</td>\n",
       "      <td id=\"T_1d374_row29_col3\" class=\"data row29 col3\" >4.17%</td>\n",
       "      <td id=\"T_1d374_row29_col4\" class=\"data row29 col4\" >Better</td>\n",
       "    </tr>\n",
       "    <tr>\n",
       "      <th id=\"T_1d374_level0_row30\" class=\"row_heading level0 row30\" >6</th>\n",
       "      <td id=\"T_1d374_row30_col0\" class=\"data row30 col0\" >GLOBAL</td>\n",
       "      <td id=\"T_1d374_row30_col1\" class=\"data row30 col1\" >20.80</td>\n",
       "      <td id=\"T_1d374_row30_col2\" class=\"data row30 col2\" >19.90</td>\n",
       "      <td id=\"T_1d374_row30_col3\" class=\"data row30 col3\" >4.52%</td>\n",
       "      <td id=\"T_1d374_row30_col4\" class=\"data row30 col4\" >Better</td>\n",
       "    </tr>\n",
       "    <tr>\n",
       "      <th id=\"T_1d374_level0_row31\" class=\"row_heading level0 row31\" >11</th>\n",
       "      <td id=\"T_1d374_row31_col0\" class=\"data row31 col0\" >KCE</td>\n",
       "      <td id=\"T_1d374_row31_col1\" class=\"data row31 col1\" >62.75</td>\n",
       "      <td id=\"T_1d374_row31_col2\" class=\"data row31 col2\" >59.75</td>\n",
       "      <td id=\"T_1d374_row31_col3\" class=\"data row31 col3\" >5.02%</td>\n",
       "      <td id=\"T_1d374_row31_col4\" class=\"data row31 col4\" >Better</td>\n",
       "    </tr>\n",
       "    <tr>\n",
       "      <th id=\"T_1d374_level0_row32\" class=\"row_heading level0 row32\" >5</th>\n",
       "      <td id=\"T_1d374_row32_col0\" class=\"data row32 col0\" >DOHOME</td>\n",
       "      <td id=\"T_1d374_row32_col1\" class=\"data row32 col1\" >23.60</td>\n",
       "      <td id=\"T_1d374_row32_col2\" class=\"data row32 col2\" >21.70</td>\n",
       "      <td id=\"T_1d374_row32_col3\" class=\"data row32 col3\" >8.76%</td>\n",
       "      <td id=\"T_1d374_row32_col4\" class=\"data row32 col4\" >Better</td>\n",
       "    </tr>\n",
       "  </tbody>\n",
       "</table>\n"
      ],
      "text/plain": [
       "<pandas.io.formats.style.Styler at 0x16e3bfc8dc0>"
      ]
     },
     "execution_count": 12,
     "metadata": {},
     "output_type": "execute_result"
    }
   ],
   "source": [
    "trend['percent'] = (trend.price_d-trend.price_w)/trend.price_w * 100\n",
    "trend[\"perform\"] = trend[[\"price_d\",\"price_w\"]].apply(performance, axis=1)\n",
    "trend.sort_values(by=['percent'],ascending=[True]).style.format(format_dict)"
   ]
  },
  {
   "cell_type": "code",
   "execution_count": 13,
   "metadata": {},
   "outputs": [
    {
     "data": {
      "text/html": [
       "<style type=\"text/css\">\n",
       "</style>\n",
       "<table id=\"T_25b96_\">\n",
       "  <thead>\n",
       "    <tr>\n",
       "      <th class=\"blank level0\" >&nbsp;</th>\n",
       "      <th class=\"col_heading level0 col0\" >perform</th>\n",
       "    </tr>\n",
       "  </thead>\n",
       "  <tbody>\n",
       "    <tr>\n",
       "      <th id=\"T_25b96_level0_row0\" class=\"row_heading level0 row0\" >Better</th>\n",
       "      <td id=\"T_25b96_row0_col0\" class=\"data row0 col0\" >63.64%</td>\n",
       "    </tr>\n",
       "    <tr>\n",
       "      <th id=\"T_25b96_level0_row1\" class=\"row_heading level0 row1\" >Worse</th>\n",
       "      <td id=\"T_25b96_row1_col0\" class=\"data row1 col0\" >30.30%</td>\n",
       "    </tr>\n",
       "    <tr>\n",
       "      <th id=\"T_25b96_level0_row2\" class=\"row_heading level0 row2\" >No Change</th>\n",
       "      <td id=\"T_25b96_row2_col0\" class=\"data row2 col0\" >6.06%</td>\n",
       "    </tr>\n",
       "  </tbody>\n",
       "</table>\n"
      ],
      "text/plain": [
       "<pandas.io.formats.style.Styler at 0x16e3bfc8f70>"
      ]
     },
     "execution_count": 13,
     "metadata": {},
     "output_type": "execute_result"
    }
   ],
   "source": [
    "trend.perform.value_counts(normalize=True).to_frame().style.format('{:.2%}')"
   ]
  },
  {
   "cell_type": "code",
   "execution_count": 14,
   "metadata": {},
   "outputs": [
    {
     "data": {
      "text/plain": [
       "(359, 8)"
      ]
     },
     "execution_count": 14,
     "metadata": {},
     "output_type": "execute_result"
    }
   ],
   "source": [
    "sql = '''\n",
    "SELECT name, max_price AS max, min_price AS min, pe, pbv, daily_volume AS volume, beta, market\n",
    "FROM stocks\n",
    "'''\n",
    "my_stocks = pd.read_sql(sql, conmy)\n",
    "my_stocks.shape"
   ]
  },
  {
   "cell_type": "code",
   "execution_count": 15,
   "metadata": {},
   "outputs": [],
   "source": [
    "filters = [\n",
    "   (my_stocks.market.str.contains('SET50')),\n",
    "   (my_stocks.market.str.contains('SET100')),\n",
    "   (my_stocks.market.str.contains('mai'))]\n",
    "values = ['SET50','SET100','mai']\n",
    "my_stocks[\"mrkt\"] = np.select(filters, values, default='SET999')"
   ]
  },
  {
   "cell_type": "code",
   "execution_count": 16,
   "metadata": {},
   "outputs": [
    {
     "data": {
      "text/plain": [
       "(33, 13)"
      ]
     },
     "execution_count": 16,
     "metadata": {},
     "output_type": "execute_result"
    }
   ],
   "source": [
    "trend2 = pd.merge(trend, my_stocks, on='name', how='inner')\n",
    "trend2.sort_values(['percent'],ascending=[True]).shape"
   ]
  },
  {
   "cell_type": "code",
   "execution_count": 17,
   "metadata": {},
   "outputs": [
    {
     "data": {
      "text/html": [
       "<style type=\"text/css\">\n",
       "</style>\n",
       "<table id=\"T_cc323_\">\n",
       "  <thead>\n",
       "    <tr>\n",
       "      <th class=\"blank level0\" >&nbsp;</th>\n",
       "      <th class=\"col_heading level0 col0\" >name</th>\n",
       "      <th class=\"col_heading level0 col1\" >price_d</th>\n",
       "      <th class=\"col_heading level0 col2\" >price_w</th>\n",
       "      <th class=\"col_heading level0 col3\" >percent</th>\n",
       "      <th class=\"col_heading level0 col4\" >perform</th>\n",
       "      <th class=\"col_heading level0 col5\" >mrkt</th>\n",
       "    </tr>\n",
       "  </thead>\n",
       "  <tbody>\n",
       "    <tr>\n",
       "      <th id=\"T_cc323_level0_row0\" class=\"row_heading level0 row0\" >18</th>\n",
       "      <td id=\"T_cc323_row0_col0\" class=\"data row0 col0\" >PTTGC</td>\n",
       "      <td id=\"T_cc323_row0_col1\" class=\"data row0 col1\" >55.00</td>\n",
       "      <td id=\"T_cc323_row0_col2\" class=\"data row0 col2\" >57.75</td>\n",
       "      <td id=\"T_cc323_row0_col3\" class=\"data row0 col3\" >-4.76%</td>\n",
       "      <td id=\"T_cc323_row0_col4\" class=\"data row0 col4\" >Worse</td>\n",
       "      <td id=\"T_cc323_row0_col5\" class=\"data row0 col5\" >SET50</td>\n",
       "    </tr>\n",
       "    <tr>\n",
       "      <th id=\"T_cc323_level0_row1\" class=\"row_heading level0 row1\" >9</th>\n",
       "      <td id=\"T_cc323_row1_col0\" class=\"data row1 col0\" >IVL</td>\n",
       "      <td id=\"T_cc323_row1_col1\" class=\"data row1 col1\" >49.75</td>\n",
       "      <td id=\"T_cc323_row1_col2\" class=\"data row1 col2\" >51.50</td>\n",
       "      <td id=\"T_cc323_row1_col3\" class=\"data row1 col3\" >-3.40%</td>\n",
       "      <td id=\"T_cc323_row1_col4\" class=\"data row1 col4\" >Worse</td>\n",
       "      <td id=\"T_cc323_row1_col5\" class=\"data row1 col5\" >SET50</td>\n",
       "    </tr>\n",
       "    <tr>\n",
       "      <th id=\"T_cc323_level0_row2\" class=\"row_heading level0 row2\" >17</th>\n",
       "      <td id=\"T_cc323_row2_col0\" class=\"data row2 col0\" >PTT</td>\n",
       "      <td id=\"T_cc323_row2_col1\" class=\"data row2 col1\" >39.50</td>\n",
       "      <td id=\"T_cc323_row2_col2\" class=\"data row2 col2\" >40.25</td>\n",
       "      <td id=\"T_cc323_row2_col3\" class=\"data row2 col3\" >-1.86%</td>\n",
       "      <td id=\"T_cc323_row2_col4\" class=\"data row2 col4\" >Worse</td>\n",
       "      <td id=\"T_cc323_row2_col5\" class=\"data row2 col5\" >SET50</td>\n",
       "    </tr>\n",
       "    <tr>\n",
       "      <th id=\"T_cc323_level0_row3\" class=\"row_heading level0 row3\" >27</th>\n",
       "      <td id=\"T_cc323_row3_col0\" class=\"data row3 col0\" >TISCO</td>\n",
       "      <td id=\"T_cc323_row3_col1\" class=\"data row3 col1\" >98.00</td>\n",
       "      <td id=\"T_cc323_row3_col2\" class=\"data row3 col2\" >99.00</td>\n",
       "      <td id=\"T_cc323_row3_col3\" class=\"data row3 col3\" >-1.01%</td>\n",
       "      <td id=\"T_cc323_row3_col4\" class=\"data row3 col4\" >Worse</td>\n",
       "      <td id=\"T_cc323_row3_col5\" class=\"data row3 col5\" >SET50</td>\n",
       "    </tr>\n",
       "    <tr>\n",
       "      <th id=\"T_cc323_level0_row4\" class=\"row_heading level0 row4\" >19</th>\n",
       "      <td id=\"T_cc323_row4_col0\" class=\"data row4 col0\" >RATCH</td>\n",
       "      <td id=\"T_cc323_row4_col1\" class=\"data row4 col1\" >46.00</td>\n",
       "      <td id=\"T_cc323_row4_col2\" class=\"data row4 col2\" >46.00</td>\n",
       "      <td id=\"T_cc323_row4_col3\" class=\"data row4 col3\" >0.00%</td>\n",
       "      <td id=\"T_cc323_row4_col4\" class=\"data row4 col4\" >No Change</td>\n",
       "      <td id=\"T_cc323_row4_col5\" class=\"data row4 col5\" >SET50</td>\n",
       "    </tr>\n",
       "    <tr>\n",
       "      <th id=\"T_cc323_level0_row5\" class=\"row_heading level0 row5\" >30</th>\n",
       "      <td id=\"T_cc323_row5_col0\" class=\"data row5 col0\" >TU</td>\n",
       "      <td id=\"T_cc323_row5_col1\" class=\"data row5 col1\" >21.10</td>\n",
       "      <td id=\"T_cc323_row5_col2\" class=\"data row5 col2\" >21.00</td>\n",
       "      <td id=\"T_cc323_row5_col3\" class=\"data row5 col3\" >0.48%</td>\n",
       "      <td id=\"T_cc323_row5_col4\" class=\"data row5 col4\" >Better</td>\n",
       "      <td id=\"T_cc323_row5_col5\" class=\"data row5 col5\" >SET50</td>\n",
       "    </tr>\n",
       "    <tr>\n",
       "      <th id=\"T_cc323_level0_row6\" class=\"row_heading level0 row6\" >1</th>\n",
       "      <td id=\"T_cc323_row6_col0\" class=\"data row6 col0\" >BGRIM</td>\n",
       "      <td id=\"T_cc323_row6_col1\" class=\"data row6 col1\" >33.50</td>\n",
       "      <td id=\"T_cc323_row6_col2\" class=\"data row6 col2\" >33.25</td>\n",
       "      <td id=\"T_cc323_row6_col3\" class=\"data row6 col3\" >0.75%</td>\n",
       "      <td id=\"T_cc323_row6_col4\" class=\"data row6 col4\" >Better</td>\n",
       "      <td id=\"T_cc323_row6_col5\" class=\"data row6 col5\" >SET50</td>\n",
       "    </tr>\n",
       "    <tr>\n",
       "      <th id=\"T_cc323_level0_row7\" class=\"row_heading level0 row7\" >22</th>\n",
       "      <td id=\"T_cc323_row7_col0\" class=\"data row7 col0\" >SCC</td>\n",
       "      <td id=\"T_cc323_row7_col1\" class=\"data row7 col1\" >397.00</td>\n",
       "      <td id=\"T_cc323_row7_col2\" class=\"data row7 col2\" >387.00</td>\n",
       "      <td id=\"T_cc323_row7_col3\" class=\"data row7 col3\" >2.58%</td>\n",
       "      <td id=\"T_cc323_row7_col4\" class=\"data row7 col4\" >Better</td>\n",
       "      <td id=\"T_cc323_row7_col5\" class=\"data row7 col5\" >SET50</td>\n",
       "    </tr>\n",
       "    <tr>\n",
       "      <th id=\"T_cc323_level0_row8\" class=\"row_heading level0 row8\" >6</th>\n",
       "      <td id=\"T_cc323_row8_col0\" class=\"data row8 col0\" >GLOBAL</td>\n",
       "      <td id=\"T_cc323_row8_col1\" class=\"data row8 col1\" >20.80</td>\n",
       "      <td id=\"T_cc323_row8_col2\" class=\"data row8 col2\" >19.90</td>\n",
       "      <td id=\"T_cc323_row8_col3\" class=\"data row8 col3\" >4.52%</td>\n",
       "      <td id=\"T_cc323_row8_col4\" class=\"data row8 col4\" >Better</td>\n",
       "      <td id=\"T_cc323_row8_col5\" class=\"data row8 col5\" >SET50</td>\n",
       "    </tr>\n",
       "    <tr>\n",
       "      <th id=\"T_cc323_level0_row9\" class=\"row_heading level0 row9\" >11</th>\n",
       "      <td id=\"T_cc323_row9_col0\" class=\"data row9 col0\" >KCE</td>\n",
       "      <td id=\"T_cc323_row9_col1\" class=\"data row9 col1\" >62.75</td>\n",
       "      <td id=\"T_cc323_row9_col2\" class=\"data row9 col2\" >59.75</td>\n",
       "      <td id=\"T_cc323_row9_col3\" class=\"data row9 col3\" >5.02%</td>\n",
       "      <td id=\"T_cc323_row9_col4\" class=\"data row9 col4\" >Better</td>\n",
       "      <td id=\"T_cc323_row9_col5\" class=\"data row9 col5\" >SET50</td>\n",
       "    </tr>\n",
       "  </tbody>\n",
       "</table>\n"
      ],
      "text/plain": [
       "<pandas.io.formats.style.Styler at 0x16e3bfc8eb0>"
      ]
     },
     "execution_count": 17,
     "metadata": {},
     "output_type": "execute_result"
    }
   ],
   "source": [
    "set50 = trend2.mrkt.str.contains('SET50') \n",
    "flt_set50 = trend2[set50]\n",
    "flt_set50[cols].sort_values(by=['percent','name'],ascending=[True,True]).style.format(format_dict)"
   ]
  },
  {
   "cell_type": "code",
   "execution_count": 18,
   "metadata": {},
   "outputs": [
    {
     "data": {
      "text/html": [
       "<style type=\"text/css\">\n",
       "</style>\n",
       "<table id=\"T_993e3_\">\n",
       "  <thead>\n",
       "    <tr>\n",
       "      <th class=\"blank level0\" >&nbsp;</th>\n",
       "      <th class=\"col_heading level0 col0\" >perform</th>\n",
       "    </tr>\n",
       "  </thead>\n",
       "  <tbody>\n",
       "    <tr>\n",
       "      <th id=\"T_993e3_level0_row0\" class=\"row_heading level0 row0\" >Better</th>\n",
       "      <td id=\"T_993e3_row0_col0\" class=\"data row0 col0\" >50.00%</td>\n",
       "    </tr>\n",
       "    <tr>\n",
       "      <th id=\"T_993e3_level0_row1\" class=\"row_heading level0 row1\" >Worse</th>\n",
       "      <td id=\"T_993e3_row1_col0\" class=\"data row1 col0\" >40.00%</td>\n",
       "    </tr>\n",
       "    <tr>\n",
       "      <th id=\"T_993e3_level0_row2\" class=\"row_heading level0 row2\" >No Change</th>\n",
       "      <td id=\"T_993e3_row2_col0\" class=\"data row2 col0\" >10.00%</td>\n",
       "    </tr>\n",
       "  </tbody>\n",
       "</table>\n"
      ],
      "text/plain": [
       "<pandas.io.formats.style.Styler at 0x16e3c0000a0>"
      ]
     },
     "execution_count": 18,
     "metadata": {},
     "output_type": "execute_result"
    }
   ],
   "source": [
    "flt_set50.perform.value_counts(normalize=True).to_frame().style.format('{:.2%}')"
   ]
  },
  {
   "cell_type": "code",
   "execution_count": 19,
   "metadata": {
    "scrolled": true
   },
   "outputs": [
    {
     "data": {
      "text/html": [
       "<style type=\"text/css\">\n",
       "</style>\n",
       "<table id=\"T_13138_\">\n",
       "  <thead>\n",
       "    <tr>\n",
       "      <th class=\"blank level0\" >&nbsp;</th>\n",
       "      <th class=\"col_heading level0 col0\" >name</th>\n",
       "      <th class=\"col_heading level0 col1\" >price_d</th>\n",
       "      <th class=\"col_heading level0 col2\" >price_w</th>\n",
       "      <th class=\"col_heading level0 col3\" >percent</th>\n",
       "      <th class=\"col_heading level0 col4\" >perform</th>\n",
       "      <th class=\"col_heading level0 col5\" >mrkt</th>\n",
       "    </tr>\n",
       "  </thead>\n",
       "  <tbody>\n",
       "    <tr>\n",
       "      <th id=\"T_13138_level0_row0\" class=\"row_heading level0 row0\" >25</th>\n",
       "      <td id=\"T_13138_row0_col0\" class=\"data row0 col0\" >STA</td>\n",
       "      <td id=\"T_13138_row0_col1\" class=\"data row0 col1\" >30.25</td>\n",
       "      <td id=\"T_13138_row0_col2\" class=\"data row0 col2\" >32.00</td>\n",
       "      <td id=\"T_13138_row0_col3\" class=\"data row0 col3\" >-5.47%</td>\n",
       "      <td id=\"T_13138_row0_col4\" class=\"data row0 col4\" >Worse</td>\n",
       "      <td id=\"T_13138_row0_col5\" class=\"data row0 col5\" >SET100</td>\n",
       "    </tr>\n",
       "    <tr>\n",
       "      <th id=\"T_13138_level0_row1\" class=\"row_heading level0 row1\" >23</th>\n",
       "      <td id=\"T_13138_row1_col0\" class=\"data row1 col0\" >SINGER</td>\n",
       "      <td id=\"T_13138_row1_col1\" class=\"data row1 col1\" >42.25</td>\n",
       "      <td id=\"T_13138_row1_col2\" class=\"data row1 col2\" >43.25</td>\n",
       "      <td id=\"T_13138_row1_col3\" class=\"data row1 col3\" >-2.31%</td>\n",
       "      <td id=\"T_13138_row1_col4\" class=\"data row1 col4\" >Worse</td>\n",
       "      <td id=\"T_13138_row1_col5\" class=\"data row1 col5\" >SET100</td>\n",
       "    </tr>\n",
       "    <tr>\n",
       "      <th id=\"T_13138_level0_row2\" class=\"row_heading level0 row2\" >14</th>\n",
       "      <td id=\"T_13138_row2_col0\" class=\"data row2 col0\" >MEGA</td>\n",
       "      <td id=\"T_13138_row2_col1\" class=\"data row2 col1\" >43.50</td>\n",
       "      <td id=\"T_13138_row2_col2\" class=\"data row2 col2\" >44.25</td>\n",
       "      <td id=\"T_13138_row2_col3\" class=\"data row2 col3\" >-1.69%</td>\n",
       "      <td id=\"T_13138_row2_col4\" class=\"data row2 col4\" >Worse</td>\n",
       "      <td id=\"T_13138_row2_col5\" class=\"data row2 col5\" >SET100</td>\n",
       "    </tr>\n",
       "    <tr>\n",
       "      <th id=\"T_13138_level0_row3\" class=\"row_heading level0 row3\" >20</th>\n",
       "      <td id=\"T_13138_row3_col0\" class=\"data row3 col0\" >RCL</td>\n",
       "      <td id=\"T_13138_row3_col1\" class=\"data row3 col1\" >43.75</td>\n",
       "      <td id=\"T_13138_row3_col2\" class=\"data row3 col2\" >43.50</td>\n",
       "      <td id=\"T_13138_row3_col3\" class=\"data row3 col3\" >0.57%</td>\n",
       "      <td id=\"T_13138_row3_col4\" class=\"data row3 col4\" >Better</td>\n",
       "      <td id=\"T_13138_row3_col5\" class=\"data row3 col5\" >SET100</td>\n",
       "    </tr>\n",
       "    <tr>\n",
       "      <th id=\"T_13138_level0_row4\" class=\"row_heading level0 row4\" >26</th>\n",
       "      <td id=\"T_13138_row4_col0\" class=\"data row4 col0\" >SYNEX</td>\n",
       "      <td id=\"T_13138_row4_col1\" class=\"data row4 col1\" >26.75</td>\n",
       "      <td id=\"T_13138_row4_col2\" class=\"data row4 col2\" >26.25</td>\n",
       "      <td id=\"T_13138_row4_col3\" class=\"data row4 col3\" >1.90%</td>\n",
       "      <td id=\"T_13138_row4_col4\" class=\"data row4 col4\" >Better</td>\n",
       "      <td id=\"T_13138_row4_col5\" class=\"data row4 col5\" >SET100</td>\n",
       "    </tr>\n",
       "    <tr>\n",
       "      <th id=\"T_13138_level0_row5\" class=\"row_heading level0 row5\" >0</th>\n",
       "      <td id=\"T_13138_row5_col0\" class=\"data row5 col0\" >BCH</td>\n",
       "      <td id=\"T_13138_row5_col1\" class=\"data row5 col1\" >18.40</td>\n",
       "      <td id=\"T_13138_row5_col2\" class=\"data row5 col2\" >18.00</td>\n",
       "      <td id=\"T_13138_row5_col3\" class=\"data row5 col3\" >2.22%</td>\n",
       "      <td id=\"T_13138_row5_col4\" class=\"data row5 col4\" >Better</td>\n",
       "      <td id=\"T_13138_row5_col5\" class=\"data row5 col5\" >SET100</td>\n",
       "    </tr>\n",
       "    <tr>\n",
       "      <th id=\"T_13138_level0_row6\" class=\"row_heading level0 row6\" >2</th>\n",
       "      <td id=\"T_13138_row6_col0\" class=\"data row6 col0\" >CKP</td>\n",
       "      <td id=\"T_13138_row6_col1\" class=\"data row6 col1\" >5.20</td>\n",
       "      <td id=\"T_13138_row6_col2\" class=\"data row6 col2\" >5.05</td>\n",
       "      <td id=\"T_13138_row6_col3\" class=\"data row6 col3\" >2.97%</td>\n",
       "      <td id=\"T_13138_row6_col4\" class=\"data row6 col4\" >Better</td>\n",
       "      <td id=\"T_13138_row6_col5\" class=\"data row6 col5\" >SET100</td>\n",
       "    </tr>\n",
       "    <tr>\n",
       "      <th id=\"T_13138_level0_row7\" class=\"row_heading level0 row7\" >5</th>\n",
       "      <td id=\"T_13138_row7_col0\" class=\"data row7 col0\" >DOHOME</td>\n",
       "      <td id=\"T_13138_row7_col1\" class=\"data row7 col1\" >23.60</td>\n",
       "      <td id=\"T_13138_row7_col2\" class=\"data row7 col2\" >21.70</td>\n",
       "      <td id=\"T_13138_row7_col3\" class=\"data row7 col3\" >8.76%</td>\n",
       "      <td id=\"T_13138_row7_col4\" class=\"data row7 col4\" >Better</td>\n",
       "      <td id=\"T_13138_row7_col5\" class=\"data row7 col5\" >SET100</td>\n",
       "    </tr>\n",
       "  </tbody>\n",
       "</table>\n"
      ],
      "text/plain": [
       "<pandas.io.formats.style.Styler at 0x16e3bfc3e50>"
      ]
     },
     "execution_count": 19,
     "metadata": {},
     "output_type": "execute_result"
    }
   ],
   "source": [
    "set100 = trend2.mrkt.str.contains('SET100')\n",
    "flt_set100 = trend2[set100]\n",
    "flt_set100[cols].sort_values(by=['percent','name'],ascending=[True,True]).style.format(format_dict)"
   ]
  },
  {
   "cell_type": "code",
   "execution_count": 20,
   "metadata": {},
   "outputs": [
    {
     "data": {
      "text/html": [
       "<style type=\"text/css\">\n",
       "</style>\n",
       "<table id=\"T_7cce3_\">\n",
       "  <thead>\n",
       "    <tr>\n",
       "      <th class=\"blank level0\" >&nbsp;</th>\n",
       "      <th class=\"col_heading level0 col0\" >perform</th>\n",
       "    </tr>\n",
       "  </thead>\n",
       "  <tbody>\n",
       "    <tr>\n",
       "      <th id=\"T_7cce3_level0_row0\" class=\"row_heading level0 row0\" >Better</th>\n",
       "      <td id=\"T_7cce3_row0_col0\" class=\"data row0 col0\" >62.50%</td>\n",
       "    </tr>\n",
       "    <tr>\n",
       "      <th id=\"T_7cce3_level0_row1\" class=\"row_heading level0 row1\" >Worse</th>\n",
       "      <td id=\"T_7cce3_row1_col0\" class=\"data row1 col0\" >37.50%</td>\n",
       "    </tr>\n",
       "  </tbody>\n",
       "</table>\n"
      ],
      "text/plain": [
       "<pandas.io.formats.style.Styler at 0x16e3c024bb0>"
      ]
     },
     "execution_count": 20,
     "metadata": {},
     "output_type": "execute_result"
    }
   ],
   "source": [
    "flt_set100[cols].perform.value_counts(normalize=True).to_frame().style.format('{:.2%}')"
   ]
  },
  {
   "cell_type": "code",
   "execution_count": 21,
   "metadata": {},
   "outputs": [
    {
     "data": {
      "text/html": [
       "<style type=\"text/css\">\n",
       "</style>\n",
       "<table id=\"T_0f541_\">\n",
       "  <thead>\n",
       "    <tr>\n",
       "      <th class=\"blank level0\" >&nbsp;</th>\n",
       "      <th class=\"col_heading level0 col0\" >name</th>\n",
       "      <th class=\"col_heading level0 col1\" >price_d</th>\n",
       "      <th class=\"col_heading level0 col2\" >price_w</th>\n",
       "      <th class=\"col_heading level0 col3\" >percent</th>\n",
       "      <th class=\"col_heading level0 col4\" >perform</th>\n",
       "      <th class=\"col_heading level0 col5\" >mrkt</th>\n",
       "    </tr>\n",
       "  </thead>\n",
       "  <tbody>\n",
       "    <tr>\n",
       "      <th id=\"T_0f541_level0_row0\" class=\"row_heading level0 row0\" >3</th>\n",
       "      <td id=\"T_0f541_row0_col0\" class=\"data row0 col0\" >CPNCG</td>\n",
       "      <td id=\"T_0f541_row0_col1\" class=\"data row0 col1\" >12.50</td>\n",
       "      <td id=\"T_0f541_row0_col2\" class=\"data row0 col2\" >12.70</td>\n",
       "      <td id=\"T_0f541_row0_col3\" class=\"data row0 col3\" >-1.57%</td>\n",
       "      <td id=\"T_0f541_row0_col4\" class=\"data row0 col4\" >Worse</td>\n",
       "      <td id=\"T_0f541_row0_col5\" class=\"data row0 col5\" >SET999</td>\n",
       "    </tr>\n",
       "    <tr>\n",
       "      <th id=\"T_0f541_level0_row1\" class=\"row_heading level0 row1\" >16</th>\n",
       "      <td id=\"T_0f541_row1_col0\" class=\"data row1 col0\" >NOBLE</td>\n",
       "      <td id=\"T_0f541_row1_col1\" class=\"data row1 col1\" >6.25</td>\n",
       "      <td id=\"T_0f541_row1_col2\" class=\"data row1 col2\" >6.30</td>\n",
       "      <td id=\"T_0f541_row1_col3\" class=\"data row1 col3\" >-0.79%</td>\n",
       "      <td id=\"T_0f541_row1_col4\" class=\"data row1 col4\" >Worse</td>\n",
       "      <td id=\"T_0f541_row1_col5\" class=\"data row1 col5\" >SET999</td>\n",
       "    </tr>\n",
       "    <tr>\n",
       "      <th id=\"T_0f541_level0_row2\" class=\"row_heading level0 row2\" >13</th>\n",
       "      <td id=\"T_0f541_row2_col0\" class=\"data row2 col0\" >MCS</td>\n",
       "      <td id=\"T_0f541_row2_col1\" class=\"data row2 col1\" >14.60</td>\n",
       "      <td id=\"T_0f541_row2_col2\" class=\"data row2 col2\" >14.60</td>\n",
       "      <td id=\"T_0f541_row2_col3\" class=\"data row2 col3\" >0.00%</td>\n",
       "      <td id=\"T_0f541_row2_col4\" class=\"data row2 col4\" >No Change</td>\n",
       "      <td id=\"T_0f541_row2_col5\" class=\"data row2 col5\" >SET999</td>\n",
       "    </tr>\n",
       "    <tr>\n",
       "      <th id=\"T_0f541_level0_row3\" class=\"row_heading level0 row3\" >31</th>\n",
       "      <td id=\"T_0f541_row3_col0\" class=\"data row3 col0\" >TYCN</td>\n",
       "      <td id=\"T_0f541_row3_col1\" class=\"data row3 col1\" >3.60</td>\n",
       "      <td id=\"T_0f541_row3_col2\" class=\"data row3 col2\" >3.58</td>\n",
       "      <td id=\"T_0f541_row3_col3\" class=\"data row3 col3\" >0.56%</td>\n",
       "      <td id=\"T_0f541_row3_col4\" class=\"data row3 col4\" >Better</td>\n",
       "      <td id=\"T_0f541_row3_col5\" class=\"data row3 col5\" >SET999</td>\n",
       "    </tr>\n",
       "    <tr>\n",
       "      <th id=\"T_0f541_level0_row4\" class=\"row_heading level0 row4\" >12</th>\n",
       "      <td id=\"T_0f541_row4_col0\" class=\"data row4 col0\" >LPF</td>\n",
       "      <td id=\"T_0f541_row4_col1\" class=\"data row4 col1\" >13.50</td>\n",
       "      <td id=\"T_0f541_row4_col2\" class=\"data row4 col2\" >13.40</td>\n",
       "      <td id=\"T_0f541_row4_col3\" class=\"data row4 col3\" >0.75%</td>\n",
       "      <td id=\"T_0f541_row4_col4\" class=\"data row4 col4\" >Better</td>\n",
       "      <td id=\"T_0f541_row4_col5\" class=\"data row4 col5\" >SET999</td>\n",
       "    </tr>\n",
       "    <tr>\n",
       "      <th id=\"T_0f541_level0_row5\" class=\"row_heading level0 row5\" >21</th>\n",
       "      <td id=\"T_0f541_row5_col0\" class=\"data row5 col0\" >RJH</td>\n",
       "      <td id=\"T_0f541_row5_col1\" class=\"data row5 col1\" >32.50</td>\n",
       "      <td id=\"T_0f541_row5_col2\" class=\"data row5 col2\" >32.25</td>\n",
       "      <td id=\"T_0f541_row5_col3\" class=\"data row5 col3\" >0.78%</td>\n",
       "      <td id=\"T_0f541_row5_col4\" class=\"data row5 col4\" >Better</td>\n",
       "      <td id=\"T_0f541_row5_col5\" class=\"data row5 col5\" >SET999</td>\n",
       "    </tr>\n",
       "    <tr>\n",
       "      <th id=\"T_0f541_level0_row6\" class=\"row_heading level0 row6\" >29</th>\n",
       "      <td id=\"T_0f541_row6_col0\" class=\"data row6 col0\" >TSE</td>\n",
       "      <td id=\"T_0f541_row6_col1\" class=\"data row6 col1\" >2.50</td>\n",
       "      <td id=\"T_0f541_row6_col2\" class=\"data row6 col2\" >2.48</td>\n",
       "      <td id=\"T_0f541_row6_col3\" class=\"data row6 col3\" >0.81%</td>\n",
       "      <td id=\"T_0f541_row6_col4\" class=\"data row6 col4\" >Better</td>\n",
       "      <td id=\"T_0f541_row6_col5\" class=\"data row6 col5\" >SET999</td>\n",
       "    </tr>\n",
       "    <tr>\n",
       "      <th id=\"T_0f541_level0_row7\" class=\"row_heading level0 row7\" >15</th>\n",
       "      <td id=\"T_0f541_row7_col0\" class=\"data row7 col0\" >NER</td>\n",
       "      <td id=\"T_0f541_row7_col1\" class=\"data row7 col1\" >7.30</td>\n",
       "      <td id=\"T_0f541_row7_col2\" class=\"data row7 col2\" >7.20</td>\n",
       "      <td id=\"T_0f541_row7_col3\" class=\"data row7 col3\" >1.39%</td>\n",
       "      <td id=\"T_0f541_row7_col4\" class=\"data row7 col4\" >Better</td>\n",
       "      <td id=\"T_0f541_row7_col5\" class=\"data row7 col5\" >SET999</td>\n",
       "    </tr>\n",
       "    <tr>\n",
       "      <th id=\"T_0f541_level0_row8\" class=\"row_heading level0 row8\" >4</th>\n",
       "      <td id=\"T_0f541_row8_col0\" class=\"data row8 col0\" >DIF</td>\n",
       "      <td id=\"T_0f541_row8_col1\" class=\"data row8 col1\" >14.40</td>\n",
       "      <td id=\"T_0f541_row8_col2\" class=\"data row8 col2\" >14.20</td>\n",
       "      <td id=\"T_0f541_row8_col3\" class=\"data row8 col3\" >1.41%</td>\n",
       "      <td id=\"T_0f541_row8_col4\" class=\"data row8 col4\" >Better</td>\n",
       "      <td id=\"T_0f541_row8_col5\" class=\"data row8 col5\" >SET999</td>\n",
       "    </tr>\n",
       "    <tr>\n",
       "      <th id=\"T_0f541_level0_row9\" class=\"row_heading level0 row9\" >10</th>\n",
       "      <td id=\"T_0f541_row9_col0\" class=\"data row9 col0\" >JASIF</td>\n",
       "      <td id=\"T_0f541_row9_col1\" class=\"data row9 col1\" >11.10</td>\n",
       "      <td id=\"T_0f541_row9_col2\" class=\"data row9 col2\" >10.90</td>\n",
       "      <td id=\"T_0f541_row9_col3\" class=\"data row9 col3\" >1.83%</td>\n",
       "      <td id=\"T_0f541_row9_col4\" class=\"data row9 col4\" >Better</td>\n",
       "      <td id=\"T_0f541_row9_col5\" class=\"data row9 col5\" >SET999</td>\n",
       "    </tr>\n",
       "    <tr>\n",
       "      <th id=\"T_0f541_level0_row10\" class=\"row_heading level0 row10\" >28</th>\n",
       "      <td id=\"T_0f541_row10_col0\" class=\"data row10 col0\" >TMT</td>\n",
       "      <td id=\"T_0f541_row10_col1\" class=\"data row10 col1\" >10.40</td>\n",
       "      <td id=\"T_0f541_row10_col2\" class=\"data row10 col2\" >10.20</td>\n",
       "      <td id=\"T_0f541_row10_col3\" class=\"data row10 col3\" >1.96%</td>\n",
       "      <td id=\"T_0f541_row10_col4\" class=\"data row10 col4\" >Better</td>\n",
       "      <td id=\"T_0f541_row10_col5\" class=\"data row10 col5\" >SET999</td>\n",
       "    </tr>\n",
       "    <tr>\n",
       "      <th id=\"T_0f541_level0_row11\" class=\"row_heading level0 row11\" >24</th>\n",
       "      <td id=\"T_0f541_row11_col0\" class=\"data row11 col0\" >SIS</td>\n",
       "      <td id=\"T_0f541_row11_col1\" class=\"data row11 col1\" >37.50</td>\n",
       "      <td id=\"T_0f541_row11_col2\" class=\"data row11 col2\" >36.75</td>\n",
       "      <td id=\"T_0f541_row11_col3\" class=\"data row11 col3\" >2.04%</td>\n",
       "      <td id=\"T_0f541_row11_col4\" class=\"data row11 col4\" >Better</td>\n",
       "      <td id=\"T_0f541_row11_col5\" class=\"data row11 col5\" >SET999</td>\n",
       "    </tr>\n",
       "    <tr>\n",
       "      <th id=\"T_0f541_level0_row12\" class=\"row_heading level0 row12\" >7</th>\n",
       "      <td id=\"T_0f541_row12_col0\" class=\"data row12 col0\" >HREIT</td>\n",
       "      <td id=\"T_0f541_row12_col1\" class=\"data row12 col1\" >9.00</td>\n",
       "      <td id=\"T_0f541_row12_col2\" class=\"data row12 col2\" >8.65</td>\n",
       "      <td id=\"T_0f541_row12_col3\" class=\"data row12 col3\" >4.05%</td>\n",
       "      <td id=\"T_0f541_row12_col4\" class=\"data row12 col4\" >Better</td>\n",
       "      <td id=\"T_0f541_row12_col5\" class=\"data row12 col5\" >SET999</td>\n",
       "    </tr>\n",
       "    <tr>\n",
       "      <th id=\"T_0f541_level0_row13\" class=\"row_heading level0 row13\" >32</th>\n",
       "      <td id=\"T_0f541_row13_col0\" class=\"data row13 col0\" >WHART</td>\n",
       "      <td id=\"T_0f541_row13_col1\" class=\"data row13 col1\" >12.50</td>\n",
       "      <td id=\"T_0f541_row13_col2\" class=\"data row13 col2\" >12.00</td>\n",
       "      <td id=\"T_0f541_row13_col3\" class=\"data row13 col3\" >4.17%</td>\n",
       "      <td id=\"T_0f541_row13_col4\" class=\"data row13 col4\" >Better</td>\n",
       "      <td id=\"T_0f541_row13_col5\" class=\"data row13 col5\" >SET999</td>\n",
       "    </tr>\n",
       "  </tbody>\n",
       "</table>\n"
      ],
      "text/plain": [
       "<pandas.io.formats.style.Styler at 0x16e3c024e80>"
      ]
     },
     "execution_count": 21,
     "metadata": {},
     "output_type": "execute_result"
    }
   ],
   "source": [
    "set999 = trend2.mrkt.str.contains('SET999')\n",
    "flt_set999 = trend2[set999]\n",
    "flt_set999[cols].sort_values(by=['percent','name'],ascending=[True,True]).style.format(format_dict)"
   ]
  },
  {
   "cell_type": "code",
   "execution_count": 22,
   "metadata": {},
   "outputs": [
    {
     "data": {
      "text/html": [
       "<style type=\"text/css\">\n",
       "</style>\n",
       "<table id=\"T_bc43b_\">\n",
       "  <thead>\n",
       "    <tr>\n",
       "      <th class=\"blank level0\" >&nbsp;</th>\n",
       "      <th class=\"col_heading level0 col0\" >perform</th>\n",
       "    </tr>\n",
       "  </thead>\n",
       "  <tbody>\n",
       "    <tr>\n",
       "      <th id=\"T_bc43b_level0_row0\" class=\"row_heading level0 row0\" >Better</th>\n",
       "      <td id=\"T_bc43b_row0_col0\" class=\"data row0 col0\" >78.57%</td>\n",
       "    </tr>\n",
       "    <tr>\n",
       "      <th id=\"T_bc43b_level0_row1\" class=\"row_heading level0 row1\" >Worse</th>\n",
       "      <td id=\"T_bc43b_row1_col0\" class=\"data row1 col0\" >14.29%</td>\n",
       "    </tr>\n",
       "    <tr>\n",
       "      <th id=\"T_bc43b_level0_row2\" class=\"row_heading level0 row2\" >No Change</th>\n",
       "      <td id=\"T_bc43b_row2_col0\" class=\"data row2 col0\" >7.14%</td>\n",
       "    </tr>\n",
       "  </tbody>\n",
       "</table>\n"
      ],
      "text/plain": [
       "<pandas.io.formats.style.Styler at 0x16e3c04d580>"
      ]
     },
     "execution_count": 22,
     "metadata": {},
     "output_type": "execute_result"
    }
   ],
   "source": [
    "flt_set999[cols].perform.value_counts(normalize=True).to_frame().style.format('{:.2%}')"
   ]
  },
  {
   "cell_type": "code",
   "execution_count": 23,
   "metadata": {},
   "outputs": [
    {
     "data": {
      "text/html": [
       "<style type=\"text/css\">\n",
       "</style>\n",
       "<table id=\"T_e18fc_\">\n",
       "  <thead>\n",
       "    <tr>\n",
       "      <th class=\"blank level0\" >&nbsp;</th>\n",
       "      <th class=\"col_heading level0 col0\" >name</th>\n",
       "      <th class=\"col_heading level0 col1\" >price_d</th>\n",
       "      <th class=\"col_heading level0 col2\" >price_w</th>\n",
       "      <th class=\"col_heading level0 col3\" >percent</th>\n",
       "      <th class=\"col_heading level0 col4\" >perform</th>\n",
       "      <th class=\"col_heading level0 col5\" >mrkt</th>\n",
       "    </tr>\n",
       "  </thead>\n",
       "  <tbody>\n",
       "    <tr>\n",
       "      <th id=\"T_e18fc_level0_row0\" class=\"row_heading level0 row0\" >8</th>\n",
       "      <td id=\"T_e18fc_row0_col0\" class=\"data row0 col0\" >IP</td>\n",
       "      <td id=\"T_e18fc_row0_col1\" class=\"data row0 col1\" >20.20</td>\n",
       "      <td id=\"T_e18fc_row0_col2\" class=\"data row0 col2\" >20.40</td>\n",
       "      <td id=\"T_e18fc_row0_col3\" class=\"data row0 col3\" >-0.98%</td>\n",
       "      <td id=\"T_e18fc_row0_col4\" class=\"data row0 col4\" >Worse</td>\n",
       "      <td id=\"T_e18fc_row0_col5\" class=\"data row0 col5\" >mai</td>\n",
       "    </tr>\n",
       "  </tbody>\n",
       "</table>\n"
      ],
      "text/plain": [
       "<pandas.io.formats.style.Styler at 0x16e3c04d820>"
      ]
     },
     "execution_count": 23,
     "metadata": {},
     "output_type": "execute_result"
    }
   ],
   "source": [
    "setmai = trend2.mrkt.str.contains('mai')\n",
    "flt_setmai = trend2[setmai]\n",
    "flt_setmai[cols].sort_values(by=['percent','name'],ascending=[True,True]).style.format(format_dict)"
   ]
  },
  {
   "cell_type": "code",
   "execution_count": 24,
   "metadata": {},
   "outputs": [
    {
     "data": {
      "text/html": [
       "<style type=\"text/css\">\n",
       "</style>\n",
       "<table id=\"T_65144_\">\n",
       "  <thead>\n",
       "    <tr>\n",
       "      <th class=\"blank level0\" >&nbsp;</th>\n",
       "      <th class=\"col_heading level0 col0\" >perform</th>\n",
       "    </tr>\n",
       "  </thead>\n",
       "  <tbody>\n",
       "    <tr>\n",
       "      <th id=\"T_65144_level0_row0\" class=\"row_heading level0 row0\" >Worse</th>\n",
       "      <td id=\"T_65144_row0_col0\" class=\"data row0 col0\" >100.00%</td>\n",
       "    </tr>\n",
       "  </tbody>\n",
       "</table>\n"
      ],
      "text/plain": [
       "<pandas.io.formats.style.Styler at 0x16e3c04dc70>"
      ]
     },
     "execution_count": 24,
     "metadata": {},
     "output_type": "execute_result"
    }
   ],
   "source": [
    "flt_setmai[cols].perform.value_counts(normalize=True).to_frame().style.format('{:.2%}')"
   ]
  },
  {
   "cell_type": "code",
   "execution_count": null,
   "metadata": {},
   "outputs": [],
   "source": []
  }
 ],
 "metadata": {
  "anaconda-cloud": {},
  "kernelspec": {
   "display_name": "Python 3 (ipykernel)",
   "language": "python",
   "name": "python3"
  },
  "language_info": {
   "codemirror_mode": {
    "name": "ipython",
    "version": 3
   },
   "file_extension": ".py",
   "mimetype": "text/x-python",
   "name": "python",
   "nbconvert_exporter": "python",
   "pygments_lexer": "ipython3",
   "version": "3.8.11"
  }
 },
 "nbformat": 4,
 "nbformat_minor": 1
}
