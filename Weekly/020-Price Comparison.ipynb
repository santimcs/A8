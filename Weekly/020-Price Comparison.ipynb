{
 "cells": [
  {
   "cell_type": "markdown",
   "metadata": {},
   "source": [
    "### portmy database: stocks table\n",
    "### stock database: buy, price tables"
   ]
  },
  {
   "cell_type": "code",
   "execution_count": 1,
   "metadata": {},
   "outputs": [
    {
     "data": {
      "text/plain": [
       "(datetime.date(2022, 7, 17), '2022-29')"
      ]
     },
     "execution_count": 1,
     "metadata": {},
     "output_type": "execute_result"
    }
   ],
   "source": [
    "import pandas as pd\n",
    "import numpy as np\n",
    "from datetime import date, timedelta\n",
    "from sqlalchemy import create_engine\n",
    "\n",
    "engine = create_engine(\"sqlite:///c:\\\\ruby\\\\portmy\\\\db\\\\development.sqlite3\")\n",
    "conmy = engine.connect()\n",
    "conmy = engine.connect()\n",
    "engine = create_engine(\"mysql+pymysql://root:@localhost:3306/stock\")\n",
    "const = engine.connect()\n",
    "\n",
    "pd.set_option('display.float_format','{:,.2f}'.format)\n",
    "\n",
    "data_path = \"../data/\"\n",
    "csv_path = \"\\\\Users\\\\User\\\\iCloudDrive\\\\\"\n",
    "box_path = \"\\\\Users\\\\User\\\\Dropbox\\\\\"\n",
    "\n",
    "today = date.today()\n",
    "week_str = today.strftime('%Y-%U')\n",
    "today, week_str"
   ]
  },
  {
   "cell_type": "markdown",
   "metadata": {},
   "source": [
    "### Process after last business day, today must be last business day"
   ]
  },
  {
   "cell_type": "code",
   "execution_count": 2,
   "metadata": {},
   "outputs": [
    {
     "data": {
      "text/plain": [
       "(datetime.date(2022, 7, 15), datetime.date(2022, 7, 8))"
      ]
     },
     "execution_count": 2,
     "metadata": {},
     "output_type": "execute_result"
    }
   ],
   "source": [
    "today = today - timedelta(days=2)\n",
    "wkago = today - timedelta(days=7)\n",
    "today, wkago"
   ]
  },
  {
   "cell_type": "markdown",
   "metadata": {},
   "source": [
    "### Restart & Run All Cells"
   ]
  },
  {
   "cell_type": "markdown",
   "metadata": {},
   "source": [
    "### This process affects only already in port stocks. To highlight price changes in percent."
   ]
  },
  {
   "cell_type": "code",
   "execution_count": 3,
   "metadata": {},
   "outputs": [],
   "source": [
    "cols = 'name price_d price_w percent perform mrkt '.split()"
   ]
  },
  {
   "cell_type": "code",
   "execution_count": 4,
   "metadata": {},
   "outputs": [],
   "source": [
    "format_dict = {\n",
    "    'qty':'{:,}',    \n",
    "    'price':'{:.2f}','price_d':'{:.2f}','price_w':'{:.2f}',\n",
    "    'max_price':'{:.2f}','min_price':'{:.2f}',\n",
    "    'maxp':'{:.2f}','minp':'{:.2f}','opnp':'{:.2f}',    \n",
    "    'pct':'{:,.2f}%','percent':'{:,.2f}%',\n",
    "    \n",
    "    'pe':'{:.2f}','pbv':'{:.2f}',\n",
    "    'paid_up':'{:,.2f}','market_cap':'{:,.2f}',\n",
    "    'daily_volume':'{:,.2f}','beta':'{:,.2f}', \n",
    "    'dly_vol':'{:,.2f}', \n",
    "}"
   ]
  },
  {
   "cell_type": "code",
   "execution_count": 5,
   "metadata": {},
   "outputs": [
    {
     "data": {
      "text/html": [
       "<style type=\"text/css\">\n",
       "</style>\n",
       "<table id=\"T_df540_\">\n",
       "  <thead>\n",
       "    <tr>\n",
       "      <th class=\"blank level0\" >&nbsp;</th>\n",
       "      <th class=\"col_heading level0 col0\" >name</th>\n",
       "      <th class=\"col_heading level0 col1\" >date</th>\n",
       "      <th class=\"col_heading level0 col2\" >price</th>\n",
       "    </tr>\n",
       "  </thead>\n",
       "  <tbody>\n",
       "    <tr>\n",
       "      <th id=\"T_df540_level0_row0\" class=\"row_heading level0 row0\" >0</th>\n",
       "      <td id=\"T_df540_row0_col0\" class=\"data row0 col0\" >GLOBAL</td>\n",
       "      <td id=\"T_df540_row0_col1\" class=\"data row0 col1\" >2022-06-27</td>\n",
       "      <td id=\"T_df540_row0_col2\" class=\"data row0 col2\" >18.40</td>\n",
       "    </tr>\n",
       "  </tbody>\n",
       "</table>\n"
      ],
      "text/plain": [
       "<pandas.io.formats.style.Styler at 0x1e924030b80>"
      ]
     },
     "execution_count": 5,
     "metadata": {},
     "output_type": "execute_result"
    }
   ],
   "source": [
    "sql = \"\"\"\n",
    "SELECT name, date, price \n",
    "FROM buy \n",
    "ORDER BY date DESC \n",
    "LIMIT 1\n",
    "\"\"\"\n",
    "df_buy = pd.read_sql(sql, const)\n",
    "df_buy.style.format(format_dict)"
   ]
  },
  {
   "cell_type": "code",
   "execution_count": 6,
   "metadata": {},
   "outputs": [
    {
     "name": "stdout",
     "output_type": "stream",
     "text": [
      "\n",
      "SELECT * FROM stocks WHERE name = 'GLOBAL'\n",
      "\n"
     ]
    },
    {
     "data": {
      "text/html": [
       "<style type=\"text/css\">\n",
       "</style>\n",
       "<table id=\"T_4e94c_\">\n",
       "  <thead>\n",
       "    <tr>\n",
       "      <th class=\"blank level0\" >&nbsp;</th>\n",
       "      <th class=\"col_heading level0 col0\" >id</th>\n",
       "      <th class=\"col_heading level0 col1\" >name</th>\n",
       "      <th class=\"col_heading level0 col2\" >market</th>\n",
       "      <th class=\"col_heading level0 col3\" >price</th>\n",
       "      <th class=\"col_heading level0 col4\" >max_price</th>\n",
       "      <th class=\"col_heading level0 col5\" >min_price</th>\n",
       "      <th class=\"col_heading level0 col6\" >pe</th>\n",
       "      <th class=\"col_heading level0 col7\" >pbv</th>\n",
       "      <th class=\"col_heading level0 col8\" >paid_up</th>\n",
       "      <th class=\"col_heading level0 col9\" >market_cap</th>\n",
       "      <th class=\"col_heading level0 col10\" >daily_volume</th>\n",
       "      <th class=\"col_heading level0 col11\" >beta</th>\n",
       "      <th class=\"col_heading level0 col12\" >ticker_id</th>\n",
       "      <th class=\"col_heading level0 col13\" >created_at</th>\n",
       "      <th class=\"col_heading level0 col14\" >updated_at</th>\n",
       "    </tr>\n",
       "  </thead>\n",
       "  <tbody>\n",
       "    <tr>\n",
       "      <th id=\"T_4e94c_level0_row0\" class=\"row_heading level0 row0\" >0</th>\n",
       "      <td id=\"T_4e94c_row0_col0\" class=\"data row0 col0\" >193</td>\n",
       "      <td id=\"T_4e94c_row0_col1\" class=\"data row0 col1\" >GLOBAL</td>\n",
       "      <td id=\"T_4e94c_row0_col2\" class=\"data row0 col2\" >SET50 / SETCLMV / SETTHSI / SETWB    </td>\n",
       "      <td id=\"T_4e94c_row0_col3\" class=\"data row0 col3\" >17.20</td>\n",
       "      <td id=\"T_4e94c_row0_col4\" class=\"data row0 col4\" >23.70</td>\n",
       "      <td id=\"T_4e94c_row0_col5\" class=\"data row0 col5\" >16.80</td>\n",
       "      <td id=\"T_4e94c_row0_col6\" class=\"data row0 col6\" >23.37</td>\n",
       "      <td id=\"T_4e94c_row0_col7\" class=\"data row0 col7\" >3.99</td>\n",
       "      <td id=\"T_4e94c_row0_col8\" class=\"data row0 col8\" >4,801.74</td>\n",
       "      <td id=\"T_4e94c_row0_col9\" class=\"data row0 col9\" >82,589.87</td>\n",
       "      <td id=\"T_4e94c_row0_col10\" class=\"data row0 col10\" >279.44</td>\n",
       "      <td id=\"T_4e94c_row0_col11\" class=\"data row0 col11\" >0.83</td>\n",
       "      <td id=\"T_4e94c_row0_col12\" class=\"data row0 col12\" >193</td>\n",
       "      <td id=\"T_4e94c_row0_col13\" class=\"data row0 col13\" >2017-07-23 07:24:46.860402</td>\n",
       "      <td id=\"T_4e94c_row0_col14\" class=\"data row0 col14\" >2022-07-16 12:09:53.626998</td>\n",
       "    </tr>\n",
       "  </tbody>\n",
       "</table>\n"
      ],
      "text/plain": [
       "<pandas.io.formats.style.Styler at 0x1e92507ac10>"
      ]
     },
     "execution_count": 6,
     "metadata": {},
     "output_type": "execute_result"
    }
   ],
   "source": [
    "names = df_buy['name']\n",
    "name = names.to_string(index=False)\n",
    "\n",
    "sql = '''\n",
    "SELECT * FROM stocks WHERE name = '%s'\n",
    "'''\n",
    "sql = sql % name\n",
    "print(sql)\n",
    "\n",
    "df_stocks = pd.read_sql(sql, conmy)\n",
    "df_stocks.style.format(format_dict) "
   ]
  },
  {
   "cell_type": "code",
   "execution_count": 7,
   "metadata": {},
   "outputs": [
    {
     "name": "stdout",
     "output_type": "stream",
     "text": [
      "\n",
      "SELECT * FROM price WHERE name = \"GLOBAL\" ORDER BY date DESC LIMIT 5\n",
      "\n"
     ]
    },
    {
     "data": {
      "text/html": [
       "<style type=\"text/css\">\n",
       "</style>\n",
       "<table id=\"T_b558a_\">\n",
       "  <thead>\n",
       "    <tr>\n",
       "      <th class=\"blank level0\" >&nbsp;</th>\n",
       "      <th class=\"col_heading level0 col0\" >name</th>\n",
       "      <th class=\"col_heading level0 col1\" >date</th>\n",
       "      <th class=\"col_heading level0 col2\" >price</th>\n",
       "      <th class=\"col_heading level0 col3\" >maxp</th>\n",
       "      <th class=\"col_heading level0 col4\" >minp</th>\n",
       "      <th class=\"col_heading level0 col5\" >qty</th>\n",
       "      <th class=\"col_heading level0 col6\" >opnp</th>\n",
       "    </tr>\n",
       "  </thead>\n",
       "  <tbody>\n",
       "    <tr>\n",
       "      <th id=\"T_b558a_level0_row0\" class=\"row_heading level0 row0\" >0</th>\n",
       "      <td id=\"T_b558a_row0_col0\" class=\"data row0 col0\" >GLOBAL</td>\n",
       "      <td id=\"T_b558a_row0_col1\" class=\"data row0 col1\" >2022-07-15</td>\n",
       "      <td id=\"T_b558a_row0_col2\" class=\"data row0 col2\" >17.20</td>\n",
       "      <td id=\"T_b558a_row0_col3\" class=\"data row0 col3\" >17.50</td>\n",
       "      <td id=\"T_b558a_row0_col4\" class=\"data row0 col4\" >16.90</td>\n",
       "      <td id=\"T_b558a_row0_col5\" class=\"data row0 col5\" >11,124,366</td>\n",
       "      <td id=\"T_b558a_row0_col6\" class=\"data row0 col6\" >17.00</td>\n",
       "    </tr>\n",
       "    <tr>\n",
       "      <th id=\"T_b558a_level0_row1\" class=\"row_heading level0 row1\" >1</th>\n",
       "      <td id=\"T_b558a_row1_col0\" class=\"data row1 col0\" >GLOBAL</td>\n",
       "      <td id=\"T_b558a_row1_col1\" class=\"data row1 col1\" >2022-07-14</td>\n",
       "      <td id=\"T_b558a_row1_col2\" class=\"data row1 col2\" >16.90</td>\n",
       "      <td id=\"T_b558a_row1_col3\" class=\"data row1 col3\" >17.10</td>\n",
       "      <td id=\"T_b558a_row1_col4\" class=\"data row1 col4\" >16.80</td>\n",
       "      <td id=\"T_b558a_row1_col5\" class=\"data row1 col5\" >8,493,182</td>\n",
       "      <td id=\"T_b558a_row1_col6\" class=\"data row1 col6\" >16.90</td>\n",
       "    </tr>\n",
       "    <tr>\n",
       "      <th id=\"T_b558a_level0_row2\" class=\"row_heading level0 row2\" >2</th>\n",
       "      <td id=\"T_b558a_row2_col0\" class=\"data row2 col0\" >GLOBAL</td>\n",
       "      <td id=\"T_b558a_row2_col1\" class=\"data row2 col1\" >2022-07-12</td>\n",
       "      <td id=\"T_b558a_row2_col2\" class=\"data row2 col2\" >16.90</td>\n",
       "      <td id=\"T_b558a_row2_col3\" class=\"data row2 col3\" >17.20</td>\n",
       "      <td id=\"T_b558a_row2_col4\" class=\"data row2 col4\" >16.90</td>\n",
       "      <td id=\"T_b558a_row2_col5\" class=\"data row2 col5\" >12,002,208</td>\n",
       "      <td id=\"T_b558a_row2_col6\" class=\"data row2 col6\" >17.20</td>\n",
       "    </tr>\n",
       "    <tr>\n",
       "      <th id=\"T_b558a_level0_row3\" class=\"row_heading level0 row3\" >3</th>\n",
       "      <td id=\"T_b558a_row3_col0\" class=\"data row3 col0\" >GLOBAL</td>\n",
       "      <td id=\"T_b558a_row3_col1\" class=\"data row3 col1\" >2022-07-11</td>\n",
       "      <td id=\"T_b558a_row3_col2\" class=\"data row3 col2\" >17.30</td>\n",
       "      <td id=\"T_b558a_row3_col3\" class=\"data row3 col3\" >17.60</td>\n",
       "      <td id=\"T_b558a_row3_col4\" class=\"data row3 col4\" >17.00</td>\n",
       "      <td id=\"T_b558a_row3_col5\" class=\"data row3 col5\" >13,744,352</td>\n",
       "      <td id=\"T_b558a_row3_col6\" class=\"data row3 col6\" >17.50</td>\n",
       "    </tr>\n",
       "    <tr>\n",
       "      <th id=\"T_b558a_level0_row4\" class=\"row_heading level0 row4\" >4</th>\n",
       "      <td id=\"T_b558a_row4_col0\" class=\"data row4 col0\" >GLOBAL</td>\n",
       "      <td id=\"T_b558a_row4_col1\" class=\"data row4 col1\" >2022-07-08</td>\n",
       "      <td id=\"T_b558a_row4_col2\" class=\"data row4 col2\" >17.60</td>\n",
       "      <td id=\"T_b558a_row4_col3\" class=\"data row4 col3\" >18.00</td>\n",
       "      <td id=\"T_b558a_row4_col4\" class=\"data row4 col4\" >17.40</td>\n",
       "      <td id=\"T_b558a_row4_col5\" class=\"data row4 col5\" >12,521,258</td>\n",
       "      <td id=\"T_b558a_row4_col6\" class=\"data row4 col6\" >17.90</td>\n",
       "    </tr>\n",
       "  </tbody>\n",
       "</table>\n"
      ],
      "text/plain": [
       "<pandas.io.formats.style.Styler at 0x1e92507a520>"
      ]
     },
     "execution_count": 7,
     "metadata": {},
     "output_type": "execute_result"
    }
   ],
   "source": [
    "sql = '''\n",
    "SELECT * FROM price WHERE name = \"%s\" ORDER BY date DESC LIMIT 5\n",
    "'''\n",
    "sql = sql % name\n",
    "print(sql)\n",
    "\n",
    "df_price = pd.read_sql(sql, const)\n",
    "df_price.style.format(format_dict)"
   ]
  },
  {
   "cell_type": "code",
   "execution_count": 8,
   "metadata": {},
   "outputs": [
    {
     "name": "stdout",
     "output_type": "stream",
     "text": [
      "\n",
      "SELECT name, price AS price_d \n",
      "FROM price \n",
      "WHERE date = '2022-07-15' AND name IN ('ASP', 'BCH', 'DCC', 'DIF', 'DOHOME', 'GLOBAL', 'JASIF', 'KCE', 'MAKRO', 'MCS', 'NER', 'ORI', 'PTTGC', 'RCL', 'SCC', 'SCCC', 'SENA', 'SIS', 'STA', 'SYNEX', 'TISCO', 'TMT', 'TOP', 'TPIPL', 'WHAIR', 'WHART')\n",
      "ORDER BY name, date\n"
     ]
    },
    {
     "data": {
      "text/plain": [
       "26"
      ]
     },
     "execution_count": 8,
     "metadata": {},
     "output_type": "execute_result"
    }
   ],
   "source": [
    "sql = '''\n",
    "SELECT name\n",
    "FROM buy \n",
    "WHERE active = 1\n",
    "ORDER BY name'''\n",
    "df_price = pd.read_sql(sql, const)\n",
    "\n",
    "names = df_price.name.tolist()\n",
    "in_p = \", \".join(map(lambda name: \"'%s'\" % name, names))\n",
    "\n",
    "sql = \"\"\"\n",
    "SELECT name, price AS price_d \n",
    "FROM price \n",
    "WHERE date = '%s' AND name IN (%s)\n",
    "ORDER BY name, date\"\"\"\n",
    "sql = sql % (today, in_p)\n",
    "print(sql)\n",
    "\n",
    "df_today = pd.read_sql(sql, const)\n",
    "df_today.shape[0]"
   ]
  },
  {
   "cell_type": "code",
   "execution_count": 9,
   "metadata": {},
   "outputs": [
    {
     "name": "stdout",
     "output_type": "stream",
     "text": [
      "\n",
      "SELECT name, price AS price_w\n",
      "FROM price \n",
      "WHERE date = '2022-07-08' AND name IN ('ASP', 'BCH', 'DCC', 'DIF', 'DOHOME', 'GLOBAL', 'JASIF', 'KCE', 'MAKRO', 'MCS', 'NER', 'ORI', 'PTTGC', 'RCL', 'SCC', 'SCCC', 'SENA', 'SIS', 'STA', 'SYNEX', 'TISCO', 'TMT', 'TOP', 'TPIPL', 'WHAIR', 'WHART') \n",
      "ORDER BY name\n"
     ]
    },
    {
     "data": {
      "text/plain": [
       "26"
      ]
     },
     "execution_count": 9,
     "metadata": {},
     "output_type": "execute_result"
    }
   ],
   "source": [
    "sql = \"\"\"\n",
    "SELECT name, price AS price_w\n",
    "FROM price \n",
    "WHERE date = '%s' AND name IN (%s) \n",
    "ORDER BY name\"\"\"\n",
    "sql = sql % (wkago, in_p)\n",
    "print(sql)\n",
    "\n",
    "df_wkago = pd.read_sql(sql, const)\n",
    "df_wkago.shape[0]"
   ]
  },
  {
   "cell_type": "code",
   "execution_count": 10,
   "metadata": {},
   "outputs": [
    {
     "data": {
      "text/plain": [
       "(26, 3)"
      ]
     },
     "execution_count": 10,
     "metadata": {},
     "output_type": "execute_result"
    }
   ],
   "source": [
    "trend = pd.merge(df_today, df_wkago, on='name',how='inner')\n",
    "trend.shape"
   ]
  },
  {
   "cell_type": "code",
   "execution_count": 11,
   "metadata": {},
   "outputs": [],
   "source": [
    "def performance(vals):\n",
    "    price_d, price_w = vals\n",
    "    if (price_d > price_w):\n",
    "        return 'Better'\n",
    "    elif (price_d < price_w):\n",
    "        return 'Worse'\n",
    "    else:\n",
    "        return 'No Change'"
   ]
  },
  {
   "cell_type": "code",
   "execution_count": 12,
   "metadata": {},
   "outputs": [],
   "source": [
    "trend['percent'] = (trend.price_d-trend.price_w)/trend.price_w * 100"
   ]
  },
  {
   "cell_type": "code",
   "execution_count": 13,
   "metadata": {},
   "outputs": [
    {
     "data": {
      "text/html": [
       "<div>\n",
       "<style scoped>\n",
       "    .dataframe tbody tr th:only-of-type {\n",
       "        vertical-align: middle;\n",
       "    }\n",
       "\n",
       "    .dataframe tbody tr th {\n",
       "        vertical-align: top;\n",
       "    }\n",
       "\n",
       "    .dataframe thead th {\n",
       "        text-align: right;\n",
       "    }\n",
       "</style>\n",
       "<table border=\"1\" class=\"dataframe\">\n",
       "  <thead>\n",
       "    <tr style=\"text-align: right;\">\n",
       "      <th></th>\n",
       "      <th>name</th>\n",
       "      <th>price_d</th>\n",
       "      <th>price_w</th>\n",
       "      <th>percent</th>\n",
       "    </tr>\n",
       "  </thead>\n",
       "  <tbody>\n",
       "    <tr>\n",
       "      <th>0</th>\n",
       "      <td>ASP</td>\n",
       "      <td>3.04</td>\n",
       "      <td>3.14</td>\n",
       "      <td>-3.18</td>\n",
       "    </tr>\n",
       "    <tr>\n",
       "      <th>1</th>\n",
       "      <td>BCH</td>\n",
       "      <td>20.40</td>\n",
       "      <td>20.20</td>\n",
       "      <td>0.99</td>\n",
       "    </tr>\n",
       "    <tr>\n",
       "      <th>2</th>\n",
       "      <td>DCC</td>\n",
       "      <td>2.76</td>\n",
       "      <td>2.76</td>\n",
       "      <td>0.00</td>\n",
       "    </tr>\n",
       "    <tr>\n",
       "      <th>3</th>\n",
       "      <td>DIF</td>\n",
       "      <td>13.20</td>\n",
       "      <td>13.30</td>\n",
       "      <td>-0.75</td>\n",
       "    </tr>\n",
       "    <tr>\n",
       "      <th>4</th>\n",
       "      <td>DOHOME</td>\n",
       "      <td>14.80</td>\n",
       "      <td>14.90</td>\n",
       "      <td>-0.67</td>\n",
       "    </tr>\n",
       "    <tr>\n",
       "      <th>5</th>\n",
       "      <td>GLOBAL</td>\n",
       "      <td>17.20</td>\n",
       "      <td>17.60</td>\n",
       "      <td>-2.27</td>\n",
       "    </tr>\n",
       "    <tr>\n",
       "      <th>6</th>\n",
       "      <td>JASIF</td>\n",
       "      <td>8.80</td>\n",
       "      <td>8.80</td>\n",
       "      <td>0.00</td>\n",
       "    </tr>\n",
       "    <tr>\n",
       "      <th>7</th>\n",
       "      <td>KCE</td>\n",
       "      <td>54.00</td>\n",
       "      <td>55.00</td>\n",
       "      <td>-1.82</td>\n",
       "    </tr>\n",
       "    <tr>\n",
       "      <th>8</th>\n",
       "      <td>MAKRO</td>\n",
       "      <td>34.75</td>\n",
       "      <td>35.50</td>\n",
       "      <td>-2.11</td>\n",
       "    </tr>\n",
       "    <tr>\n",
       "      <th>9</th>\n",
       "      <td>MCS</td>\n",
       "      <td>11.00</td>\n",
       "      <td>11.30</td>\n",
       "      <td>-2.65</td>\n",
       "    </tr>\n",
       "    <tr>\n",
       "      <th>10</th>\n",
       "      <td>NER</td>\n",
       "      <td>5.65</td>\n",
       "      <td>5.65</td>\n",
       "      <td>0.00</td>\n",
       "    </tr>\n",
       "    <tr>\n",
       "      <th>11</th>\n",
       "      <td>ORI</td>\n",
       "      <td>9.65</td>\n",
       "      <td>9.95</td>\n",
       "      <td>-3.02</td>\n",
       "    </tr>\n",
       "    <tr>\n",
       "      <th>12</th>\n",
       "      <td>PTTGC</td>\n",
       "      <td>43.50</td>\n",
       "      <td>45.50</td>\n",
       "      <td>-4.40</td>\n",
       "    </tr>\n",
       "    <tr>\n",
       "      <th>13</th>\n",
       "      <td>RCL</td>\n",
       "      <td>32.75</td>\n",
       "      <td>37.25</td>\n",
       "      <td>-12.08</td>\n",
       "    </tr>\n",
       "    <tr>\n",
       "      <th>14</th>\n",
       "      <td>SCC</td>\n",
       "      <td>371.00</td>\n",
       "      <td>379.00</td>\n",
       "      <td>-2.11</td>\n",
       "    </tr>\n",
       "    <tr>\n",
       "      <th>15</th>\n",
       "      <td>SCCC</td>\n",
       "      <td>148.00</td>\n",
       "      <td>149.50</td>\n",
       "      <td>-1.00</td>\n",
       "    </tr>\n",
       "    <tr>\n",
       "      <th>16</th>\n",
       "      <td>SENA</td>\n",
       "      <td>3.86</td>\n",
       "      <td>3.90</td>\n",
       "      <td>-1.03</td>\n",
       "    </tr>\n",
       "    <tr>\n",
       "      <th>17</th>\n",
       "      <td>SIS</td>\n",
       "      <td>26.75</td>\n",
       "      <td>26.25</td>\n",
       "      <td>1.90</td>\n",
       "    </tr>\n",
       "    <tr>\n",
       "      <th>18</th>\n",
       "      <td>STA</td>\n",
       "      <td>20.30</td>\n",
       "      <td>20.00</td>\n",
       "      <td>1.50</td>\n",
       "    </tr>\n",
       "    <tr>\n",
       "      <th>19</th>\n",
       "      <td>SYNEX</td>\n",
       "      <td>17.40</td>\n",
       "      <td>16.70</td>\n",
       "      <td>4.19</td>\n",
       "    </tr>\n",
       "    <tr>\n",
       "      <th>20</th>\n",
       "      <td>TISCO</td>\n",
       "      <td>86.75</td>\n",
       "      <td>86.50</td>\n",
       "      <td>0.29</td>\n",
       "    </tr>\n",
       "    <tr>\n",
       "      <th>21</th>\n",
       "      <td>TMT</td>\n",
       "      <td>8.05</td>\n",
       "      <td>8.20</td>\n",
       "      <td>-1.83</td>\n",
       "    </tr>\n",
       "    <tr>\n",
       "      <th>22</th>\n",
       "      <td>TOP</td>\n",
       "      <td>49.25</td>\n",
       "      <td>51.25</td>\n",
       "      <td>-3.90</td>\n",
       "    </tr>\n",
       "    <tr>\n",
       "      <th>23</th>\n",
       "      <td>TPIPL</td>\n",
       "      <td>1.51</td>\n",
       "      <td>1.51</td>\n",
       "      <td>0.00</td>\n",
       "    </tr>\n",
       "    <tr>\n",
       "      <th>24</th>\n",
       "      <td>WHAIR</td>\n",
       "      <td>7.25</td>\n",
       "      <td>7.35</td>\n",
       "      <td>-1.36</td>\n",
       "    </tr>\n",
       "    <tr>\n",
       "      <th>25</th>\n",
       "      <td>WHART</td>\n",
       "      <td>10.00</td>\n",
       "      <td>10.20</td>\n",
       "      <td>-1.96</td>\n",
       "    </tr>\n",
       "  </tbody>\n",
       "</table>\n",
       "</div>"
      ],
      "text/plain": [
       "      name  price_d  price_w  percent\n",
       "0      ASP     3.04     3.14    -3.18\n",
       "1      BCH    20.40    20.20     0.99\n",
       "2      DCC     2.76     2.76     0.00\n",
       "3      DIF    13.20    13.30    -0.75\n",
       "4   DOHOME    14.80    14.90    -0.67\n",
       "5   GLOBAL    17.20    17.60    -2.27\n",
       "6    JASIF     8.80     8.80     0.00\n",
       "7      KCE    54.00    55.00    -1.82\n",
       "8    MAKRO    34.75    35.50    -2.11\n",
       "9      MCS    11.00    11.30    -2.65\n",
       "10     NER     5.65     5.65     0.00\n",
       "11     ORI     9.65     9.95    -3.02\n",
       "12   PTTGC    43.50    45.50    -4.40\n",
       "13     RCL    32.75    37.25   -12.08\n",
       "14     SCC   371.00   379.00    -2.11\n",
       "15    SCCC   148.00   149.50    -1.00\n",
       "16    SENA     3.86     3.90    -1.03\n",
       "17     SIS    26.75    26.25     1.90\n",
       "18     STA    20.30    20.00     1.50\n",
       "19   SYNEX    17.40    16.70     4.19\n",
       "20   TISCO    86.75    86.50     0.29\n",
       "21     TMT     8.05     8.20    -1.83\n",
       "22     TOP    49.25    51.25    -3.90\n",
       "23   TPIPL     1.51     1.51     0.00\n",
       "24   WHAIR     7.25     7.35    -1.36\n",
       "25   WHART    10.00    10.20    -1.96"
      ]
     },
     "execution_count": 13,
     "metadata": {},
     "output_type": "execute_result"
    }
   ],
   "source": [
    "trend"
   ]
  },
  {
   "cell_type": "code",
   "execution_count": 14,
   "metadata": {},
   "outputs": [],
   "source": [
    "trend[\"perform\"] = trend[[\"price_d\",\"price_w\"]].apply(performance, axis=1)"
   ]
  },
  {
   "cell_type": "code",
   "execution_count": 15,
   "metadata": {},
   "outputs": [
    {
     "data": {
      "text/html": [
       "<style type=\"text/css\">\n",
       "</style>\n",
       "<table id=\"T_0a0a7_\">\n",
       "  <thead>\n",
       "    <tr>\n",
       "      <th class=\"blank level0\" >&nbsp;</th>\n",
       "      <th class=\"col_heading level0 col0\" >name</th>\n",
       "      <th class=\"col_heading level0 col1\" >price_d</th>\n",
       "      <th class=\"col_heading level0 col2\" >price_w</th>\n",
       "      <th class=\"col_heading level0 col3\" >percent</th>\n",
       "      <th class=\"col_heading level0 col4\" >perform</th>\n",
       "    </tr>\n",
       "  </thead>\n",
       "  <tbody>\n",
       "    <tr>\n",
       "      <th id=\"T_0a0a7_level0_row0\" class=\"row_heading level0 row0\" >13</th>\n",
       "      <td id=\"T_0a0a7_row0_col0\" class=\"data row0 col0\" >RCL</td>\n",
       "      <td id=\"T_0a0a7_row0_col1\" class=\"data row0 col1\" >32.75</td>\n",
       "      <td id=\"T_0a0a7_row0_col2\" class=\"data row0 col2\" >37.25</td>\n",
       "      <td id=\"T_0a0a7_row0_col3\" class=\"data row0 col3\" >-12.08%</td>\n",
       "      <td id=\"T_0a0a7_row0_col4\" class=\"data row0 col4\" >Worse</td>\n",
       "    </tr>\n",
       "    <tr>\n",
       "      <th id=\"T_0a0a7_level0_row1\" class=\"row_heading level0 row1\" >12</th>\n",
       "      <td id=\"T_0a0a7_row1_col0\" class=\"data row1 col0\" >PTTGC</td>\n",
       "      <td id=\"T_0a0a7_row1_col1\" class=\"data row1 col1\" >43.50</td>\n",
       "      <td id=\"T_0a0a7_row1_col2\" class=\"data row1 col2\" >45.50</td>\n",
       "      <td id=\"T_0a0a7_row1_col3\" class=\"data row1 col3\" >-4.40%</td>\n",
       "      <td id=\"T_0a0a7_row1_col4\" class=\"data row1 col4\" >Worse</td>\n",
       "    </tr>\n",
       "    <tr>\n",
       "      <th id=\"T_0a0a7_level0_row2\" class=\"row_heading level0 row2\" >22</th>\n",
       "      <td id=\"T_0a0a7_row2_col0\" class=\"data row2 col0\" >TOP</td>\n",
       "      <td id=\"T_0a0a7_row2_col1\" class=\"data row2 col1\" >49.25</td>\n",
       "      <td id=\"T_0a0a7_row2_col2\" class=\"data row2 col2\" >51.25</td>\n",
       "      <td id=\"T_0a0a7_row2_col3\" class=\"data row2 col3\" >-3.90%</td>\n",
       "      <td id=\"T_0a0a7_row2_col4\" class=\"data row2 col4\" >Worse</td>\n",
       "    </tr>\n",
       "    <tr>\n",
       "      <th id=\"T_0a0a7_level0_row3\" class=\"row_heading level0 row3\" >0</th>\n",
       "      <td id=\"T_0a0a7_row3_col0\" class=\"data row3 col0\" >ASP</td>\n",
       "      <td id=\"T_0a0a7_row3_col1\" class=\"data row3 col1\" >3.04</td>\n",
       "      <td id=\"T_0a0a7_row3_col2\" class=\"data row3 col2\" >3.14</td>\n",
       "      <td id=\"T_0a0a7_row3_col3\" class=\"data row3 col3\" >-3.18%</td>\n",
       "      <td id=\"T_0a0a7_row3_col4\" class=\"data row3 col4\" >Worse</td>\n",
       "    </tr>\n",
       "    <tr>\n",
       "      <th id=\"T_0a0a7_level0_row4\" class=\"row_heading level0 row4\" >11</th>\n",
       "      <td id=\"T_0a0a7_row4_col0\" class=\"data row4 col0\" >ORI</td>\n",
       "      <td id=\"T_0a0a7_row4_col1\" class=\"data row4 col1\" >9.65</td>\n",
       "      <td id=\"T_0a0a7_row4_col2\" class=\"data row4 col2\" >9.95</td>\n",
       "      <td id=\"T_0a0a7_row4_col3\" class=\"data row4 col3\" >-3.02%</td>\n",
       "      <td id=\"T_0a0a7_row4_col4\" class=\"data row4 col4\" >Worse</td>\n",
       "    </tr>\n",
       "    <tr>\n",
       "      <th id=\"T_0a0a7_level0_row5\" class=\"row_heading level0 row5\" >9</th>\n",
       "      <td id=\"T_0a0a7_row5_col0\" class=\"data row5 col0\" >MCS</td>\n",
       "      <td id=\"T_0a0a7_row5_col1\" class=\"data row5 col1\" >11.00</td>\n",
       "      <td id=\"T_0a0a7_row5_col2\" class=\"data row5 col2\" >11.30</td>\n",
       "      <td id=\"T_0a0a7_row5_col3\" class=\"data row5 col3\" >-2.65%</td>\n",
       "      <td id=\"T_0a0a7_row5_col4\" class=\"data row5 col4\" >Worse</td>\n",
       "    </tr>\n",
       "    <tr>\n",
       "      <th id=\"T_0a0a7_level0_row6\" class=\"row_heading level0 row6\" >5</th>\n",
       "      <td id=\"T_0a0a7_row6_col0\" class=\"data row6 col0\" >GLOBAL</td>\n",
       "      <td id=\"T_0a0a7_row6_col1\" class=\"data row6 col1\" >17.20</td>\n",
       "      <td id=\"T_0a0a7_row6_col2\" class=\"data row6 col2\" >17.60</td>\n",
       "      <td id=\"T_0a0a7_row6_col3\" class=\"data row6 col3\" >-2.27%</td>\n",
       "      <td id=\"T_0a0a7_row6_col4\" class=\"data row6 col4\" >Worse</td>\n",
       "    </tr>\n",
       "    <tr>\n",
       "      <th id=\"T_0a0a7_level0_row7\" class=\"row_heading level0 row7\" >8</th>\n",
       "      <td id=\"T_0a0a7_row7_col0\" class=\"data row7 col0\" >MAKRO</td>\n",
       "      <td id=\"T_0a0a7_row7_col1\" class=\"data row7 col1\" >34.75</td>\n",
       "      <td id=\"T_0a0a7_row7_col2\" class=\"data row7 col2\" >35.50</td>\n",
       "      <td id=\"T_0a0a7_row7_col3\" class=\"data row7 col3\" >-2.11%</td>\n",
       "      <td id=\"T_0a0a7_row7_col4\" class=\"data row7 col4\" >Worse</td>\n",
       "    </tr>\n",
       "    <tr>\n",
       "      <th id=\"T_0a0a7_level0_row8\" class=\"row_heading level0 row8\" >14</th>\n",
       "      <td id=\"T_0a0a7_row8_col0\" class=\"data row8 col0\" >SCC</td>\n",
       "      <td id=\"T_0a0a7_row8_col1\" class=\"data row8 col1\" >371.00</td>\n",
       "      <td id=\"T_0a0a7_row8_col2\" class=\"data row8 col2\" >379.00</td>\n",
       "      <td id=\"T_0a0a7_row8_col3\" class=\"data row8 col3\" >-2.11%</td>\n",
       "      <td id=\"T_0a0a7_row8_col4\" class=\"data row8 col4\" >Worse</td>\n",
       "    </tr>\n",
       "    <tr>\n",
       "      <th id=\"T_0a0a7_level0_row9\" class=\"row_heading level0 row9\" >25</th>\n",
       "      <td id=\"T_0a0a7_row9_col0\" class=\"data row9 col0\" >WHART</td>\n",
       "      <td id=\"T_0a0a7_row9_col1\" class=\"data row9 col1\" >10.00</td>\n",
       "      <td id=\"T_0a0a7_row9_col2\" class=\"data row9 col2\" >10.20</td>\n",
       "      <td id=\"T_0a0a7_row9_col3\" class=\"data row9 col3\" >-1.96%</td>\n",
       "      <td id=\"T_0a0a7_row9_col4\" class=\"data row9 col4\" >Worse</td>\n",
       "    </tr>\n",
       "    <tr>\n",
       "      <th id=\"T_0a0a7_level0_row10\" class=\"row_heading level0 row10\" >21</th>\n",
       "      <td id=\"T_0a0a7_row10_col0\" class=\"data row10 col0\" >TMT</td>\n",
       "      <td id=\"T_0a0a7_row10_col1\" class=\"data row10 col1\" >8.05</td>\n",
       "      <td id=\"T_0a0a7_row10_col2\" class=\"data row10 col2\" >8.20</td>\n",
       "      <td id=\"T_0a0a7_row10_col3\" class=\"data row10 col3\" >-1.83%</td>\n",
       "      <td id=\"T_0a0a7_row10_col4\" class=\"data row10 col4\" >Worse</td>\n",
       "    </tr>\n",
       "    <tr>\n",
       "      <th id=\"T_0a0a7_level0_row11\" class=\"row_heading level0 row11\" >7</th>\n",
       "      <td id=\"T_0a0a7_row11_col0\" class=\"data row11 col0\" >KCE</td>\n",
       "      <td id=\"T_0a0a7_row11_col1\" class=\"data row11 col1\" >54.00</td>\n",
       "      <td id=\"T_0a0a7_row11_col2\" class=\"data row11 col2\" >55.00</td>\n",
       "      <td id=\"T_0a0a7_row11_col3\" class=\"data row11 col3\" >-1.82%</td>\n",
       "      <td id=\"T_0a0a7_row11_col4\" class=\"data row11 col4\" >Worse</td>\n",
       "    </tr>\n",
       "    <tr>\n",
       "      <th id=\"T_0a0a7_level0_row12\" class=\"row_heading level0 row12\" >24</th>\n",
       "      <td id=\"T_0a0a7_row12_col0\" class=\"data row12 col0\" >WHAIR</td>\n",
       "      <td id=\"T_0a0a7_row12_col1\" class=\"data row12 col1\" >7.25</td>\n",
       "      <td id=\"T_0a0a7_row12_col2\" class=\"data row12 col2\" >7.35</td>\n",
       "      <td id=\"T_0a0a7_row12_col3\" class=\"data row12 col3\" >-1.36%</td>\n",
       "      <td id=\"T_0a0a7_row12_col4\" class=\"data row12 col4\" >Worse</td>\n",
       "    </tr>\n",
       "    <tr>\n",
       "      <th id=\"T_0a0a7_level0_row13\" class=\"row_heading level0 row13\" >16</th>\n",
       "      <td id=\"T_0a0a7_row13_col0\" class=\"data row13 col0\" >SENA</td>\n",
       "      <td id=\"T_0a0a7_row13_col1\" class=\"data row13 col1\" >3.86</td>\n",
       "      <td id=\"T_0a0a7_row13_col2\" class=\"data row13 col2\" >3.90</td>\n",
       "      <td id=\"T_0a0a7_row13_col3\" class=\"data row13 col3\" >-1.03%</td>\n",
       "      <td id=\"T_0a0a7_row13_col4\" class=\"data row13 col4\" >Worse</td>\n",
       "    </tr>\n",
       "    <tr>\n",
       "      <th id=\"T_0a0a7_level0_row14\" class=\"row_heading level0 row14\" >15</th>\n",
       "      <td id=\"T_0a0a7_row14_col0\" class=\"data row14 col0\" >SCCC</td>\n",
       "      <td id=\"T_0a0a7_row14_col1\" class=\"data row14 col1\" >148.00</td>\n",
       "      <td id=\"T_0a0a7_row14_col2\" class=\"data row14 col2\" >149.50</td>\n",
       "      <td id=\"T_0a0a7_row14_col3\" class=\"data row14 col3\" >-1.00%</td>\n",
       "      <td id=\"T_0a0a7_row14_col4\" class=\"data row14 col4\" >Worse</td>\n",
       "    </tr>\n",
       "    <tr>\n",
       "      <th id=\"T_0a0a7_level0_row15\" class=\"row_heading level0 row15\" >3</th>\n",
       "      <td id=\"T_0a0a7_row15_col0\" class=\"data row15 col0\" >DIF</td>\n",
       "      <td id=\"T_0a0a7_row15_col1\" class=\"data row15 col1\" >13.20</td>\n",
       "      <td id=\"T_0a0a7_row15_col2\" class=\"data row15 col2\" >13.30</td>\n",
       "      <td id=\"T_0a0a7_row15_col3\" class=\"data row15 col3\" >-0.75%</td>\n",
       "      <td id=\"T_0a0a7_row15_col4\" class=\"data row15 col4\" >Worse</td>\n",
       "    </tr>\n",
       "    <tr>\n",
       "      <th id=\"T_0a0a7_level0_row16\" class=\"row_heading level0 row16\" >4</th>\n",
       "      <td id=\"T_0a0a7_row16_col0\" class=\"data row16 col0\" >DOHOME</td>\n",
       "      <td id=\"T_0a0a7_row16_col1\" class=\"data row16 col1\" >14.80</td>\n",
       "      <td id=\"T_0a0a7_row16_col2\" class=\"data row16 col2\" >14.90</td>\n",
       "      <td id=\"T_0a0a7_row16_col3\" class=\"data row16 col3\" >-0.67%</td>\n",
       "      <td id=\"T_0a0a7_row16_col4\" class=\"data row16 col4\" >Worse</td>\n",
       "    </tr>\n",
       "    <tr>\n",
       "      <th id=\"T_0a0a7_level0_row17\" class=\"row_heading level0 row17\" >10</th>\n",
       "      <td id=\"T_0a0a7_row17_col0\" class=\"data row17 col0\" >NER</td>\n",
       "      <td id=\"T_0a0a7_row17_col1\" class=\"data row17 col1\" >5.65</td>\n",
       "      <td id=\"T_0a0a7_row17_col2\" class=\"data row17 col2\" >5.65</td>\n",
       "      <td id=\"T_0a0a7_row17_col3\" class=\"data row17 col3\" >0.00%</td>\n",
       "      <td id=\"T_0a0a7_row17_col4\" class=\"data row17 col4\" >No Change</td>\n",
       "    </tr>\n",
       "    <tr>\n",
       "      <th id=\"T_0a0a7_level0_row18\" class=\"row_heading level0 row18\" >6</th>\n",
       "      <td id=\"T_0a0a7_row18_col0\" class=\"data row18 col0\" >JASIF</td>\n",
       "      <td id=\"T_0a0a7_row18_col1\" class=\"data row18 col1\" >8.80</td>\n",
       "      <td id=\"T_0a0a7_row18_col2\" class=\"data row18 col2\" >8.80</td>\n",
       "      <td id=\"T_0a0a7_row18_col3\" class=\"data row18 col3\" >0.00%</td>\n",
       "      <td id=\"T_0a0a7_row18_col4\" class=\"data row18 col4\" >No Change</td>\n",
       "    </tr>\n",
       "    <tr>\n",
       "      <th id=\"T_0a0a7_level0_row19\" class=\"row_heading level0 row19\" >2</th>\n",
       "      <td id=\"T_0a0a7_row19_col0\" class=\"data row19 col0\" >DCC</td>\n",
       "      <td id=\"T_0a0a7_row19_col1\" class=\"data row19 col1\" >2.76</td>\n",
       "      <td id=\"T_0a0a7_row19_col2\" class=\"data row19 col2\" >2.76</td>\n",
       "      <td id=\"T_0a0a7_row19_col3\" class=\"data row19 col3\" >0.00%</td>\n",
       "      <td id=\"T_0a0a7_row19_col4\" class=\"data row19 col4\" >No Change</td>\n",
       "    </tr>\n",
       "    <tr>\n",
       "      <th id=\"T_0a0a7_level0_row20\" class=\"row_heading level0 row20\" >23</th>\n",
       "      <td id=\"T_0a0a7_row20_col0\" class=\"data row20 col0\" >TPIPL</td>\n",
       "      <td id=\"T_0a0a7_row20_col1\" class=\"data row20 col1\" >1.51</td>\n",
       "      <td id=\"T_0a0a7_row20_col2\" class=\"data row20 col2\" >1.51</td>\n",
       "      <td id=\"T_0a0a7_row20_col3\" class=\"data row20 col3\" >0.00%</td>\n",
       "      <td id=\"T_0a0a7_row20_col4\" class=\"data row20 col4\" >No Change</td>\n",
       "    </tr>\n",
       "    <tr>\n",
       "      <th id=\"T_0a0a7_level0_row21\" class=\"row_heading level0 row21\" >20</th>\n",
       "      <td id=\"T_0a0a7_row21_col0\" class=\"data row21 col0\" >TISCO</td>\n",
       "      <td id=\"T_0a0a7_row21_col1\" class=\"data row21 col1\" >86.75</td>\n",
       "      <td id=\"T_0a0a7_row21_col2\" class=\"data row21 col2\" >86.50</td>\n",
       "      <td id=\"T_0a0a7_row21_col3\" class=\"data row21 col3\" >0.29%</td>\n",
       "      <td id=\"T_0a0a7_row21_col4\" class=\"data row21 col4\" >Better</td>\n",
       "    </tr>\n",
       "    <tr>\n",
       "      <th id=\"T_0a0a7_level0_row22\" class=\"row_heading level0 row22\" >1</th>\n",
       "      <td id=\"T_0a0a7_row22_col0\" class=\"data row22 col0\" >BCH</td>\n",
       "      <td id=\"T_0a0a7_row22_col1\" class=\"data row22 col1\" >20.40</td>\n",
       "      <td id=\"T_0a0a7_row22_col2\" class=\"data row22 col2\" >20.20</td>\n",
       "      <td id=\"T_0a0a7_row22_col3\" class=\"data row22 col3\" >0.99%</td>\n",
       "      <td id=\"T_0a0a7_row22_col4\" class=\"data row22 col4\" >Better</td>\n",
       "    </tr>\n",
       "    <tr>\n",
       "      <th id=\"T_0a0a7_level0_row23\" class=\"row_heading level0 row23\" >18</th>\n",
       "      <td id=\"T_0a0a7_row23_col0\" class=\"data row23 col0\" >STA</td>\n",
       "      <td id=\"T_0a0a7_row23_col1\" class=\"data row23 col1\" >20.30</td>\n",
       "      <td id=\"T_0a0a7_row23_col2\" class=\"data row23 col2\" >20.00</td>\n",
       "      <td id=\"T_0a0a7_row23_col3\" class=\"data row23 col3\" >1.50%</td>\n",
       "      <td id=\"T_0a0a7_row23_col4\" class=\"data row23 col4\" >Better</td>\n",
       "    </tr>\n",
       "    <tr>\n",
       "      <th id=\"T_0a0a7_level0_row24\" class=\"row_heading level0 row24\" >17</th>\n",
       "      <td id=\"T_0a0a7_row24_col0\" class=\"data row24 col0\" >SIS</td>\n",
       "      <td id=\"T_0a0a7_row24_col1\" class=\"data row24 col1\" >26.75</td>\n",
       "      <td id=\"T_0a0a7_row24_col2\" class=\"data row24 col2\" >26.25</td>\n",
       "      <td id=\"T_0a0a7_row24_col3\" class=\"data row24 col3\" >1.90%</td>\n",
       "      <td id=\"T_0a0a7_row24_col4\" class=\"data row24 col4\" >Better</td>\n",
       "    </tr>\n",
       "    <tr>\n",
       "      <th id=\"T_0a0a7_level0_row25\" class=\"row_heading level0 row25\" >19</th>\n",
       "      <td id=\"T_0a0a7_row25_col0\" class=\"data row25 col0\" >SYNEX</td>\n",
       "      <td id=\"T_0a0a7_row25_col1\" class=\"data row25 col1\" >17.40</td>\n",
       "      <td id=\"T_0a0a7_row25_col2\" class=\"data row25 col2\" >16.70</td>\n",
       "      <td id=\"T_0a0a7_row25_col3\" class=\"data row25 col3\" >4.19%</td>\n",
       "      <td id=\"T_0a0a7_row25_col4\" class=\"data row25 col4\" >Better</td>\n",
       "    </tr>\n",
       "  </tbody>\n",
       "</table>\n"
      ],
      "text/plain": [
       "<pandas.io.formats.style.Styler at 0x1e9250be520>"
      ]
     },
     "execution_count": 15,
     "metadata": {},
     "output_type": "execute_result"
    }
   ],
   "source": [
    "trend.sort_values(by=['percent'],ascending=[True]).style.format(format_dict)"
   ]
  },
  {
   "cell_type": "code",
   "execution_count": 16,
   "metadata": {},
   "outputs": [
    {
     "data": {
      "text/html": [
       "<style type=\"text/css\">\n",
       "</style>\n",
       "<table id=\"T_6045b_\">\n",
       "  <thead>\n",
       "    <tr>\n",
       "      <th class=\"blank level0\" >&nbsp;</th>\n",
       "      <th class=\"col_heading level0 col0\" >perform</th>\n",
       "    </tr>\n",
       "  </thead>\n",
       "  <tbody>\n",
       "    <tr>\n",
       "      <th id=\"T_6045b_level0_row0\" class=\"row_heading level0 row0\" >Worse</th>\n",
       "      <td id=\"T_6045b_row0_col0\" class=\"data row0 col0\" >65.38%</td>\n",
       "    </tr>\n",
       "    <tr>\n",
       "      <th id=\"T_6045b_level0_row1\" class=\"row_heading level0 row1\" >Better</th>\n",
       "      <td id=\"T_6045b_row1_col0\" class=\"data row1 col0\" >19.23%</td>\n",
       "    </tr>\n",
       "    <tr>\n",
       "      <th id=\"T_6045b_level0_row2\" class=\"row_heading level0 row2\" >No Change</th>\n",
       "      <td id=\"T_6045b_row2_col0\" class=\"data row2 col0\" >15.38%</td>\n",
       "    </tr>\n",
       "  </tbody>\n",
       "</table>\n"
      ],
      "text/plain": [
       "<pandas.io.formats.style.Styler at 0x1e925119280>"
      ]
     },
     "execution_count": 16,
     "metadata": {},
     "output_type": "execute_result"
    }
   ],
   "source": [
    "trend.perform.value_counts(normalize=True).to_frame().style.format('{:.2%}')"
   ]
  },
  {
   "cell_type": "code",
   "execution_count": 17,
   "metadata": {},
   "outputs": [
    {
     "data": {
      "text/plain": [
       "(250, 8)"
      ]
     },
     "execution_count": 17,
     "metadata": {},
     "output_type": "execute_result"
    }
   ],
   "source": [
    "sql = '''\n",
    "SELECT name, max_price AS max, min_price AS min, pe, pbv, daily_volume AS volume, beta, market\n",
    "FROM stocks\n",
    "'''\n",
    "my_stocks = pd.read_sql(sql, conmy)\n",
    "my_stocks.shape"
   ]
  },
  {
   "cell_type": "code",
   "execution_count": 18,
   "metadata": {},
   "outputs": [],
   "source": [
    "filters = [\n",
    "   (my_stocks.market.str.contains('SET50')),\n",
    "   (my_stocks.market.str.contains('SET100')),\n",
    "   (my_stocks.market.str.contains('mai'))]\n",
    "values = ['SET50','SET100','mai']\n",
    "my_stocks[\"mrkt\"] = np.select(filters, values, default='SET999')"
   ]
  },
  {
   "cell_type": "code",
   "execution_count": 19,
   "metadata": {},
   "outputs": [
    {
     "data": {
      "text/plain": [
       "(26, 13)"
      ]
     },
     "execution_count": 19,
     "metadata": {},
     "output_type": "execute_result"
    }
   ],
   "source": [
    "trend2 = pd.merge(trend, my_stocks, on='name', how='inner')\n",
    "trend2.sort_values(['percent'],ascending=[True]).shape"
   ]
  },
  {
   "cell_type": "code",
   "execution_count": 20,
   "metadata": {},
   "outputs": [
    {
     "data": {
      "text/html": [
       "<style type=\"text/css\">\n",
       "</style>\n",
       "<table id=\"T_d0111_\">\n",
       "  <thead>\n",
       "    <tr>\n",
       "      <th class=\"blank level0\" >&nbsp;</th>\n",
       "      <th class=\"col_heading level0 col0\" >name</th>\n",
       "      <th class=\"col_heading level0 col1\" >price_d</th>\n",
       "      <th class=\"col_heading level0 col2\" >price_w</th>\n",
       "      <th class=\"col_heading level0 col3\" >percent</th>\n",
       "      <th class=\"col_heading level0 col4\" >perform</th>\n",
       "      <th class=\"col_heading level0 col5\" >mrkt</th>\n",
       "    </tr>\n",
       "  </thead>\n",
       "  <tbody>\n",
       "    <tr>\n",
       "      <th id=\"T_d0111_level0_row0\" class=\"row_heading level0 row0\" >12</th>\n",
       "      <td id=\"T_d0111_row0_col0\" class=\"data row0 col0\" >PTTGC</td>\n",
       "      <td id=\"T_d0111_row0_col1\" class=\"data row0 col1\" >43.50</td>\n",
       "      <td id=\"T_d0111_row0_col2\" class=\"data row0 col2\" >45.50</td>\n",
       "      <td id=\"T_d0111_row0_col3\" class=\"data row0 col3\" >-4.40%</td>\n",
       "      <td id=\"T_d0111_row0_col4\" class=\"data row0 col4\" >Worse</td>\n",
       "      <td id=\"T_d0111_row0_col5\" class=\"data row0 col5\" >SET50</td>\n",
       "    </tr>\n",
       "    <tr>\n",
       "      <th id=\"T_d0111_level0_row1\" class=\"row_heading level0 row1\" >22</th>\n",
       "      <td id=\"T_d0111_row1_col0\" class=\"data row1 col0\" >TOP</td>\n",
       "      <td id=\"T_d0111_row1_col1\" class=\"data row1 col1\" >49.25</td>\n",
       "      <td id=\"T_d0111_row1_col2\" class=\"data row1 col2\" >51.25</td>\n",
       "      <td id=\"T_d0111_row1_col3\" class=\"data row1 col3\" >-3.90%</td>\n",
       "      <td id=\"T_d0111_row1_col4\" class=\"data row1 col4\" >Worse</td>\n",
       "      <td id=\"T_d0111_row1_col5\" class=\"data row1 col5\" >SET50</td>\n",
       "    </tr>\n",
       "    <tr>\n",
       "      <th id=\"T_d0111_level0_row2\" class=\"row_heading level0 row2\" >5</th>\n",
       "      <td id=\"T_d0111_row2_col0\" class=\"data row2 col0\" >GLOBAL</td>\n",
       "      <td id=\"T_d0111_row2_col1\" class=\"data row2 col1\" >17.20</td>\n",
       "      <td id=\"T_d0111_row2_col2\" class=\"data row2 col2\" >17.60</td>\n",
       "      <td id=\"T_d0111_row2_col3\" class=\"data row2 col3\" >-2.27%</td>\n",
       "      <td id=\"T_d0111_row2_col4\" class=\"data row2 col4\" >Worse</td>\n",
       "      <td id=\"T_d0111_row2_col5\" class=\"data row2 col5\" >SET50</td>\n",
       "    </tr>\n",
       "    <tr>\n",
       "      <th id=\"T_d0111_level0_row3\" class=\"row_heading level0 row3\" >14</th>\n",
       "      <td id=\"T_d0111_row3_col0\" class=\"data row3 col0\" >SCC</td>\n",
       "      <td id=\"T_d0111_row3_col1\" class=\"data row3 col1\" >371.00</td>\n",
       "      <td id=\"T_d0111_row3_col2\" class=\"data row3 col2\" >379.00</td>\n",
       "      <td id=\"T_d0111_row3_col3\" class=\"data row3 col3\" >-2.11%</td>\n",
       "      <td id=\"T_d0111_row3_col4\" class=\"data row3 col4\" >Worse</td>\n",
       "      <td id=\"T_d0111_row3_col5\" class=\"data row3 col5\" >SET50</td>\n",
       "    </tr>\n",
       "    <tr>\n",
       "      <th id=\"T_d0111_level0_row4\" class=\"row_heading level0 row4\" >7</th>\n",
       "      <td id=\"T_d0111_row4_col0\" class=\"data row4 col0\" >KCE</td>\n",
       "      <td id=\"T_d0111_row4_col1\" class=\"data row4 col1\" >54.00</td>\n",
       "      <td id=\"T_d0111_row4_col2\" class=\"data row4 col2\" >55.00</td>\n",
       "      <td id=\"T_d0111_row4_col3\" class=\"data row4 col3\" >-1.82%</td>\n",
       "      <td id=\"T_d0111_row4_col4\" class=\"data row4 col4\" >Worse</td>\n",
       "      <td id=\"T_d0111_row4_col5\" class=\"data row4 col5\" >SET50</td>\n",
       "    </tr>\n",
       "    <tr>\n",
       "      <th id=\"T_d0111_level0_row5\" class=\"row_heading level0 row5\" >20</th>\n",
       "      <td id=\"T_d0111_row5_col0\" class=\"data row5 col0\" >TISCO</td>\n",
       "      <td id=\"T_d0111_row5_col1\" class=\"data row5 col1\" >86.75</td>\n",
       "      <td id=\"T_d0111_row5_col2\" class=\"data row5 col2\" >86.50</td>\n",
       "      <td id=\"T_d0111_row5_col3\" class=\"data row5 col3\" >0.29%</td>\n",
       "      <td id=\"T_d0111_row5_col4\" class=\"data row5 col4\" >Better</td>\n",
       "      <td id=\"T_d0111_row5_col5\" class=\"data row5 col5\" >SET50</td>\n",
       "    </tr>\n",
       "  </tbody>\n",
       "</table>\n"
      ],
      "text/plain": [
       "<pandas.io.formats.style.Styler at 0x1e92511ed00>"
      ]
     },
     "execution_count": 20,
     "metadata": {},
     "output_type": "execute_result"
    }
   ],
   "source": [
    "set50 = trend2.mrkt.str.contains('SET50') \n",
    "flt_set50 = trend2[set50]\n",
    "flt_set50[cols].sort_values(by=['percent','name'],ascending=[True,True]).style.format(format_dict)"
   ]
  },
  {
   "cell_type": "code",
   "execution_count": 21,
   "metadata": {},
   "outputs": [
    {
     "data": {
      "text/html": [
       "<style type=\"text/css\">\n",
       "</style>\n",
       "<table id=\"T_8953c_\">\n",
       "  <thead>\n",
       "    <tr>\n",
       "      <th class=\"blank level0\" >&nbsp;</th>\n",
       "      <th class=\"col_heading level0 col0\" >perform</th>\n",
       "    </tr>\n",
       "  </thead>\n",
       "  <tbody>\n",
       "    <tr>\n",
       "      <th id=\"T_8953c_level0_row0\" class=\"row_heading level0 row0\" >Worse</th>\n",
       "      <td id=\"T_8953c_row0_col0\" class=\"data row0 col0\" >83.33%</td>\n",
       "    </tr>\n",
       "    <tr>\n",
       "      <th id=\"T_8953c_level0_row1\" class=\"row_heading level0 row1\" >Better</th>\n",
       "      <td id=\"T_8953c_row1_col0\" class=\"data row1 col0\" >16.67%</td>\n",
       "    </tr>\n",
       "  </tbody>\n",
       "</table>\n"
      ],
      "text/plain": [
       "<pandas.io.formats.style.Styler at 0x1e925124910>"
      ]
     },
     "execution_count": 21,
     "metadata": {},
     "output_type": "execute_result"
    }
   ],
   "source": [
    "flt_set50.perform.value_counts(normalize=True).to_frame().style.format('{:.2%}')"
   ]
  },
  {
   "cell_type": "code",
   "execution_count": 22,
   "metadata": {
    "scrolled": true
   },
   "outputs": [
    {
     "data": {
      "text/html": [
       "<style type=\"text/css\">\n",
       "</style>\n",
       "<table id=\"T_b6b4a_\">\n",
       "  <thead>\n",
       "    <tr>\n",
       "      <th class=\"blank level0\" >&nbsp;</th>\n",
       "      <th class=\"col_heading level0 col0\" >name</th>\n",
       "      <th class=\"col_heading level0 col1\" >price_d</th>\n",
       "      <th class=\"col_heading level0 col2\" >price_w</th>\n",
       "      <th class=\"col_heading level0 col3\" >percent</th>\n",
       "      <th class=\"col_heading level0 col4\" >perform</th>\n",
       "      <th class=\"col_heading level0 col5\" >mrkt</th>\n",
       "    </tr>\n",
       "  </thead>\n",
       "  <tbody>\n",
       "    <tr>\n",
       "      <th id=\"T_b6b4a_level0_row0\" class=\"row_heading level0 row0\" >13</th>\n",
       "      <td id=\"T_b6b4a_row0_col0\" class=\"data row0 col0\" >RCL</td>\n",
       "      <td id=\"T_b6b4a_row0_col1\" class=\"data row0 col1\" >32.75</td>\n",
       "      <td id=\"T_b6b4a_row0_col2\" class=\"data row0 col2\" >37.25</td>\n",
       "      <td id=\"T_b6b4a_row0_col3\" class=\"data row0 col3\" >-12.08%</td>\n",
       "      <td id=\"T_b6b4a_row0_col4\" class=\"data row0 col4\" >Worse</td>\n",
       "      <td id=\"T_b6b4a_row0_col5\" class=\"data row0 col5\" >SET100</td>\n",
       "    </tr>\n",
       "    <tr>\n",
       "      <th id=\"T_b6b4a_level0_row1\" class=\"row_heading level0 row1\" >11</th>\n",
       "      <td id=\"T_b6b4a_row1_col0\" class=\"data row1 col0\" >ORI</td>\n",
       "      <td id=\"T_b6b4a_row1_col1\" class=\"data row1 col1\" >9.65</td>\n",
       "      <td id=\"T_b6b4a_row1_col2\" class=\"data row1 col2\" >9.95</td>\n",
       "      <td id=\"T_b6b4a_row1_col3\" class=\"data row1 col3\" >-3.02%</td>\n",
       "      <td id=\"T_b6b4a_row1_col4\" class=\"data row1 col4\" >Worse</td>\n",
       "      <td id=\"T_b6b4a_row1_col5\" class=\"data row1 col5\" >SET100</td>\n",
       "    </tr>\n",
       "    <tr>\n",
       "      <th id=\"T_b6b4a_level0_row2\" class=\"row_heading level0 row2\" >4</th>\n",
       "      <td id=\"T_b6b4a_row2_col0\" class=\"data row2 col0\" >DOHOME</td>\n",
       "      <td id=\"T_b6b4a_row2_col1\" class=\"data row2 col1\" >14.80</td>\n",
       "      <td id=\"T_b6b4a_row2_col2\" class=\"data row2 col2\" >14.90</td>\n",
       "      <td id=\"T_b6b4a_row2_col3\" class=\"data row2 col3\" >-0.67%</td>\n",
       "      <td id=\"T_b6b4a_row2_col4\" class=\"data row2 col4\" >Worse</td>\n",
       "      <td id=\"T_b6b4a_row2_col5\" class=\"data row2 col5\" >SET100</td>\n",
       "    </tr>\n",
       "    <tr>\n",
       "      <th id=\"T_b6b4a_level0_row3\" class=\"row_heading level0 row3\" >1</th>\n",
       "      <td id=\"T_b6b4a_row3_col0\" class=\"data row3 col0\" >BCH</td>\n",
       "      <td id=\"T_b6b4a_row3_col1\" class=\"data row3 col1\" >20.40</td>\n",
       "      <td id=\"T_b6b4a_row3_col2\" class=\"data row3 col2\" >20.20</td>\n",
       "      <td id=\"T_b6b4a_row3_col3\" class=\"data row3 col3\" >0.99%</td>\n",
       "      <td id=\"T_b6b4a_row3_col4\" class=\"data row3 col4\" >Better</td>\n",
       "      <td id=\"T_b6b4a_row3_col5\" class=\"data row3 col5\" >SET100</td>\n",
       "    </tr>\n",
       "    <tr>\n",
       "      <th id=\"T_b6b4a_level0_row4\" class=\"row_heading level0 row4\" >18</th>\n",
       "      <td id=\"T_b6b4a_row4_col0\" class=\"data row4 col0\" >STA</td>\n",
       "      <td id=\"T_b6b4a_row4_col1\" class=\"data row4 col1\" >20.30</td>\n",
       "      <td id=\"T_b6b4a_row4_col2\" class=\"data row4 col2\" >20.00</td>\n",
       "      <td id=\"T_b6b4a_row4_col3\" class=\"data row4 col3\" >1.50%</td>\n",
       "      <td id=\"T_b6b4a_row4_col4\" class=\"data row4 col4\" >Better</td>\n",
       "      <td id=\"T_b6b4a_row4_col5\" class=\"data row4 col5\" >SET100</td>\n",
       "    </tr>\n",
       "    <tr>\n",
       "      <th id=\"T_b6b4a_level0_row5\" class=\"row_heading level0 row5\" >19</th>\n",
       "      <td id=\"T_b6b4a_row5_col0\" class=\"data row5 col0\" >SYNEX</td>\n",
       "      <td id=\"T_b6b4a_row5_col1\" class=\"data row5 col1\" >17.40</td>\n",
       "      <td id=\"T_b6b4a_row5_col2\" class=\"data row5 col2\" >16.70</td>\n",
       "      <td id=\"T_b6b4a_row5_col3\" class=\"data row5 col3\" >4.19%</td>\n",
       "      <td id=\"T_b6b4a_row5_col4\" class=\"data row5 col4\" >Better</td>\n",
       "      <td id=\"T_b6b4a_row5_col5\" class=\"data row5 col5\" >SET100</td>\n",
       "    </tr>\n",
       "  </tbody>\n",
       "</table>\n"
      ],
      "text/plain": [
       "<pandas.io.formats.style.Styler at 0x1e925119850>"
      ]
     },
     "execution_count": 22,
     "metadata": {},
     "output_type": "execute_result"
    }
   ],
   "source": [
    "set100 = trend2.mrkt.str.contains('SET100')\n",
    "flt_set100 = trend2[set100]\n",
    "flt_set100[cols].sort_values(by=['percent','name'],ascending=[True,True]).style.format(format_dict)"
   ]
  },
  {
   "cell_type": "code",
   "execution_count": 23,
   "metadata": {},
   "outputs": [
    {
     "data": {
      "text/html": [
       "<style type=\"text/css\">\n",
       "</style>\n",
       "<table id=\"T_268fe_\">\n",
       "  <thead>\n",
       "    <tr>\n",
       "      <th class=\"blank level0\" >&nbsp;</th>\n",
       "      <th class=\"col_heading level0 col0\" >perform</th>\n",
       "    </tr>\n",
       "  </thead>\n",
       "  <tbody>\n",
       "    <tr>\n",
       "      <th id=\"T_268fe_level0_row0\" class=\"row_heading level0 row0\" >Better</th>\n",
       "      <td id=\"T_268fe_row0_col0\" class=\"data row0 col0\" >50.00%</td>\n",
       "    </tr>\n",
       "    <tr>\n",
       "      <th id=\"T_268fe_level0_row1\" class=\"row_heading level0 row1\" >Worse</th>\n",
       "      <td id=\"T_268fe_row1_col0\" class=\"data row1 col0\" >50.00%</td>\n",
       "    </tr>\n",
       "  </tbody>\n",
       "</table>\n"
      ],
      "text/plain": [
       "<pandas.io.formats.style.Styler at 0x1e92511e9a0>"
      ]
     },
     "execution_count": 23,
     "metadata": {},
     "output_type": "execute_result"
    }
   ],
   "source": [
    "flt_set100[cols].perform.value_counts(normalize=True).to_frame().style.format('{:.2%}')"
   ]
  },
  {
   "cell_type": "code",
   "execution_count": 24,
   "metadata": {},
   "outputs": [
    {
     "data": {
      "text/html": [
       "<style type=\"text/css\">\n",
       "</style>\n",
       "<table id=\"T_22d2a_\">\n",
       "  <thead>\n",
       "    <tr>\n",
       "      <th class=\"blank level0\" >&nbsp;</th>\n",
       "      <th class=\"col_heading level0 col0\" >name</th>\n",
       "      <th class=\"col_heading level0 col1\" >price_d</th>\n",
       "      <th class=\"col_heading level0 col2\" >price_w</th>\n",
       "      <th class=\"col_heading level0 col3\" >percent</th>\n",
       "      <th class=\"col_heading level0 col4\" >perform</th>\n",
       "      <th class=\"col_heading level0 col5\" >mrkt</th>\n",
       "    </tr>\n",
       "  </thead>\n",
       "  <tbody>\n",
       "    <tr>\n",
       "      <th id=\"T_22d2a_level0_row0\" class=\"row_heading level0 row0\" >0</th>\n",
       "      <td id=\"T_22d2a_row0_col0\" class=\"data row0 col0\" >ASP</td>\n",
       "      <td id=\"T_22d2a_row0_col1\" class=\"data row0 col1\" >3.04</td>\n",
       "      <td id=\"T_22d2a_row0_col2\" class=\"data row0 col2\" >3.14</td>\n",
       "      <td id=\"T_22d2a_row0_col3\" class=\"data row0 col3\" >-3.18%</td>\n",
       "      <td id=\"T_22d2a_row0_col4\" class=\"data row0 col4\" >Worse</td>\n",
       "      <td id=\"T_22d2a_row0_col5\" class=\"data row0 col5\" >SET999</td>\n",
       "    </tr>\n",
       "    <tr>\n",
       "      <th id=\"T_22d2a_level0_row1\" class=\"row_heading level0 row1\" >9</th>\n",
       "      <td id=\"T_22d2a_row1_col0\" class=\"data row1 col0\" >MCS</td>\n",
       "      <td id=\"T_22d2a_row1_col1\" class=\"data row1 col1\" >11.00</td>\n",
       "      <td id=\"T_22d2a_row1_col2\" class=\"data row1 col2\" >11.30</td>\n",
       "      <td id=\"T_22d2a_row1_col3\" class=\"data row1 col3\" >-2.65%</td>\n",
       "      <td id=\"T_22d2a_row1_col4\" class=\"data row1 col4\" >Worse</td>\n",
       "      <td id=\"T_22d2a_row1_col5\" class=\"data row1 col5\" >SET999</td>\n",
       "    </tr>\n",
       "    <tr>\n",
       "      <th id=\"T_22d2a_level0_row2\" class=\"row_heading level0 row2\" >8</th>\n",
       "      <td id=\"T_22d2a_row2_col0\" class=\"data row2 col0\" >MAKRO</td>\n",
       "      <td id=\"T_22d2a_row2_col1\" class=\"data row2 col1\" >34.75</td>\n",
       "      <td id=\"T_22d2a_row2_col2\" class=\"data row2 col2\" >35.50</td>\n",
       "      <td id=\"T_22d2a_row2_col3\" class=\"data row2 col3\" >-2.11%</td>\n",
       "      <td id=\"T_22d2a_row2_col4\" class=\"data row2 col4\" >Worse</td>\n",
       "      <td id=\"T_22d2a_row2_col5\" class=\"data row2 col5\" >SET999</td>\n",
       "    </tr>\n",
       "    <tr>\n",
       "      <th id=\"T_22d2a_level0_row3\" class=\"row_heading level0 row3\" >25</th>\n",
       "      <td id=\"T_22d2a_row3_col0\" class=\"data row3 col0\" >WHART</td>\n",
       "      <td id=\"T_22d2a_row3_col1\" class=\"data row3 col1\" >10.00</td>\n",
       "      <td id=\"T_22d2a_row3_col2\" class=\"data row3 col2\" >10.20</td>\n",
       "      <td id=\"T_22d2a_row3_col3\" class=\"data row3 col3\" >-1.96%</td>\n",
       "      <td id=\"T_22d2a_row3_col4\" class=\"data row3 col4\" >Worse</td>\n",
       "      <td id=\"T_22d2a_row3_col5\" class=\"data row3 col5\" >SET999</td>\n",
       "    </tr>\n",
       "    <tr>\n",
       "      <th id=\"T_22d2a_level0_row4\" class=\"row_heading level0 row4\" >21</th>\n",
       "      <td id=\"T_22d2a_row4_col0\" class=\"data row4 col0\" >TMT</td>\n",
       "      <td id=\"T_22d2a_row4_col1\" class=\"data row4 col1\" >8.05</td>\n",
       "      <td id=\"T_22d2a_row4_col2\" class=\"data row4 col2\" >8.20</td>\n",
       "      <td id=\"T_22d2a_row4_col3\" class=\"data row4 col3\" >-1.83%</td>\n",
       "      <td id=\"T_22d2a_row4_col4\" class=\"data row4 col4\" >Worse</td>\n",
       "      <td id=\"T_22d2a_row4_col5\" class=\"data row4 col5\" >SET999</td>\n",
       "    </tr>\n",
       "    <tr>\n",
       "      <th id=\"T_22d2a_level0_row5\" class=\"row_heading level0 row5\" >24</th>\n",
       "      <td id=\"T_22d2a_row5_col0\" class=\"data row5 col0\" >WHAIR</td>\n",
       "      <td id=\"T_22d2a_row5_col1\" class=\"data row5 col1\" >7.25</td>\n",
       "      <td id=\"T_22d2a_row5_col2\" class=\"data row5 col2\" >7.35</td>\n",
       "      <td id=\"T_22d2a_row5_col3\" class=\"data row5 col3\" >-1.36%</td>\n",
       "      <td id=\"T_22d2a_row5_col4\" class=\"data row5 col4\" >Worse</td>\n",
       "      <td id=\"T_22d2a_row5_col5\" class=\"data row5 col5\" >SET999</td>\n",
       "    </tr>\n",
       "    <tr>\n",
       "      <th id=\"T_22d2a_level0_row6\" class=\"row_heading level0 row6\" >16</th>\n",
       "      <td id=\"T_22d2a_row6_col0\" class=\"data row6 col0\" >SENA</td>\n",
       "      <td id=\"T_22d2a_row6_col1\" class=\"data row6 col1\" >3.86</td>\n",
       "      <td id=\"T_22d2a_row6_col2\" class=\"data row6 col2\" >3.90</td>\n",
       "      <td id=\"T_22d2a_row6_col3\" class=\"data row6 col3\" >-1.03%</td>\n",
       "      <td id=\"T_22d2a_row6_col4\" class=\"data row6 col4\" >Worse</td>\n",
       "      <td id=\"T_22d2a_row6_col5\" class=\"data row6 col5\" >SET999</td>\n",
       "    </tr>\n",
       "    <tr>\n",
       "      <th id=\"T_22d2a_level0_row7\" class=\"row_heading level0 row7\" >15</th>\n",
       "      <td id=\"T_22d2a_row7_col0\" class=\"data row7 col0\" >SCCC</td>\n",
       "      <td id=\"T_22d2a_row7_col1\" class=\"data row7 col1\" >148.00</td>\n",
       "      <td id=\"T_22d2a_row7_col2\" class=\"data row7 col2\" >149.50</td>\n",
       "      <td id=\"T_22d2a_row7_col3\" class=\"data row7 col3\" >-1.00%</td>\n",
       "      <td id=\"T_22d2a_row7_col4\" class=\"data row7 col4\" >Worse</td>\n",
       "      <td id=\"T_22d2a_row7_col5\" class=\"data row7 col5\" >SET999</td>\n",
       "    </tr>\n",
       "    <tr>\n",
       "      <th id=\"T_22d2a_level0_row8\" class=\"row_heading level0 row8\" >3</th>\n",
       "      <td id=\"T_22d2a_row8_col0\" class=\"data row8 col0\" >DIF</td>\n",
       "      <td id=\"T_22d2a_row8_col1\" class=\"data row8 col1\" >13.20</td>\n",
       "      <td id=\"T_22d2a_row8_col2\" class=\"data row8 col2\" >13.30</td>\n",
       "      <td id=\"T_22d2a_row8_col3\" class=\"data row8 col3\" >-0.75%</td>\n",
       "      <td id=\"T_22d2a_row8_col4\" class=\"data row8 col4\" >Worse</td>\n",
       "      <td id=\"T_22d2a_row8_col5\" class=\"data row8 col5\" >SET999</td>\n",
       "    </tr>\n",
       "    <tr>\n",
       "      <th id=\"T_22d2a_level0_row9\" class=\"row_heading level0 row9\" >2</th>\n",
       "      <td id=\"T_22d2a_row9_col0\" class=\"data row9 col0\" >DCC</td>\n",
       "      <td id=\"T_22d2a_row9_col1\" class=\"data row9 col1\" >2.76</td>\n",
       "      <td id=\"T_22d2a_row9_col2\" class=\"data row9 col2\" >2.76</td>\n",
       "      <td id=\"T_22d2a_row9_col3\" class=\"data row9 col3\" >0.00%</td>\n",
       "      <td id=\"T_22d2a_row9_col4\" class=\"data row9 col4\" >No Change</td>\n",
       "      <td id=\"T_22d2a_row9_col5\" class=\"data row9 col5\" >SET999</td>\n",
       "    </tr>\n",
       "    <tr>\n",
       "      <th id=\"T_22d2a_level0_row10\" class=\"row_heading level0 row10\" >6</th>\n",
       "      <td id=\"T_22d2a_row10_col0\" class=\"data row10 col0\" >JASIF</td>\n",
       "      <td id=\"T_22d2a_row10_col1\" class=\"data row10 col1\" >8.80</td>\n",
       "      <td id=\"T_22d2a_row10_col2\" class=\"data row10 col2\" >8.80</td>\n",
       "      <td id=\"T_22d2a_row10_col3\" class=\"data row10 col3\" >0.00%</td>\n",
       "      <td id=\"T_22d2a_row10_col4\" class=\"data row10 col4\" >No Change</td>\n",
       "      <td id=\"T_22d2a_row10_col5\" class=\"data row10 col5\" >SET999</td>\n",
       "    </tr>\n",
       "    <tr>\n",
       "      <th id=\"T_22d2a_level0_row11\" class=\"row_heading level0 row11\" >10</th>\n",
       "      <td id=\"T_22d2a_row11_col0\" class=\"data row11 col0\" >NER</td>\n",
       "      <td id=\"T_22d2a_row11_col1\" class=\"data row11 col1\" >5.65</td>\n",
       "      <td id=\"T_22d2a_row11_col2\" class=\"data row11 col2\" >5.65</td>\n",
       "      <td id=\"T_22d2a_row11_col3\" class=\"data row11 col3\" >0.00%</td>\n",
       "      <td id=\"T_22d2a_row11_col4\" class=\"data row11 col4\" >No Change</td>\n",
       "      <td id=\"T_22d2a_row11_col5\" class=\"data row11 col5\" >SET999</td>\n",
       "    </tr>\n",
       "    <tr>\n",
       "      <th id=\"T_22d2a_level0_row12\" class=\"row_heading level0 row12\" >23</th>\n",
       "      <td id=\"T_22d2a_row12_col0\" class=\"data row12 col0\" >TPIPL</td>\n",
       "      <td id=\"T_22d2a_row12_col1\" class=\"data row12 col1\" >1.51</td>\n",
       "      <td id=\"T_22d2a_row12_col2\" class=\"data row12 col2\" >1.51</td>\n",
       "      <td id=\"T_22d2a_row12_col3\" class=\"data row12 col3\" >0.00%</td>\n",
       "      <td id=\"T_22d2a_row12_col4\" class=\"data row12 col4\" >No Change</td>\n",
       "      <td id=\"T_22d2a_row12_col5\" class=\"data row12 col5\" >SET999</td>\n",
       "    </tr>\n",
       "    <tr>\n",
       "      <th id=\"T_22d2a_level0_row13\" class=\"row_heading level0 row13\" >17</th>\n",
       "      <td id=\"T_22d2a_row13_col0\" class=\"data row13 col0\" >SIS</td>\n",
       "      <td id=\"T_22d2a_row13_col1\" class=\"data row13 col1\" >26.75</td>\n",
       "      <td id=\"T_22d2a_row13_col2\" class=\"data row13 col2\" >26.25</td>\n",
       "      <td id=\"T_22d2a_row13_col3\" class=\"data row13 col3\" >1.90%</td>\n",
       "      <td id=\"T_22d2a_row13_col4\" class=\"data row13 col4\" >Better</td>\n",
       "      <td id=\"T_22d2a_row13_col5\" class=\"data row13 col5\" >SET999</td>\n",
       "    </tr>\n",
       "  </tbody>\n",
       "</table>\n"
      ],
      "text/plain": [
       "<pandas.io.formats.style.Styler at 0x1e925153e20>"
      ]
     },
     "execution_count": 24,
     "metadata": {},
     "output_type": "execute_result"
    }
   ],
   "source": [
    "set999 = trend2.mrkt.str.contains('SET999')\n",
    "flt_set999 = trend2[set999]\n",
    "flt_set999[cols].sort_values(by=['percent','name'],ascending=[True,True]).style.format(format_dict)"
   ]
  },
  {
   "cell_type": "code",
   "execution_count": 25,
   "metadata": {},
   "outputs": [
    {
     "data": {
      "text/html": [
       "<style type=\"text/css\">\n",
       "</style>\n",
       "<table id=\"T_65017_\">\n",
       "  <thead>\n",
       "    <tr>\n",
       "      <th class=\"blank level0\" >&nbsp;</th>\n",
       "      <th class=\"col_heading level0 col0\" >perform</th>\n",
       "    </tr>\n",
       "  </thead>\n",
       "  <tbody>\n",
       "    <tr>\n",
       "      <th id=\"T_65017_level0_row0\" class=\"row_heading level0 row0\" >Worse</th>\n",
       "      <td id=\"T_65017_row0_col0\" class=\"data row0 col0\" >64.29%</td>\n",
       "    </tr>\n",
       "    <tr>\n",
       "      <th id=\"T_65017_level0_row1\" class=\"row_heading level0 row1\" >No Change</th>\n",
       "      <td id=\"T_65017_row1_col0\" class=\"data row1 col0\" >28.57%</td>\n",
       "    </tr>\n",
       "    <tr>\n",
       "      <th id=\"T_65017_level0_row2\" class=\"row_heading level0 row2\" >Better</th>\n",
       "      <td id=\"T_65017_row2_col0\" class=\"data row2 col0\" >7.14%</td>\n",
       "    </tr>\n",
       "  </tbody>\n",
       "</table>\n"
      ],
      "text/plain": [
       "<pandas.io.formats.style.Styler at 0x1e92511ee50>"
      ]
     },
     "execution_count": 25,
     "metadata": {},
     "output_type": "execute_result"
    }
   ],
   "source": [
    "flt_set999[cols].perform.value_counts(normalize=True).to_frame().style.format('{:.2%}')"
   ]
  },
  {
   "cell_type": "code",
   "execution_count": 26,
   "metadata": {},
   "outputs": [
    {
     "data": {
      "text/html": [
       "<style type=\"text/css\">\n",
       "</style>\n",
       "<table id=\"T_f3216_\">\n",
       "  <thead>\n",
       "    <tr>\n",
       "      <th class=\"blank level0\" >&nbsp;</th>\n",
       "      <th class=\"col_heading level0 col0\" >name</th>\n",
       "      <th class=\"col_heading level0 col1\" >price_d</th>\n",
       "      <th class=\"col_heading level0 col2\" >price_w</th>\n",
       "      <th class=\"col_heading level0 col3\" >percent</th>\n",
       "      <th class=\"col_heading level0 col4\" >perform</th>\n",
       "      <th class=\"col_heading level0 col5\" >mrkt</th>\n",
       "    </tr>\n",
       "  </thead>\n",
       "  <tbody>\n",
       "  </tbody>\n",
       "</table>\n"
      ],
      "text/plain": [
       "<pandas.io.formats.style.Styler at 0x1e9251535b0>"
      ]
     },
     "execution_count": 26,
     "metadata": {},
     "output_type": "execute_result"
    }
   ],
   "source": [
    "setmai = trend2.mrkt.str.contains('mai')\n",
    "flt_setmai = trend2[setmai]\n",
    "flt_setmai[cols].sort_values(by=['percent','name'],ascending=[True,True]).style.format(format_dict)"
   ]
  },
  {
   "cell_type": "code",
   "execution_count": 27,
   "metadata": {},
   "outputs": [
    {
     "data": {
      "text/html": [
       "<style type=\"text/css\">\n",
       "</style>\n",
       "<table id=\"T_249d0_\">\n",
       "  <thead>\n",
       "    <tr>\n",
       "      <th class=\"blank level0\" >&nbsp;</th>\n",
       "      <th class=\"col_heading level0 col0\" >perform</th>\n",
       "    </tr>\n",
       "  </thead>\n",
       "  <tbody>\n",
       "  </tbody>\n",
       "</table>\n"
      ],
      "text/plain": [
       "<pandas.io.formats.style.Styler at 0x1e925159670>"
      ]
     },
     "execution_count": 27,
     "metadata": {},
     "output_type": "execute_result"
    }
   ],
   "source": [
    "flt_setmai[cols].perform.value_counts(normalize=True).to_frame().style.format('{:.2%}')"
   ]
  },
  {
   "cell_type": "code",
   "execution_count": null,
   "metadata": {},
   "outputs": [],
   "source": []
  }
 ],
 "metadata": {
  "anaconda-cloud": {},
  "kernelspec": {
   "display_name": "Python 3 (ipykernel)",
   "language": "python",
   "name": "python3"
  },
  "language_info": {
   "codemirror_mode": {
    "name": "ipython",
    "version": 3
   },
   "file_extension": ".py",
   "mimetype": "text/x-python",
   "name": "python",
   "nbconvert_exporter": "python",
   "pygments_lexer": "ipython3",
   "version": "3.8.11"
  }
 },
 "nbformat": 4,
 "nbformat_minor": 1
}
