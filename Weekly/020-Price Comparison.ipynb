{
 "cells": [
  {
   "cell_type": "markdown",
   "metadata": {},
   "source": [
    "### portmy database: stocks table\n",
    "### stock database: buy, price tables"
   ]
  },
  {
   "cell_type": "code",
   "execution_count": 1,
   "metadata": {},
   "outputs": [
    {
     "data": {
      "text/plain": [
       "(datetime.date(2022, 4, 2), '2022-13')"
      ]
     },
     "execution_count": 1,
     "metadata": {},
     "output_type": "execute_result"
    }
   ],
   "source": [
    "import pandas as pd\n",
    "import numpy as np\n",
    "from datetime import date, timedelta\n",
    "from sqlalchemy import create_engine\n",
    "\n",
    "engine = create_engine(\"sqlite:///c:\\\\ruby\\\\portmy\\\\db\\\\development.sqlite3\")\n",
    "conmy = engine.connect()\n",
    "conmy = engine.connect()\n",
    "engine = create_engine(\"mysql+pymysql://root:@localhost:3306/stock\")\n",
    "const = engine.connect()\n",
    "\n",
    "pd.set_option('display.float_format','{:,.2f}'.format)\n",
    "\n",
    "data_path = \"../data/\"\n",
    "csv_path = \"\\\\Users\\\\User\\\\iCloudDrive\\\\\"\n",
    "box_path = \"\\\\Users\\\\User\\\\Dropbox\\\\\"\n",
    "\n",
    "today = date.today()\n",
    "week_str = today.strftime('%Y-%U')\n",
    "today, week_str"
   ]
  },
  {
   "cell_type": "code",
   "execution_count": 2,
   "metadata": {},
   "outputs": [
    {
     "data": {
      "text/plain": [
       "(datetime.date(2022, 4, 1), datetime.date(2022, 3, 25))"
      ]
     },
     "execution_count": 2,
     "metadata": {},
     "output_type": "execute_result"
    }
   ],
   "source": [
    "today = today - timedelta(days=1)\n",
    "wkago = today - timedelta(days=7)\n",
    "today, wkago"
   ]
  },
  {
   "cell_type": "markdown",
   "metadata": {},
   "source": [
    "### Restart & Run All Cells"
   ]
  },
  {
   "cell_type": "markdown",
   "metadata": {},
   "source": [
    "### This process affects only already in port stocks. To highlight price changes in percent."
   ]
  },
  {
   "cell_type": "code",
   "execution_count": 3,
   "metadata": {},
   "outputs": [],
   "source": [
    "cols = 'name price_d price_w percent perform mrkt '.split()"
   ]
  },
  {
   "cell_type": "code",
   "execution_count": 4,
   "metadata": {},
   "outputs": [],
   "source": [
    "format_dict = {\n",
    "    'qty':'{:,}',    \n",
    "    'price':'{:.2f}','price_d':'{:.2f}','price_w':'{:.2f}',\n",
    "    'max_price':'{:.2f}','min_price':'{:.2f}',\n",
    "    'maxp':'{:.2f}','minp':'{:.2f}','opnp':'{:.2f}',    \n",
    "    'pct':'{:,.2f}%','percent':'{:,.2f}%',\n",
    "    \n",
    "    'pe':'{:.2f}','pbv':'{:.2f}',\n",
    "    'paid_up':'{:,.2f}','market_cap':'{:,.2f}',\n",
    "    'daily_volume':'{:,.2f}','beta':'{:,.2f}', \n",
    "    'dly_vol':'{:,.2f}', \n",
    "}"
   ]
  },
  {
   "cell_type": "code",
   "execution_count": 5,
   "metadata": {},
   "outputs": [
    {
     "data": {
      "text/html": [
       "<style type=\"text/css\">\n",
       "</style>\n",
       "<table id=\"T_e1da8_\">\n",
       "  <thead>\n",
       "    <tr>\n",
       "      <th class=\"blank level0\" >&nbsp;</th>\n",
       "      <th class=\"col_heading level0 col0\" >name</th>\n",
       "      <th class=\"col_heading level0 col1\" >date</th>\n",
       "      <th class=\"col_heading level0 col2\" >price</th>\n",
       "    </tr>\n",
       "  </thead>\n",
       "  <tbody>\n",
       "    <tr>\n",
       "      <th id=\"T_e1da8_level0_row0\" class=\"row_heading level0 row0\" >0</th>\n",
       "      <td id=\"T_e1da8_row0_col0\" class=\"data row0 col0\" >SENA</td>\n",
       "      <td id=\"T_e1da8_row0_col1\" class=\"data row0 col1\" >2022-03-29</td>\n",
       "      <td id=\"T_e1da8_row0_col2\" class=\"data row0 col2\" >4.80</td>\n",
       "    </tr>\n",
       "  </tbody>\n",
       "</table>\n"
      ],
      "text/plain": [
       "<pandas.io.formats.style.Styler at 0x189036551f0>"
      ]
     },
     "execution_count": 5,
     "metadata": {},
     "output_type": "execute_result"
    }
   ],
   "source": [
    "sql = \"\"\"\n",
    "SELECT name, date, price \n",
    "FROM buy \n",
    "ORDER BY date DESC \n",
    "LIMIT 1\n",
    "\"\"\"\n",
    "df_buy = pd.read_sql(sql, const)\n",
    "df_buy.style.format(format_dict)"
   ]
  },
  {
   "cell_type": "code",
   "execution_count": 6,
   "metadata": {},
   "outputs": [
    {
     "name": "stdout",
     "output_type": "stream",
     "text": [
      "\n",
      "SELECT * FROM stocks WHERE name = 'SENA'\n",
      "\n"
     ]
    },
    {
     "data": {
      "text/html": [
       "<style type=\"text/css\">\n",
       "</style>\n",
       "<table id=\"T_4f0ad_\">\n",
       "  <thead>\n",
       "    <tr>\n",
       "      <th class=\"blank level0\" >&nbsp;</th>\n",
       "      <th class=\"col_heading level0 col0\" >id</th>\n",
       "      <th class=\"col_heading level0 col1\" >name</th>\n",
       "      <th class=\"col_heading level0 col2\" >market</th>\n",
       "      <th class=\"col_heading level0 col3\" >price</th>\n",
       "      <th class=\"col_heading level0 col4\" >max_price</th>\n",
       "      <th class=\"col_heading level0 col5\" >min_price</th>\n",
       "      <th class=\"col_heading level0 col6\" >pe</th>\n",
       "      <th class=\"col_heading level0 col7\" >pbv</th>\n",
       "      <th class=\"col_heading level0 col8\" >paid_up</th>\n",
       "      <th class=\"col_heading level0 col9\" >market_cap</th>\n",
       "      <th class=\"col_heading level0 col10\" >daily_volume</th>\n",
       "      <th class=\"col_heading level0 col11\" >beta</th>\n",
       "      <th class=\"col_heading level0 col12\" >ticker_id</th>\n",
       "      <th class=\"col_heading level0 col13\" >created_at</th>\n",
       "      <th class=\"col_heading level0 col14\" >updated_at</th>\n",
       "    </tr>\n",
       "  </thead>\n",
       "  <tbody>\n",
       "    <tr>\n",
       "      <th id=\"T_4f0ad_level0_row0\" class=\"row_heading level0 row0\" >0</th>\n",
       "      <td id=\"T_4f0ad_row0_col0\" class=\"data row0 col0\" >437</td>\n",
       "      <td id=\"T_4f0ad_row0_col1\" class=\"data row0 col1\" >SENA</td>\n",
       "      <td id=\"T_4f0ad_row0_col2\" class=\"data row0 col2\" >sSET    </td>\n",
       "      <td id=\"T_4f0ad_row0_col3\" class=\"data row0 col3\" >4.88</td>\n",
       "      <td id=\"T_4f0ad_row0_col4\" class=\"data row0 col4\" >5.50</td>\n",
       "      <td id=\"T_4f0ad_row0_col5\" class=\"data row0 col5\" >3.44</td>\n",
       "      <td id=\"T_4f0ad_row0_col6\" class=\"data row0 col6\" >5.61</td>\n",
       "      <td id=\"T_4f0ad_row0_col7\" class=\"data row0 col7\" >0.90</td>\n",
       "      <td id=\"T_4f0ad_row0_col8\" class=\"data row0 col8\" >1,437.70</td>\n",
       "      <td id=\"T_4f0ad_row0_col9\" class=\"data row0 col9\" >7,015.98</td>\n",
       "      <td id=\"T_4f0ad_row0_col10\" class=\"data row0 col10\" >34.32</td>\n",
       "      <td id=\"T_4f0ad_row0_col11\" class=\"data row0 col11\" >1.01</td>\n",
       "      <td id=\"T_4f0ad_row0_col12\" class=\"data row0 col12\" >437</td>\n",
       "      <td id=\"T_4f0ad_row0_col13\" class=\"data row0 col13\" >2017-07-23 07:25:24.502452</td>\n",
       "      <td id=\"T_4f0ad_row0_col14\" class=\"data row0 col14\" >2022-04-01 19:41:03.286084</td>\n",
       "    </tr>\n",
       "  </tbody>\n",
       "</table>\n"
      ],
      "text/plain": [
       "<pandas.io.formats.style.Styler at 0x189072cc760>"
      ]
     },
     "execution_count": 6,
     "metadata": {},
     "output_type": "execute_result"
    }
   ],
   "source": [
    "names = df_buy['name']\n",
    "name = names.to_string(index=False)\n",
    "\n",
    "sql = '''\n",
    "SELECT * FROM stocks WHERE name = '%s'\n",
    "'''\n",
    "sql = sql % name\n",
    "print(sql)\n",
    "\n",
    "df_stocks = pd.read_sql(sql, conmy)\n",
    "df_stocks.style.format(format_dict) "
   ]
  },
  {
   "cell_type": "code",
   "execution_count": 7,
   "metadata": {},
   "outputs": [
    {
     "name": "stdout",
     "output_type": "stream",
     "text": [
      "\n",
      "SELECT * FROM price WHERE name = \"SENA\" ORDER BY date DESC LIMIT 5\n",
      "\n"
     ]
    },
    {
     "data": {
      "text/html": [
       "<style type=\"text/css\">\n",
       "</style>\n",
       "<table id=\"T_bfc9c_\">\n",
       "  <thead>\n",
       "    <tr>\n",
       "      <th class=\"blank level0\" >&nbsp;</th>\n",
       "      <th class=\"col_heading level0 col0\" >name</th>\n",
       "      <th class=\"col_heading level0 col1\" >date</th>\n",
       "      <th class=\"col_heading level0 col2\" >price</th>\n",
       "      <th class=\"col_heading level0 col3\" >maxp</th>\n",
       "      <th class=\"col_heading level0 col4\" >minp</th>\n",
       "      <th class=\"col_heading level0 col5\" >qty</th>\n",
       "      <th class=\"col_heading level0 col6\" >opnp</th>\n",
       "    </tr>\n",
       "  </thead>\n",
       "  <tbody>\n",
       "    <tr>\n",
       "      <th id=\"T_bfc9c_level0_row0\" class=\"row_heading level0 row0\" >0</th>\n",
       "      <td id=\"T_bfc9c_row0_col0\" class=\"data row0 col0\" >SENA</td>\n",
       "      <td id=\"T_bfc9c_row0_col1\" class=\"data row0 col1\" >2022-04-01</td>\n",
       "      <td id=\"T_bfc9c_row0_col2\" class=\"data row0 col2\" >4.88</td>\n",
       "      <td id=\"T_bfc9c_row0_col3\" class=\"data row0 col3\" >4.90</td>\n",
       "      <td id=\"T_bfc9c_row0_col4\" class=\"data row0 col4\" >4.80</td>\n",
       "      <td id=\"T_bfc9c_row0_col5\" class=\"data row0 col5\" >3,182,334</td>\n",
       "      <td id=\"T_bfc9c_row0_col6\" class=\"data row0 col6\" >4.84</td>\n",
       "    </tr>\n",
       "    <tr>\n",
       "      <th id=\"T_bfc9c_level0_row1\" class=\"row_heading level0 row1\" >1</th>\n",
       "      <td id=\"T_bfc9c_row1_col0\" class=\"data row1 col0\" >SENA</td>\n",
       "      <td id=\"T_bfc9c_row1_col1\" class=\"data row1 col1\" >2022-03-31</td>\n",
       "      <td id=\"T_bfc9c_row1_col2\" class=\"data row1 col2\" >4.88</td>\n",
       "      <td id=\"T_bfc9c_row1_col3\" class=\"data row1 col3\" >5.00</td>\n",
       "      <td id=\"T_bfc9c_row1_col4\" class=\"data row1 col4\" >4.84</td>\n",
       "      <td id=\"T_bfc9c_row1_col5\" class=\"data row1 col5\" >2,530,903</td>\n",
       "      <td id=\"T_bfc9c_row1_col6\" class=\"data row1 col6\" >4.98</td>\n",
       "    </tr>\n",
       "    <tr>\n",
       "      <th id=\"T_bfc9c_level0_row2\" class=\"row_heading level0 row2\" >2</th>\n",
       "      <td id=\"T_bfc9c_row2_col0\" class=\"data row2 col0\" >SENA</td>\n",
       "      <td id=\"T_bfc9c_row2_col1\" class=\"data row2 col1\" >2022-03-30</td>\n",
       "      <td id=\"T_bfc9c_row2_col2\" class=\"data row2 col2\" >4.96</td>\n",
       "      <td id=\"T_bfc9c_row2_col3\" class=\"data row2 col3\" >4.98</td>\n",
       "      <td id=\"T_bfc9c_row2_col4\" class=\"data row2 col4\" >4.90</td>\n",
       "      <td id=\"T_bfc9c_row2_col5\" class=\"data row2 col5\" >3,544,198</td>\n",
       "      <td id=\"T_bfc9c_row2_col6\" class=\"data row2 col6\" >4.96</td>\n",
       "    </tr>\n",
       "    <tr>\n",
       "      <th id=\"T_bfc9c_level0_row3\" class=\"row_heading level0 row3\" >3</th>\n",
       "      <td id=\"T_bfc9c_row3_col0\" class=\"data row3 col0\" >SENA</td>\n",
       "      <td id=\"T_bfc9c_row3_col1\" class=\"data row3 col1\" >2022-03-29</td>\n",
       "      <td id=\"T_bfc9c_row3_col2\" class=\"data row3 col2\" >4.96</td>\n",
       "      <td id=\"T_bfc9c_row3_col3\" class=\"data row3 col3\" >5.05</td>\n",
       "      <td id=\"T_bfc9c_row3_col4\" class=\"data row3 col4\" >4.76</td>\n",
       "      <td id=\"T_bfc9c_row3_col5\" class=\"data row3 col5\" >19,088,693</td>\n",
       "      <td id=\"T_bfc9c_row3_col6\" class=\"data row3 col6\" >4.76</td>\n",
       "    </tr>\n",
       "    <tr>\n",
       "      <th id=\"T_bfc9c_level0_row4\" class=\"row_heading level0 row4\" >4</th>\n",
       "      <td id=\"T_bfc9c_row4_col0\" class=\"data row4 col0\" >SENA</td>\n",
       "      <td id=\"T_bfc9c_row4_col1\" class=\"data row4 col1\" >2022-03-28</td>\n",
       "      <td id=\"T_bfc9c_row4_col2\" class=\"data row4 col2\" >4.76</td>\n",
       "      <td id=\"T_bfc9c_row4_col3\" class=\"data row4 col3\" >4.78</td>\n",
       "      <td id=\"T_bfc9c_row4_col4\" class=\"data row4 col4\" >4.48</td>\n",
       "      <td id=\"T_bfc9c_row4_col5\" class=\"data row4 col5\" >11,496,386</td>\n",
       "      <td id=\"T_bfc9c_row4_col6\" class=\"data row4 col6\" >4.50</td>\n",
       "    </tr>\n",
       "  </tbody>\n",
       "</table>\n"
      ],
      "text/plain": [
       "<pandas.io.formats.style.Styler at 0x1890625eeb0>"
      ]
     },
     "execution_count": 7,
     "metadata": {},
     "output_type": "execute_result"
    }
   ],
   "source": [
    "sql = '''\n",
    "SELECT * FROM price WHERE name = \"%s\" ORDER BY date DESC LIMIT 5\n",
    "'''\n",
    "sql = sql % name\n",
    "print(sql)\n",
    "\n",
    "df_price = pd.read_sql(sql, const)\n",
    "df_price.style.format(format_dict)"
   ]
  },
  {
   "cell_type": "code",
   "execution_count": 8,
   "metadata": {},
   "outputs": [
    {
     "name": "stdout",
     "output_type": "stream",
     "text": [
      "\n",
      "SELECT name, price AS price_d \n",
      "FROM price \n",
      "WHERE date = '2022-04-01' AND name IN ('AIMIRT', 'ASP', 'BCH', 'CPNCG', 'DIF', 'DOHOME', 'HREIT', 'IP', 'JASIF', 'KCE', 'MAKRO', 'MCS', 'NER', 'PTT', 'PTTGC', 'RATCH', 'RCL', 'RJH', 'SCC', 'SCCC', 'SENA', 'SPALI', 'STA', 'SYNEX', 'TISCO', 'TMT', 'TPIPL', 'WHART')\n",
      "ORDER BY name, date\n"
     ]
    },
    {
     "data": {
      "text/plain": [
       "28"
      ]
     },
     "execution_count": 8,
     "metadata": {},
     "output_type": "execute_result"
    }
   ],
   "source": [
    "sql = '''\n",
    "SELECT name\n",
    "FROM buy \n",
    "WHERE active = 1\n",
    "ORDER BY name'''\n",
    "df_price = pd.read_sql(sql, const)\n",
    "\n",
    "names = df_price.name.tolist()\n",
    "in_p = \", \".join(map(lambda name: \"'%s'\" % name, names))\n",
    "\n",
    "sql = \"\"\"\n",
    "SELECT name, price AS price_d \n",
    "FROM price \n",
    "WHERE date = '%s' AND name IN (%s)\n",
    "ORDER BY name, date\"\"\"\n",
    "sql = sql % (today, in_p)\n",
    "print(sql)\n",
    "\n",
    "df_today = pd.read_sql(sql, const)\n",
    "df_today.shape[0]"
   ]
  },
  {
   "cell_type": "code",
   "execution_count": 9,
   "metadata": {},
   "outputs": [
    {
     "name": "stdout",
     "output_type": "stream",
     "text": [
      "\n",
      "SELECT name, price AS price_w\n",
      "FROM price \n",
      "WHERE date = '2022-03-25' AND name IN ('AIMIRT', 'ASP', 'BCH', 'CPNCG', 'DIF', 'DOHOME', 'HREIT', 'IP', 'JASIF', 'KCE', 'MAKRO', 'MCS', 'NER', 'PTT', 'PTTGC', 'RATCH', 'RCL', 'RJH', 'SCC', 'SCCC', 'SENA', 'SPALI', 'STA', 'SYNEX', 'TISCO', 'TMT', 'TPIPL', 'WHART') \n",
      "ORDER BY name\n"
     ]
    },
    {
     "data": {
      "text/plain": [
       "28"
      ]
     },
     "execution_count": 9,
     "metadata": {},
     "output_type": "execute_result"
    }
   ],
   "source": [
    "sql = \"\"\"\n",
    "SELECT name, price AS price_w\n",
    "FROM price \n",
    "WHERE date = '%s' AND name IN (%s) \n",
    "ORDER BY name\"\"\"\n",
    "sql = sql % (wkago, in_p)\n",
    "print(sql)\n",
    "\n",
    "df_wkago = pd.read_sql(sql, const)\n",
    "df_wkago.shape[0]"
   ]
  },
  {
   "cell_type": "code",
   "execution_count": 10,
   "metadata": {},
   "outputs": [
    {
     "data": {
      "text/plain": [
       "(28, 3)"
      ]
     },
     "execution_count": 10,
     "metadata": {},
     "output_type": "execute_result"
    }
   ],
   "source": [
    "trend = pd.merge(df_today, df_wkago, on='name',how='inner')\n",
    "trend.shape"
   ]
  },
  {
   "cell_type": "code",
   "execution_count": 11,
   "metadata": {},
   "outputs": [],
   "source": [
    "def performance(vals):\n",
    "    price_d, price_w = vals\n",
    "    if (price_d > price_w):\n",
    "        return 'Better'\n",
    "    elif (price_d < price_w):\n",
    "        return 'Worse'\n",
    "    else:\n",
    "        return 'No Change'"
   ]
  },
  {
   "cell_type": "code",
   "execution_count": 12,
   "metadata": {},
   "outputs": [
    {
     "data": {
      "text/html": [
       "<style type=\"text/css\">\n",
       "</style>\n",
       "<table id=\"T_abda4_\">\n",
       "  <thead>\n",
       "    <tr>\n",
       "      <th class=\"blank level0\" >&nbsp;</th>\n",
       "      <th class=\"col_heading level0 col0\" >name</th>\n",
       "      <th class=\"col_heading level0 col1\" >price_d</th>\n",
       "      <th class=\"col_heading level0 col2\" >price_w</th>\n",
       "      <th class=\"col_heading level0 col3\" >percent</th>\n",
       "      <th class=\"col_heading level0 col4\" >perform</th>\n",
       "    </tr>\n",
       "  </thead>\n",
       "  <tbody>\n",
       "    <tr>\n",
       "      <th id=\"T_abda4_level0_row0\" class=\"row_heading level0 row0\" >2</th>\n",
       "      <td id=\"T_abda4_row0_col0\" class=\"data row0 col0\" >BCH</td>\n",
       "      <td id=\"T_abda4_row0_col1\" class=\"data row0 col1\" >20.40</td>\n",
       "      <td id=\"T_abda4_row0_col2\" class=\"data row0 col2\" >21.40</td>\n",
       "      <td id=\"T_abda4_row0_col3\" class=\"data row0 col3\" >-4.67%</td>\n",
       "      <td id=\"T_abda4_row0_col4\" class=\"data row0 col4\" >Worse</td>\n",
       "    </tr>\n",
       "    <tr>\n",
       "      <th id=\"T_abda4_level0_row1\" class=\"row_heading level0 row1\" >14</th>\n",
       "      <td id=\"T_abda4_row1_col0\" class=\"data row1 col0\" >PTTGC</td>\n",
       "      <td id=\"T_abda4_row1_col1\" class=\"data row1 col1\" >50.00</td>\n",
       "      <td id=\"T_abda4_row1_col2\" class=\"data row1 col2\" >51.50</td>\n",
       "      <td id=\"T_abda4_row1_col3\" class=\"data row1 col3\" >-2.91%</td>\n",
       "      <td id=\"T_abda4_row1_col4\" class=\"data row1 col4\" >Worse</td>\n",
       "    </tr>\n",
       "    <tr>\n",
       "      <th id=\"T_abda4_level0_row2\" class=\"row_heading level0 row2\" >27</th>\n",
       "      <td id=\"T_abda4_row2_col0\" class=\"data row2 col0\" >WHART</td>\n",
       "      <td id=\"T_abda4_row2_col1\" class=\"data row2 col1\" >11.10</td>\n",
       "      <td id=\"T_abda4_row2_col2\" class=\"data row2 col2\" >11.40</td>\n",
       "      <td id=\"T_abda4_row2_col3\" class=\"data row2 col3\" >-2.63%</td>\n",
       "      <td id=\"T_abda4_row2_col4\" class=\"data row2 col4\" >Worse</td>\n",
       "    </tr>\n",
       "    <tr>\n",
       "      <th id=\"T_abda4_level0_row3\" class=\"row_heading level0 row3\" >11</th>\n",
       "      <td id=\"T_abda4_row3_col0\" class=\"data row3 col0\" >MCS</td>\n",
       "      <td id=\"T_abda4_row3_col1\" class=\"data row3 col1\" >13.70</td>\n",
       "      <td id=\"T_abda4_row3_col2\" class=\"data row3 col2\" >13.90</td>\n",
       "      <td id=\"T_abda4_row3_col3\" class=\"data row3 col3\" >-1.44%</td>\n",
       "      <td id=\"T_abda4_row3_col4\" class=\"data row3 col4\" >Worse</td>\n",
       "    </tr>\n",
       "    <tr>\n",
       "      <th id=\"T_abda4_level0_row4\" class=\"row_heading level0 row4\" >21</th>\n",
       "      <td id=\"T_abda4_row4_col0\" class=\"data row4 col0\" >SPALI</td>\n",
       "      <td id=\"T_abda4_row4_col1\" class=\"data row4 col1\" >21.70</td>\n",
       "      <td id=\"T_abda4_row4_col2\" class=\"data row4 col2\" >22.00</td>\n",
       "      <td id=\"T_abda4_row4_col3\" class=\"data row4 col3\" >-1.36%</td>\n",
       "      <td id=\"T_abda4_row4_col4\" class=\"data row4 col4\" >Worse</td>\n",
       "    </tr>\n",
       "    <tr>\n",
       "      <th id=\"T_abda4_level0_row5\" class=\"row_heading level0 row5\" >26</th>\n",
       "      <td id=\"T_abda4_row5_col0\" class=\"data row5 col0\" >TPIPL</td>\n",
       "      <td id=\"T_abda4_row5_col1\" class=\"data row5 col1\" >1.62</td>\n",
       "      <td id=\"T_abda4_row5_col2\" class=\"data row5 col2\" >1.64</td>\n",
       "      <td id=\"T_abda4_row5_col3\" class=\"data row5 col3\" >-1.22%</td>\n",
       "      <td id=\"T_abda4_row5_col4\" class=\"data row5 col4\" >Worse</td>\n",
       "    </tr>\n",
       "    <tr>\n",
       "      <th id=\"T_abda4_level0_row6\" class=\"row_heading level0 row6\" >22</th>\n",
       "      <td id=\"T_abda4_row6_col0\" class=\"data row6 col0\" >STA</td>\n",
       "      <td id=\"T_abda4_row6_col1\" class=\"data row6 col1\" >26.50</td>\n",
       "      <td id=\"T_abda4_row6_col2\" class=\"data row6 col2\" >26.75</td>\n",
       "      <td id=\"T_abda4_row6_col3\" class=\"data row6 col3\" >-0.93%</td>\n",
       "      <td id=\"T_abda4_row6_col4\" class=\"data row6 col4\" >Worse</td>\n",
       "    </tr>\n",
       "    <tr>\n",
       "      <th id=\"T_abda4_level0_row7\" class=\"row_heading level0 row7\" >8</th>\n",
       "      <td id=\"T_abda4_row7_col0\" class=\"data row7 col0\" >JASIF</td>\n",
       "      <td id=\"T_abda4_row7_col1\" class=\"data row7 col1\" >10.90</td>\n",
       "      <td id=\"T_abda4_row7_col2\" class=\"data row7 col2\" >11.00</td>\n",
       "      <td id=\"T_abda4_row7_col3\" class=\"data row7 col3\" >-0.91%</td>\n",
       "      <td id=\"T_abda4_row7_col4\" class=\"data row7 col4\" >Worse</td>\n",
       "    </tr>\n",
       "    <tr>\n",
       "      <th id=\"T_abda4_level0_row8\" class=\"row_heading level0 row8\" >3</th>\n",
       "      <td id=\"T_abda4_row8_col0\" class=\"data row8 col0\" >CPNCG</td>\n",
       "      <td id=\"T_abda4_row8_col1\" class=\"data row8 col1\" >12.20</td>\n",
       "      <td id=\"T_abda4_row8_col2\" class=\"data row8 col2\" >12.30</td>\n",
       "      <td id=\"T_abda4_row8_col3\" class=\"data row8 col3\" >-0.81%</td>\n",
       "      <td id=\"T_abda4_row8_col4\" class=\"data row8 col4\" >Worse</td>\n",
       "    </tr>\n",
       "    <tr>\n",
       "      <th id=\"T_abda4_level0_row9\" class=\"row_heading level0 row9\" >13</th>\n",
       "      <td id=\"T_abda4_row9_col0\" class=\"data row9 col0\" >PTT</td>\n",
       "      <td id=\"T_abda4_row9_col1\" class=\"data row9 col1\" >38.75</td>\n",
       "      <td id=\"T_abda4_row9_col2\" class=\"data row9 col2\" >39.00</td>\n",
       "      <td id=\"T_abda4_row9_col3\" class=\"data row9 col3\" >-0.64%</td>\n",
       "      <td id=\"T_abda4_row9_col4\" class=\"data row9 col4\" >Worse</td>\n",
       "    </tr>\n",
       "    <tr>\n",
       "      <th id=\"T_abda4_level0_row10\" class=\"row_heading level0 row10\" >1</th>\n",
       "      <td id=\"T_abda4_row10_col0\" class=\"data row10 col0\" >ASP</td>\n",
       "      <td id=\"T_abda4_row10_col1\" class=\"data row10 col1\" >3.44</td>\n",
       "      <td id=\"T_abda4_row10_col2\" class=\"data row10 col2\" >3.46</td>\n",
       "      <td id=\"T_abda4_row10_col3\" class=\"data row10 col3\" >-0.58%</td>\n",
       "      <td id=\"T_abda4_row10_col4\" class=\"data row10 col4\" >Worse</td>\n",
       "    </tr>\n",
       "    <tr>\n",
       "      <th id=\"T_abda4_level0_row11\" class=\"row_heading level0 row11\" >6</th>\n",
       "      <td id=\"T_abda4_row11_col0\" class=\"data row11 col0\" >HREIT</td>\n",
       "      <td id=\"T_abda4_row11_col1\" class=\"data row11 col1\" >8.65</td>\n",
       "      <td id=\"T_abda4_row11_col2\" class=\"data row11 col2\" >8.65</td>\n",
       "      <td id=\"T_abda4_row11_col3\" class=\"data row11 col3\" >0.00%</td>\n",
       "      <td id=\"T_abda4_row11_col4\" class=\"data row11 col4\" >No Change</td>\n",
       "    </tr>\n",
       "    <tr>\n",
       "      <th id=\"T_abda4_level0_row12\" class=\"row_heading level0 row12\" >15</th>\n",
       "      <td id=\"T_abda4_row12_col0\" class=\"data row12 col0\" >RATCH</td>\n",
       "      <td id=\"T_abda4_row12_col1\" class=\"data row12 col1\" >44.00</td>\n",
       "      <td id=\"T_abda4_row12_col2\" class=\"data row12 col2\" >44.00</td>\n",
       "      <td id=\"T_abda4_row12_col3\" class=\"data row12 col3\" >0.00%</td>\n",
       "      <td id=\"T_abda4_row12_col4\" class=\"data row12 col4\" >No Change</td>\n",
       "    </tr>\n",
       "    <tr>\n",
       "      <th id=\"T_abda4_level0_row13\" class=\"row_heading level0 row13\" >17</th>\n",
       "      <td id=\"T_abda4_row13_col0\" class=\"data row13 col0\" >RJH</td>\n",
       "      <td id=\"T_abda4_row13_col1\" class=\"data row13 col1\" >32.00</td>\n",
       "      <td id=\"T_abda4_row13_col2\" class=\"data row13 col2\" >32.00</td>\n",
       "      <td id=\"T_abda4_row13_col3\" class=\"data row13 col3\" >0.00%</td>\n",
       "      <td id=\"T_abda4_row13_col4\" class=\"data row13 col4\" >No Change</td>\n",
       "    </tr>\n",
       "    <tr>\n",
       "      <th id=\"T_abda4_level0_row14\" class=\"row_heading level0 row14\" >4</th>\n",
       "      <td id=\"T_abda4_row14_col0\" class=\"data row14 col0\" >DIF</td>\n",
       "      <td id=\"T_abda4_row14_col1\" class=\"data row14 col1\" >14.20</td>\n",
       "      <td id=\"T_abda4_row14_col2\" class=\"data row14 col2\" >14.20</td>\n",
       "      <td id=\"T_abda4_row14_col3\" class=\"data row14 col3\" >0.00%</td>\n",
       "      <td id=\"T_abda4_row14_col4\" class=\"data row14 col4\" >No Change</td>\n",
       "    </tr>\n",
       "    <tr>\n",
       "      <th id=\"T_abda4_level0_row15\" class=\"row_heading level0 row15\" >9</th>\n",
       "      <td id=\"T_abda4_row15_col0\" class=\"data row15 col0\" >KCE</td>\n",
       "      <td id=\"T_abda4_row15_col1\" class=\"data row15 col1\" >65.25</td>\n",
       "      <td id=\"T_abda4_row15_col2\" class=\"data row15 col2\" >65.00</td>\n",
       "      <td id=\"T_abda4_row15_col3\" class=\"data row15 col3\" >0.38%</td>\n",
       "      <td id=\"T_abda4_row15_col4\" class=\"data row15 col4\" >Better</td>\n",
       "    </tr>\n",
       "    <tr>\n",
       "      <th id=\"T_abda4_level0_row16\" class=\"row_heading level0 row16\" >5</th>\n",
       "      <td id=\"T_abda4_row16_col0\" class=\"data row16 col0\" >DOHOME</td>\n",
       "      <td id=\"T_abda4_row16_col1\" class=\"data row16 col1\" >21.40</td>\n",
       "      <td id=\"T_abda4_row16_col2\" class=\"data row16 col2\" >21.30</td>\n",
       "      <td id=\"T_abda4_row16_col3\" class=\"data row16 col3\" >0.47%</td>\n",
       "      <td id=\"T_abda4_row16_col4\" class=\"data row16 col4\" >Better</td>\n",
       "    </tr>\n",
       "    <tr>\n",
       "      <th id=\"T_abda4_level0_row17\" class=\"row_heading level0 row17\" >18</th>\n",
       "      <td id=\"T_abda4_row17_col0\" class=\"data row17 col0\" >SCC</td>\n",
       "      <td id=\"T_abda4_row17_col1\" class=\"data row17 col1\" >383.00</td>\n",
       "      <td id=\"T_abda4_row17_col2\" class=\"data row17 col2\" >381.00</td>\n",
       "      <td id=\"T_abda4_row17_col3\" class=\"data row17 col3\" >0.52%</td>\n",
       "      <td id=\"T_abda4_row17_col4\" class=\"data row17 col4\" >Better</td>\n",
       "    </tr>\n",
       "    <tr>\n",
       "      <th id=\"T_abda4_level0_row18\" class=\"row_heading level0 row18\" >16</th>\n",
       "      <td id=\"T_abda4_row18_col0\" class=\"data row18 col0\" >RCL</td>\n",
       "      <td id=\"T_abda4_row18_col1\" class=\"data row18 col1\" >44.00</td>\n",
       "      <td id=\"T_abda4_row18_col2\" class=\"data row18 col2\" >43.75</td>\n",
       "      <td id=\"T_abda4_row18_col3\" class=\"data row18 col3\" >0.57%</td>\n",
       "      <td id=\"T_abda4_row18_col4\" class=\"data row18 col4\" >Better</td>\n",
       "    </tr>\n",
       "    <tr>\n",
       "      <th id=\"T_abda4_level0_row19\" class=\"row_heading level0 row19\" >19</th>\n",
       "      <td id=\"T_abda4_row19_col0\" class=\"data row19 col0\" >SCCC</td>\n",
       "      <td id=\"T_abda4_row19_col1\" class=\"data row19 col1\" >154.50</td>\n",
       "      <td id=\"T_abda4_row19_col2\" class=\"data row19 col2\" >153.50</td>\n",
       "      <td id=\"T_abda4_row19_col3\" class=\"data row19 col3\" >0.65%</td>\n",
       "      <td id=\"T_abda4_row19_col4\" class=\"data row19 col4\" >Better</td>\n",
       "    </tr>\n",
       "    <tr>\n",
       "      <th id=\"T_abda4_level0_row20\" class=\"row_heading level0 row20\" >12</th>\n",
       "      <td id=\"T_abda4_row20_col0\" class=\"data row20 col0\" >NER</td>\n",
       "      <td id=\"T_abda4_row20_col1\" class=\"data row20 col1\" >7.15</td>\n",
       "      <td id=\"T_abda4_row20_col2\" class=\"data row20 col2\" >7.10</td>\n",
       "      <td id=\"T_abda4_row20_col3\" class=\"data row20 col3\" >0.70%</td>\n",
       "      <td id=\"T_abda4_row20_col4\" class=\"data row20 col4\" >Better</td>\n",
       "    </tr>\n",
       "    <tr>\n",
       "      <th id=\"T_abda4_level0_row21\" class=\"row_heading level0 row21\" >24</th>\n",
       "      <td id=\"T_abda4_row21_col0\" class=\"data row21 col0\" >TISCO</td>\n",
       "      <td id=\"T_abda4_row21_col1\" class=\"data row21 col1\" >100.50</td>\n",
       "      <td id=\"T_abda4_row21_col2\" class=\"data row21 col2\" >99.75</td>\n",
       "      <td id=\"T_abda4_row21_col3\" class=\"data row21 col3\" >0.75%</td>\n",
       "      <td id=\"T_abda4_row21_col4\" class=\"data row21 col4\" >Better</td>\n",
       "    </tr>\n",
       "    <tr>\n",
       "      <th id=\"T_abda4_level0_row22\" class=\"row_heading level0 row22\" >0</th>\n",
       "      <td id=\"T_abda4_row22_col0\" class=\"data row22 col0\" >AIMIRT</td>\n",
       "      <td id=\"T_abda4_row22_col1\" class=\"data row22 col1\" >12.90</td>\n",
       "      <td id=\"T_abda4_row22_col2\" class=\"data row22 col2\" >12.80</td>\n",
       "      <td id=\"T_abda4_row22_col3\" class=\"data row22 col3\" >0.78%</td>\n",
       "      <td id=\"T_abda4_row22_col4\" class=\"data row22 col4\" >Better</td>\n",
       "    </tr>\n",
       "    <tr>\n",
       "      <th id=\"T_abda4_level0_row23\" class=\"row_heading level0 row23\" >25</th>\n",
       "      <td id=\"T_abda4_row23_col0\" class=\"data row23 col0\" >TMT</td>\n",
       "      <td id=\"T_abda4_row23_col1\" class=\"data row23 col1\" >11.50</td>\n",
       "      <td id=\"T_abda4_row23_col2\" class=\"data row23 col2\" >11.40</td>\n",
       "      <td id=\"T_abda4_row23_col3\" class=\"data row23 col3\" >0.88%</td>\n",
       "      <td id=\"T_abda4_row23_col4\" class=\"data row23 col4\" >Better</td>\n",
       "    </tr>\n",
       "    <tr>\n",
       "      <th id=\"T_abda4_level0_row24\" class=\"row_heading level0 row24\" >10</th>\n",
       "      <td id=\"T_abda4_row24_col0\" class=\"data row24 col0\" >MAKRO</td>\n",
       "      <td id=\"T_abda4_row24_col1\" class=\"data row24 col1\" >40.00</td>\n",
       "      <td id=\"T_abda4_row24_col2\" class=\"data row24 col2\" >39.50</td>\n",
       "      <td id=\"T_abda4_row24_col3\" class=\"data row24 col3\" >1.27%</td>\n",
       "      <td id=\"T_abda4_row24_col4\" class=\"data row24 col4\" >Better</td>\n",
       "    </tr>\n",
       "    <tr>\n",
       "      <th id=\"T_abda4_level0_row25\" class=\"row_heading level0 row25\" >23</th>\n",
       "      <td id=\"T_abda4_row25_col0\" class=\"data row25 col0\" >SYNEX</td>\n",
       "      <td id=\"T_abda4_row25_col1\" class=\"data row25 col1\" >26.50</td>\n",
       "      <td id=\"T_abda4_row25_col2\" class=\"data row25 col2\" >26.00</td>\n",
       "      <td id=\"T_abda4_row25_col3\" class=\"data row25 col3\" >1.92%</td>\n",
       "      <td id=\"T_abda4_row25_col4\" class=\"data row25 col4\" >Better</td>\n",
       "    </tr>\n",
       "    <tr>\n",
       "      <th id=\"T_abda4_level0_row26\" class=\"row_heading level0 row26\" >7</th>\n",
       "      <td id=\"T_abda4_row26_col0\" class=\"data row26 col0\" >IP</td>\n",
       "      <td id=\"T_abda4_row26_col1\" class=\"data row26 col1\" >19.80</td>\n",
       "      <td id=\"T_abda4_row26_col2\" class=\"data row26 col2\" >19.00</td>\n",
       "      <td id=\"T_abda4_row26_col3\" class=\"data row26 col3\" >4.21%</td>\n",
       "      <td id=\"T_abda4_row26_col4\" class=\"data row26 col4\" >Better</td>\n",
       "    </tr>\n",
       "    <tr>\n",
       "      <th id=\"T_abda4_level0_row27\" class=\"row_heading level0 row27\" >20</th>\n",
       "      <td id=\"T_abda4_row27_col0\" class=\"data row27 col0\" >SENA</td>\n",
       "      <td id=\"T_abda4_row27_col1\" class=\"data row27 col1\" >4.88</td>\n",
       "      <td id=\"T_abda4_row27_col2\" class=\"data row27 col2\" >4.48</td>\n",
       "      <td id=\"T_abda4_row27_col3\" class=\"data row27 col3\" >8.93%</td>\n",
       "      <td id=\"T_abda4_row27_col4\" class=\"data row27 col4\" >Better</td>\n",
       "    </tr>\n",
       "  </tbody>\n",
       "</table>\n"
      ],
      "text/plain": [
       "<pandas.io.formats.style.Styler at 0x189072f8f40>"
      ]
     },
     "execution_count": 12,
     "metadata": {},
     "output_type": "execute_result"
    }
   ],
   "source": [
    "trend['percent'] = (trend.price_d-trend.price_w)/trend.price_w * 100\n",
    "trend[\"perform\"] = trend[[\"price_d\",\"price_w\"]].apply(performance, axis=1)\n",
    "trend.sort_values(by=['percent'],ascending=[True]).style.format(format_dict)"
   ]
  },
  {
   "cell_type": "code",
   "execution_count": 13,
   "metadata": {},
   "outputs": [
    {
     "data": {
      "text/html": [
       "<style type=\"text/css\">\n",
       "</style>\n",
       "<table id=\"T_98f0b_\">\n",
       "  <thead>\n",
       "    <tr>\n",
       "      <th class=\"blank level0\" >&nbsp;</th>\n",
       "      <th class=\"col_heading level0 col0\" >perform</th>\n",
       "    </tr>\n",
       "  </thead>\n",
       "  <tbody>\n",
       "    <tr>\n",
       "      <th id=\"T_98f0b_level0_row0\" class=\"row_heading level0 row0\" >Better</th>\n",
       "      <td id=\"T_98f0b_row0_col0\" class=\"data row0 col0\" >46.43%</td>\n",
       "    </tr>\n",
       "    <tr>\n",
       "      <th id=\"T_98f0b_level0_row1\" class=\"row_heading level0 row1\" >Worse</th>\n",
       "      <td id=\"T_98f0b_row1_col0\" class=\"data row1 col0\" >39.29%</td>\n",
       "    </tr>\n",
       "    <tr>\n",
       "      <th id=\"T_98f0b_level0_row2\" class=\"row_heading level0 row2\" >No Change</th>\n",
       "      <td id=\"T_98f0b_row2_col0\" class=\"data row2 col0\" >14.29%</td>\n",
       "    </tr>\n",
       "  </tbody>\n",
       "</table>\n"
      ],
      "text/plain": [
       "<pandas.io.formats.style.Styler at 0x189072f8910>"
      ]
     },
     "execution_count": 13,
     "metadata": {},
     "output_type": "execute_result"
    }
   ],
   "source": [
    "trend.perform.value_counts(normalize=True).to_frame().style.format('{:.2%}')"
   ]
  },
  {
   "cell_type": "code",
   "execution_count": 14,
   "metadata": {},
   "outputs": [
    {
     "data": {
      "text/plain": [
       "(359, 8)"
      ]
     },
     "execution_count": 14,
     "metadata": {},
     "output_type": "execute_result"
    }
   ],
   "source": [
    "sql = '''\n",
    "SELECT name, max_price AS max, min_price AS min, pe, pbv, daily_volume AS volume, beta, market\n",
    "FROM stocks\n",
    "'''\n",
    "my_stocks = pd.read_sql(sql, conmy)\n",
    "my_stocks.shape"
   ]
  },
  {
   "cell_type": "code",
   "execution_count": 15,
   "metadata": {},
   "outputs": [],
   "source": [
    "filters = [\n",
    "   (my_stocks.market.str.contains('SET50')),\n",
    "   (my_stocks.market.str.contains('SET100')),\n",
    "   (my_stocks.market.str.contains('mai'))]\n",
    "values = ['SET50','SET100','mai']\n",
    "my_stocks[\"mrkt\"] = np.select(filters, values, default='SET999')"
   ]
  },
  {
   "cell_type": "code",
   "execution_count": 16,
   "metadata": {},
   "outputs": [
    {
     "data": {
      "text/plain": [
       "(28, 13)"
      ]
     },
     "execution_count": 16,
     "metadata": {},
     "output_type": "execute_result"
    }
   ],
   "source": [
    "trend2 = pd.merge(trend, my_stocks, on='name', how='inner')\n",
    "trend2.sort_values(['percent'],ascending=[True]).shape"
   ]
  },
  {
   "cell_type": "code",
   "execution_count": 17,
   "metadata": {},
   "outputs": [
    {
     "data": {
      "text/html": [
       "<style type=\"text/css\">\n",
       "</style>\n",
       "<table id=\"T_449a7_\">\n",
       "  <thead>\n",
       "    <tr>\n",
       "      <th class=\"blank level0\" >&nbsp;</th>\n",
       "      <th class=\"col_heading level0 col0\" >name</th>\n",
       "      <th class=\"col_heading level0 col1\" >price_d</th>\n",
       "      <th class=\"col_heading level0 col2\" >price_w</th>\n",
       "      <th class=\"col_heading level0 col3\" >percent</th>\n",
       "      <th class=\"col_heading level0 col4\" >perform</th>\n",
       "      <th class=\"col_heading level0 col5\" >mrkt</th>\n",
       "    </tr>\n",
       "  </thead>\n",
       "  <tbody>\n",
       "    <tr>\n",
       "      <th id=\"T_449a7_level0_row0\" class=\"row_heading level0 row0\" >14</th>\n",
       "      <td id=\"T_449a7_row0_col0\" class=\"data row0 col0\" >PTTGC</td>\n",
       "      <td id=\"T_449a7_row0_col1\" class=\"data row0 col1\" >50.00</td>\n",
       "      <td id=\"T_449a7_row0_col2\" class=\"data row0 col2\" >51.50</td>\n",
       "      <td id=\"T_449a7_row0_col3\" class=\"data row0 col3\" >-2.91%</td>\n",
       "      <td id=\"T_449a7_row0_col4\" class=\"data row0 col4\" >Worse</td>\n",
       "      <td id=\"T_449a7_row0_col5\" class=\"data row0 col5\" >SET50</td>\n",
       "    </tr>\n",
       "    <tr>\n",
       "      <th id=\"T_449a7_level0_row1\" class=\"row_heading level0 row1\" >13</th>\n",
       "      <td id=\"T_449a7_row1_col0\" class=\"data row1 col0\" >PTT</td>\n",
       "      <td id=\"T_449a7_row1_col1\" class=\"data row1 col1\" >38.75</td>\n",
       "      <td id=\"T_449a7_row1_col2\" class=\"data row1 col2\" >39.00</td>\n",
       "      <td id=\"T_449a7_row1_col3\" class=\"data row1 col3\" >-0.64%</td>\n",
       "      <td id=\"T_449a7_row1_col4\" class=\"data row1 col4\" >Worse</td>\n",
       "      <td id=\"T_449a7_row1_col5\" class=\"data row1 col5\" >SET50</td>\n",
       "    </tr>\n",
       "    <tr>\n",
       "      <th id=\"T_449a7_level0_row2\" class=\"row_heading level0 row2\" >15</th>\n",
       "      <td id=\"T_449a7_row2_col0\" class=\"data row2 col0\" >RATCH</td>\n",
       "      <td id=\"T_449a7_row2_col1\" class=\"data row2 col1\" >44.00</td>\n",
       "      <td id=\"T_449a7_row2_col2\" class=\"data row2 col2\" >44.00</td>\n",
       "      <td id=\"T_449a7_row2_col3\" class=\"data row2 col3\" >0.00%</td>\n",
       "      <td id=\"T_449a7_row2_col4\" class=\"data row2 col4\" >No Change</td>\n",
       "      <td id=\"T_449a7_row2_col5\" class=\"data row2 col5\" >SET50</td>\n",
       "    </tr>\n",
       "    <tr>\n",
       "      <th id=\"T_449a7_level0_row3\" class=\"row_heading level0 row3\" >9</th>\n",
       "      <td id=\"T_449a7_row3_col0\" class=\"data row3 col0\" >KCE</td>\n",
       "      <td id=\"T_449a7_row3_col1\" class=\"data row3 col1\" >65.25</td>\n",
       "      <td id=\"T_449a7_row3_col2\" class=\"data row3 col2\" >65.00</td>\n",
       "      <td id=\"T_449a7_row3_col3\" class=\"data row3 col3\" >0.38%</td>\n",
       "      <td id=\"T_449a7_row3_col4\" class=\"data row3 col4\" >Better</td>\n",
       "      <td id=\"T_449a7_row3_col5\" class=\"data row3 col5\" >SET50</td>\n",
       "    </tr>\n",
       "    <tr>\n",
       "      <th id=\"T_449a7_level0_row4\" class=\"row_heading level0 row4\" >18</th>\n",
       "      <td id=\"T_449a7_row4_col0\" class=\"data row4 col0\" >SCC</td>\n",
       "      <td id=\"T_449a7_row4_col1\" class=\"data row4 col1\" >383.00</td>\n",
       "      <td id=\"T_449a7_row4_col2\" class=\"data row4 col2\" >381.00</td>\n",
       "      <td id=\"T_449a7_row4_col3\" class=\"data row4 col3\" >0.52%</td>\n",
       "      <td id=\"T_449a7_row4_col4\" class=\"data row4 col4\" >Better</td>\n",
       "      <td id=\"T_449a7_row4_col5\" class=\"data row4 col5\" >SET50</td>\n",
       "    </tr>\n",
       "    <tr>\n",
       "      <th id=\"T_449a7_level0_row5\" class=\"row_heading level0 row5\" >24</th>\n",
       "      <td id=\"T_449a7_row5_col0\" class=\"data row5 col0\" >TISCO</td>\n",
       "      <td id=\"T_449a7_row5_col1\" class=\"data row5 col1\" >100.50</td>\n",
       "      <td id=\"T_449a7_row5_col2\" class=\"data row5 col2\" >99.75</td>\n",
       "      <td id=\"T_449a7_row5_col3\" class=\"data row5 col3\" >0.75%</td>\n",
       "      <td id=\"T_449a7_row5_col4\" class=\"data row5 col4\" >Better</td>\n",
       "      <td id=\"T_449a7_row5_col5\" class=\"data row5 col5\" >SET50</td>\n",
       "    </tr>\n",
       "  </tbody>\n",
       "</table>\n"
      ],
      "text/plain": [
       "<pandas.io.formats.style.Styler at 0x189072f8640>"
      ]
     },
     "execution_count": 17,
     "metadata": {},
     "output_type": "execute_result"
    }
   ],
   "source": [
    "set50 = trend2.mrkt.str.contains('SET50') \n",
    "flt_set50 = trend2[set50]\n",
    "flt_set50[cols].sort_values(by=['percent','name'],ascending=[True,True]).style.format(format_dict)"
   ]
  },
  {
   "cell_type": "code",
   "execution_count": 18,
   "metadata": {},
   "outputs": [
    {
     "data": {
      "text/html": [
       "<style type=\"text/css\">\n",
       "</style>\n",
       "<table id=\"T_ff37c_\">\n",
       "  <thead>\n",
       "    <tr>\n",
       "      <th class=\"blank level0\" >&nbsp;</th>\n",
       "      <th class=\"col_heading level0 col0\" >perform</th>\n",
       "    </tr>\n",
       "  </thead>\n",
       "  <tbody>\n",
       "    <tr>\n",
       "      <th id=\"T_ff37c_level0_row0\" class=\"row_heading level0 row0\" >Better</th>\n",
       "      <td id=\"T_ff37c_row0_col0\" class=\"data row0 col0\" >50.00%</td>\n",
       "    </tr>\n",
       "    <tr>\n",
       "      <th id=\"T_ff37c_level0_row1\" class=\"row_heading level0 row1\" >Worse</th>\n",
       "      <td id=\"T_ff37c_row1_col0\" class=\"data row1 col0\" >33.33%</td>\n",
       "    </tr>\n",
       "    <tr>\n",
       "      <th id=\"T_ff37c_level0_row2\" class=\"row_heading level0 row2\" >No Change</th>\n",
       "      <td id=\"T_ff37c_row2_col0\" class=\"data row2 col0\" >16.67%</td>\n",
       "    </tr>\n",
       "  </tbody>\n",
       "</table>\n"
      ],
      "text/plain": [
       "<pandas.io.formats.style.Styler at 0x18907369370>"
      ]
     },
     "execution_count": 18,
     "metadata": {},
     "output_type": "execute_result"
    }
   ],
   "source": [
    "flt_set50.perform.value_counts(normalize=True).to_frame().style.format('{:.2%}')"
   ]
  },
  {
   "cell_type": "code",
   "execution_count": 19,
   "metadata": {
    "scrolled": true
   },
   "outputs": [
    {
     "data": {
      "text/html": [
       "<style type=\"text/css\">\n",
       "</style>\n",
       "<table id=\"T_6666d_\">\n",
       "  <thead>\n",
       "    <tr>\n",
       "      <th class=\"blank level0\" >&nbsp;</th>\n",
       "      <th class=\"col_heading level0 col0\" >name</th>\n",
       "      <th class=\"col_heading level0 col1\" >price_d</th>\n",
       "      <th class=\"col_heading level0 col2\" >price_w</th>\n",
       "      <th class=\"col_heading level0 col3\" >percent</th>\n",
       "      <th class=\"col_heading level0 col4\" >perform</th>\n",
       "      <th class=\"col_heading level0 col5\" >mrkt</th>\n",
       "    </tr>\n",
       "  </thead>\n",
       "  <tbody>\n",
       "    <tr>\n",
       "      <th id=\"T_6666d_level0_row0\" class=\"row_heading level0 row0\" >2</th>\n",
       "      <td id=\"T_6666d_row0_col0\" class=\"data row0 col0\" >BCH</td>\n",
       "      <td id=\"T_6666d_row0_col1\" class=\"data row0 col1\" >20.40</td>\n",
       "      <td id=\"T_6666d_row0_col2\" class=\"data row0 col2\" >21.40</td>\n",
       "      <td id=\"T_6666d_row0_col3\" class=\"data row0 col3\" >-4.67%</td>\n",
       "      <td id=\"T_6666d_row0_col4\" class=\"data row0 col4\" >Worse</td>\n",
       "      <td id=\"T_6666d_row0_col5\" class=\"data row0 col5\" >SET100</td>\n",
       "    </tr>\n",
       "    <tr>\n",
       "      <th id=\"T_6666d_level0_row1\" class=\"row_heading level0 row1\" >21</th>\n",
       "      <td id=\"T_6666d_row1_col0\" class=\"data row1 col0\" >SPALI</td>\n",
       "      <td id=\"T_6666d_row1_col1\" class=\"data row1 col1\" >21.70</td>\n",
       "      <td id=\"T_6666d_row1_col2\" class=\"data row1 col2\" >22.00</td>\n",
       "      <td id=\"T_6666d_row1_col3\" class=\"data row1 col3\" >-1.36%</td>\n",
       "      <td id=\"T_6666d_row1_col4\" class=\"data row1 col4\" >Worse</td>\n",
       "      <td id=\"T_6666d_row1_col5\" class=\"data row1 col5\" >SET100</td>\n",
       "    </tr>\n",
       "    <tr>\n",
       "      <th id=\"T_6666d_level0_row2\" class=\"row_heading level0 row2\" >22</th>\n",
       "      <td id=\"T_6666d_row2_col0\" class=\"data row2 col0\" >STA</td>\n",
       "      <td id=\"T_6666d_row2_col1\" class=\"data row2 col1\" >26.50</td>\n",
       "      <td id=\"T_6666d_row2_col2\" class=\"data row2 col2\" >26.75</td>\n",
       "      <td id=\"T_6666d_row2_col3\" class=\"data row2 col3\" >-0.93%</td>\n",
       "      <td id=\"T_6666d_row2_col4\" class=\"data row2 col4\" >Worse</td>\n",
       "      <td id=\"T_6666d_row2_col5\" class=\"data row2 col5\" >SET100</td>\n",
       "    </tr>\n",
       "    <tr>\n",
       "      <th id=\"T_6666d_level0_row3\" class=\"row_heading level0 row3\" >5</th>\n",
       "      <td id=\"T_6666d_row3_col0\" class=\"data row3 col0\" >DOHOME</td>\n",
       "      <td id=\"T_6666d_row3_col1\" class=\"data row3 col1\" >21.40</td>\n",
       "      <td id=\"T_6666d_row3_col2\" class=\"data row3 col2\" >21.30</td>\n",
       "      <td id=\"T_6666d_row3_col3\" class=\"data row3 col3\" >0.47%</td>\n",
       "      <td id=\"T_6666d_row3_col4\" class=\"data row3 col4\" >Better</td>\n",
       "      <td id=\"T_6666d_row3_col5\" class=\"data row3 col5\" >SET100</td>\n",
       "    </tr>\n",
       "    <tr>\n",
       "      <th id=\"T_6666d_level0_row4\" class=\"row_heading level0 row4\" >16</th>\n",
       "      <td id=\"T_6666d_row4_col0\" class=\"data row4 col0\" >RCL</td>\n",
       "      <td id=\"T_6666d_row4_col1\" class=\"data row4 col1\" >44.00</td>\n",
       "      <td id=\"T_6666d_row4_col2\" class=\"data row4 col2\" >43.75</td>\n",
       "      <td id=\"T_6666d_row4_col3\" class=\"data row4 col3\" >0.57%</td>\n",
       "      <td id=\"T_6666d_row4_col4\" class=\"data row4 col4\" >Better</td>\n",
       "      <td id=\"T_6666d_row4_col5\" class=\"data row4 col5\" >SET100</td>\n",
       "    </tr>\n",
       "    <tr>\n",
       "      <th id=\"T_6666d_level0_row5\" class=\"row_heading level0 row5\" >23</th>\n",
       "      <td id=\"T_6666d_row5_col0\" class=\"data row5 col0\" >SYNEX</td>\n",
       "      <td id=\"T_6666d_row5_col1\" class=\"data row5 col1\" >26.50</td>\n",
       "      <td id=\"T_6666d_row5_col2\" class=\"data row5 col2\" >26.00</td>\n",
       "      <td id=\"T_6666d_row5_col3\" class=\"data row5 col3\" >1.92%</td>\n",
       "      <td id=\"T_6666d_row5_col4\" class=\"data row5 col4\" >Better</td>\n",
       "      <td id=\"T_6666d_row5_col5\" class=\"data row5 col5\" >SET100</td>\n",
       "    </tr>\n",
       "  </tbody>\n",
       "</table>\n"
      ],
      "text/plain": [
       "<pandas.io.formats.style.Styler at 0x189072f84c0>"
      ]
     },
     "execution_count": 19,
     "metadata": {},
     "output_type": "execute_result"
    }
   ],
   "source": [
    "set100 = trend2.mrkt.str.contains('SET100')\n",
    "flt_set100 = trend2[set100]\n",
    "flt_set100[cols].sort_values(by=['percent','name'],ascending=[True,True]).style.format(format_dict)"
   ]
  },
  {
   "cell_type": "code",
   "execution_count": 20,
   "metadata": {},
   "outputs": [
    {
     "data": {
      "text/html": [
       "<style type=\"text/css\">\n",
       "</style>\n",
       "<table id=\"T_fbf41_\">\n",
       "  <thead>\n",
       "    <tr>\n",
       "      <th class=\"blank level0\" >&nbsp;</th>\n",
       "      <th class=\"col_heading level0 col0\" >perform</th>\n",
       "    </tr>\n",
       "  </thead>\n",
       "  <tbody>\n",
       "    <tr>\n",
       "      <th id=\"T_fbf41_level0_row0\" class=\"row_heading level0 row0\" >Worse</th>\n",
       "      <td id=\"T_fbf41_row0_col0\" class=\"data row0 col0\" >50.00%</td>\n",
       "    </tr>\n",
       "    <tr>\n",
       "      <th id=\"T_fbf41_level0_row1\" class=\"row_heading level0 row1\" >Better</th>\n",
       "      <td id=\"T_fbf41_row1_col0\" class=\"data row1 col0\" >50.00%</td>\n",
       "    </tr>\n",
       "  </tbody>\n",
       "</table>\n"
      ],
      "text/plain": [
       "<pandas.io.formats.style.Styler at 0x18907376ca0>"
      ]
     },
     "execution_count": 20,
     "metadata": {},
     "output_type": "execute_result"
    }
   ],
   "source": [
    "flt_set100[cols].perform.value_counts(normalize=True).to_frame().style.format('{:.2%}')"
   ]
  },
  {
   "cell_type": "code",
   "execution_count": 21,
   "metadata": {},
   "outputs": [
    {
     "data": {
      "text/html": [
       "<style type=\"text/css\">\n",
       "</style>\n",
       "<table id=\"T_8ec3d_\">\n",
       "  <thead>\n",
       "    <tr>\n",
       "      <th class=\"blank level0\" >&nbsp;</th>\n",
       "      <th class=\"col_heading level0 col0\" >name</th>\n",
       "      <th class=\"col_heading level0 col1\" >price_d</th>\n",
       "      <th class=\"col_heading level0 col2\" >price_w</th>\n",
       "      <th class=\"col_heading level0 col3\" >percent</th>\n",
       "      <th class=\"col_heading level0 col4\" >perform</th>\n",
       "      <th class=\"col_heading level0 col5\" >mrkt</th>\n",
       "    </tr>\n",
       "  </thead>\n",
       "  <tbody>\n",
       "    <tr>\n",
       "      <th id=\"T_8ec3d_level0_row0\" class=\"row_heading level0 row0\" >27</th>\n",
       "      <td id=\"T_8ec3d_row0_col0\" class=\"data row0 col0\" >WHART</td>\n",
       "      <td id=\"T_8ec3d_row0_col1\" class=\"data row0 col1\" >11.10</td>\n",
       "      <td id=\"T_8ec3d_row0_col2\" class=\"data row0 col2\" >11.40</td>\n",
       "      <td id=\"T_8ec3d_row0_col3\" class=\"data row0 col3\" >-2.63%</td>\n",
       "      <td id=\"T_8ec3d_row0_col4\" class=\"data row0 col4\" >Worse</td>\n",
       "      <td id=\"T_8ec3d_row0_col5\" class=\"data row0 col5\" >SET999</td>\n",
       "    </tr>\n",
       "    <tr>\n",
       "      <th id=\"T_8ec3d_level0_row1\" class=\"row_heading level0 row1\" >11</th>\n",
       "      <td id=\"T_8ec3d_row1_col0\" class=\"data row1 col0\" >MCS</td>\n",
       "      <td id=\"T_8ec3d_row1_col1\" class=\"data row1 col1\" >13.70</td>\n",
       "      <td id=\"T_8ec3d_row1_col2\" class=\"data row1 col2\" >13.90</td>\n",
       "      <td id=\"T_8ec3d_row1_col3\" class=\"data row1 col3\" >-1.44%</td>\n",
       "      <td id=\"T_8ec3d_row1_col4\" class=\"data row1 col4\" >Worse</td>\n",
       "      <td id=\"T_8ec3d_row1_col5\" class=\"data row1 col5\" >SET999</td>\n",
       "    </tr>\n",
       "    <tr>\n",
       "      <th id=\"T_8ec3d_level0_row2\" class=\"row_heading level0 row2\" >26</th>\n",
       "      <td id=\"T_8ec3d_row2_col0\" class=\"data row2 col0\" >TPIPL</td>\n",
       "      <td id=\"T_8ec3d_row2_col1\" class=\"data row2 col1\" >1.62</td>\n",
       "      <td id=\"T_8ec3d_row2_col2\" class=\"data row2 col2\" >1.64</td>\n",
       "      <td id=\"T_8ec3d_row2_col3\" class=\"data row2 col3\" >-1.22%</td>\n",
       "      <td id=\"T_8ec3d_row2_col4\" class=\"data row2 col4\" >Worse</td>\n",
       "      <td id=\"T_8ec3d_row2_col5\" class=\"data row2 col5\" >SET999</td>\n",
       "    </tr>\n",
       "    <tr>\n",
       "      <th id=\"T_8ec3d_level0_row3\" class=\"row_heading level0 row3\" >8</th>\n",
       "      <td id=\"T_8ec3d_row3_col0\" class=\"data row3 col0\" >JASIF</td>\n",
       "      <td id=\"T_8ec3d_row3_col1\" class=\"data row3 col1\" >10.90</td>\n",
       "      <td id=\"T_8ec3d_row3_col2\" class=\"data row3 col2\" >11.00</td>\n",
       "      <td id=\"T_8ec3d_row3_col3\" class=\"data row3 col3\" >-0.91%</td>\n",
       "      <td id=\"T_8ec3d_row3_col4\" class=\"data row3 col4\" >Worse</td>\n",
       "      <td id=\"T_8ec3d_row3_col5\" class=\"data row3 col5\" >SET999</td>\n",
       "    </tr>\n",
       "    <tr>\n",
       "      <th id=\"T_8ec3d_level0_row4\" class=\"row_heading level0 row4\" >3</th>\n",
       "      <td id=\"T_8ec3d_row4_col0\" class=\"data row4 col0\" >CPNCG</td>\n",
       "      <td id=\"T_8ec3d_row4_col1\" class=\"data row4 col1\" >12.20</td>\n",
       "      <td id=\"T_8ec3d_row4_col2\" class=\"data row4 col2\" >12.30</td>\n",
       "      <td id=\"T_8ec3d_row4_col3\" class=\"data row4 col3\" >-0.81%</td>\n",
       "      <td id=\"T_8ec3d_row4_col4\" class=\"data row4 col4\" >Worse</td>\n",
       "      <td id=\"T_8ec3d_row4_col5\" class=\"data row4 col5\" >SET999</td>\n",
       "    </tr>\n",
       "    <tr>\n",
       "      <th id=\"T_8ec3d_level0_row5\" class=\"row_heading level0 row5\" >1</th>\n",
       "      <td id=\"T_8ec3d_row5_col0\" class=\"data row5 col0\" >ASP</td>\n",
       "      <td id=\"T_8ec3d_row5_col1\" class=\"data row5 col1\" >3.44</td>\n",
       "      <td id=\"T_8ec3d_row5_col2\" class=\"data row5 col2\" >3.46</td>\n",
       "      <td id=\"T_8ec3d_row5_col3\" class=\"data row5 col3\" >-0.58%</td>\n",
       "      <td id=\"T_8ec3d_row5_col4\" class=\"data row5 col4\" >Worse</td>\n",
       "      <td id=\"T_8ec3d_row5_col5\" class=\"data row5 col5\" >SET999</td>\n",
       "    </tr>\n",
       "    <tr>\n",
       "      <th id=\"T_8ec3d_level0_row6\" class=\"row_heading level0 row6\" >4</th>\n",
       "      <td id=\"T_8ec3d_row6_col0\" class=\"data row6 col0\" >DIF</td>\n",
       "      <td id=\"T_8ec3d_row6_col1\" class=\"data row6 col1\" >14.20</td>\n",
       "      <td id=\"T_8ec3d_row6_col2\" class=\"data row6 col2\" >14.20</td>\n",
       "      <td id=\"T_8ec3d_row6_col3\" class=\"data row6 col3\" >0.00%</td>\n",
       "      <td id=\"T_8ec3d_row6_col4\" class=\"data row6 col4\" >No Change</td>\n",
       "      <td id=\"T_8ec3d_row6_col5\" class=\"data row6 col5\" >SET999</td>\n",
       "    </tr>\n",
       "    <tr>\n",
       "      <th id=\"T_8ec3d_level0_row7\" class=\"row_heading level0 row7\" >6</th>\n",
       "      <td id=\"T_8ec3d_row7_col0\" class=\"data row7 col0\" >HREIT</td>\n",
       "      <td id=\"T_8ec3d_row7_col1\" class=\"data row7 col1\" >8.65</td>\n",
       "      <td id=\"T_8ec3d_row7_col2\" class=\"data row7 col2\" >8.65</td>\n",
       "      <td id=\"T_8ec3d_row7_col3\" class=\"data row7 col3\" >0.00%</td>\n",
       "      <td id=\"T_8ec3d_row7_col4\" class=\"data row7 col4\" >No Change</td>\n",
       "      <td id=\"T_8ec3d_row7_col5\" class=\"data row7 col5\" >SET999</td>\n",
       "    </tr>\n",
       "    <tr>\n",
       "      <th id=\"T_8ec3d_level0_row8\" class=\"row_heading level0 row8\" >17</th>\n",
       "      <td id=\"T_8ec3d_row8_col0\" class=\"data row8 col0\" >RJH</td>\n",
       "      <td id=\"T_8ec3d_row8_col1\" class=\"data row8 col1\" >32.00</td>\n",
       "      <td id=\"T_8ec3d_row8_col2\" class=\"data row8 col2\" >32.00</td>\n",
       "      <td id=\"T_8ec3d_row8_col3\" class=\"data row8 col3\" >0.00%</td>\n",
       "      <td id=\"T_8ec3d_row8_col4\" class=\"data row8 col4\" >No Change</td>\n",
       "      <td id=\"T_8ec3d_row8_col5\" class=\"data row8 col5\" >SET999</td>\n",
       "    </tr>\n",
       "    <tr>\n",
       "      <th id=\"T_8ec3d_level0_row9\" class=\"row_heading level0 row9\" >19</th>\n",
       "      <td id=\"T_8ec3d_row9_col0\" class=\"data row9 col0\" >SCCC</td>\n",
       "      <td id=\"T_8ec3d_row9_col1\" class=\"data row9 col1\" >154.50</td>\n",
       "      <td id=\"T_8ec3d_row9_col2\" class=\"data row9 col2\" >153.50</td>\n",
       "      <td id=\"T_8ec3d_row9_col3\" class=\"data row9 col3\" >0.65%</td>\n",
       "      <td id=\"T_8ec3d_row9_col4\" class=\"data row9 col4\" >Better</td>\n",
       "      <td id=\"T_8ec3d_row9_col5\" class=\"data row9 col5\" >SET999</td>\n",
       "    </tr>\n",
       "    <tr>\n",
       "      <th id=\"T_8ec3d_level0_row10\" class=\"row_heading level0 row10\" >12</th>\n",
       "      <td id=\"T_8ec3d_row10_col0\" class=\"data row10 col0\" >NER</td>\n",
       "      <td id=\"T_8ec3d_row10_col1\" class=\"data row10 col1\" >7.15</td>\n",
       "      <td id=\"T_8ec3d_row10_col2\" class=\"data row10 col2\" >7.10</td>\n",
       "      <td id=\"T_8ec3d_row10_col3\" class=\"data row10 col3\" >0.70%</td>\n",
       "      <td id=\"T_8ec3d_row10_col4\" class=\"data row10 col4\" >Better</td>\n",
       "      <td id=\"T_8ec3d_row10_col5\" class=\"data row10 col5\" >SET999</td>\n",
       "    </tr>\n",
       "    <tr>\n",
       "      <th id=\"T_8ec3d_level0_row11\" class=\"row_heading level0 row11\" >0</th>\n",
       "      <td id=\"T_8ec3d_row11_col0\" class=\"data row11 col0\" >AIMIRT</td>\n",
       "      <td id=\"T_8ec3d_row11_col1\" class=\"data row11 col1\" >12.90</td>\n",
       "      <td id=\"T_8ec3d_row11_col2\" class=\"data row11 col2\" >12.80</td>\n",
       "      <td id=\"T_8ec3d_row11_col3\" class=\"data row11 col3\" >0.78%</td>\n",
       "      <td id=\"T_8ec3d_row11_col4\" class=\"data row11 col4\" >Better</td>\n",
       "      <td id=\"T_8ec3d_row11_col5\" class=\"data row11 col5\" >SET999</td>\n",
       "    </tr>\n",
       "    <tr>\n",
       "      <th id=\"T_8ec3d_level0_row12\" class=\"row_heading level0 row12\" >25</th>\n",
       "      <td id=\"T_8ec3d_row12_col0\" class=\"data row12 col0\" >TMT</td>\n",
       "      <td id=\"T_8ec3d_row12_col1\" class=\"data row12 col1\" >11.50</td>\n",
       "      <td id=\"T_8ec3d_row12_col2\" class=\"data row12 col2\" >11.40</td>\n",
       "      <td id=\"T_8ec3d_row12_col3\" class=\"data row12 col3\" >0.88%</td>\n",
       "      <td id=\"T_8ec3d_row12_col4\" class=\"data row12 col4\" >Better</td>\n",
       "      <td id=\"T_8ec3d_row12_col5\" class=\"data row12 col5\" >SET999</td>\n",
       "    </tr>\n",
       "    <tr>\n",
       "      <th id=\"T_8ec3d_level0_row13\" class=\"row_heading level0 row13\" >10</th>\n",
       "      <td id=\"T_8ec3d_row13_col0\" class=\"data row13 col0\" >MAKRO</td>\n",
       "      <td id=\"T_8ec3d_row13_col1\" class=\"data row13 col1\" >40.00</td>\n",
       "      <td id=\"T_8ec3d_row13_col2\" class=\"data row13 col2\" >39.50</td>\n",
       "      <td id=\"T_8ec3d_row13_col3\" class=\"data row13 col3\" >1.27%</td>\n",
       "      <td id=\"T_8ec3d_row13_col4\" class=\"data row13 col4\" >Better</td>\n",
       "      <td id=\"T_8ec3d_row13_col5\" class=\"data row13 col5\" >SET999</td>\n",
       "    </tr>\n",
       "    <tr>\n",
       "      <th id=\"T_8ec3d_level0_row14\" class=\"row_heading level0 row14\" >20</th>\n",
       "      <td id=\"T_8ec3d_row14_col0\" class=\"data row14 col0\" >SENA</td>\n",
       "      <td id=\"T_8ec3d_row14_col1\" class=\"data row14 col1\" >4.88</td>\n",
       "      <td id=\"T_8ec3d_row14_col2\" class=\"data row14 col2\" >4.48</td>\n",
       "      <td id=\"T_8ec3d_row14_col3\" class=\"data row14 col3\" >8.93%</td>\n",
       "      <td id=\"T_8ec3d_row14_col4\" class=\"data row14 col4\" >Better</td>\n",
       "      <td id=\"T_8ec3d_row14_col5\" class=\"data row14 col5\" >SET999</td>\n",
       "    </tr>\n",
       "  </tbody>\n",
       "</table>\n"
      ],
      "text/plain": [
       "<pandas.io.formats.style.Styler at 0x18907369340>"
      ]
     },
     "execution_count": 21,
     "metadata": {},
     "output_type": "execute_result"
    }
   ],
   "source": [
    "set999 = trend2.mrkt.str.contains('SET999')\n",
    "flt_set999 = trend2[set999]\n",
    "flt_set999[cols].sort_values(by=['percent','name'],ascending=[True,True]).style.format(format_dict)"
   ]
  },
  {
   "cell_type": "code",
   "execution_count": 22,
   "metadata": {},
   "outputs": [
    {
     "data": {
      "text/html": [
       "<style type=\"text/css\">\n",
       "</style>\n",
       "<table id=\"T_025f8_\">\n",
       "  <thead>\n",
       "    <tr>\n",
       "      <th class=\"blank level0\" >&nbsp;</th>\n",
       "      <th class=\"col_heading level0 col0\" >perform</th>\n",
       "    </tr>\n",
       "  </thead>\n",
       "  <tbody>\n",
       "    <tr>\n",
       "      <th id=\"T_025f8_level0_row0\" class=\"row_heading level0 row0\" >Better</th>\n",
       "      <td id=\"T_025f8_row0_col0\" class=\"data row0 col0\" >40.00%</td>\n",
       "    </tr>\n",
       "    <tr>\n",
       "      <th id=\"T_025f8_level0_row1\" class=\"row_heading level0 row1\" >Worse</th>\n",
       "      <td id=\"T_025f8_row1_col0\" class=\"data row1 col0\" >40.00%</td>\n",
       "    </tr>\n",
       "    <tr>\n",
       "      <th id=\"T_025f8_level0_row2\" class=\"row_heading level0 row2\" >No Change</th>\n",
       "      <td id=\"T_025f8_row2_col0\" class=\"data row2 col0\" >20.00%</td>\n",
       "    </tr>\n",
       "  </tbody>\n",
       "</table>\n"
      ],
      "text/plain": [
       "<pandas.io.formats.style.Styler at 0x1890737b8b0>"
      ]
     },
     "execution_count": 22,
     "metadata": {},
     "output_type": "execute_result"
    }
   ],
   "source": [
    "flt_set999[cols].perform.value_counts(normalize=True).to_frame().style.format('{:.2%}')"
   ]
  },
  {
   "cell_type": "code",
   "execution_count": 23,
   "metadata": {},
   "outputs": [
    {
     "data": {
      "text/html": [
       "<style type=\"text/css\">\n",
       "</style>\n",
       "<table id=\"T_8d623_\">\n",
       "  <thead>\n",
       "    <tr>\n",
       "      <th class=\"blank level0\" >&nbsp;</th>\n",
       "      <th class=\"col_heading level0 col0\" >name</th>\n",
       "      <th class=\"col_heading level0 col1\" >price_d</th>\n",
       "      <th class=\"col_heading level0 col2\" >price_w</th>\n",
       "      <th class=\"col_heading level0 col3\" >percent</th>\n",
       "      <th class=\"col_heading level0 col4\" >perform</th>\n",
       "      <th class=\"col_heading level0 col5\" >mrkt</th>\n",
       "    </tr>\n",
       "  </thead>\n",
       "  <tbody>\n",
       "    <tr>\n",
       "      <th id=\"T_8d623_level0_row0\" class=\"row_heading level0 row0\" >7</th>\n",
       "      <td id=\"T_8d623_row0_col0\" class=\"data row0 col0\" >IP</td>\n",
       "      <td id=\"T_8d623_row0_col1\" class=\"data row0 col1\" >19.80</td>\n",
       "      <td id=\"T_8d623_row0_col2\" class=\"data row0 col2\" >19.00</td>\n",
       "      <td id=\"T_8d623_row0_col3\" class=\"data row0 col3\" >4.21%</td>\n",
       "      <td id=\"T_8d623_row0_col4\" class=\"data row0 col4\" >Better</td>\n",
       "      <td id=\"T_8d623_row0_col5\" class=\"data row0 col5\" >mai</td>\n",
       "    </tr>\n",
       "  </tbody>\n",
       "</table>\n"
      ],
      "text/plain": [
       "<pandas.io.formats.style.Styler at 0x18907380490>"
      ]
     },
     "execution_count": 23,
     "metadata": {},
     "output_type": "execute_result"
    }
   ],
   "source": [
    "setmai = trend2.mrkt.str.contains('mai')\n",
    "flt_setmai = trend2[setmai]\n",
    "flt_setmai[cols].sort_values(by=['percent','name'],ascending=[True,True]).style.format(format_dict)"
   ]
  },
  {
   "cell_type": "code",
   "execution_count": 24,
   "metadata": {},
   "outputs": [
    {
     "data": {
      "text/html": [
       "<style type=\"text/css\">\n",
       "</style>\n",
       "<table id=\"T_095fe_\">\n",
       "  <thead>\n",
       "    <tr>\n",
       "      <th class=\"blank level0\" >&nbsp;</th>\n",
       "      <th class=\"col_heading level0 col0\" >perform</th>\n",
       "    </tr>\n",
       "  </thead>\n",
       "  <tbody>\n",
       "    <tr>\n",
       "      <th id=\"T_095fe_level0_row0\" class=\"row_heading level0 row0\" >Better</th>\n",
       "      <td id=\"T_095fe_row0_col0\" class=\"data row0 col0\" >100.00%</td>\n",
       "    </tr>\n",
       "  </tbody>\n",
       "</table>\n"
      ],
      "text/plain": [
       "<pandas.io.formats.style.Styler at 0x18907376760>"
      ]
     },
     "execution_count": 24,
     "metadata": {},
     "output_type": "execute_result"
    }
   ],
   "source": [
    "flt_setmai[cols].perform.value_counts(normalize=True).to_frame().style.format('{:.2%}')"
   ]
  },
  {
   "cell_type": "code",
   "execution_count": null,
   "metadata": {},
   "outputs": [],
   "source": []
  }
 ],
 "metadata": {
  "anaconda-cloud": {},
  "kernelspec": {
   "display_name": "Python 3 (ipykernel)",
   "language": "python",
   "name": "python3"
  },
  "language_info": {
   "codemirror_mode": {
    "name": "ipython",
    "version": 3
   },
   "file_extension": ".py",
   "mimetype": "text/x-python",
   "name": "python",
   "nbconvert_exporter": "python",
   "pygments_lexer": "ipython3",
   "version": "3.8.11"
  }
 },
 "nbformat": 4,
 "nbformat_minor": 1
}
