{
 "cells": [
  {
   "cell_type": "code",
   "execution_count": 1,
   "metadata": {},
   "outputs": [
    {
     "data": {
      "text/plain": [
       "(datetime.date(2021, 12, 25), datetime.date(2021, 12, 24))"
      ]
     },
     "execution_count": 1,
     "metadata": {},
     "output_type": "execute_result"
    }
   ],
   "source": [
    "import calendar\n",
    "import pandas as pd\n",
    "from datetime import date, timedelta\n",
    "from sqlalchemy import create_engine\n",
    "\n",
    "engine = create_engine(\"sqlite:///c:\\\\ruby\\\\port_lite\\\\db\\\\development.sqlite3\")\n",
    "conlite = engine.connect()\n",
    "\n",
    "engine = create_engine(\"mysql+pymysql://root:@localhost:3306/stock\")\n",
    "const = engine.connect()\n",
    "\n",
    "pd.set_option('display.max_row',None)\n",
    "\n",
    "data_path = \"../data/\"\n",
    "csv_path = \"\\\\Users\\\\User\\\\iCloudDrive\\\\\"\n",
    "box_path = \"\\\\Users\\\\User\\\\Dropbox\\\\\"\n",
    "\n",
    "today = date.today()\n",
    "yesterday = today - timedelta(days=1)\n",
    "today, yesterday"
   ]
  },
  {
   "cell_type": "code",
   "execution_count": 2,
   "metadata": {},
   "outputs": [
    {
     "data": {
      "text/plain": [
       "(datetime.date(2021, 12, 24), datetime.date(2021, 12, 17))"
      ]
     },
     "execution_count": 2,
     "metadata": {},
     "output_type": "execute_result"
    }
   ],
   "source": [
    "today = today - timedelta(days=1)\n",
    "wkago = today - timedelta(days=7)\n",
    "#wkago = date(2020, 12, 30)\n",
    "today, wkago"
   ]
  },
  {
   "cell_type": "markdown",
   "metadata": {},
   "source": [
    "### Restart and Run All Cells"
   ]
  },
  {
   "cell_type": "markdown",
   "metadata": {},
   "source": [
    "### Weekly process or when stataus changes."
   ]
  },
  {
   "cell_type": "code",
   "execution_count": 3,
   "metadata": {},
   "outputs": [
    {
     "data": {
      "text/plain": [
       "0"
      ]
     },
     "execution_count": 3,
     "metadata": {},
     "output_type": "execute_result"
    }
   ],
   "source": [
    "sql = \"\"\"DELETE FROM sales\"\"\"\n",
    "rp = conlite.execute(sql)\n",
    "rp.rowcount"
   ]
  },
  {
   "cell_type": "code",
   "execution_count": 4,
   "metadata": {},
   "outputs": [
    {
     "data": {
      "text/plain": [
       "\"'DOHOME', 'GLOBAL', 'NOBLE', 'PTT', 'RATCH', 'SIS', 'STA', 'BGRIM', 'CKP', 'DCC', 'DIF', 'IVL', 'KBANK', 'KCE', 'NER', 'RCL', 'RJH', 'SAT', 'TOP', 'TSTH', 'TU', 'VNT', 'ROJNA', 'SYNEX', 'TCAP'\""
      ]
     },
     "execution_count": 4,
     "metadata": {},
     "output_type": "execute_result"
    }
   ],
   "source": [
    "sql = \"\"\"\n",
    "SELECT name\n",
    "FROM stocks \n",
    "WHERE status IN (\"B\",\"I\",\"O\",\"S\") \n",
    "ORDER BY status, name\n",
    "\"\"\"\n",
    "df = pd.read_sql(sql, conlite)\n",
    "\n",
    "names = df['name'].values.tolist()\n",
    "in_p = \", \".join(map(lambda name: \"'%s'\" % name, names))\n",
    "in_p"
   ]
  },
  {
   "cell_type": "markdown",
   "metadata": {},
   "source": [
    "### Get past one year data"
   ]
  },
  {
   "cell_type": "code",
   "execution_count": 5,
   "metadata": {},
   "outputs": [
    {
     "name": "stdout",
     "output_type": "stream",
     "text": [
      "\n",
      "SELECT * \n",
      "FROM price \n",
      "WHERE date >= '2020-12-24' AND name IN ('DOHOME', 'GLOBAL', 'NOBLE', 'PTT', 'RATCH', 'SIS', 'STA', 'BGRIM', 'CKP', 'DCC', 'DIF', 'IVL', 'KBANK', 'KCE', 'NER', 'RCL', 'RJH', 'SAT', 'TOP', 'TSTH', 'TU', 'VNT', 'ROJNA', 'SYNEX', 'TCAP') \n",
      "ORDER BY name, date\n"
     ]
    }
   ],
   "source": [
    "data_path = \"../data/\"\n",
    "file_name = \"Yearly-Price-by-Name.csv\"\n",
    "output_file = data_path + file_name\n",
    "\n",
    "one_year_ago = yesterday - timedelta(days=365)\n",
    "one_year_ago\n",
    "\n",
    "sql = \"\"\"\n",
    "SELECT * \n",
    "FROM price \n",
    "WHERE date >= '%s' AND name IN (%s) \n",
    "ORDER BY name, date\"\"\"\n",
    "sql = sql % (one_year_ago, in_p)\n",
    "print(sql)"
   ]
  },
  {
   "cell_type": "code",
   "execution_count": 6,
   "metadata": {},
   "outputs": [
    {
     "data": {
      "text/plain": [
       "(6046, 7)"
      ]
     },
     "execution_count": 6,
     "metadata": {},
     "output_type": "execute_result"
    }
   ],
   "source": [
    "df = pd.read_sql(sql, const)\n",
    "df.shape"
   ]
  },
  {
   "cell_type": "code",
   "execution_count": 7,
   "metadata": {},
   "outputs": [],
   "source": [
    "df.set_index(\"name\", inplace=True)\n",
    "df.to_csv(output_file, header=None)"
   ]
  },
  {
   "cell_type": "code",
   "execution_count": 8,
   "metadata": {
    "scrolled": false
   },
   "outputs": [
    {
     "data": {
      "text/html": [
       "<div>\n",
       "<style scoped>\n",
       "    .dataframe tbody tr th:only-of-type {\n",
       "        vertical-align: middle;\n",
       "    }\n",
       "\n",
       "    .dataframe tbody tr th {\n",
       "        vertical-align: top;\n",
       "    }\n",
       "\n",
       "    .dataframe thead th {\n",
       "        text-align: right;\n",
       "    }\n",
       "</style>\n",
       "<table border=\"1\" class=\"dataframe\">\n",
       "  <thead>\n",
       "    <tr style=\"text-align: right;\">\n",
       "      <th></th>\n",
       "      <th>status</th>\n",
       "    </tr>\n",
       "    <tr>\n",
       "      <th>name</th>\n",
       "      <th></th>\n",
       "    </tr>\n",
       "  </thead>\n",
       "  <tbody>\n",
       "    <tr>\n",
       "      <th>BGRIM</th>\n",
       "      <td>I</td>\n",
       "    </tr>\n",
       "    <tr>\n",
       "      <th>CKP</th>\n",
       "      <td>I</td>\n",
       "    </tr>\n",
       "    <tr>\n",
       "      <th>DCC</th>\n",
       "      <td>I</td>\n",
       "    </tr>\n",
       "    <tr>\n",
       "      <th>DIF</th>\n",
       "      <td>I</td>\n",
       "    </tr>\n",
       "    <tr>\n",
       "      <th>DOHOME</th>\n",
       "      <td>B</td>\n",
       "    </tr>\n",
       "    <tr>\n",
       "      <th>GLOBAL</th>\n",
       "      <td>B</td>\n",
       "    </tr>\n",
       "    <tr>\n",
       "      <th>IVL</th>\n",
       "      <td>I</td>\n",
       "    </tr>\n",
       "    <tr>\n",
       "      <th>KBANK</th>\n",
       "      <td>I</td>\n",
       "    </tr>\n",
       "    <tr>\n",
       "      <th>KCE</th>\n",
       "      <td>I</td>\n",
       "    </tr>\n",
       "    <tr>\n",
       "      <th>NER</th>\n",
       "      <td>I</td>\n",
       "    </tr>\n",
       "    <tr>\n",
       "      <th>NOBLE</th>\n",
       "      <td>B</td>\n",
       "    </tr>\n",
       "    <tr>\n",
       "      <th>PTT</th>\n",
       "      <td>B</td>\n",
       "    </tr>\n",
       "    <tr>\n",
       "      <th>RATCH</th>\n",
       "      <td>B</td>\n",
       "    </tr>\n",
       "    <tr>\n",
       "      <th>RCL</th>\n",
       "      <td>I</td>\n",
       "    </tr>\n",
       "    <tr>\n",
       "      <th>RJH</th>\n",
       "      <td>I</td>\n",
       "    </tr>\n",
       "    <tr>\n",
       "      <th>ROJNA</th>\n",
       "      <td>O</td>\n",
       "    </tr>\n",
       "    <tr>\n",
       "      <th>SAT</th>\n",
       "      <td>I</td>\n",
       "    </tr>\n",
       "    <tr>\n",
       "      <th>SIS</th>\n",
       "      <td>B</td>\n",
       "    </tr>\n",
       "    <tr>\n",
       "      <th>STA</th>\n",
       "      <td>B</td>\n",
       "    </tr>\n",
       "    <tr>\n",
       "      <th>SYNEX</th>\n",
       "      <td>O</td>\n",
       "    </tr>\n",
       "    <tr>\n",
       "      <th>TCAP</th>\n",
       "      <td>O</td>\n",
       "    </tr>\n",
       "    <tr>\n",
       "      <th>TOP</th>\n",
       "      <td>I</td>\n",
       "    </tr>\n",
       "    <tr>\n",
       "      <th>TSTH</th>\n",
       "      <td>I</td>\n",
       "    </tr>\n",
       "    <tr>\n",
       "      <th>TU</th>\n",
       "      <td>I</td>\n",
       "    </tr>\n",
       "    <tr>\n",
       "      <th>VNT</th>\n",
       "      <td>I</td>\n",
       "    </tr>\n",
       "  </tbody>\n",
       "</table>\n",
       "</div>"
      ],
      "text/plain": [
       "       status\n",
       "name         \n",
       "BGRIM       I\n",
       "CKP         I\n",
       "DCC         I\n",
       "DIF         I\n",
       "DOHOME      B\n",
       "GLOBAL      B\n",
       "IVL         I\n",
       "KBANK       I\n",
       "KCE         I\n",
       "NER         I\n",
       "NOBLE       B\n",
       "PTT         B\n",
       "RATCH       B\n",
       "RCL         I\n",
       "RJH         I\n",
       "ROJNA       O\n",
       "SAT         I\n",
       "SIS         B\n",
       "STA         B\n",
       "SYNEX       O\n",
       "TCAP        O\n",
       "TOP         I\n",
       "TSTH        I\n",
       "TU          I\n",
       "VNT         I"
      ]
     },
     "execution_count": 8,
     "metadata": {},
     "output_type": "execute_result"
    }
   ],
   "source": [
    "sql = \"\"\"\n",
    "SELECT name,status \n",
    "FROM stocks \n",
    "WHERE name IN (%s)\n",
    "ORDER BY name\n",
    "\"\"\"\n",
    "sql = sql % in_p\n",
    "stocks = pd.read_sql(sql, conlite)\n",
    "stocks.set_index(['name'],inplace=True)\n",
    "stocks"
   ]
  },
  {
   "cell_type": "markdown",
   "metadata": {},
   "source": [
    "### Create monitors from stocks"
   ]
  },
  {
   "cell_type": "code",
   "execution_count": 9,
   "metadata": {},
   "outputs": [
    {
     "data": {
      "text/html": [
       "<div>\n",
       "<style scoped>\n",
       "    .dataframe tbody tr th:only-of-type {\n",
       "        vertical-align: middle;\n",
       "    }\n",
       "\n",
       "    .dataframe tbody tr th {\n",
       "        vertical-align: top;\n",
       "    }\n",
       "\n",
       "    .dataframe thead th {\n",
       "        text-align: right;\n",
       "    }\n",
       "</style>\n",
       "<table border=\"1\" class=\"dataframe\">\n",
       "  <thead>\n",
       "    <tr style=\"text-align: right;\">\n",
       "      <th></th>\n",
       "      <th>status</th>\n",
       "    </tr>\n",
       "    <tr>\n",
       "      <th>name</th>\n",
       "      <th></th>\n",
       "    </tr>\n",
       "  </thead>\n",
       "  <tbody>\n",
       "    <tr>\n",
       "      <th>BGRIM</th>\n",
       "      <td>I</td>\n",
       "    </tr>\n",
       "    <tr>\n",
       "      <th>CKP</th>\n",
       "      <td>I</td>\n",
       "    </tr>\n",
       "    <tr>\n",
       "      <th>DCC</th>\n",
       "      <td>I</td>\n",
       "    </tr>\n",
       "    <tr>\n",
       "      <th>DIF</th>\n",
       "      <td>I</td>\n",
       "    </tr>\n",
       "    <tr>\n",
       "      <th>DOHOME</th>\n",
       "      <td>B</td>\n",
       "    </tr>\n",
       "    <tr>\n",
       "      <th>GLOBAL</th>\n",
       "      <td>B</td>\n",
       "    </tr>\n",
       "    <tr>\n",
       "      <th>IVL</th>\n",
       "      <td>I</td>\n",
       "    </tr>\n",
       "    <tr>\n",
       "      <th>KBANK</th>\n",
       "      <td>I</td>\n",
       "    </tr>\n",
       "    <tr>\n",
       "      <th>KCE</th>\n",
       "      <td>I</td>\n",
       "    </tr>\n",
       "    <tr>\n",
       "      <th>NER</th>\n",
       "      <td>I</td>\n",
       "    </tr>\n",
       "    <tr>\n",
       "      <th>NOBLE</th>\n",
       "      <td>B</td>\n",
       "    </tr>\n",
       "    <tr>\n",
       "      <th>PTT</th>\n",
       "      <td>B</td>\n",
       "    </tr>\n",
       "    <tr>\n",
       "      <th>RATCH</th>\n",
       "      <td>B</td>\n",
       "    </tr>\n",
       "    <tr>\n",
       "      <th>RCL</th>\n",
       "      <td>I</td>\n",
       "    </tr>\n",
       "    <tr>\n",
       "      <th>RJH</th>\n",
       "      <td>I</td>\n",
       "    </tr>\n",
       "    <tr>\n",
       "      <th>ROJNA</th>\n",
       "      <td>O</td>\n",
       "    </tr>\n",
       "    <tr>\n",
       "      <th>SAT</th>\n",
       "      <td>I</td>\n",
       "    </tr>\n",
       "    <tr>\n",
       "      <th>SIS</th>\n",
       "      <td>B</td>\n",
       "    </tr>\n",
       "    <tr>\n",
       "      <th>STA</th>\n",
       "      <td>B</td>\n",
       "    </tr>\n",
       "    <tr>\n",
       "      <th>SYNEX</th>\n",
       "      <td>O</td>\n",
       "    </tr>\n",
       "    <tr>\n",
       "      <th>TCAP</th>\n",
       "      <td>O</td>\n",
       "    </tr>\n",
       "    <tr>\n",
       "      <th>TOP</th>\n",
       "      <td>I</td>\n",
       "    </tr>\n",
       "    <tr>\n",
       "      <th>TSTH</th>\n",
       "      <td>I</td>\n",
       "    </tr>\n",
       "    <tr>\n",
       "      <th>TU</th>\n",
       "      <td>I</td>\n",
       "    </tr>\n",
       "    <tr>\n",
       "      <th>VNT</th>\n",
       "      <td>I</td>\n",
       "    </tr>\n",
       "  </tbody>\n",
       "</table>\n",
       "</div>"
      ],
      "text/plain": [
       "       status\n",
       "name         \n",
       "BGRIM       I\n",
       "CKP         I\n",
       "DCC         I\n",
       "DIF         I\n",
       "DOHOME      B\n",
       "GLOBAL      B\n",
       "IVL         I\n",
       "KBANK       I\n",
       "KCE         I\n",
       "NER         I\n",
       "NOBLE       B\n",
       "PTT         B\n",
       "RATCH       B\n",
       "RCL         I\n",
       "RJH         I\n",
       "ROJNA       O\n",
       "SAT         I\n",
       "SIS         B\n",
       "STA         B\n",
       "SYNEX       O\n",
       "TCAP        O\n",
       "TOP         I\n",
       "TSTH        I\n",
       "TU          I\n",
       "VNT         I"
      ]
     },
     "execution_count": 9,
     "metadata": {},
     "output_type": "execute_result"
    }
   ],
   "source": [
    "sql = \"\"\"\n",
    "SELECT name, status \n",
    "FROM stocks \n",
    "WHERE status IN (\"B\",\"I\",\"O\",\"S\")\n",
    "ORDER BY name\n",
    "\"\"\"\n",
    "monitors = pd.read_sql(sql, conlite)\n",
    "monitors.set_index([\"name\"], inplace=True)\n",
    "monitors"
   ]
  },
  {
   "cell_type": "code",
   "execution_count": 10,
   "metadata": {},
   "outputs": [
    {
     "data": {
      "text/plain": [
       "25"
      ]
     },
     "execution_count": 10,
     "metadata": {},
     "output_type": "execute_result"
    }
   ],
   "source": [
    "monitors.shape[0]"
   ]
  },
  {
   "cell_type": "code",
   "execution_count": 11,
   "metadata": {},
   "outputs": [
    {
     "data": {
      "text/plain": [
       "('../data/monitors.csv',\n",
       " '\\\\Users\\\\User\\\\iCloudDrive\\\\monitors.csv',\n",
       " '\\\\Users\\\\User\\\\Dropbox\\\\monitors.csv')"
      ]
     },
     "execution_count": 11,
     "metadata": {},
     "output_type": "execute_result"
    }
   ],
   "source": [
    "file_name = \"monitors.csv\"\n",
    "data_file = data_path + file_name\n",
    "output_file = csv_path + file_name\n",
    "box_file = box_path + file_name\n",
    "data_file, output_file, box_file"
   ]
  },
  {
   "cell_type": "code",
   "execution_count": 12,
   "metadata": {},
   "outputs": [],
   "source": [
    "monitors.to_csv(data_file, header=None)\n",
    "monitors.to_csv(box_file)"
   ]
  },
  {
   "cell_type": "code",
   "execution_count": 13,
   "metadata": {},
   "outputs": [
    {
     "data": {
      "text/html": [
       "<div>\n",
       "<style scoped>\n",
       "    .dataframe tbody tr th:only-of-type {\n",
       "        vertical-align: middle;\n",
       "    }\n",
       "\n",
       "    .dataframe tbody tr th {\n",
       "        vertical-align: top;\n",
       "    }\n",
       "\n",
       "    .dataframe thead th {\n",
       "        text-align: right;\n",
       "    }\n",
       "</style>\n",
       "<table border=\"1\" class=\"dataframe\">\n",
       "  <thead>\n",
       "    <tr style=\"text-align: right;\">\n",
       "      <th></th>\n",
       "      <th>status</th>\n",
       "      <th>items</th>\n",
       "    </tr>\n",
       "  </thead>\n",
       "  <tbody>\n",
       "    <tr>\n",
       "      <th>0</th>\n",
       "      <td>B</td>\n",
       "      <td>7</td>\n",
       "    </tr>\n",
       "    <tr>\n",
       "      <th>1</th>\n",
       "      <td>I</td>\n",
       "      <td>15</td>\n",
       "    </tr>\n",
       "    <tr>\n",
       "      <th>2</th>\n",
       "      <td>O</td>\n",
       "      <td>3</td>\n",
       "    </tr>\n",
       "  </tbody>\n",
       "</table>\n",
       "</div>"
      ],
      "text/plain": [
       "  status  items\n",
       "0      B      7\n",
       "1      I     15\n",
       "2      O      3"
      ]
     },
     "execution_count": 13,
     "metadata": {},
     "output_type": "execute_result"
    }
   ],
   "source": [
    "sql = \"\"\"\n",
    "SELECT status, COUNT(*) AS items \n",
    "FROM stocks \n",
    "WHERE name IN (%s)\n",
    "GROUP BY status\n",
    "ORDER BY status\n",
    "\"\"\"\n",
    "sql = sql % in_p\n",
    "grp = pd.read_sql(sql, conlite)\n",
    "grp"
   ]
  },
  {
   "cell_type": "code",
   "execution_count": 14,
   "metadata": {},
   "outputs": [
    {
     "data": {
      "text/plain": [
       "'../data/price-uploads.csv'"
      ]
     },
     "execution_count": 14,
     "metadata": {},
     "output_type": "execute_result"
    }
   ],
   "source": [
    "file_name = 'price-uploads.csv'\n",
    "url = data_path + file_name\n",
    "url"
   ]
  },
  {
   "cell_type": "code",
   "execution_count": 15,
   "metadata": {},
   "outputs": [
    {
     "data": {
      "text/plain": [
       "(114, 1)"
      ]
     },
     "execution_count": 15,
     "metadata": {},
     "output_type": "execute_result"
    }
   ],
   "source": [
    "uploads = pd.read_csv(url)\n",
    "uploads.sort_values(['name'],ascending=[True]).shape"
   ]
  },
  {
   "cell_type": "code",
   "execution_count": 16,
   "metadata": {},
   "outputs": [
    {
     "data": {
      "text/plain": [
       "(115, 3)"
      ]
     },
     "execution_count": 16,
     "metadata": {},
     "output_type": "execute_result"
    }
   ],
   "source": [
    "df_merge = pd.merge(monitors, uploads, on='name', how='outer', indicator=True)\n",
    "df_merge.sort_values(['name'],ascending=[True]).shape"
   ]
  },
  {
   "cell_type": "code",
   "execution_count": 17,
   "metadata": {},
   "outputs": [
    {
     "data": {
      "text/html": [
       "<div>\n",
       "<style scoped>\n",
       "    .dataframe tbody tr th:only-of-type {\n",
       "        vertical-align: middle;\n",
       "    }\n",
       "\n",
       "    .dataframe tbody tr th {\n",
       "        vertical-align: top;\n",
       "    }\n",
       "\n",
       "    .dataframe thead th {\n",
       "        text-align: right;\n",
       "    }\n",
       "</style>\n",
       "<table border=\"1\" class=\"dataframe\">\n",
       "  <thead>\n",
       "    <tr style=\"text-align: right;\">\n",
       "      <th></th>\n",
       "      <th>name</th>\n",
       "      <th>status</th>\n",
       "      <th>_merge</th>\n",
       "    </tr>\n",
       "  </thead>\n",
       "  <tbody>\n",
       "    <tr>\n",
       "      <th>20</th>\n",
       "      <td>TCAP</td>\n",
       "      <td>O</td>\n",
       "      <td>left_only</td>\n",
       "    </tr>\n",
       "  </tbody>\n",
       "</table>\n",
       "</div>"
      ],
      "text/plain": [
       "    name status     _merge\n",
       "20  TCAP      O  left_only"
      ]
     },
     "execution_count": 17,
     "metadata": {},
     "output_type": "execute_result"
    }
   ],
   "source": [
    "new_prices = df_merge['_merge'] == 'left_only'\n",
    "df_merge[new_prices]"
   ]
  },
  {
   "cell_type": "code",
   "execution_count": 18,
   "metadata": {},
   "outputs": [
    {
     "data": {
      "text/plain": [
       "(90, 3)"
      ]
     },
     "execution_count": 18,
     "metadata": {},
     "output_type": "execute_result"
    }
   ],
   "source": [
    "new_prices = df_merge['_merge'] == 'right_only'\n",
    "df_merge[new_prices].shape"
   ]
  },
  {
   "cell_type": "code",
   "execution_count": 19,
   "metadata": {},
   "outputs": [
    {
     "data": {
      "text/html": [
       "<div>\n",
       "<style scoped>\n",
       "    .dataframe tbody tr th:only-of-type {\n",
       "        vertical-align: middle;\n",
       "    }\n",
       "\n",
       "    .dataframe tbody tr th {\n",
       "        vertical-align: top;\n",
       "    }\n",
       "\n",
       "    .dataframe thead th {\n",
       "        text-align: right;\n",
       "    }\n",
       "</style>\n",
       "<table border=\"1\" class=\"dataframe\">\n",
       "  <thead>\n",
       "    <tr style=\"text-align: right;\">\n",
       "      <th></th>\n",
       "      <th>status</th>\n",
       "      <th>market</th>\n",
       "    </tr>\n",
       "    <tr>\n",
       "      <th>name</th>\n",
       "      <th></th>\n",
       "      <th></th>\n",
       "    </tr>\n",
       "  </thead>\n",
       "  <tbody>\n",
       "    <tr>\n",
       "      <th>DOHOME</th>\n",
       "      <td>B</td>\n",
       "      <td>SET100</td>\n",
       "    </tr>\n",
       "    <tr>\n",
       "      <th>GLOBAL</th>\n",
       "      <td>B</td>\n",
       "      <td>SET50</td>\n",
       "    </tr>\n",
       "    <tr>\n",
       "      <th>NOBLE</th>\n",
       "      <td>B</td>\n",
       "      <td>SET</td>\n",
       "    </tr>\n",
       "    <tr>\n",
       "      <th>PTT</th>\n",
       "      <td>B</td>\n",
       "      <td>SET50</td>\n",
       "    </tr>\n",
       "    <tr>\n",
       "      <th>RATCH</th>\n",
       "      <td>B</td>\n",
       "      <td>SET50</td>\n",
       "    </tr>\n",
       "    <tr>\n",
       "      <th>SIS</th>\n",
       "      <td>B</td>\n",
       "      <td>SET</td>\n",
       "    </tr>\n",
       "    <tr>\n",
       "      <th>STA</th>\n",
       "      <td>B</td>\n",
       "      <td>SET50</td>\n",
       "    </tr>\n",
       "    <tr>\n",
       "      <th>BGRIM</th>\n",
       "      <td>I</td>\n",
       "      <td>SET50</td>\n",
       "    </tr>\n",
       "    <tr>\n",
       "      <th>CKP</th>\n",
       "      <td>I</td>\n",
       "      <td>SET100</td>\n",
       "    </tr>\n",
       "    <tr>\n",
       "      <th>DCC</th>\n",
       "      <td>I</td>\n",
       "      <td>SET</td>\n",
       "    </tr>\n",
       "    <tr>\n",
       "      <th>DIF</th>\n",
       "      <td>I</td>\n",
       "      <td>SET</td>\n",
       "    </tr>\n",
       "    <tr>\n",
       "      <th>IVL</th>\n",
       "      <td>I</td>\n",
       "      <td>SET50</td>\n",
       "    </tr>\n",
       "    <tr>\n",
       "      <th>KBANK</th>\n",
       "      <td>I</td>\n",
       "      <td>SET50</td>\n",
       "    </tr>\n",
       "    <tr>\n",
       "      <th>KCE</th>\n",
       "      <td>I</td>\n",
       "      <td>SET50</td>\n",
       "    </tr>\n",
       "    <tr>\n",
       "      <th>NER</th>\n",
       "      <td>I</td>\n",
       "      <td>SET</td>\n",
       "    </tr>\n",
       "    <tr>\n",
       "      <th>RCL</th>\n",
       "      <td>I</td>\n",
       "      <td>SET</td>\n",
       "    </tr>\n",
       "    <tr>\n",
       "      <th>RJH</th>\n",
       "      <td>I</td>\n",
       "      <td>SET</td>\n",
       "    </tr>\n",
       "    <tr>\n",
       "      <th>SAT</th>\n",
       "      <td>I</td>\n",
       "      <td>SET</td>\n",
       "    </tr>\n",
       "    <tr>\n",
       "      <th>TOP</th>\n",
       "      <td>I</td>\n",
       "      <td>SET50</td>\n",
       "    </tr>\n",
       "    <tr>\n",
       "      <th>TSTH</th>\n",
       "      <td>I</td>\n",
       "      <td>SET</td>\n",
       "    </tr>\n",
       "    <tr>\n",
       "      <th>TU</th>\n",
       "      <td>I</td>\n",
       "      <td>SET50</td>\n",
       "    </tr>\n",
       "    <tr>\n",
       "      <th>VNT</th>\n",
       "      <td>I</td>\n",
       "      <td>SET</td>\n",
       "    </tr>\n",
       "    <tr>\n",
       "      <th>ROJNA</th>\n",
       "      <td>O</td>\n",
       "      <td>SET</td>\n",
       "    </tr>\n",
       "    <tr>\n",
       "      <th>SYNEX</th>\n",
       "      <td>O</td>\n",
       "      <td>SET100</td>\n",
       "    </tr>\n",
       "    <tr>\n",
       "      <th>TCAP</th>\n",
       "      <td>O</td>\n",
       "      <td>SET100</td>\n",
       "    </tr>\n",
       "    <tr>\n",
       "      <th>HREIT</th>\n",
       "      <td>T</td>\n",
       "      <td>SET</td>\n",
       "    </tr>\n",
       "    <tr>\n",
       "      <th>JASIF</th>\n",
       "      <td>T</td>\n",
       "      <td>SET</td>\n",
       "    </tr>\n",
       "    <tr>\n",
       "      <th>TISCO</th>\n",
       "      <td>T</td>\n",
       "      <td>SET50</td>\n",
       "    </tr>\n",
       "    <tr>\n",
       "      <th>TMT</th>\n",
       "      <td>T</td>\n",
       "      <td>SET</td>\n",
       "    </tr>\n",
       "    <tr>\n",
       "      <th>BCH</th>\n",
       "      <td>U</td>\n",
       "      <td>SET100</td>\n",
       "    </tr>\n",
       "    <tr>\n",
       "      <th>EPG</th>\n",
       "      <td>U</td>\n",
       "      <td>SET</td>\n",
       "    </tr>\n",
       "    <tr>\n",
       "      <th>IMH</th>\n",
       "      <td>U</td>\n",
       "      <td>mai</td>\n",
       "    </tr>\n",
       "    <tr>\n",
       "      <th>IP</th>\n",
       "      <td>U</td>\n",
       "      <td>mai</td>\n",
       "    </tr>\n",
       "    <tr>\n",
       "      <th>MCS</th>\n",
       "      <td>U</td>\n",
       "      <td>SET</td>\n",
       "    </tr>\n",
       "    <tr>\n",
       "      <th>PTTGC</th>\n",
       "      <td>U</td>\n",
       "      <td>SET50</td>\n",
       "    </tr>\n",
       "    <tr>\n",
       "      <th>SCC</th>\n",
       "      <td>U</td>\n",
       "      <td>SET50</td>\n",
       "    </tr>\n",
       "    <tr>\n",
       "      <th>TYCN</th>\n",
       "      <td>U</td>\n",
       "      <td>SET</td>\n",
       "    </tr>\n",
       "    <tr>\n",
       "      <th>ASK</th>\n",
       "      <td>X</td>\n",
       "      <td>SET</td>\n",
       "    </tr>\n",
       "    <tr>\n",
       "      <th>BLA</th>\n",
       "      <td>X</td>\n",
       "      <td>SET</td>\n",
       "    </tr>\n",
       "    <tr>\n",
       "      <th>GULF</th>\n",
       "      <td>X</td>\n",
       "      <td>SET50</td>\n",
       "    </tr>\n",
       "    <tr>\n",
       "      <th>JMT</th>\n",
       "      <td>X</td>\n",
       "      <td>SET100</td>\n",
       "    </tr>\n",
       "    <tr>\n",
       "      <th>LH</th>\n",
       "      <td>X</td>\n",
       "      <td>SET50</td>\n",
       "    </tr>\n",
       "    <tr>\n",
       "      <th>MEGA</th>\n",
       "      <td>X</td>\n",
       "      <td>SET100</td>\n",
       "    </tr>\n",
       "    <tr>\n",
       "      <th>PTL</th>\n",
       "      <td>X</td>\n",
       "      <td>SET100</td>\n",
       "    </tr>\n",
       "    <tr>\n",
       "      <th>SINGER</th>\n",
       "      <td>X</td>\n",
       "      <td>SET100</td>\n",
       "    </tr>\n",
       "    <tr>\n",
       "      <th>SPALI</th>\n",
       "      <td>X</td>\n",
       "      <td>SET100</td>\n",
       "    </tr>\n",
       "    <tr>\n",
       "      <th>STARK</th>\n",
       "      <td>X</td>\n",
       "      <td>SET</td>\n",
       "    </tr>\n",
       "    <tr>\n",
       "      <th>SVI</th>\n",
       "      <td>X</td>\n",
       "      <td>SET</td>\n",
       "    </tr>\n",
       "    <tr>\n",
       "      <th>TKS</th>\n",
       "      <td>X</td>\n",
       "      <td>SET</td>\n",
       "    </tr>\n",
       "    <tr>\n",
       "      <th>TQM</th>\n",
       "      <td>X</td>\n",
       "      <td>SET100</td>\n",
       "    </tr>\n",
       "    <tr>\n",
       "      <th>TSE</th>\n",
       "      <td>X</td>\n",
       "      <td>SET</td>\n",
       "    </tr>\n",
       "  </tbody>\n",
       "</table>\n",
       "</div>"
      ],
      "text/plain": [
       "       status  market\n",
       "name                 \n",
       "DOHOME      B  SET100\n",
       "GLOBAL      B   SET50\n",
       "NOBLE       B     SET\n",
       "PTT         B   SET50\n",
       "RATCH       B   SET50\n",
       "SIS         B     SET\n",
       "STA         B   SET50\n",
       "BGRIM       I   SET50\n",
       "CKP         I  SET100\n",
       "DCC         I     SET\n",
       "DIF         I     SET\n",
       "IVL         I   SET50\n",
       "KBANK       I   SET50\n",
       "KCE         I   SET50\n",
       "NER         I     SET\n",
       "RCL         I     SET\n",
       "RJH         I     SET\n",
       "SAT         I     SET\n",
       "TOP         I   SET50\n",
       "TSTH        I     SET\n",
       "TU          I   SET50\n",
       "VNT         I     SET\n",
       "ROJNA       O     SET\n",
       "SYNEX       O  SET100\n",
       "TCAP        O  SET100\n",
       "HREIT       T     SET\n",
       "JASIF       T     SET\n",
       "TISCO       T   SET50\n",
       "TMT         T     SET\n",
       "BCH         U  SET100\n",
       "EPG         U     SET\n",
       "IMH         U     mai\n",
       "IP          U     mai\n",
       "MCS         U     SET\n",
       "PTTGC       U   SET50\n",
       "SCC         U   SET50\n",
       "TYCN        U     SET\n",
       "ASK         X     SET\n",
       "BLA         X     SET\n",
       "GULF        X   SET50\n",
       "JMT         X  SET100\n",
       "LH          X   SET50\n",
       "MEGA        X  SET100\n",
       "PTL         X  SET100\n",
       "SINGER      X  SET100\n",
       "SPALI       X  SET100\n",
       "STARK       X     SET\n",
       "SVI         X     SET\n",
       "TKS         X     SET\n",
       "TQM         X  SET100\n",
       "TSE         X     SET"
      ]
     },
     "execution_count": 19,
     "metadata": {},
     "output_type": "execute_result"
    }
   ],
   "source": [
    "sql = \"\"\"\n",
    "SELECT name, status, market\n",
    "FROM stocks \n",
    "ORDER BY status, name\n",
    "\"\"\"\n",
    "stocks = pd.read_sql(sql, conlite)\n",
    "stocks.set_index([\"name\"], inplace=True)\n",
    "stocks"
   ]
  },
  {
   "cell_type": "code",
   "execution_count": 20,
   "metadata": {},
   "outputs": [
    {
     "data": {
      "text/plain": [
       "('../data/stocks-all.csv',\n",
       " '\\\\Users\\\\User\\\\iCloudDrive\\\\stocks-all.csv',\n",
       " '\\\\Users\\\\User\\\\Dropbox\\\\stocks-all.csv')"
      ]
     },
     "execution_count": 20,
     "metadata": {},
     "output_type": "execute_result"
    }
   ],
   "source": [
    "file_name = \"stocks-all.csv\"\n",
    "data_file = data_path + file_name\n",
    "output_file = csv_path + file_name\n",
    "box_file = box_path + file_name\n",
    "data_file, output_file, box_file"
   ]
  },
  {
   "cell_type": "code",
   "execution_count": 21,
   "metadata": {},
   "outputs": [],
   "source": [
    "stocks.to_csv(data_file, header=None)\n",
    "stocks.to_csv(output_file)\n",
    "stocks.to_csv(box_file)"
   ]
  },
  {
   "cell_type": "code",
   "execution_count": 22,
   "metadata": {},
   "outputs": [
    {
     "data": {
      "text/html": [
       "<div>\n",
       "<style scoped>\n",
       "    .dataframe tbody tr th:only-of-type {\n",
       "        vertical-align: middle;\n",
       "    }\n",
       "\n",
       "    .dataframe tbody tr th {\n",
       "        vertical-align: top;\n",
       "    }\n",
       "\n",
       "    .dataframe thead th {\n",
       "        text-align: right;\n",
       "    }\n",
       "</style>\n",
       "<table border=\"1\" class=\"dataframe\">\n",
       "  <thead>\n",
       "    <tr style=\"text-align: right;\">\n",
       "      <th></th>\n",
       "      <th>status</th>\n",
       "    </tr>\n",
       "    <tr>\n",
       "      <th>name</th>\n",
       "      <th></th>\n",
       "    </tr>\n",
       "  </thead>\n",
       "  <tbody>\n",
       "    <tr>\n",
       "      <th>DOHOME</th>\n",
       "      <td>B</td>\n",
       "    </tr>\n",
       "    <tr>\n",
       "      <th>GLOBAL</th>\n",
       "      <td>B</td>\n",
       "    </tr>\n",
       "    <tr>\n",
       "      <th>NOBLE</th>\n",
       "      <td>B</td>\n",
       "    </tr>\n",
       "    <tr>\n",
       "      <th>PTT</th>\n",
       "      <td>B</td>\n",
       "    </tr>\n",
       "    <tr>\n",
       "      <th>RATCH</th>\n",
       "      <td>B</td>\n",
       "    </tr>\n",
       "    <tr>\n",
       "      <th>ROJNA</th>\n",
       "      <td>O</td>\n",
       "    </tr>\n",
       "    <tr>\n",
       "      <th>SIS</th>\n",
       "      <td>B</td>\n",
       "    </tr>\n",
       "    <tr>\n",
       "      <th>STA</th>\n",
       "      <td>B</td>\n",
       "    </tr>\n",
       "    <tr>\n",
       "      <th>SYNEX</th>\n",
       "      <td>O</td>\n",
       "    </tr>\n",
       "    <tr>\n",
       "      <th>TCAP</th>\n",
       "      <td>O</td>\n",
       "    </tr>\n",
       "  </tbody>\n",
       "</table>\n",
       "</div>"
      ],
      "text/plain": [
       "       status\n",
       "name         \n",
       "DOHOME      B\n",
       "GLOBAL      B\n",
       "NOBLE       B\n",
       "PTT         B\n",
       "RATCH       B\n",
       "ROJNA       O\n",
       "SIS         B\n",
       "STA         B\n",
       "SYNEX       O\n",
       "TCAP        O"
      ]
     },
     "execution_count": 22,
     "metadata": {},
     "output_type": "execute_result"
    }
   ],
   "source": [
    "sql = \"\"\"\n",
    "SELECT name, status \n",
    "FROM stocks \n",
    "WHERE status IN (\"B\",\"O\")\n",
    "ORDER BY name\n",
    "\"\"\"\n",
    "\n",
    "buy_candidates = pd.read_sql(sql, conlite)\n",
    "buy_candidates.set_index([\"name\"], inplace=True)\n",
    "buy_candidates"
   ]
  },
  {
   "cell_type": "code",
   "execution_count": 23,
   "metadata": {},
   "outputs": [
    {
     "data": {
      "text/plain": [
       "10"
      ]
     },
     "execution_count": 23,
     "metadata": {},
     "output_type": "execute_result"
    }
   ],
   "source": [
    "buy_candidates.shape[0]"
   ]
  },
  {
   "cell_type": "code",
   "execution_count": 24,
   "metadata": {},
   "outputs": [
    {
     "data": {
      "text/html": [
       "<div>\n",
       "<style scoped>\n",
       "    .dataframe tbody tr th:only-of-type {\n",
       "        vertical-align: middle;\n",
       "    }\n",
       "\n",
       "    .dataframe tbody tr th {\n",
       "        vertical-align: top;\n",
       "    }\n",
       "\n",
       "    .dataframe thead th {\n",
       "        text-align: right;\n",
       "    }\n",
       "</style>\n",
       "<table border=\"1\" class=\"dataframe\">\n",
       "  <thead>\n",
       "    <tr style=\"text-align: right;\">\n",
       "      <th></th>\n",
       "      <th>status</th>\n",
       "    </tr>\n",
       "    <tr>\n",
       "      <th>name</th>\n",
       "      <th></th>\n",
       "    </tr>\n",
       "  </thead>\n",
       "  <tbody>\n",
       "    <tr>\n",
       "      <th>BGRIM</th>\n",
       "      <td>I</td>\n",
       "    </tr>\n",
       "    <tr>\n",
       "      <th>CKP</th>\n",
       "      <td>I</td>\n",
       "    </tr>\n",
       "    <tr>\n",
       "      <th>DCC</th>\n",
       "      <td>I</td>\n",
       "    </tr>\n",
       "    <tr>\n",
       "      <th>DIF</th>\n",
       "      <td>I</td>\n",
       "    </tr>\n",
       "    <tr>\n",
       "      <th>IVL</th>\n",
       "      <td>I</td>\n",
       "    </tr>\n",
       "    <tr>\n",
       "      <th>KBANK</th>\n",
       "      <td>I</td>\n",
       "    </tr>\n",
       "    <tr>\n",
       "      <th>KCE</th>\n",
       "      <td>I</td>\n",
       "    </tr>\n",
       "    <tr>\n",
       "      <th>NER</th>\n",
       "      <td>I</td>\n",
       "    </tr>\n",
       "    <tr>\n",
       "      <th>RCL</th>\n",
       "      <td>I</td>\n",
       "    </tr>\n",
       "    <tr>\n",
       "      <th>RJH</th>\n",
       "      <td>I</td>\n",
       "    </tr>\n",
       "    <tr>\n",
       "      <th>SAT</th>\n",
       "      <td>I</td>\n",
       "    </tr>\n",
       "    <tr>\n",
       "      <th>TOP</th>\n",
       "      <td>I</td>\n",
       "    </tr>\n",
       "    <tr>\n",
       "      <th>TSTH</th>\n",
       "      <td>I</td>\n",
       "    </tr>\n",
       "    <tr>\n",
       "      <th>TU</th>\n",
       "      <td>I</td>\n",
       "    </tr>\n",
       "    <tr>\n",
       "      <th>VNT</th>\n",
       "      <td>I</td>\n",
       "    </tr>\n",
       "  </tbody>\n",
       "</table>\n",
       "</div>"
      ],
      "text/plain": [
       "      status\n",
       "name        \n",
       "BGRIM      I\n",
       "CKP        I\n",
       "DCC        I\n",
       "DIF        I\n",
       "IVL        I\n",
       "KBANK      I\n",
       "KCE        I\n",
       "NER        I\n",
       "RCL        I\n",
       "RJH        I\n",
       "SAT        I\n",
       "TOP        I\n",
       "TSTH       I\n",
       "TU         I\n",
       "VNT        I"
      ]
     },
     "execution_count": 24,
     "metadata": {},
     "output_type": "execute_result"
    }
   ],
   "source": [
    "sql = \"\"\"\n",
    "SELECT name, status \n",
    "FROM stocks \n",
    "WHERE status IN (\"I\",\"S\")\n",
    "ORDER BY name\n",
    "\"\"\"\n",
    "\n",
    "sell_candidates = pd.read_sql(sql, conlite)\n",
    "sell_candidates.set_index([\"name\"], inplace=True)\n",
    "sell_candidates"
   ]
  },
  {
   "cell_type": "code",
   "execution_count": 25,
   "metadata": {},
   "outputs": [
    {
     "data": {
      "text/plain": [
       "15"
      ]
     },
     "execution_count": 25,
     "metadata": {},
     "output_type": "execute_result"
    }
   ],
   "source": [
    "sell_candidates.shape[0]"
   ]
  }
 ],
 "metadata": {
  "anaconda-cloud": {},
  "kernelspec": {
   "display_name": "Python 3 (ipykernel)",
   "language": "python",
   "name": "python3"
  },
  "language_info": {
   "codemirror_mode": {
    "name": "ipython",
    "version": 3
   },
   "file_extension": ".py",
   "mimetype": "text/x-python",
   "name": "python",
   "nbconvert_exporter": "python",
   "pygments_lexer": "ipython3",
   "version": "3.8.11"
  }
 },
 "nbformat": 4,
 "nbformat_minor": 1
}
