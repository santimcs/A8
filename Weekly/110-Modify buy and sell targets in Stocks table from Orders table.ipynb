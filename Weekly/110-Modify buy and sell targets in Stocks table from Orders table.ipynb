{
 "cells": [
  {
   "cell_type": "code",
   "execution_count": 1,
   "metadata": {},
   "outputs": [],
   "source": [
    "import calendar\n",
    "import pandas as pd\n",
    "from datetime import date, timedelta\n",
    "from sqlalchemy import create_engine\n",
    "\n",
    "engine = create_engine(\"sqlite:///c:\\\\ruby\\\\port_lite\\\\db\\\\development.sqlite3\")\n",
    "conlite = engine.connect()\n",
    "\n",
    "data_path = \"../data/\"\n",
    "csv_path = \"\\\\Users\\\\User\\\\iCloudDrive\\\\\"\n",
    "box_path = \"\\\\Users\\\\User\\\\Dropbox\\\\\""
   ]
  },
  {
   "cell_type": "markdown",
   "metadata": {},
   "source": [
    "### Tables in the process"
   ]
  },
  {
   "cell_type": "code",
   "execution_count": 2,
   "metadata": {},
   "outputs": [],
   "source": [
    "cols = 'trade name qty_x price reason_x qty_y buy_target sell_target reason_y'.split()\n",
    "colt = 'trade name qty price active reason market'.split()"
   ]
  },
  {
   "cell_type": "code",
   "execution_count": 3,
   "metadata": {},
   "outputs": [],
   "source": [
    "format_dict = {\n",
    "    'qty':'{:,}','qty_x':'{:,}','qty_y':'{:,}','available_qty':'{:,}','eps_a':'{:.2f}','eps_b':'{:.2f}',\n",
    "    'volbuy':'{:,}','volsell':'{:,}','volbal':'{:,}',\n",
    "    'pe':'{:.2f}','pbv':'{:.2f}','max':'{:.2f}','min':'{:.2f}','dividend':'{:.4f}',\n",
    "    'maxp':'{:.2f}','minp':'{:.2f}','opnp':'{:.2f}',\n",
    "    'paid_up':'{:,.2f}','market_cap':'{:,.2f}','daily_volume':'{:,.2f}','dly_vol':'{:,.2f}',\n",
    "    'price':'{:.2f}','target_price':'{:.2f}','max_price':'{:.2f}','min_price':'{:.2f}','price_d':'{:.2f}','price_w':'{:.2f}',\n",
    "    'buy_target':'{:.2f}','sell_target':'{:.2f}','target':'{:.2f}','current':'{:.2f}',\n",
    "    'beta':'{:.2f}','amount':'{:,.2f}','sell_amt':'{:,.2f}','volume':'{:,.2f}','percent':'{:,.2f}',\n",
    "    'q_amt':'{:,}','y_amt':'{:,}','aq_amt':'{:,}','ay_amt':'{:,}','yoy_gain':'{:,}','acc_gain':'{:,}',    \n",
    "    'q_eps':'{:.4f}','y_eps':'{:.4f}','aq_eps':'{:.4f}','ay_eps':'{:.4f}',\n",
    "    'yoy_pct':'{:.2f}%','acc_pct':'{:.2f}%','yield':'{:.2f}%',\n",
    "    'q_amt': '{:,}','y_amt': '{:,}','yoy_gain': '{:,}','q_amt_c': '{:,}','q_amt_p': '{:,}','aq_amt': '{:,}','ay_amt': '{:,}',\n",
    "    'acc_gain': '{:,}','latest_amt': '{:,}','previous_amt': '{:,}','inc_amt': '{:,}',\n",
    "    'inc_amt_pq': '{:,}','inc_amt_py': '{:,}',    'latest_amt_q': '{:,}','previous_amt_q': '{:,}','inc_amt_q': '{:,}',\n",
    "    'latest_amt_y': '{:,}','previous_amt_y': '{:,}','inc_amt_y': '{:,}','kind_x': '{:,}',\n",
    "    'inc_pct': '{:.2f}%','inc_pct_q': '{:.2f}%','pct': '{:.2f}%','percent': '{:.2f}%',\n",
    "    'inc_pct_y': '{:.2f}%','inc_pct_pq': '{:.2f}%','inc_pct_py': '{:.2f}%','mean_pct': '{:.2f}%','std_pct': '{:.2f}%',      \n",
    "}"
   ]
  },
  {
   "cell_type": "markdown",
   "metadata": {},
   "source": [
    "### Begin of Loop"
   ]
  },
  {
   "cell_type": "code",
   "execution_count": 4,
   "metadata": {},
   "outputs": [
    {
     "data": {
      "text/html": [
       "<style type=\"text/css\">\n",
       "</style>\n",
       "<table id=\"T_1f7ef_\">\n",
       "  <thead>\n",
       "    <tr>\n",
       "      <th class=\"blank level0\" >&nbsp;</th>\n",
       "      <th class=\"col_heading level0 col0\" >trade</th>\n",
       "      <th class=\"col_heading level0 col1\" >name</th>\n",
       "      <th class=\"col_heading level0 col2\" >qty</th>\n",
       "      <th class=\"col_heading level0 col3\" >price</th>\n",
       "      <th class=\"col_heading level0 col4\" >amount</th>\n",
       "      <th class=\"col_heading level0 col5\" >reason</th>\n",
       "      <th class=\"col_heading level0 col6\" >market</th>\n",
       "      <th class=\"col_heading level0 col7\" >active</th>\n",
       "    </tr>\n",
       "  </thead>\n",
       "  <tbody>\n",
       "    <tr>\n",
       "      <th id=\"T_1f7ef_level0_row0\" class=\"row_heading level0 row0\" >0</th>\n",
       "      <td id=\"T_1f7ef_row0_col0\" class=\"data row0 col0\" >B</td>\n",
       "      <td id=\"T_1f7ef_row0_col1\" class=\"data row0 col1\" >AEONTS</td>\n",
       "      <td id=\"T_1f7ef_row0_col2\" class=\"data row0 col2\" >1,200</td>\n",
       "      <td id=\"T_1f7ef_row0_col3\" class=\"data row0 col3\" >180.00</td>\n",
       "      <td id=\"T_1f7ef_row0_col4\" class=\"data row0 col4\" >216,000.00</td>\n",
       "      <td id=\"T_1f7ef_row0_col5\" class=\"data row0 col5\" >1L</td>\n",
       "      <td id=\"T_1f7ef_row0_col6\" class=\"data row0 col6\" >SET100</td>\n",
       "      <td id=\"T_1f7ef_row0_col7\" class=\"data row0 col7\" >1</td>\n",
       "    </tr>\n",
       "    <tr>\n",
       "      <th id=\"T_1f7ef_level0_row1\" class=\"row_heading level0 row1\" >1</th>\n",
       "      <td id=\"T_1f7ef_row1_col0\" class=\"data row1 col0\" >B</td>\n",
       "      <td id=\"T_1f7ef_row1_col1\" class=\"data row1 col1\" >BGC</td>\n",
       "      <td id=\"T_1f7ef_row1_col2\" class=\"data row1 col2\" >10,000</td>\n",
       "      <td id=\"T_1f7ef_row1_col3\" class=\"data row1 col3\" >10.00</td>\n",
       "      <td id=\"T_1f7ef_row1_col4\" class=\"data row1 col4\" >100,000.00</td>\n",
       "      <td id=\"T_1f7ef_row1_col5\" class=\"data row1 col5\" >DOS</td>\n",
       "      <td id=\"T_1f7ef_row1_col6\" class=\"data row1 col6\" >SET</td>\n",
       "      <td id=\"T_1f7ef_row1_col7\" class=\"data row1 col7\" >1</td>\n",
       "    </tr>\n",
       "    <tr>\n",
       "      <th id=\"T_1f7ef_level0_row2\" class=\"row_heading level0 row2\" >2</th>\n",
       "      <td id=\"T_1f7ef_row2_col0\" class=\"data row2 col0\" >B</td>\n",
       "      <td id=\"T_1f7ef_row2_col1\" class=\"data row2 col1\" >NOBLE</td>\n",
       "      <td id=\"T_1f7ef_row2_col2\" class=\"data row2 col2\" >21,000</td>\n",
       "      <td id=\"T_1f7ef_row2_col3\" class=\"data row2 col3\" >5.85</td>\n",
       "      <td id=\"T_1f7ef_row2_col4\" class=\"data row2 col4\" >122,850.00</td>\n",
       "      <td id=\"T_1f7ef_row2_col5\" class=\"data row2 col5\" >RD15%</td>\n",
       "      <td id=\"T_1f7ef_row2_col6\" class=\"data row2 col6\" >SET</td>\n",
       "      <td id=\"T_1f7ef_row2_col7\" class=\"data row2 col7\" >0</td>\n",
       "    </tr>\n",
       "    <tr>\n",
       "      <th id=\"T_1f7ef_level0_row3\" class=\"row_heading level0 row3\" >3</th>\n",
       "      <td id=\"T_1f7ef_row3_col0\" class=\"data row3 col0\" >B</td>\n",
       "      <td id=\"T_1f7ef_row3_col1\" class=\"data row3 col1\" >PTT</td>\n",
       "      <td id=\"T_1f7ef_row3_col2\" class=\"data row3 col2\" >3,000</td>\n",
       "      <td id=\"T_1f7ef_row3_col3\" class=\"data row3 col3\" >36.50</td>\n",
       "      <td id=\"T_1f7ef_row3_col4\" class=\"data row3 col4\" >109,500.00</td>\n",
       "      <td id=\"T_1f7ef_row3_col5\" class=\"data row3 col5\" >RD05%</td>\n",
       "      <td id=\"T_1f7ef_row3_col6\" class=\"data row3 col6\" >SET50</td>\n",
       "      <td id=\"T_1f7ef_row3_col7\" class=\"data row3 col7\" >1</td>\n",
       "    </tr>\n",
       "    <tr>\n",
       "      <th id=\"T_1f7ef_level0_row4\" class=\"row_heading level0 row4\" >4</th>\n",
       "      <td id=\"T_1f7ef_row4_col0\" class=\"data row4 col0\" >B</td>\n",
       "      <td id=\"T_1f7ef_row4_col1\" class=\"data row4 col1\" >PTTGC</td>\n",
       "      <td id=\"T_1f7ef_row4_col2\" class=\"data row4 col2\" >1,200</td>\n",
       "      <td id=\"T_1f7ef_row4_col3\" class=\"data row4 col3\" >54.25</td>\n",
       "      <td id=\"T_1f7ef_row4_col4\" class=\"data row4 col4\" >65,100.00</td>\n",
       "      <td id=\"T_1f7ef_row4_col5\" class=\"data row4 col5\" >RD10pct</td>\n",
       "      <td id=\"T_1f7ef_row4_col6\" class=\"data row4 col6\" >SET50</td>\n",
       "      <td id=\"T_1f7ef_row4_col7\" class=\"data row4 col7\" >1</td>\n",
       "    </tr>\n",
       "    <tr>\n",
       "      <th id=\"T_1f7ef_level0_row5\" class=\"row_heading level0 row5\" >5</th>\n",
       "      <td id=\"T_1f7ef_row5_col0\" class=\"data row5 col0\" >B</td>\n",
       "      <td id=\"T_1f7ef_row5_col1\" class=\"data row5 col1\" >RATCH</td>\n",
       "      <td id=\"T_1f7ef_row5_col2\" class=\"data row5 col2\" >3,000</td>\n",
       "      <td id=\"T_1f7ef_row5_col3\" class=\"data row5 col3\" >42.75</td>\n",
       "      <td id=\"T_1f7ef_row5_col4\" class=\"data row5 col4\" >128,250.00</td>\n",
       "      <td id=\"T_1f7ef_row5_col5\" class=\"data row5 col5\" >RD05%</td>\n",
       "      <td id=\"T_1f7ef_row5_col6\" class=\"data row5 col6\" >SET50</td>\n",
       "      <td id=\"T_1f7ef_row5_col7\" class=\"data row5 col7\" >1</td>\n",
       "    </tr>\n",
       "    <tr>\n",
       "      <th id=\"T_1f7ef_level0_row6\" class=\"row_heading level0 row6\" >6</th>\n",
       "      <td id=\"T_1f7ef_row6_col0\" class=\"data row6 col0\" >B</td>\n",
       "      <td id=\"T_1f7ef_row6_col1\" class=\"data row6 col1\" >RCL</td>\n",
       "      <td id=\"T_1f7ef_row6_col2\" class=\"data row6 col2\" >1,500</td>\n",
       "      <td id=\"T_1f7ef_row6_col3\" class=\"data row6 col3\" >41.50</td>\n",
       "      <td id=\"T_1f7ef_row6_col4\" class=\"data row6 col4\" >62,250.00</td>\n",
       "      <td id=\"T_1f7ef_row6_col5\" class=\"data row6 col5\" >RD05pct</td>\n",
       "      <td id=\"T_1f7ef_row6_col6\" class=\"data row6 col6\" >SET100</td>\n",
       "      <td id=\"T_1f7ef_row6_col7\" class=\"data row6 col7\" >1</td>\n",
       "    </tr>\n",
       "    <tr>\n",
       "      <th id=\"T_1f7ef_level0_row7\" class=\"row_heading level0 row7\" >7</th>\n",
       "      <td id=\"T_1f7ef_row7_col0\" class=\"data row7 col0\" >B</td>\n",
       "      <td id=\"T_1f7ef_row7_col1\" class=\"data row7 col1\" >ROJNA</td>\n",
       "      <td id=\"T_1f7ef_row7_col2\" class=\"data row7 col2\" >18,000</td>\n",
       "      <td id=\"T_1f7ef_row7_col3\" class=\"data row7 col3\" >6.30</td>\n",
       "      <td id=\"T_1f7ef_row7_col4\" class=\"data row7 col4\" >113,400.00</td>\n",
       "      <td id=\"T_1f7ef_row7_col5\" class=\"data row7 col5\" >6L</td>\n",
       "      <td id=\"T_1f7ef_row7_col6\" class=\"data row7 col6\" >SET</td>\n",
       "      <td id=\"T_1f7ef_row7_col7\" class=\"data row7 col7\" >1</td>\n",
       "    </tr>\n",
       "    <tr>\n",
       "      <th id=\"T_1f7ef_level0_row8\" class=\"row_heading level0 row8\" >8</th>\n",
       "      <td id=\"T_1f7ef_row8_col0\" class=\"data row8 col0\" >B</td>\n",
       "      <td id=\"T_1f7ef_row8_col1\" class=\"data row8 col1\" >SCC</td>\n",
       "      <td id=\"T_1f7ef_row8_col2\" class=\"data row8 col2\" >300</td>\n",
       "      <td id=\"T_1f7ef_row8_col3\" class=\"data row8 col3\" >374.00</td>\n",
       "      <td id=\"T_1f7ef_row8_col4\" class=\"data row8 col4\" >112,200.00</td>\n",
       "      <td id=\"T_1f7ef_row8_col5\" class=\"data row8 col5\" >RD05pct</td>\n",
       "      <td id=\"T_1f7ef_row8_col6\" class=\"data row8 col6\" >SET50</td>\n",
       "      <td id=\"T_1f7ef_row8_col7\" class=\"data row8 col7\" >2</td>\n",
       "    </tr>\n",
       "    <tr>\n",
       "      <th id=\"T_1f7ef_level0_row9\" class=\"row_heading level0 row9\" >9</th>\n",
       "      <td id=\"T_1f7ef_row9_col0\" class=\"data row9 col0\" >B</td>\n",
       "      <td id=\"T_1f7ef_row9_col1\" class=\"data row9 col1\" >SMT</td>\n",
       "      <td id=\"T_1f7ef_row9_col2\" class=\"data row9 col2\" >18,000</td>\n",
       "      <td id=\"T_1f7ef_row9_col3\" class=\"data row9 col3\" >5.00</td>\n",
       "      <td id=\"T_1f7ef_row9_col4\" class=\"data row9 col4\" >90,000.00</td>\n",
       "      <td id=\"T_1f7ef_row9_col5\" class=\"data row9 col5\" >None</td>\n",
       "      <td id=\"T_1f7ef_row9_col6\" class=\"data row9 col6\" >SET</td>\n",
       "      <td id=\"T_1f7ef_row9_col7\" class=\"data row9 col7\" >0</td>\n",
       "    </tr>\n",
       "    <tr>\n",
       "      <th id=\"T_1f7ef_level0_row10\" class=\"row_heading level0 row10\" >10</th>\n",
       "      <td id=\"T_1f7ef_row10_col0\" class=\"data row10 col0\" >B</td>\n",
       "      <td id=\"T_1f7ef_row10_col1\" class=\"data row10 col1\" >STA</td>\n",
       "      <td id=\"T_1f7ef_row10_col2\" class=\"data row10 col2\" >2,500</td>\n",
       "      <td id=\"T_1f7ef_row10_col3\" class=\"data row10 col3\" >28.00</td>\n",
       "      <td id=\"T_1f7ef_row10_col4\" class=\"data row10 col4\" >70,000.00</td>\n",
       "      <td id=\"T_1f7ef_row10_col5\" class=\"data row10 col5\" >RD15%</td>\n",
       "      <td id=\"T_1f7ef_row10_col6\" class=\"data row10 col6\" >SET100</td>\n",
       "      <td id=\"T_1f7ef_row10_col7\" class=\"data row10 col7\" >1</td>\n",
       "    </tr>\n",
       "    <tr>\n",
       "      <th id=\"T_1f7ef_level0_row11\" class=\"row_heading level0 row11\" >11</th>\n",
       "      <td id=\"T_1f7ef_row11_col0\" class=\"data row11 col0\" >B</td>\n",
       "      <td id=\"T_1f7ef_row11_col1\" class=\"data row11 col1\" >STARK</td>\n",
       "      <td id=\"T_1f7ef_row11_col2\" class=\"data row11 col2\" >24,000</td>\n",
       "      <td id=\"T_1f7ef_row11_col3\" class=\"data row11 col3\" >4.24</td>\n",
       "      <td id=\"T_1f7ef_row11_col4\" class=\"data row11 col4\" >101,760.00</td>\n",
       "      <td id=\"T_1f7ef_row11_col5\" class=\"data row11 col5\" >6L</td>\n",
       "      <td id=\"T_1f7ef_row11_col6\" class=\"data row11 col6\" >SET100</td>\n",
       "      <td id=\"T_1f7ef_row11_col7\" class=\"data row11 col7\" >0</td>\n",
       "    </tr>\n",
       "    <tr>\n",
       "      <th id=\"T_1f7ef_level0_row12\" class=\"row_heading level0 row12\" >12</th>\n",
       "      <td id=\"T_1f7ef_row12_col0\" class=\"data row12 col0\" >B</td>\n",
       "      <td id=\"T_1f7ef_row12_col1\" class=\"data row12 col1\" >SYNEX</td>\n",
       "      <td id=\"T_1f7ef_row12_col2\" class=\"data row12 col2\" >1,500</td>\n",
       "      <td id=\"T_1f7ef_row12_col3\" class=\"data row12 col3\" >27.50</td>\n",
       "      <td id=\"T_1f7ef_row12_col4\" class=\"data row12 col4\" >41,250.00</td>\n",
       "      <td id=\"T_1f7ef_row12_col5\" class=\"data row12 col5\" >RD10pct</td>\n",
       "      <td id=\"T_1f7ef_row12_col6\" class=\"data row12 col6\" >SET100</td>\n",
       "      <td id=\"T_1f7ef_row12_col7\" class=\"data row12 col7\" >1</td>\n",
       "    </tr>\n",
       "    <tr>\n",
       "      <th id=\"T_1f7ef_level0_row13\" class=\"row_heading level0 row13\" >13</th>\n",
       "      <td id=\"T_1f7ef_row13_col0\" class=\"data row13 col0\" >B</td>\n",
       "      <td id=\"T_1f7ef_row13_col1\" class=\"data row13 col1\" >TOP</td>\n",
       "      <td id=\"T_1f7ef_row13_col2\" class=\"data row13 col2\" >3,000</td>\n",
       "      <td id=\"T_1f7ef_row13_col3\" class=\"data row13 col3\" >51.00</td>\n",
       "      <td id=\"T_1f7ef_row13_col4\" class=\"data row13 col4\" >153,000.00</td>\n",
       "      <td id=\"T_1f7ef_row13_col5\" class=\"data row13 col5\" >RU05pct</td>\n",
       "      <td id=\"T_1f7ef_row13_col6\" class=\"data row13 col6\" >SET50</td>\n",
       "      <td id=\"T_1f7ef_row13_col7\" class=\"data row13 col7\" >2</td>\n",
       "    </tr>\n",
       "    <tr>\n",
       "      <th id=\"T_1f7ef_level0_row14\" class=\"row_heading level0 row14\" >14</th>\n",
       "      <td id=\"T_1f7ef_row14_col0\" class=\"data row14 col0\" >B</td>\n",
       "      <td id=\"T_1f7ef_row14_col1\" class=\"data row14 col1\" >TQM</td>\n",
       "      <td id=\"T_1f7ef_row14_col2\" class=\"data row14 col2\" >4,500</td>\n",
       "      <td id=\"T_1f7ef_row14_col3\" class=\"data row14 col3\" >46.00</td>\n",
       "      <td id=\"T_1f7ef_row14_col4\" class=\"data row14 col4\" >207,000.00</td>\n",
       "      <td id=\"T_1f7ef_row14_col5\" class=\"data row14 col5\" >3L</td>\n",
       "      <td id=\"T_1f7ef_row14_col6\" class=\"data row14 col6\" >SET100</td>\n",
       "      <td id=\"T_1f7ef_row14_col7\" class=\"data row14 col7\" >1</td>\n",
       "    </tr>\n",
       "    <tr>\n",
       "      <th id=\"T_1f7ef_level0_row15\" class=\"row_heading level0 row15\" >15</th>\n",
       "      <td id=\"T_1f7ef_row15_col0\" class=\"data row15 col0\" >B</td>\n",
       "      <td id=\"T_1f7ef_row15_col1\" class=\"data row15 col1\" >TSTH</td>\n",
       "      <td id=\"T_1f7ef_row15_col2\" class=\"data row15 col2\" >45,000</td>\n",
       "      <td id=\"T_1f7ef_row15_col3\" class=\"data row15 col3\" >1.42</td>\n",
       "      <td id=\"T_1f7ef_row15_col4\" class=\"data row15 col4\" >63,900.00</td>\n",
       "      <td id=\"T_1f7ef_row15_col5\" class=\"data row15 col5\" >RD05pct</td>\n",
       "      <td id=\"T_1f7ef_row15_col6\" class=\"data row15 col6\" >SET</td>\n",
       "      <td id=\"T_1f7ef_row15_col7\" class=\"data row15 col7\" >2</td>\n",
       "    </tr>\n",
       "    <tr>\n",
       "      <th id=\"T_1f7ef_level0_row16\" class=\"row_heading level0 row16\" >16</th>\n",
       "      <td id=\"T_1f7ef_row16_col0\" class=\"data row16 col0\" >B</td>\n",
       "      <td id=\"T_1f7ef_row16_col1\" class=\"data row16 col1\" >TVO</td>\n",
       "      <td id=\"T_1f7ef_row16_col2\" class=\"data row16 col2\" >3,600</td>\n",
       "      <td id=\"T_1f7ef_row16_col3\" class=\"data row16 col3\" >30.00</td>\n",
       "      <td id=\"T_1f7ef_row16_col4\" class=\"data row16 col4\" >108,000.00</td>\n",
       "      <td id=\"T_1f7ef_row16_col5\" class=\"data row16 col5\" >DOS</td>\n",
       "      <td id=\"T_1f7ef_row16_col6\" class=\"data row16 col6\" >SET100</td>\n",
       "      <td id=\"T_1f7ef_row16_col7\" class=\"data row16 col7\" >1</td>\n",
       "    </tr>\n",
       "    <tr>\n",
       "      <th id=\"T_1f7ef_level0_row17\" class=\"row_heading level0 row17\" >17</th>\n",
       "      <td id=\"T_1f7ef_row17_col0\" class=\"data row17 col0\" >B</td>\n",
       "      <td id=\"T_1f7ef_row17_col1\" class=\"data row17 col1\" >TYCN</td>\n",
       "      <td id=\"T_1f7ef_row17_col2\" class=\"data row17 col2\" >8,000</td>\n",
       "      <td id=\"T_1f7ef_row17_col3\" class=\"data row17 col3\" >3.32</td>\n",
       "      <td id=\"T_1f7ef_row17_col4\" class=\"data row17 col4\" >26,560.00</td>\n",
       "      <td id=\"T_1f7ef_row17_col5\" class=\"data row17 col5\" >RD10pct</td>\n",
       "      <td id=\"T_1f7ef_row17_col6\" class=\"data row17 col6\" >SET</td>\n",
       "      <td id=\"T_1f7ef_row17_col7\" class=\"data row17 col7\" >1</td>\n",
       "    </tr>\n",
       "    <tr>\n",
       "      <th id=\"T_1f7ef_level0_row18\" class=\"row_heading level0 row18\" >18</th>\n",
       "      <td id=\"T_1f7ef_row18_col0\" class=\"data row18 col0\" >S</td>\n",
       "      <td id=\"T_1f7ef_row18_col1\" class=\"data row18 col1\" >CKP</td>\n",
       "      <td id=\"T_1f7ef_row18_col2\" class=\"data row18 col2\" >10,000</td>\n",
       "      <td id=\"T_1f7ef_row18_col3\" class=\"data row18 col3\" >5.50</td>\n",
       "      <td id=\"T_1f7ef_row18_col4\" class=\"data row18 col4\" >55,000.00</td>\n",
       "      <td id=\"T_1f7ef_row18_col5\" class=\"data row18 col5\" >10pct</td>\n",
       "      <td id=\"T_1f7ef_row18_col6\" class=\"data row18 col6\" >SET100</td>\n",
       "      <td id=\"T_1f7ef_row18_col7\" class=\"data row18 col7\" >0</td>\n",
       "    </tr>\n",
       "    <tr>\n",
       "      <th id=\"T_1f7ef_level0_row19\" class=\"row_heading level0 row19\" >19</th>\n",
       "      <td id=\"T_1f7ef_row19_col0\" class=\"data row19 col0\" >S</td>\n",
       "      <td id=\"T_1f7ef_row19_col1\" class=\"data row19 col1\" >GLOBAL</td>\n",
       "      <td id=\"T_1f7ef_row19_col2\" class=\"data row19 col2\" >2,500</td>\n",
       "      <td id=\"T_1f7ef_row19_col3\" class=\"data row19 col3\" >21.00</td>\n",
       "      <td id=\"T_1f7ef_row19_col4\" class=\"data row19 col4\" >52,500.00</td>\n",
       "      <td id=\"T_1f7ef_row19_col5\" class=\"data row19 col5\" >5pct</td>\n",
       "      <td id=\"T_1f7ef_row19_col6\" class=\"data row19 col6\" >SET50</td>\n",
       "      <td id=\"T_1f7ef_row19_col7\" class=\"data row19 col7\" >1</td>\n",
       "    </tr>\n",
       "    <tr>\n",
       "      <th id=\"T_1f7ef_level0_row20\" class=\"row_heading level0 row20\" >20</th>\n",
       "      <td id=\"T_1f7ef_row20_col0\" class=\"data row20 col0\" >S</td>\n",
       "      <td id=\"T_1f7ef_row20_col1\" class=\"data row20 col1\" >IP</td>\n",
       "      <td id=\"T_1f7ef_row20_col2\" class=\"data row20 col2\" >1,500</td>\n",
       "      <td id=\"T_1f7ef_row20_col3\" class=\"data row20 col3\" >23.20</td>\n",
       "      <td id=\"T_1f7ef_row20_col4\" class=\"data row20 col4\" >34,800.00</td>\n",
       "      <td id=\"T_1f7ef_row20_col5\" class=\"data row20 col5\" >15pct</td>\n",
       "      <td id=\"T_1f7ef_row20_col6\" class=\"data row20 col6\" >mai</td>\n",
       "      <td id=\"T_1f7ef_row20_col7\" class=\"data row20 col7\" >1</td>\n",
       "    </tr>\n",
       "    <tr>\n",
       "      <th id=\"T_1f7ef_level0_row21\" class=\"row_heading level0 row21\" >21</th>\n",
       "      <td id=\"T_1f7ef_row21_col0\" class=\"data row21 col0\" >S</td>\n",
       "      <td id=\"T_1f7ef_row21_col1\" class=\"data row21 col1\" >IVL</td>\n",
       "      <td id=\"T_1f7ef_row21_col2\" class=\"data row21 col2\" >3,000</td>\n",
       "      <td id=\"T_1f7ef_row21_col3\" class=\"data row21 col3\" >49.00</td>\n",
       "      <td id=\"T_1f7ef_row21_col4\" class=\"data row21 col4\" >147,000.00</td>\n",
       "      <td id=\"T_1f7ef_row21_col5\" class=\"data row21 col5\" >20pct</td>\n",
       "      <td id=\"T_1f7ef_row21_col6\" class=\"data row21 col6\" >SET50</td>\n",
       "      <td id=\"T_1f7ef_row21_col7\" class=\"data row21 col7\" >1</td>\n",
       "    </tr>\n",
       "    <tr>\n",
       "      <th id=\"T_1f7ef_level0_row22\" class=\"row_heading level0 row22\" >22</th>\n",
       "      <td id=\"T_1f7ef_row22_col0\" class=\"data row22 col0\" >S</td>\n",
       "      <td id=\"T_1f7ef_row22_col1\" class=\"data row22 col1\" >LPF</td>\n",
       "      <td id=\"T_1f7ef_row22_col2\" class=\"data row22 col2\" >10,000</td>\n",
       "      <td id=\"T_1f7ef_row22_col3\" class=\"data row22 col3\" >14.30</td>\n",
       "      <td id=\"T_1f7ef_row22_col4\" class=\"data row22 col4\" >143,000.00</td>\n",
       "      <td id=\"T_1f7ef_row22_col5\" class=\"data row22 col5\" >DOS</td>\n",
       "      <td id=\"T_1f7ef_row22_col6\" class=\"data row22 col6\" >SET</td>\n",
       "      <td id=\"T_1f7ef_row22_col7\" class=\"data row22 col7\" >1</td>\n",
       "    </tr>\n",
       "    <tr>\n",
       "      <th id=\"T_1f7ef_level0_row23\" class=\"row_heading level0 row23\" >23</th>\n",
       "      <td id=\"T_1f7ef_row23_col0\" class=\"data row23 col0\" >S</td>\n",
       "      <td id=\"T_1f7ef_row23_col1\" class=\"data row23 col1\" >NER</td>\n",
       "      <td id=\"T_1f7ef_row23_col2\" class=\"data row23 col2\" >9,000</td>\n",
       "      <td id=\"T_1f7ef_row23_col3\" class=\"data row23 col3\" >7.80</td>\n",
       "      <td id=\"T_1f7ef_row23_col4\" class=\"data row23 col4\" >70,200.00</td>\n",
       "      <td id=\"T_1f7ef_row23_col5\" class=\"data row23 col5\" >5pct</td>\n",
       "      <td id=\"T_1f7ef_row23_col6\" class=\"data row23 col6\" >SET</td>\n",
       "      <td id=\"T_1f7ef_row23_col7\" class=\"data row23 col7\" >1</td>\n",
       "    </tr>\n",
       "    <tr>\n",
       "      <th id=\"T_1f7ef_level0_row24\" class=\"row_heading level0 row24\" >24</th>\n",
       "      <td id=\"T_1f7ef_row24_col0\" class=\"data row24 col0\" >S</td>\n",
       "      <td id=\"T_1f7ef_row24_col1\" class=\"data row24 col1\" >RJH</td>\n",
       "      <td id=\"T_1f7ef_row24_col2\" class=\"data row24 col2\" >1,500</td>\n",
       "      <td id=\"T_1f7ef_row24_col3\" class=\"data row24 col3\" >36.25</td>\n",
       "      <td id=\"T_1f7ef_row24_col4\" class=\"data row24 col4\" >54,375.00</td>\n",
       "      <td id=\"T_1f7ef_row24_col5\" class=\"data row24 col5\" >10pct</td>\n",
       "      <td id=\"T_1f7ef_row24_col6\" class=\"data row24 col6\" >SET</td>\n",
       "      <td id=\"T_1f7ef_row24_col7\" class=\"data row24 col7\" >0</td>\n",
       "    </tr>\n",
       "    <tr>\n",
       "      <th id=\"T_1f7ef_level0_row25\" class=\"row_heading level0 row25\" >25</th>\n",
       "      <td id=\"T_1f7ef_row25_col0\" class=\"data row25 col0\" >S</td>\n",
       "      <td id=\"T_1f7ef_row25_col1\" class=\"data row25 col1\" >SIS</td>\n",
       "      <td id=\"T_1f7ef_row25_col2\" class=\"data row25 col2\" >1,500</td>\n",
       "      <td id=\"T_1f7ef_row25_col3\" class=\"data row25 col3\" >46.50</td>\n",
       "      <td id=\"T_1f7ef_row25_col4\" class=\"data row25 col4\" >69,750.00</td>\n",
       "      <td id=\"T_1f7ef_row25_col5\" class=\"data row25 col5\" >15pct</td>\n",
       "      <td id=\"T_1f7ef_row25_col6\" class=\"data row25 col6\" >SET</td>\n",
       "      <td id=\"T_1f7ef_row25_col7\" class=\"data row25 col7\" >1</td>\n",
       "    </tr>\n",
       "    <tr>\n",
       "      <th id=\"T_1f7ef_level0_row26\" class=\"row_heading level0 row26\" >26</th>\n",
       "      <td id=\"T_1f7ef_row26_col0\" class=\"data row26 col0\" >S</td>\n",
       "      <td id=\"T_1f7ef_row26_col1\" class=\"data row26 col1\" >WHART</td>\n",
       "      <td id=\"T_1f7ef_row26_col2\" class=\"data row26 col2\" >10,000</td>\n",
       "      <td id=\"T_1f7ef_row26_col3\" class=\"data row26 col3\" >12.80</td>\n",
       "      <td id=\"T_1f7ef_row26_col4\" class=\"data row26 col4\" >128,000.00</td>\n",
       "      <td id=\"T_1f7ef_row26_col5\" class=\"data row26 col5\" >DOS</td>\n",
       "      <td id=\"T_1f7ef_row26_col6\" class=\"data row26 col6\" >SET</td>\n",
       "      <td id=\"T_1f7ef_row26_col7\" class=\"data row26 col7\" >1</td>\n",
       "    </tr>\n",
       "  </tbody>\n",
       "</table>\n"
      ],
      "text/plain": [
       "<pandas.io.formats.style.Styler at 0x21b8d02f4f0>"
      ]
     },
     "execution_count": 4,
     "metadata": {},
     "output_type": "execute_result"
    }
   ],
   "source": [
    "sql = '''\n",
    "SELECT trade, name, qty, price, qty * price AS amount, reason, market, active\n",
    "FROM orders\n",
    "ORDER BY trade, name'''\n",
    "orders = pd.read_sql(sql, conlite)\n",
    "orders.sort_values(['trade','name'],ascending=[True,True]).style.format(format_dict)"
   ]
  },
  {
   "cell_type": "code",
   "execution_count": 5,
   "metadata": {},
   "outputs": [
    {
     "data": {
      "text/plain": [
       "(54, 18)"
      ]
     },
     "execution_count": 5,
     "metadata": {},
     "output_type": "execute_result"
    }
   ],
   "source": [
    "sql = \"\"\"\n",
    "SELECT *\n",
    "FROM stocks\n",
    "\"\"\"\n",
    "stocks = pd.read_sql(sql, conlite)\n",
    "stocks.shape"
   ]
  },
  {
   "cell_type": "code",
   "execution_count": 6,
   "metadata": {},
   "outputs": [
    {
     "data": {
      "text/plain": [
       "(27, 25)"
      ]
     },
     "execution_count": 6,
     "metadata": {},
     "output_type": "execute_result"
    }
   ],
   "source": [
    "df_merge = pd.merge(orders,stocks,on='name',how='inner')\n",
    "df_merge.shape"
   ]
  },
  {
   "cell_type": "code",
   "execution_count": 7,
   "metadata": {},
   "outputs": [
    {
     "data": {
      "text/html": [
       "<style type=\"text/css\">\n",
       "</style>\n",
       "<table id=\"T_b442a_\">\n",
       "  <thead>\n",
       "    <tr>\n",
       "      <th class=\"blank level0\" >&nbsp;</th>\n",
       "      <th class=\"col_heading level0 col0\" >trade</th>\n",
       "      <th class=\"col_heading level0 col1\" >name</th>\n",
       "      <th class=\"col_heading level0 col2\" >qty_x</th>\n",
       "      <th class=\"col_heading level0 col3\" >price</th>\n",
       "      <th class=\"col_heading level0 col4\" >reason_x</th>\n",
       "      <th class=\"col_heading level0 col5\" >qty_y</th>\n",
       "      <th class=\"col_heading level0 col6\" >buy_target</th>\n",
       "      <th class=\"col_heading level0 col7\" >sell_target</th>\n",
       "      <th class=\"col_heading level0 col8\" >reason_y</th>\n",
       "    </tr>\n",
       "  </thead>\n",
       "  <tbody>\n",
       "    <tr>\n",
       "      <th id=\"T_b442a_level0_row0\" class=\"row_heading level0 row0\" >15</th>\n",
       "      <td id=\"T_b442a_row0_col0\" class=\"data row0 col0\" >B</td>\n",
       "      <td id=\"T_b442a_row0_col1\" class=\"data row0 col1\" >TSTH</td>\n",
       "      <td id=\"T_b442a_row0_col2\" class=\"data row0 col2\" >45,000</td>\n",
       "      <td id=\"T_b442a_row0_col3\" class=\"data row0 col3\" >1.42</td>\n",
       "      <td id=\"T_b442a_row0_col4\" class=\"data row0 col4\" >RD05pct</td>\n",
       "      <td id=\"T_b442a_row0_col5\" class=\"data row0 col5\" >75,000</td>\n",
       "      <td id=\"T_b442a_row0_col6\" class=\"data row0 col6\" >1.42</td>\n",
       "      <td id=\"T_b442a_row0_col7\" class=\"data row0 col7\" >1.52</td>\n",
       "      <td id=\"T_b442a_row0_col8\" class=\"data row0 col8\" >CP1S</td>\n",
       "    </tr>\n",
       "    <tr>\n",
       "      <th id=\"T_b442a_level0_row1\" class=\"row_heading level0 row1\" >25</th>\n",
       "      <td id=\"T_b442a_row1_col0\" class=\"data row1 col0\" >S</td>\n",
       "      <td id=\"T_b442a_row1_col1\" class=\"data row1 col1\" >SIS</td>\n",
       "      <td id=\"T_b442a_row1_col2\" class=\"data row1 col2\" >1,500</td>\n",
       "      <td id=\"T_b442a_row1_col3\" class=\"data row1 col3\" >46.50</td>\n",
       "      <td id=\"T_b442a_row1_col4\" class=\"data row1 col4\" >15pct</td>\n",
       "      <td id=\"T_b442a_row1_col5\" class=\"data row1 col5\" >3,000</td>\n",
       "      <td id=\"T_b442a_row1_col6\" class=\"data row1 col6\" >0.00</td>\n",
       "      <td id=\"T_b442a_row1_col7\" class=\"data row1 col7\" >46.50</td>\n",
       "      <td id=\"T_b442a_row1_col8\" class=\"data row1 col8\" >15pct</td>\n",
       "    </tr>\n",
       "  </tbody>\n",
       "</table>\n"
      ],
      "text/plain": [
       "<pandas.io.formats.style.Styler at 0x21b90ac45b0>"
      ]
     },
     "execution_count": 7,
     "metadata": {},
     "output_type": "execute_result"
    }
   ],
   "source": [
    "qty_mask = (df_merge.qty_x != df_merge.qty_y)\n",
    "df_merge[qty_mask][cols].style.format(format_dict)"
   ]
  },
  {
   "cell_type": "code",
   "execution_count": 8,
   "metadata": {},
   "outputs": [
    {
     "data": {
      "text/html": [
       "<style type=\"text/css\">\n",
       "</style>\n",
       "<table id=\"T_ab164_\">\n",
       "  <thead>\n",
       "    <tr>\n",
       "      <th class=\"blank level0\" >&nbsp;</th>\n",
       "      <th class=\"col_heading level0 col0\" >trade</th>\n",
       "      <th class=\"col_heading level0 col1\" >name</th>\n",
       "      <th class=\"col_heading level0 col2\" >qty_x</th>\n",
       "      <th class=\"col_heading level0 col3\" >price</th>\n",
       "      <th class=\"col_heading level0 col4\" >reason_x</th>\n",
       "      <th class=\"col_heading level0 col5\" >qty_y</th>\n",
       "      <th class=\"col_heading level0 col6\" >buy_target</th>\n",
       "      <th class=\"col_heading level0 col7\" >sell_target</th>\n",
       "      <th class=\"col_heading level0 col8\" >reason_y</th>\n",
       "    </tr>\n",
       "  </thead>\n",
       "  <tbody>\n",
       "  </tbody>\n",
       "</table>\n"
      ],
      "text/plain": [
       "<pandas.io.formats.style.Styler at 0x21b90ac40a0>"
      ]
     },
     "execution_count": 8,
     "metadata": {},
     "output_type": "execute_result"
    }
   ],
   "source": [
    "buy_price_mask = (df_merge.price != df_merge.buy_target) & (df_merge.trade == 'B')\n",
    "df_merge[buy_price_mask][cols].style.format(format_dict)"
   ]
  },
  {
   "cell_type": "code",
   "execution_count": 9,
   "metadata": {},
   "outputs": [
    {
     "data": {
      "text/html": [
       "<style type=\"text/css\">\n",
       "</style>\n",
       "<table id=\"T_5eac5_\">\n",
       "  <thead>\n",
       "    <tr>\n",
       "      <th class=\"blank level0\" >&nbsp;</th>\n",
       "      <th class=\"col_heading level0 col0\" >trade</th>\n",
       "      <th class=\"col_heading level0 col1\" >name</th>\n",
       "      <th class=\"col_heading level0 col2\" >qty_x</th>\n",
       "      <th class=\"col_heading level0 col3\" >price</th>\n",
       "      <th class=\"col_heading level0 col4\" >reason_x</th>\n",
       "      <th class=\"col_heading level0 col5\" >qty_y</th>\n",
       "      <th class=\"col_heading level0 col6\" >buy_target</th>\n",
       "      <th class=\"col_heading level0 col7\" >sell_target</th>\n",
       "      <th class=\"col_heading level0 col8\" >reason_y</th>\n",
       "    </tr>\n",
       "  </thead>\n",
       "  <tbody>\n",
       "    <tr>\n",
       "      <th id=\"T_5eac5_level0_row0\" class=\"row_heading level0 row0\" >21</th>\n",
       "      <td id=\"T_5eac5_row0_col0\" class=\"data row0 col0\" >S</td>\n",
       "      <td id=\"T_5eac5_row0_col1\" class=\"data row0 col1\" >IVL</td>\n",
       "      <td id=\"T_5eac5_row0_col2\" class=\"data row0 col2\" >3,000</td>\n",
       "      <td id=\"T_5eac5_row0_col3\" class=\"data row0 col3\" >49.00</td>\n",
       "      <td id=\"T_5eac5_row0_col4\" class=\"data row0 col4\" >20pct</td>\n",
       "      <td id=\"T_5eac5_row0_col5\" class=\"data row0 col5\" >3,000</td>\n",
       "      <td id=\"T_5eac5_row0_col6\" class=\"data row0 col6\" >0.00</td>\n",
       "      <td id=\"T_5eac5_row0_col7\" class=\"data row0 col7\" >46.25</td>\n",
       "      <td id=\"T_5eac5_row0_col8\" class=\"data row0 col8\" >10pct</td>\n",
       "    </tr>\n",
       "  </tbody>\n",
       "</table>\n"
      ],
      "text/plain": [
       "<pandas.io.formats.style.Styler at 0x21b90ae68e0>"
      ]
     },
     "execution_count": 9,
     "metadata": {},
     "output_type": "execute_result"
    }
   ],
   "source": [
    "sell_price_mask = (df_merge.price != df_merge.sell_target) & (df_merge.trade == 'S')\n",
    "df_merge[sell_price_mask][cols].style.format(format_dict)"
   ]
  },
  {
   "cell_type": "code",
   "execution_count": 10,
   "metadata": {
    "scrolled": true
   },
   "outputs": [
    {
     "data": {
      "text/html": [
       "<style type=\"text/css\">\n",
       "</style>\n",
       "<table id=\"T_9a8fa_\">\n",
       "  <thead>\n",
       "    <tr>\n",
       "      <th class=\"blank level0\" >&nbsp;</th>\n",
       "      <th class=\"col_heading level0 col0\" >trade</th>\n",
       "      <th class=\"col_heading level0 col1\" >name</th>\n",
       "      <th class=\"col_heading level0 col2\" >qty_x</th>\n",
       "      <th class=\"col_heading level0 col3\" >price</th>\n",
       "      <th class=\"col_heading level0 col4\" >reason_x</th>\n",
       "      <th class=\"col_heading level0 col5\" >qty_y</th>\n",
       "      <th class=\"col_heading level0 col6\" >buy_target</th>\n",
       "      <th class=\"col_heading level0 col7\" >sell_target</th>\n",
       "      <th class=\"col_heading level0 col8\" >reason_y</th>\n",
       "    </tr>\n",
       "  </thead>\n",
       "  <tbody>\n",
       "    <tr>\n",
       "      <th id=\"T_9a8fa_level0_row0\" class=\"row_heading level0 row0\" >0</th>\n",
       "      <td id=\"T_9a8fa_row0_col0\" class=\"data row0 col0\" >B</td>\n",
       "      <td id=\"T_9a8fa_row0_col1\" class=\"data row0 col1\" >AEONTS</td>\n",
       "      <td id=\"T_9a8fa_row0_col2\" class=\"data row0 col2\" >1,200</td>\n",
       "      <td id=\"T_9a8fa_row0_col3\" class=\"data row0 col3\" >180.00</td>\n",
       "      <td id=\"T_9a8fa_row0_col4\" class=\"data row0 col4\" >1L</td>\n",
       "      <td id=\"T_9a8fa_row0_col5\" class=\"data row0 col5\" >1,200</td>\n",
       "      <td id=\"T_9a8fa_row0_col6\" class=\"data row0 col6\" >180.00</td>\n",
       "      <td id=\"T_9a8fa_row0_col7\" class=\"data row0 col7\" >0.00</td>\n",
       "      <td id=\"T_9a8fa_row0_col8\" class=\"data row0 col8\" >3L</td>\n",
       "    </tr>\n",
       "    <tr>\n",
       "      <th id=\"T_9a8fa_level0_row1\" class=\"row_heading level0 row1\" >9</th>\n",
       "      <td id=\"T_9a8fa_row1_col0\" class=\"data row1 col0\" >B</td>\n",
       "      <td id=\"T_9a8fa_row1_col1\" class=\"data row1 col1\" >SMT</td>\n",
       "      <td id=\"T_9a8fa_row1_col2\" class=\"data row1 col2\" >18,000</td>\n",
       "      <td id=\"T_9a8fa_row1_col3\" class=\"data row1 col3\" >5.00</td>\n",
       "      <td id=\"T_9a8fa_row1_col4\" class=\"data row1 col4\" >None</td>\n",
       "      <td id=\"T_9a8fa_row1_col5\" class=\"data row1 col5\" >18,000</td>\n",
       "      <td id=\"T_9a8fa_row1_col6\" class=\"data row1 col6\" >5.00</td>\n",
       "      <td id=\"T_9a8fa_row1_col7\" class=\"data row1 col7\" >0.00</td>\n",
       "      <td id=\"T_9a8fa_row1_col8\" class=\"data row1 col8\" >6L</td>\n",
       "    </tr>\n",
       "    <tr>\n",
       "      <th id=\"T_9a8fa_level0_row2\" class=\"row_heading level0 row2\" >13</th>\n",
       "      <td id=\"T_9a8fa_row2_col0\" class=\"data row2 col0\" >B</td>\n",
       "      <td id=\"T_9a8fa_row2_col1\" class=\"data row2 col1\" >TOP</td>\n",
       "      <td id=\"T_9a8fa_row2_col2\" class=\"data row2 col2\" >3,000</td>\n",
       "      <td id=\"T_9a8fa_row2_col3\" class=\"data row2 col3\" >51.00</td>\n",
       "      <td id=\"T_9a8fa_row2_col4\" class=\"data row2 col4\" >RU05pct</td>\n",
       "      <td id=\"T_9a8fa_row2_col5\" class=\"data row2 col5\" >3,000</td>\n",
       "      <td id=\"T_9a8fa_row2_col6\" class=\"data row2 col6\" >51.00</td>\n",
       "      <td id=\"T_9a8fa_row2_col7\" class=\"data row2 col7\" >55.00</td>\n",
       "      <td id=\"T_9a8fa_row2_col8\" class=\"data row2 col8\" >ROUND</td>\n",
       "    </tr>\n",
       "    <tr>\n",
       "      <th id=\"T_9a8fa_level0_row3\" class=\"row_heading level0 row3\" >15</th>\n",
       "      <td id=\"T_9a8fa_row3_col0\" class=\"data row3 col0\" >B</td>\n",
       "      <td id=\"T_9a8fa_row3_col1\" class=\"data row3 col1\" >TSTH</td>\n",
       "      <td id=\"T_9a8fa_row3_col2\" class=\"data row3 col2\" >45,000</td>\n",
       "      <td id=\"T_9a8fa_row3_col3\" class=\"data row3 col3\" >1.42</td>\n",
       "      <td id=\"T_9a8fa_row3_col4\" class=\"data row3 col4\" >RD05pct</td>\n",
       "      <td id=\"T_9a8fa_row3_col5\" class=\"data row3 col5\" >75,000</td>\n",
       "      <td id=\"T_9a8fa_row3_col6\" class=\"data row3 col6\" >1.42</td>\n",
       "      <td id=\"T_9a8fa_row3_col7\" class=\"data row3 col7\" >1.52</td>\n",
       "      <td id=\"T_9a8fa_row3_col8\" class=\"data row3 col8\" >CP1S</td>\n",
       "    </tr>\n",
       "    <tr>\n",
       "      <th id=\"T_9a8fa_level0_row4\" class=\"row_heading level0 row4\" >21</th>\n",
       "      <td id=\"T_9a8fa_row4_col0\" class=\"data row4 col0\" >S</td>\n",
       "      <td id=\"T_9a8fa_row4_col1\" class=\"data row4 col1\" >IVL</td>\n",
       "      <td id=\"T_9a8fa_row4_col2\" class=\"data row4 col2\" >3,000</td>\n",
       "      <td id=\"T_9a8fa_row4_col3\" class=\"data row4 col3\" >49.00</td>\n",
       "      <td id=\"T_9a8fa_row4_col4\" class=\"data row4 col4\" >20pct</td>\n",
       "      <td id=\"T_9a8fa_row4_col5\" class=\"data row4 col5\" >3,000</td>\n",
       "      <td id=\"T_9a8fa_row4_col6\" class=\"data row4 col6\" >0.00</td>\n",
       "      <td id=\"T_9a8fa_row4_col7\" class=\"data row4 col7\" >46.25</td>\n",
       "      <td id=\"T_9a8fa_row4_col8\" class=\"data row4 col8\" >10pct</td>\n",
       "    </tr>\n",
       "  </tbody>\n",
       "</table>\n"
      ],
      "text/plain": [
       "<pandas.io.formats.style.Styler at 0x21b90ae67c0>"
      ]
     },
     "execution_count": 10,
     "metadata": {},
     "output_type": "execute_result"
    }
   ],
   "source": [
    "reason_mask = (df_merge.reason_x != df_merge.reason_y)\n",
    "df_merge[reason_mask][cols].style.format(format_dict)"
   ]
  },
  {
   "cell_type": "markdown",
   "metadata": {},
   "source": [
    "### End of Loop process"
   ]
  },
  {
   "cell_type": "code",
   "execution_count": 11,
   "metadata": {},
   "outputs": [],
   "source": [
    "file_name = 'orders.csv'\n",
    "data_file = data_path + file_name\n",
    "output_file = csv_path + file_name\n",
    "box_file = box_path + file_name\n",
    "data_file, output_file, box_file\n",
    "\n",
    "orders[colt].to_csv(output_file, header=True, index=False)\n",
    "orders[colt].to_csv(data_file,   header=True, index=False)\n",
    "orders[colt].to_csv(box_file,    header=True, index=False)"
   ]
  },
  {
   "cell_type": "markdown",
   "metadata": {},
   "source": [
    "### After call ord-log"
   ]
  },
  {
   "cell_type": "code",
   "execution_count": 12,
   "metadata": {},
   "outputs": [],
   "source": [
    "def categorise(row):  \n",
    "    if row['col0'] == 'B':\n",
    "        return 'Buy'\n",
    "    else:\n",
    "        return 'Sell'"
   ]
  },
  {
   "cell_type": "code",
   "execution_count": 13,
   "metadata": {},
   "outputs": [
    {
     "data": {
      "text/plain": [
       "(28, 11)"
      ]
     },
     "execution_count": 13,
     "metadata": {},
     "output_type": "execute_result"
    }
   ],
   "source": [
    "df = pd.read_csv('../data/orders-log.csv', header=None, prefix = 'col',usecols=[0,1,2,3,4,5,6,7,8,9])\n",
    "df.rename(columns = {'col1': 'name', 'col2': 'spd','col3': 'reason', 'col4': 'market','col5': 'qty', 'col6': 'target','col7': 'current', 'col8': 'chg', 'col9': 'percent'}, inplace = True)\n",
    "df['trans'] = df.apply(lambda row: categorise(row), axis=1)\n",
    "df.shape"
   ]
  },
  {
   "cell_type": "code",
   "execution_count": 14,
   "metadata": {
    "scrolled": false
   },
   "outputs": [
    {
     "data": {
      "application/javascript": [
       "require.config({\n",
       "    paths: {\n",
       "        datatables: 'https://cdn.datatables.net/1.10.19/js/jquery.dataTables.min',\n",
       "    }\n",
       "});\n",
       "\n",
       "$('head').append('<link rel=\"stylesheet\" type=\"text/css\" \\\n",
       "                href = \"https://cdn.datatables.net/1.10.19/css/jquery.dataTables.min.css\" > ');\n",
       "\n",
       "$('head').append('<style> table td { text-overflow: ellipsis; overflow: hidden; } </style>');\n",
       "\n",
       "$('head').append(`<script>\n",
       "function eval_functions(map_or_text) {\n",
       "    if (typeof map_or_text === \"string\") {\n",
       "        if (map_or_text.startsWith(\"function\")) {\n",
       "            try {\n",
       "                // Note: parenthesis are required around the whole expression for eval to return a value!\n",
       "                // See https://stackoverflow.com/a/7399078/911298.\n",
       "                //\n",
       "                // eval(\"local_fun = \" + map_or_text) would fail because local_fun is not declared\n",
       "                // (using var, let or const would work, but it would only be declared in the local scope\n",
       "                // and therefore the value could not be retrieved).\n",
       "                const func = eval(\"(\" + map_or_text + \")\");\n",
       "                if (typeof func !== \"function\") {\n",
       "                    // Note: backquotes are super convenient!\n",
       "                    // https://developer.mozilla.org/en-US/docs/Web/JavaScript/Reference/Template_literals\n",
       "                    console.error(\"Evaluated expression \" + map_or_text + \" is not a function (type is \" + typeof func + \")\");\n",
       "                    return map_or_text;\n",
       "                }\n",
       "                // Return the function\n",
       "                return func;\n",
       "            } catch (e) {\n",
       "                // Make sure to print the error with a second argument to console.error().\n",
       "                console.error(\"itables was not able to parse \" + map_or_text, e);\n",
       "            }\n",
       "        }\n",
       "    } else if (typeof map_or_text === \"object\") {\n",
       "        if (map_or_text instanceof Array) {\n",
       "            // Note: \"var\" is now superseded by \"let\" and \"const\".\n",
       "            // https://medium.com/javascript-scene/javascript-es6-var-let-or-const-ba58b8dcde75\n",
       "            const result = [];\n",
       "            // Note: \"for of\" is the best way to iterate through an iterable.\n",
       "            // https://developer.mozilla.org/en-US/docs/Web/JavaScript/Reference/Statements/for...of\n",
       "            for (const item of map_or_text) {\n",
       "                result.push(eval_functions(item));\n",
       "            }\n",
       "            return result;\n",
       "\n",
       "            // Alternatively, more functional approach in one line:\n",
       "            // return map_or_text.map(eval_functions);\n",
       "        } else {\n",
       "            const result = {};\n",
       "            // Object.keys() is safer than \"for in\" because otherwise you might have keys\n",
       "            // that aren't defined in the object itself.\n",
       "            //\n",
       "            // See https://stackoverflow.com/a/684692/911298.\n",
       "            for (const item of Object.keys(map_or_text)) {\n",
       "                result[item] = eval_functions(map_or_text[item]);\n",
       "            }\n",
       "            return result;\n",
       "        }\n",
       "    }\n",
       "\n",
       "    return map_or_text;\n",
       "}\n",
       "\n",
       "</` + 'script>');"
      ],
      "text/plain": [
       "<IPython.core.display.Javascript object>"
      ]
     },
     "metadata": {},
     "output_type": "display_data"
    },
    {
     "data": {
      "text/html": [
       "<div><table id=\"fda19657-1ddc-44d6-8534-f5e6d565f228\" class=\"display\"><thead>\n",
       "    <tr style=\"text-align: right;\">\n",
       "      \n",
       "      <th>trans</th>\n",
       "      <th>name</th>\n",
       "      <th>spd</th>\n",
       "      <th>reason</th>\n",
       "      <th>qty</th>\n",
       "      <th>target</th>\n",
       "      <th>current</th>\n",
       "      <th>chg</th>\n",
       "      <th>percent</th>\n",
       "    </tr>\n",
       "  </thead></table>\n",
       "<script type=\"text/javascript\">\n",
       "require([\"datatables\"], function (datatables) {\n",
       "    $(document).ready(function () {\n",
       "        var dt_args = {\"columnDefs\": [{\"width\": \"70px\", \"targets\": \"_all\"}], \"data\": [[\"Sell\", \"name\", \"spd\", \"reason\", \"qty\", \"target\", \"current\", \"change\", \"percent\"], [\"Buy\", \"AEONTS\", \"-5\", \"1L\", \"1200\", \"180.0\", \"182.50\", \"-0.50\", \"-0.27%\"], [\"Buy\", \"BGC\", \"-7\", \"DOS\", \"10000\", \"10.0\", \"10.70\", \"+0.10\", \"+0.94%\"], [\"Buy\", \"NOBLE\", \"-9\", \"RD15%\", \"21000\", \"5.85\", \"6.30\", \"0.00\", \"0.00%\"], [\"Buy\", \"PTT\", \"-9\", \"RD05%\", \"3000\", \"36.5\", \"38.75\", \"-0.75\", \"-1.90%\"], [\"Buy\", \"PTTGC\", \"-12\", \"RD10pct\", \"1200\", \"54.25\", \"57.25\", \"-0.50\", \"-0.87%\"], [\"Buy\", \"RATCH\", \"-5\", \"RD05%\", \"3000\", \"42.75\", \"44.00\", \"0.00\", \"0.00%\"], [\"Buy\", \"RCL\", \"-6\", \"RD05pct\", \"1500\", \"41.5\", \"43.00\", \"-2.00\", \"-4.44%\"], [\"Buy\", \"ROJNA\", \"-5\", \"6L\", \"18000\", \"6.3\", \"6.55\", \"0.00\", \"0.00%\"], [\"Buy\", \"SCC\", \"-4\", \"RD05pct\", \"300\", \"374.0\", \"378.00\", \"-2.00\", \"-0.53%\"], [\"Buy\", \"SMT\", \"-7\", \"nan\", \"18000\", \"5.0\", \"5.35\", \"-0.30\", \"-5.31%\"], [\"Buy\", \"STA\", \"-5\", \"RD15%\", \"2500\", \"28.0\", \"29.25\", \"0.00\", \"0.00%\"], [\"Buy\", \"STARK\", \"-17\", \"6L\", \"24000\", \"4.24\", \"4.58\", \"+0.08\", \"+1.78%\"], [\"Buy\", \"SYNEX\", \"-10\", \"RD10pct\", \"1500\", \"27.5\", \"30.00\", \"-0.25\", \"-0.83%\"], [\"Buy\", \"TOP\", \"-6\", \"RU05pct\", \"3000\", \"51.0\", \"52.50\", \"-1.00\", \"-1.87%\"], [\"Buy\", \"TQM\", \"-6\", \"3L\", \"4500\", \"46.0\", \"47.50\", \"-0.25\", \"-0.52%\"], [\"Buy\", \"TSTH\", \"-4\", \"RD05pct\", \"45000\", \"1.42\", \"1.46\", \"-0.15\", \"-9.32%\"], [\"Buy\", \"TVO\", \"-7\", \"DOS\", \"3600\", \"30.0\", \"31.75\", \"+0.25\", \"+0.79%\"], [\"Buy\", \"TYCN\", \"-8\", \"RD10pct\", \"8000\", \"3.32\", \"3.48\", \"-0.06\", \"-1.69%\"], [\"Sell\", \"CKP\", \"10\", \"10pct\", \"10000\", \"5.5\", \"5.00\", \"+0.02\", \"+0.40%\"], [\"Sell\", \"GLOBAL\", \"10\", \"5pct\", \"2500\", \"21.0\", \"20.00\", \"0.00\", \"0.00%\"], [\"Sell\", \"IP\", \"22\", \"15pct\", \"1500\", \"23.2\", \"21.00\", \"+0.10\", \"+0.48%\"], [\"Sell\", \"IVL\", \"11\", \"20pct\", \"3000\", \"49.0\", \"46.25\", \"-0.75\", \"-1.60%\"], [\"Sell\", \"LPF\", \"8\", \"DOS\", \"10000\", \"14.3\", \"13.50\", \"0.00\", \"0.00%\"], [\"Sell\", \"NER\", \"12\", \"5pct\", \"9000\", \"7.8\", \"7.20\", \"-0.10\", \"-1.37%\"], [\"Sell\", \"RJH\", \"13\", \"10pct\", \"1500\", \"36.25\", \"33.00\", \"+0.25\", \"+0.76%\"], [\"Sell\", \"SIS\", \"24\", \"15pct\", \"1500\", \"46.5\", \"40.50\", \"-1.25\", \"-2.99%\"], [\"Sell\", \"WHART\", \"5\", \"DOS\", \"10000\", \"12.8\", \"12.30\", \"0.00\", \"0.00%\"]]};\n",
       "        dt_args = eval_functions(dt_args);\n",
       "        table = $('#fda19657-1ddc-44d6-8534-f5e6d565f228').DataTable(dt_args);\n",
       "    });\n",
       "})\n",
       "</script>\n",
       "</div>\n"
      ],
      "text/plain": [
       "<IPython.core.display.HTML object>"
      ]
     },
     "metadata": {},
     "output_type": "display_data"
    }
   ],
   "source": [
    "from itables import show\n",
    "show(df[['trans','name','spd','reason','qty','target','current','chg','percent']])"
   ]
  },
  {
   "cell_type": "code",
   "execution_count": 15,
   "metadata": {},
   "outputs": [
    {
     "data": {
      "text/plain": [
       "0"
      ]
     },
     "execution_count": 15,
     "metadata": {},
     "output_type": "execute_result"
    }
   ],
   "source": [
    "sql = '''\n",
    "UPDATE stocks\n",
    "SET buy_target = 0\n",
    "WHERE buy_target IS NULL'''\n",
    "rp = conlite.execute(sql)\n",
    "rp.rowcount"
   ]
  },
  {
   "cell_type": "code",
   "execution_count": 16,
   "metadata": {},
   "outputs": [
    {
     "data": {
      "text/plain": [
       "0"
      ]
     },
     "execution_count": 16,
     "metadata": {},
     "output_type": "execute_result"
    }
   ],
   "source": [
    "sql = '''\n",
    "UPDATE stocks\n",
    "SET sell_target = 0\n",
    "WHERE sell_target IS NULL'''\n",
    "rp = conlite.execute(sql)\n",
    "rp.rowcount"
   ]
  },
  {
   "cell_type": "code",
   "execution_count": 17,
   "metadata": {},
   "outputs": [
    {
     "data": {
      "text/plain": [
       "0"
      ]
     },
     "execution_count": 17,
     "metadata": {},
     "output_type": "execute_result"
    }
   ],
   "source": [
    "sql = '''\n",
    "UPDATE stocks\n",
    "SET available_qty = 0\n",
    "WHERE available_qty IS NULL'''\n",
    "rp = conlite.execute(sql)\n",
    "rp.rowcount"
   ]
  },
  {
   "cell_type": "code",
   "execution_count": 18,
   "metadata": {},
   "outputs": [
    {
     "data": {
      "text/plain": [
       "0"
      ]
     },
     "execution_count": 18,
     "metadata": {},
     "output_type": "execute_result"
    }
   ],
   "source": [
    "sql = '''\n",
    "UPDATE stocks\n",
    "SET cost = 0\n",
    "WHERE cost IS NULL'''\n",
    "rp = conlite.execute(sql)\n",
    "rp.rowcount"
   ]
  },
  {
   "cell_type": "code",
   "execution_count": 19,
   "metadata": {},
   "outputs": [
    {
     "data": {
      "text/plain": [
       "0"
      ]
     },
     "execution_count": 19,
     "metadata": {},
     "output_type": "execute_result"
    }
   ],
   "source": [
    "sql = '''\n",
    "UPDATE stocks\n",
    "SET qty = 0\n",
    "WHERE qty IS NULL'''\n",
    "rp = conlite.execute(sql)\n",
    "rp.rowcount"
   ]
  },
  {
   "cell_type": "code",
   "execution_count": 20,
   "metadata": {},
   "outputs": [
    {
     "data": {
      "text/html": [
       "<style type=\"text/css\">\n",
       "</style>\n",
       "<table id=\"T_ff470_\">\n",
       "  <thead>\n",
       "    <tr>\n",
       "      <th class=\"blank level0\" >&nbsp;</th>\n",
       "      <th class=\"col_heading level0 col0\" >id</th>\n",
       "      <th class=\"col_heading level0 col1\" >name</th>\n",
       "      <th class=\"col_heading level0 col2\" >max_price</th>\n",
       "      <th class=\"col_heading level0 col3\" >min_price</th>\n",
       "      <th class=\"col_heading level0 col4\" >status</th>\n",
       "      <th class=\"col_heading level0 col5\" >buy_target</th>\n",
       "      <th class=\"col_heading level0 col6\" >sell_target</th>\n",
       "      <th class=\"col_heading level0 col7\" >volume</th>\n",
       "      <th class=\"col_heading level0 col8\" >beta</th>\n",
       "      <th class=\"col_heading level0 col9\" >cost</th>\n",
       "      <th class=\"col_heading level0 col10\" >qty</th>\n",
       "      <th class=\"col_heading level0 col11\" >buy_spread</th>\n",
       "      <th class=\"col_heading level0 col12\" >sell_spread</th>\n",
       "      <th class=\"col_heading level0 col13\" >available_qty</th>\n",
       "      <th class=\"col_heading level0 col14\" >bl</th>\n",
       "      <th class=\"col_heading level0 col15\" >sh</th>\n",
       "      <th class=\"col_heading level0 col16\" >reason</th>\n",
       "      <th class=\"col_heading level0 col17\" >market</th>\n",
       "    </tr>\n",
       "  </thead>\n",
       "  <tbody>\n",
       "  </tbody>\n",
       "</table>\n"
      ],
      "text/plain": [
       "<pandas.io.formats.style.Styler at 0x21b90b40790>"
      ]
     },
     "execution_count": 20,
     "metadata": {},
     "output_type": "execute_result"
    }
   ],
   "source": [
    "qty_mask = (stocks.qty == 0) & (stocks.status.isin(['B','I','O','S']))\n",
    "stocks[qty_mask].style.format(format_dict)"
   ]
  },
  {
   "cell_type": "code",
   "execution_count": 21,
   "metadata": {},
   "outputs": [
    {
     "data": {
      "text/html": [
       "<style type=\"text/css\">\n",
       "</style>\n",
       "<table id=\"T_2c0ee_\">\n",
       "  <thead>\n",
       "    <tr>\n",
       "      <th class=\"blank level0\" >&nbsp;</th>\n",
       "      <th class=\"col_heading level0 col0\" >id</th>\n",
       "      <th class=\"col_heading level0 col1\" >name</th>\n",
       "      <th class=\"col_heading level0 col2\" >max_price</th>\n",
       "      <th class=\"col_heading level0 col3\" >min_price</th>\n",
       "      <th class=\"col_heading level0 col4\" >status</th>\n",
       "      <th class=\"col_heading level0 col5\" >buy_target</th>\n",
       "      <th class=\"col_heading level0 col6\" >sell_target</th>\n",
       "      <th class=\"col_heading level0 col7\" >volume</th>\n",
       "      <th class=\"col_heading level0 col8\" >beta</th>\n",
       "      <th class=\"col_heading level0 col9\" >cost</th>\n",
       "      <th class=\"col_heading level0 col10\" >qty</th>\n",
       "      <th class=\"col_heading level0 col11\" >buy_spread</th>\n",
       "      <th class=\"col_heading level0 col12\" >sell_spread</th>\n",
       "      <th class=\"col_heading level0 col13\" >available_qty</th>\n",
       "      <th class=\"col_heading level0 col14\" >bl</th>\n",
       "      <th class=\"col_heading level0 col15\" >sh</th>\n",
       "      <th class=\"col_heading level0 col16\" >reason</th>\n",
       "      <th class=\"col_heading level0 col17\" >market</th>\n",
       "    </tr>\n",
       "  </thead>\n",
       "  <tbody>\n",
       "  </tbody>\n",
       "</table>\n"
      ],
      "text/plain": [
       "<pandas.io.formats.style.Styler at 0x21b90b40b80>"
      ]
     },
     "execution_count": 21,
     "metadata": {},
     "output_type": "execute_result"
    }
   ],
   "source": [
    "buy_mask = (stocks.buy_target == 0) & (stocks.status.isin(['B','O']))\n",
    "stocks[buy_mask].style.format(format_dict)"
   ]
  },
  {
   "cell_type": "code",
   "execution_count": 22,
   "metadata": {},
   "outputs": [
    {
     "data": {
      "text/html": [
       "<style type=\"text/css\">\n",
       "</style>\n",
       "<table id=\"T_3efcc_\">\n",
       "  <thead>\n",
       "    <tr>\n",
       "      <th class=\"blank level0\" >&nbsp;</th>\n",
       "      <th class=\"col_heading level0 col0\" >id</th>\n",
       "      <th class=\"col_heading level0 col1\" >name</th>\n",
       "      <th class=\"col_heading level0 col2\" >max_price</th>\n",
       "      <th class=\"col_heading level0 col3\" >min_price</th>\n",
       "      <th class=\"col_heading level0 col4\" >status</th>\n",
       "      <th class=\"col_heading level0 col5\" >buy_target</th>\n",
       "      <th class=\"col_heading level0 col6\" >sell_target</th>\n",
       "      <th class=\"col_heading level0 col7\" >volume</th>\n",
       "      <th class=\"col_heading level0 col8\" >beta</th>\n",
       "      <th class=\"col_heading level0 col9\" >cost</th>\n",
       "      <th class=\"col_heading level0 col10\" >qty</th>\n",
       "      <th class=\"col_heading level0 col11\" >buy_spread</th>\n",
       "      <th class=\"col_heading level0 col12\" >sell_spread</th>\n",
       "      <th class=\"col_heading level0 col13\" >available_qty</th>\n",
       "      <th class=\"col_heading level0 col14\" >bl</th>\n",
       "      <th class=\"col_heading level0 col15\" >sh</th>\n",
       "      <th class=\"col_heading level0 col16\" >reason</th>\n",
       "      <th class=\"col_heading level0 col17\" >market</th>\n",
       "    </tr>\n",
       "  </thead>\n",
       "  <tbody>\n",
       "  </tbody>\n",
       "</table>\n"
      ],
      "text/plain": [
       "<pandas.io.formats.style.Styler at 0x21b90b40160>"
      ]
     },
     "execution_count": 22,
     "metadata": {},
     "output_type": "execute_result"
    }
   ],
   "source": [
    "sell_mask = (stocks.sell_target == 0) & (stocks.status.isin(['I','S']))\n",
    "stocks[sell_mask].style.format(format_dict)"
   ]
  }
 ],
 "metadata": {
  "anaconda-cloud": {},
  "kernelspec": {
   "display_name": "Python 3 (ipykernel)",
   "language": "python",
   "name": "python3"
  },
  "language_info": {
   "codemirror_mode": {
    "name": "ipython",
    "version": 3
   },
   "file_extension": ".py",
   "mimetype": "text/x-python",
   "name": "python",
   "nbconvert_exporter": "python",
   "pygments_lexer": "ipython3",
   "version": "3.8.11"
  }
 },
 "nbformat": 4,
 "nbformat_minor": 1
}
