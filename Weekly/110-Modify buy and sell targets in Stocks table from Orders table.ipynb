{
 "cells": [
  {
   "cell_type": "code",
   "execution_count": 1,
   "metadata": {},
   "outputs": [],
   "source": [
    "import calendar\n",
    "import pandas as pd\n",
    "from datetime import date, timedelta\n",
    "from sqlalchemy import create_engine\n",
    "\n",
    "engine = create_engine(\"sqlite:///c:\\\\ruby\\\\port_lite\\\\db\\\\development.sqlite3\")\n",
    "conlite = engine.connect()\n",
    "\n",
    "data_path = \"../data/\"\n",
    "csv_path = \"\\\\Users\\\\User\\\\iCloudDrive\\\\\"\n",
    "box_path = \"\\\\Users\\\\User\\\\Dropbox\\\\\""
   ]
  },
  {
   "cell_type": "markdown",
   "metadata": {},
   "source": [
    "### Tables in the process"
   ]
  },
  {
   "cell_type": "code",
   "execution_count": 2,
   "metadata": {},
   "outputs": [],
   "source": [
    "cols = 'trade name qty_x price reason_x qty_y buy_target sell_target reason_y'.split()\n",
    "colt = 'trade name qty price active reason market'.split()"
   ]
  },
  {
   "cell_type": "code",
   "execution_count": 3,
   "metadata": {},
   "outputs": [],
   "source": [
    "format_dict = {\n",
    "    'qty':'{:,}','qty_x':'{:,}','qty_y':'{:,}','available_qty':'{:,}','eps_a':'{:.2f}','eps_b':'{:.2f}',\n",
    "    'volbuy':'{:,}','volsell':'{:,}','volbal':'{:,}',\n",
    "    'pe':'{:.2f}','pbv':'{:.2f}','max':'{:.2f}','min':'{:.2f}','dividend':'{:.4f}',\n",
    "    'maxp':'{:.2f}','minp':'{:.2f}','opnp':'{:.2f}',\n",
    "    'paid_up':'{:,.2f}','market_cap':'{:,.2f}','daily_volume':'{:,.2f}','dly_vol':'{:,.2f}',\n",
    "    'price':'{:.2f}','target_price':'{:.2f}','max_price':'{:.2f}','min_price':'{:.2f}','price_d':'{:.2f}','price_w':'{:.2f}',\n",
    "    'buy_target':'{:.2f}','sell_target':'{:.2f}','target':'{:.2f}','current':'{:.2f}',\n",
    "    'beta':'{:.2f}','amount':'{:,.2f}','sell_amt':'{:,.2f}','volume':'{:,.2f}','percent':'{:,.2f}',\n",
    "    'q_amt':'{:,}','y_amt':'{:,}','aq_amt':'{:,}','ay_amt':'{:,}','yoy_gain':'{:,}','acc_gain':'{:,}',    \n",
    "    'q_eps':'{:.4f}','y_eps':'{:.4f}','aq_eps':'{:.4f}','ay_eps':'{:.4f}',\n",
    "    'yoy_pct':'{:.2f}%','acc_pct':'{:.2f}%','yield':'{:.2f}%',\n",
    "    'q_amt': '{:,}','y_amt': '{:,}','yoy_gain': '{:,}','q_amt_c': '{:,}','q_amt_p': '{:,}','aq_amt': '{:,}','ay_amt': '{:,}',\n",
    "    'acc_gain': '{:,}','latest_amt': '{:,}','previous_amt': '{:,}','inc_amt': '{:,}',\n",
    "    'inc_amt_pq': '{:,}','inc_amt_py': '{:,}',    'latest_amt_q': '{:,}','previous_amt_q': '{:,}','inc_amt_q': '{:,}',\n",
    "    'latest_amt_y': '{:,}','previous_amt_y': '{:,}','inc_amt_y': '{:,}','kind_x': '{:,}',\n",
    "    'inc_pct': '{:.2f}%','inc_pct_q': '{:.2f}%','pct': '{:.2f}%','percent': '{:.2f}%',\n",
    "    'inc_pct_y': '{:.2f}%','inc_pct_pq': '{:.2f}%','inc_pct_py': '{:.2f}%','mean_pct': '{:.2f}%','std_pct': '{:.2f}%',      \n",
    "}"
   ]
  },
  {
   "cell_type": "markdown",
   "metadata": {},
   "source": [
    "### Begin of Loop"
   ]
  },
  {
   "cell_type": "code",
   "execution_count": 4,
   "metadata": {},
   "outputs": [
    {
     "data": {
      "text/html": [
       "<style type=\"text/css\">\n",
       "</style>\n",
       "<table id=\"T_aad8c_\">\n",
       "  <thead>\n",
       "    <tr>\n",
       "      <th class=\"blank level0\" >&nbsp;</th>\n",
       "      <th class=\"col_heading level0 col0\" >trade</th>\n",
       "      <th class=\"col_heading level0 col1\" >name</th>\n",
       "      <th class=\"col_heading level0 col2\" >qty</th>\n",
       "      <th class=\"col_heading level0 col3\" >price</th>\n",
       "      <th class=\"col_heading level0 col4\" >amount</th>\n",
       "      <th class=\"col_heading level0 col5\" >reason</th>\n",
       "      <th class=\"col_heading level0 col6\" >market</th>\n",
       "      <th class=\"col_heading level0 col7\" >active</th>\n",
       "    </tr>\n",
       "  </thead>\n",
       "  <tbody>\n",
       "    <tr>\n",
       "      <th id=\"T_aad8c_level0_row0\" class=\"row_heading level0 row0\" >0</th>\n",
       "      <td id=\"T_aad8c_row0_col0\" class=\"data row0 col0\" >B</td>\n",
       "      <td id=\"T_aad8c_row0_col1\" class=\"data row0 col1\" >BBL</td>\n",
       "      <td id=\"T_aad8c_row0_col2\" class=\"data row0 col2\" >2,400</td>\n",
       "      <td id=\"T_aad8c_row0_col3\" class=\"data row0 col3\" >130.00</td>\n",
       "      <td id=\"T_aad8c_row0_col4\" class=\"data row0 col4\" >312,000.00</td>\n",
       "      <td id=\"T_aad8c_row0_col5\" class=\"data row0 col5\" >1L</td>\n",
       "      <td id=\"T_aad8c_row0_col6\" class=\"data row0 col6\" >SET50</td>\n",
       "      <td id=\"T_aad8c_row0_col7\" class=\"data row0 col7\" >0</td>\n",
       "    </tr>\n",
       "    <tr>\n",
       "      <th id=\"T_aad8c_level0_row1\" class=\"row_heading level0 row1\" >1</th>\n",
       "      <td id=\"T_aad8c_row1_col0\" class=\"data row1 col0\" >B</td>\n",
       "      <td id=\"T_aad8c_row1_col1\" class=\"data row1 col1\" >BGC</td>\n",
       "      <td id=\"T_aad8c_row1_col2\" class=\"data row1 col2\" >10,000</td>\n",
       "      <td id=\"T_aad8c_row1_col3\" class=\"data row1 col3\" >10.00</td>\n",
       "      <td id=\"T_aad8c_row1_col4\" class=\"data row1 col4\" >100,000.00</td>\n",
       "      <td id=\"T_aad8c_row1_col5\" class=\"data row1 col5\" >DOS</td>\n",
       "      <td id=\"T_aad8c_row1_col6\" class=\"data row1 col6\" >SET</td>\n",
       "      <td id=\"T_aad8c_row1_col7\" class=\"data row1 col7\" >2</td>\n",
       "    </tr>\n",
       "    <tr>\n",
       "      <th id=\"T_aad8c_level0_row2\" class=\"row_heading level0 row2\" >2</th>\n",
       "      <td id=\"T_aad8c_row2_col0\" class=\"data row2 col0\" >B</td>\n",
       "      <td id=\"T_aad8c_row2_col1\" class=\"data row2 col1\" >BGRIM</td>\n",
       "      <td id=\"T_aad8c_row2_col2\" class=\"data row2 col2\" >3,000</td>\n",
       "      <td id=\"T_aad8c_row2_col3\" class=\"data row2 col3\" >34.00</td>\n",
       "      <td id=\"T_aad8c_row2_col4\" class=\"data row2 col4\" >102,000.00</td>\n",
       "      <td id=\"T_aad8c_row2_col5\" class=\"data row2 col5\" >RD15pct</td>\n",
       "      <td id=\"T_aad8c_row2_col6\" class=\"data row2 col6\" >SET50</td>\n",
       "      <td id=\"T_aad8c_row2_col7\" class=\"data row2 col7\" >1</td>\n",
       "    </tr>\n",
       "    <tr>\n",
       "      <th id=\"T_aad8c_level0_row3\" class=\"row_heading level0 row3\" >3</th>\n",
       "      <td id=\"T_aad8c_row3_col0\" class=\"data row3 col0\" >B</td>\n",
       "      <td id=\"T_aad8c_row3_col1\" class=\"data row3 col1\" >EPG</td>\n",
       "      <td id=\"T_aad8c_row3_col2\" class=\"data row3 col2\" >6,000</td>\n",
       "      <td id=\"T_aad8c_row3_col3\" class=\"data row3 col3\" >9.90</td>\n",
       "      <td id=\"T_aad8c_row3_col4\" class=\"data row3 col4\" >59,400.00</td>\n",
       "      <td id=\"T_aad8c_row3_col5\" class=\"data row3 col5\" >RD10pct</td>\n",
       "      <td id=\"T_aad8c_row3_col6\" class=\"data row3 col6\" >SET100</td>\n",
       "      <td id=\"T_aad8c_row3_col7\" class=\"data row3 col7\" >1</td>\n",
       "    </tr>\n",
       "    <tr>\n",
       "      <th id=\"T_aad8c_level0_row4\" class=\"row_heading level0 row4\" >4</th>\n",
       "      <td id=\"T_aad8c_row4_col0\" class=\"data row4 col0\" >B</td>\n",
       "      <td id=\"T_aad8c_row4_col1\" class=\"data row4 col1\" >GLOBAL</td>\n",
       "      <td id=\"T_aad8c_row4_col2\" class=\"data row4 col2\" >7,500</td>\n",
       "      <td id=\"T_aad8c_row4_col3\" class=\"data row4 col3\" >18.20</td>\n",
       "      <td id=\"T_aad8c_row4_col4\" class=\"data row4 col4\" >136,500.00</td>\n",
       "      <td id=\"T_aad8c_row4_col5\" class=\"data row4 col5\" >RD05pct</td>\n",
       "      <td id=\"T_aad8c_row4_col6\" class=\"data row4 col6\" >SET50</td>\n",
       "      <td id=\"T_aad8c_row4_col7\" class=\"data row4 col7\" >1</td>\n",
       "    </tr>\n",
       "    <tr>\n",
       "      <th id=\"T_aad8c_level0_row5\" class=\"row_heading level0 row5\" >5</th>\n",
       "      <td id=\"T_aad8c_row5_col0\" class=\"data row5 col0\" >B</td>\n",
       "      <td id=\"T_aad8c_row5_col1\" class=\"data row5 col1\" >KBANK</td>\n",
       "      <td id=\"T_aad8c_row5_col2\" class=\"data row5 col2\" >1,500</td>\n",
       "      <td id=\"T_aad8c_row5_col3\" class=\"data row5 col3\" >146.00</td>\n",
       "      <td id=\"T_aad8c_row5_col4\" class=\"data row5 col4\" >219,000.00</td>\n",
       "      <td id=\"T_aad8c_row5_col5\" class=\"data row5 col5\" >1L</td>\n",
       "      <td id=\"T_aad8c_row5_col6\" class=\"data row5 col6\" >SET50</td>\n",
       "      <td id=\"T_aad8c_row5_col7\" class=\"data row5 col7\" >0</td>\n",
       "    </tr>\n",
       "    <tr>\n",
       "      <th id=\"T_aad8c_level0_row6\" class=\"row_heading level0 row6\" >6</th>\n",
       "      <td id=\"T_aad8c_row6_col0\" class=\"data row6 col0\" >B</td>\n",
       "      <td id=\"T_aad8c_row6_col1\" class=\"data row6 col1\" >KTC</td>\n",
       "      <td id=\"T_aad8c_row6_col2\" class=\"data row6 col2\" >5,000</td>\n",
       "      <td id=\"T_aad8c_row6_col3\" class=\"data row6 col3\" >58.00</td>\n",
       "      <td id=\"T_aad8c_row6_col4\" class=\"data row6 col4\" >290,000.00</td>\n",
       "      <td id=\"T_aad8c_row6_col5\" class=\"data row6 col5\" >1L</td>\n",
       "      <td id=\"T_aad8c_row6_col6\" class=\"data row6 col6\" >SET50</td>\n",
       "      <td id=\"T_aad8c_row6_col7\" class=\"data row6 col7\" >0</td>\n",
       "    </tr>\n",
       "    <tr>\n",
       "      <th id=\"T_aad8c_level0_row7\" class=\"row_heading level0 row7\" >7</th>\n",
       "      <td id=\"T_aad8c_row7_col0\" class=\"data row7 col0\" >B</td>\n",
       "      <td id=\"T_aad8c_row7_col1\" class=\"data row7 col1\" >NOBLE</td>\n",
       "      <td id=\"T_aad8c_row7_col2\" class=\"data row7 col2\" >21,000</td>\n",
       "      <td id=\"T_aad8c_row7_col3\" class=\"data row7 col3\" >5.85</td>\n",
       "      <td id=\"T_aad8c_row7_col4\" class=\"data row7 col4\" >122,850.00</td>\n",
       "      <td id=\"T_aad8c_row7_col5\" class=\"data row7 col5\" >RD15%</td>\n",
       "      <td id=\"T_aad8c_row7_col6\" class=\"data row7 col6\" >SET</td>\n",
       "      <td id=\"T_aad8c_row7_col7\" class=\"data row7 col7\" >1</td>\n",
       "    </tr>\n",
       "    <tr>\n",
       "      <th id=\"T_aad8c_level0_row8\" class=\"row_heading level0 row8\" >8</th>\n",
       "      <td id=\"T_aad8c_row8_col0\" class=\"data row8 col0\" >B</td>\n",
       "      <td id=\"T_aad8c_row8_col1\" class=\"data row8 col1\" >PTT</td>\n",
       "      <td id=\"T_aad8c_row8_col2\" class=\"data row8 col2\" >3,000</td>\n",
       "      <td id=\"T_aad8c_row8_col3\" class=\"data row8 col3\" >36.50</td>\n",
       "      <td id=\"T_aad8c_row8_col4\" class=\"data row8 col4\" >109,500.00</td>\n",
       "      <td id=\"T_aad8c_row8_col5\" class=\"data row8 col5\" >RD05%</td>\n",
       "      <td id=\"T_aad8c_row8_col6\" class=\"data row8 col6\" >SET50</td>\n",
       "      <td id=\"T_aad8c_row8_col7\" class=\"data row8 col7\" >0</td>\n",
       "    </tr>\n",
       "    <tr>\n",
       "      <th id=\"T_aad8c_level0_row9\" class=\"row_heading level0 row9\" >9</th>\n",
       "      <td id=\"T_aad8c_row9_col0\" class=\"data row9 col0\" >B</td>\n",
       "      <td id=\"T_aad8c_row9_col1\" class=\"data row9 col1\" >PTTEP</td>\n",
       "      <td id=\"T_aad8c_row9_col2\" class=\"data row9 col2\" >1,000</td>\n",
       "      <td id=\"T_aad8c_row9_col3\" class=\"data row9 col3\" >126.00</td>\n",
       "      <td id=\"T_aad8c_row9_col4\" class=\"data row9 col4\" >126,000.00</td>\n",
       "      <td id=\"T_aad8c_row9_col5\" class=\"data row9 col5\" >DOS</td>\n",
       "      <td id=\"T_aad8c_row9_col6\" class=\"data row9 col6\" >SET50</td>\n",
       "      <td id=\"T_aad8c_row9_col7\" class=\"data row9 col7\" >1</td>\n",
       "    </tr>\n",
       "    <tr>\n",
       "      <th id=\"T_aad8c_level0_row10\" class=\"row_heading level0 row10\" >10</th>\n",
       "      <td id=\"T_aad8c_row10_col0\" class=\"data row10 col0\" >B</td>\n",
       "      <td id=\"T_aad8c_row10_col1\" class=\"data row10 col1\" >PTTGC</td>\n",
       "      <td id=\"T_aad8c_row10_col2\" class=\"data row10 col2\" >1,200</td>\n",
       "      <td id=\"T_aad8c_row10_col3\" class=\"data row10 col3\" >54.25</td>\n",
       "      <td id=\"T_aad8c_row10_col4\" class=\"data row10 col4\" >65,100.00</td>\n",
       "      <td id=\"T_aad8c_row10_col5\" class=\"data row10 col5\" >RD10pct</td>\n",
       "      <td id=\"T_aad8c_row10_col6\" class=\"data row10 col6\" >SET50</td>\n",
       "      <td id=\"T_aad8c_row10_col7\" class=\"data row10 col7\" >0</td>\n",
       "    </tr>\n",
       "    <tr>\n",
       "      <th id=\"T_aad8c_level0_row11\" class=\"row_heading level0 row11\" >11</th>\n",
       "      <td id=\"T_aad8c_row11_col0\" class=\"data row11 col0\" >B</td>\n",
       "      <td id=\"T_aad8c_row11_col1\" class=\"data row11 col1\" >RATCH</td>\n",
       "      <td id=\"T_aad8c_row11_col2\" class=\"data row11 col2\" >3,000</td>\n",
       "      <td id=\"T_aad8c_row11_col3\" class=\"data row11 col3\" >42.75</td>\n",
       "      <td id=\"T_aad8c_row11_col4\" class=\"data row11 col4\" >128,250.00</td>\n",
       "      <td id=\"T_aad8c_row11_col5\" class=\"data row11 col5\" >RD05%</td>\n",
       "      <td id=\"T_aad8c_row11_col6\" class=\"data row11 col6\" >SET50</td>\n",
       "      <td id=\"T_aad8c_row11_col7\" class=\"data row11 col7\" >1</td>\n",
       "    </tr>\n",
       "    <tr>\n",
       "      <th id=\"T_aad8c_level0_row12\" class=\"row_heading level0 row12\" >12</th>\n",
       "      <td id=\"T_aad8c_row12_col0\" class=\"data row12 col0\" >B</td>\n",
       "      <td id=\"T_aad8c_row12_col1\" class=\"data row12 col1\" >RCL</td>\n",
       "      <td id=\"T_aad8c_row12_col2\" class=\"data row12 col2\" >1,500</td>\n",
       "      <td id=\"T_aad8c_row12_col3\" class=\"data row12 col3\" >41.50</td>\n",
       "      <td id=\"T_aad8c_row12_col4\" class=\"data row12 col4\" >62,250.00</td>\n",
       "      <td id=\"T_aad8c_row12_col5\" class=\"data row12 col5\" >RD05pct</td>\n",
       "      <td id=\"T_aad8c_row12_col6\" class=\"data row12 col6\" >SET100</td>\n",
       "      <td id=\"T_aad8c_row12_col7\" class=\"data row12 col7\" >2</td>\n",
       "    </tr>\n",
       "    <tr>\n",
       "      <th id=\"T_aad8c_level0_row13\" class=\"row_heading level0 row13\" >13</th>\n",
       "      <td id=\"T_aad8c_row13_col0\" class=\"data row13 col0\" >B</td>\n",
       "      <td id=\"T_aad8c_row13_col1\" class=\"data row13 col1\" >ROJNA</td>\n",
       "      <td id=\"T_aad8c_row13_col2\" class=\"data row13 col2\" >18,000</td>\n",
       "      <td id=\"T_aad8c_row13_col3\" class=\"data row13 col3\" >6.30</td>\n",
       "      <td id=\"T_aad8c_row13_col4\" class=\"data row13 col4\" >113,400.00</td>\n",
       "      <td id=\"T_aad8c_row13_col5\" class=\"data row13 col5\" >6L</td>\n",
       "      <td id=\"T_aad8c_row13_col6\" class=\"data row13 col6\" >SET</td>\n",
       "      <td id=\"T_aad8c_row13_col7\" class=\"data row13 col7\" >1</td>\n",
       "    </tr>\n",
       "    <tr>\n",
       "      <th id=\"T_aad8c_level0_row14\" class=\"row_heading level0 row14\" >14</th>\n",
       "      <td id=\"T_aad8c_row14_col0\" class=\"data row14 col0\" >B</td>\n",
       "      <td id=\"T_aad8c_row14_col1\" class=\"data row14 col1\" >SCB</td>\n",
       "      <td id=\"T_aad8c_row14_col2\" class=\"data row14 col2\" >2,400</td>\n",
       "      <td id=\"T_aad8c_row14_col3\" class=\"data row14 col3\" >120.00</td>\n",
       "      <td id=\"T_aad8c_row14_col4\" class=\"data row14 col4\" >288,000.00</td>\n",
       "      <td id=\"T_aad8c_row14_col5\" class=\"data row14 col5\" >1L</td>\n",
       "      <td id=\"T_aad8c_row14_col6\" class=\"data row14 col6\" >SET50</td>\n",
       "      <td id=\"T_aad8c_row14_col7\" class=\"data row14 col7\" >0</td>\n",
       "    </tr>\n",
       "    <tr>\n",
       "      <th id=\"T_aad8c_level0_row15\" class=\"row_heading level0 row15\" >15</th>\n",
       "      <td id=\"T_aad8c_row15_col0\" class=\"data row15 col0\" >B</td>\n",
       "      <td id=\"T_aad8c_row15_col1\" class=\"data row15 col1\" >SCC</td>\n",
       "      <td id=\"T_aad8c_row15_col2\" class=\"data row15 col2\" >300</td>\n",
       "      <td id=\"T_aad8c_row15_col3\" class=\"data row15 col3\" >374.00</td>\n",
       "      <td id=\"T_aad8c_row15_col4\" class=\"data row15 col4\" >112,200.00</td>\n",
       "      <td id=\"T_aad8c_row15_col5\" class=\"data row15 col5\" >RD05pct</td>\n",
       "      <td id=\"T_aad8c_row15_col6\" class=\"data row15 col6\" >SET50</td>\n",
       "      <td id=\"T_aad8c_row15_col7\" class=\"data row15 col7\" >0</td>\n",
       "    </tr>\n",
       "    <tr>\n",
       "      <th id=\"T_aad8c_level0_row16\" class=\"row_heading level0 row16\" >16</th>\n",
       "      <td id=\"T_aad8c_row16_col0\" class=\"data row16 col0\" >B</td>\n",
       "      <td id=\"T_aad8c_row16_col1\" class=\"data row16 col1\" >STA</td>\n",
       "      <td id=\"T_aad8c_row16_col2\" class=\"data row16 col2\" >2,500</td>\n",
       "      <td id=\"T_aad8c_row16_col3\" class=\"data row16 col3\" >28.00</td>\n",
       "      <td id=\"T_aad8c_row16_col4\" class=\"data row16 col4\" >70,000.00</td>\n",
       "      <td id=\"T_aad8c_row16_col5\" class=\"data row16 col5\" >RD15%</td>\n",
       "      <td id=\"T_aad8c_row16_col6\" class=\"data row16 col6\" >SET100</td>\n",
       "      <td id=\"T_aad8c_row16_col7\" class=\"data row16 col7\" >0</td>\n",
       "    </tr>\n",
       "    <tr>\n",
       "      <th id=\"T_aad8c_level0_row17\" class=\"row_heading level0 row17\" >17</th>\n",
       "      <td id=\"T_aad8c_row17_col0\" class=\"data row17 col0\" >B</td>\n",
       "      <td id=\"T_aad8c_row17_col1\" class=\"data row17 col1\" >TVO</td>\n",
       "      <td id=\"T_aad8c_row17_col2\" class=\"data row17 col2\" >3,600</td>\n",
       "      <td id=\"T_aad8c_row17_col3\" class=\"data row17 col3\" >30.00</td>\n",
       "      <td id=\"T_aad8c_row17_col4\" class=\"data row17 col4\" >108,000.00</td>\n",
       "      <td id=\"T_aad8c_row17_col5\" class=\"data row17 col5\" >3L</td>\n",
       "      <td id=\"T_aad8c_row17_col6\" class=\"data row17 col6\" >SET100</td>\n",
       "      <td id=\"T_aad8c_row17_col7\" class=\"data row17 col7\" >2</td>\n",
       "    </tr>\n",
       "    <tr>\n",
       "      <th id=\"T_aad8c_level0_row18\" class=\"row_heading level0 row18\" >18</th>\n",
       "      <td id=\"T_aad8c_row18_col0\" class=\"data row18 col0\" >S</td>\n",
       "      <td id=\"T_aad8c_row18_col1\" class=\"data row18 col1\" >CKP</td>\n",
       "      <td id=\"T_aad8c_row18_col2\" class=\"data row18 col2\" >10,000</td>\n",
       "      <td id=\"T_aad8c_row18_col3\" class=\"data row18 col3\" >5.75</td>\n",
       "      <td id=\"T_aad8c_row18_col4\" class=\"data row18 col4\" >57,500.00</td>\n",
       "      <td id=\"T_aad8c_row18_col5\" class=\"data row18 col5\" >15pct</td>\n",
       "      <td id=\"T_aad8c_row18_col6\" class=\"data row18 col6\" >SET100</td>\n",
       "      <td id=\"T_aad8c_row18_col7\" class=\"data row18 col7\" >1</td>\n",
       "    </tr>\n",
       "    <tr>\n",
       "      <th id=\"T_aad8c_level0_row19\" class=\"row_heading level0 row19\" >19</th>\n",
       "      <td id=\"T_aad8c_row19_col0\" class=\"data row19 col0\" >S</td>\n",
       "      <td id=\"T_aad8c_row19_col1\" class=\"data row19 col1\" >CPNCG</td>\n",
       "      <td id=\"T_aad8c_row19_col2\" class=\"data row19 col2\" >10,000</td>\n",
       "      <td id=\"T_aad8c_row19_col3\" class=\"data row19 col3\" >12.80</td>\n",
       "      <td id=\"T_aad8c_row19_col4\" class=\"data row19 col4\" >128,000.00</td>\n",
       "      <td id=\"T_aad8c_row19_col5\" class=\"data row19 col5\" >DOS</td>\n",
       "      <td id=\"T_aad8c_row19_col6\" class=\"data row19 col6\" >SET</td>\n",
       "      <td id=\"T_aad8c_row19_col7\" class=\"data row19 col7\" >2</td>\n",
       "    </tr>\n",
       "    <tr>\n",
       "      <th id=\"T_aad8c_level0_row20\" class=\"row_heading level0 row20\" >20</th>\n",
       "      <td id=\"T_aad8c_row20_col0\" class=\"data row20 col0\" >S</td>\n",
       "      <td id=\"T_aad8c_row20_col1\" class=\"data row20 col1\" >IP</td>\n",
       "      <td id=\"T_aad8c_row20_col2\" class=\"data row20 col2\" >2,500</td>\n",
       "      <td id=\"T_aad8c_row20_col3\" class=\"data row20 col3\" >23.20</td>\n",
       "      <td id=\"T_aad8c_row20_col4\" class=\"data row20 col4\" >58,000.00</td>\n",
       "      <td id=\"T_aad8c_row20_col5\" class=\"data row20 col5\" >15pct</td>\n",
       "      <td id=\"T_aad8c_row20_col6\" class=\"data row20 col6\" >mai</td>\n",
       "      <td id=\"T_aad8c_row20_col7\" class=\"data row20 col7\" >1</td>\n",
       "    </tr>\n",
       "    <tr>\n",
       "      <th id=\"T_aad8c_level0_row21\" class=\"row_heading level0 row21\" >21</th>\n",
       "      <td id=\"T_aad8c_row21_col0\" class=\"data row21 col0\" >S</td>\n",
       "      <td id=\"T_aad8c_row21_col1\" class=\"data row21 col1\" >IVL</td>\n",
       "      <td id=\"T_aad8c_row21_col2\" class=\"data row21 col2\" >3,000</td>\n",
       "      <td id=\"T_aad8c_row21_col3\" class=\"data row21 col3\" >50.50</td>\n",
       "      <td id=\"T_aad8c_row21_col4\" class=\"data row21 col4\" >151,500.00</td>\n",
       "      <td id=\"T_aad8c_row21_col5\" class=\"data row21 col5\" >20pct</td>\n",
       "      <td id=\"T_aad8c_row21_col6\" class=\"data row21 col6\" >SET50</td>\n",
       "      <td id=\"T_aad8c_row21_col7\" class=\"data row21 col7\" >1</td>\n",
       "    </tr>\n",
       "    <tr>\n",
       "      <th id=\"T_aad8c_level0_row22\" class=\"row_heading level0 row22\" >22</th>\n",
       "      <td id=\"T_aad8c_row22_col0\" class=\"data row22 col0\" >S</td>\n",
       "      <td id=\"T_aad8c_row22_col1\" class=\"data row22 col1\" >LPF</td>\n",
       "      <td id=\"T_aad8c_row22_col2\" class=\"data row22 col2\" >10,000</td>\n",
       "      <td id=\"T_aad8c_row22_col3\" class=\"data row22 col3\" >14.10</td>\n",
       "      <td id=\"T_aad8c_row22_col4\" class=\"data row22 col4\" >141,000.00</td>\n",
       "      <td id=\"T_aad8c_row22_col5\" class=\"data row22 col5\" >DOS</td>\n",
       "      <td id=\"T_aad8c_row22_col6\" class=\"data row22 col6\" >SET</td>\n",
       "      <td id=\"T_aad8c_row22_col7\" class=\"data row22 col7\" >0</td>\n",
       "    </tr>\n",
       "    <tr>\n",
       "      <th id=\"T_aad8c_level0_row23\" class=\"row_heading level0 row23\" >23</th>\n",
       "      <td id=\"T_aad8c_row23_col0\" class=\"data row23 col0\" >S</td>\n",
       "      <td id=\"T_aad8c_row23_col1\" class=\"data row23 col1\" >MCS</td>\n",
       "      <td id=\"T_aad8c_row23_col2\" class=\"data row23 col2\" >5,000</td>\n",
       "      <td id=\"T_aad8c_row23_col3\" class=\"data row23 col3\" >15.30</td>\n",
       "      <td id=\"T_aad8c_row23_col4\" class=\"data row23 col4\" >76,500.00</td>\n",
       "      <td id=\"T_aad8c_row23_col5\" class=\"data row23 col5\" >CUT</td>\n",
       "      <td id=\"T_aad8c_row23_col6\" class=\"data row23 col6\" >SET</td>\n",
       "      <td id=\"T_aad8c_row23_col7\" class=\"data row23 col7\" >1</td>\n",
       "    </tr>\n",
       "    <tr>\n",
       "      <th id=\"T_aad8c_level0_row24\" class=\"row_heading level0 row24\" >24</th>\n",
       "      <td id=\"T_aad8c_row24_col0\" class=\"data row24 col0\" >S</td>\n",
       "      <td id=\"T_aad8c_row24_col1\" class=\"data row24 col1\" >NER</td>\n",
       "      <td id=\"T_aad8c_row24_col2\" class=\"data row24 col2\" >9,000</td>\n",
       "      <td id=\"T_aad8c_row24_col3\" class=\"data row24 col3\" >7.80</td>\n",
       "      <td id=\"T_aad8c_row24_col4\" class=\"data row24 col4\" >70,200.00</td>\n",
       "      <td id=\"T_aad8c_row24_col5\" class=\"data row24 col5\" >5pct</td>\n",
       "      <td id=\"T_aad8c_row24_col6\" class=\"data row24 col6\" >SET</td>\n",
       "      <td id=\"T_aad8c_row24_col7\" class=\"data row24 col7\" >1</td>\n",
       "    </tr>\n",
       "    <tr>\n",
       "      <th id=\"T_aad8c_level0_row25\" class=\"row_heading level0 row25\" >25</th>\n",
       "      <td id=\"T_aad8c_row25_col0\" class=\"data row25 col0\" >S</td>\n",
       "      <td id=\"T_aad8c_row25_col1\" class=\"data row25 col1\" >RJH</td>\n",
       "      <td id=\"T_aad8c_row25_col2\" class=\"data row25 col2\" >1,500</td>\n",
       "      <td id=\"T_aad8c_row25_col3\" class=\"data row25 col3\" >36.25</td>\n",
       "      <td id=\"T_aad8c_row25_col4\" class=\"data row25 col4\" >54,375.00</td>\n",
       "      <td id=\"T_aad8c_row25_col5\" class=\"data row25 col5\" >10pct</td>\n",
       "      <td id=\"T_aad8c_row25_col6\" class=\"data row25 col6\" >SET</td>\n",
       "      <td id=\"T_aad8c_row25_col7\" class=\"data row25 col7\" >0</td>\n",
       "    </tr>\n",
       "    <tr>\n",
       "      <th id=\"T_aad8c_level0_row26\" class=\"row_heading level0 row26\" >26</th>\n",
       "      <td id=\"T_aad8c_row26_col0\" class=\"data row26 col0\" >S</td>\n",
       "      <td id=\"T_aad8c_row26_col1\" class=\"data row26 col1\" >SIS</td>\n",
       "      <td id=\"T_aad8c_row26_col2\" class=\"data row26 col2\" >1,500</td>\n",
       "      <td id=\"T_aad8c_row26_col3\" class=\"data row26 col3\" >46.50</td>\n",
       "      <td id=\"T_aad8c_row26_col4\" class=\"data row26 col4\" >69,750.00</td>\n",
       "      <td id=\"T_aad8c_row26_col5\" class=\"data row26 col5\" >15pct</td>\n",
       "      <td id=\"T_aad8c_row26_col6\" class=\"data row26 col6\" >SET</td>\n",
       "      <td id=\"T_aad8c_row26_col7\" class=\"data row26 col7\" >0</td>\n",
       "    </tr>\n",
       "    <tr>\n",
       "      <th id=\"T_aad8c_level0_row27\" class=\"row_heading level0 row27\" >27</th>\n",
       "      <td id=\"T_aad8c_row27_col0\" class=\"data row27 col0\" >S</td>\n",
       "      <td id=\"T_aad8c_row27_col1\" class=\"data row27 col1\" >SYNEX</td>\n",
       "      <td id=\"T_aad8c_row27_col2\" class=\"data row27 col2\" >3,000</td>\n",
       "      <td id=\"T_aad8c_row27_col3\" class=\"data row27 col3\" >33.50</td>\n",
       "      <td id=\"T_aad8c_row27_col4\" class=\"data row27 col4\" >100,500.00</td>\n",
       "      <td id=\"T_aad8c_row27_col5\" class=\"data row27 col5\" >10pct</td>\n",
       "      <td id=\"T_aad8c_row27_col6\" class=\"data row27 col6\" >SET100</td>\n",
       "      <td id=\"T_aad8c_row27_col7\" class=\"data row27 col7\" >0</td>\n",
       "    </tr>\n",
       "    <tr>\n",
       "      <th id=\"T_aad8c_level0_row28\" class=\"row_heading level0 row28\" >28</th>\n",
       "      <td id=\"T_aad8c_row28_col0\" class=\"data row28 col0\" >S</td>\n",
       "      <td id=\"T_aad8c_row28_col1\" class=\"data row28 col1\" >TOP</td>\n",
       "      <td id=\"T_aad8c_row28_col2\" class=\"data row28 col2\" >2,000</td>\n",
       "      <td id=\"T_aad8c_row28_col3\" class=\"data row28 col3\" >55.50</td>\n",
       "      <td id=\"T_aad8c_row28_col4\" class=\"data row28 col4\" >111,000.00</td>\n",
       "      <td id=\"T_aad8c_row28_col5\" class=\"data row28 col5\" >10pct</td>\n",
       "      <td id=\"T_aad8c_row28_col6\" class=\"data row28 col6\" >SET50</td>\n",
       "      <td id=\"T_aad8c_row28_col7\" class=\"data row28 col7\" >1</td>\n",
       "    </tr>\n",
       "    <tr>\n",
       "      <th id=\"T_aad8c_level0_row29\" class=\"row_heading level0 row29\" >29</th>\n",
       "      <td id=\"T_aad8c_row29_col0\" class=\"data row29 col0\" >S</td>\n",
       "      <td id=\"T_aad8c_row29_col1\" class=\"data row29 col1\" >TSE</td>\n",
       "      <td id=\"T_aad8c_row29_col2\" class=\"data row29 col2\" >40,000</td>\n",
       "      <td id=\"T_aad8c_row29_col3\" class=\"data row29 col3\" >2.74</td>\n",
       "      <td id=\"T_aad8c_row29_col4\" class=\"data row29 col4\" >109,600.00</td>\n",
       "      <td id=\"T_aad8c_row29_col5\" class=\"data row29 col5\" >5pct</td>\n",
       "      <td id=\"T_aad8c_row29_col6\" class=\"data row29 col6\" >SET</td>\n",
       "      <td id=\"T_aad8c_row29_col7\" class=\"data row29 col7\" >0</td>\n",
       "    </tr>\n",
       "    <tr>\n",
       "      <th id=\"T_aad8c_level0_row30\" class=\"row_heading level0 row30\" >30</th>\n",
       "      <td id=\"T_aad8c_row30_col0\" class=\"data row30 col0\" >S</td>\n",
       "      <td id=\"T_aad8c_row30_col1\" class=\"data row30 col1\" >TSTH</td>\n",
       "      <td id=\"T_aad8c_row30_col2\" class=\"data row30 col2\" >75,000</td>\n",
       "      <td id=\"T_aad8c_row30_col3\" class=\"data row30 col3\" >1.52</td>\n",
       "      <td id=\"T_aad8c_row30_col4\" class=\"data row30 col4\" >114,000.00</td>\n",
       "      <td id=\"T_aad8c_row30_col5\" class=\"data row30 col5\" >CP1S</td>\n",
       "      <td id=\"T_aad8c_row30_col6\" class=\"data row30 col6\" >SET</td>\n",
       "      <td id=\"T_aad8c_row30_col7\" class=\"data row30 col7\" >1</td>\n",
       "    </tr>\n",
       "    <tr>\n",
       "      <th id=\"T_aad8c_level0_row31\" class=\"row_heading level0 row31\" >31</th>\n",
       "      <td id=\"T_aad8c_row31_col0\" class=\"data row31 col0\" >S</td>\n",
       "      <td id=\"T_aad8c_row31_col1\" class=\"data row31 col1\" >TU</td>\n",
       "      <td id=\"T_aad8c_row31_col2\" class=\"data row31 col2\" >6,000</td>\n",
       "      <td id=\"T_aad8c_row31_col3\" class=\"data row31 col3\" >21.80</td>\n",
       "      <td id=\"T_aad8c_row31_col4\" class=\"data row31 col4\" >130,800.00</td>\n",
       "      <td id=\"T_aad8c_row31_col5\" class=\"data row31 col5\" >5pct</td>\n",
       "      <td id=\"T_aad8c_row31_col6\" class=\"data row31 col6\" >SET50</td>\n",
       "      <td id=\"T_aad8c_row31_col7\" class=\"data row31 col7\" >1</td>\n",
       "    </tr>\n",
       "    <tr>\n",
       "      <th id=\"T_aad8c_level0_row32\" class=\"row_heading level0 row32\" >32</th>\n",
       "      <td id=\"T_aad8c_row32_col0\" class=\"data row32 col0\" >S</td>\n",
       "      <td id=\"T_aad8c_row32_col1\" class=\"data row32 col1\" >WHART</td>\n",
       "      <td id=\"T_aad8c_row32_col2\" class=\"data row32 col2\" >10,000</td>\n",
       "      <td id=\"T_aad8c_row32_col3\" class=\"data row32 col3\" >12.80</td>\n",
       "      <td id=\"T_aad8c_row32_col4\" class=\"data row32 col4\" >128,000.00</td>\n",
       "      <td id=\"T_aad8c_row32_col5\" class=\"data row32 col5\" >DOS</td>\n",
       "      <td id=\"T_aad8c_row32_col6\" class=\"data row32 col6\" >SET</td>\n",
       "      <td id=\"T_aad8c_row32_col7\" class=\"data row32 col7\" >0</td>\n",
       "    </tr>\n",
       "  </tbody>\n",
       "</table>\n"
      ],
      "text/plain": [
       "<pandas.io.formats.style.Styler at 0x181366f99a0>"
      ]
     },
     "execution_count": 4,
     "metadata": {},
     "output_type": "execute_result"
    }
   ],
   "source": [
    "sql = '''\n",
    "SELECT trade, name, qty, price, qty * price AS amount, reason, market, active\n",
    "FROM orders\n",
    "ORDER BY trade, name'''\n",
    "orders = pd.read_sql(sql, conlite)\n",
    "orders.sort_values(['trade','name'],ascending=[True,True]).style.format(format_dict)"
   ]
  },
  {
   "cell_type": "code",
   "execution_count": 5,
   "metadata": {},
   "outputs": [
    {
     "data": {
      "text/plain": [
       "(60, 18)"
      ]
     },
     "execution_count": 5,
     "metadata": {},
     "output_type": "execute_result"
    }
   ],
   "source": [
    "sql = \"\"\"\n",
    "SELECT *\n",
    "FROM stocks\n",
    "\"\"\"\n",
    "stocks = pd.read_sql(sql, conlite)\n",
    "stocks.shape"
   ]
  },
  {
   "cell_type": "code",
   "execution_count": 6,
   "metadata": {},
   "outputs": [
    {
     "data": {
      "text/plain": [
       "(33, 25)"
      ]
     },
     "execution_count": 6,
     "metadata": {},
     "output_type": "execute_result"
    }
   ],
   "source": [
    "df_merge = pd.merge(orders,stocks,on='name',how='inner')\n",
    "df_merge.shape"
   ]
  },
  {
   "cell_type": "code",
   "execution_count": 7,
   "metadata": {},
   "outputs": [
    {
     "data": {
      "text/html": [
       "<style type=\"text/css\">\n",
       "</style>\n",
       "<table id=\"T_6a6fd_\">\n",
       "  <thead>\n",
       "    <tr>\n",
       "      <th class=\"blank level0\" >&nbsp;</th>\n",
       "      <th class=\"col_heading level0 col0\" >trade</th>\n",
       "      <th class=\"col_heading level0 col1\" >name</th>\n",
       "      <th class=\"col_heading level0 col2\" >qty_x</th>\n",
       "      <th class=\"col_heading level0 col3\" >price</th>\n",
       "      <th class=\"col_heading level0 col4\" >reason_x</th>\n",
       "      <th class=\"col_heading level0 col5\" >qty_y</th>\n",
       "      <th class=\"col_heading level0 col6\" >buy_target</th>\n",
       "      <th class=\"col_heading level0 col7\" >sell_target</th>\n",
       "      <th class=\"col_heading level0 col8\" >reason_y</th>\n",
       "    </tr>\n",
       "  </thead>\n",
       "  <tbody>\n",
       "    <tr>\n",
       "      <th id=\"T_6a6fd_level0_row0\" class=\"row_heading level0 row0\" >5</th>\n",
       "      <td id=\"T_6a6fd_row0_col0\" class=\"data row0 col0\" >B</td>\n",
       "      <td id=\"T_6a6fd_row0_col1\" class=\"data row0 col1\" >KBANK</td>\n",
       "      <td id=\"T_6a6fd_row0_col2\" class=\"data row0 col2\" >1,500</td>\n",
       "      <td id=\"T_6a6fd_row0_col3\" class=\"data row0 col3\" >146.00</td>\n",
       "      <td id=\"T_6a6fd_row0_col4\" class=\"data row0 col4\" >1L</td>\n",
       "      <td id=\"T_6a6fd_row0_col5\" class=\"data row0 col5\" >800</td>\n",
       "      <td id=\"T_6a6fd_row0_col6\" class=\"data row0 col6\" >146.00</td>\n",
       "      <td id=\"T_6a6fd_row0_col7\" class=\"data row0 col7\" >144.50</td>\n",
       "      <td id=\"T_6a6fd_row0_col8\" class=\"data row0 col8\" >5pct</td>\n",
       "    </tr>\n",
       "  </tbody>\n",
       "</table>\n"
      ],
      "text/plain": [
       "<pandas.io.formats.style.Styler at 0x181367b1700>"
      ]
     },
     "execution_count": 7,
     "metadata": {},
     "output_type": "execute_result"
    }
   ],
   "source": [
    "qty_mask = (df_merge.qty_x != df_merge.qty_y)\n",
    "df_merge[qty_mask][cols].style.format(format_dict)"
   ]
  },
  {
   "cell_type": "code",
   "execution_count": 8,
   "metadata": {},
   "outputs": [
    {
     "data": {
      "text/html": [
       "<style type=\"text/css\">\n",
       "</style>\n",
       "<table id=\"T_51238_\">\n",
       "  <thead>\n",
       "    <tr>\n",
       "      <th class=\"blank level0\" >&nbsp;</th>\n",
       "      <th class=\"col_heading level0 col0\" >trade</th>\n",
       "      <th class=\"col_heading level0 col1\" >name</th>\n",
       "      <th class=\"col_heading level0 col2\" >qty_x</th>\n",
       "      <th class=\"col_heading level0 col3\" >price</th>\n",
       "      <th class=\"col_heading level0 col4\" >reason_x</th>\n",
       "      <th class=\"col_heading level0 col5\" >qty_y</th>\n",
       "      <th class=\"col_heading level0 col6\" >buy_target</th>\n",
       "      <th class=\"col_heading level0 col7\" >sell_target</th>\n",
       "      <th class=\"col_heading level0 col8\" >reason_y</th>\n",
       "    </tr>\n",
       "  </thead>\n",
       "  <tbody>\n",
       "    <tr>\n",
       "      <th id=\"T_51238_level0_row0\" class=\"row_heading level0 row0\" >12</th>\n",
       "      <td id=\"T_51238_row0_col0\" class=\"data row0 col0\" >B</td>\n",
       "      <td id=\"T_51238_row0_col1\" class=\"data row0 col1\" >RCL</td>\n",
       "      <td id=\"T_51238_row0_col2\" class=\"data row0 col2\" >1,500</td>\n",
       "      <td id=\"T_51238_row0_col3\" class=\"data row0 col3\" >41.50</td>\n",
       "      <td id=\"T_51238_row0_col4\" class=\"data row0 col4\" >RD05pct</td>\n",
       "      <td id=\"T_51238_row0_col5\" class=\"data row0 col5\" >1,500</td>\n",
       "      <td id=\"T_51238_row0_col6\" class=\"data row0 col6\" >37.50</td>\n",
       "      <td id=\"T_51238_row0_col7\" class=\"data row0 col7\" >49.00</td>\n",
       "      <td id=\"T_51238_row0_col8\" class=\"data row0 col8\" >RD10pct</td>\n",
       "    </tr>\n",
       "  </tbody>\n",
       "</table>\n"
      ],
      "text/plain": [
       "<pandas.io.formats.style.Styler at 0x1813a24ad30>"
      ]
     },
     "execution_count": 8,
     "metadata": {},
     "output_type": "execute_result"
    }
   ],
   "source": [
    "buy_price_mask = (df_merge.price != df_merge.buy_target) & (df_merge.trade == 'B')\n",
    "df_merge[buy_price_mask][cols].style.format(format_dict)"
   ]
  },
  {
   "cell_type": "code",
   "execution_count": 9,
   "metadata": {},
   "outputs": [
    {
     "data": {
      "text/html": [
       "<style type=\"text/css\">\n",
       "</style>\n",
       "<table id=\"T_83a72_\">\n",
       "  <thead>\n",
       "    <tr>\n",
       "      <th class=\"blank level0\" >&nbsp;</th>\n",
       "      <th class=\"col_heading level0 col0\" >trade</th>\n",
       "      <th class=\"col_heading level0 col1\" >name</th>\n",
       "      <th class=\"col_heading level0 col2\" >qty_x</th>\n",
       "      <th class=\"col_heading level0 col3\" >price</th>\n",
       "      <th class=\"col_heading level0 col4\" >reason_x</th>\n",
       "      <th class=\"col_heading level0 col5\" >qty_y</th>\n",
       "      <th class=\"col_heading level0 col6\" >buy_target</th>\n",
       "      <th class=\"col_heading level0 col7\" >sell_target</th>\n",
       "      <th class=\"col_heading level0 col8\" >reason_y</th>\n",
       "    </tr>\n",
       "  </thead>\n",
       "  <tbody>\n",
       "    <tr>\n",
       "      <th id=\"T_83a72_level0_row0\" class=\"row_heading level0 row0\" >23</th>\n",
       "      <td id=\"T_83a72_row0_col0\" class=\"data row0 col0\" >S</td>\n",
       "      <td id=\"T_83a72_row0_col1\" class=\"data row0 col1\" >MCS</td>\n",
       "      <td id=\"T_83a72_row0_col2\" class=\"data row0 col2\" >5,000</td>\n",
       "      <td id=\"T_83a72_row0_col3\" class=\"data row0 col3\" >15.30</td>\n",
       "      <td id=\"T_83a72_row0_col4\" class=\"data row0 col4\" >CUT</td>\n",
       "      <td id=\"T_83a72_row0_col5\" class=\"data row0 col5\" >5,000</td>\n",
       "      <td id=\"T_83a72_row0_col6\" class=\"data row0 col6\" >0.00</td>\n",
       "      <td id=\"T_83a72_row0_col7\" class=\"data row0 col7\" >15.00</td>\n",
       "      <td id=\"T_83a72_row0_col8\" class=\"data row0 col8\" >CUT</td>\n",
       "    </tr>\n",
       "  </tbody>\n",
       "</table>\n"
      ],
      "text/plain": [
       "<pandas.io.formats.style.Styler at 0x1813a295fa0>"
      ]
     },
     "execution_count": 9,
     "metadata": {},
     "output_type": "execute_result"
    }
   ],
   "source": [
    "sell_price_mask = (df_merge.price != df_merge.sell_target) & (df_merge.trade == 'S')\n",
    "df_merge[sell_price_mask][cols].style.format(format_dict)"
   ]
  },
  {
   "cell_type": "code",
   "execution_count": 10,
   "metadata": {
    "scrolled": true
   },
   "outputs": [
    {
     "data": {
      "text/html": [
       "<style type=\"text/css\">\n",
       "</style>\n",
       "<table id=\"T_4619d_\">\n",
       "  <thead>\n",
       "    <tr>\n",
       "      <th class=\"blank level0\" >&nbsp;</th>\n",
       "      <th class=\"col_heading level0 col0\" >trade</th>\n",
       "      <th class=\"col_heading level0 col1\" >name</th>\n",
       "      <th class=\"col_heading level0 col2\" >qty_x</th>\n",
       "      <th class=\"col_heading level0 col3\" >price</th>\n",
       "      <th class=\"col_heading level0 col4\" >reason_x</th>\n",
       "      <th class=\"col_heading level0 col5\" >qty_y</th>\n",
       "      <th class=\"col_heading level0 col6\" >buy_target</th>\n",
       "      <th class=\"col_heading level0 col7\" >sell_target</th>\n",
       "      <th class=\"col_heading level0 col8\" >reason_y</th>\n",
       "    </tr>\n",
       "  </thead>\n",
       "  <tbody>\n",
       "    <tr>\n",
       "      <th id=\"T_4619d_level0_row0\" class=\"row_heading level0 row0\" >2</th>\n",
       "      <td id=\"T_4619d_row0_col0\" class=\"data row0 col0\" >B</td>\n",
       "      <td id=\"T_4619d_row0_col1\" class=\"data row0 col1\" >BGRIM</td>\n",
       "      <td id=\"T_4619d_row0_col2\" class=\"data row0 col2\" >3,000</td>\n",
       "      <td id=\"T_4619d_row0_col3\" class=\"data row0 col3\" >34.00</td>\n",
       "      <td id=\"T_4619d_row0_col4\" class=\"data row0 col4\" >RD15pct</td>\n",
       "      <td id=\"T_4619d_row0_col5\" class=\"data row0 col5\" >3,000</td>\n",
       "      <td id=\"T_4619d_row0_col6\" class=\"data row0 col6\" >34.00</td>\n",
       "      <td id=\"T_4619d_row0_col7\" class=\"data row0 col7\" >40.25</td>\n",
       "      <td id=\"T_4619d_row0_col8\" class=\"data row0 col8\" >CP1S</td>\n",
       "    </tr>\n",
       "    <tr>\n",
       "      <th id=\"T_4619d_level0_row1\" class=\"row_heading level0 row1\" >5</th>\n",
       "      <td id=\"T_4619d_row1_col0\" class=\"data row1 col0\" >B</td>\n",
       "      <td id=\"T_4619d_row1_col1\" class=\"data row1 col1\" >KBANK</td>\n",
       "      <td id=\"T_4619d_row1_col2\" class=\"data row1 col2\" >1,500</td>\n",
       "      <td id=\"T_4619d_row1_col3\" class=\"data row1 col3\" >146.00</td>\n",
       "      <td id=\"T_4619d_row1_col4\" class=\"data row1 col4\" >1L</td>\n",
       "      <td id=\"T_4619d_row1_col5\" class=\"data row1 col5\" >800</td>\n",
       "      <td id=\"T_4619d_row1_col6\" class=\"data row1 col6\" >146.00</td>\n",
       "      <td id=\"T_4619d_row1_col7\" class=\"data row1 col7\" >144.50</td>\n",
       "      <td id=\"T_4619d_row1_col8\" class=\"data row1 col8\" >5pct</td>\n",
       "    </tr>\n",
       "    <tr>\n",
       "      <th id=\"T_4619d_level0_row2\" class=\"row_heading level0 row2\" >12</th>\n",
       "      <td id=\"T_4619d_row2_col0\" class=\"data row2 col0\" >B</td>\n",
       "      <td id=\"T_4619d_row2_col1\" class=\"data row2 col1\" >RCL</td>\n",
       "      <td id=\"T_4619d_row2_col2\" class=\"data row2 col2\" >1,500</td>\n",
       "      <td id=\"T_4619d_row2_col3\" class=\"data row2 col3\" >41.50</td>\n",
       "      <td id=\"T_4619d_row2_col4\" class=\"data row2 col4\" >RD05pct</td>\n",
       "      <td id=\"T_4619d_row2_col5\" class=\"data row2 col5\" >1,500</td>\n",
       "      <td id=\"T_4619d_row2_col6\" class=\"data row2 col6\" >37.50</td>\n",
       "      <td id=\"T_4619d_row2_col7\" class=\"data row2 col7\" >49.00</td>\n",
       "      <td id=\"T_4619d_row2_col8\" class=\"data row2 col8\" >RD10pct</td>\n",
       "    </tr>\n",
       "    <tr>\n",
       "      <th id=\"T_4619d_level0_row3\" class=\"row_heading level0 row3\" >17</th>\n",
       "      <td id=\"T_4619d_row3_col0\" class=\"data row3 col0\" >B</td>\n",
       "      <td id=\"T_4619d_row3_col1\" class=\"data row3 col1\" >TVO</td>\n",
       "      <td id=\"T_4619d_row3_col2\" class=\"data row3 col2\" >3,600</td>\n",
       "      <td id=\"T_4619d_row3_col3\" class=\"data row3 col3\" >30.00</td>\n",
       "      <td id=\"T_4619d_row3_col4\" class=\"data row3 col4\" >3L</td>\n",
       "      <td id=\"T_4619d_row3_col5\" class=\"data row3 col5\" >3,600</td>\n",
       "      <td id=\"T_4619d_row3_col6\" class=\"data row3 col6\" >30.00</td>\n",
       "      <td id=\"T_4619d_row3_col7\" class=\"data row3 col7\" >0.00</td>\n",
       "      <td id=\"T_4619d_row3_col8\" class=\"data row3 col8\" >DOS</td>\n",
       "    </tr>\n",
       "    <tr>\n",
       "      <th id=\"T_4619d_level0_row4\" class=\"row_heading level0 row4\" >27</th>\n",
       "      <td id=\"T_4619d_row4_col0\" class=\"data row4 col0\" >S</td>\n",
       "      <td id=\"T_4619d_row4_col1\" class=\"data row4 col1\" >SYNEX</td>\n",
       "      <td id=\"T_4619d_row4_col2\" class=\"data row4 col2\" >3,000</td>\n",
       "      <td id=\"T_4619d_row4_col3\" class=\"data row4 col3\" >33.50</td>\n",
       "      <td id=\"T_4619d_row4_col4\" class=\"data row4 col4\" >10pct</td>\n",
       "      <td id=\"T_4619d_row4_col5\" class=\"data row4 col5\" >3,000</td>\n",
       "      <td id=\"T_4619d_row4_col6\" class=\"data row4 col6\" >26.50</td>\n",
       "      <td id=\"T_4619d_row4_col7\" class=\"data row4 col7\" >33.50</td>\n",
       "      <td id=\"T_4619d_row4_col8\" class=\"data row4 col8\" >RD10pct</td>\n",
       "    </tr>\n",
       "  </tbody>\n",
       "</table>\n"
      ],
      "text/plain": [
       "<pandas.io.formats.style.Styler at 0x1813a29b7f0>"
      ]
     },
     "execution_count": 10,
     "metadata": {},
     "output_type": "execute_result"
    }
   ],
   "source": [
    "reason_mask = (df_merge.reason_x != df_merge.reason_y)\n",
    "df_merge[reason_mask][cols].style.format(format_dict)"
   ]
  },
  {
   "cell_type": "markdown",
   "metadata": {},
   "source": [
    "### End of Loop process"
   ]
  },
  {
   "cell_type": "code",
   "execution_count": 11,
   "metadata": {},
   "outputs": [],
   "source": [
    "file_name = 'orders.csv'\n",
    "data_file = data_path + file_name\n",
    "output_file = csv_path + file_name\n",
    "box_file = box_path + file_name\n",
    "data_file, output_file, box_file\n",
    "\n",
    "orders[colt].to_csv(output_file, header=True, index=False)\n",
    "orders[colt].to_csv(data_file,   header=True, index=False)\n",
    "orders[colt].to_csv(box_file,    header=True, index=False)"
   ]
  },
  {
   "cell_type": "markdown",
   "metadata": {},
   "source": [
    "### After call ord-log"
   ]
  },
  {
   "cell_type": "code",
   "execution_count": 12,
   "metadata": {},
   "outputs": [],
   "source": [
    "def categorise(row):  \n",
    "    if row['col0'] == 'B':\n",
    "        return 'Buy'\n",
    "    else:\n",
    "        return 'Sell'"
   ]
  },
  {
   "cell_type": "code",
   "execution_count": 27,
   "metadata": {},
   "outputs": [
    {
     "data": {
      "text/plain": [
       "col0       object\n",
       "name       object\n",
       "spd        object\n",
       "reason     object\n",
       "market     object\n",
       "qty        object\n",
       "target     object\n",
       "current    object\n",
       "chg        object\n",
       "percent    object\n",
       "trans      object\n",
       "dtype: object"
      ]
     },
     "execution_count": 27,
     "metadata": {},
     "output_type": "execute_result"
    }
   ],
   "source": [
    "df = pd.read_csv('../data/orders-log.csv', header=None, prefix = 'col',usecols=[0,1,2,3,4,5,6,7,8,9])\n",
    "df.rename(columns = {'col1': 'name', 'col2': 'spd','col3': 'reason', 'col4': 'market','col5': 'qty', 'col6': 'target','col7': 'current', 'col8': 'chg', 'col9': 'percent'}, inplace = True)\n",
    "df['trans'] = df.apply(lambda row: categorise(row), axis=1)\n",
    "#df['qty'] = df['qty'].astype('int64')\n",
    "df.dtypes"
   ]
  },
  {
   "cell_type": "code",
   "execution_count": 28,
   "metadata": {
    "scrolled": false
   },
   "outputs": [
    {
     "data": {
      "text/html": [
       "<div><table id=\"b9da4489-d774-4490-89c3-6d4a36336bf5\" class=\"display\"><thead>\n",
       "    <tr style=\"text-align: right;\">\n",
       "      \n",
       "      <th>trans</th>\n",
       "      <th>name</th>\n",
       "      <th>spd</th>\n",
       "      <th>reason</th>\n",
       "      <th>qty</th>\n",
       "      <th>target</th>\n",
       "      <th>current</th>\n",
       "      <th>chg</th>\n",
       "      <th>percent</th>\n",
       "    </tr>\n",
       "  </thead></table>\n",
       "<script type=\"text/javascript\">\n",
       "require([\"datatables\"], function (datatables) {\n",
       "    $(document).ready(function () {\n",
       "        var dt_args = {\"columnDefs\": [{\"width\": \"70px\", \"targets\": \"_all\"}], \"data\": [[\"Sell\", \"name\", \"spd\", \"reason\", \"qty\", \"target\", \"current\", \"change\", \"percent\"], [\"Buy\", \"BGC\", \"-5\", \"DOS\", \"10000\", \"10.0\", \"10.50\", \"+0.10\", \"+0.96%\"], [\"Buy\", \"BGRIM\", \"-4\", \"RD15pct\", \"3000\", \"34.0\", \"35.00\", \"+0.25\", \"+0.72%\"], [\"Buy\", \"EPG\", \"-5\", \"RD10pct\", \"6000\", \"9.9\", \"10.30\", \"0.00\", \"0.00%\"], [\"Buy\", \"GLOBAL\", \"-5\", \"RD05pct\", \"7500\", \"18.2\", \"18.70\", \"+0.30\", \"+1.63%\"], [\"Buy\", \"KTC\", \"-13\", \"3L\", \"5000\", \"56.0\", \"59.25\", \"-0.25\", \"-0.42%\"], [\"Buy\", \"NOBLE\", \"-6\", \"RD15%\", \"21000\", \"5.85\", \"6.15\", \"0.00\", \"0.00%\"], [\"Buy\", \"PTT\", \"-9\", \"RD05%\", \"3000\", \"36.5\", \"38.75\", \"0.00\", \"0.00%\"], [\"Buy\", \"PTTEP\", \"-4\", \"1L\", \"1000\", \"126.0\", \"128.00\", \"+1.00\", \"+0.79%\"], [\"Buy\", \"PTTGC\", \"-10\", \"RD10pct\", \"1200\", \"54.25\", \"56.75\", \"-0.25\", \"-0.44%\"], [\"Buy\", \"RATCH\", \"-7\", \"RD05%\", \"3000\", \"42.75\", \"44.50\", \"-0.25\", \"-0.56%\"], [\"Buy\", \"RCL\", \"-9\", \"RD15pct\", \"1500\", \"37.5\", \"39.75\", \"+0.50\", \"+1.27%\"], [\"Buy\", \"ROJNA\", \"-5\", \"6L\", \"18000\", \"6.2\", \"6.45\", \"+0.05\", \"+0.78%\"], [\"Buy\", \"SCB\", \"-10\", \"1L\", \"2400\", \"120.0\", \"125.00\", \"0.00\", \"0.00%\"], [\"Buy\", \"SCC\", \"-10\", \"RD05pct\", \"300\", \"378.0\", \"388.00\", \"-1.00\", \"-0.26%\"], [\"Buy\", \"STA\", \"-5\", \"RD15pct\", \"2500\", \"28.0\", \"29.25\", \"+0.25\", \"+0.86%\"], [\"Buy\", \"SYNEX\", \"-10\", \"RD10pct\", \"1500\", \"27.5\", \"30.00\", \"-0.75\", \"-2.44%\"], [\"Buy\", \"TVO\", \"-5\", \"DOS\", \"3600\", \"30.0\", \"31.25\", \"-0.25\", \"-0.79%\"], [\"Buy\", \"TYCN\", \"-7\", \"RD10pct\", \"8000\", \"3.32\", \"3.46\", \"+0.06\", \"+1.76%\"], [\"Sell\", \"CKP\", \"7\", \"10pct\", \"10000\", \"5.5\", \"5.15\", \"+0.17\", \"+3.41%\"], [\"Sell\", \"IVL\", \"12\", \"20pct\", \"3000\", \"50.5\", \"47.50\", \"-0.75\", \"-1.55%\"], [\"Sell\", \"LPF\", \"14\", \"DOS\", \"10000\", \"14.3\", \"12.90\", \"-0.40\", \"-3.01%\"], [\"Sell\", \"MCS\", \"1\", \"CUT\", \"5000\", \"14.7\", \"14.60\", \"0.00\", \"0.00%\"], [\"Sell\", \"NER\", \"3\", \"CUT\", \"9000\", \"7.3\", \"7.15\", \"+0.05\", \"+0.70%\"], [\"Sell\", \"RJH\", \"14\", \"10pct\", \"1500\", \"36.25\", \"32.75\", \"+0.25\", \"+0.77%\"], [\"Sell\", \"TOP\", \"3\", \"5pct\", \"2000\", \"53.25\", \"52.50\", \"0.00\", \"0.00%\"], [\"Sell\", \"TSE\", \"11\", \"5pct\", \"40000\", \"2.74\", \"2.52\", \"+0.02\", \"+0.80%\"], [\"Sell\", \"TSTH\", \"10\", \"LDH\", \"75000\", \"1.48\", \"1.38\", \"+0.02\", \"+1.47%\"], [\"Sell\", \"WHART\", \"11\", \"DOS\", \"10000\", \"12.8\", \"11.70\", \"-0.30\", \"-2.50%\"]]};\n",
       "        dt_args = eval_functions(dt_args);\n",
       "        table = $('#b9da4489-d774-4490-89c3-6d4a36336bf5').DataTable(dt_args);\n",
       "    });\n",
       "})\n",
       "</script>\n",
       "</div>\n"
      ],
      "text/plain": [
       "<IPython.core.display.HTML object>"
      ]
     },
     "metadata": {},
     "output_type": "display_data"
    }
   ],
   "source": [
    "from itables import show\n",
    "show(df[['trans','name','spd','reason','qty','target','current','chg','percent']])"
   ]
  },
  {
   "cell_type": "code",
   "execution_count": 29,
   "metadata": {},
   "outputs": [
    {
     "data": {
      "text/plain": [
       "0"
      ]
     },
     "execution_count": 29,
     "metadata": {},
     "output_type": "execute_result"
    }
   ],
   "source": [
    "sql = '''\n",
    "UPDATE stocks\n",
    "SET buy_target = 0\n",
    "WHERE buy_target IS NULL'''\n",
    "rp = conlite.execute(sql)\n",
    "rp.rowcount"
   ]
  },
  {
   "cell_type": "code",
   "execution_count": 30,
   "metadata": {},
   "outputs": [
    {
     "data": {
      "text/plain": [
       "0"
      ]
     },
     "execution_count": 30,
     "metadata": {},
     "output_type": "execute_result"
    }
   ],
   "source": [
    "sql = '''\n",
    "UPDATE stocks\n",
    "SET sell_target = 0\n",
    "WHERE sell_target IS NULL'''\n",
    "rp = conlite.execute(sql)\n",
    "rp.rowcount"
   ]
  },
  {
   "cell_type": "code",
   "execution_count": 31,
   "metadata": {},
   "outputs": [
    {
     "data": {
      "text/plain": [
       "0"
      ]
     },
     "execution_count": 31,
     "metadata": {},
     "output_type": "execute_result"
    }
   ],
   "source": [
    "sql = '''\n",
    "UPDATE stocks\n",
    "SET available_qty = 0\n",
    "WHERE available_qty IS NULL'''\n",
    "rp = conlite.execute(sql)\n",
    "rp.rowcount"
   ]
  },
  {
   "cell_type": "code",
   "execution_count": 32,
   "metadata": {},
   "outputs": [
    {
     "data": {
      "text/plain": [
       "0"
      ]
     },
     "execution_count": 32,
     "metadata": {},
     "output_type": "execute_result"
    }
   ],
   "source": [
    "sql = '''\n",
    "UPDATE stocks\n",
    "SET cost = 0\n",
    "WHERE cost IS NULL'''\n",
    "rp = conlite.execute(sql)\n",
    "rp.rowcount"
   ]
  },
  {
   "cell_type": "code",
   "execution_count": 33,
   "metadata": {},
   "outputs": [
    {
     "data": {
      "text/plain": [
       "0"
      ]
     },
     "execution_count": 33,
     "metadata": {},
     "output_type": "execute_result"
    }
   ],
   "source": [
    "sql = '''\n",
    "UPDATE stocks\n",
    "SET qty = 0\n",
    "WHERE qty IS NULL'''\n",
    "rp = conlite.execute(sql)\n",
    "rp.rowcount"
   ]
  },
  {
   "cell_type": "code",
   "execution_count": 34,
   "metadata": {},
   "outputs": [
    {
     "data": {
      "text/html": [
       "<style type=\"text/css\">\n",
       "</style>\n",
       "<table id=\"T_d7f1e_\">\n",
       "  <thead>\n",
       "    <tr>\n",
       "      <th class=\"blank level0\" >&nbsp;</th>\n",
       "      <th class=\"col_heading level0 col0\" >id</th>\n",
       "      <th class=\"col_heading level0 col1\" >name</th>\n",
       "      <th class=\"col_heading level0 col2\" >max_price</th>\n",
       "      <th class=\"col_heading level0 col3\" >min_price</th>\n",
       "      <th class=\"col_heading level0 col4\" >status</th>\n",
       "      <th class=\"col_heading level0 col5\" >buy_target</th>\n",
       "      <th class=\"col_heading level0 col6\" >sell_target</th>\n",
       "      <th class=\"col_heading level0 col7\" >volume</th>\n",
       "      <th class=\"col_heading level0 col8\" >beta</th>\n",
       "      <th class=\"col_heading level0 col9\" >cost</th>\n",
       "      <th class=\"col_heading level0 col10\" >qty</th>\n",
       "      <th class=\"col_heading level0 col11\" >buy_spread</th>\n",
       "      <th class=\"col_heading level0 col12\" >sell_spread</th>\n",
       "      <th class=\"col_heading level0 col13\" >available_qty</th>\n",
       "      <th class=\"col_heading level0 col14\" >bl</th>\n",
       "      <th class=\"col_heading level0 col15\" >sh</th>\n",
       "      <th class=\"col_heading level0 col16\" >reason</th>\n",
       "      <th class=\"col_heading level0 col17\" >market</th>\n",
       "    </tr>\n",
       "  </thead>\n",
       "  <tbody>\n",
       "    <tr>\n",
       "      <th id=\"T_d7f1e_level0_row0\" class=\"row_heading level0 row0\" >56</th>\n",
       "      <td id=\"T_d7f1e_row0_col0\" class=\"data row0 col0\" >697</td>\n",
       "      <td id=\"T_d7f1e_row0_col1\" class=\"data row0 col1\" >PTTEP</td>\n",
       "      <td id=\"T_d7f1e_row0_col2\" class=\"data row0 col2\" >0.00</td>\n",
       "      <td id=\"T_d7f1e_row0_col3\" class=\"data row0 col3\" >0.00</td>\n",
       "      <td id=\"T_d7f1e_row0_col4\" class=\"data row0 col4\" >O</td>\n",
       "      <td id=\"T_d7f1e_row0_col5\" class=\"data row0 col5\" >0.00</td>\n",
       "      <td id=\"T_d7f1e_row0_col6\" class=\"data row0 col6\" >0.00</td>\n",
       "      <td id=\"T_d7f1e_row0_col7\" class=\"data row0 col7\" >0.00</td>\n",
       "      <td id=\"T_d7f1e_row0_col8\" class=\"data row0 col8\" >0.00</td>\n",
       "      <td id=\"T_d7f1e_row0_col9\" class=\"data row0 col9\" >0.000000</td>\n",
       "      <td id=\"T_d7f1e_row0_col10\" class=\"data row0 col10\" >0</td>\n",
       "      <td id=\"T_d7f1e_row0_col11\" class=\"data row0 col11\" >-4</td>\n",
       "      <td id=\"T_d7f1e_row0_col12\" class=\"data row0 col12\" >4</td>\n",
       "      <td id=\"T_d7f1e_row0_col13\" class=\"data row0 col13\" >0</td>\n",
       "      <td id=\"T_d7f1e_row0_col14\" class=\"data row0 col14\" >0</td>\n",
       "      <td id=\"T_d7f1e_row0_col15\" class=\"data row0 col15\" >0</td>\n",
       "      <td id=\"T_d7f1e_row0_col16\" class=\"data row0 col16\" >DOS</td>\n",
       "      <td id=\"T_d7f1e_row0_col17\" class=\"data row0 col17\" >SET50</td>\n",
       "    </tr>\n",
       "  </tbody>\n",
       "</table>\n"
      ],
      "text/plain": [
       "<pandas.io.formats.style.Styler at 0x27e3a3f0c70>"
      ]
     },
     "execution_count": 34,
     "metadata": {},
     "output_type": "execute_result"
    }
   ],
   "source": [
    "qty_mask = (stocks.qty == 0) & (stocks.status.isin(['B','I','O','S']))\n",
    "stocks[qty_mask].style.format(format_dict)"
   ]
  },
  {
   "cell_type": "code",
   "execution_count": 35,
   "metadata": {},
   "outputs": [
    {
     "data": {
      "text/html": [
       "<style type=\"text/css\">\n",
       "</style>\n",
       "<table id=\"T_78690_\">\n",
       "  <thead>\n",
       "    <tr>\n",
       "      <th class=\"blank level0\" >&nbsp;</th>\n",
       "      <th class=\"col_heading level0 col0\" >id</th>\n",
       "      <th class=\"col_heading level0 col1\" >name</th>\n",
       "      <th class=\"col_heading level0 col2\" >max_price</th>\n",
       "      <th class=\"col_heading level0 col3\" >min_price</th>\n",
       "      <th class=\"col_heading level0 col4\" >status</th>\n",
       "      <th class=\"col_heading level0 col5\" >buy_target</th>\n",
       "      <th class=\"col_heading level0 col6\" >sell_target</th>\n",
       "      <th class=\"col_heading level0 col7\" >volume</th>\n",
       "      <th class=\"col_heading level0 col8\" >beta</th>\n",
       "      <th class=\"col_heading level0 col9\" >cost</th>\n",
       "      <th class=\"col_heading level0 col10\" >qty</th>\n",
       "      <th class=\"col_heading level0 col11\" >buy_spread</th>\n",
       "      <th class=\"col_heading level0 col12\" >sell_spread</th>\n",
       "      <th class=\"col_heading level0 col13\" >available_qty</th>\n",
       "      <th class=\"col_heading level0 col14\" >bl</th>\n",
       "      <th class=\"col_heading level0 col15\" >sh</th>\n",
       "      <th class=\"col_heading level0 col16\" >reason</th>\n",
       "      <th class=\"col_heading level0 col17\" >market</th>\n",
       "    </tr>\n",
       "  </thead>\n",
       "  <tbody>\n",
       "    <tr>\n",
       "      <th id=\"T_78690_level0_row0\" class=\"row_heading level0 row0\" >56</th>\n",
       "      <td id=\"T_78690_row0_col0\" class=\"data row0 col0\" >697</td>\n",
       "      <td id=\"T_78690_row0_col1\" class=\"data row0 col1\" >PTTEP</td>\n",
       "      <td id=\"T_78690_row0_col2\" class=\"data row0 col2\" >0.00</td>\n",
       "      <td id=\"T_78690_row0_col3\" class=\"data row0 col3\" >0.00</td>\n",
       "      <td id=\"T_78690_row0_col4\" class=\"data row0 col4\" >O</td>\n",
       "      <td id=\"T_78690_row0_col5\" class=\"data row0 col5\" >0.00</td>\n",
       "      <td id=\"T_78690_row0_col6\" class=\"data row0 col6\" >0.00</td>\n",
       "      <td id=\"T_78690_row0_col7\" class=\"data row0 col7\" >0.00</td>\n",
       "      <td id=\"T_78690_row0_col8\" class=\"data row0 col8\" >0.00</td>\n",
       "      <td id=\"T_78690_row0_col9\" class=\"data row0 col9\" >0.000000</td>\n",
       "      <td id=\"T_78690_row0_col10\" class=\"data row0 col10\" >0</td>\n",
       "      <td id=\"T_78690_row0_col11\" class=\"data row0 col11\" >-4</td>\n",
       "      <td id=\"T_78690_row0_col12\" class=\"data row0 col12\" >4</td>\n",
       "      <td id=\"T_78690_row0_col13\" class=\"data row0 col13\" >0</td>\n",
       "      <td id=\"T_78690_row0_col14\" class=\"data row0 col14\" >0</td>\n",
       "      <td id=\"T_78690_row0_col15\" class=\"data row0 col15\" >0</td>\n",
       "      <td id=\"T_78690_row0_col16\" class=\"data row0 col16\" >DOS</td>\n",
       "      <td id=\"T_78690_row0_col17\" class=\"data row0 col17\" >SET50</td>\n",
       "    </tr>\n",
       "  </tbody>\n",
       "</table>\n"
      ],
      "text/plain": [
       "<pandas.io.formats.style.Styler at 0x27e3a135e80>"
      ]
     },
     "execution_count": 35,
     "metadata": {},
     "output_type": "execute_result"
    }
   ],
   "source": [
    "buy_mask = (stocks.buy_target == 0) & (stocks.status.isin(['B','O']))\n",
    "stocks[buy_mask].style.format(format_dict)"
   ]
  },
  {
   "cell_type": "code",
   "execution_count": 36,
   "metadata": {},
   "outputs": [
    {
     "data": {
      "text/html": [
       "<style type=\"text/css\">\n",
       "</style>\n",
       "<table id=\"T_3373c_\">\n",
       "  <thead>\n",
       "    <tr>\n",
       "      <th class=\"blank level0\" >&nbsp;</th>\n",
       "      <th class=\"col_heading level0 col0\" >id</th>\n",
       "      <th class=\"col_heading level0 col1\" >name</th>\n",
       "      <th class=\"col_heading level0 col2\" >max_price</th>\n",
       "      <th class=\"col_heading level0 col3\" >min_price</th>\n",
       "      <th class=\"col_heading level0 col4\" >status</th>\n",
       "      <th class=\"col_heading level0 col5\" >buy_target</th>\n",
       "      <th class=\"col_heading level0 col6\" >sell_target</th>\n",
       "      <th class=\"col_heading level0 col7\" >volume</th>\n",
       "      <th class=\"col_heading level0 col8\" >beta</th>\n",
       "      <th class=\"col_heading level0 col9\" >cost</th>\n",
       "      <th class=\"col_heading level0 col10\" >qty</th>\n",
       "      <th class=\"col_heading level0 col11\" >buy_spread</th>\n",
       "      <th class=\"col_heading level0 col12\" >sell_spread</th>\n",
       "      <th class=\"col_heading level0 col13\" >available_qty</th>\n",
       "      <th class=\"col_heading level0 col14\" >bl</th>\n",
       "      <th class=\"col_heading level0 col15\" >sh</th>\n",
       "      <th class=\"col_heading level0 col16\" >reason</th>\n",
       "      <th class=\"col_heading level0 col17\" >market</th>\n",
       "    </tr>\n",
       "  </thead>\n",
       "  <tbody>\n",
       "  </tbody>\n",
       "</table>\n"
      ],
      "text/plain": [
       "<pandas.io.formats.style.Styler at 0x27e3a3d3b50>"
      ]
     },
     "execution_count": 36,
     "metadata": {},
     "output_type": "execute_result"
    }
   ],
   "source": [
    "sell_mask = (stocks.sell_target == 0) & (stocks.status.isin(['I','S']))\n",
    "stocks[sell_mask].style.format(format_dict)"
   ]
  },
  {
   "cell_type": "code",
   "execution_count": null,
   "metadata": {},
   "outputs": [],
   "source": []
  }
 ],
 "metadata": {
  "anaconda-cloud": {},
  "kernelspec": {
   "display_name": "Python 3 (ipykernel)",
   "language": "python",
   "name": "python3"
  },
  "language_info": {
   "codemirror_mode": {
    "name": "ipython",
    "version": 3
   },
   "file_extension": ".py",
   "mimetype": "text/x-python",
   "name": "python",
   "nbconvert_exporter": "python",
   "pygments_lexer": "ipython3",
   "version": "3.8.11"
  }
 },
 "nbformat": 4,
 "nbformat_minor": 1
}
