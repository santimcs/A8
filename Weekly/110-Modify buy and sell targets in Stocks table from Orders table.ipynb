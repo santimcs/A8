{
 "cells": [
  {
   "cell_type": "code",
   "execution_count": 1,
   "metadata": {},
   "outputs": [],
   "source": [
    "import calendar\n",
    "import pandas as pd\n",
    "from datetime import date, timedelta\n",
    "from sqlalchemy import create_engine\n",
    "\n",
    "engine = create_engine(\"sqlite:///c:\\\\ruby\\\\port_lite\\\\db\\\\development.sqlite3\")\n",
    "conlite = engine.connect()\n",
    "\n",
    "data_path = \"../data/\"\n",
    "csv_path = \"\\\\Users\\\\User\\\\iCloudDrive\\\\\"\n",
    "box_path = \"\\\\Users\\\\User\\\\Dropbox\\\\\""
   ]
  },
  {
   "cell_type": "markdown",
   "metadata": {},
   "source": [
    "### Tables in the process"
   ]
  },
  {
   "cell_type": "code",
   "execution_count": 2,
   "metadata": {},
   "outputs": [],
   "source": [
    "cols = 'trade name qty_x price reason_x qty_y buy_target sell_target reason_y'.split()\n",
    "colt = 'trade name qty price active reason market'.split()"
   ]
  },
  {
   "cell_type": "code",
   "execution_count": 3,
   "metadata": {},
   "outputs": [],
   "source": [
    "format_dict = {\n",
    "    'qty':'{:,}','price':'{:.2f}',\n",
    "    'amount':'{:,.2f}','sell_amt':'{:,.2f}'\n",
    "}"
   ]
  },
  {
   "cell_type": "code",
   "execution_count": 4,
   "metadata": {},
   "outputs": [
    {
     "data": {
      "text/html": [
       "<style type=\"text/css\">\n",
       "</style>\n",
       "<table id=\"T_a3054_\">\n",
       "  <thead>\n",
       "    <tr>\n",
       "      <th class=\"blank level0\" >&nbsp;</th>\n",
       "      <th class=\"col_heading level0 col0\" >trade</th>\n",
       "      <th class=\"col_heading level0 col1\" >name</th>\n",
       "      <th class=\"col_heading level0 col2\" >qty</th>\n",
       "      <th class=\"col_heading level0 col3\" >price</th>\n",
       "      <th class=\"col_heading level0 col4\" >amount</th>\n",
       "      <th class=\"col_heading level0 col5\" >reason</th>\n",
       "      <th class=\"col_heading level0 col6\" >market</th>\n",
       "      <th class=\"col_heading level0 col7\" >active</th>\n",
       "    </tr>\n",
       "  </thead>\n",
       "  <tbody>\n",
       "    <tr>\n",
       "      <th id=\"T_a3054_level0_row0\" class=\"row_heading level0 row0\" >0</th>\n",
       "      <td id=\"T_a3054_row0_col0\" class=\"data row0 col0\" >B</td>\n",
       "      <td id=\"T_a3054_row0_col1\" class=\"data row0 col1\" >BGC</td>\n",
       "      <td id=\"T_a3054_row0_col2\" class=\"data row0 col2\" >10,000</td>\n",
       "      <td id=\"T_a3054_row0_col3\" class=\"data row0 col3\" >10.40</td>\n",
       "      <td id=\"T_a3054_row0_col4\" class=\"data row0 col4\" >104,000.00</td>\n",
       "      <td id=\"T_a3054_row0_col5\" class=\"data row0 col5\" >DOS</td>\n",
       "      <td id=\"T_a3054_row0_col6\" class=\"data row0 col6\" >SET</td>\n",
       "      <td id=\"T_a3054_row0_col7\" class=\"data row0 col7\" >2</td>\n",
       "    </tr>\n",
       "    <tr>\n",
       "      <th id=\"T_a3054_level0_row1\" class=\"row_heading level0 row1\" >1</th>\n",
       "      <td id=\"T_a3054_row1_col0\" class=\"data row1 col0\" >B</td>\n",
       "      <td id=\"T_a3054_row1_col1\" class=\"data row1 col1\" >GLOBAL</td>\n",
       "      <td id=\"T_a3054_row1_col2\" class=\"data row1 col2\" >7,500</td>\n",
       "      <td id=\"T_a3054_row1_col3\" class=\"data row1 col3\" >19.00</td>\n",
       "      <td id=\"T_a3054_row1_col4\" class=\"data row1 col4\" >142,500.00</td>\n",
       "      <td id=\"T_a3054_row1_col5\" class=\"data row1 col5\" >RD05%</td>\n",
       "      <td id=\"T_a3054_row1_col6\" class=\"data row1 col6\" >SET50</td>\n",
       "      <td id=\"T_a3054_row1_col7\" class=\"data row1 col7\" >1</td>\n",
       "    </tr>\n",
       "    <tr>\n",
       "      <th id=\"T_a3054_level0_row2\" class=\"row_heading level0 row2\" >2</th>\n",
       "      <td id=\"T_a3054_row2_col0\" class=\"data row2 col0\" >B</td>\n",
       "      <td id=\"T_a3054_row2_col1\" class=\"data row2 col1\" >KCE</td>\n",
       "      <td id=\"T_a3054_row2_col2\" class=\"data row2 col2\" >2,000</td>\n",
       "      <td id=\"T_a3054_row2_col3\" class=\"data row2 col3\" >82.50</td>\n",
       "      <td id=\"T_a3054_row2_col4\" class=\"data row2 col4\" >165,000.00</td>\n",
       "      <td id=\"T_a3054_row2_col5\" class=\"data row2 col5\" >RD05%</td>\n",
       "      <td id=\"T_a3054_row2_col6\" class=\"data row2 col6\" >SET50</td>\n",
       "      <td id=\"T_a3054_row2_col7\" class=\"data row2 col7\" >2</td>\n",
       "    </tr>\n",
       "    <tr>\n",
       "      <th id=\"T_a3054_level0_row3\" class=\"row_heading level0 row3\" >3</th>\n",
       "      <td id=\"T_a3054_row3_col0\" class=\"data row3 col0\" >B</td>\n",
       "      <td id=\"T_a3054_row3_col1\" class=\"data row3 col1\" >NOBLE</td>\n",
       "      <td id=\"T_a3054_row3_col2\" class=\"data row3 col2\" >21,000</td>\n",
       "      <td id=\"T_a3054_row3_col3\" class=\"data row3 col3\" >5.85</td>\n",
       "      <td id=\"T_a3054_row3_col4\" class=\"data row3 col4\" >122,850.00</td>\n",
       "      <td id=\"T_a3054_row3_col5\" class=\"data row3 col5\" >RD15%</td>\n",
       "      <td id=\"T_a3054_row3_col6\" class=\"data row3 col6\" >SET</td>\n",
       "      <td id=\"T_a3054_row3_col7\" class=\"data row3 col7\" >1</td>\n",
       "    </tr>\n",
       "    <tr>\n",
       "      <th id=\"T_a3054_level0_row4\" class=\"row_heading level0 row4\" >4</th>\n",
       "      <td id=\"T_a3054_row4_col0\" class=\"data row4 col0\" >B</td>\n",
       "      <td id=\"T_a3054_row4_col1\" class=\"data row4 col1\" >PTT</td>\n",
       "      <td id=\"T_a3054_row4_col2\" class=\"data row4 col2\" >3,000</td>\n",
       "      <td id=\"T_a3054_row4_col3\" class=\"data row4 col3\" >36.50</td>\n",
       "      <td id=\"T_a3054_row4_col4\" class=\"data row4 col4\" >109,500.00</td>\n",
       "      <td id=\"T_a3054_row4_col5\" class=\"data row4 col5\" >RD05%</td>\n",
       "      <td id=\"T_a3054_row4_col6\" class=\"data row4 col6\" >SET50</td>\n",
       "      <td id=\"T_a3054_row4_col7\" class=\"data row4 col7\" >1</td>\n",
       "    </tr>\n",
       "    <tr>\n",
       "      <th id=\"T_a3054_level0_row5\" class=\"row_heading level0 row5\" >5</th>\n",
       "      <td id=\"T_a3054_row5_col0\" class=\"data row5 col0\" >B</td>\n",
       "      <td id=\"T_a3054_row5_col1\" class=\"data row5 col1\" >RATCH</td>\n",
       "      <td id=\"T_a3054_row5_col2\" class=\"data row5 col2\" >3,000</td>\n",
       "      <td id=\"T_a3054_row5_col3\" class=\"data row5 col3\" >42.75</td>\n",
       "      <td id=\"T_a3054_row5_col4\" class=\"data row5 col4\" >128,250.00</td>\n",
       "      <td id=\"T_a3054_row5_col5\" class=\"data row5 col5\" >RD05%</td>\n",
       "      <td id=\"T_a3054_row5_col6\" class=\"data row5 col6\" >SET50</td>\n",
       "      <td id=\"T_a3054_row5_col7\" class=\"data row5 col7\" >1</td>\n",
       "    </tr>\n",
       "    <tr>\n",
       "      <th id=\"T_a3054_level0_row6\" class=\"row_heading level0 row6\" >6</th>\n",
       "      <td id=\"T_a3054_row6_col0\" class=\"data row6 col0\" >B</td>\n",
       "      <td id=\"T_a3054_row6_col1\" class=\"data row6 col1\" >ROJNA</td>\n",
       "      <td id=\"T_a3054_row6_col2\" class=\"data row6 col2\" >18,000</td>\n",
       "      <td id=\"T_a3054_row6_col3\" class=\"data row6 col3\" >6.50</td>\n",
       "      <td id=\"T_a3054_row6_col4\" class=\"data row6 col4\" >117,000.00</td>\n",
       "      <td id=\"T_a3054_row6_col5\" class=\"data row6 col5\" >6L</td>\n",
       "      <td id=\"T_a3054_row6_col6\" class=\"data row6 col6\" >SET</td>\n",
       "      <td id=\"T_a3054_row6_col7\" class=\"data row6 col7\" >2</td>\n",
       "    </tr>\n",
       "    <tr>\n",
       "      <th id=\"T_a3054_level0_row7\" class=\"row_heading level0 row7\" >7</th>\n",
       "      <td id=\"T_a3054_row7_col0\" class=\"data row7 col0\" >B</td>\n",
       "      <td id=\"T_a3054_row7_col1\" class=\"data row7 col1\" >SIS</td>\n",
       "      <td id=\"T_a3054_row7_col2\" class=\"data row7 col2\" >3,000</td>\n",
       "      <td id=\"T_a3054_row7_col3\" class=\"data row7 col3\" >42.00</td>\n",
       "      <td id=\"T_a3054_row7_col4\" class=\"data row7 col4\" >126,000.00</td>\n",
       "      <td id=\"T_a3054_row7_col5\" class=\"data row7 col5\" >DFM10%</td>\n",
       "      <td id=\"T_a3054_row7_col6\" class=\"data row7 col6\" >SET</td>\n",
       "      <td id=\"T_a3054_row7_col7\" class=\"data row7 col7\" >0</td>\n",
       "    </tr>\n",
       "    <tr>\n",
       "      <th id=\"T_a3054_level0_row8\" class=\"row_heading level0 row8\" >8</th>\n",
       "      <td id=\"T_a3054_row8_col0\" class=\"data row8 col0\" >B</td>\n",
       "      <td id=\"T_a3054_row8_col1\" class=\"data row8 col1\" >STA</td>\n",
       "      <td id=\"T_a3054_row8_col2\" class=\"data row8 col2\" >2,500</td>\n",
       "      <td id=\"T_a3054_row8_col3\" class=\"data row8 col3\" >28.00</td>\n",
       "      <td id=\"T_a3054_row8_col4\" class=\"data row8 col4\" >70,000.00</td>\n",
       "      <td id=\"T_a3054_row8_col5\" class=\"data row8 col5\" >RD15%</td>\n",
       "      <td id=\"T_a3054_row8_col6\" class=\"data row8 col6\" >SET50</td>\n",
       "      <td id=\"T_a3054_row8_col7\" class=\"data row8 col7\" >0</td>\n",
       "    </tr>\n",
       "    <tr>\n",
       "      <th id=\"T_a3054_level0_row9\" class=\"row_heading level0 row9\" >9</th>\n",
       "      <td id=\"T_a3054_row9_col0\" class=\"data row9 col0\" >B</td>\n",
       "      <td id=\"T_a3054_row9_col1\" class=\"data row9 col1\" >SYNEX</td>\n",
       "      <td id=\"T_a3054_row9_col2\" class=\"data row9 col2\" >6,000</td>\n",
       "      <td id=\"T_a3054_row9_col3\" class=\"data row9 col3\" >31.50</td>\n",
       "      <td id=\"T_a3054_row9_col4\" class=\"data row9 col4\" >189,000.00</td>\n",
       "      <td id=\"T_a3054_row9_col5\" class=\"data row9 col5\" >DFM05%</td>\n",
       "      <td id=\"T_a3054_row9_col6\" class=\"data row9 col6\" >SET100</td>\n",
       "      <td id=\"T_a3054_row9_col7\" class=\"data row9 col7\" >2</td>\n",
       "    </tr>\n",
       "    <tr>\n",
       "      <th id=\"T_a3054_level0_row10\" class=\"row_heading level0 row10\" >10</th>\n",
       "      <td id=\"T_a3054_row10_col0\" class=\"data row10 col0\" >B</td>\n",
       "      <td id=\"T_a3054_row10_col1\" class=\"data row10 col1\" >TCAP</td>\n",
       "      <td id=\"T_a3054_row10_col2\" class=\"data row10 col2\" >6,000</td>\n",
       "      <td id=\"T_a3054_row10_col3\" class=\"data row10 col3\" >35.00</td>\n",
       "      <td id=\"T_a3054_row10_col4\" class=\"data row10 col4\" >210,000.00</td>\n",
       "      <td id=\"T_a3054_row10_col5\" class=\"data row10 col5\" >1L</td>\n",
       "      <td id=\"T_a3054_row10_col6\" class=\"data row10 col6\" >SET100</td>\n",
       "      <td id=\"T_a3054_row10_col7\" class=\"data row10 col7\" >0</td>\n",
       "    </tr>\n",
       "    <tr>\n",
       "      <th id=\"T_a3054_level0_row11\" class=\"row_heading level0 row11\" >11</th>\n",
       "      <td id=\"T_a3054_row11_col0\" class=\"data row11 col0\" >B</td>\n",
       "      <td id=\"T_a3054_row11_col1\" class=\"data row11 col1\" >TISCO</td>\n",
       "      <td id=\"T_a3054_row11_col2\" class=\"data row11 col2\" >2,000</td>\n",
       "      <td id=\"T_a3054_row11_col3\" class=\"data row11 col3\" >94.50</td>\n",
       "      <td id=\"T_a3054_row11_col4\" class=\"data row11 col4\" >189,000.00</td>\n",
       "      <td id=\"T_a3054_row11_col5\" class=\"data row11 col5\" >CP1S</td>\n",
       "      <td id=\"T_a3054_row11_col6\" class=\"data row11 col6\" >SET50</td>\n",
       "      <td id=\"T_a3054_row11_col7\" class=\"data row11 col7\" >0</td>\n",
       "    </tr>\n",
       "    <tr>\n",
       "      <th id=\"T_a3054_level0_row12\" class=\"row_heading level0 row12\" >12</th>\n",
       "      <td id=\"T_a3054_row12_col0\" class=\"data row12 col0\" >B</td>\n",
       "      <td id=\"T_a3054_row12_col1\" class=\"data row12 col1\" >TSTH</td>\n",
       "      <td id=\"T_a3054_row12_col2\" class=\"data row12 col2\" >45,000</td>\n",
       "      <td id=\"T_a3054_row12_col3\" class=\"data row12 col3\" >1.42</td>\n",
       "      <td id=\"T_a3054_row12_col4\" class=\"data row12 col4\" >63,900.00</td>\n",
       "      <td id=\"T_a3054_row12_col5\" class=\"data row12 col5\" >5%</td>\n",
       "      <td id=\"T_a3054_row12_col6\" class=\"data row12 col6\" >SET</td>\n",
       "      <td id=\"T_a3054_row12_col7\" class=\"data row12 col7\" >1</td>\n",
       "    </tr>\n",
       "    <tr>\n",
       "      <th id=\"T_a3054_level0_row13\" class=\"row_heading level0 row13\" >13</th>\n",
       "      <td id=\"T_a3054_row13_col0\" class=\"data row13 col0\" >B</td>\n",
       "      <td id=\"T_a3054_row13_col1\" class=\"data row13 col1\" >TVO</td>\n",
       "      <td id=\"T_a3054_row13_col2\" class=\"data row13 col2\" >3,600</td>\n",
       "      <td id=\"T_a3054_row13_col3\" class=\"data row13 col3\" >30.00</td>\n",
       "      <td id=\"T_a3054_row13_col4\" class=\"data row13 col4\" >108,000.00</td>\n",
       "      <td id=\"T_a3054_row13_col5\" class=\"data row13 col5\" >DOS</td>\n",
       "      <td id=\"T_a3054_row13_col6\" class=\"data row13 col6\" >SET</td>\n",
       "      <td id=\"T_a3054_row13_col7\" class=\"data row13 col7\" >2</td>\n",
       "    </tr>\n",
       "    <tr>\n",
       "      <th id=\"T_a3054_level0_row14\" class=\"row_heading level0 row14\" >14</th>\n",
       "      <td id=\"T_a3054_row14_col0\" class=\"data row14 col0\" >S</td>\n",
       "      <td id=\"T_a3054_row14_col1\" class=\"data row14 col1\" >BCH</td>\n",
       "      <td id=\"T_a3054_row14_col2\" class=\"data row14 col2\" >5,000</td>\n",
       "      <td id=\"T_a3054_row14_col3\" class=\"data row14 col3\" >21.40</td>\n",
       "      <td id=\"T_a3054_row14_col4\" class=\"data row14 col4\" >107,000.00</td>\n",
       "      <td id=\"T_a3054_row14_col5\" class=\"data row14 col5\" >CP1S</td>\n",
       "      <td id=\"T_a3054_row14_col6\" class=\"data row14 col6\" >SET100</td>\n",
       "      <td id=\"T_a3054_row14_col7\" class=\"data row14 col7\" >1</td>\n",
       "    </tr>\n",
       "    <tr>\n",
       "      <th id=\"T_a3054_level0_row15\" class=\"row_heading level0 row15\" >15</th>\n",
       "      <td id=\"T_a3054_row15_col0\" class=\"data row15 col0\" >S</td>\n",
       "      <td id=\"T_a3054_row15_col1\" class=\"data row15 col1\" >BGRIM</td>\n",
       "      <td id=\"T_a3054_row15_col2\" class=\"data row15 col2\" >3,000</td>\n",
       "      <td id=\"T_a3054_row15_col3\" class=\"data row15 col3\" >42.00</td>\n",
       "      <td id=\"T_a3054_row15_col4\" class=\"data row15 col4\" >126,000.00</td>\n",
       "      <td id=\"T_a3054_row15_col5\" class=\"data row15 col5\" >5%</td>\n",
       "      <td id=\"T_a3054_row15_col6\" class=\"data row15 col6\" >SET50</td>\n",
       "      <td id=\"T_a3054_row15_col7\" class=\"data row15 col7\" >1</td>\n",
       "    </tr>\n",
       "    <tr>\n",
       "      <th id=\"T_a3054_level0_row16\" class=\"row_heading level0 row16\" >16</th>\n",
       "      <td id=\"T_a3054_row16_col0\" class=\"data row16 col0\" >S</td>\n",
       "      <td id=\"T_a3054_row16_col1\" class=\"data row16 col1\" >IMH</td>\n",
       "      <td id=\"T_a3054_row16_col2\" class=\"data row16 col2\" >1,500</td>\n",
       "      <td id=\"T_a3054_row16_col3\" class=\"data row16 col3\" >16.80</td>\n",
       "      <td id=\"T_a3054_row16_col4\" class=\"data row16 col4\" >25,200.00</td>\n",
       "      <td id=\"T_a3054_row16_col5\" class=\"data row16 col5\" >24H</td>\n",
       "      <td id=\"T_a3054_row16_col6\" class=\"data row16 col6\" >mai</td>\n",
       "      <td id=\"T_a3054_row16_col7\" class=\"data row16 col7\" >2</td>\n",
       "    </tr>\n",
       "    <tr>\n",
       "      <th id=\"T_a3054_level0_row17\" class=\"row_heading level0 row17\" >17</th>\n",
       "      <td id=\"T_a3054_row17_col0\" class=\"data row17 col0\" >S</td>\n",
       "      <td id=\"T_a3054_row17_col1\" class=\"data row17 col1\" >KBANK</td>\n",
       "      <td id=\"T_a3054_row17_col2\" class=\"data row17 col2\" >800</td>\n",
       "      <td id=\"T_a3054_row17_col3\" class=\"data row17 col3\" >150.00</td>\n",
       "      <td id=\"T_a3054_row17_col4\" class=\"data row17 col4\" >120,000.00</td>\n",
       "      <td id=\"T_a3054_row17_col5\" class=\"data row17 col5\" >10%</td>\n",
       "      <td id=\"T_a3054_row17_col6\" class=\"data row17 col6\" >SET50</td>\n",
       "      <td id=\"T_a3054_row17_col7\" class=\"data row17 col7\" >0</td>\n",
       "    </tr>\n",
       "    <tr>\n",
       "      <th id=\"T_a3054_level0_row18\" class=\"row_heading level0 row18\" >18</th>\n",
       "      <td id=\"T_a3054_row18_col0\" class=\"data row18 col0\" >S</td>\n",
       "      <td id=\"T_a3054_row18_col1\" class=\"data row18 col1\" >RCL</td>\n",
       "      <td id=\"T_a3054_row18_col2\" class=\"data row18 col2\" >1,500</td>\n",
       "      <td id=\"T_a3054_row18_col3\" class=\"data row18 col3\" >53.75</td>\n",
       "      <td id=\"T_a3054_row18_col4\" class=\"data row18 col4\" >80,625.00</td>\n",
       "      <td id=\"T_a3054_row18_col5\" class=\"data row18 col5\" >25%</td>\n",
       "      <td id=\"T_a3054_row18_col6\" class=\"data row18 col6\" >SET100</td>\n",
       "      <td id=\"T_a3054_row18_col7\" class=\"data row18 col7\" >0</td>\n",
       "    </tr>\n",
       "    <tr>\n",
       "      <th id=\"T_a3054_level0_row19\" class=\"row_heading level0 row19\" >19</th>\n",
       "      <td id=\"T_a3054_row19_col0\" class=\"data row19 col0\" >S</td>\n",
       "      <td id=\"T_a3054_row19_col1\" class=\"data row19 col1\" >RJH</td>\n",
       "      <td id=\"T_a3054_row19_col2\" class=\"data row19 col2\" >1,500</td>\n",
       "      <td id=\"T_a3054_row19_col3\" class=\"data row19 col3\" >36.25</td>\n",
       "      <td id=\"T_a3054_row19_col4\" class=\"data row19 col4\" >54,375.00</td>\n",
       "      <td id=\"T_a3054_row19_col5\" class=\"data row19 col5\" >10%</td>\n",
       "      <td id=\"T_a3054_row19_col6\" class=\"data row19 col6\" >SET</td>\n",
       "      <td id=\"T_a3054_row19_col7\" class=\"data row19 col7\" >0</td>\n",
       "    </tr>\n",
       "    <tr>\n",
       "      <th id=\"T_a3054_level0_row20\" class=\"row_heading level0 row20\" >20</th>\n",
       "      <td id=\"T_a3054_row20_col0\" class=\"data row20 col0\" >S</td>\n",
       "      <td id=\"T_a3054_row20_col1\" class=\"data row20 col1\" >SAT</td>\n",
       "      <td id=\"T_a3054_row20_col2\" class=\"data row20 col2\" >2,500</td>\n",
       "      <td id=\"T_a3054_row20_col3\" class=\"data row20 col3\" >24.25</td>\n",
       "      <td id=\"T_a3054_row20_col4\" class=\"data row20 col4\" >60,625.00</td>\n",
       "      <td id=\"T_a3054_row20_col5\" class=\"data row20 col5\" >15%</td>\n",
       "      <td id=\"T_a3054_row20_col6\" class=\"data row20 col6\" >SET</td>\n",
       "      <td id=\"T_a3054_row20_col7\" class=\"data row20 col7\" >0</td>\n",
       "    </tr>\n",
       "    <tr>\n",
       "      <th id=\"T_a3054_level0_row21\" class=\"row_heading level0 row21\" >21</th>\n",
       "      <td id=\"T_a3054_row21_col0\" class=\"data row21 col0\" >S</td>\n",
       "      <td id=\"T_a3054_row21_col1\" class=\"data row21 col1\" >TOP</td>\n",
       "      <td id=\"T_a3054_row21_col2\" class=\"data row21 col2\" >3,000</td>\n",
       "      <td id=\"T_a3054_row21_col3\" class=\"data row21 col3\" >55.00</td>\n",
       "      <td id=\"T_a3054_row21_col4\" class=\"data row21 col4\" >165,000.00</td>\n",
       "      <td id=\"T_a3054_row21_col5\" class=\"data row21 col5\" >10%</td>\n",
       "      <td id=\"T_a3054_row21_col6\" class=\"data row21 col6\" >SET50</td>\n",
       "      <td id=\"T_a3054_row21_col7\" class=\"data row21 col7\" >0</td>\n",
       "    </tr>\n",
       "  </tbody>\n",
       "</table>\n"
      ],
      "text/plain": [
       "<pandas.io.formats.style.Styler at 0x1610e691550>"
      ]
     },
     "execution_count": 4,
     "metadata": {},
     "output_type": "execute_result"
    }
   ],
   "source": [
    "sql = '''\n",
    "SELECT trade, name, qty, price, qty * price AS amount, reason, market, active\n",
    "FROM orders\n",
    "ORDER BY trade, name'''\n",
    "orders = pd.read_sql(sql, conlite)\n",
    "orders.style.format(format_dict)"
   ]
  },
  {
   "cell_type": "code",
   "execution_count": 5,
   "metadata": {},
   "outputs": [
    {
     "data": {
      "text/plain": [
       "(52, 18)"
      ]
     },
     "execution_count": 5,
     "metadata": {},
     "output_type": "execute_result"
    }
   ],
   "source": [
    "sql = \"\"\"\n",
    "SELECT *\n",
    "FROM stocks\n",
    "\"\"\"\n",
    "stocks = pd.read_sql(sql, conlite)\n",
    "stocks.shape"
   ]
  },
  {
   "cell_type": "code",
   "execution_count": 6,
   "metadata": {},
   "outputs": [
    {
     "data": {
      "text/plain": [
       "(22, 25)"
      ]
     },
     "execution_count": 6,
     "metadata": {},
     "output_type": "execute_result"
    }
   ],
   "source": [
    "df_merge = pd.merge(orders,stocks,on='name',how='inner')\n",
    "df_merge.shape"
   ]
  },
  {
   "cell_type": "code",
   "execution_count": 7,
   "metadata": {},
   "outputs": [
    {
     "data": {
      "text/html": [
       "<div>\n",
       "<style scoped>\n",
       "    .dataframe tbody tr th:only-of-type {\n",
       "        vertical-align: middle;\n",
       "    }\n",
       "\n",
       "    .dataframe tbody tr th {\n",
       "        vertical-align: top;\n",
       "    }\n",
       "\n",
       "    .dataframe thead th {\n",
       "        text-align: right;\n",
       "    }\n",
       "</style>\n",
       "<table border=\"1\" class=\"dataframe\">\n",
       "  <thead>\n",
       "    <tr style=\"text-align: right;\">\n",
       "      <th></th>\n",
       "      <th>trade</th>\n",
       "      <th>name</th>\n",
       "      <th>qty_x</th>\n",
       "      <th>price</th>\n",
       "      <th>reason_x</th>\n",
       "      <th>qty_y</th>\n",
       "      <th>buy_target</th>\n",
       "      <th>sell_target</th>\n",
       "      <th>reason_y</th>\n",
       "    </tr>\n",
       "  </thead>\n",
       "  <tbody>\n",
       "  </tbody>\n",
       "</table>\n",
       "</div>"
      ],
      "text/plain": [
       "Empty DataFrame\n",
       "Columns: [trade, name, qty_x, price, reason_x, qty_y, buy_target, sell_target, reason_y]\n",
       "Index: []"
      ]
     },
     "execution_count": 7,
     "metadata": {},
     "output_type": "execute_result"
    }
   ],
   "source": [
    "qty_mask = (df_merge.qty_x != df_merge.qty_y)\n",
    "df_merge[qty_mask][cols]"
   ]
  },
  {
   "cell_type": "code",
   "execution_count": null,
   "metadata": {},
   "outputs": [],
   "source": [
    "name = 'KCE'\n",
    "sqlUpd = \"\"\"\n",
    "UPDATE stocks\n",
    "SET qty = 2000\n",
    "WHERE name = '%s'\n",
    "\"\"\"\n",
    "sqlUpd = sqlUpd % name\n",
    "print(sqlUpd)\n",
    "rp = conlite.execute(sqlUpd)\n",
    "rp.rowcount"
   ]
  },
  {
   "cell_type": "code",
   "execution_count": 12,
   "metadata": {},
   "outputs": [
    {
     "data": {
      "text/html": [
       "<div>\n",
       "<style scoped>\n",
       "    .dataframe tbody tr th:only-of-type {\n",
       "        vertical-align: middle;\n",
       "    }\n",
       "\n",
       "    .dataframe tbody tr th {\n",
       "        vertical-align: top;\n",
       "    }\n",
       "\n",
       "    .dataframe thead th {\n",
       "        text-align: right;\n",
       "    }\n",
       "</style>\n",
       "<table border=\"1\" class=\"dataframe\">\n",
       "  <thead>\n",
       "    <tr style=\"text-align: right;\">\n",
       "      <th></th>\n",
       "      <th>trade</th>\n",
       "      <th>name</th>\n",
       "      <th>qty_x</th>\n",
       "      <th>price</th>\n",
       "      <th>reason_x</th>\n",
       "      <th>qty_y</th>\n",
       "      <th>buy_target</th>\n",
       "      <th>sell_target</th>\n",
       "      <th>reason_y</th>\n",
       "    </tr>\n",
       "  </thead>\n",
       "  <tbody>\n",
       "  </tbody>\n",
       "</table>\n",
       "</div>"
      ],
      "text/plain": [
       "Empty DataFrame\n",
       "Columns: [trade, name, qty_x, price, reason_x, qty_y, buy_target, sell_target, reason_y]\n",
       "Index: []"
      ]
     },
     "execution_count": 12,
     "metadata": {},
     "output_type": "execute_result"
    }
   ],
   "source": [
    "buy_price_mask = (df_merge.price != df_merge.buy_target) & (df_merge.trade == 'B')\n",
    "df_merge[buy_price_mask][cols]"
   ]
  },
  {
   "cell_type": "code",
   "execution_count": null,
   "metadata": {},
   "outputs": [],
   "source": [
    "name = 'BCH'\n",
    "sqlUpd = \"\"\"\n",
    "UPDATE stocks\n",
    "SET buy_target = 21.3, sell_target = 23.4\n",
    "WHERE name = '%s'\n",
    "\"\"\"\n",
    "sqlUpd = sqlUpd % name\n",
    "print(sqlUpd)\n",
    "rp = conlite.execute(sqlUpd)\n",
    "rp.rowcount"
   ]
  },
  {
   "cell_type": "code",
   "execution_count": 13,
   "metadata": {},
   "outputs": [
    {
     "data": {
      "text/html": [
       "<div>\n",
       "<style scoped>\n",
       "    .dataframe tbody tr th:only-of-type {\n",
       "        vertical-align: middle;\n",
       "    }\n",
       "\n",
       "    .dataframe tbody tr th {\n",
       "        vertical-align: top;\n",
       "    }\n",
       "\n",
       "    .dataframe thead th {\n",
       "        text-align: right;\n",
       "    }\n",
       "</style>\n",
       "<table border=\"1\" class=\"dataframe\">\n",
       "  <thead>\n",
       "    <tr style=\"text-align: right;\">\n",
       "      <th></th>\n",
       "      <th>trade</th>\n",
       "      <th>name</th>\n",
       "      <th>qty_x</th>\n",
       "      <th>price</th>\n",
       "      <th>reason_x</th>\n",
       "      <th>qty_y</th>\n",
       "      <th>buy_target</th>\n",
       "      <th>sell_target</th>\n",
       "      <th>reason_y</th>\n",
       "    </tr>\n",
       "  </thead>\n",
       "  <tbody>\n",
       "  </tbody>\n",
       "</table>\n",
       "</div>"
      ],
      "text/plain": [
       "Empty DataFrame\n",
       "Columns: [trade, name, qty_x, price, reason_x, qty_y, buy_target, sell_target, reason_y]\n",
       "Index: []"
      ]
     },
     "execution_count": 13,
     "metadata": {},
     "output_type": "execute_result"
    }
   ],
   "source": [
    "sell_price_mask = (df_merge.price != df_merge.sell_target) & (df_merge.trade == 'S')\n",
    "df_merge[sell_price_mask][cols]"
   ]
  },
  {
   "cell_type": "code",
   "execution_count": null,
   "metadata": {},
   "outputs": [],
   "source": [
    "name = 'BCH'\n",
    "sqlUpd = \"\"\"\n",
    "UPDATE stocks\n",
    "SET sell_target = 23.4\n",
    "WHERE name = '%s'\n",
    "\"\"\"\n",
    "sqlUpd = sqlUpd % name\n",
    "print(sqlUpd)\n",
    "rp = conlite.execute(sqlUpd)\n",
    "rp.rowcount"
   ]
  },
  {
   "cell_type": "code",
   "execution_count": 14,
   "metadata": {},
   "outputs": [
    {
     "data": {
      "text/html": [
       "<div>\n",
       "<style scoped>\n",
       "    .dataframe tbody tr th:only-of-type {\n",
       "        vertical-align: middle;\n",
       "    }\n",
       "\n",
       "    .dataframe tbody tr th {\n",
       "        vertical-align: top;\n",
       "    }\n",
       "\n",
       "    .dataframe thead th {\n",
       "        text-align: right;\n",
       "    }\n",
       "</style>\n",
       "<table border=\"1\" class=\"dataframe\">\n",
       "  <thead>\n",
       "    <tr style=\"text-align: right;\">\n",
       "      <th></th>\n",
       "      <th>trade</th>\n",
       "      <th>name</th>\n",
       "      <th>qty_x</th>\n",
       "      <th>price</th>\n",
       "      <th>reason_x</th>\n",
       "      <th>qty_y</th>\n",
       "      <th>buy_target</th>\n",
       "      <th>sell_target</th>\n",
       "      <th>reason_y</th>\n",
       "    </tr>\n",
       "  </thead>\n",
       "  <tbody>\n",
       "    <tr>\n",
       "      <th>2</th>\n",
       "      <td>B</td>\n",
       "      <td>KCE</td>\n",
       "      <td>2000</td>\n",
       "      <td>82.50</td>\n",
       "      <td>RD05%</td>\n",
       "      <td>2000</td>\n",
       "      <td>82.5</td>\n",
       "      <td>0.00</td>\n",
       "      <td>5pct</td>\n",
       "    </tr>\n",
       "    <tr>\n",
       "      <th>9</th>\n",
       "      <td>B</td>\n",
       "      <td>SYNEX</td>\n",
       "      <td>6000</td>\n",
       "      <td>31.50</td>\n",
       "      <td>DFM05%</td>\n",
       "      <td>6000</td>\n",
       "      <td>31.5</td>\n",
       "      <td>0.00</td>\n",
       "      <td>10%</td>\n",
       "    </tr>\n",
       "    <tr>\n",
       "      <th>17</th>\n",
       "      <td>S</td>\n",
       "      <td>KBANK</td>\n",
       "      <td>800</td>\n",
       "      <td>150.00</td>\n",
       "      <td>10%</td>\n",
       "      <td>800</td>\n",
       "      <td>0.0</td>\n",
       "      <td>150.00</td>\n",
       "      <td>10pct</td>\n",
       "    </tr>\n",
       "    <tr>\n",
       "      <th>19</th>\n",
       "      <td>S</td>\n",
       "      <td>RJH</td>\n",
       "      <td>1500</td>\n",
       "      <td>36.25</td>\n",
       "      <td>10%</td>\n",
       "      <td>1500</td>\n",
       "      <td>0.0</td>\n",
       "      <td>36.25</td>\n",
       "      <td>10pct</td>\n",
       "    </tr>\n",
       "    <tr>\n",
       "      <th>20</th>\n",
       "      <td>S</td>\n",
       "      <td>SAT</td>\n",
       "      <td>2500</td>\n",
       "      <td>24.25</td>\n",
       "      <td>15%</td>\n",
       "      <td>2500</td>\n",
       "      <td>0.0</td>\n",
       "      <td>24.25</td>\n",
       "      <td>15pct</td>\n",
       "    </tr>\n",
       "  </tbody>\n",
       "</table>\n",
       "</div>"
      ],
      "text/plain": [
       "   trade   name  qty_x   price reason_x  qty_y  buy_target  sell_target  \\\n",
       "2      B    KCE   2000   82.50    RD05%   2000        82.5         0.00   \n",
       "9      B  SYNEX   6000   31.50   DFM05%   6000        31.5         0.00   \n",
       "17     S  KBANK    800  150.00      10%    800         0.0       150.00   \n",
       "19     S    RJH   1500   36.25      10%   1500         0.0        36.25   \n",
       "20     S    SAT   2500   24.25      15%   2500         0.0        24.25   \n",
       "\n",
       "   reason_y  \n",
       "2      5pct  \n",
       "9       10%  \n",
       "17    10pct  \n",
       "19    10pct  \n",
       "20    15pct  "
      ]
     },
     "execution_count": 14,
     "metadata": {},
     "output_type": "execute_result"
    }
   ],
   "source": [
    "reason_mask = (df_merge.reason_x != df_merge.reason_y)\n",
    "df_merge[reason_mask][cols]"
   ]
  },
  {
   "cell_type": "code",
   "execution_count": 15,
   "metadata": {},
   "outputs": [
    {
     "name": "stdout",
     "output_type": "stream",
     "text": [
      "\n",
      "UPDATE stocks\n",
      "SET reason = '15pct'\n",
      "WHERE name = 'SAT'\n",
      "\n"
     ]
    },
    {
     "data": {
      "text/plain": [
       "1"
      ]
     },
     "execution_count": 15,
     "metadata": {},
     "output_type": "execute_result"
    }
   ],
   "source": [
    "name = 'SAT'\n",
    "sqlUpd = \"\"\"\n",
    "UPDATE stocks\n",
    "SET reason = '15pct'\n",
    "WHERE name = '%s'\n",
    "\"\"\"\n",
    "sqlUpd = sqlUpd % name\n",
    "print(sqlUpd)\n",
    "rp = conlite.execute(sqlUpd)\n",
    "rp.rowcount"
   ]
  },
  {
   "cell_type": "markdown",
   "metadata": {},
   "source": [
    "### End of Loop process"
   ]
  },
  {
   "cell_type": "code",
   "execution_count": 16,
   "metadata": {},
   "outputs": [],
   "source": [
    "file_name = 'orders.csv'\n",
    "data_file = data_path + file_name\n",
    "output_file = csv_path + file_name\n",
    "box_file = box_path + file_name\n",
    "data_file, output_file, box_file\n",
    "\n",
    "orders[colt].to_csv(output_file, header=True, index=False)\n",
    "orders[colt].to_csv(data_file,   header=True, index=False)\n",
    "orders[colt].to_csv(box_file,    header=True, index=False)"
   ]
  },
  {
   "cell_type": "markdown",
   "metadata": {},
   "source": [
    "### After call ord-log"
   ]
  },
  {
   "cell_type": "code",
   "execution_count": 17,
   "metadata": {},
   "outputs": [],
   "source": [
    "def categorise(row):  \n",
    "    if row['col0'] == 'B':\n",
    "        return 'Buy'\n",
    "    else:\n",
    "        return 'Sell'"
   ]
  },
  {
   "cell_type": "code",
   "execution_count": 18,
   "metadata": {},
   "outputs": [],
   "source": [
    "df = pd.read_csv('../data/orders-log.csv', header=None, prefix = 'col',usecols=[0,1,2,3,4,5,6,7,8,9])\n",
    "df.rename(columns = {'col1': 'name', 'col2': 'spd','col3': 'reason', 'col4': 'market','col5': 'qty', 'col6': 'target','col7': 'current', 'col8': 'chg', 'col9': 'percent'}, inplace = True)\n",
    "df['trans'] = df.apply(lambda row: categorise(row), axis=1)"
   ]
  },
  {
   "cell_type": "code",
   "execution_count": 19,
   "metadata": {
    "scrolled": false
   },
   "outputs": [
    {
     "data": {
      "application/javascript": [
       "require.config({\n",
       "    paths: {\n",
       "        datatables: 'https://cdn.datatables.net/1.10.19/js/jquery.dataTables.min',\n",
       "    }\n",
       "});\n",
       "\n",
       "$('head').append('<link rel=\"stylesheet\" type=\"text/css\" \\\n",
       "                href = \"https://cdn.datatables.net/1.10.19/css/jquery.dataTables.min.css\" > ');\n",
       "\n",
       "$('head').append('<style> table td { text-overflow: ellipsis; overflow: hidden; } </style>');\n",
       "\n",
       "$('head').append(`<script>\n",
       "function eval_functions(map_or_text) {\n",
       "    if (typeof map_or_text === \"string\") {\n",
       "        if (map_or_text.startsWith(\"function\")) {\n",
       "            try {\n",
       "                // Note: parenthesis are required around the whole expression for eval to return a value!\n",
       "                // See https://stackoverflow.com/a/7399078/911298.\n",
       "                //\n",
       "                // eval(\"local_fun = \" + map_or_text) would fail because local_fun is not declared\n",
       "                // (using var, let or const would work, but it would only be declared in the local scope\n",
       "                // and therefore the value could not be retrieved).\n",
       "                const func = eval(\"(\" + map_or_text + \")\");\n",
       "                if (typeof func !== \"function\") {\n",
       "                    // Note: backquotes are super convenient!\n",
       "                    // https://developer.mozilla.org/en-US/docs/Web/JavaScript/Reference/Template_literals\n",
       "                    console.error(\"Evaluated expression \" + map_or_text + \" is not a function (type is \" + typeof func + \")\");\n",
       "                    return map_or_text;\n",
       "                }\n",
       "                // Return the function\n",
       "                return func;\n",
       "            } catch (e) {\n",
       "                // Make sure to print the error with a second argument to console.error().\n",
       "                console.error(\"itables was not able to parse \" + map_or_text, e);\n",
       "            }\n",
       "        }\n",
       "    } else if (typeof map_or_text === \"object\") {\n",
       "        if (map_or_text instanceof Array) {\n",
       "            // Note: \"var\" is now superseded by \"let\" and \"const\".\n",
       "            // https://medium.com/javascript-scene/javascript-es6-var-let-or-const-ba58b8dcde75\n",
       "            const result = [];\n",
       "            // Note: \"for of\" is the best way to iterate through an iterable.\n",
       "            // https://developer.mozilla.org/en-US/docs/Web/JavaScript/Reference/Statements/for...of\n",
       "            for (const item of map_or_text) {\n",
       "                result.push(eval_functions(item));\n",
       "            }\n",
       "            return result;\n",
       "\n",
       "            // Alternatively, more functional approach in one line:\n",
       "            // return map_or_text.map(eval_functions);\n",
       "        } else {\n",
       "            const result = {};\n",
       "            // Object.keys() is safer than \"for in\" because otherwise you might have keys\n",
       "            // that aren't defined in the object itself.\n",
       "            //\n",
       "            // See https://stackoverflow.com/a/684692/911298.\n",
       "            for (const item of Object.keys(map_or_text)) {\n",
       "                result[item] = eval_functions(map_or_text[item]);\n",
       "            }\n",
       "            return result;\n",
       "        }\n",
       "    }\n",
       "\n",
       "    return map_or_text;\n",
       "}\n",
       "\n",
       "</` + 'script>');"
      ],
      "text/plain": [
       "<IPython.core.display.Javascript object>"
      ]
     },
     "metadata": {},
     "output_type": "display_data"
    },
    {
     "data": {
      "text/html": [
       "<div><table id=\"baaa5f27-7b0c-48ff-83ff-212332364cb0\" class=\"display\"><thead>\n",
       "    <tr style=\"text-align: right;\">\n",
       "      \n",
       "      <th>trans</th>\n",
       "      <th>name</th>\n",
       "      <th>spd</th>\n",
       "      <th>reason</th>\n",
       "      <th>qty</th>\n",
       "      <th>target</th>\n",
       "      <th>current</th>\n",
       "      <th>chg</th>\n",
       "      <th>percent</th>\n",
       "    </tr>\n",
       "  </thead></table>\n",
       "<script type=\"text/javascript\">\n",
       "require([\"datatables\"], function (datatables) {\n",
       "    $(document).ready(function () {\n",
       "        var dt_args = {\"columnDefs\": [{\"width\": \"70px\", \"targets\": \"_all\"}], \"data\": [[\"Sell\", \"name\", \"spd\", \"reason\", \"qty\", \"target\", \"current\", \"change\", \"percent\"], [\"Buy\", \"BGC\", \"-2\", \"DOS\", \"10000\", \"10.4\", \"10.60\", \"+0.10\", \"+0.95%\"], [\"Buy\", \"GLOBAL\", \"-10\", \"RD05%\", \"7500\", \"19.0\", \"20.00\", \"+0.10\", \"+0.50%\"], [\"Buy\", \"KCE\", \"-6\", \"RD05%\", \"2000\", \"82.5\", \"84.00\", \"0.00\", \"0.00%\"], [\"Buy\", \"NOBLE\", \"-7\", \"RD15%\", \"21000\", \"5.85\", \"6.20\", \"-0.05\", \"-0.80%\"], [\"Buy\", \"PTT\", \"-9\", \"RD05%\", \"3000\", \"36.5\", \"38.75\", \"+0.75\", \"+1.97%\"], [\"Buy\", \"RATCH\", \"-6\", \"RD05%\", \"3000\", \"42.75\", \"44.25\", \"-0.25\", \"-0.56%\"], [\"Buy\", \"ROJNA\", \"-1\", \"6L\", \"18000\", \"6.5\", \"6.55\", \"-0.10\", \"-1.50%\"], [\"Buy\", \"SIS\", \"-10\", \"DFM10%\", \"3000\", \"42.0\", \"44.50\", \"+0.75\", \"+1.71%\"], [\"Buy\", \"STA\", \"-11\", \"RD15%\", \"2500\", \"28.0\", \"30.75\", \"+0.25\", \"+0.82%\"], [\"Buy\", \"SYNEX\", \"-3\", \"DFM05%\", \"6000\", \"31.5\", \"32.25\", \"-0.50\", \"-1.53%\"], [\"Buy\", \"TCAP\", \"-15\", \"1L\", \"6000\", \"35.0\", \"38.75\", \"0.00\", \"0.00%\"], [\"Buy\", \"TISCO\", \"-12\", \"CP1S\", \"2000\", \"94.5\", \"97.50\", \"-0.25\", \"-0.26%\"], [\"Buy\", \"TSTH\", \"-6\", \"5%\", \"45000\", \"1.42\", \"1.48\", \"-0.02\", \"-1.33%\"], [\"Buy\", \"TVO\", \"-5\", \"DOS\", \"3600\", \"30.0\", \"31.25\", \"+0.25\", \"+0.81%\"], [\"Sell\", \"BCH\", \"9\", \"CP1S\", \"5000\", \"21.4\", \"20.50\", \"-0.40\", \"-1.91%\"], [\"Sell\", \"BGRIM\", \"11\", \"5%\", \"3000\", \"42.0\", \"39.25\", \"-0.25\", \"-0.63%\"], [\"Sell\", \"IMH\", \"4\", \"24H\", \"1500\", \"16.8\", \"16.40\", \"+0.40\", \"+2.50%\"], [\"Sell\", \"KBANK\", \"15\", \"10%\", \"800\", \"150.0\", \"142.50\", \"0.00\", \"0.00%\"], [\"Sell\", \"RCL\", \"4\", \"25%\", \"1500\", \"53.75\", \"52.75\", \"+3.00\", \"+6.03%\"], [\"Sell\", \"RJH\", \"12\", \"10%\", \"1500\", \"36.25\", \"33.25\", \"-0.25\", \"-0.75%\"], [\"Sell\", \"SAT\", \"9\", \"15%\", \"2500\", \"24.25\", \"23.40\", \"-0.40\", \"-1.68%\"], [\"Sell\", \"TOP\", \"11\", \"10%\", \"3000\", \"55.0\", \"52.25\", \"+0.75\", \"+1.46%\"]]};\n",
       "        dt_args = eval_functions(dt_args);\n",
       "        table = $('#baaa5f27-7b0c-48ff-83ff-212332364cb0').DataTable(dt_args);\n",
       "    });\n",
       "})\n",
       "</script>\n",
       "</div>\n"
      ],
      "text/plain": [
       "<IPython.core.display.HTML object>"
      ]
     },
     "metadata": {},
     "output_type": "display_data"
    }
   ],
   "source": [
    "from itables import show\n",
    "show(df[['trans','name','spd','reason','qty','target','current','chg','percent']])"
   ]
  },
  {
   "cell_type": "code",
   "execution_count": 20,
   "metadata": {},
   "outputs": [
    {
     "data": {
      "text/plain": [
       "52"
      ]
     },
     "execution_count": 20,
     "metadata": {},
     "output_type": "execute_result"
    }
   ],
   "source": [
    "sql = \"\"\"\n",
    "UPDATE stocks SET buy_target=(\n",
    "SELECT orders.price \n",
    "FROM orders \n",
    "WHERE orders.name=stocks.name AND orders.trade='B')\"\"\"\n",
    "rp = conlite.execute(sql)\n",
    "rp.rowcount"
   ]
  },
  {
   "cell_type": "code",
   "execution_count": 21,
   "metadata": {},
   "outputs": [
    {
     "data": {
      "text/plain": [
       "38"
      ]
     },
     "execution_count": 21,
     "metadata": {},
     "output_type": "execute_result"
    }
   ],
   "source": [
    "sql = '''\n",
    "UPDATE stocks\n",
    "SET buy_target = 0\n",
    "WHERE buy_target IS NULL'''\n",
    "rp = conlite.execute(sql)\n",
    "rp.rowcount"
   ]
  },
  {
   "cell_type": "code",
   "execution_count": 22,
   "metadata": {},
   "outputs": [
    {
     "data": {
      "text/plain": [
       "52"
      ]
     },
     "execution_count": 22,
     "metadata": {},
     "output_type": "execute_result"
    }
   ],
   "source": [
    "sql = '''\n",
    "UPDATE stocks SET sell_target=(\n",
    "SELECT orders.price \n",
    "FROM orders \n",
    "WHERE orders.name=stocks.name AND orders.trade='S')'''\n",
    "rp = conlite.execute(sql)\n",
    "rp.rowcount"
   ]
  },
  {
   "cell_type": "code",
   "execution_count": 23,
   "metadata": {},
   "outputs": [
    {
     "data": {
      "text/plain": [
       "44"
      ]
     },
     "execution_count": 23,
     "metadata": {},
     "output_type": "execute_result"
    }
   ],
   "source": [
    "sql = '''\n",
    "UPDATE stocks\n",
    "SET sell_target = 0\n",
    "WHERE sell_target IS NULL'''\n",
    "rp = conlite.execute(sql)\n",
    "rp.rowcount"
   ]
  },
  {
   "cell_type": "code",
   "execution_count": 24,
   "metadata": {},
   "outputs": [
    {
     "data": {
      "text/plain": [
       "0"
      ]
     },
     "execution_count": 24,
     "metadata": {},
     "output_type": "execute_result"
    }
   ],
   "source": [
    "sql = '''\n",
    "UPDATE stocks\n",
    "SET available_qty = 0\n",
    "WHERE available_qty IS NULL'''\n",
    "rp = conlite.execute(sql)\n",
    "rp.rowcount"
   ]
  },
  {
   "cell_type": "code",
   "execution_count": 25,
   "metadata": {},
   "outputs": [
    {
     "data": {
      "text/plain": [
       "0"
      ]
     },
     "execution_count": 25,
     "metadata": {},
     "output_type": "execute_result"
    }
   ],
   "source": [
    "sql = '''\n",
    "UPDATE stocks\n",
    "SET cost = 0\n",
    "WHERE cost IS NULL'''\n",
    "rp = conlite.execute(sql)\n",
    "rp.rowcount"
   ]
  },
  {
   "cell_type": "code",
   "execution_count": 26,
   "metadata": {},
   "outputs": [
    {
     "data": {
      "text/plain": [
       "0"
      ]
     },
     "execution_count": 26,
     "metadata": {},
     "output_type": "execute_result"
    }
   ],
   "source": [
    "sql = '''\n",
    "UPDATE stocks\n",
    "SET qty = 0\n",
    "WHERE qty IS NULL'''\n",
    "rp = conlite.execute(sql)\n",
    "rp.rowcount"
   ]
  },
  {
   "cell_type": "code",
   "execution_count": 27,
   "metadata": {},
   "outputs": [
    {
     "data": {
      "text/html": [
       "<div>\n",
       "<style scoped>\n",
       "    .dataframe tbody tr th:only-of-type {\n",
       "        vertical-align: middle;\n",
       "    }\n",
       "\n",
       "    .dataframe tbody tr th {\n",
       "        vertical-align: top;\n",
       "    }\n",
       "\n",
       "    .dataframe thead th {\n",
       "        text-align: right;\n",
       "    }\n",
       "</style>\n",
       "<table border=\"1\" class=\"dataframe\">\n",
       "  <thead>\n",
       "    <tr style=\"text-align: right;\">\n",
       "      <th></th>\n",
       "      <th>id</th>\n",
       "      <th>name</th>\n",
       "      <th>max_price</th>\n",
       "      <th>min_price</th>\n",
       "      <th>status</th>\n",
       "      <th>buy_target</th>\n",
       "      <th>sell_target</th>\n",
       "      <th>volume</th>\n",
       "      <th>beta</th>\n",
       "      <th>cost</th>\n",
       "      <th>qty</th>\n",
       "      <th>buy_spread</th>\n",
       "      <th>sell_spread</th>\n",
       "      <th>available_qty</th>\n",
       "      <th>bl</th>\n",
       "      <th>sh</th>\n",
       "      <th>reason</th>\n",
       "      <th>market</th>\n",
       "    </tr>\n",
       "  </thead>\n",
       "  <tbody>\n",
       "  </tbody>\n",
       "</table>\n",
       "</div>"
      ],
      "text/plain": [
       "Empty DataFrame\n",
       "Columns: [id, name, max_price, min_price, status, buy_target, sell_target, volume, beta, cost, qty, buy_spread, sell_spread, available_qty, bl, sh, reason, market]\n",
       "Index: []"
      ]
     },
     "execution_count": 27,
     "metadata": {},
     "output_type": "execute_result"
    }
   ],
   "source": [
    "qty_mask = (stocks.qty == 0) & (stocks.status.isin(['B','I','O','S']))\n",
    "stocks[qty_mask]"
   ]
  },
  {
   "cell_type": "code",
   "execution_count": 28,
   "metadata": {},
   "outputs": [
    {
     "data": {
      "text/html": [
       "<div>\n",
       "<style scoped>\n",
       "    .dataframe tbody tr th:only-of-type {\n",
       "        vertical-align: middle;\n",
       "    }\n",
       "\n",
       "    .dataframe tbody tr th {\n",
       "        vertical-align: top;\n",
       "    }\n",
       "\n",
       "    .dataframe thead th {\n",
       "        text-align: right;\n",
       "    }\n",
       "</style>\n",
       "<table border=\"1\" class=\"dataframe\">\n",
       "  <thead>\n",
       "    <tr style=\"text-align: right;\">\n",
       "      <th></th>\n",
       "      <th>id</th>\n",
       "      <th>name</th>\n",
       "      <th>max_price</th>\n",
       "      <th>min_price</th>\n",
       "      <th>status</th>\n",
       "      <th>buy_target</th>\n",
       "      <th>sell_target</th>\n",
       "      <th>volume</th>\n",
       "      <th>beta</th>\n",
       "      <th>cost</th>\n",
       "      <th>qty</th>\n",
       "      <th>buy_spread</th>\n",
       "      <th>sell_spread</th>\n",
       "      <th>available_qty</th>\n",
       "      <th>bl</th>\n",
       "      <th>sh</th>\n",
       "      <th>reason</th>\n",
       "      <th>market</th>\n",
       "    </tr>\n",
       "  </thead>\n",
       "  <tbody>\n",
       "    <tr>\n",
       "      <th>27</th>\n",
       "      <td>631</td>\n",
       "      <td>EPG</td>\n",
       "      <td>13.7</td>\n",
       "      <td>7.7</td>\n",
       "      <td>B</td>\n",
       "      <td>0.0</td>\n",
       "      <td>0.0</td>\n",
       "      <td>414.49</td>\n",
       "      <td>0.43</td>\n",
       "      <td>11.2</td>\n",
       "      <td>18000</td>\n",
       "      <td>-9</td>\n",
       "      <td>12</td>\n",
       "      <td>14000</td>\n",
       "      <td>0</td>\n",
       "      <td>24H</td>\n",
       "      <td>RD05%</td>\n",
       "      <td>SET</td>\n",
       "    </tr>\n",
       "  </tbody>\n",
       "</table>\n",
       "</div>"
      ],
      "text/plain": [
       "     id name  max_price  min_price status  buy_target  sell_target  volume  \\\n",
       "27  631  EPG       13.7        7.7      B         0.0          0.0  414.49   \n",
       "\n",
       "    beta  cost    qty  buy_spread  sell_spread  available_qty  bl   sh reason  \\\n",
       "27  0.43  11.2  18000          -9           12          14000   0  24H  RD05%   \n",
       "\n",
       "   market  \n",
       "27    SET  "
      ]
     },
     "execution_count": 28,
     "metadata": {},
     "output_type": "execute_result"
    }
   ],
   "source": [
    "buy_mask = (stocks.buy_target == 0) & (stocks.status.isin(['B','O']))\n",
    "stocks[buy_mask]"
   ]
  },
  {
   "cell_type": "code",
   "execution_count": 29,
   "metadata": {},
   "outputs": [
    {
     "name": "stdout",
     "output_type": "stream",
     "text": [
      "\n",
      "UPDATE stocks\n",
      "SET buy_target = 10.2\n",
      "WHERE name = 'EPG'\n",
      "\n"
     ]
    },
    {
     "data": {
      "text/plain": [
       "1"
      ]
     },
     "execution_count": 29,
     "metadata": {},
     "output_type": "execute_result"
    }
   ],
   "source": [
    "name = 'EPG'\n",
    "sqlUpd = \"\"\"\n",
    "UPDATE stocks\n",
    "SET buy_target = 10.2\n",
    "WHERE name = '%s'\n",
    "\"\"\"\n",
    "sqlUpd = sqlUpd % name\n",
    "print(sqlUpd)\n",
    "rp = conlite.execute(sqlUpd)\n",
    "rp.rowcount"
   ]
  },
  {
   "cell_type": "code",
   "execution_count": 30,
   "metadata": {},
   "outputs": [
    {
     "data": {
      "text/html": [
       "<div>\n",
       "<style scoped>\n",
       "    .dataframe tbody tr th:only-of-type {\n",
       "        vertical-align: middle;\n",
       "    }\n",
       "\n",
       "    .dataframe tbody tr th {\n",
       "        vertical-align: top;\n",
       "    }\n",
       "\n",
       "    .dataframe thead th {\n",
       "        text-align: right;\n",
       "    }\n",
       "</style>\n",
       "<table border=\"1\" class=\"dataframe\">\n",
       "  <thead>\n",
       "    <tr style=\"text-align: right;\">\n",
       "      <th></th>\n",
       "      <th>id</th>\n",
       "      <th>name</th>\n",
       "      <th>max_price</th>\n",
       "      <th>min_price</th>\n",
       "      <th>status</th>\n",
       "      <th>buy_target</th>\n",
       "      <th>sell_target</th>\n",
       "      <th>volume</th>\n",
       "      <th>beta</th>\n",
       "      <th>cost</th>\n",
       "      <th>qty</th>\n",
       "      <th>buy_spread</th>\n",
       "      <th>sell_spread</th>\n",
       "      <th>available_qty</th>\n",
       "      <th>bl</th>\n",
       "      <th>sh</th>\n",
       "      <th>reason</th>\n",
       "      <th>market</th>\n",
       "    </tr>\n",
       "  </thead>\n",
       "  <tbody>\n",
       "    <tr>\n",
       "      <th>2</th>\n",
       "      <td>280</td>\n",
       "      <td>IVL</td>\n",
       "      <td>50.00</td>\n",
       "      <td>33.75</td>\n",
       "      <td>I</td>\n",
       "      <td>0.0</td>\n",
       "      <td>0.0</td>\n",
       "      <td>1695.20</td>\n",
       "      <td>1.52</td>\n",
       "      <td>42.0</td>\n",
       "      <td>3000</td>\n",
       "      <td>-16</td>\n",
       "      <td>16</td>\n",
       "      <td>15000</td>\n",
       "      <td>1</td>\n",
       "      <td>12</td>\n",
       "      <td>10%</td>\n",
       "      <td>SET50</td>\n",
       "    </tr>\n",
       "    <tr>\n",
       "      <th>20</th>\n",
       "      <td>603</td>\n",
       "      <td>SYNEX</td>\n",
       "      <td>36.50</td>\n",
       "      <td>14.90</td>\n",
       "      <td>I</td>\n",
       "      <td>31.5</td>\n",
       "      <td>0.0</td>\n",
       "      <td>174.54</td>\n",
       "      <td>1.73</td>\n",
       "      <td>31.5</td>\n",
       "      <td>6000</td>\n",
       "      <td>-10</td>\n",
       "      <td>15</td>\n",
       "      <td>6000</td>\n",
       "      <td>1</td>\n",
       "      <td>12</td>\n",
       "      <td>10%</td>\n",
       "      <td>SET100</td>\n",
       "    </tr>\n",
       "    <tr>\n",
       "      <th>22</th>\n",
       "      <td>612</td>\n",
       "      <td>DOHOME</td>\n",
       "      <td>30.75</td>\n",
       "      <td>12.46</td>\n",
       "      <td>I</td>\n",
       "      <td>0.0</td>\n",
       "      <td>0.0</td>\n",
       "      <td>164.15</td>\n",
       "      <td>0.95</td>\n",
       "      <td>24.3</td>\n",
       "      <td>4000</td>\n",
       "      <td>-9</td>\n",
       "      <td>16</td>\n",
       "      <td>12000</td>\n",
       "      <td>1</td>\n",
       "      <td>0</td>\n",
       "      <td>10%</td>\n",
       "      <td>SET100</td>\n",
       "    </tr>\n",
       "    <tr>\n",
       "      <th>49</th>\n",
       "      <td>687</td>\n",
       "      <td>WHART</td>\n",
       "      <td>14.08</td>\n",
       "      <td>10.68</td>\n",
       "      <td>I</td>\n",
       "      <td>0.0</td>\n",
       "      <td>0.0</td>\n",
       "      <td>17.87</td>\n",
       "      <td>0.41</td>\n",
       "      <td>12.5</td>\n",
       "      <td>9000</td>\n",
       "      <td>-4</td>\n",
       "      <td>4</td>\n",
       "      <td>10000</td>\n",
       "      <td>0</td>\n",
       "      <td>0</td>\n",
       "      <td>DOS</td>\n",
       "      <td>SET</td>\n",
       "    </tr>\n",
       "  </tbody>\n",
       "</table>\n",
       "</div>"
      ],
      "text/plain": [
       "     id    name  max_price  min_price status  buy_target  sell_target  \\\n",
       "2   280     IVL      50.00      33.75      I         0.0          0.0   \n",
       "20  603   SYNEX      36.50      14.90      I        31.5          0.0   \n",
       "22  612  DOHOME      30.75      12.46      I         0.0          0.0   \n",
       "49  687   WHART      14.08      10.68      I         0.0          0.0   \n",
       "\n",
       "     volume  beta  cost   qty  buy_spread  sell_spread  available_qty  bl  sh  \\\n",
       "2   1695.20  1.52  42.0  3000         -16           16          15000   1  12   \n",
       "20   174.54  1.73  31.5  6000         -10           15           6000   1  12   \n",
       "22   164.15  0.95  24.3  4000          -9           16          12000   1   0   \n",
       "49    17.87  0.41  12.5  9000          -4            4          10000   0   0   \n",
       "\n",
       "   reason  market  \n",
       "2     10%   SET50  \n",
       "20    10%  SET100  \n",
       "22    10%  SET100  \n",
       "49    DOS     SET  "
      ]
     },
     "execution_count": 30,
     "metadata": {},
     "output_type": "execute_result"
    }
   ],
   "source": [
    "sell_mask = (stocks.sell_target == 0) & (stocks.status.isin(['I','S']))\n",
    "stocks[sell_mask]"
   ]
  },
  {
   "cell_type": "code",
   "execution_count": 34,
   "metadata": {},
   "outputs": [
    {
     "name": "stdout",
     "output_type": "stream",
     "text": [
      "\n",
      "UPDATE stocks\n",
      "SET sell_target = 12.8\n",
      "WHERE name = 'WHART'\n",
      "\n"
     ]
    },
    {
     "data": {
      "text/plain": [
       "1"
      ]
     },
     "execution_count": 34,
     "metadata": {},
     "output_type": "execute_result"
    }
   ],
   "source": [
    "name = 'WHART'\n",
    "sqlUpd = \"\"\"\n",
    "UPDATE stocks\n",
    "SET sell_target = 12.8\n",
    "WHERE name = '%s'\n",
    "\"\"\"\n",
    "sqlUpd = sqlUpd % name\n",
    "print(sqlUpd)\n",
    "rp = conlite.execute(sqlUpd)\n",
    "rp.rowcount"
   ]
  },
  {
   "cell_type": "code",
   "execution_count": null,
   "metadata": {},
   "outputs": [],
   "source": []
  }
 ],
 "metadata": {
  "anaconda-cloud": {},
  "kernelspec": {
   "display_name": "Python 3 (ipykernel)",
   "language": "python",
   "name": "python3"
  },
  "language_info": {
   "codemirror_mode": {
    "name": "ipython",
    "version": 3
   },
   "file_extension": ".py",
   "mimetype": "text/x-python",
   "name": "python",
   "nbconvert_exporter": "python",
   "pygments_lexer": "ipython3",
   "version": "3.8.11"
  }
 },
 "nbformat": 4,
 "nbformat_minor": 1
}
