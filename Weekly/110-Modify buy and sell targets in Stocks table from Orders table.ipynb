{
 "cells": [
  {
   "cell_type": "code",
   "execution_count": 1,
   "metadata": {},
   "outputs": [],
   "source": [
    "import calendar\n",
    "import pandas as pd\n",
    "from datetime import date, timedelta\n",
    "from sqlalchemy import create_engine\n",
    "\n",
    "engine = create_engine(\"sqlite:///c:\\\\ruby\\\\port_lite\\\\db\\\\development.sqlite3\")\n",
    "conlite = engine.connect()\n",
    "\n",
    "data_path = \"../data/\"\n",
    "csv_path = \"\\\\Users\\\\User\\\\iCloudDrive\\\\\"\n",
    "box_path = \"\\\\Users\\\\User\\\\Dropbox\\\\\""
   ]
  },
  {
   "cell_type": "markdown",
   "metadata": {},
   "source": [
    "### Tables in the process"
   ]
  },
  {
   "cell_type": "code",
   "execution_count": 2,
   "metadata": {},
   "outputs": [],
   "source": [
    "cols = 'trade name qty_x price reason_x qty_y buy_target sell_target reason_y'.split()\n",
    "colt = 'trade name qty price active reason market xdate'.split()"
   ]
  },
  {
   "cell_type": "code",
   "execution_count": 3,
   "metadata": {},
   "outputs": [],
   "source": [
    "format_dict = {\n",
    "    'qty':'{:,}','qty_x':'{:,}','qty_y':'{:,}','available_qty':'{:,}','eps_a':'{:.2f}','eps_b':'{:.2f}',\n",
    "    'volbuy':'{:,}','volsell':'{:,}','volbal':'{:,}',\n",
    "    'pe':'{:.2f}','pbv':'{:.2f}','max':'{:.2f}','min':'{:.2f}','dividend':'{:.4f}',\n",
    "    'maxp':'{:.2f}','minp':'{:.2f}','opnp':'{:.2f}',\n",
    "    'paid_up':'{:,.2f}','market_cap':'{:,.2f}','daily_volume':'{:,.2f}','dly_vol':'{:,.2f}',\n",
    "    'price':'{:.2f}','target_price':'{:.2f}','max_price':'{:.2f}','min_price':'{:.2f}','price_d':'{:.2f}','price_w':'{:.2f}',\n",
    "    'buy_target':'{:.2f}','sell_target':'{:.2f}','target':'{:.2f}','current':'{:.2f}',\n",
    "    'beta':'{:.2f}','amount':'{:,.2f}','sell_amt':'{:,.2f}','volume':'{:,.2f}','percent':'{:,.2f}',\n",
    "    'q_amt':'{:,}','y_amt':'{:,}','aq_amt':'{:,}','ay_amt':'{:,}','yoy_gain':'{:,}','acc_gain':'{:,}',    \n",
    "    'q_eps':'{:.4f}','y_eps':'{:.4f}','aq_eps':'{:.4f}','ay_eps':'{:.4f}',\n",
    "    'yoy_pct':'{:.2f}%','acc_pct':'{:.2f}%','yield':'{:.2f}%',\n",
    "    'q_amt': '{:,}','y_amt': '{:,}','yoy_gain': '{:,}','q_amt_c': '{:,}','q_amt_p': '{:,}','aq_amt': '{:,}','ay_amt': '{:,}',\n",
    "    'acc_gain': '{:,}','latest_amt': '{:,}','previous_amt': '{:,}','inc_amt': '{:,}',\n",
    "    'inc_amt_pq': '{:,}','inc_amt_py': '{:,}',    'latest_amt_q': '{:,}','previous_amt_q': '{:,}','inc_amt_q': '{:,}',\n",
    "    'latest_amt_y': '{:,}','previous_amt_y': '{:,}','inc_amt_y': '{:,}','kind_x': '{:,}',\n",
    "    'inc_pct': '{:.2f}%','inc_pct_q': '{:.2f}%','pct': '{:.2f}%','percent': '{:.2f}%',\n",
    "    'inc_pct_y': '{:.2f}%','inc_pct_pq': '{:.2f}%','inc_pct_py': '{:.2f}%','mean_pct': '{:.2f}%','std_pct': '{:.2f}%',      \n",
    "}"
   ]
  },
  {
   "cell_type": "markdown",
   "metadata": {},
   "source": [
    "### Begin of Loop"
   ]
  },
  {
   "cell_type": "code",
   "execution_count": 4,
   "metadata": {},
   "outputs": [
    {
     "data": {
      "text/html": [
       "<style type=\"text/css\">\n",
       "</style>\n",
       "<table id=\"T_95107_\">\n",
       "  <thead>\n",
       "    <tr>\n",
       "      <th class=\"blank level0\" >&nbsp;</th>\n",
       "      <th class=\"col_heading level0 col0\" >trade</th>\n",
       "      <th class=\"col_heading level0 col1\" >name</th>\n",
       "      <th class=\"col_heading level0 col2\" >qty</th>\n",
       "      <th class=\"col_heading level0 col3\" >price</th>\n",
       "      <th class=\"col_heading level0 col4\" >amount</th>\n",
       "      <th class=\"col_heading level0 col5\" >reason</th>\n",
       "      <th class=\"col_heading level0 col6\" >market</th>\n",
       "      <th class=\"col_heading level0 col7\" >active</th>\n",
       "      <th class=\"col_heading level0 col8\" >xdate</th>\n",
       "    </tr>\n",
       "  </thead>\n",
       "  <tbody>\n",
       "    <tr>\n",
       "      <th id=\"T_95107_level0_row0\" class=\"row_heading level0 row0\" >0</th>\n",
       "      <td id=\"T_95107_row0_col0\" class=\"data row0 col0\" >B</td>\n",
       "      <td id=\"T_95107_row0_col1\" class=\"data row0 col1\" >AP</td>\n",
       "      <td id=\"T_95107_row0_col2\" class=\"data row0 col2\" >10,000</td>\n",
       "      <td id=\"T_95107_row0_col3\" class=\"data row0 col3\" >9.50</td>\n",
       "      <td id=\"T_95107_row0_col4\" class=\"data row0 col4\" >95,000.00</td>\n",
       "      <td id=\"T_95107_row0_col5\" class=\"data row0 col5\" >MinP</td>\n",
       "      <td id=\"T_95107_row0_col6\" class=\"data row0 col6\" >SET100</td>\n",
       "      <td id=\"T_95107_row0_col7\" class=\"data row0 col7\" >1</td>\n",
       "      <td id=\"T_95107_row0_col8\" class=\"data row0 col8\" >2022-05-10</td>\n",
       "    </tr>\n",
       "    <tr>\n",
       "      <th id=\"T_95107_level0_row1\" class=\"row_heading level0 row1\" >1</th>\n",
       "      <td id=\"T_95107_row1_col0\" class=\"data row1 col0\" >B</td>\n",
       "      <td id=\"T_95107_row1_col1\" class=\"data row1 col1\" >ASK</td>\n",
       "      <td id=\"T_95107_row1_col2\" class=\"data row1 col2\" >3,000</td>\n",
       "      <td id=\"T_95107_row1_col3\" class=\"data row1 col3\" >28.50</td>\n",
       "      <td id=\"T_95107_row1_col4\" class=\"data row1 col4\" >85,500.00</td>\n",
       "      <td id=\"T_95107_row1_col5\" class=\"data row1 col5\" >52WL</td>\n",
       "      <td id=\"T_95107_row1_col6\" class=\"data row1 col6\" >SET</td>\n",
       "      <td id=\"T_95107_row1_col7\" class=\"data row1 col7\" >1</td>\n",
       "      <td id=\"T_95107_row1_col8\" class=\"data row1 col8\" >2022-03-03</td>\n",
       "    </tr>\n",
       "    <tr>\n",
       "      <th id=\"T_95107_level0_row2\" class=\"row_heading level0 row2\" >2</th>\n",
       "      <td id=\"T_95107_row2_col0\" class=\"data row2 col0\" >B</td>\n",
       "      <td id=\"T_95107_row2_col1\" class=\"data row2 col1\" >ASP</td>\n",
       "      <td id=\"T_95107_row2_col2\" class=\"data row2 col2\" >10,000</td>\n",
       "      <td id=\"T_95107_row2_col3\" class=\"data row2 col3\" >3.00</td>\n",
       "      <td id=\"T_95107_row2_col4\" class=\"data row2 col4\" >30,000.00</td>\n",
       "      <td id=\"T_95107_row2_col5\" class=\"data row2 col5\" >52WL</td>\n",
       "      <td id=\"T_95107_row2_col6\" class=\"data row2 col6\" >SET </td>\n",
       "      <td id=\"T_95107_row2_col7\" class=\"data row2 col7\" >1</td>\n",
       "      <td id=\"T_95107_row2_col8\" class=\"data row2 col8\" >2022-02-02</td>\n",
       "    </tr>\n",
       "    <tr>\n",
       "      <th id=\"T_95107_level0_row3\" class=\"row_heading level0 row3\" >3</th>\n",
       "      <td id=\"T_95107_row3_col0\" class=\"data row3 col0\" >B</td>\n",
       "      <td id=\"T_95107_row3_col1\" class=\"data row3 col1\" >BANPU</td>\n",
       "      <td id=\"T_95107_row3_col2\" class=\"data row3 col2\" >12,000</td>\n",
       "      <td id=\"T_95107_row3_col3\" class=\"data row3 col3\" >11.50</td>\n",
       "      <td id=\"T_95107_row3_col4\" class=\"data row3 col4\" >138,000.00</td>\n",
       "      <td id=\"T_95107_row3_col5\" class=\"data row3 col5\" >1L</td>\n",
       "      <td id=\"T_95107_row3_col6\" class=\"data row3 col6\" >SET50</td>\n",
       "      <td id=\"T_95107_row3_col7\" class=\"data row3 col7\" >0</td>\n",
       "      <td id=\"T_95107_row3_col8\" class=\"data row3 col8\" >2022-04-11</td>\n",
       "    </tr>\n",
       "    <tr>\n",
       "      <th id=\"T_95107_level0_row4\" class=\"row_heading level0 row4\" >4</th>\n",
       "      <td id=\"T_95107_row4_col0\" class=\"data row4 col0\" >B</td>\n",
       "      <td id=\"T_95107_row4_col1\" class=\"data row4 col1\" >BCPG</td>\n",
       "      <td id=\"T_95107_row4_col2\" class=\"data row4 col2\" >9,000</td>\n",
       "      <td id=\"T_95107_row4_col3\" class=\"data row4 col3\" >10.30</td>\n",
       "      <td id=\"T_95107_row4_col4\" class=\"data row4 col4\" >92,700.00</td>\n",
       "      <td id=\"T_95107_row4_col5\" class=\"data row4 col5\" >52WL</td>\n",
       "      <td id=\"T_95107_row4_col6\" class=\"data row4 col6\" >SET100</td>\n",
       "      <td id=\"T_95107_row4_col7\" class=\"data row4 col7\" >1</td>\n",
       "      <td id=\"T_95107_row4_col8\" class=\"data row4 col8\" >2022-02-02</td>\n",
       "    </tr>\n",
       "    <tr>\n",
       "      <th id=\"T_95107_level0_row5\" class=\"row_heading level0 row5\" >5</th>\n",
       "      <td id=\"T_95107_row5_col0\" class=\"data row5 col0\" >B</td>\n",
       "      <td id=\"T_95107_row5_col1\" class=\"data row5 col1\" >IVL</td>\n",
       "      <td id=\"T_95107_row5_col2\" class=\"data row5 col2\" >3,000</td>\n",
       "      <td id=\"T_95107_row5_col3\" class=\"data row5 col3\" >43.50</td>\n",
       "      <td id=\"T_95107_row5_col4\" class=\"data row5 col4\" >130,500.00</td>\n",
       "      <td id=\"T_95107_row5_col5\" class=\"data row5 col5\" >13WL</td>\n",
       "      <td id=\"T_95107_row5_col6\" class=\"data row5 col6\" >SET50</td>\n",
       "      <td id=\"T_95107_row5_col7\" class=\"data row5 col7\" >0</td>\n",
       "      <td id=\"T_95107_row5_col8\" class=\"data row5 col8\" >2022-05-31</td>\n",
       "    </tr>\n",
       "    <tr>\n",
       "      <th id=\"T_95107_level0_row6\" class=\"row_heading level0 row6\" >6</th>\n",
       "      <td id=\"T_95107_row6_col0\" class=\"data row6 col0\" >B</td>\n",
       "      <td id=\"T_95107_row6_col1\" class=\"data row6 col1\" >JASIF</td>\n",
       "      <td id=\"T_95107_row6_col2\" class=\"data row6 col2\" >10,000</td>\n",
       "      <td id=\"T_95107_row6_col3\" class=\"data row6 col3\" >8.60</td>\n",
       "      <td id=\"T_95107_row6_col4\" class=\"data row6 col4\" >86,000.00</td>\n",
       "      <td id=\"T_95107_row6_col5\" class=\"data row6 col5\" >RD10pct</td>\n",
       "      <td id=\"T_95107_row6_col6\" class=\"data row6 col6\" >SET</td>\n",
       "      <td id=\"T_95107_row6_col7\" class=\"data row6 col7\" >1</td>\n",
       "      <td id=\"T_95107_row6_col8\" class=\"data row6 col8\" >2022-05-20</td>\n",
       "    </tr>\n",
       "    <tr>\n",
       "      <th id=\"T_95107_level0_row7\" class=\"row_heading level0 row7\" >7</th>\n",
       "      <td id=\"T_95107_row7_col0\" class=\"data row7 col0\" >B</td>\n",
       "      <td id=\"T_95107_row7_col1\" class=\"data row7 col1\" >KTC</td>\n",
       "      <td id=\"T_95107_row7_col2\" class=\"data row7 col2\" >2,100</td>\n",
       "      <td id=\"T_95107_row7_col3\" class=\"data row7 col3\" >52.75</td>\n",
       "      <td id=\"T_95107_row7_col4\" class=\"data row7 col4\" >110,775.00</td>\n",
       "      <td id=\"T_95107_row7_col5\" class=\"data row7 col5\" >52WL</td>\n",
       "      <td id=\"T_95107_row7_col6\" class=\"data row7 col6\" >SET50</td>\n",
       "      <td id=\"T_95107_row7_col7\" class=\"data row7 col7\" >0</td>\n",
       "      <td id=\"T_95107_row7_col8\" class=\"data row7 col8\" >2022-04-18</td>\n",
       "    </tr>\n",
       "    <tr>\n",
       "      <th id=\"T_95107_level0_row8\" class=\"row_heading level0 row8\" >8</th>\n",
       "      <td id=\"T_95107_row8_col0\" class=\"data row8 col0\" >B</td>\n",
       "      <td id=\"T_95107_row8_col1\" class=\"data row8 col1\" >MCS</td>\n",
       "      <td id=\"T_95107_row8_col2\" class=\"data row8 col2\" >5,000</td>\n",
       "      <td id=\"T_95107_row8_col3\" class=\"data row8 col3\" >10.60</td>\n",
       "      <td id=\"T_95107_row8_col4\" class=\"data row8 col4\" >53,000.00</td>\n",
       "      <td id=\"T_95107_row8_col5\" class=\"data row8 col5\" >52WL</td>\n",
       "      <td id=\"T_95107_row8_col6\" class=\"data row8 col6\" >SET</td>\n",
       "      <td id=\"T_95107_row8_col7\" class=\"data row8 col7\" >1</td>\n",
       "      <td id=\"T_95107_row8_col8\" class=\"data row8 col8\" >2022-03-15</td>\n",
       "    </tr>\n",
       "    <tr>\n",
       "      <th id=\"T_95107_level0_row9\" class=\"row_heading level0 row9\" >9</th>\n",
       "      <td id=\"T_95107_row9_col0\" class=\"data row9 col0\" >B</td>\n",
       "      <td id=\"T_95107_row9_col1\" class=\"data row9 col1\" >RBF</td>\n",
       "      <td id=\"T_95107_row9_col2\" class=\"data row9 col2\" >9,000</td>\n",
       "      <td id=\"T_95107_row9_col3\" class=\"data row9 col3\" >13.70</td>\n",
       "      <td id=\"T_95107_row9_col4\" class=\"data row9 col4\" >123,300.00</td>\n",
       "      <td id=\"T_95107_row9_col5\" class=\"data row9 col5\" >52WL</td>\n",
       "      <td id=\"T_95107_row9_col6\" class=\"data row9 col6\" >SET100</td>\n",
       "      <td id=\"T_95107_row9_col7\" class=\"data row9 col7\" >1</td>\n",
       "      <td id=\"T_95107_row9_col8\" class=\"data row9 col8\" >2022-02-02</td>\n",
       "    </tr>\n",
       "    <tr>\n",
       "      <th id=\"T_95107_level0_row10\" class=\"row_heading level0 row10\" >10</th>\n",
       "      <td id=\"T_95107_row10_col0\" class=\"data row10 col0\" >B</td>\n",
       "      <td id=\"T_95107_row10_col1\" class=\"data row10 col1\" >RCL</td>\n",
       "      <td id=\"T_95107_row10_col2\" class=\"data row10 col2\" >3,000</td>\n",
       "      <td id=\"T_95107_row10_col3\" class=\"data row10 col3\" >35.25</td>\n",
       "      <td id=\"T_95107_row10_col4\" class=\"data row10 col4\" >105,750.00</td>\n",
       "      <td id=\"T_95107_row10_col5\" class=\"data row10 col5\" >RD20pct</td>\n",
       "      <td id=\"T_95107_row10_col6\" class=\"data row10 col6\" >SET100</td>\n",
       "      <td id=\"T_95107_row10_col7\" class=\"data row10 col7\" >1</td>\n",
       "      <td id=\"T_95107_row10_col8\" class=\"data row10 col8\" >2022-03-23</td>\n",
       "    </tr>\n",
       "    <tr>\n",
       "      <th id=\"T_95107_level0_row11\" class=\"row_heading level0 row11\" >11</th>\n",
       "      <td id=\"T_95107_row11_col0\" class=\"data row11 col0\" >B</td>\n",
       "      <td id=\"T_95107_row11_col1\" class=\"data row11 col1\" >SINGER</td>\n",
       "      <td id=\"T_95107_row11_col2\" class=\"data row11 col2\" >3,000</td>\n",
       "      <td id=\"T_95107_row11_col3\" class=\"data row11 col3\" >33.00</td>\n",
       "      <td id=\"T_95107_row11_col4\" class=\"data row11 col4\" >99,000.00</td>\n",
       "      <td id=\"T_95107_row11_col5\" class=\"data row11 col5\" >52WL</td>\n",
       "      <td id=\"T_95107_row11_col6\" class=\"data row11 col6\" >SET100</td>\n",
       "      <td id=\"T_95107_row11_col7\" class=\"data row11 col7\" >0</td>\n",
       "      <td id=\"T_95107_row11_col8\" class=\"data row11 col8\" >2022-02-02</td>\n",
       "    </tr>\n",
       "    <tr>\n",
       "      <th id=\"T_95107_level0_row12\" class=\"row_heading level0 row12\" >12</th>\n",
       "      <td id=\"T_95107_row12_col0\" class=\"data row12 col0\" >B</td>\n",
       "      <td id=\"T_95107_row12_col1\" class=\"data row12 col1\" >SSP</td>\n",
       "      <td id=\"T_95107_row12_col2\" class=\"data row12 col2\" >10,000</td>\n",
       "      <td id=\"T_95107_row12_col3\" class=\"data row12 col3\" >8.60</td>\n",
       "      <td id=\"T_95107_row12_col4\" class=\"data row12 col4\" >86,000.00</td>\n",
       "      <td id=\"T_95107_row12_col5\" class=\"data row12 col5\" >52WL</td>\n",
       "      <td id=\"T_95107_row12_col6\" class=\"data row12 col6\" >SET</td>\n",
       "      <td id=\"T_95107_row12_col7\" class=\"data row12 col7\" >1</td>\n",
       "      <td id=\"T_95107_row12_col8\" class=\"data row12 col8\" >2022-02-02</td>\n",
       "    </tr>\n",
       "    <tr>\n",
       "      <th id=\"T_95107_level0_row13\" class=\"row_heading level0 row13\" >13</th>\n",
       "      <td id=\"T_95107_row13_col0\" class=\"data row13 col0\" >B</td>\n",
       "      <td id=\"T_95107_row13_col1\" class=\"data row13 col1\" >TMT</td>\n",
       "      <td id=\"T_95107_row13_col2\" class=\"data row13 col2\" >12,000</td>\n",
       "      <td id=\"T_95107_row13_col3\" class=\"data row13 col3\" >7.90</td>\n",
       "      <td id=\"T_95107_row13_col4\" class=\"data row13 col4\" >94,800.00</td>\n",
       "      <td id=\"T_95107_row13_col5\" class=\"data row13 col5\" >RD15pct</td>\n",
       "      <td id=\"T_95107_row13_col6\" class=\"data row13 col6\" >SET</td>\n",
       "      <td id=\"T_95107_row13_col7\" class=\"data row13 col7\" >1</td>\n",
       "      <td id=\"T_95107_row13_col8\" class=\"data row13 col8\" >2022-04-18</td>\n",
       "    </tr>\n",
       "    <tr>\n",
       "      <th id=\"T_95107_level0_row14\" class=\"row_heading level0 row14\" >14</th>\n",
       "      <td id=\"T_95107_row14_col0\" class=\"data row14 col0\" >B</td>\n",
       "      <td id=\"T_95107_row14_col1\" class=\"data row14 col1\" >WHAIR</td>\n",
       "      <td id=\"T_95107_row14_col2\" class=\"data row14 col2\" >12,000</td>\n",
       "      <td id=\"T_95107_row14_col3\" class=\"data row14 col3\" >7.15</td>\n",
       "      <td id=\"T_95107_row14_col4\" class=\"data row14 col4\" >85,800.00</td>\n",
       "      <td id=\"T_95107_row14_col5\" class=\"data row14 col5\" >RD25pct</td>\n",
       "      <td id=\"T_95107_row14_col6\" class=\"data row14 col6\" >SET </td>\n",
       "      <td id=\"T_95107_row14_col7\" class=\"data row14 col7\" >1</td>\n",
       "      <td id=\"T_95107_row14_col8\" class=\"data row14 col8\" >2022-02-02</td>\n",
       "    </tr>\n",
       "    <tr>\n",
       "      <th id=\"T_95107_level0_row15\" class=\"row_heading level0 row15\" >15</th>\n",
       "      <td id=\"T_95107_row15_col0\" class=\"data row15 col0\" >S</td>\n",
       "      <td id=\"T_95107_row15_col1\" class=\"data row15 col1\" >BCH</td>\n",
       "      <td id=\"T_95107_row15_col2\" class=\"data row15 col2\" >3,000</td>\n",
       "      <td id=\"T_95107_row15_col3\" class=\"data row15 col3\" >21.00</td>\n",
       "      <td id=\"T_95107_row15_col4\" class=\"data row15 col4\" >63,000.00</td>\n",
       "      <td id=\"T_95107_row15_col5\" class=\"data row15 col5\" >CP1S</td>\n",
       "      <td id=\"T_95107_row15_col6\" class=\"data row15 col6\" >SET100</td>\n",
       "      <td id=\"T_95107_row15_col7\" class=\"data row15 col7\" >1</td>\n",
       "      <td id=\"T_95107_row15_col8\" class=\"data row15 col8\" >2022-02-02</td>\n",
       "    </tr>\n",
       "    <tr>\n",
       "      <th id=\"T_95107_level0_row16\" class=\"row_heading level0 row16\" >16</th>\n",
       "      <td id=\"T_95107_row16_col0\" class=\"data row16 col0\" >S</td>\n",
       "      <td id=\"T_95107_row16_col1\" class=\"data row16 col1\" >DIF</td>\n",
       "      <td id=\"T_95107_row16_col2\" class=\"data row16 col2\" >10,000</td>\n",
       "      <td id=\"T_95107_row16_col3\" class=\"data row16 col3\" >14.60</td>\n",
       "      <td id=\"T_95107_row16_col4\" class=\"data row16 col4\" >146,000.00</td>\n",
       "      <td id=\"T_95107_row16_col5\" class=\"data row16 col5\" >CUT</td>\n",
       "      <td id=\"T_95107_row16_col6\" class=\"data row16 col6\" >SET</td>\n",
       "      <td id=\"T_95107_row16_col7\" class=\"data row16 col7\" >0</td>\n",
       "      <td id=\"T_95107_row16_col8\" class=\"data row16 col8\" >2022-05-17</td>\n",
       "    </tr>\n",
       "    <tr>\n",
       "      <th id=\"T_95107_level0_row17\" class=\"row_heading level0 row17\" >17</th>\n",
       "      <td id=\"T_95107_row17_col0\" class=\"data row17 col0\" >S</td>\n",
       "      <td id=\"T_95107_row17_col1\" class=\"data row17 col1\" >GLOBAL</td>\n",
       "      <td id=\"T_95107_row17_col2\" class=\"data row17 col2\" >4,500</td>\n",
       "      <td id=\"T_95107_row17_col3\" class=\"data row17 col3\" >18.50</td>\n",
       "      <td id=\"T_95107_row17_col4\" class=\"data row17 col4\" >83,250.00</td>\n",
       "      <td id=\"T_95107_row17_col5\" class=\"data row17 col5\" >C18.40</td>\n",
       "      <td id=\"T_95107_row17_col6\" class=\"data row17 col6\" >SET50</td>\n",
       "      <td id=\"T_95107_row17_col7\" class=\"data row17 col7\" >1</td>\n",
       "      <td id=\"T_95107_row17_col8\" class=\"data row17 col8\" >2022-02-02</td>\n",
       "    </tr>\n",
       "    <tr>\n",
       "      <th id=\"T_95107_level0_row18\" class=\"row_heading level0 row18\" >18</th>\n",
       "      <td id=\"T_95107_row18_col0\" class=\"data row18 col0\" >S</td>\n",
       "      <td id=\"T_95107_row18_col1\" class=\"data row18 col1\" >SIS</td>\n",
       "      <td id=\"T_95107_row18_col2\" class=\"data row18 col2\" >3,600</td>\n",
       "      <td id=\"T_95107_row18_col3\" class=\"data row18 col3\" >28.75</td>\n",
       "      <td id=\"T_95107_row18_col4\" class=\"data row18 col4\" >103,500.00</td>\n",
       "      <td id=\"T_95107_row18_col5\" class=\"data row18 col5\" >C28.50</td>\n",
       "      <td id=\"T_95107_row18_col6\" class=\"data row18 col6\" >SET</td>\n",
       "      <td id=\"T_95107_row18_col7\" class=\"data row18 col7\" >0</td>\n",
       "      <td id=\"T_95107_row18_col8\" class=\"data row18 col8\" >2022-03-10</td>\n",
       "    </tr>\n",
       "    <tr>\n",
       "      <th id=\"T_95107_level0_row19\" class=\"row_heading level0 row19\" >19</th>\n",
       "      <td id=\"T_95107_row19_col0\" class=\"data row19 col0\" >S</td>\n",
       "      <td id=\"T_95107_row19_col1\" class=\"data row19 col1\" >TISCO</td>\n",
       "      <td id=\"T_95107_row19_col2\" class=\"data row19 col2\" >1,000</td>\n",
       "      <td id=\"T_95107_row19_col3\" class=\"data row19 col3\" >88.50</td>\n",
       "      <td id=\"T_95107_row19_col4\" class=\"data row19 col4\" >88,500.00</td>\n",
       "      <td id=\"T_95107_row19_col5\" class=\"data row19 col5\" >CUT</td>\n",
       "      <td id=\"T_95107_row19_col6\" class=\"data row19 col6\" >SET50</td>\n",
       "      <td id=\"T_95107_row19_col7\" class=\"data row19 col7\" >2</td>\n",
       "      <td id=\"T_95107_row19_col8\" class=\"data row19 col8\" >2022-02-02</td>\n",
       "    </tr>\n",
       "  </tbody>\n",
       "</table>\n"
      ],
      "text/plain": [
       "<pandas.io.formats.style.Styler at 0x1e97dce0100>"
      ]
     },
     "execution_count": 4,
     "metadata": {},
     "output_type": "execute_result"
    }
   ],
   "source": [
    "sql = '''\n",
    "SELECT trade, name, qty, price, qty * price AS amount, reason, market, active, xdate\n",
    "FROM orders\n",
    "ORDER BY trade, name'''\n",
    "orders = pd.read_sql(sql, conlite)\n",
    "orders.sort_values(['trade','name'],ascending=[True,True]).style.format(format_dict)"
   ]
  },
  {
   "cell_type": "code",
   "execution_count": 5,
   "metadata": {},
   "outputs": [
    {
     "data": {
      "text/plain": [
       "(55, 18)"
      ]
     },
     "execution_count": 5,
     "metadata": {},
     "output_type": "execute_result"
    }
   ],
   "source": [
    "sql = \"\"\"\n",
    "SELECT *\n",
    "FROM stocks\n",
    "\"\"\"\n",
    "stocks = pd.read_sql(sql, conlite)\n",
    "stocks.shape"
   ]
  },
  {
   "cell_type": "code",
   "execution_count": 6,
   "metadata": {},
   "outputs": [
    {
     "data": {
      "text/plain": [
       "(20, 26)"
      ]
     },
     "execution_count": 6,
     "metadata": {},
     "output_type": "execute_result"
    }
   ],
   "source": [
    "df_merge = pd.merge(orders,stocks,on='name',how='inner')\n",
    "df_merge.shape"
   ]
  },
  {
   "cell_type": "code",
   "execution_count": 7,
   "metadata": {
    "scrolled": true
   },
   "outputs": [
    {
     "data": {
      "text/html": [
       "<style type=\"text/css\">\n",
       "</style>\n",
       "<table id=\"T_31f49_\">\n",
       "  <thead>\n",
       "    <tr>\n",
       "      <th class=\"blank level0\" >&nbsp;</th>\n",
       "      <th class=\"col_heading level0 col0\" >trade</th>\n",
       "      <th class=\"col_heading level0 col1\" >name</th>\n",
       "      <th class=\"col_heading level0 col2\" >qty_x</th>\n",
       "      <th class=\"col_heading level0 col3\" >price</th>\n",
       "      <th class=\"col_heading level0 col4\" >reason_x</th>\n",
       "      <th class=\"col_heading level0 col5\" >qty_y</th>\n",
       "      <th class=\"col_heading level0 col6\" >buy_target</th>\n",
       "      <th class=\"col_heading level0 col7\" >sell_target</th>\n",
       "      <th class=\"col_heading level0 col8\" >reason_y</th>\n",
       "    </tr>\n",
       "  </thead>\n",
       "  <tbody>\n",
       "    <tr>\n",
       "      <th id=\"T_31f49_level0_row0\" class=\"row_heading level0 row0\" >14</th>\n",
       "      <td id=\"T_31f49_row0_col0\" class=\"data row0 col0\" >B</td>\n",
       "      <td id=\"T_31f49_row0_col1\" class=\"data row0 col1\" >WHAIR</td>\n",
       "      <td id=\"T_31f49_row0_col2\" class=\"data row0 col2\" >12,000</td>\n",
       "      <td id=\"T_31f49_row0_col3\" class=\"data row0 col3\" >7.15</td>\n",
       "      <td id=\"T_31f49_row0_col4\" class=\"data row0 col4\" >RD25pct</td>\n",
       "      <td id=\"T_31f49_row0_col5\" class=\"data row0 col5\" >10,000</td>\n",
       "      <td id=\"T_31f49_row0_col6\" class=\"data row0 col6\" >7.20</td>\n",
       "      <td id=\"T_31f49_row0_col7\" class=\"data row0 col7\" >9.00</td>\n",
       "      <td id=\"T_31f49_row0_col8\" class=\"data row0 col8\" >RD15pct</td>\n",
       "    </tr>\n",
       "  </tbody>\n",
       "</table>\n"
      ],
      "text/plain": [
       "<pandas.io.formats.style.Styler at 0x1e97dce0640>"
      ]
     },
     "execution_count": 7,
     "metadata": {},
     "output_type": "execute_result"
    }
   ],
   "source": [
    "qty_mask = (df_merge.qty_x != df_merge.qty_y)\n",
    "df_merge[qty_mask][cols].style.format(format_dict)"
   ]
  },
  {
   "cell_type": "code",
   "execution_count": 8,
   "metadata": {},
   "outputs": [
    {
     "data": {
      "text/html": [
       "<style type=\"text/css\">\n",
       "</style>\n",
       "<table id=\"T_1c1a2_\">\n",
       "  <thead>\n",
       "    <tr>\n",
       "      <th class=\"blank level0\" >&nbsp;</th>\n",
       "      <th class=\"col_heading level0 col0\" >trade</th>\n",
       "      <th class=\"col_heading level0 col1\" >name</th>\n",
       "      <th class=\"col_heading level0 col2\" >qty_x</th>\n",
       "      <th class=\"col_heading level0 col3\" >price</th>\n",
       "      <th class=\"col_heading level0 col4\" >reason_x</th>\n",
       "      <th class=\"col_heading level0 col5\" >qty_y</th>\n",
       "      <th class=\"col_heading level0 col6\" >buy_target</th>\n",
       "      <th class=\"col_heading level0 col7\" >sell_target</th>\n",
       "      <th class=\"col_heading level0 col8\" >reason_y</th>\n",
       "    </tr>\n",
       "  </thead>\n",
       "  <tbody>\n",
       "    <tr>\n",
       "      <th id=\"T_1c1a2_level0_row0\" class=\"row_heading level0 row0\" >1</th>\n",
       "      <td id=\"T_1c1a2_row0_col0\" class=\"data row0 col0\" >B</td>\n",
       "      <td id=\"T_1c1a2_row0_col1\" class=\"data row0 col1\" >ASK</td>\n",
       "      <td id=\"T_1c1a2_row0_col2\" class=\"data row0 col2\" >3,000</td>\n",
       "      <td id=\"T_1c1a2_row0_col3\" class=\"data row0 col3\" >28.50</td>\n",
       "      <td id=\"T_1c1a2_row0_col4\" class=\"data row0 col4\" >52WL</td>\n",
       "      <td id=\"T_1c1a2_row0_col5\" class=\"data row0 col5\" >3,000</td>\n",
       "      <td id=\"T_1c1a2_row0_col6\" class=\"data row0 col6\" >30.00</td>\n",
       "      <td id=\"T_1c1a2_row0_col7\" class=\"data row0 col7\" >0.00</td>\n",
       "      <td id=\"T_1c1a2_row0_col8\" class=\"data row0 col8\" >52WL</td>\n",
       "    </tr>\n",
       "    <tr>\n",
       "      <th id=\"T_1c1a2_level0_row1\" class=\"row_heading level0 row1\" >4</th>\n",
       "      <td id=\"T_1c1a2_row1_col0\" class=\"data row1 col0\" >B</td>\n",
       "      <td id=\"T_1c1a2_row1_col1\" class=\"data row1 col1\" >BCPG</td>\n",
       "      <td id=\"T_1c1a2_row1_col2\" class=\"data row1 col2\" >9,000</td>\n",
       "      <td id=\"T_1c1a2_row1_col3\" class=\"data row1 col3\" >10.30</td>\n",
       "      <td id=\"T_1c1a2_row1_col4\" class=\"data row1 col4\" >52WL</td>\n",
       "      <td id=\"T_1c1a2_row1_col5\" class=\"data row1 col5\" >9,000</td>\n",
       "      <td id=\"T_1c1a2_row1_col6\" class=\"data row1 col6\" >10.50</td>\n",
       "      <td id=\"T_1c1a2_row1_col7\" class=\"data row1 col7\" >0.00</td>\n",
       "      <td id=\"T_1c1a2_row1_col8\" class=\"data row1 col8\" >52WL</td>\n",
       "    </tr>\n",
       "    <tr>\n",
       "      <th id=\"T_1c1a2_level0_row2\" class=\"row_heading level0 row2\" >9</th>\n",
       "      <td id=\"T_1c1a2_row2_col0\" class=\"data row2 col0\" >B</td>\n",
       "      <td id=\"T_1c1a2_row2_col1\" class=\"data row2 col1\" >RBF</td>\n",
       "      <td id=\"T_1c1a2_row2_col2\" class=\"data row2 col2\" >9,000</td>\n",
       "      <td id=\"T_1c1a2_row2_col3\" class=\"data row2 col3\" >13.70</td>\n",
       "      <td id=\"T_1c1a2_row2_col4\" class=\"data row2 col4\" >52WL</td>\n",
       "      <td id=\"T_1c1a2_row2_col5\" class=\"data row2 col5\" >9,000</td>\n",
       "      <td id=\"T_1c1a2_row2_col6\" class=\"data row2 col6\" >14.30</td>\n",
       "      <td id=\"T_1c1a2_row2_col7\" class=\"data row2 col7\" >0.00</td>\n",
       "      <td id=\"T_1c1a2_row2_col8\" class=\"data row2 col8\" >52WL</td>\n",
       "    </tr>\n",
       "    <tr>\n",
       "      <th id=\"T_1c1a2_level0_row3\" class=\"row_heading level0 row3\" >11</th>\n",
       "      <td id=\"T_1c1a2_row3_col0\" class=\"data row3 col0\" >B</td>\n",
       "      <td id=\"T_1c1a2_row3_col1\" class=\"data row3 col1\" >SINGER</td>\n",
       "      <td id=\"T_1c1a2_row3_col2\" class=\"data row3 col2\" >3,000</td>\n",
       "      <td id=\"T_1c1a2_row3_col3\" class=\"data row3 col3\" >33.00</td>\n",
       "      <td id=\"T_1c1a2_row3_col4\" class=\"data row3 col4\" >52WL</td>\n",
       "      <td id=\"T_1c1a2_row3_col5\" class=\"data row3 col5\" >3,000</td>\n",
       "      <td id=\"T_1c1a2_row3_col6\" class=\"data row3 col6\" >42.00</td>\n",
       "      <td id=\"T_1c1a2_row3_col7\" class=\"data row3 col7\" >52.75</td>\n",
       "      <td id=\"T_1c1a2_row3_col8\" class=\"data row3 col8\" >52WL</td>\n",
       "    </tr>\n",
       "    <tr>\n",
       "      <th id=\"T_1c1a2_level0_row4\" class=\"row_heading level0 row4\" >12</th>\n",
       "      <td id=\"T_1c1a2_row4_col0\" class=\"data row4 col0\" >B</td>\n",
       "      <td id=\"T_1c1a2_row4_col1\" class=\"data row4 col1\" >SSP</td>\n",
       "      <td id=\"T_1c1a2_row4_col2\" class=\"data row4 col2\" >10,000</td>\n",
       "      <td id=\"T_1c1a2_row4_col3\" class=\"data row4 col3\" >8.60</td>\n",
       "      <td id=\"T_1c1a2_row4_col4\" class=\"data row4 col4\" >52WL</td>\n",
       "      <td id=\"T_1c1a2_row4_col5\" class=\"data row4 col5\" >10,000</td>\n",
       "      <td id=\"T_1c1a2_row4_col6\" class=\"data row4 col6\" >9.00</td>\n",
       "      <td id=\"T_1c1a2_row4_col7\" class=\"data row4 col7\" >0.00</td>\n",
       "      <td id=\"T_1c1a2_row4_col8\" class=\"data row4 col8\" >52WL</td>\n",
       "    </tr>\n",
       "    <tr>\n",
       "      <th id=\"T_1c1a2_level0_row5\" class=\"row_heading level0 row5\" >13</th>\n",
       "      <td id=\"T_1c1a2_row5_col0\" class=\"data row5 col0\" >B</td>\n",
       "      <td id=\"T_1c1a2_row5_col1\" class=\"data row5 col1\" >TMT</td>\n",
       "      <td id=\"T_1c1a2_row5_col2\" class=\"data row5 col2\" >12,000</td>\n",
       "      <td id=\"T_1c1a2_row5_col3\" class=\"data row5 col3\" >7.90</td>\n",
       "      <td id=\"T_1c1a2_row5_col4\" class=\"data row5 col4\" >RD15pct</td>\n",
       "      <td id=\"T_1c1a2_row5_col5\" class=\"data row5 col5\" >12,000</td>\n",
       "      <td id=\"T_1c1a2_row5_col6\" class=\"data row5 col6\" >8.40</td>\n",
       "      <td id=\"T_1c1a2_row5_col7\" class=\"data row5 col7\" >9.00</td>\n",
       "      <td id=\"T_1c1a2_row5_col8\" class=\"data row5 col8\" >RD15pct</td>\n",
       "    </tr>\n",
       "    <tr>\n",
       "      <th id=\"T_1c1a2_level0_row6\" class=\"row_heading level0 row6\" >14</th>\n",
       "      <td id=\"T_1c1a2_row6_col0\" class=\"data row6 col0\" >B</td>\n",
       "      <td id=\"T_1c1a2_row6_col1\" class=\"data row6 col1\" >WHAIR</td>\n",
       "      <td id=\"T_1c1a2_row6_col2\" class=\"data row6 col2\" >12,000</td>\n",
       "      <td id=\"T_1c1a2_row6_col3\" class=\"data row6 col3\" >7.15</td>\n",
       "      <td id=\"T_1c1a2_row6_col4\" class=\"data row6 col4\" >RD25pct</td>\n",
       "      <td id=\"T_1c1a2_row6_col5\" class=\"data row6 col5\" >10,000</td>\n",
       "      <td id=\"T_1c1a2_row6_col6\" class=\"data row6 col6\" >7.20</td>\n",
       "      <td id=\"T_1c1a2_row6_col7\" class=\"data row6 col7\" >9.00</td>\n",
       "      <td id=\"T_1c1a2_row6_col8\" class=\"data row6 col8\" >RD15pct</td>\n",
       "    </tr>\n",
       "  </tbody>\n",
       "</table>\n"
      ],
      "text/plain": [
       "<pandas.io.formats.style.Styler at 0x1e9017a7220>"
      ]
     },
     "execution_count": 8,
     "metadata": {},
     "output_type": "execute_result"
    }
   ],
   "source": [
    "buy_price_mask = (df_merge.price != df_merge.buy_target) & (df_merge.trade == 'B')\n",
    "df_merge[buy_price_mask][cols].style.format(format_dict)"
   ]
  },
  {
   "cell_type": "code",
   "execution_count": 9,
   "metadata": {},
   "outputs": [
    {
     "data": {
      "text/html": [
       "<style type=\"text/css\">\n",
       "</style>\n",
       "<table id=\"T_adefe_\">\n",
       "  <thead>\n",
       "    <tr>\n",
       "      <th class=\"blank level0\" >&nbsp;</th>\n",
       "      <th class=\"col_heading level0 col0\" >trade</th>\n",
       "      <th class=\"col_heading level0 col1\" >name</th>\n",
       "      <th class=\"col_heading level0 col2\" >qty_x</th>\n",
       "      <th class=\"col_heading level0 col3\" >price</th>\n",
       "      <th class=\"col_heading level0 col4\" >reason_x</th>\n",
       "      <th class=\"col_heading level0 col5\" >qty_y</th>\n",
       "      <th class=\"col_heading level0 col6\" >buy_target</th>\n",
       "      <th class=\"col_heading level0 col7\" >sell_target</th>\n",
       "      <th class=\"col_heading level0 col8\" >reason_y</th>\n",
       "    </tr>\n",
       "  </thead>\n",
       "  <tbody>\n",
       "  </tbody>\n",
       "</table>\n"
      ],
      "text/plain": [
       "<pandas.io.formats.style.Styler at 0x1e901770ca0>"
      ]
     },
     "execution_count": 9,
     "metadata": {},
     "output_type": "execute_result"
    }
   ],
   "source": [
    "sell_price_mask = (df_merge.price != df_merge.sell_target) & (df_merge.trade == 'S')\n",
    "df_merge[sell_price_mask][cols].style.format(format_dict)"
   ]
  },
  {
   "cell_type": "code",
   "execution_count": 10,
   "metadata": {
    "scrolled": true
   },
   "outputs": [
    {
     "data": {
      "text/html": [
       "<style type=\"text/css\">\n",
       "</style>\n",
       "<table id=\"T_2e3ac_\">\n",
       "  <thead>\n",
       "    <tr>\n",
       "      <th class=\"blank level0\" >&nbsp;</th>\n",
       "      <th class=\"col_heading level0 col0\" >trade</th>\n",
       "      <th class=\"col_heading level0 col1\" >name</th>\n",
       "      <th class=\"col_heading level0 col2\" >qty_x</th>\n",
       "      <th class=\"col_heading level0 col3\" >price</th>\n",
       "      <th class=\"col_heading level0 col4\" >reason_x</th>\n",
       "      <th class=\"col_heading level0 col5\" >qty_y</th>\n",
       "      <th class=\"col_heading level0 col6\" >buy_target</th>\n",
       "      <th class=\"col_heading level0 col7\" >sell_target</th>\n",
       "      <th class=\"col_heading level0 col8\" >reason_y</th>\n",
       "    </tr>\n",
       "  </thead>\n",
       "  <tbody>\n",
       "    <tr>\n",
       "      <th id=\"T_2e3ac_level0_row0\" class=\"row_heading level0 row0\" >14</th>\n",
       "      <td id=\"T_2e3ac_row0_col0\" class=\"data row0 col0\" >B</td>\n",
       "      <td id=\"T_2e3ac_row0_col1\" class=\"data row0 col1\" >WHAIR</td>\n",
       "      <td id=\"T_2e3ac_row0_col2\" class=\"data row0 col2\" >12,000</td>\n",
       "      <td id=\"T_2e3ac_row0_col3\" class=\"data row0 col3\" >7.15</td>\n",
       "      <td id=\"T_2e3ac_row0_col4\" class=\"data row0 col4\" >RD25pct</td>\n",
       "      <td id=\"T_2e3ac_row0_col5\" class=\"data row0 col5\" >10,000</td>\n",
       "      <td id=\"T_2e3ac_row0_col6\" class=\"data row0 col6\" >7.20</td>\n",
       "      <td id=\"T_2e3ac_row0_col7\" class=\"data row0 col7\" >9.00</td>\n",
       "      <td id=\"T_2e3ac_row0_col8\" class=\"data row0 col8\" >RD15pct</td>\n",
       "    </tr>\n",
       "  </tbody>\n",
       "</table>\n"
      ],
      "text/plain": [
       "<pandas.io.formats.style.Styler at 0x1e97dcb50d0>"
      ]
     },
     "execution_count": 10,
     "metadata": {},
     "output_type": "execute_result"
    }
   ],
   "source": [
    "reason_mask = (df_merge.reason_x != df_merge.reason_y)\n",
    "df_merge[reason_mask][cols].style.format(format_dict)"
   ]
  },
  {
   "cell_type": "markdown",
   "metadata": {},
   "source": [
    "### End of Loop process"
   ]
  },
  {
   "cell_type": "code",
   "execution_count": 11,
   "metadata": {},
   "outputs": [
    {
     "data": {
      "text/html": [
       "<div>\n",
       "<style scoped>\n",
       "    .dataframe tbody tr th:only-of-type {\n",
       "        vertical-align: middle;\n",
       "    }\n",
       "\n",
       "    .dataframe tbody tr th {\n",
       "        vertical-align: top;\n",
       "    }\n",
       "\n",
       "    .dataframe thead th {\n",
       "        text-align: right;\n",
       "    }\n",
       "</style>\n",
       "<table border=\"1\" class=\"dataframe\">\n",
       "  <thead>\n",
       "    <tr style=\"text-align: right;\">\n",
       "      <th></th>\n",
       "      <th>trade</th>\n",
       "      <th>name</th>\n",
       "      <th>qty</th>\n",
       "      <th>price</th>\n",
       "      <th>active</th>\n",
       "      <th>reason</th>\n",
       "      <th>market</th>\n",
       "      <th>xdate</th>\n",
       "    </tr>\n",
       "  </thead>\n",
       "  <tbody>\n",
       "    <tr>\n",
       "      <th>0</th>\n",
       "      <td>B</td>\n",
       "      <td>AP</td>\n",
       "      <td>10000</td>\n",
       "      <td>9.50</td>\n",
       "      <td>1</td>\n",
       "      <td>MinP</td>\n",
       "      <td>SET100</td>\n",
       "      <td>2022-05-10</td>\n",
       "    </tr>\n",
       "    <tr>\n",
       "      <th>1</th>\n",
       "      <td>B</td>\n",
       "      <td>ASK</td>\n",
       "      <td>3000</td>\n",
       "      <td>28.50</td>\n",
       "      <td>1</td>\n",
       "      <td>52WL</td>\n",
       "      <td>SET</td>\n",
       "      <td>2022-03-03</td>\n",
       "    </tr>\n",
       "    <tr>\n",
       "      <th>2</th>\n",
       "      <td>B</td>\n",
       "      <td>ASP</td>\n",
       "      <td>10000</td>\n",
       "      <td>3.00</td>\n",
       "      <td>1</td>\n",
       "      <td>52WL</td>\n",
       "      <td>SET</td>\n",
       "      <td>2022-02-02</td>\n",
       "    </tr>\n",
       "    <tr>\n",
       "      <th>3</th>\n",
       "      <td>B</td>\n",
       "      <td>BANPU</td>\n",
       "      <td>12000</td>\n",
       "      <td>11.50</td>\n",
       "      <td>0</td>\n",
       "      <td>1L</td>\n",
       "      <td>SET50</td>\n",
       "      <td>2022-04-11</td>\n",
       "    </tr>\n",
       "    <tr>\n",
       "      <th>4</th>\n",
       "      <td>B</td>\n",
       "      <td>BCPG</td>\n",
       "      <td>9000</td>\n",
       "      <td>10.30</td>\n",
       "      <td>1</td>\n",
       "      <td>52WL</td>\n",
       "      <td>SET100</td>\n",
       "      <td>2022-02-02</td>\n",
       "    </tr>\n",
       "    <tr>\n",
       "      <th>5</th>\n",
       "      <td>B</td>\n",
       "      <td>IVL</td>\n",
       "      <td>3000</td>\n",
       "      <td>43.50</td>\n",
       "      <td>0</td>\n",
       "      <td>13WL</td>\n",
       "      <td>SET50</td>\n",
       "      <td>2022-05-31</td>\n",
       "    </tr>\n",
       "    <tr>\n",
       "      <th>6</th>\n",
       "      <td>B</td>\n",
       "      <td>JASIF</td>\n",
       "      <td>10000</td>\n",
       "      <td>8.60</td>\n",
       "      <td>1</td>\n",
       "      <td>RD10pct</td>\n",
       "      <td>SET</td>\n",
       "      <td>2022-05-20</td>\n",
       "    </tr>\n",
       "    <tr>\n",
       "      <th>7</th>\n",
       "      <td>B</td>\n",
       "      <td>KTC</td>\n",
       "      <td>2100</td>\n",
       "      <td>52.75</td>\n",
       "      <td>0</td>\n",
       "      <td>52WL</td>\n",
       "      <td>SET50</td>\n",
       "      <td>2022-04-18</td>\n",
       "    </tr>\n",
       "    <tr>\n",
       "      <th>8</th>\n",
       "      <td>B</td>\n",
       "      <td>MCS</td>\n",
       "      <td>5000</td>\n",
       "      <td>10.60</td>\n",
       "      <td>1</td>\n",
       "      <td>52WL</td>\n",
       "      <td>SET</td>\n",
       "      <td>2022-03-15</td>\n",
       "    </tr>\n",
       "    <tr>\n",
       "      <th>9</th>\n",
       "      <td>B</td>\n",
       "      <td>RBF</td>\n",
       "      <td>9000</td>\n",
       "      <td>13.70</td>\n",
       "      <td>1</td>\n",
       "      <td>52WL</td>\n",
       "      <td>SET100</td>\n",
       "      <td>2022-02-02</td>\n",
       "    </tr>\n",
       "    <tr>\n",
       "      <th>10</th>\n",
       "      <td>B</td>\n",
       "      <td>RCL</td>\n",
       "      <td>3000</td>\n",
       "      <td>35.25</td>\n",
       "      <td>1</td>\n",
       "      <td>RD20pct</td>\n",
       "      <td>SET100</td>\n",
       "      <td>2022-03-23</td>\n",
       "    </tr>\n",
       "    <tr>\n",
       "      <th>11</th>\n",
       "      <td>B</td>\n",
       "      <td>SINGER</td>\n",
       "      <td>3000</td>\n",
       "      <td>33.00</td>\n",
       "      <td>0</td>\n",
       "      <td>52WL</td>\n",
       "      <td>SET100</td>\n",
       "      <td>2022-02-02</td>\n",
       "    </tr>\n",
       "    <tr>\n",
       "      <th>12</th>\n",
       "      <td>B</td>\n",
       "      <td>SSP</td>\n",
       "      <td>10000</td>\n",
       "      <td>8.60</td>\n",
       "      <td>1</td>\n",
       "      <td>52WL</td>\n",
       "      <td>SET</td>\n",
       "      <td>2022-02-02</td>\n",
       "    </tr>\n",
       "    <tr>\n",
       "      <th>13</th>\n",
       "      <td>B</td>\n",
       "      <td>TMT</td>\n",
       "      <td>12000</td>\n",
       "      <td>7.90</td>\n",
       "      <td>1</td>\n",
       "      <td>RD15pct</td>\n",
       "      <td>SET</td>\n",
       "      <td>2022-04-18</td>\n",
       "    </tr>\n",
       "    <tr>\n",
       "      <th>14</th>\n",
       "      <td>B</td>\n",
       "      <td>WHAIR</td>\n",
       "      <td>12000</td>\n",
       "      <td>7.15</td>\n",
       "      <td>1</td>\n",
       "      <td>RD25pct</td>\n",
       "      <td>SET</td>\n",
       "      <td>2022-02-02</td>\n",
       "    </tr>\n",
       "    <tr>\n",
       "      <th>15</th>\n",
       "      <td>S</td>\n",
       "      <td>BCH</td>\n",
       "      <td>3000</td>\n",
       "      <td>21.00</td>\n",
       "      <td>1</td>\n",
       "      <td>CP1S</td>\n",
       "      <td>SET100</td>\n",
       "      <td>2022-02-02</td>\n",
       "    </tr>\n",
       "    <tr>\n",
       "      <th>16</th>\n",
       "      <td>S</td>\n",
       "      <td>DIF</td>\n",
       "      <td>10000</td>\n",
       "      <td>14.60</td>\n",
       "      <td>0</td>\n",
       "      <td>CUT</td>\n",
       "      <td>SET</td>\n",
       "      <td>2022-05-17</td>\n",
       "    </tr>\n",
       "    <tr>\n",
       "      <th>17</th>\n",
       "      <td>S</td>\n",
       "      <td>GLOBAL</td>\n",
       "      <td>4500</td>\n",
       "      <td>18.50</td>\n",
       "      <td>1</td>\n",
       "      <td>C18.40</td>\n",
       "      <td>SET50</td>\n",
       "      <td>2022-02-02</td>\n",
       "    </tr>\n",
       "    <tr>\n",
       "      <th>18</th>\n",
       "      <td>S</td>\n",
       "      <td>SIS</td>\n",
       "      <td>3600</td>\n",
       "      <td>28.75</td>\n",
       "      <td>0</td>\n",
       "      <td>C28.50</td>\n",
       "      <td>SET</td>\n",
       "      <td>2022-03-10</td>\n",
       "    </tr>\n",
       "    <tr>\n",
       "      <th>19</th>\n",
       "      <td>S</td>\n",
       "      <td>TISCO</td>\n",
       "      <td>1000</td>\n",
       "      <td>88.50</td>\n",
       "      <td>2</td>\n",
       "      <td>CUT</td>\n",
       "      <td>SET50</td>\n",
       "      <td>2022-02-02</td>\n",
       "    </tr>\n",
       "  </tbody>\n",
       "</table>\n",
       "</div>"
      ],
      "text/plain": [
       "   trade    name    qty  price  active   reason  market       xdate\n",
       "0      B      AP  10000   9.50       1     MinP  SET100  2022-05-10\n",
       "1      B     ASK   3000  28.50       1     52WL     SET  2022-03-03\n",
       "2      B     ASP  10000   3.00       1     52WL    SET   2022-02-02\n",
       "3      B   BANPU  12000  11.50       0       1L   SET50  2022-04-11\n",
       "4      B    BCPG   9000  10.30       1     52WL  SET100  2022-02-02\n",
       "5      B     IVL   3000  43.50       0     13WL   SET50  2022-05-31\n",
       "6      B   JASIF  10000   8.60       1  RD10pct     SET  2022-05-20\n",
       "7      B     KTC   2100  52.75       0     52WL   SET50  2022-04-18\n",
       "8      B     MCS   5000  10.60       1     52WL     SET  2022-03-15\n",
       "9      B     RBF   9000  13.70       1     52WL  SET100  2022-02-02\n",
       "10     B     RCL   3000  35.25       1  RD20pct  SET100  2022-03-23\n",
       "11     B  SINGER   3000  33.00       0     52WL  SET100  2022-02-02\n",
       "12     B     SSP  10000   8.60       1     52WL     SET  2022-02-02\n",
       "13     B     TMT  12000   7.90       1  RD15pct     SET  2022-04-18\n",
       "14     B   WHAIR  12000   7.15       1  RD25pct    SET   2022-02-02\n",
       "15     S     BCH   3000  21.00       1     CP1S  SET100  2022-02-02\n",
       "16     S     DIF  10000  14.60       0      CUT     SET  2022-05-17\n",
       "17     S  GLOBAL   4500  18.50       1   C18.40   SET50  2022-02-02\n",
       "18     S     SIS   3600  28.75       0   C28.50     SET  2022-03-10\n",
       "19     S   TISCO   1000  88.50       2      CUT   SET50  2022-02-02"
      ]
     },
     "execution_count": 11,
     "metadata": {},
     "output_type": "execute_result"
    }
   ],
   "source": [
    "orders[colt]"
   ]
  },
  {
   "cell_type": "code",
   "execution_count": 12,
   "metadata": {},
   "outputs": [],
   "source": [
    "file_name = 'orders.csv'\n",
    "data_file = data_path + file_name\n",
    "output_file = csv_path + file_name\n",
    "box_file = box_path + file_name\n",
    "data_file, output_file, box_file\n",
    "\n",
    "orders[colt].to_csv(output_file, header=True, index=False)\n",
    "orders[colt].to_csv(data_file,   header=True, index=False)\n",
    "orders[colt].to_csv(box_file,    header=True, index=False)"
   ]
  },
  {
   "cell_type": "markdown",
   "metadata": {},
   "source": [
    "### After call ord-log"
   ]
  },
  {
   "cell_type": "code",
   "execution_count": 13,
   "metadata": {},
   "outputs": [],
   "source": [
    "def categorise(row):  \n",
    "    if row['col0'] == 'B':\n",
    "        return 'Buy'\n",
    "    else:\n",
    "        return 'Sell'"
   ]
  },
  {
   "cell_type": "code",
   "execution_count": 14,
   "metadata": {},
   "outputs": [
    {
     "data": {
      "text/plain": [
       "col0       object\n",
       "name       object\n",
       "spd        object\n",
       "reason     object\n",
       "market     object\n",
       "qty        object\n",
       "target     object\n",
       "current    object\n",
       "chg        object\n",
       "percent    object\n",
       "trans      object\n",
       "dtype: object"
      ]
     },
     "execution_count": 14,
     "metadata": {},
     "output_type": "execute_result"
    }
   ],
   "source": [
    "df = pd.read_csv('../data/orders-log.csv', header=None, prefix = 'col',usecols=[0,1,2,3,4,5,6,7,8,9])\n",
    "df.rename(columns = {'col1': 'name', 'col2': 'spd','col3': 'reason', 'col4': 'market','col5': 'qty', 'col6': 'target','col7': 'current', 'col8': 'chg', 'col9': 'percent'}, inplace = True)\n",
    "df['trans'] = df.apply(lambda row: categorise(row), axis=1)\n",
    "#df['qty'] = df['qty'].astype('int64')\n",
    "df.dtypes"
   ]
  },
  {
   "cell_type": "code",
   "execution_count": 15,
   "metadata": {
    "scrolled": false
   },
   "outputs": [
    {
     "data": {
      "application/javascript": [
       "require.config({\n",
       "    paths: {\n",
       "        datatables: 'https://cdn.datatables.net/1.10.19/js/jquery.dataTables.min',\n",
       "    }\n",
       "});\n",
       "\n",
       "$('head').append('<link rel=\"stylesheet\" type=\"text/css\" \\\n",
       "                href = \"https://cdn.datatables.net/1.10.19/css/jquery.dataTables.min.css\" > ');\n",
       "\n",
       "$('head').append('<style> table td { text-overflow: ellipsis; overflow: hidden; } </style>');\n",
       "\n",
       "$('head').append(`<script>\n",
       "function eval_functions(map_or_text) {\n",
       "    if (typeof map_or_text === \"string\") {\n",
       "        if (map_or_text.startsWith(\"function\")) {\n",
       "            try {\n",
       "                // Note: parenthesis are required around the whole expression for eval to return a value!\n",
       "                // See https://stackoverflow.com/a/7399078/911298.\n",
       "                //\n",
       "                // eval(\"local_fun = \" + map_or_text) would fail because local_fun is not declared\n",
       "                // (using var, let or const would work, but it would only be declared in the local scope\n",
       "                // and therefore the value could not be retrieved).\n",
       "                const func = eval(\"(\" + map_or_text + \")\");\n",
       "                if (typeof func !== \"function\") {\n",
       "                    // Note: backquotes are super convenient!\n",
       "                    // https://developer.mozilla.org/en-US/docs/Web/JavaScript/Reference/Template_literals\n",
       "                    console.error(\"Evaluated expression \" + map_or_text + \" is not a function (type is \" + typeof func + \")\");\n",
       "                    return map_or_text;\n",
       "                }\n",
       "                // Return the function\n",
       "                return func;\n",
       "            } catch (e) {\n",
       "                // Make sure to print the error with a second argument to console.error().\n",
       "                console.error(\"itables was not able to parse \" + map_or_text, e);\n",
       "            }\n",
       "        }\n",
       "    } else if (typeof map_or_text === \"object\") {\n",
       "        if (map_or_text instanceof Array) {\n",
       "            // Note: \"var\" is now superseded by \"let\" and \"const\".\n",
       "            // https://medium.com/javascript-scene/javascript-es6-var-let-or-const-ba58b8dcde75\n",
       "            const result = [];\n",
       "            // Note: \"for of\" is the best way to iterate through an iterable.\n",
       "            // https://developer.mozilla.org/en-US/docs/Web/JavaScript/Reference/Statements/for...of\n",
       "            for (const item of map_or_text) {\n",
       "                result.push(eval_functions(item));\n",
       "            }\n",
       "            return result;\n",
       "\n",
       "            // Alternatively, more functional approach in one line:\n",
       "            // return map_or_text.map(eval_functions);\n",
       "        } else {\n",
       "            const result = {};\n",
       "            // Object.keys() is safer than \"for in\" because otherwise you might have keys\n",
       "            // that aren't defined in the object itself.\n",
       "            //\n",
       "            // See https://stackoverflow.com/a/684692/911298.\n",
       "            for (const item of Object.keys(map_or_text)) {\n",
       "                result[item] = eval_functions(map_or_text[item]);\n",
       "            }\n",
       "            return result;\n",
       "        }\n",
       "    }\n",
       "\n",
       "    return map_or_text;\n",
       "}\n",
       "\n",
       "</` + 'script>');"
      ],
      "text/plain": [
       "<IPython.core.display.Javascript object>"
      ]
     },
     "metadata": {},
     "output_type": "display_data"
    },
    {
     "data": {
      "text/html": [
       "<div><table id=\"bcd748a3-d4ad-44cc-9532-e9bc9c95169b\" class=\"display\"><thead>\n",
       "    <tr style=\"text-align: right;\">\n",
       "      \n",
       "      <th>trans</th>\n",
       "      <th>name</th>\n",
       "      <th>spd</th>\n",
       "      <th>reason</th>\n",
       "      <th>qty</th>\n",
       "      <th>target</th>\n",
       "      <th>current</th>\n",
       "      <th>chg</th>\n",
       "      <th>percent</th>\n",
       "    </tr>\n",
       "  </thead></table>\n",
       "<script type=\"text/javascript\">\n",
       "require([\"datatables\"], function (datatables) {\n",
       "    $(document).ready(function () {\n",
       "        var dt_args = {\"columnDefs\": [{\"width\": \"70px\", \"targets\": \"_all\"}], \"data\": [[\"Sell\", \"name\", \"spd\", \"reason\", \"qty\", \"target\", \"current\", \"change\", \"percent\"], [\"Buy\", \"AIT\", \"-5\", \"52WL\", \"18000\", \"5.7\", \"5.95\", \"0.00\", \"0.00%\"], [\"Buy\", \"AP\", \"-10\", \"MinP\", \"10000\", \"9.5\", \"10.00\", \"0.00\", \"0.00%\"], [\"Buy\", \"ASK\", \"-4\", \"52WL\", \"3000\", \"30.0\", \"31.00\", \"-0.75\", \"-2.36%\"], [\"Buy\", \"BANPU\", \"-9\", \"1L\", \"12000\", \"11.5\", \"12.40\", \"-0.20\", \"-1.59%\"], [\"Buy\", \"BBL\", \"-12\", \"P50%\", \"2400\", \"128.0\", \"134.00\", \"+1.00\", \"+0.75%\"], [\"Buy\", \"BCPG\", \"-4\", \"52WL\", \"9000\", \"10.5\", \"10.90\", \"0.00\", \"0.00%\"], [\"Buy\", \"IVL\", \"-10\", \"13WL\", \"3000\", \"43.5\", \"46.00\", \"-1.00\", \"-2.13%\"], [\"Buy\", \"KKP\", \"-13\", \"52WL\", \"3000\", \"60.0\", \"63.25\", \"+1.25\", \"+2.02%\"], [\"Buy\", \"KTC\", \"-7\", \"P25%\", \"2100\", \"55.0\", \"56.75\", \"-0.25\", \"-0.44%\"], [\"Buy\", \"MCS\", \"-1\", \"52WL\", \"5000\", \"11.4\", \"11.50\", \"-0.10\", \"-0.86%\"], [\"Buy\", \"RBF\", \"-6\", \"XXX\", \"9000\", \"14.3\", \"14.90\", \"-0.60\", \"-3.87%\"], [\"Buy\", \"RCL\", \"-12\", \"RD20pct\", \"3000\", \"35.25\", \"38.25\", \"-0.25\", \"-0.65%\"], [\"Buy\", \"SINGER\", \"-10\", \"52WL\", \"3000\", \"42.0\", \"44.50\", \"+0.25\", \"+0.56%\"], [\"Buy\", \"SNC\", \"-13\", \"1L\", \"9000\", \"16.5\", \"17.80\", \"+0.40\", \"+2.30%\"], [\"Buy\", \"SSP\", \"-6\", \"6L\", \"10000\", \"9.0\", \"9.30\", \"-0.05\", \"-0.53%\"], [\"Buy\", \"TMT\", \"-5\", \"RD15pct\", \"12000\", \"8.4\", \"8.65\", \"0.00\", \"0.00%\"], [\"Sell\", \"DIF\", \"11\", \"CUT\", \"10000\", \"14.6\", \"13.50\", \"+0.10\", \"+0.75%\"], [\"Sell\", \"GLOBAL\", \"7\", \"C18.40\", \"4500\", \"18.5\", \"17.80\", \"-0.60\", \"-3.26%\"], [\"Sell\", \"JASIF\", \"7\", \"C9.80\", \"10000\", \"9.85\", \"9.50\", \"-0.10\", \"-1.04%\"], [\"Sell\", \"SIS\", \"4\", \"C28.50\", \"3600\", \"28.75\", \"27.75\", \"+1.25\", \"+4.72%\"]]};\n",
       "        dt_args = eval_functions(dt_args);\n",
       "        table = $('#bcd748a3-d4ad-44cc-9532-e9bc9c95169b').DataTable(dt_args);\n",
       "    });\n",
       "})\n",
       "</script>\n",
       "</div>\n"
      ],
      "text/plain": [
       "<IPython.core.display.HTML object>"
      ]
     },
     "metadata": {},
     "output_type": "display_data"
    }
   ],
   "source": [
    "from itables import show\n",
    "show(df[['trans','name','spd','reason','qty','target','current','chg','percent']])"
   ]
  },
  {
   "cell_type": "code",
   "execution_count": 16,
   "metadata": {},
   "outputs": [
    {
     "data": {
      "text/plain": [
       "0"
      ]
     },
     "execution_count": 16,
     "metadata": {},
     "output_type": "execute_result"
    }
   ],
   "source": [
    "sql = '''\n",
    "UPDATE stocks\n",
    "SET buy_target = 0\n",
    "WHERE buy_target IS NULL'''\n",
    "rp = conlite.execute(sql)\n",
    "rp.rowcount"
   ]
  },
  {
   "cell_type": "code",
   "execution_count": 17,
   "metadata": {},
   "outputs": [
    {
     "data": {
      "text/plain": [
       "0"
      ]
     },
     "execution_count": 17,
     "metadata": {},
     "output_type": "execute_result"
    }
   ],
   "source": [
    "sql = '''\n",
    "UPDATE stocks\n",
    "SET sell_target = 0\n",
    "WHERE sell_target IS NULL'''\n",
    "rp = conlite.execute(sql)\n",
    "rp.rowcount"
   ]
  },
  {
   "cell_type": "code",
   "execution_count": 18,
   "metadata": {},
   "outputs": [
    {
     "data": {
      "text/plain": [
       "0"
      ]
     },
     "execution_count": 18,
     "metadata": {},
     "output_type": "execute_result"
    }
   ],
   "source": [
    "sql = '''\n",
    "UPDATE stocks\n",
    "SET available_qty = 0\n",
    "WHERE available_qty IS NULL'''\n",
    "rp = conlite.execute(sql)\n",
    "rp.rowcount"
   ]
  },
  {
   "cell_type": "code",
   "execution_count": 19,
   "metadata": {},
   "outputs": [
    {
     "data": {
      "text/plain": [
       "0"
      ]
     },
     "execution_count": 19,
     "metadata": {},
     "output_type": "execute_result"
    }
   ],
   "source": [
    "sql = '''\n",
    "UPDATE stocks\n",
    "SET cost = 0\n",
    "WHERE cost IS NULL'''\n",
    "rp = conlite.execute(sql)\n",
    "rp.rowcount"
   ]
  },
  {
   "cell_type": "code",
   "execution_count": 20,
   "metadata": {},
   "outputs": [
    {
     "data": {
      "text/plain": [
       "0"
      ]
     },
     "execution_count": 20,
     "metadata": {},
     "output_type": "execute_result"
    }
   ],
   "source": [
    "sql = '''\n",
    "UPDATE stocks\n",
    "SET qty = 0\n",
    "WHERE qty IS NULL'''\n",
    "rp = conlite.execute(sql)\n",
    "rp.rowcount"
   ]
  },
  {
   "cell_type": "code",
   "execution_count": 21,
   "metadata": {},
   "outputs": [
    {
     "data": {
      "text/html": [
       "<style type=\"text/css\">\n",
       "</style>\n",
       "<table id=\"T_db772_\">\n",
       "  <thead>\n",
       "    <tr>\n",
       "      <th class=\"blank level0\" >&nbsp;</th>\n",
       "      <th class=\"col_heading level0 col0\" >id</th>\n",
       "      <th class=\"col_heading level0 col1\" >name</th>\n",
       "      <th class=\"col_heading level0 col2\" >max_price</th>\n",
       "      <th class=\"col_heading level0 col3\" >min_price</th>\n",
       "      <th class=\"col_heading level0 col4\" >status</th>\n",
       "      <th class=\"col_heading level0 col5\" >buy_target</th>\n",
       "      <th class=\"col_heading level0 col6\" >sell_target</th>\n",
       "      <th class=\"col_heading level0 col7\" >volume</th>\n",
       "      <th class=\"col_heading level0 col8\" >beta</th>\n",
       "      <th class=\"col_heading level0 col9\" >cost</th>\n",
       "      <th class=\"col_heading level0 col10\" >qty</th>\n",
       "      <th class=\"col_heading level0 col11\" >buy_spread</th>\n",
       "      <th class=\"col_heading level0 col12\" >sell_spread</th>\n",
       "      <th class=\"col_heading level0 col13\" >available_qty</th>\n",
       "      <th class=\"col_heading level0 col14\" >bl</th>\n",
       "      <th class=\"col_heading level0 col15\" >sh</th>\n",
       "      <th class=\"col_heading level0 col16\" >reason</th>\n",
       "      <th class=\"col_heading level0 col17\" >market</th>\n",
       "    </tr>\n",
       "  </thead>\n",
       "  <tbody>\n",
       "  </tbody>\n",
       "</table>\n"
      ],
      "text/plain": [
       "<pandas.io.formats.style.Styler at 0x1e901815850>"
      ]
     },
     "execution_count": 21,
     "metadata": {},
     "output_type": "execute_result"
    }
   ],
   "source": [
    "qty_mask = (stocks.qty == 0) & (stocks.status.isin(['B','I','O','S']))\n",
    "stocks[qty_mask].style.format(format_dict)"
   ]
  },
  {
   "cell_type": "code",
   "execution_count": 22,
   "metadata": {},
   "outputs": [
    {
     "data": {
      "text/html": [
       "<style type=\"text/css\">\n",
       "</style>\n",
       "<table id=\"T_de844_\">\n",
       "  <thead>\n",
       "    <tr>\n",
       "      <th class=\"blank level0\" >&nbsp;</th>\n",
       "      <th class=\"col_heading level0 col0\" >id</th>\n",
       "      <th class=\"col_heading level0 col1\" >name</th>\n",
       "      <th class=\"col_heading level0 col2\" >max_price</th>\n",
       "      <th class=\"col_heading level0 col3\" >min_price</th>\n",
       "      <th class=\"col_heading level0 col4\" >status</th>\n",
       "      <th class=\"col_heading level0 col5\" >buy_target</th>\n",
       "      <th class=\"col_heading level0 col6\" >sell_target</th>\n",
       "      <th class=\"col_heading level0 col7\" >volume</th>\n",
       "      <th class=\"col_heading level0 col8\" >beta</th>\n",
       "      <th class=\"col_heading level0 col9\" >cost</th>\n",
       "      <th class=\"col_heading level0 col10\" >qty</th>\n",
       "      <th class=\"col_heading level0 col11\" >buy_spread</th>\n",
       "      <th class=\"col_heading level0 col12\" >sell_spread</th>\n",
       "      <th class=\"col_heading level0 col13\" >available_qty</th>\n",
       "      <th class=\"col_heading level0 col14\" >bl</th>\n",
       "      <th class=\"col_heading level0 col15\" >sh</th>\n",
       "      <th class=\"col_heading level0 col16\" >reason</th>\n",
       "      <th class=\"col_heading level0 col17\" >market</th>\n",
       "    </tr>\n",
       "  </thead>\n",
       "  <tbody>\n",
       "  </tbody>\n",
       "</table>\n"
      ],
      "text/plain": [
       "<pandas.io.formats.style.Styler at 0x1e901815c40>"
      ]
     },
     "execution_count": 22,
     "metadata": {},
     "output_type": "execute_result"
    }
   ],
   "source": [
    "buy_mask = (stocks.buy_target == 0) & (stocks.status.isin(['B','O']))\n",
    "stocks[buy_mask].style.format(format_dict)"
   ]
  },
  {
   "cell_type": "code",
   "execution_count": 23,
   "metadata": {},
   "outputs": [
    {
     "data": {
      "text/html": [
       "<style type=\"text/css\">\n",
       "</style>\n",
       "<table id=\"T_6bc7b_\">\n",
       "  <thead>\n",
       "    <tr>\n",
       "      <th class=\"blank level0\" >&nbsp;</th>\n",
       "      <th class=\"col_heading level0 col0\" >id</th>\n",
       "      <th class=\"col_heading level0 col1\" >name</th>\n",
       "      <th class=\"col_heading level0 col2\" >max_price</th>\n",
       "      <th class=\"col_heading level0 col3\" >min_price</th>\n",
       "      <th class=\"col_heading level0 col4\" >status</th>\n",
       "      <th class=\"col_heading level0 col5\" >buy_target</th>\n",
       "      <th class=\"col_heading level0 col6\" >sell_target</th>\n",
       "      <th class=\"col_heading level0 col7\" >volume</th>\n",
       "      <th class=\"col_heading level0 col8\" >beta</th>\n",
       "      <th class=\"col_heading level0 col9\" >cost</th>\n",
       "      <th class=\"col_heading level0 col10\" >qty</th>\n",
       "      <th class=\"col_heading level0 col11\" >buy_spread</th>\n",
       "      <th class=\"col_heading level0 col12\" >sell_spread</th>\n",
       "      <th class=\"col_heading level0 col13\" >available_qty</th>\n",
       "      <th class=\"col_heading level0 col14\" >bl</th>\n",
       "      <th class=\"col_heading level0 col15\" >sh</th>\n",
       "      <th class=\"col_heading level0 col16\" >reason</th>\n",
       "      <th class=\"col_heading level0 col17\" >market</th>\n",
       "    </tr>\n",
       "  </thead>\n",
       "  <tbody>\n",
       "  </tbody>\n",
       "</table>\n"
      ],
      "text/plain": [
       "<pandas.io.formats.style.Styler at 0x1e9017bee50>"
      ]
     },
     "execution_count": 23,
     "metadata": {},
     "output_type": "execute_result"
    }
   ],
   "source": [
    "sell_mask = (stocks.sell_target == 0) & (stocks.status.isin(['I','S']))\n",
    "stocks[sell_mask].style.format(format_dict)"
   ]
  }
 ],
 "metadata": {
  "anaconda-cloud": {},
  "kernelspec": {
   "display_name": "Python 3 (ipykernel)",
   "language": "python",
   "name": "python3"
  },
  "language_info": {
   "codemirror_mode": {
    "name": "ipython",
    "version": 3
   },
   "file_extension": ".py",
   "mimetype": "text/x-python",
   "name": "python",
   "nbconvert_exporter": "python",
   "pygments_lexer": "ipython3",
   "version": "3.8.11"
  }
 },
 "nbformat": 4,
 "nbformat_minor": 1
}
