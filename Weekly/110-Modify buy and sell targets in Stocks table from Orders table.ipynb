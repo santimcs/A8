{
 "cells": [
  {
   "cell_type": "code",
   "execution_count": 32,
   "metadata": {},
   "outputs": [],
   "source": [
    "import calendar\n",
    "import pandas as pd\n",
    "from datetime import date, timedelta\n",
    "from sqlalchemy import create_engine\n",
    "\n",
    "engine = create_engine(\"sqlite:///c:\\\\ruby\\\\port_lite\\\\db\\\\development.sqlite3\")\n",
    "conlite = engine.connect()\n",
    "\n",
    "data_path = \"../data/\"\n",
    "csv_path = \"\\\\Users\\\\User\\\\iCloudDrive\\\\\"\n",
    "box_path = \"\\\\Users\\\\User\\\\Dropbox\\\\\""
   ]
  },
  {
   "cell_type": "markdown",
   "metadata": {},
   "source": [
    "### Tables in the process"
   ]
  },
  {
   "cell_type": "code",
   "execution_count": 33,
   "metadata": {},
   "outputs": [],
   "source": [
    "cols = 'trade name qty_x price reason_x qty_y buy_target sell_target reason_y'.split()\n",
    "colt = 'trade name qty price active reason market'.split()"
   ]
  },
  {
   "cell_type": "code",
   "execution_count": 53,
   "metadata": {},
   "outputs": [],
   "source": [
    "format_dict = {\n",
    "    'qty':'{:,}','qty_x':'{:,}','qty_y':'{:,}','available_qty':'{:,}','eps_a':'{:.2f}','eps_b':'{:.2f}',\n",
    "    'volbuy':'{:,}','volsell':'{:,}','volbal':'{:,}',\n",
    "    'pe':'{:.2f}','pbv':'{:.2f}','max':'{:.2f}','min':'{:.2f}','dividend':'{:.4f}',\n",
    "    'maxp':'{:.2f}','minp':'{:.2f}','opnp':'{:.2f}',\n",
    "    'paid_up':'{:,.2f}','market_cap':'{:,.2f}','daily_volume':'{:,.2f}','dly_vol':'{:,.2f}',\n",
    "    'price':'{:.2f}','target_price':'{:.2f}','max_price':'{:.2f}','min_price':'{:.2f}','price_d':'{:.2f}','price_w':'{:.2f}',\n",
    "    'buy_target':'{:.2f}','sell_target':'{:.2f}','target':'{:.2f}','current':'{:.2f}',\n",
    "    'beta':'{:.2f}','amount':'{:,.2f}','sell_amt':'{:,.2f}','volume':'{:,.2f}','percent':'{:,.2f}',\n",
    "    'q_amt':'{:,}','y_amt':'{:,}','aq_amt':'{:,}','ay_amt':'{:,}','yoy_gain':'{:,}','acc_gain':'{:,}',    \n",
    "    'q_eps':'{:.4f}','y_eps':'{:.4f}','aq_eps':'{:.4f}','ay_eps':'{:.4f}',\n",
    "    'yoy_pct':'{:.2f}%','acc_pct':'{:.2f}%','yield':'{:.2f}%',\n",
    "    'q_amt': '{:,}','y_amt': '{:,}','yoy_gain': '{:,}','q_amt_c': '{:,}','q_amt_p': '{:,}','aq_amt': '{:,}','ay_amt': '{:,}',\n",
    "    'acc_gain': '{:,}','latest_amt': '{:,}','previous_amt': '{:,}','inc_amt': '{:,}',\n",
    "    'inc_amt_pq': '{:,}','inc_amt_py': '{:,}',    'latest_amt_q': '{:,}','previous_amt_q': '{:,}','inc_amt_q': '{:,}',\n",
    "    'latest_amt_y': '{:,}','previous_amt_y': '{:,}','inc_amt_y': '{:,}','kind_x': '{:,}',\n",
    "    'inc_pct': '{:.2f}%','inc_pct_q': '{:.2f}%','pct': '{:.2f}%','percent': '{:.2f}%',\n",
    "    'inc_pct_y': '{:.2f}%','inc_pct_pq': '{:.2f}%','inc_pct_py': '{:.2f}%','mean_pct': '{:.2f}%','std_pct': '{:.2f}%',      \n",
    "}"
   ]
  },
  {
   "cell_type": "markdown",
   "metadata": {},
   "source": [
    "### Begin of Loop"
   ]
  },
  {
   "cell_type": "code",
   "execution_count": 64,
   "metadata": {},
   "outputs": [
    {
     "data": {
      "text/html": [
       "<style type=\"text/css\">\n",
       "</style>\n",
       "<table id=\"T_e7c80_\">\n",
       "  <thead>\n",
       "    <tr>\n",
       "      <th class=\"blank level0\" >&nbsp;</th>\n",
       "      <th class=\"col_heading level0 col0\" >trade</th>\n",
       "      <th class=\"col_heading level0 col1\" >name</th>\n",
       "      <th class=\"col_heading level0 col2\" >qty</th>\n",
       "      <th class=\"col_heading level0 col3\" >price</th>\n",
       "      <th class=\"col_heading level0 col4\" >amount</th>\n",
       "      <th class=\"col_heading level0 col5\" >reason</th>\n",
       "      <th class=\"col_heading level0 col6\" >market</th>\n",
       "      <th class=\"col_heading level0 col7\" >active</th>\n",
       "    </tr>\n",
       "  </thead>\n",
       "  <tbody>\n",
       "    <tr>\n",
       "      <th id=\"T_e7c80_level0_row0\" class=\"row_heading level0 row0\" >0</th>\n",
       "      <td id=\"T_e7c80_row0_col0\" class=\"data row0 col0\" >B</td>\n",
       "      <td id=\"T_e7c80_row0_col1\" class=\"data row0 col1\" >BGC</td>\n",
       "      <td id=\"T_e7c80_row0_col2\" class=\"data row0 col2\" >10,000</td>\n",
       "      <td id=\"T_e7c80_row0_col3\" class=\"data row0 col3\" >10.00</td>\n",
       "      <td id=\"T_e7c80_row0_col4\" class=\"data row0 col4\" >100,000.00</td>\n",
       "      <td id=\"T_e7c80_row0_col5\" class=\"data row0 col5\" >DOS</td>\n",
       "      <td id=\"T_e7c80_row0_col6\" class=\"data row0 col6\" >SET</td>\n",
       "      <td id=\"T_e7c80_row0_col7\" class=\"data row0 col7\" >1</td>\n",
       "    </tr>\n",
       "    <tr>\n",
       "      <th id=\"T_e7c80_level0_row1\" class=\"row_heading level0 row1\" >1</th>\n",
       "      <td id=\"T_e7c80_row1_col0\" class=\"data row1 col0\" >B</td>\n",
       "      <td id=\"T_e7c80_row1_col1\" class=\"data row1 col1\" >KCE</td>\n",
       "      <td id=\"T_e7c80_row1_col2\" class=\"data row1 col2\" >2,000</td>\n",
       "      <td id=\"T_e7c80_row1_col3\" class=\"data row1 col3\" >81.00</td>\n",
       "      <td id=\"T_e7c80_row1_col4\" class=\"data row1 col4\" >162,000.00</td>\n",
       "      <td id=\"T_e7c80_row1_col5\" class=\"data row1 col5\" >RD07p</td>\n",
       "      <td id=\"T_e7c80_row1_col6\" class=\"data row1 col6\" >SET50</td>\n",
       "      <td id=\"T_e7c80_row1_col7\" class=\"data row1 col7\" >2</td>\n",
       "    </tr>\n",
       "    <tr>\n",
       "      <th id=\"T_e7c80_level0_row2\" class=\"row_heading level0 row2\" >2</th>\n",
       "      <td id=\"T_e7c80_row2_col0\" class=\"data row2 col0\" >B</td>\n",
       "      <td id=\"T_e7c80_row2_col1\" class=\"data row2 col1\" >NOBLE</td>\n",
       "      <td id=\"T_e7c80_row2_col2\" class=\"data row2 col2\" >21,000</td>\n",
       "      <td id=\"T_e7c80_row2_col3\" class=\"data row2 col3\" >5.85</td>\n",
       "      <td id=\"T_e7c80_row2_col4\" class=\"data row2 col4\" >122,850.00</td>\n",
       "      <td id=\"T_e7c80_row2_col5\" class=\"data row2 col5\" >RD15%</td>\n",
       "      <td id=\"T_e7c80_row2_col6\" class=\"data row2 col6\" >SET</td>\n",
       "      <td id=\"T_e7c80_row2_col7\" class=\"data row2 col7\" >0</td>\n",
       "    </tr>\n",
       "    <tr>\n",
       "      <th id=\"T_e7c80_level0_row3\" class=\"row_heading level0 row3\" >3</th>\n",
       "      <td id=\"T_e7c80_row3_col0\" class=\"data row3 col0\" >B</td>\n",
       "      <td id=\"T_e7c80_row3_col1\" class=\"data row3 col1\" >PTT</td>\n",
       "      <td id=\"T_e7c80_row3_col2\" class=\"data row3 col2\" >3,000</td>\n",
       "      <td id=\"T_e7c80_row3_col3\" class=\"data row3 col3\" >36.50</td>\n",
       "      <td id=\"T_e7c80_row3_col4\" class=\"data row3 col4\" >109,500.00</td>\n",
       "      <td id=\"T_e7c80_row3_col5\" class=\"data row3 col5\" >RD05%</td>\n",
       "      <td id=\"T_e7c80_row3_col6\" class=\"data row3 col6\" >SET50</td>\n",
       "      <td id=\"T_e7c80_row3_col7\" class=\"data row3 col7\" >0</td>\n",
       "    </tr>\n",
       "    <tr>\n",
       "      <th id=\"T_e7c80_level0_row4\" class=\"row_heading level0 row4\" >4</th>\n",
       "      <td id=\"T_e7c80_row4_col0\" class=\"data row4 col0\" >B</td>\n",
       "      <td id=\"T_e7c80_row4_col1\" class=\"data row4 col1\" >RATCH</td>\n",
       "      <td id=\"T_e7c80_row4_col2\" class=\"data row4 col2\" >3,000</td>\n",
       "      <td id=\"T_e7c80_row4_col3\" class=\"data row4 col3\" >42.75</td>\n",
       "      <td id=\"T_e7c80_row4_col4\" class=\"data row4 col4\" >128,250.00</td>\n",
       "      <td id=\"T_e7c80_row4_col5\" class=\"data row4 col5\" >RD05%</td>\n",
       "      <td id=\"T_e7c80_row4_col6\" class=\"data row4 col6\" >SET50</td>\n",
       "      <td id=\"T_e7c80_row4_col7\" class=\"data row4 col7\" >1</td>\n",
       "    </tr>\n",
       "    <tr>\n",
       "      <th id=\"T_e7c80_level0_row5\" class=\"row_heading level0 row5\" >5</th>\n",
       "      <td id=\"T_e7c80_row5_col0\" class=\"data row5 col0\" >B</td>\n",
       "      <td id=\"T_e7c80_row5_col1\" class=\"data row5 col1\" >RCL</td>\n",
       "      <td id=\"T_e7c80_row5_col2\" class=\"data row5 col2\" >1,500</td>\n",
       "      <td id=\"T_e7c80_row5_col3\" class=\"data row5 col3\" >50.00</td>\n",
       "      <td id=\"T_e7c80_row5_col4\" class=\"data row5 col4\" >75,000.00</td>\n",
       "      <td id=\"T_e7c80_row5_col5\" class=\"data row5 col5\" >ROUND</td>\n",
       "      <td id=\"T_e7c80_row5_col6\" class=\"data row5 col6\" >SET100</td>\n",
       "      <td id=\"T_e7c80_row5_col7\" class=\"data row5 col7\" >2</td>\n",
       "    </tr>\n",
       "    <tr>\n",
       "      <th id=\"T_e7c80_level0_row6\" class=\"row_heading level0 row6\" >6</th>\n",
       "      <td id=\"T_e7c80_row6_col0\" class=\"data row6 col0\" >B</td>\n",
       "      <td id=\"T_e7c80_row6_col1\" class=\"data row6 col1\" >ROJNA</td>\n",
       "      <td id=\"T_e7c80_row6_col2\" class=\"data row6 col2\" >18,000</td>\n",
       "      <td id=\"T_e7c80_row6_col3\" class=\"data row6 col3\" >6.30</td>\n",
       "      <td id=\"T_e7c80_row6_col4\" class=\"data row6 col4\" >113,400.00</td>\n",
       "      <td id=\"T_e7c80_row6_col5\" class=\"data row6 col5\" >6L</td>\n",
       "      <td id=\"T_e7c80_row6_col6\" class=\"data row6 col6\" >SET</td>\n",
       "      <td id=\"T_e7c80_row6_col7\" class=\"data row6 col7\" >1</td>\n",
       "    </tr>\n",
       "    <tr>\n",
       "      <th id=\"T_e7c80_level0_row7\" class=\"row_heading level0 row7\" >7</th>\n",
       "      <td id=\"T_e7c80_row7_col0\" class=\"data row7 col0\" >B</td>\n",
       "      <td id=\"T_e7c80_row7_col1\" class=\"data row7 col1\" >STA</td>\n",
       "      <td id=\"T_e7c80_row7_col2\" class=\"data row7 col2\" >2,500</td>\n",
       "      <td id=\"T_e7c80_row7_col3\" class=\"data row7 col3\" >28.00</td>\n",
       "      <td id=\"T_e7c80_row7_col4\" class=\"data row7 col4\" >70,000.00</td>\n",
       "      <td id=\"T_e7c80_row7_col5\" class=\"data row7 col5\" >RD15%</td>\n",
       "      <td id=\"T_e7c80_row7_col6\" class=\"data row7 col6\" >SET50</td>\n",
       "      <td id=\"T_e7c80_row7_col7\" class=\"data row7 col7\" >0</td>\n",
       "    </tr>\n",
       "    <tr>\n",
       "      <th id=\"T_e7c80_level0_row8\" class=\"row_heading level0 row8\" >8</th>\n",
       "      <td id=\"T_e7c80_row8_col0\" class=\"data row8 col0\" >B</td>\n",
       "      <td id=\"T_e7c80_row8_col1\" class=\"data row8 col1\" >TCAP</td>\n",
       "      <td id=\"T_e7c80_row8_col2\" class=\"data row8 col2\" >6,000</td>\n",
       "      <td id=\"T_e7c80_row8_col3\" class=\"data row8 col3\" >35.00</td>\n",
       "      <td id=\"T_e7c80_row8_col4\" class=\"data row8 col4\" >210,000.00</td>\n",
       "      <td id=\"T_e7c80_row8_col5\" class=\"data row8 col5\" >1L</td>\n",
       "      <td id=\"T_e7c80_row8_col6\" class=\"data row8 col6\" >SET100</td>\n",
       "      <td id=\"T_e7c80_row8_col7\" class=\"data row8 col7\" >0</td>\n",
       "    </tr>\n",
       "    <tr>\n",
       "      <th id=\"T_e7c80_level0_row9\" class=\"row_heading level0 row9\" >9</th>\n",
       "      <td id=\"T_e7c80_row9_col0\" class=\"data row9 col0\" >B</td>\n",
       "      <td id=\"T_e7c80_row9_col1\" class=\"data row9 col1\" >TISCO</td>\n",
       "      <td id=\"T_e7c80_row9_col2\" class=\"data row9 col2\" >2,000</td>\n",
       "      <td id=\"T_e7c80_row9_col3\" class=\"data row9 col3\" >94.50</td>\n",
       "      <td id=\"T_e7c80_row9_col4\" class=\"data row9 col4\" >189,000.00</td>\n",
       "      <td id=\"T_e7c80_row9_col5\" class=\"data row9 col5\" >CP1S</td>\n",
       "      <td id=\"T_e7c80_row9_col6\" class=\"data row9 col6\" >SET50</td>\n",
       "      <td id=\"T_e7c80_row9_col7\" class=\"data row9 col7\" >0</td>\n",
       "    </tr>\n",
       "    <tr>\n",
       "      <th id=\"T_e7c80_level0_row10\" class=\"row_heading level0 row10\" >10</th>\n",
       "      <td id=\"T_e7c80_row10_col0\" class=\"data row10 col0\" >B</td>\n",
       "      <td id=\"T_e7c80_row10_col1\" class=\"data row10 col1\" >TSTH</td>\n",
       "      <td id=\"T_e7c80_row10_col2\" class=\"data row10 col2\" >45,000</td>\n",
       "      <td id=\"T_e7c80_row10_col3\" class=\"data row10 col3\" >1.42</td>\n",
       "      <td id=\"T_e7c80_row10_col4\" class=\"data row10 col4\" >63,900.00</td>\n",
       "      <td id=\"T_e7c80_row10_col5\" class=\"data row10 col5\" >RD05pct</td>\n",
       "      <td id=\"T_e7c80_row10_col6\" class=\"data row10 col6\" >SET</td>\n",
       "      <td id=\"T_e7c80_row10_col7\" class=\"data row10 col7\" >0</td>\n",
       "    </tr>\n",
       "    <tr>\n",
       "      <th id=\"T_e7c80_level0_row11\" class=\"row_heading level0 row11\" >11</th>\n",
       "      <td id=\"T_e7c80_row11_col0\" class=\"data row11 col0\" >B</td>\n",
       "      <td id=\"T_e7c80_row11_col1\" class=\"data row11 col1\" >TVO</td>\n",
       "      <td id=\"T_e7c80_row11_col2\" class=\"data row11 col2\" >3,600</td>\n",
       "      <td id=\"T_e7c80_row11_col3\" class=\"data row11 col3\" >30.00</td>\n",
       "      <td id=\"T_e7c80_row11_col4\" class=\"data row11 col4\" >108,000.00</td>\n",
       "      <td id=\"T_e7c80_row11_col5\" class=\"data row11 col5\" >DOS</td>\n",
       "      <td id=\"T_e7c80_row11_col6\" class=\"data row11 col6\" >SET</td>\n",
       "      <td id=\"T_e7c80_row11_col7\" class=\"data row11 col7\" >1</td>\n",
       "    </tr>\n",
       "    <tr>\n",
       "      <th id=\"T_e7c80_level0_row12\" class=\"row_heading level0 row12\" >12</th>\n",
       "      <td id=\"T_e7c80_row12_col0\" class=\"data row12 col0\" >B</td>\n",
       "      <td id=\"T_e7c80_row12_col1\" class=\"data row12 col1\" >TYCN</td>\n",
       "      <td id=\"T_e7c80_row12_col2\" class=\"data row12 col2\" >8,000</td>\n",
       "      <td id=\"T_e7c80_row12_col3\" class=\"data row12 col3\" >3.44</td>\n",
       "      <td id=\"T_e7c80_row12_col4\" class=\"data row12 col4\" >27,520.00</td>\n",
       "      <td id=\"T_e7c80_row12_col5\" class=\"data row12 col5\" >RD05pct</td>\n",
       "      <td id=\"T_e7c80_row12_col6\" class=\"data row12 col6\" >SET</td>\n",
       "      <td id=\"T_e7c80_row12_col7\" class=\"data row12 col7\" >1</td>\n",
       "    </tr>\n",
       "    <tr>\n",
       "      <th id=\"T_e7c80_level0_row13\" class=\"row_heading level0 row13\" >13</th>\n",
       "      <td id=\"T_e7c80_row13_col0\" class=\"data row13 col0\" >S</td>\n",
       "      <td id=\"T_e7c80_row13_col1\" class=\"data row13 col1\" >BGRIM</td>\n",
       "      <td id=\"T_e7c80_row13_col2\" class=\"data row13 col2\" >3,000</td>\n",
       "      <td id=\"T_e7c80_row13_col3\" class=\"data row13 col3\" >42.00</td>\n",
       "      <td id=\"T_e7c80_row13_col4\" class=\"data row13 col4\" >126,000.00</td>\n",
       "      <td id=\"T_e7c80_row13_col5\" class=\"data row13 col5\" >5%</td>\n",
       "      <td id=\"T_e7c80_row13_col6\" class=\"data row13 col6\" >SET50</td>\n",
       "      <td id=\"T_e7c80_row13_col7\" class=\"data row13 col7\" >0</td>\n",
       "    </tr>\n",
       "    <tr>\n",
       "      <th id=\"T_e7c80_level0_row14\" class=\"row_heading level0 row14\" >14</th>\n",
       "      <td id=\"T_e7c80_row14_col0\" class=\"data row14 col0\" >S</td>\n",
       "      <td id=\"T_e7c80_row14_col1\" class=\"data row14 col1\" >EPG</td>\n",
       "      <td id=\"T_e7c80_row14_col2\" class=\"data row14 col2\" >3,000</td>\n",
       "      <td id=\"T_e7c80_row14_col3\" class=\"data row14 col3\" >12.90</td>\n",
       "      <td id=\"T_e7c80_row14_col4\" class=\"data row14 col4\" >38,700.00</td>\n",
       "      <td id=\"T_e7c80_row14_col5\" class=\"data row14 col5\" >15pct</td>\n",
       "      <td id=\"T_e7c80_row14_col6\" class=\"data row14 col6\" >SET</td>\n",
       "      <td id=\"T_e7c80_row14_col7\" class=\"data row14 col7\" >1</td>\n",
       "    </tr>\n",
       "    <tr>\n",
       "      <th id=\"T_e7c80_level0_row15\" class=\"row_heading level0 row15\" >15</th>\n",
       "      <td id=\"T_e7c80_row15_col0\" class=\"data row15 col0\" >S</td>\n",
       "      <td id=\"T_e7c80_row15_col1\" class=\"data row15 col1\" >IMH</td>\n",
       "      <td id=\"T_e7c80_row15_col2\" class=\"data row15 col2\" >3,000</td>\n",
       "      <td id=\"T_e7c80_row15_col3\" class=\"data row15 col3\" >21.50</td>\n",
       "      <td id=\"T_e7c80_row15_col4\" class=\"data row15 col4\" >64,500.00</td>\n",
       "      <td id=\"T_e7c80_row15_col5\" class=\"data row15 col5\" >24H</td>\n",
       "      <td id=\"T_e7c80_row15_col6\" class=\"data row15 col6\" >mai</td>\n",
       "      <td id=\"T_e7c80_row15_col7\" class=\"data row15 col7\" >1</td>\n",
       "    </tr>\n",
       "    <tr>\n",
       "      <th id=\"T_e7c80_level0_row16\" class=\"row_heading level0 row16\" >16</th>\n",
       "      <td id=\"T_e7c80_row16_col0\" class=\"data row16 col0\" >S</td>\n",
       "      <td id=\"T_e7c80_row16_col1\" class=\"data row16 col1\" >IP</td>\n",
       "      <td id=\"T_e7c80_row16_col2\" class=\"data row16 col2\" >3,500</td>\n",
       "      <td id=\"T_e7c80_row16_col3\" class=\"data row16 col3\" >20.20</td>\n",
       "      <td id=\"T_e7c80_row16_col4\" class=\"data row16 col4\" >70,700.00</td>\n",
       "      <td id=\"T_e7c80_row16_col5\" class=\"data row16 col5\" >15pct</td>\n",
       "      <td id=\"T_e7c80_row16_col6\" class=\"data row16 col6\" >mai</td>\n",
       "      <td id=\"T_e7c80_row16_col7\" class=\"data row16 col7\" >1</td>\n",
       "    </tr>\n",
       "    <tr>\n",
       "      <th id=\"T_e7c80_level0_row17\" class=\"row_heading level0 row17\" >17</th>\n",
       "      <td id=\"T_e7c80_row17_col0\" class=\"data row17 col0\" >S</td>\n",
       "      <td id=\"T_e7c80_row17_col1\" class=\"data row17 col1\" >IVL</td>\n",
       "      <td id=\"T_e7c80_row17_col2\" class=\"data row17 col2\" >3,000</td>\n",
       "      <td id=\"T_e7c80_row17_col3\" class=\"data row17 col3\" >50.50</td>\n",
       "      <td id=\"T_e7c80_row17_col4\" class=\"data row17 col4\" >151,500.00</td>\n",
       "      <td id=\"T_e7c80_row17_col5\" class=\"data row17 col5\" >20%</td>\n",
       "      <td id=\"T_e7c80_row17_col6\" class=\"data row17 col6\" >SET50</td>\n",
       "      <td id=\"T_e7c80_row17_col7\" class=\"data row17 col7\" >1</td>\n",
       "    </tr>\n",
       "    <tr>\n",
       "      <th id=\"T_e7c80_level0_row18\" class=\"row_heading level0 row18\" >18</th>\n",
       "      <td id=\"T_e7c80_row18_col0\" class=\"data row18 col0\" >S</td>\n",
       "      <td id=\"T_e7c80_row18_col1\" class=\"data row18 col1\" >KBANK</td>\n",
       "      <td id=\"T_e7c80_row18_col2\" class=\"data row18 col2\" >800</td>\n",
       "      <td id=\"T_e7c80_row18_col3\" class=\"data row18 col3\" >150.50</td>\n",
       "      <td id=\"T_e7c80_row18_col4\" class=\"data row18 col4\" >120,400.00</td>\n",
       "      <td id=\"T_e7c80_row18_col5\" class=\"data row18 col5\" >10pct</td>\n",
       "      <td id=\"T_e7c80_row18_col6\" class=\"data row18 col6\" >SET50</td>\n",
       "      <td id=\"T_e7c80_row18_col7\" class=\"data row18 col7\" >1</td>\n",
       "    </tr>\n",
       "    <tr>\n",
       "      <th id=\"T_e7c80_level0_row19\" class=\"row_heading level0 row19\" >19</th>\n",
       "      <td id=\"T_e7c80_row19_col0\" class=\"data row19 col0\" >S</td>\n",
       "      <td id=\"T_e7c80_row19_col1\" class=\"data row19 col1\" >LPF</td>\n",
       "      <td id=\"T_e7c80_row19_col2\" class=\"data row19 col2\" >10,000</td>\n",
       "      <td id=\"T_e7c80_row19_col3\" class=\"data row19 col3\" >14.30</td>\n",
       "      <td id=\"T_e7c80_row19_col4\" class=\"data row19 col4\" >143,000.00</td>\n",
       "      <td id=\"T_e7c80_row19_col5\" class=\"data row19 col5\" >DOS</td>\n",
       "      <td id=\"T_e7c80_row19_col6\" class=\"data row19 col6\" >SET</td>\n",
       "      <td id=\"T_e7c80_row19_col7\" class=\"data row19 col7\" >1</td>\n",
       "    </tr>\n",
       "    <tr>\n",
       "      <th id=\"T_e7c80_level0_row20\" class=\"row_heading level0 row20\" >20</th>\n",
       "      <td id=\"T_e7c80_row20_col0\" class=\"data row20 col0\" >S</td>\n",
       "      <td id=\"T_e7c80_row20_col1\" class=\"data row20 col1\" >NER</td>\n",
       "      <td id=\"T_e7c80_row20_col2\" class=\"data row20 col2\" >9,000</td>\n",
       "      <td id=\"T_e7c80_row20_col3\" class=\"data row20 col3\" >7.80</td>\n",
       "      <td id=\"T_e7c80_row20_col4\" class=\"data row20 col4\" >70,200.00</td>\n",
       "      <td id=\"T_e7c80_row20_col5\" class=\"data row20 col5\" >5pct</td>\n",
       "      <td id=\"T_e7c80_row20_col6\" class=\"data row20 col6\" >SET</td>\n",
       "      <td id=\"T_e7c80_row20_col7\" class=\"data row20 col7\" >2</td>\n",
       "    </tr>\n",
       "    <tr>\n",
       "      <th id=\"T_e7c80_level0_row21\" class=\"row_heading level0 row21\" >21</th>\n",
       "      <td id=\"T_e7c80_row21_col0\" class=\"data row21 col0\" >S</td>\n",
       "      <td id=\"T_e7c80_row21_col1\" class=\"data row21 col1\" >RJH</td>\n",
       "      <td id=\"T_e7c80_row21_col2\" class=\"data row21 col2\" >1,500</td>\n",
       "      <td id=\"T_e7c80_row21_col3\" class=\"data row21 col3\" >36.25</td>\n",
       "      <td id=\"T_e7c80_row21_col4\" class=\"data row21 col4\" >54,375.00</td>\n",
       "      <td id=\"T_e7c80_row21_col5\" class=\"data row21 col5\" >10pct</td>\n",
       "      <td id=\"T_e7c80_row21_col6\" class=\"data row21 col6\" >SET</td>\n",
       "      <td id=\"T_e7c80_row21_col7\" class=\"data row21 col7\" >0</td>\n",
       "    </tr>\n",
       "    <tr>\n",
       "      <th id=\"T_e7c80_level0_row22\" class=\"row_heading level0 row22\" >22</th>\n",
       "      <td id=\"T_e7c80_row22_col0\" class=\"data row22 col0\" >S</td>\n",
       "      <td id=\"T_e7c80_row22_col1\" class=\"data row22 col1\" >SAT</td>\n",
       "      <td id=\"T_e7c80_row22_col2\" class=\"data row22 col2\" >2,500</td>\n",
       "      <td id=\"T_e7c80_row22_col3\" class=\"data row22 col3\" >25.25</td>\n",
       "      <td id=\"T_e7c80_row22_col4\" class=\"data row22 col4\" >63,125.00</td>\n",
       "      <td id=\"T_e7c80_row22_col5\" class=\"data row22 col5\" >24H</td>\n",
       "      <td id=\"T_e7c80_row22_col6\" class=\"data row22 col6\" >SET</td>\n",
       "      <td id=\"T_e7c80_row22_col7\" class=\"data row22 col7\" >1</td>\n",
       "    </tr>\n",
       "    <tr>\n",
       "      <th id=\"T_e7c80_level0_row23\" class=\"row_heading level0 row23\" >23</th>\n",
       "      <td id=\"T_e7c80_row23_col0\" class=\"data row23 col0\" >S</td>\n",
       "      <td id=\"T_e7c80_row23_col1\" class=\"data row23 col1\" >SIS</td>\n",
       "      <td id=\"T_e7c80_row23_col2\" class=\"data row23 col2\" >1,500</td>\n",
       "      <td id=\"T_e7c80_row23_col3\" class=\"data row23 col3\" >46.50</td>\n",
       "      <td id=\"T_e7c80_row23_col4\" class=\"data row23 col4\" >69,750.00</td>\n",
       "      <td id=\"T_e7c80_row23_col5\" class=\"data row23 col5\" >15pct</td>\n",
       "      <td id=\"T_e7c80_row23_col6\" class=\"data row23 col6\" >SET</td>\n",
       "      <td id=\"T_e7c80_row23_col7\" class=\"data row23 col7\" >2</td>\n",
       "    </tr>\n",
       "    <tr>\n",
       "      <th id=\"T_e7c80_level0_row24\" class=\"row_heading level0 row24\" >24</th>\n",
       "      <td id=\"T_e7c80_row24_col0\" class=\"data row24 col0\" >S</td>\n",
       "      <td id=\"T_e7c80_row24_col1\" class=\"data row24 col1\" >SYNEX</td>\n",
       "      <td id=\"T_e7c80_row24_col2\" class=\"data row24 col2\" >1,500</td>\n",
       "      <td id=\"T_e7c80_row24_col3\" class=\"data row24 col3\" >37.00</td>\n",
       "      <td id=\"T_e7c80_row24_col4\" class=\"data row24 col4\" >55,500.00</td>\n",
       "      <td id=\"T_e7c80_row24_col5\" class=\"data row24 col5\" >5%</td>\n",
       "      <td id=\"T_e7c80_row24_col6\" class=\"data row24 col6\" >SET100</td>\n",
       "      <td id=\"T_e7c80_row24_col7\" class=\"data row24 col7\" >1</td>\n",
       "    </tr>\n",
       "    <tr>\n",
       "      <th id=\"T_e7c80_level0_row25\" class=\"row_heading level0 row25\" >25</th>\n",
       "      <td id=\"T_e7c80_row25_col0\" class=\"data row25 col0\" >S</td>\n",
       "      <td id=\"T_e7c80_row25_col1\" class=\"data row25 col1\" >TOP</td>\n",
       "      <td id=\"T_e7c80_row25_col2\" class=\"data row25 col2\" >3,000</td>\n",
       "      <td id=\"T_e7c80_row25_col3\" class=\"data row25 col3\" >55.00</td>\n",
       "      <td id=\"T_e7c80_row25_col4\" class=\"data row25 col4\" >165,000.00</td>\n",
       "      <td id=\"T_e7c80_row25_col5\" class=\"data row25 col5\" >10pct</td>\n",
       "      <td id=\"T_e7c80_row25_col6\" class=\"data row25 col6\" >SET50</td>\n",
       "      <td id=\"T_e7c80_row25_col7\" class=\"data row25 col7\" >1</td>\n",
       "    </tr>\n",
       "    <tr>\n",
       "      <th id=\"T_e7c80_level0_row26\" class=\"row_heading level0 row26\" >26</th>\n",
       "      <td id=\"T_e7c80_row26_col0\" class=\"data row26 col0\" >S</td>\n",
       "      <td id=\"T_e7c80_row26_col1\" class=\"data row26 col1\" >TU</td>\n",
       "      <td id=\"T_e7c80_row26_col2\" class=\"data row26 col2\" >6,000</td>\n",
       "      <td id=\"T_e7c80_row26_col3\" class=\"data row26 col3\" >21.80</td>\n",
       "      <td id=\"T_e7c80_row26_col4\" class=\"data row26 col4\" >130,800.00</td>\n",
       "      <td id=\"T_e7c80_row26_col5\" class=\"data row26 col5\" >5%</td>\n",
       "      <td id=\"T_e7c80_row26_col6\" class=\"data row26 col6\" >SET50</td>\n",
       "      <td id=\"T_e7c80_row26_col7\" class=\"data row26 col7\" >0</td>\n",
       "    </tr>\n",
       "    <tr>\n",
       "      <th id=\"T_e7c80_level0_row27\" class=\"row_heading level0 row27\" >27</th>\n",
       "      <td id=\"T_e7c80_row27_col0\" class=\"data row27 col0\" >S</td>\n",
       "      <td id=\"T_e7c80_row27_col1\" class=\"data row27 col1\" >WHART</td>\n",
       "      <td id=\"T_e7c80_row27_col2\" class=\"data row27 col2\" >10,000</td>\n",
       "      <td id=\"T_e7c80_row27_col3\" class=\"data row27 col3\" >12.80</td>\n",
       "      <td id=\"T_e7c80_row27_col4\" class=\"data row27 col4\" >128,000.00</td>\n",
       "      <td id=\"T_e7c80_row27_col5\" class=\"data row27 col5\" >DOS</td>\n",
       "      <td id=\"T_e7c80_row27_col6\" class=\"data row27 col6\" >SET</td>\n",
       "      <td id=\"T_e7c80_row27_col7\" class=\"data row27 col7\" >1</td>\n",
       "    </tr>\n",
       "  </tbody>\n",
       "</table>\n"
      ],
      "text/plain": [
       "<pandas.io.formats.style.Styler at 0x1d906ee0700>"
      ]
     },
     "execution_count": 64,
     "metadata": {},
     "output_type": "execute_result"
    }
   ],
   "source": [
    "sql = '''\n",
    "SELECT trade, name, qty, price, qty * price AS amount, reason, market, active\n",
    "FROM orders\n",
    "ORDER BY trade, name'''\n",
    "orders = pd.read_sql(sql, conlite)\n",
    "orders.sort_values(['trade','name'],ascending=[True,True]).style.format(format_dict)"
   ]
  },
  {
   "cell_type": "code",
   "execution_count": 65,
   "metadata": {},
   "outputs": [
    {
     "data": {
      "text/plain": [
       "(54, 18)"
      ]
     },
     "execution_count": 65,
     "metadata": {},
     "output_type": "execute_result"
    }
   ],
   "source": [
    "sql = \"\"\"\n",
    "SELECT *\n",
    "FROM stocks\n",
    "\"\"\"\n",
    "stocks = pd.read_sql(sql, conlite)\n",
    "stocks.shape"
   ]
  },
  {
   "cell_type": "code",
   "execution_count": 58,
   "metadata": {},
   "outputs": [
    {
     "data": {
      "text/plain": [
       "(29, 25)"
      ]
     },
     "execution_count": 58,
     "metadata": {},
     "output_type": "execute_result"
    }
   ],
   "source": [
    "df_merge = pd.merge(orders,stocks,on='name',how='inner')\n",
    "df_merge.shape"
   ]
  },
  {
   "cell_type": "code",
   "execution_count": 59,
   "metadata": {},
   "outputs": [
    {
     "data": {
      "text/html": [
       "<style type=\"text/css\">\n",
       "</style>\n",
       "<table id=\"T_a3b7b_\">\n",
       "  <thead>\n",
       "    <tr>\n",
       "      <th class=\"blank level0\" >&nbsp;</th>\n",
       "      <th class=\"col_heading level0 col0\" >trade</th>\n",
       "      <th class=\"col_heading level0 col1\" >name</th>\n",
       "      <th class=\"col_heading level0 col2\" >qty_x</th>\n",
       "      <th class=\"col_heading level0 col3\" >price</th>\n",
       "      <th class=\"col_heading level0 col4\" >reason_x</th>\n",
       "      <th class=\"col_heading level0 col5\" >qty_y</th>\n",
       "      <th class=\"col_heading level0 col6\" >buy_target</th>\n",
       "      <th class=\"col_heading level0 col7\" >sell_target</th>\n",
       "      <th class=\"col_heading level0 col8\" >reason_y</th>\n",
       "    </tr>\n",
       "  </thead>\n",
       "  <tbody>\n",
       "    <tr>\n",
       "      <th id=\"T_a3b7b_level0_row0\" class=\"row_heading level0 row0\" >1</th>\n",
       "      <td id=\"T_a3b7b_row0_col0\" class=\"data row0 col0\" >B</td>\n",
       "      <td id=\"T_a3b7b_row0_col1\" class=\"data row0 col1\" >KCE</td>\n",
       "      <td id=\"T_a3b7b_row0_col2\" class=\"data row0 col2\" >2,000</td>\n",
       "      <td id=\"T_a3b7b_row0_col3\" class=\"data row0 col3\" >81.00</td>\n",
       "      <td id=\"T_a3b7b_row0_col4\" class=\"data row0 col4\" >RD07p</td>\n",
       "      <td id=\"T_a3b7b_row0_col5\" class=\"data row0 col5\" >800</td>\n",
       "      <td id=\"T_a3b7b_row0_col6\" class=\"data row0 col6\" >81.00</td>\n",
       "      <td id=\"T_a3b7b_row0_col7\" class=\"data row0 col7\" >0.00</td>\n",
       "      <td id=\"T_a3b7b_row0_col8\" class=\"data row0 col8\" >RD05pct</td>\n",
       "    </tr>\n",
       "  </tbody>\n",
       "</table>\n"
      ],
      "text/plain": [
       "<pandas.io.formats.style.Styler at 0x1d90ab47dc0>"
      ]
     },
     "execution_count": 59,
     "metadata": {},
     "output_type": "execute_result"
    }
   ],
   "source": [
    "qty_mask = (df_merge.qty_x != df_merge.qty_y)\n",
    "df_merge[qty_mask][cols].style.format(format_dict)"
   ]
  },
  {
   "cell_type": "code",
   "execution_count": 60,
   "metadata": {},
   "outputs": [
    {
     "name": "stdout",
     "output_type": "stream",
     "text": [
      "\n",
      "UPDATE stocks\n",
      "SET qty = 800\n",
      "WHERE name = 'KCE'\n",
      "\n"
     ]
    },
    {
     "data": {
      "text/plain": [
       "1"
      ]
     },
     "execution_count": 60,
     "metadata": {},
     "output_type": "execute_result"
    }
   ],
   "source": [
    "name = 'KCE'\n",
    "sqlUpd = \"\"\"\n",
    "UPDATE stocks\n",
    "SET qty = 800\n",
    "WHERE name = '%s'\n",
    "\"\"\"\n",
    "sqlUpd = sqlUpd % name\n",
    "print(sqlUpd)\n",
    "rp = conlite.execute(sqlUpd)\n",
    "rp.rowcount"
   ]
  },
  {
   "cell_type": "code",
   "execution_count": 61,
   "metadata": {},
   "outputs": [
    {
     "data": {
      "text/html": [
       "<style type=\"text/css\">\n",
       "</style>\n",
       "<table id=\"T_732f1_\">\n",
       "  <thead>\n",
       "    <tr>\n",
       "      <th class=\"blank level0\" >&nbsp;</th>\n",
       "      <th class=\"col_heading level0 col0\" >trade</th>\n",
       "      <th class=\"col_heading level0 col1\" >name</th>\n",
       "      <th class=\"col_heading level0 col2\" >qty_x</th>\n",
       "      <th class=\"col_heading level0 col3\" >price</th>\n",
       "      <th class=\"col_heading level0 col4\" >reason_x</th>\n",
       "      <th class=\"col_heading level0 col5\" >qty_y</th>\n",
       "      <th class=\"col_heading level0 col6\" >buy_target</th>\n",
       "      <th class=\"col_heading level0 col7\" >sell_target</th>\n",
       "      <th class=\"col_heading level0 col8\" >reason_y</th>\n",
       "    </tr>\n",
       "  </thead>\n",
       "  <tbody>\n",
       "  </tbody>\n",
       "</table>\n"
      ],
      "text/plain": [
       "<pandas.io.formats.style.Styler at 0x1d90a99a760>"
      ]
     },
     "execution_count": 61,
     "metadata": {},
     "output_type": "execute_result"
    }
   ],
   "source": [
    "buy_price_mask = (df_merge.price != df_merge.buy_target) & (df_merge.trade == 'B')\n",
    "df_merge[buy_price_mask][cols].style.format(format_dict)"
   ]
  },
  {
   "cell_type": "code",
   "execution_count": 67,
   "metadata": {},
   "outputs": [
    {
     "name": "stdout",
     "output_type": "stream",
     "text": [
      "\n",
      "UPDATE stocks\n",
      "SET buy_target = 21.3, sell_target = 23.4\n",
      "WHERE name = 'BCH'\n",
      "\n"
     ]
    },
    {
     "data": {
      "text/plain": [
       "1"
      ]
     },
     "execution_count": 67,
     "metadata": {},
     "output_type": "execute_result"
    }
   ],
   "source": [
    "name = 'BCH'\n",
    "sqlUpd = \"\"\"\n",
    "UPDATE stocks\n",
    "SET buy_target = 21.3, sell_target = 23.4\n",
    "WHERE name = '%s'\n",
    "\"\"\"\n",
    "sqlUpd = sqlUpd % name\n",
    "print(sqlUpd)\n",
    "rp = conlite.execute(sqlUpd)\n",
    "rp.rowcount"
   ]
  },
  {
   "cell_type": "code",
   "execution_count": 69,
   "metadata": {},
   "outputs": [
    {
     "data": {
      "text/html": [
       "<style type=\"text/css\">\n",
       "</style>\n",
       "<table id=\"T_65bd2_\">\n",
       "  <thead>\n",
       "    <tr>\n",
       "      <th class=\"blank level0\" >&nbsp;</th>\n",
       "      <th class=\"col_heading level0 col0\" >trade</th>\n",
       "      <th class=\"col_heading level0 col1\" >name</th>\n",
       "      <th class=\"col_heading level0 col2\" >qty_x</th>\n",
       "      <th class=\"col_heading level0 col3\" >price</th>\n",
       "      <th class=\"col_heading level0 col4\" >reason_x</th>\n",
       "      <th class=\"col_heading level0 col5\" >qty_y</th>\n",
       "      <th class=\"col_heading level0 col6\" >buy_target</th>\n",
       "      <th class=\"col_heading level0 col7\" >sell_target</th>\n",
       "      <th class=\"col_heading level0 col8\" >reason_y</th>\n",
       "    </tr>\n",
       "  </thead>\n",
       "  <tbody>\n",
       "    <tr>\n",
       "      <th id=\"T_65bd2_level0_row0\" class=\"row_heading level0 row0\" >15</th>\n",
       "      <td id=\"T_65bd2_row0_col0\" class=\"data row0 col0\" >S</td>\n",
       "      <td id=\"T_65bd2_row0_col1\" class=\"data row0 col1\" >GLOBAL</td>\n",
       "      <td id=\"T_65bd2_row0_col2\" class=\"data row0 col2\" >2,500</td>\n",
       "      <td id=\"T_65bd2_row0_col3\" class=\"data row0 col3\" >21.50</td>\n",
       "      <td id=\"T_65bd2_row0_col4\" class=\"data row0 col4\" >5%</td>\n",
       "      <td id=\"T_65bd2_row0_col5\" class=\"data row0 col5\" >2,500</td>\n",
       "      <td id=\"T_65bd2_row0_col6\" class=\"data row0 col6\" >19.00</td>\n",
       "      <td id=\"T_65bd2_row0_col7\" class=\"data row0 col7\" >21.00</td>\n",
       "      <td id=\"T_65bd2_row0_col8\" class=\"data row0 col8\" >5pct</td>\n",
       "    </tr>\n",
       "    <tr>\n",
       "      <th id=\"T_65bd2_level0_row1\" class=\"row_heading level0 row1\" >16</th>\n",
       "      <td id=\"T_65bd2_row1_col0\" class=\"data row1 col0\" >S</td>\n",
       "      <td id=\"T_65bd2_row1_col1\" class=\"data row1 col1\" >IMH</td>\n",
       "      <td id=\"T_65bd2_row1_col2\" class=\"data row1 col2\" >3,000</td>\n",
       "      <td id=\"T_65bd2_row1_col3\" class=\"data row1 col3\" >21.50</td>\n",
       "      <td id=\"T_65bd2_row1_col4\" class=\"data row1 col4\" >24H</td>\n",
       "      <td id=\"T_65bd2_row1_col5\" class=\"data row1 col5\" >3,000</td>\n",
       "      <td id=\"T_65bd2_row1_col6\" class=\"data row1 col6\" >0.00</td>\n",
       "      <td id=\"T_65bd2_row1_col7\" class=\"data row1 col7\" >20.70</td>\n",
       "      <td id=\"T_65bd2_row1_col8\" class=\"data row1 col8\" >15pct</td>\n",
       "    </tr>\n",
       "    <tr>\n",
       "      <th id=\"T_65bd2_level0_row2\" class=\"row_heading level0 row2\" >17</th>\n",
       "      <td id=\"T_65bd2_row2_col0\" class=\"data row2 col0\" >S</td>\n",
       "      <td id=\"T_65bd2_row2_col1\" class=\"data row2 col1\" >IP</td>\n",
       "      <td id=\"T_65bd2_row2_col2\" class=\"data row2 col2\" >3,500</td>\n",
       "      <td id=\"T_65bd2_row2_col3\" class=\"data row2 col3\" >20.20</td>\n",
       "      <td id=\"T_65bd2_row2_col4\" class=\"data row2 col4\" >15pct</td>\n",
       "      <td id=\"T_65bd2_row2_col5\" class=\"data row2 col5\" >3,500</td>\n",
       "      <td id=\"T_65bd2_row2_col6\" class=\"data row2 col6\" >19.20</td>\n",
       "      <td id=\"T_65bd2_row2_col7\" class=\"data row2 col7\" >23.20</td>\n",
       "      <td id=\"T_65bd2_row2_col8\" class=\"data row2 col8\" >15pct</td>\n",
       "    </tr>\n",
       "  </tbody>\n",
       "</table>\n"
      ],
      "text/plain": [
       "<pandas.io.formats.style.Styler at 0x1d90ab79c70>"
      ]
     },
     "execution_count": 69,
     "metadata": {},
     "output_type": "execute_result"
    }
   ],
   "source": [
    "sell_price_mask = (df_merge.price != df_merge.sell_target) & (df_merge.trade == 'S')\n",
    "df_merge[sell_price_mask][cols].style.format(format_dict)"
   ]
  },
  {
   "cell_type": "code",
   "execution_count": 70,
   "metadata": {},
   "outputs": [
    {
     "name": "stdout",
     "output_type": "stream",
     "text": [
      "\n",
      "UPDATE stocks\n",
      "SET sell_target = 23.4\n",
      "WHERE name = 'BCH'\n",
      "\n"
     ]
    },
    {
     "data": {
      "text/plain": [
       "1"
      ]
     },
     "execution_count": 70,
     "metadata": {},
     "output_type": "execute_result"
    }
   ],
   "source": [
    "name = 'BCH'\n",
    "sqlUpd = \"\"\"\n",
    "UPDATE stocks\n",
    "SET sell_target = 23.4\n",
    "WHERE name = '%s'\n",
    "\"\"\"\n",
    "sqlUpd = sqlUpd % name\n",
    "print(sqlUpd)\n",
    "rp = conlite.execute(sqlUpd)\n",
    "rp.rowcount"
   ]
  },
  {
   "cell_type": "code",
   "execution_count": 71,
   "metadata": {},
   "outputs": [
    {
     "data": {
      "text/html": [
       "<style type=\"text/css\">\n",
       "</style>\n",
       "<table id=\"T_a632b_\">\n",
       "  <thead>\n",
       "    <tr>\n",
       "      <th class=\"blank level0\" >&nbsp;</th>\n",
       "      <th class=\"col_heading level0 col0\" >trade</th>\n",
       "      <th class=\"col_heading level0 col1\" >name</th>\n",
       "      <th class=\"col_heading level0 col2\" >qty_x</th>\n",
       "      <th class=\"col_heading level0 col3\" >price</th>\n",
       "      <th class=\"col_heading level0 col4\" >reason_x</th>\n",
       "      <th class=\"col_heading level0 col5\" >qty_y</th>\n",
       "      <th class=\"col_heading level0 col6\" >buy_target</th>\n",
       "      <th class=\"col_heading level0 col7\" >sell_target</th>\n",
       "      <th class=\"col_heading level0 col8\" >reason_y</th>\n",
       "    </tr>\n",
       "  </thead>\n",
       "  <tbody>\n",
       "    <tr>\n",
       "      <th id=\"T_a632b_level0_row0\" class=\"row_heading level0 row0\" >1</th>\n",
       "      <td id=\"T_a632b_row0_col0\" class=\"data row0 col0\" >B</td>\n",
       "      <td id=\"T_a632b_row0_col1\" class=\"data row0 col1\" >KCE</td>\n",
       "      <td id=\"T_a632b_row0_col2\" class=\"data row0 col2\" >2,000</td>\n",
       "      <td id=\"T_a632b_row0_col3\" class=\"data row0 col3\" >81.00</td>\n",
       "      <td id=\"T_a632b_row0_col4\" class=\"data row0 col4\" >RD07p</td>\n",
       "      <td id=\"T_a632b_row0_col5\" class=\"data row0 col5\" >800</td>\n",
       "      <td id=\"T_a632b_row0_col6\" class=\"data row0 col6\" >81.00</td>\n",
       "      <td id=\"T_a632b_row0_col7\" class=\"data row0 col7\" >0.00</td>\n",
       "      <td id=\"T_a632b_row0_col8\" class=\"data row0 col8\" >RD05pct</td>\n",
       "    </tr>\n",
       "    <tr>\n",
       "      <th id=\"T_a632b_level0_row1\" class=\"row_heading level0 row1\" >5</th>\n",
       "      <td id=\"T_a632b_row1_col0\" class=\"data row1 col0\" >B</td>\n",
       "      <td id=\"T_a632b_row1_col1\" class=\"data row1 col1\" >RCL</td>\n",
       "      <td id=\"T_a632b_row1_col2\" class=\"data row1 col2\" >1,500</td>\n",
       "      <td id=\"T_a632b_row1_col3\" class=\"data row1 col3\" >50.00</td>\n",
       "      <td id=\"T_a632b_row1_col4\" class=\"data row1 col4\" >ROUND</td>\n",
       "      <td id=\"T_a632b_row1_col5\" class=\"data row1 col5\" >1,500</td>\n",
       "      <td id=\"T_a632b_row1_col6\" class=\"data row1 col6\" >50.00</td>\n",
       "      <td id=\"T_a632b_row1_col7\" class=\"data row1 col7\" >53.75</td>\n",
       "      <td id=\"T_a632b_row1_col8\" class=\"data row1 col8\" >25%</td>\n",
       "    </tr>\n",
       "    <tr>\n",
       "      <th id=\"T_a632b_level0_row2\" class=\"row_heading level0 row2\" >10</th>\n",
       "      <td id=\"T_a632b_row2_col0\" class=\"data row2 col0\" >B</td>\n",
       "      <td id=\"T_a632b_row2_col1\" class=\"data row2 col1\" >TSTH</td>\n",
       "      <td id=\"T_a632b_row2_col2\" class=\"data row2 col2\" >45,000</td>\n",
       "      <td id=\"T_a632b_row2_col3\" class=\"data row2 col3\" >1.42</td>\n",
       "      <td id=\"T_a632b_row2_col4\" class=\"data row2 col4\" >RD05pct</td>\n",
       "      <td id=\"T_a632b_row2_col5\" class=\"data row2 col5\" >45,000</td>\n",
       "      <td id=\"T_a632b_row2_col6\" class=\"data row2 col6\" >1.42</td>\n",
       "      <td id=\"T_a632b_row2_col7\" class=\"data row2 col7\" >1.72</td>\n",
       "      <td id=\"T_a632b_row2_col8\" class=\"data row2 col8\" >15pct</td>\n",
       "    </tr>\n",
       "    <tr>\n",
       "      <th id=\"T_a632b_level0_row3\" class=\"row_heading level0 row3\" >15</th>\n",
       "      <td id=\"T_a632b_row3_col0\" class=\"data row3 col0\" >S</td>\n",
       "      <td id=\"T_a632b_row3_col1\" class=\"data row3 col1\" >GLOBAL</td>\n",
       "      <td id=\"T_a632b_row3_col2\" class=\"data row3 col2\" >2,500</td>\n",
       "      <td id=\"T_a632b_row3_col3\" class=\"data row3 col3\" >21.50</td>\n",
       "      <td id=\"T_a632b_row3_col4\" class=\"data row3 col4\" >5%</td>\n",
       "      <td id=\"T_a632b_row3_col5\" class=\"data row3 col5\" >2,500</td>\n",
       "      <td id=\"T_a632b_row3_col6\" class=\"data row3 col6\" >19.00</td>\n",
       "      <td id=\"T_a632b_row3_col7\" class=\"data row3 col7\" >21.00</td>\n",
       "      <td id=\"T_a632b_row3_col8\" class=\"data row3 col8\" >5pct</td>\n",
       "    </tr>\n",
       "    <tr>\n",
       "      <th id=\"T_a632b_level0_row4\" class=\"row_heading level0 row4\" >16</th>\n",
       "      <td id=\"T_a632b_row4_col0\" class=\"data row4 col0\" >S</td>\n",
       "      <td id=\"T_a632b_row4_col1\" class=\"data row4 col1\" >IMH</td>\n",
       "      <td id=\"T_a632b_row4_col2\" class=\"data row4 col2\" >3,000</td>\n",
       "      <td id=\"T_a632b_row4_col3\" class=\"data row4 col3\" >21.50</td>\n",
       "      <td id=\"T_a632b_row4_col4\" class=\"data row4 col4\" >24H</td>\n",
       "      <td id=\"T_a632b_row4_col5\" class=\"data row4 col5\" >3,000</td>\n",
       "      <td id=\"T_a632b_row4_col6\" class=\"data row4 col6\" >0.00</td>\n",
       "      <td id=\"T_a632b_row4_col7\" class=\"data row4 col7\" >20.70</td>\n",
       "      <td id=\"T_a632b_row4_col8\" class=\"data row4 col8\" >15pct</td>\n",
       "    </tr>\n",
       "    <tr>\n",
       "      <th id=\"T_a632b_level0_row5\" class=\"row_heading level0 row5\" >18</th>\n",
       "      <td id=\"T_a632b_row5_col0\" class=\"data row5 col0\" >S</td>\n",
       "      <td id=\"T_a632b_row5_col1\" class=\"data row5 col1\" >IVL</td>\n",
       "      <td id=\"T_a632b_row5_col2\" class=\"data row5 col2\" >3,000</td>\n",
       "      <td id=\"T_a632b_row5_col3\" class=\"data row5 col3\" >50.50</td>\n",
       "      <td id=\"T_a632b_row5_col4\" class=\"data row5 col4\" >20%</td>\n",
       "      <td id=\"T_a632b_row5_col5\" class=\"data row5 col5\" >3,000</td>\n",
       "      <td id=\"T_a632b_row5_col6\" class=\"data row5 col6\" >0.00</td>\n",
       "      <td id=\"T_a632b_row5_col7\" class=\"data row5 col7\" >50.50</td>\n",
       "      <td id=\"T_a632b_row5_col8\" class=\"data row5 col8\" >20pct</td>\n",
       "    </tr>\n",
       "    <tr>\n",
       "      <th id=\"T_a632b_level0_row6\" class=\"row_heading level0 row6\" >23</th>\n",
       "      <td id=\"T_a632b_row6_col0\" class=\"data row6 col0\" >S</td>\n",
       "      <td id=\"T_a632b_row6_col1\" class=\"data row6 col1\" >SAT</td>\n",
       "      <td id=\"T_a632b_row6_col2\" class=\"data row6 col2\" >2,500</td>\n",
       "      <td id=\"T_a632b_row6_col3\" class=\"data row6 col3\" >25.25</td>\n",
       "      <td id=\"T_a632b_row6_col4\" class=\"data row6 col4\" >24H</td>\n",
       "      <td id=\"T_a632b_row6_col5\" class=\"data row6 col5\" >2,500</td>\n",
       "      <td id=\"T_a632b_row6_col6\" class=\"data row6 col6\" >0.00</td>\n",
       "      <td id=\"T_a632b_row6_col7\" class=\"data row6 col7\" >25.25</td>\n",
       "      <td id=\"T_a632b_row6_col8\" class=\"data row6 col8\" >15pct</td>\n",
       "    </tr>\n",
       "    <tr>\n",
       "      <th id=\"T_a632b_level0_row7\" class=\"row_heading level0 row7\" >25</th>\n",
       "      <td id=\"T_a632b_row7_col0\" class=\"data row7 col0\" >S</td>\n",
       "      <td id=\"T_a632b_row7_col1\" class=\"data row7 col1\" >SYNEX</td>\n",
       "      <td id=\"T_a632b_row7_col2\" class=\"data row7 col2\" >1,500</td>\n",
       "      <td id=\"T_a632b_row7_col3\" class=\"data row7 col3\" >37.00</td>\n",
       "      <td id=\"T_a632b_row7_col4\" class=\"data row7 col4\" >5%</td>\n",
       "      <td id=\"T_a632b_row7_col5\" class=\"data row7 col5\" >1,500</td>\n",
       "      <td id=\"T_a632b_row7_col6\" class=\"data row7 col6\" >31.50</td>\n",
       "      <td id=\"T_a632b_row7_col7\" class=\"data row7 col7\" >37.00</td>\n",
       "      <td id=\"T_a632b_row7_col8\" class=\"data row7 col8\" >12H</td>\n",
       "    </tr>\n",
       "    <tr>\n",
       "      <th id=\"T_a632b_level0_row8\" class=\"row_heading level0 row8\" >27</th>\n",
       "      <td id=\"T_a632b_row8_col0\" class=\"data row8 col0\" >S</td>\n",
       "      <td id=\"T_a632b_row8_col1\" class=\"data row8 col1\" >TU</td>\n",
       "      <td id=\"T_a632b_row8_col2\" class=\"data row8 col2\" >6,000</td>\n",
       "      <td id=\"T_a632b_row8_col3\" class=\"data row8 col3\" >21.80</td>\n",
       "      <td id=\"T_a632b_row8_col4\" class=\"data row8 col4\" >5%</td>\n",
       "      <td id=\"T_a632b_row8_col5\" class=\"data row8 col5\" >6,000</td>\n",
       "      <td id=\"T_a632b_row8_col6\" class=\"data row8 col6\" >0.00</td>\n",
       "      <td id=\"T_a632b_row8_col7\" class=\"data row8 col7\" >21.80</td>\n",
       "      <td id=\"T_a632b_row8_col8\" class=\"data row8 col8\" >5pct</td>\n",
       "    </tr>\n",
       "  </tbody>\n",
       "</table>\n"
      ],
      "text/plain": [
       "<pandas.io.formats.style.Styler at 0x1d90ab22d00>"
      ]
     },
     "execution_count": 71,
     "metadata": {},
     "output_type": "execute_result"
    }
   ],
   "source": [
    "reason_mask = (df_merge.reason_x != df_merge.reason_y)\n",
    "df_merge[reason_mask][cols].style.format(format_dict)"
   ]
  },
  {
   "cell_type": "code",
   "execution_count": 72,
   "metadata": {},
   "outputs": [
    {
     "name": "stdout",
     "output_type": "stream",
     "text": [
      "\n",
      "UPDATE stocks\n",
      "SET reason = '15pct'\n",
      "WHERE name = 'SAT'\n",
      "\n"
     ]
    },
    {
     "data": {
      "text/plain": [
       "1"
      ]
     },
     "execution_count": 72,
     "metadata": {},
     "output_type": "execute_result"
    }
   ],
   "source": [
    "name = 'SAT'\n",
    "sqlUpd = \"\"\"\n",
    "UPDATE stocks\n",
    "SET reason = '15pct'\n",
    "WHERE name = '%s'\n",
    "\"\"\"\n",
    "sqlUpd = sqlUpd % name\n",
    "print(sqlUpd)\n",
    "rp = conlite.execute(sqlUpd)\n",
    "rp.rowcount"
   ]
  },
  {
   "cell_type": "markdown",
   "metadata": {},
   "source": [
    "### End of Loop process"
   ]
  },
  {
   "cell_type": "code",
   "execution_count": 73,
   "metadata": {},
   "outputs": [],
   "source": [
    "file_name = 'orders.csv'\n",
    "data_file = data_path + file_name\n",
    "output_file = csv_path + file_name\n",
    "box_file = box_path + file_name\n",
    "data_file, output_file, box_file\n",
    "\n",
    "orders[colt].to_csv(output_file, header=True, index=False)\n",
    "orders[colt].to_csv(data_file,   header=True, index=False)\n",
    "orders[colt].to_csv(box_file,    header=True, index=False)"
   ]
  },
  {
   "cell_type": "markdown",
   "metadata": {},
   "source": [
    "### After call ord-log"
   ]
  },
  {
   "cell_type": "code",
   "execution_count": 74,
   "metadata": {},
   "outputs": [],
   "source": [
    "def categorise(row):  \n",
    "    if row['col0'] == 'B':\n",
    "        return 'Buy'\n",
    "    else:\n",
    "        return 'Sell'"
   ]
  },
  {
   "cell_type": "code",
   "execution_count": 75,
   "metadata": {},
   "outputs": [],
   "source": [
    "df = pd.read_csv('../data/orders-log.csv', header=None, prefix = 'col',usecols=[0,1,2,3,4,5,6,7,8,9])\n",
    "df.rename(columns = {'col1': 'name', 'col2': 'spd','col3': 'reason', 'col4': 'market','col5': 'qty', 'col6': 'target','col7': 'current', 'col8': 'chg', 'col9': 'percent'}, inplace = True)\n",
    "df['trans'] = df.apply(lambda row: categorise(row), axis=1)"
   ]
  },
  {
   "cell_type": "code",
   "execution_count": 76,
   "metadata": {
    "scrolled": false
   },
   "outputs": [
    {
     "data": {
      "text/html": [
       "<div><table id=\"9c8e3a9d-51ba-4b67-a6c5-3d1499d44999\" class=\"display\"><thead>\n",
       "    <tr style=\"text-align: right;\">\n",
       "      \n",
       "      <th>trans</th>\n",
       "      <th>name</th>\n",
       "      <th>spd</th>\n",
       "      <th>reason</th>\n",
       "      <th>qty</th>\n",
       "      <th>target</th>\n",
       "      <th>current</th>\n",
       "      <th>chg</th>\n",
       "      <th>percent</th>\n",
       "    </tr>\n",
       "  </thead></table>\n",
       "<script type=\"text/javascript\">\n",
       "require([\"datatables\"], function (datatables) {\n",
       "    $(document).ready(function () {\n",
       "        var dt_args = {\"columnDefs\": [{\"width\": \"70px\", \"targets\": \"_all\"}], \"data\": [[\"Sell\", \"name\", \"spd\", \"reason\", \"qty\", \"target\", \"current\", \"change\", \"percent\"], [\"Buy\", \"BGC\", \"-5\", \"DOS\", \"10000\", \"10.0\", \"10.50\", \"-0.10\", \"-0.94%\"], [\"Buy\", \"KCE\", \"-4\", \"RD07p\", \"2000\", \"81.0\", \"82.00\", \"-2.25\", \"-2.67%\"], [\"Buy\", \"NOBLE\", \"-10\", \"RD15%\", \"21000\", \"5.85\", \"6.35\", \"-0.05\", \"-0.78%\"], [\"Buy\", \"PTT\", \"-9\", \"RD05%\", \"3000\", \"36.5\", \"38.75\", \"-0.50\", \"-1.27%\"], [\"Buy\", \"RATCH\", \"-7\", \"RD05%\", \"3000\", \"42.75\", \"44.50\", \"-0.25\", \"-0.56%\"], [\"Buy\", \"RCL\", \"-2\", \"ROUND\", \"1500\", \"50.0\", \"50.50\", \"-2.75\", \"-5.16%\"], [\"Buy\", \"ROJNA\", \"-7\", \"6L\", \"18000\", \"6.3\", \"6.65\", \"0.00\", \"0.00%\"], [\"Buy\", \"STA\", \"-14\", \"RD15%\", \"2500\", \"28.0\", \"31.50\", \"-0.25\", \"-0.79%\"], [\"Buy\", \"TCAP\", \"-25\", \"1L\", \"6000\", \"35.0\", \"41.25\", \"+0.75\", \"+1.85%\"], [\"Buy\", \"TISCO\", \"-18\", \"CP1S\", \"2000\", \"94.5\", \"99.00\", \"+0.75\", \"+0.76%\"], [\"Buy\", \"TSTH\", \"-17\", \"RD05pct\", \"45000\", \"1.42\", \"1.59\", \"-0.01\", \"-0.62%\"], [\"Buy\", \"TVO\", \"-7\", \"DOS\", \"3600\", \"30.0\", \"31.75\", \"-0.25\", \"-0.78%\"], [\"Buy\", \"TYCN\", \"-11\", \"RD05pct\", \"8000\", \"3.44\", \"3.66\", \"-0.02\", \"-0.54%\"], [\"Sell\", \"BGRIM\", \"13\", \"5%\", \"3000\", \"42.0\", \"38.75\", \"-0.50\", \"-1.27%\"], [\"Sell\", \"EPG\", \"6\", \"15pct\", \"3000\", \"12.9\", \"12.30\", \"0.00\", \"0.00%\"], [\"Sell\", \"IMH\", \"17\", \"24H\", \"3000\", \"21.5\", \"19.80\", \"+0.10\", \"+0.51%\"], [\"Sell\", \"IP\", \"14\", \"15pct\", \"3500\", \"20.2\", \"18.80\", \"-0.20\", \"-1.05%\"], [\"Sell\", \"IVL\", \"8\", \"20%\", \"3000\", \"50.5\", \"48.50\", \"+0.50\", \"+1.04%\"], [\"Sell\", \"KBANK\", \"11\", \"10pct\", \"800\", \"150.5\", \"145.00\", \"0.00\", \"0.00%\"], [\"Sell\", \"LPF\", \"3\", \"DOS\", \"10000\", \"14.3\", \"14.00\", \"0.00\", \"0.00%\"], [\"Sell\", \"NER\", \"4\", \"5pct\", \"9000\", \"7.8\", \"7.60\", \"-0.05\", \"-0.65%\"], [\"Sell\", \"RJH\", \"13\", \"10pct\", \"1500\", \"36.25\", \"33.00\", \"-0.25\", \"-0.75%\"], [\"Sell\", \"SAT\", \"9\", \"24H\", \"2500\", \"25.25\", \"24.20\", \"-0.30\", \"-1.22%\"], [\"Sell\", \"SIS\", \"4\", \"15pct\", \"1500\", \"46.5\", \"45.50\", \"+2.00\", \"+4.60%\"], [\"Sell\", \"SYNEX\", \"12\", \"5%\", \"1500\", \"37.0\", \"34.00\", \"-3.00\", \"-8.11%\"], [\"Sell\", \"TOP\", \"11\", \"10pct\", \"3000\", \"55.0\", \"52.25\", \"0.00\", \"0.00%\"], [\"Sell\", \"TU\", \"16\", \"5%\", \"6000\", \"21.8\", \"20.20\", \"-0.10\", \"-0.49%\"], [\"Sell\", \"WHART\", \"6\", \"DOS\", \"10000\", \"12.8\", \"12.20\", \"+0.10\", \"+0.83%\"]]};\n",
       "        dt_args = eval_functions(dt_args);\n",
       "        table = $('#9c8e3a9d-51ba-4b67-a6c5-3d1499d44999').DataTable(dt_args);\n",
       "    });\n",
       "})\n",
       "</script>\n",
       "</div>\n"
      ],
      "text/plain": [
       "<IPython.core.display.HTML object>"
      ]
     },
     "metadata": {},
     "output_type": "display_data"
    }
   ],
   "source": [
    "from itables import show\n",
    "show(df[['trans','name','spd','reason','qty','target','current','chg','percent']])"
   ]
  },
  {
   "cell_type": "code",
   "execution_count": 89,
   "metadata": {},
   "outputs": [
    {
     "data": {
      "text/plain": [
       "0"
      ]
     },
     "execution_count": 89,
     "metadata": {},
     "output_type": "execute_result"
    }
   ],
   "source": [
    "sql = '''\n",
    "UPDATE stocks\n",
    "SET buy_target = 0\n",
    "WHERE buy_target IS NULL'''\n",
    "rp = conlite.execute(sql)\n",
    "rp.rowcount"
   ]
  },
  {
   "cell_type": "code",
   "execution_count": 90,
   "metadata": {},
   "outputs": [
    {
     "data": {
      "text/plain": [
       "0"
      ]
     },
     "execution_count": 90,
     "metadata": {},
     "output_type": "execute_result"
    }
   ],
   "source": [
    "sql = '''\n",
    "UPDATE stocks\n",
    "SET sell_target = 0\n",
    "WHERE sell_target IS NULL'''\n",
    "rp = conlite.execute(sql)\n",
    "rp.rowcount"
   ]
  },
  {
   "cell_type": "code",
   "execution_count": 91,
   "metadata": {},
   "outputs": [
    {
     "data": {
      "text/plain": [
       "0"
      ]
     },
     "execution_count": 91,
     "metadata": {},
     "output_type": "execute_result"
    }
   ],
   "source": [
    "sql = '''\n",
    "UPDATE stocks\n",
    "SET available_qty = 0\n",
    "WHERE available_qty IS NULL'''\n",
    "rp = conlite.execute(sql)\n",
    "rp.rowcount"
   ]
  },
  {
   "cell_type": "code",
   "execution_count": 92,
   "metadata": {},
   "outputs": [
    {
     "data": {
      "text/plain": [
       "0"
      ]
     },
     "execution_count": 92,
     "metadata": {},
     "output_type": "execute_result"
    }
   ],
   "source": [
    "sql = '''\n",
    "UPDATE stocks\n",
    "SET cost = 0\n",
    "WHERE cost IS NULL'''\n",
    "rp = conlite.execute(sql)\n",
    "rp.rowcount"
   ]
  },
  {
   "cell_type": "code",
   "execution_count": 93,
   "metadata": {},
   "outputs": [
    {
     "data": {
      "text/plain": [
       "0"
      ]
     },
     "execution_count": 93,
     "metadata": {},
     "output_type": "execute_result"
    }
   ],
   "source": [
    "sql = '''\n",
    "UPDATE stocks\n",
    "SET qty = 0\n",
    "WHERE qty IS NULL'''\n",
    "rp = conlite.execute(sql)\n",
    "rp.rowcount"
   ]
  },
  {
   "cell_type": "code",
   "execution_count": 94,
   "metadata": {},
   "outputs": [
    {
     "data": {
      "text/html": [
       "<style type=\"text/css\">\n",
       "</style>\n",
       "<table id=\"T_e4329_\">\n",
       "  <thead>\n",
       "    <tr>\n",
       "      <th class=\"blank level0\" >&nbsp;</th>\n",
       "      <th class=\"col_heading level0 col0\" >id</th>\n",
       "      <th class=\"col_heading level0 col1\" >name</th>\n",
       "      <th class=\"col_heading level0 col2\" >max_price</th>\n",
       "      <th class=\"col_heading level0 col3\" >min_price</th>\n",
       "      <th class=\"col_heading level0 col4\" >status</th>\n",
       "      <th class=\"col_heading level0 col5\" >buy_target</th>\n",
       "      <th class=\"col_heading level0 col6\" >sell_target</th>\n",
       "      <th class=\"col_heading level0 col7\" >volume</th>\n",
       "      <th class=\"col_heading level0 col8\" >beta</th>\n",
       "      <th class=\"col_heading level0 col9\" >cost</th>\n",
       "      <th class=\"col_heading level0 col10\" >qty</th>\n",
       "      <th class=\"col_heading level0 col11\" >buy_spread</th>\n",
       "      <th class=\"col_heading level0 col12\" >sell_spread</th>\n",
       "      <th class=\"col_heading level0 col13\" >available_qty</th>\n",
       "      <th class=\"col_heading level0 col14\" >bl</th>\n",
       "      <th class=\"col_heading level0 col15\" >sh</th>\n",
       "      <th class=\"col_heading level0 col16\" >reason</th>\n",
       "      <th class=\"col_heading level0 col17\" >market</th>\n",
       "    </tr>\n",
       "  </thead>\n",
       "  <tbody>\n",
       "    <tr>\n",
       "      <th id=\"T_e4329_level0_row0\" class=\"row_heading level0 row0\" >9</th>\n",
       "      <td id=\"T_e4329_row0_col0\" class=\"data row0 col0\" >529</td>\n",
       "      <td id=\"T_e4329_row0_col1\" class=\"data row0 col1\" >MEGA</td>\n",
       "      <td id=\"T_e4329_row0_col2\" class=\"data row0 col2\" >56.50</td>\n",
       "      <td id=\"T_e4329_row0_col3\" class=\"data row0 col3\" >32.25</td>\n",
       "      <td id=\"T_e4329_row0_col4\" class=\"data row0 col4\" >O</td>\n",
       "      <td id=\"T_e4329_row0_col5\" class=\"data row0 col5\" >0.00</td>\n",
       "      <td id=\"T_e4329_row0_col6\" class=\"data row0 col6\" >0.00</td>\n",
       "      <td id=\"T_e4329_row0_col7\" class=\"data row0 col7\" >258.60</td>\n",
       "      <td id=\"T_e4329_row0_col8\" class=\"data row0 col8\" >0.47</td>\n",
       "      <td id=\"T_e4329_row0_col9\" class=\"data row0 col9\" >0.000000</td>\n",
       "      <td id=\"T_e4329_row0_col10\" class=\"data row0 col10\" >0</td>\n",
       "      <td id=\"T_e4329_row0_col11\" class=\"data row0 col11\" >-11</td>\n",
       "      <td id=\"T_e4329_row0_col12\" class=\"data row0 col12\" >13</td>\n",
       "      <td id=\"T_e4329_row0_col13\" class=\"data row0 col13\" >0</td>\n",
       "      <td id=\"T_e4329_row0_col14\" class=\"data row0 col14\" >1</td>\n",
       "      <td id=\"T_e4329_row0_col15\" class=\"data row0 col15\" >0</td>\n",
       "      <td id=\"T_e4329_row0_col16\" class=\"data row0 col16\" >1L</td>\n",
       "      <td id=\"T_e4329_row0_col17\" class=\"data row0 col17\" >SET100</td>\n",
       "    </tr>\n",
       "    <tr>\n",
       "      <th id=\"T_e4329_level0_row1\" class=\"row_heading level0 row1\" >10</th>\n",
       "      <td id=\"T_e4329_row1_col0\" class=\"data row1 col0\" >547</td>\n",
       "      <td id=\"T_e4329_row1_col1\" class=\"data row1 col1\" >JMT</td>\n",
       "      <td id=\"T_e4329_row1_col2\" class=\"data row1 col2\" >70.75</td>\n",
       "      <td id=\"T_e4329_row1_col3\" class=\"data row1 col3\" >34.19</td>\n",
       "      <td id=\"T_e4329_row1_col4\" class=\"data row1 col4\" >O</td>\n",
       "      <td id=\"T_e4329_row1_col5\" class=\"data row1 col5\" >0.00</td>\n",
       "      <td id=\"T_e4329_row1_col6\" class=\"data row1 col6\" >0.00</td>\n",
       "      <td id=\"T_e4329_row1_col7\" class=\"data row1 col7\" >770.01</td>\n",
       "      <td id=\"T_e4329_row1_col8\" class=\"data row1 col8\" >1.17</td>\n",
       "      <td id=\"T_e4329_row1_col9\" class=\"data row1 col9\" >40.500000</td>\n",
       "      <td id=\"T_e4329_row1_col10\" class=\"data row1 col10\" >0</td>\n",
       "      <td id=\"T_e4329_row1_col11\" class=\"data row1 col11\" >-9</td>\n",
       "      <td id=\"T_e4329_row1_col12\" class=\"data row1 col12\" >14</td>\n",
       "      <td id=\"T_e4329_row1_col13\" class=\"data row1 col13\" >0</td>\n",
       "      <td id=\"T_e4329_row1_col14\" class=\"data row1 col14\" >1</td>\n",
       "      <td id=\"T_e4329_row1_col15\" class=\"data row1 col15\" >12</td>\n",
       "      <td id=\"T_e4329_row1_col16\" class=\"data row1 col16\" >3L</td>\n",
       "      <td id=\"T_e4329_row1_col17\" class=\"data row1 col17\" >SET100</td>\n",
       "    </tr>\n",
       "    <tr>\n",
       "      <th id=\"T_e4329_level0_row2\" class=\"row_heading level0 row2\" >14</th>\n",
       "      <td id=\"T_e4329_row2_col0\" class=\"data row2 col0\" >567</td>\n",
       "      <td id=\"T_e4329_row2_col1\" class=\"data row2 col1\" >TQM</td>\n",
       "      <td id=\"T_e4329_row2_col2\" class=\"data row2 col2\" >136.00</td>\n",
       "      <td id=\"T_e4329_row2_col3\" class=\"data row2 col3\" >92.50</td>\n",
       "      <td id=\"T_e4329_row2_col4\" class=\"data row2 col4\" >O</td>\n",
       "      <td id=\"T_e4329_row2_col5\" class=\"data row2 col5\" >0.00</td>\n",
       "      <td id=\"T_e4329_row2_col6\" class=\"data row2 col6\" >0.00</td>\n",
       "      <td id=\"T_e4329_row2_col7\" class=\"data row2 col7\" >131.85</td>\n",
       "      <td id=\"T_e4329_row2_col8\" class=\"data row2 col8\" >0.56</td>\n",
       "      <td id=\"T_e4329_row2_col9\" class=\"data row2 col9\" >112.000000</td>\n",
       "      <td id=\"T_e4329_row2_col10\" class=\"data row2 col10\" >0</td>\n",
       "      <td id=\"T_e4329_row2_col11\" class=\"data row2 col11\" >-28</td>\n",
       "      <td id=\"T_e4329_row2_col12\" class=\"data row2 col12\" >29</td>\n",
       "      <td id=\"T_e4329_row2_col13\" class=\"data row2 col13\" >0</td>\n",
       "      <td id=\"T_e4329_row2_col14\" class=\"data row2 col14\" >6</td>\n",
       "      <td id=\"T_e4329_row2_col15\" class=\"data row2 col15\" >1</td>\n",
       "      <td id=\"T_e4329_row2_col16\" class=\"data row2 col16\" >3L</td>\n",
       "      <td id=\"T_e4329_row2_col17\" class=\"data row2 col17\" >SET100</td>\n",
       "    </tr>\n",
       "    <tr>\n",
       "      <th id=\"T_e4329_level0_row3\" class=\"row_heading level0 row3\" >31</th>\n",
       "      <td id=\"T_e4329_row3_col0\" class=\"data row3 col0\" >650</td>\n",
       "      <td id=\"T_e4329_row3_col1\" class=\"data row3 col1\" >STARK</td>\n",
       "      <td id=\"T_e4329_row3_col2\" class=\"data row3 col2\" >5.45</td>\n",
       "      <td id=\"T_e4329_row3_col3\" class=\"data row3 col3\" >3.68</td>\n",
       "      <td id=\"T_e4329_row3_col4\" class=\"data row3 col4\" >O</td>\n",
       "      <td id=\"T_e4329_row3_col5\" class=\"data row3 col5\" >0.00</td>\n",
       "      <td id=\"T_e4329_row3_col6\" class=\"data row3 col6\" >0.00</td>\n",
       "      <td id=\"T_e4329_row3_col7\" class=\"data row3 col7\" >267.73</td>\n",
       "      <td id=\"T_e4329_row3_col8\" class=\"data row3 col8\" >0.68</td>\n",
       "      <td id=\"T_e4329_row3_col9\" class=\"data row3 col9\" >0.000000</td>\n",
       "      <td id=\"T_e4329_row3_col10\" class=\"data row3 col10\" >0</td>\n",
       "      <td id=\"T_e4329_row3_col11\" class=\"data row3 col11\" >-7</td>\n",
       "      <td id=\"T_e4329_row3_col12\" class=\"data row3 col12\" >8</td>\n",
       "      <td id=\"T_e4329_row3_col13\" class=\"data row3 col13\" >0</td>\n",
       "      <td id=\"T_e4329_row3_col14\" class=\"data row3 col14\" >0</td>\n",
       "      <td id=\"T_e4329_row3_col15\" class=\"data row3 col15\" >0</td>\n",
       "      <td id=\"T_e4329_row3_col16\" class=\"data row3 col16\" >6L</td>\n",
       "      <td id=\"T_e4329_row3_col17\" class=\"data row3 col17\" >SET</td>\n",
       "    </tr>\n",
       "    <tr>\n",
       "      <th id=\"T_e4329_level0_row4\" class=\"row_heading level0 row4\" >35</th>\n",
       "      <td id=\"T_e4329_row4_col0\" class=\"data row4 col0\" >666</td>\n",
       "      <td id=\"T_e4329_row4_col1\" class=\"data row4 col1\" >BLA</td>\n",
       "      <td id=\"T_e4329_row4_col2\" class=\"data row4 col2\" >44.25</td>\n",
       "      <td id=\"T_e4329_row4_col3\" class=\"data row4 col3\" >23.00</td>\n",
       "      <td id=\"T_e4329_row4_col4\" class=\"data row4 col4\" >O</td>\n",
       "      <td id=\"T_e4329_row4_col5\" class=\"data row4 col5\" >0.00</td>\n",
       "      <td id=\"T_e4329_row4_col6\" class=\"data row4 col6\" >0.00</td>\n",
       "      <td id=\"T_e4329_row4_col7\" class=\"data row4 col7\" >594.49</td>\n",
       "      <td id=\"T_e4329_row4_col8\" class=\"data row4 col8\" >0.59</td>\n",
       "      <td id=\"T_e4329_row4_col9\" class=\"data row4 col9\" >0.000000</td>\n",
       "      <td id=\"T_e4329_row4_col10\" class=\"data row4 col10\" >0</td>\n",
       "      <td id=\"T_e4329_row4_col11\" class=\"data row4 col11\" >-9</td>\n",
       "      <td id=\"T_e4329_row4_col12\" class=\"data row4 col12\" >12</td>\n",
       "      <td id=\"T_e4329_row4_col13\" class=\"data row4 col13\" >0</td>\n",
       "      <td id=\"T_e4329_row4_col14\" class=\"data row4 col14\" >0</td>\n",
       "      <td id=\"T_e4329_row4_col15\" class=\"data row4 col15\" >0</td>\n",
       "      <td id=\"T_e4329_row4_col16\" class=\"data row4 col16\" >6L</td>\n",
       "      <td id=\"T_e4329_row4_col17\" class=\"data row4 col17\" >SET</td>\n",
       "    </tr>\n",
       "    <tr>\n",
       "      <th id=\"T_e4329_level0_row5\" class=\"row_heading level0 row5\" >40</th>\n",
       "      <td id=\"T_e4329_row5_col0\" class=\"data row5 col0\" >674</td>\n",
       "      <td id=\"T_e4329_row5_col1\" class=\"data row5 col1\" >TSE</td>\n",
       "      <td id=\"T_e4329_row5_col2\" class=\"data row5 col2\" >3.70</td>\n",
       "      <td id=\"T_e4329_row5_col3\" class=\"data row5 col3\" >2.34</td>\n",
       "      <td id=\"T_e4329_row5_col4\" class=\"data row5 col4\" >O</td>\n",
       "      <td id=\"T_e4329_row5_col5\" class=\"data row5 col5\" >0.00</td>\n",
       "      <td id=\"T_e4329_row5_col6\" class=\"data row5 col6\" >0.00</td>\n",
       "      <td id=\"T_e4329_row5_col7\" class=\"data row5 col7\" >17.47</td>\n",
       "      <td id=\"T_e4329_row5_col8\" class=\"data row5 col8\" >0.71</td>\n",
       "      <td id=\"T_e4329_row5_col9\" class=\"data row5 col9\" >0.000000</td>\n",
       "      <td id=\"T_e4329_row5_col10\" class=\"data row5 col10\" >0</td>\n",
       "      <td id=\"T_e4329_row5_col11\" class=\"data row5 col11\" >-6</td>\n",
       "      <td id=\"T_e4329_row5_col12\" class=\"data row5 col12\" >7</td>\n",
       "      <td id=\"T_e4329_row5_col13\" class=\"data row5 col13\" >0</td>\n",
       "      <td id=\"T_e4329_row5_col14\" class=\"data row5 col14\" >0</td>\n",
       "      <td id=\"T_e4329_row5_col15\" class=\"data row5 col15\" >0</td>\n",
       "      <td id=\"T_e4329_row5_col16\" class=\"data row5 col16\" >6L</td>\n",
       "      <td id=\"T_e4329_row5_col17\" class=\"data row5 col17\" >SET</td>\n",
       "    </tr>\n",
       "    <tr>\n",
       "      <th id=\"T_e4329_level0_row6\" class=\"row_heading level0 row6\" >52</th>\n",
       "      <td id=\"T_e4329_row6_col0\" class=\"data row6 col0\" >692</td>\n",
       "      <td id=\"T_e4329_row6_col1\" class=\"data row6 col1\" >AEONTS</td>\n",
       "      <td id=\"T_e4329_row6_col2\" class=\"data row6 col2\" >0.00</td>\n",
       "      <td id=\"T_e4329_row6_col3\" class=\"data row6 col3\" >0.00</td>\n",
       "      <td id=\"T_e4329_row6_col4\" class=\"data row6 col4\" >O</td>\n",
       "      <td id=\"T_e4329_row6_col5\" class=\"data row6 col5\" >0.00</td>\n",
       "      <td id=\"T_e4329_row6_col6\" class=\"data row6 col6\" >0.00</td>\n",
       "      <td id=\"T_e4329_row6_col7\" class=\"data row6 col7\" >0.00</td>\n",
       "      <td id=\"T_e4329_row6_col8\" class=\"data row6 col8\" >0.00</td>\n",
       "      <td id=\"T_e4329_row6_col9\" class=\"data row6 col9\" >0.000000</td>\n",
       "      <td id=\"T_e4329_row6_col10\" class=\"data row6 col10\" >0</td>\n",
       "      <td id=\"T_e4329_row6_col11\" class=\"data row6 col11\" >-4</td>\n",
       "      <td id=\"T_e4329_row6_col12\" class=\"data row6 col12\" >4</td>\n",
       "      <td id=\"T_e4329_row6_col13\" class=\"data row6 col13\" >0</td>\n",
       "      <td id=\"T_e4329_row6_col14\" class=\"data row6 col14\" >0</td>\n",
       "      <td id=\"T_e4329_row6_col15\" class=\"data row6 col15\" >0</td>\n",
       "      <td id=\"T_e4329_row6_col16\" class=\"data row6 col16\" ></td>\n",
       "      <td id=\"T_e4329_row6_col17\" class=\"data row6 col17\" ></td>\n",
       "    </tr>\n",
       "    <tr>\n",
       "      <th id=\"T_e4329_level0_row7\" class=\"row_heading level0 row7\" >53</th>\n",
       "      <td id=\"T_e4329_row7_col0\" class=\"data row7 col0\" >693</td>\n",
       "      <td id=\"T_e4329_row7_col1\" class=\"data row7 col1\" >SMT</td>\n",
       "      <td id=\"T_e4329_row7_col2\" class=\"data row7 col2\" >0.00</td>\n",
       "      <td id=\"T_e4329_row7_col3\" class=\"data row7 col3\" >0.00</td>\n",
       "      <td id=\"T_e4329_row7_col4\" class=\"data row7 col4\" >O</td>\n",
       "      <td id=\"T_e4329_row7_col5\" class=\"data row7 col5\" >0.00</td>\n",
       "      <td id=\"T_e4329_row7_col6\" class=\"data row7 col6\" >0.00</td>\n",
       "      <td id=\"T_e4329_row7_col7\" class=\"data row7 col7\" >0.00</td>\n",
       "      <td id=\"T_e4329_row7_col8\" class=\"data row7 col8\" >0.00</td>\n",
       "      <td id=\"T_e4329_row7_col9\" class=\"data row7 col9\" >0.000000</td>\n",
       "      <td id=\"T_e4329_row7_col10\" class=\"data row7 col10\" >0</td>\n",
       "      <td id=\"T_e4329_row7_col11\" class=\"data row7 col11\" >-4</td>\n",
       "      <td id=\"T_e4329_row7_col12\" class=\"data row7 col12\" >4</td>\n",
       "      <td id=\"T_e4329_row7_col13\" class=\"data row7 col13\" >0</td>\n",
       "      <td id=\"T_e4329_row7_col14\" class=\"data row7 col14\" >0</td>\n",
       "      <td id=\"T_e4329_row7_col15\" class=\"data row7 col15\" >0</td>\n",
       "      <td id=\"T_e4329_row7_col16\" class=\"data row7 col16\" ></td>\n",
       "      <td id=\"T_e4329_row7_col17\" class=\"data row7 col17\" >SET</td>\n",
       "    </tr>\n",
       "  </tbody>\n",
       "</table>\n"
      ],
      "text/plain": [
       "<pandas.io.formats.style.Styler at 0x1d90ab92280>"
      ]
     },
     "execution_count": 94,
     "metadata": {},
     "output_type": "execute_result"
    }
   ],
   "source": [
    "qty_mask = (stocks.qty == 0) & (stocks.status.isin(['B','I','O','S']))\n",
    "stocks[qty_mask].style.format(format_dict)"
   ]
  },
  {
   "cell_type": "code",
   "execution_count": 95,
   "metadata": {},
   "outputs": [
    {
     "data": {
      "text/html": [
       "<style type=\"text/css\">\n",
       "</style>\n",
       "<table id=\"T_78d9c_\">\n",
       "  <thead>\n",
       "    <tr>\n",
       "      <th class=\"blank level0\" >&nbsp;</th>\n",
       "      <th class=\"col_heading level0 col0\" >id</th>\n",
       "      <th class=\"col_heading level0 col1\" >name</th>\n",
       "      <th class=\"col_heading level0 col2\" >max_price</th>\n",
       "      <th class=\"col_heading level0 col3\" >min_price</th>\n",
       "      <th class=\"col_heading level0 col4\" >status</th>\n",
       "      <th class=\"col_heading level0 col5\" >buy_target</th>\n",
       "      <th class=\"col_heading level0 col6\" >sell_target</th>\n",
       "      <th class=\"col_heading level0 col7\" >volume</th>\n",
       "      <th class=\"col_heading level0 col8\" >beta</th>\n",
       "      <th class=\"col_heading level0 col9\" >cost</th>\n",
       "      <th class=\"col_heading level0 col10\" >qty</th>\n",
       "      <th class=\"col_heading level0 col11\" >buy_spread</th>\n",
       "      <th class=\"col_heading level0 col12\" >sell_spread</th>\n",
       "      <th class=\"col_heading level0 col13\" >available_qty</th>\n",
       "      <th class=\"col_heading level0 col14\" >bl</th>\n",
       "      <th class=\"col_heading level0 col15\" >sh</th>\n",
       "      <th class=\"col_heading level0 col16\" >reason</th>\n",
       "      <th class=\"col_heading level0 col17\" >market</th>\n",
       "    </tr>\n",
       "  </thead>\n",
       "  <tbody>\n",
       "    <tr>\n",
       "      <th id=\"T_78d9c_level0_row0\" class=\"row_heading level0 row0\" >9</th>\n",
       "      <td id=\"T_78d9c_row0_col0\" class=\"data row0 col0\" >529</td>\n",
       "      <td id=\"T_78d9c_row0_col1\" class=\"data row0 col1\" >MEGA</td>\n",
       "      <td id=\"T_78d9c_row0_col2\" class=\"data row0 col2\" >56.50</td>\n",
       "      <td id=\"T_78d9c_row0_col3\" class=\"data row0 col3\" >32.25</td>\n",
       "      <td id=\"T_78d9c_row0_col4\" class=\"data row0 col4\" >O</td>\n",
       "      <td id=\"T_78d9c_row0_col5\" class=\"data row0 col5\" >0.00</td>\n",
       "      <td id=\"T_78d9c_row0_col6\" class=\"data row0 col6\" >0.00</td>\n",
       "      <td id=\"T_78d9c_row0_col7\" class=\"data row0 col7\" >258.60</td>\n",
       "      <td id=\"T_78d9c_row0_col8\" class=\"data row0 col8\" >0.47</td>\n",
       "      <td id=\"T_78d9c_row0_col9\" class=\"data row0 col9\" >0.000000</td>\n",
       "      <td id=\"T_78d9c_row0_col10\" class=\"data row0 col10\" >0</td>\n",
       "      <td id=\"T_78d9c_row0_col11\" class=\"data row0 col11\" >-11</td>\n",
       "      <td id=\"T_78d9c_row0_col12\" class=\"data row0 col12\" >13</td>\n",
       "      <td id=\"T_78d9c_row0_col13\" class=\"data row0 col13\" >0</td>\n",
       "      <td id=\"T_78d9c_row0_col14\" class=\"data row0 col14\" >1</td>\n",
       "      <td id=\"T_78d9c_row0_col15\" class=\"data row0 col15\" >0</td>\n",
       "      <td id=\"T_78d9c_row0_col16\" class=\"data row0 col16\" >1L</td>\n",
       "      <td id=\"T_78d9c_row0_col17\" class=\"data row0 col17\" >SET100</td>\n",
       "    </tr>\n",
       "    <tr>\n",
       "      <th id=\"T_78d9c_level0_row1\" class=\"row_heading level0 row1\" >10</th>\n",
       "      <td id=\"T_78d9c_row1_col0\" class=\"data row1 col0\" >547</td>\n",
       "      <td id=\"T_78d9c_row1_col1\" class=\"data row1 col1\" >JMT</td>\n",
       "      <td id=\"T_78d9c_row1_col2\" class=\"data row1 col2\" >70.75</td>\n",
       "      <td id=\"T_78d9c_row1_col3\" class=\"data row1 col3\" >34.19</td>\n",
       "      <td id=\"T_78d9c_row1_col4\" class=\"data row1 col4\" >O</td>\n",
       "      <td id=\"T_78d9c_row1_col5\" class=\"data row1 col5\" >0.00</td>\n",
       "      <td id=\"T_78d9c_row1_col6\" class=\"data row1 col6\" >0.00</td>\n",
       "      <td id=\"T_78d9c_row1_col7\" class=\"data row1 col7\" >770.01</td>\n",
       "      <td id=\"T_78d9c_row1_col8\" class=\"data row1 col8\" >1.17</td>\n",
       "      <td id=\"T_78d9c_row1_col9\" class=\"data row1 col9\" >40.500000</td>\n",
       "      <td id=\"T_78d9c_row1_col10\" class=\"data row1 col10\" >0</td>\n",
       "      <td id=\"T_78d9c_row1_col11\" class=\"data row1 col11\" >-9</td>\n",
       "      <td id=\"T_78d9c_row1_col12\" class=\"data row1 col12\" >14</td>\n",
       "      <td id=\"T_78d9c_row1_col13\" class=\"data row1 col13\" >0</td>\n",
       "      <td id=\"T_78d9c_row1_col14\" class=\"data row1 col14\" >1</td>\n",
       "      <td id=\"T_78d9c_row1_col15\" class=\"data row1 col15\" >12</td>\n",
       "      <td id=\"T_78d9c_row1_col16\" class=\"data row1 col16\" >3L</td>\n",
       "      <td id=\"T_78d9c_row1_col17\" class=\"data row1 col17\" >SET100</td>\n",
       "    </tr>\n",
       "    <tr>\n",
       "      <th id=\"T_78d9c_level0_row2\" class=\"row_heading level0 row2\" >14</th>\n",
       "      <td id=\"T_78d9c_row2_col0\" class=\"data row2 col0\" >567</td>\n",
       "      <td id=\"T_78d9c_row2_col1\" class=\"data row2 col1\" >TQM</td>\n",
       "      <td id=\"T_78d9c_row2_col2\" class=\"data row2 col2\" >136.00</td>\n",
       "      <td id=\"T_78d9c_row2_col3\" class=\"data row2 col3\" >92.50</td>\n",
       "      <td id=\"T_78d9c_row2_col4\" class=\"data row2 col4\" >O</td>\n",
       "      <td id=\"T_78d9c_row2_col5\" class=\"data row2 col5\" >0.00</td>\n",
       "      <td id=\"T_78d9c_row2_col6\" class=\"data row2 col6\" >0.00</td>\n",
       "      <td id=\"T_78d9c_row2_col7\" class=\"data row2 col7\" >131.85</td>\n",
       "      <td id=\"T_78d9c_row2_col8\" class=\"data row2 col8\" >0.56</td>\n",
       "      <td id=\"T_78d9c_row2_col9\" class=\"data row2 col9\" >112.000000</td>\n",
       "      <td id=\"T_78d9c_row2_col10\" class=\"data row2 col10\" >0</td>\n",
       "      <td id=\"T_78d9c_row2_col11\" class=\"data row2 col11\" >-28</td>\n",
       "      <td id=\"T_78d9c_row2_col12\" class=\"data row2 col12\" >29</td>\n",
       "      <td id=\"T_78d9c_row2_col13\" class=\"data row2 col13\" >0</td>\n",
       "      <td id=\"T_78d9c_row2_col14\" class=\"data row2 col14\" >6</td>\n",
       "      <td id=\"T_78d9c_row2_col15\" class=\"data row2 col15\" >1</td>\n",
       "      <td id=\"T_78d9c_row2_col16\" class=\"data row2 col16\" >3L</td>\n",
       "      <td id=\"T_78d9c_row2_col17\" class=\"data row2 col17\" >SET100</td>\n",
       "    </tr>\n",
       "    <tr>\n",
       "      <th id=\"T_78d9c_level0_row3\" class=\"row_heading level0 row3\" >31</th>\n",
       "      <td id=\"T_78d9c_row3_col0\" class=\"data row3 col0\" >650</td>\n",
       "      <td id=\"T_78d9c_row3_col1\" class=\"data row3 col1\" >STARK</td>\n",
       "      <td id=\"T_78d9c_row3_col2\" class=\"data row3 col2\" >5.45</td>\n",
       "      <td id=\"T_78d9c_row3_col3\" class=\"data row3 col3\" >3.68</td>\n",
       "      <td id=\"T_78d9c_row3_col4\" class=\"data row3 col4\" >O</td>\n",
       "      <td id=\"T_78d9c_row3_col5\" class=\"data row3 col5\" >0.00</td>\n",
       "      <td id=\"T_78d9c_row3_col6\" class=\"data row3 col6\" >0.00</td>\n",
       "      <td id=\"T_78d9c_row3_col7\" class=\"data row3 col7\" >267.73</td>\n",
       "      <td id=\"T_78d9c_row3_col8\" class=\"data row3 col8\" >0.68</td>\n",
       "      <td id=\"T_78d9c_row3_col9\" class=\"data row3 col9\" >0.000000</td>\n",
       "      <td id=\"T_78d9c_row3_col10\" class=\"data row3 col10\" >0</td>\n",
       "      <td id=\"T_78d9c_row3_col11\" class=\"data row3 col11\" >-7</td>\n",
       "      <td id=\"T_78d9c_row3_col12\" class=\"data row3 col12\" >8</td>\n",
       "      <td id=\"T_78d9c_row3_col13\" class=\"data row3 col13\" >0</td>\n",
       "      <td id=\"T_78d9c_row3_col14\" class=\"data row3 col14\" >0</td>\n",
       "      <td id=\"T_78d9c_row3_col15\" class=\"data row3 col15\" >0</td>\n",
       "      <td id=\"T_78d9c_row3_col16\" class=\"data row3 col16\" >6L</td>\n",
       "      <td id=\"T_78d9c_row3_col17\" class=\"data row3 col17\" >SET</td>\n",
       "    </tr>\n",
       "    <tr>\n",
       "      <th id=\"T_78d9c_level0_row4\" class=\"row_heading level0 row4\" >35</th>\n",
       "      <td id=\"T_78d9c_row4_col0\" class=\"data row4 col0\" >666</td>\n",
       "      <td id=\"T_78d9c_row4_col1\" class=\"data row4 col1\" >BLA</td>\n",
       "      <td id=\"T_78d9c_row4_col2\" class=\"data row4 col2\" >44.25</td>\n",
       "      <td id=\"T_78d9c_row4_col3\" class=\"data row4 col3\" >23.00</td>\n",
       "      <td id=\"T_78d9c_row4_col4\" class=\"data row4 col4\" >O</td>\n",
       "      <td id=\"T_78d9c_row4_col5\" class=\"data row4 col5\" >0.00</td>\n",
       "      <td id=\"T_78d9c_row4_col6\" class=\"data row4 col6\" >0.00</td>\n",
       "      <td id=\"T_78d9c_row4_col7\" class=\"data row4 col7\" >594.49</td>\n",
       "      <td id=\"T_78d9c_row4_col8\" class=\"data row4 col8\" >0.59</td>\n",
       "      <td id=\"T_78d9c_row4_col9\" class=\"data row4 col9\" >0.000000</td>\n",
       "      <td id=\"T_78d9c_row4_col10\" class=\"data row4 col10\" >0</td>\n",
       "      <td id=\"T_78d9c_row4_col11\" class=\"data row4 col11\" >-9</td>\n",
       "      <td id=\"T_78d9c_row4_col12\" class=\"data row4 col12\" >12</td>\n",
       "      <td id=\"T_78d9c_row4_col13\" class=\"data row4 col13\" >0</td>\n",
       "      <td id=\"T_78d9c_row4_col14\" class=\"data row4 col14\" >0</td>\n",
       "      <td id=\"T_78d9c_row4_col15\" class=\"data row4 col15\" >0</td>\n",
       "      <td id=\"T_78d9c_row4_col16\" class=\"data row4 col16\" >6L</td>\n",
       "      <td id=\"T_78d9c_row4_col17\" class=\"data row4 col17\" >SET</td>\n",
       "    </tr>\n",
       "    <tr>\n",
       "      <th id=\"T_78d9c_level0_row5\" class=\"row_heading level0 row5\" >40</th>\n",
       "      <td id=\"T_78d9c_row5_col0\" class=\"data row5 col0\" >674</td>\n",
       "      <td id=\"T_78d9c_row5_col1\" class=\"data row5 col1\" >TSE</td>\n",
       "      <td id=\"T_78d9c_row5_col2\" class=\"data row5 col2\" >3.70</td>\n",
       "      <td id=\"T_78d9c_row5_col3\" class=\"data row5 col3\" >2.34</td>\n",
       "      <td id=\"T_78d9c_row5_col4\" class=\"data row5 col4\" >O</td>\n",
       "      <td id=\"T_78d9c_row5_col5\" class=\"data row5 col5\" >0.00</td>\n",
       "      <td id=\"T_78d9c_row5_col6\" class=\"data row5 col6\" >0.00</td>\n",
       "      <td id=\"T_78d9c_row5_col7\" class=\"data row5 col7\" >17.47</td>\n",
       "      <td id=\"T_78d9c_row5_col8\" class=\"data row5 col8\" >0.71</td>\n",
       "      <td id=\"T_78d9c_row5_col9\" class=\"data row5 col9\" >0.000000</td>\n",
       "      <td id=\"T_78d9c_row5_col10\" class=\"data row5 col10\" >0</td>\n",
       "      <td id=\"T_78d9c_row5_col11\" class=\"data row5 col11\" >-6</td>\n",
       "      <td id=\"T_78d9c_row5_col12\" class=\"data row5 col12\" >7</td>\n",
       "      <td id=\"T_78d9c_row5_col13\" class=\"data row5 col13\" >0</td>\n",
       "      <td id=\"T_78d9c_row5_col14\" class=\"data row5 col14\" >0</td>\n",
       "      <td id=\"T_78d9c_row5_col15\" class=\"data row5 col15\" >0</td>\n",
       "      <td id=\"T_78d9c_row5_col16\" class=\"data row5 col16\" >6L</td>\n",
       "      <td id=\"T_78d9c_row5_col17\" class=\"data row5 col17\" >SET</td>\n",
       "    </tr>\n",
       "    <tr>\n",
       "      <th id=\"T_78d9c_level0_row6\" class=\"row_heading level0 row6\" >52</th>\n",
       "      <td id=\"T_78d9c_row6_col0\" class=\"data row6 col0\" >692</td>\n",
       "      <td id=\"T_78d9c_row6_col1\" class=\"data row6 col1\" >AEONTS</td>\n",
       "      <td id=\"T_78d9c_row6_col2\" class=\"data row6 col2\" >0.00</td>\n",
       "      <td id=\"T_78d9c_row6_col3\" class=\"data row6 col3\" >0.00</td>\n",
       "      <td id=\"T_78d9c_row6_col4\" class=\"data row6 col4\" >O</td>\n",
       "      <td id=\"T_78d9c_row6_col5\" class=\"data row6 col5\" >0.00</td>\n",
       "      <td id=\"T_78d9c_row6_col6\" class=\"data row6 col6\" >0.00</td>\n",
       "      <td id=\"T_78d9c_row6_col7\" class=\"data row6 col7\" >0.00</td>\n",
       "      <td id=\"T_78d9c_row6_col8\" class=\"data row6 col8\" >0.00</td>\n",
       "      <td id=\"T_78d9c_row6_col9\" class=\"data row6 col9\" >0.000000</td>\n",
       "      <td id=\"T_78d9c_row6_col10\" class=\"data row6 col10\" >0</td>\n",
       "      <td id=\"T_78d9c_row6_col11\" class=\"data row6 col11\" >-4</td>\n",
       "      <td id=\"T_78d9c_row6_col12\" class=\"data row6 col12\" >4</td>\n",
       "      <td id=\"T_78d9c_row6_col13\" class=\"data row6 col13\" >0</td>\n",
       "      <td id=\"T_78d9c_row6_col14\" class=\"data row6 col14\" >0</td>\n",
       "      <td id=\"T_78d9c_row6_col15\" class=\"data row6 col15\" >0</td>\n",
       "      <td id=\"T_78d9c_row6_col16\" class=\"data row6 col16\" ></td>\n",
       "      <td id=\"T_78d9c_row6_col17\" class=\"data row6 col17\" ></td>\n",
       "    </tr>\n",
       "    <tr>\n",
       "      <th id=\"T_78d9c_level0_row7\" class=\"row_heading level0 row7\" >53</th>\n",
       "      <td id=\"T_78d9c_row7_col0\" class=\"data row7 col0\" >693</td>\n",
       "      <td id=\"T_78d9c_row7_col1\" class=\"data row7 col1\" >SMT</td>\n",
       "      <td id=\"T_78d9c_row7_col2\" class=\"data row7 col2\" >0.00</td>\n",
       "      <td id=\"T_78d9c_row7_col3\" class=\"data row7 col3\" >0.00</td>\n",
       "      <td id=\"T_78d9c_row7_col4\" class=\"data row7 col4\" >O</td>\n",
       "      <td id=\"T_78d9c_row7_col5\" class=\"data row7 col5\" >0.00</td>\n",
       "      <td id=\"T_78d9c_row7_col6\" class=\"data row7 col6\" >0.00</td>\n",
       "      <td id=\"T_78d9c_row7_col7\" class=\"data row7 col7\" >0.00</td>\n",
       "      <td id=\"T_78d9c_row7_col8\" class=\"data row7 col8\" >0.00</td>\n",
       "      <td id=\"T_78d9c_row7_col9\" class=\"data row7 col9\" >0.000000</td>\n",
       "      <td id=\"T_78d9c_row7_col10\" class=\"data row7 col10\" >0</td>\n",
       "      <td id=\"T_78d9c_row7_col11\" class=\"data row7 col11\" >-4</td>\n",
       "      <td id=\"T_78d9c_row7_col12\" class=\"data row7 col12\" >4</td>\n",
       "      <td id=\"T_78d9c_row7_col13\" class=\"data row7 col13\" >0</td>\n",
       "      <td id=\"T_78d9c_row7_col14\" class=\"data row7 col14\" >0</td>\n",
       "      <td id=\"T_78d9c_row7_col15\" class=\"data row7 col15\" >0</td>\n",
       "      <td id=\"T_78d9c_row7_col16\" class=\"data row7 col16\" ></td>\n",
       "      <td id=\"T_78d9c_row7_col17\" class=\"data row7 col17\" >SET</td>\n",
       "    </tr>\n",
       "  </tbody>\n",
       "</table>\n"
      ],
      "text/plain": [
       "<pandas.io.formats.style.Styler at 0x1d90ab838b0>"
      ]
     },
     "execution_count": 95,
     "metadata": {},
     "output_type": "execute_result"
    }
   ],
   "source": [
    "buy_mask = (stocks.buy_target == 0) & (stocks.status.isin(['B','O']))\n",
    "stocks[buy_mask].style.format(format_dict)"
   ]
  },
  {
   "cell_type": "code",
   "execution_count": 86,
   "metadata": {},
   "outputs": [
    {
     "name": "stdout",
     "output_type": "stream",
     "text": [
      "\n",
      "UPDATE stocks\n",
      "SET buy_target = 10.2\n",
      "WHERE name = 'EPG'\n",
      "\n"
     ]
    },
    {
     "data": {
      "text/plain": [
       "1"
      ]
     },
     "execution_count": 86,
     "metadata": {},
     "output_type": "execute_result"
    }
   ],
   "source": [
    "name = 'EPG'\n",
    "sqlUpd = \"\"\"\n",
    "UPDATE stocks\n",
    "SET buy_target = 10.2\n",
    "WHERE name = '%s'\n",
    "\"\"\"\n",
    "sqlUpd = sqlUpd % name\n",
    "print(sqlUpd)\n",
    "rp = conlite.execute(sqlUpd)\n",
    "rp.rowcount"
   ]
  },
  {
   "cell_type": "code",
   "execution_count": 87,
   "metadata": {},
   "outputs": [
    {
     "data": {
      "text/html": [
       "<style type=\"text/css\">\n",
       "</style>\n",
       "<table id=\"T_3eca6_\">\n",
       "  <thead>\n",
       "    <tr>\n",
       "      <th class=\"blank level0\" >&nbsp;</th>\n",
       "      <th class=\"col_heading level0 col0\" >id</th>\n",
       "      <th class=\"col_heading level0 col1\" >name</th>\n",
       "      <th class=\"col_heading level0 col2\" >max_price</th>\n",
       "      <th class=\"col_heading level0 col3\" >min_price</th>\n",
       "      <th class=\"col_heading level0 col4\" >status</th>\n",
       "      <th class=\"col_heading level0 col5\" >buy_target</th>\n",
       "      <th class=\"col_heading level0 col6\" >sell_target</th>\n",
       "      <th class=\"col_heading level0 col7\" >volume</th>\n",
       "      <th class=\"col_heading level0 col8\" >beta</th>\n",
       "      <th class=\"col_heading level0 col9\" >cost</th>\n",
       "      <th class=\"col_heading level0 col10\" >qty</th>\n",
       "      <th class=\"col_heading level0 col11\" >buy_spread</th>\n",
       "      <th class=\"col_heading level0 col12\" >sell_spread</th>\n",
       "      <th class=\"col_heading level0 col13\" >available_qty</th>\n",
       "      <th class=\"col_heading level0 col14\" >bl</th>\n",
       "      <th class=\"col_heading level0 col15\" >sh</th>\n",
       "      <th class=\"col_heading level0 col16\" >reason</th>\n",
       "      <th class=\"col_heading level0 col17\" >market</th>\n",
       "    </tr>\n",
       "  </thead>\n",
       "  <tbody>\n",
       "  </tbody>\n",
       "</table>\n"
      ],
      "text/plain": [
       "<pandas.io.formats.style.Styler at 0x1d90a9d0d60>"
      ]
     },
     "execution_count": 87,
     "metadata": {},
     "output_type": "execute_result"
    }
   ],
   "source": [
    "sell_mask = (stocks.sell_target == 0) & (stocks.status.isin(['I','S']))\n",
    "stocks[sell_mask].style.format(format_dict)"
   ]
  },
  {
   "cell_type": "code",
   "execution_count": 88,
   "metadata": {},
   "outputs": [
    {
     "name": "stdout",
     "output_type": "stream",
     "text": [
      "\n",
      "UPDATE stocks\n",
      "SET sell_target = 12.8\n",
      "WHERE name = 'WHART'\n",
      "\n"
     ]
    },
    {
     "data": {
      "text/plain": [
       "1"
      ]
     },
     "execution_count": 88,
     "metadata": {},
     "output_type": "execute_result"
    }
   ],
   "source": [
    "name = 'WHART'\n",
    "sqlUpd = \"\"\"\n",
    "UPDATE stocks\n",
    "SET sell_target = 12.8\n",
    "WHERE name = '%s'\n",
    "\"\"\"\n",
    "sqlUpd = sqlUpd % name\n",
    "print(sqlUpd)\n",
    "rp = conlite.execute(sqlUpd)\n",
    "rp.rowcount"
   ]
  },
  {
   "cell_type": "code",
   "execution_count": null,
   "metadata": {},
   "outputs": [],
   "source": []
  },
  {
   "cell_type": "code",
   "execution_count": null,
   "metadata": {},
   "outputs": [],
   "source": []
  }
 ],
 "metadata": {
  "anaconda-cloud": {},
  "kernelspec": {
   "display_name": "Python 3 (ipykernel)",
   "language": "python",
   "name": "python3"
  },
  "language_info": {
   "codemirror_mode": {
    "name": "ipython",
    "version": 3
   },
   "file_extension": ".py",
   "mimetype": "text/x-python",
   "name": "python",
   "nbconvert_exporter": "python",
   "pygments_lexer": "ipython3",
   "version": "3.8.11"
  }
 },
 "nbformat": 4,
 "nbformat_minor": 1
}
