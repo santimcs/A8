{
 "cells": [
  {
   "cell_type": "code",
   "execution_count": 1,
   "metadata": {},
   "outputs": [],
   "source": [
    "import calendar\n",
    "import pandas as pd\n",
    "from datetime import date, timedelta\n",
    "from sqlalchemy import create_engine\n",
    "\n",
    "engine = create_engine(\"sqlite:///c:\\\\ruby\\\\port_lite\\\\db\\\\development.sqlite3\")\n",
    "conlite = engine.connect()\n",
    "\n",
    "data_path = \"../data/\"\n",
    "csv_path = \"\\\\Users\\\\User\\\\iCloudDrive\\\\\"\n",
    "box_path = \"\\\\Users\\\\User\\\\Dropbox\\\\\""
   ]
  },
  {
   "cell_type": "markdown",
   "metadata": {},
   "source": [
    "### Tables in the process"
   ]
  },
  {
   "cell_type": "code",
   "execution_count": 44,
   "metadata": {},
   "outputs": [],
   "source": [
    "cols = 'trade name qty_x price reason_x qty_y buy_target sell_target reason_y'.split()\n",
    "colt = 'trade name qty price active reason market xdate'.split()"
   ]
  },
  {
   "cell_type": "code",
   "execution_count": 45,
   "metadata": {},
   "outputs": [],
   "source": [
    "format_dict = {\n",
    "    'qty':'{:,}','qty_x':'{:,}','qty_y':'{:,}','available_qty':'{:,}','eps_a':'{:.2f}','eps_b':'{:.2f}',\n",
    "    'volbuy':'{:,}','volsell':'{:,}','volbal':'{:,}',\n",
    "    'pe':'{:.2f}','pbv':'{:.2f}','max':'{:.2f}','min':'{:.2f}','dividend':'{:.4f}',\n",
    "    'maxp':'{:.2f}','minp':'{:.2f}','opnp':'{:.2f}',\n",
    "    'paid_up':'{:,.2f}','market_cap':'{:,.2f}','daily_volume':'{:,.2f}','dly_vol':'{:,.2f}',\n",
    "    'price':'{:.2f}','target_price':'{:.2f}','max_price':'{:.2f}','min_price':'{:.2f}','price_d':'{:.2f}','price_w':'{:.2f}',\n",
    "    'buy_target':'{:.2f}','sell_target':'{:.2f}','target':'{:.2f}','current':'{:.2f}',\n",
    "    'beta':'{:.2f}','amount':'{:,.2f}','sell_amt':'{:,.2f}','volume':'{:,.2f}','percent':'{:,.2f}',\n",
    "    'q_amt':'{:,}','y_amt':'{:,}','aq_amt':'{:,}','ay_amt':'{:,}','yoy_gain':'{:,}','acc_gain':'{:,}',    \n",
    "    'q_eps':'{:.4f}','y_eps':'{:.4f}','aq_eps':'{:.4f}','ay_eps':'{:.4f}',\n",
    "    'yoy_pct':'{:.2f}%','acc_pct':'{:.2f}%','yield':'{:.2f}%',\n",
    "    'q_amt': '{:,}','y_amt': '{:,}','yoy_gain': '{:,}','q_amt_c': '{:,}','q_amt_p': '{:,}','aq_amt': '{:,}','ay_amt': '{:,}',\n",
    "    'acc_gain': '{:,}','latest_amt': '{:,}','previous_amt': '{:,}','inc_amt': '{:,}',\n",
    "    'inc_amt_pq': '{:,}','inc_amt_py': '{:,}',    'latest_amt_q': '{:,}','previous_amt_q': '{:,}','inc_amt_q': '{:,}',\n",
    "    'latest_amt_y': '{:,}','previous_amt_y': '{:,}','inc_amt_y': '{:,}','kind_x': '{:,}',\n",
    "    'inc_pct': '{:.2f}%','inc_pct_q': '{:.2f}%','pct': '{:.2f}%','percent': '{:.2f}%',\n",
    "    'inc_pct_y': '{:.2f}%','inc_pct_pq': '{:.2f}%','inc_pct_py': '{:.2f}%','mean_pct': '{:.2f}%','std_pct': '{:.2f}%',      \n",
    "}"
   ]
  },
  {
   "cell_type": "markdown",
   "metadata": {},
   "source": [
    "### Begin of Loop"
   ]
  },
  {
   "cell_type": "code",
   "execution_count": 47,
   "metadata": {},
   "outputs": [
    {
     "data": {
      "text/html": [
       "<style type=\"text/css\">\n",
       "</style>\n",
       "<table id=\"T_13a3a_\">\n",
       "  <thead>\n",
       "    <tr>\n",
       "      <th class=\"blank level0\" >&nbsp;</th>\n",
       "      <th class=\"col_heading level0 col0\" >trade</th>\n",
       "      <th class=\"col_heading level0 col1\" >name</th>\n",
       "      <th class=\"col_heading level0 col2\" >qty</th>\n",
       "      <th class=\"col_heading level0 col3\" >price</th>\n",
       "      <th class=\"col_heading level0 col4\" >amount</th>\n",
       "      <th class=\"col_heading level0 col5\" >reason</th>\n",
       "      <th class=\"col_heading level0 col6\" >market</th>\n",
       "      <th class=\"col_heading level0 col7\" >active</th>\n",
       "      <th class=\"col_heading level0 col8\" >xdate</th>\n",
       "    </tr>\n",
       "  </thead>\n",
       "  <tbody>\n",
       "    <tr>\n",
       "      <th id=\"T_13a3a_level0_row0\" class=\"row_heading level0 row0\" >0</th>\n",
       "      <td id=\"T_13a3a_row0_col0\" class=\"data row0 col0\" >B</td>\n",
       "      <td id=\"T_13a3a_row0_col1\" class=\"data row0 col1\" >ASK</td>\n",
       "      <td id=\"T_13a3a_row0_col2\" class=\"data row0 col2\" >3,000</td>\n",
       "      <td id=\"T_13a3a_row0_col3\" class=\"data row0 col3\" >32.00</td>\n",
       "      <td id=\"T_13a3a_row0_col4\" class=\"data row0 col4\" >96,000.00</td>\n",
       "      <td id=\"T_13a3a_row0_col5\" class=\"data row0 col5\" >MinP</td>\n",
       "      <td id=\"T_13a3a_row0_col6\" class=\"data row0 col6\" >SET</td>\n",
       "      <td id=\"T_13a3a_row0_col7\" class=\"data row0 col7\" >0</td>\n",
       "      <td id=\"T_13a3a_row0_col8\" class=\"data row0 col8\" >2022-03-03</td>\n",
       "    </tr>\n",
       "    <tr>\n",
       "      <th id=\"T_13a3a_level0_row1\" class=\"row_heading level0 row1\" >1</th>\n",
       "      <td id=\"T_13a3a_row1_col0\" class=\"data row1 col0\" >B</td>\n",
       "      <td id=\"T_13a3a_row1_col1\" class=\"data row1 col1\" >BBL</td>\n",
       "      <td id=\"T_13a3a_row1_col2\" class=\"data row1 col2\" >2,400</td>\n",
       "      <td id=\"T_13a3a_row1_col3\" class=\"data row1 col3\" >128.00</td>\n",
       "      <td id=\"T_13a3a_row1_col4\" class=\"data row1 col4\" >307,200.00</td>\n",
       "      <td id=\"T_13a3a_row1_col5\" class=\"data row1 col5\" >P50%</td>\n",
       "      <td id=\"T_13a3a_row1_col6\" class=\"data row1 col6\" >SET50</td>\n",
       "      <td id=\"T_13a3a_row1_col7\" class=\"data row1 col7\" >0</td>\n",
       "      <td id=\"T_13a3a_row1_col8\" class=\"data row1 col8\" >2022-04-22</td>\n",
       "    </tr>\n",
       "    <tr>\n",
       "      <th id=\"T_13a3a_level0_row2\" class=\"row_heading level0 row2\" >2</th>\n",
       "      <td id=\"T_13a3a_row2_col0\" class=\"data row2 col0\" >B</td>\n",
       "      <td id=\"T_13a3a_row2_col1\" class=\"data row2 col1\" >BCPG</td>\n",
       "      <td id=\"T_13a3a_row2_col2\" class=\"data row2 col2\" >12,000</td>\n",
       "      <td id=\"T_13a3a_row2_col3\" class=\"data row2 col3\" >11.00</td>\n",
       "      <td id=\"T_13a3a_row2_col4\" class=\"data row2 col4\" >132,000.00</td>\n",
       "      <td id=\"T_13a3a_row2_col5\" class=\"data row2 col5\" >MinP</td>\n",
       "      <td id=\"T_13a3a_row2_col6\" class=\"data row2 col6\" >SET100</td>\n",
       "      <td id=\"T_13a3a_row2_col7\" class=\"data row2 col7\" >0</td>\n",
       "      <td id=\"T_13a3a_row2_col8\" class=\"data row2 col8\" >2022-02-02</td>\n",
       "    </tr>\n",
       "    <tr>\n",
       "      <th id=\"T_13a3a_level0_row3\" class=\"row_heading level0 row3\" >3</th>\n",
       "      <td id=\"T_13a3a_row3_col0\" class=\"data row3 col0\" >B</td>\n",
       "      <td id=\"T_13a3a_row3_col1\" class=\"data row3 col1\" >DIF</td>\n",
       "      <td id=\"T_13a3a_row3_col2\" class=\"data row3 col2\" >10,000</td>\n",
       "      <td id=\"T_13a3a_row3_col3\" class=\"data row3 col3\" >13.70</td>\n",
       "      <td id=\"T_13a3a_row3_col4\" class=\"data row3 col4\" >137,000.00</td>\n",
       "      <td id=\"T_13a3a_row3_col5\" class=\"data row3 col5\" >CUT</td>\n",
       "      <td id=\"T_13a3a_row3_col6\" class=\"data row3 col6\" >SET</td>\n",
       "      <td id=\"T_13a3a_row3_col7\" class=\"data row3 col7\" >0</td>\n",
       "      <td id=\"T_13a3a_row3_col8\" class=\"data row3 col8\" >2022-05-17</td>\n",
       "    </tr>\n",
       "    <tr>\n",
       "      <th id=\"T_13a3a_level0_row4\" class=\"row_heading level0 row4\" >4</th>\n",
       "      <td id=\"T_13a3a_row4_col0\" class=\"data row4 col0\" >B</td>\n",
       "      <td id=\"T_13a3a_row4_col1\" class=\"data row4 col1\" >GLOBAL</td>\n",
       "      <td id=\"T_13a3a_row4_col2\" class=\"data row4 col2\" >9,000</td>\n",
       "      <td id=\"T_13a3a_row4_col3\" class=\"data row4 col3\" >18.40</td>\n",
       "      <td id=\"T_13a3a_row4_col4\" class=\"data row4 col4\" >165,600.00</td>\n",
       "      <td id=\"T_13a3a_row4_col5\" class=\"data row4 col5\" >3L</td>\n",
       "      <td id=\"T_13a3a_row4_col6\" class=\"data row4 col6\" >SET50</td>\n",
       "      <td id=\"T_13a3a_row4_col7\" class=\"data row4 col7\" >0</td>\n",
       "      <td id=\"T_13a3a_row4_col8\" class=\"data row4 col8\" >2022-02-02</td>\n",
       "    </tr>\n",
       "    <tr>\n",
       "      <th id=\"T_13a3a_level0_row5\" class=\"row_heading level0 row5\" >5</th>\n",
       "      <td id=\"T_13a3a_row5_col0\" class=\"data row5 col0\" >B</td>\n",
       "      <td id=\"T_13a3a_row5_col1\" class=\"data row5 col1\" >GULF</td>\n",
       "      <td id=\"T_13a3a_row5_col2\" class=\"data row5 col2\" >6,000</td>\n",
       "      <td id=\"T_13a3a_row5_col3\" class=\"data row5 col3\" >45.00</td>\n",
       "      <td id=\"T_13a3a_row5_col4\" class=\"data row5 col4\" >270,000.00</td>\n",
       "      <td id=\"T_13a3a_row5_col5\" class=\"data row5 col5\" >3L</td>\n",
       "      <td id=\"T_13a3a_row5_col6\" class=\"data row5 col6\" >SET50</td>\n",
       "      <td id=\"T_13a3a_row5_col7\" class=\"data row5 col7\" >0</td>\n",
       "      <td id=\"T_13a3a_row5_col8\" class=\"data row5 col8\" >2022-03-04</td>\n",
       "    </tr>\n",
       "    <tr>\n",
       "      <th id=\"T_13a3a_level0_row6\" class=\"row_heading level0 row6\" >6</th>\n",
       "      <td id=\"T_13a3a_row6_col0\" class=\"data row6 col0\" >B</td>\n",
       "      <td id=\"T_13a3a_row6_col1\" class=\"data row6 col1\" >IVL</td>\n",
       "      <td id=\"T_13a3a_row6_col2\" class=\"data row6 col2\" >3,000</td>\n",
       "      <td id=\"T_13a3a_row6_col3\" class=\"data row6 col3\" >48.00</td>\n",
       "      <td id=\"T_13a3a_row6_col4\" class=\"data row6 col4\" >144,000.00</td>\n",
       "      <td id=\"T_13a3a_row6_col5\" class=\"data row6 col5\" >P50%</td>\n",
       "      <td id=\"T_13a3a_row6_col6\" class=\"data row6 col6\" >SET50</td>\n",
       "      <td id=\"T_13a3a_row6_col7\" class=\"data row6 col7\" >0</td>\n",
       "      <td id=\"T_13a3a_row6_col8\" class=\"data row6 col8\" >2022-05-31</td>\n",
       "    </tr>\n",
       "    <tr>\n",
       "      <th id=\"T_13a3a_level0_row7\" class=\"row_heading level0 row7\" >7</th>\n",
       "      <td id=\"T_13a3a_row7_col0\" class=\"data row7 col0\" >B</td>\n",
       "      <td id=\"T_13a3a_row7_col1\" class=\"data row7 col1\" >KBANK</td>\n",
       "      <td id=\"T_13a3a_row7_col2\" class=\"data row7 col2\" >1,500</td>\n",
       "      <td id=\"T_13a3a_row7_col3\" class=\"data row7 col3\" >145.00</td>\n",
       "      <td id=\"T_13a3a_row7_col4\" class=\"data row7 col4\" >217,500.00</td>\n",
       "      <td id=\"T_13a3a_row7_col5\" class=\"data row7 col5\" >P50%</td>\n",
       "      <td id=\"T_13a3a_row7_col6\" class=\"data row7 col6\" >SET50</td>\n",
       "      <td id=\"T_13a3a_row7_col7\" class=\"data row7 col7\" >0</td>\n",
       "      <td id=\"T_13a3a_row7_col8\" class=\"data row7 col8\" >2022-04-18</td>\n",
       "    </tr>\n",
       "    <tr>\n",
       "      <th id=\"T_13a3a_level0_row8\" class=\"row_heading level0 row8\" >8</th>\n",
       "      <td id=\"T_13a3a_row8_col0\" class=\"data row8 col0\" >B</td>\n",
       "      <td id=\"T_13a3a_row8_col1\" class=\"data row8 col1\" >KTC</td>\n",
       "      <td id=\"T_13a3a_row8_col2\" class=\"data row8 col2\" >2,100</td>\n",
       "      <td id=\"T_13a3a_row8_col3\" class=\"data row8 col3\" >55.00</td>\n",
       "      <td id=\"T_13a3a_row8_col4\" class=\"data row8 col4\" >115,500.00</td>\n",
       "      <td id=\"T_13a3a_row8_col5\" class=\"data row8 col5\" >P25%</td>\n",
       "      <td id=\"T_13a3a_row8_col6\" class=\"data row8 col6\" >SET50</td>\n",
       "      <td id=\"T_13a3a_row8_col7\" class=\"data row8 col7\" >0</td>\n",
       "      <td id=\"T_13a3a_row8_col8\" class=\"data row8 col8\" >2022-04-18</td>\n",
       "    </tr>\n",
       "    <tr>\n",
       "      <th id=\"T_13a3a_level0_row9\" class=\"row_heading level0 row9\" >9</th>\n",
       "      <td id=\"T_13a3a_row9_col0\" class=\"data row9 col0\" >B</td>\n",
       "      <td id=\"T_13a3a_row9_col1\" class=\"data row9 col1\" >SINGER</td>\n",
       "      <td id=\"T_13a3a_row9_col2\" class=\"data row9 col2\" >3,000</td>\n",
       "      <td id=\"T_13a3a_row9_col3\" class=\"data row9 col3\" >47.00</td>\n",
       "      <td id=\"T_13a3a_row9_col4\" class=\"data row9 col4\" >141,000.00</td>\n",
       "      <td id=\"T_13a3a_row9_col5\" class=\"data row9 col5\" >3L</td>\n",
       "      <td id=\"T_13a3a_row9_col6\" class=\"data row9 col6\" >SET100</td>\n",
       "      <td id=\"T_13a3a_row9_col7\" class=\"data row9 col7\" >0</td>\n",
       "      <td id=\"T_13a3a_row9_col8\" class=\"data row9 col8\" >2022-02-02</td>\n",
       "    </tr>\n",
       "    <tr>\n",
       "      <th id=\"T_13a3a_level0_row10\" class=\"row_heading level0 row10\" >10</th>\n",
       "      <td id=\"T_13a3a_row10_col0\" class=\"data row10 col0\" >B</td>\n",
       "      <td id=\"T_13a3a_row10_col1\" class=\"data row10 col1\" >SSP</td>\n",
       "      <td id=\"T_13a3a_row10_col2\" class=\"data row10 col2\" >10,000</td>\n",
       "      <td id=\"T_13a3a_row10_col3\" class=\"data row10 col3\" >9.00</td>\n",
       "      <td id=\"T_13a3a_row10_col4\" class=\"data row10 col4\" >90,000.00</td>\n",
       "      <td id=\"T_13a3a_row10_col5\" class=\"data row10 col5\" >6L</td>\n",
       "      <td id=\"T_13a3a_row10_col6\" class=\"data row10 col6\" >SET</td>\n",
       "      <td id=\"T_13a3a_row10_col7\" class=\"data row10 col7\" >0</td>\n",
       "      <td id=\"T_13a3a_row10_col8\" class=\"data row10 col8\" >2022-02-02</td>\n",
       "    </tr>\n",
       "    <tr>\n",
       "      <th id=\"T_13a3a_level0_row11\" class=\"row_heading level0 row11\" >11</th>\n",
       "      <td id=\"T_13a3a_row11_col0\" class=\"data row11 col0\" >B</td>\n",
       "      <td id=\"T_13a3a_row11_col1\" class=\"data row11 col1\" >STA</td>\n",
       "      <td id=\"T_13a3a_row11_col2\" class=\"data row11 col2\" >1,500</td>\n",
       "      <td id=\"T_13a3a_row11_col3\" class=\"data row11 col3\" >21.80</td>\n",
       "      <td id=\"T_13a3a_row11_col4\" class=\"data row11 col4\" >32,700.00</td>\n",
       "      <td id=\"T_13a3a_row11_col5\" class=\"data row11 col5\" >CUT</td>\n",
       "      <td id=\"T_13a3a_row11_col6\" class=\"data row11 col6\" >SET100</td>\n",
       "      <td id=\"T_13a3a_row11_col7\" class=\"data row11 col7\" >0</td>\n",
       "      <td id=\"T_13a3a_row11_col8\" class=\"data row11 col8\" >2022-04-19</td>\n",
       "    </tr>\n",
       "    <tr>\n",
       "      <th id=\"T_13a3a_level0_row12\" class=\"row_heading level0 row12\" >12</th>\n",
       "      <td id=\"T_13a3a_row12_col0\" class=\"data row12 col0\" >B</td>\n",
       "      <td id=\"T_13a3a_row12_col1\" class=\"data row12 col1\" >STANLY</td>\n",
       "      <td id=\"T_13a3a_row12_col2\" class=\"data row12 col2\" >600</td>\n",
       "      <td id=\"T_13a3a_row12_col3\" class=\"data row12 col3\" >177.00</td>\n",
       "      <td id=\"T_13a3a_row12_col4\" class=\"data row12 col4\" >106,200.00</td>\n",
       "      <td id=\"T_13a3a_row12_col5\" class=\"data row12 col5\" >P50%</td>\n",
       "      <td id=\"T_13a3a_row12_col6\" class=\"data row12 col6\" >SET</td>\n",
       "      <td id=\"T_13a3a_row12_col7\" class=\"data row12 col7\" >0</td>\n",
       "      <td id=\"T_13a3a_row12_col8\" class=\"data row12 col8\" >2022-02-02</td>\n",
       "    </tr>\n",
       "    <tr>\n",
       "      <th id=\"T_13a3a_level0_row13\" class=\"row_heading level0 row13\" >13</th>\n",
       "      <td id=\"T_13a3a_row13_col0\" class=\"data row13 col0\" >S</td>\n",
       "      <td id=\"T_13a3a_row13_col1\" class=\"data row13 col1\" >BDMS</td>\n",
       "      <td id=\"T_13a3a_row13_col2\" class=\"data row13 col2\" >1,500</td>\n",
       "      <td id=\"T_13a3a_row13_col3\" class=\"data row13 col3\" >26.25</td>\n",
       "      <td id=\"T_13a3a_row13_col4\" class=\"data row13 col4\" >39,375.00</td>\n",
       "      <td id=\"T_13a3a_row13_col5\" class=\"data row13 col5\" >CP1S</td>\n",
       "      <td id=\"T_13a3a_row13_col6\" class=\"data row13 col6\" >SET50</td>\n",
       "      <td id=\"T_13a3a_row13_col7\" class=\"data row13 col7\" >0</td>\n",
       "      <td id=\"T_13a3a_row13_col8\" class=\"data row13 col8\" >2022-03-09</td>\n",
       "    </tr>\n",
       "    <tr>\n",
       "      <th id=\"T_13a3a_level0_row14\" class=\"row_heading level0 row14\" >14</th>\n",
       "      <td id=\"T_13a3a_row14_col0\" class=\"data row14 col0\" >S</td>\n",
       "      <td id=\"T_13a3a_row14_col1\" class=\"data row14 col1\" >KCE</td>\n",
       "      <td id=\"T_13a3a_row14_col2\" class=\"data row14 col2\" >1,000</td>\n",
       "      <td id=\"T_13a3a_row14_col3\" class=\"data row14 col3\" >68.00</td>\n",
       "      <td id=\"T_13a3a_row14_col4\" class=\"data row14 col4\" >68,000.00</td>\n",
       "      <td id=\"T_13a3a_row14_col5\" class=\"data row14 col5\" >1L</td>\n",
       "      <td id=\"T_13a3a_row14_col6\" class=\"data row14 col6\" >SET50</td>\n",
       "      <td id=\"T_13a3a_row14_col7\" class=\"data row14 col7\" >0</td>\n",
       "      <td id=\"T_13a3a_row14_col8\" class=\"data row14 col8\" >2022-03-21</td>\n",
       "    </tr>\n",
       "    <tr>\n",
       "      <th id=\"T_13a3a_level0_row15\" class=\"row_heading level0 row15\" >15</th>\n",
       "      <td id=\"T_13a3a_row15_col0\" class=\"data row15 col0\" >S</td>\n",
       "      <td id=\"T_13a3a_row15_col1\" class=\"data row15 col1\" >MAKRO</td>\n",
       "      <td id=\"T_13a3a_row15_col2\" class=\"data row15 col2\" >1,500</td>\n",
       "      <td id=\"T_13a3a_row15_col3\" class=\"data row15 col3\" >39.00</td>\n",
       "      <td id=\"T_13a3a_row15_col4\" class=\"data row15 col4\" >58,500.00</td>\n",
       "      <td id=\"T_13a3a_row15_col5\" class=\"data row15 col5\" >6M</td>\n",
       "      <td id=\"T_13a3a_row15_col6\" class=\"data row15 col6\" >SET</td>\n",
       "      <td id=\"T_13a3a_row15_col7\" class=\"data row15 col7\" >0</td>\n",
       "      <td id=\"T_13a3a_row15_col8\" class=\"data row15 col8\" >2022-03-03</td>\n",
       "    </tr>\n",
       "    <tr>\n",
       "      <th id=\"T_13a3a_level0_row16\" class=\"row_heading level0 row16\" >16</th>\n",
       "      <td id=\"T_13a3a_row16_col0\" class=\"data row16 col0\" >S</td>\n",
       "      <td id=\"T_13a3a_row16_col1\" class=\"data row16 col1\" >NER</td>\n",
       "      <td id=\"T_13a3a_row16_col2\" class=\"data row16 col2\" >9,000</td>\n",
       "      <td id=\"T_13a3a_row16_col3\" class=\"data row16 col3\" >7.10</td>\n",
       "      <td id=\"T_13a3a_row16_col4\" class=\"data row16 col4\" >63,900.00</td>\n",
       "      <td id=\"T_13a3a_row16_col5\" class=\"data row16 col5\" >P50%</td>\n",
       "      <td id=\"T_13a3a_row16_col6\" class=\"data row16 col6\" >SET</td>\n",
       "      <td id=\"T_13a3a_row16_col7\" class=\"data row16 col7\" >0</td>\n",
       "      <td id=\"T_13a3a_row16_col8\" class=\"data row16 col8\" >2022-04-19</td>\n",
       "    </tr>\n",
       "    <tr>\n",
       "      <th id=\"T_13a3a_level0_row17\" class=\"row_heading level0 row17\" >17</th>\n",
       "      <td id=\"T_13a3a_row17_col0\" class=\"data row17 col0\" >S</td>\n",
       "      <td id=\"T_13a3a_row17_col1\" class=\"data row17 col1\" >ORI</td>\n",
       "      <td id=\"T_13a3a_row17_col2\" class=\"data row17 col2\" >15,000</td>\n",
       "      <td id=\"T_13a3a_row17_col3\" class=\"data row17 col3\" >11.10</td>\n",
       "      <td id=\"T_13a3a_row17_col4\" class=\"data row17 col4\" >166,500.00</td>\n",
       "      <td id=\"T_13a3a_row17_col5\" class=\"data row17 col5\" >CP1S</td>\n",
       "      <td id=\"T_13a3a_row17_col6\" class=\"data row17 col6\" >SET100</td>\n",
       "      <td id=\"T_13a3a_row17_col7\" class=\"data row17 col7\" >0</td>\n",
       "      <td id=\"T_13a3a_row17_col8\" class=\"data row17 col8\" >2022-05-09</td>\n",
       "    </tr>\n",
       "    <tr>\n",
       "      <th id=\"T_13a3a_level0_row18\" class=\"row_heading level0 row18\" >18</th>\n",
       "      <td id=\"T_13a3a_row18_col0\" class=\"data row18 col0\" >S</td>\n",
       "      <td id=\"T_13a3a_row18_col1\" class=\"data row18 col1\" >RCL</td>\n",
       "      <td id=\"T_13a3a_row18_col2\" class=\"data row18 col2\" >4,000</td>\n",
       "      <td id=\"T_13a3a_row18_col3\" class=\"data row18 col3\" >47.50</td>\n",
       "      <td id=\"T_13a3a_row18_col4\" class=\"data row18 col4\" >190,000.00</td>\n",
       "      <td id=\"T_13a3a_row18_col5\" class=\"data row18 col5\" >CP1S</td>\n",
       "      <td id=\"T_13a3a_row18_col6\" class=\"data row18 col6\" >SET100</td>\n",
       "      <td id=\"T_13a3a_row18_col7\" class=\"data row18 col7\" >0</td>\n",
       "      <td id=\"T_13a3a_row18_col8\" class=\"data row18 col8\" >2022-03-23</td>\n",
       "    </tr>\n",
       "    <tr>\n",
       "      <th id=\"T_13a3a_level0_row19\" class=\"row_heading level0 row19\" >19</th>\n",
       "      <td id=\"T_13a3a_row19_col0\" class=\"data row19 col0\" >S</td>\n",
       "      <td id=\"T_13a3a_row19_col1\" class=\"data row19 col1\" >SIS</td>\n",
       "      <td id=\"T_13a3a_row19_col2\" class=\"data row19 col2\" >3,600</td>\n",
       "      <td id=\"T_13a3a_row19_col3\" class=\"data row19 col3\" >28.75</td>\n",
       "      <td id=\"T_13a3a_row19_col4\" class=\"data row19 col4\" >103,500.00</td>\n",
       "      <td id=\"T_13a3a_row19_col5\" class=\"data row19 col5\" >C28.50</td>\n",
       "      <td id=\"T_13a3a_row19_col6\" class=\"data row19 col6\" >SET</td>\n",
       "      <td id=\"T_13a3a_row19_col7\" class=\"data row19 col7\" >0</td>\n",
       "      <td id=\"T_13a3a_row19_col8\" class=\"data row19 col8\" >2022-03-10</td>\n",
       "    </tr>\n",
       "    <tr>\n",
       "      <th id=\"T_13a3a_level0_row20\" class=\"row_heading level0 row20\" >20</th>\n",
       "      <td id=\"T_13a3a_row20_col0\" class=\"data row20 col0\" >S</td>\n",
       "      <td id=\"T_13a3a_row20_col1\" class=\"data row20 col1\" >TMT</td>\n",
       "      <td id=\"T_13a3a_row20_col2\" class=\"data row20 col2\" >12,000</td>\n",
       "      <td id=\"T_13a3a_row20_col3\" class=\"data row20 col3\" >9.00</td>\n",
       "      <td id=\"T_13a3a_row20_col4\" class=\"data row20 col4\" >108,000.00</td>\n",
       "      <td id=\"T_13a3a_row20_col5\" class=\"data row20 col5\" >RD10pct</td>\n",
       "      <td id=\"T_13a3a_row20_col6\" class=\"data row20 col6\" >SET</td>\n",
       "      <td id=\"T_13a3a_row20_col7\" class=\"data row20 col7\" >0</td>\n",
       "      <td id=\"T_13a3a_row20_col8\" class=\"data row20 col8\" >2022-04-18</td>\n",
       "    </tr>\n",
       "    <tr>\n",
       "      <th id=\"T_13a3a_level0_row21\" class=\"row_heading level0 row21\" >21</th>\n",
       "      <td id=\"T_13a3a_row21_col0\" class=\"data row21 col0\" >S</td>\n",
       "      <td id=\"T_13a3a_row21_col1\" class=\"data row21 col1\" >TOP</td>\n",
       "      <td id=\"T_13a3a_row21_col2\" class=\"data row21 col2\" >1,500</td>\n",
       "      <td id=\"T_13a3a_row21_col3\" class=\"data row21 col3\" >60.50</td>\n",
       "      <td id=\"T_13a3a_row21_col4\" class=\"data row21 col4\" >90,750.00</td>\n",
       "      <td id=\"T_13a3a_row21_col5\" class=\"data row21 col5\" >RD15pct</td>\n",
       "      <td id=\"T_13a3a_row21_col6\" class=\"data row21 col6\" >SET50</td>\n",
       "      <td id=\"T_13a3a_row21_col7\" class=\"data row21 col7\" >0</td>\n",
       "      <td id=\"T_13a3a_row21_col8\" class=\"data row21 col8\" >2022-03-03</td>\n",
       "    </tr>\n",
       "    <tr>\n",
       "      <th id=\"T_13a3a_level0_row22\" class=\"row_heading level0 row22\" >22</th>\n",
       "      <td id=\"T_13a3a_row22_col0\" class=\"data row22 col0\" >S</td>\n",
       "      <td id=\"T_13a3a_row22_col1\" class=\"data row22 col1\" >TTB</td>\n",
       "      <td id=\"T_13a3a_row22_col2\" class=\"data row22 col2\" >100,000</td>\n",
       "      <td id=\"T_13a3a_row22_col3\" class=\"data row22 col3\" >1.33</td>\n",
       "      <td id=\"T_13a3a_row22_col4\" class=\"data row22 col4\" >133,000.00</td>\n",
       "      <td id=\"T_13a3a_row22_col5\" class=\"data row22 col5\" >5pct</td>\n",
       "      <td id=\"T_13a3a_row22_col6\" class=\"data row22 col6\" >SET50</td>\n",
       "      <td id=\"T_13a3a_row22_col7\" class=\"data row22 col7\" >0</td>\n",
       "      <td id=\"T_13a3a_row22_col8\" class=\"data row22 col8\" >2022-04-21</td>\n",
       "    </tr>\n",
       "  </tbody>\n",
       "</table>\n"
      ],
      "text/plain": [
       "<pandas.io.formats.style.Styler at 0x1a1ce95e040>"
      ]
     },
     "execution_count": 47,
     "metadata": {},
     "output_type": "execute_result"
    }
   ],
   "source": [
    "sql = '''\n",
    "SELECT trade, name, qty, price, qty * price AS amount, reason, market, active, xdate\n",
    "FROM orders\n",
    "ORDER BY trade, name'''\n",
    "orders = pd.read_sql(sql, conlite)\n",
    "orders.sort_values(['trade','name'],ascending=[True,True]).style.format(format_dict)"
   ]
  },
  {
   "cell_type": "code",
   "execution_count": 48,
   "metadata": {},
   "outputs": [
    {
     "data": {
      "text/plain": [
       "(58, 18)"
      ]
     },
     "execution_count": 48,
     "metadata": {},
     "output_type": "execute_result"
    }
   ],
   "source": [
    "sql = \"\"\"\n",
    "SELECT *\n",
    "FROM stocks\n",
    "\"\"\"\n",
    "stocks = pd.read_sql(sql, conlite)\n",
    "stocks.shape"
   ]
  },
  {
   "cell_type": "code",
   "execution_count": 49,
   "metadata": {},
   "outputs": [
    {
     "data": {
      "text/plain": [
       "(23, 26)"
      ]
     },
     "execution_count": 49,
     "metadata": {},
     "output_type": "execute_result"
    }
   ],
   "source": [
    "df_merge = pd.merge(orders,stocks,on='name',how='inner')\n",
    "df_merge.shape"
   ]
  },
  {
   "cell_type": "code",
   "execution_count": 50,
   "metadata": {
    "scrolled": true
   },
   "outputs": [
    {
     "data": {
      "text/html": [
       "<style type=\"text/css\">\n",
       "</style>\n",
       "<table id=\"T_19439_\">\n",
       "  <thead>\n",
       "    <tr>\n",
       "      <th class=\"blank level0\" >&nbsp;</th>\n",
       "      <th class=\"col_heading level0 col0\" >trade</th>\n",
       "      <th class=\"col_heading level0 col1\" >name</th>\n",
       "      <th class=\"col_heading level0 col2\" >qty_x</th>\n",
       "      <th class=\"col_heading level0 col3\" >price</th>\n",
       "      <th class=\"col_heading level0 col4\" >reason_x</th>\n",
       "      <th class=\"col_heading level0 col5\" >qty_y</th>\n",
       "      <th class=\"col_heading level0 col6\" >buy_target</th>\n",
       "      <th class=\"col_heading level0 col7\" >sell_target</th>\n",
       "      <th class=\"col_heading level0 col8\" >reason_y</th>\n",
       "    </tr>\n",
       "  </thead>\n",
       "  <tbody>\n",
       "  </tbody>\n",
       "</table>\n"
      ],
      "text/plain": [
       "<pandas.io.formats.style.Styler at 0x1a1cf9ddc10>"
      ]
     },
     "execution_count": 50,
     "metadata": {},
     "output_type": "execute_result"
    }
   ],
   "source": [
    "qty_mask = (df_merge.qty_x != df_merge.qty_y)\n",
    "df_merge[qty_mask][cols].style.format(format_dict)"
   ]
  },
  {
   "cell_type": "code",
   "execution_count": 51,
   "metadata": {},
   "outputs": [
    {
     "data": {
      "text/html": [
       "<style type=\"text/css\">\n",
       "</style>\n",
       "<table id=\"T_42604_\">\n",
       "  <thead>\n",
       "    <tr>\n",
       "      <th class=\"blank level0\" >&nbsp;</th>\n",
       "      <th class=\"col_heading level0 col0\" >trade</th>\n",
       "      <th class=\"col_heading level0 col1\" >name</th>\n",
       "      <th class=\"col_heading level0 col2\" >qty_x</th>\n",
       "      <th class=\"col_heading level0 col3\" >price</th>\n",
       "      <th class=\"col_heading level0 col4\" >reason_x</th>\n",
       "      <th class=\"col_heading level0 col5\" >qty_y</th>\n",
       "      <th class=\"col_heading level0 col6\" >buy_target</th>\n",
       "      <th class=\"col_heading level0 col7\" >sell_target</th>\n",
       "      <th class=\"col_heading level0 col8\" >reason_y</th>\n",
       "    </tr>\n",
       "  </thead>\n",
       "  <tbody>\n",
       "  </tbody>\n",
       "</table>\n"
      ],
      "text/plain": [
       "<pandas.io.formats.style.Styler at 0x1a1cfa39100>"
      ]
     },
     "execution_count": 51,
     "metadata": {},
     "output_type": "execute_result"
    }
   ],
   "source": [
    "buy_price_mask = (df_merge.price != df_merge.buy_target) & (df_merge.trade == 'B')\n",
    "df_merge[buy_price_mask][cols].style.format(format_dict)"
   ]
  },
  {
   "cell_type": "code",
   "execution_count": 52,
   "metadata": {},
   "outputs": [
    {
     "data": {
      "text/html": [
       "<style type=\"text/css\">\n",
       "</style>\n",
       "<table id=\"T_b0a82_\">\n",
       "  <thead>\n",
       "    <tr>\n",
       "      <th class=\"blank level0\" >&nbsp;</th>\n",
       "      <th class=\"col_heading level0 col0\" >trade</th>\n",
       "      <th class=\"col_heading level0 col1\" >name</th>\n",
       "      <th class=\"col_heading level0 col2\" >qty_x</th>\n",
       "      <th class=\"col_heading level0 col3\" >price</th>\n",
       "      <th class=\"col_heading level0 col4\" >reason_x</th>\n",
       "      <th class=\"col_heading level0 col5\" >qty_y</th>\n",
       "      <th class=\"col_heading level0 col6\" >buy_target</th>\n",
       "      <th class=\"col_heading level0 col7\" >sell_target</th>\n",
       "      <th class=\"col_heading level0 col8\" >reason_y</th>\n",
       "    </tr>\n",
       "  </thead>\n",
       "  <tbody>\n",
       "  </tbody>\n",
       "</table>\n"
      ],
      "text/plain": [
       "<pandas.io.formats.style.Styler at 0x1a1cf9d1dc0>"
      ]
     },
     "execution_count": 52,
     "metadata": {},
     "output_type": "execute_result"
    }
   ],
   "source": [
    "sell_price_mask = (df_merge.price != df_merge.sell_target) & (df_merge.trade == 'S')\n",
    "df_merge[sell_price_mask][cols].style.format(format_dict)"
   ]
  },
  {
   "cell_type": "code",
   "execution_count": 53,
   "metadata": {
    "scrolled": true
   },
   "outputs": [
    {
     "data": {
      "text/html": [
       "<style type=\"text/css\">\n",
       "</style>\n",
       "<table id=\"T_95bdd_\">\n",
       "  <thead>\n",
       "    <tr>\n",
       "      <th class=\"blank level0\" >&nbsp;</th>\n",
       "      <th class=\"col_heading level0 col0\" >trade</th>\n",
       "      <th class=\"col_heading level0 col1\" >name</th>\n",
       "      <th class=\"col_heading level0 col2\" >qty_x</th>\n",
       "      <th class=\"col_heading level0 col3\" >price</th>\n",
       "      <th class=\"col_heading level0 col4\" >reason_x</th>\n",
       "      <th class=\"col_heading level0 col5\" >qty_y</th>\n",
       "      <th class=\"col_heading level0 col6\" >buy_target</th>\n",
       "      <th class=\"col_heading level0 col7\" >sell_target</th>\n",
       "      <th class=\"col_heading level0 col8\" >reason_y</th>\n",
       "    </tr>\n",
       "  </thead>\n",
       "  <tbody>\n",
       "  </tbody>\n",
       "</table>\n"
      ],
      "text/plain": [
       "<pandas.io.formats.style.Styler at 0x1a1cf9f3130>"
      ]
     },
     "execution_count": 53,
     "metadata": {},
     "output_type": "execute_result"
    }
   ],
   "source": [
    "reason_mask = (df_merge.reason_x != df_merge.reason_y)\n",
    "df_merge[reason_mask][cols].style.format(format_dict)"
   ]
  },
  {
   "cell_type": "markdown",
   "metadata": {},
   "source": [
    "### End of Loop process"
   ]
  },
  {
   "cell_type": "code",
   "execution_count": 54,
   "metadata": {},
   "outputs": [
    {
     "data": {
      "text/html": [
       "<div>\n",
       "<style scoped>\n",
       "    .dataframe tbody tr th:only-of-type {\n",
       "        vertical-align: middle;\n",
       "    }\n",
       "\n",
       "    .dataframe tbody tr th {\n",
       "        vertical-align: top;\n",
       "    }\n",
       "\n",
       "    .dataframe thead th {\n",
       "        text-align: right;\n",
       "    }\n",
       "</style>\n",
       "<table border=\"1\" class=\"dataframe\">\n",
       "  <thead>\n",
       "    <tr style=\"text-align: right;\">\n",
       "      <th></th>\n",
       "      <th>trade</th>\n",
       "      <th>name</th>\n",
       "      <th>qty</th>\n",
       "      <th>price</th>\n",
       "      <th>active</th>\n",
       "      <th>reason</th>\n",
       "      <th>market</th>\n",
       "      <th>xdate</th>\n",
       "    </tr>\n",
       "  </thead>\n",
       "  <tbody>\n",
       "    <tr>\n",
       "      <th>0</th>\n",
       "      <td>B</td>\n",
       "      <td>ASK</td>\n",
       "      <td>3000</td>\n",
       "      <td>32.00</td>\n",
       "      <td>0</td>\n",
       "      <td>MinP</td>\n",
       "      <td>SET</td>\n",
       "      <td>2022-03-03</td>\n",
       "    </tr>\n",
       "    <tr>\n",
       "      <th>1</th>\n",
       "      <td>B</td>\n",
       "      <td>BBL</td>\n",
       "      <td>2400</td>\n",
       "      <td>128.00</td>\n",
       "      <td>0</td>\n",
       "      <td>P50%</td>\n",
       "      <td>SET50</td>\n",
       "      <td>2022-04-22</td>\n",
       "    </tr>\n",
       "    <tr>\n",
       "      <th>2</th>\n",
       "      <td>B</td>\n",
       "      <td>BCPG</td>\n",
       "      <td>12000</td>\n",
       "      <td>11.00</td>\n",
       "      <td>0</td>\n",
       "      <td>MinP</td>\n",
       "      <td>SET100</td>\n",
       "      <td>2022-02-02</td>\n",
       "    </tr>\n",
       "    <tr>\n",
       "      <th>3</th>\n",
       "      <td>B</td>\n",
       "      <td>DIF</td>\n",
       "      <td>10000</td>\n",
       "      <td>13.70</td>\n",
       "      <td>0</td>\n",
       "      <td>CUT</td>\n",
       "      <td>SET</td>\n",
       "      <td>2022-05-17</td>\n",
       "    </tr>\n",
       "    <tr>\n",
       "      <th>4</th>\n",
       "      <td>B</td>\n",
       "      <td>GLOBAL</td>\n",
       "      <td>9000</td>\n",
       "      <td>18.40</td>\n",
       "      <td>0</td>\n",
       "      <td>3L</td>\n",
       "      <td>SET50</td>\n",
       "      <td>2022-02-02</td>\n",
       "    </tr>\n",
       "    <tr>\n",
       "      <th>5</th>\n",
       "      <td>B</td>\n",
       "      <td>GULF</td>\n",
       "      <td>6000</td>\n",
       "      <td>45.00</td>\n",
       "      <td>0</td>\n",
       "      <td>3L</td>\n",
       "      <td>SET50</td>\n",
       "      <td>2022-03-04</td>\n",
       "    </tr>\n",
       "    <tr>\n",
       "      <th>6</th>\n",
       "      <td>B</td>\n",
       "      <td>IVL</td>\n",
       "      <td>3000</td>\n",
       "      <td>48.00</td>\n",
       "      <td>0</td>\n",
       "      <td>P50%</td>\n",
       "      <td>SET50</td>\n",
       "      <td>2022-05-31</td>\n",
       "    </tr>\n",
       "    <tr>\n",
       "      <th>7</th>\n",
       "      <td>B</td>\n",
       "      <td>KBANK</td>\n",
       "      <td>1500</td>\n",
       "      <td>145.00</td>\n",
       "      <td>0</td>\n",
       "      <td>P50%</td>\n",
       "      <td>SET50</td>\n",
       "      <td>2022-04-18</td>\n",
       "    </tr>\n",
       "    <tr>\n",
       "      <th>8</th>\n",
       "      <td>B</td>\n",
       "      <td>KTC</td>\n",
       "      <td>2100</td>\n",
       "      <td>55.00</td>\n",
       "      <td>0</td>\n",
       "      <td>P25%</td>\n",
       "      <td>SET50</td>\n",
       "      <td>2022-04-18</td>\n",
       "    </tr>\n",
       "    <tr>\n",
       "      <th>9</th>\n",
       "      <td>B</td>\n",
       "      <td>SINGER</td>\n",
       "      <td>3000</td>\n",
       "      <td>47.00</td>\n",
       "      <td>0</td>\n",
       "      <td>3L</td>\n",
       "      <td>SET100</td>\n",
       "      <td>2022-02-02</td>\n",
       "    </tr>\n",
       "    <tr>\n",
       "      <th>10</th>\n",
       "      <td>B</td>\n",
       "      <td>SSP</td>\n",
       "      <td>10000</td>\n",
       "      <td>9.00</td>\n",
       "      <td>0</td>\n",
       "      <td>6L</td>\n",
       "      <td>SET</td>\n",
       "      <td>2022-02-02</td>\n",
       "    </tr>\n",
       "    <tr>\n",
       "      <th>11</th>\n",
       "      <td>B</td>\n",
       "      <td>STA</td>\n",
       "      <td>1500</td>\n",
       "      <td>21.80</td>\n",
       "      <td>0</td>\n",
       "      <td>CUT</td>\n",
       "      <td>SET100</td>\n",
       "      <td>2022-04-19</td>\n",
       "    </tr>\n",
       "    <tr>\n",
       "      <th>12</th>\n",
       "      <td>B</td>\n",
       "      <td>STANLY</td>\n",
       "      <td>600</td>\n",
       "      <td>177.00</td>\n",
       "      <td>0</td>\n",
       "      <td>P50%</td>\n",
       "      <td>SET</td>\n",
       "      <td>2022-02-02</td>\n",
       "    </tr>\n",
       "    <tr>\n",
       "      <th>13</th>\n",
       "      <td>S</td>\n",
       "      <td>BDMS</td>\n",
       "      <td>1500</td>\n",
       "      <td>26.25</td>\n",
       "      <td>0</td>\n",
       "      <td>CP1S</td>\n",
       "      <td>SET50</td>\n",
       "      <td>2022-03-09</td>\n",
       "    </tr>\n",
       "    <tr>\n",
       "      <th>14</th>\n",
       "      <td>S</td>\n",
       "      <td>KCE</td>\n",
       "      <td>1000</td>\n",
       "      <td>68.00</td>\n",
       "      <td>0</td>\n",
       "      <td>1L</td>\n",
       "      <td>SET50</td>\n",
       "      <td>2022-03-21</td>\n",
       "    </tr>\n",
       "    <tr>\n",
       "      <th>15</th>\n",
       "      <td>S</td>\n",
       "      <td>MAKRO</td>\n",
       "      <td>1500</td>\n",
       "      <td>39.00</td>\n",
       "      <td>0</td>\n",
       "      <td>6M</td>\n",
       "      <td>SET</td>\n",
       "      <td>2022-03-03</td>\n",
       "    </tr>\n",
       "    <tr>\n",
       "      <th>16</th>\n",
       "      <td>S</td>\n",
       "      <td>NER</td>\n",
       "      <td>9000</td>\n",
       "      <td>7.10</td>\n",
       "      <td>0</td>\n",
       "      <td>P50%</td>\n",
       "      <td>SET</td>\n",
       "      <td>2022-04-19</td>\n",
       "    </tr>\n",
       "    <tr>\n",
       "      <th>17</th>\n",
       "      <td>S</td>\n",
       "      <td>ORI</td>\n",
       "      <td>15000</td>\n",
       "      <td>11.10</td>\n",
       "      <td>0</td>\n",
       "      <td>CP1S</td>\n",
       "      <td>SET100</td>\n",
       "      <td>2022-05-09</td>\n",
       "    </tr>\n",
       "    <tr>\n",
       "      <th>18</th>\n",
       "      <td>S</td>\n",
       "      <td>RCL</td>\n",
       "      <td>4000</td>\n",
       "      <td>47.50</td>\n",
       "      <td>0</td>\n",
       "      <td>CP1S</td>\n",
       "      <td>SET100</td>\n",
       "      <td>2022-03-23</td>\n",
       "    </tr>\n",
       "    <tr>\n",
       "      <th>19</th>\n",
       "      <td>S</td>\n",
       "      <td>SIS</td>\n",
       "      <td>3600</td>\n",
       "      <td>28.75</td>\n",
       "      <td>0</td>\n",
       "      <td>C28.50</td>\n",
       "      <td>SET</td>\n",
       "      <td>2022-03-10</td>\n",
       "    </tr>\n",
       "    <tr>\n",
       "      <th>20</th>\n",
       "      <td>S</td>\n",
       "      <td>TMT</td>\n",
       "      <td>12000</td>\n",
       "      <td>9.00</td>\n",
       "      <td>0</td>\n",
       "      <td>RD10pct</td>\n",
       "      <td>SET</td>\n",
       "      <td>2022-04-18</td>\n",
       "    </tr>\n",
       "    <tr>\n",
       "      <th>21</th>\n",
       "      <td>S</td>\n",
       "      <td>TOP</td>\n",
       "      <td>1500</td>\n",
       "      <td>60.50</td>\n",
       "      <td>0</td>\n",
       "      <td>RD15pct</td>\n",
       "      <td>SET50</td>\n",
       "      <td>2022-03-03</td>\n",
       "    </tr>\n",
       "    <tr>\n",
       "      <th>22</th>\n",
       "      <td>S</td>\n",
       "      <td>TTB</td>\n",
       "      <td>100000</td>\n",
       "      <td>1.33</td>\n",
       "      <td>0</td>\n",
       "      <td>5pct</td>\n",
       "      <td>SET50</td>\n",
       "      <td>2022-04-21</td>\n",
       "    </tr>\n",
       "  </tbody>\n",
       "</table>\n",
       "</div>"
      ],
      "text/plain": [
       "   trade    name     qty   price  active   reason  market       xdate\n",
       "0      B     ASK    3000   32.00       0     MinP     SET  2022-03-03\n",
       "1      B     BBL    2400  128.00       0     P50%   SET50  2022-04-22\n",
       "2      B    BCPG   12000   11.00       0     MinP  SET100  2022-02-02\n",
       "3      B     DIF   10000   13.70       0      CUT     SET  2022-05-17\n",
       "4      B  GLOBAL    9000   18.40       0       3L   SET50  2022-02-02\n",
       "5      B    GULF    6000   45.00       0       3L   SET50  2022-03-04\n",
       "6      B     IVL    3000   48.00       0     P50%   SET50  2022-05-31\n",
       "7      B   KBANK    1500  145.00       0     P50%   SET50  2022-04-18\n",
       "8      B     KTC    2100   55.00       0     P25%   SET50  2022-04-18\n",
       "9      B  SINGER    3000   47.00       0       3L  SET100  2022-02-02\n",
       "10     B     SSP   10000    9.00       0       6L     SET  2022-02-02\n",
       "11     B     STA    1500   21.80       0      CUT  SET100  2022-04-19\n",
       "12     B  STANLY     600  177.00       0     P50%     SET  2022-02-02\n",
       "13     S    BDMS    1500   26.25       0     CP1S   SET50  2022-03-09\n",
       "14     S     KCE    1000   68.00       0       1L   SET50  2022-03-21\n",
       "15     S   MAKRO    1500   39.00       0       6M     SET  2022-03-03\n",
       "16     S     NER    9000    7.10       0     P50%     SET  2022-04-19\n",
       "17     S     ORI   15000   11.10       0     CP1S  SET100  2022-05-09\n",
       "18     S     RCL    4000   47.50       0     CP1S  SET100  2022-03-23\n",
       "19     S     SIS    3600   28.75       0   C28.50     SET  2022-03-10\n",
       "20     S     TMT   12000    9.00       0  RD10pct     SET  2022-04-18\n",
       "21     S     TOP    1500   60.50       0  RD15pct   SET50  2022-03-03\n",
       "22     S     TTB  100000    1.33       0     5pct   SET50  2022-04-21"
      ]
     },
     "execution_count": 54,
     "metadata": {},
     "output_type": "execute_result"
    }
   ],
   "source": [
    "orders[colt]"
   ]
  },
  {
   "cell_type": "code",
   "execution_count": 55,
   "metadata": {},
   "outputs": [],
   "source": [
    "file_name = 'orders.csv'\n",
    "data_file = data_path + file_name\n",
    "output_file = csv_path + file_name\n",
    "box_file = box_path + file_name\n",
    "data_file, output_file, box_file\n",
    "\n",
    "orders[colt].to_csv(output_file, header=True, index=False)\n",
    "orders[colt].to_csv(data_file,   header=True, index=False)\n",
    "orders[colt].to_csv(box_file,    header=True, index=False)"
   ]
  },
  {
   "cell_type": "markdown",
   "metadata": {},
   "source": [
    "### After call ord-log"
   ]
  },
  {
   "cell_type": "code",
   "execution_count": 56,
   "metadata": {},
   "outputs": [],
   "source": [
    "def categorise(row):  \n",
    "    if row['col0'] == 'B':\n",
    "        return 'Buy'\n",
    "    else:\n",
    "        return 'Sell'"
   ]
  },
  {
   "cell_type": "code",
   "execution_count": 57,
   "metadata": {},
   "outputs": [
    {
     "data": {
      "text/plain": [
       "col0       object\n",
       "name       object\n",
       "spd        object\n",
       "reason     object\n",
       "market     object\n",
       "qty        object\n",
       "target     object\n",
       "current    object\n",
       "chg        object\n",
       "percent    object\n",
       "trans      object\n",
       "dtype: object"
      ]
     },
     "execution_count": 57,
     "metadata": {},
     "output_type": "execute_result"
    }
   ],
   "source": [
    "df = pd.read_csv('../data/orders-log.csv', header=None, prefix = 'col',usecols=[0,1,2,3,4,5,6,7,8,9])\n",
    "df.rename(columns = {'col1': 'name', 'col2': 'spd','col3': 'reason', 'col4': 'market','col5': 'qty', 'col6': 'target','col7': 'current', 'col8': 'chg', 'col9': 'percent'}, inplace = True)\n",
    "df['trans'] = df.apply(lambda row: categorise(row), axis=1)\n",
    "#df['qty'] = df['qty'].astype('int64')\n",
    "df.dtypes"
   ]
  },
  {
   "cell_type": "code",
   "execution_count": 58,
   "metadata": {
    "scrolled": false
   },
   "outputs": [
    {
     "data": {
      "application/javascript": [
       "require.config({\n",
       "    paths: {\n",
       "        datatables: 'https://cdn.datatables.net/1.10.19/js/jquery.dataTables.min',\n",
       "    }\n",
       "});\n",
       "\n",
       "$('head').append('<link rel=\"stylesheet\" type=\"text/css\" \\\n",
       "                href = \"https://cdn.datatables.net/1.10.19/css/jquery.dataTables.min.css\" > ');\n",
       "\n",
       "$('head').append('<style> table td { text-overflow: ellipsis; overflow: hidden; } </style>');\n",
       "\n",
       "$('head').append(`<script>\n",
       "function eval_functions(map_or_text) {\n",
       "    if (typeof map_or_text === \"string\") {\n",
       "        if (map_or_text.startsWith(\"function\")) {\n",
       "            try {\n",
       "                // Note: parenthesis are required around the whole expression for eval to return a value!\n",
       "                // See https://stackoverflow.com/a/7399078/911298.\n",
       "                //\n",
       "                // eval(\"local_fun = \" + map_or_text) would fail because local_fun is not declared\n",
       "                // (using var, let or const would work, but it would only be declared in the local scope\n",
       "                // and therefore the value could not be retrieved).\n",
       "                const func = eval(\"(\" + map_or_text + \")\");\n",
       "                if (typeof func !== \"function\") {\n",
       "                    // Note: backquotes are super convenient!\n",
       "                    // https://developer.mozilla.org/en-US/docs/Web/JavaScript/Reference/Template_literals\n",
       "                    console.error(\"Evaluated expression \" + map_or_text + \" is not a function (type is \" + typeof func + \")\");\n",
       "                    return map_or_text;\n",
       "                }\n",
       "                // Return the function\n",
       "                return func;\n",
       "            } catch (e) {\n",
       "                // Make sure to print the error with a second argument to console.error().\n",
       "                console.error(\"itables was not able to parse \" + map_or_text, e);\n",
       "            }\n",
       "        }\n",
       "    } else if (typeof map_or_text === \"object\") {\n",
       "        if (map_or_text instanceof Array) {\n",
       "            // Note: \"var\" is now superseded by \"let\" and \"const\".\n",
       "            // https://medium.com/javascript-scene/javascript-es6-var-let-or-const-ba58b8dcde75\n",
       "            const result = [];\n",
       "            // Note: \"for of\" is the best way to iterate through an iterable.\n",
       "            // https://developer.mozilla.org/en-US/docs/Web/JavaScript/Reference/Statements/for...of\n",
       "            for (const item of map_or_text) {\n",
       "                result.push(eval_functions(item));\n",
       "            }\n",
       "            return result;\n",
       "\n",
       "            // Alternatively, more functional approach in one line:\n",
       "            // return map_or_text.map(eval_functions);\n",
       "        } else {\n",
       "            const result = {};\n",
       "            // Object.keys() is safer than \"for in\" because otherwise you might have keys\n",
       "            // that aren't defined in the object itself.\n",
       "            //\n",
       "            // See https://stackoverflow.com/a/684692/911298.\n",
       "            for (const item of Object.keys(map_or_text)) {\n",
       "                result[item] = eval_functions(map_or_text[item]);\n",
       "            }\n",
       "            return result;\n",
       "        }\n",
       "    }\n",
       "\n",
       "    return map_or_text;\n",
       "}\n",
       "\n",
       "</` + 'script>');"
      ],
      "text/plain": [
       "<IPython.core.display.Javascript object>"
      ]
     },
     "metadata": {},
     "output_type": "display_data"
    },
    {
     "data": {
      "text/html": [
       "<div><table id=\"291ac2f3-abe8-4351-bce6-4bd44894a0fc\" class=\"display\"><thead>\n",
       "    <tr style=\"text-align: right;\">\n",
       "      \n",
       "      <th>trans</th>\n",
       "      <th>name</th>\n",
       "      <th>spd</th>\n",
       "      <th>reason</th>\n",
       "      <th>qty</th>\n",
       "      <th>target</th>\n",
       "      <th>current</th>\n",
       "      <th>chg</th>\n",
       "      <th>percent</th>\n",
       "    </tr>\n",
       "  </thead></table>\n",
       "<script type=\"text/javascript\">\n",
       "require([\"datatables\"], function (datatables) {\n",
       "    $(document).ready(function () {\n",
       "        var dt_args = {\"columnDefs\": [{\"width\": \"70px\", \"targets\": \"_all\"}], \"data\": [[\"Sell\", \"name\", \"spd\", \"reason\", \"qty\", \"target\", \"current\", \"change\", \"percent\"], [\"Buy\", \"ASK\", \"-7\", \"MinP\", \"3000\", \"32.0\", \"33.75\", \"+0.50\", \"+1.50%\"], [\"Buy\", \"BBL\", \"-16\", \"P50%\", \"2400\", \"128.0\", \"136.00\", \"+1.00\", \"+0.74%\"], [\"Buy\", \"BCPG\", \"-2\", \"MinP\", \"12000\", \"11.0\", \"11.20\", \"0.00\", \"0.00%\"], [\"Buy\", \"DIF\", \"2\", \"CUT\", \"10000\", \"13.7\", \"13.50\", \"+0.20\", \"+1.50%\"], [\"Buy\", \"GLOBAL\", \"-6\", \"3L\", \"9000\", \"18.4\", \"19.00\", \"-0.20\", \"-1.04%\"], [\"Buy\", \"GULF\", \"-6\", \"3L\", \"6000\", \"45.0\", \"46.50\", \"+1.25\", \"+2.76%\"], [\"Buy\", \"IVL\", \"2\", \"P50%\", \"3000\", \"48.0\", \"47.50\", \"-2.75\", \"-5.47%\"], [\"Buy\", \"KBANK\", \"-10\", \"P50%\", \"1500\", \"145.0\", \"150.00\", \"+2.00\", \"+1.35%\"], [\"Buy\", \"KTC\", \"-10\", \"P25%\", \"2100\", \"55.0\", \"57.50\", \"+0.50\", \"+0.88%\"], [\"Buy\", \"SINGER\", \"-7\", \"3L\", \"3000\", \"47.0\", \"48.75\", \"+1.00\", \"+2.09%\"], [\"Buy\", \"SSP\", \"-12\", \"6L\", \"10000\", \"9.0\", \"9.60\", \"+0.10\", \"+1.05%\"], [\"Buy\", \"STA\", \"5\", \"CUT\", \"1500\", \"21.8\", \"21.30\", \"-0.10\", \"-0.47%\"], [\"Buy\", \"STANLY\", \"-2\", \"P50%\", \"600\", \"177.0\", \"178.00\", \"0.00\", \"0.00%\"], [\"Sell\", \"BDMS\", \"13\", \"CP1S\", \"1500\", \"26.25\", \"24.20\", \"+0.10\", \"+0.41%\"], [\"Sell\", \"KCE\", \"25\", \"1L\", \"1000\", \"68.0\", \"61.75\", \"+0.50\", \"+0.82%\"], [\"Sell\", \"MAKRO\", \"16\", \"6M\", \"1500\", \"39.0\", \"35.00\", \"+0.50\", \"+1.45%\"], [\"Sell\", \"NER\", \"19\", \"P50%\", \"9000\", \"7.1\", \"6.15\", \"0.00\", \"0.00%\"], [\"Sell\", \"ORI\", \"11\", \"CP1S\", \"15000\", \"11.1\", \"10.00\", \"-0.10\", \"-0.99%\"], [\"Sell\", \"RCL\", \"21\", \"CP1S\", \"4000\", \"47.5\", \"42.25\", \"+0.25\", \"+0.60%\"], [\"Sell\", \"SIS\", \"9\", \"C28.50\", \"3600\", \"28.75\", \"26.50\", \"+0.25\", \"+0.95%\"], [\"Sell\", \"TMT\", \"0\", \"RD10pct\", \"12000\", \"9.0\", \"9.00\", \"0.00\", \"0.00%\"], [\"Sell\", \"TOP\", \"44\", \"RD15pct\", \"1500\", \"60.5\", \"49.50\", \"-3.75\", \"-7.04%\"], [\"Sell\", \"TTB\", \"7\", \"5pct\", \"100000\", \"1.33\", \"1.26\", \"+0.02\", \"+1.61%\"]]};\n",
       "        dt_args = eval_functions(dt_args);\n",
       "        table = $('#291ac2f3-abe8-4351-bce6-4bd44894a0fc').DataTable(dt_args);\n",
       "    });\n",
       "})\n",
       "</script>\n",
       "</div>\n"
      ],
      "text/plain": [
       "<IPython.core.display.HTML object>"
      ]
     },
     "metadata": {},
     "output_type": "display_data"
    }
   ],
   "source": [
    "from itables import show\n",
    "show(df[['trans','name','spd','reason','qty','target','current','chg','percent']])"
   ]
  },
  {
   "cell_type": "code",
   "execution_count": 59,
   "metadata": {},
   "outputs": [
    {
     "data": {
      "text/plain": [
       "0"
      ]
     },
     "execution_count": 59,
     "metadata": {},
     "output_type": "execute_result"
    }
   ],
   "source": [
    "sql = '''\n",
    "UPDATE stocks\n",
    "SET buy_target = 0\n",
    "WHERE buy_target IS NULL'''\n",
    "rp = conlite.execute(sql)\n",
    "rp.rowcount"
   ]
  },
  {
   "cell_type": "code",
   "execution_count": 60,
   "metadata": {},
   "outputs": [
    {
     "data": {
      "text/plain": [
       "0"
      ]
     },
     "execution_count": 60,
     "metadata": {},
     "output_type": "execute_result"
    }
   ],
   "source": [
    "sql = '''\n",
    "UPDATE stocks\n",
    "SET sell_target = 0\n",
    "WHERE sell_target IS NULL'''\n",
    "rp = conlite.execute(sql)\n",
    "rp.rowcount"
   ]
  },
  {
   "cell_type": "code",
   "execution_count": 61,
   "metadata": {},
   "outputs": [
    {
     "data": {
      "text/plain": [
       "0"
      ]
     },
     "execution_count": 61,
     "metadata": {},
     "output_type": "execute_result"
    }
   ],
   "source": [
    "sql = '''\n",
    "UPDATE stocks\n",
    "SET available_qty = 0\n",
    "WHERE available_qty IS NULL'''\n",
    "rp = conlite.execute(sql)\n",
    "rp.rowcount"
   ]
  },
  {
   "cell_type": "code",
   "execution_count": 62,
   "metadata": {},
   "outputs": [
    {
     "data": {
      "text/plain": [
       "0"
      ]
     },
     "execution_count": 62,
     "metadata": {},
     "output_type": "execute_result"
    }
   ],
   "source": [
    "sql = '''\n",
    "UPDATE stocks\n",
    "SET cost = 0\n",
    "WHERE cost IS NULL'''\n",
    "rp = conlite.execute(sql)\n",
    "rp.rowcount"
   ]
  },
  {
   "cell_type": "code",
   "execution_count": 63,
   "metadata": {},
   "outputs": [
    {
     "data": {
      "text/plain": [
       "0"
      ]
     },
     "execution_count": 63,
     "metadata": {},
     "output_type": "execute_result"
    }
   ],
   "source": [
    "sql = '''\n",
    "UPDATE stocks\n",
    "SET qty = 0\n",
    "WHERE qty IS NULL'''\n",
    "rp = conlite.execute(sql)\n",
    "rp.rowcount"
   ]
  },
  {
   "cell_type": "code",
   "execution_count": 64,
   "metadata": {},
   "outputs": [
    {
     "data": {
      "text/html": [
       "<style type=\"text/css\">\n",
       "</style>\n",
       "<table id=\"T_ecf63_\">\n",
       "  <thead>\n",
       "    <tr>\n",
       "      <th class=\"blank level0\" >&nbsp;</th>\n",
       "      <th class=\"col_heading level0 col0\" >id</th>\n",
       "      <th class=\"col_heading level0 col1\" >name</th>\n",
       "      <th class=\"col_heading level0 col2\" >max_price</th>\n",
       "      <th class=\"col_heading level0 col3\" >min_price</th>\n",
       "      <th class=\"col_heading level0 col4\" >status</th>\n",
       "      <th class=\"col_heading level0 col5\" >buy_target</th>\n",
       "      <th class=\"col_heading level0 col6\" >sell_target</th>\n",
       "      <th class=\"col_heading level0 col7\" >volume</th>\n",
       "      <th class=\"col_heading level0 col8\" >beta</th>\n",
       "      <th class=\"col_heading level0 col9\" >cost</th>\n",
       "      <th class=\"col_heading level0 col10\" >qty</th>\n",
       "      <th class=\"col_heading level0 col11\" >buy_spread</th>\n",
       "      <th class=\"col_heading level0 col12\" >sell_spread</th>\n",
       "      <th class=\"col_heading level0 col13\" >available_qty</th>\n",
       "      <th class=\"col_heading level0 col14\" >bl</th>\n",
       "      <th class=\"col_heading level0 col15\" >sh</th>\n",
       "      <th class=\"col_heading level0 col16\" >reason</th>\n",
       "      <th class=\"col_heading level0 col17\" >market</th>\n",
       "    </tr>\n",
       "  </thead>\n",
       "  <tbody>\n",
       "  </tbody>\n",
       "</table>\n"
      ],
      "text/plain": [
       "<pandas.io.formats.style.Styler at 0x1a1cfc482e0>"
      ]
     },
     "execution_count": 64,
     "metadata": {},
     "output_type": "execute_result"
    }
   ],
   "source": [
    "qty_mask = (stocks.qty == 0) & (stocks.status.isin(['B','I','O','S']))\n",
    "stocks[qty_mask].style.format(format_dict)"
   ]
  },
  {
   "cell_type": "code",
   "execution_count": 65,
   "metadata": {},
   "outputs": [
    {
     "data": {
      "text/html": [
       "<style type=\"text/css\">\n",
       "</style>\n",
       "<table id=\"T_a06a3_\">\n",
       "  <thead>\n",
       "    <tr>\n",
       "      <th class=\"blank level0\" >&nbsp;</th>\n",
       "      <th class=\"col_heading level0 col0\" >id</th>\n",
       "      <th class=\"col_heading level0 col1\" >name</th>\n",
       "      <th class=\"col_heading level0 col2\" >max_price</th>\n",
       "      <th class=\"col_heading level0 col3\" >min_price</th>\n",
       "      <th class=\"col_heading level0 col4\" >status</th>\n",
       "      <th class=\"col_heading level0 col5\" >buy_target</th>\n",
       "      <th class=\"col_heading level0 col6\" >sell_target</th>\n",
       "      <th class=\"col_heading level0 col7\" >volume</th>\n",
       "      <th class=\"col_heading level0 col8\" >beta</th>\n",
       "      <th class=\"col_heading level0 col9\" >cost</th>\n",
       "      <th class=\"col_heading level0 col10\" >qty</th>\n",
       "      <th class=\"col_heading level0 col11\" >buy_spread</th>\n",
       "      <th class=\"col_heading level0 col12\" >sell_spread</th>\n",
       "      <th class=\"col_heading level0 col13\" >available_qty</th>\n",
       "      <th class=\"col_heading level0 col14\" >bl</th>\n",
       "      <th class=\"col_heading level0 col15\" >sh</th>\n",
       "      <th class=\"col_heading level0 col16\" >reason</th>\n",
       "      <th class=\"col_heading level0 col17\" >market</th>\n",
       "    </tr>\n",
       "  </thead>\n",
       "  <tbody>\n",
       "  </tbody>\n",
       "</table>\n"
      ],
      "text/plain": [
       "<pandas.io.formats.style.Styler at 0x1a1cfa39700>"
      ]
     },
     "execution_count": 65,
     "metadata": {},
     "output_type": "execute_result"
    }
   ],
   "source": [
    "buy_mask = (stocks.buy_target == 0) & (stocks.status.isin(['B','O']))\n",
    "stocks[buy_mask].style.format(format_dict)"
   ]
  },
  {
   "cell_type": "code",
   "execution_count": 66,
   "metadata": {},
   "outputs": [
    {
     "data": {
      "text/html": [
       "<style type=\"text/css\">\n",
       "</style>\n",
       "<table id=\"T_54df4_\">\n",
       "  <thead>\n",
       "    <tr>\n",
       "      <th class=\"blank level0\" >&nbsp;</th>\n",
       "      <th class=\"col_heading level0 col0\" >id</th>\n",
       "      <th class=\"col_heading level0 col1\" >name</th>\n",
       "      <th class=\"col_heading level0 col2\" >max_price</th>\n",
       "      <th class=\"col_heading level0 col3\" >min_price</th>\n",
       "      <th class=\"col_heading level0 col4\" >status</th>\n",
       "      <th class=\"col_heading level0 col5\" >buy_target</th>\n",
       "      <th class=\"col_heading level0 col6\" >sell_target</th>\n",
       "      <th class=\"col_heading level0 col7\" >volume</th>\n",
       "      <th class=\"col_heading level0 col8\" >beta</th>\n",
       "      <th class=\"col_heading level0 col9\" >cost</th>\n",
       "      <th class=\"col_heading level0 col10\" >qty</th>\n",
       "      <th class=\"col_heading level0 col11\" >buy_spread</th>\n",
       "      <th class=\"col_heading level0 col12\" >sell_spread</th>\n",
       "      <th class=\"col_heading level0 col13\" >available_qty</th>\n",
       "      <th class=\"col_heading level0 col14\" >bl</th>\n",
       "      <th class=\"col_heading level0 col15\" >sh</th>\n",
       "      <th class=\"col_heading level0 col16\" >reason</th>\n",
       "      <th class=\"col_heading level0 col17\" >market</th>\n",
       "    </tr>\n",
       "  </thead>\n",
       "  <tbody>\n",
       "  </tbody>\n",
       "</table>\n"
      ],
      "text/plain": [
       "<pandas.io.formats.style.Styler at 0x1a1cfc483d0>"
      ]
     },
     "execution_count": 66,
     "metadata": {},
     "output_type": "execute_result"
    }
   ],
   "source": [
    "sell_mask = (stocks.sell_target == 0) & (stocks.status.isin(['I','S']))\n",
    "stocks[sell_mask].style.format(format_dict)"
   ]
  }
 ],
 "metadata": {
  "anaconda-cloud": {},
  "kernelspec": {
   "display_name": "Python 3 (ipykernel)",
   "language": "python",
   "name": "python3"
  },
  "language_info": {
   "codemirror_mode": {
    "name": "ipython",
    "version": 3
   },
   "file_extension": ".py",
   "mimetype": "text/x-python",
   "name": "python",
   "nbconvert_exporter": "python",
   "pygments_lexer": "ipython3",
   "version": "3.8.11"
  }
 },
 "nbformat": 4,
 "nbformat_minor": 1
}
