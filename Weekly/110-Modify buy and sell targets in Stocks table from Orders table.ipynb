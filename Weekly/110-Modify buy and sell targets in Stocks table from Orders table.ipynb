{
 "cells": [
  {
   "cell_type": "code",
   "execution_count": 1,
   "metadata": {},
   "outputs": [],
   "source": [
    "import calendar\n",
    "import pandas as pd\n",
    "from datetime import date, timedelta\n",
    "from sqlalchemy import create_engine\n",
    "\n",
    "engine = create_engine(\"sqlite:///c:\\\\ruby\\\\port_lite\\\\db\\\\development.sqlite3\")\n",
    "conlite = engine.connect()\n",
    "\n",
    "data_path = \"../data/\"\n",
    "csv_path = \"\\\\Users\\\\User\\\\iCloudDrive\\\\\"\n",
    "box_path = \"\\\\Users\\\\User\\\\Dropbox\\\\\""
   ]
  },
  {
   "cell_type": "markdown",
   "metadata": {},
   "source": [
    "### Tables in the process"
   ]
  },
  {
   "cell_type": "code",
   "execution_count": 2,
   "metadata": {},
   "outputs": [],
   "source": [
    "cols = 'trade name qty_x price reason_x qty_y buy_target sell_target reason_y'.split()\n",
    "colt = 'trade name qty price active reason market xdate'.split()"
   ]
  },
  {
   "cell_type": "code",
   "execution_count": 3,
   "metadata": {},
   "outputs": [],
   "source": [
    "format_dict = {\n",
    "    'qty':'{:,}','qty_x':'{:,}','qty_y':'{:,}','available_qty':'{:,}','eps_a':'{:.2f}','eps_b':'{:.2f}',\n",
    "    'volbuy':'{:,}','volsell':'{:,}','volbal':'{:,}',\n",
    "    'pe':'{:.2f}','pbv':'{:.2f}','max':'{:.2f}','min':'{:.2f}','dividend':'{:.4f}',\n",
    "    'maxp':'{:.2f}','minp':'{:.2f}','opnp':'{:.2f}',\n",
    "    'paid_up':'{:,.2f}','market_cap':'{:,.2f}','daily_volume':'{:,.2f}','dly_vol':'{:,.2f}',\n",
    "    'price':'{:.2f}','target_price':'{:.2f}','max_price':'{:.2f}','min_price':'{:.2f}','price_d':'{:.2f}','price_w':'{:.2f}',\n",
    "    'buy_target':'{:.2f}','sell_target':'{:.2f}','target':'{:.2f}','current':'{:.2f}',\n",
    "    'beta':'{:.2f}','amount':'{:,.2f}','sell_amt':'{:,.2f}','volume':'{:,.2f}','percent':'{:,.2f}',\n",
    "    'q_amt':'{:,}','y_amt':'{:,}','aq_amt':'{:,}','ay_amt':'{:,}','yoy_gain':'{:,}','acc_gain':'{:,}',    \n",
    "    'q_eps':'{:.4f}','y_eps':'{:.4f}','aq_eps':'{:.4f}','ay_eps':'{:.4f}',\n",
    "    'yoy_pct':'{:.2f}%','acc_pct':'{:.2f}%','yield':'{:.2f}%',\n",
    "    'q_amt': '{:,}','y_amt': '{:,}','yoy_gain': '{:,}','q_amt_c': '{:,}','q_amt_p': '{:,}','aq_amt': '{:,}','ay_amt': '{:,}',\n",
    "    'acc_gain': '{:,}','latest_amt': '{:,}','previous_amt': '{:,}','inc_amt': '{:,}',\n",
    "    'inc_amt_pq': '{:,}','inc_amt_py': '{:,}',    'latest_amt_q': '{:,}','previous_amt_q': '{:,}','inc_amt_q': '{:,}',\n",
    "    'latest_amt_y': '{:,}','previous_amt_y': '{:,}','inc_amt_y': '{:,}','kind_x': '{:,}',\n",
    "    'inc_pct': '{:.2f}%','inc_pct_q': '{:.2f}%','pct': '{:.2f}%','percent': '{:.2f}%',\n",
    "    'inc_pct_y': '{:.2f}%','inc_pct_pq': '{:.2f}%','inc_pct_py': '{:.2f}%','mean_pct': '{:.2f}%','std_pct': '{:.2f}%',      \n",
    "}"
   ]
  },
  {
   "cell_type": "markdown",
   "metadata": {},
   "source": [
    "### Begin of Loop"
   ]
  },
  {
   "cell_type": "code",
   "execution_count": 4,
   "metadata": {},
   "outputs": [
    {
     "data": {
      "text/html": [
       "<style type=\"text/css\">\n",
       "</style>\n",
       "<table id=\"T_aa4e2_\">\n",
       "  <thead>\n",
       "    <tr>\n",
       "      <th class=\"blank level0\" >&nbsp;</th>\n",
       "      <th class=\"col_heading level0 col0\" >trade</th>\n",
       "      <th class=\"col_heading level0 col1\" >name</th>\n",
       "      <th class=\"col_heading level0 col2\" >qty</th>\n",
       "      <th class=\"col_heading level0 col3\" >price</th>\n",
       "      <th class=\"col_heading level0 col4\" >amount</th>\n",
       "      <th class=\"col_heading level0 col5\" >reason</th>\n",
       "      <th class=\"col_heading level0 col6\" >market</th>\n",
       "      <th class=\"col_heading level0 col7\" >active</th>\n",
       "      <th class=\"col_heading level0 col8\" >xdate</th>\n",
       "    </tr>\n",
       "  </thead>\n",
       "  <tbody>\n",
       "    <tr>\n",
       "      <th id=\"T_aa4e2_level0_row0\" class=\"row_heading level0 row0\" >0</th>\n",
       "      <td id=\"T_aa4e2_row0_col0\" class=\"data row0 col0\" >B</td>\n",
       "      <td id=\"T_aa4e2_row0_col1\" class=\"data row0 col1\" >AP</td>\n",
       "      <td id=\"T_aa4e2_row0_col2\" class=\"data row0 col2\" >10,000</td>\n",
       "      <td id=\"T_aa4e2_row0_col3\" class=\"data row0 col3\" >9.50</td>\n",
       "      <td id=\"T_aa4e2_row0_col4\" class=\"data row0 col4\" >95,000.00</td>\n",
       "      <td id=\"T_aa4e2_row0_col5\" class=\"data row0 col5\" >MinP</td>\n",
       "      <td id=\"T_aa4e2_row0_col6\" class=\"data row0 col6\" >SET100</td>\n",
       "      <td id=\"T_aa4e2_row0_col7\" class=\"data row0 col7\" >1</td>\n",
       "      <td id=\"T_aa4e2_row0_col8\" class=\"data row0 col8\" >2022-05-10</td>\n",
       "    </tr>\n",
       "    <tr>\n",
       "      <th id=\"T_aa4e2_level0_row1\" class=\"row_heading level0 row1\" >1</th>\n",
       "      <td id=\"T_aa4e2_row1_col0\" class=\"data row1 col0\" >B</td>\n",
       "      <td id=\"T_aa4e2_row1_col1\" class=\"data row1 col1\" >ASK</td>\n",
       "      <td id=\"T_aa4e2_row1_col2\" class=\"data row1 col2\" >3,000</td>\n",
       "      <td id=\"T_aa4e2_row1_col3\" class=\"data row1 col3\" >32.00</td>\n",
       "      <td id=\"T_aa4e2_row1_col4\" class=\"data row1 col4\" >96,000.00</td>\n",
       "      <td id=\"T_aa4e2_row1_col5\" class=\"data row1 col5\" >MinP</td>\n",
       "      <td id=\"T_aa4e2_row1_col6\" class=\"data row1 col6\" >SET</td>\n",
       "      <td id=\"T_aa4e2_row1_col7\" class=\"data row1 col7\" >1</td>\n",
       "      <td id=\"T_aa4e2_row1_col8\" class=\"data row1 col8\" >2022-03-03</td>\n",
       "    </tr>\n",
       "    <tr>\n",
       "      <th id=\"T_aa4e2_level0_row2\" class=\"row_heading level0 row2\" >2</th>\n",
       "      <td id=\"T_aa4e2_row2_col0\" class=\"data row2 col0\" >B</td>\n",
       "      <td id=\"T_aa4e2_row2_col1\" class=\"data row2 col1\" >BCPG</td>\n",
       "      <td id=\"T_aa4e2_row2_col2\" class=\"data row2 col2\" >9,000</td>\n",
       "      <td id=\"T_aa4e2_row2_col3\" class=\"data row2 col3\" >10.50</td>\n",
       "      <td id=\"T_aa4e2_row2_col4\" class=\"data row2 col4\" >94,500.00</td>\n",
       "      <td id=\"T_aa4e2_row2_col5\" class=\"data row2 col5\" >52WL</td>\n",
       "      <td id=\"T_aa4e2_row2_col6\" class=\"data row2 col6\" >SET100</td>\n",
       "      <td id=\"T_aa4e2_row2_col7\" class=\"data row2 col7\" >1</td>\n",
       "      <td id=\"T_aa4e2_row2_col8\" class=\"data row2 col8\" >2022-02-02</td>\n",
       "    </tr>\n",
       "    <tr>\n",
       "      <th id=\"T_aa4e2_level0_row3\" class=\"row_heading level0 row3\" >3</th>\n",
       "      <td id=\"T_aa4e2_row3_col0\" class=\"data row3 col0\" >B</td>\n",
       "      <td id=\"T_aa4e2_row3_col1\" class=\"data row3 col1\" >BPP</td>\n",
       "      <td id=\"T_aa4e2_row3_col2\" class=\"data row3 col2\" >9,000</td>\n",
       "      <td id=\"T_aa4e2_row3_col3\" class=\"data row3 col3\" >14.00</td>\n",
       "      <td id=\"T_aa4e2_row3_col4\" class=\"data row3 col4\" >126,000.00</td>\n",
       "      <td id=\"T_aa4e2_row3_col5\" class=\"data row3 col5\" >MinP</td>\n",
       "      <td id=\"T_aa4e2_row3_col6\" class=\"data row3 col6\" >SET100</td>\n",
       "      <td id=\"T_aa4e2_row3_col7\" class=\"data row3 col7\" >1</td>\n",
       "      <td id=\"T_aa4e2_row3_col8\" class=\"data row3 col8\" >2022-02-02</td>\n",
       "    </tr>\n",
       "    <tr>\n",
       "      <th id=\"T_aa4e2_level0_row4\" class=\"row_heading level0 row4\" >4</th>\n",
       "      <td id=\"T_aa4e2_row4_col0\" class=\"data row4 col0\" >B</td>\n",
       "      <td id=\"T_aa4e2_row4_col1\" class=\"data row4 col1\" >DOHOME</td>\n",
       "      <td id=\"T_aa4e2_row4_col2\" class=\"data row4 col2\" >2,800</td>\n",
       "      <td id=\"T_aa4e2_row4_col3\" class=\"data row4 col3\" >15.80</td>\n",
       "      <td id=\"T_aa4e2_row4_col4\" class=\"data row4 col4\" >44,240.00</td>\n",
       "      <td id=\"T_aa4e2_row4_col5\" class=\"data row4 col5\" >RD20pct</td>\n",
       "      <td id=\"T_aa4e2_row4_col6\" class=\"data row4 col6\" >SET100</td>\n",
       "      <td id=\"T_aa4e2_row4_col7\" class=\"data row4 col7\" >0</td>\n",
       "      <td id=\"T_aa4e2_row4_col8\" class=\"data row4 col8\" >2022-02-02</td>\n",
       "    </tr>\n",
       "    <tr>\n",
       "      <th id=\"T_aa4e2_level0_row5\" class=\"row_heading level0 row5\" >5</th>\n",
       "      <td id=\"T_aa4e2_row5_col0\" class=\"data row5 col0\" >B</td>\n",
       "      <td id=\"T_aa4e2_row5_col1\" class=\"data row5 col1\" >IVL</td>\n",
       "      <td id=\"T_aa4e2_row5_col2\" class=\"data row5 col2\" >3,000</td>\n",
       "      <td id=\"T_aa4e2_row5_col3\" class=\"data row5 col3\" >46.25</td>\n",
       "      <td id=\"T_aa4e2_row5_col4\" class=\"data row5 col4\" >138,750.00</td>\n",
       "      <td id=\"T_aa4e2_row5_col5\" class=\"data row5 col5\" >P50%3M</td>\n",
       "      <td id=\"T_aa4e2_row5_col6\" class=\"data row5 col6\" >SET50</td>\n",
       "      <td id=\"T_aa4e2_row5_col7\" class=\"data row5 col7\" >1</td>\n",
       "      <td id=\"T_aa4e2_row5_col8\" class=\"data row5 col8\" >2022-05-31</td>\n",
       "    </tr>\n",
       "    <tr>\n",
       "      <th id=\"T_aa4e2_level0_row6\" class=\"row_heading level0 row6\" >6</th>\n",
       "      <td id=\"T_aa4e2_row6_col0\" class=\"data row6 col0\" >B</td>\n",
       "      <td id=\"T_aa4e2_row6_col1\" class=\"data row6 col1\" >KKP</td>\n",
       "      <td id=\"T_aa4e2_row6_col2\" class=\"data row6 col2\" >3,000</td>\n",
       "      <td id=\"T_aa4e2_row6_col3\" class=\"data row6 col3\" >60.00</td>\n",
       "      <td id=\"T_aa4e2_row6_col4\" class=\"data row6 col4\" >180,000.00</td>\n",
       "      <td id=\"T_aa4e2_row6_col5\" class=\"data row6 col5\" >52WL</td>\n",
       "      <td id=\"T_aa4e2_row6_col6\" class=\"data row6 col6\" >SET100</td>\n",
       "      <td id=\"T_aa4e2_row6_col7\" class=\"data row6 col7\" >1</td>\n",
       "      <td id=\"T_aa4e2_row6_col8\" class=\"data row6 col8\" >2022-04-28</td>\n",
       "    </tr>\n",
       "    <tr>\n",
       "      <th id=\"T_aa4e2_level0_row7\" class=\"row_heading level0 row7\" >7</th>\n",
       "      <td id=\"T_aa4e2_row7_col0\" class=\"data row7 col0\" >B</td>\n",
       "      <td id=\"T_aa4e2_row7_col1\" class=\"data row7 col1\" >KTC</td>\n",
       "      <td id=\"T_aa4e2_row7_col2\" class=\"data row7 col2\" >2,100</td>\n",
       "      <td id=\"T_aa4e2_row7_col3\" class=\"data row7 col3\" >55.00</td>\n",
       "      <td id=\"T_aa4e2_row7_col4\" class=\"data row7 col4\" >115,500.00</td>\n",
       "      <td id=\"T_aa4e2_row7_col5\" class=\"data row7 col5\" >P25%</td>\n",
       "      <td id=\"T_aa4e2_row7_col6\" class=\"data row7 col6\" >SET50</td>\n",
       "      <td id=\"T_aa4e2_row7_col7\" class=\"data row7 col7\" >0</td>\n",
       "      <td id=\"T_aa4e2_row7_col8\" class=\"data row7 col8\" >2022-04-18</td>\n",
       "    </tr>\n",
       "    <tr>\n",
       "      <th id=\"T_aa4e2_level0_row8\" class=\"row_heading level0 row8\" >8</th>\n",
       "      <td id=\"T_aa4e2_row8_col0\" class=\"data row8 col0\" >B</td>\n",
       "      <td id=\"T_aa4e2_row8_col1\" class=\"data row8 col1\" >MCS</td>\n",
       "      <td id=\"T_aa4e2_row8_col2\" class=\"data row8 col2\" >5,000</td>\n",
       "      <td id=\"T_aa4e2_row8_col3\" class=\"data row8 col3\" >11.40</td>\n",
       "      <td id=\"T_aa4e2_row8_col4\" class=\"data row8 col4\" >57,000.00</td>\n",
       "      <td id=\"T_aa4e2_row8_col5\" class=\"data row8 col5\" >RD25pct</td>\n",
       "      <td id=\"T_aa4e2_row8_col6\" class=\"data row8 col6\" >SET</td>\n",
       "      <td id=\"T_aa4e2_row8_col7\" class=\"data row8 col7\" >1</td>\n",
       "      <td id=\"T_aa4e2_row8_col8\" class=\"data row8 col8\" >2022-02-02</td>\n",
       "    </tr>\n",
       "    <tr>\n",
       "      <th id=\"T_aa4e2_level0_row9\" class=\"row_heading level0 row9\" >9</th>\n",
       "      <td id=\"T_aa4e2_row9_col0\" class=\"data row9 col0\" >B</td>\n",
       "      <td id=\"T_aa4e2_row9_col1\" class=\"data row9 col1\" >SSP</td>\n",
       "      <td id=\"T_aa4e2_row9_col2\" class=\"data row9 col2\" >10,000</td>\n",
       "      <td id=\"T_aa4e2_row9_col3\" class=\"data row9 col3\" >9.00</td>\n",
       "      <td id=\"T_aa4e2_row9_col4\" class=\"data row9 col4\" >90,000.00</td>\n",
       "      <td id=\"T_aa4e2_row9_col5\" class=\"data row9 col5\" >6L</td>\n",
       "      <td id=\"T_aa4e2_row9_col6\" class=\"data row9 col6\" >SET</td>\n",
       "      <td id=\"T_aa4e2_row9_col7\" class=\"data row9 col7\" >1</td>\n",
       "      <td id=\"T_aa4e2_row9_col8\" class=\"data row9 col8\" >2022-02-02</td>\n",
       "    </tr>\n",
       "    <tr>\n",
       "      <th id=\"T_aa4e2_level0_row10\" class=\"row_heading level0 row10\" >10</th>\n",
       "      <td id=\"T_aa4e2_row10_col0\" class=\"data row10 col0\" >B</td>\n",
       "      <td id=\"T_aa4e2_row10_col1\" class=\"data row10 col1\" >TMT</td>\n",
       "      <td id=\"T_aa4e2_row10_col2\" class=\"data row10 col2\" >12,000</td>\n",
       "      <td id=\"T_aa4e2_row10_col3\" class=\"data row10 col3\" >8.40</td>\n",
       "      <td id=\"T_aa4e2_row10_col4\" class=\"data row10 col4\" >100,800.00</td>\n",
       "      <td id=\"T_aa4e2_row10_col5\" class=\"data row10 col5\" >RD15pct</td>\n",
       "      <td id=\"T_aa4e2_row10_col6\" class=\"data row10 col6\" >SET</td>\n",
       "      <td id=\"T_aa4e2_row10_col7\" class=\"data row10 col7\" >1</td>\n",
       "      <td id=\"T_aa4e2_row10_col8\" class=\"data row10 col8\" >2022-04-18</td>\n",
       "    </tr>\n",
       "    <tr>\n",
       "      <th id=\"T_aa4e2_level0_row11\" class=\"row_heading level0 row11\" >11</th>\n",
       "      <td id=\"T_aa4e2_row11_col0\" class=\"data row11 col0\" >S</td>\n",
       "      <td id=\"T_aa4e2_row11_col1\" class=\"data row11 col1\" >BCH</td>\n",
       "      <td id=\"T_aa4e2_row11_col2\" class=\"data row11 col2\" >3,000</td>\n",
       "      <td id=\"T_aa4e2_row11_col3\" class=\"data row11 col3\" >21.00</td>\n",
       "      <td id=\"T_aa4e2_row11_col4\" class=\"data row11 col4\" >63,000.00</td>\n",
       "      <td id=\"T_aa4e2_row11_col5\" class=\"data row11 col5\" >CP1S</td>\n",
       "      <td id=\"T_aa4e2_row11_col6\" class=\"data row11 col6\" >SET100</td>\n",
       "      <td id=\"T_aa4e2_row11_col7\" class=\"data row11 col7\" >0</td>\n",
       "      <td id=\"T_aa4e2_row11_col8\" class=\"data row11 col8\" >2022-05-10</td>\n",
       "    </tr>\n",
       "    <tr>\n",
       "      <th id=\"T_aa4e2_level0_row12\" class=\"row_heading level0 row12\" >12</th>\n",
       "      <td id=\"T_aa4e2_row12_col0\" class=\"data row12 col0\" >S</td>\n",
       "      <td id=\"T_aa4e2_row12_col1\" class=\"data row12 col1\" >JASIF</td>\n",
       "      <td id=\"T_aa4e2_row12_col2\" class=\"data row12 col2\" >10,000</td>\n",
       "      <td id=\"T_aa4e2_row12_col3\" class=\"data row12 col3\" >9.90</td>\n",
       "      <td id=\"T_aa4e2_row12_col4\" class=\"data row12 col4\" >99,000.00</td>\n",
       "      <td id=\"T_aa4e2_row12_col5\" class=\"data row12 col5\" >C9.80</td>\n",
       "      <td id=\"T_aa4e2_row12_col6\" class=\"data row12 col6\" >SET </td>\n",
       "      <td id=\"T_aa4e2_row12_col7\" class=\"data row12 col7\" >2</td>\n",
       "      <td id=\"T_aa4e2_row12_col8\" class=\"data row12 col8\" >2022-02-02</td>\n",
       "    </tr>\n",
       "    <tr>\n",
       "      <th id=\"T_aa4e2_level0_row13\" class=\"row_heading level0 row13\" >13</th>\n",
       "      <td id=\"T_aa4e2_row13_col0\" class=\"data row13 col0\" >S</td>\n",
       "      <td id=\"T_aa4e2_row13_col1\" class=\"data row13 col1\" >MAKRO</td>\n",
       "      <td id=\"T_aa4e2_row13_col2\" class=\"data row13 col2\" >1,500</td>\n",
       "      <td id=\"T_aa4e2_row13_col3\" class=\"data row13 col3\" >39.00</td>\n",
       "      <td id=\"T_aa4e2_row13_col4\" class=\"data row13 col4\" >58,500.00</td>\n",
       "      <td id=\"T_aa4e2_row13_col5\" class=\"data row13 col5\" >C40.40</td>\n",
       "      <td id=\"T_aa4e2_row13_col6\" class=\"data row13 col6\" >SET</td>\n",
       "      <td id=\"T_aa4e2_row13_col7\" class=\"data row13 col7\" >0</td>\n",
       "      <td id=\"T_aa4e2_row13_col8\" class=\"data row13 col8\" >2022-03-03</td>\n",
       "    </tr>\n",
       "    <tr>\n",
       "      <th id=\"T_aa4e2_level0_row14\" class=\"row_heading level0 row14\" >14</th>\n",
       "      <td id=\"T_aa4e2_row14_col0\" class=\"data row14 col0\" >S</td>\n",
       "      <td id=\"T_aa4e2_row14_col1\" class=\"data row14 col1\" >NER</td>\n",
       "      <td id=\"T_aa4e2_row14_col2\" class=\"data row14 col2\" >9,000</td>\n",
       "      <td id=\"T_aa4e2_row14_col3\" class=\"data row14 col3\" >7.10</td>\n",
       "      <td id=\"T_aa4e2_row14_col4\" class=\"data row14 col4\" >63,900.00</td>\n",
       "      <td id=\"T_aa4e2_row14_col5\" class=\"data row14 col5\" >P50%</td>\n",
       "      <td id=\"T_aa4e2_row14_col6\" class=\"data row14 col6\" >SET</td>\n",
       "      <td id=\"T_aa4e2_row14_col7\" class=\"data row14 col7\" >0</td>\n",
       "      <td id=\"T_aa4e2_row14_col8\" class=\"data row14 col8\" >2022-04-19</td>\n",
       "    </tr>\n",
       "    <tr>\n",
       "      <th id=\"T_aa4e2_level0_row15\" class=\"row_heading level0 row15\" >15</th>\n",
       "      <td id=\"T_aa4e2_row15_col0\" class=\"data row15 col0\" >S</td>\n",
       "      <td id=\"T_aa4e2_row15_col1\" class=\"data row15 col1\" >SCC</td>\n",
       "      <td id=\"T_aa4e2_row15_col2\" class=\"data row15 col2\" >300</td>\n",
       "      <td id=\"T_aa4e2_row15_col3\" class=\"data row15 col3\" >400.00</td>\n",
       "      <td id=\"T_aa4e2_row15_col4\" class=\"data row15 col4\" >120,000.00</td>\n",
       "      <td id=\"T_aa4e2_row15_col5\" class=\"data row15 col5\" >C398</td>\n",
       "      <td id=\"T_aa4e2_row15_col6\" class=\"data row15 col6\" >SET50</td>\n",
       "      <td id=\"T_aa4e2_row15_col7\" class=\"data row15 col7\" >0</td>\n",
       "      <td id=\"T_aa4e2_row15_col8\" class=\"data row15 col8\" >2022-04-07</td>\n",
       "    </tr>\n",
       "    <tr>\n",
       "      <th id=\"T_aa4e2_level0_row16\" class=\"row_heading level0 row16\" >16</th>\n",
       "      <td id=\"T_aa4e2_row16_col0\" class=\"data row16 col0\" >S</td>\n",
       "      <td id=\"T_aa4e2_row16_col1\" class=\"data row16 col1\" >SIS</td>\n",
       "      <td id=\"T_aa4e2_row16_col2\" class=\"data row16 col2\" >3,600</td>\n",
       "      <td id=\"T_aa4e2_row16_col3\" class=\"data row16 col3\" >28.75</td>\n",
       "      <td id=\"T_aa4e2_row16_col4\" class=\"data row16 col4\" >103,500.00</td>\n",
       "      <td id=\"T_aa4e2_row16_col5\" class=\"data row16 col5\" >C28.50</td>\n",
       "      <td id=\"T_aa4e2_row16_col6\" class=\"data row16 col6\" >SET</td>\n",
       "      <td id=\"T_aa4e2_row16_col7\" class=\"data row16 col7\" >1</td>\n",
       "      <td id=\"T_aa4e2_row16_col8\" class=\"data row16 col8\" >2022-03-10</td>\n",
       "    </tr>\n",
       "    <tr>\n",
       "      <th id=\"T_aa4e2_level0_row17\" class=\"row_heading level0 row17\" >17</th>\n",
       "      <td id=\"T_aa4e2_row17_col0\" class=\"data row17 col0\" >S</td>\n",
       "      <td id=\"T_aa4e2_row17_col1\" class=\"data row17 col1\" >TISCO</td>\n",
       "      <td id=\"T_aa4e2_row17_col2\" class=\"data row17 col2\" >1,000</td>\n",
       "      <td id=\"T_aa4e2_row17_col3\" class=\"data row17 col3\" >97.75</td>\n",
       "      <td id=\"T_aa4e2_row17_col4\" class=\"data row17 col4\" >97,750.00</td>\n",
       "      <td id=\"T_aa4e2_row17_col5\" class=\"data row17 col5\" >CP1S</td>\n",
       "      <td id=\"T_aa4e2_row17_col6\" class=\"data row17 col6\" >SET50</td>\n",
       "      <td id=\"T_aa4e2_row17_col7\" class=\"data row17 col7\" >0</td>\n",
       "      <td id=\"T_aa4e2_row17_col8\" class=\"data row17 col8\" >2022-04-29</td>\n",
       "    </tr>\n",
       "    <tr>\n",
       "      <th id=\"T_aa4e2_level0_row18\" class=\"row_heading level0 row18\" >18</th>\n",
       "      <td id=\"T_aa4e2_row18_col0\" class=\"data row18 col0\" >S</td>\n",
       "      <td id=\"T_aa4e2_row18_col1\" class=\"data row18 col1\" >TTB</td>\n",
       "      <td id=\"T_aa4e2_row18_col2\" class=\"data row18 col2\" >100,000</td>\n",
       "      <td id=\"T_aa4e2_row18_col3\" class=\"data row18 col3\" >1.25</td>\n",
       "      <td id=\"T_aa4e2_row18_col4\" class=\"data row18 col4\" >125,000.00</td>\n",
       "      <td id=\"T_aa4e2_row18_col5\" class=\"data row18 col5\" >CP1S</td>\n",
       "      <td id=\"T_aa4e2_row18_col6\" class=\"data row18 col6\" >SET50</td>\n",
       "      <td id=\"T_aa4e2_row18_col7\" class=\"data row18 col7\" >2</td>\n",
       "      <td id=\"T_aa4e2_row18_col8\" class=\"data row18 col8\" >2022-04-21</td>\n",
       "    </tr>\n",
       "  </tbody>\n",
       "</table>\n"
      ],
      "text/plain": [
       "<pandas.io.formats.style.Styler at 0x2318ade8e50>"
      ]
     },
     "execution_count": 4,
     "metadata": {},
     "output_type": "execute_result"
    }
   ],
   "source": [
    "sql = '''\n",
    "SELECT trade, name, qty, price, qty * price AS amount, reason, market, active, xdate\n",
    "FROM orders\n",
    "ORDER BY trade, name'''\n",
    "orders = pd.read_sql(sql, conlite)\n",
    "orders.sort_values(['trade','name'],ascending=[True,True]).style.format(format_dict)"
   ]
  },
  {
   "cell_type": "code",
   "execution_count": 5,
   "metadata": {},
   "outputs": [
    {
     "data": {
      "text/plain": [
       "(56, 18)"
      ]
     },
     "execution_count": 5,
     "metadata": {},
     "output_type": "execute_result"
    }
   ],
   "source": [
    "sql = \"\"\"\n",
    "SELECT *\n",
    "FROM stocks\n",
    "\"\"\"\n",
    "stocks = pd.read_sql(sql, conlite)\n",
    "stocks.shape"
   ]
  },
  {
   "cell_type": "code",
   "execution_count": 6,
   "metadata": {},
   "outputs": [
    {
     "data": {
      "text/plain": [
       "(19, 26)"
      ]
     },
     "execution_count": 6,
     "metadata": {},
     "output_type": "execute_result"
    }
   ],
   "source": [
    "df_merge = pd.merge(orders,stocks,on='name',how='inner')\n",
    "df_merge.shape"
   ]
  },
  {
   "cell_type": "code",
   "execution_count": 7,
   "metadata": {
    "scrolled": true
   },
   "outputs": [
    {
     "data": {
      "text/html": [
       "<style type=\"text/css\">\n",
       "</style>\n",
       "<table id=\"T_c7c20_\">\n",
       "  <thead>\n",
       "    <tr>\n",
       "      <th class=\"blank level0\" >&nbsp;</th>\n",
       "      <th class=\"col_heading level0 col0\" >trade</th>\n",
       "      <th class=\"col_heading level0 col1\" >name</th>\n",
       "      <th class=\"col_heading level0 col2\" >qty_x</th>\n",
       "      <th class=\"col_heading level0 col3\" >price</th>\n",
       "      <th class=\"col_heading level0 col4\" >reason_x</th>\n",
       "      <th class=\"col_heading level0 col5\" >qty_y</th>\n",
       "      <th class=\"col_heading level0 col6\" >buy_target</th>\n",
       "      <th class=\"col_heading level0 col7\" >sell_target</th>\n",
       "      <th class=\"col_heading level0 col8\" >reason_y</th>\n",
       "    </tr>\n",
       "  </thead>\n",
       "  <tbody>\n",
       "  </tbody>\n",
       "</table>\n"
      ],
      "text/plain": [
       "<pandas.io.formats.style.Styler at 0x2318be28f10>"
      ]
     },
     "execution_count": 7,
     "metadata": {},
     "output_type": "execute_result"
    }
   ],
   "source": [
    "qty_mask = (df_merge.qty_x != df_merge.qty_y)\n",
    "df_merge[qty_mask][cols].style.format(format_dict)"
   ]
  },
  {
   "cell_type": "code",
   "execution_count": 8,
   "metadata": {},
   "outputs": [
    {
     "data": {
      "text/html": [
       "<style type=\"text/css\">\n",
       "</style>\n",
       "<table id=\"T_696ba_\">\n",
       "  <thead>\n",
       "    <tr>\n",
       "      <th class=\"blank level0\" >&nbsp;</th>\n",
       "      <th class=\"col_heading level0 col0\" >trade</th>\n",
       "      <th class=\"col_heading level0 col1\" >name</th>\n",
       "      <th class=\"col_heading level0 col2\" >qty_x</th>\n",
       "      <th class=\"col_heading level0 col3\" >price</th>\n",
       "      <th class=\"col_heading level0 col4\" >reason_x</th>\n",
       "      <th class=\"col_heading level0 col5\" >qty_y</th>\n",
       "      <th class=\"col_heading level0 col6\" >buy_target</th>\n",
       "      <th class=\"col_heading level0 col7\" >sell_target</th>\n",
       "      <th class=\"col_heading level0 col8\" >reason_y</th>\n",
       "    </tr>\n",
       "  </thead>\n",
       "  <tbody>\n",
       "  </tbody>\n",
       "</table>\n"
      ],
      "text/plain": [
       "<pandas.io.formats.style.Styler at 0x2318be98130>"
      ]
     },
     "execution_count": 8,
     "metadata": {},
     "output_type": "execute_result"
    }
   ],
   "source": [
    "buy_price_mask = (df_merge.price != df_merge.buy_target) & (df_merge.trade == 'B')\n",
    "df_merge[buy_price_mask][cols].style.format(format_dict)"
   ]
  },
  {
   "cell_type": "code",
   "execution_count": 9,
   "metadata": {},
   "outputs": [
    {
     "data": {
      "text/html": [
       "<style type=\"text/css\">\n",
       "</style>\n",
       "<table id=\"T_8aff3_\">\n",
       "  <thead>\n",
       "    <tr>\n",
       "      <th class=\"blank level0\" >&nbsp;</th>\n",
       "      <th class=\"col_heading level0 col0\" >trade</th>\n",
       "      <th class=\"col_heading level0 col1\" >name</th>\n",
       "      <th class=\"col_heading level0 col2\" >qty_x</th>\n",
       "      <th class=\"col_heading level0 col3\" >price</th>\n",
       "      <th class=\"col_heading level0 col4\" >reason_x</th>\n",
       "      <th class=\"col_heading level0 col5\" >qty_y</th>\n",
       "      <th class=\"col_heading level0 col6\" >buy_target</th>\n",
       "      <th class=\"col_heading level0 col7\" >sell_target</th>\n",
       "      <th class=\"col_heading level0 col8\" >reason_y</th>\n",
       "    </tr>\n",
       "  </thead>\n",
       "  <tbody>\n",
       "  </tbody>\n",
       "</table>\n"
      ],
      "text/plain": [
       "<pandas.io.formats.style.Styler at 0x2318be986d0>"
      ]
     },
     "execution_count": 9,
     "metadata": {},
     "output_type": "execute_result"
    }
   ],
   "source": [
    "sell_price_mask = (df_merge.price != df_merge.sell_target) & (df_merge.trade == 'S')\n",
    "df_merge[sell_price_mask][cols].style.format(format_dict)"
   ]
  },
  {
   "cell_type": "code",
   "execution_count": 10,
   "metadata": {
    "scrolled": true
   },
   "outputs": [
    {
     "data": {
      "text/html": [
       "<style type=\"text/css\">\n",
       "</style>\n",
       "<table id=\"T_56d9c_\">\n",
       "  <thead>\n",
       "    <tr>\n",
       "      <th class=\"blank level0\" >&nbsp;</th>\n",
       "      <th class=\"col_heading level0 col0\" >trade</th>\n",
       "      <th class=\"col_heading level0 col1\" >name</th>\n",
       "      <th class=\"col_heading level0 col2\" >qty_x</th>\n",
       "      <th class=\"col_heading level0 col3\" >price</th>\n",
       "      <th class=\"col_heading level0 col4\" >reason_x</th>\n",
       "      <th class=\"col_heading level0 col5\" >qty_y</th>\n",
       "      <th class=\"col_heading level0 col6\" >buy_target</th>\n",
       "      <th class=\"col_heading level0 col7\" >sell_target</th>\n",
       "      <th class=\"col_heading level0 col8\" >reason_y</th>\n",
       "    </tr>\n",
       "  </thead>\n",
       "  <tbody>\n",
       "    <tr>\n",
       "      <th id=\"T_56d9c_level0_row0\" class=\"row_heading level0 row0\" >11</th>\n",
       "      <td id=\"T_56d9c_row0_col0\" class=\"data row0 col0\" >S</td>\n",
       "      <td id=\"T_56d9c_row0_col1\" class=\"data row0 col1\" >BCH</td>\n",
       "      <td id=\"T_56d9c_row0_col2\" class=\"data row0 col2\" >3,000</td>\n",
       "      <td id=\"T_56d9c_row0_col3\" class=\"data row0 col3\" >21.00</td>\n",
       "      <td id=\"T_56d9c_row0_col4\" class=\"data row0 col4\" >CP1S</td>\n",
       "      <td id=\"T_56d9c_row0_col5\" class=\"data row0 col5\" >3,000</td>\n",
       "      <td id=\"T_56d9c_row0_col6\" class=\"data row0 col6\" >0.00</td>\n",
       "      <td id=\"T_56d9c_row0_col7\" class=\"data row0 col7\" >21.00</td>\n",
       "      <td id=\"T_56d9c_row0_col8\" class=\"data row0 col8\" >5pct</td>\n",
       "    </tr>\n",
       "    <tr>\n",
       "      <th id=\"T_56d9c_level0_row1\" class=\"row_heading level0 row1\" >13</th>\n",
       "      <td id=\"T_56d9c_row1_col0\" class=\"data row1 col0\" >S</td>\n",
       "      <td id=\"T_56d9c_row1_col1\" class=\"data row1 col1\" >MAKRO</td>\n",
       "      <td id=\"T_56d9c_row1_col2\" class=\"data row1 col2\" >1,500</td>\n",
       "      <td id=\"T_56d9c_row1_col3\" class=\"data row1 col3\" >39.00</td>\n",
       "      <td id=\"T_56d9c_row1_col4\" class=\"data row1 col4\" >C40.40</td>\n",
       "      <td id=\"T_56d9c_row1_col5\" class=\"data row1 col5\" >1,500</td>\n",
       "      <td id=\"T_56d9c_row1_col6\" class=\"data row1 col6\" >0.00</td>\n",
       "      <td id=\"T_56d9c_row1_col7\" class=\"data row1 col7\" >39.00</td>\n",
       "      <td id=\"T_56d9c_row1_col8\" class=\"data row1 col8\" >6M</td>\n",
       "    </tr>\n",
       "  </tbody>\n",
       "</table>\n"
      ],
      "text/plain": [
       "<pandas.io.formats.style.Styler at 0x2318be61a60>"
      ]
     },
     "execution_count": 10,
     "metadata": {},
     "output_type": "execute_result"
    }
   ],
   "source": [
    "reason_mask = (df_merge.reason_x != df_merge.reason_y)\n",
    "df_merge[reason_mask][cols].style.format(format_dict)"
   ]
  },
  {
   "cell_type": "markdown",
   "metadata": {},
   "source": [
    "### End of Loop process"
   ]
  },
  {
   "cell_type": "code",
   "execution_count": 11,
   "metadata": {},
   "outputs": [
    {
     "data": {
      "text/html": [
       "<div>\n",
       "<style scoped>\n",
       "    .dataframe tbody tr th:only-of-type {\n",
       "        vertical-align: middle;\n",
       "    }\n",
       "\n",
       "    .dataframe tbody tr th {\n",
       "        vertical-align: top;\n",
       "    }\n",
       "\n",
       "    .dataframe thead th {\n",
       "        text-align: right;\n",
       "    }\n",
       "</style>\n",
       "<table border=\"1\" class=\"dataframe\">\n",
       "  <thead>\n",
       "    <tr style=\"text-align: right;\">\n",
       "      <th></th>\n",
       "      <th>trade</th>\n",
       "      <th>name</th>\n",
       "      <th>qty</th>\n",
       "      <th>price</th>\n",
       "      <th>active</th>\n",
       "      <th>reason</th>\n",
       "      <th>market</th>\n",
       "      <th>xdate</th>\n",
       "    </tr>\n",
       "  </thead>\n",
       "  <tbody>\n",
       "    <tr>\n",
       "      <th>0</th>\n",
       "      <td>B</td>\n",
       "      <td>AP</td>\n",
       "      <td>10000</td>\n",
       "      <td>9.50</td>\n",
       "      <td>1</td>\n",
       "      <td>MinP</td>\n",
       "      <td>SET100</td>\n",
       "      <td>2022-05-10</td>\n",
       "    </tr>\n",
       "    <tr>\n",
       "      <th>1</th>\n",
       "      <td>B</td>\n",
       "      <td>ASK</td>\n",
       "      <td>3000</td>\n",
       "      <td>32.00</td>\n",
       "      <td>1</td>\n",
       "      <td>MinP</td>\n",
       "      <td>SET</td>\n",
       "      <td>2022-03-03</td>\n",
       "    </tr>\n",
       "    <tr>\n",
       "      <th>2</th>\n",
       "      <td>B</td>\n",
       "      <td>BCPG</td>\n",
       "      <td>9000</td>\n",
       "      <td>10.50</td>\n",
       "      <td>1</td>\n",
       "      <td>52WL</td>\n",
       "      <td>SET100</td>\n",
       "      <td>2022-02-02</td>\n",
       "    </tr>\n",
       "    <tr>\n",
       "      <th>3</th>\n",
       "      <td>B</td>\n",
       "      <td>BPP</td>\n",
       "      <td>9000</td>\n",
       "      <td>14.00</td>\n",
       "      <td>1</td>\n",
       "      <td>MinP</td>\n",
       "      <td>SET100</td>\n",
       "      <td>2022-02-02</td>\n",
       "    </tr>\n",
       "    <tr>\n",
       "      <th>4</th>\n",
       "      <td>B</td>\n",
       "      <td>DOHOME</td>\n",
       "      <td>2800</td>\n",
       "      <td>15.80</td>\n",
       "      <td>0</td>\n",
       "      <td>RD20pct</td>\n",
       "      <td>SET100</td>\n",
       "      <td>2022-02-02</td>\n",
       "    </tr>\n",
       "    <tr>\n",
       "      <th>5</th>\n",
       "      <td>B</td>\n",
       "      <td>IVL</td>\n",
       "      <td>3000</td>\n",
       "      <td>46.25</td>\n",
       "      <td>1</td>\n",
       "      <td>P50%3M</td>\n",
       "      <td>SET50</td>\n",
       "      <td>2022-05-31</td>\n",
       "    </tr>\n",
       "    <tr>\n",
       "      <th>6</th>\n",
       "      <td>B</td>\n",
       "      <td>KKP</td>\n",
       "      <td>3000</td>\n",
       "      <td>60.00</td>\n",
       "      <td>1</td>\n",
       "      <td>52WL</td>\n",
       "      <td>SET100</td>\n",
       "      <td>2022-04-28</td>\n",
       "    </tr>\n",
       "    <tr>\n",
       "      <th>7</th>\n",
       "      <td>B</td>\n",
       "      <td>KTC</td>\n",
       "      <td>2100</td>\n",
       "      <td>55.00</td>\n",
       "      <td>0</td>\n",
       "      <td>P25%</td>\n",
       "      <td>SET50</td>\n",
       "      <td>2022-04-18</td>\n",
       "    </tr>\n",
       "    <tr>\n",
       "      <th>8</th>\n",
       "      <td>B</td>\n",
       "      <td>MCS</td>\n",
       "      <td>5000</td>\n",
       "      <td>11.40</td>\n",
       "      <td>1</td>\n",
       "      <td>RD25pct</td>\n",
       "      <td>SET</td>\n",
       "      <td>2022-02-02</td>\n",
       "    </tr>\n",
       "    <tr>\n",
       "      <th>9</th>\n",
       "      <td>B</td>\n",
       "      <td>SSP</td>\n",
       "      <td>10000</td>\n",
       "      <td>9.00</td>\n",
       "      <td>1</td>\n",
       "      <td>6L</td>\n",
       "      <td>SET</td>\n",
       "      <td>2022-02-02</td>\n",
       "    </tr>\n",
       "    <tr>\n",
       "      <th>10</th>\n",
       "      <td>B</td>\n",
       "      <td>TMT</td>\n",
       "      <td>12000</td>\n",
       "      <td>8.40</td>\n",
       "      <td>1</td>\n",
       "      <td>RD15pct</td>\n",
       "      <td>SET</td>\n",
       "      <td>2022-04-18</td>\n",
       "    </tr>\n",
       "    <tr>\n",
       "      <th>11</th>\n",
       "      <td>S</td>\n",
       "      <td>BCH</td>\n",
       "      <td>3000</td>\n",
       "      <td>21.00</td>\n",
       "      <td>0</td>\n",
       "      <td>CP1S</td>\n",
       "      <td>SET100</td>\n",
       "      <td>2022-05-10</td>\n",
       "    </tr>\n",
       "    <tr>\n",
       "      <th>12</th>\n",
       "      <td>S</td>\n",
       "      <td>JASIF</td>\n",
       "      <td>10000</td>\n",
       "      <td>9.90</td>\n",
       "      <td>2</td>\n",
       "      <td>C9.80</td>\n",
       "      <td>SET</td>\n",
       "      <td>2022-02-02</td>\n",
       "    </tr>\n",
       "    <tr>\n",
       "      <th>13</th>\n",
       "      <td>S</td>\n",
       "      <td>MAKRO</td>\n",
       "      <td>1500</td>\n",
       "      <td>39.00</td>\n",
       "      <td>0</td>\n",
       "      <td>C40.40</td>\n",
       "      <td>SET</td>\n",
       "      <td>2022-03-03</td>\n",
       "    </tr>\n",
       "    <tr>\n",
       "      <th>14</th>\n",
       "      <td>S</td>\n",
       "      <td>NER</td>\n",
       "      <td>9000</td>\n",
       "      <td>7.10</td>\n",
       "      <td>0</td>\n",
       "      <td>P50%</td>\n",
       "      <td>SET</td>\n",
       "      <td>2022-04-19</td>\n",
       "    </tr>\n",
       "    <tr>\n",
       "      <th>15</th>\n",
       "      <td>S</td>\n",
       "      <td>SCC</td>\n",
       "      <td>300</td>\n",
       "      <td>400.00</td>\n",
       "      <td>0</td>\n",
       "      <td>C398</td>\n",
       "      <td>SET50</td>\n",
       "      <td>2022-04-07</td>\n",
       "    </tr>\n",
       "    <tr>\n",
       "      <th>16</th>\n",
       "      <td>S</td>\n",
       "      <td>SIS</td>\n",
       "      <td>3600</td>\n",
       "      <td>28.75</td>\n",
       "      <td>1</td>\n",
       "      <td>C28.50</td>\n",
       "      <td>SET</td>\n",
       "      <td>2022-03-10</td>\n",
       "    </tr>\n",
       "    <tr>\n",
       "      <th>17</th>\n",
       "      <td>S</td>\n",
       "      <td>TISCO</td>\n",
       "      <td>1000</td>\n",
       "      <td>97.75</td>\n",
       "      <td>0</td>\n",
       "      <td>CP1S</td>\n",
       "      <td>SET50</td>\n",
       "      <td>2022-04-29</td>\n",
       "    </tr>\n",
       "    <tr>\n",
       "      <th>18</th>\n",
       "      <td>S</td>\n",
       "      <td>TTB</td>\n",
       "      <td>100000</td>\n",
       "      <td>1.25</td>\n",
       "      <td>2</td>\n",
       "      <td>CP1S</td>\n",
       "      <td>SET50</td>\n",
       "      <td>2022-04-21</td>\n",
       "    </tr>\n",
       "  </tbody>\n",
       "</table>\n",
       "</div>"
      ],
      "text/plain": [
       "   trade    name     qty   price  active   reason  market       xdate\n",
       "0      B      AP   10000    9.50       1     MinP  SET100  2022-05-10\n",
       "1      B     ASK    3000   32.00       1     MinP     SET  2022-03-03\n",
       "2      B    BCPG    9000   10.50       1     52WL  SET100  2022-02-02\n",
       "3      B     BPP    9000   14.00       1     MinP  SET100  2022-02-02\n",
       "4      B  DOHOME    2800   15.80       0  RD20pct  SET100  2022-02-02\n",
       "5      B     IVL    3000   46.25       1   P50%3M   SET50  2022-05-31\n",
       "6      B     KKP    3000   60.00       1     52WL  SET100  2022-04-28\n",
       "7      B     KTC    2100   55.00       0     P25%   SET50  2022-04-18\n",
       "8      B     MCS    5000   11.40       1  RD25pct     SET  2022-02-02\n",
       "9      B     SSP   10000    9.00       1       6L     SET  2022-02-02\n",
       "10     B     TMT   12000    8.40       1  RD15pct     SET  2022-04-18\n",
       "11     S     BCH    3000   21.00       0     CP1S  SET100  2022-05-10\n",
       "12     S   JASIF   10000    9.90       2    C9.80    SET   2022-02-02\n",
       "13     S   MAKRO    1500   39.00       0   C40.40     SET  2022-03-03\n",
       "14     S     NER    9000    7.10       0     P50%     SET  2022-04-19\n",
       "15     S     SCC     300  400.00       0     C398   SET50  2022-04-07\n",
       "16     S     SIS    3600   28.75       1   C28.50     SET  2022-03-10\n",
       "17     S   TISCO    1000   97.75       0     CP1S   SET50  2022-04-29\n",
       "18     S     TTB  100000    1.25       2     CP1S   SET50  2022-04-21"
      ]
     },
     "execution_count": 11,
     "metadata": {},
     "output_type": "execute_result"
    }
   ],
   "source": [
    "orders[colt]"
   ]
  },
  {
   "cell_type": "code",
   "execution_count": 12,
   "metadata": {},
   "outputs": [],
   "source": [
    "file_name = 'orders.csv'\n",
    "data_file = data_path + file_name\n",
    "output_file = csv_path + file_name\n",
    "box_file = box_path + file_name\n",
    "data_file, output_file, box_file\n",
    "\n",
    "orders[colt].to_csv(output_file, header=True, index=False)\n",
    "orders[colt].to_csv(data_file,   header=True, index=False)\n",
    "orders[colt].to_csv(box_file,    header=True, index=False)"
   ]
  },
  {
   "cell_type": "markdown",
   "metadata": {},
   "source": [
    "### After call ord-log"
   ]
  },
  {
   "cell_type": "code",
   "execution_count": 13,
   "metadata": {},
   "outputs": [],
   "source": [
    "def categorise(row):  \n",
    "    if row['col0'] == 'B':\n",
    "        return 'Buy'\n",
    "    else:\n",
    "        return 'Sell'"
   ]
  },
  {
   "cell_type": "code",
   "execution_count": 14,
   "metadata": {},
   "outputs": [
    {
     "data": {
      "text/plain": [
       "col0       object\n",
       "name       object\n",
       "spd        object\n",
       "reason     object\n",
       "market     object\n",
       "qty        object\n",
       "target     object\n",
       "current    object\n",
       "chg        object\n",
       "percent    object\n",
       "trans      object\n",
       "dtype: object"
      ]
     },
     "execution_count": 14,
     "metadata": {},
     "output_type": "execute_result"
    }
   ],
   "source": [
    "df = pd.read_csv('../data/orders-log.csv', header=None, prefix = 'col',usecols=[0,1,2,3,4,5,6,7,8,9])\n",
    "df.rename(columns = {'col1': 'name', 'col2': 'spd','col3': 'reason', 'col4': 'market','col5': 'qty', 'col6': 'target','col7': 'current', 'col8': 'chg', 'col9': 'percent'}, inplace = True)\n",
    "df['trans'] = df.apply(lambda row: categorise(row), axis=1)\n",
    "#df['qty'] = df['qty'].astype('int64')\n",
    "df.dtypes"
   ]
  },
  {
   "cell_type": "code",
   "execution_count": 15,
   "metadata": {
    "scrolled": false
   },
   "outputs": [
    {
     "data": {
      "application/javascript": [
       "require.config({\n",
       "    paths: {\n",
       "        datatables: 'https://cdn.datatables.net/1.10.19/js/jquery.dataTables.min',\n",
       "    }\n",
       "});\n",
       "\n",
       "$('head').append('<link rel=\"stylesheet\" type=\"text/css\" \\\n",
       "                href = \"https://cdn.datatables.net/1.10.19/css/jquery.dataTables.min.css\" > ');\n",
       "\n",
       "$('head').append('<style> table td { text-overflow: ellipsis; overflow: hidden; } </style>');\n",
       "\n",
       "$('head').append(`<script>\n",
       "function eval_functions(map_or_text) {\n",
       "    if (typeof map_or_text === \"string\") {\n",
       "        if (map_or_text.startsWith(\"function\")) {\n",
       "            try {\n",
       "                // Note: parenthesis are required around the whole expression for eval to return a value!\n",
       "                // See https://stackoverflow.com/a/7399078/911298.\n",
       "                //\n",
       "                // eval(\"local_fun = \" + map_or_text) would fail because local_fun is not declared\n",
       "                // (using var, let or const would work, but it would only be declared in the local scope\n",
       "                // and therefore the value could not be retrieved).\n",
       "                const func = eval(\"(\" + map_or_text + \")\");\n",
       "                if (typeof func !== \"function\") {\n",
       "                    // Note: backquotes are super convenient!\n",
       "                    // https://developer.mozilla.org/en-US/docs/Web/JavaScript/Reference/Template_literals\n",
       "                    console.error(\"Evaluated expression \" + map_or_text + \" is not a function (type is \" + typeof func + \")\");\n",
       "                    return map_or_text;\n",
       "                }\n",
       "                // Return the function\n",
       "                return func;\n",
       "            } catch (e) {\n",
       "                // Make sure to print the error with a second argument to console.error().\n",
       "                console.error(\"itables was not able to parse \" + map_or_text, e);\n",
       "            }\n",
       "        }\n",
       "    } else if (typeof map_or_text === \"object\") {\n",
       "        if (map_or_text instanceof Array) {\n",
       "            // Note: \"var\" is now superseded by \"let\" and \"const\".\n",
       "            // https://medium.com/javascript-scene/javascript-es6-var-let-or-const-ba58b8dcde75\n",
       "            const result = [];\n",
       "            // Note: \"for of\" is the best way to iterate through an iterable.\n",
       "            // https://developer.mozilla.org/en-US/docs/Web/JavaScript/Reference/Statements/for...of\n",
       "            for (const item of map_or_text) {\n",
       "                result.push(eval_functions(item));\n",
       "            }\n",
       "            return result;\n",
       "\n",
       "            // Alternatively, more functional approach in one line:\n",
       "            // return map_or_text.map(eval_functions);\n",
       "        } else {\n",
       "            const result = {};\n",
       "            // Object.keys() is safer than \"for in\" because otherwise you might have keys\n",
       "            // that aren't defined in the object itself.\n",
       "            //\n",
       "            // See https://stackoverflow.com/a/684692/911298.\n",
       "            for (const item of Object.keys(map_or_text)) {\n",
       "                result[item] = eval_functions(map_or_text[item]);\n",
       "            }\n",
       "            return result;\n",
       "        }\n",
       "    }\n",
       "\n",
       "    return map_or_text;\n",
       "}\n",
       "\n",
       "</` + 'script>');"
      ],
      "text/plain": [
       "<IPython.core.display.Javascript object>"
      ]
     },
     "metadata": {},
     "output_type": "display_data"
    },
    {
     "data": {
      "text/html": [
       "<div><table id=\"6487e42f-e9f1-4ab7-a200-aa9ec5fc5908\" class=\"display\"><thead>\n",
       "    <tr style=\"text-align: right;\">\n",
       "      \n",
       "      <th>trans</th>\n",
       "      <th>name</th>\n",
       "      <th>spd</th>\n",
       "      <th>reason</th>\n",
       "      <th>qty</th>\n",
       "      <th>target</th>\n",
       "      <th>current</th>\n",
       "      <th>chg</th>\n",
       "      <th>percent</th>\n",
       "    </tr>\n",
       "  </thead></table>\n",
       "<script type=\"text/javascript\">\n",
       "require([\"datatables\"], function (datatables) {\n",
       "    $(document).ready(function () {\n",
       "        var dt_args = {\"columnDefs\": [{\"width\": \"70px\", \"targets\": \"_all\"}], \"data\": [[\"Sell\", \"name\", \"spd\", \"reason\", \"qty\", \"target\", \"current\", \"change\", \"percent\"], [\"Buy\", \"AP\", \"-8\", \"MinP\", \"10000\", \"9.5\", \"9.90\", \"-0.10\", \"-1.00%\"], [\"Buy\", \"ASK\", \"-7\", \"MinP\", \"3000\", \"32.0\", \"33.75\", \"+0.50\", \"+1.50%\"], [\"Buy\", \"BCPG\", \"-2\", \"MinP\", \"12000\", \"11.0\", \"11.20\", \"0.00\", \"0.00%\"], [\"Buy\", \"BPP\", \"-6\", \"MinP\", \"9000\", \"14.0\", \"14.60\", \"0.00\", \"0.00%\"], [\"Buy\", \"GLOBAL\", \"-6\", \"3L\", \"9000\", \"18.4\", \"19.00\", \"-0.20\", \"-1.04%\"], [\"Buy\", \"IVL\", \"-5\", \"P50%3M\", \"3000\", \"46.25\", \"47.50\", \"-2.75\", \"-5.47%\"], [\"Buy\", \"KKP\", \"-3\", \"MinP\", \"3000\", \"63.0\", \"63.75\", \"-1.25\", \"-1.92%\"], [\"Buy\", \"KTC\", \"-10\", \"P25%\", \"2100\", \"55.0\", \"57.50\", \"+0.50\", \"+0.88%\"], [\"Buy\", \"SSP\", \"-12\", \"6L\", \"10000\", \"9.0\", \"9.60\", \"+0.10\", \"+1.05%\"], [\"Buy\", \"TMT\", \"-2\", \"RD10pct\", \"12000\", \"8.9\", \"9.00\", \"0.00\", \"0.00%\"], [\"Sell\", \"BCH\", \"29\", \"5pct\", \"3000\", \"21.0\", \"18.10\", \"-0.30\", \"-1.63%\"], [\"Sell\", \"BDMS\", \"13\", \"CP1S\", \"1500\", \"26.25\", \"24.20\", \"+0.10\", \"+0.41%\"], [\"Sell\", \"DOHOME\", \"32\", \"C20.25\", \"2400\", \"20.3\", \"17.10\", \"+0.40\", \"+2.40%\"], [\"Sell\", \"JASIF\", \"15\", \"C10.10\", \"10000\", \"12.0\", \"10.50\", \"-0.20\", \"-1.87%\"], [\"Sell\", \"MAKRO\", \"16\", \"6M\", \"1500\", \"39.0\", \"35.00\", \"+0.50\", \"+1.45%\"], [\"Sell\", \"NER\", \"19\", \"P50%\", \"9000\", \"7.1\", \"6.15\", \"0.00\", \"0.00%\"], [\"Sell\", \"SCC\", \"44\", \"C398\", \"300\", \"400.0\", \"356.00\", \"+1.00\", \"+0.28%\"], [\"Sell\", \"SIS\", \"9\", \"C28.50\", \"3600\", \"28.75\", \"26.50\", \"+0.25\", \"+0.95%\"], [\"Sell\", \"TISCO\", \"32\", \"CP1S\", \"1000\", \"97.75\", \"89.75\", \"+0.50\", \"+0.56%\"], [\"Sell\", \"TTB\", \"7\", \"5pct\", \"100000\", \"1.33\", \"1.26\", \"+0.02\", \"+1.61%\"]]};\n",
       "        dt_args = eval_functions(dt_args);\n",
       "        table = $('#6487e42f-e9f1-4ab7-a200-aa9ec5fc5908').DataTable(dt_args);\n",
       "    });\n",
       "})\n",
       "</script>\n",
       "</div>\n"
      ],
      "text/plain": [
       "<IPython.core.display.HTML object>"
      ]
     },
     "metadata": {},
     "output_type": "display_data"
    }
   ],
   "source": [
    "from itables import show\n",
    "show(df[['trans','name','spd','reason','qty','target','current','chg','percent']])"
   ]
  },
  {
   "cell_type": "code",
   "execution_count": 16,
   "metadata": {},
   "outputs": [
    {
     "data": {
      "text/plain": [
       "0"
      ]
     },
     "execution_count": 16,
     "metadata": {},
     "output_type": "execute_result"
    }
   ],
   "source": [
    "sql = '''\n",
    "UPDATE stocks\n",
    "SET buy_target = 0\n",
    "WHERE buy_target IS NULL'''\n",
    "rp = conlite.execute(sql)\n",
    "rp.rowcount"
   ]
  },
  {
   "cell_type": "code",
   "execution_count": 17,
   "metadata": {},
   "outputs": [
    {
     "data": {
      "text/plain": [
       "0"
      ]
     },
     "execution_count": 17,
     "metadata": {},
     "output_type": "execute_result"
    }
   ],
   "source": [
    "sql = '''\n",
    "UPDATE stocks\n",
    "SET sell_target = 0\n",
    "WHERE sell_target IS NULL'''\n",
    "rp = conlite.execute(sql)\n",
    "rp.rowcount"
   ]
  },
  {
   "cell_type": "code",
   "execution_count": 18,
   "metadata": {},
   "outputs": [
    {
     "data": {
      "text/plain": [
       "0"
      ]
     },
     "execution_count": 18,
     "metadata": {},
     "output_type": "execute_result"
    }
   ],
   "source": [
    "sql = '''\n",
    "UPDATE stocks\n",
    "SET available_qty = 0\n",
    "WHERE available_qty IS NULL'''\n",
    "rp = conlite.execute(sql)\n",
    "rp.rowcount"
   ]
  },
  {
   "cell_type": "code",
   "execution_count": 19,
   "metadata": {},
   "outputs": [
    {
     "data": {
      "text/plain": [
       "0"
      ]
     },
     "execution_count": 19,
     "metadata": {},
     "output_type": "execute_result"
    }
   ],
   "source": [
    "sql = '''\n",
    "UPDATE stocks\n",
    "SET cost = 0\n",
    "WHERE cost IS NULL'''\n",
    "rp = conlite.execute(sql)\n",
    "rp.rowcount"
   ]
  },
  {
   "cell_type": "code",
   "execution_count": 20,
   "metadata": {},
   "outputs": [
    {
     "data": {
      "text/plain": [
       "0"
      ]
     },
     "execution_count": 20,
     "metadata": {},
     "output_type": "execute_result"
    }
   ],
   "source": [
    "sql = '''\n",
    "UPDATE stocks\n",
    "SET qty = 0\n",
    "WHERE qty IS NULL'''\n",
    "rp = conlite.execute(sql)\n",
    "rp.rowcount"
   ]
  },
  {
   "cell_type": "code",
   "execution_count": 21,
   "metadata": {},
   "outputs": [
    {
     "data": {
      "text/html": [
       "<style type=\"text/css\">\n",
       "</style>\n",
       "<table id=\"T_0fe2d_\">\n",
       "  <thead>\n",
       "    <tr>\n",
       "      <th class=\"blank level0\" >&nbsp;</th>\n",
       "      <th class=\"col_heading level0 col0\" >id</th>\n",
       "      <th class=\"col_heading level0 col1\" >name</th>\n",
       "      <th class=\"col_heading level0 col2\" >max_price</th>\n",
       "      <th class=\"col_heading level0 col3\" >min_price</th>\n",
       "      <th class=\"col_heading level0 col4\" >status</th>\n",
       "      <th class=\"col_heading level0 col5\" >buy_target</th>\n",
       "      <th class=\"col_heading level0 col6\" >sell_target</th>\n",
       "      <th class=\"col_heading level0 col7\" >volume</th>\n",
       "      <th class=\"col_heading level0 col8\" >beta</th>\n",
       "      <th class=\"col_heading level0 col9\" >cost</th>\n",
       "      <th class=\"col_heading level0 col10\" >qty</th>\n",
       "      <th class=\"col_heading level0 col11\" >buy_spread</th>\n",
       "      <th class=\"col_heading level0 col12\" >sell_spread</th>\n",
       "      <th class=\"col_heading level0 col13\" >available_qty</th>\n",
       "      <th class=\"col_heading level0 col14\" >bl</th>\n",
       "      <th class=\"col_heading level0 col15\" >sh</th>\n",
       "      <th class=\"col_heading level0 col16\" >reason</th>\n",
       "      <th class=\"col_heading level0 col17\" >market</th>\n",
       "    </tr>\n",
       "  </thead>\n",
       "  <tbody>\n",
       "  </tbody>\n",
       "</table>\n"
      ],
      "text/plain": [
       "<pandas.io.formats.style.Styler at 0x2318bf04af0>"
      ]
     },
     "execution_count": 21,
     "metadata": {},
     "output_type": "execute_result"
    }
   ],
   "source": [
    "qty_mask = (stocks.qty == 0) & (stocks.status.isin(['B','I','O','S']))\n",
    "stocks[qty_mask].style.format(format_dict)"
   ]
  },
  {
   "cell_type": "code",
   "execution_count": 22,
   "metadata": {},
   "outputs": [
    {
     "data": {
      "text/html": [
       "<style type=\"text/css\">\n",
       "</style>\n",
       "<table id=\"T_c2d22_\">\n",
       "  <thead>\n",
       "    <tr>\n",
       "      <th class=\"blank level0\" >&nbsp;</th>\n",
       "      <th class=\"col_heading level0 col0\" >id</th>\n",
       "      <th class=\"col_heading level0 col1\" >name</th>\n",
       "      <th class=\"col_heading level0 col2\" >max_price</th>\n",
       "      <th class=\"col_heading level0 col3\" >min_price</th>\n",
       "      <th class=\"col_heading level0 col4\" >status</th>\n",
       "      <th class=\"col_heading level0 col5\" >buy_target</th>\n",
       "      <th class=\"col_heading level0 col6\" >sell_target</th>\n",
       "      <th class=\"col_heading level0 col7\" >volume</th>\n",
       "      <th class=\"col_heading level0 col8\" >beta</th>\n",
       "      <th class=\"col_heading level0 col9\" >cost</th>\n",
       "      <th class=\"col_heading level0 col10\" >qty</th>\n",
       "      <th class=\"col_heading level0 col11\" >buy_spread</th>\n",
       "      <th class=\"col_heading level0 col12\" >sell_spread</th>\n",
       "      <th class=\"col_heading level0 col13\" >available_qty</th>\n",
       "      <th class=\"col_heading level0 col14\" >bl</th>\n",
       "      <th class=\"col_heading level0 col15\" >sh</th>\n",
       "      <th class=\"col_heading level0 col16\" >reason</th>\n",
       "      <th class=\"col_heading level0 col17\" >market</th>\n",
       "    </tr>\n",
       "  </thead>\n",
       "  <tbody>\n",
       "  </tbody>\n",
       "</table>\n"
      ],
      "text/plain": [
       "<pandas.io.formats.style.Styler at 0x2318bf04f70>"
      ]
     },
     "execution_count": 22,
     "metadata": {},
     "output_type": "execute_result"
    }
   ],
   "source": [
    "buy_mask = (stocks.buy_target == 0) & (stocks.status.isin(['B','O']))\n",
    "stocks[buy_mask].style.format(format_dict)"
   ]
  },
  {
   "cell_type": "code",
   "execution_count": 23,
   "metadata": {},
   "outputs": [
    {
     "data": {
      "text/html": [
       "<style type=\"text/css\">\n",
       "</style>\n",
       "<table id=\"T_ab302_\">\n",
       "  <thead>\n",
       "    <tr>\n",
       "      <th class=\"blank level0\" >&nbsp;</th>\n",
       "      <th class=\"col_heading level0 col0\" >id</th>\n",
       "      <th class=\"col_heading level0 col1\" >name</th>\n",
       "      <th class=\"col_heading level0 col2\" >max_price</th>\n",
       "      <th class=\"col_heading level0 col3\" >min_price</th>\n",
       "      <th class=\"col_heading level0 col4\" >status</th>\n",
       "      <th class=\"col_heading level0 col5\" >buy_target</th>\n",
       "      <th class=\"col_heading level0 col6\" >sell_target</th>\n",
       "      <th class=\"col_heading level0 col7\" >volume</th>\n",
       "      <th class=\"col_heading level0 col8\" >beta</th>\n",
       "      <th class=\"col_heading level0 col9\" >cost</th>\n",
       "      <th class=\"col_heading level0 col10\" >qty</th>\n",
       "      <th class=\"col_heading level0 col11\" >buy_spread</th>\n",
       "      <th class=\"col_heading level0 col12\" >sell_spread</th>\n",
       "      <th class=\"col_heading level0 col13\" >available_qty</th>\n",
       "      <th class=\"col_heading level0 col14\" >bl</th>\n",
       "      <th class=\"col_heading level0 col15\" >sh</th>\n",
       "      <th class=\"col_heading level0 col16\" >reason</th>\n",
       "      <th class=\"col_heading level0 col17\" >market</th>\n",
       "    </tr>\n",
       "  </thead>\n",
       "  <tbody>\n",
       "  </tbody>\n",
       "</table>\n"
      ],
      "text/plain": [
       "<pandas.io.formats.style.Styler at 0x2318bf08f40>"
      ]
     },
     "execution_count": 23,
     "metadata": {},
     "output_type": "execute_result"
    }
   ],
   "source": [
    "sell_mask = (stocks.sell_target == 0) & (stocks.status.isin(['I','S']))\n",
    "stocks[sell_mask].style.format(format_dict)"
   ]
  }
 ],
 "metadata": {
  "anaconda-cloud": {},
  "kernelspec": {
   "display_name": "Python 3 (ipykernel)",
   "language": "python",
   "name": "python3"
  },
  "language_info": {
   "codemirror_mode": {
    "name": "ipython",
    "version": 3
   },
   "file_extension": ".py",
   "mimetype": "text/x-python",
   "name": "python",
   "nbconvert_exporter": "python",
   "pygments_lexer": "ipython3",
   "version": "3.8.11"
  }
 },
 "nbformat": 4,
 "nbformat_minor": 1
}
