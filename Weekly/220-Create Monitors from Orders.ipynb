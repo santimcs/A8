{
 "cells": [
  {
   "cell_type": "code",
   "execution_count": 1,
   "metadata": {},
   "outputs": [
    {
     "data": {
      "text/plain": [
       "(datetime.date(2022, 6, 26), datetime.date(2022, 6, 24))"
      ]
     },
     "execution_count": 1,
     "metadata": {},
     "output_type": "execute_result"
    }
   ],
   "source": [
    "import calendar\n",
    "import pandas as pd\n",
    "from datetime import date, timedelta\n",
    "from sqlalchemy import create_engine\n",
    "\n",
    "engine = create_engine(\"sqlite:///c:\\\\ruby\\\\port_lite\\\\db\\\\development.sqlite3\")\n",
    "conlite = engine.connect()\n",
    "\n",
    "engine = create_engine(\"mysql+pymysql://root:@localhost:3306/stock\")\n",
    "const = engine.connect()\n",
    "\n",
    "pd.set_option('display.max_row',None)\n",
    "\n",
    "data_path = \"../data/\"\n",
    "csv_path = \"\\\\Users\\\\User\\\\iCloudDrive\\\\\"\n",
    "box_path = \"\\\\Users\\\\User\\\\Dropbox\\\\\"\n",
    "one_path = \"\\\\Users\\\\User\\\\OneDrive\\\\Documents\\\\Data\\\\\"\n",
    "\n",
    "today = date.today()\n",
    "yesterday = today - timedelta(days=2)\n",
    "today, yesterday"
   ]
  },
  {
   "cell_type": "code",
   "execution_count": 2,
   "metadata": {},
   "outputs": [
    {
     "data": {
      "text/plain": [
       "(datetime.date(2022, 6, 24), datetime.date(2022, 6, 17))"
      ]
     },
     "execution_count": 2,
     "metadata": {},
     "output_type": "execute_result"
    }
   ],
   "source": [
    "today = today - timedelta(days=2)\n",
    "wkago = today - timedelta(days=7)\n",
    "#wkago = date(2020, 12, 30)\n",
    "today, wkago"
   ]
  },
  {
   "cell_type": "markdown",
   "metadata": {},
   "source": [
    "### Restart and Run All Cells"
   ]
  },
  {
   "cell_type": "markdown",
   "metadata": {},
   "source": [
    "### Weekly process or when stataus changes."
   ]
  },
  {
   "cell_type": "code",
   "execution_count": 3,
   "metadata": {},
   "outputs": [
    {
     "data": {
      "text/plain": [
       "2456"
      ]
     },
     "execution_count": 3,
     "metadata": {},
     "output_type": "execute_result"
    }
   ],
   "source": [
    "sqlDel = \"\"\"DELETE FROM sales\"\"\"\n",
    "rp = conlite.execute(sqlDel)\n",
    "rp.rowcount"
   ]
  },
  {
   "cell_type": "code",
   "execution_count": 4,
   "metadata": {},
   "outputs": [
    {
     "data": {
      "text/plain": [
       "\"'AIT', 'AP', 'ASK', 'BANPU', 'BCPG', 'BPP', 'DIF', 'GLOBAL', 'IVL', 'JASIF', 'KBANK', 'MAKRO', 'MCS', 'NER', 'SINGER', 'SIS', 'SNC', 'SSP', 'TMT', 'TTB'\""
      ]
     },
     "execution_count": 4,
     "metadata": {},
     "output_type": "execute_result"
    }
   ],
   "source": [
    "sql = \"\"\"\n",
    "SELECT name\n",
    "FROM orders \n",
    "ORDER BY name\n",
    "\"\"\"\n",
    "df = pd.read_sql(sql, conlite)\n",
    "\n",
    "names = df['name'].values.tolist()\n",
    "in_p = \", \".join(map(lambda name: \"'%s'\" % name, names))\n",
    "in_p"
   ]
  },
  {
   "cell_type": "code",
   "execution_count": 5,
   "metadata": {},
   "outputs": [
    {
     "data": {
      "text/plain": [
       "20"
      ]
     },
     "execution_count": 5,
     "metadata": {},
     "output_type": "execute_result"
    }
   ],
   "source": [
    "len(in_p.split(','))"
   ]
  },
  {
   "cell_type": "markdown",
   "metadata": {},
   "source": [
    "### Get past one year data"
   ]
  },
  {
   "cell_type": "code",
   "execution_count": 6,
   "metadata": {},
   "outputs": [
    {
     "name": "stdout",
     "output_type": "stream",
     "text": [
      "\n",
      "SELECT * \n",
      "FROM price \n",
      "WHERE date >= '2021-06-24' AND name IN ('AIT', 'AP', 'ASK', 'BANPU', 'BCPG', 'BPP', 'DIF', 'GLOBAL', 'IVL', 'JASIF', 'KBANK', 'MAKRO', 'MCS', 'NER', 'SINGER', 'SIS', 'SNC', 'SSP', 'TMT', 'TTB') \n",
      "ORDER BY name, date\n"
     ]
    }
   ],
   "source": [
    "one_year_ago = yesterday - timedelta(days=365)\n",
    "one_year_ago\n",
    "\n",
    "sql = \"\"\"\n",
    "SELECT * \n",
    "FROM price \n",
    "WHERE date >= '%s' AND name IN (%s) \n",
    "ORDER BY name, date\"\"\"\n",
    "sql = sql % (one_year_ago, in_p)\n",
    "print(sql)"
   ]
  },
  {
   "cell_type": "code",
   "execution_count": 7,
   "metadata": {},
   "outputs": [
    {
     "data": {
      "text/plain": [
       "(4860, 7)"
      ]
     },
     "execution_count": 7,
     "metadata": {},
     "output_type": "execute_result"
    }
   ],
   "source": [
    "df = pd.read_sql(sql, const)\n",
    "df.shape"
   ]
  },
  {
   "cell_type": "code",
   "execution_count": 8,
   "metadata": {},
   "outputs": [],
   "source": [
    "data_path = \"../data/\"\n",
    "file_name = \"Yearly-Price-by-Name.csv\"\n",
    "output_file = data_path + file_name\n",
    "\n",
    "df.set_index(\"name\", inplace=True)\n",
    "df.to_csv(output_file, header=None)"
   ]
  },
  {
   "cell_type": "code",
   "execution_count": 9,
   "metadata": {
    "scrolled": false
   },
   "outputs": [
    {
     "data": {
      "text/html": [
       "<div>\n",
       "<style scoped>\n",
       "    .dataframe tbody tr th:only-of-type {\n",
       "        vertical-align: middle;\n",
       "    }\n",
       "\n",
       "    .dataframe tbody tr th {\n",
       "        vertical-align: top;\n",
       "    }\n",
       "\n",
       "    .dataframe thead th {\n",
       "        text-align: right;\n",
       "    }\n",
       "</style>\n",
       "<table border=\"1\" class=\"dataframe\">\n",
       "  <thead>\n",
       "    <tr style=\"text-align: right;\">\n",
       "      <th></th>\n",
       "      <th>trade</th>\n",
       "    </tr>\n",
       "    <tr>\n",
       "      <th>name</th>\n",
       "      <th></th>\n",
       "    </tr>\n",
       "  </thead>\n",
       "  <tbody>\n",
       "    <tr>\n",
       "      <th>AIT</th>\n",
       "      <td>B</td>\n",
       "    </tr>\n",
       "    <tr>\n",
       "      <th>AP</th>\n",
       "      <td>B</td>\n",
       "    </tr>\n",
       "    <tr>\n",
       "      <th>ASK</th>\n",
       "      <td>B</td>\n",
       "    </tr>\n",
       "    <tr>\n",
       "      <th>BANPU</th>\n",
       "      <td>B</td>\n",
       "    </tr>\n",
       "    <tr>\n",
       "      <th>BCPG</th>\n",
       "      <td>B</td>\n",
       "    </tr>\n",
       "    <tr>\n",
       "      <th>BPP</th>\n",
       "      <td>B</td>\n",
       "    </tr>\n",
       "    <tr>\n",
       "      <th>DIF</th>\n",
       "      <td>S</td>\n",
       "    </tr>\n",
       "    <tr>\n",
       "      <th>GLOBAL</th>\n",
       "      <td>B</td>\n",
       "    </tr>\n",
       "    <tr>\n",
       "      <th>IVL</th>\n",
       "      <td>B</td>\n",
       "    </tr>\n",
       "    <tr>\n",
       "      <th>JASIF</th>\n",
       "      <td>S</td>\n",
       "    </tr>\n",
       "    <tr>\n",
       "      <th>KBANK</th>\n",
       "      <td>B</td>\n",
       "    </tr>\n",
       "    <tr>\n",
       "      <th>MAKRO</th>\n",
       "      <td>S</td>\n",
       "    </tr>\n",
       "    <tr>\n",
       "      <th>MCS</th>\n",
       "      <td>B</td>\n",
       "    </tr>\n",
       "    <tr>\n",
       "      <th>NER</th>\n",
       "      <td>S</td>\n",
       "    </tr>\n",
       "    <tr>\n",
       "      <th>SINGER</th>\n",
       "      <td>B</td>\n",
       "    </tr>\n",
       "    <tr>\n",
       "      <th>SIS</th>\n",
       "      <td>S</td>\n",
       "    </tr>\n",
       "    <tr>\n",
       "      <th>SNC</th>\n",
       "      <td>B</td>\n",
       "    </tr>\n",
       "    <tr>\n",
       "      <th>SSP</th>\n",
       "      <td>B</td>\n",
       "    </tr>\n",
       "    <tr>\n",
       "      <th>TMT</th>\n",
       "      <td>B</td>\n",
       "    </tr>\n",
       "    <tr>\n",
       "      <th>TTB</th>\n",
       "      <td>S</td>\n",
       "    </tr>\n",
       "  </tbody>\n",
       "</table>\n",
       "</div>"
      ],
      "text/plain": [
       "       trade\n",
       "name        \n",
       "AIT        B\n",
       "AP         B\n",
       "ASK        B\n",
       "BANPU      B\n",
       "BCPG       B\n",
       "BPP        B\n",
       "DIF        S\n",
       "GLOBAL     B\n",
       "IVL        B\n",
       "JASIF      S\n",
       "KBANK      B\n",
       "MAKRO      S\n",
       "MCS        B\n",
       "NER        S\n",
       "SINGER     B\n",
       "SIS        S\n",
       "SNC        B\n",
       "SSP        B\n",
       "TMT        B\n",
       "TTB        S"
      ]
     },
     "execution_count": 9,
     "metadata": {},
     "output_type": "execute_result"
    }
   ],
   "source": [
    "sql = \"\"\"\n",
    "SELECT name,trade \n",
    "FROM orders \n",
    "WHERE name IN (%s)\n",
    "ORDER BY name\n",
    "\"\"\"\n",
    "sql = sql % in_p\n",
    "orders = pd.read_sql(sql, conlite)\n",
    "orders.set_index(['name'],inplace=True)\n",
    "orders"
   ]
  },
  {
   "cell_type": "markdown",
   "metadata": {},
   "source": [
    "### Create monitors from stocks"
   ]
  },
  {
   "cell_type": "code",
   "execution_count": 10,
   "metadata": {},
   "outputs": [
    {
     "data": {
      "text/html": [
       "<div>\n",
       "<style scoped>\n",
       "    .dataframe tbody tr th:only-of-type {\n",
       "        vertical-align: middle;\n",
       "    }\n",
       "\n",
       "    .dataframe tbody tr th {\n",
       "        vertical-align: top;\n",
       "    }\n",
       "\n",
       "    .dataframe thead th {\n",
       "        text-align: right;\n",
       "    }\n",
       "</style>\n",
       "<table border=\"1\" class=\"dataframe\">\n",
       "  <thead>\n",
       "    <tr style=\"text-align: right;\">\n",
       "      <th></th>\n",
       "      <th>trade</th>\n",
       "    </tr>\n",
       "    <tr>\n",
       "      <th>name</th>\n",
       "      <th></th>\n",
       "    </tr>\n",
       "  </thead>\n",
       "  <tbody>\n",
       "    <tr>\n",
       "      <th>AIT</th>\n",
       "      <td>B</td>\n",
       "    </tr>\n",
       "    <tr>\n",
       "      <th>AP</th>\n",
       "      <td>B</td>\n",
       "    </tr>\n",
       "    <tr>\n",
       "      <th>ASK</th>\n",
       "      <td>B</td>\n",
       "    </tr>\n",
       "    <tr>\n",
       "      <th>BANPU</th>\n",
       "      <td>B</td>\n",
       "    </tr>\n",
       "    <tr>\n",
       "      <th>BCPG</th>\n",
       "      <td>B</td>\n",
       "    </tr>\n",
       "    <tr>\n",
       "      <th>BPP</th>\n",
       "      <td>B</td>\n",
       "    </tr>\n",
       "    <tr>\n",
       "      <th>DIF</th>\n",
       "      <td>S</td>\n",
       "    </tr>\n",
       "    <tr>\n",
       "      <th>GLOBAL</th>\n",
       "      <td>B</td>\n",
       "    </tr>\n",
       "    <tr>\n",
       "      <th>IVL</th>\n",
       "      <td>B</td>\n",
       "    </tr>\n",
       "    <tr>\n",
       "      <th>JASIF</th>\n",
       "      <td>S</td>\n",
       "    </tr>\n",
       "    <tr>\n",
       "      <th>KBANK</th>\n",
       "      <td>B</td>\n",
       "    </tr>\n",
       "    <tr>\n",
       "      <th>MAKRO</th>\n",
       "      <td>S</td>\n",
       "    </tr>\n",
       "    <tr>\n",
       "      <th>MCS</th>\n",
       "      <td>B</td>\n",
       "    </tr>\n",
       "    <tr>\n",
       "      <th>NER</th>\n",
       "      <td>S</td>\n",
       "    </tr>\n",
       "    <tr>\n",
       "      <th>SINGER</th>\n",
       "      <td>B</td>\n",
       "    </tr>\n",
       "    <tr>\n",
       "      <th>SIS</th>\n",
       "      <td>S</td>\n",
       "    </tr>\n",
       "    <tr>\n",
       "      <th>SNC</th>\n",
       "      <td>B</td>\n",
       "    </tr>\n",
       "    <tr>\n",
       "      <th>SSP</th>\n",
       "      <td>B</td>\n",
       "    </tr>\n",
       "    <tr>\n",
       "      <th>TMT</th>\n",
       "      <td>B</td>\n",
       "    </tr>\n",
       "    <tr>\n",
       "      <th>TTB</th>\n",
       "      <td>S</td>\n",
       "    </tr>\n",
       "  </tbody>\n",
       "</table>\n",
       "</div>"
      ],
      "text/plain": [
       "       trade\n",
       "name        \n",
       "AIT        B\n",
       "AP         B\n",
       "ASK        B\n",
       "BANPU      B\n",
       "BCPG       B\n",
       "BPP        B\n",
       "DIF        S\n",
       "GLOBAL     B\n",
       "IVL        B\n",
       "JASIF      S\n",
       "KBANK      B\n",
       "MAKRO      S\n",
       "MCS        B\n",
       "NER        S\n",
       "SINGER     B\n",
       "SIS        S\n",
       "SNC        B\n",
       "SSP        B\n",
       "TMT        B\n",
       "TTB        S"
      ]
     },
     "execution_count": 10,
     "metadata": {},
     "output_type": "execute_result"
    }
   ],
   "source": [
    "sql = \"\"\"\n",
    "SELECT name, trade \n",
    "FROM orders \n",
    "ORDER BY name\n",
    "\"\"\"\n",
    "monitors = pd.read_sql(sql, conlite)\n",
    "monitors.set_index([\"name\"], inplace=True)\n",
    "monitors"
   ]
  },
  {
   "cell_type": "code",
   "execution_count": 11,
   "metadata": {},
   "outputs": [
    {
     "data": {
      "text/plain": [
       "20"
      ]
     },
     "execution_count": 11,
     "metadata": {},
     "output_type": "execute_result"
    }
   ],
   "source": [
    "monitors.shape[0]"
   ]
  },
  {
   "cell_type": "code",
   "execution_count": 12,
   "metadata": {},
   "outputs": [],
   "source": [
    "file_name = \"monitors.csv\"\n",
    "data_file = data_path + file_name\n",
    "output_file = csv_path + file_name\n",
    "box_file = box_path + file_name\n",
    "\n",
    "orders.to_csv(data_file, header=None)\n",
    "orders.to_csv(box_file)"
   ]
  },
  {
   "cell_type": "code",
   "execution_count": 13,
   "metadata": {},
   "outputs": [
    {
     "data": {
      "text/html": [
       "<div>\n",
       "<style scoped>\n",
       "    .dataframe tbody tr th:only-of-type {\n",
       "        vertical-align: middle;\n",
       "    }\n",
       "\n",
       "    .dataframe tbody tr th {\n",
       "        vertical-align: top;\n",
       "    }\n",
       "\n",
       "    .dataframe thead th {\n",
       "        text-align: right;\n",
       "    }\n",
       "</style>\n",
       "<table border=\"1\" class=\"dataframe\">\n",
       "  <thead>\n",
       "    <tr style=\"text-align: right;\">\n",
       "      <th></th>\n",
       "      <th>trade</th>\n",
       "      <th>items</th>\n",
       "    </tr>\n",
       "  </thead>\n",
       "  <tbody>\n",
       "    <tr>\n",
       "      <th>0</th>\n",
       "      <td>B</td>\n",
       "      <td>14</td>\n",
       "    </tr>\n",
       "    <tr>\n",
       "      <th>1</th>\n",
       "      <td>S</td>\n",
       "      <td>6</td>\n",
       "    </tr>\n",
       "  </tbody>\n",
       "</table>\n",
       "</div>"
      ],
      "text/plain": [
       "  trade  items\n",
       "0     B     14\n",
       "1     S      6"
      ]
     },
     "execution_count": 13,
     "metadata": {},
     "output_type": "execute_result"
    }
   ],
   "source": [
    "sql = \"\"\"\n",
    "SELECT trade, COUNT(*) AS items \n",
    "FROM orders\n",
    "GROUP BY trade\n",
    "ORDER BY trade\n",
    "\"\"\"\n",
    "grp = pd.read_sql(sql, conlite)\n",
    "grp"
   ]
  },
  {
   "cell_type": "code",
   "execution_count": 14,
   "metadata": {},
   "outputs": [
    {
     "data": {
      "text/plain": [
       "'../data/price-uploads.csv'"
      ]
     },
     "execution_count": 14,
     "metadata": {},
     "output_type": "execute_result"
    }
   ],
   "source": [
    "file_name = 'price-uploads.csv'\n",
    "url = data_path + file_name\n",
    "url"
   ]
  },
  {
   "cell_type": "code",
   "execution_count": 15,
   "metadata": {},
   "outputs": [
    {
     "data": {
      "text/plain": [
       "(140, 1)"
      ]
     },
     "execution_count": 15,
     "metadata": {},
     "output_type": "execute_result"
    }
   ],
   "source": [
    "uploads = pd.read_csv(url)\n",
    "uploads.sort_values(['name'],ascending=[True]).shape"
   ]
  },
  {
   "cell_type": "code",
   "execution_count": 16,
   "metadata": {},
   "outputs": [
    {
     "data": {
      "text/plain": [
       "(140, 3)"
      ]
     },
     "execution_count": 16,
     "metadata": {},
     "output_type": "execute_result"
    }
   ],
   "source": [
    "df_merge = pd.merge(orders, uploads, on='name', how='outer', indicator=True)\n",
    "df_merge.sort_values(['name'],ascending=[True]).shape"
   ]
  },
  {
   "cell_type": "code",
   "execution_count": 17,
   "metadata": {},
   "outputs": [
    {
     "data": {
      "text/html": [
       "<div>\n",
       "<style scoped>\n",
       "    .dataframe tbody tr th:only-of-type {\n",
       "        vertical-align: middle;\n",
       "    }\n",
       "\n",
       "    .dataframe tbody tr th {\n",
       "        vertical-align: top;\n",
       "    }\n",
       "\n",
       "    .dataframe thead th {\n",
       "        text-align: right;\n",
       "    }\n",
       "</style>\n",
       "<table border=\"1\" class=\"dataframe\">\n",
       "  <thead>\n",
       "    <tr style=\"text-align: right;\">\n",
       "      <th></th>\n",
       "      <th>name</th>\n",
       "      <th>trade</th>\n",
       "      <th>_merge</th>\n",
       "    </tr>\n",
       "  </thead>\n",
       "  <tbody>\n",
       "  </tbody>\n",
       "</table>\n",
       "</div>"
      ],
      "text/plain": [
       "Empty DataFrame\n",
       "Columns: [name, trade, _merge]\n",
       "Index: []"
      ]
     },
     "execution_count": 17,
     "metadata": {},
     "output_type": "execute_result"
    }
   ],
   "source": [
    "new_prices = df_merge['_merge'] == 'left_only'\n",
    "df_merge[new_prices]"
   ]
  },
  {
   "cell_type": "code",
   "execution_count": 18,
   "metadata": {},
   "outputs": [
    {
     "data": {
      "text/plain": [
       "(120, 3)"
      ]
     },
     "execution_count": 18,
     "metadata": {},
     "output_type": "execute_result"
    }
   ],
   "source": [
    "new_prices = df_merge['_merge'] == 'right_only'\n",
    "df_merge[new_prices].shape"
   ]
  },
  {
   "cell_type": "code",
   "execution_count": 19,
   "metadata": {},
   "outputs": [
    {
     "data": {
      "text/html": [
       "<div>\n",
       "<style scoped>\n",
       "    .dataframe tbody tr th:only-of-type {\n",
       "        vertical-align: middle;\n",
       "    }\n",
       "\n",
       "    .dataframe tbody tr th {\n",
       "        vertical-align: top;\n",
       "    }\n",
       "\n",
       "    .dataframe thead th {\n",
       "        text-align: right;\n",
       "    }\n",
       "</style>\n",
       "<table border=\"1\" class=\"dataframe\">\n",
       "  <thead>\n",
       "    <tr style=\"text-align: right;\">\n",
       "      <th></th>\n",
       "      <th>status</th>\n",
       "      <th>market</th>\n",
       "    </tr>\n",
       "    <tr>\n",
       "      <th>name</th>\n",
       "      <th></th>\n",
       "      <th></th>\n",
       "    </tr>\n",
       "  </thead>\n",
       "  <tbody>\n",
       "    <tr>\n",
       "      <th>MCS</th>\n",
       "      <td>B</td>\n",
       "      <td>SET</td>\n",
       "    </tr>\n",
       "    <tr>\n",
       "      <th>TMT</th>\n",
       "      <td>B</td>\n",
       "      <td>SET</td>\n",
       "    </tr>\n",
       "    <tr>\n",
       "      <th>DIF</th>\n",
       "      <td>I</td>\n",
       "      <td>SET</td>\n",
       "    </tr>\n",
       "    <tr>\n",
       "      <th>MAKRO</th>\n",
       "      <td>I</td>\n",
       "      <td>SET</td>\n",
       "    </tr>\n",
       "    <tr>\n",
       "      <th>NER</th>\n",
       "      <td>I</td>\n",
       "      <td>SET</td>\n",
       "    </tr>\n",
       "    <tr>\n",
       "      <th>SIS</th>\n",
       "      <td>I</td>\n",
       "      <td>SET</td>\n",
       "    </tr>\n",
       "    <tr>\n",
       "      <th>TTB</th>\n",
       "      <td>I</td>\n",
       "      <td>SET50</td>\n",
       "    </tr>\n",
       "    <tr>\n",
       "      <th>AIT</th>\n",
       "      <td>O</td>\n",
       "      <td>SET</td>\n",
       "    </tr>\n",
       "    <tr>\n",
       "      <th>AP</th>\n",
       "      <td>O</td>\n",
       "      <td>SET100</td>\n",
       "    </tr>\n",
       "    <tr>\n",
       "      <th>ASK</th>\n",
       "      <td>O</td>\n",
       "      <td>SET</td>\n",
       "    </tr>\n",
       "    <tr>\n",
       "      <th>BANPU</th>\n",
       "      <td>O</td>\n",
       "      <td>SET50</td>\n",
       "    </tr>\n",
       "    <tr>\n",
       "      <th>BCPG</th>\n",
       "      <td>O</td>\n",
       "      <td>SET100</td>\n",
       "    </tr>\n",
       "    <tr>\n",
       "      <th>BPP</th>\n",
       "      <td>O</td>\n",
       "      <td>SET100</td>\n",
       "    </tr>\n",
       "    <tr>\n",
       "      <th>GLOBAL</th>\n",
       "      <td>O</td>\n",
       "      <td>SET50</td>\n",
       "    </tr>\n",
       "    <tr>\n",
       "      <th>IVL</th>\n",
       "      <td>O</td>\n",
       "      <td>SET50</td>\n",
       "    </tr>\n",
       "    <tr>\n",
       "      <th>KBANK</th>\n",
       "      <td>O</td>\n",
       "      <td>SET50</td>\n",
       "    </tr>\n",
       "    <tr>\n",
       "      <th>SINGER</th>\n",
       "      <td>O</td>\n",
       "      <td>SET100</td>\n",
       "    </tr>\n",
       "    <tr>\n",
       "      <th>SNC</th>\n",
       "      <td>O</td>\n",
       "      <td>SET</td>\n",
       "    </tr>\n",
       "    <tr>\n",
       "      <th>SSP</th>\n",
       "      <td>O</td>\n",
       "      <td>SET</td>\n",
       "    </tr>\n",
       "    <tr>\n",
       "      <th>JASIF</th>\n",
       "      <td>S</td>\n",
       "      <td>SET</td>\n",
       "    </tr>\n",
       "    <tr>\n",
       "      <th>ASP</th>\n",
       "      <td>T</td>\n",
       "      <td>SET</td>\n",
       "    </tr>\n",
       "    <tr>\n",
       "      <th>DOHOME</th>\n",
       "      <td>T</td>\n",
       "      <td>SET100</td>\n",
       "    </tr>\n",
       "    <tr>\n",
       "      <th>SCCC</th>\n",
       "      <td>T</td>\n",
       "      <td>SET</td>\n",
       "    </tr>\n",
       "    <tr>\n",
       "      <th>SENA</th>\n",
       "      <td>T</td>\n",
       "      <td>SET</td>\n",
       "    </tr>\n",
       "    <tr>\n",
       "      <th>STA</th>\n",
       "      <td>T</td>\n",
       "      <td>SET100</td>\n",
       "    </tr>\n",
       "    <tr>\n",
       "      <th>TISCO</th>\n",
       "      <td>T</td>\n",
       "      <td>SET50</td>\n",
       "    </tr>\n",
       "    <tr>\n",
       "      <th>WHAIR</th>\n",
       "      <td>T</td>\n",
       "      <td>SET</td>\n",
       "    </tr>\n",
       "    <tr>\n",
       "      <th>WHART</th>\n",
       "      <td>T</td>\n",
       "      <td>SET</td>\n",
       "    </tr>\n",
       "    <tr>\n",
       "      <th>BCH</th>\n",
       "      <td>U</td>\n",
       "      <td>SET100</td>\n",
       "    </tr>\n",
       "    <tr>\n",
       "      <th>DCC</th>\n",
       "      <td>U</td>\n",
       "      <td>SET</td>\n",
       "    </tr>\n",
       "    <tr>\n",
       "      <th>KCE</th>\n",
       "      <td>U</td>\n",
       "      <td>SET50</td>\n",
       "    </tr>\n",
       "    <tr>\n",
       "      <th>ORI</th>\n",
       "      <td>U</td>\n",
       "      <td>SET100</td>\n",
       "    </tr>\n",
       "    <tr>\n",
       "      <th>PTTGC</th>\n",
       "      <td>U</td>\n",
       "      <td>SET50</td>\n",
       "    </tr>\n",
       "    <tr>\n",
       "      <th>RCL</th>\n",
       "      <td>U</td>\n",
       "      <td>SET100</td>\n",
       "    </tr>\n",
       "    <tr>\n",
       "      <th>SCC</th>\n",
       "      <td>U</td>\n",
       "      <td>SET50</td>\n",
       "    </tr>\n",
       "    <tr>\n",
       "      <th>SYNEX</th>\n",
       "      <td>U</td>\n",
       "      <td>SET100</td>\n",
       "    </tr>\n",
       "    <tr>\n",
       "      <th>TOP</th>\n",
       "      <td>U</td>\n",
       "      <td>SET50</td>\n",
       "    </tr>\n",
       "    <tr>\n",
       "      <th>TPIPL</th>\n",
       "      <td>U</td>\n",
       "      <td>SET</td>\n",
       "    </tr>\n",
       "    <tr>\n",
       "      <th>BAY</th>\n",
       "      <td>X</td>\n",
       "      <td>SET</td>\n",
       "    </tr>\n",
       "    <tr>\n",
       "      <th>BBL</th>\n",
       "      <td>X</td>\n",
       "      <td>SET50</td>\n",
       "    </tr>\n",
       "    <tr>\n",
       "      <th>BGC</th>\n",
       "      <td>X</td>\n",
       "      <td>SET</td>\n",
       "    </tr>\n",
       "    <tr>\n",
       "      <th>BH</th>\n",
       "      <td>X</td>\n",
       "      <td>SET50</td>\n",
       "    </tr>\n",
       "    <tr>\n",
       "      <th>COTTO</th>\n",
       "      <td>X</td>\n",
       "      <td>SET</td>\n",
       "    </tr>\n",
       "    <tr>\n",
       "      <th>ESSO</th>\n",
       "      <td>X</td>\n",
       "      <td>SET100</td>\n",
       "    </tr>\n",
       "    <tr>\n",
       "      <th>GGC</th>\n",
       "      <td>X</td>\n",
       "      <td>SET</td>\n",
       "    </tr>\n",
       "    <tr>\n",
       "      <th>GULF</th>\n",
       "      <td>X</td>\n",
       "      <td>SET50</td>\n",
       "    </tr>\n",
       "    <tr>\n",
       "      <th>KKP</th>\n",
       "      <td>X</td>\n",
       "      <td>SET100</td>\n",
       "    </tr>\n",
       "    <tr>\n",
       "      <th>KTB</th>\n",
       "      <td>X</td>\n",
       "      <td>SET50</td>\n",
       "    </tr>\n",
       "    <tr>\n",
       "      <th>KTC</th>\n",
       "      <td>X</td>\n",
       "      <td>SET50</td>\n",
       "    </tr>\n",
       "    <tr>\n",
       "      <th>MEGA</th>\n",
       "      <td>X</td>\n",
       "      <td>SET100</td>\n",
       "    </tr>\n",
       "    <tr>\n",
       "      <th>MST</th>\n",
       "      <td>X</td>\n",
       "      <td>SET</td>\n",
       "    </tr>\n",
       "    <tr>\n",
       "      <th>RBF</th>\n",
       "      <td>X</td>\n",
       "      <td>SET100</td>\n",
       "    </tr>\n",
       "    <tr>\n",
       "      <th>SCB</th>\n",
       "      <td>X</td>\n",
       "      <td>SET50</td>\n",
       "    </tr>\n",
       "    <tr>\n",
       "      <th>SMPC</th>\n",
       "      <td>X</td>\n",
       "      <td>SET</td>\n",
       "    </tr>\n",
       "    <tr>\n",
       "      <th>SPRC</th>\n",
       "      <td>X</td>\n",
       "      <td>SET100</td>\n",
       "    </tr>\n",
       "    <tr>\n",
       "      <th>STANLY</th>\n",
       "      <td>X</td>\n",
       "      <td>SET</td>\n",
       "    </tr>\n",
       "  </tbody>\n",
       "</table>\n",
       "</div>"
      ],
      "text/plain": [
       "       status  market\n",
       "name                 \n",
       "MCS         B     SET\n",
       "TMT         B     SET\n",
       "DIF         I     SET\n",
       "MAKRO       I     SET\n",
       "NER         I     SET\n",
       "SIS         I     SET\n",
       "TTB         I   SET50\n",
       "AIT         O     SET\n",
       "AP          O  SET100\n",
       "ASK         O     SET\n",
       "BANPU       O   SET50\n",
       "BCPG        O  SET100\n",
       "BPP         O  SET100\n",
       "GLOBAL      O   SET50\n",
       "IVL         O   SET50\n",
       "KBANK       O   SET50\n",
       "SINGER      O  SET100\n",
       "SNC         O     SET\n",
       "SSP         O     SET\n",
       "JASIF       S     SET\n",
       "ASP         T     SET\n",
       "DOHOME      T  SET100\n",
       "SCCC        T     SET\n",
       "SENA        T     SET\n",
       "STA         T  SET100\n",
       "TISCO       T   SET50\n",
       "WHAIR       T     SET\n",
       "WHART       T     SET\n",
       "BCH         U  SET100\n",
       "DCC         U     SET\n",
       "KCE         U   SET50\n",
       "ORI         U  SET100\n",
       "PTTGC       U   SET50\n",
       "RCL         U  SET100\n",
       "SCC         U   SET50\n",
       "SYNEX       U  SET100\n",
       "TOP         U   SET50\n",
       "TPIPL       U     SET\n",
       "BAY         X     SET\n",
       "BBL         X   SET50\n",
       "BGC         X     SET\n",
       "BH          X   SET50\n",
       "COTTO       X     SET\n",
       "ESSO        X  SET100\n",
       "GGC         X     SET\n",
       "GULF        X   SET50\n",
       "KKP         X  SET100\n",
       "KTB         X   SET50\n",
       "KTC         X   SET50\n",
       "MEGA        X  SET100\n",
       "MST         X     SET\n",
       "RBF         X  SET100\n",
       "SCB         X   SET50\n",
       "SMPC        X     SET\n",
       "SPRC        X  SET100\n",
       "STANLY      X     SET"
      ]
     },
     "execution_count": 19,
     "metadata": {},
     "output_type": "execute_result"
    }
   ],
   "source": [
    "sql = \"\"\"\n",
    "SELECT name, status, market\n",
    "FROM stocks \n",
    "ORDER BY status, name\n",
    "\"\"\"\n",
    "stocks = pd.read_sql(sql, conlite)\n",
    "stocks.set_index([\"name\"], inplace=True)\n",
    "stocks"
   ]
  },
  {
   "cell_type": "code",
   "execution_count": 20,
   "metadata": {},
   "outputs": [],
   "source": [
    "file_name = \"stocks-all.csv\"\n",
    "data_file = data_path + file_name\n",
    "output_file = csv_path + file_name\n",
    "box_file = box_path + file_name\n",
    "one_file = one_path + file_name\n",
    "\n",
    "stocks.to_csv(data_file, header=None)\n",
    "stocks.to_csv(output_file)\n",
    "stocks.to_csv(box_file)\n",
    "stocks.to_csv(one_file)"
   ]
  },
  {
   "cell_type": "code",
   "execution_count": 21,
   "metadata": {},
   "outputs": [
    {
     "data": {
      "text/html": [
       "<div>\n",
       "<style scoped>\n",
       "    .dataframe tbody tr th:only-of-type {\n",
       "        vertical-align: middle;\n",
       "    }\n",
       "\n",
       "    .dataframe tbody tr th {\n",
       "        vertical-align: top;\n",
       "    }\n",
       "\n",
       "    .dataframe thead th {\n",
       "        text-align: right;\n",
       "    }\n",
       "</style>\n",
       "<table border=\"1\" class=\"dataframe\">\n",
       "  <thead>\n",
       "    <tr style=\"text-align: right;\">\n",
       "      <th></th>\n",
       "      <th>status</th>\n",
       "    </tr>\n",
       "    <tr>\n",
       "      <th>name</th>\n",
       "      <th></th>\n",
       "    </tr>\n",
       "  </thead>\n",
       "  <tbody>\n",
       "    <tr>\n",
       "      <th>AIT</th>\n",
       "      <td>O</td>\n",
       "    </tr>\n",
       "    <tr>\n",
       "      <th>AP</th>\n",
       "      <td>O</td>\n",
       "    </tr>\n",
       "    <tr>\n",
       "      <th>ASK</th>\n",
       "      <td>O</td>\n",
       "    </tr>\n",
       "    <tr>\n",
       "      <th>BANPU</th>\n",
       "      <td>O</td>\n",
       "    </tr>\n",
       "    <tr>\n",
       "      <th>BCPG</th>\n",
       "      <td>O</td>\n",
       "    </tr>\n",
       "    <tr>\n",
       "      <th>BPP</th>\n",
       "      <td>O</td>\n",
       "    </tr>\n",
       "    <tr>\n",
       "      <th>GLOBAL</th>\n",
       "      <td>O</td>\n",
       "    </tr>\n",
       "    <tr>\n",
       "      <th>IVL</th>\n",
       "      <td>O</td>\n",
       "    </tr>\n",
       "    <tr>\n",
       "      <th>KBANK</th>\n",
       "      <td>O</td>\n",
       "    </tr>\n",
       "    <tr>\n",
       "      <th>MCS</th>\n",
       "      <td>B</td>\n",
       "    </tr>\n",
       "    <tr>\n",
       "      <th>SINGER</th>\n",
       "      <td>O</td>\n",
       "    </tr>\n",
       "    <tr>\n",
       "      <th>SNC</th>\n",
       "      <td>O</td>\n",
       "    </tr>\n",
       "    <tr>\n",
       "      <th>SSP</th>\n",
       "      <td>O</td>\n",
       "    </tr>\n",
       "    <tr>\n",
       "      <th>TMT</th>\n",
       "      <td>B</td>\n",
       "    </tr>\n",
       "  </tbody>\n",
       "</table>\n",
       "</div>"
      ],
      "text/plain": [
       "       status\n",
       "name         \n",
       "AIT         O\n",
       "AP          O\n",
       "ASK         O\n",
       "BANPU       O\n",
       "BCPG        O\n",
       "BPP         O\n",
       "GLOBAL      O\n",
       "IVL         O\n",
       "KBANK       O\n",
       "MCS         B\n",
       "SINGER      O\n",
       "SNC         O\n",
       "SSP         O\n",
       "TMT         B"
      ]
     },
     "execution_count": 21,
     "metadata": {},
     "output_type": "execute_result"
    }
   ],
   "source": [
    "sql = \"\"\"\n",
    "SELECT name, status \n",
    "FROM stocks \n",
    "WHERE status IN (\"B\",\"O\")\n",
    "ORDER BY name\n",
    "\"\"\"\n",
    "\n",
    "buy_candidates = pd.read_sql(sql, conlite)\n",
    "buy_candidates.set_index([\"name\"], inplace=True)\n",
    "buy_candidates"
   ]
  },
  {
   "cell_type": "code",
   "execution_count": 22,
   "metadata": {},
   "outputs": [
    {
     "data": {
      "text/plain": [
       "14"
      ]
     },
     "execution_count": 22,
     "metadata": {},
     "output_type": "execute_result"
    }
   ],
   "source": [
    "buy_candidates.shape[0]"
   ]
  },
  {
   "cell_type": "code",
   "execution_count": 23,
   "metadata": {},
   "outputs": [
    {
     "data": {
      "text/html": [
       "<div>\n",
       "<style scoped>\n",
       "    .dataframe tbody tr th:only-of-type {\n",
       "        vertical-align: middle;\n",
       "    }\n",
       "\n",
       "    .dataframe tbody tr th {\n",
       "        vertical-align: top;\n",
       "    }\n",
       "\n",
       "    .dataframe thead th {\n",
       "        text-align: right;\n",
       "    }\n",
       "</style>\n",
       "<table border=\"1\" class=\"dataframe\">\n",
       "  <thead>\n",
       "    <tr style=\"text-align: right;\">\n",
       "      <th></th>\n",
       "      <th>status</th>\n",
       "    </tr>\n",
       "    <tr>\n",
       "      <th>name</th>\n",
       "      <th></th>\n",
       "    </tr>\n",
       "  </thead>\n",
       "  <tbody>\n",
       "    <tr>\n",
       "      <th>DIF</th>\n",
       "      <td>I</td>\n",
       "    </tr>\n",
       "    <tr>\n",
       "      <th>JASIF</th>\n",
       "      <td>S</td>\n",
       "    </tr>\n",
       "    <tr>\n",
       "      <th>MAKRO</th>\n",
       "      <td>I</td>\n",
       "    </tr>\n",
       "    <tr>\n",
       "      <th>NER</th>\n",
       "      <td>I</td>\n",
       "    </tr>\n",
       "    <tr>\n",
       "      <th>SIS</th>\n",
       "      <td>I</td>\n",
       "    </tr>\n",
       "    <tr>\n",
       "      <th>TTB</th>\n",
       "      <td>I</td>\n",
       "    </tr>\n",
       "  </tbody>\n",
       "</table>\n",
       "</div>"
      ],
      "text/plain": [
       "      status\n",
       "name        \n",
       "DIF        I\n",
       "JASIF      S\n",
       "MAKRO      I\n",
       "NER        I\n",
       "SIS        I\n",
       "TTB        I"
      ]
     },
     "execution_count": 23,
     "metadata": {},
     "output_type": "execute_result"
    }
   ],
   "source": [
    "sql = \"\"\"\n",
    "SELECT name, status \n",
    "FROM stocks \n",
    "WHERE status IN (\"I\",\"S\")\n",
    "ORDER BY name\n",
    "\"\"\"\n",
    "\n",
    "sell_candidates = pd.read_sql(sql, conlite)\n",
    "sell_candidates.set_index([\"name\"], inplace=True)\n",
    "sell_candidates"
   ]
  },
  {
   "cell_type": "code",
   "execution_count": 24,
   "metadata": {},
   "outputs": [
    {
     "data": {
      "text/plain": [
       "6"
      ]
     },
     "execution_count": 24,
     "metadata": {},
     "output_type": "execute_result"
    }
   ],
   "source": [
    "sell_candidates.shape[0]"
   ]
  },
  {
   "cell_type": "code",
   "execution_count": null,
   "metadata": {},
   "outputs": [],
   "source": []
  }
 ],
 "metadata": {
  "anaconda-cloud": {},
  "kernelspec": {
   "display_name": "Python 3 (ipykernel)",
   "language": "python",
   "name": "python3"
  },
  "language_info": {
   "codemirror_mode": {
    "name": "ipython",
    "version": 3
   },
   "file_extension": ".py",
   "mimetype": "text/x-python",
   "name": "python",
   "nbconvert_exporter": "python",
   "pygments_lexer": "ipython3",
   "version": "3.8.11"
  }
 },
 "nbformat": 4,
 "nbformat_minor": 1
}
