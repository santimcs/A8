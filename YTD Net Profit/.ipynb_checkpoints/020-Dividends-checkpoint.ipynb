{
 "cells": [
  {
   "cell_type": "code",
   "execution_count": 1,
   "metadata": {},
   "outputs": [],
   "source": [
    "import pandas as pd\n",
    "from datetime import date, timedelta\n",
    "from sqlalchemy import create_engine\n",
    "\n",
    "engine = create_engine('mysql+pymysql://root:@localhost:3306/portfolio_development')\n",
    "conpf = engine.connect()"
   ]
  },
  {
   "cell_type": "code",
   "execution_count": 2,
   "metadata": {
    "scrolled": true
   },
   "outputs": [
    {
     "data": {
      "text/html": [
       "<div>\n",
       "<style scoped>\n",
       "    .dataframe tbody tr th:only-of-type {\n",
       "        vertical-align: middle;\n",
       "    }\n",
       "\n",
       "    .dataframe tbody tr th {\n",
       "        vertical-align: top;\n",
       "    }\n",
       "\n",
       "    .dataframe thead th {\n",
       "        text-align: right;\n",
       "    }\n",
       "</style>\n",
       "<table border=\"1\" class=\"dataframe\">\n",
       "  <thead>\n",
       "    <tr style=\"text-align: right;\">\n",
       "      <th></th>\n",
       "      <th>name</th>\n",
       "      <th>COUNT(*)</th>\n",
       "    </tr>\n",
       "  </thead>\n",
       "  <tbody>\n",
       "    <tr>\n",
       "      <th>0</th>\n",
       "      <td>JASIF</td>\n",
       "      <td>12</td>\n",
       "    </tr>\n",
       "    <tr>\n",
       "      <th>1</th>\n",
       "      <td>IVL</td>\n",
       "      <td>11</td>\n",
       "    </tr>\n",
       "    <tr>\n",
       "      <th>2</th>\n",
       "      <td>CPNREIT</td>\n",
       "      <td>9</td>\n",
       "    </tr>\n",
       "    <tr>\n",
       "      <th>3</th>\n",
       "      <td>DIF</td>\n",
       "      <td>9</td>\n",
       "    </tr>\n",
       "    <tr>\n",
       "      <th>4</th>\n",
       "      <td>LH</td>\n",
       "      <td>7</td>\n",
       "    </tr>\n",
       "    <tr>\n",
       "      <th>...</th>\n",
       "      <td>...</td>\n",
       "      <td>...</td>\n",
       "    </tr>\n",
       "    <tr>\n",
       "      <th>68</th>\n",
       "      <td>TPCH</td>\n",
       "      <td>1</td>\n",
       "    </tr>\n",
       "    <tr>\n",
       "      <th>69</th>\n",
       "      <td>TTW</td>\n",
       "      <td>1</td>\n",
       "    </tr>\n",
       "    <tr>\n",
       "      <th>70</th>\n",
       "      <td>VIBHA</td>\n",
       "      <td>1</td>\n",
       "    </tr>\n",
       "    <tr>\n",
       "      <th>71</th>\n",
       "      <td>VNT</td>\n",
       "      <td>1</td>\n",
       "    </tr>\n",
       "    <tr>\n",
       "      <th>72</th>\n",
       "      <td>WHA</td>\n",
       "      <td>1</td>\n",
       "    </tr>\n",
       "  </tbody>\n",
       "</table>\n",
       "<p>73 rows × 2 columns</p>\n",
       "</div>"
      ],
      "text/plain": [
       "       name  COUNT(*)\n",
       "0     JASIF        12\n",
       "1       IVL        11\n",
       "2   CPNREIT         9\n",
       "3       DIF         9\n",
       "4        LH         7\n",
       "..      ...       ...\n",
       "68     TPCH         1\n",
       "69      TTW         1\n",
       "70    VIBHA         1\n",
       "71      VNT         1\n",
       "72      WHA         1\n",
       "\n",
       "[73 rows x 2 columns]"
      ]
     },
     "execution_count": 2,
     "metadata": {},
     "output_type": "execute_result"
    }
   ],
   "source": [
    "sql = '''\n",
    "SELECT name, COUNT(*)\n",
    "FROM dividends\n",
    "GROUP BY name\n",
    "ORDER BY COUNT(*) DESC, name ASC'''\n",
    "dividends = pd.read_sql(sql, conpf)\n",
    "dividends"
   ]
  },
  {
   "cell_type": "code",
   "execution_count": 3,
   "metadata": {},
   "outputs": [
    {
     "data": {
      "text/html": [
       "<div>\n",
       "<style scoped>\n",
       "    .dataframe tbody tr th:only-of-type {\n",
       "        vertical-align: middle;\n",
       "    }\n",
       "\n",
       "    .dataframe tbody tr th {\n",
       "        vertical-align: top;\n",
       "    }\n",
       "\n",
       "    .dataframe thead th {\n",
       "        text-align: right;\n",
       "    }\n",
       "</style>\n",
       "<table border=\"1\" class=\"dataframe\">\n",
       "  <thead>\n",
       "    <tr style=\"text-align: right;\">\n",
       "      <th></th>\n",
       "      <th>year</th>\n",
       "      <th>quarter</th>\n",
       "      <th>ttl_net</th>\n",
       "    </tr>\n",
       "  </thead>\n",
       "  <tbody>\n",
       "    <tr>\n",
       "      <th>0</th>\n",
       "      <td>2020</td>\n",
       "      <td>4</td>\n",
       "      <td>2316.60</td>\n",
       "    </tr>\n",
       "    <tr>\n",
       "      <th>1</th>\n",
       "      <td>2020</td>\n",
       "      <td>3</td>\n",
       "      <td>64070.50</td>\n",
       "    </tr>\n",
       "    <tr>\n",
       "      <th>2</th>\n",
       "      <td>2020</td>\n",
       "      <td>2</td>\n",
       "      <td>146973.05</td>\n",
       "    </tr>\n",
       "    <tr>\n",
       "      <th>3</th>\n",
       "      <td>2020</td>\n",
       "      <td>1</td>\n",
       "      <td>43855.01</td>\n",
       "    </tr>\n",
       "    <tr>\n",
       "      <th>4</th>\n",
       "      <td>2019</td>\n",
       "      <td>4</td>\n",
       "      <td>313584.70</td>\n",
       "    </tr>\n",
       "    <tr>\n",
       "      <th>5</th>\n",
       "      <td>2019</td>\n",
       "      <td>3</td>\n",
       "      <td>72131.65</td>\n",
       "    </tr>\n",
       "    <tr>\n",
       "      <th>6</th>\n",
       "      <td>2019</td>\n",
       "      <td>2</td>\n",
       "      <td>138670.80</td>\n",
       "    </tr>\n",
       "    <tr>\n",
       "      <th>7</th>\n",
       "      <td>2019</td>\n",
       "      <td>1</td>\n",
       "      <td>39528.50</td>\n",
       "    </tr>\n",
       "    <tr>\n",
       "      <th>8</th>\n",
       "      <td>2018</td>\n",
       "      <td>4</td>\n",
       "      <td>270173.60</td>\n",
       "    </tr>\n",
       "    <tr>\n",
       "      <th>9</th>\n",
       "      <td>2018</td>\n",
       "      <td>3</td>\n",
       "      <td>38905.90</td>\n",
       "    </tr>\n",
       "    <tr>\n",
       "      <th>10</th>\n",
       "      <td>2018</td>\n",
       "      <td>2</td>\n",
       "      <td>79365.50</td>\n",
       "    </tr>\n",
       "    <tr>\n",
       "      <th>11</th>\n",
       "      <td>2018</td>\n",
       "      <td>1</td>\n",
       "      <td>208866.18</td>\n",
       "    </tr>\n",
       "    <tr>\n",
       "      <th>12</th>\n",
       "      <td>2017</td>\n",
       "      <td>4</td>\n",
       "      <td>8910.00</td>\n",
       "    </tr>\n",
       "    <tr>\n",
       "      <th>13</th>\n",
       "      <td>2017</td>\n",
       "      <td>2</td>\n",
       "      <td>54624.15</td>\n",
       "    </tr>\n",
       "    <tr>\n",
       "      <th>14</th>\n",
       "      <td>2016</td>\n",
       "      <td>4</td>\n",
       "      <td>177990.08</td>\n",
       "    </tr>\n",
       "  </tbody>\n",
       "</table>\n",
       "</div>"
      ],
      "text/plain": [
       "    year  quarter    ttl_net\n",
       "0   2020        4    2316.60\n",
       "1   2020        3   64070.50\n",
       "2   2020        2  146973.05\n",
       "3   2020        1   43855.01\n",
       "4   2019        4  313584.70\n",
       "5   2019        3   72131.65\n",
       "6   2019        2  138670.80\n",
       "7   2019        1   39528.50\n",
       "8   2018        4  270173.60\n",
       "9   2018        3   38905.90\n",
       "10  2018        2   79365.50\n",
       "11  2018        1  208866.18\n",
       "12  2017        4    8910.00\n",
       "13  2017        2   54624.15\n",
       "14  2016        4  177990.08"
      ]
     },
     "execution_count": 3,
     "metadata": {},
     "output_type": "execute_result"
    }
   ],
   "source": [
    "sql = '''\n",
    "SELECT year, quarter, SUM(net) AS ttl_net\n",
    "FROM dividends\n",
    "GROUP BY year, quarter\n",
    "ORDER BY year DESC, quarter DESC'''\n",
    "ttl_by_qtr = pd.read_sql(sql, conpf)\n",
    "ttl_by_qtr"
   ]
  },
  {
   "cell_type": "code",
   "execution_count": 4,
   "metadata": {},
   "outputs": [
    {
     "data": {
      "text/html": [
       "<div>\n",
       "<style scoped>\n",
       "    .dataframe tbody tr th:only-of-type {\n",
       "        vertical-align: middle;\n",
       "    }\n",
       "\n",
       "    .dataframe tbody tr th {\n",
       "        vertical-align: top;\n",
       "    }\n",
       "\n",
       "    .dataframe thead th {\n",
       "        text-align: right;\n",
       "    }\n",
       "</style>\n",
       "<table border=\"1\" class=\"dataframe\">\n",
       "  <thead>\n",
       "    <tr style=\"text-align: right;\">\n",
       "      <th></th>\n",
       "      <th>year</th>\n",
       "      <th>ttl_net</th>\n",
       "    </tr>\n",
       "  </thead>\n",
       "  <tbody>\n",
       "    <tr>\n",
       "      <th>0</th>\n",
       "      <td>2020</td>\n",
       "      <td>257215.16</td>\n",
       "    </tr>\n",
       "    <tr>\n",
       "      <th>1</th>\n",
       "      <td>2019</td>\n",
       "      <td>563915.65</td>\n",
       "    </tr>\n",
       "    <tr>\n",
       "      <th>2</th>\n",
       "      <td>2018</td>\n",
       "      <td>597311.18</td>\n",
       "    </tr>\n",
       "    <tr>\n",
       "      <th>3</th>\n",
       "      <td>2017</td>\n",
       "      <td>63534.15</td>\n",
       "    </tr>\n",
       "    <tr>\n",
       "      <th>4</th>\n",
       "      <td>2016</td>\n",
       "      <td>177990.08</td>\n",
       "    </tr>\n",
       "  </tbody>\n",
       "</table>\n",
       "</div>"
      ],
      "text/plain": [
       "   year    ttl_net\n",
       "0  2020  257215.16\n",
       "1  2019  563915.65\n",
       "2  2018  597311.18\n",
       "3  2017   63534.15\n",
       "4  2016  177990.08"
      ]
     },
     "execution_count": 4,
     "metadata": {},
     "output_type": "execute_result"
    }
   ],
   "source": [
    "sql = '''\n",
    "SELECT year, SUM(net) AS ttl_net\n",
    "FROM dividends\n",
    "GROUP BY year\n",
    "ORDER BY year DESC'''\n",
    "ttl_by_year = pd.read_sql(sql, conpf)\n",
    "ttl_by_year.head()"
   ]
  },
  {
   "cell_type": "code",
   "execution_count": 5,
   "metadata": {},
   "outputs": [
    {
     "data": {
      "text/plain": [
       "1659966.2200000002"
      ]
     },
     "execution_count": 5,
     "metadata": {},
     "output_type": "execute_result"
    }
   ],
   "source": [
    "ttl_by_year.ttl_net.sum()"
   ]
  },
  {
   "cell_type": "code",
   "execution_count": 6,
   "metadata": {
    "scrolled": false
   },
   "outputs": [
    {
     "data": {
      "text/html": [
       "<div>\n",
       "<style scoped>\n",
       "    .dataframe tbody tr th:only-of-type {\n",
       "        vertical-align: middle;\n",
       "    }\n",
       "\n",
       "    .dataframe tbody tr th {\n",
       "        vertical-align: top;\n",
       "    }\n",
       "\n",
       "    .dataframe thead th {\n",
       "        text-align: right;\n",
       "    }\n",
       "</style>\n",
       "<table border=\"1\" class=\"dataframe\">\n",
       "  <thead>\n",
       "    <tr style=\"text-align: right;\">\n",
       "      <th></th>\n",
       "      <th>name</th>\n",
       "      <th>qtrs</th>\n",
       "      <th>ttl_net</th>\n",
       "    </tr>\n",
       "  </thead>\n",
       "  <tbody>\n",
       "    <tr>\n",
       "      <th>0</th>\n",
       "      <td>JASIF</td>\n",
       "      <td>12</td>\n",
       "      <td>217200.00</td>\n",
       "    </tr>\n",
       "    <tr>\n",
       "      <th>1</th>\n",
       "      <td>MCS</td>\n",
       "      <td>7</td>\n",
       "      <td>193470.00</td>\n",
       "    </tr>\n",
       "    <tr>\n",
       "      <th>2</th>\n",
       "      <td>DIF</td>\n",
       "      <td>9</td>\n",
       "      <td>114589.50</td>\n",
       "    </tr>\n",
       "    <tr>\n",
       "      <th>3</th>\n",
       "      <td>CPNREIT</td>\n",
       "      <td>9</td>\n",
       "      <td>100219.10</td>\n",
       "    </tr>\n",
       "    <tr>\n",
       "      <th>4</th>\n",
       "      <td>SAT</td>\n",
       "      <td>4</td>\n",
       "      <td>92389.88</td>\n",
       "    </tr>\n",
       "    <tr>\n",
       "      <th>5</th>\n",
       "      <td>NOBLE</td>\n",
       "      <td>2</td>\n",
       "      <td>86130.00</td>\n",
       "    </tr>\n",
       "    <tr>\n",
       "      <th>6</th>\n",
       "      <td>LH</td>\n",
       "      <td>7</td>\n",
       "      <td>81675.00</td>\n",
       "    </tr>\n",
       "    <tr>\n",
       "      <th>7</th>\n",
       "      <td>FSMART</td>\n",
       "      <td>6</td>\n",
       "      <td>75384.00</td>\n",
       "    </tr>\n",
       "    <tr>\n",
       "      <th>8</th>\n",
       "      <td>TISCO</td>\n",
       "      <td>2</td>\n",
       "      <td>58050.00</td>\n",
       "    </tr>\n",
       "    <tr>\n",
       "      <th>9</th>\n",
       "      <td>ORI</td>\n",
       "      <td>6</td>\n",
       "      <td>53325.00</td>\n",
       "    </tr>\n",
       "    <tr>\n",
       "      <th>10</th>\n",
       "      <td>PTTGC</td>\n",
       "      <td>4</td>\n",
       "      <td>37530.00</td>\n",
       "    </tr>\n",
       "    <tr>\n",
       "      <th>11</th>\n",
       "      <td>IVL</td>\n",
       "      <td>11</td>\n",
       "      <td>35595.00</td>\n",
       "    </tr>\n",
       "    <tr>\n",
       "      <th>12</th>\n",
       "      <td>SYNEX</td>\n",
       "      <td>5</td>\n",
       "      <td>33774.00</td>\n",
       "    </tr>\n",
       "    <tr>\n",
       "      <th>13</th>\n",
       "      <td>BA</td>\n",
       "      <td>4</td>\n",
       "      <td>32340.00</td>\n",
       "    </tr>\n",
       "    <tr>\n",
       "      <th>14</th>\n",
       "      <td>STPI</td>\n",
       "      <td>1</td>\n",
       "      <td>31200.00</td>\n",
       "    </tr>\n",
       "    <tr>\n",
       "      <th>15</th>\n",
       "      <td>ANAN</td>\n",
       "      <td>2</td>\n",
       "      <td>29709.00</td>\n",
       "    </tr>\n",
       "    <tr>\n",
       "      <th>16</th>\n",
       "      <td>BANPU</td>\n",
       "      <td>5</td>\n",
       "      <td>28485.00</td>\n",
       "    </tr>\n",
       "    <tr>\n",
       "      <th>17</th>\n",
       "      <td>ROJNA</td>\n",
       "      <td>2</td>\n",
       "      <td>27000.00</td>\n",
       "    </tr>\n",
       "    <tr>\n",
       "      <th>18</th>\n",
       "      <td>KKP</td>\n",
       "      <td>2</td>\n",
       "      <td>24570.00</td>\n",
       "    </tr>\n",
       "    <tr>\n",
       "      <th>19</th>\n",
       "      <td>AMATA</td>\n",
       "      <td>6</td>\n",
       "      <td>18009.00</td>\n",
       "    </tr>\n",
       "    <tr>\n",
       "      <th>20</th>\n",
       "      <td>SENA</td>\n",
       "      <td>3</td>\n",
       "      <td>15787.22</td>\n",
       "    </tr>\n",
       "    <tr>\n",
       "      <th>21</th>\n",
       "      <td>PTTEP</td>\n",
       "      <td>2</td>\n",
       "      <td>15390.00</td>\n",
       "    </tr>\n",
       "    <tr>\n",
       "      <th>22</th>\n",
       "      <td>JMT</td>\n",
       "      <td>2</td>\n",
       "      <td>12798.00</td>\n",
       "    </tr>\n",
       "    <tr>\n",
       "      <th>23</th>\n",
       "      <td>KTB</td>\n",
       "      <td>1</td>\n",
       "      <td>12384.00</td>\n",
       "    </tr>\n",
       "    <tr>\n",
       "      <th>24</th>\n",
       "      <td>TTLPF</td>\n",
       "      <td>5</td>\n",
       "      <td>11741.57</td>\n",
       "    </tr>\n",
       "    <tr>\n",
       "      <th>25</th>\n",
       "      <td>ADVANC</td>\n",
       "      <td>2</td>\n",
       "      <td>11016.00</td>\n",
       "    </tr>\n",
       "    <tr>\n",
       "      <th>26</th>\n",
       "      <td>BR</td>\n",
       "      <td>1</td>\n",
       "      <td>10943.64</td>\n",
       "    </tr>\n",
       "    <tr>\n",
       "      <th>27</th>\n",
       "      <td>AP</td>\n",
       "      <td>1</td>\n",
       "      <td>9450.00</td>\n",
       "    </tr>\n",
       "    <tr>\n",
       "      <th>28</th>\n",
       "      <td>VNT</td>\n",
       "      <td>1</td>\n",
       "      <td>9360.00</td>\n",
       "    </tr>\n",
       "    <tr>\n",
       "      <th>29</th>\n",
       "      <td>MEGA</td>\n",
       "      <td>4</td>\n",
       "      <td>9274.00</td>\n",
       "    </tr>\n",
       "  </tbody>\n",
       "</table>\n",
       "</div>"
      ],
      "text/plain": [
       "       name  qtrs    ttl_net\n",
       "0     JASIF    12  217200.00\n",
       "1       MCS     7  193470.00\n",
       "2       DIF     9  114589.50\n",
       "3   CPNREIT     9  100219.10\n",
       "4       SAT     4   92389.88\n",
       "5     NOBLE     2   86130.00\n",
       "6        LH     7   81675.00\n",
       "7    FSMART     6   75384.00\n",
       "8     TISCO     2   58050.00\n",
       "9       ORI     6   53325.00\n",
       "10    PTTGC     4   37530.00\n",
       "11      IVL    11   35595.00\n",
       "12    SYNEX     5   33774.00\n",
       "13       BA     4   32340.00\n",
       "14     STPI     1   31200.00\n",
       "15     ANAN     2   29709.00\n",
       "16    BANPU     5   28485.00\n",
       "17    ROJNA     2   27000.00\n",
       "18      KKP     2   24570.00\n",
       "19    AMATA     6   18009.00\n",
       "20     SENA     3   15787.22\n",
       "21    PTTEP     2   15390.00\n",
       "22      JMT     2   12798.00\n",
       "23      KTB     1   12384.00\n",
       "24    TTLPF     5   11741.57\n",
       "25   ADVANC     2   11016.00\n",
       "26       BR     1   10943.64\n",
       "27       AP     1    9450.00\n",
       "28      VNT     1    9360.00\n",
       "29     MEGA     4    9274.00"
      ]
     },
     "execution_count": 6,
     "metadata": {},
     "output_type": "execute_result"
    }
   ],
   "source": [
    "sql = '''\n",
    "SELECT name, COUNT(*) AS qtrs, SUM(net) AS ttl_net\n",
    "FROM dividends\n",
    "GROUP BY name\n",
    "ORDER BY SUM(net) DESC'''\n",
    "total = pd.read_sql(sql, conpf)\n",
    "total.head(30)"
   ]
  },
  {
   "cell_type": "markdown",
   "metadata": {},
   "source": [
    "### Average cost calculation"
   ]
  },
  {
   "cell_type": "code",
   "execution_count": 2,
   "metadata": {},
   "outputs": [
    {
     "data": {
      "text/html": [
       "<div>\n",
       "<style scoped>\n",
       "    .dataframe tbody tr th:only-of-type {\n",
       "        vertical-align: middle;\n",
       "    }\n",
       "\n",
       "    .dataframe tbody tr th {\n",
       "        vertical-align: top;\n",
       "    }\n",
       "\n",
       "    .dataframe thead th {\n",
       "        text-align: right;\n",
       "    }\n",
       "</style>\n",
       "<table border=\"1\" class=\"dataframe\">\n",
       "  <thead>\n",
       "    <tr style=\"text-align: right;\">\n",
       "      <th></th>\n",
       "      <th>id</th>\n",
       "      <th>name</th>\n",
       "      <th>date</th>\n",
       "      <th>qty</th>\n",
       "      <th>price</th>\n",
       "      <th>amt</th>\n",
       "      <th>status</th>\n",
       "      <th>kind</th>\n",
       "    </tr>\n",
       "  </thead>\n",
       "  <tbody>\n",
       "    <tr>\n",
       "      <th>0</th>\n",
       "      <td>783</td>\n",
       "      <td>DIF</td>\n",
       "      <td>2020-10-20</td>\n",
       "      <td>8000</td>\n",
       "      <td>12.8</td>\n",
       "      <td>102400.0</td>\n",
       "      <td>Active</td>\n",
       "      <td>DIV</td>\n",
       "    </tr>\n",
       "    <tr>\n",
       "      <th>1</th>\n",
       "      <td>781</td>\n",
       "      <td>DIF</td>\n",
       "      <td>2020-10-09</td>\n",
       "      <td>2000</td>\n",
       "      <td>13.3</td>\n",
       "      <td>26600.0</td>\n",
       "      <td>Active</td>\n",
       "      <td>DIV</td>\n",
       "    </tr>\n",
       "    <tr>\n",
       "      <th>2</th>\n",
       "      <td>745</td>\n",
       "      <td>DIF</td>\n",
       "      <td>2020-06-24</td>\n",
       "      <td>20000</td>\n",
       "      <td>16.4</td>\n",
       "      <td>328000.0</td>\n",
       "      <td>Active</td>\n",
       "      <td>HD</td>\n",
       "    </tr>\n",
       "    <tr>\n",
       "      <th>3</th>\n",
       "      <td>637</td>\n",
       "      <td>DIF</td>\n",
       "      <td>2019-07-24</td>\n",
       "      <td>20000</td>\n",
       "      <td>16.4</td>\n",
       "      <td>328000.0</td>\n",
       "      <td>Active</td>\n",
       "      <td>HD</td>\n",
       "    </tr>\n",
       "    <tr>\n",
       "      <th>4</th>\n",
       "      <td>617</td>\n",
       "      <td>DIF</td>\n",
       "      <td>2019-05-15</td>\n",
       "      <td>20000</td>\n",
       "      <td>16.4</td>\n",
       "      <td>328000.0</td>\n",
       "      <td>Active</td>\n",
       "      <td>SS</td>\n",
       "    </tr>\n",
       "  </tbody>\n",
       "</table>\n",
       "</div>"
      ],
      "text/plain": [
       "    id name        date    qty  price       amt  status kind\n",
       "0  783  DIF  2020-10-20   8000   12.8  102400.0  Active  DIV\n",
       "1  781  DIF  2020-10-09   2000   13.3   26600.0  Active  DIV\n",
       "2  745  DIF  2020-06-24  20000   16.4  328000.0  Active   HD\n",
       "3  637  DIF  2019-07-24  20000   16.4  328000.0  Active   HD\n",
       "4  617  DIF  2019-05-15  20000   16.4  328000.0  Active   SS"
      ]
     },
     "execution_count": 2,
     "metadata": {},
     "output_type": "execute_result"
    }
   ],
   "source": [
    "name = 'DIF'\n",
    "\n",
    "sql = '''\n",
    "SELECT B.id, S.name, date, qty, price, qty*price AS amt, status, kind\n",
    "FROM buys B\n",
    "JOIN stocks S ON B.stock_id = S.id \n",
    "WHERE name = \"%s\" AND status = \"Active\"\n",
    "ORDER BY id DESC'''\n",
    "sql = sql % name\n",
    "buys = pd.read_sql(sql, conpf)\n",
    "buys"
   ]
  },
  {
   "cell_type": "code",
   "execution_count": 3,
   "metadata": {},
   "outputs": [
    {
     "data": {
      "text/html": [
       "<div>\n",
       "<style scoped>\n",
       "    .dataframe tbody tr th:only-of-type {\n",
       "        vertical-align: middle;\n",
       "    }\n",
       "\n",
       "    .dataframe tbody tr th {\n",
       "        vertical-align: top;\n",
       "    }\n",
       "\n",
       "    .dataframe thead th {\n",
       "        text-align: right;\n",
       "    }\n",
       "</style>\n",
       "<table border=\"1\" class=\"dataframe\">\n",
       "  <thead>\n",
       "    <tr style=\"text-align: right;\">\n",
       "      <th></th>\n",
       "      <th>amt</th>\n",
       "      <th>qty</th>\n",
       "      <th>unit_cost</th>\n",
       "    </tr>\n",
       "    <tr>\n",
       "      <th>name</th>\n",
       "      <th></th>\n",
       "      <th></th>\n",
       "      <th></th>\n",
       "    </tr>\n",
       "  </thead>\n",
       "  <tbody>\n",
       "    <tr>\n",
       "      <th>DIF</th>\n",
       "      <td>1113000.0</td>\n",
       "      <td>70000</td>\n",
       "      <td>15.9</td>\n",
       "    </tr>\n",
       "  </tbody>\n",
       "</table>\n",
       "</div>"
      ],
      "text/plain": [
       "            amt    qty  unit_cost\n",
       "name                             \n",
       "DIF   1113000.0  70000       15.9"
      ]
     },
     "execution_count": 3,
     "metadata": {},
     "output_type": "execute_result"
    }
   ],
   "source": [
    "buys_grp = buys.groupby(by=['name'])\n",
    "buys_df = buys_grp['amt','qty'].sum()\n",
    "buys_df['unit_cost'] = buys_df.amt / buys_df.qty\n",
    "buys_df"
   ]
  },
  {
   "cell_type": "markdown",
   "metadata": {},
   "source": [
    "### Recalculate cost when unit cost changes"
   ]
  },
  {
   "cell_type": "code",
   "execution_count": 6,
   "metadata": {},
   "outputs": [
    {
     "name": "stdout",
     "output_type": "stream",
     "text": [
      "\n",
      "SELECT *\n",
      "FROM buys B\n",
      "JOIN stocks S ON B.stock_id = S.id \n",
      "WHERE status = \"Active\" AND name = 'DIF'\n",
      "ORDER BY date\n"
     ]
    }
   ],
   "source": [
    "name = 'DIF'\n",
    "sql = '''\n",
    "SELECT *\n",
    "FROM buys B\n",
    "JOIN stocks S ON B.stock_id = S.id \n",
    "WHERE status = \"Active\" AND name = '%s'\n",
    "ORDER BY date'''\n",
    "sql = sql % name\n",
    "print(sql)"
   ]
  },
  {
   "cell_type": "code",
   "execution_count": 7,
   "metadata": {},
   "outputs": [
    {
     "data": {
      "text/html": [
       "<div>\n",
       "<style scoped>\n",
       "    .dataframe tbody tr th:only-of-type {\n",
       "        vertical-align: middle;\n",
       "    }\n",
       "\n",
       "    .dataframe tbody tr th {\n",
       "        vertical-align: top;\n",
       "    }\n",
       "\n",
       "    .dataframe thead th {\n",
       "        text-align: right;\n",
       "    }\n",
       "</style>\n",
       "<table border=\"1\" class=\"dataframe\">\n",
       "  <thead>\n",
       "    <tr style=\"text-align: right;\">\n",
       "      <th></th>\n",
       "      <th>id</th>\n",
       "      <th>stock_id</th>\n",
       "      <th>date</th>\n",
       "      <th>qty</th>\n",
       "      <th>price</th>\n",
       "      <th>fee</th>\n",
       "      <th>vat</th>\n",
       "      <th>status</th>\n",
       "      <th>net</th>\n",
       "      <th>kind</th>\n",
       "      <th>chart</th>\n",
       "      <th>id</th>\n",
       "      <th>name</th>\n",
       "      <th>category_id</th>\n",
       "      <th>website</th>\n",
       "    </tr>\n",
       "  </thead>\n",
       "  <tbody>\n",
       "    <tr>\n",
       "      <th>0</th>\n",
       "      <td>617</td>\n",
       "      <td>81</td>\n",
       "      <td>2019-05-15</td>\n",
       "      <td>20000</td>\n",
       "      <td>16.4</td>\n",
       "      <td>678.96</td>\n",
       "      <td>47.53</td>\n",
       "      <td>Active</td>\n",
       "      <td>328726.49</td>\n",
       "      <td>SS</td>\n",
       "      <td>None</td>\n",
       "      <td>81</td>\n",
       "      <td>DIF</td>\n",
       "      <td>3</td>\n",
       "      <td>www.digital-tif.com</td>\n",
       "    </tr>\n",
       "    <tr>\n",
       "      <th>1</th>\n",
       "      <td>637</td>\n",
       "      <td>81</td>\n",
       "      <td>2019-07-24</td>\n",
       "      <td>20000</td>\n",
       "      <td>16.4</td>\n",
       "      <td>678.96</td>\n",
       "      <td>47.53</td>\n",
       "      <td>Active</td>\n",
       "      <td>328726.49</td>\n",
       "      <td>HD</td>\n",
       "      <td>None</td>\n",
       "      <td>81</td>\n",
       "      <td>DIF</td>\n",
       "      <td>3</td>\n",
       "      <td>www.digital-tif.com</td>\n",
       "    </tr>\n",
       "    <tr>\n",
       "      <th>2</th>\n",
       "      <td>745</td>\n",
       "      <td>81</td>\n",
       "      <td>2020-06-24</td>\n",
       "      <td>20000</td>\n",
       "      <td>16.4</td>\n",
       "      <td>678.96</td>\n",
       "      <td>47.53</td>\n",
       "      <td>Active</td>\n",
       "      <td>328726.49</td>\n",
       "      <td>HD</td>\n",
       "      <td>None</td>\n",
       "      <td>81</td>\n",
       "      <td>DIF</td>\n",
       "      <td>3</td>\n",
       "      <td>www.digital-tif.com</td>\n",
       "    </tr>\n",
       "  </tbody>\n",
       "</table>\n",
       "</div>"
      ],
      "text/plain": [
       "    id  stock_id        date    qty  price     fee    vat  status        net  \\\n",
       "0  617        81  2019-05-15  20000   16.4  678.96  47.53  Active  328726.49   \n",
       "1  637        81  2019-07-24  20000   16.4  678.96  47.53  Active  328726.49   \n",
       "2  745        81  2020-06-24  20000   16.4  678.96  47.53  Active  328726.49   \n",
       "\n",
       "  kind chart  id name  category_id              website  \n",
       "0   SS  None  81  DIF            3  www.digital-tif.com  \n",
       "1   HD  None  81  DIF            3  www.digital-tif.com  \n",
       "2   HD  None  81  DIF            3  www.digital-tif.com  "
      ]
     },
     "execution_count": 7,
     "metadata": {},
     "output_type": "execute_result"
    }
   ],
   "source": [
    "df_tmp = pd.read_sql(sql, conpf)\n",
    "df_tmp"
   ]
  },
  {
   "cell_type": "code",
   "execution_count": 5,
   "metadata": {},
   "outputs": [
    {
     "name": "stdout",
     "output_type": "stream",
     "text": [
      "81 20000 16.4 678.96 47.53 328726.49\n"
     ]
    }
   ],
   "source": [
    "stock_id = 81\n",
    "qty = 20000\n",
    "price = 16.4\n",
    "fee = 678.96\n",
    "vat = 47.53\n",
    "net = 328726.49\n",
    "print(stock_id,qty,price,fee,vat,net)"
   ]
  },
  {
   "cell_type": "code",
   "execution_count": 6,
   "metadata": {},
   "outputs": [],
   "source": [
    "def update_buys(qty,price,fee,vat,net,stock_id):\n",
    "    sql = \"UPDATE buys SET qty = %s, price = %s, fee = %s, vat = %s, net = %s WHERE stock_id = %s AND status = 'Active'\"\n",
    "    sql = sql % (qty,price,fee,vat,net,stock_id)\n",
    "    rp = conpf.execute(sql)\n",
    "    return \"Records updated = \" + str(rp.rowcount)"
   ]
  },
  {
   "cell_type": "code",
   "execution_count": 7,
   "metadata": {},
   "outputs": [
    {
     "data": {
      "text/plain": [
       "'Records updated = 3'"
      ]
     },
     "execution_count": 7,
     "metadata": {},
     "output_type": "execute_result"
    }
   ],
   "source": [
    "update_buys(qty,price,fee,vat,net,stock_id)"
   ]
  },
  {
   "cell_type": "markdown",
   "metadata": {},
   "source": [
    "### On demand process to change value of kind"
   ]
  },
  {
   "cell_type": "code",
   "execution_count": 4,
   "metadata": {},
   "outputs": [
    {
     "data": {
      "text/html": [
       "<div>\n",
       "<style scoped>\n",
       "    .dataframe tbody tr th:only-of-type {\n",
       "        vertical-align: middle;\n",
       "    }\n",
       "\n",
       "    .dataframe tbody tr th {\n",
       "        vertical-align: top;\n",
       "    }\n",
       "\n",
       "    .dataframe thead th {\n",
       "        text-align: right;\n",
       "    }\n",
       "</style>\n",
       "<table border=\"1\" class=\"dataframe\">\n",
       "  <thead>\n",
       "    <tr style=\"text-align: right;\">\n",
       "      <th></th>\n",
       "      <th>id</th>\n",
       "      <th>name</th>\n",
       "      <th>date</th>\n",
       "      <th>qty</th>\n",
       "      <th>price</th>\n",
       "      <th>status</th>\n",
       "      <th>kind</th>\n",
       "    </tr>\n",
       "  </thead>\n",
       "  <tbody>\n",
       "    <tr>\n",
       "      <th>0</th>\n",
       "      <td>556</td>\n",
       "      <td>DIF</td>\n",
       "      <td>2018-09-07</td>\n",
       "      <td>40000</td>\n",
       "      <td>14.95</td>\n",
       "      <td>Sold</td>\n",
       "      <td>HD</td>\n",
       "    </tr>\n",
       "    <tr>\n",
       "      <th>1</th>\n",
       "      <td>617</td>\n",
       "      <td>DIF</td>\n",
       "      <td>2019-05-15</td>\n",
       "      <td>20000</td>\n",
       "      <td>16.40</td>\n",
       "      <td>Active</td>\n",
       "      <td>SS</td>\n",
       "    </tr>\n",
       "    <tr>\n",
       "      <th>2</th>\n",
       "      <td>622</td>\n",
       "      <td>DIF</td>\n",
       "      <td>2019-06-14</td>\n",
       "      <td>10000</td>\n",
       "      <td>16.60</td>\n",
       "      <td>Sold</td>\n",
       "      <td>HD</td>\n",
       "    </tr>\n",
       "    <tr>\n",
       "      <th>3</th>\n",
       "      <td>637</td>\n",
       "      <td>DIF</td>\n",
       "      <td>2019-07-24</td>\n",
       "      <td>20000</td>\n",
       "      <td>16.40</td>\n",
       "      <td>Active</td>\n",
       "      <td>HD</td>\n",
       "    </tr>\n",
       "    <tr>\n",
       "      <th>4</th>\n",
       "      <td>745</td>\n",
       "      <td>DIF</td>\n",
       "      <td>2020-06-24</td>\n",
       "      <td>20000</td>\n",
       "      <td>16.40</td>\n",
       "      <td>Active</td>\n",
       "      <td>HD</td>\n",
       "    </tr>\n",
       "    <tr>\n",
       "      <th>5</th>\n",
       "      <td>781</td>\n",
       "      <td>DIF</td>\n",
       "      <td>2020-10-09</td>\n",
       "      <td>2000</td>\n",
       "      <td>13.30</td>\n",
       "      <td>Active</td>\n",
       "      <td>DIV</td>\n",
       "    </tr>\n",
       "    <tr>\n",
       "      <th>6</th>\n",
       "      <td>783</td>\n",
       "      <td>DIF</td>\n",
       "      <td>2020-10-20</td>\n",
       "      <td>8000</td>\n",
       "      <td>12.80</td>\n",
       "      <td>Active</td>\n",
       "      <td>DIV</td>\n",
       "    </tr>\n",
       "  </tbody>\n",
       "</table>\n",
       "</div>"
      ],
      "text/plain": [
       "    id name        date    qty  price  status kind\n",
       "0  556  DIF  2018-09-07  40000  14.95    Sold   HD\n",
       "1  617  DIF  2019-05-15  20000  16.40  Active   SS\n",
       "2  622  DIF  2019-06-14  10000  16.60    Sold   HD\n",
       "3  637  DIF  2019-07-24  20000  16.40  Active   HD\n",
       "4  745  DIF  2020-06-24  20000  16.40  Active   HD\n",
       "5  781  DIF  2020-10-09   2000  13.30  Active  DIV\n",
       "6  783  DIF  2020-10-20   8000  12.80  Active  DIV"
      ]
     },
     "execution_count": 4,
     "metadata": {},
     "output_type": "execute_result"
    }
   ],
   "source": [
    "name = 'DIF'\n",
    "\n",
    "sql = '''\n",
    "SELECT B.id, S.name, date, qty, price, status, kind\n",
    "FROM buys B\n",
    "JOIN stocks S ON B.stock_id = S.id \n",
    "WHERE name = \"%s\" \n",
    "ORDER BY id'''\n",
    "sql = sql % name\n",
    "buys = pd.read_sql(sql, conpf)\n",
    "buys"
   ]
  },
  {
   "cell_type": "code",
   "execution_count": 5,
   "metadata": {},
   "outputs": [
    {
     "name": "stdout",
     "output_type": "stream",
     "text": [
      "\n",
      "UPDATE buys\n",
      "SET kind = \"DIV\"\n",
      "WHERE id IN (556,617,622,637,745,781,783)\n",
      "\n"
     ]
    }
   ],
   "source": [
    "sql = '''\n",
    "UPDATE buys\n",
    "SET kind = \"DIV\"\n",
    "WHERE id IN (556,617,622,637,745,781,783)\n",
    "'''\n",
    "print(sql)"
   ]
  },
  {
   "cell_type": "code",
   "execution_count": 6,
   "metadata": {},
   "outputs": [
    {
     "data": {
      "text/plain": [
       "7"
      ]
     },
     "execution_count": 6,
     "metadata": {},
     "output_type": "execute_result"
    }
   ],
   "source": [
    "rp = conpf.execute(sql)\n",
    "rp.rowcount"
   ]
  },
  {
   "cell_type": "markdown",
   "metadata": {},
   "source": [
    "### Summarized profit by name"
   ]
  },
  {
   "cell_type": "code",
   "execution_count": null,
   "metadata": {},
   "outputs": [],
   "source": [
    "sql = '''\n",
    "SELECT name, sum(profit) AS profit\n",
    "FROM sells JOIN buys ON sells.buy_id = buys.id\n",
    "JOIN stocks ON buys.stock_id = stocks.id\n",
    "GROUP BY stocks.name\n",
    "ORDER BY sum(profit) DESC LIMIT 10'''\n",
    "profits_by_stock = pd.read_sql(sql, conpf)\n",
    "profits_by_stock"
   ]
  },
  {
   "cell_type": "code",
   "execution_count": null,
   "metadata": {},
   "outputs": [],
   "source": [
    "sql = '''\n",
    "SELECT YEAR(date) AS year, MONTH(date) AS month, profit\n",
    "FROM sells \n",
    "'''\n",
    "sells = pd.read_sql(sql, conpf)\n",
    "sells.dtypes"
   ]
  },
  {
   "cell_type": "code",
   "execution_count": null,
   "metadata": {},
   "outputs": [],
   "source": [
    "grouped = sells.groupby(['year','month'])\n",
    "grouped"
   ]
  },
  {
   "cell_type": "code",
   "execution_count": null,
   "metadata": {},
   "outputs": [],
   "source": [
    "profit_by_month = grouped['profit'].sum()\n",
    "profit_by_month"
   ]
  },
  {
   "cell_type": "code",
   "execution_count": null,
   "metadata": {},
   "outputs": [],
   "source": [
    "grouped.agg(['sum','mean', 'max', 'min','count'])"
   ]
  },
  {
   "cell_type": "markdown",
   "metadata": {},
   "source": [
    "### Special process to delete old data"
   ]
  },
  {
   "cell_type": "code",
   "execution_count": null,
   "metadata": {},
   "outputs": [],
   "source": [
    "sql = '''\n",
    "SELECT S.name, status, YEAR(B.date) AS year, COUNT(*) AS items\n",
    "FROM buys B JOIN stocks S ON B.stock_id = S.id\n",
    "GROUP BY S.name, status, YEAR(B.date)\n",
    "ORDER BY S.name, status'''\n",
    "buys = pd.read_sql(sql, conpf)\n",
    "buys.head()"
   ]
  },
  {
   "cell_type": "code",
   "execution_count": null,
   "metadata": {},
   "outputs": [],
   "source": [
    "name = 'SAT'\n",
    "status = 'Sold'"
   ]
  },
  {
   "cell_type": "code",
   "execution_count": null,
   "metadata": {
    "scrolled": true
   },
   "outputs": [],
   "source": [
    "sql = '''\n",
    "SELECT S.name, date, qty, price, net, status, B.id \n",
    "FROM buys B JOIN stocks S on B.stock_id = S.id \n",
    "WHERE name = \"%s\" AND status = \"%s\"\n",
    "ORDER BY B.id DESC\n",
    "'''\n",
    "sql = sql % (name, status)\n",
    "buys = pd.read_sql(sql, conpf)\n",
    "buys['cost'] = buys.qty * buys.price\n",
    "buys"
   ]
  },
  {
   "cell_type": "code",
   "execution_count": null,
   "metadata": {},
   "outputs": [],
   "source": [
    "buys_grouped = buys.groupby(by='name')\n",
    "buys_grouped.size()"
   ]
  },
  {
   "cell_type": "code",
   "execution_count": null,
   "metadata": {
    "scrolled": true
   },
   "outputs": [],
   "source": [
    "buys_grouped.describe()"
   ]
  },
  {
   "cell_type": "code",
   "execution_count": null,
   "metadata": {},
   "outputs": [],
   "source": [
    "buys_sum = buys_grouped['qty cost'.split()].sum()\n",
    "buys_sum['unit_cost'] = buys_sum.cost / buys_sum.qty\n",
    "buys_sum"
   ]
  },
  {
   "cell_type": "code",
   "execution_count": null,
   "metadata": {
    "scrolled": false
   },
   "outputs": [],
   "source": [
    "sql = '''\n",
    "SELECT T.name, S.date AS Sell_date, B.date AS Buy_date, \n",
    "days, qty, S.price AS Sell, B.price AS Buy, \n",
    "S.price - B.price AS Unit_Profit, (S.price - B.price) * qty AS Profit, percent \n",
    "FROM sells S JOIN buys B ON S.buy_id = B.id \n",
    "JOIN stocks T on B.stock_id = T.id \n",
    "WHERE name = \"%s\"\n",
    "ORDER BY S.date\n",
    "'''\n",
    "sql = sql % (name)\n",
    "sells = pd.read_sql(sql, conpf)\n",
    "sells"
   ]
  },
  {
   "cell_type": "code",
   "execution_count": null,
   "metadata": {},
   "outputs": [],
   "source": [
    "sells['profit'] = (sells.Sell - sells.Buy) * sells.qty\n",
    "\n",
    "sells_grouped = sells.groupby(by='name')\n",
    "sells_grouped.size()"
   ]
  },
  {
   "cell_type": "code",
   "execution_count": null,
   "metadata": {},
   "outputs": [],
   "source": [
    "sells_sum = sells_grouped['qty profit'.split()].sum()\n",
    "sells_sum['unit_profit'] = sells_sum.profit / sells_sum.qty\n",
    "sells_sum"
   ]
  },
  {
   "cell_type": "markdown",
   "metadata": {},
   "source": [
    "### Delete old data process"
   ]
  },
  {
   "cell_type": "code",
   "execution_count": null,
   "metadata": {},
   "outputs": [],
   "source": [
    "sql = '''\n",
    "SELECT * FROM sells WHERE EXISTS ( \n",
    "SELECT * FROM buys, stocks \n",
    "WHERE sells.buy_id = buys.id \n",
    "AND buys.stock_id = stocks.id \n",
    "AND stocks.name = \"%s\" \n",
    "AND YEAR(sells.date) < 2017\n",
    "AND YEAR(buys.date)  < 2017)\n",
    "'''\n",
    "sql = sql % (name)\n",
    "sells = pd.read_sql(sql, conpf)\n",
    "sells"
   ]
  },
  {
   "cell_type": "code",
   "execution_count": null,
   "metadata": {},
   "outputs": [],
   "source": [
    "sql = '''\n",
    "DELETE FROM sells WHERE EXISTS ( \n",
    "SELECT * FROM buys, stocks \n",
    "WHERE sells.buy_id = buys.id \n",
    "AND buys.stock_id = stocks.id \n",
    "AND stocks.name = \"%s\" \n",
    "AND YEAR(buys.date)  < 2017)\n",
    "'''\n",
    "sql = sql % (name)\n",
    "print(sql)"
   ]
  },
  {
   "cell_type": "code",
   "execution_count": null,
   "metadata": {},
   "outputs": [],
   "source": [
    "rp = conpf.execute(sql)\n",
    "rp.rowcount"
   ]
  },
  {
   "cell_type": "code",
   "execution_count": null,
   "metadata": {},
   "outputs": [],
   "source": [
    "sql = '''SELECT * FROM buys WHERE EXISTS ( \n",
    "SELECT * FROM stocks \n",
    "WHERE buys.stock_id = stocks.id \n",
    "AND stocks.name = \"%s\" \n",
    "AND buys.status = \"Sold\" \n",
    "AND YEAR(buys.date) < 2017 )\n",
    "'''\n",
    "sql = sql % (name)\n",
    "buys = pd.read_sql(sql, conpf)\n",
    "buys"
   ]
  },
  {
   "cell_type": "code",
   "execution_count": null,
   "metadata": {},
   "outputs": [],
   "source": [
    "sql = '''DELETE FROM buys WHERE EXISTS ( \n",
    "SELECT * FROM stocks \n",
    "WHERE buys.stock_id = stocks.id \n",
    "AND stocks.name = \"%s\" \n",
    "AND buys.status = \"Sold\"\n",
    "AND YEAR(buys.date) < 2017 )\n",
    "'''\n",
    "sql = sql % (name)\n",
    "\n",
    "rp = conpf.execute(sql)\n",
    "rp.rowcount"
   ]
  },
  {
   "cell_type": "markdown",
   "metadata": {},
   "source": [
    "### If there are records in this process, must manually delete sell records"
   ]
  },
  {
   "cell_type": "code",
   "execution_count": null,
   "metadata": {},
   "outputs": [],
   "source": [
    "sql = '''SELECT o.* FROM sells o WHERE NOT EXISTS ( \n",
    "SELECT * FROM buys b, stocks s \n",
    "WHERE o.buy_id = b.id\n",
    "AND b.stock_id = s.id\n",
    ")\n",
    "ORDER BY o.id\n",
    "'''\n",
    "sql = sql \n",
    "temp = pd.read_sql(sql, conpf)\n",
    "temp"
   ]
  },
  {
   "cell_type": "code",
   "execution_count": null,
   "metadata": {},
   "outputs": [],
   "source": [
    "oid = 279\n",
    "sql = '''\n",
    "SELECT o.id,s.name,b.status,b.date,o.date \n",
    "FROM sells o LEFT JOIN buys b ON o.buy_id = b.id\n",
    "LEFT JOIN stocks s ON b.stock_id = s.id\n",
    "WHERE o.id = %s'''\n",
    "sql = sql % oid\n",
    "rcd = pd.read_sql(sql, conpf)\n",
    "rcd"
   ]
  },
  {
   "cell_type": "code",
   "execution_count": null,
   "metadata": {},
   "outputs": [],
   "source": [
    "sql = '''\n",
    "DELETE FROM sells\n",
    "WHERE id = %s'''\n",
    "sql = sql % oid\n",
    "rp = conpf.execute(sql)\n",
    "rp.rowcount"
   ]
  },
  {
   "cell_type": "code",
   "execution_count": null,
   "metadata": {},
   "outputs": [],
   "source": [
    "sql = '''\n",
    "SELECT * FROM buys LIMIT 1'''\n",
    "buys = pd.read_sql(sql, conpf)\n",
    "buys.columns"
   ]
  },
  {
   "cell_type": "code",
   "execution_count": null,
   "metadata": {},
   "outputs": [],
   "source": [
    "sql = '''\n",
    "SELECT * FROM stocks LIMIT 1'''\n",
    "stocks = pd.read_sql(sql, conpf)\n",
    "stocks.columns"
   ]
  },
  {
   "cell_type": "code",
   "execution_count": null,
   "metadata": {},
   "outputs": [],
   "source": [
    "sql = '''\n",
    "SELECT * FROM stocks \n",
    "WHERE name IN ('MTLS', 'MTC')'''\n",
    "stocks = pd.read_sql(sql, conpf)\n",
    "stocks"
   ]
  },
  {
   "cell_type": "code",
   "execution_count": null,
   "metadata": {},
   "outputs": [],
   "source": [
    "sql = '''\n",
    "SELECT * FROM buys \n",
    "WHERE stock_id IN (74, 137)'''\n",
    "buys = pd.read_sql(sql, conpf)\n",
    "buys"
   ]
  },
  {
   "cell_type": "code",
   "execution_count": null,
   "metadata": {},
   "outputs": [],
   "source": [
    "sql = '''\n",
    "UPDATE buys\n",
    "SET stock_id = 137\n",
    "WHERE stock_id = 74'''\n",
    "rp = conpf.execute(sql)\n",
    "rp.rowcount"
   ]
  },
  {
   "cell_type": "code",
   "execution_count": null,
   "metadata": {},
   "outputs": [],
   "source": []
  }
 ],
 "metadata": {
  "anaconda-cloud": {},
  "kernelspec": {
   "display_name": "Python 3",
   "language": "python",
   "name": "python3"
  },
  "language_info": {
   "codemirror_mode": {
    "name": "ipython",
    "version": 3
   },
   "file_extension": ".py",
   "mimetype": "text/x-python",
   "name": "python",
   "nbconvert_exporter": "python",
   "pygments_lexer": "ipython3",
   "version": "3.7.2"
  }
 },
 "nbformat": 4,
 "nbformat_minor": 1
}
