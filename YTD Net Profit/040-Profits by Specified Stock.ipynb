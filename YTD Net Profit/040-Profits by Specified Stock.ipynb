{
 "cells": [
  {
   "cell_type": "code",
   "execution_count": 1,
   "metadata": {},
   "outputs": [],
   "source": [
    "import pandas as pd\n",
    "from datetime import date, timedelta\n",
    "from sqlalchemy import create_engine\n",
    "\n",
    "engine = create_engine('mysql+pymysql://root:@localhost:3306/portfolio_development')\n",
    "conpf = engine.connect()\n",
    "\n",
    "data_path = \"../data/\"\n",
    "csv_path = \"\\\\Users\\\\User\\\\iCloudDrive\\\\\"\n",
    "box_path = \"\\\\Users\\\\User\\\\Dropbox\\\\\"\n",
    "\n",
    "year = 2022"
   ]
  },
  {
   "cell_type": "code",
   "execution_count": 2,
   "metadata": {},
   "outputs": [],
   "source": [
    "format_dict = {'qty':'{:,}',\n",
    "              'sell_price':'{:,.2f}','buy_price':'{:,.2f}','diff':'{:,.2f}',\n",
    "              'sell_amt':'{:,.2f}','buy_amt':'{:,.2f}','gross':'{:,.2f}','profit':'{:,.2f}',\n",
    "              'pct':'{:,.2f}%','net':'{:,.2f}',\n",
    "              'cost_amt':'{:,.2f}','unit_cost':'{:,.2f}','avg_cost':'{:,.2f}'}\n",
    "\n",
    "pd.set_option('display.float_format','{:,.2f}'.format)"
   ]
  },
  {
   "cell_type": "markdown",
   "metadata": {},
   "source": [
    "### Record selection for transactions"
   ]
  },
  {
   "cell_type": "code",
   "execution_count": 3,
   "metadata": {},
   "outputs": [],
   "source": [
    "name = 'SIS'"
   ]
  },
  {
   "cell_type": "code",
   "execution_count": 29,
   "metadata": {},
   "outputs": [
    {
     "name": "stdout",
     "output_type": "stream",
     "text": [
      "\n",
      "SELECT name, YEAR(sells.date) AS sell_year, MONTH(sells.date) AS sell_month,  \n",
      "             YEAR(buys.date) AS buy_year, MONTH(buys.date) AS buy_month,\n",
      "sells.price AS sell_price, buys.price AS buy_price, \n",
      "(sells.price - buys.price) AS diff, qty, \n",
      "(sells.price * qty) AS sell_amt,\n",
      "(buys.price * qty) AS buy_amt,\n",
      "(sells.price - buys.price) * qty AS gross, \n",
      "ROUND((sells.price - buys.price)/buys.price*100,2) AS pct, profit, buys.kind\n",
      "FROM sells JOIN buys ON sells.buy_id = buys.id\n",
      "JOIN stocks ON buys.stock_id = stocks.id\n",
      "WHERE name = 'SIS'\n",
      "ORDER BY sell_month DESC, name\n"
     ]
    }
   ],
   "source": [
    "sql = '''\n",
    "SELECT name, YEAR(sells.date) AS sell_year, MONTH(sells.date) AS sell_month,  \n",
    "             YEAR(buys.date) AS buy_year, MONTH(buys.date) AS buy_month,\n",
    "sells.price AS sell_price, buys.price AS buy_price, \n",
    "(sells.price - buys.price) AS diff, qty, \n",
    "(sells.price * qty) AS sell_amt,\n",
    "(buys.price * qty) AS buy_amt,\n",
    "(sells.price - buys.price) * qty AS gross, \n",
    "ROUND((sells.price - buys.price)/buys.price*100,2) AS pct, profit, buys.kind\n",
    "FROM sells JOIN buys ON sells.buy_id = buys.id\n",
    "JOIN stocks ON buys.stock_id = stocks.id\n",
    "WHERE name = '%s'\n",
    "ORDER BY sell_month DESC, name'''\n",
    "\n",
    "sql = sql % (name)\n",
    "sells_df = pd.read_sql(sql, conpf)\n",
    "print(sql)"
   ]
  },
  {
   "cell_type": "code",
   "execution_count": 30,
   "metadata": {},
   "outputs": [
    {
     "data": {
      "text/plain": [
       "name           object\n",
       "sell_year       int64\n",
       "sell_month      int64\n",
       "buy_year        int64\n",
       "buy_month       int64\n",
       "sell_price    float64\n",
       "buy_price     float64\n",
       "diff          float64\n",
       "qty             int64\n",
       "sell_amt      float64\n",
       "buy_amt       float64\n",
       "gross         float64\n",
       "pct           float64\n",
       "profit        float64\n",
       "kind           object\n",
       "dtype: object"
      ]
     },
     "execution_count": 30,
     "metadata": {},
     "output_type": "execute_result"
    }
   ],
   "source": [
    "sells_df.dtypes"
   ]
  },
  {
   "cell_type": "code",
   "execution_count": 31,
   "metadata": {},
   "outputs": [
    {
     "data": {
      "text/plain": [
       "sell_year  sell_month  buy_year  buy_month  name\n",
       "2021       2           2021      1          SIS    24,600.00\n",
       "           6           2021      5          SIS     8,750.00\n",
       "           11          2021      5          SIS    12,000.00\n",
       "                                 9          SIS    27,250.00\n",
       "           12          2021      9          SIS     9,000.00\n",
       "                                 11         SIS    20,250.00\n",
       "2022       1           2021      11         SIS     3,375.00\n",
       "           3           2022      1          SIS     1,125.00\n",
       "           5           2022      5          SIS     1,600.00\n",
       "Name: gross, dtype: float64"
      ]
     },
     "execution_count": 31,
     "metadata": {},
     "output_type": "execute_result"
    }
   ],
   "source": [
    "sells_df.groupby(['sell_year','sell_month','buy_year','buy_month','name']).gross.sum()"
   ]
  },
  {
   "cell_type": "code",
   "execution_count": 34,
   "metadata": {},
   "outputs": [
    {
     "name": "stderr",
     "output_type": "stream",
     "text": [
      "C:\\Users\\User\\AppData\\Local\\Temp/ipykernel_18744/1810971311.py:2: FutureWarning: Indexing with multiple keys (implicitly converted to a tuple of keys) will be deprecated, use a list instead.\n",
      "  sold_stocks = sold_grp['sell_amt','buy_amt','qty','gross'].sum()\n"
     ]
    },
    {
     "data": {
      "text/html": [
       "<style type=\"text/css\">\n",
       "</style>\n",
       "<table id=\"T_90840_\">\n",
       "  <thead>\n",
       "    <tr>\n",
       "      <th class=\"blank\" >&nbsp;</th>\n",
       "      <th class=\"blank level0\" >&nbsp;</th>\n",
       "      <th class=\"col_heading level0 col0\" >sell_amt</th>\n",
       "      <th class=\"col_heading level0 col1\" >buy_amt</th>\n",
       "      <th class=\"col_heading level0 col2\" >qty</th>\n",
       "      <th class=\"col_heading level0 col3\" >gross</th>\n",
       "    </tr>\n",
       "    <tr>\n",
       "      <th class=\"index_name level0\" >name</th>\n",
       "      <th class=\"index_name level1\" >sell_year</th>\n",
       "      <th class=\"blank col0\" >&nbsp;</th>\n",
       "      <th class=\"blank col1\" >&nbsp;</th>\n",
       "      <th class=\"blank col2\" >&nbsp;</th>\n",
       "      <th class=\"blank col3\" >&nbsp;</th>\n",
       "    </tr>\n",
       "  </thead>\n",
       "  <tbody>\n",
       "    <tr>\n",
       "      <th id=\"T_90840_level0_row0\" class=\"row_heading level0 row0\" rowspan=\"2\">SIS</th>\n",
       "      <th id=\"T_90840_level1_row0\" class=\"row_heading level1 row0\" >2021</th>\n",
       "      <td id=\"T_90840_row0_col0\" class=\"data row0 col0\" >535,000.00</td>\n",
       "      <td id=\"T_90840_row0_col1\" class=\"data row0 col1\" >433,150.00</td>\n",
       "      <td id=\"T_90840_row0_col2\" class=\"data row0 col2\" >15,500</td>\n",
       "      <td id=\"T_90840_row0_col3\" class=\"data row0 col3\" >101,850.00</td>\n",
       "    </tr>\n",
       "    <tr>\n",
       "      <th id=\"T_90840_level1_row1\" class=\"row_heading level1 row1\" >2022</th>\n",
       "      <td id=\"T_90840_row1_col0\" class=\"data row1 col0\" >272,100.00</td>\n",
       "      <td id=\"T_90840_row1_col1\" class=\"data row1 col1\" >266,000.00</td>\n",
       "      <td id=\"T_90840_row1_col2\" class=\"data row1 col2\" >6,800</td>\n",
       "      <td id=\"T_90840_row1_col3\" class=\"data row1 col3\" >6,100.00</td>\n",
       "    </tr>\n",
       "  </tbody>\n",
       "</table>\n"
      ],
      "text/plain": [
       "<pandas.io.formats.style.Styler at 0x1dedf0b7520>"
      ]
     },
     "execution_count": 34,
     "metadata": {},
     "output_type": "execute_result"
    }
   ],
   "source": [
    "sold_grp = sells_df.groupby(['name','sell_year'])\n",
    "sold_stocks = sold_grp['sell_amt','buy_amt','qty','gross'].sum()\n",
    "sold_stocks.sort_values(['name','sell_year'],ascending=[True,True]).style.format(format_dict)"
   ]
  },
  {
   "cell_type": "code",
   "execution_count": 35,
   "metadata": {},
   "outputs": [
    {
     "data": {
      "text/html": [
       "<style type=\"text/css\">\n",
       "</style>\n",
       "<table id=\"T_5c681_\">\n",
       "  <thead>\n",
       "    <tr>\n",
       "      <th class=\"blank\" >&nbsp;</th>\n",
       "      <th class=\"blank level0\" >&nbsp;</th>\n",
       "      <th class=\"col_heading level0 col0\" >sell_amt</th>\n",
       "      <th class=\"col_heading level0 col1\" >buy_amt</th>\n",
       "      <th class=\"col_heading level0 col2\" >gross</th>\n",
       "      <th class=\"col_heading level0 col3\" >qty</th>\n",
       "      <th class=\"col_heading level0 col4\" >sell_price</th>\n",
       "      <th class=\"col_heading level0 col5\" >buy_price</th>\n",
       "    </tr>\n",
       "    <tr>\n",
       "      <th class=\"index_name level0\" >name</th>\n",
       "      <th class=\"index_name level1\" >sell_year</th>\n",
       "      <th class=\"blank col0\" >&nbsp;</th>\n",
       "      <th class=\"blank col1\" >&nbsp;</th>\n",
       "      <th class=\"blank col2\" >&nbsp;</th>\n",
       "      <th class=\"blank col3\" >&nbsp;</th>\n",
       "      <th class=\"blank col4\" >&nbsp;</th>\n",
       "      <th class=\"blank col5\" >&nbsp;</th>\n",
       "    </tr>\n",
       "  </thead>\n",
       "  <tbody>\n",
       "    <tr>\n",
       "      <th id=\"T_5c681_level0_row0\" class=\"row_heading level0 row0\" rowspan=\"2\">SIS</th>\n",
       "      <th id=\"T_5c681_level1_row0\" class=\"row_heading level1 row0\" >2021</th>\n",
       "      <td id=\"T_5c681_row0_col0\" class=\"data row0 col0\" >535,000.00</td>\n",
       "      <td id=\"T_5c681_row0_col1\" class=\"data row0 col1\" >433,150.00</td>\n",
       "      <td id=\"T_5c681_row0_col2\" class=\"data row0 col2\" >101,850.00</td>\n",
       "      <td id=\"T_5c681_row0_col3\" class=\"data row0 col3\" >15,500</td>\n",
       "      <td id=\"T_5c681_row0_col4\" class=\"data row0 col4\" >34.52</td>\n",
       "      <td id=\"T_5c681_row0_col5\" class=\"data row0 col5\" >27.95</td>\n",
       "    </tr>\n",
       "    <tr>\n",
       "      <th id=\"T_5c681_level1_row1\" class=\"row_heading level1 row1\" >2022</th>\n",
       "      <td id=\"T_5c681_row1_col0\" class=\"data row1 col0\" >272,100.00</td>\n",
       "      <td id=\"T_5c681_row1_col1\" class=\"data row1 col1\" >266,000.00</td>\n",
       "      <td id=\"T_5c681_row1_col2\" class=\"data row1 col2\" >6,100.00</td>\n",
       "      <td id=\"T_5c681_row1_col3\" class=\"data row1 col3\" >6,800</td>\n",
       "      <td id=\"T_5c681_row1_col4\" class=\"data row1 col4\" >40.01</td>\n",
       "      <td id=\"T_5c681_row1_col5\" class=\"data row1 col5\" >39.12</td>\n",
       "    </tr>\n",
       "  </tbody>\n",
       "</table>\n"
      ],
      "text/plain": [
       "<pandas.io.formats.style.Styler at 0x1dedf164b80>"
      ]
     },
     "execution_count": 35,
     "metadata": {},
     "output_type": "execute_result"
    }
   ],
   "source": [
    "sold_stocks['sell_price'] = sold_stocks['sell_amt'] / sold_stocks['qty']\n",
    "sold_stocks['buy_price'] = sold_stocks['buy_amt'] / sold_stocks['qty']\n",
    "cols = 'sell_amt buy_amt gross qty sell_price buy_price'.split()\n",
    "sold_stocks[cols].sort_values(['name'],ascending=[True]).style.format(format_dict)"
   ]
  },
  {
   "cell_type": "markdown",
   "metadata": {},
   "source": [
    "### Record selection for active stocks"
   ]
  },
  {
   "cell_type": "code",
   "execution_count": 36,
   "metadata": {},
   "outputs": [
    {
     "data": {
      "text/html": [
       "<style type=\"text/css\">\n",
       "</style>\n",
       "<table id=\"T_0bf94_\">\n",
       "  <thead>\n",
       "    <tr>\n",
       "      <th class=\"blank level0\" >&nbsp;</th>\n",
       "      <th class=\"col_heading level0 col0\" >name</th>\n",
       "      <th class=\"col_heading level0 col1\" >year</th>\n",
       "      <th class=\"col_heading level0 col2\" >month</th>\n",
       "      <th class=\"col_heading level0 col3\" >unit_cost</th>\n",
       "      <th class=\"col_heading level0 col4\" >qty</th>\n",
       "      <th class=\"col_heading level0 col5\" >cost_amt</th>\n",
       "    </tr>\n",
       "  </thead>\n",
       "  <tbody>\n",
       "    <tr>\n",
       "      <th id=\"T_0bf94_level0_row0\" class=\"row_heading level0 row0\" >0</th>\n",
       "      <td id=\"T_0bf94_row0_col0\" class=\"data row0 col0\" >SIS</td>\n",
       "      <td id=\"T_0bf94_row0_col1\" class=\"data row0 col1\" >2022</td>\n",
       "      <td id=\"T_0bf94_row0_col2\" class=\"data row0 col2\" >5</td>\n",
       "      <td id=\"T_0bf94_row0_col3\" class=\"data row0 col3\" >28.75</td>\n",
       "      <td id=\"T_0bf94_row0_col4\" class=\"data row0 col4\" >2,800</td>\n",
       "      <td id=\"T_0bf94_row0_col5\" class=\"data row0 col5\" >80,500.00</td>\n",
       "    </tr>\n",
       "  </tbody>\n",
       "</table>\n"
      ],
      "text/plain": [
       "<pandas.io.formats.style.Styler at 0x1dede05fd00>"
      ]
     },
     "execution_count": 36,
     "metadata": {},
     "output_type": "execute_result"
    }
   ],
   "source": [
    "sql = '''\n",
    "SELECT name, YEAR(buys.date) AS year, MONTH(buys.date) AS month,\n",
    "buys.price AS unit_cost, qty, \n",
    "(buys.price * qty) AS cost_amt\n",
    "FROM buys\n",
    "JOIN stocks ON buys.stock_id = stocks.id\n",
    "WHERE status = 'Active'\n",
    "AND name = '%s'\n",
    "ORDER BY name, buys.date'''\n",
    "sql = sql % name\n",
    "buys_df = pd.read_sql(sql, conpf)\n",
    "buys_df.style.format(format_dict)"
   ]
  },
  {
   "cell_type": "code",
   "execution_count": 38,
   "metadata": {},
   "outputs": [
    {
     "data": {
      "text/plain": [
       "year  month\n",
       "2022  5       80,500.00\n",
       "Name: cost_amt, dtype: float64"
      ]
     },
     "execution_count": 38,
     "metadata": {},
     "output_type": "execute_result"
    }
   ],
   "source": [
    "buys_df.groupby(['year','month']).cost_amt.sum()"
   ]
  },
  {
   "cell_type": "code",
   "execution_count": 39,
   "metadata": {},
   "outputs": [
    {
     "data": {
      "text/plain": [
       "80500.0"
      ]
     },
     "execution_count": 39,
     "metadata": {},
     "output_type": "execute_result"
    }
   ],
   "source": [
    "buys_df.cost_amt.sum()"
   ]
  },
  {
   "cell_type": "code",
   "execution_count": 40,
   "metadata": {},
   "outputs": [
    {
     "name": "stderr",
     "output_type": "stream",
     "text": [
      "C:\\Users\\User\\AppData\\Local\\Temp/ipykernel_18744/3973236850.py:1: FutureWarning: Indexing with multiple keys (implicitly converted to a tuple of keys) will be deprecated, use a list instead.\n",
      "  buys_df.groupby(['name'])['cost_amt','qty'].sum().style.format(format_dict)\n"
     ]
    },
    {
     "data": {
      "text/html": [
       "<style type=\"text/css\">\n",
       "</style>\n",
       "<table id=\"T_f0bd3_\">\n",
       "  <thead>\n",
       "    <tr>\n",
       "      <th class=\"blank level0\" >&nbsp;</th>\n",
       "      <th class=\"col_heading level0 col0\" >cost_amt</th>\n",
       "      <th class=\"col_heading level0 col1\" >qty</th>\n",
       "    </tr>\n",
       "    <tr>\n",
       "      <th class=\"index_name level0\" >name</th>\n",
       "      <th class=\"blank col0\" >&nbsp;</th>\n",
       "      <th class=\"blank col1\" >&nbsp;</th>\n",
       "    </tr>\n",
       "  </thead>\n",
       "  <tbody>\n",
       "    <tr>\n",
       "      <th id=\"T_f0bd3_level0_row0\" class=\"row_heading level0 row0\" >SIS</th>\n",
       "      <td id=\"T_f0bd3_row0_col0\" class=\"data row0 col0\" >80,500.00</td>\n",
       "      <td id=\"T_f0bd3_row0_col1\" class=\"data row0 col1\" >2,800</td>\n",
       "    </tr>\n",
       "  </tbody>\n",
       "</table>\n"
      ],
      "text/plain": [
       "<pandas.io.formats.style.Styler at 0x1dedf14e070>"
      ]
     },
     "execution_count": 40,
     "metadata": {},
     "output_type": "execute_result"
    }
   ],
   "source": [
    "buys_df.groupby(['name'])['cost_amt','qty'].sum().style.format(format_dict)"
   ]
  },
  {
   "cell_type": "code",
   "execution_count": 41,
   "metadata": {},
   "outputs": [
    {
     "name": "stderr",
     "output_type": "stream",
     "text": [
      "C:\\Users\\User\\AppData\\Local\\Temp/ipykernel_18744/726847341.py:2: FutureWarning: Indexing with multiple keys (implicitly converted to a tuple of keys) will be deprecated, use a list instead.\n",
      "  dtd_stocks = buys_grp['cost_amt','qty'].sum()\n"
     ]
    },
    {
     "data": {
      "text/html": [
       "<style type=\"text/css\">\n",
       "</style>\n",
       "<table id=\"T_595eb_\">\n",
       "  <thead>\n",
       "    <tr>\n",
       "      <th class=\"blank level0\" >&nbsp;</th>\n",
       "      <th class=\"col_heading level0 col0\" >cost_amt</th>\n",
       "      <th class=\"col_heading level0 col1\" >qty</th>\n",
       "      <th class=\"col_heading level0 col2\" >avg_cost</th>\n",
       "    </tr>\n",
       "    <tr>\n",
       "      <th class=\"index_name level0\" >name</th>\n",
       "      <th class=\"blank col0\" >&nbsp;</th>\n",
       "      <th class=\"blank col1\" >&nbsp;</th>\n",
       "      <th class=\"blank col2\" >&nbsp;</th>\n",
       "    </tr>\n",
       "  </thead>\n",
       "  <tbody>\n",
       "    <tr>\n",
       "      <th id=\"T_595eb_level0_row0\" class=\"row_heading level0 row0\" >SIS</th>\n",
       "      <td id=\"T_595eb_row0_col0\" class=\"data row0 col0\" >80,500.00</td>\n",
       "      <td id=\"T_595eb_row0_col1\" class=\"data row0 col1\" >2,800</td>\n",
       "      <td id=\"T_595eb_row0_col2\" class=\"data row0 col2\" >28.75</td>\n",
       "    </tr>\n",
       "  </tbody>\n",
       "</table>\n"
      ],
      "text/plain": [
       "<pandas.io.formats.style.Styler at 0x1dedf0b7df0>"
      ]
     },
     "execution_count": 41,
     "metadata": {},
     "output_type": "execute_result"
    }
   ],
   "source": [
    "buys_grp = buys_df.groupby(by=['name'])\n",
    "dtd_stocks = buys_grp['cost_amt','qty'].sum()\n",
    "dtd_stocks['avg_cost'] = dtd_stocks['cost_amt'] / dtd_stocks['qty']\n",
    "dtd_stocks.sort_values(['name'],ascending=[True]).style.format(format_dict)"
   ]
  },
  {
   "cell_type": "code",
   "execution_count": 42,
   "metadata": {},
   "outputs": [
    {
     "data": {
      "text/plain": [
       "('../data/unit-cost-name.csv',\n",
       " '\\\\Users\\\\User\\\\iCloudDrive\\\\unit-cost-name.csv',\n",
       " '\\\\Users\\\\User\\\\Dropbox\\\\unit-cost-name.csv')"
      ]
     },
     "execution_count": 42,
     "metadata": {},
     "output_type": "execute_result"
    }
   ],
   "source": [
    "file_name = 'unit-cost-name.csv'\n",
    "data_file = data_path + file_name\n",
    "csv_file = csv_path + file_name\n",
    "box_file = box_path + file_name\n",
    "data_file, csv_file, box_file"
   ]
  },
  {
   "cell_type": "code",
   "execution_count": 43,
   "metadata": {},
   "outputs": [],
   "source": [
    "dtd_stocks.sort_values(['name'],ascending=[True]).to_csv(csv_file)\n",
    "dtd_stocks.sort_values(['name'],ascending=[True]).to_csv(box_file)\n",
    "dtd_stocks.sort_values(['name'],ascending=[True]).to_csv(data_file)"
   ]
  },
  {
   "cell_type": "markdown",
   "metadata": {},
   "source": [
    "### Extra addition"
   ]
  },
  {
   "cell_type": "code",
   "execution_count": 44,
   "metadata": {},
   "outputs": [
    {
     "name": "stdout",
     "output_type": "stream",
     "text": [
      "\n",
      "SELECT name, YEAR(sells.date) AS sell_year, MONTH(sells.date) AS sell_month, sells.date AS sell_date,\n",
      "qty, sells.price AS sell_price, buys.price AS buy_price,\n",
      "sells.net AS sell_amt, buys.net AS buy_amt, profit,\n",
      "ROUND((sells.price - buys.price)/buys.price*100,2) AS pct, sells.id AS sell_id, buys.kind\n",
      "FROM sells JOIN buys ON sells.buy_id = buys.id\n",
      "JOIN stocks ON buys.stock_id = stocks.id\n",
      "WHERE YEAR(sells.date) = 2022\n",
      "AND name = 'SIS'\n",
      "ORDER BY sells.date, name\n"
     ]
    }
   ],
   "source": [
    "sql = '''\n",
    "SELECT name, YEAR(sells.date) AS sell_year, MONTH(sells.date) AS sell_month, sells.date AS sell_date,\n",
    "qty, sells.price AS sell_price, buys.price AS buy_price,\n",
    "sells.net AS sell_amt, buys.net AS buy_amt, profit,\n",
    "ROUND((sells.price - buys.price)/buys.price*100,2) AS pct, sells.id AS sell_id, buys.kind\n",
    "FROM sells JOIN buys ON sells.buy_id = buys.id\n",
    "JOIN stocks ON buys.stock_id = stocks.id\n",
    "WHERE YEAR(sells.date) = %s\n",
    "AND name = '%s'\n",
    "ORDER BY sells.date, name'''\n",
    "\n",
    "sql = sql % (year, name)\n",
    "print(sql)"
   ]
  },
  {
   "cell_type": "code",
   "execution_count": 45,
   "metadata": {},
   "outputs": [
    {
     "data": {
      "text/html": [
       "<div>\n",
       "<style scoped>\n",
       "    .dataframe tbody tr th:only-of-type {\n",
       "        vertical-align: middle;\n",
       "    }\n",
       "\n",
       "    .dataframe tbody tr th {\n",
       "        vertical-align: top;\n",
       "    }\n",
       "\n",
       "    .dataframe thead th {\n",
       "        text-align: right;\n",
       "    }\n",
       "</style>\n",
       "<table border=\"1\" class=\"dataframe\">\n",
       "  <thead>\n",
       "    <tr style=\"text-align: right;\">\n",
       "      <th></th>\n",
       "      <th>name</th>\n",
       "      <th>sell_year</th>\n",
       "      <th>sell_month</th>\n",
       "      <th>sell_date</th>\n",
       "      <th>qty</th>\n",
       "      <th>sell_price</th>\n",
       "      <th>buy_price</th>\n",
       "      <th>sell_amt</th>\n",
       "      <th>buy_amt</th>\n",
       "      <th>profit</th>\n",
       "      <th>pct</th>\n",
       "      <th>sell_id</th>\n",
       "      <th>kind</th>\n",
       "    </tr>\n",
       "  </thead>\n",
       "  <tbody>\n",
       "    <tr>\n",
       "      <th>0</th>\n",
       "      <td>SIS</td>\n",
       "      <td>2022</td>\n",
       "      <td>1</td>\n",
       "      <td>2022-01-19</td>\n",
       "      <td>1500</td>\n",
       "      <td>42.75</td>\n",
       "      <td>40.50</td>\n",
       "      <td>63,982.97</td>\n",
       "      <td>60,884.55</td>\n",
       "      <td>3,098.42</td>\n",
       "      <td>5.56</td>\n",
       "      <td>907</td>\n",
       "      <td>DTD</td>\n",
       "    </tr>\n",
       "    <tr>\n",
       "      <th>1</th>\n",
       "      <td>SIS</td>\n",
       "      <td>2022</td>\n",
       "      <td>3</td>\n",
       "      <td>2022-03-31</td>\n",
       "      <td>4500</td>\n",
       "      <td>40.75</td>\n",
       "      <td>40.50</td>\n",
       "      <td>182,968.84</td>\n",
       "      <td>182,653.67</td>\n",
       "      <td>315.17</td>\n",
       "      <td>0.62</td>\n",
       "      <td>950</td>\n",
       "      <td>DTD</td>\n",
       "    </tr>\n",
       "    <tr>\n",
       "      <th>2</th>\n",
       "      <td>SIS</td>\n",
       "      <td>2022</td>\n",
       "      <td>5</td>\n",
       "      <td>2022-05-26</td>\n",
       "      <td>800</td>\n",
       "      <td>30.75</td>\n",
       "      <td>28.75</td>\n",
       "      <td>24,545.52</td>\n",
       "      <td>23,050.94</td>\n",
       "      <td>1,494.58</td>\n",
       "      <td>6.96</td>\n",
       "      <td>968</td>\n",
       "      <td>DTD</td>\n",
       "    </tr>\n",
       "  </tbody>\n",
       "</table>\n",
       "</div>"
      ],
      "text/plain": [
       "  name  sell_year  sell_month   sell_date   qty  sell_price  buy_price  \\\n",
       "0  SIS       2022           1  2022-01-19  1500       42.75      40.50   \n",
       "1  SIS       2022           3  2022-03-31  4500       40.75      40.50   \n",
       "2  SIS       2022           5  2022-05-26   800       30.75      28.75   \n",
       "\n",
       "    sell_amt    buy_amt   profit  pct  sell_id kind  \n",
       "0  63,982.97  60,884.55 3,098.42 5.56      907  DTD  \n",
       "1 182,968.84 182,653.67   315.17 0.62      950  DTD  \n",
       "2  24,545.52  23,050.94 1,494.58 6.96      968  DTD  "
      ]
     },
     "execution_count": 45,
     "metadata": {},
     "output_type": "execute_result"
    }
   ],
   "source": [
    "df_sells = pd.read_sql(sql, conpf)\n",
    "df_sells.head()"
   ]
  },
  {
   "cell_type": "code",
   "execution_count": 46,
   "metadata": {},
   "outputs": [
    {
     "data": {
      "text/plain": [
       "sell_month\n",
       "1   3,098.42\n",
       "3     315.17\n",
       "5   1,494.58\n",
       "Name: profit, dtype: float64"
      ]
     },
     "execution_count": 46,
     "metadata": {},
     "output_type": "execute_result"
    }
   ],
   "source": [
    "ttl_by_month = df_sells.groupby(['sell_month'])['profit'].sum()\n",
    "ttl_by_month"
   ]
  },
  {
   "cell_type": "code",
   "execution_count": 47,
   "metadata": {},
   "outputs": [
    {
     "data": {
      "text/html": [
       "<div>\n",
       "<style scoped>\n",
       "    .dataframe tbody tr th:only-of-type {\n",
       "        vertical-align: middle;\n",
       "    }\n",
       "\n",
       "    .dataframe tbody tr th {\n",
       "        vertical-align: top;\n",
       "    }\n",
       "\n",
       "    .dataframe thead tr th {\n",
       "        text-align: left;\n",
       "    }\n",
       "\n",
       "    .dataframe thead tr:last-of-type th {\n",
       "        text-align: right;\n",
       "    }\n",
       "</style>\n",
       "<table border=\"1\" class=\"dataframe\">\n",
       "  <thead>\n",
       "    <tr>\n",
       "      <th></th>\n",
       "      <th></th>\n",
       "      <th></th>\n",
       "      <th colspan=\"2\" halign=\"left\">profit</th>\n",
       "    </tr>\n",
       "    <tr>\n",
       "      <th></th>\n",
       "      <th></th>\n",
       "      <th></th>\n",
       "      <th>sum</th>\n",
       "      <th>count</th>\n",
       "    </tr>\n",
       "    <tr>\n",
       "      <th>sell_year</th>\n",
       "      <th>sell_month</th>\n",
       "      <th>name</th>\n",
       "      <th></th>\n",
       "      <th></th>\n",
       "    </tr>\n",
       "  </thead>\n",
       "  <tbody>\n",
       "    <tr>\n",
       "      <th rowspan=\"3\" valign=\"top\">2022</th>\n",
       "      <th>1</th>\n",
       "      <th>SIS</th>\n",
       "      <td>3,098.42</td>\n",
       "      <td>1</td>\n",
       "    </tr>\n",
       "    <tr>\n",
       "      <th>3</th>\n",
       "      <th>SIS</th>\n",
       "      <td>315.17</td>\n",
       "      <td>1</td>\n",
       "    </tr>\n",
       "    <tr>\n",
       "      <th>5</th>\n",
       "      <th>SIS</th>\n",
       "      <td>1,494.58</td>\n",
       "      <td>1</td>\n",
       "    </tr>\n",
       "  </tbody>\n",
       "</table>\n",
       "</div>"
      ],
      "text/plain": [
       "                            profit      \n",
       "                               sum count\n",
       "sell_year sell_month name               \n",
       "2022      1          SIS  3,098.42     1\n",
       "          3          SIS    315.17     1\n",
       "          5          SIS  1,494.58     1"
      ]
     },
     "execution_count": 47,
     "metadata": {},
     "output_type": "execute_result"
    }
   ],
   "source": [
    "ttl_by_month = df_sells.groupby(['sell_year','sell_month','name'], as_index=True).agg(\n",
    "    {\n",
    "        'profit':['sum','count'],\n",
    "    }\n",
    ")\n",
    "ttl_by_month"
   ]
  },
  {
   "cell_type": "code",
   "execution_count": 48,
   "metadata": {},
   "outputs": [
    {
     "data": {
      "text/html": [
       "<div>\n",
       "<style scoped>\n",
       "    .dataframe tbody tr th:only-of-type {\n",
       "        vertical-align: middle;\n",
       "    }\n",
       "\n",
       "    .dataframe tbody tr th {\n",
       "        vertical-align: top;\n",
       "    }\n",
       "\n",
       "    .dataframe thead th {\n",
       "        text-align: right;\n",
       "    }\n",
       "</style>\n",
       "<table border=\"1\" class=\"dataframe\">\n",
       "  <thead>\n",
       "    <tr style=\"text-align: right;\">\n",
       "      <th></th>\n",
       "      <th></th>\n",
       "      <th></th>\n",
       "      <th>sum</th>\n",
       "      <th>count</th>\n",
       "    </tr>\n",
       "    <tr>\n",
       "      <th>sell_year</th>\n",
       "      <th>sell_month</th>\n",
       "      <th>name</th>\n",
       "      <th></th>\n",
       "      <th></th>\n",
       "    </tr>\n",
       "  </thead>\n",
       "  <tbody>\n",
       "    <tr>\n",
       "      <th rowspan=\"3\" valign=\"top\">2022</th>\n",
       "      <th>1</th>\n",
       "      <th>SIS</th>\n",
       "      <td>3,098.42</td>\n",
       "      <td>1</td>\n",
       "    </tr>\n",
       "    <tr>\n",
       "      <th>3</th>\n",
       "      <th>SIS</th>\n",
       "      <td>315.17</td>\n",
       "      <td>1</td>\n",
       "    </tr>\n",
       "    <tr>\n",
       "      <th>5</th>\n",
       "      <th>SIS</th>\n",
       "      <td>1,494.58</td>\n",
       "      <td>1</td>\n",
       "    </tr>\n",
       "  </tbody>\n",
       "</table>\n",
       "</div>"
      ],
      "text/plain": [
       "                               sum  count\n",
       "sell_year sell_month name                \n",
       "2022      1          SIS  3,098.42      1\n",
       "          3          SIS    315.17      1\n",
       "          5          SIS  1,494.58      1"
      ]
     },
     "execution_count": 48,
     "metadata": {},
     "output_type": "execute_result"
    }
   ],
   "source": [
    "pd.set_option('max_rows',None)\n",
    "ttl_by_month.get('profit')"
   ]
  },
  {
   "cell_type": "code",
   "execution_count": 49,
   "metadata": {},
   "outputs": [
    {
     "data": {
      "text/html": [
       "<div>\n",
       "<style scoped>\n",
       "    .dataframe tbody tr th:only-of-type {\n",
       "        vertical-align: middle;\n",
       "    }\n",
       "\n",
       "    .dataframe tbody tr th {\n",
       "        vertical-align: top;\n",
       "    }\n",
       "\n",
       "    .dataframe thead tr th {\n",
       "        text-align: left;\n",
       "    }\n",
       "\n",
       "    .dataframe thead tr:last-of-type th {\n",
       "        text-align: right;\n",
       "    }\n",
       "</style>\n",
       "<table border=\"1\" class=\"dataframe\">\n",
       "  <thead>\n",
       "    <tr>\n",
       "      <th></th>\n",
       "      <th colspan=\"2\" halign=\"left\">profit</th>\n",
       "    </tr>\n",
       "    <tr>\n",
       "      <th></th>\n",
       "      <th>sum</th>\n",
       "      <th>count</th>\n",
       "    </tr>\n",
       "    <tr>\n",
       "      <th>name</th>\n",
       "      <th></th>\n",
       "      <th></th>\n",
       "    </tr>\n",
       "  </thead>\n",
       "  <tbody>\n",
       "    <tr>\n",
       "      <th>SIS</th>\n",
       "      <td>4,908.17</td>\n",
       "      <td>3</td>\n",
       "    </tr>\n",
       "  </tbody>\n",
       "</table>\n",
       "</div>"
      ],
      "text/plain": [
       "       profit      \n",
       "          sum count\n",
       "name               \n",
       "SIS  4,908.17     3"
      ]
     },
     "execution_count": 49,
     "metadata": {},
     "output_type": "execute_result"
    }
   ],
   "source": [
    "ttl_by_month.groupby(level='name').sum()"
   ]
  },
  {
   "cell_type": "code",
   "execution_count": 50,
   "metadata": {},
   "outputs": [
    {
     "data": {
      "text/plain": [
       "profit  sum     4,908.17\n",
       "        count       3.00\n",
       "dtype: float64"
      ]
     },
     "execution_count": 50,
     "metadata": {},
     "output_type": "execute_result"
    }
   ],
   "source": [
    "ttl_by_month.sum()"
   ]
  },
  {
   "cell_type": "markdown",
   "metadata": {},
   "source": [
    "### Profit by Stock"
   ]
  },
  {
   "cell_type": "code",
   "execution_count": 51,
   "metadata": {},
   "outputs": [
    {
     "name": "stdout",
     "output_type": "stream",
     "text": [
      "\n",
      "SELECT name, sells.date AS sell_date,\n",
      "qty, sells.price AS sell_price, buys.price AS buy_price,\n",
      "sells.net AS sell_amt, buys.net AS buy_amt, profit,\n",
      "ROUND((sells.price - buys.price)/buys.price*100,2) AS pct, sells.id AS sell_id, buys.kind\n",
      "FROM sells JOIN buys ON sells.buy_id = buys.id\n",
      "JOIN stocks ON buys.stock_id = stocks.id\n",
      "WHERE YEAR(sells.date) = 2022 AND name = 'SIS'\n",
      "ORDER BY sells.date DESC\n"
     ]
    },
    {
     "data": {
      "text/html": [
       "<style type=\"text/css\">\n",
       "</style>\n",
       "<table id=\"T_d599c_\">\n",
       "  <thead>\n",
       "    <tr>\n",
       "      <th class=\"blank level0\" >&nbsp;</th>\n",
       "      <th class=\"col_heading level0 col0\" >name</th>\n",
       "      <th class=\"col_heading level0 col1\" >sell_date</th>\n",
       "      <th class=\"col_heading level0 col2\" >qty</th>\n",
       "      <th class=\"col_heading level0 col3\" >sell_price</th>\n",
       "      <th class=\"col_heading level0 col4\" >buy_price</th>\n",
       "      <th class=\"col_heading level0 col5\" >sell_amt</th>\n",
       "      <th class=\"col_heading level0 col6\" >buy_amt</th>\n",
       "      <th class=\"col_heading level0 col7\" >profit</th>\n",
       "      <th class=\"col_heading level0 col8\" >pct</th>\n",
       "      <th class=\"col_heading level0 col9\" >sell_id</th>\n",
       "      <th class=\"col_heading level0 col10\" >kind</th>\n",
       "    </tr>\n",
       "  </thead>\n",
       "  <tbody>\n",
       "    <tr>\n",
       "      <th id=\"T_d599c_level0_row0\" class=\"row_heading level0 row0\" >0</th>\n",
       "      <td id=\"T_d599c_row0_col0\" class=\"data row0 col0\" >SIS</td>\n",
       "      <td id=\"T_d599c_row0_col1\" class=\"data row0 col1\" >2022-05-26</td>\n",
       "      <td id=\"T_d599c_row0_col2\" class=\"data row0 col2\" >800</td>\n",
       "      <td id=\"T_d599c_row0_col3\" class=\"data row0 col3\" >30.75</td>\n",
       "      <td id=\"T_d599c_row0_col4\" class=\"data row0 col4\" >28.75</td>\n",
       "      <td id=\"T_d599c_row0_col5\" class=\"data row0 col5\" >24,545.52</td>\n",
       "      <td id=\"T_d599c_row0_col6\" class=\"data row0 col6\" >23,050.94</td>\n",
       "      <td id=\"T_d599c_row0_col7\" class=\"data row0 col7\" >1,494.58</td>\n",
       "      <td id=\"T_d599c_row0_col8\" class=\"data row0 col8\" >6.96%</td>\n",
       "      <td id=\"T_d599c_row0_col9\" class=\"data row0 col9\" >968</td>\n",
       "      <td id=\"T_d599c_row0_col10\" class=\"data row0 col10\" >DTD</td>\n",
       "    </tr>\n",
       "    <tr>\n",
       "      <th id=\"T_d599c_level0_row1\" class=\"row_heading level0 row1\" >1</th>\n",
       "      <td id=\"T_d599c_row1_col0\" class=\"data row1 col0\" >SIS</td>\n",
       "      <td id=\"T_d599c_row1_col1\" class=\"data row1 col1\" >2022-03-31</td>\n",
       "      <td id=\"T_d599c_row1_col2\" class=\"data row1 col2\" >4,500</td>\n",
       "      <td id=\"T_d599c_row1_col3\" class=\"data row1 col3\" >40.75</td>\n",
       "      <td id=\"T_d599c_row1_col4\" class=\"data row1 col4\" >40.50</td>\n",
       "      <td id=\"T_d599c_row1_col5\" class=\"data row1 col5\" >182,968.84</td>\n",
       "      <td id=\"T_d599c_row1_col6\" class=\"data row1 col6\" >182,653.67</td>\n",
       "      <td id=\"T_d599c_row1_col7\" class=\"data row1 col7\" >315.17</td>\n",
       "      <td id=\"T_d599c_row1_col8\" class=\"data row1 col8\" >0.62%</td>\n",
       "      <td id=\"T_d599c_row1_col9\" class=\"data row1 col9\" >950</td>\n",
       "      <td id=\"T_d599c_row1_col10\" class=\"data row1 col10\" >DTD</td>\n",
       "    </tr>\n",
       "    <tr>\n",
       "      <th id=\"T_d599c_level0_row2\" class=\"row_heading level0 row2\" >2</th>\n",
       "      <td id=\"T_d599c_row2_col0\" class=\"data row2 col0\" >SIS</td>\n",
       "      <td id=\"T_d599c_row2_col1\" class=\"data row2 col1\" >2022-01-19</td>\n",
       "      <td id=\"T_d599c_row2_col2\" class=\"data row2 col2\" >1,500</td>\n",
       "      <td id=\"T_d599c_row2_col3\" class=\"data row2 col3\" >42.75</td>\n",
       "      <td id=\"T_d599c_row2_col4\" class=\"data row2 col4\" >40.50</td>\n",
       "      <td id=\"T_d599c_row2_col5\" class=\"data row2 col5\" >63,982.97</td>\n",
       "      <td id=\"T_d599c_row2_col6\" class=\"data row2 col6\" >60,884.55</td>\n",
       "      <td id=\"T_d599c_row2_col7\" class=\"data row2 col7\" >3,098.42</td>\n",
       "      <td id=\"T_d599c_row2_col8\" class=\"data row2 col8\" >5.56%</td>\n",
       "      <td id=\"T_d599c_row2_col9\" class=\"data row2 col9\" >907</td>\n",
       "      <td id=\"T_d599c_row2_col10\" class=\"data row2 col10\" >DTD</td>\n",
       "    </tr>\n",
       "  </tbody>\n",
       "</table>\n"
      ],
      "text/plain": [
       "<pandas.io.formats.style.Styler at 0x1dedf384f70>"
      ]
     },
     "execution_count": 51,
     "metadata": {},
     "output_type": "execute_result"
    }
   ],
   "source": [
    "#name = 'IMH'\n",
    "sql = '''\n",
    "SELECT name, sells.date AS sell_date,\n",
    "qty, sells.price AS sell_price, buys.price AS buy_price,\n",
    "sells.net AS sell_amt, buys.net AS buy_amt, profit,\n",
    "ROUND((sells.price - buys.price)/buys.price*100,2) AS pct, sells.id AS sell_id, buys.kind\n",
    "FROM sells JOIN buys ON sells.buy_id = buys.id\n",
    "JOIN stocks ON buys.stock_id = stocks.id\n",
    "WHERE YEAR(sells.date) = %s AND name = '%s'\n",
    "ORDER BY sells.date DESC'''\n",
    "\n",
    "sql = sql % (year, name)\n",
    "print(sql)\n",
    "\n",
    "df_name = pd.read_sql(sql, conpf)\n",
    "df_name.style.format(format_dict)\n"
   ]
  },
  {
   "cell_type": "code",
   "execution_count": 52,
   "metadata": {},
   "outputs": [
    {
     "data": {
      "text/plain": [
       "(4908.17, 1.84)"
      ]
     },
     "execution_count": 52,
     "metadata": {},
     "output_type": "execute_result"
    }
   ],
   "source": [
    "profit = df_name.profit.sum()\n",
    "cost = df_name.buy_amt.sum()\n",
    "percent = round(profit/cost*100,2)\n",
    "profit, percent"
   ]
  },
  {
   "cell_type": "code",
   "execution_count": 53,
   "metadata": {},
   "outputs": [
    {
     "data": {
      "text/html": [
       "<div>\n",
       "<style scoped>\n",
       "    .dataframe tbody tr th:only-of-type {\n",
       "        vertical-align: middle;\n",
       "    }\n",
       "\n",
       "    .dataframe tbody tr th {\n",
       "        vertical-align: top;\n",
       "    }\n",
       "\n",
       "    .dataframe thead tr th {\n",
       "        text-align: left;\n",
       "    }\n",
       "\n",
       "    .dataframe thead tr:last-of-type th {\n",
       "        text-align: right;\n",
       "    }\n",
       "</style>\n",
       "<table border=\"1\" class=\"dataframe\">\n",
       "  <thead>\n",
       "    <tr>\n",
       "      <th></th>\n",
       "      <th>sell_price</th>\n",
       "    </tr>\n",
       "    <tr>\n",
       "      <th></th>\n",
       "      <th>count</th>\n",
       "    </tr>\n",
       "    <tr>\n",
       "      <th>sell_price</th>\n",
       "      <th></th>\n",
       "    </tr>\n",
       "  </thead>\n",
       "  <tbody>\n",
       "    <tr>\n",
       "      <th>30.75</th>\n",
       "      <td>1</td>\n",
       "    </tr>\n",
       "    <tr>\n",
       "      <th>40.75</th>\n",
       "      <td>1</td>\n",
       "    </tr>\n",
       "    <tr>\n",
       "      <th>42.75</th>\n",
       "      <td>1</td>\n",
       "    </tr>\n",
       "  </tbody>\n",
       "</table>\n",
       "</div>"
      ],
      "text/plain": [
       "           sell_price\n",
       "                count\n",
       "sell_price           \n",
       "30.75               1\n",
       "40.75               1\n",
       "42.75               1"
      ]
     },
     "execution_count": 53,
     "metadata": {},
     "output_type": "execute_result"
    }
   ],
   "source": [
    "df_by_price = df_name.groupby(['sell_price'], as_index=True).agg(\n",
    "    {\n",
    "        'sell_price':['count'],\n",
    "    }\n",
    ")\n",
    "df_by_price"
   ]
  },
  {
   "cell_type": "code",
   "execution_count": 54,
   "metadata": {},
   "outputs": [
    {
     "data": {
      "text/html": [
       "<div>\n",
       "<style scoped>\n",
       "    .dataframe tbody tr th:only-of-type {\n",
       "        vertical-align: middle;\n",
       "    }\n",
       "\n",
       "    .dataframe tbody tr th {\n",
       "        vertical-align: top;\n",
       "    }\n",
       "\n",
       "    .dataframe thead tr th {\n",
       "        text-align: left;\n",
       "    }\n",
       "\n",
       "    .dataframe thead tr:last-of-type th {\n",
       "        text-align: right;\n",
       "    }\n",
       "</style>\n",
       "<table border=\"1\" class=\"dataframe\">\n",
       "  <thead>\n",
       "    <tr>\n",
       "      <th></th>\n",
       "      <th></th>\n",
       "      <th>sell_price</th>\n",
       "    </tr>\n",
       "    <tr>\n",
       "      <th></th>\n",
       "      <th></th>\n",
       "      <th>count</th>\n",
       "    </tr>\n",
       "    <tr>\n",
       "      <th>sell_price</th>\n",
       "      <th>buy_price</th>\n",
       "      <th></th>\n",
       "    </tr>\n",
       "  </thead>\n",
       "  <tbody>\n",
       "    <tr>\n",
       "      <th>30.75</th>\n",
       "      <th>28.75</th>\n",
       "      <td>1</td>\n",
       "    </tr>\n",
       "    <tr>\n",
       "      <th>40.75</th>\n",
       "      <th>40.50</th>\n",
       "      <td>1</td>\n",
       "    </tr>\n",
       "    <tr>\n",
       "      <th>42.75</th>\n",
       "      <th>40.50</th>\n",
       "      <td>1</td>\n",
       "    </tr>\n",
       "  </tbody>\n",
       "</table>\n",
       "</div>"
      ],
      "text/plain": [
       "                     sell_price\n",
       "                          count\n",
       "sell_price buy_price           \n",
       "30.75      28.75              1\n",
       "40.75      40.50              1\n",
       "42.75      40.50              1"
      ]
     },
     "execution_count": 54,
     "metadata": {},
     "output_type": "execute_result"
    }
   ],
   "source": [
    "df_by_price = df_name.groupby(['sell_price','buy_price'], as_index=True).agg(\n",
    "    {\n",
    "        'sell_price':['count'],\n",
    "    }\n",
    ")\n",
    "df_by_price"
   ]
  },
  {
   "cell_type": "code",
   "execution_count": null,
   "metadata": {},
   "outputs": [],
   "source": []
  }
 ],
 "metadata": {
  "anaconda-cloud": {},
  "kernelspec": {
   "display_name": "Python 3 (ipykernel)",
   "language": "python",
   "name": "python3"
  },
  "language_info": {
   "codemirror_mode": {
    "name": "ipython",
    "version": 3
   },
   "file_extension": ".py",
   "mimetype": "text/x-python",
   "name": "python",
   "nbconvert_exporter": "python",
   "pygments_lexer": "ipython3",
   "version": "3.8.11"
  }
 },
 "nbformat": 4,
 "nbformat_minor": 1
}
