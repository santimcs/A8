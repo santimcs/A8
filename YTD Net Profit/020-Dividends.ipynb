{
 "cells": [
  {
   "cell_type": "markdown",
   "metadata": {},
   "source": [
    "### Restart and run all"
   ]
  },
  {
   "cell_type": "code",
   "execution_count": 1,
   "metadata": {},
   "outputs": [
    {
     "data": {
      "text/plain": [
       "datetime.date(2022, 2, 15)"
      ]
     },
     "execution_count": 1,
     "metadata": {},
     "output_type": "execute_result"
    }
   ],
   "source": [
    "import pandas as pd\n",
    "from datetime import date, timedelta\n",
    "from sqlalchemy import create_engine\n",
    "\n",
    "engine = create_engine('mysql+pymysql://root:@localhost:3306/portfolio_development')\n",
    "conpf = engine.connect()\n",
    "\n",
    "engine = create_engine(\"sqlite:///c:\\\\ruby\\\\portlt\\\\db\\\\development.sqlite3\")\n",
    "conlt = engine.connect()\n",
    "\n",
    "engine = create_engine(\"mysql+pymysql://root:@localhost:3306/stock\")\n",
    "const = engine.connect()\n",
    "\n",
    "format_dict = {'amount':'{:,}',\n",
    "               'grs_amt':'{:,.2f}','net_amt':'{:,.2f}','refund':'{:,.2f}'}\n",
    "\n",
    "today = date.today()\n",
    "today"
   ]
  },
  {
   "cell_type": "code",
   "execution_count": 2,
   "metadata": {},
   "outputs": [
    {
     "data": {
      "text/plain": [
       "1"
      ]
     },
     "execution_count": 2,
     "metadata": {},
     "output_type": "execute_result"
    }
   ],
   "source": [
    "sql = '''\n",
    "SELECT name, p_date, FORMAT(amt,2) AS amt, FORMAT(net,2) AS net, format(amt-net,2) AS refund, year, quarter AS q\n",
    "FROM dividends\n",
    "WHERE YEAR(p_date) = 2022\n",
    "ORDER BY p_date DESC, name ASC'''\n",
    "dtl_by_month = pd.read_sql(sql, conpf)\n",
    "dtl_by_month.shape[0]"
   ]
  },
  {
   "cell_type": "code",
   "execution_count": 3,
   "metadata": {},
   "outputs": [
    {
     "data": {
      "text/html": [
       "<style type=\"text/css\">\n",
       "</style>\n",
       "<table id=\"T_14393_\">\n",
       "  <thead>\n",
       "    <tr>\n",
       "      <th class=\"blank level0\" >&nbsp;</th>\n",
       "      <th class=\"col_heading level0 col0\" >pay_year</th>\n",
       "      <th class=\"col_heading level0 col1\" >grs_amt</th>\n",
       "      <th class=\"col_heading level0 col2\" >net_amt</th>\n",
       "      <th class=\"col_heading level0 col3\" >refund</th>\n",
       "    </tr>\n",
       "  </thead>\n",
       "  <tbody>\n",
       "    <tr>\n",
       "      <th id=\"T_14393_level0_row0\" class=\"row_heading level0 row0\" >0</th>\n",
       "      <td id=\"T_14393_row0_col0\" class=\"data row0 col0\" >2022</td>\n",
       "      <td id=\"T_14393_row0_col1\" class=\"data row0 col1\" >1,719.00</td>\n",
       "      <td id=\"T_14393_row0_col2\" class=\"data row0 col2\" >1,547.10</td>\n",
       "      <td id=\"T_14393_row0_col3\" class=\"data row0 col3\" >171.90</td>\n",
       "    </tr>\n",
       "    <tr>\n",
       "      <th id=\"T_14393_level0_row1\" class=\"row_heading level0 row1\" >1</th>\n",
       "      <td id=\"T_14393_row1_col0\" class=\"data row1 col0\" >2021</td>\n",
       "      <td id=\"T_14393_row1_col1\" class=\"data row1 col1\" >752,315.10</td>\n",
       "      <td id=\"T_14393_row1_col2\" class=\"data row1 col2\" >700,874.50</td>\n",
       "      <td id=\"T_14393_row1_col3\" class=\"data row1 col3\" >51,440.60</td>\n",
       "    </tr>\n",
       "    <tr>\n",
       "      <th id=\"T_14393_level0_row2\" class=\"row_heading level0 row2\" >2</th>\n",
       "      <td id=\"T_14393_row2_col0\" class=\"data row2 col0\" >2020</td>\n",
       "      <td id=\"T_14393_row2_col1\" class=\"data row2 col1\" >616,228.94</td>\n",
       "      <td id=\"T_14393_row2_col2\" class=\"data row2 col2\" >576,030.84</td>\n",
       "      <td id=\"T_14393_row2_col3\" class=\"data row2 col3\" >40,198.10</td>\n",
       "    </tr>\n",
       "    <tr>\n",
       "      <th id=\"T_14393_level0_row3\" class=\"row_heading level0 row3\" >3</th>\n",
       "      <td id=\"T_14393_row3_col0\" class=\"data row3 col0\" >2019</td>\n",
       "      <td id=\"T_14393_row3_col1\" class=\"data row3 col1\" >552,424.34</td>\n",
       "      <td id=\"T_14393_row3_col2\" class=\"data row3 col2\" >510,266.46</td>\n",
       "      <td id=\"T_14393_row3_col3\" class=\"data row3 col3\" >42,157.88</td>\n",
       "    </tr>\n",
       "    <tr>\n",
       "      <th id=\"T_14393_level0_row4\" class=\"row_heading level0 row4\" >4</th>\n",
       "      <td id=\"T_14393_row4_col0\" class=\"data row4 col0\" >2018</td>\n",
       "      <td id=\"T_14393_row4_col1\" class=\"data row4 col1\" >351,895.60</td>\n",
       "      <td id=\"T_14393_row4_col2\" class=\"data row4 col2\" >309,725.58</td>\n",
       "      <td id=\"T_14393_row4_col3\" class=\"data row4 col3\" >42,170.02</td>\n",
       "    </tr>\n",
       "    <tr>\n",
       "      <th id=\"T_14393_level0_row5\" class=\"row_heading level0 row5\" >5</th>\n",
       "      <td id=\"T_14393_row5_col0\" class=\"data row5 col0\" >2017</td>\n",
       "      <td id=\"T_14393_row5_col1\" class=\"data row5 col1\" >245,981.10</td>\n",
       "      <td id=\"T_14393_row5_col2\" class=\"data row5 col2\" >219,514.23</td>\n",
       "      <td id=\"T_14393_row5_col3\" class=\"data row5 col3\" >26,466.87</td>\n",
       "    </tr>\n",
       "  </tbody>\n",
       "</table>\n"
      ],
      "text/plain": [
       "<pandas.io.formats.style.Styler at 0x164975e4dc0>"
      ]
     },
     "execution_count": 3,
     "metadata": {},
     "output_type": "execute_result"
    }
   ],
   "source": [
    "sql = '''\n",
    "SELECT YEAR(p_date) AS pay_year, SUM(amt) AS grs_amt, SUM(net) AS net_amt, SUM(amt-net) AS refund\n",
    "FROM dividends\n",
    "GROUP BY pay_year\n",
    "ORDER BY pay_year DESC'''\n",
    "ttl_by_year = pd.read_sql(sql, conpf)\n",
    "ttl_by_year.style.format(format_dict)"
   ]
  },
  {
   "cell_type": "code",
   "execution_count": null,
   "metadata": {},
   "outputs": [],
   "source": []
  }
 ],
 "metadata": {
  "anaconda-cloud": {},
  "kernelspec": {
   "display_name": "Python 3 (ipykernel)",
   "language": "python",
   "name": "python3"
  },
  "language_info": {
   "codemirror_mode": {
    "name": "ipython",
    "version": 3
   },
   "file_extension": ".py",
   "mimetype": "text/x-python",
   "name": "python",
   "nbconvert_exporter": "python",
   "pygments_lexer": "ipython3",
   "version": "3.8.11"
  }
 },
 "nbformat": 4,
 "nbformat_minor": 1
}
