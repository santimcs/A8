{
 "cells": [
  {
   "cell_type": "markdown",
   "metadata": {},
   "source": [
    "### Restart and run all"
   ]
  },
  {
   "cell_type": "code",
   "execution_count": 1,
   "metadata": {},
   "outputs": [
    {
     "data": {
      "text/plain": [
       "datetime.date(2022, 3, 31)"
      ]
     },
     "execution_count": 1,
     "metadata": {},
     "output_type": "execute_result"
    }
   ],
   "source": [
    "import pandas as pd\n",
    "from datetime import date, timedelta\n",
    "from sqlalchemy import create_engine\n",
    "\n",
    "engine = create_engine('mysql+pymysql://root:@localhost:3306/portfolio_development')\n",
    "conpf = engine.connect()\n",
    "\n",
    "engine = create_engine(\"sqlite:///c:\\\\ruby\\\\portlt\\\\db\\\\development.sqlite3\")\n",
    "conlt = engine.connect()\n",
    "\n",
    "engine = create_engine(\"mysql+pymysql://root:@localhost:3306/stock\")\n",
    "const = engine.connect()\n",
    "\n",
    "format_dict = {'amount':'{:,}',\n",
    "               'grs_amt':'{:,.2f}','net_amt':'{:,.2f}','refund':'{:,.2f}'}\n",
    "\n",
    "today = date.today()\n",
    "today"
   ]
  },
  {
   "cell_type": "code",
   "execution_count": 2,
   "metadata": {},
   "outputs": [
    {
     "data": {
      "text/html": [
       "<div>\n",
       "<style scoped>\n",
       "    .dataframe tbody tr th:only-of-type {\n",
       "        vertical-align: middle;\n",
       "    }\n",
       "\n",
       "    .dataframe tbody tr th {\n",
       "        vertical-align: top;\n",
       "    }\n",
       "\n",
       "    .dataframe thead th {\n",
       "        text-align: right;\n",
       "    }\n",
       "</style>\n",
       "<table border=\"1\" class=\"dataframe\">\n",
       "  <thead>\n",
       "    <tr style=\"text-align: right;\">\n",
       "      <th></th>\n",
       "      <th>name</th>\n",
       "      <th>p_date</th>\n",
       "      <th>amt</th>\n",
       "      <th>net</th>\n",
       "      <th>refund</th>\n",
       "      <th>year</th>\n",
       "      <th>q</th>\n",
       "    </tr>\n",
       "  </thead>\n",
       "  <tbody>\n",
       "    <tr>\n",
       "      <th>0</th>\n",
       "      <td>HREIT</td>\n",
       "      <td>2022-03-30</td>\n",
       "      <td>6,969.38</td>\n",
       "      <td>6,272.44</td>\n",
       "      <td>696.94</td>\n",
       "      <td>2021</td>\n",
       "      <td>4</td>\n",
       "    </tr>\n",
       "    <tr>\n",
       "      <th>1</th>\n",
       "      <td>AIMIRT</td>\n",
       "      <td>2022-03-28</td>\n",
       "      <td>2,210.00</td>\n",
       "      <td>1,989.00</td>\n",
       "      <td>221.00</td>\n",
       "      <td>2021</td>\n",
       "      <td>4</td>\n",
       "    </tr>\n",
       "    <tr>\n",
       "      <th>2</th>\n",
       "      <td>WHART</td>\n",
       "      <td>2022-03-25</td>\n",
       "      <td>2,390.00</td>\n",
       "      <td>2,151.00</td>\n",
       "      <td>239.00</td>\n",
       "      <td>2021</td>\n",
       "      <td>4</td>\n",
       "    </tr>\n",
       "    <tr>\n",
       "      <th>3</th>\n",
       "      <td>JASIF</td>\n",
       "      <td>2022-03-21</td>\n",
       "      <td>27,500.00</td>\n",
       "      <td>27,500.00</td>\n",
       "      <td>0.00</td>\n",
       "      <td>2021</td>\n",
       "      <td>4</td>\n",
       "    </tr>\n",
       "    <tr>\n",
       "      <th>4</th>\n",
       "      <td>CPNCG</td>\n",
       "      <td>2022-03-04</td>\n",
       "      <td>2,222.00</td>\n",
       "      <td>1,999.80</td>\n",
       "      <td>222.20</td>\n",
       "      <td>2021</td>\n",
       "      <td>4</td>\n",
       "    </tr>\n",
       "    <tr>\n",
       "      <th>5</th>\n",
       "      <td>DIF</td>\n",
       "      <td>2022-03-04</td>\n",
       "      <td>15,660.00</td>\n",
       "      <td>15,660.00</td>\n",
       "      <td>0.00</td>\n",
       "      <td>2021</td>\n",
       "      <td>4</td>\n",
       "    </tr>\n",
       "    <tr>\n",
       "      <th>6</th>\n",
       "      <td>LPF</td>\n",
       "      <td>2022-02-15</td>\n",
       "      <td>1,719.00</td>\n",
       "      <td>1,547.10</td>\n",
       "      <td>171.90</td>\n",
       "      <td>2021</td>\n",
       "      <td>4</td>\n",
       "    </tr>\n",
       "  </tbody>\n",
       "</table>\n",
       "</div>"
      ],
      "text/plain": [
       "     name      p_date        amt        net  refund  year  q\n",
       "0   HREIT  2022-03-30   6,969.38   6,272.44  696.94  2021  4\n",
       "1  AIMIRT  2022-03-28   2,210.00   1,989.00  221.00  2021  4\n",
       "2   WHART  2022-03-25   2,390.00   2,151.00  239.00  2021  4\n",
       "3   JASIF  2022-03-21  27,500.00  27,500.00    0.00  2021  4\n",
       "4   CPNCG  2022-03-04   2,222.00   1,999.80  222.20  2021  4\n",
       "5     DIF  2022-03-04  15,660.00  15,660.00    0.00  2021  4\n",
       "6     LPF  2022-02-15   1,719.00   1,547.10  171.90  2021  4"
      ]
     },
     "execution_count": 2,
     "metadata": {},
     "output_type": "execute_result"
    }
   ],
   "source": [
    "sql = '''\n",
    "SELECT name, p_date, FORMAT(amt,2) AS amt, FORMAT(net,2) AS net, format(amt-net,2) AS refund, year, quarter AS q\n",
    "FROM dividends\n",
    "WHERE YEAR(p_date) = 2022\n",
    "ORDER BY p_date DESC, name ASC'''\n",
    "dtl_by_month = pd.read_sql(sql, conpf)\n",
    "dtl_by_month"
   ]
  },
  {
   "cell_type": "code",
   "execution_count": 3,
   "metadata": {},
   "outputs": [
    {
     "data": {
      "text/html": [
       "<style type=\"text/css\">\n",
       "</style>\n",
       "<table id=\"T_78d08_\">\n",
       "  <thead>\n",
       "    <tr>\n",
       "      <th class=\"blank level0\" >&nbsp;</th>\n",
       "      <th class=\"col_heading level0 col0\" >pay_year</th>\n",
       "      <th class=\"col_heading level0 col1\" >grs_amt</th>\n",
       "      <th class=\"col_heading level0 col2\" >net_amt</th>\n",
       "      <th class=\"col_heading level0 col3\" >refund</th>\n",
       "    </tr>\n",
       "  </thead>\n",
       "  <tbody>\n",
       "    <tr>\n",
       "      <th id=\"T_78d08_level0_row0\" class=\"row_heading level0 row0\" >0</th>\n",
       "      <td id=\"T_78d08_row0_col0\" class=\"data row0 col0\" >2022</td>\n",
       "      <td id=\"T_78d08_row0_col1\" class=\"data row0 col1\" >58,670.38</td>\n",
       "      <td id=\"T_78d08_row0_col2\" class=\"data row0 col2\" >57,119.34</td>\n",
       "      <td id=\"T_78d08_row0_col3\" class=\"data row0 col3\" >1,551.04</td>\n",
       "    </tr>\n",
       "    <tr>\n",
       "      <th id=\"T_78d08_level0_row1\" class=\"row_heading level0 row1\" >1</th>\n",
       "      <td id=\"T_78d08_row1_col0\" class=\"data row1 col0\" >2021</td>\n",
       "      <td id=\"T_78d08_row1_col1\" class=\"data row1 col1\" >752,315.10</td>\n",
       "      <td id=\"T_78d08_row1_col2\" class=\"data row1 col2\" >700,874.50</td>\n",
       "      <td id=\"T_78d08_row1_col3\" class=\"data row1 col3\" >51,440.60</td>\n",
       "    </tr>\n",
       "    <tr>\n",
       "      <th id=\"T_78d08_level0_row2\" class=\"row_heading level0 row2\" >2</th>\n",
       "      <td id=\"T_78d08_row2_col0\" class=\"data row2 col0\" >2020</td>\n",
       "      <td id=\"T_78d08_row2_col1\" class=\"data row2 col1\" >616,228.94</td>\n",
       "      <td id=\"T_78d08_row2_col2\" class=\"data row2 col2\" >576,030.84</td>\n",
       "      <td id=\"T_78d08_row2_col3\" class=\"data row2 col3\" >40,198.10</td>\n",
       "    </tr>\n",
       "    <tr>\n",
       "      <th id=\"T_78d08_level0_row3\" class=\"row_heading level0 row3\" >3</th>\n",
       "      <td id=\"T_78d08_row3_col0\" class=\"data row3 col0\" >2019</td>\n",
       "      <td id=\"T_78d08_row3_col1\" class=\"data row3 col1\" >552,424.34</td>\n",
       "      <td id=\"T_78d08_row3_col2\" class=\"data row3 col2\" >510,266.46</td>\n",
       "      <td id=\"T_78d08_row3_col3\" class=\"data row3 col3\" >42,157.88</td>\n",
       "    </tr>\n",
       "    <tr>\n",
       "      <th id=\"T_78d08_level0_row4\" class=\"row_heading level0 row4\" >4</th>\n",
       "      <td id=\"T_78d08_row4_col0\" class=\"data row4 col0\" >2018</td>\n",
       "      <td id=\"T_78d08_row4_col1\" class=\"data row4 col1\" >351,895.60</td>\n",
       "      <td id=\"T_78d08_row4_col2\" class=\"data row4 col2\" >309,725.58</td>\n",
       "      <td id=\"T_78d08_row4_col3\" class=\"data row4 col3\" >42,170.02</td>\n",
       "    </tr>\n",
       "    <tr>\n",
       "      <th id=\"T_78d08_level0_row5\" class=\"row_heading level0 row5\" >5</th>\n",
       "      <td id=\"T_78d08_row5_col0\" class=\"data row5 col0\" >2017</td>\n",
       "      <td id=\"T_78d08_row5_col1\" class=\"data row5 col1\" >245,981.10</td>\n",
       "      <td id=\"T_78d08_row5_col2\" class=\"data row5 col2\" >219,514.23</td>\n",
       "      <td id=\"T_78d08_row5_col3\" class=\"data row5 col3\" >26,466.87</td>\n",
       "    </tr>\n",
       "  </tbody>\n",
       "</table>\n"
      ],
      "text/plain": [
       "<pandas.io.formats.style.Styler at 0x21ddabcaf70>"
      ]
     },
     "execution_count": 3,
     "metadata": {},
     "output_type": "execute_result"
    }
   ],
   "source": [
    "sql = '''\n",
    "SELECT YEAR(p_date) AS pay_year, SUM(amt) AS grs_amt, SUM(net) AS net_amt, SUM(amt-net) AS refund\n",
    "FROM dividends\n",
    "GROUP BY pay_year\n",
    "ORDER BY pay_year DESC'''\n",
    "ttl_by_year = pd.read_sql(sql, conpf)\n",
    "ttl_by_year.style.format(format_dict)"
   ]
  },
  {
   "cell_type": "code",
   "execution_count": null,
   "metadata": {},
   "outputs": [],
   "source": []
  }
 ],
 "metadata": {
  "anaconda-cloud": {},
  "kernelspec": {
   "display_name": "Python 3 (ipykernel)",
   "language": "python",
   "name": "python3"
  },
  "language_info": {
   "codemirror_mode": {
    "name": "ipython",
    "version": 3
   },
   "file_extension": ".py",
   "mimetype": "text/x-python",
   "name": "python",
   "nbconvert_exporter": "python",
   "pygments_lexer": "ipython3",
   "version": "3.8.11"
  }
 },
 "nbformat": 4,
 "nbformat_minor": 1
}
