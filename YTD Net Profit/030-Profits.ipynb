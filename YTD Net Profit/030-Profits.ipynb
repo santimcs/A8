{
 "cells": [
  {
   "cell_type": "code",
   "execution_count": 1,
   "metadata": {},
   "outputs": [
    {
     "data": {
      "text/plain": [
       "datetime.date(2022, 1, 23)"
      ]
     },
     "execution_count": 1,
     "metadata": {},
     "output_type": "execute_result"
    }
   ],
   "source": [
    "import pandas as pd\n",
    "from datetime import date, timedelta\n",
    "from sqlalchemy import create_engine\n",
    "\n",
    "engine = create_engine('mysql+pymysql://root:@localhost:3306/portfolio_development')\n",
    "conpf = engine.connect()\n",
    "\n",
    "data_path = \"../data/\"\n",
    "csv_path = \"\\\\Users\\\\User\\\\iCloudDrive\\\\\"\n",
    "box_path = \"\\\\Users\\\\User\\\\Dropbox\\\\\"\n",
    "\n",
    "format_dict = {'qty':'{:,}',\n",
    "              'sell_price':'{:,.2f}','buy_price':'{:,.2f}','diff':'{:,.2f}',\n",
    "              'sell_amt':'{:,.2f}','buy_amt':'{:,.2f}','gross':'{:,.2f}',\n",
    "              'pct':'{:,.2f}','net':'{:,.2f}'}\n",
    "pd.set_option('display.float_format','{:,.2f}'.format)\n",
    "year = 2022\n",
    "refund = 112000.00\n",
    "dividend = 0.00\n",
    "expense  = 38_000.00\n",
    "\n",
    "today = date.today()\n",
    "today"
   ]
  },
  {
   "cell_type": "markdown",
   "metadata": {},
   "source": [
    "### Restart and Run All Cells"
   ]
  },
  {
   "cell_type": "markdown",
   "metadata": {},
   "source": [
    "### Record selection for transactions"
   ]
  },
  {
   "cell_type": "code",
   "execution_count": 2,
   "metadata": {},
   "outputs": [
    {
     "name": "stdout",
     "output_type": "stream",
     "text": [
      "\n",
      "SELECT name, YEAR(sells.date) AS sell_year, MONTH(sells.date) AS sell_month, \n",
      "       YEAR(buys.date) AS buy_year, MONTH(buys.date) AS buy_month,\n",
      "       sells.price AS sell_price, buys.price AS buy_price, (sells.price - buys.price) AS diff, \n",
      "       qty, (sells.price * qty) AS sell_amt, (buys.price * qty) AS buy_amt, \n",
      "       (sells.price - buys.price) * qty AS gross, \n",
      "       ROUND((sells.price - buys.price)/buys.price*100,2) AS pct, profit AS net, buys.kind\n",
      "FROM sells JOIN buys ON sells.buy_id = buys.id\n",
      "JOIN stocks ON buys.stock_id = stocks.id\n",
      "WHERE YEAR(sells.date) = 2022\n",
      "ORDER BY sells.date DESC, name\n"
     ]
    }
   ],
   "source": [
    "sql = '''\n",
    "SELECT name, YEAR(sells.date) AS sell_year, MONTH(sells.date) AS sell_month, \n",
    "       YEAR(buys.date) AS buy_year, MONTH(buys.date) AS buy_month,\n",
    "       sells.price AS sell_price, buys.price AS buy_price, (sells.price - buys.price) AS diff, \n",
    "       qty, (sells.price * qty) AS sell_amt, (buys.price * qty) AS buy_amt, \n",
    "       (sells.price - buys.price) * qty AS gross, \n",
    "       ROUND((sells.price - buys.price)/buys.price*100,2) AS pct, profit AS net, buys.kind\n",
    "FROM sells JOIN buys ON sells.buy_id = buys.id\n",
    "JOIN stocks ON buys.stock_id = stocks.id\n",
    "WHERE YEAR(sells.date) = %s\n",
    "ORDER BY sells.date DESC, name'''\n",
    "sql = sql % year\n",
    "sells_df = pd.read_sql(sql, conpf)\n",
    "print(sql)"
   ]
  },
  {
   "cell_type": "code",
   "execution_count": 3,
   "metadata": {},
   "outputs": [
    {
     "data": {
      "text/html": [
       "<style type=\"text/css\">\n",
       "</style>\n",
       "<table id=\"T_bfeb5_\">\n",
       "  <thead>\n",
       "    <tr>\n",
       "      <th class=\"blank level0\" >&nbsp;</th>\n",
       "      <th class=\"col_heading level0 col0\" >name</th>\n",
       "      <th class=\"col_heading level0 col1\" >sell_year</th>\n",
       "      <th class=\"col_heading level0 col2\" >sell_month</th>\n",
       "      <th class=\"col_heading level0 col3\" >buy_year</th>\n",
       "      <th class=\"col_heading level0 col4\" >buy_month</th>\n",
       "      <th class=\"col_heading level0 col5\" >sell_price</th>\n",
       "      <th class=\"col_heading level0 col6\" >buy_price</th>\n",
       "      <th class=\"col_heading level0 col7\" >diff</th>\n",
       "      <th class=\"col_heading level0 col8\" >qty</th>\n",
       "      <th class=\"col_heading level0 col9\" >sell_amt</th>\n",
       "      <th class=\"col_heading level0 col10\" >buy_amt</th>\n",
       "      <th class=\"col_heading level0 col11\" >gross</th>\n",
       "      <th class=\"col_heading level0 col12\" >pct</th>\n",
       "      <th class=\"col_heading level0 col13\" >net</th>\n",
       "      <th class=\"col_heading level0 col14\" >kind</th>\n",
       "    </tr>\n",
       "  </thead>\n",
       "  <tbody>\n",
       "    <tr>\n",
       "      <th id=\"T_bfeb5_level0_row0\" class=\"row_heading level0 row0\" >0</th>\n",
       "      <td id=\"T_bfeb5_row0_col0\" class=\"data row0 col0\" >KBANK</td>\n",
       "      <td id=\"T_bfeb5_row0_col1\" class=\"data row0 col1\" >2022</td>\n",
       "      <td id=\"T_bfeb5_row0_col2\" class=\"data row0 col2\" >1</td>\n",
       "      <td id=\"T_bfeb5_row0_col3\" class=\"data row0 col3\" >2021</td>\n",
       "      <td id=\"T_bfeb5_row0_col4\" class=\"data row0 col4\" >12</td>\n",
       "      <td id=\"T_bfeb5_row0_col5\" class=\"data row0 col5\" >140.00</td>\n",
       "      <td id=\"T_bfeb5_row0_col6\" class=\"data row0 col6\" >136.88</td>\n",
       "      <td id=\"T_bfeb5_row0_col7\" class=\"data row0 col7\" >3.12</td>\n",
       "      <td id=\"T_bfeb5_row0_col8\" class=\"data row0 col8\" >800</td>\n",
       "      <td id=\"T_bfeb5_row0_col9\" class=\"data row0 col9\" >112,000.00</td>\n",
       "      <td id=\"T_bfeb5_row0_col10\" class=\"data row0 col10\" >109,504.00</td>\n",
       "      <td id=\"T_bfeb5_row0_col11\" class=\"data row0 col11\" >2,496.00</td>\n",
       "      <td id=\"T_bfeb5_row0_col12\" class=\"data row0 col12\" >2.28</td>\n",
       "      <td id=\"T_bfeb5_row0_col13\" class=\"data row0 col13\" >2,005.39</td>\n",
       "      <td id=\"T_bfeb5_row0_col14\" class=\"data row0 col14\" >DTD</td>\n",
       "    </tr>\n",
       "    <tr>\n",
       "      <th id=\"T_bfeb5_level0_row1\" class=\"row_heading level0 row1\" >1</th>\n",
       "      <td id=\"T_bfeb5_row1_col0\" class=\"data row1 col0\" >RCL</td>\n",
       "      <td id=\"T_bfeb5_row1_col1\" class=\"data row1 col1\" >2022</td>\n",
       "      <td id=\"T_bfeb5_row1_col2\" class=\"data row1 col2\" >1</td>\n",
       "      <td id=\"T_bfeb5_row1_col3\" class=\"data row1 col3\" >2021</td>\n",
       "      <td id=\"T_bfeb5_row1_col4\" class=\"data row1 col4\" >11</td>\n",
       "      <td id=\"T_bfeb5_row1_col5\" class=\"data row1 col5\" >49.50</td>\n",
       "      <td id=\"T_bfeb5_row1_col6\" class=\"data row1 col6\" >44.50</td>\n",
       "      <td id=\"T_bfeb5_row1_col7\" class=\"data row1 col7\" >5.00</td>\n",
       "      <td id=\"T_bfeb5_row1_col8\" class=\"data row1 col8\" >1,500</td>\n",
       "      <td id=\"T_bfeb5_row1_col9\" class=\"data row1 col9\" >74,250.00</td>\n",
       "      <td id=\"T_bfeb5_row1_col10\" class=\"data row1 col10\" >66,750.00</td>\n",
       "      <td id=\"T_bfeb5_row1_col11\" class=\"data row1 col11\" >7,500.00</td>\n",
       "      <td id=\"T_bfeb5_row1_col12\" class=\"data row1 col12\" >11.24</td>\n",
       "      <td id=\"T_bfeb5_row1_col13\" class=\"data row1 col13\" >7,187.70</td>\n",
       "      <td id=\"T_bfeb5_row1_col14\" class=\"data row1 col14\" >HD</td>\n",
       "    </tr>\n",
       "    <tr>\n",
       "      <th id=\"T_bfeb5_level0_row2\" class=\"row_heading level0 row2\" >2</th>\n",
       "      <td id=\"T_bfeb5_row2_col0\" class=\"data row2 col0\" >SIS</td>\n",
       "      <td id=\"T_bfeb5_row2_col1\" class=\"data row2 col1\" >2022</td>\n",
       "      <td id=\"T_bfeb5_row2_col2\" class=\"data row2 col2\" >1</td>\n",
       "      <td id=\"T_bfeb5_row2_col3\" class=\"data row2 col3\" >2021</td>\n",
       "      <td id=\"T_bfeb5_row2_col4\" class=\"data row2 col4\" >11</td>\n",
       "      <td id=\"T_bfeb5_row2_col5\" class=\"data row2 col5\" >42.75</td>\n",
       "      <td id=\"T_bfeb5_row2_col6\" class=\"data row2 col6\" >40.50</td>\n",
       "      <td id=\"T_bfeb5_row2_col7\" class=\"data row2 col7\" >2.25</td>\n",
       "      <td id=\"T_bfeb5_row2_col8\" class=\"data row2 col8\" >1,500</td>\n",
       "      <td id=\"T_bfeb5_row2_col9\" class=\"data row2 col9\" >64,125.00</td>\n",
       "      <td id=\"T_bfeb5_row2_col10\" class=\"data row2 col10\" >60,750.00</td>\n",
       "      <td id=\"T_bfeb5_row2_col11\" class=\"data row2 col11\" >3,375.00</td>\n",
       "      <td id=\"T_bfeb5_row2_col12\" class=\"data row2 col12\" >5.56</td>\n",
       "      <td id=\"T_bfeb5_row2_col13\" class=\"data row2 col13\" >3,098.42</td>\n",
       "      <td id=\"T_bfeb5_row2_col14\" class=\"data row2 col14\" >DTD</td>\n",
       "    </tr>\n",
       "    <tr>\n",
       "      <th id=\"T_bfeb5_level0_row3\" class=\"row_heading level0 row3\" >3</th>\n",
       "      <td id=\"T_bfeb5_row3_col0\" class=\"data row3 col0\" >SAT</td>\n",
       "      <td id=\"T_bfeb5_row3_col1\" class=\"data row3 col1\" >2022</td>\n",
       "      <td id=\"T_bfeb5_row3_col2\" class=\"data row3 col2\" >1</td>\n",
       "      <td id=\"T_bfeb5_row3_col3\" class=\"data row3 col3\" >2021</td>\n",
       "      <td id=\"T_bfeb5_row3_col4\" class=\"data row3 col4\" >10</td>\n",
       "      <td id=\"T_bfeb5_row3_col5\" class=\"data row3 col5\" >23.20</td>\n",
       "      <td id=\"T_bfeb5_row3_col6\" class=\"data row3 col6\" >21.10</td>\n",
       "      <td id=\"T_bfeb5_row3_col7\" class=\"data row3 col7\" >2.10</td>\n",
       "      <td id=\"T_bfeb5_row3_col8\" class=\"data row3 col8\" >5,000</td>\n",
       "      <td id=\"T_bfeb5_row3_col9\" class=\"data row3 col9\" >116,000.00</td>\n",
       "      <td id=\"T_bfeb5_row3_col10\" class=\"data row3 col10\" >105,500.00</td>\n",
       "      <td id=\"T_bfeb5_row3_col11\" class=\"data row3 col11\" >10,500.00</td>\n",
       "      <td id=\"T_bfeb5_row3_col12\" class=\"data row3 col12\" >9.95</td>\n",
       "      <td id=\"T_bfeb5_row3_col13\" class=\"data row3 col13\" >10,009.39</td>\n",
       "      <td id=\"T_bfeb5_row3_col14\" class=\"data row3 col14\" >DTD</td>\n",
       "    </tr>\n",
       "    <tr>\n",
       "      <th id=\"T_bfeb5_level0_row4\" class=\"row_heading level0 row4\" >4</th>\n",
       "      <td id=\"T_bfeb5_row4_col0\" class=\"data row4 col0\" >KBANK</td>\n",
       "      <td id=\"T_bfeb5_row4_col1\" class=\"data row4 col1\" >2022</td>\n",
       "      <td id=\"T_bfeb5_row4_col2\" class=\"data row4 col2\" >1</td>\n",
       "      <td id=\"T_bfeb5_row4_col3\" class=\"data row4 col3\" >2021</td>\n",
       "      <td id=\"T_bfeb5_row4_col4\" class=\"data row4 col4\" >11</td>\n",
       "      <td id=\"T_bfeb5_row4_col5\" class=\"data row4 col5\" >144.50</td>\n",
       "      <td id=\"T_bfeb5_row4_col6\" class=\"data row4 col6\" >136.88</td>\n",
       "      <td id=\"T_bfeb5_row4_col7\" class=\"data row4 col7\" >7.62</td>\n",
       "      <td id=\"T_bfeb5_row4_col8\" class=\"data row4 col8\" >800</td>\n",
       "      <td id=\"T_bfeb5_row4_col9\" class=\"data row4 col9\" >115,600.00</td>\n",
       "      <td id=\"T_bfeb5_row4_col10\" class=\"data row4 col10\" >109,504.00</td>\n",
       "      <td id=\"T_bfeb5_row4_col11\" class=\"data row4 col11\" >6,096.00</td>\n",
       "      <td id=\"T_bfeb5_row4_col12\" class=\"data row4 col12\" >5.57</td>\n",
       "      <td id=\"T_bfeb5_row4_col13\" class=\"data row4 col13\" >5,597.42</td>\n",
       "      <td id=\"T_bfeb5_row4_col14\" class=\"data row4 col14\" >DTD</td>\n",
       "    </tr>\n",
       "    <tr>\n",
       "      <th id=\"T_bfeb5_level0_row5\" class=\"row_heading level0 row5\" >5</th>\n",
       "      <td id=\"T_bfeb5_row5_col0\" class=\"data row5 col0\" >KBANK</td>\n",
       "      <td id=\"T_bfeb5_row5_col1\" class=\"data row5 col1\" >2022</td>\n",
       "      <td id=\"T_bfeb5_row5_col2\" class=\"data row5 col2\" >1</td>\n",
       "      <td id=\"T_bfeb5_row5_col3\" class=\"data row5 col3\" >2021</td>\n",
       "      <td id=\"T_bfeb5_row5_col4\" class=\"data row5 col4\" >11</td>\n",
       "      <td id=\"T_bfeb5_row5_col5\" class=\"data row5 col5\" >144.50</td>\n",
       "      <td id=\"T_bfeb5_row5_col6\" class=\"data row5 col6\" >136.88</td>\n",
       "      <td id=\"T_bfeb5_row5_col7\" class=\"data row5 col7\" >7.62</td>\n",
       "      <td id=\"T_bfeb5_row5_col8\" class=\"data row5 col8\" >800</td>\n",
       "      <td id=\"T_bfeb5_row5_col9\" class=\"data row5 col9\" >115,600.00</td>\n",
       "      <td id=\"T_bfeb5_row5_col10\" class=\"data row5 col10\" >109,504.00</td>\n",
       "      <td id=\"T_bfeb5_row5_col11\" class=\"data row5 col11\" >6,096.00</td>\n",
       "      <td id=\"T_bfeb5_row5_col12\" class=\"data row5 col12\" >5.57</td>\n",
       "      <td id=\"T_bfeb5_row5_col13\" class=\"data row5 col13\" >5,597.42</td>\n",
       "      <td id=\"T_bfeb5_row5_col14\" class=\"data row5 col14\" >DTD</td>\n",
       "    </tr>\n",
       "    <tr>\n",
       "      <th id=\"T_bfeb5_level0_row6\" class=\"row_heading level0 row6\" >6</th>\n",
       "      <td id=\"T_bfeb5_row6_col0\" class=\"data row6 col0\" >SAT</td>\n",
       "      <td id=\"T_bfeb5_row6_col1\" class=\"data row6 col1\" >2022</td>\n",
       "      <td id=\"T_bfeb5_row6_col2\" class=\"data row6 col2\" >1</td>\n",
       "      <td id=\"T_bfeb5_row6_col3\" class=\"data row6 col3\" >2021</td>\n",
       "      <td id=\"T_bfeb5_row6_col4\" class=\"data row6 col4\" >7</td>\n",
       "      <td id=\"T_bfeb5_row6_col5\" class=\"data row6 col5\" >24.40</td>\n",
       "      <td id=\"T_bfeb5_row6_col6\" class=\"data row6 col6\" >21.10</td>\n",
       "      <td id=\"T_bfeb5_row6_col7\" class=\"data row6 col7\" >3.30</td>\n",
       "      <td id=\"T_bfeb5_row6_col8\" class=\"data row6 col8\" >2,500</td>\n",
       "      <td id=\"T_bfeb5_row6_col9\" class=\"data row6 col9\" >61,000.00</td>\n",
       "      <td id=\"T_bfeb5_row6_col10\" class=\"data row6 col10\" >52,750.00</td>\n",
       "      <td id=\"T_bfeb5_row6_col11\" class=\"data row6 col11\" >8,250.00</td>\n",
       "      <td id=\"T_bfeb5_row6_col12\" class=\"data row6 col12\" >15.64</td>\n",
       "      <td id=\"T_bfeb5_row6_col13\" class=\"data row6 col13\" >7,998.06</td>\n",
       "      <td id=\"T_bfeb5_row6_col14\" class=\"data row6 col14\" >DTD</td>\n",
       "    </tr>\n",
       "    <tr>\n",
       "      <th id=\"T_bfeb5_level0_row7\" class=\"row_heading level0 row7\" >7</th>\n",
       "      <td id=\"T_bfeb5_row7_col0\" class=\"data row7 col0\" >SYNEX</td>\n",
       "      <td id=\"T_bfeb5_row7_col1\" class=\"data row7 col1\" >2022</td>\n",
       "      <td id=\"T_bfeb5_row7_col2\" class=\"data row7 col2\" >1</td>\n",
       "      <td id=\"T_bfeb5_row7_col3\" class=\"data row7 col3\" >2022</td>\n",
       "      <td id=\"T_bfeb5_row7_col4\" class=\"data row7 col4\" >1</td>\n",
       "      <td id=\"T_bfeb5_row7_col5\" class=\"data row7 col5\" >33.00</td>\n",
       "      <td id=\"T_bfeb5_row7_col6\" class=\"data row7 col6\" >31.50</td>\n",
       "      <td id=\"T_bfeb5_row7_col7\" class=\"data row7 col7\" >1.50</td>\n",
       "      <td id=\"T_bfeb5_row7_col8\" class=\"data row7 col8\" >1,500</td>\n",
       "      <td id=\"T_bfeb5_row7_col9\" class=\"data row7 col9\" >49,500.00</td>\n",
       "      <td id=\"T_bfeb5_row7_col10\" class=\"data row7 col10\" >47,250.00</td>\n",
       "      <td id=\"T_bfeb5_row7_col11\" class=\"data row7 col11\" >2,250.00</td>\n",
       "      <td id=\"T_bfeb5_row7_col12\" class=\"data row7 col12\" >4.76</td>\n",
       "      <td id=\"T_bfeb5_row7_col13\" class=\"data row7 col13\" >2,035.70</td>\n",
       "      <td id=\"T_bfeb5_row7_col14\" class=\"data row7 col14\" >DTD</td>\n",
       "    </tr>\n",
       "    <tr>\n",
       "      <th id=\"T_bfeb5_level0_row8\" class=\"row_heading level0 row8\" >8</th>\n",
       "      <td id=\"T_bfeb5_row8_col0\" class=\"data row8 col0\" >IMH</td>\n",
       "      <td id=\"T_bfeb5_row8_col1\" class=\"data row8 col1\" >2022</td>\n",
       "      <td id=\"T_bfeb5_row8_col2\" class=\"data row8 col2\" >1</td>\n",
       "      <td id=\"T_bfeb5_row8_col3\" class=\"data row8 col3\" >2021</td>\n",
       "      <td id=\"T_bfeb5_row8_col4\" class=\"data row8 col4\" >12</td>\n",
       "      <td id=\"T_bfeb5_row8_col5\" class=\"data row8 col5\" >20.10</td>\n",
       "      <td id=\"T_bfeb5_row8_col6\" class=\"data row8 col6\" >11.00</td>\n",
       "      <td id=\"T_bfeb5_row8_col7\" class=\"data row8 col7\" >9.10</td>\n",
       "      <td id=\"T_bfeb5_row8_col8\" class=\"data row8 col8\" >1,000</td>\n",
       "      <td id=\"T_bfeb5_row8_col9\" class=\"data row8 col9\" >20,100.00</td>\n",
       "      <td id=\"T_bfeb5_row8_col10\" class=\"data row8 col10\" >11,000.00</td>\n",
       "      <td id=\"T_bfeb5_row8_col11\" class=\"data row8 col11\" >9,100.00</td>\n",
       "      <td id=\"T_bfeb5_row8_col12\" class=\"data row8 col12\" >82.73</td>\n",
       "      <td id=\"T_bfeb5_row8_col13\" class=\"data row8 col13\" >9,031.12</td>\n",
       "      <td id=\"T_bfeb5_row8_col14\" class=\"data row8 col14\" >DTD</td>\n",
       "    </tr>\n",
       "    <tr>\n",
       "      <th id=\"T_bfeb5_level0_row9\" class=\"row_heading level0 row9\" >9</th>\n",
       "      <td id=\"T_bfeb5_row9_col0\" class=\"data row9 col0\" >IVL</td>\n",
       "      <td id=\"T_bfeb5_row9_col1\" class=\"data row9 col1\" >2022</td>\n",
       "      <td id=\"T_bfeb5_row9_col2\" class=\"data row9 col2\" >1</td>\n",
       "      <td id=\"T_bfeb5_row9_col3\" class=\"data row9 col3\" >2021</td>\n",
       "      <td id=\"T_bfeb5_row9_col4\" class=\"data row9 col4\" >6</td>\n",
       "      <td id=\"T_bfeb5_row9_col5\" class=\"data row9 col5\" >46.25</td>\n",
       "      <td id=\"T_bfeb5_row9_col6\" class=\"data row9 col6\" >42.00</td>\n",
       "      <td id=\"T_bfeb5_row9_col7\" class=\"data row9 col7\" >4.25</td>\n",
       "      <td id=\"T_bfeb5_row9_col8\" class=\"data row9 col8\" >3,000</td>\n",
       "      <td id=\"T_bfeb5_row9_col9\" class=\"data row9 col9\" >138,750.00</td>\n",
       "      <td id=\"T_bfeb5_row9_col10\" class=\"data row9 col10\" >126,000.00</td>\n",
       "      <td id=\"T_bfeb5_row9_col11\" class=\"data row9 col11\" >12,750.00</td>\n",
       "      <td id=\"T_bfeb5_row9_col12\" class=\"data row9 col12\" >10.12</td>\n",
       "      <td id=\"T_bfeb5_row9_col13\" class=\"data row9 col13\" >12,163.61</td>\n",
       "      <td id=\"T_bfeb5_row9_col14\" class=\"data row9 col14\" >DTD</td>\n",
       "    </tr>\n",
       "    <tr>\n",
       "      <th id=\"T_bfeb5_level0_row10\" class=\"row_heading level0 row10\" >10</th>\n",
       "      <td id=\"T_bfeb5_row10_col0\" class=\"data row10 col0\" >IMH</td>\n",
       "      <td id=\"T_bfeb5_row10_col1\" class=\"data row10 col1\" >2022</td>\n",
       "      <td id=\"T_bfeb5_row10_col2\" class=\"data row10 col2\" >1</td>\n",
       "      <td id=\"T_bfeb5_row10_col3\" class=\"data row10 col3\" >2021</td>\n",
       "      <td id=\"T_bfeb5_row10_col4\" class=\"data row10 col4\" >12</td>\n",
       "      <td id=\"T_bfeb5_row10_col5\" class=\"data row10 col5\" >16.80</td>\n",
       "      <td id=\"T_bfeb5_row10_col6\" class=\"data row10 col6\" >11.00</td>\n",
       "      <td id=\"T_bfeb5_row10_col7\" class=\"data row10 col7\" >5.80</td>\n",
       "      <td id=\"T_bfeb5_row10_col8\" class=\"data row10 col8\" >1,500</td>\n",
       "      <td id=\"T_bfeb5_row10_col9\" class=\"data row10 col9\" >25,200.00</td>\n",
       "      <td id=\"T_bfeb5_row10_col10\" class=\"data row10 col10\" >16,500.00</td>\n",
       "      <td id=\"T_bfeb5_row10_col11\" class=\"data row10 col11\" >8,700.00</td>\n",
       "      <td id=\"T_bfeb5_row10_col12\" class=\"data row10 col12\" >52.73</td>\n",
       "      <td id=\"T_bfeb5_row10_col13\" class=\"data row10 col13\" >8,607.64</td>\n",
       "      <td id=\"T_bfeb5_row10_col14\" class=\"data row10 col14\" >DTD</td>\n",
       "    </tr>\n",
       "    <tr>\n",
       "      <th id=\"T_bfeb5_level0_row11\" class=\"row_heading level0 row11\" >11</th>\n",
       "      <td id=\"T_bfeb5_row11_col0\" class=\"data row11 col0\" >IMH</td>\n",
       "      <td id=\"T_bfeb5_row11_col1\" class=\"data row11 col1\" >2022</td>\n",
       "      <td id=\"T_bfeb5_row11_col2\" class=\"data row11 col2\" >1</td>\n",
       "      <td id=\"T_bfeb5_row11_col3\" class=\"data row11 col3\" >2021</td>\n",
       "      <td id=\"T_bfeb5_row11_col4\" class=\"data row11 col4\" >12</td>\n",
       "      <td id=\"T_bfeb5_row11_col5\" class=\"data row11 col5\" >16.80</td>\n",
       "      <td id=\"T_bfeb5_row11_col6\" class=\"data row11 col6\" >11.00</td>\n",
       "      <td id=\"T_bfeb5_row11_col7\" class=\"data row11 col7\" >5.80</td>\n",
       "      <td id=\"T_bfeb5_row11_col8\" class=\"data row11 col8\" >1,500</td>\n",
       "      <td id=\"T_bfeb5_row11_col9\" class=\"data row11 col9\" >25,200.00</td>\n",
       "      <td id=\"T_bfeb5_row11_col10\" class=\"data row11 col10\" >16,500.00</td>\n",
       "      <td id=\"T_bfeb5_row11_col11\" class=\"data row11 col11\" >8,700.00</td>\n",
       "      <td id=\"T_bfeb5_row11_col12\" class=\"data row11 col12\" >52.73</td>\n",
       "      <td id=\"T_bfeb5_row11_col13\" class=\"data row11 col13\" >8,607.64</td>\n",
       "      <td id=\"T_bfeb5_row11_col14\" class=\"data row11 col14\" >DTD</td>\n",
       "    </tr>\n",
       "    <tr>\n",
       "      <th id=\"T_bfeb5_level0_row12\" class=\"row_heading level0 row12\" >12</th>\n",
       "      <td id=\"T_bfeb5_row12_col0\" class=\"data row12 col0\" >DCC</td>\n",
       "      <td id=\"T_bfeb5_row12_col1\" class=\"data row12 col1\" >2022</td>\n",
       "      <td id=\"T_bfeb5_row12_col2\" class=\"data row12 col2\" >1</td>\n",
       "      <td id=\"T_bfeb5_row12_col3\" class=\"data row12 col3\" >2021</td>\n",
       "      <td id=\"T_bfeb5_row12_col4\" class=\"data row12 col4\" >9</td>\n",
       "      <td id=\"T_bfeb5_row12_col5\" class=\"data row12 col5\" >3.00</td>\n",
       "      <td id=\"T_bfeb5_row12_col6\" class=\"data row12 col6\" >2.90</td>\n",
       "      <td id=\"T_bfeb5_row12_col7\" class=\"data row12 col7\" >0.10</td>\n",
       "      <td id=\"T_bfeb5_row12_col8\" class=\"data row12 col8\" >40,000</td>\n",
       "      <td id=\"T_bfeb5_row12_col9\" class=\"data row12 col9\" >120,000.00</td>\n",
       "      <td id=\"T_bfeb5_row12_col10\" class=\"data row12 col10\" >116,000.00</td>\n",
       "      <td id=\"T_bfeb5_row12_col11\" class=\"data row12 col11\" >4,000.00</td>\n",
       "      <td id=\"T_bfeb5_row12_col12\" class=\"data row12 col12\" >3.45</td>\n",
       "      <td id=\"T_bfeb5_row12_col13\" class=\"data row12 col13\" >3,477.28</td>\n",
       "      <td id=\"T_bfeb5_row12_col14\" class=\"data row12 col14\" >DTD</td>\n",
       "    </tr>\n",
       "    <tr>\n",
       "      <th id=\"T_bfeb5_level0_row13\" class=\"row_heading level0 row13\" >13</th>\n",
       "      <td id=\"T_bfeb5_row13_col0\" class=\"data row13 col0\" >EPG</td>\n",
       "      <td id=\"T_bfeb5_row13_col1\" class=\"data row13 col1\" >2022</td>\n",
       "      <td id=\"T_bfeb5_row13_col2\" class=\"data row13 col2\" >1</td>\n",
       "      <td id=\"T_bfeb5_row13_col3\" class=\"data row13 col3\" >2021</td>\n",
       "      <td id=\"T_bfeb5_row13_col4\" class=\"data row13 col4\" >9</td>\n",
       "      <td id=\"T_bfeb5_row13_col5\" class=\"data row13 col5\" >12.30</td>\n",
       "      <td id=\"T_bfeb5_row13_col6\" class=\"data row13 col6\" >11.20</td>\n",
       "      <td id=\"T_bfeb5_row13_col7\" class=\"data row13 col7\" >1.10</td>\n",
       "      <td id=\"T_bfeb5_row13_col8\" class=\"data row13 col8\" >2,000</td>\n",
       "      <td id=\"T_bfeb5_row13_col9\" class=\"data row13 col9\" >24,600.00</td>\n",
       "      <td id=\"T_bfeb5_row13_col10\" class=\"data row13 col10\" >22,400.00</td>\n",
       "      <td id=\"T_bfeb5_row13_col11\" class=\"data row13 col11\" >2,200.00</td>\n",
       "      <td id=\"T_bfeb5_row13_col12\" class=\"data row13 col12\" >9.82</td>\n",
       "      <td id=\"T_bfeb5_row13_col13\" class=\"data row13 col13\" >2,095.90</td>\n",
       "      <td id=\"T_bfeb5_row13_col14\" class=\"data row13 col14\" >DTD</td>\n",
       "    </tr>\n",
       "    <tr>\n",
       "      <th id=\"T_bfeb5_level0_row14\" class=\"row_heading level0 row14\" >14</th>\n",
       "      <td id=\"T_bfeb5_row14_col0\" class=\"data row14 col0\" >IVL</td>\n",
       "      <td id=\"T_bfeb5_row14_col1\" class=\"data row14 col1\" >2022</td>\n",
       "      <td id=\"T_bfeb5_row14_col2\" class=\"data row14 col2\" >1</td>\n",
       "      <td id=\"T_bfeb5_row14_col3\" class=\"data row14 col3\" >2021</td>\n",
       "      <td id=\"T_bfeb5_row14_col4\" class=\"data row14 col4\" >3</td>\n",
       "      <td id=\"T_bfeb5_row14_col5\" class=\"data row14 col5\" >44.50</td>\n",
       "      <td id=\"T_bfeb5_row14_col6\" class=\"data row14 col6\" >42.00</td>\n",
       "      <td id=\"T_bfeb5_row14_col7\" class=\"data row14 col7\" >2.50</td>\n",
       "      <td id=\"T_bfeb5_row14_col8\" class=\"data row14 col8\" >3,000</td>\n",
       "      <td id=\"T_bfeb5_row14_col9\" class=\"data row14 col9\" >133,500.00</td>\n",
       "      <td id=\"T_bfeb5_row14_col10\" class=\"data row14 col10\" >126,000.00</td>\n",
       "      <td id=\"T_bfeb5_row14_col11\" class=\"data row14 col11\" >7,500.00</td>\n",
       "      <td id=\"T_bfeb5_row14_col12\" class=\"data row14 col12\" >5.95</td>\n",
       "      <td id=\"T_bfeb5_row14_col13\" class=\"data row14 col13\" >6,925.23</td>\n",
       "      <td id=\"T_bfeb5_row14_col14\" class=\"data row14 col14\" >DTD</td>\n",
       "    </tr>\n",
       "  </tbody>\n",
       "</table>\n"
      ],
      "text/plain": [
       "<pandas.io.formats.style.Styler at 0x1153722e9a0>"
      ]
     },
     "execution_count": 3,
     "metadata": {},
     "output_type": "execute_result"
    }
   ],
   "source": [
    "sells_df.style.format(format_dict)"
   ]
  },
  {
   "cell_type": "code",
   "execution_count": 4,
   "metadata": {},
   "outputs": [
    {
     "data": {
      "text/plain": [
       "sell_year  sell_month  buy_year  buy_month  name \n",
       "2022       1           2021      3          IVL      6,925.23\n",
       "                                 6          IVL     12,163.61\n",
       "                                 7          SAT      7,998.06\n",
       "                                 9          DCC      3,477.28\n",
       "                                            EPG      2,095.90\n",
       "                                 10         SAT     10,009.39\n",
       "                                 11         KBANK   11,194.84\n",
       "                                            RCL      7,187.70\n",
       "                                            SIS      3,098.42\n",
       "                                 12         IMH     26,246.40\n",
       "                                            KBANK    2,005.39\n",
       "                       2022      1          SYNEX    2,035.70\n",
       "Name: net, dtype: float64"
      ]
     },
     "execution_count": 4,
     "metadata": {},
     "output_type": "execute_result"
    }
   ],
   "source": [
    "sells_df.groupby(['sell_year','sell_month','buy_year','buy_month','name']).net.sum()"
   ]
  },
  {
   "cell_type": "code",
   "execution_count": 5,
   "metadata": {},
   "outputs": [
    {
     "data": {
      "text/html": [
       "<div>\n",
       "<style scoped>\n",
       "    .dataframe tbody tr th:only-of-type {\n",
       "        vertical-align: middle;\n",
       "    }\n",
       "\n",
       "    .dataframe tbody tr th {\n",
       "        vertical-align: top;\n",
       "    }\n",
       "\n",
       "    .dataframe thead th {\n",
       "        text-align: right;\n",
       "    }\n",
       "</style>\n",
       "<table border=\"1\" class=\"dataframe\">\n",
       "  <thead>\n",
       "    <tr style=\"text-align: right;\">\n",
       "      <th></th>\n",
       "      <th>gross</th>\n",
       "      <th>net</th>\n",
       "    </tr>\n",
       "    <tr>\n",
       "      <th>name</th>\n",
       "      <th></th>\n",
       "      <th></th>\n",
       "    </tr>\n",
       "  </thead>\n",
       "  <tbody>\n",
       "    <tr>\n",
       "      <th>IMH</th>\n",
       "      <td>26,500.00</td>\n",
       "      <td>26,246.40</td>\n",
       "    </tr>\n",
       "    <tr>\n",
       "      <th>IVL</th>\n",
       "      <td>20,250.00</td>\n",
       "      <td>19,088.84</td>\n",
       "    </tr>\n",
       "    <tr>\n",
       "      <th>KBANK</th>\n",
       "      <td>14,688.00</td>\n",
       "      <td>13,200.23</td>\n",
       "    </tr>\n",
       "    <tr>\n",
       "      <th>DCC</th>\n",
       "      <td>4,000.00</td>\n",
       "      <td>3,477.28</td>\n",
       "    </tr>\n",
       "    <tr>\n",
       "      <th>EPG</th>\n",
       "      <td>2,200.00</td>\n",
       "      <td>2,095.90</td>\n",
       "    </tr>\n",
       "  </tbody>\n",
       "</table>\n",
       "</div>"
      ],
      "text/plain": [
       "          gross       net\n",
       "name                     \n",
       "IMH   26,500.00 26,246.40\n",
       "IVL   20,250.00 19,088.84\n",
       "KBANK 14,688.00 13,200.23\n",
       "DCC    4,000.00  3,477.28\n",
       "EPG    2,200.00  2,095.90"
      ]
     },
     "execution_count": 5,
     "metadata": {},
     "output_type": "execute_result"
    }
   ],
   "source": [
    "sells_df.groupby(['name'])[['gross','net']].sum().head().sort_values(by=['gross'],ascending=[False])"
   ]
  },
  {
   "cell_type": "code",
   "execution_count": 6,
   "metadata": {},
   "outputs": [
    {
     "data": {
      "text/html": [
       "<style type=\"text/css\">\n",
       "</style>\n",
       "<table id=\"T_eb28e_\">\n",
       "  <thead>\n",
       "    <tr>\n",
       "      <th class=\"blank level0\" >&nbsp;</th>\n",
       "      <th class=\"col_heading level0 col0\" >gross</th>\n",
       "      <th class=\"col_heading level0 col1\" >net</th>\n",
       "    </tr>\n",
       "    <tr>\n",
       "      <th class=\"index_name level0\" >name</th>\n",
       "      <th class=\"blank col0\" >&nbsp;</th>\n",
       "      <th class=\"blank col1\" >&nbsp;</th>\n",
       "    </tr>\n",
       "  </thead>\n",
       "  <tbody>\n",
       "    <tr>\n",
       "      <th id=\"T_eb28e_level0_row0\" class=\"row_heading level0 row0\" >IMH</th>\n",
       "      <td id=\"T_eb28e_row0_col0\" class=\"data row0 col0\" >26,500.00</td>\n",
       "      <td id=\"T_eb28e_row0_col1\" class=\"data row0 col1\" >26,246.40</td>\n",
       "    </tr>\n",
       "    <tr>\n",
       "      <th id=\"T_eb28e_level0_row1\" class=\"row_heading level0 row1\" >IVL</th>\n",
       "      <td id=\"T_eb28e_row1_col0\" class=\"data row1 col0\" >20,250.00</td>\n",
       "      <td id=\"T_eb28e_row1_col1\" class=\"data row1 col1\" >19,088.84</td>\n",
       "    </tr>\n",
       "    <tr>\n",
       "      <th id=\"T_eb28e_level0_row2\" class=\"row_heading level0 row2\" >SAT</th>\n",
       "      <td id=\"T_eb28e_row2_col0\" class=\"data row2 col0\" >18,750.00</td>\n",
       "      <td id=\"T_eb28e_row2_col1\" class=\"data row2 col1\" >18,007.45</td>\n",
       "    </tr>\n",
       "    <tr>\n",
       "      <th id=\"T_eb28e_level0_row3\" class=\"row_heading level0 row3\" >KBANK</th>\n",
       "      <td id=\"T_eb28e_row3_col0\" class=\"data row3 col0\" >14,688.00</td>\n",
       "      <td id=\"T_eb28e_row3_col1\" class=\"data row3 col1\" >13,200.23</td>\n",
       "    </tr>\n",
       "    <tr>\n",
       "      <th id=\"T_eb28e_level0_row4\" class=\"row_heading level0 row4\" >RCL</th>\n",
       "      <td id=\"T_eb28e_row4_col0\" class=\"data row4 col0\" >7,500.00</td>\n",
       "      <td id=\"T_eb28e_row4_col1\" class=\"data row4 col1\" >7,187.70</td>\n",
       "    </tr>\n",
       "  </tbody>\n",
       "</table>\n"
      ],
      "text/plain": [
       "<pandas.io.formats.style.Styler at 0x1153829d820>"
      ]
     },
     "execution_count": 6,
     "metadata": {},
     "output_type": "execute_result"
    }
   ],
   "source": [
    "total_df = sells_df.groupby(['name'])[['gross','net']].sum()\n",
    "total_df.nlargest(5, 'gross')[['gross','net']].style.format(format_dict)"
   ]
  },
  {
   "cell_type": "code",
   "execution_count": 7,
   "metadata": {},
   "outputs": [],
   "source": [
    "file_name = 'ytd-profit.csv'\n",
    "data_file = data_path + file_name\n",
    "csv_file = csv_path + file_name\n",
    "box_file = box_path + file_name\n",
    "\n",
    "sells_df.groupby(['sell_year','sell_month','buy_year','buy_month','name']).net.sum().to_csv(csv_file)\n",
    "sells_df.groupby(['sell_year','sell_month','buy_year','buy_month','name']).net.sum().to_csv(data_file)\n",
    "sells_df.groupby(['sell_year','sell_month','buy_year','buy_month','name']).net.sum().to_csv(box_file)"
   ]
  },
  {
   "cell_type": "code",
   "execution_count": 8,
   "metadata": {
    "scrolled": true
   },
   "outputs": [
    {
     "data": {
      "text/plain": [
       "sell_month\n",
       "1   94,437.92\n",
       "Name: net, dtype: float64"
      ]
     },
     "execution_count": 8,
     "metadata": {},
     "output_type": "execute_result"
    }
   ],
   "source": [
    "sells_df.groupby(['sell_month']).net.sum()"
   ]
  },
  {
   "cell_type": "code",
   "execution_count": 9,
   "metadata": {},
   "outputs": [
    {
     "data": {
      "text/plain": [
       "(94437.91999999998, 0.0, 94437.91999999998)"
      ]
     },
     "execution_count": 9,
     "metadata": {},
     "output_type": "execute_result"
    }
   ],
   "source": [
    "profit = sells_df.net.sum()\n",
    "ttl_profit = profit + dividend\n",
    "profit,dividend,ttl_profit"
   ]
  },
  {
   "cell_type": "code",
   "execution_count": 10,
   "metadata": {},
   "outputs": [
    {
     "data": {
      "text/plain": [
       "(94437.91999999998, 0.0, 38000.0, 56437.919999999984)"
      ]
     },
     "execution_count": 10,
     "metadata": {},
     "output_type": "execute_result"
    }
   ],
   "source": [
    "profit = sells_df.net.sum()\n",
    "net = profit + dividend - expense\n",
    "profit,dividend,expense, net"
   ]
  },
  {
   "cell_type": "markdown",
   "metadata": {},
   "source": [
    "### Bottom line of up to date transactions"
   ]
  },
  {
   "cell_type": "code",
   "execution_count": 11,
   "metadata": {},
   "outputs": [
    {
     "data": {
      "text/plain": [
       "168437.91999999998"
      ]
     },
     "execution_count": 11,
     "metadata": {},
     "output_type": "execute_result"
    }
   ],
   "source": [
    "total = refund + net\n",
    "total"
   ]
  },
  {
   "cell_type": "code",
   "execution_count": null,
   "metadata": {},
   "outputs": [],
   "source": []
  }
 ],
 "metadata": {
  "anaconda-cloud": {},
  "kernelspec": {
   "display_name": "Python 3 (ipykernel)",
   "language": "python",
   "name": "python3"
  },
  "language_info": {
   "codemirror_mode": {
    "name": "ipython",
    "version": 3
   },
   "file_extension": ".py",
   "mimetype": "text/x-python",
   "name": "python",
   "nbconvert_exporter": "python",
   "pygments_lexer": "ipython3",
   "version": "3.8.11"
  }
 },
 "nbformat": 4,
 "nbformat_minor": 1
}
