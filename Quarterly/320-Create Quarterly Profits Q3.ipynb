{
 "cells": [
  {
   "cell_type": "markdown",
   "metadata": {},
   "source": [
    "### Restart and Run All Cells"
   ]
  },
  {
   "cell_type": "code",
   "execution_count": 1,
   "metadata": {},
   "outputs": [],
   "source": [
    "import pandas as pd\n",
    "from sqlalchemy import create_engine\n",
    "engine = create_engine(\"sqlite:///c:\\\\ruby\\\\portlt\\\\db\\\\development.sqlite3\")\n",
    "conlt = engine.connect()\n",
    "year = 2022\n",
    "quarter = 3"
   ]
  },
  {
   "cell_type": "code",
   "execution_count": 2,
   "metadata": {},
   "outputs": [],
   "source": [
    "cols = 'name year quarter q_amt_c q_amt_p inc_profit percent'.split()"
   ]
  },
  {
   "cell_type": "code",
   "execution_count": 3,
   "metadata": {},
   "outputs": [],
   "source": [
    "format_dict = {\n",
    "                'q_amt':'{:,}','q_amt_c':'{:,}','q_amt_p':'{:,}','inc_profit':'{:,}',\n",
    "                'yoy_gain':'{:,}','acc_gain':'{:,}',   \n",
    "                'latest_amt':'{:,}','previous_amt':'{:,}','inc_amt':'{:,}',\n",
    "                'q_eps':'{:.4f}','y_eps':'{:.4f}','aq_eps':'{:.4f}','ay_eps':'{:.4f}',\n",
    "                'percent':'{:.2f}%','inc_pct':'{:.2f}%'\n",
    "              }"
   ]
  },
  {
   "cell_type": "code",
   "execution_count": 4,
   "metadata": {},
   "outputs": [
    {
     "name": "stdout",
     "output_type": "stream",
     "text": [
      "\n",
      "SELECT name,year,quarter,q_amt \n",
      "FROM epss \n",
      "WHERE (year = 2022 AND quarter <= 3) \n",
      "OR (year = 2022-1 AND quarter >= 3+1)\n",
      "ORDER BY year DESC, quarter DESC\n",
      "\n"
     ]
    }
   ],
   "source": [
    "sql = \"\"\"\n",
    "SELECT name,year,quarter,q_amt \n",
    "FROM epss \n",
    "WHERE (year = %s AND quarter <= %s) \n",
    "OR (year = %s-1 AND quarter >= %s+1)\n",
    "ORDER BY year DESC, quarter DESC\n",
    "\"\"\"\n",
    "sql = sql % (year, quarter, year, quarter)\n",
    "print(sql)"
   ]
  },
  {
   "cell_type": "code",
   "execution_count": 5,
   "metadata": {},
   "outputs": [
    {
     "data": {
      "text/html": [
       "<div>\n",
       "<style scoped>\n",
       "    .dataframe tbody tr th:only-of-type {\n",
       "        vertical-align: middle;\n",
       "    }\n",
       "\n",
       "    .dataframe tbody tr th {\n",
       "        vertical-align: top;\n",
       "    }\n",
       "\n",
       "    .dataframe thead th {\n",
       "        text-align: right;\n",
       "    }\n",
       "</style>\n",
       "<table border=\"1\" class=\"dataframe\">\n",
       "  <thead>\n",
       "    <tr style=\"text-align: right;\">\n",
       "      <th></th>\n",
       "      <th>name</th>\n",
       "      <th>year</th>\n",
       "      <th>quarter</th>\n",
       "      <th>q_amt</th>\n",
       "      <th>Counter</th>\n",
       "    </tr>\n",
       "  </thead>\n",
       "  <tbody>\n",
       "    <tr>\n",
       "      <th>10</th>\n",
       "      <td>AOT</td>\n",
       "      <td>8087</td>\n",
       "      <td>10</td>\n",
       "      <td>-14912794</td>\n",
       "      <td>4</td>\n",
       "    </tr>\n",
       "    <tr>\n",
       "      <th>71</th>\n",
       "      <td>FPT</td>\n",
       "      <td>8087</td>\n",
       "      <td>10</td>\n",
       "      <td>1901129</td>\n",
       "      <td>4</td>\n",
       "    </tr>\n",
       "    <tr>\n",
       "      <th>192</th>\n",
       "      <td>TFFIF</td>\n",
       "      <td>8087</td>\n",
       "      <td>10</td>\n",
       "      <td>1390654</td>\n",
       "      <td>4</td>\n",
       "    </tr>\n",
       "  </tbody>\n",
       "</table>\n",
       "</div>"
      ],
      "text/plain": [
       "      name  year  quarter     q_amt  Counter\n",
       "10     AOT  8087       10 -14912794        4\n",
       "71     FPT  8087       10   1901129        4\n",
       "192  TFFIF  8087       10   1390654        4"
      ]
     },
     "execution_count": 5,
     "metadata": {},
     "output_type": "execute_result"
    }
   ],
   "source": [
    "dfc = pd.read_sql(sql, conlt)\n",
    "dfc[\"Counter\"] = 1\n",
    "dfc_grp = dfc.groupby([\"name\"], as_index=False).sum()\n",
    "dfc_grp = dfc_grp[dfc_grp[\"Counter\"] == 4]\n",
    "dfc_grp.head()"
   ]
  },
  {
   "cell_type": "code",
   "execution_count": 6,
   "metadata": {},
   "outputs": [
    {
     "name": "stdout",
     "output_type": "stream",
     "text": [
      "\n",
      "SELECT name,year,quarter,q_amt \n",
      "FROM epss \n",
      "WHERE (year = 2022 AND quarter <= 3-1) \n",
      "OR (year = 2022-1 AND quarter >= 3) \n",
      "ORDER BY year DESC, quarter DESC\n"
     ]
    }
   ],
   "source": [
    "sql = \"\"\"\n",
    "SELECT name,year,quarter,q_amt \n",
    "FROM epss \n",
    "WHERE (year = %s AND quarter <= %s-1) \n",
    "OR (year = %s-1 AND quarter >= %s) \n",
    "ORDER BY year DESC, quarter DESC\"\"\"\n",
    "sql = sql % (year, quarter, year, quarter)\n",
    "print(sql)"
   ]
  },
  {
   "cell_type": "code",
   "execution_count": 7,
   "metadata": {},
   "outputs": [
    {
     "data": {
      "text/html": [
       "<style type=\"text/css\">\n",
       "</style>\n",
       "<table id=\"T_fd313_\">\n",
       "  <thead>\n",
       "    <tr>\n",
       "      <th class=\"blank level0\" >&nbsp;</th>\n",
       "      <th class=\"col_heading level0 col0\" >name</th>\n",
       "      <th class=\"col_heading level0 col1\" >year</th>\n",
       "      <th class=\"col_heading level0 col2\" >quarter</th>\n",
       "      <th class=\"col_heading level0 col3\" >q_amt</th>\n",
       "      <th class=\"col_heading level0 col4\" >Counter</th>\n",
       "    </tr>\n",
       "  </thead>\n",
       "  <tbody>\n",
       "    <tr>\n",
       "      <th id=\"T_fd313_level0_row0\" class=\"row_heading level0 row0\" >0</th>\n",
       "      <td id=\"T_fd313_row0_col0\" class=\"data row0 col0\" >ACE</td>\n",
       "      <td id=\"T_fd313_row0_col1\" class=\"data row0 col1\" >8086</td>\n",
       "      <td id=\"T_fd313_row0_col2\" class=\"data row0 col2\" >10</td>\n",
       "      <td id=\"T_fd313_row0_col3\" class=\"data row0 col3\" >1,485,354</td>\n",
       "      <td id=\"T_fd313_row0_col4\" class=\"data row0 col4\" >4</td>\n",
       "    </tr>\n",
       "    <tr>\n",
       "      <th id=\"T_fd313_level0_row1\" class=\"row_heading level0 row1\" >1</th>\n",
       "      <td id=\"T_fd313_row1_col0\" class=\"data row1 col0\" >ADVANC</td>\n",
       "      <td id=\"T_fd313_row1_col1\" class=\"data row1 col1\" >8086</td>\n",
       "      <td id=\"T_fd313_row1_col2\" class=\"data row1 col2\" >10</td>\n",
       "      <td id=\"T_fd313_row1_col3\" class=\"data row1 col3\" >25,853,429</td>\n",
       "      <td id=\"T_fd313_row1_col4\" class=\"data row1 col4\" >4</td>\n",
       "    </tr>\n",
       "    <tr>\n",
       "      <th id=\"T_fd313_level0_row2\" class=\"row_heading level0 row2\" >4</th>\n",
       "      <td id=\"T_fd313_row2_col0\" class=\"data row2 col0\" >AIE</td>\n",
       "      <td id=\"T_fd313_row2_col1\" class=\"data row2 col1\" >8086</td>\n",
       "      <td id=\"T_fd313_row2_col2\" class=\"data row2 col2\" >10</td>\n",
       "      <td id=\"T_fd313_row2_col3\" class=\"data row2 col3\" >402,015</td>\n",
       "      <td id=\"T_fd313_row2_col4\" class=\"data row2 col4\" >4</td>\n",
       "    </tr>\n",
       "    <tr>\n",
       "      <th id=\"T_fd313_level0_row3\" class=\"row_heading level0 row3\" >5</th>\n",
       "      <td id=\"T_fd313_row3_col0\" class=\"data row3 col0\" >AIMIRT</td>\n",
       "      <td id=\"T_fd313_row3_col1\" class=\"data row3 col1\" >8086</td>\n",
       "      <td id=\"T_fd313_row3_col2\" class=\"data row3 col2\" >10</td>\n",
       "      <td id=\"T_fd313_row3_col3\" class=\"data row3 col3\" >566,114</td>\n",
       "      <td id=\"T_fd313_row3_col4\" class=\"data row3 col4\" >4</td>\n",
       "    </tr>\n",
       "    <tr>\n",
       "      <th id=\"T_fd313_level0_row4\" class=\"row_heading level0 row4\" >6</th>\n",
       "      <td id=\"T_fd313_row4_col0\" class=\"data row4 col0\" >AIT</td>\n",
       "      <td id=\"T_fd313_row4_col1\" class=\"data row4 col1\" >8086</td>\n",
       "      <td id=\"T_fd313_row4_col2\" class=\"data row4 col2\" >10</td>\n",
       "      <td id=\"T_fd313_row4_col3\" class=\"data row4 col3\" >556,639</td>\n",
       "      <td id=\"T_fd313_row4_col4\" class=\"data row4 col4\" >4</td>\n",
       "    </tr>\n",
       "  </tbody>\n",
       "</table>\n"
      ],
      "text/plain": [
       "<pandas.io.formats.style.Styler at 0x1e3e14e6820>"
      ]
     },
     "execution_count": 7,
     "metadata": {},
     "output_type": "execute_result"
    }
   ],
   "source": [
    "dfp = pd.read_sql(sql, conlt)\n",
    "dfp[\"Counter\"] = 1\n",
    "dfp_grp = dfp.groupby([\"name\"], as_index=False).sum()\n",
    "dfp_grp = dfp_grp[dfp_grp[\"Counter\"] == 4]\n",
    "dfp_grp.head().style.format(format_dict)"
   ]
  },
  {
   "cell_type": "code",
   "execution_count": 8,
   "metadata": {},
   "outputs": [
    {
     "data": {
      "text/plain": [
       "(232,)"
      ]
     },
     "execution_count": 8,
     "metadata": {},
     "output_type": "execute_result"
    }
   ],
   "source": [
    "dfp.name.unique().shape"
   ]
  },
  {
   "cell_type": "code",
   "execution_count": 9,
   "metadata": {},
   "outputs": [
    {
     "data": {
      "text/plain": [
       "(232, 15)"
      ]
     },
     "execution_count": 9,
     "metadata": {},
     "output_type": "execute_result"
    }
   ],
   "source": [
    "sql = \"\"\"\n",
    "SELECT *\n",
    "FROM stocks\n",
    "\"\"\"\n",
    "stocks = pd.read_sql(sql, conlt)\n",
    "stocks.shape"
   ]
  },
  {
   "cell_type": "code",
   "execution_count": 10,
   "metadata": {},
   "outputs": [
    {
     "data": {
      "text/plain": [
       "(402, 9)"
      ]
     },
     "execution_count": 10,
     "metadata": {},
     "output_type": "execute_result"
    }
   ],
   "source": [
    "sql = \"\"\"\n",
    "SELECT *\n",
    "FROM tickers\n",
    "\"\"\"\n",
    "tickers = pd.read_sql(sql, conlt)\n",
    "tickers.shape"
   ]
  },
  {
   "cell_type": "code",
   "execution_count": 11,
   "metadata": {},
   "outputs": [
    {
     "data": {
      "text/html": [
       "<style type=\"text/css\">\n",
       "</style>\n",
       "<table id=\"T_57a76_\">\n",
       "  <thead>\n",
       "    <tr>\n",
       "      <th class=\"blank level0\" >&nbsp;</th>\n",
       "      <th class=\"col_heading level0 col0\" >name</th>\n",
       "      <th class=\"col_heading level0 col1\" >year</th>\n",
       "      <th class=\"col_heading level0 col2\" >quarter</th>\n",
       "      <th class=\"col_heading level0 col3\" >q_amt_c</th>\n",
       "      <th class=\"col_heading level0 col4\" >q_amt_p</th>\n",
       "      <th class=\"col_heading level0 col5\" >inc_profit</th>\n",
       "      <th class=\"col_heading level0 col6\" >percent</th>\n",
       "    </tr>\n",
       "  </thead>\n",
       "  <tbody>\n",
       "    <tr>\n",
       "      <th id=\"T_57a76_level0_row0\" class=\"row_heading level0 row0\" >0</th>\n",
       "      <td id=\"T_57a76_row0_col0\" class=\"data row0 col0\" >AOT</td>\n",
       "      <td id=\"T_57a76_row0_col1\" class=\"data row0 col1\" >2022</td>\n",
       "      <td id=\"T_57a76_row0_col2\" class=\"data row0 col2\" >Q3</td>\n",
       "      <td id=\"T_57a76_row0_col3\" class=\"data row0 col3\" >-14,912,794</td>\n",
       "      <td id=\"T_57a76_row0_col4\" class=\"data row0 col4\" >-16,784,073</td>\n",
       "      <td id=\"T_57a76_row0_col5\" class=\"data row0 col5\" >1,871,279</td>\n",
       "      <td id=\"T_57a76_row0_col6\" class=\"data row0 col6\" >11.15%</td>\n",
       "    </tr>\n",
       "    <tr>\n",
       "      <th id=\"T_57a76_level0_row1\" class=\"row_heading level0 row1\" >1</th>\n",
       "      <td id=\"T_57a76_row1_col0\" class=\"data row1 col0\" >FPT</td>\n",
       "      <td id=\"T_57a76_row1_col1\" class=\"data row1 col1\" >2022</td>\n",
       "      <td id=\"T_57a76_row1_col2\" class=\"data row1 col2\" >Q3</td>\n",
       "      <td id=\"T_57a76_row1_col3\" class=\"data row1 col3\" >1,901,129</td>\n",
       "      <td id=\"T_57a76_row1_col4\" class=\"data row1 col4\" >1,684,084</td>\n",
       "      <td id=\"T_57a76_row1_col5\" class=\"data row1 col5\" >217,045</td>\n",
       "      <td id=\"T_57a76_row1_col6\" class=\"data row1 col6\" >12.89%</td>\n",
       "    </tr>\n",
       "    <tr>\n",
       "      <th id=\"T_57a76_level0_row2\" class=\"row_heading level0 row2\" >2</th>\n",
       "      <td id=\"T_57a76_row2_col0\" class=\"data row2 col0\" >TFFIF</td>\n",
       "      <td id=\"T_57a76_row2_col1\" class=\"data row2 col1\" >2022</td>\n",
       "      <td id=\"T_57a76_row2_col2\" class=\"data row2 col2\" >Q3</td>\n",
       "      <td id=\"T_57a76_row2_col3\" class=\"data row2 col3\" >1,390,654</td>\n",
       "      <td id=\"T_57a76_row2_col4\" class=\"data row2 col4\" >1,209,444</td>\n",
       "      <td id=\"T_57a76_row2_col5\" class=\"data row2 col5\" >181,210</td>\n",
       "      <td id=\"T_57a76_row2_col6\" class=\"data row2 col6\" >14.98%</td>\n",
       "    </tr>\n",
       "  </tbody>\n",
       "</table>\n"
      ],
      "text/plain": [
       "<pandas.io.formats.style.Styler at 0x1e3e5077b20>"
      ]
     },
     "execution_count": 11,
     "metadata": {},
     "output_type": "execute_result"
    }
   ],
   "source": [
    "dfm = pd.merge(dfc_grp, dfp_grp, on=\"name\", suffixes=([\"_c\", \"_p\"]), how=\"inner\")\n",
    "dfm[\"inc_profit\"] = dfm[\"q_amt_c\"] - dfm[\"q_amt_p\"]\n",
    "dfm[\"percent\"] = round(dfm[\"inc_profit\"] / abs(dfm[\"q_amt_p\"]) * 100, 2)\n",
    "dfm[\"year\"] = year\n",
    "dfm[\"quarter\"] = \"Q\" + str(quarter)\n",
    "df_percent = dfm[cols]\n",
    "df_percent.head().style.format(format_dict)"
   ]
  },
  {
   "cell_type": "code",
   "execution_count": 12,
   "metadata": {},
   "outputs": [
    {
     "name": "stdout",
     "output_type": "stream",
     "text": [
      "\n",
      "DELETE FROM qt_profits \n",
      "WHERE year = 2022 AND quarter = 'Q3'\n",
      "\n"
     ]
    },
    {
     "data": {
      "text/plain": [
       "1"
      ]
     },
     "execution_count": 12,
     "metadata": {},
     "output_type": "execute_result"
    }
   ],
   "source": [
    "sql = \"\"\"\n",
    "DELETE FROM qt_profits \n",
    "WHERE year = %s AND quarter = 'Q%s'\n",
    "\"\"\"\n",
    "sql = sql % (year, quarter)\n",
    "print(sql)\n",
    "\n",
    "rp = conlt.execute(sql)\n",
    "rp.rowcount"
   ]
  },
  {
   "cell_type": "code",
   "execution_count": 13,
   "metadata": {},
   "outputs": [
    {
     "data": {
      "text/html": [
       "<div>\n",
       "<style scoped>\n",
       "    .dataframe tbody tr th:only-of-type {\n",
       "        vertical-align: middle;\n",
       "    }\n",
       "\n",
       "    .dataframe tbody tr th {\n",
       "        vertical-align: top;\n",
       "    }\n",
       "\n",
       "    .dataframe thead th {\n",
       "        text-align: right;\n",
       "    }\n",
       "</style>\n",
       "<table border=\"1\" class=\"dataframe\">\n",
       "  <thead>\n",
       "    <tr style=\"text-align: right;\">\n",
       "      <th></th>\n",
       "      <th>name</th>\n",
       "      <th>id</th>\n",
       "    </tr>\n",
       "  </thead>\n",
       "  <tbody>\n",
       "    <tr>\n",
       "      <th>0</th>\n",
       "      <td>2S</td>\n",
       "      <td>727</td>\n",
       "    </tr>\n",
       "    <tr>\n",
       "      <th>1</th>\n",
       "      <td>A</td>\n",
       "      <td>1</td>\n",
       "    </tr>\n",
       "    <tr>\n",
       "      <th>2</th>\n",
       "      <td>AAV</td>\n",
       "      <td>732</td>\n",
       "    </tr>\n",
       "    <tr>\n",
       "      <th>3</th>\n",
       "      <td>ACE</td>\n",
       "      <td>698</td>\n",
       "    </tr>\n",
       "    <tr>\n",
       "      <th>4</th>\n",
       "      <td>ADVANC</td>\n",
       "      <td>6</td>\n",
       "    </tr>\n",
       "  </tbody>\n",
       "</table>\n",
       "</div>"
      ],
      "text/plain": [
       "     name   id\n",
       "0      2S  727\n",
       "1       A    1\n",
       "2     AAV  732\n",
       "3     ACE  698\n",
       "4  ADVANC    6"
      ]
     },
     "execution_count": 13,
     "metadata": {},
     "output_type": "execute_result"
    }
   ],
   "source": [
    "sql = \"SELECT name, id FROM tickers\"\n",
    "tickers = pd.read_sql(sql, conlt)\n",
    "tickers.head()"
   ]
  },
  {
   "cell_type": "code",
   "execution_count": 14,
   "metadata": {},
   "outputs": [
    {
     "data": {
      "text/html": [
       "<style type=\"text/css\">\n",
       "</style>\n",
       "<table id=\"T_9b1ef_\">\n",
       "  <thead>\n",
       "    <tr>\n",
       "      <th class=\"blank level0\" >&nbsp;</th>\n",
       "      <th class=\"col_heading level0 col0\" >name</th>\n",
       "      <th class=\"col_heading level0 col1\" >year</th>\n",
       "      <th class=\"col_heading level0 col2\" >quarter</th>\n",
       "      <th class=\"col_heading level0 col3\" >q_amt_c</th>\n",
       "      <th class=\"col_heading level0 col4\" >q_amt_p</th>\n",
       "      <th class=\"col_heading level0 col5\" >inc_profit</th>\n",
       "      <th class=\"col_heading level0 col6\" >percent</th>\n",
       "      <th class=\"col_heading level0 col7\" >id</th>\n",
       "    </tr>\n",
       "  </thead>\n",
       "  <tbody>\n",
       "    <tr>\n",
       "      <th id=\"T_9b1ef_level0_row0\" class=\"row_heading level0 row0\" >0</th>\n",
       "      <td id=\"T_9b1ef_row0_col0\" class=\"data row0 col0\" >AOT</td>\n",
       "      <td id=\"T_9b1ef_row0_col1\" class=\"data row0 col1\" >2022</td>\n",
       "      <td id=\"T_9b1ef_row0_col2\" class=\"data row0 col2\" >Q3</td>\n",
       "      <td id=\"T_9b1ef_row0_col3\" class=\"data row0 col3\" >-14,912,794</td>\n",
       "      <td id=\"T_9b1ef_row0_col4\" class=\"data row0 col4\" >-16,784,073</td>\n",
       "      <td id=\"T_9b1ef_row0_col5\" class=\"data row0 col5\" >1,871,279</td>\n",
       "      <td id=\"T_9b1ef_row0_col6\" class=\"data row0 col6\" >11.15%</td>\n",
       "      <td id=\"T_9b1ef_row0_col7\" class=\"data row0 col7\" >24</td>\n",
       "    </tr>\n",
       "    <tr>\n",
       "      <th id=\"T_9b1ef_level0_row1\" class=\"row_heading level0 row1\" >1</th>\n",
       "      <td id=\"T_9b1ef_row1_col0\" class=\"data row1 col0\" >FPT</td>\n",
       "      <td id=\"T_9b1ef_row1_col1\" class=\"data row1 col1\" >2022</td>\n",
       "      <td id=\"T_9b1ef_row1_col2\" class=\"data row1 col2\" >Q3</td>\n",
       "      <td id=\"T_9b1ef_row1_col3\" class=\"data row1 col3\" >1,901,129</td>\n",
       "      <td id=\"T_9b1ef_row1_col4\" class=\"data row1 col4\" >1,684,084</td>\n",
       "      <td id=\"T_9b1ef_row1_col5\" class=\"data row1 col5\" >217,045</td>\n",
       "      <td id=\"T_9b1ef_row1_col6\" class=\"data row1 col6\" >12.89%</td>\n",
       "      <td id=\"T_9b1ef_row1_col7\" class=\"data row1 col7\" >746</td>\n",
       "    </tr>\n",
       "    <tr>\n",
       "      <th id=\"T_9b1ef_level0_row2\" class=\"row_heading level0 row2\" >2</th>\n",
       "      <td id=\"T_9b1ef_row2_col0\" class=\"data row2 col0\" >TFFIF</td>\n",
       "      <td id=\"T_9b1ef_row2_col1\" class=\"data row2 col1\" >2022</td>\n",
       "      <td id=\"T_9b1ef_row2_col2\" class=\"data row2 col2\" >Q3</td>\n",
       "      <td id=\"T_9b1ef_row2_col3\" class=\"data row2 col3\" >1,390,654</td>\n",
       "      <td id=\"T_9b1ef_row2_col4\" class=\"data row2 col4\" >1,209,444</td>\n",
       "      <td id=\"T_9b1ef_row2_col5\" class=\"data row2 col5\" >181,210</td>\n",
       "      <td id=\"T_9b1ef_row2_col6\" class=\"data row2 col6\" >14.98%</td>\n",
       "      <td id=\"T_9b1ef_row2_col7\" class=\"data row2 col7\" >686</td>\n",
       "    </tr>\n",
       "  </tbody>\n",
       "</table>\n"
      ],
      "text/plain": [
       "<pandas.io.formats.style.Styler at 0x1e3e5077040>"
      ]
     },
     "execution_count": 14,
     "metadata": {},
     "output_type": "execute_result"
    }
   ],
   "source": [
    "df_ins = pd.merge(df_percent, tickers, on=\"name\", how=\"inner\")\n",
    "df_ins.head().style.format(format_dict)"
   ]
  },
  {
   "cell_type": "code",
   "execution_count": 15,
   "metadata": {},
   "outputs": [
    {
     "data": {
      "text/plain": [
       "3"
      ]
     },
     "execution_count": 15,
     "metadata": {},
     "output_type": "execute_result"
    }
   ],
   "source": [
    "rcds = df_ins.values.tolist()\n",
    "len(rcds)"
   ]
  },
  {
   "cell_type": "code",
   "execution_count": 16,
   "metadata": {},
   "outputs": [],
   "source": [
    "#for rcd in rcds:\n",
    "#    print(rcd)"
   ]
  },
  {
   "cell_type": "code",
   "execution_count": 17,
   "metadata": {},
   "outputs": [
    {
     "name": "stdout",
     "output_type": "stream",
     "text": [
      "\n",
      "INSERT INTO qt_profits (name, year, quarter, latest_amt, previous_amt, inc_amt, inc_pct, ticker_id) VALUES (?, ?, ?, ?, ?, ?, ?, ?)\n",
      "\n"
     ]
    }
   ],
   "source": [
    "sql = \"\"\"\n",
    "INSERT INTO qt_profits (name, year, quarter, latest_amt, previous_amt, \\\n",
    "inc_amt, inc_pct, ticker_id) \\\n",
    "VALUES (?, ?, ?, ?, ?, ?, ?, ?)\n",
    "\"\"\"\n",
    "print(sql)"
   ]
  },
  {
   "cell_type": "code",
   "execution_count": 18,
   "metadata": {},
   "outputs": [],
   "source": [
    "for rcd in rcds:\n",
    "    conlt.execute(sql, rcd)"
   ]
  },
  {
   "cell_type": "markdown",
   "metadata": {},
   "source": [
    "### End of loop"
   ]
  },
  {
   "cell_type": "code",
   "execution_count": 19,
   "metadata": {},
   "outputs": [
    {
     "data": {
      "text/html": [
       "<style type=\"text/css\">\n",
       "</style>\n",
       "<table id=\"T_d21d7_\">\n",
       "  <thead>\n",
       "    <tr>\n",
       "      <th class=\"blank level0\" >&nbsp;</th>\n",
       "      <th class=\"col_heading level0 col0\" >name</th>\n",
       "      <th class=\"col_heading level0 col1\" >year</th>\n",
       "      <th class=\"col_heading level0 col2\" >quarter</th>\n",
       "      <th class=\"col_heading level0 col3\" >q_amt_c</th>\n",
       "      <th class=\"col_heading level0 col4\" >q_amt_p</th>\n",
       "      <th class=\"col_heading level0 col5\" >inc_profit</th>\n",
       "      <th class=\"col_heading level0 col6\" >percent</th>\n",
       "    </tr>\n",
       "  </thead>\n",
       "  <tbody>\n",
       "    <tr>\n",
       "      <th id=\"T_d21d7_level0_row0\" class=\"row_heading level0 row0\" >1</th>\n",
       "      <td id=\"T_d21d7_row0_col0\" class=\"data row0 col0\" >FPT</td>\n",
       "      <td id=\"T_d21d7_row0_col1\" class=\"data row0 col1\" >2022</td>\n",
       "      <td id=\"T_d21d7_row0_col2\" class=\"data row0 col2\" >Q3</td>\n",
       "      <td id=\"T_d21d7_row0_col3\" class=\"data row0 col3\" >1,901,129</td>\n",
       "      <td id=\"T_d21d7_row0_col4\" class=\"data row0 col4\" >1,684,084</td>\n",
       "      <td id=\"T_d21d7_row0_col5\" class=\"data row0 col5\" >217,045</td>\n",
       "      <td id=\"T_d21d7_row0_col6\" class=\"data row0 col6\" >12.89%</td>\n",
       "    </tr>\n",
       "    <tr>\n",
       "      <th id=\"T_d21d7_level0_row1\" class=\"row_heading level0 row1\" >2</th>\n",
       "      <td id=\"T_d21d7_row1_col0\" class=\"data row1 col0\" >TFFIF</td>\n",
       "      <td id=\"T_d21d7_row1_col1\" class=\"data row1 col1\" >2022</td>\n",
       "      <td id=\"T_d21d7_row1_col2\" class=\"data row1 col2\" >Q3</td>\n",
       "      <td id=\"T_d21d7_row1_col3\" class=\"data row1 col3\" >1,390,654</td>\n",
       "      <td id=\"T_d21d7_row1_col4\" class=\"data row1 col4\" >1,209,444</td>\n",
       "      <td id=\"T_d21d7_row1_col5\" class=\"data row1 col5\" >181,210</td>\n",
       "      <td id=\"T_d21d7_row1_col6\" class=\"data row1 col6\" >14.98%</td>\n",
       "    </tr>\n",
       "  </tbody>\n",
       "</table>\n"
      ],
      "text/plain": [
       "<pandas.io.formats.style.Styler at 0x1e3e5077d30>"
      ]
     },
     "execution_count": 19,
     "metadata": {},
     "output_type": "execute_result"
    }
   ],
   "source": [
    "criteria_1 = df_ins.q_amt_c > 440_000\n",
    "df_ins.loc[criteria_1, cols].head().style.format(format_dict)"
   ]
  },
  {
   "cell_type": "code",
   "execution_count": 20,
   "metadata": {},
   "outputs": [
    {
     "data": {
      "text/html": [
       "<style type=\"text/css\">\n",
       "</style>\n",
       "<table id=\"T_d204f_\">\n",
       "  <thead>\n",
       "    <tr>\n",
       "      <th class=\"blank level0\" >&nbsp;</th>\n",
       "      <th class=\"col_heading level0 col0\" >name</th>\n",
       "      <th class=\"col_heading level0 col1\" >year</th>\n",
       "      <th class=\"col_heading level0 col2\" >quarter</th>\n",
       "      <th class=\"col_heading level0 col3\" >q_amt_c</th>\n",
       "      <th class=\"col_heading level0 col4\" >q_amt_p</th>\n",
       "      <th class=\"col_heading level0 col5\" >inc_profit</th>\n",
       "      <th class=\"col_heading level0 col6\" >percent</th>\n",
       "    </tr>\n",
       "  </thead>\n",
       "  <tbody>\n",
       "    <tr>\n",
       "      <th id=\"T_d204f_level0_row0\" class=\"row_heading level0 row0\" >1</th>\n",
       "      <td id=\"T_d204f_row0_col0\" class=\"data row0 col0\" >FPT</td>\n",
       "      <td id=\"T_d204f_row0_col1\" class=\"data row0 col1\" >2022</td>\n",
       "      <td id=\"T_d204f_row0_col2\" class=\"data row0 col2\" >Q3</td>\n",
       "      <td id=\"T_d204f_row0_col3\" class=\"data row0 col3\" >1,901,129</td>\n",
       "      <td id=\"T_d204f_row0_col4\" class=\"data row0 col4\" >1,684,084</td>\n",
       "      <td id=\"T_d204f_row0_col5\" class=\"data row0 col5\" >217,045</td>\n",
       "      <td id=\"T_d204f_row0_col6\" class=\"data row0 col6\" >12.89%</td>\n",
       "    </tr>\n",
       "    <tr>\n",
       "      <th id=\"T_d204f_level0_row1\" class=\"row_heading level0 row1\" >2</th>\n",
       "      <td id=\"T_d204f_row1_col0\" class=\"data row1 col0\" >TFFIF</td>\n",
       "      <td id=\"T_d204f_row1_col1\" class=\"data row1 col1\" >2022</td>\n",
       "      <td id=\"T_d204f_row1_col2\" class=\"data row1 col2\" >Q3</td>\n",
       "      <td id=\"T_d204f_row1_col3\" class=\"data row1 col3\" >1,390,654</td>\n",
       "      <td id=\"T_d204f_row1_col4\" class=\"data row1 col4\" >1,209,444</td>\n",
       "      <td id=\"T_d204f_row1_col5\" class=\"data row1 col5\" >181,210</td>\n",
       "      <td id=\"T_d204f_row1_col6\" class=\"data row1 col6\" >14.98%</td>\n",
       "    </tr>\n",
       "  </tbody>\n",
       "</table>\n"
      ],
      "text/plain": [
       "<pandas.io.formats.style.Styler at 0x1e3e50879d0>"
      ]
     },
     "execution_count": 20,
     "metadata": {},
     "output_type": "execute_result"
    }
   ],
   "source": [
    "criteria_2 = df_ins.q_amt_p > 400_000\n",
    "df_ins.loc[criteria_2, cols].head().style.format(format_dict)"
   ]
  },
  {
   "cell_type": "code",
   "execution_count": 21,
   "metadata": {},
   "outputs": [
    {
     "data": {
      "text/html": [
       "<style type=\"text/css\">\n",
       "</style>\n",
       "<table id=\"T_2ef98_\">\n",
       "  <thead>\n",
       "    <tr>\n",
       "      <th class=\"blank level0\" >&nbsp;</th>\n",
       "      <th class=\"col_heading level0 col0\" >name</th>\n",
       "      <th class=\"col_heading level0 col1\" >year</th>\n",
       "      <th class=\"col_heading level0 col2\" >quarter</th>\n",
       "      <th class=\"col_heading level0 col3\" >q_amt_c</th>\n",
       "      <th class=\"col_heading level0 col4\" >q_amt_p</th>\n",
       "      <th class=\"col_heading level0 col5\" >inc_profit</th>\n",
       "      <th class=\"col_heading level0 col6\" >percent</th>\n",
       "    </tr>\n",
       "  </thead>\n",
       "  <tbody>\n",
       "    <tr>\n",
       "      <th id=\"T_2ef98_level0_row0\" class=\"row_heading level0 row0\" >0</th>\n",
       "      <td id=\"T_2ef98_row0_col0\" class=\"data row0 col0\" >AOT</td>\n",
       "      <td id=\"T_2ef98_row0_col1\" class=\"data row0 col1\" >2022</td>\n",
       "      <td id=\"T_2ef98_row0_col2\" class=\"data row0 col2\" >Q3</td>\n",
       "      <td id=\"T_2ef98_row0_col3\" class=\"data row0 col3\" >-14,912,794</td>\n",
       "      <td id=\"T_2ef98_row0_col4\" class=\"data row0 col4\" >-16,784,073</td>\n",
       "      <td id=\"T_2ef98_row0_col5\" class=\"data row0 col5\" >1,871,279</td>\n",
       "      <td id=\"T_2ef98_row0_col6\" class=\"data row0 col6\" >11.15%</td>\n",
       "    </tr>\n",
       "    <tr>\n",
       "      <th id=\"T_2ef98_level0_row1\" class=\"row_heading level0 row1\" >1</th>\n",
       "      <td id=\"T_2ef98_row1_col0\" class=\"data row1 col0\" >FPT</td>\n",
       "      <td id=\"T_2ef98_row1_col1\" class=\"data row1 col1\" >2022</td>\n",
       "      <td id=\"T_2ef98_row1_col2\" class=\"data row1 col2\" >Q3</td>\n",
       "      <td id=\"T_2ef98_row1_col3\" class=\"data row1 col3\" >1,901,129</td>\n",
       "      <td id=\"T_2ef98_row1_col4\" class=\"data row1 col4\" >1,684,084</td>\n",
       "      <td id=\"T_2ef98_row1_col5\" class=\"data row1 col5\" >217,045</td>\n",
       "      <td id=\"T_2ef98_row1_col6\" class=\"data row1 col6\" >12.89%</td>\n",
       "    </tr>\n",
       "    <tr>\n",
       "      <th id=\"T_2ef98_level0_row2\" class=\"row_heading level0 row2\" >2</th>\n",
       "      <td id=\"T_2ef98_row2_col0\" class=\"data row2 col0\" >TFFIF</td>\n",
       "      <td id=\"T_2ef98_row2_col1\" class=\"data row2 col1\" >2022</td>\n",
       "      <td id=\"T_2ef98_row2_col2\" class=\"data row2 col2\" >Q3</td>\n",
       "      <td id=\"T_2ef98_row2_col3\" class=\"data row2 col3\" >1,390,654</td>\n",
       "      <td id=\"T_2ef98_row2_col4\" class=\"data row2 col4\" >1,209,444</td>\n",
       "      <td id=\"T_2ef98_row2_col5\" class=\"data row2 col5\" >181,210</td>\n",
       "      <td id=\"T_2ef98_row2_col6\" class=\"data row2 col6\" >14.98%</td>\n",
       "    </tr>\n",
       "  </tbody>\n",
       "</table>\n"
      ],
      "text/plain": [
       "<pandas.io.formats.style.Styler at 0x1e3e5087f70>"
      ]
     },
     "execution_count": 21,
     "metadata": {},
     "output_type": "execute_result"
    }
   ],
   "source": [
    "criteria_3 = df_ins.percent > 10.00\n",
    "df_ins.loc[criteria_3, cols].head().style.format(format_dict)"
   ]
  },
  {
   "cell_type": "code",
   "execution_count": 22,
   "metadata": {},
   "outputs": [
    {
     "data": {
      "text/html": [
       "<style type=\"text/css\">\n",
       "</style>\n",
       "<table id=\"T_c7a3e_\">\n",
       "  <thead>\n",
       "    <tr>\n",
       "      <th class=\"blank level0\" >&nbsp;</th>\n",
       "      <th class=\"col_heading level0 col0\" >name</th>\n",
       "      <th class=\"col_heading level0 col1\" >year</th>\n",
       "      <th class=\"col_heading level0 col2\" >quarter</th>\n",
       "      <th class=\"col_heading level0 col3\" >q_amt_c</th>\n",
       "      <th class=\"col_heading level0 col4\" >q_amt_p</th>\n",
       "      <th class=\"col_heading level0 col5\" >inc_profit</th>\n",
       "      <th class=\"col_heading level0 col6\" >percent</th>\n",
       "    </tr>\n",
       "  </thead>\n",
       "  <tbody>\n",
       "    <tr>\n",
       "      <th id=\"T_c7a3e_level0_row0\" class=\"row_heading level0 row0\" >1</th>\n",
       "      <td id=\"T_c7a3e_row0_col0\" class=\"data row0 col0\" >FPT</td>\n",
       "      <td id=\"T_c7a3e_row0_col1\" class=\"data row0 col1\" >2022</td>\n",
       "      <td id=\"T_c7a3e_row0_col2\" class=\"data row0 col2\" >Q3</td>\n",
       "      <td id=\"T_c7a3e_row0_col3\" class=\"data row0 col3\" >1,901,129</td>\n",
       "      <td id=\"T_c7a3e_row0_col4\" class=\"data row0 col4\" >1,684,084</td>\n",
       "      <td id=\"T_c7a3e_row0_col5\" class=\"data row0 col5\" >217,045</td>\n",
       "      <td id=\"T_c7a3e_row0_col6\" class=\"data row0 col6\" >12.89%</td>\n",
       "    </tr>\n",
       "    <tr>\n",
       "      <th id=\"T_c7a3e_level0_row1\" class=\"row_heading level0 row1\" >2</th>\n",
       "      <td id=\"T_c7a3e_row1_col0\" class=\"data row1 col0\" >TFFIF</td>\n",
       "      <td id=\"T_c7a3e_row1_col1\" class=\"data row1 col1\" >2022</td>\n",
       "      <td id=\"T_c7a3e_row1_col2\" class=\"data row1 col2\" >Q3</td>\n",
       "      <td id=\"T_c7a3e_row1_col3\" class=\"data row1 col3\" >1,390,654</td>\n",
       "      <td id=\"T_c7a3e_row1_col4\" class=\"data row1 col4\" >1,209,444</td>\n",
       "      <td id=\"T_c7a3e_row1_col5\" class=\"data row1 col5\" >181,210</td>\n",
       "      <td id=\"T_c7a3e_row1_col6\" class=\"data row1 col6\" >14.98%</td>\n",
       "    </tr>\n",
       "  </tbody>\n",
       "</table>\n"
      ],
      "text/plain": [
       "<pandas.io.formats.style.Styler at 0x1e3e50870a0>"
      ]
     },
     "execution_count": 22,
     "metadata": {},
     "output_type": "execute_result"
    }
   ],
   "source": [
    "df_ins_criteria = criteria_1 & criteria_2 & criteria_3\n",
    "df_ins.loc[df_ins_criteria, cols].head().style.format(format_dict)"
   ]
  },
  {
   "cell_type": "code",
   "execution_count": 23,
   "metadata": {},
   "outputs": [
    {
     "data": {
      "text/html": [
       "<style type=\"text/css\">\n",
       "</style>\n",
       "<table id=\"T_c1e5e_\">\n",
       "  <thead>\n",
       "    <tr>\n",
       "      <th class=\"blank level0\" >&nbsp;</th>\n",
       "      <th class=\"col_heading level0 col0\" >name</th>\n",
       "      <th class=\"col_heading level0 col1\" >year</th>\n",
       "      <th class=\"col_heading level0 col2\" >quarter</th>\n",
       "      <th class=\"col_heading level0 col3\" >q_amt_c</th>\n",
       "      <th class=\"col_heading level0 col4\" >q_amt_p</th>\n",
       "      <th class=\"col_heading level0 col5\" >inc_profit</th>\n",
       "      <th class=\"col_heading level0 col6\" >percent</th>\n",
       "      <th class=\"col_heading level0 col7\" >id</th>\n",
       "    </tr>\n",
       "  </thead>\n",
       "  <tbody>\n",
       "    <tr>\n",
       "      <th id=\"T_c1e5e_level0_row0\" class=\"row_heading level0 row0\" >2</th>\n",
       "      <td id=\"T_c1e5e_row0_col0\" class=\"data row0 col0\" >TFFIF</td>\n",
       "      <td id=\"T_c1e5e_row0_col1\" class=\"data row0 col1\" >2022</td>\n",
       "      <td id=\"T_c1e5e_row0_col2\" class=\"data row0 col2\" >Q3</td>\n",
       "      <td id=\"T_c1e5e_row0_col3\" class=\"data row0 col3\" >1,390,654</td>\n",
       "      <td id=\"T_c1e5e_row0_col4\" class=\"data row0 col4\" >1,209,444</td>\n",
       "      <td id=\"T_c1e5e_row0_col5\" class=\"data row0 col5\" >181,210</td>\n",
       "      <td id=\"T_c1e5e_row0_col6\" class=\"data row0 col6\" >14.98%</td>\n",
       "      <td id=\"T_c1e5e_row0_col7\" class=\"data row0 col7\" >686</td>\n",
       "    </tr>\n",
       "    <tr>\n",
       "      <th id=\"T_c1e5e_level0_row1\" class=\"row_heading level0 row1\" >1</th>\n",
       "      <td id=\"T_c1e5e_row1_col0\" class=\"data row1 col0\" >FPT</td>\n",
       "      <td id=\"T_c1e5e_row1_col1\" class=\"data row1 col1\" >2022</td>\n",
       "      <td id=\"T_c1e5e_row1_col2\" class=\"data row1 col2\" >Q3</td>\n",
       "      <td id=\"T_c1e5e_row1_col3\" class=\"data row1 col3\" >1,901,129</td>\n",
       "      <td id=\"T_c1e5e_row1_col4\" class=\"data row1 col4\" >1,684,084</td>\n",
       "      <td id=\"T_c1e5e_row1_col5\" class=\"data row1 col5\" >217,045</td>\n",
       "      <td id=\"T_c1e5e_row1_col6\" class=\"data row1 col6\" >12.89%</td>\n",
       "      <td id=\"T_c1e5e_row1_col7\" class=\"data row1 col7\" >746</td>\n",
       "    </tr>\n",
       "  </tbody>\n",
       "</table>\n"
      ],
      "text/plain": [
       "<pandas.io.formats.style.Styler at 0x1e3e5022f40>"
      ]
     },
     "execution_count": 23,
     "metadata": {},
     "output_type": "execute_result"
    }
   ],
   "source": [
    "df_ins[df_ins_criteria].sort_values(by=[\"percent\"], ascending=[False]).head().style.format(format_dict)"
   ]
  },
  {
   "cell_type": "code",
   "execution_count": 24,
   "metadata": {},
   "outputs": [
    {
     "data": {
      "text/html": [
       "<style type=\"text/css\">\n",
       "</style>\n",
       "<table id=\"T_9852d_\">\n",
       "  <thead>\n",
       "    <tr>\n",
       "      <th class=\"blank level0\" >&nbsp;</th>\n",
       "      <th class=\"col_heading level0 col0\" >name</th>\n",
       "      <th class=\"col_heading level0 col1\" >year</th>\n",
       "      <th class=\"col_heading level0 col2\" >quarter</th>\n",
       "      <th class=\"col_heading level0 col3\" >q_amt_c</th>\n",
       "      <th class=\"col_heading level0 col4\" >q_amt_p</th>\n",
       "      <th class=\"col_heading level0 col5\" >inc_profit</th>\n",
       "      <th class=\"col_heading level0 col6\" >percent</th>\n",
       "      <th class=\"col_heading level0 col7\" >id</th>\n",
       "    </tr>\n",
       "  </thead>\n",
       "  <tbody>\n",
       "    <tr>\n",
       "      <th id=\"T_9852d_level0_row0\" class=\"row_heading level0 row0\" >1</th>\n",
       "      <td id=\"T_9852d_row0_col0\" class=\"data row0 col0\" >FPT</td>\n",
       "      <td id=\"T_9852d_row0_col1\" class=\"data row0 col1\" >2022</td>\n",
       "      <td id=\"T_9852d_row0_col2\" class=\"data row0 col2\" >Q3</td>\n",
       "      <td id=\"T_9852d_row0_col3\" class=\"data row0 col3\" >1,901,129</td>\n",
       "      <td id=\"T_9852d_row0_col4\" class=\"data row0 col4\" >1,684,084</td>\n",
       "      <td id=\"T_9852d_row0_col5\" class=\"data row0 col5\" >217,045</td>\n",
       "      <td id=\"T_9852d_row0_col6\" class=\"data row0 col6\" >12.89%</td>\n",
       "      <td id=\"T_9852d_row0_col7\" class=\"data row0 col7\" >746</td>\n",
       "    </tr>\n",
       "    <tr>\n",
       "      <th id=\"T_9852d_level0_row1\" class=\"row_heading level0 row1\" >2</th>\n",
       "      <td id=\"T_9852d_row1_col0\" class=\"data row1 col0\" >TFFIF</td>\n",
       "      <td id=\"T_9852d_row1_col1\" class=\"data row1 col1\" >2022</td>\n",
       "      <td id=\"T_9852d_row1_col2\" class=\"data row1 col2\" >Q3</td>\n",
       "      <td id=\"T_9852d_row1_col3\" class=\"data row1 col3\" >1,390,654</td>\n",
       "      <td id=\"T_9852d_row1_col4\" class=\"data row1 col4\" >1,209,444</td>\n",
       "      <td id=\"T_9852d_row1_col5\" class=\"data row1 col5\" >181,210</td>\n",
       "      <td id=\"T_9852d_row1_col6\" class=\"data row1 col6\" >14.98%</td>\n",
       "      <td id=\"T_9852d_row1_col7\" class=\"data row1 col7\" >686</td>\n",
       "    </tr>\n",
       "  </tbody>\n",
       "</table>\n"
      ],
      "text/plain": [
       "<pandas.io.formats.style.Styler at 0x1e3e5075a00>"
      ]
     },
     "execution_count": 24,
     "metadata": {},
     "output_type": "execute_result"
    }
   ],
   "source": [
    "df_ins[df_ins_criteria].sort_values(by=[\"name\"], ascending=[True]).head().style.format(format_dict)"
   ]
  },
  {
   "cell_type": "code",
   "execution_count": 25,
   "metadata": {},
   "outputs": [
    {
     "data": {
      "text/html": [
       "<style type=\"text/css\">\n",
       "</style>\n",
       "<table id=\"T_449f7_\">\n",
       "  <thead>\n",
       "    <tr>\n",
       "      <th class=\"blank level0\" >&nbsp;</th>\n",
       "      <th class=\"col_heading level0 col0\" >name</th>\n",
       "      <th class=\"col_heading level0 col1\" >year</th>\n",
       "      <th class=\"col_heading level0 col2\" >quarter</th>\n",
       "      <th class=\"col_heading level0 col3\" >q_amt_c</th>\n",
       "      <th class=\"col_heading level0 col4\" >q_amt_p</th>\n",
       "      <th class=\"col_heading level0 col5\" >inc_profit</th>\n",
       "      <th class=\"col_heading level0 col6\" >percent</th>\n",
       "      <th class=\"col_heading level0 col7\" >id</th>\n",
       "    </tr>\n",
       "  </thead>\n",
       "  <tbody>\n",
       "    <tr>\n",
       "      <th id=\"T_449f7_level0_row0\" class=\"row_heading level0 row0\" >1</th>\n",
       "      <td id=\"T_449f7_row0_col0\" class=\"data row0 col0\" >FPT</td>\n",
       "      <td id=\"T_449f7_row0_col1\" class=\"data row0 col1\" >2022</td>\n",
       "      <td id=\"T_449f7_row0_col2\" class=\"data row0 col2\" >Q3</td>\n",
       "      <td id=\"T_449f7_row0_col3\" class=\"data row0 col3\" >1,901,129</td>\n",
       "      <td id=\"T_449f7_row0_col4\" class=\"data row0 col4\" >1,684,084</td>\n",
       "      <td id=\"T_449f7_row0_col5\" class=\"data row0 col5\" >217,045</td>\n",
       "      <td id=\"T_449f7_row0_col6\" class=\"data row0 col6\" >12.89%</td>\n",
       "      <td id=\"T_449f7_row0_col7\" class=\"data row0 col7\" >746</td>\n",
       "    </tr>\n",
       "    <tr>\n",
       "      <th id=\"T_449f7_level0_row1\" class=\"row_heading level0 row1\" >2</th>\n",
       "      <td id=\"T_449f7_row1_col0\" class=\"data row1 col0\" >TFFIF</td>\n",
       "      <td id=\"T_449f7_row1_col1\" class=\"data row1 col1\" >2022</td>\n",
       "      <td id=\"T_449f7_row1_col2\" class=\"data row1 col2\" >Q3</td>\n",
       "      <td id=\"T_449f7_row1_col3\" class=\"data row1 col3\" >1,390,654</td>\n",
       "      <td id=\"T_449f7_row1_col4\" class=\"data row1 col4\" >1,209,444</td>\n",
       "      <td id=\"T_449f7_row1_col5\" class=\"data row1 col5\" >181,210</td>\n",
       "      <td id=\"T_449f7_row1_col6\" class=\"data row1 col6\" >14.98%</td>\n",
       "      <td id=\"T_449f7_row1_col7\" class=\"data row1 col7\" >686</td>\n",
       "    </tr>\n",
       "  </tbody>\n",
       "</table>\n"
      ],
      "text/plain": [
       "<pandas.io.formats.style.Styler at 0x1e3e504cca0>"
      ]
     },
     "execution_count": 25,
     "metadata": {},
     "output_type": "execute_result"
    }
   ],
   "source": [
    "df_ins[df_ins_criteria].sort_values(by=[\"name\"], ascending=[True]).head().style.format(format_dict)"
   ]
  },
  {
   "cell_type": "code",
   "execution_count": null,
   "metadata": {},
   "outputs": [],
   "source": []
  },
  {
   "cell_type": "code",
   "execution_count": 26,
   "metadata": {},
   "outputs": [
    {
     "name": "stdout",
     "output_type": "stream",
     "text": [
      "\n",
      "SELECT name, COUNT(*) AS 'Nbr. of Group of 4 Quarters'\n",
      "FROM qt_profits\n",
      "GROUP BY name\n",
      "HAVING COUNT(*) = 1\n",
      "ORDER BY COUNT(*) DESC, name\n",
      "\n"
     ]
    },
    {
     "data": {
      "text/html": [
       "<div>\n",
       "<style scoped>\n",
       "    .dataframe tbody tr th:only-of-type {\n",
       "        vertical-align: middle;\n",
       "    }\n",
       "\n",
       "    .dataframe tbody tr th {\n",
       "        vertical-align: top;\n",
       "    }\n",
       "\n",
       "    .dataframe thead th {\n",
       "        text-align: right;\n",
       "    }\n",
       "</style>\n",
       "<table border=\"1\" class=\"dataframe\">\n",
       "  <thead>\n",
       "    <tr style=\"text-align: right;\">\n",
       "      <th></th>\n",
       "      <th>name</th>\n",
       "      <th>Nbr. of Group of 4 Quarters</th>\n",
       "    </tr>\n",
       "  </thead>\n",
       "  <tbody>\n",
       "    <tr>\n",
       "      <th>0</th>\n",
       "      <td>KEX</td>\n",
       "      <td>1</td>\n",
       "    </tr>\n",
       "  </tbody>\n",
       "</table>\n",
       "</div>"
      ],
      "text/plain": [
       "  name  Nbr. of Group of 4 Quarters\n",
       "0  KEX                            1"
      ]
     },
     "execution_count": 26,
     "metadata": {},
     "output_type": "execute_result"
    }
   ],
   "source": [
    "sql = \"\"\"\n",
    "SELECT name, COUNT(*) AS 'Nbr. of Group of 4 Quarters'\n",
    "FROM qt_profits\n",
    "GROUP BY name\n",
    "HAVING COUNT(*) = 1\n",
    "ORDER BY COUNT(*) DESC, name\n",
    "\"\"\"\n",
    "print(sql)\n",
    "\n",
    "tmp = pd.read_sql(sql, conlt)\n",
    "tmp"
   ]
  },
  {
   "cell_type": "code",
   "execution_count": 27,
   "metadata": {},
   "outputs": [
    {
     "name": "stdout",
     "output_type": "stream",
     "text": [
      "\n",
      "SELECT *\n",
      "FROM epss\n",
      "WHERE name = 'OR'\n",
      "ORDER BY year DESC, quarter DESC\n",
      "\n"
     ]
    },
    {
     "data": {
      "text/html": [
       "<div>\n",
       "<style scoped>\n",
       "    .dataframe tbody tr th:only-of-type {\n",
       "        vertical-align: middle;\n",
       "    }\n",
       "\n",
       "    .dataframe tbody tr th {\n",
       "        vertical-align: top;\n",
       "    }\n",
       "\n",
       "    .dataframe thead th {\n",
       "        text-align: right;\n",
       "    }\n",
       "</style>\n",
       "<table border=\"1\" class=\"dataframe\">\n",
       "  <thead>\n",
       "    <tr style=\"text-align: right;\">\n",
       "      <th></th>\n",
       "      <th>id</th>\n",
       "      <th>name</th>\n",
       "      <th>year</th>\n",
       "      <th>quarter</th>\n",
       "      <th>q_amt</th>\n",
       "      <th>y_amt</th>\n",
       "      <th>aq_amt</th>\n",
       "      <th>ay_amt</th>\n",
       "      <th>q_eps</th>\n",
       "      <th>y_eps</th>\n",
       "      <th>aq_eps</th>\n",
       "      <th>ay_eps</th>\n",
       "      <th>ticker_id</th>\n",
       "      <th>publish_date</th>\n",
       "    </tr>\n",
       "  </thead>\n",
       "  <tbody>\n",
       "    <tr>\n",
       "      <th>0</th>\n",
       "      <td>21822</td>\n",
       "      <td>OR</td>\n",
       "      <td>2022</td>\n",
       "      <td>2</td>\n",
       "      <td>6567811</td>\n",
       "      <td>3224942</td>\n",
       "      <td>10412919</td>\n",
       "      <td>7228140</td>\n",
       "      <td>0.55</td>\n",
       "      <td>0.27</td>\n",
       "      <td>0.87</td>\n",
       "      <td>0.64</td>\n",
       "      <td>715</td>\n",
       "      <td>2022-08-11</td>\n",
       "    </tr>\n",
       "    <tr>\n",
       "      <th>1</th>\n",
       "      <td>21463</td>\n",
       "      <td>OR</td>\n",
       "      <td>2022</td>\n",
       "      <td>1</td>\n",
       "      <td>3845107</td>\n",
       "      <td>4003198</td>\n",
       "      <td>3845107</td>\n",
       "      <td>4003198</td>\n",
       "      <td>0.32</td>\n",
       "      <td>0.38</td>\n",
       "      <td>0.32</td>\n",
       "      <td>0.38</td>\n",
       "      <td>715</td>\n",
       "      <td>2022-05-10</td>\n",
       "    </tr>\n",
       "    <tr>\n",
       "      <th>2</th>\n",
       "      <td>21135</td>\n",
       "      <td>OR</td>\n",
       "      <td>2021</td>\n",
       "      <td>4</td>\n",
       "      <td>2353412</td>\n",
       "      <td>2922577</td>\n",
       "      <td>11474030</td>\n",
       "      <td>8791070</td>\n",
       "      <td>0.20</td>\n",
       "      <td>0.33</td>\n",
       "      <td>0.99</td>\n",
       "      <td>0.98</td>\n",
       "      <td>715</td>\n",
       "      <td>2022-02-15</td>\n",
       "    </tr>\n",
       "    <tr>\n",
       "      <th>3</th>\n",
       "      <td>20753</td>\n",
       "      <td>OR</td>\n",
       "      <td>2021</td>\n",
       "      <td>3</td>\n",
       "      <td>1892478</td>\n",
       "      <td>3450043</td>\n",
       "      <td>9120618</td>\n",
       "      <td>5868493</td>\n",
       "      <td>0.16</td>\n",
       "      <td>0.38</td>\n",
       "      <td>0.79</td>\n",
       "      <td>0.65</td>\n",
       "      <td>715</td>\n",
       "      <td>2021-11-09</td>\n",
       "    </tr>\n",
       "    <tr>\n",
       "      <th>4</th>\n",
       "      <td>20266</td>\n",
       "      <td>OR</td>\n",
       "      <td>2021</td>\n",
       "      <td>2</td>\n",
       "      <td>3224942</td>\n",
       "      <td>520104</td>\n",
       "      <td>7228140</td>\n",
       "      <td>2418450</td>\n",
       "      <td>0.27</td>\n",
       "      <td>0.06</td>\n",
       "      <td>0.64</td>\n",
       "      <td>0.27</td>\n",
       "      <td>715</td>\n",
       "      <td>2021-08-10</td>\n",
       "    </tr>\n",
       "    <tr>\n",
       "      <th>5</th>\n",
       "      <td>19788</td>\n",
       "      <td>OR</td>\n",
       "      <td>2021</td>\n",
       "      <td>1</td>\n",
       "      <td>4003198</td>\n",
       "      <td>1898346</td>\n",
       "      <td>4003198</td>\n",
       "      <td>1898346</td>\n",
       "      <td>0.38</td>\n",
       "      <td>0.21</td>\n",
       "      <td>0.38</td>\n",
       "      <td>0.21</td>\n",
       "      <td>715</td>\n",
       "      <td>2021-05-11</td>\n",
       "    </tr>\n",
       "    <tr>\n",
       "      <th>6</th>\n",
       "      <td>19258</td>\n",
       "      <td>OR</td>\n",
       "      <td>2020</td>\n",
       "      <td>4</td>\n",
       "      <td>2922576</td>\n",
       "      <td>1948351</td>\n",
       "      <td>8791070</td>\n",
       "      <td>10895805</td>\n",
       "      <td>0.33</td>\n",
       "      <td>0.22</td>\n",
       "      <td>0.98</td>\n",
       "      <td>1.21</td>\n",
       "      <td>715</td>\n",
       "      <td>2021-02-17</td>\n",
       "    </tr>\n",
       "    <tr>\n",
       "      <th>7</th>\n",
       "      <td>19257</td>\n",
       "      <td>OR</td>\n",
       "      <td>2020</td>\n",
       "      <td>3</td>\n",
       "      <td>3450043</td>\n",
       "      <td>2593929</td>\n",
       "      <td>5868494</td>\n",
       "      <td>8947454</td>\n",
       "      <td>0.38</td>\n",
       "      <td>0.29</td>\n",
       "      <td>0.65</td>\n",
       "      <td>0.99</td>\n",
       "      <td>715</td>\n",
       "      <td>2021-02-17</td>\n",
       "    </tr>\n",
       "  </tbody>\n",
       "</table>\n",
       "</div>"
      ],
      "text/plain": [
       "      id name  year  quarter    q_amt    y_amt    aq_amt    ay_amt  q_eps  \\\n",
       "0  21822   OR  2022        2  6567811  3224942  10412919   7228140   0.55   \n",
       "1  21463   OR  2022        1  3845107  4003198   3845107   4003198   0.32   \n",
       "2  21135   OR  2021        4  2353412  2922577  11474030   8791070   0.20   \n",
       "3  20753   OR  2021        3  1892478  3450043   9120618   5868493   0.16   \n",
       "4  20266   OR  2021        2  3224942   520104   7228140   2418450   0.27   \n",
       "5  19788   OR  2021        1  4003198  1898346   4003198   1898346   0.38   \n",
       "6  19258   OR  2020        4  2922576  1948351   8791070  10895805   0.33   \n",
       "7  19257   OR  2020        3  3450043  2593929   5868494   8947454   0.38   \n",
       "\n",
       "   y_eps  aq_eps  ay_eps  ticker_id publish_date  \n",
       "0   0.27    0.87    0.64        715   2022-08-11  \n",
       "1   0.38    0.32    0.38        715   2022-05-10  \n",
       "2   0.33    0.99    0.98        715   2022-02-15  \n",
       "3   0.38    0.79    0.65        715   2021-11-09  \n",
       "4   0.06    0.64    0.27        715   2021-08-10  \n",
       "5   0.21    0.38    0.21        715   2021-05-11  \n",
       "6   0.22    0.98    1.21        715   2021-02-17  \n",
       "7   0.29    0.65    0.99        715   2021-02-17  "
      ]
     },
     "execution_count": 27,
     "metadata": {},
     "output_type": "execute_result"
    }
   ],
   "source": [
    "name = 'OR'\n",
    "sql = \"\"\"\n",
    "SELECT *\n",
    "FROM epss\n",
    "WHERE name = '%s'\n",
    "ORDER BY year DESC, quarter DESC\n",
    "\"\"\"\n",
    "sql = sql % name\n",
    "print(sql)\n",
    "\n",
    "epss = pd.read_sql(sql, conlt)\n",
    "epss"
   ]
  },
  {
   "cell_type": "code",
   "execution_count": 28,
   "metadata": {},
   "outputs": [
    {
     "name": "stdout",
     "output_type": "stream",
     "text": [
      "\n",
      "SELECT name, COUNT(*) AS 'Nbr. of Quarters'\n",
      "FROM epss\n",
      "GROUP BY name\n",
      "HAVING COUNT(*) < 5\n",
      "ORDER BY COUNT(*) DESC, name\n",
      "\n"
     ]
    },
    {
     "data": {
      "text/html": [
       "<div>\n",
       "<style scoped>\n",
       "    .dataframe tbody tr th:only-of-type {\n",
       "        vertical-align: middle;\n",
       "    }\n",
       "\n",
       "    .dataframe tbody tr th {\n",
       "        vertical-align: top;\n",
       "    }\n",
       "\n",
       "    .dataframe thead th {\n",
       "        text-align: right;\n",
       "    }\n",
       "</style>\n",
       "<table border=\"1\" class=\"dataframe\">\n",
       "  <thead>\n",
       "    <tr style=\"text-align: right;\">\n",
       "      <th></th>\n",
       "      <th>name</th>\n",
       "      <th>Nbr. of Quarters</th>\n",
       "    </tr>\n",
       "  </thead>\n",
       "  <tbody>\n",
       "    <tr>\n",
       "      <th>0</th>\n",
       "      <td>BE8</td>\n",
       "      <td>4</td>\n",
       "    </tr>\n",
       "    <tr>\n",
       "      <th>1</th>\n",
       "      <td>ONEE</td>\n",
       "      <td>1</td>\n",
       "    </tr>\n",
       "  </tbody>\n",
       "</table>\n",
       "</div>"
      ],
      "text/plain": [
       "   name  Nbr. of Quarters\n",
       "0   BE8                 4\n",
       "1  ONEE                 1"
      ]
     },
     "execution_count": 28,
     "metadata": {},
     "output_type": "execute_result"
    }
   ],
   "source": [
    "sql = \"\"\"\n",
    "SELECT name, COUNT(*) AS 'Nbr. of Quarters'\n",
    "FROM epss\n",
    "GROUP BY name\n",
    "HAVING COUNT(*) < 5\n",
    "ORDER BY COUNT(*) DESC, name\n",
    "\"\"\"\n",
    "print(sql)\n",
    "\n",
    "tmp = pd.read_sql(sql, conlt)\n",
    "tmp"
   ]
  }
 ],
 "metadata": {
  "anaconda-cloud": {},
  "kernelspec": {
   "display_name": "Python 3 (ipykernel)",
   "language": "python",
   "name": "python3"
  },
  "language_info": {
   "codemirror_mode": {
    "name": "ipython",
    "version": 3
   },
   "file_extension": ".py",
   "mimetype": "text/x-python",
   "name": "python",
   "nbconvert_exporter": "python",
   "pygments_lexer": "ipython3",
   "version": "3.8.11"
  }
 },
 "nbformat": 4,
 "nbformat_minor": 1
}
