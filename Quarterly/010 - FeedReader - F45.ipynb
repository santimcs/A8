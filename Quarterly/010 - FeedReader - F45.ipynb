{
 "cells": [
  {
   "cell_type": "code",
   "execution_count": 1,
   "metadata": {},
   "outputs": [
    {
     "data": {
      "text/plain": [
       "'0518'"
      ]
     },
     "execution_count": 1,
     "metadata": {},
     "output_type": "execute_result"
    }
   ],
   "source": [
    "import feedparser\n",
    "import pandas as pd\n",
    "from datetime import date, timedelta\n",
    "from sqlalchemy import create_engine\n",
    "\n",
    "engine = create_engine(\"sqlite:///c:\\\\ruby\\\\portlt\\\\db\\\\development.sqlite3\")\n",
    "conlt = engine.connect()\n",
    "\n",
    "clean_path = \"../data/clean/\"\n",
    "raw_path = \"../data/raw/\"\n",
    "csv_path = \"\\\\Users\\\\User\\\\iCloudDrive\\\\\"\n",
    "box_path = \"\\\\Users\\\\User\\\\Dropbox\\\\\"\n",
    "one_path = \"\\\\Users\\\\User\\\\OneDrive\\\\Documents\\\\Data\\\\\"\n",
    "pdf_path = \"../PDF/\"\n",
    "\n",
    "pd.set_option('display.max_colwidth', 255)\n",
    "pd.set_option('display.max_rows',None)\n",
    "url = \"https://feeds.feedburner.com/Setorth-form45-en\"\n",
    "\n",
    "today = date.today()\n",
    "year = 2022\n",
    "mmdd_str = today.strftime('%m%d')\n",
    "mmdd_str"
   ]
  },
  {
   "cell_type": "code",
   "execution_count": 2,
   "metadata": {},
   "outputs": [
    {
     "data": {
      "text/plain": [
       "'0518'"
      ]
     },
     "execution_count": 2,
     "metadata": {},
     "output_type": "execute_result"
    }
   ],
   "source": [
    "#today = date(2022, 5, 13)\n",
    "mmdd_str = today.strftime('%m%d')\n",
    "mmdd_str"
   ]
  },
  {
   "cell_type": "code",
   "execution_count": 3,
   "metadata": {},
   "outputs": [
    {
     "name": "stdout",
     "output_type": "stream",
     "text": [
      "Number of F45:  14\n"
     ]
    }
   ],
   "source": [
    "rss_source = feedparser.parse(url)\n",
    "f45_number = len(rss_source.entries)\n",
    "print(\"Number of F45: \", f45_number)"
   ]
  },
  {
   "cell_type": "code",
   "execution_count": 4,
   "metadata": {},
   "outputs": [
    {
     "name": "stdout",
     "output_type": "stream",
     "text": [
      "\n",
      "----------------------------------\n",
      "\n",
      "F45: 0\n",
      "Title:  COMAN\n",
      "Year:  2022\n",
      "Quarter:  1\n",
      "Link:  https://classic.set.or.th/set/newsdetails.do?language=en&country=US&newsId=16528296599270\n",
      "Published:  Wed, 18 May 2022 17:49:00 +0700\n",
      "\n",
      "----------------------------------\n",
      "\n",
      "F45: 1\n",
      "Title:  AQUA\n",
      "Year:  2022\n",
      "Quarter:  1\n",
      "Link:  https://classic.set.or.th/set/newsdetails.do?language=en&country=US&newsId=16528296579690\n",
      "Published:  Wed, 18 May 2022 09:13:13 +0700\n",
      "\n",
      "----------------------------------\n",
      "\n",
      "F45: 2\n",
      "Title:  FTI\n",
      "Year:  2022\n",
      "Quarter:  1\n",
      "Link:  https://classic.set.or.th/set/newsdetails.do?language=en&country=US&newsId=16528296579210\n",
      "Published:  Wed, 18 May 2022 09:06:16 +0700\n",
      "\n",
      "----------------------------------\n",
      "\n",
      "F45: 3\n",
      "Title:  FTI\n",
      "Year:  2022\n",
      "Quarter:  y\n",
      "Link:  https://classic.set.or.th/set/newsdetails.do?language=en&country=US&newsId=16528296579180\n",
      "Published:  Wed, 18 May 2022 09:05:59 +0700\n",
      "\n",
      "----------------------------------\n",
      "\n",
      "F45: 4\n",
      "Title:  FTI\n",
      "Year:  2022\n",
      "Quarter:  1\n",
      "Link:  https://classic.set.or.th/set/newsdetails.do?language=en&country=US&newsId=16528296578190\n",
      "Published:  Wed, 18 May 2022 08:50:29 +0700\n",
      "\n",
      "----------------------------------\n",
      "\n",
      "F45: 5\n",
      "Title:  CEN\n",
      "Year:  2022\n",
      "Quarter:  1\n",
      "Link:  https://classic.set.or.th/set/newsdetails.do?language=en&country=US&newsId=16528296577880\n",
      "Published:  Wed, 18 May 2022 08:43:12 +0700\n",
      "\n",
      "----------------------------------\n",
      "\n",
      "F45: 6\n",
      "Title:  BYD\n",
      "Year:  2022\n",
      "Quarter:  1\n",
      "Link:  https://classic.set.or.th/set/newsdetails.do?language=en&country=US&newsId=16528296577640\n",
      "Published:  Wed, 18 May 2022 08:39:17 +0700\n",
      "\n",
      "----------------------------------\n",
      "\n",
      "F45: 7\n",
      "Title:  KKC\n",
      "Year:  2022\n",
      "Quarter:  1\n",
      "Link:  https://classic.set.or.th/set/newsdetails.do?language=en&country=US&newsId=16528296577540\n",
      "Published:  Wed, 18 May 2022 08:38:04 +0700\n",
      "\n",
      "----------------------------------\n",
      "\n",
      "F45: 8\n",
      "Title:  NCL\n",
      "Year:  2022\n",
      "Quarter:  1\n",
      "Link:  https://classic.set.or.th/set/newsdetails.do?language=en&country=US&newsId=16528296576490\n",
      "Published:  Wed, 18 May 2022 08:26:32 +0700\n",
      "\n",
      "----------------------------------\n",
      "\n",
      "F45: 9\n",
      "Title:  TSR\n",
      "Year:  2022\n",
      "Quarter:  1\n",
      "Link:  https://classic.set.or.th/set/newsdetails.do?language=en&country=US&newsId=16528296575700\n",
      "Published:  Wed, 18 May 2022 08:15:08 +0700\n",
      "\n",
      "----------------------------------\n",
      "\n",
      "F45: 10\n",
      "Title:  JCK\n",
      "Year:  2022\n",
      "Quarter:  1\n",
      "Link:  https://classic.set.or.th/set/newsdetails.do?language=en&country=US&newsId=16528296574630\n",
      "Published:  Wed, 18 May 2022 07:56:17 +0700\n",
      "\n",
      "----------------------------------\n",
      "\n",
      "F45: 11\n",
      "Title:  KKC\n",
      "Year:  2022\n",
      "Quarter:  y\n",
      "Link:  https://classic.set.or.th/set/newsdetails.do?language=en&country=US&newsId=16528296574330\n",
      "Published:  Wed, 18 May 2022 07:54:18 +0700\n",
      "\n",
      "----------------------------------\n",
      "\n",
      "F45: 12\n",
      "Title:  DIMET\n",
      "Year:  2022\n",
      "Quarter:  1\n",
      "Link:  https://classic.set.or.th/set/newsdetails.do?language=en&country=US&newsId=16528296573720\n",
      "Published:  Wed, 18 May 2022 07:49:38 +0700\n",
      "\n",
      "----------------------------------\n",
      "\n",
      "F45: 13\n",
      "Title:  LHSC\n",
      "Year:  2022\n",
      "Quarter:  1\n",
      "Link:  https://classic.set.or.th/set/newsdetails.do?language=en&country=US&newsId=16528296573420\n",
      "Published:  Wed, 18 May 2022 07:02:22 +0700\n"
     ]
    }
   ],
   "source": [
    "f45_items = []\n",
    "\n",
    "for x in range(f45_number):\n",
    "    f45_content = rss_source.entries[x]\n",
    "    f45_item = {}\n",
    "    \n",
    "    print(\"\\n----------------------------------\\n\")\n",
    "    \n",
    "    print(\"F45: \" + str(x))\n",
    "    title_ary = f45_content.title.partition(' ')\n",
    "    f45_item['name'] = title_ary[0].strip() \n",
    "    print(\"Title: \", f45_item['name'])  \n",
    "    f45_item['year'] = year\n",
    "    print(\"Year: \", f45_item['year'])      \n",
    "    qtr_ary = title_ary[2].partition(' (F45)')\n",
    "    f45_item['quarter'] = qtr_ary[0][-1]    \n",
    "    print(\"Quarter: \", f45_item['quarter'])    \n",
    "    f45_item['link'] = f45_content.link\n",
    "    print(\"Link: \", f45_item['link'])\n",
    "    f45_item['published'] = f45_content.published\n",
    "    print(\"Published: \", f45_item['published'])  \n",
    "    f45_items.append(f45_item)"
   ]
  },
  {
   "cell_type": "code",
   "execution_count": 5,
   "metadata": {},
   "outputs": [
    {
     "data": {
      "text/html": [
       "<div>\n",
       "<style scoped>\n",
       "    .dataframe tbody tr th:only-of-type {\n",
       "        vertical-align: middle;\n",
       "    }\n",
       "\n",
       "    .dataframe tbody tr th {\n",
       "        vertical-align: top;\n",
       "    }\n",
       "\n",
       "    .dataframe thead th {\n",
       "        text-align: right;\n",
       "    }\n",
       "</style>\n",
       "<table border=\"1\" class=\"dataframe\">\n",
       "  <thead>\n",
       "    <tr style=\"text-align: right;\">\n",
       "      <th></th>\n",
       "      <th>name</th>\n",
       "      <th>year</th>\n",
       "      <th>quarter</th>\n",
       "      <th>published</th>\n",
       "    </tr>\n",
       "  </thead>\n",
       "  <tbody>\n",
       "    <tr>\n",
       "      <th>0</th>\n",
       "      <td>COMAN</td>\n",
       "      <td>2022</td>\n",
       "      <td>1</td>\n",
       "      <td>Wed, 18 May 2022 17:49:00 +0700</td>\n",
       "    </tr>\n",
       "    <tr>\n",
       "      <th>1</th>\n",
       "      <td>AQUA</td>\n",
       "      <td>2022</td>\n",
       "      <td>1</td>\n",
       "      <td>Wed, 18 May 2022 09:13:13 +0700</td>\n",
       "    </tr>\n",
       "    <tr>\n",
       "      <th>2</th>\n",
       "      <td>FTI</td>\n",
       "      <td>2022</td>\n",
       "      <td>1</td>\n",
       "      <td>Wed, 18 May 2022 09:06:16 +0700</td>\n",
       "    </tr>\n",
       "    <tr>\n",
       "      <th>3</th>\n",
       "      <td>FTI</td>\n",
       "      <td>2022</td>\n",
       "      <td>y</td>\n",
       "      <td>Wed, 18 May 2022 09:05:59 +0700</td>\n",
       "    </tr>\n",
       "    <tr>\n",
       "      <th>4</th>\n",
       "      <td>FTI</td>\n",
       "      <td>2022</td>\n",
       "      <td>1</td>\n",
       "      <td>Wed, 18 May 2022 08:50:29 +0700</td>\n",
       "    </tr>\n",
       "    <tr>\n",
       "      <th>5</th>\n",
       "      <td>CEN</td>\n",
       "      <td>2022</td>\n",
       "      <td>1</td>\n",
       "      <td>Wed, 18 May 2022 08:43:12 +0700</td>\n",
       "    </tr>\n",
       "    <tr>\n",
       "      <th>6</th>\n",
       "      <td>BYD</td>\n",
       "      <td>2022</td>\n",
       "      <td>1</td>\n",
       "      <td>Wed, 18 May 2022 08:39:17 +0700</td>\n",
       "    </tr>\n",
       "    <tr>\n",
       "      <th>7</th>\n",
       "      <td>KKC</td>\n",
       "      <td>2022</td>\n",
       "      <td>1</td>\n",
       "      <td>Wed, 18 May 2022 08:38:04 +0700</td>\n",
       "    </tr>\n",
       "    <tr>\n",
       "      <th>8</th>\n",
       "      <td>NCL</td>\n",
       "      <td>2022</td>\n",
       "      <td>1</td>\n",
       "      <td>Wed, 18 May 2022 08:26:32 +0700</td>\n",
       "    </tr>\n",
       "    <tr>\n",
       "      <th>9</th>\n",
       "      <td>TSR</td>\n",
       "      <td>2022</td>\n",
       "      <td>1</td>\n",
       "      <td>Wed, 18 May 2022 08:15:08 +0700</td>\n",
       "    </tr>\n",
       "    <tr>\n",
       "      <th>10</th>\n",
       "      <td>JCK</td>\n",
       "      <td>2022</td>\n",
       "      <td>1</td>\n",
       "      <td>Wed, 18 May 2022 07:56:17 +0700</td>\n",
       "    </tr>\n",
       "    <tr>\n",
       "      <th>11</th>\n",
       "      <td>KKC</td>\n",
       "      <td>2022</td>\n",
       "      <td>y</td>\n",
       "      <td>Wed, 18 May 2022 07:54:18 +0700</td>\n",
       "    </tr>\n",
       "    <tr>\n",
       "      <th>12</th>\n",
       "      <td>DIMET</td>\n",
       "      <td>2022</td>\n",
       "      <td>1</td>\n",
       "      <td>Wed, 18 May 2022 07:49:38 +0700</td>\n",
       "    </tr>\n",
       "    <tr>\n",
       "      <th>13</th>\n",
       "      <td>LHSC</td>\n",
       "      <td>2022</td>\n",
       "      <td>1</td>\n",
       "      <td>Wed, 18 May 2022 07:02:22 +0700</td>\n",
       "    </tr>\n",
       "  </tbody>\n",
       "</table>\n",
       "</div>"
      ],
      "text/plain": [
       "     name  year quarter                        published\n",
       "0   COMAN  2022       1  Wed, 18 May 2022 17:49:00 +0700\n",
       "1    AQUA  2022       1  Wed, 18 May 2022 09:13:13 +0700\n",
       "2     FTI  2022       1  Wed, 18 May 2022 09:06:16 +0700\n",
       "3     FTI  2022       y  Wed, 18 May 2022 09:05:59 +0700\n",
       "4     FTI  2022       1  Wed, 18 May 2022 08:50:29 +0700\n",
       "5     CEN  2022       1  Wed, 18 May 2022 08:43:12 +0700\n",
       "6     BYD  2022       1  Wed, 18 May 2022 08:39:17 +0700\n",
       "7     KKC  2022       1  Wed, 18 May 2022 08:38:04 +0700\n",
       "8     NCL  2022       1  Wed, 18 May 2022 08:26:32 +0700\n",
       "9     TSR  2022       1  Wed, 18 May 2022 08:15:08 +0700\n",
       "10    JCK  2022       1  Wed, 18 May 2022 07:56:17 +0700\n",
       "11    KKC  2022       y  Wed, 18 May 2022 07:54:18 +0700\n",
       "12  DIMET  2022       1  Wed, 18 May 2022 07:49:38 +0700\n",
       "13   LHSC  2022       1  Wed, 18 May 2022 07:02:22 +0700"
      ]
     },
     "execution_count": 5,
     "metadata": {},
     "output_type": "execute_result"
    }
   ],
   "source": [
    "df = pd.DataFrame(f45_items)\n",
    "df[['name','year','quarter','published']]"
   ]
  },
  {
   "cell_type": "code",
   "execution_count": 6,
   "metadata": {},
   "outputs": [
    {
     "data": {
      "text/plain": [
       "name         object\n",
       "year          int64\n",
       "quarter      object\n",
       "link         object\n",
       "published    object\n",
       "dtype: object"
      ]
     },
     "execution_count": 6,
     "metadata": {},
     "output_type": "execute_result"
    }
   ],
   "source": [
    "df.dtypes"
   ]
  },
  {
   "cell_type": "code",
   "execution_count": 9,
   "metadata": {
    "scrolled": true
   },
   "outputs": [
    {
     "data": {
      "text/html": [
       "<div>\n",
       "<style scoped>\n",
       "    .dataframe tbody tr th:only-of-type {\n",
       "        vertical-align: middle;\n",
       "    }\n",
       "\n",
       "    .dataframe tbody tr th {\n",
       "        vertical-align: top;\n",
       "    }\n",
       "\n",
       "    .dataframe thead th {\n",
       "        text-align: right;\n",
       "    }\n",
       "</style>\n",
       "<table border=\"1\" class=\"dataframe\">\n",
       "  <thead>\n",
       "    <tr style=\"text-align: right;\">\n",
       "      <th></th>\n",
       "      <th></th>\n",
       "      <th>name</th>\n",
       "      <th>link</th>\n",
       "      <th>published</th>\n",
       "    </tr>\n",
       "    <tr>\n",
       "      <th>year</th>\n",
       "      <th>quarter</th>\n",
       "      <th></th>\n",
       "      <th></th>\n",
       "      <th></th>\n",
       "    </tr>\n",
       "  </thead>\n",
       "  <tbody>\n",
       "    <tr>\n",
       "      <th>2022</th>\n",
       "      <th>1</th>\n",
       "      <td>12</td>\n",
       "      <td>12</td>\n",
       "      <td>12</td>\n",
       "    </tr>\n",
       "    <tr>\n",
       "      <th>2021</th>\n",
       "      <th>4</th>\n",
       "      <td>2</td>\n",
       "      <td>2</td>\n",
       "      <td>2</td>\n",
       "    </tr>\n",
       "  </tbody>\n",
       "</table>\n",
       "</div>"
      ],
      "text/plain": [
       "              name  link  published\n",
       "year quarter                       \n",
       "2022 1          12    12         12\n",
       "2021 4           2     2          2"
      ]
     },
     "execution_count": 9,
     "metadata": {},
     "output_type": "execute_result"
    }
   ],
   "source": [
    "df.loc[(df.quarter == 'y') ,['year','quarter']] = ['2021','4']\n",
    "df.groupby(['year','quarter']).count()"
   ]
  },
  {
   "cell_type": "code",
   "execution_count": 10,
   "metadata": {},
   "outputs": [
    {
     "data": {
      "text/html": [
       "<div>\n",
       "<style scoped>\n",
       "    .dataframe tbody tr th:only-of-type {\n",
       "        vertical-align: middle;\n",
       "    }\n",
       "\n",
       "    .dataframe tbody tr th {\n",
       "        vertical-align: top;\n",
       "    }\n",
       "\n",
       "    .dataframe thead th {\n",
       "        text-align: right;\n",
       "    }\n",
       "</style>\n",
       "<table border=\"1\" class=\"dataframe\">\n",
       "  <thead>\n",
       "    <tr style=\"text-align: right;\">\n",
       "      <th></th>\n",
       "      <th></th>\n",
       "      <th>name</th>\n",
       "      <th>link</th>\n",
       "      <th>published</th>\n",
       "    </tr>\n",
       "    <tr>\n",
       "      <th>year</th>\n",
       "      <th>quarter</th>\n",
       "      <th></th>\n",
       "      <th></th>\n",
       "      <th></th>\n",
       "    </tr>\n",
       "  </thead>\n",
       "  <tbody>\n",
       "    <tr>\n",
       "      <th>2022</th>\n",
       "      <th>1</th>\n",
       "      <td>12</td>\n",
       "      <td>12</td>\n",
       "      <td>12</td>\n",
       "    </tr>\n",
       "    <tr>\n",
       "      <th>2021</th>\n",
       "      <th>4</th>\n",
       "      <td>2</td>\n",
       "      <td>2</td>\n",
       "      <td>2</td>\n",
       "    </tr>\n",
       "  </tbody>\n",
       "</table>\n",
       "</div>"
      ],
      "text/plain": [
       "              name  link  published\n",
       "year quarter                       \n",
       "2022 1          12    12         12\n",
       "2021 4           2     2          2"
      ]
     },
     "execution_count": 10,
     "metadata": {},
     "output_type": "execute_result"
    }
   ],
   "source": [
    "df.quarter = df.quarter.astype(int)\n",
    "df.groupby(['year','quarter']).count()"
   ]
  },
  {
   "cell_type": "code",
   "execution_count": 11,
   "metadata": {},
   "outputs": [
    {
     "data": {
      "text/plain": [
       "(14, 5)"
      ]
     },
     "execution_count": 11,
     "metadata": {},
     "output_type": "execute_result"
    }
   ],
   "source": [
    "df.shape"
   ]
  },
  {
   "cell_type": "code",
   "execution_count": 12,
   "metadata": {},
   "outputs": [
    {
     "data": {
      "text/plain": [
       "(11, 5)"
      ]
     },
     "execution_count": 12,
     "metadata": {},
     "output_type": "execute_result"
    }
   ],
   "source": [
    "### First equals to latest published pdf file\n",
    "df = df.drop_duplicates(subset='name', keep='first')\n",
    "df.shape"
   ]
  },
  {
   "cell_type": "code",
   "execution_count": 13,
   "metadata": {},
   "outputs": [],
   "source": [
    "file_name = 'F45-RAW-' + mmdd_str + '.csv'\n",
    "raw_file = raw_path + file_name\n",
    "output_file = csv_path + file_name\n",
    "box_file = box_path + file_name\n",
    "one_file = one_path + file_name\n",
    "\n",
    "df[['name','year','quarter','published']].to_csv(output_file, header=True, index=False, sep=',')\n",
    "df[['name','year','quarter','published']].to_csv(box_file,    header=True, index=False, sep=',')\n",
    "df[['name','year','quarter','published']].to_csv(one_file,    header=True, index=False, sep=',')\n",
    "df[['name','year','quarter','published']].to_csv(raw_file,    header=True, index=False, sep=',')"
   ]
  },
  {
   "cell_type": "code",
   "execution_count": 14,
   "metadata": {},
   "outputs": [
    {
     "data": {
      "text/plain": [
       "405"
      ]
     },
     "execution_count": 14,
     "metadata": {},
     "output_type": "execute_result"
    }
   ],
   "source": [
    "sql = '''\n",
    "SELECT *\n",
    "FROM exempts\n",
    "ORDER BY name'''\n",
    "df_exempts = pd.read_sql(sql, conlt)\n",
    "df_exempts.shape[0]"
   ]
  },
  {
   "cell_type": "code",
   "execution_count": 15,
   "metadata": {},
   "outputs": [
    {
     "data": {
      "text/plain": [
       "(409, 7)"
      ]
     },
     "execution_count": 15,
     "metadata": {},
     "output_type": "execute_result"
    }
   ],
   "source": [
    "df_merge = pd.merge(df, df_exempts, on='name', how='outer', indicator=True)\n",
    "df_merge.shape"
   ]
  },
  {
   "cell_type": "markdown",
   "metadata": {},
   "source": [
    "### Tickers that won't be input"
   ]
  },
  {
   "cell_type": "code",
   "execution_count": 16,
   "metadata": {},
   "outputs": [
    {
     "data": {
      "text/html": [
       "<div>\n",
       "<style scoped>\n",
       "    .dataframe tbody tr th:only-of-type {\n",
       "        vertical-align: middle;\n",
       "    }\n",
       "\n",
       "    .dataframe tbody tr th {\n",
       "        vertical-align: top;\n",
       "    }\n",
       "\n",
       "    .dataframe thead th {\n",
       "        text-align: right;\n",
       "    }\n",
       "</style>\n",
       "<table border=\"1\" class=\"dataframe\">\n",
       "  <thead>\n",
       "    <tr style=\"text-align: right;\">\n",
       "      <th></th>\n",
       "      <th>name</th>\n",
       "      <th>year</th>\n",
       "      <th>quarter</th>\n",
       "      <th>published</th>\n",
       "      <th>link</th>\n",
       "    </tr>\n",
       "  </thead>\n",
       "  <tbody>\n",
       "    <tr>\n",
       "      <th>0</th>\n",
       "      <td>COMAN</td>\n",
       "      <td>2022</td>\n",
       "      <td>1</td>\n",
       "      <td>Wed, 18 May 2022 17:49:00 +0700</td>\n",
       "      <td>https://classic.set.or.th/set/newsdetails.do?language=en&amp;country=US&amp;newsId=16528296599270</td>\n",
       "    </tr>\n",
       "    <tr>\n",
       "      <th>1</th>\n",
       "      <td>AQUA</td>\n",
       "      <td>2022</td>\n",
       "      <td>1</td>\n",
       "      <td>Wed, 18 May 2022 09:13:13 +0700</td>\n",
       "      <td>https://classic.set.or.th/set/newsdetails.do?language=en&amp;country=US&amp;newsId=16528296579690</td>\n",
       "    </tr>\n",
       "    <tr>\n",
       "      <th>3</th>\n",
       "      <td>CEN</td>\n",
       "      <td>2022</td>\n",
       "      <td>1</td>\n",
       "      <td>Wed, 18 May 2022 08:43:12 +0700</td>\n",
       "      <td>https://classic.set.or.th/set/newsdetails.do?language=en&amp;country=US&amp;newsId=16528296577880</td>\n",
       "    </tr>\n",
       "    <tr>\n",
       "      <th>5</th>\n",
       "      <td>KKC</td>\n",
       "      <td>2022</td>\n",
       "      <td>1</td>\n",
       "      <td>Wed, 18 May 2022 08:38:04 +0700</td>\n",
       "      <td>https://classic.set.or.th/set/newsdetails.do?language=en&amp;country=US&amp;newsId=16528296577540</td>\n",
       "    </tr>\n",
       "    <tr>\n",
       "      <th>6</th>\n",
       "      <td>NCL</td>\n",
       "      <td>2022</td>\n",
       "      <td>1</td>\n",
       "      <td>Wed, 18 May 2022 08:26:32 +0700</td>\n",
       "      <td>https://classic.set.or.th/set/newsdetails.do?language=en&amp;country=US&amp;newsId=16528296576490</td>\n",
       "    </tr>\n",
       "    <tr>\n",
       "      <th>7</th>\n",
       "      <td>TSR</td>\n",
       "      <td>2022</td>\n",
       "      <td>1</td>\n",
       "      <td>Wed, 18 May 2022 08:15:08 +0700</td>\n",
       "      <td>https://classic.set.or.th/set/newsdetails.do?language=en&amp;country=US&amp;newsId=16528296575700</td>\n",
       "    </tr>\n",
       "    <tr>\n",
       "      <th>10</th>\n",
       "      <td>LHSC</td>\n",
       "      <td>2022</td>\n",
       "      <td>1</td>\n",
       "      <td>Wed, 18 May 2022 07:02:22 +0700</td>\n",
       "      <td>https://classic.set.or.th/set/newsdetails.do?language=en&amp;country=US&amp;newsId=16528296573420</td>\n",
       "    </tr>\n",
       "  </tbody>\n",
       "</table>\n",
       "</div>"
      ],
      "text/plain": [
       "     name  year  quarter                        published  \\\n",
       "0   COMAN  2022        1  Wed, 18 May 2022 17:49:00 +0700   \n",
       "1    AQUA  2022        1  Wed, 18 May 2022 09:13:13 +0700   \n",
       "3     CEN  2022        1  Wed, 18 May 2022 08:43:12 +0700   \n",
       "5     KKC  2022        1  Wed, 18 May 2022 08:38:04 +0700   \n",
       "6     NCL  2022        1  Wed, 18 May 2022 08:26:32 +0700   \n",
       "7     TSR  2022        1  Wed, 18 May 2022 08:15:08 +0700   \n",
       "10   LHSC  2022        1  Wed, 18 May 2022 07:02:22 +0700   \n",
       "\n",
       "                                                                                         link  \n",
       "0   https://classic.set.or.th/set/newsdetails.do?language=en&country=US&newsId=16528296599270  \n",
       "1   https://classic.set.or.th/set/newsdetails.do?language=en&country=US&newsId=16528296579690  \n",
       "3   https://classic.set.or.th/set/newsdetails.do?language=en&country=US&newsId=16528296577880  \n",
       "5   https://classic.set.or.th/set/newsdetails.do?language=en&country=US&newsId=16528296577540  \n",
       "6   https://classic.set.or.th/set/newsdetails.do?language=en&country=US&newsId=16528296576490  \n",
       "7   https://classic.set.or.th/set/newsdetails.do?language=en&country=US&newsId=16528296575700  \n",
       "10  https://classic.set.or.th/set/newsdetails.do?language=en&country=US&newsId=16528296573420  "
      ]
     },
     "execution_count": 16,
     "metadata": {},
     "output_type": "execute_result"
    }
   ],
   "source": [
    "in_exempts = df_merge.loc[\n",
    "    df_merge['_merge'] == 'both',\n",
    "    ['name','year','quarter','published','link']\n",
    "    \n",
    "]\n",
    "in_exempts.year = in_exempts.year.astype(int)\n",
    "in_exempts.quarter = in_exempts.quarter.astype(int)\n",
    "in_exempts.sort_values(by=['published'],ascending=[False])"
   ]
  },
  {
   "cell_type": "code",
   "execution_count": 17,
   "metadata": {},
   "outputs": [
    {
     "data": {
      "text/plain": [
       "7"
      ]
     },
     "execution_count": 17,
     "metadata": {},
     "output_type": "execute_result"
    }
   ],
   "source": [
    "in_exempts.sort_values(by=['published'],ascending=[False]).shape[0]"
   ]
  },
  {
   "cell_type": "code",
   "execution_count": 18,
   "metadata": {},
   "outputs": [
    {
     "data": {
      "text/html": [
       "<div>\n",
       "<style scoped>\n",
       "    .dataframe tbody tr th:only-of-type {\n",
       "        vertical-align: middle;\n",
       "    }\n",
       "\n",
       "    .dataframe tbody tr th {\n",
       "        vertical-align: top;\n",
       "    }\n",
       "\n",
       "    .dataframe thead th {\n",
       "        text-align: right;\n",
       "    }\n",
       "</style>\n",
       "<table border=\"1\" class=\"dataframe\">\n",
       "  <thead>\n",
       "    <tr style=\"text-align: right;\">\n",
       "      <th></th>\n",
       "      <th>name</th>\n",
       "      <th>year</th>\n",
       "      <th>quarter</th>\n",
       "      <th>published</th>\n",
       "      <th>link</th>\n",
       "    </tr>\n",
       "  </thead>\n",
       "  <tbody>\n",
       "    <tr>\n",
       "      <th>2</th>\n",
       "      <td>FTI</td>\n",
       "      <td>2022</td>\n",
       "      <td>1</td>\n",
       "      <td>Wed, 18 May 2022 09:06:16 +0700</td>\n",
       "      <td>https://classic.set.or.th/set/newsdetails.do?language=en&amp;country=US&amp;newsId=16528296579210</td>\n",
       "    </tr>\n",
       "    <tr>\n",
       "      <th>4</th>\n",
       "      <td>BYD</td>\n",
       "      <td>2022</td>\n",
       "      <td>1</td>\n",
       "      <td>Wed, 18 May 2022 08:39:17 +0700</td>\n",
       "      <td>https://classic.set.or.th/set/newsdetails.do?language=en&amp;country=US&amp;newsId=16528296577640</td>\n",
       "    </tr>\n",
       "    <tr>\n",
       "      <th>8</th>\n",
       "      <td>JCK</td>\n",
       "      <td>2022</td>\n",
       "      <td>1</td>\n",
       "      <td>Wed, 18 May 2022 07:56:17 +0700</td>\n",
       "      <td>https://classic.set.or.th/set/newsdetails.do?language=en&amp;country=US&amp;newsId=16528296574630</td>\n",
       "    </tr>\n",
       "    <tr>\n",
       "      <th>9</th>\n",
       "      <td>DIMET</td>\n",
       "      <td>2022</td>\n",
       "      <td>1</td>\n",
       "      <td>Wed, 18 May 2022 07:49:38 +0700</td>\n",
       "      <td>https://classic.set.or.th/set/newsdetails.do?language=en&amp;country=US&amp;newsId=16528296573720</td>\n",
       "    </tr>\n",
       "  </tbody>\n",
       "</table>\n",
       "</div>"
      ],
      "text/plain": [
       "    name  year  quarter                        published  \\\n",
       "2    FTI  2022        1  Wed, 18 May 2022 09:06:16 +0700   \n",
       "4    BYD  2022        1  Wed, 18 May 2022 08:39:17 +0700   \n",
       "8    JCK  2022        1  Wed, 18 May 2022 07:56:17 +0700   \n",
       "9  DIMET  2022        1  Wed, 18 May 2022 07:49:38 +0700   \n",
       "\n",
       "                                                                                        link  \n",
       "2  https://classic.set.or.th/set/newsdetails.do?language=en&country=US&newsId=16528296579210  \n",
       "4  https://classic.set.or.th/set/newsdetails.do?language=en&country=US&newsId=16528296577640  \n",
       "8  https://classic.set.or.th/set/newsdetails.do?language=en&country=US&newsId=16528296574630  \n",
       "9  https://classic.set.or.th/set/newsdetails.do?language=en&country=US&newsId=16528296573720  "
      ]
     },
     "execution_count": 18,
     "metadata": {},
     "output_type": "execute_result"
    }
   ],
   "source": [
    "df_out = df_merge.loc[\n",
    "    df_merge['_merge'] == 'left_only',\n",
    "    ['name','year','quarter','published','link']\n",
    "]\n",
    "df_out.year = df_out.year.astype(int)\n",
    "df_out.quarter = df_out.quarter.astype(int)\n",
    "df_out.sort_values(by=['published'],ascending=[False])"
   ]
  },
  {
   "cell_type": "code",
   "execution_count": 19,
   "metadata": {},
   "outputs": [
    {
     "data": {
      "text/plain": [
       "4"
      ]
     },
     "execution_count": 19,
     "metadata": {},
     "output_type": "execute_result"
    }
   ],
   "source": [
    "#df_out = df_out.drop(df_out.index[df_out['name'] == \"SCC\"])\n",
    "df_out.shape[0]"
   ]
  },
  {
   "cell_type": "code",
   "execution_count": 20,
   "metadata": {},
   "outputs": [
    {
     "data": {
      "text/plain": [
       "(403, 9)"
      ]
     },
     "execution_count": 20,
     "metadata": {},
     "output_type": "execute_result"
    }
   ],
   "source": [
    "sql = '''\n",
    "SELECT *\n",
    "FROM tickers\n",
    "ORDER BY name'''\n",
    "df_tickers = pd.read_sql(sql, conlt)\n",
    "df_tickers.shape"
   ]
  },
  {
   "cell_type": "code",
   "execution_count": 21,
   "metadata": {},
   "outputs": [
    {
     "data": {
      "text/plain": [
       "(407, 14)"
      ]
     },
     "execution_count": 21,
     "metadata": {},
     "output_type": "execute_result"
    }
   ],
   "source": [
    "df_merge2 = pd.merge(df_out, df_tickers, on='name', how='outer', indicator=True)\n",
    "df_merge2.shape"
   ]
  },
  {
   "cell_type": "markdown",
   "metadata": {},
   "source": [
    "### There are no ticker records"
   ]
  },
  {
   "cell_type": "code",
   "execution_count": 22,
   "metadata": {},
   "outputs": [
    {
     "data": {
      "text/html": [
       "<div>\n",
       "<style scoped>\n",
       "    .dataframe tbody tr th:only-of-type {\n",
       "        vertical-align: middle;\n",
       "    }\n",
       "\n",
       "    .dataframe tbody tr th {\n",
       "        vertical-align: top;\n",
       "    }\n",
       "\n",
       "    .dataframe thead th {\n",
       "        text-align: right;\n",
       "    }\n",
       "</style>\n",
       "<table border=\"1\" class=\"dataframe\">\n",
       "  <thead>\n",
       "    <tr style=\"text-align: right;\">\n",
       "      <th></th>\n",
       "      <th>name</th>\n",
       "      <th>year</th>\n",
       "      <th>quarter</th>\n",
       "      <th>published</th>\n",
       "      <th>link</th>\n",
       "    </tr>\n",
       "  </thead>\n",
       "  <tbody>\n",
       "    <tr>\n",
       "      <th>0</th>\n",
       "      <td>FTI</td>\n",
       "      <td>2022.0</td>\n",
       "      <td>1.0</td>\n",
       "      <td>Wed, 18 May 2022 09:06:16 +0700</td>\n",
       "      <td>https://classic.set.or.th/set/newsdetails.do?language=en&amp;country=US&amp;newsId=16528296579210</td>\n",
       "    </tr>\n",
       "    <tr>\n",
       "      <th>1</th>\n",
       "      <td>BYD</td>\n",
       "      <td>2022.0</td>\n",
       "      <td>1.0</td>\n",
       "      <td>Wed, 18 May 2022 08:39:17 +0700</td>\n",
       "      <td>https://classic.set.or.th/set/newsdetails.do?language=en&amp;country=US&amp;newsId=16528296577640</td>\n",
       "    </tr>\n",
       "    <tr>\n",
       "      <th>2</th>\n",
       "      <td>JCK</td>\n",
       "      <td>2022.0</td>\n",
       "      <td>1.0</td>\n",
       "      <td>Wed, 18 May 2022 07:56:17 +0700</td>\n",
       "      <td>https://classic.set.or.th/set/newsdetails.do?language=en&amp;country=US&amp;newsId=16528296574630</td>\n",
       "    </tr>\n",
       "    <tr>\n",
       "      <th>3</th>\n",
       "      <td>DIMET</td>\n",
       "      <td>2022.0</td>\n",
       "      <td>1.0</td>\n",
       "      <td>Wed, 18 May 2022 07:49:38 +0700</td>\n",
       "      <td>https://classic.set.or.th/set/newsdetails.do?language=en&amp;country=US&amp;newsId=16528296573720</td>\n",
       "    </tr>\n",
       "  </tbody>\n",
       "</table>\n",
       "</div>"
      ],
      "text/plain": [
       "    name    year  quarter                        published  \\\n",
       "0    FTI  2022.0      1.0  Wed, 18 May 2022 09:06:16 +0700   \n",
       "1    BYD  2022.0      1.0  Wed, 18 May 2022 08:39:17 +0700   \n",
       "2    JCK  2022.0      1.0  Wed, 18 May 2022 07:56:17 +0700   \n",
       "3  DIMET  2022.0      1.0  Wed, 18 May 2022 07:49:38 +0700   \n",
       "\n",
       "                                                                                        link  \n",
       "0  https://classic.set.or.th/set/newsdetails.do?language=en&country=US&newsId=16528296579210  \n",
       "1  https://classic.set.or.th/set/newsdetails.do?language=en&country=US&newsId=16528296577640  \n",
       "2  https://classic.set.or.th/set/newsdetails.do?language=en&country=US&newsId=16528296574630  \n",
       "3  https://classic.set.or.th/set/newsdetails.do?language=en&country=US&newsId=16528296573720  "
      ]
     },
     "execution_count": 22,
     "metadata": {},
     "output_type": "execute_result"
    }
   ],
   "source": [
    "df_merge2.loc[\n",
    "    df_merge2['_merge'] == 'left_only',\n",
    "    ['name','year','quarter','published','link']\n",
    "]"
   ]
  },
  {
   "cell_type": "code",
   "execution_count": 23,
   "metadata": {},
   "outputs": [
    {
     "data": {
      "text/plain": [
       "(4, 7)"
      ]
     },
     "execution_count": 23,
     "metadata": {},
     "output_type": "execute_result"
    }
   ],
   "source": [
    "df_merge2.loc[\n",
    "    df_merge2['_merge'] == 'left_only',\n",
    "    ['name','year','quarter','published','link','id','market']\n",
    "].shape"
   ]
  },
  {
   "cell_type": "markdown",
   "metadata": {},
   "source": [
    "### There are ticker records"
   ]
  },
  {
   "cell_type": "code",
   "execution_count": 24,
   "metadata": {},
   "outputs": [
    {
     "data": {
      "text/html": [
       "<div>\n",
       "<style scoped>\n",
       "    .dataframe tbody tr th:only-of-type {\n",
       "        vertical-align: middle;\n",
       "    }\n",
       "\n",
       "    .dataframe tbody tr th {\n",
       "        vertical-align: top;\n",
       "    }\n",
       "\n",
       "    .dataframe thead th {\n",
       "        text-align: right;\n",
       "    }\n",
       "</style>\n",
       "<table border=\"1\" class=\"dataframe\">\n",
       "  <thead>\n",
       "    <tr style=\"text-align: right;\">\n",
       "      <th></th>\n",
       "      <th>name</th>\n",
       "      <th>year</th>\n",
       "      <th>quarter</th>\n",
       "      <th>published</th>\n",
       "      <th>link</th>\n",
       "      <th>id</th>\n",
       "      <th>market</th>\n",
       "    </tr>\n",
       "  </thead>\n",
       "  <tbody>\n",
       "  </tbody>\n",
       "</table>\n",
       "</div>"
      ],
      "text/plain": [
       "Empty DataFrame\n",
       "Columns: [name, year, quarter, published, link, id, market]\n",
       "Index: []"
      ]
     },
     "execution_count": 24,
     "metadata": {},
     "output_type": "execute_result"
    }
   ],
   "source": [
    "df_out2 = df_merge2.loc[\n",
    "    df_merge2['_merge'] == 'both',\n",
    "    ['name','year','quarter','published','link','id','market']\n",
    "]\n",
    "df_out2"
   ]
  },
  {
   "cell_type": "code",
   "execution_count": 25,
   "metadata": {},
   "outputs": [
    {
     "data": {
      "text/plain": [
       "(0, 7)"
      ]
     },
     "execution_count": 25,
     "metadata": {},
     "output_type": "execute_result"
    }
   ],
   "source": [
    "df_out2 = df_out2[df_out2.year.notnull()]\n",
    "df_out2.shape"
   ]
  },
  {
   "cell_type": "code",
   "execution_count": 26,
   "metadata": {},
   "outputs": [
    {
     "data": {
      "text/plain": [
       "(0, 7)"
      ]
     },
     "execution_count": 26,
     "metadata": {},
     "output_type": "execute_result"
    }
   ],
   "source": [
    "df_out2['year'] = df_out2['year'].astype(int)\n",
    "df_out2['quarter'] = df_out2['quarter'].astype(int)\n",
    "df_out2.shape"
   ]
  },
  {
   "cell_type": "code",
   "execution_count": 27,
   "metadata": {},
   "outputs": [],
   "source": [
    "file_name = 'F45-CLEAN-' + mmdd_str + '.csv'\n",
    "clean_file = clean_path + file_name\n",
    "output_file = csv_path + file_name\n",
    "box_file = box_path + file_name\n",
    "one_file = one_path + file_name\n",
    "\n",
    "df_out2[['name','year','quarter','published','market']].sort_values(['published'],ascending=[False]).to_csv(output_file, header=True, index=False, sep=',')\n",
    "df_out2[['name','year','quarter','published','market']].sort_values(['published'],ascending=[False]).to_csv(clean_file, header=True, index=False, sep=',')\n",
    "df_out2[['name','year','quarter','published','market']].sort_values(['published'],ascending=[False]).to_csv(box_file, header=True, index=False, sep=',')\n",
    "df_out2[['name','year','quarter','published','market']].sort_values(['published'],ascending=[False]).to_csv(one_file, header=True, index=False, sep=',')"
   ]
  },
  {
   "cell_type": "code",
   "execution_count": 28,
   "metadata": {},
   "outputs": [
    {
     "data": {
      "text/plain": [
       "(218, 14)"
      ]
     },
     "execution_count": 28,
     "metadata": {},
     "output_type": "execute_result"
    }
   ],
   "source": [
    "sql = '''\n",
    "SELECT * \n",
    "FROM epss\n",
    "WHERE year = 2022'''\n",
    "df_epss = pd.read_sql(sql, conlt)\n",
    "df_epss.shape"
   ]
  },
  {
   "cell_type": "code",
   "execution_count": 59,
   "metadata": {},
   "outputs": [
    {
     "data": {
      "text/plain": [
       "(218, 19)"
      ]
     },
     "execution_count": 59,
     "metadata": {},
     "output_type": "execute_result"
    }
   ],
   "source": [
    "df_merge3 = pd.merge(df_out2, df_epss, on=['name','year','quarter'], how='outer', indicator=True)\n",
    "df_merge3.shape"
   ]
  },
  {
   "cell_type": "markdown",
   "metadata": {},
   "source": [
    "### Already input, display profit amt & eps to check with new F45"
   ]
  },
  {
   "cell_type": "code",
   "execution_count": 60,
   "metadata": {},
   "outputs": [
    {
     "data": {
      "text/html": [
       "<div>\n",
       "<style scoped>\n",
       "    .dataframe tbody tr th:only-of-type {\n",
       "        vertical-align: middle;\n",
       "    }\n",
       "\n",
       "    .dataframe tbody tr th {\n",
       "        vertical-align: top;\n",
       "    }\n",
       "\n",
       "    .dataframe thead th {\n",
       "        text-align: right;\n",
       "    }\n",
       "</style>\n",
       "<table border=\"1\" class=\"dataframe\">\n",
       "  <thead>\n",
       "    <tr style=\"text-align: right;\">\n",
       "      <th></th>\n",
       "      <th>name</th>\n",
       "      <th>year</th>\n",
       "      <th>quarter</th>\n",
       "      <th>published</th>\n",
       "      <th>link</th>\n",
       "      <th>id_x</th>\n",
       "      <th>market</th>\n",
       "      <th>id_y</th>\n",
       "      <th>q_amt</th>\n",
       "      <th>y_amt</th>\n",
       "      <th>aq_amt</th>\n",
       "      <th>ay_amt</th>\n",
       "      <th>q_eps</th>\n",
       "      <th>y_eps</th>\n",
       "      <th>aq_eps</th>\n",
       "      <th>ay_eps</th>\n",
       "      <th>ticker_id</th>\n",
       "      <th>publish_date</th>\n",
       "      <th>_merge</th>\n",
       "    </tr>\n",
       "  </thead>\n",
       "  <tbody>\n",
       "    <tr>\n",
       "      <th>3</th>\n",
       "      <td>ROJNA</td>\n",
       "      <td>2022</td>\n",
       "      <td>1</td>\n",
       "      <td>Tue, 17 May 2022 17:51:58 +0700</td>\n",
       "      <td>https://classic.set.or.th/set/newsdetails.do?language=en&amp;country=US&amp;newsId=16527404246480</td>\n",
       "      <td>404.0</td>\n",
       "      <td>sSET</td>\n",
       "      <td>21615.0</td>\n",
       "      <td>825096.0</td>\n",
       "      <td>293107.0</td>\n",
       "      <td>825096.0</td>\n",
       "      <td>293107.0</td>\n",
       "      <td>0.4080</td>\n",
       "      <td>0.1450</td>\n",
       "      <td>0.4080</td>\n",
       "      <td>0.1450</td>\n",
       "      <td>404.0</td>\n",
       "      <td>2022-05-17</td>\n",
       "      <td>both</td>\n",
       "    </tr>\n",
       "    <tr>\n",
       "      <th>6</th>\n",
       "      <td>STEC</td>\n",
       "      <td>2022</td>\n",
       "      <td>1</td>\n",
       "      <td>Tue, 17 May 2022 17:04:53 +0700</td>\n",
       "      <td>https://classic.set.or.th/set/newsdetails.do?language=en&amp;country=US&amp;newsId=16527404233840</td>\n",
       "      <td>484.0</td>\n",
       "      <td>SET100</td>\n",
       "      <td>21616.0</td>\n",
       "      <td>231740.0</td>\n",
       "      <td>1097487.0</td>\n",
       "      <td>231740.0</td>\n",
       "      <td>1097487.0</td>\n",
       "      <td>0.1500</td>\n",
       "      <td>0.1300</td>\n",
       "      <td>0.1500</td>\n",
       "      <td>0.1300</td>\n",
       "      <td>484.0</td>\n",
       "      <td>2022-05-17</td>\n",
       "      <td>both</td>\n",
       "    </tr>\n",
       "    <tr>\n",
       "      <th>12</th>\n",
       "      <td>LALIN</td>\n",
       "      <td>2022</td>\n",
       "      <td>1</td>\n",
       "      <td>Tue, 17 May 2022 08:53:36 +0700</td>\n",
       "      <td>https://classic.set.or.th/set/newsdetails.do?language=en&amp;country=US&amp;newsId=16527404191790</td>\n",
       "      <td>263.0</td>\n",
       "      <td>sSET</td>\n",
       "      <td>21613.0</td>\n",
       "      <td>327606.0</td>\n",
       "      <td>319712.0</td>\n",
       "      <td>327606.0</td>\n",
       "      <td>319712.0</td>\n",
       "      <td>0.3500</td>\n",
       "      <td>0.3500</td>\n",
       "      <td>0.3500</td>\n",
       "      <td>0.3500</td>\n",
       "      <td>263.0</td>\n",
       "      <td>2022-05-17</td>\n",
       "      <td>both</td>\n",
       "    </tr>\n",
       "    <tr>\n",
       "      <th>13</th>\n",
       "      <td>SENA</td>\n",
       "      <td>2022</td>\n",
       "      <td>1</td>\n",
       "      <td>Tue, 17 May 2022 08:38:32 +0700</td>\n",
       "      <td>https://classic.set.or.th/set/newsdetails.do?language=en&amp;country=US&amp;newsId=16527404190380</td>\n",
       "      <td>437.0</td>\n",
       "      <td>sSET</td>\n",
       "      <td>21577.0</td>\n",
       "      <td>336344.0</td>\n",
       "      <td>229318.0</td>\n",
       "      <td>336344.0</td>\n",
       "      <td>229318.0</td>\n",
       "      <td>0.2340</td>\n",
       "      <td>0.1607</td>\n",
       "      <td>0.2340</td>\n",
       "      <td>0.1607</td>\n",
       "      <td>437.0</td>\n",
       "      <td>2022-05-13</td>\n",
       "      <td>both</td>\n",
       "    </tr>\n",
       "    <tr>\n",
       "      <th>14</th>\n",
       "      <td>VIBHA</td>\n",
       "      <td>2022</td>\n",
       "      <td>1</td>\n",
       "      <td>Tue, 17 May 2022 08:28:58 +0700</td>\n",
       "      <td>https://classic.set.or.th/set/newsdetails.do?language=en&amp;country=US&amp;newsId=16527404189330</td>\n",
       "      <td>610.0</td>\n",
       "      <td>SETWB</td>\n",
       "      <td>21609.0</td>\n",
       "      <td>454710.0</td>\n",
       "      <td>191898.0</td>\n",
       "      <td>454710.0</td>\n",
       "      <td>191898.0</td>\n",
       "      <td>0.0335</td>\n",
       "      <td>0.0141</td>\n",
       "      <td>0.0335</td>\n",
       "      <td>0.0141</td>\n",
       "      <td>610.0</td>\n",
       "      <td>2022-05-13</td>\n",
       "      <td>both</td>\n",
       "    </tr>\n",
       "    <tr>\n",
       "      <th>15</th>\n",
       "      <td>MCS</td>\n",
       "      <td>2022</td>\n",
       "      <td>1</td>\n",
       "      <td>Tue, 17 May 2022 08:17:43 +0700</td>\n",
       "      <td>https://classic.set.or.th/set/newsdetails.do?language=en&amp;country=US&amp;newsId=16527404187130</td>\n",
       "      <td>293.0</td>\n",
       "      <td>sSET</td>\n",
       "      <td>21614.0</td>\n",
       "      <td>262711.0</td>\n",
       "      <td>233571.0</td>\n",
       "      <td>262711.0</td>\n",
       "      <td>233571.0</td>\n",
       "      <td>0.5500</td>\n",
       "      <td>0.4900</td>\n",
       "      <td>0.5500</td>\n",
       "      <td>0.4900</td>\n",
       "      <td>293.0</td>\n",
       "      <td>2022-05-17</td>\n",
       "      <td>both</td>\n",
       "    </tr>\n",
       "    <tr>\n",
       "      <th>16</th>\n",
       "      <td>FORTH</td>\n",
       "      <td>2022</td>\n",
       "      <td>1</td>\n",
       "      <td>Tue, 17 May 2022 07:43:10 +0700</td>\n",
       "      <td>https://classic.set.or.th/set/newsdetails.do?language=en&amp;country=US&amp;newsId=16527404182240</td>\n",
       "      <td>176.0</td>\n",
       "      <td>SET</td>\n",
       "      <td>21612.0</td>\n",
       "      <td>236559.0</td>\n",
       "      <td>184217.0</td>\n",
       "      <td>236559.0</td>\n",
       "      <td>184217.0</td>\n",
       "      <td>0.2500</td>\n",
       "      <td>0.2000</td>\n",
       "      <td>0.2500</td>\n",
       "      <td>0.2000</td>\n",
       "      <td>176.0</td>\n",
       "      <td>2022-05-17</td>\n",
       "      <td>both</td>\n",
       "    </tr>\n",
       "  </tbody>\n",
       "</table>\n",
       "</div>"
      ],
      "text/plain": [
       "     name  year  quarter                        published  \\\n",
       "3   ROJNA  2022        1  Tue, 17 May 2022 17:51:58 +0700   \n",
       "6    STEC  2022        1  Tue, 17 May 2022 17:04:53 +0700   \n",
       "12  LALIN  2022        1  Tue, 17 May 2022 08:53:36 +0700   \n",
       "13   SENA  2022        1  Tue, 17 May 2022 08:38:32 +0700   \n",
       "14  VIBHA  2022        1  Tue, 17 May 2022 08:28:58 +0700   \n",
       "15    MCS  2022        1  Tue, 17 May 2022 08:17:43 +0700   \n",
       "16  FORTH  2022        1  Tue, 17 May 2022 07:43:10 +0700   \n",
       "\n",
       "                                                                                         link  \\\n",
       "3   https://classic.set.or.th/set/newsdetails.do?language=en&country=US&newsId=16527404246480   \n",
       "6   https://classic.set.or.th/set/newsdetails.do?language=en&country=US&newsId=16527404233840   \n",
       "12  https://classic.set.or.th/set/newsdetails.do?language=en&country=US&newsId=16527404191790   \n",
       "13  https://classic.set.or.th/set/newsdetails.do?language=en&country=US&newsId=16527404190380   \n",
       "14  https://classic.set.or.th/set/newsdetails.do?language=en&country=US&newsId=16527404189330   \n",
       "15  https://classic.set.or.th/set/newsdetails.do?language=en&country=US&newsId=16527404187130   \n",
       "16  https://classic.set.or.th/set/newsdetails.do?language=en&country=US&newsId=16527404182240   \n",
       "\n",
       "     id_x  market     id_y     q_amt      y_amt    aq_amt     ay_amt   q_eps  \\\n",
       "3   404.0    sSET  21615.0  825096.0   293107.0  825096.0   293107.0  0.4080   \n",
       "6   484.0  SET100  21616.0  231740.0  1097487.0  231740.0  1097487.0  0.1500   \n",
       "12  263.0    sSET  21613.0  327606.0   319712.0  327606.0   319712.0  0.3500   \n",
       "13  437.0    sSET  21577.0  336344.0   229318.0  336344.0   229318.0  0.2340   \n",
       "14  610.0   SETWB  21609.0  454710.0   191898.0  454710.0   191898.0  0.0335   \n",
       "15  293.0    sSET  21614.0  262711.0   233571.0  262711.0   233571.0  0.5500   \n",
       "16  176.0     SET  21612.0  236559.0   184217.0  236559.0   184217.0  0.2500   \n",
       "\n",
       "     y_eps  aq_eps  ay_eps  ticker_id publish_date _merge  \n",
       "3   0.1450  0.4080  0.1450      404.0   2022-05-17   both  \n",
       "6   0.1300  0.1500  0.1300      484.0   2022-05-17   both  \n",
       "12  0.3500  0.3500  0.3500      263.0   2022-05-17   both  \n",
       "13  0.1607  0.2340  0.1607      437.0   2022-05-13   both  \n",
       "14  0.0141  0.0335  0.0141      610.0   2022-05-13   both  \n",
       "15  0.4900  0.5500  0.4900      293.0   2022-05-17   both  \n",
       "16  0.2000  0.2500  0.2000      176.0   2022-05-17   both  "
      ]
     },
     "execution_count": 60,
     "metadata": {},
     "output_type": "execute_result"
    }
   ],
   "source": [
    "df_merge3[df_merge3['_merge'] == 'both']"
   ]
  },
  {
   "cell_type": "code",
   "execution_count": 61,
   "metadata": {},
   "outputs": [
    {
     "data": {
      "text/plain": [
       "(7, 19)"
      ]
     },
     "execution_count": 61,
     "metadata": {},
     "output_type": "execute_result"
    }
   ],
   "source": [
    "df_merge3[df_merge3['_merge'] == 'both'].shape"
   ]
  },
  {
   "cell_type": "code",
   "execution_count": 62,
   "metadata": {},
   "outputs": [
    {
     "data": {
      "text/plain": [
       "(15, 19)"
      ]
     },
     "execution_count": 62,
     "metadata": {},
     "output_type": "execute_result"
    }
   ],
   "source": [
    "df_inp2 = df_merge3[df_merge3['_merge'] == 'left_only']\n",
    "df_inp3 = df_inp2.copy()\n",
    "df_inp3.shape"
   ]
  },
  {
   "cell_type": "code",
   "execution_count": 63,
   "metadata": {},
   "outputs": [
    {
     "data": {
      "text/plain": [
       "8         AH 2022 1 https://classic.set.or.th/set/newsdetails.do?language=en&country=US&newsId=16527404208610\n",
       "11    CENTEL 2022 1 https://classic.set.or.th/set/newsdetails.do?language=en&country=US&newsId=16527404192730\n",
       "1         CK 2022 1 https://classic.set.or.th/set/newsdetails.do?language=en&country=US&newsId=16527404259700\n",
       "9        HTC 2022 1 https://classic.set.or.th/set/newsdetails.do?language=en&country=US&newsId=16527404208550\n",
       "17       IMH 2022 1 https://classic.set.or.th/set/newsdetails.do?language=en&country=US&newsId=16527404180640\n",
       "21       JWD 2022 1 https://classic.set.or.th/set/newsdetails.do?language=en&country=US&newsId=16527404175670\n",
       "7        KEX 2022 1 https://classic.set.or.th/set/newsdetails.do?language=en&country=US&newsId=16527404231930\n",
       "18     PCSGH 2022 1 https://classic.set.or.th/set/newsdetails.do?language=en&country=US&newsId=16527404180130\n",
       "4         RS 2022 1 https://classic.set.or.th/set/newsdetails.do?language=en&country=US&newsId=16527404237650\n",
       "0       SIRI 2022 1 https://classic.set.or.th/set/newsdetails.do?language=en&country=US&newsId=16527404263610\n",
       "5        SPC 2022 1 https://classic.set.or.th/set/newsdetails.do?language=en&country=US&newsId=16527404235750\n",
       "19       SSP 2022 1 https://classic.set.or.th/set/newsdetails.do?language=en&country=US&newsId=16527404176340\n",
       "10    TFMAMA 2022 1 https://classic.set.or.th/set/newsdetails.do?language=en&country=US&newsId=16527404208090\n",
       "2       TRUE 2022 1 https://classic.set.or.th/set/newsdetails.do?language=en&country=US&newsId=16527404247930\n",
       "20       TVI 2022 1 https://classic.set.or.th/set/newsdetails.do?language=en&country=US&newsId=16527404175760\n",
       "dtype: object"
      ]
     },
     "execution_count": 63,
     "metadata": {},
     "output_type": "execute_result"
    }
   ],
   "source": [
    "df_inp3['year'] = df_inp3['year'].astype(str)\n",
    "df_inp3['quarter'] = df_inp3['quarter'].astype(str)\n",
    "final = df_inp3.sort_values('name',ascending=True)\n",
    "final_str = final.name+' '+final.year+' '+final.quarter+' '+final.link\n",
    "final_str"
   ]
  },
  {
   "cell_type": "code",
   "execution_count": null,
   "metadata": {},
   "outputs": [],
   "source": []
  }
 ],
 "metadata": {
  "kernelspec": {
   "display_name": "Python 3 (ipykernel)",
   "language": "python",
   "name": "python3"
  },
  "language_info": {
   "codemirror_mode": {
    "name": "ipython",
    "version": 3
   },
   "file_extension": ".py",
   "mimetype": "text/x-python",
   "name": "python",
   "nbconvert_exporter": "python",
   "pygments_lexer": "ipython3",
   "version": "3.8.11"
  }
 },
 "nbformat": 4,
 "nbformat_minor": 4
}
