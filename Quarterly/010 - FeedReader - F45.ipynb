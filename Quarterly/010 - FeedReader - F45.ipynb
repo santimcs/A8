{
 "cells": [
  {
   "cell_type": "code",
   "execution_count": 1,
   "metadata": {},
   "outputs": [
    {
     "data": {
      "text/plain": [
       "'1115'"
      ]
     },
     "execution_count": 1,
     "metadata": {},
     "output_type": "execute_result"
    }
   ],
   "source": [
    "import feedparser\n",
    "import pandas as pd\n",
    "from datetime import date, timedelta\n",
    "from sqlalchemy import create_engine\n",
    "\n",
    "engine = create_engine(\"sqlite:///c:\\\\ruby\\\\portlt\\\\db\\\\development.sqlite3\")\n",
    "conlt = engine.connect()\n",
    "\n",
    "clean_path = \"../data/clean/\"\n",
    "raw_path = \"../data/raw/\"\n",
    "csv_path = \"\\\\Users\\\\User\\\\iCloudDrive\\\\\"\n",
    "box_path = \"\\\\Users\\\\User\\\\Dropbox\\\\\"\n",
    "one_path = \"\\\\Users\\\\User\\\\OneDrive\\\\Documents\\\\Data\\\\\"\n",
    "pdf_path = \"../PDF/\"\n",
    "\n",
    "pd.set_option('display.max_colwidth', 255)\n",
    "pd.set_option('display.max_rows',None)\n",
    "url = \"https://feeds.feedburner.com/Setorth-form45-en\"\n",
    "\n",
    "today = date.today()\n",
    "year = 2022\n",
    "mmdd_str = today.strftime('%m%d')\n",
    "mmdd_str"
   ]
  },
  {
   "cell_type": "code",
   "execution_count": 2,
   "metadata": {},
   "outputs": [
    {
     "data": {
      "text/plain": [
       "'1115'"
      ]
     },
     "execution_count": 2,
     "metadata": {},
     "output_type": "execute_result"
    }
   ],
   "source": [
    "#today = date(2022, 11, 11)\n",
    "mmdd_str = today.strftime('%m%d')\n",
    "mmdd_str"
   ]
  },
  {
   "cell_type": "code",
   "execution_count": 3,
   "metadata": {},
   "outputs": [
    {
     "name": "stdout",
     "output_type": "stream",
     "text": [
      "Number of F45:  20\n"
     ]
    }
   ],
   "source": [
    "rss_source = feedparser.parse(url)\n",
    "f45_number = len(rss_source.entries)\n",
    "print(\"Number of F45: \", f45_number)"
   ]
  },
  {
   "cell_type": "code",
   "execution_count": 4,
   "metadata": {},
   "outputs": [
    {
     "name": "stdout",
     "output_type": "stream",
     "text": [
      "\n",
      "----------------------------------\n",
      "\n",
      "F45: 0\n",
      "Title:  SAFARI\n",
      "Year:  2022\n",
      "Quarter:  3\n",
      "Link:  https://classic.set.or.th/set/newsdetails.do?language=en&country=US&newsId=16684625113870\n",
      "Published:  Tue, 15 Nov 2022 12:31:23 +0700\n",
      "\n",
      "----------------------------------\n",
      "\n",
      "F45: 1\n",
      "Title:  POLY\n",
      "Year:  2022\n",
      "Quarter:  3\n",
      "Link:  https://classic.set.or.th/set/newsdetails.do?language=en&country=US&newsId=16684625107150\n",
      "Published:  Tue, 15 Nov 2022 08:43:58 +0700\n",
      "\n",
      "----------------------------------\n",
      "\n",
      "F45: 2\n",
      "Title:  POLY\n",
      "Year:  2022\n",
      "Quarter:  y\n",
      "Link:  https://classic.set.or.th/set/newsdetails.do?language=en&country=US&newsId=16684625106850\n",
      "Published:  Tue, 15 Nov 2022 08:42:29 +0700\n",
      "\n",
      "----------------------------------\n",
      "\n",
      "F45: 3\n",
      "Title:  SCN\n",
      "Year:  2022\n",
      "Quarter:  3\n",
      "Link:  https://classic.set.or.th/set/newsdetails.do?language=en&country=US&newsId=16684625106750\n",
      "Published:  Tue, 15 Nov 2022 08:40:54 +0700\n",
      "\n",
      "----------------------------------\n",
      "\n",
      "F45: 4\n",
      "Title:  RAM\n",
      "Year:  2022\n",
      "Quarter:  3\n",
      "Link:  https://classic.set.or.th/set/newsdetails.do?language=en&country=US&newsId=16684625106380\n",
      "Published:  Tue, 15 Nov 2022 08:39:28 +0700\n",
      "\n",
      "----------------------------------\n",
      "\n",
      "F45: 5\n",
      "Title:  JKN\n",
      "Year:  2022\n",
      "Quarter:  3\n",
      "Link:  https://classic.set.or.th/set/newsdetails.do?language=en&country=US&newsId=16684625105710\n",
      "Published:  Tue, 15 Nov 2022 08:34:18 +0700\n",
      "\n",
      "----------------------------------\n",
      "\n",
      "F45: 6\n",
      "Title:  SABINA\n",
      "Year:  2022\n",
      "Quarter:  3\n",
      "Link:  https://classic.set.or.th/set/newsdetails.do?language=en&country=US&newsId=16684625105240\n",
      "Published:  Tue, 15 Nov 2022 08:29:39 +0700\n",
      "\n",
      "----------------------------------\n",
      "\n",
      "F45: 7\n",
      "Title:  CIG\n",
      "Year:  2022\n",
      "Quarter:  3\n",
      "Link:  https://classic.set.or.th/set/newsdetails.do?language=en&country=US&newsId=16684625105190\n",
      "Published:  Tue, 15 Nov 2022 08:28:29 +0700\n",
      "\n",
      "----------------------------------\n",
      "\n",
      "F45: 8\n",
      "Title:  TCC\n",
      "Year:  2022\n",
      "Quarter:  3\n",
      "Link:  https://classic.set.or.th/set/newsdetails.do?language=en&country=US&newsId=16684625104610\n",
      "Published:  Tue, 15 Nov 2022 08:22:23 +0700\n",
      "\n",
      "----------------------------------\n",
      "\n",
      "F45: 9\n",
      "Title:  KCC\n",
      "Year:  2022\n",
      "Quarter:  3\n",
      "Link:  https://classic.set.or.th/set/newsdetails.do?language=en&country=US&newsId=16684625104180\n",
      "Published:  Tue, 15 Nov 2022 08:17:42 +0700\n",
      "\n",
      "----------------------------------\n",
      "\n",
      "F45: 10\n",
      "Title:  SCI\n",
      "Year:  2022\n",
      "Quarter:  3\n",
      "Link:  https://classic.set.or.th/set/newsdetails.do?language=en&country=US&newsId=16684625103460\n",
      "Published:  Tue, 15 Nov 2022 08:05:07 +0700\n",
      "\n",
      "----------------------------------\n",
      "\n",
      "F45: 11\n",
      "Title:  SKY\n",
      "Year:  2022\n",
      "Quarter:  3\n",
      "Link:  https://classic.set.or.th/set/newsdetails.do?language=en&country=US&newsId=16684625103370\n",
      "Published:  Tue, 15 Nov 2022 08:02:13 +0700\n",
      "\n",
      "----------------------------------\n",
      "\n",
      "F45: 12\n",
      "Title:  TRU\n",
      "Year:  2022\n",
      "Quarter:  )\n",
      "Link:  https://classic.set.or.th/set/newsdetails.do?language=en&country=US&newsId=16684625103060\n",
      "Published:  Tue, 15 Nov 2022 07:52:30 +0700\n",
      "\n",
      "----------------------------------\n",
      "\n",
      "F45: 13\n",
      "Title:  BYD\n",
      "Year:  2022\n",
      "Quarter:  3\n",
      "Link:  https://classic.set.or.th/set/newsdetails.do?language=en&country=US&newsId=16684625102820\n",
      "Published:  Tue, 15 Nov 2022 07:48:36 +0700\n",
      "\n",
      "----------------------------------\n",
      "\n",
      "F45: 14\n",
      "Title:  ACC\n",
      "Year:  2022\n",
      "Quarter:  3\n",
      "Link:  https://classic.set.or.th/set/newsdetails.do?language=en&country=US&newsId=16684625102780\n",
      "Published:  Tue, 15 Nov 2022 07:48:14 +0700\n",
      "\n",
      "----------------------------------\n",
      "\n",
      "F45: 15\n",
      "Title:  TNPC\n",
      "Year:  2022\n",
      "Quarter:  3\n",
      "Link:  https://classic.set.or.th/set/newsdetails.do?language=en&country=US&newsId=16684625101540\n",
      "Published:  Tue, 15 Nov 2022 07:21:33 +0700\n",
      "\n",
      "----------------------------------\n",
      "\n",
      "F45: 16\n",
      "Title:  TRITN\n",
      "Year:  2022\n",
      "Quarter:  3\n",
      "Link:  https://classic.set.or.th/set/newsdetails.do?language=en&country=US&newsId=16684625101010\n",
      "Published:  Tue, 15 Nov 2022 06:56:42 +0700\n",
      "\n",
      "----------------------------------\n",
      "\n",
      "F45: 17\n",
      "Title:  ALPHAX\n",
      "Year:  2022\n",
      "Quarter:  3\n",
      "Link:  https://classic.set.or.th/set/newsdetails.do?language=en&country=US&newsId=16684625100960\n",
      "Published:  Tue, 15 Nov 2022 06:55:31 +0700\n",
      "\n",
      "----------------------------------\n",
      "\n",
      "F45: 18\n",
      "Title:  IMH\n",
      "Year:  2022\n",
      "Quarter:  3\n",
      "Link:  https://classic.set.or.th/set/newsdetails.do?language=en&country=US&newsId=16684625099810\n",
      "Published:  Tue, 15 Nov 2022 06:41:57 +0700\n",
      "\n",
      "----------------------------------\n",
      "\n",
      "F45: 19\n",
      "Title:  SAFARI\n",
      "Year:  2022\n",
      "Quarter:  3\n",
      "Link:  https://classic.set.or.th/set/newsdetails.do?language=en&country=US&newsId=16684625099750\n",
      "Published:  Tue, 15 Nov 2022 06:33:51 +0700\n"
     ]
    }
   ],
   "source": [
    "f45_items = []\n",
    "\n",
    "for x in range(f45_number):\n",
    "    f45_content = rss_source.entries[x]\n",
    "    f45_item = {}\n",
    "    \n",
    "    print(\"\\n----------------------------------\\n\")\n",
    "    \n",
    "    print(\"F45: \" + str(x))\n",
    "    title_ary = f45_content.title.partition(' ')\n",
    "    f45_item['name'] = title_ary[0].strip() \n",
    "    print(\"Title: \", f45_item['name'])  \n",
    "    f45_item['year'] = year\n",
    "    print(\"Year: \", f45_item['year'])      \n",
    "    qtr_ary = title_ary[2].partition(' (F45)')\n",
    "    f45_item['quarter'] = qtr_ary[0][-1]    \n",
    "    print(\"Quarter: \", f45_item['quarter'])    \n",
    "    f45_item['link'] = f45_content.link\n",
    "    print(\"Link: \", f45_item['link'])\n",
    "    f45_item['published'] = f45_content.published\n",
    "    print(\"Published: \", f45_item['published'])  \n",
    "    f45_items.append(f45_item)"
   ]
  },
  {
   "cell_type": "code",
   "execution_count": 5,
   "metadata": {},
   "outputs": [
    {
     "data": {
      "text/html": [
       "<div>\n",
       "<style scoped>\n",
       "    .dataframe tbody tr th:only-of-type {\n",
       "        vertical-align: middle;\n",
       "    }\n",
       "\n",
       "    .dataframe tbody tr th {\n",
       "        vertical-align: top;\n",
       "    }\n",
       "\n",
       "    .dataframe thead th {\n",
       "        text-align: right;\n",
       "    }\n",
       "</style>\n",
       "<table border=\"1\" class=\"dataframe\">\n",
       "  <thead>\n",
       "    <tr style=\"text-align: right;\">\n",
       "      <th></th>\n",
       "      <th>name</th>\n",
       "      <th>year</th>\n",
       "      <th>quarter</th>\n",
       "      <th>published</th>\n",
       "    </tr>\n",
       "  </thead>\n",
       "  <tbody>\n",
       "    <tr>\n",
       "      <th>0</th>\n",
       "      <td>SAFARI</td>\n",
       "      <td>2022</td>\n",
       "      <td>3</td>\n",
       "      <td>Tue, 15 Nov 2022 12:31:23 +0700</td>\n",
       "    </tr>\n",
       "    <tr>\n",
       "      <th>1</th>\n",
       "      <td>POLY</td>\n",
       "      <td>2022</td>\n",
       "      <td>3</td>\n",
       "      <td>Tue, 15 Nov 2022 08:43:58 +0700</td>\n",
       "    </tr>\n",
       "    <tr>\n",
       "      <th>2</th>\n",
       "      <td>POLY</td>\n",
       "      <td>2022</td>\n",
       "      <td>y</td>\n",
       "      <td>Tue, 15 Nov 2022 08:42:29 +0700</td>\n",
       "    </tr>\n",
       "    <tr>\n",
       "      <th>3</th>\n",
       "      <td>SCN</td>\n",
       "      <td>2022</td>\n",
       "      <td>3</td>\n",
       "      <td>Tue, 15 Nov 2022 08:40:54 +0700</td>\n",
       "    </tr>\n",
       "    <tr>\n",
       "      <th>4</th>\n",
       "      <td>RAM</td>\n",
       "      <td>2022</td>\n",
       "      <td>3</td>\n",
       "      <td>Tue, 15 Nov 2022 08:39:28 +0700</td>\n",
       "    </tr>\n",
       "    <tr>\n",
       "      <th>5</th>\n",
       "      <td>JKN</td>\n",
       "      <td>2022</td>\n",
       "      <td>3</td>\n",
       "      <td>Tue, 15 Nov 2022 08:34:18 +0700</td>\n",
       "    </tr>\n",
       "    <tr>\n",
       "      <th>6</th>\n",
       "      <td>SABINA</td>\n",
       "      <td>2022</td>\n",
       "      <td>3</td>\n",
       "      <td>Tue, 15 Nov 2022 08:29:39 +0700</td>\n",
       "    </tr>\n",
       "    <tr>\n",
       "      <th>7</th>\n",
       "      <td>CIG</td>\n",
       "      <td>2022</td>\n",
       "      <td>3</td>\n",
       "      <td>Tue, 15 Nov 2022 08:28:29 +0700</td>\n",
       "    </tr>\n",
       "    <tr>\n",
       "      <th>8</th>\n",
       "      <td>TCC</td>\n",
       "      <td>2022</td>\n",
       "      <td>3</td>\n",
       "      <td>Tue, 15 Nov 2022 08:22:23 +0700</td>\n",
       "    </tr>\n",
       "    <tr>\n",
       "      <th>9</th>\n",
       "      <td>KCC</td>\n",
       "      <td>2022</td>\n",
       "      <td>3</td>\n",
       "      <td>Tue, 15 Nov 2022 08:17:42 +0700</td>\n",
       "    </tr>\n",
       "    <tr>\n",
       "      <th>10</th>\n",
       "      <td>SCI</td>\n",
       "      <td>2022</td>\n",
       "      <td>3</td>\n",
       "      <td>Tue, 15 Nov 2022 08:05:07 +0700</td>\n",
       "    </tr>\n",
       "    <tr>\n",
       "      <th>11</th>\n",
       "      <td>SKY</td>\n",
       "      <td>2022</td>\n",
       "      <td>3</td>\n",
       "      <td>Tue, 15 Nov 2022 08:02:13 +0700</td>\n",
       "    </tr>\n",
       "    <tr>\n",
       "      <th>12</th>\n",
       "      <td>TRU</td>\n",
       "      <td>2022</td>\n",
       "      <td>)</td>\n",
       "      <td>Tue, 15 Nov 2022 07:52:30 +0700</td>\n",
       "    </tr>\n",
       "    <tr>\n",
       "      <th>13</th>\n",
       "      <td>BYD</td>\n",
       "      <td>2022</td>\n",
       "      <td>3</td>\n",
       "      <td>Tue, 15 Nov 2022 07:48:36 +0700</td>\n",
       "    </tr>\n",
       "    <tr>\n",
       "      <th>14</th>\n",
       "      <td>ACC</td>\n",
       "      <td>2022</td>\n",
       "      <td>3</td>\n",
       "      <td>Tue, 15 Nov 2022 07:48:14 +0700</td>\n",
       "    </tr>\n",
       "    <tr>\n",
       "      <th>15</th>\n",
       "      <td>TNPC</td>\n",
       "      <td>2022</td>\n",
       "      <td>3</td>\n",
       "      <td>Tue, 15 Nov 2022 07:21:33 +0700</td>\n",
       "    </tr>\n",
       "    <tr>\n",
       "      <th>16</th>\n",
       "      <td>TRITN</td>\n",
       "      <td>2022</td>\n",
       "      <td>3</td>\n",
       "      <td>Tue, 15 Nov 2022 06:56:42 +0700</td>\n",
       "    </tr>\n",
       "    <tr>\n",
       "      <th>17</th>\n",
       "      <td>ALPHAX</td>\n",
       "      <td>2022</td>\n",
       "      <td>3</td>\n",
       "      <td>Tue, 15 Nov 2022 06:55:31 +0700</td>\n",
       "    </tr>\n",
       "    <tr>\n",
       "      <th>18</th>\n",
       "      <td>IMH</td>\n",
       "      <td>2022</td>\n",
       "      <td>3</td>\n",
       "      <td>Tue, 15 Nov 2022 06:41:57 +0700</td>\n",
       "    </tr>\n",
       "    <tr>\n",
       "      <th>19</th>\n",
       "      <td>SAFARI</td>\n",
       "      <td>2022</td>\n",
       "      <td>3</td>\n",
       "      <td>Tue, 15 Nov 2022 06:33:51 +0700</td>\n",
       "    </tr>\n",
       "  </tbody>\n",
       "</table>\n",
       "</div>"
      ],
      "text/plain": [
       "      name  year quarter                        published\n",
       "0   SAFARI  2022       3  Tue, 15 Nov 2022 12:31:23 +0700\n",
       "1     POLY  2022       3  Tue, 15 Nov 2022 08:43:58 +0700\n",
       "2     POLY  2022       y  Tue, 15 Nov 2022 08:42:29 +0700\n",
       "3      SCN  2022       3  Tue, 15 Nov 2022 08:40:54 +0700\n",
       "4      RAM  2022       3  Tue, 15 Nov 2022 08:39:28 +0700\n",
       "5      JKN  2022       3  Tue, 15 Nov 2022 08:34:18 +0700\n",
       "6   SABINA  2022       3  Tue, 15 Nov 2022 08:29:39 +0700\n",
       "7      CIG  2022       3  Tue, 15 Nov 2022 08:28:29 +0700\n",
       "8      TCC  2022       3  Tue, 15 Nov 2022 08:22:23 +0700\n",
       "9      KCC  2022       3  Tue, 15 Nov 2022 08:17:42 +0700\n",
       "10     SCI  2022       3  Tue, 15 Nov 2022 08:05:07 +0700\n",
       "11     SKY  2022       3  Tue, 15 Nov 2022 08:02:13 +0700\n",
       "12     TRU  2022       )  Tue, 15 Nov 2022 07:52:30 +0700\n",
       "13     BYD  2022       3  Tue, 15 Nov 2022 07:48:36 +0700\n",
       "14     ACC  2022       3  Tue, 15 Nov 2022 07:48:14 +0700\n",
       "15    TNPC  2022       3  Tue, 15 Nov 2022 07:21:33 +0700\n",
       "16   TRITN  2022       3  Tue, 15 Nov 2022 06:56:42 +0700\n",
       "17  ALPHAX  2022       3  Tue, 15 Nov 2022 06:55:31 +0700\n",
       "18     IMH  2022       3  Tue, 15 Nov 2022 06:41:57 +0700\n",
       "19  SAFARI  2022       3  Tue, 15 Nov 2022 06:33:51 +0700"
      ]
     },
     "execution_count": 5,
     "metadata": {},
     "output_type": "execute_result"
    }
   ],
   "source": [
    "df = pd.DataFrame(f45_items)\n",
    "df[['name','year','quarter','published']]"
   ]
  },
  {
   "cell_type": "code",
   "execution_count": 6,
   "metadata": {},
   "outputs": [
    {
     "data": {
      "text/html": [
       "<div>\n",
       "<style scoped>\n",
       "    .dataframe tbody tr th:only-of-type {\n",
       "        vertical-align: middle;\n",
       "    }\n",
       "\n",
       "    .dataframe tbody tr th {\n",
       "        vertical-align: top;\n",
       "    }\n",
       "\n",
       "    .dataframe thead th {\n",
       "        text-align: right;\n",
       "    }\n",
       "</style>\n",
       "<table border=\"1\" class=\"dataframe\">\n",
       "  <thead>\n",
       "    <tr style=\"text-align: right;\">\n",
       "      <th></th>\n",
       "      <th></th>\n",
       "      <th>name</th>\n",
       "      <th>link</th>\n",
       "      <th>published</th>\n",
       "    </tr>\n",
       "    <tr>\n",
       "      <th>year</th>\n",
       "      <th>quarter</th>\n",
       "      <th></th>\n",
       "      <th></th>\n",
       "      <th></th>\n",
       "    </tr>\n",
       "  </thead>\n",
       "  <tbody>\n",
       "    <tr>\n",
       "      <th rowspan=\"3\" valign=\"top\">2022</th>\n",
       "      <th>)</th>\n",
       "      <td>1</td>\n",
       "      <td>1</td>\n",
       "      <td>1</td>\n",
       "    </tr>\n",
       "    <tr>\n",
       "      <th>3</th>\n",
       "      <td>18</td>\n",
       "      <td>18</td>\n",
       "      <td>18</td>\n",
       "    </tr>\n",
       "    <tr>\n",
       "      <th>y</th>\n",
       "      <td>1</td>\n",
       "      <td>1</td>\n",
       "      <td>1</td>\n",
       "    </tr>\n",
       "  </tbody>\n",
       "</table>\n",
       "</div>"
      ],
      "text/plain": [
       "              name  link  published\n",
       "year quarter                       \n",
       "2022 )           1     1          1\n",
       "     3          18    18         18\n",
       "     y           1     1          1"
      ]
     },
     "execution_count": 6,
     "metadata": {},
     "output_type": "execute_result"
    }
   ],
   "source": [
    "df.groupby(['year','quarter']).count()"
   ]
  },
  {
   "cell_type": "code",
   "execution_count": 7,
   "metadata": {
    "scrolled": true
   },
   "outputs": [
    {
     "data": {
      "text/html": [
       "<div>\n",
       "<style scoped>\n",
       "    .dataframe tbody tr th:only-of-type {\n",
       "        vertical-align: middle;\n",
       "    }\n",
       "\n",
       "    .dataframe tbody tr th {\n",
       "        vertical-align: top;\n",
       "    }\n",
       "\n",
       "    .dataframe thead th {\n",
       "        text-align: right;\n",
       "    }\n",
       "</style>\n",
       "<table border=\"1\" class=\"dataframe\">\n",
       "  <thead>\n",
       "    <tr style=\"text-align: right;\">\n",
       "      <th></th>\n",
       "      <th></th>\n",
       "      <th>name</th>\n",
       "      <th>link</th>\n",
       "      <th>published</th>\n",
       "    </tr>\n",
       "    <tr>\n",
       "      <th>year</th>\n",
       "      <th>quarter</th>\n",
       "      <th></th>\n",
       "      <th></th>\n",
       "      <th></th>\n",
       "    </tr>\n",
       "  </thead>\n",
       "  <tbody>\n",
       "    <tr>\n",
       "      <th rowspan=\"5\" valign=\"top\">2022</th>\n",
       "      <th>)</th>\n",
       "      <td>1</td>\n",
       "      <td>1</td>\n",
       "      <td>1</td>\n",
       "    </tr>\n",
       "    <tr>\n",
       "      <th>1</th>\n",
       "      <td>1</td>\n",
       "      <td>1</td>\n",
       "      <td>1</td>\n",
       "    </tr>\n",
       "    <tr>\n",
       "      <th>2</th>\n",
       "      <td>2</td>\n",
       "      <td>2</td>\n",
       "      <td>2</td>\n",
       "    </tr>\n",
       "    <tr>\n",
       "      <th>3</th>\n",
       "      <td>225</td>\n",
       "      <td>225</td>\n",
       "      <td>225</td>\n",
       "    </tr>\n",
       "    <tr>\n",
       "      <th>3</th>\n",
       "      <td>2</td>\n",
       "      <td>2</td>\n",
       "      <td>2</td>\n",
       "    </tr>\n",
       "  </tbody>\n",
       "</table>\n",
       "</div>"
      ],
      "text/plain": [
       "              name  link  published\n",
       "year quarter                       \n",
       "2022 )           1     1          1\n",
       "     1           1     1          1\n",
       "     2           2     2          2\n",
       "     3         225   225        225\n",
       "     3           2     2          2"
      ]
     },
     "execution_count": 7,
     "metadata": {},
     "output_type": "execute_result"
    }
   ],
   "source": [
    "df.loc[(df.quarter == 'S') ,['year','quarter']] = ['2022','3']\n",
    "df.groupby(['year','quarter']).count()"
   ]
  },
  {
   "cell_type": "code",
   "execution_count": 8,
   "metadata": {},
   "outputs": [
    {
     "data": {
      "text/html": [
       "<div>\n",
       "<style scoped>\n",
       "    .dataframe tbody tr th:only-of-type {\n",
       "        vertical-align: middle;\n",
       "    }\n",
       "\n",
       "    .dataframe tbody tr th {\n",
       "        vertical-align: top;\n",
       "    }\n",
       "\n",
       "    .dataframe thead th {\n",
       "        text-align: right;\n",
       "    }\n",
       "</style>\n",
       "<table border=\"1\" class=\"dataframe\">\n",
       "  <thead>\n",
       "    <tr style=\"text-align: right;\">\n",
       "      <th></th>\n",
       "      <th></th>\n",
       "      <th>name</th>\n",
       "      <th>link</th>\n",
       "      <th>published</th>\n",
       "    </tr>\n",
       "    <tr>\n",
       "      <th>year</th>\n",
       "      <th>quarter</th>\n",
       "      <th></th>\n",
       "      <th></th>\n",
       "      <th></th>\n",
       "    </tr>\n",
       "  </thead>\n",
       "  <tbody>\n",
       "    <tr>\n",
       "      <th>2022</th>\n",
       "      <th>3</th>\n",
       "      <td>18</td>\n",
       "      <td>18</td>\n",
       "      <td>18</td>\n",
       "    </tr>\n",
       "    <tr>\n",
       "      <th>2021</th>\n",
       "      <th>4</th>\n",
       "      <td>2</td>\n",
       "      <td>2</td>\n",
       "      <td>2</td>\n",
       "    </tr>\n",
       "  </tbody>\n",
       "</table>\n",
       "</div>"
      ],
      "text/plain": [
       "              name  link  published\n",
       "year quarter                       \n",
       "2022 3          18    18         18\n",
       "2021 4           2     2          2"
      ]
     },
     "execution_count": 8,
     "metadata": {},
     "output_type": "execute_result"
    }
   ],
   "source": [
    "df.loc[(df.quarter == 'y') ,['year','quarter']] = ['2021','4']\n",
    "df.groupby(['year','quarter']).count()"
   ]
  },
  {
   "cell_type": "code",
   "execution_count": 9,
   "metadata": {
    "scrolled": true
   },
   "outputs": [
    {
     "data": {
      "text/html": [
       "<div>\n",
       "<style scoped>\n",
       "    .dataframe tbody tr th:only-of-type {\n",
       "        vertical-align: middle;\n",
       "    }\n",
       "\n",
       "    .dataframe tbody tr th {\n",
       "        vertical-align: top;\n",
       "    }\n",
       "\n",
       "    .dataframe thead th {\n",
       "        text-align: right;\n",
       "    }\n",
       "</style>\n",
       "<table border=\"1\" class=\"dataframe\">\n",
       "  <thead>\n",
       "    <tr style=\"text-align: right;\">\n",
       "      <th></th>\n",
       "      <th></th>\n",
       "      <th>name</th>\n",
       "      <th>link</th>\n",
       "      <th>published</th>\n",
       "    </tr>\n",
       "    <tr>\n",
       "      <th>year</th>\n",
       "      <th>quarter</th>\n",
       "      <th></th>\n",
       "      <th></th>\n",
       "      <th></th>\n",
       "    </tr>\n",
       "  </thead>\n",
       "  <tbody>\n",
       "    <tr>\n",
       "      <th rowspan=\"4\" valign=\"top\">2022</th>\n",
       "      <th>)</th>\n",
       "      <td>1</td>\n",
       "      <td>1</td>\n",
       "      <td>1</td>\n",
       "    </tr>\n",
       "    <tr>\n",
       "      <th>2</th>\n",
       "      <td>1</td>\n",
       "      <td>1</td>\n",
       "      <td>1</td>\n",
       "    </tr>\n",
       "    <tr>\n",
       "      <th>3</th>\n",
       "      <td>225</td>\n",
       "      <td>225</td>\n",
       "      <td>225</td>\n",
       "    </tr>\n",
       "    <tr>\n",
       "      <th>3</th>\n",
       "      <td>3</td>\n",
       "      <td>3</td>\n",
       "      <td>3</td>\n",
       "    </tr>\n",
       "    <tr>\n",
       "      <th>2023</th>\n",
       "      <th>1</th>\n",
       "      <td>1</td>\n",
       "      <td>1</td>\n",
       "      <td>1</td>\n",
       "    </tr>\n",
       "  </tbody>\n",
       "</table>\n",
       "</div>"
      ],
      "text/plain": [
       "              name  link  published\n",
       "year quarter                       \n",
       "2022 )           1     1          1\n",
       "     2           1     1          1\n",
       "     3         225   225        225\n",
       "     3           3     3          3\n",
       "2023 1           1     1          1"
      ]
     },
     "execution_count": 9,
     "metadata": {},
     "output_type": "execute_result"
    }
   ],
   "source": [
    "df.loc[(df.name == 'MC') ,['year','quarter']] = ['2023','1']\n",
    "df.groupby(['year','quarter']).count()"
   ]
  },
  {
   "cell_type": "markdown",
   "metadata": {},
   "source": [
    "### After change all illogical quarters"
   ]
  },
  {
   "cell_type": "code",
   "execution_count": 9,
   "metadata": {},
   "outputs": [
    {
     "data": {
      "text/html": [
       "<div>\n",
       "<style scoped>\n",
       "    .dataframe tbody tr th:only-of-type {\n",
       "        vertical-align: middle;\n",
       "    }\n",
       "\n",
       "    .dataframe tbody tr th {\n",
       "        vertical-align: top;\n",
       "    }\n",
       "\n",
       "    .dataframe thead th {\n",
       "        text-align: right;\n",
       "    }\n",
       "</style>\n",
       "<table border=\"1\" class=\"dataframe\">\n",
       "  <thead>\n",
       "    <tr style=\"text-align: right;\">\n",
       "      <th></th>\n",
       "      <th></th>\n",
       "      <th>name</th>\n",
       "      <th>link</th>\n",
       "      <th>published</th>\n",
       "    </tr>\n",
       "    <tr>\n",
       "      <th>year</th>\n",
       "      <th>quarter</th>\n",
       "      <th></th>\n",
       "      <th></th>\n",
       "      <th></th>\n",
       "    </tr>\n",
       "  </thead>\n",
       "  <tbody>\n",
       "    <tr>\n",
       "      <th>2022</th>\n",
       "      <th>3</th>\n",
       "      <td>18</td>\n",
       "      <td>18</td>\n",
       "      <td>18</td>\n",
       "    </tr>\n",
       "    <tr>\n",
       "      <th>2021</th>\n",
       "      <th>4</th>\n",
       "      <td>2</td>\n",
       "      <td>2</td>\n",
       "      <td>2</td>\n",
       "    </tr>\n",
       "  </tbody>\n",
       "</table>\n",
       "</div>"
      ],
      "text/plain": [
       "              name  link  published\n",
       "year quarter                       \n",
       "2022 3          18    18         18\n",
       "2021 4           2     2          2"
      ]
     },
     "execution_count": 9,
     "metadata": {},
     "output_type": "execute_result"
    }
   ],
   "source": [
    "df.quarter = df.quarter.astype(int)\n",
    "df.groupby(['year','quarter']).count()"
   ]
  },
  {
   "cell_type": "code",
   "execution_count": 10,
   "metadata": {},
   "outputs": [
    {
     "data": {
      "text/plain": [
       "(18, 5)"
      ]
     },
     "execution_count": 10,
     "metadata": {},
     "output_type": "execute_result"
    }
   ],
   "source": [
    "### First equals to latest published pdf file\n",
    "df = df.drop_duplicates(subset='name', keep='first')\n",
    "df.shape"
   ]
  },
  {
   "cell_type": "code",
   "execution_count": 11,
   "metadata": {},
   "outputs": [],
   "source": [
    "file_name = 'F45-RAW-' + mmdd_str + '.csv'\n",
    "raw_file = raw_path + file_name\n",
    "output_file = csv_path + file_name\n",
    "box_file = box_path + file_name\n",
    "one_file = one_path + file_name\n",
    "\n",
    "df[['name','year','quarter','published']].to_csv(output_file, header=True, index=False, sep=',')\n",
    "df[['name','year','quarter','published']].to_csv(box_file,    header=True, index=False, sep=',')\n",
    "df[['name','year','quarter','published']].to_csv(one_file,    header=True, index=False, sep=',')\n",
    "df[['name','year','quarter','published']].to_csv(raw_file,    header=True, index=False, sep=',')"
   ]
  },
  {
   "cell_type": "code",
   "execution_count": 12,
   "metadata": {},
   "outputs": [
    {
     "data": {
      "text/plain": [
       "403"
      ]
     },
     "execution_count": 12,
     "metadata": {},
     "output_type": "execute_result"
    }
   ],
   "source": [
    "sql = '''\n",
    "SELECT *\n",
    "FROM exempts\n",
    "ORDER BY name'''\n",
    "df_exempts = pd.read_sql(sql, conlt)\n",
    "df_exempts.shape[0]"
   ]
  },
  {
   "cell_type": "markdown",
   "metadata": {},
   "source": [
    "### Delete from exempts table"
   ]
  },
  {
   "cell_type": "code",
   "execution_count": 47,
   "metadata": {},
   "outputs": [
    {
     "name": "stdout",
     "output_type": "stream",
     "text": [
      "\n",
      "DELETE FROM exempts\n",
      "WHERE name = 'SABUY' \n"
     ]
    }
   ],
   "source": [
    "name = 'SABUY'\n",
    "sqlDel = \"\"\"\n",
    "DELETE FROM exempts\n",
    "WHERE name = '%s' \"\"\"\n",
    "sqlDel = sqlDel % name\n",
    "print(sqlDel)"
   ]
  },
  {
   "cell_type": "code",
   "execution_count": 48,
   "metadata": {},
   "outputs": [
    {
     "data": {
      "text/plain": [
       "0"
      ]
     },
     "execution_count": 48,
     "metadata": {},
     "output_type": "execute_result"
    }
   ],
   "source": [
    "rp = conlt.execute(sqlDel)\n",
    "rp.rowcount"
   ]
  },
  {
   "cell_type": "markdown",
   "metadata": {},
   "source": [
    "### End of delete from exempts table"
   ]
  },
  {
   "cell_type": "code",
   "execution_count": 13,
   "metadata": {},
   "outputs": [
    {
     "data": {
      "text/plain": [
       "(411, 7)"
      ]
     },
     "execution_count": 13,
     "metadata": {},
     "output_type": "execute_result"
    }
   ],
   "source": [
    "df_merge = pd.merge(df, df_exempts, on='name', how='outer', indicator=True)\n",
    "df_merge.shape"
   ]
  },
  {
   "cell_type": "markdown",
   "metadata": {},
   "source": [
    "### Tickers that are in Exempts table"
   ]
  },
  {
   "cell_type": "code",
   "execution_count": 14,
   "metadata": {},
   "outputs": [
    {
     "data": {
      "text/html": [
       "<div>\n",
       "<style scoped>\n",
       "    .dataframe tbody tr th:only-of-type {\n",
       "        vertical-align: middle;\n",
       "    }\n",
       "\n",
       "    .dataframe tbody tr th {\n",
       "        vertical-align: top;\n",
       "    }\n",
       "\n",
       "    .dataframe thead th {\n",
       "        text-align: right;\n",
       "    }\n",
       "</style>\n",
       "<table border=\"1\" class=\"dataframe\">\n",
       "  <thead>\n",
       "    <tr style=\"text-align: right;\">\n",
       "      <th></th>\n",
       "      <th>name</th>\n",
       "      <th>year</th>\n",
       "      <th>quarter</th>\n",
       "      <th>published</th>\n",
       "      <th>link</th>\n",
       "    </tr>\n",
       "  </thead>\n",
       "  <tbody>\n",
       "    <tr>\n",
       "      <th>2</th>\n",
       "      <td>SCN</td>\n",
       "      <td>2022</td>\n",
       "      <td>3</td>\n",
       "      <td>Tue, 15 Nov 2022 08:40:54 +0700</td>\n",
       "      <td>https://classic.set.or.th/set/newsdetails.do?language=en&amp;country=US&amp;newsId=16684625106750</td>\n",
       "    </tr>\n",
       "    <tr>\n",
       "      <th>4</th>\n",
       "      <td>JKN</td>\n",
       "      <td>2022</td>\n",
       "      <td>3</td>\n",
       "      <td>Tue, 15 Nov 2022 08:34:18 +0700</td>\n",
       "      <td>https://classic.set.or.th/set/newsdetails.do?language=en&amp;country=US&amp;newsId=16684625105710</td>\n",
       "    </tr>\n",
       "    <tr>\n",
       "      <th>5</th>\n",
       "      <td>SABINA</td>\n",
       "      <td>2022</td>\n",
       "      <td>3</td>\n",
       "      <td>Tue, 15 Nov 2022 08:29:39 +0700</td>\n",
       "      <td>https://classic.set.or.th/set/newsdetails.do?language=en&amp;country=US&amp;newsId=16684625105240</td>\n",
       "    </tr>\n",
       "    <tr>\n",
       "      <th>6</th>\n",
       "      <td>CIG</td>\n",
       "      <td>2022</td>\n",
       "      <td>3</td>\n",
       "      <td>Tue, 15 Nov 2022 08:28:29 +0700</td>\n",
       "      <td>https://classic.set.or.th/set/newsdetails.do?language=en&amp;country=US&amp;newsId=16684625105190</td>\n",
       "    </tr>\n",
       "    <tr>\n",
       "      <th>7</th>\n",
       "      <td>TCC</td>\n",
       "      <td>2022</td>\n",
       "      <td>3</td>\n",
       "      <td>Tue, 15 Nov 2022 08:22:23 +0700</td>\n",
       "      <td>https://classic.set.or.th/set/newsdetails.do?language=en&amp;country=US&amp;newsId=16684625104610</td>\n",
       "    </tr>\n",
       "    <tr>\n",
       "      <th>9</th>\n",
       "      <td>SCI</td>\n",
       "      <td>2022</td>\n",
       "      <td>3</td>\n",
       "      <td>Tue, 15 Nov 2022 08:05:07 +0700</td>\n",
       "      <td>https://classic.set.or.th/set/newsdetails.do?language=en&amp;country=US&amp;newsId=16684625103460</td>\n",
       "    </tr>\n",
       "    <tr>\n",
       "      <th>11</th>\n",
       "      <td>TRU</td>\n",
       "      <td>2021</td>\n",
       "      <td>4</td>\n",
       "      <td>Tue, 15 Nov 2022 07:52:30 +0700</td>\n",
       "      <td>https://classic.set.or.th/set/newsdetails.do?language=en&amp;country=US&amp;newsId=16684625103060</td>\n",
       "    </tr>\n",
       "    <tr>\n",
       "      <th>13</th>\n",
       "      <td>ACC</td>\n",
       "      <td>2022</td>\n",
       "      <td>3</td>\n",
       "      <td>Tue, 15 Nov 2022 07:48:14 +0700</td>\n",
       "      <td>https://classic.set.or.th/set/newsdetails.do?language=en&amp;country=US&amp;newsId=16684625102780</td>\n",
       "    </tr>\n",
       "    <tr>\n",
       "      <th>14</th>\n",
       "      <td>TNPC</td>\n",
       "      <td>2022</td>\n",
       "      <td>3</td>\n",
       "      <td>Tue, 15 Nov 2022 07:21:33 +0700</td>\n",
       "      <td>https://classic.set.or.th/set/newsdetails.do?language=en&amp;country=US&amp;newsId=16684625101540</td>\n",
       "    </tr>\n",
       "    <tr>\n",
       "      <th>15</th>\n",
       "      <td>TRITN</td>\n",
       "      <td>2022</td>\n",
       "      <td>3</td>\n",
       "      <td>Tue, 15 Nov 2022 06:56:42 +0700</td>\n",
       "      <td>https://classic.set.or.th/set/newsdetails.do?language=en&amp;country=US&amp;newsId=16684625101010</td>\n",
       "    </tr>\n",
       "  </tbody>\n",
       "</table>\n",
       "</div>"
      ],
      "text/plain": [
       "      name  year  quarter                        published  \\\n",
       "2      SCN  2022        3  Tue, 15 Nov 2022 08:40:54 +0700   \n",
       "4      JKN  2022        3  Tue, 15 Nov 2022 08:34:18 +0700   \n",
       "5   SABINA  2022        3  Tue, 15 Nov 2022 08:29:39 +0700   \n",
       "6      CIG  2022        3  Tue, 15 Nov 2022 08:28:29 +0700   \n",
       "7      TCC  2022        3  Tue, 15 Nov 2022 08:22:23 +0700   \n",
       "9      SCI  2022        3  Tue, 15 Nov 2022 08:05:07 +0700   \n",
       "11     TRU  2021        4  Tue, 15 Nov 2022 07:52:30 +0700   \n",
       "13     ACC  2022        3  Tue, 15 Nov 2022 07:48:14 +0700   \n",
       "14    TNPC  2022        3  Tue, 15 Nov 2022 07:21:33 +0700   \n",
       "15   TRITN  2022        3  Tue, 15 Nov 2022 06:56:42 +0700   \n",
       "\n",
       "                                                                                         link  \n",
       "2   https://classic.set.or.th/set/newsdetails.do?language=en&country=US&newsId=16684625106750  \n",
       "4   https://classic.set.or.th/set/newsdetails.do?language=en&country=US&newsId=16684625105710  \n",
       "5   https://classic.set.or.th/set/newsdetails.do?language=en&country=US&newsId=16684625105240  \n",
       "6   https://classic.set.or.th/set/newsdetails.do?language=en&country=US&newsId=16684625105190  \n",
       "7   https://classic.set.or.th/set/newsdetails.do?language=en&country=US&newsId=16684625104610  \n",
       "9   https://classic.set.or.th/set/newsdetails.do?language=en&country=US&newsId=16684625103460  \n",
       "11  https://classic.set.or.th/set/newsdetails.do?language=en&country=US&newsId=16684625103060  \n",
       "13  https://classic.set.or.th/set/newsdetails.do?language=en&country=US&newsId=16684625102780  \n",
       "14  https://classic.set.or.th/set/newsdetails.do?language=en&country=US&newsId=16684625101540  \n",
       "15  https://classic.set.or.th/set/newsdetails.do?language=en&country=US&newsId=16684625101010  "
      ]
     },
     "execution_count": 14,
     "metadata": {},
     "output_type": "execute_result"
    }
   ],
   "source": [
    "in_exempts = df_merge.loc[\n",
    "    df_merge['_merge'] == 'both',\n",
    "    ['name','year','quarter','published','link']\n",
    "    \n",
    "]\n",
    "in_exempts.year = in_exempts.year.astype(int)\n",
    "in_exempts.quarter = in_exempts.quarter.astype(int)\n",
    "in_exempts.sort_values(by=['published'],ascending=[False])"
   ]
  },
  {
   "cell_type": "code",
   "execution_count": 15,
   "metadata": {},
   "outputs": [
    {
     "data": {
      "text/plain": [
       "10"
      ]
     },
     "execution_count": 15,
     "metadata": {},
     "output_type": "execute_result"
    }
   ],
   "source": [
    "in_exempts.sort_values(by=['published'],ascending=[False]).shape[0]"
   ]
  },
  {
   "cell_type": "markdown",
   "metadata": {},
   "source": [
    "### Not in exempts table"
   ]
  },
  {
   "cell_type": "code",
   "execution_count": 16,
   "metadata": {},
   "outputs": [
    {
     "data": {
      "text/html": [
       "<div>\n",
       "<style scoped>\n",
       "    .dataframe tbody tr th:only-of-type {\n",
       "        vertical-align: middle;\n",
       "    }\n",
       "\n",
       "    .dataframe tbody tr th {\n",
       "        vertical-align: top;\n",
       "    }\n",
       "\n",
       "    .dataframe thead th {\n",
       "        text-align: right;\n",
       "    }\n",
       "</style>\n",
       "<table border=\"1\" class=\"dataframe\">\n",
       "  <thead>\n",
       "    <tr style=\"text-align: right;\">\n",
       "      <th></th>\n",
       "      <th>name</th>\n",
       "      <th>year</th>\n",
       "      <th>quarter</th>\n",
       "      <th>published</th>\n",
       "      <th>link</th>\n",
       "    </tr>\n",
       "  </thead>\n",
       "  <tbody>\n",
       "    <tr>\n",
       "      <th>0</th>\n",
       "      <td>SAFARI</td>\n",
       "      <td>2022</td>\n",
       "      <td>3</td>\n",
       "      <td>Tue, 15 Nov 2022 12:31:23 +0700</td>\n",
       "      <td>https://classic.set.or.th/set/newsdetails.do?language=en&amp;country=US&amp;newsId=16684625113870</td>\n",
       "    </tr>\n",
       "    <tr>\n",
       "      <th>1</th>\n",
       "      <td>POLY</td>\n",
       "      <td>2022</td>\n",
       "      <td>3</td>\n",
       "      <td>Tue, 15 Nov 2022 08:43:58 +0700</td>\n",
       "      <td>https://classic.set.or.th/set/newsdetails.do?language=en&amp;country=US&amp;newsId=16684625107150</td>\n",
       "    </tr>\n",
       "    <tr>\n",
       "      <th>3</th>\n",
       "      <td>RAM</td>\n",
       "      <td>2022</td>\n",
       "      <td>3</td>\n",
       "      <td>Tue, 15 Nov 2022 08:39:28 +0700</td>\n",
       "      <td>https://classic.set.or.th/set/newsdetails.do?language=en&amp;country=US&amp;newsId=16684625106380</td>\n",
       "    </tr>\n",
       "    <tr>\n",
       "      <th>8</th>\n",
       "      <td>KCC</td>\n",
       "      <td>2022</td>\n",
       "      <td>3</td>\n",
       "      <td>Tue, 15 Nov 2022 08:17:42 +0700</td>\n",
       "      <td>https://classic.set.or.th/set/newsdetails.do?language=en&amp;country=US&amp;newsId=16684625104180</td>\n",
       "    </tr>\n",
       "    <tr>\n",
       "      <th>10</th>\n",
       "      <td>SKY</td>\n",
       "      <td>2022</td>\n",
       "      <td>3</td>\n",
       "      <td>Tue, 15 Nov 2022 08:02:13 +0700</td>\n",
       "      <td>https://classic.set.or.th/set/newsdetails.do?language=en&amp;country=US&amp;newsId=16684625103370</td>\n",
       "    </tr>\n",
       "    <tr>\n",
       "      <th>12</th>\n",
       "      <td>BYD</td>\n",
       "      <td>2022</td>\n",
       "      <td>3</td>\n",
       "      <td>Tue, 15 Nov 2022 07:48:36 +0700</td>\n",
       "      <td>https://classic.set.or.th/set/newsdetails.do?language=en&amp;country=US&amp;newsId=16684625102820</td>\n",
       "    </tr>\n",
       "    <tr>\n",
       "      <th>16</th>\n",
       "      <td>ALPHAX</td>\n",
       "      <td>2022</td>\n",
       "      <td>3</td>\n",
       "      <td>Tue, 15 Nov 2022 06:55:31 +0700</td>\n",
       "      <td>https://classic.set.or.th/set/newsdetails.do?language=en&amp;country=US&amp;newsId=16684625100960</td>\n",
       "    </tr>\n",
       "    <tr>\n",
       "      <th>17</th>\n",
       "      <td>IMH</td>\n",
       "      <td>2022</td>\n",
       "      <td>3</td>\n",
       "      <td>Tue, 15 Nov 2022 06:41:57 +0700</td>\n",
       "      <td>https://classic.set.or.th/set/newsdetails.do?language=en&amp;country=US&amp;newsId=16684625099810</td>\n",
       "    </tr>\n",
       "  </tbody>\n",
       "</table>\n",
       "</div>"
      ],
      "text/plain": [
       "      name  year  quarter                        published  \\\n",
       "0   SAFARI  2022        3  Tue, 15 Nov 2022 12:31:23 +0700   \n",
       "1     POLY  2022        3  Tue, 15 Nov 2022 08:43:58 +0700   \n",
       "3      RAM  2022        3  Tue, 15 Nov 2022 08:39:28 +0700   \n",
       "8      KCC  2022        3  Tue, 15 Nov 2022 08:17:42 +0700   \n",
       "10     SKY  2022        3  Tue, 15 Nov 2022 08:02:13 +0700   \n",
       "12     BYD  2022        3  Tue, 15 Nov 2022 07:48:36 +0700   \n",
       "16  ALPHAX  2022        3  Tue, 15 Nov 2022 06:55:31 +0700   \n",
       "17     IMH  2022        3  Tue, 15 Nov 2022 06:41:57 +0700   \n",
       "\n",
       "                                                                                         link  \n",
       "0   https://classic.set.or.th/set/newsdetails.do?language=en&country=US&newsId=16684625113870  \n",
       "1   https://classic.set.or.th/set/newsdetails.do?language=en&country=US&newsId=16684625107150  \n",
       "3   https://classic.set.or.th/set/newsdetails.do?language=en&country=US&newsId=16684625106380  \n",
       "8   https://classic.set.or.th/set/newsdetails.do?language=en&country=US&newsId=16684625104180  \n",
       "10  https://classic.set.or.th/set/newsdetails.do?language=en&country=US&newsId=16684625103370  \n",
       "12  https://classic.set.or.th/set/newsdetails.do?language=en&country=US&newsId=16684625102820  \n",
       "16  https://classic.set.or.th/set/newsdetails.do?language=en&country=US&newsId=16684625100960  \n",
       "17  https://classic.set.or.th/set/newsdetails.do?language=en&country=US&newsId=16684625099810  "
      ]
     },
     "execution_count": 16,
     "metadata": {},
     "output_type": "execute_result"
    }
   ],
   "source": [
    "df_out = df_merge.loc[\n",
    "    df_merge['_merge'] == 'left_only',\n",
    "    ['name','year','quarter','published','link']\n",
    "]\n",
    "df_out.year = df_out.year.astype(int)\n",
    "df_out.quarter = df_out.quarter.astype(int)\n",
    "df_out.sort_values(by=['published'],ascending=[False])"
   ]
  },
  {
   "cell_type": "code",
   "execution_count": 17,
   "metadata": {},
   "outputs": [
    {
     "data": {
      "text/plain": [
       "8"
      ]
     },
     "execution_count": 17,
     "metadata": {},
     "output_type": "execute_result"
    }
   ],
   "source": [
    "#df_out = df_out.drop(df_out.index[df_out['name'] == \"SCC\"])\n",
    "df_out.shape[0]"
   ]
  },
  {
   "cell_type": "code",
   "execution_count": 18,
   "metadata": {},
   "outputs": [
    {
     "data": {
      "text/plain": [
       "(401, 9)"
      ]
     },
     "execution_count": 18,
     "metadata": {},
     "output_type": "execute_result"
    }
   ],
   "source": [
    "sql = '''\n",
    "SELECT *\n",
    "FROM tickers\n",
    "ORDER BY name'''\n",
    "df_tickers = pd.read_sql(sql, conlt)\n",
    "df_tickers.shape"
   ]
  },
  {
   "cell_type": "code",
   "execution_count": 19,
   "metadata": {},
   "outputs": [
    {
     "data": {
      "text/plain": [
       "(408, 14)"
      ]
     },
     "execution_count": 19,
     "metadata": {},
     "output_type": "execute_result"
    }
   ],
   "source": [
    "df_merge2 = pd.merge(df_out, df_tickers, on='name', how='outer', indicator=True)\n",
    "df_merge2.shape"
   ]
  },
  {
   "cell_type": "markdown",
   "metadata": {},
   "source": [
    "### There are no ticker records"
   ]
  },
  {
   "cell_type": "code",
   "execution_count": 20,
   "metadata": {},
   "outputs": [
    {
     "data": {
      "text/html": [
       "<div>\n",
       "<style scoped>\n",
       "    .dataframe tbody tr th:only-of-type {\n",
       "        vertical-align: middle;\n",
       "    }\n",
       "\n",
       "    .dataframe tbody tr th {\n",
       "        vertical-align: top;\n",
       "    }\n",
       "\n",
       "    .dataframe thead th {\n",
       "        text-align: right;\n",
       "    }\n",
       "</style>\n",
       "<table border=\"1\" class=\"dataframe\">\n",
       "  <thead>\n",
       "    <tr style=\"text-align: right;\">\n",
       "      <th></th>\n",
       "      <th>name</th>\n",
       "      <th>year</th>\n",
       "      <th>quarter</th>\n",
       "      <th>published</th>\n",
       "      <th>link</th>\n",
       "    </tr>\n",
       "  </thead>\n",
       "  <tbody>\n",
       "    <tr>\n",
       "      <th>0</th>\n",
       "      <td>SAFARI</td>\n",
       "      <td>2022.0</td>\n",
       "      <td>3.0</td>\n",
       "      <td>Tue, 15 Nov 2022 12:31:23 +0700</td>\n",
       "      <td>https://classic.set.or.th/set/newsdetails.do?language=en&amp;country=US&amp;newsId=16684625113870</td>\n",
       "    </tr>\n",
       "    <tr>\n",
       "      <th>1</th>\n",
       "      <td>POLY</td>\n",
       "      <td>2022.0</td>\n",
       "      <td>3.0</td>\n",
       "      <td>Tue, 15 Nov 2022 08:43:58 +0700</td>\n",
       "      <td>https://classic.set.or.th/set/newsdetails.do?language=en&amp;country=US&amp;newsId=16684625107150</td>\n",
       "    </tr>\n",
       "    <tr>\n",
       "      <th>2</th>\n",
       "      <td>RAM</td>\n",
       "      <td>2022.0</td>\n",
       "      <td>3.0</td>\n",
       "      <td>Tue, 15 Nov 2022 08:39:28 +0700</td>\n",
       "      <td>https://classic.set.or.th/set/newsdetails.do?language=en&amp;country=US&amp;newsId=16684625106380</td>\n",
       "    </tr>\n",
       "    <tr>\n",
       "      <th>3</th>\n",
       "      <td>KCC</td>\n",
       "      <td>2022.0</td>\n",
       "      <td>3.0</td>\n",
       "      <td>Tue, 15 Nov 2022 08:17:42 +0700</td>\n",
       "      <td>https://classic.set.or.th/set/newsdetails.do?language=en&amp;country=US&amp;newsId=16684625104180</td>\n",
       "    </tr>\n",
       "    <tr>\n",
       "      <th>4</th>\n",
       "      <td>SKY</td>\n",
       "      <td>2022.0</td>\n",
       "      <td>3.0</td>\n",
       "      <td>Tue, 15 Nov 2022 08:02:13 +0700</td>\n",
       "      <td>https://classic.set.or.th/set/newsdetails.do?language=en&amp;country=US&amp;newsId=16684625103370</td>\n",
       "    </tr>\n",
       "    <tr>\n",
       "      <th>5</th>\n",
       "      <td>BYD</td>\n",
       "      <td>2022.0</td>\n",
       "      <td>3.0</td>\n",
       "      <td>Tue, 15 Nov 2022 07:48:36 +0700</td>\n",
       "      <td>https://classic.set.or.th/set/newsdetails.do?language=en&amp;country=US&amp;newsId=16684625102820</td>\n",
       "    </tr>\n",
       "    <tr>\n",
       "      <th>6</th>\n",
       "      <td>ALPHAX</td>\n",
       "      <td>2022.0</td>\n",
       "      <td>3.0</td>\n",
       "      <td>Tue, 15 Nov 2022 06:55:31 +0700</td>\n",
       "      <td>https://classic.set.or.th/set/newsdetails.do?language=en&amp;country=US&amp;newsId=16684625100960</td>\n",
       "    </tr>\n",
       "  </tbody>\n",
       "</table>\n",
       "</div>"
      ],
      "text/plain": [
       "     name    year  quarter                        published  \\\n",
       "0  SAFARI  2022.0      3.0  Tue, 15 Nov 2022 12:31:23 +0700   \n",
       "1    POLY  2022.0      3.0  Tue, 15 Nov 2022 08:43:58 +0700   \n",
       "2     RAM  2022.0      3.0  Tue, 15 Nov 2022 08:39:28 +0700   \n",
       "3     KCC  2022.0      3.0  Tue, 15 Nov 2022 08:17:42 +0700   \n",
       "4     SKY  2022.0      3.0  Tue, 15 Nov 2022 08:02:13 +0700   \n",
       "5     BYD  2022.0      3.0  Tue, 15 Nov 2022 07:48:36 +0700   \n",
       "6  ALPHAX  2022.0      3.0  Tue, 15 Nov 2022 06:55:31 +0700   \n",
       "\n",
       "                                                                                        link  \n",
       "0  https://classic.set.or.th/set/newsdetails.do?language=en&country=US&newsId=16684625113870  \n",
       "1  https://classic.set.or.th/set/newsdetails.do?language=en&country=US&newsId=16684625107150  \n",
       "2  https://classic.set.or.th/set/newsdetails.do?language=en&country=US&newsId=16684625106380  \n",
       "3  https://classic.set.or.th/set/newsdetails.do?language=en&country=US&newsId=16684625104180  \n",
       "4  https://classic.set.or.th/set/newsdetails.do?language=en&country=US&newsId=16684625103370  \n",
       "5  https://classic.set.or.th/set/newsdetails.do?language=en&country=US&newsId=16684625102820  \n",
       "6  https://classic.set.or.th/set/newsdetails.do?language=en&country=US&newsId=16684625100960  "
      ]
     },
     "execution_count": 20,
     "metadata": {},
     "output_type": "execute_result"
    }
   ],
   "source": [
    "df_merge2.loc[\n",
    "    df_merge2['_merge'] == 'left_only',\n",
    "    ['name','year','quarter','published','link']\n",
    "]"
   ]
  },
  {
   "cell_type": "code",
   "execution_count": 21,
   "metadata": {},
   "outputs": [
    {
     "data": {
      "text/plain": [
       "(7, 7)"
      ]
     },
     "execution_count": 21,
     "metadata": {},
     "output_type": "execute_result"
    }
   ],
   "source": [
    "df_merge2.loc[\n",
    "    df_merge2['_merge'] == 'left_only',\n",
    "    ['name','year','quarter','published','link','id','market']\n",
    "].shape"
   ]
  },
  {
   "cell_type": "markdown",
   "metadata": {},
   "source": [
    "### There are ticker records"
   ]
  },
  {
   "cell_type": "code",
   "execution_count": 22,
   "metadata": {
    "scrolled": true
   },
   "outputs": [
    {
     "data": {
      "text/html": [
       "<div>\n",
       "<style scoped>\n",
       "    .dataframe tbody tr th:only-of-type {\n",
       "        vertical-align: middle;\n",
       "    }\n",
       "\n",
       "    .dataframe tbody tr th {\n",
       "        vertical-align: top;\n",
       "    }\n",
       "\n",
       "    .dataframe thead th {\n",
       "        text-align: right;\n",
       "    }\n",
       "</style>\n",
       "<table border=\"1\" class=\"dataframe\">\n",
       "  <thead>\n",
       "    <tr style=\"text-align: right;\">\n",
       "      <th></th>\n",
       "      <th>name</th>\n",
       "      <th>year</th>\n",
       "      <th>quarter</th>\n",
       "      <th>published</th>\n",
       "      <th>link</th>\n",
       "      <th>id</th>\n",
       "      <th>market</th>\n",
       "    </tr>\n",
       "  </thead>\n",
       "  <tbody>\n",
       "    <tr>\n",
       "      <th>7</th>\n",
       "      <td>IMH</td>\n",
       "      <td>2022.0</td>\n",
       "      <td>3.0</td>\n",
       "      <td>Tue, 15 Nov 2022 06:41:57 +0700</td>\n",
       "      <td>https://classic.set.or.th/set/newsdetails.do?language=en&amp;country=US&amp;newsId=16684625099810</td>\n",
       "      <td>730.0</td>\n",
       "      <td>mai</td>\n",
       "    </tr>\n",
       "  </tbody>\n",
       "</table>\n",
       "</div>"
      ],
      "text/plain": [
       "  name    year  quarter                        published  \\\n",
       "7  IMH  2022.0      3.0  Tue, 15 Nov 2022 06:41:57 +0700   \n",
       "\n",
       "                                                                                        link  \\\n",
       "7  https://classic.set.or.th/set/newsdetails.do?language=en&country=US&newsId=16684625099810   \n",
       "\n",
       "      id market  \n",
       "7  730.0    mai  "
      ]
     },
     "execution_count": 22,
     "metadata": {},
     "output_type": "execute_result"
    }
   ],
   "source": [
    "df_out2 = df_merge2.loc[\n",
    "    df_merge2['_merge'] == 'both',\n",
    "    ['name','year','quarter','published','link','id','market']\n",
    "]\n",
    "df_out2"
   ]
  },
  {
   "cell_type": "code",
   "execution_count": 23,
   "metadata": {},
   "outputs": [
    {
     "data": {
      "text/plain": [
       "(1, 7)"
      ]
     },
     "execution_count": 23,
     "metadata": {},
     "output_type": "execute_result"
    }
   ],
   "source": [
    "df_out2 = df_out2[df_out2.year.notnull()]\n",
    "df_out2.shape"
   ]
  },
  {
   "cell_type": "code",
   "execution_count": 24,
   "metadata": {},
   "outputs": [
    {
     "data": {
      "text/plain": [
       "(1, 7)"
      ]
     },
     "execution_count": 24,
     "metadata": {},
     "output_type": "execute_result"
    }
   ],
   "source": [
    "df_out2['year'] = df_out2['year'].astype(int)\n",
    "df_out2['quarter'] = df_out2['quarter'].astype(int)\n",
    "df_out2.shape"
   ]
  },
  {
   "cell_type": "code",
   "execution_count": 25,
   "metadata": {},
   "outputs": [],
   "source": [
    "file_name = 'F45-CLEAN-' + mmdd_str + '.csv'\n",
    "clean_file = clean_path + file_name\n",
    "output_file = csv_path + file_name\n",
    "box_file = box_path + file_name\n",
    "one_file = one_path + file_name\n",
    "\n",
    "df_out2[['name','year','quarter','published','market']].sort_values(['published'],ascending=[False]).to_csv(output_file, header=True, index=False, sep=',')\n",
    "df_out2[['name','year','quarter','published','market']].sort_values(['published'],ascending=[False]).to_csv(clean_file, header=True, index=False, sep=',')\n",
    "df_out2[['name','year','quarter','published','market']].sort_values(['published'],ascending=[False]).to_csv(box_file, header=True, index=False, sep=',')\n",
    "df_out2[['name','year','quarter','published','market']].sort_values(['published'],ascending=[False]).to_csv(one_file, header=True, index=False, sep=',')"
   ]
  },
  {
   "cell_type": "code",
   "execution_count": 26,
   "metadata": {},
   "outputs": [
    {
     "data": {
      "text/plain": [
       "(677, 14)"
      ]
     },
     "execution_count": 26,
     "metadata": {},
     "output_type": "execute_result"
    }
   ],
   "source": [
    "sql = '''\n",
    "SELECT * \n",
    "FROM epss\n",
    "WHERE year = 2022'''\n",
    "df_epss = pd.read_sql(sql, conlt)\n",
    "df_epss.shape"
   ]
  },
  {
   "cell_type": "code",
   "execution_count": 27,
   "metadata": {},
   "outputs": [
    {
     "data": {
      "text/plain": [
       "(678, 19)"
      ]
     },
     "execution_count": 27,
     "metadata": {},
     "output_type": "execute_result"
    }
   ],
   "source": [
    "df_merge3 = pd.merge(df_out2, df_epss, on=['name','year','quarter'], how='outer', indicator=True)\n",
    "df_merge3.shape"
   ]
  },
  {
   "cell_type": "markdown",
   "metadata": {},
   "source": [
    "### Already input, display profit amt & eps to check with new F45"
   ]
  },
  {
   "cell_type": "code",
   "execution_count": 28,
   "metadata": {},
   "outputs": [
    {
     "data": {
      "text/html": [
       "<div>\n",
       "<style scoped>\n",
       "    .dataframe tbody tr th:only-of-type {\n",
       "        vertical-align: middle;\n",
       "    }\n",
       "\n",
       "    .dataframe tbody tr th {\n",
       "        vertical-align: top;\n",
       "    }\n",
       "\n",
       "    .dataframe thead th {\n",
       "        text-align: right;\n",
       "    }\n",
       "</style>\n",
       "<table border=\"1\" class=\"dataframe\">\n",
       "  <thead>\n",
       "    <tr style=\"text-align: right;\">\n",
       "      <th></th>\n",
       "      <th>name</th>\n",
       "      <th>year</th>\n",
       "      <th>quarter</th>\n",
       "      <th>published</th>\n",
       "      <th>link</th>\n",
       "      <th>id_x</th>\n",
       "      <th>market</th>\n",
       "      <th>id_y</th>\n",
       "      <th>q_amt</th>\n",
       "      <th>y_amt</th>\n",
       "      <th>aq_amt</th>\n",
       "      <th>ay_amt</th>\n",
       "      <th>q_eps</th>\n",
       "      <th>y_eps</th>\n",
       "      <th>aq_eps</th>\n",
       "      <th>ay_eps</th>\n",
       "      <th>ticker_id</th>\n",
       "      <th>publish_date</th>\n",
       "      <th>_merge</th>\n",
       "    </tr>\n",
       "  </thead>\n",
       "  <tbody>\n",
       "  </tbody>\n",
       "</table>\n",
       "</div>"
      ],
      "text/plain": [
       "Empty DataFrame\n",
       "Columns: [name, year, quarter, published, link, id_x, market, id_y, q_amt, y_amt, aq_amt, ay_amt, q_eps, y_eps, aq_eps, ay_eps, ticker_id, publish_date, _merge]\n",
       "Index: []"
      ]
     },
     "execution_count": 28,
     "metadata": {},
     "output_type": "execute_result"
    }
   ],
   "source": [
    "df_merge3[df_merge3['_merge'] == 'both']"
   ]
  },
  {
   "cell_type": "code",
   "execution_count": 29,
   "metadata": {},
   "outputs": [
    {
     "data": {
      "text/plain": [
       "(0, 19)"
      ]
     },
     "execution_count": 29,
     "metadata": {},
     "output_type": "execute_result"
    }
   ],
   "source": [
    "df_merge3[df_merge3['_merge'] == 'both'].shape"
   ]
  },
  {
   "cell_type": "markdown",
   "metadata": {},
   "source": [
    "### New F-45"
   ]
  },
  {
   "cell_type": "code",
   "execution_count": 30,
   "metadata": {},
   "outputs": [
    {
     "data": {
      "text/plain": [
       "(1, 19)"
      ]
     },
     "execution_count": 30,
     "metadata": {},
     "output_type": "execute_result"
    }
   ],
   "source": [
    "df_inp2 = df_merge3[df_merge3['_merge'] == 'left_only']\n",
    "df_inp3 = df_inp2.copy()\n",
    "df_inp3.shape"
   ]
  },
  {
   "cell_type": "code",
   "execution_count": 31,
   "metadata": {},
   "outputs": [
    {
     "data": {
      "text/plain": [
       "0    IMH 2022 3 https://classic.set.or.th/set/newsdetails.do?language=en&country=US&newsId=16684625099810\n",
       "dtype: object"
      ]
     },
     "execution_count": 31,
     "metadata": {},
     "output_type": "execute_result"
    }
   ],
   "source": [
    "df_inp3['year'] = df_inp3['year'].astype(str)\n",
    "df_inp3['quarter'] = df_inp3['quarter'].astype(str)\n",
    "final = df_inp3.sort_values('name',ascending=True)\n",
    "final_str = final.name+' '+final.year+' '+final.quarter+' '+final.link\n",
    "final_str"
   ]
  },
  {
   "cell_type": "code",
   "execution_count": 32,
   "metadata": {},
   "outputs": [
    {
     "data": {
      "text/plain": [
       "0    IMH 2022 3 https://classic.set.or.th/set/newsdetails.do?language=en&country=US&newsId=16684625099810\n",
       "dtype: object"
      ]
     },
     "execution_count": 32,
     "metadata": {},
     "output_type": "execute_result"
    }
   ],
   "source": [
    "df_inp3_q3 = df_inp3[df_inp3['quarter'] == '3']\n",
    "final_q3 = df_inp3_q3.sort_values('name',ascending=True)\n",
    "final_str_q3 = final_q3.name+' '+final_q3.year+' '+final_q3.quarter+' '+final_q3.link\n",
    "final_str_q3"
   ]
  },
  {
   "cell_type": "code",
   "execution_count": 33,
   "metadata": {},
   "outputs": [
    {
     "data": {
      "text/plain": [
       "Series([], dtype: object)"
      ]
     },
     "execution_count": 33,
     "metadata": {},
     "output_type": "execute_result"
    }
   ],
   "source": [
    "df_inp3_q1 = df_inp3[df_inp3['quarter'] != '3']\n",
    "final_q1 = df_inp3_q1.sort_values('name',ascending=True)\n",
    "final_str_q1 = final_q1.name+' '+final_q1.year+' '+final_q1.quarter+' '+final_q1.link\n",
    "final_str_q1"
   ]
  },
  {
   "cell_type": "code",
   "execution_count": null,
   "metadata": {},
   "outputs": [],
   "source": []
  }
 ],
 "metadata": {
  "kernelspec": {
   "display_name": "Python 3 (ipykernel)",
   "language": "python",
   "name": "python3"
  },
  "language_info": {
   "codemirror_mode": {
    "name": "ipython",
    "version": 3
   },
   "file_extension": ".py",
   "mimetype": "text/x-python",
   "name": "python",
   "nbconvert_exporter": "python",
   "pygments_lexer": "ipython3",
   "version": "3.8.11"
  }
 },
 "nbformat": 4,
 "nbformat_minor": 4
}
