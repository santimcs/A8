{
 "cells": [
  {
   "cell_type": "code",
   "execution_count": 2,
   "metadata": {},
   "outputs": [
    {
     "data": {
      "text/plain": [
       "'0824'"
      ]
     },
     "execution_count": 2,
     "metadata": {},
     "output_type": "execute_result"
    }
   ],
   "source": [
    "import feedparser\n",
    "import pandas as pd\n",
    "from datetime import date, timedelta\n",
    "from sqlalchemy import create_engine\n",
    "\n",
    "engine = create_engine(\"sqlite:///c:\\\\ruby\\\\portlt\\\\db\\\\development.sqlite3\")\n",
    "conlt = engine.connect()\n",
    "\n",
    "clean_path = \"../data/clean/\"\n",
    "raw_path = \"../data/raw/\"\n",
    "csv_path = \"\\\\Users\\\\User\\\\iCloudDrive\\\\\"\n",
    "box_path = \"\\\\Users\\\\User\\\\Dropbox\\\\\"\n",
    "one_path = \"\\\\Users\\\\User\\\\OneDrive\\\\Documents\\\\Data\\\\\"\n",
    "pdf_path = \"../PDF/\"\n",
    "\n",
    "pd.set_option('display.max_colwidth', 255)\n",
    "pd.set_option('display.max_rows',None)\n",
    "url = \"https://feeds.feedburner.com/Setorth-form45-en\"\n",
    "\n",
    "today = date.today()\n",
    "year = 2022\n",
    "mmdd_str = today.strftime('%m%d')\n",
    "mmdd_str"
   ]
  },
  {
   "cell_type": "code",
   "execution_count": 3,
   "metadata": {},
   "outputs": [
    {
     "data": {
      "text/plain": [
       "'0824'"
      ]
     },
     "execution_count": 3,
     "metadata": {},
     "output_type": "execute_result"
    }
   ],
   "source": [
    "#today = date(2022, 8, 11)\n",
    "mmdd_str = today.strftime('%m%d')\n",
    "mmdd_str"
   ]
  },
  {
   "cell_type": "code",
   "execution_count": 4,
   "metadata": {},
   "outputs": [
    {
     "name": "stdout",
     "output_type": "stream",
     "text": [
      "Number of F45:  3\n"
     ]
    }
   ],
   "source": [
    "rss_source = feedparser.parse(url)\n",
    "f45_number = len(rss_source.entries)\n",
    "print(\"Number of F45: \", f45_number)"
   ]
  },
  {
   "cell_type": "code",
   "execution_count": 5,
   "metadata": {},
   "outputs": [
    {
     "name": "stdout",
     "output_type": "stream",
     "text": [
      "\n",
      "----------------------------------\n",
      "\n",
      "F45: 0\n",
      "Title:  UOBKH\n",
      "Year:  2022\n",
      "Quarter:  n\n",
      "Link:  https://classic.set.or.th/set/newsdetails.do?language=en&country=US&newsId=16612974219950\n",
      "Published:  Wed, 24 Aug 2022 19:36:04 +0700\n",
      "\n",
      "----------------------------------\n",
      "\n",
      "F45: 1\n",
      "Title:  KGI\n",
      "Year:  2022\n",
      "Quarter:  n\n",
      "Link:  https://classic.set.or.th/set/newsdetails.do?language=en&country=US&newsId=16612974218200\n",
      "Published:  Wed, 24 Aug 2022 18:23:14 +0700\n",
      "\n",
      "----------------------------------\n",
      "\n",
      "F45: 2\n",
      "Title:  UOBKH\n",
      "Year:  2022\n",
      "Quarter:  r\n",
      "Link:  https://classic.set.or.th/set/newsdetails.do?language=en&country=US&newsId=16612974214270\n",
      "Published:  Wed, 24 Aug 2022 17:27:14 +0700\n"
     ]
    }
   ],
   "source": [
    "f45_items = []\n",
    "\n",
    "for x in range(f45_number):\n",
    "    f45_content = rss_source.entries[x]\n",
    "    f45_item = {}\n",
    "    \n",
    "    print(\"\\n----------------------------------\\n\")\n",
    "    \n",
    "    print(\"F45: \" + str(x))\n",
    "    title_ary = f45_content.title.partition(' ')\n",
    "    f45_item['name'] = title_ary[0].strip() \n",
    "    print(\"Title: \", f45_item['name'])  \n",
    "    f45_item['year'] = year\n",
    "    print(\"Year: \", f45_item['year'])      \n",
    "    qtr_ary = title_ary[2].partition(' (F45)')\n",
    "    f45_item['quarter'] = qtr_ary[0][-1]    \n",
    "    print(\"Quarter: \", f45_item['quarter'])    \n",
    "    f45_item['link'] = f45_content.link\n",
    "    print(\"Link: \", f45_item['link'])\n",
    "    f45_item['published'] = f45_content.published\n",
    "    print(\"Published: \", f45_item['published'])  \n",
    "    f45_items.append(f45_item)"
   ]
  },
  {
   "cell_type": "code",
   "execution_count": 6,
   "metadata": {},
   "outputs": [
    {
     "data": {
      "text/html": [
       "<div>\n",
       "<style scoped>\n",
       "    .dataframe tbody tr th:only-of-type {\n",
       "        vertical-align: middle;\n",
       "    }\n",
       "\n",
       "    .dataframe tbody tr th {\n",
       "        vertical-align: top;\n",
       "    }\n",
       "\n",
       "    .dataframe thead th {\n",
       "        text-align: right;\n",
       "    }\n",
       "</style>\n",
       "<table border=\"1\" class=\"dataframe\">\n",
       "  <thead>\n",
       "    <tr style=\"text-align: right;\">\n",
       "      <th></th>\n",
       "      <th>name</th>\n",
       "      <th>year</th>\n",
       "      <th>quarter</th>\n",
       "      <th>published</th>\n",
       "    </tr>\n",
       "  </thead>\n",
       "  <tbody>\n",
       "    <tr>\n",
       "      <th>0</th>\n",
       "      <td>UOBKH</td>\n",
       "      <td>2022</td>\n",
       "      <td>n</td>\n",
       "      <td>Wed, 24 Aug 2022 19:36:04 +0700</td>\n",
       "    </tr>\n",
       "    <tr>\n",
       "      <th>1</th>\n",
       "      <td>KGI</td>\n",
       "      <td>2022</td>\n",
       "      <td>n</td>\n",
       "      <td>Wed, 24 Aug 2022 18:23:14 +0700</td>\n",
       "    </tr>\n",
       "    <tr>\n",
       "      <th>2</th>\n",
       "      <td>UOBKH</td>\n",
       "      <td>2022</td>\n",
       "      <td>r</td>\n",
       "      <td>Wed, 24 Aug 2022 17:27:14 +0700</td>\n",
       "    </tr>\n",
       "  </tbody>\n",
       "</table>\n",
       "</div>"
      ],
      "text/plain": [
       "    name  year quarter                        published\n",
       "0  UOBKH  2022       n  Wed, 24 Aug 2022 19:36:04 +0700\n",
       "1    KGI  2022       n  Wed, 24 Aug 2022 18:23:14 +0700\n",
       "2  UOBKH  2022       r  Wed, 24 Aug 2022 17:27:14 +0700"
      ]
     },
     "execution_count": 6,
     "metadata": {},
     "output_type": "execute_result"
    }
   ],
   "source": [
    "df = pd.DataFrame(f45_items)\n",
    "df[['name','year','quarter','published']]"
   ]
  },
  {
   "cell_type": "code",
   "execution_count": 7,
   "metadata": {},
   "outputs": [
    {
     "data": {
      "text/plain": [
       "name         object\n",
       "year          int64\n",
       "quarter      object\n",
       "link         object\n",
       "published    object\n",
       "dtype: object"
      ]
     },
     "execution_count": 7,
     "metadata": {},
     "output_type": "execute_result"
    }
   ],
   "source": [
    "df.dtypes"
   ]
  },
  {
   "cell_type": "code",
   "execution_count": 9,
   "metadata": {
    "scrolled": true
   },
   "outputs": [
    {
     "data": {
      "text/html": [
       "<div>\n",
       "<style scoped>\n",
       "    .dataframe tbody tr th:only-of-type {\n",
       "        vertical-align: middle;\n",
       "    }\n",
       "\n",
       "    .dataframe tbody tr th {\n",
       "        vertical-align: top;\n",
       "    }\n",
       "\n",
       "    .dataframe thead th {\n",
       "        text-align: right;\n",
       "    }\n",
       "</style>\n",
       "<table border=\"1\" class=\"dataframe\">\n",
       "  <thead>\n",
       "    <tr style=\"text-align: right;\">\n",
       "      <th></th>\n",
       "      <th></th>\n",
       "      <th>name</th>\n",
       "      <th>link</th>\n",
       "      <th>published</th>\n",
       "    </tr>\n",
       "    <tr>\n",
       "      <th>year</th>\n",
       "      <th>quarter</th>\n",
       "      <th></th>\n",
       "      <th></th>\n",
       "      <th></th>\n",
       "    </tr>\n",
       "  </thead>\n",
       "  <tbody>\n",
       "    <tr>\n",
       "      <th>2022</th>\n",
       "      <th>2</th>\n",
       "      <td>3</td>\n",
       "      <td>3</td>\n",
       "      <td>3</td>\n",
       "    </tr>\n",
       "  </tbody>\n",
       "</table>\n",
       "</div>"
      ],
      "text/plain": [
       "              name  link  published\n",
       "year quarter                       \n",
       "2022 2           3     3          3"
      ]
     },
     "execution_count": 9,
     "metadata": {},
     "output_type": "execute_result"
    }
   ],
   "source": [
    "df.loc[(df.quarter == 'n') ,['year','quarter']] = ['2022','2']\n",
    "df.groupby(['year','quarter']).count()"
   ]
  },
  {
   "cell_type": "code",
   "execution_count": 10,
   "metadata": {},
   "outputs": [
    {
     "data": {
      "text/html": [
       "<div>\n",
       "<style scoped>\n",
       "    .dataframe tbody tr th:only-of-type {\n",
       "        vertical-align: middle;\n",
       "    }\n",
       "\n",
       "    .dataframe tbody tr th {\n",
       "        vertical-align: top;\n",
       "    }\n",
       "\n",
       "    .dataframe thead th {\n",
       "        text-align: right;\n",
       "    }\n",
       "</style>\n",
       "<table border=\"1\" class=\"dataframe\">\n",
       "  <thead>\n",
       "    <tr style=\"text-align: right;\">\n",
       "      <th></th>\n",
       "      <th></th>\n",
       "      <th>name</th>\n",
       "      <th>link</th>\n",
       "      <th>published</th>\n",
       "    </tr>\n",
       "    <tr>\n",
       "      <th>year</th>\n",
       "      <th>quarter</th>\n",
       "      <th></th>\n",
       "      <th></th>\n",
       "      <th></th>\n",
       "    </tr>\n",
       "  </thead>\n",
       "  <tbody>\n",
       "    <tr>\n",
       "      <th>2022</th>\n",
       "      <th>2</th>\n",
       "      <td>3</td>\n",
       "      <td>3</td>\n",
       "      <td>3</td>\n",
       "    </tr>\n",
       "  </tbody>\n",
       "</table>\n",
       "</div>"
      ],
      "text/plain": [
       "              name  link  published\n",
       "year quarter                       \n",
       "2022 2           3     3          3"
      ]
     },
     "execution_count": 10,
     "metadata": {},
     "output_type": "execute_result"
    }
   ],
   "source": [
    "df.quarter = df.quarter.astype(int)\n",
    "df.groupby(['year','quarter']).count()"
   ]
  },
  {
   "cell_type": "code",
   "execution_count": 11,
   "metadata": {},
   "outputs": [
    {
     "data": {
      "text/plain": [
       "(3, 5)"
      ]
     },
     "execution_count": 11,
     "metadata": {},
     "output_type": "execute_result"
    }
   ],
   "source": [
    "df.shape"
   ]
  },
  {
   "cell_type": "code",
   "execution_count": 12,
   "metadata": {},
   "outputs": [
    {
     "data": {
      "text/plain": [
       "(2, 5)"
      ]
     },
     "execution_count": 12,
     "metadata": {},
     "output_type": "execute_result"
    }
   ],
   "source": [
    "### First equals to latest published pdf file\n",
    "df = df.drop_duplicates(subset='name', keep='first')\n",
    "df.shape"
   ]
  },
  {
   "cell_type": "code",
   "execution_count": 13,
   "metadata": {},
   "outputs": [],
   "source": [
    "file_name = 'F45-RAW-' + mmdd_str + '.csv'\n",
    "raw_file = raw_path + file_name\n",
    "output_file = csv_path + file_name\n",
    "box_file = box_path + file_name\n",
    "one_file = one_path + file_name\n",
    "\n",
    "df[['name','year','quarter','published']].to_csv(output_file, header=True, index=False, sep=',')\n",
    "df[['name','year','quarter','published']].to_csv(box_file,    header=True, index=False, sep=',')\n",
    "df[['name','year','quarter','published']].to_csv(one_file,    header=True, index=False, sep=',')\n",
    "df[['name','year','quarter','published']].to_csv(raw_file,    header=True, index=False, sep=',')"
   ]
  },
  {
   "cell_type": "code",
   "execution_count": 14,
   "metadata": {},
   "outputs": [
    {
     "data": {
      "text/plain": [
       "405"
      ]
     },
     "execution_count": 14,
     "metadata": {},
     "output_type": "execute_result"
    }
   ],
   "source": [
    "sql = '''\n",
    "SELECT *\n",
    "FROM exempts\n",
    "ORDER BY name'''\n",
    "df_exempts = pd.read_sql(sql, conlt)\n",
    "df_exempts.shape[0]"
   ]
  },
  {
   "cell_type": "code",
   "execution_count": 15,
   "metadata": {},
   "outputs": [
    {
     "data": {
      "text/plain": [
       "(406, 7)"
      ]
     },
     "execution_count": 15,
     "metadata": {},
     "output_type": "execute_result"
    }
   ],
   "source": [
    "df_merge = pd.merge(df, df_exempts, on='name', how='outer', indicator=True)\n",
    "df_merge.shape"
   ]
  },
  {
   "cell_type": "markdown",
   "metadata": {},
   "source": [
    "### Tickers that are in Exempts table"
   ]
  },
  {
   "cell_type": "code",
   "execution_count": 16,
   "metadata": {},
   "outputs": [
    {
     "data": {
      "text/html": [
       "<div>\n",
       "<style scoped>\n",
       "    .dataframe tbody tr th:only-of-type {\n",
       "        vertical-align: middle;\n",
       "    }\n",
       "\n",
       "    .dataframe tbody tr th {\n",
       "        vertical-align: top;\n",
       "    }\n",
       "\n",
       "    .dataframe thead th {\n",
       "        text-align: right;\n",
       "    }\n",
       "</style>\n",
       "<table border=\"1\" class=\"dataframe\">\n",
       "  <thead>\n",
       "    <tr style=\"text-align: right;\">\n",
       "      <th></th>\n",
       "      <th>name</th>\n",
       "      <th>year</th>\n",
       "      <th>quarter</th>\n",
       "      <th>published</th>\n",
       "      <th>link</th>\n",
       "    </tr>\n",
       "  </thead>\n",
       "  <tbody>\n",
       "    <tr>\n",
       "      <th>0</th>\n",
       "      <td>UOBKH</td>\n",
       "      <td>2022</td>\n",
       "      <td>2</td>\n",
       "      <td>Wed, 24 Aug 2022 19:36:04 +0700</td>\n",
       "      <td>https://classic.set.or.th/set/newsdetails.do?language=en&amp;country=US&amp;newsId=16612974219950</td>\n",
       "    </tr>\n",
       "  </tbody>\n",
       "</table>\n",
       "</div>"
      ],
      "text/plain": [
       "    name  year  quarter                        published  \\\n",
       "0  UOBKH  2022        2  Wed, 24 Aug 2022 19:36:04 +0700   \n",
       "\n",
       "                                                                                        link  \n",
       "0  https://classic.set.or.th/set/newsdetails.do?language=en&country=US&newsId=16612974219950  "
      ]
     },
     "execution_count": 16,
     "metadata": {},
     "output_type": "execute_result"
    }
   ],
   "source": [
    "in_exempts = df_merge.loc[\n",
    "    df_merge['_merge'] == 'both',\n",
    "    ['name','year','quarter','published','link']\n",
    "    \n",
    "]\n",
    "in_exempts.year = in_exempts.year.astype(int)\n",
    "in_exempts.quarter = in_exempts.quarter.astype(int)\n",
    "in_exempts.sort_values(by=['published'],ascending=[False])"
   ]
  },
  {
   "cell_type": "code",
   "execution_count": 17,
   "metadata": {},
   "outputs": [
    {
     "data": {
      "text/plain": [
       "1"
      ]
     },
     "execution_count": 17,
     "metadata": {},
     "output_type": "execute_result"
    }
   ],
   "source": [
    "in_exempts.sort_values(by=['published'],ascending=[False]).shape[0]"
   ]
  },
  {
   "cell_type": "markdown",
   "metadata": {},
   "source": [
    "### Not in exempts table"
   ]
  },
  {
   "cell_type": "code",
   "execution_count": 18,
   "metadata": {},
   "outputs": [
    {
     "data": {
      "text/html": [
       "<div>\n",
       "<style scoped>\n",
       "    .dataframe tbody tr th:only-of-type {\n",
       "        vertical-align: middle;\n",
       "    }\n",
       "\n",
       "    .dataframe tbody tr th {\n",
       "        vertical-align: top;\n",
       "    }\n",
       "\n",
       "    .dataframe thead th {\n",
       "        text-align: right;\n",
       "    }\n",
       "</style>\n",
       "<table border=\"1\" class=\"dataframe\">\n",
       "  <thead>\n",
       "    <tr style=\"text-align: right;\">\n",
       "      <th></th>\n",
       "      <th>name</th>\n",
       "      <th>year</th>\n",
       "      <th>quarter</th>\n",
       "      <th>published</th>\n",
       "      <th>link</th>\n",
       "    </tr>\n",
       "  </thead>\n",
       "  <tbody>\n",
       "    <tr>\n",
       "      <th>1</th>\n",
       "      <td>KGI</td>\n",
       "      <td>2022</td>\n",
       "      <td>2</td>\n",
       "      <td>Wed, 24 Aug 2022 18:23:14 +0700</td>\n",
       "      <td>https://classic.set.or.th/set/newsdetails.do?language=en&amp;country=US&amp;newsId=16612974218200</td>\n",
       "    </tr>\n",
       "  </tbody>\n",
       "</table>\n",
       "</div>"
      ],
      "text/plain": [
       "  name  year  quarter                        published  \\\n",
       "1  KGI  2022        2  Wed, 24 Aug 2022 18:23:14 +0700   \n",
       "\n",
       "                                                                                        link  \n",
       "1  https://classic.set.or.th/set/newsdetails.do?language=en&country=US&newsId=16612974218200  "
      ]
     },
     "execution_count": 18,
     "metadata": {},
     "output_type": "execute_result"
    }
   ],
   "source": [
    "df_out = df_merge.loc[\n",
    "    df_merge['_merge'] == 'left_only',\n",
    "    ['name','year','quarter','published','link']\n",
    "]\n",
    "df_out.year = df_out.year.astype(int)\n",
    "df_out.quarter = df_out.quarter.astype(int)\n",
    "df_out.sort_values(by=['published'],ascending=[False])"
   ]
  },
  {
   "cell_type": "code",
   "execution_count": 19,
   "metadata": {},
   "outputs": [
    {
     "data": {
      "text/plain": [
       "1"
      ]
     },
     "execution_count": 19,
     "metadata": {},
     "output_type": "execute_result"
    }
   ],
   "source": [
    "#df_out = df_out.drop(df_out.index[df_out['name'] == \"SCC\"])\n",
    "df_out.shape[0]"
   ]
  },
  {
   "cell_type": "code",
   "execution_count": 20,
   "metadata": {},
   "outputs": [
    {
     "data": {
      "text/plain": [
       "(402, 9)"
      ]
     },
     "execution_count": 20,
     "metadata": {},
     "output_type": "execute_result"
    }
   ],
   "source": [
    "sql = '''\n",
    "SELECT *\n",
    "FROM tickers\n",
    "ORDER BY name'''\n",
    "df_tickers = pd.read_sql(sql, conlt)\n",
    "df_tickers.shape"
   ]
  },
  {
   "cell_type": "code",
   "execution_count": 21,
   "metadata": {},
   "outputs": [
    {
     "data": {
      "text/plain": [
       "(402, 14)"
      ]
     },
     "execution_count": 21,
     "metadata": {},
     "output_type": "execute_result"
    }
   ],
   "source": [
    "df_merge2 = pd.merge(df_out, df_tickers, on='name', how='outer', indicator=True)\n",
    "df_merge2.shape"
   ]
  },
  {
   "cell_type": "markdown",
   "metadata": {},
   "source": [
    "### There are no ticker records"
   ]
  },
  {
   "cell_type": "code",
   "execution_count": 22,
   "metadata": {},
   "outputs": [
    {
     "data": {
      "text/html": [
       "<div>\n",
       "<style scoped>\n",
       "    .dataframe tbody tr th:only-of-type {\n",
       "        vertical-align: middle;\n",
       "    }\n",
       "\n",
       "    .dataframe tbody tr th {\n",
       "        vertical-align: top;\n",
       "    }\n",
       "\n",
       "    .dataframe thead th {\n",
       "        text-align: right;\n",
       "    }\n",
       "</style>\n",
       "<table border=\"1\" class=\"dataframe\">\n",
       "  <thead>\n",
       "    <tr style=\"text-align: right;\">\n",
       "      <th></th>\n",
       "      <th>name</th>\n",
       "      <th>year</th>\n",
       "      <th>quarter</th>\n",
       "      <th>published</th>\n",
       "      <th>link</th>\n",
       "    </tr>\n",
       "  </thead>\n",
       "  <tbody>\n",
       "  </tbody>\n",
       "</table>\n",
       "</div>"
      ],
      "text/plain": [
       "Empty DataFrame\n",
       "Columns: [name, year, quarter, published, link]\n",
       "Index: []"
      ]
     },
     "execution_count": 22,
     "metadata": {},
     "output_type": "execute_result"
    }
   ],
   "source": [
    "df_merge2.loc[\n",
    "    df_merge2['_merge'] == 'left_only',\n",
    "    ['name','year','quarter','published','link']\n",
    "]"
   ]
  },
  {
   "cell_type": "code",
   "execution_count": 23,
   "metadata": {},
   "outputs": [
    {
     "data": {
      "text/plain": [
       "(0, 7)"
      ]
     },
     "execution_count": 23,
     "metadata": {},
     "output_type": "execute_result"
    }
   ],
   "source": [
    "df_merge2.loc[\n",
    "    df_merge2['_merge'] == 'left_only',\n",
    "    ['name','year','quarter','published','link','id','market']\n",
    "].shape"
   ]
  },
  {
   "cell_type": "markdown",
   "metadata": {},
   "source": [
    "### There are ticker records"
   ]
  },
  {
   "cell_type": "code",
   "execution_count": 24,
   "metadata": {},
   "outputs": [
    {
     "data": {
      "text/html": [
       "<div>\n",
       "<style scoped>\n",
       "    .dataframe tbody tr th:only-of-type {\n",
       "        vertical-align: middle;\n",
       "    }\n",
       "\n",
       "    .dataframe tbody tr th {\n",
       "        vertical-align: top;\n",
       "    }\n",
       "\n",
       "    .dataframe thead th {\n",
       "        text-align: right;\n",
       "    }\n",
       "</style>\n",
       "<table border=\"1\" class=\"dataframe\">\n",
       "  <thead>\n",
       "    <tr style=\"text-align: right;\">\n",
       "      <th></th>\n",
       "      <th>name</th>\n",
       "      <th>year</th>\n",
       "      <th>quarter</th>\n",
       "      <th>published</th>\n",
       "      <th>link</th>\n",
       "      <th>id</th>\n",
       "      <th>market</th>\n",
       "    </tr>\n",
       "  </thead>\n",
       "  <tbody>\n",
       "    <tr>\n",
       "      <th>0</th>\n",
       "      <td>KGI</td>\n",
       "      <td>2022.0</td>\n",
       "      <td>2.0</td>\n",
       "      <td>Wed, 24 Aug 2022 18:23:14 +0700</td>\n",
       "      <td>https://classic.set.or.th/set/newsdetails.do?language=en&amp;country=US&amp;newsId=16612974218200</td>\n",
       "      <td>252</td>\n",
       "      <td>sSET</td>\n",
       "    </tr>\n",
       "  </tbody>\n",
       "</table>\n",
       "</div>"
      ],
      "text/plain": [
       "  name    year  quarter                        published  \\\n",
       "0  KGI  2022.0      2.0  Wed, 24 Aug 2022 18:23:14 +0700   \n",
       "\n",
       "                                                                                        link  \\\n",
       "0  https://classic.set.or.th/set/newsdetails.do?language=en&country=US&newsId=16612974218200   \n",
       "\n",
       "    id market  \n",
       "0  252   sSET  "
      ]
     },
     "execution_count": 24,
     "metadata": {},
     "output_type": "execute_result"
    }
   ],
   "source": [
    "df_out2 = df_merge2.loc[\n",
    "    df_merge2['_merge'] == 'both',\n",
    "    ['name','year','quarter','published','link','id','market']\n",
    "]\n",
    "df_out2"
   ]
  },
  {
   "cell_type": "code",
   "execution_count": 25,
   "metadata": {},
   "outputs": [
    {
     "data": {
      "text/plain": [
       "(1, 7)"
      ]
     },
     "execution_count": 25,
     "metadata": {},
     "output_type": "execute_result"
    }
   ],
   "source": [
    "df_out2 = df_out2[df_out2.year.notnull()]\n",
    "df_out2.shape"
   ]
  },
  {
   "cell_type": "code",
   "execution_count": 26,
   "metadata": {},
   "outputs": [
    {
     "data": {
      "text/plain": [
       "(1, 7)"
      ]
     },
     "execution_count": 26,
     "metadata": {},
     "output_type": "execute_result"
    }
   ],
   "source": [
    "df_out2['year'] = df_out2['year'].astype(int)\n",
    "df_out2['quarter'] = df_out2['quarter'].astype(int)\n",
    "df_out2.shape"
   ]
  },
  {
   "cell_type": "code",
   "execution_count": 27,
   "metadata": {},
   "outputs": [],
   "source": [
    "file_name = 'F45-CLEAN-' + mmdd_str + '.csv'\n",
    "clean_file = clean_path + file_name\n",
    "output_file = csv_path + file_name\n",
    "box_file = box_path + file_name\n",
    "one_file = one_path + file_name\n",
    "\n",
    "df_out2[['name','year','quarter','published','market']].sort_values(['published'],ascending=[False]).to_csv(output_file, header=True, index=False, sep=',')\n",
    "df_out2[['name','year','quarter','published','market']].sort_values(['published'],ascending=[False]).to_csv(clean_file, header=True, index=False, sep=',')\n",
    "df_out2[['name','year','quarter','published','market']].sort_values(['published'],ascending=[False]).to_csv(box_file, header=True, index=False, sep=',')\n",
    "df_out2[['name','year','quarter','published','market']].sort_values(['published'],ascending=[False]).to_csv(one_file, header=True, index=False, sep=',')"
   ]
  },
  {
   "cell_type": "code",
   "execution_count": 28,
   "metadata": {},
   "outputs": [
    {
     "data": {
      "text/plain": [
       "(451, 14)"
      ]
     },
     "execution_count": 28,
     "metadata": {},
     "output_type": "execute_result"
    }
   ],
   "source": [
    "sql = '''\n",
    "SELECT * \n",
    "FROM epss\n",
    "WHERE year = 2022'''\n",
    "df_epss = pd.read_sql(sql, conlt)\n",
    "df_epss.shape"
   ]
  },
  {
   "cell_type": "code",
   "execution_count": 29,
   "metadata": {},
   "outputs": [
    {
     "data": {
      "text/plain": [
       "(452, 19)"
      ]
     },
     "execution_count": 29,
     "metadata": {},
     "output_type": "execute_result"
    }
   ],
   "source": [
    "df_merge3 = pd.merge(df_out2, df_epss, on=['name','year','quarter'], how='outer', indicator=True)\n",
    "df_merge3.shape"
   ]
  },
  {
   "cell_type": "markdown",
   "metadata": {},
   "source": [
    "### Already input, display profit amt & eps to check with new F45"
   ]
  },
  {
   "cell_type": "code",
   "execution_count": 30,
   "metadata": {},
   "outputs": [
    {
     "data": {
      "text/html": [
       "<div>\n",
       "<style scoped>\n",
       "    .dataframe tbody tr th:only-of-type {\n",
       "        vertical-align: middle;\n",
       "    }\n",
       "\n",
       "    .dataframe tbody tr th {\n",
       "        vertical-align: top;\n",
       "    }\n",
       "\n",
       "    .dataframe thead th {\n",
       "        text-align: right;\n",
       "    }\n",
       "</style>\n",
       "<table border=\"1\" class=\"dataframe\">\n",
       "  <thead>\n",
       "    <tr style=\"text-align: right;\">\n",
       "      <th></th>\n",
       "      <th>name</th>\n",
       "      <th>year</th>\n",
       "      <th>quarter</th>\n",
       "      <th>published</th>\n",
       "      <th>link</th>\n",
       "      <th>id_x</th>\n",
       "      <th>market</th>\n",
       "      <th>id_y</th>\n",
       "      <th>q_amt</th>\n",
       "      <th>y_amt</th>\n",
       "      <th>aq_amt</th>\n",
       "      <th>ay_amt</th>\n",
       "      <th>q_eps</th>\n",
       "      <th>y_eps</th>\n",
       "      <th>aq_eps</th>\n",
       "      <th>ay_eps</th>\n",
       "      <th>ticker_id</th>\n",
       "      <th>publish_date</th>\n",
       "      <th>_merge</th>\n",
       "    </tr>\n",
       "  </thead>\n",
       "  <tbody>\n",
       "  </tbody>\n",
       "</table>\n",
       "</div>"
      ],
      "text/plain": [
       "Empty DataFrame\n",
       "Columns: [name, year, quarter, published, link, id_x, market, id_y, q_amt, y_amt, aq_amt, ay_amt, q_eps, y_eps, aq_eps, ay_eps, ticker_id, publish_date, _merge]\n",
       "Index: []"
      ]
     },
     "execution_count": 30,
     "metadata": {},
     "output_type": "execute_result"
    }
   ],
   "source": [
    "df_merge3[df_merge3['_merge'] == 'both']"
   ]
  },
  {
   "cell_type": "code",
   "execution_count": 31,
   "metadata": {},
   "outputs": [
    {
     "data": {
      "text/plain": [
       "(0, 19)"
      ]
     },
     "execution_count": 31,
     "metadata": {},
     "output_type": "execute_result"
    }
   ],
   "source": [
    "df_merge3[df_merge3['_merge'] == 'both'].shape"
   ]
  },
  {
   "cell_type": "markdown",
   "metadata": {},
   "source": [
    "### New F-45"
   ]
  },
  {
   "cell_type": "code",
   "execution_count": 32,
   "metadata": {},
   "outputs": [
    {
     "data": {
      "text/plain": [
       "(1, 19)"
      ]
     },
     "execution_count": 32,
     "metadata": {},
     "output_type": "execute_result"
    }
   ],
   "source": [
    "df_inp2 = df_merge3[df_merge3['_merge'] == 'left_only']\n",
    "df_inp3 = df_inp2.copy()\n",
    "df_inp3.shape"
   ]
  },
  {
   "cell_type": "code",
   "execution_count": 33,
   "metadata": {},
   "outputs": [
    {
     "data": {
      "text/plain": [
       "0    KGI 2022 2 https://classic.set.or.th/set/newsdetails.do?language=en&country=US&newsId=16612974218200\n",
       "dtype: object"
      ]
     },
     "execution_count": 33,
     "metadata": {},
     "output_type": "execute_result"
    }
   ],
   "source": [
    "df_inp3['year'] = df_inp3['year'].astype(str)\n",
    "df_inp3['quarter'] = df_inp3['quarter'].astype(str)\n",
    "final = df_inp3.sort_values('name',ascending=True)\n",
    "final_str = final.name+' '+final.year+' '+final.quarter+' '+final.link\n",
    "final_str"
   ]
  },
  {
   "cell_type": "code",
   "execution_count": 34,
   "metadata": {},
   "outputs": [
    {
     "data": {
      "text/plain": [
       "Series([], dtype: object)"
      ]
     },
     "execution_count": 34,
     "metadata": {},
     "output_type": "execute_result"
    }
   ],
   "source": [
    "df_inp3_q3 = df_inp3[df_inp3['quarter'] == '3']\n",
    "final_q3 = df_inp3_q3.sort_values('name',ascending=True)\n",
    "final_str_q3 = final_q3.name+' '+final_q3.year+' '+final_q3.quarter+' '+final_q3.link\n",
    "final_str_q3"
   ]
  },
  {
   "cell_type": "code",
   "execution_count": 35,
   "metadata": {},
   "outputs": [
    {
     "data": {
      "text/plain": [
       "Series([], dtype: object)"
      ]
     },
     "execution_count": 35,
     "metadata": {},
     "output_type": "execute_result"
    }
   ],
   "source": [
    "df_inp3_q1 = df_inp3[df_inp3['quarter'] == '1']\n",
    "final_q1 = df_inp3_q1.sort_values('name',ascending=True)\n",
    "final_str_q1 = final_q1.name+' '+final_q1.year+' '+final_q1.quarter+' '+final_q1.link\n",
    "final_str_q1"
   ]
  },
  {
   "cell_type": "code",
   "execution_count": null,
   "metadata": {},
   "outputs": [],
   "source": []
  }
 ],
 "metadata": {
  "kernelspec": {
   "display_name": "Python 3 (ipykernel)",
   "language": "python",
   "name": "python3"
  },
  "language_info": {
   "codemirror_mode": {
    "name": "ipython",
    "version": 3
   },
   "file_extension": ".py",
   "mimetype": "text/x-python",
   "name": "python",
   "nbconvert_exporter": "python",
   "pygments_lexer": "ipython3",
   "version": "3.8.11"
  }
 },
 "nbformat": 4,
 "nbformat_minor": 4
}
