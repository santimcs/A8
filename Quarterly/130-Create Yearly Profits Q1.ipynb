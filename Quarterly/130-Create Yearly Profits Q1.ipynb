{
 "cells": [
  {
   "cell_type": "markdown",
   "metadata": {},
   "source": [
    "### Restart and Run All"
   ]
  },
  {
   "cell_type": "code",
   "execution_count": 1,
   "metadata": {},
   "outputs": [
    {
     "data": {
      "text/plain": [
       "datetime.date(2022, 4, 20)"
      ]
     },
     "execution_count": 1,
     "metadata": {},
     "output_type": "execute_result"
    }
   ],
   "source": [
    "import pandas as pd\n",
    "from datetime import date, timedelta\n",
    "from sqlalchemy import create_engine\n",
    "\n",
    "engine = create_engine('sqlite:///c:\\\\ruby\\\\portlt\\\\db\\\\development.sqlite3')\n",
    "conlt = engine.connect()\n",
    "\n",
    "pd.set_option('display.float_format','{:,.2f}'.format)\n",
    "pd.set_option('display.max_rows',None)\n",
    "\n",
    "year = 2022\n",
    "quarter = 1\n",
    "\n",
    "today = date.today()\n",
    "today"
   ]
  },
  {
   "cell_type": "code",
   "execution_count": 2,
   "metadata": {},
   "outputs": [
    {
     "name": "stdout",
     "output_type": "stream",
     "text": [
      "\n",
      "SELECT name,year,quarter,q_amt\n",
      "FROM epss \n",
      "WHERE (year = 2022 AND quarter <= 1) \n",
      "OR (year = 2022-1 AND quarter >= 1+1)\n",
      "ORDER BY year DESC, quarter DESC\n"
     ]
    }
   ],
   "source": [
    "sql = '''\n",
    "SELECT name,year,quarter,q_amt\n",
    "FROM epss \n",
    "WHERE (year = %s AND quarter <= %s) \n",
    "OR (year = %s-1 AND quarter >= %s+1)\n",
    "ORDER BY year DESC, quarter DESC'''\n",
    "sql = sql % (year,quarter,year,quarter)\n",
    "print(sql)"
   ]
  },
  {
   "cell_type": "code",
   "execution_count": 3,
   "metadata": {},
   "outputs": [
    {
     "data": {
      "text/plain": [
       "(13, 5)"
      ]
     },
     "execution_count": 3,
     "metadata": {},
     "output_type": "execute_result"
    }
   ],
   "source": [
    "dfc = pd.read_sql(sql, conlt)\n",
    "dfc['Counter'] = 1\n",
    "dfc_grp = dfc.groupby(['name'], as_index=False).sum()\n",
    "dfc_grp = dfc_grp[dfc_grp['Counter'] == 4]\n",
    "dfc_grp.shape"
   ]
  },
  {
   "cell_type": "code",
   "execution_count": 4,
   "metadata": {},
   "outputs": [
    {
     "data": {
      "text/plain": [
       "(332, 5)"
      ]
     },
     "execution_count": 4,
     "metadata": {},
     "output_type": "execute_result"
    }
   ],
   "source": [
    "sql = '''\n",
    "SELECT name,year,quarter,q_amt\n",
    "FROM epss \n",
    "WHERE (year = %s-1 AND quarter <= %s) \n",
    "OR (year = %s-2 AND quarter >= %s+1)\n",
    "ORDER BY year DESC, quarter DESC'''\n",
    "sql = sql % (year,quarter,year,quarter)\n",
    "dfp = pd.read_sql(sql, conlt)\n",
    "dfp['Counter'] = 1\n",
    "dfp_grp = dfp.groupby(['name'], as_index=False).sum()\n",
    "dfp_grp = dfp_grp[dfp_grp['Counter'] == 4]\n",
    "dfp_grp.shape"
   ]
  },
  {
   "cell_type": "code",
   "execution_count": 5,
   "metadata": {},
   "outputs": [
    {
     "data": {
      "text/html": [
       "<div>\n",
       "<style scoped>\n",
       "    .dataframe tbody tr th:only-of-type {\n",
       "        vertical-align: middle;\n",
       "    }\n",
       "\n",
       "    .dataframe tbody tr th {\n",
       "        vertical-align: top;\n",
       "    }\n",
       "\n",
       "    .dataframe thead th {\n",
       "        text-align: right;\n",
       "    }\n",
       "</style>\n",
       "<table border=\"1\" class=\"dataframe\">\n",
       "  <thead>\n",
       "    <tr style=\"text-align: right;\">\n",
       "      <th></th>\n",
       "      <th>name</th>\n",
       "      <th>year</th>\n",
       "      <th>quarter</th>\n",
       "      <th>q_amt_c</th>\n",
       "      <th>q_amt_p</th>\n",
       "      <th>inc_profit</th>\n",
       "      <th>Pct</th>\n",
       "    </tr>\n",
       "  </thead>\n",
       "  <tbody>\n",
       "    <tr>\n",
       "      <th>6</th>\n",
       "      <td>KSL</td>\n",
       "      <td>2022</td>\n",
       "      <td>Q1</td>\n",
       "      <td>639300</td>\n",
       "      <td>13859</td>\n",
       "      <td>625441</td>\n",
       "      <td>4,512.89</td>\n",
       "    </tr>\n",
       "    <tr>\n",
       "      <th>2</th>\n",
       "      <td>COTTO</td>\n",
       "      <td>2022</td>\n",
       "      <td>Q1</td>\n",
       "      <td>980148</td>\n",
       "      <td>482435</td>\n",
       "      <td>497713</td>\n",
       "      <td>103.17</td>\n",
       "    </tr>\n",
       "    <tr>\n",
       "      <th>1</th>\n",
       "      <td>BAY</td>\n",
       "      <td>2022</td>\n",
       "      <td>Q1</td>\n",
       "      <td>34707618</td>\n",
       "      <td>22512053</td>\n",
       "      <td>12195565</td>\n",
       "      <td>54.17</td>\n",
       "    </tr>\n",
       "    <tr>\n",
       "      <th>5</th>\n",
       "      <td>KKP</td>\n",
       "      <td>2022</td>\n",
       "      <td>Q1</td>\n",
       "      <td>6910731</td>\n",
       "      <td>5101876</td>\n",
       "      <td>1808855</td>\n",
       "      <td>35.45</td>\n",
       "    </tr>\n",
       "    <tr>\n",
       "      <th>12</th>\n",
       "      <td>TTB</td>\n",
       "      <td>2022</td>\n",
       "      <td>Q1</td>\n",
       "      <td>10886994</td>\n",
       "      <td>8730675</td>\n",
       "      <td>2156319</td>\n",
       "      <td>24.70</td>\n",
       "    </tr>\n",
       "  </tbody>\n",
       "</table>\n",
       "</div>"
      ],
      "text/plain": [
       "     name  year quarter   q_amt_c   q_amt_p  inc_profit      Pct\n",
       "6     KSL  2022      Q1    639300     13859      625441 4,512.89\n",
       "2   COTTO  2022      Q1    980148    482435      497713   103.17\n",
       "1     BAY  2022      Q1  34707618  22512053    12195565    54.17\n",
       "5     KKP  2022      Q1   6910731   5101876     1808855    35.45\n",
       "12    TTB  2022      Q1  10886994   8730675     2156319    24.70"
      ]
     },
     "execution_count": 5,
     "metadata": {},
     "output_type": "execute_result"
    }
   ],
   "source": [
    "dfm = pd.merge(dfc_grp, dfp_grp, on='name', suffixes=(['_c','_p']), how='inner')\n",
    "dfm['inc_profit'] = dfm['q_amt_c']-dfm['q_amt_p']\n",
    "dfm['Pct'] = round(dfm['inc_profit']/abs(dfm['q_amt_p'])*100,2)\n",
    "dfm['year'] = year\n",
    "dfm['quarter'] = 'Q'+str(quarter)\n",
    "df_pct = dfm[['name','year','quarter','q_amt_c','q_amt_p','inc_profit','Pct']]\n",
    "df_pct.sort_values(['Pct'],ascending=[False]).head()"
   ]
  },
  {
   "cell_type": "code",
   "execution_count": 6,
   "metadata": {},
   "outputs": [
    {
     "data": {
      "text/plain": [
       "9"
      ]
     },
     "execution_count": 6,
     "metadata": {},
     "output_type": "execute_result"
    }
   ],
   "source": [
    "sql = \"\"\"\n",
    "DELETE FROM yr_profits \n",
    "WHERE year = %s AND quarter = 'Q%s'\"\"\"\n",
    "sql = sql % (year, quarter)\n",
    "rp = conlt.execute(sql)\n",
    "rp.rowcount"
   ]
  },
  {
   "cell_type": "code",
   "execution_count": 7,
   "metadata": {},
   "outputs": [
    {
     "data": {
      "text/plain": [
       "13"
      ]
     },
     "execution_count": 7,
     "metadata": {},
     "output_type": "execute_result"
    }
   ],
   "source": [
    "sql = 'SELECT name, id FROM tickers'\n",
    "tickers = pd.read_sql(sql, conlt)\n",
    "df_ins = pd.merge(df_pct, tickers, on='name', how='inner')\n",
    "rcds = df_ins.values.tolist()\n",
    "len(rcds)"
   ]
  },
  {
   "cell_type": "code",
   "execution_count": 8,
   "metadata": {
    "scrolled": false
   },
   "outputs": [
    {
     "name": "stdout",
     "output_type": "stream",
     "text": [
      "['AOT', 2022, 'Q1', -17151697, -6456020, -10695677, -165.67, 24]\n",
      "['BAY', 2022, 'Q1', 34707618, 22512053, 12195565, 54.17, 49]\n",
      "['COTTO', 2022, 'Q1', 980148, 482435, 497713, 103.17, 710]\n",
      "['GVREIT', 2022, 'Q1', 672205, 783558, -111353, -14.21, 654]\n",
      "['IRC', 2022, 'Q1', 245994, 280507, -34513, -12.3, 225]\n",
      "['KKP', 2022, 'Q1', 6910731, 5101876, 1808855, 35.45, 255]\n",
      "['KSL', 2022, 'Q1', 639300, 13859, 625441, 4512.89, 257]\n",
      "['KTC', 2022, 'Q1', 5992158, 5325531, 666627, 12.52, 259]\n",
      "['LHFG', 2022, 'Q1', 1334969, 1788552, -453583, -25.36, 268]\n",
      "['OISHI', 2022, 'Q1', 709629, 937506, -227877, -24.31, 338]\n",
      "['TFFIF', 2022, 'Q1', 1138781, 1078176, 60605, 5.62, 686]\n",
      "['TISCO', 2022, 'Q1', 6813664, 6345021, 468643, 7.39, 531]\n",
      "['TTB', 2022, 'Q1', 10886994, 8730675, 2156319, 24.7, 541]\n"
     ]
    }
   ],
   "source": [
    "for rcd in rcds:\n",
    "    print(rcd)"
   ]
  },
  {
   "cell_type": "code",
   "execution_count": 9,
   "metadata": {},
   "outputs": [
    {
     "name": "stdout",
     "output_type": "stream",
     "text": [
      "INSERT INTO yr_profits (name, year, quarter, latest_amt, previous_amt, inc_amt, inc_pct, ticker_id)  VALUES (?, ?, ?, ?, ?, ?, ?, ?)\n"
     ]
    }
   ],
   "source": [
    "sql = \"\"\"INSERT INTO yr_profits (name, year, quarter, latest_amt, previous_amt, inc_amt, inc_pct, ticker_id) \\\n",
    " VALUES (?, ?, ?, ?, ?, ?, ?, ?)\"\"\"\n",
    "print(sql)"
   ]
  },
  {
   "cell_type": "code",
   "execution_count": 10,
   "metadata": {},
   "outputs": [],
   "source": [
    "for rcd in rcds:\n",
    "    conlt.execute(sql, rcd)"
   ]
  },
  {
   "cell_type": "markdown",
   "metadata": {},
   "source": [
    "### End of loop"
   ]
  },
  {
   "cell_type": "code",
   "execution_count": 11,
   "metadata": {},
   "outputs": [],
   "source": [
    "cols = 'name year quarter q_amt_c q_amt_p inc_profit Pct'.split()"
   ]
  },
  {
   "cell_type": "code",
   "execution_count": 12,
   "metadata": {},
   "outputs": [
    {
     "data": {
      "text/html": [
       "<div>\n",
       "<style scoped>\n",
       "    .dataframe tbody tr th:only-of-type {\n",
       "        vertical-align: middle;\n",
       "    }\n",
       "\n",
       "    .dataframe tbody tr th {\n",
       "        vertical-align: top;\n",
       "    }\n",
       "\n",
       "    .dataframe thead th {\n",
       "        text-align: right;\n",
       "    }\n",
       "</style>\n",
       "<table border=\"1\" class=\"dataframe\">\n",
       "  <thead>\n",
       "    <tr style=\"text-align: right;\">\n",
       "      <th></th>\n",
       "      <th>name</th>\n",
       "      <th>year</th>\n",
       "      <th>quarter</th>\n",
       "      <th>q_amt_c</th>\n",
       "      <th>q_amt_p</th>\n",
       "      <th>inc_profit</th>\n",
       "      <th>Pct</th>\n",
       "    </tr>\n",
       "  </thead>\n",
       "  <tbody>\n",
       "    <tr>\n",
       "      <th>6</th>\n",
       "      <td>KSL</td>\n",
       "      <td>2022</td>\n",
       "      <td>Q1</td>\n",
       "      <td>639300</td>\n",
       "      <td>13859</td>\n",
       "      <td>625441</td>\n",
       "      <td>4,512.89</td>\n",
       "    </tr>\n",
       "    <tr>\n",
       "      <th>2</th>\n",
       "      <td>COTTO</td>\n",
       "      <td>2022</td>\n",
       "      <td>Q1</td>\n",
       "      <td>980148</td>\n",
       "      <td>482435</td>\n",
       "      <td>497713</td>\n",
       "      <td>103.17</td>\n",
       "    </tr>\n",
       "    <tr>\n",
       "      <th>1</th>\n",
       "      <td>BAY</td>\n",
       "      <td>2022</td>\n",
       "      <td>Q1</td>\n",
       "      <td>34707618</td>\n",
       "      <td>22512053</td>\n",
       "      <td>12195565</td>\n",
       "      <td>54.17</td>\n",
       "    </tr>\n",
       "    <tr>\n",
       "      <th>5</th>\n",
       "      <td>KKP</td>\n",
       "      <td>2022</td>\n",
       "      <td>Q1</td>\n",
       "      <td>6910731</td>\n",
       "      <td>5101876</td>\n",
       "      <td>1808855</td>\n",
       "      <td>35.45</td>\n",
       "    </tr>\n",
       "    <tr>\n",
       "      <th>12</th>\n",
       "      <td>TTB</td>\n",
       "      <td>2022</td>\n",
       "      <td>Q1</td>\n",
       "      <td>10886994</td>\n",
       "      <td>8730675</td>\n",
       "      <td>2156319</td>\n",
       "      <td>24.70</td>\n",
       "    </tr>\n",
       "  </tbody>\n",
       "</table>\n",
       "</div>"
      ],
      "text/plain": [
       "     name  year quarter   q_amt_c   q_amt_p  inc_profit      Pct\n",
       "6     KSL  2022      Q1    639300     13859      625441 4,512.89\n",
       "2   COTTO  2022      Q1    980148    482435      497713   103.17\n",
       "1     BAY  2022      Q1  34707618  22512053    12195565    54.17\n",
       "5     KKP  2022      Q1   6910731   5101876     1808855    35.45\n",
       "12    TTB  2022      Q1  10886994   8730675     2156319    24.70"
      ]
     },
     "execution_count": 12,
     "metadata": {},
     "output_type": "execute_result"
    }
   ],
   "source": [
    "criteria_1 = df_ins.q_amt_c > 440000\n",
    "df_ins.loc[criteria_1,cols].sort_values(['Pct'],ascending=[False]).head()"
   ]
  },
  {
   "cell_type": "code",
   "execution_count": 13,
   "metadata": {},
   "outputs": [
    {
     "data": {
      "text/html": [
       "<div>\n",
       "<style scoped>\n",
       "    .dataframe tbody tr th:only-of-type {\n",
       "        vertical-align: middle;\n",
       "    }\n",
       "\n",
       "    .dataframe tbody tr th {\n",
       "        vertical-align: top;\n",
       "    }\n",
       "\n",
       "    .dataframe thead th {\n",
       "        text-align: right;\n",
       "    }\n",
       "</style>\n",
       "<table border=\"1\" class=\"dataframe\">\n",
       "  <thead>\n",
       "    <tr style=\"text-align: right;\">\n",
       "      <th></th>\n",
       "      <th>name</th>\n",
       "      <th>year</th>\n",
       "      <th>quarter</th>\n",
       "      <th>q_amt_c</th>\n",
       "      <th>q_amt_p</th>\n",
       "      <th>inc_profit</th>\n",
       "      <th>Pct</th>\n",
       "    </tr>\n",
       "  </thead>\n",
       "  <tbody>\n",
       "    <tr>\n",
       "      <th>2</th>\n",
       "      <td>COTTO</td>\n",
       "      <td>2022</td>\n",
       "      <td>Q1</td>\n",
       "      <td>980148</td>\n",
       "      <td>482435</td>\n",
       "      <td>497713</td>\n",
       "      <td>103.17</td>\n",
       "    </tr>\n",
       "    <tr>\n",
       "      <th>1</th>\n",
       "      <td>BAY</td>\n",
       "      <td>2022</td>\n",
       "      <td>Q1</td>\n",
       "      <td>34707618</td>\n",
       "      <td>22512053</td>\n",
       "      <td>12195565</td>\n",
       "      <td>54.17</td>\n",
       "    </tr>\n",
       "    <tr>\n",
       "      <th>5</th>\n",
       "      <td>KKP</td>\n",
       "      <td>2022</td>\n",
       "      <td>Q1</td>\n",
       "      <td>6910731</td>\n",
       "      <td>5101876</td>\n",
       "      <td>1808855</td>\n",
       "      <td>35.45</td>\n",
       "    </tr>\n",
       "    <tr>\n",
       "      <th>12</th>\n",
       "      <td>TTB</td>\n",
       "      <td>2022</td>\n",
       "      <td>Q1</td>\n",
       "      <td>10886994</td>\n",
       "      <td>8730675</td>\n",
       "      <td>2156319</td>\n",
       "      <td>24.70</td>\n",
       "    </tr>\n",
       "    <tr>\n",
       "      <th>7</th>\n",
       "      <td>KTC</td>\n",
       "      <td>2022</td>\n",
       "      <td>Q1</td>\n",
       "      <td>5992158</td>\n",
       "      <td>5325531</td>\n",
       "      <td>666627</td>\n",
       "      <td>12.52</td>\n",
       "    </tr>\n",
       "  </tbody>\n",
       "</table>\n",
       "</div>"
      ],
      "text/plain": [
       "     name  year quarter   q_amt_c   q_amt_p  inc_profit    Pct\n",
       "2   COTTO  2022      Q1    980148    482435      497713 103.17\n",
       "1     BAY  2022      Q1  34707618  22512053    12195565  54.17\n",
       "5     KKP  2022      Q1   6910731   5101876     1808855  35.45\n",
       "12    TTB  2022      Q1  10886994   8730675     2156319  24.70\n",
       "7     KTC  2022      Q1   5992158   5325531      666627  12.52"
      ]
     },
     "execution_count": 13,
     "metadata": {},
     "output_type": "execute_result"
    }
   ],
   "source": [
    "criteria_2 = df_ins.q_amt_p > 300000\n",
    "df_ins.loc[criteria_2,cols].sort_values(['Pct'],ascending=[False]).head()"
   ]
  },
  {
   "cell_type": "code",
   "execution_count": 14,
   "metadata": {},
   "outputs": [
    {
     "data": {
      "text/html": [
       "<div>\n",
       "<style scoped>\n",
       "    .dataframe tbody tr th:only-of-type {\n",
       "        vertical-align: middle;\n",
       "    }\n",
       "\n",
       "    .dataframe tbody tr th {\n",
       "        vertical-align: top;\n",
       "    }\n",
       "\n",
       "    .dataframe thead th {\n",
       "        text-align: right;\n",
       "    }\n",
       "</style>\n",
       "<table border=\"1\" class=\"dataframe\">\n",
       "  <thead>\n",
       "    <tr style=\"text-align: right;\">\n",
       "      <th></th>\n",
       "      <th>name</th>\n",
       "      <th>year</th>\n",
       "      <th>quarter</th>\n",
       "      <th>q_amt_c</th>\n",
       "      <th>q_amt_p</th>\n",
       "      <th>inc_profit</th>\n",
       "      <th>Pct</th>\n",
       "    </tr>\n",
       "  </thead>\n",
       "  <tbody>\n",
       "    <tr>\n",
       "      <th>6</th>\n",
       "      <td>KSL</td>\n",
       "      <td>2022</td>\n",
       "      <td>Q1</td>\n",
       "      <td>639300</td>\n",
       "      <td>13859</td>\n",
       "      <td>625441</td>\n",
       "      <td>4,512.89</td>\n",
       "    </tr>\n",
       "    <tr>\n",
       "      <th>2</th>\n",
       "      <td>COTTO</td>\n",
       "      <td>2022</td>\n",
       "      <td>Q1</td>\n",
       "      <td>980148</td>\n",
       "      <td>482435</td>\n",
       "      <td>497713</td>\n",
       "      <td>103.17</td>\n",
       "    </tr>\n",
       "    <tr>\n",
       "      <th>1</th>\n",
       "      <td>BAY</td>\n",
       "      <td>2022</td>\n",
       "      <td>Q1</td>\n",
       "      <td>34707618</td>\n",
       "      <td>22512053</td>\n",
       "      <td>12195565</td>\n",
       "      <td>54.17</td>\n",
       "    </tr>\n",
       "    <tr>\n",
       "      <th>5</th>\n",
       "      <td>KKP</td>\n",
       "      <td>2022</td>\n",
       "      <td>Q1</td>\n",
       "      <td>6910731</td>\n",
       "      <td>5101876</td>\n",
       "      <td>1808855</td>\n",
       "      <td>35.45</td>\n",
       "    </tr>\n",
       "    <tr>\n",
       "      <th>12</th>\n",
       "      <td>TTB</td>\n",
       "      <td>2022</td>\n",
       "      <td>Q1</td>\n",
       "      <td>10886994</td>\n",
       "      <td>8730675</td>\n",
       "      <td>2156319</td>\n",
       "      <td>24.70</td>\n",
       "    </tr>\n",
       "  </tbody>\n",
       "</table>\n",
       "</div>"
      ],
      "text/plain": [
       "     name  year quarter   q_amt_c   q_amt_p  inc_profit      Pct\n",
       "6     KSL  2022      Q1    639300     13859      625441 4,512.89\n",
       "2   COTTO  2022      Q1    980148    482435      497713   103.17\n",
       "1     BAY  2022      Q1  34707618  22512053    12195565    54.17\n",
       "5     KKP  2022      Q1   6910731   5101876     1808855    35.45\n",
       "12    TTB  2022      Q1  10886994   8730675     2156319    24.70"
      ]
     },
     "execution_count": 14,
     "metadata": {},
     "output_type": "execute_result"
    }
   ],
   "source": [
    "criteria_3 = df_ins.Pct > 5.0\n",
    "df_ins.loc[criteria_3,cols].sort_values(['Pct'],ascending=[False]).head()"
   ]
  },
  {
   "cell_type": "code",
   "execution_count": 15,
   "metadata": {},
   "outputs": [
    {
     "data": {
      "text/html": [
       "<div>\n",
       "<style scoped>\n",
       "    .dataframe tbody tr th:only-of-type {\n",
       "        vertical-align: middle;\n",
       "    }\n",
       "\n",
       "    .dataframe tbody tr th {\n",
       "        vertical-align: top;\n",
       "    }\n",
       "\n",
       "    .dataframe thead th {\n",
       "        text-align: right;\n",
       "    }\n",
       "</style>\n",
       "<table border=\"1\" class=\"dataframe\">\n",
       "  <thead>\n",
       "    <tr style=\"text-align: right;\">\n",
       "      <th></th>\n",
       "      <th>name</th>\n",
       "      <th>year</th>\n",
       "      <th>quarter</th>\n",
       "      <th>q_amt_c</th>\n",
       "      <th>q_amt_p</th>\n",
       "      <th>inc_profit</th>\n",
       "      <th>Pct</th>\n",
       "    </tr>\n",
       "  </thead>\n",
       "  <tbody>\n",
       "    <tr>\n",
       "      <th>2</th>\n",
       "      <td>COTTO</td>\n",
       "      <td>2022</td>\n",
       "      <td>Q1</td>\n",
       "      <td>980148</td>\n",
       "      <td>482435</td>\n",
       "      <td>497713</td>\n",
       "      <td>103.17</td>\n",
       "    </tr>\n",
       "    <tr>\n",
       "      <th>1</th>\n",
       "      <td>BAY</td>\n",
       "      <td>2022</td>\n",
       "      <td>Q1</td>\n",
       "      <td>34707618</td>\n",
       "      <td>22512053</td>\n",
       "      <td>12195565</td>\n",
       "      <td>54.17</td>\n",
       "    </tr>\n",
       "    <tr>\n",
       "      <th>5</th>\n",
       "      <td>KKP</td>\n",
       "      <td>2022</td>\n",
       "      <td>Q1</td>\n",
       "      <td>6910731</td>\n",
       "      <td>5101876</td>\n",
       "      <td>1808855</td>\n",
       "      <td>35.45</td>\n",
       "    </tr>\n",
       "    <tr>\n",
       "      <th>12</th>\n",
       "      <td>TTB</td>\n",
       "      <td>2022</td>\n",
       "      <td>Q1</td>\n",
       "      <td>10886994</td>\n",
       "      <td>8730675</td>\n",
       "      <td>2156319</td>\n",
       "      <td>24.70</td>\n",
       "    </tr>\n",
       "    <tr>\n",
       "      <th>7</th>\n",
       "      <td>KTC</td>\n",
       "      <td>2022</td>\n",
       "      <td>Q1</td>\n",
       "      <td>5992158</td>\n",
       "      <td>5325531</td>\n",
       "      <td>666627</td>\n",
       "      <td>12.52</td>\n",
       "    </tr>\n",
       "    <tr>\n",
       "      <th>11</th>\n",
       "      <td>TISCO</td>\n",
       "      <td>2022</td>\n",
       "      <td>Q1</td>\n",
       "      <td>6813664</td>\n",
       "      <td>6345021</td>\n",
       "      <td>468643</td>\n",
       "      <td>7.39</td>\n",
       "    </tr>\n",
       "    <tr>\n",
       "      <th>10</th>\n",
       "      <td>TFFIF</td>\n",
       "      <td>2022</td>\n",
       "      <td>Q1</td>\n",
       "      <td>1138781</td>\n",
       "      <td>1078176</td>\n",
       "      <td>60605</td>\n",
       "      <td>5.62</td>\n",
       "    </tr>\n",
       "  </tbody>\n",
       "</table>\n",
       "</div>"
      ],
      "text/plain": [
       "     name  year quarter   q_amt_c   q_amt_p  inc_profit    Pct\n",
       "2   COTTO  2022      Q1    980148    482435      497713 103.17\n",
       "1     BAY  2022      Q1  34707618  22512053    12195565  54.17\n",
       "5     KKP  2022      Q1   6910731   5101876     1808855  35.45\n",
       "12    TTB  2022      Q1  10886994   8730675     2156319  24.70\n",
       "7     KTC  2022      Q1   5992158   5325531      666627  12.52\n",
       "11  TISCO  2022      Q1   6813664   6345021      468643   7.39\n",
       "10  TFFIF  2022      Q1   1138781   1078176       60605   5.62"
      ]
     },
     "execution_count": 15,
     "metadata": {},
     "output_type": "execute_result"
    }
   ],
   "source": [
    "df_ins_criteria = criteria_1 & criteria_2 & criteria_3\n",
    "df_ins.loc[df_ins_criteria,cols].sort_values(['Pct'],ascending=[False])"
   ]
  },
  {
   "cell_type": "code",
   "execution_count": 16,
   "metadata": {},
   "outputs": [
    {
     "data": {
      "text/html": [
       "<div>\n",
       "<style scoped>\n",
       "    .dataframe tbody tr th:only-of-type {\n",
       "        vertical-align: middle;\n",
       "    }\n",
       "\n",
       "    .dataframe tbody tr th {\n",
       "        vertical-align: top;\n",
       "    }\n",
       "\n",
       "    .dataframe thead th {\n",
       "        text-align: right;\n",
       "    }\n",
       "</style>\n",
       "<table border=\"1\" class=\"dataframe\">\n",
       "  <thead>\n",
       "    <tr style=\"text-align: right;\">\n",
       "      <th></th>\n",
       "      <th>name</th>\n",
       "      <th>year</th>\n",
       "      <th>quarter</th>\n",
       "      <th>q_amt_c</th>\n",
       "      <th>q_amt_p</th>\n",
       "      <th>inc_profit</th>\n",
       "      <th>Pct</th>\n",
       "    </tr>\n",
       "  </thead>\n",
       "  <tbody>\n",
       "    <tr>\n",
       "      <th>1</th>\n",
       "      <td>BAY</td>\n",
       "      <td>2022</td>\n",
       "      <td>Q1</td>\n",
       "      <td>34707618</td>\n",
       "      <td>22512053</td>\n",
       "      <td>12195565</td>\n",
       "      <td>54.17</td>\n",
       "    </tr>\n",
       "    <tr>\n",
       "      <th>2</th>\n",
       "      <td>COTTO</td>\n",
       "      <td>2022</td>\n",
       "      <td>Q1</td>\n",
       "      <td>980148</td>\n",
       "      <td>482435</td>\n",
       "      <td>497713</td>\n",
       "      <td>103.17</td>\n",
       "    </tr>\n",
       "    <tr>\n",
       "      <th>5</th>\n",
       "      <td>KKP</td>\n",
       "      <td>2022</td>\n",
       "      <td>Q1</td>\n",
       "      <td>6910731</td>\n",
       "      <td>5101876</td>\n",
       "      <td>1808855</td>\n",
       "      <td>35.45</td>\n",
       "    </tr>\n",
       "    <tr>\n",
       "      <th>7</th>\n",
       "      <td>KTC</td>\n",
       "      <td>2022</td>\n",
       "      <td>Q1</td>\n",
       "      <td>5992158</td>\n",
       "      <td>5325531</td>\n",
       "      <td>666627</td>\n",
       "      <td>12.52</td>\n",
       "    </tr>\n",
       "    <tr>\n",
       "      <th>10</th>\n",
       "      <td>TFFIF</td>\n",
       "      <td>2022</td>\n",
       "      <td>Q1</td>\n",
       "      <td>1138781</td>\n",
       "      <td>1078176</td>\n",
       "      <td>60605</td>\n",
       "      <td>5.62</td>\n",
       "    </tr>\n",
       "    <tr>\n",
       "      <th>11</th>\n",
       "      <td>TISCO</td>\n",
       "      <td>2022</td>\n",
       "      <td>Q1</td>\n",
       "      <td>6813664</td>\n",
       "      <td>6345021</td>\n",
       "      <td>468643</td>\n",
       "      <td>7.39</td>\n",
       "    </tr>\n",
       "    <tr>\n",
       "      <th>12</th>\n",
       "      <td>TTB</td>\n",
       "      <td>2022</td>\n",
       "      <td>Q1</td>\n",
       "      <td>10886994</td>\n",
       "      <td>8730675</td>\n",
       "      <td>2156319</td>\n",
       "      <td>24.70</td>\n",
       "    </tr>\n",
       "  </tbody>\n",
       "</table>\n",
       "</div>"
      ],
      "text/plain": [
       "     name  year quarter   q_amt_c   q_amt_p  inc_profit    Pct\n",
       "1     BAY  2022      Q1  34707618  22512053    12195565  54.17\n",
       "2   COTTO  2022      Q1    980148    482435      497713 103.17\n",
       "5     KKP  2022      Q1   6910731   5101876     1808855  35.45\n",
       "7     KTC  2022      Q1   5992158   5325531      666627  12.52\n",
       "10  TFFIF  2022      Q1   1138781   1078176       60605   5.62\n",
       "11  TISCO  2022      Q1   6813664   6345021      468643   7.39\n",
       "12    TTB  2022      Q1  10886994   8730675     2156319  24.70"
      ]
     },
     "execution_count": 16,
     "metadata": {},
     "output_type": "execute_result"
    }
   ],
   "source": [
    "df_ins.loc[df_ins_criteria,cols].sort_values(['name'],ascending=[True])"
   ]
  },
  {
   "cell_type": "code",
   "execution_count": null,
   "metadata": {},
   "outputs": [],
   "source": []
  }
 ],
 "metadata": {
  "anaconda-cloud": {},
  "kernelspec": {
   "display_name": "Python 3 (ipykernel)",
   "language": "python",
   "name": "python3"
  },
  "language_info": {
   "codemirror_mode": {
    "name": "ipython",
    "version": 3
   },
   "file_extension": ".py",
   "mimetype": "text/x-python",
   "name": "python",
   "nbconvert_exporter": "python",
   "pygments_lexer": "ipython3",
   "version": "3.8.11"
  }
 },
 "nbformat": 4,
 "nbformat_minor": 1
}
