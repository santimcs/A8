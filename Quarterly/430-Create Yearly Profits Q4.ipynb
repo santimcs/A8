{
 "cells": [
  {
   "cell_type": "markdown",
   "metadata": {},
   "source": [
    "### Restart and Run All Cells"
   ]
  },
  {
   "cell_type": "code",
   "execution_count": 1,
   "metadata": {},
   "outputs": [],
   "source": [
    "import pandas as pd\n",
    "from sqlalchemy import create_engine\n",
    "engine = create_engine(\"sqlite:///c:\\\\ruby\\\\portlt\\\\db\\\\development.sqlite3\")\n",
    "conlt = engine.connect()\n",
    "year = 2021\n",
    "quarter = 4"
   ]
  },
  {
   "cell_type": "code",
   "execution_count": 2,
   "metadata": {},
   "outputs": [],
   "source": [
    "cols = 'name year quarter q_amt_c q_amt_p inc_profit percent'.split()"
   ]
  },
  {
   "cell_type": "code",
   "execution_count": 3,
   "metadata": {},
   "outputs": [],
   "source": [
    "format_dict = {\n",
    "                'q_amt':'{:,}','q_amt_c':'{:,}','q_amt_p':'{:,}','inc_profit':'{:,}',\n",
    "                'yoy_gain':'{:,}','acc_gain':'{:,}',    \n",
    "                'q_eps':'{:.4f}','y_eps':'{:.4f}','aq_eps':'{:.4f}','ay_eps':'{:.4f}',\n",
    "                'percent':'{:.2f}%'\n",
    "              }"
   ]
  },
  {
   "cell_type": "code",
   "execution_count": 4,
   "metadata": {},
   "outputs": [
    {
     "name": "stdout",
     "output_type": "stream",
     "text": [
      "\n",
      "SELECT name,year,quarter,q_amt\n",
      "FROM epss \n",
      "WHERE (year = 2021 AND quarter <= 4) \n",
      "OR (year = 2021-1 AND quarter >= 4+1)\n",
      "ORDER BY year DESC, quarter DESC\n"
     ]
    }
   ],
   "source": [
    "sql = \"\"\"\n",
    "SELECT name,year,quarter,q_amt\n",
    "FROM epss \n",
    "WHERE (year = %s AND quarter <= %s) \n",
    "OR (year = %s-1 AND quarter >= %s+1)\n",
    "ORDER BY year DESC, quarter DESC\"\"\"\n",
    "sql = sql % (year, quarter, year, quarter)\n",
    "print(sql)"
   ]
  },
  {
   "cell_type": "code",
   "execution_count": 5,
   "metadata": {},
   "outputs": [
    {
     "data": {
      "text/html": [
       "<style type=\"text/css\">\n",
       "</style>\n",
       "<table id=\"T_cfe74_\">\n",
       "  <thead>\n",
       "    <tr>\n",
       "      <th class=\"blank level0\" >&nbsp;</th>\n",
       "      <th class=\"col_heading level0 col0\" >name</th>\n",
       "      <th class=\"col_heading level0 col1\" >year</th>\n",
       "      <th class=\"col_heading level0 col2\" >quarter</th>\n",
       "      <th class=\"col_heading level0 col3\" >q_amt</th>\n",
       "      <th class=\"col_heading level0 col4\" >Counter</th>\n",
       "    </tr>\n",
       "  </thead>\n",
       "  <tbody>\n",
       "    <tr>\n",
       "      <th id=\"T_cfe74_level0_row0\" class=\"row_heading level0 row0\" >3</th>\n",
       "      <td id=\"T_cfe74_row0_col0\" class=\"data row0 col0\" >ADVANC</td>\n",
       "      <td id=\"T_cfe74_row0_col1\" class=\"data row0 col1\" >8084</td>\n",
       "      <td id=\"T_cfe74_row0_col2\" class=\"data row0 col2\" >10</td>\n",
       "      <td id=\"T_cfe74_row0_col3\" class=\"data row0 col3\" >26,922,146</td>\n",
       "      <td id=\"T_cfe74_row0_col4\" class=\"data row0 col4\" >4</td>\n",
       "    </tr>\n",
       "    <tr>\n",
       "      <th id=\"T_cfe74_level0_row1\" class=\"row_heading level0 row1\" >17</th>\n",
       "      <td id=\"T_cfe74_row1_col0\" class=\"data row1 col0\" >AOT</td>\n",
       "      <td id=\"T_cfe74_row1_col1\" class=\"data row1 col1\" >8084</td>\n",
       "      <td id=\"T_cfe74_row1_col2\" class=\"data row1 col2\" >10</td>\n",
       "      <td id=\"T_cfe74_row1_col3\" class=\"data row1 col3\" >-16,322,014</td>\n",
       "      <td id=\"T_cfe74_row1_col4\" class=\"data row1 col4\" >4</td>\n",
       "    </tr>\n",
       "    <tr>\n",
       "      <th id=\"T_cfe74_level0_row2\" class=\"row_heading level0 row2\" >24</th>\n",
       "      <td id=\"T_cfe74_row2_col0\" class=\"data row2 col0\" >ASP</td>\n",
       "      <td id=\"T_cfe74_row2_col1\" class=\"data row2 col1\" >8084</td>\n",
       "      <td id=\"T_cfe74_row2_col2\" class=\"data row2 col2\" >10</td>\n",
       "      <td id=\"T_cfe74_row2_col3\" class=\"data row2 col3\" >978,355</td>\n",
       "      <td id=\"T_cfe74_row2_col4\" class=\"data row2 col4\" >4</td>\n",
       "    </tr>\n",
       "    <tr>\n",
       "      <th id=\"T_cfe74_level0_row3\" class=\"row_heading level0 row3\" >31</th>\n",
       "      <td id=\"T_cfe74_row3_col0\" class=\"data row3 col0\" >BAY</td>\n",
       "      <td id=\"T_cfe74_row3_col1\" class=\"data row3 col1\" >8084</td>\n",
       "      <td id=\"T_cfe74_row3_col2\" class=\"data row3 col2\" >10</td>\n",
       "      <td id=\"T_cfe74_row3_col3\" class=\"data row3 col3\" >33,794,188</td>\n",
       "      <td id=\"T_cfe74_row3_col4\" class=\"data row3 col4\" >4</td>\n",
       "    </tr>\n",
       "    <tr>\n",
       "      <th id=\"T_cfe74_level0_row4\" class=\"row_heading level0 row4\" >32</th>\n",
       "      <td id=\"T_cfe74_row4_col0\" class=\"data row4 col0\" >BBL</td>\n",
       "      <td id=\"T_cfe74_row4_col1\" class=\"data row4 col1\" >8084</td>\n",
       "      <td id=\"T_cfe74_row4_col2\" class=\"data row4 col2\" >10</td>\n",
       "      <td id=\"T_cfe74_row4_col3\" class=\"data row4 col3\" >26,507,039</td>\n",
       "      <td id=\"T_cfe74_row4_col4\" class=\"data row4 col4\" >4</td>\n",
       "    </tr>\n",
       "  </tbody>\n",
       "</table>\n"
      ],
      "text/plain": [
       "<pandas.io.formats.style.Styler at 0x21f6314aeb0>"
      ]
     },
     "execution_count": 5,
     "metadata": {},
     "output_type": "execute_result"
    }
   ],
   "source": [
    "dfc = pd.read_sql(sql, conlt)\n",
    "dfc[\"Counter\"] = 1\n",
    "dfc_grp = dfc.groupby([\"name\"], as_index=False).sum()\n",
    "dfc_grp = dfc_grp[dfc_grp[\"Counter\"] == 4]\n",
    "dfc_grp.head().style.format(format_dict)"
   ]
  },
  {
   "cell_type": "code",
   "execution_count": 6,
   "metadata": {},
   "outputs": [
    {
     "name": "stdout",
     "output_type": "stream",
     "text": [
      "\n",
      "SELECT name,year,quarter,q_amt\n",
      "FROM epss \n",
      "WHERE (year = 2021-1 AND quarter <= 4) \n",
      "OR (year = 2021-2 AND quarter >= 4+1)\n",
      "ORDER BY year DESC, quarter DESC\n",
      "\n"
     ]
    }
   ],
   "source": [
    "sql = \"\"\"\n",
    "SELECT name,year,quarter,q_amt\n",
    "FROM epss \n",
    "WHERE (year = %s-1 AND quarter <= %s) \n",
    "OR (year = %s-2 AND quarter >= %s+1)\n",
    "ORDER BY year DESC, quarter DESC\n",
    "\"\"\"\n",
    "sql = sql % (year, quarter, year, quarter)\n",
    "print(sql)"
   ]
  },
  {
   "cell_type": "code",
   "execution_count": 7,
   "metadata": {},
   "outputs": [
    {
     "data": {
      "text/html": [
       "<style type=\"text/css\">\n",
       "</style>\n",
       "<table id=\"T_9fc81_\">\n",
       "  <thead>\n",
       "    <tr>\n",
       "      <th class=\"blank level0\" >&nbsp;</th>\n",
       "      <th class=\"col_heading level0 col0\" >name</th>\n",
       "      <th class=\"col_heading level0 col1\" >year</th>\n",
       "      <th class=\"col_heading level0 col2\" >quarter</th>\n",
       "      <th class=\"col_heading level0 col3\" >q_amt</th>\n",
       "      <th class=\"col_heading level0 col4\" >Counter</th>\n",
       "    </tr>\n",
       "  </thead>\n",
       "  <tbody>\n",
       "    <tr>\n",
       "      <th id=\"T_9fc81_level0_row0\" class=\"row_heading level0 row0\" >0</th>\n",
       "      <td id=\"T_9fc81_row0_col0\" class=\"data row0 col0\" >2S</td>\n",
       "      <td id=\"T_9fc81_row0_col1\" class=\"data row0 col1\" >8080</td>\n",
       "      <td id=\"T_9fc81_row0_col2\" class=\"data row0 col2\" >10</td>\n",
       "      <td id=\"T_9fc81_row0_col3\" class=\"data row0 col3\" >410,165</td>\n",
       "      <td id=\"T_9fc81_row0_col4\" class=\"data row0 col4\" >4</td>\n",
       "    </tr>\n",
       "    <tr>\n",
       "      <th id=\"T_9fc81_level0_row1\" class=\"row_heading level0 row1\" >1</th>\n",
       "      <td id=\"T_9fc81_row1_col0\" class=\"data row1 col0\" >AAV</td>\n",
       "      <td id=\"T_9fc81_row1_col1\" class=\"data row1 col1\" >8080</td>\n",
       "      <td id=\"T_9fc81_row1_col2\" class=\"data row1 col2\" >10</td>\n",
       "      <td id=\"T_9fc81_row1_col3\" class=\"data row1 col3\" >-4,764,091</td>\n",
       "      <td id=\"T_9fc81_row1_col4\" class=\"data row1 col4\" >4</td>\n",
       "    </tr>\n",
       "    <tr>\n",
       "      <th id=\"T_9fc81_level0_row2\" class=\"row_heading level0 row2\" >2</th>\n",
       "      <td id=\"T_9fc81_row2_col0\" class=\"data row2 col0\" >ACE</td>\n",
       "      <td id=\"T_9fc81_row2_col1\" class=\"data row2 col1\" >8080</td>\n",
       "      <td id=\"T_9fc81_row2_col2\" class=\"data row2 col2\" >10</td>\n",
       "      <td id=\"T_9fc81_row2_col3\" class=\"data row2 col3\" >1,507,641</td>\n",
       "      <td id=\"T_9fc81_row2_col4\" class=\"data row2 col4\" >4</td>\n",
       "    </tr>\n",
       "    <tr>\n",
       "      <th id=\"T_9fc81_level0_row3\" class=\"row_heading level0 row3\" >3</th>\n",
       "      <td id=\"T_9fc81_row3_col0\" class=\"data row3 col0\" >ADVANC</td>\n",
       "      <td id=\"T_9fc81_row3_col1\" class=\"data row3 col1\" >8080</td>\n",
       "      <td id=\"T_9fc81_row3_col2\" class=\"data row3 col2\" >10</td>\n",
       "      <td id=\"T_9fc81_row3_col3\" class=\"data row3 col3\" >27,434,360</td>\n",
       "      <td id=\"T_9fc81_row3_col4\" class=\"data row3 col4\" >4</td>\n",
       "    </tr>\n",
       "    <tr>\n",
       "      <th id=\"T_9fc81_level0_row4\" class=\"row_heading level0 row4\" >4</th>\n",
       "      <td id=\"T_9fc81_row4_col0\" class=\"data row4 col0\" >AEONTS</td>\n",
       "      <td id=\"T_9fc81_row4_col1\" class=\"data row4 col1\" >8080</td>\n",
       "      <td id=\"T_9fc81_row4_col2\" class=\"data row4 col2\" >10</td>\n",
       "      <td id=\"T_9fc81_row4_col3\" class=\"data row4 col3\" >3,689,643</td>\n",
       "      <td id=\"T_9fc81_row4_col4\" class=\"data row4 col4\" >4</td>\n",
       "    </tr>\n",
       "  </tbody>\n",
       "</table>\n"
      ],
      "text/plain": [
       "<pandas.io.formats.style.Styler at 0x21f631507f0>"
      ]
     },
     "execution_count": 7,
     "metadata": {},
     "output_type": "execute_result"
    }
   ],
   "source": [
    "dfp = pd.read_sql(sql, conlt)\n",
    "dfp[\"Counter\"] = 1\n",
    "dfp_grp = dfp.groupby([\"name\"], as_index=False).sum()\n",
    "dfp_grp = dfp_grp[dfp_grp[\"Counter\"] == 4]\n",
    "dfp_grp.head().style.format(format_dict)"
   ]
  },
  {
   "cell_type": "code",
   "execution_count": 8,
   "metadata": {},
   "outputs": [
    {
     "data": {
      "text/html": [
       "<style type=\"text/css\">\n",
       "</style>\n",
       "<table id=\"T_2c36c_\">\n",
       "  <thead>\n",
       "    <tr>\n",
       "      <th class=\"blank level0\" >&nbsp;</th>\n",
       "      <th class=\"col_heading level0 col0\" >name</th>\n",
       "      <th class=\"col_heading level0 col1\" >year</th>\n",
       "      <th class=\"col_heading level0 col2\" >quarter</th>\n",
       "      <th class=\"col_heading level0 col3\" >q_amt_c</th>\n",
       "      <th class=\"col_heading level0 col4\" >q_amt_p</th>\n",
       "      <th class=\"col_heading level0 col5\" >inc_profit</th>\n",
       "      <th class=\"col_heading level0 col6\" >percent</th>\n",
       "    </tr>\n",
       "  </thead>\n",
       "  <tbody>\n",
       "    <tr>\n",
       "      <th id=\"T_2c36c_level0_row0\" class=\"row_heading level0 row0\" >0</th>\n",
       "      <td id=\"T_2c36c_row0_col0\" class=\"data row0 col0\" >ADVANC</td>\n",
       "      <td id=\"T_2c36c_row0_col1\" class=\"data row0 col1\" >2021</td>\n",
       "      <td id=\"T_2c36c_row0_col2\" class=\"data row0 col2\" >Q4</td>\n",
       "      <td id=\"T_2c36c_row0_col3\" class=\"data row0 col3\" >26,922,146</td>\n",
       "      <td id=\"T_2c36c_row0_col4\" class=\"data row0 col4\" >27,434,360</td>\n",
       "      <td id=\"T_2c36c_row0_col5\" class=\"data row0 col5\" >-512,214</td>\n",
       "      <td id=\"T_2c36c_row0_col6\" class=\"data row0 col6\" >-1.87%</td>\n",
       "    </tr>\n",
       "    <tr>\n",
       "      <th id=\"T_2c36c_level0_row1\" class=\"row_heading level0 row1\" >1</th>\n",
       "      <td id=\"T_2c36c_row1_col0\" class=\"data row1 col0\" >AOT</td>\n",
       "      <td id=\"T_2c36c_row1_col1\" class=\"data row1 col1\" >2021</td>\n",
       "      <td id=\"T_2c36c_row1_col2\" class=\"data row1 col2\" >Q4</td>\n",
       "      <td id=\"T_2c36c_row1_col3\" class=\"data row1 col3\" >-16,322,014</td>\n",
       "      <td id=\"T_2c36c_row1_col4\" class=\"data row1 col4\" >4,320,674</td>\n",
       "      <td id=\"T_2c36c_row1_col5\" class=\"data row1 col5\" >-20,642,688</td>\n",
       "      <td id=\"T_2c36c_row1_col6\" class=\"data row1 col6\" >-477.77%</td>\n",
       "    </tr>\n",
       "    <tr>\n",
       "      <th id=\"T_2c36c_level0_row2\" class=\"row_heading level0 row2\" >2</th>\n",
       "      <td id=\"T_2c36c_row2_col0\" class=\"data row2 col0\" >ASP</td>\n",
       "      <td id=\"T_2c36c_row2_col1\" class=\"data row2 col1\" >2021</td>\n",
       "      <td id=\"T_2c36c_row2_col2\" class=\"data row2 col2\" >Q4</td>\n",
       "      <td id=\"T_2c36c_row2_col3\" class=\"data row2 col3\" >978,355</td>\n",
       "      <td id=\"T_2c36c_row2_col4\" class=\"data row2 col4\" >415,294</td>\n",
       "      <td id=\"T_2c36c_row2_col5\" class=\"data row2 col5\" >563,061</td>\n",
       "      <td id=\"T_2c36c_row2_col6\" class=\"data row2 col6\" >135.58%</td>\n",
       "    </tr>\n",
       "    <tr>\n",
       "      <th id=\"T_2c36c_level0_row3\" class=\"row_heading level0 row3\" >3</th>\n",
       "      <td id=\"T_2c36c_row3_col0\" class=\"data row3 col0\" >BAY</td>\n",
       "      <td id=\"T_2c36c_row3_col1\" class=\"data row3 col1\" >2021</td>\n",
       "      <td id=\"T_2c36c_row3_col2\" class=\"data row3 col2\" >Q4</td>\n",
       "      <td id=\"T_2c36c_row3_col3\" class=\"data row3 col3\" >33,794,188</td>\n",
       "      <td id=\"T_2c36c_row3_col4\" class=\"data row3 col4\" >23,039,785</td>\n",
       "      <td id=\"T_2c36c_row3_col5\" class=\"data row3 col5\" >10,754,403</td>\n",
       "      <td id=\"T_2c36c_row3_col6\" class=\"data row3 col6\" >46.68%</td>\n",
       "    </tr>\n",
       "    <tr>\n",
       "      <th id=\"T_2c36c_level0_row4\" class=\"row_heading level0 row4\" >4</th>\n",
       "      <td id=\"T_2c36c_row4_col0\" class=\"data row4 col0\" >BBL</td>\n",
       "      <td id=\"T_2c36c_row4_col1\" class=\"data row4 col1\" >2021</td>\n",
       "      <td id=\"T_2c36c_row4_col2\" class=\"data row4 col2\" >Q4</td>\n",
       "      <td id=\"T_2c36c_row4_col3\" class=\"data row4 col3\" >26,507,039</td>\n",
       "      <td id=\"T_2c36c_row4_col4\" class=\"data row4 col4\" >17,180,582</td>\n",
       "      <td id=\"T_2c36c_row4_col5\" class=\"data row4 col5\" >9,326,457</td>\n",
       "      <td id=\"T_2c36c_row4_col6\" class=\"data row4 col6\" >54.28%</td>\n",
       "    </tr>\n",
       "  </tbody>\n",
       "</table>\n"
      ],
      "text/plain": [
       "<pandas.io.formats.style.Styler at 0x21f65b89e80>"
      ]
     },
     "execution_count": 8,
     "metadata": {},
     "output_type": "execute_result"
    }
   ],
   "source": [
    "dfm = pd.merge(dfc_grp, dfp_grp, on=\"name\", suffixes=([\"_c\", \"_p\"]), how=\"inner\")\n",
    "dfm[\"inc_profit\"] = dfm[\"q_amt_c\"] - dfm[\"q_amt_p\"]\n",
    "dfm[\"percent\"] = round(dfm[\"inc_profit\"] / abs(dfm[\"q_amt_p\"]) * 100, 2)\n",
    "dfm[\"year\"] = year\n",
    "dfm[\"quarter\"] = \"Q\" + str(quarter)\n",
    "df_percent = dfm[cols]\n",
    "df_percent.head().style.format(format_dict)"
   ]
  },
  {
   "cell_type": "code",
   "execution_count": 9,
   "metadata": {},
   "outputs": [
    {
     "name": "stdout",
     "output_type": "stream",
     "text": [
      "\n",
      "DELETE FROM yr_profits \n",
      "WHERE year = 2021 AND quarter = \"Q4\"\n"
     ]
    },
    {
     "data": {
      "text/plain": [
       "23"
      ]
     },
     "execution_count": 9,
     "metadata": {},
     "output_type": "execute_result"
    }
   ],
   "source": [
    "sql = '''\n",
    "DELETE FROM yr_profits \n",
    "WHERE year = %s AND quarter = \"Q%s\"'''\n",
    "sql = sql % (year, quarter)\n",
    "print(sql)\n",
    "\n",
    "rp = conlt.execute(sql)\n",
    "rp.rowcount"
   ]
  },
  {
   "cell_type": "code",
   "execution_count": 10,
   "metadata": {},
   "outputs": [
    {
     "data": {
      "text/plain": [
       "26"
      ]
     },
     "execution_count": 10,
     "metadata": {},
     "output_type": "execute_result"
    }
   ],
   "source": [
    "sql = \"SELECT name, id FROM tickers\"\n",
    "tickers = pd.read_sql(sql, conlt)\n",
    "df_ins = pd.merge(df_percent, tickers, on=\"name\", how=\"inner\")\n",
    "rcds = df_ins.values.tolist()\n",
    "len(rcds)"
   ]
  },
  {
   "cell_type": "code",
   "execution_count": 11,
   "metadata": {
    "scrolled": false
   },
   "outputs": [],
   "source": [
    "#for rcd in rcds:\n",
    "#    print(rcd)"
   ]
  },
  {
   "cell_type": "code",
   "execution_count": 12,
   "metadata": {},
   "outputs": [
    {
     "name": "stdout",
     "output_type": "stream",
     "text": [
      "\n",
      "INSERT INTO yr_profits (name, year, quarter, latest_amt, previous_amt, inc_amt, inc_pct, ticker_id) \n",
      "VALUES (?, ?, ?, ?, ?, ?, ?, ?)\n"
     ]
    }
   ],
   "source": [
    "sql = \"\"\"\n",
    "INSERT INTO yr_profits (name, year, quarter, latest_amt, previous_amt, inc_amt, inc_pct, ticker_id) \n",
    "VALUES (?, ?, ?, ?, ?, ?, ?, ?)\"\"\"\n",
    "print(sql)"
   ]
  },
  {
   "cell_type": "code",
   "execution_count": 13,
   "metadata": {},
   "outputs": [],
   "source": [
    "for rcd in rcds:\n",
    "    conlt.execute(sql, rcd)"
   ]
  },
  {
   "cell_type": "markdown",
   "metadata": {},
   "source": [
    "### End of loop"
   ]
  },
  {
   "cell_type": "code",
   "execution_count": 14,
   "metadata": {},
   "outputs": [
    {
     "data": {
      "text/html": [
       "<style type=\"text/css\">\n",
       "</style>\n",
       "<table id=\"T_94779_\">\n",
       "  <thead>\n",
       "    <tr>\n",
       "      <th class=\"blank level0\" >&nbsp;</th>\n",
       "      <th class=\"col_heading level0 col0\" >name</th>\n",
       "      <th class=\"col_heading level0 col1\" >year</th>\n",
       "      <th class=\"col_heading level0 col2\" >quarter</th>\n",
       "      <th class=\"col_heading level0 col3\" >q_amt_c</th>\n",
       "      <th class=\"col_heading level0 col4\" >q_amt_p</th>\n",
       "      <th class=\"col_heading level0 col5\" >inc_profit</th>\n",
       "      <th class=\"col_heading level0 col6\" >percent</th>\n",
       "    </tr>\n",
       "  </thead>\n",
       "  <tbody>\n",
       "    <tr>\n",
       "      <th id=\"T_94779_level0_row0\" class=\"row_heading level0 row0\" >0</th>\n",
       "      <td id=\"T_94779_row0_col0\" class=\"data row0 col0\" >ADVANC</td>\n",
       "      <td id=\"T_94779_row0_col1\" class=\"data row0 col1\" >2021</td>\n",
       "      <td id=\"T_94779_row0_col2\" class=\"data row0 col2\" >Q4</td>\n",
       "      <td id=\"T_94779_row0_col3\" class=\"data row0 col3\" >26,922,146</td>\n",
       "      <td id=\"T_94779_row0_col4\" class=\"data row0 col4\" >27,434,360</td>\n",
       "      <td id=\"T_94779_row0_col5\" class=\"data row0 col5\" >-512,214</td>\n",
       "      <td id=\"T_94779_row0_col6\" class=\"data row0 col6\" >-1.87%</td>\n",
       "    </tr>\n",
       "    <tr>\n",
       "      <th id=\"T_94779_level0_row1\" class=\"row_heading level0 row1\" >2</th>\n",
       "      <td id=\"T_94779_row1_col0\" class=\"data row1 col0\" >ASP</td>\n",
       "      <td id=\"T_94779_row1_col1\" class=\"data row1 col1\" >2021</td>\n",
       "      <td id=\"T_94779_row1_col2\" class=\"data row1 col2\" >Q4</td>\n",
       "      <td id=\"T_94779_row1_col3\" class=\"data row1 col3\" >978,355</td>\n",
       "      <td id=\"T_94779_row1_col4\" class=\"data row1 col4\" >415,294</td>\n",
       "      <td id=\"T_94779_row1_col5\" class=\"data row1 col5\" >563,061</td>\n",
       "      <td id=\"T_94779_row1_col6\" class=\"data row1 col6\" >135.58%</td>\n",
       "    </tr>\n",
       "    <tr>\n",
       "      <th id=\"T_94779_level0_row2\" class=\"row_heading level0 row2\" >3</th>\n",
       "      <td id=\"T_94779_row2_col0\" class=\"data row2 col0\" >BAY</td>\n",
       "      <td id=\"T_94779_row2_col1\" class=\"data row2 col1\" >2021</td>\n",
       "      <td id=\"T_94779_row2_col2\" class=\"data row2 col2\" >Q4</td>\n",
       "      <td id=\"T_94779_row2_col3\" class=\"data row2 col3\" >33,794,188</td>\n",
       "      <td id=\"T_94779_row2_col4\" class=\"data row2 col4\" >23,039,785</td>\n",
       "      <td id=\"T_94779_row2_col5\" class=\"data row2 col5\" >10,754,403</td>\n",
       "      <td id=\"T_94779_row2_col6\" class=\"data row2 col6\" >46.68%</td>\n",
       "    </tr>\n",
       "    <tr>\n",
       "      <th id=\"T_94779_level0_row3\" class=\"row_heading level0 row3\" >4</th>\n",
       "      <td id=\"T_94779_row3_col0\" class=\"data row3 col0\" >BBL</td>\n",
       "      <td id=\"T_94779_row3_col1\" class=\"data row3 col1\" >2021</td>\n",
       "      <td id=\"T_94779_row3_col2\" class=\"data row3 col2\" >Q4</td>\n",
       "      <td id=\"T_94779_row3_col3\" class=\"data row3 col3\" >26,507,039</td>\n",
       "      <td id=\"T_94779_row3_col4\" class=\"data row3 col4\" >17,180,582</td>\n",
       "      <td id=\"T_94779_row3_col5\" class=\"data row3 col5\" >9,326,457</td>\n",
       "      <td id=\"T_94779_row3_col6\" class=\"data row3 col6\" >54.28%</td>\n",
       "    </tr>\n",
       "    <tr>\n",
       "      <th id=\"T_94779_level0_row4\" class=\"row_heading level0 row4\" >5</th>\n",
       "      <td id=\"T_94779_row4_col0\" class=\"data row4 col0\" >BFIT</td>\n",
       "      <td id=\"T_94779_row4_col1\" class=\"data row4 col1\" >2021</td>\n",
       "      <td id=\"T_94779_row4_col2\" class=\"data row4 col2\" >Q4</td>\n",
       "      <td id=\"T_94779_row4_col3\" class=\"data row4 col3\" >906,775</td>\n",
       "      <td id=\"T_94779_row4_col4\" class=\"data row4 col4\" >1,503,267</td>\n",
       "      <td id=\"T_94779_row4_col5\" class=\"data row4 col5\" >-596,492</td>\n",
       "      <td id=\"T_94779_row4_col6\" class=\"data row4 col6\" >-39.68%</td>\n",
       "    </tr>\n",
       "  </tbody>\n",
       "</table>\n"
      ],
      "text/plain": [
       "<pandas.io.formats.style.Styler at 0x21f631550a0>"
      ]
     },
     "execution_count": 14,
     "metadata": {},
     "output_type": "execute_result"
    }
   ],
   "source": [
    "criteria_1 = df_ins.q_amt_c > 440_000\n",
    "df_ins.loc[criteria_1, cols].head().style.format(format_dict)"
   ]
  },
  {
   "cell_type": "code",
   "execution_count": 15,
   "metadata": {},
   "outputs": [
    {
     "data": {
      "text/html": [
       "<style type=\"text/css\">\n",
       "</style>\n",
       "<table id=\"T_ec5e4_\">\n",
       "  <thead>\n",
       "    <tr>\n",
       "      <th class=\"blank level0\" >&nbsp;</th>\n",
       "      <th class=\"col_heading level0 col0\" >name</th>\n",
       "      <th class=\"col_heading level0 col1\" >year</th>\n",
       "      <th class=\"col_heading level0 col2\" >quarter</th>\n",
       "      <th class=\"col_heading level0 col3\" >q_amt_c</th>\n",
       "      <th class=\"col_heading level0 col4\" >q_amt_p</th>\n",
       "      <th class=\"col_heading level0 col5\" >inc_profit</th>\n",
       "      <th class=\"col_heading level0 col6\" >percent</th>\n",
       "    </tr>\n",
       "  </thead>\n",
       "  <tbody>\n",
       "    <tr>\n",
       "      <th id=\"T_ec5e4_level0_row0\" class=\"row_heading level0 row0\" >0</th>\n",
       "      <td id=\"T_ec5e4_row0_col0\" class=\"data row0 col0\" >ADVANC</td>\n",
       "      <td id=\"T_ec5e4_row0_col1\" class=\"data row0 col1\" >2021</td>\n",
       "      <td id=\"T_ec5e4_row0_col2\" class=\"data row0 col2\" >Q4</td>\n",
       "      <td id=\"T_ec5e4_row0_col3\" class=\"data row0 col3\" >26,922,146</td>\n",
       "      <td id=\"T_ec5e4_row0_col4\" class=\"data row0 col4\" >27,434,360</td>\n",
       "      <td id=\"T_ec5e4_row0_col5\" class=\"data row0 col5\" >-512,214</td>\n",
       "      <td id=\"T_ec5e4_row0_col6\" class=\"data row0 col6\" >-1.87%</td>\n",
       "    </tr>\n",
       "    <tr>\n",
       "      <th id=\"T_ec5e4_level0_row1\" class=\"row_heading level0 row1\" >1</th>\n",
       "      <td id=\"T_ec5e4_row1_col0\" class=\"data row1 col0\" >AOT</td>\n",
       "      <td id=\"T_ec5e4_row1_col1\" class=\"data row1 col1\" >2021</td>\n",
       "      <td id=\"T_ec5e4_row1_col2\" class=\"data row1 col2\" >Q4</td>\n",
       "      <td id=\"T_ec5e4_row1_col3\" class=\"data row1 col3\" >-16,322,014</td>\n",
       "      <td id=\"T_ec5e4_row1_col4\" class=\"data row1 col4\" >4,320,674</td>\n",
       "      <td id=\"T_ec5e4_row1_col5\" class=\"data row1 col5\" >-20,642,688</td>\n",
       "      <td id=\"T_ec5e4_row1_col6\" class=\"data row1 col6\" >-477.77%</td>\n",
       "    </tr>\n",
       "    <tr>\n",
       "      <th id=\"T_ec5e4_level0_row2\" class=\"row_heading level0 row2\" >2</th>\n",
       "      <td id=\"T_ec5e4_row2_col0\" class=\"data row2 col0\" >ASP</td>\n",
       "      <td id=\"T_ec5e4_row2_col1\" class=\"data row2 col1\" >2021</td>\n",
       "      <td id=\"T_ec5e4_row2_col2\" class=\"data row2 col2\" >Q4</td>\n",
       "      <td id=\"T_ec5e4_row2_col3\" class=\"data row2 col3\" >978,355</td>\n",
       "      <td id=\"T_ec5e4_row2_col4\" class=\"data row2 col4\" >415,294</td>\n",
       "      <td id=\"T_ec5e4_row2_col5\" class=\"data row2 col5\" >563,061</td>\n",
       "      <td id=\"T_ec5e4_row2_col6\" class=\"data row2 col6\" >135.58%</td>\n",
       "    </tr>\n",
       "    <tr>\n",
       "      <th id=\"T_ec5e4_level0_row3\" class=\"row_heading level0 row3\" >3</th>\n",
       "      <td id=\"T_ec5e4_row3_col0\" class=\"data row3 col0\" >BAY</td>\n",
       "      <td id=\"T_ec5e4_row3_col1\" class=\"data row3 col1\" >2021</td>\n",
       "      <td id=\"T_ec5e4_row3_col2\" class=\"data row3 col2\" >Q4</td>\n",
       "      <td id=\"T_ec5e4_row3_col3\" class=\"data row3 col3\" >33,794,188</td>\n",
       "      <td id=\"T_ec5e4_row3_col4\" class=\"data row3 col4\" >23,039,785</td>\n",
       "      <td id=\"T_ec5e4_row3_col5\" class=\"data row3 col5\" >10,754,403</td>\n",
       "      <td id=\"T_ec5e4_row3_col6\" class=\"data row3 col6\" >46.68%</td>\n",
       "    </tr>\n",
       "    <tr>\n",
       "      <th id=\"T_ec5e4_level0_row4\" class=\"row_heading level0 row4\" >4</th>\n",
       "      <td id=\"T_ec5e4_row4_col0\" class=\"data row4 col0\" >BBL</td>\n",
       "      <td id=\"T_ec5e4_row4_col1\" class=\"data row4 col1\" >2021</td>\n",
       "      <td id=\"T_ec5e4_row4_col2\" class=\"data row4 col2\" >Q4</td>\n",
       "      <td id=\"T_ec5e4_row4_col3\" class=\"data row4 col3\" >26,507,039</td>\n",
       "      <td id=\"T_ec5e4_row4_col4\" class=\"data row4 col4\" >17,180,582</td>\n",
       "      <td id=\"T_ec5e4_row4_col5\" class=\"data row4 col5\" >9,326,457</td>\n",
       "      <td id=\"T_ec5e4_row4_col6\" class=\"data row4 col6\" >54.28%</td>\n",
       "    </tr>\n",
       "  </tbody>\n",
       "</table>\n"
      ],
      "text/plain": [
       "<pandas.io.formats.style.Styler at 0x21f66c2ff10>"
      ]
     },
     "execution_count": 15,
     "metadata": {},
     "output_type": "execute_result"
    }
   ],
   "source": [
    "criteria_2 = df_ins.q_amt_p > 400_000\n",
    "df_ins.loc[criteria_2, cols].head().style.format(format_dict)"
   ]
  },
  {
   "cell_type": "code",
   "execution_count": 16,
   "metadata": {},
   "outputs": [
    {
     "data": {
      "text/html": [
       "<style type=\"text/css\">\n",
       "</style>\n",
       "<table id=\"T_ac51f_\">\n",
       "  <thead>\n",
       "    <tr>\n",
       "      <th class=\"blank level0\" >&nbsp;</th>\n",
       "      <th class=\"col_heading level0 col0\" >name</th>\n",
       "      <th class=\"col_heading level0 col1\" >year</th>\n",
       "      <th class=\"col_heading level0 col2\" >quarter</th>\n",
       "      <th class=\"col_heading level0 col3\" >q_amt_c</th>\n",
       "      <th class=\"col_heading level0 col4\" >q_amt_p</th>\n",
       "      <th class=\"col_heading level0 col5\" >inc_profit</th>\n",
       "      <th class=\"col_heading level0 col6\" >percent</th>\n",
       "    </tr>\n",
       "  </thead>\n",
       "  <tbody>\n",
       "    <tr>\n",
       "      <th id=\"T_ac51f_level0_row0\" class=\"row_heading level0 row0\" >2</th>\n",
       "      <td id=\"T_ac51f_row0_col0\" class=\"data row0 col0\" >ASP</td>\n",
       "      <td id=\"T_ac51f_row0_col1\" class=\"data row0 col1\" >2021</td>\n",
       "      <td id=\"T_ac51f_row0_col2\" class=\"data row0 col2\" >Q4</td>\n",
       "      <td id=\"T_ac51f_row0_col3\" class=\"data row0 col3\" >978,355</td>\n",
       "      <td id=\"T_ac51f_row0_col4\" class=\"data row0 col4\" >415,294</td>\n",
       "      <td id=\"T_ac51f_row0_col5\" class=\"data row0 col5\" >563,061</td>\n",
       "      <td id=\"T_ac51f_row0_col6\" class=\"data row0 col6\" >135.58%</td>\n",
       "    </tr>\n",
       "    <tr>\n",
       "      <th id=\"T_ac51f_level0_row1\" class=\"row_heading level0 row1\" >3</th>\n",
       "      <td id=\"T_ac51f_row1_col0\" class=\"data row1 col0\" >BAY</td>\n",
       "      <td id=\"T_ac51f_row1_col1\" class=\"data row1 col1\" >2021</td>\n",
       "      <td id=\"T_ac51f_row1_col2\" class=\"data row1 col2\" >Q4</td>\n",
       "      <td id=\"T_ac51f_row1_col3\" class=\"data row1 col3\" >33,794,188</td>\n",
       "      <td id=\"T_ac51f_row1_col4\" class=\"data row1 col4\" >23,039,785</td>\n",
       "      <td id=\"T_ac51f_row1_col5\" class=\"data row1 col5\" >10,754,403</td>\n",
       "      <td id=\"T_ac51f_row1_col6\" class=\"data row1 col6\" >46.68%</td>\n",
       "    </tr>\n",
       "    <tr>\n",
       "      <th id=\"T_ac51f_level0_row2\" class=\"row_heading level0 row2\" >4</th>\n",
       "      <td id=\"T_ac51f_row2_col0\" class=\"data row2 col0\" >BBL</td>\n",
       "      <td id=\"T_ac51f_row2_col1\" class=\"data row2 col1\" >2021</td>\n",
       "      <td id=\"T_ac51f_row2_col2\" class=\"data row2 col2\" >Q4</td>\n",
       "      <td id=\"T_ac51f_row2_col3\" class=\"data row2 col3\" >26,507,039</td>\n",
       "      <td id=\"T_ac51f_row2_col4\" class=\"data row2 col4\" >17,180,582</td>\n",
       "      <td id=\"T_ac51f_row2_col5\" class=\"data row2 col5\" >9,326,457</td>\n",
       "      <td id=\"T_ac51f_row2_col6\" class=\"data row2 col6\" >54.28%</td>\n",
       "    </tr>\n",
       "    <tr>\n",
       "      <th id=\"T_ac51f_level0_row3\" class=\"row_heading level0 row3\" >6</th>\n",
       "      <td id=\"T_ac51f_row3_col0\" class=\"data row3 col0\" >CIMBT</td>\n",
       "      <td id=\"T_ac51f_row3_col1\" class=\"data row3 col1\" >2021</td>\n",
       "      <td id=\"T_ac51f_row3_col2\" class=\"data row3 col2\" >Q4</td>\n",
       "      <td id=\"T_ac51f_row3_col3\" class=\"data row3 col3\" >2,440,554</td>\n",
       "      <td id=\"T_ac51f_row3_col4\" class=\"data row3 col4\" >1,290,582</td>\n",
       "      <td id=\"T_ac51f_row3_col5\" class=\"data row3 col5\" >1,149,972</td>\n",
       "      <td id=\"T_ac51f_row3_col6\" class=\"data row3 col6\" >89.10%</td>\n",
       "    </tr>\n",
       "    <tr>\n",
       "      <th id=\"T_ac51f_level0_row4\" class=\"row_heading level0 row4\" >7</th>\n",
       "      <td id=\"T_ac51f_row4_col0\" class=\"data row4 col0\" >COTTO</td>\n",
       "      <td id=\"T_ac51f_row4_col1\" class=\"data row4 col1\" >2021</td>\n",
       "      <td id=\"T_ac51f_row4_col2\" class=\"data row4 col2\" >Q4</td>\n",
       "      <td id=\"T_ac51f_row4_col3\" class=\"data row4 col3\" >583,604</td>\n",
       "      <td id=\"T_ac51f_row4_col4\" class=\"data row4 col4\" >420,190</td>\n",
       "      <td id=\"T_ac51f_row4_col5\" class=\"data row4 col5\" >163,414</td>\n",
       "      <td id=\"T_ac51f_row4_col6\" class=\"data row4 col6\" >38.89%</td>\n",
       "    </tr>\n",
       "  </tbody>\n",
       "</table>\n"
      ],
      "text/plain": [
       "<pandas.io.formats.style.Styler at 0x21f66ca3e20>"
      ]
     },
     "execution_count": 16,
     "metadata": {},
     "output_type": "execute_result"
    }
   ],
   "source": [
    "criteria_3 = df_ins.percent > 10.00\n",
    "df_ins.loc[criteria_3, cols].head().style.format(format_dict)"
   ]
  },
  {
   "cell_type": "code",
   "execution_count": 17,
   "metadata": {},
   "outputs": [
    {
     "data": {
      "text/html": [
       "<style type=\"text/css\">\n",
       "</style>\n",
       "<table id=\"T_1a688_\">\n",
       "  <thead>\n",
       "    <tr>\n",
       "      <th class=\"blank level0\" >&nbsp;</th>\n",
       "      <th class=\"col_heading level0 col0\" >name</th>\n",
       "      <th class=\"col_heading level0 col1\" >year</th>\n",
       "      <th class=\"col_heading level0 col2\" >quarter</th>\n",
       "      <th class=\"col_heading level0 col3\" >q_amt_c</th>\n",
       "      <th class=\"col_heading level0 col4\" >q_amt_p</th>\n",
       "      <th class=\"col_heading level0 col5\" >inc_profit</th>\n",
       "      <th class=\"col_heading level0 col6\" >percent</th>\n",
       "    </tr>\n",
       "  </thead>\n",
       "  <tbody>\n",
       "    <tr>\n",
       "      <th id=\"T_1a688_level0_row0\" class=\"row_heading level0 row0\" >17</th>\n",
       "      <td id=\"T_1a688_row0_col0\" class=\"data row0 col0\" >LHFG</td>\n",
       "      <td id=\"T_1a688_row0_col1\" class=\"data row0 col1\" >2021</td>\n",
       "      <td id=\"T_1a688_row0_col2\" class=\"data row0 col2\" >Q4</td>\n",
       "      <td id=\"T_1a688_row0_col3\" class=\"data row0 col3\" >1,383,721</td>\n",
       "      <td id=\"T_1a688_row0_col4\" class=\"data row0 col4\" >519,476</td>\n",
       "      <td id=\"T_1a688_row0_col5\" class=\"data row0 col5\" >864,245</td>\n",
       "      <td id=\"T_1a688_row0_col6\" class=\"data row0 col6\" >166.37%</td>\n",
       "    </tr>\n",
       "    <tr>\n",
       "      <th id=\"T_1a688_level0_row1\" class=\"row_heading level0 row1\" >2</th>\n",
       "      <td id=\"T_1a688_row1_col0\" class=\"data row1 col0\" >ASP</td>\n",
       "      <td id=\"T_1a688_row1_col1\" class=\"data row1 col1\" >2021</td>\n",
       "      <td id=\"T_1a688_row1_col2\" class=\"data row1 col2\" >Q4</td>\n",
       "      <td id=\"T_1a688_row1_col3\" class=\"data row1 col3\" >978,355</td>\n",
       "      <td id=\"T_1a688_row1_col4\" class=\"data row1 col4\" >415,294</td>\n",
       "      <td id=\"T_1a688_row1_col5\" class=\"data row1 col5\" >563,061</td>\n",
       "      <td id=\"T_1a688_row1_col6\" class=\"data row1 col6\" >135.58%</td>\n",
       "    </tr>\n",
       "    <tr>\n",
       "      <th id=\"T_1a688_level0_row2\" class=\"row_heading level0 row2\" >13</th>\n",
       "      <td id=\"T_1a688_row2_col0\" class=\"data row2 col0\" >KCE</td>\n",
       "      <td id=\"T_1a688_row2_col1\" class=\"data row2 col1\" >2021</td>\n",
       "      <td id=\"T_1a688_row2_col2\" class=\"data row2 col2\" >Q4</td>\n",
       "      <td id=\"T_1a688_row2_col3\" class=\"data row2 col3\" >2,426,284</td>\n",
       "      <td id=\"T_1a688_row2_col4\" class=\"data row2 col4\" >1,126,787</td>\n",
       "      <td id=\"T_1a688_row2_col5\" class=\"data row2 col5\" >1,299,497</td>\n",
       "      <td id=\"T_1a688_row2_col6\" class=\"data row2 col6\" >115.33%</td>\n",
       "    </tr>\n",
       "    <tr>\n",
       "      <th id=\"T_1a688_level0_row3\" class=\"row_heading level0 row3\" >6</th>\n",
       "      <td id=\"T_1a688_row3_col0\" class=\"data row3 col0\" >CIMBT</td>\n",
       "      <td id=\"T_1a688_row3_col1\" class=\"data row3 col1\" >2021</td>\n",
       "      <td id=\"T_1a688_row3_col2\" class=\"data row3 col2\" >Q4</td>\n",
       "      <td id=\"T_1a688_row3_col3\" class=\"data row3 col3\" >2,440,554</td>\n",
       "      <td id=\"T_1a688_row3_col4\" class=\"data row3 col4\" >1,290,582</td>\n",
       "      <td id=\"T_1a688_row3_col5\" class=\"data row3 col5\" >1,149,972</td>\n",
       "      <td id=\"T_1a688_row3_col6\" class=\"data row3 col6\" >89.10%</td>\n",
       "    </tr>\n",
       "    <tr>\n",
       "      <th id=\"T_1a688_level0_row4\" class=\"row_heading level0 row4\" >21</th>\n",
       "      <td id=\"T_1a688_row4_col0\" class=\"data row4 col0\" >PTTEP</td>\n",
       "      <td id=\"T_1a688_row4_col1\" class=\"data row4 col1\" >2021</td>\n",
       "      <td id=\"T_1a688_row4_col2\" class=\"data row4 col2\" >Q4</td>\n",
       "      <td id=\"T_1a688_row4_col3\" class=\"data row4 col3\" >38,863,595</td>\n",
       "      <td id=\"T_1a688_row4_col4\" class=\"data row4 col4\" >22,664,011</td>\n",
       "      <td id=\"T_1a688_row4_col5\" class=\"data row4 col5\" >16,199,584</td>\n",
       "      <td id=\"T_1a688_row4_col6\" class=\"data row4 col6\" >71.48%</td>\n",
       "    </tr>\n",
       "  </tbody>\n",
       "</table>\n"
      ],
      "text/plain": [
       "<pandas.io.formats.style.Styler at 0x21f66caac40>"
      ]
     },
     "execution_count": 17,
     "metadata": {},
     "output_type": "execute_result"
    }
   ],
   "source": [
    "final_criteria = criteria_1 & criteria_2 & criteria_3\n",
    "df_ins.loc[final_criteria, cols].sort_values(by=[\"percent\"], ascending=[False]).head().style.format(format_dict)"
   ]
  },
  {
   "cell_type": "code",
   "execution_count": 18,
   "metadata": {},
   "outputs": [
    {
     "data": {
      "text/html": [
       "<style type=\"text/css\">\n",
       "</style>\n",
       "<table id=\"T_e5e19_\">\n",
       "  <thead>\n",
       "    <tr>\n",
       "      <th class=\"blank level0\" >&nbsp;</th>\n",
       "      <th class=\"col_heading level0 col0\" >name</th>\n",
       "      <th class=\"col_heading level0 col1\" >year</th>\n",
       "      <th class=\"col_heading level0 col2\" >quarter</th>\n",
       "      <th class=\"col_heading level0 col3\" >q_amt_c</th>\n",
       "      <th class=\"col_heading level0 col4\" >q_amt_p</th>\n",
       "      <th class=\"col_heading level0 col5\" >inc_profit</th>\n",
       "      <th class=\"col_heading level0 col6\" >percent</th>\n",
       "    </tr>\n",
       "  </thead>\n",
       "  <tbody>\n",
       "    <tr>\n",
       "      <th id=\"T_e5e19_level0_row0\" class=\"row_heading level0 row0\" >2</th>\n",
       "      <td id=\"T_e5e19_row0_col0\" class=\"data row0 col0\" >ASP</td>\n",
       "      <td id=\"T_e5e19_row0_col1\" class=\"data row0 col1\" >2021</td>\n",
       "      <td id=\"T_e5e19_row0_col2\" class=\"data row0 col2\" >Q4</td>\n",
       "      <td id=\"T_e5e19_row0_col3\" class=\"data row0 col3\" >978,355</td>\n",
       "      <td id=\"T_e5e19_row0_col4\" class=\"data row0 col4\" >415,294</td>\n",
       "      <td id=\"T_e5e19_row0_col5\" class=\"data row0 col5\" >563,061</td>\n",
       "      <td id=\"T_e5e19_row0_col6\" class=\"data row0 col6\" >135.58%</td>\n",
       "    </tr>\n",
       "    <tr>\n",
       "      <th id=\"T_e5e19_level0_row1\" class=\"row_heading level0 row1\" >3</th>\n",
       "      <td id=\"T_e5e19_row1_col0\" class=\"data row1 col0\" >BAY</td>\n",
       "      <td id=\"T_e5e19_row1_col1\" class=\"data row1 col1\" >2021</td>\n",
       "      <td id=\"T_e5e19_row1_col2\" class=\"data row1 col2\" >Q4</td>\n",
       "      <td id=\"T_e5e19_row1_col3\" class=\"data row1 col3\" >33,794,188</td>\n",
       "      <td id=\"T_e5e19_row1_col4\" class=\"data row1 col4\" >23,039,785</td>\n",
       "      <td id=\"T_e5e19_row1_col5\" class=\"data row1 col5\" >10,754,403</td>\n",
       "      <td id=\"T_e5e19_row1_col6\" class=\"data row1 col6\" >46.68%</td>\n",
       "    </tr>\n",
       "    <tr>\n",
       "      <th id=\"T_e5e19_level0_row2\" class=\"row_heading level0 row2\" >4</th>\n",
       "      <td id=\"T_e5e19_row2_col0\" class=\"data row2 col0\" >BBL</td>\n",
       "      <td id=\"T_e5e19_row2_col1\" class=\"data row2 col1\" >2021</td>\n",
       "      <td id=\"T_e5e19_row2_col2\" class=\"data row2 col2\" >Q4</td>\n",
       "      <td id=\"T_e5e19_row2_col3\" class=\"data row2 col3\" >26,507,039</td>\n",
       "      <td id=\"T_e5e19_row2_col4\" class=\"data row2 col4\" >17,180,582</td>\n",
       "      <td id=\"T_e5e19_row2_col5\" class=\"data row2 col5\" >9,326,457</td>\n",
       "      <td id=\"T_e5e19_row2_col6\" class=\"data row2 col6\" >54.28%</td>\n",
       "    </tr>\n",
       "    <tr>\n",
       "      <th id=\"T_e5e19_level0_row3\" class=\"row_heading level0 row3\" >6</th>\n",
       "      <td id=\"T_e5e19_row3_col0\" class=\"data row3 col0\" >CIMBT</td>\n",
       "      <td id=\"T_e5e19_row3_col1\" class=\"data row3 col1\" >2021</td>\n",
       "      <td id=\"T_e5e19_row3_col2\" class=\"data row3 col2\" >Q4</td>\n",
       "      <td id=\"T_e5e19_row3_col3\" class=\"data row3 col3\" >2,440,554</td>\n",
       "      <td id=\"T_e5e19_row3_col4\" class=\"data row3 col4\" >1,290,582</td>\n",
       "      <td id=\"T_e5e19_row3_col5\" class=\"data row3 col5\" >1,149,972</td>\n",
       "      <td id=\"T_e5e19_row3_col6\" class=\"data row3 col6\" >89.10%</td>\n",
       "    </tr>\n",
       "    <tr>\n",
       "      <th id=\"T_e5e19_level0_row4\" class=\"row_heading level0 row4\" >7</th>\n",
       "      <td id=\"T_e5e19_row4_col0\" class=\"data row4 col0\" >COTTO</td>\n",
       "      <td id=\"T_e5e19_row4_col1\" class=\"data row4 col1\" >2021</td>\n",
       "      <td id=\"T_e5e19_row4_col2\" class=\"data row4 col2\" >Q4</td>\n",
       "      <td id=\"T_e5e19_row4_col3\" class=\"data row4 col3\" >583,604</td>\n",
       "      <td id=\"T_e5e19_row4_col4\" class=\"data row4 col4\" >420,190</td>\n",
       "      <td id=\"T_e5e19_row4_col5\" class=\"data row4 col5\" >163,414</td>\n",
       "      <td id=\"T_e5e19_row4_col6\" class=\"data row4 col6\" >38.89%</td>\n",
       "    </tr>\n",
       "  </tbody>\n",
       "</table>\n"
      ],
      "text/plain": [
       "<pandas.io.formats.style.Styler at 0x21f66cb06a0>"
      ]
     },
     "execution_count": 18,
     "metadata": {},
     "output_type": "execute_result"
    }
   ],
   "source": [
    "df_ins.loc[final_criteria, cols].sort_values(by=[\"name\"], ascending=[True]).head().style.format(format_dict)"
   ]
  },
  {
   "cell_type": "code",
   "execution_count": 19,
   "metadata": {},
   "outputs": [
    {
     "data": {
      "text/html": [
       "<style type=\"text/css\">\n",
       "</style>\n",
       "<table id=\"T_372b5_\">\n",
       "  <thead>\n",
       "    <tr>\n",
       "      <th class=\"blank level0\" >&nbsp;</th>\n",
       "      <th class=\"col_heading level0 col0\" >name</th>\n",
       "      <th class=\"col_heading level0 col1\" >year</th>\n",
       "      <th class=\"col_heading level0 col2\" >quarter</th>\n",
       "      <th class=\"col_heading level0 col3\" >q_amt_c</th>\n",
       "      <th class=\"col_heading level0 col4\" >q_amt_p</th>\n",
       "      <th class=\"col_heading level0 col5\" >inc_profit</th>\n",
       "      <th class=\"col_heading level0 col6\" >percent</th>\n",
       "    </tr>\n",
       "  </thead>\n",
       "  <tbody>\n",
       "    <tr>\n",
       "      <th id=\"T_372b5_level0_row0\" class=\"row_heading level0 row0\" >2</th>\n",
       "      <td id=\"T_372b5_row0_col0\" class=\"data row0 col0\" >ASP</td>\n",
       "      <td id=\"T_372b5_row0_col1\" class=\"data row0 col1\" >2021</td>\n",
       "      <td id=\"T_372b5_row0_col2\" class=\"data row0 col2\" >Q4</td>\n",
       "      <td id=\"T_372b5_row0_col3\" class=\"data row0 col3\" >978,355</td>\n",
       "      <td id=\"T_372b5_row0_col4\" class=\"data row0 col4\" >415,294</td>\n",
       "      <td id=\"T_372b5_row0_col5\" class=\"data row0 col5\" >563,061</td>\n",
       "      <td id=\"T_372b5_row0_col6\" class=\"data row0 col6\" >135.58%</td>\n",
       "    </tr>\n",
       "    <tr>\n",
       "      <th id=\"T_372b5_level0_row1\" class=\"row_heading level0 row1\" >3</th>\n",
       "      <td id=\"T_372b5_row1_col0\" class=\"data row1 col0\" >BAY</td>\n",
       "      <td id=\"T_372b5_row1_col1\" class=\"data row1 col1\" >2021</td>\n",
       "      <td id=\"T_372b5_row1_col2\" class=\"data row1 col2\" >Q4</td>\n",
       "      <td id=\"T_372b5_row1_col3\" class=\"data row1 col3\" >33,794,188</td>\n",
       "      <td id=\"T_372b5_row1_col4\" class=\"data row1 col4\" >23,039,785</td>\n",
       "      <td id=\"T_372b5_row1_col5\" class=\"data row1 col5\" >10,754,403</td>\n",
       "      <td id=\"T_372b5_row1_col6\" class=\"data row1 col6\" >46.68%</td>\n",
       "    </tr>\n",
       "    <tr>\n",
       "      <th id=\"T_372b5_level0_row2\" class=\"row_heading level0 row2\" >4</th>\n",
       "      <td id=\"T_372b5_row2_col0\" class=\"data row2 col0\" >BBL</td>\n",
       "      <td id=\"T_372b5_row2_col1\" class=\"data row2 col1\" >2021</td>\n",
       "      <td id=\"T_372b5_row2_col2\" class=\"data row2 col2\" >Q4</td>\n",
       "      <td id=\"T_372b5_row2_col3\" class=\"data row2 col3\" >26,507,039</td>\n",
       "      <td id=\"T_372b5_row2_col4\" class=\"data row2 col4\" >17,180,582</td>\n",
       "      <td id=\"T_372b5_row2_col5\" class=\"data row2 col5\" >9,326,457</td>\n",
       "      <td id=\"T_372b5_row2_col6\" class=\"data row2 col6\" >54.28%</td>\n",
       "    </tr>\n",
       "    <tr>\n",
       "      <th id=\"T_372b5_level0_row3\" class=\"row_heading level0 row3\" >6</th>\n",
       "      <td id=\"T_372b5_row3_col0\" class=\"data row3 col0\" >CIMBT</td>\n",
       "      <td id=\"T_372b5_row3_col1\" class=\"data row3 col1\" >2021</td>\n",
       "      <td id=\"T_372b5_row3_col2\" class=\"data row3 col2\" >Q4</td>\n",
       "      <td id=\"T_372b5_row3_col3\" class=\"data row3 col3\" >2,440,554</td>\n",
       "      <td id=\"T_372b5_row3_col4\" class=\"data row3 col4\" >1,290,582</td>\n",
       "      <td id=\"T_372b5_row3_col5\" class=\"data row3 col5\" >1,149,972</td>\n",
       "      <td id=\"T_372b5_row3_col6\" class=\"data row3 col6\" >89.10%</td>\n",
       "    </tr>\n",
       "    <tr>\n",
       "      <th id=\"T_372b5_level0_row4\" class=\"row_heading level0 row4\" >7</th>\n",
       "      <td id=\"T_372b5_row4_col0\" class=\"data row4 col0\" >COTTO</td>\n",
       "      <td id=\"T_372b5_row4_col1\" class=\"data row4 col1\" >2021</td>\n",
       "      <td id=\"T_372b5_row4_col2\" class=\"data row4 col2\" >Q4</td>\n",
       "      <td id=\"T_372b5_row4_col3\" class=\"data row4 col3\" >583,604</td>\n",
       "      <td id=\"T_372b5_row4_col4\" class=\"data row4 col4\" >420,190</td>\n",
       "      <td id=\"T_372b5_row4_col5\" class=\"data row4 col5\" >163,414</td>\n",
       "      <td id=\"T_372b5_row4_col6\" class=\"data row4 col6\" >38.89%</td>\n",
       "    </tr>\n",
       "  </tbody>\n",
       "</table>\n"
      ],
      "text/plain": [
       "<pandas.io.formats.style.Styler at 0x21f66cb72b0>"
      ]
     },
     "execution_count": 19,
     "metadata": {},
     "output_type": "execute_result"
    }
   ],
   "source": [
    "df_ins.loc[final_criteria, cols].sort_values(by=[\"name\"], ascending=[True]).head().style.format(format_dict)"
   ]
  },
  {
   "cell_type": "code",
   "execution_count": null,
   "metadata": {},
   "outputs": [],
   "source": []
  }
 ],
 "metadata": {
  "anaconda-cloud": {},
  "kernelspec": {
   "display_name": "Python 3 (ipykernel)",
   "language": "python",
   "name": "python3"
  },
  "language_info": {
   "codemirror_mode": {
    "name": "ipython",
    "version": 3
   },
   "file_extension": ".py",
   "mimetype": "text/x-python",
   "name": "python",
   "nbconvert_exporter": "python",
   "pygments_lexer": "ipython3",
   "version": "3.8.11"
  }
 },
 "nbformat": 4,
 "nbformat_minor": 1
}
