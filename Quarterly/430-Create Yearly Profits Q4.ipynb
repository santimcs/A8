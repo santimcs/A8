{
 "cells": [
  {
   "cell_type": "markdown",
   "metadata": {},
   "source": [
    "### Restart and Run All Cells"
   ]
  },
  {
   "cell_type": "code",
   "execution_count": 1,
   "metadata": {},
   "outputs": [],
   "source": [
    "import pandas as pd\n",
    "from sqlalchemy import create_engine\n",
    "engine = create_engine(\"sqlite:///c:\\\\ruby\\\\portlt\\\\db\\\\development.sqlite3\")\n",
    "conlt = engine.connect()\n",
    "year = 2021\n",
    "quarter = 4"
   ]
  },
  {
   "cell_type": "code",
   "execution_count": 2,
   "metadata": {},
   "outputs": [],
   "source": [
    "cols = 'name year quarter q_amt_c q_amt_p inc_profit percent'.split()"
   ]
  },
  {
   "cell_type": "code",
   "execution_count": 3,
   "metadata": {},
   "outputs": [],
   "source": [
    "format_dict = {\n",
    "                'q_amt':'{:,}','q_amt_c':'{:,}','q_amt_p':'{:,}','inc_profit':'{:,}',\n",
    "                'yoy_gain':'{:,}','acc_gain':'{:,}',    \n",
    "                'q_eps':'{:.4f}','y_eps':'{:.4f}','aq_eps':'{:.4f}','ay_eps':'{:.4f}',\n",
    "                'percent':'{:.2f}%'\n",
    "              }"
   ]
  },
  {
   "cell_type": "code",
   "execution_count": 4,
   "metadata": {},
   "outputs": [
    {
     "name": "stdout",
     "output_type": "stream",
     "text": [
      "\n",
      "SELECT name,year,quarter,q_amt\n",
      "FROM epss \n",
      "WHERE (year = 2021 AND quarter <= 4) \n",
      "OR (year = 2021-1 AND quarter >= 4+1)\n",
      "ORDER BY year DESC, quarter DESC\n"
     ]
    }
   ],
   "source": [
    "sql = \"\"\"\n",
    "SELECT name,year,quarter,q_amt\n",
    "FROM epss \n",
    "WHERE (year = %s AND quarter <= %s) \n",
    "OR (year = %s-1 AND quarter >= %s+1)\n",
    "ORDER BY year DESC, quarter DESC\"\"\"\n",
    "sql = sql % (year, quarter, year, quarter)\n",
    "print(sql)"
   ]
  },
  {
   "cell_type": "code",
   "execution_count": 5,
   "metadata": {},
   "outputs": [
    {
     "data": {
      "text/html": [
       "<style type=\"text/css\">\n",
       "</style>\n",
       "<table id=\"T_a2094_\">\n",
       "  <thead>\n",
       "    <tr>\n",
       "      <th class=\"blank level0\" >&nbsp;</th>\n",
       "      <th class=\"col_heading level0 col0\" >name</th>\n",
       "      <th class=\"col_heading level0 col1\" >year</th>\n",
       "      <th class=\"col_heading level0 col2\" >quarter</th>\n",
       "      <th class=\"col_heading level0 col3\" >q_amt</th>\n",
       "      <th class=\"col_heading level0 col4\" >Counter</th>\n",
       "    </tr>\n",
       "  </thead>\n",
       "  <tbody>\n",
       "    <tr>\n",
       "      <th id=\"T_a2094_level0_row0\" class=\"row_heading level0 row0\" >0</th>\n",
       "      <td id=\"T_a2094_row0_col0\" class=\"data row0 col0\" >ACE</td>\n",
       "      <td id=\"T_a2094_row0_col1\" class=\"data row0 col1\" >8084</td>\n",
       "      <td id=\"T_a2094_row0_col2\" class=\"data row0 col2\" >10</td>\n",
       "      <td id=\"T_a2094_row0_col3\" class=\"data row0 col3\" >1,505,681</td>\n",
       "      <td id=\"T_a2094_row0_col4\" class=\"data row0 col4\" >4</td>\n",
       "    </tr>\n",
       "    <tr>\n",
       "      <th id=\"T_a2094_level0_row1\" class=\"row_heading level0 row1\" >1</th>\n",
       "      <td id=\"T_a2094_row1_col0\" class=\"data row1 col0\" >ADVANC</td>\n",
       "      <td id=\"T_a2094_row1_col1\" class=\"data row1 col1\" >8084</td>\n",
       "      <td id=\"T_a2094_row1_col2\" class=\"data row1 col2\" >10</td>\n",
       "      <td id=\"T_a2094_row1_col3\" class=\"data row1 col3\" >26,922,146</td>\n",
       "      <td id=\"T_a2094_row1_col4\" class=\"data row1 col4\" >4</td>\n",
       "    </tr>\n",
       "    <tr>\n",
       "      <th id=\"T_a2094_level0_row2\" class=\"row_heading level0 row2\" >2</th>\n",
       "      <td id=\"T_a2094_row2_col0\" class=\"data row2 col0\" >AEONTS</td>\n",
       "      <td id=\"T_a2094_row2_col1\" class=\"data row2 col1\" >8084</td>\n",
       "      <td id=\"T_a2094_row2_col2\" class=\"data row2 col2\" >10</td>\n",
       "      <td id=\"T_a2094_row2_col3\" class=\"data row2 col3\" >3,553,041</td>\n",
       "      <td id=\"T_a2094_row2_col4\" class=\"data row2 col4\" >4</td>\n",
       "    </tr>\n",
       "    <tr>\n",
       "      <th id=\"T_a2094_level0_row3\" class=\"row_heading level0 row3\" >3</th>\n",
       "      <td id=\"T_a2094_row3_col0\" class=\"data row3 col0\" >AH</td>\n",
       "      <td id=\"T_a2094_row3_col1\" class=\"data row3 col1\" >8084</td>\n",
       "      <td id=\"T_a2094_row3_col2\" class=\"data row3 col2\" >10</td>\n",
       "      <td id=\"T_a2094_row3_col3\" class=\"data row3 col3\" >1,023,968</td>\n",
       "      <td id=\"T_a2094_row3_col4\" class=\"data row3 col4\" >4</td>\n",
       "    </tr>\n",
       "    <tr>\n",
       "      <th id=\"T_a2094_level0_row4\" class=\"row_heading level0 row4\" >4</th>\n",
       "      <td id=\"T_a2094_row4_col0\" class=\"data row4 col0\" >AIE</td>\n",
       "      <td id=\"T_a2094_row4_col1\" class=\"data row4 col1\" >8084</td>\n",
       "      <td id=\"T_a2094_row4_col2\" class=\"data row4 col2\" >10</td>\n",
       "      <td id=\"T_a2094_row4_col3\" class=\"data row4 col3\" >423,622</td>\n",
       "      <td id=\"T_a2094_row4_col4\" class=\"data row4 col4\" >4</td>\n",
       "    </tr>\n",
       "  </tbody>\n",
       "</table>\n"
      ],
      "text/plain": [
       "<pandas.io.formats.style.Styler at 0x213f28760d0>"
      ]
     },
     "execution_count": 5,
     "metadata": {},
     "output_type": "execute_result"
    }
   ],
   "source": [
    "dfc = pd.read_sql(sql, conlt)\n",
    "dfc[\"Counter\"] = 1\n",
    "dfc_grp = dfc.groupby([\"name\"], as_index=False).sum()\n",
    "dfc_grp = dfc_grp[dfc_grp[\"Counter\"] == 4]\n",
    "dfc_grp.head().style.format(format_dict)"
   ]
  },
  {
   "cell_type": "code",
   "execution_count": 6,
   "metadata": {},
   "outputs": [
    {
     "name": "stdout",
     "output_type": "stream",
     "text": [
      "\n",
      "SELECT name,year,quarter,q_amt\n",
      "FROM epss \n",
      "WHERE (year = 2021-1 AND quarter <= 4) \n",
      "OR (year = 2021-2 AND quarter >= 4+1)\n",
      "ORDER BY year DESC, quarter DESC\n",
      "\n"
     ]
    }
   ],
   "source": [
    "sql = \"\"\"\n",
    "SELECT name,year,quarter,q_amt\n",
    "FROM epss \n",
    "WHERE (year = %s-1 AND quarter <= %s) \n",
    "OR (year = %s-2 AND quarter >= %s+1)\n",
    "ORDER BY year DESC, quarter DESC\n",
    "\"\"\"\n",
    "sql = sql % (year, quarter, year, quarter)\n",
    "print(sql)"
   ]
  },
  {
   "cell_type": "code",
   "execution_count": 7,
   "metadata": {},
   "outputs": [
    {
     "data": {
      "text/html": [
       "<style type=\"text/css\">\n",
       "</style>\n",
       "<table id=\"T_2ae91_\">\n",
       "  <thead>\n",
       "    <tr>\n",
       "      <th class=\"blank level0\" >&nbsp;</th>\n",
       "      <th class=\"col_heading level0 col0\" >name</th>\n",
       "      <th class=\"col_heading level0 col1\" >year</th>\n",
       "      <th class=\"col_heading level0 col2\" >quarter</th>\n",
       "      <th class=\"col_heading level0 col3\" >q_amt</th>\n",
       "      <th class=\"col_heading level0 col4\" >Counter</th>\n",
       "    </tr>\n",
       "  </thead>\n",
       "  <tbody>\n",
       "    <tr>\n",
       "      <th id=\"T_2ae91_level0_row0\" class=\"row_heading level0 row0\" >0</th>\n",
       "      <td id=\"T_2ae91_row0_col0\" class=\"data row0 col0\" >ACE</td>\n",
       "      <td id=\"T_2ae91_row0_col1\" class=\"data row0 col1\" >8080</td>\n",
       "      <td id=\"T_2ae91_row0_col2\" class=\"data row0 col2\" >10</td>\n",
       "      <td id=\"T_2ae91_row0_col3\" class=\"data row0 col3\" >1,507,641</td>\n",
       "      <td id=\"T_2ae91_row0_col4\" class=\"data row0 col4\" >4</td>\n",
       "    </tr>\n",
       "    <tr>\n",
       "      <th id=\"T_2ae91_level0_row1\" class=\"row_heading level0 row1\" >1</th>\n",
       "      <td id=\"T_2ae91_row1_col0\" class=\"data row1 col0\" >ADVANC</td>\n",
       "      <td id=\"T_2ae91_row1_col1\" class=\"data row1 col1\" >8080</td>\n",
       "      <td id=\"T_2ae91_row1_col2\" class=\"data row1 col2\" >10</td>\n",
       "      <td id=\"T_2ae91_row1_col3\" class=\"data row1 col3\" >27,434,360</td>\n",
       "      <td id=\"T_2ae91_row1_col4\" class=\"data row1 col4\" >4</td>\n",
       "    </tr>\n",
       "    <tr>\n",
       "      <th id=\"T_2ae91_level0_row2\" class=\"row_heading level0 row2\" >2</th>\n",
       "      <td id=\"T_2ae91_row2_col0\" class=\"data row2 col0\" >AEONTS</td>\n",
       "      <td id=\"T_2ae91_row2_col1\" class=\"data row2 col1\" >8080</td>\n",
       "      <td id=\"T_2ae91_row2_col2\" class=\"data row2 col2\" >10</td>\n",
       "      <td id=\"T_2ae91_row2_col3\" class=\"data row2 col3\" >3,689,643</td>\n",
       "      <td id=\"T_2ae91_row2_col4\" class=\"data row2 col4\" >4</td>\n",
       "    </tr>\n",
       "    <tr>\n",
       "      <th id=\"T_2ae91_level0_row3\" class=\"row_heading level0 row3\" >3</th>\n",
       "      <td id=\"T_2ae91_row3_col0\" class=\"data row3 col0\" >AH</td>\n",
       "      <td id=\"T_2ae91_row3_col1\" class=\"data row3 col1\" >8080</td>\n",
       "      <td id=\"T_2ae91_row3_col2\" class=\"data row3 col2\" >10</td>\n",
       "      <td id=\"T_2ae91_row3_col3\" class=\"data row3 col3\" >137,642</td>\n",
       "      <td id=\"T_2ae91_row3_col4\" class=\"data row3 col4\" >4</td>\n",
       "    </tr>\n",
       "    <tr>\n",
       "      <th id=\"T_2ae91_level0_row4\" class=\"row_heading level0 row4\" >4</th>\n",
       "      <td id=\"T_2ae91_row4_col0\" class=\"data row4 col0\" >AIE</td>\n",
       "      <td id=\"T_2ae91_row4_col1\" class=\"data row4 col1\" >8080</td>\n",
       "      <td id=\"T_2ae91_row4_col2\" class=\"data row4 col2\" >10</td>\n",
       "      <td id=\"T_2ae91_row4_col3\" class=\"data row4 col3\" >488,517</td>\n",
       "      <td id=\"T_2ae91_row4_col4\" class=\"data row4 col4\" >4</td>\n",
       "    </tr>\n",
       "  </tbody>\n",
       "</table>\n"
      ],
      "text/plain": [
       "<pandas.io.formats.style.Styler at 0x213f27ba640>"
      ]
     },
     "execution_count": 7,
     "metadata": {},
     "output_type": "execute_result"
    }
   ],
   "source": [
    "dfp = pd.read_sql(sql, conlt)\n",
    "dfp[\"Counter\"] = 1\n",
    "dfp_grp = dfp.groupby([\"name\"], as_index=False).sum()\n",
    "dfp_grp = dfp_grp[dfp_grp[\"Counter\"] == 4]\n",
    "dfp_grp.head().style.format(format_dict)"
   ]
  },
  {
   "cell_type": "code",
   "execution_count": 8,
   "metadata": {},
   "outputs": [
    {
     "data": {
      "text/html": [
       "<style type=\"text/css\">\n",
       "</style>\n",
       "<table id=\"T_843cd_\">\n",
       "  <thead>\n",
       "    <tr>\n",
       "      <th class=\"blank level0\" >&nbsp;</th>\n",
       "      <th class=\"col_heading level0 col0\" >name</th>\n",
       "      <th class=\"col_heading level0 col1\" >year</th>\n",
       "      <th class=\"col_heading level0 col2\" >quarter</th>\n",
       "      <th class=\"col_heading level0 col3\" >q_amt_c</th>\n",
       "      <th class=\"col_heading level0 col4\" >q_amt_p</th>\n",
       "      <th class=\"col_heading level0 col5\" >inc_profit</th>\n",
       "      <th class=\"col_heading level0 col6\" >percent</th>\n",
       "    </tr>\n",
       "  </thead>\n",
       "  <tbody>\n",
       "    <tr>\n",
       "      <th id=\"T_843cd_level0_row0\" class=\"row_heading level0 row0\" >0</th>\n",
       "      <td id=\"T_843cd_row0_col0\" class=\"data row0 col0\" >ACE</td>\n",
       "      <td id=\"T_843cd_row0_col1\" class=\"data row0 col1\" >2021</td>\n",
       "      <td id=\"T_843cd_row0_col2\" class=\"data row0 col2\" >Q4</td>\n",
       "      <td id=\"T_843cd_row0_col3\" class=\"data row0 col3\" >1,505,681</td>\n",
       "      <td id=\"T_843cd_row0_col4\" class=\"data row0 col4\" >1,507,641</td>\n",
       "      <td id=\"T_843cd_row0_col5\" class=\"data row0 col5\" >-1,960</td>\n",
       "      <td id=\"T_843cd_row0_col6\" class=\"data row0 col6\" >-0.13%</td>\n",
       "    </tr>\n",
       "    <tr>\n",
       "      <th id=\"T_843cd_level0_row1\" class=\"row_heading level0 row1\" >1</th>\n",
       "      <td id=\"T_843cd_row1_col0\" class=\"data row1 col0\" >ADVANC</td>\n",
       "      <td id=\"T_843cd_row1_col1\" class=\"data row1 col1\" >2021</td>\n",
       "      <td id=\"T_843cd_row1_col2\" class=\"data row1 col2\" >Q4</td>\n",
       "      <td id=\"T_843cd_row1_col3\" class=\"data row1 col3\" >26,922,146</td>\n",
       "      <td id=\"T_843cd_row1_col4\" class=\"data row1 col4\" >27,434,360</td>\n",
       "      <td id=\"T_843cd_row1_col5\" class=\"data row1 col5\" >-512,214</td>\n",
       "      <td id=\"T_843cd_row1_col6\" class=\"data row1 col6\" >-1.87%</td>\n",
       "    </tr>\n",
       "    <tr>\n",
       "      <th id=\"T_843cd_level0_row2\" class=\"row_heading level0 row2\" >2</th>\n",
       "      <td id=\"T_843cd_row2_col0\" class=\"data row2 col0\" >AEONTS</td>\n",
       "      <td id=\"T_843cd_row2_col1\" class=\"data row2 col1\" >2021</td>\n",
       "      <td id=\"T_843cd_row2_col2\" class=\"data row2 col2\" >Q4</td>\n",
       "      <td id=\"T_843cd_row2_col3\" class=\"data row2 col3\" >3,553,041</td>\n",
       "      <td id=\"T_843cd_row2_col4\" class=\"data row2 col4\" >3,689,643</td>\n",
       "      <td id=\"T_843cd_row2_col5\" class=\"data row2 col5\" >-136,602</td>\n",
       "      <td id=\"T_843cd_row2_col6\" class=\"data row2 col6\" >-3.70%</td>\n",
       "    </tr>\n",
       "    <tr>\n",
       "      <th id=\"T_843cd_level0_row3\" class=\"row_heading level0 row3\" >3</th>\n",
       "      <td id=\"T_843cd_row3_col0\" class=\"data row3 col0\" >AH</td>\n",
       "      <td id=\"T_843cd_row3_col1\" class=\"data row3 col1\" >2021</td>\n",
       "      <td id=\"T_843cd_row3_col2\" class=\"data row3 col2\" >Q4</td>\n",
       "      <td id=\"T_843cd_row3_col3\" class=\"data row3 col3\" >1,023,968</td>\n",
       "      <td id=\"T_843cd_row3_col4\" class=\"data row3 col4\" >137,642</td>\n",
       "      <td id=\"T_843cd_row3_col5\" class=\"data row3 col5\" >886,326</td>\n",
       "      <td id=\"T_843cd_row3_col6\" class=\"data row3 col6\" >643.94%</td>\n",
       "    </tr>\n",
       "    <tr>\n",
       "      <th id=\"T_843cd_level0_row4\" class=\"row_heading level0 row4\" >4</th>\n",
       "      <td id=\"T_843cd_row4_col0\" class=\"data row4 col0\" >AIE</td>\n",
       "      <td id=\"T_843cd_row4_col1\" class=\"data row4 col1\" >2021</td>\n",
       "      <td id=\"T_843cd_row4_col2\" class=\"data row4 col2\" >Q4</td>\n",
       "      <td id=\"T_843cd_row4_col3\" class=\"data row4 col3\" >423,622</td>\n",
       "      <td id=\"T_843cd_row4_col4\" class=\"data row4 col4\" >488,517</td>\n",
       "      <td id=\"T_843cd_row4_col5\" class=\"data row4 col5\" >-64,895</td>\n",
       "      <td id=\"T_843cd_row4_col6\" class=\"data row4 col6\" >-13.28%</td>\n",
       "    </tr>\n",
       "  </tbody>\n",
       "</table>\n"
      ],
      "text/plain": [
       "<pandas.io.formats.style.Styler at 0x213f6304c40>"
      ]
     },
     "execution_count": 8,
     "metadata": {},
     "output_type": "execute_result"
    }
   ],
   "source": [
    "dfm = pd.merge(dfc_grp, dfp_grp, on=\"name\", suffixes=([\"_c\", \"_p\"]), how=\"inner\")\n",
    "dfm[\"inc_profit\"] = dfm[\"q_amt_c\"] - dfm[\"q_amt_p\"]\n",
    "dfm[\"percent\"] = round(dfm[\"inc_profit\"] / abs(dfm[\"q_amt_p\"]) * 100, 2)\n",
    "dfm[\"year\"] = year\n",
    "dfm[\"quarter\"] = \"Q\" + str(quarter)\n",
    "df_percent = dfm[cols]\n",
    "df_percent.head().style.format(format_dict)"
   ]
  },
  {
   "cell_type": "code",
   "execution_count": 9,
   "metadata": {},
   "outputs": [
    {
     "name": "stdout",
     "output_type": "stream",
     "text": [
      "\n",
      "DELETE FROM yr_profits \n",
      "WHERE year = 2021 AND quarter = \"Q4\"\n"
     ]
    },
    {
     "data": {
      "text/plain": [
       "220"
      ]
     },
     "execution_count": 9,
     "metadata": {},
     "output_type": "execute_result"
    }
   ],
   "source": [
    "sql = '''\n",
    "DELETE FROM yr_profits \n",
    "WHERE year = %s AND quarter = \"Q%s\"'''\n",
    "sql = sql % (year, quarter)\n",
    "print(sql)\n",
    "\n",
    "rp = conlt.execute(sql)\n",
    "rp.rowcount"
   ]
  },
  {
   "cell_type": "code",
   "execution_count": 10,
   "metadata": {},
   "outputs": [
    {
     "data": {
      "text/plain": [
       "223"
      ]
     },
     "execution_count": 10,
     "metadata": {},
     "output_type": "execute_result"
    }
   ],
   "source": [
    "sql = \"SELECT name, id FROM tickers\"\n",
    "tickers = pd.read_sql(sql, conlt)\n",
    "df_ins = pd.merge(df_percent, tickers, on=\"name\", how=\"inner\")\n",
    "rcds = df_ins.values.tolist()\n",
    "len(rcds)"
   ]
  },
  {
   "cell_type": "code",
   "execution_count": 11,
   "metadata": {
    "scrolled": false
   },
   "outputs": [],
   "source": [
    "#for rcd in rcds:\n",
    "#    print(rcd)"
   ]
  },
  {
   "cell_type": "code",
   "execution_count": 12,
   "metadata": {},
   "outputs": [
    {
     "name": "stdout",
     "output_type": "stream",
     "text": [
      "\n",
      "INSERT INTO yr_profits (name, year, quarter, latest_amt, previous_amt, inc_amt, inc_pct, ticker_id) \n",
      "VALUES (?, ?, ?, ?, ?, ?, ?, ?)\n"
     ]
    }
   ],
   "source": [
    "sql = \"\"\"\n",
    "INSERT INTO yr_profits (name, year, quarter, latest_amt, previous_amt, inc_amt, inc_pct, ticker_id) \n",
    "VALUES (?, ?, ?, ?, ?, ?, ?, ?)\"\"\"\n",
    "print(sql)"
   ]
  },
  {
   "cell_type": "code",
   "execution_count": 13,
   "metadata": {},
   "outputs": [],
   "source": [
    "for rcd in rcds:\n",
    "    conlt.execute(sql, rcd)"
   ]
  },
  {
   "cell_type": "markdown",
   "metadata": {},
   "source": [
    "### End of loop"
   ]
  },
  {
   "cell_type": "code",
   "execution_count": 14,
   "metadata": {},
   "outputs": [
    {
     "data": {
      "text/html": [
       "<style type=\"text/css\">\n",
       "</style>\n",
       "<table id=\"T_3236f_\">\n",
       "  <thead>\n",
       "    <tr>\n",
       "      <th class=\"blank level0\" >&nbsp;</th>\n",
       "      <th class=\"col_heading level0 col0\" >name</th>\n",
       "      <th class=\"col_heading level0 col1\" >year</th>\n",
       "      <th class=\"col_heading level0 col2\" >quarter</th>\n",
       "      <th class=\"col_heading level0 col3\" >q_amt_c</th>\n",
       "      <th class=\"col_heading level0 col4\" >q_amt_p</th>\n",
       "      <th class=\"col_heading level0 col5\" >inc_profit</th>\n",
       "      <th class=\"col_heading level0 col6\" >percent</th>\n",
       "    </tr>\n",
       "  </thead>\n",
       "  <tbody>\n",
       "    <tr>\n",
       "      <th id=\"T_3236f_level0_row0\" class=\"row_heading level0 row0\" >0</th>\n",
       "      <td id=\"T_3236f_row0_col0\" class=\"data row0 col0\" >ACE</td>\n",
       "      <td id=\"T_3236f_row0_col1\" class=\"data row0 col1\" >2021</td>\n",
       "      <td id=\"T_3236f_row0_col2\" class=\"data row0 col2\" >Q4</td>\n",
       "      <td id=\"T_3236f_row0_col3\" class=\"data row0 col3\" >1,505,681</td>\n",
       "      <td id=\"T_3236f_row0_col4\" class=\"data row0 col4\" >1,507,641</td>\n",
       "      <td id=\"T_3236f_row0_col5\" class=\"data row0 col5\" >-1,960</td>\n",
       "      <td id=\"T_3236f_row0_col6\" class=\"data row0 col6\" >-0.13%</td>\n",
       "    </tr>\n",
       "    <tr>\n",
       "      <th id=\"T_3236f_level0_row1\" class=\"row_heading level0 row1\" >1</th>\n",
       "      <td id=\"T_3236f_row1_col0\" class=\"data row1 col0\" >ADVANC</td>\n",
       "      <td id=\"T_3236f_row1_col1\" class=\"data row1 col1\" >2021</td>\n",
       "      <td id=\"T_3236f_row1_col2\" class=\"data row1 col2\" >Q4</td>\n",
       "      <td id=\"T_3236f_row1_col3\" class=\"data row1 col3\" >26,922,146</td>\n",
       "      <td id=\"T_3236f_row1_col4\" class=\"data row1 col4\" >27,434,360</td>\n",
       "      <td id=\"T_3236f_row1_col5\" class=\"data row1 col5\" >-512,214</td>\n",
       "      <td id=\"T_3236f_row1_col6\" class=\"data row1 col6\" >-1.87%</td>\n",
       "    </tr>\n",
       "    <tr>\n",
       "      <th id=\"T_3236f_level0_row2\" class=\"row_heading level0 row2\" >2</th>\n",
       "      <td id=\"T_3236f_row2_col0\" class=\"data row2 col0\" >AEONTS</td>\n",
       "      <td id=\"T_3236f_row2_col1\" class=\"data row2 col1\" >2021</td>\n",
       "      <td id=\"T_3236f_row2_col2\" class=\"data row2 col2\" >Q4</td>\n",
       "      <td id=\"T_3236f_row2_col3\" class=\"data row2 col3\" >3,553,041</td>\n",
       "      <td id=\"T_3236f_row2_col4\" class=\"data row2 col4\" >3,689,643</td>\n",
       "      <td id=\"T_3236f_row2_col5\" class=\"data row2 col5\" >-136,602</td>\n",
       "      <td id=\"T_3236f_row2_col6\" class=\"data row2 col6\" >-3.70%</td>\n",
       "    </tr>\n",
       "    <tr>\n",
       "      <th id=\"T_3236f_level0_row3\" class=\"row_heading level0 row3\" >3</th>\n",
       "      <td id=\"T_3236f_row3_col0\" class=\"data row3 col0\" >AH</td>\n",
       "      <td id=\"T_3236f_row3_col1\" class=\"data row3 col1\" >2021</td>\n",
       "      <td id=\"T_3236f_row3_col2\" class=\"data row3 col2\" >Q4</td>\n",
       "      <td id=\"T_3236f_row3_col3\" class=\"data row3 col3\" >1,023,968</td>\n",
       "      <td id=\"T_3236f_row3_col4\" class=\"data row3 col4\" >137,642</td>\n",
       "      <td id=\"T_3236f_row3_col5\" class=\"data row3 col5\" >886,326</td>\n",
       "      <td id=\"T_3236f_row3_col6\" class=\"data row3 col6\" >643.94%</td>\n",
       "    </tr>\n",
       "    <tr>\n",
       "      <th id=\"T_3236f_level0_row4\" class=\"row_heading level0 row4\" >5</th>\n",
       "      <td id=\"T_3236f_row4_col0\" class=\"data row4 col0\" >AIMIRT</td>\n",
       "      <td id=\"T_3236f_row4_col1\" class=\"data row4 col1\" >2021</td>\n",
       "      <td id=\"T_3236f_row4_col2\" class=\"data row4 col2\" >Q4</td>\n",
       "      <td id=\"T_3236f_row4_col3\" class=\"data row4 col3\" >487,775</td>\n",
       "      <td id=\"T_3236f_row4_col4\" class=\"data row4 col4\" >413,822</td>\n",
       "      <td id=\"T_3236f_row4_col5\" class=\"data row4 col5\" >73,953</td>\n",
       "      <td id=\"T_3236f_row4_col6\" class=\"data row4 col6\" >17.87%</td>\n",
       "    </tr>\n",
       "  </tbody>\n",
       "</table>\n"
      ],
      "text/plain": [
       "<pandas.io.formats.style.Styler at 0x213f634dac0>"
      ]
     },
     "execution_count": 14,
     "metadata": {},
     "output_type": "execute_result"
    }
   ],
   "source": [
    "criteria_1 = df_ins.q_amt_c > 440_000\n",
    "df_ins.loc[criteria_1, cols].head().style.format(format_dict)"
   ]
  },
  {
   "cell_type": "code",
   "execution_count": 15,
   "metadata": {},
   "outputs": [
    {
     "data": {
      "text/html": [
       "<style type=\"text/css\">\n",
       "</style>\n",
       "<table id=\"T_e7c08_\">\n",
       "  <thead>\n",
       "    <tr>\n",
       "      <th class=\"blank level0\" >&nbsp;</th>\n",
       "      <th class=\"col_heading level0 col0\" >name</th>\n",
       "      <th class=\"col_heading level0 col1\" >year</th>\n",
       "      <th class=\"col_heading level0 col2\" >quarter</th>\n",
       "      <th class=\"col_heading level0 col3\" >q_amt_c</th>\n",
       "      <th class=\"col_heading level0 col4\" >q_amt_p</th>\n",
       "      <th class=\"col_heading level0 col5\" >inc_profit</th>\n",
       "      <th class=\"col_heading level0 col6\" >percent</th>\n",
       "    </tr>\n",
       "  </thead>\n",
       "  <tbody>\n",
       "    <tr>\n",
       "      <th id=\"T_e7c08_level0_row0\" class=\"row_heading level0 row0\" >0</th>\n",
       "      <td id=\"T_e7c08_row0_col0\" class=\"data row0 col0\" >ACE</td>\n",
       "      <td id=\"T_e7c08_row0_col1\" class=\"data row0 col1\" >2021</td>\n",
       "      <td id=\"T_e7c08_row0_col2\" class=\"data row0 col2\" >Q4</td>\n",
       "      <td id=\"T_e7c08_row0_col3\" class=\"data row0 col3\" >1,505,681</td>\n",
       "      <td id=\"T_e7c08_row0_col4\" class=\"data row0 col4\" >1,507,641</td>\n",
       "      <td id=\"T_e7c08_row0_col5\" class=\"data row0 col5\" >-1,960</td>\n",
       "      <td id=\"T_e7c08_row0_col6\" class=\"data row0 col6\" >-0.13%</td>\n",
       "    </tr>\n",
       "    <tr>\n",
       "      <th id=\"T_e7c08_level0_row1\" class=\"row_heading level0 row1\" >1</th>\n",
       "      <td id=\"T_e7c08_row1_col0\" class=\"data row1 col0\" >ADVANC</td>\n",
       "      <td id=\"T_e7c08_row1_col1\" class=\"data row1 col1\" >2021</td>\n",
       "      <td id=\"T_e7c08_row1_col2\" class=\"data row1 col2\" >Q4</td>\n",
       "      <td id=\"T_e7c08_row1_col3\" class=\"data row1 col3\" >26,922,146</td>\n",
       "      <td id=\"T_e7c08_row1_col4\" class=\"data row1 col4\" >27,434,360</td>\n",
       "      <td id=\"T_e7c08_row1_col5\" class=\"data row1 col5\" >-512,214</td>\n",
       "      <td id=\"T_e7c08_row1_col6\" class=\"data row1 col6\" >-1.87%</td>\n",
       "    </tr>\n",
       "    <tr>\n",
       "      <th id=\"T_e7c08_level0_row2\" class=\"row_heading level0 row2\" >2</th>\n",
       "      <td id=\"T_e7c08_row2_col0\" class=\"data row2 col0\" >AEONTS</td>\n",
       "      <td id=\"T_e7c08_row2_col1\" class=\"data row2 col1\" >2021</td>\n",
       "      <td id=\"T_e7c08_row2_col2\" class=\"data row2 col2\" >Q4</td>\n",
       "      <td id=\"T_e7c08_row2_col3\" class=\"data row2 col3\" >3,553,041</td>\n",
       "      <td id=\"T_e7c08_row2_col4\" class=\"data row2 col4\" >3,689,643</td>\n",
       "      <td id=\"T_e7c08_row2_col5\" class=\"data row2 col5\" >-136,602</td>\n",
       "      <td id=\"T_e7c08_row2_col6\" class=\"data row2 col6\" >-3.70%</td>\n",
       "    </tr>\n",
       "    <tr>\n",
       "      <th id=\"T_e7c08_level0_row3\" class=\"row_heading level0 row3\" >4</th>\n",
       "      <td id=\"T_e7c08_row3_col0\" class=\"data row3 col0\" >AIE</td>\n",
       "      <td id=\"T_e7c08_row3_col1\" class=\"data row3 col1\" >2021</td>\n",
       "      <td id=\"T_e7c08_row3_col2\" class=\"data row3 col2\" >Q4</td>\n",
       "      <td id=\"T_e7c08_row3_col3\" class=\"data row3 col3\" >423,622</td>\n",
       "      <td id=\"T_e7c08_row3_col4\" class=\"data row3 col4\" >488,517</td>\n",
       "      <td id=\"T_e7c08_row3_col5\" class=\"data row3 col5\" >-64,895</td>\n",
       "      <td id=\"T_e7c08_row3_col6\" class=\"data row3 col6\" >-13.28%</td>\n",
       "    </tr>\n",
       "    <tr>\n",
       "      <th id=\"T_e7c08_level0_row4\" class=\"row_heading level0 row4\" >5</th>\n",
       "      <td id=\"T_e7c08_row4_col0\" class=\"data row4 col0\" >AIMIRT</td>\n",
       "      <td id=\"T_e7c08_row4_col1\" class=\"data row4 col1\" >2021</td>\n",
       "      <td id=\"T_e7c08_row4_col2\" class=\"data row4 col2\" >Q4</td>\n",
       "      <td id=\"T_e7c08_row4_col3\" class=\"data row4 col3\" >487,775</td>\n",
       "      <td id=\"T_e7c08_row4_col4\" class=\"data row4 col4\" >413,822</td>\n",
       "      <td id=\"T_e7c08_row4_col5\" class=\"data row4 col5\" >73,953</td>\n",
       "      <td id=\"T_e7c08_row4_col6\" class=\"data row4 col6\" >17.87%</td>\n",
       "    </tr>\n",
       "  </tbody>\n",
       "</table>\n"
      ],
      "text/plain": [
       "<pandas.io.formats.style.Styler at 0x213f634dd00>"
      ]
     },
     "execution_count": 15,
     "metadata": {},
     "output_type": "execute_result"
    }
   ],
   "source": [
    "criteria_2 = df_ins.q_amt_p > 400_000\n",
    "df_ins.loc[criteria_2, cols].head().style.format(format_dict)"
   ]
  },
  {
   "cell_type": "code",
   "execution_count": 16,
   "metadata": {},
   "outputs": [
    {
     "data": {
      "text/html": [
       "<style type=\"text/css\">\n",
       "</style>\n",
       "<table id=\"T_833ab_\">\n",
       "  <thead>\n",
       "    <tr>\n",
       "      <th class=\"blank level0\" >&nbsp;</th>\n",
       "      <th class=\"col_heading level0 col0\" >name</th>\n",
       "      <th class=\"col_heading level0 col1\" >year</th>\n",
       "      <th class=\"col_heading level0 col2\" >quarter</th>\n",
       "      <th class=\"col_heading level0 col3\" >q_amt_c</th>\n",
       "      <th class=\"col_heading level0 col4\" >q_amt_p</th>\n",
       "      <th class=\"col_heading level0 col5\" >inc_profit</th>\n",
       "      <th class=\"col_heading level0 col6\" >percent</th>\n",
       "    </tr>\n",
       "  </thead>\n",
       "  <tbody>\n",
       "    <tr>\n",
       "      <th id=\"T_833ab_level0_row0\" class=\"row_heading level0 row0\" >3</th>\n",
       "      <td id=\"T_833ab_row0_col0\" class=\"data row0 col0\" >AH</td>\n",
       "      <td id=\"T_833ab_row0_col1\" class=\"data row0 col1\" >2021</td>\n",
       "      <td id=\"T_833ab_row0_col2\" class=\"data row0 col2\" >Q4</td>\n",
       "      <td id=\"T_833ab_row0_col3\" class=\"data row0 col3\" >1,023,968</td>\n",
       "      <td id=\"T_833ab_row0_col4\" class=\"data row0 col4\" >137,642</td>\n",
       "      <td id=\"T_833ab_row0_col5\" class=\"data row0 col5\" >886,326</td>\n",
       "      <td id=\"T_833ab_row0_col6\" class=\"data row0 col6\" >643.94%</td>\n",
       "    </tr>\n",
       "    <tr>\n",
       "      <th id=\"T_833ab_level0_row1\" class=\"row_heading level0 row1\" >5</th>\n",
       "      <td id=\"T_833ab_row1_col0\" class=\"data row1 col0\" >AIMIRT</td>\n",
       "      <td id=\"T_833ab_row1_col1\" class=\"data row1 col1\" >2021</td>\n",
       "      <td id=\"T_833ab_row1_col2\" class=\"data row1 col2\" >Q4</td>\n",
       "      <td id=\"T_833ab_row1_col3\" class=\"data row1 col3\" >487,775</td>\n",
       "      <td id=\"T_833ab_row1_col4\" class=\"data row1 col4\" >413,822</td>\n",
       "      <td id=\"T_833ab_row1_col5\" class=\"data row1 col5\" >73,953</td>\n",
       "      <td id=\"T_833ab_row1_col6\" class=\"data row1 col6\" >17.87%</td>\n",
       "    </tr>\n",
       "    <tr>\n",
       "      <th id=\"T_833ab_level0_row2\" class=\"row_heading level0 row2\" >6</th>\n",
       "      <td id=\"T_833ab_row2_col0\" class=\"data row2 col0\" >AIT</td>\n",
       "      <td id=\"T_833ab_row2_col1\" class=\"data row2 col1\" >2021</td>\n",
       "      <td id=\"T_833ab_row2_col2\" class=\"data row2 col2\" >Q4</td>\n",
       "      <td id=\"T_833ab_row2_col3\" class=\"data row2 col3\" >527,125</td>\n",
       "      <td id=\"T_833ab_row2_col4\" class=\"data row2 col4\" >394,271</td>\n",
       "      <td id=\"T_833ab_row2_col5\" class=\"data row2 col5\" >132,854</td>\n",
       "      <td id=\"T_833ab_row2_col6\" class=\"data row2 col6\" >33.70%</td>\n",
       "    </tr>\n",
       "    <tr>\n",
       "      <th id=\"T_833ab_level0_row3\" class=\"row_heading level0 row3\" >9</th>\n",
       "      <td id=\"T_833ab_row3_col0\" class=\"data row3 col0\" >AMATA</td>\n",
       "      <td id=\"T_833ab_row3_col1\" class=\"data row3 col1\" >2021</td>\n",
       "      <td id=\"T_833ab_row3_col2\" class=\"data row3 col2\" >Q4</td>\n",
       "      <td id=\"T_833ab_row3_col3\" class=\"data row3 col3\" >1,402,287</td>\n",
       "      <td id=\"T_833ab_row3_col4\" class=\"data row3 col4\" >1,103,439</td>\n",
       "      <td id=\"T_833ab_row3_col5\" class=\"data row3 col5\" >298,848</td>\n",
       "      <td id=\"T_833ab_row3_col6\" class=\"data row3 col6\" >27.08%</td>\n",
       "    </tr>\n",
       "    <tr>\n",
       "      <th id=\"T_833ab_level0_row4\" class=\"row_heading level0 row4\" >13</th>\n",
       "      <td id=\"T_833ab_row4_col0\" class=\"data row4 col0\" >ASIAN</td>\n",
       "      <td id=\"T_833ab_row4_col1\" class=\"data row4 col1\" >2021</td>\n",
       "      <td id=\"T_833ab_row4_col2\" class=\"data row4 col2\" >Q4</td>\n",
       "      <td id=\"T_833ab_row4_col3\" class=\"data row4 col3\" >1,044,316</td>\n",
       "      <td id=\"T_833ab_row4_col4\" class=\"data row4 col4\" >818,056</td>\n",
       "      <td id=\"T_833ab_row4_col5\" class=\"data row4 col5\" >226,260</td>\n",
       "      <td id=\"T_833ab_row4_col6\" class=\"data row4 col6\" >27.66%</td>\n",
       "    </tr>\n",
       "  </tbody>\n",
       "</table>\n"
      ],
      "text/plain": [
       "<pandas.io.formats.style.Styler at 0x213f63c57f0>"
      ]
     },
     "execution_count": 16,
     "metadata": {},
     "output_type": "execute_result"
    }
   ],
   "source": [
    "criteria_3 = df_ins.percent > 10.00\n",
    "df_ins.loc[criteria_3, cols].head().style.format(format_dict)"
   ]
  },
  {
   "cell_type": "code",
   "execution_count": 17,
   "metadata": {},
   "outputs": [
    {
     "data": {
      "text/html": [
       "<style type=\"text/css\">\n",
       "</style>\n",
       "<table id=\"T_fc652_\">\n",
       "  <thead>\n",
       "    <tr>\n",
       "      <th class=\"blank level0\" >&nbsp;</th>\n",
       "      <th class=\"col_heading level0 col0\" >name</th>\n",
       "      <th class=\"col_heading level0 col1\" >year</th>\n",
       "      <th class=\"col_heading level0 col2\" >quarter</th>\n",
       "      <th class=\"col_heading level0 col3\" >q_amt_c</th>\n",
       "      <th class=\"col_heading level0 col4\" >q_amt_p</th>\n",
       "      <th class=\"col_heading level0 col5\" >inc_profit</th>\n",
       "      <th class=\"col_heading level0 col6\" >percent</th>\n",
       "    </tr>\n",
       "  </thead>\n",
       "  <tbody>\n",
       "    <tr>\n",
       "      <th id=\"T_fc652_level0_row0\" class=\"row_heading level0 row0\" >92</th>\n",
       "      <td id=\"T_fc652_row0_col0\" class=\"data row0 col0\" >IVL</td>\n",
       "      <td id=\"T_fc652_row0_col1\" class=\"data row0 col1\" >2021</td>\n",
       "      <td id=\"T_fc652_row0_col2\" class=\"data row0 col2\" >Q4</td>\n",
       "      <td id=\"T_fc652_row0_col3\" class=\"data row0 col3\" >26,288,027</td>\n",
       "      <td id=\"T_fc652_row0_col4\" class=\"data row0 col4\" >2,414,276</td>\n",
       "      <td id=\"T_fc652_row0_col5\" class=\"data row0 col5\" >23,873,751</td>\n",
       "      <td id=\"T_fc652_row0_col6\" class=\"data row0 col6\" >988.86%</td>\n",
       "    </tr>\n",
       "    <tr>\n",
       "      <th id=\"T_fc652_level0_row1\" class=\"row_heading level0 row1\" >147</th>\n",
       "      <td id=\"T_fc652_row1_col0\" class=\"data row1 col0\" >RCL</td>\n",
       "      <td id=\"T_fc652_row1_col1\" class=\"data row1 col1\" >2021</td>\n",
       "      <td id=\"T_fc652_row1_col2\" class=\"data row1 col2\" >Q4</td>\n",
       "      <td id=\"T_fc652_row1_col3\" class=\"data row1 col3\" >17,972,751</td>\n",
       "      <td id=\"T_fc652_row1_col4\" class=\"data row1 col4\" >1,744,794</td>\n",
       "      <td id=\"T_fc652_row1_col5\" class=\"data row1 col5\" >16,227,957</td>\n",
       "      <td id=\"T_fc652_row1_col6\" class=\"data row1 col6\" >930.08%</td>\n",
       "    </tr>\n",
       "    <tr>\n",
       "      <th id=\"T_fc652_level0_row2\" class=\"row_heading level0 row2\" >22</th>\n",
       "      <td id=\"T_fc652_row2_col0\" class=\"data row2 col0\" >BCH</td>\n",
       "      <td id=\"T_fc652_row2_col1\" class=\"data row2 col1\" >2021</td>\n",
       "      <td id=\"T_fc652_row2_col2\" class=\"data row2 col2\" >Q4</td>\n",
       "      <td id=\"T_fc652_row2_col3\" class=\"data row2 col3\" >6,846,002</td>\n",
       "      <td id=\"T_fc652_row2_col4\" class=\"data row2 col4\" >1,229,405</td>\n",
       "      <td id=\"T_fc652_row2_col5\" class=\"data row2 col5\" >5,616,597</td>\n",
       "      <td id=\"T_fc652_row2_col6\" class=\"data row2 col6\" >456.85%</td>\n",
       "    </tr>\n",
       "    <tr>\n",
       "      <th id=\"T_fc652_level0_row3\" class=\"row_heading level0 row3\" >44</th>\n",
       "      <td id=\"T_fc652_row3_col0\" class=\"data row3 col0\" >CKP</td>\n",
       "      <td id=\"T_fc652_row3_col1\" class=\"data row3 col1\" >2021</td>\n",
       "      <td id=\"T_fc652_row3_col2\" class=\"data row3 col2\" >Q4</td>\n",
       "      <td id=\"T_fc652_row3_col3\" class=\"data row3 col3\" >2,179,013</td>\n",
       "      <td id=\"T_fc652_row3_col4\" class=\"data row3 col4\" >404,714</td>\n",
       "      <td id=\"T_fc652_row3_col5\" class=\"data row3 col5\" >1,774,299</td>\n",
       "      <td id=\"T_fc652_row3_col6\" class=\"data row3 col6\" >438.41%</td>\n",
       "    </tr>\n",
       "    <tr>\n",
       "      <th id=\"T_fc652_level0_row4\" class=\"row_heading level0 row4\" >42</th>\n",
       "      <td id=\"T_fc652_row4_col0\" class=\"data row4 col0\" >CHG</td>\n",
       "      <td id=\"T_fc652_row4_col1\" class=\"data row4 col1\" >2021</td>\n",
       "      <td id=\"T_fc652_row4_col2\" class=\"data row4 col2\" >Q4</td>\n",
       "      <td id=\"T_fc652_row4_col3\" class=\"data row4 col3\" >4,204,072</td>\n",
       "      <td id=\"T_fc652_row4_col4\" class=\"data row4 col4\" >876,617</td>\n",
       "      <td id=\"T_fc652_row4_col5\" class=\"data row4 col5\" >3,327,455</td>\n",
       "      <td id=\"T_fc652_row4_col6\" class=\"data row4 col6\" >379.58%</td>\n",
       "    </tr>\n",
       "  </tbody>\n",
       "</table>\n"
      ],
      "text/plain": [
       "<pandas.io.formats.style.Styler at 0x213f63ced60>"
      ]
     },
     "execution_count": 17,
     "metadata": {},
     "output_type": "execute_result"
    }
   ],
   "source": [
    "final_criteria = criteria_1 & criteria_2 & criteria_3\n",
    "df_ins.loc[final_criteria, cols].sort_values(by=[\"percent\"], ascending=[False]).head().style.format(format_dict)"
   ]
  },
  {
   "cell_type": "code",
   "execution_count": 18,
   "metadata": {},
   "outputs": [
    {
     "data": {
      "text/html": [
       "<style type=\"text/css\">\n",
       "</style>\n",
       "<table id=\"T_44d56_\">\n",
       "  <thead>\n",
       "    <tr>\n",
       "      <th class=\"blank level0\" >&nbsp;</th>\n",
       "      <th class=\"col_heading level0 col0\" >name</th>\n",
       "      <th class=\"col_heading level0 col1\" >year</th>\n",
       "      <th class=\"col_heading level0 col2\" >quarter</th>\n",
       "      <th class=\"col_heading level0 col3\" >q_amt_c</th>\n",
       "      <th class=\"col_heading level0 col4\" >q_amt_p</th>\n",
       "      <th class=\"col_heading level0 col5\" >inc_profit</th>\n",
       "      <th class=\"col_heading level0 col6\" >percent</th>\n",
       "    </tr>\n",
       "  </thead>\n",
       "  <tbody>\n",
       "    <tr>\n",
       "      <th id=\"T_44d56_level0_row0\" class=\"row_heading level0 row0\" >5</th>\n",
       "      <td id=\"T_44d56_row0_col0\" class=\"data row0 col0\" >AIMIRT</td>\n",
       "      <td id=\"T_44d56_row0_col1\" class=\"data row0 col1\" >2021</td>\n",
       "      <td id=\"T_44d56_row0_col2\" class=\"data row0 col2\" >Q4</td>\n",
       "      <td id=\"T_44d56_row0_col3\" class=\"data row0 col3\" >487,775</td>\n",
       "      <td id=\"T_44d56_row0_col4\" class=\"data row0 col4\" >413,822</td>\n",
       "      <td id=\"T_44d56_row0_col5\" class=\"data row0 col5\" >73,953</td>\n",
       "      <td id=\"T_44d56_row0_col6\" class=\"data row0 col6\" >17.87%</td>\n",
       "    </tr>\n",
       "    <tr>\n",
       "      <th id=\"T_44d56_level0_row1\" class=\"row_heading level0 row1\" >9</th>\n",
       "      <td id=\"T_44d56_row1_col0\" class=\"data row1 col0\" >AMATA</td>\n",
       "      <td id=\"T_44d56_row1_col1\" class=\"data row1 col1\" >2021</td>\n",
       "      <td id=\"T_44d56_row1_col2\" class=\"data row1 col2\" >Q4</td>\n",
       "      <td id=\"T_44d56_row1_col3\" class=\"data row1 col3\" >1,402,287</td>\n",
       "      <td id=\"T_44d56_row1_col4\" class=\"data row1 col4\" >1,103,439</td>\n",
       "      <td id=\"T_44d56_row1_col5\" class=\"data row1 col5\" >298,848</td>\n",
       "      <td id=\"T_44d56_row1_col6\" class=\"data row1 col6\" >27.08%</td>\n",
       "    </tr>\n",
       "    <tr>\n",
       "      <th id=\"T_44d56_level0_row2\" class=\"row_heading level0 row2\" >13</th>\n",
       "      <td id=\"T_44d56_row2_col0\" class=\"data row2 col0\" >ASIAN</td>\n",
       "      <td id=\"T_44d56_row2_col1\" class=\"data row2 col1\" >2021</td>\n",
       "      <td id=\"T_44d56_row2_col2\" class=\"data row2 col2\" >Q4</td>\n",
       "      <td id=\"T_44d56_row2_col3\" class=\"data row2 col3\" >1,044,316</td>\n",
       "      <td id=\"T_44d56_row2_col4\" class=\"data row2 col4\" >818,056</td>\n",
       "      <td id=\"T_44d56_row2_col5\" class=\"data row2 col5\" >226,260</td>\n",
       "      <td id=\"T_44d56_row2_col6\" class=\"data row2 col6\" >27.66%</td>\n",
       "    </tr>\n",
       "    <tr>\n",
       "      <th id=\"T_44d56_level0_row3\" class=\"row_heading level0 row3\" >14</th>\n",
       "      <td id=\"T_44d56_row3_col0\" class=\"data row3 col0\" >ASK</td>\n",
       "      <td id=\"T_44d56_row3_col1\" class=\"data row3 col1\" >2021</td>\n",
       "      <td id=\"T_44d56_row3_col2\" class=\"data row3 col2\" >Q4</td>\n",
       "      <td id=\"T_44d56_row3_col3\" class=\"data row3 col3\" >1,202,804</td>\n",
       "      <td id=\"T_44d56_row3_col4\" class=\"data row3 col4\" >883,064</td>\n",
       "      <td id=\"T_44d56_row3_col5\" class=\"data row3 col5\" >319,740</td>\n",
       "      <td id=\"T_44d56_row3_col6\" class=\"data row3 col6\" >36.21%</td>\n",
       "    </tr>\n",
       "    <tr>\n",
       "      <th id=\"T_44d56_level0_row4\" class=\"row_heading level0 row4\" >15</th>\n",
       "      <td id=\"T_44d56_row4_col0\" class=\"data row4 col0\" >ASP</td>\n",
       "      <td id=\"T_44d56_row4_col1\" class=\"data row4 col1\" >2021</td>\n",
       "      <td id=\"T_44d56_row4_col2\" class=\"data row4 col2\" >Q4</td>\n",
       "      <td id=\"T_44d56_row4_col3\" class=\"data row4 col3\" >978,355</td>\n",
       "      <td id=\"T_44d56_row4_col4\" class=\"data row4 col4\" >415,294</td>\n",
       "      <td id=\"T_44d56_row4_col5\" class=\"data row4 col5\" >563,061</td>\n",
       "      <td id=\"T_44d56_row4_col6\" class=\"data row4 col6\" >135.58%</td>\n",
       "    </tr>\n",
       "  </tbody>\n",
       "</table>\n"
      ],
      "text/plain": [
       "<pandas.io.formats.style.Styler at 0x213f633c3a0>"
      ]
     },
     "execution_count": 18,
     "metadata": {},
     "output_type": "execute_result"
    }
   ],
   "source": [
    "df_ins.loc[final_criteria, cols].sort_values(by=[\"name\"], ascending=[True]).head().style.format(format_dict)"
   ]
  },
  {
   "cell_type": "code",
   "execution_count": 19,
   "metadata": {},
   "outputs": [
    {
     "data": {
      "text/html": [
       "<style type=\"text/css\">\n",
       "</style>\n",
       "<table id=\"T_968ee_\">\n",
       "  <thead>\n",
       "    <tr>\n",
       "      <th class=\"blank level0\" >&nbsp;</th>\n",
       "      <th class=\"col_heading level0 col0\" >name</th>\n",
       "      <th class=\"col_heading level0 col1\" >year</th>\n",
       "      <th class=\"col_heading level0 col2\" >quarter</th>\n",
       "      <th class=\"col_heading level0 col3\" >q_amt_c</th>\n",
       "      <th class=\"col_heading level0 col4\" >q_amt_p</th>\n",
       "      <th class=\"col_heading level0 col5\" >inc_profit</th>\n",
       "      <th class=\"col_heading level0 col6\" >percent</th>\n",
       "    </tr>\n",
       "  </thead>\n",
       "  <tbody>\n",
       "    <tr>\n",
       "      <th id=\"T_968ee_level0_row0\" class=\"row_heading level0 row0\" >5</th>\n",
       "      <td id=\"T_968ee_row0_col0\" class=\"data row0 col0\" >AIMIRT</td>\n",
       "      <td id=\"T_968ee_row0_col1\" class=\"data row0 col1\" >2021</td>\n",
       "      <td id=\"T_968ee_row0_col2\" class=\"data row0 col2\" >Q4</td>\n",
       "      <td id=\"T_968ee_row0_col3\" class=\"data row0 col3\" >487,775</td>\n",
       "      <td id=\"T_968ee_row0_col4\" class=\"data row0 col4\" >413,822</td>\n",
       "      <td id=\"T_968ee_row0_col5\" class=\"data row0 col5\" >73,953</td>\n",
       "      <td id=\"T_968ee_row0_col6\" class=\"data row0 col6\" >17.87%</td>\n",
       "    </tr>\n",
       "    <tr>\n",
       "      <th id=\"T_968ee_level0_row1\" class=\"row_heading level0 row1\" >9</th>\n",
       "      <td id=\"T_968ee_row1_col0\" class=\"data row1 col0\" >AMATA</td>\n",
       "      <td id=\"T_968ee_row1_col1\" class=\"data row1 col1\" >2021</td>\n",
       "      <td id=\"T_968ee_row1_col2\" class=\"data row1 col2\" >Q4</td>\n",
       "      <td id=\"T_968ee_row1_col3\" class=\"data row1 col3\" >1,402,287</td>\n",
       "      <td id=\"T_968ee_row1_col4\" class=\"data row1 col4\" >1,103,439</td>\n",
       "      <td id=\"T_968ee_row1_col5\" class=\"data row1 col5\" >298,848</td>\n",
       "      <td id=\"T_968ee_row1_col6\" class=\"data row1 col6\" >27.08%</td>\n",
       "    </tr>\n",
       "    <tr>\n",
       "      <th id=\"T_968ee_level0_row2\" class=\"row_heading level0 row2\" >13</th>\n",
       "      <td id=\"T_968ee_row2_col0\" class=\"data row2 col0\" >ASIAN</td>\n",
       "      <td id=\"T_968ee_row2_col1\" class=\"data row2 col1\" >2021</td>\n",
       "      <td id=\"T_968ee_row2_col2\" class=\"data row2 col2\" >Q4</td>\n",
       "      <td id=\"T_968ee_row2_col3\" class=\"data row2 col3\" >1,044,316</td>\n",
       "      <td id=\"T_968ee_row2_col4\" class=\"data row2 col4\" >818,056</td>\n",
       "      <td id=\"T_968ee_row2_col5\" class=\"data row2 col5\" >226,260</td>\n",
       "      <td id=\"T_968ee_row2_col6\" class=\"data row2 col6\" >27.66%</td>\n",
       "    </tr>\n",
       "    <tr>\n",
       "      <th id=\"T_968ee_level0_row3\" class=\"row_heading level0 row3\" >14</th>\n",
       "      <td id=\"T_968ee_row3_col0\" class=\"data row3 col0\" >ASK</td>\n",
       "      <td id=\"T_968ee_row3_col1\" class=\"data row3 col1\" >2021</td>\n",
       "      <td id=\"T_968ee_row3_col2\" class=\"data row3 col2\" >Q4</td>\n",
       "      <td id=\"T_968ee_row3_col3\" class=\"data row3 col3\" >1,202,804</td>\n",
       "      <td id=\"T_968ee_row3_col4\" class=\"data row3 col4\" >883,064</td>\n",
       "      <td id=\"T_968ee_row3_col5\" class=\"data row3 col5\" >319,740</td>\n",
       "      <td id=\"T_968ee_row3_col6\" class=\"data row3 col6\" >36.21%</td>\n",
       "    </tr>\n",
       "    <tr>\n",
       "      <th id=\"T_968ee_level0_row4\" class=\"row_heading level0 row4\" >15</th>\n",
       "      <td id=\"T_968ee_row4_col0\" class=\"data row4 col0\" >ASP</td>\n",
       "      <td id=\"T_968ee_row4_col1\" class=\"data row4 col1\" >2021</td>\n",
       "      <td id=\"T_968ee_row4_col2\" class=\"data row4 col2\" >Q4</td>\n",
       "      <td id=\"T_968ee_row4_col3\" class=\"data row4 col3\" >978,355</td>\n",
       "      <td id=\"T_968ee_row4_col4\" class=\"data row4 col4\" >415,294</td>\n",
       "      <td id=\"T_968ee_row4_col5\" class=\"data row4 col5\" >563,061</td>\n",
       "      <td id=\"T_968ee_row4_col6\" class=\"data row4 col6\" >135.58%</td>\n",
       "    </tr>\n",
       "  </tbody>\n",
       "</table>\n"
      ],
      "text/plain": [
       "<pandas.io.formats.style.Styler at 0x213f63dccd0>"
      ]
     },
     "execution_count": 19,
     "metadata": {},
     "output_type": "execute_result"
    }
   ],
   "source": [
    "df_ins.loc[final_criteria, cols].sort_values(by=[\"name\"], ascending=[True]).head().style.format(format_dict)"
   ]
  },
  {
   "cell_type": "code",
   "execution_count": null,
   "metadata": {},
   "outputs": [],
   "source": []
  }
 ],
 "metadata": {
  "anaconda-cloud": {},
  "kernelspec": {
   "display_name": "Python 3 (ipykernel)",
   "language": "python",
   "name": "python3"
  },
  "language_info": {
   "codemirror_mode": {
    "name": "ipython",
    "version": 3
   },
   "file_extension": ".py",
   "mimetype": "text/x-python",
   "name": "python",
   "nbconvert_exporter": "python",
   "pygments_lexer": "ipython3",
   "version": "3.8.11"
  }
 },
 "nbformat": 4,
 "nbformat_minor": 1
}
