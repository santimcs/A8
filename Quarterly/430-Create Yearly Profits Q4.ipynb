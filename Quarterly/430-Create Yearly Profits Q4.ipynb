{
 "cells": [
  {
   "cell_type": "markdown",
   "metadata": {},
   "source": [
    "### Restart and Run All Cells"
   ]
  },
  {
   "cell_type": "code",
   "execution_count": 1,
   "metadata": {},
   "outputs": [],
   "source": [
    "import pandas as pd\n",
    "from sqlalchemy import create_engine\n",
    "engine = create_engine(\"sqlite:///c:\\\\ruby\\\\portlt\\\\db\\\\development.sqlite3\")\n",
    "conlt = engine.connect()\n",
    "year = 2021\n",
    "quarter = 4"
   ]
  },
  {
   "cell_type": "code",
   "execution_count": 2,
   "metadata": {},
   "outputs": [],
   "source": [
    "cols = 'name year quarter q_amt_c q_amt_p inc_profit percent'.split()"
   ]
  },
  {
   "cell_type": "code",
   "execution_count": 3,
   "metadata": {},
   "outputs": [],
   "source": [
    "format_dict = {\n",
    "                'q_amt':'{:,}','q_amt_c':'{:,}','q_amt_p':'{:,}','inc_profit':'{:,}',\n",
    "                'yoy_gain':'{:,}','acc_gain':'{:,}',    \n",
    "                'q_eps':'{:.4f}','y_eps':'{:.4f}','aq_eps':'{:.4f}','ay_eps':'{:.4f}',\n",
    "                'percent':'{:.2f}%'\n",
    "              }"
   ]
  },
  {
   "cell_type": "code",
   "execution_count": 4,
   "metadata": {},
   "outputs": [
    {
     "name": "stdout",
     "output_type": "stream",
     "text": [
      "\n",
      "SELECT name,year,quarter,q_amt\n",
      "FROM epss \n",
      "WHERE (year = 2021 AND quarter <= 4) \n",
      "OR (year = 2021-1 AND quarter >= 4+1)\n",
      "ORDER BY year DESC, quarter DESC\n"
     ]
    }
   ],
   "source": [
    "sql = \"\"\"\n",
    "SELECT name,year,quarter,q_amt\n",
    "FROM epss \n",
    "WHERE (year = %s AND quarter <= %s) \n",
    "OR (year = %s-1 AND quarter >= %s+1)\n",
    "ORDER BY year DESC, quarter DESC\"\"\"\n",
    "sql = sql % (year, quarter, year, quarter)\n",
    "print(sql)"
   ]
  },
  {
   "cell_type": "code",
   "execution_count": 5,
   "metadata": {},
   "outputs": [
    {
     "data": {
      "text/html": [
       "<style type=\"text/css\">\n",
       "</style>\n",
       "<table id=\"T_ad6d7_\">\n",
       "  <thead>\n",
       "    <tr>\n",
       "      <th class=\"blank level0\" >&nbsp;</th>\n",
       "      <th class=\"col_heading level0 col0\" >name</th>\n",
       "      <th class=\"col_heading level0 col1\" >year</th>\n",
       "      <th class=\"col_heading level0 col2\" >quarter</th>\n",
       "      <th class=\"col_heading level0 col3\" >q_amt</th>\n",
       "      <th class=\"col_heading level0 col4\" >Counter</th>\n",
       "    </tr>\n",
       "  </thead>\n",
       "  <tbody>\n",
       "    <tr>\n",
       "      <th id=\"T_ad6d7_level0_row0\" class=\"row_heading level0 row0\" >0</th>\n",
       "      <td id=\"T_ad6d7_row0_col0\" class=\"data row0 col0\" >2S</td>\n",
       "      <td id=\"T_ad6d7_row0_col1\" class=\"data row0 col1\" >8084</td>\n",
       "      <td id=\"T_ad6d7_row0_col2\" class=\"data row0 col2\" >10</td>\n",
       "      <td id=\"T_ad6d7_row0_col3\" class=\"data row0 col3\" >737,516</td>\n",
       "      <td id=\"T_ad6d7_row0_col4\" class=\"data row0 col4\" >4</td>\n",
       "    </tr>\n",
       "    <tr>\n",
       "      <th id=\"T_ad6d7_level0_row1\" class=\"row_heading level0 row1\" >1</th>\n",
       "      <td id=\"T_ad6d7_row1_col0\" class=\"data row1 col0\" >AAV</td>\n",
       "      <td id=\"T_ad6d7_row1_col1\" class=\"data row1 col1\" >8084</td>\n",
       "      <td id=\"T_ad6d7_row1_col2\" class=\"data row1 col2\" >10</td>\n",
       "      <td id=\"T_ad6d7_row1_col3\" class=\"data row1 col3\" >-6,647,486</td>\n",
       "      <td id=\"T_ad6d7_row1_col4\" class=\"data row1 col4\" >4</td>\n",
       "    </tr>\n",
       "    <tr>\n",
       "      <th id=\"T_ad6d7_level0_row2\" class=\"row_heading level0 row2\" >2</th>\n",
       "      <td id=\"T_ad6d7_row2_col0\" class=\"data row2 col0\" >ACE</td>\n",
       "      <td id=\"T_ad6d7_row2_col1\" class=\"data row2 col1\" >8084</td>\n",
       "      <td id=\"T_ad6d7_row2_col2\" class=\"data row2 col2\" >10</td>\n",
       "      <td id=\"T_ad6d7_row2_col3\" class=\"data row2 col3\" >1,505,681</td>\n",
       "      <td id=\"T_ad6d7_row2_col4\" class=\"data row2 col4\" >4</td>\n",
       "    </tr>\n",
       "    <tr>\n",
       "      <th id=\"T_ad6d7_level0_row3\" class=\"row_heading level0 row3\" >3</th>\n",
       "      <td id=\"T_ad6d7_row3_col0\" class=\"data row3 col0\" >ADVANC</td>\n",
       "      <td id=\"T_ad6d7_row3_col1\" class=\"data row3 col1\" >8084</td>\n",
       "      <td id=\"T_ad6d7_row3_col2\" class=\"data row3 col2\" >10</td>\n",
       "      <td id=\"T_ad6d7_row3_col3\" class=\"data row3 col3\" >26,922,146</td>\n",
       "      <td id=\"T_ad6d7_row3_col4\" class=\"data row3 col4\" >4</td>\n",
       "    </tr>\n",
       "    <tr>\n",
       "      <th id=\"T_ad6d7_level0_row4\" class=\"row_heading level0 row4\" >5</th>\n",
       "      <td id=\"T_ad6d7_row4_col0\" class=\"data row4 col0\" >AH</td>\n",
       "      <td id=\"T_ad6d7_row4_col1\" class=\"data row4 col1\" >8084</td>\n",
       "      <td id=\"T_ad6d7_row4_col2\" class=\"data row4 col2\" >10</td>\n",
       "      <td id=\"T_ad6d7_row4_col3\" class=\"data row4 col3\" >1,023,968</td>\n",
       "      <td id=\"T_ad6d7_row4_col4\" class=\"data row4 col4\" >4</td>\n",
       "    </tr>\n",
       "  </tbody>\n",
       "</table>\n"
      ],
      "text/plain": [
       "<pandas.io.formats.style.Styler at 0x220b84cad00>"
      ]
     },
     "execution_count": 5,
     "metadata": {},
     "output_type": "execute_result"
    }
   ],
   "source": [
    "dfc = pd.read_sql(sql, conlt)\n",
    "dfc[\"Counter\"] = 1\n",
    "dfc_grp = dfc.groupby([\"name\"], as_index=False).sum()\n",
    "dfc_grp = dfc_grp[dfc_grp[\"Counter\"] == 4]\n",
    "dfc_grp.head().style.format(format_dict)"
   ]
  },
  {
   "cell_type": "code",
   "execution_count": 6,
   "metadata": {},
   "outputs": [
    {
     "name": "stdout",
     "output_type": "stream",
     "text": [
      "\n",
      "SELECT name,year,quarter,q_amt\n",
      "FROM epss \n",
      "WHERE (year = 2021-1 AND quarter <= 4) \n",
      "OR (year = 2021-2 AND quarter >= 4+1)\n",
      "ORDER BY year DESC, quarter DESC\n",
      "\n"
     ]
    }
   ],
   "source": [
    "sql = \"\"\"\n",
    "SELECT name,year,quarter,q_amt\n",
    "FROM epss \n",
    "WHERE (year = %s-1 AND quarter <= %s) \n",
    "OR (year = %s-2 AND quarter >= %s+1)\n",
    "ORDER BY year DESC, quarter DESC\n",
    "\"\"\"\n",
    "sql = sql % (year, quarter, year, quarter)\n",
    "print(sql)"
   ]
  },
  {
   "cell_type": "code",
   "execution_count": 7,
   "metadata": {},
   "outputs": [
    {
     "data": {
      "text/html": [
       "<style type=\"text/css\">\n",
       "</style>\n",
       "<table id=\"T_4d33b_\">\n",
       "  <thead>\n",
       "    <tr>\n",
       "      <th class=\"blank level0\" >&nbsp;</th>\n",
       "      <th class=\"col_heading level0 col0\" >name</th>\n",
       "      <th class=\"col_heading level0 col1\" >year</th>\n",
       "      <th class=\"col_heading level0 col2\" >quarter</th>\n",
       "      <th class=\"col_heading level0 col3\" >q_amt</th>\n",
       "      <th class=\"col_heading level0 col4\" >Counter</th>\n",
       "    </tr>\n",
       "  </thead>\n",
       "  <tbody>\n",
       "    <tr>\n",
       "      <th id=\"T_4d33b_level0_row0\" class=\"row_heading level0 row0\" >0</th>\n",
       "      <td id=\"T_4d33b_row0_col0\" class=\"data row0 col0\" >2S</td>\n",
       "      <td id=\"T_4d33b_row0_col1\" class=\"data row0 col1\" >8080</td>\n",
       "      <td id=\"T_4d33b_row0_col2\" class=\"data row0 col2\" >10</td>\n",
       "      <td id=\"T_4d33b_row0_col3\" class=\"data row0 col3\" >410,165</td>\n",
       "      <td id=\"T_4d33b_row0_col4\" class=\"data row0 col4\" >4</td>\n",
       "    </tr>\n",
       "    <tr>\n",
       "      <th id=\"T_4d33b_level0_row1\" class=\"row_heading level0 row1\" >1</th>\n",
       "      <td id=\"T_4d33b_row1_col0\" class=\"data row1 col0\" >AAV</td>\n",
       "      <td id=\"T_4d33b_row1_col1\" class=\"data row1 col1\" >8080</td>\n",
       "      <td id=\"T_4d33b_row1_col2\" class=\"data row1 col2\" >10</td>\n",
       "      <td id=\"T_4d33b_row1_col3\" class=\"data row1 col3\" >-4,764,091</td>\n",
       "      <td id=\"T_4d33b_row1_col4\" class=\"data row1 col4\" >4</td>\n",
       "    </tr>\n",
       "    <tr>\n",
       "      <th id=\"T_4d33b_level0_row2\" class=\"row_heading level0 row2\" >2</th>\n",
       "      <td id=\"T_4d33b_row2_col0\" class=\"data row2 col0\" >ACE</td>\n",
       "      <td id=\"T_4d33b_row2_col1\" class=\"data row2 col1\" >8080</td>\n",
       "      <td id=\"T_4d33b_row2_col2\" class=\"data row2 col2\" >10</td>\n",
       "      <td id=\"T_4d33b_row2_col3\" class=\"data row2 col3\" >1,507,641</td>\n",
       "      <td id=\"T_4d33b_row2_col4\" class=\"data row2 col4\" >4</td>\n",
       "    </tr>\n",
       "    <tr>\n",
       "      <th id=\"T_4d33b_level0_row3\" class=\"row_heading level0 row3\" >3</th>\n",
       "      <td id=\"T_4d33b_row3_col0\" class=\"data row3 col0\" >ADVANC</td>\n",
       "      <td id=\"T_4d33b_row3_col1\" class=\"data row3 col1\" >8080</td>\n",
       "      <td id=\"T_4d33b_row3_col2\" class=\"data row3 col2\" >10</td>\n",
       "      <td id=\"T_4d33b_row3_col3\" class=\"data row3 col3\" >27,434,360</td>\n",
       "      <td id=\"T_4d33b_row3_col4\" class=\"data row3 col4\" >4</td>\n",
       "    </tr>\n",
       "    <tr>\n",
       "      <th id=\"T_4d33b_level0_row4\" class=\"row_heading level0 row4\" >4</th>\n",
       "      <td id=\"T_4d33b_row4_col0\" class=\"data row4 col0\" >AEONTS</td>\n",
       "      <td id=\"T_4d33b_row4_col1\" class=\"data row4 col1\" >8080</td>\n",
       "      <td id=\"T_4d33b_row4_col2\" class=\"data row4 col2\" >10</td>\n",
       "      <td id=\"T_4d33b_row4_col3\" class=\"data row4 col3\" >3,689,643</td>\n",
       "      <td id=\"T_4d33b_row4_col4\" class=\"data row4 col4\" >4</td>\n",
       "    </tr>\n",
       "  </tbody>\n",
       "</table>\n"
      ],
      "text/plain": [
       "<pandas.io.formats.style.Styler at 0x220b84198b0>"
      ]
     },
     "execution_count": 7,
     "metadata": {},
     "output_type": "execute_result"
    }
   ],
   "source": [
    "dfp = pd.read_sql(sql, conlt)\n",
    "dfp[\"Counter\"] = 1\n",
    "dfp_grp = dfp.groupby([\"name\"], as_index=False).sum()\n",
    "dfp_grp = dfp_grp[dfp_grp[\"Counter\"] == 4]\n",
    "dfp_grp.head().style.format(format_dict)"
   ]
  },
  {
   "cell_type": "code",
   "execution_count": 8,
   "metadata": {},
   "outputs": [
    {
     "data": {
      "text/html": [
       "<style type=\"text/css\">\n",
       "</style>\n",
       "<table id=\"T_02a6a_\">\n",
       "  <thead>\n",
       "    <tr>\n",
       "      <th class=\"blank level0\" >&nbsp;</th>\n",
       "      <th class=\"col_heading level0 col0\" >name</th>\n",
       "      <th class=\"col_heading level0 col1\" >year</th>\n",
       "      <th class=\"col_heading level0 col2\" >quarter</th>\n",
       "      <th class=\"col_heading level0 col3\" >q_amt_c</th>\n",
       "      <th class=\"col_heading level0 col4\" >q_amt_p</th>\n",
       "      <th class=\"col_heading level0 col5\" >inc_profit</th>\n",
       "      <th class=\"col_heading level0 col6\" >percent</th>\n",
       "    </tr>\n",
       "  </thead>\n",
       "  <tbody>\n",
       "    <tr>\n",
       "      <th id=\"T_02a6a_level0_row0\" class=\"row_heading level0 row0\" >0</th>\n",
       "      <td id=\"T_02a6a_row0_col0\" class=\"data row0 col0\" >2S</td>\n",
       "      <td id=\"T_02a6a_row0_col1\" class=\"data row0 col1\" >2021</td>\n",
       "      <td id=\"T_02a6a_row0_col2\" class=\"data row0 col2\" >Q4</td>\n",
       "      <td id=\"T_02a6a_row0_col3\" class=\"data row0 col3\" >737,516</td>\n",
       "      <td id=\"T_02a6a_row0_col4\" class=\"data row0 col4\" >410,165</td>\n",
       "      <td id=\"T_02a6a_row0_col5\" class=\"data row0 col5\" >327,351</td>\n",
       "      <td id=\"T_02a6a_row0_col6\" class=\"data row0 col6\" >79.81%</td>\n",
       "    </tr>\n",
       "    <tr>\n",
       "      <th id=\"T_02a6a_level0_row1\" class=\"row_heading level0 row1\" >1</th>\n",
       "      <td id=\"T_02a6a_row1_col0\" class=\"data row1 col0\" >AAV</td>\n",
       "      <td id=\"T_02a6a_row1_col1\" class=\"data row1 col1\" >2021</td>\n",
       "      <td id=\"T_02a6a_row1_col2\" class=\"data row1 col2\" >Q4</td>\n",
       "      <td id=\"T_02a6a_row1_col3\" class=\"data row1 col3\" >-6,647,486</td>\n",
       "      <td id=\"T_02a6a_row1_col4\" class=\"data row1 col4\" >-4,764,091</td>\n",
       "      <td id=\"T_02a6a_row1_col5\" class=\"data row1 col5\" >-1,883,395</td>\n",
       "      <td id=\"T_02a6a_row1_col6\" class=\"data row1 col6\" >-39.53%</td>\n",
       "    </tr>\n",
       "    <tr>\n",
       "      <th id=\"T_02a6a_level0_row2\" class=\"row_heading level0 row2\" >2</th>\n",
       "      <td id=\"T_02a6a_row2_col0\" class=\"data row2 col0\" >ACE</td>\n",
       "      <td id=\"T_02a6a_row2_col1\" class=\"data row2 col1\" >2021</td>\n",
       "      <td id=\"T_02a6a_row2_col2\" class=\"data row2 col2\" >Q4</td>\n",
       "      <td id=\"T_02a6a_row2_col3\" class=\"data row2 col3\" >1,505,681</td>\n",
       "      <td id=\"T_02a6a_row2_col4\" class=\"data row2 col4\" >1,507,641</td>\n",
       "      <td id=\"T_02a6a_row2_col5\" class=\"data row2 col5\" >-1,960</td>\n",
       "      <td id=\"T_02a6a_row2_col6\" class=\"data row2 col6\" >-0.13%</td>\n",
       "    </tr>\n",
       "    <tr>\n",
       "      <th id=\"T_02a6a_level0_row3\" class=\"row_heading level0 row3\" >3</th>\n",
       "      <td id=\"T_02a6a_row3_col0\" class=\"data row3 col0\" >ADVANC</td>\n",
       "      <td id=\"T_02a6a_row3_col1\" class=\"data row3 col1\" >2021</td>\n",
       "      <td id=\"T_02a6a_row3_col2\" class=\"data row3 col2\" >Q4</td>\n",
       "      <td id=\"T_02a6a_row3_col3\" class=\"data row3 col3\" >26,922,146</td>\n",
       "      <td id=\"T_02a6a_row3_col4\" class=\"data row3 col4\" >27,434,360</td>\n",
       "      <td id=\"T_02a6a_row3_col5\" class=\"data row3 col5\" >-512,214</td>\n",
       "      <td id=\"T_02a6a_row3_col6\" class=\"data row3 col6\" >-1.87%</td>\n",
       "    </tr>\n",
       "    <tr>\n",
       "      <th id=\"T_02a6a_level0_row4\" class=\"row_heading level0 row4\" >4</th>\n",
       "      <td id=\"T_02a6a_row4_col0\" class=\"data row4 col0\" >AH</td>\n",
       "      <td id=\"T_02a6a_row4_col1\" class=\"data row4 col1\" >2021</td>\n",
       "      <td id=\"T_02a6a_row4_col2\" class=\"data row4 col2\" >Q4</td>\n",
       "      <td id=\"T_02a6a_row4_col3\" class=\"data row4 col3\" >1,023,968</td>\n",
       "      <td id=\"T_02a6a_row4_col4\" class=\"data row4 col4\" >137,642</td>\n",
       "      <td id=\"T_02a6a_row4_col5\" class=\"data row4 col5\" >886,326</td>\n",
       "      <td id=\"T_02a6a_row4_col6\" class=\"data row4 col6\" >643.94%</td>\n",
       "    </tr>\n",
       "  </tbody>\n",
       "</table>\n"
      ],
      "text/plain": [
       "<pandas.io.formats.style.Styler at 0x220baf2f430>"
      ]
     },
     "execution_count": 8,
     "metadata": {},
     "output_type": "execute_result"
    }
   ],
   "source": [
    "dfm = pd.merge(dfc_grp, dfp_grp, on=\"name\", suffixes=([\"_c\", \"_p\"]), how=\"inner\")\n",
    "dfm[\"inc_profit\"] = dfm[\"q_amt_c\"] - dfm[\"q_amt_p\"]\n",
    "dfm[\"percent\"] = round(dfm[\"inc_profit\"] / abs(dfm[\"q_amt_p\"]) * 100, 2)\n",
    "dfm[\"year\"] = year\n",
    "dfm[\"quarter\"] = \"Q\" + str(quarter)\n",
    "df_percent = dfm[cols]\n",
    "df_percent.head().style.format(format_dict)"
   ]
  },
  {
   "cell_type": "code",
   "execution_count": 9,
   "metadata": {},
   "outputs": [
    {
     "name": "stdout",
     "output_type": "stream",
     "text": [
      "\n",
      "DELETE FROM yr_profits \n",
      "WHERE year = 2021 AND quarter = \"Q4\"\n"
     ]
    },
    {
     "data": {
      "text/plain": [
       "303"
      ]
     },
     "execution_count": 9,
     "metadata": {},
     "output_type": "execute_result"
    }
   ],
   "source": [
    "sql = '''\n",
    "DELETE FROM yr_profits \n",
    "WHERE year = %s AND quarter = \"Q%s\"'''\n",
    "sql = sql % (year, quarter)\n",
    "print(sql)\n",
    "\n",
    "rp = conlt.execute(sql)\n",
    "rp.rowcount"
   ]
  },
  {
   "cell_type": "code",
   "execution_count": 10,
   "metadata": {},
   "outputs": [
    {
     "data": {
      "text/plain": [
       "307"
      ]
     },
     "execution_count": 10,
     "metadata": {},
     "output_type": "execute_result"
    }
   ],
   "source": [
    "sql = \"SELECT name, id FROM tickers\"\n",
    "tickers = pd.read_sql(sql, conlt)\n",
    "df_ins = pd.merge(df_percent, tickers, on=\"name\", how=\"inner\")\n",
    "rcds = df_ins.values.tolist()\n",
    "len(rcds)"
   ]
  },
  {
   "cell_type": "code",
   "execution_count": 11,
   "metadata": {
    "scrolled": false
   },
   "outputs": [],
   "source": [
    "#for rcd in rcds:\n",
    "#    print(rcd)"
   ]
  },
  {
   "cell_type": "code",
   "execution_count": 12,
   "metadata": {},
   "outputs": [
    {
     "name": "stdout",
     "output_type": "stream",
     "text": [
      "\n",
      "INSERT INTO yr_profits (name, year, quarter, latest_amt, previous_amt, inc_amt, inc_pct, ticker_id) \n",
      "VALUES (?, ?, ?, ?, ?, ?, ?, ?)\n"
     ]
    }
   ],
   "source": [
    "sql = \"\"\"\n",
    "INSERT INTO yr_profits (name, year, quarter, latest_amt, previous_amt, inc_amt, inc_pct, ticker_id) \n",
    "VALUES (?, ?, ?, ?, ?, ?, ?, ?)\"\"\"\n",
    "print(sql)"
   ]
  },
  {
   "cell_type": "code",
   "execution_count": 13,
   "metadata": {},
   "outputs": [],
   "source": [
    "for rcd in rcds:\n",
    "    conlt.execute(sql, rcd)"
   ]
  },
  {
   "cell_type": "markdown",
   "metadata": {},
   "source": [
    "### End of loop"
   ]
  },
  {
   "cell_type": "code",
   "execution_count": 14,
   "metadata": {},
   "outputs": [
    {
     "data": {
      "text/html": [
       "<style type=\"text/css\">\n",
       "</style>\n",
       "<table id=\"T_fbfd2_\">\n",
       "  <thead>\n",
       "    <tr>\n",
       "      <th class=\"blank level0\" >&nbsp;</th>\n",
       "      <th class=\"col_heading level0 col0\" >name</th>\n",
       "      <th class=\"col_heading level0 col1\" >year</th>\n",
       "      <th class=\"col_heading level0 col2\" >quarter</th>\n",
       "      <th class=\"col_heading level0 col3\" >q_amt_c</th>\n",
       "      <th class=\"col_heading level0 col4\" >q_amt_p</th>\n",
       "      <th class=\"col_heading level0 col5\" >inc_profit</th>\n",
       "      <th class=\"col_heading level0 col6\" >percent</th>\n",
       "    </tr>\n",
       "  </thead>\n",
       "  <tbody>\n",
       "    <tr>\n",
       "      <th id=\"T_fbfd2_level0_row0\" class=\"row_heading level0 row0\" >0</th>\n",
       "      <td id=\"T_fbfd2_row0_col0\" class=\"data row0 col0\" >2S</td>\n",
       "      <td id=\"T_fbfd2_row0_col1\" class=\"data row0 col1\" >2021</td>\n",
       "      <td id=\"T_fbfd2_row0_col2\" class=\"data row0 col2\" >Q4</td>\n",
       "      <td id=\"T_fbfd2_row0_col3\" class=\"data row0 col3\" >737,516</td>\n",
       "      <td id=\"T_fbfd2_row0_col4\" class=\"data row0 col4\" >410,165</td>\n",
       "      <td id=\"T_fbfd2_row0_col5\" class=\"data row0 col5\" >327,351</td>\n",
       "      <td id=\"T_fbfd2_row0_col6\" class=\"data row0 col6\" >79.81%</td>\n",
       "    </tr>\n",
       "    <tr>\n",
       "      <th id=\"T_fbfd2_level0_row1\" class=\"row_heading level0 row1\" >2</th>\n",
       "      <td id=\"T_fbfd2_row1_col0\" class=\"data row1 col0\" >ACE</td>\n",
       "      <td id=\"T_fbfd2_row1_col1\" class=\"data row1 col1\" >2021</td>\n",
       "      <td id=\"T_fbfd2_row1_col2\" class=\"data row1 col2\" >Q4</td>\n",
       "      <td id=\"T_fbfd2_row1_col3\" class=\"data row1 col3\" >1,505,681</td>\n",
       "      <td id=\"T_fbfd2_row1_col4\" class=\"data row1 col4\" >1,507,641</td>\n",
       "      <td id=\"T_fbfd2_row1_col5\" class=\"data row1 col5\" >-1,960</td>\n",
       "      <td id=\"T_fbfd2_row1_col6\" class=\"data row1 col6\" >-0.13%</td>\n",
       "    </tr>\n",
       "    <tr>\n",
       "      <th id=\"T_fbfd2_level0_row2\" class=\"row_heading level0 row2\" >3</th>\n",
       "      <td id=\"T_fbfd2_row2_col0\" class=\"data row2 col0\" >ADVANC</td>\n",
       "      <td id=\"T_fbfd2_row2_col1\" class=\"data row2 col1\" >2021</td>\n",
       "      <td id=\"T_fbfd2_row2_col2\" class=\"data row2 col2\" >Q4</td>\n",
       "      <td id=\"T_fbfd2_row2_col3\" class=\"data row2 col3\" >26,922,146</td>\n",
       "      <td id=\"T_fbfd2_row2_col4\" class=\"data row2 col4\" >27,434,360</td>\n",
       "      <td id=\"T_fbfd2_row2_col5\" class=\"data row2 col5\" >-512,214</td>\n",
       "      <td id=\"T_fbfd2_row2_col6\" class=\"data row2 col6\" >-1.87%</td>\n",
       "    </tr>\n",
       "    <tr>\n",
       "      <th id=\"T_fbfd2_level0_row3\" class=\"row_heading level0 row3\" >4</th>\n",
       "      <td id=\"T_fbfd2_row3_col0\" class=\"data row3 col0\" >AH</td>\n",
       "      <td id=\"T_fbfd2_row3_col1\" class=\"data row3 col1\" >2021</td>\n",
       "      <td id=\"T_fbfd2_row3_col2\" class=\"data row3 col2\" >Q4</td>\n",
       "      <td id=\"T_fbfd2_row3_col3\" class=\"data row3 col3\" >1,023,968</td>\n",
       "      <td id=\"T_fbfd2_row3_col4\" class=\"data row3 col4\" >137,642</td>\n",
       "      <td id=\"T_fbfd2_row3_col5\" class=\"data row3 col5\" >886,326</td>\n",
       "      <td id=\"T_fbfd2_row3_col6\" class=\"data row3 col6\" >643.94%</td>\n",
       "    </tr>\n",
       "    <tr>\n",
       "      <th id=\"T_fbfd2_level0_row4\" class=\"row_heading level0 row4\" >6</th>\n",
       "      <td id=\"T_fbfd2_row4_col0\" class=\"data row4 col0\" >AIMIRT</td>\n",
       "      <td id=\"T_fbfd2_row4_col1\" class=\"data row4 col1\" >2021</td>\n",
       "      <td id=\"T_fbfd2_row4_col2\" class=\"data row4 col2\" >Q4</td>\n",
       "      <td id=\"T_fbfd2_row4_col3\" class=\"data row4 col3\" >487,775</td>\n",
       "      <td id=\"T_fbfd2_row4_col4\" class=\"data row4 col4\" >413,822</td>\n",
       "      <td id=\"T_fbfd2_row4_col5\" class=\"data row4 col5\" >73,953</td>\n",
       "      <td id=\"T_fbfd2_row4_col6\" class=\"data row4 col6\" >17.87%</td>\n",
       "    </tr>\n",
       "  </tbody>\n",
       "</table>\n"
      ],
      "text/plain": [
       "<pandas.io.formats.style.Styler at 0x220bbfb6e80>"
      ]
     },
     "execution_count": 14,
     "metadata": {},
     "output_type": "execute_result"
    }
   ],
   "source": [
    "criteria_1 = df_ins.q_amt_c > 440_000\n",
    "df_ins.loc[criteria_1, cols].head().style.format(format_dict)"
   ]
  },
  {
   "cell_type": "code",
   "execution_count": 15,
   "metadata": {},
   "outputs": [
    {
     "data": {
      "text/html": [
       "<style type=\"text/css\">\n",
       "</style>\n",
       "<table id=\"T_50570_\">\n",
       "  <thead>\n",
       "    <tr>\n",
       "      <th class=\"blank level0\" >&nbsp;</th>\n",
       "      <th class=\"col_heading level0 col0\" >name</th>\n",
       "      <th class=\"col_heading level0 col1\" >year</th>\n",
       "      <th class=\"col_heading level0 col2\" >quarter</th>\n",
       "      <th class=\"col_heading level0 col3\" >q_amt_c</th>\n",
       "      <th class=\"col_heading level0 col4\" >q_amt_p</th>\n",
       "      <th class=\"col_heading level0 col5\" >inc_profit</th>\n",
       "      <th class=\"col_heading level0 col6\" >percent</th>\n",
       "    </tr>\n",
       "  </thead>\n",
       "  <tbody>\n",
       "    <tr>\n",
       "      <th id=\"T_50570_level0_row0\" class=\"row_heading level0 row0\" >0</th>\n",
       "      <td id=\"T_50570_row0_col0\" class=\"data row0 col0\" >2S</td>\n",
       "      <td id=\"T_50570_row0_col1\" class=\"data row0 col1\" >2021</td>\n",
       "      <td id=\"T_50570_row0_col2\" class=\"data row0 col2\" >Q4</td>\n",
       "      <td id=\"T_50570_row0_col3\" class=\"data row0 col3\" >737,516</td>\n",
       "      <td id=\"T_50570_row0_col4\" class=\"data row0 col4\" >410,165</td>\n",
       "      <td id=\"T_50570_row0_col5\" class=\"data row0 col5\" >327,351</td>\n",
       "      <td id=\"T_50570_row0_col6\" class=\"data row0 col6\" >79.81%</td>\n",
       "    </tr>\n",
       "    <tr>\n",
       "      <th id=\"T_50570_level0_row1\" class=\"row_heading level0 row1\" >2</th>\n",
       "      <td id=\"T_50570_row1_col0\" class=\"data row1 col0\" >ACE</td>\n",
       "      <td id=\"T_50570_row1_col1\" class=\"data row1 col1\" >2021</td>\n",
       "      <td id=\"T_50570_row1_col2\" class=\"data row1 col2\" >Q4</td>\n",
       "      <td id=\"T_50570_row1_col3\" class=\"data row1 col3\" >1,505,681</td>\n",
       "      <td id=\"T_50570_row1_col4\" class=\"data row1 col4\" >1,507,641</td>\n",
       "      <td id=\"T_50570_row1_col5\" class=\"data row1 col5\" >-1,960</td>\n",
       "      <td id=\"T_50570_row1_col6\" class=\"data row1 col6\" >-0.13%</td>\n",
       "    </tr>\n",
       "    <tr>\n",
       "      <th id=\"T_50570_level0_row2\" class=\"row_heading level0 row2\" >3</th>\n",
       "      <td id=\"T_50570_row2_col0\" class=\"data row2 col0\" >ADVANC</td>\n",
       "      <td id=\"T_50570_row2_col1\" class=\"data row2 col1\" >2021</td>\n",
       "      <td id=\"T_50570_row2_col2\" class=\"data row2 col2\" >Q4</td>\n",
       "      <td id=\"T_50570_row2_col3\" class=\"data row2 col3\" >26,922,146</td>\n",
       "      <td id=\"T_50570_row2_col4\" class=\"data row2 col4\" >27,434,360</td>\n",
       "      <td id=\"T_50570_row2_col5\" class=\"data row2 col5\" >-512,214</td>\n",
       "      <td id=\"T_50570_row2_col6\" class=\"data row2 col6\" >-1.87%</td>\n",
       "    </tr>\n",
       "    <tr>\n",
       "      <th id=\"T_50570_level0_row3\" class=\"row_heading level0 row3\" >5</th>\n",
       "      <td id=\"T_50570_row3_col0\" class=\"data row3 col0\" >AIE</td>\n",
       "      <td id=\"T_50570_row3_col1\" class=\"data row3 col1\" >2021</td>\n",
       "      <td id=\"T_50570_row3_col2\" class=\"data row3 col2\" >Q4</td>\n",
       "      <td id=\"T_50570_row3_col3\" class=\"data row3 col3\" >423,622</td>\n",
       "      <td id=\"T_50570_row3_col4\" class=\"data row3 col4\" >488,517</td>\n",
       "      <td id=\"T_50570_row3_col5\" class=\"data row3 col5\" >-64,895</td>\n",
       "      <td id=\"T_50570_row3_col6\" class=\"data row3 col6\" >-13.28%</td>\n",
       "    </tr>\n",
       "    <tr>\n",
       "      <th id=\"T_50570_level0_row4\" class=\"row_heading level0 row4\" >6</th>\n",
       "      <td id=\"T_50570_row4_col0\" class=\"data row4 col0\" >AIMIRT</td>\n",
       "      <td id=\"T_50570_row4_col1\" class=\"data row4 col1\" >2021</td>\n",
       "      <td id=\"T_50570_row4_col2\" class=\"data row4 col2\" >Q4</td>\n",
       "      <td id=\"T_50570_row4_col3\" class=\"data row4 col3\" >487,775</td>\n",
       "      <td id=\"T_50570_row4_col4\" class=\"data row4 col4\" >413,822</td>\n",
       "      <td id=\"T_50570_row4_col5\" class=\"data row4 col5\" >73,953</td>\n",
       "      <td id=\"T_50570_row4_col6\" class=\"data row4 col6\" >17.87%</td>\n",
       "    </tr>\n",
       "  </tbody>\n",
       "</table>\n"
      ],
      "text/plain": [
       "<pandas.io.formats.style.Styler at 0x220bbfb6070>"
      ]
     },
     "execution_count": 15,
     "metadata": {},
     "output_type": "execute_result"
    }
   ],
   "source": [
    "criteria_2 = df_ins.q_amt_p > 400_000\n",
    "df_ins.loc[criteria_2, cols].head().style.format(format_dict)"
   ]
  },
  {
   "cell_type": "code",
   "execution_count": 16,
   "metadata": {},
   "outputs": [
    {
     "data": {
      "text/html": [
       "<style type=\"text/css\">\n",
       "</style>\n",
       "<table id=\"T_a306a_\">\n",
       "  <thead>\n",
       "    <tr>\n",
       "      <th class=\"blank level0\" >&nbsp;</th>\n",
       "      <th class=\"col_heading level0 col0\" >name</th>\n",
       "      <th class=\"col_heading level0 col1\" >year</th>\n",
       "      <th class=\"col_heading level0 col2\" >quarter</th>\n",
       "      <th class=\"col_heading level0 col3\" >q_amt_c</th>\n",
       "      <th class=\"col_heading level0 col4\" >q_amt_p</th>\n",
       "      <th class=\"col_heading level0 col5\" >inc_profit</th>\n",
       "      <th class=\"col_heading level0 col6\" >percent</th>\n",
       "    </tr>\n",
       "  </thead>\n",
       "  <tbody>\n",
       "    <tr>\n",
       "      <th id=\"T_a306a_level0_row0\" class=\"row_heading level0 row0\" >0</th>\n",
       "      <td id=\"T_a306a_row0_col0\" class=\"data row0 col0\" >2S</td>\n",
       "      <td id=\"T_a306a_row0_col1\" class=\"data row0 col1\" >2021</td>\n",
       "      <td id=\"T_a306a_row0_col2\" class=\"data row0 col2\" >Q4</td>\n",
       "      <td id=\"T_a306a_row0_col3\" class=\"data row0 col3\" >737,516</td>\n",
       "      <td id=\"T_a306a_row0_col4\" class=\"data row0 col4\" >410,165</td>\n",
       "      <td id=\"T_a306a_row0_col5\" class=\"data row0 col5\" >327,351</td>\n",
       "      <td id=\"T_a306a_row0_col6\" class=\"data row0 col6\" >79.81%</td>\n",
       "    </tr>\n",
       "    <tr>\n",
       "      <th id=\"T_a306a_level0_row1\" class=\"row_heading level0 row1\" >4</th>\n",
       "      <td id=\"T_a306a_row1_col0\" class=\"data row1 col0\" >AH</td>\n",
       "      <td id=\"T_a306a_row1_col1\" class=\"data row1 col1\" >2021</td>\n",
       "      <td id=\"T_a306a_row1_col2\" class=\"data row1 col2\" >Q4</td>\n",
       "      <td id=\"T_a306a_row1_col3\" class=\"data row1 col3\" >1,023,968</td>\n",
       "      <td id=\"T_a306a_row1_col4\" class=\"data row1 col4\" >137,642</td>\n",
       "      <td id=\"T_a306a_row1_col5\" class=\"data row1 col5\" >886,326</td>\n",
       "      <td id=\"T_a306a_row1_col6\" class=\"data row1 col6\" >643.94%</td>\n",
       "    </tr>\n",
       "    <tr>\n",
       "      <th id=\"T_a306a_level0_row2\" class=\"row_heading level0 row2\" >6</th>\n",
       "      <td id=\"T_a306a_row2_col0\" class=\"data row2 col0\" >AIMIRT</td>\n",
       "      <td id=\"T_a306a_row2_col1\" class=\"data row2 col1\" >2021</td>\n",
       "      <td id=\"T_a306a_row2_col2\" class=\"data row2 col2\" >Q4</td>\n",
       "      <td id=\"T_a306a_row2_col3\" class=\"data row2 col3\" >487,775</td>\n",
       "      <td id=\"T_a306a_row2_col4\" class=\"data row2 col4\" >413,822</td>\n",
       "      <td id=\"T_a306a_row2_col5\" class=\"data row2 col5\" >73,953</td>\n",
       "      <td id=\"T_a306a_row2_col6\" class=\"data row2 col6\" >17.87%</td>\n",
       "    </tr>\n",
       "    <tr>\n",
       "      <th id=\"T_a306a_level0_row3\" class=\"row_heading level0 row3\" >7</th>\n",
       "      <td id=\"T_a306a_row3_col0\" class=\"data row3 col0\" >AIT</td>\n",
       "      <td id=\"T_a306a_row3_col1\" class=\"data row3 col1\" >2021</td>\n",
       "      <td id=\"T_a306a_row3_col2\" class=\"data row3 col2\" >Q4</td>\n",
       "      <td id=\"T_a306a_row3_col3\" class=\"data row3 col3\" >527,125</td>\n",
       "      <td id=\"T_a306a_row3_col4\" class=\"data row3 col4\" >394,271</td>\n",
       "      <td id=\"T_a306a_row3_col5\" class=\"data row3 col5\" >132,854</td>\n",
       "      <td id=\"T_a306a_row3_col6\" class=\"data row3 col6\" >33.70%</td>\n",
       "    </tr>\n",
       "    <tr>\n",
       "      <th id=\"T_a306a_level0_row4\" class=\"row_heading level0 row4\" >12</th>\n",
       "      <td id=\"T_a306a_row4_col0\" class=\"data row4 col0\" >AMARIN</td>\n",
       "      <td id=\"T_a306a_row4_col1\" class=\"data row4 col1\" >2021</td>\n",
       "      <td id=\"T_a306a_row4_col2\" class=\"data row4 col2\" >Q4</td>\n",
       "      <td id=\"T_a306a_row4_col3\" class=\"data row4 col3\" >313,113</td>\n",
       "      <td id=\"T_a306a_row4_col4\" class=\"data row4 col4\" >170,669</td>\n",
       "      <td id=\"T_a306a_row4_col5\" class=\"data row4 col5\" >142,444</td>\n",
       "      <td id=\"T_a306a_row4_col6\" class=\"data row4 col6\" >83.46%</td>\n",
       "    </tr>\n",
       "  </tbody>\n",
       "</table>\n"
      ],
      "text/plain": [
       "<pandas.io.formats.style.Styler at 0x220bc03dfd0>"
      ]
     },
     "execution_count": 16,
     "metadata": {},
     "output_type": "execute_result"
    }
   ],
   "source": [
    "criteria_3 = df_ins.percent > 10.00\n",
    "df_ins.loc[criteria_3, cols].head().style.format(format_dict)"
   ]
  },
  {
   "cell_type": "code",
   "execution_count": 17,
   "metadata": {},
   "outputs": [
    {
     "data": {
      "text/html": [
       "<style type=\"text/css\">\n",
       "</style>\n",
       "<table id=\"T_3d9e6_\">\n",
       "  <thead>\n",
       "    <tr>\n",
       "      <th class=\"blank level0\" >&nbsp;</th>\n",
       "      <th class=\"col_heading level0 col0\" >name</th>\n",
       "      <th class=\"col_heading level0 col1\" >year</th>\n",
       "      <th class=\"col_heading level0 col2\" >quarter</th>\n",
       "      <th class=\"col_heading level0 col3\" >q_amt_c</th>\n",
       "      <th class=\"col_heading level0 col4\" >q_amt_p</th>\n",
       "      <th class=\"col_heading level0 col5\" >inc_profit</th>\n",
       "      <th class=\"col_heading level0 col6\" >percent</th>\n",
       "    </tr>\n",
       "  </thead>\n",
       "  <tbody>\n",
       "    <tr>\n",
       "      <th id=\"T_3d9e6_level0_row0\" class=\"row_heading level0 row0\" >124</th>\n",
       "      <td id=\"T_3d9e6_row0_col0\" class=\"data row0 col0\" >IVL</td>\n",
       "      <td id=\"T_3d9e6_row0_col1\" class=\"data row0 col1\" >2021</td>\n",
       "      <td id=\"T_3d9e6_row0_col2\" class=\"data row0 col2\" >Q4</td>\n",
       "      <td id=\"T_3d9e6_row0_col3\" class=\"data row0 col3\" >26,288,027</td>\n",
       "      <td id=\"T_3d9e6_row0_col4\" class=\"data row0 col4\" >2,414,276</td>\n",
       "      <td id=\"T_3d9e6_row0_col5\" class=\"data row0 col5\" >23,873,751</td>\n",
       "      <td id=\"T_3d9e6_row0_col6\" class=\"data row0 col6\" >988.86%</td>\n",
       "    </tr>\n",
       "    <tr>\n",
       "      <th id=\"T_3d9e6_level0_row1\" class=\"row_heading level0 row1\" >195</th>\n",
       "      <td id=\"T_3d9e6_row1_col0\" class=\"data row1 col0\" >RCL</td>\n",
       "      <td id=\"T_3d9e6_row1_col1\" class=\"data row1 col1\" >2021</td>\n",
       "      <td id=\"T_3d9e6_row1_col2\" class=\"data row1 col2\" >Q4</td>\n",
       "      <td id=\"T_3d9e6_row1_col3\" class=\"data row1 col3\" >17,972,751</td>\n",
       "      <td id=\"T_3d9e6_row1_col4\" class=\"data row1 col4\" >1,744,794</td>\n",
       "      <td id=\"T_3d9e6_row1_col5\" class=\"data row1 col5\" >16,227,957</td>\n",
       "      <td id=\"T_3d9e6_row1_col6\" class=\"data row1 col6\" >930.08%</td>\n",
       "    </tr>\n",
       "    <tr>\n",
       "      <th id=\"T_3d9e6_level0_row2\" class=\"row_heading level0 row2\" >30</th>\n",
       "      <td id=\"T_3d9e6_row2_col0\" class=\"data row2 col0\" >BCH</td>\n",
       "      <td id=\"T_3d9e6_row2_col1\" class=\"data row2 col1\" >2021</td>\n",
       "      <td id=\"T_3d9e6_row2_col2\" class=\"data row2 col2\" >Q4</td>\n",
       "      <td id=\"T_3d9e6_row2_col3\" class=\"data row2 col3\" >6,846,002</td>\n",
       "      <td id=\"T_3d9e6_row2_col4\" class=\"data row2 col4\" >1,229,405</td>\n",
       "      <td id=\"T_3d9e6_row2_col5\" class=\"data row2 col5\" >5,616,597</td>\n",
       "      <td id=\"T_3d9e6_row2_col6\" class=\"data row2 col6\" >456.85%</td>\n",
       "    </tr>\n",
       "    <tr>\n",
       "      <th id=\"T_3d9e6_level0_row3\" class=\"row_heading level0 row3\" >56</th>\n",
       "      <td id=\"T_3d9e6_row3_col0\" class=\"data row3 col0\" >CKP</td>\n",
       "      <td id=\"T_3d9e6_row3_col1\" class=\"data row3 col1\" >2021</td>\n",
       "      <td id=\"T_3d9e6_row3_col2\" class=\"data row3 col2\" >Q4</td>\n",
       "      <td id=\"T_3d9e6_row3_col3\" class=\"data row3 col3\" >2,179,013</td>\n",
       "      <td id=\"T_3d9e6_row3_col4\" class=\"data row3 col4\" >404,714</td>\n",
       "      <td id=\"T_3d9e6_row3_col5\" class=\"data row3 col5\" >1,774,299</td>\n",
       "      <td id=\"T_3d9e6_row3_col6\" class=\"data row3 col6\" >438.41%</td>\n",
       "    </tr>\n",
       "    <tr>\n",
       "      <th id=\"T_3d9e6_level0_row4\" class=\"row_heading level0 row4\" >53</th>\n",
       "      <td id=\"T_3d9e6_row4_col0\" class=\"data row4 col0\" >CHG</td>\n",
       "      <td id=\"T_3d9e6_row4_col1\" class=\"data row4 col1\" >2021</td>\n",
       "      <td id=\"T_3d9e6_row4_col2\" class=\"data row4 col2\" >Q4</td>\n",
       "      <td id=\"T_3d9e6_row4_col3\" class=\"data row4 col3\" >4,204,072</td>\n",
       "      <td id=\"T_3d9e6_row4_col4\" class=\"data row4 col4\" >876,617</td>\n",
       "      <td id=\"T_3d9e6_row4_col5\" class=\"data row4 col5\" >3,327,455</td>\n",
       "      <td id=\"T_3d9e6_row4_col6\" class=\"data row4 col6\" >379.58%</td>\n",
       "    </tr>\n",
       "  </tbody>\n",
       "</table>\n"
      ],
      "text/plain": [
       "<pandas.io.formats.style.Styler at 0x220bc03dc10>"
      ]
     },
     "execution_count": 17,
     "metadata": {},
     "output_type": "execute_result"
    }
   ],
   "source": [
    "final_criteria = criteria_1 & criteria_2 & criteria_3\n",
    "df_ins.loc[final_criteria, cols].sort_values(by=[\"percent\"], ascending=[False]).head().style.format(format_dict)"
   ]
  },
  {
   "cell_type": "code",
   "execution_count": 18,
   "metadata": {},
   "outputs": [
    {
     "data": {
      "text/html": [
       "<style type=\"text/css\">\n",
       "</style>\n",
       "<table id=\"T_61b6a_\">\n",
       "  <thead>\n",
       "    <tr>\n",
       "      <th class=\"blank level0\" >&nbsp;</th>\n",
       "      <th class=\"col_heading level0 col0\" >name</th>\n",
       "      <th class=\"col_heading level0 col1\" >year</th>\n",
       "      <th class=\"col_heading level0 col2\" >quarter</th>\n",
       "      <th class=\"col_heading level0 col3\" >q_amt_c</th>\n",
       "      <th class=\"col_heading level0 col4\" >q_amt_p</th>\n",
       "      <th class=\"col_heading level0 col5\" >inc_profit</th>\n",
       "      <th class=\"col_heading level0 col6\" >percent</th>\n",
       "    </tr>\n",
       "  </thead>\n",
       "  <tbody>\n",
       "    <tr>\n",
       "      <th id=\"T_61b6a_level0_row0\" class=\"row_heading level0 row0\" >0</th>\n",
       "      <td id=\"T_61b6a_row0_col0\" class=\"data row0 col0\" >2S</td>\n",
       "      <td id=\"T_61b6a_row0_col1\" class=\"data row0 col1\" >2021</td>\n",
       "      <td id=\"T_61b6a_row0_col2\" class=\"data row0 col2\" >Q4</td>\n",
       "      <td id=\"T_61b6a_row0_col3\" class=\"data row0 col3\" >737,516</td>\n",
       "      <td id=\"T_61b6a_row0_col4\" class=\"data row0 col4\" >410,165</td>\n",
       "      <td id=\"T_61b6a_row0_col5\" class=\"data row0 col5\" >327,351</td>\n",
       "      <td id=\"T_61b6a_row0_col6\" class=\"data row0 col6\" >79.81%</td>\n",
       "    </tr>\n",
       "    <tr>\n",
       "      <th id=\"T_61b6a_level0_row1\" class=\"row_heading level0 row1\" >6</th>\n",
       "      <td id=\"T_61b6a_row1_col0\" class=\"data row1 col0\" >AIMIRT</td>\n",
       "      <td id=\"T_61b6a_row1_col1\" class=\"data row1 col1\" >2021</td>\n",
       "      <td id=\"T_61b6a_row1_col2\" class=\"data row1 col2\" >Q4</td>\n",
       "      <td id=\"T_61b6a_row1_col3\" class=\"data row1 col3\" >487,775</td>\n",
       "      <td id=\"T_61b6a_row1_col4\" class=\"data row1 col4\" >413,822</td>\n",
       "      <td id=\"T_61b6a_row1_col5\" class=\"data row1 col5\" >73,953</td>\n",
       "      <td id=\"T_61b6a_row1_col6\" class=\"data row1 col6\" >17.87%</td>\n",
       "    </tr>\n",
       "    <tr>\n",
       "      <th id=\"T_61b6a_level0_row2\" class=\"row_heading level0 row2\" >13</th>\n",
       "      <td id=\"T_61b6a_row2_col0\" class=\"data row2 col0\" >AMATA</td>\n",
       "      <td id=\"T_61b6a_row2_col1\" class=\"data row2 col1\" >2021</td>\n",
       "      <td id=\"T_61b6a_row2_col2\" class=\"data row2 col2\" >Q4</td>\n",
       "      <td id=\"T_61b6a_row2_col3\" class=\"data row2 col3\" >1,402,287</td>\n",
       "      <td id=\"T_61b6a_row2_col4\" class=\"data row2 col4\" >1,103,439</td>\n",
       "      <td id=\"T_61b6a_row2_col5\" class=\"data row2 col5\" >298,848</td>\n",
       "      <td id=\"T_61b6a_row2_col6\" class=\"data row2 col6\" >27.08%</td>\n",
       "    </tr>\n",
       "    <tr>\n",
       "      <th id=\"T_61b6a_level0_row3\" class=\"row_heading level0 row3\" >20</th>\n",
       "      <td id=\"T_61b6a_row3_col0\" class=\"data row3 col0\" >ASIAN</td>\n",
       "      <td id=\"T_61b6a_row3_col1\" class=\"data row3 col1\" >2021</td>\n",
       "      <td id=\"T_61b6a_row3_col2\" class=\"data row3 col2\" >Q4</td>\n",
       "      <td id=\"T_61b6a_row3_col3\" class=\"data row3 col3\" >1,044,316</td>\n",
       "      <td id=\"T_61b6a_row3_col4\" class=\"data row3 col4\" >818,056</td>\n",
       "      <td id=\"T_61b6a_row3_col5\" class=\"data row3 col5\" >226,260</td>\n",
       "      <td id=\"T_61b6a_row3_col6\" class=\"data row3 col6\" >27.66%</td>\n",
       "    </tr>\n",
       "    <tr>\n",
       "      <th id=\"T_61b6a_level0_row4\" class=\"row_heading level0 row4\" >21</th>\n",
       "      <td id=\"T_61b6a_row4_col0\" class=\"data row4 col0\" >ASK</td>\n",
       "      <td id=\"T_61b6a_row4_col1\" class=\"data row4 col1\" >2021</td>\n",
       "      <td id=\"T_61b6a_row4_col2\" class=\"data row4 col2\" >Q4</td>\n",
       "      <td id=\"T_61b6a_row4_col3\" class=\"data row4 col3\" >1,202,804</td>\n",
       "      <td id=\"T_61b6a_row4_col4\" class=\"data row4 col4\" >883,064</td>\n",
       "      <td id=\"T_61b6a_row4_col5\" class=\"data row4 col5\" >319,740</td>\n",
       "      <td id=\"T_61b6a_row4_col6\" class=\"data row4 col6\" >36.21%</td>\n",
       "    </tr>\n",
       "  </tbody>\n",
       "</table>\n"
      ],
      "text/plain": [
       "<pandas.io.formats.style.Styler at 0x220bbf69940>"
      ]
     },
     "execution_count": 18,
     "metadata": {},
     "output_type": "execute_result"
    }
   ],
   "source": [
    "df_ins.loc[final_criteria, cols].sort_values(by=[\"name\"], ascending=[True]).head().style.format(format_dict)"
   ]
  },
  {
   "cell_type": "code",
   "execution_count": 19,
   "metadata": {},
   "outputs": [
    {
     "data": {
      "text/html": [
       "<style type=\"text/css\">\n",
       "</style>\n",
       "<table id=\"T_2ad18_\">\n",
       "  <thead>\n",
       "    <tr>\n",
       "      <th class=\"blank level0\" >&nbsp;</th>\n",
       "      <th class=\"col_heading level0 col0\" >name</th>\n",
       "      <th class=\"col_heading level0 col1\" >year</th>\n",
       "      <th class=\"col_heading level0 col2\" >quarter</th>\n",
       "      <th class=\"col_heading level0 col3\" >q_amt_c</th>\n",
       "      <th class=\"col_heading level0 col4\" >q_amt_p</th>\n",
       "      <th class=\"col_heading level0 col5\" >inc_profit</th>\n",
       "      <th class=\"col_heading level0 col6\" >percent</th>\n",
       "    </tr>\n",
       "  </thead>\n",
       "  <tbody>\n",
       "    <tr>\n",
       "      <th id=\"T_2ad18_level0_row0\" class=\"row_heading level0 row0\" >0</th>\n",
       "      <td id=\"T_2ad18_row0_col0\" class=\"data row0 col0\" >2S</td>\n",
       "      <td id=\"T_2ad18_row0_col1\" class=\"data row0 col1\" >2021</td>\n",
       "      <td id=\"T_2ad18_row0_col2\" class=\"data row0 col2\" >Q4</td>\n",
       "      <td id=\"T_2ad18_row0_col3\" class=\"data row0 col3\" >737,516</td>\n",
       "      <td id=\"T_2ad18_row0_col4\" class=\"data row0 col4\" >410,165</td>\n",
       "      <td id=\"T_2ad18_row0_col5\" class=\"data row0 col5\" >327,351</td>\n",
       "      <td id=\"T_2ad18_row0_col6\" class=\"data row0 col6\" >79.81%</td>\n",
       "    </tr>\n",
       "    <tr>\n",
       "      <th id=\"T_2ad18_level0_row1\" class=\"row_heading level0 row1\" >6</th>\n",
       "      <td id=\"T_2ad18_row1_col0\" class=\"data row1 col0\" >AIMIRT</td>\n",
       "      <td id=\"T_2ad18_row1_col1\" class=\"data row1 col1\" >2021</td>\n",
       "      <td id=\"T_2ad18_row1_col2\" class=\"data row1 col2\" >Q4</td>\n",
       "      <td id=\"T_2ad18_row1_col3\" class=\"data row1 col3\" >487,775</td>\n",
       "      <td id=\"T_2ad18_row1_col4\" class=\"data row1 col4\" >413,822</td>\n",
       "      <td id=\"T_2ad18_row1_col5\" class=\"data row1 col5\" >73,953</td>\n",
       "      <td id=\"T_2ad18_row1_col6\" class=\"data row1 col6\" >17.87%</td>\n",
       "    </tr>\n",
       "    <tr>\n",
       "      <th id=\"T_2ad18_level0_row2\" class=\"row_heading level0 row2\" >13</th>\n",
       "      <td id=\"T_2ad18_row2_col0\" class=\"data row2 col0\" >AMATA</td>\n",
       "      <td id=\"T_2ad18_row2_col1\" class=\"data row2 col1\" >2021</td>\n",
       "      <td id=\"T_2ad18_row2_col2\" class=\"data row2 col2\" >Q4</td>\n",
       "      <td id=\"T_2ad18_row2_col3\" class=\"data row2 col3\" >1,402,287</td>\n",
       "      <td id=\"T_2ad18_row2_col4\" class=\"data row2 col4\" >1,103,439</td>\n",
       "      <td id=\"T_2ad18_row2_col5\" class=\"data row2 col5\" >298,848</td>\n",
       "      <td id=\"T_2ad18_row2_col6\" class=\"data row2 col6\" >27.08%</td>\n",
       "    </tr>\n",
       "    <tr>\n",
       "      <th id=\"T_2ad18_level0_row3\" class=\"row_heading level0 row3\" >20</th>\n",
       "      <td id=\"T_2ad18_row3_col0\" class=\"data row3 col0\" >ASIAN</td>\n",
       "      <td id=\"T_2ad18_row3_col1\" class=\"data row3 col1\" >2021</td>\n",
       "      <td id=\"T_2ad18_row3_col2\" class=\"data row3 col2\" >Q4</td>\n",
       "      <td id=\"T_2ad18_row3_col3\" class=\"data row3 col3\" >1,044,316</td>\n",
       "      <td id=\"T_2ad18_row3_col4\" class=\"data row3 col4\" >818,056</td>\n",
       "      <td id=\"T_2ad18_row3_col5\" class=\"data row3 col5\" >226,260</td>\n",
       "      <td id=\"T_2ad18_row3_col6\" class=\"data row3 col6\" >27.66%</td>\n",
       "    </tr>\n",
       "    <tr>\n",
       "      <th id=\"T_2ad18_level0_row4\" class=\"row_heading level0 row4\" >21</th>\n",
       "      <td id=\"T_2ad18_row4_col0\" class=\"data row4 col0\" >ASK</td>\n",
       "      <td id=\"T_2ad18_row4_col1\" class=\"data row4 col1\" >2021</td>\n",
       "      <td id=\"T_2ad18_row4_col2\" class=\"data row4 col2\" >Q4</td>\n",
       "      <td id=\"T_2ad18_row4_col3\" class=\"data row4 col3\" >1,202,804</td>\n",
       "      <td id=\"T_2ad18_row4_col4\" class=\"data row4 col4\" >883,064</td>\n",
       "      <td id=\"T_2ad18_row4_col5\" class=\"data row4 col5\" >319,740</td>\n",
       "      <td id=\"T_2ad18_row4_col6\" class=\"data row4 col6\" >36.21%</td>\n",
       "    </tr>\n",
       "  </tbody>\n",
       "</table>\n"
      ],
      "text/plain": [
       "<pandas.io.formats.style.Styler at 0x220bd026910>"
      ]
     },
     "execution_count": 19,
     "metadata": {},
     "output_type": "execute_result"
    }
   ],
   "source": [
    "df_ins.loc[final_criteria, cols].sort_values(by=[\"name\"], ascending=[True]).head().style.format(format_dict)"
   ]
  },
  {
   "cell_type": "code",
   "execution_count": null,
   "metadata": {},
   "outputs": [],
   "source": []
  }
 ],
 "metadata": {
  "anaconda-cloud": {},
  "kernelspec": {
   "display_name": "Python 3 (ipykernel)",
   "language": "python",
   "name": "python3"
  },
  "language_info": {
   "codemirror_mode": {
    "name": "ipython",
    "version": 3
   },
   "file_extension": ".py",
   "mimetype": "text/x-python",
   "name": "python",
   "nbconvert_exporter": "python",
   "pygments_lexer": "ipython3",
   "version": "3.8.11"
  }
 },
 "nbformat": 4,
 "nbformat_minor": 1
}
