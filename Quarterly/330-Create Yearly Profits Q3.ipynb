{
 "cells": [
  {
   "cell_type": "markdown",
   "metadata": {},
   "source": [
    "### Restart and Run All Cells"
   ]
  },
  {
   "cell_type": "code",
   "execution_count": 1,
   "metadata": {},
   "outputs": [
    {
     "data": {
      "text/plain": [
       "'2022-11-16'"
      ]
     },
     "execution_count": 1,
     "metadata": {},
     "output_type": "execute_result"
    }
   ],
   "source": [
    "import pandas as pd\n",
    "from datetime import date, timedelta\n",
    "from sqlalchemy import create_engine\n",
    "engine = create_engine(\"sqlite:///c:\\\\ruby\\\\portlt\\\\db\\\\development.sqlite3\")\n",
    "conlt = engine.connect()\n",
    "year = 2022\n",
    "quarter = 3\n",
    "today = date.today()\n",
    "today_str = today.strftime(\"%Y-%m-%d\")\n",
    "today_str"
   ]
  },
  {
   "cell_type": "code",
   "execution_count": 2,
   "metadata": {},
   "outputs": [],
   "source": [
    "cols = 'name year quarter q_amt_c q_amt_p inc_profit percent'.split()"
   ]
  },
  {
   "cell_type": "code",
   "execution_count": 3,
   "metadata": {},
   "outputs": [],
   "source": [
    "format_dict = {\n",
    "                'q_amt':'{:,}','q_amt_c':'{:,}','q_amt_p':'{:,}','inc_profit':'{:,}',\n",
    "                'yoy_gain':'{:,}','acc_gain':'{:,}',    \n",
    "                'q_eps':'{:.4f}','y_eps':'{:.4f}','aq_eps':'{:.4f}','ay_eps':'{:.4f}',\n",
    "                'percent':'{:.2f}%'\n",
    "              }"
   ]
  },
  {
   "cell_type": "code",
   "execution_count": 4,
   "metadata": {},
   "outputs": [
    {
     "name": "stdout",
     "output_type": "stream",
     "text": [
      "\n",
      "SELECT name,year,quarter,q_amt\n",
      "FROM epss \n",
      "WHERE (year = 2022 AND quarter <= 3) \n",
      "OR (year = 2022-1 AND quarter >= 3+1)\n",
      "ORDER BY year DESC, quarter DESC\n"
     ]
    }
   ],
   "source": [
    "sql = \"\"\"\n",
    "SELECT name,year,quarter,q_amt\n",
    "FROM epss \n",
    "WHERE (year = %s AND quarter <= %s) \n",
    "OR (year = %s-1 AND quarter >= %s+1)\n",
    "ORDER BY year DESC, quarter DESC\"\"\"\n",
    "sql = sql % (year, quarter, year, quarter)\n",
    "print(sql)"
   ]
  },
  {
   "cell_type": "code",
   "execution_count": 5,
   "metadata": {},
   "outputs": [
    {
     "data": {
      "text/html": [
       "<style type=\"text/css\">\n",
       "</style>\n",
       "<table id=\"T_e0fa3_\">\n",
       "  <thead>\n",
       "    <tr>\n",
       "      <th class=\"blank level0\" >&nbsp;</th>\n",
       "      <th class=\"col_heading level0 col0\" >name</th>\n",
       "      <th class=\"col_heading level0 col1\" >year</th>\n",
       "      <th class=\"col_heading level0 col2\" >quarter</th>\n",
       "      <th class=\"col_heading level0 col3\" >q_amt</th>\n",
       "      <th class=\"col_heading level0 col4\" >Counter</th>\n",
       "    </tr>\n",
       "  </thead>\n",
       "  <tbody>\n",
       "    <tr>\n",
       "      <th id=\"T_e0fa3_level0_row0\" class=\"row_heading level0 row0\" >0</th>\n",
       "      <td id=\"T_e0fa3_row0_col0\" class=\"data row0 col0\" >ACE</td>\n",
       "      <td id=\"T_e0fa3_row0_col1\" class=\"data row0 col1\" >8087</td>\n",
       "      <td id=\"T_e0fa3_row0_col2\" class=\"data row0 col2\" >10</td>\n",
       "      <td id=\"T_e0fa3_row0_col3\" class=\"data row0 col3\" >1,455,601</td>\n",
       "      <td id=\"T_e0fa3_row0_col4\" class=\"data row0 col4\" >4</td>\n",
       "    </tr>\n",
       "    <tr>\n",
       "      <th id=\"T_e0fa3_level0_row1\" class=\"row_heading level0 row1\" >1</th>\n",
       "      <td id=\"T_e0fa3_row1_col0\" class=\"data row1 col0\" >ADVANC</td>\n",
       "      <td id=\"T_e0fa3_row1_col1\" class=\"data row1 col1\" >8087</td>\n",
       "      <td id=\"T_e0fa3_row1_col2\" class=\"data row1 col2\" >10</td>\n",
       "      <td id=\"T_e0fa3_row1_col3\" class=\"data row1 col3\" >25,511,368</td>\n",
       "      <td id=\"T_e0fa3_row1_col4\" class=\"data row1 col4\" >4</td>\n",
       "    </tr>\n",
       "    <tr>\n",
       "      <th id=\"T_e0fa3_level0_row2\" class=\"row_heading level0 row2\" >3</th>\n",
       "      <td id=\"T_e0fa3_row2_col0\" class=\"data row2 col0\" >AH</td>\n",
       "      <td id=\"T_e0fa3_row2_col1\" class=\"data row2 col1\" >8087</td>\n",
       "      <td id=\"T_e0fa3_row2_col2\" class=\"data row2 col2\" >10</td>\n",
       "      <td id=\"T_e0fa3_row2_col3\" class=\"data row2 col3\" >1,541,418</td>\n",
       "      <td id=\"T_e0fa3_row2_col4\" class=\"data row2 col4\" >4</td>\n",
       "    </tr>\n",
       "    <tr>\n",
       "      <th id=\"T_e0fa3_level0_row3\" class=\"row_heading level0 row3\" >4</th>\n",
       "      <td id=\"T_e0fa3_row3_col0\" class=\"data row3 col0\" >AIE</td>\n",
       "      <td id=\"T_e0fa3_row3_col1\" class=\"data row3 col1\" >8087</td>\n",
       "      <td id=\"T_e0fa3_row3_col2\" class=\"data row3 col2\" >10</td>\n",
       "      <td id=\"T_e0fa3_row3_col3\" class=\"data row3 col3\" >176,807</td>\n",
       "      <td id=\"T_e0fa3_row3_col4\" class=\"data row3 col4\" >4</td>\n",
       "    </tr>\n",
       "    <tr>\n",
       "      <th id=\"T_e0fa3_level0_row4\" class=\"row_heading level0 row4\" >5</th>\n",
       "      <td id=\"T_e0fa3_row4_col0\" class=\"data row4 col0\" >AIMIRT</td>\n",
       "      <td id=\"T_e0fa3_row4_col1\" class=\"data row4 col1\" >8087</td>\n",
       "      <td id=\"T_e0fa3_row4_col2\" class=\"data row4 col2\" >10</td>\n",
       "      <td id=\"T_e0fa3_row4_col3\" class=\"data row4 col3\" >693,015</td>\n",
       "      <td id=\"T_e0fa3_row4_col4\" class=\"data row4 col4\" >4</td>\n",
       "    </tr>\n",
       "  </tbody>\n",
       "</table>\n"
      ],
      "text/plain": [
       "<pandas.io.formats.style.Styler at 0x1c9df430250>"
      ]
     },
     "execution_count": 5,
     "metadata": {},
     "output_type": "execute_result"
    }
   ],
   "source": [
    "dfc = pd.read_sql(sql, conlt)\n",
    "dfc[\"Counter\"] = 1\n",
    "dfc_grp = dfc.groupby([\"name\"], as_index=False).sum()\n",
    "dfc_grp = dfc_grp[dfc_grp[\"Counter\"] == 4]\n",
    "dfc_grp.head().style.format(format_dict)"
   ]
  },
  {
   "cell_type": "code",
   "execution_count": 6,
   "metadata": {},
   "outputs": [
    {
     "name": "stdout",
     "output_type": "stream",
     "text": [
      "\n",
      "SELECT name,year,quarter,q_amt\n",
      "FROM epss \n",
      "WHERE (year = 2022-1 AND quarter <= 3) \n",
      "OR (year = 2022-2 AND quarter >= 3+1)\n",
      "ORDER BY year DESC, quarter DESC\n",
      "\n"
     ]
    }
   ],
   "source": [
    "sql = \"\"\"\n",
    "SELECT name,year,quarter,q_amt\n",
    "FROM epss \n",
    "WHERE (year = %s-1 AND quarter <= %s) \n",
    "OR (year = %s-2 AND quarter >= %s+1)\n",
    "ORDER BY year DESC, quarter DESC\n",
    "\"\"\"\n",
    "sql = sql % (year, quarter, year, quarter)\n",
    "print(sql)"
   ]
  },
  {
   "cell_type": "code",
   "execution_count": 7,
   "metadata": {},
   "outputs": [
    {
     "data": {
      "text/html": [
       "<style type=\"text/css\">\n",
       "</style>\n",
       "<table id=\"T_56231_\">\n",
       "  <thead>\n",
       "    <tr>\n",
       "      <th class=\"blank level0\" >&nbsp;</th>\n",
       "      <th class=\"col_heading level0 col0\" >name</th>\n",
       "      <th class=\"col_heading level0 col1\" >year</th>\n",
       "      <th class=\"col_heading level0 col2\" >quarter</th>\n",
       "      <th class=\"col_heading level0 col3\" >q_amt</th>\n",
       "      <th class=\"col_heading level0 col4\" >Counter</th>\n",
       "    </tr>\n",
       "  </thead>\n",
       "  <tbody>\n",
       "    <tr>\n",
       "      <th id=\"T_56231_level0_row0\" class=\"row_heading level0 row0\" >0</th>\n",
       "      <td id=\"T_56231_row0_col0\" class=\"data row0 col0\" >ACE</td>\n",
       "      <td id=\"T_56231_row0_col1\" class=\"data row0 col1\" >8083</td>\n",
       "      <td id=\"T_56231_row0_col2\" class=\"data row0 col2\" >10</td>\n",
       "      <td id=\"T_56231_row0_col3\" class=\"data row0 col3\" >1,392,091</td>\n",
       "      <td id=\"T_56231_row0_col4\" class=\"data row0 col4\" >4</td>\n",
       "    </tr>\n",
       "    <tr>\n",
       "      <th id=\"T_56231_level0_row1\" class=\"row_heading level0 row1\" >1</th>\n",
       "      <td id=\"T_56231_row1_col0\" class=\"data row1 col0\" >ADVANC</td>\n",
       "      <td id=\"T_56231_row1_col1\" class=\"data row1 col1\" >8083</td>\n",
       "      <td id=\"T_56231_row1_col2\" class=\"data row1 col2\" >10</td>\n",
       "      <td id=\"T_56231_row1_col3\" class=\"data row1 col3\" >27,223,149</td>\n",
       "      <td id=\"T_56231_row1_col4\" class=\"data row1 col4\" >4</td>\n",
       "    </tr>\n",
       "    <tr>\n",
       "      <th id=\"T_56231_level0_row2\" class=\"row_heading level0 row2\" >2</th>\n",
       "      <td id=\"T_56231_row2_col0\" class=\"data row2 col0\" >AEONTS</td>\n",
       "      <td id=\"T_56231_row2_col1\" class=\"data row2 col1\" >8083</td>\n",
       "      <td id=\"T_56231_row2_col2\" class=\"data row2 col2\" >10</td>\n",
       "      <td id=\"T_56231_row2_col3\" class=\"data row2 col3\" >3,826,113</td>\n",
       "      <td id=\"T_56231_row2_col4\" class=\"data row2 col4\" >4</td>\n",
       "    </tr>\n",
       "    <tr>\n",
       "      <th id=\"T_56231_level0_row3\" class=\"row_heading level0 row3\" >3</th>\n",
       "      <td id=\"T_56231_row3_col0\" class=\"data row3 col0\" >AH</td>\n",
       "      <td id=\"T_56231_row3_col1\" class=\"data row3 col1\" >8083</td>\n",
       "      <td id=\"T_56231_row3_col2\" class=\"data row3 col2\" >10</td>\n",
       "      <td id=\"T_56231_row3_col3\" class=\"data row3 col3\" >1,041,977</td>\n",
       "      <td id=\"T_56231_row3_col4\" class=\"data row3 col4\" >4</td>\n",
       "    </tr>\n",
       "    <tr>\n",
       "      <th id=\"T_56231_level0_row4\" class=\"row_heading level0 row4\" >4</th>\n",
       "      <td id=\"T_56231_row4_col0\" class=\"data row4 col0\" >AIE</td>\n",
       "      <td id=\"T_56231_row4_col1\" class=\"data row4 col1\" >8083</td>\n",
       "      <td id=\"T_56231_row4_col2\" class=\"data row4 col2\" >10</td>\n",
       "      <td id=\"T_56231_row4_col3\" class=\"data row4 col3\" >522,478</td>\n",
       "      <td id=\"T_56231_row4_col4\" class=\"data row4 col4\" >4</td>\n",
       "    </tr>\n",
       "  </tbody>\n",
       "</table>\n"
      ],
      "text/plain": [
       "<pandas.io.formats.style.Styler at 0x1c9df4c6d60>"
      ]
     },
     "execution_count": 7,
     "metadata": {},
     "output_type": "execute_result"
    }
   ],
   "source": [
    "dfp = pd.read_sql(sql, conlt)\n",
    "dfp[\"Counter\"] = 1\n",
    "dfp_grp = dfp.groupby([\"name\"], as_index=False).sum()\n",
    "dfp_grp = dfp_grp[dfp_grp[\"Counter\"] == 4]\n",
    "dfp_grp.head().style.format(format_dict)"
   ]
  },
  {
   "cell_type": "code",
   "execution_count": 8,
   "metadata": {},
   "outputs": [
    {
     "data": {
      "text/html": [
       "<style type=\"text/css\">\n",
       "</style>\n",
       "<table id=\"T_1c3d9_\">\n",
       "  <thead>\n",
       "    <tr>\n",
       "      <th class=\"blank level0\" >&nbsp;</th>\n",
       "      <th class=\"col_heading level0 col0\" >name</th>\n",
       "      <th class=\"col_heading level0 col1\" >year</th>\n",
       "      <th class=\"col_heading level0 col2\" >quarter</th>\n",
       "      <th class=\"col_heading level0 col3\" >q_amt_c</th>\n",
       "      <th class=\"col_heading level0 col4\" >q_amt_p</th>\n",
       "      <th class=\"col_heading level0 col5\" >inc_profit</th>\n",
       "      <th class=\"col_heading level0 col6\" >percent</th>\n",
       "    </tr>\n",
       "  </thead>\n",
       "  <tbody>\n",
       "    <tr>\n",
       "      <th id=\"T_1c3d9_level0_row0\" class=\"row_heading level0 row0\" >0</th>\n",
       "      <td id=\"T_1c3d9_row0_col0\" class=\"data row0 col0\" >ACE</td>\n",
       "      <td id=\"T_1c3d9_row0_col1\" class=\"data row0 col1\" >2022</td>\n",
       "      <td id=\"T_1c3d9_row0_col2\" class=\"data row0 col2\" >Q3</td>\n",
       "      <td id=\"T_1c3d9_row0_col3\" class=\"data row0 col3\" >1,455,601</td>\n",
       "      <td id=\"T_1c3d9_row0_col4\" class=\"data row0 col4\" >1,392,091</td>\n",
       "      <td id=\"T_1c3d9_row0_col5\" class=\"data row0 col5\" >63,510</td>\n",
       "      <td id=\"T_1c3d9_row0_col6\" class=\"data row0 col6\" >4.56%</td>\n",
       "    </tr>\n",
       "    <tr>\n",
       "      <th id=\"T_1c3d9_level0_row1\" class=\"row_heading level0 row1\" >1</th>\n",
       "      <td id=\"T_1c3d9_row1_col0\" class=\"data row1 col0\" >ADVANC</td>\n",
       "      <td id=\"T_1c3d9_row1_col1\" class=\"data row1 col1\" >2022</td>\n",
       "      <td id=\"T_1c3d9_row1_col2\" class=\"data row1 col2\" >Q3</td>\n",
       "      <td id=\"T_1c3d9_row1_col3\" class=\"data row1 col3\" >25,511,368</td>\n",
       "      <td id=\"T_1c3d9_row1_col4\" class=\"data row1 col4\" >27,223,149</td>\n",
       "      <td id=\"T_1c3d9_row1_col5\" class=\"data row1 col5\" >-1,711,781</td>\n",
       "      <td id=\"T_1c3d9_row1_col6\" class=\"data row1 col6\" >-6.29%</td>\n",
       "    </tr>\n",
       "    <tr>\n",
       "      <th id=\"T_1c3d9_level0_row2\" class=\"row_heading level0 row2\" >2</th>\n",
       "      <td id=\"T_1c3d9_row2_col0\" class=\"data row2 col0\" >AH</td>\n",
       "      <td id=\"T_1c3d9_row2_col1\" class=\"data row2 col1\" >2022</td>\n",
       "      <td id=\"T_1c3d9_row2_col2\" class=\"data row2 col2\" >Q3</td>\n",
       "      <td id=\"T_1c3d9_row2_col3\" class=\"data row2 col3\" >1,541,418</td>\n",
       "      <td id=\"T_1c3d9_row2_col4\" class=\"data row2 col4\" >1,041,977</td>\n",
       "      <td id=\"T_1c3d9_row2_col5\" class=\"data row2 col5\" >499,441</td>\n",
       "      <td id=\"T_1c3d9_row2_col6\" class=\"data row2 col6\" >47.93%</td>\n",
       "    </tr>\n",
       "    <tr>\n",
       "      <th id=\"T_1c3d9_level0_row3\" class=\"row_heading level0 row3\" >3</th>\n",
       "      <td id=\"T_1c3d9_row3_col0\" class=\"data row3 col0\" >AIE</td>\n",
       "      <td id=\"T_1c3d9_row3_col1\" class=\"data row3 col1\" >2022</td>\n",
       "      <td id=\"T_1c3d9_row3_col2\" class=\"data row3 col2\" >Q3</td>\n",
       "      <td id=\"T_1c3d9_row3_col3\" class=\"data row3 col3\" >176,807</td>\n",
       "      <td id=\"T_1c3d9_row3_col4\" class=\"data row3 col4\" >522,478</td>\n",
       "      <td id=\"T_1c3d9_row3_col5\" class=\"data row3 col5\" >-345,671</td>\n",
       "      <td id=\"T_1c3d9_row3_col6\" class=\"data row3 col6\" >-66.16%</td>\n",
       "    </tr>\n",
       "    <tr>\n",
       "      <th id=\"T_1c3d9_level0_row4\" class=\"row_heading level0 row4\" >4</th>\n",
       "      <td id=\"T_1c3d9_row4_col0\" class=\"data row4 col0\" >AIMIRT</td>\n",
       "      <td id=\"T_1c3d9_row4_col1\" class=\"data row4 col1\" >2022</td>\n",
       "      <td id=\"T_1c3d9_row4_col2\" class=\"data row4 col2\" >Q3</td>\n",
       "      <td id=\"T_1c3d9_row4_col3\" class=\"data row4 col3\" >693,015</td>\n",
       "      <td id=\"T_1c3d9_row4_col4\" class=\"data row4 col4\" >437,639</td>\n",
       "      <td id=\"T_1c3d9_row4_col5\" class=\"data row4 col5\" >255,376</td>\n",
       "      <td id=\"T_1c3d9_row4_col6\" class=\"data row4 col6\" >58.35%</td>\n",
       "    </tr>\n",
       "  </tbody>\n",
       "</table>\n"
      ],
      "text/plain": [
       "<pandas.io.formats.style.Styler at 0x1c9e287f070>"
      ]
     },
     "execution_count": 8,
     "metadata": {},
     "output_type": "execute_result"
    }
   ],
   "source": [
    "dfm = pd.merge(dfc_grp, dfp_grp, on=\"name\", suffixes=([\"_c\", \"_p\"]), how=\"inner\")\n",
    "dfm[\"inc_profit\"] = dfm[\"q_amt_c\"] - dfm[\"q_amt_p\"]\n",
    "dfm[\"percent\"] = round(dfm[\"inc_profit\"] / abs(dfm[\"q_amt_p\"]) * 100, 2)\n",
    "dfm[\"year\"] = year\n",
    "dfm[\"quarter\"] = \"Q\" + str(quarter)\n",
    "df_percent = dfm[cols]\n",
    "df_percent.head().style.format(format_dict)"
   ]
  },
  {
   "cell_type": "code",
   "execution_count": 9,
   "metadata": {},
   "outputs": [
    {
     "name": "stdout",
     "output_type": "stream",
     "text": [
      "\n",
      "DELETE FROM yr_profits \n",
      "WHERE year = 2022 AND quarter = \"Q3\"\n"
     ]
    },
    {
     "data": {
      "text/plain": [
       "207"
      ]
     },
     "execution_count": 9,
     "metadata": {},
     "output_type": "execute_result"
    }
   ],
   "source": [
    "sql = '''\n",
    "DELETE FROM yr_profits \n",
    "WHERE year = %s AND quarter = \"Q%s\"'''\n",
    "sql = sql % (year, quarter)\n",
    "print(sql)\n",
    "\n",
    "rp = conlt.execute(sql)\n",
    "rp.rowcount"
   ]
  },
  {
   "cell_type": "code",
   "execution_count": 10,
   "metadata": {},
   "outputs": [
    {
     "data": {
      "text/plain": [
       "210"
      ]
     },
     "execution_count": 10,
     "metadata": {},
     "output_type": "execute_result"
    }
   ],
   "source": [
    "sql = \"SELECT name, id FROM tickers\"\n",
    "tickers = pd.read_sql(sql, conlt)\n",
    "df_ins = pd.merge(df_percent, tickers, on=\"name\", how=\"inner\")\n",
    "rcds = df_ins.values.tolist()\n",
    "len(rcds)"
   ]
  },
  {
   "cell_type": "code",
   "execution_count": 11,
   "metadata": {
    "scrolled": false
   },
   "outputs": [],
   "source": [
    "#for rcd in rcds:\n",
    "#    print(rcd)"
   ]
  },
  {
   "cell_type": "code",
   "execution_count": 12,
   "metadata": {},
   "outputs": [
    {
     "name": "stdout",
     "output_type": "stream",
     "text": [
      "\n",
      "INSERT INTO yr_profits (name, year, quarter, latest_amt, previous_amt, inc_amt, inc_pct, ticker_id) \n",
      "VALUES (?, ?, ?, ?, ?, ?, ?, ?)\n"
     ]
    }
   ],
   "source": [
    "sql = \"\"\"\n",
    "INSERT INTO yr_profits (name, year, quarter, latest_amt, previous_amt, inc_amt, inc_pct, ticker_id) \n",
    "VALUES (?, ?, ?, ?, ?, ?, ?, ?)\"\"\"\n",
    "print(sql)"
   ]
  },
  {
   "cell_type": "code",
   "execution_count": 13,
   "metadata": {},
   "outputs": [],
   "source": [
    "for rcd in rcds:\n",
    "    conlt.execute(sql, rcd)"
   ]
  },
  {
   "cell_type": "markdown",
   "metadata": {},
   "source": [
    "### End of loop"
   ]
  },
  {
   "cell_type": "code",
   "execution_count": 14,
   "metadata": {},
   "outputs": [
    {
     "data": {
      "text/html": [
       "<style type=\"text/css\">\n",
       "</style>\n",
       "<table id=\"T_3761f_\">\n",
       "  <thead>\n",
       "    <tr>\n",
       "      <th class=\"blank level0\" >&nbsp;</th>\n",
       "      <th class=\"col_heading level0 col0\" >name</th>\n",
       "      <th class=\"col_heading level0 col1\" >year</th>\n",
       "      <th class=\"col_heading level0 col2\" >quarter</th>\n",
       "      <th class=\"col_heading level0 col3\" >q_amt_c</th>\n",
       "      <th class=\"col_heading level0 col4\" >q_amt_p</th>\n",
       "      <th class=\"col_heading level0 col5\" >inc_profit</th>\n",
       "      <th class=\"col_heading level0 col6\" >percent</th>\n",
       "    </tr>\n",
       "  </thead>\n",
       "  <tbody>\n",
       "    <tr>\n",
       "      <th id=\"T_3761f_level0_row0\" class=\"row_heading level0 row0\" >0</th>\n",
       "      <td id=\"T_3761f_row0_col0\" class=\"data row0 col0\" >ACE</td>\n",
       "      <td id=\"T_3761f_row0_col1\" class=\"data row0 col1\" >2022</td>\n",
       "      <td id=\"T_3761f_row0_col2\" class=\"data row0 col2\" >Q3</td>\n",
       "      <td id=\"T_3761f_row0_col3\" class=\"data row0 col3\" >1,455,601</td>\n",
       "      <td id=\"T_3761f_row0_col4\" class=\"data row0 col4\" >1,392,091</td>\n",
       "      <td id=\"T_3761f_row0_col5\" class=\"data row0 col5\" >63,510</td>\n",
       "      <td id=\"T_3761f_row0_col6\" class=\"data row0 col6\" >4.56%</td>\n",
       "    </tr>\n",
       "    <tr>\n",
       "      <th id=\"T_3761f_level0_row1\" class=\"row_heading level0 row1\" >1</th>\n",
       "      <td id=\"T_3761f_row1_col0\" class=\"data row1 col0\" >ADVANC</td>\n",
       "      <td id=\"T_3761f_row1_col1\" class=\"data row1 col1\" >2022</td>\n",
       "      <td id=\"T_3761f_row1_col2\" class=\"data row1 col2\" >Q3</td>\n",
       "      <td id=\"T_3761f_row1_col3\" class=\"data row1 col3\" >25,511,368</td>\n",
       "      <td id=\"T_3761f_row1_col4\" class=\"data row1 col4\" >27,223,149</td>\n",
       "      <td id=\"T_3761f_row1_col5\" class=\"data row1 col5\" >-1,711,781</td>\n",
       "      <td id=\"T_3761f_row1_col6\" class=\"data row1 col6\" >-6.29%</td>\n",
       "    </tr>\n",
       "    <tr>\n",
       "      <th id=\"T_3761f_level0_row2\" class=\"row_heading level0 row2\" >2</th>\n",
       "      <td id=\"T_3761f_row2_col0\" class=\"data row2 col0\" >AH</td>\n",
       "      <td id=\"T_3761f_row2_col1\" class=\"data row2 col1\" >2022</td>\n",
       "      <td id=\"T_3761f_row2_col2\" class=\"data row2 col2\" >Q3</td>\n",
       "      <td id=\"T_3761f_row2_col3\" class=\"data row2 col3\" >1,541,418</td>\n",
       "      <td id=\"T_3761f_row2_col4\" class=\"data row2 col4\" >1,041,977</td>\n",
       "      <td id=\"T_3761f_row2_col5\" class=\"data row2 col5\" >499,441</td>\n",
       "      <td id=\"T_3761f_row2_col6\" class=\"data row2 col6\" >47.93%</td>\n",
       "    </tr>\n",
       "    <tr>\n",
       "      <th id=\"T_3761f_level0_row3\" class=\"row_heading level0 row3\" >4</th>\n",
       "      <td id=\"T_3761f_row3_col0\" class=\"data row3 col0\" >AIMIRT</td>\n",
       "      <td id=\"T_3761f_row3_col1\" class=\"data row3 col1\" >2022</td>\n",
       "      <td id=\"T_3761f_row3_col2\" class=\"data row3 col2\" >Q3</td>\n",
       "      <td id=\"T_3761f_row3_col3\" class=\"data row3 col3\" >693,015</td>\n",
       "      <td id=\"T_3761f_row3_col4\" class=\"data row3 col4\" >437,639</td>\n",
       "      <td id=\"T_3761f_row3_col5\" class=\"data row3 col5\" >255,376</td>\n",
       "      <td id=\"T_3761f_row3_col6\" class=\"data row3 col6\" >58.35%</td>\n",
       "    </tr>\n",
       "    <tr>\n",
       "      <th id=\"T_3761f_level0_row4\" class=\"row_heading level0 row4\" >5</th>\n",
       "      <td id=\"T_3761f_row4_col0\" class=\"data row4 col0\" >AIT</td>\n",
       "      <td id=\"T_3761f_row4_col1\" class=\"data row4 col1\" >2022</td>\n",
       "      <td id=\"T_3761f_row4_col2\" class=\"data row4 col2\" >Q3</td>\n",
       "      <td id=\"T_3761f_row4_col3\" class=\"data row4 col3\" >582,222</td>\n",
       "      <td id=\"T_3761f_row4_col4\" class=\"data row4 col4\" >522,365</td>\n",
       "      <td id=\"T_3761f_row4_col5\" class=\"data row4 col5\" >59,857</td>\n",
       "      <td id=\"T_3761f_row4_col6\" class=\"data row4 col6\" >11.46%</td>\n",
       "    </tr>\n",
       "  </tbody>\n",
       "</table>\n"
      ],
      "text/plain": [
       "<pandas.io.formats.style.Styler at 0x1c9df4c6ee0>"
      ]
     },
     "execution_count": 14,
     "metadata": {},
     "output_type": "execute_result"
    }
   ],
   "source": [
    "criteria_1 = df_ins.q_amt_c > 440_000\n",
    "df_ins.loc[criteria_1, cols].head().style.format(format_dict)"
   ]
  },
  {
   "cell_type": "code",
   "execution_count": 15,
   "metadata": {},
   "outputs": [
    {
     "data": {
      "text/html": [
       "<style type=\"text/css\">\n",
       "</style>\n",
       "<table id=\"T_d8534_\">\n",
       "  <thead>\n",
       "    <tr>\n",
       "      <th class=\"blank level0\" >&nbsp;</th>\n",
       "      <th class=\"col_heading level0 col0\" >name</th>\n",
       "      <th class=\"col_heading level0 col1\" >year</th>\n",
       "      <th class=\"col_heading level0 col2\" >quarter</th>\n",
       "      <th class=\"col_heading level0 col3\" >q_amt_c</th>\n",
       "      <th class=\"col_heading level0 col4\" >q_amt_p</th>\n",
       "      <th class=\"col_heading level0 col5\" >inc_profit</th>\n",
       "      <th class=\"col_heading level0 col6\" >percent</th>\n",
       "    </tr>\n",
       "  </thead>\n",
       "  <tbody>\n",
       "    <tr>\n",
       "      <th id=\"T_d8534_level0_row0\" class=\"row_heading level0 row0\" >0</th>\n",
       "      <td id=\"T_d8534_row0_col0\" class=\"data row0 col0\" >ACE</td>\n",
       "      <td id=\"T_d8534_row0_col1\" class=\"data row0 col1\" >2022</td>\n",
       "      <td id=\"T_d8534_row0_col2\" class=\"data row0 col2\" >Q3</td>\n",
       "      <td id=\"T_d8534_row0_col3\" class=\"data row0 col3\" >1,455,601</td>\n",
       "      <td id=\"T_d8534_row0_col4\" class=\"data row0 col4\" >1,392,091</td>\n",
       "      <td id=\"T_d8534_row0_col5\" class=\"data row0 col5\" >63,510</td>\n",
       "      <td id=\"T_d8534_row0_col6\" class=\"data row0 col6\" >4.56%</td>\n",
       "    </tr>\n",
       "    <tr>\n",
       "      <th id=\"T_d8534_level0_row1\" class=\"row_heading level0 row1\" >1</th>\n",
       "      <td id=\"T_d8534_row1_col0\" class=\"data row1 col0\" >ADVANC</td>\n",
       "      <td id=\"T_d8534_row1_col1\" class=\"data row1 col1\" >2022</td>\n",
       "      <td id=\"T_d8534_row1_col2\" class=\"data row1 col2\" >Q3</td>\n",
       "      <td id=\"T_d8534_row1_col3\" class=\"data row1 col3\" >25,511,368</td>\n",
       "      <td id=\"T_d8534_row1_col4\" class=\"data row1 col4\" >27,223,149</td>\n",
       "      <td id=\"T_d8534_row1_col5\" class=\"data row1 col5\" >-1,711,781</td>\n",
       "      <td id=\"T_d8534_row1_col6\" class=\"data row1 col6\" >-6.29%</td>\n",
       "    </tr>\n",
       "    <tr>\n",
       "      <th id=\"T_d8534_level0_row2\" class=\"row_heading level0 row2\" >2</th>\n",
       "      <td id=\"T_d8534_row2_col0\" class=\"data row2 col0\" >AH</td>\n",
       "      <td id=\"T_d8534_row2_col1\" class=\"data row2 col1\" >2022</td>\n",
       "      <td id=\"T_d8534_row2_col2\" class=\"data row2 col2\" >Q3</td>\n",
       "      <td id=\"T_d8534_row2_col3\" class=\"data row2 col3\" >1,541,418</td>\n",
       "      <td id=\"T_d8534_row2_col4\" class=\"data row2 col4\" >1,041,977</td>\n",
       "      <td id=\"T_d8534_row2_col5\" class=\"data row2 col5\" >499,441</td>\n",
       "      <td id=\"T_d8534_row2_col6\" class=\"data row2 col6\" >47.93%</td>\n",
       "    </tr>\n",
       "    <tr>\n",
       "      <th id=\"T_d8534_level0_row3\" class=\"row_heading level0 row3\" >3</th>\n",
       "      <td id=\"T_d8534_row3_col0\" class=\"data row3 col0\" >AIE</td>\n",
       "      <td id=\"T_d8534_row3_col1\" class=\"data row3 col1\" >2022</td>\n",
       "      <td id=\"T_d8534_row3_col2\" class=\"data row3 col2\" >Q3</td>\n",
       "      <td id=\"T_d8534_row3_col3\" class=\"data row3 col3\" >176,807</td>\n",
       "      <td id=\"T_d8534_row3_col4\" class=\"data row3 col4\" >522,478</td>\n",
       "      <td id=\"T_d8534_row3_col5\" class=\"data row3 col5\" >-345,671</td>\n",
       "      <td id=\"T_d8534_row3_col6\" class=\"data row3 col6\" >-66.16%</td>\n",
       "    </tr>\n",
       "    <tr>\n",
       "      <th id=\"T_d8534_level0_row4\" class=\"row_heading level0 row4\" >4</th>\n",
       "      <td id=\"T_d8534_row4_col0\" class=\"data row4 col0\" >AIMIRT</td>\n",
       "      <td id=\"T_d8534_row4_col1\" class=\"data row4 col1\" >2022</td>\n",
       "      <td id=\"T_d8534_row4_col2\" class=\"data row4 col2\" >Q3</td>\n",
       "      <td id=\"T_d8534_row4_col3\" class=\"data row4 col3\" >693,015</td>\n",
       "      <td id=\"T_d8534_row4_col4\" class=\"data row4 col4\" >437,639</td>\n",
       "      <td id=\"T_d8534_row4_col5\" class=\"data row4 col5\" >255,376</td>\n",
       "      <td id=\"T_d8534_row4_col6\" class=\"data row4 col6\" >58.35%</td>\n",
       "    </tr>\n",
       "  </tbody>\n",
       "</table>\n"
      ],
      "text/plain": [
       "<pandas.io.formats.style.Styler at 0x1c9e2fbd8e0>"
      ]
     },
     "execution_count": 15,
     "metadata": {},
     "output_type": "execute_result"
    }
   ],
   "source": [
    "criteria_2 = df_ins.q_amt_p > 400_000\n",
    "df_ins.loc[criteria_2, cols].head().style.format(format_dict)"
   ]
  },
  {
   "cell_type": "code",
   "execution_count": 16,
   "metadata": {},
   "outputs": [
    {
     "data": {
      "text/html": [
       "<style type=\"text/css\">\n",
       "</style>\n",
       "<table id=\"T_cb620_\">\n",
       "  <thead>\n",
       "    <tr>\n",
       "      <th class=\"blank level0\" >&nbsp;</th>\n",
       "      <th class=\"col_heading level0 col0\" >name</th>\n",
       "      <th class=\"col_heading level0 col1\" >year</th>\n",
       "      <th class=\"col_heading level0 col2\" >quarter</th>\n",
       "      <th class=\"col_heading level0 col3\" >q_amt_c</th>\n",
       "      <th class=\"col_heading level0 col4\" >q_amt_p</th>\n",
       "      <th class=\"col_heading level0 col5\" >inc_profit</th>\n",
       "      <th class=\"col_heading level0 col6\" >percent</th>\n",
       "    </tr>\n",
       "  </thead>\n",
       "  <tbody>\n",
       "    <tr>\n",
       "      <th id=\"T_cb620_level0_row0\" class=\"row_heading level0 row0\" >2</th>\n",
       "      <td id=\"T_cb620_row0_col0\" class=\"data row0 col0\" >AH</td>\n",
       "      <td id=\"T_cb620_row0_col1\" class=\"data row0 col1\" >2022</td>\n",
       "      <td id=\"T_cb620_row0_col2\" class=\"data row0 col2\" >Q3</td>\n",
       "      <td id=\"T_cb620_row0_col3\" class=\"data row0 col3\" >1,541,418</td>\n",
       "      <td id=\"T_cb620_row0_col4\" class=\"data row0 col4\" >1,041,977</td>\n",
       "      <td id=\"T_cb620_row0_col5\" class=\"data row0 col5\" >499,441</td>\n",
       "      <td id=\"T_cb620_row0_col6\" class=\"data row0 col6\" >47.93%</td>\n",
       "    </tr>\n",
       "    <tr>\n",
       "      <th id=\"T_cb620_level0_row1\" class=\"row_heading level0 row1\" >4</th>\n",
       "      <td id=\"T_cb620_row1_col0\" class=\"data row1 col0\" >AIMIRT</td>\n",
       "      <td id=\"T_cb620_row1_col1\" class=\"data row1 col1\" >2022</td>\n",
       "      <td id=\"T_cb620_row1_col2\" class=\"data row1 col2\" >Q3</td>\n",
       "      <td id=\"T_cb620_row1_col3\" class=\"data row1 col3\" >693,015</td>\n",
       "      <td id=\"T_cb620_row1_col4\" class=\"data row1 col4\" >437,639</td>\n",
       "      <td id=\"T_cb620_row1_col5\" class=\"data row1 col5\" >255,376</td>\n",
       "      <td id=\"T_cb620_row1_col6\" class=\"data row1 col6\" >58.35%</td>\n",
       "    </tr>\n",
       "    <tr>\n",
       "      <th id=\"T_cb620_level0_row2\" class=\"row_heading level0 row2\" >5</th>\n",
       "      <td id=\"T_cb620_row2_col0\" class=\"data row2 col0\" >AIT</td>\n",
       "      <td id=\"T_cb620_row2_col1\" class=\"data row2 col1\" >2022</td>\n",
       "      <td id=\"T_cb620_row2_col2\" class=\"data row2 col2\" >Q3</td>\n",
       "      <td id=\"T_cb620_row2_col3\" class=\"data row2 col3\" >582,222</td>\n",
       "      <td id=\"T_cb620_row2_col4\" class=\"data row2 col4\" >522,365</td>\n",
       "      <td id=\"T_cb620_row2_col5\" class=\"data row2 col5\" >59,857</td>\n",
       "      <td id=\"T_cb620_row2_col6\" class=\"data row2 col6\" >11.46%</td>\n",
       "    </tr>\n",
       "    <tr>\n",
       "      <th id=\"T_cb620_level0_row3\" class=\"row_heading level0 row3\" >7</th>\n",
       "      <td id=\"T_cb620_row3_col0\" class=\"data row3 col0\" >AMATA</td>\n",
       "      <td id=\"T_cb620_row3_col1\" class=\"data row3 col1\" >2022</td>\n",
       "      <td id=\"T_cb620_row3_col2\" class=\"data row3 col2\" >Q3</td>\n",
       "      <td id=\"T_cb620_row3_col3\" class=\"data row3 col3\" >2,296,513</td>\n",
       "      <td id=\"T_cb620_row3_col4\" class=\"data row3 col4\" >1,058,096</td>\n",
       "      <td id=\"T_cb620_row3_col5\" class=\"data row3 col5\" >1,238,417</td>\n",
       "      <td id=\"T_cb620_row3_col6\" class=\"data row3 col6\" >117.04%</td>\n",
       "    </tr>\n",
       "    <tr>\n",
       "      <th id=\"T_cb620_level0_row4\" class=\"row_heading level0 row4\" >10</th>\n",
       "      <td id=\"T_cb620_row4_col0\" class=\"data row4 col0\" >AP</td>\n",
       "      <td id=\"T_cb620_row4_col1\" class=\"data row4 col1\" >2022</td>\n",
       "      <td id=\"T_cb620_row4_col2\" class=\"data row4 col2\" >Q3</td>\n",
       "      <td id=\"T_cb620_row4_col3\" class=\"data row4 col3\" >5,716,603</td>\n",
       "      <td id=\"T_cb620_row4_col4\" class=\"data row4 col4\" >4,491,151</td>\n",
       "      <td id=\"T_cb620_row4_col5\" class=\"data row4 col5\" >1,225,452</td>\n",
       "      <td id=\"T_cb620_row4_col6\" class=\"data row4 col6\" >27.29%</td>\n",
       "    </tr>\n",
       "  </tbody>\n",
       "</table>\n"
      ],
      "text/plain": [
       "<pandas.io.formats.style.Styler at 0x1c9e30275b0>"
      ]
     },
     "execution_count": 16,
     "metadata": {},
     "output_type": "execute_result"
    }
   ],
   "source": [
    "criteria_3 = df_ins.percent > 10.00\n",
    "df_ins.loc[criteria_3, cols].head().style.format(format_dict)"
   ]
  },
  {
   "cell_type": "code",
   "execution_count": 17,
   "metadata": {},
   "outputs": [
    {
     "data": {
      "text/html": [
       "<style type=\"text/css\">\n",
       "</style>\n",
       "<table id=\"T_299b3_\">\n",
       "  <thead>\n",
       "    <tr>\n",
       "      <th class=\"blank level0\" >&nbsp;</th>\n",
       "      <th class=\"col_heading level0 col0\" >name</th>\n",
       "      <th class=\"col_heading level0 col1\" >year</th>\n",
       "      <th class=\"col_heading level0 col2\" >quarter</th>\n",
       "      <th class=\"col_heading level0 col3\" >q_amt_c</th>\n",
       "      <th class=\"col_heading level0 col4\" >q_amt_p</th>\n",
       "      <th class=\"col_heading level0 col5\" >inc_profit</th>\n",
       "      <th class=\"col_heading level0 col6\" >percent</th>\n",
       "    </tr>\n",
       "  </thead>\n",
       "  <tbody>\n",
       "    <tr>\n",
       "      <th id=\"T_299b3_level0_row0\" class=\"row_heading level0 row0\" >17</th>\n",
       "      <td id=\"T_299b3_row0_col0\" class=\"data row0 col0\" >BANPU</td>\n",
       "      <td id=\"T_299b3_row0_col1\" class=\"data row0 col1\" >2022</td>\n",
       "      <td id=\"T_299b3_row0_col2\" class=\"data row0 col2\" >Q3</td>\n",
       "      <td id=\"T_299b3_row0_col3\" class=\"data row0 col3\" >44,283,431</td>\n",
       "      <td id=\"T_299b3_row0_col4\" class=\"data row0 col4\" >5,897,490</td>\n",
       "      <td id=\"T_299b3_row0_col5\" class=\"data row0 col5\" >38,385,941</td>\n",
       "      <td id=\"T_299b3_row0_col6\" class=\"data row0 col6\" >650.89%</td>\n",
       "    </tr>\n",
       "    <tr>\n",
       "      <th id=\"T_299b3_level0_row1\" class=\"row_heading level0 row1\" >29</th>\n",
       "      <td id=\"T_299b3_row1_col0\" class=\"data row1 col0\" >BH</td>\n",
       "      <td id=\"T_299b3_row1_col1\" class=\"data row1 col1\" >2022</td>\n",
       "      <td id=\"T_299b3_row1_col2\" class=\"data row1 col2\" >Q3</td>\n",
       "      <td id=\"T_299b3_row1_col3\" class=\"data row1 col3\" >4,004,426</td>\n",
       "      <td id=\"T_299b3_row1_col4\" class=\"data row1 col4\" >776,568</td>\n",
       "      <td id=\"T_299b3_row1_col5\" class=\"data row1 col5\" >3,227,858</td>\n",
       "      <td id=\"T_299b3_row1_col6\" class=\"data row1 col6\" >415.66%</td>\n",
       "    </tr>\n",
       "    <tr>\n",
       "      <th id=\"T_299b3_level0_row2\" class=\"row_heading level0 row2\" >176</th>\n",
       "      <td id=\"T_299b3_row2_col0\" class=\"data row2 col0\" >TFG</td>\n",
       "      <td id=\"T_299b3_row2_col1\" class=\"data row2 col1\" >2022</td>\n",
       "      <td id=\"T_299b3_row2_col2\" class=\"data row2 col2\" >Q3</td>\n",
       "      <td id=\"T_299b3_row2_col3\" class=\"data row2 col3\" >3,733,094</td>\n",
       "      <td id=\"T_299b3_row2_col4\" class=\"data row2 col4\" >847,771</td>\n",
       "      <td id=\"T_299b3_row2_col5\" class=\"data row2 col5\" >2,885,323</td>\n",
       "      <td id=\"T_299b3_row2_col6\" class=\"data row2 col6\" >340.34%</td>\n",
       "    </tr>\n",
       "    <tr>\n",
       "      <th id=\"T_299b3_level0_row3\" class=\"row_heading level0 row3\" >60</th>\n",
       "      <td id=\"T_299b3_row3_col0\" class=\"data row3 col0\" >ESSO</td>\n",
       "      <td id=\"T_299b3_row3_col1\" class=\"data row3 col1\" >2022</td>\n",
       "      <td id=\"T_299b3_row3_col2\" class=\"data row3 col2\" >Q3</td>\n",
       "      <td id=\"T_299b3_row3_col3\" class=\"data row3 col3\" >11,822,040</td>\n",
       "      <td id=\"T_299b3_row3_col4\" class=\"data row3 col4\" >4,126,097</td>\n",
       "      <td id=\"T_299b3_row3_col5\" class=\"data row3 col5\" >7,695,943</td>\n",
       "      <td id=\"T_299b3_row3_col6\" class=\"data row3 col6\" >186.52%</td>\n",
       "    </tr>\n",
       "    <tr>\n",
       "      <th id=\"T_299b3_level0_row4\" class=\"row_heading level0 row4\" >178</th>\n",
       "      <td id=\"T_299b3_row4_col0\" class=\"data row4 col0\" >THG</td>\n",
       "      <td id=\"T_299b3_row4_col1\" class=\"data row4 col1\" >2022</td>\n",
       "      <td id=\"T_299b3_row4_col2\" class=\"data row4 col2\" >Q3</td>\n",
       "      <td id=\"T_299b3_row4_col3\" class=\"data row4 col3\" >1,998,508</td>\n",
       "      <td id=\"T_299b3_row4_col4\" class=\"data row4 col4\" >732,990</td>\n",
       "      <td id=\"T_299b3_row4_col5\" class=\"data row4 col5\" >1,265,518</td>\n",
       "      <td id=\"T_299b3_row4_col6\" class=\"data row4 col6\" >172.65%</td>\n",
       "    </tr>\n",
       "  </tbody>\n",
       "</table>\n"
      ],
      "text/plain": [
       "<pandas.io.formats.style.Styler at 0x1c9e2fbdac0>"
      ]
     },
     "execution_count": 17,
     "metadata": {},
     "output_type": "execute_result"
    }
   ],
   "source": [
    "final_criteria = criteria_1 & criteria_2 & criteria_3\n",
    "df_ins.loc[final_criteria, cols].sort_values(by=[\"percent\"], ascending=[False]).head().style.format(format_dict)"
   ]
  },
  {
   "cell_type": "code",
   "execution_count": 18,
   "metadata": {},
   "outputs": [
    {
     "data": {
      "text/html": [
       "<style type=\"text/css\">\n",
       "</style>\n",
       "<table id=\"T_0ad70_\">\n",
       "  <thead>\n",
       "    <tr>\n",
       "      <th class=\"blank level0\" >&nbsp;</th>\n",
       "      <th class=\"col_heading level0 col0\" >name</th>\n",
       "      <th class=\"col_heading level0 col1\" >year</th>\n",
       "      <th class=\"col_heading level0 col2\" >quarter</th>\n",
       "      <th class=\"col_heading level0 col3\" >q_amt_c</th>\n",
       "      <th class=\"col_heading level0 col4\" >q_amt_p</th>\n",
       "      <th class=\"col_heading level0 col5\" >inc_profit</th>\n",
       "      <th class=\"col_heading level0 col6\" >percent</th>\n",
       "    </tr>\n",
       "  </thead>\n",
       "  <tbody>\n",
       "    <tr>\n",
       "      <th id=\"T_0ad70_level0_row0\" class=\"row_heading level0 row0\" >2</th>\n",
       "      <td id=\"T_0ad70_row0_col0\" class=\"data row0 col0\" >AH</td>\n",
       "      <td id=\"T_0ad70_row0_col1\" class=\"data row0 col1\" >2022</td>\n",
       "      <td id=\"T_0ad70_row0_col2\" class=\"data row0 col2\" >Q3</td>\n",
       "      <td id=\"T_0ad70_row0_col3\" class=\"data row0 col3\" >1,541,418</td>\n",
       "      <td id=\"T_0ad70_row0_col4\" class=\"data row0 col4\" >1,041,977</td>\n",
       "      <td id=\"T_0ad70_row0_col5\" class=\"data row0 col5\" >499,441</td>\n",
       "      <td id=\"T_0ad70_row0_col6\" class=\"data row0 col6\" >47.93%</td>\n",
       "    </tr>\n",
       "    <tr>\n",
       "      <th id=\"T_0ad70_level0_row1\" class=\"row_heading level0 row1\" >4</th>\n",
       "      <td id=\"T_0ad70_row1_col0\" class=\"data row1 col0\" >AIMIRT</td>\n",
       "      <td id=\"T_0ad70_row1_col1\" class=\"data row1 col1\" >2022</td>\n",
       "      <td id=\"T_0ad70_row1_col2\" class=\"data row1 col2\" >Q3</td>\n",
       "      <td id=\"T_0ad70_row1_col3\" class=\"data row1 col3\" >693,015</td>\n",
       "      <td id=\"T_0ad70_row1_col4\" class=\"data row1 col4\" >437,639</td>\n",
       "      <td id=\"T_0ad70_row1_col5\" class=\"data row1 col5\" >255,376</td>\n",
       "      <td id=\"T_0ad70_row1_col6\" class=\"data row1 col6\" >58.35%</td>\n",
       "    </tr>\n",
       "    <tr>\n",
       "      <th id=\"T_0ad70_level0_row2\" class=\"row_heading level0 row2\" >5</th>\n",
       "      <td id=\"T_0ad70_row2_col0\" class=\"data row2 col0\" >AIT</td>\n",
       "      <td id=\"T_0ad70_row2_col1\" class=\"data row2 col1\" >2022</td>\n",
       "      <td id=\"T_0ad70_row2_col2\" class=\"data row2 col2\" >Q3</td>\n",
       "      <td id=\"T_0ad70_row2_col3\" class=\"data row2 col3\" >582,222</td>\n",
       "      <td id=\"T_0ad70_row2_col4\" class=\"data row2 col4\" >522,365</td>\n",
       "      <td id=\"T_0ad70_row2_col5\" class=\"data row2 col5\" >59,857</td>\n",
       "      <td id=\"T_0ad70_row2_col6\" class=\"data row2 col6\" >11.46%</td>\n",
       "    </tr>\n",
       "    <tr>\n",
       "      <th id=\"T_0ad70_level0_row3\" class=\"row_heading level0 row3\" >7</th>\n",
       "      <td id=\"T_0ad70_row3_col0\" class=\"data row3 col0\" >AMATA</td>\n",
       "      <td id=\"T_0ad70_row3_col1\" class=\"data row3 col1\" >2022</td>\n",
       "      <td id=\"T_0ad70_row3_col2\" class=\"data row3 col2\" >Q3</td>\n",
       "      <td id=\"T_0ad70_row3_col3\" class=\"data row3 col3\" >2,296,513</td>\n",
       "      <td id=\"T_0ad70_row3_col4\" class=\"data row3 col4\" >1,058,096</td>\n",
       "      <td id=\"T_0ad70_row3_col5\" class=\"data row3 col5\" >1,238,417</td>\n",
       "      <td id=\"T_0ad70_row3_col6\" class=\"data row3 col6\" >117.04%</td>\n",
       "    </tr>\n",
       "    <tr>\n",
       "      <th id=\"T_0ad70_level0_row4\" class=\"row_heading level0 row4\" >10</th>\n",
       "      <td id=\"T_0ad70_row4_col0\" class=\"data row4 col0\" >AP</td>\n",
       "      <td id=\"T_0ad70_row4_col1\" class=\"data row4 col1\" >2022</td>\n",
       "      <td id=\"T_0ad70_row4_col2\" class=\"data row4 col2\" >Q3</td>\n",
       "      <td id=\"T_0ad70_row4_col3\" class=\"data row4 col3\" >5,716,603</td>\n",
       "      <td id=\"T_0ad70_row4_col4\" class=\"data row4 col4\" >4,491,151</td>\n",
       "      <td id=\"T_0ad70_row4_col5\" class=\"data row4 col5\" >1,225,452</td>\n",
       "      <td id=\"T_0ad70_row4_col6\" class=\"data row4 col6\" >27.29%</td>\n",
       "    </tr>\n",
       "  </tbody>\n",
       "</table>\n"
      ],
      "text/plain": [
       "<pandas.io.formats.style.Styler at 0x1c9e2ffbbe0>"
      ]
     },
     "execution_count": 18,
     "metadata": {},
     "output_type": "execute_result"
    }
   ],
   "source": [
    "df_ins.loc[final_criteria, cols].sort_values(by=[\"name\"], ascending=[True]).head().style.format(format_dict)"
   ]
  },
  {
   "cell_type": "code",
   "execution_count": 19,
   "metadata": {},
   "outputs": [
    {
     "data": {
      "text/html": [
       "<style type=\"text/css\">\n",
       "</style>\n",
       "<table id=\"T_2880f_\">\n",
       "  <thead>\n",
       "    <tr>\n",
       "      <th class=\"blank level0\" >&nbsp;</th>\n",
       "      <th class=\"col_heading level0 col0\" >name</th>\n",
       "      <th class=\"col_heading level0 col1\" >year</th>\n",
       "      <th class=\"col_heading level0 col2\" >quarter</th>\n",
       "      <th class=\"col_heading level0 col3\" >q_amt_c</th>\n",
       "      <th class=\"col_heading level0 col4\" >q_amt_p</th>\n",
       "      <th class=\"col_heading level0 col5\" >inc_profit</th>\n",
       "      <th class=\"col_heading level0 col6\" >percent</th>\n",
       "    </tr>\n",
       "  </thead>\n",
       "  <tbody>\n",
       "    <tr>\n",
       "      <th id=\"T_2880f_level0_row0\" class=\"row_heading level0 row0\" >2</th>\n",
       "      <td id=\"T_2880f_row0_col0\" class=\"data row0 col0\" >AH</td>\n",
       "      <td id=\"T_2880f_row0_col1\" class=\"data row0 col1\" >2022</td>\n",
       "      <td id=\"T_2880f_row0_col2\" class=\"data row0 col2\" >Q3</td>\n",
       "      <td id=\"T_2880f_row0_col3\" class=\"data row0 col3\" >1,541,418</td>\n",
       "      <td id=\"T_2880f_row0_col4\" class=\"data row0 col4\" >1,041,977</td>\n",
       "      <td id=\"T_2880f_row0_col5\" class=\"data row0 col5\" >499,441</td>\n",
       "      <td id=\"T_2880f_row0_col6\" class=\"data row0 col6\" >47.93%</td>\n",
       "    </tr>\n",
       "    <tr>\n",
       "      <th id=\"T_2880f_level0_row1\" class=\"row_heading level0 row1\" >4</th>\n",
       "      <td id=\"T_2880f_row1_col0\" class=\"data row1 col0\" >AIMIRT</td>\n",
       "      <td id=\"T_2880f_row1_col1\" class=\"data row1 col1\" >2022</td>\n",
       "      <td id=\"T_2880f_row1_col2\" class=\"data row1 col2\" >Q3</td>\n",
       "      <td id=\"T_2880f_row1_col3\" class=\"data row1 col3\" >693,015</td>\n",
       "      <td id=\"T_2880f_row1_col4\" class=\"data row1 col4\" >437,639</td>\n",
       "      <td id=\"T_2880f_row1_col5\" class=\"data row1 col5\" >255,376</td>\n",
       "      <td id=\"T_2880f_row1_col6\" class=\"data row1 col6\" >58.35%</td>\n",
       "    </tr>\n",
       "    <tr>\n",
       "      <th id=\"T_2880f_level0_row2\" class=\"row_heading level0 row2\" >5</th>\n",
       "      <td id=\"T_2880f_row2_col0\" class=\"data row2 col0\" >AIT</td>\n",
       "      <td id=\"T_2880f_row2_col1\" class=\"data row2 col1\" >2022</td>\n",
       "      <td id=\"T_2880f_row2_col2\" class=\"data row2 col2\" >Q3</td>\n",
       "      <td id=\"T_2880f_row2_col3\" class=\"data row2 col3\" >582,222</td>\n",
       "      <td id=\"T_2880f_row2_col4\" class=\"data row2 col4\" >522,365</td>\n",
       "      <td id=\"T_2880f_row2_col5\" class=\"data row2 col5\" >59,857</td>\n",
       "      <td id=\"T_2880f_row2_col6\" class=\"data row2 col6\" >11.46%</td>\n",
       "    </tr>\n",
       "    <tr>\n",
       "      <th id=\"T_2880f_level0_row3\" class=\"row_heading level0 row3\" >7</th>\n",
       "      <td id=\"T_2880f_row3_col0\" class=\"data row3 col0\" >AMATA</td>\n",
       "      <td id=\"T_2880f_row3_col1\" class=\"data row3 col1\" >2022</td>\n",
       "      <td id=\"T_2880f_row3_col2\" class=\"data row3 col2\" >Q3</td>\n",
       "      <td id=\"T_2880f_row3_col3\" class=\"data row3 col3\" >2,296,513</td>\n",
       "      <td id=\"T_2880f_row3_col4\" class=\"data row3 col4\" >1,058,096</td>\n",
       "      <td id=\"T_2880f_row3_col5\" class=\"data row3 col5\" >1,238,417</td>\n",
       "      <td id=\"T_2880f_row3_col6\" class=\"data row3 col6\" >117.04%</td>\n",
       "    </tr>\n",
       "    <tr>\n",
       "      <th id=\"T_2880f_level0_row4\" class=\"row_heading level0 row4\" >10</th>\n",
       "      <td id=\"T_2880f_row4_col0\" class=\"data row4 col0\" >AP</td>\n",
       "      <td id=\"T_2880f_row4_col1\" class=\"data row4 col1\" >2022</td>\n",
       "      <td id=\"T_2880f_row4_col2\" class=\"data row4 col2\" >Q3</td>\n",
       "      <td id=\"T_2880f_row4_col3\" class=\"data row4 col3\" >5,716,603</td>\n",
       "      <td id=\"T_2880f_row4_col4\" class=\"data row4 col4\" >4,491,151</td>\n",
       "      <td id=\"T_2880f_row4_col5\" class=\"data row4 col5\" >1,225,452</td>\n",
       "      <td id=\"T_2880f_row4_col6\" class=\"data row4 col6\" >27.29%</td>\n",
       "    </tr>\n",
       "  </tbody>\n",
       "</table>\n"
      ],
      "text/plain": [
       "<pandas.io.formats.style.Styler at 0x1c9e2fbda90>"
      ]
     },
     "execution_count": 19,
     "metadata": {},
     "output_type": "execute_result"
    }
   ],
   "source": [
    "df_ins.loc[final_criteria, cols].sort_values(by=[\"name\"], ascending=[True]).head().style.format(format_dict)"
   ]
  },
  {
   "cell_type": "code",
   "execution_count": null,
   "metadata": {},
   "outputs": [],
   "source": []
  }
 ],
 "metadata": {
  "anaconda-cloud": {},
  "kernelspec": {
   "display_name": "Python 3 (ipykernel)",
   "language": "python",
   "name": "python3"
  },
  "language_info": {
   "codemirror_mode": {
    "name": "ipython",
    "version": 3
   },
   "file_extension": ".py",
   "mimetype": "text/x-python",
   "name": "python",
   "nbconvert_exporter": "python",
   "pygments_lexer": "ipython3",
   "version": "3.8.11"
  }
 },
 "nbformat": 4,
 "nbformat_minor": 1
}
