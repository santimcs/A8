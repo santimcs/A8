{
 "cells": [
  {
   "cell_type": "markdown",
   "metadata": {},
   "source": [
    "### Restart and Run All Cells"
   ]
  },
  {
   "cell_type": "code",
   "execution_count": 1,
   "metadata": {},
   "outputs": [],
   "source": [
    "import pandas as pd\n",
    "from sqlalchemy import create_engine\n",
    "engine = create_engine(\"sqlite:///c:\\\\ruby\\\\portlt\\\\db\\\\development.sqlite3\")\n",
    "conlt = engine.connect()\n",
    "year = 2022\n",
    "quarter = 3"
   ]
  },
  {
   "cell_type": "code",
   "execution_count": 2,
   "metadata": {},
   "outputs": [],
   "source": [
    "cols = 'name year quarter q_amt_c q_amt_p inc_profit percent'.split()"
   ]
  },
  {
   "cell_type": "code",
   "execution_count": 3,
   "metadata": {},
   "outputs": [],
   "source": [
    "format_dict = {\n",
    "                'q_amt':'{:,}','q_amt_c':'{:,}','q_amt_p':'{:,}','inc_profit':'{:,}',\n",
    "                'yoy_gain':'{:,}','acc_gain':'{:,}',    \n",
    "                'q_eps':'{:.4f}','y_eps':'{:.4f}','aq_eps':'{:.4f}','ay_eps':'{:.4f}',\n",
    "                'percent':'{:.2f}%'\n",
    "              }"
   ]
  },
  {
   "cell_type": "code",
   "execution_count": 4,
   "metadata": {},
   "outputs": [
    {
     "name": "stdout",
     "output_type": "stream",
     "text": [
      "\n",
      "SELECT name,year,quarter,q_amt\n",
      "FROM epss \n",
      "WHERE (year = 2022 AND quarter <= 3) \n",
      "OR (year = 2022-1 AND quarter >= 3+1)\n",
      "ORDER BY year DESC, quarter DESC\n"
     ]
    }
   ],
   "source": [
    "sql = \"\"\"\n",
    "SELECT name,year,quarter,q_amt\n",
    "FROM epss \n",
    "WHERE (year = %s AND quarter <= %s) \n",
    "OR (year = %s-1 AND quarter >= %s+1)\n",
    "ORDER BY year DESC, quarter DESC\"\"\"\n",
    "sql = sql % (year, quarter, year, quarter)\n",
    "print(sql)"
   ]
  },
  {
   "cell_type": "code",
   "execution_count": 5,
   "metadata": {},
   "outputs": [
    {
     "data": {
      "text/html": [
       "<style type=\"text/css\">\n",
       "</style>\n",
       "<table id=\"T_0d2d0_\">\n",
       "  <thead>\n",
       "    <tr>\n",
       "      <th class=\"blank level0\" >&nbsp;</th>\n",
       "      <th class=\"col_heading level0 col0\" >name</th>\n",
       "      <th class=\"col_heading level0 col1\" >year</th>\n",
       "      <th class=\"col_heading level0 col2\" >quarter</th>\n",
       "      <th class=\"col_heading level0 col3\" >q_amt</th>\n",
       "      <th class=\"col_heading level0 col4\" >Counter</th>\n",
       "    </tr>\n",
       "  </thead>\n",
       "  <tbody>\n",
       "    <tr>\n",
       "      <th id=\"T_0d2d0_level0_row0\" class=\"row_heading level0 row0\" >10</th>\n",
       "      <td id=\"T_0d2d0_row0_col0\" class=\"data row0 col0\" >AOT</td>\n",
       "      <td id=\"T_0d2d0_row0_col1\" class=\"data row0 col1\" >8087</td>\n",
       "      <td id=\"T_0d2d0_row0_col2\" class=\"data row0 col2\" >10</td>\n",
       "      <td id=\"T_0d2d0_row0_col3\" class=\"data row0 col3\" >-14,912,794</td>\n",
       "      <td id=\"T_0d2d0_row0_col4\" class=\"data row0 col4\" >4</td>\n",
       "    </tr>\n",
       "    <tr>\n",
       "      <th id=\"T_0d2d0_level0_row1\" class=\"row_heading level0 row1\" >71</th>\n",
       "      <td id=\"T_0d2d0_row1_col0\" class=\"data row1 col0\" >FPT</td>\n",
       "      <td id=\"T_0d2d0_row1_col1\" class=\"data row1 col1\" >8087</td>\n",
       "      <td id=\"T_0d2d0_row1_col2\" class=\"data row1 col2\" >10</td>\n",
       "      <td id=\"T_0d2d0_row1_col3\" class=\"data row1 col3\" >1,901,129</td>\n",
       "      <td id=\"T_0d2d0_row1_col4\" class=\"data row1 col4\" >4</td>\n",
       "    </tr>\n",
       "    <tr>\n",
       "      <th id=\"T_0d2d0_level0_row2\" class=\"row_heading level0 row2\" >81</th>\n",
       "      <td id=\"T_0d2d0_row2_col0\" class=\"data row2 col0\" >GVREIT</td>\n",
       "      <td id=\"T_0d2d0_row2_col1\" class=\"data row2 col1\" >8087</td>\n",
       "      <td id=\"T_0d2d0_row2_col2\" class=\"data row2 col2\" >10</td>\n",
       "      <td id=\"T_0d2d0_row2_col3\" class=\"data row2 col3\" >668,011</td>\n",
       "      <td id=\"T_0d2d0_row2_col4\" class=\"data row2 col4\" >4</td>\n",
       "    </tr>\n",
       "    <tr>\n",
       "      <th id=\"T_0d2d0_level0_row3\" class=\"row_heading level0 row3\" >123</th>\n",
       "      <td id=\"T_0d2d0_row3_col0\" class=\"data row3 col0\" >MC</td>\n",
       "      <td id=\"T_0d2d0_row3_col1\" class=\"data row3 col1\" >8087</td>\n",
       "      <td id=\"T_0d2d0_row3_col2\" class=\"data row3 col2\" >10</td>\n",
       "      <td id=\"T_0d2d0_row3_col3\" class=\"data row3 col3\" >381,632</td>\n",
       "      <td id=\"T_0d2d0_row3_col4\" class=\"data row3 col4\" >4</td>\n",
       "    </tr>\n",
       "    <tr>\n",
       "      <th id=\"T_0d2d0_level0_row4\" class=\"row_heading level0 row4\" >131</th>\n",
       "      <td id=\"T_0d2d0_row4_col0\" class=\"data row4 col0\" >OISHI</td>\n",
       "      <td id=\"T_0d2d0_row4_col1\" class=\"data row4 col1\" >8087</td>\n",
       "      <td id=\"T_0d2d0_row4_col2\" class=\"data row4 col2\" >10</td>\n",
       "      <td id=\"T_0d2d0_row4_col3\" class=\"data row4 col3\" >1,028,962</td>\n",
       "      <td id=\"T_0d2d0_row4_col4\" class=\"data row4 col4\" >4</td>\n",
       "    </tr>\n",
       "  </tbody>\n",
       "</table>\n"
      ],
      "text/plain": [
       "<pandas.io.formats.style.Styler at 0x1ffd6150550>"
      ]
     },
     "execution_count": 5,
     "metadata": {},
     "output_type": "execute_result"
    }
   ],
   "source": [
    "dfc = pd.read_sql(sql, conlt)\n",
    "dfc[\"Counter\"] = 1\n",
    "dfc_grp = dfc.groupby([\"name\"], as_index=False).sum()\n",
    "dfc_grp = dfc_grp[dfc_grp[\"Counter\"] == 4]\n",
    "dfc_grp.head().style.format(format_dict)"
   ]
  },
  {
   "cell_type": "code",
   "execution_count": 6,
   "metadata": {},
   "outputs": [
    {
     "name": "stdout",
     "output_type": "stream",
     "text": [
      "\n",
      "SELECT name,year,quarter,q_amt\n",
      "FROM epss \n",
      "WHERE (year = 2022-1 AND quarter <= 3) \n",
      "OR (year = 2022-2 AND quarter >= 3+1)\n",
      "ORDER BY year DESC, quarter DESC\n",
      "\n"
     ]
    }
   ],
   "source": [
    "sql = \"\"\"\n",
    "SELECT name,year,quarter,q_amt\n",
    "FROM epss \n",
    "WHERE (year = %s-1 AND quarter <= %s) \n",
    "OR (year = %s-2 AND quarter >= %s+1)\n",
    "ORDER BY year DESC, quarter DESC\n",
    "\"\"\"\n",
    "sql = sql % (year, quarter, year, quarter)\n",
    "print(sql)"
   ]
  },
  {
   "cell_type": "code",
   "execution_count": 7,
   "metadata": {},
   "outputs": [
    {
     "data": {
      "text/html": [
       "<style type=\"text/css\">\n",
       "</style>\n",
       "<table id=\"T_9fe85_\">\n",
       "  <thead>\n",
       "    <tr>\n",
       "      <th class=\"blank level0\" >&nbsp;</th>\n",
       "      <th class=\"col_heading level0 col0\" >name</th>\n",
       "      <th class=\"col_heading level0 col1\" >year</th>\n",
       "      <th class=\"col_heading level0 col2\" >quarter</th>\n",
       "      <th class=\"col_heading level0 col3\" >q_amt</th>\n",
       "      <th class=\"col_heading level0 col4\" >Counter</th>\n",
       "    </tr>\n",
       "  </thead>\n",
       "  <tbody>\n",
       "    <tr>\n",
       "      <th id=\"T_9fe85_level0_row0\" class=\"row_heading level0 row0\" >0</th>\n",
       "      <td id=\"T_9fe85_row0_col0\" class=\"data row0 col0\" >ACE</td>\n",
       "      <td id=\"T_9fe85_row0_col1\" class=\"data row0 col1\" >8083</td>\n",
       "      <td id=\"T_9fe85_row0_col2\" class=\"data row0 col2\" >10</td>\n",
       "      <td id=\"T_9fe85_row0_col3\" class=\"data row0 col3\" >1,392,091</td>\n",
       "      <td id=\"T_9fe85_row0_col4\" class=\"data row0 col4\" >4</td>\n",
       "    </tr>\n",
       "    <tr>\n",
       "      <th id=\"T_9fe85_level0_row1\" class=\"row_heading level0 row1\" >1</th>\n",
       "      <td id=\"T_9fe85_row1_col0\" class=\"data row1 col0\" >ADVANC</td>\n",
       "      <td id=\"T_9fe85_row1_col1\" class=\"data row1 col1\" >8083</td>\n",
       "      <td id=\"T_9fe85_row1_col2\" class=\"data row1 col2\" >10</td>\n",
       "      <td id=\"T_9fe85_row1_col3\" class=\"data row1 col3\" >27,223,149</td>\n",
       "      <td id=\"T_9fe85_row1_col4\" class=\"data row1 col4\" >4</td>\n",
       "    </tr>\n",
       "    <tr>\n",
       "      <th id=\"T_9fe85_level0_row2\" class=\"row_heading level0 row2\" >2</th>\n",
       "      <td id=\"T_9fe85_row2_col0\" class=\"data row2 col0\" >AEONTS</td>\n",
       "      <td id=\"T_9fe85_row2_col1\" class=\"data row2 col1\" >8083</td>\n",
       "      <td id=\"T_9fe85_row2_col2\" class=\"data row2 col2\" >10</td>\n",
       "      <td id=\"T_9fe85_row2_col3\" class=\"data row2 col3\" >3,826,113</td>\n",
       "      <td id=\"T_9fe85_row2_col4\" class=\"data row2 col4\" >4</td>\n",
       "    </tr>\n",
       "    <tr>\n",
       "      <th id=\"T_9fe85_level0_row3\" class=\"row_heading level0 row3\" >3</th>\n",
       "      <td id=\"T_9fe85_row3_col0\" class=\"data row3 col0\" >AH</td>\n",
       "      <td id=\"T_9fe85_row3_col1\" class=\"data row3 col1\" >8083</td>\n",
       "      <td id=\"T_9fe85_row3_col2\" class=\"data row3 col2\" >10</td>\n",
       "      <td id=\"T_9fe85_row3_col3\" class=\"data row3 col3\" >1,041,977</td>\n",
       "      <td id=\"T_9fe85_row3_col4\" class=\"data row3 col4\" >4</td>\n",
       "    </tr>\n",
       "    <tr>\n",
       "      <th id=\"T_9fe85_level0_row4\" class=\"row_heading level0 row4\" >4</th>\n",
       "      <td id=\"T_9fe85_row4_col0\" class=\"data row4 col0\" >AIE</td>\n",
       "      <td id=\"T_9fe85_row4_col1\" class=\"data row4 col1\" >8083</td>\n",
       "      <td id=\"T_9fe85_row4_col2\" class=\"data row4 col2\" >10</td>\n",
       "      <td id=\"T_9fe85_row4_col3\" class=\"data row4 col3\" >522,478</td>\n",
       "      <td id=\"T_9fe85_row4_col4\" class=\"data row4 col4\" >4</td>\n",
       "    </tr>\n",
       "  </tbody>\n",
       "</table>\n"
      ],
      "text/plain": [
       "<pandas.io.formats.style.Styler at 0x1ffd94b0d90>"
      ]
     },
     "execution_count": 7,
     "metadata": {},
     "output_type": "execute_result"
    }
   ],
   "source": [
    "dfp = pd.read_sql(sql, conlt)\n",
    "dfp[\"Counter\"] = 1\n",
    "dfp_grp = dfp.groupby([\"name\"], as_index=False).sum()\n",
    "dfp_grp = dfp_grp[dfp_grp[\"Counter\"] == 4]\n",
    "dfp_grp.head().style.format(format_dict)"
   ]
  },
  {
   "cell_type": "code",
   "execution_count": 8,
   "metadata": {},
   "outputs": [
    {
     "data": {
      "text/html": [
       "<style type=\"text/css\">\n",
       "</style>\n",
       "<table id=\"T_85065_\">\n",
       "  <thead>\n",
       "    <tr>\n",
       "      <th class=\"blank level0\" >&nbsp;</th>\n",
       "      <th class=\"col_heading level0 col0\" >name</th>\n",
       "      <th class=\"col_heading level0 col1\" >year</th>\n",
       "      <th class=\"col_heading level0 col2\" >quarter</th>\n",
       "      <th class=\"col_heading level0 col3\" >q_amt_c</th>\n",
       "      <th class=\"col_heading level0 col4\" >q_amt_p</th>\n",
       "      <th class=\"col_heading level0 col5\" >inc_profit</th>\n",
       "      <th class=\"col_heading level0 col6\" >percent</th>\n",
       "    </tr>\n",
       "  </thead>\n",
       "  <tbody>\n",
       "    <tr>\n",
       "      <th id=\"T_85065_level0_row0\" class=\"row_heading level0 row0\" >0</th>\n",
       "      <td id=\"T_85065_row0_col0\" class=\"data row0 col0\" >AOT</td>\n",
       "      <td id=\"T_85065_row0_col1\" class=\"data row0 col1\" >2022</td>\n",
       "      <td id=\"T_85065_row0_col2\" class=\"data row0 col2\" >Q3</td>\n",
       "      <td id=\"T_85065_row0_col3\" class=\"data row0 col3\" >-14,912,794</td>\n",
       "      <td id=\"T_85065_row0_col4\" class=\"data row0 col4\" >-14,892,318</td>\n",
       "      <td id=\"T_85065_row0_col5\" class=\"data row0 col5\" >-20,476</td>\n",
       "      <td id=\"T_85065_row0_col6\" class=\"data row0 col6\" >-0.14%</td>\n",
       "    </tr>\n",
       "    <tr>\n",
       "      <th id=\"T_85065_level0_row1\" class=\"row_heading level0 row1\" >1</th>\n",
       "      <td id=\"T_85065_row1_col0\" class=\"data row1 col0\" >FPT</td>\n",
       "      <td id=\"T_85065_row1_col1\" class=\"data row1 col1\" >2022</td>\n",
       "      <td id=\"T_85065_row1_col2\" class=\"data row1 col2\" >Q3</td>\n",
       "      <td id=\"T_85065_row1_col3\" class=\"data row1 col3\" >1,901,129</td>\n",
       "      <td id=\"T_85065_row1_col4\" class=\"data row1 col4\" >2,714,180</td>\n",
       "      <td id=\"T_85065_row1_col5\" class=\"data row1 col5\" >-813,051</td>\n",
       "      <td id=\"T_85065_row1_col6\" class=\"data row1 col6\" >-29.96%</td>\n",
       "    </tr>\n",
       "    <tr>\n",
       "      <th id=\"T_85065_level0_row2\" class=\"row_heading level0 row2\" >2</th>\n",
       "      <td id=\"T_85065_row2_col0\" class=\"data row2 col0\" >GVREIT</td>\n",
       "      <td id=\"T_85065_row2_col1\" class=\"data row2 col1\" >2022</td>\n",
       "      <td id=\"T_85065_row2_col2\" class=\"data row2 col2\" >Q3</td>\n",
       "      <td id=\"T_85065_row2_col3\" class=\"data row2 col3\" >668,011</td>\n",
       "      <td id=\"T_85065_row2_col4\" class=\"data row2 col4\" >823,986</td>\n",
       "      <td id=\"T_85065_row2_col5\" class=\"data row2 col5\" >-155,975</td>\n",
       "      <td id=\"T_85065_row2_col6\" class=\"data row2 col6\" >-18.93%</td>\n",
       "    </tr>\n",
       "    <tr>\n",
       "      <th id=\"T_85065_level0_row3\" class=\"row_heading level0 row3\" >3</th>\n",
       "      <td id=\"T_85065_row3_col0\" class=\"data row3 col0\" >MC</td>\n",
       "      <td id=\"T_85065_row3_col1\" class=\"data row3 col1\" >2022</td>\n",
       "      <td id=\"T_85065_row3_col2\" class=\"data row3 col2\" >Q3</td>\n",
       "      <td id=\"T_85065_row3_col3\" class=\"data row3 col3\" >381,632</td>\n",
       "      <td id=\"T_85065_row3_col4\" class=\"data row3 col4\" >466,243</td>\n",
       "      <td id=\"T_85065_row3_col5\" class=\"data row3 col5\" >-84,611</td>\n",
       "      <td id=\"T_85065_row3_col6\" class=\"data row3 col6\" >-18.15%</td>\n",
       "    </tr>\n",
       "    <tr>\n",
       "      <th id=\"T_85065_level0_row4\" class=\"row_heading level0 row4\" >4</th>\n",
       "      <td id=\"T_85065_row4_col0\" class=\"data row4 col0\" >OISHI</td>\n",
       "      <td id=\"T_85065_row4_col1\" class=\"data row4 col1\" >2022</td>\n",
       "      <td id=\"T_85065_row4_col2\" class=\"data row4 col2\" >Q3</td>\n",
       "      <td id=\"T_85065_row4_col3\" class=\"data row4 col3\" >1,028,962</td>\n",
       "      <td id=\"T_85065_row4_col4\" class=\"data row4 col4\" >730,662</td>\n",
       "      <td id=\"T_85065_row4_col5\" class=\"data row4 col5\" >298,300</td>\n",
       "      <td id=\"T_85065_row4_col6\" class=\"data row4 col6\" >40.83%</td>\n",
       "    </tr>\n",
       "  </tbody>\n",
       "</table>\n"
      ],
      "text/plain": [
       "<pandas.io.formats.style.Styler at 0x1ffd8b7b160>"
      ]
     },
     "execution_count": 8,
     "metadata": {},
     "output_type": "execute_result"
    }
   ],
   "source": [
    "dfm = pd.merge(dfc_grp, dfp_grp, on=\"name\", suffixes=([\"_c\", \"_p\"]), how=\"inner\")\n",
    "dfm[\"inc_profit\"] = dfm[\"q_amt_c\"] - dfm[\"q_amt_p\"]\n",
    "dfm[\"percent\"] = round(dfm[\"inc_profit\"] / abs(dfm[\"q_amt_p\"]) * 100, 2)\n",
    "dfm[\"year\"] = year\n",
    "dfm[\"quarter\"] = \"Q\" + str(quarter)\n",
    "df_percent = dfm[cols]\n",
    "df_percent.head().style.format(format_dict)"
   ]
  },
  {
   "cell_type": "code",
   "execution_count": 9,
   "metadata": {},
   "outputs": [
    {
     "name": "stdout",
     "output_type": "stream",
     "text": [
      "\n",
      "DELETE FROM yr_profits \n",
      "WHERE year = 2022 AND quarter = \"Q3\"\n"
     ]
    },
    {
     "data": {
      "text/plain": [
       "3"
      ]
     },
     "execution_count": 9,
     "metadata": {},
     "output_type": "execute_result"
    }
   ],
   "source": [
    "sql = '''\n",
    "DELETE FROM yr_profits \n",
    "WHERE year = %s AND quarter = \"Q%s\"'''\n",
    "sql = sql % (year, quarter)\n",
    "print(sql)\n",
    "\n",
    "rp = conlt.execute(sql)\n",
    "rp.rowcount"
   ]
  },
  {
   "cell_type": "code",
   "execution_count": 10,
   "metadata": {},
   "outputs": [
    {
     "data": {
      "text/plain": [
       "6"
      ]
     },
     "execution_count": 10,
     "metadata": {},
     "output_type": "execute_result"
    }
   ],
   "source": [
    "sql = \"SELECT name, id FROM tickers\"\n",
    "tickers = pd.read_sql(sql, conlt)\n",
    "df_ins = pd.merge(df_percent, tickers, on=\"name\", how=\"inner\")\n",
    "rcds = df_ins.values.tolist()\n",
    "len(rcds)"
   ]
  },
  {
   "cell_type": "code",
   "execution_count": 11,
   "metadata": {
    "scrolled": false
   },
   "outputs": [],
   "source": [
    "#for rcd in rcds:\n",
    "#    print(rcd)"
   ]
  },
  {
   "cell_type": "code",
   "execution_count": 12,
   "metadata": {},
   "outputs": [
    {
     "name": "stdout",
     "output_type": "stream",
     "text": [
      "\n",
      "INSERT INTO yr_profits (name, year, quarter, latest_amt, previous_amt, inc_amt, inc_pct, ticker_id) \n",
      "VALUES (?, ?, ?, ?, ?, ?, ?, ?)\n"
     ]
    }
   ],
   "source": [
    "sql = \"\"\"\n",
    "INSERT INTO yr_profits (name, year, quarter, latest_amt, previous_amt, inc_amt, inc_pct, ticker_id) \n",
    "VALUES (?, ?, ?, ?, ?, ?, ?, ?)\"\"\"\n",
    "print(sql)"
   ]
  },
  {
   "cell_type": "code",
   "execution_count": 13,
   "metadata": {},
   "outputs": [],
   "source": [
    "for rcd in rcds:\n",
    "    conlt.execute(sql, rcd)"
   ]
  },
  {
   "cell_type": "markdown",
   "metadata": {},
   "source": [
    "### End of loop"
   ]
  },
  {
   "cell_type": "code",
   "execution_count": 14,
   "metadata": {},
   "outputs": [
    {
     "data": {
      "text/html": [
       "<style type=\"text/css\">\n",
       "</style>\n",
       "<table id=\"T_57061_\">\n",
       "  <thead>\n",
       "    <tr>\n",
       "      <th class=\"blank level0\" >&nbsp;</th>\n",
       "      <th class=\"col_heading level0 col0\" >name</th>\n",
       "      <th class=\"col_heading level0 col1\" >year</th>\n",
       "      <th class=\"col_heading level0 col2\" >quarter</th>\n",
       "      <th class=\"col_heading level0 col3\" >q_amt_c</th>\n",
       "      <th class=\"col_heading level0 col4\" >q_amt_p</th>\n",
       "      <th class=\"col_heading level0 col5\" >inc_profit</th>\n",
       "      <th class=\"col_heading level0 col6\" >percent</th>\n",
       "    </tr>\n",
       "  </thead>\n",
       "  <tbody>\n",
       "    <tr>\n",
       "      <th id=\"T_57061_level0_row0\" class=\"row_heading level0 row0\" >1</th>\n",
       "      <td id=\"T_57061_row0_col0\" class=\"data row0 col0\" >FPT</td>\n",
       "      <td id=\"T_57061_row0_col1\" class=\"data row0 col1\" >2022</td>\n",
       "      <td id=\"T_57061_row0_col2\" class=\"data row0 col2\" >Q3</td>\n",
       "      <td id=\"T_57061_row0_col3\" class=\"data row0 col3\" >1,901,129</td>\n",
       "      <td id=\"T_57061_row0_col4\" class=\"data row0 col4\" >2,714,180</td>\n",
       "      <td id=\"T_57061_row0_col5\" class=\"data row0 col5\" >-813,051</td>\n",
       "      <td id=\"T_57061_row0_col6\" class=\"data row0 col6\" >-29.96%</td>\n",
       "    </tr>\n",
       "    <tr>\n",
       "      <th id=\"T_57061_level0_row1\" class=\"row_heading level0 row1\" >2</th>\n",
       "      <td id=\"T_57061_row1_col0\" class=\"data row1 col0\" >GVREIT</td>\n",
       "      <td id=\"T_57061_row1_col1\" class=\"data row1 col1\" >2022</td>\n",
       "      <td id=\"T_57061_row1_col2\" class=\"data row1 col2\" >Q3</td>\n",
       "      <td id=\"T_57061_row1_col3\" class=\"data row1 col3\" >668,011</td>\n",
       "      <td id=\"T_57061_row1_col4\" class=\"data row1 col4\" >823,986</td>\n",
       "      <td id=\"T_57061_row1_col5\" class=\"data row1 col5\" >-155,975</td>\n",
       "      <td id=\"T_57061_row1_col6\" class=\"data row1 col6\" >-18.93%</td>\n",
       "    </tr>\n",
       "    <tr>\n",
       "      <th id=\"T_57061_level0_row2\" class=\"row_heading level0 row2\" >4</th>\n",
       "      <td id=\"T_57061_row2_col0\" class=\"data row2 col0\" >OISHI</td>\n",
       "      <td id=\"T_57061_row2_col1\" class=\"data row2 col1\" >2022</td>\n",
       "      <td id=\"T_57061_row2_col2\" class=\"data row2 col2\" >Q3</td>\n",
       "      <td id=\"T_57061_row2_col3\" class=\"data row2 col3\" >1,028,962</td>\n",
       "      <td id=\"T_57061_row2_col4\" class=\"data row2 col4\" >730,662</td>\n",
       "      <td id=\"T_57061_row2_col5\" class=\"data row2 col5\" >298,300</td>\n",
       "      <td id=\"T_57061_row2_col6\" class=\"data row2 col6\" >40.83%</td>\n",
       "    </tr>\n",
       "    <tr>\n",
       "      <th id=\"T_57061_level0_row3\" class=\"row_heading level0 row3\" >5</th>\n",
       "      <td id=\"T_57061_row3_col0\" class=\"data row3 col0\" >TFFIF</td>\n",
       "      <td id=\"T_57061_row3_col1\" class=\"data row3 col1\" >2022</td>\n",
       "      <td id=\"T_57061_row3_col2\" class=\"data row3 col2\" >Q3</td>\n",
       "      <td id=\"T_57061_row3_col3\" class=\"data row3 col3\" >1,390,654</td>\n",
       "      <td id=\"T_57061_row3_col4\" class=\"data row3 col4\" >1,086,172</td>\n",
       "      <td id=\"T_57061_row3_col5\" class=\"data row3 col5\" >304,482</td>\n",
       "      <td id=\"T_57061_row3_col6\" class=\"data row3 col6\" >28.03%</td>\n",
       "    </tr>\n",
       "  </tbody>\n",
       "</table>\n"
      ],
      "text/plain": [
       "<pandas.io.formats.style.Styler at 0x1ffd9c48f10>"
      ]
     },
     "execution_count": 14,
     "metadata": {},
     "output_type": "execute_result"
    }
   ],
   "source": [
    "criteria_1 = df_ins.q_amt_c > 440_000\n",
    "df_ins.loc[criteria_1, cols].head().style.format(format_dict)"
   ]
  },
  {
   "cell_type": "code",
   "execution_count": 15,
   "metadata": {},
   "outputs": [
    {
     "data": {
      "text/html": [
       "<style type=\"text/css\">\n",
       "</style>\n",
       "<table id=\"T_24bee_\">\n",
       "  <thead>\n",
       "    <tr>\n",
       "      <th class=\"blank level0\" >&nbsp;</th>\n",
       "      <th class=\"col_heading level0 col0\" >name</th>\n",
       "      <th class=\"col_heading level0 col1\" >year</th>\n",
       "      <th class=\"col_heading level0 col2\" >quarter</th>\n",
       "      <th class=\"col_heading level0 col3\" >q_amt_c</th>\n",
       "      <th class=\"col_heading level0 col4\" >q_amt_p</th>\n",
       "      <th class=\"col_heading level0 col5\" >inc_profit</th>\n",
       "      <th class=\"col_heading level0 col6\" >percent</th>\n",
       "    </tr>\n",
       "  </thead>\n",
       "  <tbody>\n",
       "    <tr>\n",
       "      <th id=\"T_24bee_level0_row0\" class=\"row_heading level0 row0\" >1</th>\n",
       "      <td id=\"T_24bee_row0_col0\" class=\"data row0 col0\" >FPT</td>\n",
       "      <td id=\"T_24bee_row0_col1\" class=\"data row0 col1\" >2022</td>\n",
       "      <td id=\"T_24bee_row0_col2\" class=\"data row0 col2\" >Q3</td>\n",
       "      <td id=\"T_24bee_row0_col3\" class=\"data row0 col3\" >1,901,129</td>\n",
       "      <td id=\"T_24bee_row0_col4\" class=\"data row0 col4\" >2,714,180</td>\n",
       "      <td id=\"T_24bee_row0_col5\" class=\"data row0 col5\" >-813,051</td>\n",
       "      <td id=\"T_24bee_row0_col6\" class=\"data row0 col6\" >-29.96%</td>\n",
       "    </tr>\n",
       "    <tr>\n",
       "      <th id=\"T_24bee_level0_row1\" class=\"row_heading level0 row1\" >2</th>\n",
       "      <td id=\"T_24bee_row1_col0\" class=\"data row1 col0\" >GVREIT</td>\n",
       "      <td id=\"T_24bee_row1_col1\" class=\"data row1 col1\" >2022</td>\n",
       "      <td id=\"T_24bee_row1_col2\" class=\"data row1 col2\" >Q3</td>\n",
       "      <td id=\"T_24bee_row1_col3\" class=\"data row1 col3\" >668,011</td>\n",
       "      <td id=\"T_24bee_row1_col4\" class=\"data row1 col4\" >823,986</td>\n",
       "      <td id=\"T_24bee_row1_col5\" class=\"data row1 col5\" >-155,975</td>\n",
       "      <td id=\"T_24bee_row1_col6\" class=\"data row1 col6\" >-18.93%</td>\n",
       "    </tr>\n",
       "    <tr>\n",
       "      <th id=\"T_24bee_level0_row2\" class=\"row_heading level0 row2\" >3</th>\n",
       "      <td id=\"T_24bee_row2_col0\" class=\"data row2 col0\" >MC</td>\n",
       "      <td id=\"T_24bee_row2_col1\" class=\"data row2 col1\" >2022</td>\n",
       "      <td id=\"T_24bee_row2_col2\" class=\"data row2 col2\" >Q3</td>\n",
       "      <td id=\"T_24bee_row2_col3\" class=\"data row2 col3\" >381,632</td>\n",
       "      <td id=\"T_24bee_row2_col4\" class=\"data row2 col4\" >466,243</td>\n",
       "      <td id=\"T_24bee_row2_col5\" class=\"data row2 col5\" >-84,611</td>\n",
       "      <td id=\"T_24bee_row2_col6\" class=\"data row2 col6\" >-18.15%</td>\n",
       "    </tr>\n",
       "    <tr>\n",
       "      <th id=\"T_24bee_level0_row3\" class=\"row_heading level0 row3\" >4</th>\n",
       "      <td id=\"T_24bee_row3_col0\" class=\"data row3 col0\" >OISHI</td>\n",
       "      <td id=\"T_24bee_row3_col1\" class=\"data row3 col1\" >2022</td>\n",
       "      <td id=\"T_24bee_row3_col2\" class=\"data row3 col2\" >Q3</td>\n",
       "      <td id=\"T_24bee_row3_col3\" class=\"data row3 col3\" >1,028,962</td>\n",
       "      <td id=\"T_24bee_row3_col4\" class=\"data row3 col4\" >730,662</td>\n",
       "      <td id=\"T_24bee_row3_col5\" class=\"data row3 col5\" >298,300</td>\n",
       "      <td id=\"T_24bee_row3_col6\" class=\"data row3 col6\" >40.83%</td>\n",
       "    </tr>\n",
       "    <tr>\n",
       "      <th id=\"T_24bee_level0_row4\" class=\"row_heading level0 row4\" >5</th>\n",
       "      <td id=\"T_24bee_row4_col0\" class=\"data row4 col0\" >TFFIF</td>\n",
       "      <td id=\"T_24bee_row4_col1\" class=\"data row4 col1\" >2022</td>\n",
       "      <td id=\"T_24bee_row4_col2\" class=\"data row4 col2\" >Q3</td>\n",
       "      <td id=\"T_24bee_row4_col3\" class=\"data row4 col3\" >1,390,654</td>\n",
       "      <td id=\"T_24bee_row4_col4\" class=\"data row4 col4\" >1,086,172</td>\n",
       "      <td id=\"T_24bee_row4_col5\" class=\"data row4 col5\" >304,482</td>\n",
       "      <td id=\"T_24bee_row4_col6\" class=\"data row4 col6\" >28.03%</td>\n",
       "    </tr>\n",
       "  </tbody>\n",
       "</table>\n"
      ],
      "text/plain": [
       "<pandas.io.formats.style.Styler at 0x1ffd9c48af0>"
      ]
     },
     "execution_count": 15,
     "metadata": {},
     "output_type": "execute_result"
    }
   ],
   "source": [
    "criteria_2 = df_ins.q_amt_p > 400_000\n",
    "df_ins.loc[criteria_2, cols].head().style.format(format_dict)"
   ]
  },
  {
   "cell_type": "code",
   "execution_count": 16,
   "metadata": {},
   "outputs": [
    {
     "data": {
      "text/html": [
       "<style type=\"text/css\">\n",
       "</style>\n",
       "<table id=\"T_cb1e8_\">\n",
       "  <thead>\n",
       "    <tr>\n",
       "      <th class=\"blank level0\" >&nbsp;</th>\n",
       "      <th class=\"col_heading level0 col0\" >name</th>\n",
       "      <th class=\"col_heading level0 col1\" >year</th>\n",
       "      <th class=\"col_heading level0 col2\" >quarter</th>\n",
       "      <th class=\"col_heading level0 col3\" >q_amt_c</th>\n",
       "      <th class=\"col_heading level0 col4\" >q_amt_p</th>\n",
       "      <th class=\"col_heading level0 col5\" >inc_profit</th>\n",
       "      <th class=\"col_heading level0 col6\" >percent</th>\n",
       "    </tr>\n",
       "  </thead>\n",
       "  <tbody>\n",
       "    <tr>\n",
       "      <th id=\"T_cb1e8_level0_row0\" class=\"row_heading level0 row0\" >4</th>\n",
       "      <td id=\"T_cb1e8_row0_col0\" class=\"data row0 col0\" >OISHI</td>\n",
       "      <td id=\"T_cb1e8_row0_col1\" class=\"data row0 col1\" >2022</td>\n",
       "      <td id=\"T_cb1e8_row0_col2\" class=\"data row0 col2\" >Q3</td>\n",
       "      <td id=\"T_cb1e8_row0_col3\" class=\"data row0 col3\" >1,028,962</td>\n",
       "      <td id=\"T_cb1e8_row0_col4\" class=\"data row0 col4\" >730,662</td>\n",
       "      <td id=\"T_cb1e8_row0_col5\" class=\"data row0 col5\" >298,300</td>\n",
       "      <td id=\"T_cb1e8_row0_col6\" class=\"data row0 col6\" >40.83%</td>\n",
       "    </tr>\n",
       "    <tr>\n",
       "      <th id=\"T_cb1e8_level0_row1\" class=\"row_heading level0 row1\" >5</th>\n",
       "      <td id=\"T_cb1e8_row1_col0\" class=\"data row1 col0\" >TFFIF</td>\n",
       "      <td id=\"T_cb1e8_row1_col1\" class=\"data row1 col1\" >2022</td>\n",
       "      <td id=\"T_cb1e8_row1_col2\" class=\"data row1 col2\" >Q3</td>\n",
       "      <td id=\"T_cb1e8_row1_col3\" class=\"data row1 col3\" >1,390,654</td>\n",
       "      <td id=\"T_cb1e8_row1_col4\" class=\"data row1 col4\" >1,086,172</td>\n",
       "      <td id=\"T_cb1e8_row1_col5\" class=\"data row1 col5\" >304,482</td>\n",
       "      <td id=\"T_cb1e8_row1_col6\" class=\"data row1 col6\" >28.03%</td>\n",
       "    </tr>\n",
       "  </tbody>\n",
       "</table>\n"
      ],
      "text/plain": [
       "<pandas.io.formats.style.Styler at 0x1ffd9bb2bb0>"
      ]
     },
     "execution_count": 16,
     "metadata": {},
     "output_type": "execute_result"
    }
   ],
   "source": [
    "criteria_3 = df_ins.percent > 10.00\n",
    "df_ins.loc[criteria_3, cols].head().style.format(format_dict)"
   ]
  },
  {
   "cell_type": "code",
   "execution_count": 17,
   "metadata": {},
   "outputs": [
    {
     "data": {
      "text/html": [
       "<style type=\"text/css\">\n",
       "</style>\n",
       "<table id=\"T_3623c_\">\n",
       "  <thead>\n",
       "    <tr>\n",
       "      <th class=\"blank level0\" >&nbsp;</th>\n",
       "      <th class=\"col_heading level0 col0\" >name</th>\n",
       "      <th class=\"col_heading level0 col1\" >year</th>\n",
       "      <th class=\"col_heading level0 col2\" >quarter</th>\n",
       "      <th class=\"col_heading level0 col3\" >q_amt_c</th>\n",
       "      <th class=\"col_heading level0 col4\" >q_amt_p</th>\n",
       "      <th class=\"col_heading level0 col5\" >inc_profit</th>\n",
       "      <th class=\"col_heading level0 col6\" >percent</th>\n",
       "    </tr>\n",
       "  </thead>\n",
       "  <tbody>\n",
       "    <tr>\n",
       "      <th id=\"T_3623c_level0_row0\" class=\"row_heading level0 row0\" >4</th>\n",
       "      <td id=\"T_3623c_row0_col0\" class=\"data row0 col0\" >OISHI</td>\n",
       "      <td id=\"T_3623c_row0_col1\" class=\"data row0 col1\" >2022</td>\n",
       "      <td id=\"T_3623c_row0_col2\" class=\"data row0 col2\" >Q3</td>\n",
       "      <td id=\"T_3623c_row0_col3\" class=\"data row0 col3\" >1,028,962</td>\n",
       "      <td id=\"T_3623c_row0_col4\" class=\"data row0 col4\" >730,662</td>\n",
       "      <td id=\"T_3623c_row0_col5\" class=\"data row0 col5\" >298,300</td>\n",
       "      <td id=\"T_3623c_row0_col6\" class=\"data row0 col6\" >40.83%</td>\n",
       "    </tr>\n",
       "    <tr>\n",
       "      <th id=\"T_3623c_level0_row1\" class=\"row_heading level0 row1\" >5</th>\n",
       "      <td id=\"T_3623c_row1_col0\" class=\"data row1 col0\" >TFFIF</td>\n",
       "      <td id=\"T_3623c_row1_col1\" class=\"data row1 col1\" >2022</td>\n",
       "      <td id=\"T_3623c_row1_col2\" class=\"data row1 col2\" >Q3</td>\n",
       "      <td id=\"T_3623c_row1_col3\" class=\"data row1 col3\" >1,390,654</td>\n",
       "      <td id=\"T_3623c_row1_col4\" class=\"data row1 col4\" >1,086,172</td>\n",
       "      <td id=\"T_3623c_row1_col5\" class=\"data row1 col5\" >304,482</td>\n",
       "      <td id=\"T_3623c_row1_col6\" class=\"data row1 col6\" >28.03%</td>\n",
       "    </tr>\n",
       "  </tbody>\n",
       "</table>\n"
      ],
      "text/plain": [
       "<pandas.io.formats.style.Styler at 0x1ffd9c48a30>"
      ]
     },
     "execution_count": 17,
     "metadata": {},
     "output_type": "execute_result"
    }
   ],
   "source": [
    "final_criteria = criteria_1 & criteria_2 & criteria_3\n",
    "df_ins.loc[final_criteria, cols].sort_values(by=[\"percent\"], ascending=[False]).head().style.format(format_dict)"
   ]
  },
  {
   "cell_type": "code",
   "execution_count": 18,
   "metadata": {},
   "outputs": [
    {
     "data": {
      "text/html": [
       "<style type=\"text/css\">\n",
       "</style>\n",
       "<table id=\"T_c22f7_\">\n",
       "  <thead>\n",
       "    <tr>\n",
       "      <th class=\"blank level0\" >&nbsp;</th>\n",
       "      <th class=\"col_heading level0 col0\" >name</th>\n",
       "      <th class=\"col_heading level0 col1\" >year</th>\n",
       "      <th class=\"col_heading level0 col2\" >quarter</th>\n",
       "      <th class=\"col_heading level0 col3\" >q_amt_c</th>\n",
       "      <th class=\"col_heading level0 col4\" >q_amt_p</th>\n",
       "      <th class=\"col_heading level0 col5\" >inc_profit</th>\n",
       "      <th class=\"col_heading level0 col6\" >percent</th>\n",
       "    </tr>\n",
       "  </thead>\n",
       "  <tbody>\n",
       "    <tr>\n",
       "      <th id=\"T_c22f7_level0_row0\" class=\"row_heading level0 row0\" >4</th>\n",
       "      <td id=\"T_c22f7_row0_col0\" class=\"data row0 col0\" >OISHI</td>\n",
       "      <td id=\"T_c22f7_row0_col1\" class=\"data row0 col1\" >2022</td>\n",
       "      <td id=\"T_c22f7_row0_col2\" class=\"data row0 col2\" >Q3</td>\n",
       "      <td id=\"T_c22f7_row0_col3\" class=\"data row0 col3\" >1,028,962</td>\n",
       "      <td id=\"T_c22f7_row0_col4\" class=\"data row0 col4\" >730,662</td>\n",
       "      <td id=\"T_c22f7_row0_col5\" class=\"data row0 col5\" >298,300</td>\n",
       "      <td id=\"T_c22f7_row0_col6\" class=\"data row0 col6\" >40.83%</td>\n",
       "    </tr>\n",
       "    <tr>\n",
       "      <th id=\"T_c22f7_level0_row1\" class=\"row_heading level0 row1\" >5</th>\n",
       "      <td id=\"T_c22f7_row1_col0\" class=\"data row1 col0\" >TFFIF</td>\n",
       "      <td id=\"T_c22f7_row1_col1\" class=\"data row1 col1\" >2022</td>\n",
       "      <td id=\"T_c22f7_row1_col2\" class=\"data row1 col2\" >Q3</td>\n",
       "      <td id=\"T_c22f7_row1_col3\" class=\"data row1 col3\" >1,390,654</td>\n",
       "      <td id=\"T_c22f7_row1_col4\" class=\"data row1 col4\" >1,086,172</td>\n",
       "      <td id=\"T_c22f7_row1_col5\" class=\"data row1 col5\" >304,482</td>\n",
       "      <td id=\"T_c22f7_row1_col6\" class=\"data row1 col6\" >28.03%</td>\n",
       "    </tr>\n",
       "  </tbody>\n",
       "</table>\n"
      ],
      "text/plain": [
       "<pandas.io.formats.style.Styler at 0x1ffd9c72370>"
      ]
     },
     "execution_count": 18,
     "metadata": {},
     "output_type": "execute_result"
    }
   ],
   "source": [
    "df_ins.loc[final_criteria, cols].sort_values(by=[\"name\"], ascending=[True]).head().style.format(format_dict)"
   ]
  },
  {
   "cell_type": "code",
   "execution_count": 19,
   "metadata": {},
   "outputs": [
    {
     "data": {
      "text/html": [
       "<style type=\"text/css\">\n",
       "</style>\n",
       "<table id=\"T_97d43_\">\n",
       "  <thead>\n",
       "    <tr>\n",
       "      <th class=\"blank level0\" >&nbsp;</th>\n",
       "      <th class=\"col_heading level0 col0\" >name</th>\n",
       "      <th class=\"col_heading level0 col1\" >year</th>\n",
       "      <th class=\"col_heading level0 col2\" >quarter</th>\n",
       "      <th class=\"col_heading level0 col3\" >q_amt_c</th>\n",
       "      <th class=\"col_heading level0 col4\" >q_amt_p</th>\n",
       "      <th class=\"col_heading level0 col5\" >inc_profit</th>\n",
       "      <th class=\"col_heading level0 col6\" >percent</th>\n",
       "    </tr>\n",
       "  </thead>\n",
       "  <tbody>\n",
       "    <tr>\n",
       "      <th id=\"T_97d43_level0_row0\" class=\"row_heading level0 row0\" >4</th>\n",
       "      <td id=\"T_97d43_row0_col0\" class=\"data row0 col0\" >OISHI</td>\n",
       "      <td id=\"T_97d43_row0_col1\" class=\"data row0 col1\" >2022</td>\n",
       "      <td id=\"T_97d43_row0_col2\" class=\"data row0 col2\" >Q3</td>\n",
       "      <td id=\"T_97d43_row0_col3\" class=\"data row0 col3\" >1,028,962</td>\n",
       "      <td id=\"T_97d43_row0_col4\" class=\"data row0 col4\" >730,662</td>\n",
       "      <td id=\"T_97d43_row0_col5\" class=\"data row0 col5\" >298,300</td>\n",
       "      <td id=\"T_97d43_row0_col6\" class=\"data row0 col6\" >40.83%</td>\n",
       "    </tr>\n",
       "    <tr>\n",
       "      <th id=\"T_97d43_level0_row1\" class=\"row_heading level0 row1\" >5</th>\n",
       "      <td id=\"T_97d43_row1_col0\" class=\"data row1 col0\" >TFFIF</td>\n",
       "      <td id=\"T_97d43_row1_col1\" class=\"data row1 col1\" >2022</td>\n",
       "      <td id=\"T_97d43_row1_col2\" class=\"data row1 col2\" >Q3</td>\n",
       "      <td id=\"T_97d43_row1_col3\" class=\"data row1 col3\" >1,390,654</td>\n",
       "      <td id=\"T_97d43_row1_col4\" class=\"data row1 col4\" >1,086,172</td>\n",
       "      <td id=\"T_97d43_row1_col5\" class=\"data row1 col5\" >304,482</td>\n",
       "      <td id=\"T_97d43_row1_col6\" class=\"data row1 col6\" >28.03%</td>\n",
       "    </tr>\n",
       "  </tbody>\n",
       "</table>\n"
      ],
      "text/plain": [
       "<pandas.io.formats.style.Styler at 0x1ffd9c78940>"
      ]
     },
     "execution_count": 19,
     "metadata": {},
     "output_type": "execute_result"
    }
   ],
   "source": [
    "df_ins.loc[final_criteria, cols].sort_values(by=[\"name\"], ascending=[True]).head().style.format(format_dict)"
   ]
  },
  {
   "cell_type": "code",
   "execution_count": null,
   "metadata": {},
   "outputs": [],
   "source": []
  }
 ],
 "metadata": {
  "anaconda-cloud": {},
  "kernelspec": {
   "display_name": "Python 3 (ipykernel)",
   "language": "python",
   "name": "python3"
  },
  "language_info": {
   "codemirror_mode": {
    "name": "ipython",
    "version": 3
   },
   "file_extension": ".py",
   "mimetype": "text/x-python",
   "name": "python",
   "nbconvert_exporter": "python",
   "pygments_lexer": "ipython3",
   "version": "3.8.11"
  }
 },
 "nbformat": 4,
 "nbformat_minor": 1
}
