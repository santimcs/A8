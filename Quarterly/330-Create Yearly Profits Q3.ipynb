{
 "cells": [
  {
   "cell_type": "markdown",
   "metadata": {},
   "source": [
    "### Restart and Run All Cells"
   ]
  },
  {
   "cell_type": "code",
   "execution_count": 1,
   "metadata": {},
   "outputs": [],
   "source": [
    "import pandas as pd\n",
    "from sqlalchemy import create_engine\n",
    "engine = create_engine(\"sqlite:///c:\\\\ruby\\\\portlt\\\\db\\\\development.sqlite3\")\n",
    "conlt = engine.connect()\n",
    "year = 2021\n",
    "quarter = 3"
   ]
  },
  {
   "cell_type": "code",
   "execution_count": 2,
   "metadata": {},
   "outputs": [],
   "source": [
    "cols = 'name year quarter q_amt_c q_amt_p inc_profit percent'.split()"
   ]
  },
  {
   "cell_type": "code",
   "execution_count": 3,
   "metadata": {},
   "outputs": [],
   "source": [
    "format_dict = {\n",
    "                'q_amt':'{:,}','q_amt_c':'{:,}','q_amt_p':'{:,}','inc_profit':'{:,}',\n",
    "                'yoy_gain':'{:,}','acc_gain':'{:,}',    \n",
    "                'q_eps':'{:.4f}','y_eps':'{:.4f}','aq_eps':'{:.4f}','ay_eps':'{:.4f}',\n",
    "                'percent':'{:.2f}%'\n",
    "              }"
   ]
  },
  {
   "cell_type": "code",
   "execution_count": 4,
   "metadata": {},
   "outputs": [
    {
     "name": "stdout",
     "output_type": "stream",
     "text": [
      "\n",
      "SELECT name,year,quarter,q_amt\n",
      "FROM epss \n",
      "WHERE (year = 2021 AND quarter <= 3) \n",
      "OR (year = 2021-1 AND quarter >= 3+1)\n",
      "ORDER BY year DESC, quarter DESC\n"
     ]
    }
   ],
   "source": [
    "sql = \"\"\"\n",
    "SELECT name,year,quarter,q_amt\n",
    "FROM epss \n",
    "WHERE (year = %s AND quarter <= %s) \n",
    "OR (year = %s-1 AND quarter >= %s+1)\n",
    "ORDER BY year DESC, quarter DESC\"\"\"\n",
    "sql = sql % (year, quarter, year, quarter)\n",
    "print(sql)"
   ]
  },
  {
   "cell_type": "code",
   "execution_count": 5,
   "metadata": {},
   "outputs": [
    {
     "data": {
      "text/html": [
       "<style type=\"text/css\">\n",
       "</style>\n",
       "<table id=\"T_92c57_\">\n",
       "  <thead>\n",
       "    <tr>\n",
       "      <th class=\"blank level0\" >&nbsp;</th>\n",
       "      <th class=\"col_heading level0 col0\" >name</th>\n",
       "      <th class=\"col_heading level0 col1\" >year</th>\n",
       "      <th class=\"col_heading level0 col2\" >quarter</th>\n",
       "      <th class=\"col_heading level0 col3\" >q_amt</th>\n",
       "      <th class=\"col_heading level0 col4\" >Counter</th>\n",
       "    </tr>\n",
       "  </thead>\n",
       "  <tbody>\n",
       "    <tr>\n",
       "      <th id=\"T_92c57_level0_row0\" class=\"row_heading level0 row0\" >0</th>\n",
       "      <td id=\"T_92c57_row0_col0\" class=\"data row0 col0\" >2S</td>\n",
       "      <td id=\"T_92c57_row0_col1\" class=\"data row0 col1\" >8083</td>\n",
       "      <td id=\"T_92c57_row0_col2\" class=\"data row0 col2\" >10</td>\n",
       "      <td id=\"T_92c57_row0_col3\" class=\"data row0 col3\" >788,297</td>\n",
       "      <td id=\"T_92c57_row0_col4\" class=\"data row0 col4\" >4</td>\n",
       "    </tr>\n",
       "    <tr>\n",
       "      <th id=\"T_92c57_level0_row1\" class=\"row_heading level0 row1\" >1</th>\n",
       "      <td id=\"T_92c57_row1_col0\" class=\"data row1 col0\" >AAV</td>\n",
       "      <td id=\"T_92c57_row1_col1\" class=\"data row1 col1\" >8083</td>\n",
       "      <td id=\"T_92c57_row1_col2\" class=\"data row1 col2\" >10</td>\n",
       "      <td id=\"T_92c57_row1_col3\" class=\"data row1 col3\" >-6,769,190</td>\n",
       "      <td id=\"T_92c57_row1_col4\" class=\"data row1 col4\" >4</td>\n",
       "    </tr>\n",
       "    <tr>\n",
       "      <th id=\"T_92c57_level0_row2\" class=\"row_heading level0 row2\" >2</th>\n",
       "      <td id=\"T_92c57_row2_col0\" class=\"data row2 col0\" >ACE</td>\n",
       "      <td id=\"T_92c57_row2_col1\" class=\"data row2 col1\" >8083</td>\n",
       "      <td id=\"T_92c57_row2_col2\" class=\"data row2 col2\" >10</td>\n",
       "      <td id=\"T_92c57_row2_col3\" class=\"data row2 col3\" >1,392,091</td>\n",
       "      <td id=\"T_92c57_row2_col4\" class=\"data row2 col4\" >4</td>\n",
       "    </tr>\n",
       "    <tr>\n",
       "      <th id=\"T_92c57_level0_row3\" class=\"row_heading level0 row3\" >3</th>\n",
       "      <td id=\"T_92c57_row3_col0\" class=\"data row3 col0\" >ADVANC</td>\n",
       "      <td id=\"T_92c57_row3_col1\" class=\"data row3 col1\" >8083</td>\n",
       "      <td id=\"T_92c57_row3_col2\" class=\"data row3 col2\" >10</td>\n",
       "      <td id=\"T_92c57_row3_col3\" class=\"data row3 col3\" >27,223,149</td>\n",
       "      <td id=\"T_92c57_row3_col4\" class=\"data row3 col4\" >4</td>\n",
       "    </tr>\n",
       "    <tr>\n",
       "      <th id=\"T_92c57_level0_row4\" class=\"row_heading level0 row4\" >4</th>\n",
       "      <td id=\"T_92c57_row4_col0\" class=\"data row4 col0\" >AEONTS</td>\n",
       "      <td id=\"T_92c57_row4_col1\" class=\"data row4 col1\" >8083</td>\n",
       "      <td id=\"T_92c57_row4_col2\" class=\"data row4 col2\" >10</td>\n",
       "      <td id=\"T_92c57_row4_col3\" class=\"data row4 col3\" >3,826,113</td>\n",
       "      <td id=\"T_92c57_row4_col4\" class=\"data row4 col4\" >4</td>\n",
       "    </tr>\n",
       "  </tbody>\n",
       "</table>\n"
      ],
      "text/plain": [
       "<pandas.io.formats.style.Styler at 0x1d00be87bb0>"
      ]
     },
     "execution_count": 5,
     "metadata": {},
     "output_type": "execute_result"
    }
   ],
   "source": [
    "dfc = pd.read_sql(sql, conlt)\n",
    "dfc[\"Counter\"] = 1\n",
    "dfc_grp = dfc.groupby([\"name\"], as_index=False).sum()\n",
    "dfc_grp = dfc_grp[dfc_grp[\"Counter\"] == 4]\n",
    "dfc_grp.head().style.format(format_dict)"
   ]
  },
  {
   "cell_type": "code",
   "execution_count": 6,
   "metadata": {},
   "outputs": [
    {
     "name": "stdout",
     "output_type": "stream",
     "text": [
      "\n",
      "SELECT name,year,quarter,q_amt\n",
      "FROM epss \n",
      "WHERE (year = 2021-1 AND quarter <= 3) \n",
      "OR (year = 2021-2 AND quarter >= 3+1)\n",
      "ORDER BY year DESC, quarter DESC\n",
      "\n"
     ]
    }
   ],
   "source": [
    "sql = \"\"\"\n",
    "SELECT name,year,quarter,q_amt\n",
    "FROM epss \n",
    "WHERE (year = %s-1 AND quarter <= %s) \n",
    "OR (year = %s-2 AND quarter >= %s+1)\n",
    "ORDER BY year DESC, quarter DESC\n",
    "\"\"\"\n",
    "sql = sql % (year, quarter, year, quarter)\n",
    "print(sql)"
   ]
  },
  {
   "cell_type": "code",
   "execution_count": 7,
   "metadata": {},
   "outputs": [
    {
     "data": {
      "text/html": [
       "<style type=\"text/css\">\n",
       "</style>\n",
       "<table id=\"T_5152a_\">\n",
       "  <thead>\n",
       "    <tr>\n",
       "      <th class=\"blank level0\" >&nbsp;</th>\n",
       "      <th class=\"col_heading level0 col0\" >name</th>\n",
       "      <th class=\"col_heading level0 col1\" >year</th>\n",
       "      <th class=\"col_heading level0 col2\" >quarter</th>\n",
       "      <th class=\"col_heading level0 col3\" >q_amt</th>\n",
       "      <th class=\"col_heading level0 col4\" >Counter</th>\n",
       "    </tr>\n",
       "  </thead>\n",
       "  <tbody>\n",
       "    <tr>\n",
       "      <th id=\"T_5152a_level0_row0\" class=\"row_heading level0 row0\" >0</th>\n",
       "      <td id=\"T_5152a_row0_col0\" class=\"data row0 col0\" >2S</td>\n",
       "      <td id=\"T_5152a_row0_col1\" class=\"data row0 col1\" >8079</td>\n",
       "      <td id=\"T_5152a_row0_col2\" class=\"data row0 col2\" >10</td>\n",
       "      <td id=\"T_5152a_row0_col3\" class=\"data row0 col3\" >319,496</td>\n",
       "      <td id=\"T_5152a_row0_col4\" class=\"data row0 col4\" >4</td>\n",
       "    </tr>\n",
       "    <tr>\n",
       "      <th id=\"T_5152a_level0_row1\" class=\"row_heading level0 row1\" >1</th>\n",
       "      <td id=\"T_5152a_row1_col0\" class=\"data row1 col0\" >AAV</td>\n",
       "      <td id=\"T_5152a_row1_col1\" class=\"data row1 col1\" >8079</td>\n",
       "      <td id=\"T_5152a_row1_col2\" class=\"data row1 col2\" >10</td>\n",
       "      <td id=\"T_5152a_row1_col3\" class=\"data row1 col3\" >-3,721,734</td>\n",
       "      <td id=\"T_5152a_row1_col4\" class=\"data row1 col4\" >4</td>\n",
       "    </tr>\n",
       "    <tr>\n",
       "      <th id=\"T_5152a_level0_row2\" class=\"row_heading level0 row2\" >2</th>\n",
       "      <td id=\"T_5152a_row2_col0\" class=\"data row2 col0\" >ACE</td>\n",
       "      <td id=\"T_5152a_row2_col1\" class=\"data row2 col1\" >8079</td>\n",
       "      <td id=\"T_5152a_row2_col2\" class=\"data row2 col2\" >10</td>\n",
       "      <td id=\"T_5152a_row2_col3\" class=\"data row2 col3\" >1,498,905</td>\n",
       "      <td id=\"T_5152a_row2_col4\" class=\"data row2 col4\" >4</td>\n",
       "    </tr>\n",
       "    <tr>\n",
       "      <th id=\"T_5152a_level0_row3\" class=\"row_heading level0 row3\" >3</th>\n",
       "      <td id=\"T_5152a_row3_col0\" class=\"data row3 col0\" >ADVANC</td>\n",
       "      <td id=\"T_5152a_row3_col1\" class=\"data row3 col1\" >8079</td>\n",
       "      <td id=\"T_5152a_row3_col2\" class=\"data row3 col2\" >10</td>\n",
       "      <td id=\"T_5152a_row3_col3\" class=\"data row3 col3\" >27,334,917</td>\n",
       "      <td id=\"T_5152a_row3_col4\" class=\"data row3 col4\" >4</td>\n",
       "    </tr>\n",
       "    <tr>\n",
       "      <th id=\"T_5152a_level0_row4\" class=\"row_heading level0 row4\" >4</th>\n",
       "      <td id=\"T_5152a_row4_col0\" class=\"data row4 col0\" >AEONTS</td>\n",
       "      <td id=\"T_5152a_row4_col1\" class=\"data row4 col1\" >8079</td>\n",
       "      <td id=\"T_5152a_row4_col2\" class=\"data row4 col2\" >10</td>\n",
       "      <td id=\"T_5152a_row4_col3\" class=\"data row4 col3\" >3,561,748</td>\n",
       "      <td id=\"T_5152a_row4_col4\" class=\"data row4 col4\" >4</td>\n",
       "    </tr>\n",
       "  </tbody>\n",
       "</table>\n"
      ],
      "text/plain": [
       "<pandas.io.formats.style.Styler at 0x1d00947f2b0>"
      ]
     },
     "execution_count": 7,
     "metadata": {},
     "output_type": "execute_result"
    }
   ],
   "source": [
    "dfp = pd.read_sql(sql, conlt)\n",
    "dfp[\"Counter\"] = 1\n",
    "dfp_grp = dfp.groupby([\"name\"], as_index=False).sum()\n",
    "dfp_grp = dfp_grp[dfp_grp[\"Counter\"] == 4]\n",
    "dfp_grp.head().style.format(format_dict)"
   ]
  },
  {
   "cell_type": "code",
   "execution_count": 8,
   "metadata": {},
   "outputs": [
    {
     "data": {
      "text/html": [
       "<style type=\"text/css\">\n",
       "</style>\n",
       "<table id=\"T_f75b8_\">\n",
       "  <thead>\n",
       "    <tr>\n",
       "      <th class=\"blank level0\" >&nbsp;</th>\n",
       "      <th class=\"col_heading level0 col0\" >name</th>\n",
       "      <th class=\"col_heading level0 col1\" >year</th>\n",
       "      <th class=\"col_heading level0 col2\" >quarter</th>\n",
       "      <th class=\"col_heading level0 col3\" >q_amt_c</th>\n",
       "      <th class=\"col_heading level0 col4\" >q_amt_p</th>\n",
       "      <th class=\"col_heading level0 col5\" >inc_profit</th>\n",
       "      <th class=\"col_heading level0 col6\" >percent</th>\n",
       "    </tr>\n",
       "  </thead>\n",
       "  <tbody>\n",
       "    <tr>\n",
       "      <th id=\"T_f75b8_level0_row0\" class=\"row_heading level0 row0\" >0</th>\n",
       "      <td id=\"T_f75b8_row0_col0\" class=\"data row0 col0\" >2S</td>\n",
       "      <td id=\"T_f75b8_row0_col1\" class=\"data row0 col1\" >2021</td>\n",
       "      <td id=\"T_f75b8_row0_col2\" class=\"data row0 col2\" >Q3</td>\n",
       "      <td id=\"T_f75b8_row0_col3\" class=\"data row0 col3\" >788,297</td>\n",
       "      <td id=\"T_f75b8_row0_col4\" class=\"data row0 col4\" >319,496</td>\n",
       "      <td id=\"T_f75b8_row0_col5\" class=\"data row0 col5\" >468,801</td>\n",
       "      <td id=\"T_f75b8_row0_col6\" class=\"data row0 col6\" >146.73%</td>\n",
       "    </tr>\n",
       "    <tr>\n",
       "      <th id=\"T_f75b8_level0_row1\" class=\"row_heading level0 row1\" >1</th>\n",
       "      <td id=\"T_f75b8_row1_col0\" class=\"data row1 col0\" >AAV</td>\n",
       "      <td id=\"T_f75b8_row1_col1\" class=\"data row1 col1\" >2021</td>\n",
       "      <td id=\"T_f75b8_row1_col2\" class=\"data row1 col2\" >Q3</td>\n",
       "      <td id=\"T_f75b8_row1_col3\" class=\"data row1 col3\" >-6,769,190</td>\n",
       "      <td id=\"T_f75b8_row1_col4\" class=\"data row1 col4\" >-3,721,734</td>\n",
       "      <td id=\"T_f75b8_row1_col5\" class=\"data row1 col5\" >-3,047,456</td>\n",
       "      <td id=\"T_f75b8_row1_col6\" class=\"data row1 col6\" >-81.88%</td>\n",
       "    </tr>\n",
       "    <tr>\n",
       "      <th id=\"T_f75b8_level0_row2\" class=\"row_heading level0 row2\" >2</th>\n",
       "      <td id=\"T_f75b8_row2_col0\" class=\"data row2 col0\" >ACE</td>\n",
       "      <td id=\"T_f75b8_row2_col1\" class=\"data row2 col1\" >2021</td>\n",
       "      <td id=\"T_f75b8_row2_col2\" class=\"data row2 col2\" >Q3</td>\n",
       "      <td id=\"T_f75b8_row2_col3\" class=\"data row2 col3\" >1,392,091</td>\n",
       "      <td id=\"T_f75b8_row2_col4\" class=\"data row2 col4\" >1,498,905</td>\n",
       "      <td id=\"T_f75b8_row2_col5\" class=\"data row2 col5\" >-106,814</td>\n",
       "      <td id=\"T_f75b8_row2_col6\" class=\"data row2 col6\" >-7.13%</td>\n",
       "    </tr>\n",
       "    <tr>\n",
       "      <th id=\"T_f75b8_level0_row3\" class=\"row_heading level0 row3\" >3</th>\n",
       "      <td id=\"T_f75b8_row3_col0\" class=\"data row3 col0\" >ADVANC</td>\n",
       "      <td id=\"T_f75b8_row3_col1\" class=\"data row3 col1\" >2021</td>\n",
       "      <td id=\"T_f75b8_row3_col2\" class=\"data row3 col2\" >Q3</td>\n",
       "      <td id=\"T_f75b8_row3_col3\" class=\"data row3 col3\" >27,223,149</td>\n",
       "      <td id=\"T_f75b8_row3_col4\" class=\"data row3 col4\" >27,334,917</td>\n",
       "      <td id=\"T_f75b8_row3_col5\" class=\"data row3 col5\" >-111,768</td>\n",
       "      <td id=\"T_f75b8_row3_col6\" class=\"data row3 col6\" >-0.41%</td>\n",
       "    </tr>\n",
       "    <tr>\n",
       "      <th id=\"T_f75b8_level0_row4\" class=\"row_heading level0 row4\" >4</th>\n",
       "      <td id=\"T_f75b8_row4_col0\" class=\"data row4 col0\" >AEONTS</td>\n",
       "      <td id=\"T_f75b8_row4_col1\" class=\"data row4 col1\" >2021</td>\n",
       "      <td id=\"T_f75b8_row4_col2\" class=\"data row4 col2\" >Q3</td>\n",
       "      <td id=\"T_f75b8_row4_col3\" class=\"data row4 col3\" >3,826,113</td>\n",
       "      <td id=\"T_f75b8_row4_col4\" class=\"data row4 col4\" >3,561,748</td>\n",
       "      <td id=\"T_f75b8_row4_col5\" class=\"data row4 col5\" >264,365</td>\n",
       "      <td id=\"T_f75b8_row4_col6\" class=\"data row4 col6\" >7.42%</td>\n",
       "    </tr>\n",
       "  </tbody>\n",
       "</table>\n"
      ],
      "text/plain": [
       "<pandas.io.formats.style.Styler at 0x1d00ceec700>"
      ]
     },
     "execution_count": 8,
     "metadata": {},
     "output_type": "execute_result"
    }
   ],
   "source": [
    "dfm = pd.merge(dfc_grp, dfp_grp, on=\"name\", suffixes=([\"_c\", \"_p\"]), how=\"inner\")\n",
    "dfm[\"inc_profit\"] = dfm[\"q_amt_c\"] - dfm[\"q_amt_p\"]\n",
    "dfm[\"percent\"] = dfm[\"inc_profit\"] / abs(dfm[\"q_amt_p\"]) * 100\n",
    "dfm[\"year\"] = year\n",
    "dfm[\"quarter\"] = \"Q\" + str(quarter)\n",
    "df_percent = dfm[cols]\n",
    "df_percent.head().style.format(format_dict)"
   ]
  },
  {
   "cell_type": "code",
   "execution_count": 9,
   "metadata": {},
   "outputs": [
    {
     "name": "stdout",
     "output_type": "stream",
     "text": [
      "\n",
      "DELETE FROM yr_profits \n",
      "WHERE year = 2021 AND quarter = \"Q3\"\n"
     ]
    },
    {
     "data": {
      "text/plain": [
       "313"
      ]
     },
     "execution_count": 9,
     "metadata": {},
     "output_type": "execute_result"
    }
   ],
   "source": [
    "sql = '''\n",
    "DELETE FROM yr_profits \n",
    "WHERE year = %s AND quarter = \"Q%s\"'''\n",
    "sql = sql % (year, quarter)\n",
    "print(sql)\n",
    "\n",
    "rp = conlt.execute(sql)\n",
    "rp.rowcount"
   ]
  },
  {
   "cell_type": "code",
   "execution_count": 10,
   "metadata": {},
   "outputs": [
    {
     "data": {
      "text/plain": [
       "313"
      ]
     },
     "execution_count": 10,
     "metadata": {},
     "output_type": "execute_result"
    }
   ],
   "source": [
    "sql = \"SELECT name, id FROM tickers\"\n",
    "tickers = pd.read_sql(sql, conlt)\n",
    "df_ins = pd.merge(df_percent, tickers, on=\"name\", how=\"inner\")\n",
    "rcds = df_ins.values.tolist()\n",
    "len(rcds)"
   ]
  },
  {
   "cell_type": "code",
   "execution_count": 11,
   "metadata": {
    "scrolled": false
   },
   "outputs": [],
   "source": [
    "#for rcd in rcds:\n",
    "#    print(rcd)"
   ]
  },
  {
   "cell_type": "code",
   "execution_count": 12,
   "metadata": {},
   "outputs": [
    {
     "name": "stdout",
     "output_type": "stream",
     "text": [
      "\n",
      "INSERT INTO yr_profits (name, year, quarter, latest_amt, previous_amt, inc_amt, inc_pct, ticker_id) \n",
      "VALUES (?, ?, ?, ?, ?, ?, ?, ?)\n"
     ]
    }
   ],
   "source": [
    "sql = \"\"\"\n",
    "INSERT INTO yr_profits (name, year, quarter, latest_amt, previous_amt, inc_amt, inc_pct, ticker_id) \n",
    "VALUES (?, ?, ?, ?, ?, ?, ?, ?)\"\"\"\n",
    "print(sql)"
   ]
  },
  {
   "cell_type": "code",
   "execution_count": 13,
   "metadata": {},
   "outputs": [],
   "source": [
    "for rcd in rcds:\n",
    "    conlt.execute(sql, rcd)"
   ]
  },
  {
   "cell_type": "markdown",
   "metadata": {},
   "source": [
    "### End of loop"
   ]
  },
  {
   "cell_type": "code",
   "execution_count": 14,
   "metadata": {},
   "outputs": [
    {
     "data": {
      "text/html": [
       "<style type=\"text/css\">\n",
       "</style>\n",
       "<table id=\"T_aead1_\">\n",
       "  <thead>\n",
       "    <tr>\n",
       "      <th class=\"blank level0\" >&nbsp;</th>\n",
       "      <th class=\"col_heading level0 col0\" >name</th>\n",
       "      <th class=\"col_heading level0 col1\" >year</th>\n",
       "      <th class=\"col_heading level0 col2\" >quarter</th>\n",
       "      <th class=\"col_heading level0 col3\" >q_amt_c</th>\n",
       "      <th class=\"col_heading level0 col4\" >q_amt_p</th>\n",
       "      <th class=\"col_heading level0 col5\" >inc_profit</th>\n",
       "      <th class=\"col_heading level0 col6\" >percent</th>\n",
       "    </tr>\n",
       "  </thead>\n",
       "  <tbody>\n",
       "    <tr>\n",
       "      <th id=\"T_aead1_level0_row0\" class=\"row_heading level0 row0\" >0</th>\n",
       "      <td id=\"T_aead1_row0_col0\" class=\"data row0 col0\" >2S</td>\n",
       "      <td id=\"T_aead1_row0_col1\" class=\"data row0 col1\" >2021</td>\n",
       "      <td id=\"T_aead1_row0_col2\" class=\"data row0 col2\" >Q3</td>\n",
       "      <td id=\"T_aead1_row0_col3\" class=\"data row0 col3\" >788,297</td>\n",
       "      <td id=\"T_aead1_row0_col4\" class=\"data row0 col4\" >319,496</td>\n",
       "      <td id=\"T_aead1_row0_col5\" class=\"data row0 col5\" >468,801</td>\n",
       "      <td id=\"T_aead1_row0_col6\" class=\"data row0 col6\" >146.73%</td>\n",
       "    </tr>\n",
       "    <tr>\n",
       "      <th id=\"T_aead1_level0_row1\" class=\"row_heading level0 row1\" >2</th>\n",
       "      <td id=\"T_aead1_row1_col0\" class=\"data row1 col0\" >ACE</td>\n",
       "      <td id=\"T_aead1_row1_col1\" class=\"data row1 col1\" >2021</td>\n",
       "      <td id=\"T_aead1_row1_col2\" class=\"data row1 col2\" >Q3</td>\n",
       "      <td id=\"T_aead1_row1_col3\" class=\"data row1 col3\" >1,392,091</td>\n",
       "      <td id=\"T_aead1_row1_col4\" class=\"data row1 col4\" >1,498,905</td>\n",
       "      <td id=\"T_aead1_row1_col5\" class=\"data row1 col5\" >-106,814</td>\n",
       "      <td id=\"T_aead1_row1_col6\" class=\"data row1 col6\" >-7.13%</td>\n",
       "    </tr>\n",
       "    <tr>\n",
       "      <th id=\"T_aead1_level0_row2\" class=\"row_heading level0 row2\" >3</th>\n",
       "      <td id=\"T_aead1_row2_col0\" class=\"data row2 col0\" >ADVANC</td>\n",
       "      <td id=\"T_aead1_row2_col1\" class=\"data row2 col1\" >2021</td>\n",
       "      <td id=\"T_aead1_row2_col2\" class=\"data row2 col2\" >Q3</td>\n",
       "      <td id=\"T_aead1_row2_col3\" class=\"data row2 col3\" >27,223,149</td>\n",
       "      <td id=\"T_aead1_row2_col4\" class=\"data row2 col4\" >27,334,917</td>\n",
       "      <td id=\"T_aead1_row2_col5\" class=\"data row2 col5\" >-111,768</td>\n",
       "      <td id=\"T_aead1_row2_col6\" class=\"data row2 col6\" >-0.41%</td>\n",
       "    </tr>\n",
       "    <tr>\n",
       "      <th id=\"T_aead1_level0_row3\" class=\"row_heading level0 row3\" >4</th>\n",
       "      <td id=\"T_aead1_row3_col0\" class=\"data row3 col0\" >AEONTS</td>\n",
       "      <td id=\"T_aead1_row3_col1\" class=\"data row3 col1\" >2021</td>\n",
       "      <td id=\"T_aead1_row3_col2\" class=\"data row3 col2\" >Q3</td>\n",
       "      <td id=\"T_aead1_row3_col3\" class=\"data row3 col3\" >3,826,113</td>\n",
       "      <td id=\"T_aead1_row3_col4\" class=\"data row3 col4\" >3,561,748</td>\n",
       "      <td id=\"T_aead1_row3_col5\" class=\"data row3 col5\" >264,365</td>\n",
       "      <td id=\"T_aead1_row3_col6\" class=\"data row3 col6\" >7.42%</td>\n",
       "    </tr>\n",
       "    <tr>\n",
       "      <th id=\"T_aead1_level0_row4\" class=\"row_heading level0 row4\" >5</th>\n",
       "      <td id=\"T_aead1_row4_col0\" class=\"data row4 col0\" >AH</td>\n",
       "      <td id=\"T_aead1_row4_col1\" class=\"data row4 col1\" >2021</td>\n",
       "      <td id=\"T_aead1_row4_col2\" class=\"data row4 col2\" >Q3</td>\n",
       "      <td id=\"T_aead1_row4_col3\" class=\"data row4 col3\" >1,041,977</td>\n",
       "      <td id=\"T_aead1_row4_col4\" class=\"data row4 col4\" >-750,691</td>\n",
       "      <td id=\"T_aead1_row4_col5\" class=\"data row4 col5\" >1,792,668</td>\n",
       "      <td id=\"T_aead1_row4_col6\" class=\"data row4 col6\" >238.80%</td>\n",
       "    </tr>\n",
       "  </tbody>\n",
       "</table>\n"
      ],
      "text/plain": [
       "<pandas.io.formats.style.Styler at 0x1d00bead220>"
      ]
     },
     "execution_count": 14,
     "metadata": {},
     "output_type": "execute_result"
    }
   ],
   "source": [
    "criteria_1 = df_ins.q_amt_c > 440_000\n",
    "df_ins.loc[criteria_1, cols].head().style.format(format_dict)"
   ]
  },
  {
   "cell_type": "code",
   "execution_count": 15,
   "metadata": {},
   "outputs": [
    {
     "data": {
      "text/html": [
       "<style type=\"text/css\">\n",
       "</style>\n",
       "<table id=\"T_1db30_\">\n",
       "  <thead>\n",
       "    <tr>\n",
       "      <th class=\"blank level0\" >&nbsp;</th>\n",
       "      <th class=\"col_heading level0 col0\" >name</th>\n",
       "      <th class=\"col_heading level0 col1\" >year</th>\n",
       "      <th class=\"col_heading level0 col2\" >quarter</th>\n",
       "      <th class=\"col_heading level0 col3\" >q_amt_c</th>\n",
       "      <th class=\"col_heading level0 col4\" >q_amt_p</th>\n",
       "      <th class=\"col_heading level0 col5\" >inc_profit</th>\n",
       "      <th class=\"col_heading level0 col6\" >percent</th>\n",
       "    </tr>\n",
       "  </thead>\n",
       "  <tbody>\n",
       "    <tr>\n",
       "      <th id=\"T_1db30_level0_row0\" class=\"row_heading level0 row0\" >2</th>\n",
       "      <td id=\"T_1db30_row0_col0\" class=\"data row0 col0\" >ACE</td>\n",
       "      <td id=\"T_1db30_row0_col1\" class=\"data row0 col1\" >2021</td>\n",
       "      <td id=\"T_1db30_row0_col2\" class=\"data row0 col2\" >Q3</td>\n",
       "      <td id=\"T_1db30_row0_col3\" class=\"data row0 col3\" >1,392,091</td>\n",
       "      <td id=\"T_1db30_row0_col4\" class=\"data row0 col4\" >1,498,905</td>\n",
       "      <td id=\"T_1db30_row0_col5\" class=\"data row0 col5\" >-106,814</td>\n",
       "      <td id=\"T_1db30_row0_col6\" class=\"data row0 col6\" >-7.13%</td>\n",
       "    </tr>\n",
       "    <tr>\n",
       "      <th id=\"T_1db30_level0_row1\" class=\"row_heading level0 row1\" >3</th>\n",
       "      <td id=\"T_1db30_row1_col0\" class=\"data row1 col0\" >ADVANC</td>\n",
       "      <td id=\"T_1db30_row1_col1\" class=\"data row1 col1\" >2021</td>\n",
       "      <td id=\"T_1db30_row1_col2\" class=\"data row1 col2\" >Q3</td>\n",
       "      <td id=\"T_1db30_row1_col3\" class=\"data row1 col3\" >27,223,149</td>\n",
       "      <td id=\"T_1db30_row1_col4\" class=\"data row1 col4\" >27,334,917</td>\n",
       "      <td id=\"T_1db30_row1_col5\" class=\"data row1 col5\" >-111,768</td>\n",
       "      <td id=\"T_1db30_row1_col6\" class=\"data row1 col6\" >-0.41%</td>\n",
       "    </tr>\n",
       "    <tr>\n",
       "      <th id=\"T_1db30_level0_row2\" class=\"row_heading level0 row2\" >4</th>\n",
       "      <td id=\"T_1db30_row2_col0\" class=\"data row2 col0\" >AEONTS</td>\n",
       "      <td id=\"T_1db30_row2_col1\" class=\"data row2 col1\" >2021</td>\n",
       "      <td id=\"T_1db30_row2_col2\" class=\"data row2 col2\" >Q3</td>\n",
       "      <td id=\"T_1db30_row2_col3\" class=\"data row2 col3\" >3,826,113</td>\n",
       "      <td id=\"T_1db30_row2_col4\" class=\"data row2 col4\" >3,561,748</td>\n",
       "      <td id=\"T_1db30_row2_col5\" class=\"data row2 col5\" >264,365</td>\n",
       "      <td id=\"T_1db30_row2_col6\" class=\"data row2 col6\" >7.42%</td>\n",
       "    </tr>\n",
       "    <tr>\n",
       "      <th id=\"T_1db30_level0_row3\" class=\"row_heading level0 row3\" >7</th>\n",
       "      <td id=\"T_1db30_row3_col0\" class=\"data row3 col0\" >AIMIRT</td>\n",
       "      <td id=\"T_1db30_row3_col1\" class=\"data row3 col1\" >2021</td>\n",
       "      <td id=\"T_1db30_row3_col2\" class=\"data row3 col2\" >Q3</td>\n",
       "      <td id=\"T_1db30_row3_col3\" class=\"data row3 col3\" >437,639</td>\n",
       "      <td id=\"T_1db30_row3_col4\" class=\"data row3 col4\" >491,527</td>\n",
       "      <td id=\"T_1db30_row3_col5\" class=\"data row3 col5\" >-53,888</td>\n",
       "      <td id=\"T_1db30_row3_col6\" class=\"data row3 col6\" >-10.96%</td>\n",
       "    </tr>\n",
       "    <tr>\n",
       "      <th id=\"T_1db30_level0_row4\" class=\"row_heading level0 row4\" >9</th>\n",
       "      <td id=\"T_1db30_row4_col0\" class=\"data row4 col0\" >AJ</td>\n",
       "      <td id=\"T_1db30_row4_col1\" class=\"data row4 col1\" >2021</td>\n",
       "      <td id=\"T_1db30_row4_col2\" class=\"data row4 col2\" >Q3</td>\n",
       "      <td id=\"T_1db30_row4_col3\" class=\"data row4 col3\" >389,174</td>\n",
       "      <td id=\"T_1db30_row4_col4\" class=\"data row4 col4\" >582,318</td>\n",
       "      <td id=\"T_1db30_row4_col5\" class=\"data row4 col5\" >-193,144</td>\n",
       "      <td id=\"T_1db30_row4_col6\" class=\"data row4 col6\" >-33.17%</td>\n",
       "    </tr>\n",
       "  </tbody>\n",
       "</table>\n"
      ],
      "text/plain": [
       "<pandas.io.formats.style.Styler at 0x1d00cf2d790>"
      ]
     },
     "execution_count": 15,
     "metadata": {},
     "output_type": "execute_result"
    }
   ],
   "source": [
    "criteria_2 = df_ins.q_amt_p > 400_000\n",
    "df_ins.loc[criteria_2, cols].head().style.format(format_dict)"
   ]
  },
  {
   "cell_type": "code",
   "execution_count": 16,
   "metadata": {},
   "outputs": [
    {
     "data": {
      "text/html": [
       "<style type=\"text/css\">\n",
       "</style>\n",
       "<table id=\"T_84c45_\">\n",
       "  <thead>\n",
       "    <tr>\n",
       "      <th class=\"blank level0\" >&nbsp;</th>\n",
       "      <th class=\"col_heading level0 col0\" >name</th>\n",
       "      <th class=\"col_heading level0 col1\" >year</th>\n",
       "      <th class=\"col_heading level0 col2\" >quarter</th>\n",
       "      <th class=\"col_heading level0 col3\" >q_amt_c</th>\n",
       "      <th class=\"col_heading level0 col4\" >q_amt_p</th>\n",
       "      <th class=\"col_heading level0 col5\" >inc_profit</th>\n",
       "      <th class=\"col_heading level0 col6\" >percent</th>\n",
       "    </tr>\n",
       "  </thead>\n",
       "  <tbody>\n",
       "    <tr>\n",
       "      <th id=\"T_84c45_level0_row0\" class=\"row_heading level0 row0\" >0</th>\n",
       "      <td id=\"T_84c45_row0_col0\" class=\"data row0 col0\" >2S</td>\n",
       "      <td id=\"T_84c45_row0_col1\" class=\"data row0 col1\" >2021</td>\n",
       "      <td id=\"T_84c45_row0_col2\" class=\"data row0 col2\" >Q3</td>\n",
       "      <td id=\"T_84c45_row0_col3\" class=\"data row0 col3\" >788,297</td>\n",
       "      <td id=\"T_84c45_row0_col4\" class=\"data row0 col4\" >319,496</td>\n",
       "      <td id=\"T_84c45_row0_col5\" class=\"data row0 col5\" >468,801</td>\n",
       "      <td id=\"T_84c45_row0_col6\" class=\"data row0 col6\" >146.73%</td>\n",
       "    </tr>\n",
       "    <tr>\n",
       "      <th id=\"T_84c45_level0_row1\" class=\"row_heading level0 row1\" >5</th>\n",
       "      <td id=\"T_84c45_row1_col0\" class=\"data row1 col0\" >AH</td>\n",
       "      <td id=\"T_84c45_row1_col1\" class=\"data row1 col1\" >2021</td>\n",
       "      <td id=\"T_84c45_row1_col2\" class=\"data row1 col2\" >Q3</td>\n",
       "      <td id=\"T_84c45_row1_col3\" class=\"data row1 col3\" >1,041,977</td>\n",
       "      <td id=\"T_84c45_row1_col4\" class=\"data row1 col4\" >-750,691</td>\n",
       "      <td id=\"T_84c45_row1_col5\" class=\"data row1 col5\" >1,792,668</td>\n",
       "      <td id=\"T_84c45_row1_col6\" class=\"data row1 col6\" >238.80%</td>\n",
       "    </tr>\n",
       "    <tr>\n",
       "      <th id=\"T_84c45_level0_row2\" class=\"row_heading level0 row2\" >6</th>\n",
       "      <td id=\"T_84c45_row2_col0\" class=\"data row2 col0\" >AIE</td>\n",
       "      <td id=\"T_84c45_row2_col1\" class=\"data row2 col1\" >2021</td>\n",
       "      <td id=\"T_84c45_row2_col2\" class=\"data row2 col2\" >Q3</td>\n",
       "      <td id=\"T_84c45_row2_col3\" class=\"data row2 col3\" >522,478</td>\n",
       "      <td id=\"T_84c45_row2_col4\" class=\"data row2 col4\" >219,664</td>\n",
       "      <td id=\"T_84c45_row2_col5\" class=\"data row2 col5\" >302,814</td>\n",
       "      <td id=\"T_84c45_row2_col6\" class=\"data row2 col6\" >137.85%</td>\n",
       "    </tr>\n",
       "    <tr>\n",
       "      <th id=\"T_84c45_level0_row3\" class=\"row_heading level0 row3\" >8</th>\n",
       "      <td id=\"T_84c45_row3_col0\" class=\"data row3 col0\" >AIT</td>\n",
       "      <td id=\"T_84c45_row3_col1\" class=\"data row3 col1\" >2021</td>\n",
       "      <td id=\"T_84c45_row3_col2\" class=\"data row3 col2\" >Q3</td>\n",
       "      <td id=\"T_84c45_row3_col3\" class=\"data row3 col3\" >522,365</td>\n",
       "      <td id=\"T_84c45_row3_col4\" class=\"data row3 col4\" >380,169</td>\n",
       "      <td id=\"T_84c45_row3_col5\" class=\"data row3 col5\" >142,196</td>\n",
       "      <td id=\"T_84c45_row3_col6\" class=\"data row3 col6\" >37.40%</td>\n",
       "    </tr>\n",
       "    <tr>\n",
       "      <th id=\"T_84c45_level0_row4\" class=\"row_heading level0 row4\" >10</th>\n",
       "      <td id=\"T_84c45_row4_col0\" class=\"data row4 col0\" >AKR</td>\n",
       "      <td id=\"T_84c45_row4_col1\" class=\"data row4 col1\" >2021</td>\n",
       "      <td id=\"T_84c45_row4_col2\" class=\"data row4 col2\" >Q3</td>\n",
       "      <td id=\"T_84c45_row4_col3\" class=\"data row4 col3\" >123,963</td>\n",
       "      <td id=\"T_84c45_row4_col4\" class=\"data row4 col4\" >68,139</td>\n",
       "      <td id=\"T_84c45_row4_col5\" class=\"data row4 col5\" >55,824</td>\n",
       "      <td id=\"T_84c45_row4_col6\" class=\"data row4 col6\" >81.93%</td>\n",
       "    </tr>\n",
       "  </tbody>\n",
       "</table>\n"
      ],
      "text/plain": [
       "<pandas.io.formats.style.Styler at 0x1d00cfbbd00>"
      ]
     },
     "execution_count": 16,
     "metadata": {},
     "output_type": "execute_result"
    }
   ],
   "source": [
    "criteria_3 = df_ins.percent > 10.00\n",
    "df_ins.loc[criteria_3, cols].head().style.format(format_dict)"
   ]
  },
  {
   "cell_type": "code",
   "execution_count": 17,
   "metadata": {},
   "outputs": [
    {
     "data": {
      "text/html": [
       "<style type=\"text/css\">\n",
       "</style>\n",
       "<table id=\"T_72be1_\">\n",
       "  <thead>\n",
       "    <tr>\n",
       "      <th class=\"blank level0\" >&nbsp;</th>\n",
       "      <th class=\"col_heading level0 col0\" >name</th>\n",
       "      <th class=\"col_heading level0 col1\" >year</th>\n",
       "      <th class=\"col_heading level0 col2\" >quarter</th>\n",
       "      <th class=\"col_heading level0 col3\" >q_amt_c</th>\n",
       "      <th class=\"col_heading level0 col4\" >q_amt_p</th>\n",
       "      <th class=\"col_heading level0 col5\" >inc_profit</th>\n",
       "      <th class=\"col_heading level0 col6\" >percent</th>\n",
       "    </tr>\n",
       "  </thead>\n",
       "  <tbody>\n",
       "    <tr>\n",
       "      <th id=\"T_72be1_level0_row0\" class=\"row_heading level0 row0\" >244</th>\n",
       "      <td id=\"T_72be1_row0_col0\" class=\"data row0 col0\" >STA</td>\n",
       "      <td id=\"T_72be1_row0_col1\" class=\"data row0 col1\" >2021</td>\n",
       "      <td id=\"T_72be1_row0_col2\" class=\"data row0 col2\" >Q3</td>\n",
       "      <td id=\"T_72be1_row0_col3\" class=\"data row0 col3\" >19,731,941</td>\n",
       "      <td id=\"T_72be1_row0_col4\" class=\"data row0 col4\" >4,106,267</td>\n",
       "      <td id=\"T_72be1_row0_col5\" class=\"data row0 col5\" >15,625,674</td>\n",
       "      <td id=\"T_72be1_row0_col6\" class=\"data row0 col6\" >380.53%</td>\n",
       "    </tr>\n",
       "    <tr>\n",
       "      <th id=\"T_72be1_level0_row1\" class=\"row_heading level0 row1\" >32</th>\n",
       "      <td id=\"T_72be1_row1_col0\" class=\"data row1 col0\" >BCH</td>\n",
       "      <td id=\"T_72be1_row1_col1\" class=\"data row1 col1\" >2021</td>\n",
       "      <td id=\"T_72be1_row1_col2\" class=\"data row1 col2\" >Q3</td>\n",
       "      <td id=\"T_72be1_row1_col3\" class=\"data row1 col3\" >4,644,042</td>\n",
       "      <td id=\"T_72be1_row1_col4\" class=\"data row1 col4\" >1,191,940</td>\n",
       "      <td id=\"T_72be1_row1_col5\" class=\"data row1 col5\" >3,452,102</td>\n",
       "      <td id=\"T_72be1_row1_col6\" class=\"data row1 col6\" >289.62%</td>\n",
       "    </tr>\n",
       "    <tr>\n",
       "      <th id=\"T_72be1_level0_row2\" class=\"row_heading level0 row2\" >55</th>\n",
       "      <td id=\"T_72be1_row2_col0\" class=\"data row2 col0\" >CHG</td>\n",
       "      <td id=\"T_72be1_row2_col1\" class=\"data row2 col1\" >2021</td>\n",
       "      <td id=\"T_72be1_row2_col2\" class=\"data row2 col2\" >Q3</td>\n",
       "      <td id=\"T_72be1_row2_col3\" class=\"data row2 col3\" >2,644,996</td>\n",
       "      <td id=\"T_72be1_row2_col4\" class=\"data row2 col4\" >757,353</td>\n",
       "      <td id=\"T_72be1_row2_col5\" class=\"data row2 col5\" >1,887,643</td>\n",
       "      <td id=\"T_72be1_row2_col6\" class=\"data row2 col6\" >249.24%</td>\n",
       "    </tr>\n",
       "    <tr>\n",
       "      <th id=\"T_72be1_level0_row3\" class=\"row_heading level0 row3\" >168</th>\n",
       "      <td id=\"T_72be1_row3_col0\" class=\"data row3 col0\" >NER</td>\n",
       "      <td id=\"T_72be1_row3_col1\" class=\"data row3 col1\" >2021</td>\n",
       "      <td id=\"T_72be1_row3_col2\" class=\"data row3 col2\" >Q3</td>\n",
       "      <td id=\"T_72be1_row3_col3\" class=\"data row3 col3\" >1,667,199</td>\n",
       "      <td id=\"T_72be1_row3_col4\" class=\"data row3 col4\" >561,189</td>\n",
       "      <td id=\"T_72be1_row3_col5\" class=\"data row3 col5\" >1,106,010</td>\n",
       "      <td id=\"T_72be1_row3_col6\" class=\"data row3 col6\" >197.08%</td>\n",
       "    </tr>\n",
       "    <tr>\n",
       "      <th id=\"T_72be1_level0_row4\" class=\"row_heading level0 row4\" >201</th>\n",
       "      <td id=\"T_72be1_row4_col0\" class=\"data row4 col0\" >ROJNA</td>\n",
       "      <td id=\"T_72be1_row4_col1\" class=\"data row4 col1\" >2021</td>\n",
       "      <td id=\"T_72be1_row4_col2\" class=\"data row4 col2\" >Q3</td>\n",
       "      <td id=\"T_72be1_row4_col3\" class=\"data row4 col3\" >2,184,589</td>\n",
       "      <td id=\"T_72be1_row4_col4\" class=\"data row4 col4\" >817,176</td>\n",
       "      <td id=\"T_72be1_row4_col5\" class=\"data row4 col5\" >1,367,413</td>\n",
       "      <td id=\"T_72be1_row4_col6\" class=\"data row4 col6\" >167.33%</td>\n",
       "    </tr>\n",
       "  </tbody>\n",
       "</table>\n"
      ],
      "text/plain": [
       "<pandas.io.formats.style.Styler at 0x1d00cfbbe80>"
      ]
     },
     "execution_count": 17,
     "metadata": {},
     "output_type": "execute_result"
    }
   ],
   "source": [
    "final_criteria = criteria_1 & criteria_2 & criteria_3\n",
    "df_ins.loc[final_criteria, cols].sort_values(by=[\"percent\"], ascending=[False]).head().style.format(format_dict)"
   ]
  },
  {
   "cell_type": "code",
   "execution_count": 18,
   "metadata": {},
   "outputs": [
    {
     "data": {
      "text/html": [
       "<style type=\"text/css\">\n",
       "</style>\n",
       "<table id=\"T_178c9_\">\n",
       "  <thead>\n",
       "    <tr>\n",
       "      <th class=\"blank level0\" >&nbsp;</th>\n",
       "      <th class=\"col_heading level0 col0\" >name</th>\n",
       "      <th class=\"col_heading level0 col1\" >year</th>\n",
       "      <th class=\"col_heading level0 col2\" >quarter</th>\n",
       "      <th class=\"col_heading level0 col3\" >q_amt_c</th>\n",
       "      <th class=\"col_heading level0 col4\" >q_amt_p</th>\n",
       "      <th class=\"col_heading level0 col5\" >inc_profit</th>\n",
       "      <th class=\"col_heading level0 col6\" >percent</th>\n",
       "    </tr>\n",
       "  </thead>\n",
       "  <tbody>\n",
       "    <tr>\n",
       "      <th id=\"T_178c9_level0_row0\" class=\"row_heading level0 row0\" >14</th>\n",
       "      <td id=\"T_178c9_row0_col0\" class=\"data row0 col0\" >AMATA</td>\n",
       "      <td id=\"T_178c9_row0_col1\" class=\"data row0 col1\" >2021</td>\n",
       "      <td id=\"T_178c9_row0_col2\" class=\"data row0 col2\" >Q3</td>\n",
       "      <td id=\"T_178c9_row0_col3\" class=\"data row0 col3\" >1,058,096</td>\n",
       "      <td id=\"T_178c9_row0_col4\" class=\"data row0 col4\" >957,203</td>\n",
       "      <td id=\"T_178c9_row0_col5\" class=\"data row0 col5\" >100,893</td>\n",
       "      <td id=\"T_178c9_row0_col6\" class=\"data row0 col6\" >10.54%</td>\n",
       "    </tr>\n",
       "    <tr>\n",
       "      <th id=\"T_178c9_level0_row1\" class=\"row_heading level0 row1\" >22</th>\n",
       "      <td id=\"T_178c9_row1_col0\" class=\"data row1 col0\" >ASIAN</td>\n",
       "      <td id=\"T_178c9_row1_col1\" class=\"data row1 col1\" >2021</td>\n",
       "      <td id=\"T_178c9_row1_col2\" class=\"data row1 col2\" >Q3</td>\n",
       "      <td id=\"T_178c9_row1_col3\" class=\"data row1 col3\" >989,973</td>\n",
       "      <td id=\"T_178c9_row1_col4\" class=\"data row1 col4\" >624,156</td>\n",
       "      <td id=\"T_178c9_row1_col5\" class=\"data row1 col5\" >365,817</td>\n",
       "      <td id=\"T_178c9_row1_col6\" class=\"data row1 col6\" >58.61%</td>\n",
       "    </tr>\n",
       "    <tr>\n",
       "      <th id=\"T_178c9_level0_row2\" class=\"row_heading level0 row2\" >23</th>\n",
       "      <td id=\"T_178c9_row2_col0\" class=\"data row2 col0\" >ASK</td>\n",
       "      <td id=\"T_178c9_row2_col1\" class=\"data row2 col1\" >2021</td>\n",
       "      <td id=\"T_178c9_row2_col2\" class=\"data row2 col2\" >Q3</td>\n",
       "      <td id=\"T_178c9_row2_col3\" class=\"data row2 col3\" >1,080,308</td>\n",
       "      <td id=\"T_178c9_row2_col4\" class=\"data row2 col4\" >903,132</td>\n",
       "      <td id=\"T_178c9_row2_col5\" class=\"data row2 col5\" >177,176</td>\n",
       "      <td id=\"T_178c9_row2_col6\" class=\"data row2 col6\" >19.62%</td>\n",
       "    </tr>\n",
       "    <tr>\n",
       "      <th id=\"T_178c9_level0_row3\" class=\"row_heading level0 row3\" >30</th>\n",
       "      <td id=\"T_178c9_row3_col0\" class=\"data row3 col0\" >BAY</td>\n",
       "      <td id=\"T_178c9_row3_col1\" class=\"data row3 col1\" >2021</td>\n",
       "      <td id=\"T_178c9_row3_col2\" class=\"data row3 col2\" >Q3</td>\n",
       "      <td id=\"T_178c9_row3_col3\" class=\"data row3 col3\" >30,793,995</td>\n",
       "      <td id=\"T_178c9_row3_col4\" class=\"data row3 col4\" >26,092,193</td>\n",
       "      <td id=\"T_178c9_row3_col5\" class=\"data row3 col5\" >4,701,802</td>\n",
       "      <td id=\"T_178c9_row3_col6\" class=\"data row3 col6\" >18.02%</td>\n",
       "    </tr>\n",
       "    <tr>\n",
       "      <th id=\"T_178c9_level0_row4\" class=\"row_heading level0 row4\" >32</th>\n",
       "      <td id=\"T_178c9_row4_col0\" class=\"data row4 col0\" >BCH</td>\n",
       "      <td id=\"T_178c9_row4_col1\" class=\"data row4 col1\" >2021</td>\n",
       "      <td id=\"T_178c9_row4_col2\" class=\"data row4 col2\" >Q3</td>\n",
       "      <td id=\"T_178c9_row4_col3\" class=\"data row4 col3\" >4,644,042</td>\n",
       "      <td id=\"T_178c9_row4_col4\" class=\"data row4 col4\" >1,191,940</td>\n",
       "      <td id=\"T_178c9_row4_col5\" class=\"data row4 col5\" >3,452,102</td>\n",
       "      <td id=\"T_178c9_row4_col6\" class=\"data row4 col6\" >289.62%</td>\n",
       "    </tr>\n",
       "  </tbody>\n",
       "</table>\n"
      ],
      "text/plain": [
       "<pandas.io.formats.style.Styler at 0x1d00cf2d5e0>"
      ]
     },
     "execution_count": 18,
     "metadata": {},
     "output_type": "execute_result"
    }
   ],
   "source": [
    "df_ins.loc[final_criteria, cols].sort_values(by=[\"name\"], ascending=[True]).head().style.format(format_dict)"
   ]
  },
  {
   "cell_type": "code",
   "execution_count": 19,
   "metadata": {},
   "outputs": [
    {
     "data": {
      "text/html": [
       "<style type=\"text/css\">\n",
       "</style>\n",
       "<table id=\"T_f2992_\">\n",
       "  <thead>\n",
       "    <tr>\n",
       "      <th class=\"blank level0\" >&nbsp;</th>\n",
       "      <th class=\"col_heading level0 col0\" >name</th>\n",
       "      <th class=\"col_heading level0 col1\" >year</th>\n",
       "      <th class=\"col_heading level0 col2\" >quarter</th>\n",
       "      <th class=\"col_heading level0 col3\" >q_amt_c</th>\n",
       "      <th class=\"col_heading level0 col4\" >q_amt_p</th>\n",
       "      <th class=\"col_heading level0 col5\" >inc_profit</th>\n",
       "      <th class=\"col_heading level0 col6\" >percent</th>\n",
       "    </tr>\n",
       "  </thead>\n",
       "  <tbody>\n",
       "    <tr>\n",
       "      <th id=\"T_f2992_level0_row0\" class=\"row_heading level0 row0\" >14</th>\n",
       "      <td id=\"T_f2992_row0_col0\" class=\"data row0 col0\" >AMATA</td>\n",
       "      <td id=\"T_f2992_row0_col1\" class=\"data row0 col1\" >2021</td>\n",
       "      <td id=\"T_f2992_row0_col2\" class=\"data row0 col2\" >Q3</td>\n",
       "      <td id=\"T_f2992_row0_col3\" class=\"data row0 col3\" >1,058,096</td>\n",
       "      <td id=\"T_f2992_row0_col4\" class=\"data row0 col4\" >957,203</td>\n",
       "      <td id=\"T_f2992_row0_col5\" class=\"data row0 col5\" >100,893</td>\n",
       "      <td id=\"T_f2992_row0_col6\" class=\"data row0 col6\" >10.54%</td>\n",
       "    </tr>\n",
       "    <tr>\n",
       "      <th id=\"T_f2992_level0_row1\" class=\"row_heading level0 row1\" >22</th>\n",
       "      <td id=\"T_f2992_row1_col0\" class=\"data row1 col0\" >ASIAN</td>\n",
       "      <td id=\"T_f2992_row1_col1\" class=\"data row1 col1\" >2021</td>\n",
       "      <td id=\"T_f2992_row1_col2\" class=\"data row1 col2\" >Q3</td>\n",
       "      <td id=\"T_f2992_row1_col3\" class=\"data row1 col3\" >989,973</td>\n",
       "      <td id=\"T_f2992_row1_col4\" class=\"data row1 col4\" >624,156</td>\n",
       "      <td id=\"T_f2992_row1_col5\" class=\"data row1 col5\" >365,817</td>\n",
       "      <td id=\"T_f2992_row1_col6\" class=\"data row1 col6\" >58.61%</td>\n",
       "    </tr>\n",
       "    <tr>\n",
       "      <th id=\"T_f2992_level0_row2\" class=\"row_heading level0 row2\" >23</th>\n",
       "      <td id=\"T_f2992_row2_col0\" class=\"data row2 col0\" >ASK</td>\n",
       "      <td id=\"T_f2992_row2_col1\" class=\"data row2 col1\" >2021</td>\n",
       "      <td id=\"T_f2992_row2_col2\" class=\"data row2 col2\" >Q3</td>\n",
       "      <td id=\"T_f2992_row2_col3\" class=\"data row2 col3\" >1,080,308</td>\n",
       "      <td id=\"T_f2992_row2_col4\" class=\"data row2 col4\" >903,132</td>\n",
       "      <td id=\"T_f2992_row2_col5\" class=\"data row2 col5\" >177,176</td>\n",
       "      <td id=\"T_f2992_row2_col6\" class=\"data row2 col6\" >19.62%</td>\n",
       "    </tr>\n",
       "    <tr>\n",
       "      <th id=\"T_f2992_level0_row3\" class=\"row_heading level0 row3\" >30</th>\n",
       "      <td id=\"T_f2992_row3_col0\" class=\"data row3 col0\" >BAY</td>\n",
       "      <td id=\"T_f2992_row3_col1\" class=\"data row3 col1\" >2021</td>\n",
       "      <td id=\"T_f2992_row3_col2\" class=\"data row3 col2\" >Q3</td>\n",
       "      <td id=\"T_f2992_row3_col3\" class=\"data row3 col3\" >30,793,995</td>\n",
       "      <td id=\"T_f2992_row3_col4\" class=\"data row3 col4\" >26,092,193</td>\n",
       "      <td id=\"T_f2992_row3_col5\" class=\"data row3 col5\" >4,701,802</td>\n",
       "      <td id=\"T_f2992_row3_col6\" class=\"data row3 col6\" >18.02%</td>\n",
       "    </tr>\n",
       "    <tr>\n",
       "      <th id=\"T_f2992_level0_row4\" class=\"row_heading level0 row4\" >32</th>\n",
       "      <td id=\"T_f2992_row4_col0\" class=\"data row4 col0\" >BCH</td>\n",
       "      <td id=\"T_f2992_row4_col1\" class=\"data row4 col1\" >2021</td>\n",
       "      <td id=\"T_f2992_row4_col2\" class=\"data row4 col2\" >Q3</td>\n",
       "      <td id=\"T_f2992_row4_col3\" class=\"data row4 col3\" >4,644,042</td>\n",
       "      <td id=\"T_f2992_row4_col4\" class=\"data row4 col4\" >1,191,940</td>\n",
       "      <td id=\"T_f2992_row4_col5\" class=\"data row4 col5\" >3,452,102</td>\n",
       "      <td id=\"T_f2992_row4_col6\" class=\"data row4 col6\" >289.62%</td>\n",
       "    </tr>\n",
       "  </tbody>\n",
       "</table>\n"
      ],
      "text/plain": [
       "<pandas.io.formats.style.Styler at 0x1d00cf36ee0>"
      ]
     },
     "execution_count": 19,
     "metadata": {},
     "output_type": "execute_result"
    }
   ],
   "source": [
    "df_ins.loc[final_criteria, cols].sort_values(by=[\"name\"], ascending=[True]).head().style.format(format_dict)"
   ]
  },
  {
   "cell_type": "code",
   "execution_count": null,
   "metadata": {},
   "outputs": [],
   "source": []
  }
 ],
 "metadata": {
  "anaconda-cloud": {},
  "kernelspec": {
   "display_name": "Python 3 (ipykernel)",
   "language": "python",
   "name": "python3"
  },
  "language_info": {
   "codemirror_mode": {
    "name": "ipython",
    "version": 3
   },
   "file_extension": ".py",
   "mimetype": "text/x-python",
   "name": "python",
   "nbconvert_exporter": "python",
   "pygments_lexer": "ipython3",
   "version": "3.8.11"
  }
 },
 "nbformat": 4,
 "nbformat_minor": 1
}
