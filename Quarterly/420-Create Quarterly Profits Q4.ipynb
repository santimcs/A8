{
 "cells": [
  {
   "cell_type": "markdown",
   "metadata": {},
   "source": [
    "### Restart and Run All Cells"
   ]
  },
  {
   "cell_type": "code",
   "execution_count": 1,
   "metadata": {},
   "outputs": [],
   "source": [
    "import pandas as pd\n",
    "from sqlalchemy import create_engine\n",
    "engine = create_engine(\"sqlite:///c:\\\\ruby\\\\portlt\\\\db\\\\development.sqlite3\")\n",
    "conlt = engine.connect()\n",
    "year = 2021\n",
    "quarter = 4"
   ]
  },
  {
   "cell_type": "code",
   "execution_count": 2,
   "metadata": {},
   "outputs": [],
   "source": [
    "cols = 'name year quarter q_amt_c q_amt_p inc_profit percent'.split()"
   ]
  },
  {
   "cell_type": "code",
   "execution_count": 3,
   "metadata": {},
   "outputs": [],
   "source": [
    "format_dict = {\n",
    "                'q_amt':'{:,}','q_amt_c':'{:,}','q_amt_p':'{:,}','inc_profit':'{:,}',\n",
    "                'yoy_gain':'{:,}','acc_gain':'{:,}',   \n",
    "                'latest_amt':'{:,}','previous_amt':'{:,}','inc_amt':'{:,}',\n",
    "                'q_eps':'{:.4f}','y_eps':'{:.4f}','aq_eps':'{:.4f}','ay_eps':'{:.4f}',\n",
    "                'percent':'{:.2f}%','inc_pct':'{:.2f}%'\n",
    "              }"
   ]
  },
  {
   "cell_type": "code",
   "execution_count": 4,
   "metadata": {},
   "outputs": [
    {
     "name": "stdout",
     "output_type": "stream",
     "text": [
      "\n",
      "SELECT name,year,quarter,q_amt \n",
      "FROM epss \n",
      "WHERE (year = 2021 AND quarter <= 4) \n",
      "OR (year = 2021-1 AND quarter >= 4+1)\n",
      "ORDER BY year DESC, quarter DESC\n",
      "\n"
     ]
    }
   ],
   "source": [
    "sql = \"\"\"\n",
    "SELECT name,year,quarter,q_amt \n",
    "FROM epss \n",
    "WHERE (year = %s AND quarter <= %s) \n",
    "OR (year = %s-1 AND quarter >= %s+1)\n",
    "ORDER BY year DESC, quarter DESC\n",
    "\"\"\"\n",
    "sql = sql % (year, quarter, year, quarter)\n",
    "print(sql)"
   ]
  },
  {
   "cell_type": "code",
   "execution_count": 5,
   "metadata": {},
   "outputs": [
    {
     "data": {
      "text/html": [
       "<div>\n",
       "<style scoped>\n",
       "    .dataframe tbody tr th:only-of-type {\n",
       "        vertical-align: middle;\n",
       "    }\n",
       "\n",
       "    .dataframe tbody tr th {\n",
       "        vertical-align: top;\n",
       "    }\n",
       "\n",
       "    .dataframe thead th {\n",
       "        text-align: right;\n",
       "    }\n",
       "</style>\n",
       "<table border=\"1\" class=\"dataframe\">\n",
       "  <thead>\n",
       "    <tr style=\"text-align: right;\">\n",
       "      <th></th>\n",
       "      <th>name</th>\n",
       "      <th>year</th>\n",
       "      <th>quarter</th>\n",
       "      <th>q_amt</th>\n",
       "      <th>Counter</th>\n",
       "    </tr>\n",
       "  </thead>\n",
       "  <tbody>\n",
       "    <tr>\n",
       "      <th>17</th>\n",
       "      <td>AOT</td>\n",
       "      <td>8084</td>\n",
       "      <td>10</td>\n",
       "      <td>-16322014</td>\n",
       "      <td>4</td>\n",
       "    </tr>\n",
       "    <tr>\n",
       "      <th>31</th>\n",
       "      <td>BAY</td>\n",
       "      <td>8084</td>\n",
       "      <td>10</td>\n",
       "      <td>33794188</td>\n",
       "      <td>4</td>\n",
       "    </tr>\n",
       "    <tr>\n",
       "      <th>111</th>\n",
       "      <td>GVREIT</td>\n",
       "      <td>8084</td>\n",
       "      <td>10</td>\n",
       "      <td>705215</td>\n",
       "      <td>4</td>\n",
       "    </tr>\n",
       "    <tr>\n",
       "      <th>134</th>\n",
       "      <td>IRC</td>\n",
       "      <td>8084</td>\n",
       "      <td>10</td>\n",
       "      <td>340031</td>\n",
       "      <td>4</td>\n",
       "    </tr>\n",
       "    <tr>\n",
       "      <th>149</th>\n",
       "      <td>KKP</td>\n",
       "      <td>8084</td>\n",
       "      <td>10</td>\n",
       "      <td>6318052</td>\n",
       "      <td>4</td>\n",
       "    </tr>\n",
       "  </tbody>\n",
       "</table>\n",
       "</div>"
      ],
      "text/plain": [
       "       name  year  quarter     q_amt  Counter\n",
       "17      AOT  8084       10 -16322014        4\n",
       "31      BAY  8084       10  33794188        4\n",
       "111  GVREIT  8084       10    705215        4\n",
       "134     IRC  8084       10    340031        4\n",
       "149     KKP  8084       10   6318052        4"
      ]
     },
     "execution_count": 5,
     "metadata": {},
     "output_type": "execute_result"
    }
   ],
   "source": [
    "dfc = pd.read_sql(sql, conlt)\n",
    "dfc[\"Counter\"] = 1\n",
    "dfc_grp = dfc.groupby([\"name\"], as_index=False).sum()\n",
    "dfc_grp = dfc_grp[dfc_grp[\"Counter\"] == 4]\n",
    "dfc_grp.head()"
   ]
  },
  {
   "cell_type": "code",
   "execution_count": 6,
   "metadata": {},
   "outputs": [
    {
     "name": "stdout",
     "output_type": "stream",
     "text": [
      "\n",
      "SELECT name,year,quarter,q_amt \n",
      "FROM epss \n",
      "WHERE (year = 2021 AND quarter <= 4-1) \n",
      "OR (year = 2021-1 AND quarter >= 4) \n",
      "ORDER BY year DESC, quarter DESC\n"
     ]
    }
   ],
   "source": [
    "sql = \"\"\"\n",
    "SELECT name,year,quarter,q_amt \n",
    "FROM epss \n",
    "WHERE (year = %s AND quarter <= %s-1) \n",
    "OR (year = %s-1 AND quarter >= %s) \n",
    "ORDER BY year DESC, quarter DESC\"\"\"\n",
    "sql = sql % (year, quarter, year, quarter)\n",
    "print(sql)"
   ]
  },
  {
   "cell_type": "code",
   "execution_count": 7,
   "metadata": {},
   "outputs": [
    {
     "data": {
      "text/html": [
       "<style type=\"text/css\">\n",
       "</style>\n",
       "<table id=\"T_d04e6_\">\n",
       "  <thead>\n",
       "    <tr>\n",
       "      <th class=\"blank level0\" >&nbsp;</th>\n",
       "      <th class=\"col_heading level0 col0\" >name</th>\n",
       "      <th class=\"col_heading level0 col1\" >year</th>\n",
       "      <th class=\"col_heading level0 col2\" >quarter</th>\n",
       "      <th class=\"col_heading level0 col3\" >q_amt</th>\n",
       "      <th class=\"col_heading level0 col4\" >Counter</th>\n",
       "    </tr>\n",
       "  </thead>\n",
       "  <tbody>\n",
       "    <tr>\n",
       "      <th id=\"T_d04e6_level0_row0\" class=\"row_heading level0 row0\" >0</th>\n",
       "      <td id=\"T_d04e6_row0_col0\" class=\"data row0 col0\" >2S</td>\n",
       "      <td id=\"T_d04e6_row0_col1\" class=\"data row0 col1\" >8083</td>\n",
       "      <td id=\"T_d04e6_row0_col2\" class=\"data row0 col2\" >10</td>\n",
       "      <td id=\"T_d04e6_row0_col3\" class=\"data row0 col3\" >788,297</td>\n",
       "      <td id=\"T_d04e6_row0_col4\" class=\"data row0 col4\" >4</td>\n",
       "    </tr>\n",
       "    <tr>\n",
       "      <th id=\"T_d04e6_level0_row1\" class=\"row_heading level0 row1\" >1</th>\n",
       "      <td id=\"T_d04e6_row1_col0\" class=\"data row1 col0\" >AAV</td>\n",
       "      <td id=\"T_d04e6_row1_col1\" class=\"data row1 col1\" >8083</td>\n",
       "      <td id=\"T_d04e6_row1_col2\" class=\"data row1 col2\" >10</td>\n",
       "      <td id=\"T_d04e6_row1_col3\" class=\"data row1 col3\" >-6,769,190</td>\n",
       "      <td id=\"T_d04e6_row1_col4\" class=\"data row1 col4\" >4</td>\n",
       "    </tr>\n",
       "    <tr>\n",
       "      <th id=\"T_d04e6_level0_row2\" class=\"row_heading level0 row2\" >2</th>\n",
       "      <td id=\"T_d04e6_row2_col0\" class=\"data row2 col0\" >ACE</td>\n",
       "      <td id=\"T_d04e6_row2_col1\" class=\"data row2 col1\" >8083</td>\n",
       "      <td id=\"T_d04e6_row2_col2\" class=\"data row2 col2\" >10</td>\n",
       "      <td id=\"T_d04e6_row2_col3\" class=\"data row2 col3\" >1,392,091</td>\n",
       "      <td id=\"T_d04e6_row2_col4\" class=\"data row2 col4\" >4</td>\n",
       "    </tr>\n",
       "    <tr>\n",
       "      <th id=\"T_d04e6_level0_row3\" class=\"row_heading level0 row3\" >3</th>\n",
       "      <td id=\"T_d04e6_row3_col0\" class=\"data row3 col0\" >ADVANC</td>\n",
       "      <td id=\"T_d04e6_row3_col1\" class=\"data row3 col1\" >8083</td>\n",
       "      <td id=\"T_d04e6_row3_col2\" class=\"data row3 col2\" >10</td>\n",
       "      <td id=\"T_d04e6_row3_col3\" class=\"data row3 col3\" >27,223,149</td>\n",
       "      <td id=\"T_d04e6_row3_col4\" class=\"data row3 col4\" >4</td>\n",
       "    </tr>\n",
       "    <tr>\n",
       "      <th id=\"T_d04e6_level0_row4\" class=\"row_heading level0 row4\" >4</th>\n",
       "      <td id=\"T_d04e6_row4_col0\" class=\"data row4 col0\" >AEONTS</td>\n",
       "      <td id=\"T_d04e6_row4_col1\" class=\"data row4 col1\" >8083</td>\n",
       "      <td id=\"T_d04e6_row4_col2\" class=\"data row4 col2\" >10</td>\n",
       "      <td id=\"T_d04e6_row4_col3\" class=\"data row4 col3\" >3,826,113</td>\n",
       "      <td id=\"T_d04e6_row4_col4\" class=\"data row4 col4\" >4</td>\n",
       "    </tr>\n",
       "  </tbody>\n",
       "</table>\n"
      ],
      "text/plain": [
       "<pandas.io.formats.style.Styler at 0x18c9418f250>"
      ]
     },
     "execution_count": 7,
     "metadata": {},
     "output_type": "execute_result"
    }
   ],
   "source": [
    "dfp = pd.read_sql(sql, conlt)\n",
    "dfp[\"Counter\"] = 1\n",
    "dfp_grp = dfp.groupby([\"name\"], as_index=False).sum()\n",
    "dfp_grp = dfp_grp[dfp_grp[\"Counter\"] == 4]\n",
    "dfp_grp.head().style.format(format_dict)"
   ]
  },
  {
   "cell_type": "code",
   "execution_count": 8,
   "metadata": {},
   "outputs": [
    {
     "data": {
      "text/plain": [
       "(338,)"
      ]
     },
     "execution_count": 8,
     "metadata": {},
     "output_type": "execute_result"
    }
   ],
   "source": [
    "dfp.name.unique().shape"
   ]
  },
  {
   "cell_type": "code",
   "execution_count": 9,
   "metadata": {},
   "outputs": [
    {
     "data": {
      "text/plain": [
       "(339, 15)"
      ]
     },
     "execution_count": 9,
     "metadata": {},
     "output_type": "execute_result"
    }
   ],
   "source": [
    "sql = \"\"\"\n",
    "SELECT *\n",
    "FROM stocks\n",
    "\"\"\"\n",
    "stocks = pd.read_sql(sql, conlt)\n",
    "stocks.shape"
   ]
  },
  {
   "cell_type": "code",
   "execution_count": 10,
   "metadata": {},
   "outputs": [
    {
     "data": {
      "text/plain": [
       "(403, 9)"
      ]
     },
     "execution_count": 10,
     "metadata": {},
     "output_type": "execute_result"
    }
   ],
   "source": [
    "sql = \"\"\"\n",
    "SELECT *\n",
    "FROM tickers\n",
    "\"\"\"\n",
    "tickers = pd.read_sql(sql, conlt)\n",
    "tickers.shape"
   ]
  },
  {
   "cell_type": "code",
   "execution_count": 11,
   "metadata": {},
   "outputs": [
    {
     "data": {
      "text/html": [
       "<style type=\"text/css\">\n",
       "</style>\n",
       "<table id=\"T_0d944_\">\n",
       "  <thead>\n",
       "    <tr>\n",
       "      <th class=\"blank level0\" >&nbsp;</th>\n",
       "      <th class=\"col_heading level0 col0\" >name</th>\n",
       "      <th class=\"col_heading level0 col1\" >year</th>\n",
       "      <th class=\"col_heading level0 col2\" >quarter</th>\n",
       "      <th class=\"col_heading level0 col3\" >q_amt_c</th>\n",
       "      <th class=\"col_heading level0 col4\" >q_amt_p</th>\n",
       "      <th class=\"col_heading level0 col5\" >inc_profit</th>\n",
       "      <th class=\"col_heading level0 col6\" >percent</th>\n",
       "    </tr>\n",
       "  </thead>\n",
       "  <tbody>\n",
       "    <tr>\n",
       "      <th id=\"T_0d944_level0_row0\" class=\"row_heading level0 row0\" >0</th>\n",
       "      <td id=\"T_0d944_row0_col0\" class=\"data row0 col0\" >AOT</td>\n",
       "      <td id=\"T_0d944_row0_col1\" class=\"data row0 col1\" >2021</td>\n",
       "      <td id=\"T_0d944_row0_col2\" class=\"data row0 col2\" >Q4</td>\n",
       "      <td id=\"T_0d944_row0_col3\" class=\"data row0 col3\" >-16,322,014</td>\n",
       "      <td id=\"T_0d944_row0_col4\" class=\"data row0 col4\" >-14,892,318</td>\n",
       "      <td id=\"T_0d944_row0_col5\" class=\"data row0 col5\" >-1,429,696</td>\n",
       "      <td id=\"T_0d944_row0_col6\" class=\"data row0 col6\" >-9.60%</td>\n",
       "    </tr>\n",
       "    <tr>\n",
       "      <th id=\"T_0d944_level0_row1\" class=\"row_heading level0 row1\" >1</th>\n",
       "      <td id=\"T_0d944_row1_col0\" class=\"data row1 col0\" >BAY</td>\n",
       "      <td id=\"T_0d944_row1_col1\" class=\"data row1 col1\" >2021</td>\n",
       "      <td id=\"T_0d944_row1_col2\" class=\"data row1 col2\" >Q4</td>\n",
       "      <td id=\"T_0d944_row1_col3\" class=\"data row1 col3\" >33,794,188</td>\n",
       "      <td id=\"T_0d944_row1_col4\" class=\"data row1 col4\" >30,793,995</td>\n",
       "      <td id=\"T_0d944_row1_col5\" class=\"data row1 col5\" >3,000,193</td>\n",
       "      <td id=\"T_0d944_row1_col6\" class=\"data row1 col6\" >9.74%</td>\n",
       "    </tr>\n",
       "    <tr>\n",
       "      <th id=\"T_0d944_level0_row2\" class=\"row_heading level0 row2\" >2</th>\n",
       "      <td id=\"T_0d944_row2_col0\" class=\"data row2 col0\" >GVREIT</td>\n",
       "      <td id=\"T_0d944_row2_col1\" class=\"data row2 col1\" >2021</td>\n",
       "      <td id=\"T_0d944_row2_col2\" class=\"data row2 col2\" >Q4</td>\n",
       "      <td id=\"T_0d944_row2_col3\" class=\"data row2 col3\" >705,215</td>\n",
       "      <td id=\"T_0d944_row2_col4\" class=\"data row2 col4\" >823,986</td>\n",
       "      <td id=\"T_0d944_row2_col5\" class=\"data row2 col5\" >-118,771</td>\n",
       "      <td id=\"T_0d944_row2_col6\" class=\"data row2 col6\" >-14.41%</td>\n",
       "    </tr>\n",
       "    <tr>\n",
       "      <th id=\"T_0d944_level0_row3\" class=\"row_heading level0 row3\" >3</th>\n",
       "      <td id=\"T_0d944_row3_col0\" class=\"data row3 col0\" >IRC</td>\n",
       "      <td id=\"T_0d944_row3_col1\" class=\"data row3 col1\" >2021</td>\n",
       "      <td id=\"T_0d944_row3_col2\" class=\"data row3 col2\" >Q4</td>\n",
       "      <td id=\"T_0d944_row3_col3\" class=\"data row3 col3\" >340,031</td>\n",
       "      <td id=\"T_0d944_row3_col4\" class=\"data row3 col4\" >392,322</td>\n",
       "      <td id=\"T_0d944_row3_col5\" class=\"data row3 col5\" >-52,291</td>\n",
       "      <td id=\"T_0d944_row3_col6\" class=\"data row3 col6\" >-13.33%</td>\n",
       "    </tr>\n",
       "    <tr>\n",
       "      <th id=\"T_0d944_level0_row4\" class=\"row_heading level0 row4\" >4</th>\n",
       "      <td id=\"T_0d944_row4_col0\" class=\"data row4 col0\" >KKP</td>\n",
       "      <td id=\"T_0d944_row4_col1\" class=\"data row4 col1\" >2021</td>\n",
       "      <td id=\"T_0d944_row4_col2\" class=\"data row4 col2\" >Q4</td>\n",
       "      <td id=\"T_0d944_row4_col3\" class=\"data row4 col3\" >6,318,052</td>\n",
       "      <td id=\"T_0d944_row4_col4\" class=\"data row4 col4\" >5,402,784</td>\n",
       "      <td id=\"T_0d944_row4_col5\" class=\"data row4 col5\" >915,268</td>\n",
       "      <td id=\"T_0d944_row4_col6\" class=\"data row4 col6\" >16.94%</td>\n",
       "    </tr>\n",
       "  </tbody>\n",
       "</table>\n"
      ],
      "text/plain": [
       "<pandas.io.formats.style.Styler at 0x18c942603a0>"
      ]
     },
     "execution_count": 11,
     "metadata": {},
     "output_type": "execute_result"
    }
   ],
   "source": [
    "dfm = pd.merge(dfc_grp, dfp_grp, on=\"name\", suffixes=([\"_c\", \"_p\"]), how=\"inner\")\n",
    "dfm[\"inc_profit\"] = dfm[\"q_amt_c\"] - dfm[\"q_amt_p\"]\n",
    "dfm[\"percent\"] = round(dfm[\"inc_profit\"] / abs(dfm[\"q_amt_p\"]) * 100, 2)\n",
    "dfm[\"year\"] = year\n",
    "dfm[\"quarter\"] = \"Q\" + str(quarter)\n",
    "df_percent = dfm[cols]\n",
    "df_percent.head().style.format(format_dict)"
   ]
  },
  {
   "cell_type": "code",
   "execution_count": 12,
   "metadata": {},
   "outputs": [
    {
     "name": "stdout",
     "output_type": "stream",
     "text": [
      "\n",
      "DELETE FROM qt_profits \n",
      "WHERE year = 2021 AND quarter = 'Q4'\n",
      "\n"
     ]
    },
    {
     "data": {
      "text/plain": [
       "6"
      ]
     },
     "execution_count": 12,
     "metadata": {},
     "output_type": "execute_result"
    }
   ],
   "source": [
    "sql = \"\"\"\n",
    "DELETE FROM qt_profits \n",
    "WHERE year = %s AND quarter = 'Q%s'\n",
    "\"\"\"\n",
    "sql = sql % (year, quarter)\n",
    "print(sql)\n",
    "\n",
    "rp = conlt.execute(sql)\n",
    "rp.rowcount"
   ]
  },
  {
   "cell_type": "code",
   "execution_count": 13,
   "metadata": {},
   "outputs": [
    {
     "data": {
      "text/html": [
       "<div>\n",
       "<style scoped>\n",
       "    .dataframe tbody tr th:only-of-type {\n",
       "        vertical-align: middle;\n",
       "    }\n",
       "\n",
       "    .dataframe tbody tr th {\n",
       "        vertical-align: top;\n",
       "    }\n",
       "\n",
       "    .dataframe thead th {\n",
       "        text-align: right;\n",
       "    }\n",
       "</style>\n",
       "<table border=\"1\" class=\"dataframe\">\n",
       "  <thead>\n",
       "    <tr style=\"text-align: right;\">\n",
       "      <th></th>\n",
       "      <th>name</th>\n",
       "      <th>id</th>\n",
       "    </tr>\n",
       "  </thead>\n",
       "  <tbody>\n",
       "    <tr>\n",
       "      <th>0</th>\n",
       "      <td>2S</td>\n",
       "      <td>727</td>\n",
       "    </tr>\n",
       "    <tr>\n",
       "      <th>1</th>\n",
       "      <td>A</td>\n",
       "      <td>1</td>\n",
       "    </tr>\n",
       "    <tr>\n",
       "      <th>2</th>\n",
       "      <td>AAV</td>\n",
       "      <td>732</td>\n",
       "    </tr>\n",
       "    <tr>\n",
       "      <th>3</th>\n",
       "      <td>ACE</td>\n",
       "      <td>698</td>\n",
       "    </tr>\n",
       "    <tr>\n",
       "      <th>4</th>\n",
       "      <td>ADVANC</td>\n",
       "      <td>6</td>\n",
       "    </tr>\n",
       "  </tbody>\n",
       "</table>\n",
       "</div>"
      ],
      "text/plain": [
       "     name   id\n",
       "0      2S  727\n",
       "1       A    1\n",
       "2     AAV  732\n",
       "3     ACE  698\n",
       "4  ADVANC    6"
      ]
     },
     "execution_count": 13,
     "metadata": {},
     "output_type": "execute_result"
    }
   ],
   "source": [
    "sql = \"SELECT name, id FROM tickers\"\n",
    "tickers = pd.read_sql(sql, conlt)\n",
    "tickers.head()"
   ]
  },
  {
   "cell_type": "code",
   "execution_count": 14,
   "metadata": {},
   "outputs": [
    {
     "data": {
      "text/html": [
       "<style type=\"text/css\">\n",
       "</style>\n",
       "<table id=\"T_23a81_\">\n",
       "  <thead>\n",
       "    <tr>\n",
       "      <th class=\"blank level0\" >&nbsp;</th>\n",
       "      <th class=\"col_heading level0 col0\" >name</th>\n",
       "      <th class=\"col_heading level0 col1\" >year</th>\n",
       "      <th class=\"col_heading level0 col2\" >quarter</th>\n",
       "      <th class=\"col_heading level0 col3\" >q_amt_c</th>\n",
       "      <th class=\"col_heading level0 col4\" >q_amt_p</th>\n",
       "      <th class=\"col_heading level0 col5\" >inc_profit</th>\n",
       "      <th class=\"col_heading level0 col6\" >percent</th>\n",
       "      <th class=\"col_heading level0 col7\" >id</th>\n",
       "    </tr>\n",
       "  </thead>\n",
       "  <tbody>\n",
       "    <tr>\n",
       "      <th id=\"T_23a81_level0_row0\" class=\"row_heading level0 row0\" >0</th>\n",
       "      <td id=\"T_23a81_row0_col0\" class=\"data row0 col0\" >AOT</td>\n",
       "      <td id=\"T_23a81_row0_col1\" class=\"data row0 col1\" >2021</td>\n",
       "      <td id=\"T_23a81_row0_col2\" class=\"data row0 col2\" >Q4</td>\n",
       "      <td id=\"T_23a81_row0_col3\" class=\"data row0 col3\" >-16,322,014</td>\n",
       "      <td id=\"T_23a81_row0_col4\" class=\"data row0 col4\" >-14,892,318</td>\n",
       "      <td id=\"T_23a81_row0_col5\" class=\"data row0 col5\" >-1,429,696</td>\n",
       "      <td id=\"T_23a81_row0_col6\" class=\"data row0 col6\" >-9.60%</td>\n",
       "      <td id=\"T_23a81_row0_col7\" class=\"data row0 col7\" >24</td>\n",
       "    </tr>\n",
       "    <tr>\n",
       "      <th id=\"T_23a81_level0_row1\" class=\"row_heading level0 row1\" >1</th>\n",
       "      <td id=\"T_23a81_row1_col0\" class=\"data row1 col0\" >BAY</td>\n",
       "      <td id=\"T_23a81_row1_col1\" class=\"data row1 col1\" >2021</td>\n",
       "      <td id=\"T_23a81_row1_col2\" class=\"data row1 col2\" >Q4</td>\n",
       "      <td id=\"T_23a81_row1_col3\" class=\"data row1 col3\" >33,794,188</td>\n",
       "      <td id=\"T_23a81_row1_col4\" class=\"data row1 col4\" >30,793,995</td>\n",
       "      <td id=\"T_23a81_row1_col5\" class=\"data row1 col5\" >3,000,193</td>\n",
       "      <td id=\"T_23a81_row1_col6\" class=\"data row1 col6\" >9.74%</td>\n",
       "      <td id=\"T_23a81_row1_col7\" class=\"data row1 col7\" >49</td>\n",
       "    </tr>\n",
       "    <tr>\n",
       "      <th id=\"T_23a81_level0_row2\" class=\"row_heading level0 row2\" >2</th>\n",
       "      <td id=\"T_23a81_row2_col0\" class=\"data row2 col0\" >GVREIT</td>\n",
       "      <td id=\"T_23a81_row2_col1\" class=\"data row2 col1\" >2021</td>\n",
       "      <td id=\"T_23a81_row2_col2\" class=\"data row2 col2\" >Q4</td>\n",
       "      <td id=\"T_23a81_row2_col3\" class=\"data row2 col3\" >705,215</td>\n",
       "      <td id=\"T_23a81_row2_col4\" class=\"data row2 col4\" >823,986</td>\n",
       "      <td id=\"T_23a81_row2_col5\" class=\"data row2 col5\" >-118,771</td>\n",
       "      <td id=\"T_23a81_row2_col6\" class=\"data row2 col6\" >-14.41%</td>\n",
       "      <td id=\"T_23a81_row2_col7\" class=\"data row2 col7\" >654</td>\n",
       "    </tr>\n",
       "    <tr>\n",
       "      <th id=\"T_23a81_level0_row3\" class=\"row_heading level0 row3\" >3</th>\n",
       "      <td id=\"T_23a81_row3_col0\" class=\"data row3 col0\" >IRC</td>\n",
       "      <td id=\"T_23a81_row3_col1\" class=\"data row3 col1\" >2021</td>\n",
       "      <td id=\"T_23a81_row3_col2\" class=\"data row3 col2\" >Q4</td>\n",
       "      <td id=\"T_23a81_row3_col3\" class=\"data row3 col3\" >340,031</td>\n",
       "      <td id=\"T_23a81_row3_col4\" class=\"data row3 col4\" >392,322</td>\n",
       "      <td id=\"T_23a81_row3_col5\" class=\"data row3 col5\" >-52,291</td>\n",
       "      <td id=\"T_23a81_row3_col6\" class=\"data row3 col6\" >-13.33%</td>\n",
       "      <td id=\"T_23a81_row3_col7\" class=\"data row3 col7\" >225</td>\n",
       "    </tr>\n",
       "    <tr>\n",
       "      <th id=\"T_23a81_level0_row4\" class=\"row_heading level0 row4\" >4</th>\n",
       "      <td id=\"T_23a81_row4_col0\" class=\"data row4 col0\" >KKP</td>\n",
       "      <td id=\"T_23a81_row4_col1\" class=\"data row4 col1\" >2021</td>\n",
       "      <td id=\"T_23a81_row4_col2\" class=\"data row4 col2\" >Q4</td>\n",
       "      <td id=\"T_23a81_row4_col3\" class=\"data row4 col3\" >6,318,052</td>\n",
       "      <td id=\"T_23a81_row4_col4\" class=\"data row4 col4\" >5,402,784</td>\n",
       "      <td id=\"T_23a81_row4_col5\" class=\"data row4 col5\" >915,268</td>\n",
       "      <td id=\"T_23a81_row4_col6\" class=\"data row4 col6\" >16.94%</td>\n",
       "      <td id=\"T_23a81_row4_col7\" class=\"data row4 col7\" >255</td>\n",
       "    </tr>\n",
       "  </tbody>\n",
       "</table>\n"
      ],
      "text/plain": [
       "<pandas.io.formats.style.Styler at 0x18c97d94490>"
      ]
     },
     "execution_count": 14,
     "metadata": {},
     "output_type": "execute_result"
    }
   ],
   "source": [
    "df_ins = pd.merge(df_percent, tickers, on=\"name\", how=\"inner\")\n",
    "df_ins.head().style.format(format_dict)"
   ]
  },
  {
   "cell_type": "code",
   "execution_count": 15,
   "metadata": {},
   "outputs": [
    {
     "data": {
      "text/plain": [
       "10"
      ]
     },
     "execution_count": 15,
     "metadata": {},
     "output_type": "execute_result"
    }
   ],
   "source": [
    "rcds = df_ins.values.tolist()\n",
    "len(rcds)"
   ]
  },
  {
   "cell_type": "code",
   "execution_count": 16,
   "metadata": {},
   "outputs": [],
   "source": [
    "#for rcd in rcds:\n",
    "#    print(rcd)"
   ]
  },
  {
   "cell_type": "code",
   "execution_count": 17,
   "metadata": {},
   "outputs": [
    {
     "name": "stdout",
     "output_type": "stream",
     "text": [
      "\n",
      "INSERT INTO qt_profits (name, year, quarter, latest_amt, previous_amt, inc_amt, inc_pct, ticker_id) VALUES (?, ?, ?, ?, ?, ?, ?, ?)\n",
      "\n"
     ]
    }
   ],
   "source": [
    "sql = \"\"\"\n",
    "INSERT INTO qt_profits (name, year, quarter, latest_amt, previous_amt, \\\n",
    "inc_amt, inc_pct, ticker_id) \\\n",
    "VALUES (?, ?, ?, ?, ?, ?, ?, ?)\n",
    "\"\"\"\n",
    "print(sql)"
   ]
  },
  {
   "cell_type": "code",
   "execution_count": 18,
   "metadata": {},
   "outputs": [],
   "source": [
    "for rcd in rcds:\n",
    "    conlt.execute(sql, rcd)"
   ]
  },
  {
   "cell_type": "markdown",
   "metadata": {},
   "source": [
    "### End of loop"
   ]
  },
  {
   "cell_type": "code",
   "execution_count": 19,
   "metadata": {},
   "outputs": [
    {
     "data": {
      "text/html": [
       "<style type=\"text/css\">\n",
       "</style>\n",
       "<table id=\"T_3df8d_\">\n",
       "  <thead>\n",
       "    <tr>\n",
       "      <th class=\"blank level0\" >&nbsp;</th>\n",
       "      <th class=\"col_heading level0 col0\" >name</th>\n",
       "      <th class=\"col_heading level0 col1\" >year</th>\n",
       "      <th class=\"col_heading level0 col2\" >quarter</th>\n",
       "      <th class=\"col_heading level0 col3\" >q_amt_c</th>\n",
       "      <th class=\"col_heading level0 col4\" >q_amt_p</th>\n",
       "      <th class=\"col_heading level0 col5\" >inc_profit</th>\n",
       "      <th class=\"col_heading level0 col6\" >percent</th>\n",
       "    </tr>\n",
       "  </thead>\n",
       "  <tbody>\n",
       "    <tr>\n",
       "      <th id=\"T_3df8d_level0_row0\" class=\"row_heading level0 row0\" >1</th>\n",
       "      <td id=\"T_3df8d_row0_col0\" class=\"data row0 col0\" >BAY</td>\n",
       "      <td id=\"T_3df8d_row0_col1\" class=\"data row0 col1\" >2021</td>\n",
       "      <td id=\"T_3df8d_row0_col2\" class=\"data row0 col2\" >Q4</td>\n",
       "      <td id=\"T_3df8d_row0_col3\" class=\"data row0 col3\" >33,794,188</td>\n",
       "      <td id=\"T_3df8d_row0_col4\" class=\"data row0 col4\" >30,793,995</td>\n",
       "      <td id=\"T_3df8d_row0_col5\" class=\"data row0 col5\" >3,000,193</td>\n",
       "      <td id=\"T_3df8d_row0_col6\" class=\"data row0 col6\" >9.74%</td>\n",
       "    </tr>\n",
       "    <tr>\n",
       "      <th id=\"T_3df8d_level0_row1\" class=\"row_heading level0 row1\" >2</th>\n",
       "      <td id=\"T_3df8d_row1_col0\" class=\"data row1 col0\" >GVREIT</td>\n",
       "      <td id=\"T_3df8d_row1_col1\" class=\"data row1 col1\" >2021</td>\n",
       "      <td id=\"T_3df8d_row1_col2\" class=\"data row1 col2\" >Q4</td>\n",
       "      <td id=\"T_3df8d_row1_col3\" class=\"data row1 col3\" >705,215</td>\n",
       "      <td id=\"T_3df8d_row1_col4\" class=\"data row1 col4\" >823,986</td>\n",
       "      <td id=\"T_3df8d_row1_col5\" class=\"data row1 col5\" >-118,771</td>\n",
       "      <td id=\"T_3df8d_row1_col6\" class=\"data row1 col6\" >-14.41%</td>\n",
       "    </tr>\n",
       "    <tr>\n",
       "      <th id=\"T_3df8d_level0_row2\" class=\"row_heading level0 row2\" >4</th>\n",
       "      <td id=\"T_3df8d_row2_col0\" class=\"data row2 col0\" >KKP</td>\n",
       "      <td id=\"T_3df8d_row2_col1\" class=\"data row2 col1\" >2021</td>\n",
       "      <td id=\"T_3df8d_row2_col2\" class=\"data row2 col2\" >Q4</td>\n",
       "      <td id=\"T_3df8d_row2_col3\" class=\"data row2 col3\" >6,318,052</td>\n",
       "      <td id=\"T_3df8d_row2_col4\" class=\"data row2 col4\" >5,402,784</td>\n",
       "      <td id=\"T_3df8d_row2_col5\" class=\"data row2 col5\" >915,268</td>\n",
       "      <td id=\"T_3df8d_row2_col6\" class=\"data row2 col6\" >16.94%</td>\n",
       "    </tr>\n",
       "    <tr>\n",
       "      <th id=\"T_3df8d_level0_row3\" class=\"row_heading level0 row3\" >5</th>\n",
       "      <td id=\"T_3df8d_row3_col0\" class=\"data row3 col0\" >LHFG</td>\n",
       "      <td id=\"T_3df8d_row3_col1\" class=\"data row3 col1\" >2021</td>\n",
       "      <td id=\"T_3df8d_row3_col2\" class=\"data row3 col2\" >Q4</td>\n",
       "      <td id=\"T_3df8d_row3_col3\" class=\"data row3 col3\" >1,383,721</td>\n",
       "      <td id=\"T_3df8d_row3_col4\" class=\"data row3 col4\" >1,960,994</td>\n",
       "      <td id=\"T_3df8d_row3_col5\" class=\"data row3 col5\" >-577,273</td>\n",
       "      <td id=\"T_3df8d_row3_col6\" class=\"data row3 col6\" >-29.44%</td>\n",
       "    </tr>\n",
       "    <tr>\n",
       "      <th id=\"T_3df8d_level0_row4\" class=\"row_heading level0 row4\" >6</th>\n",
       "      <td id=\"T_3df8d_row4_col0\" class=\"data row4 col0\" >MC</td>\n",
       "      <td id=\"T_3df8d_row4_col1\" class=\"data row4 col1\" >2021</td>\n",
       "      <td id=\"T_3df8d_row4_col2\" class=\"data row4 col2\" >Q4</td>\n",
       "      <td id=\"T_3df8d_row4_col3\" class=\"data row4 col3\" >445,354</td>\n",
       "      <td id=\"T_3df8d_row4_col4\" class=\"data row4 col4\" >466,243</td>\n",
       "      <td id=\"T_3df8d_row4_col5\" class=\"data row4 col5\" >-20,889</td>\n",
       "      <td id=\"T_3df8d_row4_col6\" class=\"data row4 col6\" >-4.48%</td>\n",
       "    </tr>\n",
       "  </tbody>\n",
       "</table>\n"
      ],
      "text/plain": [
       "<pandas.io.formats.style.Styler at 0x18c97dea670>"
      ]
     },
     "execution_count": 19,
     "metadata": {},
     "output_type": "execute_result"
    }
   ],
   "source": [
    "criteria_1 = df_ins.q_amt_c > 440_000\n",
    "df_ins.loc[criteria_1, cols].head().style.format(format_dict)"
   ]
  },
  {
   "cell_type": "code",
   "execution_count": 20,
   "metadata": {},
   "outputs": [
    {
     "data": {
      "text/html": [
       "<style type=\"text/css\">\n",
       "</style>\n",
       "<table id=\"T_1dabf_\">\n",
       "  <thead>\n",
       "    <tr>\n",
       "      <th class=\"blank level0\" >&nbsp;</th>\n",
       "      <th class=\"col_heading level0 col0\" >name</th>\n",
       "      <th class=\"col_heading level0 col1\" >year</th>\n",
       "      <th class=\"col_heading level0 col2\" >quarter</th>\n",
       "      <th class=\"col_heading level0 col3\" >q_amt_c</th>\n",
       "      <th class=\"col_heading level0 col4\" >q_amt_p</th>\n",
       "      <th class=\"col_heading level0 col5\" >inc_profit</th>\n",
       "      <th class=\"col_heading level0 col6\" >percent</th>\n",
       "    </tr>\n",
       "  </thead>\n",
       "  <tbody>\n",
       "    <tr>\n",
       "      <th id=\"T_1dabf_level0_row0\" class=\"row_heading level0 row0\" >1</th>\n",
       "      <td id=\"T_1dabf_row0_col0\" class=\"data row0 col0\" >BAY</td>\n",
       "      <td id=\"T_1dabf_row0_col1\" class=\"data row0 col1\" >2021</td>\n",
       "      <td id=\"T_1dabf_row0_col2\" class=\"data row0 col2\" >Q4</td>\n",
       "      <td id=\"T_1dabf_row0_col3\" class=\"data row0 col3\" >33,794,188</td>\n",
       "      <td id=\"T_1dabf_row0_col4\" class=\"data row0 col4\" >30,793,995</td>\n",
       "      <td id=\"T_1dabf_row0_col5\" class=\"data row0 col5\" >3,000,193</td>\n",
       "      <td id=\"T_1dabf_row0_col6\" class=\"data row0 col6\" >9.74%</td>\n",
       "    </tr>\n",
       "    <tr>\n",
       "      <th id=\"T_1dabf_level0_row1\" class=\"row_heading level0 row1\" >2</th>\n",
       "      <td id=\"T_1dabf_row1_col0\" class=\"data row1 col0\" >GVREIT</td>\n",
       "      <td id=\"T_1dabf_row1_col1\" class=\"data row1 col1\" >2021</td>\n",
       "      <td id=\"T_1dabf_row1_col2\" class=\"data row1 col2\" >Q4</td>\n",
       "      <td id=\"T_1dabf_row1_col3\" class=\"data row1 col3\" >705,215</td>\n",
       "      <td id=\"T_1dabf_row1_col4\" class=\"data row1 col4\" >823,986</td>\n",
       "      <td id=\"T_1dabf_row1_col5\" class=\"data row1 col5\" >-118,771</td>\n",
       "      <td id=\"T_1dabf_row1_col6\" class=\"data row1 col6\" >-14.41%</td>\n",
       "    </tr>\n",
       "    <tr>\n",
       "      <th id=\"T_1dabf_level0_row2\" class=\"row_heading level0 row2\" >4</th>\n",
       "      <td id=\"T_1dabf_row2_col0\" class=\"data row2 col0\" >KKP</td>\n",
       "      <td id=\"T_1dabf_row2_col1\" class=\"data row2 col1\" >2021</td>\n",
       "      <td id=\"T_1dabf_row2_col2\" class=\"data row2 col2\" >Q4</td>\n",
       "      <td id=\"T_1dabf_row2_col3\" class=\"data row2 col3\" >6,318,052</td>\n",
       "      <td id=\"T_1dabf_row2_col4\" class=\"data row2 col4\" >5,402,784</td>\n",
       "      <td id=\"T_1dabf_row2_col5\" class=\"data row2 col5\" >915,268</td>\n",
       "      <td id=\"T_1dabf_row2_col6\" class=\"data row2 col6\" >16.94%</td>\n",
       "    </tr>\n",
       "    <tr>\n",
       "      <th id=\"T_1dabf_level0_row3\" class=\"row_heading level0 row3\" >5</th>\n",
       "      <td id=\"T_1dabf_row3_col0\" class=\"data row3 col0\" >LHFG</td>\n",
       "      <td id=\"T_1dabf_row3_col1\" class=\"data row3 col1\" >2021</td>\n",
       "      <td id=\"T_1dabf_row3_col2\" class=\"data row3 col2\" >Q4</td>\n",
       "      <td id=\"T_1dabf_row3_col3\" class=\"data row3 col3\" >1,383,721</td>\n",
       "      <td id=\"T_1dabf_row3_col4\" class=\"data row3 col4\" >1,960,994</td>\n",
       "      <td id=\"T_1dabf_row3_col5\" class=\"data row3 col5\" >-577,273</td>\n",
       "      <td id=\"T_1dabf_row3_col6\" class=\"data row3 col6\" >-29.44%</td>\n",
       "    </tr>\n",
       "    <tr>\n",
       "      <th id=\"T_1dabf_level0_row4\" class=\"row_heading level0 row4\" >6</th>\n",
       "      <td id=\"T_1dabf_row4_col0\" class=\"data row4 col0\" >MC</td>\n",
       "      <td id=\"T_1dabf_row4_col1\" class=\"data row4 col1\" >2021</td>\n",
       "      <td id=\"T_1dabf_row4_col2\" class=\"data row4 col2\" >Q4</td>\n",
       "      <td id=\"T_1dabf_row4_col3\" class=\"data row4 col3\" >445,354</td>\n",
       "      <td id=\"T_1dabf_row4_col4\" class=\"data row4 col4\" >466,243</td>\n",
       "      <td id=\"T_1dabf_row4_col5\" class=\"data row4 col5\" >-20,889</td>\n",
       "      <td id=\"T_1dabf_row4_col6\" class=\"data row4 col6\" >-4.48%</td>\n",
       "    </tr>\n",
       "  </tbody>\n",
       "</table>\n"
      ],
      "text/plain": [
       "<pandas.io.formats.style.Styler at 0x18c97ddb760>"
      ]
     },
     "execution_count": 20,
     "metadata": {},
     "output_type": "execute_result"
    }
   ],
   "source": [
    "criteria_2 = df_ins.q_amt_p > 400_000\n",
    "df_ins.loc[criteria_2, cols].head().style.format(format_dict)"
   ]
  },
  {
   "cell_type": "code",
   "execution_count": 21,
   "metadata": {},
   "outputs": [
    {
     "data": {
      "text/html": [
       "<style type=\"text/css\">\n",
       "</style>\n",
       "<table id=\"T_3fd67_\">\n",
       "  <thead>\n",
       "    <tr>\n",
       "      <th class=\"blank level0\" >&nbsp;</th>\n",
       "      <th class=\"col_heading level0 col0\" >name</th>\n",
       "      <th class=\"col_heading level0 col1\" >year</th>\n",
       "      <th class=\"col_heading level0 col2\" >quarter</th>\n",
       "      <th class=\"col_heading level0 col3\" >q_amt_c</th>\n",
       "      <th class=\"col_heading level0 col4\" >q_amt_p</th>\n",
       "      <th class=\"col_heading level0 col5\" >inc_profit</th>\n",
       "      <th class=\"col_heading level0 col6\" >percent</th>\n",
       "    </tr>\n",
       "  </thead>\n",
       "  <tbody>\n",
       "    <tr>\n",
       "      <th id=\"T_3fd67_level0_row0\" class=\"row_heading level0 row0\" >4</th>\n",
       "      <td id=\"T_3fd67_row0_col0\" class=\"data row0 col0\" >KKP</td>\n",
       "      <td id=\"T_3fd67_row0_col1\" class=\"data row0 col1\" >2021</td>\n",
       "      <td id=\"T_3fd67_row0_col2\" class=\"data row0 col2\" >Q4</td>\n",
       "      <td id=\"T_3fd67_row0_col3\" class=\"data row0 col3\" >6,318,052</td>\n",
       "      <td id=\"T_3fd67_row0_col4\" class=\"data row0 col4\" >5,402,784</td>\n",
       "      <td id=\"T_3fd67_row0_col5\" class=\"data row0 col5\" >915,268</td>\n",
       "      <td id=\"T_3fd67_row0_col6\" class=\"data row0 col6\" >16.94%</td>\n",
       "    </tr>\n",
       "    <tr>\n",
       "      <th id=\"T_3fd67_level0_row1\" class=\"row_heading level0 row1\" >9</th>\n",
       "      <td id=\"T_3fd67_row1_col0\" class=\"data row1 col0\" >TTB</td>\n",
       "      <td id=\"T_3fd67_row1_col1\" class=\"data row1 col1\" >2021</td>\n",
       "      <td id=\"T_3fd67_row1_col2\" class=\"data row1 col2\" >Q4</td>\n",
       "      <td id=\"T_3fd67_row1_col3\" class=\"data row1 col3\" >10,474,045</td>\n",
       "      <td id=\"T_3fd67_row1_col4\" class=\"data row1 col4\" >8,909,595</td>\n",
       "      <td id=\"T_3fd67_row1_col5\" class=\"data row1 col5\" >1,564,450</td>\n",
       "      <td id=\"T_3fd67_row1_col6\" class=\"data row1 col6\" >17.56%</td>\n",
       "    </tr>\n",
       "  </tbody>\n",
       "</table>\n"
      ],
      "text/plain": [
       "<pandas.io.formats.style.Styler at 0x18c97d559d0>"
      ]
     },
     "execution_count": 21,
     "metadata": {},
     "output_type": "execute_result"
    }
   ],
   "source": [
    "criteria_3 = df_ins.percent > 10.00\n",
    "df_ins.loc[criteria_3, cols].head().style.format(format_dict)"
   ]
  },
  {
   "cell_type": "code",
   "execution_count": 22,
   "metadata": {},
   "outputs": [
    {
     "data": {
      "text/html": [
       "<style type=\"text/css\">\n",
       "</style>\n",
       "<table id=\"T_774f1_\">\n",
       "  <thead>\n",
       "    <tr>\n",
       "      <th class=\"blank level0\" >&nbsp;</th>\n",
       "      <th class=\"col_heading level0 col0\" >name</th>\n",
       "      <th class=\"col_heading level0 col1\" >year</th>\n",
       "      <th class=\"col_heading level0 col2\" >quarter</th>\n",
       "      <th class=\"col_heading level0 col3\" >q_amt_c</th>\n",
       "      <th class=\"col_heading level0 col4\" >q_amt_p</th>\n",
       "      <th class=\"col_heading level0 col5\" >inc_profit</th>\n",
       "      <th class=\"col_heading level0 col6\" >percent</th>\n",
       "    </tr>\n",
       "  </thead>\n",
       "  <tbody>\n",
       "    <tr>\n",
       "      <th id=\"T_774f1_level0_row0\" class=\"row_heading level0 row0\" >4</th>\n",
       "      <td id=\"T_774f1_row0_col0\" class=\"data row0 col0\" >KKP</td>\n",
       "      <td id=\"T_774f1_row0_col1\" class=\"data row0 col1\" >2021</td>\n",
       "      <td id=\"T_774f1_row0_col2\" class=\"data row0 col2\" >Q4</td>\n",
       "      <td id=\"T_774f1_row0_col3\" class=\"data row0 col3\" >6,318,052</td>\n",
       "      <td id=\"T_774f1_row0_col4\" class=\"data row0 col4\" >5,402,784</td>\n",
       "      <td id=\"T_774f1_row0_col5\" class=\"data row0 col5\" >915,268</td>\n",
       "      <td id=\"T_774f1_row0_col6\" class=\"data row0 col6\" >16.94%</td>\n",
       "    </tr>\n",
       "    <tr>\n",
       "      <th id=\"T_774f1_level0_row1\" class=\"row_heading level0 row1\" >9</th>\n",
       "      <td id=\"T_774f1_row1_col0\" class=\"data row1 col0\" >TTB</td>\n",
       "      <td id=\"T_774f1_row1_col1\" class=\"data row1 col1\" >2021</td>\n",
       "      <td id=\"T_774f1_row1_col2\" class=\"data row1 col2\" >Q4</td>\n",
       "      <td id=\"T_774f1_row1_col3\" class=\"data row1 col3\" >10,474,045</td>\n",
       "      <td id=\"T_774f1_row1_col4\" class=\"data row1 col4\" >8,909,595</td>\n",
       "      <td id=\"T_774f1_row1_col5\" class=\"data row1 col5\" >1,564,450</td>\n",
       "      <td id=\"T_774f1_row1_col6\" class=\"data row1 col6\" >17.56%</td>\n",
       "    </tr>\n",
       "  </tbody>\n",
       "</table>\n"
      ],
      "text/plain": [
       "<pandas.io.formats.style.Styler at 0x18c97e13df0>"
      ]
     },
     "execution_count": 22,
     "metadata": {},
     "output_type": "execute_result"
    }
   ],
   "source": [
    "df_ins_criteria = criteria_1 & criteria_2 & criteria_3\n",
    "df_ins.loc[df_ins_criteria, cols].head().style.format(format_dict)"
   ]
  },
  {
   "cell_type": "code",
   "execution_count": 23,
   "metadata": {},
   "outputs": [
    {
     "data": {
      "text/html": [
       "<style type=\"text/css\">\n",
       "</style>\n",
       "<table id=\"T_4f35a_\">\n",
       "  <thead>\n",
       "    <tr>\n",
       "      <th class=\"blank level0\" >&nbsp;</th>\n",
       "      <th class=\"col_heading level0 col0\" >name</th>\n",
       "      <th class=\"col_heading level0 col1\" >year</th>\n",
       "      <th class=\"col_heading level0 col2\" >quarter</th>\n",
       "      <th class=\"col_heading level0 col3\" >q_amt_c</th>\n",
       "      <th class=\"col_heading level0 col4\" >q_amt_p</th>\n",
       "      <th class=\"col_heading level0 col5\" >inc_profit</th>\n",
       "      <th class=\"col_heading level0 col6\" >percent</th>\n",
       "      <th class=\"col_heading level0 col7\" >id</th>\n",
       "    </tr>\n",
       "  </thead>\n",
       "  <tbody>\n",
       "    <tr>\n",
       "      <th id=\"T_4f35a_level0_row0\" class=\"row_heading level0 row0\" >9</th>\n",
       "      <td id=\"T_4f35a_row0_col0\" class=\"data row0 col0\" >TTB</td>\n",
       "      <td id=\"T_4f35a_row0_col1\" class=\"data row0 col1\" >2021</td>\n",
       "      <td id=\"T_4f35a_row0_col2\" class=\"data row0 col2\" >Q4</td>\n",
       "      <td id=\"T_4f35a_row0_col3\" class=\"data row0 col3\" >10,474,045</td>\n",
       "      <td id=\"T_4f35a_row0_col4\" class=\"data row0 col4\" >8,909,595</td>\n",
       "      <td id=\"T_4f35a_row0_col5\" class=\"data row0 col5\" >1,564,450</td>\n",
       "      <td id=\"T_4f35a_row0_col6\" class=\"data row0 col6\" >17.56%</td>\n",
       "      <td id=\"T_4f35a_row0_col7\" class=\"data row0 col7\" >541</td>\n",
       "    </tr>\n",
       "    <tr>\n",
       "      <th id=\"T_4f35a_level0_row1\" class=\"row_heading level0 row1\" >4</th>\n",
       "      <td id=\"T_4f35a_row1_col0\" class=\"data row1 col0\" >KKP</td>\n",
       "      <td id=\"T_4f35a_row1_col1\" class=\"data row1 col1\" >2021</td>\n",
       "      <td id=\"T_4f35a_row1_col2\" class=\"data row1 col2\" >Q4</td>\n",
       "      <td id=\"T_4f35a_row1_col3\" class=\"data row1 col3\" >6,318,052</td>\n",
       "      <td id=\"T_4f35a_row1_col4\" class=\"data row1 col4\" >5,402,784</td>\n",
       "      <td id=\"T_4f35a_row1_col5\" class=\"data row1 col5\" >915,268</td>\n",
       "      <td id=\"T_4f35a_row1_col6\" class=\"data row1 col6\" >16.94%</td>\n",
       "      <td id=\"T_4f35a_row1_col7\" class=\"data row1 col7\" >255</td>\n",
       "    </tr>\n",
       "  </tbody>\n",
       "</table>\n"
      ],
      "text/plain": [
       "<pandas.io.formats.style.Styler at 0x18c97e1ccd0>"
      ]
     },
     "execution_count": 23,
     "metadata": {},
     "output_type": "execute_result"
    }
   ],
   "source": [
    "df_ins[df_ins_criteria].sort_values(by=[\"percent\"], ascending=[False]).head().style.format(format_dict)"
   ]
  },
  {
   "cell_type": "code",
   "execution_count": 24,
   "metadata": {},
   "outputs": [
    {
     "data": {
      "text/html": [
       "<style type=\"text/css\">\n",
       "</style>\n",
       "<table id=\"T_a8306_\">\n",
       "  <thead>\n",
       "    <tr>\n",
       "      <th class=\"blank level0\" >&nbsp;</th>\n",
       "      <th class=\"col_heading level0 col0\" >name</th>\n",
       "      <th class=\"col_heading level0 col1\" >year</th>\n",
       "      <th class=\"col_heading level0 col2\" >quarter</th>\n",
       "      <th class=\"col_heading level0 col3\" >q_amt_c</th>\n",
       "      <th class=\"col_heading level0 col4\" >q_amt_p</th>\n",
       "      <th class=\"col_heading level0 col5\" >inc_profit</th>\n",
       "      <th class=\"col_heading level0 col6\" >percent</th>\n",
       "      <th class=\"col_heading level0 col7\" >id</th>\n",
       "    </tr>\n",
       "  </thead>\n",
       "  <tbody>\n",
       "    <tr>\n",
       "      <th id=\"T_a8306_level0_row0\" class=\"row_heading level0 row0\" >4</th>\n",
       "      <td id=\"T_a8306_row0_col0\" class=\"data row0 col0\" >KKP</td>\n",
       "      <td id=\"T_a8306_row0_col1\" class=\"data row0 col1\" >2021</td>\n",
       "      <td id=\"T_a8306_row0_col2\" class=\"data row0 col2\" >Q4</td>\n",
       "      <td id=\"T_a8306_row0_col3\" class=\"data row0 col3\" >6,318,052</td>\n",
       "      <td id=\"T_a8306_row0_col4\" class=\"data row0 col4\" >5,402,784</td>\n",
       "      <td id=\"T_a8306_row0_col5\" class=\"data row0 col5\" >915,268</td>\n",
       "      <td id=\"T_a8306_row0_col6\" class=\"data row0 col6\" >16.94%</td>\n",
       "      <td id=\"T_a8306_row0_col7\" class=\"data row0 col7\" >255</td>\n",
       "    </tr>\n",
       "    <tr>\n",
       "      <th id=\"T_a8306_level0_row1\" class=\"row_heading level0 row1\" >9</th>\n",
       "      <td id=\"T_a8306_row1_col0\" class=\"data row1 col0\" >TTB</td>\n",
       "      <td id=\"T_a8306_row1_col1\" class=\"data row1 col1\" >2021</td>\n",
       "      <td id=\"T_a8306_row1_col2\" class=\"data row1 col2\" >Q4</td>\n",
       "      <td id=\"T_a8306_row1_col3\" class=\"data row1 col3\" >10,474,045</td>\n",
       "      <td id=\"T_a8306_row1_col4\" class=\"data row1 col4\" >8,909,595</td>\n",
       "      <td id=\"T_a8306_row1_col5\" class=\"data row1 col5\" >1,564,450</td>\n",
       "      <td id=\"T_a8306_row1_col6\" class=\"data row1 col6\" >17.56%</td>\n",
       "      <td id=\"T_a8306_row1_col7\" class=\"data row1 col7\" >541</td>\n",
       "    </tr>\n",
       "  </tbody>\n",
       "</table>\n"
      ],
      "text/plain": [
       "<pandas.io.formats.style.Styler at 0x18c97e1c0d0>"
      ]
     },
     "execution_count": 24,
     "metadata": {},
     "output_type": "execute_result"
    }
   ],
   "source": [
    "df_ins[df_ins_criteria].sort_values(by=[\"name\"], ascending=[True]).head().style.format(format_dict)"
   ]
  },
  {
   "cell_type": "code",
   "execution_count": 25,
   "metadata": {},
   "outputs": [
    {
     "data": {
      "text/html": [
       "<style type=\"text/css\">\n",
       "</style>\n",
       "<table id=\"T_3ce61_\">\n",
       "  <thead>\n",
       "    <tr>\n",
       "      <th class=\"blank level0\" >&nbsp;</th>\n",
       "      <th class=\"col_heading level0 col0\" >name</th>\n",
       "      <th class=\"col_heading level0 col1\" >year</th>\n",
       "      <th class=\"col_heading level0 col2\" >quarter</th>\n",
       "      <th class=\"col_heading level0 col3\" >q_amt_c</th>\n",
       "      <th class=\"col_heading level0 col4\" >q_amt_p</th>\n",
       "      <th class=\"col_heading level0 col5\" >inc_profit</th>\n",
       "      <th class=\"col_heading level0 col6\" >percent</th>\n",
       "      <th class=\"col_heading level0 col7\" >id</th>\n",
       "    </tr>\n",
       "  </thead>\n",
       "  <tbody>\n",
       "    <tr>\n",
       "      <th id=\"T_3ce61_level0_row0\" class=\"row_heading level0 row0\" >4</th>\n",
       "      <td id=\"T_3ce61_row0_col0\" class=\"data row0 col0\" >KKP</td>\n",
       "      <td id=\"T_3ce61_row0_col1\" class=\"data row0 col1\" >2021</td>\n",
       "      <td id=\"T_3ce61_row0_col2\" class=\"data row0 col2\" >Q4</td>\n",
       "      <td id=\"T_3ce61_row0_col3\" class=\"data row0 col3\" >6,318,052</td>\n",
       "      <td id=\"T_3ce61_row0_col4\" class=\"data row0 col4\" >5,402,784</td>\n",
       "      <td id=\"T_3ce61_row0_col5\" class=\"data row0 col5\" >915,268</td>\n",
       "      <td id=\"T_3ce61_row0_col6\" class=\"data row0 col6\" >16.94%</td>\n",
       "      <td id=\"T_3ce61_row0_col7\" class=\"data row0 col7\" >255</td>\n",
       "    </tr>\n",
       "    <tr>\n",
       "      <th id=\"T_3ce61_level0_row1\" class=\"row_heading level0 row1\" >9</th>\n",
       "      <td id=\"T_3ce61_row1_col0\" class=\"data row1 col0\" >TTB</td>\n",
       "      <td id=\"T_3ce61_row1_col1\" class=\"data row1 col1\" >2021</td>\n",
       "      <td id=\"T_3ce61_row1_col2\" class=\"data row1 col2\" >Q4</td>\n",
       "      <td id=\"T_3ce61_row1_col3\" class=\"data row1 col3\" >10,474,045</td>\n",
       "      <td id=\"T_3ce61_row1_col4\" class=\"data row1 col4\" >8,909,595</td>\n",
       "      <td id=\"T_3ce61_row1_col5\" class=\"data row1 col5\" >1,564,450</td>\n",
       "      <td id=\"T_3ce61_row1_col6\" class=\"data row1 col6\" >17.56%</td>\n",
       "      <td id=\"T_3ce61_row1_col7\" class=\"data row1 col7\" >541</td>\n",
       "    </tr>\n",
       "  </tbody>\n",
       "</table>\n"
      ],
      "text/plain": [
       "<pandas.io.formats.style.Styler at 0x18c97e135b0>"
      ]
     },
     "execution_count": 25,
     "metadata": {},
     "output_type": "execute_result"
    }
   ],
   "source": [
    "df_ins[df_ins_criteria].sort_values(by=[\"name\"], ascending=[True]).head().style.format(format_dict)"
   ]
  },
  {
   "cell_type": "code",
   "execution_count": 26,
   "metadata": {},
   "outputs": [
    {
     "name": "stdout",
     "output_type": "stream",
     "text": [
      "\n",
      "SELECT name, COUNT(*) AS 'Nbr. of Group of 4 Quarters'\n",
      "FROM qt_profits\n",
      "GROUP BY name\n",
      "HAVING COUNT(*) = 1\n",
      "ORDER BY COUNT(*) DESC, name\n",
      "\n"
     ]
    },
    {
     "data": {
      "text/html": [
       "<div>\n",
       "<style scoped>\n",
       "    .dataframe tbody tr th:only-of-type {\n",
       "        vertical-align: middle;\n",
       "    }\n",
       "\n",
       "    .dataframe tbody tr th {\n",
       "        vertical-align: top;\n",
       "    }\n",
       "\n",
       "    .dataframe thead th {\n",
       "        text-align: right;\n",
       "    }\n",
       "</style>\n",
       "<table border=\"1\" class=\"dataframe\">\n",
       "  <thead>\n",
       "    <tr style=\"text-align: right;\">\n",
       "      <th></th>\n",
       "      <th>name</th>\n",
       "      <th>Nbr. of Group of 4 Quarters</th>\n",
       "    </tr>\n",
       "  </thead>\n",
       "  <tbody>\n",
       "    <tr>\n",
       "      <th>0</th>\n",
       "      <td>BCT</td>\n",
       "      <td>1</td>\n",
       "    </tr>\n",
       "    <tr>\n",
       "      <th>1</th>\n",
       "      <td>INSET</td>\n",
       "      <td>1</td>\n",
       "    </tr>\n",
       "    <tr>\n",
       "      <th>2</th>\n",
       "      <td>NRF</td>\n",
       "      <td>1</td>\n",
       "    </tr>\n",
       "    <tr>\n",
       "      <th>3</th>\n",
       "      <td>OR</td>\n",
       "      <td>1</td>\n",
       "    </tr>\n",
       "    <tr>\n",
       "      <th>4</th>\n",
       "      <td>UOBKH</td>\n",
       "      <td>1</td>\n",
       "    </tr>\n",
       "  </tbody>\n",
       "</table>\n",
       "</div>"
      ],
      "text/plain": [
       "    name  Nbr. of Group of 4 Quarters\n",
       "0    BCT                            1\n",
       "1  INSET                            1\n",
       "2    NRF                            1\n",
       "3     OR                            1\n",
       "4  UOBKH                            1"
      ]
     },
     "execution_count": 26,
     "metadata": {},
     "output_type": "execute_result"
    }
   ],
   "source": [
    "sql = \"\"\"\n",
    "SELECT name, COUNT(*) AS 'Nbr. of Group of 4 Quarters'\n",
    "FROM qt_profits\n",
    "GROUP BY name\n",
    "HAVING COUNT(*) = 1\n",
    "ORDER BY COUNT(*) DESC, name\n",
    "\"\"\"\n",
    "print(sql)\n",
    "\n",
    "tmp = pd.read_sql(sql, conlt)\n",
    "tmp"
   ]
  },
  {
   "cell_type": "code",
   "execution_count": 27,
   "metadata": {},
   "outputs": [
    {
     "name": "stdout",
     "output_type": "stream",
     "text": [
      "\n",
      "SELECT *\n",
      "FROM epss\n",
      "WHERE name = 'OR'\n",
      "ORDER BY year DESC, quarter DESC\n",
      "\n"
     ]
    },
    {
     "data": {
      "text/html": [
       "<div>\n",
       "<style scoped>\n",
       "    .dataframe tbody tr th:only-of-type {\n",
       "        vertical-align: middle;\n",
       "    }\n",
       "\n",
       "    .dataframe tbody tr th {\n",
       "        vertical-align: top;\n",
       "    }\n",
       "\n",
       "    .dataframe thead th {\n",
       "        text-align: right;\n",
       "    }\n",
       "</style>\n",
       "<table border=\"1\" class=\"dataframe\">\n",
       "  <thead>\n",
       "    <tr style=\"text-align: right;\">\n",
       "      <th></th>\n",
       "      <th>id</th>\n",
       "      <th>name</th>\n",
       "      <th>year</th>\n",
       "      <th>quarter</th>\n",
       "      <th>q_amt</th>\n",
       "      <th>y_amt</th>\n",
       "      <th>aq_amt</th>\n",
       "      <th>ay_amt</th>\n",
       "      <th>q_eps</th>\n",
       "      <th>y_eps</th>\n",
       "      <th>aq_eps</th>\n",
       "      <th>ay_eps</th>\n",
       "      <th>ticker_id</th>\n",
       "      <th>publish_date</th>\n",
       "    </tr>\n",
       "  </thead>\n",
       "  <tbody>\n",
       "    <tr>\n",
       "      <th>0</th>\n",
       "      <td>20753</td>\n",
       "      <td>OR</td>\n",
       "      <td>2021</td>\n",
       "      <td>3</td>\n",
       "      <td>1892478</td>\n",
       "      <td>3450043</td>\n",
       "      <td>9120618</td>\n",
       "      <td>5868493</td>\n",
       "      <td>0.16</td>\n",
       "      <td>0.38</td>\n",
       "      <td>0.79</td>\n",
       "      <td>0.65</td>\n",
       "      <td>715</td>\n",
       "      <td>2021-11-09</td>\n",
       "    </tr>\n",
       "    <tr>\n",
       "      <th>1</th>\n",
       "      <td>20266</td>\n",
       "      <td>OR</td>\n",
       "      <td>2021</td>\n",
       "      <td>2</td>\n",
       "      <td>3224942</td>\n",
       "      <td>520104</td>\n",
       "      <td>7228140</td>\n",
       "      <td>2418450</td>\n",
       "      <td>0.27</td>\n",
       "      <td>0.06</td>\n",
       "      <td>0.64</td>\n",
       "      <td>0.27</td>\n",
       "      <td>715</td>\n",
       "      <td>2021-08-10</td>\n",
       "    </tr>\n",
       "    <tr>\n",
       "      <th>2</th>\n",
       "      <td>19788</td>\n",
       "      <td>OR</td>\n",
       "      <td>2021</td>\n",
       "      <td>1</td>\n",
       "      <td>4003198</td>\n",
       "      <td>1898346</td>\n",
       "      <td>4003198</td>\n",
       "      <td>1898346</td>\n",
       "      <td>0.38</td>\n",
       "      <td>0.21</td>\n",
       "      <td>0.38</td>\n",
       "      <td>0.21</td>\n",
       "      <td>715</td>\n",
       "      <td>2021-05-11</td>\n",
       "    </tr>\n",
       "    <tr>\n",
       "      <th>3</th>\n",
       "      <td>19258</td>\n",
       "      <td>OR</td>\n",
       "      <td>2020</td>\n",
       "      <td>4</td>\n",
       "      <td>2922576</td>\n",
       "      <td>1948351</td>\n",
       "      <td>8791070</td>\n",
       "      <td>10895805</td>\n",
       "      <td>0.33</td>\n",
       "      <td>0.22</td>\n",
       "      <td>0.98</td>\n",
       "      <td>1.21</td>\n",
       "      <td>715</td>\n",
       "      <td>2021-02-17</td>\n",
       "    </tr>\n",
       "    <tr>\n",
       "      <th>4</th>\n",
       "      <td>19257</td>\n",
       "      <td>OR</td>\n",
       "      <td>2020</td>\n",
       "      <td>3</td>\n",
       "      <td>3450043</td>\n",
       "      <td>2593929</td>\n",
       "      <td>5868494</td>\n",
       "      <td>8947454</td>\n",
       "      <td>0.38</td>\n",
       "      <td>0.29</td>\n",
       "      <td>0.65</td>\n",
       "      <td>0.99</td>\n",
       "      <td>715</td>\n",
       "      <td>2021-02-17</td>\n",
       "    </tr>\n",
       "  </tbody>\n",
       "</table>\n",
       "</div>"
      ],
      "text/plain": [
       "      id name  year  quarter    q_amt    y_amt   aq_amt    ay_amt  q_eps  \\\n",
       "0  20753   OR  2021        3  1892478  3450043  9120618   5868493   0.16   \n",
       "1  20266   OR  2021        2  3224942   520104  7228140   2418450   0.27   \n",
       "2  19788   OR  2021        1  4003198  1898346  4003198   1898346   0.38   \n",
       "3  19258   OR  2020        4  2922576  1948351  8791070  10895805   0.33   \n",
       "4  19257   OR  2020        3  3450043  2593929  5868494   8947454   0.38   \n",
       "\n",
       "   y_eps  aq_eps  ay_eps  ticker_id publish_date  \n",
       "0   0.38    0.79    0.65        715   2021-11-09  \n",
       "1   0.06    0.64    0.27        715   2021-08-10  \n",
       "2   0.21    0.38    0.21        715   2021-05-11  \n",
       "3   0.22    0.98    1.21        715   2021-02-17  \n",
       "4   0.29    0.65    0.99        715   2021-02-17  "
      ]
     },
     "execution_count": 27,
     "metadata": {},
     "output_type": "execute_result"
    }
   ],
   "source": [
    "name = 'OR'\n",
    "sql = \"\"\"\n",
    "SELECT *\n",
    "FROM epss\n",
    "WHERE name = '%s'\n",
    "ORDER BY year DESC, quarter DESC\n",
    "\"\"\"\n",
    "sql = sql % name\n",
    "print(sql)\n",
    "\n",
    "epss = pd.read_sql(sql, conlt)\n",
    "epss"
   ]
  },
  {
   "cell_type": "code",
   "execution_count": 28,
   "metadata": {},
   "outputs": [
    {
     "name": "stdout",
     "output_type": "stream",
     "text": [
      "\n",
      "SELECT name, COUNT(*) AS 'Nbr. of Quarters'\n",
      "FROM epss\n",
      "GROUP BY name\n",
      "HAVING COUNT(*) < 5\n",
      "ORDER BY COUNT(*) DESC, name\n",
      "\n"
     ]
    },
    {
     "data": {
      "text/html": [
       "<div>\n",
       "<style scoped>\n",
       "    .dataframe tbody tr th:only-of-type {\n",
       "        vertical-align: middle;\n",
       "    }\n",
       "\n",
       "    .dataframe tbody tr th {\n",
       "        vertical-align: top;\n",
       "    }\n",
       "\n",
       "    .dataframe thead th {\n",
       "        text-align: right;\n",
       "    }\n",
       "</style>\n",
       "<table border=\"1\" class=\"dataframe\">\n",
       "  <thead>\n",
       "    <tr style=\"text-align: right;\">\n",
       "      <th></th>\n",
       "      <th>name</th>\n",
       "      <th>Nbr. of Quarters</th>\n",
       "    </tr>\n",
       "  </thead>\n",
       "  <tbody>\n",
       "    <tr>\n",
       "      <th>0</th>\n",
       "      <td>ASW</td>\n",
       "      <td>3</td>\n",
       "    </tr>\n",
       "    <tr>\n",
       "      <th>1</th>\n",
       "      <td>SABUY</td>\n",
       "      <td>3</td>\n",
       "    </tr>\n",
       "    <tr>\n",
       "      <th>2</th>\n",
       "      <td>TIDLOR</td>\n",
       "      <td>3</td>\n",
       "    </tr>\n",
       "    <tr>\n",
       "      <th>3</th>\n",
       "      <td>TQR</td>\n",
       "      <td>3</td>\n",
       "    </tr>\n",
       "  </tbody>\n",
       "</table>\n",
       "</div>"
      ],
      "text/plain": [
       "     name  Nbr. of Quarters\n",
       "0     ASW                 3\n",
       "1   SABUY                 3\n",
       "2  TIDLOR                 3\n",
       "3     TQR                 3"
      ]
     },
     "execution_count": 28,
     "metadata": {},
     "output_type": "execute_result"
    }
   ],
   "source": [
    "sql = \"\"\"\n",
    "SELECT name, COUNT(*) AS 'Nbr. of Quarters'\n",
    "FROM epss\n",
    "GROUP BY name\n",
    "HAVING COUNT(*) < 5\n",
    "ORDER BY COUNT(*) DESC, name\n",
    "\"\"\"\n",
    "print(sql)\n",
    "\n",
    "tmp = pd.read_sql(sql, conlt)\n",
    "tmp"
   ]
  },
  {
   "cell_type": "code",
   "execution_count": null,
   "metadata": {},
   "outputs": [],
   "source": []
  }
 ],
 "metadata": {
  "anaconda-cloud": {},
  "kernelspec": {
   "display_name": "Python 3 (ipykernel)",
   "language": "python",
   "name": "python3"
  },
  "language_info": {
   "codemirror_mode": {
    "name": "ipython",
    "version": 3
   },
   "file_extension": ".py",
   "mimetype": "text/x-python",
   "name": "python",
   "nbconvert_exporter": "python",
   "pygments_lexer": "ipython3",
   "version": "3.8.11"
  }
 },
 "nbformat": 4,
 "nbformat_minor": 1
}
