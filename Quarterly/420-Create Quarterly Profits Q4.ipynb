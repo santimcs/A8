{
 "cells": [
  {
   "cell_type": "markdown",
   "metadata": {},
   "source": [
    "### Restart and Run All Cells"
   ]
  },
  {
   "cell_type": "code",
   "execution_count": 1,
   "metadata": {},
   "outputs": [],
   "source": [
    "import pandas as pd\n",
    "from sqlalchemy import create_engine\n",
    "engine = create_engine(\"sqlite:///c:\\\\ruby\\\\portlt\\\\db\\\\development.sqlite3\")\n",
    "conlt = engine.connect()\n",
    "year = 2021\n",
    "quarter = 4"
   ]
  },
  {
   "cell_type": "code",
   "execution_count": 2,
   "metadata": {},
   "outputs": [],
   "source": [
    "cols = 'name year quarter q_amt_c q_amt_p inc_profit percent'.split()"
   ]
  },
  {
   "cell_type": "code",
   "execution_count": 3,
   "metadata": {},
   "outputs": [],
   "source": [
    "format_dict = {\n",
    "                'q_amt':'{:,}','q_amt_c':'{:,}','q_amt_p':'{:,}','inc_profit':'{:,}',\n",
    "                'yoy_gain':'{:,}','acc_gain':'{:,}',   \n",
    "                'latest_amt':'{:,}','previous_amt':'{:,}','inc_amt':'{:,}',\n",
    "                'q_eps':'{:.4f}','y_eps':'{:.4f}','aq_eps':'{:.4f}','ay_eps':'{:.4f}',\n",
    "                'percent':'{:.2f}%','inc_pct':'{:.2f}%'\n",
    "              }"
   ]
  },
  {
   "cell_type": "code",
   "execution_count": 4,
   "metadata": {},
   "outputs": [
    {
     "name": "stdout",
     "output_type": "stream",
     "text": [
      "\n",
      "SELECT name,year,quarter,q_amt \n",
      "FROM epss \n",
      "WHERE (year = 2021 AND quarter <= 4) \n",
      "OR (year = 2021-1 AND quarter >= 4+1)\n",
      "ORDER BY year DESC, quarter DESC\n",
      "\n"
     ]
    }
   ],
   "source": [
    "sql = \"\"\"\n",
    "SELECT name,year,quarter,q_amt \n",
    "FROM epss \n",
    "WHERE (year = %s AND quarter <= %s) \n",
    "OR (year = %s-1 AND quarter >= %s+1)\n",
    "ORDER BY year DESC, quarter DESC\n",
    "\"\"\"\n",
    "sql = sql % (year, quarter, year, quarter)\n",
    "print(sql)"
   ]
  },
  {
   "cell_type": "code",
   "execution_count": 5,
   "metadata": {},
   "outputs": [
    {
     "data": {
      "text/html": [
       "<div>\n",
       "<style scoped>\n",
       "    .dataframe tbody tr th:only-of-type {\n",
       "        vertical-align: middle;\n",
       "    }\n",
       "\n",
       "    .dataframe tbody tr th {\n",
       "        vertical-align: top;\n",
       "    }\n",
       "\n",
       "    .dataframe thead th {\n",
       "        text-align: right;\n",
       "    }\n",
       "</style>\n",
       "<table border=\"1\" class=\"dataframe\">\n",
       "  <thead>\n",
       "    <tr style=\"text-align: right;\">\n",
       "      <th></th>\n",
       "      <th>name</th>\n",
       "      <th>year</th>\n",
       "      <th>quarter</th>\n",
       "      <th>q_amt</th>\n",
       "      <th>Counter</th>\n",
       "    </tr>\n",
       "  </thead>\n",
       "  <tbody>\n",
       "    <tr>\n",
       "      <th>3</th>\n",
       "      <td>ADVANC</td>\n",
       "      <td>8084</td>\n",
       "      <td>10</td>\n",
       "      <td>26922146</td>\n",
       "      <td>4</td>\n",
       "    </tr>\n",
       "    <tr>\n",
       "      <th>17</th>\n",
       "      <td>AOT</td>\n",
       "      <td>8084</td>\n",
       "      <td>10</td>\n",
       "      <td>-16322014</td>\n",
       "      <td>4</td>\n",
       "    </tr>\n",
       "    <tr>\n",
       "      <th>24</th>\n",
       "      <td>ASP</td>\n",
       "      <td>8084</td>\n",
       "      <td>10</td>\n",
       "      <td>978355</td>\n",
       "      <td>4</td>\n",
       "    </tr>\n",
       "    <tr>\n",
       "      <th>31</th>\n",
       "      <td>BAY</td>\n",
       "      <td>8084</td>\n",
       "      <td>10</td>\n",
       "      <td>33794188</td>\n",
       "      <td>4</td>\n",
       "    </tr>\n",
       "    <tr>\n",
       "      <th>32</th>\n",
       "      <td>BBL</td>\n",
       "      <td>8084</td>\n",
       "      <td>10</td>\n",
       "      <td>26507039</td>\n",
       "      <td>4</td>\n",
       "    </tr>\n",
       "  </tbody>\n",
       "</table>\n",
       "</div>"
      ],
      "text/plain": [
       "      name  year  quarter     q_amt  Counter\n",
       "3   ADVANC  8084       10  26922146        4\n",
       "17     AOT  8084       10 -16322014        4\n",
       "24     ASP  8084       10    978355        4\n",
       "31     BAY  8084       10  33794188        4\n",
       "32     BBL  8084       10  26507039        4"
      ]
     },
     "execution_count": 5,
     "metadata": {},
     "output_type": "execute_result"
    }
   ],
   "source": [
    "dfc = pd.read_sql(sql, conlt)\n",
    "dfc[\"Counter\"] = 1\n",
    "dfc_grp = dfc.groupby([\"name\"], as_index=False).sum()\n",
    "dfc_grp = dfc_grp[dfc_grp[\"Counter\"] == 4]\n",
    "dfc_grp.head()"
   ]
  },
  {
   "cell_type": "code",
   "execution_count": 6,
   "metadata": {},
   "outputs": [
    {
     "name": "stdout",
     "output_type": "stream",
     "text": [
      "\n",
      "SELECT name,year,quarter,q_amt \n",
      "FROM epss \n",
      "WHERE (year = 2021 AND quarter <= 4-1) \n",
      "OR (year = 2021-1 AND quarter >= 4) \n",
      "ORDER BY year DESC, quarter DESC\n"
     ]
    }
   ],
   "source": [
    "sql = \"\"\"\n",
    "SELECT name,year,quarter,q_amt \n",
    "FROM epss \n",
    "WHERE (year = %s AND quarter <= %s-1) \n",
    "OR (year = %s-1 AND quarter >= %s) \n",
    "ORDER BY year DESC, quarter DESC\"\"\"\n",
    "sql = sql % (year, quarter, year, quarter)\n",
    "print(sql)"
   ]
  },
  {
   "cell_type": "code",
   "execution_count": 7,
   "metadata": {},
   "outputs": [
    {
     "data": {
      "text/html": [
       "<style type=\"text/css\">\n",
       "</style>\n",
       "<table id=\"T_67238_\">\n",
       "  <thead>\n",
       "    <tr>\n",
       "      <th class=\"blank level0\" >&nbsp;</th>\n",
       "      <th class=\"col_heading level0 col0\" >name</th>\n",
       "      <th class=\"col_heading level0 col1\" >year</th>\n",
       "      <th class=\"col_heading level0 col2\" >quarter</th>\n",
       "      <th class=\"col_heading level0 col3\" >q_amt</th>\n",
       "      <th class=\"col_heading level0 col4\" >Counter</th>\n",
       "    </tr>\n",
       "  </thead>\n",
       "  <tbody>\n",
       "    <tr>\n",
       "      <th id=\"T_67238_level0_row0\" class=\"row_heading level0 row0\" >0</th>\n",
       "      <td id=\"T_67238_row0_col0\" class=\"data row0 col0\" >2S</td>\n",
       "      <td id=\"T_67238_row0_col1\" class=\"data row0 col1\" >8083</td>\n",
       "      <td id=\"T_67238_row0_col2\" class=\"data row0 col2\" >10</td>\n",
       "      <td id=\"T_67238_row0_col3\" class=\"data row0 col3\" >788,297</td>\n",
       "      <td id=\"T_67238_row0_col4\" class=\"data row0 col4\" >4</td>\n",
       "    </tr>\n",
       "    <tr>\n",
       "      <th id=\"T_67238_level0_row1\" class=\"row_heading level0 row1\" >1</th>\n",
       "      <td id=\"T_67238_row1_col0\" class=\"data row1 col0\" >AAV</td>\n",
       "      <td id=\"T_67238_row1_col1\" class=\"data row1 col1\" >8083</td>\n",
       "      <td id=\"T_67238_row1_col2\" class=\"data row1 col2\" >10</td>\n",
       "      <td id=\"T_67238_row1_col3\" class=\"data row1 col3\" >-6,769,190</td>\n",
       "      <td id=\"T_67238_row1_col4\" class=\"data row1 col4\" >4</td>\n",
       "    </tr>\n",
       "    <tr>\n",
       "      <th id=\"T_67238_level0_row2\" class=\"row_heading level0 row2\" >2</th>\n",
       "      <td id=\"T_67238_row2_col0\" class=\"data row2 col0\" >ACE</td>\n",
       "      <td id=\"T_67238_row2_col1\" class=\"data row2 col1\" >8083</td>\n",
       "      <td id=\"T_67238_row2_col2\" class=\"data row2 col2\" >10</td>\n",
       "      <td id=\"T_67238_row2_col3\" class=\"data row2 col3\" >1,392,091</td>\n",
       "      <td id=\"T_67238_row2_col4\" class=\"data row2 col4\" >4</td>\n",
       "    </tr>\n",
       "    <tr>\n",
       "      <th id=\"T_67238_level0_row3\" class=\"row_heading level0 row3\" >3</th>\n",
       "      <td id=\"T_67238_row3_col0\" class=\"data row3 col0\" >ADVANC</td>\n",
       "      <td id=\"T_67238_row3_col1\" class=\"data row3 col1\" >8083</td>\n",
       "      <td id=\"T_67238_row3_col2\" class=\"data row3 col2\" >10</td>\n",
       "      <td id=\"T_67238_row3_col3\" class=\"data row3 col3\" >27,223,149</td>\n",
       "      <td id=\"T_67238_row3_col4\" class=\"data row3 col4\" >4</td>\n",
       "    </tr>\n",
       "    <tr>\n",
       "      <th id=\"T_67238_level0_row4\" class=\"row_heading level0 row4\" >4</th>\n",
       "      <td id=\"T_67238_row4_col0\" class=\"data row4 col0\" >AEONTS</td>\n",
       "      <td id=\"T_67238_row4_col1\" class=\"data row4 col1\" >8083</td>\n",
       "      <td id=\"T_67238_row4_col2\" class=\"data row4 col2\" >10</td>\n",
       "      <td id=\"T_67238_row4_col3\" class=\"data row4 col3\" >3,826,113</td>\n",
       "      <td id=\"T_67238_row4_col4\" class=\"data row4 col4\" >4</td>\n",
       "    </tr>\n",
       "  </tbody>\n",
       "</table>\n"
      ],
      "text/plain": [
       "<pandas.io.formats.style.Styler at 0x1cb5bb65d60>"
      ]
     },
     "execution_count": 7,
     "metadata": {},
     "output_type": "execute_result"
    }
   ],
   "source": [
    "dfp = pd.read_sql(sql, conlt)\n",
    "dfp[\"Counter\"] = 1\n",
    "dfp_grp = dfp.groupby([\"name\"], as_index=False).sum()\n",
    "dfp_grp = dfp_grp[dfp_grp[\"Counter\"] == 4]\n",
    "dfp_grp.head().style.format(format_dict)"
   ]
  },
  {
   "cell_type": "code",
   "execution_count": 8,
   "metadata": {},
   "outputs": [
    {
     "data": {
      "text/plain": [
       "(338,)"
      ]
     },
     "execution_count": 8,
     "metadata": {},
     "output_type": "execute_result"
    }
   ],
   "source": [
    "dfp.name.unique().shape"
   ]
  },
  {
   "cell_type": "code",
   "execution_count": 9,
   "metadata": {},
   "outputs": [
    {
     "data": {
      "text/plain": [
       "(339, 15)"
      ]
     },
     "execution_count": 9,
     "metadata": {},
     "output_type": "execute_result"
    }
   ],
   "source": [
    "sql = \"\"\"\n",
    "SELECT *\n",
    "FROM stocks\n",
    "\"\"\"\n",
    "stocks = pd.read_sql(sql, conlt)\n",
    "stocks.shape"
   ]
  },
  {
   "cell_type": "code",
   "execution_count": 10,
   "metadata": {},
   "outputs": [
    {
     "data": {
      "text/plain": [
       "(403, 9)"
      ]
     },
     "execution_count": 10,
     "metadata": {},
     "output_type": "execute_result"
    }
   ],
   "source": [
    "sql = \"\"\"\n",
    "SELECT *\n",
    "FROM tickers\n",
    "\"\"\"\n",
    "tickers = pd.read_sql(sql, conlt)\n",
    "tickers.shape"
   ]
  },
  {
   "cell_type": "code",
   "execution_count": 11,
   "metadata": {},
   "outputs": [
    {
     "data": {
      "text/html": [
       "<style type=\"text/css\">\n",
       "</style>\n",
       "<table id=\"T_7d864_\">\n",
       "  <thead>\n",
       "    <tr>\n",
       "      <th class=\"blank level0\" >&nbsp;</th>\n",
       "      <th class=\"col_heading level0 col0\" >name</th>\n",
       "      <th class=\"col_heading level0 col1\" >year</th>\n",
       "      <th class=\"col_heading level0 col2\" >quarter</th>\n",
       "      <th class=\"col_heading level0 col3\" >q_amt_c</th>\n",
       "      <th class=\"col_heading level0 col4\" >q_amt_p</th>\n",
       "      <th class=\"col_heading level0 col5\" >inc_profit</th>\n",
       "      <th class=\"col_heading level0 col6\" >percent</th>\n",
       "    </tr>\n",
       "  </thead>\n",
       "  <tbody>\n",
       "    <tr>\n",
       "      <th id=\"T_7d864_level0_row0\" class=\"row_heading level0 row0\" >0</th>\n",
       "      <td id=\"T_7d864_row0_col0\" class=\"data row0 col0\" >ADVANC</td>\n",
       "      <td id=\"T_7d864_row0_col1\" class=\"data row0 col1\" >2021</td>\n",
       "      <td id=\"T_7d864_row0_col2\" class=\"data row0 col2\" >Q4</td>\n",
       "      <td id=\"T_7d864_row0_col3\" class=\"data row0 col3\" >26,922,146</td>\n",
       "      <td id=\"T_7d864_row0_col4\" class=\"data row0 col4\" >27,223,149</td>\n",
       "      <td id=\"T_7d864_row0_col5\" class=\"data row0 col5\" >-301,003</td>\n",
       "      <td id=\"T_7d864_row0_col6\" class=\"data row0 col6\" >-1.11%</td>\n",
       "    </tr>\n",
       "    <tr>\n",
       "      <th id=\"T_7d864_level0_row1\" class=\"row_heading level0 row1\" >1</th>\n",
       "      <td id=\"T_7d864_row1_col0\" class=\"data row1 col0\" >AOT</td>\n",
       "      <td id=\"T_7d864_row1_col1\" class=\"data row1 col1\" >2021</td>\n",
       "      <td id=\"T_7d864_row1_col2\" class=\"data row1 col2\" >Q4</td>\n",
       "      <td id=\"T_7d864_row1_col3\" class=\"data row1 col3\" >-16,322,014</td>\n",
       "      <td id=\"T_7d864_row1_col4\" class=\"data row1 col4\" >-14,892,318</td>\n",
       "      <td id=\"T_7d864_row1_col5\" class=\"data row1 col5\" >-1,429,696</td>\n",
       "      <td id=\"T_7d864_row1_col6\" class=\"data row1 col6\" >-9.60%</td>\n",
       "    </tr>\n",
       "    <tr>\n",
       "      <th id=\"T_7d864_level0_row2\" class=\"row_heading level0 row2\" >2</th>\n",
       "      <td id=\"T_7d864_row2_col0\" class=\"data row2 col0\" >ASP</td>\n",
       "      <td id=\"T_7d864_row2_col1\" class=\"data row2 col1\" >2021</td>\n",
       "      <td id=\"T_7d864_row2_col2\" class=\"data row2 col2\" >Q4</td>\n",
       "      <td id=\"T_7d864_row2_col3\" class=\"data row2 col3\" >978,355</td>\n",
       "      <td id=\"T_7d864_row2_col4\" class=\"data row2 col4\" >907,856</td>\n",
       "      <td id=\"T_7d864_row2_col5\" class=\"data row2 col5\" >70,499</td>\n",
       "      <td id=\"T_7d864_row2_col6\" class=\"data row2 col6\" >7.77%</td>\n",
       "    </tr>\n",
       "    <tr>\n",
       "      <th id=\"T_7d864_level0_row3\" class=\"row_heading level0 row3\" >3</th>\n",
       "      <td id=\"T_7d864_row3_col0\" class=\"data row3 col0\" >BAY</td>\n",
       "      <td id=\"T_7d864_row3_col1\" class=\"data row3 col1\" >2021</td>\n",
       "      <td id=\"T_7d864_row3_col2\" class=\"data row3 col2\" >Q4</td>\n",
       "      <td id=\"T_7d864_row3_col3\" class=\"data row3 col3\" >33,794,188</td>\n",
       "      <td id=\"T_7d864_row3_col4\" class=\"data row3 col4\" >30,793,995</td>\n",
       "      <td id=\"T_7d864_row3_col5\" class=\"data row3 col5\" >3,000,193</td>\n",
       "      <td id=\"T_7d864_row3_col6\" class=\"data row3 col6\" >9.74%</td>\n",
       "    </tr>\n",
       "    <tr>\n",
       "      <th id=\"T_7d864_level0_row4\" class=\"row_heading level0 row4\" >4</th>\n",
       "      <td id=\"T_7d864_row4_col0\" class=\"data row4 col0\" >BBL</td>\n",
       "      <td id=\"T_7d864_row4_col1\" class=\"data row4 col1\" >2021</td>\n",
       "      <td id=\"T_7d864_row4_col2\" class=\"data row4 col2\" >Q4</td>\n",
       "      <td id=\"T_7d864_row4_col3\" class=\"data row4 col3\" >26,507,039</td>\n",
       "      <td id=\"T_7d864_row4_col4\" class=\"data row4 col4\" >22,586,660</td>\n",
       "      <td id=\"T_7d864_row4_col5\" class=\"data row4 col5\" >3,920,379</td>\n",
       "      <td id=\"T_7d864_row4_col6\" class=\"data row4 col6\" >17.36%</td>\n",
       "    </tr>\n",
       "  </tbody>\n",
       "</table>\n"
      ],
      "text/plain": [
       "<pandas.io.formats.style.Styler at 0x1cb5f6749d0>"
      ]
     },
     "execution_count": 11,
     "metadata": {},
     "output_type": "execute_result"
    }
   ],
   "source": [
    "dfm = pd.merge(dfc_grp, dfp_grp, on=\"name\", suffixes=([\"_c\", \"_p\"]), how=\"inner\")\n",
    "dfm[\"inc_profit\"] = dfm[\"q_amt_c\"] - dfm[\"q_amt_p\"]\n",
    "dfm[\"percent\"] = round(dfm[\"inc_profit\"] / abs(dfm[\"q_amt_p\"]) * 100, 2)\n",
    "dfm[\"year\"] = year\n",
    "dfm[\"quarter\"] = \"Q\" + str(quarter)\n",
    "df_percent = dfm[cols]\n",
    "df_percent.head().style.format(format_dict)"
   ]
  },
  {
   "cell_type": "code",
   "execution_count": 12,
   "metadata": {},
   "outputs": [
    {
     "name": "stdout",
     "output_type": "stream",
     "text": [
      "\n",
      "DELETE FROM qt_profits \n",
      "WHERE year = 2021 AND quarter = 'Q4'\n",
      "\n"
     ]
    },
    {
     "data": {
      "text/plain": [
       "24"
      ]
     },
     "execution_count": 12,
     "metadata": {},
     "output_type": "execute_result"
    }
   ],
   "source": [
    "sql = \"\"\"\n",
    "DELETE FROM qt_profits \n",
    "WHERE year = %s AND quarter = 'Q%s'\n",
    "\"\"\"\n",
    "sql = sql % (year, quarter)\n",
    "print(sql)\n",
    "\n",
    "rp = conlt.execute(sql)\n",
    "rp.rowcount"
   ]
  },
  {
   "cell_type": "code",
   "execution_count": 13,
   "metadata": {},
   "outputs": [
    {
     "data": {
      "text/html": [
       "<div>\n",
       "<style scoped>\n",
       "    .dataframe tbody tr th:only-of-type {\n",
       "        vertical-align: middle;\n",
       "    }\n",
       "\n",
       "    .dataframe tbody tr th {\n",
       "        vertical-align: top;\n",
       "    }\n",
       "\n",
       "    .dataframe thead th {\n",
       "        text-align: right;\n",
       "    }\n",
       "</style>\n",
       "<table border=\"1\" class=\"dataframe\">\n",
       "  <thead>\n",
       "    <tr style=\"text-align: right;\">\n",
       "      <th></th>\n",
       "      <th>name</th>\n",
       "      <th>id</th>\n",
       "    </tr>\n",
       "  </thead>\n",
       "  <tbody>\n",
       "    <tr>\n",
       "      <th>0</th>\n",
       "      <td>2S</td>\n",
       "      <td>727</td>\n",
       "    </tr>\n",
       "    <tr>\n",
       "      <th>1</th>\n",
       "      <td>A</td>\n",
       "      <td>1</td>\n",
       "    </tr>\n",
       "    <tr>\n",
       "      <th>2</th>\n",
       "      <td>AAV</td>\n",
       "      <td>732</td>\n",
       "    </tr>\n",
       "    <tr>\n",
       "      <th>3</th>\n",
       "      <td>ACE</td>\n",
       "      <td>698</td>\n",
       "    </tr>\n",
       "    <tr>\n",
       "      <th>4</th>\n",
       "      <td>ADVANC</td>\n",
       "      <td>6</td>\n",
       "    </tr>\n",
       "  </tbody>\n",
       "</table>\n",
       "</div>"
      ],
      "text/plain": [
       "     name   id\n",
       "0      2S  727\n",
       "1       A    1\n",
       "2     AAV  732\n",
       "3     ACE  698\n",
       "4  ADVANC    6"
      ]
     },
     "execution_count": 13,
     "metadata": {},
     "output_type": "execute_result"
    }
   ],
   "source": [
    "sql = \"SELECT name, id FROM tickers\"\n",
    "tickers = pd.read_sql(sql, conlt)\n",
    "tickers.head()"
   ]
  },
  {
   "cell_type": "code",
   "execution_count": 14,
   "metadata": {},
   "outputs": [
    {
     "data": {
      "text/html": [
       "<style type=\"text/css\">\n",
       "</style>\n",
       "<table id=\"T_ae54b_\">\n",
       "  <thead>\n",
       "    <tr>\n",
       "      <th class=\"blank level0\" >&nbsp;</th>\n",
       "      <th class=\"col_heading level0 col0\" >name</th>\n",
       "      <th class=\"col_heading level0 col1\" >year</th>\n",
       "      <th class=\"col_heading level0 col2\" >quarter</th>\n",
       "      <th class=\"col_heading level0 col3\" >q_amt_c</th>\n",
       "      <th class=\"col_heading level0 col4\" >q_amt_p</th>\n",
       "      <th class=\"col_heading level0 col5\" >inc_profit</th>\n",
       "      <th class=\"col_heading level0 col6\" >percent</th>\n",
       "      <th class=\"col_heading level0 col7\" >id</th>\n",
       "    </tr>\n",
       "  </thead>\n",
       "  <tbody>\n",
       "    <tr>\n",
       "      <th id=\"T_ae54b_level0_row0\" class=\"row_heading level0 row0\" >0</th>\n",
       "      <td id=\"T_ae54b_row0_col0\" class=\"data row0 col0\" >ADVANC</td>\n",
       "      <td id=\"T_ae54b_row0_col1\" class=\"data row0 col1\" >2021</td>\n",
       "      <td id=\"T_ae54b_row0_col2\" class=\"data row0 col2\" >Q4</td>\n",
       "      <td id=\"T_ae54b_row0_col3\" class=\"data row0 col3\" >26,922,146</td>\n",
       "      <td id=\"T_ae54b_row0_col4\" class=\"data row0 col4\" >27,223,149</td>\n",
       "      <td id=\"T_ae54b_row0_col5\" class=\"data row0 col5\" >-301,003</td>\n",
       "      <td id=\"T_ae54b_row0_col6\" class=\"data row0 col6\" >-1.11%</td>\n",
       "      <td id=\"T_ae54b_row0_col7\" class=\"data row0 col7\" >6</td>\n",
       "    </tr>\n",
       "    <tr>\n",
       "      <th id=\"T_ae54b_level0_row1\" class=\"row_heading level0 row1\" >1</th>\n",
       "      <td id=\"T_ae54b_row1_col0\" class=\"data row1 col0\" >AOT</td>\n",
       "      <td id=\"T_ae54b_row1_col1\" class=\"data row1 col1\" >2021</td>\n",
       "      <td id=\"T_ae54b_row1_col2\" class=\"data row1 col2\" >Q4</td>\n",
       "      <td id=\"T_ae54b_row1_col3\" class=\"data row1 col3\" >-16,322,014</td>\n",
       "      <td id=\"T_ae54b_row1_col4\" class=\"data row1 col4\" >-14,892,318</td>\n",
       "      <td id=\"T_ae54b_row1_col5\" class=\"data row1 col5\" >-1,429,696</td>\n",
       "      <td id=\"T_ae54b_row1_col6\" class=\"data row1 col6\" >-9.60%</td>\n",
       "      <td id=\"T_ae54b_row1_col7\" class=\"data row1 col7\" >24</td>\n",
       "    </tr>\n",
       "    <tr>\n",
       "      <th id=\"T_ae54b_level0_row2\" class=\"row_heading level0 row2\" >2</th>\n",
       "      <td id=\"T_ae54b_row2_col0\" class=\"data row2 col0\" >ASP</td>\n",
       "      <td id=\"T_ae54b_row2_col1\" class=\"data row2 col1\" >2021</td>\n",
       "      <td id=\"T_ae54b_row2_col2\" class=\"data row2 col2\" >Q4</td>\n",
       "      <td id=\"T_ae54b_row2_col3\" class=\"data row2 col3\" >978,355</td>\n",
       "      <td id=\"T_ae54b_row2_col4\" class=\"data row2 col4\" >907,856</td>\n",
       "      <td id=\"T_ae54b_row2_col5\" class=\"data row2 col5\" >70,499</td>\n",
       "      <td id=\"T_ae54b_row2_col6\" class=\"data row2 col6\" >7.77%</td>\n",
       "      <td id=\"T_ae54b_row2_col7\" class=\"data row2 col7\" >40</td>\n",
       "    </tr>\n",
       "    <tr>\n",
       "      <th id=\"T_ae54b_level0_row3\" class=\"row_heading level0 row3\" >3</th>\n",
       "      <td id=\"T_ae54b_row3_col0\" class=\"data row3 col0\" >BAY</td>\n",
       "      <td id=\"T_ae54b_row3_col1\" class=\"data row3 col1\" >2021</td>\n",
       "      <td id=\"T_ae54b_row3_col2\" class=\"data row3 col2\" >Q4</td>\n",
       "      <td id=\"T_ae54b_row3_col3\" class=\"data row3 col3\" >33,794,188</td>\n",
       "      <td id=\"T_ae54b_row3_col4\" class=\"data row3 col4\" >30,793,995</td>\n",
       "      <td id=\"T_ae54b_row3_col5\" class=\"data row3 col5\" >3,000,193</td>\n",
       "      <td id=\"T_ae54b_row3_col6\" class=\"data row3 col6\" >9.74%</td>\n",
       "      <td id=\"T_ae54b_row3_col7\" class=\"data row3 col7\" >49</td>\n",
       "    </tr>\n",
       "    <tr>\n",
       "      <th id=\"T_ae54b_level0_row4\" class=\"row_heading level0 row4\" >4</th>\n",
       "      <td id=\"T_ae54b_row4_col0\" class=\"data row4 col0\" >BBL</td>\n",
       "      <td id=\"T_ae54b_row4_col1\" class=\"data row4 col1\" >2021</td>\n",
       "      <td id=\"T_ae54b_row4_col2\" class=\"data row4 col2\" >Q4</td>\n",
       "      <td id=\"T_ae54b_row4_col3\" class=\"data row4 col3\" >26,507,039</td>\n",
       "      <td id=\"T_ae54b_row4_col4\" class=\"data row4 col4\" >22,586,660</td>\n",
       "      <td id=\"T_ae54b_row4_col5\" class=\"data row4 col5\" >3,920,379</td>\n",
       "      <td id=\"T_ae54b_row4_col6\" class=\"data row4 col6\" >17.36%</td>\n",
       "      <td id=\"T_ae54b_row4_col7\" class=\"data row4 col7\" >50</td>\n",
       "    </tr>\n",
       "  </tbody>\n",
       "</table>\n"
      ],
      "text/plain": [
       "<pandas.io.formats.style.Styler at 0x1cb5f6cdfa0>"
      ]
     },
     "execution_count": 14,
     "metadata": {},
     "output_type": "execute_result"
    }
   ],
   "source": [
    "df_ins = pd.merge(df_percent, tickers, on=\"name\", how=\"inner\")\n",
    "df_ins.head().style.format(format_dict)"
   ]
  },
  {
   "cell_type": "code",
   "execution_count": 15,
   "metadata": {},
   "outputs": [
    {
     "data": {
      "text/plain": [
       "27"
      ]
     },
     "execution_count": 15,
     "metadata": {},
     "output_type": "execute_result"
    }
   ],
   "source": [
    "rcds = df_ins.values.tolist()\n",
    "len(rcds)"
   ]
  },
  {
   "cell_type": "code",
   "execution_count": 16,
   "metadata": {},
   "outputs": [],
   "source": [
    "#for rcd in rcds:\n",
    "#    print(rcd)"
   ]
  },
  {
   "cell_type": "code",
   "execution_count": 17,
   "metadata": {},
   "outputs": [
    {
     "name": "stdout",
     "output_type": "stream",
     "text": [
      "\n",
      "INSERT INTO qt_profits (name, year, quarter, latest_amt, previous_amt, inc_amt, inc_pct, ticker_id) VALUES (?, ?, ?, ?, ?, ?, ?, ?)\n",
      "\n"
     ]
    }
   ],
   "source": [
    "sql = \"\"\"\n",
    "INSERT INTO qt_profits (name, year, quarter, latest_amt, previous_amt, \\\n",
    "inc_amt, inc_pct, ticker_id) \\\n",
    "VALUES (?, ?, ?, ?, ?, ?, ?, ?)\n",
    "\"\"\"\n",
    "print(sql)"
   ]
  },
  {
   "cell_type": "code",
   "execution_count": 18,
   "metadata": {},
   "outputs": [],
   "source": [
    "for rcd in rcds:\n",
    "    conlt.execute(sql, rcd)"
   ]
  },
  {
   "cell_type": "markdown",
   "metadata": {},
   "source": [
    "### End of loop"
   ]
  },
  {
   "cell_type": "code",
   "execution_count": 19,
   "metadata": {},
   "outputs": [
    {
     "data": {
      "text/html": [
       "<style type=\"text/css\">\n",
       "</style>\n",
       "<table id=\"T_0ac52_\">\n",
       "  <thead>\n",
       "    <tr>\n",
       "      <th class=\"blank level0\" >&nbsp;</th>\n",
       "      <th class=\"col_heading level0 col0\" >name</th>\n",
       "      <th class=\"col_heading level0 col1\" >year</th>\n",
       "      <th class=\"col_heading level0 col2\" >quarter</th>\n",
       "      <th class=\"col_heading level0 col3\" >q_amt_c</th>\n",
       "      <th class=\"col_heading level0 col4\" >q_amt_p</th>\n",
       "      <th class=\"col_heading level0 col5\" >inc_profit</th>\n",
       "      <th class=\"col_heading level0 col6\" >percent</th>\n",
       "    </tr>\n",
       "  </thead>\n",
       "  <tbody>\n",
       "    <tr>\n",
       "      <th id=\"T_0ac52_level0_row0\" class=\"row_heading level0 row0\" >0</th>\n",
       "      <td id=\"T_0ac52_row0_col0\" class=\"data row0 col0\" >ADVANC</td>\n",
       "      <td id=\"T_0ac52_row0_col1\" class=\"data row0 col1\" >2021</td>\n",
       "      <td id=\"T_0ac52_row0_col2\" class=\"data row0 col2\" >Q4</td>\n",
       "      <td id=\"T_0ac52_row0_col3\" class=\"data row0 col3\" >26,922,146</td>\n",
       "      <td id=\"T_0ac52_row0_col4\" class=\"data row0 col4\" >27,223,149</td>\n",
       "      <td id=\"T_0ac52_row0_col5\" class=\"data row0 col5\" >-301,003</td>\n",
       "      <td id=\"T_0ac52_row0_col6\" class=\"data row0 col6\" >-1.11%</td>\n",
       "    </tr>\n",
       "    <tr>\n",
       "      <th id=\"T_0ac52_level0_row1\" class=\"row_heading level0 row1\" >2</th>\n",
       "      <td id=\"T_0ac52_row1_col0\" class=\"data row1 col0\" >ASP</td>\n",
       "      <td id=\"T_0ac52_row1_col1\" class=\"data row1 col1\" >2021</td>\n",
       "      <td id=\"T_0ac52_row1_col2\" class=\"data row1 col2\" >Q4</td>\n",
       "      <td id=\"T_0ac52_row1_col3\" class=\"data row1 col3\" >978,355</td>\n",
       "      <td id=\"T_0ac52_row1_col4\" class=\"data row1 col4\" >907,856</td>\n",
       "      <td id=\"T_0ac52_row1_col5\" class=\"data row1 col5\" >70,499</td>\n",
       "      <td id=\"T_0ac52_row1_col6\" class=\"data row1 col6\" >7.77%</td>\n",
       "    </tr>\n",
       "    <tr>\n",
       "      <th id=\"T_0ac52_level0_row2\" class=\"row_heading level0 row2\" >3</th>\n",
       "      <td id=\"T_0ac52_row2_col0\" class=\"data row2 col0\" >BAY</td>\n",
       "      <td id=\"T_0ac52_row2_col1\" class=\"data row2 col1\" >2021</td>\n",
       "      <td id=\"T_0ac52_row2_col2\" class=\"data row2 col2\" >Q4</td>\n",
       "      <td id=\"T_0ac52_row2_col3\" class=\"data row2 col3\" >33,794,188</td>\n",
       "      <td id=\"T_0ac52_row2_col4\" class=\"data row2 col4\" >30,793,995</td>\n",
       "      <td id=\"T_0ac52_row2_col5\" class=\"data row2 col5\" >3,000,193</td>\n",
       "      <td id=\"T_0ac52_row2_col6\" class=\"data row2 col6\" >9.74%</td>\n",
       "    </tr>\n",
       "    <tr>\n",
       "      <th id=\"T_0ac52_level0_row3\" class=\"row_heading level0 row3\" >4</th>\n",
       "      <td id=\"T_0ac52_row3_col0\" class=\"data row3 col0\" >BBL</td>\n",
       "      <td id=\"T_0ac52_row3_col1\" class=\"data row3 col1\" >2021</td>\n",
       "      <td id=\"T_0ac52_row3_col2\" class=\"data row3 col2\" >Q4</td>\n",
       "      <td id=\"T_0ac52_row3_col3\" class=\"data row3 col3\" >26,507,039</td>\n",
       "      <td id=\"T_0ac52_row3_col4\" class=\"data row3 col4\" >22,586,660</td>\n",
       "      <td id=\"T_0ac52_row3_col5\" class=\"data row3 col5\" >3,920,379</td>\n",
       "      <td id=\"T_0ac52_row3_col6\" class=\"data row3 col6\" >17.36%</td>\n",
       "    </tr>\n",
       "    <tr>\n",
       "      <th id=\"T_0ac52_level0_row4\" class=\"row_heading level0 row4\" >5</th>\n",
       "      <td id=\"T_0ac52_row4_col0\" class=\"data row4 col0\" >BFIT</td>\n",
       "      <td id=\"T_0ac52_row4_col1\" class=\"data row4 col1\" >2021</td>\n",
       "      <td id=\"T_0ac52_row4_col2\" class=\"data row4 col2\" >Q4</td>\n",
       "      <td id=\"T_0ac52_row4_col3\" class=\"data row4 col3\" >906,775</td>\n",
       "      <td id=\"T_0ac52_row4_col4\" class=\"data row4 col4\" >924,632</td>\n",
       "      <td id=\"T_0ac52_row4_col5\" class=\"data row4 col5\" >-17,857</td>\n",
       "      <td id=\"T_0ac52_row4_col6\" class=\"data row4 col6\" >-1.93%</td>\n",
       "    </tr>\n",
       "  </tbody>\n",
       "</table>\n"
      ],
      "text/plain": [
       "<pandas.io.formats.style.Styler at 0x1cb5f7279a0>"
      ]
     },
     "execution_count": 19,
     "metadata": {},
     "output_type": "execute_result"
    }
   ],
   "source": [
    "criteria_1 = df_ins.q_amt_c > 440_000\n",
    "df_ins.loc[criteria_1, cols].head().style.format(format_dict)"
   ]
  },
  {
   "cell_type": "code",
   "execution_count": 20,
   "metadata": {},
   "outputs": [
    {
     "data": {
      "text/html": [
       "<style type=\"text/css\">\n",
       "</style>\n",
       "<table id=\"T_031ed_\">\n",
       "  <thead>\n",
       "    <tr>\n",
       "      <th class=\"blank level0\" >&nbsp;</th>\n",
       "      <th class=\"col_heading level0 col0\" >name</th>\n",
       "      <th class=\"col_heading level0 col1\" >year</th>\n",
       "      <th class=\"col_heading level0 col2\" >quarter</th>\n",
       "      <th class=\"col_heading level0 col3\" >q_amt_c</th>\n",
       "      <th class=\"col_heading level0 col4\" >q_amt_p</th>\n",
       "      <th class=\"col_heading level0 col5\" >inc_profit</th>\n",
       "      <th class=\"col_heading level0 col6\" >percent</th>\n",
       "    </tr>\n",
       "  </thead>\n",
       "  <tbody>\n",
       "    <tr>\n",
       "      <th id=\"T_031ed_level0_row0\" class=\"row_heading level0 row0\" >0</th>\n",
       "      <td id=\"T_031ed_row0_col0\" class=\"data row0 col0\" >ADVANC</td>\n",
       "      <td id=\"T_031ed_row0_col1\" class=\"data row0 col1\" >2021</td>\n",
       "      <td id=\"T_031ed_row0_col2\" class=\"data row0 col2\" >Q4</td>\n",
       "      <td id=\"T_031ed_row0_col3\" class=\"data row0 col3\" >26,922,146</td>\n",
       "      <td id=\"T_031ed_row0_col4\" class=\"data row0 col4\" >27,223,149</td>\n",
       "      <td id=\"T_031ed_row0_col5\" class=\"data row0 col5\" >-301,003</td>\n",
       "      <td id=\"T_031ed_row0_col6\" class=\"data row0 col6\" >-1.11%</td>\n",
       "    </tr>\n",
       "    <tr>\n",
       "      <th id=\"T_031ed_level0_row1\" class=\"row_heading level0 row1\" >2</th>\n",
       "      <td id=\"T_031ed_row1_col0\" class=\"data row1 col0\" >ASP</td>\n",
       "      <td id=\"T_031ed_row1_col1\" class=\"data row1 col1\" >2021</td>\n",
       "      <td id=\"T_031ed_row1_col2\" class=\"data row1 col2\" >Q4</td>\n",
       "      <td id=\"T_031ed_row1_col3\" class=\"data row1 col3\" >978,355</td>\n",
       "      <td id=\"T_031ed_row1_col4\" class=\"data row1 col4\" >907,856</td>\n",
       "      <td id=\"T_031ed_row1_col5\" class=\"data row1 col5\" >70,499</td>\n",
       "      <td id=\"T_031ed_row1_col6\" class=\"data row1 col6\" >7.77%</td>\n",
       "    </tr>\n",
       "    <tr>\n",
       "      <th id=\"T_031ed_level0_row2\" class=\"row_heading level0 row2\" >3</th>\n",
       "      <td id=\"T_031ed_row2_col0\" class=\"data row2 col0\" >BAY</td>\n",
       "      <td id=\"T_031ed_row2_col1\" class=\"data row2 col1\" >2021</td>\n",
       "      <td id=\"T_031ed_row2_col2\" class=\"data row2 col2\" >Q4</td>\n",
       "      <td id=\"T_031ed_row2_col3\" class=\"data row2 col3\" >33,794,188</td>\n",
       "      <td id=\"T_031ed_row2_col4\" class=\"data row2 col4\" >30,793,995</td>\n",
       "      <td id=\"T_031ed_row2_col5\" class=\"data row2 col5\" >3,000,193</td>\n",
       "      <td id=\"T_031ed_row2_col6\" class=\"data row2 col6\" >9.74%</td>\n",
       "    </tr>\n",
       "    <tr>\n",
       "      <th id=\"T_031ed_level0_row3\" class=\"row_heading level0 row3\" >4</th>\n",
       "      <td id=\"T_031ed_row3_col0\" class=\"data row3 col0\" >BBL</td>\n",
       "      <td id=\"T_031ed_row3_col1\" class=\"data row3 col1\" >2021</td>\n",
       "      <td id=\"T_031ed_row3_col2\" class=\"data row3 col2\" >Q4</td>\n",
       "      <td id=\"T_031ed_row3_col3\" class=\"data row3 col3\" >26,507,039</td>\n",
       "      <td id=\"T_031ed_row3_col4\" class=\"data row3 col4\" >22,586,660</td>\n",
       "      <td id=\"T_031ed_row3_col5\" class=\"data row3 col5\" >3,920,379</td>\n",
       "      <td id=\"T_031ed_row3_col6\" class=\"data row3 col6\" >17.36%</td>\n",
       "    </tr>\n",
       "    <tr>\n",
       "      <th id=\"T_031ed_level0_row4\" class=\"row_heading level0 row4\" >5</th>\n",
       "      <td id=\"T_031ed_row4_col0\" class=\"data row4 col0\" >BFIT</td>\n",
       "      <td id=\"T_031ed_row4_col1\" class=\"data row4 col1\" >2021</td>\n",
       "      <td id=\"T_031ed_row4_col2\" class=\"data row4 col2\" >Q4</td>\n",
       "      <td id=\"T_031ed_row4_col3\" class=\"data row4 col3\" >906,775</td>\n",
       "      <td id=\"T_031ed_row4_col4\" class=\"data row4 col4\" >924,632</td>\n",
       "      <td id=\"T_031ed_row4_col5\" class=\"data row4 col5\" >-17,857</td>\n",
       "      <td id=\"T_031ed_row4_col6\" class=\"data row4 col6\" >-1.93%</td>\n",
       "    </tr>\n",
       "  </tbody>\n",
       "</table>\n"
      ],
      "text/plain": [
       "<pandas.io.formats.style.Styler at 0x1cb5f727af0>"
      ]
     },
     "execution_count": 20,
     "metadata": {},
     "output_type": "execute_result"
    }
   ],
   "source": [
    "criteria_2 = df_ins.q_amt_p > 400_000\n",
    "df_ins.loc[criteria_2, cols].head().style.format(format_dict)"
   ]
  },
  {
   "cell_type": "code",
   "execution_count": 21,
   "metadata": {},
   "outputs": [
    {
     "data": {
      "text/html": [
       "<style type=\"text/css\">\n",
       "</style>\n",
       "<table id=\"T_c0930_\">\n",
       "  <thead>\n",
       "    <tr>\n",
       "      <th class=\"blank level0\" >&nbsp;</th>\n",
       "      <th class=\"col_heading level0 col0\" >name</th>\n",
       "      <th class=\"col_heading level0 col1\" >year</th>\n",
       "      <th class=\"col_heading level0 col2\" >quarter</th>\n",
       "      <th class=\"col_heading level0 col3\" >q_amt_c</th>\n",
       "      <th class=\"col_heading level0 col4\" >q_amt_p</th>\n",
       "      <th class=\"col_heading level0 col5\" >inc_profit</th>\n",
       "      <th class=\"col_heading level0 col6\" >percent</th>\n",
       "    </tr>\n",
       "  </thead>\n",
       "  <tbody>\n",
       "    <tr>\n",
       "      <th id=\"T_c0930_level0_row0\" class=\"row_heading level0 row0\" >4</th>\n",
       "      <td id=\"T_c0930_row0_col0\" class=\"data row0 col0\" >BBL</td>\n",
       "      <td id=\"T_c0930_row0_col1\" class=\"data row0 col1\" >2021</td>\n",
       "      <td id=\"T_c0930_row0_col2\" class=\"data row0 col2\" >Q4</td>\n",
       "      <td id=\"T_c0930_row0_col3\" class=\"data row0 col3\" >26,507,039</td>\n",
       "      <td id=\"T_c0930_row0_col4\" class=\"data row0 col4\" >22,586,660</td>\n",
       "      <td id=\"T_c0930_row0_col5\" class=\"data row0 col5\" >3,920,379</td>\n",
       "      <td id=\"T_c0930_row0_col6\" class=\"data row0 col6\" >17.36%</td>\n",
       "    </tr>\n",
       "    <tr>\n",
       "      <th id=\"T_c0930_level0_row1\" class=\"row_heading level0 row1\" >6</th>\n",
       "      <td id=\"T_c0930_row1_col0\" class=\"data row1 col0\" >CIMBT</td>\n",
       "      <td id=\"T_c0930_row1_col1\" class=\"data row1 col1\" >2021</td>\n",
       "      <td id=\"T_c0930_row1_col2\" class=\"data row1 col2\" >Q4</td>\n",
       "      <td id=\"T_c0930_row1_col3\" class=\"data row1 col3\" >2,440,554</td>\n",
       "      <td id=\"T_c0930_row1_col4\" class=\"data row1 col4\" >1,531,200</td>\n",
       "      <td id=\"T_c0930_row1_col5\" class=\"data row1 col5\" >909,354</td>\n",
       "      <td id=\"T_c0930_row1_col6\" class=\"data row1 col6\" >59.39%</td>\n",
       "    </tr>\n",
       "    <tr>\n",
       "      <th id=\"T_c0930_level0_row2\" class=\"row_heading level0 row2\" >13</th>\n",
       "      <td id=\"T_c0930_row2_col0\" class=\"data row2 col0\" >KCE</td>\n",
       "      <td id=\"T_c0930_row2_col1\" class=\"data row2 col1\" >2021</td>\n",
       "      <td id=\"T_c0930_row2_col2\" class=\"data row2 col2\" >Q4</td>\n",
       "      <td id=\"T_c0930_row2_col3\" class=\"data row2 col3\" >2,426,284</td>\n",
       "      <td id=\"T_c0930_row2_col4\" class=\"data row2 col4\" >2,105,875</td>\n",
       "      <td id=\"T_c0930_row2_col5\" class=\"data row2 col5\" >320,409</td>\n",
       "      <td id=\"T_c0930_row2_col6\" class=\"data row2 col6\" >15.22%</td>\n",
       "    </tr>\n",
       "    <tr>\n",
       "      <th id=\"T_c0930_level0_row3\" class=\"row_heading level0 row3\" >14</th>\n",
       "      <td id=\"T_c0930_row3_col0\" class=\"data row3 col0\" >KKP</td>\n",
       "      <td id=\"T_c0930_row3_col1\" class=\"data row3 col1\" >2021</td>\n",
       "      <td id=\"T_c0930_row3_col2\" class=\"data row3 col2\" >Q4</td>\n",
       "      <td id=\"T_c0930_row3_col3\" class=\"data row3 col3\" >6,318,052</td>\n",
       "      <td id=\"T_c0930_row3_col4\" class=\"data row3 col4\" >5,402,784</td>\n",
       "      <td id=\"T_c0930_row3_col5\" class=\"data row3 col5\" >915,268</td>\n",
       "      <td id=\"T_c0930_row3_col6\" class=\"data row3 col6\" >16.94%</td>\n",
       "    </tr>\n",
       "    <tr>\n",
       "      <th id=\"T_c0930_level0_row4\" class=\"row_heading level0 row4\" >21</th>\n",
       "      <td id=\"T_c0930_row4_col0\" class=\"data row4 col0\" >PTTEP</td>\n",
       "      <td id=\"T_c0930_row4_col1\" class=\"data row4 col1\" >2021</td>\n",
       "      <td id=\"T_c0930_row4_col2\" class=\"data row4 col2\" >Q4</td>\n",
       "      <td id=\"T_c0930_row4_col3\" class=\"data row4 col3\" >38,863,595</td>\n",
       "      <td id=\"T_c0930_row4_col4\" class=\"data row4 col4\" >30,745,139</td>\n",
       "      <td id=\"T_c0930_row4_col5\" class=\"data row4 col5\" >8,118,456</td>\n",
       "      <td id=\"T_c0930_row4_col6\" class=\"data row4 col6\" >26.41%</td>\n",
       "    </tr>\n",
       "  </tbody>\n",
       "</table>\n"
      ],
      "text/plain": [
       "<pandas.io.formats.style.Styler at 0x1cb5f7159a0>"
      ]
     },
     "execution_count": 21,
     "metadata": {},
     "output_type": "execute_result"
    }
   ],
   "source": [
    "criteria_3 = df_ins.percent > 10.00\n",
    "df_ins.loc[criteria_3, cols].head().style.format(format_dict)"
   ]
  },
  {
   "cell_type": "code",
   "execution_count": 22,
   "metadata": {},
   "outputs": [
    {
     "data": {
      "text/html": [
       "<style type=\"text/css\">\n",
       "</style>\n",
       "<table id=\"T_630e5_\">\n",
       "  <thead>\n",
       "    <tr>\n",
       "      <th class=\"blank level0\" >&nbsp;</th>\n",
       "      <th class=\"col_heading level0 col0\" >name</th>\n",
       "      <th class=\"col_heading level0 col1\" >year</th>\n",
       "      <th class=\"col_heading level0 col2\" >quarter</th>\n",
       "      <th class=\"col_heading level0 col3\" >q_amt_c</th>\n",
       "      <th class=\"col_heading level0 col4\" >q_amt_p</th>\n",
       "      <th class=\"col_heading level0 col5\" >inc_profit</th>\n",
       "      <th class=\"col_heading level0 col6\" >percent</th>\n",
       "    </tr>\n",
       "  </thead>\n",
       "  <tbody>\n",
       "    <tr>\n",
       "      <th id=\"T_630e5_level0_row0\" class=\"row_heading level0 row0\" >4</th>\n",
       "      <td id=\"T_630e5_row0_col0\" class=\"data row0 col0\" >BBL</td>\n",
       "      <td id=\"T_630e5_row0_col1\" class=\"data row0 col1\" >2021</td>\n",
       "      <td id=\"T_630e5_row0_col2\" class=\"data row0 col2\" >Q4</td>\n",
       "      <td id=\"T_630e5_row0_col3\" class=\"data row0 col3\" >26,507,039</td>\n",
       "      <td id=\"T_630e5_row0_col4\" class=\"data row0 col4\" >22,586,660</td>\n",
       "      <td id=\"T_630e5_row0_col5\" class=\"data row0 col5\" >3,920,379</td>\n",
       "      <td id=\"T_630e5_row0_col6\" class=\"data row0 col6\" >17.36%</td>\n",
       "    </tr>\n",
       "    <tr>\n",
       "      <th id=\"T_630e5_level0_row1\" class=\"row_heading level0 row1\" >6</th>\n",
       "      <td id=\"T_630e5_row1_col0\" class=\"data row1 col0\" >CIMBT</td>\n",
       "      <td id=\"T_630e5_row1_col1\" class=\"data row1 col1\" >2021</td>\n",
       "      <td id=\"T_630e5_row1_col2\" class=\"data row1 col2\" >Q4</td>\n",
       "      <td id=\"T_630e5_row1_col3\" class=\"data row1 col3\" >2,440,554</td>\n",
       "      <td id=\"T_630e5_row1_col4\" class=\"data row1 col4\" >1,531,200</td>\n",
       "      <td id=\"T_630e5_row1_col5\" class=\"data row1 col5\" >909,354</td>\n",
       "      <td id=\"T_630e5_row1_col6\" class=\"data row1 col6\" >59.39%</td>\n",
       "    </tr>\n",
       "    <tr>\n",
       "      <th id=\"T_630e5_level0_row2\" class=\"row_heading level0 row2\" >13</th>\n",
       "      <td id=\"T_630e5_row2_col0\" class=\"data row2 col0\" >KCE</td>\n",
       "      <td id=\"T_630e5_row2_col1\" class=\"data row2 col1\" >2021</td>\n",
       "      <td id=\"T_630e5_row2_col2\" class=\"data row2 col2\" >Q4</td>\n",
       "      <td id=\"T_630e5_row2_col3\" class=\"data row2 col3\" >2,426,284</td>\n",
       "      <td id=\"T_630e5_row2_col4\" class=\"data row2 col4\" >2,105,875</td>\n",
       "      <td id=\"T_630e5_row2_col5\" class=\"data row2 col5\" >320,409</td>\n",
       "      <td id=\"T_630e5_row2_col6\" class=\"data row2 col6\" >15.22%</td>\n",
       "    </tr>\n",
       "    <tr>\n",
       "      <th id=\"T_630e5_level0_row3\" class=\"row_heading level0 row3\" >14</th>\n",
       "      <td id=\"T_630e5_row3_col0\" class=\"data row3 col0\" >KKP</td>\n",
       "      <td id=\"T_630e5_row3_col1\" class=\"data row3 col1\" >2021</td>\n",
       "      <td id=\"T_630e5_row3_col2\" class=\"data row3 col2\" >Q4</td>\n",
       "      <td id=\"T_630e5_row3_col3\" class=\"data row3 col3\" >6,318,052</td>\n",
       "      <td id=\"T_630e5_row3_col4\" class=\"data row3 col4\" >5,402,784</td>\n",
       "      <td id=\"T_630e5_row3_col5\" class=\"data row3 col5\" >915,268</td>\n",
       "      <td id=\"T_630e5_row3_col6\" class=\"data row3 col6\" >16.94%</td>\n",
       "    </tr>\n",
       "    <tr>\n",
       "      <th id=\"T_630e5_level0_row4\" class=\"row_heading level0 row4\" >21</th>\n",
       "      <td id=\"T_630e5_row4_col0\" class=\"data row4 col0\" >PTTEP</td>\n",
       "      <td id=\"T_630e5_row4_col1\" class=\"data row4 col1\" >2021</td>\n",
       "      <td id=\"T_630e5_row4_col2\" class=\"data row4 col2\" >Q4</td>\n",
       "      <td id=\"T_630e5_row4_col3\" class=\"data row4 col3\" >38,863,595</td>\n",
       "      <td id=\"T_630e5_row4_col4\" class=\"data row4 col4\" >30,745,139</td>\n",
       "      <td id=\"T_630e5_row4_col5\" class=\"data row4 col5\" >8,118,456</td>\n",
       "      <td id=\"T_630e5_row4_col6\" class=\"data row4 col6\" >26.41%</td>\n",
       "    </tr>\n",
       "  </tbody>\n",
       "</table>\n"
      ],
      "text/plain": [
       "<pandas.io.formats.style.Styler at 0x1cb5f746700>"
      ]
     },
     "execution_count": 22,
     "metadata": {},
     "output_type": "execute_result"
    }
   ],
   "source": [
    "df_ins_criteria = criteria_1 & criteria_2 & criteria_3\n",
    "df_ins.loc[df_ins_criteria, cols].head().style.format(format_dict)"
   ]
  },
  {
   "cell_type": "code",
   "execution_count": 23,
   "metadata": {},
   "outputs": [
    {
     "data": {
      "text/html": [
       "<style type=\"text/css\">\n",
       "</style>\n",
       "<table id=\"T_728b7_\">\n",
       "  <thead>\n",
       "    <tr>\n",
       "      <th class=\"blank level0\" >&nbsp;</th>\n",
       "      <th class=\"col_heading level0 col0\" >name</th>\n",
       "      <th class=\"col_heading level0 col1\" >year</th>\n",
       "      <th class=\"col_heading level0 col2\" >quarter</th>\n",
       "      <th class=\"col_heading level0 col3\" >q_amt_c</th>\n",
       "      <th class=\"col_heading level0 col4\" >q_amt_p</th>\n",
       "      <th class=\"col_heading level0 col5\" >inc_profit</th>\n",
       "      <th class=\"col_heading level0 col6\" >percent</th>\n",
       "      <th class=\"col_heading level0 col7\" >id</th>\n",
       "    </tr>\n",
       "  </thead>\n",
       "  <tbody>\n",
       "    <tr>\n",
       "      <th id=\"T_728b7_level0_row0\" class=\"row_heading level0 row0\" >6</th>\n",
       "      <td id=\"T_728b7_row0_col0\" class=\"data row0 col0\" >CIMBT</td>\n",
       "      <td id=\"T_728b7_row0_col1\" class=\"data row0 col1\" >2021</td>\n",
       "      <td id=\"T_728b7_row0_col2\" class=\"data row0 col2\" >Q4</td>\n",
       "      <td id=\"T_728b7_row0_col3\" class=\"data row0 col3\" >2,440,554</td>\n",
       "      <td id=\"T_728b7_row0_col4\" class=\"data row0 col4\" >1,531,200</td>\n",
       "      <td id=\"T_728b7_row0_col5\" class=\"data row0 col5\" >909,354</td>\n",
       "      <td id=\"T_728b7_row0_col6\" class=\"data row0 col6\" >59.39%</td>\n",
       "      <td id=\"T_728b7_row0_col7\" class=\"data row0 col7\" >104</td>\n",
       "    </tr>\n",
       "    <tr>\n",
       "      <th id=\"T_728b7_level0_row1\" class=\"row_heading level0 row1\" >21</th>\n",
       "      <td id=\"T_728b7_row1_col0\" class=\"data row1 col0\" >PTTEP</td>\n",
       "      <td id=\"T_728b7_row1_col1\" class=\"data row1 col1\" >2021</td>\n",
       "      <td id=\"T_728b7_row1_col2\" class=\"data row1 col2\" >Q4</td>\n",
       "      <td id=\"T_728b7_row1_col3\" class=\"data row1 col3\" >38,863,595</td>\n",
       "      <td id=\"T_728b7_row1_col4\" class=\"data row1 col4\" >30,745,139</td>\n",
       "      <td id=\"T_728b7_row1_col5\" class=\"data row1 col5\" >8,118,456</td>\n",
       "      <td id=\"T_728b7_row1_col6\" class=\"data row1 col6\" >26.41%</td>\n",
       "      <td id=\"T_728b7_row1_col7\" class=\"data row1 col7\" >384</td>\n",
       "    </tr>\n",
       "    <tr>\n",
       "      <th id=\"T_728b7_level0_row2\" class=\"row_heading level0 row2\" >26</th>\n",
       "      <td id=\"T_728b7_row2_col0\" class=\"data row2 col0\" >TTB</td>\n",
       "      <td id=\"T_728b7_row2_col1\" class=\"data row2 col1\" >2021</td>\n",
       "      <td id=\"T_728b7_row2_col2\" class=\"data row2 col2\" >Q4</td>\n",
       "      <td id=\"T_728b7_row2_col3\" class=\"data row2 col3\" >10,474,045</td>\n",
       "      <td id=\"T_728b7_row2_col4\" class=\"data row2 col4\" >8,909,595</td>\n",
       "      <td id=\"T_728b7_row2_col5\" class=\"data row2 col5\" >1,564,450</td>\n",
       "      <td id=\"T_728b7_row2_col6\" class=\"data row2 col6\" >17.56%</td>\n",
       "      <td id=\"T_728b7_row2_col7\" class=\"data row2 col7\" >541</td>\n",
       "    </tr>\n",
       "    <tr>\n",
       "      <th id=\"T_728b7_level0_row3\" class=\"row_heading level0 row3\" >4</th>\n",
       "      <td id=\"T_728b7_row3_col0\" class=\"data row3 col0\" >BBL</td>\n",
       "      <td id=\"T_728b7_row3_col1\" class=\"data row3 col1\" >2021</td>\n",
       "      <td id=\"T_728b7_row3_col2\" class=\"data row3 col2\" >Q4</td>\n",
       "      <td id=\"T_728b7_row3_col3\" class=\"data row3 col3\" >26,507,039</td>\n",
       "      <td id=\"T_728b7_row3_col4\" class=\"data row3 col4\" >22,586,660</td>\n",
       "      <td id=\"T_728b7_row3_col5\" class=\"data row3 col5\" >3,920,379</td>\n",
       "      <td id=\"T_728b7_row3_col6\" class=\"data row3 col6\" >17.36%</td>\n",
       "      <td id=\"T_728b7_row3_col7\" class=\"data row3 col7\" >50</td>\n",
       "    </tr>\n",
       "    <tr>\n",
       "      <th id=\"T_728b7_level0_row4\" class=\"row_heading level0 row4\" >14</th>\n",
       "      <td id=\"T_728b7_row4_col0\" class=\"data row4 col0\" >KKP</td>\n",
       "      <td id=\"T_728b7_row4_col1\" class=\"data row4 col1\" >2021</td>\n",
       "      <td id=\"T_728b7_row4_col2\" class=\"data row4 col2\" >Q4</td>\n",
       "      <td id=\"T_728b7_row4_col3\" class=\"data row4 col3\" >6,318,052</td>\n",
       "      <td id=\"T_728b7_row4_col4\" class=\"data row4 col4\" >5,402,784</td>\n",
       "      <td id=\"T_728b7_row4_col5\" class=\"data row4 col5\" >915,268</td>\n",
       "      <td id=\"T_728b7_row4_col6\" class=\"data row4 col6\" >16.94%</td>\n",
       "      <td id=\"T_728b7_row4_col7\" class=\"data row4 col7\" >255</td>\n",
       "    </tr>\n",
       "  </tbody>\n",
       "</table>\n"
      ],
      "text/plain": [
       "<pandas.io.formats.style.Styler at 0x1cb5f70e1c0>"
      ]
     },
     "execution_count": 23,
     "metadata": {},
     "output_type": "execute_result"
    }
   ],
   "source": [
    "df_ins[df_ins_criteria].sort_values(by=[\"percent\"], ascending=[False]).head().style.format(format_dict)"
   ]
  },
  {
   "cell_type": "code",
   "execution_count": 24,
   "metadata": {},
   "outputs": [
    {
     "data": {
      "text/html": [
       "<style type=\"text/css\">\n",
       "</style>\n",
       "<table id=\"T_2341f_\">\n",
       "  <thead>\n",
       "    <tr>\n",
       "      <th class=\"blank level0\" >&nbsp;</th>\n",
       "      <th class=\"col_heading level0 col0\" >name</th>\n",
       "      <th class=\"col_heading level0 col1\" >year</th>\n",
       "      <th class=\"col_heading level0 col2\" >quarter</th>\n",
       "      <th class=\"col_heading level0 col3\" >q_amt_c</th>\n",
       "      <th class=\"col_heading level0 col4\" >q_amt_p</th>\n",
       "      <th class=\"col_heading level0 col5\" >inc_profit</th>\n",
       "      <th class=\"col_heading level0 col6\" >percent</th>\n",
       "      <th class=\"col_heading level0 col7\" >id</th>\n",
       "    </tr>\n",
       "  </thead>\n",
       "  <tbody>\n",
       "    <tr>\n",
       "      <th id=\"T_2341f_level0_row0\" class=\"row_heading level0 row0\" >4</th>\n",
       "      <td id=\"T_2341f_row0_col0\" class=\"data row0 col0\" >BBL</td>\n",
       "      <td id=\"T_2341f_row0_col1\" class=\"data row0 col1\" >2021</td>\n",
       "      <td id=\"T_2341f_row0_col2\" class=\"data row0 col2\" >Q4</td>\n",
       "      <td id=\"T_2341f_row0_col3\" class=\"data row0 col3\" >26,507,039</td>\n",
       "      <td id=\"T_2341f_row0_col4\" class=\"data row0 col4\" >22,586,660</td>\n",
       "      <td id=\"T_2341f_row0_col5\" class=\"data row0 col5\" >3,920,379</td>\n",
       "      <td id=\"T_2341f_row0_col6\" class=\"data row0 col6\" >17.36%</td>\n",
       "      <td id=\"T_2341f_row0_col7\" class=\"data row0 col7\" >50</td>\n",
       "    </tr>\n",
       "    <tr>\n",
       "      <th id=\"T_2341f_level0_row1\" class=\"row_heading level0 row1\" >6</th>\n",
       "      <td id=\"T_2341f_row1_col0\" class=\"data row1 col0\" >CIMBT</td>\n",
       "      <td id=\"T_2341f_row1_col1\" class=\"data row1 col1\" >2021</td>\n",
       "      <td id=\"T_2341f_row1_col2\" class=\"data row1 col2\" >Q4</td>\n",
       "      <td id=\"T_2341f_row1_col3\" class=\"data row1 col3\" >2,440,554</td>\n",
       "      <td id=\"T_2341f_row1_col4\" class=\"data row1 col4\" >1,531,200</td>\n",
       "      <td id=\"T_2341f_row1_col5\" class=\"data row1 col5\" >909,354</td>\n",
       "      <td id=\"T_2341f_row1_col6\" class=\"data row1 col6\" >59.39%</td>\n",
       "      <td id=\"T_2341f_row1_col7\" class=\"data row1 col7\" >104</td>\n",
       "    </tr>\n",
       "    <tr>\n",
       "      <th id=\"T_2341f_level0_row2\" class=\"row_heading level0 row2\" >13</th>\n",
       "      <td id=\"T_2341f_row2_col0\" class=\"data row2 col0\" >KCE</td>\n",
       "      <td id=\"T_2341f_row2_col1\" class=\"data row2 col1\" >2021</td>\n",
       "      <td id=\"T_2341f_row2_col2\" class=\"data row2 col2\" >Q4</td>\n",
       "      <td id=\"T_2341f_row2_col3\" class=\"data row2 col3\" >2,426,284</td>\n",
       "      <td id=\"T_2341f_row2_col4\" class=\"data row2 col4\" >2,105,875</td>\n",
       "      <td id=\"T_2341f_row2_col5\" class=\"data row2 col5\" >320,409</td>\n",
       "      <td id=\"T_2341f_row2_col6\" class=\"data row2 col6\" >15.22%</td>\n",
       "      <td id=\"T_2341f_row2_col7\" class=\"data row2 col7\" >249</td>\n",
       "    </tr>\n",
       "    <tr>\n",
       "      <th id=\"T_2341f_level0_row3\" class=\"row_heading level0 row3\" >14</th>\n",
       "      <td id=\"T_2341f_row3_col0\" class=\"data row3 col0\" >KKP</td>\n",
       "      <td id=\"T_2341f_row3_col1\" class=\"data row3 col1\" >2021</td>\n",
       "      <td id=\"T_2341f_row3_col2\" class=\"data row3 col2\" >Q4</td>\n",
       "      <td id=\"T_2341f_row3_col3\" class=\"data row3 col3\" >6,318,052</td>\n",
       "      <td id=\"T_2341f_row3_col4\" class=\"data row3 col4\" >5,402,784</td>\n",
       "      <td id=\"T_2341f_row3_col5\" class=\"data row3 col5\" >915,268</td>\n",
       "      <td id=\"T_2341f_row3_col6\" class=\"data row3 col6\" >16.94%</td>\n",
       "      <td id=\"T_2341f_row3_col7\" class=\"data row3 col7\" >255</td>\n",
       "    </tr>\n",
       "    <tr>\n",
       "      <th id=\"T_2341f_level0_row4\" class=\"row_heading level0 row4\" >21</th>\n",
       "      <td id=\"T_2341f_row4_col0\" class=\"data row4 col0\" >PTTEP</td>\n",
       "      <td id=\"T_2341f_row4_col1\" class=\"data row4 col1\" >2021</td>\n",
       "      <td id=\"T_2341f_row4_col2\" class=\"data row4 col2\" >Q4</td>\n",
       "      <td id=\"T_2341f_row4_col3\" class=\"data row4 col3\" >38,863,595</td>\n",
       "      <td id=\"T_2341f_row4_col4\" class=\"data row4 col4\" >30,745,139</td>\n",
       "      <td id=\"T_2341f_row4_col5\" class=\"data row4 col5\" >8,118,456</td>\n",
       "      <td id=\"T_2341f_row4_col6\" class=\"data row4 col6\" >26.41%</td>\n",
       "      <td id=\"T_2341f_row4_col7\" class=\"data row4 col7\" >384</td>\n",
       "    </tr>\n",
       "  </tbody>\n",
       "</table>\n"
      ],
      "text/plain": [
       "<pandas.io.formats.style.Styler at 0x1cb5f748a90>"
      ]
     },
     "execution_count": 24,
     "metadata": {},
     "output_type": "execute_result"
    }
   ],
   "source": [
    "df_ins[df_ins_criteria].sort_values(by=[\"name\"], ascending=[True]).head().style.format(format_dict)"
   ]
  },
  {
   "cell_type": "code",
   "execution_count": 25,
   "metadata": {},
   "outputs": [
    {
     "data": {
      "text/html": [
       "<style type=\"text/css\">\n",
       "</style>\n",
       "<table id=\"T_2a8e4_\">\n",
       "  <thead>\n",
       "    <tr>\n",
       "      <th class=\"blank level0\" >&nbsp;</th>\n",
       "      <th class=\"col_heading level0 col0\" >name</th>\n",
       "      <th class=\"col_heading level0 col1\" >year</th>\n",
       "      <th class=\"col_heading level0 col2\" >quarter</th>\n",
       "      <th class=\"col_heading level0 col3\" >q_amt_c</th>\n",
       "      <th class=\"col_heading level0 col4\" >q_amt_p</th>\n",
       "      <th class=\"col_heading level0 col5\" >inc_profit</th>\n",
       "      <th class=\"col_heading level0 col6\" >percent</th>\n",
       "      <th class=\"col_heading level0 col7\" >id</th>\n",
       "    </tr>\n",
       "  </thead>\n",
       "  <tbody>\n",
       "    <tr>\n",
       "      <th id=\"T_2a8e4_level0_row0\" class=\"row_heading level0 row0\" >4</th>\n",
       "      <td id=\"T_2a8e4_row0_col0\" class=\"data row0 col0\" >BBL</td>\n",
       "      <td id=\"T_2a8e4_row0_col1\" class=\"data row0 col1\" >2021</td>\n",
       "      <td id=\"T_2a8e4_row0_col2\" class=\"data row0 col2\" >Q4</td>\n",
       "      <td id=\"T_2a8e4_row0_col3\" class=\"data row0 col3\" >26,507,039</td>\n",
       "      <td id=\"T_2a8e4_row0_col4\" class=\"data row0 col4\" >22,586,660</td>\n",
       "      <td id=\"T_2a8e4_row0_col5\" class=\"data row0 col5\" >3,920,379</td>\n",
       "      <td id=\"T_2a8e4_row0_col6\" class=\"data row0 col6\" >17.36%</td>\n",
       "      <td id=\"T_2a8e4_row0_col7\" class=\"data row0 col7\" >50</td>\n",
       "    </tr>\n",
       "    <tr>\n",
       "      <th id=\"T_2a8e4_level0_row1\" class=\"row_heading level0 row1\" >6</th>\n",
       "      <td id=\"T_2a8e4_row1_col0\" class=\"data row1 col0\" >CIMBT</td>\n",
       "      <td id=\"T_2a8e4_row1_col1\" class=\"data row1 col1\" >2021</td>\n",
       "      <td id=\"T_2a8e4_row1_col2\" class=\"data row1 col2\" >Q4</td>\n",
       "      <td id=\"T_2a8e4_row1_col3\" class=\"data row1 col3\" >2,440,554</td>\n",
       "      <td id=\"T_2a8e4_row1_col4\" class=\"data row1 col4\" >1,531,200</td>\n",
       "      <td id=\"T_2a8e4_row1_col5\" class=\"data row1 col5\" >909,354</td>\n",
       "      <td id=\"T_2a8e4_row1_col6\" class=\"data row1 col6\" >59.39%</td>\n",
       "      <td id=\"T_2a8e4_row1_col7\" class=\"data row1 col7\" >104</td>\n",
       "    </tr>\n",
       "    <tr>\n",
       "      <th id=\"T_2a8e4_level0_row2\" class=\"row_heading level0 row2\" >13</th>\n",
       "      <td id=\"T_2a8e4_row2_col0\" class=\"data row2 col0\" >KCE</td>\n",
       "      <td id=\"T_2a8e4_row2_col1\" class=\"data row2 col1\" >2021</td>\n",
       "      <td id=\"T_2a8e4_row2_col2\" class=\"data row2 col2\" >Q4</td>\n",
       "      <td id=\"T_2a8e4_row2_col3\" class=\"data row2 col3\" >2,426,284</td>\n",
       "      <td id=\"T_2a8e4_row2_col4\" class=\"data row2 col4\" >2,105,875</td>\n",
       "      <td id=\"T_2a8e4_row2_col5\" class=\"data row2 col5\" >320,409</td>\n",
       "      <td id=\"T_2a8e4_row2_col6\" class=\"data row2 col6\" >15.22%</td>\n",
       "      <td id=\"T_2a8e4_row2_col7\" class=\"data row2 col7\" >249</td>\n",
       "    </tr>\n",
       "    <tr>\n",
       "      <th id=\"T_2a8e4_level0_row3\" class=\"row_heading level0 row3\" >14</th>\n",
       "      <td id=\"T_2a8e4_row3_col0\" class=\"data row3 col0\" >KKP</td>\n",
       "      <td id=\"T_2a8e4_row3_col1\" class=\"data row3 col1\" >2021</td>\n",
       "      <td id=\"T_2a8e4_row3_col2\" class=\"data row3 col2\" >Q4</td>\n",
       "      <td id=\"T_2a8e4_row3_col3\" class=\"data row3 col3\" >6,318,052</td>\n",
       "      <td id=\"T_2a8e4_row3_col4\" class=\"data row3 col4\" >5,402,784</td>\n",
       "      <td id=\"T_2a8e4_row3_col5\" class=\"data row3 col5\" >915,268</td>\n",
       "      <td id=\"T_2a8e4_row3_col6\" class=\"data row3 col6\" >16.94%</td>\n",
       "      <td id=\"T_2a8e4_row3_col7\" class=\"data row3 col7\" >255</td>\n",
       "    </tr>\n",
       "    <tr>\n",
       "      <th id=\"T_2a8e4_level0_row4\" class=\"row_heading level0 row4\" >21</th>\n",
       "      <td id=\"T_2a8e4_row4_col0\" class=\"data row4 col0\" >PTTEP</td>\n",
       "      <td id=\"T_2a8e4_row4_col1\" class=\"data row4 col1\" >2021</td>\n",
       "      <td id=\"T_2a8e4_row4_col2\" class=\"data row4 col2\" >Q4</td>\n",
       "      <td id=\"T_2a8e4_row4_col3\" class=\"data row4 col3\" >38,863,595</td>\n",
       "      <td id=\"T_2a8e4_row4_col4\" class=\"data row4 col4\" >30,745,139</td>\n",
       "      <td id=\"T_2a8e4_row4_col5\" class=\"data row4 col5\" >8,118,456</td>\n",
       "      <td id=\"T_2a8e4_row4_col6\" class=\"data row4 col6\" >26.41%</td>\n",
       "      <td id=\"T_2a8e4_row4_col7\" class=\"data row4 col7\" >384</td>\n",
       "    </tr>\n",
       "  </tbody>\n",
       "</table>\n"
      ],
      "text/plain": [
       "<pandas.io.formats.style.Styler at 0x1cb5f6c1be0>"
      ]
     },
     "execution_count": 25,
     "metadata": {},
     "output_type": "execute_result"
    }
   ],
   "source": [
    "df_ins[df_ins_criteria].sort_values(by=[\"name\"], ascending=[True]).head().style.format(format_dict)"
   ]
  },
  {
   "cell_type": "code",
   "execution_count": 26,
   "metadata": {},
   "outputs": [
    {
     "name": "stdout",
     "output_type": "stream",
     "text": [
      "\n",
      "SELECT name, COUNT(*) AS 'Nbr. of Group of 4 Quarters'\n",
      "FROM qt_profits\n",
      "GROUP BY name\n",
      "HAVING COUNT(*) = 1\n",
      "ORDER BY COUNT(*) DESC, name\n",
      "\n"
     ]
    },
    {
     "data": {
      "text/html": [
       "<div>\n",
       "<style scoped>\n",
       "    .dataframe tbody tr th:only-of-type {\n",
       "        vertical-align: middle;\n",
       "    }\n",
       "\n",
       "    .dataframe tbody tr th {\n",
       "        vertical-align: top;\n",
       "    }\n",
       "\n",
       "    .dataframe thead th {\n",
       "        text-align: right;\n",
       "    }\n",
       "</style>\n",
       "<table border=\"1\" class=\"dataframe\">\n",
       "  <thead>\n",
       "    <tr style=\"text-align: right;\">\n",
       "      <th></th>\n",
       "      <th>name</th>\n",
       "      <th>Nbr. of Group of 4 Quarters</th>\n",
       "    </tr>\n",
       "  </thead>\n",
       "  <tbody>\n",
       "    <tr>\n",
       "      <th>0</th>\n",
       "      <td>BCT</td>\n",
       "      <td>1</td>\n",
       "    </tr>\n",
       "    <tr>\n",
       "      <th>1</th>\n",
       "      <td>INSET</td>\n",
       "      <td>1</td>\n",
       "    </tr>\n",
       "    <tr>\n",
       "      <th>2</th>\n",
       "      <td>NRF</td>\n",
       "      <td>1</td>\n",
       "    </tr>\n",
       "    <tr>\n",
       "      <th>3</th>\n",
       "      <td>OR</td>\n",
       "      <td>1</td>\n",
       "    </tr>\n",
       "    <tr>\n",
       "      <th>4</th>\n",
       "      <td>UOBKH</td>\n",
       "      <td>1</td>\n",
       "    </tr>\n",
       "  </tbody>\n",
       "</table>\n",
       "</div>"
      ],
      "text/plain": [
       "    name  Nbr. of Group of 4 Quarters\n",
       "0    BCT                            1\n",
       "1  INSET                            1\n",
       "2    NRF                            1\n",
       "3     OR                            1\n",
       "4  UOBKH                            1"
      ]
     },
     "execution_count": 26,
     "metadata": {},
     "output_type": "execute_result"
    }
   ],
   "source": [
    "sql = \"\"\"\n",
    "SELECT name, COUNT(*) AS 'Nbr. of Group of 4 Quarters'\n",
    "FROM qt_profits\n",
    "GROUP BY name\n",
    "HAVING COUNT(*) = 1\n",
    "ORDER BY COUNT(*) DESC, name\n",
    "\"\"\"\n",
    "print(sql)\n",
    "\n",
    "tmp = pd.read_sql(sql, conlt)\n",
    "tmp"
   ]
  },
  {
   "cell_type": "code",
   "execution_count": null,
   "metadata": {},
   "outputs": [],
   "source": []
  }
 ],
 "metadata": {
  "anaconda-cloud": {},
  "kernelspec": {
   "display_name": "Python 3 (ipykernel)",
   "language": "python",
   "name": "python3"
  },
  "language_info": {
   "codemirror_mode": {
    "name": "ipython",
    "version": 3
   },
   "file_extension": ".py",
   "mimetype": "text/x-python",
   "name": "python",
   "nbconvert_exporter": "python",
   "pygments_lexer": "ipython3",
   "version": "3.8.11"
  }
 },
 "nbformat": 4,
 "nbformat_minor": 1
}
