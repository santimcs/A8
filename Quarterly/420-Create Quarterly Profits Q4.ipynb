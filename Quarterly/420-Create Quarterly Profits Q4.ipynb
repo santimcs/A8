{
 "cells": [
  {
   "cell_type": "markdown",
   "metadata": {},
   "source": [
    "### Restart and Run All Cells"
   ]
  },
  {
   "cell_type": "code",
   "execution_count": 1,
   "metadata": {},
   "outputs": [],
   "source": [
    "import pandas as pd\n",
    "from sqlalchemy import create_engine\n",
    "engine = create_engine(\"sqlite:///c:\\\\ruby\\\\portlt\\\\db\\\\development.sqlite3\")\n",
    "conlt = engine.connect()\n",
    "year = 2021\n",
    "quarter = 4"
   ]
  },
  {
   "cell_type": "code",
   "execution_count": 2,
   "metadata": {},
   "outputs": [],
   "source": [
    "cols = 'name year quarter q_amt_c q_amt_p inc_profit percent'.split()"
   ]
  },
  {
   "cell_type": "code",
   "execution_count": 3,
   "metadata": {},
   "outputs": [],
   "source": [
    "format_dict = {\n",
    "                'q_amt':'{:,}','q_amt_c':'{:,}','q_amt_p':'{:,}','inc_profit':'{:,}',\n",
    "                'yoy_gain':'{:,}','acc_gain':'{:,}',   \n",
    "                'latest_amt':'{:,}','previous_amt':'{:,}','inc_amt':'{:,}',\n",
    "                'q_eps':'{:.4f}','y_eps':'{:.4f}','aq_eps':'{:.4f}','ay_eps':'{:.4f}',\n",
    "                'percent':'{:.2f}%','inc_pct':'{:.2f}%'\n",
    "              }"
   ]
  },
  {
   "cell_type": "code",
   "execution_count": 4,
   "metadata": {},
   "outputs": [
    {
     "name": "stdout",
     "output_type": "stream",
     "text": [
      "\n",
      "SELECT name,year,quarter,q_amt \n",
      "FROM epss \n",
      "WHERE (year = 2021 AND quarter <= 4) \n",
      "OR (year = 2021-1 AND quarter >= 4+1)\n",
      "ORDER BY year DESC, quarter DESC\n",
      "\n"
     ]
    }
   ],
   "source": [
    "sql = \"\"\"\n",
    "SELECT name,year,quarter,q_amt \n",
    "FROM epss \n",
    "WHERE (year = %s AND quarter <= %s) \n",
    "OR (year = %s-1 AND quarter >= %s+1)\n",
    "ORDER BY year DESC, quarter DESC\n",
    "\"\"\"\n",
    "sql = sql % (year, quarter, year, quarter)\n",
    "print(sql)"
   ]
  },
  {
   "cell_type": "code",
   "execution_count": 5,
   "metadata": {},
   "outputs": [
    {
     "data": {
      "text/html": [
       "<div>\n",
       "<style scoped>\n",
       "    .dataframe tbody tr th:only-of-type {\n",
       "        vertical-align: middle;\n",
       "    }\n",
       "\n",
       "    .dataframe tbody tr th {\n",
       "        vertical-align: top;\n",
       "    }\n",
       "\n",
       "    .dataframe thead th {\n",
       "        text-align: right;\n",
       "    }\n",
       "</style>\n",
       "<table border=\"1\" class=\"dataframe\">\n",
       "  <thead>\n",
       "    <tr style=\"text-align: right;\">\n",
       "      <th></th>\n",
       "      <th>name</th>\n",
       "      <th>year</th>\n",
       "      <th>quarter</th>\n",
       "      <th>q_amt</th>\n",
       "      <th>Counter</th>\n",
       "    </tr>\n",
       "  </thead>\n",
       "  <tbody>\n",
       "    <tr>\n",
       "      <th>3</th>\n",
       "      <td>ADVANC</td>\n",
       "      <td>8084</td>\n",
       "      <td>10</td>\n",
       "      <td>26922146</td>\n",
       "      <td>4</td>\n",
       "    </tr>\n",
       "    <tr>\n",
       "      <th>12</th>\n",
       "      <td>AMANAH</td>\n",
       "      <td>8084</td>\n",
       "      <td>10</td>\n",
       "      <td>307164</td>\n",
       "      <td>4</td>\n",
       "    </tr>\n",
       "    <tr>\n",
       "      <th>17</th>\n",
       "      <td>AOT</td>\n",
       "      <td>8084</td>\n",
       "      <td>10</td>\n",
       "      <td>-16322014</td>\n",
       "      <td>4</td>\n",
       "    </tr>\n",
       "    <tr>\n",
       "      <th>23</th>\n",
       "      <td>ASK</td>\n",
       "      <td>8084</td>\n",
       "      <td>10</td>\n",
       "      <td>1202804</td>\n",
       "      <td>4</td>\n",
       "    </tr>\n",
       "    <tr>\n",
       "      <th>24</th>\n",
       "      <td>ASP</td>\n",
       "      <td>8084</td>\n",
       "      <td>10</td>\n",
       "      <td>978355</td>\n",
       "      <td>4</td>\n",
       "    </tr>\n",
       "  </tbody>\n",
       "</table>\n",
       "</div>"
      ],
      "text/plain": [
       "      name  year  quarter     q_amt  Counter\n",
       "3   ADVANC  8084       10  26922146        4\n",
       "12  AMANAH  8084       10    307164        4\n",
       "17     AOT  8084       10 -16322014        4\n",
       "23     ASK  8084       10   1202804        4\n",
       "24     ASP  8084       10    978355        4"
      ]
     },
     "execution_count": 5,
     "metadata": {},
     "output_type": "execute_result"
    }
   ],
   "source": [
    "dfc = pd.read_sql(sql, conlt)\n",
    "dfc[\"Counter\"] = 1\n",
    "dfc_grp = dfc.groupby([\"name\"], as_index=False).sum()\n",
    "dfc_grp = dfc_grp[dfc_grp[\"Counter\"] == 4]\n",
    "dfc_grp.head()"
   ]
  },
  {
   "cell_type": "code",
   "execution_count": 6,
   "metadata": {},
   "outputs": [
    {
     "name": "stdout",
     "output_type": "stream",
     "text": [
      "\n",
      "SELECT name,year,quarter,q_amt \n",
      "FROM epss \n",
      "WHERE (year = 2021 AND quarter <= 4-1) \n",
      "OR (year = 2021-1 AND quarter >= 4) \n",
      "ORDER BY year DESC, quarter DESC\n"
     ]
    }
   ],
   "source": [
    "sql = \"\"\"\n",
    "SELECT name,year,quarter,q_amt \n",
    "FROM epss \n",
    "WHERE (year = %s AND quarter <= %s-1) \n",
    "OR (year = %s-1 AND quarter >= %s) \n",
    "ORDER BY year DESC, quarter DESC\"\"\"\n",
    "sql = sql % (year, quarter, year, quarter)\n",
    "print(sql)"
   ]
  },
  {
   "cell_type": "code",
   "execution_count": 7,
   "metadata": {},
   "outputs": [
    {
     "data": {
      "text/html": [
       "<style type=\"text/css\">\n",
       "</style>\n",
       "<table id=\"T_8423e_\">\n",
       "  <thead>\n",
       "    <tr>\n",
       "      <th class=\"blank level0\" >&nbsp;</th>\n",
       "      <th class=\"col_heading level0 col0\" >name</th>\n",
       "      <th class=\"col_heading level0 col1\" >year</th>\n",
       "      <th class=\"col_heading level0 col2\" >quarter</th>\n",
       "      <th class=\"col_heading level0 col3\" >q_amt</th>\n",
       "      <th class=\"col_heading level0 col4\" >Counter</th>\n",
       "    </tr>\n",
       "  </thead>\n",
       "  <tbody>\n",
       "    <tr>\n",
       "      <th id=\"T_8423e_level0_row0\" class=\"row_heading level0 row0\" >0</th>\n",
       "      <td id=\"T_8423e_row0_col0\" class=\"data row0 col0\" >2S</td>\n",
       "      <td id=\"T_8423e_row0_col1\" class=\"data row0 col1\" >8083</td>\n",
       "      <td id=\"T_8423e_row0_col2\" class=\"data row0 col2\" >10</td>\n",
       "      <td id=\"T_8423e_row0_col3\" class=\"data row0 col3\" >788,297</td>\n",
       "      <td id=\"T_8423e_row0_col4\" class=\"data row0 col4\" >4</td>\n",
       "    </tr>\n",
       "    <tr>\n",
       "      <th id=\"T_8423e_level0_row1\" class=\"row_heading level0 row1\" >1</th>\n",
       "      <td id=\"T_8423e_row1_col0\" class=\"data row1 col0\" >AAV</td>\n",
       "      <td id=\"T_8423e_row1_col1\" class=\"data row1 col1\" >8083</td>\n",
       "      <td id=\"T_8423e_row1_col2\" class=\"data row1 col2\" >10</td>\n",
       "      <td id=\"T_8423e_row1_col3\" class=\"data row1 col3\" >-6,769,190</td>\n",
       "      <td id=\"T_8423e_row1_col4\" class=\"data row1 col4\" >4</td>\n",
       "    </tr>\n",
       "    <tr>\n",
       "      <th id=\"T_8423e_level0_row2\" class=\"row_heading level0 row2\" >2</th>\n",
       "      <td id=\"T_8423e_row2_col0\" class=\"data row2 col0\" >ACE</td>\n",
       "      <td id=\"T_8423e_row2_col1\" class=\"data row2 col1\" >8083</td>\n",
       "      <td id=\"T_8423e_row2_col2\" class=\"data row2 col2\" >10</td>\n",
       "      <td id=\"T_8423e_row2_col3\" class=\"data row2 col3\" >1,392,091</td>\n",
       "      <td id=\"T_8423e_row2_col4\" class=\"data row2 col4\" >4</td>\n",
       "    </tr>\n",
       "    <tr>\n",
       "      <th id=\"T_8423e_level0_row3\" class=\"row_heading level0 row3\" >3</th>\n",
       "      <td id=\"T_8423e_row3_col0\" class=\"data row3 col0\" >ADVANC</td>\n",
       "      <td id=\"T_8423e_row3_col1\" class=\"data row3 col1\" >8083</td>\n",
       "      <td id=\"T_8423e_row3_col2\" class=\"data row3 col2\" >10</td>\n",
       "      <td id=\"T_8423e_row3_col3\" class=\"data row3 col3\" >27,223,149</td>\n",
       "      <td id=\"T_8423e_row3_col4\" class=\"data row3 col4\" >4</td>\n",
       "    </tr>\n",
       "    <tr>\n",
       "      <th id=\"T_8423e_level0_row4\" class=\"row_heading level0 row4\" >4</th>\n",
       "      <td id=\"T_8423e_row4_col0\" class=\"data row4 col0\" >AEONTS</td>\n",
       "      <td id=\"T_8423e_row4_col1\" class=\"data row4 col1\" >8083</td>\n",
       "      <td id=\"T_8423e_row4_col2\" class=\"data row4 col2\" >10</td>\n",
       "      <td id=\"T_8423e_row4_col3\" class=\"data row4 col3\" >3,826,113</td>\n",
       "      <td id=\"T_8423e_row4_col4\" class=\"data row4 col4\" >4</td>\n",
       "    </tr>\n",
       "  </tbody>\n",
       "</table>\n"
      ],
      "text/plain": [
       "<pandas.io.formats.style.Styler at 0x24155825f70>"
      ]
     },
     "execution_count": 7,
     "metadata": {},
     "output_type": "execute_result"
    }
   ],
   "source": [
    "dfp = pd.read_sql(sql, conlt)\n",
    "dfp[\"Counter\"] = 1\n",
    "dfp_grp = dfp.groupby([\"name\"], as_index=False).sum()\n",
    "dfp_grp = dfp_grp[dfp_grp[\"Counter\"] == 4]\n",
    "dfp_grp.head().style.format(format_dict)"
   ]
  },
  {
   "cell_type": "code",
   "execution_count": 8,
   "metadata": {},
   "outputs": [
    {
     "data": {
      "text/plain": [
       "(338,)"
      ]
     },
     "execution_count": 8,
     "metadata": {},
     "output_type": "execute_result"
    }
   ],
   "source": [
    "dfp.name.unique().shape"
   ]
  },
  {
   "cell_type": "code",
   "execution_count": 9,
   "metadata": {},
   "outputs": [
    {
     "data": {
      "text/plain": [
       "(339, 15)"
      ]
     },
     "execution_count": 9,
     "metadata": {},
     "output_type": "execute_result"
    }
   ],
   "source": [
    "sql = \"\"\"\n",
    "SELECT *\n",
    "FROM stocks\n",
    "\"\"\"\n",
    "stocks = pd.read_sql(sql, conlt)\n",
    "stocks.shape"
   ]
  },
  {
   "cell_type": "code",
   "execution_count": 10,
   "metadata": {},
   "outputs": [
    {
     "data": {
      "text/plain": [
       "(403, 9)"
      ]
     },
     "execution_count": 10,
     "metadata": {},
     "output_type": "execute_result"
    }
   ],
   "source": [
    "sql = \"\"\"\n",
    "SELECT *\n",
    "FROM tickers\n",
    "\"\"\"\n",
    "tickers = pd.read_sql(sql, conlt)\n",
    "tickers.shape"
   ]
  },
  {
   "cell_type": "code",
   "execution_count": 11,
   "metadata": {},
   "outputs": [
    {
     "data": {
      "text/html": [
       "<style type=\"text/css\">\n",
       "</style>\n",
       "<table id=\"T_48749_\">\n",
       "  <thead>\n",
       "    <tr>\n",
       "      <th class=\"blank level0\" >&nbsp;</th>\n",
       "      <th class=\"col_heading level0 col0\" >name</th>\n",
       "      <th class=\"col_heading level0 col1\" >year</th>\n",
       "      <th class=\"col_heading level0 col2\" >quarter</th>\n",
       "      <th class=\"col_heading level0 col3\" >q_amt_c</th>\n",
       "      <th class=\"col_heading level0 col4\" >q_amt_p</th>\n",
       "      <th class=\"col_heading level0 col5\" >inc_profit</th>\n",
       "      <th class=\"col_heading level0 col6\" >percent</th>\n",
       "    </tr>\n",
       "  </thead>\n",
       "  <tbody>\n",
       "    <tr>\n",
       "      <th id=\"T_48749_level0_row0\" class=\"row_heading level0 row0\" >0</th>\n",
       "      <td id=\"T_48749_row0_col0\" class=\"data row0 col0\" >ADVANC</td>\n",
       "      <td id=\"T_48749_row0_col1\" class=\"data row0 col1\" >2021</td>\n",
       "      <td id=\"T_48749_row0_col2\" class=\"data row0 col2\" >Q4</td>\n",
       "      <td id=\"T_48749_row0_col3\" class=\"data row0 col3\" >26,922,146</td>\n",
       "      <td id=\"T_48749_row0_col4\" class=\"data row0 col4\" >27,223,149</td>\n",
       "      <td id=\"T_48749_row0_col5\" class=\"data row0 col5\" >-301,003</td>\n",
       "      <td id=\"T_48749_row0_col6\" class=\"data row0 col6\" >-1.11%</td>\n",
       "    </tr>\n",
       "    <tr>\n",
       "      <th id=\"T_48749_level0_row1\" class=\"row_heading level0 row1\" >1</th>\n",
       "      <td id=\"T_48749_row1_col0\" class=\"data row1 col0\" >AMANAH</td>\n",
       "      <td id=\"T_48749_row1_col1\" class=\"data row1 col1\" >2021</td>\n",
       "      <td id=\"T_48749_row1_col2\" class=\"data row1 col2\" >Q4</td>\n",
       "      <td id=\"T_48749_row1_col3\" class=\"data row1 col3\" >307,164</td>\n",
       "      <td id=\"T_48749_row1_col4\" class=\"data row1 col4\" >307,691</td>\n",
       "      <td id=\"T_48749_row1_col5\" class=\"data row1 col5\" >-527</td>\n",
       "      <td id=\"T_48749_row1_col6\" class=\"data row1 col6\" >-0.17%</td>\n",
       "    </tr>\n",
       "    <tr>\n",
       "      <th id=\"T_48749_level0_row2\" class=\"row_heading level0 row2\" >2</th>\n",
       "      <td id=\"T_48749_row2_col0\" class=\"data row2 col0\" >AOT</td>\n",
       "      <td id=\"T_48749_row2_col1\" class=\"data row2 col1\" >2021</td>\n",
       "      <td id=\"T_48749_row2_col2\" class=\"data row2 col2\" >Q4</td>\n",
       "      <td id=\"T_48749_row2_col3\" class=\"data row2 col3\" >-16,322,014</td>\n",
       "      <td id=\"T_48749_row2_col4\" class=\"data row2 col4\" >-14,892,318</td>\n",
       "      <td id=\"T_48749_row2_col5\" class=\"data row2 col5\" >-1,429,696</td>\n",
       "      <td id=\"T_48749_row2_col6\" class=\"data row2 col6\" >-9.60%</td>\n",
       "    </tr>\n",
       "    <tr>\n",
       "      <th id=\"T_48749_level0_row3\" class=\"row_heading level0 row3\" >3</th>\n",
       "      <td id=\"T_48749_row3_col0\" class=\"data row3 col0\" >ASK</td>\n",
       "      <td id=\"T_48749_row3_col1\" class=\"data row3 col1\" >2021</td>\n",
       "      <td id=\"T_48749_row3_col2\" class=\"data row3 col2\" >Q4</td>\n",
       "      <td id=\"T_48749_row3_col3\" class=\"data row3 col3\" >1,202,804</td>\n",
       "      <td id=\"T_48749_row3_col4\" class=\"data row3 col4\" >1,080,308</td>\n",
       "      <td id=\"T_48749_row3_col5\" class=\"data row3 col5\" >122,496</td>\n",
       "      <td id=\"T_48749_row3_col6\" class=\"data row3 col6\" >11.34%</td>\n",
       "    </tr>\n",
       "    <tr>\n",
       "      <th id=\"T_48749_level0_row4\" class=\"row_heading level0 row4\" >4</th>\n",
       "      <td id=\"T_48749_row4_col0\" class=\"data row4 col0\" >ASP</td>\n",
       "      <td id=\"T_48749_row4_col1\" class=\"data row4 col1\" >2021</td>\n",
       "      <td id=\"T_48749_row4_col2\" class=\"data row4 col2\" >Q4</td>\n",
       "      <td id=\"T_48749_row4_col3\" class=\"data row4 col3\" >978,355</td>\n",
       "      <td id=\"T_48749_row4_col4\" class=\"data row4 col4\" >907,856</td>\n",
       "      <td id=\"T_48749_row4_col5\" class=\"data row4 col5\" >70,499</td>\n",
       "      <td id=\"T_48749_row4_col6\" class=\"data row4 col6\" >7.77%</td>\n",
       "    </tr>\n",
       "  </tbody>\n",
       "</table>\n"
      ],
      "text/plain": [
       "<pandas.io.formats.style.Styler at 0x24159389730>"
      ]
     },
     "execution_count": 11,
     "metadata": {},
     "output_type": "execute_result"
    }
   ],
   "source": [
    "dfm = pd.merge(dfc_grp, dfp_grp, on=\"name\", suffixes=([\"_c\", \"_p\"]), how=\"inner\")\n",
    "dfm[\"inc_profit\"] = dfm[\"q_amt_c\"] - dfm[\"q_amt_p\"]\n",
    "dfm[\"percent\"] = round(dfm[\"inc_profit\"] / abs(dfm[\"q_amt_p\"]) * 100, 2)\n",
    "dfm[\"year\"] = year\n",
    "dfm[\"quarter\"] = \"Q\" + str(quarter)\n",
    "df_percent = dfm[cols]\n",
    "df_percent.head().style.format(format_dict)"
   ]
  },
  {
   "cell_type": "code",
   "execution_count": 12,
   "metadata": {},
   "outputs": [
    {
     "name": "stdout",
     "output_type": "stream",
     "text": [
      "\n",
      "DELETE FROM qt_profits \n",
      "WHERE year = 2021 AND quarter = 'Q4'\n",
      "\n"
     ]
    },
    {
     "data": {
      "text/plain": [
       "70"
      ]
     },
     "execution_count": 12,
     "metadata": {},
     "output_type": "execute_result"
    }
   ],
   "source": [
    "sql = \"\"\"\n",
    "DELETE FROM qt_profits \n",
    "WHERE year = %s AND quarter = 'Q%s'\n",
    "\"\"\"\n",
    "sql = sql % (year, quarter)\n",
    "print(sql)\n",
    "\n",
    "rp = conlt.execute(sql)\n",
    "rp.rowcount"
   ]
  },
  {
   "cell_type": "code",
   "execution_count": 13,
   "metadata": {},
   "outputs": [
    {
     "data": {
      "text/html": [
       "<div>\n",
       "<style scoped>\n",
       "    .dataframe tbody tr th:only-of-type {\n",
       "        vertical-align: middle;\n",
       "    }\n",
       "\n",
       "    .dataframe tbody tr th {\n",
       "        vertical-align: top;\n",
       "    }\n",
       "\n",
       "    .dataframe thead th {\n",
       "        text-align: right;\n",
       "    }\n",
       "</style>\n",
       "<table border=\"1\" class=\"dataframe\">\n",
       "  <thead>\n",
       "    <tr style=\"text-align: right;\">\n",
       "      <th></th>\n",
       "      <th>name</th>\n",
       "      <th>id</th>\n",
       "    </tr>\n",
       "  </thead>\n",
       "  <tbody>\n",
       "    <tr>\n",
       "      <th>0</th>\n",
       "      <td>2S</td>\n",
       "      <td>727</td>\n",
       "    </tr>\n",
       "    <tr>\n",
       "      <th>1</th>\n",
       "      <td>A</td>\n",
       "      <td>1</td>\n",
       "    </tr>\n",
       "    <tr>\n",
       "      <th>2</th>\n",
       "      <td>AAV</td>\n",
       "      <td>732</td>\n",
       "    </tr>\n",
       "    <tr>\n",
       "      <th>3</th>\n",
       "      <td>ACE</td>\n",
       "      <td>698</td>\n",
       "    </tr>\n",
       "    <tr>\n",
       "      <th>4</th>\n",
       "      <td>ADVANC</td>\n",
       "      <td>6</td>\n",
       "    </tr>\n",
       "  </tbody>\n",
       "</table>\n",
       "</div>"
      ],
      "text/plain": [
       "     name   id\n",
       "0      2S  727\n",
       "1       A    1\n",
       "2     AAV  732\n",
       "3     ACE  698\n",
       "4  ADVANC    6"
      ]
     },
     "execution_count": 13,
     "metadata": {},
     "output_type": "execute_result"
    }
   ],
   "source": [
    "sql = \"SELECT name, id FROM tickers\"\n",
    "tickers = pd.read_sql(sql, conlt)\n",
    "tickers.head()"
   ]
  },
  {
   "cell_type": "code",
   "execution_count": 14,
   "metadata": {},
   "outputs": [
    {
     "data": {
      "text/html": [
       "<style type=\"text/css\">\n",
       "</style>\n",
       "<table id=\"T_7c1f7_\">\n",
       "  <thead>\n",
       "    <tr>\n",
       "      <th class=\"blank level0\" >&nbsp;</th>\n",
       "      <th class=\"col_heading level0 col0\" >name</th>\n",
       "      <th class=\"col_heading level0 col1\" >year</th>\n",
       "      <th class=\"col_heading level0 col2\" >quarter</th>\n",
       "      <th class=\"col_heading level0 col3\" >q_amt_c</th>\n",
       "      <th class=\"col_heading level0 col4\" >q_amt_p</th>\n",
       "      <th class=\"col_heading level0 col5\" >inc_profit</th>\n",
       "      <th class=\"col_heading level0 col6\" >percent</th>\n",
       "      <th class=\"col_heading level0 col7\" >id</th>\n",
       "    </tr>\n",
       "  </thead>\n",
       "  <tbody>\n",
       "    <tr>\n",
       "      <th id=\"T_7c1f7_level0_row0\" class=\"row_heading level0 row0\" >0</th>\n",
       "      <td id=\"T_7c1f7_row0_col0\" class=\"data row0 col0\" >ADVANC</td>\n",
       "      <td id=\"T_7c1f7_row0_col1\" class=\"data row0 col1\" >2021</td>\n",
       "      <td id=\"T_7c1f7_row0_col2\" class=\"data row0 col2\" >Q4</td>\n",
       "      <td id=\"T_7c1f7_row0_col3\" class=\"data row0 col3\" >26,922,146</td>\n",
       "      <td id=\"T_7c1f7_row0_col4\" class=\"data row0 col4\" >27,223,149</td>\n",
       "      <td id=\"T_7c1f7_row0_col5\" class=\"data row0 col5\" >-301,003</td>\n",
       "      <td id=\"T_7c1f7_row0_col6\" class=\"data row0 col6\" >-1.11%</td>\n",
       "      <td id=\"T_7c1f7_row0_col7\" class=\"data row0 col7\" >6</td>\n",
       "    </tr>\n",
       "    <tr>\n",
       "      <th id=\"T_7c1f7_level0_row1\" class=\"row_heading level0 row1\" >1</th>\n",
       "      <td id=\"T_7c1f7_row1_col0\" class=\"data row1 col0\" >AMANAH</td>\n",
       "      <td id=\"T_7c1f7_row1_col1\" class=\"data row1 col1\" >2021</td>\n",
       "      <td id=\"T_7c1f7_row1_col2\" class=\"data row1 col2\" >Q4</td>\n",
       "      <td id=\"T_7c1f7_row1_col3\" class=\"data row1 col3\" >307,164</td>\n",
       "      <td id=\"T_7c1f7_row1_col4\" class=\"data row1 col4\" >307,691</td>\n",
       "      <td id=\"T_7c1f7_row1_col5\" class=\"data row1 col5\" >-527</td>\n",
       "      <td id=\"T_7c1f7_row1_col6\" class=\"data row1 col6\" >-0.17%</td>\n",
       "      <td id=\"T_7c1f7_row1_col7\" class=\"data row1 col7\" >19</td>\n",
       "    </tr>\n",
       "    <tr>\n",
       "      <th id=\"T_7c1f7_level0_row2\" class=\"row_heading level0 row2\" >2</th>\n",
       "      <td id=\"T_7c1f7_row2_col0\" class=\"data row2 col0\" >AOT</td>\n",
       "      <td id=\"T_7c1f7_row2_col1\" class=\"data row2 col1\" >2021</td>\n",
       "      <td id=\"T_7c1f7_row2_col2\" class=\"data row2 col2\" >Q4</td>\n",
       "      <td id=\"T_7c1f7_row2_col3\" class=\"data row2 col3\" >-16,322,014</td>\n",
       "      <td id=\"T_7c1f7_row2_col4\" class=\"data row2 col4\" >-14,892,318</td>\n",
       "      <td id=\"T_7c1f7_row2_col5\" class=\"data row2 col5\" >-1,429,696</td>\n",
       "      <td id=\"T_7c1f7_row2_col6\" class=\"data row2 col6\" >-9.60%</td>\n",
       "      <td id=\"T_7c1f7_row2_col7\" class=\"data row2 col7\" >24</td>\n",
       "    </tr>\n",
       "    <tr>\n",
       "      <th id=\"T_7c1f7_level0_row3\" class=\"row_heading level0 row3\" >3</th>\n",
       "      <td id=\"T_7c1f7_row3_col0\" class=\"data row3 col0\" >ASK</td>\n",
       "      <td id=\"T_7c1f7_row3_col1\" class=\"data row3 col1\" >2021</td>\n",
       "      <td id=\"T_7c1f7_row3_col2\" class=\"data row3 col2\" >Q4</td>\n",
       "      <td id=\"T_7c1f7_row3_col3\" class=\"data row3 col3\" >1,202,804</td>\n",
       "      <td id=\"T_7c1f7_row3_col4\" class=\"data row3 col4\" >1,080,308</td>\n",
       "      <td id=\"T_7c1f7_row3_col5\" class=\"data row3 col5\" >122,496</td>\n",
       "      <td id=\"T_7c1f7_row3_col6\" class=\"data row3 col6\" >11.34%</td>\n",
       "      <td id=\"T_7c1f7_row3_col7\" class=\"data row3 col7\" >38</td>\n",
       "    </tr>\n",
       "    <tr>\n",
       "      <th id=\"T_7c1f7_level0_row4\" class=\"row_heading level0 row4\" >4</th>\n",
       "      <td id=\"T_7c1f7_row4_col0\" class=\"data row4 col0\" >ASP</td>\n",
       "      <td id=\"T_7c1f7_row4_col1\" class=\"data row4 col1\" >2021</td>\n",
       "      <td id=\"T_7c1f7_row4_col2\" class=\"data row4 col2\" >Q4</td>\n",
       "      <td id=\"T_7c1f7_row4_col3\" class=\"data row4 col3\" >978,355</td>\n",
       "      <td id=\"T_7c1f7_row4_col4\" class=\"data row4 col4\" >907,856</td>\n",
       "      <td id=\"T_7c1f7_row4_col5\" class=\"data row4 col5\" >70,499</td>\n",
       "      <td id=\"T_7c1f7_row4_col6\" class=\"data row4 col6\" >7.77%</td>\n",
       "      <td id=\"T_7c1f7_row4_col7\" class=\"data row4 col7\" >40</td>\n",
       "    </tr>\n",
       "  </tbody>\n",
       "</table>\n"
      ],
      "text/plain": [
       "<pandas.io.formats.style.Styler at 0x241593cf460>"
      ]
     },
     "execution_count": 14,
     "metadata": {},
     "output_type": "execute_result"
    }
   ],
   "source": [
    "df_ins = pd.merge(df_percent, tickers, on=\"name\", how=\"inner\")\n",
    "df_ins.head().style.format(format_dict)"
   ]
  },
  {
   "cell_type": "code",
   "execution_count": 15,
   "metadata": {},
   "outputs": [
    {
     "data": {
      "text/plain": [
       "75"
      ]
     },
     "execution_count": 15,
     "metadata": {},
     "output_type": "execute_result"
    }
   ],
   "source": [
    "rcds = df_ins.values.tolist()\n",
    "len(rcds)"
   ]
  },
  {
   "cell_type": "code",
   "execution_count": 16,
   "metadata": {},
   "outputs": [],
   "source": [
    "#for rcd in rcds:\n",
    "#    print(rcd)"
   ]
  },
  {
   "cell_type": "code",
   "execution_count": 17,
   "metadata": {},
   "outputs": [
    {
     "name": "stdout",
     "output_type": "stream",
     "text": [
      "\n",
      "INSERT INTO qt_profits (name, year, quarter, latest_amt, previous_amt, inc_amt, inc_pct, ticker_id) VALUES (?, ?, ?, ?, ?, ?, ?, ?)\n",
      "\n"
     ]
    }
   ],
   "source": [
    "sql = \"\"\"\n",
    "INSERT INTO qt_profits (name, year, quarter, latest_amt, previous_amt, \\\n",
    "inc_amt, inc_pct, ticker_id) \\\n",
    "VALUES (?, ?, ?, ?, ?, ?, ?, ?)\n",
    "\"\"\"\n",
    "print(sql)"
   ]
  },
  {
   "cell_type": "code",
   "execution_count": 18,
   "metadata": {},
   "outputs": [],
   "source": [
    "for rcd in rcds:\n",
    "    conlt.execute(sql, rcd)"
   ]
  },
  {
   "cell_type": "markdown",
   "metadata": {},
   "source": [
    "### End of loop"
   ]
  },
  {
   "cell_type": "code",
   "execution_count": 19,
   "metadata": {},
   "outputs": [
    {
     "data": {
      "text/html": [
       "<style type=\"text/css\">\n",
       "</style>\n",
       "<table id=\"T_049d0_\">\n",
       "  <thead>\n",
       "    <tr>\n",
       "      <th class=\"blank level0\" >&nbsp;</th>\n",
       "      <th class=\"col_heading level0 col0\" >name</th>\n",
       "      <th class=\"col_heading level0 col1\" >year</th>\n",
       "      <th class=\"col_heading level0 col2\" >quarter</th>\n",
       "      <th class=\"col_heading level0 col3\" >q_amt_c</th>\n",
       "      <th class=\"col_heading level0 col4\" >q_amt_p</th>\n",
       "      <th class=\"col_heading level0 col5\" >inc_profit</th>\n",
       "      <th class=\"col_heading level0 col6\" >percent</th>\n",
       "    </tr>\n",
       "  </thead>\n",
       "  <tbody>\n",
       "    <tr>\n",
       "      <th id=\"T_049d0_level0_row0\" class=\"row_heading level0 row0\" >0</th>\n",
       "      <td id=\"T_049d0_row0_col0\" class=\"data row0 col0\" >ADVANC</td>\n",
       "      <td id=\"T_049d0_row0_col1\" class=\"data row0 col1\" >2021</td>\n",
       "      <td id=\"T_049d0_row0_col2\" class=\"data row0 col2\" >Q4</td>\n",
       "      <td id=\"T_049d0_row0_col3\" class=\"data row0 col3\" >26,922,146</td>\n",
       "      <td id=\"T_049d0_row0_col4\" class=\"data row0 col4\" >27,223,149</td>\n",
       "      <td id=\"T_049d0_row0_col5\" class=\"data row0 col5\" >-301,003</td>\n",
       "      <td id=\"T_049d0_row0_col6\" class=\"data row0 col6\" >-1.11%</td>\n",
       "    </tr>\n",
       "    <tr>\n",
       "      <th id=\"T_049d0_level0_row1\" class=\"row_heading level0 row1\" >3</th>\n",
       "      <td id=\"T_049d0_row1_col0\" class=\"data row1 col0\" >ASK</td>\n",
       "      <td id=\"T_049d0_row1_col1\" class=\"data row1 col1\" >2021</td>\n",
       "      <td id=\"T_049d0_row1_col2\" class=\"data row1 col2\" >Q4</td>\n",
       "      <td id=\"T_049d0_row1_col3\" class=\"data row1 col3\" >1,202,804</td>\n",
       "      <td id=\"T_049d0_row1_col4\" class=\"data row1 col4\" >1,080,308</td>\n",
       "      <td id=\"T_049d0_row1_col5\" class=\"data row1 col5\" >122,496</td>\n",
       "      <td id=\"T_049d0_row1_col6\" class=\"data row1 col6\" >11.34%</td>\n",
       "    </tr>\n",
       "    <tr>\n",
       "      <th id=\"T_049d0_level0_row2\" class=\"row_heading level0 row2\" >4</th>\n",
       "      <td id=\"T_049d0_row2_col0\" class=\"data row2 col0\" >ASP</td>\n",
       "      <td id=\"T_049d0_row2_col1\" class=\"data row2 col1\" >2021</td>\n",
       "      <td id=\"T_049d0_row2_col2\" class=\"data row2 col2\" >Q4</td>\n",
       "      <td id=\"T_049d0_row2_col3\" class=\"data row2 col3\" >978,355</td>\n",
       "      <td id=\"T_049d0_row2_col4\" class=\"data row2 col4\" >907,856</td>\n",
       "      <td id=\"T_049d0_row2_col5\" class=\"data row2 col5\" >70,499</td>\n",
       "      <td id=\"T_049d0_row2_col6\" class=\"data row2 col6\" >7.77%</td>\n",
       "    </tr>\n",
       "    <tr>\n",
       "      <th id=\"T_049d0_level0_row3\" class=\"row_heading level0 row3\" >5</th>\n",
       "      <td id=\"T_049d0_row3_col0\" class=\"data row3 col0\" >BAY</td>\n",
       "      <td id=\"T_049d0_row3_col1\" class=\"data row3 col1\" >2021</td>\n",
       "      <td id=\"T_049d0_row3_col2\" class=\"data row3 col2\" >Q4</td>\n",
       "      <td id=\"T_049d0_row3_col3\" class=\"data row3 col3\" >33,794,188</td>\n",
       "      <td id=\"T_049d0_row3_col4\" class=\"data row3 col4\" >30,793,995</td>\n",
       "      <td id=\"T_049d0_row3_col5\" class=\"data row3 col5\" >3,000,193</td>\n",
       "      <td id=\"T_049d0_row3_col6\" class=\"data row3 col6\" >9.74%</td>\n",
       "    </tr>\n",
       "    <tr>\n",
       "      <th id=\"T_049d0_level0_row4\" class=\"row_heading level0 row4\" >6</th>\n",
       "      <td id=\"T_049d0_row4_col0\" class=\"data row4 col0\" >BBL</td>\n",
       "      <td id=\"T_049d0_row4_col1\" class=\"data row4 col1\" >2021</td>\n",
       "      <td id=\"T_049d0_row4_col2\" class=\"data row4 col2\" >Q4</td>\n",
       "      <td id=\"T_049d0_row4_col3\" class=\"data row4 col3\" >26,507,039</td>\n",
       "      <td id=\"T_049d0_row4_col4\" class=\"data row4 col4\" >22,586,660</td>\n",
       "      <td id=\"T_049d0_row4_col5\" class=\"data row4 col5\" >3,920,379</td>\n",
       "      <td id=\"T_049d0_row4_col6\" class=\"data row4 col6\" >17.36%</td>\n",
       "    </tr>\n",
       "  </tbody>\n",
       "</table>\n"
      ],
      "text/plain": [
       "<pandas.io.formats.style.Styler at 0x241593e4760>"
      ]
     },
     "execution_count": 19,
     "metadata": {},
     "output_type": "execute_result"
    }
   ],
   "source": [
    "criteria_1 = df_ins.q_amt_c > 440_000\n",
    "df_ins.loc[criteria_1, cols].head().style.format(format_dict)"
   ]
  },
  {
   "cell_type": "code",
   "execution_count": 20,
   "metadata": {},
   "outputs": [
    {
     "data": {
      "text/html": [
       "<style type=\"text/css\">\n",
       "</style>\n",
       "<table id=\"T_8ec76_\">\n",
       "  <thead>\n",
       "    <tr>\n",
       "      <th class=\"blank level0\" >&nbsp;</th>\n",
       "      <th class=\"col_heading level0 col0\" >name</th>\n",
       "      <th class=\"col_heading level0 col1\" >year</th>\n",
       "      <th class=\"col_heading level0 col2\" >quarter</th>\n",
       "      <th class=\"col_heading level0 col3\" >q_amt_c</th>\n",
       "      <th class=\"col_heading level0 col4\" >q_amt_p</th>\n",
       "      <th class=\"col_heading level0 col5\" >inc_profit</th>\n",
       "      <th class=\"col_heading level0 col6\" >percent</th>\n",
       "    </tr>\n",
       "  </thead>\n",
       "  <tbody>\n",
       "    <tr>\n",
       "      <th id=\"T_8ec76_level0_row0\" class=\"row_heading level0 row0\" >0</th>\n",
       "      <td id=\"T_8ec76_row0_col0\" class=\"data row0 col0\" >ADVANC</td>\n",
       "      <td id=\"T_8ec76_row0_col1\" class=\"data row0 col1\" >2021</td>\n",
       "      <td id=\"T_8ec76_row0_col2\" class=\"data row0 col2\" >Q4</td>\n",
       "      <td id=\"T_8ec76_row0_col3\" class=\"data row0 col3\" >26,922,146</td>\n",
       "      <td id=\"T_8ec76_row0_col4\" class=\"data row0 col4\" >27,223,149</td>\n",
       "      <td id=\"T_8ec76_row0_col5\" class=\"data row0 col5\" >-301,003</td>\n",
       "      <td id=\"T_8ec76_row0_col6\" class=\"data row0 col6\" >-1.11%</td>\n",
       "    </tr>\n",
       "    <tr>\n",
       "      <th id=\"T_8ec76_level0_row1\" class=\"row_heading level0 row1\" >3</th>\n",
       "      <td id=\"T_8ec76_row1_col0\" class=\"data row1 col0\" >ASK</td>\n",
       "      <td id=\"T_8ec76_row1_col1\" class=\"data row1 col1\" >2021</td>\n",
       "      <td id=\"T_8ec76_row1_col2\" class=\"data row1 col2\" >Q4</td>\n",
       "      <td id=\"T_8ec76_row1_col3\" class=\"data row1 col3\" >1,202,804</td>\n",
       "      <td id=\"T_8ec76_row1_col4\" class=\"data row1 col4\" >1,080,308</td>\n",
       "      <td id=\"T_8ec76_row1_col5\" class=\"data row1 col5\" >122,496</td>\n",
       "      <td id=\"T_8ec76_row1_col6\" class=\"data row1 col6\" >11.34%</td>\n",
       "    </tr>\n",
       "    <tr>\n",
       "      <th id=\"T_8ec76_level0_row2\" class=\"row_heading level0 row2\" >4</th>\n",
       "      <td id=\"T_8ec76_row2_col0\" class=\"data row2 col0\" >ASP</td>\n",
       "      <td id=\"T_8ec76_row2_col1\" class=\"data row2 col1\" >2021</td>\n",
       "      <td id=\"T_8ec76_row2_col2\" class=\"data row2 col2\" >Q4</td>\n",
       "      <td id=\"T_8ec76_row2_col3\" class=\"data row2 col3\" >978,355</td>\n",
       "      <td id=\"T_8ec76_row2_col4\" class=\"data row2 col4\" >907,856</td>\n",
       "      <td id=\"T_8ec76_row2_col5\" class=\"data row2 col5\" >70,499</td>\n",
       "      <td id=\"T_8ec76_row2_col6\" class=\"data row2 col6\" >7.77%</td>\n",
       "    </tr>\n",
       "    <tr>\n",
       "      <th id=\"T_8ec76_level0_row3\" class=\"row_heading level0 row3\" >5</th>\n",
       "      <td id=\"T_8ec76_row3_col0\" class=\"data row3 col0\" >BAY</td>\n",
       "      <td id=\"T_8ec76_row3_col1\" class=\"data row3 col1\" >2021</td>\n",
       "      <td id=\"T_8ec76_row3_col2\" class=\"data row3 col2\" >Q4</td>\n",
       "      <td id=\"T_8ec76_row3_col3\" class=\"data row3 col3\" >33,794,188</td>\n",
       "      <td id=\"T_8ec76_row3_col4\" class=\"data row3 col4\" >30,793,995</td>\n",
       "      <td id=\"T_8ec76_row3_col5\" class=\"data row3 col5\" >3,000,193</td>\n",
       "      <td id=\"T_8ec76_row3_col6\" class=\"data row3 col6\" >9.74%</td>\n",
       "    </tr>\n",
       "    <tr>\n",
       "      <th id=\"T_8ec76_level0_row4\" class=\"row_heading level0 row4\" >6</th>\n",
       "      <td id=\"T_8ec76_row4_col0\" class=\"data row4 col0\" >BBL</td>\n",
       "      <td id=\"T_8ec76_row4_col1\" class=\"data row4 col1\" >2021</td>\n",
       "      <td id=\"T_8ec76_row4_col2\" class=\"data row4 col2\" >Q4</td>\n",
       "      <td id=\"T_8ec76_row4_col3\" class=\"data row4 col3\" >26,507,039</td>\n",
       "      <td id=\"T_8ec76_row4_col4\" class=\"data row4 col4\" >22,586,660</td>\n",
       "      <td id=\"T_8ec76_row4_col5\" class=\"data row4 col5\" >3,920,379</td>\n",
       "      <td id=\"T_8ec76_row4_col6\" class=\"data row4 col6\" >17.36%</td>\n",
       "    </tr>\n",
       "  </tbody>\n",
       "</table>\n"
      ],
      "text/plain": [
       "<pandas.io.formats.style.Styler at 0x241593ce9a0>"
      ]
     },
     "execution_count": 20,
     "metadata": {},
     "output_type": "execute_result"
    }
   ],
   "source": [
    "criteria_2 = df_ins.q_amt_p > 400_000\n",
    "df_ins.loc[criteria_2, cols].head().style.format(format_dict)"
   ]
  },
  {
   "cell_type": "code",
   "execution_count": 21,
   "metadata": {},
   "outputs": [
    {
     "data": {
      "text/html": [
       "<style type=\"text/css\">\n",
       "</style>\n",
       "<table id=\"T_3ce35_\">\n",
       "  <thead>\n",
       "    <tr>\n",
       "      <th class=\"blank level0\" >&nbsp;</th>\n",
       "      <th class=\"col_heading level0 col0\" >name</th>\n",
       "      <th class=\"col_heading level0 col1\" >year</th>\n",
       "      <th class=\"col_heading level0 col2\" >quarter</th>\n",
       "      <th class=\"col_heading level0 col3\" >q_amt_c</th>\n",
       "      <th class=\"col_heading level0 col4\" >q_amt_p</th>\n",
       "      <th class=\"col_heading level0 col5\" >inc_profit</th>\n",
       "      <th class=\"col_heading level0 col6\" >percent</th>\n",
       "    </tr>\n",
       "  </thead>\n",
       "  <tbody>\n",
       "    <tr>\n",
       "      <th id=\"T_3ce35_level0_row0\" class=\"row_heading level0 row0\" >3</th>\n",
       "      <td id=\"T_3ce35_row0_col0\" class=\"data row0 col0\" >ASK</td>\n",
       "      <td id=\"T_3ce35_row0_col1\" class=\"data row0 col1\" >2021</td>\n",
       "      <td id=\"T_3ce35_row0_col2\" class=\"data row0 col2\" >Q4</td>\n",
       "      <td id=\"T_3ce35_row0_col3\" class=\"data row0 col3\" >1,202,804</td>\n",
       "      <td id=\"T_3ce35_row0_col4\" class=\"data row0 col4\" >1,080,308</td>\n",
       "      <td id=\"T_3ce35_row0_col5\" class=\"data row0 col5\" >122,496</td>\n",
       "      <td id=\"T_3ce35_row0_col6\" class=\"data row0 col6\" >11.34%</td>\n",
       "    </tr>\n",
       "    <tr>\n",
       "      <th id=\"T_3ce35_level0_row1\" class=\"row_heading level0 row1\" >6</th>\n",
       "      <td id=\"T_3ce35_row1_col0\" class=\"data row1 col0\" >BBL</td>\n",
       "      <td id=\"T_3ce35_row1_col1\" class=\"data row1 col1\" >2021</td>\n",
       "      <td id=\"T_3ce35_row1_col2\" class=\"data row1 col2\" >Q4</td>\n",
       "      <td id=\"T_3ce35_row1_col3\" class=\"data row1 col3\" >26,507,039</td>\n",
       "      <td id=\"T_3ce35_row1_col4\" class=\"data row1 col4\" >22,586,660</td>\n",
       "      <td id=\"T_3ce35_row1_col5\" class=\"data row1 col5\" >3,920,379</td>\n",
       "      <td id=\"T_3ce35_row1_col6\" class=\"data row1 col6\" >17.36%</td>\n",
       "    </tr>\n",
       "    <tr>\n",
       "      <th id=\"T_3ce35_level0_row2\" class=\"row_heading level0 row2\" >7</th>\n",
       "      <td id=\"T_3ce35_row2_col0\" class=\"data row2 col0\" >BCP</td>\n",
       "      <td id=\"T_3ce35_row2_col1\" class=\"data row2 col1\" >2021</td>\n",
       "      <td id=\"T_3ce35_row2_col2\" class=\"data row2 col2\" >Q4</td>\n",
       "      <td id=\"T_3ce35_row2_col3\" class=\"data row2 col3\" >7,623,790</td>\n",
       "      <td id=\"T_3ce35_row2_col4\" class=\"data row2 col4\" >6,119,569</td>\n",
       "      <td id=\"T_3ce35_row2_col5\" class=\"data row2 col5\" >1,504,221</td>\n",
       "      <td id=\"T_3ce35_row2_col6\" class=\"data row2 col6\" >24.58%</td>\n",
       "    </tr>\n",
       "    <tr>\n",
       "      <th id=\"T_3ce35_level0_row3\" class=\"row_heading level0 row3\" >10</th>\n",
       "      <td id=\"T_3ce35_row3_col0\" class=\"data row3 col0\" >CIMBT</td>\n",
       "      <td id=\"T_3ce35_row3_col1\" class=\"data row3 col1\" >2021</td>\n",
       "      <td id=\"T_3ce35_row3_col2\" class=\"data row3 col2\" >Q4</td>\n",
       "      <td id=\"T_3ce35_row3_col3\" class=\"data row3 col3\" >2,440,554</td>\n",
       "      <td id=\"T_3ce35_row3_col4\" class=\"data row3 col4\" >1,531,200</td>\n",
       "      <td id=\"T_3ce35_row3_col5\" class=\"data row3 col5\" >909,354</td>\n",
       "      <td id=\"T_3ce35_row3_col6\" class=\"data row3 col6\" >59.39%</td>\n",
       "    </tr>\n",
       "    <tr>\n",
       "      <th id=\"T_3ce35_level0_row4\" class=\"row_heading level0 row4\" >19</th>\n",
       "      <td id=\"T_3ce35_row4_col0\" class=\"data row4 col0\" >GLAND</td>\n",
       "      <td id=\"T_3ce35_row4_col1\" class=\"data row4 col1\" >2021</td>\n",
       "      <td id=\"T_3ce35_row4_col2\" class=\"data row4 col2\" >Q4</td>\n",
       "      <td id=\"T_3ce35_row4_col3\" class=\"data row4 col3\" >573,819</td>\n",
       "      <td id=\"T_3ce35_row4_col4\" class=\"data row4 col4\" >511,497</td>\n",
       "      <td id=\"T_3ce35_row4_col5\" class=\"data row4 col5\" >62,322</td>\n",
       "      <td id=\"T_3ce35_row4_col6\" class=\"data row4 col6\" >12.18%</td>\n",
       "    </tr>\n",
       "  </tbody>\n",
       "</table>\n"
      ],
      "text/plain": [
       "<pandas.io.formats.style.Styler at 0x24159406d00>"
      ]
     },
     "execution_count": 21,
     "metadata": {},
     "output_type": "execute_result"
    }
   ],
   "source": [
    "criteria_3 = df_ins.percent > 10.00\n",
    "df_ins.loc[criteria_3, cols].head().style.format(format_dict)"
   ]
  },
  {
   "cell_type": "code",
   "execution_count": 22,
   "metadata": {},
   "outputs": [
    {
     "data": {
      "text/html": [
       "<style type=\"text/css\">\n",
       "</style>\n",
       "<table id=\"T_3a081_\">\n",
       "  <thead>\n",
       "    <tr>\n",
       "      <th class=\"blank level0\" >&nbsp;</th>\n",
       "      <th class=\"col_heading level0 col0\" >name</th>\n",
       "      <th class=\"col_heading level0 col1\" >year</th>\n",
       "      <th class=\"col_heading level0 col2\" >quarter</th>\n",
       "      <th class=\"col_heading level0 col3\" >q_amt_c</th>\n",
       "      <th class=\"col_heading level0 col4\" >q_amt_p</th>\n",
       "      <th class=\"col_heading level0 col5\" >inc_profit</th>\n",
       "      <th class=\"col_heading level0 col6\" >percent</th>\n",
       "    </tr>\n",
       "  </thead>\n",
       "  <tbody>\n",
       "    <tr>\n",
       "      <th id=\"T_3a081_level0_row0\" class=\"row_heading level0 row0\" >3</th>\n",
       "      <td id=\"T_3a081_row0_col0\" class=\"data row0 col0\" >ASK</td>\n",
       "      <td id=\"T_3a081_row0_col1\" class=\"data row0 col1\" >2021</td>\n",
       "      <td id=\"T_3a081_row0_col2\" class=\"data row0 col2\" >Q4</td>\n",
       "      <td id=\"T_3a081_row0_col3\" class=\"data row0 col3\" >1,202,804</td>\n",
       "      <td id=\"T_3a081_row0_col4\" class=\"data row0 col4\" >1,080,308</td>\n",
       "      <td id=\"T_3a081_row0_col5\" class=\"data row0 col5\" >122,496</td>\n",
       "      <td id=\"T_3a081_row0_col6\" class=\"data row0 col6\" >11.34%</td>\n",
       "    </tr>\n",
       "    <tr>\n",
       "      <th id=\"T_3a081_level0_row1\" class=\"row_heading level0 row1\" >6</th>\n",
       "      <td id=\"T_3a081_row1_col0\" class=\"data row1 col0\" >BBL</td>\n",
       "      <td id=\"T_3a081_row1_col1\" class=\"data row1 col1\" >2021</td>\n",
       "      <td id=\"T_3a081_row1_col2\" class=\"data row1 col2\" >Q4</td>\n",
       "      <td id=\"T_3a081_row1_col3\" class=\"data row1 col3\" >26,507,039</td>\n",
       "      <td id=\"T_3a081_row1_col4\" class=\"data row1 col4\" >22,586,660</td>\n",
       "      <td id=\"T_3a081_row1_col5\" class=\"data row1 col5\" >3,920,379</td>\n",
       "      <td id=\"T_3a081_row1_col6\" class=\"data row1 col6\" >17.36%</td>\n",
       "    </tr>\n",
       "    <tr>\n",
       "      <th id=\"T_3a081_level0_row2\" class=\"row_heading level0 row2\" >7</th>\n",
       "      <td id=\"T_3a081_row2_col0\" class=\"data row2 col0\" >BCP</td>\n",
       "      <td id=\"T_3a081_row2_col1\" class=\"data row2 col1\" >2021</td>\n",
       "      <td id=\"T_3a081_row2_col2\" class=\"data row2 col2\" >Q4</td>\n",
       "      <td id=\"T_3a081_row2_col3\" class=\"data row2 col3\" >7,623,790</td>\n",
       "      <td id=\"T_3a081_row2_col4\" class=\"data row2 col4\" >6,119,569</td>\n",
       "      <td id=\"T_3a081_row2_col5\" class=\"data row2 col5\" >1,504,221</td>\n",
       "      <td id=\"T_3a081_row2_col6\" class=\"data row2 col6\" >24.58%</td>\n",
       "    </tr>\n",
       "    <tr>\n",
       "      <th id=\"T_3a081_level0_row3\" class=\"row_heading level0 row3\" >10</th>\n",
       "      <td id=\"T_3a081_row3_col0\" class=\"data row3 col0\" >CIMBT</td>\n",
       "      <td id=\"T_3a081_row3_col1\" class=\"data row3 col1\" >2021</td>\n",
       "      <td id=\"T_3a081_row3_col2\" class=\"data row3 col2\" >Q4</td>\n",
       "      <td id=\"T_3a081_row3_col3\" class=\"data row3 col3\" >2,440,554</td>\n",
       "      <td id=\"T_3a081_row3_col4\" class=\"data row3 col4\" >1,531,200</td>\n",
       "      <td id=\"T_3a081_row3_col5\" class=\"data row3 col5\" >909,354</td>\n",
       "      <td id=\"T_3a081_row3_col6\" class=\"data row3 col6\" >59.39%</td>\n",
       "    </tr>\n",
       "    <tr>\n",
       "      <th id=\"T_3a081_level0_row4\" class=\"row_heading level0 row4\" >19</th>\n",
       "      <td id=\"T_3a081_row4_col0\" class=\"data row4 col0\" >GLAND</td>\n",
       "      <td id=\"T_3a081_row4_col1\" class=\"data row4 col1\" >2021</td>\n",
       "      <td id=\"T_3a081_row4_col2\" class=\"data row4 col2\" >Q4</td>\n",
       "      <td id=\"T_3a081_row4_col3\" class=\"data row4 col3\" >573,819</td>\n",
       "      <td id=\"T_3a081_row4_col4\" class=\"data row4 col4\" >511,497</td>\n",
       "      <td id=\"T_3a081_row4_col5\" class=\"data row4 col5\" >62,322</td>\n",
       "      <td id=\"T_3a081_row4_col6\" class=\"data row4 col6\" >12.18%</td>\n",
       "    </tr>\n",
       "  </tbody>\n",
       "</table>\n"
      ],
      "text/plain": [
       "<pandas.io.formats.style.Styler at 0x24159408940>"
      ]
     },
     "execution_count": 22,
     "metadata": {},
     "output_type": "execute_result"
    }
   ],
   "source": [
    "df_ins_criteria = criteria_1 & criteria_2 & criteria_3\n",
    "df_ins.loc[df_ins_criteria, cols].head().style.format(format_dict)"
   ]
  },
  {
   "cell_type": "code",
   "execution_count": 23,
   "metadata": {},
   "outputs": [
    {
     "data": {
      "text/html": [
       "<style type=\"text/css\">\n",
       "</style>\n",
       "<table id=\"T_0b654_\">\n",
       "  <thead>\n",
       "    <tr>\n",
       "      <th class=\"blank level0\" >&nbsp;</th>\n",
       "      <th class=\"col_heading level0 col0\" >name</th>\n",
       "      <th class=\"col_heading level0 col1\" >year</th>\n",
       "      <th class=\"col_heading level0 col2\" >quarter</th>\n",
       "      <th class=\"col_heading level0 col3\" >q_amt_c</th>\n",
       "      <th class=\"col_heading level0 col4\" >q_amt_p</th>\n",
       "      <th class=\"col_heading level0 col5\" >inc_profit</th>\n",
       "      <th class=\"col_heading level0 col6\" >percent</th>\n",
       "      <th class=\"col_heading level0 col7\" >id</th>\n",
       "    </tr>\n",
       "  </thead>\n",
       "  <tbody>\n",
       "    <tr>\n",
       "      <th id=\"T_0b654_level0_row0\" class=\"row_heading level0 row0\" >66</th>\n",
       "      <td id=\"T_0b654_row0_col0\" class=\"data row0 col0\" >THG</td>\n",
       "      <td id=\"T_0b654_row0_col1\" class=\"data row0 col1\" >2021</td>\n",
       "      <td id=\"T_0b654_row0_col2\" class=\"data row0 col2\" >Q4</td>\n",
       "      <td id=\"T_0b654_row0_col3\" class=\"data row0 col3\" >1,337,425</td>\n",
       "      <td id=\"T_0b654_row0_col4\" class=\"data row0 col4\" >732,990</td>\n",
       "      <td id=\"T_0b654_row0_col5\" class=\"data row0 col5\" >604,435</td>\n",
       "      <td id=\"T_0b654_row0_col6\" class=\"data row0 col6\" >82.46%</td>\n",
       "      <td id=\"T_0b654_row0_col7\" class=\"data row0 col7\" >661</td>\n",
       "    </tr>\n",
       "    <tr>\n",
       "      <th id=\"T_0b654_level0_row1\" class=\"row_heading level0 row1\" >45</th>\n",
       "      <td id=\"T_0b654_row1_col0\" class=\"data row1 col0\" >PSL</td>\n",
       "      <td id=\"T_0b654_row1_col1\" class=\"data row1 col1\" >2021</td>\n",
       "      <td id=\"T_0b654_row1_col2\" class=\"data row1 col2\" >Q4</td>\n",
       "      <td id=\"T_0b654_row1_col3\" class=\"data row1 col3\" >4,474,930</td>\n",
       "      <td id=\"T_0b654_row1_col4\" class=\"data row1 col4\" >2,730,124</td>\n",
       "      <td id=\"T_0b654_row1_col5\" class=\"data row1 col5\" >1,744,806</td>\n",
       "      <td id=\"T_0b654_row1_col6\" class=\"data row1 col6\" >63.91%</td>\n",
       "      <td id=\"T_0b654_row1_col7\" class=\"data row1 col7\" >734</td>\n",
       "    </tr>\n",
       "    <tr>\n",
       "      <th id=\"T_0b654_level0_row2\" class=\"row_heading level0 row2\" >10</th>\n",
       "      <td id=\"T_0b654_row2_col0\" class=\"data row2 col0\" >CIMBT</td>\n",
       "      <td id=\"T_0b654_row2_col1\" class=\"data row2 col1\" >2021</td>\n",
       "      <td id=\"T_0b654_row2_col2\" class=\"data row2 col2\" >Q4</td>\n",
       "      <td id=\"T_0b654_row2_col3\" class=\"data row2 col3\" >2,440,554</td>\n",
       "      <td id=\"T_0b654_row2_col4\" class=\"data row2 col4\" >1,531,200</td>\n",
       "      <td id=\"T_0b654_row2_col5\" class=\"data row2 col5\" >909,354</td>\n",
       "      <td id=\"T_0b654_row2_col6\" class=\"data row2 col6\" >59.39%</td>\n",
       "      <td id=\"T_0b654_row2_col7\" class=\"data row2 col7\" >104</td>\n",
       "    </tr>\n",
       "    <tr>\n",
       "      <th id=\"T_0b654_level0_row3\" class=\"row_heading level0 row3\" >63</th>\n",
       "      <td id=\"T_0b654_row3_col0\" class=\"data row3 col0\" >SVI</td>\n",
       "      <td id=\"T_0b654_row3_col1\" class=\"data row3 col1\" >2021</td>\n",
       "      <td id=\"T_0b654_row3_col2\" class=\"data row3 col2\" >Q4</td>\n",
       "      <td id=\"T_0b654_row3_col3\" class=\"data row3 col3\" >1,407,622</td>\n",
       "      <td id=\"T_0b654_row3_col4\" class=\"data row3 col4\" >935,897</td>\n",
       "      <td id=\"T_0b654_row3_col5\" class=\"data row3 col5\" >471,725</td>\n",
       "      <td id=\"T_0b654_row3_col6\" class=\"data row3 col6\" >50.40%</td>\n",
       "      <td id=\"T_0b654_row3_col7\" class=\"data row3 col7\" >491</td>\n",
       "    </tr>\n",
       "    <tr>\n",
       "      <th id=\"T_0b654_level0_row4\" class=\"row_heading level0 row4\" >57</th>\n",
       "      <td id=\"T_0b654_row4_col0\" class=\"data row4 col0\" >SMPC</td>\n",
       "      <td id=\"T_0b654_row4_col1\" class=\"data row4 col1\" >2021</td>\n",
       "      <td id=\"T_0b654_row4_col2\" class=\"data row4 col2\" >Q4</td>\n",
       "      <td id=\"T_0b654_row4_col3\" class=\"data row4 col3\" >727,778</td>\n",
       "      <td id=\"T_0b654_row4_col4\" class=\"data row4 col4\" >565,282</td>\n",
       "      <td id=\"T_0b654_row4_col5\" class=\"data row4 col5\" >162,496</td>\n",
       "      <td id=\"T_0b654_row4_col6\" class=\"data row4 col6\" >28.75%</td>\n",
       "      <td id=\"T_0b654_row4_col7\" class=\"data row4 col7\" >455</td>\n",
       "    </tr>\n",
       "  </tbody>\n",
       "</table>\n"
      ],
      "text/plain": [
       "<pandas.io.formats.style.Styler at 0x2415940c940>"
      ]
     },
     "execution_count": 23,
     "metadata": {},
     "output_type": "execute_result"
    }
   ],
   "source": [
    "df_ins[df_ins_criteria].sort_values(by=[\"percent\"], ascending=[False]).head().style.format(format_dict)"
   ]
  },
  {
   "cell_type": "code",
   "execution_count": 24,
   "metadata": {},
   "outputs": [
    {
     "data": {
      "text/html": [
       "<style type=\"text/css\">\n",
       "</style>\n",
       "<table id=\"T_5633a_\">\n",
       "  <thead>\n",
       "    <tr>\n",
       "      <th class=\"blank level0\" >&nbsp;</th>\n",
       "      <th class=\"col_heading level0 col0\" >name</th>\n",
       "      <th class=\"col_heading level0 col1\" >year</th>\n",
       "      <th class=\"col_heading level0 col2\" >quarter</th>\n",
       "      <th class=\"col_heading level0 col3\" >q_amt_c</th>\n",
       "      <th class=\"col_heading level0 col4\" >q_amt_p</th>\n",
       "      <th class=\"col_heading level0 col5\" >inc_profit</th>\n",
       "      <th class=\"col_heading level0 col6\" >percent</th>\n",
       "      <th class=\"col_heading level0 col7\" >id</th>\n",
       "    </tr>\n",
       "  </thead>\n",
       "  <tbody>\n",
       "    <tr>\n",
       "      <th id=\"T_5633a_level0_row0\" class=\"row_heading level0 row0\" >3</th>\n",
       "      <td id=\"T_5633a_row0_col0\" class=\"data row0 col0\" >ASK</td>\n",
       "      <td id=\"T_5633a_row0_col1\" class=\"data row0 col1\" >2021</td>\n",
       "      <td id=\"T_5633a_row0_col2\" class=\"data row0 col2\" >Q4</td>\n",
       "      <td id=\"T_5633a_row0_col3\" class=\"data row0 col3\" >1,202,804</td>\n",
       "      <td id=\"T_5633a_row0_col4\" class=\"data row0 col4\" >1,080,308</td>\n",
       "      <td id=\"T_5633a_row0_col5\" class=\"data row0 col5\" >122,496</td>\n",
       "      <td id=\"T_5633a_row0_col6\" class=\"data row0 col6\" >11.34%</td>\n",
       "      <td id=\"T_5633a_row0_col7\" class=\"data row0 col7\" >38</td>\n",
       "    </tr>\n",
       "    <tr>\n",
       "      <th id=\"T_5633a_level0_row1\" class=\"row_heading level0 row1\" >6</th>\n",
       "      <td id=\"T_5633a_row1_col0\" class=\"data row1 col0\" >BBL</td>\n",
       "      <td id=\"T_5633a_row1_col1\" class=\"data row1 col1\" >2021</td>\n",
       "      <td id=\"T_5633a_row1_col2\" class=\"data row1 col2\" >Q4</td>\n",
       "      <td id=\"T_5633a_row1_col3\" class=\"data row1 col3\" >26,507,039</td>\n",
       "      <td id=\"T_5633a_row1_col4\" class=\"data row1 col4\" >22,586,660</td>\n",
       "      <td id=\"T_5633a_row1_col5\" class=\"data row1 col5\" >3,920,379</td>\n",
       "      <td id=\"T_5633a_row1_col6\" class=\"data row1 col6\" >17.36%</td>\n",
       "      <td id=\"T_5633a_row1_col7\" class=\"data row1 col7\" >50</td>\n",
       "    </tr>\n",
       "    <tr>\n",
       "      <th id=\"T_5633a_level0_row2\" class=\"row_heading level0 row2\" >7</th>\n",
       "      <td id=\"T_5633a_row2_col0\" class=\"data row2 col0\" >BCP</td>\n",
       "      <td id=\"T_5633a_row2_col1\" class=\"data row2 col1\" >2021</td>\n",
       "      <td id=\"T_5633a_row2_col2\" class=\"data row2 col2\" >Q4</td>\n",
       "      <td id=\"T_5633a_row2_col3\" class=\"data row2 col3\" >7,623,790</td>\n",
       "      <td id=\"T_5633a_row2_col4\" class=\"data row2 col4\" >6,119,569</td>\n",
       "      <td id=\"T_5633a_row2_col5\" class=\"data row2 col5\" >1,504,221</td>\n",
       "      <td id=\"T_5633a_row2_col6\" class=\"data row2 col6\" >24.58%</td>\n",
       "      <td id=\"T_5633a_row2_col7\" class=\"data row2 col7\" >52</td>\n",
       "    </tr>\n",
       "    <tr>\n",
       "      <th id=\"T_5633a_level0_row3\" class=\"row_heading level0 row3\" >10</th>\n",
       "      <td id=\"T_5633a_row3_col0\" class=\"data row3 col0\" >CIMBT</td>\n",
       "      <td id=\"T_5633a_row3_col1\" class=\"data row3 col1\" >2021</td>\n",
       "      <td id=\"T_5633a_row3_col2\" class=\"data row3 col2\" >Q4</td>\n",
       "      <td id=\"T_5633a_row3_col3\" class=\"data row3 col3\" >2,440,554</td>\n",
       "      <td id=\"T_5633a_row3_col4\" class=\"data row3 col4\" >1,531,200</td>\n",
       "      <td id=\"T_5633a_row3_col5\" class=\"data row3 col5\" >909,354</td>\n",
       "      <td id=\"T_5633a_row3_col6\" class=\"data row3 col6\" >59.39%</td>\n",
       "      <td id=\"T_5633a_row3_col7\" class=\"data row3 col7\" >104</td>\n",
       "    </tr>\n",
       "    <tr>\n",
       "      <th id=\"T_5633a_level0_row4\" class=\"row_heading level0 row4\" >19</th>\n",
       "      <td id=\"T_5633a_row4_col0\" class=\"data row4 col0\" >GLAND</td>\n",
       "      <td id=\"T_5633a_row4_col1\" class=\"data row4 col1\" >2021</td>\n",
       "      <td id=\"T_5633a_row4_col2\" class=\"data row4 col2\" >Q4</td>\n",
       "      <td id=\"T_5633a_row4_col3\" class=\"data row4 col3\" >573,819</td>\n",
       "      <td id=\"T_5633a_row4_col4\" class=\"data row4 col4\" >511,497</td>\n",
       "      <td id=\"T_5633a_row4_col5\" class=\"data row4 col5\" >62,322</td>\n",
       "      <td id=\"T_5633a_row4_col6\" class=\"data row4 col6\" >12.18%</td>\n",
       "      <td id=\"T_5633a_row4_col7\" class=\"data row4 col7\" >192</td>\n",
       "    </tr>\n",
       "  </tbody>\n",
       "</table>\n"
      ],
      "text/plain": [
       "<pandas.io.formats.style.Styler at 0x2415940ccd0>"
      ]
     },
     "execution_count": 24,
     "metadata": {},
     "output_type": "execute_result"
    }
   ],
   "source": [
    "df_ins[df_ins_criteria].sort_values(by=[\"name\"], ascending=[True]).head().style.format(format_dict)"
   ]
  },
  {
   "cell_type": "code",
   "execution_count": 25,
   "metadata": {},
   "outputs": [
    {
     "data": {
      "text/html": [
       "<style type=\"text/css\">\n",
       "</style>\n",
       "<table id=\"T_e769d_\">\n",
       "  <thead>\n",
       "    <tr>\n",
       "      <th class=\"blank level0\" >&nbsp;</th>\n",
       "      <th class=\"col_heading level0 col0\" >name</th>\n",
       "      <th class=\"col_heading level0 col1\" >year</th>\n",
       "      <th class=\"col_heading level0 col2\" >quarter</th>\n",
       "      <th class=\"col_heading level0 col3\" >q_amt_c</th>\n",
       "      <th class=\"col_heading level0 col4\" >q_amt_p</th>\n",
       "      <th class=\"col_heading level0 col5\" >inc_profit</th>\n",
       "      <th class=\"col_heading level0 col6\" >percent</th>\n",
       "      <th class=\"col_heading level0 col7\" >id</th>\n",
       "    </tr>\n",
       "  </thead>\n",
       "  <tbody>\n",
       "    <tr>\n",
       "      <th id=\"T_e769d_level0_row0\" class=\"row_heading level0 row0\" >3</th>\n",
       "      <td id=\"T_e769d_row0_col0\" class=\"data row0 col0\" >ASK</td>\n",
       "      <td id=\"T_e769d_row0_col1\" class=\"data row0 col1\" >2021</td>\n",
       "      <td id=\"T_e769d_row0_col2\" class=\"data row0 col2\" >Q4</td>\n",
       "      <td id=\"T_e769d_row0_col3\" class=\"data row0 col3\" >1,202,804</td>\n",
       "      <td id=\"T_e769d_row0_col4\" class=\"data row0 col4\" >1,080,308</td>\n",
       "      <td id=\"T_e769d_row0_col5\" class=\"data row0 col5\" >122,496</td>\n",
       "      <td id=\"T_e769d_row0_col6\" class=\"data row0 col6\" >11.34%</td>\n",
       "      <td id=\"T_e769d_row0_col7\" class=\"data row0 col7\" >38</td>\n",
       "    </tr>\n",
       "    <tr>\n",
       "      <th id=\"T_e769d_level0_row1\" class=\"row_heading level0 row1\" >6</th>\n",
       "      <td id=\"T_e769d_row1_col0\" class=\"data row1 col0\" >BBL</td>\n",
       "      <td id=\"T_e769d_row1_col1\" class=\"data row1 col1\" >2021</td>\n",
       "      <td id=\"T_e769d_row1_col2\" class=\"data row1 col2\" >Q4</td>\n",
       "      <td id=\"T_e769d_row1_col3\" class=\"data row1 col3\" >26,507,039</td>\n",
       "      <td id=\"T_e769d_row1_col4\" class=\"data row1 col4\" >22,586,660</td>\n",
       "      <td id=\"T_e769d_row1_col5\" class=\"data row1 col5\" >3,920,379</td>\n",
       "      <td id=\"T_e769d_row1_col6\" class=\"data row1 col6\" >17.36%</td>\n",
       "      <td id=\"T_e769d_row1_col7\" class=\"data row1 col7\" >50</td>\n",
       "    </tr>\n",
       "    <tr>\n",
       "      <th id=\"T_e769d_level0_row2\" class=\"row_heading level0 row2\" >7</th>\n",
       "      <td id=\"T_e769d_row2_col0\" class=\"data row2 col0\" >BCP</td>\n",
       "      <td id=\"T_e769d_row2_col1\" class=\"data row2 col1\" >2021</td>\n",
       "      <td id=\"T_e769d_row2_col2\" class=\"data row2 col2\" >Q4</td>\n",
       "      <td id=\"T_e769d_row2_col3\" class=\"data row2 col3\" >7,623,790</td>\n",
       "      <td id=\"T_e769d_row2_col4\" class=\"data row2 col4\" >6,119,569</td>\n",
       "      <td id=\"T_e769d_row2_col5\" class=\"data row2 col5\" >1,504,221</td>\n",
       "      <td id=\"T_e769d_row2_col6\" class=\"data row2 col6\" >24.58%</td>\n",
       "      <td id=\"T_e769d_row2_col7\" class=\"data row2 col7\" >52</td>\n",
       "    </tr>\n",
       "    <tr>\n",
       "      <th id=\"T_e769d_level0_row3\" class=\"row_heading level0 row3\" >10</th>\n",
       "      <td id=\"T_e769d_row3_col0\" class=\"data row3 col0\" >CIMBT</td>\n",
       "      <td id=\"T_e769d_row3_col1\" class=\"data row3 col1\" >2021</td>\n",
       "      <td id=\"T_e769d_row3_col2\" class=\"data row3 col2\" >Q4</td>\n",
       "      <td id=\"T_e769d_row3_col3\" class=\"data row3 col3\" >2,440,554</td>\n",
       "      <td id=\"T_e769d_row3_col4\" class=\"data row3 col4\" >1,531,200</td>\n",
       "      <td id=\"T_e769d_row3_col5\" class=\"data row3 col5\" >909,354</td>\n",
       "      <td id=\"T_e769d_row3_col6\" class=\"data row3 col6\" >59.39%</td>\n",
       "      <td id=\"T_e769d_row3_col7\" class=\"data row3 col7\" >104</td>\n",
       "    </tr>\n",
       "    <tr>\n",
       "      <th id=\"T_e769d_level0_row4\" class=\"row_heading level0 row4\" >19</th>\n",
       "      <td id=\"T_e769d_row4_col0\" class=\"data row4 col0\" >GLAND</td>\n",
       "      <td id=\"T_e769d_row4_col1\" class=\"data row4 col1\" >2021</td>\n",
       "      <td id=\"T_e769d_row4_col2\" class=\"data row4 col2\" >Q4</td>\n",
       "      <td id=\"T_e769d_row4_col3\" class=\"data row4 col3\" >573,819</td>\n",
       "      <td id=\"T_e769d_row4_col4\" class=\"data row4 col4\" >511,497</td>\n",
       "      <td id=\"T_e769d_row4_col5\" class=\"data row4 col5\" >62,322</td>\n",
       "      <td id=\"T_e769d_row4_col6\" class=\"data row4 col6\" >12.18%</td>\n",
       "      <td id=\"T_e769d_row4_col7\" class=\"data row4 col7\" >192</td>\n",
       "    </tr>\n",
       "  </tbody>\n",
       "</table>\n"
      ],
      "text/plain": [
       "<pandas.io.formats.style.Styler at 0x241593e4ee0>"
      ]
     },
     "execution_count": 25,
     "metadata": {},
     "output_type": "execute_result"
    }
   ],
   "source": [
    "df_ins[df_ins_criteria].sort_values(by=[\"name\"], ascending=[True]).head().style.format(format_dict)"
   ]
  },
  {
   "cell_type": "code",
   "execution_count": 26,
   "metadata": {},
   "outputs": [
    {
     "name": "stdout",
     "output_type": "stream",
     "text": [
      "\n",
      "SELECT name, COUNT(*) AS 'Nbr. of Group of 4 Quarters'\n",
      "FROM qt_profits\n",
      "GROUP BY name\n",
      "HAVING COUNT(*) = 1\n",
      "ORDER BY COUNT(*) DESC, name\n",
      "\n"
     ]
    },
    {
     "data": {
      "text/html": [
       "<div>\n",
       "<style scoped>\n",
       "    .dataframe tbody tr th:only-of-type {\n",
       "        vertical-align: middle;\n",
       "    }\n",
       "\n",
       "    .dataframe tbody tr th {\n",
       "        vertical-align: top;\n",
       "    }\n",
       "\n",
       "    .dataframe thead th {\n",
       "        text-align: right;\n",
       "    }\n",
       "</style>\n",
       "<table border=\"1\" class=\"dataframe\">\n",
       "  <thead>\n",
       "    <tr style=\"text-align: right;\">\n",
       "      <th></th>\n",
       "      <th>name</th>\n",
       "      <th>Nbr. of Group of 4 Quarters</th>\n",
       "    </tr>\n",
       "  </thead>\n",
       "  <tbody>\n",
       "    <tr>\n",
       "      <th>0</th>\n",
       "      <td>INSET</td>\n",
       "      <td>1</td>\n",
       "    </tr>\n",
       "    <tr>\n",
       "      <th>1</th>\n",
       "      <td>NRF</td>\n",
       "      <td>1</td>\n",
       "    </tr>\n",
       "    <tr>\n",
       "      <th>2</th>\n",
       "      <td>UOBKH</td>\n",
       "      <td>1</td>\n",
       "    </tr>\n",
       "  </tbody>\n",
       "</table>\n",
       "</div>"
      ],
      "text/plain": [
       "    name  Nbr. of Group of 4 Quarters\n",
       "0  INSET                            1\n",
       "1    NRF                            1\n",
       "2  UOBKH                            1"
      ]
     },
     "execution_count": 26,
     "metadata": {},
     "output_type": "execute_result"
    }
   ],
   "source": [
    "sql = \"\"\"\n",
    "SELECT name, COUNT(*) AS 'Nbr. of Group of 4 Quarters'\n",
    "FROM qt_profits\n",
    "GROUP BY name\n",
    "HAVING COUNT(*) = 1\n",
    "ORDER BY COUNT(*) DESC, name\n",
    "\"\"\"\n",
    "print(sql)\n",
    "\n",
    "tmp = pd.read_sql(sql, conlt)\n",
    "tmp"
   ]
  },
  {
   "cell_type": "code",
   "execution_count": null,
   "metadata": {},
   "outputs": [],
   "source": []
  }
 ],
 "metadata": {
  "anaconda-cloud": {},
  "kernelspec": {
   "display_name": "Python 3 (ipykernel)",
   "language": "python",
   "name": "python3"
  },
  "language_info": {
   "codemirror_mode": {
    "name": "ipython",
    "version": 3
   },
   "file_extension": ".py",
   "mimetype": "text/x-python",
   "name": "python",
   "nbconvert_exporter": "python",
   "pygments_lexer": "ipython3",
   "version": "3.8.11"
  }
 },
 "nbformat": 4,
 "nbformat_minor": 1
}
