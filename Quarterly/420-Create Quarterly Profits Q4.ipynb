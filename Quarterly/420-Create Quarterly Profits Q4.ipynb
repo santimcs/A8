{
 "cells": [
  {
   "cell_type": "markdown",
   "metadata": {},
   "source": [
    "### Restart and Run All Cells"
   ]
  },
  {
   "cell_type": "code",
   "execution_count": 1,
   "metadata": {},
   "outputs": [],
   "source": [
    "import pandas as pd\n",
    "from sqlalchemy import create_engine\n",
    "engine = create_engine(\"sqlite:///c:\\\\ruby\\\\portlt\\\\db\\\\development.sqlite3\")\n",
    "conlt = engine.connect()\n",
    "year = 2022\n",
    "quarter = 4"
   ]
  },
  {
   "cell_type": "code",
   "execution_count": 2,
   "metadata": {},
   "outputs": [],
   "source": [
    "cols = 'name year quarter q_amt_c q_amt_p inc_profit percent'.split()"
   ]
  },
  {
   "cell_type": "code",
   "execution_count": 3,
   "metadata": {},
   "outputs": [],
   "source": [
    "format_dict = {\n",
    "                'q_amt':'{:,}','q_amt_c':'{:,}','q_amt_p':'{:,}','inc_profit':'{:,}',\n",
    "                'yoy_gain':'{:,}','acc_gain':'{:,}',   \n",
    "                'latest_amt':'{:,}','previous_amt':'{:,}','inc_amt':'{:,}',\n",
    "                'q_eps':'{:.4f}','y_eps':'{:.4f}','aq_eps':'{:.4f}','ay_eps':'{:.4f}',\n",
    "                'percent':'{:.2f}%','inc_pct':'{:.2f}%'\n",
    "              }"
   ]
  },
  {
   "cell_type": "code",
   "execution_count": 4,
   "metadata": {},
   "outputs": [
    {
     "name": "stdout",
     "output_type": "stream",
     "text": [
      "\n",
      "SELECT name,year,quarter,q_amt \n",
      "FROM epss \n",
      "WHERE (year = 2022 AND quarter <= 4) \n",
      "OR (year = 2022-1 AND quarter >= 4+1)\n",
      "ORDER BY year DESC, quarter DESC\n",
      "\n"
     ]
    }
   ],
   "source": [
    "sql = \"\"\"\n",
    "SELECT name,year,quarter,q_amt \n",
    "FROM epss \n",
    "WHERE (year = %s AND quarter <= %s) \n",
    "OR (year = %s-1 AND quarter >= %s+1)\n",
    "ORDER BY year DESC, quarter DESC\n",
    "\"\"\"\n",
    "sql = sql % (year, quarter, year, quarter)\n",
    "print(sql)"
   ]
  },
  {
   "cell_type": "code",
   "execution_count": 5,
   "metadata": {},
   "outputs": [
    {
     "data": {
      "text/html": [
       "<div>\n",
       "<style scoped>\n",
       "    .dataframe tbody tr th:only-of-type {\n",
       "        vertical-align: middle;\n",
       "    }\n",
       "\n",
       "    .dataframe tbody tr th {\n",
       "        vertical-align: top;\n",
       "    }\n",
       "\n",
       "    .dataframe thead th {\n",
       "        text-align: right;\n",
       "    }\n",
       "</style>\n",
       "<table border=\"1\" class=\"dataframe\">\n",
       "  <thead>\n",
       "    <tr style=\"text-align: right;\">\n",
       "      <th></th>\n",
       "      <th>name</th>\n",
       "      <th>year</th>\n",
       "      <th>quarter</th>\n",
       "      <th>q_amt</th>\n",
       "      <th>Counter</th>\n",
       "    </tr>\n",
       "  </thead>\n",
       "  <tbody>\n",
       "    <tr>\n",
       "      <th>10</th>\n",
       "      <td>AOT</td>\n",
       "      <td>8088</td>\n",
       "      <td>10</td>\n",
       "      <td>-11087867</td>\n",
       "      <td>4</td>\n",
       "    </tr>\n",
       "    <tr>\n",
       "      <th>80</th>\n",
       "      <td>GVREIT</td>\n",
       "      <td>8088</td>\n",
       "      <td>10</td>\n",
       "      <td>642743</td>\n",
       "      <td>4</td>\n",
       "    </tr>\n",
       "    <tr>\n",
       "      <th>123</th>\n",
       "      <td>MC</td>\n",
       "      <td>8088</td>\n",
       "      <td>10</td>\n",
       "      <td>740276</td>\n",
       "      <td>4</td>\n",
       "    </tr>\n",
       "    <tr>\n",
       "      <th>131</th>\n",
       "      <td>OISHI</td>\n",
       "      <td>8088</td>\n",
       "      <td>10</td>\n",
       "      <td>1197453</td>\n",
       "      <td>4</td>\n",
       "    </tr>\n",
       "    <tr>\n",
       "      <th>193</th>\n",
       "      <td>TFFIF</td>\n",
       "      <td>8088</td>\n",
       "      <td>10</td>\n",
       "      <td>1851409</td>\n",
       "      <td>4</td>\n",
       "    </tr>\n",
       "  </tbody>\n",
       "</table>\n",
       "</div>"
      ],
      "text/plain": [
       "       name  year  quarter     q_amt  Counter\n",
       "10      AOT  8088       10 -11087867        4\n",
       "80   GVREIT  8088       10    642743        4\n",
       "123      MC  8088       10    740276        4\n",
       "131   OISHI  8088       10   1197453        4\n",
       "193   TFFIF  8088       10   1851409        4"
      ]
     },
     "execution_count": 5,
     "metadata": {},
     "output_type": "execute_result"
    }
   ],
   "source": [
    "dfc = pd.read_sql(sql, conlt)\n",
    "dfc[\"Counter\"] = 1\n",
    "dfc_grp = dfc.groupby([\"name\"], as_index=False).sum()\n",
    "dfc_grp = dfc_grp[dfc_grp[\"Counter\"] == 4]\n",
    "dfc_grp.head()"
   ]
  },
  {
   "cell_type": "code",
   "execution_count": 6,
   "metadata": {},
   "outputs": [
    {
     "name": "stdout",
     "output_type": "stream",
     "text": [
      "\n",
      "SELECT name,year,quarter,q_amt \n",
      "FROM epss \n",
      "WHERE (year = 2022 AND quarter <= 4-1) \n",
      "OR (year = 2022-1 AND quarter >= 4) \n",
      "ORDER BY year DESC, quarter DESC\n"
     ]
    }
   ],
   "source": [
    "sql = \"\"\"\n",
    "SELECT name,year,quarter,q_amt \n",
    "FROM epss \n",
    "WHERE (year = %s AND quarter <= %s-1) \n",
    "OR (year = %s-1 AND quarter >= %s) \n",
    "ORDER BY year DESC, quarter DESC\"\"\"\n",
    "sql = sql % (year, quarter, year, quarter)\n",
    "print(sql)"
   ]
  },
  {
   "cell_type": "code",
   "execution_count": 7,
   "metadata": {},
   "outputs": [
    {
     "data": {
      "text/html": [
       "<style type=\"text/css\">\n",
       "</style>\n",
       "<table id=\"T_ddee0_\">\n",
       "  <thead>\n",
       "    <tr>\n",
       "      <th class=\"blank level0\" >&nbsp;</th>\n",
       "      <th class=\"col_heading level0 col0\" >name</th>\n",
       "      <th class=\"col_heading level0 col1\" >year</th>\n",
       "      <th class=\"col_heading level0 col2\" >quarter</th>\n",
       "      <th class=\"col_heading level0 col3\" >q_amt</th>\n",
       "      <th class=\"col_heading level0 col4\" >Counter</th>\n",
       "    </tr>\n",
       "  </thead>\n",
       "  <tbody>\n",
       "    <tr>\n",
       "      <th id=\"T_ddee0_level0_row0\" class=\"row_heading level0 row0\" >0</th>\n",
       "      <td id=\"T_ddee0_row0_col0\" class=\"data row0 col0\" >ACE</td>\n",
       "      <td id=\"T_ddee0_row0_col1\" class=\"data row0 col1\" >8087</td>\n",
       "      <td id=\"T_ddee0_row0_col2\" class=\"data row0 col2\" >10</td>\n",
       "      <td id=\"T_ddee0_row0_col3\" class=\"data row0 col3\" >1,455,601</td>\n",
       "      <td id=\"T_ddee0_row0_col4\" class=\"data row0 col4\" >4</td>\n",
       "    </tr>\n",
       "    <tr>\n",
       "      <th id=\"T_ddee0_level0_row1\" class=\"row_heading level0 row1\" >1</th>\n",
       "      <td id=\"T_ddee0_row1_col0\" class=\"data row1 col0\" >ADVANC</td>\n",
       "      <td id=\"T_ddee0_row1_col1\" class=\"data row1 col1\" >8087</td>\n",
       "      <td id=\"T_ddee0_row1_col2\" class=\"data row1 col2\" >10</td>\n",
       "      <td id=\"T_ddee0_row1_col3\" class=\"data row1 col3\" >25,511,368</td>\n",
       "      <td id=\"T_ddee0_row1_col4\" class=\"data row1 col4\" >4</td>\n",
       "    </tr>\n",
       "    <tr>\n",
       "      <th id=\"T_ddee0_level0_row2\" class=\"row_heading level0 row2\" >3</th>\n",
       "      <td id=\"T_ddee0_row2_col0\" class=\"data row2 col0\" >AH</td>\n",
       "      <td id=\"T_ddee0_row2_col1\" class=\"data row2 col1\" >8087</td>\n",
       "      <td id=\"T_ddee0_row2_col2\" class=\"data row2 col2\" >10</td>\n",
       "      <td id=\"T_ddee0_row2_col3\" class=\"data row2 col3\" >1,541,418</td>\n",
       "      <td id=\"T_ddee0_row2_col4\" class=\"data row2 col4\" >4</td>\n",
       "    </tr>\n",
       "    <tr>\n",
       "      <th id=\"T_ddee0_level0_row3\" class=\"row_heading level0 row3\" >4</th>\n",
       "      <td id=\"T_ddee0_row3_col0\" class=\"data row3 col0\" >AIE</td>\n",
       "      <td id=\"T_ddee0_row3_col1\" class=\"data row3 col1\" >8087</td>\n",
       "      <td id=\"T_ddee0_row3_col2\" class=\"data row3 col2\" >10</td>\n",
       "      <td id=\"T_ddee0_row3_col3\" class=\"data row3 col3\" >176,807</td>\n",
       "      <td id=\"T_ddee0_row3_col4\" class=\"data row3 col4\" >4</td>\n",
       "    </tr>\n",
       "    <tr>\n",
       "      <th id=\"T_ddee0_level0_row4\" class=\"row_heading level0 row4\" >5</th>\n",
       "      <td id=\"T_ddee0_row4_col0\" class=\"data row4 col0\" >AIMIRT</td>\n",
       "      <td id=\"T_ddee0_row4_col1\" class=\"data row4 col1\" >8087</td>\n",
       "      <td id=\"T_ddee0_row4_col2\" class=\"data row4 col2\" >10</td>\n",
       "      <td id=\"T_ddee0_row4_col3\" class=\"data row4 col3\" >693,015</td>\n",
       "      <td id=\"T_ddee0_row4_col4\" class=\"data row4 col4\" >4</td>\n",
       "    </tr>\n",
       "  </tbody>\n",
       "</table>\n"
      ],
      "text/plain": [
       "<pandas.io.formats.style.Styler at 0x1e4dfe28eb0>"
      ]
     },
     "execution_count": 7,
     "metadata": {},
     "output_type": "execute_result"
    }
   ],
   "source": [
    "dfp = pd.read_sql(sql, conlt)\n",
    "dfp[\"Counter\"] = 1\n",
    "dfp_grp = dfp.groupby([\"name\"], as_index=False).sum()\n",
    "dfp_grp = dfp_grp[dfp_grp[\"Counter\"] == 4]\n",
    "dfp_grp.head().style.format(format_dict)"
   ]
  },
  {
   "cell_type": "code",
   "execution_count": 8,
   "metadata": {},
   "outputs": [
    {
     "data": {
      "text/plain": [
       "(233,)"
      ]
     },
     "execution_count": 8,
     "metadata": {},
     "output_type": "execute_result"
    }
   ],
   "source": [
    "dfp.name.unique().shape"
   ]
  },
  {
   "cell_type": "code",
   "execution_count": 9,
   "metadata": {},
   "outputs": [
    {
     "data": {
      "text/plain": [
       "(233, 15)"
      ]
     },
     "execution_count": 9,
     "metadata": {},
     "output_type": "execute_result"
    }
   ],
   "source": [
    "sql = \"\"\"\n",
    "SELECT *\n",
    "FROM stocks\n",
    "\"\"\"\n",
    "stocks = pd.read_sql(sql, conlt)\n",
    "stocks.shape"
   ]
  },
  {
   "cell_type": "code",
   "execution_count": 10,
   "metadata": {},
   "outputs": [
    {
     "data": {
      "text/plain": [
       "(401, 9)"
      ]
     },
     "execution_count": 10,
     "metadata": {},
     "output_type": "execute_result"
    }
   ],
   "source": [
    "sql = \"\"\"\n",
    "SELECT *\n",
    "FROM tickers\n",
    "\"\"\"\n",
    "tickers = pd.read_sql(sql, conlt)\n",
    "tickers.shape"
   ]
  },
  {
   "cell_type": "code",
   "execution_count": 11,
   "metadata": {},
   "outputs": [
    {
     "data": {
      "text/html": [
       "<style type=\"text/css\">\n",
       "</style>\n",
       "<table id=\"T_69a21_\">\n",
       "  <thead>\n",
       "    <tr>\n",
       "      <th class=\"blank level0\" >&nbsp;</th>\n",
       "      <th class=\"col_heading level0 col0\" >name</th>\n",
       "      <th class=\"col_heading level0 col1\" >year</th>\n",
       "      <th class=\"col_heading level0 col2\" >quarter</th>\n",
       "      <th class=\"col_heading level0 col3\" >q_amt_c</th>\n",
       "      <th class=\"col_heading level0 col4\" >q_amt_p</th>\n",
       "      <th class=\"col_heading level0 col5\" >inc_profit</th>\n",
       "      <th class=\"col_heading level0 col6\" >percent</th>\n",
       "    </tr>\n",
       "  </thead>\n",
       "  <tbody>\n",
       "    <tr>\n",
       "      <th id=\"T_69a21_level0_row0\" class=\"row_heading level0 row0\" >0</th>\n",
       "      <td id=\"T_69a21_row0_col0\" class=\"data row0 col0\" >AOT</td>\n",
       "      <td id=\"T_69a21_row0_col1\" class=\"data row0 col1\" >2022</td>\n",
       "      <td id=\"T_69a21_row0_col2\" class=\"data row0 col2\" >Q4</td>\n",
       "      <td id=\"T_69a21_row0_col3\" class=\"data row0 col3\" >-11,087,867</td>\n",
       "      <td id=\"T_69a21_row0_col4\" class=\"data row0 col4\" >-14,912,794</td>\n",
       "      <td id=\"T_69a21_row0_col5\" class=\"data row0 col5\" >3,824,927</td>\n",
       "      <td id=\"T_69a21_row0_col6\" class=\"data row0 col6\" >25.65%</td>\n",
       "    </tr>\n",
       "    <tr>\n",
       "      <th id=\"T_69a21_level0_row1\" class=\"row_heading level0 row1\" >1</th>\n",
       "      <td id=\"T_69a21_row1_col0\" class=\"data row1 col0\" >GVREIT</td>\n",
       "      <td id=\"T_69a21_row1_col1\" class=\"data row1 col1\" >2022</td>\n",
       "      <td id=\"T_69a21_row1_col2\" class=\"data row1 col2\" >Q4</td>\n",
       "      <td id=\"T_69a21_row1_col3\" class=\"data row1 col3\" >642,743</td>\n",
       "      <td id=\"T_69a21_row1_col4\" class=\"data row1 col4\" >668,011</td>\n",
       "      <td id=\"T_69a21_row1_col5\" class=\"data row1 col5\" >-25,268</td>\n",
       "      <td id=\"T_69a21_row1_col6\" class=\"data row1 col6\" >-3.78%</td>\n",
       "    </tr>\n",
       "    <tr>\n",
       "      <th id=\"T_69a21_level0_row2\" class=\"row_heading level0 row2\" >2</th>\n",
       "      <td id=\"T_69a21_row2_col0\" class=\"data row2 col0\" >MC</td>\n",
       "      <td id=\"T_69a21_row2_col1\" class=\"data row2 col1\" >2022</td>\n",
       "      <td id=\"T_69a21_row2_col2\" class=\"data row2 col2\" >Q4</td>\n",
       "      <td id=\"T_69a21_row2_col3\" class=\"data row2 col3\" >740,276</td>\n",
       "      <td id=\"T_69a21_row2_col4\" class=\"data row2 col4\" >381,632</td>\n",
       "      <td id=\"T_69a21_row2_col5\" class=\"data row2 col5\" >358,644</td>\n",
       "      <td id=\"T_69a21_row2_col6\" class=\"data row2 col6\" >93.98%</td>\n",
       "    </tr>\n",
       "    <tr>\n",
       "      <th id=\"T_69a21_level0_row3\" class=\"row_heading level0 row3\" >3</th>\n",
       "      <td id=\"T_69a21_row3_col0\" class=\"data row3 col0\" >OISHI</td>\n",
       "      <td id=\"T_69a21_row3_col1\" class=\"data row3 col1\" >2022</td>\n",
       "      <td id=\"T_69a21_row3_col2\" class=\"data row3 col2\" >Q4</td>\n",
       "      <td id=\"T_69a21_row3_col3\" class=\"data row3 col3\" >1,197,453</td>\n",
       "      <td id=\"T_69a21_row3_col4\" class=\"data row3 col4\" >1,028,962</td>\n",
       "      <td id=\"T_69a21_row3_col5\" class=\"data row3 col5\" >168,491</td>\n",
       "      <td id=\"T_69a21_row3_col6\" class=\"data row3 col6\" >16.37%</td>\n",
       "    </tr>\n",
       "    <tr>\n",
       "      <th id=\"T_69a21_level0_row4\" class=\"row_heading level0 row4\" >4</th>\n",
       "      <td id=\"T_69a21_row4_col0\" class=\"data row4 col0\" >TFFIF</td>\n",
       "      <td id=\"T_69a21_row4_col1\" class=\"data row4 col1\" >2022</td>\n",
       "      <td id=\"T_69a21_row4_col2\" class=\"data row4 col2\" >Q4</td>\n",
       "      <td id=\"T_69a21_row4_col3\" class=\"data row4 col3\" >1,851,409</td>\n",
       "      <td id=\"T_69a21_row4_col4\" class=\"data row4 col4\" >1,390,654</td>\n",
       "      <td id=\"T_69a21_row4_col5\" class=\"data row4 col5\" >460,755</td>\n",
       "      <td id=\"T_69a21_row4_col6\" class=\"data row4 col6\" >33.13%</td>\n",
       "    </tr>\n",
       "  </tbody>\n",
       "</table>\n"
      ],
      "text/plain": [
       "<pandas.io.formats.style.Styler at 0x1e4dfe486d0>"
      ]
     },
     "execution_count": 11,
     "metadata": {},
     "output_type": "execute_result"
    }
   ],
   "source": [
    "dfm = pd.merge(dfc_grp, dfp_grp, on=\"name\", suffixes=([\"_c\", \"_p\"]), how=\"inner\")\n",
    "dfm[\"inc_profit\"] = dfm[\"q_amt_c\"] - dfm[\"q_amt_p\"]\n",
    "dfm[\"percent\"] = round(dfm[\"inc_profit\"] / abs(dfm[\"q_amt_p\"]) * 100, 2)\n",
    "dfm[\"year\"] = year\n",
    "dfm[\"quarter\"] = \"Q\" + str(quarter)\n",
    "df_percent = dfm[cols]\n",
    "df_percent.head().style.format(format_dict)"
   ]
  },
  {
   "cell_type": "code",
   "execution_count": 12,
   "metadata": {},
   "outputs": [
    {
     "name": "stdout",
     "output_type": "stream",
     "text": [
      "\n",
      "DELETE FROM qt_profits \n",
      "WHERE year = 2022 AND quarter = 'Q4'\n",
      "\n"
     ]
    },
    {
     "data": {
      "text/plain": [
       "0"
      ]
     },
     "execution_count": 12,
     "metadata": {},
     "output_type": "execute_result"
    }
   ],
   "source": [
    "sql = \"\"\"\n",
    "DELETE FROM qt_profits \n",
    "WHERE year = %s AND quarter = 'Q%s'\n",
    "\"\"\"\n",
    "sql = sql % (year, quarter)\n",
    "print(sql)\n",
    "\n",
    "rp = conlt.execute(sql)\n",
    "rp.rowcount"
   ]
  },
  {
   "cell_type": "code",
   "execution_count": 13,
   "metadata": {},
   "outputs": [
    {
     "data": {
      "text/html": [
       "<div>\n",
       "<style scoped>\n",
       "    .dataframe tbody tr th:only-of-type {\n",
       "        vertical-align: middle;\n",
       "    }\n",
       "\n",
       "    .dataframe tbody tr th {\n",
       "        vertical-align: top;\n",
       "    }\n",
       "\n",
       "    .dataframe thead th {\n",
       "        text-align: right;\n",
       "    }\n",
       "</style>\n",
       "<table border=\"1\" class=\"dataframe\">\n",
       "  <thead>\n",
       "    <tr style=\"text-align: right;\">\n",
       "      <th></th>\n",
       "      <th>name</th>\n",
       "      <th>id</th>\n",
       "    </tr>\n",
       "  </thead>\n",
       "  <tbody>\n",
       "    <tr>\n",
       "      <th>0</th>\n",
       "      <td>2S</td>\n",
       "      <td>727</td>\n",
       "    </tr>\n",
       "    <tr>\n",
       "      <th>1</th>\n",
       "      <td>A</td>\n",
       "      <td>1</td>\n",
       "    </tr>\n",
       "    <tr>\n",
       "      <th>2</th>\n",
       "      <td>AAV</td>\n",
       "      <td>732</td>\n",
       "    </tr>\n",
       "    <tr>\n",
       "      <th>3</th>\n",
       "      <td>ACE</td>\n",
       "      <td>698</td>\n",
       "    </tr>\n",
       "    <tr>\n",
       "      <th>4</th>\n",
       "      <td>ADVANC</td>\n",
       "      <td>6</td>\n",
       "    </tr>\n",
       "  </tbody>\n",
       "</table>\n",
       "</div>"
      ],
      "text/plain": [
       "     name   id\n",
       "0      2S  727\n",
       "1       A    1\n",
       "2     AAV  732\n",
       "3     ACE  698\n",
       "4  ADVANC    6"
      ]
     },
     "execution_count": 13,
     "metadata": {},
     "output_type": "execute_result"
    }
   ],
   "source": [
    "sql = \"SELECT name, id FROM tickers\"\n",
    "tickers = pd.read_sql(sql, conlt)\n",
    "tickers.head()"
   ]
  },
  {
   "cell_type": "code",
   "execution_count": 14,
   "metadata": {},
   "outputs": [
    {
     "data": {
      "text/html": [
       "<style type=\"text/css\">\n",
       "</style>\n",
       "<table id=\"T_3cecf_\">\n",
       "  <thead>\n",
       "    <tr>\n",
       "      <th class=\"blank level0\" >&nbsp;</th>\n",
       "      <th class=\"col_heading level0 col0\" >name</th>\n",
       "      <th class=\"col_heading level0 col1\" >year</th>\n",
       "      <th class=\"col_heading level0 col2\" >quarter</th>\n",
       "      <th class=\"col_heading level0 col3\" >q_amt_c</th>\n",
       "      <th class=\"col_heading level0 col4\" >q_amt_p</th>\n",
       "      <th class=\"col_heading level0 col5\" >inc_profit</th>\n",
       "      <th class=\"col_heading level0 col6\" >percent</th>\n",
       "      <th class=\"col_heading level0 col7\" >id</th>\n",
       "    </tr>\n",
       "  </thead>\n",
       "  <tbody>\n",
       "    <tr>\n",
       "      <th id=\"T_3cecf_level0_row0\" class=\"row_heading level0 row0\" >0</th>\n",
       "      <td id=\"T_3cecf_row0_col0\" class=\"data row0 col0\" >AOT</td>\n",
       "      <td id=\"T_3cecf_row0_col1\" class=\"data row0 col1\" >2022</td>\n",
       "      <td id=\"T_3cecf_row0_col2\" class=\"data row0 col2\" >Q4</td>\n",
       "      <td id=\"T_3cecf_row0_col3\" class=\"data row0 col3\" >-11,087,867</td>\n",
       "      <td id=\"T_3cecf_row0_col4\" class=\"data row0 col4\" >-14,912,794</td>\n",
       "      <td id=\"T_3cecf_row0_col5\" class=\"data row0 col5\" >3,824,927</td>\n",
       "      <td id=\"T_3cecf_row0_col6\" class=\"data row0 col6\" >25.65%</td>\n",
       "      <td id=\"T_3cecf_row0_col7\" class=\"data row0 col7\" >24</td>\n",
       "    </tr>\n",
       "    <tr>\n",
       "      <th id=\"T_3cecf_level0_row1\" class=\"row_heading level0 row1\" >1</th>\n",
       "      <td id=\"T_3cecf_row1_col0\" class=\"data row1 col0\" >GVREIT</td>\n",
       "      <td id=\"T_3cecf_row1_col1\" class=\"data row1 col1\" >2022</td>\n",
       "      <td id=\"T_3cecf_row1_col2\" class=\"data row1 col2\" >Q4</td>\n",
       "      <td id=\"T_3cecf_row1_col3\" class=\"data row1 col3\" >642,743</td>\n",
       "      <td id=\"T_3cecf_row1_col4\" class=\"data row1 col4\" >668,011</td>\n",
       "      <td id=\"T_3cecf_row1_col5\" class=\"data row1 col5\" >-25,268</td>\n",
       "      <td id=\"T_3cecf_row1_col6\" class=\"data row1 col6\" >-3.78%</td>\n",
       "      <td id=\"T_3cecf_row1_col7\" class=\"data row1 col7\" >654</td>\n",
       "    </tr>\n",
       "    <tr>\n",
       "      <th id=\"T_3cecf_level0_row2\" class=\"row_heading level0 row2\" >2</th>\n",
       "      <td id=\"T_3cecf_row2_col0\" class=\"data row2 col0\" >MC</td>\n",
       "      <td id=\"T_3cecf_row2_col1\" class=\"data row2 col1\" >2022</td>\n",
       "      <td id=\"T_3cecf_row2_col2\" class=\"data row2 col2\" >Q4</td>\n",
       "      <td id=\"T_3cecf_row2_col3\" class=\"data row2 col3\" >740,276</td>\n",
       "      <td id=\"T_3cecf_row2_col4\" class=\"data row2 col4\" >381,632</td>\n",
       "      <td id=\"T_3cecf_row2_col5\" class=\"data row2 col5\" >358,644</td>\n",
       "      <td id=\"T_3cecf_row2_col6\" class=\"data row2 col6\" >93.98%</td>\n",
       "      <td id=\"T_3cecf_row2_col7\" class=\"data row2 col7\" >291</td>\n",
       "    </tr>\n",
       "    <tr>\n",
       "      <th id=\"T_3cecf_level0_row3\" class=\"row_heading level0 row3\" >3</th>\n",
       "      <td id=\"T_3cecf_row3_col0\" class=\"data row3 col0\" >OISHI</td>\n",
       "      <td id=\"T_3cecf_row3_col1\" class=\"data row3 col1\" >2022</td>\n",
       "      <td id=\"T_3cecf_row3_col2\" class=\"data row3 col2\" >Q4</td>\n",
       "      <td id=\"T_3cecf_row3_col3\" class=\"data row3 col3\" >1,197,453</td>\n",
       "      <td id=\"T_3cecf_row3_col4\" class=\"data row3 col4\" >1,028,962</td>\n",
       "      <td id=\"T_3cecf_row3_col5\" class=\"data row3 col5\" >168,491</td>\n",
       "      <td id=\"T_3cecf_row3_col6\" class=\"data row3 col6\" >16.37%</td>\n",
       "      <td id=\"T_3cecf_row3_col7\" class=\"data row3 col7\" >338</td>\n",
       "    </tr>\n",
       "    <tr>\n",
       "      <th id=\"T_3cecf_level0_row4\" class=\"row_heading level0 row4\" >4</th>\n",
       "      <td id=\"T_3cecf_row4_col0\" class=\"data row4 col0\" >TFFIF</td>\n",
       "      <td id=\"T_3cecf_row4_col1\" class=\"data row4 col1\" >2022</td>\n",
       "      <td id=\"T_3cecf_row4_col2\" class=\"data row4 col2\" >Q4</td>\n",
       "      <td id=\"T_3cecf_row4_col3\" class=\"data row4 col3\" >1,851,409</td>\n",
       "      <td id=\"T_3cecf_row4_col4\" class=\"data row4 col4\" >1,390,654</td>\n",
       "      <td id=\"T_3cecf_row4_col5\" class=\"data row4 col5\" >460,755</td>\n",
       "      <td id=\"T_3cecf_row4_col6\" class=\"data row4 col6\" >33.13%</td>\n",
       "      <td id=\"T_3cecf_row4_col7\" class=\"data row4 col7\" >686</td>\n",
       "    </tr>\n",
       "  </tbody>\n",
       "</table>\n"
      ],
      "text/plain": [
       "<pandas.io.formats.style.Styler at 0x1e4e0f08310>"
      ]
     },
     "execution_count": 14,
     "metadata": {},
     "output_type": "execute_result"
    }
   ],
   "source": [
    "df_ins = pd.merge(df_percent, tickers, on=\"name\", how=\"inner\")\n",
    "df_ins.head().style.format(format_dict)"
   ]
  },
  {
   "cell_type": "code",
   "execution_count": 15,
   "metadata": {},
   "outputs": [
    {
     "data": {
      "text/plain": [
       "5"
      ]
     },
     "execution_count": 15,
     "metadata": {},
     "output_type": "execute_result"
    }
   ],
   "source": [
    "rcds = df_ins.values.tolist()\n",
    "len(rcds)"
   ]
  },
  {
   "cell_type": "code",
   "execution_count": 16,
   "metadata": {},
   "outputs": [],
   "source": [
    "#for rcd in rcds:\n",
    "#    print(rcd)"
   ]
  },
  {
   "cell_type": "code",
   "execution_count": 17,
   "metadata": {},
   "outputs": [
    {
     "name": "stdout",
     "output_type": "stream",
     "text": [
      "\n",
      "INSERT INTO qt_profits (name, year, quarter, latest_amt, previous_amt, inc_amt, inc_pct, ticker_id) VALUES (?, ?, ?, ?, ?, ?, ?, ?)\n",
      "\n"
     ]
    }
   ],
   "source": [
    "sql = \"\"\"\n",
    "INSERT INTO qt_profits (name, year, quarter, latest_amt, previous_amt, \\\n",
    "inc_amt, inc_pct, ticker_id) \\\n",
    "VALUES (?, ?, ?, ?, ?, ?, ?, ?)\n",
    "\"\"\"\n",
    "print(sql)"
   ]
  },
  {
   "cell_type": "code",
   "execution_count": 18,
   "metadata": {},
   "outputs": [],
   "source": [
    "for rcd in rcds:\n",
    "    conlt.execute(sql, rcd)"
   ]
  },
  {
   "cell_type": "markdown",
   "metadata": {},
   "source": [
    "### End of loop"
   ]
  },
  {
   "cell_type": "code",
   "execution_count": 19,
   "metadata": {},
   "outputs": [
    {
     "data": {
      "text/html": [
       "<style type=\"text/css\">\n",
       "</style>\n",
       "<table id=\"T_1aeb0_\">\n",
       "  <thead>\n",
       "    <tr>\n",
       "      <th class=\"blank level0\" >&nbsp;</th>\n",
       "      <th class=\"col_heading level0 col0\" >name</th>\n",
       "      <th class=\"col_heading level0 col1\" >year</th>\n",
       "      <th class=\"col_heading level0 col2\" >quarter</th>\n",
       "      <th class=\"col_heading level0 col3\" >q_amt_c</th>\n",
       "      <th class=\"col_heading level0 col4\" >q_amt_p</th>\n",
       "      <th class=\"col_heading level0 col5\" >inc_profit</th>\n",
       "      <th class=\"col_heading level0 col6\" >percent</th>\n",
       "    </tr>\n",
       "  </thead>\n",
       "  <tbody>\n",
       "    <tr>\n",
       "      <th id=\"T_1aeb0_level0_row0\" class=\"row_heading level0 row0\" >1</th>\n",
       "      <td id=\"T_1aeb0_row0_col0\" class=\"data row0 col0\" >GVREIT</td>\n",
       "      <td id=\"T_1aeb0_row0_col1\" class=\"data row0 col1\" >2022</td>\n",
       "      <td id=\"T_1aeb0_row0_col2\" class=\"data row0 col2\" >Q4</td>\n",
       "      <td id=\"T_1aeb0_row0_col3\" class=\"data row0 col3\" >642,743</td>\n",
       "      <td id=\"T_1aeb0_row0_col4\" class=\"data row0 col4\" >668,011</td>\n",
       "      <td id=\"T_1aeb0_row0_col5\" class=\"data row0 col5\" >-25,268</td>\n",
       "      <td id=\"T_1aeb0_row0_col6\" class=\"data row0 col6\" >-3.78%</td>\n",
       "    </tr>\n",
       "    <tr>\n",
       "      <th id=\"T_1aeb0_level0_row1\" class=\"row_heading level0 row1\" >2</th>\n",
       "      <td id=\"T_1aeb0_row1_col0\" class=\"data row1 col0\" >MC</td>\n",
       "      <td id=\"T_1aeb0_row1_col1\" class=\"data row1 col1\" >2022</td>\n",
       "      <td id=\"T_1aeb0_row1_col2\" class=\"data row1 col2\" >Q4</td>\n",
       "      <td id=\"T_1aeb0_row1_col3\" class=\"data row1 col3\" >740,276</td>\n",
       "      <td id=\"T_1aeb0_row1_col4\" class=\"data row1 col4\" >381,632</td>\n",
       "      <td id=\"T_1aeb0_row1_col5\" class=\"data row1 col5\" >358,644</td>\n",
       "      <td id=\"T_1aeb0_row1_col6\" class=\"data row1 col6\" >93.98%</td>\n",
       "    </tr>\n",
       "    <tr>\n",
       "      <th id=\"T_1aeb0_level0_row2\" class=\"row_heading level0 row2\" >3</th>\n",
       "      <td id=\"T_1aeb0_row2_col0\" class=\"data row2 col0\" >OISHI</td>\n",
       "      <td id=\"T_1aeb0_row2_col1\" class=\"data row2 col1\" >2022</td>\n",
       "      <td id=\"T_1aeb0_row2_col2\" class=\"data row2 col2\" >Q4</td>\n",
       "      <td id=\"T_1aeb0_row2_col3\" class=\"data row2 col3\" >1,197,453</td>\n",
       "      <td id=\"T_1aeb0_row2_col4\" class=\"data row2 col4\" >1,028,962</td>\n",
       "      <td id=\"T_1aeb0_row2_col5\" class=\"data row2 col5\" >168,491</td>\n",
       "      <td id=\"T_1aeb0_row2_col6\" class=\"data row2 col6\" >16.37%</td>\n",
       "    </tr>\n",
       "    <tr>\n",
       "      <th id=\"T_1aeb0_level0_row3\" class=\"row_heading level0 row3\" >4</th>\n",
       "      <td id=\"T_1aeb0_row3_col0\" class=\"data row3 col0\" >TFFIF</td>\n",
       "      <td id=\"T_1aeb0_row3_col1\" class=\"data row3 col1\" >2022</td>\n",
       "      <td id=\"T_1aeb0_row3_col2\" class=\"data row3 col2\" >Q4</td>\n",
       "      <td id=\"T_1aeb0_row3_col3\" class=\"data row3 col3\" >1,851,409</td>\n",
       "      <td id=\"T_1aeb0_row3_col4\" class=\"data row3 col4\" >1,390,654</td>\n",
       "      <td id=\"T_1aeb0_row3_col5\" class=\"data row3 col5\" >460,755</td>\n",
       "      <td id=\"T_1aeb0_row3_col6\" class=\"data row3 col6\" >33.13%</td>\n",
       "    </tr>\n",
       "  </tbody>\n",
       "</table>\n"
      ],
      "text/plain": [
       "<pandas.io.formats.style.Styler at 0x1e4e0f0f700>"
      ]
     },
     "execution_count": 19,
     "metadata": {},
     "output_type": "execute_result"
    }
   ],
   "source": [
    "criteria_1 = df_ins.q_amt_c > 440_000\n",
    "df_ins.loc[criteria_1, cols].head().style.format(format_dict)"
   ]
  },
  {
   "cell_type": "code",
   "execution_count": 20,
   "metadata": {},
   "outputs": [
    {
     "data": {
      "text/html": [
       "<style type=\"text/css\">\n",
       "</style>\n",
       "<table id=\"T_763cd_\">\n",
       "  <thead>\n",
       "    <tr>\n",
       "      <th class=\"blank level0\" >&nbsp;</th>\n",
       "      <th class=\"col_heading level0 col0\" >name</th>\n",
       "      <th class=\"col_heading level0 col1\" >year</th>\n",
       "      <th class=\"col_heading level0 col2\" >quarter</th>\n",
       "      <th class=\"col_heading level0 col3\" >q_amt_c</th>\n",
       "      <th class=\"col_heading level0 col4\" >q_amt_p</th>\n",
       "      <th class=\"col_heading level0 col5\" >inc_profit</th>\n",
       "      <th class=\"col_heading level0 col6\" >percent</th>\n",
       "    </tr>\n",
       "  </thead>\n",
       "  <tbody>\n",
       "    <tr>\n",
       "      <th id=\"T_763cd_level0_row0\" class=\"row_heading level0 row0\" >1</th>\n",
       "      <td id=\"T_763cd_row0_col0\" class=\"data row0 col0\" >GVREIT</td>\n",
       "      <td id=\"T_763cd_row0_col1\" class=\"data row0 col1\" >2022</td>\n",
       "      <td id=\"T_763cd_row0_col2\" class=\"data row0 col2\" >Q4</td>\n",
       "      <td id=\"T_763cd_row0_col3\" class=\"data row0 col3\" >642,743</td>\n",
       "      <td id=\"T_763cd_row0_col4\" class=\"data row0 col4\" >668,011</td>\n",
       "      <td id=\"T_763cd_row0_col5\" class=\"data row0 col5\" >-25,268</td>\n",
       "      <td id=\"T_763cd_row0_col6\" class=\"data row0 col6\" >-3.78%</td>\n",
       "    </tr>\n",
       "    <tr>\n",
       "      <th id=\"T_763cd_level0_row1\" class=\"row_heading level0 row1\" >3</th>\n",
       "      <td id=\"T_763cd_row1_col0\" class=\"data row1 col0\" >OISHI</td>\n",
       "      <td id=\"T_763cd_row1_col1\" class=\"data row1 col1\" >2022</td>\n",
       "      <td id=\"T_763cd_row1_col2\" class=\"data row1 col2\" >Q4</td>\n",
       "      <td id=\"T_763cd_row1_col3\" class=\"data row1 col3\" >1,197,453</td>\n",
       "      <td id=\"T_763cd_row1_col4\" class=\"data row1 col4\" >1,028,962</td>\n",
       "      <td id=\"T_763cd_row1_col5\" class=\"data row1 col5\" >168,491</td>\n",
       "      <td id=\"T_763cd_row1_col6\" class=\"data row1 col6\" >16.37%</td>\n",
       "    </tr>\n",
       "    <tr>\n",
       "      <th id=\"T_763cd_level0_row2\" class=\"row_heading level0 row2\" >4</th>\n",
       "      <td id=\"T_763cd_row2_col0\" class=\"data row2 col0\" >TFFIF</td>\n",
       "      <td id=\"T_763cd_row2_col1\" class=\"data row2 col1\" >2022</td>\n",
       "      <td id=\"T_763cd_row2_col2\" class=\"data row2 col2\" >Q4</td>\n",
       "      <td id=\"T_763cd_row2_col3\" class=\"data row2 col3\" >1,851,409</td>\n",
       "      <td id=\"T_763cd_row2_col4\" class=\"data row2 col4\" >1,390,654</td>\n",
       "      <td id=\"T_763cd_row2_col5\" class=\"data row2 col5\" >460,755</td>\n",
       "      <td id=\"T_763cd_row2_col6\" class=\"data row2 col6\" >33.13%</td>\n",
       "    </tr>\n",
       "  </tbody>\n",
       "</table>\n"
      ],
      "text/plain": [
       "<pandas.io.formats.style.Styler at 0x1e4e0f0ffa0>"
      ]
     },
     "execution_count": 20,
     "metadata": {},
     "output_type": "execute_result"
    }
   ],
   "source": [
    "criteria_2 = df_ins.q_amt_p > 400_000\n",
    "df_ins.loc[criteria_2, cols].head().style.format(format_dict)"
   ]
  },
  {
   "cell_type": "code",
   "execution_count": 21,
   "metadata": {},
   "outputs": [
    {
     "data": {
      "text/html": [
       "<style type=\"text/css\">\n",
       "</style>\n",
       "<table id=\"T_951fc_\">\n",
       "  <thead>\n",
       "    <tr>\n",
       "      <th class=\"blank level0\" >&nbsp;</th>\n",
       "      <th class=\"col_heading level0 col0\" >name</th>\n",
       "      <th class=\"col_heading level0 col1\" >year</th>\n",
       "      <th class=\"col_heading level0 col2\" >quarter</th>\n",
       "      <th class=\"col_heading level0 col3\" >q_amt_c</th>\n",
       "      <th class=\"col_heading level0 col4\" >q_amt_p</th>\n",
       "      <th class=\"col_heading level0 col5\" >inc_profit</th>\n",
       "      <th class=\"col_heading level0 col6\" >percent</th>\n",
       "    </tr>\n",
       "  </thead>\n",
       "  <tbody>\n",
       "    <tr>\n",
       "      <th id=\"T_951fc_level0_row0\" class=\"row_heading level0 row0\" >0</th>\n",
       "      <td id=\"T_951fc_row0_col0\" class=\"data row0 col0\" >AOT</td>\n",
       "      <td id=\"T_951fc_row0_col1\" class=\"data row0 col1\" >2022</td>\n",
       "      <td id=\"T_951fc_row0_col2\" class=\"data row0 col2\" >Q4</td>\n",
       "      <td id=\"T_951fc_row0_col3\" class=\"data row0 col3\" >-11,087,867</td>\n",
       "      <td id=\"T_951fc_row0_col4\" class=\"data row0 col4\" >-14,912,794</td>\n",
       "      <td id=\"T_951fc_row0_col5\" class=\"data row0 col5\" >3,824,927</td>\n",
       "      <td id=\"T_951fc_row0_col6\" class=\"data row0 col6\" >25.65%</td>\n",
       "    </tr>\n",
       "    <tr>\n",
       "      <th id=\"T_951fc_level0_row1\" class=\"row_heading level0 row1\" >2</th>\n",
       "      <td id=\"T_951fc_row1_col0\" class=\"data row1 col0\" >MC</td>\n",
       "      <td id=\"T_951fc_row1_col1\" class=\"data row1 col1\" >2022</td>\n",
       "      <td id=\"T_951fc_row1_col2\" class=\"data row1 col2\" >Q4</td>\n",
       "      <td id=\"T_951fc_row1_col3\" class=\"data row1 col3\" >740,276</td>\n",
       "      <td id=\"T_951fc_row1_col4\" class=\"data row1 col4\" >381,632</td>\n",
       "      <td id=\"T_951fc_row1_col5\" class=\"data row1 col5\" >358,644</td>\n",
       "      <td id=\"T_951fc_row1_col6\" class=\"data row1 col6\" >93.98%</td>\n",
       "    </tr>\n",
       "    <tr>\n",
       "      <th id=\"T_951fc_level0_row2\" class=\"row_heading level0 row2\" >3</th>\n",
       "      <td id=\"T_951fc_row2_col0\" class=\"data row2 col0\" >OISHI</td>\n",
       "      <td id=\"T_951fc_row2_col1\" class=\"data row2 col1\" >2022</td>\n",
       "      <td id=\"T_951fc_row2_col2\" class=\"data row2 col2\" >Q4</td>\n",
       "      <td id=\"T_951fc_row2_col3\" class=\"data row2 col3\" >1,197,453</td>\n",
       "      <td id=\"T_951fc_row2_col4\" class=\"data row2 col4\" >1,028,962</td>\n",
       "      <td id=\"T_951fc_row2_col5\" class=\"data row2 col5\" >168,491</td>\n",
       "      <td id=\"T_951fc_row2_col6\" class=\"data row2 col6\" >16.37%</td>\n",
       "    </tr>\n",
       "    <tr>\n",
       "      <th id=\"T_951fc_level0_row3\" class=\"row_heading level0 row3\" >4</th>\n",
       "      <td id=\"T_951fc_row3_col0\" class=\"data row3 col0\" >TFFIF</td>\n",
       "      <td id=\"T_951fc_row3_col1\" class=\"data row3 col1\" >2022</td>\n",
       "      <td id=\"T_951fc_row3_col2\" class=\"data row3 col2\" >Q4</td>\n",
       "      <td id=\"T_951fc_row3_col3\" class=\"data row3 col3\" >1,851,409</td>\n",
       "      <td id=\"T_951fc_row3_col4\" class=\"data row3 col4\" >1,390,654</td>\n",
       "      <td id=\"T_951fc_row3_col5\" class=\"data row3 col5\" >460,755</td>\n",
       "      <td id=\"T_951fc_row3_col6\" class=\"data row3 col6\" >33.13%</td>\n",
       "    </tr>\n",
       "  </tbody>\n",
       "</table>\n"
      ],
      "text/plain": [
       "<pandas.io.formats.style.Styler at 0x1e4e0fa1850>"
      ]
     },
     "execution_count": 21,
     "metadata": {},
     "output_type": "execute_result"
    }
   ],
   "source": [
    "criteria_3 = df_ins.percent > 10.00\n",
    "df_ins.loc[criteria_3, cols].head().style.format(format_dict)"
   ]
  },
  {
   "cell_type": "code",
   "execution_count": 22,
   "metadata": {},
   "outputs": [
    {
     "data": {
      "text/html": [
       "<style type=\"text/css\">\n",
       "</style>\n",
       "<table id=\"T_06739_\">\n",
       "  <thead>\n",
       "    <tr>\n",
       "      <th class=\"blank level0\" >&nbsp;</th>\n",
       "      <th class=\"col_heading level0 col0\" >name</th>\n",
       "      <th class=\"col_heading level0 col1\" >year</th>\n",
       "      <th class=\"col_heading level0 col2\" >quarter</th>\n",
       "      <th class=\"col_heading level0 col3\" >q_amt_c</th>\n",
       "      <th class=\"col_heading level0 col4\" >q_amt_p</th>\n",
       "      <th class=\"col_heading level0 col5\" >inc_profit</th>\n",
       "      <th class=\"col_heading level0 col6\" >percent</th>\n",
       "    </tr>\n",
       "  </thead>\n",
       "  <tbody>\n",
       "    <tr>\n",
       "      <th id=\"T_06739_level0_row0\" class=\"row_heading level0 row0\" >3</th>\n",
       "      <td id=\"T_06739_row0_col0\" class=\"data row0 col0\" >OISHI</td>\n",
       "      <td id=\"T_06739_row0_col1\" class=\"data row0 col1\" >2022</td>\n",
       "      <td id=\"T_06739_row0_col2\" class=\"data row0 col2\" >Q4</td>\n",
       "      <td id=\"T_06739_row0_col3\" class=\"data row0 col3\" >1,197,453</td>\n",
       "      <td id=\"T_06739_row0_col4\" class=\"data row0 col4\" >1,028,962</td>\n",
       "      <td id=\"T_06739_row0_col5\" class=\"data row0 col5\" >168,491</td>\n",
       "      <td id=\"T_06739_row0_col6\" class=\"data row0 col6\" >16.37%</td>\n",
       "    </tr>\n",
       "    <tr>\n",
       "      <th id=\"T_06739_level0_row1\" class=\"row_heading level0 row1\" >4</th>\n",
       "      <td id=\"T_06739_row1_col0\" class=\"data row1 col0\" >TFFIF</td>\n",
       "      <td id=\"T_06739_row1_col1\" class=\"data row1 col1\" >2022</td>\n",
       "      <td id=\"T_06739_row1_col2\" class=\"data row1 col2\" >Q4</td>\n",
       "      <td id=\"T_06739_row1_col3\" class=\"data row1 col3\" >1,851,409</td>\n",
       "      <td id=\"T_06739_row1_col4\" class=\"data row1 col4\" >1,390,654</td>\n",
       "      <td id=\"T_06739_row1_col5\" class=\"data row1 col5\" >460,755</td>\n",
       "      <td id=\"T_06739_row1_col6\" class=\"data row1 col6\" >33.13%</td>\n",
       "    </tr>\n",
       "  </tbody>\n",
       "</table>\n"
      ],
      "text/plain": [
       "<pandas.io.formats.style.Styler at 0x1e4e0fa1130>"
      ]
     },
     "execution_count": 22,
     "metadata": {},
     "output_type": "execute_result"
    }
   ],
   "source": [
    "df_ins_criteria = criteria_1 & criteria_2 & criteria_3\n",
    "df_ins.loc[df_ins_criteria, cols].head().style.format(format_dict)"
   ]
  },
  {
   "cell_type": "code",
   "execution_count": 23,
   "metadata": {},
   "outputs": [
    {
     "data": {
      "text/html": [
       "<style type=\"text/css\">\n",
       "</style>\n",
       "<table id=\"T_007de_\">\n",
       "  <thead>\n",
       "    <tr>\n",
       "      <th class=\"blank level0\" >&nbsp;</th>\n",
       "      <th class=\"col_heading level0 col0\" >name</th>\n",
       "      <th class=\"col_heading level0 col1\" >year</th>\n",
       "      <th class=\"col_heading level0 col2\" >quarter</th>\n",
       "      <th class=\"col_heading level0 col3\" >q_amt_c</th>\n",
       "      <th class=\"col_heading level0 col4\" >q_amt_p</th>\n",
       "      <th class=\"col_heading level0 col5\" >inc_profit</th>\n",
       "      <th class=\"col_heading level0 col6\" >percent</th>\n",
       "      <th class=\"col_heading level0 col7\" >id</th>\n",
       "    </tr>\n",
       "  </thead>\n",
       "  <tbody>\n",
       "    <tr>\n",
       "      <th id=\"T_007de_level0_row0\" class=\"row_heading level0 row0\" >4</th>\n",
       "      <td id=\"T_007de_row0_col0\" class=\"data row0 col0\" >TFFIF</td>\n",
       "      <td id=\"T_007de_row0_col1\" class=\"data row0 col1\" >2022</td>\n",
       "      <td id=\"T_007de_row0_col2\" class=\"data row0 col2\" >Q4</td>\n",
       "      <td id=\"T_007de_row0_col3\" class=\"data row0 col3\" >1,851,409</td>\n",
       "      <td id=\"T_007de_row0_col4\" class=\"data row0 col4\" >1,390,654</td>\n",
       "      <td id=\"T_007de_row0_col5\" class=\"data row0 col5\" >460,755</td>\n",
       "      <td id=\"T_007de_row0_col6\" class=\"data row0 col6\" >33.13%</td>\n",
       "      <td id=\"T_007de_row0_col7\" class=\"data row0 col7\" >686</td>\n",
       "    </tr>\n",
       "    <tr>\n",
       "      <th id=\"T_007de_level0_row1\" class=\"row_heading level0 row1\" >3</th>\n",
       "      <td id=\"T_007de_row1_col0\" class=\"data row1 col0\" >OISHI</td>\n",
       "      <td id=\"T_007de_row1_col1\" class=\"data row1 col1\" >2022</td>\n",
       "      <td id=\"T_007de_row1_col2\" class=\"data row1 col2\" >Q4</td>\n",
       "      <td id=\"T_007de_row1_col3\" class=\"data row1 col3\" >1,197,453</td>\n",
       "      <td id=\"T_007de_row1_col4\" class=\"data row1 col4\" >1,028,962</td>\n",
       "      <td id=\"T_007de_row1_col5\" class=\"data row1 col5\" >168,491</td>\n",
       "      <td id=\"T_007de_row1_col6\" class=\"data row1 col6\" >16.37%</td>\n",
       "      <td id=\"T_007de_row1_col7\" class=\"data row1 col7\" >338</td>\n",
       "    </tr>\n",
       "  </tbody>\n",
       "</table>\n"
      ],
      "text/plain": [
       "<pandas.io.formats.style.Styler at 0x1e4e0f084c0>"
      ]
     },
     "execution_count": 23,
     "metadata": {},
     "output_type": "execute_result"
    }
   ],
   "source": [
    "df_ins[df_ins_criteria].sort_values(by=[\"percent\"], ascending=[False]).head().style.format(format_dict)"
   ]
  },
  {
   "cell_type": "code",
   "execution_count": 24,
   "metadata": {},
   "outputs": [
    {
     "data": {
      "text/html": [
       "<style type=\"text/css\">\n",
       "</style>\n",
       "<table id=\"T_d1e3c_\">\n",
       "  <thead>\n",
       "    <tr>\n",
       "      <th class=\"blank level0\" >&nbsp;</th>\n",
       "      <th class=\"col_heading level0 col0\" >name</th>\n",
       "      <th class=\"col_heading level0 col1\" >year</th>\n",
       "      <th class=\"col_heading level0 col2\" >quarter</th>\n",
       "      <th class=\"col_heading level0 col3\" >q_amt_c</th>\n",
       "      <th class=\"col_heading level0 col4\" >q_amt_p</th>\n",
       "      <th class=\"col_heading level0 col5\" >inc_profit</th>\n",
       "      <th class=\"col_heading level0 col6\" >percent</th>\n",
       "      <th class=\"col_heading level0 col7\" >id</th>\n",
       "    </tr>\n",
       "  </thead>\n",
       "  <tbody>\n",
       "    <tr>\n",
       "      <th id=\"T_d1e3c_level0_row0\" class=\"row_heading level0 row0\" >3</th>\n",
       "      <td id=\"T_d1e3c_row0_col0\" class=\"data row0 col0\" >OISHI</td>\n",
       "      <td id=\"T_d1e3c_row0_col1\" class=\"data row0 col1\" >2022</td>\n",
       "      <td id=\"T_d1e3c_row0_col2\" class=\"data row0 col2\" >Q4</td>\n",
       "      <td id=\"T_d1e3c_row0_col3\" class=\"data row0 col3\" >1,197,453</td>\n",
       "      <td id=\"T_d1e3c_row0_col4\" class=\"data row0 col4\" >1,028,962</td>\n",
       "      <td id=\"T_d1e3c_row0_col5\" class=\"data row0 col5\" >168,491</td>\n",
       "      <td id=\"T_d1e3c_row0_col6\" class=\"data row0 col6\" >16.37%</td>\n",
       "      <td id=\"T_d1e3c_row0_col7\" class=\"data row0 col7\" >338</td>\n",
       "    </tr>\n",
       "    <tr>\n",
       "      <th id=\"T_d1e3c_level0_row1\" class=\"row_heading level0 row1\" >4</th>\n",
       "      <td id=\"T_d1e3c_row1_col0\" class=\"data row1 col0\" >TFFIF</td>\n",
       "      <td id=\"T_d1e3c_row1_col1\" class=\"data row1 col1\" >2022</td>\n",
       "      <td id=\"T_d1e3c_row1_col2\" class=\"data row1 col2\" >Q4</td>\n",
       "      <td id=\"T_d1e3c_row1_col3\" class=\"data row1 col3\" >1,851,409</td>\n",
       "      <td id=\"T_d1e3c_row1_col4\" class=\"data row1 col4\" >1,390,654</td>\n",
       "      <td id=\"T_d1e3c_row1_col5\" class=\"data row1 col5\" >460,755</td>\n",
       "      <td id=\"T_d1e3c_row1_col6\" class=\"data row1 col6\" >33.13%</td>\n",
       "      <td id=\"T_d1e3c_row1_col7\" class=\"data row1 col7\" >686</td>\n",
       "    </tr>\n",
       "  </tbody>\n",
       "</table>\n"
      ],
      "text/plain": [
       "<pandas.io.formats.style.Styler at 0x1e4e0fc5df0>"
      ]
     },
     "execution_count": 24,
     "metadata": {},
     "output_type": "execute_result"
    }
   ],
   "source": [
    "df_ins[df_ins_criteria].sort_values(by=[\"name\"], ascending=[True]).head().style.format(format_dict)"
   ]
  },
  {
   "cell_type": "code",
   "execution_count": 25,
   "metadata": {},
   "outputs": [
    {
     "data": {
      "text/html": [
       "<style type=\"text/css\">\n",
       "</style>\n",
       "<table id=\"T_821d7_\">\n",
       "  <thead>\n",
       "    <tr>\n",
       "      <th class=\"blank level0\" >&nbsp;</th>\n",
       "      <th class=\"col_heading level0 col0\" >name</th>\n",
       "      <th class=\"col_heading level0 col1\" >year</th>\n",
       "      <th class=\"col_heading level0 col2\" >quarter</th>\n",
       "      <th class=\"col_heading level0 col3\" >q_amt_c</th>\n",
       "      <th class=\"col_heading level0 col4\" >q_amt_p</th>\n",
       "      <th class=\"col_heading level0 col5\" >inc_profit</th>\n",
       "      <th class=\"col_heading level0 col6\" >percent</th>\n",
       "      <th class=\"col_heading level0 col7\" >id</th>\n",
       "    </tr>\n",
       "  </thead>\n",
       "  <tbody>\n",
       "    <tr>\n",
       "      <th id=\"T_821d7_level0_row0\" class=\"row_heading level0 row0\" >3</th>\n",
       "      <td id=\"T_821d7_row0_col0\" class=\"data row0 col0\" >OISHI</td>\n",
       "      <td id=\"T_821d7_row0_col1\" class=\"data row0 col1\" >2022</td>\n",
       "      <td id=\"T_821d7_row0_col2\" class=\"data row0 col2\" >Q4</td>\n",
       "      <td id=\"T_821d7_row0_col3\" class=\"data row0 col3\" >1,197,453</td>\n",
       "      <td id=\"T_821d7_row0_col4\" class=\"data row0 col4\" >1,028,962</td>\n",
       "      <td id=\"T_821d7_row0_col5\" class=\"data row0 col5\" >168,491</td>\n",
       "      <td id=\"T_821d7_row0_col6\" class=\"data row0 col6\" >16.37%</td>\n",
       "      <td id=\"T_821d7_row0_col7\" class=\"data row0 col7\" >338</td>\n",
       "    </tr>\n",
       "    <tr>\n",
       "      <th id=\"T_821d7_level0_row1\" class=\"row_heading level0 row1\" >4</th>\n",
       "      <td id=\"T_821d7_row1_col0\" class=\"data row1 col0\" >TFFIF</td>\n",
       "      <td id=\"T_821d7_row1_col1\" class=\"data row1 col1\" >2022</td>\n",
       "      <td id=\"T_821d7_row1_col2\" class=\"data row1 col2\" >Q4</td>\n",
       "      <td id=\"T_821d7_row1_col3\" class=\"data row1 col3\" >1,851,409</td>\n",
       "      <td id=\"T_821d7_row1_col4\" class=\"data row1 col4\" >1,390,654</td>\n",
       "      <td id=\"T_821d7_row1_col5\" class=\"data row1 col5\" >460,755</td>\n",
       "      <td id=\"T_821d7_row1_col6\" class=\"data row1 col6\" >33.13%</td>\n",
       "      <td id=\"T_821d7_row1_col7\" class=\"data row1 col7\" >686</td>\n",
       "    </tr>\n",
       "  </tbody>\n",
       "</table>\n"
      ],
      "text/plain": [
       "<pandas.io.formats.style.Styler at 0x1e4e0fc3310>"
      ]
     },
     "execution_count": 25,
     "metadata": {},
     "output_type": "execute_result"
    }
   ],
   "source": [
    "df_ins[df_ins_criteria].sort_values(by=[\"name\"], ascending=[True]).head().style.format(format_dict)"
   ]
  },
  {
   "cell_type": "code",
   "execution_count": 26,
   "metadata": {},
   "outputs": [
    {
     "name": "stdout",
     "output_type": "stream",
     "text": [
      "\n",
      "SELECT name, COUNT(*) AS 'Nbr. of Group of 4 Quarters'\n",
      "FROM qt_profits\n",
      "GROUP BY name\n",
      "HAVING COUNT(*) = 1\n",
      "ORDER BY COUNT(*) DESC, name\n",
      "\n"
     ]
    },
    {
     "data": {
      "text/html": [
       "<div>\n",
       "<style scoped>\n",
       "    .dataframe tbody tr th:only-of-type {\n",
       "        vertical-align: middle;\n",
       "    }\n",
       "\n",
       "    .dataframe tbody tr th {\n",
       "        vertical-align: top;\n",
       "    }\n",
       "\n",
       "    .dataframe thead th {\n",
       "        text-align: right;\n",
       "    }\n",
       "</style>\n",
       "<table border=\"1\" class=\"dataframe\">\n",
       "  <thead>\n",
       "    <tr style=\"text-align: right;\">\n",
       "      <th></th>\n",
       "      <th>name</th>\n",
       "      <th>Nbr. of Group of 4 Quarters</th>\n",
       "    </tr>\n",
       "  </thead>\n",
       "  <tbody>\n",
       "    <tr>\n",
       "      <th>0</th>\n",
       "      <td>BE8</td>\n",
       "      <td>1</td>\n",
       "    </tr>\n",
       "    <tr>\n",
       "      <th>1</th>\n",
       "      <td>ONEE</td>\n",
       "      <td>1</td>\n",
       "    </tr>\n",
       "  </tbody>\n",
       "</table>\n",
       "</div>"
      ],
      "text/plain": [
       "   name  Nbr. of Group of 4 Quarters\n",
       "0   BE8                            1\n",
       "1  ONEE                            1"
      ]
     },
     "execution_count": 26,
     "metadata": {},
     "output_type": "execute_result"
    }
   ],
   "source": [
    "sql = \"\"\"\n",
    "SELECT name, COUNT(*) AS 'Nbr. of Group of 4 Quarters'\n",
    "FROM qt_profits\n",
    "GROUP BY name\n",
    "HAVING COUNT(*) = 1\n",
    "ORDER BY COUNT(*) DESC, name\n",
    "\"\"\"\n",
    "print(sql)\n",
    "\n",
    "tmp = pd.read_sql(sql, conlt)\n",
    "tmp"
   ]
  },
  {
   "cell_type": "code",
   "execution_count": null,
   "metadata": {},
   "outputs": [],
   "source": []
  }
 ],
 "metadata": {
  "anaconda-cloud": {},
  "kernelspec": {
   "display_name": "Python 3 (ipykernel)",
   "language": "python",
   "name": "python3"
  },
  "language_info": {
   "codemirror_mode": {
    "name": "ipython",
    "version": 3
   },
   "file_extension": ".py",
   "mimetype": "text/x-python",
   "name": "python",
   "nbconvert_exporter": "python",
   "pygments_lexer": "ipython3",
   "version": "3.8.11"
  }
 },
 "nbformat": 4,
 "nbformat_minor": 1
}
