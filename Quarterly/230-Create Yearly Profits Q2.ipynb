{
 "cells": [
  {
   "cell_type": "markdown",
   "metadata": {},
   "source": [
    "### Restart and Run All"
   ]
  },
  {
   "cell_type": "code",
   "execution_count": 1,
   "metadata": {},
   "outputs": [
    {
     "data": {
      "text/plain": [
       "datetime.date(2022, 7, 27)"
      ]
     },
     "execution_count": 1,
     "metadata": {},
     "output_type": "execute_result"
    }
   ],
   "source": [
    "import pandas as pd\n",
    "from datetime import date, timedelta\n",
    "from sqlalchemy import create_engine\n",
    "\n",
    "engine = create_engine('sqlite:///c:\\\\ruby\\\\portlt\\\\db\\\\development.sqlite3')\n",
    "conlt = engine.connect()\n",
    "\n",
    "pd.set_option('display.float_format','{:,.2f}'.format)\n",
    "pd.set_option('display.max_rows',None)\n",
    "\n",
    "year = 2022\n",
    "quarter = 2\n",
    "\n",
    "today = date.today()\n",
    "today"
   ]
  },
  {
   "cell_type": "code",
   "execution_count": 2,
   "metadata": {},
   "outputs": [
    {
     "name": "stdout",
     "output_type": "stream",
     "text": [
      "\n",
      "SELECT name,year,quarter,q_amt\n",
      "FROM epss \n",
      "WHERE (year = 2022 AND quarter <= 2) \n",
      "OR (year = 2022-1 AND quarter >= 2+1)\n",
      "ORDER BY year DESC, quarter DESC\n"
     ]
    }
   ],
   "source": [
    "sql = '''\n",
    "SELECT name,year,quarter,q_amt\n",
    "FROM epss \n",
    "WHERE (year = %s AND quarter <= %s) \n",
    "OR (year = %s-1 AND quarter >= %s+1)\n",
    "ORDER BY year DESC, quarter DESC'''\n",
    "sql = sql % (year,quarter,year,quarter)\n",
    "print(sql)"
   ]
  },
  {
   "cell_type": "code",
   "execution_count": 3,
   "metadata": {},
   "outputs": [
    {
     "data": {
      "text/plain": [
       "(22, 5)"
      ]
     },
     "execution_count": 3,
     "metadata": {},
     "output_type": "execute_result"
    }
   ],
   "source": [
    "dfc = pd.read_sql(sql, conlt)\n",
    "dfc['Counter'] = 1\n",
    "dfc_grp = dfc.groupby(['name'], as_index=False).sum()\n",
    "dfc_grp = dfc_grp[dfc_grp['Counter'] == 4]\n",
    "dfc_grp.shape"
   ]
  },
  {
   "cell_type": "code",
   "execution_count": 4,
   "metadata": {},
   "outputs": [
    {
     "data": {
      "text/plain": [
       "(226, 5)"
      ]
     },
     "execution_count": 4,
     "metadata": {},
     "output_type": "execute_result"
    }
   ],
   "source": [
    "sql = '''\n",
    "SELECT name,year,quarter,q_amt\n",
    "FROM epss \n",
    "WHERE (year = %s-1 AND quarter <= %s) \n",
    "OR (year = %s-2 AND quarter >= %s+1)\n",
    "ORDER BY year DESC, quarter DESC'''\n",
    "sql = sql % (year,quarter,year,quarter)\n",
    "dfp = pd.read_sql(sql, conlt)\n",
    "dfp['Counter'] = 1\n",
    "dfp_grp = dfp.groupby(['name'], as_index=False).sum()\n",
    "dfp_grp = dfp_grp[dfp_grp['Counter'] == 4]\n",
    "dfp_grp.shape"
   ]
  },
  {
   "cell_type": "code",
   "execution_count": 5,
   "metadata": {},
   "outputs": [
    {
     "data": {
      "text/html": [
       "<div>\n",
       "<style scoped>\n",
       "    .dataframe tbody tr th:only-of-type {\n",
       "        vertical-align: middle;\n",
       "    }\n",
       "\n",
       "    .dataframe tbody tr th {\n",
       "        vertical-align: top;\n",
       "    }\n",
       "\n",
       "    .dataframe thead th {\n",
       "        text-align: right;\n",
       "    }\n",
       "</style>\n",
       "<table border=\"1\" class=\"dataframe\">\n",
       "  <thead>\n",
       "    <tr style=\"text-align: right;\">\n",
       "      <th></th>\n",
       "      <th>name</th>\n",
       "      <th>year</th>\n",
       "      <th>quarter</th>\n",
       "      <th>q_amt_c</th>\n",
       "      <th>q_amt_p</th>\n",
       "      <th>inc_profit</th>\n",
       "      <th>Pct</th>\n",
       "    </tr>\n",
       "  </thead>\n",
       "  <tbody>\n",
       "    <tr>\n",
       "      <th>11</th>\n",
       "      <td>KTB</td>\n",
       "      <td>2022</td>\n",
       "      <td>Q2</td>\n",
       "      <td>27137553</td>\n",
       "      <td>18099033</td>\n",
       "      <td>9038520</td>\n",
       "      <td>49.94</td>\n",
       "    </tr>\n",
       "    <tr>\n",
       "      <th>21</th>\n",
       "      <td>TTB</td>\n",
       "      <td>2022</td>\n",
       "      <td>Q2</td>\n",
       "      <td>11791212</td>\n",
       "      <td>8169846</td>\n",
       "      <td>3621366</td>\n",
       "      <td>44.33</td>\n",
       "    </tr>\n",
       "    <tr>\n",
       "      <th>10</th>\n",
       "      <td>KKP</td>\n",
       "      <td>2022</td>\n",
       "      <td>Q2</td>\n",
       "      <td>7589746</td>\n",
       "      <td>5271949</td>\n",
       "      <td>2317797</td>\n",
       "      <td>43.96</td>\n",
       "    </tr>\n",
       "    <tr>\n",
       "      <th>2</th>\n",
       "      <td>BBL</td>\n",
       "      <td>2022</td>\n",
       "      <td>Q2</td>\n",
       "      <td>27306314</td>\n",
       "      <td>19694952</td>\n",
       "      <td>7611362</td>\n",
       "      <td>38.65</td>\n",
       "    </tr>\n",
       "    <tr>\n",
       "      <th>5</th>\n",
       "      <td>DELTA</td>\n",
       "      <td>2022</td>\n",
       "      <td>Q2</td>\n",
       "      <td>10330437</td>\n",
       "      <td>7635796</td>\n",
       "      <td>2694641</td>\n",
       "      <td>35.29</td>\n",
       "    </tr>\n",
       "  </tbody>\n",
       "</table>\n",
       "</div>"
      ],
      "text/plain": [
       "     name  year quarter   q_amt_c   q_amt_p  inc_profit   Pct\n",
       "11    KTB  2022      Q2  27137553  18099033     9038520 49.94\n",
       "21    TTB  2022      Q2  11791212   8169846     3621366 44.33\n",
       "10    KKP  2022      Q2   7589746   5271949     2317797 43.96\n",
       "2     BBL  2022      Q2  27306314  19694952     7611362 38.65\n",
       "5   DELTA  2022      Q2  10330437   7635796     2694641 35.29"
      ]
     },
     "execution_count": 5,
     "metadata": {},
     "output_type": "execute_result"
    }
   ],
   "source": [
    "dfm = pd.merge(dfc_grp, dfp_grp, on='name', suffixes=(['_c','_p']), how='inner')\n",
    "dfm['inc_profit'] = dfm['q_amt_c']-dfm['q_amt_p']\n",
    "dfm['Pct'] = round(dfm['inc_profit']/abs(dfm['q_amt_p'])*100,2)\n",
    "dfm['year'] = year\n",
    "dfm['quarter'] = 'Q'+str(quarter)\n",
    "df_pct = dfm[['name','year','quarter','q_amt_c','q_amt_p','inc_profit','Pct']]\n",
    "df_pct.sort_values(['Pct'],ascending=[False]).head()"
   ]
  },
  {
   "cell_type": "code",
   "execution_count": 6,
   "metadata": {},
   "outputs": [
    {
     "data": {
      "text/plain": [
       "20"
      ]
     },
     "execution_count": 6,
     "metadata": {},
     "output_type": "execute_result"
    }
   ],
   "source": [
    "sql = \"\"\"\n",
    "DELETE FROM yr_profits \n",
    "WHERE year = %s AND quarter = 'Q%s'\"\"\"\n",
    "sql = sql % (year, quarter)\n",
    "rp = conlt.execute(sql)\n",
    "rp.rowcount"
   ]
  },
  {
   "cell_type": "code",
   "execution_count": 7,
   "metadata": {},
   "outputs": [
    {
     "data": {
      "text/plain": [
       "22"
      ]
     },
     "execution_count": 7,
     "metadata": {},
     "output_type": "execute_result"
    }
   ],
   "source": [
    "sql = 'SELECT name, id FROM tickers'\n",
    "tickers = pd.read_sql(sql, conlt)\n",
    "df_ins = pd.merge(df_pct, tickers, on='name', how='inner')\n",
    "rcds = df_ins.values.tolist()\n",
    "len(rcds)"
   ]
  },
  {
   "cell_type": "code",
   "execution_count": 8,
   "metadata": {
    "scrolled": false
   },
   "outputs": [
    {
     "name": "stdout",
     "output_type": "stream",
     "text": [
      "['AOT', 2022, 'Q2', -16784073, -13747749, -3036324, -22.09, 24]\n",
      "['ASP', 2022, 'Q2', 578771, 818663, -239892, -29.3, 40]\n",
      "['BBL', 2022, 'Q2', 27306314, 19694952, 7611362, 38.65, 50]\n",
      "['BFIT', 2022, 'Q2', 566031, 1137533, -571502, -50.24, 58]\n",
      "['COTTO', 2022, 'Q2', 597648, 618161, -20513, -3.32, 710]\n",
      "['DELTA', 2022, 'Q2', 10330437, 7635796, 2694641, 35.29, 138]\n",
      "['DTAC', 2022, 'Q2', 2733414, 4069550, -1336136, -32.83, 144]\n",
      "['GVREIT', 2022, 'Q2', 671535, 788226, -116691, -14.8, 654]\n",
      "['HMPRO', 2022, 'Q2', 5676476, 5740561, -64085, -1.12, 208]\n",
      "['KBANK', 2022, 'Q2', 40536483, 39457834, 1078649, 2.73, 245]\n",
      "['KKP', 2022, 'Q2', 7589746, 5271949, 2317797, 43.96, 255]\n",
      "['KTB', 2022, 'Q2', 27137553, 18099033, 9038520, 49.94, 258]\n",
      "['KTC', 2022, 'Q2', 6205952, 5856336, 349616, 5.97, 259]\n",
      "['LHFG', 2022, 'Q2', 1090666, 1765194, -674528, -38.21, 268]\n",
      "['OISHI', 2022, 'Q2', 834166, 706204, 127962, 18.12, 338]\n",
      "['SCB', 2022, 'Q2', 36939973, 28509171, 8430802, 29.57, 426]\n",
      "['SCC', 2022, 'Q2', 33904936, 49838986, -15934050, -31.97, 427]\n",
      "['SCCC', 2022, 'Q2', 3895929, 4339222, -443293, -10.22, 428]\n",
      "['SCGP', 2022, 'Q2', 7410265, 7219127, 191138, 2.65, 713]\n",
      "['TFFIF', 2022, 'Q2', 1209444, 1125581, 83863, 7.45, 686]\n",
      "['TISCO', 2022, 'Q2', 6995711, 6678026, 317685, 4.76, 531]\n",
      "['TTB', 2022, 'Q2', 11791212, 8169846, 3621366, 44.33, 541]\n"
     ]
    }
   ],
   "source": [
    "for rcd in rcds:\n",
    "    print(rcd)"
   ]
  },
  {
   "cell_type": "code",
   "execution_count": 9,
   "metadata": {},
   "outputs": [
    {
     "name": "stdout",
     "output_type": "stream",
     "text": [
      "INSERT INTO yr_profits (name, year, quarter, latest_amt, previous_amt, inc_amt, inc_pct, ticker_id)  VALUES (?, ?, ?, ?, ?, ?, ?, ?)\n"
     ]
    }
   ],
   "source": [
    "sql = \"\"\"INSERT INTO yr_profits (name, year, quarter, latest_amt, previous_amt, inc_amt, inc_pct, ticker_id) \\\n",
    " VALUES (?, ?, ?, ?, ?, ?, ?, ?)\"\"\"\n",
    "print(sql)"
   ]
  },
  {
   "cell_type": "code",
   "execution_count": 10,
   "metadata": {},
   "outputs": [],
   "source": [
    "for rcd in rcds:\n",
    "    conlt.execute(sql, rcd)"
   ]
  },
  {
   "cell_type": "markdown",
   "metadata": {},
   "source": [
    "### End of loop"
   ]
  },
  {
   "cell_type": "code",
   "execution_count": 11,
   "metadata": {},
   "outputs": [],
   "source": [
    "cols = 'name year quarter q_amt_c q_amt_p inc_profit Pct'.split()"
   ]
  },
  {
   "cell_type": "code",
   "execution_count": 12,
   "metadata": {},
   "outputs": [
    {
     "data": {
      "text/html": [
       "<div>\n",
       "<style scoped>\n",
       "    .dataframe tbody tr th:only-of-type {\n",
       "        vertical-align: middle;\n",
       "    }\n",
       "\n",
       "    .dataframe tbody tr th {\n",
       "        vertical-align: top;\n",
       "    }\n",
       "\n",
       "    .dataframe thead th {\n",
       "        text-align: right;\n",
       "    }\n",
       "</style>\n",
       "<table border=\"1\" class=\"dataframe\">\n",
       "  <thead>\n",
       "    <tr style=\"text-align: right;\">\n",
       "      <th></th>\n",
       "      <th>name</th>\n",
       "      <th>year</th>\n",
       "      <th>quarter</th>\n",
       "      <th>q_amt_c</th>\n",
       "      <th>q_amt_p</th>\n",
       "      <th>inc_profit</th>\n",
       "      <th>Pct</th>\n",
       "    </tr>\n",
       "  </thead>\n",
       "  <tbody>\n",
       "    <tr>\n",
       "      <th>11</th>\n",
       "      <td>KTB</td>\n",
       "      <td>2022</td>\n",
       "      <td>Q2</td>\n",
       "      <td>27137553</td>\n",
       "      <td>18099033</td>\n",
       "      <td>9038520</td>\n",
       "      <td>49.94</td>\n",
       "    </tr>\n",
       "    <tr>\n",
       "      <th>21</th>\n",
       "      <td>TTB</td>\n",
       "      <td>2022</td>\n",
       "      <td>Q2</td>\n",
       "      <td>11791212</td>\n",
       "      <td>8169846</td>\n",
       "      <td>3621366</td>\n",
       "      <td>44.33</td>\n",
       "    </tr>\n",
       "    <tr>\n",
       "      <th>10</th>\n",
       "      <td>KKP</td>\n",
       "      <td>2022</td>\n",
       "      <td>Q2</td>\n",
       "      <td>7589746</td>\n",
       "      <td>5271949</td>\n",
       "      <td>2317797</td>\n",
       "      <td>43.96</td>\n",
       "    </tr>\n",
       "    <tr>\n",
       "      <th>2</th>\n",
       "      <td>BBL</td>\n",
       "      <td>2022</td>\n",
       "      <td>Q2</td>\n",
       "      <td>27306314</td>\n",
       "      <td>19694952</td>\n",
       "      <td>7611362</td>\n",
       "      <td>38.65</td>\n",
       "    </tr>\n",
       "    <tr>\n",
       "      <th>5</th>\n",
       "      <td>DELTA</td>\n",
       "      <td>2022</td>\n",
       "      <td>Q2</td>\n",
       "      <td>10330437</td>\n",
       "      <td>7635796</td>\n",
       "      <td>2694641</td>\n",
       "      <td>35.29</td>\n",
       "    </tr>\n",
       "  </tbody>\n",
       "</table>\n",
       "</div>"
      ],
      "text/plain": [
       "     name  year quarter   q_amt_c   q_amt_p  inc_profit   Pct\n",
       "11    KTB  2022      Q2  27137553  18099033     9038520 49.94\n",
       "21    TTB  2022      Q2  11791212   8169846     3621366 44.33\n",
       "10    KKP  2022      Q2   7589746   5271949     2317797 43.96\n",
       "2     BBL  2022      Q2  27306314  19694952     7611362 38.65\n",
       "5   DELTA  2022      Q2  10330437   7635796     2694641 35.29"
      ]
     },
     "execution_count": 12,
     "metadata": {},
     "output_type": "execute_result"
    }
   ],
   "source": [
    "criteria_1 = df_ins.q_amt_c > 440000\n",
    "df_ins.loc[criteria_1,cols].sort_values(['Pct'],ascending=[False]).head()"
   ]
  },
  {
   "cell_type": "code",
   "execution_count": 13,
   "metadata": {},
   "outputs": [
    {
     "data": {
      "text/html": [
       "<div>\n",
       "<style scoped>\n",
       "    .dataframe tbody tr th:only-of-type {\n",
       "        vertical-align: middle;\n",
       "    }\n",
       "\n",
       "    .dataframe tbody tr th {\n",
       "        vertical-align: top;\n",
       "    }\n",
       "\n",
       "    .dataframe thead th {\n",
       "        text-align: right;\n",
       "    }\n",
       "</style>\n",
       "<table border=\"1\" class=\"dataframe\">\n",
       "  <thead>\n",
       "    <tr style=\"text-align: right;\">\n",
       "      <th></th>\n",
       "      <th>name</th>\n",
       "      <th>year</th>\n",
       "      <th>quarter</th>\n",
       "      <th>q_amt_c</th>\n",
       "      <th>q_amt_p</th>\n",
       "      <th>inc_profit</th>\n",
       "      <th>Pct</th>\n",
       "    </tr>\n",
       "  </thead>\n",
       "  <tbody>\n",
       "    <tr>\n",
       "      <th>11</th>\n",
       "      <td>KTB</td>\n",
       "      <td>2022</td>\n",
       "      <td>Q2</td>\n",
       "      <td>27137553</td>\n",
       "      <td>18099033</td>\n",
       "      <td>9038520</td>\n",
       "      <td>49.94</td>\n",
       "    </tr>\n",
       "    <tr>\n",
       "      <th>21</th>\n",
       "      <td>TTB</td>\n",
       "      <td>2022</td>\n",
       "      <td>Q2</td>\n",
       "      <td>11791212</td>\n",
       "      <td>8169846</td>\n",
       "      <td>3621366</td>\n",
       "      <td>44.33</td>\n",
       "    </tr>\n",
       "    <tr>\n",
       "      <th>10</th>\n",
       "      <td>KKP</td>\n",
       "      <td>2022</td>\n",
       "      <td>Q2</td>\n",
       "      <td>7589746</td>\n",
       "      <td>5271949</td>\n",
       "      <td>2317797</td>\n",
       "      <td>43.96</td>\n",
       "    </tr>\n",
       "    <tr>\n",
       "      <th>2</th>\n",
       "      <td>BBL</td>\n",
       "      <td>2022</td>\n",
       "      <td>Q2</td>\n",
       "      <td>27306314</td>\n",
       "      <td>19694952</td>\n",
       "      <td>7611362</td>\n",
       "      <td>38.65</td>\n",
       "    </tr>\n",
       "    <tr>\n",
       "      <th>5</th>\n",
       "      <td>DELTA</td>\n",
       "      <td>2022</td>\n",
       "      <td>Q2</td>\n",
       "      <td>10330437</td>\n",
       "      <td>7635796</td>\n",
       "      <td>2694641</td>\n",
       "      <td>35.29</td>\n",
       "    </tr>\n",
       "  </tbody>\n",
       "</table>\n",
       "</div>"
      ],
      "text/plain": [
       "     name  year quarter   q_amt_c   q_amt_p  inc_profit   Pct\n",
       "11    KTB  2022      Q2  27137553  18099033     9038520 49.94\n",
       "21    TTB  2022      Q2  11791212   8169846     3621366 44.33\n",
       "10    KKP  2022      Q2   7589746   5271949     2317797 43.96\n",
       "2     BBL  2022      Q2  27306314  19694952     7611362 38.65\n",
       "5   DELTA  2022      Q2  10330437   7635796     2694641 35.29"
      ]
     },
     "execution_count": 13,
     "metadata": {},
     "output_type": "execute_result"
    }
   ],
   "source": [
    "criteria_2 = df_ins.q_amt_p > 300000\n",
    "df_ins.loc[criteria_2,cols].sort_values(['Pct'],ascending=[False]).head()"
   ]
  },
  {
   "cell_type": "code",
   "execution_count": 14,
   "metadata": {},
   "outputs": [
    {
     "data": {
      "text/html": [
       "<div>\n",
       "<style scoped>\n",
       "    .dataframe tbody tr th:only-of-type {\n",
       "        vertical-align: middle;\n",
       "    }\n",
       "\n",
       "    .dataframe tbody tr th {\n",
       "        vertical-align: top;\n",
       "    }\n",
       "\n",
       "    .dataframe thead th {\n",
       "        text-align: right;\n",
       "    }\n",
       "</style>\n",
       "<table border=\"1\" class=\"dataframe\">\n",
       "  <thead>\n",
       "    <tr style=\"text-align: right;\">\n",
       "      <th></th>\n",
       "      <th>name</th>\n",
       "      <th>year</th>\n",
       "      <th>quarter</th>\n",
       "      <th>q_amt_c</th>\n",
       "      <th>q_amt_p</th>\n",
       "      <th>inc_profit</th>\n",
       "      <th>Pct</th>\n",
       "    </tr>\n",
       "  </thead>\n",
       "  <tbody>\n",
       "    <tr>\n",
       "      <th>11</th>\n",
       "      <td>KTB</td>\n",
       "      <td>2022</td>\n",
       "      <td>Q2</td>\n",
       "      <td>27137553</td>\n",
       "      <td>18099033</td>\n",
       "      <td>9038520</td>\n",
       "      <td>49.94</td>\n",
       "    </tr>\n",
       "    <tr>\n",
       "      <th>21</th>\n",
       "      <td>TTB</td>\n",
       "      <td>2022</td>\n",
       "      <td>Q2</td>\n",
       "      <td>11791212</td>\n",
       "      <td>8169846</td>\n",
       "      <td>3621366</td>\n",
       "      <td>44.33</td>\n",
       "    </tr>\n",
       "    <tr>\n",
       "      <th>10</th>\n",
       "      <td>KKP</td>\n",
       "      <td>2022</td>\n",
       "      <td>Q2</td>\n",
       "      <td>7589746</td>\n",
       "      <td>5271949</td>\n",
       "      <td>2317797</td>\n",
       "      <td>43.96</td>\n",
       "    </tr>\n",
       "    <tr>\n",
       "      <th>2</th>\n",
       "      <td>BBL</td>\n",
       "      <td>2022</td>\n",
       "      <td>Q2</td>\n",
       "      <td>27306314</td>\n",
       "      <td>19694952</td>\n",
       "      <td>7611362</td>\n",
       "      <td>38.65</td>\n",
       "    </tr>\n",
       "    <tr>\n",
       "      <th>5</th>\n",
       "      <td>DELTA</td>\n",
       "      <td>2022</td>\n",
       "      <td>Q2</td>\n",
       "      <td>10330437</td>\n",
       "      <td>7635796</td>\n",
       "      <td>2694641</td>\n",
       "      <td>35.29</td>\n",
       "    </tr>\n",
       "  </tbody>\n",
       "</table>\n",
       "</div>"
      ],
      "text/plain": [
       "     name  year quarter   q_amt_c   q_amt_p  inc_profit   Pct\n",
       "11    KTB  2022      Q2  27137553  18099033     9038520 49.94\n",
       "21    TTB  2022      Q2  11791212   8169846     3621366 44.33\n",
       "10    KKP  2022      Q2   7589746   5271949     2317797 43.96\n",
       "2     BBL  2022      Q2  27306314  19694952     7611362 38.65\n",
       "5   DELTA  2022      Q2  10330437   7635796     2694641 35.29"
      ]
     },
     "execution_count": 14,
     "metadata": {},
     "output_type": "execute_result"
    }
   ],
   "source": [
    "criteria_3 = df_ins.Pct > 5.0\n",
    "df_ins.loc[criteria_3,cols].sort_values(['Pct'],ascending=[False]).head()"
   ]
  },
  {
   "cell_type": "code",
   "execution_count": 15,
   "metadata": {},
   "outputs": [
    {
     "data": {
      "text/html": [
       "<div>\n",
       "<style scoped>\n",
       "    .dataframe tbody tr th:only-of-type {\n",
       "        vertical-align: middle;\n",
       "    }\n",
       "\n",
       "    .dataframe tbody tr th {\n",
       "        vertical-align: top;\n",
       "    }\n",
       "\n",
       "    .dataframe thead th {\n",
       "        text-align: right;\n",
       "    }\n",
       "</style>\n",
       "<table border=\"1\" class=\"dataframe\">\n",
       "  <thead>\n",
       "    <tr style=\"text-align: right;\">\n",
       "      <th></th>\n",
       "      <th>name</th>\n",
       "      <th>year</th>\n",
       "      <th>quarter</th>\n",
       "      <th>q_amt_c</th>\n",
       "      <th>q_amt_p</th>\n",
       "      <th>inc_profit</th>\n",
       "      <th>Pct</th>\n",
       "    </tr>\n",
       "  </thead>\n",
       "  <tbody>\n",
       "    <tr>\n",
       "      <th>11</th>\n",
       "      <td>KTB</td>\n",
       "      <td>2022</td>\n",
       "      <td>Q2</td>\n",
       "      <td>27137553</td>\n",
       "      <td>18099033</td>\n",
       "      <td>9038520</td>\n",
       "      <td>49.94</td>\n",
       "    </tr>\n",
       "    <tr>\n",
       "      <th>21</th>\n",
       "      <td>TTB</td>\n",
       "      <td>2022</td>\n",
       "      <td>Q2</td>\n",
       "      <td>11791212</td>\n",
       "      <td>8169846</td>\n",
       "      <td>3621366</td>\n",
       "      <td>44.33</td>\n",
       "    </tr>\n",
       "    <tr>\n",
       "      <th>10</th>\n",
       "      <td>KKP</td>\n",
       "      <td>2022</td>\n",
       "      <td>Q2</td>\n",
       "      <td>7589746</td>\n",
       "      <td>5271949</td>\n",
       "      <td>2317797</td>\n",
       "      <td>43.96</td>\n",
       "    </tr>\n",
       "    <tr>\n",
       "      <th>2</th>\n",
       "      <td>BBL</td>\n",
       "      <td>2022</td>\n",
       "      <td>Q2</td>\n",
       "      <td>27306314</td>\n",
       "      <td>19694952</td>\n",
       "      <td>7611362</td>\n",
       "      <td>38.65</td>\n",
       "    </tr>\n",
       "    <tr>\n",
       "      <th>5</th>\n",
       "      <td>DELTA</td>\n",
       "      <td>2022</td>\n",
       "      <td>Q2</td>\n",
       "      <td>10330437</td>\n",
       "      <td>7635796</td>\n",
       "      <td>2694641</td>\n",
       "      <td>35.29</td>\n",
       "    </tr>\n",
       "    <tr>\n",
       "      <th>15</th>\n",
       "      <td>SCB</td>\n",
       "      <td>2022</td>\n",
       "      <td>Q2</td>\n",
       "      <td>36939973</td>\n",
       "      <td>28509171</td>\n",
       "      <td>8430802</td>\n",
       "      <td>29.57</td>\n",
       "    </tr>\n",
       "    <tr>\n",
       "      <th>14</th>\n",
       "      <td>OISHI</td>\n",
       "      <td>2022</td>\n",
       "      <td>Q2</td>\n",
       "      <td>834166</td>\n",
       "      <td>706204</td>\n",
       "      <td>127962</td>\n",
       "      <td>18.12</td>\n",
       "    </tr>\n",
       "    <tr>\n",
       "      <th>19</th>\n",
       "      <td>TFFIF</td>\n",
       "      <td>2022</td>\n",
       "      <td>Q2</td>\n",
       "      <td>1209444</td>\n",
       "      <td>1125581</td>\n",
       "      <td>83863</td>\n",
       "      <td>7.45</td>\n",
       "    </tr>\n",
       "    <tr>\n",
       "      <th>12</th>\n",
       "      <td>KTC</td>\n",
       "      <td>2022</td>\n",
       "      <td>Q2</td>\n",
       "      <td>6205952</td>\n",
       "      <td>5856336</td>\n",
       "      <td>349616</td>\n",
       "      <td>5.97</td>\n",
       "    </tr>\n",
       "  </tbody>\n",
       "</table>\n",
       "</div>"
      ],
      "text/plain": [
       "     name  year quarter   q_amt_c   q_amt_p  inc_profit   Pct\n",
       "11    KTB  2022      Q2  27137553  18099033     9038520 49.94\n",
       "21    TTB  2022      Q2  11791212   8169846     3621366 44.33\n",
       "10    KKP  2022      Q2   7589746   5271949     2317797 43.96\n",
       "2     BBL  2022      Q2  27306314  19694952     7611362 38.65\n",
       "5   DELTA  2022      Q2  10330437   7635796     2694641 35.29\n",
       "15    SCB  2022      Q2  36939973  28509171     8430802 29.57\n",
       "14  OISHI  2022      Q2    834166    706204      127962 18.12\n",
       "19  TFFIF  2022      Q2   1209444   1125581       83863  7.45\n",
       "12    KTC  2022      Q2   6205952   5856336      349616  5.97"
      ]
     },
     "execution_count": 15,
     "metadata": {},
     "output_type": "execute_result"
    }
   ],
   "source": [
    "df_ins_criteria = criteria_1 & criteria_2 & criteria_3\n",
    "df_ins.loc[df_ins_criteria,cols].sort_values(['Pct'],ascending=[False])"
   ]
  },
  {
   "cell_type": "code",
   "execution_count": 16,
   "metadata": {},
   "outputs": [
    {
     "data": {
      "text/html": [
       "<div>\n",
       "<style scoped>\n",
       "    .dataframe tbody tr th:only-of-type {\n",
       "        vertical-align: middle;\n",
       "    }\n",
       "\n",
       "    .dataframe tbody tr th {\n",
       "        vertical-align: top;\n",
       "    }\n",
       "\n",
       "    .dataframe thead th {\n",
       "        text-align: right;\n",
       "    }\n",
       "</style>\n",
       "<table border=\"1\" class=\"dataframe\">\n",
       "  <thead>\n",
       "    <tr style=\"text-align: right;\">\n",
       "      <th></th>\n",
       "      <th>name</th>\n",
       "      <th>year</th>\n",
       "      <th>quarter</th>\n",
       "      <th>q_amt_c</th>\n",
       "      <th>q_amt_p</th>\n",
       "      <th>inc_profit</th>\n",
       "      <th>Pct</th>\n",
       "    </tr>\n",
       "  </thead>\n",
       "  <tbody>\n",
       "    <tr>\n",
       "      <th>2</th>\n",
       "      <td>BBL</td>\n",
       "      <td>2022</td>\n",
       "      <td>Q2</td>\n",
       "      <td>27306314</td>\n",
       "      <td>19694952</td>\n",
       "      <td>7611362</td>\n",
       "      <td>38.65</td>\n",
       "    </tr>\n",
       "    <tr>\n",
       "      <th>5</th>\n",
       "      <td>DELTA</td>\n",
       "      <td>2022</td>\n",
       "      <td>Q2</td>\n",
       "      <td>10330437</td>\n",
       "      <td>7635796</td>\n",
       "      <td>2694641</td>\n",
       "      <td>35.29</td>\n",
       "    </tr>\n",
       "    <tr>\n",
       "      <th>10</th>\n",
       "      <td>KKP</td>\n",
       "      <td>2022</td>\n",
       "      <td>Q2</td>\n",
       "      <td>7589746</td>\n",
       "      <td>5271949</td>\n",
       "      <td>2317797</td>\n",
       "      <td>43.96</td>\n",
       "    </tr>\n",
       "    <tr>\n",
       "      <th>11</th>\n",
       "      <td>KTB</td>\n",
       "      <td>2022</td>\n",
       "      <td>Q2</td>\n",
       "      <td>27137553</td>\n",
       "      <td>18099033</td>\n",
       "      <td>9038520</td>\n",
       "      <td>49.94</td>\n",
       "    </tr>\n",
       "    <tr>\n",
       "      <th>12</th>\n",
       "      <td>KTC</td>\n",
       "      <td>2022</td>\n",
       "      <td>Q2</td>\n",
       "      <td>6205952</td>\n",
       "      <td>5856336</td>\n",
       "      <td>349616</td>\n",
       "      <td>5.97</td>\n",
       "    </tr>\n",
       "    <tr>\n",
       "      <th>14</th>\n",
       "      <td>OISHI</td>\n",
       "      <td>2022</td>\n",
       "      <td>Q2</td>\n",
       "      <td>834166</td>\n",
       "      <td>706204</td>\n",
       "      <td>127962</td>\n",
       "      <td>18.12</td>\n",
       "    </tr>\n",
       "    <tr>\n",
       "      <th>15</th>\n",
       "      <td>SCB</td>\n",
       "      <td>2022</td>\n",
       "      <td>Q2</td>\n",
       "      <td>36939973</td>\n",
       "      <td>28509171</td>\n",
       "      <td>8430802</td>\n",
       "      <td>29.57</td>\n",
       "    </tr>\n",
       "    <tr>\n",
       "      <th>19</th>\n",
       "      <td>TFFIF</td>\n",
       "      <td>2022</td>\n",
       "      <td>Q2</td>\n",
       "      <td>1209444</td>\n",
       "      <td>1125581</td>\n",
       "      <td>83863</td>\n",
       "      <td>7.45</td>\n",
       "    </tr>\n",
       "    <tr>\n",
       "      <th>21</th>\n",
       "      <td>TTB</td>\n",
       "      <td>2022</td>\n",
       "      <td>Q2</td>\n",
       "      <td>11791212</td>\n",
       "      <td>8169846</td>\n",
       "      <td>3621366</td>\n",
       "      <td>44.33</td>\n",
       "    </tr>\n",
       "  </tbody>\n",
       "</table>\n",
       "</div>"
      ],
      "text/plain": [
       "     name  year quarter   q_amt_c   q_amt_p  inc_profit   Pct\n",
       "2     BBL  2022      Q2  27306314  19694952     7611362 38.65\n",
       "5   DELTA  2022      Q2  10330437   7635796     2694641 35.29\n",
       "10    KKP  2022      Q2   7589746   5271949     2317797 43.96\n",
       "11    KTB  2022      Q2  27137553  18099033     9038520 49.94\n",
       "12    KTC  2022      Q2   6205952   5856336      349616  5.97\n",
       "14  OISHI  2022      Q2    834166    706204      127962 18.12\n",
       "15    SCB  2022      Q2  36939973  28509171     8430802 29.57\n",
       "19  TFFIF  2022      Q2   1209444   1125581       83863  7.45\n",
       "21    TTB  2022      Q2  11791212   8169846     3621366 44.33"
      ]
     },
     "execution_count": 16,
     "metadata": {},
     "output_type": "execute_result"
    }
   ],
   "source": [
    "df_ins.loc[df_ins_criteria,cols].sort_values(['name'],ascending=[True])"
   ]
  },
  {
   "cell_type": "code",
   "execution_count": null,
   "metadata": {},
   "outputs": [],
   "source": []
  }
 ],
 "metadata": {
  "anaconda-cloud": {},
  "kernelspec": {
   "display_name": "Python 3 (ipykernel)",
   "language": "python",
   "name": "python3"
  },
  "language_info": {
   "codemirror_mode": {
    "name": "ipython",
    "version": 3
   },
   "file_extension": ".py",
   "mimetype": "text/x-python",
   "name": "python",
   "nbconvert_exporter": "python",
   "pygments_lexer": "ipython3",
   "version": "3.8.11"
  }
 },
 "nbformat": 4,
 "nbformat_minor": 1
}
