{
 "cells": [
  {
   "cell_type": "markdown",
   "metadata": {},
   "source": [
    "### Restart and Run All"
   ]
  },
  {
   "cell_type": "code",
   "execution_count": 1,
   "metadata": {},
   "outputs": [
    {
     "data": {
      "text/plain": [
       "datetime.date(2022, 7, 15)"
      ]
     },
     "execution_count": 1,
     "metadata": {},
     "output_type": "execute_result"
    }
   ],
   "source": [
    "import pandas as pd\n",
    "from datetime import date, timedelta\n",
    "from sqlalchemy import create_engine\n",
    "\n",
    "engine = create_engine('sqlite:///c:\\\\ruby\\\\portlt\\\\db\\\\development.sqlite3')\n",
    "conlt = engine.connect()\n",
    "\n",
    "pd.set_option('display.float_format','{:,.2f}'.format)\n",
    "pd.set_option('display.max_rows',None)\n",
    "\n",
    "year = 2022\n",
    "quarter = 2\n",
    "\n",
    "today = date.today()\n",
    "today"
   ]
  },
  {
   "cell_type": "code",
   "execution_count": 2,
   "metadata": {},
   "outputs": [
    {
     "data": {
      "text/html": [
       "<div>\n",
       "<style scoped>\n",
       "    .dataframe tbody tr th:only-of-type {\n",
       "        vertical-align: middle;\n",
       "    }\n",
       "\n",
       "    .dataframe tbody tr th {\n",
       "        vertical-align: top;\n",
       "    }\n",
       "\n",
       "    .dataframe thead th {\n",
       "        text-align: right;\n",
       "    }\n",
       "</style>\n",
       "<table border=\"1\" class=\"dataframe\">\n",
       "  <thead>\n",
       "    <tr style=\"text-align: right;\">\n",
       "      <th></th>\n",
       "      <th>name</th>\n",
       "      <th>year</th>\n",
       "      <th>quarter</th>\n",
       "      <th>q_amt</th>\n",
       "      <th>Counter</th>\n",
       "    </tr>\n",
       "  </thead>\n",
       "  <tbody>\n",
       "    <tr>\n",
       "      <th>10</th>\n",
       "      <td>AOT</td>\n",
       "      <td>8086</td>\n",
       "      <td>10</td>\n",
       "      <td>-16784073</td>\n",
       "      <td>4</td>\n",
       "    </tr>\n",
       "    <tr>\n",
       "      <th>79</th>\n",
       "      <td>GVREIT</td>\n",
       "      <td>8086</td>\n",
       "      <td>10</td>\n",
       "      <td>671535</td>\n",
       "      <td>4</td>\n",
       "    </tr>\n",
       "    <tr>\n",
       "      <th>129</th>\n",
       "      <td>OISHI</td>\n",
       "      <td>8086</td>\n",
       "      <td>10</td>\n",
       "      <td>834166</td>\n",
       "      <td>4</td>\n",
       "    </tr>\n",
       "    <tr>\n",
       "      <th>189</th>\n",
       "      <td>TFFIF</td>\n",
       "      <td>8086</td>\n",
       "      <td>10</td>\n",
       "      <td>1209444</td>\n",
       "      <td>4</td>\n",
       "    </tr>\n",
       "    <tr>\n",
       "      <th>196</th>\n",
       "      <td>TISCO</td>\n",
       "      <td>8086</td>\n",
       "      <td>10</td>\n",
       "      <td>6995711</td>\n",
       "      <td>4</td>\n",
       "    </tr>\n",
       "  </tbody>\n",
       "</table>\n",
       "</div>"
      ],
      "text/plain": [
       "       name  year  quarter     q_amt  Counter\n",
       "10      AOT  8086       10 -16784073        4\n",
       "79   GVREIT  8086       10    671535        4\n",
       "129   OISHI  8086       10    834166        4\n",
       "189   TFFIF  8086       10   1209444        4\n",
       "196   TISCO  8086       10   6995711        4"
      ]
     },
     "execution_count": 2,
     "metadata": {},
     "output_type": "execute_result"
    }
   ],
   "source": [
    "sql = '''\n",
    "SELECT name,year,quarter,q_amt \n",
    "FROM epss \n",
    "WHERE (year = %s AND quarter <= %s)\n",
    "OR (year = %s-1 AND quarter >= %s+1) \n",
    "ORDER BY year DESC, quarter DESC'''\n",
    "sql = sql % (year, quarter, year, quarter)\n",
    "dfc = pd.read_sql(sql, conlt)\n",
    "dfc['Counter'] = 1\n",
    "dfc_grp = dfc.groupby(['name'], as_index=False).sum()\n",
    "dfc_grp = dfc_grp[dfc_grp['Counter'] == 4]\n",
    "dfc_grp"
   ]
  },
  {
   "cell_type": "code",
   "execution_count": 3,
   "metadata": {},
   "outputs": [
    {
     "name": "stdout",
     "output_type": "stream",
     "text": [
      "\n",
      "SELECT name,year,quarter,q_amt \n",
      "FROM epss \n",
      "WHERE (year = 2022 AND quarter <= 2-1) \n",
      "OR (year = 2022-1 AND quarter >= 2) \n",
      "ORDER BY year DESC, quarter DESC\n"
     ]
    }
   ],
   "source": [
    "sql = '''\n",
    "SELECT name,year,quarter,q_amt \n",
    "FROM epss \n",
    "WHERE (year = %s AND quarter <= %s-1) \n",
    "OR (year = %s-1 AND quarter >= %s) \n",
    "ORDER BY year DESC, quarter DESC'''\n",
    "sql = sql % (year, quarter, year, quarter)\n",
    "print(sql)"
   ]
  },
  {
   "cell_type": "code",
   "execution_count": 4,
   "metadata": {},
   "outputs": [
    {
     "data": {
      "text/plain": [
       "(212, 5)"
      ]
     },
     "execution_count": 4,
     "metadata": {},
     "output_type": "execute_result"
    }
   ],
   "source": [
    "dfp = pd.read_sql(sql, conlt)\n",
    "dfp['Counter'] = 1\n",
    "dfp_grp = dfp.groupby(['name'], as_index=False).sum()\n",
    "dfp_grp = dfp_grp[dfp_grp['Counter'] == 4]\n",
    "dfp_grp.shape"
   ]
  },
  {
   "cell_type": "code",
   "execution_count": 5,
   "metadata": {},
   "outputs": [
    {
     "data": {
      "text/html": [
       "<div>\n",
       "<style scoped>\n",
       "    .dataframe tbody tr th:only-of-type {\n",
       "        vertical-align: middle;\n",
       "    }\n",
       "\n",
       "    .dataframe tbody tr th {\n",
       "        vertical-align: top;\n",
       "    }\n",
       "\n",
       "    .dataframe thead th {\n",
       "        text-align: right;\n",
       "    }\n",
       "</style>\n",
       "<table border=\"1\" class=\"dataframe\">\n",
       "  <thead>\n",
       "    <tr style=\"text-align: right;\">\n",
       "      <th></th>\n",
       "      <th>name</th>\n",
       "      <th>year</th>\n",
       "      <th>quarter</th>\n",
       "      <th>q_amt_c</th>\n",
       "      <th>q_amt_p</th>\n",
       "      <th>inc_profit</th>\n",
       "      <th>Pct</th>\n",
       "    </tr>\n",
       "  </thead>\n",
       "  <tbody>\n",
       "    <tr>\n",
       "      <th>0</th>\n",
       "      <td>AOT</td>\n",
       "      <td>2022</td>\n",
       "      <td>Q2</td>\n",
       "      <td>-16784073</td>\n",
       "      <td>-17151697</td>\n",
       "      <td>367624</td>\n",
       "      <td>2.14</td>\n",
       "    </tr>\n",
       "    <tr>\n",
       "      <th>1</th>\n",
       "      <td>GVREIT</td>\n",
       "      <td>2022</td>\n",
       "      <td>Q2</td>\n",
       "      <td>671535</td>\n",
       "      <td>672205</td>\n",
       "      <td>-670</td>\n",
       "      <td>-0.10</td>\n",
       "    </tr>\n",
       "    <tr>\n",
       "      <th>2</th>\n",
       "      <td>OISHI</td>\n",
       "      <td>2022</td>\n",
       "      <td>Q2</td>\n",
       "      <td>834166</td>\n",
       "      <td>709629</td>\n",
       "      <td>124537</td>\n",
       "      <td>17.55</td>\n",
       "    </tr>\n",
       "    <tr>\n",
       "      <th>3</th>\n",
       "      <td>TFFIF</td>\n",
       "      <td>2022</td>\n",
       "      <td>Q2</td>\n",
       "      <td>1209444</td>\n",
       "      <td>1138781</td>\n",
       "      <td>70663</td>\n",
       "      <td>6.21</td>\n",
       "    </tr>\n",
       "    <tr>\n",
       "      <th>4</th>\n",
       "      <td>TISCO</td>\n",
       "      <td>2022</td>\n",
       "      <td>Q2</td>\n",
       "      <td>6995711</td>\n",
       "      <td>6813664</td>\n",
       "      <td>182047</td>\n",
       "      <td>2.67</td>\n",
       "    </tr>\n",
       "  </tbody>\n",
       "</table>\n",
       "</div>"
      ],
      "text/plain": [
       "     name  year quarter   q_amt_c   q_amt_p  inc_profit   Pct\n",
       "0     AOT  2022      Q2 -16784073 -17151697      367624  2.14\n",
       "1  GVREIT  2022      Q2    671535    672205        -670 -0.10\n",
       "2   OISHI  2022      Q2    834166    709629      124537 17.55\n",
       "3   TFFIF  2022      Q2   1209444   1138781       70663  6.21\n",
       "4   TISCO  2022      Q2   6995711   6813664      182047  2.67"
      ]
     },
     "execution_count": 5,
     "metadata": {},
     "output_type": "execute_result"
    }
   ],
   "source": [
    "dfm = pd.merge(dfc_grp, dfp_grp, on='name', suffixes=(['_c','_p']), how='inner')\n",
    "dfm['inc_profit'] = dfm['q_amt_c']-dfm['q_amt_p']\n",
    "dfm['Pct'] = round(dfm['inc_profit']/abs(dfm['q_amt_p'])*100,2)\n",
    "dfm['year'] = year\n",
    "dfm['quarter'] = 'Q'+str(quarter)\n",
    "df_pct = dfm[['name','year','quarter','q_amt_c','q_amt_p','inc_profit','Pct']]\n",
    "df_pct"
   ]
  },
  {
   "cell_type": "code",
   "execution_count": 6,
   "metadata": {},
   "outputs": [
    {
     "name": "stdout",
     "output_type": "stream",
     "text": [
      "\n",
      "DELETE FROM qt_profits \n",
      "WHERE year = 2022 AND quarter = 'Q2'\n"
     ]
    }
   ],
   "source": [
    "sql = \"\"\"\n",
    "DELETE FROM qt_profits \n",
    "WHERE year = %s AND quarter = 'Q%s'\"\"\"\n",
    "sql = sql % (year,quarter)\n",
    "print(sql)"
   ]
  },
  {
   "cell_type": "code",
   "execution_count": 7,
   "metadata": {},
   "outputs": [
    {
     "data": {
      "text/plain": [
       "0"
      ]
     },
     "execution_count": 7,
     "metadata": {},
     "output_type": "execute_result"
    }
   ],
   "source": [
    "rp = conlt.execute(sql)\n",
    "rp.rowcount"
   ]
  },
  {
   "cell_type": "code",
   "execution_count": 8,
   "metadata": {},
   "outputs": [
    {
     "data": {
      "text/plain": [
       "(401, 2)"
      ]
     },
     "execution_count": 8,
     "metadata": {},
     "output_type": "execute_result"
    }
   ],
   "source": [
    "sql = 'SELECT name, id FROM tickers'\n",
    "tickers = pd.read_sql(sql, conlt)\n",
    "tickers.shape"
   ]
  },
  {
   "cell_type": "code",
   "execution_count": 9,
   "metadata": {},
   "outputs": [
    {
     "data": {
      "text/plain": [
       "name           object\n",
       "year            int64\n",
       "quarter        object\n",
       "q_amt_c         int64\n",
       "q_amt_p         int64\n",
       "inc_profit      int64\n",
       "Pct           float64\n",
       "id              int64\n",
       "dtype: object"
      ]
     },
     "execution_count": 9,
     "metadata": {},
     "output_type": "execute_result"
    }
   ],
   "source": [
    "df_ins = pd.merge(df_pct, tickers, on='name', how='inner')\n",
    "df_ins.dtypes"
   ]
  },
  {
   "cell_type": "code",
   "execution_count": 10,
   "metadata": {},
   "outputs": [
    {
     "data": {
      "text/plain": [
       "5"
      ]
     },
     "execution_count": 10,
     "metadata": {},
     "output_type": "execute_result"
    }
   ],
   "source": [
    "rcds = df_ins.values.tolist()\n",
    "len(rcds)"
   ]
  },
  {
   "cell_type": "code",
   "execution_count": 11,
   "metadata": {},
   "outputs": [
    {
     "name": "stdout",
     "output_type": "stream",
     "text": [
      "['AOT', 2022, 'Q2', -16784073, -17151697, 367624, 2.14, 24]\n",
      "['GVREIT', 2022, 'Q2', 671535, 672205, -670, -0.1, 654]\n",
      "['OISHI', 2022, 'Q2', 834166, 709629, 124537, 17.55, 338]\n",
      "['TFFIF', 2022, 'Q2', 1209444, 1138781, 70663, 6.21, 686]\n",
      "['TISCO', 2022, 'Q2', 6995711, 6813664, 182047, 2.67, 531]\n"
     ]
    }
   ],
   "source": [
    "for rcd in rcds:\n",
    "    print(rcd)"
   ]
  },
  {
   "cell_type": "code",
   "execution_count": 12,
   "metadata": {},
   "outputs": [
    {
     "name": "stdout",
     "output_type": "stream",
     "text": [
      "\n",
      "INSERT INTO qt_profits (name, year, quarter, latest_amt, previous_amt, inc_amt, inc_pct, ticker_id)  VALUES (?, ?, ?, ?, ?, ?, ?, ?)\n"
     ]
    }
   ],
   "source": [
    "sql = \"\"\"\n",
    "INSERT INTO qt_profits (name, year, quarter, latest_amt, previous_amt, inc_amt, inc_pct, ticker_id) \\\n",
    " VALUES (?, ?, ?, ?, ?, ?, ?, ?)\"\"\"\n",
    "print(sql)"
   ]
  },
  {
   "cell_type": "code",
   "execution_count": 13,
   "metadata": {},
   "outputs": [],
   "source": [
    "for rcd in rcds:\n",
    "    conlt.execute(sql, rcd)"
   ]
  },
  {
   "cell_type": "markdown",
   "metadata": {},
   "source": [
    "### End of loop"
   ]
  },
  {
   "cell_type": "code",
   "execution_count": 14,
   "metadata": {},
   "outputs": [],
   "source": [
    "cols = 'name year quarter q_amt_c q_amt_p inc_profit Pct'.split()"
   ]
  },
  {
   "cell_type": "code",
   "execution_count": 15,
   "metadata": {},
   "outputs": [
    {
     "data": {
      "text/html": [
       "<div>\n",
       "<style scoped>\n",
       "    .dataframe tbody tr th:only-of-type {\n",
       "        vertical-align: middle;\n",
       "    }\n",
       "\n",
       "    .dataframe tbody tr th {\n",
       "        vertical-align: top;\n",
       "    }\n",
       "\n",
       "    .dataframe thead th {\n",
       "        text-align: right;\n",
       "    }\n",
       "</style>\n",
       "<table border=\"1\" class=\"dataframe\">\n",
       "  <thead>\n",
       "    <tr style=\"text-align: right;\">\n",
       "      <th></th>\n",
       "      <th>name</th>\n",
       "      <th>year</th>\n",
       "      <th>quarter</th>\n",
       "      <th>q_amt_c</th>\n",
       "      <th>q_amt_p</th>\n",
       "      <th>inc_profit</th>\n",
       "      <th>Pct</th>\n",
       "    </tr>\n",
       "  </thead>\n",
       "  <tbody>\n",
       "    <tr>\n",
       "      <th>2</th>\n",
       "      <td>OISHI</td>\n",
       "      <td>2022</td>\n",
       "      <td>Q2</td>\n",
       "      <td>834166</td>\n",
       "      <td>709629</td>\n",
       "      <td>124537</td>\n",
       "      <td>17.55</td>\n",
       "    </tr>\n",
       "    <tr>\n",
       "      <th>3</th>\n",
       "      <td>TFFIF</td>\n",
       "      <td>2022</td>\n",
       "      <td>Q2</td>\n",
       "      <td>1209444</td>\n",
       "      <td>1138781</td>\n",
       "      <td>70663</td>\n",
       "      <td>6.21</td>\n",
       "    </tr>\n",
       "    <tr>\n",
       "      <th>4</th>\n",
       "      <td>TISCO</td>\n",
       "      <td>2022</td>\n",
       "      <td>Q2</td>\n",
       "      <td>6995711</td>\n",
       "      <td>6813664</td>\n",
       "      <td>182047</td>\n",
       "      <td>2.67</td>\n",
       "    </tr>\n",
       "    <tr>\n",
       "      <th>1</th>\n",
       "      <td>GVREIT</td>\n",
       "      <td>2022</td>\n",
       "      <td>Q2</td>\n",
       "      <td>671535</td>\n",
       "      <td>672205</td>\n",
       "      <td>-670</td>\n",
       "      <td>-0.10</td>\n",
       "    </tr>\n",
       "  </tbody>\n",
       "</table>\n",
       "</div>"
      ],
      "text/plain": [
       "     name  year quarter  q_amt_c  q_amt_p  inc_profit   Pct\n",
       "2   OISHI  2022      Q2   834166   709629      124537 17.55\n",
       "3   TFFIF  2022      Q2  1209444  1138781       70663  6.21\n",
       "4   TISCO  2022      Q2  6995711  6813664      182047  2.67\n",
       "1  GVREIT  2022      Q2   671535   672205        -670 -0.10"
      ]
     },
     "execution_count": 15,
     "metadata": {},
     "output_type": "execute_result"
    }
   ],
   "source": [
    "criteria_1 = df_ins.q_amt_c > 440000\n",
    "df_ins.loc[criteria_1,cols].sort_values(['Pct'],ascending=[False]).head()"
   ]
  },
  {
   "cell_type": "code",
   "execution_count": 16,
   "metadata": {},
   "outputs": [
    {
     "data": {
      "text/html": [
       "<div>\n",
       "<style scoped>\n",
       "    .dataframe tbody tr th:only-of-type {\n",
       "        vertical-align: middle;\n",
       "    }\n",
       "\n",
       "    .dataframe tbody tr th {\n",
       "        vertical-align: top;\n",
       "    }\n",
       "\n",
       "    .dataframe thead th {\n",
       "        text-align: right;\n",
       "    }\n",
       "</style>\n",
       "<table border=\"1\" class=\"dataframe\">\n",
       "  <thead>\n",
       "    <tr style=\"text-align: right;\">\n",
       "      <th></th>\n",
       "      <th>name</th>\n",
       "      <th>year</th>\n",
       "      <th>quarter</th>\n",
       "      <th>q_amt_c</th>\n",
       "      <th>q_amt_p</th>\n",
       "      <th>inc_profit</th>\n",
       "      <th>Pct</th>\n",
       "    </tr>\n",
       "  </thead>\n",
       "  <tbody>\n",
       "    <tr>\n",
       "      <th>2</th>\n",
       "      <td>OISHI</td>\n",
       "      <td>2022</td>\n",
       "      <td>Q2</td>\n",
       "      <td>834166</td>\n",
       "      <td>709629</td>\n",
       "      <td>124537</td>\n",
       "      <td>17.55</td>\n",
       "    </tr>\n",
       "    <tr>\n",
       "      <th>3</th>\n",
       "      <td>TFFIF</td>\n",
       "      <td>2022</td>\n",
       "      <td>Q2</td>\n",
       "      <td>1209444</td>\n",
       "      <td>1138781</td>\n",
       "      <td>70663</td>\n",
       "      <td>6.21</td>\n",
       "    </tr>\n",
       "    <tr>\n",
       "      <th>4</th>\n",
       "      <td>TISCO</td>\n",
       "      <td>2022</td>\n",
       "      <td>Q2</td>\n",
       "      <td>6995711</td>\n",
       "      <td>6813664</td>\n",
       "      <td>182047</td>\n",
       "      <td>2.67</td>\n",
       "    </tr>\n",
       "    <tr>\n",
       "      <th>1</th>\n",
       "      <td>GVREIT</td>\n",
       "      <td>2022</td>\n",
       "      <td>Q2</td>\n",
       "      <td>671535</td>\n",
       "      <td>672205</td>\n",
       "      <td>-670</td>\n",
       "      <td>-0.10</td>\n",
       "    </tr>\n",
       "  </tbody>\n",
       "</table>\n",
       "</div>"
      ],
      "text/plain": [
       "     name  year quarter  q_amt_c  q_amt_p  inc_profit   Pct\n",
       "2   OISHI  2022      Q2   834166   709629      124537 17.55\n",
       "3   TFFIF  2022      Q2  1209444  1138781       70663  6.21\n",
       "4   TISCO  2022      Q2  6995711  6813664      182047  2.67\n",
       "1  GVREIT  2022      Q2   671535   672205        -670 -0.10"
      ]
     },
     "execution_count": 16,
     "metadata": {},
     "output_type": "execute_result"
    }
   ],
   "source": [
    "criteria_2 = df_ins.q_amt_p > 400000\n",
    "df_ins.loc[criteria_2,cols].sort_values(['Pct'],ascending=[False]).head()"
   ]
  },
  {
   "cell_type": "code",
   "execution_count": 17,
   "metadata": {},
   "outputs": [
    {
     "data": {
      "text/html": [
       "<div>\n",
       "<style scoped>\n",
       "    .dataframe tbody tr th:only-of-type {\n",
       "        vertical-align: middle;\n",
       "    }\n",
       "\n",
       "    .dataframe tbody tr th {\n",
       "        vertical-align: top;\n",
       "    }\n",
       "\n",
       "    .dataframe thead th {\n",
       "        text-align: right;\n",
       "    }\n",
       "</style>\n",
       "<table border=\"1\" class=\"dataframe\">\n",
       "  <thead>\n",
       "    <tr style=\"text-align: right;\">\n",
       "      <th></th>\n",
       "      <th>name</th>\n",
       "      <th>year</th>\n",
       "      <th>quarter</th>\n",
       "      <th>q_amt_c</th>\n",
       "      <th>q_amt_p</th>\n",
       "      <th>inc_profit</th>\n",
       "      <th>Pct</th>\n",
       "    </tr>\n",
       "  </thead>\n",
       "  <tbody>\n",
       "    <tr>\n",
       "      <th>2</th>\n",
       "      <td>OISHI</td>\n",
       "      <td>2022</td>\n",
       "      <td>Q2</td>\n",
       "      <td>834166</td>\n",
       "      <td>709629</td>\n",
       "      <td>124537</td>\n",
       "      <td>17.55</td>\n",
       "    </tr>\n",
       "  </tbody>\n",
       "</table>\n",
       "</div>"
      ],
      "text/plain": [
       "    name  year quarter  q_amt_c  q_amt_p  inc_profit   Pct\n",
       "2  OISHI  2022      Q2   834166   709629      124537 17.55"
      ]
     },
     "execution_count": 17,
     "metadata": {},
     "output_type": "execute_result"
    }
   ],
   "source": [
    "criteria_3 = df_ins.Pct > 10\n",
    "df_ins.loc[criteria_3,cols].sort_values(['Pct'],ascending=[False]).head()"
   ]
  },
  {
   "cell_type": "code",
   "execution_count": 18,
   "metadata": {},
   "outputs": [
    {
     "data": {
      "text/html": [
       "<div>\n",
       "<style scoped>\n",
       "    .dataframe tbody tr th:only-of-type {\n",
       "        vertical-align: middle;\n",
       "    }\n",
       "\n",
       "    .dataframe tbody tr th {\n",
       "        vertical-align: top;\n",
       "    }\n",
       "\n",
       "    .dataframe thead th {\n",
       "        text-align: right;\n",
       "    }\n",
       "</style>\n",
       "<table border=\"1\" class=\"dataframe\">\n",
       "  <thead>\n",
       "    <tr style=\"text-align: right;\">\n",
       "      <th></th>\n",
       "      <th>name</th>\n",
       "      <th>year</th>\n",
       "      <th>quarter</th>\n",
       "      <th>q_amt_c</th>\n",
       "      <th>q_amt_p</th>\n",
       "      <th>inc_profit</th>\n",
       "      <th>Pct</th>\n",
       "    </tr>\n",
       "  </thead>\n",
       "  <tbody>\n",
       "    <tr>\n",
       "      <th>2</th>\n",
       "      <td>OISHI</td>\n",
       "      <td>2022</td>\n",
       "      <td>Q2</td>\n",
       "      <td>834166</td>\n",
       "      <td>709629</td>\n",
       "      <td>124537</td>\n",
       "      <td>17.55</td>\n",
       "    </tr>\n",
       "  </tbody>\n",
       "</table>\n",
       "</div>"
      ],
      "text/plain": [
       "    name  year quarter  q_amt_c  q_amt_p  inc_profit   Pct\n",
       "2  OISHI  2022      Q2   834166   709629      124537 17.55"
      ]
     },
     "execution_count": 18,
     "metadata": {},
     "output_type": "execute_result"
    }
   ],
   "source": [
    "df_ins_criteria = criteria_1 & criteria_2 & criteria_3\n",
    "df_ins.loc[df_ins_criteria,cols].sort_values(['Pct'],ascending=[False]).head()"
   ]
  },
  {
   "cell_type": "code",
   "execution_count": null,
   "metadata": {},
   "outputs": [],
   "source": []
  }
 ],
 "metadata": {
  "anaconda-cloud": {},
  "kernelspec": {
   "display_name": "Python 3 (ipykernel)",
   "language": "python",
   "name": "python3"
  },
  "language_info": {
   "codemirror_mode": {
    "name": "ipython",
    "version": 3
   },
   "file_extension": ".py",
   "mimetype": "text/x-python",
   "name": "python",
   "nbconvert_exporter": "python",
   "pygments_lexer": "ipython3",
   "version": "3.8.11"
  }
 },
 "nbformat": 4,
 "nbformat_minor": 1
}
