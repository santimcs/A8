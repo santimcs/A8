{
 "cells": [
  {
   "cell_type": "markdown",
   "metadata": {},
   "source": [
    "### Restart and Run All Cells"
   ]
  },
  {
   "cell_type": "code",
   "execution_count": 1,
   "metadata": {},
   "outputs": [],
   "source": [
    "import pandas as pd\n",
    "from sqlalchemy import create_engine\n",
    "\n",
    "engine = create_engine(\"sqlite:///c:\\\\ruby\\\\pj-all\\\\db\\\\development.sqlite3\")\n",
    "conall = engine.connect()\n",
    "\n",
    "engine = create_engine(\"sqlite:///c:\\\\ruby\\\\pj-web\\\\db\\\\development.sqlite3\")\n",
    "conweb = engine.connect()"
   ]
  },
  {
   "cell_type": "markdown",
   "metadata": {},
   "source": [
    "### Start of Profits section"
   ]
  },
  {
   "cell_type": "code",
   "execution_count": 25,
   "metadata": {},
   "outputs": [
    {
     "data": {
      "text/plain": [
       "(117, 23)"
      ]
     },
     "execution_count": 25,
     "metadata": {},
     "output_type": "execute_result"
    }
   ],
   "source": [
    "sql = \"\"\"\n",
    "SELECT *\n",
    "FROM profits \n",
    "ORDER BY id\"\"\"\n",
    "profits = pd.read_sql(sql, conlt)\n",
    "profits.shape"
   ]
  },
  {
   "cell_type": "code",
   "execution_count": 26,
   "metadata": {},
   "outputs": [
    {
     "data": {
      "text/plain": [
       "(9108, 4)"
      ]
     },
     "execution_count": 26,
     "metadata": {},
     "output_type": "execute_result"
    }
   ],
   "source": [
    "sql = \"\"\"\n",
    "SELECT name, year, quarter, publish_date\n",
    "FROM epss\"\"\"\n",
    "epss = pd.read_sql(sql, conlt)\n",
    "epss.shape"
   ]
  },
  {
   "cell_type": "code",
   "execution_count": 27,
   "metadata": {},
   "outputs": [
    {
     "data": {
      "text/plain": [
       "(9108, 25)"
      ]
     },
     "execution_count": 27,
     "metadata": {},
     "output_type": "execute_result"
    }
   ],
   "source": [
    "df_merge = pd.merge(\n",
    "    profits, epss, on=[\"name\", \"year\", \"quarter\"], how=\"outer\", indicator=True\n",
    ")\n",
    "df_merge.shape"
   ]
  },
  {
   "cell_type": "code",
   "execution_count": 28,
   "metadata": {},
   "outputs": [
    {
     "data": {
      "text/plain": [
       "(117, 25)"
      ]
     },
     "execution_count": 28,
     "metadata": {},
     "output_type": "execute_result"
    }
   ],
   "source": [
    "prf_eps = df_merge[df_merge[\"_merge\"] == \"both\"]\n",
    "prf_eps.shape"
   ]
  },
  {
   "cell_type": "code",
   "execution_count": 29,
   "metadata": {},
   "outputs": [
    {
     "data": {
      "text/plain": [
       "(117, 22)"
      ]
     },
     "execution_count": 29,
     "metadata": {},
     "output_type": "execute_result"
    }
   ],
   "source": [
    "columns = [\"id\", \"ticker_id\", \"_merge\"]\n",
    "prf_eps_2 = prf_eps.drop(columns, axis=1)\n",
    "prf_eps_2.shape"
   ]
  },
  {
   "cell_type": "code",
   "execution_count": 30,
   "metadata": {},
   "outputs": [
    {
     "data": {
      "text/plain": [
       "(117, 23)"
      ]
     },
     "execution_count": 30,
     "metadata": {},
     "output_type": "execute_result"
    }
   ],
   "source": [
    "df_merge = pd.merge(prf_eps_2, tickers, on=\"name\", how=\"inner\")\n",
    "df_merge.shape"
   ]
  },
  {
   "cell_type": "code",
   "execution_count": 31,
   "metadata": {},
   "outputs": [
    {
     "data": {
      "text/plain": [
       "117"
      ]
     },
     "execution_count": 31,
     "metadata": {},
     "output_type": "execute_result"
    }
   ],
   "source": [
    "rcds = df_merge.values.tolist()\n",
    "len(rcds)"
   ]
  },
  {
   "cell_type": "code",
   "execution_count": 32,
   "metadata": {},
   "outputs": [],
   "source": [
    "#for rcd in rcds:\n",
    "#    print(rcd)"
   ]
  },
  {
   "cell_type": "code",
   "execution_count": 33,
   "metadata": {},
   "outputs": [],
   "source": [
    "for rcd in rcds:\n",
    "    conpg.execute(\n",
    "        \"\"\"INSERT INTO profits (name, year, quarter, kind,\\\n",
    "latest_amt_y, previous_amt_y, inc_amt_y, inc_pct_y,\\\n",
    "latest_amt_q, previous_amt_q, inc_amt_q, inc_pct_q,\\\n",
    "q_amt_c, y_amt, inc_amt_py, inc_pct_py,\\\n",
    "q_amt_p, inc_amt_pq, inc_pct_pq,\\\n",
    "mean_pct, std_pct, publish_date, ticker_id)\\\n",
    "VALUES( %s, %s, %s, %s, %s, %s, %s, %s, %s, %s, %s, %s, %s, %s, %s, %s, %s, %s, %s, %s, %s, %s, %s)\"\"\",\n",
    "        rcd,\n",
    "    )"
   ]
  },
  {
   "cell_type": "markdown",
   "metadata": {},
   "source": [
    "### End of Profits section"
   ]
  },
  {
   "cell_type": "code",
   "execution_count": 34,
   "metadata": {},
   "outputs": [
    {
     "data": {
      "text/plain": [
       "(117, 24)"
      ]
     },
     "execution_count": 34,
     "metadata": {},
     "output_type": "execute_result"
    }
   ],
   "source": [
    "sql = '''\n",
    "SELECT * FROM profits\n",
    "ORDER BY name, year DESC, quarter DESC'''\n",
    "profits = pd.read_sql(sql, conpg)\n",
    "profits.shape"
   ]
  },
  {
   "cell_type": "code",
   "execution_count": 35,
   "metadata": {},
   "outputs": [
    {
     "data": {
      "text/plain": [
       "(117, 23)"
      ]
     },
     "execution_count": 35,
     "metadata": {},
     "output_type": "execute_result"
    }
   ],
   "source": [
    "profits2 = profits.drop('id',axis=1)\n",
    "profits2.shape"
   ]
  },
  {
   "cell_type": "code",
   "execution_count": 36,
   "metadata": {},
   "outputs": [
    {
     "data": {
      "text/plain": [
       "(117, 23)"
      ]
     },
     "execution_count": 36,
     "metadata": {},
     "output_type": "execute_result"
    }
   ],
   "source": [
    "dfc_hi = profits2.sort_values(['name','year','quarter'], ascending=False)\n",
    "dfc_hi.shape"
   ]
  },
  {
   "cell_type": "code",
   "execution_count": 37,
   "metadata": {},
   "outputs": [
    {
     "data": {
      "text/plain": [
       "(117, 23)"
      ]
     },
     "execution_count": 37,
     "metadata": {},
     "output_type": "execute_result"
    }
   ],
   "source": [
    "dfc_hi_uniq = dfc_hi.drop_duplicates(subset='name')\n",
    "dfc_hi_uniq.shape"
   ]
  },
  {
   "cell_type": "code",
   "execution_count": 38,
   "metadata": {},
   "outputs": [
    {
     "data": {
      "text/plain": [
       "117"
      ]
     },
     "execution_count": 38,
     "metadata": {},
     "output_type": "execute_result"
    }
   ],
   "source": [
    "rcds = dfc_hi_uniq.values.tolist()\n",
    "len(rcds)"
   ]
  },
  {
   "cell_type": "code",
   "execution_count": 39,
   "metadata": {},
   "outputs": [],
   "source": [
    "#for rcd in rcds:\n",
    "#    print(rcd)"
   ]
  },
  {
   "cell_type": "code",
   "execution_count": 40,
   "metadata": {},
   "outputs": [
    {
     "name": "stdout",
     "output_type": "stream",
     "text": [
      "\n",
      "DELETE FROM profits\n"
     ]
    }
   ],
   "source": [
    "sql = '''\n",
    "DELETE FROM profits'''\n",
    "print(sql)"
   ]
  },
  {
   "cell_type": "code",
   "execution_count": 41,
   "metadata": {},
   "outputs": [
    {
     "data": {
      "text/plain": [
       "117"
      ]
     },
     "execution_count": 41,
     "metadata": {},
     "output_type": "execute_result"
    }
   ],
   "source": [
    "rp = conpg.execute(sql)\n",
    "rp.rowcount"
   ]
  },
  {
   "cell_type": "code",
   "execution_count": 42,
   "metadata": {},
   "outputs": [],
   "source": [
    "for rcd in rcds:\n",
    "    conpg.execute(\"\"\"INSERT INTO profits (name, year, quarter, kind,\\\n",
    "latest_amt_y, previous_amt_y, inc_amt_y, inc_pct_y,\\\n",
    "latest_amt_q, previous_amt_q, inc_amt_q, inc_pct_q,\\\n",
    "q_amt_c, y_amt, inc_amt_py, inc_pct_py,\\\n",
    "q_amt_p, inc_amt_pq, inc_pct_pq,\\\n",
    "mean_pct, std_pct, publish_date, ticker_id)\\\n",
    "VALUES( %s, %s, %s, %s, %s, %s, %s, %s, %s, %s, %s, %s, %s, %s, %s, %s, %s, %s, %s, %s, %s, %s, %s)\"\"\", rcd)"
   ]
  },
  {
   "cell_type": "code",
   "execution_count": 43,
   "metadata": {},
   "outputs": [
    {
     "data": {
      "text/html": [
       "<style type=\"text/css\">\n",
       "</style>\n",
       "<table id=\"T_408d9_\">\n",
       "  <thead>\n",
       "    <tr>\n",
       "      <th class=\"blank level0\" >&nbsp;</th>\n",
       "      <th class=\"col_heading level0 col0\" >id</th>\n",
       "      <th class=\"col_heading level0 col1\" >name</th>\n",
       "      <th class=\"col_heading level0 col2\" >year</th>\n",
       "      <th class=\"col_heading level0 col3\" >quarter</th>\n",
       "      <th class=\"col_heading level0 col4\" >kind</th>\n",
       "      <th class=\"col_heading level0 col5\" >latest_amt_y</th>\n",
       "      <th class=\"col_heading level0 col6\" >previous_amt_y</th>\n",
       "      <th class=\"col_heading level0 col7\" >inc_amt_y</th>\n",
       "      <th class=\"col_heading level0 col8\" >inc_pct_y</th>\n",
       "      <th class=\"col_heading level0 col9\" >latest_amt_q</th>\n",
       "      <th class=\"col_heading level0 col10\" >previous_amt_q</th>\n",
       "      <th class=\"col_heading level0 col11\" >inc_amt_q</th>\n",
       "      <th class=\"col_heading level0 col12\" >inc_pct_q</th>\n",
       "      <th class=\"col_heading level0 col13\" >q_amt_c</th>\n",
       "      <th class=\"col_heading level0 col14\" >y_amt</th>\n",
       "      <th class=\"col_heading level0 col15\" >inc_amt_py</th>\n",
       "      <th class=\"col_heading level0 col16\" >inc_pct_py</th>\n",
       "      <th class=\"col_heading level0 col17\" >q_amt_p</th>\n",
       "      <th class=\"col_heading level0 col18\" >inc_amt_pq</th>\n",
       "      <th class=\"col_heading level0 col19\" >inc_pct_pq</th>\n",
       "      <th class=\"col_heading level0 col20\" >mean_pct</th>\n",
       "      <th class=\"col_heading level0 col21\" >std_pct</th>\n",
       "      <th class=\"col_heading level0 col22\" >publish_date</th>\n",
       "      <th class=\"col_heading level0 col23\" >ticker_id</th>\n",
       "    </tr>\n",
       "  </thead>\n",
       "  <tbody>\n",
       "    <tr>\n",
       "      <th id=\"T_408d9_level0_row0\" class=\"row_heading level0 row0\" >0</th>\n",
       "      <td id=\"T_408d9_row0_col0\" class=\"data row0 col0\" >44711</td>\n",
       "      <td id=\"T_408d9_row0_col1\" class=\"data row0 col1\" >ADVANC</td>\n",
       "      <td id=\"T_408d9_row0_col2\" class=\"data row0 col2\" >2021</td>\n",
       "      <td id=\"T_408d9_row0_col3\" class=\"data row0 col3\" >3</td>\n",
       "      <td id=\"T_408d9_row0_col4\" class=\"data row0 col4\" >0</td>\n",
       "      <td id=\"T_408d9_row0_col5\" class=\"data row0 col5\" >27,223,149</td>\n",
       "      <td id=\"T_408d9_row0_col6\" class=\"data row0 col6\" >27,334,917</td>\n",
       "      <td id=\"T_408d9_row0_col7\" class=\"data row0 col7\" >-111,768</td>\n",
       "      <td id=\"T_408d9_row0_col8\" class=\"data row0 col8\" >-0.41%</td>\n",
       "      <td id=\"T_408d9_row0_col9\" class=\"data row0 col9\" >27,223,149</td>\n",
       "      <td id=\"T_408d9_row0_col10\" class=\"data row0 col10\" >27,361,758</td>\n",
       "      <td id=\"T_408d9_row0_col11\" class=\"data row0 col11\" >-138,609</td>\n",
       "      <td id=\"T_408d9_row0_col12\" class=\"data row0 col12\" >-0.51%</td>\n",
       "      <td id=\"T_408d9_row0_col13\" class=\"data row0 col13\" >6,374,062</td>\n",
       "      <td id=\"T_408d9_row0_col14\" class=\"data row0 col14\" >6,512,671</td>\n",
       "      <td id=\"T_408d9_row0_col15\" class=\"data row0 col15\" >-138,609</td>\n",
       "      <td id=\"T_408d9_row0_col16\" class=\"data row0 col16\" >-2.13%</td>\n",
       "      <td id=\"T_408d9_row0_col17\" class=\"data row0 col17\" >7,040,817</td>\n",
       "      <td id=\"T_408d9_row0_col18\" class=\"data row0 col18\" >-666,755</td>\n",
       "      <td id=\"T_408d9_row0_col19\" class=\"data row0 col19\" >-9.47%</td>\n",
       "      <td id=\"T_408d9_row0_col20\" class=\"data row0 col20\" >-3.13%</td>\n",
       "      <td id=\"T_408d9_row0_col21\" class=\"data row0 col21\" >4.30%</td>\n",
       "      <td id=\"T_408d9_row0_col22\" class=\"data row0 col22\" >2021-11-01</td>\n",
       "      <td id=\"T_408d9_row0_col23\" class=\"data row0 col23\" >8</td>\n",
       "    </tr>\n",
       "    <tr>\n",
       "      <th id=\"T_408d9_level0_row1\" class=\"row_heading level0 row1\" >1</th>\n",
       "      <td id=\"T_408d9_row1_col0\" class=\"data row1 col0\" >44710</td>\n",
       "      <td id=\"T_408d9_row1_col1\" class=\"data row1 col1\" >AEONTS</td>\n",
       "      <td id=\"T_408d9_row1_col2\" class=\"data row1 col2\" >2021</td>\n",
       "      <td id=\"T_408d9_row1_col3\" class=\"data row1 col3\" >3</td>\n",
       "      <td id=\"T_408d9_row1_col4\" class=\"data row1 col4\" >1</td>\n",
       "      <td id=\"T_408d9_row1_col5\" class=\"data row1 col5\" >3,826,113</td>\n",
       "      <td id=\"T_408d9_row1_col6\" class=\"data row1 col6\" >3,561,748</td>\n",
       "      <td id=\"T_408d9_row1_col7\" class=\"data row1 col7\" >264,365</td>\n",
       "      <td id=\"T_408d9_row1_col8\" class=\"data row1 col8\" >7.42%</td>\n",
       "      <td id=\"T_408d9_row1_col9\" class=\"data row1 col9\" >3,826,113</td>\n",
       "      <td id=\"T_408d9_row1_col10\" class=\"data row1 col10\" >4,020,604</td>\n",
       "      <td id=\"T_408d9_row1_col11\" class=\"data row1 col11\" >-194,491</td>\n",
       "      <td id=\"T_408d9_row1_col12\" class=\"data row1 col12\" >-4.84%</td>\n",
       "      <td id=\"T_408d9_row1_col13\" class=\"data row1 col13\" >814,963</td>\n",
       "      <td id=\"T_408d9_row1_col14\" class=\"data row1 col14\" >1,009,454</td>\n",
       "      <td id=\"T_408d9_row1_col15\" class=\"data row1 col15\" >-194,491</td>\n",
       "      <td id=\"T_408d9_row1_col16\" class=\"data row1 col16\" >-19.27%</td>\n",
       "      <td id=\"T_408d9_row1_col17\" class=\"data row1 col17\" >678,111</td>\n",
       "      <td id=\"T_408d9_row1_col18\" class=\"data row1 col18\" >136,852</td>\n",
       "      <td id=\"T_408d9_row1_col19\" class=\"data row1 col19\" >20.18%</td>\n",
       "      <td id=\"T_408d9_row1_col20\" class=\"data row1 col20\" >0.87%</td>\n",
       "      <td id=\"T_408d9_row1_col21\" class=\"data row1 col21\" >16.87%</td>\n",
       "      <td id=\"T_408d9_row1_col22\" class=\"data row1 col22\" >2022-01-07</td>\n",
       "      <td id=\"T_408d9_row1_col23\" class=\"data row1 col23\" >9</td>\n",
       "    </tr>\n",
       "    <tr>\n",
       "      <th id=\"T_408d9_level0_row2\" class=\"row_heading level0 row2\" >2</th>\n",
       "      <td id=\"T_408d9_row2_col0\" class=\"data row2 col0\" >44709</td>\n",
       "      <td id=\"T_408d9_row2_col1\" class=\"data row2 col1\" >AIT</td>\n",
       "      <td id=\"T_408d9_row2_col2\" class=\"data row2 col2\" >2021</td>\n",
       "      <td id=\"T_408d9_row2_col3\" class=\"data row2 col3\" >3</td>\n",
       "      <td id=\"T_408d9_row2_col4\" class=\"data row2 col4\" >0</td>\n",
       "      <td id=\"T_408d9_row2_col5\" class=\"data row2 col5\" >522,365</td>\n",
       "      <td id=\"T_408d9_row2_col6\" class=\"data row2 col6\" >380,169</td>\n",
       "      <td id=\"T_408d9_row2_col7\" class=\"data row2 col7\" >142,196</td>\n",
       "      <td id=\"T_408d9_row2_col8\" class=\"data row2 col8\" >37.40%</td>\n",
       "      <td id=\"T_408d9_row2_col9\" class=\"data row2 col9\" >522,365</td>\n",
       "      <td id=\"T_408d9_row2_col10\" class=\"data row2 col10\" >542,406</td>\n",
       "      <td id=\"T_408d9_row2_col11\" class=\"data row2 col11\" >-20,041</td>\n",
       "      <td id=\"T_408d9_row2_col12\" class=\"data row2 col12\" >-3.69%</td>\n",
       "      <td id=\"T_408d9_row2_col13\" class=\"data row2 col13\" >117,156</td>\n",
       "      <td id=\"T_408d9_row2_col14\" class=\"data row2 col14\" >137,197</td>\n",
       "      <td id=\"T_408d9_row2_col15\" class=\"data row2 col15\" >-20,041</td>\n",
       "      <td id=\"T_408d9_row2_col16\" class=\"data row2 col16\" >-14.61%</td>\n",
       "      <td id=\"T_408d9_row2_col17\" class=\"data row2 col17\" >136,948</td>\n",
       "      <td id=\"T_408d9_row2_col18\" class=\"data row2 col18\" >-19,792</td>\n",
       "      <td id=\"T_408d9_row2_col19\" class=\"data row2 col19\" >-14.45%</td>\n",
       "      <td id=\"T_408d9_row2_col20\" class=\"data row2 col20\" >1.16%</td>\n",
       "      <td id=\"T_408d9_row2_col21\" class=\"data row2 col21\" >24.69%</td>\n",
       "      <td id=\"T_408d9_row2_col22\" class=\"data row2 col22\" >2021-11-09</td>\n",
       "      <td id=\"T_408d9_row2_col23\" class=\"data row2 col23\" >14</td>\n",
       "    </tr>\n",
       "    <tr>\n",
       "      <th id=\"T_408d9_level0_row3\" class=\"row_heading level0 row3\" >3</th>\n",
       "      <td id=\"T_408d9_row3_col0\" class=\"data row3 col0\" >44708</td>\n",
       "      <td id=\"T_408d9_row3_col1\" class=\"data row3 col1\" >AMATA</td>\n",
       "      <td id=\"T_408d9_row3_col2\" class=\"data row3 col2\" >2021</td>\n",
       "      <td id=\"T_408d9_row3_col3\" class=\"data row3 col3\" >3</td>\n",
       "      <td id=\"T_408d9_row3_col4\" class=\"data row3 col4\" >0</td>\n",
       "      <td id=\"T_408d9_row3_col5\" class=\"data row3 col5\" >1,058,096</td>\n",
       "      <td id=\"T_408d9_row3_col6\" class=\"data row3 col6\" >957,203</td>\n",
       "      <td id=\"T_408d9_row3_col7\" class=\"data row3 col7\" >100,893</td>\n",
       "      <td id=\"T_408d9_row3_col8\" class=\"data row3 col8\" >10.54%</td>\n",
       "      <td id=\"T_408d9_row3_col9\" class=\"data row3 col9\" >1,058,096</td>\n",
       "      <td id=\"T_408d9_row3_col10\" class=\"data row3 col10\" >1,098,346</td>\n",
       "      <td id=\"T_408d9_row3_col11\" class=\"data row3 col11\" >-40,250</td>\n",
       "      <td id=\"T_408d9_row3_col12\" class=\"data row3 col12\" >-3.66%</td>\n",
       "      <td id=\"T_408d9_row3_col13\" class=\"data row3 col13\" >228,699</td>\n",
       "      <td id=\"T_408d9_row3_col14\" class=\"data row3 col14\" >268,949</td>\n",
       "      <td id=\"T_408d9_row3_col15\" class=\"data row3 col15\" >-40,250</td>\n",
       "      <td id=\"T_408d9_row3_col16\" class=\"data row3 col16\" >-14.97%</td>\n",
       "      <td id=\"T_408d9_row3_col17\" class=\"data row3 col17\" >247,074</td>\n",
       "      <td id=\"T_408d9_row3_col18\" class=\"data row3 col18\" >-18,375</td>\n",
       "      <td id=\"T_408d9_row3_col19\" class=\"data row3 col19\" >-7.44%</td>\n",
       "      <td id=\"T_408d9_row3_col20\" class=\"data row3 col20\" >-3.88%</td>\n",
       "      <td id=\"T_408d9_row3_col21\" class=\"data row3 col21\" >10.70%</td>\n",
       "      <td id=\"T_408d9_row3_col22\" class=\"data row3 col22\" >2021-11-12</td>\n",
       "      <td id=\"T_408d9_row3_col23\" class=\"data row3 col23\" >24</td>\n",
       "    </tr>\n",
       "    <tr>\n",
       "      <th id=\"T_408d9_level0_row4\" class=\"row_heading level0 row4\" >4</th>\n",
       "      <td id=\"T_408d9_row4_col0\" class=\"data row4 col0\" >44707</td>\n",
       "      <td id=\"T_408d9_row4_col1\" class=\"data row4 col1\" >AP</td>\n",
       "      <td id=\"T_408d9_row4_col2\" class=\"data row4 col2\" >2021</td>\n",
       "      <td id=\"T_408d9_row4_col3\" class=\"data row4 col3\" >3</td>\n",
       "      <td id=\"T_408d9_row4_col4\" class=\"data row4 col4\" >0</td>\n",
       "      <td id=\"T_408d9_row4_col5\" class=\"data row4 col5\" >4,491,151</td>\n",
       "      <td id=\"T_408d9_row4_col6\" class=\"data row4 col6\" >4,166,157</td>\n",
       "      <td id=\"T_408d9_row4_col7\" class=\"data row4 col7\" >324,994</td>\n",
       "      <td id=\"T_408d9_row4_col8\" class=\"data row4 col8\" >7.80%</td>\n",
       "      <td id=\"T_408d9_row4_col9\" class=\"data row4 col9\" >4,491,151</td>\n",
       "      <td id=\"T_408d9_row4_col10\" class=\"data row4 col10\" >4,910,383</td>\n",
       "      <td id=\"T_408d9_row4_col11\" class=\"data row4 col11\" >-419,232</td>\n",
       "      <td id=\"T_408d9_row4_col12\" class=\"data row4 col12\" >-8.54%</td>\n",
       "      <td id=\"T_408d9_row4_col13\" class=\"data row4 col13\" >1,031,202</td>\n",
       "      <td id=\"T_408d9_row4_col14\" class=\"data row4 col14\" >1,450,434</td>\n",
       "      <td id=\"T_408d9_row4_col15\" class=\"data row4 col15\" >-419,232</td>\n",
       "      <td id=\"T_408d9_row4_col16\" class=\"data row4 col16\" >-28.90%</td>\n",
       "      <td id=\"T_408d9_row4_col17\" class=\"data row4 col17\" >1,115,001</td>\n",
       "      <td id=\"T_408d9_row4_col18\" class=\"data row4 col18\" >-83,799</td>\n",
       "      <td id=\"T_408d9_row4_col19\" class=\"data row4 col19\" >-7.52%</td>\n",
       "      <td id=\"T_408d9_row4_col20\" class=\"data row4 col20\" >-9.29%</td>\n",
       "      <td id=\"T_408d9_row4_col21\" class=\"data row4 col21\" >15.06%</td>\n",
       "      <td id=\"T_408d9_row4_col22\" class=\"data row4 col22\" >2021-11-09</td>\n",
       "      <td id=\"T_408d9_row4_col23\" class=\"data row4 col23\" >29</td>\n",
       "    </tr>\n",
       "  </tbody>\n",
       "</table>\n"
      ],
      "text/plain": [
       "<pandas.io.formats.style.Styler at 0x20019c8a460>"
      ]
     },
     "execution_count": 43,
     "metadata": {},
     "output_type": "execute_result"
    }
   ],
   "source": [
    "sql = '''\n",
    "SELECT * FROM profits\n",
    "ORDER BY name'''\n",
    "profits = pd.read_sql(sql, conpg)\n",
    "profits.head().style.format(format_dict)"
   ]
  },
  {
   "cell_type": "code",
   "execution_count": null,
   "metadata": {},
   "outputs": [],
   "source": []
  }
 ],
 "metadata": {
  "anaconda-cloud": {},
  "kernelspec": {
   "display_name": "Python 3 (ipykernel)",
   "language": "python",
   "name": "python3"
  },
  "language_info": {
   "codemirror_mode": {
    "name": "ipython",
    "version": 3
   },
   "file_extension": ".py",
   "mimetype": "text/x-python",
   "name": "python",
   "nbconvert_exporter": "python",
   "pygments_lexer": "ipython3",
   "version": "3.8.11"
  }
 },
 "nbformat": 4,
 "nbformat_minor": 1
}
