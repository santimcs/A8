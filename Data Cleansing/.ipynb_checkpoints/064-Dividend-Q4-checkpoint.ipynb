{
 "cells": [
  {
   "cell_type": "code",
   "execution_count": 1,
   "metadata": {},
   "outputs": [
    {
     "data": {
      "text/plain": [
       "(datetime.date(2022, 1, 12), datetime.date(2022, 1, 11))"
      ]
     },
     "execution_count": 1,
     "metadata": {},
     "output_type": "execute_result"
    }
   ],
   "source": [
    "import pandas as pd\n",
    "from sqlalchemy import create_engine\n",
    "from datetime import date, timedelta\n",
    "import calendar\n",
    "\n",
    "engine = create_engine(\"mysql+pymysql://root:@localhost:3306/stock\")\n",
    "const = engine.connect()\n",
    "\n",
    "data_path = \"../data/\"\n",
    "csv_path = \"\\\\Users\\\\User\\\\iCloudDrive\\\\\"\n",
    "box_path = \"\\\\Users\\\\User\\\\Dropbox\\\\\"\n",
    "\n",
    "format_dict = {'Q4':'{:.4f}','Q3':'{:.4f}','Q2':'{:.4f}','Q1':'{:.4f}','DIVIDEND':'{:.4f}',\n",
    "              'PRICE':'{:.2f}','PERCENT':'{:.2f}','SHARES':'{:,}'\n",
    "              }\n",
    "today = date.today()\n",
    "yesterday = today - timedelta(days=1)\n",
    "today, yesterday"
   ]
  },
  {
   "cell_type": "code",
   "execution_count": 2,
   "metadata": {},
   "outputs": [
    {
     "data": {
      "text/plain": [
       "datetime.date(2022, 1, 11)"
      ]
     },
     "execution_count": 2,
     "metadata": {},
     "output_type": "execute_result"
    }
   ],
   "source": [
    "#yesterday = today - timedelta(days=4)\n",
    "yesterday"
   ]
  },
  {
   "cell_type": "markdown",
   "metadata": {},
   "source": [
    "### New dividend stock"
   ]
  },
  {
   "cell_type": "code",
   "execution_count": 11,
   "metadata": {},
   "outputs": [
    {
     "data": {
      "text/html": [
       "<div>\n",
       "<style scoped>\n",
       "    .dataframe tbody tr th:only-of-type {\n",
       "        vertical-align: middle;\n",
       "    }\n",
       "\n",
       "    .dataframe tbody tr th {\n",
       "        vertical-align: top;\n",
       "    }\n",
       "\n",
       "    .dataframe thead th {\n",
       "        text-align: right;\n",
       "    }\n",
       "</style>\n",
       "<table border=\"1\" class=\"dataframe\">\n",
       "  <thead>\n",
       "    <tr style=\"text-align: right;\">\n",
       "      <th></th>\n",
       "      <th>NAME</th>\n",
       "      <th>Q4</th>\n",
       "      <th>Q3</th>\n",
       "      <th>Q2</th>\n",
       "      <th>Q1</th>\n",
       "      <th>DIVIDEND</th>\n",
       "      <th>PRICE</th>\n",
       "      <th>PERCENT</th>\n",
       "      <th>SHARES</th>\n",
       "      <th>XDATE</th>\n",
       "      <th>PAIDDATE</th>\n",
       "      <th>KIND</th>\n",
       "      <th>ACTUAL</th>\n",
       "    </tr>\n",
       "  </thead>\n",
       "  <tbody>\n",
       "    <tr>\n",
       "      <th>0</th>\n",
       "      <td>IP</td>\n",
       "      <td>0.185</td>\n",
       "      <td>0.0</td>\n",
       "      <td>0.0</td>\n",
       "      <td>0.0</td>\n",
       "      <td>0.185</td>\n",
       "      <td>0.0</td>\n",
       "      <td>0.0</td>\n",
       "      <td>4500.0</td>\n",
       "      <td>2022-04-08</td>\n",
       "      <td>2022-04-27</td>\n",
       "      <td></td>\n",
       "      <td>0</td>\n",
       "    </tr>\n",
       "  </tbody>\n",
       "</table>\n",
       "</div>"
      ],
      "text/plain": [
       "  NAME     Q4   Q3   Q2   Q1  DIVIDEND  PRICE  PERCENT  SHARES       XDATE  \\\n",
       "0   IP  0.185  0.0  0.0  0.0     0.185    0.0      0.0  4500.0  2022-04-08   \n",
       "\n",
       "     PAIDDATE KIND  ACTUAL  \n",
       "0  2022-04-27            0  "
      ]
     },
     "execution_count": 11,
     "metadata": {},
     "output_type": "execute_result"
    }
   ],
   "source": [
    "name = 'IP'\n",
    "sql = \"\"\"\n",
    "SELECT * \n",
    "FROM DIVIDEND\n",
    "WHERE name = '%s'\n",
    "\"\"\"\n",
    "sql = sql % name\n",
    "df = pd.read_sql(sql, const)\n",
    "df"
   ]
  },
  {
   "cell_type": "code",
   "execution_count": 10,
   "metadata": {},
   "outputs": [
    {
     "data": {
      "text/plain": [
       "1"
      ]
     },
     "execution_count": 10,
     "metadata": {},
     "output_type": "execute_result"
    }
   ],
   "source": [
    "sql = \"\"\"\n",
    "INSERT INTO dividend\n",
    "VALUES('IP',0.185,0,0.0,0,0.185,0,0,4500,'2022-04-08','2022-04-27','',0)\n",
    "\"\"\"\n",
    "rp = const.execute(sql)\n",
    "rp.rowcount"
   ]
  },
  {
   "cell_type": "markdown",
   "metadata": {},
   "source": [
    "### Start of Update dividend"
   ]
  },
  {
   "cell_type": "code",
   "execution_count": 15,
   "metadata": {},
   "outputs": [],
   "source": [
    "def update_dividend(q4,XDATE,PAIDDATE,actual,name):\n",
    "    sql = \"UPDATE dividend SET q4 = %s, dividend = q1+q2+q3+q4, XDATE = '%s', PAIDDATE = '%s', actual = %s WHERE name = '%s'\"\n",
    "    sql = sql % (q4,XDATE, PAIDDATE, actual,name)\n",
    "    rp = const.execute(sql)\n",
    "    return \"Records updated = \" + str(rp.rowcount)"
   ]
  },
  {
   "cell_type": "code",
   "execution_count": 18,
   "metadata": {
    "scrolled": true
   },
   "outputs": [
    {
     "data": {
      "text/html": [
       "<style  type=\"text/css\" >\n",
       "</style><table id=\"T_8a2e5db3_1630_11ec_9c80_5cbaef7ebc1c\" ><thead>    <tr>        <th class=\"blank level0\" ></th>        <th class=\"col_heading level0 col0\" >NAME</th>        <th class=\"col_heading level0 col1\" >Q4</th>        <th class=\"col_heading level0 col2\" >Q3</th>        <th class=\"col_heading level0 col3\" >Q2</th>        <th class=\"col_heading level0 col4\" >Q1</th>        <th class=\"col_heading level0 col5\" >DIVIDEND</th>        <th class=\"col_heading level0 col6\" >PRICE</th>        <th class=\"col_heading level0 col7\" >PERCENT</th>        <th class=\"col_heading level0 col8\" >SHARES</th>        <th class=\"col_heading level0 col9\" >XDATE</th>        <th class=\"col_heading level0 col10\" >PAIDDATE</th>        <th class=\"col_heading level0 col11\" >KIND</th>        <th class=\"col_heading level0 col12\" >ACTUAL</th>    </tr></thead><tbody>\n",
       "                <tr>\n",
       "                        <th id=\"T_8a2e5db3_1630_11ec_9c80_5cbaef7ebc1clevel0_row0\" class=\"row_heading level0 row0\" >0</th>\n",
       "                        <td id=\"T_8a2e5db3_1630_11ec_9c80_5cbaef7ebc1crow0_col0\" class=\"data row0 col0\" >DOHOME</td>\n",
       "                        <td id=\"T_8a2e5db3_1630_11ec_9c80_5cbaef7ebc1crow0_col1\" class=\"data row0 col1\" >0.1000</td>\n",
       "                        <td id=\"T_8a2e5db3_1630_11ec_9c80_5cbaef7ebc1crow0_col2\" class=\"data row0 col2\" >0.0000</td>\n",
       "                        <td id=\"T_8a2e5db3_1630_11ec_9c80_5cbaef7ebc1crow0_col3\" class=\"data row0 col3\" >0.0000</td>\n",
       "                        <td id=\"T_8a2e5db3_1630_11ec_9c80_5cbaef7ebc1crow0_col4\" class=\"data row0 col4\" >0.0000</td>\n",
       "                        <td id=\"T_8a2e5db3_1630_11ec_9c80_5cbaef7ebc1crow0_col5\" class=\"data row0 col5\" >0.1000</td>\n",
       "                        <td id=\"T_8a2e5db3_1630_11ec_9c80_5cbaef7ebc1crow0_col6\" class=\"data row0 col6\" >0.00</td>\n",
       "                        <td id=\"T_8a2e5db3_1630_11ec_9c80_5cbaef7ebc1crow0_col7\" class=\"data row0 col7\" >0.00</td>\n",
       "                        <td id=\"T_8a2e5db3_1630_11ec_9c80_5cbaef7ebc1crow0_col8\" class=\"data row0 col8\" >0</td>\n",
       "                        <td id=\"T_8a2e5db3_1630_11ec_9c80_5cbaef7ebc1crow0_col9\" class=\"data row0 col9\" >2021-05-21</td>\n",
       "                        <td id=\"T_8a2e5db3_1630_11ec_9c80_5cbaef7ebc1crow0_col10\" class=\"data row0 col10\" >2021-05-21</td>\n",
       "                        <td id=\"T_8a2e5db3_1630_11ec_9c80_5cbaef7ebc1crow0_col11\" class=\"data row0 col11\" ></td>\n",
       "                        <td id=\"T_8a2e5db3_1630_11ec_9c80_5cbaef7ebc1crow0_col12\" class=\"data row0 col12\" >0</td>\n",
       "            </tr>\n",
       "    </tbody></table>"
      ],
      "text/plain": [
       "<pandas.io.formats.style.Styler at 0x1300f500e50>"
      ]
     },
     "execution_count": 18,
     "metadata": {},
     "output_type": "execute_result"
    }
   ],
   "source": [
    "name = 'DOHOME'\n",
    "sql = \"\"\"\n",
    "SELECT * FROM DIVIDEND WHERE name = '%s'\"\"\"\n",
    "sql = sql % name\n",
    "df = pd.read_sql(sql, const)\n",
    "df['SHARES'] = df['SHARES'].astype(int)\n",
    "df.style.format(format_dict)"
   ]
  },
  {
   "cell_type": "code",
   "execution_count": 17,
   "metadata": {},
   "outputs": [
    {
     "data": {
      "text/plain": [
       "'Records updated = 1'"
      ]
     },
     "execution_count": 17,
     "metadata": {},
     "output_type": "execute_result"
    }
   ],
   "source": [
    "q4 = 0.10\n",
    "XDATE = '2021-05-21'\n",
    "PAIDDATE = '2021-05-21'\n",
    "actual = 0\n",
    "\n",
    "update_dividend(q4,XDATE,PAIDDATE,actual,name)"
   ]
  },
  {
   "cell_type": "code",
   "execution_count": null,
   "metadata": {},
   "outputs": [],
   "source": [
    "def update_dividend(shares,q3,actual,name):\n",
    "    sql = \"UPDATE dividend SET shares = %s, q3 = %s, dividend=q1+q2+q3+q4, actual = %s WHERE name = '%s'\"\n",
    "    sql = sql % (shares, q3, actual, name)\n",
    "    rp = const.execute(sql)\n",
    "    return \"Records updated = \" + str(rp.rowcount)"
   ]
  },
  {
   "cell_type": "code",
   "execution_count": null,
   "metadata": {},
   "outputs": [],
   "source": [
    "name = 'ADVANC'\n",
    "sql = \"\"\"\n",
    "SELECT * \n",
    "FROM DIVIDEND\n",
    "WHERE name = '%s'\n",
    "\"\"\"\n",
    "sql = sql % name\n",
    "df = pd.read_sql(sql, const)\n",
    "df['SHARES'] = df['SHARES'].astype(int)\n",
    "df.style.format(format_dict)"
   ]
  },
  {
   "cell_type": "code",
   "execution_count": null,
   "metadata": {},
   "outputs": [],
   "source": [
    "shares = 20000\n",
    "q2 = 0.245\n",
    "actual = 1"
   ]
  },
  {
   "cell_type": "code",
   "execution_count": null,
   "metadata": {},
   "outputs": [],
   "source": [
    "update_dividend(shares,q2,actual,name)"
   ]
  },
  {
   "cell_type": "markdown",
   "metadata": {},
   "source": [
    "### Delete dividend record"
   ]
  },
  {
   "cell_type": "code",
   "execution_count": 9,
   "metadata": {},
   "outputs": [
    {
     "data": {
      "text/plain": [
       "1"
      ]
     },
     "execution_count": 9,
     "metadata": {},
     "output_type": "execute_result"
    }
   ],
   "source": [
    "sql = '''\n",
    "DELETE FROM dividend\n",
    "WHERE name IN (\"IP\")\n",
    "'''\n",
    "rp = const.execute(sql)\n",
    "rp.rowcount"
   ]
  },
  {
   "cell_type": "markdown",
   "metadata": {},
   "source": [
    "### Start of actual output to cloud"
   ]
  },
  {
   "cell_type": "code",
   "execution_count": 4,
   "metadata": {},
   "outputs": [],
   "source": [
    "start_date = '2021-07-29'"
   ]
  },
  {
   "cell_type": "code",
   "execution_count": 5,
   "metadata": {
    "scrolled": true
   },
   "outputs": [
    {
     "name": "stdout",
     "output_type": "stream",
     "text": [
      "\n",
      "SELECT Y.NAME AS name,  FORMAT(Q2,4) AS qtrly,\n",
      "FORMAT(SHARES,0) AS shares, format(Q2*SHARES,2) AS amount, format(Q2*SHARES*.9,2) AS net,\n",
      "xdate as xd_date, paiddate AS pay_date, actual\n",
      "FROM dividend AS Y, price AS P\n",
      "WHERE Y.name = P.name \n",
      "AND shares > 0 AND Q2 > 0 \n",
      "AND P.date = '2021-07-29' \n",
      "ORDER BY name\n",
      "\n"
     ]
    }
   ],
   "source": [
    "sql = \"\"\"\n",
    "SELECT Y.NAME AS name,  FORMAT(Q2,4) AS qtrly,\n",
    "FORMAT(SHARES,0) AS shares, format(Q2*SHARES,2) AS amount, format(Q2*SHARES*.9,2) AS net,\n",
    "xdate as xd_date, paiddate AS pay_date, actual\n",
    "FROM dividend AS Y, price AS P\n",
    "WHERE Y.name = P.name \n",
    "AND shares > 0 AND Q2 > 0 \n",
    "AND P.date = '%s' \n",
    "ORDER BY name\n",
    "\"\"\"\n",
    "sql = sql % (start_date)\n",
    "print(sql)"
   ]
  },
  {
   "cell_type": "code",
   "execution_count": null,
   "metadata": {},
   "outputs": [],
   "source": [
    "dividend = pd.read_sql(sql, const)\n",
    "dividend.set_index('name', inplace=True)\n",
    "dividend.sort_values(['xd_date'],ascending=True)"
   ]
  },
  {
   "cell_type": "code",
   "execution_count": null,
   "metadata": {},
   "outputs": [],
   "source": [
    "file_name = 'dividend-q2.csv'\n",
    "data_file = data_path + file_name\n",
    "output_file = csv_path + file_name\n",
    "box_file = box_path + file_name\n",
    "data_file, output_file, box_file"
   ]
  },
  {
   "cell_type": "code",
   "execution_count": null,
   "metadata": {},
   "outputs": [],
   "source": [
    "dividend.sort_values(['name'],ascending=[True]).to_csv(output_file)\n",
    "dividend.sort_values(['name'],ascending=[True]).to_csv(data_file)\n",
    "dividend.sort_values(['name'],ascending=[True]).to_csv(box_file)"
   ]
  },
  {
   "cell_type": "markdown",
   "metadata": {},
   "source": [
    "### End of output to cloud"
   ]
  },
  {
   "cell_type": "markdown",
   "metadata": {},
   "source": [
    "### Start of estimate output to cloud"
   ]
  },
  {
   "cell_type": "code",
   "execution_count": null,
   "metadata": {},
   "outputs": [],
   "source": [
    "sql = \"\"\"\n",
    "SELECT Y.NAME AS name, xdate as xd_date, paiddate AS pay_date, FORMAT(Q4,4) AS qtrly,\n",
    "FORMAT(SHARES,0) AS shares, format(Q4*SHARES,2) AS amount,\n",
    "FORMAT(dividend,4) AS yrly, FORMAT(P.price,2) AS price, FORMAT(dividend/P.price*100,2) AS yield\n",
    "FROM dividend AS Y, price AS P\n",
    "WHERE Y.name = P.name\n",
    "AND P.date = '%s' AND shares > 0 AND actual = 0\n",
    "ORDER BY xdate ASC, name ASC\"\"\"\n",
    "sql = sql % yesterday\n",
    "div_est = pd.read_sql(sql, const)\n",
    "div_est.set_index('name', inplace=True)\n",
    "div_est"
   ]
  },
  {
   "cell_type": "code",
   "execution_count": null,
   "metadata": {},
   "outputs": [],
   "source": [
    "file_name = 'div_est.csv'\n",
    "data_file = data_path + file_name\n",
    "output_file = csv_path + file_name\n",
    "box_file = box_path + file_name\n",
    "data_file, output_file, box_file"
   ]
  },
  {
   "cell_type": "code",
   "execution_count": null,
   "metadata": {},
   "outputs": [],
   "source": [
    "div_est.sort_values(['xd_date'],ascending=[True]).to_csv(output_file)\n",
    "div_est.sort_values(['xd_date'],ascending=[True]).to_csv(data_file)\n",
    "div_est.sort_values(['xd_date'],ascending=[True]).to_csv(box_file)"
   ]
  },
  {
   "cell_type": "markdown",
   "metadata": {},
   "source": [
    "### End of estimate output to cloud"
   ]
  },
  {
   "cell_type": "markdown",
   "metadata": {},
   "source": [
    "### Move dividend stock to backup table"
   ]
  },
  {
   "cell_type": "code",
   "execution_count": null,
   "metadata": {},
   "outputs": [],
   "source": [
    "name = 'WHART'\n",
    "sql1 = '''\n",
    "INSERT INTO div_bak\n",
    "SELECT * FROM dividend\n",
    "WHERE name = \"%s\"'''\n",
    "sql1 = sql1 % name\n",
    "rp1 = const.execute(sql1)\n",
    "\n",
    "sql2 = '''\n",
    "DELETE FROM dividend\n",
    "WHERE name = \"%s\"'''\n",
    "sql2 = sql2 % name\n",
    "rp2 = const.execute(sql2)\n",
    "rp1.rowcount, rp2.rowcount"
   ]
  },
  {
   "cell_type": "code",
   "execution_count": null,
   "metadata": {},
   "outputs": [],
   "source": [
    "sql = '''\n",
    "SELECT * \n",
    "FROM div_bak'''\n",
    "div_bak = pd.read_sql(sql, const)\n",
    "div_bak"
   ]
  },
  {
   "cell_type": "markdown",
   "metadata": {},
   "source": [
    "### End of move dividend stock"
   ]
  },
  {
   "cell_type": "code",
   "execution_count": null,
   "metadata": {},
   "outputs": [],
   "source": [
    "sql = \"\"\"\n",
    "SELECT NAME AS name, xdate as xd_date, paiddate AS pay_date, Q1 AS qtr,\n",
    "SHARES AS shares, Q3*SHARES AS dividend\n",
    "FROM dividend\n",
    "WHERE q1 > 0 AND shares > 0\n",
    "ORDER BY name\"\"\"\n",
    "df_div = pd.read_sql(sql, const)\n",
    "df_div.set_index('name', inplace=True)\n",
    "df_div.sort_values(['dividend'],ascending=[False])"
   ]
  },
  {
   "cell_type": "code",
   "execution_count": null,
   "metadata": {},
   "outputs": [],
   "source": [
    "df_div.dividend.sum()"
   ]
  },
  {
   "cell_type": "code",
   "execution_count": null,
   "metadata": {},
   "outputs": [],
   "source": [
    "df_div.dtypes"
   ]
  },
  {
   "cell_type": "code",
   "execution_count": null,
   "metadata": {},
   "outputs": [],
   "source": [
    "df_div.shares.astype(int)\n",
    "df_div['shares'] = df_div.shares.astype(int)\n",
    "df_div.dtypes"
   ]
  },
  {
   "cell_type": "code",
   "execution_count": null,
   "metadata": {},
   "outputs": [],
   "source": [
    "sql = '''\n",
    "SELECT name, volbuy AS shares, price AS unit_cost, volbuy * price AS cost \n",
    "FROM buy'''\n",
    "df_buy = pd.read_sql(sql, const)\n",
    "df_buy['shares'] = df_buy.shares.astype(int)\n",
    "df_buy.dtypes"
   ]
  },
  {
   "cell_type": "code",
   "execution_count": null,
   "metadata": {},
   "outputs": [],
   "source": [
    "df_merge = pd.merge(df_buy, df_div, on='name', how='inner')\n",
    "df_merge['pct'] = df_merge['dividend'] / df_merge['cost'] * 100\n",
    "df_merge.sort_values(by=['pct','name'],ascending=[False,True])"
   ]
  },
  {
   "cell_type": "code",
   "execution_count": null,
   "metadata": {},
   "outputs": [],
   "source": [
    "df_merge.dividend.sum()"
   ]
  },
  {
   "cell_type": "code",
   "execution_count": null,
   "metadata": {},
   "outputs": [],
   "source": [
    "df_merge.dtypes"
   ]
  },
  {
   "cell_type": "code",
   "execution_count": null,
   "metadata": {},
   "outputs": [],
   "source": [
    "file_name = 'div-21q1.csv'\n",
    "data_file = data_path + file_name\n",
    "output_file = csv_path + file_name\n",
    "df_merge.reset_index\n",
    "df_merge.sort_values(by=['xd_date','name'],ascending=[True,True]).to_csv(output_file)\n",
    "df_merge.sort_values(by=['xd_date','name'],ascending=[True,True]).to_csv(data_file)"
   ]
  },
  {
   "cell_type": "code",
   "execution_count": null,
   "metadata": {},
   "outputs": [],
   "source": [
    "sql = \"\"\"\n",
    "SELECT * \n",
    "FROM buy \n",
    "WHERE active = 1 \n",
    "ORDER BY name\"\"\"\n",
    "df_tmp = pd.read_sql(sql, const)\n",
    "df_tmp"
   ]
  },
  {
   "cell_type": "markdown",
   "metadata": {},
   "source": [
    "### XTR PRICE PROCESS"
   ]
  },
  {
   "cell_type": "code",
   "execution_count": null,
   "metadata": {
    "scrolled": true
   },
   "outputs": [],
   "source": [
    "sql = \"\"\"\n",
    "SELECT name, COUNT(*) AS days \n",
    "FROM price\n",
    "GROUP BY name\n",
    "ORDER BY COUNT(*) ASC\"\"\"\n",
    "df_tmp = pd.read_sql(sql, const)\n",
    "df_tmp.head(20)"
   ]
  },
  {
   "cell_type": "code",
   "execution_count": null,
   "metadata": {},
   "outputs": [],
   "source": [
    "name = 'SABUY'\n",
    "name"
   ]
  },
  {
   "cell_type": "code",
   "execution_count": null,
   "metadata": {},
   "outputs": [],
   "source": [
    "sql = \"\"\"\n",
    "SELECT *\n",
    "FROM price\n",
    "WHERE name = '%s'\"\"\"\n",
    "sql = sql % name\n",
    "print(sql)"
   ]
  },
  {
   "cell_type": "code",
   "execution_count": null,
   "metadata": {},
   "outputs": [],
   "source": [
    "df_price = pd.read_sql(sql, const)\n",
    "df_price.shape"
   ]
  },
  {
   "cell_type": "code",
   "execution_count": null,
   "metadata": {
    "scrolled": true
   },
   "outputs": [],
   "source": [
    "df_price.tail()"
   ]
  },
  {
   "cell_type": "code",
   "execution_count": null,
   "metadata": {
    "scrolled": true
   },
   "outputs": [],
   "source": [
    "sql = \"\"\"\n",
    "DELETE\n",
    "FROM price\n",
    "WHERE name = '%s'\"\"\"\n",
    "sql = sql % name\n",
    "print(sql)"
   ]
  },
  {
   "cell_type": "code",
   "execution_count": null,
   "metadata": {},
   "outputs": [],
   "source": [
    "rp = const.execute(sql)\n",
    "rp.rowcount"
   ]
  },
  {
   "cell_type": "code",
   "execution_count": null,
   "metadata": {},
   "outputs": [],
   "source": []
  }
 ],
 "metadata": {
  "anaconda-cloud": {},
  "kernelspec": {
   "display_name": "Python 3 (ipykernel)",
   "language": "python",
   "name": "python3"
  },
  "language_info": {
   "codemirror_mode": {
    "name": "ipython",
    "version": 3
   },
   "file_extension": ".py",
   "mimetype": "text/x-python",
   "name": "python",
   "nbconvert_exporter": "python",
   "pygments_lexer": "ipython3",
   "version": "3.8.11"
  }
 },
 "nbformat": 4,
 "nbformat_minor": 1
}
