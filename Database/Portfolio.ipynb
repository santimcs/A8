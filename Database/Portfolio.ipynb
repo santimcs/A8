{
 "cells": [
  {
   "cell_type": "code",
   "execution_count": 1,
   "metadata": {},
   "outputs": [],
   "source": [
    "import pandas as pd\n",
    "from datetime import date, timedelta\n",
    "from sqlalchemy import create_engine\n",
    "\n",
    "engine = create_engine('mysql+pymysql://root:@localhost:3306/portfolio_development')\n",
    "conpf = engine.connect()"
   ]
  },
  {
   "cell_type": "markdown",
   "metadata": {},
   "source": [
    "### Delete from buys table en mass by stock name"
   ]
  },
  {
   "cell_type": "code",
   "execution_count": 20,
   "metadata": {},
   "outputs": [
    {
     "data": {
      "text/plain": [
       "Index(['id', 'stock_id', 'date', 'qty', 'price', 'fee', 'vat', 'status', 'net',\n",
       "       'kind', 'chart'],\n",
       "      dtype='object')"
      ]
     },
     "execution_count": 20,
     "metadata": {},
     "output_type": "execute_result"
    }
   ],
   "source": [
    "sql = '''\n",
    "SELECT * FROM buys LIMIT 1'''\n",
    "buys = pd.read_sql(sql, conpf)\n",
    "buys.columns"
   ]
  },
  {
   "cell_type": "code",
   "execution_count": 21,
   "metadata": {},
   "outputs": [
    {
     "data": {
      "text/plain": [
       "Index(['id', 'name', 'category_id', 'website'], dtype='object')"
      ]
     },
     "execution_count": 21,
     "metadata": {},
     "output_type": "execute_result"
    }
   ],
   "source": [
    "sql = '''\n",
    "SELECT * FROM stocks LIMIT 1'''\n",
    "stocks = pd.read_sql(sql, conpf)\n",
    "stocks.columns"
   ]
  },
  {
   "cell_type": "code",
   "execution_count": 23,
   "metadata": {},
   "outputs": [
    {
     "data": {
      "text/html": [
       "<div>\n",
       "<style scoped>\n",
       "    .dataframe tbody tr th:only-of-type {\n",
       "        vertical-align: middle;\n",
       "    }\n",
       "\n",
       "    .dataframe tbody tr th {\n",
       "        vertical-align: top;\n",
       "    }\n",
       "\n",
       "    .dataframe thead th {\n",
       "        text-align: right;\n",
       "    }\n",
       "</style>\n",
       "<table border=\"1\" class=\"dataframe\">\n",
       "  <thead>\n",
       "    <tr style=\"text-align: right;\">\n",
       "      <th></th>\n",
       "      <th>id</th>\n",
       "      <th>name</th>\n",
       "      <th>category_id</th>\n",
       "      <th>website</th>\n",
       "    </tr>\n",
       "  </thead>\n",
       "  <tbody>\n",
       "    <tr>\n",
       "      <th>0</th>\n",
       "      <td>145</td>\n",
       "      <td>NOBLE</td>\n",
       "      <td>3</td>\n",
       "      <td></td>\n",
       "    </tr>\n",
       "  </tbody>\n",
       "</table>\n",
       "</div>"
      ],
      "text/plain": [
       "    id   name  category_id website\n",
       "0  145  NOBLE            3        "
      ]
     },
     "execution_count": 23,
     "metadata": {},
     "output_type": "execute_result"
    }
   ],
   "source": [
    "sql = '''\n",
    "SELECT * FROM stocks WHERE name = \"NOBLE\"'''\n",
    "stocks = pd.read_sql(sql, conpf)\n",
    "stocks"
   ]
  },
  {
   "cell_type": "code",
   "execution_count": 32,
   "metadata": {},
   "outputs": [
    {
     "data": {
      "text/html": [
       "<div>\n",
       "<style scoped>\n",
       "    .dataframe tbody tr th:only-of-type {\n",
       "        vertical-align: middle;\n",
       "    }\n",
       "\n",
       "    .dataframe tbody tr th {\n",
       "        vertical-align: top;\n",
       "    }\n",
       "\n",
       "    .dataframe thead th {\n",
       "        text-align: right;\n",
       "    }\n",
       "</style>\n",
       "<table border=\"1\" class=\"dataframe\">\n",
       "  <thead>\n",
       "    <tr style=\"text-align: right;\">\n",
       "      <th></th>\n",
       "      <th>id</th>\n",
       "      <th>stock_id</th>\n",
       "      <th>date</th>\n",
       "      <th>qty</th>\n",
       "      <th>price</th>\n",
       "      <th>fee</th>\n",
       "      <th>vat</th>\n",
       "      <th>status</th>\n",
       "      <th>net</th>\n",
       "      <th>kind</th>\n",
       "      <th>chart</th>\n",
       "    </tr>\n",
       "  </thead>\n",
       "  <tbody>\n",
       "    <tr>\n",
       "      <th>0</th>\n",
       "      <td>895</td>\n",
       "      <td>145</td>\n",
       "      <td>2021-05-13</td>\n",
       "      <td>6000</td>\n",
       "      <td>7.20</td>\n",
       "      <td>89.42</td>\n",
       "      <td>6.26</td>\n",
       "      <td>Active</td>\n",
       "      <td>43295.68</td>\n",
       "      <td>HD</td>\n",
       "      <td>None</td>\n",
       "    </tr>\n",
       "    <tr>\n",
       "      <th>1</th>\n",
       "      <td>889</td>\n",
       "      <td>145</td>\n",
       "      <td>2021-05-11</td>\n",
       "      <td>6000</td>\n",
       "      <td>8.00</td>\n",
       "      <td>99.36</td>\n",
       "      <td>6.96</td>\n",
       "      <td>Active</td>\n",
       "      <td>48106.32</td>\n",
       "      <td>HD</td>\n",
       "      <td>None</td>\n",
       "    </tr>\n",
       "    <tr>\n",
       "      <th>2</th>\n",
       "      <td>987</td>\n",
       "      <td>145</td>\n",
       "      <td>2021-08-13</td>\n",
       "      <td>6000</td>\n",
       "      <td>6.50</td>\n",
       "      <td>80.73</td>\n",
       "      <td>5.65</td>\n",
       "      <td>Active</td>\n",
       "      <td>39086.38</td>\n",
       "      <td>HD</td>\n",
       "      <td>None</td>\n",
       "    </tr>\n",
       "    <tr>\n",
       "      <th>3</th>\n",
       "      <td>1082</td>\n",
       "      <td>145</td>\n",
       "      <td>2021-12-20</td>\n",
       "      <td>21000</td>\n",
       "      <td>6.10</td>\n",
       "      <td>265.17</td>\n",
       "      <td>18.56</td>\n",
       "      <td>Active</td>\n",
       "      <td>128383.73</td>\n",
       "      <td>HD</td>\n",
       "      <td>None</td>\n",
       "    </tr>\n",
       "    <tr>\n",
       "      <th>4</th>\n",
       "      <td>1039</td>\n",
       "      <td>145</td>\n",
       "      <td>2021-11-03</td>\n",
       "      <td>6000</td>\n",
       "      <td>6.40</td>\n",
       "      <td>79.49</td>\n",
       "      <td>5.56</td>\n",
       "      <td>Active</td>\n",
       "      <td>38485.05</td>\n",
       "      <td>HD</td>\n",
       "      <td>None</td>\n",
       "    </tr>\n",
       "    <tr>\n",
       "      <th>5</th>\n",
       "      <td>1058</td>\n",
       "      <td>145</td>\n",
       "      <td>2021-11-29</td>\n",
       "      <td>6000</td>\n",
       "      <td>6.25</td>\n",
       "      <td>77.63</td>\n",
       "      <td>5.43</td>\n",
       "      <td>Active</td>\n",
       "      <td>37583.06</td>\n",
       "      <td>HD</td>\n",
       "      <td>None</td>\n",
       "    </tr>\n",
       "  </tbody>\n",
       "</table>\n",
       "</div>"
      ],
      "text/plain": [
       "     id  stock_id        date    qty  price     fee    vat  status        net  \\\n",
       "0   895       145  2021-05-13   6000   7.20   89.42   6.26  Active   43295.68   \n",
       "1   889       145  2021-05-11   6000   8.00   99.36   6.96  Active   48106.32   \n",
       "2   987       145  2021-08-13   6000   6.50   80.73   5.65  Active   39086.38   \n",
       "3  1082       145  2021-12-20  21000   6.10  265.17  18.56  Active  128383.73   \n",
       "4  1039       145  2021-11-03   6000   6.40   79.49   5.56  Active   38485.05   \n",
       "5  1058       145  2021-11-29   6000   6.25   77.63   5.43  Active   37583.06   \n",
       "\n",
       "  kind chart  \n",
       "0   HD  None  \n",
       "1   HD  None  \n",
       "2   HD  None  \n",
       "3   HD  None  \n",
       "4   HD  None  \n",
       "5   HD  None  "
      ]
     },
     "execution_count": 32,
     "metadata": {},
     "output_type": "execute_result"
    }
   ],
   "source": [
    "id = 145\n",
    "sql = '''\n",
    "SELECT * \n",
    "FROM buys\n",
    "WHERE stock_id = %s\n",
    "AND status = \"Active\"\n",
    "AND qty < 63000\n",
    "'''\n",
    "sql = sql % id\n",
    "df = pd.read_sql(sql, conpf)\n",
    "df"
   ]
  },
  {
   "cell_type": "code",
   "execution_count": 33,
   "metadata": {},
   "outputs": [
    {
     "data": {
      "text/plain": [
       "51000"
      ]
     },
     "execution_count": 33,
     "metadata": {},
     "output_type": "execute_result"
    }
   ],
   "source": [
    "df.qty.sum()"
   ]
  },
  {
   "cell_type": "code",
   "execution_count": 34,
   "metadata": {},
   "outputs": [
    {
     "name": "stdout",
     "output_type": "stream",
     "text": [
      "\n",
      "DELETE \n",
      "FROM buys\n",
      "WHERE stock_id = 145\n",
      "AND status = \"Active\"\n",
      "AND qty < 63000\n",
      "\n"
     ]
    }
   ],
   "source": [
    "sqlDel = '''\n",
    "DELETE \n",
    "FROM buys\n",
    "WHERE stock_id = 145\n",
    "AND status = \"Active\"\n",
    "AND qty < 63000\n",
    "'''\n",
    "print(sqlDel)"
   ]
  },
  {
   "cell_type": "code",
   "execution_count": 35,
   "metadata": {},
   "outputs": [
    {
     "data": {
      "text/plain": [
       "6"
      ]
     },
     "execution_count": 35,
     "metadata": {},
     "output_type": "execute_result"
    }
   ],
   "source": [
    "rp = conpf.execute(sqlDel)\n",
    "rp.rowcount"
   ]
  },
  {
   "cell_type": "code",
   "execution_count": null,
   "metadata": {},
   "outputs": [],
   "source": []
  }
 ],
 "metadata": {
  "anaconda-cloud": {},
  "kernelspec": {
   "display_name": "Python 3 (ipykernel)",
   "language": "python",
   "name": "python3"
  },
  "language_info": {
   "codemirror_mode": {
    "name": "ipython",
    "version": 3
   },
   "file_extension": ".py",
   "mimetype": "text/x-python",
   "name": "python",
   "nbconvert_exporter": "python",
   "pygments_lexer": "ipython3",
   "version": "3.8.11"
  }
 },
 "nbformat": 4,
 "nbformat_minor": 1
}
