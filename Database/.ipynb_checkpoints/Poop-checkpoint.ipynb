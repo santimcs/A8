{
 "cells": [
  {
   "cell_type": "code",
   "execution_count": 1,
   "metadata": {},
   "outputs": [],
   "source": [
    "%matplotlib inline\n",
    "import matplotlib.pyplot as plt\n",
    "import pandas as pd\n",
    "from sqlalchemy import create_engine\n",
    "from datetime import date, timedelta\n",
    "import calendar\n",
    "import sqlite3 as db\n",
    "\n",
    "pd.options.display.max_rows = 34\n",
    "\n",
    "engine = create_engine(\"sqlite:///c:\\\\ruby\\\\do-poop\\\\db\\\\development.sqlite3\")\n",
    "conn = engine.connect()"
   ]
  },
  {
   "cell_type": "code",
   "execution_count": 2,
   "metadata": {},
   "outputs": [
    {
     "data": {
      "text/plain": [
       "id           int64\n",
       "date        object\n",
       "pooped      object\n",
       "hour         int64\n",
       "grade        int64\n",
       "snack_id     int64\n",
       "food_id      int64\n",
       "dtype: object"
      ]
     },
     "execution_count": 2,
     "metadata": {},
     "output_type": "execute_result"
    }
   ],
   "source": [
    "sql = '''\n",
    "SELECT * \n",
    "FROM poops\n",
    "'''\n",
    "poops = pd.read_sql(sql, conn)\n",
    "poops.dtypes"
   ]
  },
  {
   "cell_type": "code",
   "execution_count": 26,
   "metadata": {},
   "outputs": [
    {
     "data": {
      "text/plain": [
       "7"
      ]
     },
     "execution_count": 26,
     "metadata": {},
     "output_type": "execute_result"
    }
   ],
   "source": [
    "sqlUpd = \"\"\"\n",
    "UPDATE poops\n",
    "SET food_id = 1\"\"\"\n",
    "rp = conn.execute(sqlUpd)\n",
    "rp.rowcount"
   ]
  },
  {
   "cell_type": "code",
   "execution_count": 3,
   "metadata": {},
   "outputs": [
    {
     "data": {
      "text/plain": [
       "id       int64\n",
       "seq      int64\n",
       "name    object\n",
       "dtype: object"
      ]
     },
     "execution_count": 3,
     "metadata": {},
     "output_type": "execute_result"
    }
   ],
   "source": [
    "sql = '''\n",
    "SELECT * \n",
    "FROM snacks\n",
    "'''\n",
    "snacks = pd.read_sql(sql, conn)\n",
    "snacks.dtypes"
   ]
  },
  {
   "cell_type": "code",
   "execution_count": null,
   "metadata": {},
   "outputs": [],
   "source": []
  }
 ],
 "metadata": {
  "anaconda-cloud": {},
  "kernelspec": {
   "display_name": "Python 3 (ipykernel)",
   "language": "python",
   "name": "python3"
  },
  "language_info": {
   "codemirror_mode": {
    "name": "ipython",
    "version": 3
   },
   "file_extension": ".py",
   "mimetype": "text/x-python",
   "name": "python",
   "nbconvert_exporter": "python",
   "pygments_lexer": "ipython3",
   "version": "3.8.11"
  }
 },
 "nbformat": 4,
 "nbformat_minor": 1
}
