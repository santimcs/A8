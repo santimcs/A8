{
 "cells": [
  {
   "cell_type": "markdown",
   "metadata": {},
   "source": [
    "### Restart and run all"
   ]
  },
  {
   "cell_type": "code",
   "execution_count": 1,
   "metadata": {},
   "outputs": [
    {
     "data": {
      "text/plain": [
       "datetime.date(2022, 1, 10)"
      ]
     },
     "execution_count": 1,
     "metadata": {},
     "output_type": "execute_result"
    }
   ],
   "source": [
    "%matplotlib inline\n",
    "import matplotlib.pyplot as plt\n",
    "import pandas as pd\n",
    "from sqlalchemy import create_engine\n",
    "from datetime import date, timedelta\n",
    "import calendar\n",
    "\n",
    "engine = create_engine(\"sqlite:///c:\\\\ruby\\\\expense\\\\db\\\\development.sqlite3\")\n",
    "connection = engine.connect()\n",
    "\n",
    "format_dict = {'amount':'{:,}','y_amt':'{:,}','yoy_gain':'{:,}',\n",
    "               'q_amt_c':'{:,}','q_amt_p':'{:,}',\n",
    "               'aq_amt':'{:,}','ay_amt':'{:,}','acc_gain':'{:,}',\n",
    "               'latest_amt':'{:,}','previous_amt':'{:,}','inc_amt':'{:,}',\n",
    "               'latest_amt_q':'{:,}','previous_amt_q':'{:,}','inc_amt_q':'{:,}',\n",
    "               'latest_amt_y':'{:,}','previous_amt_y':'{:,}','inc_amt_y':'{:,}',\n",
    "               'inc_pct':'{:.2f}','inc_pct_q':'{:.2f}','inc_pct_y':'{:.2f}'}\n",
    "year = 2022\n",
    "today = date.today()\n",
    "today"
   ]
  },
  {
   "cell_type": "code",
   "execution_count": 2,
   "metadata": {},
   "outputs": [
    {
     "name": "stdout",
     "output_type": "stream",
     "text": [
      "\n",
      "SELECT date, amount, C.name AS item, G.name AS kind, strftime(\"%m\", date) as Month \n",
      "FROM transactions T \n",
      "JOIN categories C ON category_id = C.id \n",
      "JOIN groups G ON group_id = G.id \n",
      "WHERE strftime('%Y', date) = '2022'\n",
      "\n"
     ]
    }
   ],
   "source": [
    "sql = \"\"\"\n",
    "SELECT date, amount, C.name AS item, G.name AS kind, strftime(\"%m\", date) as Month \n",
    "FROM transactions T \n",
    "JOIN categories C ON category_id = C.id \n",
    "JOIN groups G ON group_id = G.id \n",
    "WHERE strftime('%Y', date) = '2022'\n",
    "\"\"\"\n",
    "#sql = sql % year\n",
    "print(sql)"
   ]
  },
  {
   "cell_type": "code",
   "execution_count": 3,
   "metadata": {},
   "outputs": [
    {
     "data": {
      "text/html": [
       "<style type=\"text/css\">\n",
       "</style>\n",
       "<table id=\"T_f45c5_\">\n",
       "  <thead>\n",
       "    <tr>\n",
       "      <th class=\"blank level0\" >&nbsp;</th>\n",
       "      <th class=\"col_heading level0 col0\" >date</th>\n",
       "      <th class=\"col_heading level0 col1\" >amount</th>\n",
       "      <th class=\"col_heading level0 col2\" >item</th>\n",
       "      <th class=\"col_heading level0 col3\" >kind</th>\n",
       "      <th class=\"col_heading level0 col4\" >Month</th>\n",
       "    </tr>\n",
       "  </thead>\n",
       "  <tbody>\n",
       "    <tr>\n",
       "      <th id=\"T_f45c5_level0_row0\" class=\"row_heading level0 row0\" >0</th>\n",
       "      <td id=\"T_f45c5_row0_col0\" class=\"data row0 col0\" >2022-01-02</td>\n",
       "      <td id=\"T_f45c5_row0_col1\" class=\"data row0 col1\" >2,430</td>\n",
       "      <td id=\"T_f45c5_row0_col2\" class=\"data row0 col2\" >Food</td>\n",
       "      <td id=\"T_f45c5_row0_col3\" class=\"data row0 col3\" >Food</td>\n",
       "      <td id=\"T_f45c5_row0_col4\" class=\"data row0 col4\" >01</td>\n",
       "    </tr>\n",
       "    <tr>\n",
       "      <th id=\"T_f45c5_level0_row1\" class=\"row_heading level0 row1\" >1</th>\n",
       "      <td id=\"T_f45c5_row1_col0\" class=\"data row1 col0\" >2022-01-06</td>\n",
       "      <td id=\"T_f45c5_row1_col1\" class=\"data row1 col1\" >780</td>\n",
       "      <td id=\"T_f45c5_row1_col2\" class=\"data row1 col2\" >Pets</td>\n",
       "      <td id=\"T_f45c5_row1_col3\" class=\"data row1 col3\" >Pets</td>\n",
       "      <td id=\"T_f45c5_row1_col4\" class=\"data row1 col4\" >01</td>\n",
       "    </tr>\n",
       "    <tr>\n",
       "      <th id=\"T_f45c5_level0_row2\" class=\"row_heading level0 row2\" >2</th>\n",
       "      <td id=\"T_f45c5_row2_col0\" class=\"data row2 col0\" >2022-01-07</td>\n",
       "      <td id=\"T_f45c5_row2_col1\" class=\"data row2 col1\" >1,330</td>\n",
       "      <td id=\"T_f45c5_row2_col2\" class=\"data row2 col2\" >Medicine</td>\n",
       "      <td id=\"T_f45c5_row2_col3\" class=\"data row2 col3\" >Medicine</td>\n",
       "      <td id=\"T_f45c5_row2_col4\" class=\"data row2 col4\" >01</td>\n",
       "    </tr>\n",
       "    <tr>\n",
       "      <th id=\"T_f45c5_level0_row3\" class=\"row_heading level0 row3\" >3</th>\n",
       "      <td id=\"T_f45c5_row3_col0\" class=\"data row3 col0\" >2022-01-07</td>\n",
       "      <td id=\"T_f45c5_row3_col1\" class=\"data row3 col1\" >200</td>\n",
       "      <td id=\"T_f45c5_row3_col2\" class=\"data row3 col2\" >Transportation</td>\n",
       "      <td id=\"T_f45c5_row3_col3\" class=\"data row3 col3\" >Transportation</td>\n",
       "      <td id=\"T_f45c5_row3_col4\" class=\"data row3 col4\" >01</td>\n",
       "    </tr>\n",
       "    <tr>\n",
       "      <th id=\"T_f45c5_level0_row4\" class=\"row_heading level0 row4\" >4</th>\n",
       "      <td id=\"T_f45c5_row4_col0\" class=\"data row4 col0\" >2022-01-08</td>\n",
       "      <td id=\"T_f45c5_row4_col1\" class=\"data row4 col1\" >2,820</td>\n",
       "      <td id=\"T_f45c5_row4_col2\" class=\"data row4 col2\" >Parent</td>\n",
       "      <td id=\"T_f45c5_row4_col3\" class=\"data row4 col3\" >Parent</td>\n",
       "      <td id=\"T_f45c5_row4_col4\" class=\"data row4 col4\" >01</td>\n",
       "    </tr>\n",
       "    <tr>\n",
       "      <th id=\"T_f45c5_level0_row5\" class=\"row_heading level0 row5\" >5</th>\n",
       "      <td id=\"T_f45c5_row5_col0\" class=\"data row5 col0\" >2022-01-08</td>\n",
       "      <td id=\"T_f45c5_row5_col1\" class=\"data row5 col1\" >4,120</td>\n",
       "      <td id=\"T_f45c5_row5_col2\" class=\"data row5 col2\" >Mother</td>\n",
       "      <td id=\"T_f45c5_row5_col3\" class=\"data row5 col3\" >Parent</td>\n",
       "      <td id=\"T_f45c5_row5_col4\" class=\"data row5 col4\" >01</td>\n",
       "    </tr>\n",
       "    <tr>\n",
       "      <th id=\"T_f45c5_level0_row6\" class=\"row_heading level0 row6\" >6</th>\n",
       "      <td id=\"T_f45c5_row6_col0\" class=\"data row6 col0\" >2022-01-08</td>\n",
       "      <td id=\"T_f45c5_row6_col1\" class=\"data row6 col1\" >150</td>\n",
       "      <td id=\"T_f45c5_row6_col2\" class=\"data row6 col2\" >Transportation</td>\n",
       "      <td id=\"T_f45c5_row6_col3\" class=\"data row6 col3\" >Transportation</td>\n",
       "      <td id=\"T_f45c5_row6_col4\" class=\"data row6 col4\" >01</td>\n",
       "    </tr>\n",
       "    <tr>\n",
       "      <th id=\"T_f45c5_level0_row7\" class=\"row_heading level0 row7\" >7</th>\n",
       "      <td id=\"T_f45c5_row7_col0\" class=\"data row7 col0\" >2022-01-09</td>\n",
       "      <td id=\"T_f45c5_row7_col1\" class=\"data row7 col1\" >640</td>\n",
       "      <td id=\"T_f45c5_row7_col2\" class=\"data row7 col2\" >Food</td>\n",
       "      <td id=\"T_f45c5_row7_col3\" class=\"data row7 col3\" >Food</td>\n",
       "      <td id=\"T_f45c5_row7_col4\" class=\"data row7 col4\" >01</td>\n",
       "    </tr>\n",
       "    <tr>\n",
       "      <th id=\"T_f45c5_level0_row8\" class=\"row_heading level0 row8\" >8</th>\n",
       "      <td id=\"T_f45c5_row8_col0\" class=\"data row8 col0\" >2022-01-10</td>\n",
       "      <td id=\"T_f45c5_row8_col1\" class=\"data row8 col1\" >180</td>\n",
       "      <td id=\"T_f45c5_row8_col2\" class=\"data row8 col2\" >Food</td>\n",
       "      <td id=\"T_f45c5_row8_col3\" class=\"data row8 col3\" >Food</td>\n",
       "      <td id=\"T_f45c5_row8_col4\" class=\"data row8 col4\" >01</td>\n",
       "    </tr>\n",
       "    <tr>\n",
       "      <th id=\"T_f45c5_level0_row9\" class=\"row_heading level0 row9\" >9</th>\n",
       "      <td id=\"T_f45c5_row9_col0\" class=\"data row9 col0\" >2022-01-10</td>\n",
       "      <td id=\"T_f45c5_row9_col1\" class=\"data row9 col1\" >7,340</td>\n",
       "      <td id=\"T_f45c5_row9_col2\" class=\"data row9 col2\" >Pets</td>\n",
       "      <td id=\"T_f45c5_row9_col3\" class=\"data row9 col3\" >Pets</td>\n",
       "      <td id=\"T_f45c5_row9_col4\" class=\"data row9 col4\" >01</td>\n",
       "    </tr>\n",
       "  </tbody>\n",
       "</table>\n"
      ],
      "text/plain": [
       "<pandas.io.formats.style.Styler at 0x18b23484b80>"
      ]
     },
     "execution_count": 3,
     "metadata": {},
     "output_type": "execute_result"
    }
   ],
   "source": [
    "df_t = pd.read_sql(sql, connection)\n",
    "df_t.style.format(format_dict)"
   ]
  },
  {
   "cell_type": "code",
   "execution_count": 4,
   "metadata": {},
   "outputs": [
    {
     "data": {
      "text/html": [
       "<style type=\"text/css\">\n",
       "</style>\n",
       "<table id=\"T_b416c_\">\n",
       "  <thead>\n",
       "    <tr>\n",
       "      <th class=\"blank level0\" >&nbsp;</th>\n",
       "      <th class=\"col_heading level0 col0\" >amount</th>\n",
       "    </tr>\n",
       "    <tr>\n",
       "      <th class=\"index_name level0\" >item</th>\n",
       "      <th class=\"blank col0\" >&nbsp;</th>\n",
       "    </tr>\n",
       "  </thead>\n",
       "  <tbody>\n",
       "    <tr>\n",
       "      <th id=\"T_b416c_level0_row0\" class=\"row_heading level0 row0\" >Food</th>\n",
       "      <td id=\"T_b416c_row0_col0\" class=\"data row0 col0\" >3,250</td>\n",
       "    </tr>\n",
       "    <tr>\n",
       "      <th id=\"T_b416c_level0_row1\" class=\"row_heading level0 row1\" >Medicine</th>\n",
       "      <td id=\"T_b416c_row1_col0\" class=\"data row1 col0\" >1,330</td>\n",
       "    </tr>\n",
       "    <tr>\n",
       "      <th id=\"T_b416c_level0_row2\" class=\"row_heading level0 row2\" >Mother</th>\n",
       "      <td id=\"T_b416c_row2_col0\" class=\"data row2 col0\" >4,120</td>\n",
       "    </tr>\n",
       "    <tr>\n",
       "      <th id=\"T_b416c_level0_row3\" class=\"row_heading level0 row3\" >Parent</th>\n",
       "      <td id=\"T_b416c_row3_col0\" class=\"data row3 col0\" >2,820</td>\n",
       "    </tr>\n",
       "    <tr>\n",
       "      <th id=\"T_b416c_level0_row4\" class=\"row_heading level0 row4\" >Pets</th>\n",
       "      <td id=\"T_b416c_row4_col0\" class=\"data row4 col0\" >8,120</td>\n",
       "    </tr>\n",
       "    <tr>\n",
       "      <th id=\"T_b416c_level0_row5\" class=\"row_heading level0 row5\" >Transportation</th>\n",
       "      <td id=\"T_b416c_row5_col0\" class=\"data row5 col0\" >350</td>\n",
       "    </tr>\n",
       "  </tbody>\n",
       "</table>\n"
      ],
      "text/plain": [
       "<pandas.io.formats.style.Styler at 0x18b26e2c430>"
      ]
     },
     "execution_count": 4,
     "metadata": {},
     "output_type": "execute_result"
    }
   ],
   "source": [
    "grouped = df_t.groupby(\"item\")\n",
    "grouped.sum().style.format(format_dict)"
   ]
  },
  {
   "cell_type": "code",
   "execution_count": 5,
   "metadata": {},
   "outputs": [
    {
     "data": {
      "text/html": [
       "<style type=\"text/css\">\n",
       "</style>\n",
       "<table id=\"T_be527_\">\n",
       "  <thead>\n",
       "    <tr>\n",
       "      <th class=\"blank level0\" >&nbsp;</th>\n",
       "      <th class=\"col_heading level0 col0\" >amount</th>\n",
       "    </tr>\n",
       "    <tr>\n",
       "      <th class=\"index_name level0\" >kind</th>\n",
       "      <th class=\"blank col0\" >&nbsp;</th>\n",
       "    </tr>\n",
       "  </thead>\n",
       "  <tbody>\n",
       "    <tr>\n",
       "      <th id=\"T_be527_level0_row0\" class=\"row_heading level0 row0\" >Food</th>\n",
       "      <td id=\"T_be527_row0_col0\" class=\"data row0 col0\" >3,250</td>\n",
       "    </tr>\n",
       "    <tr>\n",
       "      <th id=\"T_be527_level0_row1\" class=\"row_heading level0 row1\" >Medicine</th>\n",
       "      <td id=\"T_be527_row1_col0\" class=\"data row1 col0\" >1,330</td>\n",
       "    </tr>\n",
       "    <tr>\n",
       "      <th id=\"T_be527_level0_row2\" class=\"row_heading level0 row2\" >Parent</th>\n",
       "      <td id=\"T_be527_row2_col0\" class=\"data row2 col0\" >6,940</td>\n",
       "    </tr>\n",
       "    <tr>\n",
       "      <th id=\"T_be527_level0_row3\" class=\"row_heading level0 row3\" >Pets</th>\n",
       "      <td id=\"T_be527_row3_col0\" class=\"data row3 col0\" >8,120</td>\n",
       "    </tr>\n",
       "    <tr>\n",
       "      <th id=\"T_be527_level0_row4\" class=\"row_heading level0 row4\" >Transportation</th>\n",
       "      <td id=\"T_be527_row4_col0\" class=\"data row4 col0\" >350</td>\n",
       "    </tr>\n",
       "  </tbody>\n",
       "</table>\n"
      ],
      "text/plain": [
       "<pandas.io.formats.style.Styler at 0x18b26e2c850>"
      ]
     },
     "execution_count": 5,
     "metadata": {},
     "output_type": "execute_result"
    }
   ],
   "source": [
    "grouped = df_t.groupby(\"kind\")\n",
    "grouped.sum().style.format(format_dict)"
   ]
  },
  {
   "cell_type": "code",
   "execution_count": 6,
   "metadata": {},
   "outputs": [
    {
     "data": {
      "text/html": [
       "<style type=\"text/css\">\n",
       "</style>\n",
       "<table id=\"T_6195b_\">\n",
       "  <thead>\n",
       "    <tr>\n",
       "      <th class=\"blank level0\" >&nbsp;</th>\n",
       "      <th class=\"col_heading level0 col0\" >amount</th>\n",
       "    </tr>\n",
       "    <tr>\n",
       "      <th class=\"index_name level0\" >Month</th>\n",
       "      <th class=\"blank col0\" >&nbsp;</th>\n",
       "    </tr>\n",
       "  </thead>\n",
       "  <tbody>\n",
       "    <tr>\n",
       "      <th id=\"T_6195b_level0_row0\" class=\"row_heading level0 row0\" >01</th>\n",
       "      <td id=\"T_6195b_row0_col0\" class=\"data row0 col0\" >19,990</td>\n",
       "    </tr>\n",
       "  </tbody>\n",
       "</table>\n"
      ],
      "text/plain": [
       "<pandas.io.formats.style.Styler at 0x18b26ff8970>"
      ]
     },
     "execution_count": 6,
     "metadata": {},
     "output_type": "execute_result"
    }
   ],
   "source": [
    "monthly = df_t.groupby(\"Month\")\n",
    "monthly.sum().style.format(format_dict)"
   ]
  },
  {
   "cell_type": "code",
   "execution_count": 7,
   "metadata": {},
   "outputs": [
    {
     "data": {
      "text/plain": [
       "19990"
      ]
     },
     "execution_count": 7,
     "metadata": {},
     "output_type": "execute_result"
    }
   ],
   "source": [
    "expense = grouped.amount.sum()\n",
    "sum(expense)"
   ]
  }
 ],
 "metadata": {
  "anaconda-cloud": {},
  "kernelspec": {
   "display_name": "Python 3 (ipykernel)",
   "language": "python",
   "name": "python3"
  },
  "language_info": {
   "codemirror_mode": {
    "name": "ipython",
    "version": 3
   },
   "file_extension": ".py",
   "mimetype": "text/x-python",
   "name": "python",
   "nbconvert_exporter": "python",
   "pygments_lexer": "ipython3",
   "version": "3.8.11"
  }
 },
 "nbformat": 4,
 "nbformat_minor": 1
}
