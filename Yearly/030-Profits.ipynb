{
 "cells": [
  {
   "cell_type": "code",
   "execution_count": 1,
   "metadata": {},
   "outputs": [
    {
     "data": {
      "text/plain": [
       "datetime.date(2022, 1, 10)"
      ]
     },
     "execution_count": 1,
     "metadata": {},
     "output_type": "execute_result"
    }
   ],
   "source": [
    "import pandas as pd\n",
    "from datetime import date, timedelta\n",
    "from sqlalchemy import create_engine\n",
    "\n",
    "engine = create_engine('mysql+pymysql://root:@localhost:3306/portfolio_development')\n",
    "conpf = engine.connect()\n",
    "\n",
    "data_path = \"../data/\"\n",
    "csv_path = \"\\\\Users\\\\User\\\\iCloudDrive\\\\\"\n",
    "box_path = \"\\\\Users\\\\User\\\\Dropbox\\\\\"\n",
    "\n",
    "format_dict = {'qty':'{:,}',\n",
    "              'sell_price':'{:,.2f}','buy_price':'{:,.2f}','diff':'{:,.2f}',\n",
    "              'sell_amt':'{:,.2f}','buy_amt':'{:,.2f}','gross':'{:,.2f}',\n",
    "              'pct':'{:,.2f}','net':'{:,.2f}'}\n",
    "pd.set_option('display.float_format','{:,.2f}'.format)\n",
    "year = 2022\n",
    "refund = 0.00\n",
    "dividend = 0.00\n",
    "expense  = 20_000.00\n",
    "\n",
    "today = date.today()\n",
    "today"
   ]
  },
  {
   "cell_type": "markdown",
   "metadata": {},
   "source": [
    "### Restart and Run All Cells"
   ]
  },
  {
   "cell_type": "markdown",
   "metadata": {},
   "source": [
    "### Record selection for transactions"
   ]
  },
  {
   "cell_type": "code",
   "execution_count": 2,
   "metadata": {},
   "outputs": [
    {
     "name": "stdout",
     "output_type": "stream",
     "text": [
      "\n",
      "SELECT name, YEAR(sells.date) AS sell_year, MONTH(sells.date) AS sell_month, \n",
      "       YEAR(buys.date) AS buy_year, MONTH(buys.date) AS buy_month,\n",
      "       sells.price AS sell_price, buys.price AS buy_price, (sells.price - buys.price) AS diff, \n",
      "       qty, (sells.price * qty) AS sell_amt, (buys.price * qty) AS buy_amt, \n",
      "       (sells.price - buys.price) * qty AS gross, \n",
      "       ROUND((sells.price - buys.price)/buys.price*100,2) AS pct, profit AS net, buys.kind\n",
      "FROM sells JOIN buys ON sells.buy_id = buys.id\n",
      "JOIN stocks ON buys.stock_id = stocks.id\n",
      "WHERE YEAR(sells.date) = 2022\n",
      "ORDER BY sells.date DESC, name\n"
     ]
    }
   ],
   "source": [
    "sql = '''\n",
    "SELECT name, YEAR(sells.date) AS sell_year, MONTH(sells.date) AS sell_month, \n",
    "       YEAR(buys.date) AS buy_year, MONTH(buys.date) AS buy_month,\n",
    "       sells.price AS sell_price, buys.price AS buy_price, (sells.price - buys.price) AS diff, \n",
    "       qty, (sells.price * qty) AS sell_amt, (buys.price * qty) AS buy_amt, \n",
    "       (sells.price - buys.price) * qty AS gross, \n",
    "       ROUND((sells.price - buys.price)/buys.price*100,2) AS pct, profit AS net, buys.kind\n",
    "FROM sells JOIN buys ON sells.buy_id = buys.id\n",
    "JOIN stocks ON buys.stock_id = stocks.id\n",
    "WHERE YEAR(sells.date) = %s\n",
    "ORDER BY sells.date DESC, name'''\n",
    "sql = sql % year\n",
    "sells_df = pd.read_sql(sql, conpf)\n",
    "print(sql)"
   ]
  },
  {
   "cell_type": "code",
   "execution_count": 3,
   "metadata": {},
   "outputs": [
    {
     "data": {
      "text/html": [
       "<style type=\"text/css\">\n",
       "</style>\n",
       "<table id=\"T_3e292_\">\n",
       "  <thead>\n",
       "    <tr>\n",
       "      <th class=\"blank level0\" >&nbsp;</th>\n",
       "      <th class=\"col_heading level0 col0\" >name</th>\n",
       "      <th class=\"col_heading level0 col1\" >sell_year</th>\n",
       "      <th class=\"col_heading level0 col2\" >sell_month</th>\n",
       "      <th class=\"col_heading level0 col3\" >buy_year</th>\n",
       "      <th class=\"col_heading level0 col4\" >buy_month</th>\n",
       "      <th class=\"col_heading level0 col5\" >sell_price</th>\n",
       "      <th class=\"col_heading level0 col6\" >buy_price</th>\n",
       "      <th class=\"col_heading level0 col7\" >diff</th>\n",
       "      <th class=\"col_heading level0 col8\" >qty</th>\n",
       "      <th class=\"col_heading level0 col9\" >sell_amt</th>\n",
       "      <th class=\"col_heading level0 col10\" >buy_amt</th>\n",
       "      <th class=\"col_heading level0 col11\" >gross</th>\n",
       "      <th class=\"col_heading level0 col12\" >pct</th>\n",
       "      <th class=\"col_heading level0 col13\" >net</th>\n",
       "      <th class=\"col_heading level0 col14\" >kind</th>\n",
       "    </tr>\n",
       "  </thead>\n",
       "  <tbody>\n",
       "    <tr>\n",
       "      <th id=\"T_3e292_level0_row0\" class=\"row_heading level0 row0\" >0</th>\n",
       "      <td id=\"T_3e292_row0_col0\" class=\"data row0 col0\" >IMH</td>\n",
       "      <td id=\"T_3e292_row0_col1\" class=\"data row0 col1\" >2022</td>\n",
       "      <td id=\"T_3e292_row0_col2\" class=\"data row0 col2\" >1</td>\n",
       "      <td id=\"T_3e292_row0_col3\" class=\"data row0 col3\" >2021</td>\n",
       "      <td id=\"T_3e292_row0_col4\" class=\"data row0 col4\" >12</td>\n",
       "      <td id=\"T_3e292_row0_col5\" class=\"data row0 col5\" >16.80</td>\n",
       "      <td id=\"T_3e292_row0_col6\" class=\"data row0 col6\" >11.00</td>\n",
       "      <td id=\"T_3e292_row0_col7\" class=\"data row0 col7\" >5.80</td>\n",
       "      <td id=\"T_3e292_row0_col8\" class=\"data row0 col8\" >1,500</td>\n",
       "      <td id=\"T_3e292_row0_col9\" class=\"data row0 col9\" >25,200.00</td>\n",
       "      <td id=\"T_3e292_row0_col10\" class=\"data row0 col10\" >16,500.00</td>\n",
       "      <td id=\"T_3e292_row0_col11\" class=\"data row0 col11\" >8,700.00</td>\n",
       "      <td id=\"T_3e292_row0_col12\" class=\"data row0 col12\" >52.73</td>\n",
       "      <td id=\"T_3e292_row0_col13\" class=\"data row0 col13\" >8,607.64</td>\n",
       "      <td id=\"T_3e292_row0_col14\" class=\"data row0 col14\" >DTD</td>\n",
       "    </tr>\n",
       "    <tr>\n",
       "      <th id=\"T_3e292_level0_row1\" class=\"row_heading level0 row1\" >1</th>\n",
       "      <td id=\"T_3e292_row1_col0\" class=\"data row1 col0\" >IMH</td>\n",
       "      <td id=\"T_3e292_row1_col1\" class=\"data row1 col1\" >2022</td>\n",
       "      <td id=\"T_3e292_row1_col2\" class=\"data row1 col2\" >1</td>\n",
       "      <td id=\"T_3e292_row1_col3\" class=\"data row1 col3\" >2021</td>\n",
       "      <td id=\"T_3e292_row1_col4\" class=\"data row1 col4\" >12</td>\n",
       "      <td id=\"T_3e292_row1_col5\" class=\"data row1 col5\" >16.80</td>\n",
       "      <td id=\"T_3e292_row1_col6\" class=\"data row1 col6\" >11.00</td>\n",
       "      <td id=\"T_3e292_row1_col7\" class=\"data row1 col7\" >5.80</td>\n",
       "      <td id=\"T_3e292_row1_col8\" class=\"data row1 col8\" >1,500</td>\n",
       "      <td id=\"T_3e292_row1_col9\" class=\"data row1 col9\" >25,200.00</td>\n",
       "      <td id=\"T_3e292_row1_col10\" class=\"data row1 col10\" >16,500.00</td>\n",
       "      <td id=\"T_3e292_row1_col11\" class=\"data row1 col11\" >8,700.00</td>\n",
       "      <td id=\"T_3e292_row1_col12\" class=\"data row1 col12\" >52.73</td>\n",
       "      <td id=\"T_3e292_row1_col13\" class=\"data row1 col13\" >8,607.64</td>\n",
       "      <td id=\"T_3e292_row1_col14\" class=\"data row1 col14\" >DTD</td>\n",
       "    </tr>\n",
       "    <tr>\n",
       "      <th id=\"T_3e292_level0_row2\" class=\"row_heading level0 row2\" >2</th>\n",
       "      <td id=\"T_3e292_row2_col0\" class=\"data row2 col0\" >DCC</td>\n",
       "      <td id=\"T_3e292_row2_col1\" class=\"data row2 col1\" >2022</td>\n",
       "      <td id=\"T_3e292_row2_col2\" class=\"data row2 col2\" >1</td>\n",
       "      <td id=\"T_3e292_row2_col3\" class=\"data row2 col3\" >2021</td>\n",
       "      <td id=\"T_3e292_row2_col4\" class=\"data row2 col4\" >9</td>\n",
       "      <td id=\"T_3e292_row2_col5\" class=\"data row2 col5\" >3.00</td>\n",
       "      <td id=\"T_3e292_row2_col6\" class=\"data row2 col6\" >2.90</td>\n",
       "      <td id=\"T_3e292_row2_col7\" class=\"data row2 col7\" >0.10</td>\n",
       "      <td id=\"T_3e292_row2_col8\" class=\"data row2 col8\" >40,000</td>\n",
       "      <td id=\"T_3e292_row2_col9\" class=\"data row2 col9\" >120,000.00</td>\n",
       "      <td id=\"T_3e292_row2_col10\" class=\"data row2 col10\" >116,000.00</td>\n",
       "      <td id=\"T_3e292_row2_col11\" class=\"data row2 col11\" >4,000.00</td>\n",
       "      <td id=\"T_3e292_row2_col12\" class=\"data row2 col12\" >3.45</td>\n",
       "      <td id=\"T_3e292_row2_col13\" class=\"data row2 col13\" >3,477.28</td>\n",
       "      <td id=\"T_3e292_row2_col14\" class=\"data row2 col14\" >DTD</td>\n",
       "    </tr>\n",
       "    <tr>\n",
       "      <th id=\"T_3e292_level0_row3\" class=\"row_heading level0 row3\" >3</th>\n",
       "      <td id=\"T_3e292_row3_col0\" class=\"data row3 col0\" >EPG</td>\n",
       "      <td id=\"T_3e292_row3_col1\" class=\"data row3 col1\" >2022</td>\n",
       "      <td id=\"T_3e292_row3_col2\" class=\"data row3 col2\" >1</td>\n",
       "      <td id=\"T_3e292_row3_col3\" class=\"data row3 col3\" >2021</td>\n",
       "      <td id=\"T_3e292_row3_col4\" class=\"data row3 col4\" >9</td>\n",
       "      <td id=\"T_3e292_row3_col5\" class=\"data row3 col5\" >12.30</td>\n",
       "      <td id=\"T_3e292_row3_col6\" class=\"data row3 col6\" >11.20</td>\n",
       "      <td id=\"T_3e292_row3_col7\" class=\"data row3 col7\" >1.10</td>\n",
       "      <td id=\"T_3e292_row3_col8\" class=\"data row3 col8\" >2,000</td>\n",
       "      <td id=\"T_3e292_row3_col9\" class=\"data row3 col9\" >24,600.00</td>\n",
       "      <td id=\"T_3e292_row3_col10\" class=\"data row3 col10\" >22,400.00</td>\n",
       "      <td id=\"T_3e292_row3_col11\" class=\"data row3 col11\" >2,200.00</td>\n",
       "      <td id=\"T_3e292_row3_col12\" class=\"data row3 col12\" >9.82</td>\n",
       "      <td id=\"T_3e292_row3_col13\" class=\"data row3 col13\" >2,095.90</td>\n",
       "      <td id=\"T_3e292_row3_col14\" class=\"data row3 col14\" >DTD</td>\n",
       "    </tr>\n",
       "    <tr>\n",
       "      <th id=\"T_3e292_level0_row4\" class=\"row_heading level0 row4\" >4</th>\n",
       "      <td id=\"T_3e292_row4_col0\" class=\"data row4 col0\" >IVL</td>\n",
       "      <td id=\"T_3e292_row4_col1\" class=\"data row4 col1\" >2022</td>\n",
       "      <td id=\"T_3e292_row4_col2\" class=\"data row4 col2\" >1</td>\n",
       "      <td id=\"T_3e292_row4_col3\" class=\"data row4 col3\" >2021</td>\n",
       "      <td id=\"T_3e292_row4_col4\" class=\"data row4 col4\" >3</td>\n",
       "      <td id=\"T_3e292_row4_col5\" class=\"data row4 col5\" >44.50</td>\n",
       "      <td id=\"T_3e292_row4_col6\" class=\"data row4 col6\" >42.00</td>\n",
       "      <td id=\"T_3e292_row4_col7\" class=\"data row4 col7\" >2.50</td>\n",
       "      <td id=\"T_3e292_row4_col8\" class=\"data row4 col8\" >3,000</td>\n",
       "      <td id=\"T_3e292_row4_col9\" class=\"data row4 col9\" >133,500.00</td>\n",
       "      <td id=\"T_3e292_row4_col10\" class=\"data row4 col10\" >126,000.00</td>\n",
       "      <td id=\"T_3e292_row4_col11\" class=\"data row4 col11\" >7,500.00</td>\n",
       "      <td id=\"T_3e292_row4_col12\" class=\"data row4 col12\" >5.95</td>\n",
       "      <td id=\"T_3e292_row4_col13\" class=\"data row4 col13\" >6,925.23</td>\n",
       "      <td id=\"T_3e292_row4_col14\" class=\"data row4 col14\" >DTD</td>\n",
       "    </tr>\n",
       "  </tbody>\n",
       "</table>\n"
      ],
      "text/plain": [
       "<pandas.io.formats.style.Styler at 0x18ff8d28a00>"
      ]
     },
     "execution_count": 3,
     "metadata": {},
     "output_type": "execute_result"
    }
   ],
   "source": [
    "sells_df.style.format(format_dict)"
   ]
  },
  {
   "cell_type": "code",
   "execution_count": 4,
   "metadata": {},
   "outputs": [
    {
     "data": {
      "text/plain": [
       "sell_year  sell_month  buy_year  buy_month  name\n",
       "2022       1           2021      3          IVL     6,925.23\n",
       "                                 9          DCC     3,477.28\n",
       "                                            EPG     2,095.90\n",
       "                                 12         IMH    17,215.28\n",
       "Name: net, dtype: float64"
      ]
     },
     "execution_count": 4,
     "metadata": {},
     "output_type": "execute_result"
    }
   ],
   "source": [
    "sells_df.groupby(['sell_year','sell_month','buy_year','buy_month','name']).net.sum()"
   ]
  },
  {
   "cell_type": "code",
   "execution_count": 5,
   "metadata": {},
   "outputs": [],
   "source": [
    "file_name = 'ytd-profit.csv'\n",
    "data_file = data_path + file_name\n",
    "csv_file = csv_path + file_name\n",
    "box_file = box_path + file_name\n",
    "\n",
    "sells_df.groupby(['sell_year','sell_month','buy_year','buy_month','name']).net.sum().to_csv(csv_file)\n",
    "sells_df.groupby(['sell_year','sell_month','buy_year','buy_month','name']).net.sum().to_csv(data_file)\n",
    "sells_df.groupby(['sell_year','sell_month','buy_year','buy_month','name']).net.sum().to_csv(box_file)"
   ]
  },
  {
   "cell_type": "code",
   "execution_count": 6,
   "metadata": {
    "scrolled": true
   },
   "outputs": [
    {
     "data": {
      "text/plain": [
       "sell_month\n",
       "1   29,713.69\n",
       "Name: net, dtype: float64"
      ]
     },
     "execution_count": 6,
     "metadata": {},
     "output_type": "execute_result"
    }
   ],
   "source": [
    "sells_df.groupby(['sell_month']).net.sum()"
   ]
  },
  {
   "cell_type": "code",
   "execution_count": 7,
   "metadata": {},
   "outputs": [
    {
     "data": {
      "text/plain": [
       "(29713.69, 0.0, 29713.69)"
      ]
     },
     "execution_count": 7,
     "metadata": {},
     "output_type": "execute_result"
    }
   ],
   "source": [
    "profit = sells_df.net.sum()\n",
    "ttl_profit = profit + dividend\n",
    "profit,dividend,ttl_profit"
   ]
  },
  {
   "cell_type": "code",
   "execution_count": 8,
   "metadata": {},
   "outputs": [
    {
     "data": {
      "text/plain": [
       "(29713.69, 0.0, 20000.0, 9713.689999999999)"
      ]
     },
     "execution_count": 8,
     "metadata": {},
     "output_type": "execute_result"
    }
   ],
   "source": [
    "profit = sells_df.net.sum()\n",
    "net = profit + dividend - expense\n",
    "profit,dividend,expense, net"
   ]
  },
  {
   "cell_type": "markdown",
   "metadata": {},
   "source": [
    "### Bottom line of up to date transactions"
   ]
  },
  {
   "cell_type": "code",
   "execution_count": 9,
   "metadata": {},
   "outputs": [
    {
     "data": {
      "text/plain": [
       "9713.689999999999"
      ]
     },
     "execution_count": 9,
     "metadata": {},
     "output_type": "execute_result"
    }
   ],
   "source": [
    "total = refund + net\n",
    "total"
   ]
  },
  {
   "cell_type": "code",
   "execution_count": null,
   "metadata": {},
   "outputs": [],
   "source": []
  }
 ],
 "metadata": {
  "anaconda-cloud": {},
  "kernelspec": {
   "display_name": "Python 3 (ipykernel)",
   "language": "python",
   "name": "python3"
  },
  "language_info": {
   "codemirror_mode": {
    "name": "ipython",
    "version": 3
   },
   "file_extension": ".py",
   "mimetype": "text/x-python",
   "name": "python",
   "nbconvert_exporter": "python",
   "pygments_lexer": "ipython3",
   "version": "3.8.11"
  }
 },
 "nbformat": 4,
 "nbformat_minor": 1
}
