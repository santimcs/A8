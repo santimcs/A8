{
 "cells": [
  {
   "cell_type": "code",
   "execution_count": 1,
   "metadata": {},
   "outputs": [
    {
     "data": {
      "text/plain": [
       "datetime.date(2021, 12, 30)"
      ]
     },
     "execution_count": 1,
     "metadata": {},
     "output_type": "execute_result"
    }
   ],
   "source": [
    "import pandas as pd\n",
    "from datetime import date, timedelta\n",
    "from sqlalchemy import create_engine\n",
    "\n",
    "engine = create_engine('mysql+pymysql://root:@localhost:3306/portfolio_development')\n",
    "conpf = engine.connect()\n",
    "\n",
    "data_path = \"../data/\"\n",
    "csv_path = \"\\\\Users\\\\User\\\\iCloudDrive\\\\\"\n",
    "box_path = \"\\\\Users\\\\User\\\\Dropbox\\\\\"\n",
    "\n",
    "format_dict = {'qty':'{:,}',\n",
    "              'sell_price':'{:,.2f}','buy_price':'{:,.2f}','diff':'{:,.2f}',\n",
    "              'sell_amt':'{:,.2f}','buy_amt':'{:,.2f}','gross':'{:,.2f}',\n",
    "              'pct':'{:,.2f}','net':'{:,.2f}'}\n",
    "pd.set_option('display.float_format','{:,.2f}'.format)\n",
    "\n",
    "refund = 124690\n",
    "dividend = 700_000\n",
    "expense  = 660_000\n",
    "\n",
    "today = date.today()\n",
    "today"
   ]
  },
  {
   "cell_type": "markdown",
   "metadata": {},
   "source": [
    "### Restart and Run All Cells"
   ]
  },
  {
   "cell_type": "markdown",
   "metadata": {},
   "source": [
    "### Record selection for transactions"
   ]
  },
  {
   "cell_type": "code",
   "execution_count": 2,
   "metadata": {},
   "outputs": [
    {
     "name": "stdout",
     "output_type": "stream",
     "text": [
      "\n",
      "SELECT name, YEAR(sells.date) AS sell_year, MONTH(sells.date) AS sell_month, \n",
      "       YEAR(buys.date) AS buy_year, MONTH(buys.date) AS buy_month,\n",
      "       sells.price AS sell_price, buys.price AS buy_price, (sells.price - buys.price) AS diff, \n",
      "       qty, (sells.price * qty) AS sell_amt, (buys.price * qty) AS buy_amt, \n",
      "       (sells.price - buys.price) * qty AS gross, \n",
      "       ROUND((sells.price - buys.price)/buys.price*100,2) AS pct, profit AS net, buys.kind\n",
      "FROM sells JOIN buys ON sells.buy_id = buys.id\n",
      "JOIN stocks ON buys.stock_id = stocks.id\n",
      "WHERE YEAR(sells.date) = 2021\n",
      "ORDER BY sells.date DESC, name\n"
     ]
    }
   ],
   "source": [
    "sql = '''\n",
    "SELECT name, YEAR(sells.date) AS sell_year, MONTH(sells.date) AS sell_month, \n",
    "       YEAR(buys.date) AS buy_year, MONTH(buys.date) AS buy_month,\n",
    "       sells.price AS sell_price, buys.price AS buy_price, (sells.price - buys.price) AS diff, \n",
    "       qty, (sells.price * qty) AS sell_amt, (buys.price * qty) AS buy_amt, \n",
    "       (sells.price - buys.price) * qty AS gross, \n",
    "       ROUND((sells.price - buys.price)/buys.price*100,2) AS pct, profit AS net, buys.kind\n",
    "FROM sells JOIN buys ON sells.buy_id = buys.id\n",
    "JOIN stocks ON buys.stock_id = stocks.id\n",
    "WHERE YEAR(sells.date) = 2021\n",
    "ORDER BY sells.date DESC, name'''\n",
    "sells_df = pd.read_sql(sql, conpf)\n",
    "print(sql)"
   ]
  },
  {
   "cell_type": "code",
   "execution_count": 3,
   "metadata": {},
   "outputs": [
    {
     "data": {
      "text/html": [
       "<style type=\"text/css\">\n",
       "</style>\n",
       "<table id=\"T_05b01_\">\n",
       "  <thead>\n",
       "    <tr>\n",
       "      <th class=\"blank level0\" >&nbsp;</th>\n",
       "      <th class=\"col_heading level0 col0\" >name</th>\n",
       "      <th class=\"col_heading level0 col1\" >sell_year</th>\n",
       "      <th class=\"col_heading level0 col2\" >sell_month</th>\n",
       "      <th class=\"col_heading level0 col3\" >buy_year</th>\n",
       "      <th class=\"col_heading level0 col4\" >buy_month</th>\n",
       "      <th class=\"col_heading level0 col5\" >sell_price</th>\n",
       "      <th class=\"col_heading level0 col6\" >buy_price</th>\n",
       "      <th class=\"col_heading level0 col7\" >diff</th>\n",
       "      <th class=\"col_heading level0 col8\" >qty</th>\n",
       "      <th class=\"col_heading level0 col9\" >sell_amt</th>\n",
       "      <th class=\"col_heading level0 col10\" >buy_amt</th>\n",
       "      <th class=\"col_heading level0 col11\" >gross</th>\n",
       "      <th class=\"col_heading level0 col12\" >pct</th>\n",
       "      <th class=\"col_heading level0 col13\" >net</th>\n",
       "      <th class=\"col_heading level0 col14\" >kind</th>\n",
       "    </tr>\n",
       "  </thead>\n",
       "  <tbody>\n",
       "    <tr>\n",
       "      <th id=\"T_05b01_level0_row0\" class=\"row_heading level0 row0\" >0</th>\n",
       "      <td id=\"T_05b01_row0_col0\" class=\"data row0 col0\" >IMH</td>\n",
       "      <td id=\"T_05b01_row0_col1\" class=\"data row0 col1\" >2021</td>\n",
       "      <td id=\"T_05b01_row0_col2\" class=\"data row0 col2\" >12</td>\n",
       "      <td id=\"T_05b01_row0_col3\" class=\"data row0 col3\" >2021</td>\n",
       "      <td id=\"T_05b01_row0_col4\" class=\"data row0 col4\" >12</td>\n",
       "      <td id=\"T_05b01_row0_col5\" class=\"data row0 col5\" >12.60</td>\n",
       "      <td id=\"T_05b01_row0_col6\" class=\"data row0 col6\" >11.00</td>\n",
       "      <td id=\"T_05b01_row0_col7\" class=\"data row0 col7\" >1.60</td>\n",
       "      <td id=\"T_05b01_row0_col8\" class=\"data row0 col8\" >3,000</td>\n",
       "      <td id=\"T_05b01_row0_col9\" class=\"data row0 col9\" >37,800.00</td>\n",
       "      <td id=\"T_05b01_row0_col10\" class=\"data row0 col10\" >33,000.00</td>\n",
       "      <td id=\"T_05b01_row0_col11\" class=\"data row0 col11\" >4,800.00</td>\n",
       "      <td id=\"T_05b01_row0_col12\" class=\"data row0 col12\" >14.55</td>\n",
       "      <td id=\"T_05b01_row0_col13\" class=\"data row0 col13\" >4,643.18</td>\n",
       "      <td id=\"T_05b01_row0_col14\" class=\"data row0 col14\" >DTD</td>\n",
       "    </tr>\n",
       "    <tr>\n",
       "      <th id=\"T_05b01_level0_row1\" class=\"row_heading level0 row1\" >1</th>\n",
       "      <td id=\"T_05b01_row1_col0\" class=\"data row1 col0\" >PTTGC</td>\n",
       "      <td id=\"T_05b01_row1_col1\" class=\"data row1 col1\" >2021</td>\n",
       "      <td id=\"T_05b01_row1_col2\" class=\"data row1 col2\" >12</td>\n",
       "      <td id=\"T_05b01_row1_col3\" class=\"data row1 col3\" >2021</td>\n",
       "      <td id=\"T_05b01_row1_col4\" class=\"data row1 col4\" >4</td>\n",
       "      <td id=\"T_05b01_row1_col5\" class=\"data row1 col5\" >58.75</td>\n",
       "      <td id=\"T_05b01_row1_col6\" class=\"data row1 col6\" >66.75</td>\n",
       "      <td id=\"T_05b01_row1_col7\" class=\"data row1 col7\" >-8.00</td>\n",
       "      <td id=\"T_05b01_row1_col8\" class=\"data row1 col8\" >1,000</td>\n",
       "      <td id=\"T_05b01_row1_col9\" class=\"data row1 col9\" >58,750.00</td>\n",
       "      <td id=\"T_05b01_row1_col10\" class=\"data row1 col10\" >66,750.00</td>\n",
       "      <td id=\"T_05b01_row1_col11\" class=\"data row1 col11\" >-8,000.00</td>\n",
       "      <td id=\"T_05b01_row1_col12\" class=\"data row1 col12\" >-11.99</td>\n",
       "      <td id=\"T_05b01_row1_col13\" class=\"data row1 col13\" >-8,277.96</td>\n",
       "      <td id=\"T_05b01_row1_col14\" class=\"data row1 col14\" >DTD</td>\n",
       "    </tr>\n",
       "    <tr>\n",
       "      <th id=\"T_05b01_level0_row2\" class=\"row_heading level0 row2\" >2</th>\n",
       "      <td id=\"T_05b01_row2_col0\" class=\"data row2 col0\" >VNT</td>\n",
       "      <td id=\"T_05b01_row2_col1\" class=\"data row2 col1\" >2021</td>\n",
       "      <td id=\"T_05b01_row2_col2\" class=\"data row2 col2\" >12</td>\n",
       "      <td id=\"T_05b01_row2_col3\" class=\"data row2 col3\" >2021</td>\n",
       "      <td id=\"T_05b01_row2_col4\" class=\"data row2 col4\" >8</td>\n",
       "      <td id=\"T_05b01_row2_col5\" class=\"data row2 col5\" >38.50</td>\n",
       "      <td id=\"T_05b01_row2_col6\" class=\"data row2 col6\" >37.50</td>\n",
       "      <td id=\"T_05b01_row2_col7\" class=\"data row2 col7\" >1.00</td>\n",
       "      <td id=\"T_05b01_row2_col8\" class=\"data row2 col8\" >4,500</td>\n",
       "      <td id=\"T_05b01_row2_col9\" class=\"data row2 col9\" >173,250.00</td>\n",
       "      <td id=\"T_05b01_row2_col10\" class=\"data row2 col10\" >168,750.00</td>\n",
       "      <td id=\"T_05b01_row2_col11\" class=\"data row2 col11\" >4,500.00</td>\n",
       "      <td id=\"T_05b01_row2_col12\" class=\"data row2 col12\" >2.67</td>\n",
       "      <td id=\"T_05b01_row2_col13\" class=\"data row2 col13\" >3,742.51</td>\n",
       "      <td id=\"T_05b01_row2_col14\" class=\"data row2 col14\" >DTD</td>\n",
       "    </tr>\n",
       "    <tr>\n",
       "      <th id=\"T_05b01_level0_row3\" class=\"row_heading level0 row3\" >3</th>\n",
       "      <td id=\"T_05b01_row3_col0\" class=\"data row3 col0\" >KCE</td>\n",
       "      <td id=\"T_05b01_row3_col1\" class=\"data row3 col1\" >2021</td>\n",
       "      <td id=\"T_05b01_row3_col2\" class=\"data row3 col2\" >12</td>\n",
       "      <td id=\"T_05b01_row3_col3\" class=\"data row3 col3\" >2021</td>\n",
       "      <td id=\"T_05b01_row3_col4\" class=\"data row3 col4\" >12</td>\n",
       "      <td id=\"T_05b01_row3_col5\" class=\"data row3 col5\" >91.25</td>\n",
       "      <td id=\"T_05b01_row3_col6\" class=\"data row3 col6\" >87.00</td>\n",
       "      <td id=\"T_05b01_row3_col7\" class=\"data row3 col7\" >4.25</td>\n",
       "      <td id=\"T_05b01_row3_col8\" class=\"data row3 col8\" >1,000</td>\n",
       "      <td id=\"T_05b01_row3_col9\" class=\"data row3 col9\" >91,250.00</td>\n",
       "      <td id=\"T_05b01_row3_col10\" class=\"data row3 col10\" >87,000.00</td>\n",
       "      <td id=\"T_05b01_row3_col11\" class=\"data row3 col11\" >4,250.00</td>\n",
       "      <td id=\"T_05b01_row3_col12\" class=\"data row3 col12\" >4.89</td>\n",
       "      <td id=\"T_05b01_row3_col13\" class=\"data row3 col13\" >3,855.19</td>\n",
       "      <td id=\"T_05b01_row3_col14\" class=\"data row3 col14\" >DTD</td>\n",
       "    </tr>\n",
       "    <tr>\n",
       "      <th id=\"T_05b01_level0_row4\" class=\"row_heading level0 row4\" >4</th>\n",
       "      <td id=\"T_05b01_row4_col0\" class=\"data row4 col0\" >MCS</td>\n",
       "      <td id=\"T_05b01_row4_col1\" class=\"data row4 col1\" >2021</td>\n",
       "      <td id=\"T_05b01_row4_col2\" class=\"data row4 col2\" >12</td>\n",
       "      <td id=\"T_05b01_row4_col3\" class=\"data row4 col3\" >2016</td>\n",
       "      <td id=\"T_05b01_row4_col4\" class=\"data row4 col4\" >8</td>\n",
       "      <td id=\"T_05b01_row4_col5\" class=\"data row4 col5\" >14.70</td>\n",
       "      <td id=\"T_05b01_row4_col6\" class=\"data row4 col6\" >16.70</td>\n",
       "      <td id=\"T_05b01_row4_col7\" class=\"data row4 col7\" >-2.00</td>\n",
       "      <td id=\"T_05b01_row4_col8\" class=\"data row4 col8\" >10,000</td>\n",
       "      <td id=\"T_05b01_row4_col9\" class=\"data row4 col9\" >147,000.00</td>\n",
       "      <td id=\"T_05b01_row4_col10\" class=\"data row4 col10\" >167,000.00</td>\n",
       "      <td id=\"T_05b01_row4_col11\" class=\"data row4 col11\" >-20,000.00</td>\n",
       "      <td id=\"T_05b01_row4_col12\" class=\"data row4 col12\" >-11.98</td>\n",
       "      <td id=\"T_05b01_row4_col13\" class=\"data row4 col13\" >-20,695.48</td>\n",
       "      <td id=\"T_05b01_row4_col14\" class=\"data row4 col14\" >HD</td>\n",
       "    </tr>\n",
       "  </tbody>\n",
       "</table>\n"
      ],
      "text/plain": [
       "<pandas.io.formats.style.Styler at 0x26220ae1b80>"
      ]
     },
     "execution_count": 3,
     "metadata": {},
     "output_type": "execute_result"
    }
   ],
   "source": [
    "sells_df.head().style.format(format_dict)"
   ]
  },
  {
   "cell_type": "code",
   "execution_count": 4,
   "metadata": {},
   "outputs": [
    {
     "data": {
      "text/plain": [
       "sell_year  sell_month  buy_year  buy_month  name \n",
       "2021       1           2019      8          PTTEP   -38,446.55\n",
       "                       2020      4          KKP      26,592.67\n",
       "                                 8          SENA     25,560.10\n",
       "                                 12         AMATA     7,352.16\n",
       "                                            COM7     30,238.29\n",
       "                                                       ...    \n",
       "           12          2021      11         POPF     -2,513.85\n",
       "                                            RCL      10,917.59\n",
       "                                            SIS      19,706.79\n",
       "                                 12         IMH       4,643.18\n",
       "                                            KCE       3,855.19\n",
       "Name: net, Length: 178, dtype: float64"
      ]
     },
     "execution_count": 4,
     "metadata": {},
     "output_type": "execute_result"
    }
   ],
   "source": [
    "sells_df.groupby(['sell_year','sell_month','buy_year','buy_month','name']).net.sum()"
   ]
  },
  {
   "cell_type": "code",
   "execution_count": 5,
   "metadata": {},
   "outputs": [
    {
     "data": {
      "text/plain": [
       "('../data/ytd-profit.csv',\n",
       " '\\\\Users\\\\User\\\\iCloudDrive\\\\ytd-profit.csv',\n",
       " '\\\\Users\\\\User\\\\Dropbox\\\\ytd-profit.csv')"
      ]
     },
     "execution_count": 5,
     "metadata": {},
     "output_type": "execute_result"
    }
   ],
   "source": [
    "file_name = 'ytd-profit.csv'\n",
    "data_file = data_path + file_name\n",
    "csv_file = csv_path + file_name\n",
    "box_file = box_path + file_name\n",
    "data_file, csv_file, box_file"
   ]
  },
  {
   "cell_type": "code",
   "execution_count": 6,
   "metadata": {},
   "outputs": [],
   "source": [
    "sells_df.groupby(['sell_year','sell_month','buy_year','buy_month','name']).net.sum().to_csv(csv_file)\n",
    "sells_df.groupby(['sell_year','sell_month','buy_year','buy_month','name']).net.sum().to_csv(data_file)\n",
    "sells_df.groupby(['sell_year','sell_month','buy_year','buy_month','name']).net.sum().to_csv(box_file)"
   ]
  },
  {
   "cell_type": "code",
   "execution_count": 7,
   "metadata": {
    "scrolled": true
   },
   "outputs": [
    {
     "data": {
      "text/plain": [
       "sell_month\n",
       "1      51,296.67\n",
       "2     202,547.56\n",
       "3     -19,735.49\n",
       "4      65,267.16\n",
       "5      79,180.57\n",
       "6      14,606.32\n",
       "7    -102,107.17\n",
       "8      69,193.08\n",
       "9       1,544.44\n",
       "10    -10,446.93\n",
       "11    119,130.67\n",
       "12     65,786.40\n",
       "Name: net, dtype: float64"
      ]
     },
     "execution_count": 7,
     "metadata": {},
     "output_type": "execute_result"
    }
   ],
   "source": [
    "sells_df.groupby(['sell_month']).net.sum()"
   ]
  },
  {
   "cell_type": "code",
   "execution_count": 8,
   "metadata": {},
   "outputs": [
    {
     "data": {
      "text/plain": [
       "(536263.2799999999, 700000, 1236263.2799999998)"
      ]
     },
     "execution_count": 8,
     "metadata": {},
     "output_type": "execute_result"
    }
   ],
   "source": [
    "profit = sells_df.net.sum()\n",
    "ttl_profit = profit + dividend\n",
    "profit,dividend,ttl_profit"
   ]
  },
  {
   "cell_type": "code",
   "execution_count": 9,
   "metadata": {},
   "outputs": [
    {
     "data": {
      "text/plain": [
       "(660000, 700000, 536263.2799999999, 576263.2799999998)"
      ]
     },
     "execution_count": 9,
     "metadata": {},
     "output_type": "execute_result"
    }
   ],
   "source": [
    "profit = sells_df.net.sum()\n",
    "net = profit + dividend - expense\n",
    "expense,dividend,profit, net"
   ]
  },
  {
   "cell_type": "markdown",
   "metadata": {},
   "source": [
    "### Bottom line of up to date transactions"
   ]
  },
  {
   "cell_type": "code",
   "execution_count": 10,
   "metadata": {},
   "outputs": [
    {
     "data": {
      "text/plain": [
       "700953.2799999998"
      ]
     },
     "execution_count": 10,
     "metadata": {},
     "output_type": "execute_result"
    }
   ],
   "source": [
    "total = refund + net\n",
    "total"
   ]
  },
  {
   "cell_type": "code",
   "execution_count": null,
   "metadata": {},
   "outputs": [],
   "source": []
  }
 ],
 "metadata": {
  "anaconda-cloud": {},
  "kernelspec": {
   "display_name": "Python 3 (ipykernel)",
   "language": "python",
   "name": "python3"
  },
  "language_info": {
   "codemirror_mode": {
    "name": "ipython",
    "version": 3
   },
   "file_extension": ".py",
   "mimetype": "text/x-python",
   "name": "python",
   "nbconvert_exporter": "python",
   "pygments_lexer": "ipython3",
   "version": "3.8.11"
  }
 },
 "nbformat": 4,
 "nbformat_minor": 1
}
